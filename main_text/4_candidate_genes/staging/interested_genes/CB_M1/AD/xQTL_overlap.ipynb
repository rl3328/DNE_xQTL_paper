{
 "cells": [
  {
   "cell_type": "code",
   "execution_count": null,
   "id": "ee59e4f5-3df2-4006-8a55-98078e4063fc",
   "metadata": {},
   "outputs": [],
   "source": [
    "library(tidyverse)\n",
    "library(data.table)"
   ]
  },
  {
   "cell_type": "markdown",
   "id": "2eba7493-5f8f-4703-83f0-1ac38f4ac0ee",
   "metadata": {},
   "source": [
    "## single finemapping-eQTL"
   ]
  },
  {
   "cell_type": "code",
   "execution_count": 14,
   "id": "30ca7367-cdae-4be2-867a-b0461a1fa396",
   "metadata": {},
   "outputs": [
    {
     "data": {
      "text/html": [
       "'/home/ubuntu'"
      ],
      "text/latex": [
       "'/home/ubuntu'"
      ],
      "text/markdown": [
       "'/home/ubuntu'"
      ],
      "text/plain": [
       "[1] \"/home/ubuntu\""
      ]
     },
     "metadata": {},
     "output_type": "display_data"
    }
   ],
   "source": [
    "setwd(\"~/\")\n",
    "getwd()"
   ]
  },
  {
   "cell_type": "code",
   "execution_count": 12,
   "id": "c150d93e-78f3-4b57-ac04-c60240c42f88",
   "metadata": {},
   "outputs": [
    {
     "data": {
      "text/html": [
       "<table class=\"dataframe\">\n",
       "<caption>A data.table: 25 x 5</caption>\n",
       "<thead>\n",
       "\t<tr><th scope=col>Data_Type</th><th scope=col>Cohort</th><th scope=col>Modality</th><th scope=col>Method</th><th scope=col>Path</th></tr>\n",
       "\t<tr><th scope=col>&lt;chr&gt;</th><th scope=col>&lt;chr&gt;</th><th scope=col>&lt;chr&gt;</th><th scope=col>&lt;chr&gt;</th><th scope=col>&lt;chr&gt;</th></tr>\n",
       "</thead>\n",
       "<tbody>\n",
       "\t<tr><td>eQTL</td><td>ROSMAP</td><td>AC           </td><td>single_context_finemapping</td><td>data/analysis_result/single_context/ROSMAP_eQTL/export/summary/context_specific/AC_DeJager_eQTL.exported.toploci.bed.gz     </td></tr>\n",
       "\t<tr><td>eQTL</td><td>ROSMAP</td><td>Ast_10_Kellis</td><td>single_context_finemapping</td><td>data/analysis_result/single_context/ROSMAP_eQTL/export/summary/context_specific/Ast_10_Kellis_eQTL.exported.toploci.bed.gz  </td></tr>\n",
       "\t<tr><td>eQTL</td><td>ROSMAP</td><td>Ast_DeJager  </td><td>single_context_finemapping</td><td>data/analysis_result/single_context/ROSMAP_eQTL/export/summary/context_specific/Ast_DeJager_eQTL.exported.toploci.bed.gz    </td></tr>\n",
       "\t<tr><td>eQTL</td><td>ROSMAP</td><td>Ast_Kellis   </td><td>single_context_finemapping</td><td>data/analysis_result/single_context/ROSMAP_eQTL/export/summary/context_specific/Ast_Kellis_eQTL.exported.toploci.bed.gz     </td></tr>\n",
       "\t<tr><td>eQTL</td><td>ROSMAP</td><td>Ast_mega     </td><td>single_context_finemapping</td><td>data/analysis_result/single_context/ROSMAP_eQTL/export/summary/context_specific/Ast_mega_eQTL.exported.toploci.bed.gz       </td></tr>\n",
       "\t<tr><td>eQTL</td><td>ROSMAP</td><td>DLPFC        </td><td>single_context_finemapping</td><td>data/analysis_result/single_context/ROSMAP_eQTL/export/summary/context_specific/DLPFC_DeJager_eQTL.exported.toploci.bed.gz  </td></tr>\n",
       "\t<tr><td>eQTL</td><td>ROSMAP</td><td>Exc_DeJager  </td><td>single_context_finemapping</td><td>data/analysis_result/single_context/ROSMAP_eQTL/export/summary/context_specific/Exc_DeJager_eQTL.exported.toploci.bed.gz    </td></tr>\n",
       "\t<tr><td>eQTL</td><td>ROSMAP</td><td>Exc_Kellis   </td><td>single_context_finemapping</td><td>data/analysis_result/single_context/ROSMAP_eQTL/export/summary/context_specific/Exc_Kellis_eQTL.exported.toploci.bed.gz     </td></tr>\n",
       "\t<tr><td>eQTL</td><td>ROSMAP</td><td>Exc_mega     </td><td>single_context_finemapping</td><td>data/analysis_result/single_context/ROSMAP_eQTL/export/summary/context_specific/Exc_mega_eQTL.exported.toploci.bed.gz       </td></tr>\n",
       "\t<tr><td>eQTL</td><td>ROSMAP</td><td>Inh_DeJager  </td><td>single_context_finemapping</td><td>data/analysis_result/single_context/ROSMAP_eQTL/export/summary/context_specific/Inh_DeJager_eQTL.exported.toploci.bed.gz    </td></tr>\n",
       "\t<tr><td>eQTL</td><td>ROSMAP</td><td>Inh_Kellis   </td><td>single_context_finemapping</td><td>data/analysis_result/single_context/ROSMAP_eQTL/export/summary/context_specific/Inh_Kellis_eQTL.exported.toploci.bed.gz     </td></tr>\n",
       "\t<tr><td>eQTL</td><td>ROSMAP</td><td>Inh_mega     </td><td>single_context_finemapping</td><td>data/analysis_result/single_context/ROSMAP_eQTL/export/summary/context_specific/Inh_mega_eQTL.exported.toploci.bed.gz       </td></tr>\n",
       "\t<tr><td>eQTL</td><td>ROSMAP</td><td>Mic_12_Kellis</td><td>single_context_finemapping</td><td>data/analysis_result/single_context/ROSMAP_eQTL/export/summary/context_specific/Mic_12_Kellis_eQTL.exported.toploci.bed.gz  </td></tr>\n",
       "\t<tr><td>eQTL</td><td>ROSMAP</td><td>Mic_13_Kellis</td><td>single_context_finemapping</td><td>data/analysis_result/single_context/ROSMAP_eQTL/export/summary/context_specific/Mic_13_Kellis_eQTL.exported.toploci.bed.gz  </td></tr>\n",
       "\t<tr><td>eQTL</td><td>ROSMAP</td><td>Mic_DeJager  </td><td>single_context_finemapping</td><td>data/analysis_result/single_context/ROSMAP_eQTL/export/summary/context_specific/Mic_DeJager_eQTL.exported.toploci.bed.gz    </td></tr>\n",
       "\t<tr><td>eQTL</td><td>ROSMAP</td><td>Mic_Kellis   </td><td>single_context_finemapping</td><td>data/analysis_result/single_context/ROSMAP_eQTL/export/summary/context_specific/Mic_Kellis_eQTL.exported.toploci.bed.gz     </td></tr>\n",
       "\t<tr><td>eQTL</td><td>ROSMAP</td><td>Mic_mega     </td><td>single_context_finemapping</td><td>data/analysis_result/single_context/ROSMAP_eQTL/export/summary/context_specific/Mic_mega_eQTL.exported.toploci.bed.gz       </td></tr>\n",
       "\t<tr><td>eQTL</td><td>ROSMAP</td><td>OPC_DeJager  </td><td>single_context_finemapping</td><td>data/analysis_result/single_context/ROSMAP_eQTL/export/summary/context_specific/OPC_DeJager_eQTL.exported.toploci.bed.gz    </td></tr>\n",
       "\t<tr><td>eQTL</td><td>ROSMAP</td><td>OPC_Kellis   </td><td>single_context_finemapping</td><td>data/analysis_result/single_context/ROSMAP_eQTL/export/summary/context_specific/OPC_Kellis_eQTL.exported.toploci.bed.gz     </td></tr>\n",
       "\t<tr><td>eQTL</td><td>ROSMAP</td><td>OPC_mega     </td><td>single_context_finemapping</td><td>data/analysis_result/single_context/ROSMAP_eQTL/export/summary/context_specific/OPC_mega_eQTL.exported.toploci.bed.gz       </td></tr>\n",
       "\t<tr><td>eQTL</td><td>ROSMAP</td><td>Oli_DeJager  </td><td>single_context_finemapping</td><td>data/analysis_result/single_context/ROSMAP_eQTL/export/summary/context_specific/Oli_DeJager_eQTL.exported.toploci.bed.gz    </td></tr>\n",
       "\t<tr><td>eQTL</td><td>ROSMAP</td><td>Oli_Kellis   </td><td>single_context_finemapping</td><td>data/analysis_result/single_context/ROSMAP_eQTL/export/summary/context_specific/Oli_Kellis_eQTL.exported.toploci.bed.gz     </td></tr>\n",
       "\t<tr><td>eQTL</td><td>ROSMAP</td><td>Oli_mega     </td><td>single_context_finemapping</td><td>data/analysis_result/single_context/ROSMAP_eQTL/export/summary/context_specific/Oli_mega_eQTL.exported.toploci.bed.gz       </td></tr>\n",
       "\t<tr><td>eQTL</td><td>ROSMAP</td><td>PCC          </td><td>single_context_finemapping</td><td>data/analysis_result/single_context/ROSMAP_eQTL/export/summary/context_specific/PCC_DeJager_eQTL.exported.toploci.bed.gz    </td></tr>\n",
       "\t<tr><td>eQTL</td><td>ROSMAP</td><td>monocyte     </td><td>single_context_finemapping</td><td>data/analysis_result/single_context/ROSMAP_pQTL/export/summary/context_specific/monocyte_ROSMAP_eQTL.exported.toploci.bed.gz</td></tr>\n",
       "</tbody>\n",
       "</table>\n"
      ],
      "text/latex": [
       "A data.table: 25 x 5\n",
       "\\begin{tabular}{lllll}\n",
       " Data\\_Type & Cohort & Modality & Method & Path\\\\\n",
       " <chr> & <chr> & <chr> & <chr> & <chr>\\\\\n",
       "\\hline\n",
       "\t eQTL & ROSMAP & AC            & single\\_context\\_finemapping & data/analysis\\_result/single\\_context/ROSMAP\\_eQTL/export/summary/context\\_specific/AC\\_DeJager\\_eQTL.exported.toploci.bed.gz     \\\\\n",
       "\t eQTL & ROSMAP & Ast\\_10\\_Kellis & single\\_context\\_finemapping & data/analysis\\_result/single\\_context/ROSMAP\\_eQTL/export/summary/context\\_specific/Ast\\_10\\_Kellis\\_eQTL.exported.toploci.bed.gz  \\\\\n",
       "\t eQTL & ROSMAP & Ast\\_DeJager   & single\\_context\\_finemapping & data/analysis\\_result/single\\_context/ROSMAP\\_eQTL/export/summary/context\\_specific/Ast\\_DeJager\\_eQTL.exported.toploci.bed.gz    \\\\\n",
       "\t eQTL & ROSMAP & Ast\\_Kellis    & single\\_context\\_finemapping & data/analysis\\_result/single\\_context/ROSMAP\\_eQTL/export/summary/context\\_specific/Ast\\_Kellis\\_eQTL.exported.toploci.bed.gz     \\\\\n",
       "\t eQTL & ROSMAP & Ast\\_mega      & single\\_context\\_finemapping & data/analysis\\_result/single\\_context/ROSMAP\\_eQTL/export/summary/context\\_specific/Ast\\_mega\\_eQTL.exported.toploci.bed.gz       \\\\\n",
       "\t eQTL & ROSMAP & DLPFC         & single\\_context\\_finemapping & data/analysis\\_result/single\\_context/ROSMAP\\_eQTL/export/summary/context\\_specific/DLPFC\\_DeJager\\_eQTL.exported.toploci.bed.gz  \\\\\n",
       "\t eQTL & ROSMAP & Exc\\_DeJager   & single\\_context\\_finemapping & data/analysis\\_result/single\\_context/ROSMAP\\_eQTL/export/summary/context\\_specific/Exc\\_DeJager\\_eQTL.exported.toploci.bed.gz    \\\\\n",
       "\t eQTL & ROSMAP & Exc\\_Kellis    & single\\_context\\_finemapping & data/analysis\\_result/single\\_context/ROSMAP\\_eQTL/export/summary/context\\_specific/Exc\\_Kellis\\_eQTL.exported.toploci.bed.gz     \\\\\n",
       "\t eQTL & ROSMAP & Exc\\_mega      & single\\_context\\_finemapping & data/analysis\\_result/single\\_context/ROSMAP\\_eQTL/export/summary/context\\_specific/Exc\\_mega\\_eQTL.exported.toploci.bed.gz       \\\\\n",
       "\t eQTL & ROSMAP & Inh\\_DeJager   & single\\_context\\_finemapping & data/analysis\\_result/single\\_context/ROSMAP\\_eQTL/export/summary/context\\_specific/Inh\\_DeJager\\_eQTL.exported.toploci.bed.gz    \\\\\n",
       "\t eQTL & ROSMAP & Inh\\_Kellis    & single\\_context\\_finemapping & data/analysis\\_result/single\\_context/ROSMAP\\_eQTL/export/summary/context\\_specific/Inh\\_Kellis\\_eQTL.exported.toploci.bed.gz     \\\\\n",
       "\t eQTL & ROSMAP & Inh\\_mega      & single\\_context\\_finemapping & data/analysis\\_result/single\\_context/ROSMAP\\_eQTL/export/summary/context\\_specific/Inh\\_mega\\_eQTL.exported.toploci.bed.gz       \\\\\n",
       "\t eQTL & ROSMAP & Mic\\_12\\_Kellis & single\\_context\\_finemapping & data/analysis\\_result/single\\_context/ROSMAP\\_eQTL/export/summary/context\\_specific/Mic\\_12\\_Kellis\\_eQTL.exported.toploci.bed.gz  \\\\\n",
       "\t eQTL & ROSMAP & Mic\\_13\\_Kellis & single\\_context\\_finemapping & data/analysis\\_result/single\\_context/ROSMAP\\_eQTL/export/summary/context\\_specific/Mic\\_13\\_Kellis\\_eQTL.exported.toploci.bed.gz  \\\\\n",
       "\t eQTL & ROSMAP & Mic\\_DeJager   & single\\_context\\_finemapping & data/analysis\\_result/single\\_context/ROSMAP\\_eQTL/export/summary/context\\_specific/Mic\\_DeJager\\_eQTL.exported.toploci.bed.gz    \\\\\n",
       "\t eQTL & ROSMAP & Mic\\_Kellis    & single\\_context\\_finemapping & data/analysis\\_result/single\\_context/ROSMAP\\_eQTL/export/summary/context\\_specific/Mic\\_Kellis\\_eQTL.exported.toploci.bed.gz     \\\\\n",
       "\t eQTL & ROSMAP & Mic\\_mega      & single\\_context\\_finemapping & data/analysis\\_result/single\\_context/ROSMAP\\_eQTL/export/summary/context\\_specific/Mic\\_mega\\_eQTL.exported.toploci.bed.gz       \\\\\n",
       "\t eQTL & ROSMAP & OPC\\_DeJager   & single\\_context\\_finemapping & data/analysis\\_result/single\\_context/ROSMAP\\_eQTL/export/summary/context\\_specific/OPC\\_DeJager\\_eQTL.exported.toploci.bed.gz    \\\\\n",
       "\t eQTL & ROSMAP & OPC\\_Kellis    & single\\_context\\_finemapping & data/analysis\\_result/single\\_context/ROSMAP\\_eQTL/export/summary/context\\_specific/OPC\\_Kellis\\_eQTL.exported.toploci.bed.gz     \\\\\n",
       "\t eQTL & ROSMAP & OPC\\_mega      & single\\_context\\_finemapping & data/analysis\\_result/single\\_context/ROSMAP\\_eQTL/export/summary/context\\_specific/OPC\\_mega\\_eQTL.exported.toploci.bed.gz       \\\\\n",
       "\t eQTL & ROSMAP & Oli\\_DeJager   & single\\_context\\_finemapping & data/analysis\\_result/single\\_context/ROSMAP\\_eQTL/export/summary/context\\_specific/Oli\\_DeJager\\_eQTL.exported.toploci.bed.gz    \\\\\n",
       "\t eQTL & ROSMAP & Oli\\_Kellis    & single\\_context\\_finemapping & data/analysis\\_result/single\\_context/ROSMAP\\_eQTL/export/summary/context\\_specific/Oli\\_Kellis\\_eQTL.exported.toploci.bed.gz     \\\\\n",
       "\t eQTL & ROSMAP & Oli\\_mega      & single\\_context\\_finemapping & data/analysis\\_result/single\\_context/ROSMAP\\_eQTL/export/summary/context\\_specific/Oli\\_mega\\_eQTL.exported.toploci.bed.gz       \\\\\n",
       "\t eQTL & ROSMAP & PCC           & single\\_context\\_finemapping & data/analysis\\_result/single\\_context/ROSMAP\\_eQTL/export/summary/context\\_specific/PCC\\_DeJager\\_eQTL.exported.toploci.bed.gz    \\\\\n",
       "\t eQTL & ROSMAP & monocyte      & single\\_context\\_finemapping & data/analysis\\_result/single\\_context/ROSMAP\\_pQTL/export/summary/context\\_specific/monocyte\\_ROSMAP\\_eQTL.exported.toploci.bed.gz\\\\\n",
       "\\end{tabular}\n"
      ],
      "text/markdown": [
       "\n",
       "A data.table: 25 x 5\n",
       "\n",
       "| Data_Type &lt;chr&gt; | Cohort &lt;chr&gt; | Modality &lt;chr&gt; | Method &lt;chr&gt; | Path &lt;chr&gt; |\n",
       "|---|---|---|---|---|\n",
       "| eQTL | ROSMAP | AC            | single_context_finemapping | data/analysis_result/single_context/ROSMAP_eQTL/export/summary/context_specific/AC_DeJager_eQTL.exported.toploci.bed.gz      |\n",
       "| eQTL | ROSMAP | Ast_10_Kellis | single_context_finemapping | data/analysis_result/single_context/ROSMAP_eQTL/export/summary/context_specific/Ast_10_Kellis_eQTL.exported.toploci.bed.gz   |\n",
       "| eQTL | ROSMAP | Ast_DeJager   | single_context_finemapping | data/analysis_result/single_context/ROSMAP_eQTL/export/summary/context_specific/Ast_DeJager_eQTL.exported.toploci.bed.gz     |\n",
       "| eQTL | ROSMAP | Ast_Kellis    | single_context_finemapping | data/analysis_result/single_context/ROSMAP_eQTL/export/summary/context_specific/Ast_Kellis_eQTL.exported.toploci.bed.gz      |\n",
       "| eQTL | ROSMAP | Ast_mega      | single_context_finemapping | data/analysis_result/single_context/ROSMAP_eQTL/export/summary/context_specific/Ast_mega_eQTL.exported.toploci.bed.gz        |\n",
       "| eQTL | ROSMAP | DLPFC         | single_context_finemapping | data/analysis_result/single_context/ROSMAP_eQTL/export/summary/context_specific/DLPFC_DeJager_eQTL.exported.toploci.bed.gz   |\n",
       "| eQTL | ROSMAP | Exc_DeJager   | single_context_finemapping | data/analysis_result/single_context/ROSMAP_eQTL/export/summary/context_specific/Exc_DeJager_eQTL.exported.toploci.bed.gz     |\n",
       "| eQTL | ROSMAP | Exc_Kellis    | single_context_finemapping | data/analysis_result/single_context/ROSMAP_eQTL/export/summary/context_specific/Exc_Kellis_eQTL.exported.toploci.bed.gz      |\n",
       "| eQTL | ROSMAP | Exc_mega      | single_context_finemapping | data/analysis_result/single_context/ROSMAP_eQTL/export/summary/context_specific/Exc_mega_eQTL.exported.toploci.bed.gz        |\n",
       "| eQTL | ROSMAP | Inh_DeJager   | single_context_finemapping | data/analysis_result/single_context/ROSMAP_eQTL/export/summary/context_specific/Inh_DeJager_eQTL.exported.toploci.bed.gz     |\n",
       "| eQTL | ROSMAP | Inh_Kellis    | single_context_finemapping | data/analysis_result/single_context/ROSMAP_eQTL/export/summary/context_specific/Inh_Kellis_eQTL.exported.toploci.bed.gz      |\n",
       "| eQTL | ROSMAP | Inh_mega      | single_context_finemapping | data/analysis_result/single_context/ROSMAP_eQTL/export/summary/context_specific/Inh_mega_eQTL.exported.toploci.bed.gz        |\n",
       "| eQTL | ROSMAP | Mic_12_Kellis | single_context_finemapping | data/analysis_result/single_context/ROSMAP_eQTL/export/summary/context_specific/Mic_12_Kellis_eQTL.exported.toploci.bed.gz   |\n",
       "| eQTL | ROSMAP | Mic_13_Kellis | single_context_finemapping | data/analysis_result/single_context/ROSMAP_eQTL/export/summary/context_specific/Mic_13_Kellis_eQTL.exported.toploci.bed.gz   |\n",
       "| eQTL | ROSMAP | Mic_DeJager   | single_context_finemapping | data/analysis_result/single_context/ROSMAP_eQTL/export/summary/context_specific/Mic_DeJager_eQTL.exported.toploci.bed.gz     |\n",
       "| eQTL | ROSMAP | Mic_Kellis    | single_context_finemapping | data/analysis_result/single_context/ROSMAP_eQTL/export/summary/context_specific/Mic_Kellis_eQTL.exported.toploci.bed.gz      |\n",
       "| eQTL | ROSMAP | Mic_mega      | single_context_finemapping | data/analysis_result/single_context/ROSMAP_eQTL/export/summary/context_specific/Mic_mega_eQTL.exported.toploci.bed.gz        |\n",
       "| eQTL | ROSMAP | OPC_DeJager   | single_context_finemapping | data/analysis_result/single_context/ROSMAP_eQTL/export/summary/context_specific/OPC_DeJager_eQTL.exported.toploci.bed.gz     |\n",
       "| eQTL | ROSMAP | OPC_Kellis    | single_context_finemapping | data/analysis_result/single_context/ROSMAP_eQTL/export/summary/context_specific/OPC_Kellis_eQTL.exported.toploci.bed.gz      |\n",
       "| eQTL | ROSMAP | OPC_mega      | single_context_finemapping | data/analysis_result/single_context/ROSMAP_eQTL/export/summary/context_specific/OPC_mega_eQTL.exported.toploci.bed.gz        |\n",
       "| eQTL | ROSMAP | Oli_DeJager   | single_context_finemapping | data/analysis_result/single_context/ROSMAP_eQTL/export/summary/context_specific/Oli_DeJager_eQTL.exported.toploci.bed.gz     |\n",
       "| eQTL | ROSMAP | Oli_Kellis    | single_context_finemapping | data/analysis_result/single_context/ROSMAP_eQTL/export/summary/context_specific/Oli_Kellis_eQTL.exported.toploci.bed.gz      |\n",
       "| eQTL | ROSMAP | Oli_mega      | single_context_finemapping | data/analysis_result/single_context/ROSMAP_eQTL/export/summary/context_specific/Oli_mega_eQTL.exported.toploci.bed.gz        |\n",
       "| eQTL | ROSMAP | PCC           | single_context_finemapping | data/analysis_result/single_context/ROSMAP_eQTL/export/summary/context_specific/PCC_DeJager_eQTL.exported.toploci.bed.gz     |\n",
       "| eQTL | ROSMAP | monocyte      | single_context_finemapping | data/analysis_result/single_context/ROSMAP_pQTL/export/summary/context_specific/monocyte_ROSMAP_eQTL.exported.toploci.bed.gz |\n",
       "\n"
      ],
      "text/plain": [
       "   Data_Type Cohort Modality      Method                    \n",
       "1  eQTL      ROSMAP AC            single_context_finemapping\n",
       "2  eQTL      ROSMAP Ast_10_Kellis single_context_finemapping\n",
       "3  eQTL      ROSMAP Ast_DeJager   single_context_finemapping\n",
       "4  eQTL      ROSMAP Ast_Kellis    single_context_finemapping\n",
       "5  eQTL      ROSMAP Ast_mega      single_context_finemapping\n",
       "6  eQTL      ROSMAP DLPFC         single_context_finemapping\n",
       "7  eQTL      ROSMAP Exc_DeJager   single_context_finemapping\n",
       "8  eQTL      ROSMAP Exc_Kellis    single_context_finemapping\n",
       "9  eQTL      ROSMAP Exc_mega      single_context_finemapping\n",
       "10 eQTL      ROSMAP Inh_DeJager   single_context_finemapping\n",
       "11 eQTL      ROSMAP Inh_Kellis    single_context_finemapping\n",
       "12 eQTL      ROSMAP Inh_mega      single_context_finemapping\n",
       "13 eQTL      ROSMAP Mic_12_Kellis single_context_finemapping\n",
       "14 eQTL      ROSMAP Mic_13_Kellis single_context_finemapping\n",
       "15 eQTL      ROSMAP Mic_DeJager   single_context_finemapping\n",
       "16 eQTL      ROSMAP Mic_Kellis    single_context_finemapping\n",
       "17 eQTL      ROSMAP Mic_mega      single_context_finemapping\n",
       "18 eQTL      ROSMAP OPC_DeJager   single_context_finemapping\n",
       "19 eQTL      ROSMAP OPC_Kellis    single_context_finemapping\n",
       "20 eQTL      ROSMAP OPC_mega      single_context_finemapping\n",
       "21 eQTL      ROSMAP Oli_DeJager   single_context_finemapping\n",
       "22 eQTL      ROSMAP Oli_Kellis    single_context_finemapping\n",
       "23 eQTL      ROSMAP Oli_mega      single_context_finemapping\n",
       "24 eQTL      ROSMAP PCC           single_context_finemapping\n",
       "25 eQTL      ROSMAP monocyte      single_context_finemapping\n",
       "   Path                                                                                                                        \n",
       "1  data/analysis_result/single_context/ROSMAP_eQTL/export/summary/context_specific/AC_DeJager_eQTL.exported.toploci.bed.gz     \n",
       "2  data/analysis_result/single_context/ROSMAP_eQTL/export/summary/context_specific/Ast_10_Kellis_eQTL.exported.toploci.bed.gz  \n",
       "3  data/analysis_result/single_context/ROSMAP_eQTL/export/summary/context_specific/Ast_DeJager_eQTL.exported.toploci.bed.gz    \n",
       "4  data/analysis_result/single_context/ROSMAP_eQTL/export/summary/context_specific/Ast_Kellis_eQTL.exported.toploci.bed.gz     \n",
       "5  data/analysis_result/single_context/ROSMAP_eQTL/export/summary/context_specific/Ast_mega_eQTL.exported.toploci.bed.gz       \n",
       "6  data/analysis_result/single_context/ROSMAP_eQTL/export/summary/context_specific/DLPFC_DeJager_eQTL.exported.toploci.bed.gz  \n",
       "7  data/analysis_result/single_context/ROSMAP_eQTL/export/summary/context_specific/Exc_DeJager_eQTL.exported.toploci.bed.gz    \n",
       "8  data/analysis_result/single_context/ROSMAP_eQTL/export/summary/context_specific/Exc_Kellis_eQTL.exported.toploci.bed.gz     \n",
       "9  data/analysis_result/single_context/ROSMAP_eQTL/export/summary/context_specific/Exc_mega_eQTL.exported.toploci.bed.gz       \n",
       "10 data/analysis_result/single_context/ROSMAP_eQTL/export/summary/context_specific/Inh_DeJager_eQTL.exported.toploci.bed.gz    \n",
       "11 data/analysis_result/single_context/ROSMAP_eQTL/export/summary/context_specific/Inh_Kellis_eQTL.exported.toploci.bed.gz     \n",
       "12 data/analysis_result/single_context/ROSMAP_eQTL/export/summary/context_specific/Inh_mega_eQTL.exported.toploci.bed.gz       \n",
       "13 data/analysis_result/single_context/ROSMAP_eQTL/export/summary/context_specific/Mic_12_Kellis_eQTL.exported.toploci.bed.gz  \n",
       "14 data/analysis_result/single_context/ROSMAP_eQTL/export/summary/context_specific/Mic_13_Kellis_eQTL.exported.toploci.bed.gz  \n",
       "15 data/analysis_result/single_context/ROSMAP_eQTL/export/summary/context_specific/Mic_DeJager_eQTL.exported.toploci.bed.gz    \n",
       "16 data/analysis_result/single_context/ROSMAP_eQTL/export/summary/context_specific/Mic_Kellis_eQTL.exported.toploci.bed.gz     \n",
       "17 data/analysis_result/single_context/ROSMAP_eQTL/export/summary/context_specific/Mic_mega_eQTL.exported.toploci.bed.gz       \n",
       "18 data/analysis_result/single_context/ROSMAP_eQTL/export/summary/context_specific/OPC_DeJager_eQTL.exported.toploci.bed.gz    \n",
       "19 data/analysis_result/single_context/ROSMAP_eQTL/export/summary/context_specific/OPC_Kellis_eQTL.exported.toploci.bed.gz     \n",
       "20 data/analysis_result/single_context/ROSMAP_eQTL/export/summary/context_specific/OPC_mega_eQTL.exported.toploci.bed.gz       \n",
       "21 data/analysis_result/single_context/ROSMAP_eQTL/export/summary/context_specific/Oli_DeJager_eQTL.exported.toploci.bed.gz    \n",
       "22 data/analysis_result/single_context/ROSMAP_eQTL/export/summary/context_specific/Oli_Kellis_eQTL.exported.toploci.bed.gz     \n",
       "23 data/analysis_result/single_context/ROSMAP_eQTL/export/summary/context_specific/Oli_mega_eQTL.exported.toploci.bed.gz       \n",
       "24 data/analysis_result/single_context/ROSMAP_eQTL/export/summary/context_specific/PCC_DeJager_eQTL.exported.toploci.bed.gz    \n",
       "25 data/analysis_result/single_context/ROSMAP_pQTL/export/summary/context_specific/monocyte_ROSMAP_eQTL.exported.toploci.bed.gz"
      ]
     },
     "metadata": {},
     "output_type": "display_data"
    }
   ],
   "source": [
    "meta_file = fread(\"~/project/image_QTL/DNE_cb_explained_by_xQTL/xQTL_top_loci.tsv\")\n",
    "meta_file = meta_file |> filter(Data_Type == \"eQTL\" & Cohort == \"ROSMAP\" & Method == \"single_context_finemapping\")\n",
    "meta_file"
   ]
  },
  {
   "cell_type": "code",
   "execution_count": 15,
   "id": "14f01169-5422-43c1-9320-384aeaf44507",
   "metadata": {},
   "outputs": [
    {
     "data": {
      "text/html": [
       "<table class=\"dataframe\">\n",
       "<caption>A tibble: 6 x 17</caption>\n",
       "<thead>\n",
       "\t<tr><th scope=col>#chr</th><th scope=col>start</th><th scope=col>end</th><th scope=col>a1</th><th scope=col>a2</th><th scope=col>variant_ID</th><th scope=col>gene_ID</th><th scope=col>event_ID</th><th scope=col>cs_coverage_0.95</th><th scope=col>cs_coverage_0.7</th><th scope=col>cs_coverage_0.5</th><th scope=col>PIP</th><th scope=col>conditional_effect</th><th scope=col>Cohort</th><th scope=col>Data_Type</th><th scope=col>Modality</th><th scope=col>Cohort_Data_Type_Modality</th></tr>\n",
       "\t<tr><th scope=col>&lt;dbl&gt;</th><th scope=col>&lt;dbl&gt;</th><th scope=col>&lt;dbl&gt;</th><th scope=col>&lt;chr&gt;</th><th scope=col>&lt;chr&gt;</th><th scope=col>&lt;chr&gt;</th><th scope=col>&lt;chr&gt;</th><th scope=col>&lt;chr&gt;</th><th scope=col>&lt;dbl&gt;</th><th scope=col>&lt;dbl&gt;</th><th scope=col>&lt;dbl&gt;</th><th scope=col>&lt;dbl&gt;</th><th scope=col>&lt;dbl&gt;</th><th scope=col>&lt;chr&gt;</th><th scope=col>&lt;chr&gt;</th><th scope=col>&lt;chr&gt;</th><th scope=col>&lt;chr&gt;</th></tr>\n",
       "</thead>\n",
       "<tbody>\n",
       "\t<tr><td>1</td><td> 99088</td><td> 99089</td><td>*</td><td>TTTC                     </td><td>chr1:99089:TTTC:*                      </td><td>ENSG00000196581</td><td>AC_DeJager_eQTL_ENSG00000196581</td><td>0</td><td>0</td><td>0</td><td>0.14741504</td><td> 0.3104743</td><td>ROSMAP</td><td>eQTL</td><td>AC</td><td>ROSMAP_eQTL_AC</td></tr>\n",
       "\t<tr><td>1</td><td>600805</td><td>600806</td><td>C</td><td>G                        </td><td>chr1:600806:G:C                        </td><td>ENSG00000198912</td><td>AC_DeJager_eQTL_ENSG00000198912</td><td>0</td><td>0</td><td>0</td><td>0.23786542</td><td>-1.0948060</td><td>ROSMAP</td><td>eQTL</td><td>AC</td><td>ROSMAP_eQTL_AC</td></tr>\n",
       "\t<tr><td>1</td><td>602262</td><td>602263</td><td>*</td><td>ATCC                     </td><td>chr1:602263:ATCC:*                     </td><td>ENSG00000187730</td><td>AC_DeJager_eQTL_ENSG00000187730</td><td>0</td><td>0</td><td>0</td><td>0.03324526</td><td> 0.3465442</td><td>ROSMAP</td><td>eQTL</td><td>AC</td><td>ROSMAP_eQTL_AC</td></tr>\n",
       "\t<tr><td>1</td><td>602277</td><td>602278</td><td>*</td><td>TCCCTCTCCTTTCTCCTCTCTAGCC</td><td>chr1:602278:TCCCTCTCCTTTCTCCTCTCTAGCC:*</td><td>ENSG00000187730</td><td>AC_DeJager_eQTL_ENSG00000187730</td><td>0</td><td>0</td><td>0</td><td>0.07769440</td><td> 0.3721831</td><td>ROSMAP</td><td>eQTL</td><td>AC</td><td>ROSMAP_eQTL_AC</td></tr>\n",
       "\t<tr><td>1</td><td>610727</td><td>610728</td><td>T</td><td>C                        </td><td>chr1:610728:C:T                        </td><td>ENSG00000127054</td><td>AC_DeJager_eQTL_ENSG00000127054</td><td>0</td><td>0</td><td>0</td><td>0.04314056</td><td>-0.4321317</td><td>ROSMAP</td><td>eQTL</td><td>AC</td><td>ROSMAP_eQTL_AC</td></tr>\n",
       "\t<tr><td>1</td><td>618361</td><td>618362</td><td>A</td><td>G                        </td><td>chr1:618362:G:A                        </td><td>ENSG00000196581</td><td>AC_DeJager_eQTL_ENSG00000196581</td><td>0</td><td>0</td><td>0</td><td>0.02578836</td><td>-0.0710322</td><td>ROSMAP</td><td>eQTL</td><td>AC</td><td>ROSMAP_eQTL_AC</td></tr>\n",
       "</tbody>\n",
       "</table>\n"
      ],
      "text/latex": [
       "A tibble: 6 x 17\n",
       "\\begin{tabular}{lllllllllllllllll}\n",
       " \\#chr & start & end & a1 & a2 & variant\\_ID & gene\\_ID & event\\_ID & cs\\_coverage\\_0.95 & cs\\_coverage\\_0.7 & cs\\_coverage\\_0.5 & PIP & conditional\\_effect & Cohort & Data\\_Type & Modality & Cohort\\_Data\\_Type\\_Modality\\\\\n",
       " <dbl> & <dbl> & <dbl> & <chr> & <chr> & <chr> & <chr> & <chr> & <dbl> & <dbl> & <dbl> & <dbl> & <dbl> & <chr> & <chr> & <chr> & <chr>\\\\\n",
       "\\hline\n",
       "\t 1 &  99088 &  99089 & * & TTTC                      & chr1:99089:TTTC:*                       & ENSG00000196581 & AC\\_DeJager\\_eQTL\\_ENSG00000196581 & 0 & 0 & 0 & 0.14741504 &  0.3104743 & ROSMAP & eQTL & AC & ROSMAP\\_eQTL\\_AC\\\\\n",
       "\t 1 & 600805 & 600806 & C & G                         & chr1:600806:G:C                         & ENSG00000198912 & AC\\_DeJager\\_eQTL\\_ENSG00000198912 & 0 & 0 & 0 & 0.23786542 & -1.0948060 & ROSMAP & eQTL & AC & ROSMAP\\_eQTL\\_AC\\\\\n",
       "\t 1 & 602262 & 602263 & * & ATCC                      & chr1:602263:ATCC:*                      & ENSG00000187730 & AC\\_DeJager\\_eQTL\\_ENSG00000187730 & 0 & 0 & 0 & 0.03324526 &  0.3465442 & ROSMAP & eQTL & AC & ROSMAP\\_eQTL\\_AC\\\\\n",
       "\t 1 & 602277 & 602278 & * & TCCCTCTCCTTTCTCCTCTCTAGCC & chr1:602278:TCCCTCTCCTTTCTCCTCTCTAGCC:* & ENSG00000187730 & AC\\_DeJager\\_eQTL\\_ENSG00000187730 & 0 & 0 & 0 & 0.07769440 &  0.3721831 & ROSMAP & eQTL & AC & ROSMAP\\_eQTL\\_AC\\\\\n",
       "\t 1 & 610727 & 610728 & T & C                         & chr1:610728:C:T                         & ENSG00000127054 & AC\\_DeJager\\_eQTL\\_ENSG00000127054 & 0 & 0 & 0 & 0.04314056 & -0.4321317 & ROSMAP & eQTL & AC & ROSMAP\\_eQTL\\_AC\\\\\n",
       "\t 1 & 618361 & 618362 & A & G                         & chr1:618362:G:A                         & ENSG00000196581 & AC\\_DeJager\\_eQTL\\_ENSG00000196581 & 0 & 0 & 0 & 0.02578836 & -0.0710322 & ROSMAP & eQTL & AC & ROSMAP\\_eQTL\\_AC\\\\\n",
       "\\end{tabular}\n"
      ],
      "text/markdown": [
       "\n",
       "A tibble: 6 x 17\n",
       "\n",
       "| #chr &lt;dbl&gt; | start &lt;dbl&gt; | end &lt;dbl&gt; | a1 &lt;chr&gt; | a2 &lt;chr&gt; | variant_ID &lt;chr&gt; | gene_ID &lt;chr&gt; | event_ID &lt;chr&gt; | cs_coverage_0.95 &lt;dbl&gt; | cs_coverage_0.7 &lt;dbl&gt; | cs_coverage_0.5 &lt;dbl&gt; | PIP &lt;dbl&gt; | conditional_effect &lt;dbl&gt; | Cohort &lt;chr&gt; | Data_Type &lt;chr&gt; | Modality &lt;chr&gt; | Cohort_Data_Type_Modality &lt;chr&gt; |\n",
       "|---|---|---|---|---|---|---|---|---|---|---|---|---|---|---|---|---|\n",
       "| 1 |  99088 |  99089 | * | TTTC                      | chr1:99089:TTTC:*                       | ENSG00000196581 | AC_DeJager_eQTL_ENSG00000196581 | 0 | 0 | 0 | 0.14741504 |  0.3104743 | ROSMAP | eQTL | AC | ROSMAP_eQTL_AC |\n",
       "| 1 | 600805 | 600806 | C | G                         | chr1:600806:G:C                         | ENSG00000198912 | AC_DeJager_eQTL_ENSG00000198912 | 0 | 0 | 0 | 0.23786542 | -1.0948060 | ROSMAP | eQTL | AC | ROSMAP_eQTL_AC |\n",
       "| 1 | 602262 | 602263 | * | ATCC                      | chr1:602263:ATCC:*                      | ENSG00000187730 | AC_DeJager_eQTL_ENSG00000187730 | 0 | 0 | 0 | 0.03324526 |  0.3465442 | ROSMAP | eQTL | AC | ROSMAP_eQTL_AC |\n",
       "| 1 | 602277 | 602278 | * | TCCCTCTCCTTTCTCCTCTCTAGCC | chr1:602278:TCCCTCTCCTTTCTCCTCTCTAGCC:* | ENSG00000187730 | AC_DeJager_eQTL_ENSG00000187730 | 0 | 0 | 0 | 0.07769440 |  0.3721831 | ROSMAP | eQTL | AC | ROSMAP_eQTL_AC |\n",
       "| 1 | 610727 | 610728 | T | C                         | chr1:610728:C:T                         | ENSG00000127054 | AC_DeJager_eQTL_ENSG00000127054 | 0 | 0 | 0 | 0.04314056 | -0.4321317 | ROSMAP | eQTL | AC | ROSMAP_eQTL_AC |\n",
       "| 1 | 618361 | 618362 | A | G                         | chr1:618362:G:A                         | ENSG00000196581 | AC_DeJager_eQTL_ENSG00000196581 | 0 | 0 | 0 | 0.02578836 | -0.0710322 | ROSMAP | eQTL | AC | ROSMAP_eQTL_AC |\n",
       "\n"
      ],
      "text/plain": [
       "  #chr start  end    a1 a2                       \n",
       "1 1     99088  99089 *  TTTC                     \n",
       "2 1    600805 600806 C  G                        \n",
       "3 1    602262 602263 *  ATCC                     \n",
       "4 1    602277 602278 *  TCCCTCTCCTTTCTCCTCTCTAGCC\n",
       "5 1    610727 610728 T  C                        \n",
       "6 1    618361 618362 A  G                        \n",
       "  variant_ID                              gene_ID        \n",
       "1 chr1:99089:TTTC:*                       ENSG00000196581\n",
       "2 chr1:600806:G:C                         ENSG00000198912\n",
       "3 chr1:602263:ATCC:*                      ENSG00000187730\n",
       "4 chr1:602278:TCCCTCTCCTTTCTCCTCTCTAGCC:* ENSG00000187730\n",
       "5 chr1:610728:C:T                         ENSG00000127054\n",
       "6 chr1:618362:G:A                         ENSG00000196581\n",
       "  event_ID                        cs_coverage_0.95 cs_coverage_0.7\n",
       "1 AC_DeJager_eQTL_ENSG00000196581 0                0              \n",
       "2 AC_DeJager_eQTL_ENSG00000198912 0                0              \n",
       "3 AC_DeJager_eQTL_ENSG00000187730 0                0              \n",
       "4 AC_DeJager_eQTL_ENSG00000187730 0                0              \n",
       "5 AC_DeJager_eQTL_ENSG00000127054 0                0              \n",
       "6 AC_DeJager_eQTL_ENSG00000196581 0                0              \n",
       "  cs_coverage_0.5 PIP        conditional_effect Cohort Data_Type Modality\n",
       "1 0               0.14741504  0.3104743         ROSMAP eQTL      AC      \n",
       "2 0               0.23786542 -1.0948060         ROSMAP eQTL      AC      \n",
       "3 0               0.03324526  0.3465442         ROSMAP eQTL      AC      \n",
       "4 0               0.07769440  0.3721831         ROSMAP eQTL      AC      \n",
       "5 0               0.04314056 -0.4321317         ROSMAP eQTL      AC      \n",
       "6 0               0.02578836 -0.0710322         ROSMAP eQTL      AC      \n",
       "  Cohort_Data_Type_Modality\n",
       "1 ROSMAP_eQTL_AC           \n",
       "2 ROSMAP_eQTL_AC           \n",
       "3 ROSMAP_eQTL_AC           \n",
       "4 ROSMAP_eQTL_AC           \n",
       "5 ROSMAP_eQTL_AC           \n",
       "6 ROSMAP_eQTL_AC           "
      ]
     },
     "metadata": {},
     "output_type": "display_data"
    }
   ],
   "source": [
    "# Assuming your meta_file dataframe is already loaded\n",
    "# If not, you'd need to recreate it from your data\n",
    "\n",
    "# Create a function to read a single file and add identifiers\n",
    "read_topolci_file <- function(path, cohort, data_type, modality) {\n",
    "  # Read the file - assuming tab-delimited with gzip compression\n",
    "  data <- read_tsv(path, show_col_types = FALSE)\n",
    "  \n",
    "  # Add identifier columns\n",
    "  data$Cohort <- cohort\n",
    "  data$Data_Type <- data_type\n",
    "  data$Modality <- modality\n",
    "  \n",
    "  # Create combined identifier\n",
    "  data$Cohort_Data_Type_Modality <- paste(cohort, data_type, modality, sep = \"_\")\n",
    "  \n",
    "  return(data)\n",
    "}\n",
    "\n",
    "# Apply the function to each row in the meta_file\n",
    "combined_data <- pmap_dfr(\n",
    "  list(\n",
    "    path = meta_file$Path,\n",
    "    cohort = meta_file$Cohort,\n",
    "    data_type = meta_file$Data_Type,\n",
    "    modality = meta_file$Modality\n",
    "  ),\n",
    "  read_topolci_file\n",
    ")\n",
    "\n",
    "# Save the combined dataset if needed\n",
    "#fwrite(combined_data, \"combined_top_loci_data.tsv\")\n",
    "\n",
    "# Preview the result\n",
    "head(combined_data)"
   ]
  },
  {
   "cell_type": "markdown",
   "id": "17408405-3ddb-48e1-bbeb-42b9475bc1a6",
   "metadata": {},
   "source": [
    "## ColocBoost"
   ]
  },
  {
   "cell_type": "code",
   "execution_count": 6,
   "id": "6b4ed8a5-54bf-46a1-8c1a-4a69dfbf86a7",
   "metadata": {},
   "outputs": [],
   "source": [
    "all_cb = fread(\"~/project/image_QTL/interested_genes/CB_M1/Image_AD_aging_PD_meta_colocboost_export_filtered_ucos.bed\")"
   ]
  },
  {
   "cell_type": "code",
   "execution_count": 7,
   "id": "68877d47-a208-4a18-a48a-417b2cca34f6",
   "metadata": {},
   "outputs": [
    {
     "data": {
      "text/html": [
       "<table class=\"dataframe\">\n",
       "<caption>A data.table: 6 x 14</caption>\n",
       "<thead>\n",
       "\t<tr><th scope=col>#chr</th><th scope=col>start</th><th scope=col>end</th><th scope=col>a1</th><th scope=col>a2</th><th scope=col>variant_ID</th><th scope=col>region_ID</th><th scope=col>event_ID</th><th scope=col>cos_ID</th><th scope=col>vcp</th><th scope=col>cos_npc</th><th scope=col>min_npc_outcome</th><th scope=col>coef</th><th scope=col>z</th></tr>\n",
       "\t<tr><th scope=col>&lt;chr&gt;</th><th scope=col>&lt;int&gt;</th><th scope=col>&lt;int&gt;</th><th scope=col>&lt;chr&gt;</th><th scope=col>&lt;chr&gt;</th><th scope=col>&lt;chr&gt;</th><th scope=col>&lt;chr&gt;</th><th scope=col>&lt;chr&gt;</th><th scope=col>&lt;chr&gt;</th><th scope=col>&lt;dbl&gt;</th><th scope=col>&lt;dbl&gt;</th><th scope=col>&lt;dbl&gt;</th><th scope=col>&lt;chr&gt;</th><th scope=col>&lt;chr&gt;</th></tr>\n",
       "</thead>\n",
       "<tbody>\n",
       "\t<tr><td>chr1</td><td>161189357</td><td>161189357</td><td>T</td><td>C</td><td>chr1:161189357:C:T</td><td>chr1_158933969_162352348</td><td>AD_Bellenguez; AD_Wightman_Excluding23andMe_2021        </td><td>chr1_158933969_162352348:cos1:y7_y10 </td><td>0.148633848</td><td>1</td><td>1</td><td>-0.00237822429413167;-0.00126943889431771</td><td>-5.66666666666667;-5.39920492844837</td></tr>\n",
       "\t<tr><td>chr1</td><td>161215268</td><td>161215268</td><td>T</td><td>G</td><td>chr1:161215268:G:T</td><td>chr1_158933969_162352348</td><td>AD_Bellenguez; AD_Wightman_Excluding23andMe_2021        </td><td>chr1_158933969_162352348:cos1:y7_y10 </td><td>0.213683842</td><td>1</td><td>1</td><td>-0.00314917325108774;-0.0015555119117074 </td><td>-5.72826086956522;-5.44139840072206</td></tr>\n",
       "\t<tr><td>chr1</td><td>161217875</td><td>161217875</td><td>T</td><td>C</td><td>chr1:161217875:C:T</td><td>chr1_158933969_162352348</td><td>AD_Bellenguez; AD_Wightman_Excluding23andMe_2021        </td><td>chr1_158933969_162352348:cos1:y7_y10 </td><td>0.630037093</td><td>1</td><td>1</td><td>-0.0035129752975932;-0.00589550094118934 </td><td>-5.71276595744681;-5.78719041195195</td></tr>\n",
       "\t<tr><td>chr1</td><td>200905600</td><td>200905600</td><td>G</td><td>A</td><td>chr1:200905600:A:G</td><td>chr1_200496446_202852808</td><td>AD_Wightman_Full_2021; AD_Wightman_Excluding23andMe_2021</td><td>chr1_200496446_202852808:cos1:y10_y11</td><td>0.007671881</td><td>1</td><td>1</td><td>9.234320806912e-05;0.000139149039132946  </td><td>4.53950141738719;4.29121674501588  </td></tr>\n",
       "\t<tr><td>chr1</td><td>200905967</td><td>200905967</td><td>C</td><td>T</td><td>chr1:200905967:T:C</td><td>chr1_200496446_202852808</td><td>AD_Wightman_Full_2021; AD_Wightman_Excluding23andMe_2021</td><td>chr1_200496446_202852808:cos1:y10_y11</td><td>0.008368034</td><td>1</td><td>1</td><td>0.000104268954830228;0.000138364785535695</td><td>4.58025882916672;4.28441576043348  </td></tr>\n",
       "\t<tr><td>chr1</td><td>200906114</td><td>200906114</td><td>A</td><td>T</td><td>chr1:200906114:T:A</td><td>chr1_200496446_202852808</td><td>AD_Wightman_Full_2021; AD_Wightman_Excluding23andMe_2021</td><td>chr1_200496446_202852808:cos1:y10_y11</td><td>0.008713429</td><td>1</td><td>1</td><td>0.000107208760913441;0.000142027094052532</td><td>4.58984897079625;4.29387534466063  </td></tr>\n",
       "</tbody>\n",
       "</table>\n"
      ],
      "text/latex": [
       "A data.table: 6 x 14\n",
       "\\begin{tabular}{llllllllllllll}\n",
       " \\#chr & start & end & a1 & a2 & variant\\_ID & region\\_ID & event\\_ID & cos\\_ID & vcp & cos\\_npc & min\\_npc\\_outcome & coef & z\\\\\n",
       " <chr> & <int> & <int> & <chr> & <chr> & <chr> & <chr> & <chr> & <chr> & <dbl> & <dbl> & <dbl> & <chr> & <chr>\\\\\n",
       "\\hline\n",
       "\t chr1 & 161189357 & 161189357 & T & C & chr1:161189357:C:T & chr1\\_158933969\\_162352348 & AD\\_Bellenguez; AD\\_Wightman\\_Excluding23andMe\\_2021         & chr1\\_158933969\\_162352348:cos1:y7\\_y10  & 0.148633848 & 1 & 1 & -0.00237822429413167;-0.00126943889431771 & -5.66666666666667;-5.39920492844837\\\\\n",
       "\t chr1 & 161215268 & 161215268 & T & G & chr1:161215268:G:T & chr1\\_158933969\\_162352348 & AD\\_Bellenguez; AD\\_Wightman\\_Excluding23andMe\\_2021         & chr1\\_158933969\\_162352348:cos1:y7\\_y10  & 0.213683842 & 1 & 1 & -0.00314917325108774;-0.0015555119117074  & -5.72826086956522;-5.44139840072206\\\\\n",
       "\t chr1 & 161217875 & 161217875 & T & C & chr1:161217875:C:T & chr1\\_158933969\\_162352348 & AD\\_Bellenguez; AD\\_Wightman\\_Excluding23andMe\\_2021         & chr1\\_158933969\\_162352348:cos1:y7\\_y10  & 0.630037093 & 1 & 1 & -0.0035129752975932;-0.00589550094118934  & -5.71276595744681;-5.78719041195195\\\\\n",
       "\t chr1 & 200905600 & 200905600 & G & A & chr1:200905600:A:G & chr1\\_200496446\\_202852808 & AD\\_Wightman\\_Full\\_2021; AD\\_Wightman\\_Excluding23andMe\\_2021 & chr1\\_200496446\\_202852808:cos1:y10\\_y11 & 0.007671881 & 1 & 1 & 9.234320806912e-05;0.000139149039132946   & 4.53950141738719;4.29121674501588  \\\\\n",
       "\t chr1 & 200905967 & 200905967 & C & T & chr1:200905967:T:C & chr1\\_200496446\\_202852808 & AD\\_Wightman\\_Full\\_2021; AD\\_Wightman\\_Excluding23andMe\\_2021 & chr1\\_200496446\\_202852808:cos1:y10\\_y11 & 0.008368034 & 1 & 1 & 0.000104268954830228;0.000138364785535695 & 4.58025882916672;4.28441576043348  \\\\\n",
       "\t chr1 & 200906114 & 200906114 & A & T & chr1:200906114:T:A & chr1\\_200496446\\_202852808 & AD\\_Wightman\\_Full\\_2021; AD\\_Wightman\\_Excluding23andMe\\_2021 & chr1\\_200496446\\_202852808:cos1:y10\\_y11 & 0.008713429 & 1 & 1 & 0.000107208760913441;0.000142027094052532 & 4.58984897079625;4.29387534466063  \\\\\n",
       "\\end{tabular}\n"
      ],
      "text/markdown": [
       "\n",
       "A data.table: 6 x 14\n",
       "\n",
       "| #chr &lt;chr&gt; | start &lt;int&gt; | end &lt;int&gt; | a1 &lt;chr&gt; | a2 &lt;chr&gt; | variant_ID &lt;chr&gt; | region_ID &lt;chr&gt; | event_ID &lt;chr&gt; | cos_ID &lt;chr&gt; | vcp &lt;dbl&gt; | cos_npc &lt;dbl&gt; | min_npc_outcome &lt;dbl&gt; | coef &lt;chr&gt; | z &lt;chr&gt; |\n",
       "|---|---|---|---|---|---|---|---|---|---|---|---|---|---|\n",
       "| chr1 | 161189357 | 161189357 | T | C | chr1:161189357:C:T | chr1_158933969_162352348 | AD_Bellenguez; AD_Wightman_Excluding23andMe_2021         | chr1_158933969_162352348:cos1:y7_y10  | 0.148633848 | 1 | 1 | -0.00237822429413167;-0.00126943889431771 | -5.66666666666667;-5.39920492844837 |\n",
       "| chr1 | 161215268 | 161215268 | T | G | chr1:161215268:G:T | chr1_158933969_162352348 | AD_Bellenguez; AD_Wightman_Excluding23andMe_2021         | chr1_158933969_162352348:cos1:y7_y10  | 0.213683842 | 1 | 1 | -0.00314917325108774;-0.0015555119117074  | -5.72826086956522;-5.44139840072206 |\n",
       "| chr1 | 161217875 | 161217875 | T | C | chr1:161217875:C:T | chr1_158933969_162352348 | AD_Bellenguez; AD_Wightman_Excluding23andMe_2021         | chr1_158933969_162352348:cos1:y7_y10  | 0.630037093 | 1 | 1 | -0.0035129752975932;-0.00589550094118934  | -5.71276595744681;-5.78719041195195 |\n",
       "| chr1 | 200905600 | 200905600 | G | A | chr1:200905600:A:G | chr1_200496446_202852808 | AD_Wightman_Full_2021; AD_Wightman_Excluding23andMe_2021 | chr1_200496446_202852808:cos1:y10_y11 | 0.007671881 | 1 | 1 | 9.234320806912e-05;0.000139149039132946   | 4.53950141738719;4.29121674501588   |\n",
       "| chr1 | 200905967 | 200905967 | C | T | chr1:200905967:T:C | chr1_200496446_202852808 | AD_Wightman_Full_2021; AD_Wightman_Excluding23andMe_2021 | chr1_200496446_202852808:cos1:y10_y11 | 0.008368034 | 1 | 1 | 0.000104268954830228;0.000138364785535695 | 4.58025882916672;4.28441576043348   |\n",
       "| chr1 | 200906114 | 200906114 | A | T | chr1:200906114:T:A | chr1_200496446_202852808 | AD_Wightman_Full_2021; AD_Wightman_Excluding23andMe_2021 | chr1_200496446_202852808:cos1:y10_y11 | 0.008713429 | 1 | 1 | 0.000107208760913441;0.000142027094052532 | 4.58984897079625;4.29387534466063   |\n",
       "\n"
      ],
      "text/plain": [
       "  #chr start     end       a1 a2 variant_ID         region_ID               \n",
       "1 chr1 161189357 161189357 T  C  chr1:161189357:C:T chr1_158933969_162352348\n",
       "2 chr1 161215268 161215268 T  G  chr1:161215268:G:T chr1_158933969_162352348\n",
       "3 chr1 161217875 161217875 T  C  chr1:161217875:C:T chr1_158933969_162352348\n",
       "4 chr1 200905600 200905600 G  A  chr1:200905600:A:G chr1_200496446_202852808\n",
       "5 chr1 200905967 200905967 C  T  chr1:200905967:T:C chr1_200496446_202852808\n",
       "6 chr1 200906114 200906114 A  T  chr1:200906114:T:A chr1_200496446_202852808\n",
       "  event_ID                                                \n",
       "1 AD_Bellenguez; AD_Wightman_Excluding23andMe_2021        \n",
       "2 AD_Bellenguez; AD_Wightman_Excluding23andMe_2021        \n",
       "3 AD_Bellenguez; AD_Wightman_Excluding23andMe_2021        \n",
       "4 AD_Wightman_Full_2021; AD_Wightman_Excluding23andMe_2021\n",
       "5 AD_Wightman_Full_2021; AD_Wightman_Excluding23andMe_2021\n",
       "6 AD_Wightman_Full_2021; AD_Wightman_Excluding23andMe_2021\n",
       "  cos_ID                                vcp         cos_npc min_npc_outcome\n",
       "1 chr1_158933969_162352348:cos1:y7_y10  0.148633848 1       1              \n",
       "2 chr1_158933969_162352348:cos1:y7_y10  0.213683842 1       1              \n",
       "3 chr1_158933969_162352348:cos1:y7_y10  0.630037093 1       1              \n",
       "4 chr1_200496446_202852808:cos1:y10_y11 0.007671881 1       1              \n",
       "5 chr1_200496446_202852808:cos1:y10_y11 0.008368034 1       1              \n",
       "6 chr1_200496446_202852808:cos1:y10_y11 0.008713429 1       1              \n",
       "  coef                                      z                                  \n",
       "1 -0.00237822429413167;-0.00126943889431771 -5.66666666666667;-5.39920492844837\n",
       "2 -0.00314917325108774;-0.0015555119117074  -5.72826086956522;-5.44139840072206\n",
       "3 -0.0035129752975932;-0.00589550094118934  -5.71276595744681;-5.78719041195195\n",
       "4 9.234320806912e-05;0.000139149039132946   4.53950141738719;4.29121674501588  \n",
       "5 0.000104268954830228;0.000138364785535695 4.58025882916672;4.28441576043348  \n",
       "6 0.000107208760913441;0.000142027094052532 4.58984897079625;4.29387534466063  "
      ]
     },
     "metadata": {},
     "output_type": "display_data"
    },
    {
     "data": {
      "text/html": [
       "<style>\n",
       ".list-inline {list-style: none; margin:0; padding: 0}\n",
       ".list-inline>li {display: inline-block}\n",
       ".list-inline>li:not(:last-child)::after {content: \"\\00b7\"; padding: 0 .5ex}\n",
       "</style>\n",
       "<ol class=list-inline><li>23044</li><li>14</li></ol>\n"
      ],
      "text/latex": [
       "\\begin{enumerate*}\n",
       "\\item 23044\n",
       "\\item 14\n",
       "\\end{enumerate*}\n"
      ],
      "text/markdown": [
       "1. 23044\n",
       "2. 14\n",
       "\n",
       "\n"
      ],
      "text/plain": [
       "[1] 23044    14"
      ]
     },
     "metadata": {},
     "output_type": "display_data"
    }
   ],
   "source": [
    "head(all_cb)\n",
    "dim(all_cb)"
   ]
  },
  {
   "cell_type": "code",
   "execution_count": 8,
   "id": "e4507e93-b48a-4ffb-8b47-22305513ce75",
   "metadata": {},
   "outputs": [],
   "source": [
    "TL1 = all_cb |> filter(str_detect(event_ID,\"Telomere_pc1\"))\n",
    "mvAge = all_cb |> filter(str_detect(event_ID,\"mvage\"))\n",
    "PD = all_cb |> filter(str_detect(event_ID,\"PD\"))\n",
    "aging = rbind(TL1,mvAge)\n",
    "AD = all_cb |> filter(str_detect(event_ID,\"AD_\"))\n",
    "DNE = all_cb |> filter(str_detect(event_ID,\"image_\"))"
   ]
  },
  {
   "cell_type": "markdown",
   "id": "49f1615f-f1e6-4730-99be-6d014c367db2",
   "metadata": {},
   "source": [
    "### AD"
   ]
  },
  {
   "cell_type": "code",
   "execution_count": 9,
   "id": "1eb4e4ec-ce61-4777-97da-4c9777930290",
   "metadata": {},
   "outputs": [
    {
     "data": {
      "text/html": [
       "<style>\n",
       ".list-inline {list-style: none; margin:0; padding: 0}\n",
       ".list-inline>li {display: inline-block}\n",
       ".list-inline>li:not(:last-child)::after {content: \"\\00b7\"; padding: 0 .5ex}\n",
       "</style>\n",
       "<ol class=list-inline><li>5538</li><li>14</li></ol>\n"
      ],
      "text/latex": [
       "\\begin{enumerate*}\n",
       "\\item 5538\n",
       "\\item 14\n",
       "\\end{enumerate*}\n"
      ],
      "text/markdown": [
       "1. 5538\n",
       "2. 14\n",
       "\n",
       "\n"
      ],
      "text/plain": [
       "[1] 5538   14"
      ]
     },
     "metadata": {},
     "output_type": "display_data"
    },
    {
     "data": {
      "text/html": [
       "5530"
      ],
      "text/latex": [
       "5530"
      ],
      "text/markdown": [
       "5530"
      ],
      "text/plain": [
       "[1] 5530"
      ]
     },
     "metadata": {},
     "output_type": "display_data"
    }
   ],
   "source": [
    "dim(AD)\n",
    "length(unique(AD$variant_ID))"
   ]
  },
  {
   "cell_type": "code",
   "execution_count": 16,
   "id": "7276b798-ccea-4430-aa6d-ec830ad42132",
   "metadata": {},
   "outputs": [
    {
     "name": "stderr",
     "output_type": "stream",
     "text": [
      "Warning message in inner_join(AD, combined_data, by = \"variant_ID\"):\n",
      "\"\u001b[1m\u001b[22mDetected an unexpected many-to-many relationship between `x` and `y`.\n",
      "\u001b[36mi\u001b[39m Row 31 of `x` matches multiple rows in `y`.\n",
      "\u001b[36mi\u001b[39m Row 1652634 of `y` matches multiple rows in `x`.\n",
      "\u001b[36mi\u001b[39m If a many-to-many relationship is expected, set `relationship =\n",
      "  \"many-to-many\"` to silence this warning.\"\n"
     ]
    }
   ],
   "source": [
    "AD_overlap_xQTL = AD |> inner_join(combined_data, by = \"variant_ID\")"
   ]
  },
  {
   "cell_type": "code",
   "execution_count": 17,
   "id": "db092ff0-3afd-4b30-a90b-f01f4f8c921e",
   "metadata": {},
   "outputs": [
    {
     "data": {
      "text/html": [
       "<style>\n",
       ".list-inline {list-style: none; margin:0; padding: 0}\n",
       ".list-inline>li {display: inline-block}\n",
       ".list-inline>li:not(:last-child)::after {content: \"\\00b7\"; padding: 0 .5ex}\n",
       "</style>\n",
       "<ol class=list-inline><li>114853</li><li>30</li></ol>\n"
      ],
      "text/latex": [
       "\\begin{enumerate*}\n",
       "\\item 114853\n",
       "\\item 30\n",
       "\\end{enumerate*}\n"
      ],
      "text/markdown": [
       "1. 114853\n",
       "2. 30\n",
       "\n",
       "\n"
      ],
      "text/plain": [
       "[1] 114853     30"
      ]
     },
     "metadata": {},
     "output_type": "display_data"
    },
    {
     "data": {
      "text/html": [
       "4351"
      ],
      "text/latex": [
       "4351"
      ],
      "text/markdown": [
       "4351"
      ],
      "text/plain": [
       "[1] 4351"
      ]
     },
     "metadata": {},
     "output_type": "display_data"
    }
   ],
   "source": [
    "dim(AD_overlap_xQTL)\n",
    "length(unique(AD_overlap_xQTL$variant_ID))\n"
   ]
  },
  {
   "cell_type": "code",
   "execution_count": 18,
   "id": "6d4f2b07-3d04-42f6-8302-88a3a7adf750",
   "metadata": {},
   "outputs": [
    {
     "data": {
      "text/html": [
       "78.6799276672694"
      ],
      "text/latex": [
       "78.6799276672694"
      ],
      "text/markdown": [
       "78.6799276672694"
      ],
      "text/plain": [
       "[1] 78.67993"
      ]
     },
     "metadata": {},
     "output_type": "display_data"
    }
   ],
   "source": [
    "prop = (4351/5530)*100\n",
    "prop"
   ]
  },
  {
   "cell_type": "code",
   "execution_count": 20,
   "id": "6e238dd5-8f7a-4baa-8246-758b65fb0794",
   "metadata": {},
   "outputs": [],
   "source": [
    "fwrite(AD_overlap_xQTL,\"AD_overlap_xQTL.tsv\", sep = '\\t')"
   ]
  },
  {
   "cell_type": "code",
   "execution_count": 21,
   "id": "a0b381be-319c-4e82-b22f-36a3f73b92db",
   "metadata": {},
   "outputs": [],
   "source": [
    "gene_AD_overlap_xQTL = AD_overlap_xQTL |> count(gene_ID)\n",
    "fwrite(gene_AD_overlap_xQTL, \"gene_AD_overlap_xQTL.txt\", sep = '\\t')"
   ]
  },
  {
   "cell_type": "code",
   "execution_count": null,
   "id": "0243dd18-364b-4a1d-9fd6-328b719dcb49",
   "metadata": {},
   "outputs": [],
   "source": [
    "## Annotate the gene list positions based on our v103 genomic reference\n",
    "!sos run xqtl-protocol/code/data_preprocessing/phenotype/gene_annotation.ipynb annotate_coord \\\n",
    "    --cwd project/image_QTL/interested_genes/CB_M1/AD \\\n",
    "    --phenoFile gene_AD_overlap_xQTL.txt \\\n",
    "    --phenotype-id-column gene_id \\\n",
    "    --molecular-trait-type gene \\\n",
    "    --coordinate-annotation data/resource/references/Homo_sapiens.GRCh38.103.chr.reformatted.collapse_only.gene.ERCC.gtf"
   ]
  },
  {
   "cell_type": "code",
   "execution_count": 22,
   "id": "e7cd0ef0-a781-406e-96e3-2b8f9adcf0c5",
   "metadata": {},
   "outputs": [],
   "source": [
    "annotated_AD_gene = fread(\"~/project/image_QTL/interested_genes/CB_M1/AD/gene_AD_overlap_xQTL.gene_list.tsv\", sep = '\\t')"
   ]
  },
  {
   "cell_type": "code",
   "execution_count": 23,
   "id": "4aa45295-7fdd-4afe-9d65-408e507265f2",
   "metadata": {},
   "outputs": [],
   "source": [
    "coloc_outcome = AD_overlap_xQTL |> select(event_ID.x, gene_ID) |> unique()"
   ]
  },
  {
   "cell_type": "code",
   "execution_count": 24,
   "id": "bc12e692-aee1-499d-a532-eddf382865d0",
   "metadata": {},
   "outputs": [],
   "source": [
    "annotated_AD_gene = annotated_AD_gene |> inner_join(coloc_outcome, by = c(\"gene_id\" = \"gene_ID\"))"
   ]
  },
  {
   "cell_type": "code",
   "execution_count": 25,
   "id": "595e0e75-a35d-4283-b5f6-e48404968ea9",
   "metadata": {},
   "outputs": [],
   "source": [
    "annotated_AD_gene = annotated_AD_gene |> rename(event_ID = event_ID.x)"
   ]
  },
  {
   "cell_type": "code",
   "execution_count": 26,
   "id": "3f2d7b2e-45f0-4a8d-90d7-f2f34034c5a8",
   "metadata": {},
   "outputs": [],
   "source": [
    "fwrite(annotated_AD_gene, \"project/image_QTL/interested_genes/CB_M1/AD/annotated_AD_gene.tsv\", sep = '\\t')"
   ]
  },
  {
   "cell_type": "code",
   "execution_count": null,
   "id": "e8632288-0eda-40f3-b0f4-7cc614fec02a",
   "metadata": {},
   "outputs": [],
   "source": []
  }
 ],
 "metadata": {
  "kernelspec": {
   "display_name": "R",
   "language": "R",
   "name": "ir"
  },
  "language_info": {
   "codemirror_mode": "r",
   "file_extension": ".r",
   "mimetype": "text/x-r-source",
   "name": "R",
   "pygments_lexer": "r",
   "version": "4.3.3"
  }
 },
 "nbformat": 4,
 "nbformat_minor": 5
}
