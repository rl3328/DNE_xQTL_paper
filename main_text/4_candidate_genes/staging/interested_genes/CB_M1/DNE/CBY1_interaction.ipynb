{
 "cells": [
  {
   "cell_type": "markdown",
   "id": "efba7d11-7349-410f-b419-b4824cc6abbe",
   "metadata": {},
   "source": [
    "## Interaction"
   ]
  },
  {
   "cell_type": "code",
   "execution_count": 1,
   "id": "7e7b049d-26fc-4c46-9cfc-1baeeafefa46",
   "metadata": {
    "vscode": {
     "languageId": "r"
    }
   },
   "outputs": [
    {
     "name": "stderr",
     "output_type": "stream",
     "text": [
      "-- \u001b[1mAttaching core tidyverse packages\u001b[22m ------------------------ tidyverse 2.0.0 --\n",
      "\u001b[32mv\u001b[39m \u001b[34mdplyr    \u001b[39m 1.1.4     \u001b[32mv\u001b[39m \u001b[34mreadr    \u001b[39m 2.1.5\n",
      "\u001b[32mv\u001b[39m \u001b[34mforcats  \u001b[39m 1.0.0     \u001b[32mv\u001b[39m \u001b[34mstringr  \u001b[39m 1.5.1\n",
      "\u001b[32mv\u001b[39m \u001b[34mggplot2  \u001b[39m 3.5.2     \u001b[32mv\u001b[39m \u001b[34mtibble   \u001b[39m 3.2.1\n",
      "\u001b[32mv\u001b[39m \u001b[34mlubridate\u001b[39m 1.9.4     \u001b[32mv\u001b[39m \u001b[34mtidyr    \u001b[39m 1.3.1\n",
      "\u001b[32mv\u001b[39m \u001b[34mpurrr    \u001b[39m 1.0.4     \n",
      "-- \u001b[1mConflicts\u001b[22m ------------------------------------------ tidyverse_conflicts() --\n",
      "\u001b[31mx\u001b[39m \u001b[34mdplyr\u001b[39m::\u001b[32mfilter()\u001b[39m masks \u001b[34mstats\u001b[39m::filter()\n",
      "\u001b[31mx\u001b[39m \u001b[34mdplyr\u001b[39m::\u001b[32mlag()\u001b[39m    masks \u001b[34mstats\u001b[39m::lag()\n",
      "\u001b[36mi\u001b[39m Use the conflicted package (\u001b[3m\u001b[34m<http://conflicted.r-lib.org/>\u001b[39m\u001b[23m) to force all conflicts to become errors\n",
      "\n",
      "Attaching package: 'data.table'\n",
      "\n",
      "\n",
      "The following objects are masked from 'package:lubridate':\n",
      "\n",
      "    hour, isoweek, mday, minute, month, quarter, second, wday, week,\n",
      "    yday, year\n",
      "\n",
      "\n",
      "The following objects are masked from 'package:dplyr':\n",
      "\n",
      "    between, first, last\n",
      "\n",
      "\n",
      "The following object is masked from 'package:purrr':\n",
      "\n",
      "    transpose\n",
      "\n",
      "\n"
     ]
    }
   ],
   "source": [
    "library(tidyverse)\n",
    "library(data.table)"
   ]
  },
  {
   "cell_type": "markdown",
   "id": "77a96fcc-82d7-43c1-908d-b8e2203e1c19",
   "metadata": {},
   "source": [
    "## APOE"
   ]
  },
  {
   "cell_type": "markdown",
   "id": "d571fb3e-a8c3-4803-a491-f3517c0583c8",
   "metadata": {},
   "source": [
    "### eQTL"
   ]
  },
  {
   "cell_type": "code",
   "execution_count": 18,
   "id": "3e874dee-1e3d-45f1-9dbc-8733e9548464",
   "metadata": {
    "vscode": {
     "languageId": "r"
    }
   },
   "outputs": [],
   "source": [
    "chrom = \"chr22\""
   ]
  },
  {
   "cell_type": "code",
   "execution_count": 3,
   "id": "aa605519-4724-4668-9354-68cfab7e3f46",
   "metadata": {
    "vscode": {
     "languageId": "r"
    }
   },
   "outputs": [],
   "source": [
    "dlpfc_int_res <- fread(paste0('~/data/analysis_result/cis_association/ROSMAP/eQTL/DLPFC/interaction/APOE/dlpfc_batch_all.rnaseqc.low_expression_filtered.outlier_removed.tmm.expression.bed.',chrom,'.mol_phe_',chrom,'_APOE.cis_qtl.pairs.tsv.gz')) %>% mutate(region  = \"DLPFC\")\n",
    "ac_int_res <- fread(paste0('~/data/analysis_result/cis_association/ROSMAP/eQTL/AC/interaction/APOE/AC_samples_list.rnaseqc.gene_tpm.low_expression_filtered.outlier_removed.tmm.expression.bed.',chrom,'_',chrom,'_APOE.cis_qtl.pairs.tsv.gz')) %>% mutate(region  = \"AC\")"
   ]
  },
  {
   "cell_type": "code",
   "execution_count": 4,
   "id": "2a93130b-41b8-49b5-a764-b2921b6172b9",
   "metadata": {
    "vscode": {
     "languageId": "r"
    }
   },
   "outputs": [],
   "source": [
    "pcc_int_res <- fread(paste0('~/data/analysis_result/cis_association/ROSMAP/eQTL/PCC/interaction/APOE/PCC_samples_list.rnaseqc.gene_tpm.low_expression_filtered.outlier_removed.tmm.expression.bed.',chrom,'_',chrom,'_APOE.cis_qtl.pairs.tsv.gz')) %>% mutate(region  = \"PCC\")\n",
    "mega_ast_int_res <- fread(paste0('~/data/analysis_result/cis_association/ROSMAP/eQTL/snuc_mega/Ast/interaction/APOE/snuc_pseudo_bulk.Ast.mega.normalized.log2cpm.bed.',chrom,'_',chrom,'_APOE.cis_qtl.pairs.tsv.gz')) %>% mutate(region  = \"Mega_Ast\")"
   ]
  },
  {
   "cell_type": "code",
   "execution_count": 5,
   "id": "7bf1e5d9-c34a-44c9-9f48-19ee3e16c1db",
   "metadata": {
    "vscode": {
     "languageId": "r"
    }
   },
   "outputs": [],
   "source": [
    "mega_exc_int_res <- fread(paste0('~/data/analysis_result/cis_association/ROSMAP/eQTL/snuc_mega/Exc/interaction/APOE/snuc_pseudo_bulk.Exc.mega.normalized.log2cpm.bed.',chrom,'_',chrom,'_APOE.cis_qtl.pairs.tsv.gz')) %>% mutate(region  = \"Mega_Exc\")\n",
    "mega_opc_int_res <- fread(paste0('~/data/analysis_result/cis_association/ROSMAP/eQTL/snuc_mega/OPC/interaction/APOE/snuc_pseudo_bulk.OPC.mega.normalized.log2cpm.bed.',chrom,'_',chrom,'_APOE.cis_qtl.pairs.tsv.gz')) %>% mutate(region  = \"Mega_OPC\")"
   ]
  },
  {
   "cell_type": "code",
   "execution_count": 6,
   "id": "867d47c9-bf6e-4ec2-982b-bda049b25f01",
   "metadata": {
    "vscode": {
     "languageId": "r"
    }
   },
   "outputs": [],
   "source": [
    "mega_inh_int_res <- fread(paste0('~/data/analysis_result/cis_association/ROSMAP/eQTL/snuc_mega/Inh/interaction/APOE/snuc_pseudo_bulk.Inh.mega.normalized.log2cpm.bed.',chrom,'_',chrom,'_APOE.cis_qtl.pairs.tsv.gz')) %>% mutate(region  = \"Mega_Inh\")\n",
    "mega_mic_int_res <- fread(paste0('~/data/analysis_result/cis_association/ROSMAP/eQTL/snuc_mega/Mic/interaction/APOE/snuc_pseudo_bulk.Mic.mega.normalized.log2cpm.bed.',chrom,'_',chrom,'_APOE.cis_qtl.pairs.tsv.gz')) %>% mutate(region  = \"Mega_Mic\")"
   ]
  },
  {
   "cell_type": "code",
   "execution_count": 7,
   "id": "36f97f63-4383-40a0-b97e-e18ca45b3065",
   "metadata": {
    "vscode": {
     "languageId": "r"
    }
   },
   "outputs": [],
   "source": [
    "mega_oli_int_res <- fread(paste0('~/data/analysis_result/cis_association/ROSMAP/eQTL/snuc_mega/Oli/interaction/APOE/snuc_pseudo_bulk.Oli.mega.normalized.log2cpm.bed.',chrom,'_',chrom,'_APOE.cis_qtl.pairs.tsv.gz')) %>% mutate(region  = \"Mega_Oli\")\n",
    "#mono_int_res <- fread(paste0('~/data/analysis_result/cis_association/ROSMAP/eQTL/monocyte/interaction/APOE/monocyte_sample_fastq.final.rnaseqc.low_expression_filtered.outlier_removed.tmm.expression.bed.',chrom,'_',chrom,'_APOE.cis_qtl.pairs.tsv.gz')) %>% mutate(region  = \"monocyte\")\n"
   ]
  },
  {
   "cell_type": "code",
   "execution_count": 8,
   "id": "2726ef04-d993-4801-9b3f-7104c78a7f27",
   "metadata": {
    "vscode": {
     "languageId": "r"
    }
   },
   "outputs": [],
   "source": [
    "int_res <- rbind(dlpfc_int_res, ac_int_res, mega_ast_int_res, mega_exc_int_res, mega_opc_int_res, mega_inh_int_res, mega_mic_int_res, mega_oli_int_res)\n"
   ]
  },
  {
   "cell_type": "code",
   "execution_count": 9,
   "id": "62178986-3d94-45ad-8cb7-5bfaa1b4f6b9",
   "metadata": {
    "vscode": {
     "languageId": "r"
    }
   },
   "outputs": [
    {
     "data": {
      "text/html": [
       "<table class=\"dataframe\">\n",
       "<caption>A data.table: 6 x 25</caption>\n",
       "<thead>\n",
       "\t<tr><th scope=col>chrom</th><th scope=col>pos</th><th scope=col>a1</th><th scope=col>a2</th><th scope=col>molecular_trait_id</th><th scope=col>variant_id</th><th scope=col>start_distance</th><th scope=col>end_distance</th><th scope=col>af</th><th scope=col>ma_samples</th><th scope=col>...</th><th scope=col>beta_APOE</th><th scope=col>se_APOE</th><th scope=col>pvalue_APOE_interaction</th><th scope=col>beta_APOE_interaction</th><th scope=col>se_APOE_interaction</th><th scope=col>molecular_trait_object_id</th><th scope=col>n</th><th scope=col>qvalue_main</th><th scope=col>qvalue_interaction</th><th scope=col>region</th></tr>\n",
       "\t<tr><th scope=col>&lt;int&gt;</th><th scope=col>&lt;int&gt;</th><th scope=col>&lt;chr&gt;</th><th scope=col>&lt;chr&gt;</th><th scope=col>&lt;chr&gt;</th><th scope=col>&lt;chr&gt;</th><th scope=col>&lt;int&gt;</th><th scope=col>&lt;int&gt;</th><th scope=col>&lt;dbl&gt;</th><th scope=col>&lt;int&gt;</th><th scope=col>...</th><th scope=col>&lt;dbl&gt;</th><th scope=col>&lt;dbl&gt;</th><th scope=col>&lt;dbl&gt;</th><th scope=col>&lt;dbl&gt;</th><th scope=col>&lt;dbl&gt;</th><th scope=col>&lt;chr&gt;</th><th scope=col>&lt;int&gt;</th><th scope=col>&lt;dbl&gt;</th><th scope=col>&lt;dbl&gt;</th><th scope=col>&lt;chr&gt;</th></tr>\n",
       "</thead>\n",
       "<tbody>\n",
       "\t<tr><td>22</td><td>10530527</td><td>*</td><td>ATG</td><td>ENSG00000286406</td><td>chr22:10530527_ATG_*</td><td>10530527</td><td>-8429473</td><td>0.3725213</td><td>490</td><td>...</td><td>-0.09472352</td><td>0.10514817</td><td>0.42812366</td><td> 0.082440450</td><td>0.10397902</td><td>ENSG00000286406</td><td>771</td><td>0.9998951</td><td>0.9997985</td><td>DLPFC</td></tr>\n",
       "\t<tr><td>22</td><td>10530527</td><td>*</td><td>ATG</td><td>ENSG00000206195</td><td>chr22:10530527_ATG_*</td><td>10530527</td><td>-8429473</td><td>0.3725213</td><td>490</td><td>...</td><td> 0.24980350</td><td>0.10339568</td><td>0.02751837</td><td>-0.225820100</td><td>0.10224601</td><td>ENSG00000206195</td><td>771</td><td>0.4851154</td><td>0.9989909</td><td>DLPFC</td></tr>\n",
       "\t<tr><td>22</td><td>10530527</td><td>*</td><td>ATG</td><td>ENSG00000271127</td><td>chr22:10530527_ATG_*</td><td>10530527</td><td>-8429473</td><td>0.3725213</td><td>490</td><td>...</td><td> 0.06534776</td><td>0.07853492</td><td>0.94285745</td><td> 0.005568655</td><td>0.07766169</td><td>ENSG00000271127</td><td>771</td><td>0.9410113</td><td>0.7804981</td><td>DLPFC</td></tr>\n",
       "\t<tr><td>22</td><td>10530527</td><td>*</td><td>ATG</td><td>ENSG00000272872</td><td>chr22:10530527_ATG_*</td><td>10530527</td><td>-8429473</td><td>0.3725213</td><td>490</td><td>...</td><td> 0.09097417</td><td>0.10080200</td><td>0.80635557</td><td>-0.024443902</td><td>0.09968116</td><td>ENSG00000272872</td><td>771</td><td>0.7311951</td><td>0.9985925</td><td>DLPFC</td></tr>\n",
       "\t<tr><td>22</td><td>10530527</td><td>*</td><td>ATG</td><td>ENSG00000271672</td><td>chr22:10530527_ATG_*</td><td>10530527</td><td>-8429473</td><td>0.3725213</td><td>490</td><td>...</td><td> 0.14094672</td><td>0.09146552</td><td>0.48336791</td><td>-0.063427970</td><td>0.09044850</td><td>ENSG00000271672</td><td>771</td><td>0.9339579</td><td>0.9969601</td><td>DLPFC</td></tr>\n",
       "\t<tr><td>22</td><td>10530527</td><td>*</td><td>ATG</td><td>ENSG00000198445</td><td>chr22:10530527_ATG_*</td><td>10530527</td><td>-8429473</td><td>0.3725213</td><td>490</td><td>...</td><td>-0.05715503</td><td>0.08754399</td><td>0.79669138</td><td>-0.022311594</td><td>0.08657058</td><td>ENSG00000198445</td><td>771</td><td>0.9964512</td><td>0.9995017</td><td>DLPFC</td></tr>\n",
       "</tbody>\n",
       "</table>\n"
      ],
      "text/latex": [
       "A data.table: 6 x 25\n",
       "\\begin{tabular}{lllllllllllllllllllll}\n",
       " chrom & pos & a1 & a2 & molecular\\_trait\\_id & variant\\_id & start\\_distance & end\\_distance & af & ma\\_samples & ... & beta\\_APOE & se\\_APOE & pvalue\\_APOE\\_interaction & beta\\_APOE\\_interaction & se\\_APOE\\_interaction & molecular\\_trait\\_object\\_id & n & qvalue\\_main & qvalue\\_interaction & region\\\\\n",
       " <int> & <int> & <chr> & <chr> & <chr> & <chr> & <int> & <int> & <dbl> & <int> & ... & <dbl> & <dbl> & <dbl> & <dbl> & <dbl> & <chr> & <int> & <dbl> & <dbl> & <chr>\\\\\n",
       "\\hline\n",
       "\t 22 & 10530527 & * & ATG & ENSG00000286406 & chr22:10530527\\_ATG\\_* & 10530527 & -8429473 & 0.3725213 & 490 & ... & -0.09472352 & 0.10514817 & 0.42812366 &  0.082440450 & 0.10397902 & ENSG00000286406 & 771 & 0.9998951 & 0.9997985 & DLPFC\\\\\n",
       "\t 22 & 10530527 & * & ATG & ENSG00000206195 & chr22:10530527\\_ATG\\_* & 10530527 & -8429473 & 0.3725213 & 490 & ... &  0.24980350 & 0.10339568 & 0.02751837 & -0.225820100 & 0.10224601 & ENSG00000206195 & 771 & 0.4851154 & 0.9989909 & DLPFC\\\\\n",
       "\t 22 & 10530527 & * & ATG & ENSG00000271127 & chr22:10530527\\_ATG\\_* & 10530527 & -8429473 & 0.3725213 & 490 & ... &  0.06534776 & 0.07853492 & 0.94285745 &  0.005568655 & 0.07766169 & ENSG00000271127 & 771 & 0.9410113 & 0.7804981 & DLPFC\\\\\n",
       "\t 22 & 10530527 & * & ATG & ENSG00000272872 & chr22:10530527\\_ATG\\_* & 10530527 & -8429473 & 0.3725213 & 490 & ... &  0.09097417 & 0.10080200 & 0.80635557 & -0.024443902 & 0.09968116 & ENSG00000272872 & 771 & 0.7311951 & 0.9985925 & DLPFC\\\\\n",
       "\t 22 & 10530527 & * & ATG & ENSG00000271672 & chr22:10530527\\_ATG\\_* & 10530527 & -8429473 & 0.3725213 & 490 & ... &  0.14094672 & 0.09146552 & 0.48336791 & -0.063427970 & 0.09044850 & ENSG00000271672 & 771 & 0.9339579 & 0.9969601 & DLPFC\\\\\n",
       "\t 22 & 10530527 & * & ATG & ENSG00000198445 & chr22:10530527\\_ATG\\_* & 10530527 & -8429473 & 0.3725213 & 490 & ... & -0.05715503 & 0.08754399 & 0.79669138 & -0.022311594 & 0.08657058 & ENSG00000198445 & 771 & 0.9964512 & 0.9995017 & DLPFC\\\\\n",
       "\\end{tabular}\n"
      ],
      "text/markdown": [
       "\n",
       "A data.table: 6 x 25\n",
       "\n",
       "| chrom &lt;int&gt; | pos &lt;int&gt; | a1 &lt;chr&gt; | a2 &lt;chr&gt; | molecular_trait_id &lt;chr&gt; | variant_id &lt;chr&gt; | start_distance &lt;int&gt; | end_distance &lt;int&gt; | af &lt;dbl&gt; | ma_samples &lt;int&gt; | ... ... | beta_APOE &lt;dbl&gt; | se_APOE &lt;dbl&gt; | pvalue_APOE_interaction &lt;dbl&gt; | beta_APOE_interaction &lt;dbl&gt; | se_APOE_interaction &lt;dbl&gt; | molecular_trait_object_id &lt;chr&gt; | n &lt;int&gt; | qvalue_main &lt;dbl&gt; | qvalue_interaction &lt;dbl&gt; | region &lt;chr&gt; |\n",
       "|---|---|---|---|---|---|---|---|---|---|---|---|---|---|---|---|---|---|---|---|---|\n",
       "| 22 | 10530527 | * | ATG | ENSG00000286406 | chr22:10530527_ATG_* | 10530527 | -8429473 | 0.3725213 | 490 | ... | -0.09472352 | 0.10514817 | 0.42812366 |  0.082440450 | 0.10397902 | ENSG00000286406 | 771 | 0.9998951 | 0.9997985 | DLPFC |\n",
       "| 22 | 10530527 | * | ATG | ENSG00000206195 | chr22:10530527_ATG_* | 10530527 | -8429473 | 0.3725213 | 490 | ... |  0.24980350 | 0.10339568 | 0.02751837 | -0.225820100 | 0.10224601 | ENSG00000206195 | 771 | 0.4851154 | 0.9989909 | DLPFC |\n",
       "| 22 | 10530527 | * | ATG | ENSG00000271127 | chr22:10530527_ATG_* | 10530527 | -8429473 | 0.3725213 | 490 | ... |  0.06534776 | 0.07853492 | 0.94285745 |  0.005568655 | 0.07766169 | ENSG00000271127 | 771 | 0.9410113 | 0.7804981 | DLPFC |\n",
       "| 22 | 10530527 | * | ATG | ENSG00000272872 | chr22:10530527_ATG_* | 10530527 | -8429473 | 0.3725213 | 490 | ... |  0.09097417 | 0.10080200 | 0.80635557 | -0.024443902 | 0.09968116 | ENSG00000272872 | 771 | 0.7311951 | 0.9985925 | DLPFC |\n",
       "| 22 | 10530527 | * | ATG | ENSG00000271672 | chr22:10530527_ATG_* | 10530527 | -8429473 | 0.3725213 | 490 | ... |  0.14094672 | 0.09146552 | 0.48336791 | -0.063427970 | 0.09044850 | ENSG00000271672 | 771 | 0.9339579 | 0.9969601 | DLPFC |\n",
       "| 22 | 10530527 | * | ATG | ENSG00000198445 | chr22:10530527_ATG_* | 10530527 | -8429473 | 0.3725213 | 490 | ... | -0.05715503 | 0.08754399 | 0.79669138 | -0.022311594 | 0.08657058 | ENSG00000198445 | 771 | 0.9964512 | 0.9995017 | DLPFC |\n",
       "\n"
      ],
      "text/plain": [
       "  chrom pos      a1 a2  molecular_trait_id variant_id           start_distance\n",
       "1 22    10530527 *  ATG ENSG00000286406    chr22:10530527_ATG_* 10530527      \n",
       "2 22    10530527 *  ATG ENSG00000206195    chr22:10530527_ATG_* 10530527      \n",
       "3 22    10530527 *  ATG ENSG00000271127    chr22:10530527_ATG_* 10530527      \n",
       "4 22    10530527 *  ATG ENSG00000272872    chr22:10530527_ATG_* 10530527      \n",
       "5 22    10530527 *  ATG ENSG00000271672    chr22:10530527_ATG_* 10530527      \n",
       "6 22    10530527 *  ATG ENSG00000198445    chr22:10530527_ATG_* 10530527      \n",
       "  end_distance af        ma_samples ... beta_APOE   se_APOE   \n",
       "1 -8429473     0.3725213 490        ... -0.09472352 0.10514817\n",
       "2 -8429473     0.3725213 490        ...  0.24980350 0.10339568\n",
       "3 -8429473     0.3725213 490        ...  0.06534776 0.07853492\n",
       "4 -8429473     0.3725213 490        ...  0.09097417 0.10080200\n",
       "5 -8429473     0.3725213 490        ...  0.14094672 0.09146552\n",
       "6 -8429473     0.3725213 490        ... -0.05715503 0.08754399\n",
       "  pvalue_APOE_interaction beta_APOE_interaction se_APOE_interaction\n",
       "1 0.42812366               0.082440450          0.10397902         \n",
       "2 0.02751837              -0.225820100          0.10224601         \n",
       "3 0.94285745               0.005568655          0.07766169         \n",
       "4 0.80635557              -0.024443902          0.09968116         \n",
       "5 0.48336791              -0.063427970          0.09044850         \n",
       "6 0.79669138              -0.022311594          0.08657058         \n",
       "  molecular_trait_object_id n   qvalue_main qvalue_interaction region\n",
       "1 ENSG00000286406           771 0.9998951   0.9997985          DLPFC \n",
       "2 ENSG00000206195           771 0.4851154   0.9989909          DLPFC \n",
       "3 ENSG00000271127           771 0.9410113   0.7804981          DLPFC \n",
       "4 ENSG00000272872           771 0.7311951   0.9985925          DLPFC \n",
       "5 ENSG00000271672           771 0.9339579   0.9969601          DLPFC \n",
       "6 ENSG00000198445           771 0.9964512   0.9995017          DLPFC "
      ]
     },
     "metadata": {},
     "output_type": "display_data"
    },
    {
     "data": {
      "text/html": [
       "<style>\n",
       ".list-inline {list-style: none; margin:0; padding: 0}\n",
       ".list-inline>li {display: inline-block}\n",
       ".list-inline>li:not(:last-child)::after {content: \"\\00b7\"; padding: 0 .5ex}\n",
       "</style>\n",
       "<ol class=list-inline><li>27740674</li><li>25</li></ol>\n"
      ],
      "text/latex": [
       "\\begin{enumerate*}\n",
       "\\item 27740674\n",
       "\\item 25\n",
       "\\end{enumerate*}\n"
      ],
      "text/markdown": [
       "1. 27740674\n",
       "2. 25\n",
       "\n",
       "\n"
      ],
      "text/plain": [
       "[1] 27740674       25"
      ]
     },
     "metadata": {},
     "output_type": "display_data"
    }
   ],
   "source": [
    "head(int_res)\n",
    "dim(int_res)"
   ]
  },
  {
   "cell_type": "code",
   "execution_count": 26,
   "id": "87050ab5-a27a-4554-9f8d-51afbe28f48b",
   "metadata": {
    "vscode": {
     "languageId": "r"
    }
   },
   "outputs": [],
   "source": [
    "CBY1_var = readLines(\"CBY1_variants.txt\")"
   ]
  },
  {
   "cell_type": "code",
   "execution_count": 27,
   "id": "ca1d85f0-c0fc-46a5-ad33-dbd6c0797445",
   "metadata": {
    "scrolled": true,
    "vscode": {
     "languageId": "r"
    }
   },
   "outputs": [],
   "source": [
    "CBY1_var <- gsub(\"([^:]+:[^:]+):([^:]+):\", \"\\\\1_\\\\2_\", CBY1_var)"
   ]
  },
  {
   "cell_type": "code",
   "execution_count": 12,
   "id": "587493d2-0c4e-4698-9f90-ef213dca8b43",
   "metadata": {
    "vscode": {
     "languageId": "r"
    }
   },
   "outputs": [
    {
     "data": {
      "text/html": [
       "<style>\n",
       ".list-inline {list-style: none; margin:0; padding: 0}\n",
       ".list-inline>li {display: inline-block}\n",
       ".list-inline>li:not(:last-child)::after {content: \"\\00b7\"; padding: 0 .5ex}\n",
       "</style>\n",
       "<ol class=list-inline><li>'chr22:38597462_A_G'</li><li>' chr22:38622329_T_C'</li><li>' chr22:38586316_T_C'</li><li>' chr22:38676093_C_G'</li><li>' chr22:38677891_A_G'</li><li>' chr22:38686169_A_G'</li><li>' chr22:38705614_G_C'</li><li>' chr22:38705628_T_C'</li><li>' chr22:38703597_T_C'</li><li>' chr22:38684073_T_C'</li><li>' chr22:38617825_T_C'</li><li>' chr22:38698614_A_C'</li><li>' chr22:38699693_C_G'</li><li>' chr22:38609057_A_T'</li><li>' chr22:38599380_G_T'</li><li>' chr22:38602514_C_A'</li><li>' chr22:38578149_C_A'</li><li>' chr22:38590243_G_A'</li><li>' chr22:38708315_C_T'</li><li>' chr22:38709943_T_C'</li><li>' chr22:38593641_T_C'</li><li>' chr22:38640275_T_C'</li><li>' chr22:38649094_T_C'</li><li>' chr22:38640764_T_C'</li><li>' chr22:38657752_G_C'</li><li>' chr22:38593808_A_G'</li><li>' chr22:38652311_A_G'</li><li>' chr22:38619297_T_C'</li><li>' chr22:38589060_T_C'</li><li>' chr22:38733994_A_G'</li><li>' chr22:38734959_C_T'</li><li>' chr22:38720790_A_C'</li><li>' chr22:38754445_G_A'</li><li>' chr22:38738710_T_C'</li><li>' chr22:38752478_G_A'</li><li>' chr22:38751710_C_T'</li><li>' chr22:38737798_C_T'</li><li>' chr22:38750522_C_T'</li><li>' chr22:38743338_A_G'</li><li>' chr22:38745595_G_A'</li><li>' chr22:38741829_C_G'</li><li>' chr22:38717129_G_A'</li><li>' chr22:38717898_C_T'</li><li>' chr22:38754538_G_T'</li><li>' chr22:38592110_A_G'</li><li>' chr22:38677070_C_G'</li><li>' chr22:38677056_C_T'</li><li>' chr22:38704123_G_A'</li><li>' chr22:38674730_A_G'</li><li>' chr22:38641547_A_G'</li><li>' chr22:38610929_A_G'</li><li>' chr22:38678732_A_G'</li><li>' chr22:38684240_A_G'</li><li>' chr22:38668961_C_T'</li><li>' chr22:38617420_C_G'</li><li>' chr22:38658492_A_G'</li><li>' chr22:38679587_C_T'</li><li>' chr22:38663914_T_C'</li><li>' chr22:38668373_T_A'</li><li>' chr22:38671519_A_G'</li><li>' chr22:38597971_A_C'</li><li>' chr22:38668204_G_A'</li><li>' chr22:38668401_A_G'</li><li>' chr22:38594733_C_T'</li><li>' chr22:38670815_C_T'</li><li>' chr22:38671326_G_A'</li><li>' chr22:38541789_G_A'</li><li>' chr22:38668676_C_T'</li><li>' chr22:38668662_T_C'</li><li>' chr22:38734966_A_G'</li><li>' chr22:38657044_T_C'</li><li>' chr22:38629272_T_C'</li><li>' chr22:38595388_G_T'</li><li>' chr22:38735722_T_G'</li><li>' chr22:38624261_C_A'</li><li>' chr22:38625517_G_A'</li><li>' chr22:38617517_G_A'</li><li>' chr22:38669734_A_G'</li><li>' chr22:38670205_A_G'</li><li>' chr22:38642791_T_C'</li><li>' chr22:38625712_G_A'</li><li>' chr22:38594657_G_A'</li><li>' chr22:38593002_C_G'</li><li>' chr22:38574434_G_A'</li><li>' chr22:38702782_T_C'</li><li>' chr22:38598572_C_T'</li><li>' chr22:38677819_T_C'</li><li>' chr22:38611169_A_C'</li><li>' chr22:38578675_C_T'</li><li>' chr22:38679429_C_G'</li><li>' chr22:38620177_T_C'</li><li>' chr22:38683959_T_C'</li><li>' chr22:38604392_G_A'</li><li>' chr22:38676467_G_A'</li><li>' chr22:38672784_T_C'</li><li>' chr22:38658256_T_G'</li><li>' chr22:38673040_A_G'</li><li>' chr22:38674084_A_G'</li><li>' chr22:38679140_C_T'</li><li>' chr22:38673505_T_C'</li><li>' chr22:38665025_G_A'</li><li>' chr22:38556568_C_T'</li><li>' chr22:38677830_G_C'</li><li>' chr22:38652750_T_G'</li><li>' chr22:38668225_A_G'</li><li>' chr22:38645036_A_G'</li><li>' chr22:38730503_A_G'</li><li>' chr22:38529714_A_C'</li><li>' chr22:38675653_A_G'</li><li>' chr22:38678447_T_C'</li><li>' chr22:38648422_A_C'</li><li>' chr22:38659298_C_T'</li><li>' chr22:38679230_G_C'</li><li>' chr22:38676449_C_T'</li><li>' chr22:38597365_C_T'</li><li>' chr22:38678711_G_A'</li><li>' chr22:38743908_C_T'</li><li>' chr22:38679055_T_C'</li><li>' chr22:38674545_T_C'</li><li>' chr22:38586437_T_A'</li><li>' chr22:38673176_T_C'</li><li>' chr22:38558698_C_G'</li><li>' chr22:38669996_T_C'</li><li>' chr22:38653225_A_C'</li><li>' chr22:38661758_C_T'</li><li>' chr22:38653312_A_G'</li><li>' chr22:38655700_C_T'</li><li>' chr22:38643850_G_C'</li><li>' chr22:38650322_T_C'</li><li>' chr22:38658766_A_G'</li><li>' chr22:38539922_C_G'</li><li>' chr22:38648147_G_C'</li><li>' chr22:38659199_G_A'</li><li>' chr22:38660351_C_T'</li><li>' chr22:38657883_C_T'</li><li>' chr22:38709702_G_A'</li><li>' chr22:38711333_A_G'</li><li>' chr22:38644885_T_C'</li><li>' chr22:38659044_G_T'</li><li>' chr22:38647016_G_A'</li></ol>\n"
      ],
      "text/latex": [
       "\\begin{enumerate*}\n",
       "\\item 'chr22:38597462\\_A\\_G'\n",
       "\\item ' chr22:38622329\\_T\\_C'\n",
       "\\item ' chr22:38586316\\_T\\_C'\n",
       "\\item ' chr22:38676093\\_C\\_G'\n",
       "\\item ' chr22:38677891\\_A\\_G'\n",
       "\\item ' chr22:38686169\\_A\\_G'\n",
       "\\item ' chr22:38705614\\_G\\_C'\n",
       "\\item ' chr22:38705628\\_T\\_C'\n",
       "\\item ' chr22:38703597\\_T\\_C'\n",
       "\\item ' chr22:38684073\\_T\\_C'\n",
       "\\item ' chr22:38617825\\_T\\_C'\n",
       "\\item ' chr22:38698614\\_A\\_C'\n",
       "\\item ' chr22:38699693\\_C\\_G'\n",
       "\\item ' chr22:38609057\\_A\\_T'\n",
       "\\item ' chr22:38599380\\_G\\_T'\n",
       "\\item ' chr22:38602514\\_C\\_A'\n",
       "\\item ' chr22:38578149\\_C\\_A'\n",
       "\\item ' chr22:38590243\\_G\\_A'\n",
       "\\item ' chr22:38708315\\_C\\_T'\n",
       "\\item ' chr22:38709943\\_T\\_C'\n",
       "\\item ' chr22:38593641\\_T\\_C'\n",
       "\\item ' chr22:38640275\\_T\\_C'\n",
       "\\item ' chr22:38649094\\_T\\_C'\n",
       "\\item ' chr22:38640764\\_T\\_C'\n",
       "\\item ' chr22:38657752\\_G\\_C'\n",
       "\\item ' chr22:38593808\\_A\\_G'\n",
       "\\item ' chr22:38652311\\_A\\_G'\n",
       "\\item ' chr22:38619297\\_T\\_C'\n",
       "\\item ' chr22:38589060\\_T\\_C'\n",
       "\\item ' chr22:38733994\\_A\\_G'\n",
       "\\item ' chr22:38734959\\_C\\_T'\n",
       "\\item ' chr22:38720790\\_A\\_C'\n",
       "\\item ' chr22:38754445\\_G\\_A'\n",
       "\\item ' chr22:38738710\\_T\\_C'\n",
       "\\item ' chr22:38752478\\_G\\_A'\n",
       "\\item ' chr22:38751710\\_C\\_T'\n",
       "\\item ' chr22:38737798\\_C\\_T'\n",
       "\\item ' chr22:38750522\\_C\\_T'\n",
       "\\item ' chr22:38743338\\_A\\_G'\n",
       "\\item ' chr22:38745595\\_G\\_A'\n",
       "\\item ' chr22:38741829\\_C\\_G'\n",
       "\\item ' chr22:38717129\\_G\\_A'\n",
       "\\item ' chr22:38717898\\_C\\_T'\n",
       "\\item ' chr22:38754538\\_G\\_T'\n",
       "\\item ' chr22:38592110\\_A\\_G'\n",
       "\\item ' chr22:38677070\\_C\\_G'\n",
       "\\item ' chr22:38677056\\_C\\_T'\n",
       "\\item ' chr22:38704123\\_G\\_A'\n",
       "\\item ' chr22:38674730\\_A\\_G'\n",
       "\\item ' chr22:38641547\\_A\\_G'\n",
       "\\item ' chr22:38610929\\_A\\_G'\n",
       "\\item ' chr22:38678732\\_A\\_G'\n",
       "\\item ' chr22:38684240\\_A\\_G'\n",
       "\\item ' chr22:38668961\\_C\\_T'\n",
       "\\item ' chr22:38617420\\_C\\_G'\n",
       "\\item ' chr22:38658492\\_A\\_G'\n",
       "\\item ' chr22:38679587\\_C\\_T'\n",
       "\\item ' chr22:38663914\\_T\\_C'\n",
       "\\item ' chr22:38668373\\_T\\_A'\n",
       "\\item ' chr22:38671519\\_A\\_G'\n",
       "\\item ' chr22:38597971\\_A\\_C'\n",
       "\\item ' chr22:38668204\\_G\\_A'\n",
       "\\item ' chr22:38668401\\_A\\_G'\n",
       "\\item ' chr22:38594733\\_C\\_T'\n",
       "\\item ' chr22:38670815\\_C\\_T'\n",
       "\\item ' chr22:38671326\\_G\\_A'\n",
       "\\item ' chr22:38541789\\_G\\_A'\n",
       "\\item ' chr22:38668676\\_C\\_T'\n",
       "\\item ' chr22:38668662\\_T\\_C'\n",
       "\\item ' chr22:38734966\\_A\\_G'\n",
       "\\item ' chr22:38657044\\_T\\_C'\n",
       "\\item ' chr22:38629272\\_T\\_C'\n",
       "\\item ' chr22:38595388\\_G\\_T'\n",
       "\\item ' chr22:38735722\\_T\\_G'\n",
       "\\item ' chr22:38624261\\_C\\_A'\n",
       "\\item ' chr22:38625517\\_G\\_A'\n",
       "\\item ' chr22:38617517\\_G\\_A'\n",
       "\\item ' chr22:38669734\\_A\\_G'\n",
       "\\item ' chr22:38670205\\_A\\_G'\n",
       "\\item ' chr22:38642791\\_T\\_C'\n",
       "\\item ' chr22:38625712\\_G\\_A'\n",
       "\\item ' chr22:38594657\\_G\\_A'\n",
       "\\item ' chr22:38593002\\_C\\_G'\n",
       "\\item ' chr22:38574434\\_G\\_A'\n",
       "\\item ' chr22:38702782\\_T\\_C'\n",
       "\\item ' chr22:38598572\\_C\\_T'\n",
       "\\item ' chr22:38677819\\_T\\_C'\n",
       "\\item ' chr22:38611169\\_A\\_C'\n",
       "\\item ' chr22:38578675\\_C\\_T'\n",
       "\\item ' chr22:38679429\\_C\\_G'\n",
       "\\item ' chr22:38620177\\_T\\_C'\n",
       "\\item ' chr22:38683959\\_T\\_C'\n",
       "\\item ' chr22:38604392\\_G\\_A'\n",
       "\\item ' chr22:38676467\\_G\\_A'\n",
       "\\item ' chr22:38672784\\_T\\_C'\n",
       "\\item ' chr22:38658256\\_T\\_G'\n",
       "\\item ' chr22:38673040\\_A\\_G'\n",
       "\\item ' chr22:38674084\\_A\\_G'\n",
       "\\item ' chr22:38679140\\_C\\_T'\n",
       "\\item ' chr22:38673505\\_T\\_C'\n",
       "\\item ' chr22:38665025\\_G\\_A'\n",
       "\\item ' chr22:38556568\\_C\\_T'\n",
       "\\item ' chr22:38677830\\_G\\_C'\n",
       "\\item ' chr22:38652750\\_T\\_G'\n",
       "\\item ' chr22:38668225\\_A\\_G'\n",
       "\\item ' chr22:38645036\\_A\\_G'\n",
       "\\item ' chr22:38730503\\_A\\_G'\n",
       "\\item ' chr22:38529714\\_A\\_C'\n",
       "\\item ' chr22:38675653\\_A\\_G'\n",
       "\\item ' chr22:38678447\\_T\\_C'\n",
       "\\item ' chr22:38648422\\_A\\_C'\n",
       "\\item ' chr22:38659298\\_C\\_T'\n",
       "\\item ' chr22:38679230\\_G\\_C'\n",
       "\\item ' chr22:38676449\\_C\\_T'\n",
       "\\item ' chr22:38597365\\_C\\_T'\n",
       "\\item ' chr22:38678711\\_G\\_A'\n",
       "\\item ' chr22:38743908\\_C\\_T'\n",
       "\\item ' chr22:38679055\\_T\\_C'\n",
       "\\item ' chr22:38674545\\_T\\_C'\n",
       "\\item ' chr22:38586437\\_T\\_A'\n",
       "\\item ' chr22:38673176\\_T\\_C'\n",
       "\\item ' chr22:38558698\\_C\\_G'\n",
       "\\item ' chr22:38669996\\_T\\_C'\n",
       "\\item ' chr22:38653225\\_A\\_C'\n",
       "\\item ' chr22:38661758\\_C\\_T'\n",
       "\\item ' chr22:38653312\\_A\\_G'\n",
       "\\item ' chr22:38655700\\_C\\_T'\n",
       "\\item ' chr22:38643850\\_G\\_C'\n",
       "\\item ' chr22:38650322\\_T\\_C'\n",
       "\\item ' chr22:38658766\\_A\\_G'\n",
       "\\item ' chr22:38539922\\_C\\_G'\n",
       "\\item ' chr22:38648147\\_G\\_C'\n",
       "\\item ' chr22:38659199\\_G\\_A'\n",
       "\\item ' chr22:38660351\\_C\\_T'\n",
       "\\item ' chr22:38657883\\_C\\_T'\n",
       "\\item ' chr22:38709702\\_G\\_A'\n",
       "\\item ' chr22:38711333\\_A\\_G'\n",
       "\\item ' chr22:38644885\\_T\\_C'\n",
       "\\item ' chr22:38659044\\_G\\_T'\n",
       "\\item ' chr22:38647016\\_G\\_A'\n",
       "\\end{enumerate*}\n"
      ],
      "text/markdown": [
       "1. 'chr22:38597462_A_G'\n",
       "2. ' chr22:38622329_T_C'\n",
       "3. ' chr22:38586316_T_C'\n",
       "4. ' chr22:38676093_C_G'\n",
       "5. ' chr22:38677891_A_G'\n",
       "6. ' chr22:38686169_A_G'\n",
       "7. ' chr22:38705614_G_C'\n",
       "8. ' chr22:38705628_T_C'\n",
       "9. ' chr22:38703597_T_C'\n",
       "10. ' chr22:38684073_T_C'\n",
       "11. ' chr22:38617825_T_C'\n",
       "12. ' chr22:38698614_A_C'\n",
       "13. ' chr22:38699693_C_G'\n",
       "14. ' chr22:38609057_A_T'\n",
       "15. ' chr22:38599380_G_T'\n",
       "16. ' chr22:38602514_C_A'\n",
       "17. ' chr22:38578149_C_A'\n",
       "18. ' chr22:38590243_G_A'\n",
       "19. ' chr22:38708315_C_T'\n",
       "20. ' chr22:38709943_T_C'\n",
       "21. ' chr22:38593641_T_C'\n",
       "22. ' chr22:38640275_T_C'\n",
       "23. ' chr22:38649094_T_C'\n",
       "24. ' chr22:38640764_T_C'\n",
       "25. ' chr22:38657752_G_C'\n",
       "26. ' chr22:38593808_A_G'\n",
       "27. ' chr22:38652311_A_G'\n",
       "28. ' chr22:38619297_T_C'\n",
       "29. ' chr22:38589060_T_C'\n",
       "30. ' chr22:38733994_A_G'\n",
       "31. ' chr22:38734959_C_T'\n",
       "32. ' chr22:38720790_A_C'\n",
       "33. ' chr22:38754445_G_A'\n",
       "34. ' chr22:38738710_T_C'\n",
       "35. ' chr22:38752478_G_A'\n",
       "36. ' chr22:38751710_C_T'\n",
       "37. ' chr22:38737798_C_T'\n",
       "38. ' chr22:38750522_C_T'\n",
       "39. ' chr22:38743338_A_G'\n",
       "40. ' chr22:38745595_G_A'\n",
       "41. ' chr22:38741829_C_G'\n",
       "42. ' chr22:38717129_G_A'\n",
       "43. ' chr22:38717898_C_T'\n",
       "44. ' chr22:38754538_G_T'\n",
       "45. ' chr22:38592110_A_G'\n",
       "46. ' chr22:38677070_C_G'\n",
       "47. ' chr22:38677056_C_T'\n",
       "48. ' chr22:38704123_G_A'\n",
       "49. ' chr22:38674730_A_G'\n",
       "50. ' chr22:38641547_A_G'\n",
       "51. ' chr22:38610929_A_G'\n",
       "52. ' chr22:38678732_A_G'\n",
       "53. ' chr22:38684240_A_G'\n",
       "54. ' chr22:38668961_C_T'\n",
       "55. ' chr22:38617420_C_G'\n",
       "56. ' chr22:38658492_A_G'\n",
       "57. ' chr22:38679587_C_T'\n",
       "58. ' chr22:38663914_T_C'\n",
       "59. ' chr22:38668373_T_A'\n",
       "60. ' chr22:38671519_A_G'\n",
       "61. ' chr22:38597971_A_C'\n",
       "62. ' chr22:38668204_G_A'\n",
       "63. ' chr22:38668401_A_G'\n",
       "64. ' chr22:38594733_C_T'\n",
       "65. ' chr22:38670815_C_T'\n",
       "66. ' chr22:38671326_G_A'\n",
       "67. ' chr22:38541789_G_A'\n",
       "68. ' chr22:38668676_C_T'\n",
       "69. ' chr22:38668662_T_C'\n",
       "70. ' chr22:38734966_A_G'\n",
       "71. ' chr22:38657044_T_C'\n",
       "72. ' chr22:38629272_T_C'\n",
       "73. ' chr22:38595388_G_T'\n",
       "74. ' chr22:38735722_T_G'\n",
       "75. ' chr22:38624261_C_A'\n",
       "76. ' chr22:38625517_G_A'\n",
       "77. ' chr22:38617517_G_A'\n",
       "78. ' chr22:38669734_A_G'\n",
       "79. ' chr22:38670205_A_G'\n",
       "80. ' chr22:38642791_T_C'\n",
       "81. ' chr22:38625712_G_A'\n",
       "82. ' chr22:38594657_G_A'\n",
       "83. ' chr22:38593002_C_G'\n",
       "84. ' chr22:38574434_G_A'\n",
       "85. ' chr22:38702782_T_C'\n",
       "86. ' chr22:38598572_C_T'\n",
       "87. ' chr22:38677819_T_C'\n",
       "88. ' chr22:38611169_A_C'\n",
       "89. ' chr22:38578675_C_T'\n",
       "90. ' chr22:38679429_C_G'\n",
       "91. ' chr22:38620177_T_C'\n",
       "92. ' chr22:38683959_T_C'\n",
       "93. ' chr22:38604392_G_A'\n",
       "94. ' chr22:38676467_G_A'\n",
       "95. ' chr22:38672784_T_C'\n",
       "96. ' chr22:38658256_T_G'\n",
       "97. ' chr22:38673040_A_G'\n",
       "98. ' chr22:38674084_A_G'\n",
       "99. ' chr22:38679140_C_T'\n",
       "100. ' chr22:38673505_T_C'\n",
       "101. ' chr22:38665025_G_A'\n",
       "102. ' chr22:38556568_C_T'\n",
       "103. ' chr22:38677830_G_C'\n",
       "104. ' chr22:38652750_T_G'\n",
       "105. ' chr22:38668225_A_G'\n",
       "106. ' chr22:38645036_A_G'\n",
       "107. ' chr22:38730503_A_G'\n",
       "108. ' chr22:38529714_A_C'\n",
       "109. ' chr22:38675653_A_G'\n",
       "110. ' chr22:38678447_T_C'\n",
       "111. ' chr22:38648422_A_C'\n",
       "112. ' chr22:38659298_C_T'\n",
       "113. ' chr22:38679230_G_C'\n",
       "114. ' chr22:38676449_C_T'\n",
       "115. ' chr22:38597365_C_T'\n",
       "116. ' chr22:38678711_G_A'\n",
       "117. ' chr22:38743908_C_T'\n",
       "118. ' chr22:38679055_T_C'\n",
       "119. ' chr22:38674545_T_C'\n",
       "120. ' chr22:38586437_T_A'\n",
       "121. ' chr22:38673176_T_C'\n",
       "122. ' chr22:38558698_C_G'\n",
       "123. ' chr22:38669996_T_C'\n",
       "124. ' chr22:38653225_A_C'\n",
       "125. ' chr22:38661758_C_T'\n",
       "126. ' chr22:38653312_A_G'\n",
       "127. ' chr22:38655700_C_T'\n",
       "128. ' chr22:38643850_G_C'\n",
       "129. ' chr22:38650322_T_C'\n",
       "130. ' chr22:38658766_A_G'\n",
       "131. ' chr22:38539922_C_G'\n",
       "132. ' chr22:38648147_G_C'\n",
       "133. ' chr22:38659199_G_A'\n",
       "134. ' chr22:38660351_C_T'\n",
       "135. ' chr22:38657883_C_T'\n",
       "136. ' chr22:38709702_G_A'\n",
       "137. ' chr22:38711333_A_G'\n",
       "138. ' chr22:38644885_T_C'\n",
       "139. ' chr22:38659044_G_T'\n",
       "140. ' chr22:38647016_G_A'\n",
       "\n",
       "\n"
      ],
      "text/plain": [
       "  [1] \"chr22:38597462_A_G\"  \" chr22:38622329_T_C\" \" chr22:38586316_T_C\"\n",
       "  [4] \" chr22:38676093_C_G\" \" chr22:38677891_A_G\" \" chr22:38686169_A_G\"\n",
       "  [7] \" chr22:38705614_G_C\" \" chr22:38705628_T_C\" \" chr22:38703597_T_C\"\n",
       " [10] \" chr22:38684073_T_C\" \" chr22:38617825_T_C\" \" chr22:38698614_A_C\"\n",
       " [13] \" chr22:38699693_C_G\" \" chr22:38609057_A_T\" \" chr22:38599380_G_T\"\n",
       " [16] \" chr22:38602514_C_A\" \" chr22:38578149_C_A\" \" chr22:38590243_G_A\"\n",
       " [19] \" chr22:38708315_C_T\" \" chr22:38709943_T_C\" \" chr22:38593641_T_C\"\n",
       " [22] \" chr22:38640275_T_C\" \" chr22:38649094_T_C\" \" chr22:38640764_T_C\"\n",
       " [25] \" chr22:38657752_G_C\" \" chr22:38593808_A_G\" \" chr22:38652311_A_G\"\n",
       " [28] \" chr22:38619297_T_C\" \" chr22:38589060_T_C\" \" chr22:38733994_A_G\"\n",
       " [31] \" chr22:38734959_C_T\" \" chr22:38720790_A_C\" \" chr22:38754445_G_A\"\n",
       " [34] \" chr22:38738710_T_C\" \" chr22:38752478_G_A\" \" chr22:38751710_C_T\"\n",
       " [37] \" chr22:38737798_C_T\" \" chr22:38750522_C_T\" \" chr22:38743338_A_G\"\n",
       " [40] \" chr22:38745595_G_A\" \" chr22:38741829_C_G\" \" chr22:38717129_G_A\"\n",
       " [43] \" chr22:38717898_C_T\" \" chr22:38754538_G_T\" \" chr22:38592110_A_G\"\n",
       " [46] \" chr22:38677070_C_G\" \" chr22:38677056_C_T\" \" chr22:38704123_G_A\"\n",
       " [49] \" chr22:38674730_A_G\" \" chr22:38641547_A_G\" \" chr22:38610929_A_G\"\n",
       " [52] \" chr22:38678732_A_G\" \" chr22:38684240_A_G\" \" chr22:38668961_C_T\"\n",
       " [55] \" chr22:38617420_C_G\" \" chr22:38658492_A_G\" \" chr22:38679587_C_T\"\n",
       " [58] \" chr22:38663914_T_C\" \" chr22:38668373_T_A\" \" chr22:38671519_A_G\"\n",
       " [61] \" chr22:38597971_A_C\" \" chr22:38668204_G_A\" \" chr22:38668401_A_G\"\n",
       " [64] \" chr22:38594733_C_T\" \" chr22:38670815_C_T\" \" chr22:38671326_G_A\"\n",
       " [67] \" chr22:38541789_G_A\" \" chr22:38668676_C_T\" \" chr22:38668662_T_C\"\n",
       " [70] \" chr22:38734966_A_G\" \" chr22:38657044_T_C\" \" chr22:38629272_T_C\"\n",
       " [73] \" chr22:38595388_G_T\" \" chr22:38735722_T_G\" \" chr22:38624261_C_A\"\n",
       " [76] \" chr22:38625517_G_A\" \" chr22:38617517_G_A\" \" chr22:38669734_A_G\"\n",
       " [79] \" chr22:38670205_A_G\" \" chr22:38642791_T_C\" \" chr22:38625712_G_A\"\n",
       " [82] \" chr22:38594657_G_A\" \" chr22:38593002_C_G\" \" chr22:38574434_G_A\"\n",
       " [85] \" chr22:38702782_T_C\" \" chr22:38598572_C_T\" \" chr22:38677819_T_C\"\n",
       " [88] \" chr22:38611169_A_C\" \" chr22:38578675_C_T\" \" chr22:38679429_C_G\"\n",
       " [91] \" chr22:38620177_T_C\" \" chr22:38683959_T_C\" \" chr22:38604392_G_A\"\n",
       " [94] \" chr22:38676467_G_A\" \" chr22:38672784_T_C\" \" chr22:38658256_T_G\"\n",
       " [97] \" chr22:38673040_A_G\" \" chr22:38674084_A_G\" \" chr22:38679140_C_T\"\n",
       "[100] \" chr22:38673505_T_C\" \" chr22:38665025_G_A\" \" chr22:38556568_C_T\"\n",
       "[103] \" chr22:38677830_G_C\" \" chr22:38652750_T_G\" \" chr22:38668225_A_G\"\n",
       "[106] \" chr22:38645036_A_G\" \" chr22:38730503_A_G\" \" chr22:38529714_A_C\"\n",
       "[109] \" chr22:38675653_A_G\" \" chr22:38678447_T_C\" \" chr22:38648422_A_C\"\n",
       "[112] \" chr22:38659298_C_T\" \" chr22:38679230_G_C\" \" chr22:38676449_C_T\"\n",
       "[115] \" chr22:38597365_C_T\" \" chr22:38678711_G_A\" \" chr22:38743908_C_T\"\n",
       "[118] \" chr22:38679055_T_C\" \" chr22:38674545_T_C\" \" chr22:38586437_T_A\"\n",
       "[121] \" chr22:38673176_T_C\" \" chr22:38558698_C_G\" \" chr22:38669996_T_C\"\n",
       "[124] \" chr22:38653225_A_C\" \" chr22:38661758_C_T\" \" chr22:38653312_A_G\"\n",
       "[127] \" chr22:38655700_C_T\" \" chr22:38643850_G_C\" \" chr22:38650322_T_C\"\n",
       "[130] \" chr22:38658766_A_G\" \" chr22:38539922_C_G\" \" chr22:38648147_G_C\"\n",
       "[133] \" chr22:38659199_G_A\" \" chr22:38660351_C_T\" \" chr22:38657883_C_T\"\n",
       "[136] \" chr22:38709702_G_A\" \" chr22:38711333_A_G\" \" chr22:38644885_T_C\"\n",
       "[139] \" chr22:38659044_G_T\" \" chr22:38647016_G_A\""
      ]
     },
     "metadata": {},
     "output_type": "display_data"
    }
   ],
   "source": [
    "CBY1_var"
   ]
  },
  {
   "cell_type": "code",
   "execution_count": 16,
   "id": "ebe3f2e6-d805-453a-b192-7fb43c1cd8e4",
   "metadata": {
    "vscode": {
     "languageId": "r"
    }
   },
   "outputs": [
    {
     "data": {
      "text/html": [
       "<table class=\"dataframe\">\n",
       "<caption>A data.table: 1 x 25</caption>\n",
       "<thead>\n",
       "\t<tr><th scope=col>chrom</th><th scope=col>pos</th><th scope=col>a1</th><th scope=col>a2</th><th scope=col>molecular_trait_id</th><th scope=col>variant_id</th><th scope=col>start_distance</th><th scope=col>end_distance</th><th scope=col>af</th><th scope=col>ma_samples</th><th scope=col>...</th><th scope=col>beta_APOE</th><th scope=col>se_APOE</th><th scope=col>pvalue_APOE_interaction</th><th scope=col>beta_APOE_interaction</th><th scope=col>se_APOE_interaction</th><th scope=col>molecular_trait_object_id</th><th scope=col>n</th><th scope=col>qvalue_main</th><th scope=col>qvalue_interaction</th><th scope=col>region</th></tr>\n",
       "\t<tr><th scope=col>&lt;int&gt;</th><th scope=col>&lt;int&gt;</th><th scope=col>&lt;chr&gt;</th><th scope=col>&lt;chr&gt;</th><th scope=col>&lt;chr&gt;</th><th scope=col>&lt;chr&gt;</th><th scope=col>&lt;int&gt;</th><th scope=col>&lt;int&gt;</th><th scope=col>&lt;dbl&gt;</th><th scope=col>&lt;int&gt;</th><th scope=col>...</th><th scope=col>&lt;dbl&gt;</th><th scope=col>&lt;dbl&gt;</th><th scope=col>&lt;dbl&gt;</th><th scope=col>&lt;dbl&gt;</th><th scope=col>&lt;dbl&gt;</th><th scope=col>&lt;chr&gt;</th><th scope=col>&lt;int&gt;</th><th scope=col>&lt;dbl&gt;</th><th scope=col>&lt;dbl&gt;</th><th scope=col>&lt;chr&gt;</th></tr>\n",
       "</thead>\n",
       "<tbody>\n",
       "\t<tr><td>22</td><td>38597462</td><td>G</td><td>A</td><td>ENSG00000183741</td><td>chr22:38597462_A_G</td><td>1077462</td><td>-3082538</td><td>0.3028534</td><td>405</td><td>...</td><td>0.02951332</td><td>0.02250028</td><td>0.0001735084</td><td>-0.09367546</td><td>0.0248172</td><td>ENSG00000183741</td><td>771</td><td>0.4975596</td><td>0.01982985</td><td>DLPFC</td></tr>\n",
       "</tbody>\n",
       "</table>\n"
      ],
      "text/latex": [
       "A data.table: 1 x 25\n",
       "\\begin{tabular}{lllllllllllllllllllll}\n",
       " chrom & pos & a1 & a2 & molecular\\_trait\\_id & variant\\_id & start\\_distance & end\\_distance & af & ma\\_samples & ... & beta\\_APOE & se\\_APOE & pvalue\\_APOE\\_interaction & beta\\_APOE\\_interaction & se\\_APOE\\_interaction & molecular\\_trait\\_object\\_id & n & qvalue\\_main & qvalue\\_interaction & region\\\\\n",
       " <int> & <int> & <chr> & <chr> & <chr> & <chr> & <int> & <int> & <dbl> & <int> & ... & <dbl> & <dbl> & <dbl> & <dbl> & <dbl> & <chr> & <int> & <dbl> & <dbl> & <chr>\\\\\n",
       "\\hline\n",
       "\t 22 & 38597462 & G & A & ENSG00000183741 & chr22:38597462\\_A\\_G & 1077462 & -3082538 & 0.3028534 & 405 & ... & 0.02951332 & 0.02250028 & 0.0001735084 & -0.09367546 & 0.0248172 & ENSG00000183741 & 771 & 0.4975596 & 0.01982985 & DLPFC\\\\\n",
       "\\end{tabular}\n"
      ],
      "text/markdown": [
       "\n",
       "A data.table: 1 x 25\n",
       "\n",
       "| chrom &lt;int&gt; | pos &lt;int&gt; | a1 &lt;chr&gt; | a2 &lt;chr&gt; | molecular_trait_id &lt;chr&gt; | variant_id &lt;chr&gt; | start_distance &lt;int&gt; | end_distance &lt;int&gt; | af &lt;dbl&gt; | ma_samples &lt;int&gt; | ... ... | beta_APOE &lt;dbl&gt; | se_APOE &lt;dbl&gt; | pvalue_APOE_interaction &lt;dbl&gt; | beta_APOE_interaction &lt;dbl&gt; | se_APOE_interaction &lt;dbl&gt; | molecular_trait_object_id &lt;chr&gt; | n &lt;int&gt; | qvalue_main &lt;dbl&gt; | qvalue_interaction &lt;dbl&gt; | region &lt;chr&gt; |\n",
       "|---|---|---|---|---|---|---|---|---|---|---|---|---|---|---|---|---|---|---|---|---|\n",
       "| 22 | 38597462 | G | A | ENSG00000183741 | chr22:38597462_A_G | 1077462 | -3082538 | 0.3028534 | 405 | ... | 0.02951332 | 0.02250028 | 0.0001735084 | -0.09367546 | 0.0248172 | ENSG00000183741 | 771 | 0.4975596 | 0.01982985 | DLPFC |\n",
       "\n"
      ],
      "text/plain": [
       "  chrom pos      a1 a2 molecular_trait_id variant_id         start_distance\n",
       "1 22    38597462 G  A  ENSG00000183741    chr22:38597462_A_G 1077462       \n",
       "  end_distance af        ma_samples ... beta_APOE  se_APOE   \n",
       "1 -3082538     0.3028534 405        ... 0.02951332 0.02250028\n",
       "  pvalue_APOE_interaction beta_APOE_interaction se_APOE_interaction\n",
       "1 0.0001735084            -0.09367546           0.0248172          \n",
       "  molecular_trait_object_id n   qvalue_main qvalue_interaction region\n",
       "1 ENSG00000183741           771 0.4975596   0.01982985         DLPFC "
      ]
     },
     "metadata": {},
     "output_type": "display_data"
    }
   ],
   "source": [
    "int_res |> filter(variant_id == \"chr22:38597462_A_G\", qvalue_interaction< 0.05)"
   ]
  },
  {
   "cell_type": "code",
   "execution_count": 14,
   "id": "d3c844c8-99b1-48b6-9584-29d4cfd2e82f",
   "metadata": {
    "vscode": {
     "languageId": "r"
    }
   },
   "outputs": [
    {
     "data": {
      "text/html": [
       "<table class=\"dataframe\">\n",
       "<caption>A data.table: 461 x 25</caption>\n",
       "<thead>\n",
       "\t<tr><th scope=col>chrom</th><th scope=col>pos</th><th scope=col>a1</th><th scope=col>a2</th><th scope=col>molecular_trait_id</th><th scope=col>variant_id</th><th scope=col>start_distance</th><th scope=col>end_distance</th><th scope=col>af</th><th scope=col>ma_samples</th><th scope=col>...</th><th scope=col>beta_APOE</th><th scope=col>se_APOE</th><th scope=col>pvalue_APOE_interaction</th><th scope=col>beta_APOE_interaction</th><th scope=col>se_APOE_interaction</th><th scope=col>molecular_trait_object_id</th><th scope=col>n</th><th scope=col>qvalue_main</th><th scope=col>qvalue_interaction</th><th scope=col>region</th></tr>\n",
       "\t<tr><th scope=col>&lt;int&gt;</th><th scope=col>&lt;int&gt;</th><th scope=col>&lt;chr&gt;</th><th scope=col>&lt;chr&gt;</th><th scope=col>&lt;chr&gt;</th><th scope=col>&lt;chr&gt;</th><th scope=col>&lt;int&gt;</th><th scope=col>&lt;int&gt;</th><th scope=col>&lt;dbl&gt;</th><th scope=col>&lt;int&gt;</th><th scope=col>...</th><th scope=col>&lt;dbl&gt;</th><th scope=col>&lt;dbl&gt;</th><th scope=col>&lt;dbl&gt;</th><th scope=col>&lt;dbl&gt;</th><th scope=col>&lt;dbl&gt;</th><th scope=col>&lt;chr&gt;</th><th scope=col>&lt;int&gt;</th><th scope=col>&lt;dbl&gt;</th><th scope=col>&lt;dbl&gt;</th><th scope=col>&lt;chr&gt;</th></tr>\n",
       "</thead>\n",
       "<tbody>\n",
       "\t<tr><td>22</td><td>38597462</td><td>G</td><td>A</td><td>ENSG00000128283</td><td>chr22:38597462_A_G</td><td>3357462</td><td>-3082538</td><td>0.3028534</td><td>405</td><td>...</td><td>-0.018575037</td><td>0.02993634</td><td>0.14503030</td><td> 0.0481713970</td><td>0.03301896</td><td>ENSG00000128283</td><td>771</td><td>0.8783717</td><td>0.6380473</td><td>DLPFC</td></tr>\n",
       "\t<tr><td>22</td><td>38597462</td><td>G</td><td>A</td><td>ENSG00000100083</td><td>chr22:38597462_A_G</td><td>3357462</td><td>-3082538</td><td>0.3028534</td><td>405</td><td>...</td><td>-0.035590645</td><td>0.02964006</td><td>0.66363114</td><td> 0.0142239000</td><td>0.03269218</td><td>ENSG00000100083</td><td>771</td><td>0.9999578</td><td>0.9202096</td><td>DLPFC</td></tr>\n",
       "\t<tr><td>22</td><td>38597462</td><td>G</td><td>A</td><td>ENSG00000100092</td><td>chr22:38597462_A_G</td><td>3357462</td><td>-3082538</td><td>0.3028534</td><td>405</td><td>...</td><td> 0.011254495</td><td>0.03871303</td><td>0.78766545</td><td> 0.0115051080</td><td>0.04269942</td><td>ENSG00000100092</td><td>771</td><td>0.9346782</td><td>0.9639307</td><td>DLPFC</td></tr>\n",
       "\t<tr><td>22</td><td>38597462</td><td>G</td><td>A</td><td>ENSG00000285304</td><td>chr22:38597462_A_G</td><td>3357462</td><td>-3082538</td><td>0.3028534</td><td>405</td><td>...</td><td>-0.004102273</td><td>0.02600952</td><td>0.40410010</td><td> 0.0239489940</td><td>0.02868780</td><td>ENSG00000285304</td><td>771</td><td>0.9174260</td><td>0.8783479</td><td>DLPFC</td></tr>\n",
       "\t<tr><td>22</td><td>38597462</td><td>G</td><td>A</td><td>ENSG00000241360</td><td>chr22:38597462_A_G</td><td>3357462</td><td>-3082538</td><td>0.3028534</td><td>405</td><td>...</td><td>-0.009330144</td><td>0.02850772</td><td>0.44808297</td><td> 0.0238664190</td><td>0.03144324</td><td>ENSG00000241360</td><td>771</td><td>0.9871163</td><td>0.9868661</td><td>DLPFC</td></tr>\n",
       "\t<tr><td>22</td><td>38597462</td><td>G</td><td>A</td><td>ENSG00000100097</td><td>chr22:38597462_A_G</td><td>3357462</td><td>-3082538</td><td>0.3028534</td><td>405</td><td>...</td><td>-0.022981402</td><td>0.03369676</td><td>0.33731061</td><td> 0.0356849800</td><td>0.03716660</td><td>ENSG00000100097</td><td>771</td><td>0.9995313</td><td>0.9044449</td><td>DLPFC</td></tr>\n",
       "\t<tr><td>22</td><td>38597462</td><td>G</td><td>A</td><td>ENSG00000273899</td><td>chr22:38597462_A_G</td><td>3357462</td><td>-3082538</td><td>0.3028534</td><td>405</td><td>...</td><td>-0.024469815</td><td>0.03808817</td><td>0.56967365</td><td> 0.0238951820</td><td>0.04201021</td><td>ENSG00000273899</td><td>771</td><td>0.8586110</td><td>0.9363699</td><td>DLPFC</td></tr>\n",
       "\t<tr><td>22</td><td>38597462</td><td>G</td><td>A</td><td>ENSG00000100101</td><td>chr22:38597462_A_G</td><td>3357462</td><td>-3082538</td><td>0.3028534</td><td>405</td><td>...</td><td> 0.022730667</td><td>0.04493425</td><td>0.49739361</td><td>-0.0336492200</td><td>0.04956125</td><td>ENSG00000100101</td><td>771</td><td>0.9620571</td><td>0.9507043</td><td>DLPFC</td></tr>\n",
       "\t<tr><td>22</td><td>38597462</td><td>G</td><td>A</td><td>ENSG00000100106</td><td>chr22:38597462_A_G</td><td>3357462</td><td>-3082538</td><td>0.3028534</td><td>405</td><td>...</td><td>-0.017359031</td><td>0.02793734</td><td>0.97753692</td><td>-0.0008679363</td><td>0.03081412</td><td>ENSG00000100106</td><td>771</td><td>0.7390184</td><td>0.9998849</td><td>DLPFC</td></tr>\n",
       "\t<tr><td>22</td><td>38597462</td><td>G</td><td>A</td><td>ENSG00000189060</td><td>chr22:38597462_A_G</td><td>3357462</td><td>-3082538</td><td>0.3028534</td><td>405</td><td>...</td><td> 0.034252160</td><td>0.03941442</td><td>0.91490500</td><td>-0.0046468960</td><td>0.04347304</td><td>ENSG00000189060</td><td>771</td><td>0.7632077</td><td>0.9616505</td><td>DLPFC</td></tr>\n",
       "\t<tr><td>22</td><td>38597462</td><td>G</td><td>A</td><td>ENSG00000100116</td><td>chr22:38597462_A_G</td><td>3357462</td><td>-3082538</td><td>0.3028534</td><td>405</td><td>...</td><td>-0.102945820</td><td>0.04032461</td><td>0.21623190</td><td> 0.0550491800</td><td>0.04447694</td><td>ENSG00000100116</td><td>771</td><td>0.8785916</td><td>0.9266863</td><td>DLPFC</td></tr>\n",
       "\t<tr><td>22</td><td>38597462</td><td>G</td><td>A</td><td>ENSG00000128310</td><td>chr22:38597462_A_G</td><td>3357462</td><td>-3082538</td><td>0.3028534</td><td>405</td><td>...</td><td> 0.107929340</td><td>0.06264837</td><td>0.09113387</td><td>-0.1168969100</td><td>0.06909944</td><td>ENSG00000128310</td><td>771</td><td>0.6150325</td><td>0.7874281</td><td>DLPFC</td></tr>\n",
       "\t<tr><td>22</td><td>38597462</td><td>G</td><td>A</td><td>ENSG00000100129</td><td>chr22:38597462_A_G</td><td>3357462</td><td>-3082538</td><td>0.3028534</td><td>405</td><td>...</td><td>-0.029417396</td><td>0.03013118</td><td>0.47201459</td><td> 0.0239146200</td><td>0.03323387</td><td>ENSG00000100129</td><td>771</td><td>0.8292383</td><td>0.9969891</td><td>DLPFC</td></tr>\n",
       "\t<tr><td>22</td><td>38597462</td><td>G</td><td>A</td><td>ENSG00000100124</td><td>chr22:38597462_A_G</td><td>3357462</td><td>-3082538</td><td>0.3028534</td><td>405</td><td>...</td><td> 0.042102117</td><td>0.03369693</td><td>0.88554323</td><td>-0.0053519094</td><td>0.03716679</td><td>ENSG00000100124</td><td>771</td><td>0.9895338</td><td>0.8972200</td><td>DLPFC</td></tr>\n",
       "\t<tr><td>22</td><td>38597462</td><td>G</td><td>A</td><td>ENSG00000279738</td><td>chr22:38597462_A_G</td><td>3357462</td><td>-3082538</td><td>0.3028534</td><td>405</td><td>...</td><td>-0.040703535</td><td>0.03867089</td><td>0.09689884</td><td> 0.0709000450</td><td>0.04265294</td><td>ENSG00000279738</td><td>771</td><td>0.7898105</td><td>0.5555080</td><td>DLPFC</td></tr>\n",
       "\t<tr><td>22</td><td>38597462</td><td>G</td><td>A</td><td>ENSG00000100139</td><td>chr22:38597462_A_G</td><td>3357462</td><td>-3082538</td><td>0.3028534</td><td>405</td><td>...</td><td> 0.049217023</td><td>0.02789021</td><td>0.19615112</td><td>-0.0398000630</td><td>0.03076215</td><td>ENSG00000100139</td><td>771</td><td>0.8024094</td><td>0.8958952</td><td>DLPFC</td></tr>\n",
       "\t<tr><td>22</td><td>38597462</td><td>G</td><td>A</td><td>ENSG00000278948</td><td>chr22:38597462_A_G</td><td>3357462</td><td>-3082538</td><td>0.3028534</td><td>405</td><td>...</td><td> 0.007542463</td><td>0.03609426</td><td>0.32463293</td><td>-0.0392400620</td><td>0.03981099</td><td>ENSG00000278948</td><td>771</td><td>0.6543538</td><td>0.8437952</td><td>DLPFC</td></tr>\n",
       "\t<tr><td>22</td><td>38597462</td><td>G</td><td>A</td><td>ENSG00000272582</td><td>chr22:38597462_A_G</td><td>3357462</td><td>-3082538</td><td>0.3028534</td><td>405</td><td>...</td><td> 0.004004177</td><td>0.05094793</td><td>0.34781907</td><td>-0.0527912940</td><td>0.05619417</td><td>ENSG00000272582</td><td>771</td><td>0.8185081</td><td>0.9083147</td><td>DLPFC</td></tr>\n",
       "\t<tr><td>22</td><td>38597462</td><td>G</td><td>A</td><td>ENSG00000100142</td><td>chr22:38597462_A_G</td><td>3357462</td><td>-3082538</td><td>0.3028534</td><td>405</td><td>...</td><td>-0.045245554</td><td>0.03489256</td><td>0.46734484</td><td> 0.0279864330</td><td>0.03848554</td><td>ENSG00000100142</td><td>771</td><td>0.9143158</td><td>0.8467280</td><td>DLPFC</td></tr>\n",
       "\t<tr><td>22</td><td>38597462</td><td>G</td><td>A</td><td>ENSG00000128346</td><td>chr22:38597462_A_G</td><td>3357462</td><td>-3082538</td><td>0.3028534</td><td>405</td><td>...</td><td> 0.007986032</td><td>0.07123135</td><td>0.96732622</td><td> 0.0032193512</td><td>0.07856624</td><td>ENSG00000128346</td><td>771</td><td>0.7877221</td><td>0.9998228</td><td>DLPFC</td></tr>\n",
       "\t<tr><td>22</td><td>38597462</td><td>G</td><td>A</td><td>ENSG00000100146</td><td>chr22:38597462_A_G</td><td>1626776</td><td>-3082538</td><td>0.3028534</td><td>405</td><td>...</td><td>-0.032090664</td><td>0.02687182</td><td>0.07991179</td><td> 0.0519772660</td><td>0.02963889</td><td>ENSG00000100146</td><td>771</td><td>0.7404776</td><td>0.3787101</td><td>DLPFC</td></tr>\n",
       "\t<tr><td>22</td><td>38597462</td><td>G</td><td>A</td><td>ENSG00000273214</td><td>chr22:38597462_A_G</td><td>1554233</td><td>-3082538</td><td>0.3028534</td><td>405</td><td>...</td><td>-0.064832550</td><td>0.06650998</td><td>0.43412918</td><td> 0.0574094170</td><td>0.07335869</td><td>ENSG00000273214</td><td>771</td><td>0.6411854</td><td>0.9210790</td><td>DLPFC</td></tr>\n",
       "\t<tr><td>22</td><td>38597462</td><td>G</td><td>A</td><td>ENSG00000100151</td><td>chr22:38597462_A_G</td><td>1541152</td><td>-3082538</td><td>0.3028534</td><td>405</td><td>...</td><td>-0.019871347</td><td>0.03005007</td><td>0.72601226</td><td> 0.0116195070</td><td>0.03314440</td><td>ENSG00000100151</td><td>771</td><td>0.7466013</td><td>0.8714776</td><td>DLPFC</td></tr>\n",
       "\t<tr><td>22</td><td>38597462</td><td>G</td><td>A</td><td>ENSG00000100156</td><td>chr22:38597462_A_G</td><td>1519328</td><td>-3082538</td><td>0.3028534</td><td>405</td><td>...</td><td> 0.040573380</td><td>0.04723233</td><td>0.54694218</td><td>-0.0313948470</td><td>0.05209597</td><td>ENSG00000100156</td><td>771</td><td>0.9658545</td><td>0.9103961</td><td>DLPFC</td></tr>\n",
       "\t<tr><td>22</td><td>38597462</td><td>G</td><td>A</td><td>ENSG00000272720</td><td>chr22:38597462_A_G</td><td>1507336</td><td>-3082538</td><td>0.3028534</td><td>405</td><td>...</td><td> 0.001558614</td><td>0.03793586</td><td>0.89455530</td><td> 0.0055478355</td><td>0.04184222</td><td>ENSG00000272720</td><td>771</td><td>0.8439855</td><td>0.9997568</td><td>DLPFC</td></tr>\n",
       "\t<tr><td>22</td><td>38597462</td><td>G</td><td>A</td><td>ENSG00000128298</td><td>chr22:38597462_A_G</td><td>1512810</td><td>-3082538</td><td>0.3028534</td><td>405</td><td>...</td><td> 0.061800666</td><td>0.03556331</td><td>0.74614732</td><td> 0.0127030650</td><td>0.03922536</td><td>ENSG00000128298</td><td>771</td><td>0.9596393</td><td>0.9991794</td><td>DLPFC</td></tr>\n",
       "\t<tr><td>22</td><td>38597462</td><td>G</td><td>A</td><td>ENSG00000185022</td><td>chr22:38597462_A_G</td><td>1395531</td><td>-3082538</td><td>0.3028534</td><td>405</td><td>...</td><td>-0.058879156</td><td>0.03876546</td><td>0.24476319</td><td> 0.0497744980</td><td>0.04275724</td><td>ENSG00000185022</td><td>771</td><td>0.6405950</td><td>0.5473322</td><td>DLPFC</td></tr>\n",
       "\t<tr><td>22</td><td>38597462</td><td>G</td><td>A</td><td>ENSG00000184381</td><td>chr22:38597462_A_G</td><td>1485967</td><td>-3082538</td><td>0.3028534</td><td>405</td><td>...</td><td>-0.076711820</td><td>0.03885692</td><td>0.05488959</td><td> 0.0824114800</td><td>0.04285812</td><td>ENSG00000184381</td><td>771</td><td>0.9846906</td><td>0.9994960</td><td>DLPFC</td></tr>\n",
       "\t<tr><td>22</td><td>38597462</td><td>G</td><td>A</td><td>ENSG00000198792</td><td>chr22:38597462_A_G</td><td>1378171</td><td>-3082538</td><td>0.3028534</td><td>405</td><td>...</td><td>-0.023851141</td><td>0.03183174</td><td>0.14675162</td><td> 0.0510027330</td><td>0.03510954</td><td>ENSG00000198792</td><td>771</td><td>0.9997900</td><td>0.6777735</td><td>DLPFC</td></tr>\n",
       "\t<tr><td>22</td><td>38597462</td><td>G</td><td>A</td><td>ENSG00000213923</td><td>chr22:38597462_A_G</td><td>1306771</td><td>-3082538</td><td>0.3028534</td><td>405</td><td>...</td><td> 0.003158539</td><td>0.02490203</td><td>0.28277227</td><td> 0.0295240280</td><td>0.02746627</td><td>ENSG00000213923</td><td>771</td><td>0.8182914</td><td>0.9999951</td><td>DLPFC</td></tr>\n",
       "\t<tr><td>...</td><td>...</td><td>...</td><td>...</td><td>...</td><td>...</td><td>...</td><td>...</td><td>...</td><td>...</td><td></td><td>...</td><td>...</td><td>...</td><td>...</td><td>...</td><td>...</td><td>...</td><td>...</td><td>...</td><td>...</td></tr>\n",
       "\t<tr><td>22</td><td>38597462</td><td>G</td><td>A</td><td>ENSG00000100242</td><td>chr22:38597462_A_G</td><td>1077462</td><td>-3082538</td><td>0.3160055</td><td>402</td><td>...</td><td> 0.067003700</td><td>0.04689517</td><td>0.559386819</td><td>-0.0298399300</td><td>0.05109123</td><td>ENSG00000100242</td><td>731</td><td>0.0006857333</td><td>0.9982052</td><td>Mega_Oli</td></tr>\n",
       "\t<tr><td>22</td><td>38597462</td><td>G</td><td>A</td><td>ENSG00000221890</td><td>chr22:38597462_A_G</td><td>1077462</td><td>-3082538</td><td>0.3160055</td><td>402</td><td>...</td><td> 0.124685550</td><td>0.06372140</td><td>0.226464679</td><td>-0.0840474000</td><td>0.06942303</td><td>ENSG00000221890</td><td>731</td><td>0.8582303724</td><td>0.5576658</td><td>Mega_Oli</td></tr>\n",
       "\t<tr><td>22</td><td>38597462</td><td>G</td><td>A</td><td>ENSG00000183741</td><td>chr22:38597462_A_G</td><td>1077462</td><td>-3082538</td><td>0.3160055</td><td>402</td><td>...</td><td> 0.104704170</td><td>0.06078967</td><td>0.178050935</td><td>-0.0892919300</td><td>0.06622897</td><td>ENSG00000183741</td><td>731</td><td>0.9985802835</td><td>0.9512260</td><td>Mega_Oli</td></tr>\n",
       "\t<tr><td>22</td><td>38597462</td><td>G</td><td>A</td><td>ENSG00000100307</td><td>chr22:38597462_A_G</td><td>1077462</td><td>-3082538</td><td>0.3160055</td><td>402</td><td>...</td><td> 0.144456680</td><td>0.07771309</td><td>0.183837514</td><td>-0.1126437900</td><td>0.08466666</td><td>ENSG00000100307</td><td>731</td><td>0.8933088186</td><td>0.9972538</td><td>Mega_Oli</td></tr>\n",
       "\t<tr><td>22</td><td>38597462</td><td>G</td><td>A</td><td>ENSG00000100316</td><td>chr22:38597462_A_G</td><td>1077462</td><td>-3082538</td><td>0.3160055</td><td>402</td><td>...</td><td>-0.005248471</td><td>0.03719657</td><td>0.562054053</td><td> 0.0235080290</td><td>0.04052483</td><td>ENSG00000100316</td><td>731</td><td>0.9975950597</td><td>0.9998713</td><td>Mega_Oli</td></tr>\n",
       "\t<tr><td>22</td><td>38597462</td><td>G</td><td>A</td><td>ENSG00000100321</td><td>chr22:38597462_A_G</td><td>1077462</td><td>-3082538</td><td>0.3160055</td><td>402</td><td>...</td><td>-0.041540727</td><td>0.06306323</td><td>0.895051246</td><td> 0.0090668980</td><td>0.06870598</td><td>ENSG00000100321</td><td>731</td><td>0.9988512395</td><td>0.9999162</td><td>Mega_Oli</td></tr>\n",
       "\t<tr><td>22</td><td>38597462</td><td>G</td><td>A</td><td>ENSG00000100324</td><td>chr22:38597462_A_G</td><td>1077462</td><td>-3082538</td><td>0.3160055</td><td>402</td><td>...</td><td>-0.011641635</td><td>0.08115866</td><td>0.748523675</td><td> 0.0283583940</td><td>0.08842054</td><td>ENSG00000100324</td><td>731</td><td>0.8223714276</td><td>0.9990566</td><td>Mega_Oli</td></tr>\n",
       "\t<tr><td>22</td><td>38597462</td><td>G</td><td>A</td><td>ENSG00000128268</td><td>chr22:38597462_A_G</td><td>1077462</td><td>-3082538</td><td>0.3160055</td><td>402</td><td>...</td><td> 0.078234020</td><td>0.06597727</td><td>0.598785579</td><td>-0.0378383600</td><td>0.07188075</td><td>ENSG00000128268</td><td>731</td><td>0.7554320216</td><td>0.6828717</td><td>Mega_Oli</td></tr>\n",
       "\t<tr><td>22</td><td>38597462</td><td>G</td><td>A</td><td>ENSG00000100335</td><td>chr22:38597462_A_G</td><td>1077462</td><td>-3082538</td><td>0.3160055</td><td>402</td><td>...</td><td> 0.029176626</td><td>0.09131959</td><td>0.637055972</td><td> 0.0469635240</td><td>0.09949064</td><td>ENSG00000100335</td><td>731</td><td>0.6155440185</td><td>0.9989901</td><td>Mega_Oli</td></tr>\n",
       "\t<tr><td>22</td><td>38597462</td><td>G</td><td>A</td><td>ENSG00000128272</td><td>chr22:38597462_A_G</td><td>1077462</td><td>-3082538</td><td>0.3160055</td><td>402</td><td>...</td><td> 0.053730330</td><td>0.06241384</td><td>0.691310926</td><td>-0.0270125600</td><td>0.06799848</td><td>ENSG00000128272</td><td>731</td><td>0.7515981341</td><td>0.9993927</td><td>Mega_Oli</td></tr>\n",
       "\t<tr><td>22</td><td>38597462</td><td>G</td><td>A</td><td>ENSG00000187051</td><td>chr22:38597462_A_G</td><td>1077462</td><td>-3082538</td><td>0.3160055</td><td>402</td><td>...</td><td>-0.033223577</td><td>0.04937576</td><td>0.564723767</td><td> 0.0309923480</td><td>0.05379378</td><td>ENSG00000187051</td><td>731</td><td>0.8299982254</td><td>0.9850051</td><td>Mega_Oli</td></tr>\n",
       "\t<tr><td>22</td><td>38597462</td><td>G</td><td>A</td><td>ENSG00000100354</td><td>chr22:38597462_A_G</td><td>1077462</td><td>-3082538</td><td>0.3160055</td><td>402</td><td>...</td><td> 0.005360078</td><td>0.03929402</td><td>0.506184483</td><td>-0.0284753480</td><td>0.04280996</td><td>ENSG00000100354</td><td>731</td><td>0.9988747471</td><td>0.9992808</td><td>Mega_Oli</td></tr>\n",
       "\t<tr><td>22</td><td>38597462</td><td>G</td><td>A</td><td>ENSG00000100359</td><td>chr22:38597462_A_G</td><td>1077462</td><td>-3082538</td><td>0.3160055</td><td>402</td><td>...</td><td>-0.031637467</td><td>0.06772940</td><td>0.610995554</td><td> 0.0375513900</td><td>0.07378966</td><td>ENSG00000100359</td><td>731</td><td>0.5695791390</td><td>0.9995877</td><td>Mega_Oli</td></tr>\n",
       "\t<tr><td>22</td><td>38597462</td><td>G</td><td>A</td><td>ENSG00000100372</td><td>chr22:38597462_A_G</td><td>1077462</td><td>-3221937</td><td>0.3160055</td><td>402</td><td>...</td><td>-0.003308074</td><td>0.08561189</td><td>0.507010125</td><td> 0.0619202500</td><td>0.09327223</td><td>ENSG00000100372</td><td>731</td><td>0.8634484430</td><td>0.7912790</td><td>Mega_Oli</td></tr>\n",
       "\t<tr><td>22</td><td>38597462</td><td>G</td><td>A</td><td>ENSG00000100380</td><td>chr22:38597462_A_G</td><td>1077462</td><td>-3259177</td><td>0.3160055</td><td>402</td><td>...</td><td>-0.017756037</td><td>0.04890942</td><td>0.853718889</td><td> 0.0098284630</td><td>0.05328571</td><td>ENSG00000100380</td><td>731</td><td>0.4431173859</td><td>0.9993633</td><td>Mega_Oli</td></tr>\n",
       "\t<tr><td>22</td><td>38597462</td><td>G</td><td>A</td><td>ENSG00000196236</td><td>chr22:38597462_A_G</td><td>1077462</td><td>-3335353</td><td>0.3160055</td><td>402</td><td>...</td><td> 0.048288780</td><td>0.08565446</td><td>0.826798693</td><td>-0.0204271490</td><td>0.09331860</td><td>ENSG00000196236</td><td>731</td><td>0.8880064019</td><td>0.9997200</td><td>Mega_Oli</td></tr>\n",
       "\t<tr><td>22</td><td>38597462</td><td>G</td><td>A</td><td>ENSG00000100387</td><td>chr22:38597462_A_G</td><td>1077462</td><td>-3375847</td><td>0.3160055</td><td>402</td><td>...</td><td>-0.102837860</td><td>0.06210089</td><td>0.677901138</td><td> 0.0281127240</td><td>0.06765752</td><td>ENSG00000100387</td><td>731</td><td>0.8944613139</td><td>0.9477682</td><td>Mega_Oli</td></tr>\n",
       "\t<tr><td>22</td><td>38597462</td><td>G</td><td>A</td><td>ENSG00000100393</td><td>chr22:38597462_A_G</td><td>1077462</td><td>-3582615</td><td>0.3160055</td><td>402</td><td>...</td><td>-0.041245290</td><td>0.06345045</td><td>0.879092547</td><td> 0.0105198175</td><td>0.06912783</td><td>ENSG00000100393</td><td>731</td><td>0.9987886225</td><td>0.9987371</td><td>Mega_Oli</td></tr>\n",
       "\t<tr><td>22</td><td>38597462</td><td>G</td><td>A</td><td>ENSG00000100395</td><td>chr22:38597462_A_G</td><td>1077462</td><td>-3633809</td><td>0.3160055</td><td>402</td><td>...</td><td>-0.147591040</td><td>0.07921475</td><td>0.004345682</td><td> 0.2469899800</td><td>0.08630269</td><td>ENSG00000100395</td><td>731</td><td>0.3091224977</td><td>0.1797470</td><td>Mega_Oli</td></tr>\n",
       "\t<tr><td>22</td><td>38597462</td><td>G</td><td>A</td><td>ENSG00000100399</td><td>chr22:38597462_A_G</td><td>1077462</td><td>-3643469</td><td>0.3160055</td><td>402</td><td>...</td><td> 0.063421250</td><td>0.06214528</td><td>0.691514411</td><td>-0.0268776380</td><td>0.06770589</td><td>ENSG00000100399</td><td>731</td><td>0.2691153848</td><td>0.7512891</td><td>Mega_Oli</td></tr>\n",
       "\t<tr><td>22</td><td>38597462</td><td>G</td><td>A</td><td>ENSG00000100401</td><td>chr22:38597462_A_G</td><td>1077462</td><td>-3688725</td><td>0.3160055</td><td>402</td><td>...</td><td>-0.025270462</td><td>0.05836635</td><td>0.440647926</td><td> 0.0490632200</td><td>0.06358883</td><td>ENSG00000100401</td><td>731</td><td>0.8594264651</td><td>0.9997112</td><td>Mega_Oli</td></tr>\n",
       "\t<tr><td>22</td><td>38597462</td><td>G</td><td>A</td><td>ENSG00000100403</td><td>chr22:38597462_A_G</td><td>1077462</td><td>-3762685</td><td>0.3160055</td><td>402</td><td>...</td><td> 0.036940020</td><td>0.09401447</td><td>0.428955098</td><td>-0.0810679050</td><td>0.10242665</td><td>ENSG00000100403</td><td>731</td><td>0.8454173693</td><td>0.6990549</td><td>Mega_Oli</td></tr>\n",
       "\t<tr><td>22</td><td>38597462</td><td>G</td><td>A</td><td>ENSG00000167074</td><td>chr22:38597462_A_G</td><td>1077462</td><td>-3801864</td><td>0.3160055</td><td>402</td><td>...</td><td> 0.076045096</td><td>0.07690388</td><td>0.666312158</td><td>-0.0361457400</td><td>0.08378504</td><td>ENSG00000167074</td><td>731</td><td>0.8425994558</td><td>0.9965832</td><td>Mega_Oli</td></tr>\n",
       "\t<tr><td>22</td><td>38597462</td><td>G</td><td>A</td><td>ENSG00000183864</td><td>chr22:38597462_A_G</td><td>1077462</td><td>-3849339</td><td>0.3160055</td><td>402</td><td>...</td><td> 0.014627501</td><td>0.05343084</td><td>0.989282388</td><td> 0.0007822532</td><td>0.05821170</td><td>ENSG00000183864</td><td>731</td><td>0.7529975963</td><td>0.9990474</td><td>Mega_Oli</td></tr>\n",
       "\t<tr><td>22</td><td>38597462</td><td>G</td><td>A</td><td>ENSG00000100412</td><td>chr22:38597462_A_G</td><td>1077462</td><td>-3931811</td><td>0.3160055</td><td>402</td><td>...</td><td> 0.122269120</td><td>0.07846133</td><td>0.569390196</td><td>-0.0486595100</td><td>0.08548187</td><td>ENSG00000100412</td><td>731</td><td>0.9938370191</td><td>0.6333033</td><td>Mega_Oli</td></tr>\n",
       "\t<tr><td>22</td><td>38597462</td><td>G</td><td>A</td><td>ENSG00000100410</td><td>chr22:38597462_A_G</td><td>1077462</td><td>-3871230</td><td>0.3160055</td><td>402</td><td>...</td><td>-0.071526680</td><td>0.07996159</td><td>0.332048765</td><td> 0.0845652100</td><td>0.08711635</td><td>ENSG00000100410</td><td>731</td><td>0.6356448111</td><td>0.9997810</td><td>Mega_Oli</td></tr>\n",
       "\t<tr><td>22</td><td>38597462</td><td>G</td><td>A</td><td>ENSG00000100413</td><td>chr22:38597462_A_G</td><td>1077462</td><td>-3947144</td><td>0.3160055</td><td>402</td><td>...</td><td>-0.016181290</td><td>0.08092333</td><td>0.503773450</td><td> 0.0589760170</td><td>0.08816414</td><td>ENSG00000100413</td><td>731</td><td>0.6735242084</td><td>0.9915201</td><td>Mega_Oli</td></tr>\n",
       "\t<tr><td>22</td><td>38597462</td><td>G</td><td>A</td><td>ENSG00000100418</td><td>chr22:38597462_A_G</td><td>1077462</td><td>-4023581</td><td>0.3160055</td><td>402</td><td>...</td><td> 0.034616880</td><td>0.09362084</td><td>0.141081209</td><td>-0.1502998900</td><td>0.10199780</td><td>ENSG00000100418</td><td>731</td><td>0.9536880516</td><td>0.9999079</td><td>Mega_Oli</td></tr>\n",
       "\t<tr><td>22</td><td>38597462</td><td>G</td><td>A</td><td>ENSG00000196419</td><td>chr22:38597462_A_G</td><td>1077462</td><td>-4066586</td><td>0.3160055</td><td>402</td><td>...</td><td> 0.102137390</td><td>0.07273393</td><td>0.306207897</td><td>-0.0811447950</td><td>0.07924198</td><td>ENSG00000196419</td><td>731</td><td>0.7376147874</td><td>0.7680508</td><td>Mega_Oli</td></tr>\n",
       "\t<tr><td>22</td><td>38597462</td><td>G</td><td>A</td><td>ENSG00000100138</td><td>chr22:38597462_A_G</td><td>1077462</td><td>-4093042</td><td>0.3160055</td><td>402</td><td>...</td><td>-0.022754457</td><td>0.04651947</td><td>0.641766434</td><td>-0.0235897400</td><td>0.05068192</td><td>ENSG00000100138</td><td>731</td><td>0.9992618068</td><td>0.9990802</td><td>Mega_Oli</td></tr>\n",
       "</tbody>\n",
       "</table>\n"
      ],
      "text/latex": [
       "A data.table: 461 x 25\n",
       "\\begin{tabular}{lllllllllllllllllllll}\n",
       " chrom & pos & a1 & a2 & molecular\\_trait\\_id & variant\\_id & start\\_distance & end\\_distance & af & ma\\_samples & ... & beta\\_APOE & se\\_APOE & pvalue\\_APOE\\_interaction & beta\\_APOE\\_interaction & se\\_APOE\\_interaction & molecular\\_trait\\_object\\_id & n & qvalue\\_main & qvalue\\_interaction & region\\\\\n",
       " <int> & <int> & <chr> & <chr> & <chr> & <chr> & <int> & <int> & <dbl> & <int> & ... & <dbl> & <dbl> & <dbl> & <dbl> & <dbl> & <chr> & <int> & <dbl> & <dbl> & <chr>\\\\\n",
       "\\hline\n",
       "\t 22 & 38597462 & G & A & ENSG00000128283 & chr22:38597462\\_A\\_G & 3357462 & -3082538 & 0.3028534 & 405 & ... & -0.018575037 & 0.02993634 & 0.14503030 &  0.0481713970 & 0.03301896 & ENSG00000128283 & 771 & 0.8783717 & 0.6380473 & DLPFC\\\\\n",
       "\t 22 & 38597462 & G & A & ENSG00000100083 & chr22:38597462\\_A\\_G & 3357462 & -3082538 & 0.3028534 & 405 & ... & -0.035590645 & 0.02964006 & 0.66363114 &  0.0142239000 & 0.03269218 & ENSG00000100083 & 771 & 0.9999578 & 0.9202096 & DLPFC\\\\\n",
       "\t 22 & 38597462 & G & A & ENSG00000100092 & chr22:38597462\\_A\\_G & 3357462 & -3082538 & 0.3028534 & 405 & ... &  0.011254495 & 0.03871303 & 0.78766545 &  0.0115051080 & 0.04269942 & ENSG00000100092 & 771 & 0.9346782 & 0.9639307 & DLPFC\\\\\n",
       "\t 22 & 38597462 & G & A & ENSG00000285304 & chr22:38597462\\_A\\_G & 3357462 & -3082538 & 0.3028534 & 405 & ... & -0.004102273 & 0.02600952 & 0.40410010 &  0.0239489940 & 0.02868780 & ENSG00000285304 & 771 & 0.9174260 & 0.8783479 & DLPFC\\\\\n",
       "\t 22 & 38597462 & G & A & ENSG00000241360 & chr22:38597462\\_A\\_G & 3357462 & -3082538 & 0.3028534 & 405 & ... & -0.009330144 & 0.02850772 & 0.44808297 &  0.0238664190 & 0.03144324 & ENSG00000241360 & 771 & 0.9871163 & 0.9868661 & DLPFC\\\\\n",
       "\t 22 & 38597462 & G & A & ENSG00000100097 & chr22:38597462\\_A\\_G & 3357462 & -3082538 & 0.3028534 & 405 & ... & -0.022981402 & 0.03369676 & 0.33731061 &  0.0356849800 & 0.03716660 & ENSG00000100097 & 771 & 0.9995313 & 0.9044449 & DLPFC\\\\\n",
       "\t 22 & 38597462 & G & A & ENSG00000273899 & chr22:38597462\\_A\\_G & 3357462 & -3082538 & 0.3028534 & 405 & ... & -0.024469815 & 0.03808817 & 0.56967365 &  0.0238951820 & 0.04201021 & ENSG00000273899 & 771 & 0.8586110 & 0.9363699 & DLPFC\\\\\n",
       "\t 22 & 38597462 & G & A & ENSG00000100101 & chr22:38597462\\_A\\_G & 3357462 & -3082538 & 0.3028534 & 405 & ... &  0.022730667 & 0.04493425 & 0.49739361 & -0.0336492200 & 0.04956125 & ENSG00000100101 & 771 & 0.9620571 & 0.9507043 & DLPFC\\\\\n",
       "\t 22 & 38597462 & G & A & ENSG00000100106 & chr22:38597462\\_A\\_G & 3357462 & -3082538 & 0.3028534 & 405 & ... & -0.017359031 & 0.02793734 & 0.97753692 & -0.0008679363 & 0.03081412 & ENSG00000100106 & 771 & 0.7390184 & 0.9998849 & DLPFC\\\\\n",
       "\t 22 & 38597462 & G & A & ENSG00000189060 & chr22:38597462\\_A\\_G & 3357462 & -3082538 & 0.3028534 & 405 & ... &  0.034252160 & 0.03941442 & 0.91490500 & -0.0046468960 & 0.04347304 & ENSG00000189060 & 771 & 0.7632077 & 0.9616505 & DLPFC\\\\\n",
       "\t 22 & 38597462 & G & A & ENSG00000100116 & chr22:38597462\\_A\\_G & 3357462 & -3082538 & 0.3028534 & 405 & ... & -0.102945820 & 0.04032461 & 0.21623190 &  0.0550491800 & 0.04447694 & ENSG00000100116 & 771 & 0.8785916 & 0.9266863 & DLPFC\\\\\n",
       "\t 22 & 38597462 & G & A & ENSG00000128310 & chr22:38597462\\_A\\_G & 3357462 & -3082538 & 0.3028534 & 405 & ... &  0.107929340 & 0.06264837 & 0.09113387 & -0.1168969100 & 0.06909944 & ENSG00000128310 & 771 & 0.6150325 & 0.7874281 & DLPFC\\\\\n",
       "\t 22 & 38597462 & G & A & ENSG00000100129 & chr22:38597462\\_A\\_G & 3357462 & -3082538 & 0.3028534 & 405 & ... & -0.029417396 & 0.03013118 & 0.47201459 &  0.0239146200 & 0.03323387 & ENSG00000100129 & 771 & 0.8292383 & 0.9969891 & DLPFC\\\\\n",
       "\t 22 & 38597462 & G & A & ENSG00000100124 & chr22:38597462\\_A\\_G & 3357462 & -3082538 & 0.3028534 & 405 & ... &  0.042102117 & 0.03369693 & 0.88554323 & -0.0053519094 & 0.03716679 & ENSG00000100124 & 771 & 0.9895338 & 0.8972200 & DLPFC\\\\\n",
       "\t 22 & 38597462 & G & A & ENSG00000279738 & chr22:38597462\\_A\\_G & 3357462 & -3082538 & 0.3028534 & 405 & ... & -0.040703535 & 0.03867089 & 0.09689884 &  0.0709000450 & 0.04265294 & ENSG00000279738 & 771 & 0.7898105 & 0.5555080 & DLPFC\\\\\n",
       "\t 22 & 38597462 & G & A & ENSG00000100139 & chr22:38597462\\_A\\_G & 3357462 & -3082538 & 0.3028534 & 405 & ... &  0.049217023 & 0.02789021 & 0.19615112 & -0.0398000630 & 0.03076215 & ENSG00000100139 & 771 & 0.8024094 & 0.8958952 & DLPFC\\\\\n",
       "\t 22 & 38597462 & G & A & ENSG00000278948 & chr22:38597462\\_A\\_G & 3357462 & -3082538 & 0.3028534 & 405 & ... &  0.007542463 & 0.03609426 & 0.32463293 & -0.0392400620 & 0.03981099 & ENSG00000278948 & 771 & 0.6543538 & 0.8437952 & DLPFC\\\\\n",
       "\t 22 & 38597462 & G & A & ENSG00000272582 & chr22:38597462\\_A\\_G & 3357462 & -3082538 & 0.3028534 & 405 & ... &  0.004004177 & 0.05094793 & 0.34781907 & -0.0527912940 & 0.05619417 & ENSG00000272582 & 771 & 0.8185081 & 0.9083147 & DLPFC\\\\\n",
       "\t 22 & 38597462 & G & A & ENSG00000100142 & chr22:38597462\\_A\\_G & 3357462 & -3082538 & 0.3028534 & 405 & ... & -0.045245554 & 0.03489256 & 0.46734484 &  0.0279864330 & 0.03848554 & ENSG00000100142 & 771 & 0.9143158 & 0.8467280 & DLPFC\\\\\n",
       "\t 22 & 38597462 & G & A & ENSG00000128346 & chr22:38597462\\_A\\_G & 3357462 & -3082538 & 0.3028534 & 405 & ... &  0.007986032 & 0.07123135 & 0.96732622 &  0.0032193512 & 0.07856624 & ENSG00000128346 & 771 & 0.7877221 & 0.9998228 & DLPFC\\\\\n",
       "\t 22 & 38597462 & G & A & ENSG00000100146 & chr22:38597462\\_A\\_G & 1626776 & -3082538 & 0.3028534 & 405 & ... & -0.032090664 & 0.02687182 & 0.07991179 &  0.0519772660 & 0.02963889 & ENSG00000100146 & 771 & 0.7404776 & 0.3787101 & DLPFC\\\\\n",
       "\t 22 & 38597462 & G & A & ENSG00000273214 & chr22:38597462\\_A\\_G & 1554233 & -3082538 & 0.3028534 & 405 & ... & -0.064832550 & 0.06650998 & 0.43412918 &  0.0574094170 & 0.07335869 & ENSG00000273214 & 771 & 0.6411854 & 0.9210790 & DLPFC\\\\\n",
       "\t 22 & 38597462 & G & A & ENSG00000100151 & chr22:38597462\\_A\\_G & 1541152 & -3082538 & 0.3028534 & 405 & ... & -0.019871347 & 0.03005007 & 0.72601226 &  0.0116195070 & 0.03314440 & ENSG00000100151 & 771 & 0.7466013 & 0.8714776 & DLPFC\\\\\n",
       "\t 22 & 38597462 & G & A & ENSG00000100156 & chr22:38597462\\_A\\_G & 1519328 & -3082538 & 0.3028534 & 405 & ... &  0.040573380 & 0.04723233 & 0.54694218 & -0.0313948470 & 0.05209597 & ENSG00000100156 & 771 & 0.9658545 & 0.9103961 & DLPFC\\\\\n",
       "\t 22 & 38597462 & G & A & ENSG00000272720 & chr22:38597462\\_A\\_G & 1507336 & -3082538 & 0.3028534 & 405 & ... &  0.001558614 & 0.03793586 & 0.89455530 &  0.0055478355 & 0.04184222 & ENSG00000272720 & 771 & 0.8439855 & 0.9997568 & DLPFC\\\\\n",
       "\t 22 & 38597462 & G & A & ENSG00000128298 & chr22:38597462\\_A\\_G & 1512810 & -3082538 & 0.3028534 & 405 & ... &  0.061800666 & 0.03556331 & 0.74614732 &  0.0127030650 & 0.03922536 & ENSG00000128298 & 771 & 0.9596393 & 0.9991794 & DLPFC\\\\\n",
       "\t 22 & 38597462 & G & A & ENSG00000185022 & chr22:38597462\\_A\\_G & 1395531 & -3082538 & 0.3028534 & 405 & ... & -0.058879156 & 0.03876546 & 0.24476319 &  0.0497744980 & 0.04275724 & ENSG00000185022 & 771 & 0.6405950 & 0.5473322 & DLPFC\\\\\n",
       "\t 22 & 38597462 & G & A & ENSG00000184381 & chr22:38597462\\_A\\_G & 1485967 & -3082538 & 0.3028534 & 405 & ... & -0.076711820 & 0.03885692 & 0.05488959 &  0.0824114800 & 0.04285812 & ENSG00000184381 & 771 & 0.9846906 & 0.9994960 & DLPFC\\\\\n",
       "\t 22 & 38597462 & G & A & ENSG00000198792 & chr22:38597462\\_A\\_G & 1378171 & -3082538 & 0.3028534 & 405 & ... & -0.023851141 & 0.03183174 & 0.14675162 &  0.0510027330 & 0.03510954 & ENSG00000198792 & 771 & 0.9997900 & 0.6777735 & DLPFC\\\\\n",
       "\t 22 & 38597462 & G & A & ENSG00000213923 & chr22:38597462\\_A\\_G & 1306771 & -3082538 & 0.3028534 & 405 & ... &  0.003158539 & 0.02490203 & 0.28277227 &  0.0295240280 & 0.02746627 & ENSG00000213923 & 771 & 0.8182914 & 0.9999951 & DLPFC\\\\\n",
       "\t ... & ... & ... & ... & ... & ... & ... & ... & ... & ... &  & ... & ... & ... & ... & ... & ... & ... & ... & ... & ...\\\\\n",
       "\t 22 & 38597462 & G & A & ENSG00000100242 & chr22:38597462\\_A\\_G & 1077462 & -3082538 & 0.3160055 & 402 & ... &  0.067003700 & 0.04689517 & 0.559386819 & -0.0298399300 & 0.05109123 & ENSG00000100242 & 731 & 0.0006857333 & 0.9982052 & Mega\\_Oli\\\\\n",
       "\t 22 & 38597462 & G & A & ENSG00000221890 & chr22:38597462\\_A\\_G & 1077462 & -3082538 & 0.3160055 & 402 & ... &  0.124685550 & 0.06372140 & 0.226464679 & -0.0840474000 & 0.06942303 & ENSG00000221890 & 731 & 0.8582303724 & 0.5576658 & Mega\\_Oli\\\\\n",
       "\t 22 & 38597462 & G & A & ENSG00000183741 & chr22:38597462\\_A\\_G & 1077462 & -3082538 & 0.3160055 & 402 & ... &  0.104704170 & 0.06078967 & 0.178050935 & -0.0892919300 & 0.06622897 & ENSG00000183741 & 731 & 0.9985802835 & 0.9512260 & Mega\\_Oli\\\\\n",
       "\t 22 & 38597462 & G & A & ENSG00000100307 & chr22:38597462\\_A\\_G & 1077462 & -3082538 & 0.3160055 & 402 & ... &  0.144456680 & 0.07771309 & 0.183837514 & -0.1126437900 & 0.08466666 & ENSG00000100307 & 731 & 0.8933088186 & 0.9972538 & Mega\\_Oli\\\\\n",
       "\t 22 & 38597462 & G & A & ENSG00000100316 & chr22:38597462\\_A\\_G & 1077462 & -3082538 & 0.3160055 & 402 & ... & -0.005248471 & 0.03719657 & 0.562054053 &  0.0235080290 & 0.04052483 & ENSG00000100316 & 731 & 0.9975950597 & 0.9998713 & Mega\\_Oli\\\\\n",
       "\t 22 & 38597462 & G & A & ENSG00000100321 & chr22:38597462\\_A\\_G & 1077462 & -3082538 & 0.3160055 & 402 & ... & -0.041540727 & 0.06306323 & 0.895051246 &  0.0090668980 & 0.06870598 & ENSG00000100321 & 731 & 0.9988512395 & 0.9999162 & Mega\\_Oli\\\\\n",
       "\t 22 & 38597462 & G & A & ENSG00000100324 & chr22:38597462\\_A\\_G & 1077462 & -3082538 & 0.3160055 & 402 & ... & -0.011641635 & 0.08115866 & 0.748523675 &  0.0283583940 & 0.08842054 & ENSG00000100324 & 731 & 0.8223714276 & 0.9990566 & Mega\\_Oli\\\\\n",
       "\t 22 & 38597462 & G & A & ENSG00000128268 & chr22:38597462\\_A\\_G & 1077462 & -3082538 & 0.3160055 & 402 & ... &  0.078234020 & 0.06597727 & 0.598785579 & -0.0378383600 & 0.07188075 & ENSG00000128268 & 731 & 0.7554320216 & 0.6828717 & Mega\\_Oli\\\\\n",
       "\t 22 & 38597462 & G & A & ENSG00000100335 & chr22:38597462\\_A\\_G & 1077462 & -3082538 & 0.3160055 & 402 & ... &  0.029176626 & 0.09131959 & 0.637055972 &  0.0469635240 & 0.09949064 & ENSG00000100335 & 731 & 0.6155440185 & 0.9989901 & Mega\\_Oli\\\\\n",
       "\t 22 & 38597462 & G & A & ENSG00000128272 & chr22:38597462\\_A\\_G & 1077462 & -3082538 & 0.3160055 & 402 & ... &  0.053730330 & 0.06241384 & 0.691310926 & -0.0270125600 & 0.06799848 & ENSG00000128272 & 731 & 0.7515981341 & 0.9993927 & Mega\\_Oli\\\\\n",
       "\t 22 & 38597462 & G & A & ENSG00000187051 & chr22:38597462\\_A\\_G & 1077462 & -3082538 & 0.3160055 & 402 & ... & -0.033223577 & 0.04937576 & 0.564723767 &  0.0309923480 & 0.05379378 & ENSG00000187051 & 731 & 0.8299982254 & 0.9850051 & Mega\\_Oli\\\\\n",
       "\t 22 & 38597462 & G & A & ENSG00000100354 & chr22:38597462\\_A\\_G & 1077462 & -3082538 & 0.3160055 & 402 & ... &  0.005360078 & 0.03929402 & 0.506184483 & -0.0284753480 & 0.04280996 & ENSG00000100354 & 731 & 0.9988747471 & 0.9992808 & Mega\\_Oli\\\\\n",
       "\t 22 & 38597462 & G & A & ENSG00000100359 & chr22:38597462\\_A\\_G & 1077462 & -3082538 & 0.3160055 & 402 & ... & -0.031637467 & 0.06772940 & 0.610995554 &  0.0375513900 & 0.07378966 & ENSG00000100359 & 731 & 0.5695791390 & 0.9995877 & Mega\\_Oli\\\\\n",
       "\t 22 & 38597462 & G & A & ENSG00000100372 & chr22:38597462\\_A\\_G & 1077462 & -3221937 & 0.3160055 & 402 & ... & -0.003308074 & 0.08561189 & 0.507010125 &  0.0619202500 & 0.09327223 & ENSG00000100372 & 731 & 0.8634484430 & 0.7912790 & Mega\\_Oli\\\\\n",
       "\t 22 & 38597462 & G & A & ENSG00000100380 & chr22:38597462\\_A\\_G & 1077462 & -3259177 & 0.3160055 & 402 & ... & -0.017756037 & 0.04890942 & 0.853718889 &  0.0098284630 & 0.05328571 & ENSG00000100380 & 731 & 0.4431173859 & 0.9993633 & Mega\\_Oli\\\\\n",
       "\t 22 & 38597462 & G & A & ENSG00000196236 & chr22:38597462\\_A\\_G & 1077462 & -3335353 & 0.3160055 & 402 & ... &  0.048288780 & 0.08565446 & 0.826798693 & -0.0204271490 & 0.09331860 & ENSG00000196236 & 731 & 0.8880064019 & 0.9997200 & Mega\\_Oli\\\\\n",
       "\t 22 & 38597462 & G & A & ENSG00000100387 & chr22:38597462\\_A\\_G & 1077462 & -3375847 & 0.3160055 & 402 & ... & -0.102837860 & 0.06210089 & 0.677901138 &  0.0281127240 & 0.06765752 & ENSG00000100387 & 731 & 0.8944613139 & 0.9477682 & Mega\\_Oli\\\\\n",
       "\t 22 & 38597462 & G & A & ENSG00000100393 & chr22:38597462\\_A\\_G & 1077462 & -3582615 & 0.3160055 & 402 & ... & -0.041245290 & 0.06345045 & 0.879092547 &  0.0105198175 & 0.06912783 & ENSG00000100393 & 731 & 0.9987886225 & 0.9987371 & Mega\\_Oli\\\\\n",
       "\t 22 & 38597462 & G & A & ENSG00000100395 & chr22:38597462\\_A\\_G & 1077462 & -3633809 & 0.3160055 & 402 & ... & -0.147591040 & 0.07921475 & 0.004345682 &  0.2469899800 & 0.08630269 & ENSG00000100395 & 731 & 0.3091224977 & 0.1797470 & Mega\\_Oli\\\\\n",
       "\t 22 & 38597462 & G & A & ENSG00000100399 & chr22:38597462\\_A\\_G & 1077462 & -3643469 & 0.3160055 & 402 & ... &  0.063421250 & 0.06214528 & 0.691514411 & -0.0268776380 & 0.06770589 & ENSG00000100399 & 731 & 0.2691153848 & 0.7512891 & Mega\\_Oli\\\\\n",
       "\t 22 & 38597462 & G & A & ENSG00000100401 & chr22:38597462\\_A\\_G & 1077462 & -3688725 & 0.3160055 & 402 & ... & -0.025270462 & 0.05836635 & 0.440647926 &  0.0490632200 & 0.06358883 & ENSG00000100401 & 731 & 0.8594264651 & 0.9997112 & Mega\\_Oli\\\\\n",
       "\t 22 & 38597462 & G & A & ENSG00000100403 & chr22:38597462\\_A\\_G & 1077462 & -3762685 & 0.3160055 & 402 & ... &  0.036940020 & 0.09401447 & 0.428955098 & -0.0810679050 & 0.10242665 & ENSG00000100403 & 731 & 0.8454173693 & 0.6990549 & Mega\\_Oli\\\\\n",
       "\t 22 & 38597462 & G & A & ENSG00000167074 & chr22:38597462\\_A\\_G & 1077462 & -3801864 & 0.3160055 & 402 & ... &  0.076045096 & 0.07690388 & 0.666312158 & -0.0361457400 & 0.08378504 & ENSG00000167074 & 731 & 0.8425994558 & 0.9965832 & Mega\\_Oli\\\\\n",
       "\t 22 & 38597462 & G & A & ENSG00000183864 & chr22:38597462\\_A\\_G & 1077462 & -3849339 & 0.3160055 & 402 & ... &  0.014627501 & 0.05343084 & 0.989282388 &  0.0007822532 & 0.05821170 & ENSG00000183864 & 731 & 0.7529975963 & 0.9990474 & Mega\\_Oli\\\\\n",
       "\t 22 & 38597462 & G & A & ENSG00000100412 & chr22:38597462\\_A\\_G & 1077462 & -3931811 & 0.3160055 & 402 & ... &  0.122269120 & 0.07846133 & 0.569390196 & -0.0486595100 & 0.08548187 & ENSG00000100412 & 731 & 0.9938370191 & 0.6333033 & Mega\\_Oli\\\\\n",
       "\t 22 & 38597462 & G & A & ENSG00000100410 & chr22:38597462\\_A\\_G & 1077462 & -3871230 & 0.3160055 & 402 & ... & -0.071526680 & 0.07996159 & 0.332048765 &  0.0845652100 & 0.08711635 & ENSG00000100410 & 731 & 0.6356448111 & 0.9997810 & Mega\\_Oli\\\\\n",
       "\t 22 & 38597462 & G & A & ENSG00000100413 & chr22:38597462\\_A\\_G & 1077462 & -3947144 & 0.3160055 & 402 & ... & -0.016181290 & 0.08092333 & 0.503773450 &  0.0589760170 & 0.08816414 & ENSG00000100413 & 731 & 0.6735242084 & 0.9915201 & Mega\\_Oli\\\\\n",
       "\t 22 & 38597462 & G & A & ENSG00000100418 & chr22:38597462\\_A\\_G & 1077462 & -4023581 & 0.3160055 & 402 & ... &  0.034616880 & 0.09362084 & 0.141081209 & -0.1502998900 & 0.10199780 & ENSG00000100418 & 731 & 0.9536880516 & 0.9999079 & Mega\\_Oli\\\\\n",
       "\t 22 & 38597462 & G & A & ENSG00000196419 & chr22:38597462\\_A\\_G & 1077462 & -4066586 & 0.3160055 & 402 & ... &  0.102137390 & 0.07273393 & 0.306207897 & -0.0811447950 & 0.07924198 & ENSG00000196419 & 731 & 0.7376147874 & 0.7680508 & Mega\\_Oli\\\\\n",
       "\t 22 & 38597462 & G & A & ENSG00000100138 & chr22:38597462\\_A\\_G & 1077462 & -4093042 & 0.3160055 & 402 & ... & -0.022754457 & 0.04651947 & 0.641766434 & -0.0235897400 & 0.05068192 & ENSG00000100138 & 731 & 0.9992618068 & 0.9990802 & Mega\\_Oli\\\\\n",
       "\\end{tabular}\n"
      ],
      "text/markdown": [
       "\n",
       "A data.table: 461 x 25\n",
       "\n",
       "| chrom &lt;int&gt; | pos &lt;int&gt; | a1 &lt;chr&gt; | a2 &lt;chr&gt; | molecular_trait_id &lt;chr&gt; | variant_id &lt;chr&gt; | start_distance &lt;int&gt; | end_distance &lt;int&gt; | af &lt;dbl&gt; | ma_samples &lt;int&gt; | ... ... | beta_APOE &lt;dbl&gt; | se_APOE &lt;dbl&gt; | pvalue_APOE_interaction &lt;dbl&gt; | beta_APOE_interaction &lt;dbl&gt; | se_APOE_interaction &lt;dbl&gt; | molecular_trait_object_id &lt;chr&gt; | n &lt;int&gt; | qvalue_main &lt;dbl&gt; | qvalue_interaction &lt;dbl&gt; | region &lt;chr&gt; |\n",
       "|---|---|---|---|---|---|---|---|---|---|---|---|---|---|---|---|---|---|---|---|---|\n",
       "| 22 | 38597462 | G | A | ENSG00000128283 | chr22:38597462_A_G | 3357462 | -3082538 | 0.3028534 | 405 | ... | -0.018575037 | 0.02993634 | 0.14503030 |  0.0481713970 | 0.03301896 | ENSG00000128283 | 771 | 0.8783717 | 0.6380473 | DLPFC |\n",
       "| 22 | 38597462 | G | A | ENSG00000100083 | chr22:38597462_A_G | 3357462 | -3082538 | 0.3028534 | 405 | ... | -0.035590645 | 0.02964006 | 0.66363114 |  0.0142239000 | 0.03269218 | ENSG00000100083 | 771 | 0.9999578 | 0.9202096 | DLPFC |\n",
       "| 22 | 38597462 | G | A | ENSG00000100092 | chr22:38597462_A_G | 3357462 | -3082538 | 0.3028534 | 405 | ... |  0.011254495 | 0.03871303 | 0.78766545 |  0.0115051080 | 0.04269942 | ENSG00000100092 | 771 | 0.9346782 | 0.9639307 | DLPFC |\n",
       "| 22 | 38597462 | G | A | ENSG00000285304 | chr22:38597462_A_G | 3357462 | -3082538 | 0.3028534 | 405 | ... | -0.004102273 | 0.02600952 | 0.40410010 |  0.0239489940 | 0.02868780 | ENSG00000285304 | 771 | 0.9174260 | 0.8783479 | DLPFC |\n",
       "| 22 | 38597462 | G | A | ENSG00000241360 | chr22:38597462_A_G | 3357462 | -3082538 | 0.3028534 | 405 | ... | -0.009330144 | 0.02850772 | 0.44808297 |  0.0238664190 | 0.03144324 | ENSG00000241360 | 771 | 0.9871163 | 0.9868661 | DLPFC |\n",
       "| 22 | 38597462 | G | A | ENSG00000100097 | chr22:38597462_A_G | 3357462 | -3082538 | 0.3028534 | 405 | ... | -0.022981402 | 0.03369676 | 0.33731061 |  0.0356849800 | 0.03716660 | ENSG00000100097 | 771 | 0.9995313 | 0.9044449 | DLPFC |\n",
       "| 22 | 38597462 | G | A | ENSG00000273899 | chr22:38597462_A_G | 3357462 | -3082538 | 0.3028534 | 405 | ... | -0.024469815 | 0.03808817 | 0.56967365 |  0.0238951820 | 0.04201021 | ENSG00000273899 | 771 | 0.8586110 | 0.9363699 | DLPFC |\n",
       "| 22 | 38597462 | G | A | ENSG00000100101 | chr22:38597462_A_G | 3357462 | -3082538 | 0.3028534 | 405 | ... |  0.022730667 | 0.04493425 | 0.49739361 | -0.0336492200 | 0.04956125 | ENSG00000100101 | 771 | 0.9620571 | 0.9507043 | DLPFC |\n",
       "| 22 | 38597462 | G | A | ENSG00000100106 | chr22:38597462_A_G | 3357462 | -3082538 | 0.3028534 | 405 | ... | -0.017359031 | 0.02793734 | 0.97753692 | -0.0008679363 | 0.03081412 | ENSG00000100106 | 771 | 0.7390184 | 0.9998849 | DLPFC |\n",
       "| 22 | 38597462 | G | A | ENSG00000189060 | chr22:38597462_A_G | 3357462 | -3082538 | 0.3028534 | 405 | ... |  0.034252160 | 0.03941442 | 0.91490500 | -0.0046468960 | 0.04347304 | ENSG00000189060 | 771 | 0.7632077 | 0.9616505 | DLPFC |\n",
       "| 22 | 38597462 | G | A | ENSG00000100116 | chr22:38597462_A_G | 3357462 | -3082538 | 0.3028534 | 405 | ... | -0.102945820 | 0.04032461 | 0.21623190 |  0.0550491800 | 0.04447694 | ENSG00000100116 | 771 | 0.8785916 | 0.9266863 | DLPFC |\n",
       "| 22 | 38597462 | G | A | ENSG00000128310 | chr22:38597462_A_G | 3357462 | -3082538 | 0.3028534 | 405 | ... |  0.107929340 | 0.06264837 | 0.09113387 | -0.1168969100 | 0.06909944 | ENSG00000128310 | 771 | 0.6150325 | 0.7874281 | DLPFC |\n",
       "| 22 | 38597462 | G | A | ENSG00000100129 | chr22:38597462_A_G | 3357462 | -3082538 | 0.3028534 | 405 | ... | -0.029417396 | 0.03013118 | 0.47201459 |  0.0239146200 | 0.03323387 | ENSG00000100129 | 771 | 0.8292383 | 0.9969891 | DLPFC |\n",
       "| 22 | 38597462 | G | A | ENSG00000100124 | chr22:38597462_A_G | 3357462 | -3082538 | 0.3028534 | 405 | ... |  0.042102117 | 0.03369693 | 0.88554323 | -0.0053519094 | 0.03716679 | ENSG00000100124 | 771 | 0.9895338 | 0.8972200 | DLPFC |\n",
       "| 22 | 38597462 | G | A | ENSG00000279738 | chr22:38597462_A_G | 3357462 | -3082538 | 0.3028534 | 405 | ... | -0.040703535 | 0.03867089 | 0.09689884 |  0.0709000450 | 0.04265294 | ENSG00000279738 | 771 | 0.7898105 | 0.5555080 | DLPFC |\n",
       "| 22 | 38597462 | G | A | ENSG00000100139 | chr22:38597462_A_G | 3357462 | -3082538 | 0.3028534 | 405 | ... |  0.049217023 | 0.02789021 | 0.19615112 | -0.0398000630 | 0.03076215 | ENSG00000100139 | 771 | 0.8024094 | 0.8958952 | DLPFC |\n",
       "| 22 | 38597462 | G | A | ENSG00000278948 | chr22:38597462_A_G | 3357462 | -3082538 | 0.3028534 | 405 | ... |  0.007542463 | 0.03609426 | 0.32463293 | -0.0392400620 | 0.03981099 | ENSG00000278948 | 771 | 0.6543538 | 0.8437952 | DLPFC |\n",
       "| 22 | 38597462 | G | A | ENSG00000272582 | chr22:38597462_A_G | 3357462 | -3082538 | 0.3028534 | 405 | ... |  0.004004177 | 0.05094793 | 0.34781907 | -0.0527912940 | 0.05619417 | ENSG00000272582 | 771 | 0.8185081 | 0.9083147 | DLPFC |\n",
       "| 22 | 38597462 | G | A | ENSG00000100142 | chr22:38597462_A_G | 3357462 | -3082538 | 0.3028534 | 405 | ... | -0.045245554 | 0.03489256 | 0.46734484 |  0.0279864330 | 0.03848554 | ENSG00000100142 | 771 | 0.9143158 | 0.8467280 | DLPFC |\n",
       "| 22 | 38597462 | G | A | ENSG00000128346 | chr22:38597462_A_G | 3357462 | -3082538 | 0.3028534 | 405 | ... |  0.007986032 | 0.07123135 | 0.96732622 |  0.0032193512 | 0.07856624 | ENSG00000128346 | 771 | 0.7877221 | 0.9998228 | DLPFC |\n",
       "| 22 | 38597462 | G | A | ENSG00000100146 | chr22:38597462_A_G | 1626776 | -3082538 | 0.3028534 | 405 | ... | -0.032090664 | 0.02687182 | 0.07991179 |  0.0519772660 | 0.02963889 | ENSG00000100146 | 771 | 0.7404776 | 0.3787101 | DLPFC |\n",
       "| 22 | 38597462 | G | A | ENSG00000273214 | chr22:38597462_A_G | 1554233 | -3082538 | 0.3028534 | 405 | ... | -0.064832550 | 0.06650998 | 0.43412918 |  0.0574094170 | 0.07335869 | ENSG00000273214 | 771 | 0.6411854 | 0.9210790 | DLPFC |\n",
       "| 22 | 38597462 | G | A | ENSG00000100151 | chr22:38597462_A_G | 1541152 | -3082538 | 0.3028534 | 405 | ... | -0.019871347 | 0.03005007 | 0.72601226 |  0.0116195070 | 0.03314440 | ENSG00000100151 | 771 | 0.7466013 | 0.8714776 | DLPFC |\n",
       "| 22 | 38597462 | G | A | ENSG00000100156 | chr22:38597462_A_G | 1519328 | -3082538 | 0.3028534 | 405 | ... |  0.040573380 | 0.04723233 | 0.54694218 | -0.0313948470 | 0.05209597 | ENSG00000100156 | 771 | 0.9658545 | 0.9103961 | DLPFC |\n",
       "| 22 | 38597462 | G | A | ENSG00000272720 | chr22:38597462_A_G | 1507336 | -3082538 | 0.3028534 | 405 | ... |  0.001558614 | 0.03793586 | 0.89455530 |  0.0055478355 | 0.04184222 | ENSG00000272720 | 771 | 0.8439855 | 0.9997568 | DLPFC |\n",
       "| 22 | 38597462 | G | A | ENSG00000128298 | chr22:38597462_A_G | 1512810 | -3082538 | 0.3028534 | 405 | ... |  0.061800666 | 0.03556331 | 0.74614732 |  0.0127030650 | 0.03922536 | ENSG00000128298 | 771 | 0.9596393 | 0.9991794 | DLPFC |\n",
       "| 22 | 38597462 | G | A | ENSG00000185022 | chr22:38597462_A_G | 1395531 | -3082538 | 0.3028534 | 405 | ... | -0.058879156 | 0.03876546 | 0.24476319 |  0.0497744980 | 0.04275724 | ENSG00000185022 | 771 | 0.6405950 | 0.5473322 | DLPFC |\n",
       "| 22 | 38597462 | G | A | ENSG00000184381 | chr22:38597462_A_G | 1485967 | -3082538 | 0.3028534 | 405 | ... | -0.076711820 | 0.03885692 | 0.05488959 |  0.0824114800 | 0.04285812 | ENSG00000184381 | 771 | 0.9846906 | 0.9994960 | DLPFC |\n",
       "| 22 | 38597462 | G | A | ENSG00000198792 | chr22:38597462_A_G | 1378171 | -3082538 | 0.3028534 | 405 | ... | -0.023851141 | 0.03183174 | 0.14675162 |  0.0510027330 | 0.03510954 | ENSG00000198792 | 771 | 0.9997900 | 0.6777735 | DLPFC |\n",
       "| 22 | 38597462 | G | A | ENSG00000213923 | chr22:38597462_A_G | 1306771 | -3082538 | 0.3028534 | 405 | ... |  0.003158539 | 0.02490203 | 0.28277227 |  0.0295240280 | 0.02746627 | ENSG00000213923 | 771 | 0.8182914 | 0.9999951 | DLPFC |\n",
       "| ... | ... | ... | ... | ... | ... | ... | ... | ... | ... | <!----> | ... | ... | ... | ... | ... | ... | ... | ... | ... | ... |\n",
       "| 22 | 38597462 | G | A | ENSG00000100242 | chr22:38597462_A_G | 1077462 | -3082538 | 0.3160055 | 402 | ... |  0.067003700 | 0.04689517 | 0.559386819 | -0.0298399300 | 0.05109123 | ENSG00000100242 | 731 | 0.0006857333 | 0.9982052 | Mega_Oli |\n",
       "| 22 | 38597462 | G | A | ENSG00000221890 | chr22:38597462_A_G | 1077462 | -3082538 | 0.3160055 | 402 | ... |  0.124685550 | 0.06372140 | 0.226464679 | -0.0840474000 | 0.06942303 | ENSG00000221890 | 731 | 0.8582303724 | 0.5576658 | Mega_Oli |\n",
       "| 22 | 38597462 | G | A | ENSG00000183741 | chr22:38597462_A_G | 1077462 | -3082538 | 0.3160055 | 402 | ... |  0.104704170 | 0.06078967 | 0.178050935 | -0.0892919300 | 0.06622897 | ENSG00000183741 | 731 | 0.9985802835 | 0.9512260 | Mega_Oli |\n",
       "| 22 | 38597462 | G | A | ENSG00000100307 | chr22:38597462_A_G | 1077462 | -3082538 | 0.3160055 | 402 | ... |  0.144456680 | 0.07771309 | 0.183837514 | -0.1126437900 | 0.08466666 | ENSG00000100307 | 731 | 0.8933088186 | 0.9972538 | Mega_Oli |\n",
       "| 22 | 38597462 | G | A | ENSG00000100316 | chr22:38597462_A_G | 1077462 | -3082538 | 0.3160055 | 402 | ... | -0.005248471 | 0.03719657 | 0.562054053 |  0.0235080290 | 0.04052483 | ENSG00000100316 | 731 | 0.9975950597 | 0.9998713 | Mega_Oli |\n",
       "| 22 | 38597462 | G | A | ENSG00000100321 | chr22:38597462_A_G | 1077462 | -3082538 | 0.3160055 | 402 | ... | -0.041540727 | 0.06306323 | 0.895051246 |  0.0090668980 | 0.06870598 | ENSG00000100321 | 731 | 0.9988512395 | 0.9999162 | Mega_Oli |\n",
       "| 22 | 38597462 | G | A | ENSG00000100324 | chr22:38597462_A_G | 1077462 | -3082538 | 0.3160055 | 402 | ... | -0.011641635 | 0.08115866 | 0.748523675 |  0.0283583940 | 0.08842054 | ENSG00000100324 | 731 | 0.8223714276 | 0.9990566 | Mega_Oli |\n",
       "| 22 | 38597462 | G | A | ENSG00000128268 | chr22:38597462_A_G | 1077462 | -3082538 | 0.3160055 | 402 | ... |  0.078234020 | 0.06597727 | 0.598785579 | -0.0378383600 | 0.07188075 | ENSG00000128268 | 731 | 0.7554320216 | 0.6828717 | Mega_Oli |\n",
       "| 22 | 38597462 | G | A | ENSG00000100335 | chr22:38597462_A_G | 1077462 | -3082538 | 0.3160055 | 402 | ... |  0.029176626 | 0.09131959 | 0.637055972 |  0.0469635240 | 0.09949064 | ENSG00000100335 | 731 | 0.6155440185 | 0.9989901 | Mega_Oli |\n",
       "| 22 | 38597462 | G | A | ENSG00000128272 | chr22:38597462_A_G | 1077462 | -3082538 | 0.3160055 | 402 | ... |  0.053730330 | 0.06241384 | 0.691310926 | -0.0270125600 | 0.06799848 | ENSG00000128272 | 731 | 0.7515981341 | 0.9993927 | Mega_Oli |\n",
       "| 22 | 38597462 | G | A | ENSG00000187051 | chr22:38597462_A_G | 1077462 | -3082538 | 0.3160055 | 402 | ... | -0.033223577 | 0.04937576 | 0.564723767 |  0.0309923480 | 0.05379378 | ENSG00000187051 | 731 | 0.8299982254 | 0.9850051 | Mega_Oli |\n",
       "| 22 | 38597462 | G | A | ENSG00000100354 | chr22:38597462_A_G | 1077462 | -3082538 | 0.3160055 | 402 | ... |  0.005360078 | 0.03929402 | 0.506184483 | -0.0284753480 | 0.04280996 | ENSG00000100354 | 731 | 0.9988747471 | 0.9992808 | Mega_Oli |\n",
       "| 22 | 38597462 | G | A | ENSG00000100359 | chr22:38597462_A_G | 1077462 | -3082538 | 0.3160055 | 402 | ... | -0.031637467 | 0.06772940 | 0.610995554 |  0.0375513900 | 0.07378966 | ENSG00000100359 | 731 | 0.5695791390 | 0.9995877 | Mega_Oli |\n",
       "| 22 | 38597462 | G | A | ENSG00000100372 | chr22:38597462_A_G | 1077462 | -3221937 | 0.3160055 | 402 | ... | -0.003308074 | 0.08561189 | 0.507010125 |  0.0619202500 | 0.09327223 | ENSG00000100372 | 731 | 0.8634484430 | 0.7912790 | Mega_Oli |\n",
       "| 22 | 38597462 | G | A | ENSG00000100380 | chr22:38597462_A_G | 1077462 | -3259177 | 0.3160055 | 402 | ... | -0.017756037 | 0.04890942 | 0.853718889 |  0.0098284630 | 0.05328571 | ENSG00000100380 | 731 | 0.4431173859 | 0.9993633 | Mega_Oli |\n",
       "| 22 | 38597462 | G | A | ENSG00000196236 | chr22:38597462_A_G | 1077462 | -3335353 | 0.3160055 | 402 | ... |  0.048288780 | 0.08565446 | 0.826798693 | -0.0204271490 | 0.09331860 | ENSG00000196236 | 731 | 0.8880064019 | 0.9997200 | Mega_Oli |\n",
       "| 22 | 38597462 | G | A | ENSG00000100387 | chr22:38597462_A_G | 1077462 | -3375847 | 0.3160055 | 402 | ... | -0.102837860 | 0.06210089 | 0.677901138 |  0.0281127240 | 0.06765752 | ENSG00000100387 | 731 | 0.8944613139 | 0.9477682 | Mega_Oli |\n",
       "| 22 | 38597462 | G | A | ENSG00000100393 | chr22:38597462_A_G | 1077462 | -3582615 | 0.3160055 | 402 | ... | -0.041245290 | 0.06345045 | 0.879092547 |  0.0105198175 | 0.06912783 | ENSG00000100393 | 731 | 0.9987886225 | 0.9987371 | Mega_Oli |\n",
       "| 22 | 38597462 | G | A | ENSG00000100395 | chr22:38597462_A_G | 1077462 | -3633809 | 0.3160055 | 402 | ... | -0.147591040 | 0.07921475 | 0.004345682 |  0.2469899800 | 0.08630269 | ENSG00000100395 | 731 | 0.3091224977 | 0.1797470 | Mega_Oli |\n",
       "| 22 | 38597462 | G | A | ENSG00000100399 | chr22:38597462_A_G | 1077462 | -3643469 | 0.3160055 | 402 | ... |  0.063421250 | 0.06214528 | 0.691514411 | -0.0268776380 | 0.06770589 | ENSG00000100399 | 731 | 0.2691153848 | 0.7512891 | Mega_Oli |\n",
       "| 22 | 38597462 | G | A | ENSG00000100401 | chr22:38597462_A_G | 1077462 | -3688725 | 0.3160055 | 402 | ... | -0.025270462 | 0.05836635 | 0.440647926 |  0.0490632200 | 0.06358883 | ENSG00000100401 | 731 | 0.8594264651 | 0.9997112 | Mega_Oli |\n",
       "| 22 | 38597462 | G | A | ENSG00000100403 | chr22:38597462_A_G | 1077462 | -3762685 | 0.3160055 | 402 | ... |  0.036940020 | 0.09401447 | 0.428955098 | -0.0810679050 | 0.10242665 | ENSG00000100403 | 731 | 0.8454173693 | 0.6990549 | Mega_Oli |\n",
       "| 22 | 38597462 | G | A | ENSG00000167074 | chr22:38597462_A_G | 1077462 | -3801864 | 0.3160055 | 402 | ... |  0.076045096 | 0.07690388 | 0.666312158 | -0.0361457400 | 0.08378504 | ENSG00000167074 | 731 | 0.8425994558 | 0.9965832 | Mega_Oli |\n",
       "| 22 | 38597462 | G | A | ENSG00000183864 | chr22:38597462_A_G | 1077462 | -3849339 | 0.3160055 | 402 | ... |  0.014627501 | 0.05343084 | 0.989282388 |  0.0007822532 | 0.05821170 | ENSG00000183864 | 731 | 0.7529975963 | 0.9990474 | Mega_Oli |\n",
       "| 22 | 38597462 | G | A | ENSG00000100412 | chr22:38597462_A_G | 1077462 | -3931811 | 0.3160055 | 402 | ... |  0.122269120 | 0.07846133 | 0.569390196 | -0.0486595100 | 0.08548187 | ENSG00000100412 | 731 | 0.9938370191 | 0.6333033 | Mega_Oli |\n",
       "| 22 | 38597462 | G | A | ENSG00000100410 | chr22:38597462_A_G | 1077462 | -3871230 | 0.3160055 | 402 | ... | -0.071526680 | 0.07996159 | 0.332048765 |  0.0845652100 | 0.08711635 | ENSG00000100410 | 731 | 0.6356448111 | 0.9997810 | Mega_Oli |\n",
       "| 22 | 38597462 | G | A | ENSG00000100413 | chr22:38597462_A_G | 1077462 | -3947144 | 0.3160055 | 402 | ... | -0.016181290 | 0.08092333 | 0.503773450 |  0.0589760170 | 0.08816414 | ENSG00000100413 | 731 | 0.6735242084 | 0.9915201 | Mega_Oli |\n",
       "| 22 | 38597462 | G | A | ENSG00000100418 | chr22:38597462_A_G | 1077462 | -4023581 | 0.3160055 | 402 | ... |  0.034616880 | 0.09362084 | 0.141081209 | -0.1502998900 | 0.10199780 | ENSG00000100418 | 731 | 0.9536880516 | 0.9999079 | Mega_Oli |\n",
       "| 22 | 38597462 | G | A | ENSG00000196419 | chr22:38597462_A_G | 1077462 | -4066586 | 0.3160055 | 402 | ... |  0.102137390 | 0.07273393 | 0.306207897 | -0.0811447950 | 0.07924198 | ENSG00000196419 | 731 | 0.7376147874 | 0.7680508 | Mega_Oli |\n",
       "| 22 | 38597462 | G | A | ENSG00000100138 | chr22:38597462_A_G | 1077462 | -4093042 | 0.3160055 | 402 | ... | -0.022754457 | 0.04651947 | 0.641766434 | -0.0235897400 | 0.05068192 | ENSG00000100138 | 731 | 0.9992618068 | 0.9990802 | Mega_Oli |\n",
       "\n"
      ],
      "text/plain": [
       "    chrom pos      a1  a2  molecular_trait_id variant_id         start_distance\n",
       "1   22    38597462 G   A   ENSG00000128283    chr22:38597462_A_G 3357462       \n",
       "2   22    38597462 G   A   ENSG00000100083    chr22:38597462_A_G 3357462       \n",
       "3   22    38597462 G   A   ENSG00000100092    chr22:38597462_A_G 3357462       \n",
       "4   22    38597462 G   A   ENSG00000285304    chr22:38597462_A_G 3357462       \n",
       "5   22    38597462 G   A   ENSG00000241360    chr22:38597462_A_G 3357462       \n",
       "6   22    38597462 G   A   ENSG00000100097    chr22:38597462_A_G 3357462       \n",
       "7   22    38597462 G   A   ENSG00000273899    chr22:38597462_A_G 3357462       \n",
       "8   22    38597462 G   A   ENSG00000100101    chr22:38597462_A_G 3357462       \n",
       "9   22    38597462 G   A   ENSG00000100106    chr22:38597462_A_G 3357462       \n",
       "10  22    38597462 G   A   ENSG00000189060    chr22:38597462_A_G 3357462       \n",
       "11  22    38597462 G   A   ENSG00000100116    chr22:38597462_A_G 3357462       \n",
       "12  22    38597462 G   A   ENSG00000128310    chr22:38597462_A_G 3357462       \n",
       "13  22    38597462 G   A   ENSG00000100129    chr22:38597462_A_G 3357462       \n",
       "14  22    38597462 G   A   ENSG00000100124    chr22:38597462_A_G 3357462       \n",
       "15  22    38597462 G   A   ENSG00000279738    chr22:38597462_A_G 3357462       \n",
       "16  22    38597462 G   A   ENSG00000100139    chr22:38597462_A_G 3357462       \n",
       "17  22    38597462 G   A   ENSG00000278948    chr22:38597462_A_G 3357462       \n",
       "18  22    38597462 G   A   ENSG00000272582    chr22:38597462_A_G 3357462       \n",
       "19  22    38597462 G   A   ENSG00000100142    chr22:38597462_A_G 3357462       \n",
       "20  22    38597462 G   A   ENSG00000128346    chr22:38597462_A_G 3357462       \n",
       "21  22    38597462 G   A   ENSG00000100146    chr22:38597462_A_G 1626776       \n",
       "22  22    38597462 G   A   ENSG00000273214    chr22:38597462_A_G 1554233       \n",
       "23  22    38597462 G   A   ENSG00000100151    chr22:38597462_A_G 1541152       \n",
       "24  22    38597462 G   A   ENSG00000100156    chr22:38597462_A_G 1519328       \n",
       "25  22    38597462 G   A   ENSG00000272720    chr22:38597462_A_G 1507336       \n",
       "26  22    38597462 G   A   ENSG00000128298    chr22:38597462_A_G 1512810       \n",
       "27  22    38597462 G   A   ENSG00000185022    chr22:38597462_A_G 1395531       \n",
       "28  22    38597462 G   A   ENSG00000184381    chr22:38597462_A_G 1485967       \n",
       "29  22    38597462 G   A   ENSG00000198792    chr22:38597462_A_G 1378171       \n",
       "30  22    38597462 G   A   ENSG00000213923    chr22:38597462_A_G 1306771       \n",
       "... ...   ...      ... ... ...                ...                ...           \n",
       "432 22    38597462 G   A   ENSG00000100242    chr22:38597462_A_G 1077462       \n",
       "433 22    38597462 G   A   ENSG00000221890    chr22:38597462_A_G 1077462       \n",
       "434 22    38597462 G   A   ENSG00000183741    chr22:38597462_A_G 1077462       \n",
       "435 22    38597462 G   A   ENSG00000100307    chr22:38597462_A_G 1077462       \n",
       "436 22    38597462 G   A   ENSG00000100316    chr22:38597462_A_G 1077462       \n",
       "437 22    38597462 G   A   ENSG00000100321    chr22:38597462_A_G 1077462       \n",
       "438 22    38597462 G   A   ENSG00000100324    chr22:38597462_A_G 1077462       \n",
       "439 22    38597462 G   A   ENSG00000128268    chr22:38597462_A_G 1077462       \n",
       "440 22    38597462 G   A   ENSG00000100335    chr22:38597462_A_G 1077462       \n",
       "441 22    38597462 G   A   ENSG00000128272    chr22:38597462_A_G 1077462       \n",
       "442 22    38597462 G   A   ENSG00000187051    chr22:38597462_A_G 1077462       \n",
       "443 22    38597462 G   A   ENSG00000100354    chr22:38597462_A_G 1077462       \n",
       "444 22    38597462 G   A   ENSG00000100359    chr22:38597462_A_G 1077462       \n",
       "445 22    38597462 G   A   ENSG00000100372    chr22:38597462_A_G 1077462       \n",
       "446 22    38597462 G   A   ENSG00000100380    chr22:38597462_A_G 1077462       \n",
       "447 22    38597462 G   A   ENSG00000196236    chr22:38597462_A_G 1077462       \n",
       "448 22    38597462 G   A   ENSG00000100387    chr22:38597462_A_G 1077462       \n",
       "449 22    38597462 G   A   ENSG00000100393    chr22:38597462_A_G 1077462       \n",
       "450 22    38597462 G   A   ENSG00000100395    chr22:38597462_A_G 1077462       \n",
       "451 22    38597462 G   A   ENSG00000100399    chr22:38597462_A_G 1077462       \n",
       "452 22    38597462 G   A   ENSG00000100401    chr22:38597462_A_G 1077462       \n",
       "453 22    38597462 G   A   ENSG00000100403    chr22:38597462_A_G 1077462       \n",
       "454 22    38597462 G   A   ENSG00000167074    chr22:38597462_A_G 1077462       \n",
       "455 22    38597462 G   A   ENSG00000183864    chr22:38597462_A_G 1077462       \n",
       "456 22    38597462 G   A   ENSG00000100412    chr22:38597462_A_G 1077462       \n",
       "457 22    38597462 G   A   ENSG00000100410    chr22:38597462_A_G 1077462       \n",
       "458 22    38597462 G   A   ENSG00000100413    chr22:38597462_A_G 1077462       \n",
       "459 22    38597462 G   A   ENSG00000100418    chr22:38597462_A_G 1077462       \n",
       "460 22    38597462 G   A   ENSG00000196419    chr22:38597462_A_G 1077462       \n",
       "461 22    38597462 G   A   ENSG00000100138    chr22:38597462_A_G 1077462       \n",
       "    end_distance af        ma_samples ... beta_APOE    se_APOE   \n",
       "1   -3082538     0.3028534 405        ... -0.018575037 0.02993634\n",
       "2   -3082538     0.3028534 405        ... -0.035590645 0.02964006\n",
       "3   -3082538     0.3028534 405        ...  0.011254495 0.03871303\n",
       "4   -3082538     0.3028534 405        ... -0.004102273 0.02600952\n",
       "5   -3082538     0.3028534 405        ... -0.009330144 0.02850772\n",
       "6   -3082538     0.3028534 405        ... -0.022981402 0.03369676\n",
       "7   -3082538     0.3028534 405        ... -0.024469815 0.03808817\n",
       "8   -3082538     0.3028534 405        ...  0.022730667 0.04493425\n",
       "9   -3082538     0.3028534 405        ... -0.017359031 0.02793734\n",
       "10  -3082538     0.3028534 405        ...  0.034252160 0.03941442\n",
       "11  -3082538     0.3028534 405        ... -0.102945820 0.04032461\n",
       "12  -3082538     0.3028534 405        ...  0.107929340 0.06264837\n",
       "13  -3082538     0.3028534 405        ... -0.029417396 0.03013118\n",
       "14  -3082538     0.3028534 405        ...  0.042102117 0.03369693\n",
       "15  -3082538     0.3028534 405        ... -0.040703535 0.03867089\n",
       "16  -3082538     0.3028534 405        ...  0.049217023 0.02789021\n",
       "17  -3082538     0.3028534 405        ...  0.007542463 0.03609426\n",
       "18  -3082538     0.3028534 405        ...  0.004004177 0.05094793\n",
       "19  -3082538     0.3028534 405        ... -0.045245554 0.03489256\n",
       "20  -3082538     0.3028534 405        ...  0.007986032 0.07123135\n",
       "21  -3082538     0.3028534 405        ... -0.032090664 0.02687182\n",
       "22  -3082538     0.3028534 405        ... -0.064832550 0.06650998\n",
       "23  -3082538     0.3028534 405        ... -0.019871347 0.03005007\n",
       "24  -3082538     0.3028534 405        ...  0.040573380 0.04723233\n",
       "25  -3082538     0.3028534 405        ...  0.001558614 0.03793586\n",
       "26  -3082538     0.3028534 405        ...  0.061800666 0.03556331\n",
       "27  -3082538     0.3028534 405        ... -0.058879156 0.03876546\n",
       "28  -3082538     0.3028534 405        ... -0.076711820 0.03885692\n",
       "29  -3082538     0.3028534 405        ... -0.023851141 0.03183174\n",
       "30  -3082538     0.3028534 405        ...  0.003158539 0.02490203\n",
       "... ...          ...       ...            ...          ...       \n",
       "432 -3082538     0.3160055 402        ...  0.067003700 0.04689517\n",
       "433 -3082538     0.3160055 402        ...  0.124685550 0.06372140\n",
       "434 -3082538     0.3160055 402        ...  0.104704170 0.06078967\n",
       "435 -3082538     0.3160055 402        ...  0.144456680 0.07771309\n",
       "436 -3082538     0.3160055 402        ... -0.005248471 0.03719657\n",
       "437 -3082538     0.3160055 402        ... -0.041540727 0.06306323\n",
       "438 -3082538     0.3160055 402        ... -0.011641635 0.08115866\n",
       "439 -3082538     0.3160055 402        ...  0.078234020 0.06597727\n",
       "440 -3082538     0.3160055 402        ...  0.029176626 0.09131959\n",
       "441 -3082538     0.3160055 402        ...  0.053730330 0.06241384\n",
       "442 -3082538     0.3160055 402        ... -0.033223577 0.04937576\n",
       "443 -3082538     0.3160055 402        ...  0.005360078 0.03929402\n",
       "444 -3082538     0.3160055 402        ... -0.031637467 0.06772940\n",
       "445 -3221937     0.3160055 402        ... -0.003308074 0.08561189\n",
       "446 -3259177     0.3160055 402        ... -0.017756037 0.04890942\n",
       "447 -3335353     0.3160055 402        ...  0.048288780 0.08565446\n",
       "448 -3375847     0.3160055 402        ... -0.102837860 0.06210089\n",
       "449 -3582615     0.3160055 402        ... -0.041245290 0.06345045\n",
       "450 -3633809     0.3160055 402        ... -0.147591040 0.07921475\n",
       "451 -3643469     0.3160055 402        ...  0.063421250 0.06214528\n",
       "452 -3688725     0.3160055 402        ... -0.025270462 0.05836635\n",
       "453 -3762685     0.3160055 402        ...  0.036940020 0.09401447\n",
       "454 -3801864     0.3160055 402        ...  0.076045096 0.07690388\n",
       "455 -3849339     0.3160055 402        ...  0.014627501 0.05343084\n",
       "456 -3931811     0.3160055 402        ...  0.122269120 0.07846133\n",
       "457 -3871230     0.3160055 402        ... -0.071526680 0.07996159\n",
       "458 -3947144     0.3160055 402        ... -0.016181290 0.08092333\n",
       "459 -4023581     0.3160055 402        ...  0.034616880 0.09362084\n",
       "460 -4066586     0.3160055 402        ...  0.102137390 0.07273393\n",
       "461 -4093042     0.3160055 402        ... -0.022754457 0.04651947\n",
       "    pvalue_APOE_interaction beta_APOE_interaction se_APOE_interaction\n",
       "1   0.14503030               0.0481713970         0.03301896         \n",
       "2   0.66363114               0.0142239000         0.03269218         \n",
       "3   0.78766545               0.0115051080         0.04269942         \n",
       "4   0.40410010               0.0239489940         0.02868780         \n",
       "5   0.44808297               0.0238664190         0.03144324         \n",
       "6   0.33731061               0.0356849800         0.03716660         \n",
       "7   0.56967365               0.0238951820         0.04201021         \n",
       "8   0.49739361              -0.0336492200         0.04956125         \n",
       "9   0.97753692              -0.0008679363         0.03081412         \n",
       "10  0.91490500              -0.0046468960         0.04347304         \n",
       "11  0.21623190               0.0550491800         0.04447694         \n",
       "12  0.09113387              -0.1168969100         0.06909944         \n",
       "13  0.47201459               0.0239146200         0.03323387         \n",
       "14  0.88554323              -0.0053519094         0.03716679         \n",
       "15  0.09689884               0.0709000450         0.04265294         \n",
       "16  0.19615112              -0.0398000630         0.03076215         \n",
       "17  0.32463293              -0.0392400620         0.03981099         \n",
       "18  0.34781907              -0.0527912940         0.05619417         \n",
       "19  0.46734484               0.0279864330         0.03848554         \n",
       "20  0.96732622               0.0032193512         0.07856624         \n",
       "21  0.07991179               0.0519772660         0.02963889         \n",
       "22  0.43412918               0.0574094170         0.07335869         \n",
       "23  0.72601226               0.0116195070         0.03314440         \n",
       "24  0.54694218              -0.0313948470         0.05209597         \n",
       "25  0.89455530               0.0055478355         0.04184222         \n",
       "26  0.74614732               0.0127030650         0.03922536         \n",
       "27  0.24476319               0.0497744980         0.04275724         \n",
       "28  0.05488959               0.0824114800         0.04285812         \n",
       "29  0.14675162               0.0510027330         0.03510954         \n",
       "30  0.28277227               0.0295240280         0.02746627         \n",
       "... ...                     ...                   ...                \n",
       "432 0.559386819             -0.0298399300         0.05109123         \n",
       "433 0.226464679             -0.0840474000         0.06942303         \n",
       "434 0.178050935             -0.0892919300         0.06622897         \n",
       "435 0.183837514             -0.1126437900         0.08466666         \n",
       "436 0.562054053              0.0235080290         0.04052483         \n",
       "437 0.895051246              0.0090668980         0.06870598         \n",
       "438 0.748523675              0.0283583940         0.08842054         \n",
       "439 0.598785579             -0.0378383600         0.07188075         \n",
       "440 0.637055972              0.0469635240         0.09949064         \n",
       "441 0.691310926             -0.0270125600         0.06799848         \n",
       "442 0.564723767              0.0309923480         0.05379378         \n",
       "443 0.506184483             -0.0284753480         0.04280996         \n",
       "444 0.610995554              0.0375513900         0.07378966         \n",
       "445 0.507010125              0.0619202500         0.09327223         \n",
       "446 0.853718889              0.0098284630         0.05328571         \n",
       "447 0.826798693             -0.0204271490         0.09331860         \n",
       "448 0.677901138              0.0281127240         0.06765752         \n",
       "449 0.879092547              0.0105198175         0.06912783         \n",
       "450 0.004345682              0.2469899800         0.08630269         \n",
       "451 0.691514411             -0.0268776380         0.06770589         \n",
       "452 0.440647926              0.0490632200         0.06358883         \n",
       "453 0.428955098             -0.0810679050         0.10242665         \n",
       "454 0.666312158             -0.0361457400         0.08378504         \n",
       "455 0.989282388              0.0007822532         0.05821170         \n",
       "456 0.569390196             -0.0486595100         0.08548187         \n",
       "457 0.332048765              0.0845652100         0.08711635         \n",
       "458 0.503773450              0.0589760170         0.08816414         \n",
       "459 0.141081209             -0.1502998900         0.10199780         \n",
       "460 0.306207897             -0.0811447950         0.07924198         \n",
       "461 0.641766434             -0.0235897400         0.05068192         \n",
       "    molecular_trait_object_id n   qvalue_main  qvalue_interaction region  \n",
       "1   ENSG00000128283           771 0.8783717    0.6380473          DLPFC   \n",
       "2   ENSG00000100083           771 0.9999578    0.9202096          DLPFC   \n",
       "3   ENSG00000100092           771 0.9346782    0.9639307          DLPFC   \n",
       "4   ENSG00000285304           771 0.9174260    0.8783479          DLPFC   \n",
       "5   ENSG00000241360           771 0.9871163    0.9868661          DLPFC   \n",
       "6   ENSG00000100097           771 0.9995313    0.9044449          DLPFC   \n",
       "7   ENSG00000273899           771 0.8586110    0.9363699          DLPFC   \n",
       "8   ENSG00000100101           771 0.9620571    0.9507043          DLPFC   \n",
       "9   ENSG00000100106           771 0.7390184    0.9998849          DLPFC   \n",
       "10  ENSG00000189060           771 0.7632077    0.9616505          DLPFC   \n",
       "11  ENSG00000100116           771 0.8785916    0.9266863          DLPFC   \n",
       "12  ENSG00000128310           771 0.6150325    0.7874281          DLPFC   \n",
       "13  ENSG00000100129           771 0.8292383    0.9969891          DLPFC   \n",
       "14  ENSG00000100124           771 0.9895338    0.8972200          DLPFC   \n",
       "15  ENSG00000279738           771 0.7898105    0.5555080          DLPFC   \n",
       "16  ENSG00000100139           771 0.8024094    0.8958952          DLPFC   \n",
       "17  ENSG00000278948           771 0.6543538    0.8437952          DLPFC   \n",
       "18  ENSG00000272582           771 0.8185081    0.9083147          DLPFC   \n",
       "19  ENSG00000100142           771 0.9143158    0.8467280          DLPFC   \n",
       "20  ENSG00000128346           771 0.7877221    0.9998228          DLPFC   \n",
       "21  ENSG00000100146           771 0.7404776    0.3787101          DLPFC   \n",
       "22  ENSG00000273214           771 0.6411854    0.9210790          DLPFC   \n",
       "23  ENSG00000100151           771 0.7466013    0.8714776          DLPFC   \n",
       "24  ENSG00000100156           771 0.9658545    0.9103961          DLPFC   \n",
       "25  ENSG00000272720           771 0.8439855    0.9997568          DLPFC   \n",
       "26  ENSG00000128298           771 0.9596393    0.9991794          DLPFC   \n",
       "27  ENSG00000185022           771 0.6405950    0.5473322          DLPFC   \n",
       "28  ENSG00000184381           771 0.9846906    0.9994960          DLPFC   \n",
       "29  ENSG00000198792           771 0.9997900    0.6777735          DLPFC   \n",
       "30  ENSG00000213923           771 0.8182914    0.9999951          DLPFC   \n",
       "... ...                       ... ...          ...                ...     \n",
       "432 ENSG00000100242           731 0.0006857333 0.9982052          Mega_Oli\n",
       "433 ENSG00000221890           731 0.8582303724 0.5576658          Mega_Oli\n",
       "434 ENSG00000183741           731 0.9985802835 0.9512260          Mega_Oli\n",
       "435 ENSG00000100307           731 0.8933088186 0.9972538          Mega_Oli\n",
       "436 ENSG00000100316           731 0.9975950597 0.9998713          Mega_Oli\n",
       "437 ENSG00000100321           731 0.9988512395 0.9999162          Mega_Oli\n",
       "438 ENSG00000100324           731 0.8223714276 0.9990566          Mega_Oli\n",
       "439 ENSG00000128268           731 0.7554320216 0.6828717          Mega_Oli\n",
       "440 ENSG00000100335           731 0.6155440185 0.9989901          Mega_Oli\n",
       "441 ENSG00000128272           731 0.7515981341 0.9993927          Mega_Oli\n",
       "442 ENSG00000187051           731 0.8299982254 0.9850051          Mega_Oli\n",
       "443 ENSG00000100354           731 0.9988747471 0.9992808          Mega_Oli\n",
       "444 ENSG00000100359           731 0.5695791390 0.9995877          Mega_Oli\n",
       "445 ENSG00000100372           731 0.8634484430 0.7912790          Mega_Oli\n",
       "446 ENSG00000100380           731 0.4431173859 0.9993633          Mega_Oli\n",
       "447 ENSG00000196236           731 0.8880064019 0.9997200          Mega_Oli\n",
       "448 ENSG00000100387           731 0.8944613139 0.9477682          Mega_Oli\n",
       "449 ENSG00000100393           731 0.9987886225 0.9987371          Mega_Oli\n",
       "450 ENSG00000100395           731 0.3091224977 0.1797470          Mega_Oli\n",
       "451 ENSG00000100399           731 0.2691153848 0.7512891          Mega_Oli\n",
       "452 ENSG00000100401           731 0.8594264651 0.9997112          Mega_Oli\n",
       "453 ENSG00000100403           731 0.8454173693 0.6990549          Mega_Oli\n",
       "454 ENSG00000167074           731 0.8425994558 0.9965832          Mega_Oli\n",
       "455 ENSG00000183864           731 0.7529975963 0.9990474          Mega_Oli\n",
       "456 ENSG00000100412           731 0.9938370191 0.6333033          Mega_Oli\n",
       "457 ENSG00000100410           731 0.6356448111 0.9997810          Mega_Oli\n",
       "458 ENSG00000100413           731 0.6735242084 0.9915201          Mega_Oli\n",
       "459 ENSG00000100418           731 0.9536880516 0.9999079          Mega_Oli\n",
       "460 ENSG00000196419           731 0.7376147874 0.7680508          Mega_Oli\n",
       "461 ENSG00000100138           731 0.9992618068 0.9990802          Mega_Oli"
      ]
     },
     "metadata": {},
     "output_type": "display_data"
    }
   ],
   "source": [
    "int_res |> filter(variant_id %in% CBY1_var)# |> filter(molecular_trait_id == \"ENSG00000114650\")"
   ]
  },
  {
   "cell_type": "markdown",
   "id": "fbac3c69-9703-4484-b26d-356aa4d5f390",
   "metadata": {},
   "source": [
    "### sQTL"
   ]
  },
  {
   "cell_type": "code",
   "execution_count": 5,
   "id": "467c4848-9e19-4527-8ded-7d74d61da608",
   "metadata": {},
   "outputs": [
    {
     "data": {
      "text/html": [
       "TRUE"
      ],
      "text/latex": [
       "TRUE"
      ],
      "text/markdown": [
       "TRUE"
      ],
      "text/plain": [
       "[1] TRUE"
      ]
     },
     "metadata": {},
     "output_type": "display_data"
    },
    {
     "data": {
      "text/html": [
       "301755005"
      ],
      "text/latex": [
       "301755005"
      ],
      "text/markdown": [
       "301755005"
      ],
      "text/plain": [
       "[1] 301755005"
      ]
     },
     "metadata": {},
     "output_type": "display_data"
    }
   ],
   "source": [
    "file_path <- \"~/data/analysis_result/cis_association/ROSMAP/sQTL/DLPFC/leafcutter2/interaction/APOE/ROSMAP_DLPFC_perind.counts.noise_by_intron.QCed_minc1_mins10.gz_raw_data.qqnorm.imputed.bed.formated.bed.chr22_chr22_APOE.cis_qtl.pairs.tsv.gz\"\n",
    "\n",
    "file.exists(file_path)\n",
    "file.info(file_path)$size  # Check file size\n",
    "\n"
   ]
  },
  {
   "cell_type": "code",
   "execution_count": 6,
   "id": "244ca5e5-9f3a-4b59-bac6-f774a5ff6593",
   "metadata": {},
   "outputs": [
    {
     "data": {
      "text/plain": [
       "[1] 00 00"
      ]
     },
     "metadata": {},
     "output_type": "display_data"
    }
   ],
   "source": [
    "con <- file(file_path, \"rb\")\n",
    "header <- readBin(con, \"raw\", 10)\n",
    "close(con)\n",
    "header[1:2]"
   ]
  },
  {
   "cell_type": "code",
   "execution_count": 2,
   "id": "4f2b2a00-999a-4295-9743-6a7a08d79997",
   "metadata": {
    "vscode": {
     "languageId": "r"
    }
   },
   "outputs": [],
   "source": [
    "chrom = \"chr22\"# ROSMAP_DLPFC_perind.counts.noise_by_intron.QCed_minc1_mins10.gz_raw_data.qqnorm.imputed.bed.formated.bed.chr1_chr1_APOE.cis_qtl.pairs.tsv.gz"
   ]
  },
  {
   "cell_type": "code",
   "execution_count": 3,
   "id": "36bfd1fb-ff45-434a-a833-a1099cbbd97a",
   "metadata": {
    "vscode": {
     "languageId": "r"
    }
   },
   "outputs": [
    {
     "name": "stderr",
     "output_type": "stream",
     "text": [
      "Warning message in readBin(inn, what = raw(0L), size = 1L, n = BFR.SIZE):\n",
      "\"error reading the file\"\n"
     ]
    },
    {
     "ename": "ERROR",
     "evalue": "Error in readBin(inn, what = raw(0L), size = 1L, n = BFR.SIZE): error reading from the connection\n",
     "output_type": "error",
     "traceback": [
      "Error in readBin(inn, what = raw(0L), size = 1L, n = BFR.SIZE): error reading from the connection\nTraceback:\n",
      "1. mutate(., region = \"DLPFC\")",
      "2. fread(paste0(\"~/data/analysis_result/cis_association/ROSMAP/sQTL/DLPFC/leafcutter2/interaction/APOE/ROSMAP_DLPFC_perind.counts.noise_by_intron.QCed_minc1_mins10.gz_raw_data.qqnorm.imputed.bed.formated.bed.\", \n .     chrom, \"_\", chrom, \"_APOE.cis_qtl.pairs.tsv.gz\"))",
      "3. R.utils::decompressFile(file, decompFile <- tempfile(tmpdir = tmpdir), \n .     ext = NULL, FUN = FUN, remove = FALSE)",
      "4. decompressFile.default(file, decompFile <- tempfile(tmpdir = tmpdir), \n .     ext = NULL, FUN = FUN, remove = FALSE)",
      "5. readBin(inn, what = raw(0L), size = 1L, n = BFR.SIZE)",
      "6. .handleSimpleError(function (cnd) \n . {\n .     watcher$capture_plot_and_output()\n .     cnd <- sanitize_call(cnd)\n .     watcher$push(cnd)\n .     switch(on_error, continue = invokeRestart(\"eval_continue\"), \n .         stop = invokeRestart(\"eval_stop\"), error = NULL)\n . }, \"error reading from the connection\", base::quote(readBin(inn, \n .     what = raw(0L), size = 1L, n = BFR.SIZE)))"
     ]
    }
   ],
   "source": [
    "dlpfc_int_res <- fread(paste0('~/data/analysis_result/cis_association/ROSMAP/sQTL/DLPFC/leafcutter2/interaction/APOE/ROSMAP_DLPFC_perind.counts.noise_by_intron.QCed_minc1_mins10.gz_raw_data.qqnorm.imputed.bed.formated.bed.', chrom, \"_\", chrom,\"_APOE.cis_qtl.pairs.tsv.gz\")) %>% mutate(region  = \"DLPFC\")\n",
    "ac_int_res <- fread(paste0('~/data/analysis_result/cis_association/ROSMAP/sQTL/AC/leafcutter2/interaction/APOE/ROSMAP_AC_perind.counts.noise_by_intron.QCed_minc1_mins10.gz_raw_data.qqnorm.imputed.bed.formated.bed.',chrom,'_', chrom, '_APOE.cis_qtl.pairs.tsv.gz')) %>% mutate(region  = \"AC\")"
   ]
  },
  {
   "cell_type": "code",
   "execution_count": 34,
   "id": "d9c78f47-2960-4d9e-892f-793ee68adbbe",
   "metadata": {
    "vscode": {
     "languageId": "r"
    }
   },
   "outputs": [
    {
     "ename": "ERROR",
     "evalue": "Error in fread(paste0(\"~/data/analysis_result/cis_association/ROSMAP/sQTL/PCCleafcutter2/interaction/APOE/PCC_samples_list.rnaseqc.gene_tpm.low_expression_filtered.outlier_removed.tmm.expression.bed.\", : File '~/data/analysis_result/cis_association/ROSMAP/sQTL/PCCleafcutter2/interaction/APOE/PCC_samples_list.rnaseqc.gene_tpm.low_expression_filtered.outlier_removed.tmm.expression.bed.chr22_chr22_APOE.cis_qtl.pairs.tsv.gz' does not exist or is non-readable. getwd()=='/home/ubuntu/xqtl-analysis/production/image_QTL/interested_genes/CB_M1/DNE'\n",
     "output_type": "error",
     "traceback": [
      "Error in fread(paste0(\"~/data/analysis_result/cis_association/ROSMAP/sQTL/PCCleafcutter2/interaction/APOE/PCC_samples_list.rnaseqc.gene_tpm.low_expression_filtered.outlier_removed.tmm.expression.bed.\", : File '~/data/analysis_result/cis_association/ROSMAP/sQTL/PCCleafcutter2/interaction/APOE/PCC_samples_list.rnaseqc.gene_tpm.low_expression_filtered.outlier_removed.tmm.expression.bed.chr22_chr22_APOE.cis_qtl.pairs.tsv.gz' does not exist or is non-readable. getwd()=='/home/ubuntu/xqtl-analysis/production/image_QTL/interested_genes/CB_M1/DNE'\nTraceback:\n",
      "1. mutate(., region = \"PCC\")",
      "2. fread(paste0(\"~/data/analysis_result/cis_association/ROSMAP/sQTL/PCCleafcutter2/interaction/APOE/PCC_samples_list.rnaseqc.gene_tpm.low_expression_filtered.outlier_removed.tmm.expression.bed.\", \n .     chrom, \"_\", chrom, \"_APOE.cis_qtl.pairs.tsv.gz\"))",
      "3. stopf(\"File '%s' does not exist or is non-readable. getwd()=='%s'\", \n .     file, getwd())",
      "4. raise_condition(stop, gettextf(fmt, ..., domain = domain), c(class, \n .     \"simpleError\", \"error\", \"condition\"))",
      "5. signal(obj)"
     ]
    }
   ],
   "source": [
    "pcc_int_res <- fread(paste0('~/data/analysis_result/cis_association/ROSMAP/sQTL/PCCleafcutter2/interaction/APOE/PCC_samples_list.rnaseqc.gene_tpm.low_expression_filtered.outlier_removed.tmm.expression.bed.',chrom,'_',chrom,'_APOE.cis_qtl.pairs.tsv.gz')) %>% mutate(region  = \"PCC\")\n",
    "mega_ast_int_res <- fread(paste0('~/data/analysis_result/cis_association/ROSMAP/sQTL/snuc_mega/Astleafcutter2/interaction/APOE/snuc_pseudo_bulk.Ast.mega.normalized.log2cpm.bed.',chrom,'_',chrom,'_APOE.cis_qtl.pairs.tsv.gz')) %>% mutate(region  = \"Mega_Ast\")"
   ]
  },
  {
   "cell_type": "code",
   "execution_count": 5,
   "id": "9b87428f-5aeb-499d-b939-93056df8481b",
   "metadata": {
    "vscode": {
     "languageId": "r"
    }
   },
   "outputs": [],
   "source": [
    "mega_exc_int_res <- fread(paste0('~/data/analysis_result/cis_association/ROSMAP/sQTL/snuc_mega/Excleafcutter2/interaction/APOE/snuc_pseudo_bulk.Exc.mega.normalized.log2cpm.bed.',chrom,'_',chrom,'_APOE.cis_qtl.pairs.tsv.gz')) %>% mutate(region  = \"Mega_Exc\")\n",
    "mega_opc_int_res <- fread(paste0('~/data/analysis_result/cis_association/ROSMAP/sQTL/snuc_mega/OPCleafcutter2/interaction/APOE/snuc_pseudo_bulk.OPC.mega.normalized.log2cpm.bed.',chrom,'_',chrom,'_APOE.cis_qtl.pairs.tsv.gz')) %>% mutate(region  = \"Mega_OPC\")"
   ]
  },
  {
   "cell_type": "code",
   "execution_count": 6,
   "id": "cd89891f-1768-4a09-ad24-479dd6ae0bd6",
   "metadata": {
    "vscode": {
     "languageId": "r"
    }
   },
   "outputs": [],
   "source": [
    "mega_inh_int_res <- fread(paste0('~/data/analysis_result/cis_association/ROSMAP/sQTL/snuc_mega/Inhleafcutter2/interaction/APOE/snuc_pseudo_bulk.Inh.mega.normalized.log2cpm.bed.',chrom,'_',chrom,'_APOE.cis_qtl.pairs.tsv.gz')) %>% mutate(region  = \"Mega_Inh\")\n",
    "mega_mic_int_res <- fread(paste0('~/data/analysis_result/cis_association/ROSMAP/sQTL/snuc_mega/Micleafcutter2/interaction/APOE/snuc_pseudo_bulk.Mic.mega.normalized.log2cpm.bed.',chrom,'_',chrom,'_APOE.cis_qtl.pairs.tsv.gz')) %>% mutate(region  = \"Mega_Mic\")"
   ]
  },
  {
   "cell_type": "code",
   "execution_count": 7,
   "id": "4e3c1ea1-62b0-4ca5-be83-19cb54ef9c2e",
   "metadata": {
    "vscode": {
     "languageId": "r"
    }
   },
   "outputs": [],
   "source": [
    "mega_oli_int_res <- fread(paste0('~/data/analysis_result/cis_association/ROSMAP/sQTL/snuc_mega/Olileafcutter2/interaction/APOE/snuc_pseudo_bulk.Oli.mega.normalized.log2cpm.bed.',chrom,'_',chrom,'_APOE.cis_qtl.pairs.tsv.gz')) %>% mutate(region  = \"Mega_Oli\")\n",
    "#mono_int_res <- fread(paste0('~/data/analysis_result/cis_association/ROSMAP/sQTL/monocyteleafcutter2/interaction/APOE/monocyte_sample_fastq.final.rnaseqc.low_expression_filtered.outlier_removed.tmm.expression.bed.',chrom,'_',chrom,'_APOE.cis_qtl.pairs.tsv.gz')) %>% mutate(region  = \"monocyte\")\n"
   ]
  },
  {
   "cell_type": "code",
   "execution_count": 8,
   "id": "1852030e-7930-46f3-a644-64516534fc91",
   "metadata": {
    "vscode": {
     "languageId": "r"
    }
   },
   "outputs": [],
   "source": [
    "int_res <- rbind(dlpfc_int_res, ac_int_res, mega_ast_int_res, mega_exc_int_res, mega_opc_int_res, mega_inh_int_res, mega_mic_int_res, mega_oli_int_res)\n"
   ]
  },
  {
   "cell_type": "code",
   "execution_count": 9,
   "id": "6564a3f2-ff35-44f5-818c-a847b68aa1e7",
   "metadata": {
    "vscode": {
     "languageId": "r"
    }
   },
   "outputs": [
    {
     "data": {
      "text/html": [
       "<table class=\"dataframe\">\n",
       "<caption>A data.table: 6 x 25</caption>\n",
       "<thead>\n",
       "\t<tr><th scope=col>chrom</th><th scope=col>pos</th><th scope=col>a1</th><th scope=col>a2</th><th scope=col>molecular_trait_id</th><th scope=col>variant_id</th><th scope=col>start_distance</th><th scope=col>end_distance</th><th scope=col>af</th><th scope=col>ma_samples</th><th scope=col>...</th><th scope=col>beta_APOE</th><th scope=col>se_APOE</th><th scope=col>pvalue_APOE_interaction</th><th scope=col>beta_APOE_interaction</th><th scope=col>se_APOE_interaction</th><th scope=col>molecular_trait_object_id</th><th scope=col>n</th><th scope=col>qvalue_main</th><th scope=col>qvalue_interaction</th><th scope=col>region</th></tr>\n",
       "\t<tr><th scope=col>&lt;int&gt;</th><th scope=col>&lt;int&gt;</th><th scope=col>&lt;chr&gt;</th><th scope=col>&lt;chr&gt;</th><th scope=col>&lt;chr&gt;</th><th scope=col>&lt;chr&gt;</th><th scope=col>&lt;int&gt;</th><th scope=col>&lt;int&gt;</th><th scope=col>&lt;dbl&gt;</th><th scope=col>&lt;int&gt;</th><th scope=col>...</th><th scope=col>&lt;dbl&gt;</th><th scope=col>&lt;dbl&gt;</th><th scope=col>&lt;dbl&gt;</th><th scope=col>&lt;dbl&gt;</th><th scope=col>&lt;dbl&gt;</th><th scope=col>&lt;chr&gt;</th><th scope=col>&lt;int&gt;</th><th scope=col>&lt;dbl&gt;</th><th scope=col>&lt;dbl&gt;</th><th scope=col>&lt;chr&gt;</th></tr>\n",
       "</thead>\n",
       "<tbody>\n",
       "\t<tr><td>22</td><td>10530527</td><td>*</td><td>ATG</td><td>ENSG00000286406</td><td>chr22:10530527_ATG_*</td><td>10530527</td><td>-8429473</td><td>0.3725213</td><td>490</td><td>...</td><td>-0.09472352</td><td>0.10514817</td><td>0.42812366</td><td> 0.082440450</td><td>0.10397902</td><td>ENSG00000286406</td><td>771</td><td>0.9998951</td><td>0.9997985</td><td>DLPFC</td></tr>\n",
       "\t<tr><td>22</td><td>10530527</td><td>*</td><td>ATG</td><td>ENSG00000206195</td><td>chr22:10530527_ATG_*</td><td>10530527</td><td>-8429473</td><td>0.3725213</td><td>490</td><td>...</td><td> 0.24980350</td><td>0.10339568</td><td>0.02751837</td><td>-0.225820100</td><td>0.10224601</td><td>ENSG00000206195</td><td>771</td><td>0.4851154</td><td>0.9989909</td><td>DLPFC</td></tr>\n",
       "\t<tr><td>22</td><td>10530527</td><td>*</td><td>ATG</td><td>ENSG00000271127</td><td>chr22:10530527_ATG_*</td><td>10530527</td><td>-8429473</td><td>0.3725213</td><td>490</td><td>...</td><td> 0.06534776</td><td>0.07853492</td><td>0.94285745</td><td> 0.005568655</td><td>0.07766169</td><td>ENSG00000271127</td><td>771</td><td>0.9410113</td><td>0.7804981</td><td>DLPFC</td></tr>\n",
       "\t<tr><td>22</td><td>10530527</td><td>*</td><td>ATG</td><td>ENSG00000272872</td><td>chr22:10530527_ATG_*</td><td>10530527</td><td>-8429473</td><td>0.3725213</td><td>490</td><td>...</td><td> 0.09097417</td><td>0.10080200</td><td>0.80635557</td><td>-0.024443902</td><td>0.09968116</td><td>ENSG00000272872</td><td>771</td><td>0.7311951</td><td>0.9985925</td><td>DLPFC</td></tr>\n",
       "\t<tr><td>22</td><td>10530527</td><td>*</td><td>ATG</td><td>ENSG00000271672</td><td>chr22:10530527_ATG_*</td><td>10530527</td><td>-8429473</td><td>0.3725213</td><td>490</td><td>...</td><td> 0.14094672</td><td>0.09146552</td><td>0.48336791</td><td>-0.063427970</td><td>0.09044850</td><td>ENSG00000271672</td><td>771</td><td>0.9339579</td><td>0.9969601</td><td>DLPFC</td></tr>\n",
       "\t<tr><td>22</td><td>10530527</td><td>*</td><td>ATG</td><td>ENSG00000198445</td><td>chr22:10530527_ATG_*</td><td>10530527</td><td>-8429473</td><td>0.3725213</td><td>490</td><td>...</td><td>-0.05715503</td><td>0.08754399</td><td>0.79669138</td><td>-0.022311594</td><td>0.08657058</td><td>ENSG00000198445</td><td>771</td><td>0.9964512</td><td>0.9995017</td><td>DLPFC</td></tr>\n",
       "</tbody>\n",
       "</table>\n"
      ],
      "text/latex": [
       "A data.table: 6 x 25\n",
       "\\begin{tabular}{lllllllllllllllllllll}\n",
       " chrom & pos & a1 & a2 & molecular\\_trait\\_id & variant\\_id & start\\_distance & end\\_distance & af & ma\\_samples & ... & beta\\_APOE & se\\_APOE & pvalue\\_APOE\\_interaction & beta\\_APOE\\_interaction & se\\_APOE\\_interaction & molecular\\_trait\\_object\\_id & n & qvalue\\_main & qvalue\\_interaction & region\\\\\n",
       " <int> & <int> & <chr> & <chr> & <chr> & <chr> & <int> & <int> & <dbl> & <int> & ... & <dbl> & <dbl> & <dbl> & <dbl> & <dbl> & <chr> & <int> & <dbl> & <dbl> & <chr>\\\\\n",
       "\\hline\n",
       "\t 22 & 10530527 & * & ATG & ENSG00000286406 & chr22:10530527\\_ATG\\_* & 10530527 & -8429473 & 0.3725213 & 490 & ... & -0.09472352 & 0.10514817 & 0.42812366 &  0.082440450 & 0.10397902 & ENSG00000286406 & 771 & 0.9998951 & 0.9997985 & DLPFC\\\\\n",
       "\t 22 & 10530527 & * & ATG & ENSG00000206195 & chr22:10530527\\_ATG\\_* & 10530527 & -8429473 & 0.3725213 & 490 & ... &  0.24980350 & 0.10339568 & 0.02751837 & -0.225820100 & 0.10224601 & ENSG00000206195 & 771 & 0.4851154 & 0.9989909 & DLPFC\\\\\n",
       "\t 22 & 10530527 & * & ATG & ENSG00000271127 & chr22:10530527\\_ATG\\_* & 10530527 & -8429473 & 0.3725213 & 490 & ... &  0.06534776 & 0.07853492 & 0.94285745 &  0.005568655 & 0.07766169 & ENSG00000271127 & 771 & 0.9410113 & 0.7804981 & DLPFC\\\\\n",
       "\t 22 & 10530527 & * & ATG & ENSG00000272872 & chr22:10530527\\_ATG\\_* & 10530527 & -8429473 & 0.3725213 & 490 & ... &  0.09097417 & 0.10080200 & 0.80635557 & -0.024443902 & 0.09968116 & ENSG00000272872 & 771 & 0.7311951 & 0.9985925 & DLPFC\\\\\n",
       "\t 22 & 10530527 & * & ATG & ENSG00000271672 & chr22:10530527\\_ATG\\_* & 10530527 & -8429473 & 0.3725213 & 490 & ... &  0.14094672 & 0.09146552 & 0.48336791 & -0.063427970 & 0.09044850 & ENSG00000271672 & 771 & 0.9339579 & 0.9969601 & DLPFC\\\\\n",
       "\t 22 & 10530527 & * & ATG & ENSG00000198445 & chr22:10530527\\_ATG\\_* & 10530527 & -8429473 & 0.3725213 & 490 & ... & -0.05715503 & 0.08754399 & 0.79669138 & -0.022311594 & 0.08657058 & ENSG00000198445 & 771 & 0.9964512 & 0.9995017 & DLPFC\\\\\n",
       "\\end{tabular}\n"
      ],
      "text/markdown": [
       "\n",
       "A data.table: 6 x 25\n",
       "\n",
       "| chrom &lt;int&gt; | pos &lt;int&gt; | a1 &lt;chr&gt; | a2 &lt;chr&gt; | molecular_trait_id &lt;chr&gt; | variant_id &lt;chr&gt; | start_distance &lt;int&gt; | end_distance &lt;int&gt; | af &lt;dbl&gt; | ma_samples &lt;int&gt; | ... ... | beta_APOE &lt;dbl&gt; | se_APOE &lt;dbl&gt; | pvalue_APOE_interaction &lt;dbl&gt; | beta_APOE_interaction &lt;dbl&gt; | se_APOE_interaction &lt;dbl&gt; | molecular_trait_object_id &lt;chr&gt; | n &lt;int&gt; | qvalue_main &lt;dbl&gt; | qvalue_interaction &lt;dbl&gt; | region &lt;chr&gt; |\n",
       "|---|---|---|---|---|---|---|---|---|---|---|---|---|---|---|---|---|---|---|---|---|\n",
       "| 22 | 10530527 | * | ATG | ENSG00000286406 | chr22:10530527_ATG_* | 10530527 | -8429473 | 0.3725213 | 490 | ... | -0.09472352 | 0.10514817 | 0.42812366 |  0.082440450 | 0.10397902 | ENSG00000286406 | 771 | 0.9998951 | 0.9997985 | DLPFC |\n",
       "| 22 | 10530527 | * | ATG | ENSG00000206195 | chr22:10530527_ATG_* | 10530527 | -8429473 | 0.3725213 | 490 | ... |  0.24980350 | 0.10339568 | 0.02751837 | -0.225820100 | 0.10224601 | ENSG00000206195 | 771 | 0.4851154 | 0.9989909 | DLPFC |\n",
       "| 22 | 10530527 | * | ATG | ENSG00000271127 | chr22:10530527_ATG_* | 10530527 | -8429473 | 0.3725213 | 490 | ... |  0.06534776 | 0.07853492 | 0.94285745 |  0.005568655 | 0.07766169 | ENSG00000271127 | 771 | 0.9410113 | 0.7804981 | DLPFC |\n",
       "| 22 | 10530527 | * | ATG | ENSG00000272872 | chr22:10530527_ATG_* | 10530527 | -8429473 | 0.3725213 | 490 | ... |  0.09097417 | 0.10080200 | 0.80635557 | -0.024443902 | 0.09968116 | ENSG00000272872 | 771 | 0.7311951 | 0.9985925 | DLPFC |\n",
       "| 22 | 10530527 | * | ATG | ENSG00000271672 | chr22:10530527_ATG_* | 10530527 | -8429473 | 0.3725213 | 490 | ... |  0.14094672 | 0.09146552 | 0.48336791 | -0.063427970 | 0.09044850 | ENSG00000271672 | 771 | 0.9339579 | 0.9969601 | DLPFC |\n",
       "| 22 | 10530527 | * | ATG | ENSG00000198445 | chr22:10530527_ATG_* | 10530527 | -8429473 | 0.3725213 | 490 | ... | -0.05715503 | 0.08754399 | 0.79669138 | -0.022311594 | 0.08657058 | ENSG00000198445 | 771 | 0.9964512 | 0.9995017 | DLPFC |\n",
       "\n"
      ],
      "text/plain": [
       "  chrom pos      a1 a2  molecular_trait_id variant_id           start_distance\n",
       "1 22    10530527 *  ATG ENSG00000286406    chr22:10530527_ATG_* 10530527      \n",
       "2 22    10530527 *  ATG ENSG00000206195    chr22:10530527_ATG_* 10530527      \n",
       "3 22    10530527 *  ATG ENSG00000271127    chr22:10530527_ATG_* 10530527      \n",
       "4 22    10530527 *  ATG ENSG00000272872    chr22:10530527_ATG_* 10530527      \n",
       "5 22    10530527 *  ATG ENSG00000271672    chr22:10530527_ATG_* 10530527      \n",
       "6 22    10530527 *  ATG ENSG00000198445    chr22:10530527_ATG_* 10530527      \n",
       "  end_distance af        ma_samples ... beta_APOE   se_APOE   \n",
       "1 -8429473     0.3725213 490        ... -0.09472352 0.10514817\n",
       "2 -8429473     0.3725213 490        ...  0.24980350 0.10339568\n",
       "3 -8429473     0.3725213 490        ...  0.06534776 0.07853492\n",
       "4 -8429473     0.3725213 490        ...  0.09097417 0.10080200\n",
       "5 -8429473     0.3725213 490        ...  0.14094672 0.09146552\n",
       "6 -8429473     0.3725213 490        ... -0.05715503 0.08754399\n",
       "  pvalue_APOE_interaction beta_APOE_interaction se_APOE_interaction\n",
       "1 0.42812366               0.082440450          0.10397902         \n",
       "2 0.02751837              -0.225820100          0.10224601         \n",
       "3 0.94285745               0.005568655          0.07766169         \n",
       "4 0.80635557              -0.024443902          0.09968116         \n",
       "5 0.48336791              -0.063427970          0.09044850         \n",
       "6 0.79669138              -0.022311594          0.08657058         \n",
       "  molecular_trait_object_id n   qvalue_main qvalue_interaction region\n",
       "1 ENSG00000286406           771 0.9998951   0.9997985          DLPFC \n",
       "2 ENSG00000206195           771 0.4851154   0.9989909          DLPFC \n",
       "3 ENSG00000271127           771 0.9410113   0.7804981          DLPFC \n",
       "4 ENSG00000272872           771 0.7311951   0.9985925          DLPFC \n",
       "5 ENSG00000271672           771 0.9339579   0.9969601          DLPFC \n",
       "6 ENSG00000198445           771 0.9964512   0.9995017          DLPFC "
      ]
     },
     "metadata": {},
     "output_type": "display_data"
    },
    {
     "data": {
      "text/html": [
       "<style>\n",
       ".list-inline {list-style: none; margin:0; padding: 0}\n",
       ".list-inline>li {display: inline-block}\n",
       ".list-inline>li:not(:last-child)::after {content: \"\\00b7\"; padding: 0 .5ex}\n",
       "</style>\n",
       "<ol class=list-inline><li>27740674</li><li>25</li></ol>\n"
      ],
      "text/latex": [
       "\\begin{enumerate*}\n",
       "\\item 27740674\n",
       "\\item 25\n",
       "\\end{enumerate*}\n"
      ],
      "text/markdown": [
       "1. 27740674\n",
       "2. 25\n",
       "\n",
       "\n"
      ],
      "text/plain": [
       "[1] 27740674       25"
      ]
     },
     "metadata": {},
     "output_type": "display_data"
    }
   ],
   "source": [
    "head(int_res)\n",
    "dim(int_res)"
   ]
  },
  {
   "cell_type": "code",
   "execution_count": 26,
   "id": "871494d9-9eea-4e5b-acb0-ba5b11599d9a",
   "metadata": {
    "vscode": {
     "languageId": "r"
    }
   },
   "outputs": [],
   "source": [
    "CBY1_var = readLines(\"CBY1_variants.txt\")"
   ]
  },
  {
   "cell_type": "code",
   "execution_count": 27,
   "id": "ce5e41b7-f197-497a-984d-8d522cc82890",
   "metadata": {
    "scrolled": true,
    "vscode": {
     "languageId": "r"
    }
   },
   "outputs": [],
   "source": [
    "CBY1_var <- gsub(\"([^:]+:[^:]+):([^:]+):\", \"\\\\1_\\\\2_\", CBY1_var)"
   ]
  },
  {
   "cell_type": "code",
   "execution_count": 12,
   "id": "55ac7c12-3d25-451a-87ee-27740d490ce3",
   "metadata": {
    "vscode": {
     "languageId": "r"
    }
   },
   "outputs": [
    {
     "data": {
      "text/html": [
       "<style>\n",
       ".list-inline {list-style: none; margin:0; padding: 0}\n",
       ".list-inline>li {display: inline-block}\n",
       ".list-inline>li:not(:last-child)::after {content: \"\\00b7\"; padding: 0 .5ex}\n",
       "</style>\n",
       "<ol class=list-inline><li>'chr22:38597462_A_G'</li><li>' chr22:38622329_T_C'</li><li>' chr22:38586316_T_C'</li><li>' chr22:38676093_C_G'</li><li>' chr22:38677891_A_G'</li><li>' chr22:38686169_A_G'</li><li>' chr22:38705614_G_C'</li><li>' chr22:38705628_T_C'</li><li>' chr22:38703597_T_C'</li><li>' chr22:38684073_T_C'</li><li>' chr22:38617825_T_C'</li><li>' chr22:38698614_A_C'</li><li>' chr22:38699693_C_G'</li><li>' chr22:38609057_A_T'</li><li>' chr22:38599380_G_T'</li><li>' chr22:38602514_C_A'</li><li>' chr22:38578149_C_A'</li><li>' chr22:38590243_G_A'</li><li>' chr22:38708315_C_T'</li><li>' chr22:38709943_T_C'</li><li>' chr22:38593641_T_C'</li><li>' chr22:38640275_T_C'</li><li>' chr22:38649094_T_C'</li><li>' chr22:38640764_T_C'</li><li>' chr22:38657752_G_C'</li><li>' chr22:38593808_A_G'</li><li>' chr22:38652311_A_G'</li><li>' chr22:38619297_T_C'</li><li>' chr22:38589060_T_C'</li><li>' chr22:38733994_A_G'</li><li>' chr22:38734959_C_T'</li><li>' chr22:38720790_A_C'</li><li>' chr22:38754445_G_A'</li><li>' chr22:38738710_T_C'</li><li>' chr22:38752478_G_A'</li><li>' chr22:38751710_C_T'</li><li>' chr22:38737798_C_T'</li><li>' chr22:38750522_C_T'</li><li>' chr22:38743338_A_G'</li><li>' chr22:38745595_G_A'</li><li>' chr22:38741829_C_G'</li><li>' chr22:38717129_G_A'</li><li>' chr22:38717898_C_T'</li><li>' chr22:38754538_G_T'</li><li>' chr22:38592110_A_G'</li><li>' chr22:38677070_C_G'</li><li>' chr22:38677056_C_T'</li><li>' chr22:38704123_G_A'</li><li>' chr22:38674730_A_G'</li><li>' chr22:38641547_A_G'</li><li>' chr22:38610929_A_G'</li><li>' chr22:38678732_A_G'</li><li>' chr22:38684240_A_G'</li><li>' chr22:38668961_C_T'</li><li>' chr22:38617420_C_G'</li><li>' chr22:38658492_A_G'</li><li>' chr22:38679587_C_T'</li><li>' chr22:38663914_T_C'</li><li>' chr22:38668373_T_A'</li><li>' chr22:38671519_A_G'</li><li>' chr22:38597971_A_C'</li><li>' chr22:38668204_G_A'</li><li>' chr22:38668401_A_G'</li><li>' chr22:38594733_C_T'</li><li>' chr22:38670815_C_T'</li><li>' chr22:38671326_G_A'</li><li>' chr22:38541789_G_A'</li><li>' chr22:38668676_C_T'</li><li>' chr22:38668662_T_C'</li><li>' chr22:38734966_A_G'</li><li>' chr22:38657044_T_C'</li><li>' chr22:38629272_T_C'</li><li>' chr22:38595388_G_T'</li><li>' chr22:38735722_T_G'</li><li>' chr22:38624261_C_A'</li><li>' chr22:38625517_G_A'</li><li>' chr22:38617517_G_A'</li><li>' chr22:38669734_A_G'</li><li>' chr22:38670205_A_G'</li><li>' chr22:38642791_T_C'</li><li>' chr22:38625712_G_A'</li><li>' chr22:38594657_G_A'</li><li>' chr22:38593002_C_G'</li><li>' chr22:38574434_G_A'</li><li>' chr22:38702782_T_C'</li><li>' chr22:38598572_C_T'</li><li>' chr22:38677819_T_C'</li><li>' chr22:38611169_A_C'</li><li>' chr22:38578675_C_T'</li><li>' chr22:38679429_C_G'</li><li>' chr22:38620177_T_C'</li><li>' chr22:38683959_T_C'</li><li>' chr22:38604392_G_A'</li><li>' chr22:38676467_G_A'</li><li>' chr22:38672784_T_C'</li><li>' chr22:38658256_T_G'</li><li>' chr22:38673040_A_G'</li><li>' chr22:38674084_A_G'</li><li>' chr22:38679140_C_T'</li><li>' chr22:38673505_T_C'</li><li>' chr22:38665025_G_A'</li><li>' chr22:38556568_C_T'</li><li>' chr22:38677830_G_C'</li><li>' chr22:38652750_T_G'</li><li>' chr22:38668225_A_G'</li><li>' chr22:38645036_A_G'</li><li>' chr22:38730503_A_G'</li><li>' chr22:38529714_A_C'</li><li>' chr22:38675653_A_G'</li><li>' chr22:38678447_T_C'</li><li>' chr22:38648422_A_C'</li><li>' chr22:38659298_C_T'</li><li>' chr22:38679230_G_C'</li><li>' chr22:38676449_C_T'</li><li>' chr22:38597365_C_T'</li><li>' chr22:38678711_G_A'</li><li>' chr22:38743908_C_T'</li><li>' chr22:38679055_T_C'</li><li>' chr22:38674545_T_C'</li><li>' chr22:38586437_T_A'</li><li>' chr22:38673176_T_C'</li><li>' chr22:38558698_C_G'</li><li>' chr22:38669996_T_C'</li><li>' chr22:38653225_A_C'</li><li>' chr22:38661758_C_T'</li><li>' chr22:38653312_A_G'</li><li>' chr22:38655700_C_T'</li><li>' chr22:38643850_G_C'</li><li>' chr22:38650322_T_C'</li><li>' chr22:38658766_A_G'</li><li>' chr22:38539922_C_G'</li><li>' chr22:38648147_G_C'</li><li>' chr22:38659199_G_A'</li><li>' chr22:38660351_C_T'</li><li>' chr22:38657883_C_T'</li><li>' chr22:38709702_G_A'</li><li>' chr22:38711333_A_G'</li><li>' chr22:38644885_T_C'</li><li>' chr22:38659044_G_T'</li><li>' chr22:38647016_G_A'</li></ol>\n"
      ],
      "text/latex": [
       "\\begin{enumerate*}\n",
       "\\item 'chr22:38597462\\_A\\_G'\n",
       "\\item ' chr22:38622329\\_T\\_C'\n",
       "\\item ' chr22:38586316\\_T\\_C'\n",
       "\\item ' chr22:38676093\\_C\\_G'\n",
       "\\item ' chr22:38677891\\_A\\_G'\n",
       "\\item ' chr22:38686169\\_A\\_G'\n",
       "\\item ' chr22:38705614\\_G\\_C'\n",
       "\\item ' chr22:38705628\\_T\\_C'\n",
       "\\item ' chr22:38703597\\_T\\_C'\n",
       "\\item ' chr22:38684073\\_T\\_C'\n",
       "\\item ' chr22:38617825\\_T\\_C'\n",
       "\\item ' chr22:38698614\\_A\\_C'\n",
       "\\item ' chr22:38699693\\_C\\_G'\n",
       "\\item ' chr22:38609057\\_A\\_T'\n",
       "\\item ' chr22:38599380\\_G\\_T'\n",
       "\\item ' chr22:38602514\\_C\\_A'\n",
       "\\item ' chr22:38578149\\_C\\_A'\n",
       "\\item ' chr22:38590243\\_G\\_A'\n",
       "\\item ' chr22:38708315\\_C\\_T'\n",
       "\\item ' chr22:38709943\\_T\\_C'\n",
       "\\item ' chr22:38593641\\_T\\_C'\n",
       "\\item ' chr22:38640275\\_T\\_C'\n",
       "\\item ' chr22:38649094\\_T\\_C'\n",
       "\\item ' chr22:38640764\\_T\\_C'\n",
       "\\item ' chr22:38657752\\_G\\_C'\n",
       "\\item ' chr22:38593808\\_A\\_G'\n",
       "\\item ' chr22:38652311\\_A\\_G'\n",
       "\\item ' chr22:38619297\\_T\\_C'\n",
       "\\item ' chr22:38589060\\_T\\_C'\n",
       "\\item ' chr22:38733994\\_A\\_G'\n",
       "\\item ' chr22:38734959\\_C\\_T'\n",
       "\\item ' chr22:38720790\\_A\\_C'\n",
       "\\item ' chr22:38754445\\_G\\_A'\n",
       "\\item ' chr22:38738710\\_T\\_C'\n",
       "\\item ' chr22:38752478\\_G\\_A'\n",
       "\\item ' chr22:38751710\\_C\\_T'\n",
       "\\item ' chr22:38737798\\_C\\_T'\n",
       "\\item ' chr22:38750522\\_C\\_T'\n",
       "\\item ' chr22:38743338\\_A\\_G'\n",
       "\\item ' chr22:38745595\\_G\\_A'\n",
       "\\item ' chr22:38741829\\_C\\_G'\n",
       "\\item ' chr22:38717129\\_G\\_A'\n",
       "\\item ' chr22:38717898\\_C\\_T'\n",
       "\\item ' chr22:38754538\\_G\\_T'\n",
       "\\item ' chr22:38592110\\_A\\_G'\n",
       "\\item ' chr22:38677070\\_C\\_G'\n",
       "\\item ' chr22:38677056\\_C\\_T'\n",
       "\\item ' chr22:38704123\\_G\\_A'\n",
       "\\item ' chr22:38674730\\_A\\_G'\n",
       "\\item ' chr22:38641547\\_A\\_G'\n",
       "\\item ' chr22:38610929\\_A\\_G'\n",
       "\\item ' chr22:38678732\\_A\\_G'\n",
       "\\item ' chr22:38684240\\_A\\_G'\n",
       "\\item ' chr22:38668961\\_C\\_T'\n",
       "\\item ' chr22:38617420\\_C\\_G'\n",
       "\\item ' chr22:38658492\\_A\\_G'\n",
       "\\item ' chr22:38679587\\_C\\_T'\n",
       "\\item ' chr22:38663914\\_T\\_C'\n",
       "\\item ' chr22:38668373\\_T\\_A'\n",
       "\\item ' chr22:38671519\\_A\\_G'\n",
       "\\item ' chr22:38597971\\_A\\_C'\n",
       "\\item ' chr22:38668204\\_G\\_A'\n",
       "\\item ' chr22:38668401\\_A\\_G'\n",
       "\\item ' chr22:38594733\\_C\\_T'\n",
       "\\item ' chr22:38670815\\_C\\_T'\n",
       "\\item ' chr22:38671326\\_G\\_A'\n",
       "\\item ' chr22:38541789\\_G\\_A'\n",
       "\\item ' chr22:38668676\\_C\\_T'\n",
       "\\item ' chr22:38668662\\_T\\_C'\n",
       "\\item ' chr22:38734966\\_A\\_G'\n",
       "\\item ' chr22:38657044\\_T\\_C'\n",
       "\\item ' chr22:38629272\\_T\\_C'\n",
       "\\item ' chr22:38595388\\_G\\_T'\n",
       "\\item ' chr22:38735722\\_T\\_G'\n",
       "\\item ' chr22:38624261\\_C\\_A'\n",
       "\\item ' chr22:38625517\\_G\\_A'\n",
       "\\item ' chr22:38617517\\_G\\_A'\n",
       "\\item ' chr22:38669734\\_A\\_G'\n",
       "\\item ' chr22:38670205\\_A\\_G'\n",
       "\\item ' chr22:38642791\\_T\\_C'\n",
       "\\item ' chr22:38625712\\_G\\_A'\n",
       "\\item ' chr22:38594657\\_G\\_A'\n",
       "\\item ' chr22:38593002\\_C\\_G'\n",
       "\\item ' chr22:38574434\\_G\\_A'\n",
       "\\item ' chr22:38702782\\_T\\_C'\n",
       "\\item ' chr22:38598572\\_C\\_T'\n",
       "\\item ' chr22:38677819\\_T\\_C'\n",
       "\\item ' chr22:38611169\\_A\\_C'\n",
       "\\item ' chr22:38578675\\_C\\_T'\n",
       "\\item ' chr22:38679429\\_C\\_G'\n",
       "\\item ' chr22:38620177\\_T\\_C'\n",
       "\\item ' chr22:38683959\\_T\\_C'\n",
       "\\item ' chr22:38604392\\_G\\_A'\n",
       "\\item ' chr22:38676467\\_G\\_A'\n",
       "\\item ' chr22:38672784\\_T\\_C'\n",
       "\\item ' chr22:38658256\\_T\\_G'\n",
       "\\item ' chr22:38673040\\_A\\_G'\n",
       "\\item ' chr22:38674084\\_A\\_G'\n",
       "\\item ' chr22:38679140\\_C\\_T'\n",
       "\\item ' chr22:38673505\\_T\\_C'\n",
       "\\item ' chr22:38665025\\_G\\_A'\n",
       "\\item ' chr22:38556568\\_C\\_T'\n",
       "\\item ' chr22:38677830\\_G\\_C'\n",
       "\\item ' chr22:38652750\\_T\\_G'\n",
       "\\item ' chr22:38668225\\_A\\_G'\n",
       "\\item ' chr22:38645036\\_A\\_G'\n",
       "\\item ' chr22:38730503\\_A\\_G'\n",
       "\\item ' chr22:38529714\\_A\\_C'\n",
       "\\item ' chr22:38675653\\_A\\_G'\n",
       "\\item ' chr22:38678447\\_T\\_C'\n",
       "\\item ' chr22:38648422\\_A\\_C'\n",
       "\\item ' chr22:38659298\\_C\\_T'\n",
       "\\item ' chr22:38679230\\_G\\_C'\n",
       "\\item ' chr22:38676449\\_C\\_T'\n",
       "\\item ' chr22:38597365\\_C\\_T'\n",
       "\\item ' chr22:38678711\\_G\\_A'\n",
       "\\item ' chr22:38743908\\_C\\_T'\n",
       "\\item ' chr22:38679055\\_T\\_C'\n",
       "\\item ' chr22:38674545\\_T\\_C'\n",
       "\\item ' chr22:38586437\\_T\\_A'\n",
       "\\item ' chr22:38673176\\_T\\_C'\n",
       "\\item ' chr22:38558698\\_C\\_G'\n",
       "\\item ' chr22:38669996\\_T\\_C'\n",
       "\\item ' chr22:38653225\\_A\\_C'\n",
       "\\item ' chr22:38661758\\_C\\_T'\n",
       "\\item ' chr22:38653312\\_A\\_G'\n",
       "\\item ' chr22:38655700\\_C\\_T'\n",
       "\\item ' chr22:38643850\\_G\\_C'\n",
       "\\item ' chr22:38650322\\_T\\_C'\n",
       "\\item ' chr22:38658766\\_A\\_G'\n",
       "\\item ' chr22:38539922\\_C\\_G'\n",
       "\\item ' chr22:38648147\\_G\\_C'\n",
       "\\item ' chr22:38659199\\_G\\_A'\n",
       "\\item ' chr22:38660351\\_C\\_T'\n",
       "\\item ' chr22:38657883\\_C\\_T'\n",
       "\\item ' chr22:38709702\\_G\\_A'\n",
       "\\item ' chr22:38711333\\_A\\_G'\n",
       "\\item ' chr22:38644885\\_T\\_C'\n",
       "\\item ' chr22:38659044\\_G\\_T'\n",
       "\\item ' chr22:38647016\\_G\\_A'\n",
       "\\end{enumerate*}\n"
      ],
      "text/markdown": [
       "1. 'chr22:38597462_A_G'\n",
       "2. ' chr22:38622329_T_C'\n",
       "3. ' chr22:38586316_T_C'\n",
       "4. ' chr22:38676093_C_G'\n",
       "5. ' chr22:38677891_A_G'\n",
       "6. ' chr22:38686169_A_G'\n",
       "7. ' chr22:38705614_G_C'\n",
       "8. ' chr22:38705628_T_C'\n",
       "9. ' chr22:38703597_T_C'\n",
       "10. ' chr22:38684073_T_C'\n",
       "11. ' chr22:38617825_T_C'\n",
       "12. ' chr22:38698614_A_C'\n",
       "13. ' chr22:38699693_C_G'\n",
       "14. ' chr22:38609057_A_T'\n",
       "15. ' chr22:38599380_G_T'\n",
       "16. ' chr22:38602514_C_A'\n",
       "17. ' chr22:38578149_C_A'\n",
       "18. ' chr22:38590243_G_A'\n",
       "19. ' chr22:38708315_C_T'\n",
       "20. ' chr22:38709943_T_C'\n",
       "21. ' chr22:38593641_T_C'\n",
       "22. ' chr22:38640275_T_C'\n",
       "23. ' chr22:38649094_T_C'\n",
       "24. ' chr22:38640764_T_C'\n",
       "25. ' chr22:38657752_G_C'\n",
       "26. ' chr22:38593808_A_G'\n",
       "27. ' chr22:38652311_A_G'\n",
       "28. ' chr22:38619297_T_C'\n",
       "29. ' chr22:38589060_T_C'\n",
       "30. ' chr22:38733994_A_G'\n",
       "31. ' chr22:38734959_C_T'\n",
       "32. ' chr22:38720790_A_C'\n",
       "33. ' chr22:38754445_G_A'\n",
       "34. ' chr22:38738710_T_C'\n",
       "35. ' chr22:38752478_G_A'\n",
       "36. ' chr22:38751710_C_T'\n",
       "37. ' chr22:38737798_C_T'\n",
       "38. ' chr22:38750522_C_T'\n",
       "39. ' chr22:38743338_A_G'\n",
       "40. ' chr22:38745595_G_A'\n",
       "41. ' chr22:38741829_C_G'\n",
       "42. ' chr22:38717129_G_A'\n",
       "43. ' chr22:38717898_C_T'\n",
       "44. ' chr22:38754538_G_T'\n",
       "45. ' chr22:38592110_A_G'\n",
       "46. ' chr22:38677070_C_G'\n",
       "47. ' chr22:38677056_C_T'\n",
       "48. ' chr22:38704123_G_A'\n",
       "49. ' chr22:38674730_A_G'\n",
       "50. ' chr22:38641547_A_G'\n",
       "51. ' chr22:38610929_A_G'\n",
       "52. ' chr22:38678732_A_G'\n",
       "53. ' chr22:38684240_A_G'\n",
       "54. ' chr22:38668961_C_T'\n",
       "55. ' chr22:38617420_C_G'\n",
       "56. ' chr22:38658492_A_G'\n",
       "57. ' chr22:38679587_C_T'\n",
       "58. ' chr22:38663914_T_C'\n",
       "59. ' chr22:38668373_T_A'\n",
       "60. ' chr22:38671519_A_G'\n",
       "61. ' chr22:38597971_A_C'\n",
       "62. ' chr22:38668204_G_A'\n",
       "63. ' chr22:38668401_A_G'\n",
       "64. ' chr22:38594733_C_T'\n",
       "65. ' chr22:38670815_C_T'\n",
       "66. ' chr22:38671326_G_A'\n",
       "67. ' chr22:38541789_G_A'\n",
       "68. ' chr22:38668676_C_T'\n",
       "69. ' chr22:38668662_T_C'\n",
       "70. ' chr22:38734966_A_G'\n",
       "71. ' chr22:38657044_T_C'\n",
       "72. ' chr22:38629272_T_C'\n",
       "73. ' chr22:38595388_G_T'\n",
       "74. ' chr22:38735722_T_G'\n",
       "75. ' chr22:38624261_C_A'\n",
       "76. ' chr22:38625517_G_A'\n",
       "77. ' chr22:38617517_G_A'\n",
       "78. ' chr22:38669734_A_G'\n",
       "79. ' chr22:38670205_A_G'\n",
       "80. ' chr22:38642791_T_C'\n",
       "81. ' chr22:38625712_G_A'\n",
       "82. ' chr22:38594657_G_A'\n",
       "83. ' chr22:38593002_C_G'\n",
       "84. ' chr22:38574434_G_A'\n",
       "85. ' chr22:38702782_T_C'\n",
       "86. ' chr22:38598572_C_T'\n",
       "87. ' chr22:38677819_T_C'\n",
       "88. ' chr22:38611169_A_C'\n",
       "89. ' chr22:38578675_C_T'\n",
       "90. ' chr22:38679429_C_G'\n",
       "91. ' chr22:38620177_T_C'\n",
       "92. ' chr22:38683959_T_C'\n",
       "93. ' chr22:38604392_G_A'\n",
       "94. ' chr22:38676467_G_A'\n",
       "95. ' chr22:38672784_T_C'\n",
       "96. ' chr22:38658256_T_G'\n",
       "97. ' chr22:38673040_A_G'\n",
       "98. ' chr22:38674084_A_G'\n",
       "99. ' chr22:38679140_C_T'\n",
       "100. ' chr22:38673505_T_C'\n",
       "101. ' chr22:38665025_G_A'\n",
       "102. ' chr22:38556568_C_T'\n",
       "103. ' chr22:38677830_G_C'\n",
       "104. ' chr22:38652750_T_G'\n",
       "105. ' chr22:38668225_A_G'\n",
       "106. ' chr22:38645036_A_G'\n",
       "107. ' chr22:38730503_A_G'\n",
       "108. ' chr22:38529714_A_C'\n",
       "109. ' chr22:38675653_A_G'\n",
       "110. ' chr22:38678447_T_C'\n",
       "111. ' chr22:38648422_A_C'\n",
       "112. ' chr22:38659298_C_T'\n",
       "113. ' chr22:38679230_G_C'\n",
       "114. ' chr22:38676449_C_T'\n",
       "115. ' chr22:38597365_C_T'\n",
       "116. ' chr22:38678711_G_A'\n",
       "117. ' chr22:38743908_C_T'\n",
       "118. ' chr22:38679055_T_C'\n",
       "119. ' chr22:38674545_T_C'\n",
       "120. ' chr22:38586437_T_A'\n",
       "121. ' chr22:38673176_T_C'\n",
       "122. ' chr22:38558698_C_G'\n",
       "123. ' chr22:38669996_T_C'\n",
       "124. ' chr22:38653225_A_C'\n",
       "125. ' chr22:38661758_C_T'\n",
       "126. ' chr22:38653312_A_G'\n",
       "127. ' chr22:38655700_C_T'\n",
       "128. ' chr22:38643850_G_C'\n",
       "129. ' chr22:38650322_T_C'\n",
       "130. ' chr22:38658766_A_G'\n",
       "131. ' chr22:38539922_C_G'\n",
       "132. ' chr22:38648147_G_C'\n",
       "133. ' chr22:38659199_G_A'\n",
       "134. ' chr22:38660351_C_T'\n",
       "135. ' chr22:38657883_C_T'\n",
       "136. ' chr22:38709702_G_A'\n",
       "137. ' chr22:38711333_A_G'\n",
       "138. ' chr22:38644885_T_C'\n",
       "139. ' chr22:38659044_G_T'\n",
       "140. ' chr22:38647016_G_A'\n",
       "\n",
       "\n"
      ],
      "text/plain": [
       "  [1] \"chr22:38597462_A_G\"  \" chr22:38622329_T_C\" \" chr22:38586316_T_C\"\n",
       "  [4] \" chr22:38676093_C_G\" \" chr22:38677891_A_G\" \" chr22:38686169_A_G\"\n",
       "  [7] \" chr22:38705614_G_C\" \" chr22:38705628_T_C\" \" chr22:38703597_T_C\"\n",
       " [10] \" chr22:38684073_T_C\" \" chr22:38617825_T_C\" \" chr22:38698614_A_C\"\n",
       " [13] \" chr22:38699693_C_G\" \" chr22:38609057_A_T\" \" chr22:38599380_G_T\"\n",
       " [16] \" chr22:38602514_C_A\" \" chr22:38578149_C_A\" \" chr22:38590243_G_A\"\n",
       " [19] \" chr22:38708315_C_T\" \" chr22:38709943_T_C\" \" chr22:38593641_T_C\"\n",
       " [22] \" chr22:38640275_T_C\" \" chr22:38649094_T_C\" \" chr22:38640764_T_C\"\n",
       " [25] \" chr22:38657752_G_C\" \" chr22:38593808_A_G\" \" chr22:38652311_A_G\"\n",
       " [28] \" chr22:38619297_T_C\" \" chr22:38589060_T_C\" \" chr22:38733994_A_G\"\n",
       " [31] \" chr22:38734959_C_T\" \" chr22:38720790_A_C\" \" chr22:38754445_G_A\"\n",
       " [34] \" chr22:38738710_T_C\" \" chr22:38752478_G_A\" \" chr22:38751710_C_T\"\n",
       " [37] \" chr22:38737798_C_T\" \" chr22:38750522_C_T\" \" chr22:38743338_A_G\"\n",
       " [40] \" chr22:38745595_G_A\" \" chr22:38741829_C_G\" \" chr22:38717129_G_A\"\n",
       " [43] \" chr22:38717898_C_T\" \" chr22:38754538_G_T\" \" chr22:38592110_A_G\"\n",
       " [46] \" chr22:38677070_C_G\" \" chr22:38677056_C_T\" \" chr22:38704123_G_A\"\n",
       " [49] \" chr22:38674730_A_G\" \" chr22:38641547_A_G\" \" chr22:38610929_A_G\"\n",
       " [52] \" chr22:38678732_A_G\" \" chr22:38684240_A_G\" \" chr22:38668961_C_T\"\n",
       " [55] \" chr22:38617420_C_G\" \" chr22:38658492_A_G\" \" chr22:38679587_C_T\"\n",
       " [58] \" chr22:38663914_T_C\" \" chr22:38668373_T_A\" \" chr22:38671519_A_G\"\n",
       " [61] \" chr22:38597971_A_C\" \" chr22:38668204_G_A\" \" chr22:38668401_A_G\"\n",
       " [64] \" chr22:38594733_C_T\" \" chr22:38670815_C_T\" \" chr22:38671326_G_A\"\n",
       " [67] \" chr22:38541789_G_A\" \" chr22:38668676_C_T\" \" chr22:38668662_T_C\"\n",
       " [70] \" chr22:38734966_A_G\" \" chr22:38657044_T_C\" \" chr22:38629272_T_C\"\n",
       " [73] \" chr22:38595388_G_T\" \" chr22:38735722_T_G\" \" chr22:38624261_C_A\"\n",
       " [76] \" chr22:38625517_G_A\" \" chr22:38617517_G_A\" \" chr22:38669734_A_G\"\n",
       " [79] \" chr22:38670205_A_G\" \" chr22:38642791_T_C\" \" chr22:38625712_G_A\"\n",
       " [82] \" chr22:38594657_G_A\" \" chr22:38593002_C_G\" \" chr22:38574434_G_A\"\n",
       " [85] \" chr22:38702782_T_C\" \" chr22:38598572_C_T\" \" chr22:38677819_T_C\"\n",
       " [88] \" chr22:38611169_A_C\" \" chr22:38578675_C_T\" \" chr22:38679429_C_G\"\n",
       " [91] \" chr22:38620177_T_C\" \" chr22:38683959_T_C\" \" chr22:38604392_G_A\"\n",
       " [94] \" chr22:38676467_G_A\" \" chr22:38672784_T_C\" \" chr22:38658256_T_G\"\n",
       " [97] \" chr22:38673040_A_G\" \" chr22:38674084_A_G\" \" chr22:38679140_C_T\"\n",
       "[100] \" chr22:38673505_T_C\" \" chr22:38665025_G_A\" \" chr22:38556568_C_T\"\n",
       "[103] \" chr22:38677830_G_C\" \" chr22:38652750_T_G\" \" chr22:38668225_A_G\"\n",
       "[106] \" chr22:38645036_A_G\" \" chr22:38730503_A_G\" \" chr22:38529714_A_C\"\n",
       "[109] \" chr22:38675653_A_G\" \" chr22:38678447_T_C\" \" chr22:38648422_A_C\"\n",
       "[112] \" chr22:38659298_C_T\" \" chr22:38679230_G_C\" \" chr22:38676449_C_T\"\n",
       "[115] \" chr22:38597365_C_T\" \" chr22:38678711_G_A\" \" chr22:38743908_C_T\"\n",
       "[118] \" chr22:38679055_T_C\" \" chr22:38674545_T_C\" \" chr22:38586437_T_A\"\n",
       "[121] \" chr22:38673176_T_C\" \" chr22:38558698_C_G\" \" chr22:38669996_T_C\"\n",
       "[124] \" chr22:38653225_A_C\" \" chr22:38661758_C_T\" \" chr22:38653312_A_G\"\n",
       "[127] \" chr22:38655700_C_T\" \" chr22:38643850_G_C\" \" chr22:38650322_T_C\"\n",
       "[130] \" chr22:38658766_A_G\" \" chr22:38539922_C_G\" \" chr22:38648147_G_C\"\n",
       "[133] \" chr22:38659199_G_A\" \" chr22:38660351_C_T\" \" chr22:38657883_C_T\"\n",
       "[136] \" chr22:38709702_G_A\" \" chr22:38711333_A_G\" \" chr22:38644885_T_C\"\n",
       "[139] \" chr22:38659044_G_T\" \" chr22:38647016_G_A\""
      ]
     },
     "metadata": {},
     "output_type": "display_data"
    }
   ],
   "source": [
    "CBY1_var"
   ]
  },
  {
   "cell_type": "code",
   "execution_count": 16,
   "id": "2106b00b-89af-4c03-a324-e1bab831de0b",
   "metadata": {
    "vscode": {
     "languageId": "r"
    }
   },
   "outputs": [
    {
     "data": {
      "text/html": [
       "<table class=\"dataframe\">\n",
       "<caption>A data.table: 1 x 25</caption>\n",
       "<thead>\n",
       "\t<tr><th scope=col>chrom</th><th scope=col>pos</th><th scope=col>a1</th><th scope=col>a2</th><th scope=col>molecular_trait_id</th><th scope=col>variant_id</th><th scope=col>start_distance</th><th scope=col>end_distance</th><th scope=col>af</th><th scope=col>ma_samples</th><th scope=col>...</th><th scope=col>beta_APOE</th><th scope=col>se_APOE</th><th scope=col>pvalue_APOE_interaction</th><th scope=col>beta_APOE_interaction</th><th scope=col>se_APOE_interaction</th><th scope=col>molecular_trait_object_id</th><th scope=col>n</th><th scope=col>qvalue_main</th><th scope=col>qvalue_interaction</th><th scope=col>region</th></tr>\n",
       "\t<tr><th scope=col>&lt;int&gt;</th><th scope=col>&lt;int&gt;</th><th scope=col>&lt;chr&gt;</th><th scope=col>&lt;chr&gt;</th><th scope=col>&lt;chr&gt;</th><th scope=col>&lt;chr&gt;</th><th scope=col>&lt;int&gt;</th><th scope=col>&lt;int&gt;</th><th scope=col>&lt;dbl&gt;</th><th scope=col>&lt;int&gt;</th><th scope=col>...</th><th scope=col>&lt;dbl&gt;</th><th scope=col>&lt;dbl&gt;</th><th scope=col>&lt;dbl&gt;</th><th scope=col>&lt;dbl&gt;</th><th scope=col>&lt;dbl&gt;</th><th scope=col>&lt;chr&gt;</th><th scope=col>&lt;int&gt;</th><th scope=col>&lt;dbl&gt;</th><th scope=col>&lt;dbl&gt;</th><th scope=col>&lt;chr&gt;</th></tr>\n",
       "</thead>\n",
       "<tbody>\n",
       "\t<tr><td>22</td><td>38597462</td><td>G</td><td>A</td><td>ENSG00000183741</td><td>chr22:38597462_A_G</td><td>1077462</td><td>-3082538</td><td>0.3028534</td><td>405</td><td>...</td><td>0.02951332</td><td>0.02250028</td><td>0.0001735084</td><td>-0.09367546</td><td>0.0248172</td><td>ENSG00000183741</td><td>771</td><td>0.4975596</td><td>0.01982985</td><td>DLPFC</td></tr>\n",
       "</tbody>\n",
       "</table>\n"
      ],
      "text/latex": [
       "A data.table: 1 x 25\n",
       "\\begin{tabular}{lllllllllllllllllllll}\n",
       " chrom & pos & a1 & a2 & molecular\\_trait\\_id & variant\\_id & start\\_distance & end\\_distance & af & ma\\_samples & ... & beta\\_APOE & se\\_APOE & pvalue\\_APOE\\_interaction & beta\\_APOE\\_interaction & se\\_APOE\\_interaction & molecular\\_trait\\_object\\_id & n & qvalue\\_main & qvalue\\_interaction & region\\\\\n",
       " <int> & <int> & <chr> & <chr> & <chr> & <chr> & <int> & <int> & <dbl> & <int> & ... & <dbl> & <dbl> & <dbl> & <dbl> & <dbl> & <chr> & <int> & <dbl> & <dbl> & <chr>\\\\\n",
       "\\hline\n",
       "\t 22 & 38597462 & G & A & ENSG00000183741 & chr22:38597462\\_A\\_G & 1077462 & -3082538 & 0.3028534 & 405 & ... & 0.02951332 & 0.02250028 & 0.0001735084 & -0.09367546 & 0.0248172 & ENSG00000183741 & 771 & 0.4975596 & 0.01982985 & DLPFC\\\\\n",
       "\\end{tabular}\n"
      ],
      "text/markdown": [
       "\n",
       "A data.table: 1 x 25\n",
       "\n",
       "| chrom &lt;int&gt; | pos &lt;int&gt; | a1 &lt;chr&gt; | a2 &lt;chr&gt; | molecular_trait_id &lt;chr&gt; | variant_id &lt;chr&gt; | start_distance &lt;int&gt; | end_distance &lt;int&gt; | af &lt;dbl&gt; | ma_samples &lt;int&gt; | ... ... | beta_APOE &lt;dbl&gt; | se_APOE &lt;dbl&gt; | pvalue_APOE_interaction &lt;dbl&gt; | beta_APOE_interaction &lt;dbl&gt; | se_APOE_interaction &lt;dbl&gt; | molecular_trait_object_id &lt;chr&gt; | n &lt;int&gt; | qvalue_main &lt;dbl&gt; | qvalue_interaction &lt;dbl&gt; | region &lt;chr&gt; |\n",
       "|---|---|---|---|---|---|---|---|---|---|---|---|---|---|---|---|---|---|---|---|---|\n",
       "| 22 | 38597462 | G | A | ENSG00000183741 | chr22:38597462_A_G | 1077462 | -3082538 | 0.3028534 | 405 | ... | 0.02951332 | 0.02250028 | 0.0001735084 | -0.09367546 | 0.0248172 | ENSG00000183741 | 771 | 0.4975596 | 0.01982985 | DLPFC |\n",
       "\n"
      ],
      "text/plain": [
       "  chrom pos      a1 a2 molecular_trait_id variant_id         start_distance\n",
       "1 22    38597462 G  A  ENSG00000183741    chr22:38597462_A_G 1077462       \n",
       "  end_distance af        ma_samples ... beta_APOE  se_APOE   \n",
       "1 -3082538     0.3028534 405        ... 0.02951332 0.02250028\n",
       "  pvalue_APOE_interaction beta_APOE_interaction se_APOE_interaction\n",
       "1 0.0001735084            -0.09367546           0.0248172          \n",
       "  molecular_trait_object_id n   qvalue_main qvalue_interaction region\n",
       "1 ENSG00000183741           771 0.4975596   0.01982985         DLPFC "
      ]
     },
     "metadata": {},
     "output_type": "display_data"
    }
   ],
   "source": [
    "int_res |> filter(variant_id == \"chr22:38597462_A_G\", qvalue_interaction< 0.05)"
   ]
  },
  {
   "cell_type": "markdown",
   "id": "ece3e2e7-9fba-4dbf-964b-78c017b0088e",
   "metadata": {},
   "source": [
    "## Sex"
   ]
  },
  {
   "cell_type": "code",
   "execution_count": 2,
   "id": "337e19d4-93f7-477c-b55e-465913d36005",
   "metadata": {
    "vscode": {
     "languageId": "r"
    }
   },
   "outputs": [],
   "source": [
    "chrom = \"chr22\""
   ]
  },
  {
   "cell_type": "code",
   "execution_count": 19,
   "id": "92ff76da-4b0d-4c31-b063-acb9996aed59",
   "metadata": {
    "vscode": {
     "languageId": "r"
    }
   },
   "outputs": [],
   "source": [
    "dlpfc_int_res <- fread(paste0('~/data/analysis_result/cis_association/ROSMAP/eQTL/DLPFC/interaction/msex/dlpfc_batch_all.rnaseqc.low_expression_filtered.outlier_removed.tmm.expression.bed.',chrom,'.mol_phe_',chrom,'_msex.cis_qtl.pairs.tsv.gz')) %>% mutate(region  = \"DLPFC\")\n",
    "ac_int_res <- fread(paste0('~/data/analysis_result/cis_association/ROSMAP/eQTL/AC/interaction/msex/AC_samples_list.rnaseqc.gene_tpm.low_expression_filtered.outlier_removed.tmm.expression.bed.',chrom,'_',chrom,'_msex.cis_qtl.pairs.tsv.gz')) %>% mutate(region  = \"AC\")"
   ]
  },
  {
   "cell_type": "code",
   "execution_count": 20,
   "id": "5a984742-e901-40da-b599-eeb325c540a9",
   "metadata": {
    "vscode": {
     "languageId": "r"
    }
   },
   "outputs": [],
   "source": [
    "pcc_int_res <- fread(paste0('~/data/analysis_result/cis_association/ROSMAP/eQTL/PCC/interaction/msex/PCC_samples_list.rnaseqc.gene_tpm.low_expression_filtered.outlier_removed.tmm.expression.bed.',chrom,'_',chrom,'_msex.cis_qtl.pairs.tsv.gz')) %>% mutate(region  = \"PCC\")\n",
    "mega_ast_int_res <- fread(paste0('~/data/analysis_result/cis_association/ROSMAP/eQTL/snuc_mega/Ast/interaction/msex/snuc_pseudo_bulk.Ast.mega.normalized.log2cpm.bed.',chrom,'_',chrom,'_msex.cis_qtl.pairs.tsv.gz')) %>% mutate(region  = \"Mega_Ast\")"
   ]
  },
  {
   "cell_type": "code",
   "execution_count": 21,
   "id": "c4ffede9-721f-4189-add8-aefeaa67873d",
   "metadata": {
    "vscode": {
     "languageId": "r"
    }
   },
   "outputs": [],
   "source": [
    "mega_exc_int_res <- fread(paste0('~/data/analysis_result/cis_association/ROSMAP/eQTL/snuc_mega/Exc/interaction/msex/snuc_pseudo_bulk.Exc.mega.normalized.log2cpm.bed.',chrom,'_',chrom,'_msex.cis_qtl.pairs.tsv.gz')) %>% mutate(region  = \"Mega_Exc\")\n",
    "mega_opc_int_res <- fread(paste0('~/data/analysis_result/cis_association/ROSMAP/eQTL/snuc_mega/OPC/interaction/msex/snuc_pseudo_bulk.OPC.mega.normalized.log2cpm.bed.',chrom,'_',chrom,'_msex.cis_qtl.pairs.tsv.gz')) %>% mutate(region  = \"Mega_OPC\")"
   ]
  },
  {
   "cell_type": "code",
   "execution_count": 22,
   "id": "51e52001-c31a-4054-86b1-d0b1a179c34f",
   "metadata": {
    "vscode": {
     "languageId": "r"
    }
   },
   "outputs": [],
   "source": [
    "mega_inh_int_res <- fread(paste0('~/data/analysis_result/cis_association/ROSMAP/eQTL/snuc_mega/Inh/interaction/msex/snuc_pseudo_bulk.Inh.mega.normalized.log2cpm.bed.',chrom,'_',chrom,'_msex.cis_qtl.pairs.tsv.gz')) %>% mutate(region  = \"Mega_Inh\")\n",
    "mega_mic_int_res <- fread(paste0('~/data/analysis_result/cis_association/ROSMAP/eQTL/snuc_mega/Mic/interaction/msex/snuc_pseudo_bulk.Mic.mega.normalized.log2cpm.bed.',chrom,'_',chrom,'_msex.cis_qtl.pairs.tsv.gz')) %>% mutate(region  = \"Mega_Mic\")"
   ]
  },
  {
   "cell_type": "code",
   "execution_count": 23,
   "id": "7758a91a-88c4-4686-841d-863d78971cb1",
   "metadata": {
    "vscode": {
     "languageId": "r"
    }
   },
   "outputs": [],
   "source": [
    "mega_oli_int_res <- fread(paste0('~/data/analysis_result/cis_association/ROSMAP/eQTL/snuc_mega/Oli/interaction/msex/snuc_pseudo_bulk.Oli.mega.normalized.log2cpm.bed.',chrom,'_',chrom,'_msex.cis_qtl.pairs.tsv.gz')) %>% mutate(region  = \"Mega_Oli\")\n",
    "#mono_int_res <- fread(paste0('~/data/analysis_result/cis_association/ROSMAP/eQTL/monocyte/interaction/msex/monocyte_sample_fastq.final.rnaseqc.low_expression_filtered.outlier_removed.tmm.expression.bed.',chrom,'_',chrom,'_msex.cis_qtl.pairs.tsv.gz')) %>% mutate(region  = \"monocyte\")\n"
   ]
  },
  {
   "cell_type": "code",
   "execution_count": 24,
   "id": "ea8a38f8-7dfa-4367-bcb8-903b55f5d8f0",
   "metadata": {
    "vscode": {
     "languageId": "r"
    }
   },
   "outputs": [],
   "source": [
    "int_res <- rbind(dlpfc_int_res, ac_int_res, mega_ast_int_res, mega_exc_int_res, mega_opc_int_res, mega_inh_int_res, mega_mic_int_res, mega_oli_int_res)\n"
   ]
  },
  {
   "cell_type": "code",
   "execution_count": 25,
   "id": "3e3ae5af-6cc4-4bf0-a1ef-bc6b535e13d3",
   "metadata": {
    "vscode": {
     "languageId": "r"
    }
   },
   "outputs": [
    {
     "data": {
      "text/html": [
       "<table class=\"dataframe\">\n",
       "<caption>A data.table: 6 x 25</caption>\n",
       "<thead>\n",
       "\t<tr><th scope=col>chrom</th><th scope=col>pos</th><th scope=col>a1</th><th scope=col>a2</th><th scope=col>molecular_trait_id</th><th scope=col>variant_id</th><th scope=col>start_distance</th><th scope=col>end_distance</th><th scope=col>af</th><th scope=col>ma_samples</th><th scope=col>...</th><th scope=col>beta_msex</th><th scope=col>se_msex</th><th scope=col>pvalue_msex_interaction</th><th scope=col>beta_msex_interaction</th><th scope=col>se_msex_interaction</th><th scope=col>molecular_trait_object_id</th><th scope=col>n</th><th scope=col>qvalue_main</th><th scope=col>qvalue_interaction</th><th scope=col>region</th></tr>\n",
       "\t<tr><th scope=col>&lt;int&gt;</th><th scope=col>&lt;int&gt;</th><th scope=col>&lt;chr&gt;</th><th scope=col>&lt;chr&gt;</th><th scope=col>&lt;chr&gt;</th><th scope=col>&lt;chr&gt;</th><th scope=col>&lt;int&gt;</th><th scope=col>&lt;int&gt;</th><th scope=col>&lt;dbl&gt;</th><th scope=col>&lt;int&gt;</th><th scope=col>...</th><th scope=col>&lt;dbl&gt;</th><th scope=col>&lt;dbl&gt;</th><th scope=col>&lt;dbl&gt;</th><th scope=col>&lt;dbl&gt;</th><th scope=col>&lt;dbl&gt;</th><th scope=col>&lt;chr&gt;</th><th scope=col>&lt;int&gt;</th><th scope=col>&lt;dbl&gt;</th><th scope=col>&lt;dbl&gt;</th><th scope=col>&lt;chr&gt;</th></tr>\n",
       "</thead>\n",
       "<tbody>\n",
       "\t<tr><td>22</td><td>10530527</td><td>*</td><td>ATG</td><td>ENSG00000286406</td><td>chr22:10530527_ATG_*</td><td>10530527</td><td>-8429473</td><td>0.375</td><td>496</td><td>...</td><td> 0.019081760</td><td>0.09917415</td><td>0.6688220</td><td> 4.292083e-02</td><td>0.10029636</td><td>ENSG00000286406</td><td>777</td><td>0.9546892</td><td>0.9253879</td><td>DLPFC</td></tr>\n",
       "\t<tr><td>22</td><td>10530527</td><td>*</td><td>ATG</td><td>ENSG00000206195</td><td>chr22:10530527_ATG_*</td><td>10530527</td><td>-8429473</td><td>0.375</td><td>496</td><td>...</td><td>-0.134927650</td><td>0.09801088</td><td>0.3638132</td><td> 9.006983e-02</td><td>0.09911992</td><td>ENSG00000206195</td><td>777</td><td>0.9997167</td><td>0.9270113</td><td>DLPFC</td></tr>\n",
       "\t<tr><td>22</td><td>10530527</td><td>*</td><td>ATG</td><td>ENSG00000271127</td><td>chr22:10530527_ATG_*</td><td>10530527</td><td>-8429473</td><td>0.375</td><td>496</td><td>...</td><td> 0.006156683</td><td>0.07414566</td><td>0.2380059</td><td>-8.855397e-02</td><td>0.07498465</td><td>ENSG00000271127</td><td>777</td><td>0.7847798</td><td>0.9997063</td><td>DLPFC</td></tr>\n",
       "\t<tr><td>22</td><td>10530527</td><td>*</td><td>ATG</td><td>ENSG00000272872</td><td>chr22:10530527_ATG_*</td><td>10530527</td><td>-8429473</td><td>0.375</td><td>496</td><td>...</td><td>-0.024035811</td><td>0.09531151</td><td>0.8777488</td><td> 1.483231e-02</td><td>0.09639002</td><td>ENSG00000272872</td><td>777</td><td>0.9997944</td><td>0.8790652</td><td>DLPFC</td></tr>\n",
       "\t<tr><td>22</td><td>10530527</td><td>*</td><td>ATG</td><td>ENSG00000271672</td><td>chr22:10530527_ATG_*</td><td>10530527</td><td>-8429473</td><td>0.375</td><td>496</td><td>...</td><td>-0.083662020</td><td>0.08702633</td><td>0.4372552</td><td> 6.840810e-02</td><td>0.08801108</td><td>ENSG00000271672</td><td>777</td><td>0.9868239</td><td>0.9027440</td><td>DLPFC</td></tr>\n",
       "\t<tr><td>22</td><td>10530527</td><td>*</td><td>ATG</td><td>ENSG00000198445</td><td>chr22:10530527_ATG_*</td><td>10530527</td><td>-8429473</td><td>0.375</td><td>496</td><td>...</td><td>-0.030380372</td><td>0.08273553</td><td>0.9993572</td><td> 6.743148e-05</td><td>0.08367173</td><td>ENSG00000198445</td><td>777</td><td>0.9993884</td><td>0.9250845</td><td>DLPFC</td></tr>\n",
       "</tbody>\n",
       "</table>\n"
      ],
      "text/latex": [
       "A data.table: 6 x 25\n",
       "\\begin{tabular}{lllllllllllllllllllll}\n",
       " chrom & pos & a1 & a2 & molecular\\_trait\\_id & variant\\_id & start\\_distance & end\\_distance & af & ma\\_samples & ... & beta\\_msex & se\\_msex & pvalue\\_msex\\_interaction & beta\\_msex\\_interaction & se\\_msex\\_interaction & molecular\\_trait\\_object\\_id & n & qvalue\\_main & qvalue\\_interaction & region\\\\\n",
       " <int> & <int> & <chr> & <chr> & <chr> & <chr> & <int> & <int> & <dbl> & <int> & ... & <dbl> & <dbl> & <dbl> & <dbl> & <dbl> & <chr> & <int> & <dbl> & <dbl> & <chr>\\\\\n",
       "\\hline\n",
       "\t 22 & 10530527 & * & ATG & ENSG00000286406 & chr22:10530527\\_ATG\\_* & 10530527 & -8429473 & 0.375 & 496 & ... &  0.019081760 & 0.09917415 & 0.6688220 &  4.292083e-02 & 0.10029636 & ENSG00000286406 & 777 & 0.9546892 & 0.9253879 & DLPFC\\\\\n",
       "\t 22 & 10530527 & * & ATG & ENSG00000206195 & chr22:10530527\\_ATG\\_* & 10530527 & -8429473 & 0.375 & 496 & ... & -0.134927650 & 0.09801088 & 0.3638132 &  9.006983e-02 & 0.09911992 & ENSG00000206195 & 777 & 0.9997167 & 0.9270113 & DLPFC\\\\\n",
       "\t 22 & 10530527 & * & ATG & ENSG00000271127 & chr22:10530527\\_ATG\\_* & 10530527 & -8429473 & 0.375 & 496 & ... &  0.006156683 & 0.07414566 & 0.2380059 & -8.855397e-02 & 0.07498465 & ENSG00000271127 & 777 & 0.7847798 & 0.9997063 & DLPFC\\\\\n",
       "\t 22 & 10530527 & * & ATG & ENSG00000272872 & chr22:10530527\\_ATG\\_* & 10530527 & -8429473 & 0.375 & 496 & ... & -0.024035811 & 0.09531151 & 0.8777488 &  1.483231e-02 & 0.09639002 & ENSG00000272872 & 777 & 0.9997944 & 0.8790652 & DLPFC\\\\\n",
       "\t 22 & 10530527 & * & ATG & ENSG00000271672 & chr22:10530527\\_ATG\\_* & 10530527 & -8429473 & 0.375 & 496 & ... & -0.083662020 & 0.08702633 & 0.4372552 &  6.840810e-02 & 0.08801108 & ENSG00000271672 & 777 & 0.9868239 & 0.9027440 & DLPFC\\\\\n",
       "\t 22 & 10530527 & * & ATG & ENSG00000198445 & chr22:10530527\\_ATG\\_* & 10530527 & -8429473 & 0.375 & 496 & ... & -0.030380372 & 0.08273553 & 0.9993572 &  6.743148e-05 & 0.08367173 & ENSG00000198445 & 777 & 0.9993884 & 0.9250845 & DLPFC\\\\\n",
       "\\end{tabular}\n"
      ],
      "text/markdown": [
       "\n",
       "A data.table: 6 x 25\n",
       "\n",
       "| chrom &lt;int&gt; | pos &lt;int&gt; | a1 &lt;chr&gt; | a2 &lt;chr&gt; | molecular_trait_id &lt;chr&gt; | variant_id &lt;chr&gt; | start_distance &lt;int&gt; | end_distance &lt;int&gt; | af &lt;dbl&gt; | ma_samples &lt;int&gt; | ... ... | beta_msex &lt;dbl&gt; | se_msex &lt;dbl&gt; | pvalue_msex_interaction &lt;dbl&gt; | beta_msex_interaction &lt;dbl&gt; | se_msex_interaction &lt;dbl&gt; | molecular_trait_object_id &lt;chr&gt; | n &lt;int&gt; | qvalue_main &lt;dbl&gt; | qvalue_interaction &lt;dbl&gt; | region &lt;chr&gt; |\n",
       "|---|---|---|---|---|---|---|---|---|---|---|---|---|---|---|---|---|---|---|---|---|\n",
       "| 22 | 10530527 | * | ATG | ENSG00000286406 | chr22:10530527_ATG_* | 10530527 | -8429473 | 0.375 | 496 | ... |  0.019081760 | 0.09917415 | 0.6688220 |  4.292083e-02 | 0.10029636 | ENSG00000286406 | 777 | 0.9546892 | 0.9253879 | DLPFC |\n",
       "| 22 | 10530527 | * | ATG | ENSG00000206195 | chr22:10530527_ATG_* | 10530527 | -8429473 | 0.375 | 496 | ... | -0.134927650 | 0.09801088 | 0.3638132 |  9.006983e-02 | 0.09911992 | ENSG00000206195 | 777 | 0.9997167 | 0.9270113 | DLPFC |\n",
       "| 22 | 10530527 | * | ATG | ENSG00000271127 | chr22:10530527_ATG_* | 10530527 | -8429473 | 0.375 | 496 | ... |  0.006156683 | 0.07414566 | 0.2380059 | -8.855397e-02 | 0.07498465 | ENSG00000271127 | 777 | 0.7847798 | 0.9997063 | DLPFC |\n",
       "| 22 | 10530527 | * | ATG | ENSG00000272872 | chr22:10530527_ATG_* | 10530527 | -8429473 | 0.375 | 496 | ... | -0.024035811 | 0.09531151 | 0.8777488 |  1.483231e-02 | 0.09639002 | ENSG00000272872 | 777 | 0.9997944 | 0.8790652 | DLPFC |\n",
       "| 22 | 10530527 | * | ATG | ENSG00000271672 | chr22:10530527_ATG_* | 10530527 | -8429473 | 0.375 | 496 | ... | -0.083662020 | 0.08702633 | 0.4372552 |  6.840810e-02 | 0.08801108 | ENSG00000271672 | 777 | 0.9868239 | 0.9027440 | DLPFC |\n",
       "| 22 | 10530527 | * | ATG | ENSG00000198445 | chr22:10530527_ATG_* | 10530527 | -8429473 | 0.375 | 496 | ... | -0.030380372 | 0.08273553 | 0.9993572 |  6.743148e-05 | 0.08367173 | ENSG00000198445 | 777 | 0.9993884 | 0.9250845 | DLPFC |\n",
       "\n"
      ],
      "text/plain": [
       "  chrom pos      a1 a2  molecular_trait_id variant_id           start_distance\n",
       "1 22    10530527 *  ATG ENSG00000286406    chr22:10530527_ATG_* 10530527      \n",
       "2 22    10530527 *  ATG ENSG00000206195    chr22:10530527_ATG_* 10530527      \n",
       "3 22    10530527 *  ATG ENSG00000271127    chr22:10530527_ATG_* 10530527      \n",
       "4 22    10530527 *  ATG ENSG00000272872    chr22:10530527_ATG_* 10530527      \n",
       "5 22    10530527 *  ATG ENSG00000271672    chr22:10530527_ATG_* 10530527      \n",
       "6 22    10530527 *  ATG ENSG00000198445    chr22:10530527_ATG_* 10530527      \n",
       "  end_distance af    ma_samples ... beta_msex    se_msex   \n",
       "1 -8429473     0.375 496        ...  0.019081760 0.09917415\n",
       "2 -8429473     0.375 496        ... -0.134927650 0.09801088\n",
       "3 -8429473     0.375 496        ...  0.006156683 0.07414566\n",
       "4 -8429473     0.375 496        ... -0.024035811 0.09531151\n",
       "5 -8429473     0.375 496        ... -0.083662020 0.08702633\n",
       "6 -8429473     0.375 496        ... -0.030380372 0.08273553\n",
       "  pvalue_msex_interaction beta_msex_interaction se_msex_interaction\n",
       "1 0.6688220                4.292083e-02         0.10029636         \n",
       "2 0.3638132                9.006983e-02         0.09911992         \n",
       "3 0.2380059               -8.855397e-02         0.07498465         \n",
       "4 0.8777488                1.483231e-02         0.09639002         \n",
       "5 0.4372552                6.840810e-02         0.08801108         \n",
       "6 0.9993572                6.743148e-05         0.08367173         \n",
       "  molecular_trait_object_id n   qvalue_main qvalue_interaction region\n",
       "1 ENSG00000286406           777 0.9546892   0.9253879          DLPFC \n",
       "2 ENSG00000206195           777 0.9997167   0.9270113          DLPFC \n",
       "3 ENSG00000271127           777 0.7847798   0.9997063          DLPFC \n",
       "4 ENSG00000272872           777 0.9997944   0.8790652          DLPFC \n",
       "5 ENSG00000271672           777 0.9868239   0.9027440          DLPFC \n",
       "6 ENSG00000198445           777 0.9993884   0.9250845          DLPFC "
      ]
     },
     "metadata": {},
     "output_type": "display_data"
    },
    {
     "data": {
      "text/html": [
       "<style>\n",
       ".list-inline {list-style: none; margin:0; padding: 0}\n",
       ".list-inline>li {display: inline-block}\n",
       ".list-inline>li:not(:last-child)::after {content: \"\\00b7\"; padding: 0 .5ex}\n",
       "</style>\n",
       "<ol class=list-inline><li>27767214</li><li>25</li></ol>\n"
      ],
      "text/latex": [
       "\\begin{enumerate*}\n",
       "\\item 27767214\n",
       "\\item 25\n",
       "\\end{enumerate*}\n"
      ],
      "text/markdown": [
       "1. 27767214\n",
       "2. 25\n",
       "\n",
       "\n"
      ],
      "text/plain": [
       "[1] 27767214       25"
      ]
     },
     "metadata": {},
     "output_type": "display_data"
    }
   ],
   "source": [
    "head(int_res)\n",
    "dim(int_res)"
   ]
  },
  {
   "cell_type": "code",
   "execution_count": 30,
   "id": "1380276a-6b7a-49bf-a838-e9d8df33d485",
   "metadata": {},
   "outputs": [
    {
     "name": "stderr",
     "output_type": "stream",
     "text": [
      "Warning message in cbind(parts$left, chars$ellip_h, parts$right, deparse.level = 0L):\n",
      "\"number of rows of result is not a multiple of vector length (arg 2)\"\n",
      "Warning message in cbind(parts$left, chars$ellip_h, parts$right, deparse.level = 0L):\n",
      "\"number of rows of result is not a multiple of vector length (arg 2)\"\n",
      "Warning message in cbind(parts$left, chars$ellip_h, parts$right, deparse.level = 0L):\n",
      "\"number of rows of result is not a multiple of vector length (arg 2)\"\n",
      "Warning message in cbind(parts$left, chars$ellip_h, parts$right, deparse.level = 0L):\n",
      "\"number of rows of result is not a multiple of vector length (arg 2)\"\n"
     ]
    },
    {
     "data": {
      "text/html": [
       "<table class=\"dataframe\">\n",
       "<caption>A data.table: 0 x 25</caption>\n",
       "<thead>\n",
       "\t<tr><th scope=col>chrom</th><th scope=col>pos</th><th scope=col>a1</th><th scope=col>a2</th><th scope=col>molecular_trait_id</th><th scope=col>variant_id</th><th scope=col>start_distance</th><th scope=col>end_distance</th><th scope=col>af</th><th scope=col>ma_samples</th><th scope=col>...</th><th scope=col>beta_msex</th><th scope=col>se_msex</th><th scope=col>pvalue_msex_interaction</th><th scope=col>beta_msex_interaction</th><th scope=col>se_msex_interaction</th><th scope=col>molecular_trait_object_id</th><th scope=col>n</th><th scope=col>qvalue_main</th><th scope=col>qvalue_interaction</th><th scope=col>region</th></tr>\n",
       "\t<tr><th scope=col>&lt;int&gt;</th><th scope=col>&lt;int&gt;</th><th scope=col>&lt;chr&gt;</th><th scope=col>&lt;chr&gt;</th><th scope=col>&lt;chr&gt;</th><th scope=col>&lt;chr&gt;</th><th scope=col>&lt;int&gt;</th><th scope=col>&lt;int&gt;</th><th scope=col>&lt;dbl&gt;</th><th scope=col>&lt;int&gt;</th><th scope=col>...</th><th scope=col>&lt;dbl&gt;</th><th scope=col>&lt;dbl&gt;</th><th scope=col>&lt;dbl&gt;</th><th scope=col>&lt;dbl&gt;</th><th scope=col>&lt;dbl&gt;</th><th scope=col>&lt;chr&gt;</th><th scope=col>&lt;int&gt;</th><th scope=col>&lt;dbl&gt;</th><th scope=col>&lt;dbl&gt;</th><th scope=col>&lt;chr&gt;</th></tr>\n",
       "</thead>\n",
       "<tbody>\n",
       "</tbody>\n",
       "</table>\n"
      ],
      "text/latex": [
       "A data.table: 0 x 25\n",
       "\\begin{tabular}{lllllllllllllllllllll}\n",
       " chrom & pos & a1 & a2 & molecular\\_trait\\_id & variant\\_id & start\\_distance & end\\_distance & af & ma\\_samples & ... & beta\\_msex & se\\_msex & pvalue\\_msex\\_interaction & beta\\_msex\\_interaction & se\\_msex\\_interaction & molecular\\_trait\\_object\\_id & n & qvalue\\_main & qvalue\\_interaction & region\\\\\n",
       " <int> & <int> & <chr> & <chr> & <chr> & <chr> & <int> & <int> & <dbl> & <int> & ... & <dbl> & <dbl> & <dbl> & <dbl> & <dbl> & <chr> & <int> & <dbl> & <dbl> & <chr>\\\\\n",
       "\\hline\n",
       "\\end{tabular}\n"
      ],
      "text/markdown": [
       "\n",
       "A data.table: 0 x 25\n",
       "\n",
       "| chrom &lt;int&gt; | pos &lt;int&gt; | a1 &lt;chr&gt; | a2 &lt;chr&gt; | molecular_trait_id &lt;chr&gt; | variant_id &lt;chr&gt; | start_distance &lt;int&gt; | end_distance &lt;int&gt; | af &lt;dbl&gt; | ma_samples &lt;int&gt; | ... ... | beta_msex &lt;dbl&gt; | se_msex &lt;dbl&gt; | pvalue_msex_interaction &lt;dbl&gt; | beta_msex_interaction &lt;dbl&gt; | se_msex_interaction &lt;dbl&gt; | molecular_trait_object_id &lt;chr&gt; | n &lt;int&gt; | qvalue_main &lt;dbl&gt; | qvalue_interaction &lt;dbl&gt; | region &lt;chr&gt; |\n",
       "|---|---|---|---|---|---|---|---|---|---|---|---|---|---|---|---|---|---|---|---|---|\n",
       "\n"
      ],
      "text/plain": [
       "     chrom pos a1 a2 molecular_trait_id variant_id start_distance end_distance\n",
       "     af ma_samples ... beta_msex se_msex pvalue_msex_interaction\n",
       "     beta_msex_interaction se_msex_interaction molecular_trait_object_id n\n",
       "     qvalue_main qvalue_interaction region"
      ]
     },
     "metadata": {},
     "output_type": "display_data"
    }
   ],
   "source": [
    "int_res |> filter(variant_id == \"chr22:38597462_A_G\"& qvalue_interaction< 0.05)"
   ]
  },
  {
   "cell_type": "code",
   "execution_count": null,
   "id": "0d5480ca-90a0-4220-bf0b-4b42a58b0b23",
   "metadata": {},
   "outputs": [],
   "source": []
  }
 ],
 "metadata": {
  "kernelspec": {
   "display_name": "R",
   "language": "R",
   "name": "ir"
  },
  "language_info": {
   "codemirror_mode": "r",
   "file_extension": ".r",
   "mimetype": "text/x-r-source",
   "name": "R",
   "pygments_lexer": "r",
   "version": "4.3.3"
  }
 },
 "nbformat": 4,
 "nbformat_minor": 5
}
