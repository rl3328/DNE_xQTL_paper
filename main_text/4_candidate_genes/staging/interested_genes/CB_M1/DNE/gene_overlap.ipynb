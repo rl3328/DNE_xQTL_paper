{
 "cells": [
  {
   "cell_type": "code",
   "execution_count": 1,
   "id": "b50955b7-e4a4-44b0-aeac-858ca41d20ba",
   "metadata": {},
   "outputs": [
    {
     "name": "stderr",
     "output_type": "stream",
     "text": [
      "── \u001b[1mAttaching core tidyverse packages\u001b[22m ──────────────────────── tidyverse 2.0.0 ──\n",
      "\u001b[32m✔\u001b[39m \u001b[34mdplyr    \u001b[39m 1.1.4     \u001b[32m✔\u001b[39m \u001b[34mreadr    \u001b[39m 2.1.5\n",
      "\u001b[32m✔\u001b[39m \u001b[34mforcats  \u001b[39m 1.0.0     \u001b[32m✔\u001b[39m \u001b[34mstringr  \u001b[39m 1.5.1\n",
      "\u001b[32m✔\u001b[39m \u001b[34mggplot2  \u001b[39m 3.5.2     \u001b[32m✔\u001b[39m \u001b[34mtibble   \u001b[39m 3.3.0\n",
      "\u001b[32m✔\u001b[39m \u001b[34mlubridate\u001b[39m 1.9.4     \u001b[32m✔\u001b[39m \u001b[34mtidyr    \u001b[39m 1.3.1\n",
      "\u001b[32m✔\u001b[39m \u001b[34mpurrr    \u001b[39m 1.1.0     \n",
      "── \u001b[1mConflicts\u001b[22m ────────────────────────────────────────── tidyverse_conflicts() ──\n",
      "\u001b[31m✖\u001b[39m \u001b[34mdplyr\u001b[39m::\u001b[32mfilter()\u001b[39m masks \u001b[34mstats\u001b[39m::filter()\n",
      "\u001b[31m✖\u001b[39m \u001b[34mdplyr\u001b[39m::\u001b[32mlag()\u001b[39m    masks \u001b[34mstats\u001b[39m::lag()\n",
      "\u001b[36mℹ\u001b[39m Use the conflicted package (\u001b[3m\u001b[34m<http://conflicted.r-lib.org/>\u001b[39m\u001b[23m) to force all conflicts to become errors\n",
      "\n",
      "Attaching package: ‘data.table’\n",
      "\n",
      "\n",
      "The following objects are masked from ‘package:lubridate’:\n",
      "\n",
      "    hour, isoweek, mday, minute, month, quarter, second, wday, week,\n",
      "    yday, year\n",
      "\n",
      "\n",
      "The following objects are masked from ‘package:dplyr’:\n",
      "\n",
      "    between, first, last\n",
      "\n",
      "\n",
      "The following object is masked from ‘package:purrr’:\n",
      "\n",
      "    transpose\n",
      "\n",
      "\n"
     ]
    }
   ],
   "source": [
    "library(tidyverse)\n",
    "library(data.table)"
   ]
  },
  {
   "cell_type": "code",
   "execution_count": 2,
   "id": "1ae763f3-2997-4755-a699-06f2e2f205b3",
   "metadata": {},
   "outputs": [],
   "source": [
    "DNE = fread(\"~/xqtl-analysis/production/image_QTL/interested_genes/CB_M1/DNE/genes_comparison/annotated_dne_gene.tsv\")\n",
    "AD1 = DNE |> filter(str_detect(event_ID, \"AD1\"))\n",
    "Aging5 = DNE |> filter(str_detect(event_ID, \"Aging5\"))\n",
    "Aging3 = DNE |> filter(str_detect(event_ID, \"Aging3\"))"
   ]
  },
  {
   "cell_type": "code",
   "execution_count": 3,
   "id": "e78884d1-5310-482f-98d6-142d77dec051",
   "metadata": {},
   "outputs": [],
   "source": [
    "AD2 = DNE |> filter(str_detect(event_ID, \"AD2\"))\n",
    "AD2_gene = AD2 |> pull(gene_name)"
   ]
  },
  {
   "cell_type": "code",
   "execution_count": 4,
   "id": "b182b73f-0d68-42b7-8a4b-e0e361cbae4a",
   "metadata": {},
   "outputs": [],
   "source": [
    "Aging2 = DNE |> filter(str_detect(event_ID, \"Aging2\"))\n",
    "Aging2_gene = Aging2 |> pull(gene_name)"
   ]
  },
  {
   "cell_type": "code",
   "execution_count": 5,
   "id": "4b151e14-e51a-400d-8f5f-845be7284bb8",
   "metadata": {},
   "outputs": [],
   "source": [
    "Aging1 = DNE |> filter(str_detect(event_ID, \"Aging1\"))\n",
    "Aging1_gene = Aging1 |> pull(gene_name)\n",
    "Aging4 = DNE |> filter(str_detect(event_ID, \"Aging4\"))\n",
    "Aging4_gene = Aging4 |> pull(gene_name)"
   ]
  },
  {
   "cell_type": "code",
   "execution_count": 6,
   "id": "d46a88e1-9d68-4e9d-a589-bac0fb023f4a",
   "metadata": {},
   "outputs": [],
   "source": [
    "AD1_gene = AD1 |> pull(gene_name)"
   ]
  },
  {
   "cell_type": "code",
   "execution_count": 7,
   "id": "a6ad1f16-7500-4c2c-8752-23c1fb63a0dd",
   "metadata": {},
   "outputs": [],
   "source": [
    "Aging5_gene = Aging5 |> pull(gene_name)"
   ]
  },
  {
   "cell_type": "code",
   "execution_count": 8,
   "id": "705cd29d-34a4-44b4-9684-355b2702b5f5",
   "metadata": {},
   "outputs": [],
   "source": [
    "Aging3_gene = Aging3 |> pull(gene_name)"
   ]
  },
  {
   "cell_type": "code",
   "execution_count": 16,
   "id": "8bfee712-9740-4f40-816d-94fae5fdd7b7",
   "metadata": {},
   "outputs": [],
   "source": [
    "AD = DNE |> filter(str_detect(event_ID, \"AD_\"))\n",
    "TL1 = DNE |> filter(str_detect(event_ID, \"Telomere\"))\n",
    "mvAge = DNE |> filter(str_detect(event_ID, \"mv\"))\n",
    "PD = DNE |> filter(str_detect(event_ID, \"PD\"))\n",
    "AD_gene = AD |> pull(gene_name)\n",
    "TL1_gene = TL1 |> pull(gene_name)\n",
    "mvAge_gene = mvAge |> pull(gene_name)\n",
    "PD_gene = PD |> pull(gene_name)\n"
   ]
  },
  {
   "cell_type": "code",
   "execution_count": 20,
   "id": "2f8de4fc-7489-4ed5-979b-173ce34b9f62",
   "metadata": {},
   "outputs": [
    {
     "data": {
      "text/html": [
       "<style>\n",
       ".list-inline {list-style: none; margin:0; padding: 0}\n",
       ".list-inline>li {display: inline-block}\n",
       ".list-inline>li:not(:last-child)::after {content: \"\\00b7\"; padding: 0 .5ex}\n",
       "</style>\n",
       "<ol class=list-inline><li>'ICA1L'</li><li>'WDR12'</li><li>'CARF'</li><li>'NBEAL1'</li><li>'TNIP1'</li><li>'EGFR'</li><li>'PTGES3L-AARSD1'</li><li>'ARHGAP27'</li><li>'PLEKHM1'</li><li>'LINC02210-CRHR1'</li><li>'CRHR1'</li><li>'SPPL2C'</li><li>'MAPT'</li><li>'STH'</li><li>'KANSL1'</li><li>'ARL17B'</li><li>'LRRC37A'</li><li>'LRRC37A2'</li><li>'ARL17A'</li><li>'NSF'</li><li>'AC005670.2'</li><li>'DDX17'</li><li>'FAM227A'</li><li>'CBY1'</li><li>'TOMM22'</li><li>'JOSD1'</li><li>'SUN2'</li></ol>\n"
      ],
      "text/latex": [
       "\\begin{enumerate*}\n",
       "\\item 'ICA1L'\n",
       "\\item 'WDR12'\n",
       "\\item 'CARF'\n",
       "\\item 'NBEAL1'\n",
       "\\item 'TNIP1'\n",
       "\\item 'EGFR'\n",
       "\\item 'PTGES3L-AARSD1'\n",
       "\\item 'ARHGAP27'\n",
       "\\item 'PLEKHM1'\n",
       "\\item 'LINC02210-CRHR1'\n",
       "\\item 'CRHR1'\n",
       "\\item 'SPPL2C'\n",
       "\\item 'MAPT'\n",
       "\\item 'STH'\n",
       "\\item 'KANSL1'\n",
       "\\item 'ARL17B'\n",
       "\\item 'LRRC37A'\n",
       "\\item 'LRRC37A2'\n",
       "\\item 'ARL17A'\n",
       "\\item 'NSF'\n",
       "\\item 'AC005670.2'\n",
       "\\item 'DDX17'\n",
       "\\item 'FAM227A'\n",
       "\\item 'CBY1'\n",
       "\\item 'TOMM22'\n",
       "\\item 'JOSD1'\n",
       "\\item 'SUN2'\n",
       "\\end{enumerate*}\n"
      ],
      "text/markdown": [
       "1. 'ICA1L'\n",
       "2. 'WDR12'\n",
       "3. 'CARF'\n",
       "4. 'NBEAL1'\n",
       "5. 'TNIP1'\n",
       "6. 'EGFR'\n",
       "7. 'PTGES3L-AARSD1'\n",
       "8. 'ARHGAP27'\n",
       "9. 'PLEKHM1'\n",
       "10. 'LINC02210-CRHR1'\n",
       "11. 'CRHR1'\n",
       "12. 'SPPL2C'\n",
       "13. 'MAPT'\n",
       "14. 'STH'\n",
       "15. 'KANSL1'\n",
       "16. 'ARL17B'\n",
       "17. 'LRRC37A'\n",
       "18. 'LRRC37A2'\n",
       "19. 'ARL17A'\n",
       "20. 'NSF'\n",
       "21. 'AC005670.2'\n",
       "22. 'DDX17'\n",
       "23. 'FAM227A'\n",
       "24. 'CBY1'\n",
       "25. 'TOMM22'\n",
       "26. 'JOSD1'\n",
       "27. 'SUN2'\n",
       "\n",
       "\n"
      ],
      "text/plain": [
       " [1] \"ICA1L\"           \"WDR12\"           \"CARF\"            \"NBEAL1\"         \n",
       " [5] \"TNIP1\"           \"EGFR\"            \"PTGES3L-AARSD1\"  \"ARHGAP27\"       \n",
       " [9] \"PLEKHM1\"         \"LINC02210-CRHR1\" \"CRHR1\"           \"SPPL2C\"         \n",
       "[13] \"MAPT\"            \"STH\"             \"KANSL1\"          \"ARL17B\"         \n",
       "[17] \"LRRC37A\"         \"LRRC37A2\"        \"ARL17A\"          \"NSF\"            \n",
       "[21] \"AC005670.2\"      \"DDX17\"           \"FAM227A\"         \"CBY1\"           \n",
       "[25] \"TOMM22\"          \"JOSD1\"           \"SUN2\"           "
      ]
     },
     "metadata": {},
     "output_type": "display_data"
    }
   ],
   "source": [
    "AD_gene"
   ]
  },
  {
   "cell_type": "code",
   "execution_count": 19,
   "id": "de2b04bd-c93a-4041-9d45-7a640286e281",
   "metadata": {},
   "outputs": [
    {
     "data": {
      "text/html": [
       "<style>\n",
       ".list-inline {list-style: none; margin:0; padding: 0}\n",
       ".list-inline>li {display: inline-block}\n",
       ".list-inline>li:not(:last-child)::after {content: \"\\00b7\"; padding: 0 .5ex}\n",
       "</style>\n",
       "<ol class=list-inline><li>'ENOPH1'</li><li>'SEC31A'</li><li>'LIN54'</li><li>'H2AC11'</li><li>'H4C13'</li><li>'DDX17'</li><li>'FAM227A'</li><li>'CBY1'</li><li>'TOMM22'</li><li>'JOSD1'</li><li>'SUN2'</li><li>'FAM118A'</li></ol>\n"
      ],
      "text/latex": [
       "\\begin{enumerate*}\n",
       "\\item 'ENOPH1'\n",
       "\\item 'SEC31A'\n",
       "\\item 'LIN54'\n",
       "\\item 'H2AC11'\n",
       "\\item 'H4C13'\n",
       "\\item 'DDX17'\n",
       "\\item 'FAM227A'\n",
       "\\item 'CBY1'\n",
       "\\item 'TOMM22'\n",
       "\\item 'JOSD1'\n",
       "\\item 'SUN2'\n",
       "\\item 'FAM118A'\n",
       "\\end{enumerate*}\n"
      ],
      "text/markdown": [
       "1. 'ENOPH1'\n",
       "2. 'SEC31A'\n",
       "3. 'LIN54'\n",
       "4. 'H2AC11'\n",
       "5. 'H4C13'\n",
       "6. 'DDX17'\n",
       "7. 'FAM227A'\n",
       "8. 'CBY1'\n",
       "9. 'TOMM22'\n",
       "10. 'JOSD1'\n",
       "11. 'SUN2'\n",
       "12. 'FAM118A'\n",
       "\n",
       "\n"
      ],
      "text/plain": [
       " [1] \"ENOPH1\"  \"SEC31A\"  \"LIN54\"   \"H2AC11\"  \"H4C13\"   \"DDX17\"   \"FAM227A\"\n",
       " [8] \"CBY1\"    \"TOMM22\"  \"JOSD1\"   \"SUN2\"    \"FAM118A\""
      ]
     },
     "metadata": {},
     "output_type": "display_data"
    }
   ],
   "source": [
    "TL1_gene"
   ]
  },
  {
   "cell_type": "code",
   "execution_count": 18,
   "id": "4decade6-8af5-4872-8fa7-d1cc7c7dc7cd",
   "metadata": {},
   "outputs": [
    {
     "data": {
      "text/html": [
       "<style>\n",
       ".list-inline {list-style: none; margin:0; padding: 0}\n",
       ".list-inline>li {display: inline-block}\n",
       ".list-inline>li:not(:last-child)::after {content: \"\\00b7\"; padding: 0 .5ex}\n",
       "</style>\n",
       "<ol class=list-inline><li>'MYRF'</li><li>'TMEM258'</li><li>'FADS2'</li><li>'FADS1'</li><li>'MARK2'</li></ol>\n"
      ],
      "text/latex": [
       "\\begin{enumerate*}\n",
       "\\item 'MYRF'\n",
       "\\item 'TMEM258'\n",
       "\\item 'FADS2'\n",
       "\\item 'FADS1'\n",
       "\\item 'MARK2'\n",
       "\\end{enumerate*}\n"
      ],
      "text/markdown": [
       "1. 'MYRF'\n",
       "2. 'TMEM258'\n",
       "3. 'FADS2'\n",
       "4. 'FADS1'\n",
       "5. 'MARK2'\n",
       "\n",
       "\n"
      ],
      "text/plain": [
       "[1] \"MYRF\"    \"TMEM258\" \"FADS2\"   \"FADS1\"   \"MARK2\"  "
      ]
     },
     "metadata": {},
     "output_type": "display_data"
    }
   ],
   "source": [
    "mvAge_gene"
   ]
  },
  {
   "cell_type": "code",
   "execution_count": 21,
   "id": "a18d05c0-e343-4847-a95a-66545d5673e9",
   "metadata": {},
   "outputs": [
    {
     "data": {
      "text/html": [
       "<style>\n",
       ".list-inline {list-style: none; margin:0; padding: 0}\n",
       ".list-inline>li {display: inline-block}\n",
       ".list-inline>li:not(:last-child)::after {content: \"\\00b7\"; padding: 0 .5ex}\n",
       "</style>\n",
       "<ol class=list-inline><li>'PTGES3L-AARSD1'</li><li>'ARHGAP27'</li><li>'PLEKHM1'</li><li>'LINC02210-CRHR1'</li><li>'CRHR1'</li><li>'SPPL2C'</li><li>'MAPT'</li><li>'STH'</li><li>'KANSL1'</li><li>'ARL17B'</li><li>'LRRC37A'</li><li>'LRRC37A2'</li><li>'ARL17A'</li><li>'NSF'</li><li>'AC005670.2'</li></ol>\n"
      ],
      "text/latex": [
       "\\begin{enumerate*}\n",
       "\\item 'PTGES3L-AARSD1'\n",
       "\\item 'ARHGAP27'\n",
       "\\item 'PLEKHM1'\n",
       "\\item 'LINC02210-CRHR1'\n",
       "\\item 'CRHR1'\n",
       "\\item 'SPPL2C'\n",
       "\\item 'MAPT'\n",
       "\\item 'STH'\n",
       "\\item 'KANSL1'\n",
       "\\item 'ARL17B'\n",
       "\\item 'LRRC37A'\n",
       "\\item 'LRRC37A2'\n",
       "\\item 'ARL17A'\n",
       "\\item 'NSF'\n",
       "\\item 'AC005670.2'\n",
       "\\end{enumerate*}\n"
      ],
      "text/markdown": [
       "1. 'PTGES3L-AARSD1'\n",
       "2. 'ARHGAP27'\n",
       "3. 'PLEKHM1'\n",
       "4. 'LINC02210-CRHR1'\n",
       "5. 'CRHR1'\n",
       "6. 'SPPL2C'\n",
       "7. 'MAPT'\n",
       "8. 'STH'\n",
       "9. 'KANSL1'\n",
       "10. 'ARL17B'\n",
       "11. 'LRRC37A'\n",
       "12. 'LRRC37A2'\n",
       "13. 'ARL17A'\n",
       "14. 'NSF'\n",
       "15. 'AC005670.2'\n",
       "\n",
       "\n"
      ],
      "text/plain": [
       " [1] \"PTGES3L-AARSD1\"  \"ARHGAP27\"        \"PLEKHM1\"         \"LINC02210-CRHR1\"\n",
       " [5] \"CRHR1\"           \"SPPL2C\"          \"MAPT\"            \"STH\"            \n",
       " [9] \"KANSL1\"          \"ARL17B\"          \"LRRC37A\"         \"LRRC37A2\"       \n",
       "[13] \"ARL17A\"          \"NSF\"             \"AC005670.2\"     "
      ]
     },
     "metadata": {},
     "output_type": "display_data"
    }
   ],
   "source": [
    "PD_gene"
   ]
  },
  {
   "cell_type": "code",
   "execution_count": 13,
   "id": "5c885930-a33e-44a7-b218-2a8bc5db8e68",
   "metadata": {},
   "outputs": [
    {
     "data": {
      "text/html": [
       "<style>\n",
       ".list-inline {list-style: none; margin:0; padding: 0}\n",
       ".list-inline>li {display: inline-block}\n",
       ".list-inline>li:not(:last-child)::after {content: \"\\00b7\"; padding: 0 .5ex}\n",
       "</style>\n",
       "<ol class=list-inline><li>'ARL4C'</li><li>'CCDC12'</li><li>'NBEAL2'</li><li>'SCAP'</li><li>'ELP6'</li><li>'CSPG5'</li><li>'SMARCC1'</li><li>'DHX30'</li><li>'MAP4'</li><li>'UGT2B7'</li><li>'KIF13A'</li><li>'AMZ1'</li><li>'GNA12'</li><li>'EGFR'</li><li>'SBSPON'</li><li>'ENPP2'</li><li>'THNSL1'</li><li>'MFSD13A'</li><li>'ACTR1A'</li><li>'SUFU'</li><li>'TRIM8'</li><li>'ARL3'</li><li>'KDM2B'</li><li>'ARMH4'</li><li>'PSMA3'</li><li>'UQCC1'</li><li>'GDF5'</li><li>'EEF2'</li><li>'PIAS4'</li><li>'PI4KA'</li><li>'SERPIND1'</li><li>'SNAP29'</li><li>'ADORA2A'</li></ol>\n"
      ],
      "text/latex": [
       "\\begin{enumerate*}\n",
       "\\item 'ARL4C'\n",
       "\\item 'CCDC12'\n",
       "\\item 'NBEAL2'\n",
       "\\item 'SCAP'\n",
       "\\item 'ELP6'\n",
       "\\item 'CSPG5'\n",
       "\\item 'SMARCC1'\n",
       "\\item 'DHX30'\n",
       "\\item 'MAP4'\n",
       "\\item 'UGT2B7'\n",
       "\\item 'KIF13A'\n",
       "\\item 'AMZ1'\n",
       "\\item 'GNA12'\n",
       "\\item 'EGFR'\n",
       "\\item 'SBSPON'\n",
       "\\item 'ENPP2'\n",
       "\\item 'THNSL1'\n",
       "\\item 'MFSD13A'\n",
       "\\item 'ACTR1A'\n",
       "\\item 'SUFU'\n",
       "\\item 'TRIM8'\n",
       "\\item 'ARL3'\n",
       "\\item 'KDM2B'\n",
       "\\item 'ARMH4'\n",
       "\\item 'PSMA3'\n",
       "\\item 'UQCC1'\n",
       "\\item 'GDF5'\n",
       "\\item 'EEF2'\n",
       "\\item 'PIAS4'\n",
       "\\item 'PI4KA'\n",
       "\\item 'SERPIND1'\n",
       "\\item 'SNAP29'\n",
       "\\item 'ADORA2A'\n",
       "\\end{enumerate*}\n"
      ],
      "text/markdown": [
       "1. 'ARL4C'\n",
       "2. 'CCDC12'\n",
       "3. 'NBEAL2'\n",
       "4. 'SCAP'\n",
       "5. 'ELP6'\n",
       "6. 'CSPG5'\n",
       "7. 'SMARCC1'\n",
       "8. 'DHX30'\n",
       "9. 'MAP4'\n",
       "10. 'UGT2B7'\n",
       "11. 'KIF13A'\n",
       "12. 'AMZ1'\n",
       "13. 'GNA12'\n",
       "14. 'EGFR'\n",
       "15. 'SBSPON'\n",
       "16. 'ENPP2'\n",
       "17. 'THNSL1'\n",
       "18. 'MFSD13A'\n",
       "19. 'ACTR1A'\n",
       "20. 'SUFU'\n",
       "21. 'TRIM8'\n",
       "22. 'ARL3'\n",
       "23. 'KDM2B'\n",
       "24. 'ARMH4'\n",
       "25. 'PSMA3'\n",
       "26. 'UQCC1'\n",
       "27. 'GDF5'\n",
       "28. 'EEF2'\n",
       "29. 'PIAS4'\n",
       "30. 'PI4KA'\n",
       "31. 'SERPIND1'\n",
       "32. 'SNAP29'\n",
       "33. 'ADORA2A'\n",
       "\n",
       "\n"
      ],
      "text/plain": [
       " [1] \"ARL4C\"    \"CCDC12\"   \"NBEAL2\"   \"SCAP\"     \"ELP6\"     \"CSPG5\"   \n",
       " [7] \"SMARCC1\"  \"DHX30\"    \"MAP4\"     \"UGT2B7\"   \"KIF13A\"   \"AMZ1\"    \n",
       "[13] \"GNA12\"    \"EGFR\"     \"SBSPON\"   \"ENPP2\"    \"THNSL1\"   \"MFSD13A\" \n",
       "[19] \"ACTR1A\"   \"SUFU\"     \"TRIM8\"    \"ARL3\"     \"KDM2B\"    \"ARMH4\"   \n",
       "[25] \"PSMA3\"    \"UQCC1\"    \"GDF5\"     \"EEF2\"     \"PIAS4\"    \"PI4KA\"   \n",
       "[31] \"SERPIND1\" \"SNAP29\"   \"ADORA2A\" "
      ]
     },
     "metadata": {},
     "output_type": "display_data"
    }
   ],
   "source": [
    "AD1_gene"
   ]
  },
  {
   "cell_type": "code",
   "execution_count": 39,
   "id": "ee63bf49-ee88-43f4-b475-b6864fcb70e7",
   "metadata": {},
   "outputs": [
    {
     "data": {
      "text/html": [
       "<style>\n",
       ".list-inline {list-style: none; margin:0; padding: 0}\n",
       ".list-inline>li {display: inline-block}\n",
       ".list-inline>li:not(:last-child)::after {content: \"\\00b7\"; padding: 0 .5ex}\n",
       "</style>\n",
       "<ol class=list-inline><li>'ERO1B'</li><li>'DIS3L2'</li><li>'MAST4'</li><li>'AP3B1'</li><li>'VCAN'</li><li>'CYSTM1'</li><li>'TNIP1'</li><li>'TMEM170B'</li><li>'H2AC11'</li><li>'H4C13'</li><li>'FILIP1'</li><li>'CCM2'</li><li>'TBRG4'</li><li>'DGKZ'</li><li>'MDK'</li><li>'ATG13'</li><li>'CKAP5'</li><li>'LRP4'</li><li>'C11orf49'</li><li>'PACSIN3'</li><li>'NR1H3'</li><li>'ZDHHC5'</li><li>'AP001931.2'</li><li>'TMX2'</li><li>'CTNND1'</li><li>'DPCD'</li><li>'NABP2'</li><li>'ANKRD52'</li><li>'COQ10A'</li><li>'CS'</li><li>'CNPY2'</li><li>'PAN2'</li><li>'IL23A'</li><li>'STAT2'</li><li>'SOHLH2'</li><li>'CCDC169-SOHLH2'</li><li>'CCDC169'</li><li>'SPART'</li><li>'CCDC57'</li><li>'UQCC1'</li><li>'GDF5'</li></ol>\n"
      ],
      "text/latex": [
       "\\begin{enumerate*}\n",
       "\\item 'ERO1B'\n",
       "\\item 'DIS3L2'\n",
       "\\item 'MAST4'\n",
       "\\item 'AP3B1'\n",
       "\\item 'VCAN'\n",
       "\\item 'CYSTM1'\n",
       "\\item 'TNIP1'\n",
       "\\item 'TMEM170B'\n",
       "\\item 'H2AC11'\n",
       "\\item 'H4C13'\n",
       "\\item 'FILIP1'\n",
       "\\item 'CCM2'\n",
       "\\item 'TBRG4'\n",
       "\\item 'DGKZ'\n",
       "\\item 'MDK'\n",
       "\\item 'ATG13'\n",
       "\\item 'CKAP5'\n",
       "\\item 'LRP4'\n",
       "\\item 'C11orf49'\n",
       "\\item 'PACSIN3'\n",
       "\\item 'NR1H3'\n",
       "\\item 'ZDHHC5'\n",
       "\\item 'AP001931.2'\n",
       "\\item 'TMX2'\n",
       "\\item 'CTNND1'\n",
       "\\item 'DPCD'\n",
       "\\item 'NABP2'\n",
       "\\item 'ANKRD52'\n",
       "\\item 'COQ10A'\n",
       "\\item 'CS'\n",
       "\\item 'CNPY2'\n",
       "\\item 'PAN2'\n",
       "\\item 'IL23A'\n",
       "\\item 'STAT2'\n",
       "\\item 'SOHLH2'\n",
       "\\item 'CCDC169-SOHLH2'\n",
       "\\item 'CCDC169'\n",
       "\\item 'SPART'\n",
       "\\item 'CCDC57'\n",
       "\\item 'UQCC1'\n",
       "\\item 'GDF5'\n",
       "\\end{enumerate*}\n"
      ],
      "text/markdown": [
       "1. 'ERO1B'\n",
       "2. 'DIS3L2'\n",
       "3. 'MAST4'\n",
       "4. 'AP3B1'\n",
       "5. 'VCAN'\n",
       "6. 'CYSTM1'\n",
       "7. 'TNIP1'\n",
       "8. 'TMEM170B'\n",
       "9. 'H2AC11'\n",
       "10. 'H4C13'\n",
       "11. 'FILIP1'\n",
       "12. 'CCM2'\n",
       "13. 'TBRG4'\n",
       "14. 'DGKZ'\n",
       "15. 'MDK'\n",
       "16. 'ATG13'\n",
       "17. 'CKAP5'\n",
       "18. 'LRP4'\n",
       "19. 'C11orf49'\n",
       "20. 'PACSIN3'\n",
       "21. 'NR1H3'\n",
       "22. 'ZDHHC5'\n",
       "23. 'AP001931.2'\n",
       "24. 'TMX2'\n",
       "25. 'CTNND1'\n",
       "26. 'DPCD'\n",
       "27. 'NABP2'\n",
       "28. 'ANKRD52'\n",
       "29. 'COQ10A'\n",
       "30. 'CS'\n",
       "31. 'CNPY2'\n",
       "32. 'PAN2'\n",
       "33. 'IL23A'\n",
       "34. 'STAT2'\n",
       "35. 'SOHLH2'\n",
       "36. 'CCDC169-SOHLH2'\n",
       "37. 'CCDC169'\n",
       "38. 'SPART'\n",
       "39. 'CCDC57'\n",
       "40. 'UQCC1'\n",
       "41. 'GDF5'\n",
       "\n",
       "\n"
      ],
      "text/plain": [
       " [1] \"ERO1B\"          \"DIS3L2\"         \"MAST4\"          \"AP3B1\"         \n",
       " [5] \"VCAN\"           \"CYSTM1\"         \"TNIP1\"          \"TMEM170B\"      \n",
       " [9] \"H2AC11\"         \"H4C13\"          \"FILIP1\"         \"CCM2\"          \n",
       "[13] \"TBRG4\"          \"DGKZ\"           \"MDK\"            \"ATG13\"         \n",
       "[17] \"CKAP5\"          \"LRP4\"           \"C11orf49\"       \"PACSIN3\"       \n",
       "[21] \"NR1H3\"          \"ZDHHC5\"         \"AP001931.2\"     \"TMX2\"          \n",
       "[25] \"CTNND1\"         \"DPCD\"           \"NABP2\"          \"ANKRD52\"       \n",
       "[29] \"COQ10A\"         \"CS\"             \"CNPY2\"          \"PAN2\"          \n",
       "[33] \"IL23A\"          \"STAT2\"          \"SOHLH2\"         \"CCDC169-SOHLH2\"\n",
       "[37] \"CCDC169\"        \"SPART\"          \"CCDC57\"         \"UQCC1\"         \n",
       "[41] \"GDF5\"          "
      ]
     },
     "metadata": {},
     "output_type": "display_data"
    }
   ],
   "source": [
    "AD2_gene"
   ]
  },
  {
   "cell_type": "code",
   "execution_count": 73,
   "id": "8a67fd55-480a-4b57-8ecc-afef9ff948e1",
   "metadata": {},
   "outputs": [
    {
     "data": {
      "text/html": [
       "<style>\n",
       ".list-inline {list-style: none; margin:0; padding: 0}\n",
       ".list-inline>li {display: inline-block}\n",
       ".list-inline>li:not(:last-child)::after {content: \"\\00b7\"; padding: 0 .5ex}\n",
       "</style>\n",
       "<ol class=list-inline><li>'CD101'</li><li>'ZIC4'</li><li>'ZIC1'</li><li>'IGFBP7'</li><li>'ENOPH1'</li><li>'SEC31A'</li><li>'LIN54'</li><li>'AHRR'</li><li>'EXOC3'</li><li>'SLC9A3'</li><li>'HLA-A'</li><li>'TRIM39'</li><li>'COL21A1'</li><li>'CENPW'</li><li>'TULP4'</li><li>'TMEM181'</li><li>'SOD2'</li><li>'WTAP'</li><li>'ACAT2'</li><li>'TCP1'</li><li>'MRPL18'</li><li>'PNLDC1'</li><li>'AMZ1'</li><li>'GNA12'</li><li>'STAG3'</li><li>'PILRB'</li><li>'PILRA'</li><li>'ZCWPW1'</li><li>'MEPCE'</li><li>'C7orf61'</li><li>'TSC22D4'</li><li>'FAM160B2'</li><li>'EFCAB1'</li><li>'TNFRSF11B'</li><li>'SAA4'</li><li>'SAA2'</li><li>'HPS5'</li><li>'GTF2H1'</li><li>'DSCAML1'</li><li>'ENO4'</li><li>'SHTN1'</li><li>'CNTN1'</li><li>'EIF2B2'</li><li>'MLH3'</li><li>'ACYP1'</li><li>'ZC2HC1C'</li><li>'NEK9'</li><li>'TMED10'</li><li>'NPIPA1'</li><li>'PDXDC1'</li><li>'NPIPA5'</li><li>'TNRC6A'</li><li>'SLC5A11'</li><li>'NPIPB7'</li><li>'SGF29'</li><li>'SULT1A2'</li><li>'SULT1A1'</li><li>'EIF3C'</li><li>'TUFM'</li><li>'SH2B1'</li><li>'ATP2A1'</li><li>'DYNC1LI2'</li><li>'TMEM208'</li><li>'HELZ'</li><li>'ATP9B'</li><li>'ITPA'</li><li>'SLC4A11'</li><li>'C20orf194'</li><li>'BCL2L1'</li><li>'DNAJC5'</li></ol>\n"
      ],
      "text/latex": [
       "\\begin{enumerate*}\n",
       "\\item 'CD101'\n",
       "\\item 'ZIC4'\n",
       "\\item 'ZIC1'\n",
       "\\item 'IGFBP7'\n",
       "\\item 'ENOPH1'\n",
       "\\item 'SEC31A'\n",
       "\\item 'LIN54'\n",
       "\\item 'AHRR'\n",
       "\\item 'EXOC3'\n",
       "\\item 'SLC9A3'\n",
       "\\item 'HLA-A'\n",
       "\\item 'TRIM39'\n",
       "\\item 'COL21A1'\n",
       "\\item 'CENPW'\n",
       "\\item 'TULP4'\n",
       "\\item 'TMEM181'\n",
       "\\item 'SOD2'\n",
       "\\item 'WTAP'\n",
       "\\item 'ACAT2'\n",
       "\\item 'TCP1'\n",
       "\\item 'MRPL18'\n",
       "\\item 'PNLDC1'\n",
       "\\item 'AMZ1'\n",
       "\\item 'GNA12'\n",
       "\\item 'STAG3'\n",
       "\\item 'PILRB'\n",
       "\\item 'PILRA'\n",
       "\\item 'ZCWPW1'\n",
       "\\item 'MEPCE'\n",
       "\\item 'C7orf61'\n",
       "\\item 'TSC22D4'\n",
       "\\item 'FAM160B2'\n",
       "\\item 'EFCAB1'\n",
       "\\item 'TNFRSF11B'\n",
       "\\item 'SAA4'\n",
       "\\item 'SAA2'\n",
       "\\item 'HPS5'\n",
       "\\item 'GTF2H1'\n",
       "\\item 'DSCAML1'\n",
       "\\item 'ENO4'\n",
       "\\item 'SHTN1'\n",
       "\\item 'CNTN1'\n",
       "\\item 'EIF2B2'\n",
       "\\item 'MLH3'\n",
       "\\item 'ACYP1'\n",
       "\\item 'ZC2HC1C'\n",
       "\\item 'NEK9'\n",
       "\\item 'TMED10'\n",
       "\\item 'NPIPA1'\n",
       "\\item 'PDXDC1'\n",
       "\\item 'NPIPA5'\n",
       "\\item 'TNRC6A'\n",
       "\\item 'SLC5A11'\n",
       "\\item 'NPIPB7'\n",
       "\\item 'SGF29'\n",
       "\\item 'SULT1A2'\n",
       "\\item 'SULT1A1'\n",
       "\\item 'EIF3C'\n",
       "\\item 'TUFM'\n",
       "\\item 'SH2B1'\n",
       "\\item 'ATP2A1'\n",
       "\\item 'DYNC1LI2'\n",
       "\\item 'TMEM208'\n",
       "\\item 'HELZ'\n",
       "\\item 'ATP9B'\n",
       "\\item 'ITPA'\n",
       "\\item 'SLC4A11'\n",
       "\\item 'C20orf194'\n",
       "\\item 'BCL2L1'\n",
       "\\item 'DNAJC5'\n",
       "\\end{enumerate*}\n"
      ],
      "text/markdown": [
       "1. 'CD101'\n",
       "2. 'ZIC4'\n",
       "3. 'ZIC1'\n",
       "4. 'IGFBP7'\n",
       "5. 'ENOPH1'\n",
       "6. 'SEC31A'\n",
       "7. 'LIN54'\n",
       "8. 'AHRR'\n",
       "9. 'EXOC3'\n",
       "10. 'SLC9A3'\n",
       "11. 'HLA-A'\n",
       "12. 'TRIM39'\n",
       "13. 'COL21A1'\n",
       "14. 'CENPW'\n",
       "15. 'TULP4'\n",
       "16. 'TMEM181'\n",
       "17. 'SOD2'\n",
       "18. 'WTAP'\n",
       "19. 'ACAT2'\n",
       "20. 'TCP1'\n",
       "21. 'MRPL18'\n",
       "22. 'PNLDC1'\n",
       "23. 'AMZ1'\n",
       "24. 'GNA12'\n",
       "25. 'STAG3'\n",
       "26. 'PILRB'\n",
       "27. 'PILRA'\n",
       "28. 'ZCWPW1'\n",
       "29. 'MEPCE'\n",
       "30. 'C7orf61'\n",
       "31. 'TSC22D4'\n",
       "32. 'FAM160B2'\n",
       "33. 'EFCAB1'\n",
       "34. 'TNFRSF11B'\n",
       "35. 'SAA4'\n",
       "36. 'SAA2'\n",
       "37. 'HPS5'\n",
       "38. 'GTF2H1'\n",
       "39. 'DSCAML1'\n",
       "40. 'ENO4'\n",
       "41. 'SHTN1'\n",
       "42. 'CNTN1'\n",
       "43. 'EIF2B2'\n",
       "44. 'MLH3'\n",
       "45. 'ACYP1'\n",
       "46. 'ZC2HC1C'\n",
       "47. 'NEK9'\n",
       "48. 'TMED10'\n",
       "49. 'NPIPA1'\n",
       "50. 'PDXDC1'\n",
       "51. 'NPIPA5'\n",
       "52. 'TNRC6A'\n",
       "53. 'SLC5A11'\n",
       "54. 'NPIPB7'\n",
       "55. 'SGF29'\n",
       "56. 'SULT1A2'\n",
       "57. 'SULT1A1'\n",
       "58. 'EIF3C'\n",
       "59. 'TUFM'\n",
       "60. 'SH2B1'\n",
       "61. 'ATP2A1'\n",
       "62. 'DYNC1LI2'\n",
       "63. 'TMEM208'\n",
       "64. 'HELZ'\n",
       "65. 'ATP9B'\n",
       "66. 'ITPA'\n",
       "67. 'SLC4A11'\n",
       "68. 'C20orf194'\n",
       "69. 'BCL2L1'\n",
       "70. 'DNAJC5'\n",
       "\n",
       "\n"
      ],
      "text/plain": [
       " [1] \"CD101\"     \"ZIC4\"      \"ZIC1\"      \"IGFBP7\"    \"ENOPH1\"    \"SEC31A\"   \n",
       " [7] \"LIN54\"     \"AHRR\"      \"EXOC3\"     \"SLC9A3\"    \"HLA-A\"     \"TRIM39\"   \n",
       "[13] \"COL21A1\"   \"CENPW\"     \"TULP4\"     \"TMEM181\"   \"SOD2\"      \"WTAP\"     \n",
       "[19] \"ACAT2\"     \"TCP1\"      \"MRPL18\"    \"PNLDC1\"    \"AMZ1\"      \"GNA12\"    \n",
       "[25] \"STAG3\"     \"PILRB\"     \"PILRA\"     \"ZCWPW1\"    \"MEPCE\"     \"C7orf61\"  \n",
       "[31] \"TSC22D4\"   \"FAM160B2\"  \"EFCAB1\"    \"TNFRSF11B\" \"SAA4\"      \"SAA2\"     \n",
       "[37] \"HPS5\"      \"GTF2H1\"    \"DSCAML1\"   \"ENO4\"      \"SHTN1\"     \"CNTN1\"    \n",
       "[43] \"EIF2B2\"    \"MLH3\"      \"ACYP1\"     \"ZC2HC1C\"   \"NEK9\"      \"TMED10\"   \n",
       "[49] \"NPIPA1\"    \"PDXDC1\"    \"NPIPA5\"    \"TNRC6A\"    \"SLC5A11\"   \"NPIPB7\"   \n",
       "[55] \"SGF29\"     \"SULT1A2\"   \"SULT1A1\"   \"EIF3C\"     \"TUFM\"      \"SH2B1\"    \n",
       "[61] \"ATP2A1\"    \"DYNC1LI2\"  \"TMEM208\"   \"HELZ\"      \"ATP9B\"     \"ITPA\"     \n",
       "[67] \"SLC4A11\"   \"C20orf194\" \"BCL2L1\"    \"DNAJC5\"   "
      ]
     },
     "metadata": {},
     "output_type": "display_data"
    }
   ],
   "source": [
    "Aging1_gene"
   ]
  },
  {
   "cell_type": "code",
   "execution_count": 74,
   "id": "6a09554f-c7bb-4378-a9a6-52ee3e9ceb55",
   "metadata": {},
   "outputs": [
    {
     "data": {
      "text/html": [
       "<style>\n",
       ".list-inline {list-style: none; margin:0; padding: 0}\n",
       ".list-inline>li {display: inline-block}\n",
       ".list-inline>li:not(:last-child)::after {content: \"\\00b7\"; padding: 0 .5ex}\n",
       "</style>\n",
       "<ol class=list-inline><li>'MAST2'</li><li>'DOCK10'</li><li>'ARL4C'</li><li>'MAST4'</li><li>'VCAN'</li><li>'TNIP1'</li><li>'TMEM170B'</li><li>'CENPW'</li><li>'RPA3'</li><li>'FAM126A'</li><li>'KLHL7'</li><li>'NUP42'</li><li>'GPNMB'</li><li>'C7orf33'</li><li>'ZNF786'</li><li>'ZNF425'</li><li>'ZNF398'</li><li>'WAC'</li><li>'AC068896.1'</li><li>'EEF1AKMT2'</li><li>'SYT10'</li><li>'DYRK2'</li><li>'WASHC3'</li><li>'PARPBP'</li><li>'SOHLH2'</li><li>'CCDC169-SOHLH2'</li><li>'CCDC169'</li><li>'SPART'</li><li>'NPIPA1'</li><li>'SEZ6L2'</li><li>'ASPHD1'</li><li>'KCTD13'</li><li>'TMEM219'</li><li>'GDPD3'</li><li>'MAPK3'</li><li>'CORO6'</li><li>'SSH2'</li><li>'EFCAB5'</li><li>'NSRP1'</li><li>'MTMR4'</li><li>'RAD51C'</li><li>'PPM1E'</li><li>'TRIM37'</li><li>'BCL2L1'</li></ol>\n"
      ],
      "text/latex": [
       "\\begin{enumerate*}\n",
       "\\item 'MAST2'\n",
       "\\item 'DOCK10'\n",
       "\\item 'ARL4C'\n",
       "\\item 'MAST4'\n",
       "\\item 'VCAN'\n",
       "\\item 'TNIP1'\n",
       "\\item 'TMEM170B'\n",
       "\\item 'CENPW'\n",
       "\\item 'RPA3'\n",
       "\\item 'FAM126A'\n",
       "\\item 'KLHL7'\n",
       "\\item 'NUP42'\n",
       "\\item 'GPNMB'\n",
       "\\item 'C7orf33'\n",
       "\\item 'ZNF786'\n",
       "\\item 'ZNF425'\n",
       "\\item 'ZNF398'\n",
       "\\item 'WAC'\n",
       "\\item 'AC068896.1'\n",
       "\\item 'EEF1AKMT2'\n",
       "\\item 'SYT10'\n",
       "\\item 'DYRK2'\n",
       "\\item 'WASHC3'\n",
       "\\item 'PARPBP'\n",
       "\\item 'SOHLH2'\n",
       "\\item 'CCDC169-SOHLH2'\n",
       "\\item 'CCDC169'\n",
       "\\item 'SPART'\n",
       "\\item 'NPIPA1'\n",
       "\\item 'SEZ6L2'\n",
       "\\item 'ASPHD1'\n",
       "\\item 'KCTD13'\n",
       "\\item 'TMEM219'\n",
       "\\item 'GDPD3'\n",
       "\\item 'MAPK3'\n",
       "\\item 'CORO6'\n",
       "\\item 'SSH2'\n",
       "\\item 'EFCAB5'\n",
       "\\item 'NSRP1'\n",
       "\\item 'MTMR4'\n",
       "\\item 'RAD51C'\n",
       "\\item 'PPM1E'\n",
       "\\item 'TRIM37'\n",
       "\\item 'BCL2L1'\n",
       "\\end{enumerate*}\n"
      ],
      "text/markdown": [
       "1. 'MAST2'\n",
       "2. 'DOCK10'\n",
       "3. 'ARL4C'\n",
       "4. 'MAST4'\n",
       "5. 'VCAN'\n",
       "6. 'TNIP1'\n",
       "7. 'TMEM170B'\n",
       "8. 'CENPW'\n",
       "9. 'RPA3'\n",
       "10. 'FAM126A'\n",
       "11. 'KLHL7'\n",
       "12. 'NUP42'\n",
       "13. 'GPNMB'\n",
       "14. 'C7orf33'\n",
       "15. 'ZNF786'\n",
       "16. 'ZNF425'\n",
       "17. 'ZNF398'\n",
       "18. 'WAC'\n",
       "19. 'AC068896.1'\n",
       "20. 'EEF1AKMT2'\n",
       "21. 'SYT10'\n",
       "22. 'DYRK2'\n",
       "23. 'WASHC3'\n",
       "24. 'PARPBP'\n",
       "25. 'SOHLH2'\n",
       "26. 'CCDC169-SOHLH2'\n",
       "27. 'CCDC169'\n",
       "28. 'SPART'\n",
       "29. 'NPIPA1'\n",
       "30. 'SEZ6L2'\n",
       "31. 'ASPHD1'\n",
       "32. 'KCTD13'\n",
       "33. 'TMEM219'\n",
       "34. 'GDPD3'\n",
       "35. 'MAPK3'\n",
       "36. 'CORO6'\n",
       "37. 'SSH2'\n",
       "38. 'EFCAB5'\n",
       "39. 'NSRP1'\n",
       "40. 'MTMR4'\n",
       "41. 'RAD51C'\n",
       "42. 'PPM1E'\n",
       "43. 'TRIM37'\n",
       "44. 'BCL2L1'\n",
       "\n",
       "\n"
      ],
      "text/plain": [
       " [1] \"MAST2\"          \"DOCK10\"         \"ARL4C\"          \"MAST4\"         \n",
       " [5] \"VCAN\"           \"TNIP1\"          \"TMEM170B\"       \"CENPW\"         \n",
       " [9] \"RPA3\"           \"FAM126A\"        \"KLHL7\"          \"NUP42\"         \n",
       "[13] \"GPNMB\"          \"C7orf33\"        \"ZNF786\"         \"ZNF425\"        \n",
       "[17] \"ZNF398\"         \"WAC\"            \"AC068896.1\"     \"EEF1AKMT2\"     \n",
       "[21] \"SYT10\"          \"DYRK2\"          \"WASHC3\"         \"PARPBP\"        \n",
       "[25] \"SOHLH2\"         \"CCDC169-SOHLH2\" \"CCDC169\"        \"SPART\"         \n",
       "[29] \"NPIPA1\"         \"SEZ6L2\"         \"ASPHD1\"         \"KCTD13\"        \n",
       "[33] \"TMEM219\"        \"GDPD3\"          \"MAPK3\"          \"CORO6\"         \n",
       "[37] \"SSH2\"           \"EFCAB5\"         \"NSRP1\"          \"MTMR4\"         \n",
       "[41] \"RAD51C\"         \"PPM1E\"          \"TRIM37\"         \"BCL2L1\"        "
      ]
     },
     "metadata": {},
     "output_type": "display_data"
    }
   ],
   "source": [
    "Aging2_gene"
   ]
  },
  {
   "cell_type": "code",
   "execution_count": 33,
   "id": "3708d9df-8aa1-4cd5-877f-b781a68cbd5d",
   "metadata": {},
   "outputs": [
    {
     "data": {
      "text/html": [
       "<style>\n",
       ".list-inline {list-style: none; margin:0; padding: 0}\n",
       ".list-inline>li {display: inline-block}\n",
       ".list-inline>li:not(:last-child)::after {content: \"\\00b7\"; padding: 0 .5ex}\n",
       "</style>\n",
       "<ol class=list-inline><li>'HSPG2'</li><li>'CDC42'</li><li>'SPTBN1'</li><li>'UGT2B7'</li><li>'CENPW'</li><li>'ISCA1'</li><li>'TUT7'</li><li>'ENO4'</li><li>'SHTN1'</li><li>'KDM2B'</li><li>'IRS2'</li><li>'ARMH4'</li><li>'PSMA3'</li><li>'SEZ6L2'</li><li>'ASPHD1'</li><li>'KCTD13'</li><li>'TMEM219'</li><li>'GDPD3'</li><li>'MAPK3'</li><li>'PTGES3L-AARSD1'</li><li>'ARHGAP27'</li><li>'PLEKHM1'</li><li>'LINC02210-CRHR1'</li><li>'CRHR1'</li><li>'SPPL2C'</li><li>'MAPT'</li><li>'STH'</li><li>'KANSL1'</li><li>'ARL17B'</li><li>'LRRC37A'</li><li>'LRRC37A2'</li><li>'ARL17A'</li><li>'NSF'</li><li>'AC005670.2'</li><li>'ITCH'</li><li>'MAP1LC3A'</li><li>'NCOA6'</li><li>'GGT7'</li><li>'TRPC4AP'</li><li>'DNAJC5'</li><li>'DDX17'</li><li>'FAM227A'</li><li>'CBY1'</li><li>'TOMM22'</li><li>'JOSD1'</li><li>'SUN2'</li><li>'HSF2BP'</li><li>'RRP1B'</li><li>'PDXK'</li></ol>\n"
      ],
      "text/latex": [
       "\\begin{enumerate*}\n",
       "\\item 'HSPG2'\n",
       "\\item 'CDC42'\n",
       "\\item 'SPTBN1'\n",
       "\\item 'UGT2B7'\n",
       "\\item 'CENPW'\n",
       "\\item 'ISCA1'\n",
       "\\item 'TUT7'\n",
       "\\item 'ENO4'\n",
       "\\item 'SHTN1'\n",
       "\\item 'KDM2B'\n",
       "\\item 'IRS2'\n",
       "\\item 'ARMH4'\n",
       "\\item 'PSMA3'\n",
       "\\item 'SEZ6L2'\n",
       "\\item 'ASPHD1'\n",
       "\\item 'KCTD13'\n",
       "\\item 'TMEM219'\n",
       "\\item 'GDPD3'\n",
       "\\item 'MAPK3'\n",
       "\\item 'PTGES3L-AARSD1'\n",
       "\\item 'ARHGAP27'\n",
       "\\item 'PLEKHM1'\n",
       "\\item 'LINC02210-CRHR1'\n",
       "\\item 'CRHR1'\n",
       "\\item 'SPPL2C'\n",
       "\\item 'MAPT'\n",
       "\\item 'STH'\n",
       "\\item 'KANSL1'\n",
       "\\item 'ARL17B'\n",
       "\\item 'LRRC37A'\n",
       "\\item 'LRRC37A2'\n",
       "\\item 'ARL17A'\n",
       "\\item 'NSF'\n",
       "\\item 'AC005670.2'\n",
       "\\item 'ITCH'\n",
       "\\item 'MAP1LC3A'\n",
       "\\item 'NCOA6'\n",
       "\\item 'GGT7'\n",
       "\\item 'TRPC4AP'\n",
       "\\item 'DNAJC5'\n",
       "\\item 'DDX17'\n",
       "\\item 'FAM227A'\n",
       "\\item 'CBY1'\n",
       "\\item 'TOMM22'\n",
       "\\item 'JOSD1'\n",
       "\\item 'SUN2'\n",
       "\\item 'HSF2BP'\n",
       "\\item 'RRP1B'\n",
       "\\item 'PDXK'\n",
       "\\end{enumerate*}\n"
      ],
      "text/markdown": [
       "1. 'HSPG2'\n",
       "2. 'CDC42'\n",
       "3. 'SPTBN1'\n",
       "4. 'UGT2B7'\n",
       "5. 'CENPW'\n",
       "6. 'ISCA1'\n",
       "7. 'TUT7'\n",
       "8. 'ENO4'\n",
       "9. 'SHTN1'\n",
       "10. 'KDM2B'\n",
       "11. 'IRS2'\n",
       "12. 'ARMH4'\n",
       "13. 'PSMA3'\n",
       "14. 'SEZ6L2'\n",
       "15. 'ASPHD1'\n",
       "16. 'KCTD13'\n",
       "17. 'TMEM219'\n",
       "18. 'GDPD3'\n",
       "19. 'MAPK3'\n",
       "20. 'PTGES3L-AARSD1'\n",
       "21. 'ARHGAP27'\n",
       "22. 'PLEKHM1'\n",
       "23. 'LINC02210-CRHR1'\n",
       "24. 'CRHR1'\n",
       "25. 'SPPL2C'\n",
       "26. 'MAPT'\n",
       "27. 'STH'\n",
       "28. 'KANSL1'\n",
       "29. 'ARL17B'\n",
       "30. 'LRRC37A'\n",
       "31. 'LRRC37A2'\n",
       "32. 'ARL17A'\n",
       "33. 'NSF'\n",
       "34. 'AC005670.2'\n",
       "35. 'ITCH'\n",
       "36. 'MAP1LC3A'\n",
       "37. 'NCOA6'\n",
       "38. 'GGT7'\n",
       "39. 'TRPC4AP'\n",
       "40. 'DNAJC5'\n",
       "41. 'DDX17'\n",
       "42. 'FAM227A'\n",
       "43. 'CBY1'\n",
       "44. 'TOMM22'\n",
       "45. 'JOSD1'\n",
       "46. 'SUN2'\n",
       "47. 'HSF2BP'\n",
       "48. 'RRP1B'\n",
       "49. 'PDXK'\n",
       "\n",
       "\n"
      ],
      "text/plain": [
       " [1] \"HSPG2\"           \"CDC42\"           \"SPTBN1\"          \"UGT2B7\"         \n",
       " [5] \"CENPW\"           \"ISCA1\"           \"TUT7\"            \"ENO4\"           \n",
       " [9] \"SHTN1\"           \"KDM2B\"           \"IRS2\"            \"ARMH4\"          \n",
       "[13] \"PSMA3\"           \"SEZ6L2\"          \"ASPHD1\"          \"KCTD13\"         \n",
       "[17] \"TMEM219\"         \"GDPD3\"           \"MAPK3\"           \"PTGES3L-AARSD1\" \n",
       "[21] \"ARHGAP27\"        \"PLEKHM1\"         \"LINC02210-CRHR1\" \"CRHR1\"          \n",
       "[25] \"SPPL2C\"          \"MAPT\"            \"STH\"             \"KANSL1\"         \n",
       "[29] \"ARL17B\"          \"LRRC37A\"         \"LRRC37A2\"        \"ARL17A\"         \n",
       "[33] \"NSF\"             \"AC005670.2\"      \"ITCH\"            \"MAP1LC3A\"       \n",
       "[37] \"NCOA6\"           \"GGT7\"            \"TRPC4AP\"         \"DNAJC5\"         \n",
       "[41] \"DDX17\"           \"FAM227A\"         \"CBY1\"            \"TOMM22\"         \n",
       "[45] \"JOSD1\"           \"SUN2\"            \"HSF2BP\"          \"RRP1B\"          \n",
       "[49] \"PDXK\"           "
      ]
     },
     "metadata": {},
     "output_type": "display_data"
    }
   ],
   "source": [
    "Aging3_gene"
   ]
  },
  {
   "cell_type": "code",
   "execution_count": 72,
   "id": "1effd5fc-6600-485e-aeeb-193cd0b895d4",
   "metadata": {},
   "outputs": [
    {
     "data": {
      "text/html": [
       "<style>\n",
       ".list-inline {list-style: none; margin:0; padding: 0}\n",
       ".list-inline>li {display: inline-block}\n",
       ".list-inline>li:not(:last-child)::after {content: \"\\00b7\"; padding: 0 .5ex}\n",
       "</style>\n",
       "<ol class=list-inline><li>'RAB29'</li><li>'SLC41A1'</li><li>'PM20D1'</li><li>'SLC26A9'</li><li>'RAB7B'</li><li>'CTSE'</li><li>'RHEX'</li><li>'ERO1B'</li><li>'GFM1'</li><li>'AP3B1'</li><li>'BMP6'</li><li>'TXNDC5'</li><li>'BLOC1S5-TXNDC5'</li><li>'SUPT3H'</li><li>'AMZ1'</li><li>'GNA12'</li><li>'ENPP2'</li><li>'FAT3'</li><li>'SLC36A4'</li><li>'TCF7L2'</li><li>'NABP2'</li><li>'ANKRD52'</li><li>'COQ10A'</li><li>'CS'</li><li>'CNPY2'</li><li>'PAN2'</li><li>'IL23A'</li><li>'STAT2'</li><li>'BPTF'</li><li>'KPNA2'</li><li>'TPGS2'</li><li>'KIAA1328'</li><li>'COX6B1'</li><li>'UPK1A'</li><li>'ZBTB32'</li><li>'KMT2B'</li><li>'PROSER3'</li><li>'COQ8B'</li></ol>\n"
      ],
      "text/latex": [
       "\\begin{enumerate*}\n",
       "\\item 'RAB29'\n",
       "\\item 'SLC41A1'\n",
       "\\item 'PM20D1'\n",
       "\\item 'SLC26A9'\n",
       "\\item 'RAB7B'\n",
       "\\item 'CTSE'\n",
       "\\item 'RHEX'\n",
       "\\item 'ERO1B'\n",
       "\\item 'GFM1'\n",
       "\\item 'AP3B1'\n",
       "\\item 'BMP6'\n",
       "\\item 'TXNDC5'\n",
       "\\item 'BLOC1S5-TXNDC5'\n",
       "\\item 'SUPT3H'\n",
       "\\item 'AMZ1'\n",
       "\\item 'GNA12'\n",
       "\\item 'ENPP2'\n",
       "\\item 'FAT3'\n",
       "\\item 'SLC36A4'\n",
       "\\item 'TCF7L2'\n",
       "\\item 'NABP2'\n",
       "\\item 'ANKRD52'\n",
       "\\item 'COQ10A'\n",
       "\\item 'CS'\n",
       "\\item 'CNPY2'\n",
       "\\item 'PAN2'\n",
       "\\item 'IL23A'\n",
       "\\item 'STAT2'\n",
       "\\item 'BPTF'\n",
       "\\item 'KPNA2'\n",
       "\\item 'TPGS2'\n",
       "\\item 'KIAA1328'\n",
       "\\item 'COX6B1'\n",
       "\\item 'UPK1A'\n",
       "\\item 'ZBTB32'\n",
       "\\item 'KMT2B'\n",
       "\\item 'PROSER3'\n",
       "\\item 'COQ8B'\n",
       "\\end{enumerate*}\n"
      ],
      "text/markdown": [
       "1. 'RAB29'\n",
       "2. 'SLC41A1'\n",
       "3. 'PM20D1'\n",
       "4. 'SLC26A9'\n",
       "5. 'RAB7B'\n",
       "6. 'CTSE'\n",
       "7. 'RHEX'\n",
       "8. 'ERO1B'\n",
       "9. 'GFM1'\n",
       "10. 'AP3B1'\n",
       "11. 'BMP6'\n",
       "12. 'TXNDC5'\n",
       "13. 'BLOC1S5-TXNDC5'\n",
       "14. 'SUPT3H'\n",
       "15. 'AMZ1'\n",
       "16. 'GNA12'\n",
       "17. 'ENPP2'\n",
       "18. 'FAT3'\n",
       "19. 'SLC36A4'\n",
       "20. 'TCF7L2'\n",
       "21. 'NABP2'\n",
       "22. 'ANKRD52'\n",
       "23. 'COQ10A'\n",
       "24. 'CS'\n",
       "25. 'CNPY2'\n",
       "26. 'PAN2'\n",
       "27. 'IL23A'\n",
       "28. 'STAT2'\n",
       "29. 'BPTF'\n",
       "30. 'KPNA2'\n",
       "31. 'TPGS2'\n",
       "32. 'KIAA1328'\n",
       "33. 'COX6B1'\n",
       "34. 'UPK1A'\n",
       "35. 'ZBTB32'\n",
       "36. 'KMT2B'\n",
       "37. 'PROSER3'\n",
       "38. 'COQ8B'\n",
       "\n",
       "\n"
      ],
      "text/plain": [
       " [1] \"RAB29\"          \"SLC41A1\"        \"PM20D1\"         \"SLC26A9\"       \n",
       " [5] \"RAB7B\"          \"CTSE\"           \"RHEX\"           \"ERO1B\"         \n",
       " [9] \"GFM1\"           \"AP3B1\"          \"BMP6\"           \"TXNDC5\"        \n",
       "[13] \"BLOC1S5-TXNDC5\" \"SUPT3H\"         \"AMZ1\"           \"GNA12\"         \n",
       "[17] \"ENPP2\"          \"FAT3\"           \"SLC36A4\"        \"TCF7L2\"        \n",
       "[21] \"NABP2\"          \"ANKRD52\"        \"COQ10A\"         \"CS\"            \n",
       "[25] \"CNPY2\"          \"PAN2\"           \"IL23A\"          \"STAT2\"         \n",
       "[29] \"BPTF\"           \"KPNA2\"          \"TPGS2\"          \"KIAA1328\"      \n",
       "[33] \"COX6B1\"         \"UPK1A\"          \"ZBTB32\"         \"KMT2B\"         \n",
       "[37] \"PROSER3\"        \"COQ8B\"         "
      ]
     },
     "metadata": {},
     "output_type": "display_data"
    }
   ],
   "source": [
    "Aging4_gene"
   ]
  },
  {
   "cell_type": "code",
   "execution_count": 29,
   "id": "8a3a4ab7-ccd9-46d1-a3a4-37e2a9cec59b",
   "metadata": {},
   "outputs": [
    {
     "data": {
      "text/html": [
       "<style>\n",
       ".list-inline {list-style: none; margin:0; padding: 0}\n",
       ".list-inline>li {display: inline-block}\n",
       ".list-inline>li:not(:last-child)::after {content: \"\\00b7\"; padding: 0 .5ex}\n",
       "</style>\n",
       "<ol class=list-inline><li>'RGPD4'</li><li>'SULT1C4'</li><li>'GCC2'</li><li>'LIMS1'</li><li>'RANBP2'</li><li>'ICA1L'</li><li>'WDR12'</li><li>'CARF'</li><li>'NBEAL1'</li><li>'NUP210'</li><li>'NR2C2'</li><li>'RARB'</li><li>'CCDC12'</li><li>'NBEAL2'</li><li>'SCAP'</li><li>'ELP6'</li><li>'STIMATE'</li><li>'EPHA3'</li><li>'BTN2A1'</li><li>'ZKSCAN8'</li><li>'TRIM31'</li><li>'GPANK1'</li><li>'VWA7'</li><li>'C4A'</li><li>'C4B'</li><li>'CYP21A2'</li><li>'TNXB'</li><li>'FUT9'</li><li>'UFL1'</li><li>'FHL5'</li><li>'CENPW'</li><li>'AMZ1'</li><li>'GNA12'</li><li>'DENND2B'</li><li>'AKIP1'</li><li>'TMEM9B'</li><li>'IRAG1'</li><li>'MYRF'</li><li>'TMEM258'</li><li>'FADS2'</li><li>'FADS1'</li><li>'MARK2'</li><li>'TLCD5'</li><li>'ARHGEF12'</li><li>'SYNPO2L'</li><li>'VCL'</li><li>'ADK'</li><li>'WBP1L'</li><li>'AS3MT'</li><li>'CNNM2'</li><li>'NT5C2'</li><li>'RHBDF1'</li><li>'VPS9D1'</li><li>'EFCAB13'</li><li>'LRRC46'</li><li>'TTLL6'</li><li>'CALCOCO2'</li><li>'ATP5MC1'</li><li>'UBE2Z'</li><li>'SNF8'</li><li>'SEPTIN9'</li><li>'CCDC9'</li><li>'C5AR1'</li><li>'FAM118A'</li></ol>\n"
      ],
      "text/latex": [
       "\\begin{enumerate*}\n",
       "\\item 'RGPD4'\n",
       "\\item 'SULT1C4'\n",
       "\\item 'GCC2'\n",
       "\\item 'LIMS1'\n",
       "\\item 'RANBP2'\n",
       "\\item 'ICA1L'\n",
       "\\item 'WDR12'\n",
       "\\item 'CARF'\n",
       "\\item 'NBEAL1'\n",
       "\\item 'NUP210'\n",
       "\\item 'NR2C2'\n",
       "\\item 'RARB'\n",
       "\\item 'CCDC12'\n",
       "\\item 'NBEAL2'\n",
       "\\item 'SCAP'\n",
       "\\item 'ELP6'\n",
       "\\item 'STIMATE'\n",
       "\\item 'EPHA3'\n",
       "\\item 'BTN2A1'\n",
       "\\item 'ZKSCAN8'\n",
       "\\item 'TRIM31'\n",
       "\\item 'GPANK1'\n",
       "\\item 'VWA7'\n",
       "\\item 'C4A'\n",
       "\\item 'C4B'\n",
       "\\item 'CYP21A2'\n",
       "\\item 'TNXB'\n",
       "\\item 'FUT9'\n",
       "\\item 'UFL1'\n",
       "\\item 'FHL5'\n",
       "\\item 'CENPW'\n",
       "\\item 'AMZ1'\n",
       "\\item 'GNA12'\n",
       "\\item 'DENND2B'\n",
       "\\item 'AKIP1'\n",
       "\\item 'TMEM9B'\n",
       "\\item 'IRAG1'\n",
       "\\item 'MYRF'\n",
       "\\item 'TMEM258'\n",
       "\\item 'FADS2'\n",
       "\\item 'FADS1'\n",
       "\\item 'MARK2'\n",
       "\\item 'TLCD5'\n",
       "\\item 'ARHGEF12'\n",
       "\\item 'SYNPO2L'\n",
       "\\item 'VCL'\n",
       "\\item 'ADK'\n",
       "\\item 'WBP1L'\n",
       "\\item 'AS3MT'\n",
       "\\item 'CNNM2'\n",
       "\\item 'NT5C2'\n",
       "\\item 'RHBDF1'\n",
       "\\item 'VPS9D1'\n",
       "\\item 'EFCAB13'\n",
       "\\item 'LRRC46'\n",
       "\\item 'TTLL6'\n",
       "\\item 'CALCOCO2'\n",
       "\\item 'ATP5MC1'\n",
       "\\item 'UBE2Z'\n",
       "\\item 'SNF8'\n",
       "\\item 'SEPTIN9'\n",
       "\\item 'CCDC9'\n",
       "\\item 'C5AR1'\n",
       "\\item 'FAM118A'\n",
       "\\end{enumerate*}\n"
      ],
      "text/markdown": [
       "1. 'RGPD4'\n",
       "2. 'SULT1C4'\n",
       "3. 'GCC2'\n",
       "4. 'LIMS1'\n",
       "5. 'RANBP2'\n",
       "6. 'ICA1L'\n",
       "7. 'WDR12'\n",
       "8. 'CARF'\n",
       "9. 'NBEAL1'\n",
       "10. 'NUP210'\n",
       "11. 'NR2C2'\n",
       "12. 'RARB'\n",
       "13. 'CCDC12'\n",
       "14. 'NBEAL2'\n",
       "15. 'SCAP'\n",
       "16. 'ELP6'\n",
       "17. 'STIMATE'\n",
       "18. 'EPHA3'\n",
       "19. 'BTN2A1'\n",
       "20. 'ZKSCAN8'\n",
       "21. 'TRIM31'\n",
       "22. 'GPANK1'\n",
       "23. 'VWA7'\n",
       "24. 'C4A'\n",
       "25. 'C4B'\n",
       "26. 'CYP21A2'\n",
       "27. 'TNXB'\n",
       "28. 'FUT9'\n",
       "29. 'UFL1'\n",
       "30. 'FHL5'\n",
       "31. 'CENPW'\n",
       "32. 'AMZ1'\n",
       "33. 'GNA12'\n",
       "34. 'DENND2B'\n",
       "35. 'AKIP1'\n",
       "36. 'TMEM9B'\n",
       "37. 'IRAG1'\n",
       "38. 'MYRF'\n",
       "39. 'TMEM258'\n",
       "40. 'FADS2'\n",
       "41. 'FADS1'\n",
       "42. 'MARK2'\n",
       "43. 'TLCD5'\n",
       "44. 'ARHGEF12'\n",
       "45. 'SYNPO2L'\n",
       "46. 'VCL'\n",
       "47. 'ADK'\n",
       "48. 'WBP1L'\n",
       "49. 'AS3MT'\n",
       "50. 'CNNM2'\n",
       "51. 'NT5C2'\n",
       "52. 'RHBDF1'\n",
       "53. 'VPS9D1'\n",
       "54. 'EFCAB13'\n",
       "55. 'LRRC46'\n",
       "56. 'TTLL6'\n",
       "57. 'CALCOCO2'\n",
       "58. 'ATP5MC1'\n",
       "59. 'UBE2Z'\n",
       "60. 'SNF8'\n",
       "61. 'SEPTIN9'\n",
       "62. 'CCDC9'\n",
       "63. 'C5AR1'\n",
       "64. 'FAM118A'\n",
       "\n",
       "\n"
      ],
      "text/plain": [
       " [1] \"RGPD4\"    \"SULT1C4\"  \"GCC2\"     \"LIMS1\"    \"RANBP2\"   \"ICA1L\"   \n",
       " [7] \"WDR12\"    \"CARF\"     \"NBEAL1\"   \"NUP210\"   \"NR2C2\"    \"RARB\"    \n",
       "[13] \"CCDC12\"   \"NBEAL2\"   \"SCAP\"     \"ELP6\"     \"STIMATE\"  \"EPHA3\"   \n",
       "[19] \"BTN2A1\"   \"ZKSCAN8\"  \"TRIM31\"   \"GPANK1\"   \"VWA7\"     \"C4A\"     \n",
       "[25] \"C4B\"      \"CYP21A2\"  \"TNXB\"     \"FUT9\"     \"UFL1\"     \"FHL5\"    \n",
       "[31] \"CENPW\"    \"AMZ1\"     \"GNA12\"    \"DENND2B\"  \"AKIP1\"    \"TMEM9B\"  \n",
       "[37] \"IRAG1\"    \"MYRF\"     \"TMEM258\"  \"FADS2\"    \"FADS1\"    \"MARK2\"   \n",
       "[43] \"TLCD5\"    \"ARHGEF12\" \"SYNPO2L\"  \"VCL\"      \"ADK\"      \"WBP1L\"   \n",
       "[49] \"AS3MT\"    \"CNNM2\"    \"NT5C2\"    \"RHBDF1\"   \"VPS9D1\"   \"EFCAB13\" \n",
       "[55] \"LRRC46\"   \"TTLL6\"    \"CALCOCO2\" \"ATP5MC1\"  \"UBE2Z\"    \"SNF8\"    \n",
       "[61] \"SEPTIN9\"  \"CCDC9\"    \"C5AR1\"    \"FAM118A\" "
      ]
     },
     "metadata": {},
     "output_type": "display_data"
    }
   ],
   "source": [
    "Aging5_gene"
   ]
  },
  {
   "cell_type": "code",
   "execution_count": 15,
   "id": "9097a8fe-0c69-4352-98bf-353b90de10c7",
   "metadata": {},
   "outputs": [],
   "source": [
    "Aging = fread(\"~/xqtl-analysis/production/image_QTL/interested_genes/CB_M1/Aging_DNE/annotated_aging_new_dne_gene.tsv\")\n",
    "Aging_gene = Aging |> pull(gene_name)"
   ]
  },
  {
   "cell_type": "code",
   "execution_count": 16,
   "id": "e13d1b04-1b71-4df9-a773-05bfca82b370",
   "metadata": {},
   "outputs": [
    {
     "name": "stderr",
     "output_type": "stream",
     "text": [
      "Loading required package: grid\n",
      "\n",
      "Loading required package: futile.logger\n",
      "\n"
     ]
    },
    {
     "name": "stdout",
     "output_type": "stream",
     "text": [
      "INFO [2025-07-09 23:22:46] $x\n",
      "INFO [2025-07-09 23:22:46] list(AD1 = AD1_gene, Aging5 = Aging5_gene, Aging = Aging_gene)\n",
      "INFO [2025-07-09 23:22:46] \n",
      "INFO [2025-07-09 23:22:46] $filename\n",
      "INFO [2025-07-09 23:22:46] NULL\n",
      "INFO [2025-07-09 23:22:46] \n",
      "INFO [2025-07-09 23:22:46] $category.names\n",
      "INFO [2025-07-09 23:22:46] c(\"AD1 genes\", \"Aging5 genes\", \"Aging genes\")\n",
      "INFO [2025-07-09 23:22:46] \n",
      "INFO [2025-07-09 23:22:46] $fill\n",
      "INFO [2025-07-09 23:22:46] c(\"lightblue\", \"lightcoral\", \"lightgreen\")\n",
      "INFO [2025-07-09 23:22:46] \n",
      "INFO [2025-07-09 23:22:46] $alpha\n",
      "INFO [2025-07-09 23:22:46] [1] 0.7\n",
      "INFO [2025-07-09 23:22:46] \n",
      "INFO [2025-07-09 23:22:46] $cex\n",
      "INFO [2025-07-09 23:22:46] [1] 1.2\n",
      "INFO [2025-07-09 23:22:46] \n",
      "INFO [2025-07-09 23:22:46] $fontfamily\n",
      "INFO [2025-07-09 23:22:46] [1] \"sans\"\n",
      "INFO [2025-07-09 23:22:46] \n",
      "INFO [2025-07-09 23:22:46] $disable.logging\n",
      "INFO [2025-07-09 23:22:46] [1] TRUE\n",
      "INFO [2025-07-09 23:22:46] \n"
     ]
    },
    {
     "data": {
      "image/png": "[encoded data removed]",
      "text/plain": [
       "plot without title"
      ]
     },
     "metadata": {
      "image/png": {
       "height": 420,
       "width": 420
      }
     },
     "output_type": "display_data"
    }
   ],
   "source": [
    "library(VennDiagram)\n",
    "\n",
    "# Create the Venn diagram\n",
    "venn.plot <- venn.diagram(\n",
    "  x = list(\n",
    "    AD1 = AD1_gene,\n",
    "    Aging5 = Aging5_gene,\n",
    "    Aging = Aging_gene\n",
    "  ),\n",
    "  filename = NULL,  # Set to NULL to display in R, or provide filename to save\n",
    "  category.names = c(\"AD1 genes\", \"Aging5 genes\", \"Aging genes\"),\n",
    "  \n",
    "  # Customize colors\n",
    "  fill = c(\"lightblue\", \"lightcoral\", \"lightgreen\"),\n",
    "  alpha = 0.7,\n",
    "  \n",
    "  # Customize text\n",
    "  cex = 1.2,\n",
    "  fontfamily = \"sans\",\n",
    "  \n",
    "  # Remove log file\n",
    "  disable.logging = TRUE\n",
    ")\n",
    "\n",
    "# Display the plot\n",
    "grid.draw(venn.plot)"
   ]
  },
  {
   "cell_type": "code",
   "execution_count": 34,
   "id": "e93e4ce4-435a-43d3-8525-a3ec404e9f3a",
   "metadata": {},
   "outputs": [
    {
     "name": "stdout",
     "output_type": "stream",
     "text": [
      "INFO [2025-07-11 20:30:02] $x\n",
      "INFO [2025-07-11 20:30:02] list(AD1 = AD1_gene, Aging5 = Aging5_gene, Aging3 = Aging3_gene)\n",
      "INFO [2025-07-11 20:30:02] \n",
      "INFO [2025-07-11 20:30:02] $filename\n",
      "INFO [2025-07-11 20:30:02] NULL\n",
      "INFO [2025-07-11 20:30:02] \n",
      "INFO [2025-07-11 20:30:02] $category.names\n",
      "INFO [2025-07-11 20:30:02] c(\"AD1 genes\", \"Aging5 genes\", \"Aging3 genes\")\n",
      "INFO [2025-07-11 20:30:02] \n",
      "INFO [2025-07-11 20:30:02] $fill\n",
      "INFO [2025-07-11 20:30:02] c(\"lightblue\", \"lightcoral\", \"lightgreen\")\n",
      "INFO [2025-07-11 20:30:02] \n",
      "INFO [2025-07-11 20:30:02] $alpha\n",
      "INFO [2025-07-11 20:30:02] [1] 0.7\n",
      "INFO [2025-07-11 20:30:02] \n",
      "INFO [2025-07-11 20:30:02] $cex\n",
      "INFO [2025-07-11 20:30:02] [1] 1.2\n",
      "INFO [2025-07-11 20:30:02] \n",
      "INFO [2025-07-11 20:30:02] $fontfamily\n",
      "INFO [2025-07-11 20:30:02] [1] \"sans\"\n",
      "INFO [2025-07-11 20:30:02] \n",
      "INFO [2025-07-11 20:30:02] $disable.logging\n",
      "INFO [2025-07-11 20:30:02] [1] TRUE\n",
      "INFO [2025-07-11 20:30:02] \n"
     ]
    },
    {
     "data": {
      "image/png": "[encoded data removed]",
      "text/plain": [
       "plot without title"
      ]
     },
     "metadata": {
      "image/png": {
       "height": 420,
       "width": 420
      }
     },
     "output_type": "display_data"
    }
   ],
   "source": [
    "library(VennDiagram)\n",
    "\n",
    "# Create the Venn diagram\n",
    "venn.plot <- venn.diagram(\n",
    "  x = list(\n",
    "    AD1 = AD1_gene,\n",
    "    Aging5 = Aging5_gene,\n",
    "    Aging3 = Aging3_gene\n",
    "  ),\n",
    "  filename = NULL,  # Set to NULL to display in R, or provide filename to save\n",
    "  category.names = c(\"AD1 genes\", \"Aging5 genes\", \"Aging3 genes\"),\n",
    "  \n",
    "  # Customize colors\n",
    "  fill = c(\"lightblue\", \"lightcoral\", \"lightgreen\"),\n",
    "  alpha = 0.7,\n",
    "  \n",
    "  # Customize text\n",
    "  cex = 1.2,\n",
    "  fontfamily = \"sans\",\n",
    "  \n",
    "  # Remove log file\n",
    "  disable.logging = TRUE\n",
    ")\n",
    "\n",
    "# Display the plot\n",
    "grid.draw(venn.plot)"
   ]
  },
  {
   "cell_type": "code",
   "execution_count": 53,
   "id": "4fab13da-4209-4711-af1c-b042440e63e2",
   "metadata": {},
   "outputs": [
    {
     "name": "stdout",
     "output_type": "stream",
     "text": [
      "INFO [2025-07-11 21:02:30] $x\n",
      "INFO [2025-07-11 21:02:30] list(AD2 = AD2_gene, Aging1 = Aging1_gene, Aging4 = Aging4_gene, \n",
      "INFO [2025-07-11 21:02:30]     Aging2 = Aging2_gene)\n",
      "INFO [2025-07-11 21:02:30] \n",
      "INFO [2025-07-11 21:02:30] $filename\n",
      "INFO [2025-07-11 21:02:30] NULL\n",
      "INFO [2025-07-11 21:02:30] \n",
      "INFO [2025-07-11 21:02:30] $category.names\n",
      "INFO [2025-07-11 21:02:30] c(\"AD2 genes\", \"Aging1 genes\", \"Aging4 genes\", \"Aging2 genes\")\n",
      "INFO [2025-07-11 21:02:30] \n",
      "INFO [2025-07-11 21:02:30] $fill\n",
      "INFO [2025-07-11 21:02:30] c(\"lightblue\", \"lightcoral\", \"lightgreen\", \"lightyellow\")\n",
      "INFO [2025-07-11 21:02:30] \n",
      "INFO [2025-07-11 21:02:30] $alpha\n",
      "INFO [2025-07-11 21:02:30] [1] 0.7\n",
      "INFO [2025-07-11 21:02:30] \n",
      "INFO [2025-07-11 21:02:30] $cex\n",
      "INFO [2025-07-11 21:02:30] [1] 1.2\n",
      "INFO [2025-07-11 21:02:30] \n",
      "INFO [2025-07-11 21:02:30] $fontfamily\n",
      "INFO [2025-07-11 21:02:30] [1] \"sans\"\n",
      "INFO [2025-07-11 21:02:30] \n",
      "INFO [2025-07-11 21:02:30] $disable.logging\n",
      "INFO [2025-07-11 21:02:30] [1] TRUE\n",
      "INFO [2025-07-11 21:02:30] \n"
     ]
    },
    {
     "data": {
      "image/png": "[encoded data removed]",
      "text/plain": [
       "plot without title"
      ]
     },
     "metadata": {
      "image/png": {
       "height": 420,
       "width": 420
      }
     },
     "output_type": "display_data"
    }
   ],
   "source": [
    "library(VennDiagram)\n",
    "\n",
    "# Create the Venn diagram\n",
    "venn.plot <- venn.diagram(\n",
    "  x = list(\n",
    "    AD2 = AD2_gene,\n",
    "    Aging1 = Aging1_gene,\n",
    "    Aging4 = Aging4_gene,\n",
    "    Aging2 = Aging2_gene\n",
    "  ),\n",
    "  filename = NULL,  # Set to NULL to display in R, or provide filename to save\n",
    "  category.names = c(\"AD2 genes\", \"Aging1 genes\", \"Aging4 genes\", \"Aging2 genes\"),\n",
    "  \n",
    "  # Customize colors\n",
    "  fill = c(\"lightblue\", \"lightcoral\", \"lightgreen\", \"lightyellow\"),\n",
    "  alpha = 0.7,\n",
    "  \n",
    "  # Customize text\n",
    "  cex = 1.2,\n",
    "  fontfamily = \"sans\",\n",
    "  \n",
    "  # Remove log file\n",
    "  disable.logging = TRUE\n",
    ")\n",
    "\n",
    "# Display the plot\n",
    "grid.draw(venn.plot)"
   ]
  },
  {
   "cell_type": "code",
   "execution_count": 66,
   "id": "9a1e66ab-e541-49c3-88da-3611f0a9bfdb",
   "metadata": {},
   "outputs": [
    {
     "data": {
      "text/html": [
       "<table class=\"dataframe\">\n",
       "<caption>A data.table: 2 x 7</caption>\n",
       "<thead>\n",
       "\t<tr><th scope=col>#chr</th><th scope=col>start</th><th scope=col>end</th><th scope=col>gene_id</th><th scope=col>strand</th><th scope=col>gene_name</th><th scope=col>event_ID</th></tr>\n",
       "\t<tr><th scope=col>&lt;chr&gt;</th><th scope=col>&lt;int&gt;</th><th scope=col>&lt;int&gt;</th><th scope=col>&lt;chr&gt;</th><th scope=col>&lt;chr&gt;</th><th scope=col>&lt;chr&gt;</th><th scope=col>&lt;chr&gt;</th></tr>\n",
       "</thead>\n",
       "<tbody>\n",
       "\t<tr><td>chr7</td><td>2679521</td><td>2775499</td><td>ENSG00000174945</td><td>+</td><td>AMZ1 </td><td>image_AD1; image_Aging1; image_Aging4; image_Aging5</td></tr>\n",
       "\t<tr><td>chr7</td><td>2728104</td><td>2844307</td><td>ENSG00000146535</td><td>-</td><td>GNA12</td><td>image_AD1; image_Aging1; image_Aging4; image_Aging5</td></tr>\n",
       "</tbody>\n",
       "</table>\n"
      ],
      "text/latex": [
       "A data.table: 2 x 7\n",
       "\\begin{tabular}{lllllll}\n",
       " \\#chr & start & end & gene\\_id & strand & gene\\_name & event\\_ID\\\\\n",
       " <chr> & <int> & <int> & <chr> & <chr> & <chr> & <chr>\\\\\n",
       "\\hline\n",
       "\t chr7 & 2679521 & 2775499 & ENSG00000174945 & + & AMZ1  & image\\_AD1; image\\_Aging1; image\\_Aging4; image\\_Aging5\\\\\n",
       "\t chr7 & 2728104 & 2844307 & ENSG00000146535 & - & GNA12 & image\\_AD1; image\\_Aging1; image\\_Aging4; image\\_Aging5\\\\\n",
       "\\end{tabular}\n"
      ],
      "text/markdown": [
       "\n",
       "A data.table: 2 x 7\n",
       "\n",
       "| #chr &lt;chr&gt; | start &lt;int&gt; | end &lt;int&gt; | gene_id &lt;chr&gt; | strand &lt;chr&gt; | gene_name &lt;chr&gt; | event_ID &lt;chr&gt; |\n",
       "|---|---|---|---|---|---|---|\n",
       "| chr7 | 2679521 | 2775499 | ENSG00000174945 | + | AMZ1  | image_AD1; image_Aging1; image_Aging4; image_Aging5 |\n",
       "| chr7 | 2728104 | 2844307 | ENSG00000146535 | - | GNA12 | image_AD1; image_Aging1; image_Aging4; image_Aging5 |\n",
       "\n"
      ],
      "text/plain": [
       "  #chr start   end     gene_id         strand gene_name\n",
       "1 chr7 2679521 2775499 ENSG00000174945 +      AMZ1     \n",
       "2 chr7 2728104 2844307 ENSG00000146535 -      GNA12    \n",
       "  event_ID                                           \n",
       "1 image_AD1; image_Aging1; image_Aging4; image_Aging5\n",
       "2 image_AD1; image_Aging1; image_Aging4; image_Aging5"
      ]
     },
     "metadata": {},
     "output_type": "display_data"
    }
   ],
   "source": [
    "intersect(AD1, Aging1)"
   ]
  },
  {
   "cell_type": "code",
   "execution_count": 67,
   "id": "206bed3c-3ae7-47cd-bb0a-645c56df4df9",
   "metadata": {},
   "outputs": [
    {
     "data": {
      "text/html": [
       "<table class=\"dataframe\">\n",
       "<caption>A data.table: 1 x 7</caption>\n",
       "<thead>\n",
       "\t<tr><th scope=col>#chr</th><th scope=col>start</th><th scope=col>end</th><th scope=col>gene_id</th><th scope=col>strand</th><th scope=col>gene_name</th><th scope=col>event_ID</th></tr>\n",
       "\t<tr><th scope=col>&lt;chr&gt;</th><th scope=col>&lt;int&gt;</th><th scope=col>&lt;int&gt;</th><th scope=col>&lt;chr&gt;</th><th scope=col>&lt;chr&gt;</th><th scope=col>&lt;chr&gt;</th><th scope=col>&lt;chr&gt;</th></tr>\n",
       "</thead>\n",
       "<tbody>\n",
       "\t<tr><td>chr2</td><td>234493040</td><td>234497080</td><td>ENSG00000188042</td><td>-</td><td>ARL4C</td><td>image_AD1; image_Aging2</td></tr>\n",
       "</tbody>\n",
       "</table>\n"
      ],
      "text/latex": [
       "A data.table: 1 x 7\n",
       "\\begin{tabular}{lllllll}\n",
       " \\#chr & start & end & gene\\_id & strand & gene\\_name & event\\_ID\\\\\n",
       " <chr> & <int> & <int> & <chr> & <chr> & <chr> & <chr>\\\\\n",
       "\\hline\n",
       "\t chr2 & 234493040 & 234497080 & ENSG00000188042 & - & ARL4C & image\\_AD1; image\\_Aging2\\\\\n",
       "\\end{tabular}\n"
      ],
      "text/markdown": [
       "\n",
       "A data.table: 1 x 7\n",
       "\n",
       "| #chr &lt;chr&gt; | start &lt;int&gt; | end &lt;int&gt; | gene_id &lt;chr&gt; | strand &lt;chr&gt; | gene_name &lt;chr&gt; | event_ID &lt;chr&gt; |\n",
       "|---|---|---|---|---|---|---|\n",
       "| chr2 | 234493040 | 234497080 | ENSG00000188042 | - | ARL4C | image_AD1; image_Aging2 |\n",
       "\n"
      ],
      "text/plain": [
       "  #chr start     end       gene_id         strand gene_name\n",
       "1 chr2 234493040 234497080 ENSG00000188042 -      ARL4C    \n",
       "  event_ID               \n",
       "1 image_AD1; image_Aging2"
      ]
     },
     "metadata": {},
     "output_type": "display_data"
    }
   ],
   "source": [
    "intersect(AD1, Aging2)"
   ]
  },
  {
   "cell_type": "code",
   "execution_count": 64,
   "id": "1d80da5c-cb60-493c-926d-d7548a4bb22f",
   "metadata": {},
   "outputs": [
    {
     "data": {
      "text/html": [
       "<table class=\"dataframe\">\n",
       "<caption>A data.table: 4 x 7</caption>\n",
       "<thead>\n",
       "\t<tr><th scope=col>#chr</th><th scope=col>start</th><th scope=col>end</th><th scope=col>gene_id</th><th scope=col>strand</th><th scope=col>gene_name</th><th scope=col>event_ID</th></tr>\n",
       "\t<tr><th scope=col>&lt;chr&gt;</th><th scope=col>&lt;int&gt;</th><th scope=col>&lt;int&gt;</th><th scope=col>&lt;chr&gt;</th><th scope=col>&lt;chr&gt;</th><th scope=col>&lt;chr&gt;</th><th scope=col>&lt;chr&gt;</th></tr>\n",
       "</thead>\n",
       "<tbody>\n",
       "\t<tr><td>chr4 </td><td> 69051362</td><td> 69112986</td><td>ENSG00000171234</td><td>+</td><td>UGT2B7</td><td>image_AD1; image_Aging3</td></tr>\n",
       "\t<tr><td>chr12</td><td>121429095</td><td>121581022</td><td>ENSG00000089094</td><td>-</td><td>KDM2B </td><td>image_AD1; image_Aging3</td></tr>\n",
       "\t<tr><td>chr14</td><td> 57999734</td><td> 58298138</td><td>ENSG00000139971</td><td>-</td><td>ARMH4 </td><td>image_AD1; image_Aging3</td></tr>\n",
       "\t<tr><td>chr14</td><td> 58244842</td><td> 58272011</td><td>ENSG00000100567</td><td>+</td><td>PSMA3 </td><td>image_AD1; image_Aging3</td></tr>\n",
       "</tbody>\n",
       "</table>\n"
      ],
      "text/latex": [
       "A data.table: 4 x 7\n",
       "\\begin{tabular}{lllllll}\n",
       " \\#chr & start & end & gene\\_id & strand & gene\\_name & event\\_ID\\\\\n",
       " <chr> & <int> & <int> & <chr> & <chr> & <chr> & <chr>\\\\\n",
       "\\hline\n",
       "\t chr4  &  69051362 &  69112986 & ENSG00000171234 & + & UGT2B7 & image\\_AD1; image\\_Aging3\\\\\n",
       "\t chr12 & 121429095 & 121581022 & ENSG00000089094 & - & KDM2B  & image\\_AD1; image\\_Aging3\\\\\n",
       "\t chr14 &  57999734 &  58298138 & ENSG00000139971 & - & ARMH4  & image\\_AD1; image\\_Aging3\\\\\n",
       "\t chr14 &  58244842 &  58272011 & ENSG00000100567 & + & PSMA3  & image\\_AD1; image\\_Aging3\\\\\n",
       "\\end{tabular}\n"
      ],
      "text/markdown": [
       "\n",
       "A data.table: 4 x 7\n",
       "\n",
       "| #chr &lt;chr&gt; | start &lt;int&gt; | end &lt;int&gt; | gene_id &lt;chr&gt; | strand &lt;chr&gt; | gene_name &lt;chr&gt; | event_ID &lt;chr&gt; |\n",
       "|---|---|---|---|---|---|---|\n",
       "| chr4  |  69051362 |  69112986 | ENSG00000171234 | + | UGT2B7 | image_AD1; image_Aging3 |\n",
       "| chr12 | 121429095 | 121581022 | ENSG00000089094 | - | KDM2B  | image_AD1; image_Aging3 |\n",
       "| chr14 |  57999734 |  58298138 | ENSG00000139971 | - | ARMH4  | image_AD1; image_Aging3 |\n",
       "| chr14 |  58244842 |  58272011 | ENSG00000100567 | + | PSMA3  | image_AD1; image_Aging3 |\n",
       "\n"
      ],
      "text/plain": [
       "  #chr  start     end       gene_id         strand gene_name\n",
       "1 chr4   69051362  69112986 ENSG00000171234 +      UGT2B7   \n",
       "2 chr12 121429095 121581022 ENSG00000089094 -      KDM2B    \n",
       "3 chr14  57999734  58298138 ENSG00000139971 -      ARMH4    \n",
       "4 chr14  58244842  58272011 ENSG00000100567 +      PSMA3    \n",
       "  event_ID               \n",
       "1 image_AD1; image_Aging3\n",
       "2 image_AD1; image_Aging3\n",
       "3 image_AD1; image_Aging3\n",
       "4 image_AD1; image_Aging3"
      ]
     },
     "metadata": {},
     "output_type": "display_data"
    }
   ],
   "source": [
    "intersect(AD1, Aging3)"
   ]
  },
  {
   "cell_type": "code",
   "execution_count": 68,
   "id": "3abebe7a-6b02-44db-aa03-6c0a2824d0aa",
   "metadata": {},
   "outputs": [
    {
     "data": {
      "text/html": [
       "<table class=\"dataframe\">\n",
       "<caption>A data.table: 2 x 7</caption>\n",
       "<thead>\n",
       "\t<tr><th scope=col>#chr</th><th scope=col>start</th><th scope=col>end</th><th scope=col>gene_id</th><th scope=col>strand</th><th scope=col>gene_name</th><th scope=col>event_ID</th></tr>\n",
       "\t<tr><th scope=col>&lt;chr&gt;</th><th scope=col>&lt;int&gt;</th><th scope=col>&lt;int&gt;</th><th scope=col>&lt;chr&gt;</th><th scope=col>&lt;chr&gt;</th><th scope=col>&lt;chr&gt;</th><th scope=col>&lt;chr&gt;</th></tr>\n",
       "</thead>\n",
       "<tbody>\n",
       "\t<tr><td>chr7</td><td>2679521</td><td>2775499</td><td>ENSG00000174945</td><td>+</td><td>AMZ1 </td><td>image_AD1; image_Aging1; image_Aging4; image_Aging5</td></tr>\n",
       "\t<tr><td>chr7</td><td>2728104</td><td>2844307</td><td>ENSG00000146535</td><td>-</td><td>GNA12</td><td>image_AD1; image_Aging1; image_Aging4; image_Aging5</td></tr>\n",
       "</tbody>\n",
       "</table>\n"
      ],
      "text/latex": [
       "A data.table: 2 x 7\n",
       "\\begin{tabular}{lllllll}\n",
       " \\#chr & start & end & gene\\_id & strand & gene\\_name & event\\_ID\\\\\n",
       " <chr> & <int> & <int> & <chr> & <chr> & <chr> & <chr>\\\\\n",
       "\\hline\n",
       "\t chr7 & 2679521 & 2775499 & ENSG00000174945 & + & AMZ1  & image\\_AD1; image\\_Aging1; image\\_Aging4; image\\_Aging5\\\\\n",
       "\t chr7 & 2728104 & 2844307 & ENSG00000146535 & - & GNA12 & image\\_AD1; image\\_Aging1; image\\_Aging4; image\\_Aging5\\\\\n",
       "\\end{tabular}\n"
      ],
      "text/markdown": [
       "\n",
       "A data.table: 2 x 7\n",
       "\n",
       "| #chr &lt;chr&gt; | start &lt;int&gt; | end &lt;int&gt; | gene_id &lt;chr&gt; | strand &lt;chr&gt; | gene_name &lt;chr&gt; | event_ID &lt;chr&gt; |\n",
       "|---|---|---|---|---|---|---|\n",
       "| chr7 | 2679521 | 2775499 | ENSG00000174945 | + | AMZ1  | image_AD1; image_Aging1; image_Aging4; image_Aging5 |\n",
       "| chr7 | 2728104 | 2844307 | ENSG00000146535 | - | GNA12 | image_AD1; image_Aging1; image_Aging4; image_Aging5 |\n",
       "\n"
      ],
      "text/plain": [
       "  #chr start   end     gene_id         strand gene_name\n",
       "1 chr7 2679521 2775499 ENSG00000174945 +      AMZ1     \n",
       "2 chr7 2728104 2844307 ENSG00000146535 -      GNA12    \n",
       "  event_ID                                           \n",
       "1 image_AD1; image_Aging1; image_Aging4; image_Aging5\n",
       "2 image_AD1; image_Aging1; image_Aging4; image_Aging5"
      ]
     },
     "metadata": {},
     "output_type": "display_data"
    }
   ],
   "source": [
    "intersect(AD1, Aging4)"
   ]
  },
  {
   "cell_type": "code",
   "execution_count": 63,
   "id": "3b391e8a-2f5a-4a2f-b184-6c72c10da8d4",
   "metadata": {},
   "outputs": [
    {
     "data": {
      "text/html": [
       "<table class=\"dataframe\">\n",
       "<caption>A data.table: 6 x 7</caption>\n",
       "<thead>\n",
       "\t<tr><th scope=col>#chr</th><th scope=col>start</th><th scope=col>end</th><th scope=col>gene_id</th><th scope=col>strand</th><th scope=col>gene_name</th><th scope=col>event_ID</th></tr>\n",
       "\t<tr><th scope=col>&lt;chr&gt;</th><th scope=col>&lt;int&gt;</th><th scope=col>&lt;int&gt;</th><th scope=col>&lt;chr&gt;</th><th scope=col>&lt;chr&gt;</th><th scope=col>&lt;chr&gt;</th><th scope=col>&lt;chr&gt;</th></tr>\n",
       "</thead>\n",
       "<tbody>\n",
       "\t<tr><td>chr3</td><td>46921725</td><td>46982009</td><td>ENSG00000160799</td><td>-</td><td>CCDC12</td><td>image_AD1; image_Aging5                            </td></tr>\n",
       "\t<tr><td>chr3</td><td>46979665</td><td>47009703</td><td>ENSG00000160796</td><td>+</td><td>NBEAL2</td><td>image_AD1; image_Aging5                            </td></tr>\n",
       "\t<tr><td>chr3</td><td>47413680</td><td>47477125</td><td>ENSG00000114650</td><td>-</td><td>SCAP  </td><td>image_AD1; image_Aging5                            </td></tr>\n",
       "\t<tr><td>chr3</td><td>47495639</td><td>47513711</td><td>ENSG00000163832</td><td>-</td><td>ELP6  </td><td>image_AD1; image_Aging5                            </td></tr>\n",
       "\t<tr><td>chr7</td><td> 2679521</td><td> 2775499</td><td>ENSG00000174945</td><td>+</td><td>AMZ1  </td><td>image_AD1; image_Aging1; image_Aging4; image_Aging5</td></tr>\n",
       "\t<tr><td>chr7</td><td> 2728104</td><td> 2844307</td><td>ENSG00000146535</td><td>-</td><td>GNA12 </td><td>image_AD1; image_Aging1; image_Aging4; image_Aging5</td></tr>\n",
       "</tbody>\n",
       "</table>\n"
      ],
      "text/latex": [
       "A data.table: 6 x 7\n",
       "\\begin{tabular}{lllllll}\n",
       " \\#chr & start & end & gene\\_id & strand & gene\\_name & event\\_ID\\\\\n",
       " <chr> & <int> & <int> & <chr> & <chr> & <chr> & <chr>\\\\\n",
       "\\hline\n",
       "\t chr3 & 46921725 & 46982009 & ENSG00000160799 & - & CCDC12 & image\\_AD1; image\\_Aging5                            \\\\\n",
       "\t chr3 & 46979665 & 47009703 & ENSG00000160796 & + & NBEAL2 & image\\_AD1; image\\_Aging5                            \\\\\n",
       "\t chr3 & 47413680 & 47477125 & ENSG00000114650 & - & SCAP   & image\\_AD1; image\\_Aging5                            \\\\\n",
       "\t chr3 & 47495639 & 47513711 & ENSG00000163832 & - & ELP6   & image\\_AD1; image\\_Aging5                            \\\\\n",
       "\t chr7 &  2679521 &  2775499 & ENSG00000174945 & + & AMZ1   & image\\_AD1; image\\_Aging1; image\\_Aging4; image\\_Aging5\\\\\n",
       "\t chr7 &  2728104 &  2844307 & ENSG00000146535 & - & GNA12  & image\\_AD1; image\\_Aging1; image\\_Aging4; image\\_Aging5\\\\\n",
       "\\end{tabular}\n"
      ],
      "text/markdown": [
       "\n",
       "A data.table: 6 x 7\n",
       "\n",
       "| #chr &lt;chr&gt; | start &lt;int&gt; | end &lt;int&gt; | gene_id &lt;chr&gt; | strand &lt;chr&gt; | gene_name &lt;chr&gt; | event_ID &lt;chr&gt; |\n",
       "|---|---|---|---|---|---|---|\n",
       "| chr3 | 46921725 | 46982009 | ENSG00000160799 | - | CCDC12 | image_AD1; image_Aging5                             |\n",
       "| chr3 | 46979665 | 47009703 | ENSG00000160796 | + | NBEAL2 | image_AD1; image_Aging5                             |\n",
       "| chr3 | 47413680 | 47477125 | ENSG00000114650 | - | SCAP   | image_AD1; image_Aging5                             |\n",
       "| chr3 | 47495639 | 47513711 | ENSG00000163832 | - | ELP6   | image_AD1; image_Aging5                             |\n",
       "| chr7 |  2679521 |  2775499 | ENSG00000174945 | + | AMZ1   | image_AD1; image_Aging1; image_Aging4; image_Aging5 |\n",
       "| chr7 |  2728104 |  2844307 | ENSG00000146535 | - | GNA12  | image_AD1; image_Aging1; image_Aging4; image_Aging5 |\n",
       "\n"
      ],
      "text/plain": [
       "  #chr start    end      gene_id         strand gene_name\n",
       "1 chr3 46921725 46982009 ENSG00000160799 -      CCDC12   \n",
       "2 chr3 46979665 47009703 ENSG00000160796 +      NBEAL2   \n",
       "3 chr3 47413680 47477125 ENSG00000114650 -      SCAP     \n",
       "4 chr3 47495639 47513711 ENSG00000163832 -      ELP6     \n",
       "5 chr7  2679521  2775499 ENSG00000174945 +      AMZ1     \n",
       "6 chr7  2728104  2844307 ENSG00000146535 -      GNA12    \n",
       "  event_ID                                           \n",
       "1 image_AD1; image_Aging5                            \n",
       "2 image_AD1; image_Aging5                            \n",
       "3 image_AD1; image_Aging5                            \n",
       "4 image_AD1; image_Aging5                            \n",
       "5 image_AD1; image_Aging1; image_Aging4; image_Aging5\n",
       "6 image_AD1; image_Aging1; image_Aging4; image_Aging5"
      ]
     },
     "metadata": {},
     "output_type": "display_data"
    }
   ],
   "source": [
    "intersect(AD1, Aging5)"
   ]
  },
  {
   "cell_type": "code",
   "execution_count": 35,
   "id": "ea17daab-3b3f-4d04-9b12-ba4d5beac9c3",
   "metadata": {},
   "outputs": [
    {
     "data": {
      "text/html": [
       "<table class=\"dataframe\">\n",
       "<caption>A data.table: 1 x 7</caption>\n",
       "<thead>\n",
       "\t<tr><th scope=col>#chr</th><th scope=col>start</th><th scope=col>end</th><th scope=col>gene_id</th><th scope=col>strand</th><th scope=col>gene_name</th><th scope=col>event_ID</th></tr>\n",
       "\t<tr><th scope=col>&lt;chr&gt;</th><th scope=col>&lt;int&gt;</th><th scope=col>&lt;int&gt;</th><th scope=col>&lt;chr&gt;</th><th scope=col>&lt;chr&gt;</th><th scope=col>&lt;chr&gt;</th><th scope=col>&lt;chr&gt;</th></tr>\n",
       "</thead>\n",
       "<tbody>\n",
       "\t<tr><td>chr6</td><td>126340114</td><td>126348874</td><td>ENSG00000203760</td><td>+</td><td>CENPW</td><td>image_Aging1; image_Aging2; image_Aging3; image_Aging5</td></tr>\n",
       "</tbody>\n",
       "</table>\n"
      ],
      "text/latex": [
       "A data.table: 1 x 7\n",
       "\\begin{tabular}{lllllll}\n",
       " \\#chr & start & end & gene\\_id & strand & gene\\_name & event\\_ID\\\\\n",
       " <chr> & <int> & <int> & <chr> & <chr> & <chr> & <chr>\\\\\n",
       "\\hline\n",
       "\t chr6 & 126340114 & 126348874 & ENSG00000203760 & + & CENPW & image\\_Aging1; image\\_Aging2; image\\_Aging3; image\\_Aging5\\\\\n",
       "\\end{tabular}\n"
      ],
      "text/markdown": [
       "\n",
       "A data.table: 1 x 7\n",
       "\n",
       "| #chr &lt;chr&gt; | start &lt;int&gt; | end &lt;int&gt; | gene_id &lt;chr&gt; | strand &lt;chr&gt; | gene_name &lt;chr&gt; | event_ID &lt;chr&gt; |\n",
       "|---|---|---|---|---|---|---|\n",
       "| chr6 | 126340114 | 126348874 | ENSG00000203760 | + | CENPW | image_Aging1; image_Aging2; image_Aging3; image_Aging5 |\n",
       "\n"
      ],
      "text/plain": [
       "  #chr start     end       gene_id         strand gene_name\n",
       "1 chr6 126340114 126348874 ENSG00000203760 +      CENPW    \n",
       "  event_ID                                              \n",
       "1 image_Aging1; image_Aging2; image_Aging3; image_Aging5"
      ]
     },
     "metadata": {},
     "output_type": "display_data"
    }
   ],
   "source": [
    "intersect(Aging3, Aging5)"
   ]
  },
  {
   "cell_type": "markdown",
   "id": "9d80a576-7c37-4c5c-bfb7-8de6688d91f2",
   "metadata": {},
   "source": [
    "CENPV is deubiquitylated by CYLD and localizes in interphase to primary cilia where it increases the ciliary levels of acetylated α-tubulin.\n",
    "Cenpj, a protein that is required for centriole biogenesis, plays a role in regulating cilium disassembly in vivo..\n",
    "CENPW's role in cillia is less direct and well-characterized."
   ]
  },
  {
   "cell_type": "code",
   "execution_count": 43,
   "id": "b40b7583-1cb2-4d6f-8d98-f42b902515ab",
   "metadata": {},
   "outputs": [
    {
     "data": {
      "text/html": [
       "<table class=\"dataframe\">\n",
       "<caption>A data.table: 2 x 7</caption>\n",
       "<thead>\n",
       "\t<tr><th scope=col>#chr</th><th scope=col>start</th><th scope=col>end</th><th scope=col>gene_id</th><th scope=col>strand</th><th scope=col>gene_name</th><th scope=col>event_ID</th></tr>\n",
       "\t<tr><th scope=col>&lt;chr&gt;</th><th scope=col>&lt;int&gt;</th><th scope=col>&lt;int&gt;</th><th scope=col>&lt;chr&gt;</th><th scope=col>&lt;chr&gt;</th><th scope=col>&lt;chr&gt;</th><th scope=col>&lt;chr&gt;</th></tr>\n",
       "</thead>\n",
       "<tbody>\n",
       "\t<tr><td>chr20</td><td>35302565</td><td>35412030</td><td>ENSG00000101019</td><td>-</td><td>UQCC1</td><td>image_AD1; image_AD2</td></tr>\n",
       "\t<tr><td>chr20</td><td>35433346</td><td>35454745</td><td>ENSG00000125965</td><td>-</td><td>GDF5 </td><td>image_AD1; image_AD2</td></tr>\n",
       "</tbody>\n",
       "</table>\n"
      ],
      "text/latex": [
       "A data.table: 2 x 7\n",
       "\\begin{tabular}{lllllll}\n",
       " \\#chr & start & end & gene\\_id & strand & gene\\_name & event\\_ID\\\\\n",
       " <chr> & <int> & <int> & <chr> & <chr> & <chr> & <chr>\\\\\n",
       "\\hline\n",
       "\t chr20 & 35302565 & 35412030 & ENSG00000101019 & - & UQCC1 & image\\_AD1; image\\_AD2\\\\\n",
       "\t chr20 & 35433346 & 35454745 & ENSG00000125965 & - & GDF5  & image\\_AD1; image\\_AD2\\\\\n",
       "\\end{tabular}\n"
      ],
      "text/markdown": [
       "\n",
       "A data.table: 2 x 7\n",
       "\n",
       "| #chr &lt;chr&gt; | start &lt;int&gt; | end &lt;int&gt; | gene_id &lt;chr&gt; | strand &lt;chr&gt; | gene_name &lt;chr&gt; | event_ID &lt;chr&gt; |\n",
       "|---|---|---|---|---|---|---|\n",
       "| chr20 | 35302565 | 35412030 | ENSG00000101019 | - | UQCC1 | image_AD1; image_AD2 |\n",
       "| chr20 | 35433346 | 35454745 | ENSG00000125965 | - | GDF5  | image_AD1; image_AD2 |\n",
       "\n"
      ],
      "text/plain": [
       "  #chr  start    end      gene_id         strand gene_name event_ID            \n",
       "1 chr20 35302565 35412030 ENSG00000101019 -      UQCC1     image_AD1; image_AD2\n",
       "2 chr20 35433346 35454745 ENSG00000125965 -      GDF5      image_AD1; image_AD2"
      ]
     },
     "metadata": {},
     "output_type": "display_data"
    }
   ],
   "source": [
    "intersect(AD1, AD2)"
   ]
  },
  {
   "cell_type": "code",
   "execution_count": null,
   "id": "d0bfdeae-af88-40cf-a4e7-4ee17ff27261",
   "metadata": {},
   "outputs": [],
   "source": [
    "no overlap between AD2 and image_Aging1, Aging3 or Aging5"
   ]
  },
  {
   "cell_type": "code",
   "execution_count": 71,
   "id": "f7a874af-c258-4ebf-81d9-1acb19f03447",
   "metadata": {},
   "outputs": [
    {
     "data": {
      "text/html": [
       "<table class=\"dataframe\">\n",
       "<caption>A data.table: 0 x 7</caption>\n",
       "<thead>\n",
       "\t<tr><th scope=col>#chr</th><th scope=col>start</th><th scope=col>end</th><th scope=col>gene_id</th><th scope=col>strand</th><th scope=col>gene_name</th><th scope=col>event_ID</th></tr>\n",
       "\t<tr><th scope=col>&lt;chr&gt;</th><th scope=col>&lt;int&gt;</th><th scope=col>&lt;int&gt;</th><th scope=col>&lt;chr&gt;</th><th scope=col>&lt;chr&gt;</th><th scope=col>&lt;chr&gt;</th><th scope=col>&lt;chr&gt;</th></tr>\n",
       "</thead>\n",
       "<tbody>\n",
       "</tbody>\n",
       "</table>\n"
      ],
      "text/latex": [
       "A data.table: 0 x 7\n",
       "\\begin{tabular}{lllllll}\n",
       " \\#chr & start & end & gene\\_id & strand & gene\\_name & event\\_ID\\\\\n",
       " <chr> & <int> & <int> & <chr> & <chr> & <chr> & <chr>\\\\\n",
       "\\hline\n",
       "\\end{tabular}\n"
      ],
      "text/markdown": [
       "\n",
       "A data.table: 0 x 7\n",
       "\n",
       "| #chr &lt;chr&gt; | start &lt;int&gt; | end &lt;int&gt; | gene_id &lt;chr&gt; | strand &lt;chr&gt; | gene_name &lt;chr&gt; | event_ID &lt;chr&gt; |\n",
       "|---|---|---|---|---|---|---|\n",
       "\n"
      ],
      "text/plain": [
       "     #chr start end gene_id strand gene_name event_ID"
      ]
     },
     "metadata": {},
     "output_type": "display_data"
    }
   ],
   "source": [
    "intersect(Aging1, AD2)"
   ]
  },
  {
   "cell_type": "code",
   "execution_count": 46,
   "id": "d136fa09-d764-4d00-9078-3b3f29038e37",
   "metadata": {},
   "outputs": [
    {
     "data": {
      "text/html": [
       "<table class=\"dataframe\">\n",
       "<caption>A data.table: 7 x 7</caption>\n",
       "<thead>\n",
       "\t<tr><th scope=col>#chr</th><th scope=col>start</th><th scope=col>end</th><th scope=col>gene_id</th><th scope=col>strand</th><th scope=col>gene_name</th><th scope=col>event_ID</th></tr>\n",
       "\t<tr><th scope=col>&lt;chr&gt;</th><th scope=col>&lt;int&gt;</th><th scope=col>&lt;int&gt;</th><th scope=col>&lt;chr&gt;</th><th scope=col>&lt;chr&gt;</th><th scope=col>&lt;chr&gt;</th><th scope=col>&lt;chr&gt;</th></tr>\n",
       "</thead>\n",
       "<tbody>\n",
       "\t<tr><td>chr5 </td><td> 66596360</td><td> 67169594</td><td>ENSG00000069020</td><td>+</td><td>MAST4         </td><td>image_AD2; image_Aging2                                                          </td></tr>\n",
       "\t<tr><td>chr5 </td><td> 83471673</td><td> 83582302</td><td>ENSG00000038427</td><td>+</td><td>VCAN          </td><td>image_AD2; image_Aging2                                                          </td></tr>\n",
       "\t<tr><td>chr5 </td><td>151029944</td><td>151093576</td><td>ENSG00000145901</td><td>-</td><td>TNIP1         </td><td>image_AD2; image_Aging2; AD_Wightman_Full_2021; AD_Wightman_Excluding23andMe_2021</td></tr>\n",
       "\t<tr><td>chr13</td><td> 36168216</td><td> 36214587</td><td>ENSG00000120669</td><td>-</td><td>SOHLH2        </td><td>image_AD2; image_Aging2                                                          </td></tr>\n",
       "\t<tr><td>chr13</td><td> 36168793</td><td> 36297841</td><td>ENSG00000250709</td><td>-</td><td>CCDC169-SOHLH2</td><td>image_AD2; image_Aging2                                                          </td></tr>\n",
       "\t<tr><td>chr13</td><td> 36222007</td><td> 36297839</td><td>ENSG00000242715</td><td>-</td><td>CCDC169       </td><td>image_AD2; image_Aging2                                                          </td></tr>\n",
       "\t<tr><td>chr13</td><td> 36301637</td><td> 36370179</td><td>ENSG00000133104</td><td>-</td><td>SPART         </td><td>image_AD2; image_Aging2                                                          </td></tr>\n",
       "</tbody>\n",
       "</table>\n"
      ],
      "text/latex": [
       "A data.table: 7 x 7\n",
       "\\begin{tabular}{lllllll}\n",
       " \\#chr & start & end & gene\\_id & strand & gene\\_name & event\\_ID\\\\\n",
       " <chr> & <int> & <int> & <chr> & <chr> & <chr> & <chr>\\\\\n",
       "\\hline\n",
       "\t chr5  &  66596360 &  67169594 & ENSG00000069020 & + & MAST4          & image\\_AD2; image\\_Aging2                                                          \\\\\n",
       "\t chr5  &  83471673 &  83582302 & ENSG00000038427 & + & VCAN           & image\\_AD2; image\\_Aging2                                                          \\\\\n",
       "\t chr5  & 151029944 & 151093576 & ENSG00000145901 & - & TNIP1          & image\\_AD2; image\\_Aging2; AD\\_Wightman\\_Full\\_2021; AD\\_Wightman\\_Excluding23andMe\\_2021\\\\\n",
       "\t chr13 &  36168216 &  36214587 & ENSG00000120669 & - & SOHLH2         & image\\_AD2; image\\_Aging2                                                          \\\\\n",
       "\t chr13 &  36168793 &  36297841 & ENSG00000250709 & - & CCDC169-SOHLH2 & image\\_AD2; image\\_Aging2                                                          \\\\\n",
       "\t chr13 &  36222007 &  36297839 & ENSG00000242715 & - & CCDC169        & image\\_AD2; image\\_Aging2                                                          \\\\\n",
       "\t chr13 &  36301637 &  36370179 & ENSG00000133104 & - & SPART          & image\\_AD2; image\\_Aging2                                                          \\\\\n",
       "\\end{tabular}\n"
      ],
      "text/markdown": [
       "\n",
       "A data.table: 7 x 7\n",
       "\n",
       "| #chr &lt;chr&gt; | start &lt;int&gt; | end &lt;int&gt; | gene_id &lt;chr&gt; | strand &lt;chr&gt; | gene_name &lt;chr&gt; | event_ID &lt;chr&gt; |\n",
       "|---|---|---|---|---|---|---|\n",
       "| chr5  |  66596360 |  67169594 | ENSG00000069020 | + | MAST4          | image_AD2; image_Aging2                                                           |\n",
       "| chr5  |  83471673 |  83582302 | ENSG00000038427 | + | VCAN           | image_AD2; image_Aging2                                                           |\n",
       "| chr5  | 151029944 | 151093576 | ENSG00000145901 | - | TNIP1          | image_AD2; image_Aging2; AD_Wightman_Full_2021; AD_Wightman_Excluding23andMe_2021 |\n",
       "| chr13 |  36168216 |  36214587 | ENSG00000120669 | - | SOHLH2         | image_AD2; image_Aging2                                                           |\n",
       "| chr13 |  36168793 |  36297841 | ENSG00000250709 | - | CCDC169-SOHLH2 | image_AD2; image_Aging2                                                           |\n",
       "| chr13 |  36222007 |  36297839 | ENSG00000242715 | - | CCDC169        | image_AD2; image_Aging2                                                           |\n",
       "| chr13 |  36301637 |  36370179 | ENSG00000133104 | - | SPART          | image_AD2; image_Aging2                                                           |\n",
       "\n"
      ],
      "text/plain": [
       "  #chr  start     end       gene_id         strand gene_name     \n",
       "1 chr5   66596360  67169594 ENSG00000069020 +      MAST4         \n",
       "2 chr5   83471673  83582302 ENSG00000038427 +      VCAN          \n",
       "3 chr5  151029944 151093576 ENSG00000145901 -      TNIP1         \n",
       "4 chr13  36168216  36214587 ENSG00000120669 -      SOHLH2        \n",
       "5 chr13  36168793  36297841 ENSG00000250709 -      CCDC169-SOHLH2\n",
       "6 chr13  36222007  36297839 ENSG00000242715 -      CCDC169       \n",
       "7 chr13  36301637  36370179 ENSG00000133104 -      SPART         \n",
       "  event_ID                                                                         \n",
       "1 image_AD2; image_Aging2                                                          \n",
       "2 image_AD2; image_Aging2                                                          \n",
       "3 image_AD2; image_Aging2; AD_Wightman_Full_2021; AD_Wightman_Excluding23andMe_2021\n",
       "4 image_AD2; image_Aging2                                                          \n",
       "5 image_AD2; image_Aging2                                                          \n",
       "6 image_AD2; image_Aging2                                                          \n",
       "7 image_AD2; image_Aging2                                                          "
      ]
     },
     "metadata": {},
     "output_type": "display_data"
    }
   ],
   "source": [
    "intersect(Aging2, AD2)"
   ]
  },
  {
   "cell_type": "markdown",
   "id": "6c22b606-d90c-4432-879a-7bd1bf8674bd",
   "metadata": {},
   "source": [
    "Loss-of-function mutations in the SPART gene cause Troyer syndrome, a recessive form of spastic paraplegia resulting in muscle weakness, short stature, and cognitive defects. SPART encodes for Spartin, a protein linked to endosomal trafficking and mitochondrial membrane potential maintenance. Here, we identified with whole exome sequencing (WES) a novel frameshift mutation in the SPART gene in 2 brothers presenting an uncharacterized developmental delay and short stature. Functional characterization in an SH-SY5Y cell model shows that this mutation is associated with increased neurite outgrowth. These cells also show a marked decrease in mitochondrial complex I (NADH dehydrogenase) activity, coupled to decreased ATP synthesis and defective mitochondrial membrane potential. The cells also presented an increase in reactive oxygen species, extracellular pyruvate, and NADH levels, consistent with impaired complex I activity. In concordance with a severe mitochondrial failure, Spartin loss also led to an altered intracellular Ca2+ homeostasis that was restored after transient expression of wild-type Spartin. "
   ]
  },
  {
   "cell_type": "code",
   "execution_count": 69,
   "id": "c37ab69e-c800-4cee-aa62-ffd8164b7cf1",
   "metadata": {},
   "outputs": [
    {
     "data": {
      "text/html": [
       "<table class=\"dataframe\">\n",
       "<caption>A data.table: 0 x 7</caption>\n",
       "<thead>\n",
       "\t<tr><th scope=col>#chr</th><th scope=col>start</th><th scope=col>end</th><th scope=col>gene_id</th><th scope=col>strand</th><th scope=col>gene_name</th><th scope=col>event_ID</th></tr>\n",
       "\t<tr><th scope=col>&lt;chr&gt;</th><th scope=col>&lt;int&gt;</th><th scope=col>&lt;int&gt;</th><th scope=col>&lt;chr&gt;</th><th scope=col>&lt;chr&gt;</th><th scope=col>&lt;chr&gt;</th><th scope=col>&lt;chr&gt;</th></tr>\n",
       "</thead>\n",
       "<tbody>\n",
       "</tbody>\n",
       "</table>\n"
      ],
      "text/latex": [
       "A data.table: 0 x 7\n",
       "\\begin{tabular}{lllllll}\n",
       " \\#chr & start & end & gene\\_id & strand & gene\\_name & event\\_ID\\\\\n",
       " <chr> & <int> & <int> & <chr> & <chr> & <chr> & <chr>\\\\\n",
       "\\hline\n",
       "\\end{tabular}\n"
      ],
      "text/markdown": [
       "\n",
       "A data.table: 0 x 7\n",
       "\n",
       "| #chr &lt;chr&gt; | start &lt;int&gt; | end &lt;int&gt; | gene_id &lt;chr&gt; | strand &lt;chr&gt; | gene_name &lt;chr&gt; | event_ID &lt;chr&gt; |\n",
       "|---|---|---|---|---|---|---|\n",
       "\n"
      ],
      "text/plain": [
       "     #chr start end gene_id strand gene_name event_ID"
      ]
     },
     "metadata": {},
     "output_type": "display_data"
    }
   ],
   "source": [
    "intersect(Aging3, AD2)"
   ]
  },
  {
   "cell_type": "code",
   "execution_count": 65,
   "id": "200ecaff-5d59-4bb4-abcd-bec13d44d850",
   "metadata": {},
   "outputs": [
    {
     "data": {
      "text/html": [
       "<table class=\"dataframe\">\n",
       "<caption>A data.table: 10 x 7</caption>\n",
       "<thead>\n",
       "\t<tr><th scope=col>#chr</th><th scope=col>start</th><th scope=col>end</th><th scope=col>gene_id</th><th scope=col>strand</th><th scope=col>gene_name</th><th scope=col>event_ID</th></tr>\n",
       "\t<tr><th scope=col>&lt;chr&gt;</th><th scope=col>&lt;int&gt;</th><th scope=col>&lt;int&gt;</th><th scope=col>&lt;chr&gt;</th><th scope=col>&lt;chr&gt;</th><th scope=col>&lt;chr&gt;</th><th scope=col>&lt;chr&gt;</th></tr>\n",
       "</thead>\n",
       "<tbody>\n",
       "\t<tr><td>chr1 </td><td>236215100</td><td>236281957</td><td>ENSG00000086619</td><td>-</td><td>ERO1B  </td><td>image_AD2; image_Aging4</td></tr>\n",
       "\t<tr><td>chr5 </td><td> 78002325</td><td> 78294697</td><td>ENSG00000132842</td><td>-</td><td>AP3B1  </td><td>image_AD2; image_Aging4</td></tr>\n",
       "\t<tr><td>chr12</td><td> 56222014</td><td> 56229853</td><td>ENSG00000139579</td><td>+</td><td>NABP2  </td><td>image_AD2; image_Aging4</td></tr>\n",
       "\t<tr><td>chr12</td><td> 56237806</td><td> 56258383</td><td>ENSG00000139645</td><td>-</td><td>ANKRD52</td><td>image_AD2; image_Aging4</td></tr>\n",
       "\t<tr><td>chr12</td><td> 56266941</td><td> 56270965</td><td>ENSG00000135469</td><td>+</td><td>COQ10A </td><td>image_AD2; image_Aging4</td></tr>\n",
       "\t<tr><td>chr12</td><td> 56271698</td><td> 56300390</td><td>ENSG00000062485</td><td>-</td><td>CS     </td><td>image_AD2; image_Aging4</td></tr>\n",
       "\t<tr><td>chr12</td><td> 56309841</td><td> 56316118</td><td>ENSG00000257727</td><td>-</td><td>CNPY2  </td><td>image_AD2; image_Aging4</td></tr>\n",
       "\t<tr><td>chr12</td><td> 56316222</td><td> 56334052</td><td>ENSG00000135473</td><td>-</td><td>PAN2   </td><td>image_AD2; image_Aging4</td></tr>\n",
       "\t<tr><td>chr12</td><td> 56334173</td><td> 56340409</td><td>ENSG00000110944</td><td>+</td><td>IL23A  </td><td>image_AD2; image_Aging4</td></tr>\n",
       "\t<tr><td>chr12</td><td> 56341596</td><td> 56360141</td><td>ENSG00000170581</td><td>-</td><td>STAT2  </td><td>image_AD2; image_Aging4</td></tr>\n",
       "</tbody>\n",
       "</table>\n"
      ],
      "text/latex": [
       "A data.table: 10 x 7\n",
       "\\begin{tabular}{lllllll}\n",
       " \\#chr & start & end & gene\\_id & strand & gene\\_name & event\\_ID\\\\\n",
       " <chr> & <int> & <int> & <chr> & <chr> & <chr> & <chr>\\\\\n",
       "\\hline\n",
       "\t chr1  & 236215100 & 236281957 & ENSG00000086619 & - & ERO1B   & image\\_AD2; image\\_Aging4\\\\\n",
       "\t chr5  &  78002325 &  78294697 & ENSG00000132842 & - & AP3B1   & image\\_AD2; image\\_Aging4\\\\\n",
       "\t chr12 &  56222014 &  56229853 & ENSG00000139579 & + & NABP2   & image\\_AD2; image\\_Aging4\\\\\n",
       "\t chr12 &  56237806 &  56258383 & ENSG00000139645 & - & ANKRD52 & image\\_AD2; image\\_Aging4\\\\\n",
       "\t chr12 &  56266941 &  56270965 & ENSG00000135469 & + & COQ10A  & image\\_AD2; image\\_Aging4\\\\\n",
       "\t chr12 &  56271698 &  56300390 & ENSG00000062485 & - & CS      & image\\_AD2; image\\_Aging4\\\\\n",
       "\t chr12 &  56309841 &  56316118 & ENSG00000257727 & - & CNPY2   & image\\_AD2; image\\_Aging4\\\\\n",
       "\t chr12 &  56316222 &  56334052 & ENSG00000135473 & - & PAN2    & image\\_AD2; image\\_Aging4\\\\\n",
       "\t chr12 &  56334173 &  56340409 & ENSG00000110944 & + & IL23A   & image\\_AD2; image\\_Aging4\\\\\n",
       "\t chr12 &  56341596 &  56360141 & ENSG00000170581 & - & STAT2   & image\\_AD2; image\\_Aging4\\\\\n",
       "\\end{tabular}\n"
      ],
      "text/markdown": [
       "\n",
       "A data.table: 10 x 7\n",
       "\n",
       "| #chr &lt;chr&gt; | start &lt;int&gt; | end &lt;int&gt; | gene_id &lt;chr&gt; | strand &lt;chr&gt; | gene_name &lt;chr&gt; | event_ID &lt;chr&gt; |\n",
       "|---|---|---|---|---|---|---|\n",
       "| chr1  | 236215100 | 236281957 | ENSG00000086619 | - | ERO1B   | image_AD2; image_Aging4 |\n",
       "| chr5  |  78002325 |  78294697 | ENSG00000132842 | - | AP3B1   | image_AD2; image_Aging4 |\n",
       "| chr12 |  56222014 |  56229853 | ENSG00000139579 | + | NABP2   | image_AD2; image_Aging4 |\n",
       "| chr12 |  56237806 |  56258383 | ENSG00000139645 | - | ANKRD52 | image_AD2; image_Aging4 |\n",
       "| chr12 |  56266941 |  56270965 | ENSG00000135469 | + | COQ10A  | image_AD2; image_Aging4 |\n",
       "| chr12 |  56271698 |  56300390 | ENSG00000062485 | - | CS      | image_AD2; image_Aging4 |\n",
       "| chr12 |  56309841 |  56316118 | ENSG00000257727 | - | CNPY2   | image_AD2; image_Aging4 |\n",
       "| chr12 |  56316222 |  56334052 | ENSG00000135473 | - | PAN2    | image_AD2; image_Aging4 |\n",
       "| chr12 |  56334173 |  56340409 | ENSG00000110944 | + | IL23A   | image_AD2; image_Aging4 |\n",
       "| chr12 |  56341596 |  56360141 | ENSG00000170581 | - | STAT2   | image_AD2; image_Aging4 |\n",
       "\n"
      ],
      "text/plain": [
       "   #chr  start     end       gene_id         strand gene_name\n",
       "1  chr1  236215100 236281957 ENSG00000086619 -      ERO1B    \n",
       "2  chr5   78002325  78294697 ENSG00000132842 -      AP3B1    \n",
       "3  chr12  56222014  56229853 ENSG00000139579 +      NABP2    \n",
       "4  chr12  56237806  56258383 ENSG00000139645 -      ANKRD52  \n",
       "5  chr12  56266941  56270965 ENSG00000135469 +      COQ10A   \n",
       "6  chr12  56271698  56300390 ENSG00000062485 -      CS       \n",
       "7  chr12  56309841  56316118 ENSG00000257727 -      CNPY2    \n",
       "8  chr12  56316222  56334052 ENSG00000135473 -      PAN2     \n",
       "9  chr12  56334173  56340409 ENSG00000110944 +      IL23A    \n",
       "10 chr12  56341596  56360141 ENSG00000170581 -      STAT2    \n",
       "   event_ID               \n",
       "1  image_AD2; image_Aging4\n",
       "2  image_AD2; image_Aging4\n",
       "3  image_AD2; image_Aging4\n",
       "4  image_AD2; image_Aging4\n",
       "5  image_AD2; image_Aging4\n",
       "6  image_AD2; image_Aging4\n",
       "7  image_AD2; image_Aging4\n",
       "8  image_AD2; image_Aging4\n",
       "9  image_AD2; image_Aging4\n",
       "10 image_AD2; image_Aging4"
      ]
     },
     "metadata": {},
     "output_type": "display_data"
    }
   ],
   "source": [
    "intersect(Aging4, AD2)"
   ]
  },
  {
   "cell_type": "code",
   "execution_count": 70,
   "id": "4d334372-96f0-433d-97a2-4cb424bc39e9",
   "metadata": {},
   "outputs": [
    {
     "data": {
      "text/html": [
       "<table class=\"dataframe\">\n",
       "<caption>A data.table: 0 x 7</caption>\n",
       "<thead>\n",
       "\t<tr><th scope=col>#chr</th><th scope=col>start</th><th scope=col>end</th><th scope=col>gene_id</th><th scope=col>strand</th><th scope=col>gene_name</th><th scope=col>event_ID</th></tr>\n",
       "\t<tr><th scope=col>&lt;chr&gt;</th><th scope=col>&lt;int&gt;</th><th scope=col>&lt;int&gt;</th><th scope=col>&lt;chr&gt;</th><th scope=col>&lt;chr&gt;</th><th scope=col>&lt;chr&gt;</th><th scope=col>&lt;chr&gt;</th></tr>\n",
       "</thead>\n",
       "<tbody>\n",
       "</tbody>\n",
       "</table>\n"
      ],
      "text/latex": [
       "A data.table: 0 x 7\n",
       "\\begin{tabular}{lllllll}\n",
       " \\#chr & start & end & gene\\_id & strand & gene\\_name & event\\_ID\\\\\n",
       " <chr> & <int> & <int> & <chr> & <chr> & <chr> & <chr>\\\\\n",
       "\\hline\n",
       "\\end{tabular}\n"
      ],
      "text/markdown": [
       "\n",
       "A data.table: 0 x 7\n",
       "\n",
       "| #chr &lt;chr&gt; | start &lt;int&gt; | end &lt;int&gt; | gene_id &lt;chr&gt; | strand &lt;chr&gt; | gene_name &lt;chr&gt; | event_ID &lt;chr&gt; |\n",
       "|---|---|---|---|---|---|---|\n",
       "\n"
      ],
      "text/plain": [
       "     #chr start end gene_id strand gene_name event_ID"
      ]
     },
     "metadata": {},
     "output_type": "display_data"
    }
   ],
   "source": [
    "intersect(Aging5, AD2)"
   ]
  },
  {
   "cell_type": "code",
   "execution_count": null,
   "id": "fb743c93-f7e7-4855-9d7e-a71f8db62c23",
   "metadata": {},
   "outputs": [],
   "source": []
  },
  {
   "cell_type": "code",
   "execution_count": 9,
   "id": "8518f80b-f7d9-47c4-a591-3b10d4dbee54",
   "metadata": {},
   "outputs": [
    {
     "name": "stdout",
     "output_type": "stream",
     "text": [
      "List of 7\n",
      " $ AD1   : chr [1:33] \"ARL4C\" \"CCDC12\" \"NBEAL2\" \"SCAP\" ...\n",
      " $ AD2   : chr [1:41] \"ERO1B\" \"DIS3L2\" \"MAST4\" \"AP3B1\" ...\n",
      " $ Aging1: chr [1:70] \"CD101\" \"ZIC4\" \"ZIC1\" \"IGFBP7\" ...\n",
      " $ Aging2: chr [1:44] \"MAST2\" \"DOCK10\" \"ARL4C\" \"MAST4\" ...\n",
      " $ Aging3: chr [1:49] \"HSPG2\" \"CDC42\" \"SPTBN1\" \"UGT2B7\" ...\n",
      " $ Aging4: chr [1:38] \"RAB29\" \"SLC41A1\" \"PM20D1\" \"SLC26A9\" ...\n",
      " $ Aging5: chr [1:64] \"RGPD4\" \"SULT1C4\" \"GCC2\" \"LIMS1\" ...\n",
      "UpSetR plot created successfully\n"
     ]
    }
   ],
   "source": [
    "library(UpSetR)\n",
    "# Create named list of gene sets\n",
    "gene_sets <- list(\n",
    "  \"AD1\" = AD1_gene,\n",
    "  \"AD2\" = AD2_gene, \n",
    "  \"Aging1\" = Aging1_gene,\n",
    "  \"Aging2\" = Aging2_gene,\n",
    "  \"Aging3\" = Aging3_gene,\n",
    "  \"Aging4\" = Aging4_gene,\n",
    "  \"Aging5\" = Aging5_gene,\n",
    "  \"AD\" = AD_gene,\n",
    "  \"Telomere_Length_PC1\" = TL1_gene,\n",
    "  \"mvAge\" = mvAge_gene,\n",
    "  \"PD\" = PD_gene\n",
    ")\n",
    "\n",
    "# Remove any NA values\n",
    "gene_sets <- lapply(gene_sets, function(x) x[!is.na(x)])\n",
    "# Convert to binary matrix for UpSet plot\n",
    "all_genes <- unique(unlist(gene_sets))\n",
    "upset_data <- data.frame(gene = all_genes)\n",
    "\n",
    "for(set_name in names(gene_sets)) {\n",
    "  upset_data[[set_name]] <- upset_data$gene %in% gene_sets[[set_name]]\n",
    "}\n",
    "str(gene_sets)\n",
    "# Convert to proper format for UpSetR\n",
    "upset_r_data <- upset_data\n",
    "# Remove the 'gene' column and convert to 0/1 instead of TRUE/FALSE\n",
    "upset_r_data <- upset_r_data[, -1]  # Remove gene column\n",
    "upset_r_data <- as.data.frame(lapply(upset_r_data, as.numeric))\n",
    "\n",
    "# Add row names if needed\n",
    "rownames(upset_r_data) <- upset_data$gene\n",
    "\n",
    "# Create UpSetR plot with proper error handling\n",
    "tryCatch({\n",
    "  upset_r_plot <- upset(upset_r_data, \n",
    "                       sets = names(gene_sets),\n",
    "                       order.by = \"freq\",\n",
    "                       decreasing = TRUE,\n",
    "                       mb.ratio = c(0.6, 0.4),\n",
    "                       number.angles = 0,\n",
    "                       text.scale = 1.2,\n",
    "                       point.size = 3,\n",
    "                       line.size = 1.5,\n",
    "                       mainbar.y.label = \"Intersection Size\",\n",
    "                       sets.x.label = \"Gene Set Size\",\n",
    "                       sets.bar.color = \"steelblue\",\n",
    "                       main.bar.color = \"darkblue\")\n",
    "  \n",
    "  cat(\"UpSetR plot created successfully\\n\")\n",
    "}, error = function(e) {\n",
    "  cat(\"UpSetR failed, using alternative method\\n\")\n",
    "  \n",
    "  # Alternative: Create a simple intersection matrix\n",
    "  intersection_matrix <- matrix(0, nrow = length(unique(DNE$gene_name)), ncol = length(gene_sets))\n",
    "  rownames(intersection_matrix) <- unique(DNE$gene_name)\n",
    "  colnames(intersection_matrix) <- names(gene_sets)\n",
    "  \n",
    "  for(i in 1:length(gene_sets)) {\n",
    "    intersection_matrix[unique(DNE$gene_name) %in% gene_sets[[i]], i] <- 1\n",
    "  }\n",
    "  \n",
    "  print(head(intersection_matrix))\n",
    "})\n"
   ]
  },
  {
   "cell_type": "code",
   "execution_count": 10,
   "id": "a7276320-42d6-4d75-a5dd-f56fa9f52215",
   "metadata": {},
   "outputs": [
    {
     "data": {
      "text/html": [
       "<strong>agg_record_377749310:</strong> 2"
      ],
      "text/latex": [
       "\\textbf{agg\\textbackslash{}\\_record\\textbackslash{}\\_377749310:} 2"
      ],
      "text/markdown": [
       "**agg_record_377749310:** 2"
      ],
      "text/plain": [
       "agg_record_377749310 \n",
       "                   2 "
      ]
     },
     "metadata": {},
     "output_type": "display_data"
    }
   ],
   "source": [
    "png(\"~/xqtl-analysis/production/image_QTL/interested_genes/CB_M1/DNE/all_gene_overlap_upset_plot.png\", width = 12, height = 8, units = \"in\", res = 300)\n",
    "print(upset_r_plot)\n",
    "dev.off()\n"
   ]
  },
  {
   "cell_type": "code",
   "execution_count": null,
   "id": "66bcd36d-a664-4341-92e0-680a38a92875",
   "metadata": {},
   "outputs": [],
   "source": []
  }
 ],
 "metadata": {
  "kernelspec": {
   "display_name": "R",
   "language": "R",
   "name": "ir"
  },
  "language_info": {
   "codemirror_mode": "r",
   "file_extension": ".r",
   "mimetype": "text/x-r-source",
   "name": "R",
   "pygments_lexer": "r",
   "version": "4.3.3"
  }
 },
 "nbformat": 4,
 "nbformat_minor": 5
}
