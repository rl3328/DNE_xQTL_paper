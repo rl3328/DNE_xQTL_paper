{
 "cells": [
  {
   "cell_type": "code",
   "execution_count": 1,
   "id": "fe716014-6c08-42cc-abe2-e1cb0cac8e38",
   "metadata": {},
   "outputs": [
    {
     "name": "stderr",
     "output_type": "stream",
     "text": [
      "'getOption(\"repos\")' replaces Bioconductor standard repositories, see\n",
      "'help(\"repositories\", package = \"BiocManager\")' for details.\n",
      "Replacement repositories:\n",
      "    CRAN: https://cran.r-project.org\n",
      "\n",
      "Bioconductor version 3.18 (BiocManager 1.30.26), R 4.3.3 (2024-02-29)\n",
      "\n",
      "Warning message:\n",
      "\"package(s) not installed when version(s) same as or greater than current; use\n",
      "  `force = TRUE` to re-install: 'GenomicRanges' 'GenomicFeatures'\n",
      "  'TxDb.Hsapiens.UCSC.hg38.knownGene' 'org.Hs.eg.db' 'biomaRt'\n",
      "  'EnsDb.Hsapiens.v86'\"\n",
      "Old packages: 'AnnotationHub', 'BSgenome', 'BiocFileCache', 'Biostrings',\n",
      "  'GOSemSim', 'GenomeInfoDb', 'GenomicAlignments', 'HDF5Array', 'MBSP',\n",
      "  'MOFA2', 'RSQLite', 'RcppArmadillo', 'RcppParallel', 'Rfast', 'Rhdf5lib',\n",
      "  'Rhtslib', 'S4Arrays', 'SparseArray', 'XML', 'basilisk', 'beachmat',\n",
      "  'bigsnpr', 'caret', 'crosstalk', 'curl', 'dqrng', 'evaluate', 'gert',\n",
      "  'ggiraph', 'ggpattern', 'ggraph', 'ggridges', 'ggtree', 'gower',\n",
      "  'gwasrapidd', 'hardhat', 'later', 'leidenbase', 'patchwork', 'pgenlibr',\n",
      "  'psichomics', 'restfulr', 'rprojroot', 's2', 'sf', 'shadowtext', 'susieR',\n",
      "  'tidygraph', 'unigd', 'xml2', 'zlibbioc'\n",
      "\n"
     ]
    }
   ],
   "source": [
    "BiocManager::install(c(\"GenomicRanges\", \"GenomicFeatures\", \n",
    "                      \"TxDb.Hsapiens.UCSC.hg38.knownGene\", \n",
    "                      \"org.Hs.eg.db\", \"biomaRt\", \"EnsDb.Hsapiens.v86\"))"
   ]
  },
  {
   "cell_type": "code",
   "execution_count": 3,
   "id": "95f4e280-e3e8-4e8e-a36f-84523b3463a6",
   "metadata": {},
   "outputs": [],
   "source": [
    "library(tidyverse)\n",
    "library(data.table)"
   ]
  },
  {
   "cell_type": "code",
   "execution_count": 4,
   "id": "5afec9ca-97ae-47af-a5af-9bed1002c686",
   "metadata": {},
   "outputs": [],
   "source": [
    "\n",
    "library(GenomicRanges)\n",
    "library(GenomicFeatures)\n",
    "library(TxDb.Hsapiens.UCSC.hg38.knownGene)\n",
    "library(org.Hs.eg.db)\n",
    "library(EnsDb.Hsapiens.v86)\n",
    "library(dplyr)"
   ]
  },
  {
   "cell_type": "code",
   "execution_count": 22,
   "id": "3b080271-b553-485e-9877-8e5163859991",
   "metadata": {},
   "outputs": [],
   "source": [
    "# image_AD1 = fread(\"~/data/GWAS/image_GWAS_hg38/image_AD1.sumstats.gz\")\n",
    "image_AD2 = fread(\"~/data/GWAS/image_GWAS_hg38/image_AD2.sumstats.gz\")\n",
    "image_Aging1 = fread(\"~/data/GWAS/image_GWAS_hg38/image_Aging1.sumstats.gz\")\n",
    "image_Aging2 = fread(\"~/data/GWAS/image_GWAS_hg38/image_Aging2.sumstats.gz\")\n",
    "image_Aging3 = fread(\"~/data/GWAS/image_GWAS_hg38/image_Aging3.sumstats.gz\")\n",
    "image_Aging4 = fread(\"~/data/GWAS/image_GWAS_hg38/image_Aging4.sumstats.gz\")\n",
    "image_Aging5 = fread(\"~/data/GWAS/image_GWAS_hg38/image_Aging5.sumstats.gz\")\n"
   ]
  },
  {
   "cell_type": "code",
   "execution_count": 6,
   "id": "5d246638-18ca-4ad1-a952-02079aa1cc14",
   "metadata": {
    "scrolled": true
   },
   "outputs": [
    {
     "data": {
      "text/html": [
       "<table class=\"dataframe\">\n",
       "<caption>A data.table: 6 x 11</caption>\n",
       "<thead>\n",
       "\t<tr><th scope=col>#CHROM</th><th scope=col>POS</th><th scope=col>A2</th><th scope=col>A1</th><th scope=col>TEST</th><th scope=col>N</th><th scope=col>BETA</th><th scope=col>SE</th><th scope=col>Z</th><th scope=col>P</th><th scope=col>ERRCODE</th></tr>\n",
       "\t<tr><th scope=col>&lt;int&gt;</th><th scope=col>&lt;int&gt;</th><th scope=col>&lt;chr&gt;</th><th scope=col>&lt;chr&gt;</th><th scope=col>&lt;chr&gt;</th><th scope=col>&lt;int&gt;</th><th scope=col>&lt;dbl&gt;</th><th scope=col>&lt;dbl&gt;</th><th scope=col>&lt;dbl&gt;</th><th scope=col>&lt;dbl&gt;</th><th scope=col>&lt;chr&gt;</th></tr>\n",
       "</thead>\n",
       "<tbody>\n",
       "\t<tr><td>1</td><td>782207</td><td>G     </td><td>A</td><td>ADD</td><td>31247</td><td>-0.000334046</td><td>0.0392128</td><td>-0.0085188</td><td>0.993203</td><td>.</td></tr>\n",
       "\t<tr><td>1</td><td>784474</td><td>CAG   </td><td>C</td><td>ADD</td><td>31168</td><td>-0.097526600</td><td>0.0726473</td><td>-1.3424700</td><td>0.179454</td><td>.</td></tr>\n",
       "\t<tr><td>1</td><td>788511</td><td>C     </td><td>G</td><td>ADD</td><td>31509</td><td> 0.031395200</td><td>0.0222987</td><td> 1.4079400</td><td>0.159160</td><td>.</td></tr>\n",
       "\t<tr><td>1</td><td>788915</td><td>TGGAAC</td><td>T</td><td>ADD</td><td>30942</td><td> 0.034595300</td><td>0.0537308</td><td> 0.6438630</td><td>0.519669</td><td>.</td></tr>\n",
       "\t<tr><td>1</td><td>801309</td><td>T     </td><td>C</td><td>ADD</td><td>31104</td><td>-0.048063700</td><td>0.0579955</td><td>-0.8287490</td><td>0.407253</td><td>.</td></tr>\n",
       "\t<tr><td>1</td><td>817341</td><td>G     </td><td>A</td><td>ADD</td><td>31929</td><td> 0.003228840</td><td>0.0110722</td><td> 0.2916160</td><td>0.770582</td><td>.</td></tr>\n",
       "</tbody>\n",
       "</table>\n"
      ],
      "text/latex": [
       "A data.table: 6 x 11\n",
       "\\begin{tabular}{lllllllllll}\n",
       " \\#CHROM & POS & A2 & A1 & TEST & N & BETA & SE & Z & P & ERRCODE\\\\\n",
       " <int> & <int> & <chr> & <chr> & <chr> & <int> & <dbl> & <dbl> & <dbl> & <dbl> & <chr>\\\\\n",
       "\\hline\n",
       "\t 1 & 782207 & G      & A & ADD & 31247 & -0.000334046 & 0.0392128 & -0.0085188 & 0.993203 & .\\\\\n",
       "\t 1 & 784474 & CAG    & C & ADD & 31168 & -0.097526600 & 0.0726473 & -1.3424700 & 0.179454 & .\\\\\n",
       "\t 1 & 788511 & C      & G & ADD & 31509 &  0.031395200 & 0.0222987 &  1.4079400 & 0.159160 & .\\\\\n",
       "\t 1 & 788915 & TGGAAC & T & ADD & 30942 &  0.034595300 & 0.0537308 &  0.6438630 & 0.519669 & .\\\\\n",
       "\t 1 & 801309 & T      & C & ADD & 31104 & -0.048063700 & 0.0579955 & -0.8287490 & 0.407253 & .\\\\\n",
       "\t 1 & 817341 & G      & A & ADD & 31929 &  0.003228840 & 0.0110722 &  0.2916160 & 0.770582 & .\\\\\n",
       "\\end{tabular}\n"
      ],
      "text/markdown": [
       "\n",
       "A data.table: 6 x 11\n",
       "\n",
       "| #CHROM &lt;int&gt; | POS &lt;int&gt; | A2 &lt;chr&gt; | A1 &lt;chr&gt; | TEST &lt;chr&gt; | N &lt;int&gt; | BETA &lt;dbl&gt; | SE &lt;dbl&gt; | Z &lt;dbl&gt; | P &lt;dbl&gt; | ERRCODE &lt;chr&gt; |\n",
       "|---|---|---|---|---|---|---|---|---|---|---|\n",
       "| 1 | 782207 | G      | A | ADD | 31247 | -0.000334046 | 0.0392128 | -0.0085188 | 0.993203 | . |\n",
       "| 1 | 784474 | CAG    | C | ADD | 31168 | -0.097526600 | 0.0726473 | -1.3424700 | 0.179454 | . |\n",
       "| 1 | 788511 | C      | G | ADD | 31509 |  0.031395200 | 0.0222987 |  1.4079400 | 0.159160 | . |\n",
       "| 1 | 788915 | TGGAAC | T | ADD | 30942 |  0.034595300 | 0.0537308 |  0.6438630 | 0.519669 | . |\n",
       "| 1 | 801309 | T      | C | ADD | 31104 | -0.048063700 | 0.0579955 | -0.8287490 | 0.407253 | . |\n",
       "| 1 | 817341 | G      | A | ADD | 31929 |  0.003228840 | 0.0110722 |  0.2916160 | 0.770582 | . |\n",
       "\n"
      ],
      "text/plain": [
       "  #CHROM POS    A2     A1 TEST N     BETA         SE        Z          P       \n",
       "1 1      782207 G      A  ADD  31247 -0.000334046 0.0392128 -0.0085188 0.993203\n",
       "2 1      784474 CAG    C  ADD  31168 -0.097526600 0.0726473 -1.3424700 0.179454\n",
       "3 1      788511 C      G  ADD  31509  0.031395200 0.0222987  1.4079400 0.159160\n",
       "4 1      788915 TGGAAC T  ADD  30942  0.034595300 0.0537308  0.6438630 0.519669\n",
       "5 1      801309 T      C  ADD  31104 -0.048063700 0.0579955 -0.8287490 0.407253\n",
       "6 1      817341 G      A  ADD  31929  0.003228840 0.0110722  0.2916160 0.770582\n",
       "  ERRCODE\n",
       "1 .      \n",
       "2 .      \n",
       "3 .      \n",
       "4 .      \n",
       "5 .      \n",
       "6 .      "
      ]
     },
     "metadata": {},
     "output_type": "display_data"
    }
   ],
   "source": [
    "head(image_AD1)"
   ]
  },
  {
   "cell_type": "code",
   "execution_count": 11,
   "id": "3aa82b56-64ec-4103-b0d6-ac627e645d65",
   "metadata": {},
   "outputs": [
    {
     "data": {
      "text/html": [
       "<style>\n",
       ".list-inline {list-style: none; margin:0; padding: 0}\n",
       ".list-inline>li {display: inline-block}\n",
       ".list-inline>li:not(:last-child)::after {content: \"\\00b7\"; padding: 0 .5ex}\n",
       "</style>\n",
       "<ol class=list-inline><li>287</li><li>11</li></ol>\n"
      ],
      "text/latex": [
       "\\begin{enumerate*}\n",
       "\\item 287\n",
       "\\item 11\n",
       "\\end{enumerate*}\n"
      ],
      "text/markdown": [
       "1. 287\n",
       "2. 11\n",
       "\n",
       "\n"
      ],
      "text/plain": [
       "[1] 287  11"
      ]
     },
     "metadata": {},
     "output_type": "display_data"
    }
   ],
   "source": [
    "AD1_sig = image_AD1 |> dplyr::filter(P < 5*1e-8)\n",
    "dim(AD1_sig)\n",
    "AD1_sig = AD1_sig |> dplyr::mutate(variant_id = paste0(`#CHROM`, \":\", POS, \"_\", A2, \"_\", A1)) |> dplyr::select(`#CHROM`, POS, variant_id) |> dplyr::rename(chr = `#CHROM`, pos = POS)"
   ]
  },
  {
   "cell_type": "code",
   "execution_count": 23,
   "id": "461490db-d911-449e-b2b1-8125039c64b3",
   "metadata": {},
   "outputs": [
    {
     "data": {
      "text/html": [
       "<style>\n",
       ".list-inline {list-style: none; margin:0; padding: 0}\n",
       ".list-inline>li {display: inline-block}\n",
       ".list-inline>li:not(:last-child)::after {content: \"\\00b7\"; padding: 0 .5ex}\n",
       "</style>\n",
       "<ol class=list-inline><li>455</li><li>11</li></ol>\n"
      ],
      "text/latex": [
       "\\begin{enumerate*}\n",
       "\\item 455\n",
       "\\item 11\n",
       "\\end{enumerate*}\n"
      ],
      "text/markdown": [
       "1. 455\n",
       "2. 11\n",
       "\n",
       "\n"
      ],
      "text/plain": [
       "[1] 455  11"
      ]
     },
     "metadata": {},
     "output_type": "display_data"
    }
   ],
   "source": [
    "AD2_sig = image_AD2 |> dplyr::filter(P < 5*1e-8)\n",
    "dim(AD2_sig)\n",
    "AD2_sig = AD2_sig |> dplyr::mutate(variant_id = paste0(`#CHROM`, \":\", POS, \"_\", A2, \"_\", A1)) |> dplyr::select(`#CHROM`, POS, variant_id) |> dplyr::rename(chr = `#CHROM`, pos = POS)"
   ]
  },
  {
   "cell_type": "code",
   "execution_count": 24,
   "id": "63c13ba0-2ee9-47a0-9e31-14f3eb02c59b",
   "metadata": {},
   "outputs": [
    {
     "data": {
      "text/html": [
       "<style>\n",
       ".list-inline {list-style: none; margin:0; padding: 0}\n",
       ".list-inline>li {display: inline-block}\n",
       ".list-inline>li:not(:last-child)::after {content: \"\\00b7\"; padding: 0 .5ex}\n",
       "</style>\n",
       "<ol class=list-inline><li>1136</li><li>11</li></ol>\n"
      ],
      "text/latex": [
       "\\begin{enumerate*}\n",
       "\\item 1136\n",
       "\\item 11\n",
       "\\end{enumerate*}\n"
      ],
      "text/markdown": [
       "1. 1136\n",
       "2. 11\n",
       "\n",
       "\n"
      ],
      "text/plain": [
       "[1] 1136   11"
      ]
     },
     "metadata": {},
     "output_type": "display_data"
    }
   ],
   "source": [
    "Aging1_sig = image_Aging1 |> dplyr::filter(P < 5*1e-8)\n",
    "dim(Aging1_sig)\n",
    "Aging1_sig = Aging1_sig |> dplyr::mutate(variant_id = paste0(`#CHROM`, \":\", POS, \"_\", A2, \"_\", A1)) |> dplyr::select(`#CHROM`, POS, variant_id) |> dplyr::rename(chr = `#CHROM`, pos = POS)"
   ]
  },
  {
   "cell_type": "code",
   "execution_count": 26,
   "id": "a196c1c7-e05a-4f95-980f-ba65dbeb6a0f",
   "metadata": {},
   "outputs": [
    {
     "data": {
      "text/html": [
       "<style>\n",
       ".list-inline {list-style: none; margin:0; padding: 0}\n",
       ".list-inline>li {display: inline-block}\n",
       ".list-inline>li:not(:last-child)::after {content: \"\\00b7\"; padding: 0 .5ex}\n",
       "</style>\n",
       "<ol class=list-inline><li>1634</li><li>11</li></ol>\n"
      ],
      "text/latex": [
       "\\begin{enumerate*}\n",
       "\\item 1634\n",
       "\\item 11\n",
       "\\end{enumerate*}\n"
      ],
      "text/markdown": [
       "1. 1634\n",
       "2. 11\n",
       "\n",
       "\n"
      ],
      "text/plain": [
       "[1] 1634   11"
      ]
     },
     "metadata": {},
     "output_type": "display_data"
    }
   ],
   "source": [
    "Aging2_sig = image_Aging2 |> dplyr::filter(P < 5*1e-8)\n",
    "dim(Aging2_sig)\n",
    "Aging2_sig = Aging2_sig |> dplyr::mutate(variant_id = paste0(`#CHROM`, \":\", POS, \"_\", A2, \"_\", A1)) |> dplyr::select(`#CHROM`, POS, variant_id) |> dplyr::rename(chr = `#CHROM`, pos = POS)"
   ]
  },
  {
   "cell_type": "code",
   "execution_count": 39,
   "id": "2aaea5b3-2600-4a34-a737-8ff667d74457",
   "metadata": {},
   "outputs": [
    {
     "data": {
      "text/html": [
       "<style>\n",
       ".list-inline {list-style: none; margin:0; padding: 0}\n",
       ".list-inline>li {display: inline-block}\n",
       ".list-inline>li:not(:last-child)::after {content: \"\\00b7\"; padding: 0 .5ex}\n",
       "</style>\n",
       "<ol class=list-inline><li>670</li><li>11</li></ol>\n"
      ],
      "text/latex": [
       "\\begin{enumerate*}\n",
       "\\item 670\n",
       "\\item 11\n",
       "\\end{enumerate*}\n"
      ],
      "text/markdown": [
       "1. 670\n",
       "2. 11\n",
       "\n",
       "\n"
      ],
      "text/plain": [
       "[1] 670  11"
      ]
     },
     "metadata": {},
     "output_type": "display_data"
    }
   ],
   "source": [
    "Aging3_sig = image_Aging3 |> dplyr::filter(P < 5*1e-8)\n",
    "dim(Aging3_sig)\n",
    "Aging3_sig = Aging3_sig |> dplyr::mutate(variant_id = paste0(`#CHROM`, \":\", POS, \"_\", A2, \"_\", A1)) |> dplyr::select(`#CHROM`, POS, variant_id) |> dplyr::rename(chr = `#CHROM`, pos = POS)"
   ]
  },
  {
   "cell_type": "code",
   "execution_count": 28,
   "id": "89d6a481-9235-4d6a-b9e9-5a046b22b71d",
   "metadata": {},
   "outputs": [
    {
     "data": {
      "text/html": [
       "<style>\n",
       ".list-inline {list-style: none; margin:0; padding: 0}\n",
       ".list-inline>li {display: inline-block}\n",
       ".list-inline>li:not(:last-child)::after {content: \"\\00b7\"; padding: 0 .5ex}\n",
       "</style>\n",
       "<ol class=list-inline><li>255</li><li>11</li></ol>\n"
      ],
      "text/latex": [
       "\\begin{enumerate*}\n",
       "\\item 255\n",
       "\\item 11\n",
       "\\end{enumerate*}\n"
      ],
      "text/markdown": [
       "1. 255\n",
       "2. 11\n",
       "\n",
       "\n"
      ],
      "text/plain": [
       "[1] 255  11"
      ]
     },
     "metadata": {},
     "output_type": "display_data"
    }
   ],
   "source": [
    "Aging4_sig = image_Aging4 |> dplyr::filter(P < 5*1e-8)\n",
    "dim(Aging4_sig)\n",
    "Aging4_sig = Aging4_sig |> dplyr::mutate(variant_id = paste0(`#CHROM`, \":\", POS, \"_\", A2, \"_\", A1)) |> dplyr::select(`#CHROM`, POS, variant_id) |> dplyr::rename(chr = `#CHROM`, pos = POS)"
   ]
  },
  {
   "cell_type": "code",
   "execution_count": 29,
   "id": "447fcf7f-0169-408d-b4af-732225c13674",
   "metadata": {},
   "outputs": [
    {
     "data": {
      "text/html": [
       "<style>\n",
       ".list-inline {list-style: none; margin:0; padding: 0}\n",
       ".list-inline>li {display: inline-block}\n",
       ".list-inline>li:not(:last-child)::after {content: \"\\00b7\"; padding: 0 .5ex}\n",
       "</style>\n",
       "<ol class=list-inline><li>2127</li><li>11</li></ol>\n"
      ],
      "text/latex": [
       "\\begin{enumerate*}\n",
       "\\item 2127\n",
       "\\item 11\n",
       "\\end{enumerate*}\n"
      ],
      "text/markdown": [
       "1. 2127\n",
       "2. 11\n",
       "\n",
       "\n"
      ],
      "text/plain": [
       "[1] 2127   11"
      ]
     },
     "metadata": {},
     "output_type": "display_data"
    }
   ],
   "source": [
    "Aging5_sig = image_Aging5 |> dplyr::filter(P < 5*1e-8)\n",
    "dim(Aging5_sig)\n",
    "Aging5_sig = Aging5_sig |> dplyr::mutate(variant_id = paste0(`#CHROM`, \":\", POS, \"_\", A2, \"_\", A1)) |> dplyr::select(`#CHROM`, POS, variant_id) |> dplyr::rename(chr = `#CHROM`, pos = POS)"
   ]
  },
  {
   "cell_type": "code",
   "execution_count": 72,
   "id": "4d2abc82-f149-4c81-9357-1fc188021c0f",
   "metadata": {},
   "outputs": [],
   "source": [
    "TL1 = all_cb |> dplyr::filter(str_detect(event_ID,\"Telomere_pc1\")) |>  dplyr::select(`#chr`, start,variant_ID) |> dplyr::rename(chr = `#chr`, pos = start, variant_id = variant_ID)\n",
    "mvAge = all_cb |> dplyr::filter(str_detect(event_ID,\"mvage\")) |>  dplyr::select(`#chr`, start,variant_ID) |> dplyr::rename(chr = `#chr`, pos = start, variant_id = variant_ID)\n",
    "PD = all_cb |> dplyr::filter(str_detect(event_ID,\"PD\")) |>  dplyr::select(`#chr`, start,variant_ID) |> dplyr::rename(chr = `#chr`, pos = start, variant_id = variant_ID)\n",
    "Aging = rbind(TL1,mvAge)\n",
    "AD = all_cb |> dplyr::filter(str_detect(event_ID,\"AD_\")) |>  dplyr::select(`#chr`, start,variant_ID) |> dplyr::rename(chr = `#chr`, pos = start, variant_id = variant_ID)\n",
    "DNE = all_cb |> dplyr::filter(str_detect(event_ID,\"image_\")) |>  dplyr::select(`#chr`, start,variant_ID) |> dplyr::rename(chr = `#chr`, pos = start, variant_id = variant_ID)"
   ]
  },
  {
   "cell_type": "code",
   "execution_count": 44,
   "id": "e333577c-b8f3-4577-92e4-d2cdfe9d0c71",
   "metadata": {
    "scrolled": true
   },
   "outputs": [
    {
     "name": "stderr",
     "output_type": "stream",
     "text": [
      "  2135 genes were dropped because they have exons located on both strands\n",
      "  of the same reference sequence or on more than one reference sequence,\n",
      "  so cannot be represented by a single genomic range.\n",
      "  Use 'single.strand.genes.only=FALSE' to get all the genes in a\n",
      "  GRangesList object, or use suppressMessages() to suppress this message.\n",
      "\n"
     ]
    },
    {
     "name": "stdout",
     "output_type": "stream",
     "text": [
      "Enhanced gene mapping script loaded successfully!\n",
      "\n",
      "New features:\n",
      "1. find_nearest_genes_batch() - finds nearest gene for each variant\n",
      "2. find_nearest_genes_fast() - fast data.table version for large datasets\n",
      "3. run_gene_mapping() - unified function supporting both methods\n",
      "\n",
      "Usage examples:\n",
      "# Nearest genes only:\n",
      "results <- run_gene_mapping(variants_df, method = 'nearest')\n",
      "\n",
      "# Window-based only:\n",
      "results <- run_gene_mapping(variants_df, method = 'window', window_size = 500000)\n",
      "\n",
      "# Both methods:\n",
      "results <- run_gene_mapping(variants_df, method = 'both')\n",
      "\n",
      "The function returns a list with $nearest and/or $window components.\n"
     ]
    }
   ],
   "source": [
    "# Enhanced Gene Identification Script: Window-based + Nearest Gene\n",
    "# Supports both 500kb window mapping and nearest gene identification\n",
    "\n",
    "# Initialize TxDb\n",
    "txdb <- TxDb.Hsapiens.UCSC.hg38.knownGene\n",
    "\n",
    "# Extract all genes once (for efficiency)\n",
    "all_genes <- genes(txdb)\n",
    "\n",
    "# Helper function to standardize chromosome formats\n",
    "standardize_chr <- function(chr_vector) {\n",
    "  # Convert to character first\n",
    "  chr_char <- as.character(chr_vector)\n",
    "  \n",
    "  # Add 'chr' prefix if missing (for numeric chromosomes like 1, 2, 3...)\n",
    "  chr_char <- ifelse(\n",
    "    !grepl(\"^chr\", chr_char) & !is.na(chr_char),\n",
    "    paste0(\"chr\", chr_char),\n",
    "    chr_char\n",
    "  )\n",
    "  \n",
    "  return(chr_char)\n",
    "}\n",
    "\n",
    "# NEW FUNCTION: Find nearest gene for each variant\n",
    "find_nearest_genes_batch <- function(variants_df, chr_col = \"chr\", pos_col = \"pos\", \n",
    "                                    id_col = \"variant_id\") {\n",
    "  \n",
    "  cat(\"Finding nearest genes for\", nrow(variants_df), \"variants...\\n\")\n",
    "  \n",
    "  # Standardize chromosome format\n",
    "  chr_values <- standardize_chr(variants_df[[chr_col]])\n",
    "  \n",
    "  # Convert variants to GRanges\n",
    "  variants_gr <- GRanges(\n",
    "    seqnames = chr_values,\n",
    "    ranges = IRanges(start = variants_df[[pos_col]], \n",
    "                    end = variants_df[[pos_col]]),\n",
    "    variant_id = variants_df[[id_col]]\n",
    "  )\n",
    "  \n",
    "  # Find nearest genes - this is vectorized and very fast\n",
    "  nearest_indices <- nearest(variants_gr, all_genes)\n",
    "  \n",
    "  # Handle cases where no nearest gene is found (shouldn't happen but safety first)\n",
    "  valid_matches <- !is.na(nearest_indices)\n",
    "  \n",
    "  if (!all(valid_matches)) {\n",
    "    cat(\"Warning:\", sum(!valid_matches), \"variants had no nearest gene found\\n\")\n",
    "  }\n",
    "  \n",
    "  # Create results for valid matches\n",
    "  valid_variants <- variants_gr[valid_matches]\n",
    "  valid_nearest <- nearest_indices[valid_matches]\n",
    "  \n",
    "  # Extract nearest gene information\n",
    "  nearest_genes <- all_genes[valid_nearest]\n",
    "  \n",
    "  # Calculate distances from variant to gene start\n",
    "  distances <- abs(start(valid_variants) - start(nearest_genes))\n",
    "  \n",
    "  # Also calculate distance to gene center for reference\n",
    "  gene_centers <- start(nearest_genes) + (end(nearest_genes) - start(nearest_genes)) / 2\n",
    "  distances_to_center <- abs(start(valid_variants) - gene_centers)\n",
    "  \n",
    "  # Create results data frame\n",
    "  results <- data.frame(\n",
    "    variant_id = mcols(valid_variants)$variant_id,\n",
    "    variant_chr = as.character(seqnames(valid_variants)),\n",
    "    variant_pos = start(valid_variants),\n",
    "    gene_id = mcols(nearest_genes)$gene_id,\n",
    "    gene_chr = as.character(seqnames(nearest_genes)),\n",
    "    gene_start = start(nearest_genes),\n",
    "    gene_end = end(nearest_genes),\n",
    "    gene_strand = as.character(strand(nearest_genes)),\n",
    "    distance_to_gene_start = distances,\n",
    "    distance_to_gene_center = distances_to_center,\n",
    "    stringsAsFactors = FALSE\n",
    "  )\n",
    "  \n",
    "  cat(\"Found nearest genes for\", nrow(results), \"variants\\n\")\n",
    "  \n",
    "  return(results)\n",
    "}\n",
    "\n",
    "# ENHANCED FUNCTION: Fast nearest gene using data.table\n",
    "find_nearest_genes_fast <- function(variants_df, chr_col = \"chr\", pos_col = \"pos\", \n",
    "                                   id_col = \"variant_id\") {\n",
    "  \n",
    "  cat(\"Using fast data.table method for nearest genes...\\n\")\n",
    "  \n",
    "  # Convert to data.table for speed\n",
    "  variants_dt <- data.table(variants_df)\n",
    "  setnames(variants_dt, c(chr_col, pos_col, id_col), c(\"chr\", \"pos\", \"variant_id\"))\n",
    "  \n",
    "  # Standardize chromosome format in variants\n",
    "  variants_dt[, chr := standardize_chr(chr)]\n",
    "  \n",
    "  # Convert genes to data.table\n",
    "  genes_dt <- data.table(\n",
    "    gene_id = mcols(all_genes)$gene_id,\n",
    "    chr = as.character(seqnames(all_genes)),\n",
    "    start = start(all_genes),\n",
    "    end = end(all_genes),\n",
    "    strand = as.character(strand(all_genes))\n",
    "  )\n",
    "  \n",
    "  # Add gene center for alternative distance calculation\n",
    "  genes_dt[, center := start + (end - start) / 2]\n",
    "  \n",
    "  # Ensure both are character type for joining\n",
    "  variants_dt[, chr := as.character(chr)]\n",
    "  genes_dt[, chr := as.character(chr)]\n",
    "  \n",
    "  # Set keys for efficient operations\n",
    "  setkey(variants_dt, chr, pos)\n",
    "  setkey(genes_dt, chr, start)\n",
    "  \n",
    "  cat(\"Finding nearest genes by chromosome...\\n\")\n",
    "  \n",
    "  # For each variant, find the nearest gene on the same chromosome\n",
    "  results_list <- list()\n",
    "  \n",
    "  for (chr_name in unique(variants_dt$chr)) {\n",
    "    # Get variants and genes for this chromosome\n",
    "    chr_variants <- variants_dt[chr == chr_name]\n",
    "    chr_genes <- genes_dt[chr == chr_name]\n",
    "    \n",
    "    if (nrow(chr_variants) == 0 || nrow(chr_genes) == 0) {\n",
    "      next\n",
    "    }\n",
    "    \n",
    "    # For each variant, calculate distance to all genes on same chromosome\n",
    "    # This creates a cartesian product but only for same chromosome\n",
    "    chr_joined <- chr_genes[chr_variants, on = \"chr\", allow.cartesian = TRUE]\n",
    "    \n",
    "    # Calculate distances to gene start and center\n",
    "    chr_joined[, dist_to_start := abs(start - pos)]\n",
    "    chr_joined[, dist_to_center := abs(center - pos)]\n",
    "    \n",
    "    # Find the gene with minimum distance for each variant\n",
    "    chr_nearest <- chr_joined[chr_joined[, .I[which.min(dist_to_start)], by = variant_id]$V1]\n",
    "    \n",
    "    results_list[[chr_name]] <- chr_nearest\n",
    "  }\n",
    "  \n",
    "  # Combine results from all chromosomes\n",
    "  all_nearest <- rbindlist(results_list)\n",
    "  \n",
    "  # Select and rename columns\n",
    "  results <- all_nearest[, .(\n",
    "    variant_id,\n",
    "    variant_chr = chr,\n",
    "    variant_pos = pos,\n",
    "    gene_id,\n",
    "    gene_chr = chr,\n",
    "    gene_start = start,\n",
    "    gene_end = end,\n",
    "    gene_strand = strand,\n",
    "    distance_to_gene_start = dist_to_start,\n",
    "    distance_to_gene_center = dist_to_center\n",
    "  )]\n",
    "  \n",
    "  cat(\"Found nearest genes for\", nrow(results), \"variants\\n\")\n",
    "  \n",
    "  return(as.data.frame(results))\n",
    "}\n",
    "\n",
    "# EXISTING WINDOW FUNCTION (kept for compatibility)\n",
    "find_genes_batch_fast <- function(variants_df, chr_col = \"chr\", pos_col = \"pos\", \n",
    "                                 id_col = \"variant_id\", window_size = 500000) {\n",
    "  \n",
    "  cat(\"Using fast data.table method for window-based mapping...\\n\")\n",
    "  \n",
    "  # Convert to data.table for speed\n",
    "  variants_dt <- data.table(variants_df)\n",
    "  setnames(variants_dt, c(chr_col, pos_col, id_col), c(\"chr\", \"pos\", \"variant_id\"))\n",
    "  \n",
    "  # Standardize chromosome format in variants\n",
    "  variants_dt[, chr := standardize_chr(chr)]\n",
    "  \n",
    "  # Convert genes to data.table\n",
    "  genes_dt <- data.table(\n",
    "    gene_id = mcols(all_genes)$gene_id,\n",
    "    chr = as.character(seqnames(all_genes)),\n",
    "    start = start(all_genes),\n",
    "    end = end(all_genes),\n",
    "    strand = as.character(strand(all_genes))\n",
    "  )\n",
    "  \n",
    "  # Ensure both are character type for joining\n",
    "  variants_dt[, chr := as.character(chr)]\n",
    "  genes_dt[, chr := as.character(chr)]\n",
    "  \n",
    "  # Set keys for efficient joining\n",
    "  setkey(variants_dt, chr)\n",
    "  setkey(genes_dt, chr)\n",
    "  \n",
    "  cat(\"Joining variants with genes by chromosome...\\n\")\n",
    "  \n",
    "  # Join by chromosome first\n",
    "  joined <- genes_dt[variants_dt, on = \"chr\", allow.cartesian = TRUE, nomatch = NULL]\n",
    "  \n",
    "  # Calculate distances and filter\n",
    "  cat(\"Calculating distances and filtering...\\n\")\n",
    "  joined[, distance := abs(start - pos)]\n",
    "  nearby <- joined[distance <= window_size]\n",
    "  \n",
    "  # Select relevant columns\n",
    "  results <- nearby[, .(variant_id, variant_chr = chr, variant_pos = pos,\n",
    "                       gene_id, gene_chr = chr, gene_start = start, \n",
    "                       gene_end = end, gene_strand = strand, \n",
    "                       distance_to_gene = distance)]\n",
    "  \n",
    "  cat(\"Found\", nrow(results), \"variant-gene pairs within\", window_size, \"bp\\n\")\n",
    "  \n",
    "  return(as.data.frame(results))\n",
    "}\n",
    "\n",
    "# Function to add gene annotations (symbols and ENSG IDs)\n",
    "add_gene_annotations <- function(results_df) {\n",
    "  \n",
    "  cat(\"Adding gene symbols and ENSG IDs...\\n\")\n",
    "  \n",
    "  # Get unique gene IDs\n",
    "  unique_genes <- unique(results_df$gene_id)\n",
    "  \n",
    "  # Map to symbols and ENSG IDs\n",
    "  gene_annotations <- select(org.Hs.eg.db, \n",
    "                            keys = unique_genes,\n",
    "                            columns = c(\"SYMBOL\", \"GENENAME\", \"ENSEMBL\"),\n",
    "                            keytype = \"ENTREZID\")\n",
    "  \n",
    "  # Rename ENSEMBL column to ENSG_ID for clarity\n",
    "  names(gene_annotations)[names(gene_annotations) == \"ENSEMBL\"] <- \"ENSG_ID\"\n",
    "  \n",
    "  # Merge back\n",
    "  results_with_annotations <- merge(results_df, gene_annotations, \n",
    "                                   by.x = \"gene_id\", by.y = \"ENTREZID\", \n",
    "                                   all.x = TRUE)\n",
    "  \n",
    "  # Handle cases where multiple ENSG IDs exist for one gene\n",
    "  if (any(duplicated(results_with_annotations[, c(\"variant_id\", \"gene_id\")]))) {\n",
    "    cat(\"Warning: Some genes have multiple ENSG IDs. Taking the first one.\\n\")\n",
    "    results_with_annotations <- results_with_annotations[\n",
    "      !duplicated(results_with_annotations[, c(\"variant_id\", \"gene_id\")]), ]\n",
    "  }\n",
    "  \n",
    "  return(results_with_annotations)\n",
    "}\n",
    "\n",
    "# NEW MAIN FUNCTION: Choose between nearest gene or window-based mapping\n",
    "run_gene_mapping <- function(variants_file = NULL, variants_df = NULL,\n",
    "                            method = c(\"nearest\", \"window\", \"both\"),\n",
    "                            window_size = 500000,\n",
    "                            add_annotations = TRUE,\n",
    "                            output_prefix = \"variant_gene_results\",\n",
    "                            output_nearest = NULL,\n",
    "                            output_window = NULL,\n",
    "                            save_results = TRUE) {\n",
    "  \n",
    "  method <- match.arg(method)\n",
    "  \n",
    "  # Load variants\n",
    "  if (!is.null(variants_file)) {\n",
    "    cat(\"Loading variants from\", variants_file, \"...\\n\")\n",
    "    variants_df <- fread(variants_file)\n",
    "  } else if (is.null(variants_df)) {\n",
    "    cat(\"Creating sample data...\\n\")\n",
    "    variants_df <- create_sample_variants(1000)  # Smaller sample for demo\n",
    "  }\n",
    "  \n",
    "  cat(\"Processing\", nrow(variants_df), \"variants using method:\", method, \"\\n\")\n",
    "  \n",
    "  # Check chromosome format\n",
    "  sample_chrs <- head(unique(variants_df$chr), 5)\n",
    "  cat(\"Sample chromosome values:\", paste(sample_chrs, collapse = \", \"), \"\\n\")\n",
    "  \n",
    "  results_list <- list()\n",
    "  \n",
    "  # Method 1: Nearest gene\n",
    "  if (method %in% c(\"nearest\", \"both\")) {\n",
    "    cat(\"\\n=== FINDING NEAREST GENES ===\\n\")\n",
    "    \n",
    "    if (nrow(variants_df) > 10000) {\n",
    "      # Use fast method for large datasets\n",
    "      nearest_results <- find_nearest_genes_fast(variants_df)\n",
    "    } else {\n",
    "      # Use standard GenomicRanges method\n",
    "      nearest_results <- find_nearest_genes_batch(variants_df)\n",
    "    }\n",
    "    \n",
    "    if (add_annotations) {\n",
    "      nearest_results <- add_gene_annotations(nearest_results)\n",
    "    }\n",
    "    \n",
    "    # Save nearest gene results\n",
    "    if (save_results) {\n",
    "      if (is.null(output_nearest)) {\n",
    "        nearest_output <- paste0(output_prefix, \"_nearest.tsv\")\n",
    "      } else {\n",
    "        nearest_output <- output_nearest\n",
    "      }\n",
    "      fwrite(nearest_results, nearest_output, sep = '\\t')\n",
    "      cat(\"Nearest gene results saved to\", nearest_output, \"\\n\")\n",
    "    }\n",
    "    \n",
    "    results_list$nearest <- nearest_results\n",
    "    \n",
    "    # Summary for nearest genes\n",
    "    cat(\"\\nNearest Gene Summary:\\n\")\n",
    "    cat(\"Variants with nearest genes:\", nrow(nearest_results), \"\\n\")\n",
    "    cat(\"Unique genes found:\", length(unique(nearest_results$gene_id)), \"\\n\")\n",
    "    cat(\"Median distance to nearest gene:\", median(nearest_results$distance_to_gene_start), \"bp\\n\")\n",
    "    cat(\"Mean distance to nearest gene:\", round(mean(nearest_results$distance_to_gene_start)), \"bp\\n\")\n",
    "  }\n",
    "  \n",
    "  # Method 2: Window-based\n",
    "  if (method %in% c(\"window\", \"both\")) {\n",
    "    cat(\"\\n=== FINDING GENES WITHIN\", window_size, \"BP WINDOW ===\\n\")\n",
    "    \n",
    "    if (nrow(variants_df) > 10000) {\n",
    "      # Use chunked processing for large datasets\n",
    "      window_results <- process_variants_chunked(variants_df, chunk_size = 5000, \n",
    "                                               window_size = window_size)\n",
    "    } else {\n",
    "      # Use fast method for smaller datasets\n",
    "      window_results <- find_genes_batch_fast(variants_df, window_size = window_size)\n",
    "    }\n",
    "    \n",
    "    if (add_annotations) {\n",
    "      window_results <- add_gene_annotations(window_results)\n",
    "    }\n",
    "    \n",
    "    # Save window results\n",
    "    window_output <- paste0(output_prefix, \"_window_\", window_size, \"bp.tsv\")\n",
    "    fwrite(window_results, window_output, sep = '\\t')\n",
    "    cat(\"Window-based results saved to\", window_output, \"\\n\")\n",
    "    \n",
    "    results_list$window <- window_results\n",
    "    \n",
    "    # Summary for window method\n",
    "    cat(\"\\nWindow-based Summary:\\n\")\n",
    "    cat(\"Total variant-gene pairs:\", nrow(window_results), \"\\n\")\n",
    "    cat(\"Unique variants with nearby genes:\", length(unique(window_results$variant_id)), \"\\n\")\n",
    "    cat(\"Unique genes found:\", length(unique(window_results$gene_id)), \"\\n\")\n",
    "    cat(\"Average genes per variant:\", round(nrow(window_results) / length(unique(window_results$variant_id)), 2), \"\\n\")\n",
    "  }\n",
    "  \n",
    "  return(results_list)\n",
    "}\n",
    "\n",
    "# Function to process in chunks (for memory efficiency) - kept from original\n",
    "process_variants_chunked <- function(variants_df, chunk_size = 5000, \n",
    "                                   window_size = 500000) {\n",
    "  \n",
    "  n_variants <- nrow(variants_df)\n",
    "  n_chunks <- ceiling(n_variants / chunk_size)\n",
    "  \n",
    "  cat(\"Processing\", n_variants, \"variants in\", n_chunks, \"chunks\\n\")\n",
    "  \n",
    "  results_list <- list()\n",
    "  \n",
    "  for (i in 1:n_chunks) {\n",
    "    start_idx <- (i - 1) * chunk_size + 1\n",
    "    end_idx <- min(i * chunk_size, n_variants)\n",
    "    \n",
    "    cat(\"Processing chunk\", i, \"of\", n_chunks, \n",
    "        \"(variants\", start_idx, \"to\", end_idx, \")\\n\")\n",
    "    \n",
    "    chunk_variants <- variants_df[start_idx:end_idx, ]\n",
    "    chunk_results <- find_genes_batch_fast(chunk_variants, window_size = window_size)\n",
    "    \n",
    "    results_list[[i]] <- chunk_results\n",
    "  }\n",
    "  \n",
    "  # Combine all results\n",
    "  all_results <- rbindlist(results_list)\n",
    "  \n",
    "  return(as.data.frame(all_results))\n",
    "}\n",
    "\n",
    "# Example usage function\n",
    "create_sample_variants <- function(n = 20000) {\n",
    "  \n",
    "  set.seed(123)\n",
    "  \n",
    "  # Create sample variant data\n",
    "  variants <- data.frame(\n",
    "    variant_id = paste0(\"var_\", 1:n),\n",
    "    chr = paste0(\"chr\", sample(1:22, n, replace = TRUE)),\n",
    "    pos = sample(1000000:200000000, n, replace = TRUE),\n",
    "    ref = sample(c(\"A\", \"T\", \"G\", \"C\"), n, replace = TRUE),\n",
    "    alt = sample(c(\"A\", \"T\", \"G\", \"C\"), n, replace = TRUE),\n",
    "    stringsAsFactors = FALSE\n",
    "  )\n",
    "  \n",
    "  return(variants)\n",
    "}\n",
    "\n",
    "# Debug function to check chromosome formats (kept from original)\n",
    "check_chromosome_formats <- function(variants_df, chr_col = \"chr\") {\n",
    "  \n",
    "  cat(\"=== Chromosome Format Analysis ===\\n\")\n",
    "  \n",
    "  # Check variant chromosomes\n",
    "  var_chrs <- unique(variants_df[[chr_col]])\n",
    "  cat(\"Variant chromosome format:\\n\")\n",
    "  cat(\"Sample values:\", paste(head(var_chrs, 10), collapse = \", \"), \"\\n\")\n",
    "  cat(\"Type:\", class(variants_df[[chr_col]]), \"\\n\")\n",
    "  cat(\"Has 'chr' prefix:\", any(grepl(\"^chr\", var_chrs)), \"\\n\")\n",
    "  \n",
    "  # Check gene chromosomes\n",
    "  gene_chrs <- unique(as.character(seqnames(all_genes)))\n",
    "  cat(\"\\nGene chromosome format:\\n\")\n",
    "  cat(\"Sample values:\", paste(head(gene_chrs, 10), collapse = \", \"), \"\\n\")\n",
    "  cat(\"Type: character\\n\")\n",
    "  cat(\"Has 'chr' prefix:\", any(grepl(\"^chr\", gene_chrs)), \"\\n\")\n",
    "  \n",
    "  # Show standardized variant chromosomes\n",
    "  standardized_var_chrs <- standardize_chr(var_chrs)\n",
    "  cat(\"\\nStandardized variant chromosomes:\\n\")\n",
    "  cat(\"Sample values:\", paste(head(standardized_var_chrs, 10), collapse = \", \"), \"\\n\")\n",
    "  \n",
    "  # Show overlap\n",
    "  common_chrs <- intersect(standardized_var_chrs, gene_chrs)\n",
    "  cat(\"\\nCommon chromosomes after standardization:\", length(common_chrs), \"\\n\")\n",
    "  cat(\"Examples:\", paste(head(common_chrs, 5), collapse = \", \"), \"\\n\")\n",
    "  \n",
    "  cat(\"\\n=== End Analysis ===\\n\")\n",
    "}\n",
    "\n",
    "cat(\"Enhanced gene mapping script loaded successfully!\\n\")\n",
    "cat(\"\\nNew features:\\n\")\n",
    "cat(\"1. find_nearest_genes_batch() - finds nearest gene for each variant\\n\")\n",
    "cat(\"2. find_nearest_genes_fast() - fast data.table version for large datasets\\n\")\n",
    "cat(\"3. run_gene_mapping() - unified function supporting both methods\\n\")\n",
    "cat(\"\\nUsage examples:\\n\")\n",
    "cat(\"# Nearest genes only:\\n\")\n",
    "cat(\"results <- run_gene_mapping(variants_df, method = 'nearest')\\n\")\n",
    "cat(\"\\n# Window-based only:\\n\")\n",
    "cat(\"results <- run_gene_mapping(variants_df, method = 'window', window_size = 500000)\\n\")\n",
    "cat(\"\\n# Both methods:\\n\")\n",
    "cat(\"results <- run_gene_mapping(variants_df, method = 'both')\\n\")\n",
    "cat(\"\\nThe function returns a list with $nearest and/or $window components.\\n\")"
   ]
  },
  {
   "cell_type": "code",
   "execution_count": 45,
   "id": "1324cf66-0623-4978-8ebb-ff658fb1266d",
   "metadata": {},
   "outputs": [
    {
     "name": "stdout",
     "output_type": "stream",
     "text": [
      "Processing 287 variants using method: both \n",
      "Sample chromosome values: 1, 3, 5, 8, 9 \n",
      "\n",
      "=== FINDING NEAREST GENES ===\n",
      "Finding nearest genes for 287 variants...\n",
      "Found nearest genes for 287 variants\n",
      "Adding gene symbols and ENSG IDs...\n"
     ]
    },
    {
     "name": "stderr",
     "output_type": "stream",
     "text": [
      "'select()' returned 1:1 mapping between keys and columns\n",
      "\n"
     ]
    },
    {
     "name": "stdout",
     "output_type": "stream",
     "text": [
      "Nearest gene results saved to AD1_nearest.tsv \n",
      "\n",
      "Nearest Gene Summary:\n",
      "Variants with nearest genes: 287 \n",
      "Unique genes found: 22 \n",
      "Median distance to nearest gene: 27404 bp\n",
      "Mean distance to nearest gene: 84035 bp\n",
      "\n",
      "=== FINDING GENES WITHIN 5e+05 BP WINDOW ===\n",
      "Using fast data.table method for window-based mapping...\n",
      "Joining variants with genes by chromosome...\n",
      "Calculating distances and filtering...\n",
      "Found 3350 variant-gene pairs within 5e+05 bp\n",
      "Adding gene symbols and ENSG IDs...\n"
     ]
    },
    {
     "name": "stderr",
     "output_type": "stream",
     "text": [
      "'select()' returned 1:1 mapping between keys and columns\n",
      "\n"
     ]
    },
    {
     "name": "stdout",
     "output_type": "stream",
     "text": [
      "Window-based results saved to AD1_window_5e+05bp.tsv \n",
      "\n",
      "Window-based Summary:\n",
      "Total variant-gene pairs: 3350 \n",
      "Unique variants with nearby genes: 287 \n",
      "Unique genes found: 151 \n",
      "Average genes per variant: 11.67 \n"
     ]
    }
   ],
   "source": [
    "AD1_sig_gene <- run_gene_mapping(variants_df= AD1_sig, method = \"both\", \n",
    "                           output_prefix = \"AD1\")\n",
    "# Creates: my_gwas_analysis_nearest.tsv and my_gwas_analysis_window_500000bp.tsv\n"
   ]
  },
  {
   "cell_type": "code",
   "execution_count": 47,
   "id": "0051dbd3-5006-410f-b47f-009ee8bb57f6",
   "metadata": {},
   "outputs": [
    {
     "name": "stdout",
     "output_type": "stream",
     "text": [
      "Processing 455 variants using method: both \n",
      "Sample chromosome values: 5, 6, 9, 12, 20 \n",
      "\n",
      "=== FINDING NEAREST GENES ===\n",
      "Finding nearest genes for 455 variants...\n",
      "Found nearest genes for 455 variants\n",
      "Adding gene symbols and ENSG IDs...\n"
     ]
    },
    {
     "name": "stderr",
     "output_type": "stream",
     "text": [
      "'select()' returned 1:1 mapping between keys and columns\n",
      "\n"
     ]
    },
    {
     "name": "stdout",
     "output_type": "stream",
     "text": [
      "Nearest gene results saved to AD2_nearest.tsv \n",
      "\n",
      "Nearest Gene Summary:\n",
      "Variants with nearest genes: 455 \n",
      "Unique genes found: 23 \n",
      "Median distance to nearest gene: 61728 bp\n",
      "Mean distance to nearest gene: 77973 bp\n",
      "\n",
      "=== FINDING GENES WITHIN 5e+05 BP WINDOW ===\n",
      "Using fast data.table method for window-based mapping...\n",
      "Joining variants with genes by chromosome...\n",
      "Calculating distances and filtering...\n",
      "Found 6048 variant-gene pairs within 5e+05 bp\n",
      "Adding gene symbols and ENSG IDs...\n"
     ]
    },
    {
     "name": "stderr",
     "output_type": "stream",
     "text": [
      "'select()' returned 1:1 mapping between keys and columns\n",
      "\n"
     ]
    },
    {
     "name": "stdout",
     "output_type": "stream",
     "text": [
      "Window-based results saved to AD2_window_5e+05bp.tsv \n",
      "\n",
      "Window-based Summary:\n",
      "Total variant-gene pairs: 6048 \n",
      "Unique variants with nearby genes: 455 \n",
      "Unique genes found: 131 \n",
      "Average genes per variant: 13.29 \n"
     ]
    }
   ],
   "source": [
    "AD2_sig_gene <- run_gene_mapping(variants_df= AD2_sig, method = \"both\", \n",
    "                           output_prefix = \"AD2\")\n",
    "# Creates: my_gwas_analysis_nearest.tsv and my_gwas_analysis_window_500000bp.tsv\n"
   ]
  },
  {
   "cell_type": "code",
   "execution_count": 48,
   "id": "5c35d2a9-b629-4e61-bb04-638bdd091540",
   "metadata": {},
   "outputs": [
    {
     "name": "stdout",
     "output_type": "stream",
     "text": [
      "Processing 1136 variants using method: both \n",
      "Sample chromosome values: 1, 4, 5, 6, 8 \n",
      "\n",
      "=== FINDING NEAREST GENES ===\n",
      "Finding nearest genes for 1136 variants...\n",
      "Found nearest genes for 1136 variants\n",
      "Adding gene symbols and ENSG IDs...\n"
     ]
    },
    {
     "name": "stderr",
     "output_type": "stream",
     "text": [
      "'select()' returned 1:many mapping between keys and columns\n",
      "\n"
     ]
    },
    {
     "name": "stdout",
     "output_type": "stream",
     "text": [
      "Warning: Some genes have multiple ENSG IDs. Taking the first one.\n",
      "Nearest gene results saved to Aging1_nearest.tsv \n",
      "\n",
      "Nearest Gene Summary:\n",
      "Variants with nearest genes: 1136 \n",
      "Unique genes found: 57 \n",
      "Median distance to nearest gene: 33867 bp\n",
      "Mean distance to nearest gene: 52459 bp\n",
      "\n",
      "=== FINDING GENES WITHIN 5e+05 BP WINDOW ===\n",
      "Using fast data.table method for window-based mapping...\n",
      "Joining variants with genes by chromosome...\n",
      "Calculating distances and filtering...\n",
      "Found 23558 variant-gene pairs within 5e+05 bp\n",
      "Adding gene symbols and ENSG IDs...\n"
     ]
    },
    {
     "name": "stderr",
     "output_type": "stream",
     "text": [
      "'select()' returned 1:many mapping between keys and columns\n",
      "\n"
     ]
    },
    {
     "name": "stdout",
     "output_type": "stream",
     "text": [
      "Warning: Some genes have multiple ENSG IDs. Taking the first one.\n",
      "Window-based results saved to Aging1_window_5e+05bp.tsv \n",
      "\n",
      "Window-based Summary:\n",
      "Total variant-gene pairs: 23558 \n",
      "Unique variants with nearby genes: 1136 \n",
      "Unique genes found: 294 \n",
      "Average genes per variant: 20.74 \n"
     ]
    }
   ],
   "source": [
    "Aging1_sig_gene <- run_gene_mapping(variants_df= Aging1_sig, method = \"both\", \n",
    "                           output_prefix = \"Aging1\")\n",
    "# Creates: my_gwas_analysis_nearest.tsv and my_gwas_analysis_window_500000bp.tsv\n"
   ]
  },
  {
   "cell_type": "code",
   "execution_count": 49,
   "id": "36aee5e2-d247-4301-986c-f24b98ba7771",
   "metadata": {},
   "outputs": [
    {
     "name": "stdout",
     "output_type": "stream",
     "text": [
      "Processing 1634 variants using method: both \n",
      "Sample chromosome values: 1, 2, 5, 6, 7 \n",
      "\n",
      "=== FINDING NEAREST GENES ===\n",
      "Finding nearest genes for 1634 variants...\n",
      "Found nearest genes for 1634 variants\n",
      "Adding gene symbols and ENSG IDs...\n"
     ]
    },
    {
     "name": "stderr",
     "output_type": "stream",
     "text": [
      "'select()' returned 1:1 mapping between keys and columns\n",
      "\n"
     ]
    },
    {
     "name": "stdout",
     "output_type": "stream",
     "text": [
      "Nearest gene results saved to Aging2_nearest.tsv \n",
      "\n",
      "Nearest Gene Summary:\n",
      "Variants with nearest genes: 1634 \n",
      "Unique genes found: 59 \n",
      "Median distance to nearest gene: 47479 bp\n",
      "Mean distance to nearest gene: 88739 bp\n",
      "\n",
      "=== FINDING GENES WITHIN 5e+05 BP WINDOW ===\n",
      "Using fast data.table method for window-based mapping...\n",
      "Joining variants with genes by chromosome...\n",
      "Calculating distances and filtering...\n",
      "Found 25670 variant-gene pairs within 5e+05 bp\n",
      "Adding gene symbols and ENSG IDs...\n"
     ]
    },
    {
     "name": "stderr",
     "output_type": "stream",
     "text": [
      "'select()' returned 1:many mapping between keys and columns\n",
      "\n"
     ]
    },
    {
     "name": "stdout",
     "output_type": "stream",
     "text": [
      "Warning: Some genes have multiple ENSG IDs. Taking the first one.\n",
      "Window-based results saved to Aging2_window_5e+05bp.tsv \n",
      "\n",
      "Window-based Summary:\n",
      "Total variant-gene pairs: 25670 \n",
      "Unique variants with nearby genes: 1634 \n",
      "Unique genes found: 297 \n",
      "Average genes per variant: 15.71 \n"
     ]
    }
   ],
   "source": [
    "Aging2_sig_gene <- run_gene_mapping(variants_df= Aging2_sig, method = \"both\", \n",
    "                           output_prefix = \"Aging2\")\n",
    "# Creates: my_gwas_analysis_nearest.tsv and my_gwas_analysis_window_500000bp.tsv\n"
   ]
  },
  {
   "cell_type": "code",
   "execution_count": 50,
   "id": "cef9706d-5172-41ef-b5d3-9514bf323def",
   "metadata": {},
   "outputs": [
    {
     "name": "stdout",
     "output_type": "stream",
     "text": [
      "Processing 670 variants using method: both \n",
      "Sample chromosome values: 1, 2, 3, 6, 7 \n",
      "\n",
      "=== FINDING NEAREST GENES ===\n",
      "Finding nearest genes for 670 variants...\n",
      "Found nearest genes for 670 variants\n",
      "Adding gene symbols and ENSG IDs...\n"
     ]
    },
    {
     "name": "stderr",
     "output_type": "stream",
     "text": [
      "'select()' returned 1:1 mapping between keys and columns\n",
      "\n"
     ]
    },
    {
     "name": "stdout",
     "output_type": "stream",
     "text": [
      "Nearest gene results saved to Aging3_nearest.tsv \n",
      "\n",
      "Nearest Gene Summary:\n",
      "Variants with nearest genes: 670 \n",
      "Unique genes found: 26 \n",
      "Median distance to nearest gene: 114444 bp\n",
      "Mean distance to nearest gene: 123688 bp\n",
      "\n",
      "=== FINDING GENES WITHIN 5e+05 BP WINDOW ===\n",
      "Using fast data.table method for window-based mapping...\n",
      "Joining variants with genes by chromosome...\n",
      "Calculating distances and filtering...\n",
      "Found 6167 variant-gene pairs within 5e+05 bp\n",
      "Adding gene symbols and ENSG IDs...\n"
     ]
    },
    {
     "name": "stderr",
     "output_type": "stream",
     "text": [
      "'select()' returned 1:1 mapping between keys and columns\n",
      "\n"
     ]
    },
    {
     "name": "stdout",
     "output_type": "stream",
     "text": [
      "Window-based results saved to Aging3_window_5e+05bp.tsv \n",
      "\n",
      "Window-based Summary:\n",
      "Total variant-gene pairs: 6167 \n",
      "Unique variants with nearby genes: 670 \n",
      "Unique genes found: 143 \n",
      "Average genes per variant: 9.2 \n"
     ]
    }
   ],
   "source": [
    "Aging3_sig_gene <- run_gene_mapping(variants_df= Aging3_sig, method = \"both\", \n",
    "                           output_prefix = \"Aging3\")\n",
    "# Creates: my_gwas_analysis_nearest.tsv and my_gwas_analysis_window_500000bp.tsv\n"
   ]
  },
  {
   "cell_type": "code",
   "execution_count": 51,
   "id": "d25de149-82f0-42da-92ac-dead73d249f7",
   "metadata": {},
   "outputs": [
    {
     "name": "stdout",
     "output_type": "stream",
     "text": [
      "Processing 255 variants using method: both \n",
      "Sample chromosome values: 1, 3, 6, 7, 11 \n",
      "\n",
      "=== FINDING NEAREST GENES ===\n",
      "Finding nearest genes for 255 variants...\n",
      "Found nearest genes for 255 variants\n",
      "Adding gene symbols and ENSG IDs...\n"
     ]
    },
    {
     "name": "stderr",
     "output_type": "stream",
     "text": [
      "'select()' returned 1:1 mapping between keys and columns\n",
      "\n"
     ]
    },
    {
     "name": "stdout",
     "output_type": "stream",
     "text": [
      "Nearest gene results saved to Aging4_nearest.tsv \n",
      "\n",
      "Nearest Gene Summary:\n",
      "Variants with nearest genes: 255 \n",
      "Unique genes found: 11 \n",
      "Median distance to nearest gene: 64164 bp\n",
      "Mean distance to nearest gene: 216153 bp\n",
      "\n",
      "=== FINDING GENES WITHIN 5e+05 BP WINDOW ===\n",
      "Using fast data.table method for window-based mapping...\n",
      "Joining variants with genes by chromosome...\n",
      "Calculating distances and filtering...\n",
      "Found 2288 variant-gene pairs within 5e+05 bp\n",
      "Adding gene symbols and ENSG IDs...\n"
     ]
    },
    {
     "name": "stderr",
     "output_type": "stream",
     "text": [
      "'select()' returned 1:1 mapping between keys and columns\n",
      "\n"
     ]
    },
    {
     "name": "stdout",
     "output_type": "stream",
     "text": [
      "Window-based results saved to Aging4_window_5e+05bp.tsv \n",
      "\n",
      "Window-based Summary:\n",
      "Total variant-gene pairs: 2288 \n",
      "Unique variants with nearby genes: 255 \n",
      "Unique genes found: 110 \n",
      "Average genes per variant: 8.97 \n"
     ]
    }
   ],
   "source": [
    "Aging4_sig_gene <- run_gene_mapping(variants_df= Aging4_sig, method = \"both\", \n",
    "                           output_prefix = \"Aging4\")\n",
    "# Creates: my_gwas_analysis_nearest.tsv and my_gwas_analysis_window_500000bp.tsv\n"
   ]
  },
  {
   "cell_type": "code",
   "execution_count": 52,
   "id": "673830f5-c949-4d76-b2e6-84a6216d7540",
   "metadata": {},
   "outputs": [
    {
     "name": "stdout",
     "output_type": "stream",
     "text": [
      "Processing 2127 variants using method: both \n",
      "Sample chromosome values: 1, 2, 3, 4, 6 \n",
      "\n",
      "=== FINDING NEAREST GENES ===\n",
      "Finding nearest genes for 2127 variants...\n",
      "Found nearest genes for 2127 variants\n",
      "Adding gene symbols and ENSG IDs...\n"
     ]
    },
    {
     "name": "stderr",
     "output_type": "stream",
     "text": [
      "'select()' returned 1:many mapping between keys and columns\n",
      "\n"
     ]
    },
    {
     "name": "stdout",
     "output_type": "stream",
     "text": [
      "Warning: Some genes have multiple ENSG IDs. Taking the first one.\n",
      "Nearest gene results saved to Aging5_nearest.tsv \n",
      "\n",
      "Nearest Gene Summary:\n",
      "Variants with nearest genes: 2127 \n",
      "Unique genes found: 69 \n",
      "Median distance to nearest gene: 42856 bp\n",
      "Mean distance to nearest gene: 77250 bp\n",
      "\n",
      "=== FINDING GENES WITHIN 5e+05 BP WINDOW ===\n",
      "Using fast data.table method for window-based mapping...\n",
      "Joining variants with genes by chromosome...\n",
      "Calculating distances and filtering...\n",
      "Found 28032 variant-gene pairs within 5e+05 bp\n",
      "Adding gene symbols and ENSG IDs...\n"
     ]
    },
    {
     "name": "stderr",
     "output_type": "stream",
     "text": [
      "'select()' returned 1:many mapping between keys and columns\n",
      "\n"
     ]
    },
    {
     "name": "stdout",
     "output_type": "stream",
     "text": [
      "Warning: Some genes have multiple ENSG IDs. Taking the first one.\n",
      "Window-based results saved to Aging5_window_5e+05bp.tsv \n",
      "\n",
      "Window-based Summary:\n",
      "Total variant-gene pairs: 28032 \n",
      "Unique variants with nearby genes: 2127 \n",
      "Unique genes found: 327 \n",
      "Average genes per variant: 13.18 \n"
     ]
    }
   ],
   "source": [
    "Aging5_sig_gene <- run_gene_mapping(variants_df= Aging5_sig, method = \"both\", \n",
    "                           output_prefix = \"Aging5\")\n",
    "# Creates: my_gwas_analysis_nearest.tsv and my_gwas_analysis_window_500000bp.tsv\n"
   ]
  },
  {
   "cell_type": "code",
   "execution_count": null,
   "id": "7e70d4d2-d015-444c-8f4f-cdb4442f7518",
   "metadata": {},
   "outputs": [],
   "source": []
  }
 ],
 "metadata": {
  "kernelspec": {
   "display_name": "R",
   "language": "R",
   "name": "ir"
  },
  "language_info": {
   "codemirror_mode": "r",
   "file_extension": ".r",
   "mimetype": "text/x-r-source",
   "name": "R",
   "pygments_lexer": "r",
   "version": "4.3.3"
  }
 },
 "nbformat": 4,
 "nbformat_minor": 5
}
