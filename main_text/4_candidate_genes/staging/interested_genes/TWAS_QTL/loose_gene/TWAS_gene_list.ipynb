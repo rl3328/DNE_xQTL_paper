{
 "cells": [
  {
   "cell_type": "code",
   "execution_count": 19,
   "id": "f4c0d3b1-7497-4682-8a81-c5040c6846d4",
   "metadata": {},
   "outputs": [],
   "source": [
    "library(tidyverse)\n",
    "library(data.table)"
   ]
  },
  {
   "cell_type": "markdown",
   "id": "6c5e8aec-62c0-4c82-87a7-74a6d72eae81",
   "metadata": {},
   "source": [
    "# TWAS"
   ]
  },
  {
   "cell_type": "markdown",
   "id": "e03b0a42-8dea-4323-96c1-5b01ffdd0247",
   "metadata": {},
   "source": [
    "## TL1"
   ]
  },
  {
   "cell_type": "code",
   "execution_count": 3,
   "id": "404c0e13-614f-47c8-a6ef-9c016eb2fa93",
   "metadata": {},
   "outputs": [],
   "source": [
    "TL1 <- fread(\"~/project/image_QTL/twas/TL1_twas_merged.tsv.gz.combined_twas.tsv.gz\")"
   ]
  },
  {
   "cell_type": "code",
   "execution_count": 83,
   "id": "890596eb-f41b-4187-a5bc-1ea7c903ee34",
   "metadata": {
    "scrolled": true
   },
   "outputs": [
    {
     "data": {
      "text/html": [
       "<table class=\"dataframe\">\n",
       "<caption>A data.table: 6 x 19</caption>\n",
       "<thead>\n",
       "\t<tr><th scope=col>chr</th><th scope=col>molecular_id</th><th scope=col>TSS</th><th scope=col>start</th><th scope=col>end</th><th scope=col>context</th><th scope=col>gwas_study</th><th scope=col>method</th><th scope=col>is_imputable</th><th scope=col>is_selected_method</th><th scope=col>rsq_cv</th><th scope=col>pval_cv</th><th scope=col>twas_z</th><th scope=col>twas_pval</th><th scope=col>type</th><th scope=col>block</th><th scope=col>region</th><th scope=col>study_context</th><th scope=col>source_file</th></tr>\n",
       "\t<tr><th scope=col>&lt;int&gt;</th><th scope=col>&lt;chr&gt;</th><th scope=col>&lt;int&gt;</th><th scope=col>&lt;int&gt;</th><th scope=col>&lt;int&gt;</th><th scope=col>&lt;chr&gt;</th><th scope=col>&lt;chr&gt;</th><th scope=col>&lt;chr&gt;</th><th scope=col>&lt;lgl&gt;</th><th scope=col>&lt;lgl&gt;</th><th scope=col>&lt;dbl&gt;</th><th scope=col>&lt;dbl&gt;</th><th scope=col>&lt;dbl&gt;</th><th scope=col>&lt;dbl&gt;</th><th scope=col>&lt;chr&gt;</th><th scope=col>&lt;chr&gt;</th><th scope=col>&lt;chr&gt;</th><th scope=col>&lt;chr&gt;</th><th scope=col>&lt;chr&gt;</th></tr>\n",
       "</thead>\n",
       "<tbody>\n",
       "\t<tr><td>10</td><td>ENSG00000055950</td><td>100987514</td><td> 99320000</td><td>102120000</td><td>Knight_eQTL_brain</td><td>Telomere_pc1</td><td>enet </td><td>TRUE</td><td>FALSE</td><td>0.098757440</td><td>8.923911e-10</td><td>-2.903662</td><td>0.003688264</td><td>eQTL</td><td>chr10_100331627_104378781</td><td>chr10_100331627_104378781</td><td>KNIGHT_eQTL_pQTL</td><td>KNIGHT_eQTL_pQTL.chr10_100331627_104378781.twas.tsv.gz</td></tr>\n",
       "\t<tr><td>10</td><td>ENSG00000055950</td><td>100987514</td><td> 99320000</td><td>102120000</td><td>Knight_eQTL_brain</td><td>Telomere_pc1</td><td>lasso</td><td>TRUE</td><td>FALSE</td><td>0.103370596</td><td>3.541036e-10</td><td>-2.878534</td><td>0.003995280</td><td>eQTL</td><td>chr10_100331627_104378781</td><td>chr10_100331627_104378781</td><td>KNIGHT_eQTL_pQTL</td><td>KNIGHT_eQTL_pQTL.chr10_100331627_104378781.twas.tsv.gz</td></tr>\n",
       "\t<tr><td>10</td><td>ENSG00000055950</td><td>100987514</td><td> 99320000</td><td>102120000</td><td>Knight_eQTL_brain</td><td>Telomere_pc1</td><td>mrash</td><td>TRUE</td><td>FALSE</td><td>0.089177838</td><td>6.013310e-09</td><td>-2.963834</td><td>0.003038321</td><td>eQTL</td><td>chr10_100331627_104378781</td><td>chr10_100331627_104378781</td><td>KNIGHT_eQTL_pQTL</td><td>KNIGHT_eQTL_pQTL.chr10_100331627_104378781.twas.tsv.gz</td></tr>\n",
       "\t<tr><td>10</td><td>ENSG00000055950</td><td>100987514</td><td> 99320000</td><td>102120000</td><td>Knight_eQTL_brain</td><td>Telomere_pc1</td><td>susie</td><td>TRUE</td><td> TRUE</td><td>0.121638427</td><td>8.766557e-12</td><td>-2.919076</td><td>0.003510708</td><td>eQTL</td><td>chr10_100331627_104378781</td><td>chr10_100331627_104378781</td><td>KNIGHT_eQTL_pQTL</td><td>KNIGHT_eQTL_pQTL.chr10_100331627_104378781.twas.tsv.gz</td></tr>\n",
       "\t<tr><td>10</td><td>ENSG00000059915</td><td>102421538</td><td>101402617</td><td>103680000</td><td>Knight_eQTL_brain</td><td>Telomere_pc1</td><td>enet </td><td>TRUE</td><td>FALSE</td><td>0.007872702</td><td>5.201216e-02</td><td> 2.351818</td><td>0.018681917</td><td>eQTL</td><td>chr10_100331627_104378781</td><td>chr10_100331627_104378781</td><td>KNIGHT_eQTL_pQTL</td><td>KNIGHT_eQTL_pQTL.chr10_100331627_104378781.twas.tsv.gz</td></tr>\n",
       "\t<tr><td>10</td><td>ENSG00000059915</td><td>102421538</td><td>101402617</td><td>103680000</td><td>Knight_eQTL_brain</td><td>Telomere_pc1</td><td>lasso</td><td>TRUE</td><td>FALSE</td><td>0.006195072</td><td>7.447581e-02</td><td> 2.565091</td><td>0.010314876</td><td>eQTL</td><td>chr10_100331627_104378781</td><td>chr10_100331627_104378781</td><td>KNIGHT_eQTL_pQTL</td><td>KNIGHT_eQTL_pQTL.chr10_100331627_104378781.twas.tsv.gz</td></tr>\n",
       "</tbody>\n",
       "</table>\n"
      ],
      "text/latex": [
       "A data.table: 6 x 19\n",
       "\\begin{tabular}{lllllllllllllllllll}\n",
       " chr & molecular\\_id & TSS & start & end & context & gwas\\_study & method & is\\_imputable & is\\_selected\\_method & rsq\\_cv & pval\\_cv & twas\\_z & twas\\_pval & type & block & region & study\\_context & source\\_file\\\\\n",
       " <int> & <chr> & <int> & <int> & <int> & <chr> & <chr> & <chr> & <lgl> & <lgl> & <dbl> & <dbl> & <dbl> & <dbl> & <chr> & <chr> & <chr> & <chr> & <chr>\\\\\n",
       "\\hline\n",
       "\t 10 & ENSG00000055950 & 100987514 &  99320000 & 102120000 & Knight\\_eQTL\\_brain & Telomere\\_pc1 & enet  & TRUE & FALSE & 0.098757440 & 8.923911e-10 & -2.903662 & 0.003688264 & eQTL & chr10\\_100331627\\_104378781 & chr10\\_100331627\\_104378781 & KNIGHT\\_eQTL\\_pQTL & KNIGHT\\_eQTL\\_pQTL.chr10\\_100331627\\_104378781.twas.tsv.gz\\\\\n",
       "\t 10 & ENSG00000055950 & 100987514 &  99320000 & 102120000 & Knight\\_eQTL\\_brain & Telomere\\_pc1 & lasso & TRUE & FALSE & 0.103370596 & 3.541036e-10 & -2.878534 & 0.003995280 & eQTL & chr10\\_100331627\\_104378781 & chr10\\_100331627\\_104378781 & KNIGHT\\_eQTL\\_pQTL & KNIGHT\\_eQTL\\_pQTL.chr10\\_100331627\\_104378781.twas.tsv.gz\\\\\n",
       "\t 10 & ENSG00000055950 & 100987514 &  99320000 & 102120000 & Knight\\_eQTL\\_brain & Telomere\\_pc1 & mrash & TRUE & FALSE & 0.089177838 & 6.013310e-09 & -2.963834 & 0.003038321 & eQTL & chr10\\_100331627\\_104378781 & chr10\\_100331627\\_104378781 & KNIGHT\\_eQTL\\_pQTL & KNIGHT\\_eQTL\\_pQTL.chr10\\_100331627\\_104378781.twas.tsv.gz\\\\\n",
       "\t 10 & ENSG00000055950 & 100987514 &  99320000 & 102120000 & Knight\\_eQTL\\_brain & Telomere\\_pc1 & susie & TRUE &  TRUE & 0.121638427 & 8.766557e-12 & -2.919076 & 0.003510708 & eQTL & chr10\\_100331627\\_104378781 & chr10\\_100331627\\_104378781 & KNIGHT\\_eQTL\\_pQTL & KNIGHT\\_eQTL\\_pQTL.chr10\\_100331627\\_104378781.twas.tsv.gz\\\\\n",
       "\t 10 & ENSG00000059915 & 102421538 & 101402617 & 103680000 & Knight\\_eQTL\\_brain & Telomere\\_pc1 & enet  & TRUE & FALSE & 0.007872702 & 5.201216e-02 &  2.351818 & 0.018681917 & eQTL & chr10\\_100331627\\_104378781 & chr10\\_100331627\\_104378781 & KNIGHT\\_eQTL\\_pQTL & KNIGHT\\_eQTL\\_pQTL.chr10\\_100331627\\_104378781.twas.tsv.gz\\\\\n",
       "\t 10 & ENSG00000059915 & 102421538 & 101402617 & 103680000 & Knight\\_eQTL\\_brain & Telomere\\_pc1 & lasso & TRUE & FALSE & 0.006195072 & 7.447581e-02 &  2.565091 & 0.010314876 & eQTL & chr10\\_100331627\\_104378781 & chr10\\_100331627\\_104378781 & KNIGHT\\_eQTL\\_pQTL & KNIGHT\\_eQTL\\_pQTL.chr10\\_100331627\\_104378781.twas.tsv.gz\\\\\n",
       "\\end{tabular}\n"
      ],
      "text/markdown": [
       "\n",
       "A data.table: 6 x 19\n",
       "\n",
       "| chr &lt;int&gt; | molecular_id &lt;chr&gt; | TSS &lt;int&gt; | start &lt;int&gt; | end &lt;int&gt; | context &lt;chr&gt; | gwas_study &lt;chr&gt; | method &lt;chr&gt; | is_imputable &lt;lgl&gt; | is_selected_method &lt;lgl&gt; | rsq_cv &lt;dbl&gt; | pval_cv &lt;dbl&gt; | twas_z &lt;dbl&gt; | twas_pval &lt;dbl&gt; | type &lt;chr&gt; | block &lt;chr&gt; | region &lt;chr&gt; | study_context &lt;chr&gt; | source_file &lt;chr&gt; |\n",
       "|---|---|---|---|---|---|---|---|---|---|---|---|---|---|---|---|---|---|---|\n",
       "| 10 | ENSG00000055950 | 100987514 |  99320000 | 102120000 | Knight_eQTL_brain | Telomere_pc1 | enet  | TRUE | FALSE | 0.098757440 | 8.923911e-10 | -2.903662 | 0.003688264 | eQTL | chr10_100331627_104378781 | chr10_100331627_104378781 | KNIGHT_eQTL_pQTL | KNIGHT_eQTL_pQTL.chr10_100331627_104378781.twas.tsv.gz |\n",
       "| 10 | ENSG00000055950 | 100987514 |  99320000 | 102120000 | Knight_eQTL_brain | Telomere_pc1 | lasso | TRUE | FALSE | 0.103370596 | 3.541036e-10 | -2.878534 | 0.003995280 | eQTL | chr10_100331627_104378781 | chr10_100331627_104378781 | KNIGHT_eQTL_pQTL | KNIGHT_eQTL_pQTL.chr10_100331627_104378781.twas.tsv.gz |\n",
       "| 10 | ENSG00000055950 | 100987514 |  99320000 | 102120000 | Knight_eQTL_brain | Telomere_pc1 | mrash | TRUE | FALSE | 0.089177838 | 6.013310e-09 | -2.963834 | 0.003038321 | eQTL | chr10_100331627_104378781 | chr10_100331627_104378781 | KNIGHT_eQTL_pQTL | KNIGHT_eQTL_pQTL.chr10_100331627_104378781.twas.tsv.gz |\n",
       "| 10 | ENSG00000055950 | 100987514 |  99320000 | 102120000 | Knight_eQTL_brain | Telomere_pc1 | susie | TRUE |  TRUE | 0.121638427 | 8.766557e-12 | -2.919076 | 0.003510708 | eQTL | chr10_100331627_104378781 | chr10_100331627_104378781 | KNIGHT_eQTL_pQTL | KNIGHT_eQTL_pQTL.chr10_100331627_104378781.twas.tsv.gz |\n",
       "| 10 | ENSG00000059915 | 102421538 | 101402617 | 103680000 | Knight_eQTL_brain | Telomere_pc1 | enet  | TRUE | FALSE | 0.007872702 | 5.201216e-02 |  2.351818 | 0.018681917 | eQTL | chr10_100331627_104378781 | chr10_100331627_104378781 | KNIGHT_eQTL_pQTL | KNIGHT_eQTL_pQTL.chr10_100331627_104378781.twas.tsv.gz |\n",
       "| 10 | ENSG00000059915 | 102421538 | 101402617 | 103680000 | Knight_eQTL_brain | Telomere_pc1 | lasso | TRUE | FALSE | 0.006195072 | 7.447581e-02 |  2.565091 | 0.010314876 | eQTL | chr10_100331627_104378781 | chr10_100331627_104378781 | KNIGHT_eQTL_pQTL | KNIGHT_eQTL_pQTL.chr10_100331627_104378781.twas.tsv.gz |\n",
       "\n"
      ],
      "text/plain": [
       "  chr molecular_id    TSS       start     end       context          \n",
       "1 10  ENSG00000055950 100987514  99320000 102120000 Knight_eQTL_brain\n",
       "2 10  ENSG00000055950 100987514  99320000 102120000 Knight_eQTL_brain\n",
       "3 10  ENSG00000055950 100987514  99320000 102120000 Knight_eQTL_brain\n",
       "4 10  ENSG00000055950 100987514  99320000 102120000 Knight_eQTL_brain\n",
       "5 10  ENSG00000059915 102421538 101402617 103680000 Knight_eQTL_brain\n",
       "6 10  ENSG00000059915 102421538 101402617 103680000 Knight_eQTL_brain\n",
       "  gwas_study   method is_imputable is_selected_method rsq_cv      pval_cv     \n",
       "1 Telomere_pc1 enet   TRUE         FALSE              0.098757440 8.923911e-10\n",
       "2 Telomere_pc1 lasso  TRUE         FALSE              0.103370596 3.541036e-10\n",
       "3 Telomere_pc1 mrash  TRUE         FALSE              0.089177838 6.013310e-09\n",
       "4 Telomere_pc1 susie  TRUE          TRUE              0.121638427 8.766557e-12\n",
       "5 Telomere_pc1 enet   TRUE         FALSE              0.007872702 5.201216e-02\n",
       "6 Telomere_pc1 lasso  TRUE         FALSE              0.006195072 7.447581e-02\n",
       "  twas_z    twas_pval   type block                    \n",
       "1 -2.903662 0.003688264 eQTL chr10_100331627_104378781\n",
       "2 -2.878534 0.003995280 eQTL chr10_100331627_104378781\n",
       "3 -2.963834 0.003038321 eQTL chr10_100331627_104378781\n",
       "4 -2.919076 0.003510708 eQTL chr10_100331627_104378781\n",
       "5  2.351818 0.018681917 eQTL chr10_100331627_104378781\n",
       "6  2.565091 0.010314876 eQTL chr10_100331627_104378781\n",
       "  region                    study_context   \n",
       "1 chr10_100331627_104378781 KNIGHT_eQTL_pQTL\n",
       "2 chr10_100331627_104378781 KNIGHT_eQTL_pQTL\n",
       "3 chr10_100331627_104378781 KNIGHT_eQTL_pQTL\n",
       "4 chr10_100331627_104378781 KNIGHT_eQTL_pQTL\n",
       "5 chr10_100331627_104378781 KNIGHT_eQTL_pQTL\n",
       "6 chr10_100331627_104378781 KNIGHT_eQTL_pQTL\n",
       "  source_file                                           \n",
       "1 KNIGHT_eQTL_pQTL.chr10_100331627_104378781.twas.tsv.gz\n",
       "2 KNIGHT_eQTL_pQTL.chr10_100331627_104378781.twas.tsv.gz\n",
       "3 KNIGHT_eQTL_pQTL.chr10_100331627_104378781.twas.tsv.gz\n",
       "4 KNIGHT_eQTL_pQTL.chr10_100331627_104378781.twas.tsv.gz\n",
       "5 KNIGHT_eQTL_pQTL.chr10_100331627_104378781.twas.tsv.gz\n",
       "6 KNIGHT_eQTL_pQTL.chr10_100331627_104378781.twas.tsv.gz"
      ]
     },
     "metadata": {},
     "output_type": "display_data"
    },
    {
     "data": {
      "text/html": [
       "<style>\n",
       ".list-inline {list-style: none; margin:0; padding: 0}\n",
       ".list-inline>li {display: inline-block}\n",
       ".list-inline>li:not(:last-child)::after {content: \"\\00b7\"; padding: 0 .5ex}\n",
       "</style>\n",
       "<ol class=list-inline><li>922426</li><li>19</li></ol>\n"
      ],
      "text/latex": [
       "\\begin{enumerate*}\n",
       "\\item 922426\n",
       "\\item 19\n",
       "\\end{enumerate*}\n"
      ],
      "text/markdown": [
       "1. 922426\n",
       "2. 19\n",
       "\n",
       "\n"
      ],
      "text/plain": [
       "[1] 922426     19"
      ]
     },
     "metadata": {},
     "output_type": "display_data"
    }
   ],
   "source": [
    "head(TL1)\n",
    "dim(TL1)"
   ]
  },
  {
   "cell_type": "code",
   "execution_count": 84,
   "id": "1f1cc928-9879-4aa6-a485-4b2dbccc5443",
   "metadata": {},
   "outputs": [
    {
     "data": {
      "text/html": [
       "<style>\n",
       ".list-inline {list-style: none; margin:0; padding: 0}\n",
       ".list-inline>li {display: inline-block}\n",
       ".list-inline>li:not(:last-child)::after {content: \"\\00b7\"; padding: 0 .5ex}\n",
       "</style>\n",
       "<ol class=list-inline><li>922426</li><li>19</li></ol>\n"
      ],
      "text/latex": [
       "\\begin{enumerate*}\n",
       "\\item 922426\n",
       "\\item 19\n",
       "\\end{enumerate*}\n"
      ],
      "text/markdown": [
       "1. 922426\n",
       "2. 19\n",
       "\n",
       "\n"
      ],
      "text/plain": [
       "[1] 922426     19"
      ]
     },
     "metadata": {},
     "output_type": "display_data"
    }
   ],
   "source": [
    "dim(unique(TL1))"
   ]
  },
  {
   "cell_type": "code",
   "execution_count": 4,
   "id": "658ebf95-eea0-4b5b-8dbb-09d0dcf3fe71",
   "metadata": {},
   "outputs": [
    {
     "data": {
      "text/html": [
       "1249"
      ],
      "text/latex": [
       "1249"
      ],
      "text/markdown": [
       "1249"
      ],
      "text/plain": [
       "[1] 1249"
      ]
     },
     "metadata": {},
     "output_type": "display_data"
    }
   ],
   "source": [
    "sig_TL1 = TL1 |> filter(is_selected_method, twas_pval < 2.5*1e-6) \n",
    "length(unique(sig_TL1$molecular_id))"
   ]
  },
  {
   "cell_type": "code",
   "execution_count": 5,
   "id": "1a38f750-187f-4047-b41d-e315348931f9",
   "metadata": {},
   "outputs": [],
   "source": [
    "TL1_gene_list = sig_TL1 |> mutate(`#chr` = paste0(\"chr\", chr), gene_id = molecular_id)|>select(`#chr`, start, end, gene_id) |> unique()"
   ]
  },
  {
   "cell_type": "code",
   "execution_count": 6,
   "id": "27b4c66e-4474-4d16-b90e-52ccbda1430c",
   "metadata": {},
   "outputs": [
    {
     "data": {
      "text/html": [
       "<style>\n",
       ".list-inline {list-style: none; margin:0; padding: 0}\n",
       ".list-inline>li {display: inline-block}\n",
       ".list-inline>li:not(:last-child)::after {content: \"\\00b7\"; padding: 0 .5ex}\n",
       "</style>\n",
       "<ol class=list-inline><li>1249</li><li>4</li></ol>\n"
      ],
      "text/latex": [
       "\\begin{enumerate*}\n",
       "\\item 1249\n",
       "\\item 4\n",
       "\\end{enumerate*}\n"
      ],
      "text/markdown": [
       "1. 1249\n",
       "2. 4\n",
       "\n",
       "\n"
      ],
      "text/plain": [
       "[1] 1249    4"
      ]
     },
     "metadata": {},
     "output_type": "display_data"
    }
   ],
   "source": [
    "dim(TL1_gene_list)"
   ]
  },
  {
   "cell_type": "code",
   "execution_count": 7,
   "id": "1e1d83f4-68db-49e2-adc1-ce3e6c85c432",
   "metadata": {},
   "outputs": [],
   "source": [
    "Aging_QTL_gene = fread(\"~/project/image_QTL/twas/annotated_Aging_gene.tsv\")\n"
   ]
  },
  {
   "cell_type": "code",
   "execution_count": 8,
   "id": "b97ba062-f7f2-4bce-99cb-17994da2538c",
   "metadata": {},
   "outputs": [],
   "source": [
    "TL1_QTL_gene = Aging_QTL_gene |> filter(str_detect(event_ID, \"Telomere_pc1\")) |> select(-strand,-event_ID)\n",
    "                                        "
   ]
  },
  {
   "cell_type": "code",
   "execution_count": 9,
   "id": "c3a2af41-367f-43cd-92c3-1eaedf247a3f",
   "metadata": {},
   "outputs": [],
   "source": [
    "TL1_gene = bind_rows(TL1_gene_list, TL1_QTL_gene)"
   ]
  },
  {
   "cell_type": "code",
   "execution_count": 10,
   "id": "c32bb538-8348-4107-b96a-32dc6f4f4ea1",
   "metadata": {},
   "outputs": [],
   "source": [
    "fwrite(TL1_gene, \"TL1_gene_list.tsv\", sep = '\\t')"
   ]
  },
  {
   "cell_type": "markdown",
   "id": "bd1824d1-eb6c-431f-8c3f-c4abe5ad1620",
   "metadata": {},
   "source": [
    "## image_AD1"
   ]
  },
  {
   "cell_type": "code",
   "execution_count": 20,
   "id": "3964baa3-326e-4964-a149-439a95f47d33",
   "metadata": {},
   "outputs": [],
   "source": [
    "image_AD1 <- fread(\"~/project/image_QTL/twas/image_AD1_twas_merged.tsv.gz.combined_twas.tsv.gz\")"
   ]
  },
  {
   "cell_type": "code",
   "execution_count": 21,
   "id": "3f87e271-bfbb-47e7-8a8e-3326c69a7a13",
   "metadata": {},
   "outputs": [
    {
     "data": {
      "text/html": [
       "<table class=\"dataframe\">\n",
       "<caption>A data.table: 6 x 19</caption>\n",
       "<thead>\n",
       "\t<tr><th scope=col>chr</th><th scope=col>molecular_id</th><th scope=col>TSS</th><th scope=col>start</th><th scope=col>end</th><th scope=col>context</th><th scope=col>gwas_study</th><th scope=col>method</th><th scope=col>is_imputable</th><th scope=col>is_selected_method</th><th scope=col>rsq_cv</th><th scope=col>pval_cv</th><th scope=col>twas_z</th><th scope=col>twas_pval</th><th scope=col>type</th><th scope=col>block</th><th scope=col>region</th><th scope=col>study_context</th><th scope=col>source_file</th></tr>\n",
       "\t<tr><th scope=col>&lt;int&gt;</th><th scope=col>&lt;chr&gt;</th><th scope=col>&lt;int&gt;</th><th scope=col>&lt;int&gt;</th><th scope=col>&lt;int&gt;</th><th scope=col>&lt;chr&gt;</th><th scope=col>&lt;chr&gt;</th><th scope=col>&lt;chr&gt;</th><th scope=col>&lt;lgl&gt;</th><th scope=col>&lt;lgl&gt;</th><th scope=col>&lt;dbl&gt;</th><th scope=col>&lt;dbl&gt;</th><th scope=col>&lt;dbl&gt;</th><th scope=col>&lt;dbl&gt;</th><th scope=col>&lt;chr&gt;</th><th scope=col>&lt;chr&gt;</th><th scope=col>&lt;chr&gt;</th><th scope=col>&lt;chr&gt;</th><th scope=col>&lt;chr&gt;</th></tr>\n",
       "</thead>\n",
       "<tbody>\n",
       "\t<tr><td>10</td><td>ENSG00000055950</td><td>100987514</td><td> 99320000</td><td>102120000</td><td>Knight_eQTL_brain</td><td>image_AD1</td><td>enet </td><td>TRUE</td><td>FALSE</td><td>0.098757440</td><td>8.923911e-10</td><td> 0.4604784</td><td>0.6451729061</td><td>eQTL</td><td>chr10_100331627_104378781</td><td>chr10_100331627_104378781</td><td>KNIGHT_eQTL_pQTL</td><td>KNIGHT_eQTL_pQTL.chr10_100331627_104378781.twas.tsv.gz</td></tr>\n",
       "\t<tr><td>10</td><td>ENSG00000055950</td><td>100987514</td><td> 99320000</td><td>102120000</td><td>Knight_eQTL_brain</td><td>image_AD1</td><td>lasso</td><td>TRUE</td><td>FALSE</td><td>0.103370596</td><td>3.541036e-10</td><td> 0.4628714</td><td>0.6434565734</td><td>eQTL</td><td>chr10_100331627_104378781</td><td>chr10_100331627_104378781</td><td>KNIGHT_eQTL_pQTL</td><td>KNIGHT_eQTL_pQTL.chr10_100331627_104378781.twas.tsv.gz</td></tr>\n",
       "\t<tr><td>10</td><td>ENSG00000055950</td><td>100987514</td><td> 99320000</td><td>102120000</td><td>Knight_eQTL_brain</td><td>image_AD1</td><td>mrash</td><td>TRUE</td><td>FALSE</td><td>0.089177838</td><td>6.013310e-09</td><td> 0.6389774</td><td>0.5228376549</td><td>eQTL</td><td>chr10_100331627_104378781</td><td>chr10_100331627_104378781</td><td>KNIGHT_eQTL_pQTL</td><td>KNIGHT_eQTL_pQTL.chr10_100331627_104378781.twas.tsv.gz</td></tr>\n",
       "\t<tr><td>10</td><td>ENSG00000055950</td><td>100987514</td><td> 99320000</td><td>102120000</td><td>Knight_eQTL_brain</td><td>image_AD1</td><td>susie</td><td>TRUE</td><td> TRUE</td><td>0.121638427</td><td>8.766557e-12</td><td> 0.4641349</td><td>0.6425511004</td><td>eQTL</td><td>chr10_100331627_104378781</td><td>chr10_100331627_104378781</td><td>KNIGHT_eQTL_pQTL</td><td>KNIGHT_eQTL_pQTL.chr10_100331627_104378781.twas.tsv.gz</td></tr>\n",
       "\t<tr><td>10</td><td>ENSG00000059915</td><td>102421538</td><td>101402617</td><td>103680000</td><td>Knight_eQTL_brain</td><td>image_AD1</td><td>enet </td><td>TRUE</td><td>FALSE</td><td>0.007872702</td><td>5.201216e-02</td><td>-3.5326758</td><td>0.0004113766</td><td>eQTL</td><td>chr10_100331627_104378781</td><td>chr10_100331627_104378781</td><td>KNIGHT_eQTL_pQTL</td><td>KNIGHT_eQTL_pQTL.chr10_100331627_104378781.twas.tsv.gz</td></tr>\n",
       "\t<tr><td>10</td><td>ENSG00000059915</td><td>102421538</td><td>101402617</td><td>103680000</td><td>Knight_eQTL_brain</td><td>image_AD1</td><td>lasso</td><td>TRUE</td><td>FALSE</td><td>0.006195072</td><td>7.447581e-02</td><td>-3.4892189</td><td>0.0004844343</td><td>eQTL</td><td>chr10_100331627_104378781</td><td>chr10_100331627_104378781</td><td>KNIGHT_eQTL_pQTL</td><td>KNIGHT_eQTL_pQTL.chr10_100331627_104378781.twas.tsv.gz</td></tr>\n",
       "</tbody>\n",
       "</table>\n"
      ],
      "text/latex": [
       "A data.table: 6 x 19\n",
       "\\begin{tabular}{lllllllllllllllllll}\n",
       " chr & molecular\\_id & TSS & start & end & context & gwas\\_study & method & is\\_imputable & is\\_selected\\_method & rsq\\_cv & pval\\_cv & twas\\_z & twas\\_pval & type & block & region & study\\_context & source\\_file\\\\\n",
       " <int> & <chr> & <int> & <int> & <int> & <chr> & <chr> & <chr> & <lgl> & <lgl> & <dbl> & <dbl> & <dbl> & <dbl> & <chr> & <chr> & <chr> & <chr> & <chr>\\\\\n",
       "\\hline\n",
       "\t 10 & ENSG00000055950 & 100987514 &  99320000 & 102120000 & Knight\\_eQTL\\_brain & image\\_AD1 & enet  & TRUE & FALSE & 0.098757440 & 8.923911e-10 &  0.4604784 & 0.6451729061 & eQTL & chr10\\_100331627\\_104378781 & chr10\\_100331627\\_104378781 & KNIGHT\\_eQTL\\_pQTL & KNIGHT\\_eQTL\\_pQTL.chr10\\_100331627\\_104378781.twas.tsv.gz\\\\\n",
       "\t 10 & ENSG00000055950 & 100987514 &  99320000 & 102120000 & Knight\\_eQTL\\_brain & image\\_AD1 & lasso & TRUE & FALSE & 0.103370596 & 3.541036e-10 &  0.4628714 & 0.6434565734 & eQTL & chr10\\_100331627\\_104378781 & chr10\\_100331627\\_104378781 & KNIGHT\\_eQTL\\_pQTL & KNIGHT\\_eQTL\\_pQTL.chr10\\_100331627\\_104378781.twas.tsv.gz\\\\\n",
       "\t 10 & ENSG00000055950 & 100987514 &  99320000 & 102120000 & Knight\\_eQTL\\_brain & image\\_AD1 & mrash & TRUE & FALSE & 0.089177838 & 6.013310e-09 &  0.6389774 & 0.5228376549 & eQTL & chr10\\_100331627\\_104378781 & chr10\\_100331627\\_104378781 & KNIGHT\\_eQTL\\_pQTL & KNIGHT\\_eQTL\\_pQTL.chr10\\_100331627\\_104378781.twas.tsv.gz\\\\\n",
       "\t 10 & ENSG00000055950 & 100987514 &  99320000 & 102120000 & Knight\\_eQTL\\_brain & image\\_AD1 & susie & TRUE &  TRUE & 0.121638427 & 8.766557e-12 &  0.4641349 & 0.6425511004 & eQTL & chr10\\_100331627\\_104378781 & chr10\\_100331627\\_104378781 & KNIGHT\\_eQTL\\_pQTL & KNIGHT\\_eQTL\\_pQTL.chr10\\_100331627\\_104378781.twas.tsv.gz\\\\\n",
       "\t 10 & ENSG00000059915 & 102421538 & 101402617 & 103680000 & Knight\\_eQTL\\_brain & image\\_AD1 & enet  & TRUE & FALSE & 0.007872702 & 5.201216e-02 & -3.5326758 & 0.0004113766 & eQTL & chr10\\_100331627\\_104378781 & chr10\\_100331627\\_104378781 & KNIGHT\\_eQTL\\_pQTL & KNIGHT\\_eQTL\\_pQTL.chr10\\_100331627\\_104378781.twas.tsv.gz\\\\\n",
       "\t 10 & ENSG00000059915 & 102421538 & 101402617 & 103680000 & Knight\\_eQTL\\_brain & image\\_AD1 & lasso & TRUE & FALSE & 0.006195072 & 7.447581e-02 & -3.4892189 & 0.0004844343 & eQTL & chr10\\_100331627\\_104378781 & chr10\\_100331627\\_104378781 & KNIGHT\\_eQTL\\_pQTL & KNIGHT\\_eQTL\\_pQTL.chr10\\_100331627\\_104378781.twas.tsv.gz\\\\\n",
       "\\end{tabular}\n"
      ],
      "text/markdown": [
       "\n",
       "A data.table: 6 x 19\n",
       "\n",
       "| chr &lt;int&gt; | molecular_id &lt;chr&gt; | TSS &lt;int&gt; | start &lt;int&gt; | end &lt;int&gt; | context &lt;chr&gt; | gwas_study &lt;chr&gt; | method &lt;chr&gt; | is_imputable &lt;lgl&gt; | is_selected_method &lt;lgl&gt; | rsq_cv &lt;dbl&gt; | pval_cv &lt;dbl&gt; | twas_z &lt;dbl&gt; | twas_pval &lt;dbl&gt; | type &lt;chr&gt; | block &lt;chr&gt; | region &lt;chr&gt; | study_context &lt;chr&gt; | source_file &lt;chr&gt; |\n",
       "|---|---|---|---|---|---|---|---|---|---|---|---|---|---|---|---|---|---|---|\n",
       "| 10 | ENSG00000055950 | 100987514 |  99320000 | 102120000 | Knight_eQTL_brain | image_AD1 | enet  | TRUE | FALSE | 0.098757440 | 8.923911e-10 |  0.4604784 | 0.6451729061 | eQTL | chr10_100331627_104378781 | chr10_100331627_104378781 | KNIGHT_eQTL_pQTL | KNIGHT_eQTL_pQTL.chr10_100331627_104378781.twas.tsv.gz |\n",
       "| 10 | ENSG00000055950 | 100987514 |  99320000 | 102120000 | Knight_eQTL_brain | image_AD1 | lasso | TRUE | FALSE | 0.103370596 | 3.541036e-10 |  0.4628714 | 0.6434565734 | eQTL | chr10_100331627_104378781 | chr10_100331627_104378781 | KNIGHT_eQTL_pQTL | KNIGHT_eQTL_pQTL.chr10_100331627_104378781.twas.tsv.gz |\n",
       "| 10 | ENSG00000055950 | 100987514 |  99320000 | 102120000 | Knight_eQTL_brain | image_AD1 | mrash | TRUE | FALSE | 0.089177838 | 6.013310e-09 |  0.6389774 | 0.5228376549 | eQTL | chr10_100331627_104378781 | chr10_100331627_104378781 | KNIGHT_eQTL_pQTL | KNIGHT_eQTL_pQTL.chr10_100331627_104378781.twas.tsv.gz |\n",
       "| 10 | ENSG00000055950 | 100987514 |  99320000 | 102120000 | Knight_eQTL_brain | image_AD1 | susie | TRUE |  TRUE | 0.121638427 | 8.766557e-12 |  0.4641349 | 0.6425511004 | eQTL | chr10_100331627_104378781 | chr10_100331627_104378781 | KNIGHT_eQTL_pQTL | KNIGHT_eQTL_pQTL.chr10_100331627_104378781.twas.tsv.gz |\n",
       "| 10 | ENSG00000059915 | 102421538 | 101402617 | 103680000 | Knight_eQTL_brain | image_AD1 | enet  | TRUE | FALSE | 0.007872702 | 5.201216e-02 | -3.5326758 | 0.0004113766 | eQTL | chr10_100331627_104378781 | chr10_100331627_104378781 | KNIGHT_eQTL_pQTL | KNIGHT_eQTL_pQTL.chr10_100331627_104378781.twas.tsv.gz |\n",
       "| 10 | ENSG00000059915 | 102421538 | 101402617 | 103680000 | Knight_eQTL_brain | image_AD1 | lasso | TRUE | FALSE | 0.006195072 | 7.447581e-02 | -3.4892189 | 0.0004844343 | eQTL | chr10_100331627_104378781 | chr10_100331627_104378781 | KNIGHT_eQTL_pQTL | KNIGHT_eQTL_pQTL.chr10_100331627_104378781.twas.tsv.gz |\n",
       "\n"
      ],
      "text/plain": [
       "  chr molecular_id    TSS       start     end       context          \n",
       "1 10  ENSG00000055950 100987514  99320000 102120000 Knight_eQTL_brain\n",
       "2 10  ENSG00000055950 100987514  99320000 102120000 Knight_eQTL_brain\n",
       "3 10  ENSG00000055950 100987514  99320000 102120000 Knight_eQTL_brain\n",
       "4 10  ENSG00000055950 100987514  99320000 102120000 Knight_eQTL_brain\n",
       "5 10  ENSG00000059915 102421538 101402617 103680000 Knight_eQTL_brain\n",
       "6 10  ENSG00000059915 102421538 101402617 103680000 Knight_eQTL_brain\n",
       "  gwas_study method is_imputable is_selected_method rsq_cv      pval_cv     \n",
       "1 image_AD1  enet   TRUE         FALSE              0.098757440 8.923911e-10\n",
       "2 image_AD1  lasso  TRUE         FALSE              0.103370596 3.541036e-10\n",
       "3 image_AD1  mrash  TRUE         FALSE              0.089177838 6.013310e-09\n",
       "4 image_AD1  susie  TRUE          TRUE              0.121638427 8.766557e-12\n",
       "5 image_AD1  enet   TRUE         FALSE              0.007872702 5.201216e-02\n",
       "6 image_AD1  lasso  TRUE         FALSE              0.006195072 7.447581e-02\n",
       "  twas_z     twas_pval    type block                    \n",
       "1  0.4604784 0.6451729061 eQTL chr10_100331627_104378781\n",
       "2  0.4628714 0.6434565734 eQTL chr10_100331627_104378781\n",
       "3  0.6389774 0.5228376549 eQTL chr10_100331627_104378781\n",
       "4  0.4641349 0.6425511004 eQTL chr10_100331627_104378781\n",
       "5 -3.5326758 0.0004113766 eQTL chr10_100331627_104378781\n",
       "6 -3.4892189 0.0004844343 eQTL chr10_100331627_104378781\n",
       "  region                    study_context   \n",
       "1 chr10_100331627_104378781 KNIGHT_eQTL_pQTL\n",
       "2 chr10_100331627_104378781 KNIGHT_eQTL_pQTL\n",
       "3 chr10_100331627_104378781 KNIGHT_eQTL_pQTL\n",
       "4 chr10_100331627_104378781 KNIGHT_eQTL_pQTL\n",
       "5 chr10_100331627_104378781 KNIGHT_eQTL_pQTL\n",
       "6 chr10_100331627_104378781 KNIGHT_eQTL_pQTL\n",
       "  source_file                                           \n",
       "1 KNIGHT_eQTL_pQTL.chr10_100331627_104378781.twas.tsv.gz\n",
       "2 KNIGHT_eQTL_pQTL.chr10_100331627_104378781.twas.tsv.gz\n",
       "3 KNIGHT_eQTL_pQTL.chr10_100331627_104378781.twas.tsv.gz\n",
       "4 KNIGHT_eQTL_pQTL.chr10_100331627_104378781.twas.tsv.gz\n",
       "5 KNIGHT_eQTL_pQTL.chr10_100331627_104378781.twas.tsv.gz\n",
       "6 KNIGHT_eQTL_pQTL.chr10_100331627_104378781.twas.tsv.gz"
      ]
     },
     "metadata": {},
     "output_type": "display_data"
    },
    {
     "data": {
      "text/html": [
       "<style>\n",
       ".list-inline {list-style: none; margin:0; padding: 0}\n",
       ".list-inline>li {display: inline-block}\n",
       ".list-inline>li:not(:last-child)::after {content: \"\\00b7\"; padding: 0 .5ex}\n",
       "</style>\n",
       "<ol class=list-inline><li>927133</li><li>19</li></ol>\n"
      ],
      "text/latex": [
       "\\begin{enumerate*}\n",
       "\\item 927133\n",
       "\\item 19\n",
       "\\end{enumerate*}\n"
      ],
      "text/markdown": [
       "1. 927133\n",
       "2. 19\n",
       "\n",
       "\n"
      ],
      "text/plain": [
       "[1] 927133     19"
      ]
     },
     "metadata": {},
     "output_type": "display_data"
    }
   ],
   "source": [
    "head(image_AD1)\n",
    "dim(image_AD1)"
   ]
  },
  {
   "cell_type": "code",
   "execution_count": 22,
   "id": "9df0a559-d15b-4fbd-8ac8-e3ae47f6e077",
   "metadata": {},
   "outputs": [
    {
     "data": {
      "text/html": [
       "42"
      ],
      "text/latex": [
       "42"
      ],
      "text/markdown": [
       "42"
      ],
      "text/plain": [
       "[1] 42"
      ]
     },
     "metadata": {},
     "output_type": "display_data"
    }
   ],
   "source": [
    "sig_image_AD1 = image_AD1 |> filter(is_selected_method, twas_pval < 2.5*1e-6) \n",
    "length(unique(sig_image_AD1$molecular_id))"
   ]
  },
  {
   "cell_type": "code",
   "execution_count": 23,
   "id": "e87369c4-b692-4034-bf15-d68d5f25cfaf",
   "metadata": {},
   "outputs": [],
   "source": [
    "image_AD1_gene_list = sig_image_AD1 |> mutate(`#chr` = paste0(\"chr\", chr), gene_id = molecular_id)|>select(`#chr`, start, end, gene_id) |> unique()"
   ]
  },
  {
   "cell_type": "code",
   "execution_count": 24,
   "id": "5ff36960-63cb-4f1f-a86e-d3ee7ef62359",
   "metadata": {},
   "outputs": [
    {
     "data": {
      "text/html": [
       "<style>\n",
       ".list-inline {list-style: none; margin:0; padding: 0}\n",
       ".list-inline>li {display: inline-block}\n",
       ".list-inline>li:not(:last-child)::after {content: \"\\00b7\"; padding: 0 .5ex}\n",
       "</style>\n",
       "<ol class=list-inline><li>42</li><li>4</li></ol>\n"
      ],
      "text/latex": [
       "\\begin{enumerate*}\n",
       "\\item 42\n",
       "\\item 4\n",
       "\\end{enumerate*}\n"
      ],
      "text/markdown": [
       "1. 42\n",
       "2. 4\n",
       "\n",
       "\n"
      ],
      "text/plain": [
       "[1] 42  4"
      ]
     },
     "metadata": {},
     "output_type": "display_data"
    }
   ],
   "source": [
    "dim(image_AD1_gene_list)"
   ]
  },
  {
   "cell_type": "code",
   "execution_count": 25,
   "id": "b0491346-d021-426d-abf3-3cf6c284f9fd",
   "metadata": {},
   "outputs": [],
   "source": [
    "DNE_QTL_gene = fread(\"~/project/image_QTL/twas/annotated_dne_gene.tsv\")\n"
   ]
  },
  {
   "cell_type": "code",
   "execution_count": 26,
   "id": "c1b78e0f-7a73-40a8-b3e8-095157c677e3",
   "metadata": {},
   "outputs": [],
   "source": [
    "image_AD1_QTL_gene = DNE_QTL_gene |> filter(str_detect(event_ID, \"image_AD1\")) |> select(-strand,-event_ID)\n",
    "                                        "
   ]
  },
  {
   "cell_type": "code",
   "execution_count": 27,
   "id": "709d2cda-b58f-4562-86f5-f0b7e07cb522",
   "metadata": {},
   "outputs": [],
   "source": [
    "image_AD1_gene = bind_rows(image_AD1_gene_list, image_AD1_QTL_gene)"
   ]
  },
  {
   "cell_type": "code",
   "execution_count": 28,
   "id": "bbb9585e-93f5-4bce-adfd-73a63d2d2b9c",
   "metadata": {},
   "outputs": [],
   "source": [
    "fwrite(image_AD1_gene, \"image_AD1_gene_list.tsv\", sep = '\\t')"
   ]
  },
  {
   "cell_type": "markdown",
   "id": "1fb9e1e2-6d3c-4985-a7ec-c00f3e5229ed",
   "metadata": {},
   "source": [
    "## image_AD2"
   ]
  },
  {
   "cell_type": "code",
   "execution_count": 29,
   "id": "53a88df5-702b-495b-8234-ea955657f6f6",
   "metadata": {},
   "outputs": [],
   "source": [
    "image_AD2 <- fread(\"~/project/image_QTL/twas/image_AD2_twas_merged.tsv.gz.combined_twas.tsv.gz\")"
   ]
  },
  {
   "cell_type": "code",
   "execution_count": 30,
   "id": "ea19cdb5-658b-4233-921d-7d07fdec8e62",
   "metadata": {},
   "outputs": [
    {
     "data": {
      "text/html": [
       "<table class=\"dataframe\">\n",
       "<caption>A data.table: 6 x 19</caption>\n",
       "<thead>\n",
       "\t<tr><th scope=col>chr</th><th scope=col>molecular_id</th><th scope=col>TSS</th><th scope=col>start</th><th scope=col>end</th><th scope=col>context</th><th scope=col>gwas_study</th><th scope=col>method</th><th scope=col>is_imputable</th><th scope=col>is_selected_method</th><th scope=col>rsq_cv</th><th scope=col>pval_cv</th><th scope=col>twas_z</th><th scope=col>twas_pval</th><th scope=col>type</th><th scope=col>block</th><th scope=col>region</th><th scope=col>study_context</th><th scope=col>source_file</th></tr>\n",
       "\t<tr><th scope=col>&lt;int&gt;</th><th scope=col>&lt;chr&gt;</th><th scope=col>&lt;int&gt;</th><th scope=col>&lt;int&gt;</th><th scope=col>&lt;int&gt;</th><th scope=col>&lt;chr&gt;</th><th scope=col>&lt;chr&gt;</th><th scope=col>&lt;chr&gt;</th><th scope=col>&lt;lgl&gt;</th><th scope=col>&lt;lgl&gt;</th><th scope=col>&lt;dbl&gt;</th><th scope=col>&lt;dbl&gt;</th><th scope=col>&lt;dbl&gt;</th><th scope=col>&lt;dbl&gt;</th><th scope=col>&lt;chr&gt;</th><th scope=col>&lt;chr&gt;</th><th scope=col>&lt;chr&gt;</th><th scope=col>&lt;chr&gt;</th><th scope=col>&lt;chr&gt;</th></tr>\n",
       "</thead>\n",
       "<tbody>\n",
       "\t<tr><td>10</td><td>ENSG00000055950</td><td>100987514</td><td> 99320000</td><td>102120000</td><td>Knight_eQTL_brain</td><td>image_AD2</td><td>enet </td><td>TRUE</td><td>FALSE</td><td>0.098757440</td><td>8.923911e-10</td><td>2.492697</td><td>0.01267771</td><td>eQTL</td><td>chr10_100331627_104378781</td><td>chr10_100331627_104378781</td><td>KNIGHT_eQTL_pQTL</td><td>KNIGHT_eQTL_pQTL.chr10_100331627_104378781.twas.tsv.gz</td></tr>\n",
       "\t<tr><td>10</td><td>ENSG00000055950</td><td>100987514</td><td> 99320000</td><td>102120000</td><td>Knight_eQTL_brain</td><td>image_AD2</td><td>lasso</td><td>TRUE</td><td>FALSE</td><td>0.103370596</td><td>3.541036e-10</td><td>2.475217</td><td>0.01331554</td><td>eQTL</td><td>chr10_100331627_104378781</td><td>chr10_100331627_104378781</td><td>KNIGHT_eQTL_pQTL</td><td>KNIGHT_eQTL_pQTL.chr10_100331627_104378781.twas.tsv.gz</td></tr>\n",
       "\t<tr><td>10</td><td>ENSG00000055950</td><td>100987514</td><td> 99320000</td><td>102120000</td><td>Knight_eQTL_brain</td><td>image_AD2</td><td>mrash</td><td>TRUE</td><td>FALSE</td><td>0.089177838</td><td>6.013310e-09</td><td>2.493315</td><td>0.01265565</td><td>eQTL</td><td>chr10_100331627_104378781</td><td>chr10_100331627_104378781</td><td>KNIGHT_eQTL_pQTL</td><td>KNIGHT_eQTL_pQTL.chr10_100331627_104378781.twas.tsv.gz</td></tr>\n",
       "\t<tr><td>10</td><td>ENSG00000055950</td><td>100987514</td><td> 99320000</td><td>102120000</td><td>Knight_eQTL_brain</td><td>image_AD2</td><td>susie</td><td>TRUE</td><td> TRUE</td><td>0.121638427</td><td>8.766557e-12</td><td>2.505183</td><td>0.01223882</td><td>eQTL</td><td>chr10_100331627_104378781</td><td>chr10_100331627_104378781</td><td>KNIGHT_eQTL_pQTL</td><td>KNIGHT_eQTL_pQTL.chr10_100331627_104378781.twas.tsv.gz</td></tr>\n",
       "\t<tr><td>10</td><td>ENSG00000059915</td><td>102421538</td><td>101402617</td><td>103680000</td><td>Knight_eQTL_brain</td><td>image_AD2</td><td>enet </td><td>TRUE</td><td>FALSE</td><td>0.007872702</td><td>5.201216e-02</td><td>1.830248</td><td>0.06721286</td><td>eQTL</td><td>chr10_100331627_104378781</td><td>chr10_100331627_104378781</td><td>KNIGHT_eQTL_pQTL</td><td>KNIGHT_eQTL_pQTL.chr10_100331627_104378781.twas.tsv.gz</td></tr>\n",
       "\t<tr><td>10</td><td>ENSG00000059915</td><td>102421538</td><td>101402617</td><td>103680000</td><td>Knight_eQTL_brain</td><td>image_AD2</td><td>lasso</td><td>TRUE</td><td>FALSE</td><td>0.006195072</td><td>7.447581e-02</td><td>1.827701</td><td>0.06759438</td><td>eQTL</td><td>chr10_100331627_104378781</td><td>chr10_100331627_104378781</td><td>KNIGHT_eQTL_pQTL</td><td>KNIGHT_eQTL_pQTL.chr10_100331627_104378781.twas.tsv.gz</td></tr>\n",
       "</tbody>\n",
       "</table>\n"
      ],
      "text/latex": [
       "A data.table: 6 x 19\n",
       "\\begin{tabular}{lllllllllllllllllll}\n",
       " chr & molecular\\_id & TSS & start & end & context & gwas\\_study & method & is\\_imputable & is\\_selected\\_method & rsq\\_cv & pval\\_cv & twas\\_z & twas\\_pval & type & block & region & study\\_context & source\\_file\\\\\n",
       " <int> & <chr> & <int> & <int> & <int> & <chr> & <chr> & <chr> & <lgl> & <lgl> & <dbl> & <dbl> & <dbl> & <dbl> & <chr> & <chr> & <chr> & <chr> & <chr>\\\\\n",
       "\\hline\n",
       "\t 10 & ENSG00000055950 & 100987514 &  99320000 & 102120000 & Knight\\_eQTL\\_brain & image\\_AD2 & enet  & TRUE & FALSE & 0.098757440 & 8.923911e-10 & 2.492697 & 0.01267771 & eQTL & chr10\\_100331627\\_104378781 & chr10\\_100331627\\_104378781 & KNIGHT\\_eQTL\\_pQTL & KNIGHT\\_eQTL\\_pQTL.chr10\\_100331627\\_104378781.twas.tsv.gz\\\\\n",
       "\t 10 & ENSG00000055950 & 100987514 &  99320000 & 102120000 & Knight\\_eQTL\\_brain & image\\_AD2 & lasso & TRUE & FALSE & 0.103370596 & 3.541036e-10 & 2.475217 & 0.01331554 & eQTL & chr10\\_100331627\\_104378781 & chr10\\_100331627\\_104378781 & KNIGHT\\_eQTL\\_pQTL & KNIGHT\\_eQTL\\_pQTL.chr10\\_100331627\\_104378781.twas.tsv.gz\\\\\n",
       "\t 10 & ENSG00000055950 & 100987514 &  99320000 & 102120000 & Knight\\_eQTL\\_brain & image\\_AD2 & mrash & TRUE & FALSE & 0.089177838 & 6.013310e-09 & 2.493315 & 0.01265565 & eQTL & chr10\\_100331627\\_104378781 & chr10\\_100331627\\_104378781 & KNIGHT\\_eQTL\\_pQTL & KNIGHT\\_eQTL\\_pQTL.chr10\\_100331627\\_104378781.twas.tsv.gz\\\\\n",
       "\t 10 & ENSG00000055950 & 100987514 &  99320000 & 102120000 & Knight\\_eQTL\\_brain & image\\_AD2 & susie & TRUE &  TRUE & 0.121638427 & 8.766557e-12 & 2.505183 & 0.01223882 & eQTL & chr10\\_100331627\\_104378781 & chr10\\_100331627\\_104378781 & KNIGHT\\_eQTL\\_pQTL & KNIGHT\\_eQTL\\_pQTL.chr10\\_100331627\\_104378781.twas.tsv.gz\\\\\n",
       "\t 10 & ENSG00000059915 & 102421538 & 101402617 & 103680000 & Knight\\_eQTL\\_brain & image\\_AD2 & enet  & TRUE & FALSE & 0.007872702 & 5.201216e-02 & 1.830248 & 0.06721286 & eQTL & chr10\\_100331627\\_104378781 & chr10\\_100331627\\_104378781 & KNIGHT\\_eQTL\\_pQTL & KNIGHT\\_eQTL\\_pQTL.chr10\\_100331627\\_104378781.twas.tsv.gz\\\\\n",
       "\t 10 & ENSG00000059915 & 102421538 & 101402617 & 103680000 & Knight\\_eQTL\\_brain & image\\_AD2 & lasso & TRUE & FALSE & 0.006195072 & 7.447581e-02 & 1.827701 & 0.06759438 & eQTL & chr10\\_100331627\\_104378781 & chr10\\_100331627\\_104378781 & KNIGHT\\_eQTL\\_pQTL & KNIGHT\\_eQTL\\_pQTL.chr10\\_100331627\\_104378781.twas.tsv.gz\\\\\n",
       "\\end{tabular}\n"
      ],
      "text/markdown": [
       "\n",
       "A data.table: 6 x 19\n",
       "\n",
       "| chr &lt;int&gt; | molecular_id &lt;chr&gt; | TSS &lt;int&gt; | start &lt;int&gt; | end &lt;int&gt; | context &lt;chr&gt; | gwas_study &lt;chr&gt; | method &lt;chr&gt; | is_imputable &lt;lgl&gt; | is_selected_method &lt;lgl&gt; | rsq_cv &lt;dbl&gt; | pval_cv &lt;dbl&gt; | twas_z &lt;dbl&gt; | twas_pval &lt;dbl&gt; | type &lt;chr&gt; | block &lt;chr&gt; | region &lt;chr&gt; | study_context &lt;chr&gt; | source_file &lt;chr&gt; |\n",
       "|---|---|---|---|---|---|---|---|---|---|---|---|---|---|---|---|---|---|---|\n",
       "| 10 | ENSG00000055950 | 100987514 |  99320000 | 102120000 | Knight_eQTL_brain | image_AD2 | enet  | TRUE | FALSE | 0.098757440 | 8.923911e-10 | 2.492697 | 0.01267771 | eQTL | chr10_100331627_104378781 | chr10_100331627_104378781 | KNIGHT_eQTL_pQTL | KNIGHT_eQTL_pQTL.chr10_100331627_104378781.twas.tsv.gz |\n",
       "| 10 | ENSG00000055950 | 100987514 |  99320000 | 102120000 | Knight_eQTL_brain | image_AD2 | lasso | TRUE | FALSE | 0.103370596 | 3.541036e-10 | 2.475217 | 0.01331554 | eQTL | chr10_100331627_104378781 | chr10_100331627_104378781 | KNIGHT_eQTL_pQTL | KNIGHT_eQTL_pQTL.chr10_100331627_104378781.twas.tsv.gz |\n",
       "| 10 | ENSG00000055950 | 100987514 |  99320000 | 102120000 | Knight_eQTL_brain | image_AD2 | mrash | TRUE | FALSE | 0.089177838 | 6.013310e-09 | 2.493315 | 0.01265565 | eQTL | chr10_100331627_104378781 | chr10_100331627_104378781 | KNIGHT_eQTL_pQTL | KNIGHT_eQTL_pQTL.chr10_100331627_104378781.twas.tsv.gz |\n",
       "| 10 | ENSG00000055950 | 100987514 |  99320000 | 102120000 | Knight_eQTL_brain | image_AD2 | susie | TRUE |  TRUE | 0.121638427 | 8.766557e-12 | 2.505183 | 0.01223882 | eQTL | chr10_100331627_104378781 | chr10_100331627_104378781 | KNIGHT_eQTL_pQTL | KNIGHT_eQTL_pQTL.chr10_100331627_104378781.twas.tsv.gz |\n",
       "| 10 | ENSG00000059915 | 102421538 | 101402617 | 103680000 | Knight_eQTL_brain | image_AD2 | enet  | TRUE | FALSE | 0.007872702 | 5.201216e-02 | 1.830248 | 0.06721286 | eQTL | chr10_100331627_104378781 | chr10_100331627_104378781 | KNIGHT_eQTL_pQTL | KNIGHT_eQTL_pQTL.chr10_100331627_104378781.twas.tsv.gz |\n",
       "| 10 | ENSG00000059915 | 102421538 | 101402617 | 103680000 | Knight_eQTL_brain | image_AD2 | lasso | TRUE | FALSE | 0.006195072 | 7.447581e-02 | 1.827701 | 0.06759438 | eQTL | chr10_100331627_104378781 | chr10_100331627_104378781 | KNIGHT_eQTL_pQTL | KNIGHT_eQTL_pQTL.chr10_100331627_104378781.twas.tsv.gz |\n",
       "\n"
      ],
      "text/plain": [
       "  chr molecular_id    TSS       start     end       context          \n",
       "1 10  ENSG00000055950 100987514  99320000 102120000 Knight_eQTL_brain\n",
       "2 10  ENSG00000055950 100987514  99320000 102120000 Knight_eQTL_brain\n",
       "3 10  ENSG00000055950 100987514  99320000 102120000 Knight_eQTL_brain\n",
       "4 10  ENSG00000055950 100987514  99320000 102120000 Knight_eQTL_brain\n",
       "5 10  ENSG00000059915 102421538 101402617 103680000 Knight_eQTL_brain\n",
       "6 10  ENSG00000059915 102421538 101402617 103680000 Knight_eQTL_brain\n",
       "  gwas_study method is_imputable is_selected_method rsq_cv      pval_cv     \n",
       "1 image_AD2  enet   TRUE         FALSE              0.098757440 8.923911e-10\n",
       "2 image_AD2  lasso  TRUE         FALSE              0.103370596 3.541036e-10\n",
       "3 image_AD2  mrash  TRUE         FALSE              0.089177838 6.013310e-09\n",
       "4 image_AD2  susie  TRUE          TRUE              0.121638427 8.766557e-12\n",
       "5 image_AD2  enet   TRUE         FALSE              0.007872702 5.201216e-02\n",
       "6 image_AD2  lasso  TRUE         FALSE              0.006195072 7.447581e-02\n",
       "  twas_z   twas_pval  type block                     region                   \n",
       "1 2.492697 0.01267771 eQTL chr10_100331627_104378781 chr10_100331627_104378781\n",
       "2 2.475217 0.01331554 eQTL chr10_100331627_104378781 chr10_100331627_104378781\n",
       "3 2.493315 0.01265565 eQTL chr10_100331627_104378781 chr10_100331627_104378781\n",
       "4 2.505183 0.01223882 eQTL chr10_100331627_104378781 chr10_100331627_104378781\n",
       "5 1.830248 0.06721286 eQTL chr10_100331627_104378781 chr10_100331627_104378781\n",
       "6 1.827701 0.06759438 eQTL chr10_100331627_104378781 chr10_100331627_104378781\n",
       "  study_context    source_file                                           \n",
       "1 KNIGHT_eQTL_pQTL KNIGHT_eQTL_pQTL.chr10_100331627_104378781.twas.tsv.gz\n",
       "2 KNIGHT_eQTL_pQTL KNIGHT_eQTL_pQTL.chr10_100331627_104378781.twas.tsv.gz\n",
       "3 KNIGHT_eQTL_pQTL KNIGHT_eQTL_pQTL.chr10_100331627_104378781.twas.tsv.gz\n",
       "4 KNIGHT_eQTL_pQTL KNIGHT_eQTL_pQTL.chr10_100331627_104378781.twas.tsv.gz\n",
       "5 KNIGHT_eQTL_pQTL KNIGHT_eQTL_pQTL.chr10_100331627_104378781.twas.tsv.gz\n",
       "6 KNIGHT_eQTL_pQTL KNIGHT_eQTL_pQTL.chr10_100331627_104378781.twas.tsv.gz"
      ]
     },
     "metadata": {},
     "output_type": "display_data"
    },
    {
     "data": {
      "text/html": [
       "<style>\n",
       ".list-inline {list-style: none; margin:0; padding: 0}\n",
       ".list-inline>li {display: inline-block}\n",
       ".list-inline>li:not(:last-child)::after {content: \"\\00b7\"; padding: 0 .5ex}\n",
       "</style>\n",
       "<ol class=list-inline><li>903842</li><li>19</li></ol>\n"
      ],
      "text/latex": [
       "\\begin{enumerate*}\n",
       "\\item 903842\n",
       "\\item 19\n",
       "\\end{enumerate*}\n"
      ],
      "text/markdown": [
       "1. 903842\n",
       "2. 19\n",
       "\n",
       "\n"
      ],
      "text/plain": [
       "[1] 903842     19"
      ]
     },
     "metadata": {},
     "output_type": "display_data"
    }
   ],
   "source": [
    "head(image_AD2)\n",
    "dim(image_AD2)"
   ]
  },
  {
   "cell_type": "code",
   "execution_count": 31,
   "id": "96e63409-8ec7-4c3f-aa2b-d9a2c0928025",
   "metadata": {},
   "outputs": [
    {
     "data": {
      "text/html": [
       "62"
      ],
      "text/latex": [
       "62"
      ],
      "text/markdown": [
       "62"
      ],
      "text/plain": [
       "[1] 62"
      ]
     },
     "metadata": {},
     "output_type": "display_data"
    }
   ],
   "source": [
    "sig_image_AD2 = image_AD2 |> filter(is_selected_method, twas_pval < 2.5*1e-6) \n",
    "length(unique(sig_image_AD2$molecular_id))"
   ]
  },
  {
   "cell_type": "code",
   "execution_count": 32,
   "id": "05070325-653f-42de-bbdc-c971ffade321",
   "metadata": {},
   "outputs": [],
   "source": [
    "image_AD2_gene_list = sig_image_AD2 |> mutate(`#chr` = paste0(\"chr\", chr), gene_id = molecular_id)|>select(`#chr`, start, end, gene_id) |> unique()"
   ]
  },
  {
   "cell_type": "code",
   "execution_count": 33,
   "id": "de394a01-f6de-4674-ba87-92f189338770",
   "metadata": {},
   "outputs": [
    {
     "data": {
      "text/html": [
       "<style>\n",
       ".list-inline {list-style: none; margin:0; padding: 0}\n",
       ".list-inline>li {display: inline-block}\n",
       ".list-inline>li:not(:last-child)::after {content: \"\\00b7\"; padding: 0 .5ex}\n",
       "</style>\n",
       "<ol class=list-inline><li>62</li><li>4</li></ol>\n"
      ],
      "text/latex": [
       "\\begin{enumerate*}\n",
       "\\item 62\n",
       "\\item 4\n",
       "\\end{enumerate*}\n"
      ],
      "text/markdown": [
       "1. 62\n",
       "2. 4\n",
       "\n",
       "\n"
      ],
      "text/plain": [
       "[1] 62  4"
      ]
     },
     "metadata": {},
     "output_type": "display_data"
    }
   ],
   "source": [
    "dim(image_AD2_gene_list)"
   ]
  },
  {
   "cell_type": "code",
   "execution_count": 34,
   "id": "f5b38c32-f876-426d-823c-494dd3abb18a",
   "metadata": {},
   "outputs": [],
   "source": [
    "DNE_QTL_gene = fread(\"~/project/image_QTL/twas/annotated_dne_gene.tsv\")\n"
   ]
  },
  {
   "cell_type": "code",
   "execution_count": 35,
   "id": "e4e91007-fe5d-4c9b-a7c4-af058b90a65d",
   "metadata": {},
   "outputs": [],
   "source": [
    "image_AD2_QTL_gene = DNE_QTL_gene |> filter(str_detect(event_ID, \"image_AD2\")) |> select(-strand,-event_ID)\n",
    "                                        "
   ]
  },
  {
   "cell_type": "code",
   "execution_count": 36,
   "id": "043de478-cb80-443e-be65-7235c49eb6bf",
   "metadata": {},
   "outputs": [],
   "source": [
    "image_AD2_gene = bind_rows(image_AD2_gene_list, image_AD2_QTL_gene)"
   ]
  },
  {
   "cell_type": "code",
   "execution_count": 37,
   "id": "0a77b5f1-ccbe-4d65-b2ab-2ea1d7acf6ff",
   "metadata": {},
   "outputs": [],
   "source": [
    "fwrite(image_AD2_gene, \"image_AD2_gene_list.tsv\", sep = '\\t')"
   ]
  },
  {
   "cell_type": "code",
   "execution_count": null,
   "id": "9317d9b5-78ea-4092-8504-32ebe2728af9",
   "metadata": {},
   "outputs": [],
   "source": []
  },
  {
   "cell_type": "markdown",
   "id": "8d0eb4ed-4528-4971-805c-fa60693bcbd6",
   "metadata": {},
   "source": [
    "## image_Aging1"
   ]
  },
  {
   "cell_type": "code",
   "execution_count": 38,
   "id": "4d0494f6-0e93-49e8-8d89-2af317471061",
   "metadata": {},
   "outputs": [],
   "source": [
    "image_Aging1 <- fread(\"~/project/image_QTL/twas/image_Aging1_twas_merged.tsv.gz.combined_twas.tsv.gz\")"
   ]
  },
  {
   "cell_type": "code",
   "execution_count": 39,
   "id": "57819167-f24b-4e48-8bea-c00d564cef9f",
   "metadata": {},
   "outputs": [
    {
     "data": {
      "text/html": [
       "<table class=\"dataframe\">\n",
       "<caption>A data.table: 6 x 19</caption>\n",
       "<thead>\n",
       "\t<tr><th scope=col>chr</th><th scope=col>molecular_id</th><th scope=col>TSS</th><th scope=col>start</th><th scope=col>end</th><th scope=col>context</th><th scope=col>gwas_study</th><th scope=col>method</th><th scope=col>is_imputable</th><th scope=col>is_selected_method</th><th scope=col>rsq_cv</th><th scope=col>pval_cv</th><th scope=col>twas_z</th><th scope=col>twas_pval</th><th scope=col>type</th><th scope=col>block</th><th scope=col>region</th><th scope=col>study_context</th><th scope=col>source_file</th></tr>\n",
       "\t<tr><th scope=col>&lt;int&gt;</th><th scope=col>&lt;chr&gt;</th><th scope=col>&lt;int&gt;</th><th scope=col>&lt;int&gt;</th><th scope=col>&lt;int&gt;</th><th scope=col>&lt;chr&gt;</th><th scope=col>&lt;chr&gt;</th><th scope=col>&lt;chr&gt;</th><th scope=col>&lt;lgl&gt;</th><th scope=col>&lt;lgl&gt;</th><th scope=col>&lt;dbl&gt;</th><th scope=col>&lt;dbl&gt;</th><th scope=col>&lt;dbl&gt;</th><th scope=col>&lt;dbl&gt;</th><th scope=col>&lt;chr&gt;</th><th scope=col>&lt;chr&gt;</th><th scope=col>&lt;chr&gt;</th><th scope=col>&lt;chr&gt;</th><th scope=col>&lt;chr&gt;</th></tr>\n",
       "</thead>\n",
       "<tbody>\n",
       "\t<tr><td>10</td><td>ENSG00000055950</td><td>100987514</td><td> 99320000</td><td>102120000</td><td>Knight_eQTL_brain</td><td>image_Aging1</td><td>enet </td><td>TRUE</td><td>FALSE</td><td>0.098757440</td><td>8.923911e-10</td><td>-2.2501449</td><td>0.02443975</td><td>eQTL</td><td>chr10_100331627_104378781</td><td>chr10_100331627_104378781</td><td>KNIGHT_eQTL_pQTL</td><td>KNIGHT_eQTL_pQTL.chr10_100331627_104378781.twas.tsv.gz</td></tr>\n",
       "\t<tr><td>10</td><td>ENSG00000055950</td><td>100987514</td><td> 99320000</td><td>102120000</td><td>Knight_eQTL_brain</td><td>image_Aging1</td><td>lasso</td><td>TRUE</td><td>FALSE</td><td>0.103370596</td><td>3.541036e-10</td><td>-2.3121651</td><td>0.02076859</td><td>eQTL</td><td>chr10_100331627_104378781</td><td>chr10_100331627_104378781</td><td>KNIGHT_eQTL_pQTL</td><td>KNIGHT_eQTL_pQTL.chr10_100331627_104378781.twas.tsv.gz</td></tr>\n",
       "\t<tr><td>10</td><td>ENSG00000055950</td><td>100987514</td><td> 99320000</td><td>102120000</td><td>Knight_eQTL_brain</td><td>image_Aging1</td><td>mrash</td><td>TRUE</td><td>FALSE</td><td>0.089177838</td><td>6.013310e-09</td><td>-2.0225901</td><td>0.04311543</td><td>eQTL</td><td>chr10_100331627_104378781</td><td>chr10_100331627_104378781</td><td>KNIGHT_eQTL_pQTL</td><td>KNIGHT_eQTL_pQTL.chr10_100331627_104378781.twas.tsv.gz</td></tr>\n",
       "\t<tr><td>10</td><td>ENSG00000055950</td><td>100987514</td><td> 99320000</td><td>102120000</td><td>Knight_eQTL_brain</td><td>image_Aging1</td><td>susie</td><td>TRUE</td><td> TRUE</td><td>0.121638427</td><td>8.766557e-12</td><td>-2.2311831</td><td>0.02566901</td><td>eQTL</td><td>chr10_100331627_104378781</td><td>chr10_100331627_104378781</td><td>KNIGHT_eQTL_pQTL</td><td>KNIGHT_eQTL_pQTL.chr10_100331627_104378781.twas.tsv.gz</td></tr>\n",
       "\t<tr><td>10</td><td>ENSG00000059915</td><td>102421538</td><td>101402617</td><td>103680000</td><td>Knight_eQTL_brain</td><td>image_Aging1</td><td>enet </td><td>TRUE</td><td>FALSE</td><td>0.007872702</td><td>5.201216e-02</td><td>-0.4842066</td><td>0.62823923</td><td>eQTL</td><td>chr10_100331627_104378781</td><td>chr10_100331627_104378781</td><td>KNIGHT_eQTL_pQTL</td><td>KNIGHT_eQTL_pQTL.chr10_100331627_104378781.twas.tsv.gz</td></tr>\n",
       "\t<tr><td>10</td><td>ENSG00000059915</td><td>102421538</td><td>101402617</td><td>103680000</td><td>Knight_eQTL_brain</td><td>image_Aging1</td><td>lasso</td><td>TRUE</td><td>FALSE</td><td>0.006195072</td><td>7.447581e-02</td><td>-0.5461816</td><td>0.58494109</td><td>eQTL</td><td>chr10_100331627_104378781</td><td>chr10_100331627_104378781</td><td>KNIGHT_eQTL_pQTL</td><td>KNIGHT_eQTL_pQTL.chr10_100331627_104378781.twas.tsv.gz</td></tr>\n",
       "</tbody>\n",
       "</table>\n"
      ],
      "text/latex": [
       "A data.table: 6 x 19\n",
       "\\begin{tabular}{lllllllllllllllllll}\n",
       " chr & molecular\\_id & TSS & start & end & context & gwas\\_study & method & is\\_imputable & is\\_selected\\_method & rsq\\_cv & pval\\_cv & twas\\_z & twas\\_pval & type & block & region & study\\_context & source\\_file\\\\\n",
       " <int> & <chr> & <int> & <int> & <int> & <chr> & <chr> & <chr> & <lgl> & <lgl> & <dbl> & <dbl> & <dbl> & <dbl> & <chr> & <chr> & <chr> & <chr> & <chr>\\\\\n",
       "\\hline\n",
       "\t 10 & ENSG00000055950 & 100987514 &  99320000 & 102120000 & Knight\\_eQTL\\_brain & image\\_Aging1 & enet  & TRUE & FALSE & 0.098757440 & 8.923911e-10 & -2.2501449 & 0.02443975 & eQTL & chr10\\_100331627\\_104378781 & chr10\\_100331627\\_104378781 & KNIGHT\\_eQTL\\_pQTL & KNIGHT\\_eQTL\\_pQTL.chr10\\_100331627\\_104378781.twas.tsv.gz\\\\\n",
       "\t 10 & ENSG00000055950 & 100987514 &  99320000 & 102120000 & Knight\\_eQTL\\_brain & image\\_Aging1 & lasso & TRUE & FALSE & 0.103370596 & 3.541036e-10 & -2.3121651 & 0.02076859 & eQTL & chr10\\_100331627\\_104378781 & chr10\\_100331627\\_104378781 & KNIGHT\\_eQTL\\_pQTL & KNIGHT\\_eQTL\\_pQTL.chr10\\_100331627\\_104378781.twas.tsv.gz\\\\\n",
       "\t 10 & ENSG00000055950 & 100987514 &  99320000 & 102120000 & Knight\\_eQTL\\_brain & image\\_Aging1 & mrash & TRUE & FALSE & 0.089177838 & 6.013310e-09 & -2.0225901 & 0.04311543 & eQTL & chr10\\_100331627\\_104378781 & chr10\\_100331627\\_104378781 & KNIGHT\\_eQTL\\_pQTL & KNIGHT\\_eQTL\\_pQTL.chr10\\_100331627\\_104378781.twas.tsv.gz\\\\\n",
       "\t 10 & ENSG00000055950 & 100987514 &  99320000 & 102120000 & Knight\\_eQTL\\_brain & image\\_Aging1 & susie & TRUE &  TRUE & 0.121638427 & 8.766557e-12 & -2.2311831 & 0.02566901 & eQTL & chr10\\_100331627\\_104378781 & chr10\\_100331627\\_104378781 & KNIGHT\\_eQTL\\_pQTL & KNIGHT\\_eQTL\\_pQTL.chr10\\_100331627\\_104378781.twas.tsv.gz\\\\\n",
       "\t 10 & ENSG00000059915 & 102421538 & 101402617 & 103680000 & Knight\\_eQTL\\_brain & image\\_Aging1 & enet  & TRUE & FALSE & 0.007872702 & 5.201216e-02 & -0.4842066 & 0.62823923 & eQTL & chr10\\_100331627\\_104378781 & chr10\\_100331627\\_104378781 & KNIGHT\\_eQTL\\_pQTL & KNIGHT\\_eQTL\\_pQTL.chr10\\_100331627\\_104378781.twas.tsv.gz\\\\\n",
       "\t 10 & ENSG00000059915 & 102421538 & 101402617 & 103680000 & Knight\\_eQTL\\_brain & image\\_Aging1 & lasso & TRUE & FALSE & 0.006195072 & 7.447581e-02 & -0.5461816 & 0.58494109 & eQTL & chr10\\_100331627\\_104378781 & chr10\\_100331627\\_104378781 & KNIGHT\\_eQTL\\_pQTL & KNIGHT\\_eQTL\\_pQTL.chr10\\_100331627\\_104378781.twas.tsv.gz\\\\\n",
       "\\end{tabular}\n"
      ],
      "text/markdown": [
       "\n",
       "A data.table: 6 x 19\n",
       "\n",
       "| chr &lt;int&gt; | molecular_id &lt;chr&gt; | TSS &lt;int&gt; | start &lt;int&gt; | end &lt;int&gt; | context &lt;chr&gt; | gwas_study &lt;chr&gt; | method &lt;chr&gt; | is_imputable &lt;lgl&gt; | is_selected_method &lt;lgl&gt; | rsq_cv &lt;dbl&gt; | pval_cv &lt;dbl&gt; | twas_z &lt;dbl&gt; | twas_pval &lt;dbl&gt; | type &lt;chr&gt; | block &lt;chr&gt; | region &lt;chr&gt; | study_context &lt;chr&gt; | source_file &lt;chr&gt; |\n",
       "|---|---|---|---|---|---|---|---|---|---|---|---|---|---|---|---|---|---|---|\n",
       "| 10 | ENSG00000055950 | 100987514 |  99320000 | 102120000 | Knight_eQTL_brain | image_Aging1 | enet  | TRUE | FALSE | 0.098757440 | 8.923911e-10 | -2.2501449 | 0.02443975 | eQTL | chr10_100331627_104378781 | chr10_100331627_104378781 | KNIGHT_eQTL_pQTL | KNIGHT_eQTL_pQTL.chr10_100331627_104378781.twas.tsv.gz |\n",
       "| 10 | ENSG00000055950 | 100987514 |  99320000 | 102120000 | Knight_eQTL_brain | image_Aging1 | lasso | TRUE | FALSE | 0.103370596 | 3.541036e-10 | -2.3121651 | 0.02076859 | eQTL | chr10_100331627_104378781 | chr10_100331627_104378781 | KNIGHT_eQTL_pQTL | KNIGHT_eQTL_pQTL.chr10_100331627_104378781.twas.tsv.gz |\n",
       "| 10 | ENSG00000055950 | 100987514 |  99320000 | 102120000 | Knight_eQTL_brain | image_Aging1 | mrash | TRUE | FALSE | 0.089177838 | 6.013310e-09 | -2.0225901 | 0.04311543 | eQTL | chr10_100331627_104378781 | chr10_100331627_104378781 | KNIGHT_eQTL_pQTL | KNIGHT_eQTL_pQTL.chr10_100331627_104378781.twas.tsv.gz |\n",
       "| 10 | ENSG00000055950 | 100987514 |  99320000 | 102120000 | Knight_eQTL_brain | image_Aging1 | susie | TRUE |  TRUE | 0.121638427 | 8.766557e-12 | -2.2311831 | 0.02566901 | eQTL | chr10_100331627_104378781 | chr10_100331627_104378781 | KNIGHT_eQTL_pQTL | KNIGHT_eQTL_pQTL.chr10_100331627_104378781.twas.tsv.gz |\n",
       "| 10 | ENSG00000059915 | 102421538 | 101402617 | 103680000 | Knight_eQTL_brain | image_Aging1 | enet  | TRUE | FALSE | 0.007872702 | 5.201216e-02 | -0.4842066 | 0.62823923 | eQTL | chr10_100331627_104378781 | chr10_100331627_104378781 | KNIGHT_eQTL_pQTL | KNIGHT_eQTL_pQTL.chr10_100331627_104378781.twas.tsv.gz |\n",
       "| 10 | ENSG00000059915 | 102421538 | 101402617 | 103680000 | Knight_eQTL_brain | image_Aging1 | lasso | TRUE | FALSE | 0.006195072 | 7.447581e-02 | -0.5461816 | 0.58494109 | eQTL | chr10_100331627_104378781 | chr10_100331627_104378781 | KNIGHT_eQTL_pQTL | KNIGHT_eQTL_pQTL.chr10_100331627_104378781.twas.tsv.gz |\n",
       "\n"
      ],
      "text/plain": [
       "  chr molecular_id    TSS       start     end       context          \n",
       "1 10  ENSG00000055950 100987514  99320000 102120000 Knight_eQTL_brain\n",
       "2 10  ENSG00000055950 100987514  99320000 102120000 Knight_eQTL_brain\n",
       "3 10  ENSG00000055950 100987514  99320000 102120000 Knight_eQTL_brain\n",
       "4 10  ENSG00000055950 100987514  99320000 102120000 Knight_eQTL_brain\n",
       "5 10  ENSG00000059915 102421538 101402617 103680000 Knight_eQTL_brain\n",
       "6 10  ENSG00000059915 102421538 101402617 103680000 Knight_eQTL_brain\n",
       "  gwas_study   method is_imputable is_selected_method rsq_cv      pval_cv     \n",
       "1 image_Aging1 enet   TRUE         FALSE              0.098757440 8.923911e-10\n",
       "2 image_Aging1 lasso  TRUE         FALSE              0.103370596 3.541036e-10\n",
       "3 image_Aging1 mrash  TRUE         FALSE              0.089177838 6.013310e-09\n",
       "4 image_Aging1 susie  TRUE          TRUE              0.121638427 8.766557e-12\n",
       "5 image_Aging1 enet   TRUE         FALSE              0.007872702 5.201216e-02\n",
       "6 image_Aging1 lasso  TRUE         FALSE              0.006195072 7.447581e-02\n",
       "  twas_z     twas_pval  type block                    \n",
       "1 -2.2501449 0.02443975 eQTL chr10_100331627_104378781\n",
       "2 -2.3121651 0.02076859 eQTL chr10_100331627_104378781\n",
       "3 -2.0225901 0.04311543 eQTL chr10_100331627_104378781\n",
       "4 -2.2311831 0.02566901 eQTL chr10_100331627_104378781\n",
       "5 -0.4842066 0.62823923 eQTL chr10_100331627_104378781\n",
       "6 -0.5461816 0.58494109 eQTL chr10_100331627_104378781\n",
       "  region                    study_context   \n",
       "1 chr10_100331627_104378781 KNIGHT_eQTL_pQTL\n",
       "2 chr10_100331627_104378781 KNIGHT_eQTL_pQTL\n",
       "3 chr10_100331627_104378781 KNIGHT_eQTL_pQTL\n",
       "4 chr10_100331627_104378781 KNIGHT_eQTL_pQTL\n",
       "5 chr10_100331627_104378781 KNIGHT_eQTL_pQTL\n",
       "6 chr10_100331627_104378781 KNIGHT_eQTL_pQTL\n",
       "  source_file                                           \n",
       "1 KNIGHT_eQTL_pQTL.chr10_100331627_104378781.twas.tsv.gz\n",
       "2 KNIGHT_eQTL_pQTL.chr10_100331627_104378781.twas.tsv.gz\n",
       "3 KNIGHT_eQTL_pQTL.chr10_100331627_104378781.twas.tsv.gz\n",
       "4 KNIGHT_eQTL_pQTL.chr10_100331627_104378781.twas.tsv.gz\n",
       "5 KNIGHT_eQTL_pQTL.chr10_100331627_104378781.twas.tsv.gz\n",
       "6 KNIGHT_eQTL_pQTL.chr10_100331627_104378781.twas.tsv.gz"
      ]
     },
     "metadata": {},
     "output_type": "display_data"
    },
    {
     "data": {
      "text/html": [
       "<style>\n",
       ".list-inline {list-style: none; margin:0; padding: 0}\n",
       ".list-inline>li {display: inline-block}\n",
       ".list-inline>li:not(:last-child)::after {content: \"\\00b7\"; padding: 0 .5ex}\n",
       "</style>\n",
       "<ol class=list-inline><li>928116</li><li>19</li></ol>\n"
      ],
      "text/latex": [
       "\\begin{enumerate*}\n",
       "\\item 928116\n",
       "\\item 19\n",
       "\\end{enumerate*}\n"
      ],
      "text/markdown": [
       "1. 928116\n",
       "2. 19\n",
       "\n",
       "\n"
      ],
      "text/plain": [
       "[1] 928116     19"
      ]
     },
     "metadata": {},
     "output_type": "display_data"
    }
   ],
   "source": [
    "head(image_Aging1)\n",
    "dim(image_Aging1)"
   ]
  },
  {
   "cell_type": "code",
   "execution_count": 40,
   "id": "d96aad79-3a64-4505-8e14-e80f67c8c04b",
   "metadata": {},
   "outputs": [
    {
     "data": {
      "text/html": [
       "80"
      ],
      "text/latex": [
       "80"
      ],
      "text/markdown": [
       "80"
      ],
      "text/plain": [
       "[1] 80"
      ]
     },
     "metadata": {},
     "output_type": "display_data"
    }
   ],
   "source": [
    "sig_image_Aging1 = image_Aging1 |> filter(is_selected_method, twas_pval < 2.5*1e-6) \n",
    "length(unique(sig_image_Aging1$molecular_id))"
   ]
  },
  {
   "cell_type": "code",
   "execution_count": 41,
   "id": "7b52c050-3091-4e5f-9278-d75d5a384332",
   "metadata": {},
   "outputs": [],
   "source": [
    "image_Aging1_gene_list = sig_image_Aging1 |> mutate(`#chr` = paste0(\"chr\", chr), gene_id = molecular_id)|>select(`#chr`, start, end, gene_id) |> unique()"
   ]
  },
  {
   "cell_type": "code",
   "execution_count": 42,
   "id": "144b9720-efb8-4daa-9cd6-cd49318fc9d2",
   "metadata": {},
   "outputs": [
    {
     "data": {
      "text/html": [
       "<style>\n",
       ".list-inline {list-style: none; margin:0; padding: 0}\n",
       ".list-inline>li {display: inline-block}\n",
       ".list-inline>li:not(:last-child)::after {content: \"\\00b7\"; padding: 0 .5ex}\n",
       "</style>\n",
       "<ol class=list-inline><li>80</li><li>4</li></ol>\n"
      ],
      "text/latex": [
       "\\begin{enumerate*}\n",
       "\\item 80\n",
       "\\item 4\n",
       "\\end{enumerate*}\n"
      ],
      "text/markdown": [
       "1. 80\n",
       "2. 4\n",
       "\n",
       "\n"
      ],
      "text/plain": [
       "[1] 80  4"
      ]
     },
     "metadata": {},
     "output_type": "display_data"
    }
   ],
   "source": [
    "dim(image_Aging1_gene_list)"
   ]
  },
  {
   "cell_type": "code",
   "execution_count": 43,
   "id": "1f53d012-97af-4fd9-8bce-16582e3d8585",
   "metadata": {},
   "outputs": [],
   "source": [
    "DNE_QTL_gene = fread(\"~/project/image_QTL/twas/annotated_dne_gene.tsv\")\n"
   ]
  },
  {
   "cell_type": "code",
   "execution_count": 44,
   "id": "d92398b2-3ebe-47b0-bdc9-3a98562bec96",
   "metadata": {},
   "outputs": [],
   "source": [
    "image_Aging1_QTL_gene = DNE_QTL_gene |> filter(str_detect(event_ID, \"image_Aging1\")) |> select(-strand,-event_ID)\n",
    "                                        "
   ]
  },
  {
   "cell_type": "code",
   "execution_count": 45,
   "id": "a91c2117-f2d3-4c7a-b748-5391941705c8",
   "metadata": {},
   "outputs": [],
   "source": [
    "image_Aging1_gene = bind_rows(image_Aging1_gene_list, image_Aging1_QTL_gene)"
   ]
  },
  {
   "cell_type": "code",
   "execution_count": 46,
   "id": "d2f20e75-bfa1-45ae-a48c-1a6d05afe9e8",
   "metadata": {},
   "outputs": [],
   "source": [
    "fwrite(image_Aging1_gene, \"image_Aging1_gene_list.tsv\", sep = '\\t')"
   ]
  },
  {
   "cell_type": "code",
   "execution_count": null,
   "id": "0c4759a0-ed15-469b-b7d6-48e5b4e3ceba",
   "metadata": {},
   "outputs": [],
   "source": []
  },
  {
   "cell_type": "markdown",
   "id": "d870cd5d-c9dc-4a96-bfb1-d2dea974292e",
   "metadata": {},
   "source": [
    "## image_Aging2"
   ]
  },
  {
   "cell_type": "code",
   "execution_count": 47,
   "id": "56b3cc6d-8288-4ee5-9764-005f129e58c3",
   "metadata": {},
   "outputs": [],
   "source": [
    "image_Aging2 <- fread(\"~/project/image_QTL/twas/image_Aging2_twas_merged.tsv.gz.combined_twas.tsv.gz\")"
   ]
  },
  {
   "cell_type": "code",
   "execution_count": 48,
   "id": "1597bccb-880d-478b-ad66-acad7bff650f",
   "metadata": {},
   "outputs": [
    {
     "data": {
      "text/html": [
       "<table class=\"dataframe\">\n",
       "<caption>A data.table: 6 x 19</caption>\n",
       "<thead>\n",
       "\t<tr><th scope=col>chr</th><th scope=col>molecular_id</th><th scope=col>TSS</th><th scope=col>start</th><th scope=col>end</th><th scope=col>context</th><th scope=col>gwas_study</th><th scope=col>method</th><th scope=col>is_imputable</th><th scope=col>is_selected_method</th><th scope=col>rsq_cv</th><th scope=col>pval_cv</th><th scope=col>twas_z</th><th scope=col>twas_pval</th><th scope=col>type</th><th scope=col>block</th><th scope=col>region</th><th scope=col>study_context</th><th scope=col>source_file</th></tr>\n",
       "\t<tr><th scope=col>&lt;int&gt;</th><th scope=col>&lt;chr&gt;</th><th scope=col>&lt;int&gt;</th><th scope=col>&lt;int&gt;</th><th scope=col>&lt;int&gt;</th><th scope=col>&lt;chr&gt;</th><th scope=col>&lt;chr&gt;</th><th scope=col>&lt;chr&gt;</th><th scope=col>&lt;lgl&gt;</th><th scope=col>&lt;lgl&gt;</th><th scope=col>&lt;dbl&gt;</th><th scope=col>&lt;dbl&gt;</th><th scope=col>&lt;dbl&gt;</th><th scope=col>&lt;dbl&gt;</th><th scope=col>&lt;chr&gt;</th><th scope=col>&lt;chr&gt;</th><th scope=col>&lt;chr&gt;</th><th scope=col>&lt;chr&gt;</th><th scope=col>&lt;chr&gt;</th></tr>\n",
       "</thead>\n",
       "<tbody>\n",
       "\t<tr><td>10</td><td>ENSG00000055950</td><td>100987514</td><td> 99320000</td><td>102120000</td><td>Knight_eQTL_brain</td><td>image_Aging2</td><td>enet </td><td>TRUE</td><td>FALSE</td><td>0.098757440</td><td>8.923911e-10</td><td>0.4422873</td><td>0.65828134</td><td>eQTL</td><td>chr10_100331627_104378781</td><td>chr10_100331627_104378781</td><td>KNIGHT_eQTL_pQTL</td><td>KNIGHT_eQTL_pQTL.chr10_100331627_104378781.twas.tsv.gz</td></tr>\n",
       "\t<tr><td>10</td><td>ENSG00000055950</td><td>100987514</td><td> 99320000</td><td>102120000</td><td>Knight_eQTL_brain</td><td>image_Aging2</td><td>lasso</td><td>TRUE</td><td>FALSE</td><td>0.103370596</td><td>3.541036e-10</td><td>0.5153586</td><td>0.60630249</td><td>eQTL</td><td>chr10_100331627_104378781</td><td>chr10_100331627_104378781</td><td>KNIGHT_eQTL_pQTL</td><td>KNIGHT_eQTL_pQTL.chr10_100331627_104378781.twas.tsv.gz</td></tr>\n",
       "\t<tr><td>10</td><td>ENSG00000055950</td><td>100987514</td><td> 99320000</td><td>102120000</td><td>Knight_eQTL_brain</td><td>image_Aging2</td><td>mrash</td><td>TRUE</td><td>FALSE</td><td>0.089177838</td><td>6.013310e-09</td><td>0.3763701</td><td>0.70664179</td><td>eQTL</td><td>chr10_100331627_104378781</td><td>chr10_100331627_104378781</td><td>KNIGHT_eQTL_pQTL</td><td>KNIGHT_eQTL_pQTL.chr10_100331627_104378781.twas.tsv.gz</td></tr>\n",
       "\t<tr><td>10</td><td>ENSG00000055950</td><td>100987514</td><td> 99320000</td><td>102120000</td><td>Knight_eQTL_brain</td><td>image_Aging2</td><td>susie</td><td>TRUE</td><td> TRUE</td><td>0.121638427</td><td>8.766557e-12</td><td>0.4166957</td><td>0.67690100</td><td>eQTL</td><td>chr10_100331627_104378781</td><td>chr10_100331627_104378781</td><td>KNIGHT_eQTL_pQTL</td><td>KNIGHT_eQTL_pQTL.chr10_100331627_104378781.twas.tsv.gz</td></tr>\n",
       "\t<tr><td>10</td><td>ENSG00000059915</td><td>102421538</td><td>101402617</td><td>103680000</td><td>Knight_eQTL_brain</td><td>image_Aging2</td><td>enet </td><td>TRUE</td><td>FALSE</td><td>0.007872702</td><td>5.201216e-02</td><td>2.3533373</td><td>0.01860575</td><td>eQTL</td><td>chr10_100331627_104378781</td><td>chr10_100331627_104378781</td><td>KNIGHT_eQTL_pQTL</td><td>KNIGHT_eQTL_pQTL.chr10_100331627_104378781.twas.tsv.gz</td></tr>\n",
       "\t<tr><td>10</td><td>ENSG00000059915</td><td>102421538</td><td>101402617</td><td>103680000</td><td>Knight_eQTL_brain</td><td>image_Aging2</td><td>lasso</td><td>TRUE</td><td>FALSE</td><td>0.006195072</td><td>7.447581e-02</td><td>2.2734046</td><td>0.02300181</td><td>eQTL</td><td>chr10_100331627_104378781</td><td>chr10_100331627_104378781</td><td>KNIGHT_eQTL_pQTL</td><td>KNIGHT_eQTL_pQTL.chr10_100331627_104378781.twas.tsv.gz</td></tr>\n",
       "</tbody>\n",
       "</table>\n"
      ],
      "text/latex": [
       "A data.table: 6 x 19\n",
       "\\begin{tabular}{lllllllllllllllllll}\n",
       " chr & molecular\\_id & TSS & start & end & context & gwas\\_study & method & is\\_imputable & is\\_selected\\_method & rsq\\_cv & pval\\_cv & twas\\_z & twas\\_pval & type & block & region & study\\_context & source\\_file\\\\\n",
       " <int> & <chr> & <int> & <int> & <int> & <chr> & <chr> & <chr> & <lgl> & <lgl> & <dbl> & <dbl> & <dbl> & <dbl> & <chr> & <chr> & <chr> & <chr> & <chr>\\\\\n",
       "\\hline\n",
       "\t 10 & ENSG00000055950 & 100987514 &  99320000 & 102120000 & Knight\\_eQTL\\_brain & image\\_Aging2 & enet  & TRUE & FALSE & 0.098757440 & 8.923911e-10 & 0.4422873 & 0.65828134 & eQTL & chr10\\_100331627\\_104378781 & chr10\\_100331627\\_104378781 & KNIGHT\\_eQTL\\_pQTL & KNIGHT\\_eQTL\\_pQTL.chr10\\_100331627\\_104378781.twas.tsv.gz\\\\\n",
       "\t 10 & ENSG00000055950 & 100987514 &  99320000 & 102120000 & Knight\\_eQTL\\_brain & image\\_Aging2 & lasso & TRUE & FALSE & 0.103370596 & 3.541036e-10 & 0.5153586 & 0.60630249 & eQTL & chr10\\_100331627\\_104378781 & chr10\\_100331627\\_104378781 & KNIGHT\\_eQTL\\_pQTL & KNIGHT\\_eQTL\\_pQTL.chr10\\_100331627\\_104378781.twas.tsv.gz\\\\\n",
       "\t 10 & ENSG00000055950 & 100987514 &  99320000 & 102120000 & Knight\\_eQTL\\_brain & image\\_Aging2 & mrash & TRUE & FALSE & 0.089177838 & 6.013310e-09 & 0.3763701 & 0.70664179 & eQTL & chr10\\_100331627\\_104378781 & chr10\\_100331627\\_104378781 & KNIGHT\\_eQTL\\_pQTL & KNIGHT\\_eQTL\\_pQTL.chr10\\_100331627\\_104378781.twas.tsv.gz\\\\\n",
       "\t 10 & ENSG00000055950 & 100987514 &  99320000 & 102120000 & Knight\\_eQTL\\_brain & image\\_Aging2 & susie & TRUE &  TRUE & 0.121638427 & 8.766557e-12 & 0.4166957 & 0.67690100 & eQTL & chr10\\_100331627\\_104378781 & chr10\\_100331627\\_104378781 & KNIGHT\\_eQTL\\_pQTL & KNIGHT\\_eQTL\\_pQTL.chr10\\_100331627\\_104378781.twas.tsv.gz\\\\\n",
       "\t 10 & ENSG00000059915 & 102421538 & 101402617 & 103680000 & Knight\\_eQTL\\_brain & image\\_Aging2 & enet  & TRUE & FALSE & 0.007872702 & 5.201216e-02 & 2.3533373 & 0.01860575 & eQTL & chr10\\_100331627\\_104378781 & chr10\\_100331627\\_104378781 & KNIGHT\\_eQTL\\_pQTL & KNIGHT\\_eQTL\\_pQTL.chr10\\_100331627\\_104378781.twas.tsv.gz\\\\\n",
       "\t 10 & ENSG00000059915 & 102421538 & 101402617 & 103680000 & Knight\\_eQTL\\_brain & image\\_Aging2 & lasso & TRUE & FALSE & 0.006195072 & 7.447581e-02 & 2.2734046 & 0.02300181 & eQTL & chr10\\_100331627\\_104378781 & chr10\\_100331627\\_104378781 & KNIGHT\\_eQTL\\_pQTL & KNIGHT\\_eQTL\\_pQTL.chr10\\_100331627\\_104378781.twas.tsv.gz\\\\\n",
       "\\end{tabular}\n"
      ],
      "text/markdown": [
       "\n",
       "A data.table: 6 x 19\n",
       "\n",
       "| chr &lt;int&gt; | molecular_id &lt;chr&gt; | TSS &lt;int&gt; | start &lt;int&gt; | end &lt;int&gt; | context &lt;chr&gt; | gwas_study &lt;chr&gt; | method &lt;chr&gt; | is_imputable &lt;lgl&gt; | is_selected_method &lt;lgl&gt; | rsq_cv &lt;dbl&gt; | pval_cv &lt;dbl&gt; | twas_z &lt;dbl&gt; | twas_pval &lt;dbl&gt; | type &lt;chr&gt; | block &lt;chr&gt; | region &lt;chr&gt; | study_context &lt;chr&gt; | source_file &lt;chr&gt; |\n",
       "|---|---|---|---|---|---|---|---|---|---|---|---|---|---|---|---|---|---|---|\n",
       "| 10 | ENSG00000055950 | 100987514 |  99320000 | 102120000 | Knight_eQTL_brain | image_Aging2 | enet  | TRUE | FALSE | 0.098757440 | 8.923911e-10 | 0.4422873 | 0.65828134 | eQTL | chr10_100331627_104378781 | chr10_100331627_104378781 | KNIGHT_eQTL_pQTL | KNIGHT_eQTL_pQTL.chr10_100331627_104378781.twas.tsv.gz |\n",
       "| 10 | ENSG00000055950 | 100987514 |  99320000 | 102120000 | Knight_eQTL_brain | image_Aging2 | lasso | TRUE | FALSE | 0.103370596 | 3.541036e-10 | 0.5153586 | 0.60630249 | eQTL | chr10_100331627_104378781 | chr10_100331627_104378781 | KNIGHT_eQTL_pQTL | KNIGHT_eQTL_pQTL.chr10_100331627_104378781.twas.tsv.gz |\n",
       "| 10 | ENSG00000055950 | 100987514 |  99320000 | 102120000 | Knight_eQTL_brain | image_Aging2 | mrash | TRUE | FALSE | 0.089177838 | 6.013310e-09 | 0.3763701 | 0.70664179 | eQTL | chr10_100331627_104378781 | chr10_100331627_104378781 | KNIGHT_eQTL_pQTL | KNIGHT_eQTL_pQTL.chr10_100331627_104378781.twas.tsv.gz |\n",
       "| 10 | ENSG00000055950 | 100987514 |  99320000 | 102120000 | Knight_eQTL_brain | image_Aging2 | susie | TRUE |  TRUE | 0.121638427 | 8.766557e-12 | 0.4166957 | 0.67690100 | eQTL | chr10_100331627_104378781 | chr10_100331627_104378781 | KNIGHT_eQTL_pQTL | KNIGHT_eQTL_pQTL.chr10_100331627_104378781.twas.tsv.gz |\n",
       "| 10 | ENSG00000059915 | 102421538 | 101402617 | 103680000 | Knight_eQTL_brain | image_Aging2 | enet  | TRUE | FALSE | 0.007872702 | 5.201216e-02 | 2.3533373 | 0.01860575 | eQTL | chr10_100331627_104378781 | chr10_100331627_104378781 | KNIGHT_eQTL_pQTL | KNIGHT_eQTL_pQTL.chr10_100331627_104378781.twas.tsv.gz |\n",
       "| 10 | ENSG00000059915 | 102421538 | 101402617 | 103680000 | Knight_eQTL_brain | image_Aging2 | lasso | TRUE | FALSE | 0.006195072 | 7.447581e-02 | 2.2734046 | 0.02300181 | eQTL | chr10_100331627_104378781 | chr10_100331627_104378781 | KNIGHT_eQTL_pQTL | KNIGHT_eQTL_pQTL.chr10_100331627_104378781.twas.tsv.gz |\n",
       "\n"
      ],
      "text/plain": [
       "  chr molecular_id    TSS       start     end       context          \n",
       "1 10  ENSG00000055950 100987514  99320000 102120000 Knight_eQTL_brain\n",
       "2 10  ENSG00000055950 100987514  99320000 102120000 Knight_eQTL_brain\n",
       "3 10  ENSG00000055950 100987514  99320000 102120000 Knight_eQTL_brain\n",
       "4 10  ENSG00000055950 100987514  99320000 102120000 Knight_eQTL_brain\n",
       "5 10  ENSG00000059915 102421538 101402617 103680000 Knight_eQTL_brain\n",
       "6 10  ENSG00000059915 102421538 101402617 103680000 Knight_eQTL_brain\n",
       "  gwas_study   method is_imputable is_selected_method rsq_cv      pval_cv     \n",
       "1 image_Aging2 enet   TRUE         FALSE              0.098757440 8.923911e-10\n",
       "2 image_Aging2 lasso  TRUE         FALSE              0.103370596 3.541036e-10\n",
       "3 image_Aging2 mrash  TRUE         FALSE              0.089177838 6.013310e-09\n",
       "4 image_Aging2 susie  TRUE          TRUE              0.121638427 8.766557e-12\n",
       "5 image_Aging2 enet   TRUE         FALSE              0.007872702 5.201216e-02\n",
       "6 image_Aging2 lasso  TRUE         FALSE              0.006195072 7.447581e-02\n",
       "  twas_z    twas_pval  type block                     region                   \n",
       "1 0.4422873 0.65828134 eQTL chr10_100331627_104378781 chr10_100331627_104378781\n",
       "2 0.5153586 0.60630249 eQTL chr10_100331627_104378781 chr10_100331627_104378781\n",
       "3 0.3763701 0.70664179 eQTL chr10_100331627_104378781 chr10_100331627_104378781\n",
       "4 0.4166957 0.67690100 eQTL chr10_100331627_104378781 chr10_100331627_104378781\n",
       "5 2.3533373 0.01860575 eQTL chr10_100331627_104378781 chr10_100331627_104378781\n",
       "6 2.2734046 0.02300181 eQTL chr10_100331627_104378781 chr10_100331627_104378781\n",
       "  study_context    source_file                                           \n",
       "1 KNIGHT_eQTL_pQTL KNIGHT_eQTL_pQTL.chr10_100331627_104378781.twas.tsv.gz\n",
       "2 KNIGHT_eQTL_pQTL KNIGHT_eQTL_pQTL.chr10_100331627_104378781.twas.tsv.gz\n",
       "3 KNIGHT_eQTL_pQTL KNIGHT_eQTL_pQTL.chr10_100331627_104378781.twas.tsv.gz\n",
       "4 KNIGHT_eQTL_pQTL KNIGHT_eQTL_pQTL.chr10_100331627_104378781.twas.tsv.gz\n",
       "5 KNIGHT_eQTL_pQTL KNIGHT_eQTL_pQTL.chr10_100331627_104378781.twas.tsv.gz\n",
       "6 KNIGHT_eQTL_pQTL KNIGHT_eQTL_pQTL.chr10_100331627_104378781.twas.tsv.gz"
      ]
     },
     "metadata": {},
     "output_type": "display_data"
    },
    {
     "data": {
      "text/html": [
       "<style>\n",
       ".list-inline {list-style: none; margin:0; padding: 0}\n",
       ".list-inline>li {display: inline-block}\n",
       ".list-inline>li:not(:last-child)::after {content: \"\\00b7\"; padding: 0 .5ex}\n",
       "</style>\n",
       "<ol class=list-inline><li>920648</li><li>19</li></ol>\n"
      ],
      "text/latex": [
       "\\begin{enumerate*}\n",
       "\\item 920648\n",
       "\\item 19\n",
       "\\end{enumerate*}\n"
      ],
      "text/markdown": [
       "1. 920648\n",
       "2. 19\n",
       "\n",
       "\n"
      ],
      "text/plain": [
       "[1] 920648     19"
      ]
     },
     "metadata": {},
     "output_type": "display_data"
    }
   ],
   "source": [
    "head(image_Aging2)\n",
    "dim(image_Aging2)"
   ]
  },
  {
   "cell_type": "code",
   "execution_count": 49,
   "id": "9f3bde7f-2a16-46f3-8ae6-8437a3dd7098",
   "metadata": {},
   "outputs": [
    {
     "data": {
      "text/html": [
       "56"
      ],
      "text/latex": [
       "56"
      ],
      "text/markdown": [
       "56"
      ],
      "text/plain": [
       "[1] 56"
      ]
     },
     "metadata": {},
     "output_type": "display_data"
    }
   ],
   "source": [
    "sig_image_Aging2 = image_Aging2 |> filter(is_selected_method, twas_pval < 2.5*1e-6) \n",
    "length(unique(sig_image_Aging2$molecular_id))"
   ]
  },
  {
   "cell_type": "code",
   "execution_count": 50,
   "id": "fc0ff687-0e98-49a6-b4d7-5a9c640e6764",
   "metadata": {},
   "outputs": [],
   "source": [
    "image_Aging2_gene_list = sig_image_Aging2 |> mutate(`#chr` = paste0(\"chr\", chr), gene_id = molecular_id)|>select(`#chr`, start, end, gene_id) |> unique()"
   ]
  },
  {
   "cell_type": "code",
   "execution_count": 51,
   "id": "8d9f6684-5af1-40d5-abc5-42dbebb23858",
   "metadata": {},
   "outputs": [
    {
     "data": {
      "text/html": [
       "<style>\n",
       ".list-inline {list-style: none; margin:0; padding: 0}\n",
       ".list-inline>li {display: inline-block}\n",
       ".list-inline>li:not(:last-child)::after {content: \"\\00b7\"; padding: 0 .5ex}\n",
       "</style>\n",
       "<ol class=list-inline><li>56</li><li>4</li></ol>\n"
      ],
      "text/latex": [
       "\\begin{enumerate*}\n",
       "\\item 56\n",
       "\\item 4\n",
       "\\end{enumerate*}\n"
      ],
      "text/markdown": [
       "1. 56\n",
       "2. 4\n",
       "\n",
       "\n"
      ],
      "text/plain": [
       "[1] 56  4"
      ]
     },
     "metadata": {},
     "output_type": "display_data"
    }
   ],
   "source": [
    "dim(image_Aging2_gene_list)"
   ]
  },
  {
   "cell_type": "code",
   "execution_count": 52,
   "id": "7274442a-99e4-406c-8735-a7e08d9ee559",
   "metadata": {},
   "outputs": [],
   "source": [
    "DNE_QTL_gene = fread(\"~/project/image_QTL/twas/annotated_dne_gene.tsv\")\n"
   ]
  },
  {
   "cell_type": "code",
   "execution_count": 53,
   "id": "7b004a73-223b-44b7-8e02-b1222bdb2187",
   "metadata": {},
   "outputs": [],
   "source": [
    "image_Aging2_QTL_gene = DNE_QTL_gene |> filter(str_detect(event_ID, \"image_Aging2\")) |> select(-strand,-event_ID)\n",
    "                                        "
   ]
  },
  {
   "cell_type": "code",
   "execution_count": 54,
   "id": "c405ae02-622d-45bc-b580-04e04f46ad1c",
   "metadata": {},
   "outputs": [],
   "source": [
    "image_Aging2_gene = bind_rows(image_Aging2_gene_list, image_Aging2_QTL_gene)"
   ]
  },
  {
   "cell_type": "code",
   "execution_count": 55,
   "id": "32f345e9-2f2f-47ba-89a0-25e14a971ac8",
   "metadata": {},
   "outputs": [],
   "source": [
    "fwrite(image_Aging2_gene, \"image_Aging2_gene_list.tsv\", sep = '\\t')"
   ]
  },
  {
   "cell_type": "code",
   "execution_count": null,
   "id": "60efeb4d-52d1-4825-a711-9b31ed4c36a5",
   "metadata": {},
   "outputs": [],
   "source": []
  },
  {
   "cell_type": "markdown",
   "id": "3163f43c-480d-499e-a90a-fb9498f448d5",
   "metadata": {},
   "source": [
    "## image_Aging3"
   ]
  },
  {
   "cell_type": "code",
   "execution_count": 56,
   "id": "c40d638a-87d5-490a-b72e-975a588999aa",
   "metadata": {},
   "outputs": [],
   "source": [
    "image_Aging3 <- fread(\"~/project/image_QTL/twas/image_Aging3_twas_merged.tsv.gz.combined_twas.tsv.gz\")"
   ]
  },
  {
   "cell_type": "code",
   "execution_count": 57,
   "id": "4ef4c324-7cb1-40e8-9e05-5b42fcfb6266",
   "metadata": {},
   "outputs": [
    {
     "data": {
      "text/html": [
       "<table class=\"dataframe\">\n",
       "<caption>A data.table: 6 x 19</caption>\n",
       "<thead>\n",
       "\t<tr><th scope=col>chr</th><th scope=col>molecular_id</th><th scope=col>TSS</th><th scope=col>start</th><th scope=col>end</th><th scope=col>context</th><th scope=col>gwas_study</th><th scope=col>method</th><th scope=col>is_imputable</th><th scope=col>is_selected_method</th><th scope=col>rsq_cv</th><th scope=col>pval_cv</th><th scope=col>twas_z</th><th scope=col>twas_pval</th><th scope=col>type</th><th scope=col>block</th><th scope=col>region</th><th scope=col>study_context</th><th scope=col>source_file</th></tr>\n",
       "\t<tr><th scope=col>&lt;int&gt;</th><th scope=col>&lt;chr&gt;</th><th scope=col>&lt;int&gt;</th><th scope=col>&lt;int&gt;</th><th scope=col>&lt;int&gt;</th><th scope=col>&lt;chr&gt;</th><th scope=col>&lt;chr&gt;</th><th scope=col>&lt;chr&gt;</th><th scope=col>&lt;lgl&gt;</th><th scope=col>&lt;lgl&gt;</th><th scope=col>&lt;dbl&gt;</th><th scope=col>&lt;dbl&gt;</th><th scope=col>&lt;dbl&gt;</th><th scope=col>&lt;dbl&gt;</th><th scope=col>&lt;chr&gt;</th><th scope=col>&lt;chr&gt;</th><th scope=col>&lt;chr&gt;</th><th scope=col>&lt;chr&gt;</th><th scope=col>&lt;chr&gt;</th></tr>\n",
       "</thead>\n",
       "<tbody>\n",
       "\t<tr><td>10</td><td>ENSG00000055950</td><td>100987514</td><td> 99320000</td><td>102120000</td><td>Knight_eQTL_brain</td><td>image_Aging3</td><td>enet </td><td>TRUE</td><td>FALSE</td><td>0.098757440</td><td>8.923911e-10</td><td> 0.9022919</td><td>0.3669019</td><td>eQTL</td><td>chr10_100331627_104378781</td><td>chr10_100331627_104378781</td><td>KNIGHT_eQTL_pQTL</td><td>KNIGHT_eQTL_pQTL.chr10_100331627_104378781.twas.tsv.gz</td></tr>\n",
       "\t<tr><td>10</td><td>ENSG00000055950</td><td>100987514</td><td> 99320000</td><td>102120000</td><td>Knight_eQTL_brain</td><td>image_Aging3</td><td>lasso</td><td>TRUE</td><td>FALSE</td><td>0.103370596</td><td>3.541036e-10</td><td> 0.8315505</td><td>0.4056627</td><td>eQTL</td><td>chr10_100331627_104378781</td><td>chr10_100331627_104378781</td><td>KNIGHT_eQTL_pQTL</td><td>KNIGHT_eQTL_pQTL.chr10_100331627_104378781.twas.tsv.gz</td></tr>\n",
       "\t<tr><td>10</td><td>ENSG00000055950</td><td>100987514</td><td> 99320000</td><td>102120000</td><td>Knight_eQTL_brain</td><td>image_Aging3</td><td>mrash</td><td>TRUE</td><td>FALSE</td><td>0.089177838</td><td>6.013310e-09</td><td> 1.0668278</td><td>0.2860496</td><td>eQTL</td><td>chr10_100331627_104378781</td><td>chr10_100331627_104378781</td><td>KNIGHT_eQTL_pQTL</td><td>KNIGHT_eQTL_pQTL.chr10_100331627_104378781.twas.tsv.gz</td></tr>\n",
       "\t<tr><td>10</td><td>ENSG00000055950</td><td>100987514</td><td> 99320000</td><td>102120000</td><td>Knight_eQTL_brain</td><td>image_Aging3</td><td>susie</td><td>TRUE</td><td> TRUE</td><td>0.121638427</td><td>8.766557e-12</td><td> 0.9338231</td><td>0.3503952</td><td>eQTL</td><td>chr10_100331627_104378781</td><td>chr10_100331627_104378781</td><td>KNIGHT_eQTL_pQTL</td><td>KNIGHT_eQTL_pQTL.chr10_100331627_104378781.twas.tsv.gz</td></tr>\n",
       "\t<tr><td>10</td><td>ENSG00000059915</td><td>102421538</td><td>101402617</td><td>103680000</td><td>Knight_eQTL_brain</td><td>image_Aging3</td><td>enet </td><td>TRUE</td><td>FALSE</td><td>0.007872702</td><td>5.201216e-02</td><td>-1.5674767</td><td>0.1170033</td><td>eQTL</td><td>chr10_100331627_104378781</td><td>chr10_100331627_104378781</td><td>KNIGHT_eQTL_pQTL</td><td>KNIGHT_eQTL_pQTL.chr10_100331627_104378781.twas.tsv.gz</td></tr>\n",
       "\t<tr><td>10</td><td>ENSG00000059915</td><td>102421538</td><td>101402617</td><td>103680000</td><td>Knight_eQTL_brain</td><td>image_Aging3</td><td>lasso</td><td>TRUE</td><td>FALSE</td><td>0.006195072</td><td>7.447581e-02</td><td>-1.5819370</td><td>0.1136639</td><td>eQTL</td><td>chr10_100331627_104378781</td><td>chr10_100331627_104378781</td><td>KNIGHT_eQTL_pQTL</td><td>KNIGHT_eQTL_pQTL.chr10_100331627_104378781.twas.tsv.gz</td></tr>\n",
       "</tbody>\n",
       "</table>\n"
      ],
      "text/latex": [
       "A data.table: 6 x 19\n",
       "\\begin{tabular}{lllllllllllllllllll}\n",
       " chr & molecular\\_id & TSS & start & end & context & gwas\\_study & method & is\\_imputable & is\\_selected\\_method & rsq\\_cv & pval\\_cv & twas\\_z & twas\\_pval & type & block & region & study\\_context & source\\_file\\\\\n",
       " <int> & <chr> & <int> & <int> & <int> & <chr> & <chr> & <chr> & <lgl> & <lgl> & <dbl> & <dbl> & <dbl> & <dbl> & <chr> & <chr> & <chr> & <chr> & <chr>\\\\\n",
       "\\hline\n",
       "\t 10 & ENSG00000055950 & 100987514 &  99320000 & 102120000 & Knight\\_eQTL\\_brain & image\\_Aging3 & enet  & TRUE & FALSE & 0.098757440 & 8.923911e-10 &  0.9022919 & 0.3669019 & eQTL & chr10\\_100331627\\_104378781 & chr10\\_100331627\\_104378781 & KNIGHT\\_eQTL\\_pQTL & KNIGHT\\_eQTL\\_pQTL.chr10\\_100331627\\_104378781.twas.tsv.gz\\\\\n",
       "\t 10 & ENSG00000055950 & 100987514 &  99320000 & 102120000 & Knight\\_eQTL\\_brain & image\\_Aging3 & lasso & TRUE & FALSE & 0.103370596 & 3.541036e-10 &  0.8315505 & 0.4056627 & eQTL & chr10\\_100331627\\_104378781 & chr10\\_100331627\\_104378781 & KNIGHT\\_eQTL\\_pQTL & KNIGHT\\_eQTL\\_pQTL.chr10\\_100331627\\_104378781.twas.tsv.gz\\\\\n",
       "\t 10 & ENSG00000055950 & 100987514 &  99320000 & 102120000 & Knight\\_eQTL\\_brain & image\\_Aging3 & mrash & TRUE & FALSE & 0.089177838 & 6.013310e-09 &  1.0668278 & 0.2860496 & eQTL & chr10\\_100331627\\_104378781 & chr10\\_100331627\\_104378781 & KNIGHT\\_eQTL\\_pQTL & KNIGHT\\_eQTL\\_pQTL.chr10\\_100331627\\_104378781.twas.tsv.gz\\\\\n",
       "\t 10 & ENSG00000055950 & 100987514 &  99320000 & 102120000 & Knight\\_eQTL\\_brain & image\\_Aging3 & susie & TRUE &  TRUE & 0.121638427 & 8.766557e-12 &  0.9338231 & 0.3503952 & eQTL & chr10\\_100331627\\_104378781 & chr10\\_100331627\\_104378781 & KNIGHT\\_eQTL\\_pQTL & KNIGHT\\_eQTL\\_pQTL.chr10\\_100331627\\_104378781.twas.tsv.gz\\\\\n",
       "\t 10 & ENSG00000059915 & 102421538 & 101402617 & 103680000 & Knight\\_eQTL\\_brain & image\\_Aging3 & enet  & TRUE & FALSE & 0.007872702 & 5.201216e-02 & -1.5674767 & 0.1170033 & eQTL & chr10\\_100331627\\_104378781 & chr10\\_100331627\\_104378781 & KNIGHT\\_eQTL\\_pQTL & KNIGHT\\_eQTL\\_pQTL.chr10\\_100331627\\_104378781.twas.tsv.gz\\\\\n",
       "\t 10 & ENSG00000059915 & 102421538 & 101402617 & 103680000 & Knight\\_eQTL\\_brain & image\\_Aging3 & lasso & TRUE & FALSE & 0.006195072 & 7.447581e-02 & -1.5819370 & 0.1136639 & eQTL & chr10\\_100331627\\_104378781 & chr10\\_100331627\\_104378781 & KNIGHT\\_eQTL\\_pQTL & KNIGHT\\_eQTL\\_pQTL.chr10\\_100331627\\_104378781.twas.tsv.gz\\\\\n",
       "\\end{tabular}\n"
      ],
      "text/markdown": [
       "\n",
       "A data.table: 6 x 19\n",
       "\n",
       "| chr &lt;int&gt; | molecular_id &lt;chr&gt; | TSS &lt;int&gt; | start &lt;int&gt; | end &lt;int&gt; | context &lt;chr&gt; | gwas_study &lt;chr&gt; | method &lt;chr&gt; | is_imputable &lt;lgl&gt; | is_selected_method &lt;lgl&gt; | rsq_cv &lt;dbl&gt; | pval_cv &lt;dbl&gt; | twas_z &lt;dbl&gt; | twas_pval &lt;dbl&gt; | type &lt;chr&gt; | block &lt;chr&gt; | region &lt;chr&gt; | study_context &lt;chr&gt; | source_file &lt;chr&gt; |\n",
       "|---|---|---|---|---|---|---|---|---|---|---|---|---|---|---|---|---|---|---|\n",
       "| 10 | ENSG00000055950 | 100987514 |  99320000 | 102120000 | Knight_eQTL_brain | image_Aging3 | enet  | TRUE | FALSE | 0.098757440 | 8.923911e-10 |  0.9022919 | 0.3669019 | eQTL | chr10_100331627_104378781 | chr10_100331627_104378781 | KNIGHT_eQTL_pQTL | KNIGHT_eQTL_pQTL.chr10_100331627_104378781.twas.tsv.gz |\n",
       "| 10 | ENSG00000055950 | 100987514 |  99320000 | 102120000 | Knight_eQTL_brain | image_Aging3 | lasso | TRUE | FALSE | 0.103370596 | 3.541036e-10 |  0.8315505 | 0.4056627 | eQTL | chr10_100331627_104378781 | chr10_100331627_104378781 | KNIGHT_eQTL_pQTL | KNIGHT_eQTL_pQTL.chr10_100331627_104378781.twas.tsv.gz |\n",
       "| 10 | ENSG00000055950 | 100987514 |  99320000 | 102120000 | Knight_eQTL_brain | image_Aging3 | mrash | TRUE | FALSE | 0.089177838 | 6.013310e-09 |  1.0668278 | 0.2860496 | eQTL | chr10_100331627_104378781 | chr10_100331627_104378781 | KNIGHT_eQTL_pQTL | KNIGHT_eQTL_pQTL.chr10_100331627_104378781.twas.tsv.gz |\n",
       "| 10 | ENSG00000055950 | 100987514 |  99320000 | 102120000 | Knight_eQTL_brain | image_Aging3 | susie | TRUE |  TRUE | 0.121638427 | 8.766557e-12 |  0.9338231 | 0.3503952 | eQTL | chr10_100331627_104378781 | chr10_100331627_104378781 | KNIGHT_eQTL_pQTL | KNIGHT_eQTL_pQTL.chr10_100331627_104378781.twas.tsv.gz |\n",
       "| 10 | ENSG00000059915 | 102421538 | 101402617 | 103680000 | Knight_eQTL_brain | image_Aging3 | enet  | TRUE | FALSE | 0.007872702 | 5.201216e-02 | -1.5674767 | 0.1170033 | eQTL | chr10_100331627_104378781 | chr10_100331627_104378781 | KNIGHT_eQTL_pQTL | KNIGHT_eQTL_pQTL.chr10_100331627_104378781.twas.tsv.gz |\n",
       "| 10 | ENSG00000059915 | 102421538 | 101402617 | 103680000 | Knight_eQTL_brain | image_Aging3 | lasso | TRUE | FALSE | 0.006195072 | 7.447581e-02 | -1.5819370 | 0.1136639 | eQTL | chr10_100331627_104378781 | chr10_100331627_104378781 | KNIGHT_eQTL_pQTL | KNIGHT_eQTL_pQTL.chr10_100331627_104378781.twas.tsv.gz |\n",
       "\n"
      ],
      "text/plain": [
       "  chr molecular_id    TSS       start     end       context          \n",
       "1 10  ENSG00000055950 100987514  99320000 102120000 Knight_eQTL_brain\n",
       "2 10  ENSG00000055950 100987514  99320000 102120000 Knight_eQTL_brain\n",
       "3 10  ENSG00000055950 100987514  99320000 102120000 Knight_eQTL_brain\n",
       "4 10  ENSG00000055950 100987514  99320000 102120000 Knight_eQTL_brain\n",
       "5 10  ENSG00000059915 102421538 101402617 103680000 Knight_eQTL_brain\n",
       "6 10  ENSG00000059915 102421538 101402617 103680000 Knight_eQTL_brain\n",
       "  gwas_study   method is_imputable is_selected_method rsq_cv      pval_cv     \n",
       "1 image_Aging3 enet   TRUE         FALSE              0.098757440 8.923911e-10\n",
       "2 image_Aging3 lasso  TRUE         FALSE              0.103370596 3.541036e-10\n",
       "3 image_Aging3 mrash  TRUE         FALSE              0.089177838 6.013310e-09\n",
       "4 image_Aging3 susie  TRUE          TRUE              0.121638427 8.766557e-12\n",
       "5 image_Aging3 enet   TRUE         FALSE              0.007872702 5.201216e-02\n",
       "6 image_Aging3 lasso  TRUE         FALSE              0.006195072 7.447581e-02\n",
       "  twas_z     twas_pval type block                     region                   \n",
       "1  0.9022919 0.3669019 eQTL chr10_100331627_104378781 chr10_100331627_104378781\n",
       "2  0.8315505 0.4056627 eQTL chr10_100331627_104378781 chr10_100331627_104378781\n",
       "3  1.0668278 0.2860496 eQTL chr10_100331627_104378781 chr10_100331627_104378781\n",
       "4  0.9338231 0.3503952 eQTL chr10_100331627_104378781 chr10_100331627_104378781\n",
       "5 -1.5674767 0.1170033 eQTL chr10_100331627_104378781 chr10_100331627_104378781\n",
       "6 -1.5819370 0.1136639 eQTL chr10_100331627_104378781 chr10_100331627_104378781\n",
       "  study_context    source_file                                           \n",
       "1 KNIGHT_eQTL_pQTL KNIGHT_eQTL_pQTL.chr10_100331627_104378781.twas.tsv.gz\n",
       "2 KNIGHT_eQTL_pQTL KNIGHT_eQTL_pQTL.chr10_100331627_104378781.twas.tsv.gz\n",
       "3 KNIGHT_eQTL_pQTL KNIGHT_eQTL_pQTL.chr10_100331627_104378781.twas.tsv.gz\n",
       "4 KNIGHT_eQTL_pQTL KNIGHT_eQTL_pQTL.chr10_100331627_104378781.twas.tsv.gz\n",
       "5 KNIGHT_eQTL_pQTL KNIGHT_eQTL_pQTL.chr10_100331627_104378781.twas.tsv.gz\n",
       "6 KNIGHT_eQTL_pQTL KNIGHT_eQTL_pQTL.chr10_100331627_104378781.twas.tsv.gz"
      ]
     },
     "metadata": {},
     "output_type": "display_data"
    },
    {
     "data": {
      "text/html": [
       "<style>\n",
       ".list-inline {list-style: none; margin:0; padding: 0}\n",
       ".list-inline>li {display: inline-block}\n",
       ".list-inline>li:not(:last-child)::after {content: \"\\00b7\"; padding: 0 .5ex}\n",
       "</style>\n",
       "<ol class=list-inline><li>924774</li><li>19</li></ol>\n"
      ],
      "text/latex": [
       "\\begin{enumerate*}\n",
       "\\item 924774\n",
       "\\item 19\n",
       "\\end{enumerate*}\n"
      ],
      "text/markdown": [
       "1. 924774\n",
       "2. 19\n",
       "\n",
       "\n"
      ],
      "text/plain": [
       "[1] 924774     19"
      ]
     },
     "metadata": {},
     "output_type": "display_data"
    }
   ],
   "source": [
    "head(image_Aging3)\n",
    "dim(image_Aging3)"
   ]
  },
  {
   "cell_type": "code",
   "execution_count": 58,
   "id": "c7fa4b6d-eaa6-425b-b253-6cef8f2d5b49",
   "metadata": {},
   "outputs": [
    {
     "data": {
      "text/html": [
       "19"
      ],
      "text/latex": [
       "19"
      ],
      "text/markdown": [
       "19"
      ],
      "text/plain": [
       "[1] 19"
      ]
     },
     "metadata": {},
     "output_type": "display_data"
    }
   ],
   "source": [
    "sig_image_Aging3 = image_Aging3 |> filter(is_selected_method, twas_pval < 2.5*1e-6) \n",
    "length(unique(sig_image_Aging3$molecular_id))"
   ]
  },
  {
   "cell_type": "code",
   "execution_count": 59,
   "id": "1f64dfdf-e0c5-4431-9e19-30168f43cf27",
   "metadata": {},
   "outputs": [],
   "source": [
    "image_Aging3_gene_list = sig_image_Aging3 |> mutate(`#chr` = paste0(\"chr\", chr), gene_id = molecular_id)|>select(`#chr`, start, end, gene_id) |> unique()"
   ]
  },
  {
   "cell_type": "code",
   "execution_count": 60,
   "id": "95b46c94-6552-4ed9-bd7e-fc77403743b4",
   "metadata": {},
   "outputs": [
    {
     "data": {
      "text/html": [
       "<style>\n",
       ".list-inline {list-style: none; margin:0; padding: 0}\n",
       ".list-inline>li {display: inline-block}\n",
       ".list-inline>li:not(:last-child)::after {content: \"\\00b7\"; padding: 0 .5ex}\n",
       "</style>\n",
       "<ol class=list-inline><li>19</li><li>4</li></ol>\n"
      ],
      "text/latex": [
       "\\begin{enumerate*}\n",
       "\\item 19\n",
       "\\item 4\n",
       "\\end{enumerate*}\n"
      ],
      "text/markdown": [
       "1. 19\n",
       "2. 4\n",
       "\n",
       "\n"
      ],
      "text/plain": [
       "[1] 19  4"
      ]
     },
     "metadata": {},
     "output_type": "display_data"
    }
   ],
   "source": [
    "dim(image_Aging3_gene_list)"
   ]
  },
  {
   "cell_type": "code",
   "execution_count": 61,
   "id": "a5242ef3-1248-4237-9e4e-488d57b2bf6f",
   "metadata": {},
   "outputs": [],
   "source": [
    "DNE_QTL_gene = fread(\"~/project/image_QTL/twas/annotated_dne_gene.tsv\")\n"
   ]
  },
  {
   "cell_type": "code",
   "execution_count": 62,
   "id": "11d6b2fc-5919-4dc8-b35a-e37f33a702d8",
   "metadata": {},
   "outputs": [],
   "source": [
    "image_Aging3_QTL_gene = DNE_QTL_gene |> filter(str_detect(event_ID, \"image_Aging3\")) |> select(-strand,-event_ID)\n",
    "                                        "
   ]
  },
  {
   "cell_type": "code",
   "execution_count": 63,
   "id": "ecf0fc11-b573-4e86-8f32-fa4392c5f2d0",
   "metadata": {},
   "outputs": [],
   "source": [
    "image_Aging3_gene = bind_rows(image_Aging3_gene_list, image_Aging3_QTL_gene)"
   ]
  },
  {
   "cell_type": "code",
   "execution_count": 64,
   "id": "184abe3d-3ca7-4e22-9e83-16bc708096dd",
   "metadata": {},
   "outputs": [],
   "source": [
    "fwrite(image_Aging3_gene, \"image_Aging3_gene_list.tsv\", sep = '\\t')"
   ]
  },
  {
   "cell_type": "code",
   "execution_count": null,
   "id": "1611727e-6b67-492b-a332-02b0325decfc",
   "metadata": {},
   "outputs": [],
   "source": []
  },
  {
   "cell_type": "markdown",
   "id": "ac8166f0-4db4-4023-b522-aedb8620b8dd",
   "metadata": {},
   "source": [
    "## image_Aging4"
   ]
  },
  {
   "cell_type": "code",
   "execution_count": 65,
   "id": "cfbd23df-7634-4ae0-ac6e-2a337f01cce1",
   "metadata": {},
   "outputs": [],
   "source": [
    "image_Aging4 <- fread(\"~/project/image_QTL/twas/image_Aging4_twas_merged.tsv.gz.combined_twas.tsv.gz\")"
   ]
  },
  {
   "cell_type": "code",
   "execution_count": 66,
   "id": "7e2b0d52-1091-4a43-aa1e-f58040dc90c7",
   "metadata": {},
   "outputs": [
    {
     "data": {
      "text/html": [
       "<table class=\"dataframe\">\n",
       "<caption>A data.table: 6 x 19</caption>\n",
       "<thead>\n",
       "\t<tr><th scope=col>chr</th><th scope=col>molecular_id</th><th scope=col>TSS</th><th scope=col>start</th><th scope=col>end</th><th scope=col>context</th><th scope=col>gwas_study</th><th scope=col>method</th><th scope=col>is_imputable</th><th scope=col>is_selected_method</th><th scope=col>rsq_cv</th><th scope=col>pval_cv</th><th scope=col>twas_z</th><th scope=col>twas_pval</th><th scope=col>type</th><th scope=col>block</th><th scope=col>region</th><th scope=col>study_context</th><th scope=col>source_file</th></tr>\n",
       "\t<tr><th scope=col>&lt;int&gt;</th><th scope=col>&lt;chr&gt;</th><th scope=col>&lt;int&gt;</th><th scope=col>&lt;int&gt;</th><th scope=col>&lt;int&gt;</th><th scope=col>&lt;chr&gt;</th><th scope=col>&lt;chr&gt;</th><th scope=col>&lt;chr&gt;</th><th scope=col>&lt;lgl&gt;</th><th scope=col>&lt;lgl&gt;</th><th scope=col>&lt;dbl&gt;</th><th scope=col>&lt;dbl&gt;</th><th scope=col>&lt;dbl&gt;</th><th scope=col>&lt;dbl&gt;</th><th scope=col>&lt;chr&gt;</th><th scope=col>&lt;chr&gt;</th><th scope=col>&lt;chr&gt;</th><th scope=col>&lt;chr&gt;</th><th scope=col>&lt;chr&gt;</th></tr>\n",
       "</thead>\n",
       "<tbody>\n",
       "\t<tr><td>10</td><td>ENSG00000055950</td><td>100987514</td><td> 99320000</td><td>102120000</td><td>Knight_eQTL_brain</td><td>image_Aging4</td><td>enet </td><td>TRUE</td><td>FALSE</td><td>0.098757440</td><td>8.923911e-10</td><td>-2.925529</td><td>0.003438716</td><td>eQTL</td><td>chr10_100331627_104378781</td><td>chr10_100331627_104378781</td><td>KNIGHT_eQTL_pQTL</td><td>KNIGHT_eQTL_pQTL.chr10_100331627_104378781.twas.tsv.gz</td></tr>\n",
       "\t<tr><td>10</td><td>ENSG00000055950</td><td>100987514</td><td> 99320000</td><td>102120000</td><td>Knight_eQTL_brain</td><td>image_Aging4</td><td>lasso</td><td>TRUE</td><td>FALSE</td><td>0.103370596</td><td>3.541036e-10</td><td>-2.953063</td><td>0.003146377</td><td>eQTL</td><td>chr10_100331627_104378781</td><td>chr10_100331627_104378781</td><td>KNIGHT_eQTL_pQTL</td><td>KNIGHT_eQTL_pQTL.chr10_100331627_104378781.twas.tsv.gz</td></tr>\n",
       "\t<tr><td>10</td><td>ENSG00000055950</td><td>100987514</td><td> 99320000</td><td>102120000</td><td>Knight_eQTL_brain</td><td>image_Aging4</td><td>mrash</td><td>TRUE</td><td>FALSE</td><td>0.089177838</td><td>6.013310e-09</td><td>-2.792398</td><td>0.005231890</td><td>eQTL</td><td>chr10_100331627_104378781</td><td>chr10_100331627_104378781</td><td>KNIGHT_eQTL_pQTL</td><td>KNIGHT_eQTL_pQTL.chr10_100331627_104378781.twas.tsv.gz</td></tr>\n",
       "\t<tr><td>10</td><td>ENSG00000055950</td><td>100987514</td><td> 99320000</td><td>102120000</td><td>Knight_eQTL_brain</td><td>image_Aging4</td><td>susie</td><td>TRUE</td><td> TRUE</td><td>0.121638427</td><td>8.766557e-12</td><td>-2.932920</td><td>0.003357909</td><td>eQTL</td><td>chr10_100331627_104378781</td><td>chr10_100331627_104378781</td><td>KNIGHT_eQTL_pQTL</td><td>KNIGHT_eQTL_pQTL.chr10_100331627_104378781.twas.tsv.gz</td></tr>\n",
       "\t<tr><td>10</td><td>ENSG00000059915</td><td>102421538</td><td>101402617</td><td>103680000</td><td>Knight_eQTL_brain</td><td>image_Aging4</td><td>enet </td><td>TRUE</td><td>FALSE</td><td>0.007872702</td><td>5.201216e-02</td><td> 1.188241</td><td>0.234738536</td><td>eQTL</td><td>chr10_100331627_104378781</td><td>chr10_100331627_104378781</td><td>KNIGHT_eQTL_pQTL</td><td>KNIGHT_eQTL_pQTL.chr10_100331627_104378781.twas.tsv.gz</td></tr>\n",
       "\t<tr><td>10</td><td>ENSG00000059915</td><td>102421538</td><td>101402617</td><td>103680000</td><td>Knight_eQTL_brain</td><td>image_Aging4</td><td>lasso</td><td>TRUE</td><td>FALSE</td><td>0.006195072</td><td>7.447581e-02</td><td> 1.045410</td><td>0.295833712</td><td>eQTL</td><td>chr10_100331627_104378781</td><td>chr10_100331627_104378781</td><td>KNIGHT_eQTL_pQTL</td><td>KNIGHT_eQTL_pQTL.chr10_100331627_104378781.twas.tsv.gz</td></tr>\n",
       "</tbody>\n",
       "</table>\n"
      ],
      "text/latex": [
       "A data.table: 6 x 19\n",
       "\\begin{tabular}{lllllllllllllllllll}\n",
       " chr & molecular\\_id & TSS & start & end & context & gwas\\_study & method & is\\_imputable & is\\_selected\\_method & rsq\\_cv & pval\\_cv & twas\\_z & twas\\_pval & type & block & region & study\\_context & source\\_file\\\\\n",
       " <int> & <chr> & <int> & <int> & <int> & <chr> & <chr> & <chr> & <lgl> & <lgl> & <dbl> & <dbl> & <dbl> & <dbl> & <chr> & <chr> & <chr> & <chr> & <chr>\\\\\n",
       "\\hline\n",
       "\t 10 & ENSG00000055950 & 100987514 &  99320000 & 102120000 & Knight\\_eQTL\\_brain & image\\_Aging4 & enet  & TRUE & FALSE & 0.098757440 & 8.923911e-10 & -2.925529 & 0.003438716 & eQTL & chr10\\_100331627\\_104378781 & chr10\\_100331627\\_104378781 & KNIGHT\\_eQTL\\_pQTL & KNIGHT\\_eQTL\\_pQTL.chr10\\_100331627\\_104378781.twas.tsv.gz\\\\\n",
       "\t 10 & ENSG00000055950 & 100987514 &  99320000 & 102120000 & Knight\\_eQTL\\_brain & image\\_Aging4 & lasso & TRUE & FALSE & 0.103370596 & 3.541036e-10 & -2.953063 & 0.003146377 & eQTL & chr10\\_100331627\\_104378781 & chr10\\_100331627\\_104378781 & KNIGHT\\_eQTL\\_pQTL & KNIGHT\\_eQTL\\_pQTL.chr10\\_100331627\\_104378781.twas.tsv.gz\\\\\n",
       "\t 10 & ENSG00000055950 & 100987514 &  99320000 & 102120000 & Knight\\_eQTL\\_brain & image\\_Aging4 & mrash & TRUE & FALSE & 0.089177838 & 6.013310e-09 & -2.792398 & 0.005231890 & eQTL & chr10\\_100331627\\_104378781 & chr10\\_100331627\\_104378781 & KNIGHT\\_eQTL\\_pQTL & KNIGHT\\_eQTL\\_pQTL.chr10\\_100331627\\_104378781.twas.tsv.gz\\\\\n",
       "\t 10 & ENSG00000055950 & 100987514 &  99320000 & 102120000 & Knight\\_eQTL\\_brain & image\\_Aging4 & susie & TRUE &  TRUE & 0.121638427 & 8.766557e-12 & -2.932920 & 0.003357909 & eQTL & chr10\\_100331627\\_104378781 & chr10\\_100331627\\_104378781 & KNIGHT\\_eQTL\\_pQTL & KNIGHT\\_eQTL\\_pQTL.chr10\\_100331627\\_104378781.twas.tsv.gz\\\\\n",
       "\t 10 & ENSG00000059915 & 102421538 & 101402617 & 103680000 & Knight\\_eQTL\\_brain & image\\_Aging4 & enet  & TRUE & FALSE & 0.007872702 & 5.201216e-02 &  1.188241 & 0.234738536 & eQTL & chr10\\_100331627\\_104378781 & chr10\\_100331627\\_104378781 & KNIGHT\\_eQTL\\_pQTL & KNIGHT\\_eQTL\\_pQTL.chr10\\_100331627\\_104378781.twas.tsv.gz\\\\\n",
       "\t 10 & ENSG00000059915 & 102421538 & 101402617 & 103680000 & Knight\\_eQTL\\_brain & image\\_Aging4 & lasso & TRUE & FALSE & 0.006195072 & 7.447581e-02 &  1.045410 & 0.295833712 & eQTL & chr10\\_100331627\\_104378781 & chr10\\_100331627\\_104378781 & KNIGHT\\_eQTL\\_pQTL & KNIGHT\\_eQTL\\_pQTL.chr10\\_100331627\\_104378781.twas.tsv.gz\\\\\n",
       "\\end{tabular}\n"
      ],
      "text/markdown": [
       "\n",
       "A data.table: 6 x 19\n",
       "\n",
       "| chr &lt;int&gt; | molecular_id &lt;chr&gt; | TSS &lt;int&gt; | start &lt;int&gt; | end &lt;int&gt; | context &lt;chr&gt; | gwas_study &lt;chr&gt; | method &lt;chr&gt; | is_imputable &lt;lgl&gt; | is_selected_method &lt;lgl&gt; | rsq_cv &lt;dbl&gt; | pval_cv &lt;dbl&gt; | twas_z &lt;dbl&gt; | twas_pval &lt;dbl&gt; | type &lt;chr&gt; | block &lt;chr&gt; | region &lt;chr&gt; | study_context &lt;chr&gt; | source_file &lt;chr&gt; |\n",
       "|---|---|---|---|---|---|---|---|---|---|---|---|---|---|---|---|---|---|---|\n",
       "| 10 | ENSG00000055950 | 100987514 |  99320000 | 102120000 | Knight_eQTL_brain | image_Aging4 | enet  | TRUE | FALSE | 0.098757440 | 8.923911e-10 | -2.925529 | 0.003438716 | eQTL | chr10_100331627_104378781 | chr10_100331627_104378781 | KNIGHT_eQTL_pQTL | KNIGHT_eQTL_pQTL.chr10_100331627_104378781.twas.tsv.gz |\n",
       "| 10 | ENSG00000055950 | 100987514 |  99320000 | 102120000 | Knight_eQTL_brain | image_Aging4 | lasso | TRUE | FALSE | 0.103370596 | 3.541036e-10 | -2.953063 | 0.003146377 | eQTL | chr10_100331627_104378781 | chr10_100331627_104378781 | KNIGHT_eQTL_pQTL | KNIGHT_eQTL_pQTL.chr10_100331627_104378781.twas.tsv.gz |\n",
       "| 10 | ENSG00000055950 | 100987514 |  99320000 | 102120000 | Knight_eQTL_brain | image_Aging4 | mrash | TRUE | FALSE | 0.089177838 | 6.013310e-09 | -2.792398 | 0.005231890 | eQTL | chr10_100331627_104378781 | chr10_100331627_104378781 | KNIGHT_eQTL_pQTL | KNIGHT_eQTL_pQTL.chr10_100331627_104378781.twas.tsv.gz |\n",
       "| 10 | ENSG00000055950 | 100987514 |  99320000 | 102120000 | Knight_eQTL_brain | image_Aging4 | susie | TRUE |  TRUE | 0.121638427 | 8.766557e-12 | -2.932920 | 0.003357909 | eQTL | chr10_100331627_104378781 | chr10_100331627_104378781 | KNIGHT_eQTL_pQTL | KNIGHT_eQTL_pQTL.chr10_100331627_104378781.twas.tsv.gz |\n",
       "| 10 | ENSG00000059915 | 102421538 | 101402617 | 103680000 | Knight_eQTL_brain | image_Aging4 | enet  | TRUE | FALSE | 0.007872702 | 5.201216e-02 |  1.188241 | 0.234738536 | eQTL | chr10_100331627_104378781 | chr10_100331627_104378781 | KNIGHT_eQTL_pQTL | KNIGHT_eQTL_pQTL.chr10_100331627_104378781.twas.tsv.gz |\n",
       "| 10 | ENSG00000059915 | 102421538 | 101402617 | 103680000 | Knight_eQTL_brain | image_Aging4 | lasso | TRUE | FALSE | 0.006195072 | 7.447581e-02 |  1.045410 | 0.295833712 | eQTL | chr10_100331627_104378781 | chr10_100331627_104378781 | KNIGHT_eQTL_pQTL | KNIGHT_eQTL_pQTL.chr10_100331627_104378781.twas.tsv.gz |\n",
       "\n"
      ],
      "text/plain": [
       "  chr molecular_id    TSS       start     end       context          \n",
       "1 10  ENSG00000055950 100987514  99320000 102120000 Knight_eQTL_brain\n",
       "2 10  ENSG00000055950 100987514  99320000 102120000 Knight_eQTL_brain\n",
       "3 10  ENSG00000055950 100987514  99320000 102120000 Knight_eQTL_brain\n",
       "4 10  ENSG00000055950 100987514  99320000 102120000 Knight_eQTL_brain\n",
       "5 10  ENSG00000059915 102421538 101402617 103680000 Knight_eQTL_brain\n",
       "6 10  ENSG00000059915 102421538 101402617 103680000 Knight_eQTL_brain\n",
       "  gwas_study   method is_imputable is_selected_method rsq_cv      pval_cv     \n",
       "1 image_Aging4 enet   TRUE         FALSE              0.098757440 8.923911e-10\n",
       "2 image_Aging4 lasso  TRUE         FALSE              0.103370596 3.541036e-10\n",
       "3 image_Aging4 mrash  TRUE         FALSE              0.089177838 6.013310e-09\n",
       "4 image_Aging4 susie  TRUE          TRUE              0.121638427 8.766557e-12\n",
       "5 image_Aging4 enet   TRUE         FALSE              0.007872702 5.201216e-02\n",
       "6 image_Aging4 lasso  TRUE         FALSE              0.006195072 7.447581e-02\n",
       "  twas_z    twas_pval   type block                    \n",
       "1 -2.925529 0.003438716 eQTL chr10_100331627_104378781\n",
       "2 -2.953063 0.003146377 eQTL chr10_100331627_104378781\n",
       "3 -2.792398 0.005231890 eQTL chr10_100331627_104378781\n",
       "4 -2.932920 0.003357909 eQTL chr10_100331627_104378781\n",
       "5  1.188241 0.234738536 eQTL chr10_100331627_104378781\n",
       "6  1.045410 0.295833712 eQTL chr10_100331627_104378781\n",
       "  region                    study_context   \n",
       "1 chr10_100331627_104378781 KNIGHT_eQTL_pQTL\n",
       "2 chr10_100331627_104378781 KNIGHT_eQTL_pQTL\n",
       "3 chr10_100331627_104378781 KNIGHT_eQTL_pQTL\n",
       "4 chr10_100331627_104378781 KNIGHT_eQTL_pQTL\n",
       "5 chr10_100331627_104378781 KNIGHT_eQTL_pQTL\n",
       "6 chr10_100331627_104378781 KNIGHT_eQTL_pQTL\n",
       "  source_file                                           \n",
       "1 KNIGHT_eQTL_pQTL.chr10_100331627_104378781.twas.tsv.gz\n",
       "2 KNIGHT_eQTL_pQTL.chr10_100331627_104378781.twas.tsv.gz\n",
       "3 KNIGHT_eQTL_pQTL.chr10_100331627_104378781.twas.tsv.gz\n",
       "4 KNIGHT_eQTL_pQTL.chr10_100331627_104378781.twas.tsv.gz\n",
       "5 KNIGHT_eQTL_pQTL.chr10_100331627_104378781.twas.tsv.gz\n",
       "6 KNIGHT_eQTL_pQTL.chr10_100331627_104378781.twas.tsv.gz"
      ]
     },
     "metadata": {},
     "output_type": "display_data"
    },
    {
     "data": {
      "text/html": [
       "<style>\n",
       ".list-inline {list-style: none; margin:0; padding: 0}\n",
       ".list-inline>li {display: inline-block}\n",
       ".list-inline>li:not(:last-child)::after {content: \"\\00b7\"; padding: 0 .5ex}\n",
       "</style>\n",
       "<ol class=list-inline><li>928827</li><li>19</li></ol>\n"
      ],
      "text/latex": [
       "\\begin{enumerate*}\n",
       "\\item 928827\n",
       "\\item 19\n",
       "\\end{enumerate*}\n"
      ],
      "text/markdown": [
       "1. 928827\n",
       "2. 19\n",
       "\n",
       "\n"
      ],
      "text/plain": [
       "[1] 928827     19"
      ]
     },
     "metadata": {},
     "output_type": "display_data"
    }
   ],
   "source": [
    "head(image_Aging4)\n",
    "dim(image_Aging4)"
   ]
  },
  {
   "cell_type": "code",
   "execution_count": 67,
   "id": "da505b80-262e-4ee4-9c03-30ec2c4434b8",
   "metadata": {},
   "outputs": [
    {
     "data": {
      "text/html": [
       "21"
      ],
      "text/latex": [
       "21"
      ],
      "text/markdown": [
       "21"
      ],
      "text/plain": [
       "[1] 21"
      ]
     },
     "metadata": {},
     "output_type": "display_data"
    }
   ],
   "source": [
    "sig_image_Aging4 = image_Aging4 |> filter(is_selected_method, twas_pval < 2.5*1e-6) \n",
    "length(unique(sig_image_Aging4$molecular_id))"
   ]
  },
  {
   "cell_type": "code",
   "execution_count": 68,
   "id": "81bc8468-b2ce-4b2f-bf47-00bf79a11b75",
   "metadata": {},
   "outputs": [],
   "source": [
    "image_Aging4_gene_list = sig_image_Aging4 |> mutate(`#chr` = paste0(\"chr\", chr), gene_id = molecular_id)|>select(`#chr`, start, end, gene_id) |> unique()"
   ]
  },
  {
   "cell_type": "code",
   "execution_count": 69,
   "id": "0a397efb-a4bf-4830-b0a4-72f1dcb743a5",
   "metadata": {},
   "outputs": [
    {
     "data": {
      "text/html": [
       "<style>\n",
       ".list-inline {list-style: none; margin:0; padding: 0}\n",
       ".list-inline>li {display: inline-block}\n",
       ".list-inline>li:not(:last-child)::after {content: \"\\00b7\"; padding: 0 .5ex}\n",
       "</style>\n",
       "<ol class=list-inline><li>21</li><li>4</li></ol>\n"
      ],
      "text/latex": [
       "\\begin{enumerate*}\n",
       "\\item 21\n",
       "\\item 4\n",
       "\\end{enumerate*}\n"
      ],
      "text/markdown": [
       "1. 21\n",
       "2. 4\n",
       "\n",
       "\n"
      ],
      "text/plain": [
       "[1] 21  4"
      ]
     },
     "metadata": {},
     "output_type": "display_data"
    }
   ],
   "source": [
    "dim(image_Aging4_gene_list)"
   ]
  },
  {
   "cell_type": "code",
   "execution_count": 70,
   "id": "dd6f7bec-0243-4f62-b47d-b9d7f302779c",
   "metadata": {},
   "outputs": [],
   "source": [
    "DNE_QTL_gene = fread(\"~/project/image_QTL/twas/annotated_dne_gene.tsv\")\n"
   ]
  },
  {
   "cell_type": "code",
   "execution_count": 71,
   "id": "df69a001-db43-40df-822e-78b792bc9c06",
   "metadata": {},
   "outputs": [],
   "source": [
    "image_Aging4_QTL_gene = DNE_QTL_gene |> filter(str_detect(event_ID, \"image_Aging4\")) |> select(-strand,-event_ID)\n",
    "                                        "
   ]
  },
  {
   "cell_type": "code",
   "execution_count": 72,
   "id": "629ef529-3f32-4a18-8478-201a7922cf3d",
   "metadata": {},
   "outputs": [],
   "source": [
    "image_Aging4_gene = bind_rows(image_Aging4_gene_list, image_Aging4_QTL_gene)"
   ]
  },
  {
   "cell_type": "code",
   "execution_count": 73,
   "id": "69b5ed7e-e357-4e69-ba4a-9f9824c1dc91",
   "metadata": {},
   "outputs": [],
   "source": [
    "fwrite(image_Aging4_gene, \"image_Aging4_gene_list.tsv\", sep = '\\t')"
   ]
  },
  {
   "cell_type": "code",
   "execution_count": null,
   "id": "d7476b88-c058-4077-a76b-87b17190f606",
   "metadata": {},
   "outputs": [],
   "source": []
  },
  {
   "cell_type": "markdown",
   "id": "37709d7a-d2c1-482b-b63d-9f0c2254c16f",
   "metadata": {},
   "source": [
    "## image_Aging5"
   ]
  },
  {
   "cell_type": "code",
   "execution_count": 74,
   "id": "55639c2b-e14c-4255-99d5-224c51baba73",
   "metadata": {},
   "outputs": [],
   "source": [
    "image_Aging5 <- fread(\"~/project/image_QTL/twas/image_Aging5_twas_merged.tsv.gz.combined_twas.tsv.gz\")"
   ]
  },
  {
   "cell_type": "code",
   "execution_count": 75,
   "id": "7c62112d-ccd9-4832-a5c7-9a8e3d7f8f7a",
   "metadata": {},
   "outputs": [
    {
     "data": {
      "text/html": [
       "<table class=\"dataframe\">\n",
       "<caption>A data.table: 6 x 19</caption>\n",
       "<thead>\n",
       "\t<tr><th scope=col>chr</th><th scope=col>molecular_id</th><th scope=col>TSS</th><th scope=col>start</th><th scope=col>end</th><th scope=col>context</th><th scope=col>gwas_study</th><th scope=col>method</th><th scope=col>is_imputable</th><th scope=col>is_selected_method</th><th scope=col>rsq_cv</th><th scope=col>pval_cv</th><th scope=col>twas_z</th><th scope=col>twas_pval</th><th scope=col>type</th><th scope=col>block</th><th scope=col>region</th><th scope=col>study_context</th><th scope=col>source_file</th></tr>\n",
       "\t<tr><th scope=col>&lt;int&gt;</th><th scope=col>&lt;chr&gt;</th><th scope=col>&lt;int&gt;</th><th scope=col>&lt;int&gt;</th><th scope=col>&lt;int&gt;</th><th scope=col>&lt;chr&gt;</th><th scope=col>&lt;chr&gt;</th><th scope=col>&lt;chr&gt;</th><th scope=col>&lt;lgl&gt;</th><th scope=col>&lt;lgl&gt;</th><th scope=col>&lt;dbl&gt;</th><th scope=col>&lt;dbl&gt;</th><th scope=col>&lt;dbl&gt;</th><th scope=col>&lt;dbl&gt;</th><th scope=col>&lt;chr&gt;</th><th scope=col>&lt;chr&gt;</th><th scope=col>&lt;chr&gt;</th><th scope=col>&lt;chr&gt;</th><th scope=col>&lt;chr&gt;</th></tr>\n",
       "</thead>\n",
       "<tbody>\n",
       "\t<tr><td>7</td><td>ENSG00000198286</td><td>3043866</td><td>0</td><td>6000000</td><td>ROSMAP_PCC_sQTL_chr7:2939928:2944211:clu_52885_-:PR:ENSG00000198286</td><td>image_Aging5</td><td>mrash</td><td>TRUE</td><td>FALSE</td><td>0.006790090</td><td>4.443680e-02</td><td> 0.5766363</td><td>0.5641852</td><td>productive_sQTL</td><td>chr7_2640020_3986377</td><td>chr7_2640020_3986377</td><td>ROSMAP_sQTL_chr7</td><td>ROSMAP_sQTL.chr7_2640020_3986377.twas.tsv.gz</td></tr>\n",
       "\t<tr><td>7</td><td>ENSG00000198286</td><td>3043866</td><td>0</td><td>6000000</td><td>ROSMAP_PCC_sQTL_chr7:2939928:2944211:clu_52885_-:PR:ENSG00000198286</td><td>image_Aging5</td><td>susie</td><td>TRUE</td><td>FALSE</td><td>0.006737645</td><td>4.506218e-02</td><td> 0.2352007</td><td>0.8140529</td><td>productive_sQTL</td><td>chr7_2640020_3986377</td><td>chr7_2640020_3986377</td><td>ROSMAP_sQTL_chr7</td><td>ROSMAP_sQTL.chr7_2640020_3986377.twas.tsv.gz</td></tr>\n",
       "\t<tr><td>7</td><td>ENSG00000198286</td><td>3043866</td><td>0</td><td>6000000</td><td>ROSMAP_PCC_sQTL_chr7:2944537:2945818:clu_52886_-:PR:ENSG00000198286</td><td>image_Aging5</td><td>enet </td><td>TRUE</td><td> TRUE</td><td>0.072899818</td><td>3.662651e-09</td><td>-1.1158404</td><td>0.2644905</td><td>productive_sQTL</td><td>chr7_2640020_3986377</td><td>chr7_2640020_3986377</td><td>ROSMAP_sQTL_chr7</td><td>ROSMAP_sQTL.chr7_2640020_3986377.twas.tsv.gz</td></tr>\n",
       "\t<tr><td>7</td><td>ENSG00000198286</td><td>3043866</td><td>0</td><td>6000000</td><td>ROSMAP_PCC_sQTL_chr7:2944537:2945818:clu_52886_-:PR:ENSG00000198286</td><td>image_Aging5</td><td>lasso</td><td>TRUE</td><td>FALSE</td><td>0.047477961</td><td>1.877433e-06</td><td>-1.1286455</td><td>0.2590474</td><td>productive_sQTL</td><td>chr7_2640020_3986377</td><td>chr7_2640020_3986377</td><td>ROSMAP_sQTL_chr7</td><td>ROSMAP_sQTL.chr7_2640020_3986377.twas.tsv.gz</td></tr>\n",
       "\t<tr><td>7</td><td>ENSG00000198286</td><td>3043866</td><td>0</td><td>6000000</td><td>ROSMAP_PCC_sQTL_chr7:2944537:2945818:clu_52886_-:PR:ENSG00000198286</td><td>image_Aging5</td><td>mrash</td><td>TRUE</td><td>FALSE</td><td>0.009239405</td><td>2.334909e-02</td><td> 0.6226682</td><td>0.5335026</td><td>productive_sQTL</td><td>chr7_2640020_3986377</td><td>chr7_2640020_3986377</td><td>ROSMAP_sQTL_chr7</td><td>ROSMAP_sQTL.chr7_2640020_3986377.twas.tsv.gz</td></tr>\n",
       "\t<tr><td>7</td><td>ENSG00000198286</td><td>3043866</td><td>0</td><td>6000000</td><td>ROSMAP_PCC_sQTL_chr7:2944537:2945818:clu_52886_-:PR:ENSG00000198286</td><td>image_Aging5</td><td>susie</td><td>TRUE</td><td>FALSE</td><td>0.012154712</td><td>1.104471e-02</td><td> 0.4481146</td><td>0.6540705</td><td>productive_sQTL</td><td>chr7_2640020_3986377</td><td>chr7_2640020_3986377</td><td>ROSMAP_sQTL_chr7</td><td>ROSMAP_sQTL.chr7_2640020_3986377.twas.tsv.gz</td></tr>\n",
       "</tbody>\n",
       "</table>\n"
      ],
      "text/latex": [
       "A data.table: 6 x 19\n",
       "\\begin{tabular}{lllllllllllllllllll}\n",
       " chr & molecular\\_id & TSS & start & end & context & gwas\\_study & method & is\\_imputable & is\\_selected\\_method & rsq\\_cv & pval\\_cv & twas\\_z & twas\\_pval & type & block & region & study\\_context & source\\_file\\\\\n",
       " <int> & <chr> & <int> & <int> & <int> & <chr> & <chr> & <chr> & <lgl> & <lgl> & <dbl> & <dbl> & <dbl> & <dbl> & <chr> & <chr> & <chr> & <chr> & <chr>\\\\\n",
       "\\hline\n",
       "\t 7 & ENSG00000198286 & 3043866 & 0 & 6000000 & ROSMAP\\_PCC\\_sQTL\\_chr7:2939928:2944211:clu\\_52885\\_-:PR:ENSG00000198286 & image\\_Aging5 & mrash & TRUE & FALSE & 0.006790090 & 4.443680e-02 &  0.5766363 & 0.5641852 & productive\\_sQTL & chr7\\_2640020\\_3986377 & chr7\\_2640020\\_3986377 & ROSMAP\\_sQTL\\_chr7 & ROSMAP\\_sQTL.chr7\\_2640020\\_3986377.twas.tsv.gz\\\\\n",
       "\t 7 & ENSG00000198286 & 3043866 & 0 & 6000000 & ROSMAP\\_PCC\\_sQTL\\_chr7:2939928:2944211:clu\\_52885\\_-:PR:ENSG00000198286 & image\\_Aging5 & susie & TRUE & FALSE & 0.006737645 & 4.506218e-02 &  0.2352007 & 0.8140529 & productive\\_sQTL & chr7\\_2640020\\_3986377 & chr7\\_2640020\\_3986377 & ROSMAP\\_sQTL\\_chr7 & ROSMAP\\_sQTL.chr7\\_2640020\\_3986377.twas.tsv.gz\\\\\n",
       "\t 7 & ENSG00000198286 & 3043866 & 0 & 6000000 & ROSMAP\\_PCC\\_sQTL\\_chr7:2944537:2945818:clu\\_52886\\_-:PR:ENSG00000198286 & image\\_Aging5 & enet  & TRUE &  TRUE & 0.072899818 & 3.662651e-09 & -1.1158404 & 0.2644905 & productive\\_sQTL & chr7\\_2640020\\_3986377 & chr7\\_2640020\\_3986377 & ROSMAP\\_sQTL\\_chr7 & ROSMAP\\_sQTL.chr7\\_2640020\\_3986377.twas.tsv.gz\\\\\n",
       "\t 7 & ENSG00000198286 & 3043866 & 0 & 6000000 & ROSMAP\\_PCC\\_sQTL\\_chr7:2944537:2945818:clu\\_52886\\_-:PR:ENSG00000198286 & image\\_Aging5 & lasso & TRUE & FALSE & 0.047477961 & 1.877433e-06 & -1.1286455 & 0.2590474 & productive\\_sQTL & chr7\\_2640020\\_3986377 & chr7\\_2640020\\_3986377 & ROSMAP\\_sQTL\\_chr7 & ROSMAP\\_sQTL.chr7\\_2640020\\_3986377.twas.tsv.gz\\\\\n",
       "\t 7 & ENSG00000198286 & 3043866 & 0 & 6000000 & ROSMAP\\_PCC\\_sQTL\\_chr7:2944537:2945818:clu\\_52886\\_-:PR:ENSG00000198286 & image\\_Aging5 & mrash & TRUE & FALSE & 0.009239405 & 2.334909e-02 &  0.6226682 & 0.5335026 & productive\\_sQTL & chr7\\_2640020\\_3986377 & chr7\\_2640020\\_3986377 & ROSMAP\\_sQTL\\_chr7 & ROSMAP\\_sQTL.chr7\\_2640020\\_3986377.twas.tsv.gz\\\\\n",
       "\t 7 & ENSG00000198286 & 3043866 & 0 & 6000000 & ROSMAP\\_PCC\\_sQTL\\_chr7:2944537:2945818:clu\\_52886\\_-:PR:ENSG00000198286 & image\\_Aging5 & susie & TRUE & FALSE & 0.012154712 & 1.104471e-02 &  0.4481146 & 0.6540705 & productive\\_sQTL & chr7\\_2640020\\_3986377 & chr7\\_2640020\\_3986377 & ROSMAP\\_sQTL\\_chr7 & ROSMAP\\_sQTL.chr7\\_2640020\\_3986377.twas.tsv.gz\\\\\n",
       "\\end{tabular}\n"
      ],
      "text/markdown": [
       "\n",
       "A data.table: 6 x 19\n",
       "\n",
       "| chr &lt;int&gt; | molecular_id &lt;chr&gt; | TSS &lt;int&gt; | start &lt;int&gt; | end &lt;int&gt; | context &lt;chr&gt; | gwas_study &lt;chr&gt; | method &lt;chr&gt; | is_imputable &lt;lgl&gt; | is_selected_method &lt;lgl&gt; | rsq_cv &lt;dbl&gt; | pval_cv &lt;dbl&gt; | twas_z &lt;dbl&gt; | twas_pval &lt;dbl&gt; | type &lt;chr&gt; | block &lt;chr&gt; | region &lt;chr&gt; | study_context &lt;chr&gt; | source_file &lt;chr&gt; |\n",
       "|---|---|---|---|---|---|---|---|---|---|---|---|---|---|---|---|---|---|---|\n",
       "| 7 | ENSG00000198286 | 3043866 | 0 | 6000000 | ROSMAP_PCC_sQTL_chr7:2939928:2944211:clu_52885_-:PR:ENSG00000198286 | image_Aging5 | mrash | TRUE | FALSE | 0.006790090 | 4.443680e-02 |  0.5766363 | 0.5641852 | productive_sQTL | chr7_2640020_3986377 | chr7_2640020_3986377 | ROSMAP_sQTL_chr7 | ROSMAP_sQTL.chr7_2640020_3986377.twas.tsv.gz |\n",
       "| 7 | ENSG00000198286 | 3043866 | 0 | 6000000 | ROSMAP_PCC_sQTL_chr7:2939928:2944211:clu_52885_-:PR:ENSG00000198286 | image_Aging5 | susie | TRUE | FALSE | 0.006737645 | 4.506218e-02 |  0.2352007 | 0.8140529 | productive_sQTL | chr7_2640020_3986377 | chr7_2640020_3986377 | ROSMAP_sQTL_chr7 | ROSMAP_sQTL.chr7_2640020_3986377.twas.tsv.gz |\n",
       "| 7 | ENSG00000198286 | 3043866 | 0 | 6000000 | ROSMAP_PCC_sQTL_chr7:2944537:2945818:clu_52886_-:PR:ENSG00000198286 | image_Aging5 | enet  | TRUE |  TRUE | 0.072899818 | 3.662651e-09 | -1.1158404 | 0.2644905 | productive_sQTL | chr7_2640020_3986377 | chr7_2640020_3986377 | ROSMAP_sQTL_chr7 | ROSMAP_sQTL.chr7_2640020_3986377.twas.tsv.gz |\n",
       "| 7 | ENSG00000198286 | 3043866 | 0 | 6000000 | ROSMAP_PCC_sQTL_chr7:2944537:2945818:clu_52886_-:PR:ENSG00000198286 | image_Aging5 | lasso | TRUE | FALSE | 0.047477961 | 1.877433e-06 | -1.1286455 | 0.2590474 | productive_sQTL | chr7_2640020_3986377 | chr7_2640020_3986377 | ROSMAP_sQTL_chr7 | ROSMAP_sQTL.chr7_2640020_3986377.twas.tsv.gz |\n",
       "| 7 | ENSG00000198286 | 3043866 | 0 | 6000000 | ROSMAP_PCC_sQTL_chr7:2944537:2945818:clu_52886_-:PR:ENSG00000198286 | image_Aging5 | mrash | TRUE | FALSE | 0.009239405 | 2.334909e-02 |  0.6226682 | 0.5335026 | productive_sQTL | chr7_2640020_3986377 | chr7_2640020_3986377 | ROSMAP_sQTL_chr7 | ROSMAP_sQTL.chr7_2640020_3986377.twas.tsv.gz |\n",
       "| 7 | ENSG00000198286 | 3043866 | 0 | 6000000 | ROSMAP_PCC_sQTL_chr7:2944537:2945818:clu_52886_-:PR:ENSG00000198286 | image_Aging5 | susie | TRUE | FALSE | 0.012154712 | 1.104471e-02 |  0.4481146 | 0.6540705 | productive_sQTL | chr7_2640020_3986377 | chr7_2640020_3986377 | ROSMAP_sQTL_chr7 | ROSMAP_sQTL.chr7_2640020_3986377.twas.tsv.gz |\n",
       "\n"
      ],
      "text/plain": [
       "  chr molecular_id    TSS     start end    \n",
       "1 7   ENSG00000198286 3043866 0     6000000\n",
       "2 7   ENSG00000198286 3043866 0     6000000\n",
       "3 7   ENSG00000198286 3043866 0     6000000\n",
       "4 7   ENSG00000198286 3043866 0     6000000\n",
       "5 7   ENSG00000198286 3043866 0     6000000\n",
       "6 7   ENSG00000198286 3043866 0     6000000\n",
       "  context                                                            \n",
       "1 ROSMAP_PCC_sQTL_chr7:2939928:2944211:clu_52885_-:PR:ENSG00000198286\n",
       "2 ROSMAP_PCC_sQTL_chr7:2939928:2944211:clu_52885_-:PR:ENSG00000198286\n",
       "3 ROSMAP_PCC_sQTL_chr7:2944537:2945818:clu_52886_-:PR:ENSG00000198286\n",
       "4 ROSMAP_PCC_sQTL_chr7:2944537:2945818:clu_52886_-:PR:ENSG00000198286\n",
       "5 ROSMAP_PCC_sQTL_chr7:2944537:2945818:clu_52886_-:PR:ENSG00000198286\n",
       "6 ROSMAP_PCC_sQTL_chr7:2944537:2945818:clu_52886_-:PR:ENSG00000198286\n",
       "  gwas_study   method is_imputable is_selected_method rsq_cv      pval_cv     \n",
       "1 image_Aging5 mrash  TRUE         FALSE              0.006790090 4.443680e-02\n",
       "2 image_Aging5 susie  TRUE         FALSE              0.006737645 4.506218e-02\n",
       "3 image_Aging5 enet   TRUE          TRUE              0.072899818 3.662651e-09\n",
       "4 image_Aging5 lasso  TRUE         FALSE              0.047477961 1.877433e-06\n",
       "5 image_Aging5 mrash  TRUE         FALSE              0.009239405 2.334909e-02\n",
       "6 image_Aging5 susie  TRUE         FALSE              0.012154712 1.104471e-02\n",
       "  twas_z     twas_pval type            block               \n",
       "1  0.5766363 0.5641852 productive_sQTL chr7_2640020_3986377\n",
       "2  0.2352007 0.8140529 productive_sQTL chr7_2640020_3986377\n",
       "3 -1.1158404 0.2644905 productive_sQTL chr7_2640020_3986377\n",
       "4 -1.1286455 0.2590474 productive_sQTL chr7_2640020_3986377\n",
       "5  0.6226682 0.5335026 productive_sQTL chr7_2640020_3986377\n",
       "6  0.4481146 0.6540705 productive_sQTL chr7_2640020_3986377\n",
       "  region               study_context   \n",
       "1 chr7_2640020_3986377 ROSMAP_sQTL_chr7\n",
       "2 chr7_2640020_3986377 ROSMAP_sQTL_chr7\n",
       "3 chr7_2640020_3986377 ROSMAP_sQTL_chr7\n",
       "4 chr7_2640020_3986377 ROSMAP_sQTL_chr7\n",
       "5 chr7_2640020_3986377 ROSMAP_sQTL_chr7\n",
       "6 chr7_2640020_3986377 ROSMAP_sQTL_chr7\n",
       "  source_file                                 \n",
       "1 ROSMAP_sQTL.chr7_2640020_3986377.twas.tsv.gz\n",
       "2 ROSMAP_sQTL.chr7_2640020_3986377.twas.tsv.gz\n",
       "3 ROSMAP_sQTL.chr7_2640020_3986377.twas.tsv.gz\n",
       "4 ROSMAP_sQTL.chr7_2640020_3986377.twas.tsv.gz\n",
       "5 ROSMAP_sQTL.chr7_2640020_3986377.twas.tsv.gz\n",
       "6 ROSMAP_sQTL.chr7_2640020_3986377.twas.tsv.gz"
      ]
     },
     "metadata": {},
     "output_type": "display_data"
    },
    {
     "data": {
      "text/html": [
       "<style>\n",
       ".list-inline {list-style: none; margin:0; padding: 0}\n",
       ".list-inline>li {display: inline-block}\n",
       ".list-inline>li:not(:last-child)::after {content: \"\\00b7\"; padding: 0 .5ex}\n",
       "</style>\n",
       "<ol class=list-inline><li>936646</li><li>19</li></ol>\n"
      ],
      "text/latex": [
       "\\begin{enumerate*}\n",
       "\\item 936646\n",
       "\\item 19\n",
       "\\end{enumerate*}\n"
      ],
      "text/markdown": [
       "1. 936646\n",
       "2. 19\n",
       "\n",
       "\n"
      ],
      "text/plain": [
       "[1] 936646     19"
      ]
     },
     "metadata": {},
     "output_type": "display_data"
    }
   ],
   "source": [
    "tail(image_Aging5)\n",
    "dim(image_Aging5)"
   ]
  },
  {
   "cell_type": "code",
   "execution_count": 76,
   "id": "c10a22fa-33d5-40a3-8fc5-960485ebaf22",
   "metadata": {},
   "outputs": [
    {
     "data": {
      "text/html": [
       "103"
      ],
      "text/latex": [
       "103"
      ],
      "text/markdown": [
       "103"
      ],
      "text/plain": [
       "[1] 103"
      ]
     },
     "metadata": {},
     "output_type": "display_data"
    }
   ],
   "source": [
    "sig_image_Aging5 = image_Aging5 |> filter(is_selected_method, twas_pval < 2.5*1e-6) \n",
    "length(unique(sig_image_Aging5$molecular_id))"
   ]
  },
  {
   "cell_type": "code",
   "execution_count": 77,
   "id": "f564b7f3-75f7-41c8-a775-992bbdb0b72d",
   "metadata": {},
   "outputs": [],
   "source": [
    "image_Aging5_gene_list = sig_image_Aging5 |> mutate(`#chr` = paste0(\"chr\", chr), gene_id = molecular_id)|>select(`#chr`, start, end, gene_id) |> unique()"
   ]
  },
  {
   "cell_type": "code",
   "execution_count": 78,
   "id": "9a145c0d-1fb4-418e-8826-464bc6d64819",
   "metadata": {},
   "outputs": [
    {
     "data": {
      "text/html": [
       "<style>\n",
       ".list-inline {list-style: none; margin:0; padding: 0}\n",
       ".list-inline>li {display: inline-block}\n",
       ".list-inline>li:not(:last-child)::after {content: \"\\00b7\"; padding: 0 .5ex}\n",
       "</style>\n",
       "<ol class=list-inline><li>103</li><li>4</li></ol>\n"
      ],
      "text/latex": [
       "\\begin{enumerate*}\n",
       "\\item 103\n",
       "\\item 4\n",
       "\\end{enumerate*}\n"
      ],
      "text/markdown": [
       "1. 103\n",
       "2. 4\n",
       "\n",
       "\n"
      ],
      "text/plain": [
       "[1] 103   4"
      ]
     },
     "metadata": {},
     "output_type": "display_data"
    }
   ],
   "source": [
    "dim(image_Aging5_gene_list)"
   ]
  },
  {
   "cell_type": "code",
   "execution_count": 79,
   "id": "97e6f210-989a-4cdb-aae3-71cda4b3f942",
   "metadata": {},
   "outputs": [
    {
     "data": {
      "text/html": [
       "<table class=\"dataframe\">\n",
       "<caption>A data.table: 1 x 19</caption>\n",
       "<thead>\n",
       "\t<tr><th scope=col>chr</th><th scope=col>molecular_id</th><th scope=col>TSS</th><th scope=col>start</th><th scope=col>end</th><th scope=col>context</th><th scope=col>gwas_study</th><th scope=col>method</th><th scope=col>is_imputable</th><th scope=col>is_selected_method</th><th scope=col>rsq_cv</th><th scope=col>pval_cv</th><th scope=col>twas_z</th><th scope=col>twas_pval</th><th scope=col>type</th><th scope=col>block</th><th scope=col>region</th><th scope=col>study_context</th><th scope=col>source_file</th></tr>\n",
       "\t<tr><th scope=col>&lt;int&gt;</th><th scope=col>&lt;chr&gt;</th><th scope=col>&lt;int&gt;</th><th scope=col>&lt;int&gt;</th><th scope=col>&lt;int&gt;</th><th scope=col>&lt;chr&gt;</th><th scope=col>&lt;chr&gt;</th><th scope=col>&lt;chr&gt;</th><th scope=col>&lt;lgl&gt;</th><th scope=col>&lt;lgl&gt;</th><th scope=col>&lt;dbl&gt;</th><th scope=col>&lt;dbl&gt;</th><th scope=col>&lt;dbl&gt;</th><th scope=col>&lt;dbl&gt;</th><th scope=col>&lt;chr&gt;</th><th scope=col>&lt;chr&gt;</th><th scope=col>&lt;chr&gt;</th><th scope=col>&lt;chr&gt;</th><th scope=col>&lt;chr&gt;</th></tr>\n",
       "</thead>\n",
       "<tbody>\n",
       "\t<tr><td>6</td><td>ENSG00000275126</td><td>27873533</td><td>25960000</td><td>30480000</td><td>AC_DeJager_eQTL</td><td>image_Aging5</td><td>susie</td><td>TRUE</td><td>TRUE</td><td>0.01116549</td><td>0.005744898</td><td>8.341274</td><td>7.349432e-17</td><td>eQTL</td><td>chr6_26341332_28390030</td><td>chr6_26341332_28390030</td><td>ROSMAP_eQTL_pQTL</td><td>ROSMAP_eQTL_pQTL.chr6_26341332_28390030.twas.tsv.gz</td></tr>\n",
       "</tbody>\n",
       "</table>\n"
      ],
      "text/latex": [
       "A data.table: 1 x 19\n",
       "\\begin{tabular}{lllllllllllllllllll}\n",
       " chr & molecular\\_id & TSS & start & end & context & gwas\\_study & method & is\\_imputable & is\\_selected\\_method & rsq\\_cv & pval\\_cv & twas\\_z & twas\\_pval & type & block & region & study\\_context & source\\_file\\\\\n",
       " <int> & <chr> & <int> & <int> & <int> & <chr> & <chr> & <chr> & <lgl> & <lgl> & <dbl> & <dbl> & <dbl> & <dbl> & <chr> & <chr> & <chr> & <chr> & <chr>\\\\\n",
       "\\hline\n",
       "\t 6 & ENSG00000275126 & 27873533 & 25960000 & 30480000 & AC\\_DeJager\\_eQTL & image\\_Aging5 & susie & TRUE & TRUE & 0.01116549 & 0.005744898 & 8.341274 & 7.349432e-17 & eQTL & chr6\\_26341332\\_28390030 & chr6\\_26341332\\_28390030 & ROSMAP\\_eQTL\\_pQTL & ROSMAP\\_eQTL\\_pQTL.chr6\\_26341332\\_28390030.twas.tsv.gz\\\\\n",
       "\\end{tabular}\n"
      ],
      "text/markdown": [
       "\n",
       "A data.table: 1 x 19\n",
       "\n",
       "| chr &lt;int&gt; | molecular_id &lt;chr&gt; | TSS &lt;int&gt; | start &lt;int&gt; | end &lt;int&gt; | context &lt;chr&gt; | gwas_study &lt;chr&gt; | method &lt;chr&gt; | is_imputable &lt;lgl&gt; | is_selected_method &lt;lgl&gt; | rsq_cv &lt;dbl&gt; | pval_cv &lt;dbl&gt; | twas_z &lt;dbl&gt; | twas_pval &lt;dbl&gt; | type &lt;chr&gt; | block &lt;chr&gt; | region &lt;chr&gt; | study_context &lt;chr&gt; | source_file &lt;chr&gt; |\n",
       "|---|---|---|---|---|---|---|---|---|---|---|---|---|---|---|---|---|---|---|\n",
       "| 6 | ENSG00000275126 | 27873533 | 25960000 | 30480000 | AC_DeJager_eQTL | image_Aging5 | susie | TRUE | TRUE | 0.01116549 | 0.005744898 | 8.341274 | 7.349432e-17 | eQTL | chr6_26341332_28390030 | chr6_26341332_28390030 | ROSMAP_eQTL_pQTL | ROSMAP_eQTL_pQTL.chr6_26341332_28390030.twas.tsv.gz |\n",
       "\n"
      ],
      "text/plain": [
       "  chr molecular_id    TSS      start    end      context         gwas_study  \n",
       "1 6   ENSG00000275126 27873533 25960000 30480000 AC_DeJager_eQTL image_Aging5\n",
       "  method is_imputable is_selected_method rsq_cv     pval_cv     twas_z  \n",
       "1 susie  TRUE         TRUE               0.01116549 0.005744898 8.341274\n",
       "  twas_pval    type block                  region                \n",
       "1 7.349432e-17 eQTL chr6_26341332_28390030 chr6_26341332_28390030\n",
       "  study_context    source_file                                        \n",
       "1 ROSMAP_eQTL_pQTL ROSMAP_eQTL_pQTL.chr6_26341332_28390030.twas.tsv.gz"
      ]
     },
     "metadata": {},
     "output_type": "display_data"
    }
   ],
   "source": [
    "sig_image_Aging5 |> filter(molecular_id == 'ENSG00000275126')# ENSG00000273542/ENSG00000197061/ENSG00000278463/ENSG00000275126"
   ]
  },
  {
   "cell_type": "code",
   "execution_count": 80,
   "id": "2c7bf5a9-3fd7-4f10-83c5-b8286198eaa8",
   "metadata": {},
   "outputs": [],
   "source": [
    "DNE_QTL_gene = fread(\"~/project/image_QTL/twas/annotated_dne_gene.tsv\")\n"
   ]
  },
  {
   "cell_type": "code",
   "execution_count": 81,
   "id": "cbaaa634-789d-4570-be49-e800cc8a7441",
   "metadata": {},
   "outputs": [],
   "source": [
    "image_Aging5_QTL_gene = DNE_QTL_gene |> filter(str_detect(event_ID, \"image_Aging5\")) |> select(-strand,-event_ID)\n",
    "                                        "
   ]
  },
  {
   "cell_type": "code",
   "execution_count": 82,
   "id": "4420b7a8-bad6-4b1f-b553-7fb27132fc45",
   "metadata": {},
   "outputs": [],
   "source": [
    "image_Aging5_gene = bind_rows(image_Aging5_gene_list, image_Aging5_QTL_gene)"
   ]
  },
  {
   "cell_type": "code",
   "execution_count": 83,
   "id": "a6f433f5-8b68-4df2-b4b9-deadf412d8ea",
   "metadata": {},
   "outputs": [],
   "source": [
    "fwrite(image_Aging5_gene, \"image_Aging5_gene_list.tsv\", sep = '\\t')"
   ]
  },
  {
   "cell_type": "code",
   "execution_count": null,
   "id": "b8ede007-c620-4568-b129-1c29dab8339b",
   "metadata": {},
   "outputs": [],
   "source": []
  },
  {
   "cell_type": "code",
   "execution_count": null,
   "id": "728e7fa6-fe61-42a9-8c47-a227cfb55473",
   "metadata": {},
   "outputs": [],
   "source": []
  }
 ],
 "metadata": {
  "kernelspec": {
   "display_name": "R",
   "language": "R",
   "name": "ir"
  },
  "language_info": {
   "codemirror_mode": "r",
   "file_extension": ".r",
   "mimetype": "text/x-r-source",
   "name": "R",
   "pygments_lexer": "r",
   "version": "4.3.3"
  }
 },
 "nbformat": 4,
 "nbformat_minor": 5
}
