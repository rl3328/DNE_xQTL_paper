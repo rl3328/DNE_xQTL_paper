{
 "cells": [
  {
   "cell_type": "markdown",
   "id": "9c8aefd7-aa5d-4855-abb0-742c706c5374",
   "metadata": {},
   "source": [
    "# Manually Selection of the Most Likely Causal Genes from Significant TWAS Genes\n",
    "\n",
    "## Aim\n",
    "\n",
    "Genomewide MR was skipped due to missing `MAF` column in the imputed GWAS sumstats, and our [TWAS pipeline](https://github.com/rl3328/xqtl-protocol/blob/main/code/pecotmr_integration/twas_ctwas.ipynb) runs TWAS and MR in the same step (`twas`). This notebook serves as a quick rescue to manually diminish noise from LD hitchhiking and identify the most likely causal genes.\n",
    "\n",
    "\n",
    "\n",
    "## Steps\n",
    "\n",
    "### 1. Filter genes qualified for MR analysis\n",
    "\n",
    "Most thresholds follow the default requirements in \\[`twas`], except I use a stricter `twas_pval` cutoff. The reason is that I want to directly apply the filter to “significant” TWAS genes in my manuscript while also saving resources.\n",
    "\n",
    "**Criteria:**\n",
    "\n",
    "1. Strong and reliable TWAS signals:\n",
    "\n",
    "   * `twas_pval < 2.5*1e-6`\n",
    "   * `rsq_cv > 0.01`\n",
    "   * `rsq_pval < 0.05`\n",
    "2. Strong GWAS signals:\n",
    "\n",
    "   * Have `CS`, which can be extracted from `twas_weight(.rds)` files\n",
    "\n",
    "### 2. Manually select the most likely causal gene\n",
    "\n",
    "Within each LD block and by context, I define the gene with the strongest GWAS signal as follows:\n",
    "\n",
    "* For each gene–context combination:\n",
    "\n",
    "  * If no credible set (CS) is available, skip (this corresponds to filtering step 1.2).\n",
    "  * If a 95% CS exists, select the gene containing the variant with the highest PIP within the 95% CS. If not, fall back to 70% CS.\n",
    "  * If a 70% CS exists, select the gene containing the variant with the highest PIP within the 70% CS. If not, fall back to 50% CS.\n",
    "  * If a 50% CS exists, select the gene containing the variant with the highest PIP within the 50% CS.\n",
    "\n",
    "\n",
    "\n",
    "## Note\n",
    "\n",
    "There are some differences between this identification and the [loose gene list](https://github.com/rl3328/xqtl-analysis/blob/main/production/image_QTL/interested_genes/TWAS_QTL/loose_gene/image_AD2_gene_list.tsv).\n",
    "\n",
    "* Loose list: 42 genes, filtered by `is_selected_method` and `twas_pval < 2.5*1e-6`\n",
    "* Current identification: 443 genes are strong TWAS genes(twas_pval < 2.5*1e-6 & rsq_cv > 0.01 & pval_cv < 0.05) for AD2 and Knight cohort, 48 genes were identified as the final list.\n",
    "\n",
    "\n",
    "\n",
    "## Input\n",
    "\n",
    "1. **Merged TWAS results** (`*.twas.tsv.gz`):\n",
    "\n",
    "   * `s3://statfungen/ftp_fgc_xqtl/interactive_analysis/rl3328/image_QTL/twas/image_AD2_twas_merged.tsv.gz.combined_twas.tsv.gz`\n",
    "2. **xQTL\\_meta\\_file** (meta file specifying TWAS weight paths by cohort):\n",
    "\n",
    "   * `s3://statfungen/ftp_fgc_xqtl/interactive_analysis/cl4215/KNIGHT_eQTL_pQTL_twas_wgw_xqtl_meta_data.tsv`\n",
    "\n",
    "\n",
    "## Plan\n",
    "\n",
    "Other GWAS studies and other cohorts will be analyzed in the same way.\n"
   ]
  },
  {
   "cell_type": "code",
   "execution_count": 32,
   "id": "8148afc6-e674-429c-a71a-6501e4dfa9e8",
   "metadata": {},
   "outputs": [],
   "source": [
    "library(data.table)\n",
    "library(tidyverse)\n",
    "library(pecotmr)"
   ]
  },
  {
   "cell_type": "code",
   "execution_count": 2,
   "id": "50e72393-79a4-4594-a9ed-59838c4258a0",
   "metadata": {},
   "outputs": [],
   "source": [
    "setwd(\"~/data\")"
   ]
  },
  {
   "cell_type": "code",
   "execution_count": 3,
   "id": "6289df25-117a-444e-bbab-32646a0b96f9",
   "metadata": {},
   "outputs": [],
   "source": [
    "##Bonfferroni correction is too strict\n",
    "# AD2_twas = fread(\"~/project/image_QTL/twas/multiple_testing/image_AD2_twas_bonff.bonf_corrected.tsv.gz\")\n"
   ]
  },
  {
   "cell_type": "code",
   "execution_count": 4,
   "id": "fc6ef388-37ac-4f6e-ac5f-5f1100e3bf66",
   "metadata": {},
   "outputs": [],
   "source": [
    "AD2_twas = fread(\"~/project/image_QTL/twas/image_AD2_twas_merged.tsv.gz.combined_twas.tsv.gz\")\n"
   ]
  },
  {
   "cell_type": "code",
   "execution_count": 7,
   "id": "120ebac4-4c45-45f4-bcf0-7b0137cdccdb",
   "metadata": {},
   "outputs": [],
   "source": [
    "# weight_db_list = fread(\"~/data/interactive_analysis/cl4215/KNIGHT_eQTL_pQTL_twas_wgw_xqtl_meta_data.tsv\")\n",
    "# weight_db_list = fread(\"~/project/image_QTL/twas/MSBB_eQTL_pQTL_twas_wgw_xqtl_meta_data.tsv\")\n",
    "# weight_db_list = fread(\"~/data/interactive_analysis/cl4215/ROSMAP_twas_wgw_xqtl_meta_data.tsv\")\n",
    "# weight_db_list = fread(\"~/data/interactive_analysis/cl4215/ROSMAP_mega_twas_wgw_xqtl_meta_data.tsv\")\n"
   ]
  },
  {
   "cell_type": "code",
   "execution_count": 8,
   "id": "2e1491ba-d7c7-4e8b-8cb8-449ed6c56fea",
   "metadata": {},
   "outputs": [
    {
     "name": "stdout",
     "output_type": "stream",
     "text": [
      "\u001b[90m# A tibble: 0 × 2\u001b[39m\n",
      "\u001b[90m# ℹ 2 variables: molecular_id <chr>, number_of_blocks <int>\u001b[39m\n"
     ]
    }
   ],
   "source": [
    "# No gene presents in multiple blocks\n",
    "genes_in_multiple_blocks <- AD2_twas %>% group_by(molecular_id) %>% summarise(\n",
    "    number_of_blocks = n_distinct(block)) %>%\n",
    "    filter(number_of_blocks > 1)\n",
    "\n",
    "print(genes_in_multiple_blocks)"
   ]
  },
  {
   "cell_type": "code",
   "execution_count": 9,
   "id": "272d5389-bf26-4818-bc7e-264bbc3cf8cd",
   "metadata": {},
   "outputs": [
    {
     "data": {
      "text/html": [
       "<table class=\"dataframe\">\n",
       "<caption>A data.table: 6 × 19</caption>\n",
       "<thead>\n",
       "\t<tr><th scope=col>chr</th><th scope=col>molecular_id</th><th scope=col>TSS</th><th scope=col>start</th><th scope=col>end</th><th scope=col>context</th><th scope=col>gwas_study</th><th scope=col>method</th><th scope=col>is_imputable</th><th scope=col>is_selected_method</th><th scope=col>rsq_cv</th><th scope=col>pval_cv</th><th scope=col>twas_z</th><th scope=col>twas_pval</th><th scope=col>type</th><th scope=col>block</th><th scope=col>region</th><th scope=col>study_context</th><th scope=col>source_file</th></tr>\n",
       "\t<tr><th scope=col>&lt;int&gt;</th><th scope=col>&lt;chr&gt;</th><th scope=col>&lt;int&gt;</th><th scope=col>&lt;int&gt;</th><th scope=col>&lt;int&gt;</th><th scope=col>&lt;chr&gt;</th><th scope=col>&lt;chr&gt;</th><th scope=col>&lt;chr&gt;</th><th scope=col>&lt;lgl&gt;</th><th scope=col>&lt;lgl&gt;</th><th scope=col>&lt;dbl&gt;</th><th scope=col>&lt;dbl&gt;</th><th scope=col>&lt;dbl&gt;</th><th scope=col>&lt;dbl&gt;</th><th scope=col>&lt;chr&gt;</th><th scope=col>&lt;chr&gt;</th><th scope=col>&lt;chr&gt;</th><th scope=col>&lt;chr&gt;</th><th scope=col>&lt;chr&gt;</th></tr>\n",
       "</thead>\n",
       "<tbody>\n",
       "\t<tr><td>10</td><td>ENSG00000055950</td><td>100987514</td><td> 99320000</td><td>102120000</td><td>Knight_eQTL_brain</td><td>image_AD2</td><td>enet </td><td>TRUE</td><td>FALSE</td><td>0.098757440</td><td>8.923911e-10</td><td>2.492697</td><td>0.01267771</td><td>eQTL</td><td>chr10_100331627_104378781</td><td>chr10_100331627_104378781</td><td>KNIGHT_eQTL_pQTL</td><td>KNIGHT_eQTL_pQTL.chr10_100331627_104378781.twas.tsv.gz</td></tr>\n",
       "\t<tr><td>10</td><td>ENSG00000055950</td><td>100987514</td><td> 99320000</td><td>102120000</td><td>Knight_eQTL_brain</td><td>image_AD2</td><td>lasso</td><td>TRUE</td><td>FALSE</td><td>0.103370596</td><td>3.541036e-10</td><td>2.475217</td><td>0.01331554</td><td>eQTL</td><td>chr10_100331627_104378781</td><td>chr10_100331627_104378781</td><td>KNIGHT_eQTL_pQTL</td><td>KNIGHT_eQTL_pQTL.chr10_100331627_104378781.twas.tsv.gz</td></tr>\n",
       "\t<tr><td>10</td><td>ENSG00000055950</td><td>100987514</td><td> 99320000</td><td>102120000</td><td>Knight_eQTL_brain</td><td>image_AD2</td><td>mrash</td><td>TRUE</td><td>FALSE</td><td>0.089177838</td><td>6.013310e-09</td><td>2.493315</td><td>0.01265565</td><td>eQTL</td><td>chr10_100331627_104378781</td><td>chr10_100331627_104378781</td><td>KNIGHT_eQTL_pQTL</td><td>KNIGHT_eQTL_pQTL.chr10_100331627_104378781.twas.tsv.gz</td></tr>\n",
       "\t<tr><td>10</td><td>ENSG00000055950</td><td>100987514</td><td> 99320000</td><td>102120000</td><td>Knight_eQTL_brain</td><td>image_AD2</td><td>susie</td><td>TRUE</td><td> TRUE</td><td>0.121638427</td><td>8.766557e-12</td><td>2.505183</td><td>0.01223882</td><td>eQTL</td><td>chr10_100331627_104378781</td><td>chr10_100331627_104378781</td><td>KNIGHT_eQTL_pQTL</td><td>KNIGHT_eQTL_pQTL.chr10_100331627_104378781.twas.tsv.gz</td></tr>\n",
       "\t<tr><td>10</td><td>ENSG00000059915</td><td>102421538</td><td>101402617</td><td>103680000</td><td>Knight_eQTL_brain</td><td>image_AD2</td><td>enet </td><td>TRUE</td><td>FALSE</td><td>0.007872702</td><td>5.201216e-02</td><td>1.830248</td><td>0.06721286</td><td>eQTL</td><td>chr10_100331627_104378781</td><td>chr10_100331627_104378781</td><td>KNIGHT_eQTL_pQTL</td><td>KNIGHT_eQTL_pQTL.chr10_100331627_104378781.twas.tsv.gz</td></tr>\n",
       "\t<tr><td>10</td><td>ENSG00000059915</td><td>102421538</td><td>101402617</td><td>103680000</td><td>Knight_eQTL_brain</td><td>image_AD2</td><td>lasso</td><td>TRUE</td><td>FALSE</td><td>0.006195072</td><td>7.447581e-02</td><td>1.827701</td><td>0.06759438</td><td>eQTL</td><td>chr10_100331627_104378781</td><td>chr10_100331627_104378781</td><td>KNIGHT_eQTL_pQTL</td><td>KNIGHT_eQTL_pQTL.chr10_100331627_104378781.twas.tsv.gz</td></tr>\n",
       "</tbody>\n",
       "</table>\n"
      ],
      "text/latex": [
       "A data.table: 6 × 19\n",
       "\\begin{tabular}{lllllllllllllllllll}\n",
       " chr & molecular\\_id & TSS & start & end & context & gwas\\_study & method & is\\_imputable & is\\_selected\\_method & rsq\\_cv & pval\\_cv & twas\\_z & twas\\_pval & type & block & region & study\\_context & source\\_file\\\\\n",
       " <int> & <chr> & <int> & <int> & <int> & <chr> & <chr> & <chr> & <lgl> & <lgl> & <dbl> & <dbl> & <dbl> & <dbl> & <chr> & <chr> & <chr> & <chr> & <chr>\\\\\n",
       "\\hline\n",
       "\t 10 & ENSG00000055950 & 100987514 &  99320000 & 102120000 & Knight\\_eQTL\\_brain & image\\_AD2 & enet  & TRUE & FALSE & 0.098757440 & 8.923911e-10 & 2.492697 & 0.01267771 & eQTL & chr10\\_100331627\\_104378781 & chr10\\_100331627\\_104378781 & KNIGHT\\_eQTL\\_pQTL & KNIGHT\\_eQTL\\_pQTL.chr10\\_100331627\\_104378781.twas.tsv.gz\\\\\n",
       "\t 10 & ENSG00000055950 & 100987514 &  99320000 & 102120000 & Knight\\_eQTL\\_brain & image\\_AD2 & lasso & TRUE & FALSE & 0.103370596 & 3.541036e-10 & 2.475217 & 0.01331554 & eQTL & chr10\\_100331627\\_104378781 & chr10\\_100331627\\_104378781 & KNIGHT\\_eQTL\\_pQTL & KNIGHT\\_eQTL\\_pQTL.chr10\\_100331627\\_104378781.twas.tsv.gz\\\\\n",
       "\t 10 & ENSG00000055950 & 100987514 &  99320000 & 102120000 & Knight\\_eQTL\\_brain & image\\_AD2 & mrash & TRUE & FALSE & 0.089177838 & 6.013310e-09 & 2.493315 & 0.01265565 & eQTL & chr10\\_100331627\\_104378781 & chr10\\_100331627\\_104378781 & KNIGHT\\_eQTL\\_pQTL & KNIGHT\\_eQTL\\_pQTL.chr10\\_100331627\\_104378781.twas.tsv.gz\\\\\n",
       "\t 10 & ENSG00000055950 & 100987514 &  99320000 & 102120000 & Knight\\_eQTL\\_brain & image\\_AD2 & susie & TRUE &  TRUE & 0.121638427 & 8.766557e-12 & 2.505183 & 0.01223882 & eQTL & chr10\\_100331627\\_104378781 & chr10\\_100331627\\_104378781 & KNIGHT\\_eQTL\\_pQTL & KNIGHT\\_eQTL\\_pQTL.chr10\\_100331627\\_104378781.twas.tsv.gz\\\\\n",
       "\t 10 & ENSG00000059915 & 102421538 & 101402617 & 103680000 & Knight\\_eQTL\\_brain & image\\_AD2 & enet  & TRUE & FALSE & 0.007872702 & 5.201216e-02 & 1.830248 & 0.06721286 & eQTL & chr10\\_100331627\\_104378781 & chr10\\_100331627\\_104378781 & KNIGHT\\_eQTL\\_pQTL & KNIGHT\\_eQTL\\_pQTL.chr10\\_100331627\\_104378781.twas.tsv.gz\\\\\n",
       "\t 10 & ENSG00000059915 & 102421538 & 101402617 & 103680000 & Knight\\_eQTL\\_brain & image\\_AD2 & lasso & TRUE & FALSE & 0.006195072 & 7.447581e-02 & 1.827701 & 0.06759438 & eQTL & chr10\\_100331627\\_104378781 & chr10\\_100331627\\_104378781 & KNIGHT\\_eQTL\\_pQTL & KNIGHT\\_eQTL\\_pQTL.chr10\\_100331627\\_104378781.twas.tsv.gz\\\\\n",
       "\\end{tabular}\n"
      ],
      "text/markdown": [
       "\n",
       "A data.table: 6 × 19\n",
       "\n",
       "| chr &lt;int&gt; | molecular_id &lt;chr&gt; | TSS &lt;int&gt; | start &lt;int&gt; | end &lt;int&gt; | context &lt;chr&gt; | gwas_study &lt;chr&gt; | method &lt;chr&gt; | is_imputable &lt;lgl&gt; | is_selected_method &lt;lgl&gt; | rsq_cv &lt;dbl&gt; | pval_cv &lt;dbl&gt; | twas_z &lt;dbl&gt; | twas_pval &lt;dbl&gt; | type &lt;chr&gt; | block &lt;chr&gt; | region &lt;chr&gt; | study_context &lt;chr&gt; | source_file &lt;chr&gt; |\n",
       "|---|---|---|---|---|---|---|---|---|---|---|---|---|---|---|---|---|---|---|\n",
       "| 10 | ENSG00000055950 | 100987514 |  99320000 | 102120000 | Knight_eQTL_brain | image_AD2 | enet  | TRUE | FALSE | 0.098757440 | 8.923911e-10 | 2.492697 | 0.01267771 | eQTL | chr10_100331627_104378781 | chr10_100331627_104378781 | KNIGHT_eQTL_pQTL | KNIGHT_eQTL_pQTL.chr10_100331627_104378781.twas.tsv.gz |\n",
       "| 10 | ENSG00000055950 | 100987514 |  99320000 | 102120000 | Knight_eQTL_brain | image_AD2 | lasso | TRUE | FALSE | 0.103370596 | 3.541036e-10 | 2.475217 | 0.01331554 | eQTL | chr10_100331627_104378781 | chr10_100331627_104378781 | KNIGHT_eQTL_pQTL | KNIGHT_eQTL_pQTL.chr10_100331627_104378781.twas.tsv.gz |\n",
       "| 10 | ENSG00000055950 | 100987514 |  99320000 | 102120000 | Knight_eQTL_brain | image_AD2 | mrash | TRUE | FALSE | 0.089177838 | 6.013310e-09 | 2.493315 | 0.01265565 | eQTL | chr10_100331627_104378781 | chr10_100331627_104378781 | KNIGHT_eQTL_pQTL | KNIGHT_eQTL_pQTL.chr10_100331627_104378781.twas.tsv.gz |\n",
       "| 10 | ENSG00000055950 | 100987514 |  99320000 | 102120000 | Knight_eQTL_brain | image_AD2 | susie | TRUE |  TRUE | 0.121638427 | 8.766557e-12 | 2.505183 | 0.01223882 | eQTL | chr10_100331627_104378781 | chr10_100331627_104378781 | KNIGHT_eQTL_pQTL | KNIGHT_eQTL_pQTL.chr10_100331627_104378781.twas.tsv.gz |\n",
       "| 10 | ENSG00000059915 | 102421538 | 101402617 | 103680000 | Knight_eQTL_brain | image_AD2 | enet  | TRUE | FALSE | 0.007872702 | 5.201216e-02 | 1.830248 | 0.06721286 | eQTL | chr10_100331627_104378781 | chr10_100331627_104378781 | KNIGHT_eQTL_pQTL | KNIGHT_eQTL_pQTL.chr10_100331627_104378781.twas.tsv.gz |\n",
       "| 10 | ENSG00000059915 | 102421538 | 101402617 | 103680000 | Knight_eQTL_brain | image_AD2 | lasso | TRUE | FALSE | 0.006195072 | 7.447581e-02 | 1.827701 | 0.06759438 | eQTL | chr10_100331627_104378781 | chr10_100331627_104378781 | KNIGHT_eQTL_pQTL | KNIGHT_eQTL_pQTL.chr10_100331627_104378781.twas.tsv.gz |\n",
       "\n"
      ],
      "text/plain": [
       "  chr molecular_id    TSS       start     end       context          \n",
       "1 10  ENSG00000055950 100987514  99320000 102120000 Knight_eQTL_brain\n",
       "2 10  ENSG00000055950 100987514  99320000 102120000 Knight_eQTL_brain\n",
       "3 10  ENSG00000055950 100987514  99320000 102120000 Knight_eQTL_brain\n",
       "4 10  ENSG00000055950 100987514  99320000 102120000 Knight_eQTL_brain\n",
       "5 10  ENSG00000059915 102421538 101402617 103680000 Knight_eQTL_brain\n",
       "6 10  ENSG00000059915 102421538 101402617 103680000 Knight_eQTL_brain\n",
       "  gwas_study method is_imputable is_selected_method rsq_cv      pval_cv     \n",
       "1 image_AD2  enet   TRUE         FALSE              0.098757440 8.923911e-10\n",
       "2 image_AD2  lasso  TRUE         FALSE              0.103370596 3.541036e-10\n",
       "3 image_AD2  mrash  TRUE         FALSE              0.089177838 6.013310e-09\n",
       "4 image_AD2  susie  TRUE          TRUE              0.121638427 8.766557e-12\n",
       "5 image_AD2  enet   TRUE         FALSE              0.007872702 5.201216e-02\n",
       "6 image_AD2  lasso  TRUE         FALSE              0.006195072 7.447581e-02\n",
       "  twas_z   twas_pval  type block                     region                   \n",
       "1 2.492697 0.01267771 eQTL chr10_100331627_104378781 chr10_100331627_104378781\n",
       "2 2.475217 0.01331554 eQTL chr10_100331627_104378781 chr10_100331627_104378781\n",
       "3 2.493315 0.01265565 eQTL chr10_100331627_104378781 chr10_100331627_104378781\n",
       "4 2.505183 0.01223882 eQTL chr10_100331627_104378781 chr10_100331627_104378781\n",
       "5 1.830248 0.06721286 eQTL chr10_100331627_104378781 chr10_100331627_104378781\n",
       "6 1.827701 0.06759438 eQTL chr10_100331627_104378781 chr10_100331627_104378781\n",
       "  study_context    source_file                                           \n",
       "1 KNIGHT_eQTL_pQTL KNIGHT_eQTL_pQTL.chr10_100331627_104378781.twas.tsv.gz\n",
       "2 KNIGHT_eQTL_pQTL KNIGHT_eQTL_pQTL.chr10_100331627_104378781.twas.tsv.gz\n",
       "3 KNIGHT_eQTL_pQTL KNIGHT_eQTL_pQTL.chr10_100331627_104378781.twas.tsv.gz\n",
       "4 KNIGHT_eQTL_pQTL KNIGHT_eQTL_pQTL.chr10_100331627_104378781.twas.tsv.gz\n",
       "5 KNIGHT_eQTL_pQTL KNIGHT_eQTL_pQTL.chr10_100331627_104378781.twas.tsv.gz\n",
       "6 KNIGHT_eQTL_pQTL KNIGHT_eQTL_pQTL.chr10_100331627_104378781.twas.tsv.gz"
      ]
     },
     "metadata": {},
     "output_type": "display_data"
    },
    {
     "data": {
      "text/html": [
       "<style>\n",
       ".list-inline {list-style: none; margin:0; padding: 0}\n",
       ".list-inline>li {display: inline-block}\n",
       ".list-inline>li:not(:last-child)::after {content: \"\\00b7\"; padding: 0 .5ex}\n",
       "</style>\n",
       "<ol class=list-inline><li>903842</li><li>19</li></ol>\n"
      ],
      "text/latex": [
       "\\begin{enumerate*}\n",
       "\\item 903842\n",
       "\\item 19\n",
       "\\end{enumerate*}\n"
      ],
      "text/markdown": [
       "1. 903842\n",
       "2. 19\n",
       "\n",
       "\n"
      ],
      "text/plain": [
       "[1] 903842     19"
      ]
     },
     "metadata": {},
     "output_type": "display_data"
    }
   ],
   "source": [
    "head(AD2_twas)\n",
    "dim(AD2_twas)"
   ]
  },
  {
   "cell_type": "code",
   "execution_count": 5,
   "id": "b32f414c-ce43-467a-b9ee-1a5ec5cd27df",
   "metadata": {},
   "outputs": [],
   "source": [
    "# Strong and reliable TWAS signals:\n",
    "AD2_twas_filtered <- AD2_twas |>\n",
    "    filter(\n",
    "        twas_pval < 2.5*1e-6 &     # Stricter p-value threshold \n",
    "        rsq_cv > 0.01 &          # Cross-validation R²\n",
    "        pval_cv < 0.05          # R² significance\n",
    "    )\n",
    "AD2_block = unique(AD2_twas_filtered$block)"
   ]
  },
  {
   "cell_type": "code",
   "execution_count": 7,
   "id": "5ce0cd64-ebd0-4bbb-a942-adb0fbbfa3b8",
   "metadata": {},
   "outputs": [
    {
     "data": {
      "text/html": [
       "<style>\n",
       ".list-inline {list-style: none; margin:0; padding: 0}\n",
       ".list-inline>li {display: inline-block}\n",
       ".list-inline>li:not(:last-child)::after {content: \"\\00b7\"; padding: 0 .5ex}\n",
       "</style>\n",
       "<ol class=list-inline><li>817</li><li>19</li></ol>\n"
      ],
      "text/latex": [
       "\\begin{enumerate*}\n",
       "\\item 817\n",
       "\\item 19\n",
       "\\end{enumerate*}\n"
      ],
      "text/markdown": [
       "1. 817\n",
       "2. 19\n",
       "\n",
       "\n"
      ],
      "text/plain": [
       "[1] 817  19"
      ]
     },
     "metadata": {},
     "output_type": "display_data"
    }
   ],
   "source": [
    "dim(AD2_twas_filtered)"
   ]
  },
  {
   "cell_type": "code",
   "execution_count": 9,
   "id": "41701a7e-df79-4611-b8e5-ef7ed8ff3956",
   "metadata": {},
   "outputs": [],
   "source": [
    "most_likely_causal_genes = AD2_twas_filtered |> \n",
    "  group_by(context, region) |> \n",
    "  slice_max(twas_z, n = 1)"
   ]
  },
  {
   "cell_type": "code",
   "execution_count": 10,
   "id": "4c437935-2842-4235-8a6f-f1395d1185cf",
   "metadata": {},
   "outputs": [
    {
     "data": {
      "text/html": [
       "<table class=\"dataframe\">\n",
       "<caption>A grouped_df: 6 × 19</caption>\n",
       "<thead>\n",
       "\t<tr><th scope=col>chr</th><th scope=col>molecular_id</th><th scope=col>TSS</th><th scope=col>start</th><th scope=col>end</th><th scope=col>context</th><th scope=col>gwas_study</th><th scope=col>method</th><th scope=col>is_imputable</th><th scope=col>is_selected_method</th><th scope=col>rsq_cv</th><th scope=col>pval_cv</th><th scope=col>twas_z</th><th scope=col>twas_pval</th><th scope=col>type</th><th scope=col>block</th><th scope=col>region</th><th scope=col>study_context</th><th scope=col>source_file</th></tr>\n",
       "\t<tr><th scope=col>&lt;int&gt;</th><th scope=col>&lt;chr&gt;</th><th scope=col>&lt;int&gt;</th><th scope=col>&lt;int&gt;</th><th scope=col>&lt;int&gt;</th><th scope=col>&lt;chr&gt;</th><th scope=col>&lt;chr&gt;</th><th scope=col>&lt;chr&gt;</th><th scope=col>&lt;lgl&gt;</th><th scope=col>&lt;lgl&gt;</th><th scope=col>&lt;dbl&gt;</th><th scope=col>&lt;dbl&gt;</th><th scope=col>&lt;dbl&gt;</th><th scope=col>&lt;dbl&gt;</th><th scope=col>&lt;chr&gt;</th><th scope=col>&lt;chr&gt;</th><th scope=col>&lt;chr&gt;</th><th scope=col>&lt;chr&gt;</th><th scope=col>&lt;chr&gt;</th></tr>\n",
       "</thead>\n",
       "<tbody>\n",
       "\t<tr><td>11</td><td>ENSG00000110492</td><td> 46380755</td><td> 45380755</td><td> 48440000</td><td>AC_DeJager_eQTL</td><td>image_AD2</td><td>mvsusie</td><td>TRUE</td><td>FALSE</td><td>0.05292778</td><td>8.709874e-09</td><td>-5.012974</td><td>5.359513e-07</td><td>eQTL</td><td>chr11_44270671_46916060  </td><td>chr11_44270671_46916060  </td><td>ROSMAP_eQTL_pQTL</td><td>ROSMAP_eQTL_pQTL.chr11_44270671_46916060.twas.tsv.gz  </td></tr>\n",
       "\t<tr><td>11</td><td>ENSG00000110108</td><td> 60914157</td><td> 57280000</td><td> 61923443</td><td>AC_DeJager_eQTL</td><td>image_AD2</td><td>mrash  </td><td>TRUE</td><td>FALSE</td><td>0.01883097</td><td>4.717748e-04</td><td>-4.723397</td><td>2.319373e-06</td><td>eQTL</td><td>chr11_60339997_63818332  </td><td>chr11_60339997_63818332  </td><td>ROSMAP_eQTL_pQTL</td><td>ROSMAP_eQTL_pQTL.chr11_60339997_63818332.twas.tsv.gz  </td></tr>\n",
       "\t<tr><td>12</td><td>ENSG00000088992</td><td>117099478</td><td>115920000</td><td>118120000</td><td>AC_DeJager_eQTL</td><td>image_AD2</td><td>bayes_l</td><td>TRUE</td><td>FALSE</td><td>0.20059666</td><td>8.144650e-31</td><td> 6.854376</td><td>7.162463e-12</td><td>eQTL</td><td>chr12_115165608_117668628</td><td>chr12_115165608_117668628</td><td>ROSMAP_eQTL_pQTL</td><td>ROSMAP_eQTL_pQTL.chr12_115165608_117668628.twas.tsv.gz</td></tr>\n",
       "\t<tr><td>12</td><td>ENSG00000111490</td><td> 64759483</td><td> 63560000</td><td> 66160000</td><td>AC_DeJager_eQTL</td><td>image_AD2</td><td>bayes_l</td><td>TRUE</td><td>FALSE</td><td>0.03614365</td><td>1.858085e-06</td><td> 5.941566</td><td>2.823127e-09</td><td>eQTL</td><td>chr12_61991992_65677087  </td><td>chr12_61991992_65677087  </td><td>ROSMAP_eQTL_pQTL</td><td>ROSMAP_eQTL_pQTL.chr12_61991992_65677087.twas.tsv.gz  </td></tr>\n",
       "\t<tr><td>17</td><td>ENSG00000161714</td><td> 45133353</td><td> 42560000</td><td> 46680000</td><td>AC_DeJager_eQTL</td><td>image_AD2</td><td>mvsusie</td><td>TRUE</td><td>FALSE</td><td>0.08231760</td><td>6.384749e-13</td><td> 4.959055</td><td>7.083706e-07</td><td>eQTL</td><td>chr17_42087601_45383525  </td><td>chr17_42087601_45383525  </td><td>ROSMAP_eQTL_pQTL</td><td>ROSMAP_eQTL_pQTL.chr17_42087601_45383525.twas.tsv.gz  </td></tr>\n",
       "\t<tr><td>17</td><td>ENSG00000120088</td><td> 45784279</td><td> 42560000</td><td> 46835828</td><td>AC_DeJager_eQTL</td><td>image_AD2</td><td>mrash  </td><td>TRUE</td><td>FALSE</td><td>0.01010393</td><td>8.173605e-03</td><td> 4.745944</td><td>2.075361e-06</td><td>eQTL</td><td>chr17_45383525_50162864  </td><td>chr17_45383525_50162864  </td><td>ROSMAP_eQTL_pQTL</td><td>ROSMAP_eQTL_pQTL.chr17_45383525_50162864.twas.tsv.gz  </td></tr>\n",
       "</tbody>\n",
       "</table>\n"
      ],
      "text/latex": [
       "A grouped\\_df: 6 × 19\n",
       "\\begin{tabular}{lllllllllllllllllll}\n",
       " chr & molecular\\_id & TSS & start & end & context & gwas\\_study & method & is\\_imputable & is\\_selected\\_method & rsq\\_cv & pval\\_cv & twas\\_z & twas\\_pval & type & block & region & study\\_context & source\\_file\\\\\n",
       " <int> & <chr> & <int> & <int> & <int> & <chr> & <chr> & <chr> & <lgl> & <lgl> & <dbl> & <dbl> & <dbl> & <dbl> & <chr> & <chr> & <chr> & <chr> & <chr>\\\\\n",
       "\\hline\n",
       "\t 11 & ENSG00000110492 &  46380755 &  45380755 &  48440000 & AC\\_DeJager\\_eQTL & image\\_AD2 & mvsusie & TRUE & FALSE & 0.05292778 & 8.709874e-09 & -5.012974 & 5.359513e-07 & eQTL & chr11\\_44270671\\_46916060   & chr11\\_44270671\\_46916060   & ROSMAP\\_eQTL\\_pQTL & ROSMAP\\_eQTL\\_pQTL.chr11\\_44270671\\_46916060.twas.tsv.gz  \\\\\n",
       "\t 11 & ENSG00000110108 &  60914157 &  57280000 &  61923443 & AC\\_DeJager\\_eQTL & image\\_AD2 & mrash   & TRUE & FALSE & 0.01883097 & 4.717748e-04 & -4.723397 & 2.319373e-06 & eQTL & chr11\\_60339997\\_63818332   & chr11\\_60339997\\_63818332   & ROSMAP\\_eQTL\\_pQTL & ROSMAP\\_eQTL\\_pQTL.chr11\\_60339997\\_63818332.twas.tsv.gz  \\\\\n",
       "\t 12 & ENSG00000088992 & 117099478 & 115920000 & 118120000 & AC\\_DeJager\\_eQTL & image\\_AD2 & bayes\\_l & TRUE & FALSE & 0.20059666 & 8.144650e-31 &  6.854376 & 7.162463e-12 & eQTL & chr12\\_115165608\\_117668628 & chr12\\_115165608\\_117668628 & ROSMAP\\_eQTL\\_pQTL & ROSMAP\\_eQTL\\_pQTL.chr12\\_115165608\\_117668628.twas.tsv.gz\\\\\n",
       "\t 12 & ENSG00000111490 &  64759483 &  63560000 &  66160000 & AC\\_DeJager\\_eQTL & image\\_AD2 & bayes\\_l & TRUE & FALSE & 0.03614365 & 1.858085e-06 &  5.941566 & 2.823127e-09 & eQTL & chr12\\_61991992\\_65677087   & chr12\\_61991992\\_65677087   & ROSMAP\\_eQTL\\_pQTL & ROSMAP\\_eQTL\\_pQTL.chr12\\_61991992\\_65677087.twas.tsv.gz  \\\\\n",
       "\t 17 & ENSG00000161714 &  45133353 &  42560000 &  46680000 & AC\\_DeJager\\_eQTL & image\\_AD2 & mvsusie & TRUE & FALSE & 0.08231760 & 6.384749e-13 &  4.959055 & 7.083706e-07 & eQTL & chr17\\_42087601\\_45383525   & chr17\\_42087601\\_45383525   & ROSMAP\\_eQTL\\_pQTL & ROSMAP\\_eQTL\\_pQTL.chr17\\_42087601\\_45383525.twas.tsv.gz  \\\\\n",
       "\t 17 & ENSG00000120088 &  45784279 &  42560000 &  46835828 & AC\\_DeJager\\_eQTL & image\\_AD2 & mrash   & TRUE & FALSE & 0.01010393 & 8.173605e-03 &  4.745944 & 2.075361e-06 & eQTL & chr17\\_45383525\\_50162864   & chr17\\_45383525\\_50162864   & ROSMAP\\_eQTL\\_pQTL & ROSMAP\\_eQTL\\_pQTL.chr17\\_45383525\\_50162864.twas.tsv.gz  \\\\\n",
       "\\end{tabular}\n"
      ],
      "text/markdown": [
       "\n",
       "A grouped_df: 6 × 19\n",
       "\n",
       "| chr &lt;int&gt; | molecular_id &lt;chr&gt; | TSS &lt;int&gt; | start &lt;int&gt; | end &lt;int&gt; | context &lt;chr&gt; | gwas_study &lt;chr&gt; | method &lt;chr&gt; | is_imputable &lt;lgl&gt; | is_selected_method &lt;lgl&gt; | rsq_cv &lt;dbl&gt; | pval_cv &lt;dbl&gt; | twas_z &lt;dbl&gt; | twas_pval &lt;dbl&gt; | type &lt;chr&gt; | block &lt;chr&gt; | region &lt;chr&gt; | study_context &lt;chr&gt; | source_file &lt;chr&gt; |\n",
       "|---|---|---|---|---|---|---|---|---|---|---|---|---|---|---|---|---|---|---|\n",
       "| 11 | ENSG00000110492 |  46380755 |  45380755 |  48440000 | AC_DeJager_eQTL | image_AD2 | mvsusie | TRUE | FALSE | 0.05292778 | 8.709874e-09 | -5.012974 | 5.359513e-07 | eQTL | chr11_44270671_46916060   | chr11_44270671_46916060   | ROSMAP_eQTL_pQTL | ROSMAP_eQTL_pQTL.chr11_44270671_46916060.twas.tsv.gz   |\n",
       "| 11 | ENSG00000110108 |  60914157 |  57280000 |  61923443 | AC_DeJager_eQTL | image_AD2 | mrash   | TRUE | FALSE | 0.01883097 | 4.717748e-04 | -4.723397 | 2.319373e-06 | eQTL | chr11_60339997_63818332   | chr11_60339997_63818332   | ROSMAP_eQTL_pQTL | ROSMAP_eQTL_pQTL.chr11_60339997_63818332.twas.tsv.gz   |\n",
       "| 12 | ENSG00000088992 | 117099478 | 115920000 | 118120000 | AC_DeJager_eQTL | image_AD2 | bayes_l | TRUE | FALSE | 0.20059666 | 8.144650e-31 |  6.854376 | 7.162463e-12 | eQTL | chr12_115165608_117668628 | chr12_115165608_117668628 | ROSMAP_eQTL_pQTL | ROSMAP_eQTL_pQTL.chr12_115165608_117668628.twas.tsv.gz |\n",
       "| 12 | ENSG00000111490 |  64759483 |  63560000 |  66160000 | AC_DeJager_eQTL | image_AD2 | bayes_l | TRUE | FALSE | 0.03614365 | 1.858085e-06 |  5.941566 | 2.823127e-09 | eQTL | chr12_61991992_65677087   | chr12_61991992_65677087   | ROSMAP_eQTL_pQTL | ROSMAP_eQTL_pQTL.chr12_61991992_65677087.twas.tsv.gz   |\n",
       "| 17 | ENSG00000161714 |  45133353 |  42560000 |  46680000 | AC_DeJager_eQTL | image_AD2 | mvsusie | TRUE | FALSE | 0.08231760 | 6.384749e-13 |  4.959055 | 7.083706e-07 | eQTL | chr17_42087601_45383525   | chr17_42087601_45383525   | ROSMAP_eQTL_pQTL | ROSMAP_eQTL_pQTL.chr17_42087601_45383525.twas.tsv.gz   |\n",
       "| 17 | ENSG00000120088 |  45784279 |  42560000 |  46835828 | AC_DeJager_eQTL | image_AD2 | mrash   | TRUE | FALSE | 0.01010393 | 8.173605e-03 |  4.745944 | 2.075361e-06 | eQTL | chr17_45383525_50162864   | chr17_45383525_50162864   | ROSMAP_eQTL_pQTL | ROSMAP_eQTL_pQTL.chr17_45383525_50162864.twas.tsv.gz   |\n",
       "\n"
      ],
      "text/plain": [
       "  chr molecular_id    TSS       start     end       context         gwas_study\n",
       "1 11  ENSG00000110492  46380755  45380755  48440000 AC_DeJager_eQTL image_AD2 \n",
       "2 11  ENSG00000110108  60914157  57280000  61923443 AC_DeJager_eQTL image_AD2 \n",
       "3 12  ENSG00000088992 117099478 115920000 118120000 AC_DeJager_eQTL image_AD2 \n",
       "4 12  ENSG00000111490  64759483  63560000  66160000 AC_DeJager_eQTL image_AD2 \n",
       "5 17  ENSG00000161714  45133353  42560000  46680000 AC_DeJager_eQTL image_AD2 \n",
       "6 17  ENSG00000120088  45784279  42560000  46835828 AC_DeJager_eQTL image_AD2 \n",
       "  method  is_imputable is_selected_method rsq_cv     pval_cv      twas_z   \n",
       "1 mvsusie TRUE         FALSE              0.05292778 8.709874e-09 -5.012974\n",
       "2 mrash   TRUE         FALSE              0.01883097 4.717748e-04 -4.723397\n",
       "3 bayes_l TRUE         FALSE              0.20059666 8.144650e-31  6.854376\n",
       "4 bayes_l TRUE         FALSE              0.03614365 1.858085e-06  5.941566\n",
       "5 mvsusie TRUE         FALSE              0.08231760 6.384749e-13  4.959055\n",
       "6 mrash   TRUE         FALSE              0.01010393 8.173605e-03  4.745944\n",
       "  twas_pval    type block                     region                   \n",
       "1 5.359513e-07 eQTL chr11_44270671_46916060   chr11_44270671_46916060  \n",
       "2 2.319373e-06 eQTL chr11_60339997_63818332   chr11_60339997_63818332  \n",
       "3 7.162463e-12 eQTL chr12_115165608_117668628 chr12_115165608_117668628\n",
       "4 2.823127e-09 eQTL chr12_61991992_65677087   chr12_61991992_65677087  \n",
       "5 7.083706e-07 eQTL chr17_42087601_45383525   chr17_42087601_45383525  \n",
       "6 2.075361e-06 eQTL chr17_45383525_50162864   chr17_45383525_50162864  \n",
       "  study_context    source_file                                           \n",
       "1 ROSMAP_eQTL_pQTL ROSMAP_eQTL_pQTL.chr11_44270671_46916060.twas.tsv.gz  \n",
       "2 ROSMAP_eQTL_pQTL ROSMAP_eQTL_pQTL.chr11_60339997_63818332.twas.tsv.gz  \n",
       "3 ROSMAP_eQTL_pQTL ROSMAP_eQTL_pQTL.chr12_115165608_117668628.twas.tsv.gz\n",
       "4 ROSMAP_eQTL_pQTL ROSMAP_eQTL_pQTL.chr12_61991992_65677087.twas.tsv.gz  \n",
       "5 ROSMAP_eQTL_pQTL ROSMAP_eQTL_pQTL.chr17_42087601_45383525.twas.tsv.gz  \n",
       "6 ROSMAP_eQTL_pQTL ROSMAP_eQTL_pQTL.chr17_45383525_50162864.twas.tsv.gz  "
      ]
     },
     "metadata": {},
     "output_type": "display_data"
    },
    {
     "data": {
      "text/html": [
       "<style>\n",
       ".list-inline {list-style: none; margin:0; padding: 0}\n",
       ".list-inline>li {display: inline-block}\n",
       ".list-inline>li:not(:last-child)::after {content: \"\\00b7\"; padding: 0 .5ex}\n",
       "</style>\n",
       "<ol class=list-inline><li>186</li><li>19</li></ol>\n"
      ],
      "text/latex": [
       "\\begin{enumerate*}\n",
       "\\item 186\n",
       "\\item 19\n",
       "\\end{enumerate*}\n"
      ],
      "text/markdown": [
       "1. 186\n",
       "2. 19\n",
       "\n",
       "\n"
      ],
      "text/plain": [
       "[1] 186  19"
      ]
     },
     "metadata": {},
     "output_type": "display_data"
    }
   ],
   "source": [
    "head(most_likely_causal_genes)\n",
    "dim(most_likely_causal_genes)"
   ]
  },
  {
   "cell_type": "code",
   "execution_count": 14,
   "id": "7593c6fe-0add-4515-a2cb-ec5b0eb9cfdc",
   "metadata": {},
   "outputs": [
    {
     "data": {
      "text/html": [
       "93"
      ],
      "text/latex": [
       "93"
      ],
      "text/markdown": [
       "93"
      ],
      "text/plain": [
       "[1] 93"
      ]
     },
     "metadata": {},
     "output_type": "display_data"
    }
   ],
   "source": [
    "most_likely_causal_genes |> count(molecular_id) |> nrow()"
   ]
  },
  {
   "cell_type": "code",
   "execution_count": 11,
   "id": "a3887e88-b4ac-4e86-bfb1-066069849597",
   "metadata": {},
   "outputs": [],
   "source": [
    "AD2_gene = unique(most_likely_causal_genes$molecular_id)"
   ]
  },
  {
   "cell_type": "code",
   "execution_count": 12,
   "id": "4690b578-988a-438b-bba4-a5f30ad5b46b",
   "metadata": {},
   "outputs": [],
   "source": [
    "image_AD2_gene_list <- AD2_twas |> \n",
    "  dplyr::filter(molecular_id %in% AD2_gene) |> \n",
    "  dplyr::mutate(`#chr` = paste0(\"chr\", chr), molecular_id = molecular_id) |> \n",
    "  dplyr::select(`#chr`, start, end, molecular_id) |> \n",
    "  unique()"
   ]
  },
  {
   "cell_type": "code",
   "execution_count": 13,
   "id": "f4acc0fe-e8c9-4358-8551-5b3187e20024",
   "metadata": {},
   "outputs": [
    {
     "data": {
      "text/html": [
       "<style>\n",
       ".list-inline {list-style: none; margin:0; padding: 0}\n",
       ".list-inline>li {display: inline-block}\n",
       ".list-inline>li:not(:last-child)::after {content: \"\\00b7\"; padding: 0 .5ex}\n",
       "</style>\n",
       "<ol class=list-inline><li>92</li><li>4</li></ol>\n"
      ],
      "text/latex": [
       "\\begin{enumerate*}\n",
       "\\item 92\n",
       "\\item 4\n",
       "\\end{enumerate*}\n"
      ],
      "text/markdown": [
       "1. 92\n",
       "2. 4\n",
       "\n",
       "\n"
      ],
      "text/plain": [
       "[1] 92  4"
      ]
     },
     "metadata": {},
     "output_type": "display_data"
    }
   ],
   "source": [
    "dim(image_AD2_gene_list)"
   ]
  },
  {
   "cell_type": "code",
   "execution_count": 14,
   "id": "1792b8e7-e2f5-4017-b31b-578fad1d7f54",
   "metadata": {},
   "outputs": [],
   "source": [
    "DNE_QTL_gene = fread(\"~/project/image_QTL/twas/annotated_dne_gene.tsv\")\n"
   ]
  },
  {
   "cell_type": "code",
   "execution_count": 15,
   "id": "479f0edd-fafa-4a5c-8d3a-f9ad4fd449ae",
   "metadata": {},
   "outputs": [],
   "source": [
    "image_AD2_QTL_gene = DNE_QTL_gene |> filter(str_detect(event_ID, \"image_AD2\")) |> dplyr::select(-strand,-event_ID)\n",
    "                                        "
   ]
  },
  {
   "cell_type": "code",
   "execution_count": 16,
   "id": "cd122d42-a63c-498c-9f8c-24fdfab955dc",
   "metadata": {},
   "outputs": [],
   "source": [
    "image_AD2_gene = bind_rows(image_AD2_gene_list, image_AD2_QTL_gene)"
   ]
  },
  {
   "cell_type": "code",
   "execution_count": 17,
   "id": "103cb33c-7ba7-4e6e-8a2c-63f731d81ec8",
   "metadata": {},
   "outputs": [],
   "source": [
    "fwrite(image_AD2_gene, \"~/DNE_xQTL_paper/main_text/4_candidate_genes/staging/interested_genes/TWAS_QTL/manual_cTWAS_QTL_gene/image_AD2_gene_list.tsv\", sep = '\\t')"
   ]
  },
  {
   "cell_type": "markdown",
   "id": "b3f23bb2-9fd3-4a45-9729-82caa0a20649",
   "metadata": {
    "kernel": "R"
   },
   "source": [
    "### image_AD2_QTL list"
   ]
  },
  {
   "cell_type": "code",
   "execution_count": 33,
   "id": "db37eb9f-fa07-494d-a159-8ccb43d59cc4",
   "metadata": {},
   "outputs": [],
   "source": [
    "\n",
    "library(clusterProfiler)\n",
    "library(org.Hs.eg.db)\n"
   ]
  },
  {
   "cell_type": "code",
   "execution_count": 34,
   "id": "05e9b65e-b0d9-4f1e-bfaf-dab3e098f57b",
   "metadata": {},
   "outputs": [],
   "source": [
    "image_AD2_gene = fread(\"~/DNE_xQTL_paper/main_text/4_candidate_genes/staging/interested_genes/TWAS_QTL/manual_cTWAS_QTL_gene/image_AD2_gene_list.tsv\")\n",
    "AD2_gene = image_AD2_gene |> filter(gene_name == '')  |> pull(molecular_id)"
   ]
  },
  {
   "cell_type": "code",
   "execution_count": null,
   "id": "66081b54-adbc-438d-b2a9-348faa7bc05b",
   "metadata": {
    "kernel": "R",
    "scrolled": true
   },
   "outputs": [],
   "source": [
    "AD2_sig_gene_ego <- enrichGO(\n",
    "  gene          = unique(image_AD2_gene$molecular_id),\n",
    "  OrgDb         = org.Hs.eg.db,\n",
    "  keyType       = \"ENSEMBL\",\n",
    "  ont           = \"BP\",\n",
    "  pAdjustMethod = \"BH\",\n",
    "  pvalueCutoff  = 1,\n",
    "  qvalueCutoff  = 1\n",
    ")\n"
   ]
  },
  {
   "cell_type": "code",
   "execution_count": null,
   "id": "ff55d6e1-3a61-4003-86d7-fa54edc915c3",
   "metadata": {
    "kernel": "R"
   },
   "outputs": [],
   "source": [
    "head(AD2_sig_gene_ego, n=10)"
   ]
  },
  {
   "cell_type": "code",
   "execution_count": null,
   "id": "2bf58340-7778-4cdb-bf38-e187bf34729e",
   "metadata": {},
   "outputs": [],
   "source": [
    "barplot(AD2_sig_gene_ego, showCategory = 10, title = \"GO Enrichment - BP\")"
   ]
  },
  {
   "cell_type": "code",
   "execution_count": null,
   "id": "bcfc1fa4-d246-4ecc-b1fa-019abd77d625",
   "metadata": {},
   "outputs": [],
   "source": []
  },
  {
   "cell_type": "code",
   "execution_count": null,
   "id": "70e2f5fd-ae06-4d81-9dbe-38030c933e17",
   "metadata": {
    "kernel": "R",
    "scrolled": true
   },
   "outputs": [],
   "source": [
    "AD2_sig_gene_ego_cc <- enrichGO(\n",
    "  gene          = unique(image_AD2_gene$molecular_id),\n",
    "  OrgDb         = org.Hs.eg.db,\n",
    "  keyType       = \"ENSEMBL\",\n",
    "  ont           = \"CC\",\n",
    "  pAdjustMethod = \"BH\",\n",
    "  pvalueCutoff  = 1,\n",
    "  qvalueCutoff  = 1\n",
    ")\n"
   ]
  },
  {
   "cell_type": "code",
   "execution_count": null,
   "id": "73061bef-adb7-47c8-8a65-e705066a95f0",
   "metadata": {
    "kernel": "R"
   },
   "outputs": [],
   "source": [
    "head(AD2_sig_gene_ego_cc, n=15)"
   ]
  },
  {
   "cell_type": "code",
   "execution_count": null,
   "id": "8bb4fc3a-81c2-4d9b-be0b-f7e72027b6fc",
   "metadata": {},
   "outputs": [],
   "source": [
    "barplot(AD2_sig_gene_ego_cc, showCategory = 10, title = \"GO Enrichment - CC\")"
   ]
  },
  {
   "cell_type": "code",
   "execution_count": null,
   "id": "a66e40c0-1a05-484e-9760-846f5d5e083a",
   "metadata": {
    "kernel": "R",
    "scrolled": true
   },
   "outputs": [],
   "source": [
    "image_AD2_sig_gene_ego_mf <- enrichGO(\n",
    "  gene          = unique(image_AD2_gene$molecular_id),\n",
    "  OrgDb         = org.Hs.eg.db,\n",
    "  keyType       = \"ENSEMBL\",\n",
    "  ont           = \"MF\",\n",
    "  pAdjustMethod = \"BH\",\n",
    "  pvalueCutoff  = 1,\n",
    "  qvalueCutoff  = 1\n",
    ")\n"
   ]
  },
  {
   "cell_type": "code",
   "execution_count": null,
   "id": "8b7671ef-38de-4fdd-a266-9ac25986fbbc",
   "metadata": {
    "kernel": "R"
   },
   "outputs": [],
   "source": [
    "head(image_AD2_sig_gene_ego_mf, n=10)"
   ]
  },
  {
   "cell_type": "code",
   "execution_count": null,
   "id": "9ab350be-4e54-4243-a8dd-1768d22b01ad",
   "metadata": {},
   "outputs": [],
   "source": [
    "barplot(image_AD2_sig_gene_ego_mf, showCategory = 10, title = \"GO Enrichment - MF\")"
   ]
  },
  {
   "cell_type": "code",
   "execution_count": null,
   "id": "85b8dc24-97c0-45fe-a5c6-def5fa3eb15a",
   "metadata": {},
   "outputs": [],
   "source": []
  },
  {
   "cell_type": "code",
   "execution_count": null,
   "id": "e77f1ef4-063e-4e3d-85f3-c84f7b51e7c7",
   "metadata": {
    "kernel": "R"
   },
   "outputs": [],
   "source": [
    "entrez_ids <- bitr(image_AD2_gene$molecular_id, fromType = \"ENSEMBL\", \n",
    "                   toType = \"ENTREZID\", OrgDb = org.Hs.eg.db)\n",
    "\n",
    "kegg_enrich <- enrichKEGG(gene         = entrez_ids$ENTREZID,\n",
    "                          organism     = 'hsa',\n",
    "                          pvalueCutoff = 1,\n",
    "                         qvalueCutoff = 1)"
   ]
  },
  {
   "cell_type": "code",
   "execution_count": null,
   "id": "66a575d7-f9e0-4eb9-8f80-f2a0e6f117a8",
   "metadata": {},
   "outputs": [],
   "source": [
    "kegg_enrich %>% head(n=20)"
   ]
  },
  {
   "cell_type": "code",
   "execution_count": null,
   "id": "657309d2-6efe-462e-aa54-bd856fdbd9b9",
   "metadata": {},
   "outputs": [],
   "source": [
    "barplot(kegg_enrich, showCategory = 10, title = \"KEGG Pathway Enrichment\")"
   ]
  },
  {
   "cell_type": "code",
   "execution_count": null,
   "id": "ffc5235b-46c3-47bc-9877-62e62867a9c3",
   "metadata": {},
   "outputs": [],
   "source": []
  },
  {
   "cell_type": "code",
   "execution_count": null,
   "id": "7889c7b3-c842-448d-9508-f7c29ebf221b",
   "metadata": {},
   "outputs": [],
   "source": []
  },
  {
   "cell_type": "code",
   "execution_count": null,
   "id": "35826295-0f98-4460-9fe5-f20c84d16a76",
   "metadata": {},
   "outputs": [],
   "source": []
  },
  {
   "cell_type": "code",
   "execution_count": null,
   "id": "a9671031-076c-4454-a9d1-a810e534a4b2",
   "metadata": {},
   "outputs": [],
   "source": []
  }
 ],
 "metadata": {
  "kernelspec": {
   "display_name": "R",
   "language": "R",
   "name": "ir"
  },
  "language_info": {
   "codemirror_mode": "r",
   "file_extension": ".r",
   "mimetype": "text/x-r-source",
   "name": "R",
   "pygments_lexer": "r",
   "version": "4.3.3"
  }
 },
 "nbformat": 4,
 "nbformat_minor": 5
}
