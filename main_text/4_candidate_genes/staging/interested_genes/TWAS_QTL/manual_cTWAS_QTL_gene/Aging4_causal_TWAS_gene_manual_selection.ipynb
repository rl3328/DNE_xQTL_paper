{
 "cells": [
  {
   "cell_type": "markdown",
   "id": "9c8aefd7-aa5d-4855-abb0-742c706c5374",
   "metadata": {},
   "source": [
    "# Manually Selection of the Most Likely Causal Genes from Significant TWAS Genes\n",
    "\n",
    "## Aim\n",
    "\n",
    "Genomewide MR was skipped due to missing `MAF` column in the imputed GWAS sumstats, and our [TWAS pipeline](https://github.com/rl3328/xqtl-protocol/blob/main/code/pecotmr_integration/twas_ctwas.ipynb) runs TWAS and MR in the same step (`twas`). This notebook serves as a quick rescue to manually diminish noise from LD hitchhiking and identify the most likely causal genes.\n",
    "\n",
    "\n",
    "\n",
    "## Steps\n",
    "\n",
    "### 1. Filter genes qualified for MR analysis\n",
    "\n",
    "Most thresholds follow the default requirements in \\[`twas`], except I use a stricter `twas_pval` cutoff. The reason is that I want to directly apply the filter to “significant” TWAS genes in my manuscript while also saving resources.\n",
    "\n",
    "**Criteria:**\n",
    "\n",
    "1. Strong and reliable TWAS signals:\n",
    "\n",
    "   * `twas_pval < 2.5*1e-6`\n",
    "   * `rsq_cv > 0.01`\n",
    "   * `rsq_pval < 0.05`\n",
    "2. Strong GWAS signals:\n",
    "\n",
    "   * Have `CS`, which can be extracted from `twas_weight(.rds)` files\n",
    "\n",
    "### 2. Manually select the most likely causal gene\n",
    "\n",
    "Within each LD block and by context, I define the gene with the strongest GWAS signal as follows:\n",
    "\n",
    "* For each gene–context combination:\n",
    "\n",
    "  * If no credible set (CS) is available, skip (this corresponds to filtering step 1.2).\n",
    "  * If a 95% CS exists, select the gene containing the variant with the highest PIP within the 95% CS. If not, fall back to 70% CS.\n",
    "  * If a 70% CS exists, select the gene containing the variant with the highest PIP within the 70% CS. If not, fall back to 50% CS.\n",
    "  * If a 50% CS exists, select the gene containing the variant with the highest PIP within the 50% CS.\n",
    "\n",
    "\n",
    "\n",
    "## Note\n",
    "\n",
    "There are some differences between this identification and the [loose gene list](https://github.com/rl3328/xqtl-analysis/blob/main/production/image_QTL/interested_genes/TWAS_QTL/loose_gene/image_Aging4_gene_list.tsv).\n",
    "\n",
    "* Loose list: 42 genes, filtered by `is_selected_method` and `twas_pval < 2.5*1e-6`\n",
    "* Current identification: 443 genes are strong TWAS genes(twas_pval < 2.5*1e-6 & rsq_cv > 0.01 & pval_cv < 0.05) for Aging4 and Knight cohort, 48 genes were identified as the final list.\n",
    "\n",
    "\n",
    "\n",
    "## Input\n",
    "\n",
    "1. **Merged TWAS results** (`*.twas.tsv.gz`):\n",
    "\n",
    "   * `s3://statfungen/ftp_fgc_xqtl/interactive_analysis/rl3328/image_QTL/twas/image_Aging4_twas_merged.tsv.gz.combined_twas.tsv.gz`\n",
    "2. **xQTL\\_meta\\_file** (meta file specifying TWAS weight paths by cohort):\n",
    "\n",
    "   * `s3://statfungen/ftp_fgc_xqtl/interactive_analysis/cl4215/KNIGHT_eQTL_pQTL_twas_wgw_xqtl_meta_data.tsv`\n",
    "\n",
    "\n",
    "## Plan\n",
    "\n",
    "Other GWAS studies and other cohorts will be analyzed in the same way.\n"
   ]
  },
  {
   "cell_type": "code",
   "execution_count": 1,
   "id": "8148afc6-e674-429c-a71a-6501e4dfa9e8",
   "metadata": {},
   "outputs": [
    {
     "name": "stderr",
     "output_type": "stream",
     "text": [
      "── \u001b[1mAttaching core tidyverse packages\u001b[22m ──────────────────────── tidyverse 2.0.0 ──\n",
      "\u001b[32m✔\u001b[39m \u001b[34mdplyr    \u001b[39m 1.1.4     \u001b[32m✔\u001b[39m \u001b[34mreadr    \u001b[39m 2.1.5\n",
      "\u001b[32m✔\u001b[39m \u001b[34mforcats  \u001b[39m 1.0.0     \u001b[32m✔\u001b[39m \u001b[34mstringr  \u001b[39m 1.5.1\n",
      "\u001b[32m✔\u001b[39m \u001b[34mggplot2  \u001b[39m 3.5.2     \u001b[32m✔\u001b[39m \u001b[34mtibble   \u001b[39m 3.3.0\n",
      "\u001b[32m✔\u001b[39m \u001b[34mlubridate\u001b[39m 1.9.4     \u001b[32m✔\u001b[39m \u001b[34mtidyr    \u001b[39m 1.3.1\n",
      "\u001b[32m✔\u001b[39m \u001b[34mpurrr    \u001b[39m 1.1.0     \n",
      "── \u001b[1mConflicts\u001b[22m ────────────────────────────────────────── tidyverse_conflicts() ──\n",
      "\u001b[31m✖\u001b[39m \u001b[34mdplyr\u001b[39m::\u001b[32mbetween()\u001b[39m     masks \u001b[34mdata.table\u001b[39m::between()\n",
      "\u001b[31m✖\u001b[39m \u001b[34mdplyr\u001b[39m::\u001b[32mfilter()\u001b[39m      masks \u001b[34mstats\u001b[39m::filter()\n",
      "\u001b[31m✖\u001b[39m \u001b[34mdplyr\u001b[39m::\u001b[32mfirst()\u001b[39m       masks \u001b[34mdata.table\u001b[39m::first()\n",
      "\u001b[31m✖\u001b[39m \u001b[34mlubridate\u001b[39m::\u001b[32mhour()\u001b[39m    masks \u001b[34mdata.table\u001b[39m::hour()\n",
      "\u001b[31m✖\u001b[39m \u001b[34mlubridate\u001b[39m::\u001b[32misoweek()\u001b[39m masks \u001b[34mdata.table\u001b[39m::isoweek()\n",
      "\u001b[31m✖\u001b[39m \u001b[34mdplyr\u001b[39m::\u001b[32mlag()\u001b[39m         masks \u001b[34mstats\u001b[39m::lag()\n",
      "\u001b[31m✖\u001b[39m \u001b[34mdplyr\u001b[39m::\u001b[32mlast()\u001b[39m        masks \u001b[34mdata.table\u001b[39m::last()\n",
      "\u001b[31m✖\u001b[39m \u001b[34mlubridate\u001b[39m::\u001b[32mmday()\u001b[39m    masks \u001b[34mdata.table\u001b[39m::mday()\n",
      "\u001b[31m✖\u001b[39m \u001b[34mlubridate\u001b[39m::\u001b[32mminute()\u001b[39m  masks \u001b[34mdata.table\u001b[39m::minute()\n",
      "\u001b[31m✖\u001b[39m \u001b[34mlubridate\u001b[39m::\u001b[32mmonth()\u001b[39m   masks \u001b[34mdata.table\u001b[39m::month()\n",
      "\u001b[31m✖\u001b[39m \u001b[34mlubridate\u001b[39m::\u001b[32mquarter()\u001b[39m masks \u001b[34mdata.table\u001b[39m::quarter()\n",
      "\u001b[31m✖\u001b[39m \u001b[34mlubridate\u001b[39m::\u001b[32msecond()\u001b[39m  masks \u001b[34mdata.table\u001b[39m::second()\n",
      "\u001b[31m✖\u001b[39m \u001b[34mpurrr\u001b[39m::\u001b[32mtranspose()\u001b[39m   masks \u001b[34mdata.table\u001b[39m::transpose()\n",
      "\u001b[31m✖\u001b[39m \u001b[34mlubridate\u001b[39m::\u001b[32mwday()\u001b[39m    masks \u001b[34mdata.table\u001b[39m::wday()\n",
      "\u001b[31m✖\u001b[39m \u001b[34mlubridate\u001b[39m::\u001b[32mweek()\u001b[39m    masks \u001b[34mdata.table\u001b[39m::week()\n",
      "\u001b[31m✖\u001b[39m \u001b[34mlubridate\u001b[39m::\u001b[32myday()\u001b[39m    masks \u001b[34mdata.table\u001b[39m::yday()\n",
      "\u001b[31m✖\u001b[39m \u001b[34mlubridate\u001b[39m::\u001b[32myear()\u001b[39m    masks \u001b[34mdata.table\u001b[39m::year()\n",
      "\u001b[36mℹ\u001b[39m Use the conflicted package (\u001b[3m\u001b[34m<http://conflicted.r-lib.org/>\u001b[39m\u001b[23m) to force all conflicts to become errors\n",
      "Warning message:\n",
      "“replacing previous import ‘vroom::cols’ by ‘readr::cols’ when loading ‘pecotmr’”\n"
     ]
    }
   ],
   "source": [
    "library(data.table)\n",
    "library(tidyverse)\n",
    "library(pecotmr)"
   ]
  },
  {
   "cell_type": "code",
   "execution_count": 2,
   "id": "50e72393-79a4-4594-a9ed-59838c4258a0",
   "metadata": {},
   "outputs": [],
   "source": [
    "setwd(\"~/data\")"
   ]
  },
  {
   "cell_type": "code",
   "execution_count": 3,
   "id": "6289df25-117a-444e-bbab-32646a0b96f9",
   "metadata": {},
   "outputs": [],
   "source": [
    "##Bonfferroni correction is too strict\n",
    "# Aging4_twas = fread(\"~/project/image_QTL/twas/multiple_testing/image_Aging4_twas_bonff.bonf_corrected.tsv.gz\")\n"
   ]
  },
  {
   "cell_type": "code",
   "execution_count": 4,
   "id": "fc6ef388-37ac-4f6e-ac5f-5f1100e3bf66",
   "metadata": {},
   "outputs": [],
   "source": [
    "Aging4_twas = fread(\"~/project/image_QTL/twas/image_Aging4_twas_merged.tsv.gz.combined_twas.tsv.gz\")\n"
   ]
  },
  {
   "cell_type": "code",
   "execution_count": 5,
   "id": "120ebac4-4c45-45f4-bcf0-7b0137cdccdb",
   "metadata": {},
   "outputs": [],
   "source": [
    "# weight_db_list = fread(\"~/data/interactive_analysis/cl4215/KNIGHT_eQTL_pQTL_twas_wgw_xqtl_meta_data.tsv\")\n",
    "# weight_db_list = fread(\"~/project/image_QTL/twas/MSBB_eQTL_pQTL_twas_wgw_xqtl_meta_data.tsv\")\n",
    "# weight_db_list = fread(\"~/data/interactive_analysis/cl4215/ROSMAP_twas_wgw_xqtl_meta_data.tsv\")\n",
    "# weight_db_list = fread(\"~/data/interactive_analysis/cl4215/ROSMAP_mega_twas_wgw_xqtl_meta_data.tsv\")\n"
   ]
  },
  {
   "cell_type": "code",
   "execution_count": 6,
   "id": "2e1491ba-d7c7-4e8b-8cb8-449ed6c56fea",
   "metadata": {},
   "outputs": [
    {
     "name": "stdout",
     "output_type": "stream",
     "text": [
      "\u001b[90m# A tibble: 0 × 2\u001b[39m\n",
      "\u001b[90m# ℹ 2 variables: molecular_id <chr>, number_of_blocks <int>\u001b[39m\n"
     ]
    }
   ],
   "source": [
    "# No gene presents in multiple blocks\n",
    "genes_in_multiple_blocks <- Aging4_twas %>% group_by(molecular_id) %>% summarise(\n",
    "    number_of_blocks = n_distinct(block)) %>%\n",
    "    filter(number_of_blocks > 1)\n",
    "\n",
    "print(genes_in_multiple_blocks)"
   ]
  },
  {
   "cell_type": "code",
   "execution_count": 7,
   "id": "272d5389-bf26-4818-bc7e-264bbc3cf8cd",
   "metadata": {},
   "outputs": [
    {
     "data": {
      "text/html": [
       "<table class=\"dataframe\">\n",
       "<caption>A data.table: 6 × 19</caption>\n",
       "<thead>\n",
       "\t<tr><th scope=col>chr</th><th scope=col>molecular_id</th><th scope=col>TSS</th><th scope=col>start</th><th scope=col>end</th><th scope=col>context</th><th scope=col>gwas_study</th><th scope=col>method</th><th scope=col>is_imputable</th><th scope=col>is_selected_method</th><th scope=col>rsq_cv</th><th scope=col>pval_cv</th><th scope=col>twas_z</th><th scope=col>twas_pval</th><th scope=col>type</th><th scope=col>block</th><th scope=col>region</th><th scope=col>study_context</th><th scope=col>source_file</th></tr>\n",
       "\t<tr><th scope=col>&lt;int&gt;</th><th scope=col>&lt;chr&gt;</th><th scope=col>&lt;int&gt;</th><th scope=col>&lt;int&gt;</th><th scope=col>&lt;int&gt;</th><th scope=col>&lt;chr&gt;</th><th scope=col>&lt;chr&gt;</th><th scope=col>&lt;chr&gt;</th><th scope=col>&lt;lgl&gt;</th><th scope=col>&lt;lgl&gt;</th><th scope=col>&lt;dbl&gt;</th><th scope=col>&lt;dbl&gt;</th><th scope=col>&lt;dbl&gt;</th><th scope=col>&lt;dbl&gt;</th><th scope=col>&lt;chr&gt;</th><th scope=col>&lt;chr&gt;</th><th scope=col>&lt;chr&gt;</th><th scope=col>&lt;chr&gt;</th><th scope=col>&lt;chr&gt;</th></tr>\n",
       "</thead>\n",
       "<tbody>\n",
       "\t<tr><td>10</td><td>ENSG00000055950</td><td>100987514</td><td> 99320000</td><td>102120000</td><td>Knight_eQTL_brain</td><td>image_Aging4</td><td>enet </td><td>TRUE</td><td>FALSE</td><td>0.098757440</td><td>8.923911e-10</td><td>-2.925529</td><td>0.003438716</td><td>eQTL</td><td>chr10_100331627_104378781</td><td>chr10_100331627_104378781</td><td>KNIGHT_eQTL_pQTL</td><td>KNIGHT_eQTL_pQTL.chr10_100331627_104378781.twas.tsv.gz</td></tr>\n",
       "\t<tr><td>10</td><td>ENSG00000055950</td><td>100987514</td><td> 99320000</td><td>102120000</td><td>Knight_eQTL_brain</td><td>image_Aging4</td><td>lasso</td><td>TRUE</td><td>FALSE</td><td>0.103370596</td><td>3.541036e-10</td><td>-2.953063</td><td>0.003146377</td><td>eQTL</td><td>chr10_100331627_104378781</td><td>chr10_100331627_104378781</td><td>KNIGHT_eQTL_pQTL</td><td>KNIGHT_eQTL_pQTL.chr10_100331627_104378781.twas.tsv.gz</td></tr>\n",
       "\t<tr><td>10</td><td>ENSG00000055950</td><td>100987514</td><td> 99320000</td><td>102120000</td><td>Knight_eQTL_brain</td><td>image_Aging4</td><td>mrash</td><td>TRUE</td><td>FALSE</td><td>0.089177838</td><td>6.013310e-09</td><td>-2.792398</td><td>0.005231890</td><td>eQTL</td><td>chr10_100331627_104378781</td><td>chr10_100331627_104378781</td><td>KNIGHT_eQTL_pQTL</td><td>KNIGHT_eQTL_pQTL.chr10_100331627_104378781.twas.tsv.gz</td></tr>\n",
       "\t<tr><td>10</td><td>ENSG00000055950</td><td>100987514</td><td> 99320000</td><td>102120000</td><td>Knight_eQTL_brain</td><td>image_Aging4</td><td>susie</td><td>TRUE</td><td> TRUE</td><td>0.121638427</td><td>8.766557e-12</td><td>-2.932920</td><td>0.003357909</td><td>eQTL</td><td>chr10_100331627_104378781</td><td>chr10_100331627_104378781</td><td>KNIGHT_eQTL_pQTL</td><td>KNIGHT_eQTL_pQTL.chr10_100331627_104378781.twas.tsv.gz</td></tr>\n",
       "\t<tr><td>10</td><td>ENSG00000059915</td><td>102421538</td><td>101402617</td><td>103680000</td><td>Knight_eQTL_brain</td><td>image_Aging4</td><td>enet </td><td>TRUE</td><td>FALSE</td><td>0.007872702</td><td>5.201216e-02</td><td> 1.188241</td><td>0.234738536</td><td>eQTL</td><td>chr10_100331627_104378781</td><td>chr10_100331627_104378781</td><td>KNIGHT_eQTL_pQTL</td><td>KNIGHT_eQTL_pQTL.chr10_100331627_104378781.twas.tsv.gz</td></tr>\n",
       "\t<tr><td>10</td><td>ENSG00000059915</td><td>102421538</td><td>101402617</td><td>103680000</td><td>Knight_eQTL_brain</td><td>image_Aging4</td><td>lasso</td><td>TRUE</td><td>FALSE</td><td>0.006195072</td><td>7.447581e-02</td><td> 1.045410</td><td>0.295833712</td><td>eQTL</td><td>chr10_100331627_104378781</td><td>chr10_100331627_104378781</td><td>KNIGHT_eQTL_pQTL</td><td>KNIGHT_eQTL_pQTL.chr10_100331627_104378781.twas.tsv.gz</td></tr>\n",
       "</tbody>\n",
       "</table>\n"
      ],
      "text/latex": [
       "A data.table: 6 × 19\n",
       "\\begin{tabular}{lllllllllllllllllll}\n",
       " chr & molecular\\_id & TSS & start & end & context & gwas\\_study & method & is\\_imputable & is\\_selected\\_method & rsq\\_cv & pval\\_cv & twas\\_z & twas\\_pval & type & block & region & study\\_context & source\\_file\\\\\n",
       " <int> & <chr> & <int> & <int> & <int> & <chr> & <chr> & <chr> & <lgl> & <lgl> & <dbl> & <dbl> & <dbl> & <dbl> & <chr> & <chr> & <chr> & <chr> & <chr>\\\\\n",
       "\\hline\n",
       "\t 10 & ENSG00000055950 & 100987514 &  99320000 & 102120000 & Knight\\_eQTL\\_brain & image\\_Aging4 & enet  & TRUE & FALSE & 0.098757440 & 8.923911e-10 & -2.925529 & 0.003438716 & eQTL & chr10\\_100331627\\_104378781 & chr10\\_100331627\\_104378781 & KNIGHT\\_eQTL\\_pQTL & KNIGHT\\_eQTL\\_pQTL.chr10\\_100331627\\_104378781.twas.tsv.gz\\\\\n",
       "\t 10 & ENSG00000055950 & 100987514 &  99320000 & 102120000 & Knight\\_eQTL\\_brain & image\\_Aging4 & lasso & TRUE & FALSE & 0.103370596 & 3.541036e-10 & -2.953063 & 0.003146377 & eQTL & chr10\\_100331627\\_104378781 & chr10\\_100331627\\_104378781 & KNIGHT\\_eQTL\\_pQTL & KNIGHT\\_eQTL\\_pQTL.chr10\\_100331627\\_104378781.twas.tsv.gz\\\\\n",
       "\t 10 & ENSG00000055950 & 100987514 &  99320000 & 102120000 & Knight\\_eQTL\\_brain & image\\_Aging4 & mrash & TRUE & FALSE & 0.089177838 & 6.013310e-09 & -2.792398 & 0.005231890 & eQTL & chr10\\_100331627\\_104378781 & chr10\\_100331627\\_104378781 & KNIGHT\\_eQTL\\_pQTL & KNIGHT\\_eQTL\\_pQTL.chr10\\_100331627\\_104378781.twas.tsv.gz\\\\\n",
       "\t 10 & ENSG00000055950 & 100987514 &  99320000 & 102120000 & Knight\\_eQTL\\_brain & image\\_Aging4 & susie & TRUE &  TRUE & 0.121638427 & 8.766557e-12 & -2.932920 & 0.003357909 & eQTL & chr10\\_100331627\\_104378781 & chr10\\_100331627\\_104378781 & KNIGHT\\_eQTL\\_pQTL & KNIGHT\\_eQTL\\_pQTL.chr10\\_100331627\\_104378781.twas.tsv.gz\\\\\n",
       "\t 10 & ENSG00000059915 & 102421538 & 101402617 & 103680000 & Knight\\_eQTL\\_brain & image\\_Aging4 & enet  & TRUE & FALSE & 0.007872702 & 5.201216e-02 &  1.188241 & 0.234738536 & eQTL & chr10\\_100331627\\_104378781 & chr10\\_100331627\\_104378781 & KNIGHT\\_eQTL\\_pQTL & KNIGHT\\_eQTL\\_pQTL.chr10\\_100331627\\_104378781.twas.tsv.gz\\\\\n",
       "\t 10 & ENSG00000059915 & 102421538 & 101402617 & 103680000 & Knight\\_eQTL\\_brain & image\\_Aging4 & lasso & TRUE & FALSE & 0.006195072 & 7.447581e-02 &  1.045410 & 0.295833712 & eQTL & chr10\\_100331627\\_104378781 & chr10\\_100331627\\_104378781 & KNIGHT\\_eQTL\\_pQTL & KNIGHT\\_eQTL\\_pQTL.chr10\\_100331627\\_104378781.twas.tsv.gz\\\\\n",
       "\\end{tabular}\n"
      ],
      "text/markdown": [
       "\n",
       "A data.table: 6 × 19\n",
       "\n",
       "| chr &lt;int&gt; | molecular_id &lt;chr&gt; | TSS &lt;int&gt; | start &lt;int&gt; | end &lt;int&gt; | context &lt;chr&gt; | gwas_study &lt;chr&gt; | method &lt;chr&gt; | is_imputable &lt;lgl&gt; | is_selected_method &lt;lgl&gt; | rsq_cv &lt;dbl&gt; | pval_cv &lt;dbl&gt; | twas_z &lt;dbl&gt; | twas_pval &lt;dbl&gt; | type &lt;chr&gt; | block &lt;chr&gt; | region &lt;chr&gt; | study_context &lt;chr&gt; | source_file &lt;chr&gt; |\n",
       "|---|---|---|---|---|---|---|---|---|---|---|---|---|---|---|---|---|---|---|\n",
       "| 10 | ENSG00000055950 | 100987514 |  99320000 | 102120000 | Knight_eQTL_brain | image_Aging4 | enet  | TRUE | FALSE | 0.098757440 | 8.923911e-10 | -2.925529 | 0.003438716 | eQTL | chr10_100331627_104378781 | chr10_100331627_104378781 | KNIGHT_eQTL_pQTL | KNIGHT_eQTL_pQTL.chr10_100331627_104378781.twas.tsv.gz |\n",
       "| 10 | ENSG00000055950 | 100987514 |  99320000 | 102120000 | Knight_eQTL_brain | image_Aging4 | lasso | TRUE | FALSE | 0.103370596 | 3.541036e-10 | -2.953063 | 0.003146377 | eQTL | chr10_100331627_104378781 | chr10_100331627_104378781 | KNIGHT_eQTL_pQTL | KNIGHT_eQTL_pQTL.chr10_100331627_104378781.twas.tsv.gz |\n",
       "| 10 | ENSG00000055950 | 100987514 |  99320000 | 102120000 | Knight_eQTL_brain | image_Aging4 | mrash | TRUE | FALSE | 0.089177838 | 6.013310e-09 | -2.792398 | 0.005231890 | eQTL | chr10_100331627_104378781 | chr10_100331627_104378781 | KNIGHT_eQTL_pQTL | KNIGHT_eQTL_pQTL.chr10_100331627_104378781.twas.tsv.gz |\n",
       "| 10 | ENSG00000055950 | 100987514 |  99320000 | 102120000 | Knight_eQTL_brain | image_Aging4 | susie | TRUE |  TRUE | 0.121638427 | 8.766557e-12 | -2.932920 | 0.003357909 | eQTL | chr10_100331627_104378781 | chr10_100331627_104378781 | KNIGHT_eQTL_pQTL | KNIGHT_eQTL_pQTL.chr10_100331627_104378781.twas.tsv.gz |\n",
       "| 10 | ENSG00000059915 | 102421538 | 101402617 | 103680000 | Knight_eQTL_brain | image_Aging4 | enet  | TRUE | FALSE | 0.007872702 | 5.201216e-02 |  1.188241 | 0.234738536 | eQTL | chr10_100331627_104378781 | chr10_100331627_104378781 | KNIGHT_eQTL_pQTL | KNIGHT_eQTL_pQTL.chr10_100331627_104378781.twas.tsv.gz |\n",
       "| 10 | ENSG00000059915 | 102421538 | 101402617 | 103680000 | Knight_eQTL_brain | image_Aging4 | lasso | TRUE | FALSE | 0.006195072 | 7.447581e-02 |  1.045410 | 0.295833712 | eQTL | chr10_100331627_104378781 | chr10_100331627_104378781 | KNIGHT_eQTL_pQTL | KNIGHT_eQTL_pQTL.chr10_100331627_104378781.twas.tsv.gz |\n",
       "\n"
      ],
      "text/plain": [
       "  chr molecular_id    TSS       start     end       context          \n",
       "1 10  ENSG00000055950 100987514  99320000 102120000 Knight_eQTL_brain\n",
       "2 10  ENSG00000055950 100987514  99320000 102120000 Knight_eQTL_brain\n",
       "3 10  ENSG00000055950 100987514  99320000 102120000 Knight_eQTL_brain\n",
       "4 10  ENSG00000055950 100987514  99320000 102120000 Knight_eQTL_brain\n",
       "5 10  ENSG00000059915 102421538 101402617 103680000 Knight_eQTL_brain\n",
       "6 10  ENSG00000059915 102421538 101402617 103680000 Knight_eQTL_brain\n",
       "  gwas_study   method is_imputable is_selected_method rsq_cv      pval_cv     \n",
       "1 image_Aging4 enet   TRUE         FALSE              0.098757440 8.923911e-10\n",
       "2 image_Aging4 lasso  TRUE         FALSE              0.103370596 3.541036e-10\n",
       "3 image_Aging4 mrash  TRUE         FALSE              0.089177838 6.013310e-09\n",
       "4 image_Aging4 susie  TRUE          TRUE              0.121638427 8.766557e-12\n",
       "5 image_Aging4 enet   TRUE         FALSE              0.007872702 5.201216e-02\n",
       "6 image_Aging4 lasso  TRUE         FALSE              0.006195072 7.447581e-02\n",
       "  twas_z    twas_pval   type block                    \n",
       "1 -2.925529 0.003438716 eQTL chr10_100331627_104378781\n",
       "2 -2.953063 0.003146377 eQTL chr10_100331627_104378781\n",
       "3 -2.792398 0.005231890 eQTL chr10_100331627_104378781\n",
       "4 -2.932920 0.003357909 eQTL chr10_100331627_104378781\n",
       "5  1.188241 0.234738536 eQTL chr10_100331627_104378781\n",
       "6  1.045410 0.295833712 eQTL chr10_100331627_104378781\n",
       "  region                    study_context   \n",
       "1 chr10_100331627_104378781 KNIGHT_eQTL_pQTL\n",
       "2 chr10_100331627_104378781 KNIGHT_eQTL_pQTL\n",
       "3 chr10_100331627_104378781 KNIGHT_eQTL_pQTL\n",
       "4 chr10_100331627_104378781 KNIGHT_eQTL_pQTL\n",
       "5 chr10_100331627_104378781 KNIGHT_eQTL_pQTL\n",
       "6 chr10_100331627_104378781 KNIGHT_eQTL_pQTL\n",
       "  source_file                                           \n",
       "1 KNIGHT_eQTL_pQTL.chr10_100331627_104378781.twas.tsv.gz\n",
       "2 KNIGHT_eQTL_pQTL.chr10_100331627_104378781.twas.tsv.gz\n",
       "3 KNIGHT_eQTL_pQTL.chr10_100331627_104378781.twas.tsv.gz\n",
       "4 KNIGHT_eQTL_pQTL.chr10_100331627_104378781.twas.tsv.gz\n",
       "5 KNIGHT_eQTL_pQTL.chr10_100331627_104378781.twas.tsv.gz\n",
       "6 KNIGHT_eQTL_pQTL.chr10_100331627_104378781.twas.tsv.gz"
      ]
     },
     "metadata": {},
     "output_type": "display_data"
    },
    {
     "data": {
      "text/html": [
       "<style>\n",
       ".list-inline {list-style: none; margin:0; padding: 0}\n",
       ".list-inline>li {display: inline-block}\n",
       ".list-inline>li:not(:last-child)::after {content: \"\\00b7\"; padding: 0 .5ex}\n",
       "</style>\n",
       "<ol class=list-inline><li>928827</li><li>19</li></ol>\n"
      ],
      "text/latex": [
       "\\begin{enumerate*}\n",
       "\\item 928827\n",
       "\\item 19\n",
       "\\end{enumerate*}\n"
      ],
      "text/markdown": [
       "1. 928827\n",
       "2. 19\n",
       "\n",
       "\n"
      ],
      "text/plain": [
       "[1] 928827     19"
      ]
     },
     "metadata": {},
     "output_type": "display_data"
    }
   ],
   "source": [
    "head(Aging4_twas)\n",
    "dim(Aging4_twas)"
   ]
  },
  {
   "cell_type": "code",
   "execution_count": 7,
   "id": "b32f414c-ce43-467a-b9ee-1a5ec5cd27df",
   "metadata": {},
   "outputs": [],
   "source": [
    "# Strong and reliable TWAS signals:\n",
    "Aging4_twas_filtered <- Aging4_twas |>\n",
    "    filter(\n",
    "        twas_pval < 2.5*1e-6 &     # Stricter p-value threshold \n",
    "        rsq_cv > 0.01 &          # Cross-validation R²\n",
    "        pval_cv < 0.05          # R² significance\n",
    "    )\n",
    "Aging4_block = unique(Aging4_twas_filtered$block)"
   ]
  },
  {
   "cell_type": "code",
   "execution_count": 8,
   "id": "5ce0cd64-ebd0-4bbb-a942-adb0fbbfa3b8",
   "metadata": {},
   "outputs": [
    {
     "data": {
      "text/html": [
       "<style>\n",
       ".list-inline {list-style: none; margin:0; padding: 0}\n",
       ".list-inline>li {display: inline-block}\n",
       ".list-inline>li:not(:last-child)::after {content: \"\\00b7\"; padding: 0 .5ex}\n",
       "</style>\n",
       "<ol class=list-inline><li>255</li><li>19</li></ol>\n"
      ],
      "text/latex": [
       "\\begin{enumerate*}\n",
       "\\item 255\n",
       "\\item 19\n",
       "\\end{enumerate*}\n"
      ],
      "text/markdown": [
       "1. 255\n",
       "2. 19\n",
       "\n",
       "\n"
      ],
      "text/plain": [
       "[1] 255  19"
      ]
     },
     "metadata": {},
     "output_type": "display_data"
    }
   ],
   "source": [
    "dim(Aging4_twas_filtered)"
   ]
  },
  {
   "cell_type": "code",
   "execution_count": 9,
   "id": "41701a7e-df79-4611-b8e5-ef7ed8ff3956",
   "metadata": {},
   "outputs": [
    {
     "name": "stdout",
     "output_type": "stream",
     "text": [
      "=== Starting Multi-Cohort Context-Aware TWAS/SuSiE Processing ===\n",
      "Mode: Extract ALL variants in credible sets (any coverage level)\n",
      "Cohorts to process: 4 \n",
      "Cohort names: KNIGHT, MSBB, ROSMAP, ROSMAP_MEGA \n",
      "Total regions per cohort: 28 \n",
      "\n",
      "=== PROCESSING COHORT 1/4: KNIGHT ===\n",
      "Loading weight database metadata: ~/data/interactive_analysis/cl4215/KNIGHT_eQTL_pQTL_twas_wgw_xqtl_meta_data.tsv\n",
      "Loaded 16852 weight database entries for KNIGHT\n",
      "  Processing region 1/28: chr1_16103_2888443\n",
      "    Found 2 significant genes across 9 contexts in region chr1_16103_2888443\n",
      "    Contexts: Knight_eQTL_brain, BM_10_MSBB_eQTL, BM_22_MSBB_eQTL, BM_36_MSBB_eQTL, BM_44_MSBB_eQTL, Exc_DeJager_eQTL, AC_DeJager_eQTL, DLPFC_DeJager_eQTL, PCC_DeJager_eQTL\n",
      "      Processing context: Knight_eQTL_brain\n",
      "        1 genes in this context\n",
      "          Processing gene 1/1: ENSG00000142609\n",
      "            Loading weights from 1 database(s)\n",
      "            Found 35 variants in top_loci\n"
     ]
    },
    {
     "name": "stderr",
     "output_type": "stream",
     "text": [
      "Gene ENSG00000142609_Knight_eQTL_brain_KNIGHT : Selected 35 variants in credible sets out of 35 total variants\n",
      "\n",
      "  Coverage distribution: cs_0.95 = 25, cs_0.7 = 10\n",
      "\n"
     ]
    },
    {
     "name": "stdout",
     "output_type": "stream",
     "text": [
      "            ✓ Successfully extracted 35 CS variants for gene ENSG00000142609 in context Knight_eQTL_brain cohort KNIGHT\n",
      "      Processing context: BM_10_MSBB_eQTL\n",
      "        1 genes in this context\n",
      "          Processing gene 1/1: ENSG00000142609\n",
      "            Loading weights from 1 database(s)\n",
      "            Found 35 variants in top_loci\n"
     ]
    },
    {
     "name": "stderr",
     "output_type": "stream",
     "text": [
      "Gene ENSG00000142609_BM_10_MSBB_eQTL_KNIGHT : Selected 35 variants in credible sets out of 35 total variants\n",
      "\n",
      "  Coverage distribution: cs_0.95 = 25, cs_0.7 = 10\n",
      "\n"
     ]
    },
    {
     "name": "stdout",
     "output_type": "stream",
     "text": [
      "            ✓ Successfully extracted 35 CS variants for gene ENSG00000142609 in context BM_10_MSBB_eQTL cohort KNIGHT\n",
      "      Processing context: BM_22_MSBB_eQTL\n",
      "        1 genes in this context\n",
      "          Processing gene 1/1: ENSG00000142609\n",
      "            Loading weights from 1 database(s)\n",
      "            Found 35 variants in top_loci\n"
     ]
    },
    {
     "name": "stderr",
     "output_type": "stream",
     "text": [
      "Gene ENSG00000142609_BM_22_MSBB_eQTL_KNIGHT : Selected 35 variants in credible sets out of 35 total variants\n",
      "\n",
      "  Coverage distribution: cs_0.95 = 25, cs_0.7 = 10\n",
      "\n"
     ]
    },
    {
     "name": "stdout",
     "output_type": "stream",
     "text": [
      "            ✓ Successfully extracted 35 CS variants for gene ENSG00000142609 in context BM_22_MSBB_eQTL cohort KNIGHT\n",
      "      Processing context: BM_36_MSBB_eQTL\n",
      "        1 genes in this context\n",
      "          Processing gene 1/1: ENSG00000142609\n",
      "            Loading weights from 1 database(s)\n",
      "            Found 35 variants in top_loci\n"
     ]
    },
    {
     "name": "stderr",
     "output_type": "stream",
     "text": [
      "Gene ENSG00000142609_BM_36_MSBB_eQTL_KNIGHT : Selected 35 variants in credible sets out of 35 total variants\n",
      "\n",
      "  Coverage distribution: cs_0.95 = 25, cs_0.7 = 10\n",
      "\n"
     ]
    },
    {
     "name": "stdout",
     "output_type": "stream",
     "text": [
      "            ✓ Successfully extracted 35 CS variants for gene ENSG00000142609 in context BM_36_MSBB_eQTL cohort KNIGHT\n",
      "      Processing context: BM_44_MSBB_eQTL\n",
      "        1 genes in this context\n",
      "          Processing gene 1/1: ENSG00000142609\n",
      "            Loading weights from 1 database(s)\n",
      "            Found 35 variants in top_loci\n"
     ]
    },
    {
     "name": "stderr",
     "output_type": "stream",
     "text": [
      "Gene ENSG00000142609_BM_44_MSBB_eQTL_KNIGHT : Selected 35 variants in credible sets out of 35 total variants\n",
      "\n",
      "  Coverage distribution: cs_0.95 = 25, cs_0.7 = 10\n",
      "\n"
     ]
    },
    {
     "name": "stdout",
     "output_type": "stream",
     "text": [
      "            ✓ Successfully extracted 35 CS variants for gene ENSG00000142609 in context BM_44_MSBB_eQTL cohort KNIGHT\n",
      "      Processing context: Exc_DeJager_eQTL\n",
      "        1 genes in this context\n",
      "          Processing gene 1/1: ENSG00000197785\n",
      "            Loading weights from 1 database(s)\n"
     ]
    },
    {
     "name": "stderr",
     "output_type": "stream",
     "text": [
      "Warning message in doTryCatch(return(expr), name, parentenv, handler):\n",
      "“Gene ENSG00000197785 in context Exc_DeJager_eQTL cohort KNIGHT : No top_loci in susie results”\n"
     ]
    },
    {
     "name": "stdout",
     "output_type": "stream",
     "text": [
      "      Processing context: AC_DeJager_eQTL\n",
      "        1 genes in this context\n",
      "          Processing gene 1/1: ENSG00000142609\n",
      "            Loading weights from 1 database(s)\n",
      "            Found 35 variants in top_loci\n"
     ]
    },
    {
     "name": "stderr",
     "output_type": "stream",
     "text": [
      "Gene ENSG00000142609_AC_DeJager_eQTL_KNIGHT : Selected 35 variants in credible sets out of 35 total variants\n",
      "\n",
      "  Coverage distribution: cs_0.95 = 25, cs_0.7 = 10\n",
      "\n"
     ]
    },
    {
     "name": "stdout",
     "output_type": "stream",
     "text": [
      "            ✓ Successfully extracted 35 CS variants for gene ENSG00000142609 in context AC_DeJager_eQTL cohort KNIGHT\n",
      "      Processing context: DLPFC_DeJager_eQTL\n",
      "        1 genes in this context\n",
      "          Processing gene 1/1: ENSG00000142609\n",
      "            Loading weights from 1 database(s)\n",
      "            Found 35 variants in top_loci\n"
     ]
    },
    {
     "name": "stderr",
     "output_type": "stream",
     "text": [
      "Gene ENSG00000142609_DLPFC_DeJager_eQTL_KNIGHT : Selected 35 variants in credible sets out of 35 total variants\n",
      "\n",
      "  Coverage distribution: cs_0.95 = 25, cs_0.7 = 10\n",
      "\n"
     ]
    },
    {
     "name": "stdout",
     "output_type": "stream",
     "text": [
      "            ✓ Successfully extracted 35 CS variants for gene ENSG00000142609 in context DLPFC_DeJager_eQTL cohort KNIGHT\n",
      "      Processing context: PCC_DeJager_eQTL\n",
      "        1 genes in this context\n",
      "          Processing gene 1/1: ENSG00000142609\n",
      "            Loading weights from 1 database(s)\n",
      "            Found 35 variants in top_loci\n"
     ]
    },
    {
     "name": "stderr",
     "output_type": "stream",
     "text": [
      "Gene ENSG00000142609_PCC_DeJager_eQTL_KNIGHT : Selected 35 variants in credible sets out of 35 total variants\n",
      "\n",
      "  Coverage distribution: cs_0.95 = 25, cs_0.7 = 10\n",
      "\n"
     ]
    },
    {
     "name": "stdout",
     "output_type": "stream",
     "text": [
      "            ✓ Successfully extracted 35 CS variants for gene ENSG00000142609 in context PCC_DeJager_eQTL cohort KNIGHT\n",
      "  Processing region 2/28: chr1_204142966_205972031\n",
      "    Found 4 significant genes across 17 contexts in region chr1_204142966_205972031\n",
      "    Contexts: Knight_eQTL_brain, BM_10_MSBB_eQTL, BM_22_MSBB_eQTL, BM_36_MSBB_eQTL, BM_44_MSBB_eQTL, monocyte_ROSMAP_eQTL, Ast_DeJager_eQTL, Exc_DeJager_eQTL, Inh_DeJager_eQTL, Oli_DeJager_eQTL, PCC_DeJager_eQTL, AC_DeJager_eQTL, DLPFC_DeJager_eQTL, Ast_mega_eQTL, Exc_mega_eQTL, Inh_mega_eQTL, Oli_mega_eQTL\n",
      "      Processing context: Knight_eQTL_brain\n",
      "        2 genes in this context\n",
      "          Processing gene 1/2: ENSG00000117280\n",
      "            Loading weights from 1 database(s)\n",
      "            Found 4 variants in top_loci\n"
     ]
    },
    {
     "name": "stderr",
     "output_type": "stream",
     "text": [
      "Gene ENSG00000117280_Knight_eQTL_brain_KNIGHT : Selected 4 variants in credible sets out of 4 total variants\n",
      "\n",
      "  Coverage distribution: cs_0.95 = 4\n",
      "\n"
     ]
    },
    {
     "name": "stdout",
     "output_type": "stream",
     "text": [
      "            ✓ Successfully extracted 4 CS variants for gene ENSG00000117280 in context Knight_eQTL_brain cohort KNIGHT\n",
      "          Processing gene 2/2: ENSG00000162877\n",
      "            Loading weights from 1 database(s)\n",
      "            Found 5 variants in top_loci\n"
     ]
    },
    {
     "name": "stderr",
     "output_type": "stream",
     "text": [
      "Gene ENSG00000162877_Knight_eQTL_brain_KNIGHT : Selected 3 variants in credible sets out of 5 total variants\n",
      "\n",
      "  Coverage distribution: cs_0.95 = 3\n",
      "\n"
     ]
    },
    {
     "name": "stdout",
     "output_type": "stream",
     "text": [
      "            ✓ Successfully extracted 3 CS variants for gene ENSG00000162877 in context Knight_eQTL_brain cohort KNIGHT\n",
      "      Processing context: BM_10_MSBB_eQTL\n",
      "        3 genes in this context\n",
      "          Processing gene 1/3: ENSG00000117280\n",
      "            Loading weights from 1 database(s)\n",
      "            Found 4 variants in top_loci\n"
     ]
    },
    {
     "name": "stderr",
     "output_type": "stream",
     "text": [
      "Gene ENSG00000117280_BM_10_MSBB_eQTL_KNIGHT : Selected 4 variants in credible sets out of 4 total variants\n",
      "\n",
      "  Coverage distribution: cs_0.95 = 4\n",
      "\n"
     ]
    },
    {
     "name": "stdout",
     "output_type": "stream",
     "text": [
      "            ✓ Successfully extracted 4 CS variants for gene ENSG00000117280 in context BM_10_MSBB_eQTL cohort KNIGHT\n",
      "          Processing gene 2/3: ENSG00000162877\n",
      "            Loading weights from 1 database(s)\n",
      "            Found 5 variants in top_loci\n"
     ]
    },
    {
     "name": "stderr",
     "output_type": "stream",
     "text": [
      "Gene ENSG00000162877_BM_10_MSBB_eQTL_KNIGHT : Selected 3 variants in credible sets out of 5 total variants\n",
      "\n",
      "  Coverage distribution: cs_0.95 = 3\n",
      "\n"
     ]
    },
    {
     "name": "stdout",
     "output_type": "stream",
     "text": [
      "            ✓ Successfully extracted 3 CS variants for gene ENSG00000162877 in context BM_10_MSBB_eQTL cohort KNIGHT\n",
      "          Processing gene 3/3: ENSG00000174502\n",
      "            Loading weights from 1 database(s)\n",
      "            Found 45 variants in top_loci\n"
     ]
    },
    {
     "name": "stderr",
     "output_type": "stream",
     "text": [
      "Gene ENSG00000174502_BM_10_MSBB_eQTL_KNIGHT : Selected 45 variants in credible sets out of 45 total variants\n",
      "\n",
      "  Coverage distribution: cs_0.7 = 35, cs_0.95 = 10\n",
      "\n"
     ]
    },
    {
     "name": "stdout",
     "output_type": "stream",
     "text": [
      "            ✓ Successfully extracted 45 CS variants for gene ENSG00000174502 in context BM_10_MSBB_eQTL cohort KNIGHT\n",
      "      Processing context: BM_22_MSBB_eQTL\n",
      "        3 genes in this context\n",
      "          Processing gene 1/3: ENSG00000117280\n",
      "            Loading weights from 1 database(s)\n",
      "            Found 4 variants in top_loci\n"
     ]
    },
    {
     "name": "stderr",
     "output_type": "stream",
     "text": [
      "Gene ENSG00000117280_BM_22_MSBB_eQTL_KNIGHT : Selected 4 variants in credible sets out of 4 total variants\n",
      "\n",
      "  Coverage distribution: cs_0.95 = 4\n",
      "\n"
     ]
    },
    {
     "name": "stdout",
     "output_type": "stream",
     "text": [
      "            ✓ Successfully extracted 4 CS variants for gene ENSG00000117280 in context BM_22_MSBB_eQTL cohort KNIGHT\n",
      "          Processing gene 2/3: ENSG00000162877\n",
      "            Loading weights from 1 database(s)\n",
      "            Found 5 variants in top_loci\n"
     ]
    },
    {
     "name": "stderr",
     "output_type": "stream",
     "text": [
      "Gene ENSG00000162877_BM_22_MSBB_eQTL_KNIGHT : Selected 3 variants in credible sets out of 5 total variants\n",
      "\n",
      "  Coverage distribution: cs_0.95 = 3\n",
      "\n"
     ]
    },
    {
     "name": "stdout",
     "output_type": "stream",
     "text": [
      "            ✓ Successfully extracted 3 CS variants for gene ENSG00000162877 in context BM_22_MSBB_eQTL cohort KNIGHT\n",
      "          Processing gene 3/3: ENSG00000174502\n",
      "            Loading weights from 1 database(s)\n",
      "            Found 45 variants in top_loci\n"
     ]
    },
    {
     "name": "stderr",
     "output_type": "stream",
     "text": [
      "Gene ENSG00000174502_BM_22_MSBB_eQTL_KNIGHT : Selected 45 variants in credible sets out of 45 total variants\n",
      "\n",
      "  Coverage distribution: cs_0.7 = 35, cs_0.95 = 10\n",
      "\n"
     ]
    },
    {
     "name": "stdout",
     "output_type": "stream",
     "text": [
      "            ✓ Successfully extracted 45 CS variants for gene ENSG00000174502 in context BM_22_MSBB_eQTL cohort KNIGHT\n",
      "      Processing context: BM_36_MSBB_eQTL\n",
      "        3 genes in this context\n",
      "          Processing gene 1/3: ENSG00000117280\n",
      "            Loading weights from 1 database(s)\n",
      "            Found 4 variants in top_loci\n"
     ]
    },
    {
     "name": "stderr",
     "output_type": "stream",
     "text": [
      "Gene ENSG00000117280_BM_36_MSBB_eQTL_KNIGHT : Selected 4 variants in credible sets out of 4 total variants\n",
      "\n",
      "  Coverage distribution: cs_0.95 = 4\n",
      "\n"
     ]
    },
    {
     "name": "stdout",
     "output_type": "stream",
     "text": [
      "            ✓ Successfully extracted 4 CS variants for gene ENSG00000117280 in context BM_36_MSBB_eQTL cohort KNIGHT\n",
      "          Processing gene 2/3: ENSG00000162877\n",
      "            Loading weights from 1 database(s)\n",
      "            Found 5 variants in top_loci\n"
     ]
    },
    {
     "name": "stderr",
     "output_type": "stream",
     "text": [
      "Gene ENSG00000162877_BM_36_MSBB_eQTL_KNIGHT : Selected 3 variants in credible sets out of 5 total variants\n",
      "\n",
      "  Coverage distribution: cs_0.95 = 3\n",
      "\n"
     ]
    },
    {
     "name": "stdout",
     "output_type": "stream",
     "text": [
      "            ✓ Successfully extracted 3 CS variants for gene ENSG00000162877 in context BM_36_MSBB_eQTL cohort KNIGHT\n",
      "          Processing gene 3/3: ENSG00000174502\n",
      "            Loading weights from 1 database(s)\n",
      "            Found 45 variants in top_loci\n"
     ]
    },
    {
     "name": "stderr",
     "output_type": "stream",
     "text": [
      "Gene ENSG00000174502_BM_36_MSBB_eQTL_KNIGHT : Selected 45 variants in credible sets out of 45 total variants\n",
      "\n",
      "  Coverage distribution: cs_0.7 = 35, cs_0.95 = 10\n",
      "\n"
     ]
    },
    {
     "name": "stdout",
     "output_type": "stream",
     "text": [
      "            ✓ Successfully extracted 45 CS variants for gene ENSG00000174502 in context BM_36_MSBB_eQTL cohort KNIGHT\n",
      "      Processing context: BM_44_MSBB_eQTL\n",
      "        3 genes in this context\n",
      "          Processing gene 1/3: ENSG00000117280\n",
      "            Loading weights from 1 database(s)\n",
      "            Found 4 variants in top_loci\n"
     ]
    },
    {
     "name": "stderr",
     "output_type": "stream",
     "text": [
      "Gene ENSG00000117280_BM_44_MSBB_eQTL_KNIGHT : Selected 4 variants in credible sets out of 4 total variants\n",
      "\n",
      "  Coverage distribution: cs_0.95 = 4\n",
      "\n"
     ]
    },
    {
     "name": "stdout",
     "output_type": "stream",
     "text": [
      "            ✓ Successfully extracted 4 CS variants for gene ENSG00000117280 in context BM_44_MSBB_eQTL cohort KNIGHT\n",
      "          Processing gene 2/3: ENSG00000162877\n",
      "            Loading weights from 1 database(s)\n",
      "            Found 5 variants in top_loci\n"
     ]
    },
    {
     "name": "stderr",
     "output_type": "stream",
     "text": [
      "Gene ENSG00000162877_BM_44_MSBB_eQTL_KNIGHT : Selected 3 variants in credible sets out of 5 total variants\n",
      "\n",
      "  Coverage distribution: cs_0.95 = 3\n",
      "\n"
     ]
    },
    {
     "name": "stdout",
     "output_type": "stream",
     "text": [
      "            ✓ Successfully extracted 3 CS variants for gene ENSG00000162877 in context BM_44_MSBB_eQTL cohort KNIGHT\n",
      "          Processing gene 3/3: ENSG00000174502\n",
      "            Loading weights from 1 database(s)\n",
      "            Found 45 variants in top_loci\n"
     ]
    },
    {
     "name": "stderr",
     "output_type": "stream",
     "text": [
      "Gene ENSG00000174502_BM_44_MSBB_eQTL_KNIGHT : Selected 45 variants in credible sets out of 45 total variants\n",
      "\n",
      "  Coverage distribution: cs_0.7 = 35, cs_0.95 = 10\n",
      "\n"
     ]
    },
    {
     "name": "stdout",
     "output_type": "stream",
     "text": [
      "            ✓ Successfully extracted 45 CS variants for gene ENSG00000174502 in context BM_44_MSBB_eQTL cohort KNIGHT\n",
      "      Processing context: monocyte_ROSMAP_eQTL\n",
      "        2 genes in this context\n",
      "          Processing gene 1/2: ENSG00000117280\n",
      "            Loading weights from 1 database(s)\n",
      "            Found 4 variants in top_loci\n"
     ]
    },
    {
     "name": "stderr",
     "output_type": "stream",
     "text": [
      "Gene ENSG00000117280_monocyte_ROSMAP_eQTL_KNIGHT : Selected 4 variants in credible sets out of 4 total variants\n",
      "\n",
      "  Coverage distribution: cs_0.95 = 4\n",
      "\n"
     ]
    },
    {
     "name": "stdout",
     "output_type": "stream",
     "text": [
      "            ✓ Successfully extracted 4 CS variants for gene ENSG00000117280 in context monocyte_ROSMAP_eQTL cohort KNIGHT\n",
      "          Processing gene 2/2: ENSG00000133065\n",
      "            Loading weights from 1 database(s)\n"
     ]
    },
    {
     "name": "stderr",
     "output_type": "stream",
     "text": [
      "Warning message in doTryCatch(return(expr), name, parentenv, handler):\n",
      "“Gene ENSG00000133065 in context monocyte_ROSMAP_eQTL cohort KNIGHT : No top_loci in susie results”\n"
     ]
    },
    {
     "name": "stdout",
     "output_type": "stream",
     "text": [
      "      Processing context: Ast_DeJager_eQTL\n",
      "        1 genes in this context\n",
      "          Processing gene 1/1: ENSG00000133065\n",
      "            Loading weights from 1 database(s)\n"
     ]
    },
    {
     "name": "stderr",
     "output_type": "stream",
     "text": [
      "Warning message in doTryCatch(return(expr), name, parentenv, handler):\n",
      "“Gene ENSG00000133065 in context Ast_DeJager_eQTL cohort KNIGHT : No top_loci in susie results”\n"
     ]
    },
    {
     "name": "stdout",
     "output_type": "stream",
     "text": [
      "      Processing context: Exc_DeJager_eQTL\n",
      "        1 genes in this context\n",
      "          Processing gene 1/1: ENSG00000133065\n",
      "            Loading weights from 1 database(s)\n"
     ]
    },
    {
     "name": "stderr",
     "output_type": "stream",
     "text": [
      "Warning message in doTryCatch(return(expr), name, parentenv, handler):\n",
      "“Gene ENSG00000133065 in context Exc_DeJager_eQTL cohort KNIGHT : No top_loci in susie results”\n"
     ]
    },
    {
     "name": "stdout",
     "output_type": "stream",
     "text": [
      "      Processing context: Inh_DeJager_eQTL\n",
      "        1 genes in this context\n",
      "          Processing gene 1/1: ENSG00000133065\n",
      "            Loading weights from 1 database(s)\n"
     ]
    },
    {
     "name": "stderr",
     "output_type": "stream",
     "text": [
      "Warning message in doTryCatch(return(expr), name, parentenv, handler):\n",
      "“Gene ENSG00000133065 in context Inh_DeJager_eQTL cohort KNIGHT : No top_loci in susie results”\n"
     ]
    },
    {
     "name": "stdout",
     "output_type": "stream",
     "text": [
      "      Processing context: Oli_DeJager_eQTL\n",
      "        1 genes in this context\n",
      "          Processing gene 1/1: ENSG00000133065\n",
      "            Loading weights from 1 database(s)\n"
     ]
    },
    {
     "name": "stderr",
     "output_type": "stream",
     "text": [
      "Warning message in doTryCatch(return(expr), name, parentenv, handler):\n",
      "“Gene ENSG00000133065 in context Oli_DeJager_eQTL cohort KNIGHT : No top_loci in susie results”\n"
     ]
    },
    {
     "name": "stdout",
     "output_type": "stream",
     "text": [
      "      Processing context: PCC_DeJager_eQTL\n",
      "        2 genes in this context\n",
      "          Processing gene 1/2: ENSG00000133065\n",
      "            Loading weights from 1 database(s)\n"
     ]
    },
    {
     "name": "stderr",
     "output_type": "stream",
     "text": [
      "Warning message in doTryCatch(return(expr), name, parentenv, handler):\n",
      "“Gene ENSG00000133065 in context PCC_DeJager_eQTL cohort KNIGHT : No top_loci in susie results”\n"
     ]
    },
    {
     "name": "stdout",
     "output_type": "stream",
     "text": [
      "          Processing gene 2/2: ENSG00000162877\n",
      "            Loading weights from 1 database(s)\n",
      "            Found 5 variants in top_loci\n"
     ]
    },
    {
     "name": "stderr",
     "output_type": "stream",
     "text": [
      "Gene ENSG00000162877_PCC_DeJager_eQTL_KNIGHT : Selected 3 variants in credible sets out of 5 total variants\n",
      "\n",
      "  Coverage distribution: cs_0.95 = 3\n",
      "\n"
     ]
    },
    {
     "name": "stdout",
     "output_type": "stream",
     "text": [
      "            ✓ Successfully extracted 3 CS variants for gene ENSG00000162877 in context PCC_DeJager_eQTL cohort KNIGHT\n",
      "      Processing context: AC_DeJager_eQTL\n",
      "        1 genes in this context\n",
      "          Processing gene 1/1: ENSG00000162877\n",
      "            Loading weights from 1 database(s)\n",
      "            Found 5 variants in top_loci\n"
     ]
    },
    {
     "name": "stderr",
     "output_type": "stream",
     "text": [
      "Gene ENSG00000162877_AC_DeJager_eQTL_KNIGHT : Selected 3 variants in credible sets out of 5 total variants\n",
      "\n",
      "  Coverage distribution: cs_0.95 = 3\n",
      "\n"
     ]
    },
    {
     "name": "stdout",
     "output_type": "stream",
     "text": [
      "            ✓ Successfully extracted 3 CS variants for gene ENSG00000162877 in context AC_DeJager_eQTL cohort KNIGHT\n",
      "      Processing context: DLPFC_DeJager_eQTL\n",
      "        1 genes in this context\n",
      "          Processing gene 1/1: ENSG00000162877\n",
      "            Loading weights from 1 database(s)\n",
      "            Found 5 variants in top_loci\n"
     ]
    },
    {
     "name": "stderr",
     "output_type": "stream",
     "text": [
      "Gene ENSG00000162877_DLPFC_DeJager_eQTL_KNIGHT : Selected 3 variants in credible sets out of 5 total variants\n",
      "\n",
      "  Coverage distribution: cs_0.95 = 3\n",
      "\n"
     ]
    },
    {
     "name": "stdout",
     "output_type": "stream",
     "text": [
      "            ✓ Successfully extracted 3 CS variants for gene ENSG00000162877 in context DLPFC_DeJager_eQTL cohort KNIGHT\n",
      "      Processing context: Ast_mega_eQTL\n",
      "        1 genes in this context\n",
      "          Processing gene 1/1: ENSG00000133065\n",
      "            Loading weights from 1 database(s)\n"
     ]
    },
    {
     "name": "stderr",
     "output_type": "stream",
     "text": [
      "Warning message in doTryCatch(return(expr), name, parentenv, handler):\n",
      "“Gene ENSG00000133065 in context Ast_mega_eQTL cohort KNIGHT : No top_loci in susie results”\n"
     ]
    },
    {
     "name": "stdout",
     "output_type": "stream",
     "text": [
      "      Processing context: Exc_mega_eQTL\n",
      "        1 genes in this context\n",
      "          Processing gene 1/1: ENSG00000133065\n",
      "            Loading weights from 1 database(s)\n"
     ]
    },
    {
     "name": "stderr",
     "output_type": "stream",
     "text": [
      "Warning message in doTryCatch(return(expr), name, parentenv, handler):\n",
      "“Gene ENSG00000133065 in context Exc_mega_eQTL cohort KNIGHT : No top_loci in susie results”\n"
     ]
    },
    {
     "name": "stdout",
     "output_type": "stream",
     "text": [
      "      Processing context: Inh_mega_eQTL\n",
      "        1 genes in this context\n",
      "          Processing gene 1/1: ENSG00000133065\n",
      "            Loading weights from 1 database(s)\n"
     ]
    },
    {
     "name": "stderr",
     "output_type": "stream",
     "text": [
      "Warning message in doTryCatch(return(expr), name, parentenv, handler):\n",
      "“Gene ENSG00000133065 in context Inh_mega_eQTL cohort KNIGHT : No top_loci in susie results”\n"
     ]
    },
    {
     "name": "stdout",
     "output_type": "stream",
     "text": [
      "      Processing context: Oli_mega_eQTL\n",
      "        1 genes in this context\n",
      "          Processing gene 1/1: ENSG00000133065\n",
      "            Loading weights from 1 database(s)\n"
     ]
    },
    {
     "name": "stderr",
     "output_type": "stream",
     "text": [
      "Warning message in doTryCatch(return(expr), name, parentenv, handler):\n",
      "“Gene ENSG00000133065 in context Oli_mega_eQTL cohort KNIGHT : No top_loci in susie results”\n"
     ]
    },
    {
     "name": "stdout",
     "output_type": "stream",
     "text": [
      "  Processing region 3/28: chr10_89027551_89867142\n",
      "    Found 1 significant genes across 1 contexts in region chr10_89027551_89867142\n",
      "    Contexts: BM_22_MSBB_eQTL\n",
      "      Processing context: BM_22_MSBB_eQTL\n",
      "        1 genes in this context\n",
      "          Processing gene 1/1: ENSG00000204010\n",
      "            Loading weights from 1 database(s)\n",
      "            Found 5 variants in top_loci\n"
     ]
    },
    {
     "name": "stderr",
     "output_type": "stream",
     "text": [
      "Warning message in select_all_cs_variants(df, gene_context_cohort_id):\n",
      "“Gene ENSG00000204010_BM_22_MSBB_eQTL_KNIGHT : No variants with credible set coverage > 0”\n",
      "Warning message in doTryCatch(return(expr), name, parentenv, handler):\n",
      "“Gene ENSG00000204010 in context BM_22_MSBB_eQTL cohort KNIGHT : No CS variants found”\n"
     ]
    },
    {
     "name": "stdout",
     "output_type": "stream",
     "text": [
      "  Processing region 4/28: chr17_42087601_45383525\n",
      "    Found 2 significant genes across 6 contexts in region chr17_42087601_45383525\n",
      "    Contexts: BM_36_MSBB_eQTL, BM_10_MSBB_eQTL, BM_22_MSBB_eQTL, AC_DeJager_eQTL, PCC_DeJager_eQTL, Exc_mega_eQTL\n",
      "      Processing context: BM_36_MSBB_eQTL\n",
      "        1 genes in this context\n",
      "          Processing gene 1/1: ENSG00000136448\n",
      "            Loading weights from 2 database(s)\n"
     ]
    },
    {
     "name": "stderr",
     "output_type": "stream",
     "text": [
      "Warning message in doTryCatch(return(expr), name, parentenv, handler):\n",
      "“Gene ENSG00000136448 in context BM_36_MSBB_eQTL cohort KNIGHT : No top_loci in susie results”\n"
     ]
    },
    {
     "name": "stdout",
     "output_type": "stream",
     "text": [
      "      Processing context: BM_10_MSBB_eQTL\n",
      "        1 genes in this context\n",
      "          Processing gene 1/1: ENSG00000172992\n",
      "            Loading weights from 1 database(s)\n",
      "            Found 11 variants in top_loci\n"
     ]
    },
    {
     "name": "stderr",
     "output_type": "stream",
     "text": [
      "Gene ENSG00000172992_BM_10_MSBB_eQTL_KNIGHT : Selected 10 variants in credible sets out of 11 total variants\n",
      "\n",
      "  Coverage distribution: cs_0.95 = 10\n",
      "\n"
     ]
    },
    {
     "name": "stdout",
     "output_type": "stream",
     "text": [
      "            ✓ Successfully extracted 10 CS variants for gene ENSG00000172992 in context BM_10_MSBB_eQTL cohort KNIGHT\n",
      "      Processing context: BM_22_MSBB_eQTL\n",
      "        1 genes in this context\n",
      "          Processing gene 1/1: ENSG00000172992\n",
      "            Loading weights from 1 database(s)\n",
      "            Found 11 variants in top_loci\n"
     ]
    },
    {
     "name": "stderr",
     "output_type": "stream",
     "text": [
      "Gene ENSG00000172992_BM_22_MSBB_eQTL_KNIGHT : Selected 10 variants in credible sets out of 11 total variants\n",
      "\n",
      "  Coverage distribution: cs_0.95 = 10\n",
      "\n"
     ]
    },
    {
     "name": "stdout",
     "output_type": "stream",
     "text": [
      "            ✓ Successfully extracted 10 CS variants for gene ENSG00000172992 in context BM_22_MSBB_eQTL cohort KNIGHT\n",
      "      Processing context: AC_DeJager_eQTL\n",
      "        1 genes in this context\n",
      "          Processing gene 1/1: ENSG00000136448\n",
      "            Loading weights from 2 database(s)\n"
     ]
    },
    {
     "name": "stderr",
     "output_type": "stream",
     "text": [
      "Warning message in doTryCatch(return(expr), name, parentenv, handler):\n",
      "“Gene ENSG00000136448 in context AC_DeJager_eQTL cohort KNIGHT : No top_loci in susie results”\n"
     ]
    },
    {
     "name": "stdout",
     "output_type": "stream",
     "text": [
      "      Processing context: PCC_DeJager_eQTL\n",
      "        1 genes in this context\n",
      "          Processing gene 1/1: ENSG00000136448\n",
      "            Loading weights from 2 database(s)\n"
     ]
    },
    {
     "name": "stderr",
     "output_type": "stream",
     "text": [
      "Warning message in doTryCatch(return(expr), name, parentenv, handler):\n",
      "“Gene ENSG00000136448 in context PCC_DeJager_eQTL cohort KNIGHT : No top_loci in susie results”\n"
     ]
    },
    {
     "name": "stdout",
     "output_type": "stream",
     "text": [
      "      Processing context: Exc_mega_eQTL\n",
      "        1 genes in this context\n",
      "          Processing gene 1/1: ENSG00000172992\n",
      "            Loading weights from 1 database(s)\n",
      "            Found 11 variants in top_loci\n"
     ]
    },
    {
     "name": "stderr",
     "output_type": "stream",
     "text": [
      "Gene ENSG00000172992_Exc_mega_eQTL_KNIGHT : Selected 10 variants in credible sets out of 11 total variants\n",
      "\n",
      "  Coverage distribution: cs_0.95 = 10\n",
      "\n"
     ]
    },
    {
     "name": "stdout",
     "output_type": "stream",
     "text": [
      "            ✓ Successfully extracted 10 CS variants for gene ENSG00000172992 in context Exc_mega_eQTL cohort KNIGHT\n",
      "  Processing region 5/28: chr17_67025568_68379734\n",
      "    Found 1 significant genes across 2 contexts in region chr17_67025568_68379734\n",
      "    Contexts: BM_44_MSBB_eQTL, Exc_DeJager_eQTL\n",
      "      Processing context: BM_44_MSBB_eQTL\n",
      "        1 genes in this context\n",
      "          Processing gene 1/1: ENSG00000182481\n",
      "            Loading weights from 2 database(s)\n"
     ]
    },
    {
     "name": "stderr",
     "output_type": "stream",
     "text": [
      "Warning message in doTryCatch(return(expr), name, parentenv, handler):\n",
      "“Gene ENSG00000182481 in context BM_44_MSBB_eQTL cohort KNIGHT : No top_loci in susie results”\n"
     ]
    },
    {
     "name": "stdout",
     "output_type": "stream",
     "text": [
      "      Processing context: Exc_DeJager_eQTL\n",
      "        1 genes in this context\n",
      "          Processing gene 1/1: ENSG00000182481\n",
      "            Loading weights from 2 database(s)\n"
     ]
    },
    {
     "name": "stderr",
     "output_type": "stream",
     "text": [
      "Warning message in doTryCatch(return(expr), name, parentenv, handler):\n",
      "“Gene ENSG00000182481 in context Exc_DeJager_eQTL cohort KNIGHT : No top_loci in susie results”\n"
     ]
    },
    {
     "name": "stdout",
     "output_type": "stream",
     "text": [
      "  Processing region 6/28: chr18_34878947_36213990\n",
      "    Found 1 significant genes across 1 contexts in region chr18_34878947_36213990\n",
      "    Contexts: MSBB_BM36_pQTL_chr18_Q96P16\n",
      "      Processing context: MSBB_BM36_pQTL_chr18_Q96P16\n",
      "        1 genes in this context\n",
      "          Processing gene 1/1: ENSG00000141425\n",
      "            Loading weights from 1 database(s)\n"
     ]
    },
    {
     "name": "stderr",
     "output_type": "stream",
     "text": [
      "Warning message in doTryCatch(return(expr), name, parentenv, handler):\n",
      "“Gene ENSG00000141425 in context MSBB_BM36_pQTL_chr18_Q96P16 cohort KNIGHT : No top_loci in susie results”\n"
     ]
    },
    {
     "name": "stdout",
     "output_type": "stream",
     "text": [
      "  Processing region 7/28: chr18_77762652_79389527\n",
      "    Found 1 significant genes across 1 contexts in region chr18_77762652_79389527\n",
      "    Contexts: BM_22_MSBB_eQTL\n",
      "      Processing context: BM_22_MSBB_eQTL\n",
      "        1 genes in this context\n",
      "          Processing gene 1/1: ENSG00000166377\n",
      "            Loading weights from 1 database(s)\n",
      "            Found 69 variants in top_loci\n"
     ]
    },
    {
     "name": "stderr",
     "output_type": "stream",
     "text": [
      "Gene ENSG00000166377_BM_22_MSBB_eQTL_KNIGHT : Selected 69 variants in credible sets out of 69 total variants\n",
      "\n",
      "  Coverage distribution: cs_0.95 = 69\n",
      "\n"
     ]
    },
    {
     "name": "stdout",
     "output_type": "stream",
     "text": [
      "            ✓ Successfully extracted 69 CS variants for gene ENSG00000166377 in context BM_22_MSBB_eQTL cohort KNIGHT\n",
      "  Processing region 8/28: chr19_35206200_36997570\n",
      "    Found 6 significant genes across 10 contexts in region chr19_35206200_36997570\n",
      "    Contexts: BM_10_MSBB_eQTL, BM_22_MSBB_eQTL, BM_36_MSBB_eQTL, BM_44_MSBB_eQTL, PCC_DeJager_eQTL, AC_DeJager_eQTL, Exc_DeJager_eQTL, Ast_DeJager_eQTL, Oli_DeJager_eQTL, Exc_mega_eQTL\n",
      "      Processing context: BM_10_MSBB_eQTL\n",
      "        3 genes in this context\n",
      "          Processing gene 1/3: ENSG00000126267\n",
      "            Loading weights from 1 database(s)\n",
      "            Found 5 variants in top_loci\n"
     ]
    },
    {
     "name": "stderr",
     "output_type": "stream",
     "text": [
      "Gene ENSG00000126267_BM_10_MSBB_eQTL_KNIGHT : Selected 4 variants in credible sets out of 5 total variants\n",
      "\n",
      "  Coverage distribution: cs_0.95 = 4\n",
      "\n"
     ]
    },
    {
     "name": "stdout",
     "output_type": "stream",
     "text": [
      "            ✓ Successfully extracted 4 CS variants for gene ENSG00000126267 in context BM_10_MSBB_eQTL cohort KNIGHT\n",
      "          Processing gene 2/3: ENSG00000011590\n"
     ]
    },
    {
     "name": "stderr",
     "output_type": "stream",
     "text": [
      "Warning message in doTryCatch(return(expr), name, parentenv, handler):\n",
      "“No weight database found for gene: ENSG00000011590 in cohort: KNIGHT”\n"
     ]
    },
    {
     "name": "stdout",
     "output_type": "stream",
     "text": [
      "          Processing gene 3/3: ENSG00000105668\n",
      "            Loading weights from 1 database(s)\n",
      "            Found 5 variants in top_loci\n"
     ]
    },
    {
     "name": "stderr",
     "output_type": "stream",
     "text": [
      "Gene ENSG00000105668_BM_10_MSBB_eQTL_KNIGHT : Selected 4 variants in credible sets out of 5 total variants\n",
      "\n",
      "  Coverage distribution: cs_0.7 = 4\n",
      "\n"
     ]
    },
    {
     "name": "stdout",
     "output_type": "stream",
     "text": [
      "            ✓ Successfully extracted 4 CS variants for gene ENSG00000105668 in context BM_10_MSBB_eQTL cohort KNIGHT\n",
      "      Processing context: BM_22_MSBB_eQTL\n",
      "        2 genes in this context\n",
      "          Processing gene 1/2: ENSG00000126267\n",
      "            Loading weights from 1 database(s)\n",
      "            Found 5 variants in top_loci\n"
     ]
    },
    {
     "name": "stderr",
     "output_type": "stream",
     "text": [
      "Gene ENSG00000126267_BM_22_MSBB_eQTL_KNIGHT : Selected 4 variants in credible sets out of 5 total variants\n",
      "\n",
      "  Coverage distribution: cs_0.95 = 4\n",
      "\n"
     ]
    },
    {
     "name": "stdout",
     "output_type": "stream",
     "text": [
      "            ✓ Successfully extracted 4 CS variants for gene ENSG00000126267 in context BM_22_MSBB_eQTL cohort KNIGHT\n",
      "          Processing gene 2/2: ENSG00000011590\n"
     ]
    },
    {
     "name": "stderr",
     "output_type": "stream",
     "text": [
      "Warning message in doTryCatch(return(expr), name, parentenv, handler):\n",
      "“No weight database found for gene: ENSG00000011590 in cohort: KNIGHT”\n"
     ]
    },
    {
     "name": "stdout",
     "output_type": "stream",
     "text": [
      "      Processing context: BM_36_MSBB_eQTL\n",
      "        2 genes in this context\n",
      "          Processing gene 1/2: ENSG00000126267\n",
      "            Loading weights from 1 database(s)\n",
      "            Found 5 variants in top_loci\n"
     ]
    },
    {
     "name": "stderr",
     "output_type": "stream",
     "text": [
      "Gene ENSG00000126267_BM_36_MSBB_eQTL_KNIGHT : Selected 4 variants in credible sets out of 5 total variants\n",
      "\n",
      "  Coverage distribution: cs_0.95 = 4\n",
      "\n"
     ]
    },
    {
     "name": "stdout",
     "output_type": "stream",
     "text": [
      "            ✓ Successfully extracted 4 CS variants for gene ENSG00000126267 in context BM_36_MSBB_eQTL cohort KNIGHT\n",
      "          Processing gene 2/2: ENSG00000011590\n"
     ]
    },
    {
     "name": "stderr",
     "output_type": "stream",
     "text": [
      "Warning message in doTryCatch(return(expr), name, parentenv, handler):\n",
      "“No weight database found for gene: ENSG00000011590 in cohort: KNIGHT”\n"
     ]
    },
    {
     "name": "stdout",
     "output_type": "stream",
     "text": [
      "      Processing context: BM_44_MSBB_eQTL\n",
      "        3 genes in this context\n",
      "          Processing gene 1/3: ENSG00000126267\n",
      "            Loading weights from 1 database(s)\n",
      "            Found 5 variants in top_loci\n"
     ]
    },
    {
     "name": "stderr",
     "output_type": "stream",
     "text": [
      "Gene ENSG00000126267_BM_44_MSBB_eQTL_KNIGHT : Selected 4 variants in credible sets out of 5 total variants\n",
      "\n",
      "  Coverage distribution: cs_0.95 = 4\n",
      "\n"
     ]
    },
    {
     "name": "stdout",
     "output_type": "stream",
     "text": [
      "            ✓ Successfully extracted 4 CS variants for gene ENSG00000126267 in context BM_44_MSBB_eQTL cohort KNIGHT\n",
      "          Processing gene 2/3: ENSG00000011590\n"
     ]
    },
    {
     "name": "stderr",
     "output_type": "stream",
     "text": [
      "Warning message in doTryCatch(return(expr), name, parentenv, handler):\n",
      "“No weight database found for gene: ENSG00000011590 in cohort: KNIGHT”\n"
     ]
    },
    {
     "name": "stdout",
     "output_type": "stream",
     "text": [
      "          Processing gene 3/3: ENSG00000105668\n",
      "            Loading weights from 1 database(s)\n",
      "            Found 5 variants in top_loci\n"
     ]
    },
    {
     "name": "stderr",
     "output_type": "stream",
     "text": [
      "Gene ENSG00000105668_BM_44_MSBB_eQTL_KNIGHT : Selected 4 variants in credible sets out of 5 total variants\n",
      "\n",
      "  Coverage distribution: cs_0.7 = 4\n",
      "\n"
     ]
    },
    {
     "name": "stdout",
     "output_type": "stream",
     "text": [
      "            ✓ Successfully extracted 4 CS variants for gene ENSG00000105668 in context BM_44_MSBB_eQTL cohort KNIGHT\n",
      "      Processing context: PCC_DeJager_eQTL\n",
      "        2 genes in this context\n",
      "          Processing gene 1/2: ENSG00000126262\n",
      "            Loading weights from 1 database(s)\n",
      "            Found 2 variants in top_loci\n"
     ]
    },
    {
     "name": "stderr",
     "output_type": "stream",
     "text": [
      "Warning message in select_all_cs_variants(df, gene_context_cohort_id):\n",
      "“Gene ENSG00000126262_PCC_DeJager_eQTL_KNIGHT : No variants with credible set coverage > 0”\n",
      "Warning message in doTryCatch(return(expr), name, parentenv, handler):\n",
      "“Gene ENSG00000126262 in context PCC_DeJager_eQTL cohort KNIGHT : No CS variants found”\n"
     ]
    },
    {
     "name": "stdout",
     "output_type": "stream",
     "text": [
      "          Processing gene 2/2: ENSG00000126267\n",
      "            Loading weights from 1 database(s)\n",
      "            Found 5 variants in top_loci\n"
     ]
    },
    {
     "name": "stderr",
     "output_type": "stream",
     "text": [
      "Gene ENSG00000126267_PCC_DeJager_eQTL_KNIGHT : Selected 4 variants in credible sets out of 5 total variants\n",
      "\n",
      "  Coverage distribution: cs_0.95 = 4\n",
      "\n"
     ]
    },
    {
     "name": "stdout",
     "output_type": "stream",
     "text": [
      "            ✓ Successfully extracted 4 CS variants for gene ENSG00000126267 in context PCC_DeJager_eQTL cohort KNIGHT\n",
      "      Processing context: AC_DeJager_eQTL\n",
      "        1 genes in this context\n",
      "          Processing gene 1/1: ENSG00000126267\n",
      "            Loading weights from 1 database(s)\n",
      "            Found 5 variants in top_loci\n"
     ]
    },
    {
     "name": "stderr",
     "output_type": "stream",
     "text": [
      "Gene ENSG00000126267_AC_DeJager_eQTL_KNIGHT : Selected 4 variants in credible sets out of 5 total variants\n",
      "\n",
      "  Coverage distribution: cs_0.95 = 4\n",
      "\n"
     ]
    },
    {
     "name": "stdout",
     "output_type": "stream",
     "text": [
      "            ✓ Successfully extracted 4 CS variants for gene ENSG00000126267 in context AC_DeJager_eQTL cohort KNIGHT\n",
      "      Processing context: Exc_DeJager_eQTL\n",
      "        2 genes in this context\n",
      "          Processing gene 1/2: ENSG00000126267\n",
      "            Loading weights from 1 database(s)\n",
      "            Found 5 variants in top_loci\n"
     ]
    },
    {
     "name": "stderr",
     "output_type": "stream",
     "text": [
      "Gene ENSG00000126267_Exc_DeJager_eQTL_KNIGHT : Selected 4 variants in credible sets out of 5 total variants\n",
      "\n",
      "  Coverage distribution: cs_0.95 = 4\n",
      "\n"
     ]
    },
    {
     "name": "stdout",
     "output_type": "stream",
     "text": [
      "            ✓ Successfully extracted 4 CS variants for gene ENSG00000126267 in context Exc_DeJager_eQTL cohort KNIGHT\n",
      "          Processing gene 2/2: ENSG00000167595\n",
      "            Loading weights from 1 database(s)\n",
      "            Found 32 variants in top_loci\n"
     ]
    },
    {
     "name": "stderr",
     "output_type": "stream",
     "text": [
      "Gene ENSG00000167595_Exc_DeJager_eQTL_KNIGHT : Selected 32 variants in credible sets out of 32 total variants\n",
      "\n",
      "  Coverage distribution: cs_0.95 = 32\n",
      "\n"
     ]
    },
    {
     "name": "stdout",
     "output_type": "stream",
     "text": [
      "            ✓ Successfully extracted 32 CS variants for gene ENSG00000167595 in context Exc_DeJager_eQTL cohort KNIGHT\n",
      "      Processing context: Ast_DeJager_eQTL\n",
      "        1 genes in this context\n",
      "          Processing gene 1/1: ENSG00000272333\n",
      "            Loading weights from 1 database(s)\n",
      "            Found 1 variants in top_loci\n"
     ]
    },
    {
     "name": "stderr",
     "output_type": "stream",
     "text": [
      "Warning message in select_all_cs_variants(df, gene_context_cohort_id):\n",
      "“Gene ENSG00000272333_Ast_DeJager_eQTL_KNIGHT : No variants with credible set coverage > 0”\n",
      "Warning message in doTryCatch(return(expr), name, parentenv, handler):\n",
      "“Gene ENSG00000272333 in context Ast_DeJager_eQTL cohort KNIGHT : No CS variants found”\n"
     ]
    },
    {
     "name": "stdout",
     "output_type": "stream",
     "text": [
      "      Processing context: Oli_DeJager_eQTL\n",
      "        1 genes in this context\n",
      "          Processing gene 1/1: ENSG00000272333\n",
      "            Loading weights from 1 database(s)\n",
      "            Found 1 variants in top_loci\n"
     ]
    },
    {
     "name": "stderr",
     "output_type": "stream",
     "text": [
      "Warning message in select_all_cs_variants(df, gene_context_cohort_id):\n",
      "“Gene ENSG00000272333_Oli_DeJager_eQTL_KNIGHT : No variants with credible set coverage > 0”\n",
      "Warning message in doTryCatch(return(expr), name, parentenv, handler):\n",
      "“Gene ENSG00000272333 in context Oli_DeJager_eQTL cohort KNIGHT : No CS variants found”\n"
     ]
    },
    {
     "name": "stdout",
     "output_type": "stream",
     "text": [
      "      Processing context: Exc_mega_eQTL\n",
      "        1 genes in this context\n",
      "          Processing gene 1/1: ENSG00000167595\n",
      "            Loading weights from 1 database(s)\n",
      "            Found 32 variants in top_loci\n"
     ]
    },
    {
     "name": "stderr",
     "output_type": "stream",
     "text": [
      "Gene ENSG00000167595_Exc_mega_eQTL_KNIGHT : Selected 32 variants in credible sets out of 32 total variants\n",
      "\n",
      "  Coverage distribution: cs_0.95 = 32\n",
      "\n"
     ]
    },
    {
     "name": "stdout",
     "output_type": "stream",
     "text": [
      "            ✓ Successfully extracted 32 CS variants for gene ENSG00000167595 in context Exc_mega_eQTL cohort KNIGHT\n",
      "  Processing region 9/28: chr1_205972031_208461272\n",
      "    Found 2 significant genes across 2 contexts in region chr1_205972031_208461272\n",
      "    Contexts: BM_22_MSBB_eQTL, DLPFC_DeJager_eQTL\n",
      "      Processing context: BM_22_MSBB_eQTL\n",
      "        1 genes in this context\n",
      "          Processing gene 1/1: ENSG00000276600\n",
      "            Loading weights from 1 database(s)\n",
      "            Found 1 variants in top_loci\n"
     ]
    },
    {
     "name": "stderr",
     "output_type": "stream",
     "text": [
      "Warning message in select_all_cs_variants(df, gene_context_cohort_id):\n",
      "“Gene ENSG00000276600_BM_22_MSBB_eQTL_KNIGHT : No variants with credible set coverage > 0”\n",
      "Warning message in doTryCatch(return(expr), name, parentenv, handler):\n",
      "“Gene ENSG00000276600 in context BM_22_MSBB_eQTL cohort KNIGHT : No CS variants found”\n"
     ]
    },
    {
     "name": "stdout",
     "output_type": "stream",
     "text": [
      "      Processing context: DLPFC_DeJager_eQTL\n",
      "        1 genes in this context\n",
      "          Processing gene 1/1: ENSG00000198049\n",
      "            Loading weights from 1 database(s)\n",
      "            Found 2 variants in top_loci\n"
     ]
    },
    {
     "name": "stderr",
     "output_type": "stream",
     "text": [
      "Warning message in select_all_cs_variants(df, gene_context_cohort_id):\n",
      "“Gene ENSG00000198049_DLPFC_DeJager_eQTL_KNIGHT : No variants with credible set coverage > 0”\n",
      "Warning message in doTryCatch(return(expr), name, parentenv, handler):\n",
      "“Gene ENSG00000198049 in context DLPFC_DeJager_eQTL cohort KNIGHT : No CS variants found”\n"
     ]
    },
    {
     "name": "stdout",
     "output_type": "stream",
     "text": [
      "  Processing region 10/28: chr1_234364329_235656952\n",
      "    Found 2 significant genes across 2 contexts in region chr1_234364329_235656952\n",
      "    Contexts: MSBB_BM36_pQTL_chr1_O95749, Oli_mega_eQTL\n",
      "      Processing context: MSBB_BM36_pQTL_chr1_O95749\n",
      "        1 genes in this context\n",
      "          Processing gene 1/1: ENSG00000152904\n",
      "            Loading weights from 1 database(s)\n"
     ]
    },
    {
     "name": "stderr",
     "output_type": "stream",
     "text": [
      "Warning message in doTryCatch(return(expr), name, parentenv, handler):\n",
      "“Gene ENSG00000152904 in context MSBB_BM36_pQTL_chr1_O95749 cohort KNIGHT : No top_loci in susie results”\n"
     ]
    },
    {
     "name": "stdout",
     "output_type": "stream",
     "text": [
      "      Processing context: Oli_mega_eQTL\n",
      "        1 genes in this context\n",
      "          Processing gene 1/1: ENSG00000168264\n",
      "            Loading weights from 1 database(s)\n",
      "            Found 22 variants in top_loci\n"
     ]
    },
    {
     "name": "stderr",
     "output_type": "stream",
     "text": [
      "Gene ENSG00000168264_Oli_mega_eQTL_KNIGHT : Selected 17 variants in credible sets out of 22 total variants\n",
      "\n",
      "  Coverage distribution: cs_0.7 = 17\n",
      "\n"
     ]
    },
    {
     "name": "stdout",
     "output_type": "stream",
     "text": [
      "            ✓ Successfully extracted 17 CS variants for gene ENSG00000168264 in context Oli_mega_eQTL cohort KNIGHT\n",
      "  Processing region 11/28: chr2_25676346_29800507\n",
      "    Found 1 significant genes across 1 contexts in region chr2_25676346_29800507\n",
      "    Contexts: MSBB_BM36_pQTL_chr2_P50053-2\n",
      "      Processing context: MSBB_BM36_pQTL_chr2_P50053-2\n",
      "        1 genes in this context\n",
      "          Processing gene 1/1: ENSG00000138030\n",
      "            Loading weights from 1 database(s)\n"
     ]
    },
    {
     "name": "stderr",
     "output_type": "stream",
     "text": [
      "Warning message in doTryCatch(return(expr), name, parentenv, handler):\n",
      "“Gene ENSG00000138030 in context MSBB_BM36_pQTL_chr2_P50053-2 cohort KNIGHT : No top_loci in susie results”\n"
     ]
    },
    {
     "name": "stdout",
     "output_type": "stream",
     "text": [
      "  Processing region 12/28: chr3_156292136_159760299\n",
      "    Found 1 significant genes across 6 contexts in region chr3_156292136_159760299\n",
      "    Contexts: BM_36_MSBB_eQTL, AC_DeJager_eQTL, DLPFC_DeJager_eQTL, Oli_DeJager_eQTL, PCC_DeJager_eQTL, Oli_mega_eQTL\n",
      "      Processing context: BM_36_MSBB_eQTL\n",
      "        1 genes in this context\n",
      "          Processing gene 1/1: ENSG00000283154\n",
      "            Loading weights from 1 database(s)\n"
     ]
    },
    {
     "name": "stderr",
     "output_type": "stream",
     "text": [
      "Warning message in doTryCatch(return(expr), name, parentenv, handler):\n",
      "“Gene ENSG00000283154 in context BM_36_MSBB_eQTL cohort KNIGHT : No top_loci in susie results”\n"
     ]
    },
    {
     "name": "stdout",
     "output_type": "stream",
     "text": [
      "      Processing context: AC_DeJager_eQTL\n",
      "        1 genes in this context\n",
      "          Processing gene 1/1: ENSG00000283154\n",
      "            Loading weights from 1 database(s)\n"
     ]
    },
    {
     "name": "stderr",
     "output_type": "stream",
     "text": [
      "Warning message in doTryCatch(return(expr), name, parentenv, handler):\n",
      "“Gene ENSG00000283154 in context AC_DeJager_eQTL cohort KNIGHT : No top_loci in susie results”\n"
     ]
    },
    {
     "name": "stdout",
     "output_type": "stream",
     "text": [
      "      Processing context: DLPFC_DeJager_eQTL\n",
      "        1 genes in this context\n",
      "          Processing gene 1/1: ENSG00000283154\n",
      "            Loading weights from 1 database(s)\n"
     ]
    },
    {
     "name": "stderr",
     "output_type": "stream",
     "text": [
      "Warning message in doTryCatch(return(expr), name, parentenv, handler):\n",
      "“Gene ENSG00000283154 in context DLPFC_DeJager_eQTL cohort KNIGHT : No top_loci in susie results”\n"
     ]
    },
    {
     "name": "stdout",
     "output_type": "stream",
     "text": [
      "      Processing context: Oli_DeJager_eQTL\n",
      "        1 genes in this context\n",
      "          Processing gene 1/1: ENSG00000283154\n",
      "            Loading weights from 1 database(s)\n"
     ]
    },
    {
     "name": "stderr",
     "output_type": "stream",
     "text": [
      "Warning message in doTryCatch(return(expr), name, parentenv, handler):\n",
      "“Gene ENSG00000283154 in context Oli_DeJager_eQTL cohort KNIGHT : No top_loci in susie results”\n"
     ]
    },
    {
     "name": "stdout",
     "output_type": "stream",
     "text": [
      "      Processing context: PCC_DeJager_eQTL\n",
      "        1 genes in this context\n",
      "          Processing gene 1/1: ENSG00000283154\n",
      "            Loading weights from 1 database(s)\n"
     ]
    },
    {
     "name": "stderr",
     "output_type": "stream",
     "text": [
      "Warning message in doTryCatch(return(expr), name, parentenv, handler):\n",
      "“Gene ENSG00000283154 in context PCC_DeJager_eQTL cohort KNIGHT : No top_loci in susie results”\n"
     ]
    },
    {
     "name": "stdout",
     "output_type": "stream",
     "text": [
      "      Processing context: Oli_mega_eQTL\n",
      "        1 genes in this context\n",
      "          Processing gene 1/1: ENSG00000283154\n",
      "            Loading weights from 1 database(s)\n"
     ]
    },
    {
     "name": "stderr",
     "output_type": "stream",
     "text": [
      "Warning message in doTryCatch(return(expr), name, parentenv, handler):\n",
      "“Gene ENSG00000283154 in context Oli_mega_eQTL cohort KNIGHT : No top_loci in susie results”\n"
     ]
    },
    {
     "name": "stdout",
     "output_type": "stream",
     "text": [
      "  Processing region 13/28: chr7_43119648_45483849\n",
      "    Found 1 significant genes across 1 contexts in region chr7_43119648_45483849\n",
      "    Contexts: BM_22_MSBB_eQTL\n",
      "      Processing context: BM_22_MSBB_eQTL\n",
      "        1 genes in this context\n",
      "          Processing gene 1/1: ENSG00000164543\n",
      "            Loading weights from 1 database(s)\n",
      "            Found 17 variants in top_loci\n"
     ]
    },
    {
     "name": "stderr",
     "output_type": "stream",
     "text": [
      "Gene ENSG00000164543_BM_22_MSBB_eQTL_KNIGHT : Selected 15 variants in credible sets out of 17 total variants\n",
      "\n",
      "  Coverage distribution: cs_0.5 = 15\n",
      "\n"
     ]
    },
    {
     "name": "stdout",
     "output_type": "stream",
     "text": [
      "            ✓ Successfully extracted 15 CS variants for gene ENSG00000164543 in context BM_22_MSBB_eQTL cohort KNIGHT\n",
      "  Processing region 14/28: chr10_100331627_104378781\n",
      "    Found 1 significant genes across 1 contexts in region chr10_100331627_104378781\n",
      "    Contexts: Exc_DeJager_eQTL\n",
      "      Processing context: Exc_DeJager_eQTL\n",
      "        1 genes in this context\n",
      "          Processing gene 1/1: ENSG00000107960\n",
      "            Loading weights from 1 database(s)\n",
      "            Found 31 variants in top_loci\n"
     ]
    },
    {
     "name": "stderr",
     "output_type": "stream",
     "text": [
      "Gene ENSG00000107960_Exc_DeJager_eQTL_KNIGHT : Selected 29 variants in credible sets out of 31 total variants\n",
      "\n",
      "  Coverage distribution: cs_0.95 = 29\n",
      "\n"
     ]
    },
    {
     "name": "stdout",
     "output_type": "stream",
     "text": [
      "            ✓ Successfully extracted 29 CS variants for gene ENSG00000107960 in context Exc_DeJager_eQTL cohort KNIGHT\n",
      "  Processing region 15/28: chr16_51830934_54306975\n",
      "    Found 1 significant genes across 2 contexts in region chr16_51830934_54306975\n",
      "    Contexts: Oli_DeJager_eQTL, Oli_mega_eQTL\n",
      "      Processing context: Oli_DeJager_eQTL\n",
      "        1 genes in this context\n",
      "          Processing gene 1/1: ENSG00000103460\n",
      "            Loading weights from 1 database(s)\n"
     ]
    },
    {
     "name": "stderr",
     "output_type": "stream",
     "text": [
      "Warning message in doTryCatch(return(expr), name, parentenv, handler):\n",
      "“Gene ENSG00000103460 in context Oli_DeJager_eQTL cohort KNIGHT : No top_loci in susie results”\n"
     ]
    },
    {
     "name": "stdout",
     "output_type": "stream",
     "text": [
      "      Processing context: Oli_mega_eQTL\n",
      "        1 genes in this context\n",
      "          Processing gene 1/1: ENSG00000103460\n",
      "            Loading weights from 1 database(s)\n"
     ]
    },
    {
     "name": "stderr",
     "output_type": "stream",
     "text": [
      "Warning message in doTryCatch(return(expr), name, parentenv, handler):\n",
      "“Gene ENSG00000103460 in context Oli_mega_eQTL cohort KNIGHT : No top_loci in susie results”\n"
     ]
    },
    {
     "name": "stdout",
     "output_type": "stream",
     "text": [
      "  Processing region 16/28: chr16_88382277_90220225\n",
      "    Found 3 significant genes across 5 contexts in region chr16_88382277_90220225\n",
      "    Contexts: Exc_DeJager_eQTL, PCC_DeJager_eQTL, AC_DeJager_eQTL, DLPFC_DeJager_eQTL, Oli_mega_eQTL\n",
      "      Processing context: Exc_DeJager_eQTL\n",
      "        1 genes in this context\n",
      "          Processing gene 1/1: ENSG00000141002\n",
      "            Loading weights from 1 database(s)\n",
      "            Found 1 variants in top_loci\n"
     ]
    },
    {
     "name": "stderr",
     "output_type": "stream",
     "text": [
      "Warning message in select_all_cs_variants(df, gene_context_cohort_id):\n",
      "“Gene ENSG00000141002_Exc_DeJager_eQTL_KNIGHT : No variants with credible set coverage > 0”\n",
      "Warning message in doTryCatch(return(expr), name, parentenv, handler):\n",
      "“Gene ENSG00000141002 in context Exc_DeJager_eQTL cohort KNIGHT : No CS variants found”\n"
     ]
    },
    {
     "name": "stdout",
     "output_type": "stream",
     "text": [
      "      Processing context: PCC_DeJager_eQTL\n",
      "        2 genes in this context\n",
      "          Processing gene 1/2: ENSG00000185324\n",
      "            Loading weights from 1 database(s)\n",
      "            Found 18 variants in top_loci\n"
     ]
    },
    {
     "name": "stderr",
     "output_type": "stream",
     "text": [
      "Gene ENSG00000185324_PCC_DeJager_eQTL_KNIGHT : Selected 16 variants in credible sets out of 18 total variants\n",
      "\n",
      "  Coverage distribution: cs_0.95 = 16\n",
      "\n"
     ]
    },
    {
     "name": "stdout",
     "output_type": "stream",
     "text": [
      "            ✓ Successfully extracted 16 CS variants for gene ENSG00000185324 in context PCC_DeJager_eQTL cohort KNIGHT\n",
      "          Processing gene 2/2: ENSG00000258839\n",
      "            Loading weights from 1 database(s)\n",
      "            Found 260 variants in top_loci\n"
     ]
    },
    {
     "name": "stderr",
     "output_type": "stream",
     "text": [
      "Gene ENSG00000258839_PCC_DeJager_eQTL_KNIGHT : Selected 260 variants in credible sets out of 260 total variants\n",
      "\n",
      "  Coverage distribution: cs_0.7 = 260\n",
      "\n"
     ]
    },
    {
     "name": "stdout",
     "output_type": "stream",
     "text": [
      "            ✓ Successfully extracted 260 CS variants for gene ENSG00000258839 in context PCC_DeJager_eQTL cohort KNIGHT\n",
      "      Processing context: AC_DeJager_eQTL\n",
      "        1 genes in this context\n",
      "          Processing gene 1/1: ENSG00000258839\n",
      "            Loading weights from 1 database(s)\n",
      "            Found 260 variants in top_loci\n"
     ]
    },
    {
     "name": "stderr",
     "output_type": "stream",
     "text": [
      "Gene ENSG00000258839_AC_DeJager_eQTL_KNIGHT : Selected 260 variants in credible sets out of 260 total variants\n",
      "\n",
      "  Coverage distribution: cs_0.7 = 260\n",
      "\n"
     ]
    },
    {
     "name": "stdout",
     "output_type": "stream",
     "text": [
      "            ✓ Successfully extracted 260 CS variants for gene ENSG00000258839 in context AC_DeJager_eQTL cohort KNIGHT\n",
      "      Processing context: DLPFC_DeJager_eQTL\n",
      "        1 genes in this context\n",
      "          Processing gene 1/1: ENSG00000258839\n",
      "            Loading weights from 1 database(s)\n",
      "            Found 260 variants in top_loci\n"
     ]
    },
    {
     "name": "stderr",
     "output_type": "stream",
     "text": [
      "Gene ENSG00000258839_DLPFC_DeJager_eQTL_KNIGHT : Selected 260 variants in credible sets out of 260 total variants\n",
      "\n",
      "  Coverage distribution: cs_0.7 = 260\n",
      "\n"
     ]
    },
    {
     "name": "stdout",
     "output_type": "stream",
     "text": [
      "            ✓ Successfully extracted 260 CS variants for gene ENSG00000258839 in context DLPFC_DeJager_eQTL cohort KNIGHT\n",
      "      Processing context: Oli_mega_eQTL\n",
      "        1 genes in this context\n",
      "          Processing gene 1/1: ENSG00000185324\n",
      "            Loading weights from 1 database(s)\n",
      "            Found 18 variants in top_loci\n"
     ]
    },
    {
     "name": "stderr",
     "output_type": "stream",
     "text": [
      "Gene ENSG00000185324_Oli_mega_eQTL_KNIGHT : Selected 16 variants in credible sets out of 18 total variants\n",
      "\n",
      "  Coverage distribution: cs_0.95 = 16\n",
      "\n"
     ]
    },
    {
     "name": "stdout",
     "output_type": "stream",
     "text": [
      "            ✓ Successfully extracted 16 CS variants for gene ENSG00000185324 in context Oli_mega_eQTL cohort KNIGHT\n",
      "  Processing region 17/28: chr17_27951253_31594410\n",
      "    Found 2 significant genes across 2 contexts in region chr17_27951253_31594410\n",
      "    Contexts: AC_DeJager_eQTL, DLPFC_DeJager_eQTL\n",
      "      Processing context: AC_DeJager_eQTL\n",
      "        1 genes in this context\n",
      "          Processing gene 1/1: ENSG00000141298\n",
      "            Loading weights from 1 database(s)\n",
      "            Found 197 variants in top_loci\n"
     ]
    },
    {
     "name": "stderr",
     "output_type": "stream",
     "text": [
      "Gene ENSG00000141298_AC_DeJager_eQTL_KNIGHT : Selected 196 variants in credible sets out of 197 total variants\n",
      "\n",
      "  Coverage distribution: cs_0.95 = 196\n",
      "\n"
     ]
    },
    {
     "name": "stdout",
     "output_type": "stream",
     "text": [
      "            ✓ Successfully extracted 196 CS variants for gene ENSG00000141298 in context AC_DeJager_eQTL cohort KNIGHT\n",
      "      Processing context: DLPFC_DeJager_eQTL\n",
      "        1 genes in this context\n",
      "          Processing gene 1/1: ENSG00000126860\n",
      "            Loading weights from 1 database(s)\n",
      "            Found 45 variants in top_loci\n"
     ]
    },
    {
     "name": "stderr",
     "output_type": "stream",
     "text": [
      "Gene ENSG00000126860_DLPFC_DeJager_eQTL_KNIGHT : Selected 45 variants in credible sets out of 45 total variants\n",
      "\n",
      "  Coverage distribution: cs_0.5 = 45\n",
      "\n"
     ]
    },
    {
     "name": "stdout",
     "output_type": "stream",
     "text": [
      "            ✓ Successfully extracted 45 CS variants for gene ENSG00000126860 in context DLPFC_DeJager_eQTL cohort KNIGHT\n",
      "  Processing region 18/28: chr1_106225286_109761915\n",
      "    Found 1 significant genes across 1 contexts in region chr1_106225286_109761915\n",
      "    Contexts: Ast_DeJager_eQTL\n",
      "      Processing context: Ast_DeJager_eQTL\n",
      "        1 genes in this context\n",
      "          Processing gene 1/1: ENSG00000197780\n",
      "            Loading weights from 1 database(s)\n",
      "            Found 2 variants in top_loci\n"
     ]
    },
    {
     "name": "stderr",
     "output_type": "stream",
     "text": [
      "Warning message in select_all_cs_variants(df, gene_context_cohort_id):\n",
      "“Gene ENSG00000197780_Ast_DeJager_eQTL_KNIGHT : No variants with credible set coverage > 0”\n",
      "Warning message in doTryCatch(return(expr), name, parentenv, handler):\n",
      "“Gene ENSG00000197780 in context Ast_DeJager_eQTL cohort KNIGHT : No CS variants found”\n"
     ]
    },
    {
     "name": "stdout",
     "output_type": "stream",
     "text": [
      "  Processing region 19/28: chr1_214114077_215979204\n",
      "    Found 1 significant genes across 3 contexts in region chr1_214114077_215979204\n",
      "    Contexts: DLPFC_DeJager_eQTL, Exc_DeJager_eQTL, Exc_mega_eQTL\n",
      "      Processing context: DLPFC_DeJager_eQTL\n",
      "        1 genes in this context\n",
      "          Processing gene 1/1: ENSG00000082482\n",
      "            Loading weights from 1 database(s)\n",
      "            Found 2 variants in top_loci\n"
     ]
    },
    {
     "name": "stderr",
     "output_type": "stream",
     "text": [
      "Warning message in select_all_cs_variants(df, gene_context_cohort_id):\n",
      "“Gene ENSG00000082482_DLPFC_DeJager_eQTL_KNIGHT : No variants with credible set coverage > 0”\n",
      "Warning message in doTryCatch(return(expr), name, parentenv, handler):\n",
      "“Gene ENSG00000082482 in context DLPFC_DeJager_eQTL cohort KNIGHT : No CS variants found”\n"
     ]
    },
    {
     "name": "stdout",
     "output_type": "stream",
     "text": [
      "      Processing context: Exc_DeJager_eQTL\n",
      "        1 genes in this context\n",
      "          Processing gene 1/1: ENSG00000082482\n",
      "            Loading weights from 1 database(s)\n",
      "            Found 2 variants in top_loci\n"
     ]
    },
    {
     "name": "stderr",
     "output_type": "stream",
     "text": [
      "Warning message in select_all_cs_variants(df, gene_context_cohort_id):\n",
      "“Gene ENSG00000082482_Exc_DeJager_eQTL_KNIGHT : No variants with credible set coverage > 0”\n",
      "Warning message in doTryCatch(return(expr), name, parentenv, handler):\n",
      "“Gene ENSG00000082482 in context Exc_DeJager_eQTL cohort KNIGHT : No CS variants found”\n"
     ]
    },
    {
     "name": "stdout",
     "output_type": "stream",
     "text": [
      "      Processing context: Exc_mega_eQTL\n",
      "        1 genes in this context\n",
      "          Processing gene 1/1: ENSG00000082482\n",
      "            Loading weights from 1 database(s)\n",
      "            Found 2 variants in top_loci\n"
     ]
    },
    {
     "name": "stderr",
     "output_type": "stream",
     "text": [
      "Warning message in select_all_cs_variants(df, gene_context_cohort_id):\n",
      "“Gene ENSG00000082482_Exc_mega_eQTL_KNIGHT : No variants with credible set coverage > 0”\n",
      "Warning message in doTryCatch(return(expr), name, parentenv, handler):\n",
      "“Gene ENSG00000082482 in context Exc_mega_eQTL cohort KNIGHT : No CS variants found”\n"
     ]
    },
    {
     "name": "stdout",
     "output_type": "stream",
     "text": [
      "  Processing region 20/28: chr2_187801142_191595348\n",
      "    Found 1 significant genes across 1 contexts in region chr2_187801142_191595348\n",
      "    Contexts: Ast_DeJager_eQTL\n",
      "      Processing context: Ast_DeJager_eQTL\n",
      "        1 genes in this context\n",
      "          Processing gene 1/1: ENSG00000115368\n",
      "            Loading weights from 1 database(s)\n",
      "            Found 439 variants in top_loci\n"
     ]
    },
    {
     "name": "stderr",
     "output_type": "stream",
     "text": [
      "Gene ENSG00000115368_Ast_DeJager_eQTL_KNIGHT : Selected 439 variants in credible sets out of 439 total variants\n",
      "\n",
      "  Coverage distribution: cs_0.95 = 439\n",
      "\n"
     ]
    },
    {
     "name": "stdout",
     "output_type": "stream",
     "text": [
      "            ✓ Successfully extracted 439 CS variants for gene ENSG00000115368 in context Ast_DeJager_eQTL cohort KNIGHT\n",
      "  Processing region 21/28: chr6_3574220_4657971\n",
      "    Found 1 significant genes across 1 contexts in region chr6_3574220_4657971\n",
      "    Contexts: Oli_DeJager_eQTL\n",
      "      Processing context: Oli_DeJager_eQTL\n",
      "        1 genes in this context\n",
      "          Processing gene 1/1: ENSG00000112739\n",
      "            Loading weights from 1 database(s)\n",
      "            Found 2 variants in top_loci\n"
     ]
    },
    {
     "name": "stderr",
     "output_type": "stream",
     "text": [
      "Warning message in select_all_cs_variants(df, gene_context_cohort_id):\n",
      "“Gene ENSG00000112739_Oli_DeJager_eQTL_KNIGHT : No variants with credible set coverage > 0”\n",
      "Warning message in doTryCatch(return(expr), name, parentenv, handler):\n",
      "“Gene ENSG00000112739 in context Oli_DeJager_eQTL cohort KNIGHT : No CS variants found”\n"
     ]
    },
    {
     "name": "stdout",
     "output_type": "stream",
     "text": [
      "  Processing region 22/28: chr8_117613122_120167358\n",
      "    Found 1 significant genes across 1 contexts in region chr8_117613122_120167358\n",
      "    Contexts: Exc_DeJager_eQTL\n",
      "      Processing context: Exc_DeJager_eQTL\n",
      "        1 genes in this context\n",
      "          Processing gene 1/1: ENSG00000147676\n",
      "            Loading weights from 1 database(s)\n",
      "            Found 1 variants in top_loci\n"
     ]
    },
    {
     "name": "stderr",
     "output_type": "stream",
     "text": [
      "Warning message in select_all_cs_variants(df, gene_context_cohort_id):\n",
      "“Gene ENSG00000147676_Exc_DeJager_eQTL_KNIGHT : No variants with credible set coverage > 0”\n",
      "Warning message in doTryCatch(return(expr), name, parentenv, handler):\n",
      "“Gene ENSG00000147676 in context Exc_DeJager_eQTL cohort KNIGHT : No CS variants found”\n"
     ]
    },
    {
     "name": "stdout",
     "output_type": "stream",
     "text": [
      "  Processing region 23/28: chr8_30324658_31407027\n",
      "    Found 1 significant genes across 1 contexts in region chr8_30324658_31407027\n",
      "    Contexts: Exc_DeJager_eQTL\n",
      "      Processing context: Exc_DeJager_eQTL\n",
      "        1 genes in this context\n",
      "          Processing gene 1/1: ENSG00000172733\n",
      "            Loading weights from 1 database(s)\n",
      "            Found 8 variants in top_loci\n"
     ]
    },
    {
     "name": "stderr",
     "output_type": "stream",
     "text": [
      "Gene ENSG00000172733_Exc_DeJager_eQTL_KNIGHT : Selected 8 variants in credible sets out of 8 total variants\n",
      "\n",
      "  Coverage distribution: cs_0.7 = 8\n",
      "\n"
     ]
    },
    {
     "name": "stdout",
     "output_type": "stream",
     "text": [
      "            ✓ Successfully extracted 8 CS variants for gene ENSG00000172733 in context Exc_DeJager_eQTL cohort KNIGHT\n",
      "  Processing region 24/28: chr17_60570445_65149278\n",
      "    Found 1 significant genes across 1 contexts in region chr17_60570445_65149278\n",
      "    Contexts: Ast_mega_eQTL\n",
      "      Processing context: Ast_mega_eQTL\n",
      "        1 genes in this context\n",
      "          Processing gene 1/1: ENSG00000108604\n",
      "            Loading weights from 1 database(s)\n",
      "            Found 108 variants in top_loci\n"
     ]
    },
    {
     "name": "stderr",
     "output_type": "stream",
     "text": [
      "Gene ENSG00000108604_Ast_mega_eQTL_KNIGHT : Selected 106 variants in credible sets out of 108 total variants\n",
      "\n",
      "  Coverage distribution: cs_0.95 = 106\n",
      "\n"
     ]
    },
    {
     "name": "stdout",
     "output_type": "stream",
     "text": [
      "            ✓ Successfully extracted 106 CS variants for gene ENSG00000108604 in context Ast_mega_eQTL cohort KNIGHT\n",
      "  Processing region 25/28: chr6_145632539_148538997\n",
      "    Found 1 significant genes across 1 contexts in region chr6_145632539_148538997\n",
      "    Contexts: Oli_mega_eQTL\n",
      "      Processing context: Oli_mega_eQTL\n",
      "        1 genes in this context\n",
      "          Processing gene 1/1: ENSG00000146414\n",
      "            Loading weights from 1 database(s)\n",
      "            Found 427 variants in top_loci\n"
     ]
    },
    {
     "name": "stderr",
     "output_type": "stream",
     "text": [
      "Gene ENSG00000146414_Oli_mega_eQTL_KNIGHT : Selected 427 variants in credible sets out of 427 total variants\n",
      "\n",
      "  Coverage distribution: cs_0.95 = 427\n",
      "\n"
     ]
    },
    {
     "name": "stdout",
     "output_type": "stream",
     "text": [
      "            ✓ Successfully extracted 427 CS variants for gene ENSG00000146414 in context Oli_mega_eQTL cohort KNIGHT\n",
      "  Processing region 26/28: chr7_139984618_141109068\n",
      "    Found 1 significant genes across 1 contexts in region chr7_139984618_141109068\n",
      "    Contexts: Ast_mega_eQTL\n",
      "      Processing context: Ast_mega_eQTL\n",
      "        1 genes in this context\n",
      "          Processing gene 1/1: ENSG00000157764\n",
      "            Loading weights from 1 database(s)\n",
      "            Found 4 variants in top_loci\n"
     ]
    },
    {
     "name": "stderr",
     "output_type": "stream",
     "text": [
      "Warning message in select_all_cs_variants(df, gene_context_cohort_id):\n",
      "“Gene ENSG00000157764_Ast_mega_eQTL_KNIGHT : No variants with credible set coverage > 0”\n",
      "Warning message in doTryCatch(return(expr), name, parentenv, handler):\n",
      "“Gene ENSG00000157764 in context Ast_mega_eQTL cohort KNIGHT : No CS variants found”\n"
     ]
    },
    {
     "name": "stdout",
     "output_type": "stream",
     "text": [
      "  Processing region 27/28: chr8_6537503_8880095\n",
      "    Found 1 significant genes across 1 contexts in region chr8_6537503_8880095\n",
      "    Contexts: OPC_mega_eQTL\n",
      "      Processing context: OPC_mega_eQTL\n",
      "        1 genes in this context\n",
      "          Processing gene 1/1: ENSG00000091879\n",
      "            Loading weights from 2 database(s)\n"
     ]
    },
    {
     "name": "stderr",
     "output_type": "stream",
     "text": [
      "Warning message in doTryCatch(return(expr), name, parentenv, handler):\n",
      "“Gene ENSG00000091879 in context OPC_mega_eQTL cohort KNIGHT : No top_loci in susie results”\n"
     ]
    },
    {
     "name": "stdout",
     "output_type": "stream",
     "text": [
      "  Processing region 28/28: chr12_54557704_56408332\n",
      "    Found 1 significant genes across 1 contexts in region chr12_54557704_56408332\n",
      "    Contexts: ROSMAP_AC_sQTL_chr12:56226419:56229013:clu_90187_+:PR:ENSG00000139579\n",
      "      Processing context: ROSMAP_AC_sQTL_chr12:56226419:56229013:clu_90187_+:PR:ENSG00000139579\n",
      "        1 genes in this context\n",
      "          Processing gene 1/1: ENSG00000139579\n",
      "            Loading weights from 1 database(s)\n"
     ]
    },
    {
     "name": "stderr",
     "output_type": "stream",
     "text": [
      "Warning message in doTryCatch(return(expr), name, parentenv, handler):\n",
      "“Gene ENSG00000139579 in context ROSMAP_AC_sQTL_chr12:56226419:56229013:clu_90187_+:PR:ENSG00000139579 cohort KNIGHT : No top_loci in susie results”\n"
     ]
    },
    {
     "name": "stdout",
     "output_type": "stream",
     "text": [
      "  Completed cohort KNIGHT: 55/102 genes with credible sets, 2801 total CS variants\n",
      "\n",
      "=== PROCESSING COHORT 2/4: MSBB ===\n",
      "Loading weight database metadata: ~/project/image_QTL/twas/MSBB_eQTL_pQTL_twas_wgw_xqtl_meta_data.tsv\n",
      "Loaded 17466 weight database entries for MSBB\n",
      "  Processing region 1/28: chr1_16103_2888443\n",
      "    Found 2 significant genes across 9 contexts in region chr1_16103_2888443\n",
      "    Contexts: Knight_eQTL_brain, BM_10_MSBB_eQTL, BM_22_MSBB_eQTL, BM_36_MSBB_eQTL, BM_44_MSBB_eQTL, Exc_DeJager_eQTL, AC_DeJager_eQTL, DLPFC_DeJager_eQTL, PCC_DeJager_eQTL\n",
      "      Processing context: Knight_eQTL_brain\n",
      "        1 genes in this context\n",
      "          Processing gene 1/1: ENSG00000142609\n",
      "            Loading weights from 3 database(s)\n",
      "            Found 23 variants in top_loci\n"
     ]
    },
    {
     "name": "stderr",
     "output_type": "stream",
     "text": [
      "Gene ENSG00000142609_Knight_eQTL_brain_MSBB : Selected 19 variants in credible sets out of 23 total variants\n",
      "\n",
      "  Coverage distribution: cs_0.5 = 19\n",
      "\n"
     ]
    },
    {
     "name": "stdout",
     "output_type": "stream",
     "text": [
      "            ✓ Successfully extracted 19 CS variants for gene ENSG00000142609 in context Knight_eQTL_brain cohort MSBB\n",
      "      Processing context: BM_10_MSBB_eQTL\n",
      "        1 genes in this context\n",
      "          Processing gene 1/1: ENSG00000142609\n",
      "            Loading weights from 3 database(s)\n",
      "            Found 23 variants in top_loci\n"
     ]
    },
    {
     "name": "stderr",
     "output_type": "stream",
     "text": [
      "Gene ENSG00000142609_BM_10_MSBB_eQTL_MSBB : Selected 19 variants in credible sets out of 23 total variants\n",
      "\n",
      "  Coverage distribution: cs_0.5 = 19\n",
      "\n"
     ]
    },
    {
     "name": "stdout",
     "output_type": "stream",
     "text": [
      "            ✓ Successfully extracted 19 CS variants for gene ENSG00000142609 in context BM_10_MSBB_eQTL cohort MSBB\n",
      "      Processing context: BM_22_MSBB_eQTL\n",
      "        1 genes in this context\n",
      "          Processing gene 1/1: ENSG00000142609\n",
      "            Loading weights from 3 database(s)\n",
      "            Found 23 variants in top_loci\n"
     ]
    },
    {
     "name": "stderr",
     "output_type": "stream",
     "text": [
      "Gene ENSG00000142609_BM_22_MSBB_eQTL_MSBB : Selected 19 variants in credible sets out of 23 total variants\n",
      "\n",
      "  Coverage distribution: cs_0.5 = 19\n",
      "\n"
     ]
    },
    {
     "name": "stdout",
     "output_type": "stream",
     "text": [
      "            ✓ Successfully extracted 19 CS variants for gene ENSG00000142609 in context BM_22_MSBB_eQTL cohort MSBB\n",
      "      Processing context: BM_36_MSBB_eQTL\n",
      "        1 genes in this context\n",
      "          Processing gene 1/1: ENSG00000142609\n",
      "            Loading weights from 3 database(s)\n",
      "            Found 23 variants in top_loci\n"
     ]
    },
    {
     "name": "stderr",
     "output_type": "stream",
     "text": [
      "Gene ENSG00000142609_BM_36_MSBB_eQTL_MSBB : Selected 19 variants in credible sets out of 23 total variants\n",
      "\n",
      "  Coverage distribution: cs_0.5 = 19\n",
      "\n"
     ]
    },
    {
     "name": "stdout",
     "output_type": "stream",
     "text": [
      "            ✓ Successfully extracted 19 CS variants for gene ENSG00000142609 in context BM_36_MSBB_eQTL cohort MSBB\n",
      "      Processing context: BM_44_MSBB_eQTL\n",
      "        1 genes in this context\n",
      "          Processing gene 1/1: ENSG00000142609\n",
      "            Loading weights from 3 database(s)\n",
      "            Found 23 variants in top_loci\n"
     ]
    },
    {
     "name": "stderr",
     "output_type": "stream",
     "text": [
      "Gene ENSG00000142609_BM_44_MSBB_eQTL_MSBB : Selected 19 variants in credible sets out of 23 total variants\n",
      "\n",
      "  Coverage distribution: cs_0.5 = 19\n",
      "\n"
     ]
    },
    {
     "name": "stdout",
     "output_type": "stream",
     "text": [
      "            ✓ Successfully extracted 19 CS variants for gene ENSG00000142609 in context BM_44_MSBB_eQTL cohort MSBB\n",
      "      Processing context: Exc_DeJager_eQTL\n",
      "        1 genes in this context\n",
      "          Processing gene 1/1: ENSG00000197785\n",
      "            Loading weights from 3 database(s)\n"
     ]
    },
    {
     "name": "stderr",
     "output_type": "stream",
     "text": [
      "list twas_weights is not found in ENSG00000197785.  \n",
      "\n",
      "\n",
      "Warning message in doTryCatch(return(expr), name, parentenv, handler):\n",
      "“Gene ENSG00000197785 in context Exc_DeJager_eQTL cohort MSBB : load_twas_weights() did not return a list”\n"
     ]
    },
    {
     "name": "stdout",
     "output_type": "stream",
     "text": [
      "      Processing context: AC_DeJager_eQTL\n",
      "        1 genes in this context\n",
      "          Processing gene 1/1: ENSG00000142609\n",
      "            Loading weights from 3 database(s)\n",
      "            Found 23 variants in top_loci\n"
     ]
    },
    {
     "name": "stderr",
     "output_type": "stream",
     "text": [
      "Gene ENSG00000142609_AC_DeJager_eQTL_MSBB : Selected 19 variants in credible sets out of 23 total variants\n",
      "\n",
      "  Coverage distribution: cs_0.5 = 19\n",
      "\n"
     ]
    },
    {
     "name": "stdout",
     "output_type": "stream",
     "text": [
      "            ✓ Successfully extracted 19 CS variants for gene ENSG00000142609 in context AC_DeJager_eQTL cohort MSBB\n",
      "      Processing context: DLPFC_DeJager_eQTL\n",
      "        1 genes in this context\n",
      "          Processing gene 1/1: ENSG00000142609\n",
      "            Loading weights from 3 database(s)\n",
      "            Found 23 variants in top_loci\n"
     ]
    },
    {
     "name": "stderr",
     "output_type": "stream",
     "text": [
      "Gene ENSG00000142609_DLPFC_DeJager_eQTL_MSBB : Selected 19 variants in credible sets out of 23 total variants\n",
      "\n",
      "  Coverage distribution: cs_0.5 = 19\n",
      "\n"
     ]
    },
    {
     "name": "stdout",
     "output_type": "stream",
     "text": [
      "            ✓ Successfully extracted 19 CS variants for gene ENSG00000142609 in context DLPFC_DeJager_eQTL cohort MSBB\n",
      "      Processing context: PCC_DeJager_eQTL\n",
      "        1 genes in this context\n",
      "          Processing gene 1/1: ENSG00000142609\n",
      "            Loading weights from 3 database(s)\n",
      "            Found 23 variants in top_loci\n"
     ]
    },
    {
     "name": "stderr",
     "output_type": "stream",
     "text": [
      "Gene ENSG00000142609_PCC_DeJager_eQTL_MSBB : Selected 19 variants in credible sets out of 23 total variants\n",
      "\n",
      "  Coverage distribution: cs_0.5 = 19\n",
      "\n"
     ]
    },
    {
     "name": "stdout",
     "output_type": "stream",
     "text": [
      "            ✓ Successfully extracted 19 CS variants for gene ENSG00000142609 in context PCC_DeJager_eQTL cohort MSBB\n",
      "  Processing region 2/28: chr1_204142966_205972031\n",
      "    Found 4 significant genes across 17 contexts in region chr1_204142966_205972031\n",
      "    Contexts: Knight_eQTL_brain, BM_10_MSBB_eQTL, BM_22_MSBB_eQTL, BM_36_MSBB_eQTL, BM_44_MSBB_eQTL, monocyte_ROSMAP_eQTL, Ast_DeJager_eQTL, Exc_DeJager_eQTL, Inh_DeJager_eQTL, Oli_DeJager_eQTL, PCC_DeJager_eQTL, AC_DeJager_eQTL, DLPFC_DeJager_eQTL, Ast_mega_eQTL, Exc_mega_eQTL, Inh_mega_eQTL, Oli_mega_eQTL\n",
      "      Processing context: Knight_eQTL_brain\n",
      "        2 genes in this context\n",
      "          Processing gene 1/2: ENSG00000117280\n",
      "            Loading weights from 3 database(s)\n",
      "            Found 11 variants in top_loci\n"
     ]
    },
    {
     "name": "stderr",
     "output_type": "stream",
     "text": [
      "Gene ENSG00000117280_Knight_eQTL_brain_MSBB : Selected 5 variants in credible sets out of 11 total variants\n",
      "\n",
      "  Coverage distribution: cs_0.7 = 5\n",
      "\n"
     ]
    },
    {
     "name": "stdout",
     "output_type": "stream",
     "text": [
      "            ✓ Successfully extracted 5 CS variants for gene ENSG00000117280 in context Knight_eQTL_brain cohort MSBB\n",
      "          Processing gene 2/2: ENSG00000162877\n",
      "            Loading weights from 3 database(s)\n",
      "            Found 9 variants in top_loci\n"
     ]
    },
    {
     "name": "stderr",
     "output_type": "stream",
     "text": [
      "Gene ENSG00000162877_Knight_eQTL_brain_MSBB : Selected 2 variants in credible sets out of 9 total variants\n",
      "\n",
      "  Coverage distribution: cs_0.95 = 2\n",
      "\n"
     ]
    },
    {
     "name": "stdout",
     "output_type": "stream",
     "text": [
      "            ✓ Successfully extracted 2 CS variants for gene ENSG00000162877 in context Knight_eQTL_brain cohort MSBB\n",
      "      Processing context: BM_10_MSBB_eQTL\n",
      "        3 genes in this context\n",
      "          Processing gene 1/3: ENSG00000117280\n",
      "            Loading weights from 3 database(s)\n",
      "            Found 11 variants in top_loci\n"
     ]
    },
    {
     "name": "stderr",
     "output_type": "stream",
     "text": [
      "Gene ENSG00000117280_BM_10_MSBB_eQTL_MSBB : Selected 5 variants in credible sets out of 11 total variants\n",
      "\n",
      "  Coverage distribution: cs_0.7 = 5\n",
      "\n"
     ]
    },
    {
     "name": "stdout",
     "output_type": "stream",
     "text": [
      "            ✓ Successfully extracted 5 CS variants for gene ENSG00000117280 in context BM_10_MSBB_eQTL cohort MSBB\n",
      "          Processing gene 2/3: ENSG00000162877\n",
      "            Loading weights from 3 database(s)\n",
      "            Found 9 variants in top_loci\n"
     ]
    },
    {
     "name": "stderr",
     "output_type": "stream",
     "text": [
      "Gene ENSG00000162877_BM_10_MSBB_eQTL_MSBB : Selected 2 variants in credible sets out of 9 total variants\n",
      "\n",
      "  Coverage distribution: cs_0.95 = 2\n",
      "\n"
     ]
    },
    {
     "name": "stdout",
     "output_type": "stream",
     "text": [
      "            ✓ Successfully extracted 2 CS variants for gene ENSG00000162877 in context BM_10_MSBB_eQTL cohort MSBB\n",
      "          Processing gene 3/3: ENSG00000174502\n",
      "            Loading weights from 2 database(s)\n",
      "            Found 3 variants in top_loci\n"
     ]
    },
    {
     "name": "stderr",
     "output_type": "stream",
     "text": [
      "Gene ENSG00000174502_BM_10_MSBB_eQTL_MSBB : Selected 3 variants in credible sets out of 3 total variants\n",
      "\n",
      "  Coverage distribution: cs_0.95 = 3\n",
      "\n"
     ]
    },
    {
     "name": "stdout",
     "output_type": "stream",
     "text": [
      "            ✓ Successfully extracted 3 CS variants for gene ENSG00000174502 in context BM_10_MSBB_eQTL cohort MSBB\n",
      "      Processing context: BM_22_MSBB_eQTL\n",
      "        3 genes in this context\n",
      "          Processing gene 1/3: ENSG00000117280\n",
      "            Loading weights from 3 database(s)\n",
      "            Found 11 variants in top_loci\n"
     ]
    },
    {
     "name": "stderr",
     "output_type": "stream",
     "text": [
      "Gene ENSG00000117280_BM_22_MSBB_eQTL_MSBB : Selected 5 variants in credible sets out of 11 total variants\n",
      "\n",
      "  Coverage distribution: cs_0.7 = 5\n",
      "\n"
     ]
    },
    {
     "name": "stdout",
     "output_type": "stream",
     "text": [
      "            ✓ Successfully extracted 5 CS variants for gene ENSG00000117280 in context BM_22_MSBB_eQTL cohort MSBB\n",
      "          Processing gene 2/3: ENSG00000162877\n",
      "            Loading weights from 3 database(s)\n",
      "            Found 9 variants in top_loci\n"
     ]
    },
    {
     "name": "stderr",
     "output_type": "stream",
     "text": [
      "Gene ENSG00000162877_BM_22_MSBB_eQTL_MSBB : Selected 2 variants in credible sets out of 9 total variants\n",
      "\n",
      "  Coverage distribution: cs_0.95 = 2\n",
      "\n"
     ]
    },
    {
     "name": "stdout",
     "output_type": "stream",
     "text": [
      "            ✓ Successfully extracted 2 CS variants for gene ENSG00000162877 in context BM_22_MSBB_eQTL cohort MSBB\n",
      "          Processing gene 3/3: ENSG00000174502\n",
      "            Loading weights from 2 database(s)\n",
      "            Found 3 variants in top_loci\n"
     ]
    },
    {
     "name": "stderr",
     "output_type": "stream",
     "text": [
      "Gene ENSG00000174502_BM_22_MSBB_eQTL_MSBB : Selected 3 variants in credible sets out of 3 total variants\n",
      "\n",
      "  Coverage distribution: cs_0.95 = 3\n",
      "\n"
     ]
    },
    {
     "name": "stdout",
     "output_type": "stream",
     "text": [
      "            ✓ Successfully extracted 3 CS variants for gene ENSG00000174502 in context BM_22_MSBB_eQTL cohort MSBB\n",
      "      Processing context: BM_36_MSBB_eQTL\n",
      "        3 genes in this context\n",
      "          Processing gene 1/3: ENSG00000117280\n",
      "            Loading weights from 3 database(s)\n",
      "            Found 11 variants in top_loci\n"
     ]
    },
    {
     "name": "stderr",
     "output_type": "stream",
     "text": [
      "Gene ENSG00000117280_BM_36_MSBB_eQTL_MSBB : Selected 5 variants in credible sets out of 11 total variants\n",
      "\n",
      "  Coverage distribution: cs_0.7 = 5\n",
      "\n"
     ]
    },
    {
     "name": "stdout",
     "output_type": "stream",
     "text": [
      "            ✓ Successfully extracted 5 CS variants for gene ENSG00000117280 in context BM_36_MSBB_eQTL cohort MSBB\n",
      "          Processing gene 2/3: ENSG00000162877\n",
      "            Loading weights from 3 database(s)\n",
      "            Found 9 variants in top_loci\n"
     ]
    },
    {
     "name": "stderr",
     "output_type": "stream",
     "text": [
      "Gene ENSG00000162877_BM_36_MSBB_eQTL_MSBB : Selected 2 variants in credible sets out of 9 total variants\n",
      "\n",
      "  Coverage distribution: cs_0.95 = 2\n",
      "\n"
     ]
    },
    {
     "name": "stdout",
     "output_type": "stream",
     "text": [
      "            ✓ Successfully extracted 2 CS variants for gene ENSG00000162877 in context BM_36_MSBB_eQTL cohort MSBB\n",
      "          Processing gene 3/3: ENSG00000174502\n",
      "            Loading weights from 2 database(s)\n",
      "            Found 3 variants in top_loci\n"
     ]
    },
    {
     "name": "stderr",
     "output_type": "stream",
     "text": [
      "Gene ENSG00000174502_BM_36_MSBB_eQTL_MSBB : Selected 3 variants in credible sets out of 3 total variants\n",
      "\n",
      "  Coverage distribution: cs_0.95 = 3\n",
      "\n"
     ]
    },
    {
     "name": "stdout",
     "output_type": "stream",
     "text": [
      "            ✓ Successfully extracted 3 CS variants for gene ENSG00000174502 in context BM_36_MSBB_eQTL cohort MSBB\n",
      "      Processing context: BM_44_MSBB_eQTL\n",
      "        3 genes in this context\n",
      "          Processing gene 1/3: ENSG00000117280\n",
      "            Loading weights from 3 database(s)\n",
      "            Found 11 variants in top_loci\n"
     ]
    },
    {
     "name": "stderr",
     "output_type": "stream",
     "text": [
      "Gene ENSG00000117280_BM_44_MSBB_eQTL_MSBB : Selected 5 variants in credible sets out of 11 total variants\n",
      "\n",
      "  Coverage distribution: cs_0.7 = 5\n",
      "\n"
     ]
    },
    {
     "name": "stdout",
     "output_type": "stream",
     "text": [
      "            ✓ Successfully extracted 5 CS variants for gene ENSG00000117280 in context BM_44_MSBB_eQTL cohort MSBB\n",
      "          Processing gene 2/3: ENSG00000162877\n",
      "            Loading weights from 3 database(s)\n",
      "            Found 9 variants in top_loci\n"
     ]
    },
    {
     "name": "stderr",
     "output_type": "stream",
     "text": [
      "Gene ENSG00000162877_BM_44_MSBB_eQTL_MSBB : Selected 2 variants in credible sets out of 9 total variants\n",
      "\n",
      "  Coverage distribution: cs_0.95 = 2\n",
      "\n"
     ]
    },
    {
     "name": "stdout",
     "output_type": "stream",
     "text": [
      "            ✓ Successfully extracted 2 CS variants for gene ENSG00000162877 in context BM_44_MSBB_eQTL cohort MSBB\n",
      "          Processing gene 3/3: ENSG00000174502\n",
      "            Loading weights from 2 database(s)\n",
      "            Found 3 variants in top_loci\n"
     ]
    },
    {
     "name": "stderr",
     "output_type": "stream",
     "text": [
      "Gene ENSG00000174502_BM_44_MSBB_eQTL_MSBB : Selected 3 variants in credible sets out of 3 total variants\n",
      "\n",
      "  Coverage distribution: cs_0.95 = 3\n",
      "\n"
     ]
    },
    {
     "name": "stdout",
     "output_type": "stream",
     "text": [
      "            ✓ Successfully extracted 3 CS variants for gene ENSG00000174502 in context BM_44_MSBB_eQTL cohort MSBB\n",
      "      Processing context: monocyte_ROSMAP_eQTL\n",
      "        2 genes in this context\n",
      "          Processing gene 1/2: ENSG00000117280\n",
      "            Loading weights from 3 database(s)\n",
      "            Found 11 variants in top_loci\n"
     ]
    },
    {
     "name": "stderr",
     "output_type": "stream",
     "text": [
      "Gene ENSG00000117280_monocyte_ROSMAP_eQTL_MSBB : Selected 5 variants in credible sets out of 11 total variants\n",
      "\n",
      "  Coverage distribution: cs_0.7 = 5\n",
      "\n"
     ]
    },
    {
     "name": "stdout",
     "output_type": "stream",
     "text": [
      "            ✓ Successfully extracted 5 CS variants for gene ENSG00000117280 in context monocyte_ROSMAP_eQTL cohort MSBB\n",
      "          Processing gene 2/2: ENSG00000133065\n",
      "            Loading weights from 3 database(s)\n"
     ]
    },
    {
     "name": "stderr",
     "output_type": "stream",
     "text": [
      "list twas_weights is not found in ENSG00000133065.  \n",
      "\n",
      "\n",
      "Warning message in doTryCatch(return(expr), name, parentenv, handler):\n",
      "“Gene ENSG00000133065 in context monocyte_ROSMAP_eQTL cohort MSBB : load_twas_weights() did not return a list”\n"
     ]
    },
    {
     "name": "stdout",
     "output_type": "stream",
     "text": [
      "      Processing context: Ast_DeJager_eQTL\n",
      "        1 genes in this context\n",
      "          Processing gene 1/1: ENSG00000133065\n",
      "            Loading weights from 3 database(s)\n"
     ]
    },
    {
     "name": "stderr",
     "output_type": "stream",
     "text": [
      "list twas_weights is not found in ENSG00000133065.  \n",
      "\n",
      "\n",
      "Warning message in doTryCatch(return(expr), name, parentenv, handler):\n",
      "“Gene ENSG00000133065 in context Ast_DeJager_eQTL cohort MSBB : load_twas_weights() did not return a list”\n"
     ]
    },
    {
     "name": "stdout",
     "output_type": "stream",
     "text": [
      "      Processing context: Exc_DeJager_eQTL\n",
      "        1 genes in this context\n",
      "          Processing gene 1/1: ENSG00000133065\n",
      "            Loading weights from 3 database(s)\n"
     ]
    },
    {
     "name": "stderr",
     "output_type": "stream",
     "text": [
      "list twas_weights is not found in ENSG00000133065.  \n",
      "\n",
      "\n",
      "Warning message in doTryCatch(return(expr), name, parentenv, handler):\n",
      "“Gene ENSG00000133065 in context Exc_DeJager_eQTL cohort MSBB : load_twas_weights() did not return a list”\n"
     ]
    },
    {
     "name": "stdout",
     "output_type": "stream",
     "text": [
      "      Processing context: Inh_DeJager_eQTL\n",
      "        1 genes in this context\n",
      "          Processing gene 1/1: ENSG00000133065\n",
      "            Loading weights from 3 database(s)\n"
     ]
    },
    {
     "name": "stderr",
     "output_type": "stream",
     "text": [
      "list twas_weights is not found in ENSG00000133065.  \n",
      "\n",
      "\n",
      "Warning message in doTryCatch(return(expr), name, parentenv, handler):\n",
      "“Gene ENSG00000133065 in context Inh_DeJager_eQTL cohort MSBB : load_twas_weights() did not return a list”\n"
     ]
    },
    {
     "name": "stdout",
     "output_type": "stream",
     "text": [
      "      Processing context: Oli_DeJager_eQTL\n",
      "        1 genes in this context\n",
      "          Processing gene 1/1: ENSG00000133065\n",
      "            Loading weights from 3 database(s)\n"
     ]
    },
    {
     "name": "stderr",
     "output_type": "stream",
     "text": [
      "list twas_weights is not found in ENSG00000133065.  \n",
      "\n",
      "\n",
      "Warning message in doTryCatch(return(expr), name, parentenv, handler):\n",
      "“Gene ENSG00000133065 in context Oli_DeJager_eQTL cohort MSBB : load_twas_weights() did not return a list”\n"
     ]
    },
    {
     "name": "stdout",
     "output_type": "stream",
     "text": [
      "      Processing context: PCC_DeJager_eQTL\n",
      "        2 genes in this context\n",
      "          Processing gene 1/2: ENSG00000133065\n",
      "            Loading weights from 3 database(s)\n"
     ]
    },
    {
     "name": "stderr",
     "output_type": "stream",
     "text": [
      "list twas_weights is not found in ENSG00000133065.  \n",
      "\n",
      "\n",
      "Warning message in doTryCatch(return(expr), name, parentenv, handler):\n",
      "“Gene ENSG00000133065 in context PCC_DeJager_eQTL cohort MSBB : load_twas_weights() did not return a list”\n"
     ]
    },
    {
     "name": "stdout",
     "output_type": "stream",
     "text": [
      "          Processing gene 2/2: ENSG00000162877\n",
      "            Loading weights from 3 database(s)\n",
      "            Found 9 variants in top_loci\n"
     ]
    },
    {
     "name": "stderr",
     "output_type": "stream",
     "text": [
      "Gene ENSG00000162877_PCC_DeJager_eQTL_MSBB : Selected 2 variants in credible sets out of 9 total variants\n",
      "\n",
      "  Coverage distribution: cs_0.95 = 2\n",
      "\n"
     ]
    },
    {
     "name": "stdout",
     "output_type": "stream",
     "text": [
      "            ✓ Successfully extracted 2 CS variants for gene ENSG00000162877 in context PCC_DeJager_eQTL cohort MSBB\n",
      "      Processing context: AC_DeJager_eQTL\n",
      "        1 genes in this context\n",
      "          Processing gene 1/1: ENSG00000162877\n",
      "            Loading weights from 3 database(s)\n",
      "            Found 9 variants in top_loci\n"
     ]
    },
    {
     "name": "stderr",
     "output_type": "stream",
     "text": [
      "Gene ENSG00000162877_AC_DeJager_eQTL_MSBB : Selected 2 variants in credible sets out of 9 total variants\n",
      "\n",
      "  Coverage distribution: cs_0.95 = 2\n",
      "\n"
     ]
    },
    {
     "name": "stdout",
     "output_type": "stream",
     "text": [
      "            ✓ Successfully extracted 2 CS variants for gene ENSG00000162877 in context AC_DeJager_eQTL cohort MSBB\n",
      "      Processing context: DLPFC_DeJager_eQTL\n",
      "        1 genes in this context\n",
      "          Processing gene 1/1: ENSG00000162877\n",
      "            Loading weights from 3 database(s)\n",
      "            Found 9 variants in top_loci\n"
     ]
    },
    {
     "name": "stderr",
     "output_type": "stream",
     "text": [
      "Gene ENSG00000162877_DLPFC_DeJager_eQTL_MSBB : Selected 2 variants in credible sets out of 9 total variants\n",
      "\n",
      "  Coverage distribution: cs_0.95 = 2\n",
      "\n"
     ]
    },
    {
     "name": "stdout",
     "output_type": "stream",
     "text": [
      "            ✓ Successfully extracted 2 CS variants for gene ENSG00000162877 in context DLPFC_DeJager_eQTL cohort MSBB\n",
      "      Processing context: Ast_mega_eQTL\n",
      "        1 genes in this context\n",
      "          Processing gene 1/1: ENSG00000133065\n",
      "            Loading weights from 3 database(s)\n"
     ]
    },
    {
     "name": "stderr",
     "output_type": "stream",
     "text": [
      "list twas_weights is not found in ENSG00000133065.  \n",
      "\n",
      "\n",
      "Warning message in doTryCatch(return(expr), name, parentenv, handler):\n",
      "“Gene ENSG00000133065 in context Ast_mega_eQTL cohort MSBB : load_twas_weights() did not return a list”\n"
     ]
    },
    {
     "name": "stdout",
     "output_type": "stream",
     "text": [
      "      Processing context: Exc_mega_eQTL\n",
      "        1 genes in this context\n",
      "          Processing gene 1/1: ENSG00000133065\n",
      "            Loading weights from 3 database(s)\n"
     ]
    },
    {
     "name": "stderr",
     "output_type": "stream",
     "text": [
      "list twas_weights is not found in ENSG00000133065.  \n",
      "\n",
      "\n",
      "Warning message in doTryCatch(return(expr), name, parentenv, handler):\n",
      "“Gene ENSG00000133065 in context Exc_mega_eQTL cohort MSBB : load_twas_weights() did not return a list”\n"
     ]
    },
    {
     "name": "stdout",
     "output_type": "stream",
     "text": [
      "      Processing context: Inh_mega_eQTL\n",
      "        1 genes in this context\n",
      "          Processing gene 1/1: ENSG00000133065\n",
      "            Loading weights from 3 database(s)\n"
     ]
    },
    {
     "name": "stderr",
     "output_type": "stream",
     "text": [
      "list twas_weights is not found in ENSG00000133065.  \n",
      "\n",
      "\n",
      "Warning message in doTryCatch(return(expr), name, parentenv, handler):\n",
      "“Gene ENSG00000133065 in context Inh_mega_eQTL cohort MSBB : load_twas_weights() did not return a list”\n"
     ]
    },
    {
     "name": "stdout",
     "output_type": "stream",
     "text": [
      "      Processing context: Oli_mega_eQTL\n",
      "        1 genes in this context\n",
      "          Processing gene 1/1: ENSG00000133065\n",
      "            Loading weights from 3 database(s)\n"
     ]
    },
    {
     "name": "stderr",
     "output_type": "stream",
     "text": [
      "list twas_weights is not found in ENSG00000133065.  \n",
      "\n",
      "\n",
      "Warning message in doTryCatch(return(expr), name, parentenv, handler):\n",
      "“Gene ENSG00000133065 in context Oli_mega_eQTL cohort MSBB : load_twas_weights() did not return a list”\n"
     ]
    },
    {
     "name": "stdout",
     "output_type": "stream",
     "text": [
      "  Processing region 3/28: chr10_89027551_89867142\n",
      "    Found 1 significant genes across 1 contexts in region chr10_89027551_89867142\n",
      "    Contexts: BM_22_MSBB_eQTL\n",
      "      Processing context: BM_22_MSBB_eQTL\n",
      "        1 genes in this context\n",
      "          Processing gene 1/1: ENSG00000204010\n",
      "            Loading weights from 3 database(s)\n"
     ]
    },
    {
     "name": "stderr",
     "output_type": "stream",
     "text": [
      "Warning message in doTryCatch(return(expr), name, parentenv, handler):\n",
      "“Gene ENSG00000204010 in context BM_22_MSBB_eQTL cohort MSBB : No top_loci in susie results”\n"
     ]
    },
    {
     "name": "stdout",
     "output_type": "stream",
     "text": [
      "  Processing region 4/28: chr17_42087601_45383525\n",
      "    Found 2 significant genes across 6 contexts in region chr17_42087601_45383525\n",
      "    Contexts: BM_36_MSBB_eQTL, BM_10_MSBB_eQTL, BM_22_MSBB_eQTL, AC_DeJager_eQTL, PCC_DeJager_eQTL, Exc_mega_eQTL\n",
      "      Processing context: BM_36_MSBB_eQTL\n",
      "        1 genes in this context\n",
      "          Processing gene 1/1: ENSG00000136448\n",
      "            Loading weights from 3 database(s)\n"
     ]
    },
    {
     "name": "stderr",
     "output_type": "stream",
     "text": [
      "Warning message in doTryCatch(return(expr), name, parentenv, handler):\n",
      "“Gene ENSG00000136448 in context BM_36_MSBB_eQTL cohort MSBB : No top_loci in susie results”\n"
     ]
    },
    {
     "name": "stdout",
     "output_type": "stream",
     "text": [
      "      Processing context: BM_10_MSBB_eQTL\n",
      "        1 genes in this context\n",
      "          Processing gene 1/1: ENSG00000172992\n",
      "            Loading weights from 3 database(s)\n",
      "            Found 8 variants in top_loci\n"
     ]
    },
    {
     "name": "stderr",
     "output_type": "stream",
     "text": [
      "Gene ENSG00000172992_BM_10_MSBB_eQTL_MSBB : Selected 8 variants in credible sets out of 8 total variants\n",
      "\n",
      "  Coverage distribution: cs_0.95 = 8\n",
      "\n"
     ]
    },
    {
     "name": "stdout",
     "output_type": "stream",
     "text": [
      "            ✓ Successfully extracted 8 CS variants for gene ENSG00000172992 in context BM_10_MSBB_eQTL cohort MSBB\n",
      "      Processing context: BM_22_MSBB_eQTL\n",
      "        1 genes in this context\n",
      "          Processing gene 1/1: ENSG00000172992\n",
      "            Loading weights from 3 database(s)\n",
      "            Found 8 variants in top_loci\n"
     ]
    },
    {
     "name": "stderr",
     "output_type": "stream",
     "text": [
      "Gene ENSG00000172992_BM_22_MSBB_eQTL_MSBB : Selected 8 variants in credible sets out of 8 total variants\n",
      "\n",
      "  Coverage distribution: cs_0.95 = 8\n",
      "\n"
     ]
    },
    {
     "name": "stdout",
     "output_type": "stream",
     "text": [
      "            ✓ Successfully extracted 8 CS variants for gene ENSG00000172992 in context BM_22_MSBB_eQTL cohort MSBB\n",
      "      Processing context: AC_DeJager_eQTL\n",
      "        1 genes in this context\n",
      "          Processing gene 1/1: ENSG00000136448\n",
      "            Loading weights from 3 database(s)\n"
     ]
    },
    {
     "name": "stderr",
     "output_type": "stream",
     "text": [
      "Warning message in doTryCatch(return(expr), name, parentenv, handler):\n",
      "“Gene ENSG00000136448 in context AC_DeJager_eQTL cohort MSBB : No top_loci in susie results”\n"
     ]
    },
    {
     "name": "stdout",
     "output_type": "stream",
     "text": [
      "      Processing context: PCC_DeJager_eQTL\n",
      "        1 genes in this context\n",
      "          Processing gene 1/1: ENSG00000136448\n",
      "            Loading weights from 3 database(s)\n"
     ]
    },
    {
     "name": "stderr",
     "output_type": "stream",
     "text": [
      "Warning message in doTryCatch(return(expr), name, parentenv, handler):\n",
      "“Gene ENSG00000136448 in context PCC_DeJager_eQTL cohort MSBB : No top_loci in susie results”\n"
     ]
    },
    {
     "name": "stdout",
     "output_type": "stream",
     "text": [
      "      Processing context: Exc_mega_eQTL\n",
      "        1 genes in this context\n",
      "          Processing gene 1/1: ENSG00000172992\n",
      "            Loading weights from 3 database(s)\n",
      "            Found 8 variants in top_loci\n"
     ]
    },
    {
     "name": "stderr",
     "output_type": "stream",
     "text": [
      "Gene ENSG00000172992_Exc_mega_eQTL_MSBB : Selected 8 variants in credible sets out of 8 total variants\n",
      "\n",
      "  Coverage distribution: cs_0.95 = 8\n",
      "\n"
     ]
    },
    {
     "name": "stdout",
     "output_type": "stream",
     "text": [
      "            ✓ Successfully extracted 8 CS variants for gene ENSG00000172992 in context Exc_mega_eQTL cohort MSBB\n",
      "  Processing region 5/28: chr17_67025568_68379734\n",
      "    Found 1 significant genes across 2 contexts in region chr17_67025568_68379734\n",
      "    Contexts: BM_44_MSBB_eQTL, Exc_DeJager_eQTL\n",
      "      Processing context: BM_44_MSBB_eQTL\n",
      "        1 genes in this context\n",
      "          Processing gene 1/1: ENSG00000182481\n",
      "            Loading weights from 3 database(s)\n",
      "            Found 9 variants in top_loci\n"
     ]
    },
    {
     "name": "stderr",
     "output_type": "stream",
     "text": [
      "Gene ENSG00000182481_BM_44_MSBB_eQTL_MSBB : Selected 9 variants in credible sets out of 9 total variants\n",
      "\n",
      "  Coverage distribution: cs_0.5 = 9\n",
      "\n"
     ]
    },
    {
     "name": "stdout",
     "output_type": "stream",
     "text": [
      "            ✓ Successfully extracted 9 CS variants for gene ENSG00000182481 in context BM_44_MSBB_eQTL cohort MSBB\n",
      "      Processing context: Exc_DeJager_eQTL\n",
      "        1 genes in this context\n",
      "          Processing gene 1/1: ENSG00000182481\n",
      "            Loading weights from 3 database(s)\n",
      "            Found 9 variants in top_loci\n"
     ]
    },
    {
     "name": "stderr",
     "output_type": "stream",
     "text": [
      "Gene ENSG00000182481_Exc_DeJager_eQTL_MSBB : Selected 9 variants in credible sets out of 9 total variants\n",
      "\n",
      "  Coverage distribution: cs_0.5 = 9\n",
      "\n"
     ]
    },
    {
     "name": "stdout",
     "output_type": "stream",
     "text": [
      "            ✓ Successfully extracted 9 CS variants for gene ENSG00000182481 in context Exc_DeJager_eQTL cohort MSBB\n",
      "  Processing region 6/28: chr18_34878947_36213990\n",
      "    Found 1 significant genes across 1 contexts in region chr18_34878947_36213990\n",
      "    Contexts: MSBB_BM36_pQTL_chr18_Q96P16\n",
      "      Processing context: MSBB_BM36_pQTL_chr18_Q96P16\n",
      "        1 genes in this context\n",
      "          Processing gene 1/1: ENSG00000141425\n",
      "            Loading weights from 3 database(s)\n",
      "            Found 1 variants in top_loci\n"
     ]
    },
    {
     "name": "stderr",
     "output_type": "stream",
     "text": [
      "Warning message in select_all_cs_variants(df, gene_context_cohort_id):\n",
      "“Gene ENSG00000141425_MSBB_BM36_pQTL_chr18_Q96P16_MSBB : No variants with credible set coverage > 0”\n",
      "Warning message in doTryCatch(return(expr), name, parentenv, handler):\n",
      "“Gene ENSG00000141425 in context MSBB_BM36_pQTL_chr18_Q96P16 cohort MSBB : No CS variants found”\n"
     ]
    },
    {
     "name": "stdout",
     "output_type": "stream",
     "text": [
      "  Processing region 7/28: chr18_77762652_79389527\n",
      "    Found 1 significant genes across 1 contexts in region chr18_77762652_79389527\n",
      "    Contexts: BM_22_MSBB_eQTL\n",
      "      Processing context: BM_22_MSBB_eQTL\n",
      "        1 genes in this context\n",
      "          Processing gene 1/1: ENSG00000166377\n",
      "            Loading weights from 3 database(s)\n",
      "            Found 54 variants in top_loci\n"
     ]
    },
    {
     "name": "stderr",
     "output_type": "stream",
     "text": [
      "Gene ENSG00000166377_BM_22_MSBB_eQTL_MSBB : Selected 50 variants in credible sets out of 54 total variants\n",
      "\n",
      "  Coverage distribution: cs_0.95 = 50\n",
      "\n"
     ]
    },
    {
     "name": "stdout",
     "output_type": "stream",
     "text": [
      "            ✓ Successfully extracted 50 CS variants for gene ENSG00000166377 in context BM_22_MSBB_eQTL cohort MSBB\n",
      "  Processing region 8/28: chr19_35206200_36997570\n",
      "    Found 6 significant genes across 10 contexts in region chr19_35206200_36997570\n",
      "    Contexts: BM_10_MSBB_eQTL, BM_22_MSBB_eQTL, BM_36_MSBB_eQTL, BM_44_MSBB_eQTL, PCC_DeJager_eQTL, AC_DeJager_eQTL, Exc_DeJager_eQTL, Ast_DeJager_eQTL, Oli_DeJager_eQTL, Exc_mega_eQTL\n",
      "      Processing context: BM_10_MSBB_eQTL\n",
      "        3 genes in this context\n",
      "          Processing gene 1/3: ENSG00000126267\n",
      "            Loading weights from 3 database(s)\n",
      "            Found 10 variants in top_loci\n"
     ]
    },
    {
     "name": "stderr",
     "output_type": "stream",
     "text": [
      "Gene ENSG00000126267_BM_10_MSBB_eQTL_MSBB : Selected 10 variants in credible sets out of 10 total variants\n",
      "\n",
      "  Coverage distribution: cs_0.95 = 10\n",
      "\n"
     ]
    },
    {
     "name": "stdout",
     "output_type": "stream",
     "text": [
      "            ✓ Successfully extracted 10 CS variants for gene ENSG00000126267 in context BM_10_MSBB_eQTL cohort MSBB\n",
      "          Processing gene 2/3: ENSG00000011590\n",
      "            Loading weights from 2 database(s)\n",
      "            Found 11 variants in top_loci\n"
     ]
    },
    {
     "name": "stderr",
     "output_type": "stream",
     "text": [
      "Warning message in select_all_cs_variants(df, gene_context_cohort_id):\n",
      "“Gene ENSG00000011590_BM_10_MSBB_eQTL_MSBB : No variants with credible set coverage > 0”\n",
      "Warning message in doTryCatch(return(expr), name, parentenv, handler):\n",
      "“Gene ENSG00000011590 in context BM_10_MSBB_eQTL cohort MSBB : No CS variants found”\n"
     ]
    },
    {
     "name": "stdout",
     "output_type": "stream",
     "text": [
      "          Processing gene 3/3: ENSG00000105668\n",
      "            Loading weights from 2 database(s)\n",
      "            Found 1 variants in top_loci\n"
     ]
    },
    {
     "name": "stderr",
     "output_type": "stream",
     "text": [
      "Warning message in select_all_cs_variants(df, gene_context_cohort_id):\n",
      "“Gene ENSG00000105668_BM_10_MSBB_eQTL_MSBB : No variants with credible set coverage > 0”\n",
      "Warning message in doTryCatch(return(expr), name, parentenv, handler):\n",
      "“Gene ENSG00000105668 in context BM_10_MSBB_eQTL cohort MSBB : No CS variants found”\n"
     ]
    },
    {
     "name": "stdout",
     "output_type": "stream",
     "text": [
      "      Processing context: BM_22_MSBB_eQTL\n",
      "        2 genes in this context\n",
      "          Processing gene 1/2: ENSG00000126267\n",
      "            Loading weights from 3 database(s)\n",
      "            Found 10 variants in top_loci\n"
     ]
    },
    {
     "name": "stderr",
     "output_type": "stream",
     "text": [
      "Gene ENSG00000126267_BM_22_MSBB_eQTL_MSBB : Selected 10 variants in credible sets out of 10 total variants\n",
      "\n",
      "  Coverage distribution: cs_0.95 = 10\n",
      "\n"
     ]
    },
    {
     "name": "stdout",
     "output_type": "stream",
     "text": [
      "            ✓ Successfully extracted 10 CS variants for gene ENSG00000126267 in context BM_22_MSBB_eQTL cohort MSBB\n",
      "          Processing gene 2/2: ENSG00000011590\n",
      "            Loading weights from 2 database(s)\n",
      "            Found 11 variants in top_loci\n"
     ]
    },
    {
     "name": "stderr",
     "output_type": "stream",
     "text": [
      "Warning message in select_all_cs_variants(df, gene_context_cohort_id):\n",
      "“Gene ENSG00000011590_BM_22_MSBB_eQTL_MSBB : No variants with credible set coverage > 0”\n",
      "Warning message in doTryCatch(return(expr), name, parentenv, handler):\n",
      "“Gene ENSG00000011590 in context BM_22_MSBB_eQTL cohort MSBB : No CS variants found”\n"
     ]
    },
    {
     "name": "stdout",
     "output_type": "stream",
     "text": [
      "      Processing context: BM_36_MSBB_eQTL\n",
      "        2 genes in this context\n",
      "          Processing gene 1/2: ENSG00000126267\n",
      "            Loading weights from 3 database(s)\n",
      "            Found 10 variants in top_loci\n"
     ]
    },
    {
     "name": "stderr",
     "output_type": "stream",
     "text": [
      "Gene ENSG00000126267_BM_36_MSBB_eQTL_MSBB : Selected 10 variants in credible sets out of 10 total variants\n",
      "\n",
      "  Coverage distribution: cs_0.95 = 10\n",
      "\n"
     ]
    },
    {
     "name": "stdout",
     "output_type": "stream",
     "text": [
      "            ✓ Successfully extracted 10 CS variants for gene ENSG00000126267 in context BM_36_MSBB_eQTL cohort MSBB\n",
      "          Processing gene 2/2: ENSG00000011590\n",
      "            Loading weights from 2 database(s)\n",
      "            Found 11 variants in top_loci\n"
     ]
    },
    {
     "name": "stderr",
     "output_type": "stream",
     "text": [
      "Warning message in select_all_cs_variants(df, gene_context_cohort_id):\n",
      "“Gene ENSG00000011590_BM_36_MSBB_eQTL_MSBB : No variants with credible set coverage > 0”\n",
      "Warning message in doTryCatch(return(expr), name, parentenv, handler):\n",
      "“Gene ENSG00000011590 in context BM_36_MSBB_eQTL cohort MSBB : No CS variants found”\n"
     ]
    },
    {
     "name": "stdout",
     "output_type": "stream",
     "text": [
      "      Processing context: BM_44_MSBB_eQTL\n",
      "        3 genes in this context\n",
      "          Processing gene 1/3: ENSG00000126267\n",
      "            Loading weights from 3 database(s)\n",
      "            Found 10 variants in top_loci\n"
     ]
    },
    {
     "name": "stderr",
     "output_type": "stream",
     "text": [
      "Gene ENSG00000126267_BM_44_MSBB_eQTL_MSBB : Selected 10 variants in credible sets out of 10 total variants\n",
      "\n",
      "  Coverage distribution: cs_0.95 = 10\n",
      "\n"
     ]
    },
    {
     "name": "stdout",
     "output_type": "stream",
     "text": [
      "            ✓ Successfully extracted 10 CS variants for gene ENSG00000126267 in context BM_44_MSBB_eQTL cohort MSBB\n",
      "          Processing gene 2/3: ENSG00000011590\n",
      "            Loading weights from 2 database(s)\n",
      "            Found 11 variants in top_loci\n"
     ]
    },
    {
     "name": "stderr",
     "output_type": "stream",
     "text": [
      "Warning message in select_all_cs_variants(df, gene_context_cohort_id):\n",
      "“Gene ENSG00000011590_BM_44_MSBB_eQTL_MSBB : No variants with credible set coverage > 0”\n",
      "Warning message in doTryCatch(return(expr), name, parentenv, handler):\n",
      "“Gene ENSG00000011590 in context BM_44_MSBB_eQTL cohort MSBB : No CS variants found”\n"
     ]
    },
    {
     "name": "stdout",
     "output_type": "stream",
     "text": [
      "          Processing gene 3/3: ENSG00000105668\n",
      "            Loading weights from 2 database(s)\n",
      "            Found 1 variants in top_loci\n"
     ]
    },
    {
     "name": "stderr",
     "output_type": "stream",
     "text": [
      "Warning message in select_all_cs_variants(df, gene_context_cohort_id):\n",
      "“Gene ENSG00000105668_BM_44_MSBB_eQTL_MSBB : No variants with credible set coverage > 0”\n",
      "Warning message in doTryCatch(return(expr), name, parentenv, handler):\n",
      "“Gene ENSG00000105668 in context BM_44_MSBB_eQTL cohort MSBB : No CS variants found”\n"
     ]
    },
    {
     "name": "stdout",
     "output_type": "stream",
     "text": [
      "      Processing context: PCC_DeJager_eQTL\n",
      "        2 genes in this context\n",
      "          Processing gene 1/2: ENSG00000126262\n",
      "            Loading weights from 2 database(s)\n"
     ]
    },
    {
     "name": "stderr",
     "output_type": "stream",
     "text": [
      "list twas_weights is not found in ENSG00000126262.  \n",
      "\n",
      "\n",
      "Warning message in doTryCatch(return(expr), name, parentenv, handler):\n",
      "“Gene ENSG00000126262 in context PCC_DeJager_eQTL cohort MSBB : load_twas_weights() did not return a list”\n"
     ]
    },
    {
     "name": "stdout",
     "output_type": "stream",
     "text": [
      "          Processing gene 2/2: ENSG00000126267\n",
      "            Loading weights from 3 database(s)\n",
      "            Found 10 variants in top_loci\n"
     ]
    },
    {
     "name": "stderr",
     "output_type": "stream",
     "text": [
      "Gene ENSG00000126267_PCC_DeJager_eQTL_MSBB : Selected 10 variants in credible sets out of 10 total variants\n",
      "\n",
      "  Coverage distribution: cs_0.95 = 10\n",
      "\n"
     ]
    },
    {
     "name": "stdout",
     "output_type": "stream",
     "text": [
      "            ✓ Successfully extracted 10 CS variants for gene ENSG00000126267 in context PCC_DeJager_eQTL cohort MSBB\n",
      "      Processing context: AC_DeJager_eQTL\n",
      "        1 genes in this context\n",
      "          Processing gene 1/1: ENSG00000126267\n",
      "            Loading weights from 3 database(s)\n",
      "            Found 10 variants in top_loci\n"
     ]
    },
    {
     "name": "stderr",
     "output_type": "stream",
     "text": [
      "Gene ENSG00000126267_AC_DeJager_eQTL_MSBB : Selected 10 variants in credible sets out of 10 total variants\n",
      "\n",
      "  Coverage distribution: cs_0.95 = 10\n",
      "\n"
     ]
    },
    {
     "name": "stdout",
     "output_type": "stream",
     "text": [
      "            ✓ Successfully extracted 10 CS variants for gene ENSG00000126267 in context AC_DeJager_eQTL cohort MSBB\n",
      "      Processing context: Exc_DeJager_eQTL\n",
      "        2 genes in this context\n",
      "          Processing gene 1/2: ENSG00000126267\n",
      "            Loading weights from 3 database(s)\n",
      "            Found 10 variants in top_loci\n"
     ]
    },
    {
     "name": "stderr",
     "output_type": "stream",
     "text": [
      "Gene ENSG00000126267_Exc_DeJager_eQTL_MSBB : Selected 10 variants in credible sets out of 10 total variants\n",
      "\n",
      "  Coverage distribution: cs_0.95 = 10\n",
      "\n"
     ]
    },
    {
     "name": "stdout",
     "output_type": "stream",
     "text": [
      "            ✓ Successfully extracted 10 CS variants for gene ENSG00000126267 in context Exc_DeJager_eQTL cohort MSBB\n",
      "          Processing gene 2/2: ENSG00000167595\n",
      "            Loading weights from 2 database(s)\n"
     ]
    },
    {
     "name": "stderr",
     "output_type": "stream",
     "text": [
      "list twas_weights is not found in ENSG00000167595.  \n",
      "\n",
      "\n",
      "Warning message in doTryCatch(return(expr), name, parentenv, handler):\n",
      "“Gene ENSG00000167595 in context Exc_DeJager_eQTL cohort MSBB : load_twas_weights() did not return a list”\n"
     ]
    },
    {
     "name": "stdout",
     "output_type": "stream",
     "text": [
      "      Processing context: Ast_DeJager_eQTL\n",
      "        1 genes in this context\n",
      "          Processing gene 1/1: ENSG00000272333\n",
      "            Loading weights from 3 database(s)\n"
     ]
    },
    {
     "name": "stderr",
     "output_type": "stream",
     "text": [
      "list twas_weights is not found in ENSG00000272333.  \n",
      "\n",
      "\n",
      "Warning message in doTryCatch(return(expr), name, parentenv, handler):\n",
      "“Gene ENSG00000272333 in context Ast_DeJager_eQTL cohort MSBB : load_twas_weights() did not return a list”\n"
     ]
    },
    {
     "name": "stdout",
     "output_type": "stream",
     "text": [
      "      Processing context: Oli_DeJager_eQTL\n",
      "        1 genes in this context\n",
      "          Processing gene 1/1: ENSG00000272333\n",
      "            Loading weights from 3 database(s)\n"
     ]
    },
    {
     "name": "stderr",
     "output_type": "stream",
     "text": [
      "list twas_weights is not found in ENSG00000272333.  \n",
      "\n",
      "\n",
      "Warning message in doTryCatch(return(expr), name, parentenv, handler):\n",
      "“Gene ENSG00000272333 in context Oli_DeJager_eQTL cohort MSBB : load_twas_weights() did not return a list”\n"
     ]
    },
    {
     "name": "stdout",
     "output_type": "stream",
     "text": [
      "      Processing context: Exc_mega_eQTL\n",
      "        1 genes in this context\n",
      "          Processing gene 1/1: ENSG00000167595\n",
      "            Loading weights from 2 database(s)\n"
     ]
    },
    {
     "name": "stderr",
     "output_type": "stream",
     "text": [
      "list twas_weights is not found in ENSG00000167595.  \n",
      "\n",
      "\n",
      "Warning message in doTryCatch(return(expr), name, parentenv, handler):\n",
      "“Gene ENSG00000167595 in context Exc_mega_eQTL cohort MSBB : load_twas_weights() did not return a list”\n"
     ]
    },
    {
     "name": "stdout",
     "output_type": "stream",
     "text": [
      "  Processing region 9/28: chr1_205972031_208461272\n",
      "    Found 2 significant genes across 2 contexts in region chr1_205972031_208461272\n",
      "    Contexts: BM_22_MSBB_eQTL, DLPFC_DeJager_eQTL\n",
      "      Processing context: BM_22_MSBB_eQTL\n",
      "        1 genes in this context\n",
      "          Processing gene 1/1: ENSG00000276600\n",
      "            Loading weights from 2 database(s)\n"
     ]
    },
    {
     "name": "stderr",
     "output_type": "stream",
     "text": [
      "list twas_weights is not found in ENSG00000276600.  \n",
      "\n",
      "\n",
      "Warning message in doTryCatch(return(expr), name, parentenv, handler):\n",
      "“Gene ENSG00000276600 in context BM_22_MSBB_eQTL cohort MSBB : load_twas_weights() did not return a list”\n"
     ]
    },
    {
     "name": "stdout",
     "output_type": "stream",
     "text": [
      "      Processing context: DLPFC_DeJager_eQTL\n",
      "        1 genes in this context\n",
      "          Processing gene 1/1: ENSG00000198049\n",
      "            Loading weights from 2 database(s)\n"
     ]
    },
    {
     "name": "stderr",
     "output_type": "stream",
     "text": [
      "Warning message in doTryCatch(return(expr), name, parentenv, handler):\n",
      "“Gene ENSG00000198049 in context DLPFC_DeJager_eQTL cohort MSBB : No top_loci in susie results”\n"
     ]
    },
    {
     "name": "stdout",
     "output_type": "stream",
     "text": [
      "  Processing region 10/28: chr1_234364329_235656952\n",
      "    Found 2 significant genes across 2 contexts in region chr1_234364329_235656952\n",
      "    Contexts: MSBB_BM36_pQTL_chr1_O95749, Oli_mega_eQTL\n",
      "      Processing context: MSBB_BM36_pQTL_chr1_O95749\n",
      "        1 genes in this context\n",
      "          Processing gene 1/1: ENSG00000152904\n",
      "            Loading weights from 3 database(s)\n",
      "            Found 119 variants in top_loci\n"
     ]
    },
    {
     "name": "stderr",
     "output_type": "stream",
     "text": [
      "Gene ENSG00000152904_MSBB_BM36_pQTL_chr1_O95749_MSBB : Selected 119 variants in credible sets out of 119 total variants\n",
      "\n",
      "  Coverage distribution: cs_0.95 = 119\n",
      "\n"
     ]
    },
    {
     "name": "stdout",
     "output_type": "stream",
     "text": [
      "            ✓ Successfully extracted 119 CS variants for gene ENSG00000152904 in context MSBB_BM36_pQTL_chr1_O95749 cohort MSBB\n",
      "      Processing context: Oli_mega_eQTL\n",
      "        1 genes in this context\n",
      "          Processing gene 1/1: ENSG00000168264\n",
      "            Loading weights from 3 database(s)\n"
     ]
    },
    {
     "name": "stderr",
     "output_type": "stream",
     "text": [
      "Warning message in doTryCatch(return(expr), name, parentenv, handler):\n",
      "“Gene ENSG00000168264 in context Oli_mega_eQTL cohort MSBB : No top_loci in susie results”\n"
     ]
    },
    {
     "name": "stdout",
     "output_type": "stream",
     "text": [
      "  Processing region 11/28: chr2_25676346_29800507\n",
      "    Found 1 significant genes across 1 contexts in region chr2_25676346_29800507\n",
      "    Contexts: MSBB_BM36_pQTL_chr2_P50053-2\n",
      "      Processing context: MSBB_BM36_pQTL_chr2_P50053-2\n",
      "        1 genes in this context\n",
      "          Processing gene 1/1: ENSG00000138030\n",
      "            Loading weights from 3 database(s)\n"
     ]
    },
    {
     "name": "stderr",
     "output_type": "stream",
     "text": [
      "list twas_weights is not found in ENSG00000138030.  \n",
      "\n",
      "\n",
      "Warning message in doTryCatch(return(expr), name, parentenv, handler):\n",
      "“Gene ENSG00000138030 in context MSBB_BM36_pQTL_chr2_P50053-2 cohort MSBB : load_twas_weights() did not return a list”\n"
     ]
    },
    {
     "name": "stdout",
     "output_type": "stream",
     "text": [
      "  Processing region 12/28: chr3_156292136_159760299\n",
      "    Found 1 significant genes across 6 contexts in region chr3_156292136_159760299\n",
      "    Contexts: BM_36_MSBB_eQTL, AC_DeJager_eQTL, DLPFC_DeJager_eQTL, Oli_DeJager_eQTL, PCC_DeJager_eQTL, Oli_mega_eQTL\n",
      "      Processing context: BM_36_MSBB_eQTL\n",
      "        1 genes in this context\n",
      "          Processing gene 1/1: ENSG00000283154\n",
      "            Loading weights from 2 database(s)\n"
     ]
    },
    {
     "name": "stderr",
     "output_type": "stream",
     "text": [
      "list twas_weights is not found in ENSG00000283154.  \n",
      "\n",
      "\n",
      "Warning message in doTryCatch(return(expr), name, parentenv, handler):\n",
      "“Gene ENSG00000283154 in context BM_36_MSBB_eQTL cohort MSBB : load_twas_weights() did not return a list”\n"
     ]
    },
    {
     "name": "stdout",
     "output_type": "stream",
     "text": [
      "      Processing context: AC_DeJager_eQTL\n",
      "        1 genes in this context\n",
      "          Processing gene 1/1: ENSG00000283154\n",
      "            Loading weights from 2 database(s)\n"
     ]
    },
    {
     "name": "stderr",
     "output_type": "stream",
     "text": [
      "list twas_weights is not found in ENSG00000283154.  \n",
      "\n",
      "\n",
      "Warning message in doTryCatch(return(expr), name, parentenv, handler):\n",
      "“Gene ENSG00000283154 in context AC_DeJager_eQTL cohort MSBB : load_twas_weights() did not return a list”\n"
     ]
    },
    {
     "name": "stdout",
     "output_type": "stream",
     "text": [
      "      Processing context: DLPFC_DeJager_eQTL\n",
      "        1 genes in this context\n",
      "          Processing gene 1/1: ENSG00000283154\n",
      "            Loading weights from 2 database(s)\n"
     ]
    },
    {
     "name": "stderr",
     "output_type": "stream",
     "text": [
      "list twas_weights is not found in ENSG00000283154.  \n",
      "\n",
      "\n",
      "Warning message in doTryCatch(return(expr), name, parentenv, handler):\n",
      "“Gene ENSG00000283154 in context DLPFC_DeJager_eQTL cohort MSBB : load_twas_weights() did not return a list”\n"
     ]
    },
    {
     "name": "stdout",
     "output_type": "stream",
     "text": [
      "      Processing context: Oli_DeJager_eQTL\n",
      "        1 genes in this context\n",
      "          Processing gene 1/1: ENSG00000283154\n",
      "            Loading weights from 2 database(s)\n"
     ]
    },
    {
     "name": "stderr",
     "output_type": "stream",
     "text": [
      "list twas_weights is not found in ENSG00000283154.  \n",
      "\n",
      "\n",
      "Warning message in doTryCatch(return(expr), name, parentenv, handler):\n",
      "“Gene ENSG00000283154 in context Oli_DeJager_eQTL cohort MSBB : load_twas_weights() did not return a list”\n"
     ]
    },
    {
     "name": "stdout",
     "output_type": "stream",
     "text": [
      "      Processing context: PCC_DeJager_eQTL\n",
      "        1 genes in this context\n",
      "          Processing gene 1/1: ENSG00000283154\n",
      "            Loading weights from 2 database(s)\n"
     ]
    },
    {
     "name": "stderr",
     "output_type": "stream",
     "text": [
      "list twas_weights is not found in ENSG00000283154.  \n",
      "\n",
      "\n",
      "Warning message in doTryCatch(return(expr), name, parentenv, handler):\n",
      "“Gene ENSG00000283154 in context PCC_DeJager_eQTL cohort MSBB : load_twas_weights() did not return a list”\n"
     ]
    },
    {
     "name": "stdout",
     "output_type": "stream",
     "text": [
      "      Processing context: Oli_mega_eQTL\n",
      "        1 genes in this context\n",
      "          Processing gene 1/1: ENSG00000283154\n",
      "            Loading weights from 2 database(s)\n"
     ]
    },
    {
     "name": "stderr",
     "output_type": "stream",
     "text": [
      "list twas_weights is not found in ENSG00000283154.  \n",
      "\n",
      "\n",
      "Warning message in doTryCatch(return(expr), name, parentenv, handler):\n",
      "“Gene ENSG00000283154 in context Oli_mega_eQTL cohort MSBB : load_twas_weights() did not return a list”\n"
     ]
    },
    {
     "name": "stdout",
     "output_type": "stream",
     "text": [
      "  Processing region 13/28: chr7_43119648_45483849\n",
      "    Found 1 significant genes across 1 contexts in region chr7_43119648_45483849\n",
      "    Contexts: BM_22_MSBB_eQTL\n",
      "      Processing context: BM_22_MSBB_eQTL\n",
      "        1 genes in this context\n",
      "          Processing gene 1/1: ENSG00000164543\n",
      "            Loading weights from 2 database(s)\n",
      "            Found 4 variants in top_loci\n"
     ]
    },
    {
     "name": "stderr",
     "output_type": "stream",
     "text": [
      "Warning message in select_all_cs_variants(df, gene_context_cohort_id):\n",
      "“Gene ENSG00000164543_BM_22_MSBB_eQTL_MSBB : No variants with credible set coverage > 0”\n",
      "Warning message in doTryCatch(return(expr), name, parentenv, handler):\n",
      "“Gene ENSG00000164543 in context BM_22_MSBB_eQTL cohort MSBB : No CS variants found”\n"
     ]
    },
    {
     "name": "stdout",
     "output_type": "stream",
     "text": [
      "  Processing region 14/28: chr10_100331627_104378781\n",
      "    Found 1 significant genes across 1 contexts in region chr10_100331627_104378781\n",
      "    Contexts: Exc_DeJager_eQTL\n",
      "      Processing context: Exc_DeJager_eQTL\n",
      "        1 genes in this context\n",
      "          Processing gene 1/1: ENSG00000107960\n",
      "            Loading weights from 2 database(s)\n",
      "            Found 3 variants in top_loci\n"
     ]
    },
    {
     "name": "stderr",
     "output_type": "stream",
     "text": [
      "Warning message in select_all_cs_variants(df, gene_context_cohort_id):\n",
      "“Gene ENSG00000107960_Exc_DeJager_eQTL_MSBB : No variants with credible set coverage > 0”\n",
      "Warning message in doTryCatch(return(expr), name, parentenv, handler):\n",
      "“Gene ENSG00000107960 in context Exc_DeJager_eQTL cohort MSBB : No CS variants found”\n"
     ]
    },
    {
     "name": "stdout",
     "output_type": "stream",
     "text": [
      "  Processing region 15/28: chr16_51830934_54306975\n",
      "    Found 1 significant genes across 2 contexts in region chr16_51830934_54306975\n",
      "    Contexts: Oli_DeJager_eQTL, Oli_mega_eQTL\n",
      "      Processing context: Oli_DeJager_eQTL\n",
      "        1 genes in this context\n",
      "          Processing gene 1/1: ENSG00000103460\n",
      "            Loading weights from 2 database(s)\n"
     ]
    },
    {
     "name": "stderr",
     "output_type": "stream",
     "text": [
      "list twas_weights is not found in ENSG00000103460.  \n",
      "\n",
      "\n",
      "Warning message in doTryCatch(return(expr), name, parentenv, handler):\n",
      "“Gene ENSG00000103460 in context Oli_DeJager_eQTL cohort MSBB : load_twas_weights() did not return a list”\n"
     ]
    },
    {
     "name": "stdout",
     "output_type": "stream",
     "text": [
      "      Processing context: Oli_mega_eQTL\n",
      "        1 genes in this context\n",
      "          Processing gene 1/1: ENSG00000103460\n",
      "            Loading weights from 2 database(s)\n"
     ]
    },
    {
     "name": "stderr",
     "output_type": "stream",
     "text": [
      "list twas_weights is not found in ENSG00000103460.  \n",
      "\n",
      "\n",
      "Warning message in doTryCatch(return(expr), name, parentenv, handler):\n",
      "“Gene ENSG00000103460 in context Oli_mega_eQTL cohort MSBB : load_twas_weights() did not return a list”\n"
     ]
    },
    {
     "name": "stdout",
     "output_type": "stream",
     "text": [
      "  Processing region 16/28: chr16_88382277_90220225\n",
      "    Found 3 significant genes across 5 contexts in region chr16_88382277_90220225\n",
      "    Contexts: Exc_DeJager_eQTL, PCC_DeJager_eQTL, AC_DeJager_eQTL, DLPFC_DeJager_eQTL, Oli_mega_eQTL\n",
      "      Processing context: Exc_DeJager_eQTL\n",
      "        1 genes in this context\n",
      "          Processing gene 1/1: ENSG00000141002\n",
      "            Loading weights from 3 database(s)\n"
     ]
    },
    {
     "name": "stderr",
     "output_type": "stream",
     "text": [
      "list twas_weights is not found in ENSG00000141002.  \n",
      "\n",
      "\n",
      "Warning message in doTryCatch(return(expr), name, parentenv, handler):\n",
      "“Gene ENSG00000141002 in context Exc_DeJager_eQTL cohort MSBB : load_twas_weights() did not return a list”\n"
     ]
    },
    {
     "name": "stdout",
     "output_type": "stream",
     "text": [
      "      Processing context: PCC_DeJager_eQTL\n",
      "        2 genes in this context\n",
      "          Processing gene 1/2: ENSG00000185324\n",
      "            Loading weights from 2 database(s)\n",
      "            Found 12 variants in top_loci\n"
     ]
    },
    {
     "name": "stderr",
     "output_type": "stream",
     "text": [
      "Gene ENSG00000185324_PCC_DeJager_eQTL_MSBB : Selected 8 variants in credible sets out of 12 total variants\n",
      "\n",
      "  Coverage distribution: cs_0.7 = 8\n",
      "\n"
     ]
    },
    {
     "name": "stdout",
     "output_type": "stream",
     "text": [
      "            ✓ Successfully extracted 8 CS variants for gene ENSG00000185324 in context PCC_DeJager_eQTL cohort MSBB\n",
      "          Processing gene 2/2: ENSG00000258839\n",
      "            Loading weights from 2 database(s)\n"
     ]
    },
    {
     "name": "stderr",
     "output_type": "stream",
     "text": [
      "Warning message in doTryCatch(return(expr), name, parentenv, handler):\n",
      "“Gene ENSG00000258839 in context PCC_DeJager_eQTL cohort MSBB : No top_loci in susie results”\n"
     ]
    },
    {
     "name": "stdout",
     "output_type": "stream",
     "text": [
      "      Processing context: AC_DeJager_eQTL\n",
      "        1 genes in this context\n",
      "          Processing gene 1/1: ENSG00000258839\n",
      "            Loading weights from 2 database(s)\n"
     ]
    },
    {
     "name": "stderr",
     "output_type": "stream",
     "text": [
      "Warning message in doTryCatch(return(expr), name, parentenv, handler):\n",
      "“Gene ENSG00000258839 in context AC_DeJager_eQTL cohort MSBB : No top_loci in susie results”\n"
     ]
    },
    {
     "name": "stdout",
     "output_type": "stream",
     "text": [
      "      Processing context: DLPFC_DeJager_eQTL\n",
      "        1 genes in this context\n",
      "          Processing gene 1/1: ENSG00000258839\n",
      "            Loading weights from 2 database(s)\n"
     ]
    },
    {
     "name": "stderr",
     "output_type": "stream",
     "text": [
      "Warning message in doTryCatch(return(expr), name, parentenv, handler):\n",
      "“Gene ENSG00000258839 in context DLPFC_DeJager_eQTL cohort MSBB : No top_loci in susie results”\n"
     ]
    },
    {
     "name": "stdout",
     "output_type": "stream",
     "text": [
      "      Processing context: Oli_mega_eQTL\n",
      "        1 genes in this context\n",
      "          Processing gene 1/1: ENSG00000185324\n",
      "            Loading weights from 2 database(s)\n",
      "            Found 12 variants in top_loci\n"
     ]
    },
    {
     "name": "stderr",
     "output_type": "stream",
     "text": [
      "Gene ENSG00000185324_Oli_mega_eQTL_MSBB : Selected 8 variants in credible sets out of 12 total variants\n",
      "\n",
      "  Coverage distribution: cs_0.7 = 8\n",
      "\n"
     ]
    },
    {
     "name": "stdout",
     "output_type": "stream",
     "text": [
      "            ✓ Successfully extracted 8 CS variants for gene ENSG00000185324 in context Oli_mega_eQTL cohort MSBB\n",
      "  Processing region 17/28: chr17_27951253_31594410\n",
      "    Found 2 significant genes across 2 contexts in region chr17_27951253_31594410\n",
      "    Contexts: AC_DeJager_eQTL, DLPFC_DeJager_eQTL\n",
      "      Processing context: AC_DeJager_eQTL\n",
      "        1 genes in this context\n",
      "          Processing gene 1/1: ENSG00000141298\n",
      "            Loading weights from 3 database(s)\n",
      "            Found 54 variants in top_loci\n"
     ]
    },
    {
     "name": "stderr",
     "output_type": "stream",
     "text": [
      "Gene ENSG00000141298_AC_DeJager_eQTL_MSBB : Selected 54 variants in credible sets out of 54 total variants\n",
      "\n",
      "  Coverage distribution: cs_0.5 = 54\n",
      "\n"
     ]
    },
    {
     "name": "stdout",
     "output_type": "stream",
     "text": [
      "            ✓ Successfully extracted 54 CS variants for gene ENSG00000141298 in context AC_DeJager_eQTL cohort MSBB\n",
      "      Processing context: DLPFC_DeJager_eQTL\n",
      "        1 genes in this context\n",
      "          Processing gene 1/1: ENSG00000126860\n",
      "            Loading weights from 3 database(s)\n"
     ]
    },
    {
     "name": "stderr",
     "output_type": "stream",
     "text": [
      "Warning message in doTryCatch(return(expr), name, parentenv, handler):\n",
      "“Gene ENSG00000126860 in context DLPFC_DeJager_eQTL cohort MSBB : No top_loci in susie results”\n"
     ]
    },
    {
     "name": "stdout",
     "output_type": "stream",
     "text": [
      "  Processing region 18/28: chr1_106225286_109761915\n",
      "    Found 1 significant genes across 1 contexts in region chr1_106225286_109761915\n",
      "    Contexts: Ast_DeJager_eQTL\n",
      "      Processing context: Ast_DeJager_eQTL\n",
      "        1 genes in this context\n",
      "          Processing gene 1/1: ENSG00000197780\n",
      "            Loading weights from 2 database(s)\n"
     ]
    },
    {
     "name": "stderr",
     "output_type": "stream",
     "text": [
      "list twas_weights is not found in ENSG00000197780.  \n",
      "\n",
      "\n",
      "Warning message in doTryCatch(return(expr), name, parentenv, handler):\n",
      "“Gene ENSG00000197780 in context Ast_DeJager_eQTL cohort MSBB : load_twas_weights() did not return a list”\n"
     ]
    },
    {
     "name": "stdout",
     "output_type": "stream",
     "text": [
      "  Processing region 19/28: chr1_214114077_215979204\n",
      "    Found 1 significant genes across 3 contexts in region chr1_214114077_215979204\n",
      "    Contexts: DLPFC_DeJager_eQTL, Exc_DeJager_eQTL, Exc_mega_eQTL\n",
      "      Processing context: DLPFC_DeJager_eQTL\n",
      "        1 genes in this context\n",
      "          Processing gene 1/1: ENSG00000082482\n",
      "            Loading weights from 2 database(s)\n"
     ]
    },
    {
     "name": "stderr",
     "output_type": "stream",
     "text": [
      "list twas_weights is not found in ENSG00000082482.  \n",
      "\n",
      "\n",
      "Warning message in doTryCatch(return(expr), name, parentenv, handler):\n",
      "“Gene ENSG00000082482 in context DLPFC_DeJager_eQTL cohort MSBB : load_twas_weights() did not return a list”\n"
     ]
    },
    {
     "name": "stdout",
     "output_type": "stream",
     "text": [
      "      Processing context: Exc_DeJager_eQTL\n",
      "        1 genes in this context\n",
      "          Processing gene 1/1: ENSG00000082482\n",
      "            Loading weights from 2 database(s)\n"
     ]
    },
    {
     "name": "stderr",
     "output_type": "stream",
     "text": [
      "list twas_weights is not found in ENSG00000082482.  \n",
      "\n",
      "\n",
      "Warning message in doTryCatch(return(expr), name, parentenv, handler):\n",
      "“Gene ENSG00000082482 in context Exc_DeJager_eQTL cohort MSBB : load_twas_weights() did not return a list”\n"
     ]
    },
    {
     "name": "stdout",
     "output_type": "stream",
     "text": [
      "      Processing context: Exc_mega_eQTL\n",
      "        1 genes in this context\n",
      "          Processing gene 1/1: ENSG00000082482\n",
      "            Loading weights from 2 database(s)\n"
     ]
    },
    {
     "name": "stderr",
     "output_type": "stream",
     "text": [
      "list twas_weights is not found in ENSG00000082482.  \n",
      "\n",
      "\n",
      "Warning message in doTryCatch(return(expr), name, parentenv, handler):\n",
      "“Gene ENSG00000082482 in context Exc_mega_eQTL cohort MSBB : load_twas_weights() did not return a list”\n"
     ]
    },
    {
     "name": "stdout",
     "output_type": "stream",
     "text": [
      "  Processing region 20/28: chr2_187801142_191595348\n",
      "    Found 1 significant genes across 1 contexts in region chr2_187801142_191595348\n",
      "    Contexts: Ast_DeJager_eQTL\n",
      "      Processing context: Ast_DeJager_eQTL\n",
      "        1 genes in this context\n",
      "          Processing gene 1/1: ENSG00000115368\n",
      "            Loading weights from 2 database(s)\n"
     ]
    },
    {
     "name": "stderr",
     "output_type": "stream",
     "text": [
      "Warning message in doTryCatch(return(expr), name, parentenv, handler):\n",
      "“Gene ENSG00000115368 in context Ast_DeJager_eQTL cohort MSBB : No top_loci in susie results”\n"
     ]
    },
    {
     "name": "stdout",
     "output_type": "stream",
     "text": [
      "  Processing region 21/28: chr6_3574220_4657971\n",
      "    Found 1 significant genes across 1 contexts in region chr6_3574220_4657971\n",
      "    Contexts: Oli_DeJager_eQTL\n",
      "      Processing context: Oli_DeJager_eQTL\n",
      "        1 genes in this context\n",
      "          Processing gene 1/1: ENSG00000112739\n",
      "            Loading weights from 3 database(s)\n"
     ]
    },
    {
     "name": "stderr",
     "output_type": "stream",
     "text": [
      "list twas_weights is not found in ENSG00000112739.  \n",
      "\n",
      "\n",
      "Warning message in doTryCatch(return(expr), name, parentenv, handler):\n",
      "“Gene ENSG00000112739 in context Oli_DeJager_eQTL cohort MSBB : load_twas_weights() did not return a list”\n"
     ]
    },
    {
     "name": "stdout",
     "output_type": "stream",
     "text": [
      "  Processing region 22/28: chr8_117613122_120167358\n",
      "    Found 1 significant genes across 1 contexts in region chr8_117613122_120167358\n",
      "    Contexts: Exc_DeJager_eQTL\n",
      "      Processing context: Exc_DeJager_eQTL\n",
      "        1 genes in this context\n",
      "          Processing gene 1/1: ENSG00000147676\n",
      "            Loading weights from 3 database(s)\n"
     ]
    },
    {
     "name": "stderr",
     "output_type": "stream",
     "text": [
      "Warning message in doTryCatch(return(expr), name, parentenv, handler):\n",
      "“Gene ENSG00000147676 in context Exc_DeJager_eQTL cohort MSBB : No top_loci in susie results”\n"
     ]
    },
    {
     "name": "stdout",
     "output_type": "stream",
     "text": [
      "  Processing region 23/28: chr8_30324658_31407027\n",
      "    Found 1 significant genes across 1 contexts in region chr8_30324658_31407027\n",
      "    Contexts: Exc_DeJager_eQTL\n",
      "      Processing context: Exc_DeJager_eQTL\n",
      "        1 genes in this context\n",
      "          Processing gene 1/1: ENSG00000172733\n",
      "            Loading weights from 3 database(s)\n"
     ]
    },
    {
     "name": "stderr",
     "output_type": "stream",
     "text": [
      "Warning message in doTryCatch(return(expr), name, parentenv, handler):\n",
      "“Gene ENSG00000172733 in context Exc_DeJager_eQTL cohort MSBB : No top_loci in susie results”\n"
     ]
    },
    {
     "name": "stdout",
     "output_type": "stream",
     "text": [
      "  Processing region 24/28: chr17_60570445_65149278\n",
      "    Found 1 significant genes across 1 contexts in region chr17_60570445_65149278\n",
      "    Contexts: Ast_mega_eQTL\n",
      "      Processing context: Ast_mega_eQTL\n",
      "        1 genes in this context\n",
      "          Processing gene 1/1: ENSG00000108604\n",
      "            Loading weights from 3 database(s)\n",
      "            Found 4 variants in top_loci\n"
     ]
    },
    {
     "name": "stderr",
     "output_type": "stream",
     "text": [
      "Warning message in select_all_cs_variants(df, gene_context_cohort_id):\n",
      "“Gene ENSG00000108604_Ast_mega_eQTL_MSBB : No variants with credible set coverage > 0”\n",
      "Warning message in doTryCatch(return(expr), name, parentenv, handler):\n",
      "“Gene ENSG00000108604 in context Ast_mega_eQTL cohort MSBB : No CS variants found”\n"
     ]
    },
    {
     "name": "stdout",
     "output_type": "stream",
     "text": [
      "  Processing region 25/28: chr6_145632539_148538997\n",
      "    Found 1 significant genes across 1 contexts in region chr6_145632539_148538997\n",
      "    Contexts: Oli_mega_eQTL\n",
      "      Processing context: Oli_mega_eQTL\n",
      "        1 genes in this context\n",
      "          Processing gene 1/1: ENSG00000146414\n",
      "            Loading weights from 2 database(s)\n"
     ]
    },
    {
     "name": "stderr",
     "output_type": "stream",
     "text": [
      "Warning message in doTryCatch(return(expr), name, parentenv, handler):\n",
      "“Gene ENSG00000146414 in context Oli_mega_eQTL cohort MSBB : No top_loci in susie results”\n"
     ]
    },
    {
     "name": "stdout",
     "output_type": "stream",
     "text": [
      "  Processing region 26/28: chr7_139984618_141109068\n",
      "    Found 1 significant genes across 1 contexts in region chr7_139984618_141109068\n",
      "    Contexts: Ast_mega_eQTL\n",
      "      Processing context: Ast_mega_eQTL\n",
      "        1 genes in this context\n",
      "          Processing gene 1/1: ENSG00000157764\n",
      "            Loading weights from 3 database(s)\n"
     ]
    },
    {
     "name": "stderr",
     "output_type": "stream",
     "text": [
      "Warning message in doTryCatch(return(expr), name, parentenv, handler):\n",
      "“Gene ENSG00000157764 in context Ast_mega_eQTL cohort MSBB : No top_loci in susie results”\n"
     ]
    },
    {
     "name": "stdout",
     "output_type": "stream",
     "text": [
      "  Processing region 27/28: chr8_6537503_8880095\n",
      "    Found 1 significant genes across 1 contexts in region chr8_6537503_8880095\n",
      "    Contexts: OPC_mega_eQTL\n",
      "      Processing context: OPC_mega_eQTL\n",
      "        1 genes in this context\n",
      "          Processing gene 1/1: ENSG00000091879\n",
      "            Loading weights from 2 database(s)\n"
     ]
    },
    {
     "name": "stderr",
     "output_type": "stream",
     "text": [
      "list twas_weights is not found in ENSG00000091879.  \n",
      "\n",
      "\n",
      "Warning message in doTryCatch(return(expr), name, parentenv, handler):\n",
      "“Gene ENSG00000091879 in context OPC_mega_eQTL cohort MSBB : load_twas_weights() did not return a list”\n"
     ]
    },
    {
     "name": "stdout",
     "output_type": "stream",
     "text": [
      "  Processing region 28/28: chr12_54557704_56408332\n",
      "    Found 1 significant genes across 1 contexts in region chr12_54557704_56408332\n",
      "    Contexts: ROSMAP_AC_sQTL_chr12:56226419:56229013:clu_90187_+:PR:ENSG00000139579\n",
      "      Processing context: ROSMAP_AC_sQTL_chr12:56226419:56229013:clu_90187_+:PR:ENSG00000139579\n",
      "        1 genes in this context\n",
      "          Processing gene 1/1: ENSG00000139579\n",
      "            Loading weights from 2 database(s)\n"
     ]
    },
    {
     "name": "stderr",
     "output_type": "stream",
     "text": [
      "list twas_weights is not found in ENSG00000139579.  \n",
      "\n",
      "\n",
      "Warning message in doTryCatch(return(expr), name, parentenv, handler):\n",
      "“Gene ENSG00000139579 in context ROSMAP_AC_sQTL_chr12:56226419:56229013:clu_90187_+:PR:ENSG00000139579 cohort MSBB : load_twas_weights() did not return a list”\n"
     ]
    },
    {
     "name": "stdout",
     "output_type": "stream",
     "text": [
      "  Completed cohort MSBB: 43/102 genes with credible sets, 561 total CS variants\n",
      "\n",
      "=== PROCESSING COHORT 3/4: ROSMAP ===\n",
      "Loading weight database metadata: ~/data/interactive_analysis/cl4215/ROSMAP_twas_wgw_xqtl_meta_data.tsv\n",
      "Loaded 16976 weight database entries for ROSMAP\n",
      "  Processing region 1/28: chr1_16103_2888443\n",
      "    Found 2 significant genes across 9 contexts in region chr1_16103_2888443\n",
      "    Contexts: Knight_eQTL_brain, BM_10_MSBB_eQTL, BM_22_MSBB_eQTL, BM_36_MSBB_eQTL, BM_44_MSBB_eQTL, Exc_DeJager_eQTL, AC_DeJager_eQTL, DLPFC_DeJager_eQTL, PCC_DeJager_eQTL\n",
      "      Processing context: Knight_eQTL_brain\n",
      "        1 genes in this context\n",
      "          Processing gene 1/1: ENSG00000142609\n",
      "            Loading weights from 2 database(s)\n",
      "            Found 38 variants in top_loci\n"
     ]
    },
    {
     "name": "stderr",
     "output_type": "stream",
     "text": [
      "Gene ENSG00000142609_Knight_eQTL_brain_ROSMAP : Selected 36 variants in credible sets out of 38 total variants\n",
      "\n",
      "  Coverage distribution: cs_0.95 = 36\n",
      "\n"
     ]
    },
    {
     "name": "stdout",
     "output_type": "stream",
     "text": [
      "            ✓ Successfully extracted 36 CS variants for gene ENSG00000142609 in context Knight_eQTL_brain cohort ROSMAP\n",
      "      Processing context: BM_10_MSBB_eQTL\n",
      "        1 genes in this context\n",
      "          Processing gene 1/1: ENSG00000142609\n",
      "            Loading weights from 2 database(s)\n",
      "            Found 38 variants in top_loci\n"
     ]
    },
    {
     "name": "stderr",
     "output_type": "stream",
     "text": [
      "Gene ENSG00000142609_BM_10_MSBB_eQTL_ROSMAP : Selected 36 variants in credible sets out of 38 total variants\n",
      "\n",
      "  Coverage distribution: cs_0.95 = 36\n",
      "\n"
     ]
    },
    {
     "name": "stdout",
     "output_type": "stream",
     "text": [
      "            ✓ Successfully extracted 36 CS variants for gene ENSG00000142609 in context BM_10_MSBB_eQTL cohort ROSMAP\n",
      "      Processing context: BM_22_MSBB_eQTL\n",
      "        1 genes in this context\n",
      "          Processing gene 1/1: ENSG00000142609\n",
      "            Loading weights from 2 database(s)\n",
      "            Found 38 variants in top_loci\n"
     ]
    },
    {
     "name": "stderr",
     "output_type": "stream",
     "text": [
      "Gene ENSG00000142609_BM_22_MSBB_eQTL_ROSMAP : Selected 36 variants in credible sets out of 38 total variants\n",
      "\n",
      "  Coverage distribution: cs_0.95 = 36\n",
      "\n"
     ]
    },
    {
     "name": "stdout",
     "output_type": "stream",
     "text": [
      "            ✓ Successfully extracted 36 CS variants for gene ENSG00000142609 in context BM_22_MSBB_eQTL cohort ROSMAP\n",
      "      Processing context: BM_36_MSBB_eQTL\n",
      "        1 genes in this context\n",
      "          Processing gene 1/1: ENSG00000142609\n",
      "            Loading weights from 2 database(s)\n",
      "            Found 38 variants in top_loci\n"
     ]
    },
    {
     "name": "stderr",
     "output_type": "stream",
     "text": [
      "Gene ENSG00000142609_BM_36_MSBB_eQTL_ROSMAP : Selected 36 variants in credible sets out of 38 total variants\n",
      "\n",
      "  Coverage distribution: cs_0.95 = 36\n",
      "\n"
     ]
    },
    {
     "name": "stdout",
     "output_type": "stream",
     "text": [
      "            ✓ Successfully extracted 36 CS variants for gene ENSG00000142609 in context BM_36_MSBB_eQTL cohort ROSMAP\n",
      "      Processing context: BM_44_MSBB_eQTL\n",
      "        1 genes in this context\n",
      "          Processing gene 1/1: ENSG00000142609\n",
      "            Loading weights from 2 database(s)\n",
      "            Found 38 variants in top_loci\n"
     ]
    },
    {
     "name": "stderr",
     "output_type": "stream",
     "text": [
      "Gene ENSG00000142609_BM_44_MSBB_eQTL_ROSMAP : Selected 36 variants in credible sets out of 38 total variants\n",
      "\n",
      "  Coverage distribution: cs_0.95 = 36\n",
      "\n"
     ]
    },
    {
     "name": "stdout",
     "output_type": "stream",
     "text": [
      "            ✓ Successfully extracted 36 CS variants for gene ENSG00000142609 in context BM_44_MSBB_eQTL cohort ROSMAP\n",
      "      Processing context: Exc_DeJager_eQTL\n",
      "        1 genes in this context\n",
      "          Processing gene 1/1: ENSG00000197785\n",
      "            Loading weights from 2 database(s)\n",
      "            Found 2 variants in top_loci\n"
     ]
    },
    {
     "name": "stderr",
     "output_type": "stream",
     "text": [
      "Gene ENSG00000197785_Exc_DeJager_eQTL_ROSMAP : Selected 1 variants in credible sets out of 2 total variants\n",
      "\n",
      "  Coverage distribution: cs_0.95 = 1\n",
      "\n"
     ]
    },
    {
     "name": "stdout",
     "output_type": "stream",
     "text": [
      "            ✓ Successfully extracted 1 CS variants for gene ENSG00000197785 in context Exc_DeJager_eQTL cohort ROSMAP\n",
      "      Processing context: AC_DeJager_eQTL\n",
      "        1 genes in this context\n",
      "          Processing gene 1/1: ENSG00000142609\n",
      "            Loading weights from 2 database(s)\n",
      "            Found 38 variants in top_loci\n"
     ]
    },
    {
     "name": "stderr",
     "output_type": "stream",
     "text": [
      "Gene ENSG00000142609_AC_DeJager_eQTL_ROSMAP : Selected 36 variants in credible sets out of 38 total variants\n",
      "\n",
      "  Coverage distribution: cs_0.95 = 36\n",
      "\n"
     ]
    },
    {
     "name": "stdout",
     "output_type": "stream",
     "text": [
      "            ✓ Successfully extracted 36 CS variants for gene ENSG00000142609 in context AC_DeJager_eQTL cohort ROSMAP\n",
      "      Processing context: DLPFC_DeJager_eQTL\n",
      "        1 genes in this context\n",
      "          Processing gene 1/1: ENSG00000142609\n",
      "            Loading weights from 2 database(s)\n",
      "            Found 38 variants in top_loci\n"
     ]
    },
    {
     "name": "stderr",
     "output_type": "stream",
     "text": [
      "Gene ENSG00000142609_DLPFC_DeJager_eQTL_ROSMAP : Selected 36 variants in credible sets out of 38 total variants\n",
      "\n",
      "  Coverage distribution: cs_0.95 = 36\n",
      "\n"
     ]
    },
    {
     "name": "stdout",
     "output_type": "stream",
     "text": [
      "            ✓ Successfully extracted 36 CS variants for gene ENSG00000142609 in context DLPFC_DeJager_eQTL cohort ROSMAP\n",
      "      Processing context: PCC_DeJager_eQTL\n",
      "        1 genes in this context\n",
      "          Processing gene 1/1: ENSG00000142609\n",
      "            Loading weights from 2 database(s)\n",
      "            Found 38 variants in top_loci\n"
     ]
    },
    {
     "name": "stderr",
     "output_type": "stream",
     "text": [
      "Gene ENSG00000142609_PCC_DeJager_eQTL_ROSMAP : Selected 36 variants in credible sets out of 38 total variants\n",
      "\n",
      "  Coverage distribution: cs_0.95 = 36\n",
      "\n"
     ]
    },
    {
     "name": "stdout",
     "output_type": "stream",
     "text": [
      "            ✓ Successfully extracted 36 CS variants for gene ENSG00000142609 in context PCC_DeJager_eQTL cohort ROSMAP\n",
      "  Processing region 2/28: chr1_204142966_205972031\n",
      "    Found 4 significant genes across 17 contexts in region chr1_204142966_205972031\n",
      "    Contexts: Knight_eQTL_brain, BM_10_MSBB_eQTL, BM_22_MSBB_eQTL, BM_36_MSBB_eQTL, BM_44_MSBB_eQTL, monocyte_ROSMAP_eQTL, Ast_DeJager_eQTL, Exc_DeJager_eQTL, Inh_DeJager_eQTL, Oli_DeJager_eQTL, PCC_DeJager_eQTL, AC_DeJager_eQTL, DLPFC_DeJager_eQTL, Ast_mega_eQTL, Exc_mega_eQTL, Inh_mega_eQTL, Oli_mega_eQTL\n",
      "      Processing context: Knight_eQTL_brain\n",
      "        2 genes in this context\n",
      "          Processing gene 1/2: ENSG00000117280\n",
      "            Loading weights from 2 database(s)\n",
      "            Found 21 variants in top_loci\n"
     ]
    },
    {
     "name": "stderr",
     "output_type": "stream",
     "text": [
      "Gene ENSG00000117280_Knight_eQTL_brain_ROSMAP : Selected 19 variants in credible sets out of 21 total variants\n",
      "\n",
      "  Coverage distribution: cs_0.95 = 19\n",
      "\n"
     ]
    },
    {
     "name": "stdout",
     "output_type": "stream",
     "text": [
      "            ✓ Successfully extracted 19 CS variants for gene ENSG00000117280 in context Knight_eQTL_brain cohort ROSMAP\n",
      "          Processing gene 2/2: ENSG00000162877\n",
      "            Loading weights from 2 database(s)\n",
      "            Found 18 variants in top_loci\n"
     ]
    },
    {
     "name": "stderr",
     "output_type": "stream",
     "text": [
      "Gene ENSG00000162877_Knight_eQTL_brain_ROSMAP : Selected 18 variants in credible sets out of 18 total variants\n",
      "\n",
      "  Coverage distribution: cs_0.95 = 18\n",
      "\n"
     ]
    },
    {
     "name": "stdout",
     "output_type": "stream",
     "text": [
      "            ✓ Successfully extracted 18 CS variants for gene ENSG00000162877 in context Knight_eQTL_brain cohort ROSMAP\n",
      "      Processing context: BM_10_MSBB_eQTL\n",
      "        3 genes in this context\n",
      "          Processing gene 1/3: ENSG00000117280\n",
      "            Loading weights from 2 database(s)\n",
      "            Found 21 variants in top_loci\n"
     ]
    },
    {
     "name": "stderr",
     "output_type": "stream",
     "text": [
      "Gene ENSG00000117280_BM_10_MSBB_eQTL_ROSMAP : Selected 19 variants in credible sets out of 21 total variants\n",
      "\n",
      "  Coverage distribution: cs_0.95 = 19\n",
      "\n"
     ]
    },
    {
     "name": "stdout",
     "output_type": "stream",
     "text": [
      "            ✓ Successfully extracted 19 CS variants for gene ENSG00000117280 in context BM_10_MSBB_eQTL cohort ROSMAP\n",
      "          Processing gene 2/3: ENSG00000162877\n",
      "            Loading weights from 2 database(s)\n",
      "            Found 18 variants in top_loci\n"
     ]
    },
    {
     "name": "stderr",
     "output_type": "stream",
     "text": [
      "Gene ENSG00000162877_BM_10_MSBB_eQTL_ROSMAP : Selected 18 variants in credible sets out of 18 total variants\n",
      "\n",
      "  Coverage distribution: cs_0.95 = 18\n",
      "\n"
     ]
    },
    {
     "name": "stdout",
     "output_type": "stream",
     "text": [
      "            ✓ Successfully extracted 18 CS variants for gene ENSG00000162877 in context BM_10_MSBB_eQTL cohort ROSMAP\n",
      "          Processing gene 3/3: ENSG00000174502\n",
      "            Loading weights from 2 database(s)\n",
      "            Found 6 variants in top_loci\n"
     ]
    },
    {
     "name": "stderr",
     "output_type": "stream",
     "text": [
      "Gene ENSG00000174502_BM_10_MSBB_eQTL_ROSMAP : Selected 5 variants in credible sets out of 6 total variants\n",
      "\n",
      "  Coverage distribution: cs_0.7 = 5\n",
      "\n"
     ]
    },
    {
     "name": "stdout",
     "output_type": "stream",
     "text": [
      "            ✓ Successfully extracted 5 CS variants for gene ENSG00000174502 in context BM_10_MSBB_eQTL cohort ROSMAP\n",
      "      Processing context: BM_22_MSBB_eQTL\n",
      "        3 genes in this context\n",
      "          Processing gene 1/3: ENSG00000117280\n",
      "            Loading weights from 2 database(s)\n",
      "            Found 21 variants in top_loci\n"
     ]
    },
    {
     "name": "stderr",
     "output_type": "stream",
     "text": [
      "Gene ENSG00000117280_BM_22_MSBB_eQTL_ROSMAP : Selected 19 variants in credible sets out of 21 total variants\n",
      "\n",
      "  Coverage distribution: cs_0.95 = 19\n",
      "\n"
     ]
    },
    {
     "name": "stdout",
     "output_type": "stream",
     "text": [
      "            ✓ Successfully extracted 19 CS variants for gene ENSG00000117280 in context BM_22_MSBB_eQTL cohort ROSMAP\n",
      "          Processing gene 2/3: ENSG00000162877\n",
      "            Loading weights from 2 database(s)\n",
      "            Found 18 variants in top_loci\n"
     ]
    },
    {
     "name": "stderr",
     "output_type": "stream",
     "text": [
      "Gene ENSG00000162877_BM_22_MSBB_eQTL_ROSMAP : Selected 18 variants in credible sets out of 18 total variants\n",
      "\n",
      "  Coverage distribution: cs_0.95 = 18\n",
      "\n"
     ]
    },
    {
     "name": "stdout",
     "output_type": "stream",
     "text": [
      "            ✓ Successfully extracted 18 CS variants for gene ENSG00000162877 in context BM_22_MSBB_eQTL cohort ROSMAP\n",
      "          Processing gene 3/3: ENSG00000174502\n",
      "            Loading weights from 2 database(s)\n",
      "            Found 6 variants in top_loci\n"
     ]
    },
    {
     "name": "stderr",
     "output_type": "stream",
     "text": [
      "Gene ENSG00000174502_BM_22_MSBB_eQTL_ROSMAP : Selected 5 variants in credible sets out of 6 total variants\n",
      "\n",
      "  Coverage distribution: cs_0.7 = 5\n",
      "\n"
     ]
    },
    {
     "name": "stdout",
     "output_type": "stream",
     "text": [
      "            ✓ Successfully extracted 5 CS variants for gene ENSG00000174502 in context BM_22_MSBB_eQTL cohort ROSMAP\n",
      "      Processing context: BM_36_MSBB_eQTL\n",
      "        3 genes in this context\n",
      "          Processing gene 1/3: ENSG00000117280\n",
      "            Loading weights from 2 database(s)\n",
      "            Found 21 variants in top_loci\n"
     ]
    },
    {
     "name": "stderr",
     "output_type": "stream",
     "text": [
      "Gene ENSG00000117280_BM_36_MSBB_eQTL_ROSMAP : Selected 19 variants in credible sets out of 21 total variants\n",
      "\n",
      "  Coverage distribution: cs_0.95 = 19\n",
      "\n"
     ]
    },
    {
     "name": "stdout",
     "output_type": "stream",
     "text": [
      "            ✓ Successfully extracted 19 CS variants for gene ENSG00000117280 in context BM_36_MSBB_eQTL cohort ROSMAP\n",
      "          Processing gene 2/3: ENSG00000162877\n",
      "            Loading weights from 2 database(s)\n",
      "            Found 18 variants in top_loci\n"
     ]
    },
    {
     "name": "stderr",
     "output_type": "stream",
     "text": [
      "Gene ENSG00000162877_BM_36_MSBB_eQTL_ROSMAP : Selected 18 variants in credible sets out of 18 total variants\n",
      "\n",
      "  Coverage distribution: cs_0.95 = 18\n",
      "\n"
     ]
    },
    {
     "name": "stdout",
     "output_type": "stream",
     "text": [
      "            ✓ Successfully extracted 18 CS variants for gene ENSG00000162877 in context BM_36_MSBB_eQTL cohort ROSMAP\n",
      "          Processing gene 3/3: ENSG00000174502\n",
      "            Loading weights from 2 database(s)\n",
      "            Found 6 variants in top_loci\n"
     ]
    },
    {
     "name": "stderr",
     "output_type": "stream",
     "text": [
      "Gene ENSG00000174502_BM_36_MSBB_eQTL_ROSMAP : Selected 5 variants in credible sets out of 6 total variants\n",
      "\n",
      "  Coverage distribution: cs_0.7 = 5\n",
      "\n"
     ]
    },
    {
     "name": "stdout",
     "output_type": "stream",
     "text": [
      "            ✓ Successfully extracted 5 CS variants for gene ENSG00000174502 in context BM_36_MSBB_eQTL cohort ROSMAP\n",
      "      Processing context: BM_44_MSBB_eQTL\n",
      "        3 genes in this context\n",
      "          Processing gene 1/3: ENSG00000117280\n",
      "            Loading weights from 2 database(s)\n",
      "            Found 21 variants in top_loci\n"
     ]
    },
    {
     "name": "stderr",
     "output_type": "stream",
     "text": [
      "Gene ENSG00000117280_BM_44_MSBB_eQTL_ROSMAP : Selected 19 variants in credible sets out of 21 total variants\n",
      "\n",
      "  Coverage distribution: cs_0.95 = 19\n",
      "\n"
     ]
    },
    {
     "name": "stdout",
     "output_type": "stream",
     "text": [
      "            ✓ Successfully extracted 19 CS variants for gene ENSG00000117280 in context BM_44_MSBB_eQTL cohort ROSMAP\n",
      "          Processing gene 2/3: ENSG00000162877\n",
      "            Loading weights from 2 database(s)\n",
      "            Found 18 variants in top_loci\n"
     ]
    },
    {
     "name": "stderr",
     "output_type": "stream",
     "text": [
      "Gene ENSG00000162877_BM_44_MSBB_eQTL_ROSMAP : Selected 18 variants in credible sets out of 18 total variants\n",
      "\n",
      "  Coverage distribution: cs_0.95 = 18\n",
      "\n"
     ]
    },
    {
     "name": "stdout",
     "output_type": "stream",
     "text": [
      "            ✓ Successfully extracted 18 CS variants for gene ENSG00000162877 in context BM_44_MSBB_eQTL cohort ROSMAP\n",
      "          Processing gene 3/3: ENSG00000174502\n",
      "            Loading weights from 2 database(s)\n",
      "            Found 6 variants in top_loci\n"
     ]
    },
    {
     "name": "stderr",
     "output_type": "stream",
     "text": [
      "Gene ENSG00000174502_BM_44_MSBB_eQTL_ROSMAP : Selected 5 variants in credible sets out of 6 total variants\n",
      "\n",
      "  Coverage distribution: cs_0.7 = 5\n",
      "\n"
     ]
    },
    {
     "name": "stdout",
     "output_type": "stream",
     "text": [
      "            ✓ Successfully extracted 5 CS variants for gene ENSG00000174502 in context BM_44_MSBB_eQTL cohort ROSMAP\n",
      "      Processing context: monocyte_ROSMAP_eQTL\n",
      "        2 genes in this context\n",
      "          Processing gene 1/2: ENSG00000117280\n",
      "            Loading weights from 2 database(s)\n",
      "            Found 21 variants in top_loci\n"
     ]
    },
    {
     "name": "stderr",
     "output_type": "stream",
     "text": [
      "Gene ENSG00000117280_monocyte_ROSMAP_eQTL_ROSMAP : Selected 19 variants in credible sets out of 21 total variants\n",
      "\n",
      "  Coverage distribution: cs_0.95 = 19\n",
      "\n"
     ]
    },
    {
     "name": "stdout",
     "output_type": "stream",
     "text": [
      "            ✓ Successfully extracted 19 CS variants for gene ENSG00000117280 in context monocyte_ROSMAP_eQTL cohort ROSMAP\n",
      "          Processing gene 2/2: ENSG00000133065\n",
      "            Loading weights from 2 database(s)\n"
     ]
    },
    {
     "name": "stderr",
     "output_type": "stream",
     "text": [
      "Warning message in doTryCatch(return(expr), name, parentenv, handler):\n",
      "“Gene ENSG00000133065 in context monocyte_ROSMAP_eQTL cohort ROSMAP : No top_loci in susie results”\n"
     ]
    },
    {
     "name": "stdout",
     "output_type": "stream",
     "text": [
      "      Processing context: Ast_DeJager_eQTL\n",
      "        1 genes in this context\n",
      "          Processing gene 1/1: ENSG00000133065\n",
      "            Loading weights from 2 database(s)\n"
     ]
    },
    {
     "name": "stderr",
     "output_type": "stream",
     "text": [
      "Warning message in doTryCatch(return(expr), name, parentenv, handler):\n",
      "“Gene ENSG00000133065 in context Ast_DeJager_eQTL cohort ROSMAP : No top_loci in susie results”\n"
     ]
    },
    {
     "name": "stdout",
     "output_type": "stream",
     "text": [
      "      Processing context: Exc_DeJager_eQTL\n",
      "        1 genes in this context\n",
      "          Processing gene 1/1: ENSG00000133065\n",
      "            Loading weights from 2 database(s)\n"
     ]
    },
    {
     "name": "stderr",
     "output_type": "stream",
     "text": [
      "Warning message in doTryCatch(return(expr), name, parentenv, handler):\n",
      "“Gene ENSG00000133065 in context Exc_DeJager_eQTL cohort ROSMAP : No top_loci in susie results”\n"
     ]
    },
    {
     "name": "stdout",
     "output_type": "stream",
     "text": [
      "      Processing context: Inh_DeJager_eQTL\n",
      "        1 genes in this context\n",
      "          Processing gene 1/1: ENSG00000133065\n",
      "            Loading weights from 2 database(s)\n"
     ]
    },
    {
     "name": "stderr",
     "output_type": "stream",
     "text": [
      "Warning message in doTryCatch(return(expr), name, parentenv, handler):\n",
      "“Gene ENSG00000133065 in context Inh_DeJager_eQTL cohort ROSMAP : No top_loci in susie results”\n"
     ]
    },
    {
     "name": "stdout",
     "output_type": "stream",
     "text": [
      "      Processing context: Oli_DeJager_eQTL\n",
      "        1 genes in this context\n",
      "          Processing gene 1/1: ENSG00000133065\n",
      "            Loading weights from 2 database(s)\n"
     ]
    },
    {
     "name": "stderr",
     "output_type": "stream",
     "text": [
      "Warning message in doTryCatch(return(expr), name, parentenv, handler):\n",
      "“Gene ENSG00000133065 in context Oli_DeJager_eQTL cohort ROSMAP : No top_loci in susie results”\n"
     ]
    },
    {
     "name": "stdout",
     "output_type": "stream",
     "text": [
      "      Processing context: PCC_DeJager_eQTL\n",
      "        2 genes in this context\n",
      "          Processing gene 1/2: ENSG00000133065\n",
      "            Loading weights from 2 database(s)\n"
     ]
    },
    {
     "name": "stderr",
     "output_type": "stream",
     "text": [
      "Warning message in doTryCatch(return(expr), name, parentenv, handler):\n",
      "“Gene ENSG00000133065 in context PCC_DeJager_eQTL cohort ROSMAP : No top_loci in susie results”\n"
     ]
    },
    {
     "name": "stdout",
     "output_type": "stream",
     "text": [
      "          Processing gene 2/2: ENSG00000162877\n",
      "            Loading weights from 2 database(s)\n",
      "            Found 18 variants in top_loci\n"
     ]
    },
    {
     "name": "stderr",
     "output_type": "stream",
     "text": [
      "Gene ENSG00000162877_PCC_DeJager_eQTL_ROSMAP : Selected 18 variants in credible sets out of 18 total variants\n",
      "\n",
      "  Coverage distribution: cs_0.95 = 18\n",
      "\n"
     ]
    },
    {
     "name": "stdout",
     "output_type": "stream",
     "text": [
      "            ✓ Successfully extracted 18 CS variants for gene ENSG00000162877 in context PCC_DeJager_eQTL cohort ROSMAP\n",
      "      Processing context: AC_DeJager_eQTL\n",
      "        1 genes in this context\n",
      "          Processing gene 1/1: ENSG00000162877\n",
      "            Loading weights from 2 database(s)\n",
      "            Found 18 variants in top_loci\n"
     ]
    },
    {
     "name": "stderr",
     "output_type": "stream",
     "text": [
      "Gene ENSG00000162877_AC_DeJager_eQTL_ROSMAP : Selected 18 variants in credible sets out of 18 total variants\n",
      "\n",
      "  Coverage distribution: cs_0.95 = 18\n",
      "\n"
     ]
    },
    {
     "name": "stdout",
     "output_type": "stream",
     "text": [
      "            ✓ Successfully extracted 18 CS variants for gene ENSG00000162877 in context AC_DeJager_eQTL cohort ROSMAP\n",
      "      Processing context: DLPFC_DeJager_eQTL\n",
      "        1 genes in this context\n",
      "          Processing gene 1/1: ENSG00000162877\n",
      "            Loading weights from 2 database(s)\n",
      "            Found 18 variants in top_loci\n"
     ]
    },
    {
     "name": "stderr",
     "output_type": "stream",
     "text": [
      "Gene ENSG00000162877_DLPFC_DeJager_eQTL_ROSMAP : Selected 18 variants in credible sets out of 18 total variants\n",
      "\n",
      "  Coverage distribution: cs_0.95 = 18\n",
      "\n"
     ]
    },
    {
     "name": "stdout",
     "output_type": "stream",
     "text": [
      "            ✓ Successfully extracted 18 CS variants for gene ENSG00000162877 in context DLPFC_DeJager_eQTL cohort ROSMAP\n",
      "      Processing context: Ast_mega_eQTL\n",
      "        1 genes in this context\n",
      "          Processing gene 1/1: ENSG00000133065\n",
      "            Loading weights from 2 database(s)\n"
     ]
    },
    {
     "name": "stderr",
     "output_type": "stream",
     "text": [
      "Warning message in doTryCatch(return(expr), name, parentenv, handler):\n",
      "“Gene ENSG00000133065 in context Ast_mega_eQTL cohort ROSMAP : No top_loci in susie results”\n"
     ]
    },
    {
     "name": "stdout",
     "output_type": "stream",
     "text": [
      "      Processing context: Exc_mega_eQTL\n",
      "        1 genes in this context\n",
      "          Processing gene 1/1: ENSG00000133065\n",
      "            Loading weights from 2 database(s)\n"
     ]
    },
    {
     "name": "stderr",
     "output_type": "stream",
     "text": [
      "Warning message in doTryCatch(return(expr), name, parentenv, handler):\n",
      "“Gene ENSG00000133065 in context Exc_mega_eQTL cohort ROSMAP : No top_loci in susie results”\n"
     ]
    },
    {
     "name": "stdout",
     "output_type": "stream",
     "text": [
      "      Processing context: Inh_mega_eQTL\n",
      "        1 genes in this context\n",
      "          Processing gene 1/1: ENSG00000133065\n",
      "            Loading weights from 2 database(s)\n"
     ]
    },
    {
     "name": "stderr",
     "output_type": "stream",
     "text": [
      "Warning message in doTryCatch(return(expr), name, parentenv, handler):\n",
      "“Gene ENSG00000133065 in context Inh_mega_eQTL cohort ROSMAP : No top_loci in susie results”\n"
     ]
    },
    {
     "name": "stdout",
     "output_type": "stream",
     "text": [
      "      Processing context: Oli_mega_eQTL\n",
      "        1 genes in this context\n",
      "          Processing gene 1/1: ENSG00000133065\n",
      "            Loading weights from 2 database(s)\n"
     ]
    },
    {
     "name": "stderr",
     "output_type": "stream",
     "text": [
      "Warning message in doTryCatch(return(expr), name, parentenv, handler):\n",
      "“Gene ENSG00000133065 in context Oli_mega_eQTL cohort ROSMAP : No top_loci in susie results”\n"
     ]
    },
    {
     "name": "stdout",
     "output_type": "stream",
     "text": [
      "  Processing region 3/28: chr10_89027551_89867142\n",
      "    Found 1 significant genes across 1 contexts in region chr10_89027551_89867142\n",
      "    Contexts: BM_22_MSBB_eQTL\n",
      "      Processing context: BM_22_MSBB_eQTL\n",
      "        1 genes in this context\n",
      "          Processing gene 1/1: ENSG00000204010\n"
     ]
    },
    {
     "name": "stderr",
     "output_type": "stream",
     "text": [
      "Warning message in doTryCatch(return(expr), name, parentenv, handler):\n",
      "“No weight database found for gene: ENSG00000204010 in cohort: ROSMAP”\n"
     ]
    },
    {
     "name": "stdout",
     "output_type": "stream",
     "text": [
      "  Processing region 4/28: chr17_42087601_45383525\n",
      "    Found 2 significant genes across 6 contexts in region chr17_42087601_45383525\n",
      "    Contexts: BM_36_MSBB_eQTL, BM_10_MSBB_eQTL, BM_22_MSBB_eQTL, AC_DeJager_eQTL, PCC_DeJager_eQTL, Exc_mega_eQTL\n",
      "      Processing context: BM_36_MSBB_eQTL\n",
      "        1 genes in this context\n",
      "          Processing gene 1/1: ENSG00000136448\n",
      "            Loading weights from 1 database(s)\n",
      "            Found 9 variants in top_loci\n"
     ]
    },
    {
     "name": "stderr",
     "output_type": "stream",
     "text": [
      "Gene ENSG00000136448_BM_36_MSBB_eQTL_ROSMAP : Selected 8 variants in credible sets out of 9 total variants\n",
      "\n",
      "  Coverage distribution: cs_0.95 = 8\n",
      "\n"
     ]
    },
    {
     "name": "stdout",
     "output_type": "stream",
     "text": [
      "            ✓ Successfully extracted 8 CS variants for gene ENSG00000136448 in context BM_36_MSBB_eQTL cohort ROSMAP\n",
      "      Processing context: BM_10_MSBB_eQTL\n",
      "        1 genes in this context\n",
      "          Processing gene 1/1: ENSG00000172992\n",
      "            Loading weights from 2 database(s)\n",
      "            Found 6 variants in top_loci\n"
     ]
    },
    {
     "name": "stderr",
     "output_type": "stream",
     "text": [
      "Gene ENSG00000172992_BM_10_MSBB_eQTL_ROSMAP : Selected 5 variants in credible sets out of 6 total variants\n",
      "\n",
      "  Coverage distribution: cs_0.95 = 5\n",
      "\n"
     ]
    },
    {
     "name": "stdout",
     "output_type": "stream",
     "text": [
      "            ✓ Successfully extracted 5 CS variants for gene ENSG00000172992 in context BM_10_MSBB_eQTL cohort ROSMAP\n",
      "      Processing context: BM_22_MSBB_eQTL\n",
      "        1 genes in this context\n",
      "          Processing gene 1/1: ENSG00000172992\n",
      "            Loading weights from 2 database(s)\n",
      "            Found 6 variants in top_loci\n"
     ]
    },
    {
     "name": "stderr",
     "output_type": "stream",
     "text": [
      "Gene ENSG00000172992_BM_22_MSBB_eQTL_ROSMAP : Selected 5 variants in credible sets out of 6 total variants\n",
      "\n",
      "  Coverage distribution: cs_0.95 = 5\n",
      "\n"
     ]
    },
    {
     "name": "stdout",
     "output_type": "stream",
     "text": [
      "            ✓ Successfully extracted 5 CS variants for gene ENSG00000172992 in context BM_22_MSBB_eQTL cohort ROSMAP\n",
      "      Processing context: AC_DeJager_eQTL\n",
      "        1 genes in this context\n",
      "          Processing gene 1/1: ENSG00000136448\n",
      "            Loading weights from 1 database(s)\n",
      "            Found 9 variants in top_loci\n"
     ]
    },
    {
     "name": "stderr",
     "output_type": "stream",
     "text": [
      "Gene ENSG00000136448_AC_DeJager_eQTL_ROSMAP : Selected 8 variants in credible sets out of 9 total variants\n",
      "\n",
      "  Coverage distribution: cs_0.95 = 8\n",
      "\n"
     ]
    },
    {
     "name": "stdout",
     "output_type": "stream",
     "text": [
      "            ✓ Successfully extracted 8 CS variants for gene ENSG00000136448 in context AC_DeJager_eQTL cohort ROSMAP\n",
      "      Processing context: PCC_DeJager_eQTL\n",
      "        1 genes in this context\n",
      "          Processing gene 1/1: ENSG00000136448\n",
      "            Loading weights from 1 database(s)\n",
      "            Found 9 variants in top_loci\n"
     ]
    },
    {
     "name": "stderr",
     "output_type": "stream",
     "text": [
      "Gene ENSG00000136448_PCC_DeJager_eQTL_ROSMAP : Selected 8 variants in credible sets out of 9 total variants\n",
      "\n",
      "  Coverage distribution: cs_0.95 = 8\n",
      "\n"
     ]
    },
    {
     "name": "stdout",
     "output_type": "stream",
     "text": [
      "            ✓ Successfully extracted 8 CS variants for gene ENSG00000136448 in context PCC_DeJager_eQTL cohort ROSMAP\n",
      "      Processing context: Exc_mega_eQTL\n",
      "        1 genes in this context\n",
      "          Processing gene 1/1: ENSG00000172992\n",
      "            Loading weights from 2 database(s)\n",
      "            Found 6 variants in top_loci\n"
     ]
    },
    {
     "name": "stderr",
     "output_type": "stream",
     "text": [
      "Gene ENSG00000172992_Exc_mega_eQTL_ROSMAP : Selected 5 variants in credible sets out of 6 total variants\n",
      "\n",
      "  Coverage distribution: cs_0.95 = 5\n",
      "\n"
     ]
    },
    {
     "name": "stdout",
     "output_type": "stream",
     "text": [
      "            ✓ Successfully extracted 5 CS variants for gene ENSG00000172992 in context Exc_mega_eQTL cohort ROSMAP\n",
      "  Processing region 5/28: chr17_67025568_68379734\n",
      "    Found 1 significant genes across 2 contexts in region chr17_67025568_68379734\n",
      "    Contexts: BM_44_MSBB_eQTL, Exc_DeJager_eQTL\n",
      "      Processing context: BM_44_MSBB_eQTL\n",
      "        1 genes in this context\n",
      "          Processing gene 1/1: ENSG00000182481\n",
      "            Loading weights from 2 database(s)\n",
      "            Found 20 variants in top_loci\n"
     ]
    },
    {
     "name": "stderr",
     "output_type": "stream",
     "text": [
      "Gene ENSG00000182481_BM_44_MSBB_eQTL_ROSMAP : Selected 19 variants in credible sets out of 20 total variants\n",
      "\n",
      "  Coverage distribution: cs_0.95 = 19\n",
      "\n"
     ]
    },
    {
     "name": "stdout",
     "output_type": "stream",
     "text": [
      "            ✓ Successfully extracted 19 CS variants for gene ENSG00000182481 in context BM_44_MSBB_eQTL cohort ROSMAP\n",
      "      Processing context: Exc_DeJager_eQTL\n",
      "        1 genes in this context\n",
      "          Processing gene 1/1: ENSG00000182481\n",
      "            Loading weights from 2 database(s)\n",
      "            Found 20 variants in top_loci\n"
     ]
    },
    {
     "name": "stderr",
     "output_type": "stream",
     "text": [
      "Gene ENSG00000182481_Exc_DeJager_eQTL_ROSMAP : Selected 19 variants in credible sets out of 20 total variants\n",
      "\n",
      "  Coverage distribution: cs_0.95 = 19\n",
      "\n"
     ]
    },
    {
     "name": "stdout",
     "output_type": "stream",
     "text": [
      "            ✓ Successfully extracted 19 CS variants for gene ENSG00000182481 in context Exc_DeJager_eQTL cohort ROSMAP\n",
      "  Processing region 6/28: chr18_34878947_36213990\n",
      "    Found 1 significant genes across 1 contexts in region chr18_34878947_36213990\n",
      "    Contexts: MSBB_BM36_pQTL_chr18_Q96P16\n",
      "      Processing context: MSBB_BM36_pQTL_chr18_Q96P16\n",
      "        1 genes in this context\n",
      "          Processing gene 1/1: ENSG00000141425\n",
      "            Loading weights from 2 database(s)\n",
      "            Found 8 variants in top_loci\n"
     ]
    },
    {
     "name": "stderr",
     "output_type": "stream",
     "text": [
      "Gene ENSG00000141425_MSBB_BM36_pQTL_chr18_Q96P16_ROSMAP : Selected 8 variants in credible sets out of 8 total variants\n",
      "\n",
      "  Coverage distribution: cs_0.95 = 8\n",
      "\n"
     ]
    },
    {
     "name": "stdout",
     "output_type": "stream",
     "text": [
      "            ✓ Successfully extracted 8 CS variants for gene ENSG00000141425 in context MSBB_BM36_pQTL_chr18_Q96P16 cohort ROSMAP\n",
      "  Processing region 7/28: chr18_77762652_79389527\n",
      "    Found 1 significant genes across 1 contexts in region chr18_77762652_79389527\n",
      "    Contexts: BM_22_MSBB_eQTL\n",
      "      Processing context: BM_22_MSBB_eQTL\n",
      "        1 genes in this context\n",
      "          Processing gene 1/1: ENSG00000166377\n",
      "            Loading weights from 2 database(s)\n",
      "            Found 70 variants in top_loci\n"
     ]
    },
    {
     "name": "stderr",
     "output_type": "stream",
     "text": [
      "Gene ENSG00000166377_BM_22_MSBB_eQTL_ROSMAP : Selected 70 variants in credible sets out of 70 total variants\n",
      "\n",
      "  Coverage distribution: cs_0.95 = 70\n",
      "\n"
     ]
    },
    {
     "name": "stdout",
     "output_type": "stream",
     "text": [
      "            ✓ Successfully extracted 70 CS variants for gene ENSG00000166377 in context BM_22_MSBB_eQTL cohort ROSMAP\n",
      "  Processing region 8/28: chr19_35206200_36997570\n",
      "    Found 6 significant genes across 10 contexts in region chr19_35206200_36997570\n",
      "    Contexts: BM_10_MSBB_eQTL, BM_22_MSBB_eQTL, BM_36_MSBB_eQTL, BM_44_MSBB_eQTL, PCC_DeJager_eQTL, AC_DeJager_eQTL, Exc_DeJager_eQTL, Ast_DeJager_eQTL, Oli_DeJager_eQTL, Exc_mega_eQTL\n",
      "      Processing context: BM_10_MSBB_eQTL\n",
      "        3 genes in this context\n",
      "          Processing gene 1/3: ENSG00000126267\n",
      "            Loading weights from 2 database(s)\n",
      "            Found 1 variants in top_loci\n"
     ]
    },
    {
     "name": "stderr",
     "output_type": "stream",
     "text": [
      "Gene ENSG00000126267_BM_10_MSBB_eQTL_ROSMAP : Selected 1 variants in credible sets out of 1 total variants\n",
      "\n",
      "  Coverage distribution: cs_0.95 = 1\n",
      "\n"
     ]
    },
    {
     "name": "stdout",
     "output_type": "stream",
     "text": [
      "            ✓ Successfully extracted 1 CS variants for gene ENSG00000126267 in context BM_10_MSBB_eQTL cohort ROSMAP\n",
      "          Processing gene 2/3: ENSG00000011590\n",
      "            Loading weights from 2 database(s)\n"
     ]
    },
    {
     "name": "stderr",
     "output_type": "stream",
     "text": [
      "list twas_weights is not found in ENSG00000011590.  \n",
      "\n",
      "\n",
      "Warning message in doTryCatch(return(expr), name, parentenv, handler):\n",
      "“Gene ENSG00000011590 in context BM_10_MSBB_eQTL cohort ROSMAP : load_twas_weights() did not return a list”\n"
     ]
    },
    {
     "name": "stdout",
     "output_type": "stream",
     "text": [
      "          Processing gene 3/3: ENSG00000105668\n",
      "            Loading weights from 2 database(s)\n",
      "            Found 18 variants in top_loci\n"
     ]
    },
    {
     "name": "stderr",
     "output_type": "stream",
     "text": [
      "Gene ENSG00000105668_BM_10_MSBB_eQTL_ROSMAP : Selected 17 variants in credible sets out of 18 total variants\n",
      "\n",
      "  Coverage distribution: cs_0.95 = 17\n",
      "\n"
     ]
    },
    {
     "name": "stdout",
     "output_type": "stream",
     "text": [
      "            ✓ Successfully extracted 17 CS variants for gene ENSG00000105668 in context BM_10_MSBB_eQTL cohort ROSMAP\n",
      "      Processing context: BM_22_MSBB_eQTL\n",
      "        2 genes in this context\n",
      "          Processing gene 1/2: ENSG00000126267\n",
      "            Loading weights from 2 database(s)\n",
      "            Found 1 variants in top_loci\n"
     ]
    },
    {
     "name": "stderr",
     "output_type": "stream",
     "text": [
      "Gene ENSG00000126267_BM_22_MSBB_eQTL_ROSMAP : Selected 1 variants in credible sets out of 1 total variants\n",
      "\n",
      "  Coverage distribution: cs_0.95 = 1\n",
      "\n"
     ]
    },
    {
     "name": "stdout",
     "output_type": "stream",
     "text": [
      "            ✓ Successfully extracted 1 CS variants for gene ENSG00000126267 in context BM_22_MSBB_eQTL cohort ROSMAP\n",
      "          Processing gene 2/2: ENSG00000011590\n",
      "            Loading weights from 2 database(s)\n"
     ]
    },
    {
     "name": "stderr",
     "output_type": "stream",
     "text": [
      "list twas_weights is not found in ENSG00000011590.  \n",
      "\n",
      "\n",
      "Warning message in doTryCatch(return(expr), name, parentenv, handler):\n",
      "“Gene ENSG00000011590 in context BM_22_MSBB_eQTL cohort ROSMAP : load_twas_weights() did not return a list”\n"
     ]
    },
    {
     "name": "stdout",
     "output_type": "stream",
     "text": [
      "      Processing context: BM_36_MSBB_eQTL\n",
      "        2 genes in this context\n",
      "          Processing gene 1/2: ENSG00000126267\n",
      "            Loading weights from 2 database(s)\n",
      "            Found 1 variants in top_loci\n"
     ]
    },
    {
     "name": "stderr",
     "output_type": "stream",
     "text": [
      "Gene ENSG00000126267_BM_36_MSBB_eQTL_ROSMAP : Selected 1 variants in credible sets out of 1 total variants\n",
      "\n",
      "  Coverage distribution: cs_0.95 = 1\n",
      "\n"
     ]
    },
    {
     "name": "stdout",
     "output_type": "stream",
     "text": [
      "            ✓ Successfully extracted 1 CS variants for gene ENSG00000126267 in context BM_36_MSBB_eQTL cohort ROSMAP\n",
      "          Processing gene 2/2: ENSG00000011590\n",
      "            Loading weights from 2 database(s)\n"
     ]
    },
    {
     "name": "stderr",
     "output_type": "stream",
     "text": [
      "list twas_weights is not found in ENSG00000011590.  \n",
      "\n",
      "\n",
      "Warning message in doTryCatch(return(expr), name, parentenv, handler):\n",
      "“Gene ENSG00000011590 in context BM_36_MSBB_eQTL cohort ROSMAP : load_twas_weights() did not return a list”\n"
     ]
    },
    {
     "name": "stdout",
     "output_type": "stream",
     "text": [
      "      Processing context: BM_44_MSBB_eQTL\n",
      "        3 genes in this context\n",
      "          Processing gene 1/3: ENSG00000126267\n",
      "            Loading weights from 2 database(s)\n",
      "            Found 1 variants in top_loci\n"
     ]
    },
    {
     "name": "stderr",
     "output_type": "stream",
     "text": [
      "Gene ENSG00000126267_BM_44_MSBB_eQTL_ROSMAP : Selected 1 variants in credible sets out of 1 total variants\n",
      "\n",
      "  Coverage distribution: cs_0.95 = 1\n",
      "\n"
     ]
    },
    {
     "name": "stdout",
     "output_type": "stream",
     "text": [
      "            ✓ Successfully extracted 1 CS variants for gene ENSG00000126267 in context BM_44_MSBB_eQTL cohort ROSMAP\n",
      "          Processing gene 2/3: ENSG00000011590\n",
      "            Loading weights from 2 database(s)\n"
     ]
    },
    {
     "name": "stderr",
     "output_type": "stream",
     "text": [
      "list twas_weights is not found in ENSG00000011590.  \n",
      "\n",
      "\n",
      "Warning message in doTryCatch(return(expr), name, parentenv, handler):\n",
      "“Gene ENSG00000011590 in context BM_44_MSBB_eQTL cohort ROSMAP : load_twas_weights() did not return a list”\n"
     ]
    },
    {
     "name": "stdout",
     "output_type": "stream",
     "text": [
      "          Processing gene 3/3: ENSG00000105668\n",
      "            Loading weights from 2 database(s)\n",
      "            Found 18 variants in top_loci\n"
     ]
    },
    {
     "name": "stderr",
     "output_type": "stream",
     "text": [
      "Gene ENSG00000105668_BM_44_MSBB_eQTL_ROSMAP : Selected 17 variants in credible sets out of 18 total variants\n",
      "\n",
      "  Coverage distribution: cs_0.95 = 17\n",
      "\n"
     ]
    },
    {
     "name": "stdout",
     "output_type": "stream",
     "text": [
      "            ✓ Successfully extracted 17 CS variants for gene ENSG00000105668 in context BM_44_MSBB_eQTL cohort ROSMAP\n",
      "      Processing context: PCC_DeJager_eQTL\n",
      "        2 genes in this context\n",
      "          Processing gene 1/2: ENSG00000126262\n",
      "            Loading weights from 2 database(s)\n"
     ]
    },
    {
     "name": "stderr",
     "output_type": "stream",
     "text": [
      "Warning message in doTryCatch(return(expr), name, parentenv, handler):\n",
      "“Gene ENSG00000126262 in context PCC_DeJager_eQTL cohort ROSMAP : No top_loci in susie results”\n"
     ]
    },
    {
     "name": "stdout",
     "output_type": "stream",
     "text": [
      "          Processing gene 2/2: ENSG00000126267\n",
      "            Loading weights from 2 database(s)\n",
      "            Found 1 variants in top_loci\n"
     ]
    },
    {
     "name": "stderr",
     "output_type": "stream",
     "text": [
      "Gene ENSG00000126267_PCC_DeJager_eQTL_ROSMAP : Selected 1 variants in credible sets out of 1 total variants\n",
      "\n",
      "  Coverage distribution: cs_0.95 = 1\n",
      "\n"
     ]
    },
    {
     "name": "stdout",
     "output_type": "stream",
     "text": [
      "            ✓ Successfully extracted 1 CS variants for gene ENSG00000126267 in context PCC_DeJager_eQTL cohort ROSMAP\n",
      "      Processing context: AC_DeJager_eQTL\n",
      "        1 genes in this context\n",
      "          Processing gene 1/1: ENSG00000126267\n",
      "            Loading weights from 2 database(s)\n",
      "            Found 1 variants in top_loci\n"
     ]
    },
    {
     "name": "stderr",
     "output_type": "stream",
     "text": [
      "Gene ENSG00000126267_AC_DeJager_eQTL_ROSMAP : Selected 1 variants in credible sets out of 1 total variants\n",
      "\n",
      "  Coverage distribution: cs_0.95 = 1\n",
      "\n"
     ]
    },
    {
     "name": "stdout",
     "output_type": "stream",
     "text": [
      "            ✓ Successfully extracted 1 CS variants for gene ENSG00000126267 in context AC_DeJager_eQTL cohort ROSMAP\n",
      "      Processing context: Exc_DeJager_eQTL\n",
      "        2 genes in this context\n",
      "          Processing gene 1/2: ENSG00000126267\n",
      "            Loading weights from 2 database(s)\n",
      "            Found 1 variants in top_loci\n"
     ]
    },
    {
     "name": "stderr",
     "output_type": "stream",
     "text": [
      "Gene ENSG00000126267_Exc_DeJager_eQTL_ROSMAP : Selected 1 variants in credible sets out of 1 total variants\n",
      "\n",
      "  Coverage distribution: cs_0.95 = 1\n",
      "\n"
     ]
    },
    {
     "name": "stdout",
     "output_type": "stream",
     "text": [
      "            ✓ Successfully extracted 1 CS variants for gene ENSG00000126267 in context Exc_DeJager_eQTL cohort ROSMAP\n",
      "          Processing gene 2/2: ENSG00000167595\n",
      "            Loading weights from 1 database(s)\n",
      "            Found 20 variants in top_loci\n"
     ]
    },
    {
     "name": "stderr",
     "output_type": "stream",
     "text": [
      "Gene ENSG00000167595_Exc_DeJager_eQTL_ROSMAP : Selected 20 variants in credible sets out of 20 total variants\n",
      "\n",
      "  Coverage distribution: cs_0.95 = 20\n",
      "\n"
     ]
    },
    {
     "name": "stdout",
     "output_type": "stream",
     "text": [
      "            ✓ Successfully extracted 20 CS variants for gene ENSG00000167595 in context Exc_DeJager_eQTL cohort ROSMAP\n",
      "      Processing context: Ast_DeJager_eQTL\n",
      "        1 genes in this context\n",
      "          Processing gene 1/1: ENSG00000272333\n",
      "            Loading weights from 2 database(s)\n"
     ]
    },
    {
     "name": "stderr",
     "output_type": "stream",
     "text": [
      "Warning message in doTryCatch(return(expr), name, parentenv, handler):\n",
      "“Gene ENSG00000272333 in context Ast_DeJager_eQTL cohort ROSMAP : No top_loci in susie results”\n"
     ]
    },
    {
     "name": "stdout",
     "output_type": "stream",
     "text": [
      "      Processing context: Oli_DeJager_eQTL\n",
      "        1 genes in this context\n",
      "          Processing gene 1/1: ENSG00000272333\n",
      "            Loading weights from 2 database(s)\n"
     ]
    },
    {
     "name": "stderr",
     "output_type": "stream",
     "text": [
      "Warning message in doTryCatch(return(expr), name, parentenv, handler):\n",
      "“Gene ENSG00000272333 in context Oli_DeJager_eQTL cohort ROSMAP : No top_loci in susie results”\n"
     ]
    },
    {
     "name": "stdout",
     "output_type": "stream",
     "text": [
      "      Processing context: Exc_mega_eQTL\n",
      "        1 genes in this context\n",
      "          Processing gene 1/1: ENSG00000167595\n",
      "            Loading weights from 1 database(s)\n",
      "            Found 20 variants in top_loci\n"
     ]
    },
    {
     "name": "stderr",
     "output_type": "stream",
     "text": [
      "Gene ENSG00000167595_Exc_mega_eQTL_ROSMAP : Selected 20 variants in credible sets out of 20 total variants\n",
      "\n",
      "  Coverage distribution: cs_0.95 = 20\n",
      "\n"
     ]
    },
    {
     "name": "stdout",
     "output_type": "stream",
     "text": [
      "            ✓ Successfully extracted 20 CS variants for gene ENSG00000167595 in context Exc_mega_eQTL cohort ROSMAP\n",
      "  Processing region 9/28: chr1_205972031_208461272\n",
      "    Found 2 significant genes across 2 contexts in region chr1_205972031_208461272\n",
      "    Contexts: BM_22_MSBB_eQTL, DLPFC_DeJager_eQTL\n",
      "      Processing context: BM_22_MSBB_eQTL\n",
      "        1 genes in this context\n",
      "          Processing gene 1/1: ENSG00000276600\n",
      "            Loading weights from 2 database(s)\n"
     ]
    },
    {
     "name": "stderr",
     "output_type": "stream",
     "text": [
      "list twas_weights is not found in ENSG00000276600.  \n",
      "\n",
      "\n",
      "Warning message in doTryCatch(return(expr), name, parentenv, handler):\n",
      "“Gene ENSG00000276600 in context BM_22_MSBB_eQTL cohort ROSMAP : load_twas_weights() did not return a list”\n"
     ]
    },
    {
     "name": "stdout",
     "output_type": "stream",
     "text": [
      "      Processing context: DLPFC_DeJager_eQTL\n",
      "        1 genes in this context\n",
      "          Processing gene 1/1: ENSG00000198049\n",
      "            Loading weights from 2 database(s)\n",
      "            Found 4 variants in top_loci\n"
     ]
    },
    {
     "name": "stderr",
     "output_type": "stream",
     "text": [
      "Gene ENSG00000198049_DLPFC_DeJager_eQTL_ROSMAP : Selected 4 variants in credible sets out of 4 total variants\n",
      "\n",
      "  Coverage distribution: cs_0.95 = 4\n",
      "\n"
     ]
    },
    {
     "name": "stdout",
     "output_type": "stream",
     "text": [
      "            ✓ Successfully extracted 4 CS variants for gene ENSG00000198049 in context DLPFC_DeJager_eQTL cohort ROSMAP\n",
      "  Processing region 10/28: chr1_234364329_235656952\n",
      "    Found 2 significant genes across 2 contexts in region chr1_234364329_235656952\n",
      "    Contexts: MSBB_BM36_pQTL_chr1_O95749, Oli_mega_eQTL\n",
      "      Processing context: MSBB_BM36_pQTL_chr1_O95749\n",
      "        1 genes in this context\n",
      "          Processing gene 1/1: ENSG00000152904\n",
      "            Loading weights from 2 database(s)\n",
      "            Found 193 variants in top_loci\n"
     ]
    },
    {
     "name": "stderr",
     "output_type": "stream",
     "text": [
      "Gene ENSG00000152904_MSBB_BM36_pQTL_chr1_O95749_ROSMAP : Selected 193 variants in credible sets out of 193 total variants\n",
      "\n",
      "  Coverage distribution: cs_0.95 = 193\n",
      "\n"
     ]
    },
    {
     "name": "stdout",
     "output_type": "stream",
     "text": [
      "            ✓ Successfully extracted 193 CS variants for gene ENSG00000152904 in context MSBB_BM36_pQTL_chr1_O95749 cohort ROSMAP\n",
      "      Processing context: Oli_mega_eQTL\n",
      "        1 genes in this context\n",
      "          Processing gene 1/1: ENSG00000168264\n",
      "            Loading weights from 2 database(s)\n"
     ]
    },
    {
     "name": "stderr",
     "output_type": "stream",
     "text": [
      "Warning message in doTryCatch(return(expr), name, parentenv, handler):\n",
      "“Gene ENSG00000168264 in context Oli_mega_eQTL cohort ROSMAP : No top_loci in susie results”\n"
     ]
    },
    {
     "name": "stdout",
     "output_type": "stream",
     "text": [
      "  Processing region 11/28: chr2_25676346_29800507\n",
      "    Found 1 significant genes across 1 contexts in region chr2_25676346_29800507\n",
      "    Contexts: MSBB_BM36_pQTL_chr2_P50053-2\n",
      "      Processing context: MSBB_BM36_pQTL_chr2_P50053-2\n",
      "        1 genes in this context\n",
      "          Processing gene 1/1: ENSG00000138030\n",
      "            Loading weights from 2 database(s)\n",
      "            Found 10 variants in top_loci\n"
     ]
    },
    {
     "name": "stderr",
     "output_type": "stream",
     "text": [
      "Gene ENSG00000138030_MSBB_BM36_pQTL_chr2_P50053-2_ROSMAP : Selected 8 variants in credible sets out of 10 total variants\n",
      "\n",
      "  Coverage distribution: cs_0.95 = 8\n",
      "\n"
     ]
    },
    {
     "name": "stdout",
     "output_type": "stream",
     "text": [
      "            ✓ Successfully extracted 8 CS variants for gene ENSG00000138030 in context MSBB_BM36_pQTL_chr2_P50053-2 cohort ROSMAP\n",
      "  Processing region 12/28: chr3_156292136_159760299\n",
      "    Found 1 significant genes across 6 contexts in region chr3_156292136_159760299\n",
      "    Contexts: BM_36_MSBB_eQTL, AC_DeJager_eQTL, DLPFC_DeJager_eQTL, Oli_DeJager_eQTL, PCC_DeJager_eQTL, Oli_mega_eQTL\n",
      "      Processing context: BM_36_MSBB_eQTL\n",
      "        1 genes in this context\n",
      "          Processing gene 1/1: ENSG00000283154\n",
      "            Loading weights from 2 database(s)\n",
      "            Found 20 variants in top_loci\n"
     ]
    },
    {
     "name": "stderr",
     "output_type": "stream",
     "text": [
      "Gene ENSG00000283154_BM_36_MSBB_eQTL_ROSMAP : Selected 20 variants in credible sets out of 20 total variants\n",
      "\n",
      "  Coverage distribution: cs_0.95 = 20\n",
      "\n"
     ]
    },
    {
     "name": "stdout",
     "output_type": "stream",
     "text": [
      "            ✓ Successfully extracted 20 CS variants for gene ENSG00000283154 in context BM_36_MSBB_eQTL cohort ROSMAP\n",
      "      Processing context: AC_DeJager_eQTL\n",
      "        1 genes in this context\n",
      "          Processing gene 1/1: ENSG00000283154\n",
      "            Loading weights from 2 database(s)\n",
      "            Found 20 variants in top_loci\n"
     ]
    },
    {
     "name": "stderr",
     "output_type": "stream",
     "text": [
      "Gene ENSG00000283154_AC_DeJager_eQTL_ROSMAP : Selected 20 variants in credible sets out of 20 total variants\n",
      "\n",
      "  Coverage distribution: cs_0.95 = 20\n",
      "\n"
     ]
    },
    {
     "name": "stdout",
     "output_type": "stream",
     "text": [
      "            ✓ Successfully extracted 20 CS variants for gene ENSG00000283154 in context AC_DeJager_eQTL cohort ROSMAP\n",
      "      Processing context: DLPFC_DeJager_eQTL\n",
      "        1 genes in this context\n",
      "          Processing gene 1/1: ENSG00000283154\n",
      "            Loading weights from 2 database(s)\n",
      "            Found 20 variants in top_loci\n"
     ]
    },
    {
     "name": "stderr",
     "output_type": "stream",
     "text": [
      "Gene ENSG00000283154_DLPFC_DeJager_eQTL_ROSMAP : Selected 20 variants in credible sets out of 20 total variants\n",
      "\n",
      "  Coverage distribution: cs_0.95 = 20\n",
      "\n"
     ]
    },
    {
     "name": "stdout",
     "output_type": "stream",
     "text": [
      "            ✓ Successfully extracted 20 CS variants for gene ENSG00000283154 in context DLPFC_DeJager_eQTL cohort ROSMAP\n",
      "      Processing context: Oli_DeJager_eQTL\n",
      "        1 genes in this context\n",
      "          Processing gene 1/1: ENSG00000283154\n",
      "            Loading weights from 2 database(s)\n",
      "            Found 20 variants in top_loci\n"
     ]
    },
    {
     "name": "stderr",
     "output_type": "stream",
     "text": [
      "Gene ENSG00000283154_Oli_DeJager_eQTL_ROSMAP : Selected 20 variants in credible sets out of 20 total variants\n",
      "\n",
      "  Coverage distribution: cs_0.95 = 20\n",
      "\n"
     ]
    },
    {
     "name": "stdout",
     "output_type": "stream",
     "text": [
      "            ✓ Successfully extracted 20 CS variants for gene ENSG00000283154 in context Oli_DeJager_eQTL cohort ROSMAP\n",
      "      Processing context: PCC_DeJager_eQTL\n",
      "        1 genes in this context\n",
      "          Processing gene 1/1: ENSG00000283154\n",
      "            Loading weights from 2 database(s)\n",
      "            Found 20 variants in top_loci\n"
     ]
    },
    {
     "name": "stderr",
     "output_type": "stream",
     "text": [
      "Gene ENSG00000283154_PCC_DeJager_eQTL_ROSMAP : Selected 20 variants in credible sets out of 20 total variants\n",
      "\n",
      "  Coverage distribution: cs_0.95 = 20\n",
      "\n"
     ]
    },
    {
     "name": "stdout",
     "output_type": "stream",
     "text": [
      "            ✓ Successfully extracted 20 CS variants for gene ENSG00000283154 in context PCC_DeJager_eQTL cohort ROSMAP\n",
      "      Processing context: Oli_mega_eQTL\n",
      "        1 genes in this context\n",
      "          Processing gene 1/1: ENSG00000283154\n",
      "            Loading weights from 2 database(s)\n",
      "            Found 20 variants in top_loci\n"
     ]
    },
    {
     "name": "stderr",
     "output_type": "stream",
     "text": [
      "Gene ENSG00000283154_Oli_mega_eQTL_ROSMAP : Selected 20 variants in credible sets out of 20 total variants\n",
      "\n",
      "  Coverage distribution: cs_0.95 = 20\n",
      "\n"
     ]
    },
    {
     "name": "stdout",
     "output_type": "stream",
     "text": [
      "            ✓ Successfully extracted 20 CS variants for gene ENSG00000283154 in context Oli_mega_eQTL cohort ROSMAP\n",
      "  Processing region 13/28: chr7_43119648_45483849\n",
      "    Found 1 significant genes across 1 contexts in region chr7_43119648_45483849\n",
      "    Contexts: BM_22_MSBB_eQTL\n",
      "      Processing context: BM_22_MSBB_eQTL\n",
      "        1 genes in this context\n",
      "          Processing gene 1/1: ENSG00000164543\n",
      "            Loading weights from 2 database(s)\n",
      "            Found 8 variants in top_loci\n"
     ]
    },
    {
     "name": "stderr",
     "output_type": "stream",
     "text": [
      "Gene ENSG00000164543_BM_22_MSBB_eQTL_ROSMAP : Selected 6 variants in credible sets out of 8 total variants\n",
      "\n",
      "  Coverage distribution: cs_0.95 = 6\n",
      "\n"
     ]
    },
    {
     "name": "stdout",
     "output_type": "stream",
     "text": [
      "            ✓ Successfully extracted 6 CS variants for gene ENSG00000164543 in context BM_22_MSBB_eQTL cohort ROSMAP\n",
      "  Processing region 14/28: chr10_100331627_104378781\n",
      "    Found 1 significant genes across 1 contexts in region chr10_100331627_104378781\n",
      "    Contexts: Exc_DeJager_eQTL\n",
      "      Processing context: Exc_DeJager_eQTL\n",
      "        1 genes in this context\n",
      "          Processing gene 1/1: ENSG00000107960\n",
      "            Loading weights from 2 database(s)\n",
      "            Found 36 variants in top_loci\n"
     ]
    },
    {
     "name": "stderr",
     "output_type": "stream",
     "text": [
      "Gene ENSG00000107960_Exc_DeJager_eQTL_ROSMAP : Selected 35 variants in credible sets out of 36 total variants\n",
      "\n",
      "  Coverage distribution: cs_0.95 = 35\n",
      "\n"
     ]
    },
    {
     "name": "stdout",
     "output_type": "stream",
     "text": [
      "            ✓ Successfully extracted 35 CS variants for gene ENSG00000107960 in context Exc_DeJager_eQTL cohort ROSMAP\n",
      "  Processing region 15/28: chr16_51830934_54306975\n",
      "    Found 1 significant genes across 2 contexts in region chr16_51830934_54306975\n",
      "    Contexts: Oli_DeJager_eQTL, Oli_mega_eQTL\n",
      "      Processing context: Oli_DeJager_eQTL\n",
      "        1 genes in this context\n",
      "          Processing gene 1/1: ENSG00000103460\n",
      "            Loading weights from 2 database(s)\n",
      "            Found 38 variants in top_loci\n"
     ]
    },
    {
     "name": "stderr",
     "output_type": "stream",
     "text": [
      "Gene ENSG00000103460_Oli_DeJager_eQTL_ROSMAP : Selected 37 variants in credible sets out of 38 total variants\n",
      "\n",
      "  Coverage distribution: cs_0.95 = 37\n",
      "\n"
     ]
    },
    {
     "name": "stdout",
     "output_type": "stream",
     "text": [
      "            ✓ Successfully extracted 37 CS variants for gene ENSG00000103460 in context Oli_DeJager_eQTL cohort ROSMAP\n",
      "      Processing context: Oli_mega_eQTL\n",
      "        1 genes in this context\n",
      "          Processing gene 1/1: ENSG00000103460\n",
      "            Loading weights from 2 database(s)\n",
      "            Found 38 variants in top_loci\n"
     ]
    },
    {
     "name": "stderr",
     "output_type": "stream",
     "text": [
      "Gene ENSG00000103460_Oli_mega_eQTL_ROSMAP : Selected 37 variants in credible sets out of 38 total variants\n",
      "\n",
      "  Coverage distribution: cs_0.95 = 37\n",
      "\n"
     ]
    },
    {
     "name": "stdout",
     "output_type": "stream",
     "text": [
      "            ✓ Successfully extracted 37 CS variants for gene ENSG00000103460 in context Oli_mega_eQTL cohort ROSMAP\n",
      "  Processing region 16/28: chr16_88382277_90220225\n",
      "    Found 3 significant genes across 5 contexts in region chr16_88382277_90220225\n",
      "    Contexts: Exc_DeJager_eQTL, PCC_DeJager_eQTL, AC_DeJager_eQTL, DLPFC_DeJager_eQTL, Oli_mega_eQTL\n",
      "      Processing context: Exc_DeJager_eQTL\n",
      "        1 genes in this context\n",
      "          Processing gene 1/1: ENSG00000141002\n",
      "            Loading weights from 2 database(s)\n",
      "            Found 2 variants in top_loci\n"
     ]
    },
    {
     "name": "stderr",
     "output_type": "stream",
     "text": [
      "Gene ENSG00000141002_Exc_DeJager_eQTL_ROSMAP : Selected 2 variants in credible sets out of 2 total variants\n",
      "\n",
      "  Coverage distribution: cs_0.95 = 2\n",
      "\n"
     ]
    },
    {
     "name": "stdout",
     "output_type": "stream",
     "text": [
      "            ✓ Successfully extracted 2 CS variants for gene ENSG00000141002 in context Exc_DeJager_eQTL cohort ROSMAP\n",
      "      Processing context: PCC_DeJager_eQTL\n",
      "        2 genes in this context\n",
      "          Processing gene 1/2: ENSG00000185324\n",
      "            Loading weights from 2 database(s)\n",
      "            Found 1 variants in top_loci\n"
     ]
    },
    {
     "name": "stderr",
     "output_type": "stream",
     "text": [
      "Gene ENSG00000185324_PCC_DeJager_eQTL_ROSMAP : Selected 1 variants in credible sets out of 1 total variants\n",
      "\n",
      "  Coverage distribution: cs_0.95 = 1\n",
      "\n"
     ]
    },
    {
     "name": "stdout",
     "output_type": "stream",
     "text": [
      "            ✓ Successfully extracted 1 CS variants for gene ENSG00000185324 in context PCC_DeJager_eQTL cohort ROSMAP\n",
      "          Processing gene 2/2: ENSG00000258839\n",
      "            Loading weights from 2 database(s)\n",
      "            Found 2 variants in top_loci\n"
     ]
    },
    {
     "name": "stderr",
     "output_type": "stream",
     "text": [
      "Gene ENSG00000258839_PCC_DeJager_eQTL_ROSMAP : Selected 2 variants in credible sets out of 2 total variants\n",
      "\n",
      "  Coverage distribution: cs_0.95 = 2\n",
      "\n"
     ]
    },
    {
     "name": "stdout",
     "output_type": "stream",
     "text": [
      "            ✓ Successfully extracted 2 CS variants for gene ENSG00000258839 in context PCC_DeJager_eQTL cohort ROSMAP\n",
      "      Processing context: AC_DeJager_eQTL\n",
      "        1 genes in this context\n",
      "          Processing gene 1/1: ENSG00000258839\n",
      "            Loading weights from 2 database(s)\n",
      "            Found 2 variants in top_loci\n"
     ]
    },
    {
     "name": "stderr",
     "output_type": "stream",
     "text": [
      "Gene ENSG00000258839_AC_DeJager_eQTL_ROSMAP : Selected 2 variants in credible sets out of 2 total variants\n",
      "\n",
      "  Coverage distribution: cs_0.95 = 2\n",
      "\n"
     ]
    },
    {
     "name": "stdout",
     "output_type": "stream",
     "text": [
      "            ✓ Successfully extracted 2 CS variants for gene ENSG00000258839 in context AC_DeJager_eQTL cohort ROSMAP\n",
      "      Processing context: DLPFC_DeJager_eQTL\n",
      "        1 genes in this context\n",
      "          Processing gene 1/1: ENSG00000258839\n",
      "            Loading weights from 2 database(s)\n",
      "            Found 2 variants in top_loci\n"
     ]
    },
    {
     "name": "stderr",
     "output_type": "stream",
     "text": [
      "Gene ENSG00000258839_DLPFC_DeJager_eQTL_ROSMAP : Selected 2 variants in credible sets out of 2 total variants\n",
      "\n",
      "  Coverage distribution: cs_0.95 = 2\n",
      "\n"
     ]
    },
    {
     "name": "stdout",
     "output_type": "stream",
     "text": [
      "            ✓ Successfully extracted 2 CS variants for gene ENSG00000258839 in context DLPFC_DeJager_eQTL cohort ROSMAP\n",
      "      Processing context: Oli_mega_eQTL\n",
      "        1 genes in this context\n",
      "          Processing gene 1/1: ENSG00000185324\n",
      "            Loading weights from 2 database(s)\n",
      "            Found 1 variants in top_loci\n"
     ]
    },
    {
     "name": "stderr",
     "output_type": "stream",
     "text": [
      "Gene ENSG00000185324_Oli_mega_eQTL_ROSMAP : Selected 1 variants in credible sets out of 1 total variants\n",
      "\n",
      "  Coverage distribution: cs_0.95 = 1\n",
      "\n"
     ]
    },
    {
     "name": "stdout",
     "output_type": "stream",
     "text": [
      "            ✓ Successfully extracted 1 CS variants for gene ENSG00000185324 in context Oli_mega_eQTL cohort ROSMAP\n",
      "  Processing region 17/28: chr17_27951253_31594410\n",
      "    Found 2 significant genes across 2 contexts in region chr17_27951253_31594410\n",
      "    Contexts: AC_DeJager_eQTL, DLPFC_DeJager_eQTL\n",
      "      Processing context: AC_DeJager_eQTL\n",
      "        1 genes in this context\n",
      "          Processing gene 1/1: ENSG00000141298\n",
      "            Loading weights from 2 database(s)\n",
      "            Found 55 variants in top_loci\n"
     ]
    },
    {
     "name": "stderr",
     "output_type": "stream",
     "text": [
      "Gene ENSG00000141298_AC_DeJager_eQTL_ROSMAP : Selected 53 variants in credible sets out of 55 total variants\n",
      "\n",
      "  Coverage distribution: cs_0.95 = 53\n",
      "\n"
     ]
    },
    {
     "name": "stdout",
     "output_type": "stream",
     "text": [
      "            ✓ Successfully extracted 53 CS variants for gene ENSG00000141298 in context AC_DeJager_eQTL cohort ROSMAP\n",
      "      Processing context: DLPFC_DeJager_eQTL\n",
      "        1 genes in this context\n",
      "          Processing gene 1/1: ENSG00000126860\n",
      "            Loading weights from 2 database(s)\n",
      "            Found 205 variants in top_loci\n"
     ]
    },
    {
     "name": "stderr",
     "output_type": "stream",
     "text": [
      "Gene ENSG00000126860_DLPFC_DeJager_eQTL_ROSMAP : Selected 204 variants in credible sets out of 205 total variants\n",
      "\n",
      "  Coverage distribution: cs_0.95 = 204\n",
      "\n"
     ]
    },
    {
     "name": "stdout",
     "output_type": "stream",
     "text": [
      "            ✓ Successfully extracted 204 CS variants for gene ENSG00000126860 in context DLPFC_DeJager_eQTL cohort ROSMAP\n",
      "  Processing region 18/28: chr1_106225286_109761915\n",
      "    Found 1 significant genes across 1 contexts in region chr1_106225286_109761915\n",
      "    Contexts: Ast_DeJager_eQTL\n",
      "      Processing context: Ast_DeJager_eQTL\n",
      "        1 genes in this context\n",
      "          Processing gene 1/1: ENSG00000197780\n",
      "            Loading weights from 2 database(s)\n",
      "            Found 10 variants in top_loci\n"
     ]
    },
    {
     "name": "stderr",
     "output_type": "stream",
     "text": [
      "Gene ENSG00000197780_Ast_DeJager_eQTL_ROSMAP : Selected 4 variants in credible sets out of 10 total variants\n",
      "\n",
      "  Coverage distribution: cs_0.5 = 4\n",
      "\n"
     ]
    },
    {
     "name": "stdout",
     "output_type": "stream",
     "text": [
      "            ✓ Successfully extracted 4 CS variants for gene ENSG00000197780 in context Ast_DeJager_eQTL cohort ROSMAP\n",
      "  Processing region 19/28: chr1_214114077_215979204\n",
      "    Found 1 significant genes across 3 contexts in region chr1_214114077_215979204\n",
      "    Contexts: DLPFC_DeJager_eQTL, Exc_DeJager_eQTL, Exc_mega_eQTL\n",
      "      Processing context: DLPFC_DeJager_eQTL\n",
      "        1 genes in this context\n",
      "          Processing gene 1/1: ENSG00000082482\n",
      "            Loading weights from 2 database(s)\n"
     ]
    },
    {
     "name": "stderr",
     "output_type": "stream",
     "text": [
      "Warning message in doTryCatch(return(expr), name, parentenv, handler):\n",
      "“Gene ENSG00000082482 in context DLPFC_DeJager_eQTL cohort ROSMAP : No top_loci in susie results”\n"
     ]
    },
    {
     "name": "stdout",
     "output_type": "stream",
     "text": [
      "      Processing context: Exc_DeJager_eQTL\n",
      "        1 genes in this context\n",
      "          Processing gene 1/1: ENSG00000082482\n",
      "            Loading weights from 2 database(s)\n"
     ]
    },
    {
     "name": "stderr",
     "output_type": "stream",
     "text": [
      "Warning message in doTryCatch(return(expr), name, parentenv, handler):\n",
      "“Gene ENSG00000082482 in context Exc_DeJager_eQTL cohort ROSMAP : No top_loci in susie results”\n"
     ]
    },
    {
     "name": "stdout",
     "output_type": "stream",
     "text": [
      "      Processing context: Exc_mega_eQTL\n",
      "        1 genes in this context\n",
      "          Processing gene 1/1: ENSG00000082482\n",
      "            Loading weights from 2 database(s)\n"
     ]
    },
    {
     "name": "stderr",
     "output_type": "stream",
     "text": [
      "Warning message in doTryCatch(return(expr), name, parentenv, handler):\n",
      "“Gene ENSG00000082482 in context Exc_mega_eQTL cohort ROSMAP : No top_loci in susie results”\n"
     ]
    },
    {
     "name": "stdout",
     "output_type": "stream",
     "text": [
      "  Processing region 20/28: chr2_187801142_191595348\n",
      "    Found 1 significant genes across 1 contexts in region chr2_187801142_191595348\n",
      "    Contexts: Ast_DeJager_eQTL\n",
      "      Processing context: Ast_DeJager_eQTL\n",
      "        1 genes in this context\n",
      "          Processing gene 1/1: ENSG00000115368\n",
      "            Loading weights from 2 database(s)\n"
     ]
    },
    {
     "name": "stderr",
     "output_type": "stream",
     "text": [
      "Warning message in doTryCatch(return(expr), name, parentenv, handler):\n",
      "“Gene ENSG00000115368 in context Ast_DeJager_eQTL cohort ROSMAP : No top_loci in susie results”\n"
     ]
    },
    {
     "name": "stdout",
     "output_type": "stream",
     "text": [
      "  Processing region 21/28: chr6_3574220_4657971\n",
      "    Found 1 significant genes across 1 contexts in region chr6_3574220_4657971\n",
      "    Contexts: Oli_DeJager_eQTL\n",
      "      Processing context: Oli_DeJager_eQTL\n",
      "        1 genes in this context\n",
      "          Processing gene 1/1: ENSG00000112739\n",
      "            Loading weights from 2 database(s)\n",
      "            Found 1 variants in top_loci\n"
     ]
    },
    {
     "name": "stderr",
     "output_type": "stream",
     "text": [
      "Warning message in select_all_cs_variants(df, gene_context_cohort_id):\n",
      "“Gene ENSG00000112739_Oli_DeJager_eQTL_ROSMAP : No variants with credible set coverage > 0”\n",
      "Warning message in doTryCatch(return(expr), name, parentenv, handler):\n",
      "“Gene ENSG00000112739 in context Oli_DeJager_eQTL cohort ROSMAP : No CS variants found”\n"
     ]
    },
    {
     "name": "stdout",
     "output_type": "stream",
     "text": [
      "  Processing region 22/28: chr8_117613122_120167358\n",
      "    Found 1 significant genes across 1 contexts in region chr8_117613122_120167358\n",
      "    Contexts: Exc_DeJager_eQTL\n",
      "      Processing context: Exc_DeJager_eQTL\n",
      "        1 genes in this context\n",
      "          Processing gene 1/1: ENSG00000147676\n",
      "            Loading weights from 2 database(s)\n",
      "            Found 8 variants in top_loci\n"
     ]
    },
    {
     "name": "stderr",
     "output_type": "stream",
     "text": [
      "Gene ENSG00000147676_Exc_DeJager_eQTL_ROSMAP : Selected 8 variants in credible sets out of 8 total variants\n",
      "\n",
      "  Coverage distribution: cs_0.95 = 8\n",
      "\n"
     ]
    },
    {
     "name": "stdout",
     "output_type": "stream",
     "text": [
      "            ✓ Successfully extracted 8 CS variants for gene ENSG00000147676 in context Exc_DeJager_eQTL cohort ROSMAP\n",
      "  Processing region 23/28: chr8_30324658_31407027\n",
      "    Found 1 significant genes across 1 contexts in region chr8_30324658_31407027\n",
      "    Contexts: Exc_DeJager_eQTL\n",
      "      Processing context: Exc_DeJager_eQTL\n",
      "        1 genes in this context\n",
      "          Processing gene 1/1: ENSG00000172733\n",
      "            Loading weights from 2 database(s)\n",
      "            Found 22 variants in top_loci\n"
     ]
    },
    {
     "name": "stderr",
     "output_type": "stream",
     "text": [
      "Gene ENSG00000172733_Exc_DeJager_eQTL_ROSMAP : Selected 18 variants in credible sets out of 22 total variants\n",
      "\n",
      "  Coverage distribution: cs_0.95 = 18\n",
      "\n"
     ]
    },
    {
     "name": "stdout",
     "output_type": "stream",
     "text": [
      "            ✓ Successfully extracted 18 CS variants for gene ENSG00000172733 in context Exc_DeJager_eQTL cohort ROSMAP\n",
      "  Processing region 24/28: chr17_60570445_65149278\n",
      "    Found 1 significant genes across 1 contexts in region chr17_60570445_65149278\n",
      "    Contexts: Ast_mega_eQTL\n",
      "      Processing context: Ast_mega_eQTL\n",
      "        1 genes in this context\n",
      "          Processing gene 1/1: ENSG00000108604\n",
      "            Loading weights from 2 database(s)\n",
      "            Found 106 variants in top_loci\n"
     ]
    },
    {
     "name": "stderr",
     "output_type": "stream",
     "text": [
      "Gene ENSG00000108604_Ast_mega_eQTL_ROSMAP : Selected 106 variants in credible sets out of 106 total variants\n",
      "\n",
      "  Coverage distribution: cs_0.95 = 106\n",
      "\n"
     ]
    },
    {
     "name": "stdout",
     "output_type": "stream",
     "text": [
      "            ✓ Successfully extracted 106 CS variants for gene ENSG00000108604 in context Ast_mega_eQTL cohort ROSMAP\n",
      "  Processing region 25/28: chr6_145632539_148538997\n",
      "    Found 1 significant genes across 1 contexts in region chr6_145632539_148538997\n",
      "    Contexts: Oli_mega_eQTL\n",
      "      Processing context: Oli_mega_eQTL\n",
      "        1 genes in this context\n",
      "          Processing gene 1/1: ENSG00000146414\n",
      "            Loading weights from 2 database(s)\n",
      "            Found 35 variants in top_loci\n"
     ]
    },
    {
     "name": "stderr",
     "output_type": "stream",
     "text": [
      "Gene ENSG00000146414_Oli_mega_eQTL_ROSMAP : Selected 35 variants in credible sets out of 35 total variants\n",
      "\n",
      "  Coverage distribution: cs_0.95 = 35\n",
      "\n"
     ]
    },
    {
     "name": "stdout",
     "output_type": "stream",
     "text": [
      "            ✓ Successfully extracted 35 CS variants for gene ENSG00000146414 in context Oli_mega_eQTL cohort ROSMAP\n",
      "  Processing region 26/28: chr7_139984618_141109068\n",
      "    Found 1 significant genes across 1 contexts in region chr7_139984618_141109068\n",
      "    Contexts: Ast_mega_eQTL\n",
      "      Processing context: Ast_mega_eQTL\n",
      "        1 genes in this context\n",
      "          Processing gene 1/1: ENSG00000157764\n",
      "            Loading weights from 2 database(s)\n"
     ]
    },
    {
     "name": "stderr",
     "output_type": "stream",
     "text": [
      "Warning message in doTryCatch(return(expr), name, parentenv, handler):\n",
      "“Gene ENSG00000157764 in context Ast_mega_eQTL cohort ROSMAP : No top_loci in susie results”\n"
     ]
    },
    {
     "name": "stdout",
     "output_type": "stream",
     "text": [
      "  Processing region 27/28: chr8_6537503_8880095\n",
      "    Found 1 significant genes across 1 contexts in region chr8_6537503_8880095\n",
      "    Contexts: OPC_mega_eQTL\n",
      "      Processing context: OPC_mega_eQTL\n",
      "        1 genes in this context\n",
      "          Processing gene 1/1: ENSG00000091879\n",
      "            Loading weights from 2 database(s)\n"
     ]
    },
    {
     "name": "stderr",
     "output_type": "stream",
     "text": [
      "Warning message in doTryCatch(return(expr), name, parentenv, handler):\n",
      "“Gene ENSG00000091879 in context OPC_mega_eQTL cohort ROSMAP : No top_loci in susie results”\n"
     ]
    },
    {
     "name": "stdout",
     "output_type": "stream",
     "text": [
      "  Processing region 28/28: chr12_54557704_56408332\n",
      "    Found 1 significant genes across 1 contexts in region chr12_54557704_56408332\n",
      "    Contexts: ROSMAP_AC_sQTL_chr12:56226419:56229013:clu_90187_+:PR:ENSG00000139579\n",
      "      Processing context: ROSMAP_AC_sQTL_chr12:56226419:56229013:clu_90187_+:PR:ENSG00000139579\n",
      "        1 genes in this context\n",
      "          Processing gene 1/1: ENSG00000139579\n",
      "            Loading weights from 2 database(s)\n"
     ]
    },
    {
     "name": "stderr",
     "output_type": "stream",
     "text": [
      "Warning message in doTryCatch(return(expr), name, parentenv, handler):\n",
      "“Gene ENSG00000139579 in context ROSMAP_AC_sQTL_chr12:56226419:56229013:clu_90187_+:PR:ENSG00000139579 cohort ROSMAP : No top_loci in susie results”\n"
     ]
    },
    {
     "name": "stdout",
     "output_type": "stream",
     "text": [
      "  Completed cohort ROSMAP: 74/102 genes with credible sets, 1681 total CS variants\n",
      "\n",
      "=== PROCESSING COHORT 4/4: ROSMAP_MEGA ===\n",
      "Loading weight database metadata: ~/data/interactive_analysis/cl4215/ROSMAP_mega_twas_wgw_xqtl_meta_data.tsv\n",
      "Loaded 11660 weight database entries for ROSMAP_MEGA\n",
      "  Processing region 1/28: chr1_16103_2888443\n",
      "    Found 2 significant genes across 9 contexts in region chr1_16103_2888443\n",
      "    Contexts: Knight_eQTL_brain, BM_10_MSBB_eQTL, BM_22_MSBB_eQTL, BM_36_MSBB_eQTL, BM_44_MSBB_eQTL, Exc_DeJager_eQTL, AC_DeJager_eQTL, DLPFC_DeJager_eQTL, PCC_DeJager_eQTL\n",
      "      Processing context: Knight_eQTL_brain\n",
      "        1 genes in this context\n",
      "          Processing gene 1/1: ENSG00000142609\n",
      "            Loading weights from 1 database(s)\n",
      "            Found 36 variants in top_loci\n"
     ]
    },
    {
     "name": "stderr",
     "output_type": "stream",
     "text": [
      "Gene ENSG00000142609_Knight_eQTL_brain_ROSMAP_MEGA : Selected 33 variants in credible sets out of 36 total variants\n",
      "\n",
      "  Coverage distribution: cs_0.95 = 30, cs_0.7 = 3\n",
      "\n"
     ]
    },
    {
     "name": "stdout",
     "output_type": "stream",
     "text": [
      "            ✓ Successfully extracted 33 CS variants for gene ENSG00000142609 in context Knight_eQTL_brain cohort ROSMAP_MEGA\n",
      "      Processing context: BM_10_MSBB_eQTL\n",
      "        1 genes in this context\n",
      "          Processing gene 1/1: ENSG00000142609\n",
      "            Loading weights from 1 database(s)\n",
      "            Found 36 variants in top_loci\n"
     ]
    },
    {
     "name": "stderr",
     "output_type": "stream",
     "text": [
      "Gene ENSG00000142609_BM_10_MSBB_eQTL_ROSMAP_MEGA : Selected 33 variants in credible sets out of 36 total variants\n",
      "\n",
      "  Coverage distribution: cs_0.95 = 30, cs_0.7 = 3\n",
      "\n"
     ]
    },
    {
     "name": "stdout",
     "output_type": "stream",
     "text": [
      "            ✓ Successfully extracted 33 CS variants for gene ENSG00000142609 in context BM_10_MSBB_eQTL cohort ROSMAP_MEGA\n",
      "      Processing context: BM_22_MSBB_eQTL\n",
      "        1 genes in this context\n",
      "          Processing gene 1/1: ENSG00000142609\n",
      "            Loading weights from 1 database(s)\n",
      "            Found 36 variants in top_loci\n"
     ]
    },
    {
     "name": "stderr",
     "output_type": "stream",
     "text": [
      "Gene ENSG00000142609_BM_22_MSBB_eQTL_ROSMAP_MEGA : Selected 33 variants in credible sets out of 36 total variants\n",
      "\n",
      "  Coverage distribution: cs_0.95 = 30, cs_0.7 = 3\n",
      "\n"
     ]
    },
    {
     "name": "stdout",
     "output_type": "stream",
     "text": [
      "            ✓ Successfully extracted 33 CS variants for gene ENSG00000142609 in context BM_22_MSBB_eQTL cohort ROSMAP_MEGA\n",
      "      Processing context: BM_36_MSBB_eQTL\n",
      "        1 genes in this context\n",
      "          Processing gene 1/1: ENSG00000142609\n",
      "            Loading weights from 1 database(s)\n",
      "            Found 36 variants in top_loci\n"
     ]
    },
    {
     "name": "stderr",
     "output_type": "stream",
     "text": [
      "Gene ENSG00000142609_BM_36_MSBB_eQTL_ROSMAP_MEGA : Selected 33 variants in credible sets out of 36 total variants\n",
      "\n",
      "  Coverage distribution: cs_0.95 = 30, cs_0.7 = 3\n",
      "\n"
     ]
    },
    {
     "name": "stdout",
     "output_type": "stream",
     "text": [
      "            ✓ Successfully extracted 33 CS variants for gene ENSG00000142609 in context BM_36_MSBB_eQTL cohort ROSMAP_MEGA\n",
      "      Processing context: BM_44_MSBB_eQTL\n",
      "        1 genes in this context\n",
      "          Processing gene 1/1: ENSG00000142609\n",
      "            Loading weights from 1 database(s)\n",
      "            Found 36 variants in top_loci\n"
     ]
    },
    {
     "name": "stderr",
     "output_type": "stream",
     "text": [
      "Gene ENSG00000142609_BM_44_MSBB_eQTL_ROSMAP_MEGA : Selected 33 variants in credible sets out of 36 total variants\n",
      "\n",
      "  Coverage distribution: cs_0.95 = 30, cs_0.7 = 3\n",
      "\n"
     ]
    },
    {
     "name": "stdout",
     "output_type": "stream",
     "text": [
      "            ✓ Successfully extracted 33 CS variants for gene ENSG00000142609 in context BM_44_MSBB_eQTL cohort ROSMAP_MEGA\n",
      "      Processing context: Exc_DeJager_eQTL\n",
      "        1 genes in this context\n",
      "          Processing gene 1/1: ENSG00000197785\n",
      "            Loading weights from 1 database(s)\n",
      "            Found 13 variants in top_loci\n"
     ]
    },
    {
     "name": "stderr",
     "output_type": "stream",
     "text": [
      "Gene ENSG00000197785_Exc_DeJager_eQTL_ROSMAP_MEGA : Selected 10 variants in credible sets out of 13 total variants\n",
      "\n",
      "  Coverage distribution: cs_0.7 = 10\n",
      "\n"
     ]
    },
    {
     "name": "stdout",
     "output_type": "stream",
     "text": [
      "            ✓ Successfully extracted 10 CS variants for gene ENSG00000197785 in context Exc_DeJager_eQTL cohort ROSMAP_MEGA\n",
      "      Processing context: AC_DeJager_eQTL\n",
      "        1 genes in this context\n",
      "          Processing gene 1/1: ENSG00000142609\n",
      "            Loading weights from 1 database(s)\n",
      "            Found 36 variants in top_loci\n"
     ]
    },
    {
     "name": "stderr",
     "output_type": "stream",
     "text": [
      "Gene ENSG00000142609_AC_DeJager_eQTL_ROSMAP_MEGA : Selected 33 variants in credible sets out of 36 total variants\n",
      "\n",
      "  Coverage distribution: cs_0.95 = 30, cs_0.7 = 3\n",
      "\n"
     ]
    },
    {
     "name": "stdout",
     "output_type": "stream",
     "text": [
      "            ✓ Successfully extracted 33 CS variants for gene ENSG00000142609 in context AC_DeJager_eQTL cohort ROSMAP_MEGA\n",
      "      Processing context: DLPFC_DeJager_eQTL\n",
      "        1 genes in this context\n",
      "          Processing gene 1/1: ENSG00000142609\n",
      "            Loading weights from 1 database(s)\n",
      "            Found 36 variants in top_loci\n"
     ]
    },
    {
     "name": "stderr",
     "output_type": "stream",
     "text": [
      "Gene ENSG00000142609_DLPFC_DeJager_eQTL_ROSMAP_MEGA : Selected 33 variants in credible sets out of 36 total variants\n",
      "\n",
      "  Coverage distribution: cs_0.95 = 30, cs_0.7 = 3\n",
      "\n"
     ]
    },
    {
     "name": "stdout",
     "output_type": "stream",
     "text": [
      "            ✓ Successfully extracted 33 CS variants for gene ENSG00000142609 in context DLPFC_DeJager_eQTL cohort ROSMAP_MEGA\n",
      "      Processing context: PCC_DeJager_eQTL\n",
      "        1 genes in this context\n",
      "          Processing gene 1/1: ENSG00000142609\n",
      "            Loading weights from 1 database(s)\n",
      "            Found 36 variants in top_loci\n"
     ]
    },
    {
     "name": "stderr",
     "output_type": "stream",
     "text": [
      "Gene ENSG00000142609_PCC_DeJager_eQTL_ROSMAP_MEGA : Selected 33 variants in credible sets out of 36 total variants\n",
      "\n",
      "  Coverage distribution: cs_0.95 = 30, cs_0.7 = 3\n",
      "\n"
     ]
    },
    {
     "name": "stdout",
     "output_type": "stream",
     "text": [
      "            ✓ Successfully extracted 33 CS variants for gene ENSG00000142609 in context PCC_DeJager_eQTL cohort ROSMAP_MEGA\n",
      "  Processing region 2/28: chr1_204142966_205972031\n",
      "    Found 4 significant genes across 17 contexts in region chr1_204142966_205972031\n",
      "    Contexts: Knight_eQTL_brain, BM_10_MSBB_eQTL, BM_22_MSBB_eQTL, BM_36_MSBB_eQTL, BM_44_MSBB_eQTL, monocyte_ROSMAP_eQTL, Ast_DeJager_eQTL, Exc_DeJager_eQTL, Inh_DeJager_eQTL, Oli_DeJager_eQTL, PCC_DeJager_eQTL, AC_DeJager_eQTL, DLPFC_DeJager_eQTL, Ast_mega_eQTL, Exc_mega_eQTL, Inh_mega_eQTL, Oli_mega_eQTL\n",
      "      Processing context: Knight_eQTL_brain\n",
      "        2 genes in this context\n",
      "          Processing gene 1/2: ENSG00000117280\n",
      "            Loading weights from 1 database(s)\n",
      "            Found 14 variants in top_loci\n"
     ]
    },
    {
     "name": "stderr",
     "output_type": "stream",
     "text": [
      "Gene ENSG00000117280_Knight_eQTL_brain_ROSMAP_MEGA : Selected 14 variants in credible sets out of 14 total variants\n",
      "\n",
      "  Coverage distribution: cs_0.95 = 14\n",
      "\n"
     ]
    },
    {
     "name": "stdout",
     "output_type": "stream",
     "text": [
      "            ✓ Successfully extracted 14 CS variants for gene ENSG00000117280 in context Knight_eQTL_brain cohort ROSMAP_MEGA\n",
      "          Processing gene 2/2: ENSG00000162877\n"
     ]
    },
    {
     "name": "stderr",
     "output_type": "stream",
     "text": [
      "Warning message in doTryCatch(return(expr), name, parentenv, handler):\n",
      "“No weight database found for gene: ENSG00000162877 in cohort: ROSMAP_MEGA”\n"
     ]
    },
    {
     "name": "stdout",
     "output_type": "stream",
     "text": [
      "      Processing context: BM_10_MSBB_eQTL\n",
      "        3 genes in this context\n",
      "          Processing gene 1/3: ENSG00000117280\n",
      "            Loading weights from 1 database(s)\n",
      "            Found 14 variants in top_loci\n"
     ]
    },
    {
     "name": "stderr",
     "output_type": "stream",
     "text": [
      "Gene ENSG00000117280_BM_10_MSBB_eQTL_ROSMAP_MEGA : Selected 14 variants in credible sets out of 14 total variants\n",
      "\n",
      "  Coverage distribution: cs_0.95 = 14\n",
      "\n"
     ]
    },
    {
     "name": "stdout",
     "output_type": "stream",
     "text": [
      "            ✓ Successfully extracted 14 CS variants for gene ENSG00000117280 in context BM_10_MSBB_eQTL cohort ROSMAP_MEGA\n",
      "          Processing gene 2/3: ENSG00000162877\n"
     ]
    },
    {
     "name": "stderr",
     "output_type": "stream",
     "text": [
      "Warning message in doTryCatch(return(expr), name, parentenv, handler):\n",
      "“No weight database found for gene: ENSG00000162877 in cohort: ROSMAP_MEGA”\n"
     ]
    },
    {
     "name": "stdout",
     "output_type": "stream",
     "text": [
      "          Processing gene 3/3: ENSG00000174502\n"
     ]
    },
    {
     "name": "stderr",
     "output_type": "stream",
     "text": [
      "Warning message in doTryCatch(return(expr), name, parentenv, handler):\n",
      "“No weight database found for gene: ENSG00000174502 in cohort: ROSMAP_MEGA”\n"
     ]
    },
    {
     "name": "stdout",
     "output_type": "stream",
     "text": [
      "      Processing context: BM_22_MSBB_eQTL\n",
      "        3 genes in this context\n",
      "          Processing gene 1/3: ENSG00000117280\n",
      "            Loading weights from 1 database(s)\n",
      "            Found 14 variants in top_loci\n"
     ]
    },
    {
     "name": "stderr",
     "output_type": "stream",
     "text": [
      "Gene ENSG00000117280_BM_22_MSBB_eQTL_ROSMAP_MEGA : Selected 14 variants in credible sets out of 14 total variants\n",
      "\n",
      "  Coverage distribution: cs_0.95 = 14\n",
      "\n"
     ]
    },
    {
     "name": "stdout",
     "output_type": "stream",
     "text": [
      "            ✓ Successfully extracted 14 CS variants for gene ENSG00000117280 in context BM_22_MSBB_eQTL cohort ROSMAP_MEGA\n",
      "          Processing gene 2/3: ENSG00000162877\n"
     ]
    },
    {
     "name": "stderr",
     "output_type": "stream",
     "text": [
      "Warning message in doTryCatch(return(expr), name, parentenv, handler):\n",
      "“No weight database found for gene: ENSG00000162877 in cohort: ROSMAP_MEGA”\n"
     ]
    },
    {
     "name": "stdout",
     "output_type": "stream",
     "text": [
      "          Processing gene 3/3: ENSG00000174502\n"
     ]
    },
    {
     "name": "stderr",
     "output_type": "stream",
     "text": [
      "Warning message in doTryCatch(return(expr), name, parentenv, handler):\n",
      "“No weight database found for gene: ENSG00000174502 in cohort: ROSMAP_MEGA”\n"
     ]
    },
    {
     "name": "stdout",
     "output_type": "stream",
     "text": [
      "      Processing context: BM_36_MSBB_eQTL\n",
      "        3 genes in this context\n",
      "          Processing gene 1/3: ENSG00000117280\n",
      "            Loading weights from 1 database(s)\n",
      "            Found 14 variants in top_loci\n"
     ]
    },
    {
     "name": "stderr",
     "output_type": "stream",
     "text": [
      "Gene ENSG00000117280_BM_36_MSBB_eQTL_ROSMAP_MEGA : Selected 14 variants in credible sets out of 14 total variants\n",
      "\n",
      "  Coverage distribution: cs_0.95 = 14\n",
      "\n"
     ]
    },
    {
     "name": "stdout",
     "output_type": "stream",
     "text": [
      "            ✓ Successfully extracted 14 CS variants for gene ENSG00000117280 in context BM_36_MSBB_eQTL cohort ROSMAP_MEGA\n",
      "          Processing gene 2/3: ENSG00000162877\n"
     ]
    },
    {
     "name": "stderr",
     "output_type": "stream",
     "text": [
      "Warning message in doTryCatch(return(expr), name, parentenv, handler):\n",
      "“No weight database found for gene: ENSG00000162877 in cohort: ROSMAP_MEGA”\n"
     ]
    },
    {
     "name": "stdout",
     "output_type": "stream",
     "text": [
      "          Processing gene 3/3: ENSG00000174502\n"
     ]
    },
    {
     "name": "stderr",
     "output_type": "stream",
     "text": [
      "Warning message in doTryCatch(return(expr), name, parentenv, handler):\n",
      "“No weight database found for gene: ENSG00000174502 in cohort: ROSMAP_MEGA”\n"
     ]
    },
    {
     "name": "stdout",
     "output_type": "stream",
     "text": [
      "      Processing context: BM_44_MSBB_eQTL\n",
      "        3 genes in this context\n",
      "          Processing gene 1/3: ENSG00000117280\n",
      "            Loading weights from 1 database(s)\n",
      "            Found 14 variants in top_loci\n"
     ]
    },
    {
     "name": "stderr",
     "output_type": "stream",
     "text": [
      "Gene ENSG00000117280_BM_44_MSBB_eQTL_ROSMAP_MEGA : Selected 14 variants in credible sets out of 14 total variants\n",
      "\n",
      "  Coverage distribution: cs_0.95 = 14\n",
      "\n"
     ]
    },
    {
     "name": "stdout",
     "output_type": "stream",
     "text": [
      "            ✓ Successfully extracted 14 CS variants for gene ENSG00000117280 in context BM_44_MSBB_eQTL cohort ROSMAP_MEGA\n",
      "          Processing gene 2/3: ENSG00000162877\n"
     ]
    },
    {
     "name": "stderr",
     "output_type": "stream",
     "text": [
      "Warning message in doTryCatch(return(expr), name, parentenv, handler):\n",
      "“No weight database found for gene: ENSG00000162877 in cohort: ROSMAP_MEGA”\n"
     ]
    },
    {
     "name": "stdout",
     "output_type": "stream",
     "text": [
      "          Processing gene 3/3: ENSG00000174502\n"
     ]
    },
    {
     "name": "stderr",
     "output_type": "stream",
     "text": [
      "Warning message in doTryCatch(return(expr), name, parentenv, handler):\n",
      "“No weight database found for gene: ENSG00000174502 in cohort: ROSMAP_MEGA”\n"
     ]
    },
    {
     "name": "stdout",
     "output_type": "stream",
     "text": [
      "      Processing context: monocyte_ROSMAP_eQTL\n",
      "        2 genes in this context\n",
      "          Processing gene 1/2: ENSG00000117280\n",
      "            Loading weights from 1 database(s)\n",
      "            Found 14 variants in top_loci\n"
     ]
    },
    {
     "name": "stderr",
     "output_type": "stream",
     "text": [
      "Gene ENSG00000117280_monocyte_ROSMAP_eQTL_ROSMAP_MEGA : Selected 14 variants in credible sets out of 14 total variants\n",
      "\n",
      "  Coverage distribution: cs_0.95 = 14\n",
      "\n"
     ]
    },
    {
     "name": "stdout",
     "output_type": "stream",
     "text": [
      "            ✓ Successfully extracted 14 CS variants for gene ENSG00000117280 in context monocyte_ROSMAP_eQTL cohort ROSMAP_MEGA\n",
      "          Processing gene 2/2: ENSG00000133065\n",
      "            Loading weights from 1 database(s)\n",
      "            Found 17 variants in top_loci\n"
     ]
    },
    {
     "name": "stderr",
     "output_type": "stream",
     "text": [
      "Gene ENSG00000133065_monocyte_ROSMAP_eQTL_ROSMAP_MEGA : Selected 17 variants in credible sets out of 17 total variants\n",
      "\n",
      "  Coverage distribution: cs_0.95 = 17\n",
      "\n"
     ]
    },
    {
     "name": "stdout",
     "output_type": "stream",
     "text": [
      "            ✓ Successfully extracted 17 CS variants for gene ENSG00000133065 in context monocyte_ROSMAP_eQTL cohort ROSMAP_MEGA\n",
      "      Processing context: Ast_DeJager_eQTL\n",
      "        1 genes in this context\n",
      "          Processing gene 1/1: ENSG00000133065\n",
      "            Loading weights from 1 database(s)\n",
      "            Found 17 variants in top_loci\n"
     ]
    },
    {
     "name": "stderr",
     "output_type": "stream",
     "text": [
      "Gene ENSG00000133065_Ast_DeJager_eQTL_ROSMAP_MEGA : Selected 17 variants in credible sets out of 17 total variants\n",
      "\n",
      "  Coverage distribution: cs_0.95 = 17\n",
      "\n"
     ]
    },
    {
     "name": "stdout",
     "output_type": "stream",
     "text": [
      "            ✓ Successfully extracted 17 CS variants for gene ENSG00000133065 in context Ast_DeJager_eQTL cohort ROSMAP_MEGA\n",
      "      Processing context: Exc_DeJager_eQTL\n",
      "        1 genes in this context\n",
      "          Processing gene 1/1: ENSG00000133065\n",
      "            Loading weights from 1 database(s)\n",
      "            Found 17 variants in top_loci\n"
     ]
    },
    {
     "name": "stderr",
     "output_type": "stream",
     "text": [
      "Gene ENSG00000133065_Exc_DeJager_eQTL_ROSMAP_MEGA : Selected 17 variants in credible sets out of 17 total variants\n",
      "\n",
      "  Coverage distribution: cs_0.95 = 17\n",
      "\n"
     ]
    },
    {
     "name": "stdout",
     "output_type": "stream",
     "text": [
      "            ✓ Successfully extracted 17 CS variants for gene ENSG00000133065 in context Exc_DeJager_eQTL cohort ROSMAP_MEGA\n",
      "      Processing context: Inh_DeJager_eQTL\n",
      "        1 genes in this context\n",
      "          Processing gene 1/1: ENSG00000133065\n",
      "            Loading weights from 1 database(s)\n",
      "            Found 17 variants in top_loci\n"
     ]
    },
    {
     "name": "stderr",
     "output_type": "stream",
     "text": [
      "Gene ENSG00000133065_Inh_DeJager_eQTL_ROSMAP_MEGA : Selected 17 variants in credible sets out of 17 total variants\n",
      "\n",
      "  Coverage distribution: cs_0.95 = 17\n",
      "\n"
     ]
    },
    {
     "name": "stdout",
     "output_type": "stream",
     "text": [
      "            ✓ Successfully extracted 17 CS variants for gene ENSG00000133065 in context Inh_DeJager_eQTL cohort ROSMAP_MEGA\n",
      "      Processing context: Oli_DeJager_eQTL\n",
      "        1 genes in this context\n",
      "          Processing gene 1/1: ENSG00000133065\n",
      "            Loading weights from 1 database(s)\n",
      "            Found 17 variants in top_loci\n"
     ]
    },
    {
     "name": "stderr",
     "output_type": "stream",
     "text": [
      "Gene ENSG00000133065_Oli_DeJager_eQTL_ROSMAP_MEGA : Selected 17 variants in credible sets out of 17 total variants\n",
      "\n",
      "  Coverage distribution: cs_0.95 = 17\n",
      "\n"
     ]
    },
    {
     "name": "stdout",
     "output_type": "stream",
     "text": [
      "            ✓ Successfully extracted 17 CS variants for gene ENSG00000133065 in context Oli_DeJager_eQTL cohort ROSMAP_MEGA\n",
      "      Processing context: PCC_DeJager_eQTL\n",
      "        2 genes in this context\n",
      "          Processing gene 1/2: ENSG00000133065\n",
      "            Loading weights from 1 database(s)\n",
      "            Found 17 variants in top_loci\n"
     ]
    },
    {
     "name": "stderr",
     "output_type": "stream",
     "text": [
      "Gene ENSG00000133065_PCC_DeJager_eQTL_ROSMAP_MEGA : Selected 17 variants in credible sets out of 17 total variants\n",
      "\n",
      "  Coverage distribution: cs_0.95 = 17\n",
      "\n"
     ]
    },
    {
     "name": "stdout",
     "output_type": "stream",
     "text": [
      "            ✓ Successfully extracted 17 CS variants for gene ENSG00000133065 in context PCC_DeJager_eQTL cohort ROSMAP_MEGA\n",
      "          Processing gene 2/2: ENSG00000162877\n"
     ]
    },
    {
     "name": "stderr",
     "output_type": "stream",
     "text": [
      "Warning message in doTryCatch(return(expr), name, parentenv, handler):\n",
      "“No weight database found for gene: ENSG00000162877 in cohort: ROSMAP_MEGA”\n"
     ]
    },
    {
     "name": "stdout",
     "output_type": "stream",
     "text": [
      "      Processing context: AC_DeJager_eQTL\n",
      "        1 genes in this context\n",
      "          Processing gene 1/1: ENSG00000162877\n"
     ]
    },
    {
     "name": "stderr",
     "output_type": "stream",
     "text": [
      "Warning message in doTryCatch(return(expr), name, parentenv, handler):\n",
      "“No weight database found for gene: ENSG00000162877 in cohort: ROSMAP_MEGA”\n"
     ]
    },
    {
     "name": "stdout",
     "output_type": "stream",
     "text": [
      "      Processing context: DLPFC_DeJager_eQTL\n",
      "        1 genes in this context\n",
      "          Processing gene 1/1: ENSG00000162877\n"
     ]
    },
    {
     "name": "stderr",
     "output_type": "stream",
     "text": [
      "Warning message in doTryCatch(return(expr), name, parentenv, handler):\n",
      "“No weight database found for gene: ENSG00000162877 in cohort: ROSMAP_MEGA”\n"
     ]
    },
    {
     "name": "stdout",
     "output_type": "stream",
     "text": [
      "      Processing context: Ast_mega_eQTL\n",
      "        1 genes in this context\n",
      "          Processing gene 1/1: ENSG00000133065\n",
      "            Loading weights from 1 database(s)\n",
      "            Found 17 variants in top_loci\n"
     ]
    },
    {
     "name": "stderr",
     "output_type": "stream",
     "text": [
      "Gene ENSG00000133065_Ast_mega_eQTL_ROSMAP_MEGA : Selected 17 variants in credible sets out of 17 total variants\n",
      "\n",
      "  Coverage distribution: cs_0.95 = 17\n",
      "\n"
     ]
    },
    {
     "name": "stdout",
     "output_type": "stream",
     "text": [
      "            ✓ Successfully extracted 17 CS variants for gene ENSG00000133065 in context Ast_mega_eQTL cohort ROSMAP_MEGA\n",
      "      Processing context: Exc_mega_eQTL\n",
      "        1 genes in this context\n",
      "          Processing gene 1/1: ENSG00000133065\n",
      "            Loading weights from 1 database(s)\n",
      "            Found 17 variants in top_loci\n"
     ]
    },
    {
     "name": "stderr",
     "output_type": "stream",
     "text": [
      "Gene ENSG00000133065_Exc_mega_eQTL_ROSMAP_MEGA : Selected 17 variants in credible sets out of 17 total variants\n",
      "\n",
      "  Coverage distribution: cs_0.95 = 17\n",
      "\n"
     ]
    },
    {
     "name": "stdout",
     "output_type": "stream",
     "text": [
      "            ✓ Successfully extracted 17 CS variants for gene ENSG00000133065 in context Exc_mega_eQTL cohort ROSMAP_MEGA\n",
      "      Processing context: Inh_mega_eQTL\n",
      "        1 genes in this context\n",
      "          Processing gene 1/1: ENSG00000133065\n",
      "            Loading weights from 1 database(s)\n",
      "            Found 17 variants in top_loci\n"
     ]
    },
    {
     "name": "stderr",
     "output_type": "stream",
     "text": [
      "Gene ENSG00000133065_Inh_mega_eQTL_ROSMAP_MEGA : Selected 17 variants in credible sets out of 17 total variants\n",
      "\n",
      "  Coverage distribution: cs_0.95 = 17\n",
      "\n"
     ]
    },
    {
     "name": "stdout",
     "output_type": "stream",
     "text": [
      "            ✓ Successfully extracted 17 CS variants for gene ENSG00000133065 in context Inh_mega_eQTL cohort ROSMAP_MEGA\n",
      "      Processing context: Oli_mega_eQTL\n",
      "        1 genes in this context\n",
      "          Processing gene 1/1: ENSG00000133065\n",
      "            Loading weights from 1 database(s)\n",
      "            Found 17 variants in top_loci\n"
     ]
    },
    {
     "name": "stderr",
     "output_type": "stream",
     "text": [
      "Gene ENSG00000133065_Oli_mega_eQTL_ROSMAP_MEGA : Selected 17 variants in credible sets out of 17 total variants\n",
      "\n",
      "  Coverage distribution: cs_0.95 = 17\n",
      "\n"
     ]
    },
    {
     "name": "stdout",
     "output_type": "stream",
     "text": [
      "            ✓ Successfully extracted 17 CS variants for gene ENSG00000133065 in context Oli_mega_eQTL cohort ROSMAP_MEGA\n",
      "  Processing region 3/28: chr10_89027551_89867142\n",
      "    Found 1 significant genes across 1 contexts in region chr10_89027551_89867142\n",
      "    Contexts: BM_22_MSBB_eQTL\n",
      "      Processing context: BM_22_MSBB_eQTL\n",
      "        1 genes in this context\n",
      "          Processing gene 1/1: ENSG00000204010\n"
     ]
    },
    {
     "name": "stderr",
     "output_type": "stream",
     "text": [
      "Warning message in doTryCatch(return(expr), name, parentenv, handler):\n",
      "“No weight database found for gene: ENSG00000204010 in cohort: ROSMAP_MEGA”\n"
     ]
    },
    {
     "name": "stdout",
     "output_type": "stream",
     "text": [
      "  Processing region 4/28: chr17_42087601_45383525\n",
      "    Found 2 significant genes across 6 contexts in region chr17_42087601_45383525\n",
      "    Contexts: BM_36_MSBB_eQTL, BM_10_MSBB_eQTL, BM_22_MSBB_eQTL, AC_DeJager_eQTL, PCC_DeJager_eQTL, Exc_mega_eQTL\n",
      "      Processing context: BM_36_MSBB_eQTL\n",
      "        1 genes in this context\n",
      "          Processing gene 1/1: ENSG00000136448\n",
      "            Loading weights from 1 database(s)\n",
      "            Found 33 variants in top_loci\n"
     ]
    },
    {
     "name": "stderr",
     "output_type": "stream",
     "text": [
      "Gene ENSG00000136448_BM_36_MSBB_eQTL_ROSMAP_MEGA : Selected 31 variants in credible sets out of 33 total variants\n",
      "\n",
      "  Coverage distribution: cs_0.95 = 31\n",
      "\n"
     ]
    },
    {
     "name": "stdout",
     "output_type": "stream",
     "text": [
      "            ✓ Successfully extracted 31 CS variants for gene ENSG00000136448 in context BM_36_MSBB_eQTL cohort ROSMAP_MEGA\n",
      "      Processing context: BM_10_MSBB_eQTL\n",
      "        1 genes in this context\n",
      "          Processing gene 1/1: ENSG00000172992\n",
      "            Loading weights from 1 database(s)\n",
      "            Found 6 variants in top_loci\n"
     ]
    },
    {
     "name": "stderr",
     "output_type": "stream",
     "text": [
      "Gene ENSG00000172992_BM_10_MSBB_eQTL_ROSMAP_MEGA : Selected 6 variants in credible sets out of 6 total variants\n",
      "\n",
      "  Coverage distribution: cs_0.95 = 6\n",
      "\n"
     ]
    },
    {
     "name": "stdout",
     "output_type": "stream",
     "text": [
      "            ✓ Successfully extracted 6 CS variants for gene ENSG00000172992 in context BM_10_MSBB_eQTL cohort ROSMAP_MEGA\n",
      "      Processing context: BM_22_MSBB_eQTL\n",
      "        1 genes in this context\n",
      "          Processing gene 1/1: ENSG00000172992\n",
      "            Loading weights from 1 database(s)\n",
      "            Found 6 variants in top_loci\n"
     ]
    },
    {
     "name": "stderr",
     "output_type": "stream",
     "text": [
      "Gene ENSG00000172992_BM_22_MSBB_eQTL_ROSMAP_MEGA : Selected 6 variants in credible sets out of 6 total variants\n",
      "\n",
      "  Coverage distribution: cs_0.95 = 6\n",
      "\n"
     ]
    },
    {
     "name": "stdout",
     "output_type": "stream",
     "text": [
      "            ✓ Successfully extracted 6 CS variants for gene ENSG00000172992 in context BM_22_MSBB_eQTL cohort ROSMAP_MEGA\n",
      "      Processing context: AC_DeJager_eQTL\n",
      "        1 genes in this context\n",
      "          Processing gene 1/1: ENSG00000136448\n",
      "            Loading weights from 1 database(s)\n",
      "            Found 33 variants in top_loci\n"
     ]
    },
    {
     "name": "stderr",
     "output_type": "stream",
     "text": [
      "Gene ENSG00000136448_AC_DeJager_eQTL_ROSMAP_MEGA : Selected 31 variants in credible sets out of 33 total variants\n",
      "\n",
      "  Coverage distribution: cs_0.95 = 31\n",
      "\n"
     ]
    },
    {
     "name": "stdout",
     "output_type": "stream",
     "text": [
      "            ✓ Successfully extracted 31 CS variants for gene ENSG00000136448 in context AC_DeJager_eQTL cohort ROSMAP_MEGA\n",
      "      Processing context: PCC_DeJager_eQTL\n",
      "        1 genes in this context\n",
      "          Processing gene 1/1: ENSG00000136448\n",
      "            Loading weights from 1 database(s)\n",
      "            Found 33 variants in top_loci\n"
     ]
    },
    {
     "name": "stderr",
     "output_type": "stream",
     "text": [
      "Gene ENSG00000136448_PCC_DeJager_eQTL_ROSMAP_MEGA : Selected 31 variants in credible sets out of 33 total variants\n",
      "\n",
      "  Coverage distribution: cs_0.95 = 31\n",
      "\n"
     ]
    },
    {
     "name": "stdout",
     "output_type": "stream",
     "text": [
      "            ✓ Successfully extracted 31 CS variants for gene ENSG00000136448 in context PCC_DeJager_eQTL cohort ROSMAP_MEGA\n",
      "      Processing context: Exc_mega_eQTL\n",
      "        1 genes in this context\n",
      "          Processing gene 1/1: ENSG00000172992\n",
      "            Loading weights from 1 database(s)\n",
      "            Found 6 variants in top_loci\n"
     ]
    },
    {
     "name": "stderr",
     "output_type": "stream",
     "text": [
      "Gene ENSG00000172992_Exc_mega_eQTL_ROSMAP_MEGA : Selected 6 variants in credible sets out of 6 total variants\n",
      "\n",
      "  Coverage distribution: cs_0.95 = 6\n",
      "\n"
     ]
    },
    {
     "name": "stdout",
     "output_type": "stream",
     "text": [
      "            ✓ Successfully extracted 6 CS variants for gene ENSG00000172992 in context Exc_mega_eQTL cohort ROSMAP_MEGA\n",
      "  Processing region 5/28: chr17_67025568_68379734\n",
      "    Found 1 significant genes across 2 contexts in region chr17_67025568_68379734\n",
      "    Contexts: BM_44_MSBB_eQTL, Exc_DeJager_eQTL\n",
      "      Processing context: BM_44_MSBB_eQTL\n",
      "        1 genes in this context\n",
      "          Processing gene 1/1: ENSG00000182481\n",
      "            Loading weights from 1 database(s)\n",
      "            Found 37 variants in top_loci\n"
     ]
    },
    {
     "name": "stderr",
     "output_type": "stream",
     "text": [
      "Gene ENSG00000182481_BM_44_MSBB_eQTL_ROSMAP_MEGA : Selected 30 variants in credible sets out of 37 total variants\n",
      "\n",
      "  Coverage distribution: cs_0.95 = 30\n",
      "\n"
     ]
    },
    {
     "name": "stdout",
     "output_type": "stream",
     "text": [
      "            ✓ Successfully extracted 30 CS variants for gene ENSG00000182481 in context BM_44_MSBB_eQTL cohort ROSMAP_MEGA\n",
      "      Processing context: Exc_DeJager_eQTL\n",
      "        1 genes in this context\n",
      "          Processing gene 1/1: ENSG00000182481\n",
      "            Loading weights from 1 database(s)\n",
      "            Found 37 variants in top_loci\n"
     ]
    },
    {
     "name": "stderr",
     "output_type": "stream",
     "text": [
      "Gene ENSG00000182481_Exc_DeJager_eQTL_ROSMAP_MEGA : Selected 30 variants in credible sets out of 37 total variants\n",
      "\n",
      "  Coverage distribution: cs_0.95 = 30\n",
      "\n"
     ]
    },
    {
     "name": "stdout",
     "output_type": "stream",
     "text": [
      "            ✓ Successfully extracted 30 CS variants for gene ENSG00000182481 in context Exc_DeJager_eQTL cohort ROSMAP_MEGA\n",
      "  Processing region 6/28: chr18_34878947_36213990\n",
      "    Found 1 significant genes across 1 contexts in region chr18_34878947_36213990\n",
      "    Contexts: MSBB_BM36_pQTL_chr18_Q96P16\n",
      "      Processing context: MSBB_BM36_pQTL_chr18_Q96P16\n",
      "        1 genes in this context\n",
      "          Processing gene 1/1: ENSG00000141425\n",
      "            Loading weights from 1 database(s)\n",
      "            Found 12 variants in top_loci\n"
     ]
    },
    {
     "name": "stderr",
     "output_type": "stream",
     "text": [
      "Gene ENSG00000141425_MSBB_BM36_pQTL_chr18_Q96P16_ROSMAP_MEGA : Selected 12 variants in credible sets out of 12 total variants\n",
      "\n",
      "  Coverage distribution: cs_0.7 = 12\n",
      "\n"
     ]
    },
    {
     "name": "stdout",
     "output_type": "stream",
     "text": [
      "            ✓ Successfully extracted 12 CS variants for gene ENSG00000141425 in context MSBB_BM36_pQTL_chr18_Q96P16 cohort ROSMAP_MEGA\n",
      "  Processing region 7/28: chr18_77762652_79389527\n",
      "    Found 1 significant genes across 1 contexts in region chr18_77762652_79389527\n",
      "    Contexts: BM_22_MSBB_eQTL\n",
      "      Processing context: BM_22_MSBB_eQTL\n",
      "        1 genes in this context\n",
      "          Processing gene 1/1: ENSG00000166377\n",
      "            Loading weights from 1 database(s)\n",
      "            Found 1 variants in top_loci\n"
     ]
    },
    {
     "name": "stderr",
     "output_type": "stream",
     "text": [
      "Warning message in select_all_cs_variants(df, gene_context_cohort_id):\n",
      "“Gene ENSG00000166377_BM_22_MSBB_eQTL_ROSMAP_MEGA : No variants with credible set coverage > 0”\n",
      "Warning message in doTryCatch(return(expr), name, parentenv, handler):\n",
      "“Gene ENSG00000166377 in context BM_22_MSBB_eQTL cohort ROSMAP_MEGA : No CS variants found”\n"
     ]
    },
    {
     "name": "stdout",
     "output_type": "stream",
     "text": [
      "  Processing region 8/28: chr19_35206200_36997570\n",
      "    Found 6 significant genes across 10 contexts in region chr19_35206200_36997570\n",
      "    Contexts: BM_10_MSBB_eQTL, BM_22_MSBB_eQTL, BM_36_MSBB_eQTL, BM_44_MSBB_eQTL, PCC_DeJager_eQTL, AC_DeJager_eQTL, Exc_DeJager_eQTL, Ast_DeJager_eQTL, Oli_DeJager_eQTL, Exc_mega_eQTL\n",
      "      Processing context: BM_10_MSBB_eQTL\n",
      "        3 genes in this context\n",
      "          Processing gene 1/3: ENSG00000126267\n",
      "            Loading weights from 1 database(s)\n"
     ]
    },
    {
     "name": "stderr",
     "output_type": "stream",
     "text": [
      "Warning message in doTryCatch(return(expr), name, parentenv, handler):\n",
      "“Gene ENSG00000126267 in context BM_10_MSBB_eQTL cohort ROSMAP_MEGA : No top_loci in susie results”\n"
     ]
    },
    {
     "name": "stdout",
     "output_type": "stream",
     "text": [
      "          Processing gene 2/3: ENSG00000011590\n"
     ]
    },
    {
     "name": "stderr",
     "output_type": "stream",
     "text": [
      "Warning message in doTryCatch(return(expr), name, parentenv, handler):\n",
      "“No weight database found for gene: ENSG00000011590 in cohort: ROSMAP_MEGA”\n"
     ]
    },
    {
     "name": "stdout",
     "output_type": "stream",
     "text": [
      "          Processing gene 3/3: ENSG00000105668\n"
     ]
    },
    {
     "name": "stderr",
     "output_type": "stream",
     "text": [
      "Warning message in doTryCatch(return(expr), name, parentenv, handler):\n",
      "“No weight database found for gene: ENSG00000105668 in cohort: ROSMAP_MEGA”\n"
     ]
    },
    {
     "name": "stdout",
     "output_type": "stream",
     "text": [
      "      Processing context: BM_22_MSBB_eQTL\n",
      "        2 genes in this context\n",
      "          Processing gene 1/2: ENSG00000126267\n",
      "            Loading weights from 1 database(s)\n"
     ]
    },
    {
     "name": "stderr",
     "output_type": "stream",
     "text": [
      "Warning message in doTryCatch(return(expr), name, parentenv, handler):\n",
      "“Gene ENSG00000126267 in context BM_22_MSBB_eQTL cohort ROSMAP_MEGA : No top_loci in susie results”\n"
     ]
    },
    {
     "name": "stdout",
     "output_type": "stream",
     "text": [
      "          Processing gene 2/2: ENSG00000011590\n"
     ]
    },
    {
     "name": "stderr",
     "output_type": "stream",
     "text": [
      "Warning message in doTryCatch(return(expr), name, parentenv, handler):\n",
      "“No weight database found for gene: ENSG00000011590 in cohort: ROSMAP_MEGA”\n"
     ]
    },
    {
     "name": "stdout",
     "output_type": "stream",
     "text": [
      "      Processing context: BM_36_MSBB_eQTL\n",
      "        2 genes in this context\n",
      "          Processing gene 1/2: ENSG00000126267\n",
      "            Loading weights from 1 database(s)\n"
     ]
    },
    {
     "name": "stderr",
     "output_type": "stream",
     "text": [
      "Warning message in doTryCatch(return(expr), name, parentenv, handler):\n",
      "“Gene ENSG00000126267 in context BM_36_MSBB_eQTL cohort ROSMAP_MEGA : No top_loci in susie results”\n"
     ]
    },
    {
     "name": "stdout",
     "output_type": "stream",
     "text": [
      "          Processing gene 2/2: ENSG00000011590\n"
     ]
    },
    {
     "name": "stderr",
     "output_type": "stream",
     "text": [
      "Warning message in doTryCatch(return(expr), name, parentenv, handler):\n",
      "“No weight database found for gene: ENSG00000011590 in cohort: ROSMAP_MEGA”\n"
     ]
    },
    {
     "name": "stdout",
     "output_type": "stream",
     "text": [
      "      Processing context: BM_44_MSBB_eQTL\n",
      "        3 genes in this context\n",
      "          Processing gene 1/3: ENSG00000126267\n",
      "            Loading weights from 1 database(s)\n"
     ]
    },
    {
     "name": "stderr",
     "output_type": "stream",
     "text": [
      "Warning message in doTryCatch(return(expr), name, parentenv, handler):\n",
      "“Gene ENSG00000126267 in context BM_44_MSBB_eQTL cohort ROSMAP_MEGA : No top_loci in susie results”\n"
     ]
    },
    {
     "name": "stdout",
     "output_type": "stream",
     "text": [
      "          Processing gene 2/3: ENSG00000011590\n"
     ]
    },
    {
     "name": "stderr",
     "output_type": "stream",
     "text": [
      "Warning message in doTryCatch(return(expr), name, parentenv, handler):\n",
      "“No weight database found for gene: ENSG00000011590 in cohort: ROSMAP_MEGA”\n"
     ]
    },
    {
     "name": "stdout",
     "output_type": "stream",
     "text": [
      "          Processing gene 3/3: ENSG00000105668\n"
     ]
    },
    {
     "name": "stderr",
     "output_type": "stream",
     "text": [
      "Warning message in doTryCatch(return(expr), name, parentenv, handler):\n",
      "“No weight database found for gene: ENSG00000105668 in cohort: ROSMAP_MEGA”\n"
     ]
    },
    {
     "name": "stdout",
     "output_type": "stream",
     "text": [
      "      Processing context: PCC_DeJager_eQTL\n",
      "        2 genes in this context\n",
      "          Processing gene 1/2: ENSG00000126262\n"
     ]
    },
    {
     "name": "stderr",
     "output_type": "stream",
     "text": [
      "Warning message in doTryCatch(return(expr), name, parentenv, handler):\n",
      "“No weight database found for gene: ENSG00000126262 in cohort: ROSMAP_MEGA”\n"
     ]
    },
    {
     "name": "stdout",
     "output_type": "stream",
     "text": [
      "          Processing gene 2/2: ENSG00000126267\n",
      "            Loading weights from 1 database(s)\n"
     ]
    },
    {
     "name": "stderr",
     "output_type": "stream",
     "text": [
      "Warning message in doTryCatch(return(expr), name, parentenv, handler):\n",
      "“Gene ENSG00000126267 in context PCC_DeJager_eQTL cohort ROSMAP_MEGA : No top_loci in susie results”\n"
     ]
    },
    {
     "name": "stdout",
     "output_type": "stream",
     "text": [
      "      Processing context: AC_DeJager_eQTL\n",
      "        1 genes in this context\n",
      "          Processing gene 1/1: ENSG00000126267\n",
      "            Loading weights from 1 database(s)\n"
     ]
    },
    {
     "name": "stderr",
     "output_type": "stream",
     "text": [
      "Warning message in doTryCatch(return(expr), name, parentenv, handler):\n",
      "“Gene ENSG00000126267 in context AC_DeJager_eQTL cohort ROSMAP_MEGA : No top_loci in susie results”\n"
     ]
    },
    {
     "name": "stdout",
     "output_type": "stream",
     "text": [
      "      Processing context: Exc_DeJager_eQTL\n",
      "        2 genes in this context\n",
      "          Processing gene 1/2: ENSG00000126267\n",
      "            Loading weights from 1 database(s)\n"
     ]
    },
    {
     "name": "stderr",
     "output_type": "stream",
     "text": [
      "Warning message in doTryCatch(return(expr), name, parentenv, handler):\n",
      "“Gene ENSG00000126267 in context Exc_DeJager_eQTL cohort ROSMAP_MEGA : No top_loci in susie results”\n"
     ]
    },
    {
     "name": "stdout",
     "output_type": "stream",
     "text": [
      "          Processing gene 2/2: ENSG00000167595\n",
      "            Loading weights from 1 database(s)\n",
      "            Found 19 variants in top_loci\n"
     ]
    },
    {
     "name": "stderr",
     "output_type": "stream",
     "text": [
      "Gene ENSG00000167595_Exc_DeJager_eQTL_ROSMAP_MEGA : Selected 18 variants in credible sets out of 19 total variants\n",
      "\n",
      "  Coverage distribution: cs_0.95 = 10, cs_0.7 = 8\n",
      "\n"
     ]
    },
    {
     "name": "stdout",
     "output_type": "stream",
     "text": [
      "            ✓ Successfully extracted 18 CS variants for gene ENSG00000167595 in context Exc_DeJager_eQTL cohort ROSMAP_MEGA\n",
      "      Processing context: Ast_DeJager_eQTL\n",
      "        1 genes in this context\n",
      "          Processing gene 1/1: ENSG00000272333\n",
      "            Loading weights from 1 database(s)\n",
      "            Found 28 variants in top_loci\n"
     ]
    },
    {
     "name": "stderr",
     "output_type": "stream",
     "text": [
      "Gene ENSG00000272333_Ast_DeJager_eQTL_ROSMAP_MEGA : Selected 25 variants in credible sets out of 28 total variants\n",
      "\n",
      "  Coverage distribution: cs_0.5 = 25\n",
      "\n"
     ]
    },
    {
     "name": "stdout",
     "output_type": "stream",
     "text": [
      "            ✓ Successfully extracted 25 CS variants for gene ENSG00000272333 in context Ast_DeJager_eQTL cohort ROSMAP_MEGA\n",
      "      Processing context: Oli_DeJager_eQTL\n",
      "        1 genes in this context\n",
      "          Processing gene 1/1: ENSG00000272333\n",
      "            Loading weights from 1 database(s)\n",
      "            Found 28 variants in top_loci\n"
     ]
    },
    {
     "name": "stderr",
     "output_type": "stream",
     "text": [
      "Gene ENSG00000272333_Oli_DeJager_eQTL_ROSMAP_MEGA : Selected 25 variants in credible sets out of 28 total variants\n",
      "\n",
      "  Coverage distribution: cs_0.5 = 25\n",
      "\n"
     ]
    },
    {
     "name": "stdout",
     "output_type": "stream",
     "text": [
      "            ✓ Successfully extracted 25 CS variants for gene ENSG00000272333 in context Oli_DeJager_eQTL cohort ROSMAP_MEGA\n",
      "      Processing context: Exc_mega_eQTL\n",
      "        1 genes in this context\n",
      "          Processing gene 1/1: ENSG00000167595\n",
      "            Loading weights from 1 database(s)\n",
      "            Found 19 variants in top_loci\n"
     ]
    },
    {
     "name": "stderr",
     "output_type": "stream",
     "text": [
      "Gene ENSG00000167595_Exc_mega_eQTL_ROSMAP_MEGA : Selected 18 variants in credible sets out of 19 total variants\n",
      "\n",
      "  Coverage distribution: cs_0.95 = 10, cs_0.7 = 8\n",
      "\n"
     ]
    },
    {
     "name": "stdout",
     "output_type": "stream",
     "text": [
      "            ✓ Successfully extracted 18 CS variants for gene ENSG00000167595 in context Exc_mega_eQTL cohort ROSMAP_MEGA\n",
      "  Processing region 9/28: chr1_205972031_208461272\n",
      "    Found 2 significant genes across 2 contexts in region chr1_205972031_208461272\n",
      "    Contexts: BM_22_MSBB_eQTL, DLPFC_DeJager_eQTL\n",
      "      Processing context: BM_22_MSBB_eQTL\n",
      "        1 genes in this context\n",
      "          Processing gene 1/1: ENSG00000276600\n"
     ]
    },
    {
     "name": "stderr",
     "output_type": "stream",
     "text": [
      "Warning message in doTryCatch(return(expr), name, parentenv, handler):\n",
      "“No weight database found for gene: ENSG00000276600 in cohort: ROSMAP_MEGA”\n"
     ]
    },
    {
     "name": "stdout",
     "output_type": "stream",
     "text": [
      "      Processing context: DLPFC_DeJager_eQTL\n",
      "        1 genes in this context\n",
      "          Processing gene 1/1: ENSG00000198049\n"
     ]
    },
    {
     "name": "stderr",
     "output_type": "stream",
     "text": [
      "Warning message in doTryCatch(return(expr), name, parentenv, handler):\n",
      "“No weight database found for gene: ENSG00000198049 in cohort: ROSMAP_MEGA”\n"
     ]
    },
    {
     "name": "stdout",
     "output_type": "stream",
     "text": [
      "  Processing region 10/28: chr1_234364329_235656952\n",
      "    Found 2 significant genes across 2 contexts in region chr1_234364329_235656952\n",
      "    Contexts: MSBB_BM36_pQTL_chr1_O95749, Oli_mega_eQTL\n",
      "      Processing context: MSBB_BM36_pQTL_chr1_O95749\n",
      "        1 genes in this context\n",
      "          Processing gene 1/1: ENSG00000152904\n"
     ]
    },
    {
     "name": "stderr",
     "output_type": "stream",
     "text": [
      "Warning message in doTryCatch(return(expr), name, parentenv, handler):\n",
      "“No weight database found for gene: ENSG00000152904 in cohort: ROSMAP_MEGA”\n"
     ]
    },
    {
     "name": "stdout",
     "output_type": "stream",
     "text": [
      "      Processing context: Oli_mega_eQTL\n",
      "        1 genes in this context\n",
      "          Processing gene 1/1: ENSG00000168264\n",
      "            Loading weights from 1 database(s)\n"
     ]
    },
    {
     "name": "stderr",
     "output_type": "stream",
     "text": [
      "Warning message in doTryCatch(return(expr), name, parentenv, handler):\n",
      "“Gene ENSG00000168264 in context Oli_mega_eQTL cohort ROSMAP_MEGA : No top_loci in susie results”\n"
     ]
    },
    {
     "name": "stdout",
     "output_type": "stream",
     "text": [
      "  Processing region 11/28: chr2_25676346_29800507\n",
      "    Found 1 significant genes across 1 contexts in region chr2_25676346_29800507\n",
      "    Contexts: MSBB_BM36_pQTL_chr2_P50053-2\n",
      "      Processing context: MSBB_BM36_pQTL_chr2_P50053-2\n",
      "        1 genes in this context\n",
      "          Processing gene 1/1: ENSG00000138030\n",
      "            Loading weights from 1 database(s)\n",
      "            Found 5 variants in top_loci\n"
     ]
    },
    {
     "name": "stderr",
     "output_type": "stream",
     "text": [
      "Gene ENSG00000138030_MSBB_BM36_pQTL_chr2_P50053-2_ROSMAP_MEGA : Selected 5 variants in credible sets out of 5 total variants\n",
      "\n",
      "  Coverage distribution: cs_0.95 = 5\n",
      "\n"
     ]
    },
    {
     "name": "stdout",
     "output_type": "stream",
     "text": [
      "            ✓ Successfully extracted 5 CS variants for gene ENSG00000138030 in context MSBB_BM36_pQTL_chr2_P50053-2 cohort ROSMAP_MEGA\n",
      "  Processing region 12/28: chr3_156292136_159760299\n",
      "    Found 1 significant genes across 6 contexts in region chr3_156292136_159760299\n",
      "    Contexts: BM_36_MSBB_eQTL, AC_DeJager_eQTL, DLPFC_DeJager_eQTL, Oli_DeJager_eQTL, PCC_DeJager_eQTL, Oli_mega_eQTL\n",
      "      Processing context: BM_36_MSBB_eQTL\n",
      "        1 genes in this context\n",
      "          Processing gene 1/1: ENSG00000283154\n",
      "            Loading weights from 1 database(s)\n",
      "            Found 8 variants in top_loci\n"
     ]
    },
    {
     "name": "stderr",
     "output_type": "stream",
     "text": [
      "Gene ENSG00000283154_BM_36_MSBB_eQTL_ROSMAP_MEGA : Selected 4 variants in credible sets out of 8 total variants\n",
      "\n",
      "  Coverage distribution: cs_0.95 = 4\n",
      "\n"
     ]
    },
    {
     "name": "stdout",
     "output_type": "stream",
     "text": [
      "            ✓ Successfully extracted 4 CS variants for gene ENSG00000283154 in context BM_36_MSBB_eQTL cohort ROSMAP_MEGA\n",
      "      Processing context: AC_DeJager_eQTL\n",
      "        1 genes in this context\n",
      "          Processing gene 1/1: ENSG00000283154\n",
      "            Loading weights from 1 database(s)\n",
      "            Found 8 variants in top_loci\n"
     ]
    },
    {
     "name": "stderr",
     "output_type": "stream",
     "text": [
      "Gene ENSG00000283154_AC_DeJager_eQTL_ROSMAP_MEGA : Selected 4 variants in credible sets out of 8 total variants\n",
      "\n",
      "  Coverage distribution: cs_0.95 = 4\n",
      "\n"
     ]
    },
    {
     "name": "stdout",
     "output_type": "stream",
     "text": [
      "            ✓ Successfully extracted 4 CS variants for gene ENSG00000283154 in context AC_DeJager_eQTL cohort ROSMAP_MEGA\n",
      "      Processing context: DLPFC_DeJager_eQTL\n",
      "        1 genes in this context\n",
      "          Processing gene 1/1: ENSG00000283154\n",
      "            Loading weights from 1 database(s)\n",
      "            Found 8 variants in top_loci\n"
     ]
    },
    {
     "name": "stderr",
     "output_type": "stream",
     "text": [
      "Gene ENSG00000283154_DLPFC_DeJager_eQTL_ROSMAP_MEGA : Selected 4 variants in credible sets out of 8 total variants\n",
      "\n",
      "  Coverage distribution: cs_0.95 = 4\n",
      "\n"
     ]
    },
    {
     "name": "stdout",
     "output_type": "stream",
     "text": [
      "            ✓ Successfully extracted 4 CS variants for gene ENSG00000283154 in context DLPFC_DeJager_eQTL cohort ROSMAP_MEGA\n",
      "      Processing context: Oli_DeJager_eQTL\n",
      "        1 genes in this context\n",
      "          Processing gene 1/1: ENSG00000283154\n",
      "            Loading weights from 1 database(s)\n",
      "            Found 8 variants in top_loci\n"
     ]
    },
    {
     "name": "stderr",
     "output_type": "stream",
     "text": [
      "Gene ENSG00000283154_Oli_DeJager_eQTL_ROSMAP_MEGA : Selected 4 variants in credible sets out of 8 total variants\n",
      "\n",
      "  Coverage distribution: cs_0.95 = 4\n",
      "\n"
     ]
    },
    {
     "name": "stdout",
     "output_type": "stream",
     "text": [
      "            ✓ Successfully extracted 4 CS variants for gene ENSG00000283154 in context Oli_DeJager_eQTL cohort ROSMAP_MEGA\n",
      "      Processing context: PCC_DeJager_eQTL\n",
      "        1 genes in this context\n",
      "          Processing gene 1/1: ENSG00000283154\n",
      "            Loading weights from 1 database(s)\n",
      "            Found 8 variants in top_loci\n"
     ]
    },
    {
     "name": "stderr",
     "output_type": "stream",
     "text": [
      "Gene ENSG00000283154_PCC_DeJager_eQTL_ROSMAP_MEGA : Selected 4 variants in credible sets out of 8 total variants\n",
      "\n",
      "  Coverage distribution: cs_0.95 = 4\n",
      "\n"
     ]
    },
    {
     "name": "stdout",
     "output_type": "stream",
     "text": [
      "            ✓ Successfully extracted 4 CS variants for gene ENSG00000283154 in context PCC_DeJager_eQTL cohort ROSMAP_MEGA\n",
      "      Processing context: Oli_mega_eQTL\n",
      "        1 genes in this context\n",
      "          Processing gene 1/1: ENSG00000283154\n",
      "            Loading weights from 1 database(s)\n",
      "            Found 8 variants in top_loci\n"
     ]
    },
    {
     "name": "stderr",
     "output_type": "stream",
     "text": [
      "Gene ENSG00000283154_Oli_mega_eQTL_ROSMAP_MEGA : Selected 4 variants in credible sets out of 8 total variants\n",
      "\n",
      "  Coverage distribution: cs_0.95 = 4\n",
      "\n"
     ]
    },
    {
     "name": "stdout",
     "output_type": "stream",
     "text": [
      "            ✓ Successfully extracted 4 CS variants for gene ENSG00000283154 in context Oli_mega_eQTL cohort ROSMAP_MEGA\n",
      "  Processing region 13/28: chr7_43119648_45483849\n",
      "    Found 1 significant genes across 1 contexts in region chr7_43119648_45483849\n",
      "    Contexts: BM_22_MSBB_eQTL\n",
      "      Processing context: BM_22_MSBB_eQTL\n",
      "        1 genes in this context\n",
      "          Processing gene 1/1: ENSG00000164543\n",
      "            Loading weights from 1 database(s)\n",
      "            Found 155 variants in top_loci\n"
     ]
    },
    {
     "name": "stderr",
     "output_type": "stream",
     "text": [
      "Gene ENSG00000164543_BM_22_MSBB_eQTL_ROSMAP_MEGA : Selected 155 variants in credible sets out of 155 total variants\n",
      "\n",
      "  Coverage distribution: cs_0.95 = 155\n",
      "\n"
     ]
    },
    {
     "name": "stdout",
     "output_type": "stream",
     "text": [
      "            ✓ Successfully extracted 155 CS variants for gene ENSG00000164543 in context BM_22_MSBB_eQTL cohort ROSMAP_MEGA\n",
      "  Processing region 14/28: chr10_100331627_104378781\n",
      "    Found 1 significant genes across 1 contexts in region chr10_100331627_104378781\n",
      "    Contexts: Exc_DeJager_eQTL\n",
      "      Processing context: Exc_DeJager_eQTL\n",
      "        1 genes in this context\n",
      "          Processing gene 1/1: ENSG00000107960\n",
      "            Loading weights from 1 database(s)\n",
      "            Found 2 variants in top_loci\n"
     ]
    },
    {
     "name": "stderr",
     "output_type": "stream",
     "text": [
      "Warning message in select_all_cs_variants(df, gene_context_cohort_id):\n",
      "“Gene ENSG00000107960_Exc_DeJager_eQTL_ROSMAP_MEGA : No variants with credible set coverage > 0”\n",
      "Warning message in doTryCatch(return(expr), name, parentenv, handler):\n",
      "“Gene ENSG00000107960 in context Exc_DeJager_eQTL cohort ROSMAP_MEGA : No CS variants found”\n"
     ]
    },
    {
     "name": "stdout",
     "output_type": "stream",
     "text": [
      "  Processing region 15/28: chr16_51830934_54306975\n",
      "    Found 1 significant genes across 2 contexts in region chr16_51830934_54306975\n",
      "    Contexts: Oli_DeJager_eQTL, Oli_mega_eQTL\n",
      "      Processing context: Oli_DeJager_eQTL\n",
      "        1 genes in this context\n",
      "          Processing gene 1/1: ENSG00000103460\n",
      "            Loading weights from 1 database(s)\n",
      "            Found 130 variants in top_loci\n"
     ]
    },
    {
     "name": "stderr",
     "output_type": "stream",
     "text": [
      "Gene ENSG00000103460_Oli_DeJager_eQTL_ROSMAP_MEGA : Selected 127 variants in credible sets out of 130 total variants\n",
      "\n",
      "  Coverage distribution: cs_0.7 = 104, cs_0.95 = 23\n",
      "\n"
     ]
    },
    {
     "name": "stdout",
     "output_type": "stream",
     "text": [
      "            ✓ Successfully extracted 127 CS variants for gene ENSG00000103460 in context Oli_DeJager_eQTL cohort ROSMAP_MEGA\n",
      "      Processing context: Oli_mega_eQTL\n",
      "        1 genes in this context\n",
      "          Processing gene 1/1: ENSG00000103460\n",
      "            Loading weights from 1 database(s)\n",
      "            Found 130 variants in top_loci\n"
     ]
    },
    {
     "name": "stderr",
     "output_type": "stream",
     "text": [
      "Gene ENSG00000103460_Oli_mega_eQTL_ROSMAP_MEGA : Selected 127 variants in credible sets out of 130 total variants\n",
      "\n",
      "  Coverage distribution: cs_0.7 = 104, cs_0.95 = 23\n",
      "\n"
     ]
    },
    {
     "name": "stdout",
     "output_type": "stream",
     "text": [
      "            ✓ Successfully extracted 127 CS variants for gene ENSG00000103460 in context Oli_mega_eQTL cohort ROSMAP_MEGA\n",
      "  Processing region 16/28: chr16_88382277_90220225\n",
      "    Found 3 significant genes across 5 contexts in region chr16_88382277_90220225\n",
      "    Contexts: Exc_DeJager_eQTL, PCC_DeJager_eQTL, AC_DeJager_eQTL, DLPFC_DeJager_eQTL, Oli_mega_eQTL\n",
      "      Processing context: Exc_DeJager_eQTL\n",
      "        1 genes in this context\n",
      "          Processing gene 1/1: ENSG00000141002\n",
      "            Loading weights from 1 database(s)\n",
      "            Found 3 variants in top_loci\n"
     ]
    },
    {
     "name": "stderr",
     "output_type": "stream",
     "text": [
      "Gene ENSG00000141002_Exc_DeJager_eQTL_ROSMAP_MEGA : Selected 2 variants in credible sets out of 3 total variants\n",
      "\n",
      "  Coverage distribution: cs_0.95 = 2\n",
      "\n"
     ]
    },
    {
     "name": "stdout",
     "output_type": "stream",
     "text": [
      "            ✓ Successfully extracted 2 CS variants for gene ENSG00000141002 in context Exc_DeJager_eQTL cohort ROSMAP_MEGA\n",
      "      Processing context: PCC_DeJager_eQTL\n",
      "        2 genes in this context\n",
      "          Processing gene 1/2: ENSG00000185324\n",
      "            Loading weights from 1 database(s)\n",
      "            Found 6 variants in top_loci\n"
     ]
    },
    {
     "name": "stderr",
     "output_type": "stream",
     "text": [
      "Gene ENSG00000185324_PCC_DeJager_eQTL_ROSMAP_MEGA : Selected 6 variants in credible sets out of 6 total variants\n",
      "\n",
      "  Coverage distribution: cs_0.95 = 6\n",
      "\n"
     ]
    },
    {
     "name": "stdout",
     "output_type": "stream",
     "text": [
      "            ✓ Successfully extracted 6 CS variants for gene ENSG00000185324 in context PCC_DeJager_eQTL cohort ROSMAP_MEGA\n",
      "          Processing gene 2/2: ENSG00000258839\n",
      "            Loading weights from 1 database(s)\n",
      "            Found 3 variants in top_loci\n"
     ]
    },
    {
     "name": "stderr",
     "output_type": "stream",
     "text": [
      "Warning message in select_all_cs_variants(df, gene_context_cohort_id):\n",
      "“Gene ENSG00000258839_PCC_DeJager_eQTL_ROSMAP_MEGA : No variants with credible set coverage > 0”\n",
      "Warning message in doTryCatch(return(expr), name, parentenv, handler):\n",
      "“Gene ENSG00000258839 in context PCC_DeJager_eQTL cohort ROSMAP_MEGA : No CS variants found”\n"
     ]
    },
    {
     "name": "stdout",
     "output_type": "stream",
     "text": [
      "      Processing context: AC_DeJager_eQTL\n",
      "        1 genes in this context\n",
      "          Processing gene 1/1: ENSG00000258839\n",
      "            Loading weights from 1 database(s)\n",
      "            Found 3 variants in top_loci\n"
     ]
    },
    {
     "name": "stderr",
     "output_type": "stream",
     "text": [
      "Warning message in select_all_cs_variants(df, gene_context_cohort_id):\n",
      "“Gene ENSG00000258839_AC_DeJager_eQTL_ROSMAP_MEGA : No variants with credible set coverage > 0”\n",
      "Warning message in doTryCatch(return(expr), name, parentenv, handler):\n",
      "“Gene ENSG00000258839 in context AC_DeJager_eQTL cohort ROSMAP_MEGA : No CS variants found”\n"
     ]
    },
    {
     "name": "stdout",
     "output_type": "stream",
     "text": [
      "      Processing context: DLPFC_DeJager_eQTL\n",
      "        1 genes in this context\n",
      "          Processing gene 1/1: ENSG00000258839\n",
      "            Loading weights from 1 database(s)\n",
      "            Found 3 variants in top_loci\n"
     ]
    },
    {
     "name": "stderr",
     "output_type": "stream",
     "text": [
      "Warning message in select_all_cs_variants(df, gene_context_cohort_id):\n",
      "“Gene ENSG00000258839_DLPFC_DeJager_eQTL_ROSMAP_MEGA : No variants with credible set coverage > 0”\n",
      "Warning message in doTryCatch(return(expr), name, parentenv, handler):\n",
      "“Gene ENSG00000258839 in context DLPFC_DeJager_eQTL cohort ROSMAP_MEGA : No CS variants found”\n"
     ]
    },
    {
     "name": "stdout",
     "output_type": "stream",
     "text": [
      "      Processing context: Oli_mega_eQTL\n",
      "        1 genes in this context\n",
      "          Processing gene 1/1: ENSG00000185324\n",
      "            Loading weights from 1 database(s)\n",
      "            Found 6 variants in top_loci\n"
     ]
    },
    {
     "name": "stderr",
     "output_type": "stream",
     "text": [
      "Gene ENSG00000185324_Oli_mega_eQTL_ROSMAP_MEGA : Selected 6 variants in credible sets out of 6 total variants\n",
      "\n",
      "  Coverage distribution: cs_0.95 = 6\n",
      "\n"
     ]
    },
    {
     "name": "stdout",
     "output_type": "stream",
     "text": [
      "            ✓ Successfully extracted 6 CS variants for gene ENSG00000185324 in context Oli_mega_eQTL cohort ROSMAP_MEGA\n",
      "  Processing region 17/28: chr17_27951253_31594410\n",
      "    Found 2 significant genes across 2 contexts in region chr17_27951253_31594410\n",
      "    Contexts: AC_DeJager_eQTL, DLPFC_DeJager_eQTL\n",
      "      Processing context: AC_DeJager_eQTL\n",
      "        1 genes in this context\n",
      "          Processing gene 1/1: ENSG00000141298\n",
      "            Loading weights from 1 database(s)\n",
      "            Found 125 variants in top_loci\n"
     ]
    },
    {
     "name": "stderr",
     "output_type": "stream",
     "text": [
      "Gene ENSG00000141298_AC_DeJager_eQTL_ROSMAP_MEGA : Selected 125 variants in credible sets out of 125 total variants\n",
      "\n",
      "  Coverage distribution: cs_0.95 = 125\n",
      "\n"
     ]
    },
    {
     "name": "stdout",
     "output_type": "stream",
     "text": [
      "            ✓ Successfully extracted 125 CS variants for gene ENSG00000141298 in context AC_DeJager_eQTL cohort ROSMAP_MEGA\n",
      "      Processing context: DLPFC_DeJager_eQTL\n",
      "        1 genes in this context\n",
      "          Processing gene 1/1: ENSG00000126860\n",
      "            Loading weights from 1 database(s)\n",
      "            Found 60 variants in top_loci\n"
     ]
    },
    {
     "name": "stderr",
     "output_type": "stream",
     "text": [
      "Gene ENSG00000126860_DLPFC_DeJager_eQTL_ROSMAP_MEGA : Selected 59 variants in credible sets out of 60 total variants\n",
      "\n",
      "  Coverage distribution: cs_0.95 = 59\n",
      "\n"
     ]
    },
    {
     "name": "stdout",
     "output_type": "stream",
     "text": [
      "            ✓ Successfully extracted 59 CS variants for gene ENSG00000126860 in context DLPFC_DeJager_eQTL cohort ROSMAP_MEGA\n",
      "  Processing region 18/28: chr1_106225286_109761915\n",
      "    Found 1 significant genes across 1 contexts in region chr1_106225286_109761915\n",
      "    Contexts: Ast_DeJager_eQTL\n",
      "      Processing context: Ast_DeJager_eQTL\n",
      "        1 genes in this context\n",
      "          Processing gene 1/1: ENSG00000197780\n",
      "            Loading weights from 1 database(s)\n",
      "            Found 14 variants in top_loci\n"
     ]
    },
    {
     "name": "stderr",
     "output_type": "stream",
     "text": [
      "Warning message in select_all_cs_variants(df, gene_context_cohort_id):\n",
      "“Gene ENSG00000197780_Ast_DeJager_eQTL_ROSMAP_MEGA : No variants with credible set coverage > 0”\n",
      "Warning message in doTryCatch(return(expr), name, parentenv, handler):\n",
      "“Gene ENSG00000197780 in context Ast_DeJager_eQTL cohort ROSMAP_MEGA : No CS variants found”\n"
     ]
    },
    {
     "name": "stdout",
     "output_type": "stream",
     "text": [
      "  Processing region 19/28: chr1_214114077_215979204\n",
      "    Found 1 significant genes across 3 contexts in region chr1_214114077_215979204\n",
      "    Contexts: DLPFC_DeJager_eQTL, Exc_DeJager_eQTL, Exc_mega_eQTL\n",
      "      Processing context: DLPFC_DeJager_eQTL\n",
      "        1 genes in this context\n",
      "          Processing gene 1/1: ENSG00000082482\n",
      "            Loading weights from 1 database(s)\n",
      "            Found 17 variants in top_loci\n"
     ]
    },
    {
     "name": "stderr",
     "output_type": "stream",
     "text": [
      "Gene ENSG00000082482_DLPFC_DeJager_eQTL_ROSMAP_MEGA : Selected 16 variants in credible sets out of 17 total variants\n",
      "\n",
      "  Coverage distribution: cs_0.95 = 16\n",
      "\n"
     ]
    },
    {
     "name": "stdout",
     "output_type": "stream",
     "text": [
      "            ✓ Successfully extracted 16 CS variants for gene ENSG00000082482 in context DLPFC_DeJager_eQTL cohort ROSMAP_MEGA\n",
      "      Processing context: Exc_DeJager_eQTL\n",
      "        1 genes in this context\n",
      "          Processing gene 1/1: ENSG00000082482\n",
      "            Loading weights from 1 database(s)\n",
      "            Found 17 variants in top_loci\n"
     ]
    },
    {
     "name": "stderr",
     "output_type": "stream",
     "text": [
      "Gene ENSG00000082482_Exc_DeJager_eQTL_ROSMAP_MEGA : Selected 16 variants in credible sets out of 17 total variants\n",
      "\n",
      "  Coverage distribution: cs_0.95 = 16\n",
      "\n"
     ]
    },
    {
     "name": "stdout",
     "output_type": "stream",
     "text": [
      "            ✓ Successfully extracted 16 CS variants for gene ENSG00000082482 in context Exc_DeJager_eQTL cohort ROSMAP_MEGA\n",
      "      Processing context: Exc_mega_eQTL\n",
      "        1 genes in this context\n",
      "          Processing gene 1/1: ENSG00000082482\n",
      "            Loading weights from 1 database(s)\n",
      "            Found 17 variants in top_loci\n"
     ]
    },
    {
     "name": "stderr",
     "output_type": "stream",
     "text": [
      "Gene ENSG00000082482_Exc_mega_eQTL_ROSMAP_MEGA : Selected 16 variants in credible sets out of 17 total variants\n",
      "\n",
      "  Coverage distribution: cs_0.95 = 16\n",
      "\n"
     ]
    },
    {
     "name": "stdout",
     "output_type": "stream",
     "text": [
      "            ✓ Successfully extracted 16 CS variants for gene ENSG00000082482 in context Exc_mega_eQTL cohort ROSMAP_MEGA\n",
      "  Processing region 20/28: chr2_187801142_191595348\n",
      "    Found 1 significant genes across 1 contexts in region chr2_187801142_191595348\n",
      "    Contexts: Ast_DeJager_eQTL\n",
      "      Processing context: Ast_DeJager_eQTL\n",
      "        1 genes in this context\n",
      "          Processing gene 1/1: ENSG00000115368\n",
      "            Loading weights from 1 database(s)\n",
      "            Found 129 variants in top_loci\n"
     ]
    },
    {
     "name": "stderr",
     "output_type": "stream",
     "text": [
      "Gene ENSG00000115368_Ast_DeJager_eQTL_ROSMAP_MEGA : Selected 129 variants in credible sets out of 129 total variants\n",
      "\n",
      "  Coverage distribution: cs_0.95 = 129\n",
      "\n"
     ]
    },
    {
     "name": "stdout",
     "output_type": "stream",
     "text": [
      "            ✓ Successfully extracted 129 CS variants for gene ENSG00000115368 in context Ast_DeJager_eQTL cohort ROSMAP_MEGA\n",
      "  Processing region 21/28: chr6_3574220_4657971\n",
      "    Found 1 significant genes across 1 contexts in region chr6_3574220_4657971\n",
      "    Contexts: Oli_DeJager_eQTL\n",
      "      Processing context: Oli_DeJager_eQTL\n",
      "        1 genes in this context\n",
      "          Processing gene 1/1: ENSG00000112739\n",
      "            Loading weights from 1 database(s)\n",
      "            Found 12 variants in top_loci\n"
     ]
    },
    {
     "name": "stderr",
     "output_type": "stream",
     "text": [
      "Warning message in select_all_cs_variants(df, gene_context_cohort_id):\n",
      "“Gene ENSG00000112739_Oli_DeJager_eQTL_ROSMAP_MEGA : No variants with credible set coverage > 0”\n",
      "Warning message in doTryCatch(return(expr), name, parentenv, handler):\n",
      "“Gene ENSG00000112739 in context Oli_DeJager_eQTL cohort ROSMAP_MEGA : No CS variants found”\n"
     ]
    },
    {
     "name": "stdout",
     "output_type": "stream",
     "text": [
      "  Processing region 22/28: chr8_117613122_120167358\n",
      "    Found 1 significant genes across 1 contexts in region chr8_117613122_120167358\n",
      "    Contexts: Exc_DeJager_eQTL\n",
      "      Processing context: Exc_DeJager_eQTL\n",
      "        1 genes in this context\n",
      "          Processing gene 1/1: ENSG00000147676\n",
      "            Loading weights from 1 database(s)\n",
      "            Found 43 variants in top_loci\n"
     ]
    },
    {
     "name": "stderr",
     "output_type": "stream",
     "text": [
      "Gene ENSG00000147676_Exc_DeJager_eQTL_ROSMAP_MEGA : Selected 42 variants in credible sets out of 43 total variants\n",
      "\n",
      "  Coverage distribution: cs_0.95 = 42\n",
      "\n"
     ]
    },
    {
     "name": "stdout",
     "output_type": "stream",
     "text": [
      "            ✓ Successfully extracted 42 CS variants for gene ENSG00000147676 in context Exc_DeJager_eQTL cohort ROSMAP_MEGA\n",
      "  Processing region 23/28: chr8_30324658_31407027\n",
      "    Found 1 significant genes across 1 contexts in region chr8_30324658_31407027\n",
      "    Contexts: Exc_DeJager_eQTL\n",
      "      Processing context: Exc_DeJager_eQTL\n",
      "        1 genes in this context\n",
      "          Processing gene 1/1: ENSG00000172733\n",
      "            Loading weights from 1 database(s)\n",
      "            Found 20 variants in top_loci\n"
     ]
    },
    {
     "name": "stderr",
     "output_type": "stream",
     "text": [
      "Gene ENSG00000172733_Exc_DeJager_eQTL_ROSMAP_MEGA : Selected 12 variants in credible sets out of 20 total variants\n",
      "\n",
      "  Coverage distribution: cs_0.95 = 12\n",
      "\n"
     ]
    },
    {
     "name": "stdout",
     "output_type": "stream",
     "text": [
      "            ✓ Successfully extracted 12 CS variants for gene ENSG00000172733 in context Exc_DeJager_eQTL cohort ROSMAP_MEGA\n",
      "  Processing region 24/28: chr17_60570445_65149278\n",
      "    Found 1 significant genes across 1 contexts in region chr17_60570445_65149278\n",
      "    Contexts: Ast_mega_eQTL\n",
      "      Processing context: Ast_mega_eQTL\n",
      "        1 genes in this context\n",
      "          Processing gene 1/1: ENSG00000108604\n",
      "            Loading weights from 1 database(s)\n",
      "            Found 137 variants in top_loci\n"
     ]
    },
    {
     "name": "stderr",
     "output_type": "stream",
     "text": [
      "Gene ENSG00000108604_Ast_mega_eQTL_ROSMAP_MEGA : Selected 137 variants in credible sets out of 137 total variants\n",
      "\n",
      "  Coverage distribution: cs_0.95 = 137\n",
      "\n"
     ]
    },
    {
     "name": "stdout",
     "output_type": "stream",
     "text": [
      "            ✓ Successfully extracted 137 CS variants for gene ENSG00000108604 in context Ast_mega_eQTL cohort ROSMAP_MEGA\n",
      "  Processing region 25/28: chr6_145632539_148538997\n",
      "    Found 1 significant genes across 1 contexts in region chr6_145632539_148538997\n",
      "    Contexts: Oli_mega_eQTL\n",
      "      Processing context: Oli_mega_eQTL\n",
      "        1 genes in this context\n",
      "          Processing gene 1/1: ENSG00000146414\n",
      "            Loading weights from 1 database(s)\n",
      "            Found 588 variants in top_loci\n"
     ]
    },
    {
     "name": "stderr",
     "output_type": "stream",
     "text": [
      "Gene ENSG00000146414_Oli_mega_eQTL_ROSMAP_MEGA : Selected 588 variants in credible sets out of 588 total variants\n",
      "\n",
      "  Coverage distribution: cs_0.95 = 588\n",
      "\n"
     ]
    },
    {
     "name": "stdout",
     "output_type": "stream",
     "text": [
      "            ✓ Successfully extracted 588 CS variants for gene ENSG00000146414 in context Oli_mega_eQTL cohort ROSMAP_MEGA\n",
      "  Processing region 26/28: chr7_139984618_141109068\n",
      "    Found 1 significant genes across 1 contexts in region chr7_139984618_141109068\n",
      "    Contexts: Ast_mega_eQTL\n",
      "      Processing context: Ast_mega_eQTL\n",
      "        1 genes in this context\n",
      "          Processing gene 1/1: ENSG00000157764\n",
      "            Loading weights from 1 database(s)\n",
      "            Found 91 variants in top_loci\n"
     ]
    },
    {
     "name": "stderr",
     "output_type": "stream",
     "text": [
      "Gene ENSG00000157764_Ast_mega_eQTL_ROSMAP_MEGA : Selected 90 variants in credible sets out of 91 total variants\n",
      "\n",
      "  Coverage distribution: cs_0.95 = 90\n",
      "\n"
     ]
    },
    {
     "name": "stdout",
     "output_type": "stream",
     "text": [
      "            ✓ Successfully extracted 90 CS variants for gene ENSG00000157764 in context Ast_mega_eQTL cohort ROSMAP_MEGA\n",
      "  Processing region 27/28: chr8_6537503_8880095\n",
      "    Found 1 significant genes across 1 contexts in region chr8_6537503_8880095\n",
      "    Contexts: OPC_mega_eQTL\n",
      "      Processing context: OPC_mega_eQTL\n",
      "        1 genes in this context\n",
      "          Processing gene 1/1: ENSG00000091879\n",
      "            Loading weights from 1 database(s)\n",
      "            Found 84 variants in top_loci\n"
     ]
    },
    {
     "name": "stderr",
     "output_type": "stream",
     "text": [
      "Gene ENSG00000091879_OPC_mega_eQTL_ROSMAP_MEGA : Selected 84 variants in credible sets out of 84 total variants\n",
      "\n",
      "  Coverage distribution: cs_0.95 = 72, cs_0.7 = 12\n",
      "\n"
     ]
    },
    {
     "name": "stdout",
     "output_type": "stream",
     "text": [
      "            ✓ Successfully extracted 84 CS variants for gene ENSG00000091879 in context OPC_mega_eQTL cohort ROSMAP_MEGA\n",
      "  Processing region 28/28: chr12_54557704_56408332\n",
      "    Found 1 significant genes across 1 contexts in region chr12_54557704_56408332\n",
      "    Contexts: ROSMAP_AC_sQTL_chr12:56226419:56229013:clu_90187_+:PR:ENSG00000139579\n",
      "      Processing context: ROSMAP_AC_sQTL_chr12:56226419:56229013:clu_90187_+:PR:ENSG00000139579\n",
      "        1 genes in this context\n",
      "          Processing gene 1/1: ENSG00000139579\n",
      "            Loading weights from 1 database(s)\n"
     ]
    },
    {
     "name": "stderr",
     "output_type": "stream",
     "text": [
      "Warning message in doTryCatch(return(expr), name, parentenv, handler):\n",
      "“Gene ENSG00000139579 in context ROSMAP_AC_sQTL_chr12:56226419:56229013:clu_90187_+:PR:ENSG00000139579 cohort ROSMAP_MEGA : No top_loci in susie results”\n"
     ]
    },
    {
     "name": "stdout",
     "output_type": "stream",
     "text": [
      "  Completed cohort ROSMAP_MEGA: 63/102 genes with credible sets, 2563 total CS variants\n",
      "\n",
      "=== MULTI-COHORT PROCESSING SUMMARY ===\n",
      "Cohorts processed: 4 / 4 \n",
      "Total regions processed: 112 \n",
      "Total contexts processed: 328 \n",
      "Total gene-context-cohort combinations processed: 408 \n",
      "Gene-context-cohort combinations with valid weights: 341 \n",
      "Gene-context-cohort combinations with credible sets: 235 \n",
      "Total CS variants extracted: 7606 \n",
      "Errors encountered: 173 \n",
      "MR qualification success rate: 57.6% (235/408 gene-context-cohort combinations passed all filters)\n",
      "Average CS variants per gene-context-cohort: 32.4\n",
      "\n",
      "Error details (showing first 20):\n",
      "  1. No top_loci for gene: ENSG00000197785 context: Exc_DeJager_eQTL cohort: KNIGHT\n",
      "  2. No top_loci for gene: ENSG00000133065 context: monocyte_ROSMAP_eQTL cohort: KNIGHT\n",
      "  3. No top_loci for gene: ENSG00000133065 context: Ast_DeJager_eQTL cohort: KNIGHT\n",
      "  4. No top_loci for gene: ENSG00000133065 context: Exc_DeJager_eQTL cohort: KNIGHT\n",
      "  5. No top_loci for gene: ENSG00000133065 context: Inh_DeJager_eQTL cohort: KNIGHT\n",
      "  6. No top_loci for gene: ENSG00000133065 context: Oli_DeJager_eQTL cohort: KNIGHT\n",
      "  7. No top_loci for gene: ENSG00000133065 context: PCC_DeJager_eQTL cohort: KNIGHT\n",
      "  8. No top_loci for gene: ENSG00000133065 context: Ast_mega_eQTL cohort: KNIGHT\n",
      "  9. No top_loci for gene: ENSG00000133065 context: Exc_mega_eQTL cohort: KNIGHT\n",
      "  10. No top_loci for gene: ENSG00000133065 context: Inh_mega_eQTL cohort: KNIGHT\n",
      "  11. No top_loci for gene: ENSG00000133065 context: Oli_mega_eQTL cohort: KNIGHT\n",
      "  12. No CS variants for gene: ENSG00000204010 context: BM_22_MSBB_eQTL cohort: KNIGHT\n",
      "  13. No top_loci for gene: ENSG00000136448 context: BM_36_MSBB_eQTL cohort: KNIGHT\n",
      "  14. No top_loci for gene: ENSG00000136448 context: AC_DeJager_eQTL cohort: KNIGHT\n",
      "  15. No top_loci for gene: ENSG00000136448 context: PCC_DeJager_eQTL cohort: KNIGHT\n",
      "  16. No top_loci for gene: ENSG00000182481 context: BM_44_MSBB_eQTL cohort: KNIGHT\n",
      "  17. No top_loci for gene: ENSG00000182481 context: Exc_DeJager_eQTL cohort: KNIGHT\n",
      "  18. No top_loci for gene: ENSG00000141425 context: MSBB_BM36_pQTL_chr18_Q96P16 cohort: KNIGHT\n",
      "  19. No weight DB for gene: ENSG00000011590 context: BM_10_MSBB_eQTL cohort: KNIGHT\n",
      "  20. No weight DB for gene: ENSG00000011590 context: BM_22_MSBB_eQTL cohort: KNIGHT\n",
      "  ... and 153 more errors\n",
      "\n",
      "=== MULTI-COHORT ANALYSIS RESULTS ===\n",
      "Successfully created consolidated data frame with 7606 CS variants across all gene-context-cohort combinations\n",
      "\n",
      "CS variants and genes by cohort:\n",
      "  KNIGHT: 2801 variants across 20 genes\n",
      "  ROSMAP_MEGA: 2563 variants across 26 genes\n",
      "  ROSMAP: 1681 variants across 30 genes\n",
      "  MSBB: 561 variants across 11 genes\n",
      "\n",
      "CS coverage level distribution by cohort:\n",
      "  KNIGHT:\n",
      "    cs_0.95: 1708 variants\n",
      "    cs_0.7: 1033 variants\n",
      "    cs_0.5: 60 variants\n",
      "  MSBB:\n",
      "    cs_0.95: 291 variants\n",
      "    cs_0.5: 224 variants\n",
      "    cs_0.7: 46 variants\n",
      "  ROSMAP:\n",
      "    cs_0.95: 1657 variants\n",
      "    cs_0.7: 20 variants\n",
      "    cs_0.5: 4 variants\n",
      "  ROSMAP_MEGA:\n",
      "    cs_0.95: 2231 variants\n",
      "    cs_0.7: 282 variants\n",
      "    cs_0.5: 50 variants\n",
      "\n",
      "CS variants and genes by context across cohorts:\n",
      "  AC_DeJager_eQTL:\n",
      "    KNIGHT: 498 variants (5 genes)\n",
      "    ROSMAP_MEGA: 193 variants (4 genes)\n",
      "    ROSMAP: 138 variants (7 genes)\n",
      "    MSBB: 85 variants (4 genes)\n",
      "  Ast_DeJager_eQTL:\n",
      "    KNIGHT: 439 variants (1 genes)\n",
      "    ROSMAP_MEGA: 171 variants (3 genes)\n",
      "    ROSMAP: 4 variants (1 genes)\n",
      "  Ast_mega_eQTL:\n",
      "    ROSMAP_MEGA: 244 variants (3 genes)\n",
      "    KNIGHT: 106 variants (1 genes)\n",
      "    ROSMAP: 106 variants (1 genes)\n",
      "  BM_10_MSBB_eQTL:\n",
      "    KNIGHT: 105 variants (7 genes)\n",
      "    ROSMAP: 101 variants (7 genes)\n",
      "    ROSMAP_MEGA: 53 variants (3 genes)\n",
      "    MSBB: 47 variants (6 genes)\n",
      "  BM_22_MSBB_eQTL:\n",
      "    ROSMAP_MEGA: 208 variants (4 genes)\n",
      "    KNIGHT: 185 variants (8 genes)\n",
      "    ROSMAP: 160 variants (8 genes)\n",
      "    MSBB: 97 variants (7 genes)\n",
      "  BM_36_MSBB_eQTL:\n",
      "    ROSMAP: 107 variants (7 genes)\n",
      "    KNIGHT: 91 variants (5 genes)\n",
      "    ROSMAP_MEGA: 82 variants (4 genes)\n",
      "    MSBB: 39 variants (5 genes)\n",
      "  BM_44_MSBB_eQTL:\n",
      "    ROSMAP: 115 variants (7 genes)\n",
      "    KNIGHT: 95 variants (6 genes)\n",
      "    ROSMAP_MEGA: 77 variants (3 genes)\n",
      "    MSBB: 48 variants (6 genes)\n",
      "  DLPFC_DeJager_eQTL:\n",
      "    KNIGHT: 343 variants (4 genes)\n",
      "    ROSMAP: 284 variants (6 genes)\n",
      "    ROSMAP_MEGA: 112 variants (4 genes)\n",
      "    MSBB: 21 variants (2 genes)\n",
      "  Exc_DeJager_eQTL:\n",
      "    ROSMAP_MEGA: 147 variants (8 genes)\n",
      "    ROSMAP: 104 variants (8 genes)\n",
      "    KNIGHT: 73 variants (4 genes)\n",
      "    MSBB: 19 variants (2 genes)\n",
      "  Exc_mega_eQTL:\n",
      "    ROSMAP_MEGA: 57 variants (4 genes)\n",
      "    KNIGHT: 42 variants (2 genes)\n",
      "    ROSMAP: 25 variants (2 genes)\n",
      "    MSBB: 8 variants (1 genes)\n",
      "  Inh_DeJager_eQTL:\n",
      "    ROSMAP_MEGA: 17 variants (1 genes)\n",
      "  Inh_mega_eQTL:\n",
      "    ROSMAP_MEGA: 17 variants (1 genes)\n",
      "  Knight_eQTL_brain:\n",
      "    ROSMAP: 73 variants (3 genes)\n",
      "    ROSMAP_MEGA: 47 variants (2 genes)\n",
      "    KNIGHT: 42 variants (3 genes)\n",
      "    MSBB: 26 variants (3 genes)\n",
      "  MSBB_BM36_pQTL_chr18_Q96P16:\n",
      "    ROSMAP_MEGA: 12 variants (1 genes)\n",
      "    ROSMAP: 8 variants (1 genes)\n",
      "  MSBB_BM36_pQTL_chr1_O95749:\n",
      "    ROSMAP: 193 variants (1 genes)\n",
      "    MSBB: 119 variants (1 genes)\n",
      "  MSBB_BM36_pQTL_chr2_P50053-2:\n",
      "    ROSMAP: 8 variants (1 genes)\n",
      "    ROSMAP_MEGA: 5 variants (1 genes)\n",
      "  OPC_mega_eQTL:\n",
      "    ROSMAP_MEGA: 84 variants (1 genes)\n",
      "  Oli_DeJager_eQTL:\n",
      "    ROSMAP_MEGA: 173 variants (4 genes)\n",
      "    ROSMAP: 57 variants (2 genes)\n",
      "  Oli_mega_eQTL:\n",
      "    ROSMAP_MEGA: 742 variants (5 genes)\n",
      "    KNIGHT: 460 variants (3 genes)\n",
      "    ROSMAP: 93 variants (4 genes)\n",
      "    MSBB: 8 variants (1 genes)\n",
      "  PCC_DeJager_eQTL:\n",
      "    KNIGHT: 318 variants (5 genes)\n",
      "    ROSMAP_MEGA: 91 variants (5 genes)\n",
      "    ROSMAP: 86 variants (7 genes)\n",
      "    MSBB: 39 variants (4 genes)\n",
      "  monocyte_ROSMAP_eQTL:\n",
      "    ROSMAP_MEGA: 31 variants (2 genes)\n",
      "    ROSMAP: 19 variants (1 genes)\n",
      "    MSBB: 5 variants (1 genes)\n",
      "    KNIGHT: 4 variants (1 genes)\n",
      "\n",
      "=== MULTI-COHORT QUALITY METRICS ===\n",
      "Overall mean PIP of CS variants: 0.039\n",
      "Overall median PIP of CS variants: 0.009\n",
      "CS variants with PIP > 0.8: 43 (0.6%)\n",
      "\n",
      "PIP statistics by cohort:\n",
      "  MSBB: mean=0.075, median=0.033, high_PIP=0/561 (0.0%)\n",
      "  ROSMAP: mean=0.064, median=0.018, high_PIP=33/1681 (2.0%)\n",
      "  ROSMAP_MEGA: mean=0.032, median=0.009, high_PIP=8/2563 (0.3%)\n",
      "  KNIGHT: mean=0.024, median=0.004, high_PIP=2/2801 (0.1%)\n",
      "\n",
      "PIP statistics by context (across all cohorts):\n",
      "  MSBB_BM36_pQTL_chr2_P50053-2: mean=0.147, median=0.100, high_PIP=0/13 (0.0%), cohorts=2\n",
      "  monocyte_ROSMAP_eQTL: mean=0.112, median=0.044, high_PIP=1/59 (1.7%), cohorts=4\n",
      "  BM_10_MSBB_eQTL: mean=0.100, median=0.040, high_PIP=5/306 (1.6%), cohorts=4\n",
      "  BM_36_MSBB_eQTL: mean=0.085, median=0.033, high_PIP=5/319 (1.6%), cohorts=4\n",
      "  BM_44_MSBB_eQTL: mean=0.084, median=0.033, high_PIP=5/335 (1.5%), cohorts=4\n",
      "  Knight_eQTL_brain: mean=0.084, median=0.040, high_PIP=3/188 (1.6%), cohorts=4\n",
      "  MSBB_BM36_pQTL_chr18_Q96P16: mean=0.084, median=0.052, high_PIP=0/20 (0.0%), cohorts=2\n",
      "  Exc_mega_eQTL: mean=0.079, median=0.048, high_PIP=0/132 (0.0%), cohorts=4\n",
      "  Exc_DeJager_eQTL: mean=0.073, median=0.038, high_PIP=3/343 (0.9%), cohorts=4\n",
      "  Inh_DeJager_eQTL: mean=0.056, median=0.020, high_PIP=0/17 (0.0%), cohorts=1\n",
      "  Inh_mega_eQTL: mean=0.056, median=0.020, high_PIP=0/17 (0.0%), cohorts=1\n",
      "  BM_22_MSBB_eQTL: mean=0.053, median=0.018, high_PIP=4/650 (0.6%), cohorts=4\n",
      "  PCC_DeJager_eQTL: mean=0.052, median=0.008, high_PIP=6/534 (1.1%), cohorts=4\n",
      "  Oli_DeJager_eQTL: mean=0.037, median=0.020, high_PIP=1/230 (0.4%), cohorts=2\n",
      "  OPC_mega_eQTL: mean=0.032, median=0.009, high_PIP=0/84 (0.0%), cohorts=1\n",
      "  DLPFC_DeJager_eQTL: mean=0.026, median=0.006, high_PIP=3/760 (0.4%), cohorts=4\n",
      "  AC_DeJager_eQTL: mean=0.026, median=0.006, high_PIP=4/914 (0.4%), cohorts=4\n",
      "  MSBB_BM36_pQTL_chr1_O95749: mean=0.015, median=0.011, high_PIP=0/312 (0.0%), cohorts=2\n",
      "  Oli_mega_eQTL: mean=0.014, median=0.002, high_PIP=3/1303 (0.2%), cohorts=4\n",
      "  Ast_mega_eQTL: mean=0.011, median=0.007, high_PIP=0/456 (0.0%), cohorts=3\n",
      "  Ast_DeJager_eQTL: mean=0.007, median=0.002, high_PIP=0/614 (0.0%), cohorts=3\n",
      "\n",
      "=== SAMPLE RESULTS (first 10 rows) ===\n",
      "         variant_id    betahat  sebetahat         gene_id           block_id\n",
      "1  chr1:1803531:C:T -0.2988248 0.04025327 ENSG00000142609 chr1_16103_2888443\n",
      "2  chr1:1827615:G:A -0.2998672 0.03999667 ENSG00000142609 chr1_16103_2888443\n",
      "3  chr1:1830566:A:T -0.3025606 0.04021938 ENSG00000142609 chr1_16103_2888443\n",
      "4  chr1:1837455:C:T -0.2998672 0.03999667 ENSG00000142609 chr1_16103_2888443\n",
      "5  chr1:1839349:C:G -0.2995121 0.04001672 ENSG00000142609 chr1_16103_2888443\n",
      "6  chr1:1839350:T:A -0.2995121 0.04001672 ENSG00000142609 chr1_16103_2888443\n",
      "7  chr1:1842237:T:C -0.3013863 0.04042042 ENSG00000142609 chr1_16103_2888443\n",
      "8  chr1:1842333:G:A -0.3025606 0.04021938 ENSG00000142609 chr1_16103_2888443\n",
      "9  chr1:1869595:G:A -0.2998672 0.03999667 ENSG00000142609 chr1_16103_2888443\n",
      "10 chr1:1873952:G:A -0.3025606 0.04021938 ENSG00000142609 chr1_16103_2888443\n",
      "             context cohort         PIP cs_coverage_0.95 cs_coverage_0.7\n",
      "1  Knight_eQTL_brain KNIGHT 0.004476463                1               0\n",
      "2  Knight_eQTL_brain KNIGHT 0.007115363                1               0\n",
      "3  Knight_eQTL_brain KNIGHT 0.007776069                1               0\n",
      "4  Knight_eQTL_brain KNIGHT 0.007115363                1               0\n",
      "5  Knight_eQTL_brain KNIGHT 0.006264612                1               0\n",
      "6  Knight_eQTL_brain KNIGHT 0.006264612                1               0\n",
      "7  Knight_eQTL_brain KNIGHT 0.005534603                1               0\n",
      "8  Knight_eQTL_brain KNIGHT 0.007776069                1               0\n",
      "9  Knight_eQTL_brain KNIGHT 0.007115363                1               0\n",
      "10 Knight_eQTL_brain KNIGHT 0.007776069                1               0\n",
      "   cs_coverage_0.5 highest_cs_level n_total_variants n_cs_variants\n",
      "1                0          cs_0.95               35            35\n",
      "2                0          cs_0.95               35            35\n",
      "3                0          cs_0.95               35            35\n",
      "4                0          cs_0.95               35            35\n",
      "5                0          cs_0.95               35            35\n",
      "6                0          cs_0.95               35            35\n",
      "7                0          cs_0.95               35            35\n",
      "8                0          cs_0.95               35            35\n",
      "9                0          cs_0.95               35            35\n",
      "10               0          cs_0.95               35            35\n",
      "\n",
      "=== GENE SUMMARY (genes with most CS variants, top 10) ===\n",
      "\u001b[90m# A tibble: 10 × 6\u001b[39m\n",
      "   gene_id         context                 cohort n_cs_variants mean_pip max_pip\n",
      "   \u001b[3m\u001b[90m<chr>\u001b[39m\u001b[23m           \u001b[3m\u001b[90m<chr>\u001b[39m\u001b[23m                   \u001b[3m\u001b[90m<chr>\u001b[39m\u001b[23m          \u001b[3m\u001b[90m<int>\u001b[39m\u001b[23m    \u001b[3m\u001b[90m<dbl>\u001b[39m\u001b[23m   \u001b[3m\u001b[90m<dbl>\u001b[39m\u001b[23m\n",
      "\u001b[90m 1\u001b[39m ENSG00000146414 Oli_mega_eQTL           ROSMA…           588  0.002\u001b[4m2\u001b[24m\u001b[4m3\u001b[24m 0.007\u001b[4m2\u001b[24m\u001b[4m1\u001b[24m\n",
      "\u001b[90m 2\u001b[39m ENSG00000115368 Ast_DeJager_eQTL        KNIGHT           439  0.003\u001b[4m0\u001b[24m\u001b[4m0\u001b[24m 0.016\u001b[4m9\u001b[24m \n",
      "\u001b[90m 3\u001b[39m ENSG00000146414 Oli_mega_eQTL           KNIGHT           427  0.002\u001b[4m2\u001b[24m\u001b[4m3\u001b[24m 0.013\u001b[4m4\u001b[24m \n",
      "\u001b[90m 4\u001b[39m ENSG00000258839 AC_DeJager_eQTL         KNIGHT           260  0.004\u001b[4m7\u001b[24m\u001b[4m2\u001b[24m 0.060\u001b[4m8\u001b[24m \n",
      "\u001b[90m 5\u001b[39m ENSG00000258839 DLPFC_DeJager_eQTL      KNIGHT           260  0.004\u001b[4m7\u001b[24m\u001b[4m2\u001b[24m 0.060\u001b[4m8\u001b[24m \n",
      "\u001b[90m 6\u001b[39m ENSG00000258839 PCC_DeJager_eQTL        KNIGHT           260  0.004\u001b[4m7\u001b[24m\u001b[4m2\u001b[24m 0.060\u001b[4m8\u001b[24m \n",
      "\u001b[90m 7\u001b[39m ENSG00000126860 DLPFC_DeJager_eQTL      ROSMAP           204  0.005\u001b[4m7\u001b[24m\u001b[4m1\u001b[24m 0.024\u001b[4m8\u001b[24m \n",
      "\u001b[90m 8\u001b[39m ENSG00000141298 AC_DeJager_eQTL         KNIGHT           196  0.005\u001b[4m0\u001b[24m\u001b[4m2\u001b[24m 0.041\u001b[4m2\u001b[24m \n",
      "\u001b[90m 9\u001b[39m ENSG00000152904 MSBB_BM36_pQTL_chr1_O9… ROSMAP           193  0.009\u001b[4m8\u001b[24m\u001b[4m7\u001b[24m 0.036\u001b[4m5\u001b[24m \n",
      "\u001b[90m10\u001b[39m ENSG00000164543 BM_22_MSBB_eQTL         ROSMA…           155  0.006\u001b[4m2\u001b[24m\u001b[4m0\u001b[24m 0.077\u001b[4m4\u001b[24m \n",
      "\n",
      "=== AVAILABLE DATA OBJECTS FOR FURTHER ANALYSIS ===\n",
      "final_df: All CS variants across all gene-context-cohort combinations\n",
      "gene_summary: Summary statistics per gene-context-cohort combination\n",
      "all_cohorts_results: Raw results organized by cohort\n",
      "master_processing_summary: Processing statistics and errors\n"
     ]
    }
   ],
   "source": [
    "# R Script to Process TWAS/SuSiE Fine-mapping Results Across Multiple Cohorts\n",
    "# MULTI-COHORT CONTEXT-AWARE VERSION - Extract ALL variants in credible sets\n",
    "# Processes each cohort-block-context combination separately to identify all CS variants\n",
    "\n",
    "# Step 1: Load necessary libraries\n",
    "library(purrr)\n",
    "library(stringr)\n",
    "library(data.table)\n",
    "library(dplyr)\n",
    "\n",
    "# --- Helper Function for CS Variant Selection ---\n",
    "select_all_cs_variants <- function(df, gene_id) {\n",
    "    # Select ALL variants that are in any credible set (coverage > 0 at any level)\n",
    "    # \n",
    "    # Args:\n",
    "    #   df: Data frame containing variant information with PIP and coverage columns\n",
    "    #   gene_id: Gene identifier for messaging purposes\n",
    "    # \n",
    "    # Returns:\n",
    "    #   Data frame with all CS variants and their coverage levels\n",
    "    \n",
    "    if (nrow(df) == 0) {\n",
    "        warning(paste(\"No variants found for gene:\", gene_id))\n",
    "        return(NULL)\n",
    "    }\n",
    "    \n",
    "    # Validate required columns\n",
    "    required_cols <- c(\"pip\", \"cs_coverage_0.95\", \"cs_coverage_0.7\", \"cs_coverage_0.5\")\n",
    "    missing_cols <- setdiff(required_cols, colnames(df))\n",
    "    if (length(missing_cols) > 0) {\n",
    "        warning(paste(\"Gene\", gene_id, \": Missing required columns:\", paste(missing_cols, collapse = \", \")))\n",
    "        return(NULL)\n",
    "    }\n",
    "    \n",
    "    # Select ALL variants that are in ANY credible set (any coverage > 0)\n",
    "    cs_variants <- df |> \n",
    "        filter(cs_coverage_0.95 > 0 | cs_coverage_0.7 > 0 | cs_coverage_0.5 > 0)\n",
    "    \n",
    "    if (nrow(cs_variants) == 0) {\n",
    "        warning(paste(\"Gene\", gene_id, \": No variants with credible set coverage > 0\"))\n",
    "        return(NULL)\n",
    "    }\n",
    "    \n",
    "    # Add summary information\n",
    "    cs_variants$n_total_variants <- nrow(df)\n",
    "    cs_variants$n_cs_variants <- nrow(cs_variants)\n",
    "    \n",
    "    # Determine highest coverage level for each variant\n",
    "    cs_variants <- cs_variants |>\n",
    "        mutate(\n",
    "            highest_cs_level = case_when(\n",
    "                cs_coverage_0.95 > 0 ~ \"cs_0.95\",\n",
    "                cs_coverage_0.7 > 0 ~ \"cs_0.7\",\n",
    "                cs_coverage_0.5 > 0 ~ \"cs_0.5\",\n",
    "                TRUE ~ \"none\"\n",
    "            )\n",
    "        )\n",
    "    \n",
    "    message(paste(\"Gene\", gene_id, \": Selected\", nrow(cs_variants), \"variants in credible sets out of\", nrow(df), \"total variants\"))\n",
    "    \n",
    "    # Show coverage level distribution\n",
    "    cs_summary <- cs_variants |> \n",
    "        count(highest_cs_level) |>\n",
    "        arrange(desc(n))\n",
    "    message(paste(\"  Coverage distribution:\", paste(cs_summary$highest_cs_level, \"=\", cs_summary$n, collapse=\", \")))\n",
    "    \n",
    "    return(cs_variants)\n",
    "}\n",
    "\n",
    "# --- Define Cohort Information ---\n",
    "cohorts <- list(\n",
    "    KNIGHT = list(\n",
    "        name = \"KNIGHT\",\n",
    "        weight_db_path = \"~/data/interactive_analysis/cl4215/KNIGHT_eQTL_pQTL_twas_wgw_xqtl_meta_data.tsv\"\n",
    "    ),\n",
    "    MSBB = list(\n",
    "        name = \"MSBB\", \n",
    "        weight_db_path = \"~/project/image_QTL/twas/MSBB_eQTL_pQTL_twas_wgw_xqtl_meta_data.tsv\"\n",
    "    ),\n",
    "    ROSMAP = list(\n",
    "        name = \"ROSMAP\",\n",
    "        weight_db_path = \"~/data/interactive_analysis/cl4215/ROSMAP_twas_wgw_xqtl_meta_data.tsv\"\n",
    "    ),\n",
    "    ROSMAP_MEGA = list(\n",
    "        name = \"ROSMAP_MEGA\",\n",
    "        weight_db_path = \"~/data/interactive_analysis/cl4215/ROSMAP_mega_twas_wgw_xqtl_meta_data.tsv\"\n",
    "    )\n",
    ")\n",
    "\n",
    "# --- Main Processing Logic ---\n",
    "\n",
    "# Initialize master list to store results from all cohorts\n",
    "all_cohorts_results <- list()\n",
    "master_processing_summary <- list(\n",
    "    cohorts_processed = 0,\n",
    "    total_regions = 0,\n",
    "    total_contexts = 0,\n",
    "    total_genes_processed = 0,\n",
    "    genes_with_weights = 0,\n",
    "    genes_with_credible_sets = 0,\n",
    "    total_cs_variants = 0,\n",
    "    errors = character(0)\n",
    ")\n",
    "\n",
    "cat(\"=== Starting Multi-Cohort Context-Aware TWAS/SuSiE Processing ===\\n\")\n",
    "cat(\"Mode: Extract ALL variants in credible sets (any coverage level)\\n\")\n",
    "cat(\"Cohorts to process:\", length(cohorts), \"\\n\")\n",
    "cat(\"Cohort names:\", paste(names(cohorts), collapse = \", \"), \"\\n\")\n",
    "cat(\"Total regions per cohort:\", length(Aging4_block), \"\\n\\n\")\n",
    "\n",
    "# Loop through each cohort\n",
    "for (cohort_idx in seq_along(cohorts)) {\n",
    "    cohort_info <- cohorts[[cohort_idx]]\n",
    "    cohort_name <- cohort_info$name\n",
    "    weight_db_path <- cohort_info$weight_db_path\n",
    "    \n",
    "    cat(sprintf(\"=== PROCESSING COHORT %d/%d: %s ===\\n\", cohort_idx, length(cohorts), cohort_name))\n",
    "    \n",
    "    # Initialize cohort-specific tracking\n",
    "    cohort_results <- list()\n",
    "    cohort_summary <- list(\n",
    "        cohort_name = cohort_name,\n",
    "        total_regions = 0,\n",
    "        total_contexts = 0,\n",
    "        total_genes_processed = 0,\n",
    "        genes_with_weights = 0,\n",
    "        genes_with_credible_sets = 0,\n",
    "        total_cs_variants = 0,\n",
    "        errors = character(0)\n",
    "    )\n",
    "    \n",
    "    tryCatch({\n",
    "        # Load weight database list for current cohort\n",
    "        cat(sprintf(\"Loading weight database metadata: %s\\n\", weight_db_path))\n",
    "        weight_db_list <- fread(weight_db_path)\n",
    "        cat(sprintf(\"Loaded %d weight database entries for %s\\n\", nrow(weight_db_list), cohort_name))\n",
    "        \n",
    "        master_processing_summary$cohorts_processed <- master_processing_summary$cohorts_processed + 1\n",
    "        \n",
    "        # Loop through each specified region/block\n",
    "        for (region_idx in seq_along(Aging4_block)) {\n",
    "            region_db <- Aging4_block[region_idx]\n",
    "            cohort_summary$total_regions <- cohort_summary$total_regions + 1\n",
    "            \n",
    "            cat(sprintf(\"  Processing region %d/%d: %s\\n\", region_idx, length(Aging4_block), region_db))\n",
    "            \n",
    "            tryCatch({\n",
    "                # Filter for significant genes within the current block\n",
    "                Aging4_multigene_per_block <- Aging4_twas_filtered |> \n",
    "                    filter(block == region_db)\n",
    "                \n",
    "                n_sig_genes <- length(unique(Aging4_multigene_per_block$molecular_id))\n",
    "                contexts_in_region <- unique(Aging4_multigene_per_block$context)\n",
    "                cohort_summary$total_contexts <- cohort_summary$total_contexts + length(contexts_in_region)\n",
    "                \n",
    "                cat(sprintf(\"    Found %d significant genes across %d contexts in region %s\\n\", \n",
    "                           n_sig_genes, length(contexts_in_region), region_db))\n",
    "                cat(sprintf(\"    Contexts: %s\\n\", paste(contexts_in_region, collapse = \", \")))\n",
    "                \n",
    "                if (n_sig_genes == 0) {\n",
    "                    cat(\"    No significant genes found, skipping region\\n\")\n",
    "                    next\n",
    "                }\n",
    "                \n",
    "                # Loop through each context in the region\n",
    "                for (context_name in contexts_in_region) {\n",
    "                    cat(sprintf(\"      Processing context: %s\\n\", context_name))\n",
    "                    \n",
    "                    # Filter for genes in this specific context\n",
    "                    genes_in_context <- Aging4_multigene_per_block |> \n",
    "                        filter(context == context_name) |> \n",
    "                        pull(molecular_id) |> \n",
    "                        unique()\n",
    "                    \n",
    "                    cat(sprintf(\"        %d genes in this context\\n\", length(genes_in_context)))\n",
    "                    \n",
    "                    # Loop through each gene in the current context\n",
    "                    for (gene_idx in seq_along(genes_in_context)) {\n",
    "                        gene_db <- genes_in_context[gene_idx]\n",
    "                        cohort_summary$total_genes_processed <- cohort_summary$total_genes_processed + 1\n",
    "                        \n",
    "                        cat(sprintf(\"          Processing gene %d/%d: %s\\n\", gene_idx, length(genes_in_context), gene_db))\n",
    "                        \n",
    "                        tryCatch({\n",
    "                            # Get the database paths for the weights\n",
    "                            weight_db_matches <- weight_db_list |> filter(region_id == gene_db)\n",
    "                            \n",
    "                            if (nrow(weight_db_matches) == 0) {\n",
    "                                warning(paste(\"No weight database found for gene:\", gene_db, \"in cohort:\", cohort_name))\n",
    "                                cohort_summary$errors <- c(cohort_summary$errors, \n",
    "                                                          paste(\"No weight DB for gene:\", gene_db, \"context:\", context_name, \"cohort:\", cohort_name))\n",
    "                                next\n",
    "                            }\n",
    "                            \n",
    "                            weight_dbs <- weight_db_matches |> \n",
    "                                pull(original_data) |> \n",
    "                                str_split(\",\") |> \n",
    "                                unlist()\n",
    "                            \n",
    "                            cat(sprintf(\"            Loading weights from %d database(s)\\n\", length(weight_dbs)))\n",
    "                            \n",
    "                            # Load the weights for the current gene\n",
    "                            twas_weights_results <- load_twas_weights(\n",
    "                                weight_dbs, \n",
    "                                variable_name_obj = \"variant_names\", \n",
    "                                susie_obj = \"susie_weights_intermediate\",\n",
    "                                twas_weights_table = \"twas_weights\"\n",
    "                            )\n",
    "                            \n",
    "                            # Enhanced validation of results\n",
    "                            if (!is.list(twas_weights_results)) {\n",
    "                                warning(paste(\"Gene\", gene_db, \"in context\", context_name, \"cohort\", cohort_name, \": load_twas_weights() did not return a list\"))\n",
    "                                cohort_summary$errors <- c(cohort_summary$errors, \n",
    "                                                          paste(\"Non-list result for gene:\", gene_db, \"context:\", context_name, \"cohort:\", cohort_name))\n",
    "                                next\n",
    "                            }\n",
    "                            \n",
    "                            if (is.null(twas_weights_results$susie_results)) {\n",
    "                                warning(paste(\"Gene\", gene_db, \"in context\", context_name, \"cohort\", cohort_name, \": No susie_results in weights output\"))\n",
    "                                cohort_summary$errors <- c(cohort_summary$errors, \n",
    "                                                          paste(\"No susie_results for gene:\", gene_db, \"context:\", context_name, \"cohort:\", cohort_name))\n",
    "                                next\n",
    "                            }\n",
    "                            \n",
    "                            if (length(twas_weights_results$susie_results) == 0) {\n",
    "                                warning(paste(\"Gene\", gene_db, \"in context\", context_name, \"cohort\", cohort_name, \": Empty susie_results list\"))\n",
    "                                cohort_summary$errors <- c(cohort_summary$errors, \n",
    "                                                          paste(\"Empty susie_results for gene:\", gene_db, \"context:\", context_name, \"cohort:\", cohort_name))\n",
    "                                next\n",
    "                            }\n",
    "                            \n",
    "                            cohort_summary$genes_with_weights <- cohort_summary$genes_with_weights + 1\n",
    "                            susie_res <- twas_weights_results$susie_results[[1]]\n",
    "                            \n",
    "                            # Check if top_loci exists and has data\n",
    "                            if (is.null(susie_res$top_loci)) {\n",
    "                                warning(paste(\"Gene\", gene_db, \"in context\", context_name, \"cohort\", cohort_name, \": No top_loci in susie results\"))\n",
    "                                cohort_summary$errors <- c(cohort_summary$errors, \n",
    "                                                          paste(\"No top_loci for gene:\", gene_db, \"context:\", context_name, \"cohort:\", cohort_name))\n",
    "                                next\n",
    "                            }\n",
    "                            \n",
    "                            if (nrow(susie_res$top_loci) == 0) {\n",
    "                                warning(paste(\"Gene\", gene_db, \"in context\", context_name, \"cohort\", cohort_name, \": Empty top_loci data frame\"))\n",
    "                                cohort_summary$errors <- c(cohort_summary$errors, \n",
    "                                                          paste(\"Empty top_loci for gene:\", gene_db, \"context:\", context_name, \"cohort:\", cohort_name))\n",
    "                                next\n",
    "                            }\n",
    "                            \n",
    "                            df <- as.data.frame(susie_res$top_loci)\n",
    "                            cat(sprintf(\"            Found %d variants in top_loci\\n\", nrow(df)))\n",
    "                            \n",
    "                            # Use CS selection function to get ALL CS variants\n",
    "                            gene_context_cohort_id <- paste(gene_db, context_name, cohort_name, sep = \"_\")\n",
    "                            cs_variants_df <- select_all_cs_variants(df, gene_context_cohort_id)\n",
    "                            \n",
    "                            if (is.null(cs_variants_df) || nrow(cs_variants_df) == 0) {\n",
    "                                warning(paste(\"Gene\", gene_db, \"in context\", context_name, \"cohort\", cohort_name, \": No CS variants found\"))\n",
    "                                cohort_summary$errors <- c(cohort_summary$errors, \n",
    "                                                          paste(\"No CS variants for gene:\", gene_db, \"context:\", context_name, \"cohort:\", cohort_name))\n",
    "                                next\n",
    "                            }\n",
    "                            \n",
    "                            # Add cohort, context, and other metadata to ALL CS variants\n",
    "                            cs_variants_df$gene_id <- gene_db\n",
    "                            cs_variants_df$block_id <- region_db\n",
    "                            cs_variants_df$context <- context_name\n",
    "                            cs_variants_df$cohort <- cohort_name\n",
    "                            \n",
    "                            # Create unique key for gene-context-cohort combination\n",
    "                            unique_key <- paste(gene_db, context_name, cohort_name, sep = \"_\")\n",
    "                            \n",
    "                            # Store the result\n",
    "                            cohort_results[[unique_key]] <- cs_variants_df\n",
    "                            cohort_summary$genes_with_credible_sets <- cohort_summary$genes_with_credible_sets + 1\n",
    "                            cohort_summary$total_cs_variants <- cohort_summary$total_cs_variants + nrow(cs_variants_df)\n",
    "                            \n",
    "                            cat(sprintf(\"            ✓ Successfully extracted %d CS variants for gene %s in context %s cohort %s\\n\", \n",
    "                                       nrow(cs_variants_df), gene_db, context_name, cohort_name))\n",
    "                            \n",
    "                        }, error = function(e) {\n",
    "                            error_msg <- paste(\"Gene\", gene_db, \"in context\", context_name, \"cohort\", cohort_name, \"error:\", e$message)\n",
    "                            warning(error_msg)\n",
    "                            cohort_summary$errors <- c(cohort_summary$errors, error_msg)\n",
    "                        })\n",
    "                    }\n",
    "                }\n",
    "                \n",
    "            }, error = function(e) {\n",
    "                error_msg <- paste(\"Region\", region_db, \"in cohort\", cohort_name, \"error:\", e$message)\n",
    "                warning(error_msg)\n",
    "                cohort_summary$errors <- c(cohort_summary$errors, error_msg)\n",
    "            })\n",
    "        }\n",
    "        \n",
    "        # Store cohort results and update master summary\n",
    "        all_cohorts_results[[cohort_name]] <- cohort_results\n",
    "        \n",
    "        # Update master summary\n",
    "        master_processing_summary$total_regions <- master_processing_summary$total_regions + cohort_summary$total_regions\n",
    "        master_processing_summary$total_contexts <- master_processing_summary$total_contexts + cohort_summary$total_contexts\n",
    "        master_processing_summary$total_genes_processed <- master_processing_summary$total_genes_processed + cohort_summary$total_genes_processed\n",
    "        master_processing_summary$genes_with_weights <- master_processing_summary$genes_with_weights + cohort_summary$genes_with_weights\n",
    "        master_processing_summary$genes_with_credible_sets <- master_processing_summary$genes_with_credible_sets + cohort_summary$genes_with_credible_sets\n",
    "        master_processing_summary$total_cs_variants <- master_processing_summary$total_cs_variants + cohort_summary$total_cs_variants\n",
    "        master_processing_summary$errors <- c(master_processing_summary$errors, cohort_summary$errors)\n",
    "        \n",
    "        cat(sprintf(\"  Completed cohort %s: %d/%d genes with credible sets, %d total CS variants\\n\\n\", \n",
    "                   cohort_name, cohort_summary$genes_with_credible_sets, cohort_summary$total_genes_processed, cohort_summary$total_cs_variants))\n",
    "        \n",
    "    }, error = function(e) {\n",
    "        error_msg <- paste(\"Cohort\", cohort_name, \"error:\", e$message)\n",
    "        warning(error_msg)\n",
    "        master_processing_summary$errors <- c(master_processing_summary$errors, error_msg)\n",
    "    })\n",
    "}\n",
    "\n",
    "# --- Multi-Cohort Processing Summary ---\n",
    "cat(\"=== MULTI-COHORT PROCESSING SUMMARY ===\\n\")\n",
    "cat(\"Cohorts processed:\", master_processing_summary$cohorts_processed, \"/\", length(cohorts), \"\\n\")\n",
    "cat(\"Total regions processed:\", master_processing_summary$total_regions, \"\\n\")\n",
    "cat(\"Total contexts processed:\", master_processing_summary$total_contexts, \"\\n\")\n",
    "cat(\"Total gene-context-cohort combinations processed:\", master_processing_summary$total_genes_processed, \"\\n\")\n",
    "cat(\"Gene-context-cohort combinations with valid weights:\", master_processing_summary$genes_with_weights, \"\\n\")\n",
    "cat(\"Gene-context-cohort combinations with credible sets:\", master_processing_summary$genes_with_credible_sets, \"\\n\")\n",
    "cat(\"Total CS variants extracted:\", master_processing_summary$total_cs_variants, \"\\n\")\n",
    "cat(\"Errors encountered:\", length(master_processing_summary$errors), \"\\n\")\n",
    "\n",
    "# Calculate success rates\n",
    "mr_success_rate <- ifelse(master_processing_summary$total_genes_processed > 0,\n",
    "                         100 * master_processing_summary$genes_with_credible_sets / master_processing_summary$total_genes_processed,\n",
    "                         0)\n",
    "cat(sprintf(\"MR qualification success rate: %.1f%% (%d/%d gene-context-cohort combinations passed all filters)\\n\",\n",
    "           mr_success_rate, master_processing_summary$genes_with_credible_sets, master_processing_summary$total_genes_processed))\n",
    "\n",
    "avg_variants_per_gene <- ifelse(master_processing_summary$genes_with_credible_sets > 0,\n",
    "                                master_processing_summary$total_cs_variants / master_processing_summary$genes_with_credible_sets,\n",
    "                                0)\n",
    "cat(sprintf(\"Average CS variants per gene-context-cohort: %.1f\\n\", avg_variants_per_gene))\n",
    "\n",
    "if (length(master_processing_summary$errors) > 0) {\n",
    "    cat(\"\\nError details (showing first 20):\\n\")\n",
    "    errors_to_show <- head(master_processing_summary$errors, 20)\n",
    "    for (i in seq_along(errors_to_show)) {\n",
    "        cat(sprintf(\"  %d. %s\\n\", i, errors_to_show[i]))\n",
    "    }\n",
    "    if (length(master_processing_summary$errors) > 20) {\n",
    "        cat(sprintf(\"  ... and %d more errors\\n\", length(master_processing_summary$errors) - 20))\n",
    "    }\n",
    "}\n",
    "\n",
    "# --- Multi-Cohort Analysis Step ---\n",
    "\n",
    "# Flatten all cohort results into a single list\n",
    "all_results_flattened <- list()\n",
    "for (cohort_name in names(all_cohorts_results)) {\n",
    "    cohort_data <- all_cohorts_results[[cohort_name]]\n",
    "    all_results_flattened <- c(all_results_flattened, cohort_data)\n",
    "}\n",
    "\n",
    "# Combine all CS variant data frames into a single master data frame\n",
    "final_df <- bind_rows(all_results_flattened)\n",
    "\n",
    "# Check if the final data frame is empty\n",
    "if (nrow(final_df) > 0) {\n",
    "    cat(sprintf(\"\\n=== MULTI-COHORT ANALYSIS RESULTS ===\\n\"))\n",
    "    cat(sprintf(\"Successfully created consolidated data frame with %d CS variants across all gene-context-cohort combinations\\n\", nrow(final_df)))\n",
    "    \n",
    "    # Cohort distribution summary\n",
    "    cohort_dist <- final_df |>\n",
    "        group_by(cohort) |>\n",
    "        summarise(\n",
    "            n_variants = n(),\n",
    "            n_genes = n_distinct(gene_id),\n",
    "            .groups = \"drop\"\n",
    "        ) |>\n",
    "        arrange(desc(n_variants))\n",
    "    \n",
    "    cat(\"\\nCS variants and genes by cohort:\\n\")\n",
    "    for (i in 1:nrow(cohort_dist)) {\n",
    "        cohort <- cohort_dist$cohort[i]\n",
    "        n_vars <- cohort_dist$n_variants[i]\n",
    "        n_genes <- cohort_dist$n_genes[i]\n",
    "        cat(sprintf(\"  %s: %d variants across %d genes\\n\", cohort, n_vars, n_genes))\n",
    "    }\n",
    "    \n",
    "    # Coverage level distribution across all cohorts\n",
    "    coverage_summary <- final_df |>\n",
    "        count(highest_cs_level, cohort, name = \"n_variants\") |>\n",
    "        arrange(cohort, desc(n_variants))\n",
    "    \n",
    "    cat(\"\\nCS coverage level distribution by cohort:\\n\")\n",
    "    for (cohort_name in unique(coverage_summary$cohort)) {\n",
    "        cat(sprintf(\"  %s:\\n\", cohort_name))\n",
    "        cohort_coverage <- coverage_summary |> filter(cohort == cohort_name)\n",
    "        for (j in 1:nrow(cohort_coverage)) {\n",
    "            level <- cohort_coverage$highest_cs_level[j]\n",
    "            count <- cohort_coverage$n_variants[j]\n",
    "            cat(sprintf(\"    %s: %d variants\\n\", level, count))\n",
    "        }\n",
    "    }\n",
    "    \n",
    "    # Context distribution summary across all cohorts\n",
    "    context_cohort_dist <- final_df |>\n",
    "        group_by(context, cohort) |>\n",
    "        summarise(\n",
    "            n_variants = n(),\n",
    "            n_genes = n_distinct(gene_id),\n",
    "            .groups = \"drop\"\n",
    "        ) |>\n",
    "        arrange(context, desc(n_variants))\n",
    "    \n",
    "    cat(\"\\nCS variants and genes by context across cohorts:\\n\")\n",
    "    for (ctx in unique(context_cohort_dist$context)) {\n",
    "        cat(sprintf(\"  %s:\\n\", ctx))\n",
    "        ctx_data <- context_cohort_dist |> filter(context == ctx)\n",
    "        for (k in 1:nrow(ctx_data)) {\n",
    "            cohort <- ctx_data$cohort[k]\n",
    "            n_vars <- ctx_data$n_variants[k]\n",
    "            n_genes <- ctx_data$n_genes[k]\n",
    "            cat(sprintf(\"    %s: %d variants (%d genes)\\n\", cohort, n_vars, n_genes))\n",
    "        }\n",
    "    }\n",
    "    \n",
    "    # Select and rename columns for the desired final format\n",
    "    final_df <- final_df |>\n",
    "        select(\n",
    "            variant_id,\n",
    "            betahat,\n",
    "            sebetahat,\n",
    "            gene_id,\n",
    "            block_id,\n",
    "            context,\n",
    "            cohort,\n",
    "            PIP = pip,\n",
    "            cs_coverage_0.95,\n",
    "            cs_coverage_0.7,\n",
    "            cs_coverage_0.5,\n",
    "            highest_cs_level,\n",
    "            n_total_variants,\n",
    "            n_cs_variants\n",
    "        )\n",
    "    \n",
    "    # Additional quality metrics across cohorts\n",
    "    cat(sprintf(\"\\n=== MULTI-COHORT QUALITY METRICS ===\\n\"))\n",
    "    cat(sprintf(\"Overall mean PIP of CS variants: %.3f\\n\", mean(final_df$PIP, na.rm = TRUE)))\n",
    "    cat(sprintf(\"Overall median PIP of CS variants: %.3f\\n\", median(final_df$PIP, na.rm = TRUE)))\n",
    "    \n",
    "    high_pip_variants <- sum(final_df$PIP > 0.8, na.rm = TRUE)\n",
    "    cat(sprintf(\"CS variants with PIP > 0.8: %d (%.1f%%)\\n\", \n",
    "               high_pip_variants, \n",
    "               100 * high_pip_variants / nrow(final_df)))\n",
    "    \n",
    "    # Cohort-specific quality metrics\n",
    "    cat(\"\\nPIP statistics by cohort:\\n\")\n",
    "    cohort_pip_stats <- final_df |>\n",
    "        group_by(cohort) |>\n",
    "        summarise(\n",
    "            mean_pip = mean(PIP, na.rm = TRUE),\n",
    "            median_pip = median(PIP, na.rm = TRUE),\n",
    "            high_pip_count = sum(PIP > 0.8, na.rm = TRUE),\n",
    "            total_variants = n(),\n",
    "            .groups = \"drop\"\n",
    "        ) |>\n",
    "        arrange(desc(mean_pip))\n",
    "    \n",
    "    for (i in 1:nrow(cohort_pip_stats)) {\n",
    "        cohort <- cohort_pip_stats$cohort[i]\n",
    "        mean_pip <- cohort_pip_stats$mean_pip[i]\n",
    "        median_pip <- cohort_pip_stats$median_pip[i]\n",
    "        high_pip <- cohort_pip_stats$high_pip_count[i]\n",
    "        total <- cohort_pip_stats$total_variants[i]\n",
    "        cat(sprintf(\"  %s: mean=%.3f, median=%.3f, high_PIP=%d/%d (%.1f%%)\\n\", \n",
    "                   cohort, mean_pip, median_pip, high_pip, total, 100*high_pip/total))\n",
    "    }\n",
    "    \n",
    "    # Context-specific quality metrics across cohorts\n",
    "    cat(\"\\nPIP statistics by context (across all cohorts):\\n\")\n",
    "    context_pip_stats <- final_df |>\n",
    "        group_by(context) |>\n",
    "        summarise(\n",
    "            mean_pip = mean(PIP, na.rm = TRUE),\n",
    "            median_pip = median(PIP, na.rm = TRUE),\n",
    "            high_pip_count = sum(PIP > 0.8, na.rm = TRUE),\n",
    "            total_variants = n(),\n",
    "            n_cohorts = n_distinct(cohort),\n",
    "            .groups = \"drop\"\n",
    "        ) |>\n",
    "        arrange(desc(mean_pip))\n",
    "    \n",
    "    for (i in 1:nrow(context_pip_stats)) {\n",
    "        ctx <- context_pip_stats$context[i]\n",
    "        mean_pip <- context_pip_stats$mean_pip[i]\n",
    "        median_pip <- context_pip_stats$median_pip[i]\n",
    "        high_pip <- context_pip_stats$high_pip_count[i]\n",
    "        total <- context_pip_stats$total_variants[i]\n",
    "        n_cohorts <- context_pip_stats$n_cohorts[i]\n",
    "        cat(sprintf(\"  %s: mean=%.3f, median=%.3f, high_PIP=%d/%d (%.1f%%), cohorts=%d\\n\", \n",
    "                   ctx, mean_pip, median_pip, high_pip, total, 100*high_pip/total, n_cohorts))\n",
    "    }\n",
    "    \n",
    "    # Display sample of results\n",
    "    cat(sprintf(\"\\n=== SAMPLE RESULTS (first 10 rows) ===\\n\"))\n",
    "    print(head(final_df, 10))\n",
    "    \n",
    "    # Summary by gene\n",
    "    gene_summary <- final_df |>\n",
    "        group_by(gene_id, context, cohort) |>\n",
    "        summarise(\n",
    "            n_cs_variants = n(),\n",
    "            mean_pip = mean(PIP, na.rm = TRUE),\n",
    "            max_pip = max(PIP, na.rm = TRUE),\n",
    "            .groups = \"drop\"\n",
    "        ) |>\n",
    "        arrange(desc(n_cs_variants))\n",
    "    \n",
    "    cat(sprintf(\"\\n=== GENE SUMMARY (genes with most CS variants, top 10) ===\\n\"))\n",
    "    print(head(gene_summary, 10))\n",
    "    \n",
    "    # Final data objects available for further analysis:\n",
    "    cat(sprintf(\"\\n=== AVAILABLE DATA OBJECTS FOR FURTHER ANALYSIS ===\\n\"))\n",
    "    cat(\"final_df: All CS variants across all gene-context-cohort combinations\\n\")\n",
    "    cat(\"gene_summary: Summary statistics per gene-context-cohort combination\\n\")\n",
    "    cat(\"all_cohorts_results: Raw results organized by cohort\\n\")\n",
    "    cat(\"master_processing_summary: Processing statistics and errors\\n\")\n",
    "    \n",
    "} else {\n",
    "    cat(\"\\n=== NO RESULTS ACROSS ALL COHORTS ===\\n\")\n",
    "    cat(\"No credible set variants were found for any of the specified genes, regions, and cohorts.\\n\")\n",
    "    cat(\"This could be due to:\\n\")\n",
    "    cat(\"  - No significant genes in the specified regions\\n\")\n",
    "    cat(\"  - Missing or corrupted weight databases across all cohorts\\n\")\n",
    "    cat(\"  - Issues with the load_twas_weights() function\\n\")\n",
    "    cat(\"  - No variants with CS coverage > 0 across all cohorts\\n\")\n",
    "    \n",
    "    if (length(master_processing_summary$errors) > 0) {\n",
    "        cat(\"\\nPlease review the errors listed above for more details.\\n\")\n",
    "    }\n",
    "    \n",
    "    # Show per-cohort failure summary\n",
    "    cat(\"\\nPer-cohort processing summary:\\n\")\n",
    "    for (cohort_name in names(cohorts)) {\n",
    "        cohort_results_count <- ifelse(cohort_name %in% names(all_cohorts_results), \n",
    "                                     length(all_cohorts_results[[cohort_name]]), \n",
    "                                     0)\n",
    "        cat(sprintf(\"  %s: %d successful gene-context combinations\\n\", cohort_name, cohort_results_count))\n",
    "    }\n",
    "}"
   ]
  },
  {
   "cell_type": "code",
   "execution_count": 10,
   "id": "4c437935-2842-4235-8a6f-f1395d1185cf",
   "metadata": {},
   "outputs": [
    {
     "data": {
      "text/html": [
       "<table class=\"dataframe\">\n",
       "<caption>A tibble: 6 × 6</caption>\n",
       "<thead>\n",
       "\t<tr><th scope=col>gene_id</th><th scope=col>context</th><th scope=col>cohort</th><th scope=col>n_cs_variants</th><th scope=col>mean_pip</th><th scope=col>max_pip</th></tr>\n",
       "\t<tr><th scope=col>&lt;chr&gt;</th><th scope=col>&lt;chr&gt;</th><th scope=col>&lt;chr&gt;</th><th scope=col>&lt;int&gt;</th><th scope=col>&lt;dbl&gt;</th><th scope=col>&lt;dbl&gt;</th></tr>\n",
       "</thead>\n",
       "<tbody>\n",
       "\t<tr><td>ENSG00000146414</td><td>Oli_mega_eQTL     </td><td>ROSMAP_MEGA</td><td>588</td><td>0.002233117</td><td>0.007207267</td></tr>\n",
       "\t<tr><td>ENSG00000115368</td><td>Ast_DeJager_eQTL  </td><td>KNIGHT     </td><td>439</td><td>0.003001262</td><td>0.016863699</td></tr>\n",
       "\t<tr><td>ENSG00000146414</td><td>Oli_mega_eQTL     </td><td>KNIGHT     </td><td>427</td><td>0.002225180</td><td>0.013389183</td></tr>\n",
       "\t<tr><td>ENSG00000258839</td><td>AC_DeJager_eQTL   </td><td>KNIGHT     </td><td>260</td><td>0.004715443</td><td>0.060752593</td></tr>\n",
       "\t<tr><td>ENSG00000258839</td><td>DLPFC_DeJager_eQTL</td><td>KNIGHT     </td><td>260</td><td>0.004715443</td><td>0.060752593</td></tr>\n",
       "\t<tr><td>ENSG00000258839</td><td>PCC_DeJager_eQTL  </td><td>KNIGHT     </td><td>260</td><td>0.004715443</td><td>0.060752593</td></tr>\n",
       "</tbody>\n",
       "</table>\n"
      ],
      "text/latex": [
       "A tibble: 6 × 6\n",
       "\\begin{tabular}{llllll}\n",
       " gene\\_id & context & cohort & n\\_cs\\_variants & mean\\_pip & max\\_pip\\\\\n",
       " <chr> & <chr> & <chr> & <int> & <dbl> & <dbl>\\\\\n",
       "\\hline\n",
       "\t ENSG00000146414 & Oli\\_mega\\_eQTL      & ROSMAP\\_MEGA & 588 & 0.002233117 & 0.007207267\\\\\n",
       "\t ENSG00000115368 & Ast\\_DeJager\\_eQTL   & KNIGHT      & 439 & 0.003001262 & 0.016863699\\\\\n",
       "\t ENSG00000146414 & Oli\\_mega\\_eQTL      & KNIGHT      & 427 & 0.002225180 & 0.013389183\\\\\n",
       "\t ENSG00000258839 & AC\\_DeJager\\_eQTL    & KNIGHT      & 260 & 0.004715443 & 0.060752593\\\\\n",
       "\t ENSG00000258839 & DLPFC\\_DeJager\\_eQTL & KNIGHT      & 260 & 0.004715443 & 0.060752593\\\\\n",
       "\t ENSG00000258839 & PCC\\_DeJager\\_eQTL   & KNIGHT      & 260 & 0.004715443 & 0.060752593\\\\\n",
       "\\end{tabular}\n"
      ],
      "text/markdown": [
       "\n",
       "A tibble: 6 × 6\n",
       "\n",
       "| gene_id &lt;chr&gt; | context &lt;chr&gt; | cohort &lt;chr&gt; | n_cs_variants &lt;int&gt; | mean_pip &lt;dbl&gt; | max_pip &lt;dbl&gt; |\n",
       "|---|---|---|---|---|---|\n",
       "| ENSG00000146414 | Oli_mega_eQTL      | ROSMAP_MEGA | 588 | 0.002233117 | 0.007207267 |\n",
       "| ENSG00000115368 | Ast_DeJager_eQTL   | KNIGHT      | 439 | 0.003001262 | 0.016863699 |\n",
       "| ENSG00000146414 | Oli_mega_eQTL      | KNIGHT      | 427 | 0.002225180 | 0.013389183 |\n",
       "| ENSG00000258839 | AC_DeJager_eQTL    | KNIGHT      | 260 | 0.004715443 | 0.060752593 |\n",
       "| ENSG00000258839 | DLPFC_DeJager_eQTL | KNIGHT      | 260 | 0.004715443 | 0.060752593 |\n",
       "| ENSG00000258839 | PCC_DeJager_eQTL   | KNIGHT      | 260 | 0.004715443 | 0.060752593 |\n",
       "\n"
      ],
      "text/plain": [
       "  gene_id         context            cohort      n_cs_variants mean_pip   \n",
       "1 ENSG00000146414 Oli_mega_eQTL      ROSMAP_MEGA 588           0.002233117\n",
       "2 ENSG00000115368 Ast_DeJager_eQTL   KNIGHT      439           0.003001262\n",
       "3 ENSG00000146414 Oli_mega_eQTL      KNIGHT      427           0.002225180\n",
       "4 ENSG00000258839 AC_DeJager_eQTL    KNIGHT      260           0.004715443\n",
       "5 ENSG00000258839 DLPFC_DeJager_eQTL KNIGHT      260           0.004715443\n",
       "6 ENSG00000258839 PCC_DeJager_eQTL   KNIGHT      260           0.004715443\n",
       "  max_pip    \n",
       "1 0.007207267\n",
       "2 0.016863699\n",
       "3 0.013389183\n",
       "4 0.060752593\n",
       "5 0.060752593\n",
       "6 0.060752593"
      ]
     },
     "metadata": {},
     "output_type": "display_data"
    },
    {
     "data": {
      "text/html": [
       "<style>\n",
       ".list-inline {list-style: none; margin:0; padding: 0}\n",
       ".list-inline>li {display: inline-block}\n",
       ".list-inline>li:not(:last-child)::after {content: \"\\00b7\"; padding: 0 .5ex}\n",
       "</style>\n",
       "<ol class=list-inline><li>235</li><li>6</li></ol>\n"
      ],
      "text/latex": [
       "\\begin{enumerate*}\n",
       "\\item 235\n",
       "\\item 6\n",
       "\\end{enumerate*}\n"
      ],
      "text/markdown": [
       "1. 235\n",
       "2. 6\n",
       "\n",
       "\n"
      ],
      "text/plain": [
       "[1] 235   6"
      ]
     },
     "metadata": {},
     "output_type": "display_data"
    }
   ],
   "source": [
    "head(gene_summary)\n",
    "dim(gene_summary)"
   ]
  },
  {
   "cell_type": "code",
   "execution_count": 11,
   "id": "7593c6fe-0add-4515-a2cb-ec5b0eb9cfdc",
   "metadata": {},
   "outputs": [
    {
     "data": {
      "text/html": [
       "37"
      ],
      "text/latex": [
       "37"
      ],
      "text/markdown": [
       "37"
      ],
      "text/plain": [
       "[1] 37"
      ]
     },
     "metadata": {},
     "output_type": "display_data"
    }
   ],
   "source": [
    "gene_summary |> count(gene_id) |> nrow()"
   ]
  },
  {
   "cell_type": "code",
   "execution_count": 12,
   "id": "a3887e88-b4ac-4e86-bfb1-066069849597",
   "metadata": {},
   "outputs": [],
   "source": [
    "Aging4_gene = unique(gene_summary$gene_id)"
   ]
  },
  {
   "cell_type": "code",
   "execution_count": 13,
   "id": "4690b578-988a-438b-bba4-a5f30ad5b46b",
   "metadata": {},
   "outputs": [],
   "source": [
    "image_Aging4_gene_list <- Aging4_twas |> \n",
    "  dplyr::filter(molecular_id %in% Aging4_gene) |> \n",
    "  dplyr::mutate(`#chr` = paste0(\"chr\", chr), gene_id = molecular_id) |> \n",
    "  dplyr::select(`#chr`, start, end, gene_id) |> \n",
    "  unique()"
   ]
  },
  {
   "cell_type": "code",
   "execution_count": 14,
   "id": "f4acc0fe-e8c9-4358-8551-5b3187e20024",
   "metadata": {},
   "outputs": [
    {
     "data": {
      "text/html": [
       "<style>\n",
       ".list-inline {list-style: none; margin:0; padding: 0}\n",
       ".list-inline>li {display: inline-block}\n",
       ".list-inline>li:not(:last-child)::after {content: \"\\00b7\"; padding: 0 .5ex}\n",
       "</style>\n",
       "<ol class=list-inline><li>37</li><li>4</li></ol>\n"
      ],
      "text/latex": [
       "\\begin{enumerate*}\n",
       "\\item 37\n",
       "\\item 4\n",
       "\\end{enumerate*}\n"
      ],
      "text/markdown": [
       "1. 37\n",
       "2. 4\n",
       "\n",
       "\n"
      ],
      "text/plain": [
       "[1] 37  4"
      ]
     },
     "metadata": {},
     "output_type": "display_data"
    }
   ],
   "source": [
    "dim(image_Aging4_gene_list)"
   ]
  },
  {
   "cell_type": "code",
   "execution_count": 15,
   "id": "1792b8e7-e2f5-4017-b31b-578fad1d7f54",
   "metadata": {},
   "outputs": [],
   "source": [
    "DNE_QTL_gene = fread(\"~/project/image_QTL/twas/annotated_dne_gene.tsv\")\n"
   ]
  },
  {
   "cell_type": "code",
   "execution_count": 16,
   "id": "479f0edd-fafa-4a5c-8d3a-f9ad4fd449ae",
   "metadata": {},
   "outputs": [],
   "source": [
    "image_Aging4_QTL_gene = DNE_QTL_gene |> filter(str_detect(event_ID, \"image_Aging4\")) |> dplyr::select(-strand,-event_ID)\n",
    "                                        "
   ]
  },
  {
   "cell_type": "code",
   "execution_count": 17,
   "id": "cd122d42-a63c-498c-9f8c-24fdfab955dc",
   "metadata": {},
   "outputs": [],
   "source": [
    "image_Aging4_gene = bind_rows(image_Aging4_gene_list, image_Aging4_QTL_gene)"
   ]
  },
  {
   "cell_type": "code",
   "execution_count": 18,
   "id": "103cb33c-7ba7-4e6e-8a2c-63f731d81ec8",
   "metadata": {},
   "outputs": [],
   "source": [
    "fwrite(image_Aging4_gene, \"~/xqtl-analysis/production/image_QTL/interested_genes/TWAS_QTL/manual_cTWAS_QTL_gene/image_Aging4_gene_list.tsv\", sep = '\\t')"
   ]
  },
  {
   "cell_type": "markdown",
   "id": "b3f23bb2-9fd3-4a45-9729-82caa0a20649",
   "metadata": {
    "kernel": "R"
   },
   "source": [
    "### image_Aging4_QTL list"
   ]
  },
  {
   "cell_type": "code",
   "execution_count": 19,
   "id": "db37eb9f-fa07-494d-a159-8ccb43d59cc4",
   "metadata": {},
   "outputs": [
    {
     "name": "stderr",
     "output_type": "stream",
     "text": [
      "\n",
      "\n",
      "clusterProfiler v4.10.1  For help: https://yulab-smu.top/biomedical-knowledge-mining-book/\n",
      "\n",
      "If you use clusterProfiler in published research, please cite:\n",
      "T Wu, E Hu, S Xu, M Chen, P Guo, Z Dai, T Feng, L Zhou, W Tang, L Zhan, X Fu, S Liu, X Bo, and G Yu. clusterProfiler 4.0: A universal enrichment tool for interpreting omics data. The Innovation. 2021, 2(3):100141\n",
      "\n",
      "\n",
      "Attaching package: ‘clusterProfiler’\n",
      "\n",
      "\n",
      "The following object is masked from ‘package:purrr’:\n",
      "\n",
      "    simplify\n",
      "\n",
      "\n",
      "The following object is masked from ‘package:stats’:\n",
      "\n",
      "    filter\n",
      "\n",
      "\n",
      "Loading required package: AnnotationDbi\n",
      "\n",
      "Loading required package: stats4\n",
      "\n",
      "Loading required package: BiocGenerics\n",
      "\n",
      "\n",
      "Attaching package: ‘BiocGenerics’\n",
      "\n",
      "\n",
      "The following objects are masked from ‘package:lubridate’:\n",
      "\n",
      "    intersect, setdiff, union\n",
      "\n",
      "\n",
      "The following objects are masked from ‘package:dplyr’:\n",
      "\n",
      "    combine, intersect, setdiff, union\n",
      "\n",
      "\n",
      "The following objects are masked from ‘package:stats’:\n",
      "\n",
      "    IQR, mad, sd, var, xtabs\n",
      "\n",
      "\n",
      "The following objects are masked from ‘package:base’:\n",
      "\n",
      "    Filter, Find, Map, Position, Reduce, anyDuplicated, aperm, append,\n",
      "    as.data.frame, basename, cbind, colnames, dirname, do.call,\n",
      "    duplicated, eval, evalq, get, grep, grepl, intersect, is.unsorted,\n",
      "    lapply, mapply, match, mget, order, paste, pmax, pmax.int, pmin,\n",
      "    pmin.int, rank, rbind, rownames, sapply, setdiff, sort, table,\n",
      "    tapply, union, unique, unsplit, which.max, which.min\n",
      "\n",
      "\n",
      "Loading required package: Biobase\n",
      "\n",
      "Welcome to Bioconductor\n",
      "\n",
      "    Vignettes contain introductory material; view with\n",
      "    'browseVignettes()'. To cite Bioconductor, see\n",
      "    'citation(\"Biobase\")', and for packages 'citation(\"pkgname\")'.\n",
      "\n",
      "\n",
      "Loading required package: IRanges\n",
      "\n",
      "Loading required package: S4Vectors\n",
      "\n",
      "\n",
      "Attaching package: ‘S4Vectors’\n",
      "\n",
      "\n",
      "The following object is masked from ‘package:clusterProfiler’:\n",
      "\n",
      "    rename\n",
      "\n",
      "\n",
      "The following objects are masked from ‘package:lubridate’:\n",
      "\n",
      "    second, second<-\n",
      "\n",
      "\n",
      "The following objects are masked from ‘package:dplyr’:\n",
      "\n",
      "    first, rename\n",
      "\n",
      "\n",
      "The following object is masked from ‘package:tidyr’:\n",
      "\n",
      "    expand\n",
      "\n",
      "\n",
      "The following objects are masked from ‘package:data.table’:\n",
      "\n",
      "    first, second\n",
      "\n",
      "\n",
      "The following object is masked from ‘package:utils’:\n",
      "\n",
      "    findMatches\n",
      "\n",
      "\n",
      "The following objects are masked from ‘package:base’:\n",
      "\n",
      "    I, expand.grid, unname\n",
      "\n",
      "\n",
      "\n",
      "Attaching package: ‘IRanges’\n",
      "\n",
      "\n",
      "The following object is masked from ‘package:clusterProfiler’:\n",
      "\n",
      "    slice\n",
      "\n",
      "\n",
      "The following object is masked from ‘package:lubridate’:\n",
      "\n",
      "    %within%\n",
      "\n",
      "\n",
      "The following objects are masked from ‘package:dplyr’:\n",
      "\n",
      "    collapse, desc, slice\n",
      "\n",
      "\n",
      "The following object is masked from ‘package:purrr’:\n",
      "\n",
      "    reduce\n",
      "\n",
      "\n",
      "The following object is masked from ‘package:data.table’:\n",
      "\n",
      "    shift\n",
      "\n",
      "\n",
      "\n",
      "Attaching package: ‘AnnotationDbi’\n",
      "\n",
      "\n",
      "The following object is masked from ‘package:clusterProfiler’:\n",
      "\n",
      "    select\n",
      "\n",
      "\n",
      "The following object is masked from ‘package:dplyr’:\n",
      "\n",
      "    select\n",
      "\n",
      "\n",
      "\n",
      "\n"
     ]
    }
   ],
   "source": [
    "\n",
    "library(clusterProfiler)\n",
    "library(org.Hs.eg.db)\n"
   ]
  },
  {
   "cell_type": "code",
   "execution_count": 20,
   "id": "de745980-3d67-44c4-b26c-b1e8fc6bee91",
   "metadata": {},
   "outputs": [],
   "source": [
    "image_Aging4_gene = fread(\"~/xqtl-analysis/production/image_QTL/interested_genes/TWAS_QTL/manual_cTWAS_QTL_gene/image_Aging4_gene_list.tsv\")"
   ]
  },
  {
   "cell_type": "code",
   "execution_count": 21,
   "id": "66081b54-adbc-438d-b2a9-348faa7bc05b",
   "metadata": {
    "kernel": "R",
    "scrolled": true
   },
   "outputs": [],
   "source": [
    "Aging4_sig_gene_ego <- enrichGO(\n",
    "  gene          = unique(image_Aging4_gene$gene_id),\n",
    "  OrgDb         = org.Hs.eg.db,\n",
    "  keyType       = \"ENSEMBL\",\n",
    "  ont           = \"BP\",\n",
    "  pAdjustMethod = \"BH\",\n",
    "  pvalueCutoff  = 1,\n",
    "  qvalueCutoff  = 1\n",
    ")\n"
   ]
  },
  {
   "cell_type": "code",
   "execution_count": 22,
   "id": "ff55d6e1-3a61-4003-86d7-fa54edc915c3",
   "metadata": {
    "kernel": "R"
   },
   "outputs": [
    {
     "data": {
      "text/html": [
       "<table class=\"dataframe\">\n",
       "<caption>A data.frame: 10 × 9</caption>\n",
       "<thead>\n",
       "\t<tr><th></th><th scope=col>ID</th><th scope=col>Description</th><th scope=col>GeneRatio</th><th scope=col>BgRatio</th><th scope=col>pvalue</th><th scope=col>p.adjust</th><th scope=col>qvalue</th><th scope=col>geneID</th><th scope=col>Count</th></tr>\n",
       "\t<tr><th></th><th scope=col>&lt;chr&gt;</th><th scope=col>&lt;chr&gt;</th><th scope=col>&lt;chr&gt;</th><th scope=col>&lt;chr&gt;</th><th scope=col>&lt;dbl&gt;</th><th scope=col>&lt;dbl&gt;</th><th scope=col>&lt;dbl&gt;</th><th scope=col>&lt;chr&gt;</th><th scope=col>&lt;int&gt;</th></tr>\n",
       "</thead>\n",
       "<tbody>\n",
       "\t<tr><th scope=row>GO:0042181</th><td>GO:0042181</td><td>ketone biosynthetic process                                       </td><td>3/60</td><td>48/21261 </td><td>0.000337622</td><td>0.3781636</td><td>0.3511307</td><td>ENSG00000153162/ENSG00000135469/ENSG00000123815                                                </td><td>3</td></tr>\n",
       "\t<tr><th scope=row>GO:0006744</th><td>GO:0006744</td><td>ubiquinone biosynthetic process                                   </td><td>2/60</td><td>17/21261 </td><td>0.001036458</td><td>0.3781636</td><td>0.3511307</td><td>ENSG00000135469/ENSG00000123815                                                                </td><td>2</td></tr>\n",
       "\t<tr><th scope=row>GO:1901663</th><td>GO:1901663</td><td>quinone biosynthetic process                                      </td><td>2/60</td><td>17/21261 </td><td>0.001036458</td><td>0.3781636</td><td>0.3511307</td><td>ENSG00000135469/ENSG00000123815                                                                </td><td>2</td></tr>\n",
       "\t<tr><th scope=row>GO:0006743</th><td>GO:0006743</td><td>ubiquinone metabolic process                                      </td><td>2/60</td><td>19/21261 </td><td>0.001298472</td><td>0.3781636</td><td>0.3511307</td><td>ENSG00000135469/ENSG00000123815                                                                </td><td>2</td></tr>\n",
       "\t<tr><th scope=row>GO:0032026</th><td>GO:0032026</td><td>response to magnesium ion                                         </td><td>2/60</td><td>20/21261 </td><td>0.001440131</td><td>0.3781636</td><td>0.3511307</td><td>ENSG00000133065/ENSG00000153162                                                                </td><td>2</td></tr>\n",
       "\t<tr><th scope=row>GO:0043369</th><td>GO:0043369</td><td>CD4-positive or CD8-positive, alpha-beta T cell lineage commitment</td><td>2/60</td><td>26/21261 </td><td>0.002436726</td><td>0.3781636</td><td>0.3511307</td><td>ENSG00000157764/ENSG00000110944                                                                </td><td>2</td></tr>\n",
       "\t<tr><th scope=row>GO:1902932</th><td>GO:1902932</td><td>positive regulation of alcohol biosynthetic process               </td><td>2/60</td><td>27/21261 </td><td>0.002626900</td><td>0.3781636</td><td>0.3511307</td><td>ENSG00000198049/ENSG00000153162                                                                </td><td>2</td></tr>\n",
       "\t<tr><th scope=row>GO:1903706</th><td>GO:1903706</td><td>regulation of hemopoiesis                                         </td><td>6/60</td><td>499/21261</td><td>0.002780198</td><td>0.3781636</td><td>0.3511307</td><td>ENSG00000108604/ENSG00000157764/ENSG00000276600/ENSG00000263961/ENSG00000132842/ENSG00000110944</td><td>6</td></tr>\n",
       "\t<tr><th scope=row>GO:0045580</th><td>GO:0045580</td><td>regulation of T cell differentiation                              </td><td>4/60</td><td>219/21261</td><td>0.003402630</td><td>0.3781636</td><td>0.3511307</td><td>ENSG00000108604/ENSG00000157764/ENSG00000132842/ENSG00000110944                                </td><td>4</td></tr>\n",
       "\t<tr><th scope=row>GO:0002360</th><td>GO:0002360</td><td>T cell lineage commitment                                         </td><td>2/60</td><td>32/21261 </td><td>0.003678627</td><td>0.3781636</td><td>0.3511307</td><td>ENSG00000157764/ENSG00000110944                                                                </td><td>2</td></tr>\n",
       "</tbody>\n",
       "</table>\n"
      ],
      "text/latex": [
       "A data.frame: 10 × 9\n",
       "\\begin{tabular}{r|lllllllll}\n",
       "  & ID & Description & GeneRatio & BgRatio & pvalue & p.adjust & qvalue & geneID & Count\\\\\n",
       "  & <chr> & <chr> & <chr> & <chr> & <dbl> & <dbl> & <dbl> & <chr> & <int>\\\\\n",
       "\\hline\n",
       "\tGO:0042181 & GO:0042181 & ketone biosynthetic process                                        & 3/60 & 48/21261  & 0.000337622 & 0.3781636 & 0.3511307 & ENSG00000153162/ENSG00000135469/ENSG00000123815                                                 & 3\\\\\n",
       "\tGO:0006744 & GO:0006744 & ubiquinone biosynthetic process                                    & 2/60 & 17/21261  & 0.001036458 & 0.3781636 & 0.3511307 & ENSG00000135469/ENSG00000123815                                                                 & 2\\\\\n",
       "\tGO:1901663 & GO:1901663 & quinone biosynthetic process                                       & 2/60 & 17/21261  & 0.001036458 & 0.3781636 & 0.3511307 & ENSG00000135469/ENSG00000123815                                                                 & 2\\\\\n",
       "\tGO:0006743 & GO:0006743 & ubiquinone metabolic process                                       & 2/60 & 19/21261  & 0.001298472 & 0.3781636 & 0.3511307 & ENSG00000135469/ENSG00000123815                                                                 & 2\\\\\n",
       "\tGO:0032026 & GO:0032026 & response to magnesium ion                                          & 2/60 & 20/21261  & 0.001440131 & 0.3781636 & 0.3511307 & ENSG00000133065/ENSG00000153162                                                                 & 2\\\\\n",
       "\tGO:0043369 & GO:0043369 & CD4-positive or CD8-positive, alpha-beta T cell lineage commitment & 2/60 & 26/21261  & 0.002436726 & 0.3781636 & 0.3511307 & ENSG00000157764/ENSG00000110944                                                                 & 2\\\\\n",
       "\tGO:1902932 & GO:1902932 & positive regulation of alcohol biosynthetic process                & 2/60 & 27/21261  & 0.002626900 & 0.3781636 & 0.3511307 & ENSG00000198049/ENSG00000153162                                                                 & 2\\\\\n",
       "\tGO:1903706 & GO:1903706 & regulation of hemopoiesis                                          & 6/60 & 499/21261 & 0.002780198 & 0.3781636 & 0.3511307 & ENSG00000108604/ENSG00000157764/ENSG00000276600/ENSG00000263961/ENSG00000132842/ENSG00000110944 & 6\\\\\n",
       "\tGO:0045580 & GO:0045580 & regulation of T cell differentiation                               & 4/60 & 219/21261 & 0.003402630 & 0.3781636 & 0.3511307 & ENSG00000108604/ENSG00000157764/ENSG00000132842/ENSG00000110944                                 & 4\\\\\n",
       "\tGO:0002360 & GO:0002360 & T cell lineage commitment                                          & 2/60 & 32/21261  & 0.003678627 & 0.3781636 & 0.3511307 & ENSG00000157764/ENSG00000110944                                                                 & 2\\\\\n",
       "\\end{tabular}\n"
      ],
      "text/markdown": [
       "\n",
       "A data.frame: 10 × 9\n",
       "\n",
       "| <!--/--> | ID &lt;chr&gt; | Description &lt;chr&gt; | GeneRatio &lt;chr&gt; | BgRatio &lt;chr&gt; | pvalue &lt;dbl&gt; | p.adjust &lt;dbl&gt; | qvalue &lt;dbl&gt; | geneID &lt;chr&gt; | Count &lt;int&gt; |\n",
       "|---|---|---|---|---|---|---|---|---|---|\n",
       "| GO:0042181 | GO:0042181 | ketone biosynthetic process                                        | 3/60 | 48/21261  | 0.000337622 | 0.3781636 | 0.3511307 | ENSG00000153162/ENSG00000135469/ENSG00000123815                                                 | 3 |\n",
       "| GO:0006744 | GO:0006744 | ubiquinone biosynthetic process                                    | 2/60 | 17/21261  | 0.001036458 | 0.3781636 | 0.3511307 | ENSG00000135469/ENSG00000123815                                                                 | 2 |\n",
       "| GO:1901663 | GO:1901663 | quinone biosynthetic process                                       | 2/60 | 17/21261  | 0.001036458 | 0.3781636 | 0.3511307 | ENSG00000135469/ENSG00000123815                                                                 | 2 |\n",
       "| GO:0006743 | GO:0006743 | ubiquinone metabolic process                                       | 2/60 | 19/21261  | 0.001298472 | 0.3781636 | 0.3511307 | ENSG00000135469/ENSG00000123815                                                                 | 2 |\n",
       "| GO:0032026 | GO:0032026 | response to magnesium ion                                          | 2/60 | 20/21261  | 0.001440131 | 0.3781636 | 0.3511307 | ENSG00000133065/ENSG00000153162                                                                 | 2 |\n",
       "| GO:0043369 | GO:0043369 | CD4-positive or CD8-positive, alpha-beta T cell lineage commitment | 2/60 | 26/21261  | 0.002436726 | 0.3781636 | 0.3511307 | ENSG00000157764/ENSG00000110944                                                                 | 2 |\n",
       "| GO:1902932 | GO:1902932 | positive regulation of alcohol biosynthetic process                | 2/60 | 27/21261  | 0.002626900 | 0.3781636 | 0.3511307 | ENSG00000198049/ENSG00000153162                                                                 | 2 |\n",
       "| GO:1903706 | GO:1903706 | regulation of hemopoiesis                                          | 6/60 | 499/21261 | 0.002780198 | 0.3781636 | 0.3511307 | ENSG00000108604/ENSG00000157764/ENSG00000276600/ENSG00000263961/ENSG00000132842/ENSG00000110944 | 6 |\n",
       "| GO:0045580 | GO:0045580 | regulation of T cell differentiation                               | 4/60 | 219/21261 | 0.003402630 | 0.3781636 | 0.3511307 | ENSG00000108604/ENSG00000157764/ENSG00000132842/ENSG00000110944                                 | 4 |\n",
       "| GO:0002360 | GO:0002360 | T cell lineage commitment                                          | 2/60 | 32/21261  | 0.003678627 | 0.3781636 | 0.3511307 | ENSG00000157764/ENSG00000110944                                                                 | 2 |\n",
       "\n"
      ],
      "text/plain": [
       "           ID        \n",
       "GO:0042181 GO:0042181\n",
       "GO:0006744 GO:0006744\n",
       "GO:1901663 GO:1901663\n",
       "GO:0006743 GO:0006743\n",
       "GO:0032026 GO:0032026\n",
       "GO:0043369 GO:0043369\n",
       "GO:1902932 GO:1902932\n",
       "GO:1903706 GO:1903706\n",
       "GO:0045580 GO:0045580\n",
       "GO:0002360 GO:0002360\n",
       "           Description                                                       \n",
       "GO:0042181 ketone biosynthetic process                                       \n",
       "GO:0006744 ubiquinone biosynthetic process                                   \n",
       "GO:1901663 quinone biosynthetic process                                      \n",
       "GO:0006743 ubiquinone metabolic process                                      \n",
       "GO:0032026 response to magnesium ion                                         \n",
       "GO:0043369 CD4-positive or CD8-positive, alpha-beta T cell lineage commitment\n",
       "GO:1902932 positive regulation of alcohol biosynthetic process               \n",
       "GO:1903706 regulation of hemopoiesis                                         \n",
       "GO:0045580 regulation of T cell differentiation                              \n",
       "GO:0002360 T cell lineage commitment                                         \n",
       "           GeneRatio BgRatio   pvalue      p.adjust  qvalue   \n",
       "GO:0042181 3/60      48/21261  0.000337622 0.3781636 0.3511307\n",
       "GO:0006744 2/60      17/21261  0.001036458 0.3781636 0.3511307\n",
       "GO:1901663 2/60      17/21261  0.001036458 0.3781636 0.3511307\n",
       "GO:0006743 2/60      19/21261  0.001298472 0.3781636 0.3511307\n",
       "GO:0032026 2/60      20/21261  0.001440131 0.3781636 0.3511307\n",
       "GO:0043369 2/60      26/21261  0.002436726 0.3781636 0.3511307\n",
       "GO:1902932 2/60      27/21261  0.002626900 0.3781636 0.3511307\n",
       "GO:1903706 6/60      499/21261 0.002780198 0.3781636 0.3511307\n",
       "GO:0045580 4/60      219/21261 0.003402630 0.3781636 0.3511307\n",
       "GO:0002360 2/60      32/21261  0.003678627 0.3781636 0.3511307\n",
       "           geneID                                                                                         \n",
       "GO:0042181 ENSG00000153162/ENSG00000135469/ENSG00000123815                                                \n",
       "GO:0006744 ENSG00000135469/ENSG00000123815                                                                \n",
       "GO:1901663 ENSG00000135469/ENSG00000123815                                                                \n",
       "GO:0006743 ENSG00000135469/ENSG00000123815                                                                \n",
       "GO:0032026 ENSG00000133065/ENSG00000153162                                                                \n",
       "GO:0043369 ENSG00000157764/ENSG00000110944                                                                \n",
       "GO:1902932 ENSG00000198049/ENSG00000153162                                                                \n",
       "GO:1903706 ENSG00000108604/ENSG00000157764/ENSG00000276600/ENSG00000263961/ENSG00000132842/ENSG00000110944\n",
       "GO:0045580 ENSG00000108604/ENSG00000157764/ENSG00000132842/ENSG00000110944                                \n",
       "GO:0002360 ENSG00000157764/ENSG00000110944                                                                \n",
       "           Count\n",
       "GO:0042181 3    \n",
       "GO:0006744 2    \n",
       "GO:1901663 2    \n",
       "GO:0006743 2    \n",
       "GO:0032026 2    \n",
       "GO:0043369 2    \n",
       "GO:1902932 2    \n",
       "GO:1903706 6    \n",
       "GO:0045580 4    \n",
       "GO:0002360 2    "
      ]
     },
     "metadata": {},
     "output_type": "display_data"
    }
   ],
   "source": [
    "head(Aging4_sig_gene_ego, n=10)"
   ]
  },
  {
   "cell_type": "code",
   "execution_count": 23,
   "id": "2bf58340-7778-4cdb-bf38-e187bf34729e",
   "metadata": {},
   "outputs": [
    {
     "data": {
      "image/png": "[encoded data removed]",
      "text/plain": [
       "plot without title"
      ]
     },
     "metadata": {
      "image/png": {
       "height": 420,
       "width": 420
      }
     },
     "output_type": "display_data"
    }
   ],
   "source": [
    "barplot(Aging4_sig_gene_ego, showCategory = 10, title = \"GO Enrichment - BP\")"
   ]
  },
  {
   "cell_type": "code",
   "execution_count": 24,
   "id": "70e2f5fd-ae06-4d81-9dbe-38030c933e17",
   "metadata": {
    "kernel": "R",
    "scrolled": true
   },
   "outputs": [],
   "source": [
    "Aging4_sig_gene_ego_cc <- enrichGO(\n",
    "  gene          = unique(image_Aging4_gene$gene_id),\n",
    "  OrgDb         = org.Hs.eg.db,\n",
    "  keyType       = \"ENSEMBL\",\n",
    "  ont           = \"CC\",\n",
    "  pAdjustMethod = \"BH\",\n",
    "  pvalueCutoff  = 1,\n",
    "  qvalueCutoff  = 1\n",
    ")\n"
   ]
  },
  {
   "cell_type": "code",
   "execution_count": 25,
   "id": "73061bef-adb7-47c8-8a65-e705066a95f0",
   "metadata": {
    "kernel": "R"
   },
   "outputs": [
    {
     "data": {
      "text/html": [
       "<table class=\"dataframe\">\n",
       "<caption>A data.frame: 15 × 9</caption>\n",
       "<thead>\n",
       "\t<tr><th></th><th scope=col>ID</th><th scope=col>Description</th><th scope=col>GeneRatio</th><th scope=col>BgRatio</th><th scope=col>pvalue</th><th scope=col>p.adjust</th><th scope=col>qvalue</th><th scope=col>geneID</th><th scope=col>Count</th></tr>\n",
       "\t<tr><th></th><th scope=col>&lt;chr&gt;</th><th scope=col>&lt;chr&gt;</th><th scope=col>&lt;chr&gt;</th><th scope=col>&lt;chr&gt;</th><th scope=col>&lt;dbl&gt;</th><th scope=col>&lt;dbl&gt;</th><th scope=col>&lt;dbl&gt;</th><th scope=col>&lt;chr&gt;</th><th scope=col>&lt;int&gt;</th></tr>\n",
       "</thead>\n",
       "<tbody>\n",
       "\t<tr><th scope=row>GO:0090575</th><td>GO:0090575</td><td>RNA polymerase II transcription regulator complex</td><td>4/63</td><td>281/22568</td><td>0.007882767</td><td>0.4065296</td><td>0.3851333</td><td>ENSG00000197780/ENSG00000196284/ENSG00000148737/ENSG00000170581</td><td>4</td></tr>\n",
       "\t<tr><th scope=row>GO:0042564</th><td>GO:0042564</td><td>NLS-dependent protein nuclear import complex     </td><td>1/63</td><td>11/22568 </td><td>0.030288778</td><td>0.4065296</td><td>0.3851333</td><td>ENSG00000182481                                                </td><td>1</td></tr>\n",
       "\t<tr><th scope=row>GO:0140092</th><td>GO:0140092</td><td>bBAF complex                                     </td><td>1/63</td><td>11/22568 </td><td>0.030288778</td><td>0.4065296</td><td>0.3851333</td><td>ENSG00000108604                                                </td><td>1</td></tr>\n",
       "\t<tr><th scope=row>GO:0016591</th><td>GO:0016591</td><td>RNA polymerase II, holoenzyme                    </td><td>2/63</td><td>99/22568 </td><td>0.031284322</td><td>0.4065296</td><td>0.3851333</td><td>ENSG00000197780/ENSG00000196284                                </td><td>2</td></tr>\n",
       "\t<tr><th scope=row>GO:0016324</th><td>GO:0016324</td><td>apical plasma membrane                           </td><td>4/63</td><td>444/22568</td><td>0.035464824</td><td>0.4065296</td><td>0.3851333</td><td>ENSG00000105668/ENSG00000174502/ENSG00000147676/ENSG00000082482</td><td>4</td></tr>\n",
       "\t<tr><th scope=row>GO:0000782</th><td>GO:0000782</td><td>telomere cap complex                             </td><td>1/63</td><td>13/22568 </td><td>0.035697994</td><td>0.4065296</td><td>0.3851333</td><td>ENSG00000107960                                                </td><td>1</td></tr>\n",
       "\t<tr><th scope=row>GO:0000783</th><td>GO:0000783</td><td>nuclear telomere cap complex                     </td><td>1/63</td><td>13/22568 </td><td>0.035697994</td><td>0.4065296</td><td>0.3851333</td><td>ENSG00000107960                                                </td><td>1</td></tr>\n",
       "\t<tr><th scope=row>GO:0031074</th><td>GO:0031074</td><td>nucleocytoplasmic transport complex              </td><td>1/63</td><td>13/22568 </td><td>0.035697994</td><td>0.4065296</td><td>0.3851333</td><td>ENSG00000182481                                                </td><td>1</td></tr>\n",
       "\t<tr><th scope=row>GO:0097550</th><td>GO:0097550</td><td>transcription preinitiation complex              </td><td>1/63</td><td>13/22568 </td><td>0.035697994</td><td>0.4065296</td><td>0.3851333</td><td>ENSG00000141425                                                </td><td>1</td></tr>\n",
       "\t<tr><th scope=row>GO:0031010</th><td>GO:0031010</td><td>ISWI-type complex                                </td><td>1/63</td><td>14/22568 </td><td>0.038391456</td><td>0.4065296</td><td>0.3851333</td><td>ENSG00000171634                                                </td><td>1</td></tr>\n",
       "\t<tr><th scope=row>GO:0140445</th><td>GO:0140445</td><td>chromosome, telomeric repeat region              </td><td>1/63</td><td>14/22568 </td><td>0.038391456</td><td>0.4065296</td><td>0.3851333</td><td>ENSG00000107960                                                </td><td>1</td></tr>\n",
       "\t<tr><th scope=row>GO:1990907</th><td>GO:1990907</td><td>beta-catenin-TCF complex                         </td><td>1/63</td><td>14/22568 </td><td>0.038391456</td><td>0.4065296</td><td>0.3851333</td><td>ENSG00000148737                                                </td><td>1</td></tr>\n",
       "\t<tr><th scope=row>GO:0035060</th><td>GO:0035060</td><td>brahma complex                                   </td><td>1/63</td><td>15/22568 </td><td>0.041077513</td><td>0.4065296</td><td>0.3851333</td><td>ENSG00000108604                                                </td><td>1</td></tr>\n",
       "\t<tr><th scope=row>GO:0070603</th><td>GO:0070603</td><td>SWI/SNF superfamily-type complex                 </td><td>2/63</td><td>119/22568</td><td>0.043707781</td><td>0.4065296</td><td>0.3851333</td><td>ENSG00000108604/ENSG00000171634                                </td><td>2</td></tr>\n",
       "\t<tr><th scope=row>GO:0016586</th><td>GO:0016586</td><td>RSC-type complex                                 </td><td>1/63</td><td>16/22568 </td><td>0.043756186</td><td>0.4065296</td><td>0.3851333</td><td>ENSG00000108604                                                </td><td>1</td></tr>\n",
       "</tbody>\n",
       "</table>\n"
      ],
      "text/latex": [
       "A data.frame: 15 × 9\n",
       "\\begin{tabular}{r|lllllllll}\n",
       "  & ID & Description & GeneRatio & BgRatio & pvalue & p.adjust & qvalue & geneID & Count\\\\\n",
       "  & <chr> & <chr> & <chr> & <chr> & <dbl> & <dbl> & <dbl> & <chr> & <int>\\\\\n",
       "\\hline\n",
       "\tGO:0090575 & GO:0090575 & RNA polymerase II transcription regulator complex & 4/63 & 281/22568 & 0.007882767 & 0.4065296 & 0.3851333 & ENSG00000197780/ENSG00000196284/ENSG00000148737/ENSG00000170581 & 4\\\\\n",
       "\tGO:0042564 & GO:0042564 & NLS-dependent protein nuclear import complex      & 1/63 & 11/22568  & 0.030288778 & 0.4065296 & 0.3851333 & ENSG00000182481                                                 & 1\\\\\n",
       "\tGO:0140092 & GO:0140092 & bBAF complex                                      & 1/63 & 11/22568  & 0.030288778 & 0.4065296 & 0.3851333 & ENSG00000108604                                                 & 1\\\\\n",
       "\tGO:0016591 & GO:0016591 & RNA polymerase II, holoenzyme                     & 2/63 & 99/22568  & 0.031284322 & 0.4065296 & 0.3851333 & ENSG00000197780/ENSG00000196284                                 & 2\\\\\n",
       "\tGO:0016324 & GO:0016324 & apical plasma membrane                            & 4/63 & 444/22568 & 0.035464824 & 0.4065296 & 0.3851333 & ENSG00000105668/ENSG00000174502/ENSG00000147676/ENSG00000082482 & 4\\\\\n",
       "\tGO:0000782 & GO:0000782 & telomere cap complex                              & 1/63 & 13/22568  & 0.035697994 & 0.4065296 & 0.3851333 & ENSG00000107960                                                 & 1\\\\\n",
       "\tGO:0000783 & GO:0000783 & nuclear telomere cap complex                      & 1/63 & 13/22568  & 0.035697994 & 0.4065296 & 0.3851333 & ENSG00000107960                                                 & 1\\\\\n",
       "\tGO:0031074 & GO:0031074 & nucleocytoplasmic transport complex               & 1/63 & 13/22568  & 0.035697994 & 0.4065296 & 0.3851333 & ENSG00000182481                                                 & 1\\\\\n",
       "\tGO:0097550 & GO:0097550 & transcription preinitiation complex               & 1/63 & 13/22568  & 0.035697994 & 0.4065296 & 0.3851333 & ENSG00000141425                                                 & 1\\\\\n",
       "\tGO:0031010 & GO:0031010 & ISWI-type complex                                 & 1/63 & 14/22568  & 0.038391456 & 0.4065296 & 0.3851333 & ENSG00000171634                                                 & 1\\\\\n",
       "\tGO:0140445 & GO:0140445 & chromosome, telomeric repeat region               & 1/63 & 14/22568  & 0.038391456 & 0.4065296 & 0.3851333 & ENSG00000107960                                                 & 1\\\\\n",
       "\tGO:1990907 & GO:1990907 & beta-catenin-TCF complex                          & 1/63 & 14/22568  & 0.038391456 & 0.4065296 & 0.3851333 & ENSG00000148737                                                 & 1\\\\\n",
       "\tGO:0035060 & GO:0035060 & brahma complex                                    & 1/63 & 15/22568  & 0.041077513 & 0.4065296 & 0.3851333 & ENSG00000108604                                                 & 1\\\\\n",
       "\tGO:0070603 & GO:0070603 & SWI/SNF superfamily-type complex                  & 2/63 & 119/22568 & 0.043707781 & 0.4065296 & 0.3851333 & ENSG00000108604/ENSG00000171634                                 & 2\\\\\n",
       "\tGO:0016586 & GO:0016586 & RSC-type complex                                  & 1/63 & 16/22568  & 0.043756186 & 0.4065296 & 0.3851333 & ENSG00000108604                                                 & 1\\\\\n",
       "\\end{tabular}\n"
      ],
      "text/markdown": [
       "\n",
       "A data.frame: 15 × 9\n",
       "\n",
       "| <!--/--> | ID &lt;chr&gt; | Description &lt;chr&gt; | GeneRatio &lt;chr&gt; | BgRatio &lt;chr&gt; | pvalue &lt;dbl&gt; | p.adjust &lt;dbl&gt; | qvalue &lt;dbl&gt; | geneID &lt;chr&gt; | Count &lt;int&gt; |\n",
       "|---|---|---|---|---|---|---|---|---|---|\n",
       "| GO:0090575 | GO:0090575 | RNA polymerase II transcription regulator complex | 4/63 | 281/22568 | 0.007882767 | 0.4065296 | 0.3851333 | ENSG00000197780/ENSG00000196284/ENSG00000148737/ENSG00000170581 | 4 |\n",
       "| GO:0042564 | GO:0042564 | NLS-dependent protein nuclear import complex      | 1/63 | 11/22568  | 0.030288778 | 0.4065296 | 0.3851333 | ENSG00000182481                                                 | 1 |\n",
       "| GO:0140092 | GO:0140092 | bBAF complex                                      | 1/63 | 11/22568  | 0.030288778 | 0.4065296 | 0.3851333 | ENSG00000108604                                                 | 1 |\n",
       "| GO:0016591 | GO:0016591 | RNA polymerase II, holoenzyme                     | 2/63 | 99/22568  | 0.031284322 | 0.4065296 | 0.3851333 | ENSG00000197780/ENSG00000196284                                 | 2 |\n",
       "| GO:0016324 | GO:0016324 | apical plasma membrane                            | 4/63 | 444/22568 | 0.035464824 | 0.4065296 | 0.3851333 | ENSG00000105668/ENSG00000174502/ENSG00000147676/ENSG00000082482 | 4 |\n",
       "| GO:0000782 | GO:0000782 | telomere cap complex                              | 1/63 | 13/22568  | 0.035697994 | 0.4065296 | 0.3851333 | ENSG00000107960                                                 | 1 |\n",
       "| GO:0000783 | GO:0000783 | nuclear telomere cap complex                      | 1/63 | 13/22568  | 0.035697994 | 0.4065296 | 0.3851333 | ENSG00000107960                                                 | 1 |\n",
       "| GO:0031074 | GO:0031074 | nucleocytoplasmic transport complex               | 1/63 | 13/22568  | 0.035697994 | 0.4065296 | 0.3851333 | ENSG00000182481                                                 | 1 |\n",
       "| GO:0097550 | GO:0097550 | transcription preinitiation complex               | 1/63 | 13/22568  | 0.035697994 | 0.4065296 | 0.3851333 | ENSG00000141425                                                 | 1 |\n",
       "| GO:0031010 | GO:0031010 | ISWI-type complex                                 | 1/63 | 14/22568  | 0.038391456 | 0.4065296 | 0.3851333 | ENSG00000171634                                                 | 1 |\n",
       "| GO:0140445 | GO:0140445 | chromosome, telomeric repeat region               | 1/63 | 14/22568  | 0.038391456 | 0.4065296 | 0.3851333 | ENSG00000107960                                                 | 1 |\n",
       "| GO:1990907 | GO:1990907 | beta-catenin-TCF complex                          | 1/63 | 14/22568  | 0.038391456 | 0.4065296 | 0.3851333 | ENSG00000148737                                                 | 1 |\n",
       "| GO:0035060 | GO:0035060 | brahma complex                                    | 1/63 | 15/22568  | 0.041077513 | 0.4065296 | 0.3851333 | ENSG00000108604                                                 | 1 |\n",
       "| GO:0070603 | GO:0070603 | SWI/SNF superfamily-type complex                  | 2/63 | 119/22568 | 0.043707781 | 0.4065296 | 0.3851333 | ENSG00000108604/ENSG00000171634                                 | 2 |\n",
       "| GO:0016586 | GO:0016586 | RSC-type complex                                  | 1/63 | 16/22568  | 0.043756186 | 0.4065296 | 0.3851333 | ENSG00000108604                                                 | 1 |\n",
       "\n"
      ],
      "text/plain": [
       "           ID         Description                                      \n",
       "GO:0090575 GO:0090575 RNA polymerase II transcription regulator complex\n",
       "GO:0042564 GO:0042564 NLS-dependent protein nuclear import complex     \n",
       "GO:0140092 GO:0140092 bBAF complex                                     \n",
       "GO:0016591 GO:0016591 RNA polymerase II, holoenzyme                    \n",
       "GO:0016324 GO:0016324 apical plasma membrane                           \n",
       "GO:0000782 GO:0000782 telomere cap complex                             \n",
       "GO:0000783 GO:0000783 nuclear telomere cap complex                     \n",
       "GO:0031074 GO:0031074 nucleocytoplasmic transport complex              \n",
       "GO:0097550 GO:0097550 transcription preinitiation complex              \n",
       "GO:0031010 GO:0031010 ISWI-type complex                                \n",
       "GO:0140445 GO:0140445 chromosome, telomeric repeat region              \n",
       "GO:1990907 GO:1990907 beta-catenin-TCF complex                         \n",
       "GO:0035060 GO:0035060 brahma complex                                   \n",
       "GO:0070603 GO:0070603 SWI/SNF superfamily-type complex                 \n",
       "GO:0016586 GO:0016586 RSC-type complex                                 \n",
       "           GeneRatio BgRatio   pvalue      p.adjust  qvalue   \n",
       "GO:0090575 4/63      281/22568 0.007882767 0.4065296 0.3851333\n",
       "GO:0042564 1/63      11/22568  0.030288778 0.4065296 0.3851333\n",
       "GO:0140092 1/63      11/22568  0.030288778 0.4065296 0.3851333\n",
       "GO:0016591 2/63      99/22568  0.031284322 0.4065296 0.3851333\n",
       "GO:0016324 4/63      444/22568 0.035464824 0.4065296 0.3851333\n",
       "GO:0000782 1/63      13/22568  0.035697994 0.4065296 0.3851333\n",
       "GO:0000783 1/63      13/22568  0.035697994 0.4065296 0.3851333\n",
       "GO:0031074 1/63      13/22568  0.035697994 0.4065296 0.3851333\n",
       "GO:0097550 1/63      13/22568  0.035697994 0.4065296 0.3851333\n",
       "GO:0031010 1/63      14/22568  0.038391456 0.4065296 0.3851333\n",
       "GO:0140445 1/63      14/22568  0.038391456 0.4065296 0.3851333\n",
       "GO:1990907 1/63      14/22568  0.038391456 0.4065296 0.3851333\n",
       "GO:0035060 1/63      15/22568  0.041077513 0.4065296 0.3851333\n",
       "GO:0070603 2/63      119/22568 0.043707781 0.4065296 0.3851333\n",
       "GO:0016586 1/63      16/22568  0.043756186 0.4065296 0.3851333\n",
       "           geneID                                                         \n",
       "GO:0090575 ENSG00000197780/ENSG00000196284/ENSG00000148737/ENSG00000170581\n",
       "GO:0042564 ENSG00000182481                                                \n",
       "GO:0140092 ENSG00000108604                                                \n",
       "GO:0016591 ENSG00000197780/ENSG00000196284                                \n",
       "GO:0016324 ENSG00000105668/ENSG00000174502/ENSG00000147676/ENSG00000082482\n",
       "GO:0000782 ENSG00000107960                                                \n",
       "GO:0000783 ENSG00000107960                                                \n",
       "GO:0031074 ENSG00000182481                                                \n",
       "GO:0097550 ENSG00000141425                                                \n",
       "GO:0031010 ENSG00000171634                                                \n",
       "GO:0140445 ENSG00000107960                                                \n",
       "GO:1990907 ENSG00000148737                                                \n",
       "GO:0035060 ENSG00000108604                                                \n",
       "GO:0070603 ENSG00000108604/ENSG00000171634                                \n",
       "GO:0016586 ENSG00000108604                                                \n",
       "           Count\n",
       "GO:0090575 4    \n",
       "GO:0042564 1    \n",
       "GO:0140092 1    \n",
       "GO:0016591 2    \n",
       "GO:0016324 4    \n",
       "GO:0000782 1    \n",
       "GO:0000783 1    \n",
       "GO:0031074 1    \n",
       "GO:0097550 1    \n",
       "GO:0031010 1    \n",
       "GO:0140445 1    \n",
       "GO:1990907 1    \n",
       "GO:0035060 1    \n",
       "GO:0070603 2    \n",
       "GO:0016586 1    "
      ]
     },
     "metadata": {},
     "output_type": "display_data"
    }
   ],
   "source": [
    "head(Aging4_sig_gene_ego_cc, n=15)"
   ]
  },
  {
   "cell_type": "code",
   "execution_count": 26,
   "id": "8bb4fc3a-81c2-4d9b-be0b-f7e72027b6fc",
   "metadata": {},
   "outputs": [
    {
     "data": {
      "image/png": "[encoded data removed]",
      "text/plain": [
       "plot without title"
      ]
     },
     "metadata": {
      "image/png": {
       "height": 420,
       "width": 420
      }
     },
     "output_type": "display_data"
    }
   ],
   "source": [
    "barplot(Aging4_sig_gene_ego_cc, showCategory = 10, title = \"GO Enrichment - CC\")"
   ]
  },
  {
   "cell_type": "code",
   "execution_count": 27,
   "id": "a66e40c0-1a05-484e-9760-846f5d5e083a",
   "metadata": {
    "kernel": "R",
    "scrolled": true
   },
   "outputs": [],
   "source": [
    "image_Aging4_sig_gene_ego_mf <- enrichGO(\n",
    "  gene          = unique(image_Aging4_gene$gene_id),\n",
    "  OrgDb         = org.Hs.eg.db,\n",
    "  keyType       = \"ENSEMBL\",\n",
    "  ont           = \"MF\",\n",
    "  pAdjustMethod = \"BH\",\n",
    "  pvalueCutoff  = 1,\n",
    "  qvalueCutoff  = 1\n",
    ")\n"
   ]
  },
  {
   "cell_type": "code",
   "execution_count": 28,
   "id": "8b7671ef-38de-4fdd-a266-9ac25986fbbc",
   "metadata": {
    "kernel": "R"
   },
   "outputs": [
    {
     "data": {
      "text/html": [
       "<table class=\"dataframe\">\n",
       "<caption>A data.frame: 10 × 9</caption>\n",
       "<thead>\n",
       "\t<tr><th></th><th scope=col>ID</th><th scope=col>Description</th><th scope=col>GeneRatio</th><th scope=col>BgRatio</th><th scope=col>pvalue</th><th scope=col>p.adjust</th><th scope=col>qvalue</th><th scope=col>geneID</th><th scope=col>Count</th></tr>\n",
       "\t<tr><th></th><th scope=col>&lt;chr&gt;</th><th scope=col>&lt;chr&gt;</th><th scope=col>&lt;chr&gt;</th><th scope=col>&lt;chr&gt;</th><th scope=col>&lt;dbl&gt;</th><th scope=col>&lt;dbl&gt;</th><th scope=col>&lt;dbl&gt;</th><th scope=col>&lt;chr&gt;</th><th scope=col>&lt;int&gt;</th></tr>\n",
       "</thead>\n",
       "<tbody>\n",
       "\t<tr><th scope=row>GO:0043047</th><td>GO:0043047</td><td>single-stranded telomeric DNA binding                      </td><td>2/64</td><td>12/21059 </td><td>0.0005884159</td><td>0.09725055</td><td>0.08865449</td><td>ENSG00000107960/ENSG00000139579                                </td><td>2</td></tr>\n",
       "\t<tr><th scope=row>GO:0098847</th><td>GO:0098847</td><td>sequence-specific single stranded DNA binding              </td><td>2/64</td><td>15/21059 </td><td>0.0009306272</td><td>0.09725055</td><td>0.08865449</td><td>ENSG00000107960/ENSG00000139579                                </td><td>2</td></tr>\n",
       "\t<tr><th scope=row>GO:0015035</th><td>GO:0015035</td><td>protein-disulfide reductase activity                       </td><td>2/64</td><td>30/21059 </td><td>0.0037439502</td><td>0.26082853</td><td>0.23777368</td><td>ENSG00000086619/ENSG00000239264                                </td><td>2</td></tr>\n",
       "\t<tr><th scope=row>GO:0015036</th><td>GO:0015036</td><td>disulfide oxidoreductase activity                          </td><td>2/64</td><td>37/21059 </td><td>0.0056543294</td><td>0.27519301</td><td>0.25086847</td><td>ENSG00000086619/ENSG00000239264                                </td><td>2</td></tr>\n",
       "\t<tr><th scope=row>GO:0042162</th><td>GO:0042162</td><td>telomeric DNA binding                                      </td><td>2/64</td><td>40/21059 </td><td>0.0065835648</td><td>0.27519301</td><td>0.25086847</td><td>ENSG00000107960/ENSG00000139579                                </td><td>2</td></tr>\n",
       "\t<tr><th scope=row>GO:0016667</th><td>GO:0016667</td><td>oxidoreductase activity, acting on a sulfur group of donors</td><td>2/64</td><td>60/21059 </td><td>0.0143696593</td><td>0.27634488</td><td>0.25191853</td><td>ENSG00000086619/ENSG00000239264                                </td><td>2</td></tr>\n",
       "\t<tr><th scope=row>GO:0003924</th><td>GO:0003924</td><td>GTPase activity                                            </td><td>4/64</td><td>353/21059</td><td>0.0224374951</td><td>0.27634488</td><td>0.25191853</td><td>ENSG00000117280/ENSG00000276600/ENSG00000168827/ENSG00000146535</td><td>4</td></tr>\n",
       "\t<tr><th scope=row>GO:0019531</th><td>GO:0019531</td><td>oxalate transmembrane transporter activity                 </td><td>1/64</td><td>10/21059 </td><td>0.0299848572</td><td>0.27634488</td><td>0.25191853</td><td>ENSG00000174502                                                </td><td>1</td></tr>\n",
       "\t<tr><th scope=row>GO:0045322</th><td>GO:0045322</td><td>unmethylated CpG binding                                   </td><td>1/64</td><td>10/21059 </td><td>0.0299848572</td><td>0.27634488</td><td>0.25191853</td><td>ENSG00000272333                                                </td><td>1</td></tr>\n",
       "\t<tr><th scope=row>GO:0098505</th><td>GO:0098505</td><td>G-rich strand telomeric DNA binding                        </td><td>1/64</td><td>10/21059 </td><td>0.0299848572</td><td>0.27634488</td><td>0.25191853</td><td>ENSG00000139579                                                </td><td>1</td></tr>\n",
       "</tbody>\n",
       "</table>\n"
      ],
      "text/latex": [
       "A data.frame: 10 × 9\n",
       "\\begin{tabular}{r|lllllllll}\n",
       "  & ID & Description & GeneRatio & BgRatio & pvalue & p.adjust & qvalue & geneID & Count\\\\\n",
       "  & <chr> & <chr> & <chr> & <chr> & <dbl> & <dbl> & <dbl> & <chr> & <int>\\\\\n",
       "\\hline\n",
       "\tGO:0043047 & GO:0043047 & single-stranded telomeric DNA binding                       & 2/64 & 12/21059  & 0.0005884159 & 0.09725055 & 0.08865449 & ENSG00000107960/ENSG00000139579                                 & 2\\\\\n",
       "\tGO:0098847 & GO:0098847 & sequence-specific single stranded DNA binding               & 2/64 & 15/21059  & 0.0009306272 & 0.09725055 & 0.08865449 & ENSG00000107960/ENSG00000139579                                 & 2\\\\\n",
       "\tGO:0015035 & GO:0015035 & protein-disulfide reductase activity                        & 2/64 & 30/21059  & 0.0037439502 & 0.26082853 & 0.23777368 & ENSG00000086619/ENSG00000239264                                 & 2\\\\\n",
       "\tGO:0015036 & GO:0015036 & disulfide oxidoreductase activity                           & 2/64 & 37/21059  & 0.0056543294 & 0.27519301 & 0.25086847 & ENSG00000086619/ENSG00000239264                                 & 2\\\\\n",
       "\tGO:0042162 & GO:0042162 & telomeric DNA binding                                       & 2/64 & 40/21059  & 0.0065835648 & 0.27519301 & 0.25086847 & ENSG00000107960/ENSG00000139579                                 & 2\\\\\n",
       "\tGO:0016667 & GO:0016667 & oxidoreductase activity, acting on a sulfur group of donors & 2/64 & 60/21059  & 0.0143696593 & 0.27634488 & 0.25191853 & ENSG00000086619/ENSG00000239264                                 & 2\\\\\n",
       "\tGO:0003924 & GO:0003924 & GTPase activity                                             & 4/64 & 353/21059 & 0.0224374951 & 0.27634488 & 0.25191853 & ENSG00000117280/ENSG00000276600/ENSG00000168827/ENSG00000146535 & 4\\\\\n",
       "\tGO:0019531 & GO:0019531 & oxalate transmembrane transporter activity                  & 1/64 & 10/21059  & 0.0299848572 & 0.27634488 & 0.25191853 & ENSG00000174502                                                 & 1\\\\\n",
       "\tGO:0045322 & GO:0045322 & unmethylated CpG binding                                    & 1/64 & 10/21059  & 0.0299848572 & 0.27634488 & 0.25191853 & ENSG00000272333                                                 & 1\\\\\n",
       "\tGO:0098505 & GO:0098505 & G-rich strand telomeric DNA binding                         & 1/64 & 10/21059  & 0.0299848572 & 0.27634488 & 0.25191853 & ENSG00000139579                                                 & 1\\\\\n",
       "\\end{tabular}\n"
      ],
      "text/markdown": [
       "\n",
       "A data.frame: 10 × 9\n",
       "\n",
       "| <!--/--> | ID &lt;chr&gt; | Description &lt;chr&gt; | GeneRatio &lt;chr&gt; | BgRatio &lt;chr&gt; | pvalue &lt;dbl&gt; | p.adjust &lt;dbl&gt; | qvalue &lt;dbl&gt; | geneID &lt;chr&gt; | Count &lt;int&gt; |\n",
       "|---|---|---|---|---|---|---|---|---|---|\n",
       "| GO:0043047 | GO:0043047 | single-stranded telomeric DNA binding                       | 2/64 | 12/21059  | 0.0005884159 | 0.09725055 | 0.08865449 | ENSG00000107960/ENSG00000139579                                 | 2 |\n",
       "| GO:0098847 | GO:0098847 | sequence-specific single stranded DNA binding               | 2/64 | 15/21059  | 0.0009306272 | 0.09725055 | 0.08865449 | ENSG00000107960/ENSG00000139579                                 | 2 |\n",
       "| GO:0015035 | GO:0015035 | protein-disulfide reductase activity                        | 2/64 | 30/21059  | 0.0037439502 | 0.26082853 | 0.23777368 | ENSG00000086619/ENSG00000239264                                 | 2 |\n",
       "| GO:0015036 | GO:0015036 | disulfide oxidoreductase activity                           | 2/64 | 37/21059  | 0.0056543294 | 0.27519301 | 0.25086847 | ENSG00000086619/ENSG00000239264                                 | 2 |\n",
       "| GO:0042162 | GO:0042162 | telomeric DNA binding                                       | 2/64 | 40/21059  | 0.0065835648 | 0.27519301 | 0.25086847 | ENSG00000107960/ENSG00000139579                                 | 2 |\n",
       "| GO:0016667 | GO:0016667 | oxidoreductase activity, acting on a sulfur group of donors | 2/64 | 60/21059  | 0.0143696593 | 0.27634488 | 0.25191853 | ENSG00000086619/ENSG00000239264                                 | 2 |\n",
       "| GO:0003924 | GO:0003924 | GTPase activity                                             | 4/64 | 353/21059 | 0.0224374951 | 0.27634488 | 0.25191853 | ENSG00000117280/ENSG00000276600/ENSG00000168827/ENSG00000146535 | 4 |\n",
       "| GO:0019531 | GO:0019531 | oxalate transmembrane transporter activity                  | 1/64 | 10/21059  | 0.0299848572 | 0.27634488 | 0.25191853 | ENSG00000174502                                                 | 1 |\n",
       "| GO:0045322 | GO:0045322 | unmethylated CpG binding                                    | 1/64 | 10/21059  | 0.0299848572 | 0.27634488 | 0.25191853 | ENSG00000272333                                                 | 1 |\n",
       "| GO:0098505 | GO:0098505 | G-rich strand telomeric DNA binding                         | 1/64 | 10/21059  | 0.0299848572 | 0.27634488 | 0.25191853 | ENSG00000139579                                                 | 1 |\n",
       "\n"
      ],
      "text/plain": [
       "           ID        \n",
       "GO:0043047 GO:0043047\n",
       "GO:0098847 GO:0098847\n",
       "GO:0015035 GO:0015035\n",
       "GO:0015036 GO:0015036\n",
       "GO:0042162 GO:0042162\n",
       "GO:0016667 GO:0016667\n",
       "GO:0003924 GO:0003924\n",
       "GO:0019531 GO:0019531\n",
       "GO:0045322 GO:0045322\n",
       "GO:0098505 GO:0098505\n",
       "           Description                                                \n",
       "GO:0043047 single-stranded telomeric DNA binding                      \n",
       "GO:0098847 sequence-specific single stranded DNA binding              \n",
       "GO:0015035 protein-disulfide reductase activity                       \n",
       "GO:0015036 disulfide oxidoreductase activity                          \n",
       "GO:0042162 telomeric DNA binding                                      \n",
       "GO:0016667 oxidoreductase activity, acting on a sulfur group of donors\n",
       "GO:0003924 GTPase activity                                            \n",
       "GO:0019531 oxalate transmembrane transporter activity                 \n",
       "GO:0045322 unmethylated CpG binding                                   \n",
       "GO:0098505 G-rich strand telomeric DNA binding                        \n",
       "           GeneRatio BgRatio   pvalue       p.adjust   qvalue    \n",
       "GO:0043047 2/64      12/21059  0.0005884159 0.09725055 0.08865449\n",
       "GO:0098847 2/64      15/21059  0.0009306272 0.09725055 0.08865449\n",
       "GO:0015035 2/64      30/21059  0.0037439502 0.26082853 0.23777368\n",
       "GO:0015036 2/64      37/21059  0.0056543294 0.27519301 0.25086847\n",
       "GO:0042162 2/64      40/21059  0.0065835648 0.27519301 0.25086847\n",
       "GO:0016667 2/64      60/21059  0.0143696593 0.27634488 0.25191853\n",
       "GO:0003924 4/64      353/21059 0.0224374951 0.27634488 0.25191853\n",
       "GO:0019531 1/64      10/21059  0.0299848572 0.27634488 0.25191853\n",
       "GO:0045322 1/64      10/21059  0.0299848572 0.27634488 0.25191853\n",
       "GO:0098505 1/64      10/21059  0.0299848572 0.27634488 0.25191853\n",
       "           geneID                                                         \n",
       "GO:0043047 ENSG00000107960/ENSG00000139579                                \n",
       "GO:0098847 ENSG00000107960/ENSG00000139579                                \n",
       "GO:0015035 ENSG00000086619/ENSG00000239264                                \n",
       "GO:0015036 ENSG00000086619/ENSG00000239264                                \n",
       "GO:0042162 ENSG00000107960/ENSG00000139579                                \n",
       "GO:0016667 ENSG00000086619/ENSG00000239264                                \n",
       "GO:0003924 ENSG00000117280/ENSG00000276600/ENSG00000168827/ENSG00000146535\n",
       "GO:0019531 ENSG00000174502                                                \n",
       "GO:0045322 ENSG00000272333                                                \n",
       "GO:0098505 ENSG00000139579                                                \n",
       "           Count\n",
       "GO:0043047 2    \n",
       "GO:0098847 2    \n",
       "GO:0015035 2    \n",
       "GO:0015036 2    \n",
       "GO:0042162 2    \n",
       "GO:0016667 2    \n",
       "GO:0003924 4    \n",
       "GO:0019531 1    \n",
       "GO:0045322 1    \n",
       "GO:0098505 1    "
      ]
     },
     "metadata": {},
     "output_type": "display_data"
    }
   ],
   "source": [
    "head(image_Aging4_sig_gene_ego_mf, n=10)"
   ]
  },
  {
   "cell_type": "code",
   "execution_count": 29,
   "id": "9ab350be-4e54-4243-a8dd-1768d22b01ad",
   "metadata": {},
   "outputs": [
    {
     "data": {
      "image/png": "[encoded data removed]",
      "text/plain": [
       "plot without title"
      ]
     },
     "metadata": {
      "image/png": {
       "height": 420,
       "width": 420
      }
     },
     "output_type": "display_data"
    }
   ],
   "source": [
    "barplot(image_Aging4_sig_gene_ego_mf, showCategory = 10, title = \"GO Enrichment - MF\")"
   ]
  },
  {
   "cell_type": "code",
   "execution_count": null,
   "id": "85b8dc24-97c0-45fe-a5c6-def5fa3eb15a",
   "metadata": {},
   "outputs": [],
   "source": []
  },
  {
   "cell_type": "code",
   "execution_count": 30,
   "id": "cc0613b7-b546-4d38-866d-5655ecc45794",
   "metadata": {
    "kernel": "R"
   },
   "outputs": [
    {
     "name": "stderr",
     "output_type": "stream",
     "text": [
      "'select()' returned 1:many mapping between keys and columns\n",
      "\n",
      "Reading KEGG annotation online: \"https://rest.kegg.jp/link/hsa/pathway\"...\n",
      "\n",
      "Reading KEGG annotation online: \"https://rest.kegg.jp/list/pathway/hsa\"...\n",
      "\n"
     ]
    }
   ],
   "source": [
    "entrez_ids <- bitr(image_Aging4_gene$gene_id, fromType = \"ENSEMBL\", \n",
    "                   toType = \"ENTREZID\", OrgDb = org.Hs.eg.db)\n",
    "\n",
    "kegg_enrich <- enrichKEGG(gene         = entrez_ids$ENTREZID,\n",
    "                          organism     = 'hsa',\n",
    "                          pvalueCutoff = 1,\n",
    "                         qvalueCutoff = 1)"
   ]
  },
  {
   "cell_type": "code",
   "execution_count": 31,
   "id": "35054225-d985-474d-a08c-698f216607eb",
   "metadata": {},
   "outputs": [
    {
     "data": {
      "text/html": [
       "<table class=\"dataframe\">\n",
       "<caption>A data.frame: 20 × 11</caption>\n",
       "<thead>\n",
       "\t<tr><th></th><th scope=col>category</th><th scope=col>subcategory</th><th scope=col>ID</th><th scope=col>Description</th><th scope=col>GeneRatio</th><th scope=col>BgRatio</th><th scope=col>pvalue</th><th scope=col>p.adjust</th><th scope=col>qvalue</th><th scope=col>geneID</th><th scope=col>Count</th></tr>\n",
       "\t<tr><th></th><th scope=col>&lt;chr&gt;</th><th scope=col>&lt;chr&gt;</th><th scope=col>&lt;chr&gt;</th><th scope=col>&lt;chr&gt;</th><th scope=col>&lt;chr&gt;</th><th scope=col>&lt;chr&gt;</th><th scope=col>&lt;dbl&gt;</th><th scope=col>&lt;dbl&gt;</th><th scope=col>&lt;dbl&gt;</th><th scope=col>&lt;chr&gt;</th><th scope=col>&lt;int&gt;</th></tr>\n",
       "</thead>\n",
       "<tbody>\n",
       "\t<tr><th scope=row>hsa05216</th><td>Human Diseases                      </td><td>Cancer: specific types                  </td><td>hsa05216</td><td>Thyroid cancer                                     </td><td>2/31</td><td>37/9446 </td><td>0.00646328</td><td>0.3558586</td><td>0.3277645</td><td>673/6934       </td><td>2</td></tr>\n",
       "\t<tr><th scope=row>hsa04270</th><td>Organismal Systems                  </td><td>Circulatory system                      </td><td>hsa04270</td><td>Vascular smooth muscle contraction                 </td><td>3/31</td><td>134/9446</td><td>0.00938777</td><td>0.3558586</td><td>0.3277645</td><td>673/553/2768   </td><td>3</td></tr>\n",
       "\t<tr><th scope=row>hsa04934</th><td>Human Diseases                      </td><td>Endocrine and metabolic disease         </td><td>hsa04934</td><td>Cushing syndrome                                   </td><td>3/31</td><td>155/9446</td><td>0.01391488</td><td>0.3558586</td><td>0.3277645</td><td>673/3776/6934  </td><td>3</td></tr>\n",
       "\t<tr><th scope=row>hsa05213</th><td>Human Diseases                      </td><td>Cancer: specific types                  </td><td>hsa05213</td><td>Endometrial cancer                                 </td><td>2/31</td><td>59/9446 </td><td>0.01587855</td><td>0.3558586</td><td>0.3277645</td><td>673/6934       </td><td>2</td></tr>\n",
       "\t<tr><th scope=row>hsa04730</th><td>Organismal Systems                  </td><td>Nervous system                          </td><td>hsa04730</td><td>Long-term depression                               </td><td>2/31</td><td>60/9446 </td><td>0.01639281</td><td>0.3558586</td><td>0.3277645</td><td>673/2768       </td><td>2</td></tr>\n",
       "\t<tr><th scope=row>hsa05225</th><td>Human Diseases                      </td><td>Cancer: specific types                  </td><td>hsa05225</td><td>Hepatocellular carcinoma                           </td><td>3/31</td><td>170/9446</td><td>0.01779294</td><td>0.3558586</td><td>0.3277645</td><td>6603/673/6934  </td><td>3</td></tr>\n",
       "\t<tr><th scope=row>hsa05221</th><td>Human Diseases                      </td><td>Cancer: specific types                  </td><td>hsa05221</td><td>Acute myeloid leukemia                             </td><td>2/31</td><td>68/9446 </td><td>0.02075842</td><td>0.3558586</td><td>0.3277645</td><td>673/6934       </td><td>2</td></tr>\n",
       "\t<tr><th scope=row>hsa05167</th><td>Human Diseases                      </td><td>Infectious disease: viral               </td><td>hsa05167</td><td>Kaposi sarcoma-associated herpesvirus infection    </td><td>3/31</td><td>196/9446</td><td>0.02581641</td><td>0.3757560</td><td>0.3460911</td><td>285/6934/6773  </td><td>3</td></tr>\n",
       "\t<tr><th scope=row>hsa05210</th><td>Human Diseases                      </td><td>Cancer: specific types                  </td><td>hsa05210</td><td>Colorectal cancer                                  </td><td>2/31</td><td>87/9446 </td><td>0.03280593</td><td>0.3757560</td><td>0.3460911</td><td>673/6934       </td><td>2</td></tr>\n",
       "\t<tr><th scope=row>hsa04081</th><td>NA                                  </td><td>NA                                      </td><td>hsa04081</td><td>Hormone signaling                                  </td><td>3/31</td><td>219/9446</td><td>0.03429841</td><td>0.3757560</td><td>0.3460911</td><td>4157/553/2768  </td><td>3</td></tr>\n",
       "\t<tr><th scope=row>hsa05208</th><td>Human Diseases                      </td><td>Cancer: overview                        </td><td>hsa05208</td><td>Chemical carcinogenesis - reactive oxygen species  </td><td>3/31</td><td>227/9446</td><td>0.03755152</td><td>0.3757560</td><td>0.3460911</td><td>1340/115019/673</td><td>3</td></tr>\n",
       "\t<tr><th scope=row>hsa04810</th><td>Cellular Processes                  </td><td>Cell motility                           </td><td>hsa04810</td><td>Regulation of actin cytoskeleton                   </td><td>3/31</td><td>232/9446</td><td>0.03966337</td><td>0.3757560</td><td>0.3460911</td><td>85464/673/2768 </td><td>3</td></tr>\n",
       "\t<tr><th scope=row>hsa04916</th><td>Organismal Systems                  </td><td>Endocrine system                        </td><td>hsa04916</td><td>Melanogenesis                                      </td><td>2/31</td><td>101/9446</td><td>0.04305347</td><td>0.3757560</td><td>0.3460911</td><td>4157/6934      </td><td>2</td></tr>\n",
       "\t<tr><th scope=row>hsa04625</th><td>Organismal Systems                  </td><td>Immune system                           </td><td>hsa04625</td><td>C-type lectin receptor signaling pathway           </td><td>2/31</td><td>105/9446</td><td>0.04617600</td><td>0.3757560</td><td>0.3460911</td><td>51561/6773     </td><td>2</td></tr>\n",
       "\t<tr><th scope=row>hsa05215</th><td>Human Diseases                      </td><td>Cancer: specific types                  </td><td>hsa05215</td><td>Prostate cancer                                    </td><td>2/31</td><td>106/9446</td><td>0.04696951</td><td>0.3757560</td><td>0.3460911</td><td>673/6934       </td><td>2</td></tr>\n",
       "\t<tr><th scope=row>hsa04928</th><td>Organismal Systems                  </td><td>Endocrine system                        </td><td>hsa04928</td><td>Parathyroid hormone synthesis, secretion and action</td><td>2/31</td><td>115/9446</td><td>0.05433452</td><td>0.3954643</td><td>0.3642434</td><td>673/2768       </td><td>2</td></tr>\n",
       "\t<tr><th scope=row>hsa03082</th><td>Genetic Information Processing      </td><td>Chromosome                              </td><td>hsa03082</td><td>ATP-dependent chromatin remodeling                 </td><td>2/31</td><td>117/9446</td><td>0.05602411</td><td>0.3954643</td><td>0.3642434</td><td>6603/2186      </td><td>2</td></tr>\n",
       "\t<tr><th scope=row>hsa04142</th><td>Cellular Processes                  </td><td>Transport and catabolism                </td><td>hsa04142</td><td>Lysosome                                           </td><td>2/31</td><td>133/9446</td><td>0.07018532</td><td>0.3994747</td><td>0.3679372</td><td>1510/8546      </td><td>2</td></tr>\n",
       "\t<tr><th scope=row>hsa00900</th><td>Metabolism                          </td><td>Metabolism of terpenoids and polyketides</td><td>hsa00900</td><td>Terpenoid backbone biosynthesis                    </td><td>1/31</td><td>23/9446 </td><td>0.07290028</td><td>0.3994747</td><td>0.3679372</td><td>9453           </td><td>1</td></tr>\n",
       "\t<tr><th scope=row>hsa04010</th><td>Environmental Information Processing</td><td>Signal transduction                     </td><td>hsa04010</td><td>MAPK signaling pathway                             </td><td>3/31</td><td>300/9446</td><td>0.07416810</td><td>0.3994747</td><td>0.3679372</td><td>673/285/2768   </td><td>3</td></tr>\n",
       "</tbody>\n",
       "</table>\n"
      ],
      "text/latex": [
       "A data.frame: 20 × 11\n",
       "\\begin{tabular}{r|lllllllllll}\n",
       "  & category & subcategory & ID & Description & GeneRatio & BgRatio & pvalue & p.adjust & qvalue & geneID & Count\\\\\n",
       "  & <chr> & <chr> & <chr> & <chr> & <chr> & <chr> & <dbl> & <dbl> & <dbl> & <chr> & <int>\\\\\n",
       "\\hline\n",
       "\thsa05216 & Human Diseases                       & Cancer: specific types                   & hsa05216 & Thyroid cancer                                      & 2/31 & 37/9446  & 0.00646328 & 0.3558586 & 0.3277645 & 673/6934        & 2\\\\\n",
       "\thsa04270 & Organismal Systems                   & Circulatory system                       & hsa04270 & Vascular smooth muscle contraction                  & 3/31 & 134/9446 & 0.00938777 & 0.3558586 & 0.3277645 & 673/553/2768    & 3\\\\\n",
       "\thsa04934 & Human Diseases                       & Endocrine and metabolic disease          & hsa04934 & Cushing syndrome                                    & 3/31 & 155/9446 & 0.01391488 & 0.3558586 & 0.3277645 & 673/3776/6934   & 3\\\\\n",
       "\thsa05213 & Human Diseases                       & Cancer: specific types                   & hsa05213 & Endometrial cancer                                  & 2/31 & 59/9446  & 0.01587855 & 0.3558586 & 0.3277645 & 673/6934        & 2\\\\\n",
       "\thsa04730 & Organismal Systems                   & Nervous system                           & hsa04730 & Long-term depression                                & 2/31 & 60/9446  & 0.01639281 & 0.3558586 & 0.3277645 & 673/2768        & 2\\\\\n",
       "\thsa05225 & Human Diseases                       & Cancer: specific types                   & hsa05225 & Hepatocellular carcinoma                            & 3/31 & 170/9446 & 0.01779294 & 0.3558586 & 0.3277645 & 6603/673/6934   & 3\\\\\n",
       "\thsa05221 & Human Diseases                       & Cancer: specific types                   & hsa05221 & Acute myeloid leukemia                              & 2/31 & 68/9446  & 0.02075842 & 0.3558586 & 0.3277645 & 673/6934        & 2\\\\\n",
       "\thsa05167 & Human Diseases                       & Infectious disease: viral                & hsa05167 & Kaposi sarcoma-associated herpesvirus infection     & 3/31 & 196/9446 & 0.02581641 & 0.3757560 & 0.3460911 & 285/6934/6773   & 3\\\\\n",
       "\thsa05210 & Human Diseases                       & Cancer: specific types                   & hsa05210 & Colorectal cancer                                   & 2/31 & 87/9446  & 0.03280593 & 0.3757560 & 0.3460911 & 673/6934        & 2\\\\\n",
       "\thsa04081 & NA                                   & NA                                       & hsa04081 & Hormone signaling                                   & 3/31 & 219/9446 & 0.03429841 & 0.3757560 & 0.3460911 & 4157/553/2768   & 3\\\\\n",
       "\thsa05208 & Human Diseases                       & Cancer: overview                         & hsa05208 & Chemical carcinogenesis - reactive oxygen species   & 3/31 & 227/9446 & 0.03755152 & 0.3757560 & 0.3460911 & 1340/115019/673 & 3\\\\\n",
       "\thsa04810 & Cellular Processes                   & Cell motility                            & hsa04810 & Regulation of actin cytoskeleton                    & 3/31 & 232/9446 & 0.03966337 & 0.3757560 & 0.3460911 & 85464/673/2768  & 3\\\\\n",
       "\thsa04916 & Organismal Systems                   & Endocrine system                         & hsa04916 & Melanogenesis                                       & 2/31 & 101/9446 & 0.04305347 & 0.3757560 & 0.3460911 & 4157/6934       & 2\\\\\n",
       "\thsa04625 & Organismal Systems                   & Immune system                            & hsa04625 & C-type lectin receptor signaling pathway            & 2/31 & 105/9446 & 0.04617600 & 0.3757560 & 0.3460911 & 51561/6773      & 2\\\\\n",
       "\thsa05215 & Human Diseases                       & Cancer: specific types                   & hsa05215 & Prostate cancer                                     & 2/31 & 106/9446 & 0.04696951 & 0.3757560 & 0.3460911 & 673/6934        & 2\\\\\n",
       "\thsa04928 & Organismal Systems                   & Endocrine system                         & hsa04928 & Parathyroid hormone synthesis, secretion and action & 2/31 & 115/9446 & 0.05433452 & 0.3954643 & 0.3642434 & 673/2768        & 2\\\\\n",
       "\thsa03082 & Genetic Information Processing       & Chromosome                               & hsa03082 & ATP-dependent chromatin remodeling                  & 2/31 & 117/9446 & 0.05602411 & 0.3954643 & 0.3642434 & 6603/2186       & 2\\\\\n",
       "\thsa04142 & Cellular Processes                   & Transport and catabolism                 & hsa04142 & Lysosome                                            & 2/31 & 133/9446 & 0.07018532 & 0.3994747 & 0.3679372 & 1510/8546       & 2\\\\\n",
       "\thsa00900 & Metabolism                           & Metabolism of terpenoids and polyketides & hsa00900 & Terpenoid backbone biosynthesis                     & 1/31 & 23/9446  & 0.07290028 & 0.3994747 & 0.3679372 & 9453            & 1\\\\\n",
       "\thsa04010 & Environmental Information Processing & Signal transduction                      & hsa04010 & MAPK signaling pathway                              & 3/31 & 300/9446 & 0.07416810 & 0.3994747 & 0.3679372 & 673/285/2768    & 3\\\\\n",
       "\\end{tabular}\n"
      ],
      "text/markdown": [
       "\n",
       "A data.frame: 20 × 11\n",
       "\n",
       "| <!--/--> | category &lt;chr&gt; | subcategory &lt;chr&gt; | ID &lt;chr&gt; | Description &lt;chr&gt; | GeneRatio &lt;chr&gt; | BgRatio &lt;chr&gt; | pvalue &lt;dbl&gt; | p.adjust &lt;dbl&gt; | qvalue &lt;dbl&gt; | geneID &lt;chr&gt; | Count &lt;int&gt; |\n",
       "|---|---|---|---|---|---|---|---|---|---|---|---|\n",
       "| hsa05216 | Human Diseases                       | Cancer: specific types                   | hsa05216 | Thyroid cancer                                      | 2/31 | 37/9446  | 0.00646328 | 0.3558586 | 0.3277645 | 673/6934        | 2 |\n",
       "| hsa04270 | Organismal Systems                   | Circulatory system                       | hsa04270 | Vascular smooth muscle contraction                  | 3/31 | 134/9446 | 0.00938777 | 0.3558586 | 0.3277645 | 673/553/2768    | 3 |\n",
       "| hsa04934 | Human Diseases                       | Endocrine and metabolic disease          | hsa04934 | Cushing syndrome                                    | 3/31 | 155/9446 | 0.01391488 | 0.3558586 | 0.3277645 | 673/3776/6934   | 3 |\n",
       "| hsa05213 | Human Diseases                       | Cancer: specific types                   | hsa05213 | Endometrial cancer                                  | 2/31 | 59/9446  | 0.01587855 | 0.3558586 | 0.3277645 | 673/6934        | 2 |\n",
       "| hsa04730 | Organismal Systems                   | Nervous system                           | hsa04730 | Long-term depression                                | 2/31 | 60/9446  | 0.01639281 | 0.3558586 | 0.3277645 | 673/2768        | 2 |\n",
       "| hsa05225 | Human Diseases                       | Cancer: specific types                   | hsa05225 | Hepatocellular carcinoma                            | 3/31 | 170/9446 | 0.01779294 | 0.3558586 | 0.3277645 | 6603/673/6934   | 3 |\n",
       "| hsa05221 | Human Diseases                       | Cancer: specific types                   | hsa05221 | Acute myeloid leukemia                              | 2/31 | 68/9446  | 0.02075842 | 0.3558586 | 0.3277645 | 673/6934        | 2 |\n",
       "| hsa05167 | Human Diseases                       | Infectious disease: viral                | hsa05167 | Kaposi sarcoma-associated herpesvirus infection     | 3/31 | 196/9446 | 0.02581641 | 0.3757560 | 0.3460911 | 285/6934/6773   | 3 |\n",
       "| hsa05210 | Human Diseases                       | Cancer: specific types                   | hsa05210 | Colorectal cancer                                   | 2/31 | 87/9446  | 0.03280593 | 0.3757560 | 0.3460911 | 673/6934        | 2 |\n",
       "| hsa04081 | NA                                   | NA                                       | hsa04081 | Hormone signaling                                   | 3/31 | 219/9446 | 0.03429841 | 0.3757560 | 0.3460911 | 4157/553/2768   | 3 |\n",
       "| hsa05208 | Human Diseases                       | Cancer: overview                         | hsa05208 | Chemical carcinogenesis - reactive oxygen species   | 3/31 | 227/9446 | 0.03755152 | 0.3757560 | 0.3460911 | 1340/115019/673 | 3 |\n",
       "| hsa04810 | Cellular Processes                   | Cell motility                            | hsa04810 | Regulation of actin cytoskeleton                    | 3/31 | 232/9446 | 0.03966337 | 0.3757560 | 0.3460911 | 85464/673/2768  | 3 |\n",
       "| hsa04916 | Organismal Systems                   | Endocrine system                         | hsa04916 | Melanogenesis                                       | 2/31 | 101/9446 | 0.04305347 | 0.3757560 | 0.3460911 | 4157/6934       | 2 |\n",
       "| hsa04625 | Organismal Systems                   | Immune system                            | hsa04625 | C-type lectin receptor signaling pathway            | 2/31 | 105/9446 | 0.04617600 | 0.3757560 | 0.3460911 | 51561/6773      | 2 |\n",
       "| hsa05215 | Human Diseases                       | Cancer: specific types                   | hsa05215 | Prostate cancer                                     | 2/31 | 106/9446 | 0.04696951 | 0.3757560 | 0.3460911 | 673/6934        | 2 |\n",
       "| hsa04928 | Organismal Systems                   | Endocrine system                         | hsa04928 | Parathyroid hormone synthesis, secretion and action | 2/31 | 115/9446 | 0.05433452 | 0.3954643 | 0.3642434 | 673/2768        | 2 |\n",
       "| hsa03082 | Genetic Information Processing       | Chromosome                               | hsa03082 | ATP-dependent chromatin remodeling                  | 2/31 | 117/9446 | 0.05602411 | 0.3954643 | 0.3642434 | 6603/2186       | 2 |\n",
       "| hsa04142 | Cellular Processes                   | Transport and catabolism                 | hsa04142 | Lysosome                                            | 2/31 | 133/9446 | 0.07018532 | 0.3994747 | 0.3679372 | 1510/8546       | 2 |\n",
       "| hsa00900 | Metabolism                           | Metabolism of terpenoids and polyketides | hsa00900 | Terpenoid backbone biosynthesis                     | 1/31 | 23/9446  | 0.07290028 | 0.3994747 | 0.3679372 | 9453            | 1 |\n",
       "| hsa04010 | Environmental Information Processing | Signal transduction                      | hsa04010 | MAPK signaling pathway                              | 3/31 | 300/9446 | 0.07416810 | 0.3994747 | 0.3679372 | 673/285/2768    | 3 |\n",
       "\n"
      ],
      "text/plain": [
       "         category                            \n",
       "hsa05216 Human Diseases                      \n",
       "hsa04270 Organismal Systems                  \n",
       "hsa04934 Human Diseases                      \n",
       "hsa05213 Human Diseases                      \n",
       "hsa04730 Organismal Systems                  \n",
       "hsa05225 Human Diseases                      \n",
       "hsa05221 Human Diseases                      \n",
       "hsa05167 Human Diseases                      \n",
       "hsa05210 Human Diseases                      \n",
       "hsa04081 NA                                  \n",
       "hsa05208 Human Diseases                      \n",
       "hsa04810 Cellular Processes                  \n",
       "hsa04916 Organismal Systems                  \n",
       "hsa04625 Organismal Systems                  \n",
       "hsa05215 Human Diseases                      \n",
       "hsa04928 Organismal Systems                  \n",
       "hsa03082 Genetic Information Processing      \n",
       "hsa04142 Cellular Processes                  \n",
       "hsa00900 Metabolism                          \n",
       "hsa04010 Environmental Information Processing\n",
       "         subcategory                              ID      \n",
       "hsa05216 Cancer: specific types                   hsa05216\n",
       "hsa04270 Circulatory system                       hsa04270\n",
       "hsa04934 Endocrine and metabolic disease          hsa04934\n",
       "hsa05213 Cancer: specific types                   hsa05213\n",
       "hsa04730 Nervous system                           hsa04730\n",
       "hsa05225 Cancer: specific types                   hsa05225\n",
       "hsa05221 Cancer: specific types                   hsa05221\n",
       "hsa05167 Infectious disease: viral                hsa05167\n",
       "hsa05210 Cancer: specific types                   hsa05210\n",
       "hsa04081 NA                                       hsa04081\n",
       "hsa05208 Cancer: overview                         hsa05208\n",
       "hsa04810 Cell motility                            hsa04810\n",
       "hsa04916 Endocrine system                         hsa04916\n",
       "hsa04625 Immune system                            hsa04625\n",
       "hsa05215 Cancer: specific types                   hsa05215\n",
       "hsa04928 Endocrine system                         hsa04928\n",
       "hsa03082 Chromosome                               hsa03082\n",
       "hsa04142 Transport and catabolism                 hsa04142\n",
       "hsa00900 Metabolism of terpenoids and polyketides hsa00900\n",
       "hsa04010 Signal transduction                      hsa04010\n",
       "         Description                                         GeneRatio BgRatio \n",
       "hsa05216 Thyroid cancer                                      2/31      37/9446 \n",
       "hsa04270 Vascular smooth muscle contraction                  3/31      134/9446\n",
       "hsa04934 Cushing syndrome                                    3/31      155/9446\n",
       "hsa05213 Endometrial cancer                                  2/31      59/9446 \n",
       "hsa04730 Long-term depression                                2/31      60/9446 \n",
       "hsa05225 Hepatocellular carcinoma                            3/31      170/9446\n",
       "hsa05221 Acute myeloid leukemia                              2/31      68/9446 \n",
       "hsa05167 Kaposi sarcoma-associated herpesvirus infection     3/31      196/9446\n",
       "hsa05210 Colorectal cancer                                   2/31      87/9446 \n",
       "hsa04081 Hormone signaling                                   3/31      219/9446\n",
       "hsa05208 Chemical carcinogenesis - reactive oxygen species   3/31      227/9446\n",
       "hsa04810 Regulation of actin cytoskeleton                    3/31      232/9446\n",
       "hsa04916 Melanogenesis                                       2/31      101/9446\n",
       "hsa04625 C-type lectin receptor signaling pathway            2/31      105/9446\n",
       "hsa05215 Prostate cancer                                     2/31      106/9446\n",
       "hsa04928 Parathyroid hormone synthesis, secretion and action 2/31      115/9446\n",
       "hsa03082 ATP-dependent chromatin remodeling                  2/31      117/9446\n",
       "hsa04142 Lysosome                                            2/31      133/9446\n",
       "hsa00900 Terpenoid backbone biosynthesis                     1/31      23/9446 \n",
       "hsa04010 MAPK signaling pathway                              3/31      300/9446\n",
       "         pvalue     p.adjust  qvalue    geneID          Count\n",
       "hsa05216 0.00646328 0.3558586 0.3277645 673/6934        2    \n",
       "hsa04270 0.00938777 0.3558586 0.3277645 673/553/2768    3    \n",
       "hsa04934 0.01391488 0.3558586 0.3277645 673/3776/6934   3    \n",
       "hsa05213 0.01587855 0.3558586 0.3277645 673/6934        2    \n",
       "hsa04730 0.01639281 0.3558586 0.3277645 673/2768        2    \n",
       "hsa05225 0.01779294 0.3558586 0.3277645 6603/673/6934   3    \n",
       "hsa05221 0.02075842 0.3558586 0.3277645 673/6934        2    \n",
       "hsa05167 0.02581641 0.3757560 0.3460911 285/6934/6773   3    \n",
       "hsa05210 0.03280593 0.3757560 0.3460911 673/6934        2    \n",
       "hsa04081 0.03429841 0.3757560 0.3460911 4157/553/2768   3    \n",
       "hsa05208 0.03755152 0.3757560 0.3460911 1340/115019/673 3    \n",
       "hsa04810 0.03966337 0.3757560 0.3460911 85464/673/2768  3    \n",
       "hsa04916 0.04305347 0.3757560 0.3460911 4157/6934       2    \n",
       "hsa04625 0.04617600 0.3757560 0.3460911 51561/6773      2    \n",
       "hsa05215 0.04696951 0.3757560 0.3460911 673/6934        2    \n",
       "hsa04928 0.05433452 0.3954643 0.3642434 673/2768        2    \n",
       "hsa03082 0.05602411 0.3954643 0.3642434 6603/2186       2    \n",
       "hsa04142 0.07018532 0.3994747 0.3679372 1510/8546       2    \n",
       "hsa00900 0.07290028 0.3994747 0.3679372 9453            1    \n",
       "hsa04010 0.07416810 0.3994747 0.3679372 673/285/2768    3    "
      ]
     },
     "metadata": {},
     "output_type": "display_data"
    }
   ],
   "source": [
    "kegg_enrich %>% head(n=20)"
   ]
  },
  {
   "cell_type": "code",
   "execution_count": 32,
   "id": "8c7011ba-9d73-47f2-ab84-6171740c95c5",
   "metadata": {},
   "outputs": [
    {
     "data": {
      "image/png": "[encoded data removed]",
      "text/plain": [
       "plot without title"
      ]
     },
     "metadata": {
      "image/png": {
       "height": 420,
       "width": 420
      }
     },
     "output_type": "display_data"
    }
   ],
   "source": [
    "barplot(kegg_enrich, showCategory = 10, title = \"KEGG Pathway Enrichment\")"
   ]
  },
  {
   "cell_type": "code",
   "execution_count": null,
   "id": "8006e4f5-c1fc-4baf-9acb-44b69cdd103b",
   "metadata": {},
   "outputs": [],
   "source": []
  },
  {
   "cell_type": "code",
   "execution_count": null,
   "id": "07f772a0-a759-4405-b81e-c84b7ce4953c",
   "metadata": {},
   "outputs": [],
   "source": []
  }
 ],
 "metadata": {
  "kernelspec": {
   "display_name": "R",
   "language": "R",
   "name": "ir"
  },
  "language_info": {
   "codemirror_mode": "r",
   "file_extension": ".r",
   "mimetype": "text/x-r-source",
   "name": "R",
   "pygments_lexer": "r",
   "version": "4.3.3"
  }
 },
 "nbformat": 4,
 "nbformat_minor": 5
}
