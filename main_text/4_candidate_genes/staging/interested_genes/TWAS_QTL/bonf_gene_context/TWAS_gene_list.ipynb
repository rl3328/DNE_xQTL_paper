{
 "cells": [
  {
   "cell_type": "code",
   "execution_count": 1,
   "id": "316cb796-f5e4-492a-9045-c6365fe7a1b8",
   "metadata": {},
   "outputs": [
    {
     "name": "stderr",
     "output_type": "stream",
     "text": [
      "-- \u001b[1mAttaching core tidyverse packages\u001b[22m ------------------------ tidyverse 2.0.0 --\n",
      "\u001b[32mv\u001b[39m \u001b[34mdplyr    \u001b[39m 1.1.4     \u001b[32mv\u001b[39m \u001b[34mreadr    \u001b[39m 2.1.5\n",
      "\u001b[32mv\u001b[39m \u001b[34mforcats  \u001b[39m 1.0.0     \u001b[32mv\u001b[39m \u001b[34mstringr  \u001b[39m 1.5.1\n",
      "\u001b[32mv\u001b[39m \u001b[34mggplot2  \u001b[39m 3.5.2     \u001b[32mv\u001b[39m \u001b[34mtibble   \u001b[39m 3.3.0\n",
      "\u001b[32mv\u001b[39m \u001b[34mlubridate\u001b[39m 1.9.4     \u001b[32mv\u001b[39m \u001b[34mtidyr    \u001b[39m 1.3.1\n",
      "\u001b[32mv\u001b[39m \u001b[34mpurrr    \u001b[39m 1.1.0     \n",
      "-- \u001b[1mConflicts\u001b[22m ------------------------------------------ tidyverse_conflicts() --\n",
      "\u001b[31mx\u001b[39m \u001b[34mdplyr\u001b[39m::\u001b[32mbetween()\u001b[39m     masks \u001b[34mdata.table\u001b[39m::between()\n",
      "\u001b[31mx\u001b[39m \u001b[34mdplyr\u001b[39m::\u001b[32mfilter()\u001b[39m      masks \u001b[34mstats\u001b[39m::filter()\n",
      "\u001b[31mx\u001b[39m \u001b[34mdplyr\u001b[39m::\u001b[32mfirst()\u001b[39m       masks \u001b[34mdata.table\u001b[39m::first()\n",
      "\u001b[31mx\u001b[39m \u001b[34mlubridate\u001b[39m::\u001b[32mhour()\u001b[39m    masks \u001b[34mdata.table\u001b[39m::hour()\n",
      "\u001b[31mx\u001b[39m \u001b[34mlubridate\u001b[39m::\u001b[32misoweek()\u001b[39m masks \u001b[34mdata.table\u001b[39m::isoweek()\n",
      "\u001b[31mx\u001b[39m \u001b[34mdplyr\u001b[39m::\u001b[32mlag()\u001b[39m         masks \u001b[34mstats\u001b[39m::lag()\n",
      "\u001b[31mx\u001b[39m \u001b[34mdplyr\u001b[39m::\u001b[32mlast()\u001b[39m        masks \u001b[34mdata.table\u001b[39m::last()\n",
      "\u001b[31mx\u001b[39m \u001b[34mlubridate\u001b[39m::\u001b[32mmday()\u001b[39m    masks \u001b[34mdata.table\u001b[39m::mday()\n",
      "\u001b[31mx\u001b[39m \u001b[34mlubridate\u001b[39m::\u001b[32mminute()\u001b[39m  masks \u001b[34mdata.table\u001b[39m::minute()\n",
      "\u001b[31mx\u001b[39m \u001b[34mlubridate\u001b[39m::\u001b[32mmonth()\u001b[39m   masks \u001b[34mdata.table\u001b[39m::month()\n",
      "\u001b[31mx\u001b[39m \u001b[34mlubridate\u001b[39m::\u001b[32mquarter()\u001b[39m masks \u001b[34mdata.table\u001b[39m::quarter()\n",
      "\u001b[31mx\u001b[39m \u001b[34mlubridate\u001b[39m::\u001b[32msecond()\u001b[39m  masks \u001b[34mdata.table\u001b[39m::second()\n",
      "\u001b[31mx\u001b[39m \u001b[34mpurrr\u001b[39m::\u001b[32mtranspose()\u001b[39m   masks \u001b[34mdata.table\u001b[39m::transpose()\n",
      "\u001b[31mx\u001b[39m \u001b[34mlubridate\u001b[39m::\u001b[32mwday()\u001b[39m    masks \u001b[34mdata.table\u001b[39m::wday()\n",
      "\u001b[31mx\u001b[39m \u001b[34mlubridate\u001b[39m::\u001b[32mweek()\u001b[39m    masks \u001b[34mdata.table\u001b[39m::week()\n",
      "\u001b[31mx\u001b[39m \u001b[34mlubridate\u001b[39m::\u001b[32myday()\u001b[39m    masks \u001b[34mdata.table\u001b[39m::yday()\n",
      "\u001b[31mx\u001b[39m \u001b[34mlubridate\u001b[39m::\u001b[32myear()\u001b[39m    masks \u001b[34mdata.table\u001b[39m::year()\n",
      "\u001b[36mi\u001b[39m Use the conflicted package (\u001b[3m\u001b[34m<http://conflicted.r-lib.org/>\u001b[39m\u001b[23m) to force all conflicts to become errors\n"
     ]
    }
   ],
   "source": [
    "library(data.table)\n",
    "library(tidyverse)"
   ]
  },
  {
   "cell_type": "code",
   "execution_count": null,
   "id": "5066d765-d62b-4f60-ac5a-3d80af361532",
   "metadata": {},
   "outputs": [],
   "source": []
  },
  {
   "cell_type": "markdown",
   "id": "f5649af9-9106-42ea-96d5-e1411213dbb2",
   "metadata": {},
   "source": [
    "# TWAS"
   ]
  },
  {
   "cell_type": "markdown",
   "id": "1bafe191-d321-4648-ad03-817a5b27199e",
   "metadata": {},
   "source": [
    "## TL1"
   ]
  },
  {
   "cell_type": "code",
   "execution_count": 12,
   "id": "8ae810a5-44b7-4be2-83d8-afa847b67ab2",
   "metadata": {},
   "outputs": [],
   "source": [
    "TL1 <- fread(\"~/project/image_QTL/twas/multiple_testing/TL1_twas_bonff.bonf_corrected.tsv.gz\")"
   ]
  },
  {
   "cell_type": "code",
   "execution_count": 13,
   "id": "0c6d5d94-3dd8-4660-95f2-b0f803f4c4f8",
   "metadata": {
    "scrolled": true
   },
   "outputs": [
    {
     "data": {
      "text/html": [
       "<table class=\"dataframe\">\n",
       "<caption>A data.table: 6 x 22</caption>\n",
       "<thead>\n",
       "\t<tr><th scope=col>gwas_study</th><th scope=col>chr</th><th scope=col>molecular_id</th><th scope=col>TSS</th><th scope=col>start</th><th scope=col>end</th><th scope=col>context</th><th scope=col>method</th><th scope=col>is_imputable</th><th scope=col>is_selected_method</th><th scope=col>...</th><th scope=col>twas_z</th><th scope=col>twas_pval</th><th scope=col>type</th><th scope=col>block</th><th scope=col>region</th><th scope=col>study_context</th><th scope=col>source_file</th><th scope=col>gene_id</th><th scope=col>N</th><th scope=col>twas_pval_bonf</th></tr>\n",
       "\t<tr><th scope=col>&lt;chr&gt;</th><th scope=col>&lt;int&gt;</th><th scope=col>&lt;chr&gt;</th><th scope=col>&lt;int&gt;</th><th scope=col>&lt;int&gt;</th><th scope=col>&lt;int&gt;</th><th scope=col>&lt;chr&gt;</th><th scope=col>&lt;chr&gt;</th><th scope=col>&lt;lgl&gt;</th><th scope=col>&lt;lgl&gt;</th><th scope=col>...</th><th scope=col>&lt;dbl&gt;</th><th scope=col>&lt;dbl&gt;</th><th scope=col>&lt;chr&gt;</th><th scope=col>&lt;chr&gt;</th><th scope=col>&lt;chr&gt;</th><th scope=col>&lt;chr&gt;</th><th scope=col>&lt;chr&gt;</th><th scope=col>&lt;chr&gt;</th><th scope=col>&lt;int&gt;</th><th scope=col>&lt;dbl&gt;</th></tr>\n",
       "</thead>\n",
       "<tbody>\n",
       "\t<tr><td>Telomere_pc1</td><td>10</td><td>ENSG00000055950</td><td>100987514</td><td> 99320000</td><td>102120000</td><td>Knight_eQTL_brain</td><td>enet </td><td>TRUE</td><td>FALSE</td><td>...</td><td>-2.903662</td><td>0.003688264</td><td>eQTL</td><td>chr10_100331627_104378781</td><td>chr10_100331627_104378781</td><td>KNIGHT_eQTL_pQTL</td><td>KNIGHT_eQTL_pQTL.chr10_100331627_104378781.twas.tsv.gz</td><td>ENSG00000055950</td><td>146352</td><td>1</td></tr>\n",
       "\t<tr><td>Telomere_pc1</td><td>10</td><td>ENSG00000055950</td><td>100987514</td><td> 99320000</td><td>102120000</td><td>Knight_eQTL_brain</td><td>lasso</td><td>TRUE</td><td>FALSE</td><td>...</td><td>-2.878534</td><td>0.003995280</td><td>eQTL</td><td>chr10_100331627_104378781</td><td>chr10_100331627_104378781</td><td>KNIGHT_eQTL_pQTL</td><td>KNIGHT_eQTL_pQTL.chr10_100331627_104378781.twas.tsv.gz</td><td>ENSG00000055950</td><td>146352</td><td>1</td></tr>\n",
       "\t<tr><td>Telomere_pc1</td><td>10</td><td>ENSG00000055950</td><td>100987514</td><td> 99320000</td><td>102120000</td><td>Knight_eQTL_brain</td><td>mrash</td><td>TRUE</td><td>FALSE</td><td>...</td><td>-2.963834</td><td>0.003038321</td><td>eQTL</td><td>chr10_100331627_104378781</td><td>chr10_100331627_104378781</td><td>KNIGHT_eQTL_pQTL</td><td>KNIGHT_eQTL_pQTL.chr10_100331627_104378781.twas.tsv.gz</td><td>ENSG00000055950</td><td>146352</td><td>1</td></tr>\n",
       "\t<tr><td>Telomere_pc1</td><td>10</td><td>ENSG00000055950</td><td>100987514</td><td> 99320000</td><td>102120000</td><td>Knight_eQTL_brain</td><td>susie</td><td>TRUE</td><td> TRUE</td><td>...</td><td>-2.919076</td><td>0.003510708</td><td>eQTL</td><td>chr10_100331627_104378781</td><td>chr10_100331627_104378781</td><td>KNIGHT_eQTL_pQTL</td><td>KNIGHT_eQTL_pQTL.chr10_100331627_104378781.twas.tsv.gz</td><td>ENSG00000055950</td><td>146352</td><td>1</td></tr>\n",
       "\t<tr><td>Telomere_pc1</td><td>10</td><td>ENSG00000059915</td><td>102421538</td><td>101402617</td><td>103680000</td><td>Knight_eQTL_brain</td><td>enet </td><td>TRUE</td><td>FALSE</td><td>...</td><td> 2.351818</td><td>0.018681917</td><td>eQTL</td><td>chr10_100331627_104378781</td><td>chr10_100331627_104378781</td><td>KNIGHT_eQTL_pQTL</td><td>KNIGHT_eQTL_pQTL.chr10_100331627_104378781.twas.tsv.gz</td><td>ENSG00000059915</td><td>146352</td><td>1</td></tr>\n",
       "\t<tr><td>Telomere_pc1</td><td>10</td><td>ENSG00000059915</td><td>102421538</td><td>101402617</td><td>103680000</td><td>Knight_eQTL_brain</td><td>lasso</td><td>TRUE</td><td>FALSE</td><td>...</td><td> 2.565091</td><td>0.010314876</td><td>eQTL</td><td>chr10_100331627_104378781</td><td>chr10_100331627_104378781</td><td>KNIGHT_eQTL_pQTL</td><td>KNIGHT_eQTL_pQTL.chr10_100331627_104378781.twas.tsv.gz</td><td>ENSG00000059915</td><td>146352</td><td>1</td></tr>\n",
       "</tbody>\n",
       "</table>\n"
      ],
      "text/latex": [
       "A data.table: 6 x 22\n",
       "\\begin{tabular}{lllllllllllllllllllll}\n",
       " gwas\\_study & chr & molecular\\_id & TSS & start & end & context & method & is\\_imputable & is\\_selected\\_method & ... & twas\\_z & twas\\_pval & type & block & region & study\\_context & source\\_file & gene\\_id & N & twas\\_pval\\_bonf\\\\\n",
       " <chr> & <int> & <chr> & <int> & <int> & <int> & <chr> & <chr> & <lgl> & <lgl> & ... & <dbl> & <dbl> & <chr> & <chr> & <chr> & <chr> & <chr> & <chr> & <int> & <dbl>\\\\\n",
       "\\hline\n",
       "\t Telomere\\_pc1 & 10 & ENSG00000055950 & 100987514 &  99320000 & 102120000 & Knight\\_eQTL\\_brain & enet  & TRUE & FALSE & ... & -2.903662 & 0.003688264 & eQTL & chr10\\_100331627\\_104378781 & chr10\\_100331627\\_104378781 & KNIGHT\\_eQTL\\_pQTL & KNIGHT\\_eQTL\\_pQTL.chr10\\_100331627\\_104378781.twas.tsv.gz & ENSG00000055950 & 146352 & 1\\\\\n",
       "\t Telomere\\_pc1 & 10 & ENSG00000055950 & 100987514 &  99320000 & 102120000 & Knight\\_eQTL\\_brain & lasso & TRUE & FALSE & ... & -2.878534 & 0.003995280 & eQTL & chr10\\_100331627\\_104378781 & chr10\\_100331627\\_104378781 & KNIGHT\\_eQTL\\_pQTL & KNIGHT\\_eQTL\\_pQTL.chr10\\_100331627\\_104378781.twas.tsv.gz & ENSG00000055950 & 146352 & 1\\\\\n",
       "\t Telomere\\_pc1 & 10 & ENSG00000055950 & 100987514 &  99320000 & 102120000 & Knight\\_eQTL\\_brain & mrash & TRUE & FALSE & ... & -2.963834 & 0.003038321 & eQTL & chr10\\_100331627\\_104378781 & chr10\\_100331627\\_104378781 & KNIGHT\\_eQTL\\_pQTL & KNIGHT\\_eQTL\\_pQTL.chr10\\_100331627\\_104378781.twas.tsv.gz & ENSG00000055950 & 146352 & 1\\\\\n",
       "\t Telomere\\_pc1 & 10 & ENSG00000055950 & 100987514 &  99320000 & 102120000 & Knight\\_eQTL\\_brain & susie & TRUE &  TRUE & ... & -2.919076 & 0.003510708 & eQTL & chr10\\_100331627\\_104378781 & chr10\\_100331627\\_104378781 & KNIGHT\\_eQTL\\_pQTL & KNIGHT\\_eQTL\\_pQTL.chr10\\_100331627\\_104378781.twas.tsv.gz & ENSG00000055950 & 146352 & 1\\\\\n",
       "\t Telomere\\_pc1 & 10 & ENSG00000059915 & 102421538 & 101402617 & 103680000 & Knight\\_eQTL\\_brain & enet  & TRUE & FALSE & ... &  2.351818 & 0.018681917 & eQTL & chr10\\_100331627\\_104378781 & chr10\\_100331627\\_104378781 & KNIGHT\\_eQTL\\_pQTL & KNIGHT\\_eQTL\\_pQTL.chr10\\_100331627\\_104378781.twas.tsv.gz & ENSG00000059915 & 146352 & 1\\\\\n",
       "\t Telomere\\_pc1 & 10 & ENSG00000059915 & 102421538 & 101402617 & 103680000 & Knight\\_eQTL\\_brain & lasso & TRUE & FALSE & ... &  2.565091 & 0.010314876 & eQTL & chr10\\_100331627\\_104378781 & chr10\\_100331627\\_104378781 & KNIGHT\\_eQTL\\_pQTL & KNIGHT\\_eQTL\\_pQTL.chr10\\_100331627\\_104378781.twas.tsv.gz & ENSG00000059915 & 146352 & 1\\\\\n",
       "\\end{tabular}\n"
      ],
      "text/markdown": [
       "\n",
       "A data.table: 6 x 22\n",
       "\n",
       "| gwas_study &lt;chr&gt; | chr &lt;int&gt; | molecular_id &lt;chr&gt; | TSS &lt;int&gt; | start &lt;int&gt; | end &lt;int&gt; | context &lt;chr&gt; | method &lt;chr&gt; | is_imputable &lt;lgl&gt; | is_selected_method &lt;lgl&gt; | ... ... | twas_z &lt;dbl&gt; | twas_pval &lt;dbl&gt; | type &lt;chr&gt; | block &lt;chr&gt; | region &lt;chr&gt; | study_context &lt;chr&gt; | source_file &lt;chr&gt; | gene_id &lt;chr&gt; | N &lt;int&gt; | twas_pval_bonf &lt;dbl&gt; |\n",
       "|---|---|---|---|---|---|---|---|---|---|---|---|---|---|---|---|---|---|---|---|---|\n",
       "| Telomere_pc1 | 10 | ENSG00000055950 | 100987514 |  99320000 | 102120000 | Knight_eQTL_brain | enet  | TRUE | FALSE | ... | -2.903662 | 0.003688264 | eQTL | chr10_100331627_104378781 | chr10_100331627_104378781 | KNIGHT_eQTL_pQTL | KNIGHT_eQTL_pQTL.chr10_100331627_104378781.twas.tsv.gz | ENSG00000055950 | 146352 | 1 |\n",
       "| Telomere_pc1 | 10 | ENSG00000055950 | 100987514 |  99320000 | 102120000 | Knight_eQTL_brain | lasso | TRUE | FALSE | ... | -2.878534 | 0.003995280 | eQTL | chr10_100331627_104378781 | chr10_100331627_104378781 | KNIGHT_eQTL_pQTL | KNIGHT_eQTL_pQTL.chr10_100331627_104378781.twas.tsv.gz | ENSG00000055950 | 146352 | 1 |\n",
       "| Telomere_pc1 | 10 | ENSG00000055950 | 100987514 |  99320000 | 102120000 | Knight_eQTL_brain | mrash | TRUE | FALSE | ... | -2.963834 | 0.003038321 | eQTL | chr10_100331627_104378781 | chr10_100331627_104378781 | KNIGHT_eQTL_pQTL | KNIGHT_eQTL_pQTL.chr10_100331627_104378781.twas.tsv.gz | ENSG00000055950 | 146352 | 1 |\n",
       "| Telomere_pc1 | 10 | ENSG00000055950 | 100987514 |  99320000 | 102120000 | Knight_eQTL_brain | susie | TRUE |  TRUE | ... | -2.919076 | 0.003510708 | eQTL | chr10_100331627_104378781 | chr10_100331627_104378781 | KNIGHT_eQTL_pQTL | KNIGHT_eQTL_pQTL.chr10_100331627_104378781.twas.tsv.gz | ENSG00000055950 | 146352 | 1 |\n",
       "| Telomere_pc1 | 10 | ENSG00000059915 | 102421538 | 101402617 | 103680000 | Knight_eQTL_brain | enet  | TRUE | FALSE | ... |  2.351818 | 0.018681917 | eQTL | chr10_100331627_104378781 | chr10_100331627_104378781 | KNIGHT_eQTL_pQTL | KNIGHT_eQTL_pQTL.chr10_100331627_104378781.twas.tsv.gz | ENSG00000059915 | 146352 | 1 |\n",
       "| Telomere_pc1 | 10 | ENSG00000059915 | 102421538 | 101402617 | 103680000 | Knight_eQTL_brain | lasso | TRUE | FALSE | ... |  2.565091 | 0.010314876 | eQTL | chr10_100331627_104378781 | chr10_100331627_104378781 | KNIGHT_eQTL_pQTL | KNIGHT_eQTL_pQTL.chr10_100331627_104378781.twas.tsv.gz | ENSG00000059915 | 146352 | 1 |\n",
       "\n"
      ],
      "text/plain": [
       "  gwas_study   chr molecular_id    TSS       start     end      \n",
       "1 Telomere_pc1 10  ENSG00000055950 100987514  99320000 102120000\n",
       "2 Telomere_pc1 10  ENSG00000055950 100987514  99320000 102120000\n",
       "3 Telomere_pc1 10  ENSG00000055950 100987514  99320000 102120000\n",
       "4 Telomere_pc1 10  ENSG00000055950 100987514  99320000 102120000\n",
       "5 Telomere_pc1 10  ENSG00000059915 102421538 101402617 103680000\n",
       "6 Telomere_pc1 10  ENSG00000059915 102421538 101402617 103680000\n",
       "  context           method is_imputable is_selected_method ... twas_z   \n",
       "1 Knight_eQTL_brain enet   TRUE         FALSE              ... -2.903662\n",
       "2 Knight_eQTL_brain lasso  TRUE         FALSE              ... -2.878534\n",
       "3 Knight_eQTL_brain mrash  TRUE         FALSE              ... -2.963834\n",
       "4 Knight_eQTL_brain susie  TRUE          TRUE              ... -2.919076\n",
       "5 Knight_eQTL_brain enet   TRUE         FALSE              ...  2.351818\n",
       "6 Knight_eQTL_brain lasso  TRUE         FALSE              ...  2.565091\n",
       "  twas_pval   type block                     region                   \n",
       "1 0.003688264 eQTL chr10_100331627_104378781 chr10_100331627_104378781\n",
       "2 0.003995280 eQTL chr10_100331627_104378781 chr10_100331627_104378781\n",
       "3 0.003038321 eQTL chr10_100331627_104378781 chr10_100331627_104378781\n",
       "4 0.003510708 eQTL chr10_100331627_104378781 chr10_100331627_104378781\n",
       "5 0.018681917 eQTL chr10_100331627_104378781 chr10_100331627_104378781\n",
       "6 0.010314876 eQTL chr10_100331627_104378781 chr10_100331627_104378781\n",
       "  study_context    source_file                                           \n",
       "1 KNIGHT_eQTL_pQTL KNIGHT_eQTL_pQTL.chr10_100331627_104378781.twas.tsv.gz\n",
       "2 KNIGHT_eQTL_pQTL KNIGHT_eQTL_pQTL.chr10_100331627_104378781.twas.tsv.gz\n",
       "3 KNIGHT_eQTL_pQTL KNIGHT_eQTL_pQTL.chr10_100331627_104378781.twas.tsv.gz\n",
       "4 KNIGHT_eQTL_pQTL KNIGHT_eQTL_pQTL.chr10_100331627_104378781.twas.tsv.gz\n",
       "5 KNIGHT_eQTL_pQTL KNIGHT_eQTL_pQTL.chr10_100331627_104378781.twas.tsv.gz\n",
       "6 KNIGHT_eQTL_pQTL KNIGHT_eQTL_pQTL.chr10_100331627_104378781.twas.tsv.gz\n",
       "  gene_id         N      twas_pval_bonf\n",
       "1 ENSG00000055950 146352 1             \n",
       "2 ENSG00000055950 146352 1             \n",
       "3 ENSG00000055950 146352 1             \n",
       "4 ENSG00000055950 146352 1             \n",
       "5 ENSG00000059915 146352 1             \n",
       "6 ENSG00000059915 146352 1             "
      ]
     },
     "metadata": {},
     "output_type": "display_data"
    },
    {
     "data": {
      "text/html": [
       "<style>\n",
       ".list-inline {list-style: none; margin:0; padding: 0}\n",
       ".list-inline>li {display: inline-block}\n",
       ".list-inline>li:not(:last-child)::after {content: \"\\00b7\"; padding: 0 .5ex}\n",
       "</style>\n",
       "<ol class=list-inline><li>922426</li><li>22</li></ol>\n"
      ],
      "text/latex": [
       "\\begin{enumerate*}\n",
       "\\item 922426\n",
       "\\item 22\n",
       "\\end{enumerate*}\n"
      ],
      "text/markdown": [
       "1. 922426\n",
       "2. 22\n",
       "\n",
       "\n"
      ],
      "text/plain": [
       "[1] 922426     22"
      ]
     },
     "metadata": {},
     "output_type": "display_data"
    }
   ],
   "source": [
    "head(TL1)\n",
    "dim(TL1)"
   ]
  },
  {
   "cell_type": "code",
   "execution_count": 14,
   "id": "85c20973-848c-467e-9ccd-516662f218d0",
   "metadata": {},
   "outputs": [
    {
     "data": {
      "text/html": [
       "<style>\n",
       ".list-inline {list-style: none; margin:0; padding: 0}\n",
       ".list-inline>li {display: inline-block}\n",
       ".list-inline>li:not(:last-child)::after {content: \"\\00b7\"; padding: 0 .5ex}\n",
       "</style>\n",
       "<ol class=list-inline><li>922426</li><li>22</li></ol>\n"
      ],
      "text/latex": [
       "\\begin{enumerate*}\n",
       "\\item 922426\n",
       "\\item 22\n",
       "\\end{enumerate*}\n"
      ],
      "text/markdown": [
       "1. 922426\n",
       "2. 22\n",
       "\n",
       "\n"
      ],
      "text/plain": [
       "[1] 922426     22"
      ]
     },
     "metadata": {},
     "output_type": "display_data"
    }
   ],
   "source": [
    "dim(unique(TL1))"
   ]
  },
  {
   "cell_type": "code",
   "execution_count": 15,
   "id": "527d49db-96ce-4974-b7b1-182342ab3c81",
   "metadata": {},
   "outputs": [
    {
     "data": {
      "text/html": [
       "1052"
      ],
      "text/latex": [
       "1052"
      ],
      "text/markdown": [
       "1052"
      ],
      "text/plain": [
       "[1] 1052"
      ]
     },
     "metadata": {},
     "output_type": "display_data"
    }
   ],
   "source": [
    "sig_TL1 = TL1 |> filter(is_selected_method, twas_pval_bonf < 0.05) \n",
    "length(unique(sig_TL1$molecular_id))"
   ]
  },
  {
   "cell_type": "code",
   "execution_count": 16,
   "id": "7ca229a6-64b9-4636-9b8f-4753e8c6c6b4",
   "metadata": {},
   "outputs": [],
   "source": [
    "TL1_gene_list = sig_TL1 |> mutate(`#chr` = paste0(\"chr\", chr), gene_id = molecular_id)|>select(`#chr`, start, end, gene_id) |> unique()"
   ]
  },
  {
   "cell_type": "code",
   "execution_count": 17,
   "id": "6c3ba16a-28af-4f0e-bc34-cd142e9b94c8",
   "metadata": {},
   "outputs": [
    {
     "data": {
      "text/html": [
       "<style>\n",
       ".list-inline {list-style: none; margin:0; padding: 0}\n",
       ".list-inline>li {display: inline-block}\n",
       ".list-inline>li:not(:last-child)::after {content: \"\\00b7\"; padding: 0 .5ex}\n",
       "</style>\n",
       "<ol class=list-inline><li>1052</li><li>4</li></ol>\n"
      ],
      "text/latex": [
       "\\begin{enumerate*}\n",
       "\\item 1052\n",
       "\\item 4\n",
       "\\end{enumerate*}\n"
      ],
      "text/markdown": [
       "1. 1052\n",
       "2. 4\n",
       "\n",
       "\n"
      ],
      "text/plain": [
       "[1] 1052    4"
      ]
     },
     "metadata": {},
     "output_type": "display_data"
    }
   ],
   "source": [
    "dim(TL1_gene_list)"
   ]
  },
  {
   "cell_type": "code",
   "execution_count": 18,
   "id": "4ac5120e-594e-4739-9d11-3485a68eb2ee",
   "metadata": {},
   "outputs": [],
   "source": [
    "Aging_QTL_gene = fread(\"~/project/image_QTL/twas/annotated_Aging_gene.tsv\")\n"
   ]
  },
  {
   "cell_type": "code",
   "execution_count": 19,
   "id": "4f683a95-967b-441e-b217-95b1b7bea06c",
   "metadata": {},
   "outputs": [],
   "source": [
    "TL1_QTL_gene = Aging_QTL_gene |> filter(str_detect(event_ID, \"Telomere_pc1\")) |> select(-strand,-event_ID)\n",
    "                                        "
   ]
  },
  {
   "cell_type": "code",
   "execution_count": 20,
   "id": "59a17b02-00a0-4c61-a0e7-7ba6891b64b2",
   "metadata": {},
   "outputs": [],
   "source": [
    "TL1_gene = bind_rows(TL1_gene_list, TL1_QTL_gene)"
   ]
  },
  {
   "cell_type": "code",
   "execution_count": 21,
   "id": "911d73be-3919-46e5-a221-78eb87e054f6",
   "metadata": {},
   "outputs": [],
   "source": [
    "fwrite(TL1_gene, \"TL1_gene_list.tsv\", sep = '\\t')"
   ]
  },
  {
   "cell_type": "markdown",
   "id": "8d2e59b1-af37-45ae-8d4f-26e61049b3c5",
   "metadata": {},
   "source": [
    "## image_AD1"
   ]
  },
  {
   "cell_type": "code",
   "execution_count": 22,
   "id": "ca7552ab-8a69-4041-90b0-a22492eb6235",
   "metadata": {},
   "outputs": [],
   "source": [
    "image_AD1 <- fread(\"~/project/image_QTL/twas/multiple_testing/image_AD1_twas_bonff.bonf_corrected.tsv.gz\")"
   ]
  },
  {
   "cell_type": "code",
   "execution_count": 23,
   "id": "1af8faf7-90b8-4a46-8e6a-aa189aee1a8a",
   "metadata": {},
   "outputs": [
    {
     "data": {
      "text/html": [
       "<table class=\"dataframe\">\n",
       "<caption>A data.table: 6 x 22</caption>\n",
       "<thead>\n",
       "\t<tr><th scope=col>gwas_study</th><th scope=col>chr</th><th scope=col>molecular_id</th><th scope=col>TSS</th><th scope=col>start</th><th scope=col>end</th><th scope=col>context</th><th scope=col>method</th><th scope=col>is_imputable</th><th scope=col>is_selected_method</th><th scope=col>...</th><th scope=col>twas_z</th><th scope=col>twas_pval</th><th scope=col>type</th><th scope=col>block</th><th scope=col>region</th><th scope=col>study_context</th><th scope=col>source_file</th><th scope=col>gene_id</th><th scope=col>N</th><th scope=col>twas_pval_bonf</th></tr>\n",
       "\t<tr><th scope=col>&lt;chr&gt;</th><th scope=col>&lt;int&gt;</th><th scope=col>&lt;chr&gt;</th><th scope=col>&lt;int&gt;</th><th scope=col>&lt;int&gt;</th><th scope=col>&lt;int&gt;</th><th scope=col>&lt;chr&gt;</th><th scope=col>&lt;chr&gt;</th><th scope=col>&lt;lgl&gt;</th><th scope=col>&lt;lgl&gt;</th><th scope=col>...</th><th scope=col>&lt;dbl&gt;</th><th scope=col>&lt;dbl&gt;</th><th scope=col>&lt;chr&gt;</th><th scope=col>&lt;chr&gt;</th><th scope=col>&lt;chr&gt;</th><th scope=col>&lt;chr&gt;</th><th scope=col>&lt;chr&gt;</th><th scope=col>&lt;chr&gt;</th><th scope=col>&lt;int&gt;</th><th scope=col>&lt;dbl&gt;</th></tr>\n",
       "</thead>\n",
       "<tbody>\n",
       "\t<tr><td>image_AD1</td><td>10</td><td>ENSG00000055950</td><td>100987514</td><td> 99320000</td><td>102120000</td><td>Knight_eQTL_brain</td><td>enet </td><td>TRUE</td><td>FALSE</td><td>...</td><td> 0.4604784</td><td>0.6451729061</td><td>eQTL</td><td>chr10_100331627_104378781</td><td>chr10_100331627_104378781</td><td>KNIGHT_eQTL_pQTL</td><td>KNIGHT_eQTL_pQTL.chr10_100331627_104378781.twas.tsv.gz</td><td>ENSG00000055950</td><td>146774</td><td>1</td></tr>\n",
       "\t<tr><td>image_AD1</td><td>10</td><td>ENSG00000055950</td><td>100987514</td><td> 99320000</td><td>102120000</td><td>Knight_eQTL_brain</td><td>lasso</td><td>TRUE</td><td>FALSE</td><td>...</td><td> 0.4628714</td><td>0.6434565734</td><td>eQTL</td><td>chr10_100331627_104378781</td><td>chr10_100331627_104378781</td><td>KNIGHT_eQTL_pQTL</td><td>KNIGHT_eQTL_pQTL.chr10_100331627_104378781.twas.tsv.gz</td><td>ENSG00000055950</td><td>146774</td><td>1</td></tr>\n",
       "\t<tr><td>image_AD1</td><td>10</td><td>ENSG00000055950</td><td>100987514</td><td> 99320000</td><td>102120000</td><td>Knight_eQTL_brain</td><td>mrash</td><td>TRUE</td><td>FALSE</td><td>...</td><td> 0.6389774</td><td>0.5228376549</td><td>eQTL</td><td>chr10_100331627_104378781</td><td>chr10_100331627_104378781</td><td>KNIGHT_eQTL_pQTL</td><td>KNIGHT_eQTL_pQTL.chr10_100331627_104378781.twas.tsv.gz</td><td>ENSG00000055950</td><td>146774</td><td>1</td></tr>\n",
       "\t<tr><td>image_AD1</td><td>10</td><td>ENSG00000055950</td><td>100987514</td><td> 99320000</td><td>102120000</td><td>Knight_eQTL_brain</td><td>susie</td><td>TRUE</td><td> TRUE</td><td>...</td><td> 0.4641349</td><td>0.6425511004</td><td>eQTL</td><td>chr10_100331627_104378781</td><td>chr10_100331627_104378781</td><td>KNIGHT_eQTL_pQTL</td><td>KNIGHT_eQTL_pQTL.chr10_100331627_104378781.twas.tsv.gz</td><td>ENSG00000055950</td><td>146774</td><td>1</td></tr>\n",
       "\t<tr><td>image_AD1</td><td>10</td><td>ENSG00000059915</td><td>102421538</td><td>101402617</td><td>103680000</td><td>Knight_eQTL_brain</td><td>enet </td><td>TRUE</td><td>FALSE</td><td>...</td><td>-3.5326758</td><td>0.0004113766</td><td>eQTL</td><td>chr10_100331627_104378781</td><td>chr10_100331627_104378781</td><td>KNIGHT_eQTL_pQTL</td><td>KNIGHT_eQTL_pQTL.chr10_100331627_104378781.twas.tsv.gz</td><td>ENSG00000059915</td><td>146774</td><td>1</td></tr>\n",
       "\t<tr><td>image_AD1</td><td>10</td><td>ENSG00000059915</td><td>102421538</td><td>101402617</td><td>103680000</td><td>Knight_eQTL_brain</td><td>lasso</td><td>TRUE</td><td>FALSE</td><td>...</td><td>-3.4892189</td><td>0.0004844343</td><td>eQTL</td><td>chr10_100331627_104378781</td><td>chr10_100331627_104378781</td><td>KNIGHT_eQTL_pQTL</td><td>KNIGHT_eQTL_pQTL.chr10_100331627_104378781.twas.tsv.gz</td><td>ENSG00000059915</td><td>146774</td><td>1</td></tr>\n",
       "</tbody>\n",
       "</table>\n"
      ],
      "text/latex": [
       "A data.table: 6 x 22\n",
       "\\begin{tabular}{lllllllllllllllllllll}\n",
       " gwas\\_study & chr & molecular\\_id & TSS & start & end & context & method & is\\_imputable & is\\_selected\\_method & ... & twas\\_z & twas\\_pval & type & block & region & study\\_context & source\\_file & gene\\_id & N & twas\\_pval\\_bonf\\\\\n",
       " <chr> & <int> & <chr> & <int> & <int> & <int> & <chr> & <chr> & <lgl> & <lgl> & ... & <dbl> & <dbl> & <chr> & <chr> & <chr> & <chr> & <chr> & <chr> & <int> & <dbl>\\\\\n",
       "\\hline\n",
       "\t image\\_AD1 & 10 & ENSG00000055950 & 100987514 &  99320000 & 102120000 & Knight\\_eQTL\\_brain & enet  & TRUE & FALSE & ... &  0.4604784 & 0.6451729061 & eQTL & chr10\\_100331627\\_104378781 & chr10\\_100331627\\_104378781 & KNIGHT\\_eQTL\\_pQTL & KNIGHT\\_eQTL\\_pQTL.chr10\\_100331627\\_104378781.twas.tsv.gz & ENSG00000055950 & 146774 & 1\\\\\n",
       "\t image\\_AD1 & 10 & ENSG00000055950 & 100987514 &  99320000 & 102120000 & Knight\\_eQTL\\_brain & lasso & TRUE & FALSE & ... &  0.4628714 & 0.6434565734 & eQTL & chr10\\_100331627\\_104378781 & chr10\\_100331627\\_104378781 & KNIGHT\\_eQTL\\_pQTL & KNIGHT\\_eQTL\\_pQTL.chr10\\_100331627\\_104378781.twas.tsv.gz & ENSG00000055950 & 146774 & 1\\\\\n",
       "\t image\\_AD1 & 10 & ENSG00000055950 & 100987514 &  99320000 & 102120000 & Knight\\_eQTL\\_brain & mrash & TRUE & FALSE & ... &  0.6389774 & 0.5228376549 & eQTL & chr10\\_100331627\\_104378781 & chr10\\_100331627\\_104378781 & KNIGHT\\_eQTL\\_pQTL & KNIGHT\\_eQTL\\_pQTL.chr10\\_100331627\\_104378781.twas.tsv.gz & ENSG00000055950 & 146774 & 1\\\\\n",
       "\t image\\_AD1 & 10 & ENSG00000055950 & 100987514 &  99320000 & 102120000 & Knight\\_eQTL\\_brain & susie & TRUE &  TRUE & ... &  0.4641349 & 0.6425511004 & eQTL & chr10\\_100331627\\_104378781 & chr10\\_100331627\\_104378781 & KNIGHT\\_eQTL\\_pQTL & KNIGHT\\_eQTL\\_pQTL.chr10\\_100331627\\_104378781.twas.tsv.gz & ENSG00000055950 & 146774 & 1\\\\\n",
       "\t image\\_AD1 & 10 & ENSG00000059915 & 102421538 & 101402617 & 103680000 & Knight\\_eQTL\\_brain & enet  & TRUE & FALSE & ... & -3.5326758 & 0.0004113766 & eQTL & chr10\\_100331627\\_104378781 & chr10\\_100331627\\_104378781 & KNIGHT\\_eQTL\\_pQTL & KNIGHT\\_eQTL\\_pQTL.chr10\\_100331627\\_104378781.twas.tsv.gz & ENSG00000059915 & 146774 & 1\\\\\n",
       "\t image\\_AD1 & 10 & ENSG00000059915 & 102421538 & 101402617 & 103680000 & Knight\\_eQTL\\_brain & lasso & TRUE & FALSE & ... & -3.4892189 & 0.0004844343 & eQTL & chr10\\_100331627\\_104378781 & chr10\\_100331627\\_104378781 & KNIGHT\\_eQTL\\_pQTL & KNIGHT\\_eQTL\\_pQTL.chr10\\_100331627\\_104378781.twas.tsv.gz & ENSG00000059915 & 146774 & 1\\\\\n",
       "\\end{tabular}\n"
      ],
      "text/markdown": [
       "\n",
       "A data.table: 6 x 22\n",
       "\n",
       "| gwas_study &lt;chr&gt; | chr &lt;int&gt; | molecular_id &lt;chr&gt; | TSS &lt;int&gt; | start &lt;int&gt; | end &lt;int&gt; | context &lt;chr&gt; | method &lt;chr&gt; | is_imputable &lt;lgl&gt; | is_selected_method &lt;lgl&gt; | ... ... | twas_z &lt;dbl&gt; | twas_pval &lt;dbl&gt; | type &lt;chr&gt; | block &lt;chr&gt; | region &lt;chr&gt; | study_context &lt;chr&gt; | source_file &lt;chr&gt; | gene_id &lt;chr&gt; | N &lt;int&gt; | twas_pval_bonf &lt;dbl&gt; |\n",
       "|---|---|---|---|---|---|---|---|---|---|---|---|---|---|---|---|---|---|---|---|---|\n",
       "| image_AD1 | 10 | ENSG00000055950 | 100987514 |  99320000 | 102120000 | Knight_eQTL_brain | enet  | TRUE | FALSE | ... |  0.4604784 | 0.6451729061 | eQTL | chr10_100331627_104378781 | chr10_100331627_104378781 | KNIGHT_eQTL_pQTL | KNIGHT_eQTL_pQTL.chr10_100331627_104378781.twas.tsv.gz | ENSG00000055950 | 146774 | 1 |\n",
       "| image_AD1 | 10 | ENSG00000055950 | 100987514 |  99320000 | 102120000 | Knight_eQTL_brain | lasso | TRUE | FALSE | ... |  0.4628714 | 0.6434565734 | eQTL | chr10_100331627_104378781 | chr10_100331627_104378781 | KNIGHT_eQTL_pQTL | KNIGHT_eQTL_pQTL.chr10_100331627_104378781.twas.tsv.gz | ENSG00000055950 | 146774 | 1 |\n",
       "| image_AD1 | 10 | ENSG00000055950 | 100987514 |  99320000 | 102120000 | Knight_eQTL_brain | mrash | TRUE | FALSE | ... |  0.6389774 | 0.5228376549 | eQTL | chr10_100331627_104378781 | chr10_100331627_104378781 | KNIGHT_eQTL_pQTL | KNIGHT_eQTL_pQTL.chr10_100331627_104378781.twas.tsv.gz | ENSG00000055950 | 146774 | 1 |\n",
       "| image_AD1 | 10 | ENSG00000055950 | 100987514 |  99320000 | 102120000 | Knight_eQTL_brain | susie | TRUE |  TRUE | ... |  0.4641349 | 0.6425511004 | eQTL | chr10_100331627_104378781 | chr10_100331627_104378781 | KNIGHT_eQTL_pQTL | KNIGHT_eQTL_pQTL.chr10_100331627_104378781.twas.tsv.gz | ENSG00000055950 | 146774 | 1 |\n",
       "| image_AD1 | 10 | ENSG00000059915 | 102421538 | 101402617 | 103680000 | Knight_eQTL_brain | enet  | TRUE | FALSE | ... | -3.5326758 | 0.0004113766 | eQTL | chr10_100331627_104378781 | chr10_100331627_104378781 | KNIGHT_eQTL_pQTL | KNIGHT_eQTL_pQTL.chr10_100331627_104378781.twas.tsv.gz | ENSG00000059915 | 146774 | 1 |\n",
       "| image_AD1 | 10 | ENSG00000059915 | 102421538 | 101402617 | 103680000 | Knight_eQTL_brain | lasso | TRUE | FALSE | ... | -3.4892189 | 0.0004844343 | eQTL | chr10_100331627_104378781 | chr10_100331627_104378781 | KNIGHT_eQTL_pQTL | KNIGHT_eQTL_pQTL.chr10_100331627_104378781.twas.tsv.gz | ENSG00000059915 | 146774 | 1 |\n",
       "\n"
      ],
      "text/plain": [
       "  gwas_study chr molecular_id    TSS       start     end      \n",
       "1 image_AD1  10  ENSG00000055950 100987514  99320000 102120000\n",
       "2 image_AD1  10  ENSG00000055950 100987514  99320000 102120000\n",
       "3 image_AD1  10  ENSG00000055950 100987514  99320000 102120000\n",
       "4 image_AD1  10  ENSG00000055950 100987514  99320000 102120000\n",
       "5 image_AD1  10  ENSG00000059915 102421538 101402617 103680000\n",
       "6 image_AD1  10  ENSG00000059915 102421538 101402617 103680000\n",
       "  context           method is_imputable is_selected_method ... twas_z    \n",
       "1 Knight_eQTL_brain enet   TRUE         FALSE              ...  0.4604784\n",
       "2 Knight_eQTL_brain lasso  TRUE         FALSE              ...  0.4628714\n",
       "3 Knight_eQTL_brain mrash  TRUE         FALSE              ...  0.6389774\n",
       "4 Knight_eQTL_brain susie  TRUE          TRUE              ...  0.4641349\n",
       "5 Knight_eQTL_brain enet   TRUE         FALSE              ... -3.5326758\n",
       "6 Knight_eQTL_brain lasso  TRUE         FALSE              ... -3.4892189\n",
       "  twas_pval    type block                     region                   \n",
       "1 0.6451729061 eQTL chr10_100331627_104378781 chr10_100331627_104378781\n",
       "2 0.6434565734 eQTL chr10_100331627_104378781 chr10_100331627_104378781\n",
       "3 0.5228376549 eQTL chr10_100331627_104378781 chr10_100331627_104378781\n",
       "4 0.6425511004 eQTL chr10_100331627_104378781 chr10_100331627_104378781\n",
       "5 0.0004113766 eQTL chr10_100331627_104378781 chr10_100331627_104378781\n",
       "6 0.0004844343 eQTL chr10_100331627_104378781 chr10_100331627_104378781\n",
       "  study_context    source_file                                           \n",
       "1 KNIGHT_eQTL_pQTL KNIGHT_eQTL_pQTL.chr10_100331627_104378781.twas.tsv.gz\n",
       "2 KNIGHT_eQTL_pQTL KNIGHT_eQTL_pQTL.chr10_100331627_104378781.twas.tsv.gz\n",
       "3 KNIGHT_eQTL_pQTL KNIGHT_eQTL_pQTL.chr10_100331627_104378781.twas.tsv.gz\n",
       "4 KNIGHT_eQTL_pQTL KNIGHT_eQTL_pQTL.chr10_100331627_104378781.twas.tsv.gz\n",
       "5 KNIGHT_eQTL_pQTL KNIGHT_eQTL_pQTL.chr10_100331627_104378781.twas.tsv.gz\n",
       "6 KNIGHT_eQTL_pQTL KNIGHT_eQTL_pQTL.chr10_100331627_104378781.twas.tsv.gz\n",
       "  gene_id         N      twas_pval_bonf\n",
       "1 ENSG00000055950 146774 1             \n",
       "2 ENSG00000055950 146774 1             \n",
       "3 ENSG00000055950 146774 1             \n",
       "4 ENSG00000055950 146774 1             \n",
       "5 ENSG00000059915 146774 1             \n",
       "6 ENSG00000059915 146774 1             "
      ]
     },
     "metadata": {},
     "output_type": "display_data"
    },
    {
     "data": {
      "text/html": [
       "<style>\n",
       ".list-inline {list-style: none; margin:0; padding: 0}\n",
       ".list-inline>li {display: inline-block}\n",
       ".list-inline>li:not(:last-child)::after {content: \"\\00b7\"; padding: 0 .5ex}\n",
       "</style>\n",
       "<ol class=list-inline><li>927133</li><li>22</li></ol>\n"
      ],
      "text/latex": [
       "\\begin{enumerate*}\n",
       "\\item 927133\n",
       "\\item 22\n",
       "\\end{enumerate*}\n"
      ],
      "text/markdown": [
       "1. 927133\n",
       "2. 22\n",
       "\n",
       "\n"
      ],
      "text/plain": [
       "[1] 927133     22"
      ]
     },
     "metadata": {},
     "output_type": "display_data"
    }
   ],
   "source": [
    "head(image_AD1)\n",
    "dim(image_AD1)"
   ]
  },
  {
   "cell_type": "code",
   "execution_count": 24,
   "id": "11463ea9-f5e2-49bf-9abb-3aa0e0ae42d1",
   "metadata": {},
   "outputs": [
    {
     "data": {
      "text/html": [
       "26"
      ],
      "text/latex": [
       "26"
      ],
      "text/markdown": [
       "26"
      ],
      "text/plain": [
       "[1] 26"
      ]
     },
     "metadata": {},
     "output_type": "display_data"
    }
   ],
   "source": [
    "sig_image_AD1 = image_AD1 |> filter(is_selected_method, twas_pval_bonf < 0.05) \n",
    "length(unique(sig_image_AD1$molecular_id))"
   ]
  },
  {
   "cell_type": "code",
   "execution_count": 25,
   "id": "4016db6b-c69b-475a-b7b9-312a16c933d7",
   "metadata": {},
   "outputs": [],
   "source": [
    "image_AD1_gene_list = sig_image_AD1 |> mutate(`#chr` = paste0(\"chr\", chr), gene_id = molecular_id)|>select(`#chr`, start, end, gene_id) |> unique()"
   ]
  },
  {
   "cell_type": "code",
   "execution_count": 26,
   "id": "8481341d-668d-4682-af45-8ef6ccd22df6",
   "metadata": {},
   "outputs": [
    {
     "data": {
      "text/html": [
       "<style>\n",
       ".list-inline {list-style: none; margin:0; padding: 0}\n",
       ".list-inline>li {display: inline-block}\n",
       ".list-inline>li:not(:last-child)::after {content: \"\\00b7\"; padding: 0 .5ex}\n",
       "</style>\n",
       "<ol class=list-inline><li>26</li><li>4</li></ol>\n"
      ],
      "text/latex": [
       "\\begin{enumerate*}\n",
       "\\item 26\n",
       "\\item 4\n",
       "\\end{enumerate*}\n"
      ],
      "text/markdown": [
       "1. 26\n",
       "2. 4\n",
       "\n",
       "\n"
      ],
      "text/plain": [
       "[1] 26  4"
      ]
     },
     "metadata": {},
     "output_type": "display_data"
    }
   ],
   "source": [
    "dim(image_AD1_gene_list)"
   ]
  },
  {
   "cell_type": "code",
   "execution_count": 27,
   "id": "eb2f725a-8929-4d49-9813-befd40918c9f",
   "metadata": {},
   "outputs": [],
   "source": [
    "DNE_QTL_gene = fread(\"~/project/image_QTL/twas/annotated_dne_gene.tsv\")\n"
   ]
  },
  {
   "cell_type": "code",
   "execution_count": 28,
   "id": "0952a0ce-ec79-450d-8f9a-066636e3d83b",
   "metadata": {},
   "outputs": [],
   "source": [
    "image_AD1_QTL_gene = DNE_QTL_gene |> filter(str_detect(event_ID, \"image_AD1\")) |> select(-strand,-event_ID)\n",
    "                                        "
   ]
  },
  {
   "cell_type": "code",
   "execution_count": 29,
   "id": "58364fe9-cf8b-4615-a6a0-11788241788b",
   "metadata": {},
   "outputs": [],
   "source": [
    "image_AD1_gene = bind_rows(image_AD1_gene_list, image_AD1_QTL_gene)"
   ]
  },
  {
   "cell_type": "code",
   "execution_count": 30,
   "id": "32ea1029-5ef6-4919-a54e-0f42da942cc1",
   "metadata": {},
   "outputs": [],
   "source": [
    "fwrite(image_AD1_gene, \"image_AD1_gene_list.tsv\", sep = '\\t')"
   ]
  },
  {
   "cell_type": "markdown",
   "id": "bcccbb93-6d50-45cb-b7d6-3a3ccfe6a8bb",
   "metadata": {},
   "source": [
    "## image_AD2"
   ]
  },
  {
   "cell_type": "code",
   "execution_count": 31,
   "id": "8dc3d9a5-0078-49b9-bae7-7a6ea6cf5d13",
   "metadata": {},
   "outputs": [],
   "source": [
    "image_AD2 <- fread(\"~/project/image_QTL/twas/multiple_testing/image_AD2_twas_bonff.bonf_corrected.tsv.gz\")"
   ]
  },
  {
   "cell_type": "code",
   "execution_count": 32,
   "id": "a4a6fdb6-adda-4040-bc01-4f667059b42f",
   "metadata": {},
   "outputs": [
    {
     "data": {
      "text/html": [
       "<table class=\"dataframe\">\n",
       "<caption>A data.table: 6 x 22</caption>\n",
       "<thead>\n",
       "\t<tr><th scope=col>gwas_study</th><th scope=col>chr</th><th scope=col>molecular_id</th><th scope=col>TSS</th><th scope=col>start</th><th scope=col>end</th><th scope=col>context</th><th scope=col>method</th><th scope=col>is_imputable</th><th scope=col>is_selected_method</th><th scope=col>...</th><th scope=col>twas_z</th><th scope=col>twas_pval</th><th scope=col>type</th><th scope=col>block</th><th scope=col>region</th><th scope=col>study_context</th><th scope=col>source_file</th><th scope=col>gene_id</th><th scope=col>N</th><th scope=col>twas_pval_bonf</th></tr>\n",
       "\t<tr><th scope=col>&lt;chr&gt;</th><th scope=col>&lt;int&gt;</th><th scope=col>&lt;chr&gt;</th><th scope=col>&lt;int&gt;</th><th scope=col>&lt;int&gt;</th><th scope=col>&lt;int&gt;</th><th scope=col>&lt;chr&gt;</th><th scope=col>&lt;chr&gt;</th><th scope=col>&lt;lgl&gt;</th><th scope=col>&lt;lgl&gt;</th><th scope=col>...</th><th scope=col>&lt;dbl&gt;</th><th scope=col>&lt;dbl&gt;</th><th scope=col>&lt;chr&gt;</th><th scope=col>&lt;chr&gt;</th><th scope=col>&lt;chr&gt;</th><th scope=col>&lt;chr&gt;</th><th scope=col>&lt;chr&gt;</th><th scope=col>&lt;chr&gt;</th><th scope=col>&lt;int&gt;</th><th scope=col>&lt;dbl&gt;</th></tr>\n",
       "</thead>\n",
       "<tbody>\n",
       "\t<tr><td>image_AD2</td><td>10</td><td>ENSG00000055950</td><td>100987514</td><td> 99320000</td><td>102120000</td><td>Knight_eQTL_brain</td><td>enet </td><td>TRUE</td><td>FALSE</td><td>...</td><td>2.492697</td><td>0.01267771</td><td>eQTL</td><td>chr10_100331627_104378781</td><td>chr10_100331627_104378781</td><td>KNIGHT_eQTL_pQTL</td><td>KNIGHT_eQTL_pQTL.chr10_100331627_104378781.twas.tsv.gz</td><td>ENSG00000055950</td><td>143798</td><td>1</td></tr>\n",
       "\t<tr><td>image_AD2</td><td>10</td><td>ENSG00000055950</td><td>100987514</td><td> 99320000</td><td>102120000</td><td>Knight_eQTL_brain</td><td>lasso</td><td>TRUE</td><td>FALSE</td><td>...</td><td>2.475217</td><td>0.01331554</td><td>eQTL</td><td>chr10_100331627_104378781</td><td>chr10_100331627_104378781</td><td>KNIGHT_eQTL_pQTL</td><td>KNIGHT_eQTL_pQTL.chr10_100331627_104378781.twas.tsv.gz</td><td>ENSG00000055950</td><td>143798</td><td>1</td></tr>\n",
       "\t<tr><td>image_AD2</td><td>10</td><td>ENSG00000055950</td><td>100987514</td><td> 99320000</td><td>102120000</td><td>Knight_eQTL_brain</td><td>mrash</td><td>TRUE</td><td>FALSE</td><td>...</td><td>2.493315</td><td>0.01265565</td><td>eQTL</td><td>chr10_100331627_104378781</td><td>chr10_100331627_104378781</td><td>KNIGHT_eQTL_pQTL</td><td>KNIGHT_eQTL_pQTL.chr10_100331627_104378781.twas.tsv.gz</td><td>ENSG00000055950</td><td>143798</td><td>1</td></tr>\n",
       "\t<tr><td>image_AD2</td><td>10</td><td>ENSG00000055950</td><td>100987514</td><td> 99320000</td><td>102120000</td><td>Knight_eQTL_brain</td><td>susie</td><td>TRUE</td><td> TRUE</td><td>...</td><td>2.505183</td><td>0.01223882</td><td>eQTL</td><td>chr10_100331627_104378781</td><td>chr10_100331627_104378781</td><td>KNIGHT_eQTL_pQTL</td><td>KNIGHT_eQTL_pQTL.chr10_100331627_104378781.twas.tsv.gz</td><td>ENSG00000055950</td><td>143798</td><td>1</td></tr>\n",
       "\t<tr><td>image_AD2</td><td>10</td><td>ENSG00000059915</td><td>102421538</td><td>101402617</td><td>103680000</td><td>Knight_eQTL_brain</td><td>enet </td><td>TRUE</td><td>FALSE</td><td>...</td><td>1.830248</td><td>0.06721286</td><td>eQTL</td><td>chr10_100331627_104378781</td><td>chr10_100331627_104378781</td><td>KNIGHT_eQTL_pQTL</td><td>KNIGHT_eQTL_pQTL.chr10_100331627_104378781.twas.tsv.gz</td><td>ENSG00000059915</td><td>143798</td><td>1</td></tr>\n",
       "\t<tr><td>image_AD2</td><td>10</td><td>ENSG00000059915</td><td>102421538</td><td>101402617</td><td>103680000</td><td>Knight_eQTL_brain</td><td>lasso</td><td>TRUE</td><td>FALSE</td><td>...</td><td>1.827701</td><td>0.06759438</td><td>eQTL</td><td>chr10_100331627_104378781</td><td>chr10_100331627_104378781</td><td>KNIGHT_eQTL_pQTL</td><td>KNIGHT_eQTL_pQTL.chr10_100331627_104378781.twas.tsv.gz</td><td>ENSG00000059915</td><td>143798</td><td>1</td></tr>\n",
       "</tbody>\n",
       "</table>\n"
      ],
      "text/latex": [
       "A data.table: 6 x 22\n",
       "\\begin{tabular}{lllllllllllllllllllll}\n",
       " gwas\\_study & chr & molecular\\_id & TSS & start & end & context & method & is\\_imputable & is\\_selected\\_method & ... & twas\\_z & twas\\_pval & type & block & region & study\\_context & source\\_file & gene\\_id & N & twas\\_pval\\_bonf\\\\\n",
       " <chr> & <int> & <chr> & <int> & <int> & <int> & <chr> & <chr> & <lgl> & <lgl> & ... & <dbl> & <dbl> & <chr> & <chr> & <chr> & <chr> & <chr> & <chr> & <int> & <dbl>\\\\\n",
       "\\hline\n",
       "\t image\\_AD2 & 10 & ENSG00000055950 & 100987514 &  99320000 & 102120000 & Knight\\_eQTL\\_brain & enet  & TRUE & FALSE & ... & 2.492697 & 0.01267771 & eQTL & chr10\\_100331627\\_104378781 & chr10\\_100331627\\_104378781 & KNIGHT\\_eQTL\\_pQTL & KNIGHT\\_eQTL\\_pQTL.chr10\\_100331627\\_104378781.twas.tsv.gz & ENSG00000055950 & 143798 & 1\\\\\n",
       "\t image\\_AD2 & 10 & ENSG00000055950 & 100987514 &  99320000 & 102120000 & Knight\\_eQTL\\_brain & lasso & TRUE & FALSE & ... & 2.475217 & 0.01331554 & eQTL & chr10\\_100331627\\_104378781 & chr10\\_100331627\\_104378781 & KNIGHT\\_eQTL\\_pQTL & KNIGHT\\_eQTL\\_pQTL.chr10\\_100331627\\_104378781.twas.tsv.gz & ENSG00000055950 & 143798 & 1\\\\\n",
       "\t image\\_AD2 & 10 & ENSG00000055950 & 100987514 &  99320000 & 102120000 & Knight\\_eQTL\\_brain & mrash & TRUE & FALSE & ... & 2.493315 & 0.01265565 & eQTL & chr10\\_100331627\\_104378781 & chr10\\_100331627\\_104378781 & KNIGHT\\_eQTL\\_pQTL & KNIGHT\\_eQTL\\_pQTL.chr10\\_100331627\\_104378781.twas.tsv.gz & ENSG00000055950 & 143798 & 1\\\\\n",
       "\t image\\_AD2 & 10 & ENSG00000055950 & 100987514 &  99320000 & 102120000 & Knight\\_eQTL\\_brain & susie & TRUE &  TRUE & ... & 2.505183 & 0.01223882 & eQTL & chr10\\_100331627\\_104378781 & chr10\\_100331627\\_104378781 & KNIGHT\\_eQTL\\_pQTL & KNIGHT\\_eQTL\\_pQTL.chr10\\_100331627\\_104378781.twas.tsv.gz & ENSG00000055950 & 143798 & 1\\\\\n",
       "\t image\\_AD2 & 10 & ENSG00000059915 & 102421538 & 101402617 & 103680000 & Knight\\_eQTL\\_brain & enet  & TRUE & FALSE & ... & 1.830248 & 0.06721286 & eQTL & chr10\\_100331627\\_104378781 & chr10\\_100331627\\_104378781 & KNIGHT\\_eQTL\\_pQTL & KNIGHT\\_eQTL\\_pQTL.chr10\\_100331627\\_104378781.twas.tsv.gz & ENSG00000059915 & 143798 & 1\\\\\n",
       "\t image\\_AD2 & 10 & ENSG00000059915 & 102421538 & 101402617 & 103680000 & Knight\\_eQTL\\_brain & lasso & TRUE & FALSE & ... & 1.827701 & 0.06759438 & eQTL & chr10\\_100331627\\_104378781 & chr10\\_100331627\\_104378781 & KNIGHT\\_eQTL\\_pQTL & KNIGHT\\_eQTL\\_pQTL.chr10\\_100331627\\_104378781.twas.tsv.gz & ENSG00000059915 & 143798 & 1\\\\\n",
       "\\end{tabular}\n"
      ],
      "text/markdown": [
       "\n",
       "A data.table: 6 x 22\n",
       "\n",
       "| gwas_study &lt;chr&gt; | chr &lt;int&gt; | molecular_id &lt;chr&gt; | TSS &lt;int&gt; | start &lt;int&gt; | end &lt;int&gt; | context &lt;chr&gt; | method &lt;chr&gt; | is_imputable &lt;lgl&gt; | is_selected_method &lt;lgl&gt; | ... ... | twas_z &lt;dbl&gt; | twas_pval &lt;dbl&gt; | type &lt;chr&gt; | block &lt;chr&gt; | region &lt;chr&gt; | study_context &lt;chr&gt; | source_file &lt;chr&gt; | gene_id &lt;chr&gt; | N &lt;int&gt; | twas_pval_bonf &lt;dbl&gt; |\n",
       "|---|---|---|---|---|---|---|---|---|---|---|---|---|---|---|---|---|---|---|---|---|\n",
       "| image_AD2 | 10 | ENSG00000055950 | 100987514 |  99320000 | 102120000 | Knight_eQTL_brain | enet  | TRUE | FALSE | ... | 2.492697 | 0.01267771 | eQTL | chr10_100331627_104378781 | chr10_100331627_104378781 | KNIGHT_eQTL_pQTL | KNIGHT_eQTL_pQTL.chr10_100331627_104378781.twas.tsv.gz | ENSG00000055950 | 143798 | 1 |\n",
       "| image_AD2 | 10 | ENSG00000055950 | 100987514 |  99320000 | 102120000 | Knight_eQTL_brain | lasso | TRUE | FALSE | ... | 2.475217 | 0.01331554 | eQTL | chr10_100331627_104378781 | chr10_100331627_104378781 | KNIGHT_eQTL_pQTL | KNIGHT_eQTL_pQTL.chr10_100331627_104378781.twas.tsv.gz | ENSG00000055950 | 143798 | 1 |\n",
       "| image_AD2 | 10 | ENSG00000055950 | 100987514 |  99320000 | 102120000 | Knight_eQTL_brain | mrash | TRUE | FALSE | ... | 2.493315 | 0.01265565 | eQTL | chr10_100331627_104378781 | chr10_100331627_104378781 | KNIGHT_eQTL_pQTL | KNIGHT_eQTL_pQTL.chr10_100331627_104378781.twas.tsv.gz | ENSG00000055950 | 143798 | 1 |\n",
       "| image_AD2 | 10 | ENSG00000055950 | 100987514 |  99320000 | 102120000 | Knight_eQTL_brain | susie | TRUE |  TRUE | ... | 2.505183 | 0.01223882 | eQTL | chr10_100331627_104378781 | chr10_100331627_104378781 | KNIGHT_eQTL_pQTL | KNIGHT_eQTL_pQTL.chr10_100331627_104378781.twas.tsv.gz | ENSG00000055950 | 143798 | 1 |\n",
       "| image_AD2 | 10 | ENSG00000059915 | 102421538 | 101402617 | 103680000 | Knight_eQTL_brain | enet  | TRUE | FALSE | ... | 1.830248 | 0.06721286 | eQTL | chr10_100331627_104378781 | chr10_100331627_104378781 | KNIGHT_eQTL_pQTL | KNIGHT_eQTL_pQTL.chr10_100331627_104378781.twas.tsv.gz | ENSG00000059915 | 143798 | 1 |\n",
       "| image_AD2 | 10 | ENSG00000059915 | 102421538 | 101402617 | 103680000 | Knight_eQTL_brain | lasso | TRUE | FALSE | ... | 1.827701 | 0.06759438 | eQTL | chr10_100331627_104378781 | chr10_100331627_104378781 | KNIGHT_eQTL_pQTL | KNIGHT_eQTL_pQTL.chr10_100331627_104378781.twas.tsv.gz | ENSG00000059915 | 143798 | 1 |\n",
       "\n"
      ],
      "text/plain": [
       "  gwas_study chr molecular_id    TSS       start     end      \n",
       "1 image_AD2  10  ENSG00000055950 100987514  99320000 102120000\n",
       "2 image_AD2  10  ENSG00000055950 100987514  99320000 102120000\n",
       "3 image_AD2  10  ENSG00000055950 100987514  99320000 102120000\n",
       "4 image_AD2  10  ENSG00000055950 100987514  99320000 102120000\n",
       "5 image_AD2  10  ENSG00000059915 102421538 101402617 103680000\n",
       "6 image_AD2  10  ENSG00000059915 102421538 101402617 103680000\n",
       "  context           method is_imputable is_selected_method ... twas_z  \n",
       "1 Knight_eQTL_brain enet   TRUE         FALSE              ... 2.492697\n",
       "2 Knight_eQTL_brain lasso  TRUE         FALSE              ... 2.475217\n",
       "3 Knight_eQTL_brain mrash  TRUE         FALSE              ... 2.493315\n",
       "4 Knight_eQTL_brain susie  TRUE          TRUE              ... 2.505183\n",
       "5 Knight_eQTL_brain enet   TRUE         FALSE              ... 1.830248\n",
       "6 Knight_eQTL_brain lasso  TRUE         FALSE              ... 1.827701\n",
       "  twas_pval  type block                     region                   \n",
       "1 0.01267771 eQTL chr10_100331627_104378781 chr10_100331627_104378781\n",
       "2 0.01331554 eQTL chr10_100331627_104378781 chr10_100331627_104378781\n",
       "3 0.01265565 eQTL chr10_100331627_104378781 chr10_100331627_104378781\n",
       "4 0.01223882 eQTL chr10_100331627_104378781 chr10_100331627_104378781\n",
       "5 0.06721286 eQTL chr10_100331627_104378781 chr10_100331627_104378781\n",
       "6 0.06759438 eQTL chr10_100331627_104378781 chr10_100331627_104378781\n",
       "  study_context    source_file                                           \n",
       "1 KNIGHT_eQTL_pQTL KNIGHT_eQTL_pQTL.chr10_100331627_104378781.twas.tsv.gz\n",
       "2 KNIGHT_eQTL_pQTL KNIGHT_eQTL_pQTL.chr10_100331627_104378781.twas.tsv.gz\n",
       "3 KNIGHT_eQTL_pQTL KNIGHT_eQTL_pQTL.chr10_100331627_104378781.twas.tsv.gz\n",
       "4 KNIGHT_eQTL_pQTL KNIGHT_eQTL_pQTL.chr10_100331627_104378781.twas.tsv.gz\n",
       "5 KNIGHT_eQTL_pQTL KNIGHT_eQTL_pQTL.chr10_100331627_104378781.twas.tsv.gz\n",
       "6 KNIGHT_eQTL_pQTL KNIGHT_eQTL_pQTL.chr10_100331627_104378781.twas.tsv.gz\n",
       "  gene_id         N      twas_pval_bonf\n",
       "1 ENSG00000055950 143798 1             \n",
       "2 ENSG00000055950 143798 1             \n",
       "3 ENSG00000055950 143798 1             \n",
       "4 ENSG00000055950 143798 1             \n",
       "5 ENSG00000059915 143798 1             \n",
       "6 ENSG00000059915 143798 1             "
      ]
     },
     "metadata": {},
     "output_type": "display_data"
    },
    {
     "data": {
      "text/html": [
       "<style>\n",
       ".list-inline {list-style: none; margin:0; padding: 0}\n",
       ".list-inline>li {display: inline-block}\n",
       ".list-inline>li:not(:last-child)::after {content: \"\\00b7\"; padding: 0 .5ex}\n",
       "</style>\n",
       "<ol class=list-inline><li>903842</li><li>22</li></ol>\n"
      ],
      "text/latex": [
       "\\begin{enumerate*}\n",
       "\\item 903842\n",
       "\\item 22\n",
       "\\end{enumerate*}\n"
      ],
      "text/markdown": [
       "1. 903842\n",
       "2. 22\n",
       "\n",
       "\n"
      ],
      "text/plain": [
       "[1] 903842     22"
      ]
     },
     "metadata": {},
     "output_type": "display_data"
    }
   ],
   "source": [
    "head(image_AD2)\n",
    "dim(image_AD2)"
   ]
  },
  {
   "cell_type": "code",
   "execution_count": 33,
   "id": "adf920c1-169c-4487-9ece-23504d6ae278",
   "metadata": {},
   "outputs": [
    {
     "data": {
      "text/html": [
       "34"
      ],
      "text/latex": [
       "34"
      ],
      "text/markdown": [
       "34"
      ],
      "text/plain": [
       "[1] 34"
      ]
     },
     "metadata": {},
     "output_type": "display_data"
    }
   ],
   "source": [
    "sig_image_AD2 = image_AD2 |> filter(is_selected_method, twas_pval_bonf < 0.05) \n",
    "length(unique(sig_image_AD2$molecular_id))"
   ]
  },
  {
   "cell_type": "code",
   "execution_count": 34,
   "id": "ffd6d0c3-e590-44fc-b7fe-fbc45a860dd1",
   "metadata": {},
   "outputs": [],
   "source": [
    "image_AD2_gene_list = sig_image_AD2 |> mutate(`#chr` = paste0(\"chr\", chr), gene_id = molecular_id)|>select(`#chr`, start, end, gene_id) |> unique()"
   ]
  },
  {
   "cell_type": "code",
   "execution_count": 35,
   "id": "2842601e-46e4-47b1-bf50-61586df7e344",
   "metadata": {},
   "outputs": [
    {
     "data": {
      "text/html": [
       "<style>\n",
       ".list-inline {list-style: none; margin:0; padding: 0}\n",
       ".list-inline>li {display: inline-block}\n",
       ".list-inline>li:not(:last-child)::after {content: \"\\00b7\"; padding: 0 .5ex}\n",
       "</style>\n",
       "<ol class=list-inline><li>34</li><li>4</li></ol>\n"
      ],
      "text/latex": [
       "\\begin{enumerate*}\n",
       "\\item 34\n",
       "\\item 4\n",
       "\\end{enumerate*}\n"
      ],
      "text/markdown": [
       "1. 34\n",
       "2. 4\n",
       "\n",
       "\n"
      ],
      "text/plain": [
       "[1] 34  4"
      ]
     },
     "metadata": {},
     "output_type": "display_data"
    }
   ],
   "source": [
    "dim(image_AD2_gene_list)"
   ]
  },
  {
   "cell_type": "code",
   "execution_count": 36,
   "id": "15482fe6-27c0-45e5-bb23-792711fcadc5",
   "metadata": {},
   "outputs": [],
   "source": [
    "DNE_QTL_gene = fread(\"~/project/image_QTL/twas/annotated_dne_gene.tsv\")\n"
   ]
  },
  {
   "cell_type": "code",
   "execution_count": 37,
   "id": "a5c42513-dcee-4385-b5cf-7270ff703e4a",
   "metadata": {},
   "outputs": [],
   "source": [
    "image_AD2_QTL_gene = DNE_QTL_gene |> filter(str_detect(event_ID, \"image_AD2\")) |> select(-strand,-event_ID)\n",
    "                                        "
   ]
  },
  {
   "cell_type": "code",
   "execution_count": 38,
   "id": "75c41b16-9211-416e-b60b-3f9b6d95fd49",
   "metadata": {},
   "outputs": [],
   "source": [
    "image_AD2_gene = bind_rows(image_AD2_gene_list, image_AD2_QTL_gene)"
   ]
  },
  {
   "cell_type": "code",
   "execution_count": 39,
   "id": "e974c79d-86c0-4e5d-ac39-89b5be39be5d",
   "metadata": {},
   "outputs": [],
   "source": [
    "fwrite(image_AD2_gene, \"image_AD2_gene_list.tsv\", sep = '\\t')"
   ]
  },
  {
   "cell_type": "code",
   "execution_count": null,
   "id": "f4b32a0e-1b7a-4e0f-a5b8-12c5f266578c",
   "metadata": {},
   "outputs": [],
   "source": []
  },
  {
   "cell_type": "markdown",
   "id": "3ca68b3e-187d-4d3d-afe5-46e9340c6ade",
   "metadata": {},
   "source": [
    "## image_Aging1"
   ]
  },
  {
   "cell_type": "code",
   "execution_count": 40,
   "id": "05430a3e-de88-4b37-8296-ca9861fc6e9c",
   "metadata": {},
   "outputs": [],
   "source": [
    "image_Aging1 <- fread(\"~/project/image_QTL/twas/multiple_testing/image_Aging1_twas_bonff.bonf_corrected.tsv.gz\")"
   ]
  },
  {
   "cell_type": "code",
   "execution_count": 41,
   "id": "772378fc-e35e-4705-a983-73d59047b181",
   "metadata": {},
   "outputs": [
    {
     "data": {
      "text/html": [
       "<table class=\"dataframe\">\n",
       "<caption>A data.table: 6 x 22</caption>\n",
       "<thead>\n",
       "\t<tr><th scope=col>gwas_study</th><th scope=col>chr</th><th scope=col>molecular_id</th><th scope=col>TSS</th><th scope=col>start</th><th scope=col>end</th><th scope=col>context</th><th scope=col>method</th><th scope=col>is_imputable</th><th scope=col>is_selected_method</th><th scope=col>...</th><th scope=col>twas_z</th><th scope=col>twas_pval</th><th scope=col>type</th><th scope=col>block</th><th scope=col>region</th><th scope=col>study_context</th><th scope=col>source_file</th><th scope=col>gene_id</th><th scope=col>N</th><th scope=col>twas_pval_bonf</th></tr>\n",
       "\t<tr><th scope=col>&lt;chr&gt;</th><th scope=col>&lt;int&gt;</th><th scope=col>&lt;chr&gt;</th><th scope=col>&lt;int&gt;</th><th scope=col>&lt;int&gt;</th><th scope=col>&lt;int&gt;</th><th scope=col>&lt;chr&gt;</th><th scope=col>&lt;chr&gt;</th><th scope=col>&lt;lgl&gt;</th><th scope=col>&lt;lgl&gt;</th><th scope=col>...</th><th scope=col>&lt;dbl&gt;</th><th scope=col>&lt;dbl&gt;</th><th scope=col>&lt;chr&gt;</th><th scope=col>&lt;chr&gt;</th><th scope=col>&lt;chr&gt;</th><th scope=col>&lt;chr&gt;</th><th scope=col>&lt;chr&gt;</th><th scope=col>&lt;chr&gt;</th><th scope=col>&lt;int&gt;</th><th scope=col>&lt;dbl&gt;</th></tr>\n",
       "</thead>\n",
       "<tbody>\n",
       "\t<tr><td>image_Aging1</td><td>10</td><td>ENSG00000055950</td><td>100987514</td><td> 99320000</td><td>102120000</td><td>Knight_eQTL_brain</td><td>enet </td><td>TRUE</td><td>FALSE</td><td>...</td><td>-2.2501449</td><td>0.02443975</td><td>eQTL</td><td>chr10_100331627_104378781</td><td>chr10_100331627_104378781</td><td>KNIGHT_eQTL_pQTL</td><td>KNIGHT_eQTL_pQTL.chr10_100331627_104378781.twas.tsv.gz</td><td>ENSG00000055950</td><td>146273</td><td>1</td></tr>\n",
       "\t<tr><td>image_Aging1</td><td>10</td><td>ENSG00000055950</td><td>100987514</td><td> 99320000</td><td>102120000</td><td>Knight_eQTL_brain</td><td>lasso</td><td>TRUE</td><td>FALSE</td><td>...</td><td>-2.3121651</td><td>0.02076859</td><td>eQTL</td><td>chr10_100331627_104378781</td><td>chr10_100331627_104378781</td><td>KNIGHT_eQTL_pQTL</td><td>KNIGHT_eQTL_pQTL.chr10_100331627_104378781.twas.tsv.gz</td><td>ENSG00000055950</td><td>146273</td><td>1</td></tr>\n",
       "\t<tr><td>image_Aging1</td><td>10</td><td>ENSG00000055950</td><td>100987514</td><td> 99320000</td><td>102120000</td><td>Knight_eQTL_brain</td><td>mrash</td><td>TRUE</td><td>FALSE</td><td>...</td><td>-2.0225901</td><td>0.04311543</td><td>eQTL</td><td>chr10_100331627_104378781</td><td>chr10_100331627_104378781</td><td>KNIGHT_eQTL_pQTL</td><td>KNIGHT_eQTL_pQTL.chr10_100331627_104378781.twas.tsv.gz</td><td>ENSG00000055950</td><td>146273</td><td>1</td></tr>\n",
       "\t<tr><td>image_Aging1</td><td>10</td><td>ENSG00000055950</td><td>100987514</td><td> 99320000</td><td>102120000</td><td>Knight_eQTL_brain</td><td>susie</td><td>TRUE</td><td> TRUE</td><td>...</td><td>-2.2311831</td><td>0.02566901</td><td>eQTL</td><td>chr10_100331627_104378781</td><td>chr10_100331627_104378781</td><td>KNIGHT_eQTL_pQTL</td><td>KNIGHT_eQTL_pQTL.chr10_100331627_104378781.twas.tsv.gz</td><td>ENSG00000055950</td><td>146273</td><td>1</td></tr>\n",
       "\t<tr><td>image_Aging1</td><td>10</td><td>ENSG00000059915</td><td>102421538</td><td>101402617</td><td>103680000</td><td>Knight_eQTL_brain</td><td>enet </td><td>TRUE</td><td>FALSE</td><td>...</td><td>-0.4842066</td><td>0.62823923</td><td>eQTL</td><td>chr10_100331627_104378781</td><td>chr10_100331627_104378781</td><td>KNIGHT_eQTL_pQTL</td><td>KNIGHT_eQTL_pQTL.chr10_100331627_104378781.twas.tsv.gz</td><td>ENSG00000059915</td><td>146273</td><td>1</td></tr>\n",
       "\t<tr><td>image_Aging1</td><td>10</td><td>ENSG00000059915</td><td>102421538</td><td>101402617</td><td>103680000</td><td>Knight_eQTL_brain</td><td>lasso</td><td>TRUE</td><td>FALSE</td><td>...</td><td>-0.5461816</td><td>0.58494109</td><td>eQTL</td><td>chr10_100331627_104378781</td><td>chr10_100331627_104378781</td><td>KNIGHT_eQTL_pQTL</td><td>KNIGHT_eQTL_pQTL.chr10_100331627_104378781.twas.tsv.gz</td><td>ENSG00000059915</td><td>146273</td><td>1</td></tr>\n",
       "</tbody>\n",
       "</table>\n"
      ],
      "text/latex": [
       "A data.table: 6 x 22\n",
       "\\begin{tabular}{lllllllllllllllllllll}\n",
       " gwas\\_study & chr & molecular\\_id & TSS & start & end & context & method & is\\_imputable & is\\_selected\\_method & ... & twas\\_z & twas\\_pval & type & block & region & study\\_context & source\\_file & gene\\_id & N & twas\\_pval\\_bonf\\\\\n",
       " <chr> & <int> & <chr> & <int> & <int> & <int> & <chr> & <chr> & <lgl> & <lgl> & ... & <dbl> & <dbl> & <chr> & <chr> & <chr> & <chr> & <chr> & <chr> & <int> & <dbl>\\\\\n",
       "\\hline\n",
       "\t image\\_Aging1 & 10 & ENSG00000055950 & 100987514 &  99320000 & 102120000 & Knight\\_eQTL\\_brain & enet  & TRUE & FALSE & ... & -2.2501449 & 0.02443975 & eQTL & chr10\\_100331627\\_104378781 & chr10\\_100331627\\_104378781 & KNIGHT\\_eQTL\\_pQTL & KNIGHT\\_eQTL\\_pQTL.chr10\\_100331627\\_104378781.twas.tsv.gz & ENSG00000055950 & 146273 & 1\\\\\n",
       "\t image\\_Aging1 & 10 & ENSG00000055950 & 100987514 &  99320000 & 102120000 & Knight\\_eQTL\\_brain & lasso & TRUE & FALSE & ... & -2.3121651 & 0.02076859 & eQTL & chr10\\_100331627\\_104378781 & chr10\\_100331627\\_104378781 & KNIGHT\\_eQTL\\_pQTL & KNIGHT\\_eQTL\\_pQTL.chr10\\_100331627\\_104378781.twas.tsv.gz & ENSG00000055950 & 146273 & 1\\\\\n",
       "\t image\\_Aging1 & 10 & ENSG00000055950 & 100987514 &  99320000 & 102120000 & Knight\\_eQTL\\_brain & mrash & TRUE & FALSE & ... & -2.0225901 & 0.04311543 & eQTL & chr10\\_100331627\\_104378781 & chr10\\_100331627\\_104378781 & KNIGHT\\_eQTL\\_pQTL & KNIGHT\\_eQTL\\_pQTL.chr10\\_100331627\\_104378781.twas.tsv.gz & ENSG00000055950 & 146273 & 1\\\\\n",
       "\t image\\_Aging1 & 10 & ENSG00000055950 & 100987514 &  99320000 & 102120000 & Knight\\_eQTL\\_brain & susie & TRUE &  TRUE & ... & -2.2311831 & 0.02566901 & eQTL & chr10\\_100331627\\_104378781 & chr10\\_100331627\\_104378781 & KNIGHT\\_eQTL\\_pQTL & KNIGHT\\_eQTL\\_pQTL.chr10\\_100331627\\_104378781.twas.tsv.gz & ENSG00000055950 & 146273 & 1\\\\\n",
       "\t image\\_Aging1 & 10 & ENSG00000059915 & 102421538 & 101402617 & 103680000 & Knight\\_eQTL\\_brain & enet  & TRUE & FALSE & ... & -0.4842066 & 0.62823923 & eQTL & chr10\\_100331627\\_104378781 & chr10\\_100331627\\_104378781 & KNIGHT\\_eQTL\\_pQTL & KNIGHT\\_eQTL\\_pQTL.chr10\\_100331627\\_104378781.twas.tsv.gz & ENSG00000059915 & 146273 & 1\\\\\n",
       "\t image\\_Aging1 & 10 & ENSG00000059915 & 102421538 & 101402617 & 103680000 & Knight\\_eQTL\\_brain & lasso & TRUE & FALSE & ... & -0.5461816 & 0.58494109 & eQTL & chr10\\_100331627\\_104378781 & chr10\\_100331627\\_104378781 & KNIGHT\\_eQTL\\_pQTL & KNIGHT\\_eQTL\\_pQTL.chr10\\_100331627\\_104378781.twas.tsv.gz & ENSG00000059915 & 146273 & 1\\\\\n",
       "\\end{tabular}\n"
      ],
      "text/markdown": [
       "\n",
       "A data.table: 6 x 22\n",
       "\n",
       "| gwas_study &lt;chr&gt; | chr &lt;int&gt; | molecular_id &lt;chr&gt; | TSS &lt;int&gt; | start &lt;int&gt; | end &lt;int&gt; | context &lt;chr&gt; | method &lt;chr&gt; | is_imputable &lt;lgl&gt; | is_selected_method &lt;lgl&gt; | ... ... | twas_z &lt;dbl&gt; | twas_pval &lt;dbl&gt; | type &lt;chr&gt; | block &lt;chr&gt; | region &lt;chr&gt; | study_context &lt;chr&gt; | source_file &lt;chr&gt; | gene_id &lt;chr&gt; | N &lt;int&gt; | twas_pval_bonf &lt;dbl&gt; |\n",
       "|---|---|---|---|---|---|---|---|---|---|---|---|---|---|---|---|---|---|---|---|---|\n",
       "| image_Aging1 | 10 | ENSG00000055950 | 100987514 |  99320000 | 102120000 | Knight_eQTL_brain | enet  | TRUE | FALSE | ... | -2.2501449 | 0.02443975 | eQTL | chr10_100331627_104378781 | chr10_100331627_104378781 | KNIGHT_eQTL_pQTL | KNIGHT_eQTL_pQTL.chr10_100331627_104378781.twas.tsv.gz | ENSG00000055950 | 146273 | 1 |\n",
       "| image_Aging1 | 10 | ENSG00000055950 | 100987514 |  99320000 | 102120000 | Knight_eQTL_brain | lasso | TRUE | FALSE | ... | -2.3121651 | 0.02076859 | eQTL | chr10_100331627_104378781 | chr10_100331627_104378781 | KNIGHT_eQTL_pQTL | KNIGHT_eQTL_pQTL.chr10_100331627_104378781.twas.tsv.gz | ENSG00000055950 | 146273 | 1 |\n",
       "| image_Aging1 | 10 | ENSG00000055950 | 100987514 |  99320000 | 102120000 | Knight_eQTL_brain | mrash | TRUE | FALSE | ... | -2.0225901 | 0.04311543 | eQTL | chr10_100331627_104378781 | chr10_100331627_104378781 | KNIGHT_eQTL_pQTL | KNIGHT_eQTL_pQTL.chr10_100331627_104378781.twas.tsv.gz | ENSG00000055950 | 146273 | 1 |\n",
       "| image_Aging1 | 10 | ENSG00000055950 | 100987514 |  99320000 | 102120000 | Knight_eQTL_brain | susie | TRUE |  TRUE | ... | -2.2311831 | 0.02566901 | eQTL | chr10_100331627_104378781 | chr10_100331627_104378781 | KNIGHT_eQTL_pQTL | KNIGHT_eQTL_pQTL.chr10_100331627_104378781.twas.tsv.gz | ENSG00000055950 | 146273 | 1 |\n",
       "| image_Aging1 | 10 | ENSG00000059915 | 102421538 | 101402617 | 103680000 | Knight_eQTL_brain | enet  | TRUE | FALSE | ... | -0.4842066 | 0.62823923 | eQTL | chr10_100331627_104378781 | chr10_100331627_104378781 | KNIGHT_eQTL_pQTL | KNIGHT_eQTL_pQTL.chr10_100331627_104378781.twas.tsv.gz | ENSG00000059915 | 146273 | 1 |\n",
       "| image_Aging1 | 10 | ENSG00000059915 | 102421538 | 101402617 | 103680000 | Knight_eQTL_brain | lasso | TRUE | FALSE | ... | -0.5461816 | 0.58494109 | eQTL | chr10_100331627_104378781 | chr10_100331627_104378781 | KNIGHT_eQTL_pQTL | KNIGHT_eQTL_pQTL.chr10_100331627_104378781.twas.tsv.gz | ENSG00000059915 | 146273 | 1 |\n",
       "\n"
      ],
      "text/plain": [
       "  gwas_study   chr molecular_id    TSS       start     end      \n",
       "1 image_Aging1 10  ENSG00000055950 100987514  99320000 102120000\n",
       "2 image_Aging1 10  ENSG00000055950 100987514  99320000 102120000\n",
       "3 image_Aging1 10  ENSG00000055950 100987514  99320000 102120000\n",
       "4 image_Aging1 10  ENSG00000055950 100987514  99320000 102120000\n",
       "5 image_Aging1 10  ENSG00000059915 102421538 101402617 103680000\n",
       "6 image_Aging1 10  ENSG00000059915 102421538 101402617 103680000\n",
       "  context           method is_imputable is_selected_method ... twas_z    \n",
       "1 Knight_eQTL_brain enet   TRUE         FALSE              ... -2.2501449\n",
       "2 Knight_eQTL_brain lasso  TRUE         FALSE              ... -2.3121651\n",
       "3 Knight_eQTL_brain mrash  TRUE         FALSE              ... -2.0225901\n",
       "4 Knight_eQTL_brain susie  TRUE          TRUE              ... -2.2311831\n",
       "5 Knight_eQTL_brain enet   TRUE         FALSE              ... -0.4842066\n",
       "6 Knight_eQTL_brain lasso  TRUE         FALSE              ... -0.5461816\n",
       "  twas_pval  type block                     region                   \n",
       "1 0.02443975 eQTL chr10_100331627_104378781 chr10_100331627_104378781\n",
       "2 0.02076859 eQTL chr10_100331627_104378781 chr10_100331627_104378781\n",
       "3 0.04311543 eQTL chr10_100331627_104378781 chr10_100331627_104378781\n",
       "4 0.02566901 eQTL chr10_100331627_104378781 chr10_100331627_104378781\n",
       "5 0.62823923 eQTL chr10_100331627_104378781 chr10_100331627_104378781\n",
       "6 0.58494109 eQTL chr10_100331627_104378781 chr10_100331627_104378781\n",
       "  study_context    source_file                                           \n",
       "1 KNIGHT_eQTL_pQTL KNIGHT_eQTL_pQTL.chr10_100331627_104378781.twas.tsv.gz\n",
       "2 KNIGHT_eQTL_pQTL KNIGHT_eQTL_pQTL.chr10_100331627_104378781.twas.tsv.gz\n",
       "3 KNIGHT_eQTL_pQTL KNIGHT_eQTL_pQTL.chr10_100331627_104378781.twas.tsv.gz\n",
       "4 KNIGHT_eQTL_pQTL KNIGHT_eQTL_pQTL.chr10_100331627_104378781.twas.tsv.gz\n",
       "5 KNIGHT_eQTL_pQTL KNIGHT_eQTL_pQTL.chr10_100331627_104378781.twas.tsv.gz\n",
       "6 KNIGHT_eQTL_pQTL KNIGHT_eQTL_pQTL.chr10_100331627_104378781.twas.tsv.gz\n",
       "  gene_id         N      twas_pval_bonf\n",
       "1 ENSG00000055950 146273 1             \n",
       "2 ENSG00000055950 146273 1             \n",
       "3 ENSG00000055950 146273 1             \n",
       "4 ENSG00000055950 146273 1             \n",
       "5 ENSG00000059915 146273 1             \n",
       "6 ENSG00000059915 146273 1             "
      ]
     },
     "metadata": {},
     "output_type": "display_data"
    },
    {
     "data": {
      "text/html": [
       "<style>\n",
       ".list-inline {list-style: none; margin:0; padding: 0}\n",
       ".list-inline>li {display: inline-block}\n",
       ".list-inline>li:not(:last-child)::after {content: \"\\00b7\"; padding: 0 .5ex}\n",
       "</style>\n",
       "<ol class=list-inline><li>928116</li><li>22</li></ol>\n"
      ],
      "text/latex": [
       "\\begin{enumerate*}\n",
       "\\item 928116\n",
       "\\item 22\n",
       "\\end{enumerate*}\n"
      ],
      "text/markdown": [
       "1. 928116\n",
       "2. 22\n",
       "\n",
       "\n"
      ],
      "text/plain": [
       "[1] 928116     22"
      ]
     },
     "metadata": {},
     "output_type": "display_data"
    }
   ],
   "source": [
    "head(image_Aging1)\n",
    "dim(image_Aging1)"
   ]
  },
  {
   "cell_type": "code",
   "execution_count": 42,
   "id": "7314c638-ee73-48dc-8cd2-fd91c698cbb3",
   "metadata": {},
   "outputs": [
    {
     "data": {
      "text/html": [
       "55"
      ],
      "text/latex": [
       "55"
      ],
      "text/markdown": [
       "55"
      ],
      "text/plain": [
       "[1] 55"
      ]
     },
     "metadata": {},
     "output_type": "display_data"
    }
   ],
   "source": [
    "sig_image_Aging1 = image_Aging1 |> filter(is_selected_method, twas_pval_bonf < 0.05) \n",
    "length(unique(sig_image_Aging1$molecular_id))"
   ]
  },
  {
   "cell_type": "code",
   "execution_count": 43,
   "id": "59b55a2c-f7b2-4a25-8a38-c3a1a3ee34c5",
   "metadata": {},
   "outputs": [],
   "source": [
    "image_Aging1_gene_list = sig_image_Aging1 |> mutate(`#chr` = paste0(\"chr\", chr), gene_id = molecular_id)|>select(`#chr`, start, end, gene_id) |> unique()"
   ]
  },
  {
   "cell_type": "code",
   "execution_count": 44,
   "id": "571875b4-9bb2-4c85-9ae6-aa6aa6f67c0d",
   "metadata": {},
   "outputs": [
    {
     "data": {
      "text/html": [
       "<style>\n",
       ".list-inline {list-style: none; margin:0; padding: 0}\n",
       ".list-inline>li {display: inline-block}\n",
       ".list-inline>li:not(:last-child)::after {content: \"\\00b7\"; padding: 0 .5ex}\n",
       "</style>\n",
       "<ol class=list-inline><li>55</li><li>4</li></ol>\n"
      ],
      "text/latex": [
       "\\begin{enumerate*}\n",
       "\\item 55\n",
       "\\item 4\n",
       "\\end{enumerate*}\n"
      ],
      "text/markdown": [
       "1. 55\n",
       "2. 4\n",
       "\n",
       "\n"
      ],
      "text/plain": [
       "[1] 55  4"
      ]
     },
     "metadata": {},
     "output_type": "display_data"
    }
   ],
   "source": [
    "dim(image_Aging1_gene_list)"
   ]
  },
  {
   "cell_type": "code",
   "execution_count": 45,
   "id": "47631ccb-5b8f-47da-8107-0b9b31aee4d0",
   "metadata": {},
   "outputs": [],
   "source": [
    "DNE_QTL_gene = fread(\"~/project/image_QTL/twas/annotated_dne_gene.tsv\")\n"
   ]
  },
  {
   "cell_type": "code",
   "execution_count": 46,
   "id": "9d46859c-b31f-4f4d-9727-a311a365d380",
   "metadata": {},
   "outputs": [],
   "source": [
    "image_Aging1_QTL_gene = DNE_QTL_gene |> filter(str_detect(event_ID, \"image_Aging1\")) |> select(-strand,-event_ID)\n",
    "                                        "
   ]
  },
  {
   "cell_type": "code",
   "execution_count": 47,
   "id": "e89054f3-4ed8-4805-94e3-5cc2a2d285f3",
   "metadata": {},
   "outputs": [],
   "source": [
    "image_Aging1_gene = bind_rows(image_Aging1_gene_list, image_Aging1_QTL_gene)"
   ]
  },
  {
   "cell_type": "code",
   "execution_count": 48,
   "id": "8ab80cd8-088e-4c87-9a82-03a9bbd31141",
   "metadata": {},
   "outputs": [],
   "source": [
    "fwrite(image_Aging1_gene, \"image_Aging1_gene_list.tsv\", sep = '\\t')"
   ]
  },
  {
   "cell_type": "code",
   "execution_count": null,
   "id": "14bd92b4-83a9-43c1-8033-96b1132bcaf8",
   "metadata": {},
   "outputs": [],
   "source": []
  },
  {
   "cell_type": "markdown",
   "id": "308e1e64-bda4-4923-ab7f-e35c20e9741a",
   "metadata": {},
   "source": [
    "## image_Aging2"
   ]
  },
  {
   "cell_type": "code",
   "execution_count": 49,
   "id": "482ad222-39a0-4f52-b15d-2576604e3dfd",
   "metadata": {},
   "outputs": [],
   "source": [
    "image_Aging2 <- fread(\"~/project/image_QTL/twas/multiple_testing/image_Aging2_twas_bonff.bonf_corrected.tsv.gz\")"
   ]
  },
  {
   "cell_type": "code",
   "execution_count": 50,
   "id": "f782a207-ae51-4783-a3e5-2d751de6fc3d",
   "metadata": {},
   "outputs": [
    {
     "data": {
      "text/html": [
       "<table class=\"dataframe\">\n",
       "<caption>A data.table: 6 x 22</caption>\n",
       "<thead>\n",
       "\t<tr><th scope=col>gwas_study</th><th scope=col>chr</th><th scope=col>molecular_id</th><th scope=col>TSS</th><th scope=col>start</th><th scope=col>end</th><th scope=col>context</th><th scope=col>method</th><th scope=col>is_imputable</th><th scope=col>is_selected_method</th><th scope=col>...</th><th scope=col>twas_z</th><th scope=col>twas_pval</th><th scope=col>type</th><th scope=col>block</th><th scope=col>region</th><th scope=col>study_context</th><th scope=col>source_file</th><th scope=col>gene_id</th><th scope=col>N</th><th scope=col>twas_pval_bonf</th></tr>\n",
       "\t<tr><th scope=col>&lt;chr&gt;</th><th scope=col>&lt;int&gt;</th><th scope=col>&lt;chr&gt;</th><th scope=col>&lt;int&gt;</th><th scope=col>&lt;int&gt;</th><th scope=col>&lt;int&gt;</th><th scope=col>&lt;chr&gt;</th><th scope=col>&lt;chr&gt;</th><th scope=col>&lt;lgl&gt;</th><th scope=col>&lt;lgl&gt;</th><th scope=col>...</th><th scope=col>&lt;dbl&gt;</th><th scope=col>&lt;dbl&gt;</th><th scope=col>&lt;chr&gt;</th><th scope=col>&lt;chr&gt;</th><th scope=col>&lt;chr&gt;</th><th scope=col>&lt;chr&gt;</th><th scope=col>&lt;chr&gt;</th><th scope=col>&lt;chr&gt;</th><th scope=col>&lt;int&gt;</th><th scope=col>&lt;dbl&gt;</th></tr>\n",
       "</thead>\n",
       "<tbody>\n",
       "\t<tr><td>image_Aging2</td><td>10</td><td>ENSG00000055950</td><td>100987514</td><td> 99320000</td><td>102120000</td><td>Knight_eQTL_brain</td><td>enet </td><td>TRUE</td><td>FALSE</td><td>...</td><td>0.4422873</td><td>0.65828134</td><td>eQTL</td><td>chr10_100331627_104378781</td><td>chr10_100331627_104378781</td><td>KNIGHT_eQTL_pQTL</td><td>KNIGHT_eQTL_pQTL.chr10_100331627_104378781.twas.tsv.gz</td><td>ENSG00000055950</td><td>145030</td><td>1</td></tr>\n",
       "\t<tr><td>image_Aging2</td><td>10</td><td>ENSG00000055950</td><td>100987514</td><td> 99320000</td><td>102120000</td><td>Knight_eQTL_brain</td><td>lasso</td><td>TRUE</td><td>FALSE</td><td>...</td><td>0.5153586</td><td>0.60630249</td><td>eQTL</td><td>chr10_100331627_104378781</td><td>chr10_100331627_104378781</td><td>KNIGHT_eQTL_pQTL</td><td>KNIGHT_eQTL_pQTL.chr10_100331627_104378781.twas.tsv.gz</td><td>ENSG00000055950</td><td>145030</td><td>1</td></tr>\n",
       "\t<tr><td>image_Aging2</td><td>10</td><td>ENSG00000055950</td><td>100987514</td><td> 99320000</td><td>102120000</td><td>Knight_eQTL_brain</td><td>mrash</td><td>TRUE</td><td>FALSE</td><td>...</td><td>0.3763701</td><td>0.70664179</td><td>eQTL</td><td>chr10_100331627_104378781</td><td>chr10_100331627_104378781</td><td>KNIGHT_eQTL_pQTL</td><td>KNIGHT_eQTL_pQTL.chr10_100331627_104378781.twas.tsv.gz</td><td>ENSG00000055950</td><td>145030</td><td>1</td></tr>\n",
       "\t<tr><td>image_Aging2</td><td>10</td><td>ENSG00000055950</td><td>100987514</td><td> 99320000</td><td>102120000</td><td>Knight_eQTL_brain</td><td>susie</td><td>TRUE</td><td> TRUE</td><td>...</td><td>0.4166957</td><td>0.67690100</td><td>eQTL</td><td>chr10_100331627_104378781</td><td>chr10_100331627_104378781</td><td>KNIGHT_eQTL_pQTL</td><td>KNIGHT_eQTL_pQTL.chr10_100331627_104378781.twas.tsv.gz</td><td>ENSG00000055950</td><td>145030</td><td>1</td></tr>\n",
       "\t<tr><td>image_Aging2</td><td>10</td><td>ENSG00000059915</td><td>102421538</td><td>101402617</td><td>103680000</td><td>Knight_eQTL_brain</td><td>enet </td><td>TRUE</td><td>FALSE</td><td>...</td><td>2.3533373</td><td>0.01860575</td><td>eQTL</td><td>chr10_100331627_104378781</td><td>chr10_100331627_104378781</td><td>KNIGHT_eQTL_pQTL</td><td>KNIGHT_eQTL_pQTL.chr10_100331627_104378781.twas.tsv.gz</td><td>ENSG00000059915</td><td>145030</td><td>1</td></tr>\n",
       "\t<tr><td>image_Aging2</td><td>10</td><td>ENSG00000059915</td><td>102421538</td><td>101402617</td><td>103680000</td><td>Knight_eQTL_brain</td><td>lasso</td><td>TRUE</td><td>FALSE</td><td>...</td><td>2.2734046</td><td>0.02300181</td><td>eQTL</td><td>chr10_100331627_104378781</td><td>chr10_100331627_104378781</td><td>KNIGHT_eQTL_pQTL</td><td>KNIGHT_eQTL_pQTL.chr10_100331627_104378781.twas.tsv.gz</td><td>ENSG00000059915</td><td>145030</td><td>1</td></tr>\n",
       "</tbody>\n",
       "</table>\n"
      ],
      "text/latex": [
       "A data.table: 6 x 22\n",
       "\\begin{tabular}{lllllllllllllllllllll}\n",
       " gwas\\_study & chr & molecular\\_id & TSS & start & end & context & method & is\\_imputable & is\\_selected\\_method & ... & twas\\_z & twas\\_pval & type & block & region & study\\_context & source\\_file & gene\\_id & N & twas\\_pval\\_bonf\\\\\n",
       " <chr> & <int> & <chr> & <int> & <int> & <int> & <chr> & <chr> & <lgl> & <lgl> & ... & <dbl> & <dbl> & <chr> & <chr> & <chr> & <chr> & <chr> & <chr> & <int> & <dbl>\\\\\n",
       "\\hline\n",
       "\t image\\_Aging2 & 10 & ENSG00000055950 & 100987514 &  99320000 & 102120000 & Knight\\_eQTL\\_brain & enet  & TRUE & FALSE & ... & 0.4422873 & 0.65828134 & eQTL & chr10\\_100331627\\_104378781 & chr10\\_100331627\\_104378781 & KNIGHT\\_eQTL\\_pQTL & KNIGHT\\_eQTL\\_pQTL.chr10\\_100331627\\_104378781.twas.tsv.gz & ENSG00000055950 & 145030 & 1\\\\\n",
       "\t image\\_Aging2 & 10 & ENSG00000055950 & 100987514 &  99320000 & 102120000 & Knight\\_eQTL\\_brain & lasso & TRUE & FALSE & ... & 0.5153586 & 0.60630249 & eQTL & chr10\\_100331627\\_104378781 & chr10\\_100331627\\_104378781 & KNIGHT\\_eQTL\\_pQTL & KNIGHT\\_eQTL\\_pQTL.chr10\\_100331627\\_104378781.twas.tsv.gz & ENSG00000055950 & 145030 & 1\\\\\n",
       "\t image\\_Aging2 & 10 & ENSG00000055950 & 100987514 &  99320000 & 102120000 & Knight\\_eQTL\\_brain & mrash & TRUE & FALSE & ... & 0.3763701 & 0.70664179 & eQTL & chr10\\_100331627\\_104378781 & chr10\\_100331627\\_104378781 & KNIGHT\\_eQTL\\_pQTL & KNIGHT\\_eQTL\\_pQTL.chr10\\_100331627\\_104378781.twas.tsv.gz & ENSG00000055950 & 145030 & 1\\\\\n",
       "\t image\\_Aging2 & 10 & ENSG00000055950 & 100987514 &  99320000 & 102120000 & Knight\\_eQTL\\_brain & susie & TRUE &  TRUE & ... & 0.4166957 & 0.67690100 & eQTL & chr10\\_100331627\\_104378781 & chr10\\_100331627\\_104378781 & KNIGHT\\_eQTL\\_pQTL & KNIGHT\\_eQTL\\_pQTL.chr10\\_100331627\\_104378781.twas.tsv.gz & ENSG00000055950 & 145030 & 1\\\\\n",
       "\t image\\_Aging2 & 10 & ENSG00000059915 & 102421538 & 101402617 & 103680000 & Knight\\_eQTL\\_brain & enet  & TRUE & FALSE & ... & 2.3533373 & 0.01860575 & eQTL & chr10\\_100331627\\_104378781 & chr10\\_100331627\\_104378781 & KNIGHT\\_eQTL\\_pQTL & KNIGHT\\_eQTL\\_pQTL.chr10\\_100331627\\_104378781.twas.tsv.gz & ENSG00000059915 & 145030 & 1\\\\\n",
       "\t image\\_Aging2 & 10 & ENSG00000059915 & 102421538 & 101402617 & 103680000 & Knight\\_eQTL\\_brain & lasso & TRUE & FALSE & ... & 2.2734046 & 0.02300181 & eQTL & chr10\\_100331627\\_104378781 & chr10\\_100331627\\_104378781 & KNIGHT\\_eQTL\\_pQTL & KNIGHT\\_eQTL\\_pQTL.chr10\\_100331627\\_104378781.twas.tsv.gz & ENSG00000059915 & 145030 & 1\\\\\n",
       "\\end{tabular}\n"
      ],
      "text/markdown": [
       "\n",
       "A data.table: 6 x 22\n",
       "\n",
       "| gwas_study &lt;chr&gt; | chr &lt;int&gt; | molecular_id &lt;chr&gt; | TSS &lt;int&gt; | start &lt;int&gt; | end &lt;int&gt; | context &lt;chr&gt; | method &lt;chr&gt; | is_imputable &lt;lgl&gt; | is_selected_method &lt;lgl&gt; | ... ... | twas_z &lt;dbl&gt; | twas_pval &lt;dbl&gt; | type &lt;chr&gt; | block &lt;chr&gt; | region &lt;chr&gt; | study_context &lt;chr&gt; | source_file &lt;chr&gt; | gene_id &lt;chr&gt; | N &lt;int&gt; | twas_pval_bonf &lt;dbl&gt; |\n",
       "|---|---|---|---|---|---|---|---|---|---|---|---|---|---|---|---|---|---|---|---|---|\n",
       "| image_Aging2 | 10 | ENSG00000055950 | 100987514 |  99320000 | 102120000 | Knight_eQTL_brain | enet  | TRUE | FALSE | ... | 0.4422873 | 0.65828134 | eQTL | chr10_100331627_104378781 | chr10_100331627_104378781 | KNIGHT_eQTL_pQTL | KNIGHT_eQTL_pQTL.chr10_100331627_104378781.twas.tsv.gz | ENSG00000055950 | 145030 | 1 |\n",
       "| image_Aging2 | 10 | ENSG00000055950 | 100987514 |  99320000 | 102120000 | Knight_eQTL_brain | lasso | TRUE | FALSE | ... | 0.5153586 | 0.60630249 | eQTL | chr10_100331627_104378781 | chr10_100331627_104378781 | KNIGHT_eQTL_pQTL | KNIGHT_eQTL_pQTL.chr10_100331627_104378781.twas.tsv.gz | ENSG00000055950 | 145030 | 1 |\n",
       "| image_Aging2 | 10 | ENSG00000055950 | 100987514 |  99320000 | 102120000 | Knight_eQTL_brain | mrash | TRUE | FALSE | ... | 0.3763701 | 0.70664179 | eQTL | chr10_100331627_104378781 | chr10_100331627_104378781 | KNIGHT_eQTL_pQTL | KNIGHT_eQTL_pQTL.chr10_100331627_104378781.twas.tsv.gz | ENSG00000055950 | 145030 | 1 |\n",
       "| image_Aging2 | 10 | ENSG00000055950 | 100987514 |  99320000 | 102120000 | Knight_eQTL_brain | susie | TRUE |  TRUE | ... | 0.4166957 | 0.67690100 | eQTL | chr10_100331627_104378781 | chr10_100331627_104378781 | KNIGHT_eQTL_pQTL | KNIGHT_eQTL_pQTL.chr10_100331627_104378781.twas.tsv.gz | ENSG00000055950 | 145030 | 1 |\n",
       "| image_Aging2 | 10 | ENSG00000059915 | 102421538 | 101402617 | 103680000 | Knight_eQTL_brain | enet  | TRUE | FALSE | ... | 2.3533373 | 0.01860575 | eQTL | chr10_100331627_104378781 | chr10_100331627_104378781 | KNIGHT_eQTL_pQTL | KNIGHT_eQTL_pQTL.chr10_100331627_104378781.twas.tsv.gz | ENSG00000059915 | 145030 | 1 |\n",
       "| image_Aging2 | 10 | ENSG00000059915 | 102421538 | 101402617 | 103680000 | Knight_eQTL_brain | lasso | TRUE | FALSE | ... | 2.2734046 | 0.02300181 | eQTL | chr10_100331627_104378781 | chr10_100331627_104378781 | KNIGHT_eQTL_pQTL | KNIGHT_eQTL_pQTL.chr10_100331627_104378781.twas.tsv.gz | ENSG00000059915 | 145030 | 1 |\n",
       "\n"
      ],
      "text/plain": [
       "  gwas_study   chr molecular_id    TSS       start     end      \n",
       "1 image_Aging2 10  ENSG00000055950 100987514  99320000 102120000\n",
       "2 image_Aging2 10  ENSG00000055950 100987514  99320000 102120000\n",
       "3 image_Aging2 10  ENSG00000055950 100987514  99320000 102120000\n",
       "4 image_Aging2 10  ENSG00000055950 100987514  99320000 102120000\n",
       "5 image_Aging2 10  ENSG00000059915 102421538 101402617 103680000\n",
       "6 image_Aging2 10  ENSG00000059915 102421538 101402617 103680000\n",
       "  context           method is_imputable is_selected_method ... twas_z   \n",
       "1 Knight_eQTL_brain enet   TRUE         FALSE              ... 0.4422873\n",
       "2 Knight_eQTL_brain lasso  TRUE         FALSE              ... 0.5153586\n",
       "3 Knight_eQTL_brain mrash  TRUE         FALSE              ... 0.3763701\n",
       "4 Knight_eQTL_brain susie  TRUE          TRUE              ... 0.4166957\n",
       "5 Knight_eQTL_brain enet   TRUE         FALSE              ... 2.3533373\n",
       "6 Knight_eQTL_brain lasso  TRUE         FALSE              ... 2.2734046\n",
       "  twas_pval  type block                     region                   \n",
       "1 0.65828134 eQTL chr10_100331627_104378781 chr10_100331627_104378781\n",
       "2 0.60630249 eQTL chr10_100331627_104378781 chr10_100331627_104378781\n",
       "3 0.70664179 eQTL chr10_100331627_104378781 chr10_100331627_104378781\n",
       "4 0.67690100 eQTL chr10_100331627_104378781 chr10_100331627_104378781\n",
       "5 0.01860575 eQTL chr10_100331627_104378781 chr10_100331627_104378781\n",
       "6 0.02300181 eQTL chr10_100331627_104378781 chr10_100331627_104378781\n",
       "  study_context    source_file                                           \n",
       "1 KNIGHT_eQTL_pQTL KNIGHT_eQTL_pQTL.chr10_100331627_104378781.twas.tsv.gz\n",
       "2 KNIGHT_eQTL_pQTL KNIGHT_eQTL_pQTL.chr10_100331627_104378781.twas.tsv.gz\n",
       "3 KNIGHT_eQTL_pQTL KNIGHT_eQTL_pQTL.chr10_100331627_104378781.twas.tsv.gz\n",
       "4 KNIGHT_eQTL_pQTL KNIGHT_eQTL_pQTL.chr10_100331627_104378781.twas.tsv.gz\n",
       "5 KNIGHT_eQTL_pQTL KNIGHT_eQTL_pQTL.chr10_100331627_104378781.twas.tsv.gz\n",
       "6 KNIGHT_eQTL_pQTL KNIGHT_eQTL_pQTL.chr10_100331627_104378781.twas.tsv.gz\n",
       "  gene_id         N      twas_pval_bonf\n",
       "1 ENSG00000055950 145030 1             \n",
       "2 ENSG00000055950 145030 1             \n",
       "3 ENSG00000055950 145030 1             \n",
       "4 ENSG00000055950 145030 1             \n",
       "5 ENSG00000059915 145030 1             \n",
       "6 ENSG00000059915 145030 1             "
      ]
     },
     "metadata": {},
     "output_type": "display_data"
    },
    {
     "data": {
      "text/html": [
       "<style>\n",
       ".list-inline {list-style: none; margin:0; padding: 0}\n",
       ".list-inline>li {display: inline-block}\n",
       ".list-inline>li:not(:last-child)::after {content: \"\\00b7\"; padding: 0 .5ex}\n",
       "</style>\n",
       "<ol class=list-inline><li>920648</li><li>22</li></ol>\n"
      ],
      "text/latex": [
       "\\begin{enumerate*}\n",
       "\\item 920648\n",
       "\\item 22\n",
       "\\end{enumerate*}\n"
      ],
      "text/markdown": [
       "1. 920648\n",
       "2. 22\n",
       "\n",
       "\n"
      ],
      "text/plain": [
       "[1] 920648     22"
      ]
     },
     "metadata": {},
     "output_type": "display_data"
    }
   ],
   "source": [
    "head(image_Aging2)\n",
    "dim(image_Aging2)"
   ]
  },
  {
   "cell_type": "code",
   "execution_count": 51,
   "id": "52a4fdba-a5cc-4ab8-baa1-6c8338dce7db",
   "metadata": {},
   "outputs": [
    {
     "data": {
      "text/html": [
       "32"
      ],
      "text/latex": [
       "32"
      ],
      "text/markdown": [
       "32"
      ],
      "text/plain": [
       "[1] 32"
      ]
     },
     "metadata": {},
     "output_type": "display_data"
    }
   ],
   "source": [
    "sig_image_Aging2 = image_Aging2 |> filter(is_selected_method, twas_pval_bonf < 0.05) \n",
    "length(unique(sig_image_Aging2$molecular_id))"
   ]
  },
  {
   "cell_type": "code",
   "execution_count": 52,
   "id": "e1b7b04c-8687-4ba1-bb6d-ef9790e57e5c",
   "metadata": {},
   "outputs": [],
   "source": [
    "image_Aging2_gene_list = sig_image_Aging2 |> mutate(`#chr` = paste0(\"chr\", chr), gene_id = molecular_id)|>select(`#chr`, start, end, gene_id) |> unique()"
   ]
  },
  {
   "cell_type": "code",
   "execution_count": 53,
   "id": "1ed8284b-6841-43eb-9287-1d2f6789346d",
   "metadata": {},
   "outputs": [
    {
     "data": {
      "text/html": [
       "<style>\n",
       ".list-inline {list-style: none; margin:0; padding: 0}\n",
       ".list-inline>li {display: inline-block}\n",
       ".list-inline>li:not(:last-child)::after {content: \"\\00b7\"; padding: 0 .5ex}\n",
       "</style>\n",
       "<ol class=list-inline><li>32</li><li>4</li></ol>\n"
      ],
      "text/latex": [
       "\\begin{enumerate*}\n",
       "\\item 32\n",
       "\\item 4\n",
       "\\end{enumerate*}\n"
      ],
      "text/markdown": [
       "1. 32\n",
       "2. 4\n",
       "\n",
       "\n"
      ],
      "text/plain": [
       "[1] 32  4"
      ]
     },
     "metadata": {},
     "output_type": "display_data"
    }
   ],
   "source": [
    "dim(image_Aging2_gene_list)"
   ]
  },
  {
   "cell_type": "code",
   "execution_count": 54,
   "id": "fe1da150-c502-43e6-ae8d-bc7a32f77e32",
   "metadata": {},
   "outputs": [],
   "source": [
    "DNE_QTL_gene = fread(\"~/project/image_QTL/twas/annotated_dne_gene.tsv\")\n"
   ]
  },
  {
   "cell_type": "code",
   "execution_count": 55,
   "id": "e7d09b1f-610e-441c-a548-d0739929c831",
   "metadata": {},
   "outputs": [],
   "source": [
    "image_Aging2_QTL_gene = DNE_QTL_gene |> filter(str_detect(event_ID, \"image_Aging2\")) |> select(-strand,-event_ID)\n",
    "                                        "
   ]
  },
  {
   "cell_type": "code",
   "execution_count": 56,
   "id": "e081e9a6-8fcc-4ba1-bed1-40322c0e889c",
   "metadata": {},
   "outputs": [],
   "source": [
    "image_Aging2_gene = bind_rows(image_Aging2_gene_list, image_Aging2_QTL_gene)"
   ]
  },
  {
   "cell_type": "code",
   "execution_count": 57,
   "id": "abe1762b-4ec0-4462-8cfe-41d581741922",
   "metadata": {},
   "outputs": [],
   "source": [
    "fwrite(image_Aging2_gene, \"image_Aging2_gene_list.tsv\", sep = '\\t')"
   ]
  },
  {
   "cell_type": "code",
   "execution_count": null,
   "id": "edcee106-d09a-4bc9-9d80-cf3efab2f964",
   "metadata": {},
   "outputs": [],
   "source": []
  },
  {
   "cell_type": "markdown",
   "id": "2c9e01fd-8c73-4242-ba4c-83d394b123ee",
   "metadata": {},
   "source": [
    "## image_Aging3"
   ]
  },
  {
   "cell_type": "code",
   "execution_count": 58,
   "id": "a5b5dd5f-5cfa-4c6e-9f79-08fe56998c13",
   "metadata": {},
   "outputs": [],
   "source": [
    "image_Aging3 <- fread(\"~/project/image_QTL/twas/multiple_testing/image_Aging3_twas_bonff.bonf_corrected.tsv.gz\")"
   ]
  },
  {
   "cell_type": "code",
   "execution_count": 59,
   "id": "2ab73177-00d8-4940-a4a9-eefb3db95efa",
   "metadata": {},
   "outputs": [
    {
     "data": {
      "text/html": [
       "<table class=\"dataframe\">\n",
       "<caption>A data.table: 6 x 22</caption>\n",
       "<thead>\n",
       "\t<tr><th scope=col>gwas_study</th><th scope=col>chr</th><th scope=col>molecular_id</th><th scope=col>TSS</th><th scope=col>start</th><th scope=col>end</th><th scope=col>context</th><th scope=col>method</th><th scope=col>is_imputable</th><th scope=col>is_selected_method</th><th scope=col>...</th><th scope=col>twas_z</th><th scope=col>twas_pval</th><th scope=col>type</th><th scope=col>block</th><th scope=col>region</th><th scope=col>study_context</th><th scope=col>source_file</th><th scope=col>gene_id</th><th scope=col>N</th><th scope=col>twas_pval_bonf</th></tr>\n",
       "\t<tr><th scope=col>&lt;chr&gt;</th><th scope=col>&lt;int&gt;</th><th scope=col>&lt;chr&gt;</th><th scope=col>&lt;int&gt;</th><th scope=col>&lt;int&gt;</th><th scope=col>&lt;int&gt;</th><th scope=col>&lt;chr&gt;</th><th scope=col>&lt;chr&gt;</th><th scope=col>&lt;lgl&gt;</th><th scope=col>&lt;lgl&gt;</th><th scope=col>...</th><th scope=col>&lt;dbl&gt;</th><th scope=col>&lt;dbl&gt;</th><th scope=col>&lt;chr&gt;</th><th scope=col>&lt;chr&gt;</th><th scope=col>&lt;chr&gt;</th><th scope=col>&lt;chr&gt;</th><th scope=col>&lt;chr&gt;</th><th scope=col>&lt;chr&gt;</th><th scope=col>&lt;int&gt;</th><th scope=col>&lt;dbl&gt;</th></tr>\n",
       "</thead>\n",
       "<tbody>\n",
       "\t<tr><td>image_Aging3</td><td>10</td><td>ENSG00000055950</td><td>100987514</td><td> 99320000</td><td>102120000</td><td>Knight_eQTL_brain</td><td>enet </td><td>TRUE</td><td>FALSE</td><td>...</td><td> 0.9022919</td><td>0.3669019</td><td>eQTL</td><td>chr10_100331627_104378781</td><td>chr10_100331627_104378781</td><td>KNIGHT_eQTL_pQTL</td><td>KNIGHT_eQTL_pQTL.chr10_100331627_104378781.twas.tsv.gz</td><td>ENSG00000055950</td><td>145418</td><td>1</td></tr>\n",
       "\t<tr><td>image_Aging3</td><td>10</td><td>ENSG00000055950</td><td>100987514</td><td> 99320000</td><td>102120000</td><td>Knight_eQTL_brain</td><td>lasso</td><td>TRUE</td><td>FALSE</td><td>...</td><td> 0.8315505</td><td>0.4056627</td><td>eQTL</td><td>chr10_100331627_104378781</td><td>chr10_100331627_104378781</td><td>KNIGHT_eQTL_pQTL</td><td>KNIGHT_eQTL_pQTL.chr10_100331627_104378781.twas.tsv.gz</td><td>ENSG00000055950</td><td>145418</td><td>1</td></tr>\n",
       "\t<tr><td>image_Aging3</td><td>10</td><td>ENSG00000055950</td><td>100987514</td><td> 99320000</td><td>102120000</td><td>Knight_eQTL_brain</td><td>mrash</td><td>TRUE</td><td>FALSE</td><td>...</td><td> 1.0668278</td><td>0.2860496</td><td>eQTL</td><td>chr10_100331627_104378781</td><td>chr10_100331627_104378781</td><td>KNIGHT_eQTL_pQTL</td><td>KNIGHT_eQTL_pQTL.chr10_100331627_104378781.twas.tsv.gz</td><td>ENSG00000055950</td><td>145418</td><td>1</td></tr>\n",
       "\t<tr><td>image_Aging3</td><td>10</td><td>ENSG00000055950</td><td>100987514</td><td> 99320000</td><td>102120000</td><td>Knight_eQTL_brain</td><td>susie</td><td>TRUE</td><td> TRUE</td><td>...</td><td> 0.9338231</td><td>0.3503952</td><td>eQTL</td><td>chr10_100331627_104378781</td><td>chr10_100331627_104378781</td><td>KNIGHT_eQTL_pQTL</td><td>KNIGHT_eQTL_pQTL.chr10_100331627_104378781.twas.tsv.gz</td><td>ENSG00000055950</td><td>145418</td><td>1</td></tr>\n",
       "\t<tr><td>image_Aging3</td><td>10</td><td>ENSG00000059915</td><td>102421538</td><td>101402617</td><td>103680000</td><td>Knight_eQTL_brain</td><td>enet </td><td>TRUE</td><td>FALSE</td><td>...</td><td>-1.5674767</td><td>0.1170033</td><td>eQTL</td><td>chr10_100331627_104378781</td><td>chr10_100331627_104378781</td><td>KNIGHT_eQTL_pQTL</td><td>KNIGHT_eQTL_pQTL.chr10_100331627_104378781.twas.tsv.gz</td><td>ENSG00000059915</td><td>145418</td><td>1</td></tr>\n",
       "\t<tr><td>image_Aging3</td><td>10</td><td>ENSG00000059915</td><td>102421538</td><td>101402617</td><td>103680000</td><td>Knight_eQTL_brain</td><td>lasso</td><td>TRUE</td><td>FALSE</td><td>...</td><td>-1.5819370</td><td>0.1136639</td><td>eQTL</td><td>chr10_100331627_104378781</td><td>chr10_100331627_104378781</td><td>KNIGHT_eQTL_pQTL</td><td>KNIGHT_eQTL_pQTL.chr10_100331627_104378781.twas.tsv.gz</td><td>ENSG00000059915</td><td>145418</td><td>1</td></tr>\n",
       "</tbody>\n",
       "</table>\n"
      ],
      "text/latex": [
       "A data.table: 6 x 22\n",
       "\\begin{tabular}{lllllllllllllllllllll}\n",
       " gwas\\_study & chr & molecular\\_id & TSS & start & end & context & method & is\\_imputable & is\\_selected\\_method & ... & twas\\_z & twas\\_pval & type & block & region & study\\_context & source\\_file & gene\\_id & N & twas\\_pval\\_bonf\\\\\n",
       " <chr> & <int> & <chr> & <int> & <int> & <int> & <chr> & <chr> & <lgl> & <lgl> & ... & <dbl> & <dbl> & <chr> & <chr> & <chr> & <chr> & <chr> & <chr> & <int> & <dbl>\\\\\n",
       "\\hline\n",
       "\t image\\_Aging3 & 10 & ENSG00000055950 & 100987514 &  99320000 & 102120000 & Knight\\_eQTL\\_brain & enet  & TRUE & FALSE & ... &  0.9022919 & 0.3669019 & eQTL & chr10\\_100331627\\_104378781 & chr10\\_100331627\\_104378781 & KNIGHT\\_eQTL\\_pQTL & KNIGHT\\_eQTL\\_pQTL.chr10\\_100331627\\_104378781.twas.tsv.gz & ENSG00000055950 & 145418 & 1\\\\\n",
       "\t image\\_Aging3 & 10 & ENSG00000055950 & 100987514 &  99320000 & 102120000 & Knight\\_eQTL\\_brain & lasso & TRUE & FALSE & ... &  0.8315505 & 0.4056627 & eQTL & chr10\\_100331627\\_104378781 & chr10\\_100331627\\_104378781 & KNIGHT\\_eQTL\\_pQTL & KNIGHT\\_eQTL\\_pQTL.chr10\\_100331627\\_104378781.twas.tsv.gz & ENSG00000055950 & 145418 & 1\\\\\n",
       "\t image\\_Aging3 & 10 & ENSG00000055950 & 100987514 &  99320000 & 102120000 & Knight\\_eQTL\\_brain & mrash & TRUE & FALSE & ... &  1.0668278 & 0.2860496 & eQTL & chr10\\_100331627\\_104378781 & chr10\\_100331627\\_104378781 & KNIGHT\\_eQTL\\_pQTL & KNIGHT\\_eQTL\\_pQTL.chr10\\_100331627\\_104378781.twas.tsv.gz & ENSG00000055950 & 145418 & 1\\\\\n",
       "\t image\\_Aging3 & 10 & ENSG00000055950 & 100987514 &  99320000 & 102120000 & Knight\\_eQTL\\_brain & susie & TRUE &  TRUE & ... &  0.9338231 & 0.3503952 & eQTL & chr10\\_100331627\\_104378781 & chr10\\_100331627\\_104378781 & KNIGHT\\_eQTL\\_pQTL & KNIGHT\\_eQTL\\_pQTL.chr10\\_100331627\\_104378781.twas.tsv.gz & ENSG00000055950 & 145418 & 1\\\\\n",
       "\t image\\_Aging3 & 10 & ENSG00000059915 & 102421538 & 101402617 & 103680000 & Knight\\_eQTL\\_brain & enet  & TRUE & FALSE & ... & -1.5674767 & 0.1170033 & eQTL & chr10\\_100331627\\_104378781 & chr10\\_100331627\\_104378781 & KNIGHT\\_eQTL\\_pQTL & KNIGHT\\_eQTL\\_pQTL.chr10\\_100331627\\_104378781.twas.tsv.gz & ENSG00000059915 & 145418 & 1\\\\\n",
       "\t image\\_Aging3 & 10 & ENSG00000059915 & 102421538 & 101402617 & 103680000 & Knight\\_eQTL\\_brain & lasso & TRUE & FALSE & ... & -1.5819370 & 0.1136639 & eQTL & chr10\\_100331627\\_104378781 & chr10\\_100331627\\_104378781 & KNIGHT\\_eQTL\\_pQTL & KNIGHT\\_eQTL\\_pQTL.chr10\\_100331627\\_104378781.twas.tsv.gz & ENSG00000059915 & 145418 & 1\\\\\n",
       "\\end{tabular}\n"
      ],
      "text/markdown": [
       "\n",
       "A data.table: 6 x 22\n",
       "\n",
       "| gwas_study &lt;chr&gt; | chr &lt;int&gt; | molecular_id &lt;chr&gt; | TSS &lt;int&gt; | start &lt;int&gt; | end &lt;int&gt; | context &lt;chr&gt; | method &lt;chr&gt; | is_imputable &lt;lgl&gt; | is_selected_method &lt;lgl&gt; | ... ... | twas_z &lt;dbl&gt; | twas_pval &lt;dbl&gt; | type &lt;chr&gt; | block &lt;chr&gt; | region &lt;chr&gt; | study_context &lt;chr&gt; | source_file &lt;chr&gt; | gene_id &lt;chr&gt; | N &lt;int&gt; | twas_pval_bonf &lt;dbl&gt; |\n",
       "|---|---|---|---|---|---|---|---|---|---|---|---|---|---|---|---|---|---|---|---|---|\n",
       "| image_Aging3 | 10 | ENSG00000055950 | 100987514 |  99320000 | 102120000 | Knight_eQTL_brain | enet  | TRUE | FALSE | ... |  0.9022919 | 0.3669019 | eQTL | chr10_100331627_104378781 | chr10_100331627_104378781 | KNIGHT_eQTL_pQTL | KNIGHT_eQTL_pQTL.chr10_100331627_104378781.twas.tsv.gz | ENSG00000055950 | 145418 | 1 |\n",
       "| image_Aging3 | 10 | ENSG00000055950 | 100987514 |  99320000 | 102120000 | Knight_eQTL_brain | lasso | TRUE | FALSE | ... |  0.8315505 | 0.4056627 | eQTL | chr10_100331627_104378781 | chr10_100331627_104378781 | KNIGHT_eQTL_pQTL | KNIGHT_eQTL_pQTL.chr10_100331627_104378781.twas.tsv.gz | ENSG00000055950 | 145418 | 1 |\n",
       "| image_Aging3 | 10 | ENSG00000055950 | 100987514 |  99320000 | 102120000 | Knight_eQTL_brain | mrash | TRUE | FALSE | ... |  1.0668278 | 0.2860496 | eQTL | chr10_100331627_104378781 | chr10_100331627_104378781 | KNIGHT_eQTL_pQTL | KNIGHT_eQTL_pQTL.chr10_100331627_104378781.twas.tsv.gz | ENSG00000055950 | 145418 | 1 |\n",
       "| image_Aging3 | 10 | ENSG00000055950 | 100987514 |  99320000 | 102120000 | Knight_eQTL_brain | susie | TRUE |  TRUE | ... |  0.9338231 | 0.3503952 | eQTL | chr10_100331627_104378781 | chr10_100331627_104378781 | KNIGHT_eQTL_pQTL | KNIGHT_eQTL_pQTL.chr10_100331627_104378781.twas.tsv.gz | ENSG00000055950 | 145418 | 1 |\n",
       "| image_Aging3 | 10 | ENSG00000059915 | 102421538 | 101402617 | 103680000 | Knight_eQTL_brain | enet  | TRUE | FALSE | ... | -1.5674767 | 0.1170033 | eQTL | chr10_100331627_104378781 | chr10_100331627_104378781 | KNIGHT_eQTL_pQTL | KNIGHT_eQTL_pQTL.chr10_100331627_104378781.twas.tsv.gz | ENSG00000059915 | 145418 | 1 |\n",
       "| image_Aging3 | 10 | ENSG00000059915 | 102421538 | 101402617 | 103680000 | Knight_eQTL_brain | lasso | TRUE | FALSE | ... | -1.5819370 | 0.1136639 | eQTL | chr10_100331627_104378781 | chr10_100331627_104378781 | KNIGHT_eQTL_pQTL | KNIGHT_eQTL_pQTL.chr10_100331627_104378781.twas.tsv.gz | ENSG00000059915 | 145418 | 1 |\n",
       "\n"
      ],
      "text/plain": [
       "  gwas_study   chr molecular_id    TSS       start     end      \n",
       "1 image_Aging3 10  ENSG00000055950 100987514  99320000 102120000\n",
       "2 image_Aging3 10  ENSG00000055950 100987514  99320000 102120000\n",
       "3 image_Aging3 10  ENSG00000055950 100987514  99320000 102120000\n",
       "4 image_Aging3 10  ENSG00000055950 100987514  99320000 102120000\n",
       "5 image_Aging3 10  ENSG00000059915 102421538 101402617 103680000\n",
       "6 image_Aging3 10  ENSG00000059915 102421538 101402617 103680000\n",
       "  context           method is_imputable is_selected_method ... twas_z    \n",
       "1 Knight_eQTL_brain enet   TRUE         FALSE              ...  0.9022919\n",
       "2 Knight_eQTL_brain lasso  TRUE         FALSE              ...  0.8315505\n",
       "3 Knight_eQTL_brain mrash  TRUE         FALSE              ...  1.0668278\n",
       "4 Knight_eQTL_brain susie  TRUE          TRUE              ...  0.9338231\n",
       "5 Knight_eQTL_brain enet   TRUE         FALSE              ... -1.5674767\n",
       "6 Knight_eQTL_brain lasso  TRUE         FALSE              ... -1.5819370\n",
       "  twas_pval type block                     region                   \n",
       "1 0.3669019 eQTL chr10_100331627_104378781 chr10_100331627_104378781\n",
       "2 0.4056627 eQTL chr10_100331627_104378781 chr10_100331627_104378781\n",
       "3 0.2860496 eQTL chr10_100331627_104378781 chr10_100331627_104378781\n",
       "4 0.3503952 eQTL chr10_100331627_104378781 chr10_100331627_104378781\n",
       "5 0.1170033 eQTL chr10_100331627_104378781 chr10_100331627_104378781\n",
       "6 0.1136639 eQTL chr10_100331627_104378781 chr10_100331627_104378781\n",
       "  study_context    source_file                                           \n",
       "1 KNIGHT_eQTL_pQTL KNIGHT_eQTL_pQTL.chr10_100331627_104378781.twas.tsv.gz\n",
       "2 KNIGHT_eQTL_pQTL KNIGHT_eQTL_pQTL.chr10_100331627_104378781.twas.tsv.gz\n",
       "3 KNIGHT_eQTL_pQTL KNIGHT_eQTL_pQTL.chr10_100331627_104378781.twas.tsv.gz\n",
       "4 KNIGHT_eQTL_pQTL KNIGHT_eQTL_pQTL.chr10_100331627_104378781.twas.tsv.gz\n",
       "5 KNIGHT_eQTL_pQTL KNIGHT_eQTL_pQTL.chr10_100331627_104378781.twas.tsv.gz\n",
       "6 KNIGHT_eQTL_pQTL KNIGHT_eQTL_pQTL.chr10_100331627_104378781.twas.tsv.gz\n",
       "  gene_id         N      twas_pval_bonf\n",
       "1 ENSG00000055950 145418 1             \n",
       "2 ENSG00000055950 145418 1             \n",
       "3 ENSG00000055950 145418 1             \n",
       "4 ENSG00000055950 145418 1             \n",
       "5 ENSG00000059915 145418 1             \n",
       "6 ENSG00000059915 145418 1             "
      ]
     },
     "metadata": {},
     "output_type": "display_data"
    },
    {
     "data": {
      "text/html": [
       "<style>\n",
       ".list-inline {list-style: none; margin:0; padding: 0}\n",
       ".list-inline>li {display: inline-block}\n",
       ".list-inline>li:not(:last-child)::after {content: \"\\00b7\"; padding: 0 .5ex}\n",
       "</style>\n",
       "<ol class=list-inline><li>924774</li><li>22</li></ol>\n"
      ],
      "text/latex": [
       "\\begin{enumerate*}\n",
       "\\item 924774\n",
       "\\item 22\n",
       "\\end{enumerate*}\n"
      ],
      "text/markdown": [
       "1. 924774\n",
       "2. 22\n",
       "\n",
       "\n"
      ],
      "text/plain": [
       "[1] 924774     22"
      ]
     },
     "metadata": {},
     "output_type": "display_data"
    }
   ],
   "source": [
    "head(image_Aging3)\n",
    "dim(image_Aging3)"
   ]
  },
  {
   "cell_type": "code",
   "execution_count": 60,
   "id": "9e60e0bd-fba9-4888-82f6-2c13f0c7001b",
   "metadata": {},
   "outputs": [
    {
     "data": {
      "text/html": [
       "11"
      ],
      "text/latex": [
       "11"
      ],
      "text/markdown": [
       "11"
      ],
      "text/plain": [
       "[1] 11"
      ]
     },
     "metadata": {},
     "output_type": "display_data"
    }
   ],
   "source": [
    "sig_image_Aging3 = image_Aging3 |> filter(is_selected_method, twas_pval_bonf < 0.05) \n",
    "length(unique(sig_image_Aging3$molecular_id))"
   ]
  },
  {
   "cell_type": "code",
   "execution_count": 61,
   "id": "662f6203-b0a5-4e6e-a69b-899158d45d79",
   "metadata": {},
   "outputs": [],
   "source": [
    "image_Aging3_gene_list = sig_image_Aging3 |> mutate(`#chr` = paste0(\"chr\", chr), gene_id = molecular_id)|>select(`#chr`, start, end, gene_id) |> unique()"
   ]
  },
  {
   "cell_type": "code",
   "execution_count": 62,
   "id": "519c754b-0aad-4fef-9b1d-4d50e70cc5a1",
   "metadata": {},
   "outputs": [
    {
     "data": {
      "text/html": [
       "<style>\n",
       ".list-inline {list-style: none; margin:0; padding: 0}\n",
       ".list-inline>li {display: inline-block}\n",
       ".list-inline>li:not(:last-child)::after {content: \"\\00b7\"; padding: 0 .5ex}\n",
       "</style>\n",
       "<ol class=list-inline><li>11</li><li>4</li></ol>\n"
      ],
      "text/latex": [
       "\\begin{enumerate*}\n",
       "\\item 11\n",
       "\\item 4\n",
       "\\end{enumerate*}\n"
      ],
      "text/markdown": [
       "1. 11\n",
       "2. 4\n",
       "\n",
       "\n"
      ],
      "text/plain": [
       "[1] 11  4"
      ]
     },
     "metadata": {},
     "output_type": "display_data"
    }
   ],
   "source": [
    "dim(image_Aging3_gene_list)"
   ]
  },
  {
   "cell_type": "code",
   "execution_count": 63,
   "id": "e53d3a33-6f15-412f-b050-b9b157481a0a",
   "metadata": {},
   "outputs": [],
   "source": [
    "DNE_QTL_gene = fread(\"~/project/image_QTL/twas/annotated_dne_gene.tsv\")\n"
   ]
  },
  {
   "cell_type": "code",
   "execution_count": 64,
   "id": "8e656bb0-edef-412c-b91f-e860cb50a1ff",
   "metadata": {},
   "outputs": [],
   "source": [
    "image_Aging3_QTL_gene = DNE_QTL_gene |> filter(str_detect(event_ID, \"image_Aging3\")) |> select(-strand,-event_ID)\n",
    "                                        "
   ]
  },
  {
   "cell_type": "code",
   "execution_count": 65,
   "id": "07ab55a7-7e6e-495e-836e-d3296891b5f5",
   "metadata": {},
   "outputs": [],
   "source": [
    "image_Aging3_gene = bind_rows(image_Aging3_gene_list, image_Aging3_QTL_gene)"
   ]
  },
  {
   "cell_type": "code",
   "execution_count": 66,
   "id": "f8ce57c4-700d-4690-80a6-5976d99c7a79",
   "metadata": {},
   "outputs": [],
   "source": [
    "fwrite(image_Aging3_gene, \"image_Aging3_gene_list.tsv\", sep = '\\t')"
   ]
  },
  {
   "cell_type": "code",
   "execution_count": null,
   "id": "9f5d2354-6805-4e93-ac80-ab24071a8f16",
   "metadata": {},
   "outputs": [],
   "source": []
  },
  {
   "cell_type": "markdown",
   "id": "39dba628-c542-4ac7-8cd1-890662fbc9f5",
   "metadata": {},
   "source": [
    "## image_Aging4"
   ]
  },
  {
   "cell_type": "code",
   "execution_count": 67,
   "id": "4dd03149-2791-4b21-bb0a-80b1b5e0e3e6",
   "metadata": {},
   "outputs": [],
   "source": [
    "image_Aging4 <- fread(\"~/project/image_QTL/twas/multiple_testing/image_Aging4_twas_bonff.bonf_corrected.tsv.gz\")"
   ]
  },
  {
   "cell_type": "code",
   "execution_count": 68,
   "id": "d3521e32-3f57-46bb-b45f-fe74020fe2d4",
   "metadata": {},
   "outputs": [
    {
     "data": {
      "text/html": [
       "<table class=\"dataframe\">\n",
       "<caption>A data.table: 6 x 22</caption>\n",
       "<thead>\n",
       "\t<tr><th scope=col>gwas_study</th><th scope=col>chr</th><th scope=col>molecular_id</th><th scope=col>TSS</th><th scope=col>start</th><th scope=col>end</th><th scope=col>context</th><th scope=col>method</th><th scope=col>is_imputable</th><th scope=col>is_selected_method</th><th scope=col>...</th><th scope=col>twas_z</th><th scope=col>twas_pval</th><th scope=col>type</th><th scope=col>block</th><th scope=col>region</th><th scope=col>study_context</th><th scope=col>source_file</th><th scope=col>gene_id</th><th scope=col>N</th><th scope=col>twas_pval_bonf</th></tr>\n",
       "\t<tr><th scope=col>&lt;chr&gt;</th><th scope=col>&lt;int&gt;</th><th scope=col>&lt;chr&gt;</th><th scope=col>&lt;int&gt;</th><th scope=col>&lt;int&gt;</th><th scope=col>&lt;int&gt;</th><th scope=col>&lt;chr&gt;</th><th scope=col>&lt;chr&gt;</th><th scope=col>&lt;lgl&gt;</th><th scope=col>&lt;lgl&gt;</th><th scope=col>...</th><th scope=col>&lt;dbl&gt;</th><th scope=col>&lt;dbl&gt;</th><th scope=col>&lt;chr&gt;</th><th scope=col>&lt;chr&gt;</th><th scope=col>&lt;chr&gt;</th><th scope=col>&lt;chr&gt;</th><th scope=col>&lt;chr&gt;</th><th scope=col>&lt;chr&gt;</th><th scope=col>&lt;int&gt;</th><th scope=col>&lt;dbl&gt;</th></tr>\n",
       "</thead>\n",
       "<tbody>\n",
       "\t<tr><td>image_Aging4</td><td>10</td><td>ENSG00000055950</td><td>100987514</td><td> 99320000</td><td>102120000</td><td>Knight_eQTL_brain</td><td>enet </td><td>TRUE</td><td>FALSE</td><td>...</td><td>-2.925529</td><td>0.003438716</td><td>eQTL</td><td>chr10_100331627_104378781</td><td>chr10_100331627_104378781</td><td>KNIGHT_eQTL_pQTL</td><td>KNIGHT_eQTL_pQTL.chr10_100331627_104378781.twas.tsv.gz</td><td>ENSG00000055950</td><td>147071</td><td>1</td></tr>\n",
       "\t<tr><td>image_Aging4</td><td>10</td><td>ENSG00000055950</td><td>100987514</td><td> 99320000</td><td>102120000</td><td>Knight_eQTL_brain</td><td>lasso</td><td>TRUE</td><td>FALSE</td><td>...</td><td>-2.953063</td><td>0.003146377</td><td>eQTL</td><td>chr10_100331627_104378781</td><td>chr10_100331627_104378781</td><td>KNIGHT_eQTL_pQTL</td><td>KNIGHT_eQTL_pQTL.chr10_100331627_104378781.twas.tsv.gz</td><td>ENSG00000055950</td><td>147071</td><td>1</td></tr>\n",
       "\t<tr><td>image_Aging4</td><td>10</td><td>ENSG00000055950</td><td>100987514</td><td> 99320000</td><td>102120000</td><td>Knight_eQTL_brain</td><td>mrash</td><td>TRUE</td><td>FALSE</td><td>...</td><td>-2.792398</td><td>0.005231890</td><td>eQTL</td><td>chr10_100331627_104378781</td><td>chr10_100331627_104378781</td><td>KNIGHT_eQTL_pQTL</td><td>KNIGHT_eQTL_pQTL.chr10_100331627_104378781.twas.tsv.gz</td><td>ENSG00000055950</td><td>147071</td><td>1</td></tr>\n",
       "\t<tr><td>image_Aging4</td><td>10</td><td>ENSG00000055950</td><td>100987514</td><td> 99320000</td><td>102120000</td><td>Knight_eQTL_brain</td><td>susie</td><td>TRUE</td><td> TRUE</td><td>...</td><td>-2.932920</td><td>0.003357909</td><td>eQTL</td><td>chr10_100331627_104378781</td><td>chr10_100331627_104378781</td><td>KNIGHT_eQTL_pQTL</td><td>KNIGHT_eQTL_pQTL.chr10_100331627_104378781.twas.tsv.gz</td><td>ENSG00000055950</td><td>147071</td><td>1</td></tr>\n",
       "\t<tr><td>image_Aging4</td><td>10</td><td>ENSG00000059915</td><td>102421538</td><td>101402617</td><td>103680000</td><td>Knight_eQTL_brain</td><td>enet </td><td>TRUE</td><td>FALSE</td><td>...</td><td> 1.188241</td><td>0.234738536</td><td>eQTL</td><td>chr10_100331627_104378781</td><td>chr10_100331627_104378781</td><td>KNIGHT_eQTL_pQTL</td><td>KNIGHT_eQTL_pQTL.chr10_100331627_104378781.twas.tsv.gz</td><td>ENSG00000059915</td><td>147071</td><td>1</td></tr>\n",
       "\t<tr><td>image_Aging4</td><td>10</td><td>ENSG00000059915</td><td>102421538</td><td>101402617</td><td>103680000</td><td>Knight_eQTL_brain</td><td>lasso</td><td>TRUE</td><td>FALSE</td><td>...</td><td> 1.045410</td><td>0.295833712</td><td>eQTL</td><td>chr10_100331627_104378781</td><td>chr10_100331627_104378781</td><td>KNIGHT_eQTL_pQTL</td><td>KNIGHT_eQTL_pQTL.chr10_100331627_104378781.twas.tsv.gz</td><td>ENSG00000059915</td><td>147071</td><td>1</td></tr>\n",
       "</tbody>\n",
       "</table>\n"
      ],
      "text/latex": [
       "A data.table: 6 x 22\n",
       "\\begin{tabular}{lllllllllllllllllllll}\n",
       " gwas\\_study & chr & molecular\\_id & TSS & start & end & context & method & is\\_imputable & is\\_selected\\_method & ... & twas\\_z & twas\\_pval & type & block & region & study\\_context & source\\_file & gene\\_id & N & twas\\_pval\\_bonf\\\\\n",
       " <chr> & <int> & <chr> & <int> & <int> & <int> & <chr> & <chr> & <lgl> & <lgl> & ... & <dbl> & <dbl> & <chr> & <chr> & <chr> & <chr> & <chr> & <chr> & <int> & <dbl>\\\\\n",
       "\\hline\n",
       "\t image\\_Aging4 & 10 & ENSG00000055950 & 100987514 &  99320000 & 102120000 & Knight\\_eQTL\\_brain & enet  & TRUE & FALSE & ... & -2.925529 & 0.003438716 & eQTL & chr10\\_100331627\\_104378781 & chr10\\_100331627\\_104378781 & KNIGHT\\_eQTL\\_pQTL & KNIGHT\\_eQTL\\_pQTL.chr10\\_100331627\\_104378781.twas.tsv.gz & ENSG00000055950 & 147071 & 1\\\\\n",
       "\t image\\_Aging4 & 10 & ENSG00000055950 & 100987514 &  99320000 & 102120000 & Knight\\_eQTL\\_brain & lasso & TRUE & FALSE & ... & -2.953063 & 0.003146377 & eQTL & chr10\\_100331627\\_104378781 & chr10\\_100331627\\_104378781 & KNIGHT\\_eQTL\\_pQTL & KNIGHT\\_eQTL\\_pQTL.chr10\\_100331627\\_104378781.twas.tsv.gz & ENSG00000055950 & 147071 & 1\\\\\n",
       "\t image\\_Aging4 & 10 & ENSG00000055950 & 100987514 &  99320000 & 102120000 & Knight\\_eQTL\\_brain & mrash & TRUE & FALSE & ... & -2.792398 & 0.005231890 & eQTL & chr10\\_100331627\\_104378781 & chr10\\_100331627\\_104378781 & KNIGHT\\_eQTL\\_pQTL & KNIGHT\\_eQTL\\_pQTL.chr10\\_100331627\\_104378781.twas.tsv.gz & ENSG00000055950 & 147071 & 1\\\\\n",
       "\t image\\_Aging4 & 10 & ENSG00000055950 & 100987514 &  99320000 & 102120000 & Knight\\_eQTL\\_brain & susie & TRUE &  TRUE & ... & -2.932920 & 0.003357909 & eQTL & chr10\\_100331627\\_104378781 & chr10\\_100331627\\_104378781 & KNIGHT\\_eQTL\\_pQTL & KNIGHT\\_eQTL\\_pQTL.chr10\\_100331627\\_104378781.twas.tsv.gz & ENSG00000055950 & 147071 & 1\\\\\n",
       "\t image\\_Aging4 & 10 & ENSG00000059915 & 102421538 & 101402617 & 103680000 & Knight\\_eQTL\\_brain & enet  & TRUE & FALSE & ... &  1.188241 & 0.234738536 & eQTL & chr10\\_100331627\\_104378781 & chr10\\_100331627\\_104378781 & KNIGHT\\_eQTL\\_pQTL & KNIGHT\\_eQTL\\_pQTL.chr10\\_100331627\\_104378781.twas.tsv.gz & ENSG00000059915 & 147071 & 1\\\\\n",
       "\t image\\_Aging4 & 10 & ENSG00000059915 & 102421538 & 101402617 & 103680000 & Knight\\_eQTL\\_brain & lasso & TRUE & FALSE & ... &  1.045410 & 0.295833712 & eQTL & chr10\\_100331627\\_104378781 & chr10\\_100331627\\_104378781 & KNIGHT\\_eQTL\\_pQTL & KNIGHT\\_eQTL\\_pQTL.chr10\\_100331627\\_104378781.twas.tsv.gz & ENSG00000059915 & 147071 & 1\\\\\n",
       "\\end{tabular}\n"
      ],
      "text/markdown": [
       "\n",
       "A data.table: 6 x 22\n",
       "\n",
       "| gwas_study &lt;chr&gt; | chr &lt;int&gt; | molecular_id &lt;chr&gt; | TSS &lt;int&gt; | start &lt;int&gt; | end &lt;int&gt; | context &lt;chr&gt; | method &lt;chr&gt; | is_imputable &lt;lgl&gt; | is_selected_method &lt;lgl&gt; | ... ... | twas_z &lt;dbl&gt; | twas_pval &lt;dbl&gt; | type &lt;chr&gt; | block &lt;chr&gt; | region &lt;chr&gt; | study_context &lt;chr&gt; | source_file &lt;chr&gt; | gene_id &lt;chr&gt; | N &lt;int&gt; | twas_pval_bonf &lt;dbl&gt; |\n",
       "|---|---|---|---|---|---|---|---|---|---|---|---|---|---|---|---|---|---|---|---|---|\n",
       "| image_Aging4 | 10 | ENSG00000055950 | 100987514 |  99320000 | 102120000 | Knight_eQTL_brain | enet  | TRUE | FALSE | ... | -2.925529 | 0.003438716 | eQTL | chr10_100331627_104378781 | chr10_100331627_104378781 | KNIGHT_eQTL_pQTL | KNIGHT_eQTL_pQTL.chr10_100331627_104378781.twas.tsv.gz | ENSG00000055950 | 147071 | 1 |\n",
       "| image_Aging4 | 10 | ENSG00000055950 | 100987514 |  99320000 | 102120000 | Knight_eQTL_brain | lasso | TRUE | FALSE | ... | -2.953063 | 0.003146377 | eQTL | chr10_100331627_104378781 | chr10_100331627_104378781 | KNIGHT_eQTL_pQTL | KNIGHT_eQTL_pQTL.chr10_100331627_104378781.twas.tsv.gz | ENSG00000055950 | 147071 | 1 |\n",
       "| image_Aging4 | 10 | ENSG00000055950 | 100987514 |  99320000 | 102120000 | Knight_eQTL_brain | mrash | TRUE | FALSE | ... | -2.792398 | 0.005231890 | eQTL | chr10_100331627_104378781 | chr10_100331627_104378781 | KNIGHT_eQTL_pQTL | KNIGHT_eQTL_pQTL.chr10_100331627_104378781.twas.tsv.gz | ENSG00000055950 | 147071 | 1 |\n",
       "| image_Aging4 | 10 | ENSG00000055950 | 100987514 |  99320000 | 102120000 | Knight_eQTL_brain | susie | TRUE |  TRUE | ... | -2.932920 | 0.003357909 | eQTL | chr10_100331627_104378781 | chr10_100331627_104378781 | KNIGHT_eQTL_pQTL | KNIGHT_eQTL_pQTL.chr10_100331627_104378781.twas.tsv.gz | ENSG00000055950 | 147071 | 1 |\n",
       "| image_Aging4 | 10 | ENSG00000059915 | 102421538 | 101402617 | 103680000 | Knight_eQTL_brain | enet  | TRUE | FALSE | ... |  1.188241 | 0.234738536 | eQTL | chr10_100331627_104378781 | chr10_100331627_104378781 | KNIGHT_eQTL_pQTL | KNIGHT_eQTL_pQTL.chr10_100331627_104378781.twas.tsv.gz | ENSG00000059915 | 147071 | 1 |\n",
       "| image_Aging4 | 10 | ENSG00000059915 | 102421538 | 101402617 | 103680000 | Knight_eQTL_brain | lasso | TRUE | FALSE | ... |  1.045410 | 0.295833712 | eQTL | chr10_100331627_104378781 | chr10_100331627_104378781 | KNIGHT_eQTL_pQTL | KNIGHT_eQTL_pQTL.chr10_100331627_104378781.twas.tsv.gz | ENSG00000059915 | 147071 | 1 |\n",
       "\n"
      ],
      "text/plain": [
       "  gwas_study   chr molecular_id    TSS       start     end      \n",
       "1 image_Aging4 10  ENSG00000055950 100987514  99320000 102120000\n",
       "2 image_Aging4 10  ENSG00000055950 100987514  99320000 102120000\n",
       "3 image_Aging4 10  ENSG00000055950 100987514  99320000 102120000\n",
       "4 image_Aging4 10  ENSG00000055950 100987514  99320000 102120000\n",
       "5 image_Aging4 10  ENSG00000059915 102421538 101402617 103680000\n",
       "6 image_Aging4 10  ENSG00000059915 102421538 101402617 103680000\n",
       "  context           method is_imputable is_selected_method ... twas_z   \n",
       "1 Knight_eQTL_brain enet   TRUE         FALSE              ... -2.925529\n",
       "2 Knight_eQTL_brain lasso  TRUE         FALSE              ... -2.953063\n",
       "3 Knight_eQTL_brain mrash  TRUE         FALSE              ... -2.792398\n",
       "4 Knight_eQTL_brain susie  TRUE          TRUE              ... -2.932920\n",
       "5 Knight_eQTL_brain enet   TRUE         FALSE              ...  1.188241\n",
       "6 Knight_eQTL_brain lasso  TRUE         FALSE              ...  1.045410\n",
       "  twas_pval   type block                     region                   \n",
       "1 0.003438716 eQTL chr10_100331627_104378781 chr10_100331627_104378781\n",
       "2 0.003146377 eQTL chr10_100331627_104378781 chr10_100331627_104378781\n",
       "3 0.005231890 eQTL chr10_100331627_104378781 chr10_100331627_104378781\n",
       "4 0.003357909 eQTL chr10_100331627_104378781 chr10_100331627_104378781\n",
       "5 0.234738536 eQTL chr10_100331627_104378781 chr10_100331627_104378781\n",
       "6 0.295833712 eQTL chr10_100331627_104378781 chr10_100331627_104378781\n",
       "  study_context    source_file                                           \n",
       "1 KNIGHT_eQTL_pQTL KNIGHT_eQTL_pQTL.chr10_100331627_104378781.twas.tsv.gz\n",
       "2 KNIGHT_eQTL_pQTL KNIGHT_eQTL_pQTL.chr10_100331627_104378781.twas.tsv.gz\n",
       "3 KNIGHT_eQTL_pQTL KNIGHT_eQTL_pQTL.chr10_100331627_104378781.twas.tsv.gz\n",
       "4 KNIGHT_eQTL_pQTL KNIGHT_eQTL_pQTL.chr10_100331627_104378781.twas.tsv.gz\n",
       "5 KNIGHT_eQTL_pQTL KNIGHT_eQTL_pQTL.chr10_100331627_104378781.twas.tsv.gz\n",
       "6 KNIGHT_eQTL_pQTL KNIGHT_eQTL_pQTL.chr10_100331627_104378781.twas.tsv.gz\n",
       "  gene_id         N      twas_pval_bonf\n",
       "1 ENSG00000055950 147071 1             \n",
       "2 ENSG00000055950 147071 1             \n",
       "3 ENSG00000055950 147071 1             \n",
       "4 ENSG00000055950 147071 1             \n",
       "5 ENSG00000059915 147071 1             \n",
       "6 ENSG00000059915 147071 1             "
      ]
     },
     "metadata": {},
     "output_type": "display_data"
    },
    {
     "data": {
      "text/html": [
       "<style>\n",
       ".list-inline {list-style: none; margin:0; padding: 0}\n",
       ".list-inline>li {display: inline-block}\n",
       ".list-inline>li:not(:last-child)::after {content: \"\\00b7\"; padding: 0 .5ex}\n",
       "</style>\n",
       "<ol class=list-inline><li>928827</li><li>22</li></ol>\n"
      ],
      "text/latex": [
       "\\begin{enumerate*}\n",
       "\\item 928827\n",
       "\\item 22\n",
       "\\end{enumerate*}\n"
      ],
      "text/markdown": [
       "1. 928827\n",
       "2. 22\n",
       "\n",
       "\n"
      ],
      "text/plain": [
       "[1] 928827     22"
      ]
     },
     "metadata": {},
     "output_type": "display_data"
    }
   ],
   "source": [
    "head(image_Aging4)\n",
    "dim(image_Aging4)"
   ]
  },
  {
   "cell_type": "code",
   "execution_count": 69,
   "id": "cbd03135-9238-4bcb-b5b7-443aa2efaa14",
   "metadata": {},
   "outputs": [
    {
     "data": {
      "text/html": [
       "8"
      ],
      "text/latex": [
       "8"
      ],
      "text/markdown": [
       "8"
      ],
      "text/plain": [
       "[1] 8"
      ]
     },
     "metadata": {},
     "output_type": "display_data"
    }
   ],
   "source": [
    "sig_image_Aging4 = image_Aging4 |> filter(is_selected_method, twas_pval_bonf < 0.05) \n",
    "length(unique(sig_image_Aging4$molecular_id))"
   ]
  },
  {
   "cell_type": "code",
   "execution_count": 70,
   "id": "378e3ff4-87cb-4e41-86fc-08b43cac8239",
   "metadata": {},
   "outputs": [],
   "source": [
    "image_Aging4_gene_list = sig_image_Aging4 |> mutate(`#chr` = paste0(\"chr\", chr), gene_id = molecular_id)|>select(`#chr`, start, end, gene_id) |> unique()"
   ]
  },
  {
   "cell_type": "code",
   "execution_count": 71,
   "id": "cfbbf00e-2cf4-4e45-8ae7-4e06b1a9fc7e",
   "metadata": {},
   "outputs": [
    {
     "data": {
      "text/html": [
       "<style>\n",
       ".list-inline {list-style: none; margin:0; padding: 0}\n",
       ".list-inline>li {display: inline-block}\n",
       ".list-inline>li:not(:last-child)::after {content: \"\\00b7\"; padding: 0 .5ex}\n",
       "</style>\n",
       "<ol class=list-inline><li>8</li><li>4</li></ol>\n"
      ],
      "text/latex": [
       "\\begin{enumerate*}\n",
       "\\item 8\n",
       "\\item 4\n",
       "\\end{enumerate*}\n"
      ],
      "text/markdown": [
       "1. 8\n",
       "2. 4\n",
       "\n",
       "\n"
      ],
      "text/plain": [
       "[1] 8 4"
      ]
     },
     "metadata": {},
     "output_type": "display_data"
    }
   ],
   "source": [
    "dim(image_Aging4_gene_list)"
   ]
  },
  {
   "cell_type": "code",
   "execution_count": 72,
   "id": "d913a2aa-edac-4806-bb39-3ae96721b1b1",
   "metadata": {},
   "outputs": [],
   "source": [
    "DNE_QTL_gene = fread(\"~/project/image_QTL/twas/annotated_dne_gene.tsv\")\n"
   ]
  },
  {
   "cell_type": "code",
   "execution_count": 73,
   "id": "fe527831-e4ad-478f-928b-9d6cd087fbe4",
   "metadata": {},
   "outputs": [],
   "source": [
    "image_Aging4_QTL_gene = DNE_QTL_gene |> filter(str_detect(event_ID, \"image_Aging4\")) |> select(-strand,-event_ID)\n",
    "                                        "
   ]
  },
  {
   "cell_type": "code",
   "execution_count": 74,
   "id": "7e6bb2a6-d3cf-4076-a46e-e2b2da99e918",
   "metadata": {},
   "outputs": [],
   "source": [
    "image_Aging4_gene = bind_rows(image_Aging4_gene_list, image_Aging4_QTL_gene)"
   ]
  },
  {
   "cell_type": "code",
   "execution_count": 75,
   "id": "1fdaa4ee-1d04-43ce-93b5-c32bb3b3ec87",
   "metadata": {},
   "outputs": [],
   "source": [
    "fwrite(image_Aging4_gene, \"image_Aging4_gene_list.tsv\", sep = '\\t')"
   ]
  },
  {
   "cell_type": "code",
   "execution_count": null,
   "id": "18b9a74d-4cf1-49dd-887f-c8d900f0d29b",
   "metadata": {},
   "outputs": [],
   "source": []
  },
  {
   "cell_type": "markdown",
   "id": "72c4e6e1-bbc4-4968-8e25-5aa5bae8dad1",
   "metadata": {},
   "source": [
    "## image_Aging5"
   ]
  },
  {
   "cell_type": "code",
   "execution_count": 76,
   "id": "a09eccac-ed10-4337-bd62-5458c77cfb83",
   "metadata": {},
   "outputs": [],
   "source": [
    "image_Aging5 <- fread(\"~/project/image_QTL/twas/multiple_testing/image_Aging5_twas_bonff.bonf_corrected.tsv.gz\")"
   ]
  },
  {
   "cell_type": "code",
   "execution_count": 77,
   "id": "30fe076c-85ee-4136-8f4b-fa029a9b52ff",
   "metadata": {},
   "outputs": [
    {
     "data": {
      "text/html": [
       "<table class=\"dataframe\">\n",
       "<caption>A data.table: 6 x 22</caption>\n",
       "<thead>\n",
       "\t<tr><th scope=col>gwas_study</th><th scope=col>chr</th><th scope=col>molecular_id</th><th scope=col>TSS</th><th scope=col>start</th><th scope=col>end</th><th scope=col>context</th><th scope=col>method</th><th scope=col>is_imputable</th><th scope=col>is_selected_method</th><th scope=col>...</th><th scope=col>twas_z</th><th scope=col>twas_pval</th><th scope=col>type</th><th scope=col>block</th><th scope=col>region</th><th scope=col>study_context</th><th scope=col>source_file</th><th scope=col>gene_id</th><th scope=col>N</th><th scope=col>twas_pval_bonf</th></tr>\n",
       "\t<tr><th scope=col>&lt;chr&gt;</th><th scope=col>&lt;int&gt;</th><th scope=col>&lt;chr&gt;</th><th scope=col>&lt;int&gt;</th><th scope=col>&lt;int&gt;</th><th scope=col>&lt;int&gt;</th><th scope=col>&lt;chr&gt;</th><th scope=col>&lt;chr&gt;</th><th scope=col>&lt;lgl&gt;</th><th scope=col>&lt;lgl&gt;</th><th scope=col>...</th><th scope=col>&lt;dbl&gt;</th><th scope=col>&lt;dbl&gt;</th><th scope=col>&lt;chr&gt;</th><th scope=col>&lt;chr&gt;</th><th scope=col>&lt;chr&gt;</th><th scope=col>&lt;chr&gt;</th><th scope=col>&lt;chr&gt;</th><th scope=col>&lt;chr&gt;</th><th scope=col>&lt;int&gt;</th><th scope=col>&lt;dbl&gt;</th></tr>\n",
       "</thead>\n",
       "<tbody>\n",
       "\t<tr><td>image_Aging5</td><td>7</td><td>ENSG00000198286</td><td>3043866</td><td>0</td><td>6000000</td><td>ROSMAP_PCC_sQTL_chr7:2939928:2944211:clu_52885_-:PR:ENSG00000198286</td><td>mrash</td><td>TRUE</td><td>FALSE</td><td>...</td><td> 0.5766363</td><td>0.5641852</td><td>productive_sQTL</td><td>chr7_2640020_3986377</td><td>chr7_2640020_3986377</td><td>ROSMAP_sQTL_chr7</td><td>ROSMAP_sQTL.chr7_2640020_3986377.twas.tsv.gz</td><td>ENSG00000198286</td><td>148383</td><td>1</td></tr>\n",
       "\t<tr><td>image_Aging5</td><td>7</td><td>ENSG00000198286</td><td>3043866</td><td>0</td><td>6000000</td><td>ROSMAP_PCC_sQTL_chr7:2939928:2944211:clu_52885_-:PR:ENSG00000198286</td><td>susie</td><td>TRUE</td><td>FALSE</td><td>...</td><td> 0.2352007</td><td>0.8140529</td><td>productive_sQTL</td><td>chr7_2640020_3986377</td><td>chr7_2640020_3986377</td><td>ROSMAP_sQTL_chr7</td><td>ROSMAP_sQTL.chr7_2640020_3986377.twas.tsv.gz</td><td>ENSG00000198286</td><td>148383</td><td>1</td></tr>\n",
       "\t<tr><td>image_Aging5</td><td>7</td><td>ENSG00000198286</td><td>3043866</td><td>0</td><td>6000000</td><td>ROSMAP_PCC_sQTL_chr7:2944537:2945818:clu_52886_-:PR:ENSG00000198286</td><td>enet </td><td>TRUE</td><td> TRUE</td><td>...</td><td>-1.1158404</td><td>0.2644905</td><td>productive_sQTL</td><td>chr7_2640020_3986377</td><td>chr7_2640020_3986377</td><td>ROSMAP_sQTL_chr7</td><td>ROSMAP_sQTL.chr7_2640020_3986377.twas.tsv.gz</td><td>ENSG00000198286</td><td>148383</td><td>1</td></tr>\n",
       "\t<tr><td>image_Aging5</td><td>7</td><td>ENSG00000198286</td><td>3043866</td><td>0</td><td>6000000</td><td>ROSMAP_PCC_sQTL_chr7:2944537:2945818:clu_52886_-:PR:ENSG00000198286</td><td>lasso</td><td>TRUE</td><td>FALSE</td><td>...</td><td>-1.1286455</td><td>0.2590474</td><td>productive_sQTL</td><td>chr7_2640020_3986377</td><td>chr7_2640020_3986377</td><td>ROSMAP_sQTL_chr7</td><td>ROSMAP_sQTL.chr7_2640020_3986377.twas.tsv.gz</td><td>ENSG00000198286</td><td>148383</td><td>1</td></tr>\n",
       "\t<tr><td>image_Aging5</td><td>7</td><td>ENSG00000198286</td><td>3043866</td><td>0</td><td>6000000</td><td>ROSMAP_PCC_sQTL_chr7:2944537:2945818:clu_52886_-:PR:ENSG00000198286</td><td>mrash</td><td>TRUE</td><td>FALSE</td><td>...</td><td> 0.6226682</td><td>0.5335026</td><td>productive_sQTL</td><td>chr7_2640020_3986377</td><td>chr7_2640020_3986377</td><td>ROSMAP_sQTL_chr7</td><td>ROSMAP_sQTL.chr7_2640020_3986377.twas.tsv.gz</td><td>ENSG00000198286</td><td>148383</td><td>1</td></tr>\n",
       "\t<tr><td>image_Aging5</td><td>7</td><td>ENSG00000198286</td><td>3043866</td><td>0</td><td>6000000</td><td>ROSMAP_PCC_sQTL_chr7:2944537:2945818:clu_52886_-:PR:ENSG00000198286</td><td>susie</td><td>TRUE</td><td>FALSE</td><td>...</td><td> 0.4481146</td><td>0.6540705</td><td>productive_sQTL</td><td>chr7_2640020_3986377</td><td>chr7_2640020_3986377</td><td>ROSMAP_sQTL_chr7</td><td>ROSMAP_sQTL.chr7_2640020_3986377.twas.tsv.gz</td><td>ENSG00000198286</td><td>148383</td><td>1</td></tr>\n",
       "</tbody>\n",
       "</table>\n"
      ],
      "text/latex": [
       "A data.table: 6 x 22\n",
       "\\begin{tabular}{lllllllllllllllllllll}\n",
       " gwas\\_study & chr & molecular\\_id & TSS & start & end & context & method & is\\_imputable & is\\_selected\\_method & ... & twas\\_z & twas\\_pval & type & block & region & study\\_context & source\\_file & gene\\_id & N & twas\\_pval\\_bonf\\\\\n",
       " <chr> & <int> & <chr> & <int> & <int> & <int> & <chr> & <chr> & <lgl> & <lgl> & ... & <dbl> & <dbl> & <chr> & <chr> & <chr> & <chr> & <chr> & <chr> & <int> & <dbl>\\\\\n",
       "\\hline\n",
       "\t image\\_Aging5 & 7 & ENSG00000198286 & 3043866 & 0 & 6000000 & ROSMAP\\_PCC\\_sQTL\\_chr7:2939928:2944211:clu\\_52885\\_-:PR:ENSG00000198286 & mrash & TRUE & FALSE & ... &  0.5766363 & 0.5641852 & productive\\_sQTL & chr7\\_2640020\\_3986377 & chr7\\_2640020\\_3986377 & ROSMAP\\_sQTL\\_chr7 & ROSMAP\\_sQTL.chr7\\_2640020\\_3986377.twas.tsv.gz & ENSG00000198286 & 148383 & 1\\\\\n",
       "\t image\\_Aging5 & 7 & ENSG00000198286 & 3043866 & 0 & 6000000 & ROSMAP\\_PCC\\_sQTL\\_chr7:2939928:2944211:clu\\_52885\\_-:PR:ENSG00000198286 & susie & TRUE & FALSE & ... &  0.2352007 & 0.8140529 & productive\\_sQTL & chr7\\_2640020\\_3986377 & chr7\\_2640020\\_3986377 & ROSMAP\\_sQTL\\_chr7 & ROSMAP\\_sQTL.chr7\\_2640020\\_3986377.twas.tsv.gz & ENSG00000198286 & 148383 & 1\\\\\n",
       "\t image\\_Aging5 & 7 & ENSG00000198286 & 3043866 & 0 & 6000000 & ROSMAP\\_PCC\\_sQTL\\_chr7:2944537:2945818:clu\\_52886\\_-:PR:ENSG00000198286 & enet  & TRUE &  TRUE & ... & -1.1158404 & 0.2644905 & productive\\_sQTL & chr7\\_2640020\\_3986377 & chr7\\_2640020\\_3986377 & ROSMAP\\_sQTL\\_chr7 & ROSMAP\\_sQTL.chr7\\_2640020\\_3986377.twas.tsv.gz & ENSG00000198286 & 148383 & 1\\\\\n",
       "\t image\\_Aging5 & 7 & ENSG00000198286 & 3043866 & 0 & 6000000 & ROSMAP\\_PCC\\_sQTL\\_chr7:2944537:2945818:clu\\_52886\\_-:PR:ENSG00000198286 & lasso & TRUE & FALSE & ... & -1.1286455 & 0.2590474 & productive\\_sQTL & chr7\\_2640020\\_3986377 & chr7\\_2640020\\_3986377 & ROSMAP\\_sQTL\\_chr7 & ROSMAP\\_sQTL.chr7\\_2640020\\_3986377.twas.tsv.gz & ENSG00000198286 & 148383 & 1\\\\\n",
       "\t image\\_Aging5 & 7 & ENSG00000198286 & 3043866 & 0 & 6000000 & ROSMAP\\_PCC\\_sQTL\\_chr7:2944537:2945818:clu\\_52886\\_-:PR:ENSG00000198286 & mrash & TRUE & FALSE & ... &  0.6226682 & 0.5335026 & productive\\_sQTL & chr7\\_2640020\\_3986377 & chr7\\_2640020\\_3986377 & ROSMAP\\_sQTL\\_chr7 & ROSMAP\\_sQTL.chr7\\_2640020\\_3986377.twas.tsv.gz & ENSG00000198286 & 148383 & 1\\\\\n",
       "\t image\\_Aging5 & 7 & ENSG00000198286 & 3043866 & 0 & 6000000 & ROSMAP\\_PCC\\_sQTL\\_chr7:2944537:2945818:clu\\_52886\\_-:PR:ENSG00000198286 & susie & TRUE & FALSE & ... &  0.4481146 & 0.6540705 & productive\\_sQTL & chr7\\_2640020\\_3986377 & chr7\\_2640020\\_3986377 & ROSMAP\\_sQTL\\_chr7 & ROSMAP\\_sQTL.chr7\\_2640020\\_3986377.twas.tsv.gz & ENSG00000198286 & 148383 & 1\\\\\n",
       "\\end{tabular}\n"
      ],
      "text/markdown": [
       "\n",
       "A data.table: 6 x 22\n",
       "\n",
       "| gwas_study &lt;chr&gt; | chr &lt;int&gt; | molecular_id &lt;chr&gt; | TSS &lt;int&gt; | start &lt;int&gt; | end &lt;int&gt; | context &lt;chr&gt; | method &lt;chr&gt; | is_imputable &lt;lgl&gt; | is_selected_method &lt;lgl&gt; | ... ... | twas_z &lt;dbl&gt; | twas_pval &lt;dbl&gt; | type &lt;chr&gt; | block &lt;chr&gt; | region &lt;chr&gt; | study_context &lt;chr&gt; | source_file &lt;chr&gt; | gene_id &lt;chr&gt; | N &lt;int&gt; | twas_pval_bonf &lt;dbl&gt; |\n",
       "|---|---|---|---|---|---|---|---|---|---|---|---|---|---|---|---|---|---|---|---|---|\n",
       "| image_Aging5 | 7 | ENSG00000198286 | 3043866 | 0 | 6000000 | ROSMAP_PCC_sQTL_chr7:2939928:2944211:clu_52885_-:PR:ENSG00000198286 | mrash | TRUE | FALSE | ... |  0.5766363 | 0.5641852 | productive_sQTL | chr7_2640020_3986377 | chr7_2640020_3986377 | ROSMAP_sQTL_chr7 | ROSMAP_sQTL.chr7_2640020_3986377.twas.tsv.gz | ENSG00000198286 | 148383 | 1 |\n",
       "| image_Aging5 | 7 | ENSG00000198286 | 3043866 | 0 | 6000000 | ROSMAP_PCC_sQTL_chr7:2939928:2944211:clu_52885_-:PR:ENSG00000198286 | susie | TRUE | FALSE | ... |  0.2352007 | 0.8140529 | productive_sQTL | chr7_2640020_3986377 | chr7_2640020_3986377 | ROSMAP_sQTL_chr7 | ROSMAP_sQTL.chr7_2640020_3986377.twas.tsv.gz | ENSG00000198286 | 148383 | 1 |\n",
       "| image_Aging5 | 7 | ENSG00000198286 | 3043866 | 0 | 6000000 | ROSMAP_PCC_sQTL_chr7:2944537:2945818:clu_52886_-:PR:ENSG00000198286 | enet  | TRUE |  TRUE | ... | -1.1158404 | 0.2644905 | productive_sQTL | chr7_2640020_3986377 | chr7_2640020_3986377 | ROSMAP_sQTL_chr7 | ROSMAP_sQTL.chr7_2640020_3986377.twas.tsv.gz | ENSG00000198286 | 148383 | 1 |\n",
       "| image_Aging5 | 7 | ENSG00000198286 | 3043866 | 0 | 6000000 | ROSMAP_PCC_sQTL_chr7:2944537:2945818:clu_52886_-:PR:ENSG00000198286 | lasso | TRUE | FALSE | ... | -1.1286455 | 0.2590474 | productive_sQTL | chr7_2640020_3986377 | chr7_2640020_3986377 | ROSMAP_sQTL_chr7 | ROSMAP_sQTL.chr7_2640020_3986377.twas.tsv.gz | ENSG00000198286 | 148383 | 1 |\n",
       "| image_Aging5 | 7 | ENSG00000198286 | 3043866 | 0 | 6000000 | ROSMAP_PCC_sQTL_chr7:2944537:2945818:clu_52886_-:PR:ENSG00000198286 | mrash | TRUE | FALSE | ... |  0.6226682 | 0.5335026 | productive_sQTL | chr7_2640020_3986377 | chr7_2640020_3986377 | ROSMAP_sQTL_chr7 | ROSMAP_sQTL.chr7_2640020_3986377.twas.tsv.gz | ENSG00000198286 | 148383 | 1 |\n",
       "| image_Aging5 | 7 | ENSG00000198286 | 3043866 | 0 | 6000000 | ROSMAP_PCC_sQTL_chr7:2944537:2945818:clu_52886_-:PR:ENSG00000198286 | susie | TRUE | FALSE | ... |  0.4481146 | 0.6540705 | productive_sQTL | chr7_2640020_3986377 | chr7_2640020_3986377 | ROSMAP_sQTL_chr7 | ROSMAP_sQTL.chr7_2640020_3986377.twas.tsv.gz | ENSG00000198286 | 148383 | 1 |\n",
       "\n"
      ],
      "text/plain": [
       "  gwas_study   chr molecular_id    TSS     start end    \n",
       "1 image_Aging5 7   ENSG00000198286 3043866 0     6000000\n",
       "2 image_Aging5 7   ENSG00000198286 3043866 0     6000000\n",
       "3 image_Aging5 7   ENSG00000198286 3043866 0     6000000\n",
       "4 image_Aging5 7   ENSG00000198286 3043866 0     6000000\n",
       "5 image_Aging5 7   ENSG00000198286 3043866 0     6000000\n",
       "6 image_Aging5 7   ENSG00000198286 3043866 0     6000000\n",
       "  context                                                             method\n",
       "1 ROSMAP_PCC_sQTL_chr7:2939928:2944211:clu_52885_-:PR:ENSG00000198286 mrash \n",
       "2 ROSMAP_PCC_sQTL_chr7:2939928:2944211:clu_52885_-:PR:ENSG00000198286 susie \n",
       "3 ROSMAP_PCC_sQTL_chr7:2944537:2945818:clu_52886_-:PR:ENSG00000198286 enet  \n",
       "4 ROSMAP_PCC_sQTL_chr7:2944537:2945818:clu_52886_-:PR:ENSG00000198286 lasso \n",
       "5 ROSMAP_PCC_sQTL_chr7:2944537:2945818:clu_52886_-:PR:ENSG00000198286 mrash \n",
       "6 ROSMAP_PCC_sQTL_chr7:2944537:2945818:clu_52886_-:PR:ENSG00000198286 susie \n",
       "  is_imputable is_selected_method ... twas_z     twas_pval type           \n",
       "1 TRUE         FALSE              ...  0.5766363 0.5641852 productive_sQTL\n",
       "2 TRUE         FALSE              ...  0.2352007 0.8140529 productive_sQTL\n",
       "3 TRUE          TRUE              ... -1.1158404 0.2644905 productive_sQTL\n",
       "4 TRUE         FALSE              ... -1.1286455 0.2590474 productive_sQTL\n",
       "5 TRUE         FALSE              ...  0.6226682 0.5335026 productive_sQTL\n",
       "6 TRUE         FALSE              ...  0.4481146 0.6540705 productive_sQTL\n",
       "  block                region               study_context   \n",
       "1 chr7_2640020_3986377 chr7_2640020_3986377 ROSMAP_sQTL_chr7\n",
       "2 chr7_2640020_3986377 chr7_2640020_3986377 ROSMAP_sQTL_chr7\n",
       "3 chr7_2640020_3986377 chr7_2640020_3986377 ROSMAP_sQTL_chr7\n",
       "4 chr7_2640020_3986377 chr7_2640020_3986377 ROSMAP_sQTL_chr7\n",
       "5 chr7_2640020_3986377 chr7_2640020_3986377 ROSMAP_sQTL_chr7\n",
       "6 chr7_2640020_3986377 chr7_2640020_3986377 ROSMAP_sQTL_chr7\n",
       "  source_file                                  gene_id         N     \n",
       "1 ROSMAP_sQTL.chr7_2640020_3986377.twas.tsv.gz ENSG00000198286 148383\n",
       "2 ROSMAP_sQTL.chr7_2640020_3986377.twas.tsv.gz ENSG00000198286 148383\n",
       "3 ROSMAP_sQTL.chr7_2640020_3986377.twas.tsv.gz ENSG00000198286 148383\n",
       "4 ROSMAP_sQTL.chr7_2640020_3986377.twas.tsv.gz ENSG00000198286 148383\n",
       "5 ROSMAP_sQTL.chr7_2640020_3986377.twas.tsv.gz ENSG00000198286 148383\n",
       "6 ROSMAP_sQTL.chr7_2640020_3986377.twas.tsv.gz ENSG00000198286 148383\n",
       "  twas_pval_bonf\n",
       "1 1             \n",
       "2 1             \n",
       "3 1             \n",
       "4 1             \n",
       "5 1             \n",
       "6 1             "
      ]
     },
     "metadata": {},
     "output_type": "display_data"
    },
    {
     "data": {
      "text/html": [
       "<style>\n",
       ".list-inline {list-style: none; margin:0; padding: 0}\n",
       ".list-inline>li {display: inline-block}\n",
       ".list-inline>li:not(:last-child)::after {content: \"\\00b7\"; padding: 0 .5ex}\n",
       "</style>\n",
       "<ol class=list-inline><li>936646</li><li>22</li></ol>\n"
      ],
      "text/latex": [
       "\\begin{enumerate*}\n",
       "\\item 936646\n",
       "\\item 22\n",
       "\\end{enumerate*}\n"
      ],
      "text/markdown": [
       "1. 936646\n",
       "2. 22\n",
       "\n",
       "\n"
      ],
      "text/plain": [
       "[1] 936646     22"
      ]
     },
     "metadata": {},
     "output_type": "display_data"
    }
   ],
   "source": [
    "tail(image_Aging5)\n",
    "dim(image_Aging5)"
   ]
  },
  {
   "cell_type": "code",
   "execution_count": 78,
   "id": "326360f4-3e1a-438b-a30f-6cbc5488e996",
   "metadata": {},
   "outputs": [
    {
     "data": {
      "text/html": [
       "68"
      ],
      "text/latex": [
       "68"
      ],
      "text/markdown": [
       "68"
      ],
      "text/plain": [
       "[1] 68"
      ]
     },
     "metadata": {},
     "output_type": "display_data"
    }
   ],
   "source": [
    "sig_image_Aging5 = image_Aging5 |> filter(is_selected_method, twas_pval_bonf < 0.05) \n",
    "length(unique(sig_image_Aging5$molecular_id))"
   ]
  },
  {
   "cell_type": "code",
   "execution_count": 79,
   "id": "85c3e911-2d98-4e27-85b4-7860781f43c5",
   "metadata": {},
   "outputs": [],
   "source": [
    "image_Aging5_gene_list = sig_image_Aging5 |> mutate(`#chr` = paste0(\"chr\", chr), gene_id = molecular_id)|>select(`#chr`, start, end, gene_id) |> unique()"
   ]
  },
  {
   "cell_type": "code",
   "execution_count": 80,
   "id": "d420521c-9fb8-4e00-8574-8f280c0b9b56",
   "metadata": {},
   "outputs": [
    {
     "data": {
      "text/html": [
       "<style>\n",
       ".list-inline {list-style: none; margin:0; padding: 0}\n",
       ".list-inline>li {display: inline-block}\n",
       ".list-inline>li:not(:last-child)::after {content: \"\\00b7\"; padding: 0 .5ex}\n",
       "</style>\n",
       "<ol class=list-inline><li>68</li><li>4</li></ol>\n"
      ],
      "text/latex": [
       "\\begin{enumerate*}\n",
       "\\item 68\n",
       "\\item 4\n",
       "\\end{enumerate*}\n"
      ],
      "text/markdown": [
       "1. 68\n",
       "2. 4\n",
       "\n",
       "\n"
      ],
      "text/plain": [
       "[1] 68  4"
      ]
     },
     "metadata": {},
     "output_type": "display_data"
    }
   ],
   "source": [
    "dim(image_Aging5_gene_list)"
   ]
  },
  {
   "cell_type": "code",
   "execution_count": 81,
   "id": "60a0caa7-d59e-48f4-b693-783ae899d433",
   "metadata": {},
   "outputs": [
    {
     "data": {
      "text/html": [
       "<table class=\"dataframe\">\n",
       "<caption>A data.table: 1 x 22</caption>\n",
       "<thead>\n",
       "\t<tr><th scope=col>gwas_study</th><th scope=col>chr</th><th scope=col>molecular_id</th><th scope=col>TSS</th><th scope=col>start</th><th scope=col>end</th><th scope=col>context</th><th scope=col>method</th><th scope=col>is_imputable</th><th scope=col>is_selected_method</th><th scope=col>...</th><th scope=col>twas_z</th><th scope=col>twas_pval</th><th scope=col>type</th><th scope=col>block</th><th scope=col>region</th><th scope=col>study_context</th><th scope=col>source_file</th><th scope=col>gene_id</th><th scope=col>N</th><th scope=col>twas_pval_bonf</th></tr>\n",
       "\t<tr><th scope=col>&lt;chr&gt;</th><th scope=col>&lt;int&gt;</th><th scope=col>&lt;chr&gt;</th><th scope=col>&lt;int&gt;</th><th scope=col>&lt;int&gt;</th><th scope=col>&lt;int&gt;</th><th scope=col>&lt;chr&gt;</th><th scope=col>&lt;chr&gt;</th><th scope=col>&lt;lgl&gt;</th><th scope=col>&lt;lgl&gt;</th><th scope=col>...</th><th scope=col>&lt;dbl&gt;</th><th scope=col>&lt;dbl&gt;</th><th scope=col>&lt;chr&gt;</th><th scope=col>&lt;chr&gt;</th><th scope=col>&lt;chr&gt;</th><th scope=col>&lt;chr&gt;</th><th scope=col>&lt;chr&gt;</th><th scope=col>&lt;chr&gt;</th><th scope=col>&lt;int&gt;</th><th scope=col>&lt;dbl&gt;</th></tr>\n",
       "</thead>\n",
       "<tbody>\n",
       "\t<tr><td>image_Aging5</td><td>6</td><td>ENSG00000275126</td><td>27873533</td><td>25960000</td><td>30480000</td><td>AC_DeJager_eQTL</td><td>susie</td><td>TRUE</td><td>TRUE</td><td>...</td><td>8.341274</td><td>7.349432e-17</td><td>eQTL</td><td>chr6_26341332_28390030</td><td>chr6_26341332_28390030</td><td>ROSMAP_eQTL_pQTL</td><td>ROSMAP_eQTL_pQTL.chr6_26341332_28390030.twas.tsv.gz</td><td>ENSG00000275126</td><td>148383</td><td>1.090531e-11</td></tr>\n",
       "</tbody>\n",
       "</table>\n"
      ],
      "text/latex": [
       "A data.table: 1 x 22\n",
       "\\begin{tabular}{lllllllllllllllllllll}\n",
       " gwas\\_study & chr & molecular\\_id & TSS & start & end & context & method & is\\_imputable & is\\_selected\\_method & ... & twas\\_z & twas\\_pval & type & block & region & study\\_context & source\\_file & gene\\_id & N & twas\\_pval\\_bonf\\\\\n",
       " <chr> & <int> & <chr> & <int> & <int> & <int> & <chr> & <chr> & <lgl> & <lgl> & ... & <dbl> & <dbl> & <chr> & <chr> & <chr> & <chr> & <chr> & <chr> & <int> & <dbl>\\\\\n",
       "\\hline\n",
       "\t image\\_Aging5 & 6 & ENSG00000275126 & 27873533 & 25960000 & 30480000 & AC\\_DeJager\\_eQTL & susie & TRUE & TRUE & ... & 8.341274 & 7.349432e-17 & eQTL & chr6\\_26341332\\_28390030 & chr6\\_26341332\\_28390030 & ROSMAP\\_eQTL\\_pQTL & ROSMAP\\_eQTL\\_pQTL.chr6\\_26341332\\_28390030.twas.tsv.gz & ENSG00000275126 & 148383 & 1.090531e-11\\\\\n",
       "\\end{tabular}\n"
      ],
      "text/markdown": [
       "\n",
       "A data.table: 1 x 22\n",
       "\n",
       "| gwas_study &lt;chr&gt; | chr &lt;int&gt; | molecular_id &lt;chr&gt; | TSS &lt;int&gt; | start &lt;int&gt; | end &lt;int&gt; | context &lt;chr&gt; | method &lt;chr&gt; | is_imputable &lt;lgl&gt; | is_selected_method &lt;lgl&gt; | ... ... | twas_z &lt;dbl&gt; | twas_pval &lt;dbl&gt; | type &lt;chr&gt; | block &lt;chr&gt; | region &lt;chr&gt; | study_context &lt;chr&gt; | source_file &lt;chr&gt; | gene_id &lt;chr&gt; | N &lt;int&gt; | twas_pval_bonf &lt;dbl&gt; |\n",
       "|---|---|---|---|---|---|---|---|---|---|---|---|---|---|---|---|---|---|---|---|---|\n",
       "| image_Aging5 | 6 | ENSG00000275126 | 27873533 | 25960000 | 30480000 | AC_DeJager_eQTL | susie | TRUE | TRUE | ... | 8.341274 | 7.349432e-17 | eQTL | chr6_26341332_28390030 | chr6_26341332_28390030 | ROSMAP_eQTL_pQTL | ROSMAP_eQTL_pQTL.chr6_26341332_28390030.twas.tsv.gz | ENSG00000275126 | 148383 | 1.090531e-11 |\n",
       "\n"
      ],
      "text/plain": [
       "  gwas_study   chr molecular_id    TSS      start    end      context        \n",
       "1 image_Aging5 6   ENSG00000275126 27873533 25960000 30480000 AC_DeJager_eQTL\n",
       "  method is_imputable is_selected_method ... twas_z   twas_pval    type\n",
       "1 susie  TRUE         TRUE               ... 8.341274 7.349432e-17 eQTL\n",
       "  block                  region                 study_context   \n",
       "1 chr6_26341332_28390030 chr6_26341332_28390030 ROSMAP_eQTL_pQTL\n",
       "  source_file                                         gene_id         N     \n",
       "1 ROSMAP_eQTL_pQTL.chr6_26341332_28390030.twas.tsv.gz ENSG00000275126 148383\n",
       "  twas_pval_bonf\n",
       "1 1.090531e-11  "
      ]
     },
     "metadata": {},
     "output_type": "display_data"
    }
   ],
   "source": [
    "sig_image_Aging5 |> filter(molecular_id == 'ENSG00000275126')# ENSG00000273542/ENSG00000197061/ENSG00000278463/ENSG00000275126"
   ]
  },
  {
   "cell_type": "code",
   "execution_count": 82,
   "id": "a7a06282-14f7-48c9-9b71-79ddf2ee8b12",
   "metadata": {},
   "outputs": [],
   "source": [
    "DNE_QTL_gene = fread(\"~/project/image_QTL/twas/annotated_dne_gene.tsv\")\n"
   ]
  },
  {
   "cell_type": "code",
   "execution_count": 83,
   "id": "e3de549a-b606-49a3-9282-1de7d55b2c0d",
   "metadata": {},
   "outputs": [],
   "source": [
    "image_Aging5_QTL_gene = DNE_QTL_gene |> filter(str_detect(event_ID, \"image_Aging5\")) |> select(-strand,-event_ID)\n",
    "                                        "
   ]
  },
  {
   "cell_type": "code",
   "execution_count": 84,
   "id": "5a5ab87e-f6a3-4ef6-9ad1-2dc02cbfcddb",
   "metadata": {},
   "outputs": [],
   "source": [
    "image_Aging5_gene = bind_rows(image_Aging5_gene_list, image_Aging5_QTL_gene)"
   ]
  },
  {
   "cell_type": "code",
   "execution_count": 85,
   "id": "79d551c3-5ebd-4167-8228-1915c77d8574",
   "metadata": {},
   "outputs": [],
   "source": [
    "fwrite(image_Aging5_gene, \"image_Aging5_gene_list.tsv\", sep = '\\t')"
   ]
  },
  {
   "cell_type": "code",
   "execution_count": null,
   "id": "bb9da8e9-7610-4943-b815-9c5d89e92351",
   "metadata": {},
   "outputs": [],
   "source": []
  }
 ],
 "metadata": {
  "kernelspec": {
   "display_name": "R",
   "language": "R",
   "name": "ir"
  },
  "language_info": {
   "codemirror_mode": "r",
   "file_extension": ".r",
   "mimetype": "text/x-r-source",
   "name": "R",
   "pygments_lexer": "r",
   "version": "4.3.3"
  }
 },
 "nbformat": 4,
 "nbformat_minor": 5
}
