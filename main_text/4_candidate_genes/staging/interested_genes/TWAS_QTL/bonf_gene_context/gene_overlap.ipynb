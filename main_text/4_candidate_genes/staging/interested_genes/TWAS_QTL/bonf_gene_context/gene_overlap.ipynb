{
 "cells": [
  {
   "cell_type": "code",
   "execution_count": 1,
   "id": "a10666a1-bd18-4f0d-a59c-7b03af5717f2",
   "metadata": {},
   "outputs": [
    {
     "name": "stderr",
     "output_type": "stream",
     "text": [
      "-- \u001b[1mAttaching core tidyverse packages\u001b[22m ------------------------ tidyverse 2.0.0 --\n",
      "\u001b[32mv\u001b[39m \u001b[34mdplyr    \u001b[39m 1.1.4     \u001b[32mv\u001b[39m \u001b[34mreadr    \u001b[39m 2.1.5\n",
      "\u001b[32mv\u001b[39m \u001b[34mforcats  \u001b[39m 1.0.0     \u001b[32mv\u001b[39m \u001b[34mstringr  \u001b[39m 1.5.1\n",
      "\u001b[32mv\u001b[39m \u001b[34mggplot2  \u001b[39m 3.5.2     \u001b[32mv\u001b[39m \u001b[34mtibble   \u001b[39m 3.3.0\n",
      "\u001b[32mv\u001b[39m \u001b[34mlubridate\u001b[39m 1.9.4     \u001b[32mv\u001b[39m \u001b[34mtidyr    \u001b[39m 1.3.1\n",
      "\u001b[32mv\u001b[39m \u001b[34mpurrr    \u001b[39m 1.1.0     \n",
      "-- \u001b[1mConflicts\u001b[22m ------------------------------------------ tidyverse_conflicts() --\n",
      "\u001b[31mx\u001b[39m \u001b[34mdplyr\u001b[39m::\u001b[32mfilter()\u001b[39m masks \u001b[34mstats\u001b[39m::filter()\n",
      "\u001b[31mx\u001b[39m \u001b[34mdplyr\u001b[39m::\u001b[32mlag()\u001b[39m    masks \u001b[34mstats\u001b[39m::lag()\n",
      "\u001b[36mi\u001b[39m Use the conflicted package (\u001b[3m\u001b[34m<http://conflicted.r-lib.org/>\u001b[39m\u001b[23m) to force all conflicts to become errors\n",
      "\n",
      "Attaching package: 'data.table'\n",
      "\n",
      "\n",
      "The following objects are masked from 'package:lubridate':\n",
      "\n",
      "    hour, isoweek, mday, minute, month, quarter, second, wday, week,\n",
      "    yday, year\n",
      "\n",
      "\n",
      "The following objects are masked from 'package:dplyr':\n",
      "\n",
      "    between, first, last\n",
      "\n",
      "\n",
      "The following object is masked from 'package:purrr':\n",
      "\n",
      "    transpose\n",
      "\n",
      "\n"
     ]
    }
   ],
   "source": [
    "library(tidyverse)\n",
    "library(data.table)"
   ]
  },
  {
   "cell_type": "markdown",
   "id": "38dbb87a-fdea-4460-bd5d-36eb705b9435",
   "metadata": {},
   "source": [
    "# Gene annotation"
   ]
  },
  {
   "cell_type": "markdown",
   "id": "262127f7-2033-44c3-aa94-fb87ad7c127d",
   "metadata": {},
   "source": [
    "# MR"
   ]
  },
  {
   "cell_type": "code",
   "execution_count": 67,
   "id": "abff84e2-bb01-47e7-8ace-c7230d688e8d",
   "metadata": {},
   "outputs": [],
   "source": [
    "AD_sig_mr = fread(\"~/project/image_QTL/twas/AD_mr.sig_gene.tsv.gz\")\n",
    "# AD_sig_mr = unique(AD_sig_mr)\n",
    "AD_sig_mr = AD_sig_mr |> rename(gene_id = gene_name)\n",
    "AD_sig_mr_raw = AD_sig_mr |> select(gene_id, everything())\n",
    "fwrite(AD_sig_mr_raw, \"~/AD_mr_gene_list.txt\", sep = '\\t')"
   ]
  },
  {
   "cell_type": "code",
   "execution_count": null,
   "id": "a84cbe50-2b51-4e80-8604-35b1137bc13c",
   "metadata": {},
   "outputs": [],
   "source": [
    "sos run xqtl-protocol/code/data_preprocessing/phenotype/gene_annotation.ipynb annotate_coord \\\n",
    "    --cwd ./ \\\n",
    "    --phenoFile ./AD_mr_gene_list.txt \\\n",
    "    --phenotype-id-column gene_id \\\n",
    "    --molecular-trait-type gene \\\n",
    "    --coordinate-annotation data/resource/references/Homo_sapiens.GRCh38.103.chr.reformatted.collapse_only.gene.ERCC.gtf"
   ]
  },
  {
   "cell_type": "code",
   "execution_count": 68,
   "id": "7335076f-b366-467f-a244-0094c3d5c066",
   "metadata": {},
   "outputs": [],
   "source": [
    "annotate_AD_mr = fread('~/AD_mr_gene_list.gene_list.tsv') "
   ]
  },
  {
   "cell_type": "code",
   "execution_count": 69,
   "id": "434de980-1686-4f0b-893a-e2ce44a83221",
   "metadata": {},
   "outputs": [
    {
     "data": {
      "text/html": [
       "<table class=\"dataframe\">\n",
       "<caption>A data.table: 6 x 6</caption>\n",
       "<thead>\n",
       "\t<tr><th scope=col>#chr</th><th scope=col>start</th><th scope=col>end</th><th scope=col>gene_id</th><th scope=col>strand</th><th scope=col>gene_name</th></tr>\n",
       "\t<tr><th scope=col>&lt;chr&gt;</th><th scope=col>&lt;int&gt;</th><th scope=col>&lt;int&gt;</th><th scope=col>&lt;chr&gt;</th><th scope=col>&lt;chr&gt;</th><th scope=col>&lt;chr&gt;</th></tr>\n",
       "</thead>\n",
       "<tbody>\n",
       "\t<tr><td>chr1</td><td> 944202</td><td> 959308</td><td>ENSG00000188976</td><td>-</td><td>NOC2L   </td></tr>\n",
       "\t<tr><td>chr1</td><td> 975203</td><td> 982092</td><td>ENSG00000187642</td><td>-</td><td>PERM1   </td></tr>\n",
       "\t<tr><td>chr1</td><td> 998961</td><td>1000171</td><td>ENSG00000188290</td><td>-</td><td>HES4    </td></tr>\n",
       "\t<tr><td>chr1</td><td>1020119</td><td>1056117</td><td>ENSG00000188157</td><td>+</td><td>AGRN    </td></tr>\n",
       "\t<tr><td>chr1</td><td>1081817</td><td>1116360</td><td>ENSG00000131591</td><td>-</td><td>C1orf159</td></tr>\n",
       "\t<tr><td>chr1</td><td>1203507</td><td>1206591</td><td>ENSG00000186891</td><td>-</td><td>TNFRSF18</td></tr>\n",
       "</tbody>\n",
       "</table>\n"
      ],
      "text/latex": [
       "A data.table: 6 x 6\n",
       "\\begin{tabular}{llllll}\n",
       " \\#chr & start & end & gene\\_id & strand & gene\\_name\\\\\n",
       " <chr> & <int> & <int> & <chr> & <chr> & <chr>\\\\\n",
       "\\hline\n",
       "\t chr1 &  944202 &  959308 & ENSG00000188976 & - & NOC2L   \\\\\n",
       "\t chr1 &  975203 &  982092 & ENSG00000187642 & - & PERM1   \\\\\n",
       "\t chr1 &  998961 & 1000171 & ENSG00000188290 & - & HES4    \\\\\n",
       "\t chr1 & 1020119 & 1056117 & ENSG00000188157 & + & AGRN    \\\\\n",
       "\t chr1 & 1081817 & 1116360 & ENSG00000131591 & - & C1orf159\\\\\n",
       "\t chr1 & 1203507 & 1206591 & ENSG00000186891 & - & TNFRSF18\\\\\n",
       "\\end{tabular}\n"
      ],
      "text/markdown": [
       "\n",
       "A data.table: 6 x 6\n",
       "\n",
       "| #chr &lt;chr&gt; | start &lt;int&gt; | end &lt;int&gt; | gene_id &lt;chr&gt; | strand &lt;chr&gt; | gene_name &lt;chr&gt; |\n",
       "|---|---|---|---|---|---|\n",
       "| chr1 |  944202 |  959308 | ENSG00000188976 | - | NOC2L    |\n",
       "| chr1 |  975203 |  982092 | ENSG00000187642 | - | PERM1    |\n",
       "| chr1 |  998961 | 1000171 | ENSG00000188290 | - | HES4     |\n",
       "| chr1 | 1020119 | 1056117 | ENSG00000188157 | + | AGRN     |\n",
       "| chr1 | 1081817 | 1116360 | ENSG00000131591 | - | C1orf159 |\n",
       "| chr1 | 1203507 | 1206591 | ENSG00000186891 | - | TNFRSF18 |\n",
       "\n"
      ],
      "text/plain": [
       "  #chr start   end     gene_id         strand gene_name\n",
       "1 chr1  944202  959308 ENSG00000188976 -      NOC2L    \n",
       "2 chr1  975203  982092 ENSG00000187642 -      PERM1    \n",
       "3 chr1  998961 1000171 ENSG00000188290 -      HES4     \n",
       "4 chr1 1020119 1056117 ENSG00000188157 +      AGRN     \n",
       "5 chr1 1081817 1116360 ENSG00000131591 -      C1orf159 \n",
       "6 chr1 1203507 1206591 ENSG00000186891 -      TNFRSF18 "
      ]
     },
     "metadata": {},
     "output_type": "display_data"
    },
    {
     "data": {
      "text/html": [
       "<style>\n",
       ".list-inline {list-style: none; margin:0; padding: 0}\n",
       ".list-inline>li {display: inline-block}\n",
       ".list-inline>li:not(:last-child)::after {content: \"\\00b7\"; padding: 0 .5ex}\n",
       "</style>\n",
       "<ol class=list-inline><li>6058</li><li>6</li></ol>\n"
      ],
      "text/latex": [
       "\\begin{enumerate*}\n",
       "\\item 6058\n",
       "\\item 6\n",
       "\\end{enumerate*}\n"
      ],
      "text/markdown": [
       "1. 6058\n",
       "2. 6\n",
       "\n",
       "\n"
      ],
      "text/plain": [
       "[1] 6058    6"
      ]
     },
     "metadata": {},
     "output_type": "display_data"
    }
   ],
   "source": [
    "head(annotate_AD_mr)\n",
    "dim(annotate_AD_mr)"
   ]
  },
  {
   "cell_type": "code",
   "execution_count": null,
   "id": "793bb595-c682-4efe-aea1-13d793fa1cd9",
   "metadata": {},
   "outputs": [],
   "source": []
  },
  {
   "cell_type": "code",
   "execution_count": 70,
   "id": "e6dc03b8-86c7-44e6-b1f1-f5ac4474cce7",
   "metadata": {},
   "outputs": [],
   "source": [
    "TL1_sig_mr = fread(\"~/project/image_QTL/twas/TL1_mr.sig_gene.tsv.gz\")\n",
    "# TL1_sig_mr = unique(TL1_sig_mr)\n",
    "TL1_sig_mr = TL1_sig_mr |> rename(gene_id = gene_name)\n",
    "TL1_sig_mr_raw = TL1_sig_mr |> select(gene_id, everything())\n",
    "fwrite(TL1_sig_mr_raw, \"~/TL1_mr_gene_list.txt\", sep = '\\t')"
   ]
  },
  {
   "cell_type": "code",
   "execution_count": null,
   "id": "2f5cc163-9535-4250-aa5d-24ddf6db84b4",
   "metadata": {},
   "outputs": [],
   "source": [
    "sos run xqtl-protocol/code/data_preprocessing/phenotype/gene_annotation.ipynb annotate_coord \\\n",
    "    --cwd ./ \\\n",
    "    --phenoFile ./TL1_mr_gene_list.txt \\\n",
    "    --phenotype-id-column gene_id \\\n",
    "    --molecular-trait-type gene \\\n",
    "    --coordinate-annotation data/resource/references/Homo_sapiens.GRCh38.103.chr.reformatted.collapse_only.gene.ERCC.gtf"
   ]
  },
  {
   "cell_type": "code",
   "execution_count": 71,
   "id": "0586f287-7019-4ffb-af68-a863f422e011",
   "metadata": {},
   "outputs": [],
   "source": [
    "annotate_TL1_mr = fread('~/TL1_mr_gene_list.gene_list.tsv') "
   ]
  },
  {
   "cell_type": "code",
   "execution_count": 72,
   "id": "03d9be12-1aa7-4fcc-96d6-5441c2341211",
   "metadata": {},
   "outputs": [
    {
     "data": {
      "text/html": [
       "<table class=\"dataframe\">\n",
       "<caption>A data.table: 6 x 6</caption>\n",
       "<thead>\n",
       "\t<tr><th scope=col>#chr</th><th scope=col>start</th><th scope=col>end</th><th scope=col>gene_id</th><th scope=col>strand</th><th scope=col>gene_name</th></tr>\n",
       "\t<tr><th scope=col>&lt;chr&gt;</th><th scope=col>&lt;int&gt;</th><th scope=col>&lt;int&gt;</th><th scope=col>&lt;chr&gt;</th><th scope=col>&lt;chr&gt;</th><th scope=col>&lt;chr&gt;</th></tr>\n",
       "</thead>\n",
       "<tbody>\n",
       "\t<tr><td>chr1</td><td>1020119</td><td>1056117</td><td>ENSG00000188157</td><td>+</td><td>AGRN    </td></tr>\n",
       "\t<tr><td>chr1</td><td>1081817</td><td>1116360</td><td>ENSG00000131591</td><td>-</td><td>C1orf159</td></tr>\n",
       "\t<tr><td>chr1</td><td>1418419</td><td>1421768</td><td>ENSG00000235098</td><td>-</td><td>ANKRD65 </td></tr>\n",
       "\t<tr><td>chr1</td><td>3454664</td><td>3481112</td><td>ENSG00000130762</td><td>+</td><td>ARHGEF16</td></tr>\n",
       "\t<tr><td>chr1</td><td>3487950</td><td>3611507</td><td>ENSG00000162591</td><td>-</td><td>MEGF6   </td></tr>\n",
       "\t<tr><td>chr1</td><td>3889124</td><td>3900277</td><td>ENSG00000198912</td><td>-</td><td>C1orf174</td></tr>\n",
       "</tbody>\n",
       "</table>\n"
      ],
      "text/latex": [
       "A data.table: 6 x 6\n",
       "\\begin{tabular}{llllll}\n",
       " \\#chr & start & end & gene\\_id & strand & gene\\_name\\\\\n",
       " <chr> & <int> & <int> & <chr> & <chr> & <chr>\\\\\n",
       "\\hline\n",
       "\t chr1 & 1020119 & 1056117 & ENSG00000188157 & + & AGRN    \\\\\n",
       "\t chr1 & 1081817 & 1116360 & ENSG00000131591 & - & C1orf159\\\\\n",
       "\t chr1 & 1418419 & 1421768 & ENSG00000235098 & - & ANKRD65 \\\\\n",
       "\t chr1 & 3454664 & 3481112 & ENSG00000130762 & + & ARHGEF16\\\\\n",
       "\t chr1 & 3487950 & 3611507 & ENSG00000162591 & - & MEGF6   \\\\\n",
       "\t chr1 & 3889124 & 3900277 & ENSG00000198912 & - & C1orf174\\\\\n",
       "\\end{tabular}\n"
      ],
      "text/markdown": [
       "\n",
       "A data.table: 6 x 6\n",
       "\n",
       "| #chr &lt;chr&gt; | start &lt;int&gt; | end &lt;int&gt; | gene_id &lt;chr&gt; | strand &lt;chr&gt; | gene_name &lt;chr&gt; |\n",
       "|---|---|---|---|---|---|\n",
       "| chr1 | 1020119 | 1056117 | ENSG00000188157 | + | AGRN     |\n",
       "| chr1 | 1081817 | 1116360 | ENSG00000131591 | - | C1orf159 |\n",
       "| chr1 | 1418419 | 1421768 | ENSG00000235098 | - | ANKRD65  |\n",
       "| chr1 | 3454664 | 3481112 | ENSG00000130762 | + | ARHGEF16 |\n",
       "| chr1 | 3487950 | 3611507 | ENSG00000162591 | - | MEGF6    |\n",
       "| chr1 | 3889124 | 3900277 | ENSG00000198912 | - | C1orf174 |\n",
       "\n"
      ],
      "text/plain": [
       "  #chr start   end     gene_id         strand gene_name\n",
       "1 chr1 1020119 1056117 ENSG00000188157 +      AGRN     \n",
       "2 chr1 1081817 1116360 ENSG00000131591 -      C1orf159 \n",
       "3 chr1 1418419 1421768 ENSG00000235098 -      ANKRD65  \n",
       "4 chr1 3454664 3481112 ENSG00000130762 +      ARHGEF16 \n",
       "5 chr1 3487950 3611507 ENSG00000162591 -      MEGF6    \n",
       "6 chr1 3889124 3900277 ENSG00000198912 -      C1orf174 "
      ]
     },
     "metadata": {},
     "output_type": "display_data"
    },
    {
     "data": {
      "text/html": [
       "<style>\n",
       ".list-inline {list-style: none; margin:0; padding: 0}\n",
       ".list-inline>li {display: inline-block}\n",
       ".list-inline>li:not(:last-child)::after {content: \"\\00b7\"; padding: 0 .5ex}\n",
       "</style>\n",
       "<ol class=list-inline><li>2667</li><li>6</li></ol>\n"
      ],
      "text/latex": [
       "\\begin{enumerate*}\n",
       "\\item 2667\n",
       "\\item 6\n",
       "\\end{enumerate*}\n"
      ],
      "text/markdown": [
       "1. 2667\n",
       "2. 6\n",
       "\n",
       "\n"
      ],
      "text/plain": [
       "[1] 2667    6"
      ]
     },
     "metadata": {},
     "output_type": "display_data"
    }
   ],
   "source": [
    "head(annotate_TL1_mr)\n",
    "dim(annotate_TL1_mr)"
   ]
  },
  {
   "cell_type": "markdown",
   "id": "2376aa22-3ab4-4bec-8229-b14ef6baa98b",
   "metadata": {},
   "source": [
    "# TWAS"
   ]
  },
  {
   "cell_type": "code",
   "execution_count": 2,
   "id": "e57aee81-8a33-4821-bd7d-a78349106b92",
   "metadata": {},
   "outputs": [],
   "source": [
    "TL1 = fread(\"TL1_gene_list.tsv\")\n",
    "TL1_gene = TL1$gene_id\n",
    "TL1 = TL1 |> mutate(source = ifelse(gene_name == \"\" | is.na(gene_name), \"TWAS\", \"QTL\")) |> select(-gene_name)\n",
    "TL1_raw = TL1 |> select(gene_id, source)\n",
    "fwrite(TL1_raw, \"~/TL1_gene_list.txt\", sep = '\\t')"
   ]
  },
  {
   "cell_type": "code",
   "execution_count": null,
   "id": "69f63a0a-8c34-4caf-8ece-e15ade3a626f",
   "metadata": {},
   "outputs": [],
   "source": [
    "sos run xqtl-protocol/code/data_preprocessing/phenotype/gene_annotation.ipynb annotate_coord \\\n",
    "    --cwd ./ \\\n",
    "    --phenoFile ./TL1_gene_list.txt \\\n",
    "    --phenotype-id-column gene_id \\\n",
    "    --molecular-trait-type gene \\\n",
    "    --coordinate-annotation data/resource/references/Homo_sapiens.GRCh38.103.chr.reformatted.collapse_only.gene.ERCC.gtf"
   ]
  },
  {
   "cell_type": "code",
   "execution_count": 5,
   "id": "d23de3d3-3d28-4c6b-905a-b949bf52113b",
   "metadata": {},
   "outputs": [],
   "source": [
    "annotate_TL1 = fread('~/TL1_gene_list.gene_list.tsv') |> select(gene_id, gene_name)\n",
    "TL1_annotated = TL1 |> inner_join(annotate_TL1, by=\"gene_id\")"
   ]
  },
  {
   "cell_type": "code",
   "execution_count": 6,
   "id": "b831bf5a-0b39-4c16-963b-3f2b16aa61ff",
   "metadata": {},
   "outputs": [
    {
     "data": {
      "text/html": [
       "<table class=\"dataframe\">\n",
       "<caption>A data.table: 6 x 6</caption>\n",
       "<thead>\n",
       "\t<tr><th scope=col>#chr</th><th scope=col>start</th><th scope=col>end</th><th scope=col>gene_id</th><th scope=col>source</th><th scope=col>gene_name</th></tr>\n",
       "\t<tr><th scope=col>&lt;chr&gt;</th><th scope=col>&lt;int&gt;</th><th scope=col>&lt;int&gt;</th><th scope=col>&lt;chr&gt;</th><th scope=col>&lt;chr&gt;</th><th scope=col>&lt;chr&gt;</th></tr>\n",
       "</thead>\n",
       "<tbody>\n",
       "\t<tr><td>chr10</td><td>103268872</td><td>105304950</td><td>ENSG00000065621</td><td>TWAS</td><td>GSTO2 </td></tr>\n",
       "\t<tr><td>chr10</td><td> 99320000</td><td>102783413</td><td>ENSG00000107833</td><td>TWAS</td><td>NPM3  </td></tr>\n",
       "\t<tr><td>chr10</td><td>102877569</td><td>104918184</td><td>ENSG00000107960</td><td>TWAS</td><td>STN1  </td></tr>\n",
       "\t<tr><td>chr10</td><td>103309698</td><td>105338465</td><td>ENSG00000148841</td><td>TWAS</td><td>ITPRIP</td></tr>\n",
       "\t<tr><td>chr10</td><td>  3080000</td><td>  7840000</td><td>ENSG00000057608</td><td>TWAS</td><td>GDI2  </td></tr>\n",
       "\t<tr><td>chr10</td><td>  3080000</td><td>  7840000</td><td>ENSG00000108021</td><td>TWAS</td><td>TASOR2</td></tr>\n",
       "</tbody>\n",
       "</table>\n"
      ],
      "text/latex": [
       "A data.table: 6 x 6\n",
       "\\begin{tabular}{llllll}\n",
       " \\#chr & start & end & gene\\_id & source & gene\\_name\\\\\n",
       " <chr> & <int> & <int> & <chr> & <chr> & <chr>\\\\\n",
       "\\hline\n",
       "\t chr10 & 103268872 & 105304950 & ENSG00000065621 & TWAS & GSTO2 \\\\\n",
       "\t chr10 &  99320000 & 102783413 & ENSG00000107833 & TWAS & NPM3  \\\\\n",
       "\t chr10 & 102877569 & 104918184 & ENSG00000107960 & TWAS & STN1  \\\\\n",
       "\t chr10 & 103309698 & 105338465 & ENSG00000148841 & TWAS & ITPRIP\\\\\n",
       "\t chr10 &   3080000 &   7840000 & ENSG00000057608 & TWAS & GDI2  \\\\\n",
       "\t chr10 &   3080000 &   7840000 & ENSG00000108021 & TWAS & TASOR2\\\\\n",
       "\\end{tabular}\n"
      ],
      "text/markdown": [
       "\n",
       "A data.table: 6 x 6\n",
       "\n",
       "| #chr &lt;chr&gt; | start &lt;int&gt; | end &lt;int&gt; | gene_id &lt;chr&gt; | source &lt;chr&gt; | gene_name &lt;chr&gt; |\n",
       "|---|---|---|---|---|---|\n",
       "| chr10 | 103268872 | 105304950 | ENSG00000065621 | TWAS | GSTO2  |\n",
       "| chr10 |  99320000 | 102783413 | ENSG00000107833 | TWAS | NPM3   |\n",
       "| chr10 | 102877569 | 104918184 | ENSG00000107960 | TWAS | STN1   |\n",
       "| chr10 | 103309698 | 105338465 | ENSG00000148841 | TWAS | ITPRIP |\n",
       "| chr10 |   3080000 |   7840000 | ENSG00000057608 | TWAS | GDI2   |\n",
       "| chr10 |   3080000 |   7840000 | ENSG00000108021 | TWAS | TASOR2 |\n",
       "\n"
      ],
      "text/plain": [
       "  #chr  start     end       gene_id         source gene_name\n",
       "1 chr10 103268872 105304950 ENSG00000065621 TWAS   GSTO2    \n",
       "2 chr10  99320000 102783413 ENSG00000107833 TWAS   NPM3     \n",
       "3 chr10 102877569 104918184 ENSG00000107960 TWAS   STN1     \n",
       "4 chr10 103309698 105338465 ENSG00000148841 TWAS   ITPRIP   \n",
       "5 chr10   3080000   7840000 ENSG00000057608 TWAS   GDI2     \n",
       "6 chr10   3080000   7840000 ENSG00000108021 TWAS   TASOR2   "
      ]
     },
     "metadata": {},
     "output_type": "display_data"
    },
    {
     "data": {
      "text/html": [
       "<style>\n",
       ".list-inline {list-style: none; margin:0; padding: 0}\n",
       ".list-inline>li {display: inline-block}\n",
       ".list-inline>li:not(:last-child)::after {content: \"\\00b7\"; padding: 0 .5ex}\n",
       "</style>\n",
       "<ol class=list-inline><li>1288</li><li>6</li></ol>\n"
      ],
      "text/latex": [
       "\\begin{enumerate*}\n",
       "\\item 1288\n",
       "\\item 6\n",
       "\\end{enumerate*}\n"
      ],
      "text/markdown": [
       "1. 1288\n",
       "2. 6\n",
       "\n",
       "\n"
      ],
      "text/plain": [
       "[1] 1288    6"
      ]
     },
     "metadata": {},
     "output_type": "display_data"
    }
   ],
   "source": [
    "head(TL1_annotated)\n",
    "dim(TL1_annotated)"
   ]
  },
  {
   "cell_type": "code",
   "execution_count": 7,
   "id": "e67ef873-958e-455a-9ee9-a108a61ed915",
   "metadata": {},
   "outputs": [],
   "source": [
    "AD1 = fread(\"image_AD1_gene_list.tsv\")\n",
    "AD1_gene = AD1$gene_id\n",
    "AD1 = AD1 |> mutate(source = ifelse(gene_name == \"\" | is.na(gene_name), \"TWAS\", \"QTL\")) |> select(-gene_name)\n",
    "AD1_raw = AD1 |> select(gene_id, source)\n",
    "fwrite(AD1_raw, \"~/image_AD1_gene_list.txt\", sep = '\\t')"
   ]
  },
  {
   "cell_type": "code",
   "execution_count": null,
   "id": "781e40f9-400d-43f3-a9b1-cf8feef58ad5",
   "metadata": {},
   "outputs": [],
   "source": [
    "sos run xqtl-protocol/code/data_preprocessing/phenotype/gene_annotation.ipynb annotate_coord \\\n",
    "    --cwd ./ \\\n",
    "    --phenoFile ./image_AD1_gene_list.txt \\\n",
    "    --phenotype-id-column gene_id \\\n",
    "    --molecular-trait-type gene \\\n",
    "    --coordinate-annotation data/resource/references/Homo_sapiens.GRCh38.103.chr.reformatted.collapse_only.gene.ERCC.gtf"
   ]
  },
  {
   "cell_type": "code",
   "execution_count": 8,
   "id": "6c1c25b9-cad9-44da-a09c-3f85282b84e0",
   "metadata": {},
   "outputs": [],
   "source": [
    "annotate_AD1 = fread('~/image_AD1_gene_list.gene_list.tsv') |> select(gene_id, gene_name)\n",
    "AD1_annotated = AD1 |> inner_join(annotate_AD1, by=\"gene_id\")"
   ]
  },
  {
   "cell_type": "code",
   "execution_count": 9,
   "id": "019fa665-df5c-4589-a8c2-657fc3b15a1b",
   "metadata": {},
   "outputs": [
    {
     "data": {
      "text/html": [
       "<table class=\"dataframe\">\n",
       "<caption>A data.table: 6 x 6</caption>\n",
       "<thead>\n",
       "\t<tr><th scope=col>#chr</th><th scope=col>start</th><th scope=col>end</th><th scope=col>gene_id</th><th scope=col>source</th><th scope=col>gene_name</th></tr>\n",
       "\t<tr><th scope=col>&lt;chr&gt;</th><th scope=col>&lt;int&gt;</th><th scope=col>&lt;int&gt;</th><th scope=col>&lt;chr&gt;</th><th scope=col>&lt;chr&gt;</th><th scope=col>&lt;chr&gt;</th></tr>\n",
       "</thead>\n",
       "<tbody>\n",
       "\t<tr><td>chr20</td><td> 34433347</td><td> 37080000</td><td>ENSG00000125965</td><td>TWAS</td><td>GDF5   </td></tr>\n",
       "\t<tr><td>chr3 </td><td> 46413681</td><td> 50320000</td><td>ENSG00000114650</td><td>TWAS</td><td>SCAP   </td></tr>\n",
       "\t<tr><td>chr10</td><td>101673731</td><td>103714397</td><td>ENSG00000138175</td><td>TWAS</td><td>ARL3   </td></tr>\n",
       "\t<tr><td>chr10</td><td>101644478</td><td>103680000</td><td>ENSG00000171206</td><td>TWAS</td><td>TRIM8  </td></tr>\n",
       "\t<tr><td>chr3 </td><td> 44920000</td><td> 50320000</td><td>ENSG00000160796</td><td>TWAS</td><td>NBEAL2 </td></tr>\n",
       "\t<tr><td>chr3 </td><td> 46680000</td><td> 50320000</td><td>ENSG00000185909</td><td>TWAS</td><td>KLHDC8B</td></tr>\n",
       "</tbody>\n",
       "</table>\n"
      ],
      "text/latex": [
       "A data.table: 6 x 6\n",
       "\\begin{tabular}{llllll}\n",
       " \\#chr & start & end & gene\\_id & source & gene\\_name\\\\\n",
       " <chr> & <int> & <int> & <chr> & <chr> & <chr>\\\\\n",
       "\\hline\n",
       "\t chr20 &  34433347 &  37080000 & ENSG00000125965 & TWAS & GDF5   \\\\\n",
       "\t chr3  &  46413681 &  50320000 & ENSG00000114650 & TWAS & SCAP   \\\\\n",
       "\t chr10 & 101673731 & 103714397 & ENSG00000138175 & TWAS & ARL3   \\\\\n",
       "\t chr10 & 101644478 & 103680000 & ENSG00000171206 & TWAS & TRIM8  \\\\\n",
       "\t chr3  &  44920000 &  50320000 & ENSG00000160796 & TWAS & NBEAL2 \\\\\n",
       "\t chr3  &  46680000 &  50320000 & ENSG00000185909 & TWAS & KLHDC8B\\\\\n",
       "\\end{tabular}\n"
      ],
      "text/markdown": [
       "\n",
       "A data.table: 6 x 6\n",
       "\n",
       "| #chr &lt;chr&gt; | start &lt;int&gt; | end &lt;int&gt; | gene_id &lt;chr&gt; | source &lt;chr&gt; | gene_name &lt;chr&gt; |\n",
       "|---|---|---|---|---|---|\n",
       "| chr20 |  34433347 |  37080000 | ENSG00000125965 | TWAS | GDF5    |\n",
       "| chr3  |  46413681 |  50320000 | ENSG00000114650 | TWAS | SCAP    |\n",
       "| chr10 | 101673731 | 103714397 | ENSG00000138175 | TWAS | ARL3    |\n",
       "| chr10 | 101644478 | 103680000 | ENSG00000171206 | TWAS | TRIM8   |\n",
       "| chr3  |  44920000 |  50320000 | ENSG00000160796 | TWAS | NBEAL2  |\n",
       "| chr3  |  46680000 |  50320000 | ENSG00000185909 | TWAS | KLHDC8B |\n",
       "\n"
      ],
      "text/plain": [
       "  #chr  start     end       gene_id         source gene_name\n",
       "1 chr20  34433347  37080000 ENSG00000125965 TWAS   GDF5     \n",
       "2 chr3   46413681  50320000 ENSG00000114650 TWAS   SCAP     \n",
       "3 chr10 101673731 103714397 ENSG00000138175 TWAS   ARL3     \n",
       "4 chr10 101644478 103680000 ENSG00000171206 TWAS   TRIM8    \n",
       "5 chr3   44920000  50320000 ENSG00000160796 TWAS   NBEAL2   \n",
       "6 chr3   46680000  50320000 ENSG00000185909 TWAS   KLHDC8B  "
      ]
     },
     "metadata": {},
     "output_type": "display_data"
    },
    {
     "data": {
      "text/html": [
       "<style>\n",
       ".list-inline {list-style: none; margin:0; padding: 0}\n",
       ".list-inline>li {display: inline-block}\n",
       ".list-inline>li:not(:last-child)::after {content: \"\\00b7\"; padding: 0 .5ex}\n",
       "</style>\n",
       "<ol class=list-inline><li>59</li><li>6</li></ol>\n"
      ],
      "text/latex": [
       "\\begin{enumerate*}\n",
       "\\item 59\n",
       "\\item 6\n",
       "\\end{enumerate*}\n"
      ],
      "text/markdown": [
       "1. 59\n",
       "2. 6\n",
       "\n",
       "\n"
      ],
      "text/plain": [
       "[1] 59  6"
      ]
     },
     "metadata": {},
     "output_type": "display_data"
    }
   ],
   "source": [
    "head(AD1_annotated)\n",
    "dim(AD1_annotated)"
   ]
  },
  {
   "cell_type": "code",
   "execution_count": 10,
   "id": "708aedb7-a876-4fe6-8115-b128376a42cd",
   "metadata": {},
   "outputs": [],
   "source": [
    "AD2 = fread(\"image_AD2_gene_list.tsv\")\n",
    "AD2_gene = AD2$gene_id\n",
    "AD2 = AD2 |> mutate(source = ifelse(gene_name == \"\" | is.na(gene_name), \"TWAS\", \"QTL\")) |> select(-gene_name)\n",
    "AD2_raw = AD2 |> select(gene_id, source)\n",
    "fwrite(AD2_raw, \"~/image_AD2_gene_list.txt\", sep = '\\t')"
   ]
  },
  {
   "cell_type": "code",
   "execution_count": null,
   "id": "1d5a1567-dfdc-4a12-a839-13d083852897",
   "metadata": {},
   "outputs": [],
   "source": [
    "sos run xqtl-protocol/code/data_preprocessing/phenotype/gene_annotation.ipynb annotate_coord \\\n",
    "    --cwd ./ \\\n",
    "    --phenoFile ./image_AD2_gene_list.txt \\\n",
    "    --phenotype-id-column gene_id \\\n",
    "    --molecular-trait-type gene \\\n",
    "    --coordinate-annotation data/resource/references/Homo_sapiens.GRCh38.103.chr.reformatted.collapse_only.gene.ERCC.gtf"
   ]
  },
  {
   "cell_type": "code",
   "execution_count": 11,
   "id": "9e276c85-a4ee-4675-8d40-131662e75e9c",
   "metadata": {},
   "outputs": [],
   "source": [
    "annotate_AD2 = fread('~/image_AD2_gene_list.gene_list.tsv') |> select(gene_id, gene_name)\n",
    "AD2_annotated = AD2 |> inner_join(annotate_AD2, by=\"gene_id\")"
   ]
  },
  {
   "cell_type": "code",
   "execution_count": 12,
   "id": "fef5e4d4-4f92-4d69-92fc-27ef920d8c36",
   "metadata": {},
   "outputs": [
    {
     "data": {
      "text/html": [
       "<table class=\"dataframe\">\n",
       "<caption>A data.table: 6 x 6</caption>\n",
       "<thead>\n",
       "\t<tr><th scope=col>#chr</th><th scope=col>start</th><th scope=col>end</th><th scope=col>gene_id</th><th scope=col>source</th><th scope=col>gene_name</th></tr>\n",
       "\t<tr><th scope=col>&lt;chr&gt;</th><th scope=col>&lt;int&gt;</th><th scope=col>&lt;int&gt;</th><th scope=col>&lt;chr&gt;</th><th scope=col>&lt;chr&gt;</th><th scope=col>&lt;chr&gt;</th></tr>\n",
       "</thead>\n",
       "<tbody>\n",
       "\t<tr><td>chr12</td><td> 63507000</td><td> 66160000</td><td>ENSG00000153179</td><td>TWAS</td><td>RASSF3</td></tr>\n",
       "\t<tr><td>chr12</td><td> 64169582</td><td> 66248355</td><td>ENSG00000174106</td><td>TWAS</td><td>LEMD3 </td></tr>\n",
       "\t<tr><td>chr12</td><td> 63404391</td><td> 66160000</td><td>ENSG00000184575</td><td>TWAS</td><td>XPOT  </td></tr>\n",
       "\t<tr><td>chr20</td><td> 34433347</td><td> 37080000</td><td>ENSG00000125965</td><td>TWAS</td><td>GDF5  </td></tr>\n",
       "\t<tr><td>chr12</td><td>115920000</td><td>118120000</td><td>ENSG00000088992</td><td>TWAS</td><td>TESC  </td></tr>\n",
       "\t<tr><td>chr12</td><td>115910949</td><td>118120000</td><td>ENSG00000174989</td><td>TWAS</td><td>FBXW8 </td></tr>\n",
       "</tbody>\n",
       "</table>\n"
      ],
      "text/latex": [
       "A data.table: 6 x 6\n",
       "\\begin{tabular}{llllll}\n",
       " \\#chr & start & end & gene\\_id & source & gene\\_name\\\\\n",
       " <chr> & <int> & <int> & <chr> & <chr> & <chr>\\\\\n",
       "\\hline\n",
       "\t chr12 &  63507000 &  66160000 & ENSG00000153179 & TWAS & RASSF3\\\\\n",
       "\t chr12 &  64169582 &  66248355 & ENSG00000174106 & TWAS & LEMD3 \\\\\n",
       "\t chr12 &  63404391 &  66160000 & ENSG00000184575 & TWAS & XPOT  \\\\\n",
       "\t chr20 &  34433347 &  37080000 & ENSG00000125965 & TWAS & GDF5  \\\\\n",
       "\t chr12 & 115920000 & 118120000 & ENSG00000088992 & TWAS & TESC  \\\\\n",
       "\t chr12 & 115910949 & 118120000 & ENSG00000174989 & TWAS & FBXW8 \\\\\n",
       "\\end{tabular}\n"
      ],
      "text/markdown": [
       "\n",
       "A data.table: 6 x 6\n",
       "\n",
       "| #chr &lt;chr&gt; | start &lt;int&gt; | end &lt;int&gt; | gene_id &lt;chr&gt; | source &lt;chr&gt; | gene_name &lt;chr&gt; |\n",
       "|---|---|---|---|---|---|\n",
       "| chr12 |  63507000 |  66160000 | ENSG00000153179 | TWAS | RASSF3 |\n",
       "| chr12 |  64169582 |  66248355 | ENSG00000174106 | TWAS | LEMD3  |\n",
       "| chr12 |  63404391 |  66160000 | ENSG00000184575 | TWAS | XPOT   |\n",
       "| chr20 |  34433347 |  37080000 | ENSG00000125965 | TWAS | GDF5   |\n",
       "| chr12 | 115920000 | 118120000 | ENSG00000088992 | TWAS | TESC   |\n",
       "| chr12 | 115910949 | 118120000 | ENSG00000174989 | TWAS | FBXW8  |\n",
       "\n"
      ],
      "text/plain": [
       "  #chr  start     end       gene_id         source gene_name\n",
       "1 chr12  63507000  66160000 ENSG00000153179 TWAS   RASSF3   \n",
       "2 chr12  64169582  66248355 ENSG00000174106 TWAS   LEMD3    \n",
       "3 chr12  63404391  66160000 ENSG00000184575 TWAS   XPOT     \n",
       "4 chr20  34433347  37080000 ENSG00000125965 TWAS   GDF5     \n",
       "5 chr12 115920000 118120000 ENSG00000088992 TWAS   TESC     \n",
       "6 chr12 115910949 118120000 ENSG00000174989 TWAS   FBXW8    "
      ]
     },
     "metadata": {},
     "output_type": "display_data"
    },
    {
     "data": {
      "text/html": [
       "<style>\n",
       ".list-inline {list-style: none; margin:0; padding: 0}\n",
       ".list-inline>li {display: inline-block}\n",
       ".list-inline>li:not(:last-child)::after {content: \"\\00b7\"; padding: 0 .5ex}\n",
       "</style>\n",
       "<ol class=list-inline><li>75</li><li>6</li></ol>\n"
      ],
      "text/latex": [
       "\\begin{enumerate*}\n",
       "\\item 75\n",
       "\\item 6\n",
       "\\end{enumerate*}\n"
      ],
      "text/markdown": [
       "1. 75\n",
       "2. 6\n",
       "\n",
       "\n"
      ],
      "text/plain": [
       "[1] 75  6"
      ]
     },
     "metadata": {},
     "output_type": "display_data"
    }
   ],
   "source": [
    "head(AD2_annotated)\n",
    "dim(AD2_annotated)"
   ]
  },
  {
   "cell_type": "code",
   "execution_count": 13,
   "id": "b143923c-732f-4420-98ea-52fbb922dc06",
   "metadata": {},
   "outputs": [],
   "source": [
    "Aging1 = fread(\"image_Aging1_gene_list.tsv\")\n",
    "Aging1_gene = Aging1$gene_id\n",
    "Aging1 = Aging1 |> mutate(source = ifelse(gene_name == \"\" | is.na(gene_name), \"TWAS\", \"QTL\")) |> select(-gene_name)\n",
    "Aging1_raw = Aging1 |> select(gene_id, source)\n",
    "fwrite(Aging1_raw, \"~/image_Aging1_gene_list.txt\", sep = '\\t')"
   ]
  },
  {
   "cell_type": "code",
   "execution_count": null,
   "id": "df149aa6-8092-4e1b-9fa1-6048e9955fef",
   "metadata": {},
   "outputs": [],
   "source": [
    "sos run xqtl-protocol/code/data_preprocessing/phenotype/gene_annotation.ipynb annotate_coord \\\n",
    "    --cwd ./ \\\n",
    "    --phenoFile ./image_Aging1_gene_list.txt \\\n",
    "    --phenotype-id-column gene_id \\\n",
    "    --molecular-trait-type gene \\\n",
    "    --coordinate-annotation data/resource/references/Homo_sapiens.GRCh38.103.chr.reformatted.collapse_only.gene.ERCC.gtf"
   ]
  },
  {
   "cell_type": "code",
   "execution_count": 14,
   "id": "c42bce1f-8e08-4aee-8754-677363d42dc1",
   "metadata": {},
   "outputs": [],
   "source": [
    "annotate_Aging1 = fread('~/image_Aging1_gene_list.gene_list.tsv') |> select(gene_id, gene_name)\n",
    "Aging1_annotated = Aging1 |> inner_join(annotate_Aging1, by=\"gene_id\")"
   ]
  },
  {
   "cell_type": "code",
   "execution_count": 15,
   "id": "77137d4f-aca4-4cee-b245-7a76fad1e839",
   "metadata": {},
   "outputs": [
    {
     "data": {
      "text/html": [
       "<table class=\"dataframe\">\n",
       "<caption>A data.table: 6 x 6</caption>\n",
       "<thead>\n",
       "\t<tr><th scope=col>#chr</th><th scope=col>start</th><th scope=col>end</th><th scope=col>gene_id</th><th scope=col>source</th><th scope=col>gene_name</th></tr>\n",
       "\t<tr><th scope=col>&lt;chr&gt;</th><th scope=col>&lt;int&gt;</th><th scope=col>&lt;int&gt;</th><th scope=col>&lt;chr&gt;</th><th scope=col>&lt;chr&gt;</th><th scope=col>&lt;chr&gt;</th></tr>\n",
       "</thead>\n",
       "<tbody>\n",
       "\t<tr><td>chr16</td><td>25040000</td><td>34000000</td><td>ENSG00000188603</td><td>TWAS</td><td>CLN3   </td></tr>\n",
       "\t<tr><td>chr16</td><td>25040000</td><td>34000000</td><td>ENSG00000196502</td><td>TWAS</td><td>SULT1A1</td></tr>\n",
       "\t<tr><td>chr16</td><td>25040000</td><td>34000000</td><td>ENSG00000196993</td><td>TWAS</td><td>NPIPB9 </td></tr>\n",
       "\t<tr><td>chr16</td><td>25040000</td><td>34000000</td><td>ENSG00000205609</td><td>TWAS</td><td>EIF3CL </td></tr>\n",
       "\t<tr><td>chr16</td><td>25040000</td><td>34000000</td><td>ENSG00000213658</td><td>TWAS</td><td>LAT    </td></tr>\n",
       "\t<tr><td>chr16</td><td>25040000</td><td>34000000</td><td>ENSG00000233232</td><td>TWAS</td><td>NPIPB7 </td></tr>\n",
       "</tbody>\n",
       "</table>\n"
      ],
      "text/latex": [
       "A data.table: 6 x 6\n",
       "\\begin{tabular}{llllll}\n",
       " \\#chr & start & end & gene\\_id & source & gene\\_name\\\\\n",
       " <chr> & <int> & <int> & <chr> & <chr> & <chr>\\\\\n",
       "\\hline\n",
       "\t chr16 & 25040000 & 34000000 & ENSG00000188603 & TWAS & CLN3   \\\\\n",
       "\t chr16 & 25040000 & 34000000 & ENSG00000196502 & TWAS & SULT1A1\\\\\n",
       "\t chr16 & 25040000 & 34000000 & ENSG00000196993 & TWAS & NPIPB9 \\\\\n",
       "\t chr16 & 25040000 & 34000000 & ENSG00000205609 & TWAS & EIF3CL \\\\\n",
       "\t chr16 & 25040000 & 34000000 & ENSG00000213658 & TWAS & LAT    \\\\\n",
       "\t chr16 & 25040000 & 34000000 & ENSG00000233232 & TWAS & NPIPB7 \\\\\n",
       "\\end{tabular}\n"
      ],
      "text/markdown": [
       "\n",
       "A data.table: 6 x 6\n",
       "\n",
       "| #chr &lt;chr&gt; | start &lt;int&gt; | end &lt;int&gt; | gene_id &lt;chr&gt; | source &lt;chr&gt; | gene_name &lt;chr&gt; |\n",
       "|---|---|---|---|---|---|\n",
       "| chr16 | 25040000 | 34000000 | ENSG00000188603 | TWAS | CLN3    |\n",
       "| chr16 | 25040000 | 34000000 | ENSG00000196502 | TWAS | SULT1A1 |\n",
       "| chr16 | 25040000 | 34000000 | ENSG00000196993 | TWAS | NPIPB9  |\n",
       "| chr16 | 25040000 | 34000000 | ENSG00000205609 | TWAS | EIF3CL  |\n",
       "| chr16 | 25040000 | 34000000 | ENSG00000213658 | TWAS | LAT     |\n",
       "| chr16 | 25040000 | 34000000 | ENSG00000233232 | TWAS | NPIPB7  |\n",
       "\n"
      ],
      "text/plain": [
       "  #chr  start    end      gene_id         source gene_name\n",
       "1 chr16 25040000 34000000 ENSG00000188603 TWAS   CLN3     \n",
       "2 chr16 25040000 34000000 ENSG00000196502 TWAS   SULT1A1  \n",
       "3 chr16 25040000 34000000 ENSG00000196993 TWAS   NPIPB9   \n",
       "4 chr16 25040000 34000000 ENSG00000205609 TWAS   EIF3CL   \n",
       "5 chr16 25040000 34000000 ENSG00000213658 TWAS   LAT      \n",
       "6 chr16 25040000 34000000 ENSG00000233232 TWAS   NPIPB7   "
      ]
     },
     "metadata": {},
     "output_type": "display_data"
    },
    {
     "data": {
      "text/html": [
       "<style>\n",
       ".list-inline {list-style: none; margin:0; padding: 0}\n",
       ".list-inline>li {display: inline-block}\n",
       ".list-inline>li:not(:last-child)::after {content: \"\\00b7\"; padding: 0 .5ex}\n",
       "</style>\n",
       "<ol class=list-inline><li>125</li><li>6</li></ol>\n"
      ],
      "text/latex": [
       "\\begin{enumerate*}\n",
       "\\item 125\n",
       "\\item 6\n",
       "\\end{enumerate*}\n"
      ],
      "text/markdown": [
       "1. 125\n",
       "2. 6\n",
       "\n",
       "\n"
      ],
      "text/plain": [
       "[1] 125   6"
      ]
     },
     "metadata": {},
     "output_type": "display_data"
    }
   ],
   "source": [
    "head(Aging1_annotated)\n",
    "dim(Aging1_annotated)"
   ]
  },
  {
   "cell_type": "code",
   "execution_count": 16,
   "id": "af7a169b-97ba-4494-bd25-44f72d6cca2f",
   "metadata": {},
   "outputs": [],
   "source": [
    "Aging2 = fread(\"image_Aging2_gene_list.tsv\")\n",
    "Aging2_gene = Aging2$gene_id\n",
    "Aging2 = Aging2 |> mutate(source = ifelse(gene_name == \"\" | is.na(gene_name), \"TWAS\", \"QTL\")) |> select(-gene_name)\n",
    "Aging2_raw = Aging2 |> select(gene_id, source)\n",
    "fwrite(Aging2_raw, \"~/image_Aging2_gene_list.txt\", sep = '\\t')"
   ]
  },
  {
   "cell_type": "code",
   "execution_count": null,
   "id": "5456c49b-40da-4ef3-85c9-2125167d40ce",
   "metadata": {},
   "outputs": [],
   "source": [
    "sos run xqtl-protocol/code/data_preprocessing/phenotype/gene_annotation.ipynb annotate_coord \\\n",
    "    --cwd ./ \\\n",
    "    --phenoFile ./image_Aging2_gene_list.txt \\\n",
    "    --phenotype-id-column gene_id \\\n",
    "    --molecular-trait-type gene \\\n",
    "    --coordinate-annotation data/resource/references/Homo_sapiens.GRCh38.103.chr.reformatted.collapse_only.gene.ERCC.gtf"
   ]
  },
  {
   "cell_type": "code",
   "execution_count": 17,
   "id": "9a6afda5-1bcd-4c29-89ff-22bc2550ff6e",
   "metadata": {},
   "outputs": [],
   "source": [
    "annotate_Aging2 = fread('~/image_Aging2_gene_list.gene_list.tsv') |> select(gene_id, gene_name)\n",
    "Aging2_annotated = Aging2 |> inner_join(annotate_Aging2, by=\"gene_id\")"
   ]
  },
  {
   "cell_type": "code",
   "execution_count": 18,
   "id": "af6000f9-13ad-40ff-acd3-861d5e32e3d0",
   "metadata": {},
   "outputs": [
    {
     "data": {
      "text/html": [
       "<table class=\"dataframe\">\n",
       "<caption>A data.table: 6 x 6</caption>\n",
       "<thead>\n",
       "\t<tr><th scope=col>#chr</th><th scope=col>start</th><th scope=col>end</th><th scope=col>gene_id</th><th scope=col>source</th><th scope=col>gene_name</th></tr>\n",
       "\t<tr><th scope=col>&lt;chr&gt;</th><th scope=col>&lt;int&gt;</th><th scope=col>&lt;int&gt;</th><th scope=col>&lt;chr&gt;</th><th scope=col>&lt;chr&gt;</th><th scope=col>&lt;chr&gt;</th></tr>\n",
       "</thead>\n",
       "<tbody>\n",
       "\t<tr><td>chr12</td><td>115920000</td><td>118120000</td><td>ENSG00000088992</td><td>TWAS</td><td>TESC     </td></tr>\n",
       "\t<tr><td>chr12</td><td> 64169582</td><td> 66248355</td><td>ENSG00000174106</td><td>TWAS</td><td>LEMD3    </td></tr>\n",
       "\t<tr><td>chr12</td><td> 63404391</td><td> 66160000</td><td>ENSG00000184575</td><td>TWAS</td><td>XPOT     </td></tr>\n",
       "\t<tr><td>chr16</td><td> 28360000</td><td> 34000000</td><td>ENSG00000169592</td><td>TWAS</td><td>INO80E   </td></tr>\n",
       "\t<tr><td>chr16</td><td> 28360000</td><td> 34000000</td><td>ENSG00000174939</td><td>TWAS</td><td>ASPHD1   </td></tr>\n",
       "\t<tr><td>chr10</td><td>123748149</td><td>125840000</td><td>ENSG00000203791</td><td>TWAS</td><td>EEF1AKMT2</td></tr>\n",
       "</tbody>\n",
       "</table>\n"
      ],
      "text/latex": [
       "A data.table: 6 x 6\n",
       "\\begin{tabular}{llllll}\n",
       " \\#chr & start & end & gene\\_id & source & gene\\_name\\\\\n",
       " <chr> & <int> & <int> & <chr> & <chr> & <chr>\\\\\n",
       "\\hline\n",
       "\t chr12 & 115920000 & 118120000 & ENSG00000088992 & TWAS & TESC     \\\\\n",
       "\t chr12 &  64169582 &  66248355 & ENSG00000174106 & TWAS & LEMD3    \\\\\n",
       "\t chr12 &  63404391 &  66160000 & ENSG00000184575 & TWAS & XPOT     \\\\\n",
       "\t chr16 &  28360000 &  34000000 & ENSG00000169592 & TWAS & INO80E   \\\\\n",
       "\t chr16 &  28360000 &  34000000 & ENSG00000174939 & TWAS & ASPHD1   \\\\\n",
       "\t chr10 & 123748149 & 125840000 & ENSG00000203791 & TWAS & EEF1AKMT2\\\\\n",
       "\\end{tabular}\n"
      ],
      "text/markdown": [
       "\n",
       "A data.table: 6 x 6\n",
       "\n",
       "| #chr &lt;chr&gt; | start &lt;int&gt; | end &lt;int&gt; | gene_id &lt;chr&gt; | source &lt;chr&gt; | gene_name &lt;chr&gt; |\n",
       "|---|---|---|---|---|---|\n",
       "| chr12 | 115920000 | 118120000 | ENSG00000088992 | TWAS | TESC      |\n",
       "| chr12 |  64169582 |  66248355 | ENSG00000174106 | TWAS | LEMD3     |\n",
       "| chr12 |  63404391 |  66160000 | ENSG00000184575 | TWAS | XPOT      |\n",
       "| chr16 |  28360000 |  34000000 | ENSG00000169592 | TWAS | INO80E    |\n",
       "| chr16 |  28360000 |  34000000 | ENSG00000174939 | TWAS | ASPHD1    |\n",
       "| chr10 | 123748149 | 125840000 | ENSG00000203791 | TWAS | EEF1AKMT2 |\n",
       "\n"
      ],
      "text/plain": [
       "  #chr  start     end       gene_id         source gene_name\n",
       "1 chr12 115920000 118120000 ENSG00000088992 TWAS   TESC     \n",
       "2 chr12  64169582  66248355 ENSG00000174106 TWAS   LEMD3    \n",
       "3 chr12  63404391  66160000 ENSG00000184575 TWAS   XPOT     \n",
       "4 chr16  28360000  34000000 ENSG00000169592 TWAS   INO80E   \n",
       "5 chr16  28360000  34000000 ENSG00000174939 TWAS   ASPHD1   \n",
       "6 chr10 123748149 125840000 ENSG00000203791 TWAS   EEF1AKMT2"
      ]
     },
     "metadata": {},
     "output_type": "display_data"
    },
    {
     "data": {
      "text/html": [
       "<style>\n",
       ".list-inline {list-style: none; margin:0; padding: 0}\n",
       ".list-inline>li {display: inline-block}\n",
       ".list-inline>li:not(:last-child)::after {content: \"\\00b7\"; padding: 0 .5ex}\n",
       "</style>\n",
       "<ol class=list-inline><li>76</li><li>6</li></ol>\n"
      ],
      "text/latex": [
       "\\begin{enumerate*}\n",
       "\\item 76\n",
       "\\item 6\n",
       "\\end{enumerate*}\n"
      ],
      "text/markdown": [
       "1. 76\n",
       "2. 6\n",
       "\n",
       "\n"
      ],
      "text/plain": [
       "[1] 76  6"
      ]
     },
     "metadata": {},
     "output_type": "display_data"
    }
   ],
   "source": [
    "head(Aging2_annotated)\n",
    "dim(Aging2_annotated)"
   ]
  },
  {
   "cell_type": "code",
   "execution_count": 19,
   "id": "3e7441c4-436c-497f-b2b6-0f48fbfacb4b",
   "metadata": {},
   "outputs": [],
   "source": [
    "Aging3 = fread(\"image_Aging3_gene_list.tsv\")\n",
    "Aging3_gene = Aging3$gene_id\n",
    "Aging3 = Aging3 |> mutate(source = ifelse(gene_name == \"\" | is.na(gene_name), \"TWAS\", \"QTL\")) |> select(-gene_name)\n",
    "Aging3_raw = Aging3 |> select(gene_id, source)\n",
    "fwrite(Aging3_raw, \"~/image_Aging3_gene_list.txt\", sep = '\\t')"
   ]
  },
  {
   "cell_type": "code",
   "execution_count": null,
   "id": "2a96ba08-5d8b-4eaa-9edb-12aa13025f6a",
   "metadata": {},
   "outputs": [],
   "source": [
    "sos run xqtl-protocol/code/data_preprocessing/phenotype/gene_annotation.ipynb annotate_coord \\\n",
    "    --cwd ./ \\\n",
    "    --phenoFile ./image_Aging3_gene_list.txt \\\n",
    "    --phenotype-id-column gene_id \\\n",
    "    --molecular-trait-type gene \\\n",
    "    --coordinate-annotation data/resource/references/Homo_sapiens.GRCh38.103.chr.reformatted.collapse_only.gene.ERCC.gtf"
   ]
  },
  {
   "cell_type": "code",
   "execution_count": 20,
   "id": "cc2d7dfa-75d0-4014-a338-487593dc34e6",
   "metadata": {},
   "outputs": [],
   "source": [
    "annotate_Aging3 = fread('~/image_Aging3_gene_list.gene_list.tsv') |> select(gene_id, gene_name)\n",
    "Aging3_annotated = Aging3 |> inner_join(annotate_Aging3, by=\"gene_id\")"
   ]
  },
  {
   "cell_type": "code",
   "execution_count": 21,
   "id": "7721eb95-1010-4d5d-8845-aea5c8acb7fa",
   "metadata": {},
   "outputs": [
    {
     "data": {
      "text/html": [
       "<table class=\"dataframe\">\n",
       "<caption>A data.table: 6 x 6</caption>\n",
       "<thead>\n",
       "\t<tr><th scope=col>#chr</th><th scope=col>start</th><th scope=col>end</th><th scope=col>gene_id</th><th scope=col>source</th><th scope=col>gene_name</th></tr>\n",
       "\t<tr><th scope=col>&lt;chr&gt;</th><th scope=col>&lt;int&gt;</th><th scope=col>&lt;int&gt;</th><th scope=col>&lt;chr&gt;</th><th scope=col>&lt;chr&gt;</th><th scope=col>&lt;chr&gt;</th></tr>\n",
       "</thead>\n",
       "<tbody>\n",
       "\t<tr><td>chr16</td><td> 28360000</td><td> 34000000</td><td>ENSG00000102886</td><td>TWAS</td><td>GDPD3 </td></tr>\n",
       "\t<tr><td>chr6 </td><td>125340114</td><td>127680000</td><td>ENSG00000203760</td><td>TWAS</td><td>CENPW </td></tr>\n",
       "\t<tr><td>chr14</td><td> 56480000</td><td> 60600000</td><td>ENSG00000032219</td><td>TWAS</td><td>ARID4A</td></tr>\n",
       "\t<tr><td>chr14</td><td> 56480000</td><td> 60600000</td><td>ENSG00000100567</td><td>TWAS</td><td>PSMA3 </td></tr>\n",
       "\t<tr><td>chr2 </td><td> 53456316</td><td> 55680000</td><td>ENSG00000115306</td><td>TWAS</td><td>SPTBN1</td></tr>\n",
       "\t<tr><td>chr6 </td><td>126000000</td><td>128199481</td><td>ENSG00000146374</td><td>TWAS</td><td>RSPO3 </td></tr>\n",
       "</tbody>\n",
       "</table>\n"
      ],
      "text/latex": [
       "A data.table: 6 x 6\n",
       "\\begin{tabular}{llllll}\n",
       " \\#chr & start & end & gene\\_id & source & gene\\_name\\\\\n",
       " <chr> & <int> & <int> & <chr> & <chr> & <chr>\\\\\n",
       "\\hline\n",
       "\t chr16 &  28360000 &  34000000 & ENSG00000102886 & TWAS & GDPD3 \\\\\n",
       "\t chr6  & 125340114 & 127680000 & ENSG00000203760 & TWAS & CENPW \\\\\n",
       "\t chr14 &  56480000 &  60600000 & ENSG00000032219 & TWAS & ARID4A\\\\\n",
       "\t chr14 &  56480000 &  60600000 & ENSG00000100567 & TWAS & PSMA3 \\\\\n",
       "\t chr2  &  53456316 &  55680000 & ENSG00000115306 & TWAS & SPTBN1\\\\\n",
       "\t chr6  & 126000000 & 128199481 & ENSG00000146374 & TWAS & RSPO3 \\\\\n",
       "\\end{tabular}\n"
      ],
      "text/markdown": [
       "\n",
       "A data.table: 6 x 6\n",
       "\n",
       "| #chr &lt;chr&gt; | start &lt;int&gt; | end &lt;int&gt; | gene_id &lt;chr&gt; | source &lt;chr&gt; | gene_name &lt;chr&gt; |\n",
       "|---|---|---|---|---|---|\n",
       "| chr16 |  28360000 |  34000000 | ENSG00000102886 | TWAS | GDPD3  |\n",
       "| chr6  | 125340114 | 127680000 | ENSG00000203760 | TWAS | CENPW  |\n",
       "| chr14 |  56480000 |  60600000 | ENSG00000032219 | TWAS | ARID4A |\n",
       "| chr14 |  56480000 |  60600000 | ENSG00000100567 | TWAS | PSMA3  |\n",
       "| chr2  |  53456316 |  55680000 | ENSG00000115306 | TWAS | SPTBN1 |\n",
       "| chr6  | 126000000 | 128199481 | ENSG00000146374 | TWAS | RSPO3  |\n",
       "\n"
      ],
      "text/plain": [
       "  #chr  start     end       gene_id         source gene_name\n",
       "1 chr16  28360000  34000000 ENSG00000102886 TWAS   GDPD3    \n",
       "2 chr6  125340114 127680000 ENSG00000203760 TWAS   CENPW    \n",
       "3 chr14  56480000  60600000 ENSG00000032219 TWAS   ARID4A   \n",
       "4 chr14  56480000  60600000 ENSG00000100567 TWAS   PSMA3    \n",
       "5 chr2   53456316  55680000 ENSG00000115306 TWAS   SPTBN1   \n",
       "6 chr6  126000000 128199481 ENSG00000146374 TWAS   RSPO3    "
      ]
     },
     "metadata": {},
     "output_type": "display_data"
    },
    {
     "data": {
      "text/html": [
       "<style>\n",
       ".list-inline {list-style: none; margin:0; padding: 0}\n",
       ".list-inline>li {display: inline-block}\n",
       ".list-inline>li:not(:last-child)::after {content: \"\\00b7\"; padding: 0 .5ex}\n",
       "</style>\n",
       "<ol class=list-inline><li>60</li><li>6</li></ol>\n"
      ],
      "text/latex": [
       "\\begin{enumerate*}\n",
       "\\item 60\n",
       "\\item 6\n",
       "\\end{enumerate*}\n"
      ],
      "text/markdown": [
       "1. 60\n",
       "2. 6\n",
       "\n",
       "\n"
      ],
      "text/plain": [
       "[1] 60  6"
      ]
     },
     "metadata": {},
     "output_type": "display_data"
    }
   ],
   "source": [
    "head(Aging3_annotated)\n",
    "dim(Aging3_annotated)"
   ]
  },
  {
   "cell_type": "code",
   "execution_count": 22,
   "id": "824617dc-06c5-4f50-b30f-abbe7950abba",
   "metadata": {},
   "outputs": [],
   "source": [
    "Aging4 = fread(\"image_Aging4_gene_list.tsv\")\n",
    "Aging4_gene = Aging4$gene_id\n",
    "Aging4 = Aging4 |> mutate(source = ifelse(gene_name == \"\" | is.na(gene_name), \"TWAS\", \"QTL\")) |> select(-gene_name)\n",
    "Aging4_raw = Aging4 |> select(gene_id, source)\n",
    "fwrite(Aging4_raw, \"~/image_Aging4_gene_list.txt\", sep = '\\t')"
   ]
  },
  {
   "cell_type": "code",
   "execution_count": null,
   "id": "fc1f8380-4b68-4bca-9575-8f0a979f97b5",
   "metadata": {},
   "outputs": [],
   "source": [
    "sos run xqtl-protocol/code/data_preprocessing/phenotype/gene_annotation.ipynb annotate_coord \\\n",
    "    --cwd ./ \\\n",
    "    --phenoFile ./image_Aging4_gene_list.txt \\\n",
    "    --phenotype-id-column gene_id \\\n",
    "    --molecular-trait-type gene \\\n",
    "    --coordinate-annotation data/resource/references/Homo_sapiens.GRCh38.103.chr.reformatted.collapse_only.gene.ERCC.gtf"
   ]
  },
  {
   "cell_type": "code",
   "execution_count": 23,
   "id": "c233ce94-88a9-4348-a4b5-a80663b9560d",
   "metadata": {},
   "outputs": [],
   "source": [
    "annotate_Aging4 = fread('~/image_Aging4_gene_list.gene_list.tsv') |> select(gene_id, gene_name)\n",
    "Aging4_annotated = Aging4 |> inner_join(annotate_Aging4, by=\"gene_id\")"
   ]
  },
  {
   "cell_type": "code",
   "execution_count": 24,
   "id": "faf4f7fb-8f29-44d8-9168-384b833d9207",
   "metadata": {},
   "outputs": [
    {
     "data": {
      "text/html": [
       "<table class=\"dataframe\">\n",
       "<caption>A data.table: 6 x 6</caption>\n",
       "<thead>\n",
       "\t<tr><th scope=col>#chr</th><th scope=col>start</th><th scope=col>end</th><th scope=col>gene_id</th><th scope=col>source</th><th scope=col>gene_name</th></tr>\n",
       "\t<tr><th scope=col>&lt;chr&gt;</th><th scope=col>&lt;int&gt;</th><th scope=col>&lt;int&gt;</th><th scope=col>&lt;chr&gt;</th><th scope=col>&lt;chr&gt;</th><th scope=col>&lt;chr&gt;</th></tr>\n",
       "</thead>\n",
       "<tbody>\n",
       "\t<tr><td>chr1 </td><td>201840000</td><td>206850132</td><td>ENSG00000162877</td><td>TWAS</td><td>PM20D1 </td></tr>\n",
       "\t<tr><td>chr17</td><td> 66200000</td><td> 69280000</td><td>ENSG00000182481</td><td>TWAS</td><td>KPNA2  </td></tr>\n",
       "\t<tr><td>chr1 </td><td>201840000</td><td>206943460</td><td>ENSG00000174502</td><td>TWAS</td><td>SLC26A9</td></tr>\n",
       "\t<tr><td>chr1 </td><td>        0</td><td>  6480000</td><td>ENSG00000142609</td><td>TWAS</td><td>CFAP74 </td></tr>\n",
       "\t<tr><td>chr1 </td><td>201840000</td><td>206813748</td><td>ENSG00000133065</td><td>TWAS</td><td>SLC41A1</td></tr>\n",
       "\t<tr><td>chr1 </td><td>214005774</td><td>216237090</td><td>ENSG00000082482</td><td>TWAS</td><td>KCNK2  </td></tr>\n",
       "</tbody>\n",
       "</table>\n"
      ],
      "text/latex": [
       "A data.table: 6 x 6\n",
       "\\begin{tabular}{llllll}\n",
       " \\#chr & start & end & gene\\_id & source & gene\\_name\\\\\n",
       " <chr> & <int> & <int> & <chr> & <chr> & <chr>\\\\\n",
       "\\hline\n",
       "\t chr1  & 201840000 & 206850132 & ENSG00000162877 & TWAS & PM20D1 \\\\\n",
       "\t chr17 &  66200000 &  69280000 & ENSG00000182481 & TWAS & KPNA2  \\\\\n",
       "\t chr1  & 201840000 & 206943460 & ENSG00000174502 & TWAS & SLC26A9\\\\\n",
       "\t chr1  &         0 &   6480000 & ENSG00000142609 & TWAS & CFAP74 \\\\\n",
       "\t chr1  & 201840000 & 206813748 & ENSG00000133065 & TWAS & SLC41A1\\\\\n",
       "\t chr1  & 214005774 & 216237090 & ENSG00000082482 & TWAS & KCNK2  \\\\\n",
       "\\end{tabular}\n"
      ],
      "text/markdown": [
       "\n",
       "A data.table: 6 x 6\n",
       "\n",
       "| #chr &lt;chr&gt; | start &lt;int&gt; | end &lt;int&gt; | gene_id &lt;chr&gt; | source &lt;chr&gt; | gene_name &lt;chr&gt; |\n",
       "|---|---|---|---|---|---|\n",
       "| chr1  | 201840000 | 206850132 | ENSG00000162877 | TWAS | PM20D1  |\n",
       "| chr17 |  66200000 |  69280000 | ENSG00000182481 | TWAS | KPNA2   |\n",
       "| chr1  | 201840000 | 206943460 | ENSG00000174502 | TWAS | SLC26A9 |\n",
       "| chr1  |         0 |   6480000 | ENSG00000142609 | TWAS | CFAP74  |\n",
       "| chr1  | 201840000 | 206813748 | ENSG00000133065 | TWAS | SLC41A1 |\n",
       "| chr1  | 214005774 | 216237090 | ENSG00000082482 | TWAS | KCNK2   |\n",
       "\n"
      ],
      "text/plain": [
       "  #chr  start     end       gene_id         source gene_name\n",
       "1 chr1  201840000 206850132 ENSG00000162877 TWAS   PM20D1   \n",
       "2 chr17  66200000  69280000 ENSG00000182481 TWAS   KPNA2    \n",
       "3 chr1  201840000 206943460 ENSG00000174502 TWAS   SLC26A9  \n",
       "4 chr1          0   6480000 ENSG00000142609 TWAS   CFAP74   \n",
       "5 chr1  201840000 206813748 ENSG00000133065 TWAS   SLC41A1  \n",
       "6 chr1  214005774 216237090 ENSG00000082482 TWAS   KCNK2    "
      ]
     },
     "metadata": {},
     "output_type": "display_data"
    },
    {
     "data": {
      "text/html": [
       "<style>\n",
       ".list-inline {list-style: none; margin:0; padding: 0}\n",
       ".list-inline>li {display: inline-block}\n",
       ".list-inline>li:not(:last-child)::after {content: \"\\00b7\"; padding: 0 .5ex}\n",
       "</style>\n",
       "<ol class=list-inline><li>46</li><li>6</li></ol>\n"
      ],
      "text/latex": [
       "\\begin{enumerate*}\n",
       "\\item 46\n",
       "\\item 6\n",
       "\\end{enumerate*}\n"
      ],
      "text/markdown": [
       "1. 46\n",
       "2. 6\n",
       "\n",
       "\n"
      ],
      "text/plain": [
       "[1] 46  6"
      ]
     },
     "metadata": {},
     "output_type": "display_data"
    }
   ],
   "source": [
    "head(Aging4_annotated)\n",
    "dim(Aging4_annotated)"
   ]
  },
  {
   "cell_type": "code",
   "execution_count": 25,
   "id": "7cc2be52-e377-4484-a849-57c1b6e9aacb",
   "metadata": {},
   "outputs": [],
   "source": [
    "Aging5 = fread(\"image_Aging5_gene_list.tsv\")\n",
    "Aging5_gene = Aging5$gene_id\n",
    "Aging5 = Aging5 |> mutate(source = ifelse(gene_name == \"\" | is.na(gene_name), \"TWAS\", \"QTL\")) |> select(-gene_name)\n",
    "Aging5_raw = Aging5 |> select(gene_id, source)\n",
    "fwrite(Aging5_raw, \"~/image_Aging5_gene_list.txt\", sep = '\\t')"
   ]
  },
  {
   "cell_type": "code",
   "execution_count": null,
   "id": "55448b84-1e63-404a-957d-4515cd9ce657",
   "metadata": {},
   "outputs": [],
   "source": [
    "sos run xqtl-protocol/code/data_preprocessing/phenotype/gene_annotation.ipynb annotate_coord \\\n",
    "    --cwd ./ \\\n",
    "    --phenoFile ./image_Aging5_gene_list.txt \\\n",
    "    --phenotype-id-column gene_id \\\n",
    "    --molecular-trait-type gene \\\n",
    "    --coordinate-annotation data/resource/references/Homo_sapiens.GRCh38.103.chr.reformatted.collapse_only.gene.ERCC.gtf"
   ]
  },
  {
   "cell_type": "code",
   "execution_count": 26,
   "id": "bd945628-6aef-4e7f-b28c-0a0eea0fe343",
   "metadata": {},
   "outputs": [],
   "source": [
    "annotate_Aging5 = fread('~/image_Aging5_gene_list.gene_list.tsv') |> select(gene_id, gene_name)\n",
    "Aging5_annotated = Aging5 |> inner_join(annotate_Aging5, by=\"gene_id\")"
   ]
  },
  {
   "cell_type": "code",
   "execution_count": 27,
   "id": "16e715fc-52f1-4222-8e5a-04c31257cfd2",
   "metadata": {},
   "outputs": [
    {
     "data": {
      "text/html": [
       "<table class=\"dataframe\">\n",
       "<caption>A data.table: 6 x 6</caption>\n",
       "<thead>\n",
       "\t<tr><th scope=col>#chr</th><th scope=col>start</th><th scope=col>end</th><th scope=col>gene_id</th><th scope=col>source</th><th scope=col>gene_name</th></tr>\n",
       "\t<tr><th scope=col>&lt;chr&gt;</th><th scope=col>&lt;int&gt;</th><th scope=col>&lt;int&gt;</th><th scope=col>&lt;chr&gt;</th><th scope=col>&lt;chr&gt;</th><th scope=col>&lt;chr&gt;</th></tr>\n",
       "</thead>\n",
       "<tbody>\n",
       "\t<tr><td>chr10</td><td>102040000</td><td>104592552</td><td>ENSG00000107954</td><td>TWAS</td><td>NEURL1 </td></tr>\n",
       "\t<tr><td>chr10</td><td>101918293</td><td>104090222</td><td>ENSG00000148842</td><td>TWAS</td><td>CNNM2  </td></tr>\n",
       "\t<tr><td>chr17</td><td> 46320000</td><td> 50760000</td><td>ENSG00000159199</td><td>TWAS</td><td>ATP5MC1</td></tr>\n",
       "\t<tr><td>chr19</td><td> 35640000</td><td> 43520000</td><td>ENSG00000171747</td><td>TWAS</td><td>LGALS4 </td></tr>\n",
       "\t<tr><td>chr19</td><td> 35640000</td><td> 43520000</td><td>ENSG00000182472</td><td>TWAS</td><td>CAPN12 </td></tr>\n",
       "\t<tr><td>chr1 </td><td>201840000</td><td>206440000</td><td>ENSG00000133069</td><td>TWAS</td><td>TMCC2  </td></tr>\n",
       "</tbody>\n",
       "</table>\n"
      ],
      "text/latex": [
       "A data.table: 6 x 6\n",
       "\\begin{tabular}{llllll}\n",
       " \\#chr & start & end & gene\\_id & source & gene\\_name\\\\\n",
       " <chr> & <int> & <int> & <chr> & <chr> & <chr>\\\\\n",
       "\\hline\n",
       "\t chr10 & 102040000 & 104592552 & ENSG00000107954 & TWAS & NEURL1 \\\\\n",
       "\t chr10 & 101918293 & 104090222 & ENSG00000148842 & TWAS & CNNM2  \\\\\n",
       "\t chr17 &  46320000 &  50760000 & ENSG00000159199 & TWAS & ATP5MC1\\\\\n",
       "\t chr19 &  35640000 &  43520000 & ENSG00000171747 & TWAS & LGALS4 \\\\\n",
       "\t chr19 &  35640000 &  43520000 & ENSG00000182472 & TWAS & CAPN12 \\\\\n",
       "\t chr1  & 201840000 & 206440000 & ENSG00000133069 & TWAS & TMCC2  \\\\\n",
       "\\end{tabular}\n"
      ],
      "text/markdown": [
       "\n",
       "A data.table: 6 x 6\n",
       "\n",
       "| #chr &lt;chr&gt; | start &lt;int&gt; | end &lt;int&gt; | gene_id &lt;chr&gt; | source &lt;chr&gt; | gene_name &lt;chr&gt; |\n",
       "|---|---|---|---|---|---|\n",
       "| chr10 | 102040000 | 104592552 | ENSG00000107954 | TWAS | NEURL1  |\n",
       "| chr10 | 101918293 | 104090222 | ENSG00000148842 | TWAS | CNNM2   |\n",
       "| chr17 |  46320000 |  50760000 | ENSG00000159199 | TWAS | ATP5MC1 |\n",
       "| chr19 |  35640000 |  43520000 | ENSG00000171747 | TWAS | LGALS4  |\n",
       "| chr19 |  35640000 |  43520000 | ENSG00000182472 | TWAS | CAPN12  |\n",
       "| chr1  | 201840000 | 206440000 | ENSG00000133069 | TWAS | TMCC2   |\n",
       "\n"
      ],
      "text/plain": [
       "  #chr  start     end       gene_id         source gene_name\n",
       "1 chr10 102040000 104592552 ENSG00000107954 TWAS   NEURL1   \n",
       "2 chr10 101918293 104090222 ENSG00000148842 TWAS   CNNM2    \n",
       "3 chr17  46320000  50760000 ENSG00000159199 TWAS   ATP5MC1  \n",
       "4 chr19  35640000  43520000 ENSG00000171747 TWAS   LGALS4   \n",
       "5 chr19  35640000  43520000 ENSG00000182472 TWAS   CAPN12   \n",
       "6 chr1  201840000 206440000 ENSG00000133069 TWAS   TMCC2    "
      ]
     },
     "metadata": {},
     "output_type": "display_data"
    },
    {
     "data": {
      "text/html": [
       "<style>\n",
       ".list-inline {list-style: none; margin:0; padding: 0}\n",
       ".list-inline>li {display: inline-block}\n",
       ".list-inline>li:not(:last-child)::after {content: \"\\00b7\"; padding: 0 .5ex}\n",
       "</style>\n",
       "<ol class=list-inline><li>132</li><li>6</li></ol>\n"
      ],
      "text/latex": [
       "\\begin{enumerate*}\n",
       "\\item 132\n",
       "\\item 6\n",
       "\\end{enumerate*}\n"
      ],
      "text/markdown": [
       "1. 132\n",
       "2. 6\n",
       "\n",
       "\n"
      ],
      "text/plain": [
       "[1] 132   6"
      ]
     },
     "metadata": {},
     "output_type": "display_data"
    }
   ],
   "source": [
    "head(Aging5_annotated)\n",
    "dim(Aging5_annotated)"
   ]
  },
  {
   "cell_type": "code",
   "execution_count": 28,
   "id": "579e487c-774d-43e0-8c14-ab5d537a0086",
   "metadata": {},
   "outputs": [],
   "source": [
    "combined_df <- bind_rows(\n",
    "  image_AD1 = AD1_annotated,\n",
    "  image_AD2 = AD2_annotated,\n",
    "  image_Aging1 = Aging1_annotated,\n",
    "  image_Aging2 = Aging2_annotated,\n",
    "  image_Aging3 = Aging3_annotated,\n",
    "  image_Aging4 = Aging4_annotated,\n",
    "  image_Aging5 = Aging5_annotated,\n",
    "    TL1 = TL1_annotated,\n",
    "  .id = \"event_id\"\n",
    ")"
   ]
  },
  {
   "cell_type": "code",
   "execution_count": 29,
   "id": "cf9a7e45-a6ea-4847-9c54-154fbaf5acbe",
   "metadata": {},
   "outputs": [],
   "source": [
    "fwrite(combined_df, \"~/xqtl-analysis/production/image_QTL/interested_genes/TWAS_QTL/bonf_gene_context/TWAS_QTL_gene_list.tsv\", sep = '\\t')"
   ]
  },
  {
   "cell_type": "code",
   "execution_count": 30,
   "id": "c87210ea-981c-4860-94fd-7eabd4e527f2",
   "metadata": {},
   "outputs": [
    {
     "data": {
      "text/html": [
       "<table class=\"dataframe\">\n",
       "<caption>A data.table: 345 x 2</caption>\n",
       "<thead>\n",
       "\t<tr><th scope=col>gene_name</th><th scope=col>n</th></tr>\n",
       "\t<tr><th scope=col>&lt;chr&gt;</th><th scope=col>&lt;int&gt;</th></tr>\n",
       "</thead>\n",
       "<tbody>\n",
       "\t<tr><td>CENPW   </td><td>6</td></tr>\n",
       "\t<tr><td>AMZ1    </td><td>5</td></tr>\n",
       "\t<tr><td>GNA12   </td><td>5</td></tr>\n",
       "\t<tr><td>GDF5    </td><td>4</td></tr>\n",
       "\t<tr><td>GDPD3   </td><td>4</td></tr>\n",
       "\t<tr><td>H4C13   </td><td>4</td></tr>\n",
       "\t<tr><td>NBEAL2  </td><td>4</td></tr>\n",
       "\t<tr><td>NPIPB7  </td><td>4</td></tr>\n",
       "\t<tr><td>PSMA3   </td><td>4</td></tr>\n",
       "\t<tr><td>SEZ6L2  </td><td>4</td></tr>\n",
       "\t<tr><td>SGF29   </td><td>4</td></tr>\n",
       "\t<tr><td>SH2B1   </td><td>4</td></tr>\n",
       "\t<tr><td>SULT1A1 </td><td>4</td></tr>\n",
       "\t<tr><td>TUFM    </td><td>4</td></tr>\n",
       "\t<tr><td>ZKSCAN4 </td><td>4</td></tr>\n",
       "\t<tr><td>ARL3    </td><td>3</td></tr>\n",
       "\t<tr><td>ARMH4   </td><td>3</td></tr>\n",
       "\t<tr><td>ASPHD1  </td><td>3</td></tr>\n",
       "\t<tr><td>ATP2A1  </td><td>3</td></tr>\n",
       "\t<tr><td>ATXN2L  </td><td>3</td></tr>\n",
       "\t<tr><td>BCL2L1  </td><td>3</td></tr>\n",
       "\t<tr><td>C11orf49</td><td>3</td></tr>\n",
       "\t<tr><td>C4A     </td><td>3</td></tr>\n",
       "\t<tr><td>C4B     </td><td>3</td></tr>\n",
       "\t<tr><td>CBY1    </td><td>3</td></tr>\n",
       "\t<tr><td>CCDC12  </td><td>3</td></tr>\n",
       "\t<tr><td>CLN3    </td><td>3</td></tr>\n",
       "\t<tr><td>CNNM2   </td><td>3</td></tr>\n",
       "\t<tr><td>CSNK2B  </td><td>3</td></tr>\n",
       "\t<tr><td>DDX17   </td><td>3</td></tr>\n",
       "\t<tr><td>...</td><td>...</td></tr>\n",
       "\t<tr><td>TSPYL6 </td><td>2</td></tr>\n",
       "\t<tr><td>TYMP   </td><td>2</td></tr>\n",
       "\t<tr><td>TYMS   </td><td>2</td></tr>\n",
       "\t<tr><td>UBXN4  </td><td>2</td></tr>\n",
       "\t<tr><td>UBXN6  </td><td>2</td></tr>\n",
       "\t<tr><td>UGT2B7 </td><td>2</td></tr>\n",
       "\t<tr><td>UPK3B  </td><td>2</td></tr>\n",
       "\t<tr><td>UQCC1  </td><td>2</td></tr>\n",
       "\t<tr><td>USP19  </td><td>2</td></tr>\n",
       "\t<tr><td>VARS2  </td><td>2</td></tr>\n",
       "\t<tr><td>VCAN   </td><td>2</td></tr>\n",
       "\t<tr><td>VIRMA  </td><td>2</td></tr>\n",
       "\t<tr><td>WASHC3 </td><td>2</td></tr>\n",
       "\t<tr><td>WBP1L  </td><td>2</td></tr>\n",
       "\t<tr><td>WDR12  </td><td>2</td></tr>\n",
       "\t<tr><td>WDR43  </td><td>2</td></tr>\n",
       "\t<tr><td>XPO7   </td><td>2</td></tr>\n",
       "\t<tr><td>XPOT   </td><td>2</td></tr>\n",
       "\t<tr><td>ZCWPW1 </td><td>2</td></tr>\n",
       "\t<tr><td>ZIC4   </td><td>2</td></tr>\n",
       "\t<tr><td>ZIM2   </td><td>2</td></tr>\n",
       "\t<tr><td>ZKSCAN3</td><td>2</td></tr>\n",
       "\t<tr><td>ZKSCAN8</td><td>2</td></tr>\n",
       "\t<tr><td>ZNF304 </td><td>2</td></tr>\n",
       "\t<tr><td>ZNF311 </td><td>2</td></tr>\n",
       "\t<tr><td>ZNF398 </td><td>2</td></tr>\n",
       "\t<tr><td>ZNF596 </td><td>2</td></tr>\n",
       "\t<tr><td>ZNF676 </td><td>2</td></tr>\n",
       "\t<tr><td>ZNF749 </td><td>2</td></tr>\n",
       "\t<tr><td>ZP3    </td><td>2</td></tr>\n",
       "</tbody>\n",
       "</table>\n"
      ],
      "text/latex": [
       "A data.table: 345 x 2\n",
       "\\begin{tabular}{ll}\n",
       " gene\\_name & n\\\\\n",
       " <chr> & <int>\\\\\n",
       "\\hline\n",
       "\t CENPW    & 6\\\\\n",
       "\t AMZ1     & 5\\\\\n",
       "\t GNA12    & 5\\\\\n",
       "\t GDF5     & 4\\\\\n",
       "\t GDPD3    & 4\\\\\n",
       "\t H4C13    & 4\\\\\n",
       "\t NBEAL2   & 4\\\\\n",
       "\t NPIPB7   & 4\\\\\n",
       "\t PSMA3    & 4\\\\\n",
       "\t SEZ6L2   & 4\\\\\n",
       "\t SGF29    & 4\\\\\n",
       "\t SH2B1    & 4\\\\\n",
       "\t SULT1A1  & 4\\\\\n",
       "\t TUFM     & 4\\\\\n",
       "\t ZKSCAN4  & 4\\\\\n",
       "\t ARL3     & 3\\\\\n",
       "\t ARMH4    & 3\\\\\n",
       "\t ASPHD1   & 3\\\\\n",
       "\t ATP2A1   & 3\\\\\n",
       "\t ATXN2L   & 3\\\\\n",
       "\t BCL2L1   & 3\\\\\n",
       "\t C11orf49 & 3\\\\\n",
       "\t C4A      & 3\\\\\n",
       "\t C4B      & 3\\\\\n",
       "\t CBY1     & 3\\\\\n",
       "\t CCDC12   & 3\\\\\n",
       "\t CLN3     & 3\\\\\n",
       "\t CNNM2    & 3\\\\\n",
       "\t CSNK2B   & 3\\\\\n",
       "\t DDX17    & 3\\\\\n",
       "\t ... & ...\\\\\n",
       "\t TSPYL6  & 2\\\\\n",
       "\t TYMP    & 2\\\\\n",
       "\t TYMS    & 2\\\\\n",
       "\t UBXN4   & 2\\\\\n",
       "\t UBXN6   & 2\\\\\n",
       "\t UGT2B7  & 2\\\\\n",
       "\t UPK3B   & 2\\\\\n",
       "\t UQCC1   & 2\\\\\n",
       "\t USP19   & 2\\\\\n",
       "\t VARS2   & 2\\\\\n",
       "\t VCAN    & 2\\\\\n",
       "\t VIRMA   & 2\\\\\n",
       "\t WASHC3  & 2\\\\\n",
       "\t WBP1L   & 2\\\\\n",
       "\t WDR12   & 2\\\\\n",
       "\t WDR43   & 2\\\\\n",
       "\t XPO7    & 2\\\\\n",
       "\t XPOT    & 2\\\\\n",
       "\t ZCWPW1  & 2\\\\\n",
       "\t ZIC4    & 2\\\\\n",
       "\t ZIM2    & 2\\\\\n",
       "\t ZKSCAN3 & 2\\\\\n",
       "\t ZKSCAN8 & 2\\\\\n",
       "\t ZNF304  & 2\\\\\n",
       "\t ZNF311  & 2\\\\\n",
       "\t ZNF398  & 2\\\\\n",
       "\t ZNF596  & 2\\\\\n",
       "\t ZNF676  & 2\\\\\n",
       "\t ZNF749  & 2\\\\\n",
       "\t ZP3     & 2\\\\\n",
       "\\end{tabular}\n"
      ],
      "text/markdown": [
       "\n",
       "A data.table: 345 x 2\n",
       "\n",
       "| gene_name &lt;chr&gt; | n &lt;int&gt; |\n",
       "|---|---|\n",
       "| CENPW    | 6 |\n",
       "| AMZ1     | 5 |\n",
       "| GNA12    | 5 |\n",
       "| GDF5     | 4 |\n",
       "| GDPD3    | 4 |\n",
       "| H4C13    | 4 |\n",
       "| NBEAL2   | 4 |\n",
       "| NPIPB7   | 4 |\n",
       "| PSMA3    | 4 |\n",
       "| SEZ6L2   | 4 |\n",
       "| SGF29    | 4 |\n",
       "| SH2B1    | 4 |\n",
       "| SULT1A1  | 4 |\n",
       "| TUFM     | 4 |\n",
       "| ZKSCAN4  | 4 |\n",
       "| ARL3     | 3 |\n",
       "| ARMH4    | 3 |\n",
       "| ASPHD1   | 3 |\n",
       "| ATP2A1   | 3 |\n",
       "| ATXN2L   | 3 |\n",
       "| BCL2L1   | 3 |\n",
       "| C11orf49 | 3 |\n",
       "| C4A      | 3 |\n",
       "| C4B      | 3 |\n",
       "| CBY1     | 3 |\n",
       "| CCDC12   | 3 |\n",
       "| CLN3     | 3 |\n",
       "| CNNM2    | 3 |\n",
       "| CSNK2B   | 3 |\n",
       "| DDX17    | 3 |\n",
       "| ... | ... |\n",
       "| TSPYL6  | 2 |\n",
       "| TYMP    | 2 |\n",
       "| TYMS    | 2 |\n",
       "| UBXN4   | 2 |\n",
       "| UBXN6   | 2 |\n",
       "| UGT2B7  | 2 |\n",
       "| UPK3B   | 2 |\n",
       "| UQCC1   | 2 |\n",
       "| USP19   | 2 |\n",
       "| VARS2   | 2 |\n",
       "| VCAN    | 2 |\n",
       "| VIRMA   | 2 |\n",
       "| WASHC3  | 2 |\n",
       "| WBP1L   | 2 |\n",
       "| WDR12   | 2 |\n",
       "| WDR43   | 2 |\n",
       "| XPO7    | 2 |\n",
       "| XPOT    | 2 |\n",
       "| ZCWPW1  | 2 |\n",
       "| ZIC4    | 2 |\n",
       "| ZIM2    | 2 |\n",
       "| ZKSCAN3 | 2 |\n",
       "| ZKSCAN8 | 2 |\n",
       "| ZNF304  | 2 |\n",
       "| ZNF311  | 2 |\n",
       "| ZNF398  | 2 |\n",
       "| ZNF596  | 2 |\n",
       "| ZNF676  | 2 |\n",
       "| ZNF749  | 2 |\n",
       "| ZP3     | 2 |\n",
       "\n"
      ],
      "text/plain": [
       "    gene_name n  \n",
       "1   CENPW     6  \n",
       "2   AMZ1      5  \n",
       "3   GNA12     5  \n",
       "4   GDF5      4  \n",
       "5   GDPD3     4  \n",
       "6   H4C13     4  \n",
       "7   NBEAL2    4  \n",
       "8   NPIPB7    4  \n",
       "9   PSMA3     4  \n",
       "10  SEZ6L2    4  \n",
       "11  SGF29     4  \n",
       "12  SH2B1     4  \n",
       "13  SULT1A1   4  \n",
       "14  TUFM      4  \n",
       "15  ZKSCAN4   4  \n",
       "16  ARL3      3  \n",
       "17  ARMH4     3  \n",
       "18  ASPHD1    3  \n",
       "19  ATP2A1    3  \n",
       "20  ATXN2L    3  \n",
       "21  BCL2L1    3  \n",
       "22  C11orf49  3  \n",
       "23  C4A       3  \n",
       "24  C4B       3  \n",
       "25  CBY1      3  \n",
       "26  CCDC12    3  \n",
       "27  CLN3      3  \n",
       "28  CNNM2     3  \n",
       "29  CSNK2B    3  \n",
       "30  DDX17     3  \n",
       "... ...       ...\n",
       "316 TSPYL6    2  \n",
       "317 TYMP      2  \n",
       "318 TYMS      2  \n",
       "319 UBXN4     2  \n",
       "320 UBXN6     2  \n",
       "321 UGT2B7    2  \n",
       "322 UPK3B     2  \n",
       "323 UQCC1     2  \n",
       "324 USP19     2  \n",
       "325 VARS2     2  \n",
       "326 VCAN      2  \n",
       "327 VIRMA     2  \n",
       "328 WASHC3    2  \n",
       "329 WBP1L     2  \n",
       "330 WDR12     2  \n",
       "331 WDR43     2  \n",
       "332 XPO7      2  \n",
       "333 XPOT      2  \n",
       "334 ZCWPW1    2  \n",
       "335 ZIC4      2  \n",
       "336 ZIM2      2  \n",
       "337 ZKSCAN3   2  \n",
       "338 ZKSCAN8   2  \n",
       "339 ZNF304    2  \n",
       "340 ZNF311    2  \n",
       "341 ZNF398    2  \n",
       "342 ZNF596    2  \n",
       "343 ZNF676    2  \n",
       "344 ZNF749    2  \n",
       "345 ZP3       2  "
      ]
     },
     "metadata": {},
     "output_type": "display_data"
    }
   ],
   "source": [
    "combined_df |> count(gene_name) |> filter(n>1) |> arrange(desc(n))"
   ]
  },
  {
   "cell_type": "markdown",
   "id": "d313fdb5-42dd-4732-93dc-483a6fcbefaa",
   "metadata": {},
   "source": [
    "# gene_overlap"
   ]
  },
  {
   "cell_type": "code",
   "execution_count": 31,
   "id": "a20416b7-e8bf-4fd7-a8c6-58ab033c6f0a",
   "metadata": {},
   "outputs": [],
   "source": [
    "all = fread(\"~/xqtl-analysis/production/image_QTL/interested_genes/TWAS_QTL/bonf_gene_context/TWAS_QTL_gene_list.tsv\")\n",
    "AD1 = all |> filter(str_detect(event_id,\"image_AD1\"))\n",
    "AD2 = all |> filter(str_detect(event_id,\"image_AD2\"))\n",
    "Aging1 = all |> filter(str_detect(event_id,\"image_Aging1\"))\n",
    "Aging2 = all |> filter(str_detect(event_id,\"image_Aging2\"))\n",
    "Aging3 = all |> filter(str_detect(event_id,\"image_Aging3\"))\n",
    "Aging4 = all |> filter(str_detect(event_id,\"image_Aging4\"))\n",
    "Aging5 = all |> filter(str_detect(event_id,\"image_Aging5\"))\n",
    "TL1 = all |> filter(str_detect(event_id,\"TL1\"))\n"
   ]
  },
  {
   "cell_type": "code",
   "execution_count": 32,
   "id": "1aaddc68-2536-4b4a-9c6e-10cdb8ea1a50",
   "metadata": {},
   "outputs": [
    {
     "data": {
      "text/html": [
       "<table class=\"dataframe\">\n",
       "<caption>A data.table: 4 x 7</caption>\n",
       "<thead>\n",
       "\t<tr><th scope=col>event_id</th><th scope=col>#chr</th><th scope=col>start</th><th scope=col>end</th><th scope=col>gene_id</th><th scope=col>source</th><th scope=col>gene_name</th></tr>\n",
       "\t<tr><th scope=col>&lt;chr&gt;</th><th scope=col>&lt;chr&gt;</th><th scope=col>&lt;int&gt;</th><th scope=col>&lt;int&gt;</th><th scope=col>&lt;chr&gt;</th><th scope=col>&lt;chr&gt;</th><th scope=col>&lt;chr&gt;</th></tr>\n",
       "</thead>\n",
       "<tbody>\n",
       "\t<tr><td>image_AD1   </td><td>chr3</td><td>44920000</td><td>50320000</td><td>ENSG00000160796</td><td>TWAS</td><td>NBEAL2</td></tr>\n",
       "\t<tr><td>image_AD1   </td><td>chr3</td><td>46979665</td><td>47009703</td><td>ENSG00000160796</td><td>QTL </td><td>NBEAL2</td></tr>\n",
       "\t<tr><td>image_Aging5</td><td>chr3</td><td>46979665</td><td>47009703</td><td>ENSG00000160796</td><td>QTL </td><td>NBEAL2</td></tr>\n",
       "\t<tr><td>TL1         </td><td>chr3</td><td>44920000</td><td>50320000</td><td>ENSG00000160796</td><td>TWAS</td><td>NBEAL2</td></tr>\n",
       "</tbody>\n",
       "</table>\n"
      ],
      "text/latex": [
       "A data.table: 4 x 7\n",
       "\\begin{tabular}{lllllll}\n",
       " event\\_id & \\#chr & start & end & gene\\_id & source & gene\\_name\\\\\n",
       " <chr> & <chr> & <int> & <int> & <chr> & <chr> & <chr>\\\\\n",
       "\\hline\n",
       "\t image\\_AD1    & chr3 & 44920000 & 50320000 & ENSG00000160796 & TWAS & NBEAL2\\\\\n",
       "\t image\\_AD1    & chr3 & 46979665 & 47009703 & ENSG00000160796 & QTL  & NBEAL2\\\\\n",
       "\t image\\_Aging5 & chr3 & 46979665 & 47009703 & ENSG00000160796 & QTL  & NBEAL2\\\\\n",
       "\t TL1          & chr3 & 44920000 & 50320000 & ENSG00000160796 & TWAS & NBEAL2\\\\\n",
       "\\end{tabular}\n"
      ],
      "text/markdown": [
       "\n",
       "A data.table: 4 x 7\n",
       "\n",
       "| event_id &lt;chr&gt; | #chr &lt;chr&gt; | start &lt;int&gt; | end &lt;int&gt; | gene_id &lt;chr&gt; | source &lt;chr&gt; | gene_name &lt;chr&gt; |\n",
       "|---|---|---|---|---|---|---|\n",
       "| image_AD1    | chr3 | 44920000 | 50320000 | ENSG00000160796 | TWAS | NBEAL2 |\n",
       "| image_AD1    | chr3 | 46979665 | 47009703 | ENSG00000160796 | QTL  | NBEAL2 |\n",
       "| image_Aging5 | chr3 | 46979665 | 47009703 | ENSG00000160796 | QTL  | NBEAL2 |\n",
       "| TL1          | chr3 | 44920000 | 50320000 | ENSG00000160796 | TWAS | NBEAL2 |\n",
       "\n"
      ],
      "text/plain": [
       "  event_id     #chr start    end      gene_id         source gene_name\n",
       "1 image_AD1    chr3 44920000 50320000 ENSG00000160796 TWAS   NBEAL2   \n",
       "2 image_AD1    chr3 46979665 47009703 ENSG00000160796 QTL    NBEAL2   \n",
       "3 image_Aging5 chr3 46979665 47009703 ENSG00000160796 QTL    NBEAL2   \n",
       "4 TL1          chr3 44920000 50320000 ENSG00000160796 TWAS   NBEAL2   "
      ]
     },
     "metadata": {},
     "output_type": "display_data"
    }
   ],
   "source": [
    "all |> filter(gene_name == \"NBEAL2\")"
   ]
  },
  {
   "cell_type": "code",
   "execution_count": 33,
   "id": "0aa7424f-e09f-465a-94de-72460b53311c",
   "metadata": {},
   "outputs": [],
   "source": [
    "Aging1_gene = Aging1$gene_name |> unique()\n",
    "\n",
    "Aging2_gene = Aging2$gene_name|> unique()\n",
    "\n",
    "Aging3_gene = Aging3$gene_name|> unique()\n",
    "\n",
    "Aging4_gene = Aging4$gene_name|> unique()\n",
    "\n",
    "Aging5_gene = Aging5$gene_name|> unique()\n",
    "\n",
    "TL1_gene = TL1$gene_name|> unique()\n",
    "\n",
    "AD1_gene = AD1$gene_name|> unique()\n",
    "AD2_gene = AD2$gene_name|> unique()\n"
   ]
  },
  {
   "cell_type": "code",
   "execution_count": 34,
   "id": "347730a2-de24-4d2a-93c3-1cdf286d5b3c",
   "metadata": {},
   "outputs": [
    {
     "data": {
      "text/html": [
       "<style>\n",
       ".list-inline {list-style: none; margin:0; padding: 0}\n",
       ".list-inline>li {display: inline-block}\n",
       ".list-inline>li:not(:last-child)::after {content: \"\\00b7\"; padding: 0 .5ex}\n",
       "</style>\n",
       "<ol class=list-inline><li>'GDF5'</li><li>'SCAP'</li><li>'ARL3'</li><li>'TRIM8'</li><li>'NBEAL2'</li><li>'KLHDC8B'</li><li>'PDCD11'</li><li>'ARID4A'</li><li>'PSMA3'</li><li>'CCDC12'</li><li>'SETD2'</li><li>'PLXNB1'</li><li>'IMPDH2'</li><li>'USP19'</li><li>'XKR6'</li><li>'ENPP2'</li><li>'CCN3'</li><li>'MSRA'</li><li>'KIF9'</li><li>'ELP6'</li><li>'MAP4'</li><li>'SMARCC1'</li><li>'PINX1'</li><li>'ARMH4'</li><li>'KLHL18'</li><li>'ARL4C'</li><li>'CSPG5'</li><li>'DHX30'</li><li>'UGT2B7'</li><li>'KIF13A'</li><li>'AMZ1'</li><li>'GNA12'</li><li>'EGFR'</li><li>'SBSPON'</li><li>'THNSL1'</li><li>'MFSD13A'</li><li>'ACTR1A'</li><li>'SUFU'</li><li>'KDM2B'</li><li>'UQCC1'</li><li>'EEF2'</li><li>'PIAS4'</li><li>'PI4KA'</li><li>'SERPIND1'</li><li>'SNAP29'</li><li>'ADORA2A'</li></ol>\n"
      ],
      "text/latex": [
       "\\begin{enumerate*}\n",
       "\\item 'GDF5'\n",
       "\\item 'SCAP'\n",
       "\\item 'ARL3'\n",
       "\\item 'TRIM8'\n",
       "\\item 'NBEAL2'\n",
       "\\item 'KLHDC8B'\n",
       "\\item 'PDCD11'\n",
       "\\item 'ARID4A'\n",
       "\\item 'PSMA3'\n",
       "\\item 'CCDC12'\n",
       "\\item 'SETD2'\n",
       "\\item 'PLXNB1'\n",
       "\\item 'IMPDH2'\n",
       "\\item 'USP19'\n",
       "\\item 'XKR6'\n",
       "\\item 'ENPP2'\n",
       "\\item 'CCN3'\n",
       "\\item 'MSRA'\n",
       "\\item 'KIF9'\n",
       "\\item 'ELP6'\n",
       "\\item 'MAP4'\n",
       "\\item 'SMARCC1'\n",
       "\\item 'PINX1'\n",
       "\\item 'ARMH4'\n",
       "\\item 'KLHL18'\n",
       "\\item 'ARL4C'\n",
       "\\item 'CSPG5'\n",
       "\\item 'DHX30'\n",
       "\\item 'UGT2B7'\n",
       "\\item 'KIF13A'\n",
       "\\item 'AMZ1'\n",
       "\\item 'GNA12'\n",
       "\\item 'EGFR'\n",
       "\\item 'SBSPON'\n",
       "\\item 'THNSL1'\n",
       "\\item 'MFSD13A'\n",
       "\\item 'ACTR1A'\n",
       "\\item 'SUFU'\n",
       "\\item 'KDM2B'\n",
       "\\item 'UQCC1'\n",
       "\\item 'EEF2'\n",
       "\\item 'PIAS4'\n",
       "\\item 'PI4KA'\n",
       "\\item 'SERPIND1'\n",
       "\\item 'SNAP29'\n",
       "\\item 'ADORA2A'\n",
       "\\end{enumerate*}\n"
      ],
      "text/markdown": [
       "1. 'GDF5'\n",
       "2. 'SCAP'\n",
       "3. 'ARL3'\n",
       "4. 'TRIM8'\n",
       "5. 'NBEAL2'\n",
       "6. 'KLHDC8B'\n",
       "7. 'PDCD11'\n",
       "8. 'ARID4A'\n",
       "9. 'PSMA3'\n",
       "10. 'CCDC12'\n",
       "11. 'SETD2'\n",
       "12. 'PLXNB1'\n",
       "13. 'IMPDH2'\n",
       "14. 'USP19'\n",
       "15. 'XKR6'\n",
       "16. 'ENPP2'\n",
       "17. 'CCN3'\n",
       "18. 'MSRA'\n",
       "19. 'KIF9'\n",
       "20. 'ELP6'\n",
       "21. 'MAP4'\n",
       "22. 'SMARCC1'\n",
       "23. 'PINX1'\n",
       "24. 'ARMH4'\n",
       "25. 'KLHL18'\n",
       "26. 'ARL4C'\n",
       "27. 'CSPG5'\n",
       "28. 'DHX30'\n",
       "29. 'UGT2B7'\n",
       "30. 'KIF13A'\n",
       "31. 'AMZ1'\n",
       "32. 'GNA12'\n",
       "33. 'EGFR'\n",
       "34. 'SBSPON'\n",
       "35. 'THNSL1'\n",
       "36. 'MFSD13A'\n",
       "37. 'ACTR1A'\n",
       "38. 'SUFU'\n",
       "39. 'KDM2B'\n",
       "40. 'UQCC1'\n",
       "41. 'EEF2'\n",
       "42. 'PIAS4'\n",
       "43. 'PI4KA'\n",
       "44. 'SERPIND1'\n",
       "45. 'SNAP29'\n",
       "46. 'ADORA2A'\n",
       "\n",
       "\n"
      ],
      "text/plain": [
       " [1] \"GDF5\"     \"SCAP\"     \"ARL3\"     \"TRIM8\"    \"NBEAL2\"   \"KLHDC8B\" \n",
       " [7] \"PDCD11\"   \"ARID4A\"   \"PSMA3\"    \"CCDC12\"   \"SETD2\"    \"PLXNB1\"  \n",
       "[13] \"IMPDH2\"   \"USP19\"    \"XKR6\"     \"ENPP2\"    \"CCN3\"     \"MSRA\"    \n",
       "[19] \"KIF9\"     \"ELP6\"     \"MAP4\"     \"SMARCC1\"  \"PINX1\"    \"ARMH4\"   \n",
       "[25] \"KLHL18\"   \"ARL4C\"    \"CSPG5\"    \"DHX30\"    \"UGT2B7\"   \"KIF13A\"  \n",
       "[31] \"AMZ1\"     \"GNA12\"    \"EGFR\"     \"SBSPON\"   \"THNSL1\"   \"MFSD13A\" \n",
       "[37] \"ACTR1A\"   \"SUFU\"     \"KDM2B\"    \"UQCC1\"    \"EEF2\"     \"PIAS4\"   \n",
       "[43] \"PI4KA\"    \"SERPIND1\" \"SNAP29\"   \"ADORA2A\" "
      ]
     },
     "metadata": {},
     "output_type": "display_data"
    }
   ],
   "source": [
    "AD1_gene"
   ]
  },
  {
   "cell_type": "code",
   "execution_count": 35,
   "id": "8eb14fa1-872d-4b00-9b97-70b06ced86c1",
   "metadata": {},
   "outputs": [
    {
     "data": {
      "text/html": [
       "<style>\n",
       ".list-inline {list-style: none; margin:0; padding: 0}\n",
       ".list-inline>li {display: inline-block}\n",
       ".list-inline>li:not(:last-child)::after {content: \"\\00b7\"; padding: 0 .5ex}\n",
       "</style>\n",
       "<ol class=list-inline><li>'RASSF3'</li><li>'LEMD3'</li><li>'XPOT'</li><li>'GDF5'</li><li>'TESC'</li><li>'FBXW8'</li><li>'CNTD1'</li><li>'ARL4D'</li><li>'G6PC3'</li><li>'MAP3K14'</li><li>'KANSL1'</li><li>'ARL17A'</li><li>'STH'</li><li>'H2AC4'</li><li>'CSNK2B'</li><li>'MDK'</li><li>'RNFT2'</li><li>'BRCA1'</li><li>'FAM171A2'</li><li>'NMT1'</li><li>'HEXIM1'</li><li>'LRRC37A2'</li><li>'NSF'</li><li>'TCEA3'</li><li>'NFS1'</li><li>'CNOT9'</li><li>'TRMT11'</li><li>'H4C13'</li><li>'ZKSCAN4'</li><li>'C11orf49'</li><li>'FBXO21'</li><li>'MSRB3'</li><li>'PINX1'</li><li>'SEMA4D'</li><li>'ERO1B'</li><li>'DIS3L2'</li><li>'MAST4'</li><li>'AP3B1'</li><li>'VCAN'</li><li>'CYSTM1'</li><li>'TNIP1'</li><li>'TMEM170B'</li><li>'H2AC11'</li><li>'FILIP1'</li><li>'CCM2'</li><li>'TBRG4'</li><li>'DGKZ'</li><li>'ATG13'</li><li>'CKAP5'</li><li>'LRP4'</li><li>'PACSIN3'</li><li>'NR1H3'</li><li>'ZDHHC5'</li><li>'AP001931.2'</li><li>'TMX2'</li><li>'CTNND1'</li><li>'DPCD'</li><li>'NABP2'</li><li>'ANKRD52'</li><li>'COQ10A'</li><li>'CS'</li><li>'CNPY2'</li><li>'PAN2'</li><li>'IL23A'</li><li>'STAT2'</li><li>'SOHLH2'</li><li>'CCDC169-SOHLH2'</li><li>'CCDC169'</li><li>'SPART'</li><li>'CCDC57'</li><li>'UQCC1'</li></ol>\n"
      ],
      "text/latex": [
       "\\begin{enumerate*}\n",
       "\\item 'RASSF3'\n",
       "\\item 'LEMD3'\n",
       "\\item 'XPOT'\n",
       "\\item 'GDF5'\n",
       "\\item 'TESC'\n",
       "\\item 'FBXW8'\n",
       "\\item 'CNTD1'\n",
       "\\item 'ARL4D'\n",
       "\\item 'G6PC3'\n",
       "\\item 'MAP3K14'\n",
       "\\item 'KANSL1'\n",
       "\\item 'ARL17A'\n",
       "\\item 'STH'\n",
       "\\item 'H2AC4'\n",
       "\\item 'CSNK2B'\n",
       "\\item 'MDK'\n",
       "\\item 'RNFT2'\n",
       "\\item 'BRCA1'\n",
       "\\item 'FAM171A2'\n",
       "\\item 'NMT1'\n",
       "\\item 'HEXIM1'\n",
       "\\item 'LRRC37A2'\n",
       "\\item 'NSF'\n",
       "\\item 'TCEA3'\n",
       "\\item 'NFS1'\n",
       "\\item 'CNOT9'\n",
       "\\item 'TRMT11'\n",
       "\\item 'H4C13'\n",
       "\\item 'ZKSCAN4'\n",
       "\\item 'C11orf49'\n",
       "\\item 'FBXO21'\n",
       "\\item 'MSRB3'\n",
       "\\item 'PINX1'\n",
       "\\item 'SEMA4D'\n",
       "\\item 'ERO1B'\n",
       "\\item 'DIS3L2'\n",
       "\\item 'MAST4'\n",
       "\\item 'AP3B1'\n",
       "\\item 'VCAN'\n",
       "\\item 'CYSTM1'\n",
       "\\item 'TNIP1'\n",
       "\\item 'TMEM170B'\n",
       "\\item 'H2AC11'\n",
       "\\item 'FILIP1'\n",
       "\\item 'CCM2'\n",
       "\\item 'TBRG4'\n",
       "\\item 'DGKZ'\n",
       "\\item 'ATG13'\n",
       "\\item 'CKAP5'\n",
       "\\item 'LRP4'\n",
       "\\item 'PACSIN3'\n",
       "\\item 'NR1H3'\n",
       "\\item 'ZDHHC5'\n",
       "\\item 'AP001931.2'\n",
       "\\item 'TMX2'\n",
       "\\item 'CTNND1'\n",
       "\\item 'DPCD'\n",
       "\\item 'NABP2'\n",
       "\\item 'ANKRD52'\n",
       "\\item 'COQ10A'\n",
       "\\item 'CS'\n",
       "\\item 'CNPY2'\n",
       "\\item 'PAN2'\n",
       "\\item 'IL23A'\n",
       "\\item 'STAT2'\n",
       "\\item 'SOHLH2'\n",
       "\\item 'CCDC169-SOHLH2'\n",
       "\\item 'CCDC169'\n",
       "\\item 'SPART'\n",
       "\\item 'CCDC57'\n",
       "\\item 'UQCC1'\n",
       "\\end{enumerate*}\n"
      ],
      "text/markdown": [
       "1. 'RASSF3'\n",
       "2. 'LEMD3'\n",
       "3. 'XPOT'\n",
       "4. 'GDF5'\n",
       "5. 'TESC'\n",
       "6. 'FBXW8'\n",
       "7. 'CNTD1'\n",
       "8. 'ARL4D'\n",
       "9. 'G6PC3'\n",
       "10. 'MAP3K14'\n",
       "11. 'KANSL1'\n",
       "12. 'ARL17A'\n",
       "13. 'STH'\n",
       "14. 'H2AC4'\n",
       "15. 'CSNK2B'\n",
       "16. 'MDK'\n",
       "17. 'RNFT2'\n",
       "18. 'BRCA1'\n",
       "19. 'FAM171A2'\n",
       "20. 'NMT1'\n",
       "21. 'HEXIM1'\n",
       "22. 'LRRC37A2'\n",
       "23. 'NSF'\n",
       "24. 'TCEA3'\n",
       "25. 'NFS1'\n",
       "26. 'CNOT9'\n",
       "27. 'TRMT11'\n",
       "28. 'H4C13'\n",
       "29. 'ZKSCAN4'\n",
       "30. 'C11orf49'\n",
       "31. 'FBXO21'\n",
       "32. 'MSRB3'\n",
       "33. 'PINX1'\n",
       "34. 'SEMA4D'\n",
       "35. 'ERO1B'\n",
       "36. 'DIS3L2'\n",
       "37. 'MAST4'\n",
       "38. 'AP3B1'\n",
       "39. 'VCAN'\n",
       "40. 'CYSTM1'\n",
       "41. 'TNIP1'\n",
       "42. 'TMEM170B'\n",
       "43. 'H2AC11'\n",
       "44. 'FILIP1'\n",
       "45. 'CCM2'\n",
       "46. 'TBRG4'\n",
       "47. 'DGKZ'\n",
       "48. 'ATG13'\n",
       "49. 'CKAP5'\n",
       "50. 'LRP4'\n",
       "51. 'PACSIN3'\n",
       "52. 'NR1H3'\n",
       "53. 'ZDHHC5'\n",
       "54. 'AP001931.2'\n",
       "55. 'TMX2'\n",
       "56. 'CTNND1'\n",
       "57. 'DPCD'\n",
       "58. 'NABP2'\n",
       "59. 'ANKRD52'\n",
       "60. 'COQ10A'\n",
       "61. 'CS'\n",
       "62. 'CNPY2'\n",
       "63. 'PAN2'\n",
       "64. 'IL23A'\n",
       "65. 'STAT2'\n",
       "66. 'SOHLH2'\n",
       "67. 'CCDC169-SOHLH2'\n",
       "68. 'CCDC169'\n",
       "69. 'SPART'\n",
       "70. 'CCDC57'\n",
       "71. 'UQCC1'\n",
       "\n",
       "\n"
      ],
      "text/plain": [
       " [1] \"RASSF3\"         \"LEMD3\"          \"XPOT\"           \"GDF5\"          \n",
       " [5] \"TESC\"           \"FBXW8\"          \"CNTD1\"          \"ARL4D\"         \n",
       " [9] \"G6PC3\"          \"MAP3K14\"        \"KANSL1\"         \"ARL17A\"        \n",
       "[13] \"STH\"            \"H2AC4\"          \"CSNK2B\"         \"MDK\"           \n",
       "[17] \"RNFT2\"          \"BRCA1\"          \"FAM171A2\"       \"NMT1\"          \n",
       "[21] \"HEXIM1\"         \"LRRC37A2\"       \"NSF\"            \"TCEA3\"         \n",
       "[25] \"NFS1\"           \"CNOT9\"          \"TRMT11\"         \"H4C13\"         \n",
       "[29] \"ZKSCAN4\"        \"C11orf49\"       \"FBXO21\"         \"MSRB3\"         \n",
       "[33] \"PINX1\"          \"SEMA4D\"         \"ERO1B\"          \"DIS3L2\"        \n",
       "[37] \"MAST4\"          \"AP3B1\"          \"VCAN\"           \"CYSTM1\"        \n",
       "[41] \"TNIP1\"          \"TMEM170B\"       \"H2AC11\"         \"FILIP1\"        \n",
       "[45] \"CCM2\"           \"TBRG4\"          \"DGKZ\"           \"ATG13\"         \n",
       "[49] \"CKAP5\"          \"LRP4\"           \"PACSIN3\"        \"NR1H3\"         \n",
       "[53] \"ZDHHC5\"         \"AP001931.2\"     \"TMX2\"           \"CTNND1\"        \n",
       "[57] \"DPCD\"           \"NABP2\"          \"ANKRD52\"        \"COQ10A\"        \n",
       "[61] \"CS\"             \"CNPY2\"          \"PAN2\"           \"IL23A\"         \n",
       "[65] \"STAT2\"          \"SOHLH2\"         \"CCDC169-SOHLH2\" \"CCDC169\"       \n",
       "[69] \"SPART\"          \"CCDC57\"         \"UQCC1\"         "
      ]
     },
     "metadata": {},
     "output_type": "display_data"
    }
   ],
   "source": [
    "AD2_gene"
   ]
  },
  {
   "cell_type": "code",
   "execution_count": 36,
   "id": "ea1fa5ea-8664-4802-bfbb-8cb189e40579",
   "metadata": {},
   "outputs": [
    {
     "data": {
      "text/html": [
       "<style>\n",
       ".list-inline {list-style: none; margin:0; padding: 0}\n",
       ".list-inline>li {display: inline-block}\n",
       ".list-inline>li:not(:last-child)::after {content: \"\\00b7\"; padding: 0 .5ex}\n",
       "</style>\n",
       "<ol class=list-inline><li>'CLN3'</li><li>'SULT1A1'</li><li>'NPIPB9'</li><li>'EIF3CL'</li><li>'LAT'</li><li>'NPIPB7'</li><li>'RUSF1'</li><li>'COG4'</li><li>'MTSS2'</li><li>'MYLK2'</li><li>'ID1'</li><li>'CHPT1'</li><li>'WASHC3'</li><li>'PMCH'</li><li>'KTN1'</li><li>'NUPR1'</li><li>'AC138894.1'</li><li>'NFATC2IP'</li><li>'TUFM'</li><li>'EIF3C'</li><li>'NOL11'</li><li>'TAS1R3'</li><li>'COX4I2'</li><li>'EXOC3'</li><li>'WDHD1'</li><li>'TNRC6A'</li><li>'SLC5A11'</li><li>'APOBR'</li><li>'NPIPB6'</li><li>'ATXN2L'</li><li>'SGF29'</li><li>'RABEP2'</li><li>'SH2B1'</li><li>'ATP2A1'</li><li>'HIRIP3'</li><li>'SEZ6L2'</li><li>'ZNF768'</li><li>'SLC9A5'</li><li>'NOL3'</li><li>'TMEM208'</li><li>'NFAT5'</li><li>'HELZ'</li><li>'BCL2L1'</li><li>'FOXS1'</li><li>'ZIC4'</li><li>'KLF3'</li><li>'POLR2B'</li><li>'APOM'</li><li>'MEPCE'</li><li>'NYAP1'</li><li>'SETD1A'</li><li>'DYRK1B'</li><li>'HM13'</li><li>'ATRN'</li><li>'TNFRSF11B'</li><li>'CD101'</li><li>'ZIC1'</li><li>'IGFBP7'</li><li>'ENOPH1'</li><li>'SEC31A'</li><li>'LIN54'</li><li>'AHRR'</li><li>'SLC9A3'</li><li>'HLA-A'</li><li>'TRIM39'</li><li>'COL21A1'</li><li>'CENPW'</li><li>'TULP4'</li><li>'TMEM181'</li><li>'SOD2'</li><li>'WTAP'</li><li>'ACAT2'</li><li>'TCP1'</li><li>'MRPL18'</li><li>'PNLDC1'</li><li>'AMZ1'</li><li>'GNA12'</li><li>'STAG3'</li><li>'PILRB'</li><li>'PILRA'</li><li>'ZCWPW1'</li><li>'C7orf61'</li><li>'TSC22D4'</li><li>'FAM160B2'</li><li>'EFCAB1'</li><li>'SAA4'</li><li>'SAA2'</li><li>'HPS5'</li><li>'GTF2H1'</li><li>'DSCAML1'</li><li>'ENO4'</li><li>'SHTN1'</li><li>'CNTN1'</li><li>'EIF2B2'</li><li>'MLH3'</li><li>'ACYP1'</li><li>'ZC2HC1C'</li><li>'NEK9'</li><li>'TMED10'</li><li>'NPIPA1'</li><li>'PDXDC1'</li><li>'NPIPA5'</li><li>'SULT1A2'</li><li>'DYNC1LI2'</li><li>'ATP9B'</li><li>'ITPA'</li><li>'SLC4A11'</li><li>'C20orf194'</li><li>'DNAJC5'</li></ol>\n"
      ],
      "text/latex": [
       "\\begin{enumerate*}\n",
       "\\item 'CLN3'\n",
       "\\item 'SULT1A1'\n",
       "\\item 'NPIPB9'\n",
       "\\item 'EIF3CL'\n",
       "\\item 'LAT'\n",
       "\\item 'NPIPB7'\n",
       "\\item 'RUSF1'\n",
       "\\item 'COG4'\n",
       "\\item 'MTSS2'\n",
       "\\item 'MYLK2'\n",
       "\\item 'ID1'\n",
       "\\item 'CHPT1'\n",
       "\\item 'WASHC3'\n",
       "\\item 'PMCH'\n",
       "\\item 'KTN1'\n",
       "\\item 'NUPR1'\n",
       "\\item 'AC138894.1'\n",
       "\\item 'NFATC2IP'\n",
       "\\item 'TUFM'\n",
       "\\item 'EIF3C'\n",
       "\\item 'NOL11'\n",
       "\\item 'TAS1R3'\n",
       "\\item 'COX4I2'\n",
       "\\item 'EXOC3'\n",
       "\\item 'WDHD1'\n",
       "\\item 'TNRC6A'\n",
       "\\item 'SLC5A11'\n",
       "\\item 'APOBR'\n",
       "\\item 'NPIPB6'\n",
       "\\item 'ATXN2L'\n",
       "\\item 'SGF29'\n",
       "\\item 'RABEP2'\n",
       "\\item 'SH2B1'\n",
       "\\item 'ATP2A1'\n",
       "\\item 'HIRIP3'\n",
       "\\item 'SEZ6L2'\n",
       "\\item 'ZNF768'\n",
       "\\item 'SLC9A5'\n",
       "\\item 'NOL3'\n",
       "\\item 'TMEM208'\n",
       "\\item 'NFAT5'\n",
       "\\item 'HELZ'\n",
       "\\item 'BCL2L1'\n",
       "\\item 'FOXS1'\n",
       "\\item 'ZIC4'\n",
       "\\item 'KLF3'\n",
       "\\item 'POLR2B'\n",
       "\\item 'APOM'\n",
       "\\item 'MEPCE'\n",
       "\\item 'NYAP1'\n",
       "\\item 'SETD1A'\n",
       "\\item 'DYRK1B'\n",
       "\\item 'HM13'\n",
       "\\item 'ATRN'\n",
       "\\item 'TNFRSF11B'\n",
       "\\item 'CD101'\n",
       "\\item 'ZIC1'\n",
       "\\item 'IGFBP7'\n",
       "\\item 'ENOPH1'\n",
       "\\item 'SEC31A'\n",
       "\\item 'LIN54'\n",
       "\\item 'AHRR'\n",
       "\\item 'SLC9A3'\n",
       "\\item 'HLA-A'\n",
       "\\item 'TRIM39'\n",
       "\\item 'COL21A1'\n",
       "\\item 'CENPW'\n",
       "\\item 'TULP4'\n",
       "\\item 'TMEM181'\n",
       "\\item 'SOD2'\n",
       "\\item 'WTAP'\n",
       "\\item 'ACAT2'\n",
       "\\item 'TCP1'\n",
       "\\item 'MRPL18'\n",
       "\\item 'PNLDC1'\n",
       "\\item 'AMZ1'\n",
       "\\item 'GNA12'\n",
       "\\item 'STAG3'\n",
       "\\item 'PILRB'\n",
       "\\item 'PILRA'\n",
       "\\item 'ZCWPW1'\n",
       "\\item 'C7orf61'\n",
       "\\item 'TSC22D4'\n",
       "\\item 'FAM160B2'\n",
       "\\item 'EFCAB1'\n",
       "\\item 'SAA4'\n",
       "\\item 'SAA2'\n",
       "\\item 'HPS5'\n",
       "\\item 'GTF2H1'\n",
       "\\item 'DSCAML1'\n",
       "\\item 'ENO4'\n",
       "\\item 'SHTN1'\n",
       "\\item 'CNTN1'\n",
       "\\item 'EIF2B2'\n",
       "\\item 'MLH3'\n",
       "\\item 'ACYP1'\n",
       "\\item 'ZC2HC1C'\n",
       "\\item 'NEK9'\n",
       "\\item 'TMED10'\n",
       "\\item 'NPIPA1'\n",
       "\\item 'PDXDC1'\n",
       "\\item 'NPIPA5'\n",
       "\\item 'SULT1A2'\n",
       "\\item 'DYNC1LI2'\n",
       "\\item 'ATP9B'\n",
       "\\item 'ITPA'\n",
       "\\item 'SLC4A11'\n",
       "\\item 'C20orf194'\n",
       "\\item 'DNAJC5'\n",
       "\\end{enumerate*}\n"
      ],
      "text/markdown": [
       "1. 'CLN3'\n",
       "2. 'SULT1A1'\n",
       "3. 'NPIPB9'\n",
       "4. 'EIF3CL'\n",
       "5. 'LAT'\n",
       "6. 'NPIPB7'\n",
       "7. 'RUSF1'\n",
       "8. 'COG4'\n",
       "9. 'MTSS2'\n",
       "10. 'MYLK2'\n",
       "11. 'ID1'\n",
       "12. 'CHPT1'\n",
       "13. 'WASHC3'\n",
       "14. 'PMCH'\n",
       "15. 'KTN1'\n",
       "16. 'NUPR1'\n",
       "17. 'AC138894.1'\n",
       "18. 'NFATC2IP'\n",
       "19. 'TUFM'\n",
       "20. 'EIF3C'\n",
       "21. 'NOL11'\n",
       "22. 'TAS1R3'\n",
       "23. 'COX4I2'\n",
       "24. 'EXOC3'\n",
       "25. 'WDHD1'\n",
       "26. 'TNRC6A'\n",
       "27. 'SLC5A11'\n",
       "28. 'APOBR'\n",
       "29. 'NPIPB6'\n",
       "30. 'ATXN2L'\n",
       "31. 'SGF29'\n",
       "32. 'RABEP2'\n",
       "33. 'SH2B1'\n",
       "34. 'ATP2A1'\n",
       "35. 'HIRIP3'\n",
       "36. 'SEZ6L2'\n",
       "37. 'ZNF768'\n",
       "38. 'SLC9A5'\n",
       "39. 'NOL3'\n",
       "40. 'TMEM208'\n",
       "41. 'NFAT5'\n",
       "42. 'HELZ'\n",
       "43. 'BCL2L1'\n",
       "44. 'FOXS1'\n",
       "45. 'ZIC4'\n",
       "46. 'KLF3'\n",
       "47. 'POLR2B'\n",
       "48. 'APOM'\n",
       "49. 'MEPCE'\n",
       "50. 'NYAP1'\n",
       "51. 'SETD1A'\n",
       "52. 'DYRK1B'\n",
       "53. 'HM13'\n",
       "54. 'ATRN'\n",
       "55. 'TNFRSF11B'\n",
       "56. 'CD101'\n",
       "57. 'ZIC1'\n",
       "58. 'IGFBP7'\n",
       "59. 'ENOPH1'\n",
       "60. 'SEC31A'\n",
       "61. 'LIN54'\n",
       "62. 'AHRR'\n",
       "63. 'SLC9A3'\n",
       "64. 'HLA-A'\n",
       "65. 'TRIM39'\n",
       "66. 'COL21A1'\n",
       "67. 'CENPW'\n",
       "68. 'TULP4'\n",
       "69. 'TMEM181'\n",
       "70. 'SOD2'\n",
       "71. 'WTAP'\n",
       "72. 'ACAT2'\n",
       "73. 'TCP1'\n",
       "74. 'MRPL18'\n",
       "75. 'PNLDC1'\n",
       "76. 'AMZ1'\n",
       "77. 'GNA12'\n",
       "78. 'STAG3'\n",
       "79. 'PILRB'\n",
       "80. 'PILRA'\n",
       "81. 'ZCWPW1'\n",
       "82. 'C7orf61'\n",
       "83. 'TSC22D4'\n",
       "84. 'FAM160B2'\n",
       "85. 'EFCAB1'\n",
       "86. 'SAA4'\n",
       "87. 'SAA2'\n",
       "88. 'HPS5'\n",
       "89. 'GTF2H1'\n",
       "90. 'DSCAML1'\n",
       "91. 'ENO4'\n",
       "92. 'SHTN1'\n",
       "93. 'CNTN1'\n",
       "94. 'EIF2B2'\n",
       "95. 'MLH3'\n",
       "96. 'ACYP1'\n",
       "97. 'ZC2HC1C'\n",
       "98. 'NEK9'\n",
       "99. 'TMED10'\n",
       "100. 'NPIPA1'\n",
       "101. 'PDXDC1'\n",
       "102. 'NPIPA5'\n",
       "103. 'SULT1A2'\n",
       "104. 'DYNC1LI2'\n",
       "105. 'ATP9B'\n",
       "106. 'ITPA'\n",
       "107. 'SLC4A11'\n",
       "108. 'C20orf194'\n",
       "109. 'DNAJC5'\n",
       "\n",
       "\n"
      ],
      "text/plain": [
       "  [1] \"CLN3\"       \"SULT1A1\"    \"NPIPB9\"     \"EIF3CL\"     \"LAT\"       \n",
       "  [6] \"NPIPB7\"     \"RUSF1\"      \"COG4\"       \"MTSS2\"      \"MYLK2\"     \n",
       " [11] \"ID1\"        \"CHPT1\"      \"WASHC3\"     \"PMCH\"       \"KTN1\"      \n",
       " [16] \"NUPR1\"      \"AC138894.1\" \"NFATC2IP\"   \"TUFM\"       \"EIF3C\"     \n",
       " [21] \"NOL11\"      \"TAS1R3\"     \"COX4I2\"     \"EXOC3\"      \"WDHD1\"     \n",
       " [26] \"TNRC6A\"     \"SLC5A11\"    \"APOBR\"      \"NPIPB6\"     \"ATXN2L\"    \n",
       " [31] \"SGF29\"      \"RABEP2\"     \"SH2B1\"      \"ATP2A1\"     \"HIRIP3\"    \n",
       " [36] \"SEZ6L2\"     \"ZNF768\"     \"SLC9A5\"     \"NOL3\"       \"TMEM208\"   \n",
       " [41] \"NFAT5\"      \"HELZ\"       \"BCL2L1\"     \"FOXS1\"      \"ZIC4\"      \n",
       " [46] \"KLF3\"       \"POLR2B\"     \"APOM\"       \"MEPCE\"      \"NYAP1\"     \n",
       " [51] \"SETD1A\"     \"DYRK1B\"     \"HM13\"       \"ATRN\"       \"TNFRSF11B\" \n",
       " [56] \"CD101\"      \"ZIC1\"       \"IGFBP7\"     \"ENOPH1\"     \"SEC31A\"    \n",
       " [61] \"LIN54\"      \"AHRR\"       \"SLC9A3\"     \"HLA-A\"      \"TRIM39\"    \n",
       " [66] \"COL21A1\"    \"CENPW\"      \"TULP4\"      \"TMEM181\"    \"SOD2\"      \n",
       " [71] \"WTAP\"       \"ACAT2\"      \"TCP1\"       \"MRPL18\"     \"PNLDC1\"    \n",
       " [76] \"AMZ1\"       \"GNA12\"      \"STAG3\"      \"PILRB\"      \"PILRA\"     \n",
       " [81] \"ZCWPW1\"     \"C7orf61\"    \"TSC22D4\"    \"FAM160B2\"   \"EFCAB1\"    \n",
       " [86] \"SAA4\"       \"SAA2\"       \"HPS5\"       \"GTF2H1\"     \"DSCAML1\"   \n",
       " [91] \"ENO4\"       \"SHTN1\"      \"CNTN1\"      \"EIF2B2\"     \"MLH3\"      \n",
       " [96] \"ACYP1\"      \"ZC2HC1C\"    \"NEK9\"       \"TMED10\"     \"NPIPA1\"    \n",
       "[101] \"PDXDC1\"     \"NPIPA5\"     \"SULT1A2\"    \"DYNC1LI2\"   \"ATP9B\"     \n",
       "[106] \"ITPA\"       \"SLC4A11\"    \"C20orf194\"  \"DNAJC5\"    "
      ]
     },
     "metadata": {},
     "output_type": "display_data"
    }
   ],
   "source": [
    "Aging1_gene"
   ]
  },
  {
   "cell_type": "code",
   "execution_count": 37,
   "id": "49b9fbe5-430b-46ff-91e6-918993f5c6cf",
   "metadata": {
    "scrolled": true
   },
   "outputs": [
    {
     "data": {
      "text/html": [
       "<style>\n",
       ".list-inline {list-style: none; margin:0; padding: 0}\n",
       ".list-inline>li {display: inline-block}\n",
       ".list-inline>li:not(:last-child)::after {content: \"\\00b7\"; padding: 0 .5ex}\n",
       "</style>\n",
       "<ol class=list-inline><li>'TESC'</li><li>'LEMD3'</li><li>'XPOT'</li><li>'INO80E'</li><li>'ASPHD1'</li><li>'EEF1AKMT2'</li><li>'FBXW8'</li><li>'PAN2'</li><li>'MSRB3'</li><li>'MAPK3'</li><li>'GDPD3'</li><li>'TBX6'</li><li>'TMEM219'</li><li>'NPIPB13'</li><li>'NSRP1'</li><li>'SSH2'</li><li>'EFCAB5'</li><li>'CENPW'</li><li>'AC068896.1'</li><li>'RNFT2'</li><li>'NPIPB12'</li><li>'PPP4C'</li><li>'DOC2A'</li><li>'TAOK2'</li><li>'SEZ6L2'</li><li>'KCTD13'</li><li>'PYCARD'</li><li>'RSPO3'</li><li>'ZNF398'</li><li>'XKR6'</li><li>'FBXO21'</li><li>'FAF1'</li><li>'MAST2'</li><li>'DOCK10'</li><li>'ARL4C'</li><li>'MAST4'</li><li>'VCAN'</li><li>'TNIP1'</li><li>'TMEM170B'</li><li>'RPA3'</li><li>'FAM126A'</li><li>'KLHL7'</li><li>'NUP42'</li><li>'GPNMB'</li><li>'C7orf33'</li><li>'ZNF786'</li><li>'ZNF425'</li><li>'WAC'</li><li>'SYT10'</li><li>'DYRK2'</li><li>'WASHC3'</li><li>'PARPBP'</li><li>'SOHLH2'</li><li>'CCDC169-SOHLH2'</li><li>'CCDC169'</li><li>'SPART'</li><li>'NPIPA1'</li><li>'CORO6'</li><li>'MTMR4'</li><li>'RAD51C'</li><li>'PPM1E'</li><li>'TRIM37'</li><li>'BCL2L1'</li></ol>\n"
      ],
      "text/latex": [
       "\\begin{enumerate*}\n",
       "\\item 'TESC'\n",
       "\\item 'LEMD3'\n",
       "\\item 'XPOT'\n",
       "\\item 'INO80E'\n",
       "\\item 'ASPHD1'\n",
       "\\item 'EEF1AKMT2'\n",
       "\\item 'FBXW8'\n",
       "\\item 'PAN2'\n",
       "\\item 'MSRB3'\n",
       "\\item 'MAPK3'\n",
       "\\item 'GDPD3'\n",
       "\\item 'TBX6'\n",
       "\\item 'TMEM219'\n",
       "\\item 'NPIPB13'\n",
       "\\item 'NSRP1'\n",
       "\\item 'SSH2'\n",
       "\\item 'EFCAB5'\n",
       "\\item 'CENPW'\n",
       "\\item 'AC068896.1'\n",
       "\\item 'RNFT2'\n",
       "\\item 'NPIPB12'\n",
       "\\item 'PPP4C'\n",
       "\\item 'DOC2A'\n",
       "\\item 'TAOK2'\n",
       "\\item 'SEZ6L2'\n",
       "\\item 'KCTD13'\n",
       "\\item 'PYCARD'\n",
       "\\item 'RSPO3'\n",
       "\\item 'ZNF398'\n",
       "\\item 'XKR6'\n",
       "\\item 'FBXO21'\n",
       "\\item 'FAF1'\n",
       "\\item 'MAST2'\n",
       "\\item 'DOCK10'\n",
       "\\item 'ARL4C'\n",
       "\\item 'MAST4'\n",
       "\\item 'VCAN'\n",
       "\\item 'TNIP1'\n",
       "\\item 'TMEM170B'\n",
       "\\item 'RPA3'\n",
       "\\item 'FAM126A'\n",
       "\\item 'KLHL7'\n",
       "\\item 'NUP42'\n",
       "\\item 'GPNMB'\n",
       "\\item 'C7orf33'\n",
       "\\item 'ZNF786'\n",
       "\\item 'ZNF425'\n",
       "\\item 'WAC'\n",
       "\\item 'SYT10'\n",
       "\\item 'DYRK2'\n",
       "\\item 'WASHC3'\n",
       "\\item 'PARPBP'\n",
       "\\item 'SOHLH2'\n",
       "\\item 'CCDC169-SOHLH2'\n",
       "\\item 'CCDC169'\n",
       "\\item 'SPART'\n",
       "\\item 'NPIPA1'\n",
       "\\item 'CORO6'\n",
       "\\item 'MTMR4'\n",
       "\\item 'RAD51C'\n",
       "\\item 'PPM1E'\n",
       "\\item 'TRIM37'\n",
       "\\item 'BCL2L1'\n",
       "\\end{enumerate*}\n"
      ],
      "text/markdown": [
       "1. 'TESC'\n",
       "2. 'LEMD3'\n",
       "3. 'XPOT'\n",
       "4. 'INO80E'\n",
       "5. 'ASPHD1'\n",
       "6. 'EEF1AKMT2'\n",
       "7. 'FBXW8'\n",
       "8. 'PAN2'\n",
       "9. 'MSRB3'\n",
       "10. 'MAPK3'\n",
       "11. 'GDPD3'\n",
       "12. 'TBX6'\n",
       "13. 'TMEM219'\n",
       "14. 'NPIPB13'\n",
       "15. 'NSRP1'\n",
       "16. 'SSH2'\n",
       "17. 'EFCAB5'\n",
       "18. 'CENPW'\n",
       "19. 'AC068896.1'\n",
       "20. 'RNFT2'\n",
       "21. 'NPIPB12'\n",
       "22. 'PPP4C'\n",
       "23. 'DOC2A'\n",
       "24. 'TAOK2'\n",
       "25. 'SEZ6L2'\n",
       "26. 'KCTD13'\n",
       "27. 'PYCARD'\n",
       "28. 'RSPO3'\n",
       "29. 'ZNF398'\n",
       "30. 'XKR6'\n",
       "31. 'FBXO21'\n",
       "32. 'FAF1'\n",
       "33. 'MAST2'\n",
       "34. 'DOCK10'\n",
       "35. 'ARL4C'\n",
       "36. 'MAST4'\n",
       "37. 'VCAN'\n",
       "38. 'TNIP1'\n",
       "39. 'TMEM170B'\n",
       "40. 'RPA3'\n",
       "41. 'FAM126A'\n",
       "42. 'KLHL7'\n",
       "43. 'NUP42'\n",
       "44. 'GPNMB'\n",
       "45. 'C7orf33'\n",
       "46. 'ZNF786'\n",
       "47. 'ZNF425'\n",
       "48. 'WAC'\n",
       "49. 'SYT10'\n",
       "50. 'DYRK2'\n",
       "51. 'WASHC3'\n",
       "52. 'PARPBP'\n",
       "53. 'SOHLH2'\n",
       "54. 'CCDC169-SOHLH2'\n",
       "55. 'CCDC169'\n",
       "56. 'SPART'\n",
       "57. 'NPIPA1'\n",
       "58. 'CORO6'\n",
       "59. 'MTMR4'\n",
       "60. 'RAD51C'\n",
       "61. 'PPM1E'\n",
       "62. 'TRIM37'\n",
       "63. 'BCL2L1'\n",
       "\n",
       "\n"
      ],
      "text/plain": [
       " [1] \"TESC\"           \"LEMD3\"          \"XPOT\"           \"INO80E\"        \n",
       " [5] \"ASPHD1\"         \"EEF1AKMT2\"      \"FBXW8\"          \"PAN2\"          \n",
       " [9] \"MSRB3\"          \"MAPK3\"          \"GDPD3\"          \"TBX6\"          \n",
       "[13] \"TMEM219\"        \"NPIPB13\"        \"NSRP1\"          \"SSH2\"          \n",
       "[17] \"EFCAB5\"         \"CENPW\"          \"AC068896.1\"     \"RNFT2\"         \n",
       "[21] \"NPIPB12\"        \"PPP4C\"          \"DOC2A\"          \"TAOK2\"         \n",
       "[25] \"SEZ6L2\"         \"KCTD13\"         \"PYCARD\"         \"RSPO3\"         \n",
       "[29] \"ZNF398\"         \"XKR6\"           \"FBXO21\"         \"FAF1\"          \n",
       "[33] \"MAST2\"          \"DOCK10\"         \"ARL4C\"          \"MAST4\"         \n",
       "[37] \"VCAN\"           \"TNIP1\"          \"TMEM170B\"       \"RPA3\"          \n",
       "[41] \"FAM126A\"        \"KLHL7\"          \"NUP42\"          \"GPNMB\"         \n",
       "[45] \"C7orf33\"        \"ZNF786\"         \"ZNF425\"         \"WAC\"           \n",
       "[49] \"SYT10\"          \"DYRK2\"          \"WASHC3\"         \"PARPBP\"        \n",
       "[53] \"SOHLH2\"         \"CCDC169-SOHLH2\" \"CCDC169\"        \"SPART\"         \n",
       "[57] \"NPIPA1\"         \"CORO6\"          \"MTMR4\"          \"RAD51C\"        \n",
       "[61] \"PPM1E\"          \"TRIM37\"         \"BCL2L1\"        "
      ]
     },
     "metadata": {},
     "output_type": "display_data"
    }
   ],
   "source": [
    "Aging2_gene"
   ]
  },
  {
   "cell_type": "code",
   "execution_count": 38,
   "id": "2ef63d64-2f0e-4d53-a9ec-cf71f080d2fe",
   "metadata": {},
   "outputs": [
    {
     "data": {
      "text/html": [
       "<style>\n",
       ".list-inline {list-style: none; margin:0; padding: 0}\n",
       ".list-inline>li {display: inline-block}\n",
       ".list-inline>li:not(:last-child)::after {content: \"\\00b7\"; padding: 0 .5ex}\n",
       "</style>\n",
       "<ol class=list-inline><li>'GDPD3'</li><li>'CENPW'</li><li>'ARID4A'</li><li>'PSMA3'</li><li>'SPTBN1'</li><li>'RSPO3'</li><li>'TNF'</li><li>'XKR6'</li><li>'MSRB3'</li><li>'KCNK2'</li><li>'BIN1'</li><li>'HSPG2'</li><li>'CDC42'</li><li>'UGT2B7'</li><li>'ISCA1'</li><li>'TUT7'</li><li>'ENO4'</li><li>'SHTN1'</li><li>'KDM2B'</li><li>'IRS2'</li><li>'ARMH4'</li><li>'SEZ6L2'</li><li>'ASPHD1'</li><li>'KCTD13'</li><li>'TMEM219'</li><li>'MAPK3'</li><li>'PTGES3L-AARSD1'</li><li>'ARHGAP27'</li><li>'PLEKHM1'</li><li>'LINC02210-CRHR1'</li><li>'CRHR1'</li><li>'SPPL2C'</li><li>'MAPT'</li><li>'STH'</li><li>'KANSL1'</li><li>'ARL17B'</li><li>'LRRC37A'</li><li>'LRRC37A2'</li><li>'ARL17A'</li><li>'NSF'</li><li>'AC005670.2'</li><li>'ITCH'</li><li>'MAP1LC3A'</li><li>'NCOA6'</li><li>'GGT7'</li><li>'TRPC4AP'</li><li>'DNAJC5'</li><li>'DDX17'</li><li>'FAM227A'</li><li>'CBY1'</li><li>'TOMM22'</li><li>'JOSD1'</li><li>'SUN2'</li><li>'HSF2BP'</li><li>'RRP1B'</li><li>'PDXK'</li></ol>\n"
      ],
      "text/latex": [
       "\\begin{enumerate*}\n",
       "\\item 'GDPD3'\n",
       "\\item 'CENPW'\n",
       "\\item 'ARID4A'\n",
       "\\item 'PSMA3'\n",
       "\\item 'SPTBN1'\n",
       "\\item 'RSPO3'\n",
       "\\item 'TNF'\n",
       "\\item 'XKR6'\n",
       "\\item 'MSRB3'\n",
       "\\item 'KCNK2'\n",
       "\\item 'BIN1'\n",
       "\\item 'HSPG2'\n",
       "\\item 'CDC42'\n",
       "\\item 'UGT2B7'\n",
       "\\item 'ISCA1'\n",
       "\\item 'TUT7'\n",
       "\\item 'ENO4'\n",
       "\\item 'SHTN1'\n",
       "\\item 'KDM2B'\n",
       "\\item 'IRS2'\n",
       "\\item 'ARMH4'\n",
       "\\item 'SEZ6L2'\n",
       "\\item 'ASPHD1'\n",
       "\\item 'KCTD13'\n",
       "\\item 'TMEM219'\n",
       "\\item 'MAPK3'\n",
       "\\item 'PTGES3L-AARSD1'\n",
       "\\item 'ARHGAP27'\n",
       "\\item 'PLEKHM1'\n",
       "\\item 'LINC02210-CRHR1'\n",
       "\\item 'CRHR1'\n",
       "\\item 'SPPL2C'\n",
       "\\item 'MAPT'\n",
       "\\item 'STH'\n",
       "\\item 'KANSL1'\n",
       "\\item 'ARL17B'\n",
       "\\item 'LRRC37A'\n",
       "\\item 'LRRC37A2'\n",
       "\\item 'ARL17A'\n",
       "\\item 'NSF'\n",
       "\\item 'AC005670.2'\n",
       "\\item 'ITCH'\n",
       "\\item 'MAP1LC3A'\n",
       "\\item 'NCOA6'\n",
       "\\item 'GGT7'\n",
       "\\item 'TRPC4AP'\n",
       "\\item 'DNAJC5'\n",
       "\\item 'DDX17'\n",
       "\\item 'FAM227A'\n",
       "\\item 'CBY1'\n",
       "\\item 'TOMM22'\n",
       "\\item 'JOSD1'\n",
       "\\item 'SUN2'\n",
       "\\item 'HSF2BP'\n",
       "\\item 'RRP1B'\n",
       "\\item 'PDXK'\n",
       "\\end{enumerate*}\n"
      ],
      "text/markdown": [
       "1. 'GDPD3'\n",
       "2. 'CENPW'\n",
       "3. 'ARID4A'\n",
       "4. 'PSMA3'\n",
       "5. 'SPTBN1'\n",
       "6. 'RSPO3'\n",
       "7. 'TNF'\n",
       "8. 'XKR6'\n",
       "9. 'MSRB3'\n",
       "10. 'KCNK2'\n",
       "11. 'BIN1'\n",
       "12. 'HSPG2'\n",
       "13. 'CDC42'\n",
       "14. 'UGT2B7'\n",
       "15. 'ISCA1'\n",
       "16. 'TUT7'\n",
       "17. 'ENO4'\n",
       "18. 'SHTN1'\n",
       "19. 'KDM2B'\n",
       "20. 'IRS2'\n",
       "21. 'ARMH4'\n",
       "22. 'SEZ6L2'\n",
       "23. 'ASPHD1'\n",
       "24. 'KCTD13'\n",
       "25. 'TMEM219'\n",
       "26. 'MAPK3'\n",
       "27. 'PTGES3L-AARSD1'\n",
       "28. 'ARHGAP27'\n",
       "29. 'PLEKHM1'\n",
       "30. 'LINC02210-CRHR1'\n",
       "31. 'CRHR1'\n",
       "32. 'SPPL2C'\n",
       "33. 'MAPT'\n",
       "34. 'STH'\n",
       "35. 'KANSL1'\n",
       "36. 'ARL17B'\n",
       "37. 'LRRC37A'\n",
       "38. 'LRRC37A2'\n",
       "39. 'ARL17A'\n",
       "40. 'NSF'\n",
       "41. 'AC005670.2'\n",
       "42. 'ITCH'\n",
       "43. 'MAP1LC3A'\n",
       "44. 'NCOA6'\n",
       "45. 'GGT7'\n",
       "46. 'TRPC4AP'\n",
       "47. 'DNAJC5'\n",
       "48. 'DDX17'\n",
       "49. 'FAM227A'\n",
       "50. 'CBY1'\n",
       "51. 'TOMM22'\n",
       "52. 'JOSD1'\n",
       "53. 'SUN2'\n",
       "54. 'HSF2BP'\n",
       "55. 'RRP1B'\n",
       "56. 'PDXK'\n",
       "\n",
       "\n"
      ],
      "text/plain": [
       " [1] \"GDPD3\"           \"CENPW\"           \"ARID4A\"          \"PSMA3\"          \n",
       " [5] \"SPTBN1\"          \"RSPO3\"           \"TNF\"             \"XKR6\"           \n",
       " [9] \"MSRB3\"           \"KCNK2\"           \"BIN1\"            \"HSPG2\"          \n",
       "[13] \"CDC42\"           \"UGT2B7\"          \"ISCA1\"           \"TUT7\"           \n",
       "[17] \"ENO4\"            \"SHTN1\"           \"KDM2B\"           \"IRS2\"           \n",
       "[21] \"ARMH4\"           \"SEZ6L2\"          \"ASPHD1\"          \"KCTD13\"         \n",
       "[25] \"TMEM219\"         \"MAPK3\"           \"PTGES3L-AARSD1\"  \"ARHGAP27\"       \n",
       "[29] \"PLEKHM1\"         \"LINC02210-CRHR1\" \"CRHR1\"           \"SPPL2C\"         \n",
       "[33] \"MAPT\"            \"STH\"             \"KANSL1\"          \"ARL17B\"         \n",
       "[37] \"LRRC37A\"         \"LRRC37A2\"        \"ARL17A\"          \"NSF\"            \n",
       "[41] \"AC005670.2\"      \"ITCH\"            \"MAP1LC3A\"        \"NCOA6\"          \n",
       "[45] \"GGT7\"            \"TRPC4AP\"         \"DNAJC5\"          \"DDX17\"          \n",
       "[49] \"FAM227A\"         \"CBY1\"            \"TOMM22\"          \"JOSD1\"          \n",
       "[53] \"SUN2\"            \"HSF2BP\"          \"RRP1B\"           \"PDXK\"           "
      ]
     },
     "metadata": {},
     "output_type": "display_data"
    }
   ],
   "source": [
    "Aging3_gene"
   ]
  },
  {
   "cell_type": "code",
   "execution_count": 39,
   "id": "06ee60fe-7529-4819-9e6f-d49e5f1ed4fd",
   "metadata": {},
   "outputs": [
    {
     "data": {
      "text/html": [
       "<style>\n",
       ".list-inline {list-style: none; margin:0; padding: 0}\n",
       ".list-inline>li {display: inline-block}\n",
       ".list-inline>li:not(:last-child)::after {content: \"\\00b7\"; padding: 0 .5ex}\n",
       "</style>\n",
       "<ol class=list-inline><li>'PM20D1'</li><li>'KPNA2'</li><li>'SLC26A9'</li><li>'CFAP74'</li><li>'SLC41A1'</li><li>'KCNK2'</li><li>'IQCJ-SCHIP1'</li><li>'TOX3'</li><li>'RAB29'</li><li>'RAB7B'</li><li>'CTSE'</li><li>'RHEX'</li><li>'ERO1B'</li><li>'GFM1'</li><li>'AP3B1'</li><li>'BMP6'</li><li>'TXNDC5'</li><li>'BLOC1S5-TXNDC5'</li><li>'SUPT3H'</li><li>'AMZ1'</li><li>'GNA12'</li><li>'ENPP2'</li><li>'FAT3'</li><li>'SLC36A4'</li><li>'TCF7L2'</li><li>'NABP2'</li><li>'ANKRD52'</li><li>'COQ10A'</li><li>'CS'</li><li>'CNPY2'</li><li>'PAN2'</li><li>'IL23A'</li><li>'STAT2'</li><li>'BPTF'</li><li>'TPGS2'</li><li>'KIAA1328'</li><li>'COX6B1'</li><li>'UPK1A'</li><li>'ZBTB32'</li><li>'KMT2B'</li><li>'PROSER3'</li><li>'COQ8B'</li></ol>\n"
      ],
      "text/latex": [
       "\\begin{enumerate*}\n",
       "\\item 'PM20D1'\n",
       "\\item 'KPNA2'\n",
       "\\item 'SLC26A9'\n",
       "\\item 'CFAP74'\n",
       "\\item 'SLC41A1'\n",
       "\\item 'KCNK2'\n",
       "\\item 'IQCJ-SCHIP1'\n",
       "\\item 'TOX3'\n",
       "\\item 'RAB29'\n",
       "\\item 'RAB7B'\n",
       "\\item 'CTSE'\n",
       "\\item 'RHEX'\n",
       "\\item 'ERO1B'\n",
       "\\item 'GFM1'\n",
       "\\item 'AP3B1'\n",
       "\\item 'BMP6'\n",
       "\\item 'TXNDC5'\n",
       "\\item 'BLOC1S5-TXNDC5'\n",
       "\\item 'SUPT3H'\n",
       "\\item 'AMZ1'\n",
       "\\item 'GNA12'\n",
       "\\item 'ENPP2'\n",
       "\\item 'FAT3'\n",
       "\\item 'SLC36A4'\n",
       "\\item 'TCF7L2'\n",
       "\\item 'NABP2'\n",
       "\\item 'ANKRD52'\n",
       "\\item 'COQ10A'\n",
       "\\item 'CS'\n",
       "\\item 'CNPY2'\n",
       "\\item 'PAN2'\n",
       "\\item 'IL23A'\n",
       "\\item 'STAT2'\n",
       "\\item 'BPTF'\n",
       "\\item 'TPGS2'\n",
       "\\item 'KIAA1328'\n",
       "\\item 'COX6B1'\n",
       "\\item 'UPK1A'\n",
       "\\item 'ZBTB32'\n",
       "\\item 'KMT2B'\n",
       "\\item 'PROSER3'\n",
       "\\item 'COQ8B'\n",
       "\\end{enumerate*}\n"
      ],
      "text/markdown": [
       "1. 'PM20D1'\n",
       "2. 'KPNA2'\n",
       "3. 'SLC26A9'\n",
       "4. 'CFAP74'\n",
       "5. 'SLC41A1'\n",
       "6. 'KCNK2'\n",
       "7. 'IQCJ-SCHIP1'\n",
       "8. 'TOX3'\n",
       "9. 'RAB29'\n",
       "10. 'RAB7B'\n",
       "11. 'CTSE'\n",
       "12. 'RHEX'\n",
       "13. 'ERO1B'\n",
       "14. 'GFM1'\n",
       "15. 'AP3B1'\n",
       "16. 'BMP6'\n",
       "17. 'TXNDC5'\n",
       "18. 'BLOC1S5-TXNDC5'\n",
       "19. 'SUPT3H'\n",
       "20. 'AMZ1'\n",
       "21. 'GNA12'\n",
       "22. 'ENPP2'\n",
       "23. 'FAT3'\n",
       "24. 'SLC36A4'\n",
       "25. 'TCF7L2'\n",
       "26. 'NABP2'\n",
       "27. 'ANKRD52'\n",
       "28. 'COQ10A'\n",
       "29. 'CS'\n",
       "30. 'CNPY2'\n",
       "31. 'PAN2'\n",
       "32. 'IL23A'\n",
       "33. 'STAT2'\n",
       "34. 'BPTF'\n",
       "35. 'TPGS2'\n",
       "36. 'KIAA1328'\n",
       "37. 'COX6B1'\n",
       "38. 'UPK1A'\n",
       "39. 'ZBTB32'\n",
       "40. 'KMT2B'\n",
       "41. 'PROSER3'\n",
       "42. 'COQ8B'\n",
       "\n",
       "\n"
      ],
      "text/plain": [
       " [1] \"PM20D1\"         \"KPNA2\"          \"SLC26A9\"        \"CFAP74\"        \n",
       " [5] \"SLC41A1\"        \"KCNK2\"          \"IQCJ-SCHIP1\"    \"TOX3\"          \n",
       " [9] \"RAB29\"          \"RAB7B\"          \"CTSE\"           \"RHEX\"          \n",
       "[13] \"ERO1B\"          \"GFM1\"           \"AP3B1\"          \"BMP6\"          \n",
       "[17] \"TXNDC5\"         \"BLOC1S5-TXNDC5\" \"SUPT3H\"         \"AMZ1\"          \n",
       "[21] \"GNA12\"          \"ENPP2\"          \"FAT3\"           \"SLC36A4\"       \n",
       "[25] \"TCF7L2\"         \"NABP2\"          \"ANKRD52\"        \"COQ10A\"        \n",
       "[29] \"CS\"             \"CNPY2\"          \"PAN2\"           \"IL23A\"         \n",
       "[33] \"STAT2\"          \"BPTF\"           \"TPGS2\"          \"KIAA1328\"      \n",
       "[37] \"COX6B1\"         \"UPK1A\"          \"ZBTB32\"         \"KMT2B\"         \n",
       "[41] \"PROSER3\"        \"COQ8B\"         "
      ]
     },
     "metadata": {},
     "output_type": "display_data"
    }
   ],
   "source": [
    "Aging4_gene"
   ]
  },
  {
   "cell_type": "code",
   "execution_count": 40,
   "id": "c12fcd23-3d14-405c-8f66-d7fa385a250b",
   "metadata": {},
   "outputs": [
    {
     "data": {
      "text/html": [
       "<style>\n",
       ".list-inline {list-style: none; margin:0; padding: 0}\n",
       ".list-inline>li {display: inline-block}\n",
       ".list-inline>li:not(:last-child)::after {content: \"\\00b7\"; padding: 0 .5ex}\n",
       "</style>\n",
       "<ol class=list-inline><li>'NEURL1'</li><li>'CNNM2'</li><li>'ATP5MC1'</li><li>'LGALS4'</li><li>'CAPN12'</li><li>'TMCC2'</li><li>'CARF'</li><li>'NBEAL1'</li><li>'ICA1L'</li><li>'BTN3A3'</li><li>'H4C12'</li><li>'AL021997.2'</li><li>'ZNF311'</li><li>'MRPS18B'</li><li>'PRRT1'</li><li>'EHMT2'</li><li>'MPIG6B'</li><li>'GPANK1'</li><li>'SAPCD1'</li><li>'HLA-DRA'</li><li>'AL662884.4'</li><li>'HLA-DMA'</li><li>'RPEL1'</li><li>'CALHM2'</li><li>'CALHM1'</li><li>'SNF8'</li><li>'GNGT2'</li><li>'MIA'</li><li>'CNTN2'</li><li>'FAM117B'</li><li>'H3C2'</li><li>'H2AC4'</li><li>'PPP1R18'</li><li>'FLOT1'</li><li>'VARS2'</li><li>'C6orf47'</li><li>'CSNK2B'</li><li>'C4B'</li><li>'C4A'</li><li>'TAP2'</li><li>'BTRC'</li><li>'ARL3'</li><li>'PDCD11'</li><li>'AS3MT'</li><li>'CALCOCO2'</li><li>'DSTYK'</li><li>'WDR12'</li><li>'H4C13'</li><li>'ZKSCAN4'</li><li>'ZKSCAN3'</li><li>'ATP6V1G2'</li><li>'TNF'</li><li>'MSH5'</li><li>'CLIC1'</li><li>'AGER'</li><li>'HLA-DMB'</li><li>'AL645941.2'</li><li>'RXRB'</li><li>'GNA12'</li><li>'AMZ1'</li><li>'TNFRSF11B'</li><li>'NT5C2'</li><li>'WBP1L'</li><li>'LDB1'</li><li>'RBBP5'</li><li>'TRIM38'</li><li>'CUTA'</li><li>'RAPH1'</li><li>'RGPD4'</li><li>'SULT1C4'</li><li>'GCC2'</li><li>'LIMS1'</li><li>'RANBP2'</li><li>'NUP210'</li><li>'NR2C2'</li><li>'RARB'</li><li>'CCDC12'</li><li>'NBEAL2'</li><li>'SCAP'</li><li>'ELP6'</li><li>'STIMATE'</li><li>'EPHA3'</li><li>'BTN2A1'</li><li>'ZKSCAN8'</li><li>'TRIM31'</li><li>'VWA7'</li><li>'CYP21A2'</li><li>'TNXB'</li><li>'FUT9'</li><li>'UFL1'</li><li>'FHL5'</li><li>'CENPW'</li><li>'DENND2B'</li><li>'AKIP1'</li><li>'TMEM9B'</li><li>'IRAG1'</li><li>'MYRF'</li><li>'TMEM258'</li><li>'FADS2'</li><li>'FADS1'</li><li>'MARK2'</li><li>'TLCD5'</li><li>'ARHGEF12'</li><li>'SYNPO2L'</li><li>'VCL'</li><li>'ADK'</li><li>'RHBDF1'</li><li>'VPS9D1'</li><li>'EFCAB13'</li><li>'LRRC46'</li><li>'TTLL6'</li><li>'UBE2Z'</li><li>'SEPTIN9'</li><li>'CCDC9'</li><li>'C5AR1'</li><li>'FAM118A'</li></ol>\n"
      ],
      "text/latex": [
       "\\begin{enumerate*}\n",
       "\\item 'NEURL1'\n",
       "\\item 'CNNM2'\n",
       "\\item 'ATP5MC1'\n",
       "\\item 'LGALS4'\n",
       "\\item 'CAPN12'\n",
       "\\item 'TMCC2'\n",
       "\\item 'CARF'\n",
       "\\item 'NBEAL1'\n",
       "\\item 'ICA1L'\n",
       "\\item 'BTN3A3'\n",
       "\\item 'H4C12'\n",
       "\\item 'AL021997.2'\n",
       "\\item 'ZNF311'\n",
       "\\item 'MRPS18B'\n",
       "\\item 'PRRT1'\n",
       "\\item 'EHMT2'\n",
       "\\item 'MPIG6B'\n",
       "\\item 'GPANK1'\n",
       "\\item 'SAPCD1'\n",
       "\\item 'HLA-DRA'\n",
       "\\item 'AL662884.4'\n",
       "\\item 'HLA-DMA'\n",
       "\\item 'RPEL1'\n",
       "\\item 'CALHM2'\n",
       "\\item 'CALHM1'\n",
       "\\item 'SNF8'\n",
       "\\item 'GNGT2'\n",
       "\\item 'MIA'\n",
       "\\item 'CNTN2'\n",
       "\\item 'FAM117B'\n",
       "\\item 'H3C2'\n",
       "\\item 'H2AC4'\n",
       "\\item 'PPP1R18'\n",
       "\\item 'FLOT1'\n",
       "\\item 'VARS2'\n",
       "\\item 'C6orf47'\n",
       "\\item 'CSNK2B'\n",
       "\\item 'C4B'\n",
       "\\item 'C4A'\n",
       "\\item 'TAP2'\n",
       "\\item 'BTRC'\n",
       "\\item 'ARL3'\n",
       "\\item 'PDCD11'\n",
       "\\item 'AS3MT'\n",
       "\\item 'CALCOCO2'\n",
       "\\item 'DSTYK'\n",
       "\\item 'WDR12'\n",
       "\\item 'H4C13'\n",
       "\\item 'ZKSCAN4'\n",
       "\\item 'ZKSCAN3'\n",
       "\\item 'ATP6V1G2'\n",
       "\\item 'TNF'\n",
       "\\item 'MSH5'\n",
       "\\item 'CLIC1'\n",
       "\\item 'AGER'\n",
       "\\item 'HLA-DMB'\n",
       "\\item 'AL645941.2'\n",
       "\\item 'RXRB'\n",
       "\\item 'GNA12'\n",
       "\\item 'AMZ1'\n",
       "\\item 'TNFRSF11B'\n",
       "\\item 'NT5C2'\n",
       "\\item 'WBP1L'\n",
       "\\item 'LDB1'\n",
       "\\item 'RBBP5'\n",
       "\\item 'TRIM38'\n",
       "\\item 'CUTA'\n",
       "\\item 'RAPH1'\n",
       "\\item 'RGPD4'\n",
       "\\item 'SULT1C4'\n",
       "\\item 'GCC2'\n",
       "\\item 'LIMS1'\n",
       "\\item 'RANBP2'\n",
       "\\item 'NUP210'\n",
       "\\item 'NR2C2'\n",
       "\\item 'RARB'\n",
       "\\item 'CCDC12'\n",
       "\\item 'NBEAL2'\n",
       "\\item 'SCAP'\n",
       "\\item 'ELP6'\n",
       "\\item 'STIMATE'\n",
       "\\item 'EPHA3'\n",
       "\\item 'BTN2A1'\n",
       "\\item 'ZKSCAN8'\n",
       "\\item 'TRIM31'\n",
       "\\item 'VWA7'\n",
       "\\item 'CYP21A2'\n",
       "\\item 'TNXB'\n",
       "\\item 'FUT9'\n",
       "\\item 'UFL1'\n",
       "\\item 'FHL5'\n",
       "\\item 'CENPW'\n",
       "\\item 'DENND2B'\n",
       "\\item 'AKIP1'\n",
       "\\item 'TMEM9B'\n",
       "\\item 'IRAG1'\n",
       "\\item 'MYRF'\n",
       "\\item 'TMEM258'\n",
       "\\item 'FADS2'\n",
       "\\item 'FADS1'\n",
       "\\item 'MARK2'\n",
       "\\item 'TLCD5'\n",
       "\\item 'ARHGEF12'\n",
       "\\item 'SYNPO2L'\n",
       "\\item 'VCL'\n",
       "\\item 'ADK'\n",
       "\\item 'RHBDF1'\n",
       "\\item 'VPS9D1'\n",
       "\\item 'EFCAB13'\n",
       "\\item 'LRRC46'\n",
       "\\item 'TTLL6'\n",
       "\\item 'UBE2Z'\n",
       "\\item 'SEPTIN9'\n",
       "\\item 'CCDC9'\n",
       "\\item 'C5AR1'\n",
       "\\item 'FAM118A'\n",
       "\\end{enumerate*}\n"
      ],
      "text/markdown": [
       "1. 'NEURL1'\n",
       "2. 'CNNM2'\n",
       "3. 'ATP5MC1'\n",
       "4. 'LGALS4'\n",
       "5. 'CAPN12'\n",
       "6. 'TMCC2'\n",
       "7. 'CARF'\n",
       "8. 'NBEAL1'\n",
       "9. 'ICA1L'\n",
       "10. 'BTN3A3'\n",
       "11. 'H4C12'\n",
       "12. 'AL021997.2'\n",
       "13. 'ZNF311'\n",
       "14. 'MRPS18B'\n",
       "15. 'PRRT1'\n",
       "16. 'EHMT2'\n",
       "17. 'MPIG6B'\n",
       "18. 'GPANK1'\n",
       "19. 'SAPCD1'\n",
       "20. 'HLA-DRA'\n",
       "21. 'AL662884.4'\n",
       "22. 'HLA-DMA'\n",
       "23. 'RPEL1'\n",
       "24. 'CALHM2'\n",
       "25. 'CALHM1'\n",
       "26. 'SNF8'\n",
       "27. 'GNGT2'\n",
       "28. 'MIA'\n",
       "29. 'CNTN2'\n",
       "30. 'FAM117B'\n",
       "31. 'H3C2'\n",
       "32. 'H2AC4'\n",
       "33. 'PPP1R18'\n",
       "34. 'FLOT1'\n",
       "35. 'VARS2'\n",
       "36. 'C6orf47'\n",
       "37. 'CSNK2B'\n",
       "38. 'C4B'\n",
       "39. 'C4A'\n",
       "40. 'TAP2'\n",
       "41. 'BTRC'\n",
       "42. 'ARL3'\n",
       "43. 'PDCD11'\n",
       "44. 'AS3MT'\n",
       "45. 'CALCOCO2'\n",
       "46. 'DSTYK'\n",
       "47. 'WDR12'\n",
       "48. 'H4C13'\n",
       "49. 'ZKSCAN4'\n",
       "50. 'ZKSCAN3'\n",
       "51. 'ATP6V1G2'\n",
       "52. 'TNF'\n",
       "53. 'MSH5'\n",
       "54. 'CLIC1'\n",
       "55. 'AGER'\n",
       "56. 'HLA-DMB'\n",
       "57. 'AL645941.2'\n",
       "58. 'RXRB'\n",
       "59. 'GNA12'\n",
       "60. 'AMZ1'\n",
       "61. 'TNFRSF11B'\n",
       "62. 'NT5C2'\n",
       "63. 'WBP1L'\n",
       "64. 'LDB1'\n",
       "65. 'RBBP5'\n",
       "66. 'TRIM38'\n",
       "67. 'CUTA'\n",
       "68. 'RAPH1'\n",
       "69. 'RGPD4'\n",
       "70. 'SULT1C4'\n",
       "71. 'GCC2'\n",
       "72. 'LIMS1'\n",
       "73. 'RANBP2'\n",
       "74. 'NUP210'\n",
       "75. 'NR2C2'\n",
       "76. 'RARB'\n",
       "77. 'CCDC12'\n",
       "78. 'NBEAL2'\n",
       "79. 'SCAP'\n",
       "80. 'ELP6'\n",
       "81. 'STIMATE'\n",
       "82. 'EPHA3'\n",
       "83. 'BTN2A1'\n",
       "84. 'ZKSCAN8'\n",
       "85. 'TRIM31'\n",
       "86. 'VWA7'\n",
       "87. 'CYP21A2'\n",
       "88. 'TNXB'\n",
       "89. 'FUT9'\n",
       "90. 'UFL1'\n",
       "91. 'FHL5'\n",
       "92. 'CENPW'\n",
       "93. 'DENND2B'\n",
       "94. 'AKIP1'\n",
       "95. 'TMEM9B'\n",
       "96. 'IRAG1'\n",
       "97. 'MYRF'\n",
       "98. 'TMEM258'\n",
       "99. 'FADS2'\n",
       "100. 'FADS1'\n",
       "101. 'MARK2'\n",
       "102. 'TLCD5'\n",
       "103. 'ARHGEF12'\n",
       "104. 'SYNPO2L'\n",
       "105. 'VCL'\n",
       "106. 'ADK'\n",
       "107. 'RHBDF1'\n",
       "108. 'VPS9D1'\n",
       "109. 'EFCAB13'\n",
       "110. 'LRRC46'\n",
       "111. 'TTLL6'\n",
       "112. 'UBE2Z'\n",
       "113. 'SEPTIN9'\n",
       "114. 'CCDC9'\n",
       "115. 'C5AR1'\n",
       "116. 'FAM118A'\n",
       "\n",
       "\n"
      ],
      "text/plain": [
       "  [1] \"NEURL1\"     \"CNNM2\"      \"ATP5MC1\"    \"LGALS4\"     \"CAPN12\"    \n",
       "  [6] \"TMCC2\"      \"CARF\"       \"NBEAL1\"     \"ICA1L\"      \"BTN3A3\"    \n",
       " [11] \"H4C12\"      \"AL021997.2\" \"ZNF311\"     \"MRPS18B\"    \"PRRT1\"     \n",
       " [16] \"EHMT2\"      \"MPIG6B\"     \"GPANK1\"     \"SAPCD1\"     \"HLA-DRA\"   \n",
       " [21] \"AL662884.4\" \"HLA-DMA\"    \"RPEL1\"      \"CALHM2\"     \"CALHM1\"    \n",
       " [26] \"SNF8\"       \"GNGT2\"      \"MIA\"        \"CNTN2\"      \"FAM117B\"   \n",
       " [31] \"H3C2\"       \"H2AC4\"      \"PPP1R18\"    \"FLOT1\"      \"VARS2\"     \n",
       " [36] \"C6orf47\"    \"CSNK2B\"     \"C4B\"        \"C4A\"        \"TAP2\"      \n",
       " [41] \"BTRC\"       \"ARL3\"       \"PDCD11\"     \"AS3MT\"      \"CALCOCO2\"  \n",
       " [46] \"DSTYK\"      \"WDR12\"      \"H4C13\"      \"ZKSCAN4\"    \"ZKSCAN3\"   \n",
       " [51] \"ATP6V1G2\"   \"TNF\"        \"MSH5\"       \"CLIC1\"      \"AGER\"      \n",
       " [56] \"HLA-DMB\"    \"AL645941.2\" \"RXRB\"       \"GNA12\"      \"AMZ1\"      \n",
       " [61] \"TNFRSF11B\"  \"NT5C2\"      \"WBP1L\"      \"LDB1\"       \"RBBP5\"     \n",
       " [66] \"TRIM38\"     \"CUTA\"       \"RAPH1\"      \"RGPD4\"      \"SULT1C4\"   \n",
       " [71] \"GCC2\"       \"LIMS1\"      \"RANBP2\"     \"NUP210\"     \"NR2C2\"     \n",
       " [76] \"RARB\"       \"CCDC12\"     \"NBEAL2\"     \"SCAP\"       \"ELP6\"      \n",
       " [81] \"STIMATE\"    \"EPHA3\"      \"BTN2A1\"     \"ZKSCAN8\"    \"TRIM31\"    \n",
       " [86] \"VWA7\"       \"CYP21A2\"    \"TNXB\"       \"FUT9\"       \"UFL1\"      \n",
       " [91] \"FHL5\"       \"CENPW\"      \"DENND2B\"    \"AKIP1\"      \"TMEM9B\"    \n",
       " [96] \"IRAG1\"      \"MYRF\"       \"TMEM258\"    \"FADS2\"      \"FADS1\"     \n",
       "[101] \"MARK2\"      \"TLCD5\"      \"ARHGEF12\"   \"SYNPO2L\"    \"VCL\"       \n",
       "[106] \"ADK\"        \"RHBDF1\"     \"VPS9D1\"     \"EFCAB13\"    \"LRRC46\"    \n",
       "[111] \"TTLL6\"      \"UBE2Z\"      \"SEPTIN9\"    \"CCDC9\"      \"C5AR1\"     \n",
       "[116] \"FAM118A\"   "
      ]
     },
     "metadata": {},
     "output_type": "display_data"
    }
   ],
   "source": [
    "Aging5_gene"
   ]
  },
  {
   "cell_type": "code",
   "execution_count": 42,
   "id": "cdddc0a6-9b2d-481b-9c72-868138821b2d",
   "metadata": {},
   "outputs": [
    {
     "data": {
      "text/html": [
       "<style>\n",
       ".list-inline {list-style: none; margin:0; padding: 0}\n",
       ".list-inline>li {display: inline-block}\n",
       ".list-inline>li:not(:last-child)::after {content: \"\\00b7\"; padding: 0 .5ex}\n",
       "</style>\n",
       "<ol class=list-inline><li>'NBEAL2'</li><li>'KLHDC8B'</li><li>'PDCD11'</li><li>'SETD2'</li><li>'PLXNB1'</li><li>'USP19'</li><li>'MAP4'</li><li>'KLHL18'</li><li>'SBSPON'</li><li>'MFSD13A'</li></ol>\n"
      ],
      "text/latex": [
       "\\begin{enumerate*}\n",
       "\\item 'NBEAL2'\n",
       "\\item 'KLHDC8B'\n",
       "\\item 'PDCD11'\n",
       "\\item 'SETD2'\n",
       "\\item 'PLXNB1'\n",
       "\\item 'USP19'\n",
       "\\item 'MAP4'\n",
       "\\item 'KLHL18'\n",
       "\\item 'SBSPON'\n",
       "\\item 'MFSD13A'\n",
       "\\end{enumerate*}\n"
      ],
      "text/markdown": [
       "1. 'NBEAL2'\n",
       "2. 'KLHDC8B'\n",
       "3. 'PDCD11'\n",
       "4. 'SETD2'\n",
       "5. 'PLXNB1'\n",
       "6. 'USP19'\n",
       "7. 'MAP4'\n",
       "8. 'KLHL18'\n",
       "9. 'SBSPON'\n",
       "10. 'MFSD13A'\n",
       "\n",
       "\n"
      ],
      "text/plain": [
       " [1] \"NBEAL2\"  \"KLHDC8B\" \"PDCD11\"  \"SETD2\"   \"PLXNB1\"  \"USP19\"   \"MAP4\"   \n",
       " [8] \"KLHL18\"  \"SBSPON\"  \"MFSD13A\""
      ]
     },
     "metadata": {},
     "output_type": "display_data"
    }
   ],
   "source": [
    "intersect(AD1$gene_name, TL1$gene_name)"
   ]
  },
  {
   "cell_type": "markdown",
   "id": "ca8d08d3-80db-4fdf-93e3-5134f08bd4e7",
   "metadata": {},
   "source": [
    "   * KLHDC8B: The Human Protein Atlas indicates that the KLHDC8B protein\n",
    "     is expressed in ciliated cells and is involved in the organization of\n",
    "      the cilium.\n",
    "   * SETD2: This gene is a histone methyltransferase that also methylates\n",
    "     α-tubulin. Since microtubules are a key component of cilia, this\n",
    "     suggests a potential role for SETD2 in cilia function.\n",
    "   * MAP4: Mutations in MAP4 have been shown to cause defects in\n",
    "     centrosomes and result in abnormal ciliogenesis.\n",
    "   * KLHL18: The Human Protein Atlas shows that the KLHL18 protein is\n",
    "     expressed in ciliated cells and is involved in cilium organization.\n",
    "   * USP19: While no direct link was found for USP19, other\n",
    "     deubiquitinating enzymes in the same family have been shown to\n",
    "     control ciliogenesis, suggesting a potential role.\n"
   ]
  },
  {
   "cell_type": "code",
   "execution_count": 59,
   "id": "1f937544-5a2b-454a-8411-62cc15271bab",
   "metadata": {},
   "outputs": [
    {
     "data": {
      "text/html": [
       "<style>\n",
       ".list-inline {list-style: none; margin:0; padding: 0}\n",
       ".list-inline>li {display: inline-block}\n",
       ".list-inline>li:not(:last-child)::after {content: \"\\00b7\"; padding: 0 .5ex}\n",
       "</style>\n",
       "<ol class=list-inline><li>'BRCA1'</li><li>'NR1H3'</li><li>'C11orf49'</li><li>'PACSIN3'</li><li>'G6PC3'</li><li>'MAP3K14'</li><li>'NFS1'</li><li>'H2AC4'</li><li>'H4C13'</li><li>'CSNK2B'</li><li>'CKAP5'</li><li>'HEXIM1'</li><li>'TCEA3'</li><li>'ZKSCAN4'</li></ol>\n"
      ],
      "text/latex": [
       "\\begin{enumerate*}\n",
       "\\item 'BRCA1'\n",
       "\\item 'NR1H3'\n",
       "\\item 'C11orf49'\n",
       "\\item 'PACSIN3'\n",
       "\\item 'G6PC3'\n",
       "\\item 'MAP3K14'\n",
       "\\item 'NFS1'\n",
       "\\item 'H2AC4'\n",
       "\\item 'H4C13'\n",
       "\\item 'CSNK2B'\n",
       "\\item 'CKAP5'\n",
       "\\item 'HEXIM1'\n",
       "\\item 'TCEA3'\n",
       "\\item 'ZKSCAN4'\n",
       "\\end{enumerate*}\n"
      ],
      "text/markdown": [
       "1. 'BRCA1'\n",
       "2. 'NR1H3'\n",
       "3. 'C11orf49'\n",
       "4. 'PACSIN3'\n",
       "5. 'G6PC3'\n",
       "6. 'MAP3K14'\n",
       "7. 'NFS1'\n",
       "8. 'H2AC4'\n",
       "9. 'H4C13'\n",
       "10. 'CSNK2B'\n",
       "11. 'CKAP5'\n",
       "12. 'HEXIM1'\n",
       "13. 'TCEA3'\n",
       "14. 'ZKSCAN4'\n",
       "\n",
       "\n"
      ],
      "text/plain": [
       " [1] \"BRCA1\"    \"NR1H3\"    \"C11orf49\" \"PACSIN3\"  \"G6PC3\"    \"MAP3K14\" \n",
       " [7] \"NFS1\"     \"H2AC4\"    \"H4C13\"    \"CSNK2B\"   \"CKAP5\"    \"HEXIM1\"  \n",
       "[13] \"TCEA3\"    \"ZKSCAN4\" "
      ]
     },
     "metadata": {},
     "output_type": "display_data"
    }
   ],
   "source": [
    "intersect(TL1$gene_name, AD2$gene_name)"
   ]
  },
  {
   "cell_type": "markdown",
   "id": "c704401d-4147-48dd-9041-bc0009cd7fe8",
   "metadata": {},
   "source": [
    "* CKAP5: Involved in processes at the base of the cilia, specifically\n",
    "     \"ciliary basal body-plasma membrane docking\".\n",
    "* C11orf49 (also known as CSTPP1): Considered a cilia-related gene that\n",
    "      is involved in the disassembly of the cilium.\n",
    "\n",
    "\n",
    "* H4C13: There is evidence suggesting a link to cilia, with protein\n",
    "     expression data indicating its presence in ciliated cells and its\n",
    "     involvement in cilium organization.\n"
   ]
  },
  {
   "cell_type": "code",
   "execution_count": 58,
   "id": "de6688f3-fe66-43f7-8a7c-c73d8b1fb1dc",
   "metadata": {},
   "outputs": [
    {
     "data": {
      "text/html": [
       "<style>\n",
       ".list-inline {list-style: none; margin:0; padding: 0}\n",
       ".list-inline>li {display: inline-block}\n",
       ".list-inline>li:not(:last-child)::after {content: \"\\00b7\"; padding: 0 .5ex}\n",
       "</style>\n",
       "<ol class=list-inline><li>'CLN3'</li><li>'SULT1A1'</li><li>'NPIPB9'</li><li>'EIF3CL'</li><li>'LAT'</li><li>'NPIPB7'</li><li>'RUSF1'</li><li>'STAG3'</li><li>'ZCWPW1'</li><li>'PILRA'</li><li>'PILRB'</li><li>'MEPCE'</li><li>'C7orf61'</li><li>'PDXDC1'</li><li>'NUPR1'</li><li>'NFATC2IP'</li><li>'TUFM'</li><li>'NOL3'</li><li>'NFAT5'</li><li>'DNAJC5'</li><li>'SLC9A3'</li><li>'EXOC3'</li><li>'HLA-A'</li><li>'TSC22D4'</li><li>'ATXN2L'</li><li>'SETD1A'</li><li>'NYAP1'</li><li>'SGF29'</li><li>'RABEP2'</li><li>'SH2B1'</li><li>'SLC9A5'</li><li>'COG4'</li><li>'FAM160B2'</li><li>'SEC31A'</li><li>'LIN54'</li><li>'SULT1A2'</li><li>'EIF3C'</li><li>'ATP2A1'</li></ol>\n"
      ],
      "text/latex": [
       "\\begin{enumerate*}\n",
       "\\item 'CLN3'\n",
       "\\item 'SULT1A1'\n",
       "\\item 'NPIPB9'\n",
       "\\item 'EIF3CL'\n",
       "\\item 'LAT'\n",
       "\\item 'NPIPB7'\n",
       "\\item 'RUSF1'\n",
       "\\item 'STAG3'\n",
       "\\item 'ZCWPW1'\n",
       "\\item 'PILRA'\n",
       "\\item 'PILRB'\n",
       "\\item 'MEPCE'\n",
       "\\item 'C7orf61'\n",
       "\\item 'PDXDC1'\n",
       "\\item 'NUPR1'\n",
       "\\item 'NFATC2IP'\n",
       "\\item 'TUFM'\n",
       "\\item 'NOL3'\n",
       "\\item 'NFAT5'\n",
       "\\item 'DNAJC5'\n",
       "\\item 'SLC9A3'\n",
       "\\item 'EXOC3'\n",
       "\\item 'HLA-A'\n",
       "\\item 'TSC22D4'\n",
       "\\item 'ATXN2L'\n",
       "\\item 'SETD1A'\n",
       "\\item 'NYAP1'\n",
       "\\item 'SGF29'\n",
       "\\item 'RABEP2'\n",
       "\\item 'SH2B1'\n",
       "\\item 'SLC9A5'\n",
       "\\item 'COG4'\n",
       "\\item 'FAM160B2'\n",
       "\\item 'SEC31A'\n",
       "\\item 'LIN54'\n",
       "\\item 'SULT1A2'\n",
       "\\item 'EIF3C'\n",
       "\\item 'ATP2A1'\n",
       "\\end{enumerate*}\n"
      ],
      "text/markdown": [
       "1. 'CLN3'\n",
       "2. 'SULT1A1'\n",
       "3. 'NPIPB9'\n",
       "4. 'EIF3CL'\n",
       "5. 'LAT'\n",
       "6. 'NPIPB7'\n",
       "7. 'RUSF1'\n",
       "8. 'STAG3'\n",
       "9. 'ZCWPW1'\n",
       "10. 'PILRA'\n",
       "11. 'PILRB'\n",
       "12. 'MEPCE'\n",
       "13. 'C7orf61'\n",
       "14. 'PDXDC1'\n",
       "15. 'NUPR1'\n",
       "16. 'NFATC2IP'\n",
       "17. 'TUFM'\n",
       "18. 'NOL3'\n",
       "19. 'NFAT5'\n",
       "20. 'DNAJC5'\n",
       "21. 'SLC9A3'\n",
       "22. 'EXOC3'\n",
       "23. 'HLA-A'\n",
       "24. 'TSC22D4'\n",
       "25. 'ATXN2L'\n",
       "26. 'SETD1A'\n",
       "27. 'NYAP1'\n",
       "28. 'SGF29'\n",
       "29. 'RABEP2'\n",
       "30. 'SH2B1'\n",
       "31. 'SLC9A5'\n",
       "32. 'COG4'\n",
       "33. 'FAM160B2'\n",
       "34. 'SEC31A'\n",
       "35. 'LIN54'\n",
       "36. 'SULT1A2'\n",
       "37. 'EIF3C'\n",
       "38. 'ATP2A1'\n",
       "\n",
       "\n"
      ],
      "text/plain": [
       " [1] \"CLN3\"     \"SULT1A1\"  \"NPIPB9\"   \"EIF3CL\"   \"LAT\"      \"NPIPB7\"  \n",
       " [7] \"RUSF1\"    \"STAG3\"    \"ZCWPW1\"   \"PILRA\"    \"PILRB\"    \"MEPCE\"   \n",
       "[13] \"C7orf61\"  \"PDXDC1\"   \"NUPR1\"    \"NFATC2IP\" \"TUFM\"     \"NOL3\"    \n",
       "[19] \"NFAT5\"    \"DNAJC5\"   \"SLC9A3\"   \"EXOC3\"    \"HLA-A\"    \"TSC22D4\" \n",
       "[25] \"ATXN2L\"   \"SETD1A\"   \"NYAP1\"    \"SGF29\"    \"RABEP2\"   \"SH2B1\"   \n",
       "[31] \"SLC9A5\"   \"COG4\"     \"FAM160B2\" \"SEC31A\"   \"LIN54\"    \"SULT1A2\" \n",
       "[37] \"EIF3C\"    \"ATP2A1\"  "
      ]
     },
     "metadata": {},
     "output_type": "display_data"
    }
   ],
   "source": [
    "intersect(TL1$gene_name, Aging1$gene_name)"
   ]
  },
  {
   "cell_type": "markdown",
   "id": "ecb12622-dfb7-4c37-8bb4-1c55d7a5df21",
   "metadata": {},
   "source": [
    "* EXOC3 is a component of the exocyst complex, a protein complex involved in trafficking and biogenesis of primary cilia, which are essential cellular \"antennae\" for sensing the environment and playing crucial roles in development and homeostasis. When the exocyst complex, including EXOC3, is dysfunctional, it can lead to ciliopathies and various diseases, such as congenital heart defects (like bicuspid aortic valve) and kidney diseases\n",
    "* RABEP2 is a Rab-GTPase binding effector protein that plays a crucial role in cilium assembly and function by localizing to the centrosome, particularly the basal body, in ciliated cells\n",
    "* The COG4 gene provides instructions for a protein that is a component of the Conserved Oligomeric Golgi (COG) complex, which is crucial for Golgi apparatus function, particularly vesicle tethering and intracellular transport. Mutations in the COG4 gene lead to congenital disorders of glycosylation (CDGs), such as Saul-Wilson syndrome, affecting protein modifications and secretion, and are associated with severe developmental defects.\n"
   ]
  },
  {
   "cell_type": "code",
   "execution_count": 57,
   "id": "1b434b2e-7a3f-41db-bb86-d6573890b527",
   "metadata": {},
   "outputs": [
    {
     "data": {
      "text/html": [
       "<style>\n",
       ".list-inline {list-style: none; margin:0; padding: 0}\n",
       ".list-inline>li {display: inline-block}\n",
       ".list-inline>li:not(:last-child)::after {content: \"\\00b7\"; padding: 0 .5ex}\n",
       "</style>\n",
       "<ol class=list-inline><li>'INO80E'</li><li>'KLHL7'</li><li>'NUP42'</li></ol>\n"
      ],
      "text/latex": [
       "\\begin{enumerate*}\n",
       "\\item 'INO80E'\n",
       "\\item 'KLHL7'\n",
       "\\item 'NUP42'\n",
       "\\end{enumerate*}\n"
      ],
      "text/markdown": [
       "1. 'INO80E'\n",
       "2. 'KLHL7'\n",
       "3. 'NUP42'\n",
       "\n",
       "\n"
      ],
      "text/plain": [
       "[1] \"INO80E\" \"KLHL7\"  \"NUP42\" "
      ]
     },
     "metadata": {},
     "output_type": "display_data"
    }
   ],
   "source": [
    "intersect(TL1$gene_name, Aging2$gene_name)"
   ]
  },
  {
   "cell_type": "code",
   "execution_count": 41,
   "id": "7f8bdf0e-63a5-4692-a8ad-30f618756460",
   "metadata": {},
   "outputs": [
    {
     "data": {
      "text/html": [
       "<style>\n",
       ".list-inline {list-style: none; margin:0; padding: 0}\n",
       ".list-inline>li {display: inline-block}\n",
       ".list-inline>li:not(:last-child)::after {content: \"\\00b7\"; padding: 0 .5ex}\n",
       "</style>\n",
       "<ol class=list-inline><li>'MAP1LC3A'</li><li>'DDX17'</li><li>'JOSD1'</li><li>'FAM227A'</li><li>'ITCH'</li><li>'DNAJC5'</li><li>'TOMM22'</li><li>'SUN2'</li><li>'GGT7'</li><li>'CBY1'</li><li>'NCOA6'</li></ol>\n"
      ],
      "text/latex": [
       "\\begin{enumerate*}\n",
       "\\item 'MAP1LC3A'\n",
       "\\item 'DDX17'\n",
       "\\item 'JOSD1'\n",
       "\\item 'FAM227A'\n",
       "\\item 'ITCH'\n",
       "\\item 'DNAJC5'\n",
       "\\item 'TOMM22'\n",
       "\\item 'SUN2'\n",
       "\\item 'GGT7'\n",
       "\\item 'CBY1'\n",
       "\\item 'NCOA6'\n",
       "\\end{enumerate*}\n"
      ],
      "text/markdown": [
       "1. 'MAP1LC3A'\n",
       "2. 'DDX17'\n",
       "3. 'JOSD1'\n",
       "4. 'FAM227A'\n",
       "5. 'ITCH'\n",
       "6. 'DNAJC5'\n",
       "7. 'TOMM22'\n",
       "8. 'SUN2'\n",
       "9. 'GGT7'\n",
       "10. 'CBY1'\n",
       "11. 'NCOA6'\n",
       "\n",
       "\n"
      ],
      "text/plain": [
       " [1] \"MAP1LC3A\" \"DDX17\"    \"JOSD1\"    \"FAM227A\"  \"ITCH\"     \"DNAJC5\"  \n",
       " [7] \"TOMM22\"   \"SUN2\"     \"GGT7\"     \"CBY1\"     \"NCOA6\"   "
      ]
     },
     "metadata": {},
     "output_type": "display_data"
    }
   ],
   "source": [
    "intersect(TL1$gene_name, Aging3$gene_name)"
   ]
  },
  {
   "cell_type": "markdown",
   "id": "20334ac2-e32d-4494-8adb-905cbc254473",
   "metadata": {},
   "source": [
    "   * CBY1 (Chibby 1): Strongly associated with cilia, this gene is crucial\n",
    "      for the formation of both primary and motile cilia. Mutations in\n",
    "     CBY1 are known to cause a type of ciliopathy.\n",
    "   * FAM227A (also known as CFAP144): This stands for Cilia and Flagella\n",
    "     Associated Protein 144. It is found within the axoneme of cilia and\n",
    "     is necessary for the beating motion of motile cilia.\n",
    "   * MAP1LC3A: This gene is involved in autophagy, and the MAP1LC3A\n",
    "     protein is found in the primary cilium.\n"
   ]
  },
  {
   "cell_type": "code",
   "execution_count": 60,
   "id": "f1d64164-8cc8-4a3f-82c8-4e39faa1cc58",
   "metadata": {},
   "outputs": [
    {
     "data": {
      "text/html": [
       "'GFM1'"
      ],
      "text/latex": [
       "'GFM1'"
      ],
      "text/markdown": [
       "'GFM1'"
      ],
      "text/plain": [
       "[1] \"GFM1\""
      ]
     },
     "metadata": {},
     "output_type": "display_data"
    }
   ],
   "source": [
    "intersect(TL1$gene_name, Aging4$gene_name)"
   ]
  },
  {
   "cell_type": "code",
   "execution_count": 61,
   "id": "2291a468-b81f-4c3f-8eff-32004f484011",
   "metadata": {},
   "outputs": [
    {
     "data": {
      "text/html": [
       "<style>\n",
       ".list-inline {list-style: none; margin:0; padding: 0}\n",
       ".list-inline>li {display: inline-block}\n",
       ".list-inline>li:not(:last-child)::after {content: \"\\00b7\"; padding: 0 .5ex}\n",
       "</style>\n",
       "<ol class=list-inline><li>'FAM118A'</li><li>'BTN3A3'</li><li>'BTN2A1'</li><li>'ZKSCAN3'</li><li>'ZKSCAN8'</li><li>'H4C12'</li><li>'AL021997.2'</li><li>'ZNF311'</li><li>'VARS2'</li><li>'TNXB'</li><li>'EHMT2'</li><li>'MPIG6B'</li><li>'GPANK1'</li><li>'CLIC1'</li><li>'SAPCD1'</li><li>'C4A'</li><li>'AL662884.4'</li><li>'CNNM2'</li><li>'RPEL1'</li><li>'PDCD11'</li><li>'CALHM1'</li><li>'TRIM38'</li><li>'H3C2'</li><li>'H2AC4'</li><li>'H4C13'</li><li>'PPP1R18'</li><li>'FLOT1'</li><li>'ATP6V1G2'</li><li>'C6orf47'</li><li>'CSNK2B'</li><li>'C4B'</li><li>'CYP21A2'</li><li>'HLA-DMA'</li><li>'RXRB'</li><li>'BTRC'</li><li>'NT5C2'</li><li>'LDB1'</li><li>'NBEAL2'</li><li>'ZKSCAN4'</li><li>'MSH5'</li><li>'PRRT1'</li><li>'AGER'</li><li>'TAP2'</li><li>'HLA-DMB'</li><li>'AL645941.2'</li><li>'NEURL1'</li></ol>\n"
      ],
      "text/latex": [
       "\\begin{enumerate*}\n",
       "\\item 'FAM118A'\n",
       "\\item 'BTN3A3'\n",
       "\\item 'BTN2A1'\n",
       "\\item 'ZKSCAN3'\n",
       "\\item 'ZKSCAN8'\n",
       "\\item 'H4C12'\n",
       "\\item 'AL021997.2'\n",
       "\\item 'ZNF311'\n",
       "\\item 'VARS2'\n",
       "\\item 'TNXB'\n",
       "\\item 'EHMT2'\n",
       "\\item 'MPIG6B'\n",
       "\\item 'GPANK1'\n",
       "\\item 'CLIC1'\n",
       "\\item 'SAPCD1'\n",
       "\\item 'C4A'\n",
       "\\item 'AL662884.4'\n",
       "\\item 'CNNM2'\n",
       "\\item 'RPEL1'\n",
       "\\item 'PDCD11'\n",
       "\\item 'CALHM1'\n",
       "\\item 'TRIM38'\n",
       "\\item 'H3C2'\n",
       "\\item 'H2AC4'\n",
       "\\item 'H4C13'\n",
       "\\item 'PPP1R18'\n",
       "\\item 'FLOT1'\n",
       "\\item 'ATP6V1G2'\n",
       "\\item 'C6orf47'\n",
       "\\item 'CSNK2B'\n",
       "\\item 'C4B'\n",
       "\\item 'CYP21A2'\n",
       "\\item 'HLA-DMA'\n",
       "\\item 'RXRB'\n",
       "\\item 'BTRC'\n",
       "\\item 'NT5C2'\n",
       "\\item 'LDB1'\n",
       "\\item 'NBEAL2'\n",
       "\\item 'ZKSCAN4'\n",
       "\\item 'MSH5'\n",
       "\\item 'PRRT1'\n",
       "\\item 'AGER'\n",
       "\\item 'TAP2'\n",
       "\\item 'HLA-DMB'\n",
       "\\item 'AL645941.2'\n",
       "\\item 'NEURL1'\n",
       "\\end{enumerate*}\n"
      ],
      "text/markdown": [
       "1. 'FAM118A'\n",
       "2. 'BTN3A3'\n",
       "3. 'BTN2A1'\n",
       "4. 'ZKSCAN3'\n",
       "5. 'ZKSCAN8'\n",
       "6. 'H4C12'\n",
       "7. 'AL021997.2'\n",
       "8. 'ZNF311'\n",
       "9. 'VARS2'\n",
       "10. 'TNXB'\n",
       "11. 'EHMT2'\n",
       "12. 'MPIG6B'\n",
       "13. 'GPANK1'\n",
       "14. 'CLIC1'\n",
       "15. 'SAPCD1'\n",
       "16. 'C4A'\n",
       "17. 'AL662884.4'\n",
       "18. 'CNNM2'\n",
       "19. 'RPEL1'\n",
       "20. 'PDCD11'\n",
       "21. 'CALHM1'\n",
       "22. 'TRIM38'\n",
       "23. 'H3C2'\n",
       "24. 'H2AC4'\n",
       "25. 'H4C13'\n",
       "26. 'PPP1R18'\n",
       "27. 'FLOT1'\n",
       "28. 'ATP6V1G2'\n",
       "29. 'C6orf47'\n",
       "30. 'CSNK2B'\n",
       "31. 'C4B'\n",
       "32. 'CYP21A2'\n",
       "33. 'HLA-DMA'\n",
       "34. 'RXRB'\n",
       "35. 'BTRC'\n",
       "36. 'NT5C2'\n",
       "37. 'LDB1'\n",
       "38. 'NBEAL2'\n",
       "39. 'ZKSCAN4'\n",
       "40. 'MSH5'\n",
       "41. 'PRRT1'\n",
       "42. 'AGER'\n",
       "43. 'TAP2'\n",
       "44. 'HLA-DMB'\n",
       "45. 'AL645941.2'\n",
       "46. 'NEURL1'\n",
       "\n",
       "\n"
      ],
      "text/plain": [
       " [1] \"FAM118A\"    \"BTN3A3\"     \"BTN2A1\"     \"ZKSCAN3\"    \"ZKSCAN8\"   \n",
       " [6] \"H4C12\"      \"AL021997.2\" \"ZNF311\"     \"VARS2\"      \"TNXB\"      \n",
       "[11] \"EHMT2\"      \"MPIG6B\"     \"GPANK1\"     \"CLIC1\"      \"SAPCD1\"    \n",
       "[16] \"C4A\"        \"AL662884.4\" \"CNNM2\"      \"RPEL1\"      \"PDCD11\"    \n",
       "[21] \"CALHM1\"     \"TRIM38\"     \"H3C2\"       \"H2AC4\"      \"H4C13\"     \n",
       "[26] \"PPP1R18\"    \"FLOT1\"      \"ATP6V1G2\"   \"C6orf47\"    \"CSNK2B\"    \n",
       "[31] \"C4B\"        \"CYP21A2\"    \"HLA-DMA\"    \"RXRB\"       \"BTRC\"      \n",
       "[36] \"NT5C2\"      \"LDB1\"       \"NBEAL2\"     \"ZKSCAN4\"    \"MSH5\"      \n",
       "[41] \"PRRT1\"      \"AGER\"       \"TAP2\"       \"HLA-DMB\"    \"AL645941.2\"\n",
       "[46] \"NEURL1\"    "
      ]
     },
     "metadata": {},
     "output_type": "display_data"
    }
   ],
   "source": [
    "intersect(TL1$gene_name, Aging5$gene_name)"
   ]
  },
  {
   "cell_type": "markdown",
   "id": "2aadd34a-73ae-43af-a0ad-e73217a7d840",
   "metadata": {},
   "source": [
    "   * CSNK2B: Indirectly related to cilia through its role in the CK2\n",
    "     protein complex, which is involved in ciliary trafficking and\n",
    "     stability.\n",
    "   * ZKSCAN4: Potentially related, as one study noted an increased cilium\n",
    "     length in relation to this gene.\n",
    "   * H4C13 and H2AC4: These histone genes are indirectly related to cilia.\n",
    "      Histone modifications can regulate the expression of genes that are\n",
    "     essential for cilia formation and function.\n",
    "   * FLOT1: Potentially related to cilia due to its localization to the\n",
    "     centriolar satellite, a structure at the base of the cilium.\n",
    "   * TRIM38: Studies have shown that decreased expression of this gene can\n",
    "      lead to shorter cilia.\n",
    "   * CLIC1: This gene's protein has been identified in cilia-related\n",
    "     proteomic analyses, suggesting a role in cilia.\n",
    "   * CALHM1: This gene plays a role in ATP release, which in turn\n",
    "     modulates ciliary beat frequency.\n",
    "   * NEURL1: Potentially linked to cilia through its involvement in the\n",
    "     Notch signaling pathway, which is regulated by cilia.\n",
    "   * HLA-DMB: This gene is associated with \"ciliary body disorder\".\n",
    "   * C4A: This gene is expressed in ciliated epithelial cells, suggesting\n",
    "     a possible role in these cells.\n",
    "   * RPEL1: Mutations in this gene have been associated with Joubert\n",
    "     syndrome and Meckel syndrome, which are known ciliopathies (diseases\n",
    "     caused by dysfunctional cilia).\n"
   ]
  },
  {
   "cell_type": "code",
   "execution_count": 43,
   "id": "9852bd08-bb36-4d63-86d2-d08e23687f6d",
   "metadata": {},
   "outputs": [
    {
     "data": {
      "text/html": [
       "<style>\n",
       ".list-inline {list-style: none; margin:0; padding: 0}\n",
       ".list-inline>li {display: inline-block}\n",
       ".list-inline>li:not(:last-child)::after {content: \"\\00b7\"; padding: 0 .5ex}\n",
       "</style>\n",
       "<ol class=list-inline><li>'AMZ1'</li><li>'GNA12'</li></ol>\n"
      ],
      "text/latex": [
       "\\begin{enumerate*}\n",
       "\\item 'AMZ1'\n",
       "\\item 'GNA12'\n",
       "\\end{enumerate*}\n"
      ],
      "text/markdown": [
       "1. 'AMZ1'\n",
       "2. 'GNA12'\n",
       "\n",
       "\n"
      ],
      "text/plain": [
       "[1] \"AMZ1\"  \"GNA12\""
      ]
     },
     "metadata": {},
     "output_type": "display_data"
    }
   ],
   "source": [
    "intersect(AD1_gene, Aging1_gene)"
   ]
  },
  {
   "cell_type": "code",
   "execution_count": 44,
   "id": "4e1d1688-0bc4-4fa0-9902-654f3392bca5",
   "metadata": {},
   "outputs": [
    {
     "data": {
      "text/html": [
       "<style>\n",
       ".list-inline {list-style: none; margin:0; padding: 0}\n",
       ".list-inline>li {display: inline-block}\n",
       ".list-inline>li:not(:last-child)::after {content: \"\\00b7\"; padding: 0 .5ex}\n",
       "</style>\n",
       "<ol class=list-inline><li>'XKR6'</li><li>'ARL4C'</li></ol>\n"
      ],
      "text/latex": [
       "\\begin{enumerate*}\n",
       "\\item 'XKR6'\n",
       "\\item 'ARL4C'\n",
       "\\end{enumerate*}\n"
      ],
      "text/markdown": [
       "1. 'XKR6'\n",
       "2. 'ARL4C'\n",
       "\n",
       "\n"
      ],
      "text/plain": [
       "[1] \"XKR6\"  \"ARL4C\""
      ]
     },
     "metadata": {},
     "output_type": "display_data"
    }
   ],
   "source": [
    "intersect(AD1_gene, Aging2_gene)"
   ]
  },
  {
   "cell_type": "code",
   "execution_count": 45,
   "id": "e2e542d5-49f7-4a7d-b67e-d95f6cf6d829",
   "metadata": {},
   "outputs": [
    {
     "data": {
      "text/html": [
       "<style>\n",
       ".list-inline {list-style: none; margin:0; padding: 0}\n",
       ".list-inline>li {display: inline-block}\n",
       ".list-inline>li:not(:last-child)::after {content: \"\\00b7\"; padding: 0 .5ex}\n",
       "</style>\n",
       "<ol class=list-inline><li>'ARID4A'</li><li>'PSMA3'</li><li>'XKR6'</li><li>'ARMH4'</li><li>'UGT2B7'</li><li>'KDM2B'</li></ol>\n"
      ],
      "text/latex": [
       "\\begin{enumerate*}\n",
       "\\item 'ARID4A'\n",
       "\\item 'PSMA3'\n",
       "\\item 'XKR6'\n",
       "\\item 'ARMH4'\n",
       "\\item 'UGT2B7'\n",
       "\\item 'KDM2B'\n",
       "\\end{enumerate*}\n"
      ],
      "text/markdown": [
       "1. 'ARID4A'\n",
       "2. 'PSMA3'\n",
       "3. 'XKR6'\n",
       "4. 'ARMH4'\n",
       "5. 'UGT2B7'\n",
       "6. 'KDM2B'\n",
       "\n",
       "\n"
      ],
      "text/plain": [
       "[1] \"ARID4A\" \"PSMA3\"  \"XKR6\"   \"ARMH4\"  \"UGT2B7\" \"KDM2B\" "
      ]
     },
     "metadata": {},
     "output_type": "display_data"
    }
   ],
   "source": [
    "intersect(AD1_gene, Aging3_gene)"
   ]
  },
  {
   "cell_type": "code",
   "execution_count": 46,
   "id": "679277fd-2a5c-4837-9993-80bf2e08275b",
   "metadata": {},
   "outputs": [
    {
     "data": {
      "text/html": [
       "<style>\n",
       ".list-inline {list-style: none; margin:0; padding: 0}\n",
       ".list-inline>li {display: inline-block}\n",
       ".list-inline>li:not(:last-child)::after {content: \"\\00b7\"; padding: 0 .5ex}\n",
       "</style>\n",
       "<ol class=list-inline><li>'ENPP2'</li><li>'AMZ1'</li><li>'GNA12'</li></ol>\n"
      ],
      "text/latex": [
       "\\begin{enumerate*}\n",
       "\\item 'ENPP2'\n",
       "\\item 'AMZ1'\n",
       "\\item 'GNA12'\n",
       "\\end{enumerate*}\n"
      ],
      "text/markdown": [
       "1. 'ENPP2'\n",
       "2. 'AMZ1'\n",
       "3. 'GNA12'\n",
       "\n",
       "\n"
      ],
      "text/plain": [
       "[1] \"ENPP2\" \"AMZ1\"  \"GNA12\""
      ]
     },
     "metadata": {},
     "output_type": "display_data"
    }
   ],
   "source": [
    "intersect(AD1_gene, Aging4_gene)"
   ]
  },
  {
   "cell_type": "code",
   "execution_count": 47,
   "id": "3230021b-2139-4f69-b07c-d80d5825087f",
   "metadata": {},
   "outputs": [
    {
     "data": {
      "text/html": [
       "<style>\n",
       ".list-inline {list-style: none; margin:0; padding: 0}\n",
       ".list-inline>li {display: inline-block}\n",
       ".list-inline>li:not(:last-child)::after {content: \"\\00b7\"; padding: 0 .5ex}\n",
       "</style>\n",
       "<ol class=list-inline><li>'SCAP'</li><li>'ARL3'</li><li>'NBEAL2'</li><li>'PDCD11'</li><li>'CCDC12'</li><li>'ELP6'</li><li>'AMZ1'</li><li>'GNA12'</li></ol>\n"
      ],
      "text/latex": [
       "\\begin{enumerate*}\n",
       "\\item 'SCAP'\n",
       "\\item 'ARL3'\n",
       "\\item 'NBEAL2'\n",
       "\\item 'PDCD11'\n",
       "\\item 'CCDC12'\n",
       "\\item 'ELP6'\n",
       "\\item 'AMZ1'\n",
       "\\item 'GNA12'\n",
       "\\end{enumerate*}\n"
      ],
      "text/markdown": [
       "1. 'SCAP'\n",
       "2. 'ARL3'\n",
       "3. 'NBEAL2'\n",
       "4. 'PDCD11'\n",
       "5. 'CCDC12'\n",
       "6. 'ELP6'\n",
       "7. 'AMZ1'\n",
       "8. 'GNA12'\n",
       "\n",
       "\n"
      ],
      "text/plain": [
       "[1] \"SCAP\"   \"ARL3\"   \"NBEAL2\" \"PDCD11\" \"CCDC12\" \"ELP6\"   \"AMZ1\"   \"GNA12\" "
      ]
     },
     "metadata": {},
     "output_type": "display_data"
    }
   ],
   "source": [
    "intersect(AD1_gene, Aging5_gene)"
   ]
  },
  {
   "cell_type": "code",
   "execution_count": 48,
   "id": "089c405e-e1ab-4d48-bf30-2dbbcc3cef56",
   "metadata": {},
   "outputs": [
    {
     "data": {
      "text/html": [
       "<style>\n",
       ".list-inline {list-style: none; margin:0; padding: 0}\n",
       ".list-inline>li {display: inline-block}\n",
       ".list-inline>li:not(:last-child)::after {content: \"\\00b7\"; padding: 0 .5ex}\n",
       "</style>\n",
       "<ol class=list-inline><li>'CENPW'</li><li>'TNF'</li></ol>\n"
      ],
      "text/latex": [
       "\\begin{enumerate*}\n",
       "\\item 'CENPW'\n",
       "\\item 'TNF'\n",
       "\\end{enumerate*}\n"
      ],
      "text/markdown": [
       "1. 'CENPW'\n",
       "2. 'TNF'\n",
       "\n",
       "\n"
      ],
      "text/plain": [
       "[1] \"CENPW\" \"TNF\"  "
      ]
     },
     "metadata": {},
     "output_type": "display_data"
    }
   ],
   "source": [
    "intersect(Aging3_gene, Aging5_gene)"
   ]
  },
  {
   "cell_type": "markdown",
   "id": "8720b791-ca4e-432d-ae26-5105bd7de2b8",
   "metadata": {},
   "source": [
    "CENPV is deubiquitylated by CYLD and localizes in interphase to primary cilia where it increases the ciliary levels of acetylated α-tubulin.\n",
    "Cenpj, a protein that is required for centriole biogenesis, plays a role in regulating cilium disassembly in vivo..\n",
    "CENPW's role in cillia is less direct and well-characterized."
   ]
  },
  {
   "cell_type": "code",
   "execution_count": 49,
   "id": "b3aef3a1-b9e6-49c3-a622-fabfeb46a119",
   "metadata": {},
   "outputs": [
    {
     "data": {
      "text/html": [
       "<style>\n",
       ".list-inline {list-style: none; margin:0; padding: 0}\n",
       ".list-inline>li {display: inline-block}\n",
       ".list-inline>li:not(:last-child)::after {content: \"\\00b7\"; padding: 0 .5ex}\n",
       "</style>\n",
       "<ol class=list-inline><li>'GDF5'</li><li>'PINX1'</li><li>'UQCC1'</li></ol>\n"
      ],
      "text/latex": [
       "\\begin{enumerate*}\n",
       "\\item 'GDF5'\n",
       "\\item 'PINX1'\n",
       "\\item 'UQCC1'\n",
       "\\end{enumerate*}\n"
      ],
      "text/markdown": [
       "1. 'GDF5'\n",
       "2. 'PINX1'\n",
       "3. 'UQCC1'\n",
       "\n",
       "\n"
      ],
      "text/plain": [
       "[1] \"GDF5\"  \"PINX1\" \"UQCC1\""
      ]
     },
     "metadata": {},
     "output_type": "display_data"
    }
   ],
   "source": [
    "intersect(AD1_gene, AD2_gene)"
   ]
  },
  {
   "cell_type": "markdown",
   "id": "94bb2014-9283-4ed0-b51b-289f09ed9866",
   "metadata": {},
   "source": [
    "no overlap between AD2 and image_Aging1, Aging3 or Aging5"
   ]
  },
  {
   "cell_type": "code",
   "execution_count": 50,
   "id": "0799a2ae-bbb6-4a0b-a1ab-bc3c9c095061",
   "metadata": {},
   "outputs": [
    {
     "data": {
      "text/html": [],
      "text/latex": [],
      "text/markdown": [],
      "text/plain": [
       "character(0)"
      ]
     },
     "metadata": {},
     "output_type": "display_data"
    }
   ],
   "source": [
    "intersect(Aging1_gene, AD2_gene)"
   ]
  },
  {
   "cell_type": "code",
   "execution_count": 51,
   "id": "455b0c44-c671-4908-8999-6f5c70544985",
   "metadata": {},
   "outputs": [
    {
     "data": {
      "text/html": [
       "<style>\n",
       ".list-inline {list-style: none; margin:0; padding: 0}\n",
       ".list-inline>li {display: inline-block}\n",
       ".list-inline>li:not(:last-child)::after {content: \"\\00b7\"; padding: 0 .5ex}\n",
       "</style>\n",
       "<ol class=list-inline><li>'TESC'</li><li>'LEMD3'</li><li>'XPOT'</li><li>'FBXW8'</li><li>'PAN2'</li><li>'MSRB3'</li><li>'RNFT2'</li><li>'FBXO21'</li><li>'MAST4'</li><li>'VCAN'</li><li>'TNIP1'</li><li>'TMEM170B'</li><li>'SOHLH2'</li><li>'CCDC169-SOHLH2'</li><li>'CCDC169'</li><li>'SPART'</li></ol>\n"
      ],
      "text/latex": [
       "\\begin{enumerate*}\n",
       "\\item 'TESC'\n",
       "\\item 'LEMD3'\n",
       "\\item 'XPOT'\n",
       "\\item 'FBXW8'\n",
       "\\item 'PAN2'\n",
       "\\item 'MSRB3'\n",
       "\\item 'RNFT2'\n",
       "\\item 'FBXO21'\n",
       "\\item 'MAST4'\n",
       "\\item 'VCAN'\n",
       "\\item 'TNIP1'\n",
       "\\item 'TMEM170B'\n",
       "\\item 'SOHLH2'\n",
       "\\item 'CCDC169-SOHLH2'\n",
       "\\item 'CCDC169'\n",
       "\\item 'SPART'\n",
       "\\end{enumerate*}\n"
      ],
      "text/markdown": [
       "1. 'TESC'\n",
       "2. 'LEMD3'\n",
       "3. 'XPOT'\n",
       "4. 'FBXW8'\n",
       "5. 'PAN2'\n",
       "6. 'MSRB3'\n",
       "7. 'RNFT2'\n",
       "8. 'FBXO21'\n",
       "9. 'MAST4'\n",
       "10. 'VCAN'\n",
       "11. 'TNIP1'\n",
       "12. 'TMEM170B'\n",
       "13. 'SOHLH2'\n",
       "14. 'CCDC169-SOHLH2'\n",
       "15. 'CCDC169'\n",
       "16. 'SPART'\n",
       "\n",
       "\n"
      ],
      "text/plain": [
       " [1] \"TESC\"           \"LEMD3\"          \"XPOT\"           \"FBXW8\"         \n",
       " [5] \"PAN2\"           \"MSRB3\"          \"RNFT2\"          \"FBXO21\"        \n",
       " [9] \"MAST4\"          \"VCAN\"           \"TNIP1\"          \"TMEM170B\"      \n",
       "[13] \"SOHLH2\"         \"CCDC169-SOHLH2\" \"CCDC169\"        \"SPART\"         "
      ]
     },
     "metadata": {},
     "output_type": "display_data"
    }
   ],
   "source": [
    "intersect(Aging2_gene, AD2_gene)"
   ]
  },
  {
   "cell_type": "markdown",
   "id": "5b24b77d-09c1-4310-9440-0698fc284999",
   "metadata": {},
   "source": [
    "Loss-of-function mutations in the SPART gene cause Troyer syndrome, a recessive form of spastic paraplegia resulting in muscle weakness, short stature, and cognitive defects. SPART encodes for Spartin, a protein linked to endosomal trafficking and mitochondrial membrane potential maintenance. Here, we identified with whole exome sequencing (WES) a novel frameshift mutation in the SPART gene in 2 brothers presenting an uncharacterized developmental delay and short stature. Functional characterization in an SH-SY5Y cell model shows that this mutation is associated with increased neurite outgrowth. These cells also show a marked decrease in mitochondrial complex I (NADH dehydrogenase) activity, coupled to decreased ATP synthesis and defective mitochondrial membrane potential. The cells also presented an increase in reactive oxygen species, extracellular pyruvate, and NADH levels, consistent with impaired complex I activity. In concordance with a severe mitochondrial failure, Spartin loss also led to an altered intracellular Ca2+ homeostasis that was restored after transient expression of wild-type Spartin. "
   ]
  },
  {
   "cell_type": "code",
   "execution_count": 52,
   "id": "2e149ca3-1e0d-4be3-8d18-a298743f333b",
   "metadata": {},
   "outputs": [
    {
     "data": {
      "text/html": [
       "<style>\n",
       ".list-inline {list-style: none; margin:0; padding: 0}\n",
       ".list-inline>li {display: inline-block}\n",
       ".list-inline>li:not(:last-child)::after {content: \"\\00b7\"; padding: 0 .5ex}\n",
       "</style>\n",
       "<ol class=list-inline><li>'MSRB3'</li><li>'STH'</li><li>'KANSL1'</li><li>'LRRC37A2'</li><li>'ARL17A'</li><li>'NSF'</li></ol>\n"
      ],
      "text/latex": [
       "\\begin{enumerate*}\n",
       "\\item 'MSRB3'\n",
       "\\item 'STH'\n",
       "\\item 'KANSL1'\n",
       "\\item 'LRRC37A2'\n",
       "\\item 'ARL17A'\n",
       "\\item 'NSF'\n",
       "\\end{enumerate*}\n"
      ],
      "text/markdown": [
       "1. 'MSRB3'\n",
       "2. 'STH'\n",
       "3. 'KANSL1'\n",
       "4. 'LRRC37A2'\n",
       "5. 'ARL17A'\n",
       "6. 'NSF'\n",
       "\n",
       "\n"
      ],
      "text/plain": [
       "[1] \"MSRB3\"    \"STH\"      \"KANSL1\"   \"LRRC37A2\" \"ARL17A\"   \"NSF\"     "
      ]
     },
     "metadata": {},
     "output_type": "display_data"
    }
   ],
   "source": [
    "intersect(Aging3_gene, AD2_gene)"
   ]
  },
  {
   "cell_type": "code",
   "execution_count": 53,
   "id": "cac0b3fd-4728-474f-8c63-74b8b7795abe",
   "metadata": {},
   "outputs": [
    {
     "data": {
      "text/html": [
       "<style>\n",
       ".list-inline {list-style: none; margin:0; padding: 0}\n",
       ".list-inline>li {display: inline-block}\n",
       ".list-inline>li:not(:last-child)::after {content: \"\\00b7\"; padding: 0 .5ex}\n",
       "</style>\n",
       "<ol class=list-inline><li>'ERO1B'</li><li>'AP3B1'</li><li>'NABP2'</li><li>'ANKRD52'</li><li>'COQ10A'</li><li>'CS'</li><li>'CNPY2'</li><li>'PAN2'</li><li>'IL23A'</li><li>'STAT2'</li></ol>\n"
      ],
      "text/latex": [
       "\\begin{enumerate*}\n",
       "\\item 'ERO1B'\n",
       "\\item 'AP3B1'\n",
       "\\item 'NABP2'\n",
       "\\item 'ANKRD52'\n",
       "\\item 'COQ10A'\n",
       "\\item 'CS'\n",
       "\\item 'CNPY2'\n",
       "\\item 'PAN2'\n",
       "\\item 'IL23A'\n",
       "\\item 'STAT2'\n",
       "\\end{enumerate*}\n"
      ],
      "text/markdown": [
       "1. 'ERO1B'\n",
       "2. 'AP3B1'\n",
       "3. 'NABP2'\n",
       "4. 'ANKRD52'\n",
       "5. 'COQ10A'\n",
       "6. 'CS'\n",
       "7. 'CNPY2'\n",
       "8. 'PAN2'\n",
       "9. 'IL23A'\n",
       "10. 'STAT2'\n",
       "\n",
       "\n"
      ],
      "text/plain": [
       " [1] \"ERO1B\"   \"AP3B1\"   \"NABP2\"   \"ANKRD52\" \"COQ10A\"  \"CS\"      \"CNPY2\"  \n",
       " [8] \"PAN2\"    \"IL23A\"   \"STAT2\"  "
      ]
     },
     "metadata": {},
     "output_type": "display_data"
    }
   ],
   "source": [
    "intersect(Aging4_gene, AD2_gene)"
   ]
  },
  {
   "cell_type": "code",
   "execution_count": 54,
   "id": "dfdcec75-2058-4142-8082-5cf732d89982",
   "metadata": {},
   "outputs": [
    {
     "data": {
      "text/html": [
       "<style>\n",
       ".list-inline {list-style: none; margin:0; padding: 0}\n",
       ".list-inline>li {display: inline-block}\n",
       ".list-inline>li:not(:last-child)::after {content: \"\\00b7\"; padding: 0 .5ex}\n",
       "</style>\n",
       "<ol class=list-inline><li>'H2AC4'</li><li>'CSNK2B'</li><li>'H4C13'</li><li>'ZKSCAN4'</li></ol>\n"
      ],
      "text/latex": [
       "\\begin{enumerate*}\n",
       "\\item 'H2AC4'\n",
       "\\item 'CSNK2B'\n",
       "\\item 'H4C13'\n",
       "\\item 'ZKSCAN4'\n",
       "\\end{enumerate*}\n"
      ],
      "text/markdown": [
       "1. 'H2AC4'\n",
       "2. 'CSNK2B'\n",
       "3. 'H4C13'\n",
       "4. 'ZKSCAN4'\n",
       "\n",
       "\n"
      ],
      "text/plain": [
       "[1] \"H2AC4\"   \"CSNK2B\"  \"H4C13\"   \"ZKSCAN4\""
      ]
     },
     "metadata": {},
     "output_type": "display_data"
    }
   ],
   "source": [
    "intersect(Aging5_gene, AD2_gene)"
   ]
  },
  {
   "cell_type": "code",
   "execution_count": 55,
   "id": "ad35655a-bee4-44e4-93f1-d762a1b61ad2",
   "metadata": {},
   "outputs": [
    {
     "data": {
      "text/html": [
       "<style>\n",
       ".list-inline {list-style: none; margin:0; padding: 0}\n",
       ".list-inline>li {display: inline-block}\n",
       ".list-inline>li:not(:last-child)::after {content: \"\\00b7\"; padding: 0 .5ex}\n",
       "</style>\n",
       "<ol class=list-inline><li>'CENPW'</li><li>'ENO4'</li><li>'SHTN1'</li><li>'SEZ6L2'</li><li>'DNAJC5'</li></ol>\n"
      ],
      "text/latex": [
       "\\begin{enumerate*}\n",
       "\\item 'CENPW'\n",
       "\\item 'ENO4'\n",
       "\\item 'SHTN1'\n",
       "\\item 'SEZ6L2'\n",
       "\\item 'DNAJC5'\n",
       "\\end{enumerate*}\n"
      ],
      "text/markdown": [
       "1. 'CENPW'\n",
       "2. 'ENO4'\n",
       "3. 'SHTN1'\n",
       "4. 'SEZ6L2'\n",
       "5. 'DNAJC5'\n",
       "\n",
       "\n"
      ],
      "text/plain": [
       "[1] \"CENPW\"  \"ENO4\"   \"SHTN1\"  \"SEZ6L2\" \"DNAJC5\""
      ]
     },
     "metadata": {},
     "output_type": "display_data"
    }
   ],
   "source": [
    "intersect(Aging3_gene, Aging1_gene)"
   ]
  }
 ],
 "metadata": {
  "kernelspec": {
   "display_name": "R",
   "language": "R",
   "name": "ir"
  },
  "language_info": {
   "codemirror_mode": "r",
   "file_extension": ".r",
   "mimetype": "text/x-r-source",
   "name": "R",
   "pygments_lexer": "r",
   "version": "4.3.3"
  }
 },
 "nbformat": 4,
 "nbformat_minor": 5
}
