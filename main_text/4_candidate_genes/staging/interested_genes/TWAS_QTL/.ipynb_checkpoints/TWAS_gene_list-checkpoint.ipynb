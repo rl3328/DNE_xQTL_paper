{
 "cells": [
  {
   "cell_type": "code",
   "execution_count": null,
   "id": "f4c0d3b1-7497-4682-8a81-c5040c6846d4",
   "metadata": {},
   "outputs": [],
   "source": [
    "library(tidyverse)\n",
    "library(data.table)"
   ]
  },
  {
   "cell_type": "markdown",
   "id": "5bf4f00c-916d-4284-a932-6185e1ee3716",
   "metadata": {},
   "source": [
    "# MR"
   ]
  },
  {
   "cell_type": "markdown",
   "id": "ffa151ce-1436-4624-99e2-dcf82d148dc8",
   "metadata": {},
   "source": [
    "## AD"
   ]
  },
  {
   "cell_type": "code",
   "execution_count": 79,
   "id": "4d5b3209-6f38-4111-a427-6b1f41db7124",
   "metadata": {},
   "outputs": [],
   "source": [
    "files <- list.files(\"~/data/analysis_result/twas/AD\", \n",
    "                  pattern = \"mr_result\\\\.tsv\\\\.gz$\", \n",
    "                   full.names = TRUE, recursive = TRUE)"
   ]
  },
  {
   "cell_type": "code",
   "execution_count": 80,
   "id": "e06d2d8c-88b3-407d-8a7b-471c57f5e522",
   "metadata": {},
   "outputs": [],
   "source": [
    "AD_mr <- files %>%\n",
    "  # keep only non-empty files\n",
    "  keep(~ file.info(.x)$size > 0) %>%\n",
    "  map_dfr(~ read_tsv(.x, \n",
    "                     col_types = cols(\n",
    "                       I2 = col_character(),\n",
    "                       Q = col_character(),\n",
    "                       Q_pval = col_character(),\n",
    "                       cpip = col_character(),\n",
    "                       meta_eff = col_character(),\n",
    "                       meta_pval = col_character(),\n",
    "                       num_CS = col_character(),\n",
    "                       num_IV = col_character(),\n",
    "                       se_meta_eff = col_character(),\n",
    "                       .default = col_guess()\n",
    "                     ),\n",
    "                     show_col_types = FALSE)) %>%\n",
    "  mutate(\n",
    "    I2 = as.numeric(I2),\n",
    "    Q = as.numeric(Q),\n",
    "    Q_pval = as.numeric(Q_pval),\n",
    "    cpip = as.numeric(cpip),\n",
    "    meta_eff = as.numeric(meta_eff),\n",
    "    meta_pval = as.numeric(meta_pval),\n",
    "    num_CS = as.numeric(num_CS),\n",
    "    num_IV = as.numeric(num_IV),\n",
    "    se_meta_eff = as.numeric(se_meta_eff)\n",
    "  )\n"
   ]
  },
  {
   "cell_type": "code",
   "execution_count": null,
   "id": "c18b4584-6571-437b-bfc0-49594d0f6b18",
   "metadata": {},
   "outputs": [],
   "source": [
    "AD_mr = fread(\"~/project/image_QTL/twas/AD_mr.sig_gene.tsv.gz\")\n"
   ]
  },
  {
   "cell_type": "code",
   "execution_count": 84,
   "id": "73db795a-4e46-45d6-974c-adad7d7bdd8e",
   "metadata": {},
   "outputs": [
    {
     "data": {
      "text/html": [
       "<table class=\"dataframe\">\n",
       "<caption>A tibble: 6 x 12</caption>\n",
       "<thead>\n",
       "\t<tr><th scope=col>gene_name</th><th scope=col>num_CS</th><th scope=col>num_IV</th><th scope=col>cpip</th><th scope=col>meta_eff</th><th scope=col>se_meta_eff</th><th scope=col>meta_pval</th><th scope=col>Q</th><th scope=col>Q_pval</th><th scope=col>I2</th><th scope=col>context</th><th scope=col>gwas_study</th></tr>\n",
       "\t<tr><th scope=col>&lt;chr&gt;</th><th scope=col>&lt;dbl&gt;</th><th scope=col>&lt;dbl&gt;</th><th scope=col>&lt;dbl&gt;</th><th scope=col>&lt;dbl&gt;</th><th scope=col>&lt;dbl&gt;</th><th scope=col>&lt;dbl&gt;</th><th scope=col>&lt;dbl&gt;</th><th scope=col>&lt;dbl&gt;</th><th scope=col>&lt;dbl&gt;</th><th scope=col>&lt;chr&gt;</th><th scope=col>&lt;chr&gt;</th></tr>\n",
       "</thead>\n",
       "<tbody>\n",
       "\t<tr><td>ENSG00000055950</td><td> 1</td><td>27</td><td>0.953</td><td>0.002</td><td>0.001</td><td>0.107</td><td> 0</td><td> 1</td><td> 0</td><td>Knight_eQTL_brain</td><td>Wightman_ExcludingUKBand23andME_2021</td></tr>\n",
       "\t<tr><td>ENSG00000055950</td><td>NA</td><td>NA</td><td>   NA</td><td>   NA</td><td>   NA</td><td>   NA</td><td>NA</td><td>NA</td><td>NA</td><td>Knight_eQTL_brain</td><td>Wightman_Excluding23andMe_2021      </td></tr>\n",
       "\t<tr><td>ENSG00000055950</td><td>NA</td><td>NA</td><td>   NA</td><td>   NA</td><td>   NA</td><td>   NA</td><td>NA</td><td>NA</td><td>NA</td><td>Knight_eQTL_brain</td><td>Wightman_Full_2021                  </td></tr>\n",
       "\t<tr><td>ENSG00000055950</td><td>NA</td><td>NA</td><td>   NA</td><td>   NA</td><td>   NA</td><td>   NA</td><td>NA</td><td>NA</td><td>NA</td><td>Knight_eQTL_brain</td><td>Jansen_2021                         </td></tr>\n",
       "\t<tr><td>ENSG00000055950</td><td> 1</td><td>27</td><td>0.953</td><td>0.001</td><td>0.000</td><td>0.001</td><td> 0</td><td> 0</td><td> 0</td><td>Knight_eQTL_brain</td><td>Bellenguez_2022                     </td></tr>\n",
       "\t<tr><td>ENSG00000055950</td><td> 1</td><td>27</td><td>0.953</td><td>0.005</td><td>0.001</td><td>0.001</td><td> 0</td><td> 1</td><td> 0</td><td>Knight_eQTL_brain</td><td>Bellenguez_EADB_2022                </td></tr>\n",
       "</tbody>\n",
       "</table>\n"
      ],
      "text/latex": [
       "A tibble: 6 x 12\n",
       "\\begin{tabular}{llllllllllll}\n",
       " gene\\_name & num\\_CS & num\\_IV & cpip & meta\\_eff & se\\_meta\\_eff & meta\\_pval & Q & Q\\_pval & I2 & context & gwas\\_study\\\\\n",
       " <chr> & <dbl> & <dbl> & <dbl> & <dbl> & <dbl> & <dbl> & <dbl> & <dbl> & <dbl> & <chr> & <chr>\\\\\n",
       "\\hline\n",
       "\t ENSG00000055950 &  1 & 27 & 0.953 & 0.002 & 0.001 & 0.107 &  0 &  1 &  0 & Knight\\_eQTL\\_brain & Wightman\\_ExcludingUKBand23andME\\_2021\\\\\n",
       "\t ENSG00000055950 & NA & NA &    NA &    NA &    NA &    NA & NA & NA & NA & Knight\\_eQTL\\_brain & Wightman\\_Excluding23andMe\\_2021      \\\\\n",
       "\t ENSG00000055950 & NA & NA &    NA &    NA &    NA &    NA & NA & NA & NA & Knight\\_eQTL\\_brain & Wightman\\_Full\\_2021                  \\\\\n",
       "\t ENSG00000055950 & NA & NA &    NA &    NA &    NA &    NA & NA & NA & NA & Knight\\_eQTL\\_brain & Jansen\\_2021                         \\\\\n",
       "\t ENSG00000055950 &  1 & 27 & 0.953 & 0.001 & 0.000 & 0.001 &  0 &  0 &  0 & Knight\\_eQTL\\_brain & Bellenguez\\_2022                     \\\\\n",
       "\t ENSG00000055950 &  1 & 27 & 0.953 & 0.005 & 0.001 & 0.001 &  0 &  1 &  0 & Knight\\_eQTL\\_brain & Bellenguez\\_EADB\\_2022                \\\\\n",
       "\\end{tabular}\n"
      ],
      "text/markdown": [
       "\n",
       "A tibble: 6 x 12\n",
       "\n",
       "| gene_name &lt;chr&gt; | num_CS &lt;dbl&gt; | num_IV &lt;dbl&gt; | cpip &lt;dbl&gt; | meta_eff &lt;dbl&gt; | se_meta_eff &lt;dbl&gt; | meta_pval &lt;dbl&gt; | Q &lt;dbl&gt; | Q_pval &lt;dbl&gt; | I2 &lt;dbl&gt; | context &lt;chr&gt; | gwas_study &lt;chr&gt; |\n",
       "|---|---|---|---|---|---|---|---|---|---|---|---|\n",
       "| ENSG00000055950 |  1 | 27 | 0.953 | 0.002 | 0.001 | 0.107 |  0 |  1 |  0 | Knight_eQTL_brain | Wightman_ExcludingUKBand23andME_2021 |\n",
       "| ENSG00000055950 | NA | NA |    NA |    NA |    NA |    NA | NA | NA | NA | Knight_eQTL_brain | Wightman_Excluding23andMe_2021       |\n",
       "| ENSG00000055950 | NA | NA |    NA |    NA |    NA |    NA | NA | NA | NA | Knight_eQTL_brain | Wightman_Full_2021                   |\n",
       "| ENSG00000055950 | NA | NA |    NA |    NA |    NA |    NA | NA | NA | NA | Knight_eQTL_brain | Jansen_2021                          |\n",
       "| ENSG00000055950 |  1 | 27 | 0.953 | 0.001 | 0.000 | 0.001 |  0 |  0 |  0 | Knight_eQTL_brain | Bellenguez_2022                      |\n",
       "| ENSG00000055950 |  1 | 27 | 0.953 | 0.005 | 0.001 | 0.001 |  0 |  1 |  0 | Knight_eQTL_brain | Bellenguez_EADB_2022                 |\n",
       "\n"
      ],
      "text/plain": [
       "  gene_name       num_CS num_IV cpip  meta_eff se_meta_eff meta_pval Q  Q_pval\n",
       "1 ENSG00000055950  1     27     0.953 0.002    0.001       0.107      0  1    \n",
       "2 ENSG00000055950 NA     NA        NA    NA       NA          NA     NA NA    \n",
       "3 ENSG00000055950 NA     NA        NA    NA       NA          NA     NA NA    \n",
       "4 ENSG00000055950 NA     NA        NA    NA       NA          NA     NA NA    \n",
       "5 ENSG00000055950  1     27     0.953 0.001    0.000       0.001      0  0    \n",
       "6 ENSG00000055950  1     27     0.953 0.005    0.001       0.001      0  1    \n",
       "  I2 context           gwas_study                          \n",
       "1  0 Knight_eQTL_brain Wightman_ExcludingUKBand23andME_2021\n",
       "2 NA Knight_eQTL_brain Wightman_Excluding23andMe_2021      \n",
       "3 NA Knight_eQTL_brain Wightman_Full_2021                  \n",
       "4 NA Knight_eQTL_brain Jansen_2021                         \n",
       "5  0 Knight_eQTL_brain Bellenguez_2022                     \n",
       "6  0 Knight_eQTL_brain Bellenguez_EADB_2022                "
      ]
     },
     "metadata": {},
     "output_type": "display_data"
    },
    {
     "data": {
      "text/html": [
       "<style>\n",
       ".list-inline {list-style: none; margin:0; padding: 0}\n",
       ".list-inline>li {display: inline-block}\n",
       ".list-inline>li:not(:last-child)::after {content: \"\\00b7\"; padding: 0 .5ex}\n",
       "</style>\n",
       "<ol class=list-inline><li>4455087</li><li>12</li></ol>\n"
      ],
      "text/latex": [
       "\\begin{enumerate*}\n",
       "\\item 4455087\n",
       "\\item 12\n",
       "\\end{enumerate*}\n"
      ],
      "text/markdown": [
       "1. 4455087\n",
       "2. 12\n",
       "\n",
       "\n"
      ],
      "text/plain": [
       "[1] 4455087      12"
      ]
     },
     "metadata": {},
     "output_type": "display_data"
    }
   ],
   "source": [
    "head(AD_mr)\n",
    "dim(AD_mr)\n"
   ]
  },
  {
   "cell_type": "code",
   "execution_count": 85,
   "id": "82886ab8-34ce-450c-a699-d762d6c680e4",
   "metadata": {},
   "outputs": [
    {
     "data": {
      "text/html": [
       "<style>\n",
       ".list-inline {list-style: none; margin:0; padding: 0}\n",
       ".list-inline>li {display: inline-block}\n",
       ".list-inline>li:not(:last-child)::after {content: \"\\00b7\"; padding: 0 .5ex}\n",
       "</style>\n",
       "<ol class=list-inline><li>4445751</li><li>12</li></ol>\n"
      ],
      "text/latex": [
       "\\begin{enumerate*}\n",
       "\\item 4445751\n",
       "\\item 12\n",
       "\\end{enumerate*}\n"
      ],
      "text/markdown": [
       "1. 4445751\n",
       "2. 12\n",
       "\n",
       "\n"
      ],
      "text/plain": [
       "[1] 4445751      12"
      ]
     },
     "metadata": {},
     "output_type": "display_data"
    }
   ],
   "source": [
    "dim(unique(AD_mr))"
   ]
  },
  {
   "cell_type": "code",
   "execution_count": 86,
   "id": "b12c1a22-dcd6-4647-b042-2fdee45856dc",
   "metadata": {},
   "outputs": [
    {
     "data": {
      "text/html": [
       "<style>\n",
       ".list-inline {list-style: none; margin:0; padding: 0}\n",
       ".list-inline>li {display: inline-block}\n",
       ".list-inline>li:not(:last-child)::after {content: \"\\00b7\"; padding: 0 .5ex}\n",
       "</style>\n",
       "<ol class=list-inline><li>19612</li><li>12</li></ol>\n"
      ],
      "text/latex": [
       "\\begin{enumerate*}\n",
       "\\item 19612\n",
       "\\item 12\n",
       "\\end{enumerate*}\n"
      ],
      "text/markdown": [
       "1. 19612\n",
       "2. 12\n",
       "\n",
       "\n"
      ],
      "text/plain": [
       "[1] 19612    12"
      ]
     },
     "metadata": {},
     "output_type": "display_data"
    }
   ],
   "source": [
    "AD_sig_mr = AD_mr |> filter(!is.na(num_CS), cpip> 0.9, meta_pval< 0.05, I2<0.5) |> arrange(desc(num_IV))\n",
    "dim(AD_sig_mr)"
   ]
  },
  {
   "cell_type": "code",
   "execution_count": 87,
   "id": "b4bdf718-747a-43f3-89b0-3bd985060ebf",
   "metadata": {},
   "outputs": [],
   "source": [
    "fwrite(AD_sig_mr, \"AD_mr.sig_gene.tsv.gz\", sep = \"\\t\")"
   ]
  },
  {
   "cell_type": "markdown",
   "id": "6a3fc247-e2e6-497b-83a5-c61c458abc0a",
   "metadata": {},
   "source": [
    "## TL1"
   ]
  },
  {
   "cell_type": "code",
   "execution_count": 89,
   "id": "b6dc3077-f90e-467c-a7d8-e99255a2f19e",
   "metadata": {},
   "outputs": [],
   "source": [
    "files <- list.files(\n",
    "  \"~/data/analysis_result/twas/TL1/twas\", \n",
    "  pattern = \"mr_result\\\\.tsv\\\\.gz$\", \n",
    "  full.names = TRUE, \n",
    "  recursive = TRUE\n",
    ")\n",
    "\n",
    "TL1_mr <- files %>%\n",
    "  # skip 0-byte files\n",
    "  keep(~ file.info(.x)$size > 0) %>%\n",
    "  map_dfr(~ read_tsv(.x, \n",
    "                     col_types = cols(\n",
    "                       # Force all the mismatched columns to character\n",
    "                       I2 = col_character(),\n",
    "                       Q = col_character(),\n",
    "                       Q_pval = col_character(),\n",
    "                       cpip = col_character(),\n",
    "                       meta_eff = col_character(),\n",
    "                       meta_pval = col_character(),\n",
    "                       num_CS = col_character(),\n",
    "                       num_IV = col_character(),\n",
    "                       se_meta_eff = col_character(),\n",
    "                       .default = col_guess()\n",
    "                     ),\n",
    "                     show_col_types = FALSE)) %>%\n",
    "  mutate(\n",
    "    I2 = as.numeric(I2),\n",
    "    Q = as.numeric(Q),\n",
    "    Q_pval = as.numeric(Q_pval),\n",
    "    cpip = as.numeric(cpip),\n",
    "    meta_eff = as.numeric(meta_eff),\n",
    "    meta_pval = as.numeric(meta_pval),\n",
    "    num_CS = as.numeric(num_CS),\n",
    "    num_IV = as.numeric(num_IV),\n",
    "    se_meta_eff = as.numeric(se_meta_eff)\n",
    "  )\n"
   ]
  },
  {
   "cell_type": "code",
   "execution_count": 91,
   "id": "61be9e35-61fe-444a-844a-a90dd607cdb8",
   "metadata": {},
   "outputs": [
    {
     "data": {
      "text/html": [
       "<table class=\"dataframe\">\n",
       "<caption>A tibble: 6 x 12</caption>\n",
       "<thead>\n",
       "\t<tr><th scope=col>gene_name</th><th scope=col>num_CS</th><th scope=col>num_IV</th><th scope=col>cpip</th><th scope=col>meta_eff</th><th scope=col>se_meta_eff</th><th scope=col>meta_pval</th><th scope=col>Q</th><th scope=col>Q_pval</th><th scope=col>I2</th><th scope=col>context</th><th scope=col>gwas_study</th></tr>\n",
       "\t<tr><th scope=col>&lt;chr&gt;</th><th scope=col>&lt;dbl&gt;</th><th scope=col>&lt;dbl&gt;</th><th scope=col>&lt;dbl&gt;</th><th scope=col>&lt;dbl&gt;</th><th scope=col>&lt;dbl&gt;</th><th scope=col>&lt;dbl&gt;</th><th scope=col>&lt;dbl&gt;</th><th scope=col>&lt;dbl&gt;</th><th scope=col>&lt;dbl&gt;</th><th scope=col>&lt;chr&gt;</th><th scope=col>&lt;chr&gt;</th></tr>\n",
       "</thead>\n",
       "<tbody>\n",
       "\t<tr><td>ENSG00000055950</td><td> 1</td><td> 27</td><td>0.953</td><td>-0.001</td><td>0.001</td><td>0.107</td><td> 0</td><td> 1</td><td> 0</td><td>Knight_eQTL_brain</td><td>Telomere_pc1</td></tr>\n",
       "\t<tr><td>ENSG00000059915</td><td>NA</td><td> NA</td><td>   NA</td><td>    NA</td><td>   NA</td><td>   NA</td><td>NA</td><td>NA</td><td>NA</td><td>Knight_eQTL_brain</td><td>Telomere_pc1</td></tr>\n",
       "\t<tr><td>ENSG00000065613</td><td>NA</td><td> NA</td><td>   NA</td><td>    NA</td><td>   NA</td><td>   NA</td><td>NA</td><td>NA</td><td>NA</td><td>Knight_eQTL_brain</td><td>Telomere_pc1</td></tr>\n",
       "\t<tr><td>ENSG00000065618</td><td>NA</td><td> NA</td><td>   NA</td><td>    NA</td><td>   NA</td><td>   NA</td><td>NA</td><td>NA</td><td>NA</td><td>Knight_eQTL_brain</td><td>Telomere_pc1</td></tr>\n",
       "\t<tr><td>ENSG00000065621</td><td> 1</td><td>  2</td><td>1.000</td><td>-0.001</td><td>0.000</td><td>0.000</td><td> 0</td><td> 1</td><td> 0</td><td>Knight_eQTL_brain</td><td>Telomere_pc1</td></tr>\n",
       "\t<tr><td>ENSG00000075290</td><td> 1</td><td>123</td><td>0.958</td><td> 0.001</td><td>0.001</td><td>0.688</td><td> 0</td><td> 1</td><td> 0</td><td>Knight_eQTL_brain</td><td>Telomere_pc1</td></tr>\n",
       "</tbody>\n",
       "</table>\n"
      ],
      "text/latex": [
       "A tibble: 6 x 12\n",
       "\\begin{tabular}{llllllllllll}\n",
       " gene\\_name & num\\_CS & num\\_IV & cpip & meta\\_eff & se\\_meta\\_eff & meta\\_pval & Q & Q\\_pval & I2 & context & gwas\\_study\\\\\n",
       " <chr> & <dbl> & <dbl> & <dbl> & <dbl> & <dbl> & <dbl> & <dbl> & <dbl> & <dbl> & <chr> & <chr>\\\\\n",
       "\\hline\n",
       "\t ENSG00000055950 &  1 &  27 & 0.953 & -0.001 & 0.001 & 0.107 &  0 &  1 &  0 & Knight\\_eQTL\\_brain & Telomere\\_pc1\\\\\n",
       "\t ENSG00000059915 & NA &  NA &    NA &     NA &    NA &    NA & NA & NA & NA & Knight\\_eQTL\\_brain & Telomere\\_pc1\\\\\n",
       "\t ENSG00000065613 & NA &  NA &    NA &     NA &    NA &    NA & NA & NA & NA & Knight\\_eQTL\\_brain & Telomere\\_pc1\\\\\n",
       "\t ENSG00000065618 & NA &  NA &    NA &     NA &    NA &    NA & NA & NA & NA & Knight\\_eQTL\\_brain & Telomere\\_pc1\\\\\n",
       "\t ENSG00000065621 &  1 &   2 & 1.000 & -0.001 & 0.000 & 0.000 &  0 &  1 &  0 & Knight\\_eQTL\\_brain & Telomere\\_pc1\\\\\n",
       "\t ENSG00000075290 &  1 & 123 & 0.958 &  0.001 & 0.001 & 0.688 &  0 &  1 &  0 & Knight\\_eQTL\\_brain & Telomere\\_pc1\\\\\n",
       "\\end{tabular}\n"
      ],
      "text/markdown": [
       "\n",
       "A tibble: 6 x 12\n",
       "\n",
       "| gene_name &lt;chr&gt; | num_CS &lt;dbl&gt; | num_IV &lt;dbl&gt; | cpip &lt;dbl&gt; | meta_eff &lt;dbl&gt; | se_meta_eff &lt;dbl&gt; | meta_pval &lt;dbl&gt; | Q &lt;dbl&gt; | Q_pval &lt;dbl&gt; | I2 &lt;dbl&gt; | context &lt;chr&gt; | gwas_study &lt;chr&gt; |\n",
       "|---|---|---|---|---|---|---|---|---|---|---|---|\n",
       "| ENSG00000055950 |  1 |  27 | 0.953 | -0.001 | 0.001 | 0.107 |  0 |  1 |  0 | Knight_eQTL_brain | Telomere_pc1 |\n",
       "| ENSG00000059915 | NA |  NA |    NA |     NA |    NA |    NA | NA | NA | NA | Knight_eQTL_brain | Telomere_pc1 |\n",
       "| ENSG00000065613 | NA |  NA |    NA |     NA |    NA |    NA | NA | NA | NA | Knight_eQTL_brain | Telomere_pc1 |\n",
       "| ENSG00000065618 | NA |  NA |    NA |     NA |    NA |    NA | NA | NA | NA | Knight_eQTL_brain | Telomere_pc1 |\n",
       "| ENSG00000065621 |  1 |   2 | 1.000 | -0.001 | 0.000 | 0.000 |  0 |  1 |  0 | Knight_eQTL_brain | Telomere_pc1 |\n",
       "| ENSG00000075290 |  1 | 123 | 0.958 |  0.001 | 0.001 | 0.688 |  0 |  1 |  0 | Knight_eQTL_brain | Telomere_pc1 |\n",
       "\n"
      ],
      "text/plain": [
       "  gene_name       num_CS num_IV cpip  meta_eff se_meta_eff meta_pval Q  Q_pval\n",
       "1 ENSG00000055950  1      27    0.953 -0.001   0.001       0.107      0  1    \n",
       "2 ENSG00000059915 NA      NA       NA     NA      NA          NA     NA NA    \n",
       "3 ENSG00000065613 NA      NA       NA     NA      NA          NA     NA NA    \n",
       "4 ENSG00000065618 NA      NA       NA     NA      NA          NA     NA NA    \n",
       "5 ENSG00000065621  1       2    1.000 -0.001   0.000       0.000      0  1    \n",
       "6 ENSG00000075290  1     123    0.958  0.001   0.001       0.688      0  1    \n",
       "  I2 context           gwas_study  \n",
       "1  0 Knight_eQTL_brain Telomere_pc1\n",
       "2 NA Knight_eQTL_brain Telomere_pc1\n",
       "3 NA Knight_eQTL_brain Telomere_pc1\n",
       "4 NA Knight_eQTL_brain Telomere_pc1\n",
       "5  0 Knight_eQTL_brain Telomere_pc1\n",
       "6  0 Knight_eQTL_brain Telomere_pc1"
      ]
     },
     "metadata": {},
     "output_type": "display_data"
    },
    {
     "data": {
      "text/html": [
       "<style>\n",
       ".list-inline {list-style: none; margin:0; padding: 0}\n",
       ".list-inline>li {display: inline-block}\n",
       ".list-inline>li:not(:last-child)::after {content: \"\\00b7\"; padding: 0 .5ex}\n",
       "</style>\n",
       "<ol class=list-inline><li>267280</li><li>12</li></ol>\n"
      ],
      "text/latex": [
       "\\begin{enumerate*}\n",
       "\\item 267280\n",
       "\\item 12\n",
       "\\end{enumerate*}\n"
      ],
      "text/markdown": [
       "1. 267280\n",
       "2. 12\n",
       "\n",
       "\n"
      ],
      "text/plain": [
       "[1] 267280     12"
      ]
     },
     "metadata": {},
     "output_type": "display_data"
    }
   ],
   "source": [
    "head(TL1_mr)\n",
    "dim(TL1_mr)"
   ]
  },
  {
   "cell_type": "code",
   "execution_count": 92,
   "id": "57540b80-1177-4da7-9ee7-7c330595b0c7",
   "metadata": {},
   "outputs": [
    {
     "data": {
      "text/html": [
       "<style>\n",
       ".list-inline {list-style: none; margin:0; padding: 0}\n",
       ".list-inline>li {display: inline-block}\n",
       ".list-inline>li:not(:last-child)::after {content: \"\\00b7\"; padding: 0 .5ex}\n",
       "</style>\n",
       "<ol class=list-inline><li>6857</li><li>12</li></ol>\n"
      ],
      "text/latex": [
       "\\begin{enumerate*}\n",
       "\\item 6857\n",
       "\\item 12\n",
       "\\end{enumerate*}\n"
      ],
      "text/markdown": [
       "1. 6857\n",
       "2. 12\n",
       "\n",
       "\n"
      ],
      "text/plain": [
       "[1] 6857   12"
      ]
     },
     "metadata": {},
     "output_type": "display_data"
    }
   ],
   "source": [
    "TL1_sig_mr = TL1_mr |> filter(!is.na(num_CS), cpip> 0.9, meta_pval< 0.05, I2<0.5) |> arrange(desc(num_IV))\n",
    "dim(TL1_sig_mr)"
   ]
  },
  {
   "cell_type": "code",
   "execution_count": 93,
   "id": "1078bb4f-7cce-40b8-afeb-7bf4deec2c3b",
   "metadata": {},
   "outputs": [
    {
     "data": {
      "text/html": [
       "<style>\n",
       ".list-inline {list-style: none; margin:0; padding: 0}\n",
       ".list-inline>li {display: inline-block}\n",
       ".list-inline>li:not(:last-child)::after {content: \"\\00b7\"; padding: 0 .5ex}\n",
       "</style>\n",
       "<ol class=list-inline><li>6857</li><li>12</li></ol>\n"
      ],
      "text/latex": [
       "\\begin{enumerate*}\n",
       "\\item 6857\n",
       "\\item 12\n",
       "\\end{enumerate*}\n"
      ],
      "text/markdown": [
       "1. 6857\n",
       "2. 12\n",
       "\n",
       "\n"
      ],
      "text/plain": [
       "[1] 6857   12"
      ]
     },
     "metadata": {},
     "output_type": "display_data"
    }
   ],
   "source": [
    "dim(unique(TL1_sig_mr))"
   ]
  },
  {
   "cell_type": "code",
   "execution_count": 94,
   "id": "f1adb55b-0f02-4bb0-bc6b-04c5c49822da",
   "metadata": {},
   "outputs": [],
   "source": [
    "fwrite(TL1_sig_mr, \"TL1_mr.sig_gene.tsv.gz\", sep = '\\t')"
   ]
  },
  {
   "cell_type": "markdown",
   "id": "a761e74b-1dca-4a4a-8f27-f26c9bdbfe1d",
   "metadata": {},
   "source": [
    "## image_AD1"
   ]
  },
  {
   "cell_type": "code",
   "execution_count": null,
   "id": "80a40f68-3284-47a3-80e5-cae388428ea2",
   "metadata": {},
   "outputs": [],
   "source": [
    "files <- list.files(\"~/data/analysis_result/twas/image_AD1/twas\",\n",
    "                  pattern = \"mr_result\\\\.tsv\\\\.gz$\", \n",
    "                   full.names = TRUE, recursive = TRUE)"
   ]
  },
  {
   "cell_type": "code",
   "execution_count": null,
   "id": "cb9a1b6d-54c1-4aab-81cb-9f7a85dc8afb",
   "metadata": {},
   "outputs": [],
   "source": [
    "AD1_mr <- files %>%\n",
    "  # keep only non-empty files\n",
    "  keep(~ file.info(.x)$size > 0) %>%\n",
    "  map_dfr(~ read_tsv(.x, \n",
    "                     col_types = cols(\n",
    "                       I2 = col_character(),\n",
    "                       Q = col_character(),\n",
    "                       Q_pval = col_character(),\n",
    "                       cpip = col_character(),\n",
    "                       meta_eff = col_character(),\n",
    "                       meta_pval = col_character(),\n",
    "                       num_CS = col_character(),\n",
    "                       num_IV = col_character(),\n",
    "                       se_meta_eff = col_character(),\n",
    "                       .default = col_guess()\n",
    "                     ),\n",
    "                     show_col_types = FALSE)) %>%\n",
    "  mutate(\n",
    "    I2 = as.numeric(I2),\n",
    "    Q = as.numeric(Q),\n",
    "    Q_pval = as.numeric(Q_pval),\n",
    "    cpip = as.numeric(cpip),\n",
    "    meta_eff = as.numeric(meta_eff),\n",
    "    meta_pval = as.numeric(meta_pval),\n",
    "    num_CS = as.numeric(num_CS),\n",
    "    num_IV = as.numeric(num_IV),\n",
    "    se_meta_eff = as.numeric(se_meta_eff)\n",
    "  )\n"
   ]
  },
  {
   "cell_type": "code",
   "execution_count": null,
   "id": "0b01baa7-ad84-45e7-a2db-77980d0296a8",
   "metadata": {},
   "outputs": [],
   "source": [
    "head(AD1_mr)\n",
    "dim(AD1_mr)\n"
   ]
  },
  {
   "cell_type": "code",
   "execution_count": null,
   "id": "b2495d12-cfd7-41c4-9829-4b936e630c8c",
   "metadata": {},
   "outputs": [],
   "source": [
    "dim(unique(AD1_mr))"
   ]
  },
  {
   "cell_type": "code",
   "execution_count": 5,
   "id": "bd701ee3-bc9b-4f21-9e70-284023d95675",
   "metadata": {},
   "outputs": [
    {
     "ename": "ERROR",
     "evalue": "Error: object 'AD1_mr' not found\n",
     "output_type": "error",
     "traceback": [
      "Error: object 'AD1_mr' not found\nTraceback:\n",
      "1. as.ts(x)",
      "2. .handleSimpleError(function (cnd) \n . {\n .     watcher$capture_plot_and_output()\n .     cnd <- sanitize_call(cnd)\n .     watcher$push(cnd)\n .     switch(on_error, continue = invokeRestart(\"eval_continue\"), \n .         stop = invokeRestart(\"eval_stop\"), error = NULL)\n . }, \"object 'AD1_mr' not found\", base::quote(eval(expr, envir)))"
     ]
    }
   ],
   "source": [
    "AD1_sig_mr = AD1_mr |> filter(!is.na(num_CS))"
   ]
  },
  {
   "cell_type": "code",
   "execution_count": 8,
   "id": "5fad51ee-5fe9-46ca-bd45-64901de3c587",
   "metadata": {},
   "outputs": [
    {
     "data": {
      "text/html": [
       "<style>\n",
       ".list-inline {list-style: none; margin:0; padding: 0}\n",
       ".list-inline>li {display: inline-block}\n",
       ".list-inline>li:not(:last-child)::after {content: \"\\00b7\"; padding: 0 .5ex}\n",
       "</style>\n",
       "<ol class=list-inline><li>0</li><li>12</li></ol>\n"
      ],
      "text/latex": [
       "\\begin{enumerate*}\n",
       "\\item 0\n",
       "\\item 12\n",
       "\\end{enumerate*}\n"
      ],
      "text/markdown": [
       "1. 0\n",
       "2. 12\n",
       "\n",
       "\n"
      ],
      "text/plain": [
       "[1]  0 12"
      ]
     },
     "metadata": {},
     "output_type": "display_data"
    }
   ],
   "source": [
    "AD1_sig_mr = AD1_mr |> filter(!is.na(num_CS), cpip> 0.9, meta_pval< 0.05, I2<0.5) |> arrange(desc(num_IV))\n",
    "dim(AD1_sig_mr)"
   ]
  },
  {
   "cell_type": "code",
   "execution_count": 87,
   "id": "69b5fb3c-3677-4ed8-8660-03ddde1c84b5",
   "metadata": {},
   "outputs": [],
   "source": [
    "fwrite(AD1_sig_mr, \"AD1_mr.sig_gene.tsv.gz\", sep = \"\\t\")"
   ]
  },
  {
   "cell_type": "markdown",
   "id": "35eea6aa-a5ba-4bdb-84d5-063a8dcefead",
   "metadata": {},
   "source": [
    "## image_AD2"
   ]
  },
  {
   "cell_type": "code",
   "execution_count": 9,
   "id": "0649d93e-67a2-43a6-b1d8-af047f63a8f4",
   "metadata": {},
   "outputs": [],
   "source": [
    "files <- list.files(\"~/data/analysis_result/twas/image_AD2/twas\",\n",
    "                  pattern = \"mr_result\\\\.tsv\\\\.gz$\", \n",
    "                   full.names = TRUE, recursive = TRUE)"
   ]
  },
  {
   "cell_type": "code",
   "execution_count": 10,
   "id": "9685a58a-2a98-4fd5-a8b6-6e5be4c5267a",
   "metadata": {},
   "outputs": [],
   "source": [
    "AD2_mr <- files %>%\n",
    "  # keep only non-empty files\n",
    "  keep(~ file.info(.x)$size > 0) %>%\n",
    "  map_dfr(~ read_tsv(.x, \n",
    "                     col_types = cols(\n",
    "                       I2 = col_character(),\n",
    "                       Q = col_character(),\n",
    "                       Q_pval = col_character(),\n",
    "                       cpip = col_character(),\n",
    "                       meta_eff = col_character(),\n",
    "                       meta_pval = col_character(),\n",
    "                       num_CS = col_character(),\n",
    "                       num_IV = col_character(),\n",
    "                       se_meta_eff = col_character(),\n",
    "                       .default = col_guess()\n",
    "                     ),\n",
    "                     show_col_types = FALSE)) %>%\n",
    "  mutate(\n",
    "    I2 = as.numeric(I2),\n",
    "    Q = as.numeric(Q),\n",
    "    Q_pval = as.numeric(Q_pval),\n",
    "    cpip = as.numeric(cpip),\n",
    "    meta_eff = as.numeric(meta_eff),\n",
    "    meta_pval = as.numeric(meta_pval),\n",
    "    num_CS = as.numeric(num_CS),\n",
    "    num_IV = as.numeric(num_IV),\n",
    "    se_meta_eff = as.numeric(se_meta_eff)\n",
    "  )\n"
   ]
  },
  {
   "cell_type": "code",
   "execution_count": 11,
   "id": "5f816349-a449-4dbe-81a0-a3c6c44ce9f0",
   "metadata": {},
   "outputs": [
    {
     "data": {
      "text/html": [
       "<table class=\"dataframe\">\n",
       "<caption>A tibble: 6 x 12</caption>\n",
       "<thead>\n",
       "\t<tr><th scope=col>gene_name</th><th scope=col>num_CS</th><th scope=col>num_IV</th><th scope=col>cpip</th><th scope=col>meta_eff</th><th scope=col>se_meta_eff</th><th scope=col>meta_pval</th><th scope=col>Q</th><th scope=col>Q_pval</th><th scope=col>I2</th><th scope=col>context</th><th scope=col>gwas_study</th></tr>\n",
       "\t<tr><th scope=col>&lt;chr&gt;</th><th scope=col>&lt;dbl&gt;</th><th scope=col>&lt;dbl&gt;</th><th scope=col>&lt;dbl&gt;</th><th scope=col>&lt;dbl&gt;</th><th scope=col>&lt;dbl&gt;</th><th scope=col>&lt;dbl&gt;</th><th scope=col>&lt;dbl&gt;</th><th scope=col>&lt;dbl&gt;</th><th scope=col>&lt;dbl&gt;</th><th scope=col>&lt;chr&gt;</th><th scope=col>&lt;chr&gt;</th></tr>\n",
       "</thead>\n",
       "<tbody>\n",
       "\t<tr><td>ENSG00000065613</td><td>NA</td><td>NA</td><td>NA</td><td>NA</td><td>NA</td><td>NA</td><td>NA</td><td>NA</td><td>NA</td><td>Knight_eQTL_brain</td><td>image_AD2</td></tr>\n",
       "\t<tr><td>ENSG00000065618</td><td>NA</td><td>NA</td><td>NA</td><td>NA</td><td>NA</td><td>NA</td><td>NA</td><td>NA</td><td>NA</td><td>Knight_eQTL_brain</td><td>image_AD2</td></tr>\n",
       "\t<tr><td>ENSG00000065621</td><td>NA</td><td>NA</td><td>NA</td><td>NA</td><td>NA</td><td>NA</td><td>NA</td><td>NA</td><td>NA</td><td>Knight_eQTL_brain</td><td>image_AD2</td></tr>\n",
       "\t<tr><td>ENSG00000075290</td><td>NA</td><td>NA</td><td>NA</td><td>NA</td><td>NA</td><td>NA</td><td>NA</td><td>NA</td><td>NA</td><td>Knight_eQTL_brain</td><td>image_AD2</td></tr>\n",
       "\t<tr><td>ENSG00000075826</td><td>NA</td><td>NA</td><td>NA</td><td>NA</td><td>NA</td><td>NA</td><td>NA</td><td>NA</td><td>NA</td><td>Knight_eQTL_brain</td><td>image_AD2</td></tr>\n",
       "\t<tr><td>ENSG00000075891</td><td>NA</td><td>NA</td><td>NA</td><td>NA</td><td>NA</td><td>NA</td><td>NA</td><td>NA</td><td>NA</td><td>Knight_eQTL_brain</td><td>image_AD2</td></tr>\n",
       "</tbody>\n",
       "</table>\n"
      ],
      "text/latex": [
       "A tibble: 6 x 12\n",
       "\\begin{tabular}{llllllllllll}\n",
       " gene\\_name & num\\_CS & num\\_IV & cpip & meta\\_eff & se\\_meta\\_eff & meta\\_pval & Q & Q\\_pval & I2 & context & gwas\\_study\\\\\n",
       " <chr> & <dbl> & <dbl> & <dbl> & <dbl> & <dbl> & <dbl> & <dbl> & <dbl> & <dbl> & <chr> & <chr>\\\\\n",
       "\\hline\n",
       "\t ENSG00000065613 & NA & NA & NA & NA & NA & NA & NA & NA & NA & Knight\\_eQTL\\_brain & image\\_AD2\\\\\n",
       "\t ENSG00000065618 & NA & NA & NA & NA & NA & NA & NA & NA & NA & Knight\\_eQTL\\_brain & image\\_AD2\\\\\n",
       "\t ENSG00000065621 & NA & NA & NA & NA & NA & NA & NA & NA & NA & Knight\\_eQTL\\_brain & image\\_AD2\\\\\n",
       "\t ENSG00000075290 & NA & NA & NA & NA & NA & NA & NA & NA & NA & Knight\\_eQTL\\_brain & image\\_AD2\\\\\n",
       "\t ENSG00000075826 & NA & NA & NA & NA & NA & NA & NA & NA & NA & Knight\\_eQTL\\_brain & image\\_AD2\\\\\n",
       "\t ENSG00000075891 & NA & NA & NA & NA & NA & NA & NA & NA & NA & Knight\\_eQTL\\_brain & image\\_AD2\\\\\n",
       "\\end{tabular}\n"
      ],
      "text/markdown": [
       "\n",
       "A tibble: 6 x 12\n",
       "\n",
       "| gene_name &lt;chr&gt; | num_CS &lt;dbl&gt; | num_IV &lt;dbl&gt; | cpip &lt;dbl&gt; | meta_eff &lt;dbl&gt; | se_meta_eff &lt;dbl&gt; | meta_pval &lt;dbl&gt; | Q &lt;dbl&gt; | Q_pval &lt;dbl&gt; | I2 &lt;dbl&gt; | context &lt;chr&gt; | gwas_study &lt;chr&gt; |\n",
       "|---|---|---|---|---|---|---|---|---|---|---|---|\n",
       "| ENSG00000065613 | NA | NA | NA | NA | NA | NA | NA | NA | NA | Knight_eQTL_brain | image_AD2 |\n",
       "| ENSG00000065618 | NA | NA | NA | NA | NA | NA | NA | NA | NA | Knight_eQTL_brain | image_AD2 |\n",
       "| ENSG00000065621 | NA | NA | NA | NA | NA | NA | NA | NA | NA | Knight_eQTL_brain | image_AD2 |\n",
       "| ENSG00000075290 | NA | NA | NA | NA | NA | NA | NA | NA | NA | Knight_eQTL_brain | image_AD2 |\n",
       "| ENSG00000075826 | NA | NA | NA | NA | NA | NA | NA | NA | NA | Knight_eQTL_brain | image_AD2 |\n",
       "| ENSG00000075891 | NA | NA | NA | NA | NA | NA | NA | NA | NA | Knight_eQTL_brain | image_AD2 |\n",
       "\n"
      ],
      "text/plain": [
       "  gene_name       num_CS num_IV cpip meta_eff se_meta_eff meta_pval Q  Q_pval\n",
       "1 ENSG00000065613 NA     NA     NA   NA       NA          NA        NA NA    \n",
       "2 ENSG00000065618 NA     NA     NA   NA       NA          NA        NA NA    \n",
       "3 ENSG00000065621 NA     NA     NA   NA       NA          NA        NA NA    \n",
       "4 ENSG00000075290 NA     NA     NA   NA       NA          NA        NA NA    \n",
       "5 ENSG00000075826 NA     NA     NA   NA       NA          NA        NA NA    \n",
       "6 ENSG00000075891 NA     NA     NA   NA       NA          NA        NA NA    \n",
       "  I2 context           gwas_study\n",
       "1 NA Knight_eQTL_brain image_AD2 \n",
       "2 NA Knight_eQTL_brain image_AD2 \n",
       "3 NA Knight_eQTL_brain image_AD2 \n",
       "4 NA Knight_eQTL_brain image_AD2 \n",
       "5 NA Knight_eQTL_brain image_AD2 \n",
       "6 NA Knight_eQTL_brain image_AD2 "
      ]
     },
     "metadata": {},
     "output_type": "display_data"
    },
    {
     "data": {
      "text/html": [
       "<style>\n",
       ".list-inline {list-style: none; margin:0; padding: 0}\n",
       ".list-inline>li {display: inline-block}\n",
       ".list-inline>li:not(:last-child)::after {content: \"\\00b7\"; padding: 0 .5ex}\n",
       "</style>\n",
       "<ol class=list-inline><li>230016</li><li>12</li></ol>\n"
      ],
      "text/latex": [
       "\\begin{enumerate*}\n",
       "\\item 230016\n",
       "\\item 12\n",
       "\\end{enumerate*}\n"
      ],
      "text/markdown": [
       "1. 230016\n",
       "2. 12\n",
       "\n",
       "\n"
      ],
      "text/plain": [
       "[1] 230016     12"
      ]
     },
     "metadata": {},
     "output_type": "display_data"
    }
   ],
   "source": [
    "head(AD2_mr)\n",
    "dim(AD2_mr)\n"
   ]
  },
  {
   "cell_type": "code",
   "execution_count": 12,
   "id": "c518112d-3530-4a74-8eca-d5993de95c36",
   "metadata": {},
   "outputs": [
    {
     "data": {
      "text/html": [
       "<style>\n",
       ".list-inline {list-style: none; margin:0; padding: 0}\n",
       ".list-inline>li {display: inline-block}\n",
       ".list-inline>li:not(:last-child)::after {content: \"\\00b7\"; padding: 0 .5ex}\n",
       "</style>\n",
       "<ol class=list-inline><li>230016</li><li>12</li></ol>\n"
      ],
      "text/latex": [
       "\\begin{enumerate*}\n",
       "\\item 230016\n",
       "\\item 12\n",
       "\\end{enumerate*}\n"
      ],
      "text/markdown": [
       "1. 230016\n",
       "2. 12\n",
       "\n",
       "\n"
      ],
      "text/plain": [
       "[1] 230016     12"
      ]
     },
     "metadata": {},
     "output_type": "display_data"
    }
   ],
   "source": [
    "dim(unique(AD2_mr))"
   ]
  },
  {
   "cell_type": "code",
   "execution_count": 13,
   "id": "0a68e36b-7a6a-47dc-8bd9-600dc9aaf6b1",
   "metadata": {},
   "outputs": [
    {
     "data": {
      "text/html": [
       "<style>\n",
       ".list-inline {list-style: none; margin:0; padding: 0}\n",
       ".list-inline>li {display: inline-block}\n",
       ".list-inline>li:not(:last-child)::after {content: \"\\00b7\"; padding: 0 .5ex}\n",
       "</style>\n",
       "<ol class=list-inline><li>0</li><li>12</li></ol>\n"
      ],
      "text/latex": [
       "\\begin{enumerate*}\n",
       "\\item 0\n",
       "\\item 12\n",
       "\\end{enumerate*}\n"
      ],
      "text/markdown": [
       "1. 0\n",
       "2. 12\n",
       "\n",
       "\n"
      ],
      "text/plain": [
       "[1]  0 12"
      ]
     },
     "metadata": {},
     "output_type": "display_data"
    }
   ],
   "source": [
    "AD2_sig_mr = AD2_mr |> filter(!is.na(num_CS), cpip> 0.9, meta_pval< 0.05, I2<0.5) |> arrange(desc(num_IV))\n",
    "dim(AD2_sig_mr)"
   ]
  },
  {
   "cell_type": "code",
   "execution_count": 87,
   "id": "1b26efd1-3ece-481d-8ecd-7b55f1329ee4",
   "metadata": {},
   "outputs": [],
   "source": [
    "fwrite(AD2_sig_mr, \"AD2_mr.sig_gene.tsv.gz\", sep = \"\\t\")"
   ]
  },
  {
   "cell_type": "markdown",
   "id": "8b4d97b2-0d2d-4f45-8658-572eab3e522e",
   "metadata": {},
   "source": [
    "## image_Aging1"
   ]
  },
  {
   "cell_type": "code",
   "execution_count": 14,
   "id": "006ee512-b45e-4a90-b340-93b1d30ee6ac",
   "metadata": {},
   "outputs": [],
   "source": [
    "files <- list.files(\"~/data/analysis_result/twas/image_Aging1/twas\",\n",
    "                  pattern = \"mr_result\\\\.tsv\\\\.gz$\", \n",
    "                   full.names = TRUE, recursive = TRUE)"
   ]
  },
  {
   "cell_type": "code",
   "execution_count": 15,
   "id": "2789d7b6-5e6c-4eda-a03e-9807e24c3d32",
   "metadata": {},
   "outputs": [],
   "source": [
    "Aging1_mr <- files %>%\n",
    "  # keep only non-empty files\n",
    "  keep(~ file.info(.x)$size > 0) %>%\n",
    "  map_dfr(~ read_tsv(.x, \n",
    "                     col_types = cols(\n",
    "                       I2 = col_character(),\n",
    "                       Q = col_character(),\n",
    "                       Q_pval = col_character(),\n",
    "                       cpip = col_character(),\n",
    "                       meta_eff = col_character(),\n",
    "                       meta_pval = col_character(),\n",
    "                       num_CS = col_character(),\n",
    "                       num_IV = col_character(),\n",
    "                       se_meta_eff = col_character(),\n",
    "                       .default = col_guess()\n",
    "                     ),\n",
    "                     show_col_types = FALSE)) %>%\n",
    "  mutate(\n",
    "    I2 = as.numeric(I2),\n",
    "    Q = as.numeric(Q),\n",
    "    Q_pval = as.numeric(Q_pval),\n",
    "    cpip = as.numeric(cpip),\n",
    "    meta_eff = as.numeric(meta_eff),\n",
    "    meta_pval = as.numeric(meta_pval),\n",
    "    num_CS = as.numeric(num_CS),\n",
    "    num_IV = as.numeric(num_IV),\n",
    "    se_meta_eff = as.numeric(se_meta_eff)\n",
    "  )\n"
   ]
  },
  {
   "cell_type": "code",
   "execution_count": 16,
   "id": "989c97a5-4efe-4cc3-bf48-bdff63dd6a7d",
   "metadata": {},
   "outputs": [
    {
     "data": {
      "text/html": [
       "<table class=\"dataframe\">\n",
       "<caption>A tibble: 6 x 12</caption>\n",
       "<thead>\n",
       "\t<tr><th scope=col>gene_name</th><th scope=col>num_CS</th><th scope=col>num_IV</th><th scope=col>cpip</th><th scope=col>meta_eff</th><th scope=col>se_meta_eff</th><th scope=col>meta_pval</th><th scope=col>Q</th><th scope=col>Q_pval</th><th scope=col>I2</th><th scope=col>context</th><th scope=col>gwas_study</th></tr>\n",
       "\t<tr><th scope=col>&lt;chr&gt;</th><th scope=col>&lt;dbl&gt;</th><th scope=col>&lt;dbl&gt;</th><th scope=col>&lt;dbl&gt;</th><th scope=col>&lt;dbl&gt;</th><th scope=col>&lt;dbl&gt;</th><th scope=col>&lt;dbl&gt;</th><th scope=col>&lt;dbl&gt;</th><th scope=col>&lt;dbl&gt;</th><th scope=col>&lt;dbl&gt;</th><th scope=col>&lt;chr&gt;</th><th scope=col>&lt;chr&gt;</th></tr>\n",
       "</thead>\n",
       "<tbody>\n",
       "\t<tr><td>ENSG00000059915</td><td>NA</td><td>NA</td><td>NA</td><td>NA</td><td>NA</td><td>NA</td><td>NA</td><td>NA</td><td>NA</td><td>Knight_eQTL_brain</td><td>image_Aging1</td></tr>\n",
       "\t<tr><td>ENSG00000065613</td><td>NA</td><td>NA</td><td>NA</td><td>NA</td><td>NA</td><td>NA</td><td>NA</td><td>NA</td><td>NA</td><td>Knight_eQTL_brain</td><td>image_Aging1</td></tr>\n",
       "\t<tr><td>ENSG00000065618</td><td>NA</td><td>NA</td><td>NA</td><td>NA</td><td>NA</td><td>NA</td><td>NA</td><td>NA</td><td>NA</td><td>Knight_eQTL_brain</td><td>image_Aging1</td></tr>\n",
       "\t<tr><td>ENSG00000065621</td><td>NA</td><td>NA</td><td>NA</td><td>NA</td><td>NA</td><td>NA</td><td>NA</td><td>NA</td><td>NA</td><td>Knight_eQTL_brain</td><td>image_Aging1</td></tr>\n",
       "\t<tr><td>ENSG00000075290</td><td>NA</td><td>NA</td><td>NA</td><td>NA</td><td>NA</td><td>NA</td><td>NA</td><td>NA</td><td>NA</td><td>Knight_eQTL_brain</td><td>image_Aging1</td></tr>\n",
       "\t<tr><td>ENSG00000075891</td><td>NA</td><td>NA</td><td>NA</td><td>NA</td><td>NA</td><td>NA</td><td>NA</td><td>NA</td><td>NA</td><td>Knight_eQTL_brain</td><td>image_Aging1</td></tr>\n",
       "</tbody>\n",
       "</table>\n"
      ],
      "text/latex": [
       "A tibble: 6 x 12\n",
       "\\begin{tabular}{llllllllllll}\n",
       " gene\\_name & num\\_CS & num\\_IV & cpip & meta\\_eff & se\\_meta\\_eff & meta\\_pval & Q & Q\\_pval & I2 & context & gwas\\_study\\\\\n",
       " <chr> & <dbl> & <dbl> & <dbl> & <dbl> & <dbl> & <dbl> & <dbl> & <dbl> & <dbl> & <chr> & <chr>\\\\\n",
       "\\hline\n",
       "\t ENSG00000059915 & NA & NA & NA & NA & NA & NA & NA & NA & NA & Knight\\_eQTL\\_brain & image\\_Aging1\\\\\n",
       "\t ENSG00000065613 & NA & NA & NA & NA & NA & NA & NA & NA & NA & Knight\\_eQTL\\_brain & image\\_Aging1\\\\\n",
       "\t ENSG00000065618 & NA & NA & NA & NA & NA & NA & NA & NA & NA & Knight\\_eQTL\\_brain & image\\_Aging1\\\\\n",
       "\t ENSG00000065621 & NA & NA & NA & NA & NA & NA & NA & NA & NA & Knight\\_eQTL\\_brain & image\\_Aging1\\\\\n",
       "\t ENSG00000075290 & NA & NA & NA & NA & NA & NA & NA & NA & NA & Knight\\_eQTL\\_brain & image\\_Aging1\\\\\n",
       "\t ENSG00000075891 & NA & NA & NA & NA & NA & NA & NA & NA & NA & Knight\\_eQTL\\_brain & image\\_Aging1\\\\\n",
       "\\end{tabular}\n"
      ],
      "text/markdown": [
       "\n",
       "A tibble: 6 x 12\n",
       "\n",
       "| gene_name &lt;chr&gt; | num_CS &lt;dbl&gt; | num_IV &lt;dbl&gt; | cpip &lt;dbl&gt; | meta_eff &lt;dbl&gt; | se_meta_eff &lt;dbl&gt; | meta_pval &lt;dbl&gt; | Q &lt;dbl&gt; | Q_pval &lt;dbl&gt; | I2 &lt;dbl&gt; | context &lt;chr&gt; | gwas_study &lt;chr&gt; |\n",
       "|---|---|---|---|---|---|---|---|---|---|---|---|\n",
       "| ENSG00000059915 | NA | NA | NA | NA | NA | NA | NA | NA | NA | Knight_eQTL_brain | image_Aging1 |\n",
       "| ENSG00000065613 | NA | NA | NA | NA | NA | NA | NA | NA | NA | Knight_eQTL_brain | image_Aging1 |\n",
       "| ENSG00000065618 | NA | NA | NA | NA | NA | NA | NA | NA | NA | Knight_eQTL_brain | image_Aging1 |\n",
       "| ENSG00000065621 | NA | NA | NA | NA | NA | NA | NA | NA | NA | Knight_eQTL_brain | image_Aging1 |\n",
       "| ENSG00000075290 | NA | NA | NA | NA | NA | NA | NA | NA | NA | Knight_eQTL_brain | image_Aging1 |\n",
       "| ENSG00000075891 | NA | NA | NA | NA | NA | NA | NA | NA | NA | Knight_eQTL_brain | image_Aging1 |\n",
       "\n"
      ],
      "text/plain": [
       "  gene_name       num_CS num_IV cpip meta_eff se_meta_eff meta_pval Q  Q_pval\n",
       "1 ENSG00000059915 NA     NA     NA   NA       NA          NA        NA NA    \n",
       "2 ENSG00000065613 NA     NA     NA   NA       NA          NA        NA NA    \n",
       "3 ENSG00000065618 NA     NA     NA   NA       NA          NA        NA NA    \n",
       "4 ENSG00000065621 NA     NA     NA   NA       NA          NA        NA NA    \n",
       "5 ENSG00000075290 NA     NA     NA   NA       NA          NA        NA NA    \n",
       "6 ENSG00000075891 NA     NA     NA   NA       NA          NA        NA NA    \n",
       "  I2 context           gwas_study  \n",
       "1 NA Knight_eQTL_brain image_Aging1\n",
       "2 NA Knight_eQTL_brain image_Aging1\n",
       "3 NA Knight_eQTL_brain image_Aging1\n",
       "4 NA Knight_eQTL_brain image_Aging1\n",
       "5 NA Knight_eQTL_brain image_Aging1\n",
       "6 NA Knight_eQTL_brain image_Aging1"
      ]
     },
     "metadata": {},
     "output_type": "display_data"
    },
    {
     "data": {
      "text/html": [
       "<style>\n",
       ".list-inline {list-style: none; margin:0; padding: 0}\n",
       ".list-inline>li {display: inline-block}\n",
       ".list-inline>li:not(:last-child)::after {content: \"\\00b7\"; padding: 0 .5ex}\n",
       "</style>\n",
       "<ol class=list-inline><li>231093</li><li>12</li></ol>\n"
      ],
      "text/latex": [
       "\\begin{enumerate*}\n",
       "\\item 231093\n",
       "\\item 12\n",
       "\\end{enumerate*}\n"
      ],
      "text/markdown": [
       "1. 231093\n",
       "2. 12\n",
       "\n",
       "\n"
      ],
      "text/plain": [
       "[1] 231093     12"
      ]
     },
     "metadata": {},
     "output_type": "display_data"
    }
   ],
   "source": [
    "head(Aging1_mr)\n",
    "dim(Aging1_mr)\n"
   ]
  },
  {
   "cell_type": "code",
   "execution_count": 17,
   "id": "ec96df91-79a3-48b8-84bb-35c388e2d755",
   "metadata": {},
   "outputs": [
    {
     "data": {
      "text/html": [
       "<style>\n",
       ".list-inline {list-style: none; margin:0; padding: 0}\n",
       ".list-inline>li {display: inline-block}\n",
       ".list-inline>li:not(:last-child)::after {content: \"\\00b7\"; padding: 0 .5ex}\n",
       "</style>\n",
       "<ol class=list-inline><li>231093</li><li>12</li></ol>\n"
      ],
      "text/latex": [
       "\\begin{enumerate*}\n",
       "\\item 231093\n",
       "\\item 12\n",
       "\\end{enumerate*}\n"
      ],
      "text/markdown": [
       "1. 231093\n",
       "2. 12\n",
       "\n",
       "\n"
      ],
      "text/plain": [
       "[1] 231093     12"
      ]
     },
     "metadata": {},
     "output_type": "display_data"
    }
   ],
   "source": [
    "dim(unique(Aging1_mr))"
   ]
  },
  {
   "cell_type": "code",
   "execution_count": 18,
   "id": "c9170736-8aba-4ca6-b30d-832768e3920f",
   "metadata": {},
   "outputs": [
    {
     "data": {
      "text/html": [
       "<style>\n",
       ".list-inline {list-style: none; margin:0; padding: 0}\n",
       ".list-inline>li {display: inline-block}\n",
       ".list-inline>li:not(:last-child)::after {content: \"\\00b7\"; padding: 0 .5ex}\n",
       "</style>\n",
       "<ol class=list-inline><li>0</li><li>12</li></ol>\n"
      ],
      "text/latex": [
       "\\begin{enumerate*}\n",
       "\\item 0\n",
       "\\item 12\n",
       "\\end{enumerate*}\n"
      ],
      "text/markdown": [
       "1. 0\n",
       "2. 12\n",
       "\n",
       "\n"
      ],
      "text/plain": [
       "[1]  0 12"
      ]
     },
     "metadata": {},
     "output_type": "display_data"
    }
   ],
   "source": [
    "Aging1_sig_mr = Aging1_mr |> filter(!is.na(num_CS), cpip> 0.9, meta_pval< 0.05, I2<0.5) |> arrange(desc(num_IV))\n",
    "dim(Aging1_sig_mr)"
   ]
  },
  {
   "cell_type": "code",
   "execution_count": 87,
   "id": "03b7e8db-3322-4877-b093-5b0afb5e679b",
   "metadata": {},
   "outputs": [],
   "source": [
    "fwrite(Aging1_sig_mr, \"Aging1_mr.sig_gene.tsv.gz\", sep = \"\\t\")"
   ]
  },
  {
   "cell_type": "markdown",
   "id": "c954dcdf-88b9-4424-8cd5-63e36b1cd0ee",
   "metadata": {},
   "source": [
    "## image_Aging2"
   ]
  },
  {
   "cell_type": "code",
   "execution_count": 19,
   "id": "7092c39d-4dd8-4820-abc5-b93802945213",
   "metadata": {},
   "outputs": [],
   "source": [
    "files <- list.files(\"~/data/analysis_result/twas/image_Aging2/twas\",\n",
    "                  pattern = \"mr_result\\\\.tsv\\\\.gz$\", \n",
    "                   full.names = TRUE, recursive = TRUE)"
   ]
  },
  {
   "cell_type": "code",
   "execution_count": 20,
   "id": "5e6b36c5-c278-4df2-adb8-f11337f61361",
   "metadata": {},
   "outputs": [],
   "source": [
    "Aging2_mr <- files %>%\n",
    "  # keep only non-empty files\n",
    "  keep(~ file.info(.x)$size > 0) %>%\n",
    "  map_dfr(~ read_tsv(.x, \n",
    "                     col_types = cols(\n",
    "                       I2 = col_character(),\n",
    "                       Q = col_character(),\n",
    "                       Q_pval = col_character(),\n",
    "                       cpip = col_character(),\n",
    "                       meta_eff = col_character(),\n",
    "                       meta_pval = col_character(),\n",
    "                       num_CS = col_character(),\n",
    "                       num_IV = col_character(),\n",
    "                       se_meta_eff = col_character(),\n",
    "                       .default = col_guess()\n",
    "                     ),\n",
    "                     show_col_types = FALSE)) %>%\n",
    "  mutate(\n",
    "    I2 = as.numeric(I2),\n",
    "    Q = as.numeric(Q),\n",
    "    Q_pval = as.numeric(Q_pval),\n",
    "    cpip = as.numeric(cpip),\n",
    "    meta_eff = as.numeric(meta_eff),\n",
    "    meta_pval = as.numeric(meta_pval),\n",
    "    num_CS = as.numeric(num_CS),\n",
    "    num_IV = as.numeric(num_IV),\n",
    "    se_meta_eff = as.numeric(se_meta_eff)\n",
    "  )\n"
   ]
  },
  {
   "cell_type": "code",
   "execution_count": 21,
   "id": "6c3d0cbc-8079-48f5-9d30-5ba7eb5cfaf7",
   "metadata": {},
   "outputs": [
    {
     "data": {
      "text/html": [
       "<table class=\"dataframe\">\n",
       "<caption>A tibble: 6 x 12</caption>\n",
       "<thead>\n",
       "\t<tr><th scope=col>gene_name</th><th scope=col>num_CS</th><th scope=col>num_IV</th><th scope=col>cpip</th><th scope=col>meta_eff</th><th scope=col>se_meta_eff</th><th scope=col>meta_pval</th><th scope=col>Q</th><th scope=col>Q_pval</th><th scope=col>I2</th><th scope=col>context</th><th scope=col>gwas_study</th></tr>\n",
       "\t<tr><th scope=col>&lt;chr&gt;</th><th scope=col>&lt;dbl&gt;</th><th scope=col>&lt;dbl&gt;</th><th scope=col>&lt;dbl&gt;</th><th scope=col>&lt;dbl&gt;</th><th scope=col>&lt;dbl&gt;</th><th scope=col>&lt;dbl&gt;</th><th scope=col>&lt;dbl&gt;</th><th scope=col>&lt;dbl&gt;</th><th scope=col>&lt;dbl&gt;</th><th scope=col>&lt;chr&gt;</th><th scope=col>&lt;chr&gt;</th></tr>\n",
       "</thead>\n",
       "<tbody>\n",
       "\t<tr><td>ENSG00000055950</td><td>NA</td><td>NA</td><td>NA</td><td>NA</td><td>NA</td><td>NA</td><td>NA</td><td>NA</td><td>NA</td><td>Knight_eQTL_brain</td><td>image_Aging2</td></tr>\n",
       "\t<tr><td>ENSG00000065613</td><td>NA</td><td>NA</td><td>NA</td><td>NA</td><td>NA</td><td>NA</td><td>NA</td><td>NA</td><td>NA</td><td>Knight_eQTL_brain</td><td>image_Aging2</td></tr>\n",
       "\t<tr><td>ENSG00000065621</td><td>NA</td><td>NA</td><td>NA</td><td>NA</td><td>NA</td><td>NA</td><td>NA</td><td>NA</td><td>NA</td><td>Knight_eQTL_brain</td><td>image_Aging2</td></tr>\n",
       "\t<tr><td>ENSG00000075290</td><td>NA</td><td>NA</td><td>NA</td><td>NA</td><td>NA</td><td>NA</td><td>NA</td><td>NA</td><td>NA</td><td>Knight_eQTL_brain</td><td>image_Aging2</td></tr>\n",
       "\t<tr><td>ENSG00000075826</td><td>NA</td><td>NA</td><td>NA</td><td>NA</td><td>NA</td><td>NA</td><td>NA</td><td>NA</td><td>NA</td><td>Knight_eQTL_brain</td><td>image_Aging2</td></tr>\n",
       "\t<tr><td>ENSG00000075891</td><td>NA</td><td>NA</td><td>NA</td><td>NA</td><td>NA</td><td>NA</td><td>NA</td><td>NA</td><td>NA</td><td>Knight_eQTL_brain</td><td>image_Aging2</td></tr>\n",
       "</tbody>\n",
       "</table>\n"
      ],
      "text/latex": [
       "A tibble: 6 x 12\n",
       "\\begin{tabular}{llllllllllll}\n",
       " gene\\_name & num\\_CS & num\\_IV & cpip & meta\\_eff & se\\_meta\\_eff & meta\\_pval & Q & Q\\_pval & I2 & context & gwas\\_study\\\\\n",
       " <chr> & <dbl> & <dbl> & <dbl> & <dbl> & <dbl> & <dbl> & <dbl> & <dbl> & <dbl> & <chr> & <chr>\\\\\n",
       "\\hline\n",
       "\t ENSG00000055950 & NA & NA & NA & NA & NA & NA & NA & NA & NA & Knight\\_eQTL\\_brain & image\\_Aging2\\\\\n",
       "\t ENSG00000065613 & NA & NA & NA & NA & NA & NA & NA & NA & NA & Knight\\_eQTL\\_brain & image\\_Aging2\\\\\n",
       "\t ENSG00000065621 & NA & NA & NA & NA & NA & NA & NA & NA & NA & Knight\\_eQTL\\_brain & image\\_Aging2\\\\\n",
       "\t ENSG00000075290 & NA & NA & NA & NA & NA & NA & NA & NA & NA & Knight\\_eQTL\\_brain & image\\_Aging2\\\\\n",
       "\t ENSG00000075826 & NA & NA & NA & NA & NA & NA & NA & NA & NA & Knight\\_eQTL\\_brain & image\\_Aging2\\\\\n",
       "\t ENSG00000075891 & NA & NA & NA & NA & NA & NA & NA & NA & NA & Knight\\_eQTL\\_brain & image\\_Aging2\\\\\n",
       "\\end{tabular}\n"
      ],
      "text/markdown": [
       "\n",
       "A tibble: 6 x 12\n",
       "\n",
       "| gene_name &lt;chr&gt; | num_CS &lt;dbl&gt; | num_IV &lt;dbl&gt; | cpip &lt;dbl&gt; | meta_eff &lt;dbl&gt; | se_meta_eff &lt;dbl&gt; | meta_pval &lt;dbl&gt; | Q &lt;dbl&gt; | Q_pval &lt;dbl&gt; | I2 &lt;dbl&gt; | context &lt;chr&gt; | gwas_study &lt;chr&gt; |\n",
       "|---|---|---|---|---|---|---|---|---|---|---|---|\n",
       "| ENSG00000055950 | NA | NA | NA | NA | NA | NA | NA | NA | NA | Knight_eQTL_brain | image_Aging2 |\n",
       "| ENSG00000065613 | NA | NA | NA | NA | NA | NA | NA | NA | NA | Knight_eQTL_brain | image_Aging2 |\n",
       "| ENSG00000065621 | NA | NA | NA | NA | NA | NA | NA | NA | NA | Knight_eQTL_brain | image_Aging2 |\n",
       "| ENSG00000075290 | NA | NA | NA | NA | NA | NA | NA | NA | NA | Knight_eQTL_brain | image_Aging2 |\n",
       "| ENSG00000075826 | NA | NA | NA | NA | NA | NA | NA | NA | NA | Knight_eQTL_brain | image_Aging2 |\n",
       "| ENSG00000075891 | NA | NA | NA | NA | NA | NA | NA | NA | NA | Knight_eQTL_brain | image_Aging2 |\n",
       "\n"
      ],
      "text/plain": [
       "  gene_name       num_CS num_IV cpip meta_eff se_meta_eff meta_pval Q  Q_pval\n",
       "1 ENSG00000055950 NA     NA     NA   NA       NA          NA        NA NA    \n",
       "2 ENSG00000065613 NA     NA     NA   NA       NA          NA        NA NA    \n",
       "3 ENSG00000065621 NA     NA     NA   NA       NA          NA        NA NA    \n",
       "4 ENSG00000075290 NA     NA     NA   NA       NA          NA        NA NA    \n",
       "5 ENSG00000075826 NA     NA     NA   NA       NA          NA        NA NA    \n",
       "6 ENSG00000075891 NA     NA     NA   NA       NA          NA        NA NA    \n",
       "  I2 context           gwas_study  \n",
       "1 NA Knight_eQTL_brain image_Aging2\n",
       "2 NA Knight_eQTL_brain image_Aging2\n",
       "3 NA Knight_eQTL_brain image_Aging2\n",
       "4 NA Knight_eQTL_brain image_Aging2\n",
       "5 NA Knight_eQTL_brain image_Aging2\n",
       "6 NA Knight_eQTL_brain image_Aging2"
      ]
     },
     "metadata": {},
     "output_type": "display_data"
    },
    {
     "data": {
      "text/html": [
       "<style>\n",
       ".list-inline {list-style: none; margin:0; padding: 0}\n",
       ".list-inline>li {display: inline-block}\n",
       ".list-inline>li:not(:last-child)::after {content: \"\\00b7\"; padding: 0 .5ex}\n",
       "</style>\n",
       "<ol class=list-inline><li>231108</li><li>12</li></ol>\n"
      ],
      "text/latex": [
       "\\begin{enumerate*}\n",
       "\\item 231108\n",
       "\\item 12\n",
       "\\end{enumerate*}\n"
      ],
      "text/markdown": [
       "1. 231108\n",
       "2. 12\n",
       "\n",
       "\n"
      ],
      "text/plain": [
       "[1] 231108     12"
      ]
     },
     "metadata": {},
     "output_type": "display_data"
    }
   ],
   "source": [
    "head(Aging2_mr)\n",
    "dim(Aging2_mr)\n"
   ]
  },
  {
   "cell_type": "code",
   "execution_count": 22,
   "id": "2c5b3d9a-d255-4c1c-8be2-50abcb2d5408",
   "metadata": {},
   "outputs": [
    {
     "data": {
      "text/html": [
       "<style>\n",
       ".list-inline {list-style: none; margin:0; padding: 0}\n",
       ".list-inline>li {display: inline-block}\n",
       ".list-inline>li:not(:last-child)::after {content: \"\\00b7\"; padding: 0 .5ex}\n",
       "</style>\n",
       "<ol class=list-inline><li>231108</li><li>12</li></ol>\n"
      ],
      "text/latex": [
       "\\begin{enumerate*}\n",
       "\\item 231108\n",
       "\\item 12\n",
       "\\end{enumerate*}\n"
      ],
      "text/markdown": [
       "1. 231108\n",
       "2. 12\n",
       "\n",
       "\n"
      ],
      "text/plain": [
       "[1] 231108     12"
      ]
     },
     "metadata": {},
     "output_type": "display_data"
    }
   ],
   "source": [
    "dim(unique(Aging2_mr))"
   ]
  },
  {
   "cell_type": "code",
   "execution_count": 24,
   "id": "9761392e-5d1a-4c70-9ff6-5f24341f11f1",
   "metadata": {},
   "outputs": [
    {
     "data": {
      "text/html": [
       "<style>\n",
       ".list-inline {list-style: none; margin:0; padding: 0}\n",
       ".list-inline>li {display: inline-block}\n",
       ".list-inline>li:not(:last-child)::after {content: \"\\00b7\"; padding: 0 .5ex}\n",
       "</style>\n",
       "<ol class=list-inline><li>0</li><li>12</li></ol>\n"
      ],
      "text/latex": [
       "\\begin{enumerate*}\n",
       "\\item 0\n",
       "\\item 12\n",
       "\\end{enumerate*}\n"
      ],
      "text/markdown": [
       "1. 0\n",
       "2. 12\n",
       "\n",
       "\n"
      ],
      "text/plain": [
       "[1]  0 12"
      ]
     },
     "metadata": {},
     "output_type": "display_data"
    }
   ],
   "source": [
    "Aging2_sig_mr = Aging2_mr |> filter(!is.na(num_CS), cpip> 0.9, meta_pval< 0.05, I2<0.5) |> arrange(desc(num_IV))\n",
    "dim(Aging2_sig_mr)"
   ]
  },
  {
   "cell_type": "code",
   "execution_count": 87,
   "id": "b14cdf88-5bd7-4b26-8022-a3036632be73",
   "metadata": {},
   "outputs": [],
   "source": [
    "fwrite(Aging2_sig_mr, \"Aging1_mr.sig_gene.tsv.gz\", sep = \"\\t\")"
   ]
  },
  {
   "cell_type": "markdown",
   "id": "fe5fcaa3-71f2-4e3b-8fec-394fb15ca96c",
   "metadata": {},
   "source": [
    "## image_Aging3"
   ]
  },
  {
   "cell_type": "code",
   "execution_count": 25,
   "id": "5c487aae-0d4d-4325-9dd0-424eec0372af",
   "metadata": {},
   "outputs": [],
   "source": [
    "files <- list.files(\"~/data/analysis_result/twas/image_Aging3/twas\",\n",
    "                  pattern = \"mr_result\\\\.tsv\\\\.gz$\", \n",
    "                   full.names = TRUE, recursive = TRUE)"
   ]
  },
  {
   "cell_type": "code",
   "execution_count": 26,
   "id": "90800fcd-5afd-4df9-b949-2dfe5ae05c18",
   "metadata": {},
   "outputs": [],
   "source": [
    "Aging3_mr <- files %>%\n",
    "  # keep only non-empty files\n",
    "  keep(~ file.info(.x)$size > 0) %>%\n",
    "  map_dfr(~ read_tsv(.x, \n",
    "                     col_types = cols(\n",
    "                       I2 = col_character(),\n",
    "                       Q = col_character(),\n",
    "                       Q_pval = col_character(),\n",
    "                       cpip = col_character(),\n",
    "                       meta_eff = col_character(),\n",
    "                       meta_pval = col_character(),\n",
    "                       num_CS = col_character(),\n",
    "                       num_IV = col_character(),\n",
    "                       se_meta_eff = col_character(),\n",
    "                       .default = col_guess()\n",
    "                     ),\n",
    "                     show_col_types = FALSE)) %>%\n",
    "  mutate(\n",
    "    I2 = as.numeric(I2),\n",
    "    Q = as.numeric(Q),\n",
    "    Q_pval = as.numeric(Q_pval),\n",
    "    cpip = as.numeric(cpip),\n",
    "    meta_eff = as.numeric(meta_eff),\n",
    "    meta_pval = as.numeric(meta_pval),\n",
    "    num_CS = as.numeric(num_CS),\n",
    "    num_IV = as.numeric(num_IV),\n",
    "    se_meta_eff = as.numeric(se_meta_eff)\n",
    "  )\n"
   ]
  },
  {
   "cell_type": "code",
   "execution_count": 27,
   "id": "a32b5a93-731a-44dd-be57-2d5a6a9020d5",
   "metadata": {},
   "outputs": [
    {
     "data": {
      "text/html": [
       "<table class=\"dataframe\">\n",
       "<caption>A tibble: 6 x 12</caption>\n",
       "<thead>\n",
       "\t<tr><th scope=col>gene_name</th><th scope=col>num_CS</th><th scope=col>num_IV</th><th scope=col>cpip</th><th scope=col>meta_eff</th><th scope=col>se_meta_eff</th><th scope=col>meta_pval</th><th scope=col>Q</th><th scope=col>Q_pval</th><th scope=col>I2</th><th scope=col>context</th><th scope=col>gwas_study</th></tr>\n",
       "\t<tr><th scope=col>&lt;chr&gt;</th><th scope=col>&lt;dbl&gt;</th><th scope=col>&lt;dbl&gt;</th><th scope=col>&lt;dbl&gt;</th><th scope=col>&lt;dbl&gt;</th><th scope=col>&lt;dbl&gt;</th><th scope=col>&lt;dbl&gt;</th><th scope=col>&lt;dbl&gt;</th><th scope=col>&lt;dbl&gt;</th><th scope=col>&lt;dbl&gt;</th><th scope=col>&lt;chr&gt;</th><th scope=col>&lt;chr&gt;</th></tr>\n",
       "</thead>\n",
       "<tbody>\n",
       "\t<tr><td>ENSG00000055950</td><td>NA</td><td>NA</td><td>NA</td><td>NA</td><td>NA</td><td>NA</td><td>NA</td><td>NA</td><td>NA</td><td>Knight_eQTL_brain</td><td>image_Aging3</td></tr>\n",
       "\t<tr><td>ENSG00000059915</td><td>NA</td><td>NA</td><td>NA</td><td>NA</td><td>NA</td><td>NA</td><td>NA</td><td>NA</td><td>NA</td><td>Knight_eQTL_brain</td><td>image_Aging3</td></tr>\n",
       "\t<tr><td>ENSG00000065613</td><td>NA</td><td>NA</td><td>NA</td><td>NA</td><td>NA</td><td>NA</td><td>NA</td><td>NA</td><td>NA</td><td>Knight_eQTL_brain</td><td>image_Aging3</td></tr>\n",
       "\t<tr><td>ENSG00000065618</td><td>NA</td><td>NA</td><td>NA</td><td>NA</td><td>NA</td><td>NA</td><td>NA</td><td>NA</td><td>NA</td><td>Knight_eQTL_brain</td><td>image_Aging3</td></tr>\n",
       "\t<tr><td>ENSG00000065621</td><td>NA</td><td>NA</td><td>NA</td><td>NA</td><td>NA</td><td>NA</td><td>NA</td><td>NA</td><td>NA</td><td>Knight_eQTL_brain</td><td>image_Aging3</td></tr>\n",
       "\t<tr><td>ENSG00000075290</td><td>NA</td><td>NA</td><td>NA</td><td>NA</td><td>NA</td><td>NA</td><td>NA</td><td>NA</td><td>NA</td><td>Knight_eQTL_brain</td><td>image_Aging3</td></tr>\n",
       "</tbody>\n",
       "</table>\n"
      ],
      "text/latex": [
       "A tibble: 6 x 12\n",
       "\\begin{tabular}{llllllllllll}\n",
       " gene\\_name & num\\_CS & num\\_IV & cpip & meta\\_eff & se\\_meta\\_eff & meta\\_pval & Q & Q\\_pval & I2 & context & gwas\\_study\\\\\n",
       " <chr> & <dbl> & <dbl> & <dbl> & <dbl> & <dbl> & <dbl> & <dbl> & <dbl> & <dbl> & <chr> & <chr>\\\\\n",
       "\\hline\n",
       "\t ENSG00000055950 & NA & NA & NA & NA & NA & NA & NA & NA & NA & Knight\\_eQTL\\_brain & image\\_Aging3\\\\\n",
       "\t ENSG00000059915 & NA & NA & NA & NA & NA & NA & NA & NA & NA & Knight\\_eQTL\\_brain & image\\_Aging3\\\\\n",
       "\t ENSG00000065613 & NA & NA & NA & NA & NA & NA & NA & NA & NA & Knight\\_eQTL\\_brain & image\\_Aging3\\\\\n",
       "\t ENSG00000065618 & NA & NA & NA & NA & NA & NA & NA & NA & NA & Knight\\_eQTL\\_brain & image\\_Aging3\\\\\n",
       "\t ENSG00000065621 & NA & NA & NA & NA & NA & NA & NA & NA & NA & Knight\\_eQTL\\_brain & image\\_Aging3\\\\\n",
       "\t ENSG00000075290 & NA & NA & NA & NA & NA & NA & NA & NA & NA & Knight\\_eQTL\\_brain & image\\_Aging3\\\\\n",
       "\\end{tabular}\n"
      ],
      "text/markdown": [
       "\n",
       "A tibble: 6 x 12\n",
       "\n",
       "| gene_name &lt;chr&gt; | num_CS &lt;dbl&gt; | num_IV &lt;dbl&gt; | cpip &lt;dbl&gt; | meta_eff &lt;dbl&gt; | se_meta_eff &lt;dbl&gt; | meta_pval &lt;dbl&gt; | Q &lt;dbl&gt; | Q_pval &lt;dbl&gt; | I2 &lt;dbl&gt; | context &lt;chr&gt; | gwas_study &lt;chr&gt; |\n",
       "|---|---|---|---|---|---|---|---|---|---|---|---|\n",
       "| ENSG00000055950 | NA | NA | NA | NA | NA | NA | NA | NA | NA | Knight_eQTL_brain | image_Aging3 |\n",
       "| ENSG00000059915 | NA | NA | NA | NA | NA | NA | NA | NA | NA | Knight_eQTL_brain | image_Aging3 |\n",
       "| ENSG00000065613 | NA | NA | NA | NA | NA | NA | NA | NA | NA | Knight_eQTL_brain | image_Aging3 |\n",
       "| ENSG00000065618 | NA | NA | NA | NA | NA | NA | NA | NA | NA | Knight_eQTL_brain | image_Aging3 |\n",
       "| ENSG00000065621 | NA | NA | NA | NA | NA | NA | NA | NA | NA | Knight_eQTL_brain | image_Aging3 |\n",
       "| ENSG00000075290 | NA | NA | NA | NA | NA | NA | NA | NA | NA | Knight_eQTL_brain | image_Aging3 |\n",
       "\n"
      ],
      "text/plain": [
       "  gene_name       num_CS num_IV cpip meta_eff se_meta_eff meta_pval Q  Q_pval\n",
       "1 ENSG00000055950 NA     NA     NA   NA       NA          NA        NA NA    \n",
       "2 ENSG00000059915 NA     NA     NA   NA       NA          NA        NA NA    \n",
       "3 ENSG00000065613 NA     NA     NA   NA       NA          NA        NA NA    \n",
       "4 ENSG00000065618 NA     NA     NA   NA       NA          NA        NA NA    \n",
       "5 ENSG00000065621 NA     NA     NA   NA       NA          NA        NA NA    \n",
       "6 ENSG00000075290 NA     NA     NA   NA       NA          NA        NA NA    \n",
       "  I2 context           gwas_study  \n",
       "1 NA Knight_eQTL_brain image_Aging3\n",
       "2 NA Knight_eQTL_brain image_Aging3\n",
       "3 NA Knight_eQTL_brain image_Aging3\n",
       "4 NA Knight_eQTL_brain image_Aging3\n",
       "5 NA Knight_eQTL_brain image_Aging3\n",
       "6 NA Knight_eQTL_brain image_Aging3"
      ]
     },
     "metadata": {},
     "output_type": "display_data"
    },
    {
     "data": {
      "text/html": [
       "<style>\n",
       ".list-inline {list-style: none; margin:0; padding: 0}\n",
       ".list-inline>li {display: inline-block}\n",
       ".list-inline>li:not(:last-child)::after {content: \"\\00b7\"; padding: 0 .5ex}\n",
       "</style>\n",
       "<ol class=list-inline><li>233235</li><li>12</li></ol>\n"
      ],
      "text/latex": [
       "\\begin{enumerate*}\n",
       "\\item 233235\n",
       "\\item 12\n",
       "\\end{enumerate*}\n"
      ],
      "text/markdown": [
       "1. 233235\n",
       "2. 12\n",
       "\n",
       "\n"
      ],
      "text/plain": [
       "[1] 233235     12"
      ]
     },
     "metadata": {},
     "output_type": "display_data"
    }
   ],
   "source": [
    "head(Aging3_mr)\n",
    "dim(Aging3_mr)\n"
   ]
  },
  {
   "cell_type": "code",
   "execution_count": 28,
   "id": "21ec2f9b-3f61-4d82-967a-951708cd85b9",
   "metadata": {},
   "outputs": [
    {
     "data": {
      "text/html": [
       "<style>\n",
       ".list-inline {list-style: none; margin:0; padding: 0}\n",
       ".list-inline>li {display: inline-block}\n",
       ".list-inline>li:not(:last-child)::after {content: \"\\00b7\"; padding: 0 .5ex}\n",
       "</style>\n",
       "<ol class=list-inline><li>233235</li><li>12</li></ol>\n"
      ],
      "text/latex": [
       "\\begin{enumerate*}\n",
       "\\item 233235\n",
       "\\item 12\n",
       "\\end{enumerate*}\n"
      ],
      "text/markdown": [
       "1. 233235\n",
       "2. 12\n",
       "\n",
       "\n"
      ],
      "text/plain": [
       "[1] 233235     12"
      ]
     },
     "metadata": {},
     "output_type": "display_data"
    }
   ],
   "source": [
    "dim(unique(Aging3_mr))"
   ]
  },
  {
   "cell_type": "code",
   "execution_count": 29,
   "id": "f771806b-dd5c-4b65-b574-9b903d415ecb",
   "metadata": {},
   "outputs": [
    {
     "data": {
      "text/html": [
       "<style>\n",
       ".list-inline {list-style: none; margin:0; padding: 0}\n",
       ".list-inline>li {display: inline-block}\n",
       ".list-inline>li:not(:last-child)::after {content: \"\\00b7\"; padding: 0 .5ex}\n",
       "</style>\n",
       "<ol class=list-inline><li>0</li><li>12</li></ol>\n"
      ],
      "text/latex": [
       "\\begin{enumerate*}\n",
       "\\item 0\n",
       "\\item 12\n",
       "\\end{enumerate*}\n"
      ],
      "text/markdown": [
       "1. 0\n",
       "2. 12\n",
       "\n",
       "\n"
      ],
      "text/plain": [
       "[1]  0 12"
      ]
     },
     "metadata": {},
     "output_type": "display_data"
    }
   ],
   "source": [
    "Aging3_sig_mr = Aging3_mr |> filter(!is.na(num_CS), cpip> 0.9, meta_pval< 0.05, I2<0.5) |> arrange(desc(num_IV))\n",
    "dim(Aging3_sig_mr)"
   ]
  },
  {
   "cell_type": "code",
   "execution_count": 87,
   "id": "e03a87ca-315f-4794-9c8e-c758af888c14",
   "metadata": {},
   "outputs": [],
   "source": [
    "fwrite(Aging3_sig_mr, \"Aging3_mr.sig_gene.tsv.gz\", sep = \"\\t\")"
   ]
  },
  {
   "cell_type": "markdown",
   "id": "177fd81f-f417-4992-9a84-d0add004360c",
   "metadata": {},
   "source": [
    "## image_Aging4"
   ]
  },
  {
   "cell_type": "code",
   "execution_count": 30,
   "id": "20e5162f-2fe6-4462-9240-977f9a8e57e2",
   "metadata": {},
   "outputs": [],
   "source": [
    "files <- list.files(\"~/data/analysis_result/twas/image_Aging4/twas\",\n",
    "                  pattern = \"mr_result\\\\.tsv\\\\.gz$\", \n",
    "                   full.names = TRUE, recursive = TRUE)"
   ]
  },
  {
   "cell_type": "code",
   "execution_count": 31,
   "id": "9de4921b-4ced-4c4f-b714-d20a3e5a1b9f",
   "metadata": {},
   "outputs": [],
   "source": [
    "Aging4_mr <- files %>%\n",
    "  # keep only non-empty files\n",
    "  keep(~ file.info(.x)$size > 0) %>%\n",
    "  map_dfr(~ read_tsv(.x, \n",
    "                     col_types = cols(\n",
    "                       I2 = col_character(),\n",
    "                       Q = col_character(),\n",
    "                       Q_pval = col_character(),\n",
    "                       cpip = col_character(),\n",
    "                       meta_eff = col_character(),\n",
    "                       meta_pval = col_character(),\n",
    "                       num_CS = col_character(),\n",
    "                       num_IV = col_character(),\n",
    "                       se_meta_eff = col_character(),\n",
    "                       .default = col_guess()\n",
    "                     ),\n",
    "                     show_col_types = FALSE)) %>%\n",
    "  mutate(\n",
    "    I2 = as.numeric(I2),\n",
    "    Q = as.numeric(Q),\n",
    "    Q_pval = as.numeric(Q_pval),\n",
    "    cpip = as.numeric(cpip),\n",
    "    meta_eff = as.numeric(meta_eff),\n",
    "    meta_pval = as.numeric(meta_pval),\n",
    "    num_CS = as.numeric(num_CS),\n",
    "    num_IV = as.numeric(num_IV),\n",
    "    se_meta_eff = as.numeric(se_meta_eff)\n",
    "  )\n"
   ]
  },
  {
   "cell_type": "code",
   "execution_count": 32,
   "id": "e1137c43-b2e8-45a3-a889-fa2617887ad2",
   "metadata": {},
   "outputs": [
    {
     "data": {
      "text/html": [
       "<table class=\"dataframe\">\n",
       "<caption>A tibble: 6 x 12</caption>\n",
       "<thead>\n",
       "\t<tr><th scope=col>gene_name</th><th scope=col>num_CS</th><th scope=col>num_IV</th><th scope=col>cpip</th><th scope=col>meta_eff</th><th scope=col>se_meta_eff</th><th scope=col>meta_pval</th><th scope=col>Q</th><th scope=col>Q_pval</th><th scope=col>I2</th><th scope=col>context</th><th scope=col>gwas_study</th></tr>\n",
       "\t<tr><th scope=col>&lt;chr&gt;</th><th scope=col>&lt;dbl&gt;</th><th scope=col>&lt;dbl&gt;</th><th scope=col>&lt;dbl&gt;</th><th scope=col>&lt;dbl&gt;</th><th scope=col>&lt;dbl&gt;</th><th scope=col>&lt;dbl&gt;</th><th scope=col>&lt;dbl&gt;</th><th scope=col>&lt;dbl&gt;</th><th scope=col>&lt;dbl&gt;</th><th scope=col>&lt;chr&gt;</th><th scope=col>&lt;chr&gt;</th></tr>\n",
       "</thead>\n",
       "<tbody>\n",
       "\t<tr><td>ENSG00000059915</td><td>NA</td><td>NA</td><td>NA</td><td>NA</td><td>NA</td><td>NA</td><td>NA</td><td>NA</td><td>NA</td><td>Knight_eQTL_brain</td><td>image_Aging4</td></tr>\n",
       "\t<tr><td>ENSG00000065613</td><td>NA</td><td>NA</td><td>NA</td><td>NA</td><td>NA</td><td>NA</td><td>NA</td><td>NA</td><td>NA</td><td>Knight_eQTL_brain</td><td>image_Aging4</td></tr>\n",
       "\t<tr><td>ENSG00000065618</td><td>NA</td><td>NA</td><td>NA</td><td>NA</td><td>NA</td><td>NA</td><td>NA</td><td>NA</td><td>NA</td><td>Knight_eQTL_brain</td><td>image_Aging4</td></tr>\n",
       "\t<tr><td>ENSG00000065621</td><td>NA</td><td>NA</td><td>NA</td><td>NA</td><td>NA</td><td>NA</td><td>NA</td><td>NA</td><td>NA</td><td>Knight_eQTL_brain</td><td>image_Aging4</td></tr>\n",
       "\t<tr><td>ENSG00000075891</td><td>NA</td><td>NA</td><td>NA</td><td>NA</td><td>NA</td><td>NA</td><td>NA</td><td>NA</td><td>NA</td><td>Knight_eQTL_brain</td><td>image_Aging4</td></tr>\n",
       "\t<tr><td>ENSG00000076685</td><td>NA</td><td>NA</td><td>NA</td><td>NA</td><td>NA</td><td>NA</td><td>NA</td><td>NA</td><td>NA</td><td>Knight_eQTL_brain</td><td>image_Aging4</td></tr>\n",
       "</tbody>\n",
       "</table>\n"
      ],
      "text/latex": [
       "A tibble: 6 x 12\n",
       "\\begin{tabular}{llllllllllll}\n",
       " gene\\_name & num\\_CS & num\\_IV & cpip & meta\\_eff & se\\_meta\\_eff & meta\\_pval & Q & Q\\_pval & I2 & context & gwas\\_study\\\\\n",
       " <chr> & <dbl> & <dbl> & <dbl> & <dbl> & <dbl> & <dbl> & <dbl> & <dbl> & <dbl> & <chr> & <chr>\\\\\n",
       "\\hline\n",
       "\t ENSG00000059915 & NA & NA & NA & NA & NA & NA & NA & NA & NA & Knight\\_eQTL\\_brain & image\\_Aging4\\\\\n",
       "\t ENSG00000065613 & NA & NA & NA & NA & NA & NA & NA & NA & NA & Knight\\_eQTL\\_brain & image\\_Aging4\\\\\n",
       "\t ENSG00000065618 & NA & NA & NA & NA & NA & NA & NA & NA & NA & Knight\\_eQTL\\_brain & image\\_Aging4\\\\\n",
       "\t ENSG00000065621 & NA & NA & NA & NA & NA & NA & NA & NA & NA & Knight\\_eQTL\\_brain & image\\_Aging4\\\\\n",
       "\t ENSG00000075891 & NA & NA & NA & NA & NA & NA & NA & NA & NA & Knight\\_eQTL\\_brain & image\\_Aging4\\\\\n",
       "\t ENSG00000076685 & NA & NA & NA & NA & NA & NA & NA & NA & NA & Knight\\_eQTL\\_brain & image\\_Aging4\\\\\n",
       "\\end{tabular}\n"
      ],
      "text/markdown": [
       "\n",
       "A tibble: 6 x 12\n",
       "\n",
       "| gene_name &lt;chr&gt; | num_CS &lt;dbl&gt; | num_IV &lt;dbl&gt; | cpip &lt;dbl&gt; | meta_eff &lt;dbl&gt; | se_meta_eff &lt;dbl&gt; | meta_pval &lt;dbl&gt; | Q &lt;dbl&gt; | Q_pval &lt;dbl&gt; | I2 &lt;dbl&gt; | context &lt;chr&gt; | gwas_study &lt;chr&gt; |\n",
       "|---|---|---|---|---|---|---|---|---|---|---|---|\n",
       "| ENSG00000059915 | NA | NA | NA | NA | NA | NA | NA | NA | NA | Knight_eQTL_brain | image_Aging4 |\n",
       "| ENSG00000065613 | NA | NA | NA | NA | NA | NA | NA | NA | NA | Knight_eQTL_brain | image_Aging4 |\n",
       "| ENSG00000065618 | NA | NA | NA | NA | NA | NA | NA | NA | NA | Knight_eQTL_brain | image_Aging4 |\n",
       "| ENSG00000065621 | NA | NA | NA | NA | NA | NA | NA | NA | NA | Knight_eQTL_brain | image_Aging4 |\n",
       "| ENSG00000075891 | NA | NA | NA | NA | NA | NA | NA | NA | NA | Knight_eQTL_brain | image_Aging4 |\n",
       "| ENSG00000076685 | NA | NA | NA | NA | NA | NA | NA | NA | NA | Knight_eQTL_brain | image_Aging4 |\n",
       "\n"
      ],
      "text/plain": [
       "  gene_name       num_CS num_IV cpip meta_eff se_meta_eff meta_pval Q  Q_pval\n",
       "1 ENSG00000059915 NA     NA     NA   NA       NA          NA        NA NA    \n",
       "2 ENSG00000065613 NA     NA     NA   NA       NA          NA        NA NA    \n",
       "3 ENSG00000065618 NA     NA     NA   NA       NA          NA        NA NA    \n",
       "4 ENSG00000065621 NA     NA     NA   NA       NA          NA        NA NA    \n",
       "5 ENSG00000075891 NA     NA     NA   NA       NA          NA        NA NA    \n",
       "6 ENSG00000076685 NA     NA     NA   NA       NA          NA        NA NA    \n",
       "  I2 context           gwas_study  \n",
       "1 NA Knight_eQTL_brain image_Aging4\n",
       "2 NA Knight_eQTL_brain image_Aging4\n",
       "3 NA Knight_eQTL_brain image_Aging4\n",
       "4 NA Knight_eQTL_brain image_Aging4\n",
       "5 NA Knight_eQTL_brain image_Aging4\n",
       "6 NA Knight_eQTL_brain image_Aging4"
      ]
     },
     "metadata": {},
     "output_type": "display_data"
    },
    {
     "data": {
      "text/html": [
       "<style>\n",
       ".list-inline {list-style: none; margin:0; padding: 0}\n",
       ".list-inline>li {display: inline-block}\n",
       ".list-inline>li:not(:last-child)::after {content: \"\\00b7\"; padding: 0 .5ex}\n",
       "</style>\n",
       "<ol class=list-inline><li>234630</li><li>12</li></ol>\n"
      ],
      "text/latex": [
       "\\begin{enumerate*}\n",
       "\\item 234630\n",
       "\\item 12\n",
       "\\end{enumerate*}\n"
      ],
      "text/markdown": [
       "1. 234630\n",
       "2. 12\n",
       "\n",
       "\n"
      ],
      "text/plain": [
       "[1] 234630     12"
      ]
     },
     "metadata": {},
     "output_type": "display_data"
    }
   ],
   "source": [
    "head(Aging4_mr)\n",
    "dim(Aging4_mr)\n"
   ]
  },
  {
   "cell_type": "code",
   "execution_count": 33,
   "id": "d4ffeada-587c-49f5-ba07-e9e9065a9dad",
   "metadata": {},
   "outputs": [
    {
     "data": {
      "text/html": [
       "<style>\n",
       ".list-inline {list-style: none; margin:0; padding: 0}\n",
       ".list-inline>li {display: inline-block}\n",
       ".list-inline>li:not(:last-child)::after {content: \"\\00b7\"; padding: 0 .5ex}\n",
       "</style>\n",
       "<ol class=list-inline><li>234630</li><li>12</li></ol>\n"
      ],
      "text/latex": [
       "\\begin{enumerate*}\n",
       "\\item 234630\n",
       "\\item 12\n",
       "\\end{enumerate*}\n"
      ],
      "text/markdown": [
       "1. 234630\n",
       "2. 12\n",
       "\n",
       "\n"
      ],
      "text/plain": [
       "[1] 234630     12"
      ]
     },
     "metadata": {},
     "output_type": "display_data"
    }
   ],
   "source": [
    "dim(unique(Aging4_mr))"
   ]
  },
  {
   "cell_type": "code",
   "execution_count": 34,
   "id": "c317ad0c-b14f-429f-908d-84fafe5399ba",
   "metadata": {},
   "outputs": [
    {
     "data": {
      "text/html": [
       "<style>\n",
       ".list-inline {list-style: none; margin:0; padding: 0}\n",
       ".list-inline>li {display: inline-block}\n",
       ".list-inline>li:not(:last-child)::after {content: \"\\00b7\"; padding: 0 .5ex}\n",
       "</style>\n",
       "<ol class=list-inline><li>0</li><li>12</li></ol>\n"
      ],
      "text/latex": [
       "\\begin{enumerate*}\n",
       "\\item 0\n",
       "\\item 12\n",
       "\\end{enumerate*}\n"
      ],
      "text/markdown": [
       "1. 0\n",
       "2. 12\n",
       "\n",
       "\n"
      ],
      "text/plain": [
       "[1]  0 12"
      ]
     },
     "metadata": {},
     "output_type": "display_data"
    }
   ],
   "source": [
    "Aging4_sig_mr = Aging4_mr |> filter(!is.na(num_CS), cpip> 0.9, meta_pval< 0.05, I2<0.5) |> arrange(desc(num_IV))\n",
    "dim(Aging4_sig_mr)"
   ]
  },
  {
   "cell_type": "code",
   "execution_count": 87,
   "id": "4fa8963d-1ef0-469d-ba57-80deac51aa4e",
   "metadata": {},
   "outputs": [],
   "source": [
    "fwrite(Aging4_sig_mr, \"Aging4_mr.sig_gene.tsv.gz\", sep = \"\\t\")"
   ]
  },
  {
   "cell_type": "markdown",
   "id": "0a767d7e-f9db-4bc6-9126-ee9e0bc851b6",
   "metadata": {},
   "source": [
    "## image_Aging5"
   ]
  },
  {
   "cell_type": "code",
   "execution_count": 35,
   "id": "28f14a86-6af6-42ce-9b0d-f98f103a6101",
   "metadata": {},
   "outputs": [],
   "source": [
    "files <- list.files(\"~/data/analysis_result/twas/image_Aging5/twas\",\n",
    "                  pattern = \"mr_result\\\\.tsv\\\\.gz$\", \n",
    "                   full.names = TRUE, recursive = TRUE)"
   ]
  },
  {
   "cell_type": "code",
   "execution_count": 36,
   "id": "d6de24cb-651d-414a-a33f-19ab4c4605f0",
   "metadata": {},
   "outputs": [],
   "source": [
    "Aging5_mr <- files %>%\n",
    "  # keep only non-empty files\n",
    "  keep(~ file.info(.x)$size > 0) %>%\n",
    "  map_dfr(~ read_tsv(.x, \n",
    "                     col_types = cols(\n",
    "                       I2 = col_character(),\n",
    "                       Q = col_character(),\n",
    "                       Q_pval = col_character(),\n",
    "                       cpip = col_character(),\n",
    "                       meta_eff = col_character(),\n",
    "                       meta_pval = col_character(),\n",
    "                       num_CS = col_character(),\n",
    "                       num_IV = col_character(),\n",
    "                       se_meta_eff = col_character(),\n",
    "                       .default = col_guess()\n",
    "                     ),\n",
    "                     show_col_types = FALSE)) %>%\n",
    "  mutate(\n",
    "    I2 = as.numeric(I2),\n",
    "    Q = as.numeric(Q),\n",
    "    Q_pval = as.numeric(Q_pval),\n",
    "    cpip = as.numeric(cpip),\n",
    "    meta_eff = as.numeric(meta_eff),\n",
    "    meta_pval = as.numeric(meta_pval),\n",
    "    num_CS = as.numeric(num_CS),\n",
    "    num_IV = as.numeric(num_IV),\n",
    "    se_meta_eff = as.numeric(se_meta_eff)\n",
    "  )\n"
   ]
  },
  {
   "cell_type": "code",
   "execution_count": 37,
   "id": "59247f08-9068-4061-bebc-5334dee4b48c",
   "metadata": {},
   "outputs": [
    {
     "data": {
      "text/html": [
       "<table class=\"dataframe\">\n",
       "<caption>A tibble: 6 x 12</caption>\n",
       "<thead>\n",
       "\t<tr><th scope=col>gene_name</th><th scope=col>num_CS</th><th scope=col>num_IV</th><th scope=col>cpip</th><th scope=col>meta_eff</th><th scope=col>se_meta_eff</th><th scope=col>meta_pval</th><th scope=col>Q</th><th scope=col>Q_pval</th><th scope=col>I2</th><th scope=col>context</th><th scope=col>gwas_study</th></tr>\n",
       "\t<tr><th scope=col>&lt;chr&gt;</th><th scope=col>&lt;dbl&gt;</th><th scope=col>&lt;dbl&gt;</th><th scope=col>&lt;dbl&gt;</th><th scope=col>&lt;dbl&gt;</th><th scope=col>&lt;dbl&gt;</th><th scope=col>&lt;dbl&gt;</th><th scope=col>&lt;dbl&gt;</th><th scope=col>&lt;dbl&gt;</th><th scope=col>&lt;dbl&gt;</th><th scope=col>&lt;chr&gt;</th><th scope=col>&lt;chr&gt;</th></tr>\n",
       "</thead>\n",
       "<tbody>\n",
       "\t<tr><td>ENSG00000055950</td><td>NA</td><td>NA</td><td>NA</td><td>NA</td><td>NA</td><td>NA</td><td>NA</td><td>NA</td><td>NA</td><td>Knight_eQTL_brain</td><td>image_Aging5</td></tr>\n",
       "\t<tr><td>ENSG00000065613</td><td>NA</td><td>NA</td><td>NA</td><td>NA</td><td>NA</td><td>NA</td><td>NA</td><td>NA</td><td>NA</td><td>Knight_eQTL_brain</td><td>image_Aging5</td></tr>\n",
       "\t<tr><td>ENSG00000065618</td><td>NA</td><td>NA</td><td>NA</td><td>NA</td><td>NA</td><td>NA</td><td>NA</td><td>NA</td><td>NA</td><td>Knight_eQTL_brain</td><td>image_Aging5</td></tr>\n",
       "\t<tr><td>ENSG00000065621</td><td>NA</td><td>NA</td><td>NA</td><td>NA</td><td>NA</td><td>NA</td><td>NA</td><td>NA</td><td>NA</td><td>Knight_eQTL_brain</td><td>image_Aging5</td></tr>\n",
       "\t<tr><td>ENSG00000075290</td><td>NA</td><td>NA</td><td>NA</td><td>NA</td><td>NA</td><td>NA</td><td>NA</td><td>NA</td><td>NA</td><td>Knight_eQTL_brain</td><td>image_Aging5</td></tr>\n",
       "\t<tr><td>ENSG00000075826</td><td>NA</td><td>NA</td><td>NA</td><td>NA</td><td>NA</td><td>NA</td><td>NA</td><td>NA</td><td>NA</td><td>Knight_eQTL_brain</td><td>image_Aging5</td></tr>\n",
       "</tbody>\n",
       "</table>\n"
      ],
      "text/latex": [
       "A tibble: 6 x 12\n",
       "\\begin{tabular}{llllllllllll}\n",
       " gene\\_name & num\\_CS & num\\_IV & cpip & meta\\_eff & se\\_meta\\_eff & meta\\_pval & Q & Q\\_pval & I2 & context & gwas\\_study\\\\\n",
       " <chr> & <dbl> & <dbl> & <dbl> & <dbl> & <dbl> & <dbl> & <dbl> & <dbl> & <dbl> & <chr> & <chr>\\\\\n",
       "\\hline\n",
       "\t ENSG00000055950 & NA & NA & NA & NA & NA & NA & NA & NA & NA & Knight\\_eQTL\\_brain & image\\_Aging5\\\\\n",
       "\t ENSG00000065613 & NA & NA & NA & NA & NA & NA & NA & NA & NA & Knight\\_eQTL\\_brain & image\\_Aging5\\\\\n",
       "\t ENSG00000065618 & NA & NA & NA & NA & NA & NA & NA & NA & NA & Knight\\_eQTL\\_brain & image\\_Aging5\\\\\n",
       "\t ENSG00000065621 & NA & NA & NA & NA & NA & NA & NA & NA & NA & Knight\\_eQTL\\_brain & image\\_Aging5\\\\\n",
       "\t ENSG00000075290 & NA & NA & NA & NA & NA & NA & NA & NA & NA & Knight\\_eQTL\\_brain & image\\_Aging5\\\\\n",
       "\t ENSG00000075826 & NA & NA & NA & NA & NA & NA & NA & NA & NA & Knight\\_eQTL\\_brain & image\\_Aging5\\\\\n",
       "\\end{tabular}\n"
      ],
      "text/markdown": [
       "\n",
       "A tibble: 6 x 12\n",
       "\n",
       "| gene_name &lt;chr&gt; | num_CS &lt;dbl&gt; | num_IV &lt;dbl&gt; | cpip &lt;dbl&gt; | meta_eff &lt;dbl&gt; | se_meta_eff &lt;dbl&gt; | meta_pval &lt;dbl&gt; | Q &lt;dbl&gt; | Q_pval &lt;dbl&gt; | I2 &lt;dbl&gt; | context &lt;chr&gt; | gwas_study &lt;chr&gt; |\n",
       "|---|---|---|---|---|---|---|---|---|---|---|---|\n",
       "| ENSG00000055950 | NA | NA | NA | NA | NA | NA | NA | NA | NA | Knight_eQTL_brain | image_Aging5 |\n",
       "| ENSG00000065613 | NA | NA | NA | NA | NA | NA | NA | NA | NA | Knight_eQTL_brain | image_Aging5 |\n",
       "| ENSG00000065618 | NA | NA | NA | NA | NA | NA | NA | NA | NA | Knight_eQTL_brain | image_Aging5 |\n",
       "| ENSG00000065621 | NA | NA | NA | NA | NA | NA | NA | NA | NA | Knight_eQTL_brain | image_Aging5 |\n",
       "| ENSG00000075290 | NA | NA | NA | NA | NA | NA | NA | NA | NA | Knight_eQTL_brain | image_Aging5 |\n",
       "| ENSG00000075826 | NA | NA | NA | NA | NA | NA | NA | NA | NA | Knight_eQTL_brain | image_Aging5 |\n",
       "\n"
      ],
      "text/plain": [
       "  gene_name       num_CS num_IV cpip meta_eff se_meta_eff meta_pval Q  Q_pval\n",
       "1 ENSG00000055950 NA     NA     NA   NA       NA          NA        NA NA    \n",
       "2 ENSG00000065613 NA     NA     NA   NA       NA          NA        NA NA    \n",
       "3 ENSG00000065618 NA     NA     NA   NA       NA          NA        NA NA    \n",
       "4 ENSG00000065621 NA     NA     NA   NA       NA          NA        NA NA    \n",
       "5 ENSG00000075290 NA     NA     NA   NA       NA          NA        NA NA    \n",
       "6 ENSG00000075826 NA     NA     NA   NA       NA          NA        NA NA    \n",
       "  I2 context           gwas_study  \n",
       "1 NA Knight_eQTL_brain image_Aging5\n",
       "2 NA Knight_eQTL_brain image_Aging5\n",
       "3 NA Knight_eQTL_brain image_Aging5\n",
       "4 NA Knight_eQTL_brain image_Aging5\n",
       "5 NA Knight_eQTL_brain image_Aging5\n",
       "6 NA Knight_eQTL_brain image_Aging5"
      ]
     },
     "metadata": {},
     "output_type": "display_data"
    },
    {
     "data": {
      "text/html": [
       "<style>\n",
       ".list-inline {list-style: none; margin:0; padding: 0}\n",
       ".list-inline>li {display: inline-block}\n",
       ".list-inline>li:not(:last-child)::after {content: \"\\00b7\"; padding: 0 .5ex}\n",
       "</style>\n",
       "<ol class=list-inline><li>235812</li><li>12</li></ol>\n"
      ],
      "text/latex": [
       "\\begin{enumerate*}\n",
       "\\item 235812\n",
       "\\item 12\n",
       "\\end{enumerate*}\n"
      ],
      "text/markdown": [
       "1. 235812\n",
       "2. 12\n",
       "\n",
       "\n"
      ],
      "text/plain": [
       "[1] 235812     12"
      ]
     },
     "metadata": {},
     "output_type": "display_data"
    }
   ],
   "source": [
    "head(Aging5_mr)\n",
    "dim(Aging5_mr)\n"
   ]
  },
  {
   "cell_type": "code",
   "execution_count": 38,
   "id": "a6e7bd90-d39f-44b9-aa42-0e672c91309a",
   "metadata": {},
   "outputs": [
    {
     "data": {
      "text/html": [
       "<style>\n",
       ".list-inline {list-style: none; margin:0; padding: 0}\n",
       ".list-inline>li {display: inline-block}\n",
       ".list-inline>li:not(:last-child)::after {content: \"\\00b7\"; padding: 0 .5ex}\n",
       "</style>\n",
       "<ol class=list-inline><li>235812</li><li>12</li></ol>\n"
      ],
      "text/latex": [
       "\\begin{enumerate*}\n",
       "\\item 235812\n",
       "\\item 12\n",
       "\\end{enumerate*}\n"
      ],
      "text/markdown": [
       "1. 235812\n",
       "2. 12\n",
       "\n",
       "\n"
      ],
      "text/plain": [
       "[1] 235812     12"
      ]
     },
     "metadata": {},
     "output_type": "display_data"
    }
   ],
   "source": [
    "dim(unique(Aging5_mr))"
   ]
  },
  {
   "cell_type": "code",
   "execution_count": 39,
   "id": "55697f65-81d2-4183-bff6-77d791920bf9",
   "metadata": {},
   "outputs": [
    {
     "data": {
      "text/html": [
       "<style>\n",
       ".list-inline {list-style: none; margin:0; padding: 0}\n",
       ".list-inline>li {display: inline-block}\n",
       ".list-inline>li:not(:last-child)::after {content: \"\\00b7\"; padding: 0 .5ex}\n",
       "</style>\n",
       "<ol class=list-inline><li>0</li><li>12</li></ol>\n"
      ],
      "text/latex": [
       "\\begin{enumerate*}\n",
       "\\item 0\n",
       "\\item 12\n",
       "\\end{enumerate*}\n"
      ],
      "text/markdown": [
       "1. 0\n",
       "2. 12\n",
       "\n",
       "\n"
      ],
      "text/plain": [
       "[1]  0 12"
      ]
     },
     "metadata": {},
     "output_type": "display_data"
    }
   ],
   "source": [
    "Aging5_sig_mr = Aging5_mr |> filter(!is.na(num_CS), cpip> 0.9, meta_pval< 0.05, I2<0.5) |> arrange(desc(num_IV))\n",
    "dim(Aging5_sig_mr)"
   ]
  },
  {
   "cell_type": "code",
   "execution_count": 87,
   "id": "27abadb0-a696-483e-acc3-5799ec39330f",
   "metadata": {},
   "outputs": [],
   "source": [
    "fwrite(Aging5_sig_mr, \"Aging5_mr.sig_gene.tsv.gz\", sep = \"\\t\")"
   ]
  },
  {
   "cell_type": "markdown",
   "id": "6c5e8aec-62c0-4c82-87a7-74a6d72eae81",
   "metadata": {},
   "source": [
    "# TWAS"
   ]
  },
  {
   "cell_type": "markdown",
   "id": "e03b0a42-8dea-4323-96c1-5b01ffdd0247",
   "metadata": {},
   "source": [
    "## TL1"
   ]
  },
  {
   "cell_type": "code",
   "execution_count": 82,
   "id": "404c0e13-614f-47c8-a6ef-9c016eb2fa93",
   "metadata": {},
   "outputs": [],
   "source": [
    "TL1 <- fread(\"~/project/image_QTL/twas/TL1_twas_merged.tsv.gz.combined_twas.tsv.gz\")"
   ]
  },
  {
   "cell_type": "code",
   "execution_count": 83,
   "id": "890596eb-f41b-4187-a5bc-1ea7c903ee34",
   "metadata": {
    "scrolled": true
   },
   "outputs": [
    {
     "data": {
      "text/html": [
       "<table class=\"dataframe\">\n",
       "<caption>A data.table: 6 x 19</caption>\n",
       "<thead>\n",
       "\t<tr><th scope=col>chr</th><th scope=col>molecular_id</th><th scope=col>TSS</th><th scope=col>start</th><th scope=col>end</th><th scope=col>context</th><th scope=col>gwas_study</th><th scope=col>method</th><th scope=col>is_imputable</th><th scope=col>is_selected_method</th><th scope=col>rsq_cv</th><th scope=col>pval_cv</th><th scope=col>twas_z</th><th scope=col>twas_pval</th><th scope=col>type</th><th scope=col>block</th><th scope=col>region</th><th scope=col>study_context</th><th scope=col>source_file</th></tr>\n",
       "\t<tr><th scope=col>&lt;int&gt;</th><th scope=col>&lt;chr&gt;</th><th scope=col>&lt;int&gt;</th><th scope=col>&lt;int&gt;</th><th scope=col>&lt;int&gt;</th><th scope=col>&lt;chr&gt;</th><th scope=col>&lt;chr&gt;</th><th scope=col>&lt;chr&gt;</th><th scope=col>&lt;lgl&gt;</th><th scope=col>&lt;lgl&gt;</th><th scope=col>&lt;dbl&gt;</th><th scope=col>&lt;dbl&gt;</th><th scope=col>&lt;dbl&gt;</th><th scope=col>&lt;dbl&gt;</th><th scope=col>&lt;chr&gt;</th><th scope=col>&lt;chr&gt;</th><th scope=col>&lt;chr&gt;</th><th scope=col>&lt;chr&gt;</th><th scope=col>&lt;chr&gt;</th></tr>\n",
       "</thead>\n",
       "<tbody>\n",
       "\t<tr><td>10</td><td>ENSG00000055950</td><td>100987514</td><td> 99320000</td><td>102120000</td><td>Knight_eQTL_brain</td><td>Telomere_pc1</td><td>enet </td><td>TRUE</td><td>FALSE</td><td>0.098757440</td><td>8.923911e-10</td><td>-2.903662</td><td>0.003688264</td><td>eQTL</td><td>chr10_100331627_104378781</td><td>chr10_100331627_104378781</td><td>KNIGHT_eQTL_pQTL</td><td>KNIGHT_eQTL_pQTL.chr10_100331627_104378781.twas.tsv.gz</td></tr>\n",
       "\t<tr><td>10</td><td>ENSG00000055950</td><td>100987514</td><td> 99320000</td><td>102120000</td><td>Knight_eQTL_brain</td><td>Telomere_pc1</td><td>lasso</td><td>TRUE</td><td>FALSE</td><td>0.103370596</td><td>3.541036e-10</td><td>-2.878534</td><td>0.003995280</td><td>eQTL</td><td>chr10_100331627_104378781</td><td>chr10_100331627_104378781</td><td>KNIGHT_eQTL_pQTL</td><td>KNIGHT_eQTL_pQTL.chr10_100331627_104378781.twas.tsv.gz</td></tr>\n",
       "\t<tr><td>10</td><td>ENSG00000055950</td><td>100987514</td><td> 99320000</td><td>102120000</td><td>Knight_eQTL_brain</td><td>Telomere_pc1</td><td>mrash</td><td>TRUE</td><td>FALSE</td><td>0.089177838</td><td>6.013310e-09</td><td>-2.963834</td><td>0.003038321</td><td>eQTL</td><td>chr10_100331627_104378781</td><td>chr10_100331627_104378781</td><td>KNIGHT_eQTL_pQTL</td><td>KNIGHT_eQTL_pQTL.chr10_100331627_104378781.twas.tsv.gz</td></tr>\n",
       "\t<tr><td>10</td><td>ENSG00000055950</td><td>100987514</td><td> 99320000</td><td>102120000</td><td>Knight_eQTL_brain</td><td>Telomere_pc1</td><td>susie</td><td>TRUE</td><td> TRUE</td><td>0.121638427</td><td>8.766557e-12</td><td>-2.919076</td><td>0.003510708</td><td>eQTL</td><td>chr10_100331627_104378781</td><td>chr10_100331627_104378781</td><td>KNIGHT_eQTL_pQTL</td><td>KNIGHT_eQTL_pQTL.chr10_100331627_104378781.twas.tsv.gz</td></tr>\n",
       "\t<tr><td>10</td><td>ENSG00000059915</td><td>102421538</td><td>101402617</td><td>103680000</td><td>Knight_eQTL_brain</td><td>Telomere_pc1</td><td>enet </td><td>TRUE</td><td>FALSE</td><td>0.007872702</td><td>5.201216e-02</td><td> 2.351818</td><td>0.018681917</td><td>eQTL</td><td>chr10_100331627_104378781</td><td>chr10_100331627_104378781</td><td>KNIGHT_eQTL_pQTL</td><td>KNIGHT_eQTL_pQTL.chr10_100331627_104378781.twas.tsv.gz</td></tr>\n",
       "\t<tr><td>10</td><td>ENSG00000059915</td><td>102421538</td><td>101402617</td><td>103680000</td><td>Knight_eQTL_brain</td><td>Telomere_pc1</td><td>lasso</td><td>TRUE</td><td>FALSE</td><td>0.006195072</td><td>7.447581e-02</td><td> 2.565091</td><td>0.010314876</td><td>eQTL</td><td>chr10_100331627_104378781</td><td>chr10_100331627_104378781</td><td>KNIGHT_eQTL_pQTL</td><td>KNIGHT_eQTL_pQTL.chr10_100331627_104378781.twas.tsv.gz</td></tr>\n",
       "</tbody>\n",
       "</table>\n"
      ],
      "text/latex": [
       "A data.table: 6 x 19\n",
       "\\begin{tabular}{lllllllllllllllllll}\n",
       " chr & molecular\\_id & TSS & start & end & context & gwas\\_study & method & is\\_imputable & is\\_selected\\_method & rsq\\_cv & pval\\_cv & twas\\_z & twas\\_pval & type & block & region & study\\_context & source\\_file\\\\\n",
       " <int> & <chr> & <int> & <int> & <int> & <chr> & <chr> & <chr> & <lgl> & <lgl> & <dbl> & <dbl> & <dbl> & <dbl> & <chr> & <chr> & <chr> & <chr> & <chr>\\\\\n",
       "\\hline\n",
       "\t 10 & ENSG00000055950 & 100987514 &  99320000 & 102120000 & Knight\\_eQTL\\_brain & Telomere\\_pc1 & enet  & TRUE & FALSE & 0.098757440 & 8.923911e-10 & -2.903662 & 0.003688264 & eQTL & chr10\\_100331627\\_104378781 & chr10\\_100331627\\_104378781 & KNIGHT\\_eQTL\\_pQTL & KNIGHT\\_eQTL\\_pQTL.chr10\\_100331627\\_104378781.twas.tsv.gz\\\\\n",
       "\t 10 & ENSG00000055950 & 100987514 &  99320000 & 102120000 & Knight\\_eQTL\\_brain & Telomere\\_pc1 & lasso & TRUE & FALSE & 0.103370596 & 3.541036e-10 & -2.878534 & 0.003995280 & eQTL & chr10\\_100331627\\_104378781 & chr10\\_100331627\\_104378781 & KNIGHT\\_eQTL\\_pQTL & KNIGHT\\_eQTL\\_pQTL.chr10\\_100331627\\_104378781.twas.tsv.gz\\\\\n",
       "\t 10 & ENSG00000055950 & 100987514 &  99320000 & 102120000 & Knight\\_eQTL\\_brain & Telomere\\_pc1 & mrash & TRUE & FALSE & 0.089177838 & 6.013310e-09 & -2.963834 & 0.003038321 & eQTL & chr10\\_100331627\\_104378781 & chr10\\_100331627\\_104378781 & KNIGHT\\_eQTL\\_pQTL & KNIGHT\\_eQTL\\_pQTL.chr10\\_100331627\\_104378781.twas.tsv.gz\\\\\n",
       "\t 10 & ENSG00000055950 & 100987514 &  99320000 & 102120000 & Knight\\_eQTL\\_brain & Telomere\\_pc1 & susie & TRUE &  TRUE & 0.121638427 & 8.766557e-12 & -2.919076 & 0.003510708 & eQTL & chr10\\_100331627\\_104378781 & chr10\\_100331627\\_104378781 & KNIGHT\\_eQTL\\_pQTL & KNIGHT\\_eQTL\\_pQTL.chr10\\_100331627\\_104378781.twas.tsv.gz\\\\\n",
       "\t 10 & ENSG00000059915 & 102421538 & 101402617 & 103680000 & Knight\\_eQTL\\_brain & Telomere\\_pc1 & enet  & TRUE & FALSE & 0.007872702 & 5.201216e-02 &  2.351818 & 0.018681917 & eQTL & chr10\\_100331627\\_104378781 & chr10\\_100331627\\_104378781 & KNIGHT\\_eQTL\\_pQTL & KNIGHT\\_eQTL\\_pQTL.chr10\\_100331627\\_104378781.twas.tsv.gz\\\\\n",
       "\t 10 & ENSG00000059915 & 102421538 & 101402617 & 103680000 & Knight\\_eQTL\\_brain & Telomere\\_pc1 & lasso & TRUE & FALSE & 0.006195072 & 7.447581e-02 &  2.565091 & 0.010314876 & eQTL & chr10\\_100331627\\_104378781 & chr10\\_100331627\\_104378781 & KNIGHT\\_eQTL\\_pQTL & KNIGHT\\_eQTL\\_pQTL.chr10\\_100331627\\_104378781.twas.tsv.gz\\\\\n",
       "\\end{tabular}\n"
      ],
      "text/markdown": [
       "\n",
       "A data.table: 6 x 19\n",
       "\n",
       "| chr &lt;int&gt; | molecular_id &lt;chr&gt; | TSS &lt;int&gt; | start &lt;int&gt; | end &lt;int&gt; | context &lt;chr&gt; | gwas_study &lt;chr&gt; | method &lt;chr&gt; | is_imputable &lt;lgl&gt; | is_selected_method &lt;lgl&gt; | rsq_cv &lt;dbl&gt; | pval_cv &lt;dbl&gt; | twas_z &lt;dbl&gt; | twas_pval &lt;dbl&gt; | type &lt;chr&gt; | block &lt;chr&gt; | region &lt;chr&gt; | study_context &lt;chr&gt; | source_file &lt;chr&gt; |\n",
       "|---|---|---|---|---|---|---|---|---|---|---|---|---|---|---|---|---|---|---|\n",
       "| 10 | ENSG00000055950 | 100987514 |  99320000 | 102120000 | Knight_eQTL_brain | Telomere_pc1 | enet  | TRUE | FALSE | 0.098757440 | 8.923911e-10 | -2.903662 | 0.003688264 | eQTL | chr10_100331627_104378781 | chr10_100331627_104378781 | KNIGHT_eQTL_pQTL | KNIGHT_eQTL_pQTL.chr10_100331627_104378781.twas.tsv.gz |\n",
       "| 10 | ENSG00000055950 | 100987514 |  99320000 | 102120000 | Knight_eQTL_brain | Telomere_pc1 | lasso | TRUE | FALSE | 0.103370596 | 3.541036e-10 | -2.878534 | 0.003995280 | eQTL | chr10_100331627_104378781 | chr10_100331627_104378781 | KNIGHT_eQTL_pQTL | KNIGHT_eQTL_pQTL.chr10_100331627_104378781.twas.tsv.gz |\n",
       "| 10 | ENSG00000055950 | 100987514 |  99320000 | 102120000 | Knight_eQTL_brain | Telomere_pc1 | mrash | TRUE | FALSE | 0.089177838 | 6.013310e-09 | -2.963834 | 0.003038321 | eQTL | chr10_100331627_104378781 | chr10_100331627_104378781 | KNIGHT_eQTL_pQTL | KNIGHT_eQTL_pQTL.chr10_100331627_104378781.twas.tsv.gz |\n",
       "| 10 | ENSG00000055950 | 100987514 |  99320000 | 102120000 | Knight_eQTL_brain | Telomere_pc1 | susie | TRUE |  TRUE | 0.121638427 | 8.766557e-12 | -2.919076 | 0.003510708 | eQTL | chr10_100331627_104378781 | chr10_100331627_104378781 | KNIGHT_eQTL_pQTL | KNIGHT_eQTL_pQTL.chr10_100331627_104378781.twas.tsv.gz |\n",
       "| 10 | ENSG00000059915 | 102421538 | 101402617 | 103680000 | Knight_eQTL_brain | Telomere_pc1 | enet  | TRUE | FALSE | 0.007872702 | 5.201216e-02 |  2.351818 | 0.018681917 | eQTL | chr10_100331627_104378781 | chr10_100331627_104378781 | KNIGHT_eQTL_pQTL | KNIGHT_eQTL_pQTL.chr10_100331627_104378781.twas.tsv.gz |\n",
       "| 10 | ENSG00000059915 | 102421538 | 101402617 | 103680000 | Knight_eQTL_brain | Telomere_pc1 | lasso | TRUE | FALSE | 0.006195072 | 7.447581e-02 |  2.565091 | 0.010314876 | eQTL | chr10_100331627_104378781 | chr10_100331627_104378781 | KNIGHT_eQTL_pQTL | KNIGHT_eQTL_pQTL.chr10_100331627_104378781.twas.tsv.gz |\n",
       "\n"
      ],
      "text/plain": [
       "  chr molecular_id    TSS       start     end       context          \n",
       "1 10  ENSG00000055950 100987514  99320000 102120000 Knight_eQTL_brain\n",
       "2 10  ENSG00000055950 100987514  99320000 102120000 Knight_eQTL_brain\n",
       "3 10  ENSG00000055950 100987514  99320000 102120000 Knight_eQTL_brain\n",
       "4 10  ENSG00000055950 100987514  99320000 102120000 Knight_eQTL_brain\n",
       "5 10  ENSG00000059915 102421538 101402617 103680000 Knight_eQTL_brain\n",
       "6 10  ENSG00000059915 102421538 101402617 103680000 Knight_eQTL_brain\n",
       "  gwas_study   method is_imputable is_selected_method rsq_cv      pval_cv     \n",
       "1 Telomere_pc1 enet   TRUE         FALSE              0.098757440 8.923911e-10\n",
       "2 Telomere_pc1 lasso  TRUE         FALSE              0.103370596 3.541036e-10\n",
       "3 Telomere_pc1 mrash  TRUE         FALSE              0.089177838 6.013310e-09\n",
       "4 Telomere_pc1 susie  TRUE          TRUE              0.121638427 8.766557e-12\n",
       "5 Telomere_pc1 enet   TRUE         FALSE              0.007872702 5.201216e-02\n",
       "6 Telomere_pc1 lasso  TRUE         FALSE              0.006195072 7.447581e-02\n",
       "  twas_z    twas_pval   type block                    \n",
       "1 -2.903662 0.003688264 eQTL chr10_100331627_104378781\n",
       "2 -2.878534 0.003995280 eQTL chr10_100331627_104378781\n",
       "3 -2.963834 0.003038321 eQTL chr10_100331627_104378781\n",
       "4 -2.919076 0.003510708 eQTL chr10_100331627_104378781\n",
       "5  2.351818 0.018681917 eQTL chr10_100331627_104378781\n",
       "6  2.565091 0.010314876 eQTL chr10_100331627_104378781\n",
       "  region                    study_context   \n",
       "1 chr10_100331627_104378781 KNIGHT_eQTL_pQTL\n",
       "2 chr10_100331627_104378781 KNIGHT_eQTL_pQTL\n",
       "3 chr10_100331627_104378781 KNIGHT_eQTL_pQTL\n",
       "4 chr10_100331627_104378781 KNIGHT_eQTL_pQTL\n",
       "5 chr10_100331627_104378781 KNIGHT_eQTL_pQTL\n",
       "6 chr10_100331627_104378781 KNIGHT_eQTL_pQTL\n",
       "  source_file                                           \n",
       "1 KNIGHT_eQTL_pQTL.chr10_100331627_104378781.twas.tsv.gz\n",
       "2 KNIGHT_eQTL_pQTL.chr10_100331627_104378781.twas.tsv.gz\n",
       "3 KNIGHT_eQTL_pQTL.chr10_100331627_104378781.twas.tsv.gz\n",
       "4 KNIGHT_eQTL_pQTL.chr10_100331627_104378781.twas.tsv.gz\n",
       "5 KNIGHT_eQTL_pQTL.chr10_100331627_104378781.twas.tsv.gz\n",
       "6 KNIGHT_eQTL_pQTL.chr10_100331627_104378781.twas.tsv.gz"
      ]
     },
     "metadata": {},
     "output_type": "display_data"
    },
    {
     "data": {
      "text/html": [
       "<style>\n",
       ".list-inline {list-style: none; margin:0; padding: 0}\n",
       ".list-inline>li {display: inline-block}\n",
       ".list-inline>li:not(:last-child)::after {content: \"\\00b7\"; padding: 0 .5ex}\n",
       "</style>\n",
       "<ol class=list-inline><li>922426</li><li>19</li></ol>\n"
      ],
      "text/latex": [
       "\\begin{enumerate*}\n",
       "\\item 922426\n",
       "\\item 19\n",
       "\\end{enumerate*}\n"
      ],
      "text/markdown": [
       "1. 922426\n",
       "2. 19\n",
       "\n",
       "\n"
      ],
      "text/plain": [
       "[1] 922426     19"
      ]
     },
     "metadata": {},
     "output_type": "display_data"
    }
   ],
   "source": [
    "head(TL1)\n",
    "dim(TL1)"
   ]
  },
  {
   "cell_type": "code",
   "execution_count": 84,
   "id": "1f1cc928-9879-4aa6-a485-4b2dbccc5443",
   "metadata": {},
   "outputs": [
    {
     "data": {
      "text/html": [
       "<style>\n",
       ".list-inline {list-style: none; margin:0; padding: 0}\n",
       ".list-inline>li {display: inline-block}\n",
       ".list-inline>li:not(:last-child)::after {content: \"\\00b7\"; padding: 0 .5ex}\n",
       "</style>\n",
       "<ol class=list-inline><li>922426</li><li>19</li></ol>\n"
      ],
      "text/latex": [
       "\\begin{enumerate*}\n",
       "\\item 922426\n",
       "\\item 19\n",
       "\\end{enumerate*}\n"
      ],
      "text/markdown": [
       "1. 922426\n",
       "2. 19\n",
       "\n",
       "\n"
      ],
      "text/plain": [
       "[1] 922426     19"
      ]
     },
     "metadata": {},
     "output_type": "display_data"
    }
   ],
   "source": [
    "dim(unique(TL1))"
   ]
  },
  {
   "cell_type": "code",
   "execution_count": 85,
   "id": "658ebf95-eea0-4b5b-8dbb-09d0dcf3fe71",
   "metadata": {},
   "outputs": [
    {
     "data": {
      "text/html": [
       "582"
      ],
      "text/latex": [
       "582"
      ],
      "text/markdown": [
       "582"
      ],
      "text/plain": [
       "[1] 582"
      ]
     },
     "metadata": {},
     "output_type": "display_data"
    }
   ],
   "source": [
    "sig_TL1 = TL1 |> filter(is_selected_method, twas_pval_bonf < 0.05) \n",
    "length(unique(sig_TL1$molecular_id))"
   ]
  },
  {
   "cell_type": "code",
   "execution_count": 86,
   "id": "1a38f750-187f-4047-b41d-e315348931f9",
   "metadata": {},
   "outputs": [],
   "source": [
    "TL1_gene_list = sig_TL1 |> mutate(`#chr` = paste0(\"chr\", chr), gene_id = molecular_id)|>select(`#chr`, start, end, gene_id) |> unique()"
   ]
  },
  {
   "cell_type": "code",
   "execution_count": 87,
   "id": "27b4c66e-4474-4d16-b90e-52ccbda1430c",
   "metadata": {},
   "outputs": [
    {
     "data": {
      "text/html": [
       "<style>\n",
       ".list-inline {list-style: none; margin:0; padding: 0}\n",
       ".list-inline>li {display: inline-block}\n",
       ".list-inline>li:not(:last-child)::after {content: \"\\00b7\"; padding: 0 .5ex}\n",
       "</style>\n",
       "<ol class=list-inline><li>582</li><li>4</li></ol>\n"
      ],
      "text/latex": [
       "\\begin{enumerate*}\n",
       "\\item 582\n",
       "\\item 4\n",
       "\\end{enumerate*}\n"
      ],
      "text/markdown": [
       "1. 582\n",
       "2. 4\n",
       "\n",
       "\n"
      ],
      "text/plain": [
       "[1] 582   4"
      ]
     },
     "metadata": {},
     "output_type": "display_data"
    }
   ],
   "source": [
    "dim(TL1_gene_list)"
   ]
  },
  {
   "cell_type": "code",
   "execution_count": 88,
   "id": "1e1d83f4-68db-49e2-adc1-ce3e6c85c432",
   "metadata": {},
   "outputs": [],
   "source": [
    "Aging_QTL_gene = fread(\"~/project/image_QTL/twas/annotated_Aging_gene.tsv\")\n"
   ]
  },
  {
   "cell_type": "code",
   "execution_count": 89,
   "id": "b97ba062-f7f2-4bce-99cb-17994da2538c",
   "metadata": {},
   "outputs": [],
   "source": [
    "TL1_QTL_gene = Aging_QTL_gene |> filter(str_detect(event_ID, \"Telomere_pc1\")) |> select(-strand,-event_ID)\n",
    "                                        "
   ]
  },
  {
   "cell_type": "code",
   "execution_count": 90,
   "id": "c3a2af41-367f-43cd-92c3-1eaedf247a3f",
   "metadata": {},
   "outputs": [],
   "source": [
    "TL1_gene = bind_rows(TL1_gene_list, TL1_QTL_gene)"
   ]
  },
  {
   "cell_type": "code",
   "execution_count": 91,
   "id": "c32bb538-8348-4107-b96a-32dc6f4f4ea1",
   "metadata": {},
   "outputs": [],
   "source": [
    "fwrite(TL1_gene, \"TL1_gene_list.tsv\", sep = '\\t')"
   ]
  },
  {
   "cell_type": "markdown",
   "id": "bd1824d1-eb6c-431f-8c3f-c4abe5ad1620",
   "metadata": {},
   "source": [
    "## image_AD1"
   ]
  },
  {
   "cell_type": "code",
   "execution_count": 169,
   "id": "3964baa3-326e-4964-a149-439a95f47d33",
   "metadata": {},
   "outputs": [],
   "source": [
    "image_AD1 <- fread(\"~/project/image_QTL/twas/multiple_testing/image_AD1_twas_bonff.bonf_corrected.tsv.gz\")"
   ]
  },
  {
   "cell_type": "code",
   "execution_count": 170,
   "id": "3f87e271-bfbb-47e7-8a8e-3326c69a7a13",
   "metadata": {},
   "outputs": [
    {
     "data": {
      "text/html": [
       "<table class=\"dataframe\">\n",
       "<caption>A data.table: 6 x 22</caption>\n",
       "<thead>\n",
       "\t<tr><th scope=col>gwas_study</th><th scope=col>chr</th><th scope=col>molecular_id</th><th scope=col>TSS</th><th scope=col>start</th><th scope=col>end</th><th scope=col>context</th><th scope=col>method</th><th scope=col>is_imputable</th><th scope=col>is_selected_method</th><th scope=col>...</th><th scope=col>twas_z</th><th scope=col>twas_pval</th><th scope=col>type</th><th scope=col>block</th><th scope=col>region</th><th scope=col>study_context</th><th scope=col>source_file</th><th scope=col>gene_id</th><th scope=col>N</th><th scope=col>twas_pval_bonf</th></tr>\n",
       "\t<tr><th scope=col>&lt;chr&gt;</th><th scope=col>&lt;int&gt;</th><th scope=col>&lt;chr&gt;</th><th scope=col>&lt;int&gt;</th><th scope=col>&lt;int&gt;</th><th scope=col>&lt;int&gt;</th><th scope=col>&lt;chr&gt;</th><th scope=col>&lt;chr&gt;</th><th scope=col>&lt;lgl&gt;</th><th scope=col>&lt;lgl&gt;</th><th scope=col>...</th><th scope=col>&lt;dbl&gt;</th><th scope=col>&lt;dbl&gt;</th><th scope=col>&lt;chr&gt;</th><th scope=col>&lt;chr&gt;</th><th scope=col>&lt;chr&gt;</th><th scope=col>&lt;chr&gt;</th><th scope=col>&lt;chr&gt;</th><th scope=col>&lt;chr&gt;</th><th scope=col>&lt;int&gt;</th><th scope=col>&lt;dbl&gt;</th></tr>\n",
       "</thead>\n",
       "<tbody>\n",
       "\t<tr><td>image_AD1</td><td>10</td><td>ENSG00000055950</td><td>100987514</td><td> 99320000</td><td>102120000</td><td>Knight_eQTL_brain</td><td>enet </td><td>TRUE</td><td>FALSE</td><td>...</td><td> 0.4604784</td><td>0.6451729061</td><td>eQTL</td><td>chr10_100331627_104378781</td><td>chr10_100331627_104378781</td><td>KNIGHT_eQTL_pQTL</td><td>KNIGHT_eQTL_pQTL.chr10_100331627_104378781.twas.tsv.gz</td><td>ENSG00000055950</td><td>17287</td><td>1</td></tr>\n",
       "\t<tr><td>image_AD1</td><td>10</td><td>ENSG00000055950</td><td>100987514</td><td> 99320000</td><td>102120000</td><td>Knight_eQTL_brain</td><td>lasso</td><td>TRUE</td><td>FALSE</td><td>...</td><td> 0.4628714</td><td>0.6434565734</td><td>eQTL</td><td>chr10_100331627_104378781</td><td>chr10_100331627_104378781</td><td>KNIGHT_eQTL_pQTL</td><td>KNIGHT_eQTL_pQTL.chr10_100331627_104378781.twas.tsv.gz</td><td>ENSG00000055950</td><td>17287</td><td>1</td></tr>\n",
       "\t<tr><td>image_AD1</td><td>10</td><td>ENSG00000055950</td><td>100987514</td><td> 99320000</td><td>102120000</td><td>Knight_eQTL_brain</td><td>mrash</td><td>TRUE</td><td>FALSE</td><td>...</td><td> 0.6389774</td><td>0.5228376549</td><td>eQTL</td><td>chr10_100331627_104378781</td><td>chr10_100331627_104378781</td><td>KNIGHT_eQTL_pQTL</td><td>KNIGHT_eQTL_pQTL.chr10_100331627_104378781.twas.tsv.gz</td><td>ENSG00000055950</td><td>17287</td><td>1</td></tr>\n",
       "\t<tr><td>image_AD1</td><td>10</td><td>ENSG00000055950</td><td>100987514</td><td> 99320000</td><td>102120000</td><td>Knight_eQTL_brain</td><td>susie</td><td>TRUE</td><td> TRUE</td><td>...</td><td> 0.4641349</td><td>0.6425511004</td><td>eQTL</td><td>chr10_100331627_104378781</td><td>chr10_100331627_104378781</td><td>KNIGHT_eQTL_pQTL</td><td>KNIGHT_eQTL_pQTL.chr10_100331627_104378781.twas.tsv.gz</td><td>ENSG00000055950</td><td>17287</td><td>1</td></tr>\n",
       "\t<tr><td>image_AD1</td><td>10</td><td>ENSG00000059915</td><td>102421538</td><td>101402617</td><td>103680000</td><td>Knight_eQTL_brain</td><td>enet </td><td>TRUE</td><td>FALSE</td><td>...</td><td>-3.5326758</td><td>0.0004113766</td><td>eQTL</td><td>chr10_100331627_104378781</td><td>chr10_100331627_104378781</td><td>KNIGHT_eQTL_pQTL</td><td>KNIGHT_eQTL_pQTL.chr10_100331627_104378781.twas.tsv.gz</td><td>ENSG00000059915</td><td>17287</td><td>1</td></tr>\n",
       "\t<tr><td>image_AD1</td><td>10</td><td>ENSG00000059915</td><td>102421538</td><td>101402617</td><td>103680000</td><td>Knight_eQTL_brain</td><td>lasso</td><td>TRUE</td><td>FALSE</td><td>...</td><td>-3.4892189</td><td>0.0004844343</td><td>eQTL</td><td>chr10_100331627_104378781</td><td>chr10_100331627_104378781</td><td>KNIGHT_eQTL_pQTL</td><td>KNIGHT_eQTL_pQTL.chr10_100331627_104378781.twas.tsv.gz</td><td>ENSG00000059915</td><td>17287</td><td>1</td></tr>\n",
       "</tbody>\n",
       "</table>\n"
      ],
      "text/latex": [
       "A data.table: 6 x 22\n",
       "\\begin{tabular}{lllllllllllllllllllll}\n",
       " gwas\\_study & chr & molecular\\_id & TSS & start & end & context & method & is\\_imputable & is\\_selected\\_method & ... & twas\\_z & twas\\_pval & type & block & region & study\\_context & source\\_file & gene\\_id & N & twas\\_pval\\_bonf\\\\\n",
       " <chr> & <int> & <chr> & <int> & <int> & <int> & <chr> & <chr> & <lgl> & <lgl> & ... & <dbl> & <dbl> & <chr> & <chr> & <chr> & <chr> & <chr> & <chr> & <int> & <dbl>\\\\\n",
       "\\hline\n",
       "\t image\\_AD1 & 10 & ENSG00000055950 & 100987514 &  99320000 & 102120000 & Knight\\_eQTL\\_brain & enet  & TRUE & FALSE & ... &  0.4604784 & 0.6451729061 & eQTL & chr10\\_100331627\\_104378781 & chr10\\_100331627\\_104378781 & KNIGHT\\_eQTL\\_pQTL & KNIGHT\\_eQTL\\_pQTL.chr10\\_100331627\\_104378781.twas.tsv.gz & ENSG00000055950 & 17287 & 1\\\\\n",
       "\t image\\_AD1 & 10 & ENSG00000055950 & 100987514 &  99320000 & 102120000 & Knight\\_eQTL\\_brain & lasso & TRUE & FALSE & ... &  0.4628714 & 0.6434565734 & eQTL & chr10\\_100331627\\_104378781 & chr10\\_100331627\\_104378781 & KNIGHT\\_eQTL\\_pQTL & KNIGHT\\_eQTL\\_pQTL.chr10\\_100331627\\_104378781.twas.tsv.gz & ENSG00000055950 & 17287 & 1\\\\\n",
       "\t image\\_AD1 & 10 & ENSG00000055950 & 100987514 &  99320000 & 102120000 & Knight\\_eQTL\\_brain & mrash & TRUE & FALSE & ... &  0.6389774 & 0.5228376549 & eQTL & chr10\\_100331627\\_104378781 & chr10\\_100331627\\_104378781 & KNIGHT\\_eQTL\\_pQTL & KNIGHT\\_eQTL\\_pQTL.chr10\\_100331627\\_104378781.twas.tsv.gz & ENSG00000055950 & 17287 & 1\\\\\n",
       "\t image\\_AD1 & 10 & ENSG00000055950 & 100987514 &  99320000 & 102120000 & Knight\\_eQTL\\_brain & susie & TRUE &  TRUE & ... &  0.4641349 & 0.6425511004 & eQTL & chr10\\_100331627\\_104378781 & chr10\\_100331627\\_104378781 & KNIGHT\\_eQTL\\_pQTL & KNIGHT\\_eQTL\\_pQTL.chr10\\_100331627\\_104378781.twas.tsv.gz & ENSG00000055950 & 17287 & 1\\\\\n",
       "\t image\\_AD1 & 10 & ENSG00000059915 & 102421538 & 101402617 & 103680000 & Knight\\_eQTL\\_brain & enet  & TRUE & FALSE & ... & -3.5326758 & 0.0004113766 & eQTL & chr10\\_100331627\\_104378781 & chr10\\_100331627\\_104378781 & KNIGHT\\_eQTL\\_pQTL & KNIGHT\\_eQTL\\_pQTL.chr10\\_100331627\\_104378781.twas.tsv.gz & ENSG00000059915 & 17287 & 1\\\\\n",
       "\t image\\_AD1 & 10 & ENSG00000059915 & 102421538 & 101402617 & 103680000 & Knight\\_eQTL\\_brain & lasso & TRUE & FALSE & ... & -3.4892189 & 0.0004844343 & eQTL & chr10\\_100331627\\_104378781 & chr10\\_100331627\\_104378781 & KNIGHT\\_eQTL\\_pQTL & KNIGHT\\_eQTL\\_pQTL.chr10\\_100331627\\_104378781.twas.tsv.gz & ENSG00000059915 & 17287 & 1\\\\\n",
       "\\end{tabular}\n"
      ],
      "text/markdown": [
       "\n",
       "A data.table: 6 x 22\n",
       "\n",
       "| gwas_study &lt;chr&gt; | chr &lt;int&gt; | molecular_id &lt;chr&gt; | TSS &lt;int&gt; | start &lt;int&gt; | end &lt;int&gt; | context &lt;chr&gt; | method &lt;chr&gt; | is_imputable &lt;lgl&gt; | is_selected_method &lt;lgl&gt; | ... ... | twas_z &lt;dbl&gt; | twas_pval &lt;dbl&gt; | type &lt;chr&gt; | block &lt;chr&gt; | region &lt;chr&gt; | study_context &lt;chr&gt; | source_file &lt;chr&gt; | gene_id &lt;chr&gt; | N &lt;int&gt; | twas_pval_bonf &lt;dbl&gt; |\n",
       "|---|---|---|---|---|---|---|---|---|---|---|---|---|---|---|---|---|---|---|---|---|\n",
       "| image_AD1 | 10 | ENSG00000055950 | 100987514 |  99320000 | 102120000 | Knight_eQTL_brain | enet  | TRUE | FALSE | ... |  0.4604784 | 0.6451729061 | eQTL | chr10_100331627_104378781 | chr10_100331627_104378781 | KNIGHT_eQTL_pQTL | KNIGHT_eQTL_pQTL.chr10_100331627_104378781.twas.tsv.gz | ENSG00000055950 | 17287 | 1 |\n",
       "| image_AD1 | 10 | ENSG00000055950 | 100987514 |  99320000 | 102120000 | Knight_eQTL_brain | lasso | TRUE | FALSE | ... |  0.4628714 | 0.6434565734 | eQTL | chr10_100331627_104378781 | chr10_100331627_104378781 | KNIGHT_eQTL_pQTL | KNIGHT_eQTL_pQTL.chr10_100331627_104378781.twas.tsv.gz | ENSG00000055950 | 17287 | 1 |\n",
       "| image_AD1 | 10 | ENSG00000055950 | 100987514 |  99320000 | 102120000 | Knight_eQTL_brain | mrash | TRUE | FALSE | ... |  0.6389774 | 0.5228376549 | eQTL | chr10_100331627_104378781 | chr10_100331627_104378781 | KNIGHT_eQTL_pQTL | KNIGHT_eQTL_pQTL.chr10_100331627_104378781.twas.tsv.gz | ENSG00000055950 | 17287 | 1 |\n",
       "| image_AD1 | 10 | ENSG00000055950 | 100987514 |  99320000 | 102120000 | Knight_eQTL_brain | susie | TRUE |  TRUE | ... |  0.4641349 | 0.6425511004 | eQTL | chr10_100331627_104378781 | chr10_100331627_104378781 | KNIGHT_eQTL_pQTL | KNIGHT_eQTL_pQTL.chr10_100331627_104378781.twas.tsv.gz | ENSG00000055950 | 17287 | 1 |\n",
       "| image_AD1 | 10 | ENSG00000059915 | 102421538 | 101402617 | 103680000 | Knight_eQTL_brain | enet  | TRUE | FALSE | ... | -3.5326758 | 0.0004113766 | eQTL | chr10_100331627_104378781 | chr10_100331627_104378781 | KNIGHT_eQTL_pQTL | KNIGHT_eQTL_pQTL.chr10_100331627_104378781.twas.tsv.gz | ENSG00000059915 | 17287 | 1 |\n",
       "| image_AD1 | 10 | ENSG00000059915 | 102421538 | 101402617 | 103680000 | Knight_eQTL_brain | lasso | TRUE | FALSE | ... | -3.4892189 | 0.0004844343 | eQTL | chr10_100331627_104378781 | chr10_100331627_104378781 | KNIGHT_eQTL_pQTL | KNIGHT_eQTL_pQTL.chr10_100331627_104378781.twas.tsv.gz | ENSG00000059915 | 17287 | 1 |\n",
       "\n"
      ],
      "text/plain": [
       "  gwas_study chr molecular_id    TSS       start     end      \n",
       "1 image_AD1  10  ENSG00000055950 100987514  99320000 102120000\n",
       "2 image_AD1  10  ENSG00000055950 100987514  99320000 102120000\n",
       "3 image_AD1  10  ENSG00000055950 100987514  99320000 102120000\n",
       "4 image_AD1  10  ENSG00000055950 100987514  99320000 102120000\n",
       "5 image_AD1  10  ENSG00000059915 102421538 101402617 103680000\n",
       "6 image_AD1  10  ENSG00000059915 102421538 101402617 103680000\n",
       "  context           method is_imputable is_selected_method ... twas_z    \n",
       "1 Knight_eQTL_brain enet   TRUE         FALSE              ...  0.4604784\n",
       "2 Knight_eQTL_brain lasso  TRUE         FALSE              ...  0.4628714\n",
       "3 Knight_eQTL_brain mrash  TRUE         FALSE              ...  0.6389774\n",
       "4 Knight_eQTL_brain susie  TRUE          TRUE              ...  0.4641349\n",
       "5 Knight_eQTL_brain enet   TRUE         FALSE              ... -3.5326758\n",
       "6 Knight_eQTL_brain lasso  TRUE         FALSE              ... -3.4892189\n",
       "  twas_pval    type block                     region                   \n",
       "1 0.6451729061 eQTL chr10_100331627_104378781 chr10_100331627_104378781\n",
       "2 0.6434565734 eQTL chr10_100331627_104378781 chr10_100331627_104378781\n",
       "3 0.5228376549 eQTL chr10_100331627_104378781 chr10_100331627_104378781\n",
       "4 0.6425511004 eQTL chr10_100331627_104378781 chr10_100331627_104378781\n",
       "5 0.0004113766 eQTL chr10_100331627_104378781 chr10_100331627_104378781\n",
       "6 0.0004844343 eQTL chr10_100331627_104378781 chr10_100331627_104378781\n",
       "  study_context    source_file                                           \n",
       "1 KNIGHT_eQTL_pQTL KNIGHT_eQTL_pQTL.chr10_100331627_104378781.twas.tsv.gz\n",
       "2 KNIGHT_eQTL_pQTL KNIGHT_eQTL_pQTL.chr10_100331627_104378781.twas.tsv.gz\n",
       "3 KNIGHT_eQTL_pQTL KNIGHT_eQTL_pQTL.chr10_100331627_104378781.twas.tsv.gz\n",
       "4 KNIGHT_eQTL_pQTL KNIGHT_eQTL_pQTL.chr10_100331627_104378781.twas.tsv.gz\n",
       "5 KNIGHT_eQTL_pQTL KNIGHT_eQTL_pQTL.chr10_100331627_104378781.twas.tsv.gz\n",
       "6 KNIGHT_eQTL_pQTL KNIGHT_eQTL_pQTL.chr10_100331627_104378781.twas.tsv.gz\n",
       "  gene_id         N     twas_pval_bonf\n",
       "1 ENSG00000055950 17287 1             \n",
       "2 ENSG00000055950 17287 1             \n",
       "3 ENSG00000055950 17287 1             \n",
       "4 ENSG00000055950 17287 1             \n",
       "5 ENSG00000059915 17287 1             \n",
       "6 ENSG00000059915 17287 1             "
      ]
     },
     "metadata": {},
     "output_type": "display_data"
    },
    {
     "data": {
      "text/html": [
       "<style>\n",
       ".list-inline {list-style: none; margin:0; padding: 0}\n",
       ".list-inline>li {display: inline-block}\n",
       ".list-inline>li:not(:last-child)::after {content: \"\\00b7\"; padding: 0 .5ex}\n",
       "</style>\n",
       "<ol class=list-inline><li>927133</li><li>22</li></ol>\n"
      ],
      "text/latex": [
       "\\begin{enumerate*}\n",
       "\\item 927133\n",
       "\\item 22\n",
       "\\end{enumerate*}\n"
      ],
      "text/markdown": [
       "1. 927133\n",
       "2. 22\n",
       "\n",
       "\n"
      ],
      "text/plain": [
       "[1] 927133     22"
      ]
     },
     "metadata": {},
     "output_type": "display_data"
    }
   ],
   "source": [
    "head(image_AD1)\n",
    "dim(image_AD1)"
   ]
  },
  {
   "cell_type": "code",
   "execution_count": 171,
   "id": "9df0a559-d15b-4fbd-8ac8-e3ae47f6e077",
   "metadata": {},
   "outputs": [
    {
     "data": {
      "text/html": [
       "44"
      ],
      "text/latex": [
       "44"
      ],
      "text/markdown": [
       "44"
      ],
      "text/plain": [
       "[1] 44"
      ]
     },
     "metadata": {},
     "output_type": "display_data"
    }
   ],
   "source": [
    "sig_image_AD1 = image_AD1 |> filter(is_selected_method, twas_pval_bonf < 0.05) \n",
    "length(unique(sig_image_AD1$molecular_id))"
   ]
  },
  {
   "cell_type": "code",
   "execution_count": 172,
   "id": "e87369c4-b692-4034-bf15-d68d5f25cfaf",
   "metadata": {},
   "outputs": [],
   "source": [
    "image_AD1_gene_list = sig_image_AD1 |> mutate(`#chr` = paste0(\"chr\", chr), gene_id = molecular_id)|>select(`#chr`, start, end, gene_id) |> unique()"
   ]
  },
  {
   "cell_type": "code",
   "execution_count": 173,
   "id": "5ff36960-63cb-4f1f-a86e-d3ee7ef62359",
   "metadata": {},
   "outputs": [
    {
     "data": {
      "text/html": [
       "<style>\n",
       ".list-inline {list-style: none; margin:0; padding: 0}\n",
       ".list-inline>li {display: inline-block}\n",
       ".list-inline>li:not(:last-child)::after {content: \"\\00b7\"; padding: 0 .5ex}\n",
       "</style>\n",
       "<ol class=list-inline><li>44</li><li>4</li></ol>\n"
      ],
      "text/latex": [
       "\\begin{enumerate*}\n",
       "\\item 44\n",
       "\\item 4\n",
       "\\end{enumerate*}\n"
      ],
      "text/markdown": [
       "1. 44\n",
       "2. 4\n",
       "\n",
       "\n"
      ],
      "text/plain": [
       "[1] 44  4"
      ]
     },
     "metadata": {},
     "output_type": "display_data"
    }
   ],
   "source": [
    "dim(image_AD1_gene_list)"
   ]
  },
  {
   "cell_type": "code",
   "execution_count": 174,
   "id": "b0491346-d021-426d-abf3-3cf6c284f9fd",
   "metadata": {},
   "outputs": [],
   "source": [
    "DNE_QTL_gene = fread(\"~/project/image_QTL/twas/annotated_dne_gene.tsv\")\n"
   ]
  },
  {
   "cell_type": "code",
   "execution_count": 175,
   "id": "c1b78e0f-7a73-40a8-b3e8-095157c677e3",
   "metadata": {},
   "outputs": [],
   "source": [
    "image_AD1_QTL_gene = DNE_QTL_gene |> filter(str_detect(event_ID, \"image_AD1\")) |> select(-strand,-event_ID)\n",
    "                                        "
   ]
  },
  {
   "cell_type": "code",
   "execution_count": 176,
   "id": "709d2cda-b58f-4562-86f5-f0b7e07cb522",
   "metadata": {},
   "outputs": [],
   "source": [
    "image_AD1_gene = bind_rows(image_AD1_gene_list, image_AD1_QTL_gene)"
   ]
  },
  {
   "cell_type": "code",
   "execution_count": 177,
   "id": "bbb9585e-93f5-4bce-adfd-73a63d2d2b9c",
   "metadata": {},
   "outputs": [],
   "source": [
    "fwrite(image_AD1_gene, \"image_AD1_gene_list.tsv\", sep = '\\t')"
   ]
  },
  {
   "cell_type": "markdown",
   "id": "1fb9e1e2-6d3c-4985-a7ec-c00f3e5229ed",
   "metadata": {},
   "source": [
    "## image_AD2"
   ]
  },
  {
   "cell_type": "code",
   "execution_count": 179,
   "id": "53a88df5-702b-495b-8234-ea955657f6f6",
   "metadata": {},
   "outputs": [],
   "source": [
    "image_AD2 <- fread(\"~/project/image_QTL/twas/multiple_testing/image_AD2_twas_bonff.bonf_corrected.tsv.gz\")"
   ]
  },
  {
   "cell_type": "code",
   "execution_count": 180,
   "id": "ea19cdb5-658b-4233-921d-7d07fdec8e62",
   "metadata": {},
   "outputs": [
    {
     "data": {
      "text/html": [
       "<table class=\"dataframe\">\n",
       "<caption>A data.table: 6 x 22</caption>\n",
       "<thead>\n",
       "\t<tr><th scope=col>gwas_study</th><th scope=col>chr</th><th scope=col>molecular_id</th><th scope=col>TSS</th><th scope=col>start</th><th scope=col>end</th><th scope=col>context</th><th scope=col>method</th><th scope=col>is_imputable</th><th scope=col>is_selected_method</th><th scope=col>...</th><th scope=col>twas_z</th><th scope=col>twas_pval</th><th scope=col>type</th><th scope=col>block</th><th scope=col>region</th><th scope=col>study_context</th><th scope=col>source_file</th><th scope=col>gene_id</th><th scope=col>N</th><th scope=col>twas_pval_bonf</th></tr>\n",
       "\t<tr><th scope=col>&lt;chr&gt;</th><th scope=col>&lt;int&gt;</th><th scope=col>&lt;chr&gt;</th><th scope=col>&lt;int&gt;</th><th scope=col>&lt;int&gt;</th><th scope=col>&lt;int&gt;</th><th scope=col>&lt;chr&gt;</th><th scope=col>&lt;chr&gt;</th><th scope=col>&lt;lgl&gt;</th><th scope=col>&lt;lgl&gt;</th><th scope=col>...</th><th scope=col>&lt;dbl&gt;</th><th scope=col>&lt;dbl&gt;</th><th scope=col>&lt;chr&gt;</th><th scope=col>&lt;chr&gt;</th><th scope=col>&lt;chr&gt;</th><th scope=col>&lt;chr&gt;</th><th scope=col>&lt;chr&gt;</th><th scope=col>&lt;chr&gt;</th><th scope=col>&lt;int&gt;</th><th scope=col>&lt;dbl&gt;</th></tr>\n",
       "</thead>\n",
       "<tbody>\n",
       "\t<tr><td>image_AD2</td><td>10</td><td>ENSG00000055950</td><td>100987514</td><td> 99320000</td><td>102120000</td><td>Knight_eQTL_brain</td><td>enet </td><td>TRUE</td><td>FALSE</td><td>...</td><td>2.492697</td><td>0.01267771</td><td>eQTL</td><td>chr10_100331627_104378781</td><td>chr10_100331627_104378781</td><td>KNIGHT_eQTL_pQTL</td><td>KNIGHT_eQTL_pQTL.chr10_100331627_104378781.twas.tsv.gz</td><td>ENSG00000055950</td><td>17252</td><td>1</td></tr>\n",
       "\t<tr><td>image_AD2</td><td>10</td><td>ENSG00000055950</td><td>100987514</td><td> 99320000</td><td>102120000</td><td>Knight_eQTL_brain</td><td>lasso</td><td>TRUE</td><td>FALSE</td><td>...</td><td>2.475217</td><td>0.01331554</td><td>eQTL</td><td>chr10_100331627_104378781</td><td>chr10_100331627_104378781</td><td>KNIGHT_eQTL_pQTL</td><td>KNIGHT_eQTL_pQTL.chr10_100331627_104378781.twas.tsv.gz</td><td>ENSG00000055950</td><td>17252</td><td>1</td></tr>\n",
       "\t<tr><td>image_AD2</td><td>10</td><td>ENSG00000055950</td><td>100987514</td><td> 99320000</td><td>102120000</td><td>Knight_eQTL_brain</td><td>mrash</td><td>TRUE</td><td>FALSE</td><td>...</td><td>2.493315</td><td>0.01265565</td><td>eQTL</td><td>chr10_100331627_104378781</td><td>chr10_100331627_104378781</td><td>KNIGHT_eQTL_pQTL</td><td>KNIGHT_eQTL_pQTL.chr10_100331627_104378781.twas.tsv.gz</td><td>ENSG00000055950</td><td>17252</td><td>1</td></tr>\n",
       "\t<tr><td>image_AD2</td><td>10</td><td>ENSG00000055950</td><td>100987514</td><td> 99320000</td><td>102120000</td><td>Knight_eQTL_brain</td><td>susie</td><td>TRUE</td><td> TRUE</td><td>...</td><td>2.505183</td><td>0.01223882</td><td>eQTL</td><td>chr10_100331627_104378781</td><td>chr10_100331627_104378781</td><td>KNIGHT_eQTL_pQTL</td><td>KNIGHT_eQTL_pQTL.chr10_100331627_104378781.twas.tsv.gz</td><td>ENSG00000055950</td><td>17252</td><td>1</td></tr>\n",
       "\t<tr><td>image_AD2</td><td>10</td><td>ENSG00000059915</td><td>102421538</td><td>101402617</td><td>103680000</td><td>Knight_eQTL_brain</td><td>enet </td><td>TRUE</td><td>FALSE</td><td>...</td><td>1.830248</td><td>0.06721286</td><td>eQTL</td><td>chr10_100331627_104378781</td><td>chr10_100331627_104378781</td><td>KNIGHT_eQTL_pQTL</td><td>KNIGHT_eQTL_pQTL.chr10_100331627_104378781.twas.tsv.gz</td><td>ENSG00000059915</td><td>17252</td><td>1</td></tr>\n",
       "\t<tr><td>image_AD2</td><td>10</td><td>ENSG00000059915</td><td>102421538</td><td>101402617</td><td>103680000</td><td>Knight_eQTL_brain</td><td>lasso</td><td>TRUE</td><td>FALSE</td><td>...</td><td>1.827701</td><td>0.06759438</td><td>eQTL</td><td>chr10_100331627_104378781</td><td>chr10_100331627_104378781</td><td>KNIGHT_eQTL_pQTL</td><td>KNIGHT_eQTL_pQTL.chr10_100331627_104378781.twas.tsv.gz</td><td>ENSG00000059915</td><td>17252</td><td>1</td></tr>\n",
       "</tbody>\n",
       "</table>\n"
      ],
      "text/latex": [
       "A data.table: 6 x 22\n",
       "\\begin{tabular}{lllllllllllllllllllll}\n",
       " gwas\\_study & chr & molecular\\_id & TSS & start & end & context & method & is\\_imputable & is\\_selected\\_method & ... & twas\\_z & twas\\_pval & type & block & region & study\\_context & source\\_file & gene\\_id & N & twas\\_pval\\_bonf\\\\\n",
       " <chr> & <int> & <chr> & <int> & <int> & <int> & <chr> & <chr> & <lgl> & <lgl> & ... & <dbl> & <dbl> & <chr> & <chr> & <chr> & <chr> & <chr> & <chr> & <int> & <dbl>\\\\\n",
       "\\hline\n",
       "\t image\\_AD2 & 10 & ENSG00000055950 & 100987514 &  99320000 & 102120000 & Knight\\_eQTL\\_brain & enet  & TRUE & FALSE & ... & 2.492697 & 0.01267771 & eQTL & chr10\\_100331627\\_104378781 & chr10\\_100331627\\_104378781 & KNIGHT\\_eQTL\\_pQTL & KNIGHT\\_eQTL\\_pQTL.chr10\\_100331627\\_104378781.twas.tsv.gz & ENSG00000055950 & 17252 & 1\\\\\n",
       "\t image\\_AD2 & 10 & ENSG00000055950 & 100987514 &  99320000 & 102120000 & Knight\\_eQTL\\_brain & lasso & TRUE & FALSE & ... & 2.475217 & 0.01331554 & eQTL & chr10\\_100331627\\_104378781 & chr10\\_100331627\\_104378781 & KNIGHT\\_eQTL\\_pQTL & KNIGHT\\_eQTL\\_pQTL.chr10\\_100331627\\_104378781.twas.tsv.gz & ENSG00000055950 & 17252 & 1\\\\\n",
       "\t image\\_AD2 & 10 & ENSG00000055950 & 100987514 &  99320000 & 102120000 & Knight\\_eQTL\\_brain & mrash & TRUE & FALSE & ... & 2.493315 & 0.01265565 & eQTL & chr10\\_100331627\\_104378781 & chr10\\_100331627\\_104378781 & KNIGHT\\_eQTL\\_pQTL & KNIGHT\\_eQTL\\_pQTL.chr10\\_100331627\\_104378781.twas.tsv.gz & ENSG00000055950 & 17252 & 1\\\\\n",
       "\t image\\_AD2 & 10 & ENSG00000055950 & 100987514 &  99320000 & 102120000 & Knight\\_eQTL\\_brain & susie & TRUE &  TRUE & ... & 2.505183 & 0.01223882 & eQTL & chr10\\_100331627\\_104378781 & chr10\\_100331627\\_104378781 & KNIGHT\\_eQTL\\_pQTL & KNIGHT\\_eQTL\\_pQTL.chr10\\_100331627\\_104378781.twas.tsv.gz & ENSG00000055950 & 17252 & 1\\\\\n",
       "\t image\\_AD2 & 10 & ENSG00000059915 & 102421538 & 101402617 & 103680000 & Knight\\_eQTL\\_brain & enet  & TRUE & FALSE & ... & 1.830248 & 0.06721286 & eQTL & chr10\\_100331627\\_104378781 & chr10\\_100331627\\_104378781 & KNIGHT\\_eQTL\\_pQTL & KNIGHT\\_eQTL\\_pQTL.chr10\\_100331627\\_104378781.twas.tsv.gz & ENSG00000059915 & 17252 & 1\\\\\n",
       "\t image\\_AD2 & 10 & ENSG00000059915 & 102421538 & 101402617 & 103680000 & Knight\\_eQTL\\_brain & lasso & TRUE & FALSE & ... & 1.827701 & 0.06759438 & eQTL & chr10\\_100331627\\_104378781 & chr10\\_100331627\\_104378781 & KNIGHT\\_eQTL\\_pQTL & KNIGHT\\_eQTL\\_pQTL.chr10\\_100331627\\_104378781.twas.tsv.gz & ENSG00000059915 & 17252 & 1\\\\\n",
       "\\end{tabular}\n"
      ],
      "text/markdown": [
       "\n",
       "A data.table: 6 x 22\n",
       "\n",
       "| gwas_study &lt;chr&gt; | chr &lt;int&gt; | molecular_id &lt;chr&gt; | TSS &lt;int&gt; | start &lt;int&gt; | end &lt;int&gt; | context &lt;chr&gt; | method &lt;chr&gt; | is_imputable &lt;lgl&gt; | is_selected_method &lt;lgl&gt; | ... ... | twas_z &lt;dbl&gt; | twas_pval &lt;dbl&gt; | type &lt;chr&gt; | block &lt;chr&gt; | region &lt;chr&gt; | study_context &lt;chr&gt; | source_file &lt;chr&gt; | gene_id &lt;chr&gt; | N &lt;int&gt; | twas_pval_bonf &lt;dbl&gt; |\n",
       "|---|---|---|---|---|---|---|---|---|---|---|---|---|---|---|---|---|---|---|---|---|\n",
       "| image_AD2 | 10 | ENSG00000055950 | 100987514 |  99320000 | 102120000 | Knight_eQTL_brain | enet  | TRUE | FALSE | ... | 2.492697 | 0.01267771 | eQTL | chr10_100331627_104378781 | chr10_100331627_104378781 | KNIGHT_eQTL_pQTL | KNIGHT_eQTL_pQTL.chr10_100331627_104378781.twas.tsv.gz | ENSG00000055950 | 17252 | 1 |\n",
       "| image_AD2 | 10 | ENSG00000055950 | 100987514 |  99320000 | 102120000 | Knight_eQTL_brain | lasso | TRUE | FALSE | ... | 2.475217 | 0.01331554 | eQTL | chr10_100331627_104378781 | chr10_100331627_104378781 | KNIGHT_eQTL_pQTL | KNIGHT_eQTL_pQTL.chr10_100331627_104378781.twas.tsv.gz | ENSG00000055950 | 17252 | 1 |\n",
       "| image_AD2 | 10 | ENSG00000055950 | 100987514 |  99320000 | 102120000 | Knight_eQTL_brain | mrash | TRUE | FALSE | ... | 2.493315 | 0.01265565 | eQTL | chr10_100331627_104378781 | chr10_100331627_104378781 | KNIGHT_eQTL_pQTL | KNIGHT_eQTL_pQTL.chr10_100331627_104378781.twas.tsv.gz | ENSG00000055950 | 17252 | 1 |\n",
       "| image_AD2 | 10 | ENSG00000055950 | 100987514 |  99320000 | 102120000 | Knight_eQTL_brain | susie | TRUE |  TRUE | ... | 2.505183 | 0.01223882 | eQTL | chr10_100331627_104378781 | chr10_100331627_104378781 | KNIGHT_eQTL_pQTL | KNIGHT_eQTL_pQTL.chr10_100331627_104378781.twas.tsv.gz | ENSG00000055950 | 17252 | 1 |\n",
       "| image_AD2 | 10 | ENSG00000059915 | 102421538 | 101402617 | 103680000 | Knight_eQTL_brain | enet  | TRUE | FALSE | ... | 1.830248 | 0.06721286 | eQTL | chr10_100331627_104378781 | chr10_100331627_104378781 | KNIGHT_eQTL_pQTL | KNIGHT_eQTL_pQTL.chr10_100331627_104378781.twas.tsv.gz | ENSG00000059915 | 17252 | 1 |\n",
       "| image_AD2 | 10 | ENSG00000059915 | 102421538 | 101402617 | 103680000 | Knight_eQTL_brain | lasso | TRUE | FALSE | ... | 1.827701 | 0.06759438 | eQTL | chr10_100331627_104378781 | chr10_100331627_104378781 | KNIGHT_eQTL_pQTL | KNIGHT_eQTL_pQTL.chr10_100331627_104378781.twas.tsv.gz | ENSG00000059915 | 17252 | 1 |\n",
       "\n"
      ],
      "text/plain": [
       "  gwas_study chr molecular_id    TSS       start     end      \n",
       "1 image_AD2  10  ENSG00000055950 100987514  99320000 102120000\n",
       "2 image_AD2  10  ENSG00000055950 100987514  99320000 102120000\n",
       "3 image_AD2  10  ENSG00000055950 100987514  99320000 102120000\n",
       "4 image_AD2  10  ENSG00000055950 100987514  99320000 102120000\n",
       "5 image_AD2  10  ENSG00000059915 102421538 101402617 103680000\n",
       "6 image_AD2  10  ENSG00000059915 102421538 101402617 103680000\n",
       "  context           method is_imputable is_selected_method ... twas_z  \n",
       "1 Knight_eQTL_brain enet   TRUE         FALSE              ... 2.492697\n",
       "2 Knight_eQTL_brain lasso  TRUE         FALSE              ... 2.475217\n",
       "3 Knight_eQTL_brain mrash  TRUE         FALSE              ... 2.493315\n",
       "4 Knight_eQTL_brain susie  TRUE          TRUE              ... 2.505183\n",
       "5 Knight_eQTL_brain enet   TRUE         FALSE              ... 1.830248\n",
       "6 Knight_eQTL_brain lasso  TRUE         FALSE              ... 1.827701\n",
       "  twas_pval  type block                     region                   \n",
       "1 0.01267771 eQTL chr10_100331627_104378781 chr10_100331627_104378781\n",
       "2 0.01331554 eQTL chr10_100331627_104378781 chr10_100331627_104378781\n",
       "3 0.01265565 eQTL chr10_100331627_104378781 chr10_100331627_104378781\n",
       "4 0.01223882 eQTL chr10_100331627_104378781 chr10_100331627_104378781\n",
       "5 0.06721286 eQTL chr10_100331627_104378781 chr10_100331627_104378781\n",
       "6 0.06759438 eQTL chr10_100331627_104378781 chr10_100331627_104378781\n",
       "  study_context    source_file                                           \n",
       "1 KNIGHT_eQTL_pQTL KNIGHT_eQTL_pQTL.chr10_100331627_104378781.twas.tsv.gz\n",
       "2 KNIGHT_eQTL_pQTL KNIGHT_eQTL_pQTL.chr10_100331627_104378781.twas.tsv.gz\n",
       "3 KNIGHT_eQTL_pQTL KNIGHT_eQTL_pQTL.chr10_100331627_104378781.twas.tsv.gz\n",
       "4 KNIGHT_eQTL_pQTL KNIGHT_eQTL_pQTL.chr10_100331627_104378781.twas.tsv.gz\n",
       "5 KNIGHT_eQTL_pQTL KNIGHT_eQTL_pQTL.chr10_100331627_104378781.twas.tsv.gz\n",
       "6 KNIGHT_eQTL_pQTL KNIGHT_eQTL_pQTL.chr10_100331627_104378781.twas.tsv.gz\n",
       "  gene_id         N     twas_pval_bonf\n",
       "1 ENSG00000055950 17252 1             \n",
       "2 ENSG00000055950 17252 1             \n",
       "3 ENSG00000055950 17252 1             \n",
       "4 ENSG00000055950 17252 1             \n",
       "5 ENSG00000059915 17252 1             \n",
       "6 ENSG00000059915 17252 1             "
      ]
     },
     "metadata": {},
     "output_type": "display_data"
    },
    {
     "data": {
      "text/html": [
       "<style>\n",
       ".list-inline {list-style: none; margin:0; padding: 0}\n",
       ".list-inline>li {display: inline-block}\n",
       ".list-inline>li:not(:last-child)::after {content: \"\\00b7\"; padding: 0 .5ex}\n",
       "</style>\n",
       "<ol class=list-inline><li>903842</li><li>22</li></ol>\n"
      ],
      "text/latex": [
       "\\begin{enumerate*}\n",
       "\\item 903842\n",
       "\\item 22\n",
       "\\end{enumerate*}\n"
      ],
      "text/markdown": [
       "1. 903842\n",
       "2. 22\n",
       "\n",
       "\n"
      ],
      "text/plain": [
       "[1] 903842     22"
      ]
     },
     "metadata": {},
     "output_type": "display_data"
    }
   ],
   "source": [
    "head(image_AD2)\n",
    "dim(image_AD2)"
   ]
  },
  {
   "cell_type": "code",
   "execution_count": 181,
   "id": "96e63409-8ec7-4c3f-aa2b-d9a2c0928025",
   "metadata": {},
   "outputs": [
    {
     "data": {
      "text/html": [
       "71"
      ],
      "text/latex": [
       "71"
      ],
      "text/markdown": [
       "71"
      ],
      "text/plain": [
       "[1] 71"
      ]
     },
     "metadata": {},
     "output_type": "display_data"
    }
   ],
   "source": [
    "sig_image_AD2 = image_AD2 |> filter(is_selected_method, twas_pval_bonf < 0.05) \n",
    "length(unique(sig_image_AD2$molecular_id))"
   ]
  },
  {
   "cell_type": "code",
   "execution_count": 182,
   "id": "05070325-653f-42de-bbdc-c971ffade321",
   "metadata": {},
   "outputs": [],
   "source": [
    "image_AD2_gene_list = sig_image_AD2 |> mutate(`#chr` = paste0(\"chr\", chr), gene_id = molecular_id)|>select(`#chr`, start, end, gene_id) |> unique()"
   ]
  },
  {
   "cell_type": "code",
   "execution_count": 183,
   "id": "de394a01-f6de-4674-ba87-92f189338770",
   "metadata": {},
   "outputs": [
    {
     "data": {
      "text/html": [
       "<style>\n",
       ".list-inline {list-style: none; margin:0; padding: 0}\n",
       ".list-inline>li {display: inline-block}\n",
       ".list-inline>li:not(:last-child)::after {content: \"\\00b7\"; padding: 0 .5ex}\n",
       "</style>\n",
       "<ol class=list-inline><li>71</li><li>4</li></ol>\n"
      ],
      "text/latex": [
       "\\begin{enumerate*}\n",
       "\\item 71\n",
       "\\item 4\n",
       "\\end{enumerate*}\n"
      ],
      "text/markdown": [
       "1. 71\n",
       "2. 4\n",
       "\n",
       "\n"
      ],
      "text/plain": [
       "[1] 71  4"
      ]
     },
     "metadata": {},
     "output_type": "display_data"
    }
   ],
   "source": [
    "dim(image_AD2_gene_list)"
   ]
  },
  {
   "cell_type": "code",
   "execution_count": 184,
   "id": "f5b38c32-f876-426d-823c-494dd3abb18a",
   "metadata": {},
   "outputs": [],
   "source": [
    "DNE_QTL_gene = fread(\"~/project/image_QTL/twas/annotated_dne_gene.tsv\")\n"
   ]
  },
  {
   "cell_type": "code",
   "execution_count": 185,
   "id": "e4e91007-fe5d-4c9b-a7c4-af058b90a65d",
   "metadata": {},
   "outputs": [],
   "source": [
    "image_AD2_QTL_gene = DNE_QTL_gene |> filter(str_detect(event_ID, \"image_AD2\")) |> select(-strand,-event_ID)\n",
    "                                        "
   ]
  },
  {
   "cell_type": "code",
   "execution_count": 186,
   "id": "043de478-cb80-443e-be65-7235c49eb6bf",
   "metadata": {},
   "outputs": [],
   "source": [
    "image_AD2_gene = bind_rows(image_AD2_gene_list, image_AD2_QTL_gene)"
   ]
  },
  {
   "cell_type": "code",
   "execution_count": 187,
   "id": "0a77b5f1-ccbe-4d65-b2ab-2ea1d7acf6ff",
   "metadata": {},
   "outputs": [],
   "source": [
    "fwrite(image_AD2_gene, \"image_AD2_gene_list.tsv\", sep = '\\t')"
   ]
  },
  {
   "cell_type": "code",
   "execution_count": null,
   "id": "9317d9b5-78ea-4092-8504-32ebe2728af9",
   "metadata": {},
   "outputs": [],
   "source": []
  },
  {
   "cell_type": "markdown",
   "id": "8d0eb4ed-4528-4971-805c-fa60693bcbd6",
   "metadata": {},
   "source": [
    "## image_Aging1"
   ]
  },
  {
   "cell_type": "code",
   "execution_count": 188,
   "id": "4d0494f6-0e93-49e8-8d89-2af317471061",
   "metadata": {},
   "outputs": [],
   "source": [
    "image_Aging1 <- fread(\"~/project/image_QTL/twas/multiple_testing/image_Aging1_twas_bonff.bonf_corrected.tsv.gz\")"
   ]
  },
  {
   "cell_type": "code",
   "execution_count": 189,
   "id": "57819167-f24b-4e48-8bea-c00d564cef9f",
   "metadata": {},
   "outputs": [
    {
     "data": {
      "text/html": [
       "<table class=\"dataframe\">\n",
       "<caption>A data.table: 6 x 22</caption>\n",
       "<thead>\n",
       "\t<tr><th scope=col>gwas_study</th><th scope=col>chr</th><th scope=col>molecular_id</th><th scope=col>TSS</th><th scope=col>start</th><th scope=col>end</th><th scope=col>context</th><th scope=col>method</th><th scope=col>is_imputable</th><th scope=col>is_selected_method</th><th scope=col>...</th><th scope=col>twas_z</th><th scope=col>twas_pval</th><th scope=col>type</th><th scope=col>block</th><th scope=col>region</th><th scope=col>study_context</th><th scope=col>source_file</th><th scope=col>gene_id</th><th scope=col>N</th><th scope=col>twas_pval_bonf</th></tr>\n",
       "\t<tr><th scope=col>&lt;chr&gt;</th><th scope=col>&lt;int&gt;</th><th scope=col>&lt;chr&gt;</th><th scope=col>&lt;int&gt;</th><th scope=col>&lt;int&gt;</th><th scope=col>&lt;int&gt;</th><th scope=col>&lt;chr&gt;</th><th scope=col>&lt;chr&gt;</th><th scope=col>&lt;lgl&gt;</th><th scope=col>&lt;lgl&gt;</th><th scope=col>...</th><th scope=col>&lt;dbl&gt;</th><th scope=col>&lt;dbl&gt;</th><th scope=col>&lt;chr&gt;</th><th scope=col>&lt;chr&gt;</th><th scope=col>&lt;chr&gt;</th><th scope=col>&lt;chr&gt;</th><th scope=col>&lt;chr&gt;</th><th scope=col>&lt;chr&gt;</th><th scope=col>&lt;int&gt;</th><th scope=col>&lt;dbl&gt;</th></tr>\n",
       "</thead>\n",
       "<tbody>\n",
       "\t<tr><td>image_Aging1</td><td>10</td><td>ENSG00000055950</td><td>100987514</td><td> 99320000</td><td>102120000</td><td>Knight_eQTL_brain</td><td>enet </td><td>TRUE</td><td>FALSE</td><td>...</td><td>-2.2501449</td><td>0.02443975</td><td>eQTL</td><td>chr10_100331627_104378781</td><td>chr10_100331627_104378781</td><td>KNIGHT_eQTL_pQTL</td><td>KNIGHT_eQTL_pQTL.chr10_100331627_104378781.twas.tsv.gz</td><td>ENSG00000055950</td><td>17286</td><td>1</td></tr>\n",
       "\t<tr><td>image_Aging1</td><td>10</td><td>ENSG00000055950</td><td>100987514</td><td> 99320000</td><td>102120000</td><td>Knight_eQTL_brain</td><td>lasso</td><td>TRUE</td><td>FALSE</td><td>...</td><td>-2.3121651</td><td>0.02076859</td><td>eQTL</td><td>chr10_100331627_104378781</td><td>chr10_100331627_104378781</td><td>KNIGHT_eQTL_pQTL</td><td>KNIGHT_eQTL_pQTL.chr10_100331627_104378781.twas.tsv.gz</td><td>ENSG00000055950</td><td>17286</td><td>1</td></tr>\n",
       "\t<tr><td>image_Aging1</td><td>10</td><td>ENSG00000055950</td><td>100987514</td><td> 99320000</td><td>102120000</td><td>Knight_eQTL_brain</td><td>mrash</td><td>TRUE</td><td>FALSE</td><td>...</td><td>-2.0225901</td><td>0.04311543</td><td>eQTL</td><td>chr10_100331627_104378781</td><td>chr10_100331627_104378781</td><td>KNIGHT_eQTL_pQTL</td><td>KNIGHT_eQTL_pQTL.chr10_100331627_104378781.twas.tsv.gz</td><td>ENSG00000055950</td><td>17286</td><td>1</td></tr>\n",
       "\t<tr><td>image_Aging1</td><td>10</td><td>ENSG00000055950</td><td>100987514</td><td> 99320000</td><td>102120000</td><td>Knight_eQTL_brain</td><td>susie</td><td>TRUE</td><td> TRUE</td><td>...</td><td>-2.2311831</td><td>0.02566901</td><td>eQTL</td><td>chr10_100331627_104378781</td><td>chr10_100331627_104378781</td><td>KNIGHT_eQTL_pQTL</td><td>KNIGHT_eQTL_pQTL.chr10_100331627_104378781.twas.tsv.gz</td><td>ENSG00000055950</td><td>17286</td><td>1</td></tr>\n",
       "\t<tr><td>image_Aging1</td><td>10</td><td>ENSG00000059915</td><td>102421538</td><td>101402617</td><td>103680000</td><td>Knight_eQTL_brain</td><td>enet </td><td>TRUE</td><td>FALSE</td><td>...</td><td>-0.4842066</td><td>0.62823923</td><td>eQTL</td><td>chr10_100331627_104378781</td><td>chr10_100331627_104378781</td><td>KNIGHT_eQTL_pQTL</td><td>KNIGHT_eQTL_pQTL.chr10_100331627_104378781.twas.tsv.gz</td><td>ENSG00000059915</td><td>17286</td><td>1</td></tr>\n",
       "\t<tr><td>image_Aging1</td><td>10</td><td>ENSG00000059915</td><td>102421538</td><td>101402617</td><td>103680000</td><td>Knight_eQTL_brain</td><td>lasso</td><td>TRUE</td><td>FALSE</td><td>...</td><td>-0.5461816</td><td>0.58494109</td><td>eQTL</td><td>chr10_100331627_104378781</td><td>chr10_100331627_104378781</td><td>KNIGHT_eQTL_pQTL</td><td>KNIGHT_eQTL_pQTL.chr10_100331627_104378781.twas.tsv.gz</td><td>ENSG00000059915</td><td>17286</td><td>1</td></tr>\n",
       "</tbody>\n",
       "</table>\n"
      ],
      "text/latex": [
       "A data.table: 6 x 22\n",
       "\\begin{tabular}{lllllllllllllllllllll}\n",
       " gwas\\_study & chr & molecular\\_id & TSS & start & end & context & method & is\\_imputable & is\\_selected\\_method & ... & twas\\_z & twas\\_pval & type & block & region & study\\_context & source\\_file & gene\\_id & N & twas\\_pval\\_bonf\\\\\n",
       " <chr> & <int> & <chr> & <int> & <int> & <int> & <chr> & <chr> & <lgl> & <lgl> & ... & <dbl> & <dbl> & <chr> & <chr> & <chr> & <chr> & <chr> & <chr> & <int> & <dbl>\\\\\n",
       "\\hline\n",
       "\t image\\_Aging1 & 10 & ENSG00000055950 & 100987514 &  99320000 & 102120000 & Knight\\_eQTL\\_brain & enet  & TRUE & FALSE & ... & -2.2501449 & 0.02443975 & eQTL & chr10\\_100331627\\_104378781 & chr10\\_100331627\\_104378781 & KNIGHT\\_eQTL\\_pQTL & KNIGHT\\_eQTL\\_pQTL.chr10\\_100331627\\_104378781.twas.tsv.gz & ENSG00000055950 & 17286 & 1\\\\\n",
       "\t image\\_Aging1 & 10 & ENSG00000055950 & 100987514 &  99320000 & 102120000 & Knight\\_eQTL\\_brain & lasso & TRUE & FALSE & ... & -2.3121651 & 0.02076859 & eQTL & chr10\\_100331627\\_104378781 & chr10\\_100331627\\_104378781 & KNIGHT\\_eQTL\\_pQTL & KNIGHT\\_eQTL\\_pQTL.chr10\\_100331627\\_104378781.twas.tsv.gz & ENSG00000055950 & 17286 & 1\\\\\n",
       "\t image\\_Aging1 & 10 & ENSG00000055950 & 100987514 &  99320000 & 102120000 & Knight\\_eQTL\\_brain & mrash & TRUE & FALSE & ... & -2.0225901 & 0.04311543 & eQTL & chr10\\_100331627\\_104378781 & chr10\\_100331627\\_104378781 & KNIGHT\\_eQTL\\_pQTL & KNIGHT\\_eQTL\\_pQTL.chr10\\_100331627\\_104378781.twas.tsv.gz & ENSG00000055950 & 17286 & 1\\\\\n",
       "\t image\\_Aging1 & 10 & ENSG00000055950 & 100987514 &  99320000 & 102120000 & Knight\\_eQTL\\_brain & susie & TRUE &  TRUE & ... & -2.2311831 & 0.02566901 & eQTL & chr10\\_100331627\\_104378781 & chr10\\_100331627\\_104378781 & KNIGHT\\_eQTL\\_pQTL & KNIGHT\\_eQTL\\_pQTL.chr10\\_100331627\\_104378781.twas.tsv.gz & ENSG00000055950 & 17286 & 1\\\\\n",
       "\t image\\_Aging1 & 10 & ENSG00000059915 & 102421538 & 101402617 & 103680000 & Knight\\_eQTL\\_brain & enet  & TRUE & FALSE & ... & -0.4842066 & 0.62823923 & eQTL & chr10\\_100331627\\_104378781 & chr10\\_100331627\\_104378781 & KNIGHT\\_eQTL\\_pQTL & KNIGHT\\_eQTL\\_pQTL.chr10\\_100331627\\_104378781.twas.tsv.gz & ENSG00000059915 & 17286 & 1\\\\\n",
       "\t image\\_Aging1 & 10 & ENSG00000059915 & 102421538 & 101402617 & 103680000 & Knight\\_eQTL\\_brain & lasso & TRUE & FALSE & ... & -0.5461816 & 0.58494109 & eQTL & chr10\\_100331627\\_104378781 & chr10\\_100331627\\_104378781 & KNIGHT\\_eQTL\\_pQTL & KNIGHT\\_eQTL\\_pQTL.chr10\\_100331627\\_104378781.twas.tsv.gz & ENSG00000059915 & 17286 & 1\\\\\n",
       "\\end{tabular}\n"
      ],
      "text/markdown": [
       "\n",
       "A data.table: 6 x 22\n",
       "\n",
       "| gwas_study &lt;chr&gt; | chr &lt;int&gt; | molecular_id &lt;chr&gt; | TSS &lt;int&gt; | start &lt;int&gt; | end &lt;int&gt; | context &lt;chr&gt; | method &lt;chr&gt; | is_imputable &lt;lgl&gt; | is_selected_method &lt;lgl&gt; | ... ... | twas_z &lt;dbl&gt; | twas_pval &lt;dbl&gt; | type &lt;chr&gt; | block &lt;chr&gt; | region &lt;chr&gt; | study_context &lt;chr&gt; | source_file &lt;chr&gt; | gene_id &lt;chr&gt; | N &lt;int&gt; | twas_pval_bonf &lt;dbl&gt; |\n",
       "|---|---|---|---|---|---|---|---|---|---|---|---|---|---|---|---|---|---|---|---|---|\n",
       "| image_Aging1 | 10 | ENSG00000055950 | 100987514 |  99320000 | 102120000 | Knight_eQTL_brain | enet  | TRUE | FALSE | ... | -2.2501449 | 0.02443975 | eQTL | chr10_100331627_104378781 | chr10_100331627_104378781 | KNIGHT_eQTL_pQTL | KNIGHT_eQTL_pQTL.chr10_100331627_104378781.twas.tsv.gz | ENSG00000055950 | 17286 | 1 |\n",
       "| image_Aging1 | 10 | ENSG00000055950 | 100987514 |  99320000 | 102120000 | Knight_eQTL_brain | lasso | TRUE | FALSE | ... | -2.3121651 | 0.02076859 | eQTL | chr10_100331627_104378781 | chr10_100331627_104378781 | KNIGHT_eQTL_pQTL | KNIGHT_eQTL_pQTL.chr10_100331627_104378781.twas.tsv.gz | ENSG00000055950 | 17286 | 1 |\n",
       "| image_Aging1 | 10 | ENSG00000055950 | 100987514 |  99320000 | 102120000 | Knight_eQTL_brain | mrash | TRUE | FALSE | ... | -2.0225901 | 0.04311543 | eQTL | chr10_100331627_104378781 | chr10_100331627_104378781 | KNIGHT_eQTL_pQTL | KNIGHT_eQTL_pQTL.chr10_100331627_104378781.twas.tsv.gz | ENSG00000055950 | 17286 | 1 |\n",
       "| image_Aging1 | 10 | ENSG00000055950 | 100987514 |  99320000 | 102120000 | Knight_eQTL_brain | susie | TRUE |  TRUE | ... | -2.2311831 | 0.02566901 | eQTL | chr10_100331627_104378781 | chr10_100331627_104378781 | KNIGHT_eQTL_pQTL | KNIGHT_eQTL_pQTL.chr10_100331627_104378781.twas.tsv.gz | ENSG00000055950 | 17286 | 1 |\n",
       "| image_Aging1 | 10 | ENSG00000059915 | 102421538 | 101402617 | 103680000 | Knight_eQTL_brain | enet  | TRUE | FALSE | ... | -0.4842066 | 0.62823923 | eQTL | chr10_100331627_104378781 | chr10_100331627_104378781 | KNIGHT_eQTL_pQTL | KNIGHT_eQTL_pQTL.chr10_100331627_104378781.twas.tsv.gz | ENSG00000059915 | 17286 | 1 |\n",
       "| image_Aging1 | 10 | ENSG00000059915 | 102421538 | 101402617 | 103680000 | Knight_eQTL_brain | lasso | TRUE | FALSE | ... | -0.5461816 | 0.58494109 | eQTL | chr10_100331627_104378781 | chr10_100331627_104378781 | KNIGHT_eQTL_pQTL | KNIGHT_eQTL_pQTL.chr10_100331627_104378781.twas.tsv.gz | ENSG00000059915 | 17286 | 1 |\n",
       "\n"
      ],
      "text/plain": [
       "  gwas_study   chr molecular_id    TSS       start     end      \n",
       "1 image_Aging1 10  ENSG00000055950 100987514  99320000 102120000\n",
       "2 image_Aging1 10  ENSG00000055950 100987514  99320000 102120000\n",
       "3 image_Aging1 10  ENSG00000055950 100987514  99320000 102120000\n",
       "4 image_Aging1 10  ENSG00000055950 100987514  99320000 102120000\n",
       "5 image_Aging1 10  ENSG00000059915 102421538 101402617 103680000\n",
       "6 image_Aging1 10  ENSG00000059915 102421538 101402617 103680000\n",
       "  context           method is_imputable is_selected_method ... twas_z    \n",
       "1 Knight_eQTL_brain enet   TRUE         FALSE              ... -2.2501449\n",
       "2 Knight_eQTL_brain lasso  TRUE         FALSE              ... -2.3121651\n",
       "3 Knight_eQTL_brain mrash  TRUE         FALSE              ... -2.0225901\n",
       "4 Knight_eQTL_brain susie  TRUE          TRUE              ... -2.2311831\n",
       "5 Knight_eQTL_brain enet   TRUE         FALSE              ... -0.4842066\n",
       "6 Knight_eQTL_brain lasso  TRUE         FALSE              ... -0.5461816\n",
       "  twas_pval  type block                     region                   \n",
       "1 0.02443975 eQTL chr10_100331627_104378781 chr10_100331627_104378781\n",
       "2 0.02076859 eQTL chr10_100331627_104378781 chr10_100331627_104378781\n",
       "3 0.04311543 eQTL chr10_100331627_104378781 chr10_100331627_104378781\n",
       "4 0.02566901 eQTL chr10_100331627_104378781 chr10_100331627_104378781\n",
       "5 0.62823923 eQTL chr10_100331627_104378781 chr10_100331627_104378781\n",
       "6 0.58494109 eQTL chr10_100331627_104378781 chr10_100331627_104378781\n",
       "  study_context    source_file                                           \n",
       "1 KNIGHT_eQTL_pQTL KNIGHT_eQTL_pQTL.chr10_100331627_104378781.twas.tsv.gz\n",
       "2 KNIGHT_eQTL_pQTL KNIGHT_eQTL_pQTL.chr10_100331627_104378781.twas.tsv.gz\n",
       "3 KNIGHT_eQTL_pQTL KNIGHT_eQTL_pQTL.chr10_100331627_104378781.twas.tsv.gz\n",
       "4 KNIGHT_eQTL_pQTL KNIGHT_eQTL_pQTL.chr10_100331627_104378781.twas.tsv.gz\n",
       "5 KNIGHT_eQTL_pQTL KNIGHT_eQTL_pQTL.chr10_100331627_104378781.twas.tsv.gz\n",
       "6 KNIGHT_eQTL_pQTL KNIGHT_eQTL_pQTL.chr10_100331627_104378781.twas.tsv.gz\n",
       "  gene_id         N     twas_pval_bonf\n",
       "1 ENSG00000055950 17286 1             \n",
       "2 ENSG00000055950 17286 1             \n",
       "3 ENSG00000055950 17286 1             \n",
       "4 ENSG00000055950 17286 1             \n",
       "5 ENSG00000059915 17286 1             \n",
       "6 ENSG00000059915 17286 1             "
      ]
     },
     "metadata": {},
     "output_type": "display_data"
    },
    {
     "data": {
      "text/html": [
       "<style>\n",
       ".list-inline {list-style: none; margin:0; padding: 0}\n",
       ".list-inline>li {display: inline-block}\n",
       ".list-inline>li:not(:last-child)::after {content: \"\\00b7\"; padding: 0 .5ex}\n",
       "</style>\n",
       "<ol class=list-inline><li>928116</li><li>22</li></ol>\n"
      ],
      "text/latex": [
       "\\begin{enumerate*}\n",
       "\\item 928116\n",
       "\\item 22\n",
       "\\end{enumerate*}\n"
      ],
      "text/markdown": [
       "1. 928116\n",
       "2. 22\n",
       "\n",
       "\n"
      ],
      "text/plain": [
       "[1] 928116     22"
      ]
     },
     "metadata": {},
     "output_type": "display_data"
    }
   ],
   "source": [
    "head(image_Aging1)\n",
    "dim(image_Aging1)"
   ]
  },
  {
   "cell_type": "code",
   "execution_count": 190,
   "id": "d96aad79-3a64-4505-8e14-e80f67c8c04b",
   "metadata": {},
   "outputs": [
    {
     "data": {
      "text/html": [
       "83"
      ],
      "text/latex": [
       "83"
      ],
      "text/markdown": [
       "83"
      ],
      "text/plain": [
       "[1] 83"
      ]
     },
     "metadata": {},
     "output_type": "display_data"
    }
   ],
   "source": [
    "sig_image_Aging1 = image_Aging1 |> filter(is_selected_method, twas_pval_bonf < 0.05) \n",
    "length(unique(sig_image_Aging1$molecular_id))"
   ]
  },
  {
   "cell_type": "code",
   "execution_count": 191,
   "id": "7b52c050-3091-4e5f-9278-d75d5a384332",
   "metadata": {},
   "outputs": [],
   "source": [
    "image_Aging1_gene_list = sig_image_Aging1 |> mutate(`#chr` = paste0(\"chr\", chr), gene_id = molecular_id)|>select(`#chr`, start, end, gene_id) |> unique()"
   ]
  },
  {
   "cell_type": "code",
   "execution_count": 192,
   "id": "144b9720-efb8-4daa-9cd6-cd49318fc9d2",
   "metadata": {},
   "outputs": [
    {
     "data": {
      "text/html": [
       "<style>\n",
       ".list-inline {list-style: none; margin:0; padding: 0}\n",
       ".list-inline>li {display: inline-block}\n",
       ".list-inline>li:not(:last-child)::after {content: \"\\00b7\"; padding: 0 .5ex}\n",
       "</style>\n",
       "<ol class=list-inline><li>83</li><li>4</li></ol>\n"
      ],
      "text/latex": [
       "\\begin{enumerate*}\n",
       "\\item 83\n",
       "\\item 4\n",
       "\\end{enumerate*}\n"
      ],
      "text/markdown": [
       "1. 83\n",
       "2. 4\n",
       "\n",
       "\n"
      ],
      "text/plain": [
       "[1] 83  4"
      ]
     },
     "metadata": {},
     "output_type": "display_data"
    }
   ],
   "source": [
    "dim(image_Aging1_gene_list)"
   ]
  },
  {
   "cell_type": "code",
   "execution_count": 193,
   "id": "1f53d012-97af-4fd9-8bce-16582e3d8585",
   "metadata": {},
   "outputs": [],
   "source": [
    "DNE_QTL_gene = fread(\"~/project/image_QTL/twas/annotated_dne_gene.tsv\")\n"
   ]
  },
  {
   "cell_type": "code",
   "execution_count": 194,
   "id": "d92398b2-3ebe-47b0-bdc9-3a98562bec96",
   "metadata": {},
   "outputs": [],
   "source": [
    "image_Aging1_QTL_gene = DNE_QTL_gene |> filter(str_detect(event_ID, \"image_Aging1\")) |> select(-strand,-event_ID)\n",
    "                                        "
   ]
  },
  {
   "cell_type": "code",
   "execution_count": 195,
   "id": "a91c2117-f2d3-4c7a-b748-5391941705c8",
   "metadata": {},
   "outputs": [],
   "source": [
    "image_Aging1_gene = bind_rows(image_Aging1_gene_list, image_Aging1_QTL_gene)"
   ]
  },
  {
   "cell_type": "code",
   "execution_count": 196,
   "id": "d2f20e75-bfa1-45ae-a48c-1a6d05afe9e8",
   "metadata": {},
   "outputs": [],
   "source": [
    "fwrite(image_Aging1_gene, \"image_Aging1_gene_list.tsv\", sep = '\\t')"
   ]
  },
  {
   "cell_type": "code",
   "execution_count": null,
   "id": "0c4759a0-ed15-469b-b7d6-48e5b4e3ceba",
   "metadata": {},
   "outputs": [],
   "source": []
  },
  {
   "cell_type": "markdown",
   "id": "d870cd5d-c9dc-4a96-bfb1-d2dea974292e",
   "metadata": {},
   "source": [
    "## image_Aging2"
   ]
  },
  {
   "cell_type": "code",
   "execution_count": 197,
   "id": "56b3cc6d-8288-4ee5-9764-005f129e58c3",
   "metadata": {},
   "outputs": [],
   "source": [
    "image_Aging2 <- fread(\"~/project/image_QTL/twas/multiple_testing/image_Aging2_twas_bonff.bonf_corrected.tsv.gz\")"
   ]
  },
  {
   "cell_type": "code",
   "execution_count": 198,
   "id": "1597bccb-880d-478b-ad66-acad7bff650f",
   "metadata": {},
   "outputs": [
    {
     "data": {
      "text/html": [
       "<table class=\"dataframe\">\n",
       "<caption>A data.table: 6 x 22</caption>\n",
       "<thead>\n",
       "\t<tr><th scope=col>gwas_study</th><th scope=col>chr</th><th scope=col>molecular_id</th><th scope=col>TSS</th><th scope=col>start</th><th scope=col>end</th><th scope=col>context</th><th scope=col>method</th><th scope=col>is_imputable</th><th scope=col>is_selected_method</th><th scope=col>...</th><th scope=col>twas_z</th><th scope=col>twas_pval</th><th scope=col>type</th><th scope=col>block</th><th scope=col>region</th><th scope=col>study_context</th><th scope=col>source_file</th><th scope=col>gene_id</th><th scope=col>N</th><th scope=col>twas_pval_bonf</th></tr>\n",
       "\t<tr><th scope=col>&lt;chr&gt;</th><th scope=col>&lt;int&gt;</th><th scope=col>&lt;chr&gt;</th><th scope=col>&lt;int&gt;</th><th scope=col>&lt;int&gt;</th><th scope=col>&lt;int&gt;</th><th scope=col>&lt;chr&gt;</th><th scope=col>&lt;chr&gt;</th><th scope=col>&lt;lgl&gt;</th><th scope=col>&lt;lgl&gt;</th><th scope=col>...</th><th scope=col>&lt;dbl&gt;</th><th scope=col>&lt;dbl&gt;</th><th scope=col>&lt;chr&gt;</th><th scope=col>&lt;chr&gt;</th><th scope=col>&lt;chr&gt;</th><th scope=col>&lt;chr&gt;</th><th scope=col>&lt;chr&gt;</th><th scope=col>&lt;chr&gt;</th><th scope=col>&lt;int&gt;</th><th scope=col>&lt;dbl&gt;</th></tr>\n",
       "</thead>\n",
       "<tbody>\n",
       "\t<tr><td>image_Aging2</td><td>10</td><td>ENSG00000055950</td><td>100987514</td><td> 99320000</td><td>102120000</td><td>Knight_eQTL_brain</td><td>enet </td><td>TRUE</td><td>FALSE</td><td>...</td><td>0.4422873</td><td>0.65828134</td><td>eQTL</td><td>chr10_100331627_104378781</td><td>chr10_100331627_104378781</td><td>KNIGHT_eQTL_pQTL</td><td>KNIGHT_eQTL_pQTL.chr10_100331627_104378781.twas.tsv.gz</td><td>ENSG00000055950</td><td>17263</td><td>1</td></tr>\n",
       "\t<tr><td>image_Aging2</td><td>10</td><td>ENSG00000055950</td><td>100987514</td><td> 99320000</td><td>102120000</td><td>Knight_eQTL_brain</td><td>lasso</td><td>TRUE</td><td>FALSE</td><td>...</td><td>0.5153586</td><td>0.60630249</td><td>eQTL</td><td>chr10_100331627_104378781</td><td>chr10_100331627_104378781</td><td>KNIGHT_eQTL_pQTL</td><td>KNIGHT_eQTL_pQTL.chr10_100331627_104378781.twas.tsv.gz</td><td>ENSG00000055950</td><td>17263</td><td>1</td></tr>\n",
       "\t<tr><td>image_Aging2</td><td>10</td><td>ENSG00000055950</td><td>100987514</td><td> 99320000</td><td>102120000</td><td>Knight_eQTL_brain</td><td>mrash</td><td>TRUE</td><td>FALSE</td><td>...</td><td>0.3763701</td><td>0.70664179</td><td>eQTL</td><td>chr10_100331627_104378781</td><td>chr10_100331627_104378781</td><td>KNIGHT_eQTL_pQTL</td><td>KNIGHT_eQTL_pQTL.chr10_100331627_104378781.twas.tsv.gz</td><td>ENSG00000055950</td><td>17263</td><td>1</td></tr>\n",
       "\t<tr><td>image_Aging2</td><td>10</td><td>ENSG00000055950</td><td>100987514</td><td> 99320000</td><td>102120000</td><td>Knight_eQTL_brain</td><td>susie</td><td>TRUE</td><td> TRUE</td><td>...</td><td>0.4166957</td><td>0.67690100</td><td>eQTL</td><td>chr10_100331627_104378781</td><td>chr10_100331627_104378781</td><td>KNIGHT_eQTL_pQTL</td><td>KNIGHT_eQTL_pQTL.chr10_100331627_104378781.twas.tsv.gz</td><td>ENSG00000055950</td><td>17263</td><td>1</td></tr>\n",
       "\t<tr><td>image_Aging2</td><td>10</td><td>ENSG00000059915</td><td>102421538</td><td>101402617</td><td>103680000</td><td>Knight_eQTL_brain</td><td>enet </td><td>TRUE</td><td>FALSE</td><td>...</td><td>2.3533373</td><td>0.01860575</td><td>eQTL</td><td>chr10_100331627_104378781</td><td>chr10_100331627_104378781</td><td>KNIGHT_eQTL_pQTL</td><td>KNIGHT_eQTL_pQTL.chr10_100331627_104378781.twas.tsv.gz</td><td>ENSG00000059915</td><td>17263</td><td>1</td></tr>\n",
       "\t<tr><td>image_Aging2</td><td>10</td><td>ENSG00000059915</td><td>102421538</td><td>101402617</td><td>103680000</td><td>Knight_eQTL_brain</td><td>lasso</td><td>TRUE</td><td>FALSE</td><td>...</td><td>2.2734046</td><td>0.02300181</td><td>eQTL</td><td>chr10_100331627_104378781</td><td>chr10_100331627_104378781</td><td>KNIGHT_eQTL_pQTL</td><td>KNIGHT_eQTL_pQTL.chr10_100331627_104378781.twas.tsv.gz</td><td>ENSG00000059915</td><td>17263</td><td>1</td></tr>\n",
       "</tbody>\n",
       "</table>\n"
      ],
      "text/latex": [
       "A data.table: 6 x 22\n",
       "\\begin{tabular}{lllllllllllllllllllll}\n",
       " gwas\\_study & chr & molecular\\_id & TSS & start & end & context & method & is\\_imputable & is\\_selected\\_method & ... & twas\\_z & twas\\_pval & type & block & region & study\\_context & source\\_file & gene\\_id & N & twas\\_pval\\_bonf\\\\\n",
       " <chr> & <int> & <chr> & <int> & <int> & <int> & <chr> & <chr> & <lgl> & <lgl> & ... & <dbl> & <dbl> & <chr> & <chr> & <chr> & <chr> & <chr> & <chr> & <int> & <dbl>\\\\\n",
       "\\hline\n",
       "\t image\\_Aging2 & 10 & ENSG00000055950 & 100987514 &  99320000 & 102120000 & Knight\\_eQTL\\_brain & enet  & TRUE & FALSE & ... & 0.4422873 & 0.65828134 & eQTL & chr10\\_100331627\\_104378781 & chr10\\_100331627\\_104378781 & KNIGHT\\_eQTL\\_pQTL & KNIGHT\\_eQTL\\_pQTL.chr10\\_100331627\\_104378781.twas.tsv.gz & ENSG00000055950 & 17263 & 1\\\\\n",
       "\t image\\_Aging2 & 10 & ENSG00000055950 & 100987514 &  99320000 & 102120000 & Knight\\_eQTL\\_brain & lasso & TRUE & FALSE & ... & 0.5153586 & 0.60630249 & eQTL & chr10\\_100331627\\_104378781 & chr10\\_100331627\\_104378781 & KNIGHT\\_eQTL\\_pQTL & KNIGHT\\_eQTL\\_pQTL.chr10\\_100331627\\_104378781.twas.tsv.gz & ENSG00000055950 & 17263 & 1\\\\\n",
       "\t image\\_Aging2 & 10 & ENSG00000055950 & 100987514 &  99320000 & 102120000 & Knight\\_eQTL\\_brain & mrash & TRUE & FALSE & ... & 0.3763701 & 0.70664179 & eQTL & chr10\\_100331627\\_104378781 & chr10\\_100331627\\_104378781 & KNIGHT\\_eQTL\\_pQTL & KNIGHT\\_eQTL\\_pQTL.chr10\\_100331627\\_104378781.twas.tsv.gz & ENSG00000055950 & 17263 & 1\\\\\n",
       "\t image\\_Aging2 & 10 & ENSG00000055950 & 100987514 &  99320000 & 102120000 & Knight\\_eQTL\\_brain & susie & TRUE &  TRUE & ... & 0.4166957 & 0.67690100 & eQTL & chr10\\_100331627\\_104378781 & chr10\\_100331627\\_104378781 & KNIGHT\\_eQTL\\_pQTL & KNIGHT\\_eQTL\\_pQTL.chr10\\_100331627\\_104378781.twas.tsv.gz & ENSG00000055950 & 17263 & 1\\\\\n",
       "\t image\\_Aging2 & 10 & ENSG00000059915 & 102421538 & 101402617 & 103680000 & Knight\\_eQTL\\_brain & enet  & TRUE & FALSE & ... & 2.3533373 & 0.01860575 & eQTL & chr10\\_100331627\\_104378781 & chr10\\_100331627\\_104378781 & KNIGHT\\_eQTL\\_pQTL & KNIGHT\\_eQTL\\_pQTL.chr10\\_100331627\\_104378781.twas.tsv.gz & ENSG00000059915 & 17263 & 1\\\\\n",
       "\t image\\_Aging2 & 10 & ENSG00000059915 & 102421538 & 101402617 & 103680000 & Knight\\_eQTL\\_brain & lasso & TRUE & FALSE & ... & 2.2734046 & 0.02300181 & eQTL & chr10\\_100331627\\_104378781 & chr10\\_100331627\\_104378781 & KNIGHT\\_eQTL\\_pQTL & KNIGHT\\_eQTL\\_pQTL.chr10\\_100331627\\_104378781.twas.tsv.gz & ENSG00000059915 & 17263 & 1\\\\\n",
       "\\end{tabular}\n"
      ],
      "text/markdown": [
       "\n",
       "A data.table: 6 x 22\n",
       "\n",
       "| gwas_study &lt;chr&gt; | chr &lt;int&gt; | molecular_id &lt;chr&gt; | TSS &lt;int&gt; | start &lt;int&gt; | end &lt;int&gt; | context &lt;chr&gt; | method &lt;chr&gt; | is_imputable &lt;lgl&gt; | is_selected_method &lt;lgl&gt; | ... ... | twas_z &lt;dbl&gt; | twas_pval &lt;dbl&gt; | type &lt;chr&gt; | block &lt;chr&gt; | region &lt;chr&gt; | study_context &lt;chr&gt; | source_file &lt;chr&gt; | gene_id &lt;chr&gt; | N &lt;int&gt; | twas_pval_bonf &lt;dbl&gt; |\n",
       "|---|---|---|---|---|---|---|---|---|---|---|---|---|---|---|---|---|---|---|---|---|\n",
       "| image_Aging2 | 10 | ENSG00000055950 | 100987514 |  99320000 | 102120000 | Knight_eQTL_brain | enet  | TRUE | FALSE | ... | 0.4422873 | 0.65828134 | eQTL | chr10_100331627_104378781 | chr10_100331627_104378781 | KNIGHT_eQTL_pQTL | KNIGHT_eQTL_pQTL.chr10_100331627_104378781.twas.tsv.gz | ENSG00000055950 | 17263 | 1 |\n",
       "| image_Aging2 | 10 | ENSG00000055950 | 100987514 |  99320000 | 102120000 | Knight_eQTL_brain | lasso | TRUE | FALSE | ... | 0.5153586 | 0.60630249 | eQTL | chr10_100331627_104378781 | chr10_100331627_104378781 | KNIGHT_eQTL_pQTL | KNIGHT_eQTL_pQTL.chr10_100331627_104378781.twas.tsv.gz | ENSG00000055950 | 17263 | 1 |\n",
       "| image_Aging2 | 10 | ENSG00000055950 | 100987514 |  99320000 | 102120000 | Knight_eQTL_brain | mrash | TRUE | FALSE | ... | 0.3763701 | 0.70664179 | eQTL | chr10_100331627_104378781 | chr10_100331627_104378781 | KNIGHT_eQTL_pQTL | KNIGHT_eQTL_pQTL.chr10_100331627_104378781.twas.tsv.gz | ENSG00000055950 | 17263 | 1 |\n",
       "| image_Aging2 | 10 | ENSG00000055950 | 100987514 |  99320000 | 102120000 | Knight_eQTL_brain | susie | TRUE |  TRUE | ... | 0.4166957 | 0.67690100 | eQTL | chr10_100331627_104378781 | chr10_100331627_104378781 | KNIGHT_eQTL_pQTL | KNIGHT_eQTL_pQTL.chr10_100331627_104378781.twas.tsv.gz | ENSG00000055950 | 17263 | 1 |\n",
       "| image_Aging2 | 10 | ENSG00000059915 | 102421538 | 101402617 | 103680000 | Knight_eQTL_brain | enet  | TRUE | FALSE | ... | 2.3533373 | 0.01860575 | eQTL | chr10_100331627_104378781 | chr10_100331627_104378781 | KNIGHT_eQTL_pQTL | KNIGHT_eQTL_pQTL.chr10_100331627_104378781.twas.tsv.gz | ENSG00000059915 | 17263 | 1 |\n",
       "| image_Aging2 | 10 | ENSG00000059915 | 102421538 | 101402617 | 103680000 | Knight_eQTL_brain | lasso | TRUE | FALSE | ... | 2.2734046 | 0.02300181 | eQTL | chr10_100331627_104378781 | chr10_100331627_104378781 | KNIGHT_eQTL_pQTL | KNIGHT_eQTL_pQTL.chr10_100331627_104378781.twas.tsv.gz | ENSG00000059915 | 17263 | 1 |\n",
       "\n"
      ],
      "text/plain": [
       "  gwas_study   chr molecular_id    TSS       start     end      \n",
       "1 image_Aging2 10  ENSG00000055950 100987514  99320000 102120000\n",
       "2 image_Aging2 10  ENSG00000055950 100987514  99320000 102120000\n",
       "3 image_Aging2 10  ENSG00000055950 100987514  99320000 102120000\n",
       "4 image_Aging2 10  ENSG00000055950 100987514  99320000 102120000\n",
       "5 image_Aging2 10  ENSG00000059915 102421538 101402617 103680000\n",
       "6 image_Aging2 10  ENSG00000059915 102421538 101402617 103680000\n",
       "  context           method is_imputable is_selected_method ... twas_z   \n",
       "1 Knight_eQTL_brain enet   TRUE         FALSE              ... 0.4422873\n",
       "2 Knight_eQTL_brain lasso  TRUE         FALSE              ... 0.5153586\n",
       "3 Knight_eQTL_brain mrash  TRUE         FALSE              ... 0.3763701\n",
       "4 Knight_eQTL_brain susie  TRUE          TRUE              ... 0.4166957\n",
       "5 Knight_eQTL_brain enet   TRUE         FALSE              ... 2.3533373\n",
       "6 Knight_eQTL_brain lasso  TRUE         FALSE              ... 2.2734046\n",
       "  twas_pval  type block                     region                   \n",
       "1 0.65828134 eQTL chr10_100331627_104378781 chr10_100331627_104378781\n",
       "2 0.60630249 eQTL chr10_100331627_104378781 chr10_100331627_104378781\n",
       "3 0.70664179 eQTL chr10_100331627_104378781 chr10_100331627_104378781\n",
       "4 0.67690100 eQTL chr10_100331627_104378781 chr10_100331627_104378781\n",
       "5 0.01860575 eQTL chr10_100331627_104378781 chr10_100331627_104378781\n",
       "6 0.02300181 eQTL chr10_100331627_104378781 chr10_100331627_104378781\n",
       "  study_context    source_file                                           \n",
       "1 KNIGHT_eQTL_pQTL KNIGHT_eQTL_pQTL.chr10_100331627_104378781.twas.tsv.gz\n",
       "2 KNIGHT_eQTL_pQTL KNIGHT_eQTL_pQTL.chr10_100331627_104378781.twas.tsv.gz\n",
       "3 KNIGHT_eQTL_pQTL KNIGHT_eQTL_pQTL.chr10_100331627_104378781.twas.tsv.gz\n",
       "4 KNIGHT_eQTL_pQTL KNIGHT_eQTL_pQTL.chr10_100331627_104378781.twas.tsv.gz\n",
       "5 KNIGHT_eQTL_pQTL KNIGHT_eQTL_pQTL.chr10_100331627_104378781.twas.tsv.gz\n",
       "6 KNIGHT_eQTL_pQTL KNIGHT_eQTL_pQTL.chr10_100331627_104378781.twas.tsv.gz\n",
       "  gene_id         N     twas_pval_bonf\n",
       "1 ENSG00000055950 17263 1             \n",
       "2 ENSG00000055950 17263 1             \n",
       "3 ENSG00000055950 17263 1             \n",
       "4 ENSG00000055950 17263 1             \n",
       "5 ENSG00000059915 17263 1             \n",
       "6 ENSG00000059915 17263 1             "
      ]
     },
     "metadata": {},
     "output_type": "display_data"
    },
    {
     "data": {
      "text/html": [
       "<style>\n",
       ".list-inline {list-style: none; margin:0; padding: 0}\n",
       ".list-inline>li {display: inline-block}\n",
       ".list-inline>li:not(:last-child)::after {content: \"\\00b7\"; padding: 0 .5ex}\n",
       "</style>\n",
       "<ol class=list-inline><li>920648</li><li>22</li></ol>\n"
      ],
      "text/latex": [
       "\\begin{enumerate*}\n",
       "\\item 920648\n",
       "\\item 22\n",
       "\\end{enumerate*}\n"
      ],
      "text/markdown": [
       "1. 920648\n",
       "2. 22\n",
       "\n",
       "\n"
      ],
      "text/plain": [
       "[1] 920648     22"
      ]
     },
     "metadata": {},
     "output_type": "display_data"
    }
   ],
   "source": [
    "head(image_Aging2)\n",
    "dim(image_Aging2)"
   ]
  },
  {
   "cell_type": "code",
   "execution_count": 199,
   "id": "9f3bde7f-2a16-46f3-8ae6-8437a3dd7098",
   "metadata": {},
   "outputs": [
    {
     "data": {
      "text/html": [
       "58"
      ],
      "text/latex": [
       "58"
      ],
      "text/markdown": [
       "58"
      ],
      "text/plain": [
       "[1] 58"
      ]
     },
     "metadata": {},
     "output_type": "display_data"
    }
   ],
   "source": [
    "sig_image_Aging2 = image_Aging2 |> filter(is_selected_method, twas_pval_bonf < 0.05) \n",
    "length(unique(sig_image_Aging2$molecular_id))"
   ]
  },
  {
   "cell_type": "code",
   "execution_count": 200,
   "id": "fc0ff687-0e98-49a6-b4d7-5a9c640e6764",
   "metadata": {},
   "outputs": [],
   "source": [
    "image_Aging2_gene_list = sig_image_Aging2 |> mutate(`#chr` = paste0(\"chr\", chr), gene_id = molecular_id)|>select(`#chr`, start, end, gene_id) |> unique()"
   ]
  },
  {
   "cell_type": "code",
   "execution_count": 201,
   "id": "8d9f6684-5af1-40d5-abc5-42dbebb23858",
   "metadata": {},
   "outputs": [
    {
     "data": {
      "text/html": [
       "<style>\n",
       ".list-inline {list-style: none; margin:0; padding: 0}\n",
       ".list-inline>li {display: inline-block}\n",
       ".list-inline>li:not(:last-child)::after {content: \"\\00b7\"; padding: 0 .5ex}\n",
       "</style>\n",
       "<ol class=list-inline><li>58</li><li>4</li></ol>\n"
      ],
      "text/latex": [
       "\\begin{enumerate*}\n",
       "\\item 58\n",
       "\\item 4\n",
       "\\end{enumerate*}\n"
      ],
      "text/markdown": [
       "1. 58\n",
       "2. 4\n",
       "\n",
       "\n"
      ],
      "text/plain": [
       "[1] 58  4"
      ]
     },
     "metadata": {},
     "output_type": "display_data"
    }
   ],
   "source": [
    "dim(image_Aging2_gene_list)"
   ]
  },
  {
   "cell_type": "code",
   "execution_count": 202,
   "id": "7274442a-99e4-406c-8735-a7e08d9ee559",
   "metadata": {},
   "outputs": [],
   "source": [
    "DNE_QTL_gene = fread(\"~/project/image_QTL/twas/annotated_dne_gene.tsv\")\n"
   ]
  },
  {
   "cell_type": "code",
   "execution_count": 203,
   "id": "7b004a73-223b-44b7-8e02-b1222bdb2187",
   "metadata": {},
   "outputs": [],
   "source": [
    "image_Aging2_QTL_gene = DNE_QTL_gene |> filter(str_detect(event_ID, \"image_Aging2\")) |> select(-strand,-event_ID)\n",
    "                                        "
   ]
  },
  {
   "cell_type": "code",
   "execution_count": 204,
   "id": "c405ae02-622d-45bc-b580-04e04f46ad1c",
   "metadata": {},
   "outputs": [],
   "source": [
    "image_Aging2_gene = bind_rows(image_Aging2_gene_list, image_Aging2_QTL_gene)"
   ]
  },
  {
   "cell_type": "code",
   "execution_count": 205,
   "id": "32f345e9-2f2f-47ba-89a0-25e14a971ac8",
   "metadata": {},
   "outputs": [],
   "source": [
    "fwrite(image_Aging2_gene, \"image_Aging2_gene_list.tsv\", sep = '\\t')"
   ]
  },
  {
   "cell_type": "code",
   "execution_count": null,
   "id": "60efeb4d-52d1-4825-a711-9b31ed4c36a5",
   "metadata": {},
   "outputs": [],
   "source": []
  },
  {
   "cell_type": "markdown",
   "id": "3163f43c-480d-499e-a90a-fb9498f448d5",
   "metadata": {},
   "source": [
    "## image_Aging3"
   ]
  },
  {
   "cell_type": "code",
   "execution_count": 206,
   "id": "c40d638a-87d5-490a-b72e-975a588999aa",
   "metadata": {},
   "outputs": [],
   "source": [
    "image_Aging3 <- fread(\"~/project/image_QTL/twas/multiple_testing/image_Aging3_twas_bonff.bonf_corrected.tsv.gz\")"
   ]
  },
  {
   "cell_type": "code",
   "execution_count": 207,
   "id": "4ef4c324-7cb1-40e8-9e05-5b42fcfb6266",
   "metadata": {},
   "outputs": [
    {
     "data": {
      "text/html": [
       "<table class=\"dataframe\">\n",
       "<caption>A data.table: 6 x 22</caption>\n",
       "<thead>\n",
       "\t<tr><th scope=col>gwas_study</th><th scope=col>chr</th><th scope=col>molecular_id</th><th scope=col>TSS</th><th scope=col>start</th><th scope=col>end</th><th scope=col>context</th><th scope=col>method</th><th scope=col>is_imputable</th><th scope=col>is_selected_method</th><th scope=col>...</th><th scope=col>twas_z</th><th scope=col>twas_pval</th><th scope=col>type</th><th scope=col>block</th><th scope=col>region</th><th scope=col>study_context</th><th scope=col>source_file</th><th scope=col>gene_id</th><th scope=col>N</th><th scope=col>twas_pval_bonf</th></tr>\n",
       "\t<tr><th scope=col>&lt;chr&gt;</th><th scope=col>&lt;int&gt;</th><th scope=col>&lt;chr&gt;</th><th scope=col>&lt;int&gt;</th><th scope=col>&lt;int&gt;</th><th scope=col>&lt;int&gt;</th><th scope=col>&lt;chr&gt;</th><th scope=col>&lt;chr&gt;</th><th scope=col>&lt;lgl&gt;</th><th scope=col>&lt;lgl&gt;</th><th scope=col>...</th><th scope=col>&lt;dbl&gt;</th><th scope=col>&lt;dbl&gt;</th><th scope=col>&lt;chr&gt;</th><th scope=col>&lt;chr&gt;</th><th scope=col>&lt;chr&gt;</th><th scope=col>&lt;chr&gt;</th><th scope=col>&lt;chr&gt;</th><th scope=col>&lt;chr&gt;</th><th scope=col>&lt;int&gt;</th><th scope=col>&lt;dbl&gt;</th></tr>\n",
       "</thead>\n",
       "<tbody>\n",
       "\t<tr><td>image_Aging3</td><td>10</td><td>ENSG00000055950</td><td>100987514</td><td> 99320000</td><td>102120000</td><td>Knight_eQTL_brain</td><td>enet </td><td>TRUE</td><td>FALSE</td><td>...</td><td> 0.9022919</td><td>0.3669019</td><td>eQTL</td><td>chr10_100331627_104378781</td><td>chr10_100331627_104378781</td><td>KNIGHT_eQTL_pQTL</td><td>KNIGHT_eQTL_pQTL.chr10_100331627_104378781.twas.tsv.gz</td><td>ENSG00000055950</td><td>17281</td><td>1</td></tr>\n",
       "\t<tr><td>image_Aging3</td><td>10</td><td>ENSG00000055950</td><td>100987514</td><td> 99320000</td><td>102120000</td><td>Knight_eQTL_brain</td><td>lasso</td><td>TRUE</td><td>FALSE</td><td>...</td><td> 0.8315505</td><td>0.4056627</td><td>eQTL</td><td>chr10_100331627_104378781</td><td>chr10_100331627_104378781</td><td>KNIGHT_eQTL_pQTL</td><td>KNIGHT_eQTL_pQTL.chr10_100331627_104378781.twas.tsv.gz</td><td>ENSG00000055950</td><td>17281</td><td>1</td></tr>\n",
       "\t<tr><td>image_Aging3</td><td>10</td><td>ENSG00000055950</td><td>100987514</td><td> 99320000</td><td>102120000</td><td>Knight_eQTL_brain</td><td>mrash</td><td>TRUE</td><td>FALSE</td><td>...</td><td> 1.0668278</td><td>0.2860496</td><td>eQTL</td><td>chr10_100331627_104378781</td><td>chr10_100331627_104378781</td><td>KNIGHT_eQTL_pQTL</td><td>KNIGHT_eQTL_pQTL.chr10_100331627_104378781.twas.tsv.gz</td><td>ENSG00000055950</td><td>17281</td><td>1</td></tr>\n",
       "\t<tr><td>image_Aging3</td><td>10</td><td>ENSG00000055950</td><td>100987514</td><td> 99320000</td><td>102120000</td><td>Knight_eQTL_brain</td><td>susie</td><td>TRUE</td><td> TRUE</td><td>...</td><td> 0.9338231</td><td>0.3503952</td><td>eQTL</td><td>chr10_100331627_104378781</td><td>chr10_100331627_104378781</td><td>KNIGHT_eQTL_pQTL</td><td>KNIGHT_eQTL_pQTL.chr10_100331627_104378781.twas.tsv.gz</td><td>ENSG00000055950</td><td>17281</td><td>1</td></tr>\n",
       "\t<tr><td>image_Aging3</td><td>10</td><td>ENSG00000059915</td><td>102421538</td><td>101402617</td><td>103680000</td><td>Knight_eQTL_brain</td><td>enet </td><td>TRUE</td><td>FALSE</td><td>...</td><td>-1.5674767</td><td>0.1170033</td><td>eQTL</td><td>chr10_100331627_104378781</td><td>chr10_100331627_104378781</td><td>KNIGHT_eQTL_pQTL</td><td>KNIGHT_eQTL_pQTL.chr10_100331627_104378781.twas.tsv.gz</td><td>ENSG00000059915</td><td>17281</td><td>1</td></tr>\n",
       "\t<tr><td>image_Aging3</td><td>10</td><td>ENSG00000059915</td><td>102421538</td><td>101402617</td><td>103680000</td><td>Knight_eQTL_brain</td><td>lasso</td><td>TRUE</td><td>FALSE</td><td>...</td><td>-1.5819370</td><td>0.1136639</td><td>eQTL</td><td>chr10_100331627_104378781</td><td>chr10_100331627_104378781</td><td>KNIGHT_eQTL_pQTL</td><td>KNIGHT_eQTL_pQTL.chr10_100331627_104378781.twas.tsv.gz</td><td>ENSG00000059915</td><td>17281</td><td>1</td></tr>\n",
       "</tbody>\n",
       "</table>\n"
      ],
      "text/latex": [
       "A data.table: 6 x 22\n",
       "\\begin{tabular}{lllllllllllllllllllll}\n",
       " gwas\\_study & chr & molecular\\_id & TSS & start & end & context & method & is\\_imputable & is\\_selected\\_method & ... & twas\\_z & twas\\_pval & type & block & region & study\\_context & source\\_file & gene\\_id & N & twas\\_pval\\_bonf\\\\\n",
       " <chr> & <int> & <chr> & <int> & <int> & <int> & <chr> & <chr> & <lgl> & <lgl> & ... & <dbl> & <dbl> & <chr> & <chr> & <chr> & <chr> & <chr> & <chr> & <int> & <dbl>\\\\\n",
       "\\hline\n",
       "\t image\\_Aging3 & 10 & ENSG00000055950 & 100987514 &  99320000 & 102120000 & Knight\\_eQTL\\_brain & enet  & TRUE & FALSE & ... &  0.9022919 & 0.3669019 & eQTL & chr10\\_100331627\\_104378781 & chr10\\_100331627\\_104378781 & KNIGHT\\_eQTL\\_pQTL & KNIGHT\\_eQTL\\_pQTL.chr10\\_100331627\\_104378781.twas.tsv.gz & ENSG00000055950 & 17281 & 1\\\\\n",
       "\t image\\_Aging3 & 10 & ENSG00000055950 & 100987514 &  99320000 & 102120000 & Knight\\_eQTL\\_brain & lasso & TRUE & FALSE & ... &  0.8315505 & 0.4056627 & eQTL & chr10\\_100331627\\_104378781 & chr10\\_100331627\\_104378781 & KNIGHT\\_eQTL\\_pQTL & KNIGHT\\_eQTL\\_pQTL.chr10\\_100331627\\_104378781.twas.tsv.gz & ENSG00000055950 & 17281 & 1\\\\\n",
       "\t image\\_Aging3 & 10 & ENSG00000055950 & 100987514 &  99320000 & 102120000 & Knight\\_eQTL\\_brain & mrash & TRUE & FALSE & ... &  1.0668278 & 0.2860496 & eQTL & chr10\\_100331627\\_104378781 & chr10\\_100331627\\_104378781 & KNIGHT\\_eQTL\\_pQTL & KNIGHT\\_eQTL\\_pQTL.chr10\\_100331627\\_104378781.twas.tsv.gz & ENSG00000055950 & 17281 & 1\\\\\n",
       "\t image\\_Aging3 & 10 & ENSG00000055950 & 100987514 &  99320000 & 102120000 & Knight\\_eQTL\\_brain & susie & TRUE &  TRUE & ... &  0.9338231 & 0.3503952 & eQTL & chr10\\_100331627\\_104378781 & chr10\\_100331627\\_104378781 & KNIGHT\\_eQTL\\_pQTL & KNIGHT\\_eQTL\\_pQTL.chr10\\_100331627\\_104378781.twas.tsv.gz & ENSG00000055950 & 17281 & 1\\\\\n",
       "\t image\\_Aging3 & 10 & ENSG00000059915 & 102421538 & 101402617 & 103680000 & Knight\\_eQTL\\_brain & enet  & TRUE & FALSE & ... & -1.5674767 & 0.1170033 & eQTL & chr10\\_100331627\\_104378781 & chr10\\_100331627\\_104378781 & KNIGHT\\_eQTL\\_pQTL & KNIGHT\\_eQTL\\_pQTL.chr10\\_100331627\\_104378781.twas.tsv.gz & ENSG00000059915 & 17281 & 1\\\\\n",
       "\t image\\_Aging3 & 10 & ENSG00000059915 & 102421538 & 101402617 & 103680000 & Knight\\_eQTL\\_brain & lasso & TRUE & FALSE & ... & -1.5819370 & 0.1136639 & eQTL & chr10\\_100331627\\_104378781 & chr10\\_100331627\\_104378781 & KNIGHT\\_eQTL\\_pQTL & KNIGHT\\_eQTL\\_pQTL.chr10\\_100331627\\_104378781.twas.tsv.gz & ENSG00000059915 & 17281 & 1\\\\\n",
       "\\end{tabular}\n"
      ],
      "text/markdown": [
       "\n",
       "A data.table: 6 x 22\n",
       "\n",
       "| gwas_study &lt;chr&gt; | chr &lt;int&gt; | molecular_id &lt;chr&gt; | TSS &lt;int&gt; | start &lt;int&gt; | end &lt;int&gt; | context &lt;chr&gt; | method &lt;chr&gt; | is_imputable &lt;lgl&gt; | is_selected_method &lt;lgl&gt; | ... ... | twas_z &lt;dbl&gt; | twas_pval &lt;dbl&gt; | type &lt;chr&gt; | block &lt;chr&gt; | region &lt;chr&gt; | study_context &lt;chr&gt; | source_file &lt;chr&gt; | gene_id &lt;chr&gt; | N &lt;int&gt; | twas_pval_bonf &lt;dbl&gt; |\n",
       "|---|---|---|---|---|---|---|---|---|---|---|---|---|---|---|---|---|---|---|---|---|\n",
       "| image_Aging3 | 10 | ENSG00000055950 | 100987514 |  99320000 | 102120000 | Knight_eQTL_brain | enet  | TRUE | FALSE | ... |  0.9022919 | 0.3669019 | eQTL | chr10_100331627_104378781 | chr10_100331627_104378781 | KNIGHT_eQTL_pQTL | KNIGHT_eQTL_pQTL.chr10_100331627_104378781.twas.tsv.gz | ENSG00000055950 | 17281 | 1 |\n",
       "| image_Aging3 | 10 | ENSG00000055950 | 100987514 |  99320000 | 102120000 | Knight_eQTL_brain | lasso | TRUE | FALSE | ... |  0.8315505 | 0.4056627 | eQTL | chr10_100331627_104378781 | chr10_100331627_104378781 | KNIGHT_eQTL_pQTL | KNIGHT_eQTL_pQTL.chr10_100331627_104378781.twas.tsv.gz | ENSG00000055950 | 17281 | 1 |\n",
       "| image_Aging3 | 10 | ENSG00000055950 | 100987514 |  99320000 | 102120000 | Knight_eQTL_brain | mrash | TRUE | FALSE | ... |  1.0668278 | 0.2860496 | eQTL | chr10_100331627_104378781 | chr10_100331627_104378781 | KNIGHT_eQTL_pQTL | KNIGHT_eQTL_pQTL.chr10_100331627_104378781.twas.tsv.gz | ENSG00000055950 | 17281 | 1 |\n",
       "| image_Aging3 | 10 | ENSG00000055950 | 100987514 |  99320000 | 102120000 | Knight_eQTL_brain | susie | TRUE |  TRUE | ... |  0.9338231 | 0.3503952 | eQTL | chr10_100331627_104378781 | chr10_100331627_104378781 | KNIGHT_eQTL_pQTL | KNIGHT_eQTL_pQTL.chr10_100331627_104378781.twas.tsv.gz | ENSG00000055950 | 17281 | 1 |\n",
       "| image_Aging3 | 10 | ENSG00000059915 | 102421538 | 101402617 | 103680000 | Knight_eQTL_brain | enet  | TRUE | FALSE | ... | -1.5674767 | 0.1170033 | eQTL | chr10_100331627_104378781 | chr10_100331627_104378781 | KNIGHT_eQTL_pQTL | KNIGHT_eQTL_pQTL.chr10_100331627_104378781.twas.tsv.gz | ENSG00000059915 | 17281 | 1 |\n",
       "| image_Aging3 | 10 | ENSG00000059915 | 102421538 | 101402617 | 103680000 | Knight_eQTL_brain | lasso | TRUE | FALSE | ... | -1.5819370 | 0.1136639 | eQTL | chr10_100331627_104378781 | chr10_100331627_104378781 | KNIGHT_eQTL_pQTL | KNIGHT_eQTL_pQTL.chr10_100331627_104378781.twas.tsv.gz | ENSG00000059915 | 17281 | 1 |\n",
       "\n"
      ],
      "text/plain": [
       "  gwas_study   chr molecular_id    TSS       start     end      \n",
       "1 image_Aging3 10  ENSG00000055950 100987514  99320000 102120000\n",
       "2 image_Aging3 10  ENSG00000055950 100987514  99320000 102120000\n",
       "3 image_Aging3 10  ENSG00000055950 100987514  99320000 102120000\n",
       "4 image_Aging3 10  ENSG00000055950 100987514  99320000 102120000\n",
       "5 image_Aging3 10  ENSG00000059915 102421538 101402617 103680000\n",
       "6 image_Aging3 10  ENSG00000059915 102421538 101402617 103680000\n",
       "  context           method is_imputable is_selected_method ... twas_z    \n",
       "1 Knight_eQTL_brain enet   TRUE         FALSE              ...  0.9022919\n",
       "2 Knight_eQTL_brain lasso  TRUE         FALSE              ...  0.8315505\n",
       "3 Knight_eQTL_brain mrash  TRUE         FALSE              ...  1.0668278\n",
       "4 Knight_eQTL_brain susie  TRUE          TRUE              ...  0.9338231\n",
       "5 Knight_eQTL_brain enet   TRUE         FALSE              ... -1.5674767\n",
       "6 Knight_eQTL_brain lasso  TRUE         FALSE              ... -1.5819370\n",
       "  twas_pval type block                     region                   \n",
       "1 0.3669019 eQTL chr10_100331627_104378781 chr10_100331627_104378781\n",
       "2 0.4056627 eQTL chr10_100331627_104378781 chr10_100331627_104378781\n",
       "3 0.2860496 eQTL chr10_100331627_104378781 chr10_100331627_104378781\n",
       "4 0.3503952 eQTL chr10_100331627_104378781 chr10_100331627_104378781\n",
       "5 0.1170033 eQTL chr10_100331627_104378781 chr10_100331627_104378781\n",
       "6 0.1136639 eQTL chr10_100331627_104378781 chr10_100331627_104378781\n",
       "  study_context    source_file                                           \n",
       "1 KNIGHT_eQTL_pQTL KNIGHT_eQTL_pQTL.chr10_100331627_104378781.twas.tsv.gz\n",
       "2 KNIGHT_eQTL_pQTL KNIGHT_eQTL_pQTL.chr10_100331627_104378781.twas.tsv.gz\n",
       "3 KNIGHT_eQTL_pQTL KNIGHT_eQTL_pQTL.chr10_100331627_104378781.twas.tsv.gz\n",
       "4 KNIGHT_eQTL_pQTL KNIGHT_eQTL_pQTL.chr10_100331627_104378781.twas.tsv.gz\n",
       "5 KNIGHT_eQTL_pQTL KNIGHT_eQTL_pQTL.chr10_100331627_104378781.twas.tsv.gz\n",
       "6 KNIGHT_eQTL_pQTL KNIGHT_eQTL_pQTL.chr10_100331627_104378781.twas.tsv.gz\n",
       "  gene_id         N     twas_pval_bonf\n",
       "1 ENSG00000055950 17281 1             \n",
       "2 ENSG00000055950 17281 1             \n",
       "3 ENSG00000055950 17281 1             \n",
       "4 ENSG00000055950 17281 1             \n",
       "5 ENSG00000059915 17281 1             \n",
       "6 ENSG00000059915 17281 1             "
      ]
     },
     "metadata": {},
     "output_type": "display_data"
    },
    {
     "data": {
      "text/html": [
       "<style>\n",
       ".list-inline {list-style: none; margin:0; padding: 0}\n",
       ".list-inline>li {display: inline-block}\n",
       ".list-inline>li:not(:last-child)::after {content: \"\\00b7\"; padding: 0 .5ex}\n",
       "</style>\n",
       "<ol class=list-inline><li>924774</li><li>22</li></ol>\n"
      ],
      "text/latex": [
       "\\begin{enumerate*}\n",
       "\\item 924774\n",
       "\\item 22\n",
       "\\end{enumerate*}\n"
      ],
      "text/markdown": [
       "1. 924774\n",
       "2. 22\n",
       "\n",
       "\n"
      ],
      "text/plain": [
       "[1] 924774     22"
      ]
     },
     "metadata": {},
     "output_type": "display_data"
    }
   ],
   "source": [
    "head(image_Aging3)\n",
    "dim(image_Aging3)"
   ]
  },
  {
   "cell_type": "code",
   "execution_count": 208,
   "id": "c7fa4b6d-eaa6-425b-b253-6cef8f2d5b49",
   "metadata": {},
   "outputs": [
    {
     "data": {
      "text/html": [
       "20"
      ],
      "text/latex": [
       "20"
      ],
      "text/markdown": [
       "20"
      ],
      "text/plain": [
       "[1] 20"
      ]
     },
     "metadata": {},
     "output_type": "display_data"
    }
   ],
   "source": [
    "sig_image_Aging3 = image_Aging3 |> filter(is_selected_method, twas_pval_bonf < 0.05) \n",
    "length(unique(sig_image_Aging3$molecular_id))"
   ]
  },
  {
   "cell_type": "code",
   "execution_count": 209,
   "id": "1f64dfdf-e0c5-4431-9e19-30168f43cf27",
   "metadata": {},
   "outputs": [],
   "source": [
    "image_Aging3_gene_list = sig_image_Aging3 |> mutate(`#chr` = paste0(\"chr\", chr), gene_id = molecular_id)|>select(`#chr`, start, end, gene_id) |> unique()"
   ]
  },
  {
   "cell_type": "code",
   "execution_count": 210,
   "id": "95b46c94-6552-4ed9-bd7e-fc77403743b4",
   "metadata": {},
   "outputs": [
    {
     "data": {
      "text/html": [
       "<style>\n",
       ".list-inline {list-style: none; margin:0; padding: 0}\n",
       ".list-inline>li {display: inline-block}\n",
       ".list-inline>li:not(:last-child)::after {content: \"\\00b7\"; padding: 0 .5ex}\n",
       "</style>\n",
       "<ol class=list-inline><li>20</li><li>4</li></ol>\n"
      ],
      "text/latex": [
       "\\begin{enumerate*}\n",
       "\\item 20\n",
       "\\item 4\n",
       "\\end{enumerate*}\n"
      ],
      "text/markdown": [
       "1. 20\n",
       "2. 4\n",
       "\n",
       "\n"
      ],
      "text/plain": [
       "[1] 20  4"
      ]
     },
     "metadata": {},
     "output_type": "display_data"
    }
   ],
   "source": [
    "dim(image_Aging3_gene_list)"
   ]
  },
  {
   "cell_type": "code",
   "execution_count": 211,
   "id": "a5242ef3-1248-4237-9e4e-488d57b2bf6f",
   "metadata": {},
   "outputs": [],
   "source": [
    "DNE_QTL_gene = fread(\"~/project/image_QTL/twas/annotated_dne_gene.tsv\")\n"
   ]
  },
  {
   "cell_type": "code",
   "execution_count": 212,
   "id": "11d6b2fc-5919-4dc8-b35a-e37f33a702d8",
   "metadata": {},
   "outputs": [],
   "source": [
    "image_Aging3_QTL_gene = DNE_QTL_gene |> filter(str_detect(event_ID, \"image_Aging3\")) |> select(-strand,-event_ID)\n",
    "                                        "
   ]
  },
  {
   "cell_type": "code",
   "execution_count": 213,
   "id": "ecf0fc11-b573-4e86-8f32-fa4392c5f2d0",
   "metadata": {},
   "outputs": [],
   "source": [
    "image_Aging3_gene = bind_rows(image_Aging3_gene_list, image_Aging3_QTL_gene)"
   ]
  },
  {
   "cell_type": "code",
   "execution_count": 214,
   "id": "184abe3d-3ca7-4e22-9e83-16bc708096dd",
   "metadata": {},
   "outputs": [],
   "source": [
    "fwrite(image_Aging3_gene, \"image_Aging3_gene_list.tsv\", sep = '\\t')"
   ]
  },
  {
   "cell_type": "code",
   "execution_count": null,
   "id": "1611727e-6b67-492b-a332-02b0325decfc",
   "metadata": {},
   "outputs": [],
   "source": []
  },
  {
   "cell_type": "markdown",
   "id": "ac8166f0-4db4-4023-b522-aedb8620b8dd",
   "metadata": {},
   "source": [
    "## image_Aging4"
   ]
  },
  {
   "cell_type": "code",
   "execution_count": 215,
   "id": "cfbd23df-7634-4ae0-ac6e-2a337f01cce1",
   "metadata": {},
   "outputs": [],
   "source": [
    "image_Aging4 <- fread(\"~/project/image_QTL/twas/multiple_testing/image_Aging4_twas_bonff.bonf_corrected.tsv.gz\")"
   ]
  },
  {
   "cell_type": "code",
   "execution_count": 216,
   "id": "7e2b0d52-1091-4a43-aa1e-f58040dc90c7",
   "metadata": {},
   "outputs": [
    {
     "data": {
      "text/html": [
       "<table class=\"dataframe\">\n",
       "<caption>A data.table: 6 x 22</caption>\n",
       "<thead>\n",
       "\t<tr><th scope=col>gwas_study</th><th scope=col>chr</th><th scope=col>molecular_id</th><th scope=col>TSS</th><th scope=col>start</th><th scope=col>end</th><th scope=col>context</th><th scope=col>method</th><th scope=col>is_imputable</th><th scope=col>is_selected_method</th><th scope=col>...</th><th scope=col>twas_z</th><th scope=col>twas_pval</th><th scope=col>type</th><th scope=col>block</th><th scope=col>region</th><th scope=col>study_context</th><th scope=col>source_file</th><th scope=col>gene_id</th><th scope=col>N</th><th scope=col>twas_pval_bonf</th></tr>\n",
       "\t<tr><th scope=col>&lt;chr&gt;</th><th scope=col>&lt;int&gt;</th><th scope=col>&lt;chr&gt;</th><th scope=col>&lt;int&gt;</th><th scope=col>&lt;int&gt;</th><th scope=col>&lt;int&gt;</th><th scope=col>&lt;chr&gt;</th><th scope=col>&lt;chr&gt;</th><th scope=col>&lt;lgl&gt;</th><th scope=col>&lt;lgl&gt;</th><th scope=col>...</th><th scope=col>&lt;dbl&gt;</th><th scope=col>&lt;dbl&gt;</th><th scope=col>&lt;chr&gt;</th><th scope=col>&lt;chr&gt;</th><th scope=col>&lt;chr&gt;</th><th scope=col>&lt;chr&gt;</th><th scope=col>&lt;chr&gt;</th><th scope=col>&lt;chr&gt;</th><th scope=col>&lt;int&gt;</th><th scope=col>&lt;dbl&gt;</th></tr>\n",
       "</thead>\n",
       "<tbody>\n",
       "\t<tr><td>image_Aging4</td><td>10</td><td>ENSG00000055950</td><td>100987514</td><td> 99320000</td><td>102120000</td><td>Knight_eQTL_brain</td><td>enet </td><td>TRUE</td><td>FALSE</td><td>...</td><td>-2.925529</td><td>0.003438716</td><td>eQTL</td><td>chr10_100331627_104378781</td><td>chr10_100331627_104378781</td><td>KNIGHT_eQTL_pQTL</td><td>KNIGHT_eQTL_pQTL.chr10_100331627_104378781.twas.tsv.gz</td><td>ENSG00000055950</td><td>17255</td><td>1</td></tr>\n",
       "\t<tr><td>image_Aging4</td><td>10</td><td>ENSG00000055950</td><td>100987514</td><td> 99320000</td><td>102120000</td><td>Knight_eQTL_brain</td><td>lasso</td><td>TRUE</td><td>FALSE</td><td>...</td><td>-2.953063</td><td>0.003146377</td><td>eQTL</td><td>chr10_100331627_104378781</td><td>chr10_100331627_104378781</td><td>KNIGHT_eQTL_pQTL</td><td>KNIGHT_eQTL_pQTL.chr10_100331627_104378781.twas.tsv.gz</td><td>ENSG00000055950</td><td>17255</td><td>1</td></tr>\n",
       "\t<tr><td>image_Aging4</td><td>10</td><td>ENSG00000055950</td><td>100987514</td><td> 99320000</td><td>102120000</td><td>Knight_eQTL_brain</td><td>mrash</td><td>TRUE</td><td>FALSE</td><td>...</td><td>-2.792398</td><td>0.005231890</td><td>eQTL</td><td>chr10_100331627_104378781</td><td>chr10_100331627_104378781</td><td>KNIGHT_eQTL_pQTL</td><td>KNIGHT_eQTL_pQTL.chr10_100331627_104378781.twas.tsv.gz</td><td>ENSG00000055950</td><td>17255</td><td>1</td></tr>\n",
       "\t<tr><td>image_Aging4</td><td>10</td><td>ENSG00000055950</td><td>100987514</td><td> 99320000</td><td>102120000</td><td>Knight_eQTL_brain</td><td>susie</td><td>TRUE</td><td> TRUE</td><td>...</td><td>-2.932920</td><td>0.003357909</td><td>eQTL</td><td>chr10_100331627_104378781</td><td>chr10_100331627_104378781</td><td>KNIGHT_eQTL_pQTL</td><td>KNIGHT_eQTL_pQTL.chr10_100331627_104378781.twas.tsv.gz</td><td>ENSG00000055950</td><td>17255</td><td>1</td></tr>\n",
       "\t<tr><td>image_Aging4</td><td>10</td><td>ENSG00000059915</td><td>102421538</td><td>101402617</td><td>103680000</td><td>Knight_eQTL_brain</td><td>enet </td><td>TRUE</td><td>FALSE</td><td>...</td><td> 1.188241</td><td>0.234738536</td><td>eQTL</td><td>chr10_100331627_104378781</td><td>chr10_100331627_104378781</td><td>KNIGHT_eQTL_pQTL</td><td>KNIGHT_eQTL_pQTL.chr10_100331627_104378781.twas.tsv.gz</td><td>ENSG00000059915</td><td>17255</td><td>1</td></tr>\n",
       "\t<tr><td>image_Aging4</td><td>10</td><td>ENSG00000059915</td><td>102421538</td><td>101402617</td><td>103680000</td><td>Knight_eQTL_brain</td><td>lasso</td><td>TRUE</td><td>FALSE</td><td>...</td><td> 1.045410</td><td>0.295833712</td><td>eQTL</td><td>chr10_100331627_104378781</td><td>chr10_100331627_104378781</td><td>KNIGHT_eQTL_pQTL</td><td>KNIGHT_eQTL_pQTL.chr10_100331627_104378781.twas.tsv.gz</td><td>ENSG00000059915</td><td>17255</td><td>1</td></tr>\n",
       "</tbody>\n",
       "</table>\n"
      ],
      "text/latex": [
       "A data.table: 6 x 22\n",
       "\\begin{tabular}{lllllllllllllllllllll}\n",
       " gwas\\_study & chr & molecular\\_id & TSS & start & end & context & method & is\\_imputable & is\\_selected\\_method & ... & twas\\_z & twas\\_pval & type & block & region & study\\_context & source\\_file & gene\\_id & N & twas\\_pval\\_bonf\\\\\n",
       " <chr> & <int> & <chr> & <int> & <int> & <int> & <chr> & <chr> & <lgl> & <lgl> & ... & <dbl> & <dbl> & <chr> & <chr> & <chr> & <chr> & <chr> & <chr> & <int> & <dbl>\\\\\n",
       "\\hline\n",
       "\t image\\_Aging4 & 10 & ENSG00000055950 & 100987514 &  99320000 & 102120000 & Knight\\_eQTL\\_brain & enet  & TRUE & FALSE & ... & -2.925529 & 0.003438716 & eQTL & chr10\\_100331627\\_104378781 & chr10\\_100331627\\_104378781 & KNIGHT\\_eQTL\\_pQTL & KNIGHT\\_eQTL\\_pQTL.chr10\\_100331627\\_104378781.twas.tsv.gz & ENSG00000055950 & 17255 & 1\\\\\n",
       "\t image\\_Aging4 & 10 & ENSG00000055950 & 100987514 &  99320000 & 102120000 & Knight\\_eQTL\\_brain & lasso & TRUE & FALSE & ... & -2.953063 & 0.003146377 & eQTL & chr10\\_100331627\\_104378781 & chr10\\_100331627\\_104378781 & KNIGHT\\_eQTL\\_pQTL & KNIGHT\\_eQTL\\_pQTL.chr10\\_100331627\\_104378781.twas.tsv.gz & ENSG00000055950 & 17255 & 1\\\\\n",
       "\t image\\_Aging4 & 10 & ENSG00000055950 & 100987514 &  99320000 & 102120000 & Knight\\_eQTL\\_brain & mrash & TRUE & FALSE & ... & -2.792398 & 0.005231890 & eQTL & chr10\\_100331627\\_104378781 & chr10\\_100331627\\_104378781 & KNIGHT\\_eQTL\\_pQTL & KNIGHT\\_eQTL\\_pQTL.chr10\\_100331627\\_104378781.twas.tsv.gz & ENSG00000055950 & 17255 & 1\\\\\n",
       "\t image\\_Aging4 & 10 & ENSG00000055950 & 100987514 &  99320000 & 102120000 & Knight\\_eQTL\\_brain & susie & TRUE &  TRUE & ... & -2.932920 & 0.003357909 & eQTL & chr10\\_100331627\\_104378781 & chr10\\_100331627\\_104378781 & KNIGHT\\_eQTL\\_pQTL & KNIGHT\\_eQTL\\_pQTL.chr10\\_100331627\\_104378781.twas.tsv.gz & ENSG00000055950 & 17255 & 1\\\\\n",
       "\t image\\_Aging4 & 10 & ENSG00000059915 & 102421538 & 101402617 & 103680000 & Knight\\_eQTL\\_brain & enet  & TRUE & FALSE & ... &  1.188241 & 0.234738536 & eQTL & chr10\\_100331627\\_104378781 & chr10\\_100331627\\_104378781 & KNIGHT\\_eQTL\\_pQTL & KNIGHT\\_eQTL\\_pQTL.chr10\\_100331627\\_104378781.twas.tsv.gz & ENSG00000059915 & 17255 & 1\\\\\n",
       "\t image\\_Aging4 & 10 & ENSG00000059915 & 102421538 & 101402617 & 103680000 & Knight\\_eQTL\\_brain & lasso & TRUE & FALSE & ... &  1.045410 & 0.295833712 & eQTL & chr10\\_100331627\\_104378781 & chr10\\_100331627\\_104378781 & KNIGHT\\_eQTL\\_pQTL & KNIGHT\\_eQTL\\_pQTL.chr10\\_100331627\\_104378781.twas.tsv.gz & ENSG00000059915 & 17255 & 1\\\\\n",
       "\\end{tabular}\n"
      ],
      "text/markdown": [
       "\n",
       "A data.table: 6 x 22\n",
       "\n",
       "| gwas_study &lt;chr&gt; | chr &lt;int&gt; | molecular_id &lt;chr&gt; | TSS &lt;int&gt; | start &lt;int&gt; | end &lt;int&gt; | context &lt;chr&gt; | method &lt;chr&gt; | is_imputable &lt;lgl&gt; | is_selected_method &lt;lgl&gt; | ... ... | twas_z &lt;dbl&gt; | twas_pval &lt;dbl&gt; | type &lt;chr&gt; | block &lt;chr&gt; | region &lt;chr&gt; | study_context &lt;chr&gt; | source_file &lt;chr&gt; | gene_id &lt;chr&gt; | N &lt;int&gt; | twas_pval_bonf &lt;dbl&gt; |\n",
       "|---|---|---|---|---|---|---|---|---|---|---|---|---|---|---|---|---|---|---|---|---|\n",
       "| image_Aging4 | 10 | ENSG00000055950 | 100987514 |  99320000 | 102120000 | Knight_eQTL_brain | enet  | TRUE | FALSE | ... | -2.925529 | 0.003438716 | eQTL | chr10_100331627_104378781 | chr10_100331627_104378781 | KNIGHT_eQTL_pQTL | KNIGHT_eQTL_pQTL.chr10_100331627_104378781.twas.tsv.gz | ENSG00000055950 | 17255 | 1 |\n",
       "| image_Aging4 | 10 | ENSG00000055950 | 100987514 |  99320000 | 102120000 | Knight_eQTL_brain | lasso | TRUE | FALSE | ... | -2.953063 | 0.003146377 | eQTL | chr10_100331627_104378781 | chr10_100331627_104378781 | KNIGHT_eQTL_pQTL | KNIGHT_eQTL_pQTL.chr10_100331627_104378781.twas.tsv.gz | ENSG00000055950 | 17255 | 1 |\n",
       "| image_Aging4 | 10 | ENSG00000055950 | 100987514 |  99320000 | 102120000 | Knight_eQTL_brain | mrash | TRUE | FALSE | ... | -2.792398 | 0.005231890 | eQTL | chr10_100331627_104378781 | chr10_100331627_104378781 | KNIGHT_eQTL_pQTL | KNIGHT_eQTL_pQTL.chr10_100331627_104378781.twas.tsv.gz | ENSG00000055950 | 17255 | 1 |\n",
       "| image_Aging4 | 10 | ENSG00000055950 | 100987514 |  99320000 | 102120000 | Knight_eQTL_brain | susie | TRUE |  TRUE | ... | -2.932920 | 0.003357909 | eQTL | chr10_100331627_104378781 | chr10_100331627_104378781 | KNIGHT_eQTL_pQTL | KNIGHT_eQTL_pQTL.chr10_100331627_104378781.twas.tsv.gz | ENSG00000055950 | 17255 | 1 |\n",
       "| image_Aging4 | 10 | ENSG00000059915 | 102421538 | 101402617 | 103680000 | Knight_eQTL_brain | enet  | TRUE | FALSE | ... |  1.188241 | 0.234738536 | eQTL | chr10_100331627_104378781 | chr10_100331627_104378781 | KNIGHT_eQTL_pQTL | KNIGHT_eQTL_pQTL.chr10_100331627_104378781.twas.tsv.gz | ENSG00000059915 | 17255 | 1 |\n",
       "| image_Aging4 | 10 | ENSG00000059915 | 102421538 | 101402617 | 103680000 | Knight_eQTL_brain | lasso | TRUE | FALSE | ... |  1.045410 | 0.295833712 | eQTL | chr10_100331627_104378781 | chr10_100331627_104378781 | KNIGHT_eQTL_pQTL | KNIGHT_eQTL_pQTL.chr10_100331627_104378781.twas.tsv.gz | ENSG00000059915 | 17255 | 1 |\n",
       "\n"
      ],
      "text/plain": [
       "  gwas_study   chr molecular_id    TSS       start     end      \n",
       "1 image_Aging4 10  ENSG00000055950 100987514  99320000 102120000\n",
       "2 image_Aging4 10  ENSG00000055950 100987514  99320000 102120000\n",
       "3 image_Aging4 10  ENSG00000055950 100987514  99320000 102120000\n",
       "4 image_Aging4 10  ENSG00000055950 100987514  99320000 102120000\n",
       "5 image_Aging4 10  ENSG00000059915 102421538 101402617 103680000\n",
       "6 image_Aging4 10  ENSG00000059915 102421538 101402617 103680000\n",
       "  context           method is_imputable is_selected_method ... twas_z   \n",
       "1 Knight_eQTL_brain enet   TRUE         FALSE              ... -2.925529\n",
       "2 Knight_eQTL_brain lasso  TRUE         FALSE              ... -2.953063\n",
       "3 Knight_eQTL_brain mrash  TRUE         FALSE              ... -2.792398\n",
       "4 Knight_eQTL_brain susie  TRUE          TRUE              ... -2.932920\n",
       "5 Knight_eQTL_brain enet   TRUE         FALSE              ...  1.188241\n",
       "6 Knight_eQTL_brain lasso  TRUE         FALSE              ...  1.045410\n",
       "  twas_pval   type block                     region                   \n",
       "1 0.003438716 eQTL chr10_100331627_104378781 chr10_100331627_104378781\n",
       "2 0.003146377 eQTL chr10_100331627_104378781 chr10_100331627_104378781\n",
       "3 0.005231890 eQTL chr10_100331627_104378781 chr10_100331627_104378781\n",
       "4 0.003357909 eQTL chr10_100331627_104378781 chr10_100331627_104378781\n",
       "5 0.234738536 eQTL chr10_100331627_104378781 chr10_100331627_104378781\n",
       "6 0.295833712 eQTL chr10_100331627_104378781 chr10_100331627_104378781\n",
       "  study_context    source_file                                           \n",
       "1 KNIGHT_eQTL_pQTL KNIGHT_eQTL_pQTL.chr10_100331627_104378781.twas.tsv.gz\n",
       "2 KNIGHT_eQTL_pQTL KNIGHT_eQTL_pQTL.chr10_100331627_104378781.twas.tsv.gz\n",
       "3 KNIGHT_eQTL_pQTL KNIGHT_eQTL_pQTL.chr10_100331627_104378781.twas.tsv.gz\n",
       "4 KNIGHT_eQTL_pQTL KNIGHT_eQTL_pQTL.chr10_100331627_104378781.twas.tsv.gz\n",
       "5 KNIGHT_eQTL_pQTL KNIGHT_eQTL_pQTL.chr10_100331627_104378781.twas.tsv.gz\n",
       "6 KNIGHT_eQTL_pQTL KNIGHT_eQTL_pQTL.chr10_100331627_104378781.twas.tsv.gz\n",
       "  gene_id         N     twas_pval_bonf\n",
       "1 ENSG00000055950 17255 1             \n",
       "2 ENSG00000055950 17255 1             \n",
       "3 ENSG00000055950 17255 1             \n",
       "4 ENSG00000055950 17255 1             \n",
       "5 ENSG00000059915 17255 1             \n",
       "6 ENSG00000059915 17255 1             "
      ]
     },
     "metadata": {},
     "output_type": "display_data"
    },
    {
     "data": {
      "text/html": [
       "<style>\n",
       ".list-inline {list-style: none; margin:0; padding: 0}\n",
       ".list-inline>li {display: inline-block}\n",
       ".list-inline>li:not(:last-child)::after {content: \"\\00b7\"; padding: 0 .5ex}\n",
       "</style>\n",
       "<ol class=list-inline><li>928827</li><li>22</li></ol>\n"
      ],
      "text/latex": [
       "\\begin{enumerate*}\n",
       "\\item 928827\n",
       "\\item 22\n",
       "\\end{enumerate*}\n"
      ],
      "text/markdown": [
       "1. 928827\n",
       "2. 22\n",
       "\n",
       "\n"
      ],
      "text/plain": [
       "[1] 928827     22"
      ]
     },
     "metadata": {},
     "output_type": "display_data"
    }
   ],
   "source": [
    "head(image_Aging4)\n",
    "dim(image_Aging4)"
   ]
  },
  {
   "cell_type": "code",
   "execution_count": 217,
   "id": "da505b80-262e-4ee4-9c03-30ec2c4434b8",
   "metadata": {},
   "outputs": [
    {
     "data": {
      "text/html": [
       "22"
      ],
      "text/latex": [
       "22"
      ],
      "text/markdown": [
       "22"
      ],
      "text/plain": [
       "[1] 22"
      ]
     },
     "metadata": {},
     "output_type": "display_data"
    }
   ],
   "source": [
    "sig_image_Aging4 = image_Aging4 |> filter(is_selected_method, twas_pval_bonf < 0.05) \n",
    "length(unique(sig_image_Aging4$molecular_id))"
   ]
  },
  {
   "cell_type": "code",
   "execution_count": 218,
   "id": "81bc8468-b2ce-4b2f-bf47-00bf79a11b75",
   "metadata": {},
   "outputs": [],
   "source": [
    "image_Aging4_gene_list = sig_image_Aging4 |> mutate(`#chr` = paste0(\"chr\", chr), gene_id = molecular_id)|>select(`#chr`, start, end, gene_id) |> unique()"
   ]
  },
  {
   "cell_type": "code",
   "execution_count": 219,
   "id": "0a397efb-a4bf-4830-b0a4-72f1dcb743a5",
   "metadata": {},
   "outputs": [
    {
     "data": {
      "text/html": [
       "<style>\n",
       ".list-inline {list-style: none; margin:0; padding: 0}\n",
       ".list-inline>li {display: inline-block}\n",
       ".list-inline>li:not(:last-child)::after {content: \"\\00b7\"; padding: 0 .5ex}\n",
       "</style>\n",
       "<ol class=list-inline><li>22</li><li>4</li></ol>\n"
      ],
      "text/latex": [
       "\\begin{enumerate*}\n",
       "\\item 22\n",
       "\\item 4\n",
       "\\end{enumerate*}\n"
      ],
      "text/markdown": [
       "1. 22\n",
       "2. 4\n",
       "\n",
       "\n"
      ],
      "text/plain": [
       "[1] 22  4"
      ]
     },
     "metadata": {},
     "output_type": "display_data"
    }
   ],
   "source": [
    "dim(image_Aging4_gene_list)"
   ]
  },
  {
   "cell_type": "code",
   "execution_count": 220,
   "id": "dd6f7bec-0243-4f62-b47d-b9d7f302779c",
   "metadata": {},
   "outputs": [],
   "source": [
    "DNE_QTL_gene = fread(\"~/project/image_QTL/twas/annotated_dne_gene.tsv\")\n"
   ]
  },
  {
   "cell_type": "code",
   "execution_count": 221,
   "id": "df69a001-db43-40df-822e-78b792bc9c06",
   "metadata": {},
   "outputs": [],
   "source": [
    "image_Aging4_QTL_gene = DNE_QTL_gene |> filter(str_detect(event_ID, \"image_Aging4\")) |> select(-strand,-event_ID)\n",
    "                                        "
   ]
  },
  {
   "cell_type": "code",
   "execution_count": 222,
   "id": "629ef529-3f32-4a18-8478-201a7922cf3d",
   "metadata": {},
   "outputs": [],
   "source": [
    "image_Aging4_gene = bind_rows(image_Aging4_gene_list, image_Aging4_QTL_gene)"
   ]
  },
  {
   "cell_type": "code",
   "execution_count": 223,
   "id": "69b5ed7e-e357-4e69-ba4a-9f9824c1dc91",
   "metadata": {},
   "outputs": [],
   "source": [
    "fwrite(image_Aging4_gene, \"image_Aging4_gene_list.tsv\", sep = '\\t')"
   ]
  },
  {
   "cell_type": "code",
   "execution_count": null,
   "id": "d7476b88-c058-4077-a76b-87b17190f606",
   "metadata": {},
   "outputs": [],
   "source": []
  },
  {
   "cell_type": "markdown",
   "id": "37709d7a-d2c1-482b-b63d-9f0c2254c16f",
   "metadata": {},
   "source": [
    "## image_Aging5"
   ]
  },
  {
   "cell_type": "code",
   "execution_count": 224,
   "id": "55639c2b-e14c-4255-99d5-224c51baba73",
   "metadata": {},
   "outputs": [],
   "source": [
    "image_Aging5 <- fread(\"~/project/image_QTL/twas/multiple_testing/image_Aging5_twas_bonff.bonf_corrected.tsv.gz\")"
   ]
  },
  {
   "cell_type": "code",
   "execution_count": 225,
   "id": "7c62112d-ccd9-4832-a5c7-9a8e3d7f8f7a",
   "metadata": {},
   "outputs": [
    {
     "data": {
      "text/html": [
       "<table class=\"dataframe\">\n",
       "<caption>A data.table: 6 x 22</caption>\n",
       "<thead>\n",
       "\t<tr><th scope=col>gwas_study</th><th scope=col>chr</th><th scope=col>molecular_id</th><th scope=col>TSS</th><th scope=col>start</th><th scope=col>end</th><th scope=col>context</th><th scope=col>method</th><th scope=col>is_imputable</th><th scope=col>is_selected_method</th><th scope=col>...</th><th scope=col>twas_z</th><th scope=col>twas_pval</th><th scope=col>type</th><th scope=col>block</th><th scope=col>region</th><th scope=col>study_context</th><th scope=col>source_file</th><th scope=col>gene_id</th><th scope=col>N</th><th scope=col>twas_pval_bonf</th></tr>\n",
       "\t<tr><th scope=col>&lt;chr&gt;</th><th scope=col>&lt;int&gt;</th><th scope=col>&lt;chr&gt;</th><th scope=col>&lt;int&gt;</th><th scope=col>&lt;int&gt;</th><th scope=col>&lt;int&gt;</th><th scope=col>&lt;chr&gt;</th><th scope=col>&lt;chr&gt;</th><th scope=col>&lt;lgl&gt;</th><th scope=col>&lt;lgl&gt;</th><th scope=col>...</th><th scope=col>&lt;dbl&gt;</th><th scope=col>&lt;dbl&gt;</th><th scope=col>&lt;chr&gt;</th><th scope=col>&lt;chr&gt;</th><th scope=col>&lt;chr&gt;</th><th scope=col>&lt;chr&gt;</th><th scope=col>&lt;chr&gt;</th><th scope=col>&lt;chr&gt;</th><th scope=col>&lt;int&gt;</th><th scope=col>&lt;dbl&gt;</th></tr>\n",
       "</thead>\n",
       "<tbody>\n",
       "\t<tr><td>image_Aging5</td><td>7</td><td>ENSG00000198286</td><td>3043866</td><td>0</td><td>6000000</td><td>ROSMAP_PCC_sQTL_chr7:2939928:2944211:clu_52885_-:PR:ENSG00000198286</td><td>mrash</td><td>TRUE</td><td>FALSE</td><td>...</td><td> 0.5766363</td><td>0.5641852</td><td>productive_sQTL</td><td>chr7_2640020_3986377</td><td>chr7_2640020_3986377</td><td>ROSMAP_sQTL_chr7</td><td>ROSMAP_sQTL.chr7_2640020_3986377.twas.tsv.gz</td><td>ENSG00000198286</td><td>17315</td><td>1</td></tr>\n",
       "\t<tr><td>image_Aging5</td><td>7</td><td>ENSG00000198286</td><td>3043866</td><td>0</td><td>6000000</td><td>ROSMAP_PCC_sQTL_chr7:2939928:2944211:clu_52885_-:PR:ENSG00000198286</td><td>susie</td><td>TRUE</td><td>FALSE</td><td>...</td><td> 0.2352007</td><td>0.8140529</td><td>productive_sQTL</td><td>chr7_2640020_3986377</td><td>chr7_2640020_3986377</td><td>ROSMAP_sQTL_chr7</td><td>ROSMAP_sQTL.chr7_2640020_3986377.twas.tsv.gz</td><td>ENSG00000198286</td><td>17315</td><td>1</td></tr>\n",
       "\t<tr><td>image_Aging5</td><td>7</td><td>ENSG00000198286</td><td>3043866</td><td>0</td><td>6000000</td><td>ROSMAP_PCC_sQTL_chr7:2944537:2945818:clu_52886_-:PR:ENSG00000198286</td><td>enet </td><td>TRUE</td><td> TRUE</td><td>...</td><td>-1.1158404</td><td>0.2644905</td><td>productive_sQTL</td><td>chr7_2640020_3986377</td><td>chr7_2640020_3986377</td><td>ROSMAP_sQTL_chr7</td><td>ROSMAP_sQTL.chr7_2640020_3986377.twas.tsv.gz</td><td>ENSG00000198286</td><td>17315</td><td>1</td></tr>\n",
       "\t<tr><td>image_Aging5</td><td>7</td><td>ENSG00000198286</td><td>3043866</td><td>0</td><td>6000000</td><td>ROSMAP_PCC_sQTL_chr7:2944537:2945818:clu_52886_-:PR:ENSG00000198286</td><td>lasso</td><td>TRUE</td><td>FALSE</td><td>...</td><td>-1.1286455</td><td>0.2590474</td><td>productive_sQTL</td><td>chr7_2640020_3986377</td><td>chr7_2640020_3986377</td><td>ROSMAP_sQTL_chr7</td><td>ROSMAP_sQTL.chr7_2640020_3986377.twas.tsv.gz</td><td>ENSG00000198286</td><td>17315</td><td>1</td></tr>\n",
       "\t<tr><td>image_Aging5</td><td>7</td><td>ENSG00000198286</td><td>3043866</td><td>0</td><td>6000000</td><td>ROSMAP_PCC_sQTL_chr7:2944537:2945818:clu_52886_-:PR:ENSG00000198286</td><td>mrash</td><td>TRUE</td><td>FALSE</td><td>...</td><td> 0.6226682</td><td>0.5335026</td><td>productive_sQTL</td><td>chr7_2640020_3986377</td><td>chr7_2640020_3986377</td><td>ROSMAP_sQTL_chr7</td><td>ROSMAP_sQTL.chr7_2640020_3986377.twas.tsv.gz</td><td>ENSG00000198286</td><td>17315</td><td>1</td></tr>\n",
       "\t<tr><td>image_Aging5</td><td>7</td><td>ENSG00000198286</td><td>3043866</td><td>0</td><td>6000000</td><td>ROSMAP_PCC_sQTL_chr7:2944537:2945818:clu_52886_-:PR:ENSG00000198286</td><td>susie</td><td>TRUE</td><td>FALSE</td><td>...</td><td> 0.4481146</td><td>0.6540705</td><td>productive_sQTL</td><td>chr7_2640020_3986377</td><td>chr7_2640020_3986377</td><td>ROSMAP_sQTL_chr7</td><td>ROSMAP_sQTL.chr7_2640020_3986377.twas.tsv.gz</td><td>ENSG00000198286</td><td>17315</td><td>1</td></tr>\n",
       "</tbody>\n",
       "</table>\n"
      ],
      "text/latex": [
       "A data.table: 6 x 22\n",
       "\\begin{tabular}{lllllllllllllllllllll}\n",
       " gwas\\_study & chr & molecular\\_id & TSS & start & end & context & method & is\\_imputable & is\\_selected\\_method & ... & twas\\_z & twas\\_pval & type & block & region & study\\_context & source\\_file & gene\\_id & N & twas\\_pval\\_bonf\\\\\n",
       " <chr> & <int> & <chr> & <int> & <int> & <int> & <chr> & <chr> & <lgl> & <lgl> & ... & <dbl> & <dbl> & <chr> & <chr> & <chr> & <chr> & <chr> & <chr> & <int> & <dbl>\\\\\n",
       "\\hline\n",
       "\t image\\_Aging5 & 7 & ENSG00000198286 & 3043866 & 0 & 6000000 & ROSMAP\\_PCC\\_sQTL\\_chr7:2939928:2944211:clu\\_52885\\_-:PR:ENSG00000198286 & mrash & TRUE & FALSE & ... &  0.5766363 & 0.5641852 & productive\\_sQTL & chr7\\_2640020\\_3986377 & chr7\\_2640020\\_3986377 & ROSMAP\\_sQTL\\_chr7 & ROSMAP\\_sQTL.chr7\\_2640020\\_3986377.twas.tsv.gz & ENSG00000198286 & 17315 & 1\\\\\n",
       "\t image\\_Aging5 & 7 & ENSG00000198286 & 3043866 & 0 & 6000000 & ROSMAP\\_PCC\\_sQTL\\_chr7:2939928:2944211:clu\\_52885\\_-:PR:ENSG00000198286 & susie & TRUE & FALSE & ... &  0.2352007 & 0.8140529 & productive\\_sQTL & chr7\\_2640020\\_3986377 & chr7\\_2640020\\_3986377 & ROSMAP\\_sQTL\\_chr7 & ROSMAP\\_sQTL.chr7\\_2640020\\_3986377.twas.tsv.gz & ENSG00000198286 & 17315 & 1\\\\\n",
       "\t image\\_Aging5 & 7 & ENSG00000198286 & 3043866 & 0 & 6000000 & ROSMAP\\_PCC\\_sQTL\\_chr7:2944537:2945818:clu\\_52886\\_-:PR:ENSG00000198286 & enet  & TRUE &  TRUE & ... & -1.1158404 & 0.2644905 & productive\\_sQTL & chr7\\_2640020\\_3986377 & chr7\\_2640020\\_3986377 & ROSMAP\\_sQTL\\_chr7 & ROSMAP\\_sQTL.chr7\\_2640020\\_3986377.twas.tsv.gz & ENSG00000198286 & 17315 & 1\\\\\n",
       "\t image\\_Aging5 & 7 & ENSG00000198286 & 3043866 & 0 & 6000000 & ROSMAP\\_PCC\\_sQTL\\_chr7:2944537:2945818:clu\\_52886\\_-:PR:ENSG00000198286 & lasso & TRUE & FALSE & ... & -1.1286455 & 0.2590474 & productive\\_sQTL & chr7\\_2640020\\_3986377 & chr7\\_2640020\\_3986377 & ROSMAP\\_sQTL\\_chr7 & ROSMAP\\_sQTL.chr7\\_2640020\\_3986377.twas.tsv.gz & ENSG00000198286 & 17315 & 1\\\\\n",
       "\t image\\_Aging5 & 7 & ENSG00000198286 & 3043866 & 0 & 6000000 & ROSMAP\\_PCC\\_sQTL\\_chr7:2944537:2945818:clu\\_52886\\_-:PR:ENSG00000198286 & mrash & TRUE & FALSE & ... &  0.6226682 & 0.5335026 & productive\\_sQTL & chr7\\_2640020\\_3986377 & chr7\\_2640020\\_3986377 & ROSMAP\\_sQTL\\_chr7 & ROSMAP\\_sQTL.chr7\\_2640020\\_3986377.twas.tsv.gz & ENSG00000198286 & 17315 & 1\\\\\n",
       "\t image\\_Aging5 & 7 & ENSG00000198286 & 3043866 & 0 & 6000000 & ROSMAP\\_PCC\\_sQTL\\_chr7:2944537:2945818:clu\\_52886\\_-:PR:ENSG00000198286 & susie & TRUE & FALSE & ... &  0.4481146 & 0.6540705 & productive\\_sQTL & chr7\\_2640020\\_3986377 & chr7\\_2640020\\_3986377 & ROSMAP\\_sQTL\\_chr7 & ROSMAP\\_sQTL.chr7\\_2640020\\_3986377.twas.tsv.gz & ENSG00000198286 & 17315 & 1\\\\\n",
       "\\end{tabular}\n"
      ],
      "text/markdown": [
       "\n",
       "A data.table: 6 x 22\n",
       "\n",
       "| gwas_study &lt;chr&gt; | chr &lt;int&gt; | molecular_id &lt;chr&gt; | TSS &lt;int&gt; | start &lt;int&gt; | end &lt;int&gt; | context &lt;chr&gt; | method &lt;chr&gt; | is_imputable &lt;lgl&gt; | is_selected_method &lt;lgl&gt; | ... ... | twas_z &lt;dbl&gt; | twas_pval &lt;dbl&gt; | type &lt;chr&gt; | block &lt;chr&gt; | region &lt;chr&gt; | study_context &lt;chr&gt; | source_file &lt;chr&gt; | gene_id &lt;chr&gt; | N &lt;int&gt; | twas_pval_bonf &lt;dbl&gt; |\n",
       "|---|---|---|---|---|---|---|---|---|---|---|---|---|---|---|---|---|---|---|---|---|\n",
       "| image_Aging5 | 7 | ENSG00000198286 | 3043866 | 0 | 6000000 | ROSMAP_PCC_sQTL_chr7:2939928:2944211:clu_52885_-:PR:ENSG00000198286 | mrash | TRUE | FALSE | ... |  0.5766363 | 0.5641852 | productive_sQTL | chr7_2640020_3986377 | chr7_2640020_3986377 | ROSMAP_sQTL_chr7 | ROSMAP_sQTL.chr7_2640020_3986377.twas.tsv.gz | ENSG00000198286 | 17315 | 1 |\n",
       "| image_Aging5 | 7 | ENSG00000198286 | 3043866 | 0 | 6000000 | ROSMAP_PCC_sQTL_chr7:2939928:2944211:clu_52885_-:PR:ENSG00000198286 | susie | TRUE | FALSE | ... |  0.2352007 | 0.8140529 | productive_sQTL | chr7_2640020_3986377 | chr7_2640020_3986377 | ROSMAP_sQTL_chr7 | ROSMAP_sQTL.chr7_2640020_3986377.twas.tsv.gz | ENSG00000198286 | 17315 | 1 |\n",
       "| image_Aging5 | 7 | ENSG00000198286 | 3043866 | 0 | 6000000 | ROSMAP_PCC_sQTL_chr7:2944537:2945818:clu_52886_-:PR:ENSG00000198286 | enet  | TRUE |  TRUE | ... | -1.1158404 | 0.2644905 | productive_sQTL | chr7_2640020_3986377 | chr7_2640020_3986377 | ROSMAP_sQTL_chr7 | ROSMAP_sQTL.chr7_2640020_3986377.twas.tsv.gz | ENSG00000198286 | 17315 | 1 |\n",
       "| image_Aging5 | 7 | ENSG00000198286 | 3043866 | 0 | 6000000 | ROSMAP_PCC_sQTL_chr7:2944537:2945818:clu_52886_-:PR:ENSG00000198286 | lasso | TRUE | FALSE | ... | -1.1286455 | 0.2590474 | productive_sQTL | chr7_2640020_3986377 | chr7_2640020_3986377 | ROSMAP_sQTL_chr7 | ROSMAP_sQTL.chr7_2640020_3986377.twas.tsv.gz | ENSG00000198286 | 17315 | 1 |\n",
       "| image_Aging5 | 7 | ENSG00000198286 | 3043866 | 0 | 6000000 | ROSMAP_PCC_sQTL_chr7:2944537:2945818:clu_52886_-:PR:ENSG00000198286 | mrash | TRUE | FALSE | ... |  0.6226682 | 0.5335026 | productive_sQTL | chr7_2640020_3986377 | chr7_2640020_3986377 | ROSMAP_sQTL_chr7 | ROSMAP_sQTL.chr7_2640020_3986377.twas.tsv.gz | ENSG00000198286 | 17315 | 1 |\n",
       "| image_Aging5 | 7 | ENSG00000198286 | 3043866 | 0 | 6000000 | ROSMAP_PCC_sQTL_chr7:2944537:2945818:clu_52886_-:PR:ENSG00000198286 | susie | TRUE | FALSE | ... |  0.4481146 | 0.6540705 | productive_sQTL | chr7_2640020_3986377 | chr7_2640020_3986377 | ROSMAP_sQTL_chr7 | ROSMAP_sQTL.chr7_2640020_3986377.twas.tsv.gz | ENSG00000198286 | 17315 | 1 |\n",
       "\n"
      ],
      "text/plain": [
       "  gwas_study   chr molecular_id    TSS     start end    \n",
       "1 image_Aging5 7   ENSG00000198286 3043866 0     6000000\n",
       "2 image_Aging5 7   ENSG00000198286 3043866 0     6000000\n",
       "3 image_Aging5 7   ENSG00000198286 3043866 0     6000000\n",
       "4 image_Aging5 7   ENSG00000198286 3043866 0     6000000\n",
       "5 image_Aging5 7   ENSG00000198286 3043866 0     6000000\n",
       "6 image_Aging5 7   ENSG00000198286 3043866 0     6000000\n",
       "  context                                                             method\n",
       "1 ROSMAP_PCC_sQTL_chr7:2939928:2944211:clu_52885_-:PR:ENSG00000198286 mrash \n",
       "2 ROSMAP_PCC_sQTL_chr7:2939928:2944211:clu_52885_-:PR:ENSG00000198286 susie \n",
       "3 ROSMAP_PCC_sQTL_chr7:2944537:2945818:clu_52886_-:PR:ENSG00000198286 enet  \n",
       "4 ROSMAP_PCC_sQTL_chr7:2944537:2945818:clu_52886_-:PR:ENSG00000198286 lasso \n",
       "5 ROSMAP_PCC_sQTL_chr7:2944537:2945818:clu_52886_-:PR:ENSG00000198286 mrash \n",
       "6 ROSMAP_PCC_sQTL_chr7:2944537:2945818:clu_52886_-:PR:ENSG00000198286 susie \n",
       "  is_imputable is_selected_method ... twas_z     twas_pval type           \n",
       "1 TRUE         FALSE              ...  0.5766363 0.5641852 productive_sQTL\n",
       "2 TRUE         FALSE              ...  0.2352007 0.8140529 productive_sQTL\n",
       "3 TRUE          TRUE              ... -1.1158404 0.2644905 productive_sQTL\n",
       "4 TRUE         FALSE              ... -1.1286455 0.2590474 productive_sQTL\n",
       "5 TRUE         FALSE              ...  0.6226682 0.5335026 productive_sQTL\n",
       "6 TRUE         FALSE              ...  0.4481146 0.6540705 productive_sQTL\n",
       "  block                region               study_context   \n",
       "1 chr7_2640020_3986377 chr7_2640020_3986377 ROSMAP_sQTL_chr7\n",
       "2 chr7_2640020_3986377 chr7_2640020_3986377 ROSMAP_sQTL_chr7\n",
       "3 chr7_2640020_3986377 chr7_2640020_3986377 ROSMAP_sQTL_chr7\n",
       "4 chr7_2640020_3986377 chr7_2640020_3986377 ROSMAP_sQTL_chr7\n",
       "5 chr7_2640020_3986377 chr7_2640020_3986377 ROSMAP_sQTL_chr7\n",
       "6 chr7_2640020_3986377 chr7_2640020_3986377 ROSMAP_sQTL_chr7\n",
       "  source_file                                  gene_id         N    \n",
       "1 ROSMAP_sQTL.chr7_2640020_3986377.twas.tsv.gz ENSG00000198286 17315\n",
       "2 ROSMAP_sQTL.chr7_2640020_3986377.twas.tsv.gz ENSG00000198286 17315\n",
       "3 ROSMAP_sQTL.chr7_2640020_3986377.twas.tsv.gz ENSG00000198286 17315\n",
       "4 ROSMAP_sQTL.chr7_2640020_3986377.twas.tsv.gz ENSG00000198286 17315\n",
       "5 ROSMAP_sQTL.chr7_2640020_3986377.twas.tsv.gz ENSG00000198286 17315\n",
       "6 ROSMAP_sQTL.chr7_2640020_3986377.twas.tsv.gz ENSG00000198286 17315\n",
       "  twas_pval_bonf\n",
       "1 1             \n",
       "2 1             \n",
       "3 1             \n",
       "4 1             \n",
       "5 1             \n",
       "6 1             "
      ]
     },
     "metadata": {},
     "output_type": "display_data"
    },
    {
     "data": {
      "text/html": [
       "<style>\n",
       ".list-inline {list-style: none; margin:0; padding: 0}\n",
       ".list-inline>li {display: inline-block}\n",
       ".list-inline>li:not(:last-child)::after {content: \"\\00b7\"; padding: 0 .5ex}\n",
       "</style>\n",
       "<ol class=list-inline><li>936646</li><li>22</li></ol>\n"
      ],
      "text/latex": [
       "\\begin{enumerate*}\n",
       "\\item 936646\n",
       "\\item 22\n",
       "\\end{enumerate*}\n"
      ],
      "text/markdown": [
       "1. 936646\n",
       "2. 22\n",
       "\n",
       "\n"
      ],
      "text/plain": [
       "[1] 936646     22"
      ]
     },
     "metadata": {},
     "output_type": "display_data"
    }
   ],
   "source": [
    "tail(image_Aging5)\n",
    "dim(image_Aging5)"
   ]
  },
  {
   "cell_type": "code",
   "execution_count": 226,
   "id": "c10a22fa-33d5-40a3-8fc5-960485ebaf22",
   "metadata": {},
   "outputs": [
    {
     "data": {
      "text/html": [
       "107"
      ],
      "text/latex": [
       "107"
      ],
      "text/markdown": [
       "107"
      ],
      "text/plain": [
       "[1] 107"
      ]
     },
     "metadata": {},
     "output_type": "display_data"
    }
   ],
   "source": [
    "sig_image_Aging5 = image_Aging5 |> filter(is_selected_method, twas_pval_bonf < 0.05) \n",
    "length(unique(sig_image_Aging5$molecular_id))"
   ]
  },
  {
   "cell_type": "code",
   "execution_count": 227,
   "id": "f564b7f3-75f7-41c8-a775-992bbdb0b72d",
   "metadata": {},
   "outputs": [],
   "source": [
    "image_Aging5_gene_list = sig_image_Aging5 |> mutate(`#chr` = paste0(\"chr\", chr), gene_id = molecular_id)|>select(`#chr`, start, end, gene_id) |> unique()"
   ]
  },
  {
   "cell_type": "code",
   "execution_count": 228,
   "id": "9a145c0d-1fb4-418e-8826-464bc6d64819",
   "metadata": {},
   "outputs": [
    {
     "data": {
      "text/html": [
       "<style>\n",
       ".list-inline {list-style: none; margin:0; padding: 0}\n",
       ".list-inline>li {display: inline-block}\n",
       ".list-inline>li:not(:last-child)::after {content: \"\\00b7\"; padding: 0 .5ex}\n",
       "</style>\n",
       "<ol class=list-inline><li>107</li><li>4</li></ol>\n"
      ],
      "text/latex": [
       "\\begin{enumerate*}\n",
       "\\item 107\n",
       "\\item 4\n",
       "\\end{enumerate*}\n"
      ],
      "text/markdown": [
       "1. 107\n",
       "2. 4\n",
       "\n",
       "\n"
      ],
      "text/plain": [
       "[1] 107   4"
      ]
     },
     "metadata": {},
     "output_type": "display_data"
    }
   ],
   "source": [
    "dim(image_Aging5_gene_list)"
   ]
  },
  {
   "cell_type": "code",
   "execution_count": 229,
   "id": "97e6f210-989a-4cdb-aae3-71cda4b3f942",
   "metadata": {},
   "outputs": [
    {
     "data": {
      "text/html": [
       "<table class=\"dataframe\">\n",
       "<caption>A data.table: 1 x 22</caption>\n",
       "<thead>\n",
       "\t<tr><th scope=col>gwas_study</th><th scope=col>chr</th><th scope=col>molecular_id</th><th scope=col>TSS</th><th scope=col>start</th><th scope=col>end</th><th scope=col>context</th><th scope=col>method</th><th scope=col>is_imputable</th><th scope=col>is_selected_method</th><th scope=col>...</th><th scope=col>twas_z</th><th scope=col>twas_pval</th><th scope=col>type</th><th scope=col>block</th><th scope=col>region</th><th scope=col>study_context</th><th scope=col>source_file</th><th scope=col>gene_id</th><th scope=col>N</th><th scope=col>twas_pval_bonf</th></tr>\n",
       "\t<tr><th scope=col>&lt;chr&gt;</th><th scope=col>&lt;int&gt;</th><th scope=col>&lt;chr&gt;</th><th scope=col>&lt;int&gt;</th><th scope=col>&lt;int&gt;</th><th scope=col>&lt;int&gt;</th><th scope=col>&lt;chr&gt;</th><th scope=col>&lt;chr&gt;</th><th scope=col>&lt;lgl&gt;</th><th scope=col>&lt;lgl&gt;</th><th scope=col>...</th><th scope=col>&lt;dbl&gt;</th><th scope=col>&lt;dbl&gt;</th><th scope=col>&lt;chr&gt;</th><th scope=col>&lt;chr&gt;</th><th scope=col>&lt;chr&gt;</th><th scope=col>&lt;chr&gt;</th><th scope=col>&lt;chr&gt;</th><th scope=col>&lt;chr&gt;</th><th scope=col>&lt;int&gt;</th><th scope=col>&lt;dbl&gt;</th></tr>\n",
       "</thead>\n",
       "<tbody>\n",
       "\t<tr><td>image_Aging5</td><td>6</td><td>ENSG00000275126</td><td>27873533</td><td>25960000</td><td>30480000</td><td>AC_DeJager_eQTL</td><td>susie</td><td>TRUE</td><td>TRUE</td><td>...</td><td>8.341274</td><td>7.349432e-17</td><td>eQTL</td><td>chr6_26341332_28390030</td><td>chr6_26341332_28390030</td><td>ROSMAP_eQTL_pQTL</td><td>ROSMAP_eQTL_pQTL.chr6_26341332_28390030.twas.tsv.gz</td><td>ENSG00000275126</td><td>17315</td><td>1.272554e-12</td></tr>\n",
       "</tbody>\n",
       "</table>\n"
      ],
      "text/latex": [
       "A data.table: 1 x 22\n",
       "\\begin{tabular}{lllllllllllllllllllll}\n",
       " gwas\\_study & chr & molecular\\_id & TSS & start & end & context & method & is\\_imputable & is\\_selected\\_method & ... & twas\\_z & twas\\_pval & type & block & region & study\\_context & source\\_file & gene\\_id & N & twas\\_pval\\_bonf\\\\\n",
       " <chr> & <int> & <chr> & <int> & <int> & <int> & <chr> & <chr> & <lgl> & <lgl> & ... & <dbl> & <dbl> & <chr> & <chr> & <chr> & <chr> & <chr> & <chr> & <int> & <dbl>\\\\\n",
       "\\hline\n",
       "\t image\\_Aging5 & 6 & ENSG00000275126 & 27873533 & 25960000 & 30480000 & AC\\_DeJager\\_eQTL & susie & TRUE & TRUE & ... & 8.341274 & 7.349432e-17 & eQTL & chr6\\_26341332\\_28390030 & chr6\\_26341332\\_28390030 & ROSMAP\\_eQTL\\_pQTL & ROSMAP\\_eQTL\\_pQTL.chr6\\_26341332\\_28390030.twas.tsv.gz & ENSG00000275126 & 17315 & 1.272554e-12\\\\\n",
       "\\end{tabular}\n"
      ],
      "text/markdown": [
       "\n",
       "A data.table: 1 x 22\n",
       "\n",
       "| gwas_study &lt;chr&gt; | chr &lt;int&gt; | molecular_id &lt;chr&gt; | TSS &lt;int&gt; | start &lt;int&gt; | end &lt;int&gt; | context &lt;chr&gt; | method &lt;chr&gt; | is_imputable &lt;lgl&gt; | is_selected_method &lt;lgl&gt; | ... ... | twas_z &lt;dbl&gt; | twas_pval &lt;dbl&gt; | type &lt;chr&gt; | block &lt;chr&gt; | region &lt;chr&gt; | study_context &lt;chr&gt; | source_file &lt;chr&gt; | gene_id &lt;chr&gt; | N &lt;int&gt; | twas_pval_bonf &lt;dbl&gt; |\n",
       "|---|---|---|---|---|---|---|---|---|---|---|---|---|---|---|---|---|---|---|---|---|\n",
       "| image_Aging5 | 6 | ENSG00000275126 | 27873533 | 25960000 | 30480000 | AC_DeJager_eQTL | susie | TRUE | TRUE | ... | 8.341274 | 7.349432e-17 | eQTL | chr6_26341332_28390030 | chr6_26341332_28390030 | ROSMAP_eQTL_pQTL | ROSMAP_eQTL_pQTL.chr6_26341332_28390030.twas.tsv.gz | ENSG00000275126 | 17315 | 1.272554e-12 |\n",
       "\n"
      ],
      "text/plain": [
       "  gwas_study   chr molecular_id    TSS      start    end      context        \n",
       "1 image_Aging5 6   ENSG00000275126 27873533 25960000 30480000 AC_DeJager_eQTL\n",
       "  method is_imputable is_selected_method ... twas_z   twas_pval    type\n",
       "1 susie  TRUE         TRUE               ... 8.341274 7.349432e-17 eQTL\n",
       "  block                  region                 study_context   \n",
       "1 chr6_26341332_28390030 chr6_26341332_28390030 ROSMAP_eQTL_pQTL\n",
       "  source_file                                         gene_id         N    \n",
       "1 ROSMAP_eQTL_pQTL.chr6_26341332_28390030.twas.tsv.gz ENSG00000275126 17315\n",
       "  twas_pval_bonf\n",
       "1 1.272554e-12  "
      ]
     },
     "metadata": {},
     "output_type": "display_data"
    }
   ],
   "source": [
    "sig_image_Aging5 |> filter(molecular_id == 'ENSG00000275126')# ENSG00000273542/ENSG00000197061/ENSG00000278463/ENSG00000275126"
   ]
  },
  {
   "cell_type": "code",
   "execution_count": 230,
   "id": "2c7bf5a9-3fd7-4f10-83c5-b8286198eaa8",
   "metadata": {},
   "outputs": [],
   "source": [
    "DNE_QTL_gene = fread(\"~/project/image_QTL/twas/annotated_dne_gene.tsv\")\n"
   ]
  },
  {
   "cell_type": "code",
   "execution_count": 231,
   "id": "cbaaa634-789d-4570-be49-e800cc8a7441",
   "metadata": {},
   "outputs": [],
   "source": [
    "image_Aging5_QTL_gene = DNE_QTL_gene |> filter(str_detect(event_ID, \"image_Aging5\")) |> select(-strand,-event_ID)\n",
    "                                        "
   ]
  },
  {
   "cell_type": "code",
   "execution_count": 232,
   "id": "4420b7a8-bad6-4b1f-b553-7fb27132fc45",
   "metadata": {},
   "outputs": [],
   "source": [
    "image_Aging5_gene = bind_rows(image_Aging5_gene_list, image_Aging5_QTL_gene)"
   ]
  },
  {
   "cell_type": "code",
   "execution_count": 233,
   "id": "a6f433f5-8b68-4df2-b4b9-deadf412d8ea",
   "metadata": {},
   "outputs": [],
   "source": [
    "fwrite(image_Aging5_gene, \"image_Aging5_gene_list.tsv\", sep = '\\t')"
   ]
  },
  {
   "cell_type": "code",
   "execution_count": null,
   "id": "b8ede007-c620-4568-b129-1c29dab8339b",
   "metadata": {},
   "outputs": [],
   "source": []
  },
  {
   "cell_type": "code",
   "execution_count": null,
   "id": "728e7fa6-fe61-42a9-8c47-a227cfb55473",
   "metadata": {},
   "outputs": [],
   "source": []
  }
 ],
 "metadata": {
  "kernelspec": {
   "display_name": "R",
   "language": "R",
   "name": "ir"
  },
  "language_info": {
   "codemirror_mode": "r",
   "file_extension": ".r",
   "mimetype": "text/x-r-source",
   "name": "R",
   "pygments_lexer": "r",
   "version": "4.3.3"
  }
 },
 "nbformat": 4,
 "nbformat_minor": 5
}
