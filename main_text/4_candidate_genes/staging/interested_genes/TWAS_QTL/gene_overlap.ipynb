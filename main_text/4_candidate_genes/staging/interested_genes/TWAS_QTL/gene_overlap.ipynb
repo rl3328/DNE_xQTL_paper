{
 "cells": [
  {
   "cell_type": "code",
   "execution_count": 1,
   "id": "a10666a1-bd18-4f0d-a59c-7b03af5717f2",
   "metadata": {},
   "outputs": [
    {
     "name": "stderr",
     "output_type": "stream",
     "text": [
      "── \u001b[1mAttaching core tidyverse packages\u001b[22m ──────────────────────── tidyverse 2.0.0 ──\n",
      "\u001b[32m✔\u001b[39m \u001b[34mdplyr    \u001b[39m 1.1.4     \u001b[32m✔\u001b[39m \u001b[34mreadr    \u001b[39m 2.1.5\n",
      "\u001b[32m✔\u001b[39m \u001b[34mforcats  \u001b[39m 1.0.0     \u001b[32m✔\u001b[39m \u001b[34mstringr  \u001b[39m 1.5.1\n",
      "\u001b[32m✔\u001b[39m \u001b[34mggplot2  \u001b[39m 3.5.2     \u001b[32m✔\u001b[39m \u001b[34mtibble   \u001b[39m 3.3.0\n",
      "\u001b[32m✔\u001b[39m \u001b[34mlubridate\u001b[39m 1.9.4     \u001b[32m✔\u001b[39m \u001b[34mtidyr    \u001b[39m 1.3.1\n",
      "\u001b[32m✔\u001b[39m \u001b[34mpurrr    \u001b[39m 1.1.0     \n",
      "── \u001b[1mConflicts\u001b[22m ────────────────────────────────────────── tidyverse_conflicts() ──\n",
      "\u001b[31m✖\u001b[39m \u001b[34mdplyr\u001b[39m::\u001b[32mfilter()\u001b[39m masks \u001b[34mstats\u001b[39m::filter()\n",
      "\u001b[31m✖\u001b[39m \u001b[34mdplyr\u001b[39m::\u001b[32mlag()\u001b[39m    masks \u001b[34mstats\u001b[39m::lag()\n",
      "\u001b[36mℹ\u001b[39m Use the conflicted package (\u001b[3m\u001b[34m<http://conflicted.r-lib.org/>\u001b[39m\u001b[23m) to force all conflicts to become errors\n",
      "\n",
      "Attaching package: ‘data.table’\n",
      "\n",
      "\n",
      "The following objects are masked from ‘package:lubridate’:\n",
      "\n",
      "    hour, isoweek, mday, minute, month, quarter, second, wday, week,\n",
      "    yday, year\n",
      "\n",
      "\n",
      "The following objects are masked from ‘package:dplyr’:\n",
      "\n",
      "    between, first, last\n",
      "\n",
      "\n",
      "The following object is masked from ‘package:purrr’:\n",
      "\n",
      "    transpose\n",
      "\n",
      "\n"
     ]
    }
   ],
   "source": [
    "library(tidyverse)\n",
    "library(data.table)"
   ]
  },
  {
   "cell_type": "markdown",
   "id": "38dbb87a-fdea-4460-bd5d-36eb705b9435",
   "metadata": {},
   "source": [
    "# Gene annotation"
   ]
  },
  {
   "cell_type": "markdown",
   "id": "262127f7-2033-44c3-aa94-fb87ad7c127d",
   "metadata": {},
   "source": [
    "# MR"
   ]
  },
  {
   "cell_type": "code",
   "execution_count": 67,
   "id": "abff84e2-bb01-47e7-8ace-c7230d688e8d",
   "metadata": {},
   "outputs": [],
   "source": [
    "AD_sig_mr = fread(\"~/project/image_QTL/twas/AD_mr.sig_gene.tsv.gz\")\n",
    "# AD_sig_mr = unique(AD_sig_mr)\n",
    "AD_sig_mr = AD_sig_mr |> rename(gene_id = gene_name)\n",
    "AD_sig_mr_raw = AD_sig_mr |> select(gene_id, everything())\n",
    "fwrite(AD_sig_mr_raw, \"~/AD_mr_gene_list.txt\", sep = '\\t')"
   ]
  },
  {
   "cell_type": "code",
   "execution_count": null,
   "id": "a84cbe50-2b51-4e80-8604-35b1137bc13c",
   "metadata": {},
   "outputs": [],
   "source": [
    "sos run xqtl-protocol/code/data_preprocessing/phenotype/gene_annotation.ipynb annotate_coord \\\n",
    "    --cwd ./ \\\n",
    "    --phenoFile ./AD_mr_gene_list.txt \\\n",
    "    --phenotype-id-column gene_id \\\n",
    "    --molecular-trait-type gene \\\n",
    "    --coordinate-annotation data/resource/references/Homo_sapiens.GRCh38.103.chr.reformatted.collapse_only.gene.ERCC.gtf"
   ]
  },
  {
   "cell_type": "code",
   "execution_count": 68,
   "id": "7335076f-b366-467f-a244-0094c3d5c066",
   "metadata": {},
   "outputs": [],
   "source": [
    "annotate_AD_mr = fread('~/AD_mr_gene_list.gene_list.tsv') "
   ]
  },
  {
   "cell_type": "code",
   "execution_count": 69,
   "id": "434de980-1686-4f0b-893a-e2ce44a83221",
   "metadata": {},
   "outputs": [
    {
     "data": {
      "text/html": [
       "<table class=\"dataframe\">\n",
       "<caption>A data.table: 6 x 6</caption>\n",
       "<thead>\n",
       "\t<tr><th scope=col>#chr</th><th scope=col>start</th><th scope=col>end</th><th scope=col>gene_id</th><th scope=col>strand</th><th scope=col>gene_name</th></tr>\n",
       "\t<tr><th scope=col>&lt;chr&gt;</th><th scope=col>&lt;int&gt;</th><th scope=col>&lt;int&gt;</th><th scope=col>&lt;chr&gt;</th><th scope=col>&lt;chr&gt;</th><th scope=col>&lt;chr&gt;</th></tr>\n",
       "</thead>\n",
       "<tbody>\n",
       "\t<tr><td>chr1</td><td> 944202</td><td> 959308</td><td>ENSG00000188976</td><td>-</td><td>NOC2L   </td></tr>\n",
       "\t<tr><td>chr1</td><td> 975203</td><td> 982092</td><td>ENSG00000187642</td><td>-</td><td>PERM1   </td></tr>\n",
       "\t<tr><td>chr1</td><td> 998961</td><td>1000171</td><td>ENSG00000188290</td><td>-</td><td>HES4    </td></tr>\n",
       "\t<tr><td>chr1</td><td>1020119</td><td>1056117</td><td>ENSG00000188157</td><td>+</td><td>AGRN    </td></tr>\n",
       "\t<tr><td>chr1</td><td>1081817</td><td>1116360</td><td>ENSG00000131591</td><td>-</td><td>C1orf159</td></tr>\n",
       "\t<tr><td>chr1</td><td>1203507</td><td>1206591</td><td>ENSG00000186891</td><td>-</td><td>TNFRSF18</td></tr>\n",
       "</tbody>\n",
       "</table>\n"
      ],
      "text/latex": [
       "A data.table: 6 x 6\n",
       "\\begin{tabular}{llllll}\n",
       " \\#chr & start & end & gene\\_id & strand & gene\\_name\\\\\n",
       " <chr> & <int> & <int> & <chr> & <chr> & <chr>\\\\\n",
       "\\hline\n",
       "\t chr1 &  944202 &  959308 & ENSG00000188976 & - & NOC2L   \\\\\n",
       "\t chr1 &  975203 &  982092 & ENSG00000187642 & - & PERM1   \\\\\n",
       "\t chr1 &  998961 & 1000171 & ENSG00000188290 & - & HES4    \\\\\n",
       "\t chr1 & 1020119 & 1056117 & ENSG00000188157 & + & AGRN    \\\\\n",
       "\t chr1 & 1081817 & 1116360 & ENSG00000131591 & - & C1orf159\\\\\n",
       "\t chr1 & 1203507 & 1206591 & ENSG00000186891 & - & TNFRSF18\\\\\n",
       "\\end{tabular}\n"
      ],
      "text/markdown": [
       "\n",
       "A data.table: 6 x 6\n",
       "\n",
       "| #chr &lt;chr&gt; | start &lt;int&gt; | end &lt;int&gt; | gene_id &lt;chr&gt; | strand &lt;chr&gt; | gene_name &lt;chr&gt; |\n",
       "|---|---|---|---|---|---|\n",
       "| chr1 |  944202 |  959308 | ENSG00000188976 | - | NOC2L    |\n",
       "| chr1 |  975203 |  982092 | ENSG00000187642 | - | PERM1    |\n",
       "| chr1 |  998961 | 1000171 | ENSG00000188290 | - | HES4     |\n",
       "| chr1 | 1020119 | 1056117 | ENSG00000188157 | + | AGRN     |\n",
       "| chr1 | 1081817 | 1116360 | ENSG00000131591 | - | C1orf159 |\n",
       "| chr1 | 1203507 | 1206591 | ENSG00000186891 | - | TNFRSF18 |\n",
       "\n"
      ],
      "text/plain": [
       "  #chr start   end     gene_id         strand gene_name\n",
       "1 chr1  944202  959308 ENSG00000188976 -      NOC2L    \n",
       "2 chr1  975203  982092 ENSG00000187642 -      PERM1    \n",
       "3 chr1  998961 1000171 ENSG00000188290 -      HES4     \n",
       "4 chr1 1020119 1056117 ENSG00000188157 +      AGRN     \n",
       "5 chr1 1081817 1116360 ENSG00000131591 -      C1orf159 \n",
       "6 chr1 1203507 1206591 ENSG00000186891 -      TNFRSF18 "
      ]
     },
     "metadata": {},
     "output_type": "display_data"
    },
    {
     "data": {
      "text/html": [
       "<style>\n",
       ".list-inline {list-style: none; margin:0; padding: 0}\n",
       ".list-inline>li {display: inline-block}\n",
       ".list-inline>li:not(:last-child)::after {content: \"\\00b7\"; padding: 0 .5ex}\n",
       "</style>\n",
       "<ol class=list-inline><li>6058</li><li>6</li></ol>\n"
      ],
      "text/latex": [
       "\\begin{enumerate*}\n",
       "\\item 6058\n",
       "\\item 6\n",
       "\\end{enumerate*}\n"
      ],
      "text/markdown": [
       "1. 6058\n",
       "2. 6\n",
       "\n",
       "\n"
      ],
      "text/plain": [
       "[1] 6058    6"
      ]
     },
     "metadata": {},
     "output_type": "display_data"
    }
   ],
   "source": [
    "head(annotate_AD_mr)\n",
    "dim(annotate_AD_mr)"
   ]
  },
  {
   "cell_type": "code",
   "execution_count": null,
   "id": "793bb595-c682-4efe-aea1-13d793fa1cd9",
   "metadata": {},
   "outputs": [],
   "source": []
  },
  {
   "cell_type": "code",
   "execution_count": 70,
   "id": "e6dc03b8-86c7-44e6-b1f1-f5ac4474cce7",
   "metadata": {},
   "outputs": [],
   "source": [
    "TL1_sig_mr = fread(\"~/project/image_QTL/twas/TL1_mr.sig_gene.tsv.gz\")\n",
    "# TL1_sig_mr = unique(TL1_sig_mr)\n",
    "TL1_sig_mr = TL1_sig_mr |> rename(gene_id = gene_name)\n",
    "TL1_sig_mr_raw = TL1_sig_mr |> select(gene_id, everything())\n",
    "fwrite(TL1_sig_mr_raw, \"~/TL1_mr_gene_list.txt\", sep = '\\t')"
   ]
  },
  {
   "cell_type": "code",
   "execution_count": null,
   "id": "2f5cc163-9535-4250-aa5d-24ddf6db84b4",
   "metadata": {},
   "outputs": [],
   "source": [
    "sos run xqtl-protocol/code/data_preprocessing/phenotype/gene_annotation.ipynb annotate_coord \\\n",
    "    --cwd ./ \\\n",
    "    --phenoFile ./TL1_mr_gene_list.txt \\\n",
    "    --phenotype-id-column gene_id \\\n",
    "    --molecular-trait-type gene \\\n",
    "    --coordinate-annotation data/resource/references/Homo_sapiens.GRCh38.103.chr.reformatted.collapse_only.gene.ERCC.gtf"
   ]
  },
  {
   "cell_type": "code",
   "execution_count": 71,
   "id": "0586f287-7019-4ffb-af68-a863f422e011",
   "metadata": {},
   "outputs": [],
   "source": [
    "annotate_TL1_mr = fread('~/TL1_mr_gene_list.gene_list.tsv') "
   ]
  },
  {
   "cell_type": "code",
   "execution_count": 72,
   "id": "03d9be12-1aa7-4fcc-96d6-5441c2341211",
   "metadata": {},
   "outputs": [
    {
     "data": {
      "text/html": [
       "<table class=\"dataframe\">\n",
       "<caption>A data.table: 6 x 6</caption>\n",
       "<thead>\n",
       "\t<tr><th scope=col>#chr</th><th scope=col>start</th><th scope=col>end</th><th scope=col>gene_id</th><th scope=col>strand</th><th scope=col>gene_name</th></tr>\n",
       "\t<tr><th scope=col>&lt;chr&gt;</th><th scope=col>&lt;int&gt;</th><th scope=col>&lt;int&gt;</th><th scope=col>&lt;chr&gt;</th><th scope=col>&lt;chr&gt;</th><th scope=col>&lt;chr&gt;</th></tr>\n",
       "</thead>\n",
       "<tbody>\n",
       "\t<tr><td>chr1</td><td>1020119</td><td>1056117</td><td>ENSG00000188157</td><td>+</td><td>AGRN    </td></tr>\n",
       "\t<tr><td>chr1</td><td>1081817</td><td>1116360</td><td>ENSG00000131591</td><td>-</td><td>C1orf159</td></tr>\n",
       "\t<tr><td>chr1</td><td>1418419</td><td>1421768</td><td>ENSG00000235098</td><td>-</td><td>ANKRD65 </td></tr>\n",
       "\t<tr><td>chr1</td><td>3454664</td><td>3481112</td><td>ENSG00000130762</td><td>+</td><td>ARHGEF16</td></tr>\n",
       "\t<tr><td>chr1</td><td>3487950</td><td>3611507</td><td>ENSG00000162591</td><td>-</td><td>MEGF6   </td></tr>\n",
       "\t<tr><td>chr1</td><td>3889124</td><td>3900277</td><td>ENSG00000198912</td><td>-</td><td>C1orf174</td></tr>\n",
       "</tbody>\n",
       "</table>\n"
      ],
      "text/latex": [
       "A data.table: 6 x 6\n",
       "\\begin{tabular}{llllll}\n",
       " \\#chr & start & end & gene\\_id & strand & gene\\_name\\\\\n",
       " <chr> & <int> & <int> & <chr> & <chr> & <chr>\\\\\n",
       "\\hline\n",
       "\t chr1 & 1020119 & 1056117 & ENSG00000188157 & + & AGRN    \\\\\n",
       "\t chr1 & 1081817 & 1116360 & ENSG00000131591 & - & C1orf159\\\\\n",
       "\t chr1 & 1418419 & 1421768 & ENSG00000235098 & - & ANKRD65 \\\\\n",
       "\t chr1 & 3454664 & 3481112 & ENSG00000130762 & + & ARHGEF16\\\\\n",
       "\t chr1 & 3487950 & 3611507 & ENSG00000162591 & - & MEGF6   \\\\\n",
       "\t chr1 & 3889124 & 3900277 & ENSG00000198912 & - & C1orf174\\\\\n",
       "\\end{tabular}\n"
      ],
      "text/markdown": [
       "\n",
       "A data.table: 6 x 6\n",
       "\n",
       "| #chr &lt;chr&gt; | start &lt;int&gt; | end &lt;int&gt; | gene_id &lt;chr&gt; | strand &lt;chr&gt; | gene_name &lt;chr&gt; |\n",
       "|---|---|---|---|---|---|\n",
       "| chr1 | 1020119 | 1056117 | ENSG00000188157 | + | AGRN     |\n",
       "| chr1 | 1081817 | 1116360 | ENSG00000131591 | - | C1orf159 |\n",
       "| chr1 | 1418419 | 1421768 | ENSG00000235098 | - | ANKRD65  |\n",
       "| chr1 | 3454664 | 3481112 | ENSG00000130762 | + | ARHGEF16 |\n",
       "| chr1 | 3487950 | 3611507 | ENSG00000162591 | - | MEGF6    |\n",
       "| chr1 | 3889124 | 3900277 | ENSG00000198912 | - | C1orf174 |\n",
       "\n"
      ],
      "text/plain": [
       "  #chr start   end     gene_id         strand gene_name\n",
       "1 chr1 1020119 1056117 ENSG00000188157 +      AGRN     \n",
       "2 chr1 1081817 1116360 ENSG00000131591 -      C1orf159 \n",
       "3 chr1 1418419 1421768 ENSG00000235098 -      ANKRD65  \n",
       "4 chr1 3454664 3481112 ENSG00000130762 +      ARHGEF16 \n",
       "5 chr1 3487950 3611507 ENSG00000162591 -      MEGF6    \n",
       "6 chr1 3889124 3900277 ENSG00000198912 -      C1orf174 "
      ]
     },
     "metadata": {},
     "output_type": "display_data"
    },
    {
     "data": {
      "text/html": [
       "<style>\n",
       ".list-inline {list-style: none; margin:0; padding: 0}\n",
       ".list-inline>li {display: inline-block}\n",
       ".list-inline>li:not(:last-child)::after {content: \"\\00b7\"; padding: 0 .5ex}\n",
       "</style>\n",
       "<ol class=list-inline><li>2667</li><li>6</li></ol>\n"
      ],
      "text/latex": [
       "\\begin{enumerate*}\n",
       "\\item 2667\n",
       "\\item 6\n",
       "\\end{enumerate*}\n"
      ],
      "text/markdown": [
       "1. 2667\n",
       "2. 6\n",
       "\n",
       "\n"
      ],
      "text/plain": [
       "[1] 2667    6"
      ]
     },
     "metadata": {},
     "output_type": "display_data"
    }
   ],
   "source": [
    "head(annotate_TL1_mr)\n",
    "dim(annotate_TL1_mr)"
   ]
  },
  {
   "cell_type": "markdown",
   "id": "2376aa22-3ab4-4bec-8229-b14ef6baa98b",
   "metadata": {},
   "source": [
    "# TWAS"
   ]
  },
  {
   "cell_type": "code",
   "execution_count": 29,
   "id": "e57aee81-8a33-4821-bd7d-a78349106b92",
   "metadata": {},
   "outputs": [],
   "source": [
    "TL1 = fread(\"~/project/image_QTL/twas/TL1_gene_list.tsv\")\n",
    "TL1_gene = TL1$gene_id\n",
    "TL1 = TL1 |> mutate(source = ifelse(gene_name == \"\" | is.na(gene_name), \"TWAS\", \"QTL\")) |> select(-gene_name)\n",
    "TL1_raw = TL1 |> select(gene_id, source)\n",
    "fwrite(TL1_raw, \"~/TL1_gene_list.txt\", sep = '\\t')"
   ]
  },
  {
   "cell_type": "code",
   "execution_count": null,
   "id": "69f63a0a-8c34-4caf-8ece-e15ade3a626f",
   "metadata": {},
   "outputs": [],
   "source": [
    "sos run xqtl-protocol/code/data_preprocessing/phenotype/gene_annotation.ipynb annotate_coord \\\n",
    "    --cwd ./ \\\n",
    "    --phenoFile ./TL1_gene_list.txt \\\n",
    "    --phenotype-id-column gene_id \\\n",
    "    --molecular-trait-type gene \\\n",
    "    --coordinate-annotation data/resource/references/Homo_sapiens.GRCh38.103.chr.reformatted.collapse_only.gene.ERCC.gtf"
   ]
  },
  {
   "cell_type": "code",
   "execution_count": 30,
   "id": "d23de3d3-3d28-4c6b-905a-b949bf52113b",
   "metadata": {},
   "outputs": [],
   "source": [
    "annotate_TL1 = fread('~/TL1_gene_list.gene_list.tsv') |> select(gene_id, gene_name)\n",
    "TL1_annotated = TL1 |> inner_join(annotate_TL1, by=\"gene_id\")"
   ]
  },
  {
   "cell_type": "code",
   "execution_count": 31,
   "id": "b831bf5a-0b39-4c16-963b-3f2b16aa61ff",
   "metadata": {},
   "outputs": [
    {
     "data": {
      "text/html": [
       "<table class=\"dataframe\">\n",
       "<caption>A data.table: 6 x 6</caption>\n",
       "<thead>\n",
       "\t<tr><th scope=col>#chr</th><th scope=col>start</th><th scope=col>end</th><th scope=col>gene_id</th><th scope=col>source</th><th scope=col>gene_name</th></tr>\n",
       "\t<tr><th scope=col>&lt;chr&gt;</th><th scope=col>&lt;int&gt;</th><th scope=col>&lt;int&gt;</th><th scope=col>&lt;chr&gt;</th><th scope=col>&lt;chr&gt;</th><th scope=col>&lt;chr&gt;</th></tr>\n",
       "</thead>\n",
       "<tbody>\n",
       "\t<tr><td>chr10</td><td>103268872</td><td>105304950</td><td>ENSG00000065621</td><td>TWAS</td><td>GSTO2 </td></tr>\n",
       "\t<tr><td>chr10</td><td> 99320000</td><td>102783413</td><td>ENSG00000107833</td><td>TWAS</td><td>NPM3  </td></tr>\n",
       "\t<tr><td>chr10</td><td>102877569</td><td>104918184</td><td>ENSG00000107960</td><td>TWAS</td><td>STN1  </td></tr>\n",
       "\t<tr><td>chr10</td><td>103309698</td><td>105338465</td><td>ENSG00000148841</td><td>TWAS</td><td>ITPRIP</td></tr>\n",
       "\t<tr><td>chr10</td><td>  3080000</td><td>  7840000</td><td>ENSG00000057608</td><td>TWAS</td><td>GDI2  </td></tr>\n",
       "\t<tr><td>chr10</td><td>  3080000</td><td>  7840000</td><td>ENSG00000108021</td><td>TWAS</td><td>TASOR2</td></tr>\n",
       "</tbody>\n",
       "</table>\n"
      ],
      "text/latex": [
       "A data.table: 6 x 6\n",
       "\\begin{tabular}{llllll}\n",
       " \\#chr & start & end & gene\\_id & source & gene\\_name\\\\\n",
       " <chr> & <int> & <int> & <chr> & <chr> & <chr>\\\\\n",
       "\\hline\n",
       "\t chr10 & 103268872 & 105304950 & ENSG00000065621 & TWAS & GSTO2 \\\\\n",
       "\t chr10 &  99320000 & 102783413 & ENSG00000107833 & TWAS & NPM3  \\\\\n",
       "\t chr10 & 102877569 & 104918184 & ENSG00000107960 & TWAS & STN1  \\\\\n",
       "\t chr10 & 103309698 & 105338465 & ENSG00000148841 & TWAS & ITPRIP\\\\\n",
       "\t chr10 &   3080000 &   7840000 & ENSG00000057608 & TWAS & GDI2  \\\\\n",
       "\t chr10 &   3080000 &   7840000 & ENSG00000108021 & TWAS & TASOR2\\\\\n",
       "\\end{tabular}\n"
      ],
      "text/markdown": [
       "\n",
       "A data.table: 6 x 6\n",
       "\n",
       "| #chr &lt;chr&gt; | start &lt;int&gt; | end &lt;int&gt; | gene_id &lt;chr&gt; | source &lt;chr&gt; | gene_name &lt;chr&gt; |\n",
       "|---|---|---|---|---|---|\n",
       "| chr10 | 103268872 | 105304950 | ENSG00000065621 | TWAS | GSTO2  |\n",
       "| chr10 |  99320000 | 102783413 | ENSG00000107833 | TWAS | NPM3   |\n",
       "| chr10 | 102877569 | 104918184 | ENSG00000107960 | TWAS | STN1   |\n",
       "| chr10 | 103309698 | 105338465 | ENSG00000148841 | TWAS | ITPRIP |\n",
       "| chr10 |   3080000 |   7840000 | ENSG00000057608 | TWAS | GDI2   |\n",
       "| chr10 |   3080000 |   7840000 | ENSG00000108021 | TWAS | TASOR2 |\n",
       "\n"
      ],
      "text/plain": [
       "  #chr  start     end       gene_id         source gene_name\n",
       "1 chr10 103268872 105304950 ENSG00000065621 TWAS   GSTO2    \n",
       "2 chr10  99320000 102783413 ENSG00000107833 TWAS   NPM3     \n",
       "3 chr10 102877569 104918184 ENSG00000107960 TWAS   STN1     \n",
       "4 chr10 103309698 105338465 ENSG00000148841 TWAS   ITPRIP   \n",
       "5 chr10   3080000   7840000 ENSG00000057608 TWAS   GDI2     \n",
       "6 chr10   3080000   7840000 ENSG00000108021 TWAS   TASOR2   "
      ]
     },
     "metadata": {},
     "output_type": "display_data"
    },
    {
     "data": {
      "text/html": [
       "<style>\n",
       ".list-inline {list-style: none; margin:0; padding: 0}\n",
       ".list-inline>li {display: inline-block}\n",
       ".list-inline>li:not(:last-child)::after {content: \"\\00b7\"; padding: 0 .5ex}\n",
       "</style>\n",
       "<ol class=list-inline><li>1485</li><li>6</li></ol>\n"
      ],
      "text/latex": [
       "\\begin{enumerate*}\n",
       "\\item 1485\n",
       "\\item 6\n",
       "\\end{enumerate*}\n"
      ],
      "text/markdown": [
       "1. 1485\n",
       "2. 6\n",
       "\n",
       "\n"
      ],
      "text/plain": [
       "[1] 1485    6"
      ]
     },
     "metadata": {},
     "output_type": "display_data"
    }
   ],
   "source": [
    "head(TL1_annotated)\n",
    "dim(TL1_annotated)"
   ]
  },
  {
   "cell_type": "code",
   "execution_count": 7,
   "id": "5b26885e-de75-45fe-9d22-d27e0301936e",
   "metadata": {},
   "outputs": [],
   "source": [
    "DNE_annotated = fread(\"~/xqtl-analysis/production/image_QTL/interested_genes/TWAS_QTL/TWAS_QTL_gene_list.tsv\", sep = '\\t')\n",
    "TL1_annotated = TL1_annotated |> mutate(event_id = \"TL1\") |> select(event_id, everything())\n",
    "DNE_annotated = bind_rows(DNE_annotated, TL1_annotated)\n",
    "fwrite(DNE_annotated, \"~/xqtl-analysis/production/image_QTL/interested_genes/TWAS_QTL/TWAS_QTL_gene_list.tsv\", sep = '\\t')"
   ]
  },
  {
   "cell_type": "code",
   "execution_count": 3,
   "id": "e67ef873-958e-455a-9ee9-a108a61ed915",
   "metadata": {},
   "outputs": [],
   "source": [
    "AD1 = fread(\"~/project/image_QTL/twas/image_AD1_gene_list.tsv\")\n",
    "AD1_gene = AD1$gene_id\n",
    "AD1 = AD1 |> mutate(source = ifelse(gene_name == \"\" | is.na(gene_name), \"TWAS\", \"QTL\")) |> select(-gene_name)\n",
    "AD1_raw = AD1 |> select(gene_id, source)\n",
    "fwrite(AD1_raw, \"~/image_AD1_gene_list.txt\", sep = '\\t')"
   ]
  },
  {
   "cell_type": "code",
   "execution_count": null,
   "id": "781e40f9-400d-43f3-a9b1-cf8feef58ad5",
   "metadata": {},
   "outputs": [],
   "source": [
    "sos run xqtl-protocol/code/data_preprocessing/phenotype/gene_annotation.ipynb annotate_coord \\\n",
    "    --cwd ./ \\\n",
    "    --phenoFile ./image_AD1_gene_list.txt \\\n",
    "    --phenotype-id-column gene_id \\\n",
    "    --molecular-trait-type gene \\\n",
    "    --coordinate-annotation data/resource/references/Homo_sapiens.GRCh38.103.chr.reformatted.collapse_only.gene.ERCC.gtf"
   ]
  },
  {
   "cell_type": "code",
   "execution_count": 32,
   "id": "6c1c25b9-cad9-44da-a09c-3f85282b84e0",
   "metadata": {},
   "outputs": [],
   "source": [
    "annotate_AD1 = fread('~/image_AD1_gene_list.gene_list.tsv') |> select(gene_id, gene_name)\n",
    "AD1_annotated = AD1 |> inner_join(annotate_AD1, by=\"gene_id\")"
   ]
  },
  {
   "cell_type": "code",
   "execution_count": 33,
   "id": "019fa665-df5c-4589-a8c2-657fc3b15a1b",
   "metadata": {},
   "outputs": [
    {
     "data": {
      "text/html": [
       "<table class=\"dataframe\">\n",
       "<caption>A data.table: 6 x 6</caption>\n",
       "<thead>\n",
       "\t<tr><th scope=col>#chr</th><th scope=col>start</th><th scope=col>end</th><th scope=col>gene_id</th><th scope=col>source</th><th scope=col>gene_name</th></tr>\n",
       "\t<tr><th scope=col>&lt;chr&gt;</th><th scope=col>&lt;int&gt;</th><th scope=col>&lt;int&gt;</th><th scope=col>&lt;chr&gt;</th><th scope=col>&lt;chr&gt;</th><th scope=col>&lt;chr&gt;</th></tr>\n",
       "</thead>\n",
       "<tbody>\n",
       "\t<tr><td>chr14</td><td> 99238297</td><td>101760000</td><td>ENSG00000100811</td><td>TWAS</td><td>YY1  </td></tr>\n",
       "\t<tr><td>chr20</td><td> 34433347</td><td> 37080000</td><td>ENSG00000125965</td><td>TWAS</td><td>GDF5 </td></tr>\n",
       "\t<tr><td>chr3 </td><td> 46413681</td><td> 50320000</td><td>ENSG00000114650</td><td>TWAS</td><td>SCAP </td></tr>\n",
       "\t<tr><td>chr8 </td><td>  9840000</td><td> 12600000</td><td>ENSG00000104643</td><td>TWAS</td><td>MTMR9</td></tr>\n",
       "\t<tr><td>chr10</td><td>101673731</td><td>103714397</td><td>ENSG00000138175</td><td>TWAS</td><td>ARL3 </td></tr>\n",
       "\t<tr><td>chr10</td><td>101644478</td><td>103680000</td><td>ENSG00000171206</td><td>TWAS</td><td>TRIM8</td></tr>\n",
       "</tbody>\n",
       "</table>\n"
      ],
      "text/latex": [
       "A data.table: 6 x 6\n",
       "\\begin{tabular}{llllll}\n",
       " \\#chr & start & end & gene\\_id & source & gene\\_name\\\\\n",
       " <chr> & <int> & <int> & <chr> & <chr> & <chr>\\\\\n",
       "\\hline\n",
       "\t chr14 &  99238297 & 101760000 & ENSG00000100811 & TWAS & YY1  \\\\\n",
       "\t chr20 &  34433347 &  37080000 & ENSG00000125965 & TWAS & GDF5 \\\\\n",
       "\t chr3  &  46413681 &  50320000 & ENSG00000114650 & TWAS & SCAP \\\\\n",
       "\t chr8  &   9840000 &  12600000 & ENSG00000104643 & TWAS & MTMR9\\\\\n",
       "\t chr10 & 101673731 & 103714397 & ENSG00000138175 & TWAS & ARL3 \\\\\n",
       "\t chr10 & 101644478 & 103680000 & ENSG00000171206 & TWAS & TRIM8\\\\\n",
       "\\end{tabular}\n"
      ],
      "text/markdown": [
       "\n",
       "A data.table: 6 x 6\n",
       "\n",
       "| #chr &lt;chr&gt; | start &lt;int&gt; | end &lt;int&gt; | gene_id &lt;chr&gt; | source &lt;chr&gt; | gene_name &lt;chr&gt; |\n",
       "|---|---|---|---|---|---|\n",
       "| chr14 |  99238297 | 101760000 | ENSG00000100811 | TWAS | YY1   |\n",
       "| chr20 |  34433347 |  37080000 | ENSG00000125965 | TWAS | GDF5  |\n",
       "| chr3  |  46413681 |  50320000 | ENSG00000114650 | TWAS | SCAP  |\n",
       "| chr8  |   9840000 |  12600000 | ENSG00000104643 | TWAS | MTMR9 |\n",
       "| chr10 | 101673731 | 103714397 | ENSG00000138175 | TWAS | ARL3  |\n",
       "| chr10 | 101644478 | 103680000 | ENSG00000171206 | TWAS | TRIM8 |\n",
       "\n"
      ],
      "text/plain": [
       "  #chr  start     end       gene_id         source gene_name\n",
       "1 chr14  99238297 101760000 ENSG00000100811 TWAS   YY1      \n",
       "2 chr20  34433347  37080000 ENSG00000125965 TWAS   GDF5     \n",
       "3 chr3   46413681  50320000 ENSG00000114650 TWAS   SCAP     \n",
       "4 chr8    9840000  12600000 ENSG00000104643 TWAS   MTMR9    \n",
       "5 chr10 101673731 103714397 ENSG00000138175 TWAS   ARL3     \n",
       "6 chr10 101644478 103680000 ENSG00000171206 TWAS   TRIM8    "
      ]
     },
     "metadata": {},
     "output_type": "display_data"
    },
    {
     "data": {
      "text/html": [
       "<style>\n",
       ".list-inline {list-style: none; margin:0; padding: 0}\n",
       ".list-inline>li {display: inline-block}\n",
       ".list-inline>li:not(:last-child)::after {content: \"\\00b7\"; padding: 0 .5ex}\n",
       "</style>\n",
       "<ol class=list-inline><li>75</li><li>6</li></ol>\n"
      ],
      "text/latex": [
       "\\begin{enumerate*}\n",
       "\\item 75\n",
       "\\item 6\n",
       "\\end{enumerate*}\n"
      ],
      "text/markdown": [
       "1. 75\n",
       "2. 6\n",
       "\n",
       "\n"
      ],
      "text/plain": [
       "[1] 75  6"
      ]
     },
     "metadata": {},
     "output_type": "display_data"
    }
   ],
   "source": [
    "head(AD1_annotated)\n",
    "dim(AD1_annotated)"
   ]
  },
  {
   "cell_type": "code",
   "execution_count": 7,
   "id": "708aedb7-a876-4fe6-8115-b128376a42cd",
   "metadata": {},
   "outputs": [],
   "source": [
    "AD2 = fread(\"~/project/image_QTL/twas/image_AD2_gene_list.tsv\")\n",
    "AD2_gene = AD2$gene_id\n",
    "AD2 = AD2 |> mutate(source = ifelse(gene_name == \"\" | is.na(gene_name), \"TWAS\", \"QTL\")) |> select(-gene_name)\n",
    "AD2_raw = AD2 |> select(gene_id, source)\n",
    "fwrite(AD2_raw, \"~/image_AD2_gene_list.txt\", sep = '\\t')"
   ]
  },
  {
   "cell_type": "code",
   "execution_count": null,
   "id": "1d5a1567-dfdc-4a12-a839-13d083852897",
   "metadata": {},
   "outputs": [],
   "source": [
    "sos run xqtl-protocol/code/data_preprocessing/phenotype/gene_annotation.ipynb annotate_coord \\\n",
    "    --cwd ./ \\\n",
    "    --phenoFile ./image_AD2_gene_list.txt \\\n",
    "    --phenotype-id-column gene_id \\\n",
    "    --molecular-trait-type gene \\\n",
    "    --coordinate-annotation data/resource/references/Homo_sapiens.GRCh38.103.chr.reformatted.collapse_only.gene.ERCC.gtf"
   ]
  },
  {
   "cell_type": "code",
   "execution_count": 8,
   "id": "9e276c85-a4ee-4675-8d40-131662e75e9c",
   "metadata": {},
   "outputs": [],
   "source": [
    "annotate_AD2 = fread('~/image_AD2_gene_list.gene_list.tsv') |> select(gene_id, gene_name)\n",
    "AD2_annotated = AD2 |> inner_join(annotate_AD2, by=\"gene_id\")"
   ]
  },
  {
   "cell_type": "code",
   "execution_count": 10,
   "id": "fef5e4d4-4f92-4d69-92fc-27ef920d8c36",
   "metadata": {},
   "outputs": [
    {
     "data": {
      "text/html": [
       "<table class=\"dataframe\">\n",
       "<caption>A data.table: 6 x 6</caption>\n",
       "<thead>\n",
       "\t<tr><th scope=col>#chr</th><th scope=col>start</th><th scope=col>end</th><th scope=col>gene_id</th><th scope=col>source</th><th scope=col>gene_name</th></tr>\n",
       "\t<tr><th scope=col>&lt;chr&gt;</th><th scope=col>&lt;int&gt;</th><th scope=col>&lt;int&gt;</th><th scope=col>&lt;chr&gt;</th><th scope=col>&lt;chr&gt;</th><th scope=col>&lt;chr&gt;</th></tr>\n",
       "</thead>\n",
       "<tbody>\n",
       "\t<tr><td>chr12</td><td> 63507000</td><td> 66160000</td><td>ENSG00000153179</td><td>TWAS</td><td>RASSF3    </td></tr>\n",
       "\t<tr><td>chr12</td><td> 64169582</td><td> 66248355</td><td>ENSG00000174106</td><td>TWAS</td><td>LEMD3     </td></tr>\n",
       "\t<tr><td>chr12</td><td> 63404391</td><td> 66160000</td><td>ENSG00000184575</td><td>TWAS</td><td>XPOT      </td></tr>\n",
       "\t<tr><td>chr20</td><td> 34433347</td><td> 37080000</td><td>ENSG00000125965</td><td>TWAS</td><td>GDF5      </td></tr>\n",
       "\t<tr><td>chr2 </td><td>231479827</td><td>235760000</td><td>ENSG00000171551</td><td>TWAS</td><td>ECEL1     </td></tr>\n",
       "\t<tr><td>chr6 </td><td> 25960000</td><td> 30480000</td><td>ENSG00000276302</td><td>TWAS</td><td>AL021997.2</td></tr>\n",
       "</tbody>\n",
       "</table>\n"
      ],
      "text/latex": [
       "A data.table: 6 x 6\n",
       "\\begin{tabular}{llllll}\n",
       " \\#chr & start & end & gene\\_id & source & gene\\_name\\\\\n",
       " <chr> & <int> & <int> & <chr> & <chr> & <chr>\\\\\n",
       "\\hline\n",
       "\t chr12 &  63507000 &  66160000 & ENSG00000153179 & TWAS & RASSF3    \\\\\n",
       "\t chr12 &  64169582 &  66248355 & ENSG00000174106 & TWAS & LEMD3     \\\\\n",
       "\t chr12 &  63404391 &  66160000 & ENSG00000184575 & TWAS & XPOT      \\\\\n",
       "\t chr20 &  34433347 &  37080000 & ENSG00000125965 & TWAS & GDF5      \\\\\n",
       "\t chr2  & 231479827 & 235760000 & ENSG00000171551 & TWAS & ECEL1     \\\\\n",
       "\t chr6  &  25960000 &  30480000 & ENSG00000276302 & TWAS & AL021997.2\\\\\n",
       "\\end{tabular}\n"
      ],
      "text/markdown": [
       "\n",
       "A data.table: 6 x 6\n",
       "\n",
       "| #chr &lt;chr&gt; | start &lt;int&gt; | end &lt;int&gt; | gene_id &lt;chr&gt; | source &lt;chr&gt; | gene_name &lt;chr&gt; |\n",
       "|---|---|---|---|---|---|\n",
       "| chr12 |  63507000 |  66160000 | ENSG00000153179 | TWAS | RASSF3     |\n",
       "| chr12 |  64169582 |  66248355 | ENSG00000174106 | TWAS | LEMD3      |\n",
       "| chr12 |  63404391 |  66160000 | ENSG00000184575 | TWAS | XPOT       |\n",
       "| chr20 |  34433347 |  37080000 | ENSG00000125965 | TWAS | GDF5       |\n",
       "| chr2  | 231479827 | 235760000 | ENSG00000171551 | TWAS | ECEL1      |\n",
       "| chr6  |  25960000 |  30480000 | ENSG00000276302 | TWAS | AL021997.2 |\n",
       "\n"
      ],
      "text/plain": [
       "  #chr  start     end       gene_id         source gene_name \n",
       "1 chr12  63507000  66160000 ENSG00000153179 TWAS   RASSF3    \n",
       "2 chr12  64169582  66248355 ENSG00000174106 TWAS   LEMD3     \n",
       "3 chr12  63404391  66160000 ENSG00000184575 TWAS   XPOT      \n",
       "4 chr20  34433347  37080000 ENSG00000125965 TWAS   GDF5      \n",
       "5 chr2  231479827 235760000 ENSG00000171551 TWAS   ECEL1     \n",
       "6 chr6   25960000  30480000 ENSG00000276302 TWAS   AL021997.2"
      ]
     },
     "metadata": {},
     "output_type": "display_data"
    },
    {
     "data": {
      "text/html": [
       "<style>\n",
       ".list-inline {list-style: none; margin:0; padding: 0}\n",
       ".list-inline>li {display: inline-block}\n",
       ".list-inline>li:not(:last-child)::after {content: \"\\00b7\"; padding: 0 .5ex}\n",
       "</style>\n",
       "<ol class=list-inline><li>103</li><li>6</li></ol>\n"
      ],
      "text/latex": [
       "\\begin{enumerate*}\n",
       "\\item 103\n",
       "\\item 6\n",
       "\\end{enumerate*}\n"
      ],
      "text/markdown": [
       "1. 103\n",
       "2. 6\n",
       "\n",
       "\n"
      ],
      "text/plain": [
       "[1] 103   6"
      ]
     },
     "metadata": {},
     "output_type": "display_data"
    }
   ],
   "source": [
    "head(AD2_annotated)\n",
    "dim(AD2_annotated)"
   ]
  },
  {
   "cell_type": "code",
   "execution_count": 11,
   "id": "b143923c-732f-4420-98ea-52fbb922dc06",
   "metadata": {},
   "outputs": [],
   "source": [
    "Aging1 = fread(\"~/project/image_QTL/twas/image_Aging1_gene_list.tsv\")\n",
    "Aging1_gene = Aging1$gene_id\n",
    "Aging1 = Aging1 |> mutate(source = ifelse(gene_name == \"\" | is.na(gene_name), \"TWAS\", \"QTL\")) |> select(-gene_name)\n",
    "Aging1_raw = Aging1 |> select(gene_id, source)\n",
    "fwrite(Aging1_raw, \"~/image_Aging1_gene_list.txt\", sep = '\\t')"
   ]
  },
  {
   "cell_type": "code",
   "execution_count": null,
   "id": "df149aa6-8092-4e1b-9fa1-6048e9955fef",
   "metadata": {},
   "outputs": [],
   "source": [
    "sos run xqtl-protocol/code/data_preprocessing/phenotype/gene_annotation.ipynb annotate_coord \\\n",
    "    --cwd ./ \\\n",
    "    --phenoFile ./image_Aging1_gene_list.txt \\\n",
    "    --phenotype-id-column gene_id \\\n",
    "    --molecular-trait-type gene \\\n",
    "    --coordinate-annotation data/resource/references/Homo_sapiens.GRCh38.103.chr.reformatted.collapse_only.gene.ERCC.gtf"
   ]
  },
  {
   "cell_type": "code",
   "execution_count": 13,
   "id": "c42bce1f-8e08-4aee-8754-677363d42dc1",
   "metadata": {},
   "outputs": [],
   "source": [
    "annotate_Aging1 = fread('~/image_Aging1_gene_list.gene_list.tsv') |> select(gene_id, gene_name)\n",
    "Aging1_annotated = Aging1 |> inner_join(annotate_Aging1, by=\"gene_id\")"
   ]
  },
  {
   "cell_type": "code",
   "execution_count": 14,
   "id": "77137d4f-aca4-4cee-b245-7a76fad1e839",
   "metadata": {},
   "outputs": [
    {
     "data": {
      "text/html": [
       "<table class=\"dataframe\">\n",
       "<caption>A data.table: 6 x 6</caption>\n",
       "<thead>\n",
       "\t<tr><th scope=col>#chr</th><th scope=col>start</th><th scope=col>end</th><th scope=col>gene_id</th><th scope=col>source</th><th scope=col>gene_name</th></tr>\n",
       "\t<tr><th scope=col>&lt;chr&gt;</th><th scope=col>&lt;int&gt;</th><th scope=col>&lt;int&gt;</th><th scope=col>&lt;chr&gt;</th><th scope=col>&lt;chr&gt;</th><th scope=col>&lt;chr&gt;</th></tr>\n",
       "</thead>\n",
       "<tbody>\n",
       "\t<tr><td>chr16</td><td>25040000</td><td>34000000</td><td>ENSG00000176953</td><td>TWAS</td><td>NFATC2IP</td></tr>\n",
       "\t<tr><td>chr16</td><td>25040000</td><td>34000000</td><td>ENSG00000178952</td><td>TWAS</td><td>TUFM    </td></tr>\n",
       "\t<tr><td>chr16</td><td>25040000</td><td>34000000</td><td>ENSG00000188603</td><td>TWAS</td><td>CLN3    </td></tr>\n",
       "\t<tr><td>chr16</td><td>25040000</td><td>34000000</td><td>ENSG00000196502</td><td>TWAS</td><td>SULT1A1 </td></tr>\n",
       "\t<tr><td>chr16</td><td>25040000</td><td>34000000</td><td>ENSG00000196993</td><td>TWAS</td><td>NPIPB9  </td></tr>\n",
       "\t<tr><td>chr16</td><td>25040000</td><td>34000000</td><td>ENSG00000205609</td><td>TWAS</td><td>EIF3CL  </td></tr>\n",
       "</tbody>\n",
       "</table>\n"
      ],
      "text/latex": [
       "A data.table: 6 x 6\n",
       "\\begin{tabular}{llllll}\n",
       " \\#chr & start & end & gene\\_id & source & gene\\_name\\\\\n",
       " <chr> & <int> & <int> & <chr> & <chr> & <chr>\\\\\n",
       "\\hline\n",
       "\t chr16 & 25040000 & 34000000 & ENSG00000176953 & TWAS & NFATC2IP\\\\\n",
       "\t chr16 & 25040000 & 34000000 & ENSG00000178952 & TWAS & TUFM    \\\\\n",
       "\t chr16 & 25040000 & 34000000 & ENSG00000188603 & TWAS & CLN3    \\\\\n",
       "\t chr16 & 25040000 & 34000000 & ENSG00000196502 & TWAS & SULT1A1 \\\\\n",
       "\t chr16 & 25040000 & 34000000 & ENSG00000196993 & TWAS & NPIPB9  \\\\\n",
       "\t chr16 & 25040000 & 34000000 & ENSG00000205609 & TWAS & EIF3CL  \\\\\n",
       "\\end{tabular}\n"
      ],
      "text/markdown": [
       "\n",
       "A data.table: 6 x 6\n",
       "\n",
       "| #chr &lt;chr&gt; | start &lt;int&gt; | end &lt;int&gt; | gene_id &lt;chr&gt; | source &lt;chr&gt; | gene_name &lt;chr&gt; |\n",
       "|---|---|---|---|---|---|\n",
       "| chr16 | 25040000 | 34000000 | ENSG00000176953 | TWAS | NFATC2IP |\n",
       "| chr16 | 25040000 | 34000000 | ENSG00000178952 | TWAS | TUFM     |\n",
       "| chr16 | 25040000 | 34000000 | ENSG00000188603 | TWAS | CLN3     |\n",
       "| chr16 | 25040000 | 34000000 | ENSG00000196502 | TWAS | SULT1A1  |\n",
       "| chr16 | 25040000 | 34000000 | ENSG00000196993 | TWAS | NPIPB9   |\n",
       "| chr16 | 25040000 | 34000000 | ENSG00000205609 | TWAS | EIF3CL   |\n",
       "\n"
      ],
      "text/plain": [
       "  #chr  start    end      gene_id         source gene_name\n",
       "1 chr16 25040000 34000000 ENSG00000176953 TWAS   NFATC2IP \n",
       "2 chr16 25040000 34000000 ENSG00000178952 TWAS   TUFM     \n",
       "3 chr16 25040000 34000000 ENSG00000188603 TWAS   CLN3     \n",
       "4 chr16 25040000 34000000 ENSG00000196502 TWAS   SULT1A1  \n",
       "5 chr16 25040000 34000000 ENSG00000196993 TWAS   NPIPB9   \n",
       "6 chr16 25040000 34000000 ENSG00000205609 TWAS   EIF3CL   "
      ]
     },
     "metadata": {},
     "output_type": "display_data"
    },
    {
     "data": {
      "text/html": [
       "<style>\n",
       ".list-inline {list-style: none; margin:0; padding: 0}\n",
       ".list-inline>li {display: inline-block}\n",
       ".list-inline>li:not(:last-child)::after {content: \"\\00b7\"; padding: 0 .5ex}\n",
       "</style>\n",
       "<ol class=list-inline><li>150</li><li>6</li></ol>\n"
      ],
      "text/latex": [
       "\\begin{enumerate*}\n",
       "\\item 150\n",
       "\\item 6\n",
       "\\end{enumerate*}\n"
      ],
      "text/markdown": [
       "1. 150\n",
       "2. 6\n",
       "\n",
       "\n"
      ],
      "text/plain": [
       "[1] 150   6"
      ]
     },
     "metadata": {},
     "output_type": "display_data"
    }
   ],
   "source": [
    "head(Aging1_annotated)\n",
    "dim(Aging1_annotated)"
   ]
  },
  {
   "cell_type": "code",
   "execution_count": 15,
   "id": "af7a169b-97ba-4494-bd25-44f72d6cca2f",
   "metadata": {},
   "outputs": [],
   "source": [
    "Aging2 = fread(\"~/project/image_QTL/twas/image_Aging2_gene_list.tsv\")\n",
    "Aging2_gene = Aging2$gene_id\n",
    "Aging2 = Aging2 |> mutate(source = ifelse(gene_name == \"\" | is.na(gene_name), \"TWAS\", \"QTL\")) |> select(-gene_name)\n",
    "Aging2_raw = Aging2 |> select(gene_id, source)\n",
    "fwrite(Aging2_raw, \"~/image_Aging2_gene_list.txt\", sep = '\\t')"
   ]
  },
  {
   "cell_type": "code",
   "execution_count": null,
   "id": "5456c49b-40da-4ef3-85c9-2125167d40ce",
   "metadata": {},
   "outputs": [],
   "source": [
    "sos run xqtl-protocol/code/data_preprocessing/phenotype/gene_annotation.ipynb annotate_coord \\\n",
    "    --cwd ./ \\\n",
    "    --phenoFile ./image_Aging2_gene_list.txt \\\n",
    "    --phenotype-id-column gene_id \\\n",
    "    --molecular-trait-type gene \\\n",
    "    --coordinate-annotation data/resource/references/Homo_sapiens.GRCh38.103.chr.reformatted.collapse_only.gene.ERCC.gtf"
   ]
  },
  {
   "cell_type": "code",
   "execution_count": 16,
   "id": "9a6afda5-1bcd-4c29-89ff-22bc2550ff6e",
   "metadata": {},
   "outputs": [],
   "source": [
    "annotate_Aging2 = fread('~/image_Aging2_gene_list.gene_list.tsv') |> select(gene_id, gene_name)\n",
    "Aging2_annotated = Aging2 |> inner_join(annotate_Aging2, by=\"gene_id\")"
   ]
  },
  {
   "cell_type": "code",
   "execution_count": 18,
   "id": "af6000f9-13ad-40ff-acd3-861d5e32e3d0",
   "metadata": {},
   "outputs": [
    {
     "data": {
      "text/html": [
       "<table class=\"dataframe\">\n",
       "<caption>A data.table: 6 x 6</caption>\n",
       "<thead>\n",
       "\t<tr><th scope=col>#chr</th><th scope=col>start</th><th scope=col>end</th><th scope=col>gene_id</th><th scope=col>source</th><th scope=col>gene_name</th></tr>\n",
       "\t<tr><th scope=col>&lt;chr&gt;</th><th scope=col>&lt;int&gt;</th><th scope=col>&lt;int&gt;</th><th scope=col>&lt;chr&gt;</th><th scope=col>&lt;chr&gt;</th><th scope=col>&lt;chr&gt;</th></tr>\n",
       "</thead>\n",
       "<tbody>\n",
       "\t<tr><td>chr12</td><td>115920000</td><td>118120000</td><td>ENSG00000088992</td><td>TWAS</td><td>TESC </td></tr>\n",
       "\t<tr><td>chr12</td><td>115856144</td><td>117881441</td><td>ENSG00000135116</td><td>TWAS</td><td>HRK  </td></tr>\n",
       "\t<tr><td>chr12</td><td> 64169582</td><td> 66248355</td><td>ENSG00000174106</td><td>TWAS</td><td>LEMD3</td></tr>\n",
       "\t<tr><td>chr12</td><td> 63404391</td><td> 66160000</td><td>ENSG00000184575</td><td>TWAS</td><td>XPOT </td></tr>\n",
       "\t<tr><td>chr16</td><td> 28360000</td><td> 34000000</td><td>ENSG00000090238</td><td>TWAS</td><td>YPEL3</td></tr>\n",
       "\t<tr><td>chr16</td><td> 28360000</td><td> 34000000</td><td>ENSG00000102882</td><td>TWAS</td><td>MAPK3</td></tr>\n",
       "</tbody>\n",
       "</table>\n"
      ],
      "text/latex": [
       "A data.table: 6 x 6\n",
       "\\begin{tabular}{llllll}\n",
       " \\#chr & start & end & gene\\_id & source & gene\\_name\\\\\n",
       " <chr> & <int> & <int> & <chr> & <chr> & <chr>\\\\\n",
       "\\hline\n",
       "\t chr12 & 115920000 & 118120000 & ENSG00000088992 & TWAS & TESC \\\\\n",
       "\t chr12 & 115856144 & 117881441 & ENSG00000135116 & TWAS & HRK  \\\\\n",
       "\t chr12 &  64169582 &  66248355 & ENSG00000174106 & TWAS & LEMD3\\\\\n",
       "\t chr12 &  63404391 &  66160000 & ENSG00000184575 & TWAS & XPOT \\\\\n",
       "\t chr16 &  28360000 &  34000000 & ENSG00000090238 & TWAS & YPEL3\\\\\n",
       "\t chr16 &  28360000 &  34000000 & ENSG00000102882 & TWAS & MAPK3\\\\\n",
       "\\end{tabular}\n"
      ],
      "text/markdown": [
       "\n",
       "A data.table: 6 x 6\n",
       "\n",
       "| #chr &lt;chr&gt; | start &lt;int&gt; | end &lt;int&gt; | gene_id &lt;chr&gt; | source &lt;chr&gt; | gene_name &lt;chr&gt; |\n",
       "|---|---|---|---|---|---|\n",
       "| chr12 | 115920000 | 118120000 | ENSG00000088992 | TWAS | TESC  |\n",
       "| chr12 | 115856144 | 117881441 | ENSG00000135116 | TWAS | HRK   |\n",
       "| chr12 |  64169582 |  66248355 | ENSG00000174106 | TWAS | LEMD3 |\n",
       "| chr12 |  63404391 |  66160000 | ENSG00000184575 | TWAS | XPOT  |\n",
       "| chr16 |  28360000 |  34000000 | ENSG00000090238 | TWAS | YPEL3 |\n",
       "| chr16 |  28360000 |  34000000 | ENSG00000102882 | TWAS | MAPK3 |\n",
       "\n"
      ],
      "text/plain": [
       "  #chr  start     end       gene_id         source gene_name\n",
       "1 chr12 115920000 118120000 ENSG00000088992 TWAS   TESC     \n",
       "2 chr12 115856144 117881441 ENSG00000135116 TWAS   HRK      \n",
       "3 chr12  64169582  66248355 ENSG00000174106 TWAS   LEMD3    \n",
       "4 chr12  63404391  66160000 ENSG00000184575 TWAS   XPOT     \n",
       "5 chr16  28360000  34000000 ENSG00000090238 TWAS   YPEL3    \n",
       "6 chr16  28360000  34000000 ENSG00000102882 TWAS   MAPK3    "
      ]
     },
     "metadata": {},
     "output_type": "display_data"
    },
    {
     "data": {
      "text/html": [
       "<style>\n",
       ".list-inline {list-style: none; margin:0; padding: 0}\n",
       ".list-inline>li {display: inline-block}\n",
       ".list-inline>li:not(:last-child)::after {content: \"\\00b7\"; padding: 0 .5ex}\n",
       "</style>\n",
       "<ol class=list-inline><li>100</li><li>6</li></ol>\n"
      ],
      "text/latex": [
       "\\begin{enumerate*}\n",
       "\\item 100\n",
       "\\item 6\n",
       "\\end{enumerate*}\n"
      ],
      "text/markdown": [
       "1. 100\n",
       "2. 6\n",
       "\n",
       "\n"
      ],
      "text/plain": [
       "[1] 100   6"
      ]
     },
     "metadata": {},
     "output_type": "display_data"
    }
   ],
   "source": [
    "head(Aging2_annotated)\n",
    "dim(Aging2_annotated)"
   ]
  },
  {
   "cell_type": "code",
   "execution_count": 19,
   "id": "3e7441c4-436c-497f-b2b6-0f48fbfacb4b",
   "metadata": {},
   "outputs": [],
   "source": [
    "Aging3 = fread(\"~/project/image_QTL/twas/image_Aging3_gene_list.tsv\")\n",
    "Aging3_gene = Aging3$gene_id\n",
    "Aging3 = Aging3 |> mutate(source = ifelse(gene_name == \"\" | is.na(gene_name), \"TWAS\", \"QTL\")) |> select(-gene_name)\n",
    "Aging3_raw = Aging3 |> select(gene_id, source)\n",
    "fwrite(Aging3_raw, \"~/image_Aging3_gene_list.txt\", sep = '\\t')"
   ]
  },
  {
   "cell_type": "code",
   "execution_count": null,
   "id": "2a96ba08-5d8b-4eaa-9edb-12aa13025f6a",
   "metadata": {},
   "outputs": [],
   "source": [
    "sos run xqtl-protocol/code/data_preprocessing/phenotype/gene_annotation.ipynb annotate_coord \\\n",
    "    --cwd ./ \\\n",
    "    --phenoFile ./image_Aging3_gene_list.txt \\\n",
    "    --phenotype-id-column gene_id \\\n",
    "    --molecular-trait-type gene \\\n",
    "    --coordinate-annotation data/resource/references/Homo_sapiens.GRCh38.103.chr.reformatted.collapse_only.gene.ERCC.gtf"
   ]
  },
  {
   "cell_type": "code",
   "execution_count": 20,
   "id": "cc2d7dfa-75d0-4014-a338-487593dc34e6",
   "metadata": {},
   "outputs": [],
   "source": [
    "annotate_Aging3 = fread('~/image_Aging3_gene_list.gene_list.tsv') |> select(gene_id, gene_name)\n",
    "Aging3_annotated = Aging3 |> inner_join(annotate_Aging3, by=\"gene_id\")"
   ]
  },
  {
   "cell_type": "code",
   "execution_count": 21,
   "id": "7721eb95-1010-4d5d-8845-aea5c8acb7fa",
   "metadata": {},
   "outputs": [
    {
     "data": {
      "text/html": [
       "<table class=\"dataframe\">\n",
       "<caption>A data.table: 6 x 6</caption>\n",
       "<thead>\n",
       "\t<tr><th scope=col>#chr</th><th scope=col>start</th><th scope=col>end</th><th scope=col>gene_id</th><th scope=col>source</th><th scope=col>gene_name</th></tr>\n",
       "\t<tr><th scope=col>&lt;chr&gt;</th><th scope=col>&lt;int&gt;</th><th scope=col>&lt;int&gt;</th><th scope=col>&lt;chr&gt;</th><th scope=col>&lt;chr&gt;</th><th scope=col>&lt;chr&gt;</th></tr>\n",
       "</thead>\n",
       "<tbody>\n",
       "\t<tr><td>chr2 </td><td> 53456316</td><td> 55680000</td><td>ENSG00000115306</td><td>TWAS</td><td>SPTBN1</td></tr>\n",
       "\t<tr><td>chr16</td><td> 28360000</td><td> 34000000</td><td>ENSG00000102886</td><td>TWAS</td><td>GDPD3 </td></tr>\n",
       "\t<tr><td>chr6 </td><td>125340114</td><td>127680000</td><td>ENSG00000203760</td><td>TWAS</td><td>CENPW </td></tr>\n",
       "\t<tr><td>chr14</td><td> 56480000</td><td> 60600000</td><td>ENSG00000032219</td><td>TWAS</td><td>ARID4A</td></tr>\n",
       "\t<tr><td>chr14</td><td> 56480000</td><td> 60600000</td><td>ENSG00000100567</td><td>TWAS</td><td>PSMA3 </td></tr>\n",
       "\t<tr><td>chr1 </td><td>214005774</td><td>216237090</td><td>ENSG00000082482</td><td>TWAS</td><td>KCNK2 </td></tr>\n",
       "</tbody>\n",
       "</table>\n"
      ],
      "text/latex": [
       "A data.table: 6 x 6\n",
       "\\begin{tabular}{llllll}\n",
       " \\#chr & start & end & gene\\_id & source & gene\\_name\\\\\n",
       " <chr> & <int> & <int> & <chr> & <chr> & <chr>\\\\\n",
       "\\hline\n",
       "\t chr2  &  53456316 &  55680000 & ENSG00000115306 & TWAS & SPTBN1\\\\\n",
       "\t chr16 &  28360000 &  34000000 & ENSG00000102886 & TWAS & GDPD3 \\\\\n",
       "\t chr6  & 125340114 & 127680000 & ENSG00000203760 & TWAS & CENPW \\\\\n",
       "\t chr14 &  56480000 &  60600000 & ENSG00000032219 & TWAS & ARID4A\\\\\n",
       "\t chr14 &  56480000 &  60600000 & ENSG00000100567 & TWAS & PSMA3 \\\\\n",
       "\t chr1  & 214005774 & 216237090 & ENSG00000082482 & TWAS & KCNK2 \\\\\n",
       "\\end{tabular}\n"
      ],
      "text/markdown": [
       "\n",
       "A data.table: 6 x 6\n",
       "\n",
       "| #chr &lt;chr&gt; | start &lt;int&gt; | end &lt;int&gt; | gene_id &lt;chr&gt; | source &lt;chr&gt; | gene_name &lt;chr&gt; |\n",
       "|---|---|---|---|---|---|\n",
       "| chr2  |  53456316 |  55680000 | ENSG00000115306 | TWAS | SPTBN1 |\n",
       "| chr16 |  28360000 |  34000000 | ENSG00000102886 | TWAS | GDPD3  |\n",
       "| chr6  | 125340114 | 127680000 | ENSG00000203760 | TWAS | CENPW  |\n",
       "| chr14 |  56480000 |  60600000 | ENSG00000032219 | TWAS | ARID4A |\n",
       "| chr14 |  56480000 |  60600000 | ENSG00000100567 | TWAS | PSMA3  |\n",
       "| chr1  | 214005774 | 216237090 | ENSG00000082482 | TWAS | KCNK2  |\n",
       "\n"
      ],
      "text/plain": [
       "  #chr  start     end       gene_id         source gene_name\n",
       "1 chr2   53456316  55680000 ENSG00000115306 TWAS   SPTBN1   \n",
       "2 chr16  28360000  34000000 ENSG00000102886 TWAS   GDPD3    \n",
       "3 chr6  125340114 127680000 ENSG00000203760 TWAS   CENPW    \n",
       "4 chr14  56480000  60600000 ENSG00000032219 TWAS   ARID4A   \n",
       "5 chr14  56480000  60600000 ENSG00000100567 TWAS   PSMA3    \n",
       "6 chr1  214005774 216237090 ENSG00000082482 TWAS   KCNK2    "
      ]
     },
     "metadata": {},
     "output_type": "display_data"
    },
    {
     "data": {
      "text/html": [
       "<style>\n",
       ".list-inline {list-style: none; margin:0; padding: 0}\n",
       ".list-inline>li {display: inline-block}\n",
       ".list-inline>li:not(:last-child)::after {content: \"\\00b7\"; padding: 0 .5ex}\n",
       "</style>\n",
       "<ol class=list-inline><li>68</li><li>6</li></ol>\n"
      ],
      "text/latex": [
       "\\begin{enumerate*}\n",
       "\\item 68\n",
       "\\item 6\n",
       "\\end{enumerate*}\n"
      ],
      "text/markdown": [
       "1. 68\n",
       "2. 6\n",
       "\n",
       "\n"
      ],
      "text/plain": [
       "[1] 68  6"
      ]
     },
     "metadata": {},
     "output_type": "display_data"
    }
   ],
   "source": [
    "head(Aging3_annotated)\n",
    "dim(Aging3_annotated)"
   ]
  },
  {
   "cell_type": "code",
   "execution_count": 22,
   "id": "824617dc-06c5-4f50-b30f-abbe7950abba",
   "metadata": {},
   "outputs": [],
   "source": [
    "Aging4 = fread(\"~/project/image_QTL/twas/image_Aging4_gene_list.tsv\")\n",
    "Aging4_gene = Aging4$gene_id\n",
    "Aging4 = Aging4 |> mutate(source = ifelse(gene_name == \"\" | is.na(gene_name), \"TWAS\", \"QTL\")) |> select(-gene_name)\n",
    "Aging4_raw = Aging4 |> select(gene_id, source)\n",
    "fwrite(Aging4_raw, \"~/image_Aging4_gene_list.txt\", sep = '\\t')"
   ]
  },
  {
   "cell_type": "code",
   "execution_count": null,
   "id": "fc1f8380-4b68-4bca-9575-8f0a979f97b5",
   "metadata": {},
   "outputs": [],
   "source": [
    "sos run xqtl-protocol/code/data_preprocessing/phenotype/gene_annotation.ipynb annotate_coord \\\n",
    "    --cwd ./ \\\n",
    "    --phenoFile ./image_Aging4_gene_list.txt \\\n",
    "    --phenotype-id-column gene_id \\\n",
    "    --molecular-trait-type gene \\\n",
    "    --coordinate-annotation data/resource/references/Homo_sapiens.GRCh38.103.chr.reformatted.collapse_only.gene.ERCC.gtf"
   ]
  },
  {
   "cell_type": "code",
   "execution_count": 23,
   "id": "c233ce94-88a9-4348-a4b5-a80663b9560d",
   "metadata": {},
   "outputs": [],
   "source": [
    "annotate_Aging4 = fread('~/image_Aging4_gene_list.gene_list.tsv') |> select(gene_id, gene_name)\n",
    "Aging4_annotated = Aging4 |> inner_join(annotate_Aging4, by=\"gene_id\")"
   ]
  },
  {
   "cell_type": "code",
   "execution_count": 24,
   "id": "faf4f7fb-8f29-44d8-9168-384b833d9207",
   "metadata": {},
   "outputs": [
    {
     "data": {
      "text/html": [
       "<table class=\"dataframe\">\n",
       "<caption>A data.table: 6 x 6</caption>\n",
       "<thead>\n",
       "\t<tr><th scope=col>#chr</th><th scope=col>start</th><th scope=col>end</th><th scope=col>gene_id</th><th scope=col>source</th><th scope=col>gene_name</th></tr>\n",
       "\t<tr><th scope=col>&lt;chr&gt;</th><th scope=col>&lt;int&gt;</th><th scope=col>&lt;int&gt;</th><th scope=col>&lt;chr&gt;</th><th scope=col>&lt;chr&gt;</th><th scope=col>&lt;chr&gt;</th></tr>\n",
       "</thead>\n",
       "<tbody>\n",
       "\t<tr><td>chr1 </td><td>201840000</td><td>206775482</td><td>ENSG00000117280</td><td>TWAS</td><td>RAB29 </td></tr>\n",
       "\t<tr><td>chr1 </td><td>201840000</td><td>206850132</td><td>ENSG00000162877</td><td>TWAS</td><td>PM20D1</td></tr>\n",
       "\t<tr><td>chr10</td><td> 86960000</td><td> 90880000</td><td>ENSG00000204010</td><td>TWAS</td><td>IFIT1B</td></tr>\n",
       "\t<tr><td>chr17</td><td> 66200000</td><td> 69280000</td><td>ENSG00000182481</td><td>TWAS</td><td>KPNA2 </td></tr>\n",
       "\t<tr><td>chr19</td><td> 32720000</td><td> 43520000</td><td>ENSG00000126267</td><td>TWAS</td><td>COX6B1</td></tr>\n",
       "\t<tr><td>chr19</td><td> 32720000</td><td> 43520000</td><td>ENSG00000105668</td><td>TWAS</td><td>UPK1A </td></tr>\n",
       "</tbody>\n",
       "</table>\n"
      ],
      "text/latex": [
       "A data.table: 6 x 6\n",
       "\\begin{tabular}{llllll}\n",
       " \\#chr & start & end & gene\\_id & source & gene\\_name\\\\\n",
       " <chr> & <int> & <int> & <chr> & <chr> & <chr>\\\\\n",
       "\\hline\n",
       "\t chr1  & 201840000 & 206775482 & ENSG00000117280 & TWAS & RAB29 \\\\\n",
       "\t chr1  & 201840000 & 206850132 & ENSG00000162877 & TWAS & PM20D1\\\\\n",
       "\t chr10 &  86960000 &  90880000 & ENSG00000204010 & TWAS & IFIT1B\\\\\n",
       "\t chr17 &  66200000 &  69280000 & ENSG00000182481 & TWAS & KPNA2 \\\\\n",
       "\t chr19 &  32720000 &  43520000 & ENSG00000126267 & TWAS & COX6B1\\\\\n",
       "\t chr19 &  32720000 &  43520000 & ENSG00000105668 & TWAS & UPK1A \\\\\n",
       "\\end{tabular}\n"
      ],
      "text/markdown": [
       "\n",
       "A data.table: 6 x 6\n",
       "\n",
       "| #chr &lt;chr&gt; | start &lt;int&gt; | end &lt;int&gt; | gene_id &lt;chr&gt; | source &lt;chr&gt; | gene_name &lt;chr&gt; |\n",
       "|---|---|---|---|---|---|\n",
       "| chr1  | 201840000 | 206775482 | ENSG00000117280 | TWAS | RAB29  |\n",
       "| chr1  | 201840000 | 206850132 | ENSG00000162877 | TWAS | PM20D1 |\n",
       "| chr10 |  86960000 |  90880000 | ENSG00000204010 | TWAS | IFIT1B |\n",
       "| chr17 |  66200000 |  69280000 | ENSG00000182481 | TWAS | KPNA2  |\n",
       "| chr19 |  32720000 |  43520000 | ENSG00000126267 | TWAS | COX6B1 |\n",
       "| chr19 |  32720000 |  43520000 | ENSG00000105668 | TWAS | UPK1A  |\n",
       "\n"
      ],
      "text/plain": [
       "  #chr  start     end       gene_id         source gene_name\n",
       "1 chr1  201840000 206775482 ENSG00000117280 TWAS   RAB29    \n",
       "2 chr1  201840000 206850132 ENSG00000162877 TWAS   PM20D1   \n",
       "3 chr10  86960000  90880000 ENSG00000204010 TWAS   IFIT1B   \n",
       "4 chr17  66200000  69280000 ENSG00000182481 TWAS   KPNA2    \n",
       "5 chr19  32720000  43520000 ENSG00000126267 TWAS   COX6B1   \n",
       "6 chr19  32720000  43520000 ENSG00000105668 TWAS   UPK1A    "
      ]
     },
     "metadata": {},
     "output_type": "display_data"
    },
    {
     "data": {
      "text/html": [
       "<style>\n",
       ".list-inline {list-style: none; margin:0; padding: 0}\n",
       ".list-inline>li {display: inline-block}\n",
       ".list-inline>li:not(:last-child)::after {content: \"\\00b7\"; padding: 0 .5ex}\n",
       "</style>\n",
       "<ol class=list-inline><li>59</li><li>6</li></ol>\n"
      ],
      "text/latex": [
       "\\begin{enumerate*}\n",
       "\\item 59\n",
       "\\item 6\n",
       "\\end{enumerate*}\n"
      ],
      "text/markdown": [
       "1. 59\n",
       "2. 6\n",
       "\n",
       "\n"
      ],
      "text/plain": [
       "[1] 59  6"
      ]
     },
     "metadata": {},
     "output_type": "display_data"
    }
   ],
   "source": [
    "head(Aging4_annotated)\n",
    "dim(Aging4_annotated)"
   ]
  },
  {
   "cell_type": "code",
   "execution_count": 25,
   "id": "7cc2be52-e377-4484-a849-57c1b6e9aacb",
   "metadata": {},
   "outputs": [],
   "source": [
    "Aging5 = fread(\"~/project/image_QTL/twas/image_Aging5_gene_list.tsv\")\n",
    "Aging5_gene = Aging5$gene_id\n",
    "Aging5 = Aging5 |> mutate(source = ifelse(gene_name == \"\" | is.na(gene_name), \"TWAS\", \"QTL\")) |> select(-gene_name)\n",
    "Aging5_raw = Aging5 |> select(gene_id, source)\n",
    "fwrite(Aging5_raw, \"~/image_Aging5_gene_list.txt\", sep = '\\t')"
   ]
  },
  {
   "cell_type": "code",
   "execution_count": null,
   "id": "55448b84-1e63-404a-957d-4515cd9ce657",
   "metadata": {},
   "outputs": [],
   "source": [
    "sos run xqtl-protocol/code/data_preprocessing/phenotype/gene_annotation.ipynb annotate_coord \\\n",
    "    --cwd ./ \\\n",
    "    --phenoFile ./image_Aging5_gene_list.txt \\\n",
    "    --phenotype-id-column gene_id \\\n",
    "    --molecular-trait-type gene \\\n",
    "    --coordinate-annotation data/resource/references/Homo_sapiens.GRCh38.103.chr.reformatted.collapse_only.gene.ERCC.gtf"
   ]
  },
  {
   "cell_type": "code",
   "execution_count": 26,
   "id": "bd945628-6aef-4e7f-b28c-0a0eea0fe343",
   "metadata": {},
   "outputs": [],
   "source": [
    "annotate_Aging5 = fread('~/image_Aging5_gene_list.gene_list.tsv') |> select(gene_id, gene_name)\n",
    "Aging5_annotated = Aging5 |> inner_join(annotate_Aging5, by=\"gene_id\")"
   ]
  },
  {
   "cell_type": "code",
   "execution_count": 27,
   "id": "16e715fc-52f1-4222-8e5a-04c31257cfd2",
   "metadata": {},
   "outputs": [
    {
     "data": {
      "text/html": [
       "<table class=\"dataframe\">\n",
       "<caption>A data.table: 6 x 6</caption>\n",
       "<thead>\n",
       "\t<tr><th scope=col>#chr</th><th scope=col>start</th><th scope=col>end</th><th scope=col>gene_id</th><th scope=col>source</th><th scope=col>gene_name</th></tr>\n",
       "\t<tr><th scope=col>&lt;chr&gt;</th><th scope=col>&lt;int&gt;</th><th scope=col>&lt;int&gt;</th><th scope=col>&lt;chr&gt;</th><th scope=col>&lt;chr&gt;</th><th scope=col>&lt;chr&gt;</th></tr>\n",
       "</thead>\n",
       "<tbody>\n",
       "\t<tr><td>chr10</td><td>102040000</td><td>104592552</td><td>ENSG00000107954</td><td>TWAS</td><td>NEURL1 </td></tr>\n",
       "\t<tr><td>chr10</td><td>101918293</td><td>104090222</td><td>ENSG00000148842</td><td>TWAS</td><td>CNNM2  </td></tr>\n",
       "\t<tr><td>chr10</td><td>101869469</td><td>103901899</td><td>ENSG00000214435</td><td>TWAS</td><td>AS3MT  </td></tr>\n",
       "\t<tr><td>chr17</td><td> 46320000</td><td> 50760000</td><td>ENSG00000159199</td><td>TWAS</td><td>ATP5MC1</td></tr>\n",
       "\t<tr><td>chr19</td><td> 35640000</td><td> 43520000</td><td>ENSG00000171747</td><td>TWAS</td><td>LGALS4 </td></tr>\n",
       "\t<tr><td>chr19</td><td> 35640000</td><td> 43520000</td><td>ENSG00000182472</td><td>TWAS</td><td>CAPN12 </td></tr>\n",
       "</tbody>\n",
       "</table>\n"
      ],
      "text/latex": [
       "A data.table: 6 x 6\n",
       "\\begin{tabular}{llllll}\n",
       " \\#chr & start & end & gene\\_id & source & gene\\_name\\\\\n",
       " <chr> & <int> & <int> & <chr> & <chr> & <chr>\\\\\n",
       "\\hline\n",
       "\t chr10 & 102040000 & 104592552 & ENSG00000107954 & TWAS & NEURL1 \\\\\n",
       "\t chr10 & 101918293 & 104090222 & ENSG00000148842 & TWAS & CNNM2  \\\\\n",
       "\t chr10 & 101869469 & 103901899 & ENSG00000214435 & TWAS & AS3MT  \\\\\n",
       "\t chr17 &  46320000 &  50760000 & ENSG00000159199 & TWAS & ATP5MC1\\\\\n",
       "\t chr19 &  35640000 &  43520000 & ENSG00000171747 & TWAS & LGALS4 \\\\\n",
       "\t chr19 &  35640000 &  43520000 & ENSG00000182472 & TWAS & CAPN12 \\\\\n",
       "\\end{tabular}\n"
      ],
      "text/markdown": [
       "\n",
       "A data.table: 6 x 6\n",
       "\n",
       "| #chr &lt;chr&gt; | start &lt;int&gt; | end &lt;int&gt; | gene_id &lt;chr&gt; | source &lt;chr&gt; | gene_name &lt;chr&gt; |\n",
       "|---|---|---|---|---|---|\n",
       "| chr10 | 102040000 | 104592552 | ENSG00000107954 | TWAS | NEURL1  |\n",
       "| chr10 | 101918293 | 104090222 | ENSG00000148842 | TWAS | CNNM2   |\n",
       "| chr10 | 101869469 | 103901899 | ENSG00000214435 | TWAS | AS3MT   |\n",
       "| chr17 |  46320000 |  50760000 | ENSG00000159199 | TWAS | ATP5MC1 |\n",
       "| chr19 |  35640000 |  43520000 | ENSG00000171747 | TWAS | LGALS4  |\n",
       "| chr19 |  35640000 |  43520000 | ENSG00000182472 | TWAS | CAPN12  |\n",
       "\n"
      ],
      "text/plain": [
       "  #chr  start     end       gene_id         source gene_name\n",
       "1 chr10 102040000 104592552 ENSG00000107954 TWAS   NEURL1   \n",
       "2 chr10 101918293 104090222 ENSG00000148842 TWAS   CNNM2    \n",
       "3 chr10 101869469 103901899 ENSG00000214435 TWAS   AS3MT    \n",
       "4 chr17  46320000  50760000 ENSG00000159199 TWAS   ATP5MC1  \n",
       "5 chr19  35640000  43520000 ENSG00000171747 TWAS   LGALS4   \n",
       "6 chr19  35640000  43520000 ENSG00000182472 TWAS   CAPN12   "
      ]
     },
     "metadata": {},
     "output_type": "display_data"
    },
    {
     "data": {
      "text/html": [
       "<style>\n",
       ".list-inline {list-style: none; margin:0; padding: 0}\n",
       ".list-inline>li {display: inline-block}\n",
       ".list-inline>li:not(:last-child)::after {content: \"\\00b7\"; padding: 0 .5ex}\n",
       "</style>\n",
       "<ol class=list-inline><li>167</li><li>6</li></ol>\n"
      ],
      "text/latex": [
       "\\begin{enumerate*}\n",
       "\\item 167\n",
       "\\item 6\n",
       "\\end{enumerate*}\n"
      ],
      "text/markdown": [
       "1. 167\n",
       "2. 6\n",
       "\n",
       "\n"
      ],
      "text/plain": [
       "[1] 167   6"
      ]
     },
     "metadata": {},
     "output_type": "display_data"
    }
   ],
   "source": [
    "head(Aging5_annotated)\n",
    "dim(Aging5_annotated)"
   ]
  },
  {
   "cell_type": "code",
   "execution_count": 34,
   "id": "579e487c-774d-43e0-8c14-ab5d537a0086",
   "metadata": {},
   "outputs": [],
   "source": [
    "combined_df <- bind_rows(\n",
    "  image_AD1 = AD1_annotated,\n",
    "  image_AD2 = AD2_annotated,\n",
    "  image_Aging1 = Aging1_annotated,\n",
    "  image_Aging2 = Aging2_annotated,\n",
    "  image_Aging3 = Aging3_annotated,\n",
    "  image_Aging4 = Aging4_annotated,\n",
    "  image_Aging5 = Aging5_annotated,\n",
    "    TL1 = TL1_annotated,\n",
    "  .id = \"event_id\"\n",
    ")"
   ]
  },
  {
   "cell_type": "code",
   "execution_count": 36,
   "id": "cf9a7e45-a6ea-4847-9c54-154fbaf5acbe",
   "metadata": {},
   "outputs": [],
   "source": [
    "fwrite(combined_df, \"~/xqtl-analysis/production/image_QTL/interested_genes/TWAS_QTL/TWAS_QTL_gene_list.tsv\", sep = '\\t')"
   ]
  },
  {
   "cell_type": "code",
   "execution_count": 37,
   "id": "c87210ea-981c-4860-94fd-7eabd4e527f2",
   "metadata": {},
   "outputs": [
    {
     "data": {
      "text/html": [
       "<table class=\"dataframe\">\n",
       "<caption>A data.table: 412 x 2</caption>\n",
       "<thead>\n",
       "\t<tr><th scope=col>gene_name</th><th scope=col>n</th></tr>\n",
       "\t<tr><th scope=col>&lt;chr&gt;</th><th scope=col>&lt;int&gt;</th></tr>\n",
       "</thead>\n",
       "<tbody>\n",
       "\t<tr><td>CENPW     </td><td>6</td></tr>\n",
       "\t<tr><td>AMZ1      </td><td>5</td></tr>\n",
       "\t<tr><td>GNA12     </td><td>5</td></tr>\n",
       "\t<tr><td>PINX1     </td><td>5</td></tr>\n",
       "\t<tr><td>BCL2L1    </td><td>4</td></tr>\n",
       "\t<tr><td>C4B       </td><td>4</td></tr>\n",
       "\t<tr><td>CCDC12    </td><td>4</td></tr>\n",
       "\t<tr><td>GDF5      </td><td>4</td></tr>\n",
       "\t<tr><td>GDPD3     </td><td>4</td></tr>\n",
       "\t<tr><td>H4C13     </td><td>4</td></tr>\n",
       "\t<tr><td>NBEAL2    </td><td>4</td></tr>\n",
       "\t<tr><td>NPIPB7    </td><td>4</td></tr>\n",
       "\t<tr><td>PSMA3     </td><td>4</td></tr>\n",
       "\t<tr><td>SEZ6L2    </td><td>4</td></tr>\n",
       "\t<tr><td>SGF29     </td><td>4</td></tr>\n",
       "\t<tr><td>SH2B1     </td><td>4</td></tr>\n",
       "\t<tr><td>SULT1A1   </td><td>4</td></tr>\n",
       "\t<tr><td>TMEM170B  </td><td>4</td></tr>\n",
       "\t<tr><td>TUFM      </td><td>4</td></tr>\n",
       "\t<tr><td>ZKSCAN4   </td><td>4</td></tr>\n",
       "\t<tr><td>AL021997.2</td><td>3</td></tr>\n",
       "\t<tr><td>ARL3      </td><td>3</td></tr>\n",
       "\t<tr><td>ARMH4     </td><td>3</td></tr>\n",
       "\t<tr><td>ASPHD1    </td><td>3</td></tr>\n",
       "\t<tr><td>ATP2A1    </td><td>3</td></tr>\n",
       "\t<tr><td>ATXN2L    </td><td>3</td></tr>\n",
       "\t<tr><td>C11orf49  </td><td>3</td></tr>\n",
       "\t<tr><td>C4A       </td><td>3</td></tr>\n",
       "\t<tr><td>CBY1      </td><td>3</td></tr>\n",
       "\t<tr><td>CLN3      </td><td>3</td></tr>\n",
       "\t<tr><td>...</td><td>...</td></tr>\n",
       "\t<tr><td>TYMS   </td><td>2</td></tr>\n",
       "\t<tr><td>UBE2Z  </td><td>2</td></tr>\n",
       "\t<tr><td>UBXN4  </td><td>2</td></tr>\n",
       "\t<tr><td>UBXN6  </td><td>2</td></tr>\n",
       "\t<tr><td>UGT2B7 </td><td>2</td></tr>\n",
       "\t<tr><td>UPK1A  </td><td>2</td></tr>\n",
       "\t<tr><td>UPK3B  </td><td>2</td></tr>\n",
       "\t<tr><td>UQCC1  </td><td>2</td></tr>\n",
       "\t<tr><td>USP19  </td><td>2</td></tr>\n",
       "\t<tr><td>VARS2  </td><td>2</td></tr>\n",
       "\t<tr><td>VAT1   </td><td>2</td></tr>\n",
       "\t<tr><td>VIRMA  </td><td>2</td></tr>\n",
       "\t<tr><td>WASHC3 </td><td>2</td></tr>\n",
       "\t<tr><td>WDR12  </td><td>2</td></tr>\n",
       "\t<tr><td>WDR43  </td><td>2</td></tr>\n",
       "\t<tr><td>XPO7   </td><td>2</td></tr>\n",
       "\t<tr><td>XPOT   </td><td>2</td></tr>\n",
       "\t<tr><td>ZIC4   </td><td>2</td></tr>\n",
       "\t<tr><td>ZIM2   </td><td>2</td></tr>\n",
       "\t<tr><td>ZKSCAN8</td><td>2</td></tr>\n",
       "\t<tr><td>ZNF184 </td><td>2</td></tr>\n",
       "\t<tr><td>ZNF304 </td><td>2</td></tr>\n",
       "\t<tr><td>ZNF398 </td><td>2</td></tr>\n",
       "\t<tr><td>ZNF596 </td><td>2</td></tr>\n",
       "\t<tr><td>ZNF676 </td><td>2</td></tr>\n",
       "\t<tr><td>ZNF749 </td><td>2</td></tr>\n",
       "\t<tr><td>ZNF786 </td><td>2</td></tr>\n",
       "\t<tr><td>ZNRF1  </td><td>2</td></tr>\n",
       "\t<tr><td>ZP3    </td><td>2</td></tr>\n",
       "\t<tr><td>ZSCAN23</td><td>2</td></tr>\n",
       "</tbody>\n",
       "</table>\n"
      ],
      "text/latex": [
       "A data.table: 412 x 2\n",
       "\\begin{tabular}{ll}\n",
       " gene\\_name & n\\\\\n",
       " <chr> & <int>\\\\\n",
       "\\hline\n",
       "\t CENPW      & 6\\\\\n",
       "\t AMZ1       & 5\\\\\n",
       "\t GNA12      & 5\\\\\n",
       "\t PINX1      & 5\\\\\n",
       "\t BCL2L1     & 4\\\\\n",
       "\t C4B        & 4\\\\\n",
       "\t CCDC12     & 4\\\\\n",
       "\t GDF5       & 4\\\\\n",
       "\t GDPD3      & 4\\\\\n",
       "\t H4C13      & 4\\\\\n",
       "\t NBEAL2     & 4\\\\\n",
       "\t NPIPB7     & 4\\\\\n",
       "\t PSMA3      & 4\\\\\n",
       "\t SEZ6L2     & 4\\\\\n",
       "\t SGF29      & 4\\\\\n",
       "\t SH2B1      & 4\\\\\n",
       "\t SULT1A1    & 4\\\\\n",
       "\t TMEM170B   & 4\\\\\n",
       "\t TUFM       & 4\\\\\n",
       "\t ZKSCAN4    & 4\\\\\n",
       "\t AL021997.2 & 3\\\\\n",
       "\t ARL3       & 3\\\\\n",
       "\t ARMH4      & 3\\\\\n",
       "\t ASPHD1     & 3\\\\\n",
       "\t ATP2A1     & 3\\\\\n",
       "\t ATXN2L     & 3\\\\\n",
       "\t C11orf49   & 3\\\\\n",
       "\t C4A        & 3\\\\\n",
       "\t CBY1       & 3\\\\\n",
       "\t CLN3       & 3\\\\\n",
       "\t ... & ...\\\\\n",
       "\t TYMS    & 2\\\\\n",
       "\t UBE2Z   & 2\\\\\n",
       "\t UBXN4   & 2\\\\\n",
       "\t UBXN6   & 2\\\\\n",
       "\t UGT2B7  & 2\\\\\n",
       "\t UPK1A   & 2\\\\\n",
       "\t UPK3B   & 2\\\\\n",
       "\t UQCC1   & 2\\\\\n",
       "\t USP19   & 2\\\\\n",
       "\t VARS2   & 2\\\\\n",
       "\t VAT1    & 2\\\\\n",
       "\t VIRMA   & 2\\\\\n",
       "\t WASHC3  & 2\\\\\n",
       "\t WDR12   & 2\\\\\n",
       "\t WDR43   & 2\\\\\n",
       "\t XPO7    & 2\\\\\n",
       "\t XPOT    & 2\\\\\n",
       "\t ZIC4    & 2\\\\\n",
       "\t ZIM2    & 2\\\\\n",
       "\t ZKSCAN8 & 2\\\\\n",
       "\t ZNF184  & 2\\\\\n",
       "\t ZNF304  & 2\\\\\n",
       "\t ZNF398  & 2\\\\\n",
       "\t ZNF596  & 2\\\\\n",
       "\t ZNF676  & 2\\\\\n",
       "\t ZNF749  & 2\\\\\n",
       "\t ZNF786  & 2\\\\\n",
       "\t ZNRF1   & 2\\\\\n",
       "\t ZP3     & 2\\\\\n",
       "\t ZSCAN23 & 2\\\\\n",
       "\\end{tabular}\n"
      ],
      "text/markdown": [
       "\n",
       "A data.table: 412 x 2\n",
       "\n",
       "| gene_name &lt;chr&gt; | n &lt;int&gt; |\n",
       "|---|---|\n",
       "| CENPW      | 6 |\n",
       "| AMZ1       | 5 |\n",
       "| GNA12      | 5 |\n",
       "| PINX1      | 5 |\n",
       "| BCL2L1     | 4 |\n",
       "| C4B        | 4 |\n",
       "| CCDC12     | 4 |\n",
       "| GDF5       | 4 |\n",
       "| GDPD3      | 4 |\n",
       "| H4C13      | 4 |\n",
       "| NBEAL2     | 4 |\n",
       "| NPIPB7     | 4 |\n",
       "| PSMA3      | 4 |\n",
       "| SEZ6L2     | 4 |\n",
       "| SGF29      | 4 |\n",
       "| SH2B1      | 4 |\n",
       "| SULT1A1    | 4 |\n",
       "| TMEM170B   | 4 |\n",
       "| TUFM       | 4 |\n",
       "| ZKSCAN4    | 4 |\n",
       "| AL021997.2 | 3 |\n",
       "| ARL3       | 3 |\n",
       "| ARMH4      | 3 |\n",
       "| ASPHD1     | 3 |\n",
       "| ATP2A1     | 3 |\n",
       "| ATXN2L     | 3 |\n",
       "| C11orf49   | 3 |\n",
       "| C4A        | 3 |\n",
       "| CBY1       | 3 |\n",
       "| CLN3       | 3 |\n",
       "| ... | ... |\n",
       "| TYMS    | 2 |\n",
       "| UBE2Z   | 2 |\n",
       "| UBXN4   | 2 |\n",
       "| UBXN6   | 2 |\n",
       "| UGT2B7  | 2 |\n",
       "| UPK1A   | 2 |\n",
       "| UPK3B   | 2 |\n",
       "| UQCC1   | 2 |\n",
       "| USP19   | 2 |\n",
       "| VARS2   | 2 |\n",
       "| VAT1    | 2 |\n",
       "| VIRMA   | 2 |\n",
       "| WASHC3  | 2 |\n",
       "| WDR12   | 2 |\n",
       "| WDR43   | 2 |\n",
       "| XPO7    | 2 |\n",
       "| XPOT    | 2 |\n",
       "| ZIC4    | 2 |\n",
       "| ZIM2    | 2 |\n",
       "| ZKSCAN8 | 2 |\n",
       "| ZNF184  | 2 |\n",
       "| ZNF304  | 2 |\n",
       "| ZNF398  | 2 |\n",
       "| ZNF596  | 2 |\n",
       "| ZNF676  | 2 |\n",
       "| ZNF749  | 2 |\n",
       "| ZNF786  | 2 |\n",
       "| ZNRF1   | 2 |\n",
       "| ZP3     | 2 |\n",
       "| ZSCAN23 | 2 |\n",
       "\n"
      ],
      "text/plain": [
       "    gene_name  n  \n",
       "1   CENPW      6  \n",
       "2   AMZ1       5  \n",
       "3   GNA12      5  \n",
       "4   PINX1      5  \n",
       "5   BCL2L1     4  \n",
       "6   C4B        4  \n",
       "7   CCDC12     4  \n",
       "8   GDF5       4  \n",
       "9   GDPD3      4  \n",
       "10  H4C13      4  \n",
       "11  NBEAL2     4  \n",
       "12  NPIPB7     4  \n",
       "13  PSMA3      4  \n",
       "14  SEZ6L2     4  \n",
       "15  SGF29      4  \n",
       "16  SH2B1      4  \n",
       "17  SULT1A1    4  \n",
       "18  TMEM170B   4  \n",
       "19  TUFM       4  \n",
       "20  ZKSCAN4    4  \n",
       "21  AL021997.2 3  \n",
       "22  ARL3       3  \n",
       "23  ARMH4      3  \n",
       "24  ASPHD1     3  \n",
       "25  ATP2A1     3  \n",
       "26  ATXN2L     3  \n",
       "27  C11orf49   3  \n",
       "28  C4A        3  \n",
       "29  CBY1       3  \n",
       "30  CLN3       3  \n",
       "... ...        ...\n",
       "383 TYMS       2  \n",
       "384 UBE2Z      2  \n",
       "385 UBXN4      2  \n",
       "386 UBXN6      2  \n",
       "387 UGT2B7     2  \n",
       "388 UPK1A      2  \n",
       "389 UPK3B      2  \n",
       "390 UQCC1      2  \n",
       "391 USP19      2  \n",
       "392 VARS2      2  \n",
       "393 VAT1       2  \n",
       "394 VIRMA      2  \n",
       "395 WASHC3     2  \n",
       "396 WDR12      2  \n",
       "397 WDR43      2  \n",
       "398 XPO7       2  \n",
       "399 XPOT       2  \n",
       "400 ZIC4       2  \n",
       "401 ZIM2       2  \n",
       "402 ZKSCAN8    2  \n",
       "403 ZNF184     2  \n",
       "404 ZNF304     2  \n",
       "405 ZNF398     2  \n",
       "406 ZNF596     2  \n",
       "407 ZNF676     2  \n",
       "408 ZNF749     2  \n",
       "409 ZNF786     2  \n",
       "410 ZNRF1      2  \n",
       "411 ZP3        2  \n",
       "412 ZSCAN23    2  "
      ]
     },
     "metadata": {},
     "output_type": "display_data"
    }
   ],
   "source": [
    "combined_df |> count(gene_name) |> filter(n>1) |> arrange(desc(n))"
   ]
  },
  {
   "cell_type": "markdown",
   "id": "d313fdb5-42dd-4732-93dc-483a6fcbefaa",
   "metadata": {},
   "source": [
    "# gene_overlap"
   ]
  },
  {
   "cell_type": "code",
   "execution_count": 62,
   "id": "a20416b7-e8bf-4fd7-a8c6-58ab033c6f0a",
   "metadata": {},
   "outputs": [],
   "source": [
    "all = fread(\"~/xqtl-analysis/production/image_QTL/interested_genes/TWAS_QTL/TWAS_QTL_gene_list.tsv\")\n",
    "AD1 = all |> filter(str_detect(event_id,\"image_AD1\"))\n",
    "AD2 = all |> filter(str_detect(event_id,\"image_AD2\"))\n",
    "Aging1 = all |> filter(str_detect(event_id,\"image_Aging1\"))\n",
    "Aging2 = all |> filter(str_detect(event_id,\"image_Aging2\"))\n",
    "Aging3 = all |> filter(str_detect(event_id,\"image_Aging3\"))\n",
    "Aging4 = all |> filter(str_detect(event_id,\"image_Aging4\"))\n",
    "Aging5 = all |> filter(str_detect(event_id,\"image_Aging5\"))\n",
    "TL1 = all |> filter(str_detect(event_id,\"TL1\"))\n"
   ]
  },
  {
   "cell_type": "code",
   "execution_count": 63,
   "id": "1aaddc68-2536-4b4a-9c6e-10cdb8ea1a50",
   "metadata": {},
   "outputs": [
    {
     "data": {
      "text/html": [
       "<table class=\"dataframe\">\n",
       "<caption>A data.table: 3 x 7</caption>\n",
       "<thead>\n",
       "\t<tr><th scope=col>#chr</th><th scope=col>start</th><th scope=col>end</th><th scope=col>gene_id</th><th scope=col>source</th><th scope=col>gene_name</th><th scope=col>event_id</th></tr>\n",
       "\t<tr><th scope=col>&lt;chr&gt;</th><th scope=col>&lt;int&gt;</th><th scope=col>&lt;int&gt;</th><th scope=col>&lt;chr&gt;</th><th scope=col>&lt;chr&gt;</th><th scope=col>&lt;chr&gt;</th><th scope=col>&lt;chr&gt;</th></tr>\n",
       "</thead>\n",
       "<tbody>\n",
       "\t<tr><td>chr3</td><td>44920000</td><td>50320000</td><td>ENSG00000160796</td><td>TWAS</td><td>NBEAL2</td><td>image_AD1   </td></tr>\n",
       "\t<tr><td>chr3</td><td>46979665</td><td>47009703</td><td>ENSG00000160796</td><td>QTL </td><td>NBEAL2</td><td>image_AD1   </td></tr>\n",
       "\t<tr><td>chr3</td><td>46979665</td><td>47009703</td><td>ENSG00000160796</td><td>QTL </td><td>NBEAL2</td><td>image_Aging5</td></tr>\n",
       "</tbody>\n",
       "</table>\n"
      ],
      "text/latex": [
       "A data.table: 3 x 7\n",
       "\\begin{tabular}{lllllll}\n",
       " \\#chr & start & end & gene\\_id & source & gene\\_name & event\\_id\\\\\n",
       " <chr> & <int> & <int> & <chr> & <chr> & <chr> & <chr>\\\\\n",
       "\\hline\n",
       "\t chr3 & 44920000 & 50320000 & ENSG00000160796 & TWAS & NBEAL2 & image\\_AD1   \\\\\n",
       "\t chr3 & 46979665 & 47009703 & ENSG00000160796 & QTL  & NBEAL2 & image\\_AD1   \\\\\n",
       "\t chr3 & 46979665 & 47009703 & ENSG00000160796 & QTL  & NBEAL2 & image\\_Aging5\\\\\n",
       "\\end{tabular}\n"
      ],
      "text/markdown": [
       "\n",
       "A data.table: 3 x 7\n",
       "\n",
       "| #chr &lt;chr&gt; | start &lt;int&gt; | end &lt;int&gt; | gene_id &lt;chr&gt; | source &lt;chr&gt; | gene_name &lt;chr&gt; | event_id &lt;chr&gt; |\n",
       "|---|---|---|---|---|---|---|\n",
       "| chr3 | 44920000 | 50320000 | ENSG00000160796 | TWAS | NBEAL2 | image_AD1    |\n",
       "| chr3 | 46979665 | 47009703 | ENSG00000160796 | QTL  | NBEAL2 | image_AD1    |\n",
       "| chr3 | 46979665 | 47009703 | ENSG00000160796 | QTL  | NBEAL2 | image_Aging5 |\n",
       "\n"
      ],
      "text/plain": [
       "  #chr start    end      gene_id         source gene_name event_id    \n",
       "1 chr3 44920000 50320000 ENSG00000160796 TWAS   NBEAL2    image_AD1   \n",
       "2 chr3 46979665 47009703 ENSG00000160796 QTL    NBEAL2    image_AD1   \n",
       "3 chr3 46979665 47009703 ENSG00000160796 QTL    NBEAL2    image_Aging5"
      ]
     },
     "metadata": {},
     "output_type": "display_data"
    }
   ],
   "source": [
    "all |> filter(gene_name == \"NBEAL2\")"
   ]
  },
  {
   "cell_type": "code",
   "execution_count": 64,
   "id": "0aa7424f-e09f-465a-94de-72460b53311c",
   "metadata": {},
   "outputs": [],
   "source": [
    "Aging1_gene = Aging1$gene_name |> unique()\n",
    "\n",
    "Aging2_gene = Aging2$gene_name|> unique()\n",
    "\n",
    "Aging3_gene = Aging3$gene_name|> unique()\n",
    "\n",
    "Aging4_gene = Aging4$gene_name|> unique()\n",
    "\n",
    "Aging5_gene = Aging5$gene_name|> unique()\n",
    "\n",
    "TL1_gene = TL1$gene_name|> unique()\n",
    "\n",
    "AD1_gene = AD1$gene_name|> unique()\n",
    "AD2_gene = AD2$gene_name|> unique()\n"
   ]
  },
  {
   "cell_type": "code",
   "execution_count": 65,
   "id": "347730a2-de24-4d2a-93c3-1cdf286d5b3c",
   "metadata": {},
   "outputs": [
    {
     "data": {
      "text/html": [
       "<style>\n",
       ".list-inline {list-style: none; margin:0; padding: 0}\n",
       ".list-inline>li {display: inline-block}\n",
       ".list-inline>li:not(:last-child)::after {content: \"\\00b7\"; padding: 0 .5ex}\n",
       "</style>\n",
       "<ol class=list-inline><li>'YY1'</li><li>'GDF5'</li><li>'SCAP'</li><li>'MTMR9'</li><li>'ARL3'</li><li>'TRIM8'</li><li>'KLHL18'</li><li>'NBEAL2'</li><li>'KIF9'</li><li>'KLHDC8B'</li><li>'SUFU'</li><li>'PDCD11'</li><li>'ARID4A'</li><li>'PSMA3'</li><li>'JKAMP'</li><li>'DAAM1'</li><li>'PDE8A'</li><li>'LGALS1'</li><li>'CCDC12'</li><li>'SETD2'</li><li>'PTPN23'</li><li>'DHX30'</li><li>'PLXNB1'</li><li>'IMPDH2'</li><li>'CAMKV'</li><li>'MON1A'</li><li>'USP19'</li><li>'LSMEM2'</li><li>'XKR6'</li><li>'ENPP2'</li><li>'CCN3'</li><li>'MSRA'</li><li>'MFSD13A'</li><li>'PI4KA'</li><li>'ELP6'</li><li>'MAP4'</li><li>'SMARCC1'</li><li>'PINX1'</li><li>'CTSB'</li><li>'ERI1'</li><li>'MFHAS1'</li><li>'ARMH4'</li><li>'KIAA0586'</li><li>'ARL4C'</li><li>'CSPG5'</li><li>'UGT2B7'</li><li>'KIF13A'</li><li>'AMZ1'</li><li>'GNA12'</li><li>'EGFR'</li><li>'SBSPON'</li><li>'THNSL1'</li><li>'ACTR1A'</li><li>'KDM2B'</li><li>'UQCC1'</li><li>'EEF2'</li><li>'PIAS4'</li><li>'SERPIND1'</li><li>'SNAP29'</li><li>'ADORA2A'</li></ol>\n"
      ],
      "text/latex": [
       "\\begin{enumerate*}\n",
       "\\item 'YY1'\n",
       "\\item 'GDF5'\n",
       "\\item 'SCAP'\n",
       "\\item 'MTMR9'\n",
       "\\item 'ARL3'\n",
       "\\item 'TRIM8'\n",
       "\\item 'KLHL18'\n",
       "\\item 'NBEAL2'\n",
       "\\item 'KIF9'\n",
       "\\item 'KLHDC8B'\n",
       "\\item 'SUFU'\n",
       "\\item 'PDCD11'\n",
       "\\item 'ARID4A'\n",
       "\\item 'PSMA3'\n",
       "\\item 'JKAMP'\n",
       "\\item 'DAAM1'\n",
       "\\item 'PDE8A'\n",
       "\\item 'LGALS1'\n",
       "\\item 'CCDC12'\n",
       "\\item 'SETD2'\n",
       "\\item 'PTPN23'\n",
       "\\item 'DHX30'\n",
       "\\item 'PLXNB1'\n",
       "\\item 'IMPDH2'\n",
       "\\item 'CAMKV'\n",
       "\\item 'MON1A'\n",
       "\\item 'USP19'\n",
       "\\item 'LSMEM2'\n",
       "\\item 'XKR6'\n",
       "\\item 'ENPP2'\n",
       "\\item 'CCN3'\n",
       "\\item 'MSRA'\n",
       "\\item 'MFSD13A'\n",
       "\\item 'PI4KA'\n",
       "\\item 'ELP6'\n",
       "\\item 'MAP4'\n",
       "\\item 'SMARCC1'\n",
       "\\item 'PINX1'\n",
       "\\item 'CTSB'\n",
       "\\item 'ERI1'\n",
       "\\item 'MFHAS1'\n",
       "\\item 'ARMH4'\n",
       "\\item 'KIAA0586'\n",
       "\\item 'ARL4C'\n",
       "\\item 'CSPG5'\n",
       "\\item 'UGT2B7'\n",
       "\\item 'KIF13A'\n",
       "\\item 'AMZ1'\n",
       "\\item 'GNA12'\n",
       "\\item 'EGFR'\n",
       "\\item 'SBSPON'\n",
       "\\item 'THNSL1'\n",
       "\\item 'ACTR1A'\n",
       "\\item 'KDM2B'\n",
       "\\item 'UQCC1'\n",
       "\\item 'EEF2'\n",
       "\\item 'PIAS4'\n",
       "\\item 'SERPIND1'\n",
       "\\item 'SNAP29'\n",
       "\\item 'ADORA2A'\n",
       "\\end{enumerate*}\n"
      ],
      "text/markdown": [
       "1. 'YY1'\n",
       "2. 'GDF5'\n",
       "3. 'SCAP'\n",
       "4. 'MTMR9'\n",
       "5. 'ARL3'\n",
       "6. 'TRIM8'\n",
       "7. 'KLHL18'\n",
       "8. 'NBEAL2'\n",
       "9. 'KIF9'\n",
       "10. 'KLHDC8B'\n",
       "11. 'SUFU'\n",
       "12. 'PDCD11'\n",
       "13. 'ARID4A'\n",
       "14. 'PSMA3'\n",
       "15. 'JKAMP'\n",
       "16. 'DAAM1'\n",
       "17. 'PDE8A'\n",
       "18. 'LGALS1'\n",
       "19. 'CCDC12'\n",
       "20. 'SETD2'\n",
       "21. 'PTPN23'\n",
       "22. 'DHX30'\n",
       "23. 'PLXNB1'\n",
       "24. 'IMPDH2'\n",
       "25. 'CAMKV'\n",
       "26. 'MON1A'\n",
       "27. 'USP19'\n",
       "28. 'LSMEM2'\n",
       "29. 'XKR6'\n",
       "30. 'ENPP2'\n",
       "31. 'CCN3'\n",
       "32. 'MSRA'\n",
       "33. 'MFSD13A'\n",
       "34. 'PI4KA'\n",
       "35. 'ELP6'\n",
       "36. 'MAP4'\n",
       "37. 'SMARCC1'\n",
       "38. 'PINX1'\n",
       "39. 'CTSB'\n",
       "40. 'ERI1'\n",
       "41. 'MFHAS1'\n",
       "42. 'ARMH4'\n",
       "43. 'KIAA0586'\n",
       "44. 'ARL4C'\n",
       "45. 'CSPG5'\n",
       "46. 'UGT2B7'\n",
       "47. 'KIF13A'\n",
       "48. 'AMZ1'\n",
       "49. 'GNA12'\n",
       "50. 'EGFR'\n",
       "51. 'SBSPON'\n",
       "52. 'THNSL1'\n",
       "53. 'ACTR1A'\n",
       "54. 'KDM2B'\n",
       "55. 'UQCC1'\n",
       "56. 'EEF2'\n",
       "57. 'PIAS4'\n",
       "58. 'SERPIND1'\n",
       "59. 'SNAP29'\n",
       "60. 'ADORA2A'\n",
       "\n",
       "\n"
      ],
      "text/plain": [
       " [1] \"YY1\"      \"GDF5\"     \"SCAP\"     \"MTMR9\"    \"ARL3\"     \"TRIM8\"   \n",
       " [7] \"KLHL18\"   \"NBEAL2\"   \"KIF9\"     \"KLHDC8B\"  \"SUFU\"     \"PDCD11\"  \n",
       "[13] \"ARID4A\"   \"PSMA3\"    \"JKAMP\"    \"DAAM1\"    \"PDE8A\"    \"LGALS1\"  \n",
       "[19] \"CCDC12\"   \"SETD2\"    \"PTPN23\"   \"DHX30\"    \"PLXNB1\"   \"IMPDH2\"  \n",
       "[25] \"CAMKV\"    \"MON1A\"    \"USP19\"    \"LSMEM2\"   \"XKR6\"     \"ENPP2\"   \n",
       "[31] \"CCN3\"     \"MSRA\"     \"MFSD13A\"  \"PI4KA\"    \"ELP6\"     \"MAP4\"    \n",
       "[37] \"SMARCC1\"  \"PINX1\"    \"CTSB\"     \"ERI1\"     \"MFHAS1\"   \"ARMH4\"   \n",
       "[43] \"KIAA0586\" \"ARL4C\"    \"CSPG5\"    \"UGT2B7\"   \"KIF13A\"   \"AMZ1\"    \n",
       "[49] \"GNA12\"    \"EGFR\"     \"SBSPON\"   \"THNSL1\"   \"ACTR1A\"   \"KDM2B\"   \n",
       "[55] \"UQCC1\"    \"EEF2\"     \"PIAS4\"    \"SERPIND1\" \"SNAP29\"   \"ADORA2A\" "
      ]
     },
     "metadata": {},
     "output_type": "display_data"
    }
   ],
   "source": [
    "AD1_gene"
   ]
  },
  {
   "cell_type": "code",
   "execution_count": 66,
   "id": "8eb14fa1-872d-4b00-9b97-70b06ced86c1",
   "metadata": {},
   "outputs": [
    {
     "data": {
      "text/html": [
       "<style>\n",
       ".list-inline {list-style: none; margin:0; padding: 0}\n",
       ".list-inline>li {display: inline-block}\n",
       ".list-inline>li:not(:last-child)::after {content: \"\\00b7\"; padding: 0 .5ex}\n",
       "</style>\n",
       "<ol class=list-inline><li>'RASSF3'</li><li>'LEMD3'</li><li>'XPOT'</li><li>'GDF5'</li><li>'ECEL1'</li><li>'AL021997.2'</li><li>'ZNF311'</li><li>'MDK'</li><li>'TESC'</li><li>'FBXW8'</li><li>'PAN2'</li><li>'TBK1'</li><li>'NPIPB13'</li><li>'CNTD1'</li><li>'VAT1'</li><li>'ARL4D'</li><li>'RUNDC3A'</li><li>'G6PC3'</li><li>'MAP3K14'</li><li>'KANSL1'</li><li>'ARL17A'</li><li>'STH'</li><li>'TCEA3'</li><li>'PHF20'</li><li>'ERGIC3'</li><li>'CDC25C'</li><li>'H2AC4'</li><li>'CSNK2B'</li><li>'LY6G6C'</li><li>'C4B'</li><li>'NKAPD1'</li><li>'C11orf49'</li><li>'RNFT2'</li><li>'RETREG3'</li><li>'AARSD1'</li><li>'BRCA1'</li><li>'DUSP3'</li><li>'CCDC200'</li><li>'FAM171A2'</li><li>'C1QL1'</li><li>'NMT1'</li><li>'HEXIM1'</li><li>'LRRC37A'</li><li>'LRRC37A2'</li><li>'NSF'</li><li>'MAEL'</li><li>'ASAP3'</li><li>'NFS1'</li><li>'ZNF142'</li><li>'CNOT9'</li><li>'SPEG'</li><li>'SPTBN1'</li><li>'CYFIP2'</li><li>'MAST4'</li><li>'TMEM170B'</li><li>'TRMT11'</li><li>'H4C13'</li><li>'ZKSCAN4'</li><li>'ZKSCAN3'</li><li>'MSH5'</li><li>'FBXO21'</li><li>'MSRB3'</li><li>'TUBG2'</li><li>'HDAC5'</li><li>'PLEKHM1'</li><li>'FAF1'</li><li>'PLCD4'</li><li>'NACAD'</li><li>'PINX1'</li><li>'SEMA4D'</li><li>'ZNF322'</li><li>'ERO1B'</li><li>'DIS3L2'</li><li>'AP3B1'</li><li>'VCAN'</li><li>'CYSTM1'</li><li>'TNIP1'</li><li>'H2AC11'</li><li>'FILIP1'</li><li>'CCM2'</li><li>'TBRG4'</li><li>'DGKZ'</li><li>'ATG13'</li><li>'CKAP5'</li><li>'LRP4'</li><li>'PACSIN3'</li><li>'NR1H3'</li><li>'ZDHHC5'</li><li>'AP001931.2'</li><li>'TMX2'</li><li>'CTNND1'</li><li>'DPCD'</li><li>'NABP2'</li><li>'ANKRD52'</li><li>'COQ10A'</li><li>'CS'</li><li>'CNPY2'</li><li>'IL23A'</li><li>'STAT2'</li><li>'SOHLH2'</li><li>'CCDC169-SOHLH2'</li><li>'CCDC169'</li><li>'SPART'</li><li>'CCDC57'</li><li>'UQCC1'</li></ol>\n"
      ],
      "text/latex": [
       "\\begin{enumerate*}\n",
       "\\item 'RASSF3'\n",
       "\\item 'LEMD3'\n",
       "\\item 'XPOT'\n",
       "\\item 'GDF5'\n",
       "\\item 'ECEL1'\n",
       "\\item 'AL021997.2'\n",
       "\\item 'ZNF311'\n",
       "\\item 'MDK'\n",
       "\\item 'TESC'\n",
       "\\item 'FBXW8'\n",
       "\\item 'PAN2'\n",
       "\\item 'TBK1'\n",
       "\\item 'NPIPB13'\n",
       "\\item 'CNTD1'\n",
       "\\item 'VAT1'\n",
       "\\item 'ARL4D'\n",
       "\\item 'RUNDC3A'\n",
       "\\item 'G6PC3'\n",
       "\\item 'MAP3K14'\n",
       "\\item 'KANSL1'\n",
       "\\item 'ARL17A'\n",
       "\\item 'STH'\n",
       "\\item 'TCEA3'\n",
       "\\item 'PHF20'\n",
       "\\item 'ERGIC3'\n",
       "\\item 'CDC25C'\n",
       "\\item 'H2AC4'\n",
       "\\item 'CSNK2B'\n",
       "\\item 'LY6G6C'\n",
       "\\item 'C4B'\n",
       "\\item 'NKAPD1'\n",
       "\\item 'C11orf49'\n",
       "\\item 'RNFT2'\n",
       "\\item 'RETREG3'\n",
       "\\item 'AARSD1'\n",
       "\\item 'BRCA1'\n",
       "\\item 'DUSP3'\n",
       "\\item 'CCDC200'\n",
       "\\item 'FAM171A2'\n",
       "\\item 'C1QL1'\n",
       "\\item 'NMT1'\n",
       "\\item 'HEXIM1'\n",
       "\\item 'LRRC37A'\n",
       "\\item 'LRRC37A2'\n",
       "\\item 'NSF'\n",
       "\\item 'MAEL'\n",
       "\\item 'ASAP3'\n",
       "\\item 'NFS1'\n",
       "\\item 'ZNF142'\n",
       "\\item 'CNOT9'\n",
       "\\item 'SPEG'\n",
       "\\item 'SPTBN1'\n",
       "\\item 'CYFIP2'\n",
       "\\item 'MAST4'\n",
       "\\item 'TMEM170B'\n",
       "\\item 'TRMT11'\n",
       "\\item 'H4C13'\n",
       "\\item 'ZKSCAN4'\n",
       "\\item 'ZKSCAN3'\n",
       "\\item 'MSH5'\n",
       "\\item 'FBXO21'\n",
       "\\item 'MSRB3'\n",
       "\\item 'TUBG2'\n",
       "\\item 'HDAC5'\n",
       "\\item 'PLEKHM1'\n",
       "\\item 'FAF1'\n",
       "\\item 'PLCD4'\n",
       "\\item 'NACAD'\n",
       "\\item 'PINX1'\n",
       "\\item 'SEMA4D'\n",
       "\\item 'ZNF322'\n",
       "\\item 'ERO1B'\n",
       "\\item 'DIS3L2'\n",
       "\\item 'AP3B1'\n",
       "\\item 'VCAN'\n",
       "\\item 'CYSTM1'\n",
       "\\item 'TNIP1'\n",
       "\\item 'H2AC11'\n",
       "\\item 'FILIP1'\n",
       "\\item 'CCM2'\n",
       "\\item 'TBRG4'\n",
       "\\item 'DGKZ'\n",
       "\\item 'ATG13'\n",
       "\\item 'CKAP5'\n",
       "\\item 'LRP4'\n",
       "\\item 'PACSIN3'\n",
       "\\item 'NR1H3'\n",
       "\\item 'ZDHHC5'\n",
       "\\item 'AP001931.2'\n",
       "\\item 'TMX2'\n",
       "\\item 'CTNND1'\n",
       "\\item 'DPCD'\n",
       "\\item 'NABP2'\n",
       "\\item 'ANKRD52'\n",
       "\\item 'COQ10A'\n",
       "\\item 'CS'\n",
       "\\item 'CNPY2'\n",
       "\\item 'IL23A'\n",
       "\\item 'STAT2'\n",
       "\\item 'SOHLH2'\n",
       "\\item 'CCDC169-SOHLH2'\n",
       "\\item 'CCDC169'\n",
       "\\item 'SPART'\n",
       "\\item 'CCDC57'\n",
       "\\item 'UQCC1'\n",
       "\\end{enumerate*}\n"
      ],
      "text/markdown": [
       "1. 'RASSF3'\n",
       "2. 'LEMD3'\n",
       "3. 'XPOT'\n",
       "4. 'GDF5'\n",
       "5. 'ECEL1'\n",
       "6. 'AL021997.2'\n",
       "7. 'ZNF311'\n",
       "8. 'MDK'\n",
       "9. 'TESC'\n",
       "10. 'FBXW8'\n",
       "11. 'PAN2'\n",
       "12. 'TBK1'\n",
       "13. 'NPIPB13'\n",
       "14. 'CNTD1'\n",
       "15. 'VAT1'\n",
       "16. 'ARL4D'\n",
       "17. 'RUNDC3A'\n",
       "18. 'G6PC3'\n",
       "19. 'MAP3K14'\n",
       "20. 'KANSL1'\n",
       "21. 'ARL17A'\n",
       "22. 'STH'\n",
       "23. 'TCEA3'\n",
       "24. 'PHF20'\n",
       "25. 'ERGIC3'\n",
       "26. 'CDC25C'\n",
       "27. 'H2AC4'\n",
       "28. 'CSNK2B'\n",
       "29. 'LY6G6C'\n",
       "30. 'C4B'\n",
       "31. 'NKAPD1'\n",
       "32. 'C11orf49'\n",
       "33. 'RNFT2'\n",
       "34. 'RETREG3'\n",
       "35. 'AARSD1'\n",
       "36. 'BRCA1'\n",
       "37. 'DUSP3'\n",
       "38. 'CCDC200'\n",
       "39. 'FAM171A2'\n",
       "40. 'C1QL1'\n",
       "41. 'NMT1'\n",
       "42. 'HEXIM1'\n",
       "43. 'LRRC37A'\n",
       "44. 'LRRC37A2'\n",
       "45. 'NSF'\n",
       "46. 'MAEL'\n",
       "47. 'ASAP3'\n",
       "48. 'NFS1'\n",
       "49. 'ZNF142'\n",
       "50. 'CNOT9'\n",
       "51. 'SPEG'\n",
       "52. 'SPTBN1'\n",
       "53. 'CYFIP2'\n",
       "54. 'MAST4'\n",
       "55. 'TMEM170B'\n",
       "56. 'TRMT11'\n",
       "57. 'H4C13'\n",
       "58. 'ZKSCAN4'\n",
       "59. 'ZKSCAN3'\n",
       "60. 'MSH5'\n",
       "61. 'FBXO21'\n",
       "62. 'MSRB3'\n",
       "63. 'TUBG2'\n",
       "64. 'HDAC5'\n",
       "65. 'PLEKHM1'\n",
       "66. 'FAF1'\n",
       "67. 'PLCD4'\n",
       "68. 'NACAD'\n",
       "69. 'PINX1'\n",
       "70. 'SEMA4D'\n",
       "71. 'ZNF322'\n",
       "72. 'ERO1B'\n",
       "73. 'DIS3L2'\n",
       "74. 'AP3B1'\n",
       "75. 'VCAN'\n",
       "76. 'CYSTM1'\n",
       "77. 'TNIP1'\n",
       "78. 'H2AC11'\n",
       "79. 'FILIP1'\n",
       "80. 'CCM2'\n",
       "81. 'TBRG4'\n",
       "82. 'DGKZ'\n",
       "83. 'ATG13'\n",
       "84. 'CKAP5'\n",
       "85. 'LRP4'\n",
       "86. 'PACSIN3'\n",
       "87. 'NR1H3'\n",
       "88. 'ZDHHC5'\n",
       "89. 'AP001931.2'\n",
       "90. 'TMX2'\n",
       "91. 'CTNND1'\n",
       "92. 'DPCD'\n",
       "93. 'NABP2'\n",
       "94. 'ANKRD52'\n",
       "95. 'COQ10A'\n",
       "96. 'CS'\n",
       "97. 'CNPY2'\n",
       "98. 'IL23A'\n",
       "99. 'STAT2'\n",
       "100. 'SOHLH2'\n",
       "101. 'CCDC169-SOHLH2'\n",
       "102. 'CCDC169'\n",
       "103. 'SPART'\n",
       "104. 'CCDC57'\n",
       "105. 'UQCC1'\n",
       "\n",
       "\n"
      ],
      "text/plain": [
       "  [1] \"RASSF3\"         \"LEMD3\"          \"XPOT\"           \"GDF5\"          \n",
       "  [5] \"ECEL1\"          \"AL021997.2\"     \"ZNF311\"         \"MDK\"           \n",
       "  [9] \"TESC\"           \"FBXW8\"          \"PAN2\"           \"TBK1\"          \n",
       " [13] \"NPIPB13\"        \"CNTD1\"          \"VAT1\"           \"ARL4D\"         \n",
       " [17] \"RUNDC3A\"        \"G6PC3\"          \"MAP3K14\"        \"KANSL1\"        \n",
       " [21] \"ARL17A\"         \"STH\"            \"TCEA3\"          \"PHF20\"         \n",
       " [25] \"ERGIC3\"         \"CDC25C\"         \"H2AC4\"          \"CSNK2B\"        \n",
       " [29] \"LY6G6C\"         \"C4B\"            \"NKAPD1\"         \"C11orf49\"      \n",
       " [33] \"RNFT2\"          \"RETREG3\"        \"AARSD1\"         \"BRCA1\"         \n",
       " [37] \"DUSP3\"          \"CCDC200\"        \"FAM171A2\"       \"C1QL1\"         \n",
       " [41] \"NMT1\"           \"HEXIM1\"         \"LRRC37A\"        \"LRRC37A2\"      \n",
       " [45] \"NSF\"            \"MAEL\"           \"ASAP3\"          \"NFS1\"          \n",
       " [49] \"ZNF142\"         \"CNOT9\"          \"SPEG\"           \"SPTBN1\"        \n",
       " [53] \"CYFIP2\"         \"MAST4\"          \"TMEM170B\"       \"TRMT11\"        \n",
       " [57] \"H4C13\"          \"ZKSCAN4\"        \"ZKSCAN3\"        \"MSH5\"          \n",
       " [61] \"FBXO21\"         \"MSRB3\"          \"TUBG2\"          \"HDAC5\"         \n",
       " [65] \"PLEKHM1\"        \"FAF1\"           \"PLCD4\"          \"NACAD\"         \n",
       " [69] \"PINX1\"          \"SEMA4D\"         \"ZNF322\"         \"ERO1B\"         \n",
       " [73] \"DIS3L2\"         \"AP3B1\"          \"VCAN\"           \"CYSTM1\"        \n",
       " [77] \"TNIP1\"          \"H2AC11\"         \"FILIP1\"         \"CCM2\"          \n",
       " [81] \"TBRG4\"          \"DGKZ\"           \"ATG13\"          \"CKAP5\"         \n",
       " [85] \"LRP4\"           \"PACSIN3\"        \"NR1H3\"          \"ZDHHC5\"        \n",
       " [89] \"AP001931.2\"     \"TMX2\"           \"CTNND1\"         \"DPCD\"          \n",
       " [93] \"NABP2\"          \"ANKRD52\"        \"COQ10A\"         \"CS\"            \n",
       " [97] \"CNPY2\"          \"IL23A\"          \"STAT2\"          \"SOHLH2\"        \n",
       "[101] \"CCDC169-SOHLH2\" \"CCDC169\"        \"SPART\"          \"CCDC57\"        \n",
       "[105] \"UQCC1\"         "
      ]
     },
     "metadata": {},
     "output_type": "display_data"
    }
   ],
   "source": [
    "AD2_gene"
   ]
  },
  {
   "cell_type": "code",
   "execution_count": 67,
   "id": "ea1fa5ea-8664-4802-bfbb-8cb189e40579",
   "metadata": {},
   "outputs": [
    {
     "data": {
      "text/html": [
       "<style>\n",
       ".list-inline {list-style: none; margin:0; padding: 0}\n",
       ".list-inline>li {display: inline-block}\n",
       ".list-inline>li:not(:last-child)::after {content: \"\\00b7\"; padding: 0 .5ex}\n",
       "</style>\n",
       "<ol class=list-inline><li>'NFATC2IP'</li><li>'TUFM'</li><li>'CLN3'</li><li>'SULT1A1'</li><li>'NPIPB9'</li><li>'EIF3CL'</li><li>'LAT'</li><li>'NPIPB7'</li><li>'RUSF1'</li><li>'COG4'</li><li>'SF3B3'</li><li>'MTSS2'</li><li>'KPNA2'</li><li>'MYLK2'</li><li>'ID1'</li><li>'ZCWPW1'</li><li>'MEPCE'</li><li>'FAT3'</li><li>'CHPT1'</li><li>'WASHC3'</li><li>'PMCH'</li><li>'PARPBP'</li><li>'KTN1'</li><li>'MAPK1IP1L'</li><li>'NUPR1'</li><li>'AC138894.1'</li><li>'EIF3C'</li><li>'NOL11'</li><li>'TAS1R3'</li><li>'NINL'</li><li>'COX4I2'</li><li>'C20orf194'</li><li>'ASXL1'</li><li>'PDCD6IP'</li><li>'EXOC3'</li><li>'CYP21A2'</li><li>'TSC22D4'</li><li>'DSCAML1'</li><li>'PELI2'</li><li>'WDHD1'</li><li>'PPP4R3A'</li><li>'PDXDC1'</li><li>'TNRC6A'</li><li>'SLC5A11'</li><li>'APOBR'</li><li>'NPIPB6'</li><li>'ATXN2L'</li><li>'SGF29'</li><li>'RABEP2'</li><li>'SH2B1'</li><li>'ATP2A1'</li><li>'HIRIP3'</li><li>'SEZ6L2'</li><li>'FBXL19'</li><li>'ZNF768'</li><li>'SLC9A5'</li><li>'NOL3'</li><li>'TMEM208'</li><li>'NRN1L'</li><li>'NFAT5'</li><li>'ZNRF1'</li><li>'HELZ'</li><li>'PRKCZ'</li><li>'PYGB'</li><li>'HM13'</li><li>'BCL2L1'</li><li>'FOXS1'</li><li>'NLRC4'</li><li>'ZIC4'</li><li>'KLF3'</li><li>'POLR2B'</li><li>'SEC31A'</li><li>'APOM'</li><li>'DNAJC2'</li><li>'STAG3'</li><li>'NYAP1'</li><li>'TNFRSF11B'</li><li>'SLC20A2'</li><li>'SETD1A'</li><li>'DYRK1B'</li><li>'ATRN'</li><li>'ITPA'</li><li>'ZNF717'</li><li>'CD101'</li><li>'ZIC1'</li><li>'IGFBP7'</li><li>'ENOPH1'</li><li>'LIN54'</li><li>'AHRR'</li><li>'SLC9A3'</li><li>'HLA-A'</li><li>'TRIM39'</li><li>'COL21A1'</li><li>'CENPW'</li><li>'TULP4'</li><li>'TMEM181'</li><li>'SOD2'</li><li>'WTAP'</li><li>'ACAT2'</li><li>'TCP1'</li><li>'MRPL18'</li><li>'PNLDC1'</li><li>'AMZ1'</li><li>'GNA12'</li><li>'PILRB'</li><li>'PILRA'</li><li>'C7orf61'</li><li>'FAM160B2'</li><li>'EFCAB1'</li><li>'SAA4'</li><li>'SAA2'</li><li>'HPS5'</li><li>'GTF2H1'</li><li>'ENO4'</li><li>'SHTN1'</li><li>'CNTN1'</li><li>'EIF2B2'</li><li>'MLH3'</li><li>'ACYP1'</li><li>'ZC2HC1C'</li><li>'NEK9'</li><li>'TMED10'</li><li>'NPIPA1'</li><li>'NPIPA5'</li><li>'SULT1A2'</li><li>'DYNC1LI2'</li><li>'ATP9B'</li><li>'SLC4A11'</li><li>'DNAJC5'</li></ol>\n"
      ],
      "text/latex": [
       "\\begin{enumerate*}\n",
       "\\item 'NFATC2IP'\n",
       "\\item 'TUFM'\n",
       "\\item 'CLN3'\n",
       "\\item 'SULT1A1'\n",
       "\\item 'NPIPB9'\n",
       "\\item 'EIF3CL'\n",
       "\\item 'LAT'\n",
       "\\item 'NPIPB7'\n",
       "\\item 'RUSF1'\n",
       "\\item 'COG4'\n",
       "\\item 'SF3B3'\n",
       "\\item 'MTSS2'\n",
       "\\item 'KPNA2'\n",
       "\\item 'MYLK2'\n",
       "\\item 'ID1'\n",
       "\\item 'ZCWPW1'\n",
       "\\item 'MEPCE'\n",
       "\\item 'FAT3'\n",
       "\\item 'CHPT1'\n",
       "\\item 'WASHC3'\n",
       "\\item 'PMCH'\n",
       "\\item 'PARPBP'\n",
       "\\item 'KTN1'\n",
       "\\item 'MAPK1IP1L'\n",
       "\\item 'NUPR1'\n",
       "\\item 'AC138894.1'\n",
       "\\item 'EIF3C'\n",
       "\\item 'NOL11'\n",
       "\\item 'TAS1R3'\n",
       "\\item 'NINL'\n",
       "\\item 'COX4I2'\n",
       "\\item 'C20orf194'\n",
       "\\item 'ASXL1'\n",
       "\\item 'PDCD6IP'\n",
       "\\item 'EXOC3'\n",
       "\\item 'CYP21A2'\n",
       "\\item 'TSC22D4'\n",
       "\\item 'DSCAML1'\n",
       "\\item 'PELI2'\n",
       "\\item 'WDHD1'\n",
       "\\item 'PPP4R3A'\n",
       "\\item 'PDXDC1'\n",
       "\\item 'TNRC6A'\n",
       "\\item 'SLC5A11'\n",
       "\\item 'APOBR'\n",
       "\\item 'NPIPB6'\n",
       "\\item 'ATXN2L'\n",
       "\\item 'SGF29'\n",
       "\\item 'RABEP2'\n",
       "\\item 'SH2B1'\n",
       "\\item 'ATP2A1'\n",
       "\\item 'HIRIP3'\n",
       "\\item 'SEZ6L2'\n",
       "\\item 'FBXL19'\n",
       "\\item 'ZNF768'\n",
       "\\item 'SLC9A5'\n",
       "\\item 'NOL3'\n",
       "\\item 'TMEM208'\n",
       "\\item 'NRN1L'\n",
       "\\item 'NFAT5'\n",
       "\\item 'ZNRF1'\n",
       "\\item 'HELZ'\n",
       "\\item 'PRKCZ'\n",
       "\\item 'PYGB'\n",
       "\\item 'HM13'\n",
       "\\item 'BCL2L1'\n",
       "\\item 'FOXS1'\n",
       "\\item 'NLRC4'\n",
       "\\item 'ZIC4'\n",
       "\\item 'KLF3'\n",
       "\\item 'POLR2B'\n",
       "\\item 'SEC31A'\n",
       "\\item 'APOM'\n",
       "\\item 'DNAJC2'\n",
       "\\item 'STAG3'\n",
       "\\item 'NYAP1'\n",
       "\\item 'TNFRSF11B'\n",
       "\\item 'SLC20A2'\n",
       "\\item 'SETD1A'\n",
       "\\item 'DYRK1B'\n",
       "\\item 'ATRN'\n",
       "\\item 'ITPA'\n",
       "\\item 'ZNF717'\n",
       "\\item 'CD101'\n",
       "\\item 'ZIC1'\n",
       "\\item 'IGFBP7'\n",
       "\\item 'ENOPH1'\n",
       "\\item 'LIN54'\n",
       "\\item 'AHRR'\n",
       "\\item 'SLC9A3'\n",
       "\\item 'HLA-A'\n",
       "\\item 'TRIM39'\n",
       "\\item 'COL21A1'\n",
       "\\item 'CENPW'\n",
       "\\item 'TULP4'\n",
       "\\item 'TMEM181'\n",
       "\\item 'SOD2'\n",
       "\\item 'WTAP'\n",
       "\\item 'ACAT2'\n",
       "\\item 'TCP1'\n",
       "\\item 'MRPL18'\n",
       "\\item 'PNLDC1'\n",
       "\\item 'AMZ1'\n",
       "\\item 'GNA12'\n",
       "\\item 'PILRB'\n",
       "\\item 'PILRA'\n",
       "\\item 'C7orf61'\n",
       "\\item 'FAM160B2'\n",
       "\\item 'EFCAB1'\n",
       "\\item 'SAA4'\n",
       "\\item 'SAA2'\n",
       "\\item 'HPS5'\n",
       "\\item 'GTF2H1'\n",
       "\\item 'ENO4'\n",
       "\\item 'SHTN1'\n",
       "\\item 'CNTN1'\n",
       "\\item 'EIF2B2'\n",
       "\\item 'MLH3'\n",
       "\\item 'ACYP1'\n",
       "\\item 'ZC2HC1C'\n",
       "\\item 'NEK9'\n",
       "\\item 'TMED10'\n",
       "\\item 'NPIPA1'\n",
       "\\item 'NPIPA5'\n",
       "\\item 'SULT1A2'\n",
       "\\item 'DYNC1LI2'\n",
       "\\item 'ATP9B'\n",
       "\\item 'SLC4A11'\n",
       "\\item 'DNAJC5'\n",
       "\\end{enumerate*}\n"
      ],
      "text/markdown": [
       "1. 'NFATC2IP'\n",
       "2. 'TUFM'\n",
       "3. 'CLN3'\n",
       "4. 'SULT1A1'\n",
       "5. 'NPIPB9'\n",
       "6. 'EIF3CL'\n",
       "7. 'LAT'\n",
       "8. 'NPIPB7'\n",
       "9. 'RUSF1'\n",
       "10. 'COG4'\n",
       "11. 'SF3B3'\n",
       "12. 'MTSS2'\n",
       "13. 'KPNA2'\n",
       "14. 'MYLK2'\n",
       "15. 'ID1'\n",
       "16. 'ZCWPW1'\n",
       "17. 'MEPCE'\n",
       "18. 'FAT3'\n",
       "19. 'CHPT1'\n",
       "20. 'WASHC3'\n",
       "21. 'PMCH'\n",
       "22. 'PARPBP'\n",
       "23. 'KTN1'\n",
       "24. 'MAPK1IP1L'\n",
       "25. 'NUPR1'\n",
       "26. 'AC138894.1'\n",
       "27. 'EIF3C'\n",
       "28. 'NOL11'\n",
       "29. 'TAS1R3'\n",
       "30. 'NINL'\n",
       "31. 'COX4I2'\n",
       "32. 'C20orf194'\n",
       "33. 'ASXL1'\n",
       "34. 'PDCD6IP'\n",
       "35. 'EXOC3'\n",
       "36. 'CYP21A2'\n",
       "37. 'TSC22D4'\n",
       "38. 'DSCAML1'\n",
       "39. 'PELI2'\n",
       "40. 'WDHD1'\n",
       "41. 'PPP4R3A'\n",
       "42. 'PDXDC1'\n",
       "43. 'TNRC6A'\n",
       "44. 'SLC5A11'\n",
       "45. 'APOBR'\n",
       "46. 'NPIPB6'\n",
       "47. 'ATXN2L'\n",
       "48. 'SGF29'\n",
       "49. 'RABEP2'\n",
       "50. 'SH2B1'\n",
       "51. 'ATP2A1'\n",
       "52. 'HIRIP3'\n",
       "53. 'SEZ6L2'\n",
       "54. 'FBXL19'\n",
       "55. 'ZNF768'\n",
       "56. 'SLC9A5'\n",
       "57. 'NOL3'\n",
       "58. 'TMEM208'\n",
       "59. 'NRN1L'\n",
       "60. 'NFAT5'\n",
       "61. 'ZNRF1'\n",
       "62. 'HELZ'\n",
       "63. 'PRKCZ'\n",
       "64. 'PYGB'\n",
       "65. 'HM13'\n",
       "66. 'BCL2L1'\n",
       "67. 'FOXS1'\n",
       "68. 'NLRC4'\n",
       "69. 'ZIC4'\n",
       "70. 'KLF3'\n",
       "71. 'POLR2B'\n",
       "72. 'SEC31A'\n",
       "73. 'APOM'\n",
       "74. 'DNAJC2'\n",
       "75. 'STAG3'\n",
       "76. 'NYAP1'\n",
       "77. 'TNFRSF11B'\n",
       "78. 'SLC20A2'\n",
       "79. 'SETD1A'\n",
       "80. 'DYRK1B'\n",
       "81. 'ATRN'\n",
       "82. 'ITPA'\n",
       "83. 'ZNF717'\n",
       "84. 'CD101'\n",
       "85. 'ZIC1'\n",
       "86. 'IGFBP7'\n",
       "87. 'ENOPH1'\n",
       "88. 'LIN54'\n",
       "89. 'AHRR'\n",
       "90. 'SLC9A3'\n",
       "91. 'HLA-A'\n",
       "92. 'TRIM39'\n",
       "93. 'COL21A1'\n",
       "94. 'CENPW'\n",
       "95. 'TULP4'\n",
       "96. 'TMEM181'\n",
       "97. 'SOD2'\n",
       "98. 'WTAP'\n",
       "99. 'ACAT2'\n",
       "100. 'TCP1'\n",
       "101. 'MRPL18'\n",
       "102. 'PNLDC1'\n",
       "103. 'AMZ1'\n",
       "104. 'GNA12'\n",
       "105. 'PILRB'\n",
       "106. 'PILRA'\n",
       "107. 'C7orf61'\n",
       "108. 'FAM160B2'\n",
       "109. 'EFCAB1'\n",
       "110. 'SAA4'\n",
       "111. 'SAA2'\n",
       "112. 'HPS5'\n",
       "113. 'GTF2H1'\n",
       "114. 'ENO4'\n",
       "115. 'SHTN1'\n",
       "116. 'CNTN1'\n",
       "117. 'EIF2B2'\n",
       "118. 'MLH3'\n",
       "119. 'ACYP1'\n",
       "120. 'ZC2HC1C'\n",
       "121. 'NEK9'\n",
       "122. 'TMED10'\n",
       "123. 'NPIPA1'\n",
       "124. 'NPIPA5'\n",
       "125. 'SULT1A2'\n",
       "126. 'DYNC1LI2'\n",
       "127. 'ATP9B'\n",
       "128. 'SLC4A11'\n",
       "129. 'DNAJC5'\n",
       "\n",
       "\n"
      ],
      "text/plain": [
       "  [1] \"NFATC2IP\"   \"TUFM\"       \"CLN3\"       \"SULT1A1\"    \"NPIPB9\"    \n",
       "  [6] \"EIF3CL\"     \"LAT\"        \"NPIPB7\"     \"RUSF1\"      \"COG4\"      \n",
       " [11] \"SF3B3\"      \"MTSS2\"      \"KPNA2\"      \"MYLK2\"      \"ID1\"       \n",
       " [16] \"ZCWPW1\"     \"MEPCE\"      \"FAT3\"       \"CHPT1\"      \"WASHC3\"    \n",
       " [21] \"PMCH\"       \"PARPBP\"     \"KTN1\"       \"MAPK1IP1L\"  \"NUPR1\"     \n",
       " [26] \"AC138894.1\" \"EIF3C\"      \"NOL11\"      \"TAS1R3\"     \"NINL\"      \n",
       " [31] \"COX4I2\"     \"C20orf194\"  \"ASXL1\"      \"PDCD6IP\"    \"EXOC3\"     \n",
       " [36] \"CYP21A2\"    \"TSC22D4\"    \"DSCAML1\"    \"PELI2\"      \"WDHD1\"     \n",
       " [41] \"PPP4R3A\"    \"PDXDC1\"     \"TNRC6A\"     \"SLC5A11\"    \"APOBR\"     \n",
       " [46] \"NPIPB6\"     \"ATXN2L\"     \"SGF29\"      \"RABEP2\"     \"SH2B1\"     \n",
       " [51] \"ATP2A1\"     \"HIRIP3\"     \"SEZ6L2\"     \"FBXL19\"     \"ZNF768\"    \n",
       " [56] \"SLC9A5\"     \"NOL3\"       \"TMEM208\"    \"NRN1L\"      \"NFAT5\"     \n",
       " [61] \"ZNRF1\"      \"HELZ\"       \"PRKCZ\"      \"PYGB\"       \"HM13\"      \n",
       " [66] \"BCL2L1\"     \"FOXS1\"      \"NLRC4\"      \"ZIC4\"       \"KLF3\"      \n",
       " [71] \"POLR2B\"     \"SEC31A\"     \"APOM\"       \"DNAJC2\"     \"STAG3\"     \n",
       " [76] \"NYAP1\"      \"TNFRSF11B\"  \"SLC20A2\"    \"SETD1A\"     \"DYRK1B\"    \n",
       " [81] \"ATRN\"       \"ITPA\"       \"ZNF717\"     \"CD101\"      \"ZIC1\"      \n",
       " [86] \"IGFBP7\"     \"ENOPH1\"     \"LIN54\"      \"AHRR\"       \"SLC9A3\"    \n",
       " [91] \"HLA-A\"      \"TRIM39\"     \"COL21A1\"    \"CENPW\"      \"TULP4\"     \n",
       " [96] \"TMEM181\"    \"SOD2\"       \"WTAP\"       \"ACAT2\"      \"TCP1\"      \n",
       "[101] \"MRPL18\"     \"PNLDC1\"     \"AMZ1\"       \"GNA12\"      \"PILRB\"     \n",
       "[106] \"PILRA\"      \"C7orf61\"    \"FAM160B2\"   \"EFCAB1\"     \"SAA4\"      \n",
       "[111] \"SAA2\"       \"HPS5\"       \"GTF2H1\"     \"ENO4\"       \"SHTN1\"     \n",
       "[116] \"CNTN1\"      \"EIF2B2\"     \"MLH3\"       \"ACYP1\"      \"ZC2HC1C\"   \n",
       "[121] \"NEK9\"       \"TMED10\"     \"NPIPA1\"     \"NPIPA5\"     \"SULT1A2\"   \n",
       "[126] \"DYNC1LI2\"   \"ATP9B\"      \"SLC4A11\"    \"DNAJC5\"    "
      ]
     },
     "metadata": {},
     "output_type": "display_data"
    }
   ],
   "source": [
    "Aging1_gene"
   ]
  },
  {
   "cell_type": "code",
   "execution_count": 68,
   "id": "49b9fbe5-430b-46ff-91e6-918993f5c6cf",
   "metadata": {
    "scrolled": true
   },
   "outputs": [
    {
     "data": {
      "text/html": [
       "<style>\n",
       ".list-inline {list-style: none; margin:0; padding: 0}\n",
       ".list-inline>li {display: inline-block}\n",
       ".list-inline>li:not(:last-child)::after {content: \"\\00b7\"; padding: 0 .5ex}\n",
       "</style>\n",
       "<ol class=list-inline><li>'TESC'</li><li>'HRK'</li><li>'LEMD3'</li><li>'XPOT'</li><li>'YPEL3'</li><li>'MAPK3'</li><li>'INO80E'</li><li>'ASPHD1'</li><li>'H6PD'</li><li>'ZNF786'</li><li>'LHPP'</li><li>'EEF1AKMT2'</li><li>'MDK'</li><li>'FBXW8'</li><li>'PAN2'</li><li>'MSRB3'</li><li>'GDPD3'</li><li>'TBX6'</li><li>'TMEM219'</li><li>'C16orf54'</li><li>'NPIPB13'</li><li>'TERF2'</li><li>'NSRP1'</li><li>'SSH2'</li><li>'EFCAB5'</li><li>'MAP3K14'</li><li>'SMG8'</li><li>'CENPW'</li><li>'ZRANB1'</li><li>'AC068896.1'</li><li>'RNFT2'</li><li>'NPIPB12'</li><li>'SLX1B'</li><li>'PPP4C'</li><li>'DOC2A'</li><li>'TAOK2'</li><li>'SEZ6L2'</li><li>'KCTD13'</li><li>'PYCARD'</li><li>'RHOT1'</li><li>'PPM1E'</li><li>'MAEL'</li><li>'RNF11'</li><li>'SLC35D1'</li><li>'BCL2L1'</li><li>'TANK'</li><li>'SLC9B1'</li><li>'VCAN'</li><li>'RSPO3'</li><li>'ZNF398'</li><li>'NACAD'</li><li>'XKR6'</li><li>'FBXO21'</li><li>'LRRC37B'</li><li>'FAF1'</li><li>'PLCG1'</li><li>'TMEM170B'</li><li>'PINX1'</li><li>'MAST2'</li><li>'DOCK10'</li><li>'ARL4C'</li><li>'MAST4'</li><li>'TNIP1'</li><li>'RPA3'</li><li>'FAM126A'</li><li>'KLHL7'</li><li>'NUP42'</li><li>'GPNMB'</li><li>'C7orf33'</li><li>'ZNF425'</li><li>'WAC'</li><li>'SYT10'</li><li>'DYRK2'</li><li>'WASHC3'</li><li>'PARPBP'</li><li>'SOHLH2'</li><li>'CCDC169-SOHLH2'</li><li>'CCDC169'</li><li>'SPART'</li><li>'NPIPA1'</li><li>'CORO6'</li><li>'MTMR4'</li><li>'RAD51C'</li><li>'TRIM37'</li></ol>\n"
      ],
      "text/latex": [
       "\\begin{enumerate*}\n",
       "\\item 'TESC'\n",
       "\\item 'HRK'\n",
       "\\item 'LEMD3'\n",
       "\\item 'XPOT'\n",
       "\\item 'YPEL3'\n",
       "\\item 'MAPK3'\n",
       "\\item 'INO80E'\n",
       "\\item 'ASPHD1'\n",
       "\\item 'H6PD'\n",
       "\\item 'ZNF786'\n",
       "\\item 'LHPP'\n",
       "\\item 'EEF1AKMT2'\n",
       "\\item 'MDK'\n",
       "\\item 'FBXW8'\n",
       "\\item 'PAN2'\n",
       "\\item 'MSRB3'\n",
       "\\item 'GDPD3'\n",
       "\\item 'TBX6'\n",
       "\\item 'TMEM219'\n",
       "\\item 'C16orf54'\n",
       "\\item 'NPIPB13'\n",
       "\\item 'TERF2'\n",
       "\\item 'NSRP1'\n",
       "\\item 'SSH2'\n",
       "\\item 'EFCAB5'\n",
       "\\item 'MAP3K14'\n",
       "\\item 'SMG8'\n",
       "\\item 'CENPW'\n",
       "\\item 'ZRANB1'\n",
       "\\item 'AC068896.1'\n",
       "\\item 'RNFT2'\n",
       "\\item 'NPIPB12'\n",
       "\\item 'SLX1B'\n",
       "\\item 'PPP4C'\n",
       "\\item 'DOC2A'\n",
       "\\item 'TAOK2'\n",
       "\\item 'SEZ6L2'\n",
       "\\item 'KCTD13'\n",
       "\\item 'PYCARD'\n",
       "\\item 'RHOT1'\n",
       "\\item 'PPM1E'\n",
       "\\item 'MAEL'\n",
       "\\item 'RNF11'\n",
       "\\item 'SLC35D1'\n",
       "\\item 'BCL2L1'\n",
       "\\item 'TANK'\n",
       "\\item 'SLC9B1'\n",
       "\\item 'VCAN'\n",
       "\\item 'RSPO3'\n",
       "\\item 'ZNF398'\n",
       "\\item 'NACAD'\n",
       "\\item 'XKR6'\n",
       "\\item 'FBXO21'\n",
       "\\item 'LRRC37B'\n",
       "\\item 'FAF1'\n",
       "\\item 'PLCG1'\n",
       "\\item 'TMEM170B'\n",
       "\\item 'PINX1'\n",
       "\\item 'MAST2'\n",
       "\\item 'DOCK10'\n",
       "\\item 'ARL4C'\n",
       "\\item 'MAST4'\n",
       "\\item 'TNIP1'\n",
       "\\item 'RPA3'\n",
       "\\item 'FAM126A'\n",
       "\\item 'KLHL7'\n",
       "\\item 'NUP42'\n",
       "\\item 'GPNMB'\n",
       "\\item 'C7orf33'\n",
       "\\item 'ZNF425'\n",
       "\\item 'WAC'\n",
       "\\item 'SYT10'\n",
       "\\item 'DYRK2'\n",
       "\\item 'WASHC3'\n",
       "\\item 'PARPBP'\n",
       "\\item 'SOHLH2'\n",
       "\\item 'CCDC169-SOHLH2'\n",
       "\\item 'CCDC169'\n",
       "\\item 'SPART'\n",
       "\\item 'NPIPA1'\n",
       "\\item 'CORO6'\n",
       "\\item 'MTMR4'\n",
       "\\item 'RAD51C'\n",
       "\\item 'TRIM37'\n",
       "\\end{enumerate*}\n"
      ],
      "text/markdown": [
       "1. 'TESC'\n",
       "2. 'HRK'\n",
       "3. 'LEMD3'\n",
       "4. 'XPOT'\n",
       "5. 'YPEL3'\n",
       "6. 'MAPK3'\n",
       "7. 'INO80E'\n",
       "8. 'ASPHD1'\n",
       "9. 'H6PD'\n",
       "10. 'ZNF786'\n",
       "11. 'LHPP'\n",
       "12. 'EEF1AKMT2'\n",
       "13. 'MDK'\n",
       "14. 'FBXW8'\n",
       "15. 'PAN2'\n",
       "16. 'MSRB3'\n",
       "17. 'GDPD3'\n",
       "18. 'TBX6'\n",
       "19. 'TMEM219'\n",
       "20. 'C16orf54'\n",
       "21. 'NPIPB13'\n",
       "22. 'TERF2'\n",
       "23. 'NSRP1'\n",
       "24. 'SSH2'\n",
       "25. 'EFCAB5'\n",
       "26. 'MAP3K14'\n",
       "27. 'SMG8'\n",
       "28. 'CENPW'\n",
       "29. 'ZRANB1'\n",
       "30. 'AC068896.1'\n",
       "31. 'RNFT2'\n",
       "32. 'NPIPB12'\n",
       "33. 'SLX1B'\n",
       "34. 'PPP4C'\n",
       "35. 'DOC2A'\n",
       "36. 'TAOK2'\n",
       "37. 'SEZ6L2'\n",
       "38. 'KCTD13'\n",
       "39. 'PYCARD'\n",
       "40. 'RHOT1'\n",
       "41. 'PPM1E'\n",
       "42. 'MAEL'\n",
       "43. 'RNF11'\n",
       "44. 'SLC35D1'\n",
       "45. 'BCL2L1'\n",
       "46. 'TANK'\n",
       "47. 'SLC9B1'\n",
       "48. 'VCAN'\n",
       "49. 'RSPO3'\n",
       "50. 'ZNF398'\n",
       "51. 'NACAD'\n",
       "52. 'XKR6'\n",
       "53. 'FBXO21'\n",
       "54. 'LRRC37B'\n",
       "55. 'FAF1'\n",
       "56. 'PLCG1'\n",
       "57. 'TMEM170B'\n",
       "58. 'PINX1'\n",
       "59. 'MAST2'\n",
       "60. 'DOCK10'\n",
       "61. 'ARL4C'\n",
       "62. 'MAST4'\n",
       "63. 'TNIP1'\n",
       "64. 'RPA3'\n",
       "65. 'FAM126A'\n",
       "66. 'KLHL7'\n",
       "67. 'NUP42'\n",
       "68. 'GPNMB'\n",
       "69. 'C7orf33'\n",
       "70. 'ZNF425'\n",
       "71. 'WAC'\n",
       "72. 'SYT10'\n",
       "73. 'DYRK2'\n",
       "74. 'WASHC3'\n",
       "75. 'PARPBP'\n",
       "76. 'SOHLH2'\n",
       "77. 'CCDC169-SOHLH2'\n",
       "78. 'CCDC169'\n",
       "79. 'SPART'\n",
       "80. 'NPIPA1'\n",
       "81. 'CORO6'\n",
       "82. 'MTMR4'\n",
       "83. 'RAD51C'\n",
       "84. 'TRIM37'\n",
       "\n",
       "\n"
      ],
      "text/plain": [
       " [1] \"TESC\"           \"HRK\"            \"LEMD3\"          \"XPOT\"          \n",
       " [5] \"YPEL3\"          \"MAPK3\"          \"INO80E\"         \"ASPHD1\"        \n",
       " [9] \"H6PD\"           \"ZNF786\"         \"LHPP\"           \"EEF1AKMT2\"     \n",
       "[13] \"MDK\"            \"FBXW8\"          \"PAN2\"           \"MSRB3\"         \n",
       "[17] \"GDPD3\"          \"TBX6\"           \"TMEM219\"        \"C16orf54\"      \n",
       "[21] \"NPIPB13\"        \"TERF2\"          \"NSRP1\"          \"SSH2\"          \n",
       "[25] \"EFCAB5\"         \"MAP3K14\"        \"SMG8\"           \"CENPW\"         \n",
       "[29] \"ZRANB1\"         \"AC068896.1\"     \"RNFT2\"          \"NPIPB12\"       \n",
       "[33] \"SLX1B\"          \"PPP4C\"          \"DOC2A\"          \"TAOK2\"         \n",
       "[37] \"SEZ6L2\"         \"KCTD13\"         \"PYCARD\"         \"RHOT1\"         \n",
       "[41] \"PPM1E\"          \"MAEL\"           \"RNF11\"          \"SLC35D1\"       \n",
       "[45] \"BCL2L1\"         \"TANK\"           \"SLC9B1\"         \"VCAN\"          \n",
       "[49] \"RSPO3\"          \"ZNF398\"         \"NACAD\"          \"XKR6\"          \n",
       "[53] \"FBXO21\"         \"LRRC37B\"        \"FAF1\"           \"PLCG1\"         \n",
       "[57] \"TMEM170B\"       \"PINX1\"          \"MAST2\"          \"DOCK10\"        \n",
       "[61] \"ARL4C\"          \"MAST4\"          \"TNIP1\"          \"RPA3\"          \n",
       "[65] \"FAM126A\"        \"KLHL7\"          \"NUP42\"          \"GPNMB\"         \n",
       "[69] \"C7orf33\"        \"ZNF425\"         \"WAC\"            \"SYT10\"         \n",
       "[73] \"DYRK2\"          \"WASHC3\"         \"PARPBP\"         \"SOHLH2\"        \n",
       "[77] \"CCDC169-SOHLH2\" \"CCDC169\"        \"SPART\"          \"NPIPA1\"        \n",
       "[81] \"CORO6\"          \"MTMR4\"          \"RAD51C\"         \"TRIM37\"        "
      ]
     },
     "metadata": {},
     "output_type": "display_data"
    }
   ],
   "source": [
    "Aging2_gene"
   ]
  },
  {
   "cell_type": "code",
   "execution_count": 69,
   "id": "2ef63d64-2f0e-4d53-a9ec-cf71f080d2fe",
   "metadata": {},
   "outputs": [
    {
     "data": {
      "text/html": [
       "<style>\n",
       ".list-inline {list-style: none; margin:0; padding: 0}\n",
       ".list-inline>li {display: inline-block}\n",
       ".list-inline>li:not(:last-child)::after {content: \"\\00b7\"; padding: 0 .5ex}\n",
       "</style>\n",
       "<ol class=list-inline><li>'SPTBN1'</li><li>'GDPD3'</li><li>'CENPW'</li><li>'ARID4A'</li><li>'PSMA3'</li><li>'KCNK2'</li><li>'ECSCR'</li><li>'RSPO3'</li><li>'TRIM26'</li><li>'TNF'</li><li>'VEGFA'</li><li>'XKR6'</li><li>'ERI1'</li><li>'MSRB3'</li><li>'GGT7'</li><li>'NCOA6'</li><li>'BIN1'</li><li>'PINX1'</li><li>'MFHAS1'</li><li>'TUT7'</li><li>'HSPG2'</li><li>'CDC42'</li><li>'UGT2B7'</li><li>'ISCA1'</li><li>'ENO4'</li><li>'SHTN1'</li><li>'KDM2B'</li><li>'IRS2'</li><li>'ARMH4'</li><li>'SEZ6L2'</li><li>'ASPHD1'</li><li>'KCTD13'</li><li>'TMEM219'</li><li>'MAPK3'</li><li>'PTGES3L-AARSD1'</li><li>'ARHGAP27'</li><li>'PLEKHM1'</li><li>'LINC02210-CRHR1'</li><li>'CRHR1'</li><li>'SPPL2C'</li><li>'MAPT'</li><li>'STH'</li><li>'KANSL1'</li><li>'ARL17B'</li><li>'LRRC37A'</li><li>'LRRC37A2'</li><li>'ARL17A'</li><li>'NSF'</li><li>'AC005670.2'</li><li>'ITCH'</li><li>'MAP1LC3A'</li><li>'TRPC4AP'</li><li>'DNAJC5'</li><li>'DDX17'</li><li>'FAM227A'</li><li>'CBY1'</li><li>'TOMM22'</li><li>'JOSD1'</li><li>'SUN2'</li><li>'HSF2BP'</li><li>'RRP1B'</li><li>'PDXK'</li></ol>\n"
      ],
      "text/latex": [
       "\\begin{enumerate*}\n",
       "\\item 'SPTBN1'\n",
       "\\item 'GDPD3'\n",
       "\\item 'CENPW'\n",
       "\\item 'ARID4A'\n",
       "\\item 'PSMA3'\n",
       "\\item 'KCNK2'\n",
       "\\item 'ECSCR'\n",
       "\\item 'RSPO3'\n",
       "\\item 'TRIM26'\n",
       "\\item 'TNF'\n",
       "\\item 'VEGFA'\n",
       "\\item 'XKR6'\n",
       "\\item 'ERI1'\n",
       "\\item 'MSRB3'\n",
       "\\item 'GGT7'\n",
       "\\item 'NCOA6'\n",
       "\\item 'BIN1'\n",
       "\\item 'PINX1'\n",
       "\\item 'MFHAS1'\n",
       "\\item 'TUT7'\n",
       "\\item 'HSPG2'\n",
       "\\item 'CDC42'\n",
       "\\item 'UGT2B7'\n",
       "\\item 'ISCA1'\n",
       "\\item 'ENO4'\n",
       "\\item 'SHTN1'\n",
       "\\item 'KDM2B'\n",
       "\\item 'IRS2'\n",
       "\\item 'ARMH4'\n",
       "\\item 'SEZ6L2'\n",
       "\\item 'ASPHD1'\n",
       "\\item 'KCTD13'\n",
       "\\item 'TMEM219'\n",
       "\\item 'MAPK3'\n",
       "\\item 'PTGES3L-AARSD1'\n",
       "\\item 'ARHGAP27'\n",
       "\\item 'PLEKHM1'\n",
       "\\item 'LINC02210-CRHR1'\n",
       "\\item 'CRHR1'\n",
       "\\item 'SPPL2C'\n",
       "\\item 'MAPT'\n",
       "\\item 'STH'\n",
       "\\item 'KANSL1'\n",
       "\\item 'ARL17B'\n",
       "\\item 'LRRC37A'\n",
       "\\item 'LRRC37A2'\n",
       "\\item 'ARL17A'\n",
       "\\item 'NSF'\n",
       "\\item 'AC005670.2'\n",
       "\\item 'ITCH'\n",
       "\\item 'MAP1LC3A'\n",
       "\\item 'TRPC4AP'\n",
       "\\item 'DNAJC5'\n",
       "\\item 'DDX17'\n",
       "\\item 'FAM227A'\n",
       "\\item 'CBY1'\n",
       "\\item 'TOMM22'\n",
       "\\item 'JOSD1'\n",
       "\\item 'SUN2'\n",
       "\\item 'HSF2BP'\n",
       "\\item 'RRP1B'\n",
       "\\item 'PDXK'\n",
       "\\end{enumerate*}\n"
      ],
      "text/markdown": [
       "1. 'SPTBN1'\n",
       "2. 'GDPD3'\n",
       "3. 'CENPW'\n",
       "4. 'ARID4A'\n",
       "5. 'PSMA3'\n",
       "6. 'KCNK2'\n",
       "7. 'ECSCR'\n",
       "8. 'RSPO3'\n",
       "9. 'TRIM26'\n",
       "10. 'TNF'\n",
       "11. 'VEGFA'\n",
       "12. 'XKR6'\n",
       "13. 'ERI1'\n",
       "14. 'MSRB3'\n",
       "15. 'GGT7'\n",
       "16. 'NCOA6'\n",
       "17. 'BIN1'\n",
       "18. 'PINX1'\n",
       "19. 'MFHAS1'\n",
       "20. 'TUT7'\n",
       "21. 'HSPG2'\n",
       "22. 'CDC42'\n",
       "23. 'UGT2B7'\n",
       "24. 'ISCA1'\n",
       "25. 'ENO4'\n",
       "26. 'SHTN1'\n",
       "27. 'KDM2B'\n",
       "28. 'IRS2'\n",
       "29. 'ARMH4'\n",
       "30. 'SEZ6L2'\n",
       "31. 'ASPHD1'\n",
       "32. 'KCTD13'\n",
       "33. 'TMEM219'\n",
       "34. 'MAPK3'\n",
       "35. 'PTGES3L-AARSD1'\n",
       "36. 'ARHGAP27'\n",
       "37. 'PLEKHM1'\n",
       "38. 'LINC02210-CRHR1'\n",
       "39. 'CRHR1'\n",
       "40. 'SPPL2C'\n",
       "41. 'MAPT'\n",
       "42. 'STH'\n",
       "43. 'KANSL1'\n",
       "44. 'ARL17B'\n",
       "45. 'LRRC37A'\n",
       "46. 'LRRC37A2'\n",
       "47. 'ARL17A'\n",
       "48. 'NSF'\n",
       "49. 'AC005670.2'\n",
       "50. 'ITCH'\n",
       "51. 'MAP1LC3A'\n",
       "52. 'TRPC4AP'\n",
       "53. 'DNAJC5'\n",
       "54. 'DDX17'\n",
       "55. 'FAM227A'\n",
       "56. 'CBY1'\n",
       "57. 'TOMM22'\n",
       "58. 'JOSD1'\n",
       "59. 'SUN2'\n",
       "60. 'HSF2BP'\n",
       "61. 'RRP1B'\n",
       "62. 'PDXK'\n",
       "\n",
       "\n"
      ],
      "text/plain": [
       " [1] \"SPTBN1\"          \"GDPD3\"           \"CENPW\"           \"ARID4A\"         \n",
       " [5] \"PSMA3\"           \"KCNK2\"           \"ECSCR\"           \"RSPO3\"          \n",
       " [9] \"TRIM26\"          \"TNF\"             \"VEGFA\"           \"XKR6\"           \n",
       "[13] \"ERI1\"            \"MSRB3\"           \"GGT7\"            \"NCOA6\"          \n",
       "[17] \"BIN1\"            \"PINX1\"           \"MFHAS1\"          \"TUT7\"           \n",
       "[21] \"HSPG2\"           \"CDC42\"           \"UGT2B7\"          \"ISCA1\"          \n",
       "[25] \"ENO4\"            \"SHTN1\"           \"KDM2B\"           \"IRS2\"           \n",
       "[29] \"ARMH4\"           \"SEZ6L2\"          \"ASPHD1\"          \"KCTD13\"         \n",
       "[33] \"TMEM219\"         \"MAPK3\"           \"PTGES3L-AARSD1\"  \"ARHGAP27\"       \n",
       "[37] \"PLEKHM1\"         \"LINC02210-CRHR1\" \"CRHR1\"           \"SPPL2C\"         \n",
       "[41] \"MAPT\"            \"STH\"             \"KANSL1\"          \"ARL17B\"         \n",
       "[45] \"LRRC37A\"         \"LRRC37A2\"        \"ARL17A\"          \"NSF\"            \n",
       "[49] \"AC005670.2\"      \"ITCH\"            \"MAP1LC3A\"        \"TRPC4AP\"        \n",
       "[53] \"DNAJC5\"          \"DDX17\"           \"FAM227A\"         \"CBY1\"           \n",
       "[57] \"TOMM22\"          \"JOSD1\"           \"SUN2\"            \"HSF2BP\"         \n",
       "[61] \"RRP1B\"           \"PDXK\"           "
      ]
     },
     "metadata": {},
     "output_type": "display_data"
    }
   ],
   "source": [
    "Aging3_gene"
   ]
  },
  {
   "cell_type": "code",
   "execution_count": 70,
   "id": "06ee60fe-7529-4819-9e6f-d49e5f1ed4fd",
   "metadata": {},
   "outputs": [
    {
     "data": {
      "text/html": [
       "<style>\n",
       ".list-inline {list-style: none; margin:0; padding: 0}\n",
       ".list-inline>li {display: inline-block}\n",
       ".list-inline>li:not(:last-child)::after {content: \"\\00b7\"; padding: 0 .5ex}\n",
       "</style>\n",
       "<ol class=list-inline><li>'RAB29'</li><li>'PM20D1'</li><li>'IFIT1B'</li><li>'KPNA2'</li><li>'COX6B1'</li><li>'UPK1A'</li><li>'CFAP74'</li><li>'SLC26A9'</li><li>'RAB7B'</li><li>'IQCJ-SCHIP1'</li><li>'STN1'</li><li>'TOX3'</li><li>'SSH2'</li><li>'EVI2A'</li><li>'ATP9B'</li><li>'FFAR2'</li><li>'KMT2B'</li><li>'TAF13'</li><li>'SLC41A1'</li><li>'KCNK2'</li><li>'PRPF4B'</li><li>'IRF2BP2'</li><li>'CTSE'</li><li>'RHEX'</li><li>'ERO1B'</li><li>'GFM1'</li><li>'AP3B1'</li><li>'BMP6'</li><li>'TXNDC5'</li><li>'BLOC1S5-TXNDC5'</li><li>'SUPT3H'</li><li>'AMZ1'</li><li>'GNA12'</li><li>'ENPP2'</li><li>'FAT3'</li><li>'SLC36A4'</li><li>'TCF7L2'</li><li>'NABP2'</li><li>'ANKRD52'</li><li>'COQ10A'</li><li>'CS'</li><li>'CNPY2'</li><li>'PAN2'</li><li>'IL23A'</li><li>'STAT2'</li><li>'BPTF'</li><li>'TPGS2'</li><li>'KIAA1328'</li><li>'ZBTB32'</li><li>'PROSER3'</li><li>'COQ8B'</li></ol>\n"
      ],
      "text/latex": [
       "\\begin{enumerate*}\n",
       "\\item 'RAB29'\n",
       "\\item 'PM20D1'\n",
       "\\item 'IFIT1B'\n",
       "\\item 'KPNA2'\n",
       "\\item 'COX6B1'\n",
       "\\item 'UPK1A'\n",
       "\\item 'CFAP74'\n",
       "\\item 'SLC26A9'\n",
       "\\item 'RAB7B'\n",
       "\\item 'IQCJ-SCHIP1'\n",
       "\\item 'STN1'\n",
       "\\item 'TOX3'\n",
       "\\item 'SSH2'\n",
       "\\item 'EVI2A'\n",
       "\\item 'ATP9B'\n",
       "\\item 'FFAR2'\n",
       "\\item 'KMT2B'\n",
       "\\item 'TAF13'\n",
       "\\item 'SLC41A1'\n",
       "\\item 'KCNK2'\n",
       "\\item 'PRPF4B'\n",
       "\\item 'IRF2BP2'\n",
       "\\item 'CTSE'\n",
       "\\item 'RHEX'\n",
       "\\item 'ERO1B'\n",
       "\\item 'GFM1'\n",
       "\\item 'AP3B1'\n",
       "\\item 'BMP6'\n",
       "\\item 'TXNDC5'\n",
       "\\item 'BLOC1S5-TXNDC5'\n",
       "\\item 'SUPT3H'\n",
       "\\item 'AMZ1'\n",
       "\\item 'GNA12'\n",
       "\\item 'ENPP2'\n",
       "\\item 'FAT3'\n",
       "\\item 'SLC36A4'\n",
       "\\item 'TCF7L2'\n",
       "\\item 'NABP2'\n",
       "\\item 'ANKRD52'\n",
       "\\item 'COQ10A'\n",
       "\\item 'CS'\n",
       "\\item 'CNPY2'\n",
       "\\item 'PAN2'\n",
       "\\item 'IL23A'\n",
       "\\item 'STAT2'\n",
       "\\item 'BPTF'\n",
       "\\item 'TPGS2'\n",
       "\\item 'KIAA1328'\n",
       "\\item 'ZBTB32'\n",
       "\\item 'PROSER3'\n",
       "\\item 'COQ8B'\n",
       "\\end{enumerate*}\n"
      ],
      "text/markdown": [
       "1. 'RAB29'\n",
       "2. 'PM20D1'\n",
       "3. 'IFIT1B'\n",
       "4. 'KPNA2'\n",
       "5. 'COX6B1'\n",
       "6. 'UPK1A'\n",
       "7. 'CFAP74'\n",
       "8. 'SLC26A9'\n",
       "9. 'RAB7B'\n",
       "10. 'IQCJ-SCHIP1'\n",
       "11. 'STN1'\n",
       "12. 'TOX3'\n",
       "13. 'SSH2'\n",
       "14. 'EVI2A'\n",
       "15. 'ATP9B'\n",
       "16. 'FFAR2'\n",
       "17. 'KMT2B'\n",
       "18. 'TAF13'\n",
       "19. 'SLC41A1'\n",
       "20. 'KCNK2'\n",
       "21. 'PRPF4B'\n",
       "22. 'IRF2BP2'\n",
       "23. 'CTSE'\n",
       "24. 'RHEX'\n",
       "25. 'ERO1B'\n",
       "26. 'GFM1'\n",
       "27. 'AP3B1'\n",
       "28. 'BMP6'\n",
       "29. 'TXNDC5'\n",
       "30. 'BLOC1S5-TXNDC5'\n",
       "31. 'SUPT3H'\n",
       "32. 'AMZ1'\n",
       "33. 'GNA12'\n",
       "34. 'ENPP2'\n",
       "35. 'FAT3'\n",
       "36. 'SLC36A4'\n",
       "37. 'TCF7L2'\n",
       "38. 'NABP2'\n",
       "39. 'ANKRD52'\n",
       "40. 'COQ10A'\n",
       "41. 'CS'\n",
       "42. 'CNPY2'\n",
       "43. 'PAN2'\n",
       "44. 'IL23A'\n",
       "45. 'STAT2'\n",
       "46. 'BPTF'\n",
       "47. 'TPGS2'\n",
       "48. 'KIAA1328'\n",
       "49. 'ZBTB32'\n",
       "50. 'PROSER3'\n",
       "51. 'COQ8B'\n",
       "\n",
       "\n"
      ],
      "text/plain": [
       " [1] \"RAB29\"          \"PM20D1\"         \"IFIT1B\"         \"KPNA2\"         \n",
       " [5] \"COX6B1\"         \"UPK1A\"          \"CFAP74\"         \"SLC26A9\"       \n",
       " [9] \"RAB7B\"          \"IQCJ-SCHIP1\"    \"STN1\"           \"TOX3\"          \n",
       "[13] \"SSH2\"           \"EVI2A\"          \"ATP9B\"          \"FFAR2\"         \n",
       "[17] \"KMT2B\"          \"TAF13\"          \"SLC41A1\"        \"KCNK2\"         \n",
       "[21] \"PRPF4B\"         \"IRF2BP2\"        \"CTSE\"           \"RHEX\"          \n",
       "[25] \"ERO1B\"          \"GFM1\"           \"AP3B1\"          \"BMP6\"          \n",
       "[29] \"TXNDC5\"         \"BLOC1S5-TXNDC5\" \"SUPT3H\"         \"AMZ1\"          \n",
       "[33] \"GNA12\"          \"ENPP2\"          \"FAT3\"           \"SLC36A4\"       \n",
       "[37] \"TCF7L2\"         \"NABP2\"          \"ANKRD52\"        \"COQ10A\"        \n",
       "[41] \"CS\"             \"CNPY2\"          \"PAN2\"           \"IL23A\"         \n",
       "[45] \"STAT2\"          \"BPTF\"           \"TPGS2\"          \"KIAA1328\"      \n",
       "[49] \"ZBTB32\"         \"PROSER3\"        \"COQ8B\"         "
      ]
     },
     "metadata": {},
     "output_type": "display_data"
    }
   ],
   "source": [
    "Aging4_gene"
   ]
  },
  {
   "cell_type": "code",
   "execution_count": 71,
   "id": "c12fcd23-3d14-405c-8f66-d7fa385a250b",
   "metadata": {},
   "outputs": [
    {
     "data": {
      "text/html": [
       "<style>\n",
       ".list-inline {list-style: none; margin:0; padding: 0}\n",
       ".list-inline>li {display: inline-block}\n",
       ".list-inline>li:not(:last-child)::after {content: \"\\00b7\"; padding: 0 .5ex}\n",
       "</style>\n",
       "<ol class=list-inline><li>'NEURL1'</li><li>'CNNM2'</li><li>'AS3MT'</li><li>'ATP5MC1'</li><li>'LGALS4'</li><li>'CAPN12'</li><li>'TMCC2'</li><li>'CARF'</li><li>'NBEAL1'</li><li>'ICA1L'</li><li>'ZNF184'</li><li>'BTN3A3'</li><li>'H2BC15'</li><li>'H4C12'</li><li>'AL021997.2'</li><li>'ZNF311'</li><li>'MRPS18B'</li><li>'PRRT1'</li><li>'EHMT2'</li><li>'MPIG6B'</li><li>'GPANK1'</li><li>'CLIC1'</li><li>'SAPCD1'</li><li>'C4A'</li><li>'HLA-DRA'</li><li>'AL662884.4'</li><li>'HLA-DMA'</li><li>'TAP2'</li><li>'CYP17A1'</li><li>'NOLC1'</li><li>'RPEL1'</li><li>'CALHM2'</li><li>'CALHM1'</li><li>'PTPRJ'</li><li>'UBE2Z'</li><li>'SNF8'</li><li>'GNGT2'</li><li>'TIMM50'</li><li>'MIA'</li><li>'CNTN2'</li><li>'C1QB'</li><li>'TRIOBP'</li><li>'FAM117B'</li><li>'U2SURP'</li><li>'H3C2'</li><li>'HFE'</li><li>'H4C3'</li><li>'H2AC4'</li><li>'PPP1R18'</li><li>'FLOT1'</li><li>'TUBB'</li><li>'VARS2'</li><li>'C6orf47'</li><li>'CSNK2B'</li><li>'LY6G6C'</li><li>'HSPA1A'</li><li>'C4B'</li><li>'RNF5'</li><li>'BTRC'</li><li>'FBXL15'</li><li>'ARL3'</li><li>'PDCD11'</li><li>'PCGF6'</li><li>'BORCS7'</li><li>'COL17A1'</li><li>'TLCD5'</li><li>'ARHGEF12'</li><li>'TMEM101'</li><li>'DUSP3'</li><li>'CALCOCO2'</li><li>'ZNF568'</li><li>'RBBP5'</li><li>'DSTYK'</li><li>'TMEM81'</li><li>'RGPD4'</li><li>'WDR12'</li><li>'RAPH1'</li><li>'H4C13'</li><li>'ZKSCAN4'</li><li>'ZKSCAN3'</li><li>'DDR1'</li><li>'ATP6V1G2'</li><li>'TNF'</li><li>'BAG6'</li><li>'PRRC2A'</li><li>'MSH5'</li><li>'MSH5-SAPCD1'</li><li>'SKIV2L'</li><li>'AGER'</li><li>'PBX2'</li><li>'HLA-DMB'</li><li>'AL645941.2'</li><li>'BRD2'</li><li>'RXRB'</li><li>'GNA12'</li><li>'AMZ1'</li><li>'TNFRSF11B'</li><li>'NT5C2'</li><li>'WBP1L'</li><li>'LDB1'</li><li>'TRIM38'</li><li>'HMGN4'</li><li>'ZSCAN23'</li><li>'CUTA'</li><li>'NOP58'</li><li>'KIAA2012'</li><li>'BMPR2'</li><li>'SULT1C4'</li><li>'GCC2'</li><li>'LIMS1'</li><li>'RANBP2'</li><li>'NUP210'</li><li>'NR2C2'</li><li>'RARB'</li><li>'CCDC12'</li><li>'NBEAL2'</li><li>'SCAP'</li><li>'ELP6'</li><li>'STIMATE'</li><li>'EPHA3'</li><li>'BTN2A1'</li><li>'ZKSCAN8'</li><li>'TRIM31'</li><li>'VWA7'</li><li>'CYP21A2'</li><li>'TNXB'</li><li>'FUT9'</li><li>'UFL1'</li><li>'FHL5'</li><li>'CENPW'</li><li>'DENND2B'</li><li>'AKIP1'</li><li>'TMEM9B'</li><li>'IRAG1'</li><li>'MYRF'</li><li>'TMEM258'</li><li>'FADS2'</li><li>'FADS1'</li><li>'MARK2'</li><li>'SYNPO2L'</li><li>'VCL'</li><li>'ADK'</li><li>'RHBDF1'</li><li>'VPS9D1'</li><li>'EFCAB13'</li><li>'LRRC46'</li><li>'TTLL6'</li><li>'SEPTIN9'</li><li>'CCDC9'</li><li>'C5AR1'</li><li>'FAM118A'</li></ol>\n"
      ],
      "text/latex": [
       "\\begin{enumerate*}\n",
       "\\item 'NEURL1'\n",
       "\\item 'CNNM2'\n",
       "\\item 'AS3MT'\n",
       "\\item 'ATP5MC1'\n",
       "\\item 'LGALS4'\n",
       "\\item 'CAPN12'\n",
       "\\item 'TMCC2'\n",
       "\\item 'CARF'\n",
       "\\item 'NBEAL1'\n",
       "\\item 'ICA1L'\n",
       "\\item 'ZNF184'\n",
       "\\item 'BTN3A3'\n",
       "\\item 'H2BC15'\n",
       "\\item 'H4C12'\n",
       "\\item 'AL021997.2'\n",
       "\\item 'ZNF311'\n",
       "\\item 'MRPS18B'\n",
       "\\item 'PRRT1'\n",
       "\\item 'EHMT2'\n",
       "\\item 'MPIG6B'\n",
       "\\item 'GPANK1'\n",
       "\\item 'CLIC1'\n",
       "\\item 'SAPCD1'\n",
       "\\item 'C4A'\n",
       "\\item 'HLA-DRA'\n",
       "\\item 'AL662884.4'\n",
       "\\item 'HLA-DMA'\n",
       "\\item 'TAP2'\n",
       "\\item 'CYP17A1'\n",
       "\\item 'NOLC1'\n",
       "\\item 'RPEL1'\n",
       "\\item 'CALHM2'\n",
       "\\item 'CALHM1'\n",
       "\\item 'PTPRJ'\n",
       "\\item 'UBE2Z'\n",
       "\\item 'SNF8'\n",
       "\\item 'GNGT2'\n",
       "\\item 'TIMM50'\n",
       "\\item 'MIA'\n",
       "\\item 'CNTN2'\n",
       "\\item 'C1QB'\n",
       "\\item 'TRIOBP'\n",
       "\\item 'FAM117B'\n",
       "\\item 'U2SURP'\n",
       "\\item 'H3C2'\n",
       "\\item 'HFE'\n",
       "\\item 'H4C3'\n",
       "\\item 'H2AC4'\n",
       "\\item 'PPP1R18'\n",
       "\\item 'FLOT1'\n",
       "\\item 'TUBB'\n",
       "\\item 'VARS2'\n",
       "\\item 'C6orf47'\n",
       "\\item 'CSNK2B'\n",
       "\\item 'LY6G6C'\n",
       "\\item 'HSPA1A'\n",
       "\\item 'C4B'\n",
       "\\item 'RNF5'\n",
       "\\item 'BTRC'\n",
       "\\item 'FBXL15'\n",
       "\\item 'ARL3'\n",
       "\\item 'PDCD11'\n",
       "\\item 'PCGF6'\n",
       "\\item 'BORCS7'\n",
       "\\item 'COL17A1'\n",
       "\\item 'TLCD5'\n",
       "\\item 'ARHGEF12'\n",
       "\\item 'TMEM101'\n",
       "\\item 'DUSP3'\n",
       "\\item 'CALCOCO2'\n",
       "\\item 'ZNF568'\n",
       "\\item 'RBBP5'\n",
       "\\item 'DSTYK'\n",
       "\\item 'TMEM81'\n",
       "\\item 'RGPD4'\n",
       "\\item 'WDR12'\n",
       "\\item 'RAPH1'\n",
       "\\item 'H4C13'\n",
       "\\item 'ZKSCAN4'\n",
       "\\item 'ZKSCAN3'\n",
       "\\item 'DDR1'\n",
       "\\item 'ATP6V1G2'\n",
       "\\item 'TNF'\n",
       "\\item 'BAG6'\n",
       "\\item 'PRRC2A'\n",
       "\\item 'MSH5'\n",
       "\\item 'MSH5-SAPCD1'\n",
       "\\item 'SKIV2L'\n",
       "\\item 'AGER'\n",
       "\\item 'PBX2'\n",
       "\\item 'HLA-DMB'\n",
       "\\item 'AL645941.2'\n",
       "\\item 'BRD2'\n",
       "\\item 'RXRB'\n",
       "\\item 'GNA12'\n",
       "\\item 'AMZ1'\n",
       "\\item 'TNFRSF11B'\n",
       "\\item 'NT5C2'\n",
       "\\item 'WBP1L'\n",
       "\\item 'LDB1'\n",
       "\\item 'TRIM38'\n",
       "\\item 'HMGN4'\n",
       "\\item 'ZSCAN23'\n",
       "\\item 'CUTA'\n",
       "\\item 'NOP58'\n",
       "\\item 'KIAA2012'\n",
       "\\item 'BMPR2'\n",
       "\\item 'SULT1C4'\n",
       "\\item 'GCC2'\n",
       "\\item 'LIMS1'\n",
       "\\item 'RANBP2'\n",
       "\\item 'NUP210'\n",
       "\\item 'NR2C2'\n",
       "\\item 'RARB'\n",
       "\\item 'CCDC12'\n",
       "\\item 'NBEAL2'\n",
       "\\item 'SCAP'\n",
       "\\item 'ELP6'\n",
       "\\item 'STIMATE'\n",
       "\\item 'EPHA3'\n",
       "\\item 'BTN2A1'\n",
       "\\item 'ZKSCAN8'\n",
       "\\item 'TRIM31'\n",
       "\\item 'VWA7'\n",
       "\\item 'CYP21A2'\n",
       "\\item 'TNXB'\n",
       "\\item 'FUT9'\n",
       "\\item 'UFL1'\n",
       "\\item 'FHL5'\n",
       "\\item 'CENPW'\n",
       "\\item 'DENND2B'\n",
       "\\item 'AKIP1'\n",
       "\\item 'TMEM9B'\n",
       "\\item 'IRAG1'\n",
       "\\item 'MYRF'\n",
       "\\item 'TMEM258'\n",
       "\\item 'FADS2'\n",
       "\\item 'FADS1'\n",
       "\\item 'MARK2'\n",
       "\\item 'SYNPO2L'\n",
       "\\item 'VCL'\n",
       "\\item 'ADK'\n",
       "\\item 'RHBDF1'\n",
       "\\item 'VPS9D1'\n",
       "\\item 'EFCAB13'\n",
       "\\item 'LRRC46'\n",
       "\\item 'TTLL6'\n",
       "\\item 'SEPTIN9'\n",
       "\\item 'CCDC9'\n",
       "\\item 'C5AR1'\n",
       "\\item 'FAM118A'\n",
       "\\end{enumerate*}\n"
      ],
      "text/markdown": [
       "1. 'NEURL1'\n",
       "2. 'CNNM2'\n",
       "3. 'AS3MT'\n",
       "4. 'ATP5MC1'\n",
       "5. 'LGALS4'\n",
       "6. 'CAPN12'\n",
       "7. 'TMCC2'\n",
       "8. 'CARF'\n",
       "9. 'NBEAL1'\n",
       "10. 'ICA1L'\n",
       "11. 'ZNF184'\n",
       "12. 'BTN3A3'\n",
       "13. 'H2BC15'\n",
       "14. 'H4C12'\n",
       "15. 'AL021997.2'\n",
       "16. 'ZNF311'\n",
       "17. 'MRPS18B'\n",
       "18. 'PRRT1'\n",
       "19. 'EHMT2'\n",
       "20. 'MPIG6B'\n",
       "21. 'GPANK1'\n",
       "22. 'CLIC1'\n",
       "23. 'SAPCD1'\n",
       "24. 'C4A'\n",
       "25. 'HLA-DRA'\n",
       "26. 'AL662884.4'\n",
       "27. 'HLA-DMA'\n",
       "28. 'TAP2'\n",
       "29. 'CYP17A1'\n",
       "30. 'NOLC1'\n",
       "31. 'RPEL1'\n",
       "32. 'CALHM2'\n",
       "33. 'CALHM1'\n",
       "34. 'PTPRJ'\n",
       "35. 'UBE2Z'\n",
       "36. 'SNF8'\n",
       "37. 'GNGT2'\n",
       "38. 'TIMM50'\n",
       "39. 'MIA'\n",
       "40. 'CNTN2'\n",
       "41. 'C1QB'\n",
       "42. 'TRIOBP'\n",
       "43. 'FAM117B'\n",
       "44. 'U2SURP'\n",
       "45. 'H3C2'\n",
       "46. 'HFE'\n",
       "47. 'H4C3'\n",
       "48. 'H2AC4'\n",
       "49. 'PPP1R18'\n",
       "50. 'FLOT1'\n",
       "51. 'TUBB'\n",
       "52. 'VARS2'\n",
       "53. 'C6orf47'\n",
       "54. 'CSNK2B'\n",
       "55. 'LY6G6C'\n",
       "56. 'HSPA1A'\n",
       "57. 'C4B'\n",
       "58. 'RNF5'\n",
       "59. 'BTRC'\n",
       "60. 'FBXL15'\n",
       "61. 'ARL3'\n",
       "62. 'PDCD11'\n",
       "63. 'PCGF6'\n",
       "64. 'BORCS7'\n",
       "65. 'COL17A1'\n",
       "66. 'TLCD5'\n",
       "67. 'ARHGEF12'\n",
       "68. 'TMEM101'\n",
       "69. 'DUSP3'\n",
       "70. 'CALCOCO2'\n",
       "71. 'ZNF568'\n",
       "72. 'RBBP5'\n",
       "73. 'DSTYK'\n",
       "74. 'TMEM81'\n",
       "75. 'RGPD4'\n",
       "76. 'WDR12'\n",
       "77. 'RAPH1'\n",
       "78. 'H4C13'\n",
       "79. 'ZKSCAN4'\n",
       "80. 'ZKSCAN3'\n",
       "81. 'DDR1'\n",
       "82. 'ATP6V1G2'\n",
       "83. 'TNF'\n",
       "84. 'BAG6'\n",
       "85. 'PRRC2A'\n",
       "86. 'MSH5'\n",
       "87. 'MSH5-SAPCD1'\n",
       "88. 'SKIV2L'\n",
       "89. 'AGER'\n",
       "90. 'PBX2'\n",
       "91. 'HLA-DMB'\n",
       "92. 'AL645941.2'\n",
       "93. 'BRD2'\n",
       "94. 'RXRB'\n",
       "95. 'GNA12'\n",
       "96. 'AMZ1'\n",
       "97. 'TNFRSF11B'\n",
       "98. 'NT5C2'\n",
       "99. 'WBP1L'\n",
       "100. 'LDB1'\n",
       "101. 'TRIM38'\n",
       "102. 'HMGN4'\n",
       "103. 'ZSCAN23'\n",
       "104. 'CUTA'\n",
       "105. 'NOP58'\n",
       "106. 'KIAA2012'\n",
       "107. 'BMPR2'\n",
       "108. 'SULT1C4'\n",
       "109. 'GCC2'\n",
       "110. 'LIMS1'\n",
       "111. 'RANBP2'\n",
       "112. 'NUP210'\n",
       "113. 'NR2C2'\n",
       "114. 'RARB'\n",
       "115. 'CCDC12'\n",
       "116. 'NBEAL2'\n",
       "117. 'SCAP'\n",
       "118. 'ELP6'\n",
       "119. 'STIMATE'\n",
       "120. 'EPHA3'\n",
       "121. 'BTN2A1'\n",
       "122. 'ZKSCAN8'\n",
       "123. 'TRIM31'\n",
       "124. 'VWA7'\n",
       "125. 'CYP21A2'\n",
       "126. 'TNXB'\n",
       "127. 'FUT9'\n",
       "128. 'UFL1'\n",
       "129. 'FHL5'\n",
       "130. 'CENPW'\n",
       "131. 'DENND2B'\n",
       "132. 'AKIP1'\n",
       "133. 'TMEM9B'\n",
       "134. 'IRAG1'\n",
       "135. 'MYRF'\n",
       "136. 'TMEM258'\n",
       "137. 'FADS2'\n",
       "138. 'FADS1'\n",
       "139. 'MARK2'\n",
       "140. 'SYNPO2L'\n",
       "141. 'VCL'\n",
       "142. 'ADK'\n",
       "143. 'RHBDF1'\n",
       "144. 'VPS9D1'\n",
       "145. 'EFCAB13'\n",
       "146. 'LRRC46'\n",
       "147. 'TTLL6'\n",
       "148. 'SEPTIN9'\n",
       "149. 'CCDC9'\n",
       "150. 'C5AR1'\n",
       "151. 'FAM118A'\n",
       "\n",
       "\n"
      ],
      "text/plain": [
       "  [1] \"NEURL1\"      \"CNNM2\"       \"AS3MT\"       \"ATP5MC1\"     \"LGALS4\"     \n",
       "  [6] \"CAPN12\"      \"TMCC2\"       \"CARF\"        \"NBEAL1\"      \"ICA1L\"      \n",
       " [11] \"ZNF184\"      \"BTN3A3\"      \"H2BC15\"      \"H4C12\"       \"AL021997.2\" \n",
       " [16] \"ZNF311\"      \"MRPS18B\"     \"PRRT1\"       \"EHMT2\"       \"MPIG6B\"     \n",
       " [21] \"GPANK1\"      \"CLIC1\"       \"SAPCD1\"      \"C4A\"         \"HLA-DRA\"    \n",
       " [26] \"AL662884.4\"  \"HLA-DMA\"     \"TAP2\"        \"CYP17A1\"     \"NOLC1\"      \n",
       " [31] \"RPEL1\"       \"CALHM2\"      \"CALHM1\"      \"PTPRJ\"       \"UBE2Z\"      \n",
       " [36] \"SNF8\"        \"GNGT2\"       \"TIMM50\"      \"MIA\"         \"CNTN2\"      \n",
       " [41] \"C1QB\"        \"TRIOBP\"      \"FAM117B\"     \"U2SURP\"      \"H3C2\"       \n",
       " [46] \"HFE\"         \"H4C3\"        \"H2AC4\"       \"PPP1R18\"     \"FLOT1\"      \n",
       " [51] \"TUBB\"        \"VARS2\"       \"C6orf47\"     \"CSNK2B\"      \"LY6G6C\"     \n",
       " [56] \"HSPA1A\"      \"C4B\"         \"RNF5\"        \"BTRC\"        \"FBXL15\"     \n",
       " [61] \"ARL3\"        \"PDCD11\"      \"PCGF6\"       \"BORCS7\"      \"COL17A1\"    \n",
       " [66] \"TLCD5\"       \"ARHGEF12\"    \"TMEM101\"     \"DUSP3\"       \"CALCOCO2\"   \n",
       " [71] \"ZNF568\"      \"RBBP5\"       \"DSTYK\"       \"TMEM81\"      \"RGPD4\"      \n",
       " [76] \"WDR12\"       \"RAPH1\"       \"H4C13\"       \"ZKSCAN4\"     \"ZKSCAN3\"    \n",
       " [81] \"DDR1\"        \"ATP6V1G2\"    \"TNF\"         \"BAG6\"        \"PRRC2A\"     \n",
       " [86] \"MSH5\"        \"MSH5-SAPCD1\" \"SKIV2L\"      \"AGER\"        \"PBX2\"       \n",
       " [91] \"HLA-DMB\"     \"AL645941.2\"  \"BRD2\"        \"RXRB\"        \"GNA12\"      \n",
       " [96] \"AMZ1\"        \"TNFRSF11B\"   \"NT5C2\"       \"WBP1L\"       \"LDB1\"       \n",
       "[101] \"TRIM38\"      \"HMGN4\"       \"ZSCAN23\"     \"CUTA\"        \"NOP58\"      \n",
       "[106] \"KIAA2012\"    \"BMPR2\"       \"SULT1C4\"     \"GCC2\"        \"LIMS1\"      \n",
       "[111] \"RANBP2\"      \"NUP210\"      \"NR2C2\"       \"RARB\"        \"CCDC12\"     \n",
       "[116] \"NBEAL2\"      \"SCAP\"        \"ELP6\"        \"STIMATE\"     \"EPHA3\"      \n",
       "[121] \"BTN2A1\"      \"ZKSCAN8\"     \"TRIM31\"      \"VWA7\"        \"CYP21A2\"    \n",
       "[126] \"TNXB\"        \"FUT9\"        \"UFL1\"        \"FHL5\"        \"CENPW\"      \n",
       "[131] \"DENND2B\"     \"AKIP1\"       \"TMEM9B\"      \"IRAG1\"       \"MYRF\"       \n",
       "[136] \"TMEM258\"     \"FADS2\"       \"FADS1\"       \"MARK2\"       \"SYNPO2L\"    \n",
       "[141] \"VCL\"         \"ADK\"         \"RHBDF1\"      \"VPS9D1\"      \"EFCAB13\"    \n",
       "[146] \"LRRC46\"      \"TTLL6\"       \"SEPTIN9\"     \"CCDC9\"       \"C5AR1\"      \n",
       "[151] \"FAM118A\"    "
      ]
     },
     "metadata": {},
     "output_type": "display_data"
    }
   ],
   "source": [
    "Aging5_gene"
   ]
  },
  {
   "cell_type": "code",
   "execution_count": 72,
   "id": "7f8bdf0e-63a5-4692-a8ad-30f618756460",
   "metadata": {},
   "outputs": [
    {
     "data": {
      "text/html": [
       "<style>\n",
       ".list-inline {list-style: none; margin:0; padding: 0}\n",
       ".list-inline>li {display: inline-block}\n",
       ".list-inline>li:not(:last-child)::after {content: \"\\00b7\"; padding: 0 .5ex}\n",
       "</style>\n",
       "<ol class=list-inline><li>'DNAJC5'</li><li>'GGT7'</li><li>'NCOA6'</li><li>'TRIM26'</li><li>'DDX17'</li><li>'FAM227A'</li><li>'CBY1'</li><li>'TOMM22'</li><li>'JOSD1'</li><li>'SUN2'</li></ol>\n"
      ],
      "text/latex": [
       "\\begin{enumerate*}\n",
       "\\item 'DNAJC5'\n",
       "\\item 'GGT7'\n",
       "\\item 'NCOA6'\n",
       "\\item 'TRIM26'\n",
       "\\item 'DDX17'\n",
       "\\item 'FAM227A'\n",
       "\\item 'CBY1'\n",
       "\\item 'TOMM22'\n",
       "\\item 'JOSD1'\n",
       "\\item 'SUN2'\n",
       "\\end{enumerate*}\n"
      ],
      "text/markdown": [
       "1. 'DNAJC5'\n",
       "2. 'GGT7'\n",
       "3. 'NCOA6'\n",
       "4. 'TRIM26'\n",
       "5. 'DDX17'\n",
       "6. 'FAM227A'\n",
       "7. 'CBY1'\n",
       "8. 'TOMM22'\n",
       "9. 'JOSD1'\n",
       "10. 'SUN2'\n",
       "\n",
       "\n"
      ],
      "text/plain": [
       " [1] \"DNAJC5\"  \"GGT7\"    \"NCOA6\"   \"TRIM26\"  \"DDX17\"   \"FAM227A\" \"CBY1\"   \n",
       " [8] \"TOMM22\"  \"JOSD1\"   \"SUN2\"   "
      ]
     },
     "metadata": {},
     "output_type": "display_data"
    }
   ],
   "source": [
    "intersect(TL1$gene_name, Aging3$gene_name)"
   ]
  },
  {
   "cell_type": "code",
   "execution_count": 74,
   "id": "cdddc0a6-9b2d-481b-9c72-868138821b2d",
   "metadata": {},
   "outputs": [
    {
     "data": {
      "text/html": [
       "<style>\n",
       ".list-inline {list-style: none; margin:0; padding: 0}\n",
       ".list-inline>li {display: inline-block}\n",
       ".list-inline>li:not(:last-child)::after {content: \"\\00b7\"; padding: 0 .5ex}\n",
       "</style>\n",
       "<ol class=list-inline><li>'PLXNB1'</li><li>'MON1A'</li><li>'LSMEM2'</li><li>'MAP4'</li></ol>\n"
      ],
      "text/latex": [
       "\\begin{enumerate*}\n",
       "\\item 'PLXNB1'\n",
       "\\item 'MON1A'\n",
       "\\item 'LSMEM2'\n",
       "\\item 'MAP4'\n",
       "\\end{enumerate*}\n"
      ],
      "text/markdown": [
       "1. 'PLXNB1'\n",
       "2. 'MON1A'\n",
       "3. 'LSMEM2'\n",
       "4. 'MAP4'\n",
       "\n",
       "\n"
      ],
      "text/plain": [
       "[1] \"PLXNB1\" \"MON1A\"  \"LSMEM2\" \"MAP4\"  "
      ]
     },
     "metadata": {},
     "output_type": "display_data"
    }
   ],
   "source": [
    "intersect(AD1$gene_name, TL1$gene_name)"
   ]
  },
  {
   "cell_type": "code",
   "execution_count": 76,
   "id": "9852bd08-bb36-4d63-86d2-d08e23687f6d",
   "metadata": {},
   "outputs": [
    {
     "data": {
      "text/html": [
       "<style>\n",
       ".list-inline {list-style: none; margin:0; padding: 0}\n",
       ".list-inline>li {display: inline-block}\n",
       ".list-inline>li:not(:last-child)::after {content: \"\\00b7\"; padding: 0 .5ex}\n",
       "</style>\n",
       "<ol class=list-inline><li>'AMZ1'</li><li>'GNA12'</li></ol>\n"
      ],
      "text/latex": [
       "\\begin{enumerate*}\n",
       "\\item 'AMZ1'\n",
       "\\item 'GNA12'\n",
       "\\end{enumerate*}\n"
      ],
      "text/markdown": [
       "1. 'AMZ1'\n",
       "2. 'GNA12'\n",
       "\n",
       "\n"
      ],
      "text/plain": [
       "[1] \"AMZ1\"  \"GNA12\""
      ]
     },
     "metadata": {},
     "output_type": "display_data"
    }
   ],
   "source": [
    "intersect(AD1_gene, Aging1_gene)"
   ]
  },
  {
   "cell_type": "code",
   "execution_count": 77,
   "id": "4e1d1688-0bc4-4fa0-9902-654f3392bca5",
   "metadata": {},
   "outputs": [
    {
     "data": {
      "text/html": [
       "<style>\n",
       ".list-inline {list-style: none; margin:0; padding: 0}\n",
       ".list-inline>li {display: inline-block}\n",
       ".list-inline>li:not(:last-child)::after {content: \"\\00b7\"; padding: 0 .5ex}\n",
       "</style>\n",
       "<ol class=list-inline><li>'XKR6'</li><li>'PINX1'</li><li>'ARL4C'</li></ol>\n"
      ],
      "text/latex": [
       "\\begin{enumerate*}\n",
       "\\item 'XKR6'\n",
       "\\item 'PINX1'\n",
       "\\item 'ARL4C'\n",
       "\\end{enumerate*}\n"
      ],
      "text/markdown": [
       "1. 'XKR6'\n",
       "2. 'PINX1'\n",
       "3. 'ARL4C'\n",
       "\n",
       "\n"
      ],
      "text/plain": [
       "[1] \"XKR6\"  \"PINX1\" \"ARL4C\""
      ]
     },
     "metadata": {},
     "output_type": "display_data"
    }
   ],
   "source": [
    "intersect(AD1_gene, Aging2_gene)"
   ]
  },
  {
   "cell_type": "code",
   "execution_count": 78,
   "id": "e2e542d5-49f7-4a7d-b67e-d95f6cf6d829",
   "metadata": {},
   "outputs": [
    {
     "data": {
      "text/html": [
       "<style>\n",
       ".list-inline {list-style: none; margin:0; padding: 0}\n",
       ".list-inline>li {display: inline-block}\n",
       ".list-inline>li:not(:last-child)::after {content: \"\\00b7\"; padding: 0 .5ex}\n",
       "</style>\n",
       "<ol class=list-inline><li>'ARID4A'</li><li>'PSMA3'</li><li>'XKR6'</li><li>'PINX1'</li><li>'ERI1'</li><li>'MFHAS1'</li><li>'ARMH4'</li><li>'UGT2B7'</li><li>'KDM2B'</li></ol>\n"
      ],
      "text/latex": [
       "\\begin{enumerate*}\n",
       "\\item 'ARID4A'\n",
       "\\item 'PSMA3'\n",
       "\\item 'XKR6'\n",
       "\\item 'PINX1'\n",
       "\\item 'ERI1'\n",
       "\\item 'MFHAS1'\n",
       "\\item 'ARMH4'\n",
       "\\item 'UGT2B7'\n",
       "\\item 'KDM2B'\n",
       "\\end{enumerate*}\n"
      ],
      "text/markdown": [
       "1. 'ARID4A'\n",
       "2. 'PSMA3'\n",
       "3. 'XKR6'\n",
       "4. 'PINX1'\n",
       "5. 'ERI1'\n",
       "6. 'MFHAS1'\n",
       "7. 'ARMH4'\n",
       "8. 'UGT2B7'\n",
       "9. 'KDM2B'\n",
       "\n",
       "\n"
      ],
      "text/plain": [
       "[1] \"ARID4A\" \"PSMA3\"  \"XKR6\"   \"PINX1\"  \"ERI1\"   \"MFHAS1\" \"ARMH4\"  \"UGT2B7\"\n",
       "[9] \"KDM2B\" "
      ]
     },
     "metadata": {},
     "output_type": "display_data"
    }
   ],
   "source": [
    "intersect(AD1_gene, Aging3_gene)"
   ]
  },
  {
   "cell_type": "code",
   "execution_count": 79,
   "id": "679277fd-2a5c-4837-9993-80bf2e08275b",
   "metadata": {},
   "outputs": [
    {
     "data": {
      "text/html": [
       "<style>\n",
       ".list-inline {list-style: none; margin:0; padding: 0}\n",
       ".list-inline>li {display: inline-block}\n",
       ".list-inline>li:not(:last-child)::after {content: \"\\00b7\"; padding: 0 .5ex}\n",
       "</style>\n",
       "<ol class=list-inline><li>'ENPP2'</li><li>'AMZ1'</li><li>'GNA12'</li></ol>\n"
      ],
      "text/latex": [
       "\\begin{enumerate*}\n",
       "\\item 'ENPP2'\n",
       "\\item 'AMZ1'\n",
       "\\item 'GNA12'\n",
       "\\end{enumerate*}\n"
      ],
      "text/markdown": [
       "1. 'ENPP2'\n",
       "2. 'AMZ1'\n",
       "3. 'GNA12'\n",
       "\n",
       "\n"
      ],
      "text/plain": [
       "[1] \"ENPP2\" \"AMZ1\"  \"GNA12\""
      ]
     },
     "metadata": {},
     "output_type": "display_data"
    }
   ],
   "source": [
    "intersect(AD1_gene, Aging4_gene)"
   ]
  },
  {
   "cell_type": "code",
   "execution_count": 80,
   "id": "3230021b-2139-4f69-b07c-d80d5825087f",
   "metadata": {},
   "outputs": [
    {
     "data": {
      "text/html": [
       "<style>\n",
       ".list-inline {list-style: none; margin:0; padding: 0}\n",
       ".list-inline>li {display: inline-block}\n",
       ".list-inline>li:not(:last-child)::after {content: \"\\00b7\"; padding: 0 .5ex}\n",
       "</style>\n",
       "<ol class=list-inline><li>'SCAP'</li><li>'ARL3'</li><li>'NBEAL2'</li><li>'PDCD11'</li><li>'CCDC12'</li><li>'ELP6'</li><li>'AMZ1'</li><li>'GNA12'</li></ol>\n"
      ],
      "text/latex": [
       "\\begin{enumerate*}\n",
       "\\item 'SCAP'\n",
       "\\item 'ARL3'\n",
       "\\item 'NBEAL2'\n",
       "\\item 'PDCD11'\n",
       "\\item 'CCDC12'\n",
       "\\item 'ELP6'\n",
       "\\item 'AMZ1'\n",
       "\\item 'GNA12'\n",
       "\\end{enumerate*}\n"
      ],
      "text/markdown": [
       "1. 'SCAP'\n",
       "2. 'ARL3'\n",
       "3. 'NBEAL2'\n",
       "4. 'PDCD11'\n",
       "5. 'CCDC12'\n",
       "6. 'ELP6'\n",
       "7. 'AMZ1'\n",
       "8. 'GNA12'\n",
       "\n",
       "\n"
      ],
      "text/plain": [
       "[1] \"SCAP\"   \"ARL3\"   \"NBEAL2\" \"PDCD11\" \"CCDC12\" \"ELP6\"   \"AMZ1\"   \"GNA12\" "
      ]
     },
     "metadata": {},
     "output_type": "display_data"
    }
   ],
   "source": [
    "intersect(AD1_gene, Aging5_gene)"
   ]
  },
  {
   "cell_type": "code",
   "execution_count": 81,
   "id": "089c405e-e1ab-4d48-bf30-2dbbcc3cef56",
   "metadata": {},
   "outputs": [
    {
     "data": {
      "text/html": [
       "<style>\n",
       ".list-inline {list-style: none; margin:0; padding: 0}\n",
       ".list-inline>li {display: inline-block}\n",
       ".list-inline>li:not(:last-child)::after {content: \"\\00b7\"; padding: 0 .5ex}\n",
       "</style>\n",
       "<ol class=list-inline><li>'CENPW'</li><li>'TNF'</li></ol>\n"
      ],
      "text/latex": [
       "\\begin{enumerate*}\n",
       "\\item 'CENPW'\n",
       "\\item 'TNF'\n",
       "\\end{enumerate*}\n"
      ],
      "text/markdown": [
       "1. 'CENPW'\n",
       "2. 'TNF'\n",
       "\n",
       "\n"
      ],
      "text/plain": [
       "[1] \"CENPW\" \"TNF\"  "
      ]
     },
     "metadata": {},
     "output_type": "display_data"
    }
   ],
   "source": [
    "intersect(Aging3_gene, Aging5_gene)"
   ]
  },
  {
   "cell_type": "markdown",
   "id": "8720b791-ca4e-432d-ae26-5105bd7de2b8",
   "metadata": {},
   "source": [
    "CENPV is deubiquitylated by CYLD and localizes in interphase to primary cilia where it increases the ciliary levels of acetylated α-tubulin.\n",
    "Cenpj, a protein that is required for centriole biogenesis, plays a role in regulating cilium disassembly in vivo..\n",
    "CENPW's role in cillia is less direct and well-characterized."
   ]
  },
  {
   "cell_type": "code",
   "execution_count": 82,
   "id": "b3aef3a1-b9e6-49c3-a622-fabfeb46a119",
   "metadata": {},
   "outputs": [
    {
     "data": {
      "text/html": [
       "<style>\n",
       ".list-inline {list-style: none; margin:0; padding: 0}\n",
       ".list-inline>li {display: inline-block}\n",
       ".list-inline>li:not(:last-child)::after {content: \"\\00b7\"; padding: 0 .5ex}\n",
       "</style>\n",
       "<ol class=list-inline><li>'GDF5'</li><li>'PINX1'</li><li>'UQCC1'</li></ol>\n"
      ],
      "text/latex": [
       "\\begin{enumerate*}\n",
       "\\item 'GDF5'\n",
       "\\item 'PINX1'\n",
       "\\item 'UQCC1'\n",
       "\\end{enumerate*}\n"
      ],
      "text/markdown": [
       "1. 'GDF5'\n",
       "2. 'PINX1'\n",
       "3. 'UQCC1'\n",
       "\n",
       "\n"
      ],
      "text/plain": [
       "[1] \"GDF5\"  \"PINX1\" \"UQCC1\""
      ]
     },
     "metadata": {},
     "output_type": "display_data"
    }
   ],
   "source": [
    "intersect(AD1_gene, AD2_gene)"
   ]
  },
  {
   "cell_type": "markdown",
   "id": "94bb2014-9283-4ed0-b51b-289f09ed9866",
   "metadata": {},
   "source": [
    "no overlap between AD2 and image_Aging1, Aging3 or Aging5"
   ]
  },
  {
   "cell_type": "code",
   "execution_count": 83,
   "id": "0799a2ae-bbb6-4a0b-a1ab-bc3c9c095061",
   "metadata": {},
   "outputs": [
    {
     "data": {
      "text/html": [],
      "text/latex": [],
      "text/markdown": [],
      "text/plain": [
       "character(0)"
      ]
     },
     "metadata": {},
     "output_type": "display_data"
    }
   ],
   "source": [
    "intersect(Aging1_gene, AD2_gene)"
   ]
  },
  {
   "cell_type": "code",
   "execution_count": 84,
   "id": "455b0c44-c671-4908-8999-6f5c70544985",
   "metadata": {},
   "outputs": [
    {
     "data": {
      "text/html": [
       "<style>\n",
       ".list-inline {list-style: none; margin:0; padding: 0}\n",
       ".list-inline>li {display: inline-block}\n",
       ".list-inline>li:not(:last-child)::after {content: \"\\00b7\"; padding: 0 .5ex}\n",
       "</style>\n",
       "<ol class=list-inline><li>'TESC'</li><li>'LEMD3'</li><li>'XPOT'</li><li>'MDK'</li><li>'FBXW8'</li><li>'PAN2'</li><li>'MSRB3'</li><li>'NPIPB13'</li><li>'MAP3K14'</li><li>'RNFT2'</li><li>'MAEL'</li><li>'VCAN'</li><li>'NACAD'</li><li>'FBXO21'</li><li>'FAF1'</li><li>'TMEM170B'</li><li>'PINX1'</li><li>'MAST4'</li><li>'TNIP1'</li><li>'SOHLH2'</li><li>'CCDC169-SOHLH2'</li><li>'CCDC169'</li><li>'SPART'</li></ol>\n"
      ],
      "text/latex": [
       "\\begin{enumerate*}\n",
       "\\item 'TESC'\n",
       "\\item 'LEMD3'\n",
       "\\item 'XPOT'\n",
       "\\item 'MDK'\n",
       "\\item 'FBXW8'\n",
       "\\item 'PAN2'\n",
       "\\item 'MSRB3'\n",
       "\\item 'NPIPB13'\n",
       "\\item 'MAP3K14'\n",
       "\\item 'RNFT2'\n",
       "\\item 'MAEL'\n",
       "\\item 'VCAN'\n",
       "\\item 'NACAD'\n",
       "\\item 'FBXO21'\n",
       "\\item 'FAF1'\n",
       "\\item 'TMEM170B'\n",
       "\\item 'PINX1'\n",
       "\\item 'MAST4'\n",
       "\\item 'TNIP1'\n",
       "\\item 'SOHLH2'\n",
       "\\item 'CCDC169-SOHLH2'\n",
       "\\item 'CCDC169'\n",
       "\\item 'SPART'\n",
       "\\end{enumerate*}\n"
      ],
      "text/markdown": [
       "1. 'TESC'\n",
       "2. 'LEMD3'\n",
       "3. 'XPOT'\n",
       "4. 'MDK'\n",
       "5. 'FBXW8'\n",
       "6. 'PAN2'\n",
       "7. 'MSRB3'\n",
       "8. 'NPIPB13'\n",
       "9. 'MAP3K14'\n",
       "10. 'RNFT2'\n",
       "11. 'MAEL'\n",
       "12. 'VCAN'\n",
       "13. 'NACAD'\n",
       "14. 'FBXO21'\n",
       "15. 'FAF1'\n",
       "16. 'TMEM170B'\n",
       "17. 'PINX1'\n",
       "18. 'MAST4'\n",
       "19. 'TNIP1'\n",
       "20. 'SOHLH2'\n",
       "21. 'CCDC169-SOHLH2'\n",
       "22. 'CCDC169'\n",
       "23. 'SPART'\n",
       "\n",
       "\n"
      ],
      "text/plain": [
       " [1] \"TESC\"           \"LEMD3\"          \"XPOT\"           \"MDK\"           \n",
       " [5] \"FBXW8\"          \"PAN2\"           \"MSRB3\"          \"NPIPB13\"       \n",
       " [9] \"MAP3K14\"        \"RNFT2\"          \"MAEL\"           \"VCAN\"          \n",
       "[13] \"NACAD\"          \"FBXO21\"         \"FAF1\"           \"TMEM170B\"      \n",
       "[17] \"PINX1\"          \"MAST4\"          \"TNIP1\"          \"SOHLH2\"        \n",
       "[21] \"CCDC169-SOHLH2\" \"CCDC169\"        \"SPART\"         "
      ]
     },
     "metadata": {},
     "output_type": "display_data"
    }
   ],
   "source": [
    "intersect(Aging2_gene, AD2_gene)"
   ]
  },
  {
   "cell_type": "markdown",
   "id": "5b24b77d-09c1-4310-9440-0698fc284999",
   "metadata": {},
   "source": [
    "Loss-of-function mutations in the SPART gene cause Troyer syndrome, a recessive form of spastic paraplegia resulting in muscle weakness, short stature, and cognitive defects. SPART encodes for Spartin, a protein linked to endosomal trafficking and mitochondrial membrane potential maintenance. Here, we identified with whole exome sequencing (WES) a novel frameshift mutation in the SPART gene in 2 brothers presenting an uncharacterized developmental delay and short stature. Functional characterization in an SH-SY5Y cell model shows that this mutation is associated with increased neurite outgrowth. These cells also show a marked decrease in mitochondrial complex I (NADH dehydrogenase) activity, coupled to decreased ATP synthesis and defective mitochondrial membrane potential. The cells also presented an increase in reactive oxygen species, extracellular pyruvate, and NADH levels, consistent with impaired complex I activity. In concordance with a severe mitochondrial failure, Spartin loss also led to an altered intracellular Ca2+ homeostasis that was restored after transient expression of wild-type Spartin. "
   ]
  },
  {
   "cell_type": "code",
   "execution_count": 85,
   "id": "2e149ca3-1e0d-4be3-8d18-a298743f333b",
   "metadata": {},
   "outputs": [
    {
     "data": {
      "text/html": [
       "<style>\n",
       ".list-inline {list-style: none; margin:0; padding: 0}\n",
       ".list-inline>li {display: inline-block}\n",
       ".list-inline>li:not(:last-child)::after {content: \"\\00b7\"; padding: 0 .5ex}\n",
       "</style>\n",
       "<ol class=list-inline><li>'SPTBN1'</li><li>'MSRB3'</li><li>'PINX1'</li><li>'PLEKHM1'</li><li>'STH'</li><li>'KANSL1'</li><li>'LRRC37A'</li><li>'LRRC37A2'</li><li>'ARL17A'</li><li>'NSF'</li></ol>\n"
      ],
      "text/latex": [
       "\\begin{enumerate*}\n",
       "\\item 'SPTBN1'\n",
       "\\item 'MSRB3'\n",
       "\\item 'PINX1'\n",
       "\\item 'PLEKHM1'\n",
       "\\item 'STH'\n",
       "\\item 'KANSL1'\n",
       "\\item 'LRRC37A'\n",
       "\\item 'LRRC37A2'\n",
       "\\item 'ARL17A'\n",
       "\\item 'NSF'\n",
       "\\end{enumerate*}\n"
      ],
      "text/markdown": [
       "1. 'SPTBN1'\n",
       "2. 'MSRB3'\n",
       "3. 'PINX1'\n",
       "4. 'PLEKHM1'\n",
       "5. 'STH'\n",
       "6. 'KANSL1'\n",
       "7. 'LRRC37A'\n",
       "8. 'LRRC37A2'\n",
       "9. 'ARL17A'\n",
       "10. 'NSF'\n",
       "\n",
       "\n"
      ],
      "text/plain": [
       " [1] \"SPTBN1\"   \"MSRB3\"    \"PINX1\"    \"PLEKHM1\"  \"STH\"      \"KANSL1\"  \n",
       " [7] \"LRRC37A\"  \"LRRC37A2\" \"ARL17A\"   \"NSF\"     "
      ]
     },
     "metadata": {},
     "output_type": "display_data"
    }
   ],
   "source": [
    "intersect(Aging3_gene, AD2_gene)"
   ]
  },
  {
   "cell_type": "code",
   "execution_count": 86,
   "id": "cac0b3fd-4728-474f-8c63-74b8b7795abe",
   "metadata": {},
   "outputs": [
    {
     "data": {
      "text/html": [
       "<style>\n",
       ".list-inline {list-style: none; margin:0; padding: 0}\n",
       ".list-inline>li {display: inline-block}\n",
       ".list-inline>li:not(:last-child)::after {content: \"\\00b7\"; padding: 0 .5ex}\n",
       "</style>\n",
       "<ol class=list-inline><li>'ERO1B'</li><li>'AP3B1'</li><li>'NABP2'</li><li>'ANKRD52'</li><li>'COQ10A'</li><li>'CS'</li><li>'CNPY2'</li><li>'PAN2'</li><li>'IL23A'</li><li>'STAT2'</li></ol>\n"
      ],
      "text/latex": [
       "\\begin{enumerate*}\n",
       "\\item 'ERO1B'\n",
       "\\item 'AP3B1'\n",
       "\\item 'NABP2'\n",
       "\\item 'ANKRD52'\n",
       "\\item 'COQ10A'\n",
       "\\item 'CS'\n",
       "\\item 'CNPY2'\n",
       "\\item 'PAN2'\n",
       "\\item 'IL23A'\n",
       "\\item 'STAT2'\n",
       "\\end{enumerate*}\n"
      ],
      "text/markdown": [
       "1. 'ERO1B'\n",
       "2. 'AP3B1'\n",
       "3. 'NABP2'\n",
       "4. 'ANKRD52'\n",
       "5. 'COQ10A'\n",
       "6. 'CS'\n",
       "7. 'CNPY2'\n",
       "8. 'PAN2'\n",
       "9. 'IL23A'\n",
       "10. 'STAT2'\n",
       "\n",
       "\n"
      ],
      "text/plain": [
       " [1] \"ERO1B\"   \"AP3B1\"   \"NABP2\"   \"ANKRD52\" \"COQ10A\"  \"CS\"      \"CNPY2\"  \n",
       " [8] \"PAN2\"    \"IL23A\"   \"STAT2\"  "
      ]
     },
     "metadata": {},
     "output_type": "display_data"
    }
   ],
   "source": [
    "intersect(Aging4_gene, AD2_gene)"
   ]
  },
  {
   "cell_type": "code",
   "execution_count": 87,
   "id": "dfdcec75-2058-4142-8082-5cf732d89982",
   "metadata": {},
   "outputs": [
    {
     "data": {
      "text/html": [
       "<style>\n",
       ".list-inline {list-style: none; margin:0; padding: 0}\n",
       ".list-inline>li {display: inline-block}\n",
       ".list-inline>li:not(:last-child)::after {content: \"\\00b7\"; padding: 0 .5ex}\n",
       "</style>\n",
       "<ol class=list-inline><li>'AL021997.2'</li><li>'ZNF311'</li><li>'H2AC4'</li><li>'CSNK2B'</li><li>'LY6G6C'</li><li>'C4B'</li><li>'DUSP3'</li><li>'H4C13'</li><li>'ZKSCAN4'</li><li>'ZKSCAN3'</li><li>'MSH5'</li></ol>\n"
      ],
      "text/latex": [
       "\\begin{enumerate*}\n",
       "\\item 'AL021997.2'\n",
       "\\item 'ZNF311'\n",
       "\\item 'H2AC4'\n",
       "\\item 'CSNK2B'\n",
       "\\item 'LY6G6C'\n",
       "\\item 'C4B'\n",
       "\\item 'DUSP3'\n",
       "\\item 'H4C13'\n",
       "\\item 'ZKSCAN4'\n",
       "\\item 'ZKSCAN3'\n",
       "\\item 'MSH5'\n",
       "\\end{enumerate*}\n"
      ],
      "text/markdown": [
       "1. 'AL021997.2'\n",
       "2. 'ZNF311'\n",
       "3. 'H2AC4'\n",
       "4. 'CSNK2B'\n",
       "5. 'LY6G6C'\n",
       "6. 'C4B'\n",
       "7. 'DUSP3'\n",
       "8. 'H4C13'\n",
       "9. 'ZKSCAN4'\n",
       "10. 'ZKSCAN3'\n",
       "11. 'MSH5'\n",
       "\n",
       "\n"
      ],
      "text/plain": [
       " [1] \"AL021997.2\" \"ZNF311\"     \"H2AC4\"      \"CSNK2B\"     \"LY6G6C\"    \n",
       " [6] \"C4B\"        \"DUSP3\"      \"H4C13\"      \"ZKSCAN4\"    \"ZKSCAN3\"   \n",
       "[11] \"MSH5\"      "
      ]
     },
     "metadata": {},
     "output_type": "display_data"
    }
   ],
   "source": [
    "intersect(Aging5_gene, AD2_gene)"
   ]
  },
  {
   "cell_type": "code",
   "execution_count": 88,
   "id": "ad35655a-bee4-44e4-93f1-d762a1b61ad2",
   "metadata": {},
   "outputs": [
    {
     "data": {
      "text/html": [
       "<style>\n",
       ".list-inline {list-style: none; margin:0; padding: 0}\n",
       ".list-inline>li {display: inline-block}\n",
       ".list-inline>li:not(:last-child)::after {content: \"\\00b7\"; padding: 0 .5ex}\n",
       "</style>\n",
       "<ol class=list-inline><li>'CENPW'</li><li>'ENO4'</li><li>'SHTN1'</li><li>'SEZ6L2'</li><li>'DNAJC5'</li></ol>\n"
      ],
      "text/latex": [
       "\\begin{enumerate*}\n",
       "\\item 'CENPW'\n",
       "\\item 'ENO4'\n",
       "\\item 'SHTN1'\n",
       "\\item 'SEZ6L2'\n",
       "\\item 'DNAJC5'\n",
       "\\end{enumerate*}\n"
      ],
      "text/markdown": [
       "1. 'CENPW'\n",
       "2. 'ENO4'\n",
       "3. 'SHTN1'\n",
       "4. 'SEZ6L2'\n",
       "5. 'DNAJC5'\n",
       "\n",
       "\n"
      ],
      "text/plain": [
       "[1] \"CENPW\"  \"ENO4\"   \"SHTN1\"  \"SEZ6L2\" \"DNAJC5\""
      ]
     },
     "metadata": {},
     "output_type": "display_data"
    }
   ],
   "source": [
    "intersect(Aging3_gene, Aging1_gene)"
   ]
  },
  {
   "cell_type": "code",
   "execution_count": 89,
   "id": "77f4627a-5648-4ae7-b4e0-4d07f695b82c",
   "metadata": {},
   "outputs": [
    {
     "data": {
      "text/html": [
       "'H4C12'"
      ],
      "text/latex": [
       "'H4C12'"
      ],
      "text/markdown": [
       "'H4C12'"
      ],
      "text/plain": [
       "[1] \"H4C12\""
      ]
     },
     "metadata": {},
     "output_type": "display_data"
    }
   ],
   "source": [
    "intersect(Aging5_gene, 'H4C12')"
   ]
  },
  {
   "cell_type": "code",
   "execution_count": 54,
   "id": "e48a3d52-6d77-40e2-9106-ebea3420f453",
   "metadata": {},
   "outputs": [
    {
     "ename": "ERROR",
     "evalue": "Error: object 'AD_gene' not found\n",
     "output_type": "error",
     "traceback": [
      "Error: object 'AD_gene' not found\nTraceback:\n"
     ]
    }
   ],
   "source": [
    "library(UpSetR)\n",
    "# Create named list of gene sets\n",
    "gene_sets <- list(\n",
    "  \"AD1\" = AD1_gene,\n",
    "  \"AD2\" = AD2_gene, \n",
    "  \"Aging1\" = Aging1_gene,\n",
    "  \"Aging2\" = Aging2_gene,\n",
    "  \"Aging3\" = Aging3_gene,\n",
    "  \"Aging4\" = Aging4_gene,\n",
    "  \"Aging5\" = Aging5_gene,\n",
    "  \"AD\" = AD_gene,\n",
    "  \"Telomere_Length_PC1\" = TL1_gene,\n",
    "  \"mvAge\" = mvAge_gene,\n",
    "  \"PD\" = PD_gene\n",
    ")\n",
    "\n",
    "# Remove any NA values\n",
    "gene_sets <- lapply(gene_sets, function(x) x[!is.na(x)])\n",
    "# Convert to binary matrix for UpSet plot\n",
    "all_genes <- unique(unlist(gene_sets))\n",
    "upset_data <- data.frame(gene = all_genes)\n",
    "\n",
    "for(set_name in names(gene_sets)) {\n",
    "  upset_data[[set_name]] <- upset_data$gene %in% gene_sets[[set_name]]\n",
    "}\n",
    "str(gene_sets)\n",
    "# Convert to proper format for UpSetR\n",
    "upset_r_data <- upset_data\n",
    "# Remove the 'gene' column and convert to 0/1 instead of TRUE/FALSE\n",
    "upset_r_data <- upset_r_data[, -1]  # Remove gene column\n",
    "upset_r_data <- as.data.frame(lapply(upset_r_data, as.numeric))\n",
    "\n",
    "# Add row names if needed\n",
    "rownames(upset_r_data) <- upset_data$gene\n",
    "\n",
    "# Create UpSetR plot with proper error handling\n",
    "tryCatch({\n",
    "  upset_r_plot <- upset(upset_r_data, \n",
    "                       sets = names(gene_sets),\n",
    "                       order.by = \"freq\",\n",
    "                       decreasing = TRUE,\n",
    "                       mb.ratio = c(0.6, 0.4),\n",
    "                       number.angles = 0,\n",
    "                       text.scale = 1.2,\n",
    "                       point.size = 3,\n",
    "                       line.size = 1.5,\n",
    "                       mainbar.y.label = \"Intersection Size\",\n",
    "                       sets.x.label = \"Gene Set Size\",\n",
    "                       sets.bar.color = \"steelblue\",\n",
    "                       main.bar.color = \"darkblue\")\n",
    "  \n",
    "  cat(\"UpSetR plot created successfully\\n\")\n",
    "}, error = function(e) {\n",
    "  cat(\"UpSetR failed, using alternative method\\n\")\n",
    "  \n",
    "  # Alternative: Create a simple intersection matrix\n",
    "  intersection_matrix <- matrix(0, nrow = length(unique(DNE$gene_name)), ncol = length(gene_sets))\n",
    "  rownames(intersection_matrix) <- unique(DNE$gene_name)\n",
    "  colnames(intersection_matrix) <- names(gene_sets)\n",
    "  \n",
    "  for(i in 1:length(gene_sets)) {\n",
    "    intersection_matrix[unique(DNE$gene_name) %in% gene_sets[[i]], i] <- 1\n",
    "  }\n",
    "  \n",
    "  print(head(intersection_matrix))\n",
    "})\n"
   ]
  },
  {
   "cell_type": "code",
   "execution_count": 27,
   "id": "43e916b6-e8eb-47e5-93cb-b7fbe62c0ba2",
   "metadata": {},
   "outputs": [
    {
     "data": {
      "text/html": [
       "<strong>agg_record_90406976:</strong> 2"
      ],
      "text/latex": [
       "\\textbf{agg\\textbackslash{}\\_record\\textbackslash{}\\_90406976:} 2"
      ],
      "text/markdown": [
       "**agg_record_90406976:** 2"
      ],
      "text/plain": [
       "agg_record_90406976 \n",
       "                  2 "
      ]
     },
     "metadata": {},
     "output_type": "display_data"
    }
   ],
   "source": [
    "png(\"~/xqtl-analysis/production/image_QTL/interested_genes/CB_M1/DNE/all_gene_overlap_upset_plot.png\", width = 12, height = 8, units = \"in\", res = 300)\n",
    "print(upset_r_plot)\n",
    "dev.off()\n"
   ]
  }
 ],
 "metadata": {
  "kernelspec": {
   "display_name": "R",
   "language": "R",
   "name": "ir"
  },
  "language_info": {
   "codemirror_mode": "r",
   "file_extension": ".r",
   "mimetype": "text/x-r-source",
   "name": "R",
   "pygments_lexer": "r",
   "version": "4.3.3"
  }
 },
 "nbformat": 4,
 "nbformat_minor": 5
}
