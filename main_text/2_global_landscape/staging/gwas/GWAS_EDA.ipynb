{
 "cells": [
  {
   "cell_type": "markdown",
   "metadata": {},
   "source": [
    "# Summary of GWAS summary statistics\n",
    "\n",
    "## Overlap between variants\n",
    "\n",
    "**Variant Distribution in the AD/Aging Universe**\n",
    "*(Total unique variants = 8,519,817; representing 100%)*\n",
    "\n",
    "* **AD-only variants:**\n",
    "  32,724 variants (0.38% of total)\n",
    "\n",
    "* **Aging-only variants:**\n",
    "  1,156,287 variants (13.57% of total)\n",
    "\n",
    "* **AD and Aging overlap (excluding three-way overlap):**\n",
    "  3,832,093 variants (44.98% of total)\n",
    "\n",
    "* **AD and Bellenguez overlap (excluding three-way overlap):**\n",
    "  20,144 variants (0.24% of total)\n",
    "\n",
    "* **Aging and Bellenguez overlap (excluding three-way overlap):**\n",
    "  887,776 variants (10.42% of total)\n",
    "\n",
    "* **Three-way overlap (AD, Aging, and Bellenguez):**\n",
    "  2,590,793 variants (30.41% of total)\n",
    "\n",
    "## GVC gene explained by significant variants in GWAS sumstats\n",
    "\n",
    "* Athough p-value thresholds for defining significant variants are not standardized across studies.\n",
    "* Under this criteria, only **ABI3 gene** can be explained by the **Aging5** GWAS sumstats."
   ]
  },
  {
   "cell_type": "code",
   "execution_count": 1,
   "metadata": {
    "vscode": {
     "languageId": "r"
    }
   },
   "outputs": [
    {
     "name": "stderr",
     "output_type": "stream",
     "text": [
      "── \u001b[1mAttaching core tidyverse packages\u001b[22m ──────────────────────── tidyverse 2.0.0 ──\n",
      "\u001b[32m✔\u001b[39m \u001b[34mdplyr    \u001b[39m 1.1.4     \u001b[32m✔\u001b[39m \u001b[34mreadr    \u001b[39m 2.1.5\n",
      "\u001b[32m✔\u001b[39m \u001b[34mforcats  \u001b[39m 1.0.0     \u001b[32m✔\u001b[39m \u001b[34mstringr  \u001b[39m 1.5.1\n",
      "\u001b[32m✔\u001b[39m \u001b[34mggplot2  \u001b[39m 3.5.2     \u001b[32m✔\u001b[39m \u001b[34mtibble   \u001b[39m 3.2.1\n",
      "\u001b[32m✔\u001b[39m \u001b[34mlubridate\u001b[39m 1.9.4     \u001b[32m✔\u001b[39m \u001b[34mtidyr    \u001b[39m 1.3.1\n",
      "\u001b[32m✔\u001b[39m \u001b[34mpurrr    \u001b[39m 1.0.4     \n",
      "── \u001b[1mConflicts\u001b[22m ────────────────────────────────────────── tidyverse_conflicts() ──\n",
      "\u001b[31m✖\u001b[39m \u001b[34mdplyr\u001b[39m::\u001b[32mfilter()\u001b[39m masks \u001b[34mstats\u001b[39m::filter()\n",
      "\u001b[31m✖\u001b[39m \u001b[34mdplyr\u001b[39m::\u001b[32mlag()\u001b[39m    masks \u001b[34mstats\u001b[39m::lag()\n",
      "\u001b[36mℹ\u001b[39m Use the conflicted package (\u001b[3m\u001b[34m<http://conflicted.r-lib.org/>\u001b[39m\u001b[23m) to force all conflicts to become errors\n",
      "\n",
      "Attaching package: ‘data.table’\n",
      "\n",
      "\n",
      "The following objects are masked from ‘package:lubridate’:\n",
      "\n",
      "    hour, isoweek, mday, minute, month, quarter, second, wday, week,\n",
      "    yday, year\n",
      "\n",
      "\n",
      "The following objects are masked from ‘package:dplyr’:\n",
      "\n",
      "    between, first, last\n",
      "\n",
      "\n",
      "The following object is masked from ‘package:purrr’:\n",
      "\n",
      "    transpose\n",
      "\n",
      "\n"
     ]
    }
   ],
   "source": [
    "library(tidyverse)\n",
    "library(data.table)\n"
   ]
  },
  {
   "cell_type": "code",
   "execution_count": 2,
   "metadata": {
    "vscode": {
     "languageId": "r"
    }
   },
   "outputs": [],
   "source": [
    "AD1 = fread(\"/home/rl3328/image_GWAS/new/image_AD1.sorted.gz\")\n",
    "Aging1 = fread(\"/home/rl3328/image_GWAS/new/image_Aging1.sorted.gz\")\n"
   ]
  },
  {
   "cell_type": "code",
   "execution_count": 20,
   "metadata": {
    "vscode": {
     "languageId": "r"
    }
   },
   "outputs": [],
   "source": [
    "AD1 = AD1 |> mutate(variant_ID = paste0(`#CHROM`, \":\", POS, \":\", A2, \":\", A1))\n",
    "Aging1 = Aging1 |> mutate(variant_ID = paste0(`#CHROM`, \":\", POS, \":\", A2, \":\", A1))"
   ]
  },
  {
   "cell_type": "code",
   "execution_count": 50,
   "metadata": {
    "vscode": {
     "languageId": "r"
    }
   },
   "outputs": [],
   "source": [
    "AD_variants = AD1$variant_ID\n",
    "Aging_variants = Aging1$variant_ID"
   ]
  },
  {
   "cell_type": "code",
   "execution_count": 22,
   "metadata": {
    "vscode": {
     "languageId": "r"
    }
   },
   "outputs": [],
   "source": [
    "bellenguez = fread(\"/mnt/vast/hpc/csg/data_public/GWAS_sumstats/GCST90027158_buildGRCh38.tsv.gz\")"
   ]
  },
  {
   "cell_type": "code",
   "execution_count": 23,
   "metadata": {
    "vscode": {
     "languageId": "r"
    }
   },
   "outputs": [
    {
     "data": {
      "text/html": [
       "<table class=\"dataframe\">\n",
       "<caption>A data.table: 6 × 17</caption>\n",
       "<thead>\n",
       "\t<tr><th scope=col>variant_id</th><th scope=col>p_value</th><th scope=col>chromosome</th><th scope=col>base_pair_location</th><th scope=col>effect_allele</th><th scope=col>other_allele</th><th scope=col>effect_allele_frequency</th><th scope=col>odds_ratio</th><th scope=col>ci_lower</th><th scope=col>ci_upper</th><th scope=col>beta</th><th scope=col>standard_error</th><th scope=col>n_cases</th><th scope=col>n_controls</th><th scope=col>het_isq</th><th scope=col>het_pvalue</th><th scope=col>variant_alternate_id</th></tr>\n",
       "\t<tr><th scope=col>&lt;chr&gt;</th><th scope=col>&lt;chr&gt;</th><th scope=col>&lt;int&gt;</th><th scope=col>&lt;int&gt;</th><th scope=col>&lt;chr&gt;</th><th scope=col>&lt;chr&gt;</th><th scope=col>&lt;dbl&gt;</th><th scope=col>&lt;dbl&gt;</th><th scope=col>&lt;dbl&gt;</th><th scope=col>&lt;dbl&gt;</th><th scope=col>&lt;dbl&gt;</th><th scope=col>&lt;dbl&gt;</th><th scope=col>&lt;int&gt;</th><th scope=col>&lt;int&gt;</th><th scope=col>&lt;dbl&gt;</th><th scope=col>&lt;dbl&gt;</th><th scope=col>&lt;chr&gt;</th></tr>\n",
       "</thead>\n",
       "<tbody>\n",
       "\t<tr><td>rs888953847 </td><td>0.9626</td><td>1</td><td>594445</td><td>T  </td><td>C</td><td>0.0006</td><td>0.985</td><td>0.522</td><td>1.857</td><td>-0.0152</td><td>0.3236</td><td>20301</td><td> 21839</td><td>0</td><td>1.0000</td><td>chr1:594445:C:T  </td></tr>\n",
       "\t<tr><td>rs1040232850</td><td>0.267 </td><td>1</td><td>595762</td><td>CTG</td><td>C</td><td>0.9986</td><td>0.779</td><td>0.502</td><td>1.210</td><td>-0.2494</td><td>0.2247</td><td>26798</td><td> 28624</td><td>0</td><td>0.5280</td><td>chr1:595762:CTG:C</td></tr>\n",
       "\t<tr><td>rs1390538076</td><td>0.8214</td><td>1</td><td>630947</td><td>A  </td><td>G</td><td>0.0003</td><td>1.102</td><td>0.473</td><td>2.571</td><td> 0.0975</td><td>0.4320</td><td>20301</td><td> 21839</td><td>0</td><td>1.0000</td><td>chr1:630947:G:A  </td></tr>\n",
       "\t<tr><td>rs1250812823</td><td>0.3411</td><td>1</td><td>646157</td><td>A  </td><td>G</td><td>0.0013</td><td>0.739</td><td>0.396</td><td>1.378</td><td>-0.3028</td><td>0.3180</td><td>20301</td><td> 21839</td><td>0</td><td>1.0000</td><td>chr1:646157:G:A  </td></tr>\n",
       "\t<tr><td>rs991450070 </td><td>0.3542</td><td>1</td><td>726526</td><td>C  </td><td>G</td><td>0.0011</td><td>1.342</td><td>0.721</td><td>2.498</td><td> 0.2938</td><td>0.3171</td><td>20301</td><td> 21839</td><td>0</td><td>1.0000</td><td>chr1:726526:G:C  </td></tr>\n",
       "\t<tr><td>rs151190501 </td><td>0.6424</td><td>1</td><td>727233</td><td>A  </td><td>G</td><td>0.0191</td><td>0.979</td><td>0.896</td><td>1.070</td><td>-0.0210</td><td>0.0453</td><td>81166</td><td>386644</td><td>0</td><td>0.9467</td><td>chr1:727233:G:A  </td></tr>\n",
       "</tbody>\n",
       "</table>\n"
      ],
      "text/latex": [
       "A data.table: 6 × 17\n",
       "\\begin{tabular}{lllllllllllllllll}\n",
       " variant\\_id & p\\_value & chromosome & base\\_pair\\_location & effect\\_allele & other\\_allele & effect\\_allele\\_frequency & odds\\_ratio & ci\\_lower & ci\\_upper & beta & standard\\_error & n\\_cases & n\\_controls & het\\_isq & het\\_pvalue & variant\\_alternate\\_id\\\\\n",
       " <chr> & <chr> & <int> & <int> & <chr> & <chr> & <dbl> & <dbl> & <dbl> & <dbl> & <dbl> & <dbl> & <int> & <int> & <dbl> & <dbl> & <chr>\\\\\n",
       "\\hline\n",
       "\t rs888953847  & 0.9626 & 1 & 594445 & T   & C & 0.0006 & 0.985 & 0.522 & 1.857 & -0.0152 & 0.3236 & 20301 &  21839 & 0 & 1.0000 & chr1:594445:C:T  \\\\\n",
       "\t rs1040232850 & 0.267  & 1 & 595762 & CTG & C & 0.9986 & 0.779 & 0.502 & 1.210 & -0.2494 & 0.2247 & 26798 &  28624 & 0 & 0.5280 & chr1:595762:CTG:C\\\\\n",
       "\t rs1390538076 & 0.8214 & 1 & 630947 & A   & G & 0.0003 & 1.102 & 0.473 & 2.571 &  0.0975 & 0.4320 & 20301 &  21839 & 0 & 1.0000 & chr1:630947:G:A  \\\\\n",
       "\t rs1250812823 & 0.3411 & 1 & 646157 & A   & G & 0.0013 & 0.739 & 0.396 & 1.378 & -0.3028 & 0.3180 & 20301 &  21839 & 0 & 1.0000 & chr1:646157:G:A  \\\\\n",
       "\t rs991450070  & 0.3542 & 1 & 726526 & C   & G & 0.0011 & 1.342 & 0.721 & 2.498 &  0.2938 & 0.3171 & 20301 &  21839 & 0 & 1.0000 & chr1:726526:G:C  \\\\\n",
       "\t rs151190501  & 0.6424 & 1 & 727233 & A   & G & 0.0191 & 0.979 & 0.896 & 1.070 & -0.0210 & 0.0453 & 81166 & 386644 & 0 & 0.9467 & chr1:727233:G:A  \\\\\n",
       "\\end{tabular}\n"
      ],
      "text/markdown": [
       "\n",
       "A data.table: 6 × 17\n",
       "\n",
       "| variant_id &lt;chr&gt; | p_value &lt;chr&gt; | chromosome &lt;int&gt; | base_pair_location &lt;int&gt; | effect_allele &lt;chr&gt; | other_allele &lt;chr&gt; | effect_allele_frequency &lt;dbl&gt; | odds_ratio &lt;dbl&gt; | ci_lower &lt;dbl&gt; | ci_upper &lt;dbl&gt; | beta &lt;dbl&gt; | standard_error &lt;dbl&gt; | n_cases &lt;int&gt; | n_controls &lt;int&gt; | het_isq &lt;dbl&gt; | het_pvalue &lt;dbl&gt; | variant_alternate_id &lt;chr&gt; |\n",
       "|---|---|---|---|---|---|---|---|---|---|---|---|---|---|---|---|---|\n",
       "| rs888953847  | 0.9626 | 1 | 594445 | T   | C | 0.0006 | 0.985 | 0.522 | 1.857 | -0.0152 | 0.3236 | 20301 |  21839 | 0 | 1.0000 | chr1:594445:C:T   |\n",
       "| rs1040232850 | 0.267  | 1 | 595762 | CTG | C | 0.9986 | 0.779 | 0.502 | 1.210 | -0.2494 | 0.2247 | 26798 |  28624 | 0 | 0.5280 | chr1:595762:CTG:C |\n",
       "| rs1390538076 | 0.8214 | 1 | 630947 | A   | G | 0.0003 | 1.102 | 0.473 | 2.571 |  0.0975 | 0.4320 | 20301 |  21839 | 0 | 1.0000 | chr1:630947:G:A   |\n",
       "| rs1250812823 | 0.3411 | 1 | 646157 | A   | G | 0.0013 | 0.739 | 0.396 | 1.378 | -0.3028 | 0.3180 | 20301 |  21839 | 0 | 1.0000 | chr1:646157:G:A   |\n",
       "| rs991450070  | 0.3542 | 1 | 726526 | C   | G | 0.0011 | 1.342 | 0.721 | 2.498 |  0.2938 | 0.3171 | 20301 |  21839 | 0 | 1.0000 | chr1:726526:G:C   |\n",
       "| rs151190501  | 0.6424 | 1 | 727233 | A   | G | 0.0191 | 0.979 | 0.896 | 1.070 | -0.0210 | 0.0453 | 81166 | 386644 | 0 | 0.9467 | chr1:727233:G:A   |\n",
       "\n"
      ],
      "text/plain": [
       "  variant_id   p_value chromosome base_pair_location effect_allele other_allele\n",
       "1 rs888953847  0.9626  1          594445             T             C           \n",
       "2 rs1040232850 0.267   1          595762             CTG           C           \n",
       "3 rs1390538076 0.8214  1          630947             A             G           \n",
       "4 rs1250812823 0.3411  1          646157             A             G           \n",
       "5 rs991450070  0.3542  1          726526             C             G           \n",
       "6 rs151190501  0.6424  1          727233             A             G           \n",
       "  effect_allele_frequency odds_ratio ci_lower ci_upper beta    standard_error\n",
       "1 0.0006                  0.985      0.522    1.857    -0.0152 0.3236        \n",
       "2 0.9986                  0.779      0.502    1.210    -0.2494 0.2247        \n",
       "3 0.0003                  1.102      0.473    2.571     0.0975 0.4320        \n",
       "4 0.0013                  0.739      0.396    1.378    -0.3028 0.3180        \n",
       "5 0.0011                  1.342      0.721    2.498     0.2938 0.3171        \n",
       "6 0.0191                  0.979      0.896    1.070    -0.0210 0.0453        \n",
       "  n_cases n_controls het_isq het_pvalue variant_alternate_id\n",
       "1 20301    21839     0       1.0000     chr1:594445:C:T     \n",
       "2 26798    28624     0       0.5280     chr1:595762:CTG:C   \n",
       "3 20301    21839     0       1.0000     chr1:630947:G:A     \n",
       "4 20301    21839     0       1.0000     chr1:646157:G:A     \n",
       "5 20301    21839     0       1.0000     chr1:726526:G:C     \n",
       "6 81166   386644     0       0.9467     chr1:727233:G:A     "
      ]
     },
     "metadata": {},
     "output_type": "display_data"
    }
   ],
   "source": [
    "head(bellenguez)"
   ]
  },
  {
   "cell_type": "code",
   "execution_count": null,
   "metadata": {
    "vscode": {
     "languageId": "r"
    }
   },
   "outputs": [
    {
     "data": {
      "text/html": [
       "<table class=\"dataframe\">\n",
       "<caption>A data.table: 6 × 11</caption>\n",
       "<thead>\n",
       "\t<tr><th scope=col>chromosome</th><th scope=col>base_pair_location</th><th scope=col>other_allele</th><th scope=col>effect_allele</th><th scope=col>TEST</th><th scope=col>N</th><th scope=col>BETA</th><th scope=col>SE</th><th scope=col>Z</th><th scope=col>p_value</th><th scope=col>ERRCODE</th></tr>\n",
       "\t<tr><th scope=col>&lt;int&gt;</th><th scope=col>&lt;int&gt;</th><th scope=col>&lt;chr&gt;</th><th scope=col>&lt;chr&gt;</th><th scope=col>&lt;chr&gt;</th><th scope=col>&lt;int&gt;</th><th scope=col>&lt;dbl&gt;</th><th scope=col>&lt;dbl&gt;</th><th scope=col>&lt;dbl&gt;</th><th scope=col>&lt;dbl&gt;</th><th scope=col>&lt;chr&gt;</th></tr>\n",
       "</thead>\n",
       "<tbody>\n",
       "\t<tr><td>1</td><td>782207</td><td>G     </td><td>A</td><td>ADD</td><td>31247</td><td>-0.000334046</td><td>0.0392128</td><td>-0.0085188</td><td>0.993203</td><td>.</td></tr>\n",
       "\t<tr><td>1</td><td>784474</td><td>CAG   </td><td>C</td><td>ADD</td><td>31168</td><td>-0.097526600</td><td>0.0726473</td><td>-1.3424700</td><td>0.179454</td><td>.</td></tr>\n",
       "\t<tr><td>1</td><td>788511</td><td>C     </td><td>G</td><td>ADD</td><td>31509</td><td> 0.031395200</td><td>0.0222987</td><td> 1.4079400</td><td>0.159160</td><td>.</td></tr>\n",
       "\t<tr><td>1</td><td>788915</td><td>TGGAAC</td><td>T</td><td>ADD</td><td>30942</td><td> 0.034595300</td><td>0.0537308</td><td> 0.6438630</td><td>0.519669</td><td>.</td></tr>\n",
       "\t<tr><td>1</td><td>801309</td><td>T     </td><td>C</td><td>ADD</td><td>31104</td><td>-0.048063700</td><td>0.0579955</td><td>-0.8287490</td><td>0.407253</td><td>.</td></tr>\n",
       "\t<tr><td>1</td><td>817341</td><td>G     </td><td>A</td><td>ADD</td><td>31929</td><td> 0.003228840</td><td>0.0110722</td><td> 0.2916160</td><td>0.770582</td><td>.</td></tr>\n",
       "</tbody>\n",
       "</table>\n"
      ],
      "text/latex": [
       "A data.table: 6 × 11\n",
       "\\begin{tabular}{lllllllllll}\n",
       " chromosome & base\\_pair\\_location & other\\_allele & effect\\_allele & TEST & N & BETA & SE & Z & p\\_value & ERRCODE\\\\\n",
       " <int> & <int> & <chr> & <chr> & <chr> & <int> & <dbl> & <dbl> & <dbl> & <dbl> & <chr>\\\\\n",
       "\\hline\n",
       "\t 1 & 782207 & G      & A & ADD & 31247 & -0.000334046 & 0.0392128 & -0.0085188 & 0.993203 & .\\\\\n",
       "\t 1 & 784474 & CAG    & C & ADD & 31168 & -0.097526600 & 0.0726473 & -1.3424700 & 0.179454 & .\\\\\n",
       "\t 1 & 788511 & C      & G & ADD & 31509 &  0.031395200 & 0.0222987 &  1.4079400 & 0.159160 & .\\\\\n",
       "\t 1 & 788915 & TGGAAC & T & ADD & 30942 &  0.034595300 & 0.0537308 &  0.6438630 & 0.519669 & .\\\\\n",
       "\t 1 & 801309 & T      & C & ADD & 31104 & -0.048063700 & 0.0579955 & -0.8287490 & 0.407253 & .\\\\\n",
       "\t 1 & 817341 & G      & A & ADD & 31929 &  0.003228840 & 0.0110722 &  0.2916160 & 0.770582 & .\\\\\n",
       "\\end{tabular}\n"
      ],
      "text/markdown": [
       "\n",
       "A data.table: 6 × 11\n",
       "\n",
       "| chromosome &lt;int&gt; | base_pair_location &lt;int&gt; | other_allele &lt;chr&gt; | effect_allele &lt;chr&gt; | TEST &lt;chr&gt; | N &lt;int&gt; | BETA &lt;dbl&gt; | SE &lt;dbl&gt; | Z &lt;dbl&gt; | p_value &lt;dbl&gt; | ERRCODE &lt;chr&gt; |\n",
       "|---|---|---|---|---|---|---|---|---|---|---|\n",
       "| 1 | 782207 | G      | A | ADD | 31247 | -0.000334046 | 0.0392128 | -0.0085188 | 0.993203 | . |\n",
       "| 1 | 784474 | CAG    | C | ADD | 31168 | -0.097526600 | 0.0726473 | -1.3424700 | 0.179454 | . |\n",
       "| 1 | 788511 | C      | G | ADD | 31509 |  0.031395200 | 0.0222987 |  1.4079400 | 0.159160 | . |\n",
       "| 1 | 788915 | TGGAAC | T | ADD | 30942 |  0.034595300 | 0.0537308 |  0.6438630 | 0.519669 | . |\n",
       "| 1 | 801309 | T      | C | ADD | 31104 | -0.048063700 | 0.0579955 | -0.8287490 | 0.407253 | . |\n",
       "| 1 | 817341 | G      | A | ADD | 31929 |  0.003228840 | 0.0110722 |  0.2916160 | 0.770582 | . |\n",
       "\n"
      ],
      "text/plain": [
       "  chromosome base_pair_location other_allele effect_allele TEST N    \n",
       "1 1          782207             G            A             ADD  31247\n",
       "2 1          784474             CAG          C             ADD  31168\n",
       "3 1          788511             C            G             ADD  31509\n",
       "4 1          788915             TGGAAC       T             ADD  30942\n",
       "5 1          801309             T            C             ADD  31104\n",
       "6 1          817341             G            A             ADD  31929\n",
       "  BETA         SE        Z          p_value  ERRCODE\n",
       "1 -0.000334046 0.0392128 -0.0085188 0.993203 .      \n",
       "2 -0.097526600 0.0726473 -1.3424700 0.179454 .      \n",
       "3  0.031395200 0.0222987  1.4079400 0.159160 .      \n",
       "4  0.034595300 0.0537308  0.6438630 0.519669 .      \n",
       "5 -0.048063700 0.0579955 -0.8287490 0.407253 .      \n",
       "6  0.003228840 0.0110722  0.2916160 0.770582 .      "
      ]
     },
     "metadata": {},
     "output_type": "display_data"
    }
   ],
   "source": [
    "head(AD1)"
   ]
  },
  {
   "cell_type": "code",
   "execution_count": null,
   "metadata": {
    "vscode": {
     "languageId": "r"
    }
   },
   "outputs": [
    {
     "data": {
      "text/html": [
       "<style>\n",
       ".list-inline {list-style: none; margin:0; padding: 0}\n",
       ".list-inline>li {display: inline-block}\n",
       ".list-inline>li:not(:last-child)::after {content: \"\\00b7\"; padding: 0 .5ex}\n",
       "</style>\n",
       "<ol class=list-inline><li>6475754</li><li>14</li></ol>\n"
      ],
      "text/latex": [
       "\\begin{enumerate*}\n",
       "\\item 6475754\n",
       "\\item 14\n",
       "\\end{enumerate*}\n"
      ],
      "text/markdown": [
       "1. 6475754\n",
       "2. 14\n",
       "\n",
       "\n"
      ],
      "text/plain": [
       "[1] 6475754      14"
      ]
     },
     "metadata": {},
     "output_type": "display_data"
    },
    {
     "data": {
      "text/html": [
       "<style>\n",
       ".list-inline {list-style: none; margin:0; padding: 0}\n",
       ".list-inline>li {display: inline-block}\n",
       ".list-inline>li:not(:last-child)::after {content: \"\\00b7\"; padding: 0 .5ex}\n",
       "</style>\n",
       "<ol class=list-inline><li>21101114</li><li>17</li></ol>\n"
      ],
      "text/latex": [
       "\\begin{enumerate*}\n",
       "\\item 21101114\n",
       "\\item 17\n",
       "\\end{enumerate*}\n"
      ],
      "text/markdown": [
       "1. 21101114\n",
       "2. 17\n",
       "\n",
       "\n"
      ],
      "text/plain": [
       "[1] 21101114       17"
      ]
     },
     "metadata": {},
     "output_type": "display_data"
    }
   ],
   "source": [
    "dim(AD1)\n",
    "dim(bellenguez)\n"
   ]
  },
  {
   "cell_type": "code",
   "execution_count": null,
   "metadata": {
    "vscode": {
     "languageId": "r"
    }
   },
   "outputs": [],
   "source": [
    "bellenguez = bellenguez |> mutate(variant_ID = paste0(chromosome, \":\", base_pair_location, \":\", effect_allele, \":\", other_allele))\n",
    "bellenguez_variants = bellenguez$variant_ID"
   ]
  },
  {
   "cell_type": "code",
   "execution_count": 63,
   "metadata": {
    "vscode": {
     "languageId": "r"
    }
   },
   "outputs": [
    {
     "data": {
      "image/png": "[encoded data removed]",
      "text/plain": [
       "plot without title"
      ]
     },
     "metadata": {
      "image/png": {
       "height": 420,
       "width": 420
      }
     },
     "output_type": "display_data"
    }
   ],
   "source": [
    "library(ggVennDiagram)\n",
    "\n",
    "# Assume you have your three lists of variants\n",
    "# AD_variants - list of AD variants\n",
    "# Aging_variants - list of aging variants\n",
    "# bellenguez_variants - list of Bellenguez variants\n",
    "\n",
    "# Create a list to hold your sets\n",
    "venn_list <- list(\n",
    "  \"AD variants\" = AD_variants,\n",
    "  \"Aging variants\" = Aging_variants,\n",
    "  \"Bellenguez variants\" = bellenguez_variants\n",
    ")\n",
    "\n",
    "# Create and customize the Venn diagram\n",
    "venn_plot <- ggVennDiagram(\n",
    "  venn_list,\n",
    "  category.names = names(venn_list),\n",
    "  label = \"count\",\n",
    "  edge_size = 1\n",
    ") +\n",
    "  scale_fill_gradient(low = \"#F4FAFE\", high = \"#4981BF\") +\n",
    "  theme(legend.position = \"right\") +\n",
    "  labs(title = \"Overlap of Variant Sets\")\n",
    "\n",
    "# Save the plot as a PNG file with high resolution\n",
    "ggsave(\n",
    "  filename = \"variant_overlap.png\", \n",
    "  plot = venn_plot, \n",
    "  width = 8,       # Width in inches\n",
    "  height = 6,      # Height in inches\n",
    "  dpi = 300,       # Resolution (dots per inch)\n",
    "  bg = \"white\"     # White background\n",
    ")\n",
    "print(venn_plot)"
   ]
  },
  {
   "cell_type": "markdown",
   "metadata": {},
   "source": [
    "### Overlap between GVC gene list and significant image GWAS variants\n",
    "* variants with P value < 5e-8 are defined as significant \n",
    "* No significant variants in image GWAS sumstats fall within the cis_window([TSS-500, TES+500]) of the GVC genes"
   ]
  },
  {
   "cell_type": "code",
   "execution_count": 3,
   "metadata": {
    "vscode": {
     "languageId": "r"
    }
   },
   "outputs": [],
   "source": [
    "\n",
    "AD2 = fread(\"/home/rl3328/image_GWAS/new/image_AD2.sorted.gz\")\n",
    "Aging2 = fread(\"/home/rl3328/image_GWAS/new/image_Aging2.sorted.gz\")\n",
    "Aging3 = fread(\"/home/rl3328/image_GWAS/new/image_Aging3.sorted.gz\")\n",
    "Aging4 = fread(\"/home/rl3328/image_GWAS/new/image_Aging4.sorted.gz\")\n",
    "Aging5 = fread(\"/home/rl3328/image_GWAS/new/image_Aging5.sorted.gz\")"
   ]
  },
  {
   "cell_type": "code",
   "execution_count": 4,
   "metadata": {
    "vscode": {
     "languageId": "r"
    }
   },
   "outputs": [],
   "source": [
    "combined_df <- bind_rows(\n",
    "  \"AD1\" = AD1, \n",
    "  \"AD2\" = AD2, \n",
    "  \"Aging1\" = Aging1, \n",
    "  \"Aging2\" = Aging2, \n",
    "  \"Aging3\" = Aging3,\n",
    "  \"Aging4\" = Aging4,\n",
    "  \"Aging5\" = Aging5,\n",
    "  .id = \"source\"\n",
    ")"
   ]
  },
  {
   "cell_type": "code",
   "execution_count": 5,
   "metadata": {
    "vscode": {
     "languageId": "r"
    }
   },
   "outputs": [],
   "source": [
    "sig_gwas_var = combined_df |> \n",
    "  filter(P < 5e-8) "
   ]
  },
  {
   "cell_type": "code",
   "execution_count": 10,
   "metadata": {
    "vscode": {
     "languageId": "r"
    }
   },
   "outputs": [
    {
     "data": {
      "text/html": [
       "<table class=\"dataframe\">\n",
       "<caption>A data.table: 6 × 12</caption>\n",
       "<thead>\n",
       "\t<tr><th scope=col>source</th><th scope=col>#CHROM</th><th scope=col>POS</th><th scope=col>A2</th><th scope=col>A1</th><th scope=col>TEST</th><th scope=col>N</th><th scope=col>BETA</th><th scope=col>SE</th><th scope=col>Z</th><th scope=col>P</th><th scope=col>ERRCODE</th></tr>\n",
       "\t<tr><th scope=col>&lt;chr&gt;</th><th scope=col>&lt;int&gt;</th><th scope=col>&lt;int&gt;</th><th scope=col>&lt;chr&gt;</th><th scope=col>&lt;chr&gt;</th><th scope=col>&lt;chr&gt;</th><th scope=col>&lt;int&gt;</th><th scope=col>&lt;dbl&gt;</th><th scope=col>&lt;dbl&gt;</th><th scope=col>&lt;dbl&gt;</th><th scope=col>&lt;dbl&gt;</th><th scope=col>&lt;chr&gt;</th></tr>\n",
       "</thead>\n",
       "<tbody>\n",
       "\t<tr><td>AD1</td><td>1</td><td>50359773</td><td>A</td><td>C</td><td>ADD</td><td>31617</td><td>0.0505426</td><td>0.00880806</td><td>5.73822</td><td>9.65503e-09</td><td>.</td></tr>\n",
       "\t<tr><td>AD1</td><td>3</td><td>47276959</td><td>C</td><td>A</td><td>ADD</td><td>31809</td><td>0.0454886</td><td>0.00808842</td><td>5.62392</td><td>1.88238e-08</td><td>.</td></tr>\n",
       "\t<tr><td>AD1</td><td>3</td><td>47281291</td><td>G</td><td>A</td><td>ADD</td><td>31925</td><td>0.0455878</td><td>0.00806943</td><td>5.64944</td><td>1.62342e-08</td><td>.</td></tr>\n",
       "\t<tr><td>AD1</td><td>3</td><td>47281510</td><td>T</td><td>G</td><td>ADD</td><td>31925</td><td>0.0458442</td><td>0.00806599</td><td>5.68364</td><td>1.33007e-08</td><td>.</td></tr>\n",
       "\t<tr><td>AD1</td><td>3</td><td>47284808</td><td>G</td><td>A</td><td>ADD</td><td>31924</td><td>0.0456699</td><td>0.00806928</td><td>5.65972</td><td>1.52915e-08</td><td>.</td></tr>\n",
       "\t<tr><td>AD1</td><td>3</td><td>47289646</td><td>C</td><td>T</td><td>ADD</td><td>31913</td><td>0.0454824</td><td>0.00807007</td><td>5.63594</td><td>1.75573e-08</td><td>.</td></tr>\n",
       "</tbody>\n",
       "</table>\n"
      ],
      "text/latex": [
       "A data.table: 6 × 12\n",
       "\\begin{tabular}{llllllllllll}\n",
       " source & \\#CHROM & POS & A2 & A1 & TEST & N & BETA & SE & Z & P & ERRCODE\\\\\n",
       " <chr> & <int> & <int> & <chr> & <chr> & <chr> & <int> & <dbl> & <dbl> & <dbl> & <dbl> & <chr>\\\\\n",
       "\\hline\n",
       "\t AD1 & 1 & 50359773 & A & C & ADD & 31617 & 0.0505426 & 0.00880806 & 5.73822 & 9.65503e-09 & .\\\\\n",
       "\t AD1 & 3 & 47276959 & C & A & ADD & 31809 & 0.0454886 & 0.00808842 & 5.62392 & 1.88238e-08 & .\\\\\n",
       "\t AD1 & 3 & 47281291 & G & A & ADD & 31925 & 0.0455878 & 0.00806943 & 5.64944 & 1.62342e-08 & .\\\\\n",
       "\t AD1 & 3 & 47281510 & T & G & ADD & 31925 & 0.0458442 & 0.00806599 & 5.68364 & 1.33007e-08 & .\\\\\n",
       "\t AD1 & 3 & 47284808 & G & A & ADD & 31924 & 0.0456699 & 0.00806928 & 5.65972 & 1.52915e-08 & .\\\\\n",
       "\t AD1 & 3 & 47289646 & C & T & ADD & 31913 & 0.0454824 & 0.00807007 & 5.63594 & 1.75573e-08 & .\\\\\n",
       "\\end{tabular}\n"
      ],
      "text/markdown": [
       "\n",
       "A data.table: 6 × 12\n",
       "\n",
       "| source &lt;chr&gt; | #CHROM &lt;int&gt; | POS &lt;int&gt; | A2 &lt;chr&gt; | A1 &lt;chr&gt; | TEST &lt;chr&gt; | N &lt;int&gt; | BETA &lt;dbl&gt; | SE &lt;dbl&gt; | Z &lt;dbl&gt; | P &lt;dbl&gt; | ERRCODE &lt;chr&gt; |\n",
       "|---|---|---|---|---|---|---|---|---|---|---|---|\n",
       "| AD1 | 1 | 50359773 | A | C | ADD | 31617 | 0.0505426 | 0.00880806 | 5.73822 | 9.65503e-09 | . |\n",
       "| AD1 | 3 | 47276959 | C | A | ADD | 31809 | 0.0454886 | 0.00808842 | 5.62392 | 1.88238e-08 | . |\n",
       "| AD1 | 3 | 47281291 | G | A | ADD | 31925 | 0.0455878 | 0.00806943 | 5.64944 | 1.62342e-08 | . |\n",
       "| AD1 | 3 | 47281510 | T | G | ADD | 31925 | 0.0458442 | 0.00806599 | 5.68364 | 1.33007e-08 | . |\n",
       "| AD1 | 3 | 47284808 | G | A | ADD | 31924 | 0.0456699 | 0.00806928 | 5.65972 | 1.52915e-08 | . |\n",
       "| AD1 | 3 | 47289646 | C | T | ADD | 31913 | 0.0454824 | 0.00807007 | 5.63594 | 1.75573e-08 | . |\n",
       "\n"
      ],
      "text/plain": [
       "  source #CHROM POS      A2 A1 TEST N     BETA      SE         Z      \n",
       "1 AD1    1      50359773 A  C  ADD  31617 0.0505426 0.00880806 5.73822\n",
       "2 AD1    3      47276959 C  A  ADD  31809 0.0454886 0.00808842 5.62392\n",
       "3 AD1    3      47281291 G  A  ADD  31925 0.0455878 0.00806943 5.64944\n",
       "4 AD1    3      47281510 T  G  ADD  31925 0.0458442 0.00806599 5.68364\n",
       "5 AD1    3      47284808 G  A  ADD  31924 0.0456699 0.00806928 5.65972\n",
       "6 AD1    3      47289646 C  T  ADD  31913 0.0454824 0.00807007 5.63594\n",
       "  P           ERRCODE\n",
       "1 9.65503e-09 .      \n",
       "2 1.88238e-08 .      \n",
       "3 1.62342e-08 .      \n",
       "4 1.33007e-08 .      \n",
       "5 1.52915e-08 .      \n",
       "6 1.75573e-08 .      "
      ]
     },
     "metadata": {},
     "output_type": "display_data"
    },
    {
     "data": {
      "text/html": [
       "<style>\n",
       ".list-inline {list-style: none; margin:0; padding: 0}\n",
       ".list-inline>li {display: inline-block}\n",
       ".list-inline>li:not(:last-child)::after {content: \"\\00b7\"; padding: 0 .5ex}\n",
       "</style>\n",
       "<ol class=list-inline><li>6564</li><li>12</li></ol>\n"
      ],
      "text/latex": [
       "\\begin{enumerate*}\n",
       "\\item 6564\n",
       "\\item 12\n",
       "\\end{enumerate*}\n"
      ],
      "text/markdown": [
       "1. 6564\n",
       "2. 12\n",
       "\n",
       "\n"
      ],
      "text/plain": [
       "[1] 6564   12"
      ]
     },
     "metadata": {},
     "output_type": "display_data"
    }
   ],
   "source": [
    "head(sig_gwas_var)\n",
    "dim(sig_gwas_var)"
   ]
  },
  {
   "cell_type": "code",
   "execution_count": 10,
   "metadata": {
    "vscode": {
     "languageId": "r"
    }
   },
   "outputs": [
    {
     "data": {
      "text/html": [
       "<table class=\"dataframe\">\n",
       "<caption>A data.table: 6 × 6</caption>\n",
       "<thead>\n",
       "\t<tr><th scope=col>#chr</th><th scope=col>start</th><th scope=col>end</th><th scope=col>gene_id</th><th scope=col>strand</th><th scope=col>gene_name</th></tr>\n",
       "\t<tr><th scope=col>&lt;chr&gt;</th><th scope=col>&lt;int&gt;</th><th scope=col>&lt;int&gt;</th><th scope=col>&lt;chr&gt;</th><th scope=col>&lt;chr&gt;</th><th scope=col>&lt;chr&gt;</th></tr>\n",
       "</thead>\n",
       "<tbody>\n",
       "\t<tr><td>chr1</td><td>207496146</td><td>207641764</td><td>ENSG00000203710</td><td>+</td><td>CR1       </td></tr>\n",
       "\t<tr><td>chr1</td><td>226870183</td><td>226927725</td><td>ENSG00000143801</td><td>+</td><td>PSEN2     </td></tr>\n",
       "\t<tr><td>chr1</td><td>226870183</td><td>226987544</td><td>ENSG00000288674</td><td>+</td><td>AL391628.1</td></tr>\n",
       "\t<tr><td>chr2</td><td>127048026</td><td>127107287</td><td>ENSG00000136717</td><td>-</td><td>BIN1      </td></tr>\n",
       "\t<tr><td>chr5</td><td>140558267</td><td>140564780</td><td>ENSG00000113108</td><td>-</td><td>APBB3     </td></tr>\n",
       "\t<tr><td>chr6</td><td> 41158505</td><td> 41163185</td><td>ENSG00000095970</td><td>-</td><td>TREM2     </td></tr>\n",
       "</tbody>\n",
       "</table>\n"
      ],
      "text/latex": [
       "A data.table: 6 × 6\n",
       "\\begin{tabular}{llllll}\n",
       " \\#chr & start & end & gene\\_id & strand & gene\\_name\\\\\n",
       " <chr> & <int> & <int> & <chr> & <chr> & <chr>\\\\\n",
       "\\hline\n",
       "\t chr1 & 207496146 & 207641764 & ENSG00000203710 & + & CR1       \\\\\n",
       "\t chr1 & 226870183 & 226927725 & ENSG00000143801 & + & PSEN2     \\\\\n",
       "\t chr1 & 226870183 & 226987544 & ENSG00000288674 & + & AL391628.1\\\\\n",
       "\t chr2 & 127048026 & 127107287 & ENSG00000136717 & - & BIN1      \\\\\n",
       "\t chr5 & 140558267 & 140564780 & ENSG00000113108 & - & APBB3     \\\\\n",
       "\t chr6 &  41158505 &  41163185 & ENSG00000095970 & - & TREM2     \\\\\n",
       "\\end{tabular}\n"
      ],
      "text/markdown": [
       "\n",
       "A data.table: 6 × 6\n",
       "\n",
       "| #chr &lt;chr&gt; | start &lt;int&gt; | end &lt;int&gt; | gene_id &lt;chr&gt; | strand &lt;chr&gt; | gene_name &lt;chr&gt; |\n",
       "|---|---|---|---|---|---|\n",
       "| chr1 | 207496146 | 207641764 | ENSG00000203710 | + | CR1        |\n",
       "| chr1 | 226870183 | 226927725 | ENSG00000143801 | + | PSEN2      |\n",
       "| chr1 | 226870183 | 226987544 | ENSG00000288674 | + | AL391628.1 |\n",
       "| chr2 | 127048026 | 127107287 | ENSG00000136717 | - | BIN1       |\n",
       "| chr5 | 140558267 | 140564780 | ENSG00000113108 | - | APBB3      |\n",
       "| chr6 |  41158505 |  41163185 | ENSG00000095970 | - | TREM2      |\n",
       "\n"
      ],
      "text/plain": [
       "  #chr start     end       gene_id         strand gene_name \n",
       "1 chr1 207496146 207641764 ENSG00000203710 +      CR1       \n",
       "2 chr1 226870183 226927725 ENSG00000143801 +      PSEN2     \n",
       "3 chr1 226870183 226987544 ENSG00000288674 +      AL391628.1\n",
       "4 chr2 127048026 127107287 ENSG00000136717 -      BIN1      \n",
       "5 chr5 140558267 140564780 ENSG00000113108 -      APBB3     \n",
       "6 chr6  41158505  41163185 ENSG00000095970 -      TREM2     "
      ]
     },
     "metadata": {},
     "output_type": "display_data"
    },
    {
     "data": {
      "text/html": [
       "<style>\n",
       ".list-inline {list-style: none; margin:0; padding: 0}\n",
       ".list-inline>li {display: inline-block}\n",
       ".list-inline>li:not(:last-child)::after {content: \"\\00b7\"; padding: 0 .5ex}\n",
       "</style>\n",
       "<ol class=list-inline><li>21</li><li>6</li></ol>\n"
      ],
      "text/latex": [
       "\\begin{enumerate*}\n",
       "\\item 21\n",
       "\\item 6\n",
       "\\end{enumerate*}\n"
      ],
      "text/markdown": [
       "1. 21\n",
       "2. 6\n",
       "\n",
       "\n"
      ],
      "text/plain": [
       "[1] 21  6"
      ]
     },
     "metadata": {},
     "output_type": "display_data"
    }
   ],
   "source": [
    "filtered_gene_list = fread(\"/home/rl3328/image_QTL/colocboost/image7+ad6/GVC_gene_list.gene_list.tsv\")\n",
    "head(filtered_gene_list)\n",
    "dim(filtered_gene_list)"
   ]
  },
  {
   "cell_type": "code",
   "execution_count": 11,
   "metadata": {
    "vscode": {
     "languageId": "r"
    }
   },
   "outputs": [
    {
     "name": "stdout",
     "output_type": "stream",
     "text": [
      "      #chr     start       end         gene_id strand  gene_name\n",
      "    <char>     <int>     <int>          <char> <char>     <char>\n",
      " 1:   chr1 207496146 207641764 ENSG00000203710      +        CR1\n",
      " 2:   chr1 226870183 226927725 ENSG00000143801      +      PSEN2\n",
      " 3:   chr1 226870183 226987544 ENSG00000288674      + AL391628.1\n",
      " 4:   chr2 127048026 127107287 ENSG00000136717      -       BIN1\n",
      " 5:   chr5 140558267 140564780 ENSG00000113108      -      APBB3\n",
      " 6:   chr6  41158505  41163185 ENSG00000095970      -      TREM2\n",
      " 7:   chr7 100367529 100400095 ENSG00000085514      +      PILRA\n",
      " 8:   chr7 143390288 143408855 ENSG00000146904      -      EPHA1\n",
      " 9:  chr11  47354859  47378546 ENSG00000066336      -       SPI1\n",
      "10:  chr11  60172013  60184665 ENSG00000110077      -     MS4A6A\n",
      "11:  chr11  85957174  86069881 ENSG00000073921      -     PICALM\n",
      "12:  chr11 121452313 121633762 ENSG00000137642      +      SORL1\n",
      "13:  chr10 113679161 113730906 ENSG00000165806      +      CASP7\n",
      "14:  chr14  73136417  73223690 ENSG00000080815      +      PSEN1\n",
      "15:  chr14  92513780  92688993 ENSG00000100599      +       RIN3\n",
      "16:  chr15  58588808  58749790 ENSG00000137845      -     ADAM10\n",
      "17:  chr16  81739096  81962684 ENSG00000197943      +      PLCG2\n",
      "18:  chr17  49210410  49223224 ENSG00000108798      +       ABI3\n",
      "19:  chr19   1040106   1065571 ENSG00000064687      +      ABCA7\n",
      "20:  chr19  44905790  44909392 ENSG00000130203      +       APOE\n",
      "21:  chr21  25880549  26171127 ENSG00000142192      -        APP\n",
      "      #chr     start       end         gene_id strand  gene_name\n",
      "    is_in_cis_window cis_window_lower_bound cis_window_upper_bound\n",
      "              <lgcl>                  <num>                  <num>\n",
      " 1:            FALSE              206996146              208141764\n",
      " 2:            FALSE              226370183              227427725\n",
      " 3:            FALSE              226370183              227487544\n",
      " 4:            FALSE              126548026              127607287\n",
      " 5:            FALSE              140058267              141064780\n",
      " 6:            FALSE               40658505               41663185\n",
      " 7:            FALSE               99867529              100900095\n",
      " 8:            FALSE              142890288              143908855\n",
      " 9:            FALSE               46854859               47878546\n",
      "10:            FALSE               59672013               60684665\n",
      "11:            FALSE               85457174               86569881\n",
      "12:            FALSE              120952313              122133762\n",
      "13:            FALSE              113179161              114230906\n",
      "14:            FALSE               72636417               73723690\n",
      "15:            FALSE               92013780               93188993\n",
      "16:            FALSE               58088808               59249790\n",
      "17:            FALSE               81239096               82462684\n",
      "18:             TRUE               48710410               49723224\n",
      "19:            FALSE                 540106                1565571\n",
      "20:            FALSE               44405790               45409392\n",
      "21:            FALSE               25380549               26671127\n",
      "    is_in_cis_window cis_window_lower_bound cis_window_upper_bound\n",
      "                                                                                                                                                                                                 contained_variants\n",
      "                                                                                                                                                                                                             <char>\n",
      " 1:                                                                                                                                                                                                            <NA>\n",
      " 2:                                                                                                                                                                                                            <NA>\n",
      " 3:                                                                                                                                                                                                            <NA>\n",
      " 4:                                                                                                                                                                                                            <NA>\n",
      " 5:                                                                                                                                                                                                            <NA>\n",
      " 6:                                                                                                                                                                                                            <NA>\n",
      " 7:                                                                                                                                                                                                            <NA>\n",
      " 8:                                                                                                                                                                                                            <NA>\n",
      " 9:                                                                                                                                                                                                            <NA>\n",
      "10:                                                                                                                                                                                                            <NA>\n",
      "11:                                                                                                                                                                                                            <NA>\n",
      "12:                                                                                                                                                                                                            <NA>\n",
      "13:                                                                                                                                                                                                            <NA>\n",
      "14:                                                                                                                                                                                                            <NA>\n",
      "15:                                                                                                                                                                                                            <NA>\n",
      "16:                                                                                                                                                                                                            <NA>\n",
      "17:                                                                                                                                                                                                            <NA>\n",
      "18: 17:48767335:T:C;17:48767634:C:T;17:48777744:A:T;17:48780125:C:A;17:48892897:C:T;17:48900991:C:T;17:48905018:G:A;17:48906458:G:A;17:48925181:G:A;17:48935189:G:C;17:48963251:G:A;17:48964800:C:A;17:48968500:G:A\n",
      "19:                                                                                                                                                                                                            <NA>\n",
      "20:                                                                                                                                                                                                            <NA>\n",
      "21:                                                                                                                                                                                                            <NA>\n",
      "                                                                                                                                                                                                 contained_variants\n"
     ]
    }
   ],
   "source": [
    "# Function to check if a variant position is within a gene's cis window\n",
    "is_variant_in_cis_window <- function(gene_chr, gene_start, gene_end, variant_df, window_size = 500) {\n",
    "  # Extract chromosome and position from the variant\n",
    "  # Assuming variant_df is a single row data frame\n",
    "  cis_start <- gene_start - window_size\n",
    "  cis_end <- gene_end + window_size\n",
    "  \n",
    "  # Check if the variant's chromosome matches the gene's chromosome \n",
    "  # and if the position is within the cis window\n",
    "  return(gene_chr == paste0(\"chr\", variant_df$`#CHROM`) && \n",
    "         variant_df$POS >= cis_start && \n",
    "         variant_df$POS <= cis_end)\n",
    "}\n",
    "\n",
    "# Find matching variants within cis window for each gene\n",
    "find_cis_window_variants <- function(gene_chr, gene_start, gene_end, variants_df, window_size = 500) {\n",
    "  matching_variants <- character(0)\n",
    "  cis_start <- gene_start - window_size\n",
    "  cis_end <- gene_end + window_size\n",
    "  \n",
    "  # Assuming variants_df is a data frame with multiple rows\n",
    "  for(i in 1:nrow(variants_df)) {\n",
    "    variant_row <- variants_df[i,]\n",
    "    if(is_variant_in_cis_window(gene_chr, gene_start, gene_end, variant_row, window_size)) {\n",
    "      # Add some identifier for this variant (e.g., rsID or chromosome_position)\n",
    "      # Adjust this based on what identifier you want to use\n",
    "      variant_id <- paste0(variant_row$`#CHROM`, \":\", variant_row$POS,\":\", variant_row$A2, \":\", variant_row$A1)\n",
    "      matching_variants <- c(matching_variants, variant_id)\n",
    "    }\n",
    "  }\n",
    "  \n",
    "  if(length(matching_variants) > 0) {\n",
    "    return(list(\n",
    "      is_in_cis_window = TRUE,\n",
    "      cis_window_lower_bound = cis_start,\n",
    "      cis_window_upper_bound = cis_end,\n",
    "      contained_variants = paste(matching_variants, collapse = \";\")\n",
    "    ))\n",
    "  } else {\n",
    "    return(list(\n",
    "      is_in_cis_window = FALSE,\n",
    "      cis_window_lower_bound = cis_start,\n",
    "      cis_window_upper_bound = cis_end,\n",
    "      contained_variants = NA\n",
    "    ))\n",
    "  }\n",
    "}\n",
    "\n",
    "# Define window size as a parameter for easier modification\n",
    "window_size <- 500000\n",
    "\n",
    "# Initialize the new columns\n",
    "filtered_gene_list$is_in_cis_window <- FALSE\n",
    "filtered_gene_list$cis_window_lower_bound <- NA\n",
    "filtered_gene_list$cis_window_upper_bound <- NA\n",
    "filtered_gene_list$contained_variants <- NA\n",
    "\n",
    "# Loop through each row to find cis window variants\n",
    "for (i in 1:nrow(filtered_gene_list)) {\n",
    "  result <- find_cis_window_variants(\n",
    "    filtered_gene_list$`#chr`[i],\n",
    "    filtered_gene_list$start[i],\n",
    "    filtered_gene_list$end[i],\n",
    "    sig_gwas_var,  # This is the data frame of variants\n",
    "    window_size\n",
    "  )\n",
    "  filtered_gene_list$is_in_cis_window[i] <- result$is_in_cis_window\n",
    "  filtered_gene_list$cis_window_lower_bound[i] <- result$cis_window_lower_bound\n",
    "  filtered_gene_list$cis_window_upper_bound[i] <- result$cis_window_upper_bound\n",
    "  filtered_gene_list$contained_variants[i] <- result$contained_variants\n",
    "}\n",
    "\n",
    "# View the result\n",
    "print(filtered_gene_list)"
   ]
  },
  {
   "cell_type": "code",
   "execution_count": 17,
   "metadata": {
    "vscode": {
     "languageId": "r"
    }
   },
   "outputs": [],
   "source": [
    "variants = filtered_gene_list |> \n",
    "  filter(is_in_cis_window == TRUE) |> \n",
    "  pull(contained_variants) |> \n",
    "  str_split(\";\") |> \n",
    "  unlist() |> \n",
    "  unique()\n",
    "\n",
    "\n",
    "\n",
    "\n"
   ]
  },
  {
   "cell_type": "code",
   "execution_count": 14,
   "metadata": {
    "vscode": {
     "languageId": "r"
    }
   },
   "outputs": [
    {
     "data": {
      "text/html": [
       "<style>\n",
       ".list-inline {list-style: none; margin:0; padding: 0}\n",
       ".list-inline>li {display: inline-block}\n",
       ".list-inline>li:not(:last-child)::after {content: \"\\00b7\"; padding: 0 .5ex}\n",
       "</style>\n",
       "<ol class=list-inline><li>'17:48767335:T:C'</li><li>'17:48767634:C:T'</li><li>'17:48777744:A:T'</li><li>'17:48780125:C:A'</li><li>'17:48892897:C:T'</li><li>'17:48900991:C:T'</li><li>'17:48905018:G:A'</li><li>'17:48906458:G:A'</li><li>'17:48925181:G:A'</li><li>'17:48935189:G:C'</li><li>'17:48963251:G:A'</li><li>'17:48964800:C:A'</li><li>'17:48968500:G:A'</li></ol>\n"
      ],
      "text/latex": [
       "\\begin{enumerate*}\n",
       "\\item '17:48767335:T:C'\n",
       "\\item '17:48767634:C:T'\n",
       "\\item '17:48777744:A:T'\n",
       "\\item '17:48780125:C:A'\n",
       "\\item '17:48892897:C:T'\n",
       "\\item '17:48900991:C:T'\n",
       "\\item '17:48905018:G:A'\n",
       "\\item '17:48906458:G:A'\n",
       "\\item '17:48925181:G:A'\n",
       "\\item '17:48935189:G:C'\n",
       "\\item '17:48963251:G:A'\n",
       "\\item '17:48964800:C:A'\n",
       "\\item '17:48968500:G:A'\n",
       "\\end{enumerate*}\n"
      ],
      "text/markdown": [
       "1. '17:48767335:T:C'\n",
       "2. '17:48767634:C:T'\n",
       "3. '17:48777744:A:T'\n",
       "4. '17:48780125:C:A'\n",
       "5. '17:48892897:C:T'\n",
       "6. '17:48900991:C:T'\n",
       "7. '17:48905018:G:A'\n",
       "8. '17:48906458:G:A'\n",
       "9. '17:48925181:G:A'\n",
       "10. '17:48935189:G:C'\n",
       "11. '17:48963251:G:A'\n",
       "12. '17:48964800:C:A'\n",
       "13. '17:48968500:G:A'\n",
       "\n",
       "\n"
      ],
      "text/plain": [
       " [1] \"17:48767335:T:C\" \"17:48767634:C:T\" \"17:48777744:A:T\" \"17:48780125:C:A\"\n",
       " [5] \"17:48892897:C:T\" \"17:48900991:C:T\" \"17:48905018:G:A\" \"17:48906458:G:A\"\n",
       " [9] \"17:48925181:G:A\" \"17:48935189:G:C\" \"17:48963251:G:A\" \"17:48964800:C:A\"\n",
       "[13] \"17:48968500:G:A\""
      ]
     },
     "metadata": {},
     "output_type": "display_data"
    }
   ],
   "source": []
  },
  {
   "cell_type": "code",
   "execution_count": 16,
   "metadata": {
    "vscode": {
     "languageId": "r"
    }
   },
   "outputs": [],
   "source": [
    "combined_df = combined_df |> \n",
    "  mutate(variant_ID = paste0(`#CHROM`, \":\", POS, \":\", A2, \":\", A1))"
   ]
  },
  {
   "cell_type": "code",
   "execution_count": 19,
   "metadata": {
    "vscode": {
     "languageId": "r"
    }
   },
   "outputs": [
    {
     "data": {
      "text/html": [
       "<table class=\"dataframe\">\n",
       "<caption>A data.table: 13 × 13</caption>\n",
       "<thead>\n",
       "\t<tr><th scope=col>source</th><th scope=col>#CHROM</th><th scope=col>POS</th><th scope=col>A2</th><th scope=col>A1</th><th scope=col>TEST</th><th scope=col>N</th><th scope=col>BETA</th><th scope=col>SE</th><th scope=col>Z</th><th scope=col>P</th><th scope=col>ERRCODE</th><th scope=col>variant_ID</th></tr>\n",
       "\t<tr><th scope=col>&lt;chr&gt;</th><th scope=col>&lt;int&gt;</th><th scope=col>&lt;int&gt;</th><th scope=col>&lt;chr&gt;</th><th scope=col>&lt;chr&gt;</th><th scope=col>&lt;chr&gt;</th><th scope=col>&lt;int&gt;</th><th scope=col>&lt;dbl&gt;</th><th scope=col>&lt;dbl&gt;</th><th scope=col>&lt;dbl&gt;</th><th scope=col>&lt;dbl&gt;</th><th scope=col>&lt;chr&gt;</th><th scope=col>&lt;chr&gt;</th></tr>\n",
       "</thead>\n",
       "<tbody>\n",
       "\t<tr><td>Aging5</td><td>17</td><td>48767335</td><td>T</td><td>C</td><td>ADD</td><td>32657</td><td>-0.0454927</td><td>0.00814636</td><td>-5.58442</td><td>2.36346e-08</td><td>.</td><td>17:48767335:T:C</td></tr>\n",
       "\t<tr><td>Aging5</td><td>17</td><td>48767634</td><td>C</td><td>T</td><td>ADD</td><td>32694</td><td>-0.0469005</td><td>0.00830042</td><td>-5.65037</td><td>1.61430e-08</td><td>.</td><td>17:48767634:C:T</td></tr>\n",
       "\t<tr><td>Aging5</td><td>17</td><td>48777744</td><td>A</td><td>T</td><td>ADD</td><td>32749</td><td>-0.0459204</td><td>0.00817785</td><td>-5.61522</td><td>1.97906e-08</td><td>.</td><td>17:48777744:A:T</td></tr>\n",
       "\t<tr><td>Aging5</td><td>17</td><td>48780125</td><td>C</td><td>A</td><td>ADD</td><td>32816</td><td>-0.0449831</td><td>0.00816123</td><td>-5.51180</td><td>3.57858e-08</td><td>.</td><td>17:48780125:C:A</td></tr>\n",
       "\t<tr><td>Aging5</td><td>17</td><td>48892897</td><td>C</td><td>T</td><td>ADD</td><td>32829</td><td>-0.0464216</td><td>0.00843165</td><td>-5.50564</td><td>3.70570e-08</td><td>.</td><td>17:48892897:C:T</td></tr>\n",
       "\t<tr><td>Aging5</td><td>17</td><td>48900991</td><td>C</td><td>T</td><td>ADD</td><td>32829</td><td>-0.0464010</td><td>0.00843458</td><td>-5.50128</td><td>3.79846e-08</td><td>.</td><td>17:48900991:C:T</td></tr>\n",
       "\t<tr><td>Aging5</td><td>17</td><td>48905018</td><td>G</td><td>A</td><td>ADD</td><td>32820</td><td>-0.0465990</td><td>0.00843625</td><td>-5.52366</td><td>3.34530e-08</td><td>.</td><td>17:48905018:G:A</td></tr>\n",
       "\t<tr><td>Aging5</td><td>17</td><td>48906458</td><td>G</td><td>A</td><td>ADD</td><td>32820</td><td>-0.0465990</td><td>0.00843625</td><td>-5.52366</td><td>3.34530e-08</td><td>.</td><td>17:48906458:G:A</td></tr>\n",
       "\t<tr><td>Aging5</td><td>17</td><td>48925181</td><td>G</td><td>A</td><td>ADD</td><td>32804</td><td>-0.0480542</td><td>0.00847311</td><td>-5.67137</td><td>1.42851e-08</td><td>.</td><td>17:48925181:G:A</td></tr>\n",
       "\t<tr><td>Aging5</td><td>17</td><td>48935189</td><td>G</td><td>C</td><td>ADD</td><td>32823</td><td>-0.0454070</td><td>0.00827641</td><td>-5.48632</td><td>4.13418e-08</td><td>.</td><td>17:48935189:G:C</td></tr>\n",
       "\t<tr><td>Aging5</td><td>17</td><td>48963251</td><td>G</td><td>A</td><td>ADD</td><td>31933</td><td>-0.0483689</td><td>0.00882648</td><td>-5.47997</td><td>4.28606e-08</td><td>.</td><td>17:48963251:G:A</td></tr>\n",
       "\t<tr><td>Aging5</td><td>17</td><td>48964800</td><td>C</td><td>A</td><td>ADD</td><td>31973</td><td>-0.0483414</td><td>0.00882456</td><td>-5.47805</td><td>4.33275e-08</td><td>.</td><td>17:48964800:C:A</td></tr>\n",
       "\t<tr><td>Aging5</td><td>17</td><td>48968500</td><td>G</td><td>A</td><td>ADD</td><td>31985</td><td>-0.0482350</td><td>0.00882450</td><td>-5.46603</td><td>4.63666e-08</td><td>.</td><td>17:48968500:G:A</td></tr>\n",
       "</tbody>\n",
       "</table>\n"
      ],
      "text/latex": [
       "A data.table: 13 × 13\n",
       "\\begin{tabular}{lllllllllllll}\n",
       " source & \\#CHROM & POS & A2 & A1 & TEST & N & BETA & SE & Z & P & ERRCODE & variant\\_ID\\\\\n",
       " <chr> & <int> & <int> & <chr> & <chr> & <chr> & <int> & <dbl> & <dbl> & <dbl> & <dbl> & <chr> & <chr>\\\\\n",
       "\\hline\n",
       "\t Aging5 & 17 & 48767335 & T & C & ADD & 32657 & -0.0454927 & 0.00814636 & -5.58442 & 2.36346e-08 & . & 17:48767335:T:C\\\\\n",
       "\t Aging5 & 17 & 48767634 & C & T & ADD & 32694 & -0.0469005 & 0.00830042 & -5.65037 & 1.61430e-08 & . & 17:48767634:C:T\\\\\n",
       "\t Aging5 & 17 & 48777744 & A & T & ADD & 32749 & -0.0459204 & 0.00817785 & -5.61522 & 1.97906e-08 & . & 17:48777744:A:T\\\\\n",
       "\t Aging5 & 17 & 48780125 & C & A & ADD & 32816 & -0.0449831 & 0.00816123 & -5.51180 & 3.57858e-08 & . & 17:48780125:C:A\\\\\n",
       "\t Aging5 & 17 & 48892897 & C & T & ADD & 32829 & -0.0464216 & 0.00843165 & -5.50564 & 3.70570e-08 & . & 17:48892897:C:T\\\\\n",
       "\t Aging5 & 17 & 48900991 & C & T & ADD & 32829 & -0.0464010 & 0.00843458 & -5.50128 & 3.79846e-08 & . & 17:48900991:C:T\\\\\n",
       "\t Aging5 & 17 & 48905018 & G & A & ADD & 32820 & -0.0465990 & 0.00843625 & -5.52366 & 3.34530e-08 & . & 17:48905018:G:A\\\\\n",
       "\t Aging5 & 17 & 48906458 & G & A & ADD & 32820 & -0.0465990 & 0.00843625 & -5.52366 & 3.34530e-08 & . & 17:48906458:G:A\\\\\n",
       "\t Aging5 & 17 & 48925181 & G & A & ADD & 32804 & -0.0480542 & 0.00847311 & -5.67137 & 1.42851e-08 & . & 17:48925181:G:A\\\\\n",
       "\t Aging5 & 17 & 48935189 & G & C & ADD & 32823 & -0.0454070 & 0.00827641 & -5.48632 & 4.13418e-08 & . & 17:48935189:G:C\\\\\n",
       "\t Aging5 & 17 & 48963251 & G & A & ADD & 31933 & -0.0483689 & 0.00882648 & -5.47997 & 4.28606e-08 & . & 17:48963251:G:A\\\\\n",
       "\t Aging5 & 17 & 48964800 & C & A & ADD & 31973 & -0.0483414 & 0.00882456 & -5.47805 & 4.33275e-08 & . & 17:48964800:C:A\\\\\n",
       "\t Aging5 & 17 & 48968500 & G & A & ADD & 31985 & -0.0482350 & 0.00882450 & -5.46603 & 4.63666e-08 & . & 17:48968500:G:A\\\\\n",
       "\\end{tabular}\n"
      ],
      "text/markdown": [
       "\n",
       "A data.table: 13 × 13\n",
       "\n",
       "| source &lt;chr&gt; | #CHROM &lt;int&gt; | POS &lt;int&gt; | A2 &lt;chr&gt; | A1 &lt;chr&gt; | TEST &lt;chr&gt; | N &lt;int&gt; | BETA &lt;dbl&gt; | SE &lt;dbl&gt; | Z &lt;dbl&gt; | P &lt;dbl&gt; | ERRCODE &lt;chr&gt; | variant_ID &lt;chr&gt; |\n",
       "|---|---|---|---|---|---|---|---|---|---|---|---|---|\n",
       "| Aging5 | 17 | 48767335 | T | C | ADD | 32657 | -0.0454927 | 0.00814636 | -5.58442 | 2.36346e-08 | . | 17:48767335:T:C |\n",
       "| Aging5 | 17 | 48767634 | C | T | ADD | 32694 | -0.0469005 | 0.00830042 | -5.65037 | 1.61430e-08 | . | 17:48767634:C:T |\n",
       "| Aging5 | 17 | 48777744 | A | T | ADD | 32749 | -0.0459204 | 0.00817785 | -5.61522 | 1.97906e-08 | . | 17:48777744:A:T |\n",
       "| Aging5 | 17 | 48780125 | C | A | ADD | 32816 | -0.0449831 | 0.00816123 | -5.51180 | 3.57858e-08 | . | 17:48780125:C:A |\n",
       "| Aging5 | 17 | 48892897 | C | T | ADD | 32829 | -0.0464216 | 0.00843165 | -5.50564 | 3.70570e-08 | . | 17:48892897:C:T |\n",
       "| Aging5 | 17 | 48900991 | C | T | ADD | 32829 | -0.0464010 | 0.00843458 | -5.50128 | 3.79846e-08 | . | 17:48900991:C:T |\n",
       "| Aging5 | 17 | 48905018 | G | A | ADD | 32820 | -0.0465990 | 0.00843625 | -5.52366 | 3.34530e-08 | . | 17:48905018:G:A |\n",
       "| Aging5 | 17 | 48906458 | G | A | ADD | 32820 | -0.0465990 | 0.00843625 | -5.52366 | 3.34530e-08 | . | 17:48906458:G:A |\n",
       "| Aging5 | 17 | 48925181 | G | A | ADD | 32804 | -0.0480542 | 0.00847311 | -5.67137 | 1.42851e-08 | . | 17:48925181:G:A |\n",
       "| Aging5 | 17 | 48935189 | G | C | ADD | 32823 | -0.0454070 | 0.00827641 | -5.48632 | 4.13418e-08 | . | 17:48935189:G:C |\n",
       "| Aging5 | 17 | 48963251 | G | A | ADD | 31933 | -0.0483689 | 0.00882648 | -5.47997 | 4.28606e-08 | . | 17:48963251:G:A |\n",
       "| Aging5 | 17 | 48964800 | C | A | ADD | 31973 | -0.0483414 | 0.00882456 | -5.47805 | 4.33275e-08 | . | 17:48964800:C:A |\n",
       "| Aging5 | 17 | 48968500 | G | A | ADD | 31985 | -0.0482350 | 0.00882450 | -5.46603 | 4.63666e-08 | . | 17:48968500:G:A |\n",
       "\n"
      ],
      "text/plain": [
       "   source #CHROM POS      A2 A1 TEST N     BETA       SE         Z       \n",
       "1  Aging5 17     48767335 T  C  ADD  32657 -0.0454927 0.00814636 -5.58442\n",
       "2  Aging5 17     48767634 C  T  ADD  32694 -0.0469005 0.00830042 -5.65037\n",
       "3  Aging5 17     48777744 A  T  ADD  32749 -0.0459204 0.00817785 -5.61522\n",
       "4  Aging5 17     48780125 C  A  ADD  32816 -0.0449831 0.00816123 -5.51180\n",
       "5  Aging5 17     48892897 C  T  ADD  32829 -0.0464216 0.00843165 -5.50564\n",
       "6  Aging5 17     48900991 C  T  ADD  32829 -0.0464010 0.00843458 -5.50128\n",
       "7  Aging5 17     48905018 G  A  ADD  32820 -0.0465990 0.00843625 -5.52366\n",
       "8  Aging5 17     48906458 G  A  ADD  32820 -0.0465990 0.00843625 -5.52366\n",
       "9  Aging5 17     48925181 G  A  ADD  32804 -0.0480542 0.00847311 -5.67137\n",
       "10 Aging5 17     48935189 G  C  ADD  32823 -0.0454070 0.00827641 -5.48632\n",
       "11 Aging5 17     48963251 G  A  ADD  31933 -0.0483689 0.00882648 -5.47997\n",
       "12 Aging5 17     48964800 C  A  ADD  31973 -0.0483414 0.00882456 -5.47805\n",
       "13 Aging5 17     48968500 G  A  ADD  31985 -0.0482350 0.00882450 -5.46603\n",
       "   P           ERRCODE variant_ID     \n",
       "1  2.36346e-08 .       17:48767335:T:C\n",
       "2  1.61430e-08 .       17:48767634:C:T\n",
       "3  1.97906e-08 .       17:48777744:A:T\n",
       "4  3.57858e-08 .       17:48780125:C:A\n",
       "5  3.70570e-08 .       17:48892897:C:T\n",
       "6  3.79846e-08 .       17:48900991:C:T\n",
       "7  3.34530e-08 .       17:48905018:G:A\n",
       "8  3.34530e-08 .       17:48906458:G:A\n",
       "9  1.42851e-08 .       17:48925181:G:A\n",
       "10 4.13418e-08 .       17:48935189:G:C\n",
       "11 4.28606e-08 .       17:48963251:G:A\n",
       "12 4.33275e-08 .       17:48964800:C:A\n",
       "13 4.63666e-08 .       17:48968500:G:A"
      ]
     },
     "metadata": {},
     "output_type": "display_data"
    }
   ],
   "source": [
    "combined_df |> filter(variant_ID %in% variants & P < 5e-8)"
   ]
  }
 ],
 "metadata": {
  "kernelspec": {
   "display_name": "R",
   "language": "R",
   "name": "ir"
  },
  "language_info": {
   "codemirror_mode": "r",
   "file_extension": ".r",
   "mimetype": "text/x-r-source",
   "name": "R",
   "pygments_lexer": "r",
   "version": "4.4.3"
  }
 },
 "nbformat": 4,
 "nbformat_minor": 2
}
