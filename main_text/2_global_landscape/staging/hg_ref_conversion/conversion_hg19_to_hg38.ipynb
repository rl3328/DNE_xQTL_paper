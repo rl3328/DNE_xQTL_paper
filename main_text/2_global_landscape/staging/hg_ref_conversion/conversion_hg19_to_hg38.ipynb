{
 "cells": [
  {
   "cell_type": "markdown",
   "id": "d139ee80-3c33-4720-9c7c-a843a177e377",
   "metadata": {
    "kernel": "SoS"
   },
   "source": [
    "# Liftover conversion from hg19 to hg38"
   ]
  },
  {
   "cell_type": "markdown",
   "id": "b0748847-3fc5-4d7f-a10c-be72cf6b3408",
   "metadata": {
    "kernel": "SoS"
   },
   "source": [
    "## Aim: \n",
    "The GWAS summary statistics were originally based on the hg19 reference genome, whereas our current LD reference panel is hg38-based. To ensure accurate LD positioning for finemapping, we converted the GWAS summary statistics to hg38 using LiftOver.\n",
    "## Input:\n",
    "* LiftOver tool: http://hgdownload.cse.ucsc.edu/admin/exe/linux.x86_64/liftOver\n",
    "* hg19 → hg38 chain file: http://hgdownload.cse.ucsc.edu/goldenPath/hg19/liftOver/hg19ToHg38.over.chain.gz\n",
    "* GWAS summary statistics:\n",
    "1. image_AD: https://drive.google.com/drive/folders/1H1Xj33C-867dxVHOFIh5l_nLluWcnqzx\n",
    "2. image_aging: https://drive.google.com/drive/folders/1l7BKGK5tDAlRWtHKyyjDo94d4N552wZh\n",
    "3. MS: https://zenodo.org/records/14548072\n",
    "* convert.sh: script to convert hg19 to hg38.\n",
    "* file_path.txt: the file recording the path to hg19 GWAS statistic(.bed)\n",
    "## Output:\n",
    "* hg_38 based GWAS summary statistics: `s3://statfungen/ftp_fgc_xqtl/GWAS/image_GWAS_hg38/`\n",
    "1. image_AD: dne_pheno_normalized_residualized.AD_SurrealGAN_*.glm.linear_hg38.gz\n",
    "2. image_aging: surrealgan_aging_pheno_normalized_residualized.r1.glm.linear_hg38.gz\n",
    "3. MS: ms_eur_v4.0.sumstats_hg38.gz\n",
    "\n",
    "## Procedures:\n",
    "1. Format GWAS Summary Statistics for Conversion\n",
    "\n",
    "Convert hg19-based GWAS summary statistics into standard .bed format with the following four required columns:chrom (without the chr prefix) start end region_id (to facilitate merging after conversion)\n",
    "```\n",
    "chrom\tstart\tend\tregion_id\n",
    "<chr>\t<int>\t<int>\t<chr>\n",
    "chr5\t29439275\t29439275\trs667647\n",
    "chr5\t85928892\t85928892\trs113534962\n",
    "```\n",
    "**Note: LiftOver does not support .bed files with more than six columns. Since AD/aging image GWAS summary statistics share the same variant positions across multiple dimensions, we perform the conversion once for both datasets.**\n",
    "\n",
    "2. Perform LiftOver Conversion\n",
    "Use the `convert.sh` script to run LiftOver and map hg19 coordinates to hg38.\n",
    "\n",
    "**Note: the conversion introduced some additional contigs and scaffolds that represent alternative loci or regions that are difficult to place within the main chromosomes, e.g. 'chr14_GL000009v2_random''chr19_KI270938v1_alt'. They are hard to interpret, so I removed them and only keep chr1-22.**\n",
    "\n",
    "3. Merge Back to GWAS Summary Statistics\n",
    "Load the hg38 .bed file and merge it back with the original GWAS summary statistics, preserving all necessary information.\n",
    "\n",
    "## Simple summary for the conversion\n",
    "\n",
    "| Studies | before_conversion(original) | unmapped | after_conversion(final) | overall_dropped | proportion_dropped |\n",
    "|---------|----------------------------|----------|------------------------|-----------------|-------------------|\n",
    "| MS | 8,957,460 | 1,806 | 8,954,288 | 3,172 | 0.0354% |\n",
    "| image_AD* | 6,477,810 | 1,225 | 6,475,770 | 2,040 | 0.0315% |\n",
    "| image_aging* | 8,469,833 | 1,772 | 8,466,963 | 2,870 | 0.0339% |\n",
    "| longevity | 9,085,648 | 1,101 | 9,083,178 | 2,470 | 0.0272% |\n",
    "| mvAge | 6,793,878 | (deleted accidentally) | 6,792,478 | 1,400 | 0.0206% |\n",
    "| PD | 17,510,617 | 1,455 | 17,506,762 | 3,855 | 0.0220% |\n"
   ]
  },
  {
   "cell_type": "markdown",
   "id": "d7b3cea8",
   "metadata": {},
   "source": [
    "## PD"
   ]
  },
  {
   "cell_type": "code",
   "execution_count": 1,
   "id": "7d1e602d",
   "metadata": {
    "vscode": {
     "languageId": "r"
    }
   },
   "outputs": [
    {
     "name": "stderr",
     "output_type": "stream",
     "text": [
      "── \u001b[1mAttaching core tidyverse packages\u001b[22m ──────────────────────── tidyverse 2.0.0 ──\n",
      "\u001b[32m✔\u001b[39m \u001b[34mdplyr    \u001b[39m 1.1.4     \u001b[32m✔\u001b[39m \u001b[34mreadr    \u001b[39m 2.1.5\n",
      "\u001b[32m✔\u001b[39m \u001b[34mforcats  \u001b[39m 1.0.0     \u001b[32m✔\u001b[39m \u001b[34mstringr  \u001b[39m 1.5.1\n",
      "\u001b[32m✔\u001b[39m \u001b[34mggplot2  \u001b[39m 3.5.2     \u001b[32m✔\u001b[39m \u001b[34mtibble   \u001b[39m 3.3.0\n",
      "\u001b[32m✔\u001b[39m \u001b[34mlubridate\u001b[39m 1.9.4     \u001b[32m✔\u001b[39m \u001b[34mtidyr    \u001b[39m 1.3.1\n",
      "\u001b[32m✔\u001b[39m \u001b[34mpurrr    \u001b[39m 1.1.0     \n",
      "── \u001b[1mConflicts\u001b[22m ────────────────────────────────────────── tidyverse_conflicts() ──\n",
      "\u001b[31m✖\u001b[39m \u001b[34mdplyr\u001b[39m::\u001b[32mbetween()\u001b[39m     masks \u001b[34mdata.table\u001b[39m::between()\n",
      "\u001b[31m✖\u001b[39m \u001b[34mdplyr\u001b[39m::\u001b[32mfilter()\u001b[39m      masks \u001b[34mstats\u001b[39m::filter()\n",
      "\u001b[31m✖\u001b[39m \u001b[34mdplyr\u001b[39m::\u001b[32mfirst()\u001b[39m       masks \u001b[34mdata.table\u001b[39m::first()\n",
      "\u001b[31m✖\u001b[39m \u001b[34mlubridate\u001b[39m::\u001b[32mhour()\u001b[39m    masks \u001b[34mdata.table\u001b[39m::hour()\n",
      "\u001b[31m✖\u001b[39m \u001b[34mlubridate\u001b[39m::\u001b[32misoweek()\u001b[39m masks \u001b[34mdata.table\u001b[39m::isoweek()\n",
      "\u001b[31m✖\u001b[39m \u001b[34mdplyr\u001b[39m::\u001b[32mlag()\u001b[39m         masks \u001b[34mstats\u001b[39m::lag()\n",
      "\u001b[31m✖\u001b[39m \u001b[34mdplyr\u001b[39m::\u001b[32mlast()\u001b[39m        masks \u001b[34mdata.table\u001b[39m::last()\n",
      "\u001b[31m✖\u001b[39m \u001b[34mlubridate\u001b[39m::\u001b[32mmday()\u001b[39m    masks \u001b[34mdata.table\u001b[39m::mday()\n",
      "\u001b[31m✖\u001b[39m \u001b[34mlubridate\u001b[39m::\u001b[32mminute()\u001b[39m  masks \u001b[34mdata.table\u001b[39m::minute()\n",
      "\u001b[31m✖\u001b[39m \u001b[34mlubridate\u001b[39m::\u001b[32mmonth()\u001b[39m   masks \u001b[34mdata.table\u001b[39m::month()\n",
      "\u001b[31m✖\u001b[39m \u001b[34mlubridate\u001b[39m::\u001b[32mquarter()\u001b[39m masks \u001b[34mdata.table\u001b[39m::quarter()\n",
      "\u001b[31m✖\u001b[39m \u001b[34mlubridate\u001b[39m::\u001b[32msecond()\u001b[39m  masks \u001b[34mdata.table\u001b[39m::second()\n",
      "\u001b[31m✖\u001b[39m \u001b[34mpurrr\u001b[39m::\u001b[32mtranspose()\u001b[39m   masks \u001b[34mdata.table\u001b[39m::transpose()\n",
      "\u001b[31m✖\u001b[39m \u001b[34mlubridate\u001b[39m::\u001b[32mwday()\u001b[39m    masks \u001b[34mdata.table\u001b[39m::wday()\n",
      "\u001b[31m✖\u001b[39m \u001b[34mlubridate\u001b[39m::\u001b[32mweek()\u001b[39m    masks \u001b[34mdata.table\u001b[39m::week()\n",
      "\u001b[31m✖\u001b[39m \u001b[34mlubridate\u001b[39m::\u001b[32myday()\u001b[39m    masks \u001b[34mdata.table\u001b[39m::yday()\n",
      "\u001b[31m✖\u001b[39m \u001b[34mlubridate\u001b[39m::\u001b[32myear()\u001b[39m    masks \u001b[34mdata.table\u001b[39m::year()\n",
      "\u001b[36mℹ\u001b[39m Use the conflicted package (\u001b[3m\u001b[34m<http://conflicted.r-lib.org/>\u001b[39m\u001b[23m) to force all conflicts to become errors\n"
     ]
    }
   ],
   "source": [
    "library(data.table)\n",
    "library(tidyverse)"
   ]
  },
  {
   "cell_type": "code",
   "execution_count": 9,
   "id": "bb4f9d7a",
   "metadata": {
    "vscode": {
     "languageId": "r"
    }
   },
   "outputs": [],
   "source": [
    "PD_GWAS = fread(\"/home/rl3328/GWAS/PD_GWAS/nallsEtAl2019_excluding23andMe_allVariants.tab.zip\")"
   ]
  },
  {
   "cell_type": "code",
   "execution_count": 10,
   "id": "ad55ddbf",
   "metadata": {
    "vscode": {
     "languageId": "r"
    }
   },
   "outputs": [
    {
     "data": {
      "text/html": [
       "<table class=\"dataframe\">\n",
       "<caption>A data.table: 6 × 9</caption>\n",
       "<thead>\n",
       "\t<tr><th scope=col>SNP</th><th scope=col>A1</th><th scope=col>A2</th><th scope=col>freq</th><th scope=col>b</th><th scope=col>se</th><th scope=col>p</th><th scope=col>N_cases</th><th scope=col>N_controls</th></tr>\n",
       "\t<tr><th scope=col>&lt;chr&gt;</th><th scope=col>&lt;chr&gt;</th><th scope=col>&lt;chr&gt;</th><th scope=col>&lt;dbl&gt;</th><th scope=col>&lt;dbl&gt;</th><th scope=col>&lt;dbl&gt;</th><th scope=col>&lt;dbl&gt;</th><th scope=col>&lt;int&gt;</th><th scope=col>&lt;int&gt;</th></tr>\n",
       "</thead>\n",
       "<tbody>\n",
       "\t<tr><td>chr11:88249377</td><td>T</td><td>C</td><td>0.9931</td><td> 0.1575</td><td>0.1783</td><td>0.3771</td><td> 7161</td><td>  5356</td></tr>\n",
       "\t<tr><td>chr1:60320992 </td><td>A</td><td>G</td><td>0.9336</td><td> 0.0605</td><td>0.0456</td><td>0.1846</td><td>26421</td><td>442271</td></tr>\n",
       "\t<tr><td>chr2:18069070 </td><td>T</td><td>C</td><td>0.9988</td><td>-0.6774</td><td>1.3519</td><td>0.6163</td><td>  582</td><td>   905</td></tr>\n",
       "\t<tr><td>chr8:135908647</td><td>A</td><td>G</td><td>0.2081</td><td>-0.0358</td><td>0.0273</td><td>0.1887</td><td>26421</td><td>442271</td></tr>\n",
       "\t<tr><td>chr12:3871714 </td><td>A</td><td>C</td><td>0.9972</td><td> 0.1489</td><td>1.0636</td><td>0.8886</td><td>  749</td><td>   658</td></tr>\n",
       "\t<tr><td>chr16:77148858</td><td>A</td><td>G</td><td>0.9976</td><td>-0.1213</td><td>0.3874</td><td>0.7543</td><td> 6248</td><td>  4391</td></tr>\n",
       "</tbody>\n",
       "</table>\n"
      ],
      "text/latex": [
       "A data.table: 6 × 9\n",
       "\\begin{tabular}{lllllllll}\n",
       " SNP & A1 & A2 & freq & b & se & p & N\\_cases & N\\_controls\\\\\n",
       " <chr> & <chr> & <chr> & <dbl> & <dbl> & <dbl> & <dbl> & <int> & <int>\\\\\n",
       "\\hline\n",
       "\t chr11:88249377 & T & C & 0.9931 &  0.1575 & 0.1783 & 0.3771 &  7161 &   5356\\\\\n",
       "\t chr1:60320992  & A & G & 0.9336 &  0.0605 & 0.0456 & 0.1846 & 26421 & 442271\\\\\n",
       "\t chr2:18069070  & T & C & 0.9988 & -0.6774 & 1.3519 & 0.6163 &   582 &    905\\\\\n",
       "\t chr8:135908647 & A & G & 0.2081 & -0.0358 & 0.0273 & 0.1887 & 26421 & 442271\\\\\n",
       "\t chr12:3871714  & A & C & 0.9972 &  0.1489 & 1.0636 & 0.8886 &   749 &    658\\\\\n",
       "\t chr16:77148858 & A & G & 0.9976 & -0.1213 & 0.3874 & 0.7543 &  6248 &   4391\\\\\n",
       "\\end{tabular}\n"
      ],
      "text/markdown": [
       "\n",
       "A data.table: 6 × 9\n",
       "\n",
       "| SNP &lt;chr&gt; | A1 &lt;chr&gt; | A2 &lt;chr&gt; | freq &lt;dbl&gt; | b &lt;dbl&gt; | se &lt;dbl&gt; | p &lt;dbl&gt; | N_cases &lt;int&gt; | N_controls &lt;int&gt; |\n",
       "|---|---|---|---|---|---|---|---|---|\n",
       "| chr11:88249377 | T | C | 0.9931 |  0.1575 | 0.1783 | 0.3771 |  7161 |   5356 |\n",
       "| chr1:60320992  | A | G | 0.9336 |  0.0605 | 0.0456 | 0.1846 | 26421 | 442271 |\n",
       "| chr2:18069070  | T | C | 0.9988 | -0.6774 | 1.3519 | 0.6163 |   582 |    905 |\n",
       "| chr8:135908647 | A | G | 0.2081 | -0.0358 | 0.0273 | 0.1887 | 26421 | 442271 |\n",
       "| chr12:3871714  | A | C | 0.9972 |  0.1489 | 1.0636 | 0.8886 |   749 |    658 |\n",
       "| chr16:77148858 | A | G | 0.9976 | -0.1213 | 0.3874 | 0.7543 |  6248 |   4391 |\n",
       "\n"
      ],
      "text/plain": [
       "  SNP            A1 A2 freq   b       se     p      N_cases N_controls\n",
       "1 chr11:88249377 T  C  0.9931  0.1575 0.1783 0.3771  7161     5356    \n",
       "2 chr1:60320992  A  G  0.9336  0.0605 0.0456 0.1846 26421   442271    \n",
       "3 chr2:18069070  T  C  0.9988 -0.6774 1.3519 0.6163   582      905    \n",
       "4 chr8:135908647 A  G  0.2081 -0.0358 0.0273 0.1887 26421   442271    \n",
       "5 chr12:3871714  A  C  0.9972  0.1489 1.0636 0.8886   749      658    \n",
       "6 chr16:77148858 A  G  0.9976 -0.1213 0.3874 0.7543  6248     4391    "
      ]
     },
     "metadata": {},
     "output_type": "display_data"
    },
    {
     "data": {
      "text/html": [
       "<style>\n",
       ".list-inline {list-style: none; margin:0; padding: 0}\n",
       ".list-inline>li {display: inline-block}\n",
       ".list-inline>li:not(:last-child)::after {content: \"\\00b7\"; padding: 0 .5ex}\n",
       "</style>\n",
       "<ol class=list-inline><li>17510617</li><li>9</li></ol>\n"
      ],
      "text/latex": [
       "\\begin{enumerate*}\n",
       "\\item 17510617\n",
       "\\item 9\n",
       "\\end{enumerate*}\n"
      ],
      "text/markdown": [
       "1. 17510617\n",
       "2. 9\n",
       "\n",
       "\n"
      ],
      "text/plain": [
       "[1] 17510617        9"
      ]
     },
     "metadata": {},
     "output_type": "display_data"
    }
   ],
   "source": [
    "head(PD_GWAS)\n",
    "dim(PD_GWAS)"
   ]
  },
  {
   "cell_type": "code",
   "execution_count": 5,
   "id": "eee6b532",
   "metadata": {
    "vscode": {
     "languageId": "r"
    }
   },
   "outputs": [
    {
     "data": {
      "text/html": [
       "0"
      ],
      "text/latex": [
       "0"
      ],
      "text/markdown": [
       "0"
      ],
      "text/plain": [
       "[1] 0"
      ]
     },
     "metadata": {},
     "output_type": "display_data"
    }
   ],
   "source": [
    "sum(grepl(\"[eE]\", PD_GWAS$POS))"
   ]
  },
  {
   "cell_type": "code",
   "execution_count": 13,
   "id": "36e1f20b",
   "metadata": {
    "vscode": {
     "languageId": "r"
    }
   },
   "outputs": [],
   "source": [
    "PD_GWAS_needed = PD_GWAS |> mutate(chrom = paste0(\"chr\",CHR), start = POS, end = POS, region_id = SNP) |> select(chrom, start, end, region_id)"
   ]
  },
  {
   "cell_type": "code",
   "execution_count": 14,
   "id": "dd757b8b",
   "metadata": {
    "vscode": {
     "languageId": "r"
    }
   },
   "outputs": [
    {
     "data": {
      "text/html": [
       "<table class=\"dataframe\">\n",
       "<caption>A data.table: 6 × 4</caption>\n",
       "<thead>\n",
       "\t<tr><th scope=col>chrom</th><th scope=col>start</th><th scope=col>end</th><th scope=col>region_id</th></tr>\n",
       "\t<tr><th scope=col>&lt;chr&gt;</th><th scope=col>&lt;int&gt;</th><th scope=col>&lt;int&gt;</th><th scope=col>&lt;chr&gt;</th></tr>\n",
       "</thead>\n",
       "<tbody>\n",
       "\t<tr><td>chr11</td><td> 88249377</td><td> 88249377</td><td>chr11:88249377</td></tr>\n",
       "\t<tr><td>chr1 </td><td> 60320992</td><td> 60320992</td><td>chr1:60320992 </td></tr>\n",
       "\t<tr><td>chr2 </td><td> 18069070</td><td> 18069070</td><td>chr2:18069070 </td></tr>\n",
       "\t<tr><td>chr8 </td><td>135908647</td><td>135908647</td><td>chr8:135908647</td></tr>\n",
       "\t<tr><td>chr12</td><td>  3871714</td><td>  3871714</td><td>chr12:3871714 </td></tr>\n",
       "\t<tr><td>chr16</td><td> 77148858</td><td> 77148858</td><td>chr16:77148858</td></tr>\n",
       "</tbody>\n",
       "</table>\n"
      ],
      "text/latex": [
       "A data.table: 6 × 4\n",
       "\\begin{tabular}{llll}\n",
       " chrom & start & end & region\\_id\\\\\n",
       " <chr> & <int> & <int> & <chr>\\\\\n",
       "\\hline\n",
       "\t chr11 &  88249377 &  88249377 & chr11:88249377\\\\\n",
       "\t chr1  &  60320992 &  60320992 & chr1:60320992 \\\\\n",
       "\t chr2  &  18069070 &  18069070 & chr2:18069070 \\\\\n",
       "\t chr8  & 135908647 & 135908647 & chr8:135908647\\\\\n",
       "\t chr12 &   3871714 &   3871714 & chr12:3871714 \\\\\n",
       "\t chr16 &  77148858 &  77148858 & chr16:77148858\\\\\n",
       "\\end{tabular}\n"
      ],
      "text/markdown": [
       "\n",
       "A data.table: 6 × 4\n",
       "\n",
       "| chrom &lt;chr&gt; | start &lt;int&gt; | end &lt;int&gt; | region_id &lt;chr&gt; |\n",
       "|---|---|---|---|\n",
       "| chr11 |  88249377 |  88249377 | chr11:88249377 |\n",
       "| chr1  |  60320992 |  60320992 | chr1:60320992  |\n",
       "| chr2  |  18069070 |  18069070 | chr2:18069070  |\n",
       "| chr8  | 135908647 | 135908647 | chr8:135908647 |\n",
       "| chr12 |   3871714 |   3871714 | chr12:3871714  |\n",
       "| chr16 |  77148858 |  77148858 | chr16:77148858 |\n",
       "\n"
      ],
      "text/plain": [
       "  chrom start     end       region_id     \n",
       "1 chr11  88249377  88249377 chr11:88249377\n",
       "2 chr1   60320992  60320992 chr1:60320992 \n",
       "3 chr2   18069070  18069070 chr2:18069070 \n",
       "4 chr8  135908647 135908647 chr8:135908647\n",
       "5 chr12   3871714   3871714 chr12:3871714 \n",
       "6 chr16  77148858  77148858 chr16:77148858"
      ]
     },
     "metadata": {},
     "output_type": "display_data"
    },
    {
     "data": {
      "text/html": [
       "<style>\n",
       ".list-inline {list-style: none; margin:0; padding: 0}\n",
       ".list-inline>li {display: inline-block}\n",
       ".list-inline>li:not(:last-child)::after {content: \"\\00b7\"; padding: 0 .5ex}\n",
       "</style>\n",
       "<ol class=list-inline><li>17510617</li><li>4</li></ol>\n"
      ],
      "text/latex": [
       "\\begin{enumerate*}\n",
       "\\item 17510617\n",
       "\\item 4\n",
       "\\end{enumerate*}\n"
      ],
      "text/markdown": [
       "1. 17510617\n",
       "2. 4\n",
       "\n",
       "\n"
      ],
      "text/plain": [
       "[1] 17510617        4"
      ]
     },
     "metadata": {},
     "output_type": "display_data"
    }
   ],
   "source": [
    "head(PD_GWAS_needed)\n",
    "dim(PD_GWAS_needed)"
   ]
  },
  {
   "cell_type": "code",
   "execution_count": 15,
   "id": "ed0c6cd6",
   "metadata": {
    "vscode": {
     "languageId": "r"
    }
   },
   "outputs": [],
   "source": [
    "fwrite(PD_GWAS_needed,\"/home/rl3328/GWAS/PD_GWAS/hg38conversion/PD_GWAS_hg19.bed\", sep = '\\t',col.names=FALSE)"
   ]
  },
  {
   "cell_type": "markdown",
   "id": "109e93de",
   "metadata": {},
   "source": [
    "# Read in the hg38 .bed(three columns-chrom, pos, id) and merge it back to the original summary statistics "
   ]
  },
  {
   "cell_type": "code",
   "execution_count": 18,
   "id": "16e6fa65",
   "metadata": {
    "vscode": {
     "languageId": "r"
    }
   },
   "outputs": [],
   "source": [
    "PD_GWAS_hg38 = fread(\"/home/rl3328/GWAS/PD_GWAS/hg38conversion/PD_GWAS_hg19.to_hg38.bed\")"
   ]
  },
  {
   "cell_type": "code",
   "execution_count": 19,
   "id": "97917eaf",
   "metadata": {
    "vscode": {
     "languageId": "r"
    }
   },
   "outputs": [
    {
     "data": {
      "text/html": [
       "<table class=\"dataframe\">\n",
       "<caption>A data.table: 6 × 4</caption>\n",
       "<thead>\n",
       "\t<tr><th scope=col>V1</th><th scope=col>V2</th><th scope=col>V3</th><th scope=col>V4</th></tr>\n",
       "\t<tr><th scope=col>&lt;chr&gt;</th><th scope=col>&lt;int&gt;</th><th scope=col>&lt;int&gt;</th><th scope=col>&lt;chr&gt;</th></tr>\n",
       "</thead>\n",
       "<tbody>\n",
       "\t<tr><td>chr11</td><td> 88516209</td><td> 88516209</td><td>chr11:88249377</td></tr>\n",
       "\t<tr><td>chr1 </td><td> 59855320</td><td> 59855320</td><td>chr1:60320992 </td></tr>\n",
       "\t<tr><td>chr2 </td><td> 17887803</td><td> 17887803</td><td>chr2:18069070 </td></tr>\n",
       "\t<tr><td>chr8 </td><td>134896404</td><td>134896404</td><td>chr8:135908647</td></tr>\n",
       "\t<tr><td>chr12</td><td>  3762548</td><td>  3762548</td><td>chr12:3871714 </td></tr>\n",
       "\t<tr><td>chr16</td><td> 77114961</td><td> 77114961</td><td>chr16:77148858</td></tr>\n",
       "</tbody>\n",
       "</table>\n"
      ],
      "text/latex": [
       "A data.table: 6 × 4\n",
       "\\begin{tabular}{llll}\n",
       " V1 & V2 & V3 & V4\\\\\n",
       " <chr> & <int> & <int> & <chr>\\\\\n",
       "\\hline\n",
       "\t chr11 &  88516209 &  88516209 & chr11:88249377\\\\\n",
       "\t chr1  &  59855320 &  59855320 & chr1:60320992 \\\\\n",
       "\t chr2  &  17887803 &  17887803 & chr2:18069070 \\\\\n",
       "\t chr8  & 134896404 & 134896404 & chr8:135908647\\\\\n",
       "\t chr12 &   3762548 &   3762548 & chr12:3871714 \\\\\n",
       "\t chr16 &  77114961 &  77114961 & chr16:77148858\\\\\n",
       "\\end{tabular}\n"
      ],
      "text/markdown": [
       "\n",
       "A data.table: 6 × 4\n",
       "\n",
       "| V1 &lt;chr&gt; | V2 &lt;int&gt; | V3 &lt;int&gt; | V4 &lt;chr&gt; |\n",
       "|---|---|---|---|\n",
       "| chr11 |  88516209 |  88516209 | chr11:88249377 |\n",
       "| chr1  |  59855320 |  59855320 | chr1:60320992  |\n",
       "| chr2  |  17887803 |  17887803 | chr2:18069070  |\n",
       "| chr8  | 134896404 | 134896404 | chr8:135908647 |\n",
       "| chr12 |   3762548 |   3762548 | chr12:3871714  |\n",
       "| chr16 |  77114961 |  77114961 | chr16:77148858 |\n",
       "\n"
      ],
      "text/plain": [
       "  V1    V2        V3        V4            \n",
       "1 chr11  88516209  88516209 chr11:88249377\n",
       "2 chr1   59855320  59855320 chr1:60320992 \n",
       "3 chr2   17887803  17887803 chr2:18069070 \n",
       "4 chr8  134896404 134896404 chr8:135908647\n",
       "5 chr12   3762548   3762548 chr12:3871714 \n",
       "6 chr16  77114961  77114961 chr16:77148858"
      ]
     },
     "metadata": {},
     "output_type": "display_data"
    }
   ],
   "source": [
    "head(PD_GWAS_hg38)\n"
   ]
  },
  {
   "cell_type": "code",
   "execution_count": 21,
   "id": "3639e96c",
   "metadata": {
    "vscode": {
     "languageId": "r"
    }
   },
   "outputs": [
    {
     "data": {
      "text/html": [
       "<style>\n",
       ".list-inline {list-style: none; margin:0; padding: 0}\n",
       ".list-inline>li {display: inline-block}\n",
       ".list-inline>li:not(:last-child)::after {content: \"\\00b7\"; padding: 0 .5ex}\n",
       "</style>\n",
       "<ol class=list-inline><li>17509162</li><li>4</li></ol>\n"
      ],
      "text/latex": [
       "\\begin{enumerate*}\n",
       "\\item 17509162\n",
       "\\item 4\n",
       "\\end{enumerate*}\n"
      ],
      "text/markdown": [
       "1. 17509162\n",
       "2. 4\n",
       "\n",
       "\n"
      ],
      "text/plain": [
       "[1] 17509162        4"
      ]
     },
     "metadata": {},
     "output_type": "display_data"
    }
   ],
   "source": [
    "dim(PD_GWAS_hg38)"
   ]
  },
  {
   "cell_type": "code",
   "execution_count": 22,
   "id": "2fb16640",
   "metadata": {
    "vscode": {
     "languageId": "r"
    }
   },
   "outputs": [],
   "source": [
    "PD_GWAS_hg38 = PD_GWAS_hg38[,-3]"
   ]
  },
  {
   "cell_type": "code",
   "execution_count": 23,
   "id": "02dabd1a",
   "metadata": {
    "vscode": {
     "languageId": "r"
    }
   },
   "outputs": [],
   "source": [
    "colnames(PD_GWAS_hg38) <- c(\"chr\",\"pos\",\"rsid\")"
   ]
  },
  {
   "cell_type": "code",
   "execution_count": 24,
   "id": "008bd19e",
   "metadata": {
    "vscode": {
     "languageId": "r"
    }
   },
   "outputs": [],
   "source": [
    "PD_GWAS_hg38 = PD_GWAS_hg38 |> mutate(chr = gsub(\"chr\", \"\", chr))"
   ]
  },
  {
   "cell_type": "code",
   "execution_count": 25,
   "id": "d97a4f7a",
   "metadata": {
    "vscode": {
     "languageId": "r"
    }
   },
   "outputs": [
    {
     "name": "stderr",
     "output_type": "stream",
     "text": [
      "Warning message:\n",
      "“\u001b[1m\u001b[22mThere was 1 warning in `mutate()`.\n",
      "\u001b[1m\u001b[22m\u001b[36mℹ\u001b[39m In argument: `chr = as.integer(chr)`.\n",
      "Caused by warning:\n",
      "\u001b[33m!\u001b[39m NAs introduced by coercion”\n"
     ]
    }
   ],
   "source": [
    "PD_GWAS_hg38 = PD_GWAS_hg38 |> mutate(chr=as.integer(chr))"
   ]
  },
  {
   "cell_type": "code",
   "execution_count": 26,
   "id": "5aafbd39",
   "metadata": {
    "vscode": {
     "languageId": "r"
    }
   },
   "outputs": [],
   "source": [
    "PD_GWAS_hg38 = PD_GWAS_hg38 |> filter(!is.na(chr))"
   ]
  },
  {
   "cell_type": "code",
   "execution_count": 27,
   "id": "91d88f68",
   "metadata": {
    "vscode": {
     "languageId": "r"
    }
   },
   "outputs": [
    {
     "data": {
      "text/html": [
       "<table class=\"dataframe\">\n",
       "<caption>A data.table: 6 × 3</caption>\n",
       "<thead>\n",
       "\t<tr><th scope=col>chr</th><th scope=col>pos</th><th scope=col>rsid</th></tr>\n",
       "\t<tr><th scope=col>&lt;int&gt;</th><th scope=col>&lt;int&gt;</th><th scope=col>&lt;chr&gt;</th></tr>\n",
       "</thead>\n",
       "<tbody>\n",
       "\t<tr><td>11</td><td> 88516209</td><td>chr11:88249377</td></tr>\n",
       "\t<tr><td> 1</td><td> 59855320</td><td>chr1:60320992 </td></tr>\n",
       "\t<tr><td> 2</td><td> 17887803</td><td>chr2:18069070 </td></tr>\n",
       "\t<tr><td> 8</td><td>134896404</td><td>chr8:135908647</td></tr>\n",
       "\t<tr><td>12</td><td>  3762548</td><td>chr12:3871714 </td></tr>\n",
       "\t<tr><td>16</td><td> 77114961</td><td>chr16:77148858</td></tr>\n",
       "</tbody>\n",
       "</table>\n"
      ],
      "text/latex": [
       "A data.table: 6 × 3\n",
       "\\begin{tabular}{lll}\n",
       " chr & pos & rsid\\\\\n",
       " <int> & <int> & <chr>\\\\\n",
       "\\hline\n",
       "\t 11 &  88516209 & chr11:88249377\\\\\n",
       "\t  1 &  59855320 & chr1:60320992 \\\\\n",
       "\t  2 &  17887803 & chr2:18069070 \\\\\n",
       "\t  8 & 134896404 & chr8:135908647\\\\\n",
       "\t 12 &   3762548 & chr12:3871714 \\\\\n",
       "\t 16 &  77114961 & chr16:77148858\\\\\n",
       "\\end{tabular}\n"
      ],
      "text/markdown": [
       "\n",
       "A data.table: 6 × 3\n",
       "\n",
       "| chr &lt;int&gt; | pos &lt;int&gt; | rsid &lt;chr&gt; |\n",
       "|---|---|---|\n",
       "| 11 |  88516209 | chr11:88249377 |\n",
       "|  1 |  59855320 | chr1:60320992  |\n",
       "|  2 |  17887803 | chr2:18069070  |\n",
       "|  8 | 134896404 | chr8:135908647 |\n",
       "| 12 |   3762548 | chr12:3871714  |\n",
       "| 16 |  77114961 | chr16:77148858 |\n",
       "\n"
      ],
      "text/plain": [
       "  chr pos       rsid          \n",
       "1 11   88516209 chr11:88249377\n",
       "2  1   59855320 chr1:60320992 \n",
       "3  2   17887803 chr2:18069070 \n",
       "4  8  134896404 chr8:135908647\n",
       "5 12    3762548 chr12:3871714 \n",
       "6 16   77114961 chr16:77148858"
      ]
     },
     "metadata": {},
     "output_type": "display_data"
    },
    {
     "data": {
      "text/html": [
       "<style>\n",
       ".list-inline {list-style: none; margin:0; padding: 0}\n",
       ".list-inline>li {display: inline-block}\n",
       ".list-inline>li:not(:last-child)::after {content: \"\\00b7\"; padding: 0 .5ex}\n",
       "</style>\n",
       "<ol class=list-inline><li>17506762</li><li>3</li></ol>\n"
      ],
      "text/latex": [
       "\\begin{enumerate*}\n",
       "\\item 17506762\n",
       "\\item 3\n",
       "\\end{enumerate*}\n"
      ],
      "text/markdown": [
       "1. 17506762\n",
       "2. 3\n",
       "\n",
       "\n"
      ],
      "text/plain": [
       "[1] 17506762        3"
      ]
     },
     "metadata": {},
     "output_type": "display_data"
    }
   ],
   "source": [
    "head(PD_GWAS_hg38)\n",
    "dim(PD_GWAS_hg38)"
   ]
  },
  {
   "cell_type": "code",
   "execution_count": 29,
   "id": "d53aa16c",
   "metadata": {
    "vscode": {
     "languageId": "r"
    }
   },
   "outputs": [
    {
     "data": {
      "text/html": [
       "<style>\n",
       ".list-inline {list-style: none; margin:0; padding: 0}\n",
       ".list-inline>li {display: inline-block}\n",
       ".list-inline>li:not(:last-child)::after {content: \"\\00b7\"; padding: 0 .5ex}\n",
       "</style>\n",
       "<ol class=list-inline><li>11</li><li>1</li><li>2</li><li>8</li><li>12</li><li>16</li><li>5</li><li>7</li><li>18</li><li>10</li><li>19</li><li>20</li><li>6</li><li>9</li><li>3</li><li>22</li><li>4</li><li>13</li><li>15</li><li>14</li><li>21</li><li>17</li></ol>\n"
      ],
      "text/latex": [
       "\\begin{enumerate*}\n",
       "\\item 11\n",
       "\\item 1\n",
       "\\item 2\n",
       "\\item 8\n",
       "\\item 12\n",
       "\\item 16\n",
       "\\item 5\n",
       "\\item 7\n",
       "\\item 18\n",
       "\\item 10\n",
       "\\item 19\n",
       "\\item 20\n",
       "\\item 6\n",
       "\\item 9\n",
       "\\item 3\n",
       "\\item 22\n",
       "\\item 4\n",
       "\\item 13\n",
       "\\item 15\n",
       "\\item 14\n",
       "\\item 21\n",
       "\\item 17\n",
       "\\end{enumerate*}\n"
      ],
      "text/markdown": [
       "1. 11\n",
       "2. 1\n",
       "3. 2\n",
       "4. 8\n",
       "5. 12\n",
       "6. 16\n",
       "7. 5\n",
       "8. 7\n",
       "9. 18\n",
       "10. 10\n",
       "11. 19\n",
       "12. 20\n",
       "13. 6\n",
       "14. 9\n",
       "15. 3\n",
       "16. 22\n",
       "17. 4\n",
       "18. 13\n",
       "19. 15\n",
       "20. 14\n",
       "21. 21\n",
       "22. 17\n",
       "\n",
       "\n"
      ],
      "text/plain": [
       " [1] 11  1  2  8 12 16  5  7 18 10 19 20  6  9  3 22  4 13 15 14 21 17"
      ]
     },
     "metadata": {},
     "output_type": "display_data"
    }
   ],
   "source": [
    "unique(PD_GWAS_hg38$chr)"
   ]
  },
  {
   "cell_type": "code",
   "execution_count": 31,
   "id": "1792a90d",
   "metadata": {
    "vscode": {
     "languageId": "r"
    }
   },
   "outputs": [],
   "source": [
    "PD_GWAS_remain = PD_GWAS |> select(-CHR, -POS)\n",
    "PD_GWAS_hg38_final = PD_GWAS_remain |> inner_join(PD_GWAS_hg38, by = c('SNP' ='rsid'))"
   ]
  },
  {
   "cell_type": "code",
   "execution_count": 32,
   "id": "3cbe01f1",
   "metadata": {
    "vscode": {
     "languageId": "r"
    }
   },
   "outputs": [
    {
     "data": {
      "text/html": [
       "<table class=\"dataframe\">\n",
       "<caption>A data.table: 6 × 11</caption>\n",
       "<thead>\n",
       "\t<tr><th scope=col>A1</th><th scope=col>A2</th><th scope=col>SNP</th><th scope=col>freq</th><th scope=col>b</th><th scope=col>se</th><th scope=col>p</th><th scope=col>N_cases</th><th scope=col>N_controls</th><th scope=col>chr</th><th scope=col>pos</th></tr>\n",
       "\t<tr><th scope=col>&lt;chr&gt;</th><th scope=col>&lt;chr&gt;</th><th scope=col>&lt;chr&gt;</th><th scope=col>&lt;dbl&gt;</th><th scope=col>&lt;dbl&gt;</th><th scope=col>&lt;dbl&gt;</th><th scope=col>&lt;dbl&gt;</th><th scope=col>&lt;int&gt;</th><th scope=col>&lt;int&gt;</th><th scope=col>&lt;int&gt;</th><th scope=col>&lt;int&gt;</th></tr>\n",
       "</thead>\n",
       "<tbody>\n",
       "\t<tr><td>T</td><td>C</td><td>chr11:88249377</td><td>0.9931</td><td> 0.1575</td><td>0.1783</td><td>0.3771</td><td> 7161</td><td>  5356</td><td>11</td><td> 88516209</td></tr>\n",
       "\t<tr><td>A</td><td>G</td><td>chr1:60320992 </td><td>0.9336</td><td> 0.0605</td><td>0.0456</td><td>0.1846</td><td>26421</td><td>442271</td><td> 1</td><td> 59855320</td></tr>\n",
       "\t<tr><td>T</td><td>C</td><td>chr2:18069070 </td><td>0.9988</td><td>-0.6774</td><td>1.3519</td><td>0.6163</td><td>  582</td><td>   905</td><td> 2</td><td> 17887803</td></tr>\n",
       "\t<tr><td>A</td><td>G</td><td>chr8:135908647</td><td>0.2081</td><td>-0.0358</td><td>0.0273</td><td>0.1887</td><td>26421</td><td>442271</td><td> 8</td><td>134896404</td></tr>\n",
       "\t<tr><td>A</td><td>C</td><td>chr12:3871714 </td><td>0.9972</td><td> 0.1489</td><td>1.0636</td><td>0.8886</td><td>  749</td><td>   658</td><td>12</td><td>  3762548</td></tr>\n",
       "\t<tr><td>A</td><td>G</td><td>chr16:77148858</td><td>0.9976</td><td>-0.1213</td><td>0.3874</td><td>0.7543</td><td> 6248</td><td>  4391</td><td>16</td><td> 77114961</td></tr>\n",
       "</tbody>\n",
       "</table>\n"
      ],
      "text/latex": [
       "A data.table: 6 × 11\n",
       "\\begin{tabular}{lllllllllll}\n",
       " A1 & A2 & SNP & freq & b & se & p & N\\_cases & N\\_controls & chr & pos\\\\\n",
       " <chr> & <chr> & <chr> & <dbl> & <dbl> & <dbl> & <dbl> & <int> & <int> & <int> & <int>\\\\\n",
       "\\hline\n",
       "\t T & C & chr11:88249377 & 0.9931 &  0.1575 & 0.1783 & 0.3771 &  7161 &   5356 & 11 &  88516209\\\\\n",
       "\t A & G & chr1:60320992  & 0.9336 &  0.0605 & 0.0456 & 0.1846 & 26421 & 442271 &  1 &  59855320\\\\\n",
       "\t T & C & chr2:18069070  & 0.9988 & -0.6774 & 1.3519 & 0.6163 &   582 &    905 &  2 &  17887803\\\\\n",
       "\t A & G & chr8:135908647 & 0.2081 & -0.0358 & 0.0273 & 0.1887 & 26421 & 442271 &  8 & 134896404\\\\\n",
       "\t A & C & chr12:3871714  & 0.9972 &  0.1489 & 1.0636 & 0.8886 &   749 &    658 & 12 &   3762548\\\\\n",
       "\t A & G & chr16:77148858 & 0.9976 & -0.1213 & 0.3874 & 0.7543 &  6248 &   4391 & 16 &  77114961\\\\\n",
       "\\end{tabular}\n"
      ],
      "text/markdown": [
       "\n",
       "A data.table: 6 × 11\n",
       "\n",
       "| A1 &lt;chr&gt; | A2 &lt;chr&gt; | SNP &lt;chr&gt; | freq &lt;dbl&gt; | b &lt;dbl&gt; | se &lt;dbl&gt; | p &lt;dbl&gt; | N_cases &lt;int&gt; | N_controls &lt;int&gt; | chr &lt;int&gt; | pos &lt;int&gt; |\n",
       "|---|---|---|---|---|---|---|---|---|---|---|\n",
       "| T | C | chr11:88249377 | 0.9931 |  0.1575 | 0.1783 | 0.3771 |  7161 |   5356 | 11 |  88516209 |\n",
       "| A | G | chr1:60320992  | 0.9336 |  0.0605 | 0.0456 | 0.1846 | 26421 | 442271 |  1 |  59855320 |\n",
       "| T | C | chr2:18069070  | 0.9988 | -0.6774 | 1.3519 | 0.6163 |   582 |    905 |  2 |  17887803 |\n",
       "| A | G | chr8:135908647 | 0.2081 | -0.0358 | 0.0273 | 0.1887 | 26421 | 442271 |  8 | 134896404 |\n",
       "| A | C | chr12:3871714  | 0.9972 |  0.1489 | 1.0636 | 0.8886 |   749 |    658 | 12 |   3762548 |\n",
       "| A | G | chr16:77148858 | 0.9976 | -0.1213 | 0.3874 | 0.7543 |  6248 |   4391 | 16 |  77114961 |\n",
       "\n"
      ],
      "text/plain": [
       "  A1 A2 SNP            freq   b       se     p      N_cases N_controls chr\n",
       "1 T  C  chr11:88249377 0.9931  0.1575 0.1783 0.3771  7161     5356     11 \n",
       "2 A  G  chr1:60320992  0.9336  0.0605 0.0456 0.1846 26421   442271      1 \n",
       "3 T  C  chr2:18069070  0.9988 -0.6774 1.3519 0.6163   582      905      2 \n",
       "4 A  G  chr8:135908647 0.2081 -0.0358 0.0273 0.1887 26421   442271      8 \n",
       "5 A  C  chr12:3871714  0.9972  0.1489 1.0636 0.8886   749      658     12 \n",
       "6 A  G  chr16:77148858 0.9976 -0.1213 0.3874 0.7543  6248     4391     16 \n",
       "  pos      \n",
       "1  88516209\n",
       "2  59855320\n",
       "3  17887803\n",
       "4 134896404\n",
       "5   3762548\n",
       "6  77114961"
      ]
     },
     "metadata": {},
     "output_type": "display_data"
    },
    {
     "data": {
      "text/html": [
       "<style>\n",
       ".list-inline {list-style: none; margin:0; padding: 0}\n",
       ".list-inline>li {display: inline-block}\n",
       ".list-inline>li:not(:last-child)::after {content: \"\\00b7\"; padding: 0 .5ex}\n",
       "</style>\n",
       "<ol class=list-inline><li>17506762</li><li>11</li></ol>\n"
      ],
      "text/latex": [
       "\\begin{enumerate*}\n",
       "\\item 17506762\n",
       "\\item 11\n",
       "\\end{enumerate*}\n"
      ],
      "text/markdown": [
       "1. 17506762\n",
       "2. 11\n",
       "\n",
       "\n"
      ],
      "text/plain": [
       "[1] 17506762       11"
      ]
     },
     "metadata": {},
     "output_type": "display_data"
    }
   ],
   "source": [
    "head(PD_GWAS_hg38_final)\n",
    "dim(PD_GWAS_hg38_final)"
   ]
  },
  {
   "cell_type": "code",
   "execution_count": 33,
   "id": "82a63e82",
   "metadata": {
    "vscode": {
     "languageId": "r"
    }
   },
   "outputs": [],
   "source": [
    "PD_GWAS = PD_GWAS |> mutate(\n",
    "    CHR = as.integer(gsub(\"chr(\\\\d+):.*\", \"\\\\1\", SNP)),           # Extract chromosome number\n",
    "    POS = as.integer(gsub(\".*:(\\\\d+).*\", \"\\\\1\", SNP)) # Extract position number\n",
    "  )"
   ]
  },
  {
   "cell_type": "code",
   "execution_count": 34,
   "id": "838f7f2f",
   "metadata": {
    "vscode": {
     "languageId": "r"
    }
   },
   "outputs": [],
   "source": [
    "PD_GWAS_hg38_final = PD_GWAS_hg38_final |> arrange(chr, pos) |> select(chr, pos, A1, A2, everything())"
   ]
  },
  {
   "cell_type": "code",
   "execution_count": 36,
   "id": "3ddd0537",
   "metadata": {
    "vscode": {
     "languageId": "r"
    }
   },
   "outputs": [],
   "source": [
    "fwrite(PD_GWAS_hg38_final, \"/home/rl3328/GWAS/PD_GWAS/PD_nalls2019.sumstats_hg38.tsv.gz\", sep = '\\t')"
   ]
  },
  {
   "cell_type": "code",
   "execution_count": null,
   "id": "e9f86ed9",
   "metadata": {
    "vscode": {
     "languageId": "r"
    }
   },
   "outputs": [],
   "source": [
    "# Method 1: Process header and data separately\n",
    "!(zcat /home/rl3328/GWAS/PD_GWAS/PD_nalls2019.sumstats_hg38.tsv.gz | head -1 | sed 's/^/#/'; \\\n",
    " zcat /home/rl3328/GWAS/PD_GWAS/PD_nalls2019.sumstats_hg38.tsv.gz | tail -n +2 | \\\n",
    " awk 'BEGIN{OFS=\"\\t\"} {$2=int($2); print}' | sort -k1,1V -k2,2n) | \\\n",
    "bgzip > /home/rl3328/GWAS/PD_GWAS/PD_nalls2019.sumstats_hg38_sorted.tsv.gz\n",
    "\n",
    "tabix -s 1 -b 2 -e 2 /home/rl3328/GWAS/PD_GWAS/PD_nalls2019.sumstats_hg38_sorted.tsv.gz"
   ]
  },
  {
   "cell_type": "markdown",
   "id": "f4b3191e",
   "metadata": {},
   "source": [
    "## mvAge"
   ]
  },
  {
   "cell_type": "markdown",
   "id": "d1bf68e7",
   "metadata": {},
   "source": [
    "### format the input hg19 .bed for mvAge"
   ]
  },
  {
   "cell_type": "code",
   "execution_count": 15,
   "id": "9ea96361",
   "metadata": {
    "vscode": {
     "languageId": "r"
    }
   },
   "outputs": [],
   "source": [
    "mvAge = fread(\"/home/rl3328/GWAS/mvAge_GWAS/mvAge.summary.EUR.txt\")"
   ]
  },
  {
   "cell_type": "code",
   "execution_count": 30,
   "id": "e403698b",
   "metadata": {
    "vscode": {
     "languageId": "r"
    }
   },
   "outputs": [
    {
     "data": {
      "text/html": [
       "<style>\n",
       ".list-inline {list-style: none; margin:0; padding: 0}\n",
       ".list-inline>li {display: inline-block}\n",
       ".list-inline>li:not(:last-child)::after {content: \"\\00b7\"; padding: 0 .5ex}\n",
       "</style>\n",
       "<ol class=list-inline><li>1</li><li>2</li><li>3</li><li>4</li><li>5</li><li>6</li><li>7</li><li>8</li><li>9</li><li>10</li><li>11</li><li>12</li><li>13</li><li>14</li><li>15</li><li>16</li><li>17</li><li>18</li><li>19</li><li>20</li><li>21</li><li>22</li></ol>\n"
      ],
      "text/latex": [
       "\\begin{enumerate*}\n",
       "\\item 1\n",
       "\\item 2\n",
       "\\item 3\n",
       "\\item 4\n",
       "\\item 5\n",
       "\\item 6\n",
       "\\item 7\n",
       "\\item 8\n",
       "\\item 9\n",
       "\\item 10\n",
       "\\item 11\n",
       "\\item 12\n",
       "\\item 13\n",
       "\\item 14\n",
       "\\item 15\n",
       "\\item 16\n",
       "\\item 17\n",
       "\\item 18\n",
       "\\item 19\n",
       "\\item 20\n",
       "\\item 21\n",
       "\\item 22\n",
       "\\end{enumerate*}\n"
      ],
      "text/markdown": [
       "1. 1\n",
       "2. 2\n",
       "3. 3\n",
       "4. 4\n",
       "5. 5\n",
       "6. 6\n",
       "7. 7\n",
       "8. 8\n",
       "9. 9\n",
       "10. 10\n",
       "11. 11\n",
       "12. 12\n",
       "13. 13\n",
       "14. 14\n",
       "15. 15\n",
       "16. 16\n",
       "17. 17\n",
       "18. 18\n",
       "19. 19\n",
       "20. 20\n",
       "21. 21\n",
       "22. 22\n",
       "\n",
       "\n"
      ],
      "text/plain": [
       " [1]  1  2  3  4  5  6  7  8  9 10 11 12 13 14 15 16 17 18 19 20 21 22"
      ]
     },
     "metadata": {},
     "output_type": "display_data"
    }
   ],
   "source": [
    "unique(mvAge$CHR)"
   ]
  },
  {
   "cell_type": "code",
   "execution_count": 4,
   "id": "c6ada54b",
   "metadata": {
    "vscode": {
     "languageId": "r"
    }
   },
   "outputs": [
    {
     "data": {
      "text/html": [
       "<table class=\"dataframe\">\n",
       "<caption>A data.table: 6 × 9</caption>\n",
       "<thead>\n",
       "\t<tr><th scope=col>SNP</th><th scope=col>CHR</th><th scope=col>BP</th><th scope=col>MAF</th><th scope=col>effect_allele</th><th scope=col>other_allele</th><th scope=col>beta</th><th scope=col>se</th><th scope=col>Pvalue</th></tr>\n",
       "\t<tr><th scope=col>&lt;chr&gt;</th><th scope=col>&lt;int&gt;</th><th scope=col>&lt;dbl&gt;</th><th scope=col>&lt;dbl&gt;</th><th scope=col>&lt;chr&gt;</th><th scope=col>&lt;chr&gt;</th><th scope=col>&lt;dbl&gt;</th><th scope=col>&lt;dbl&gt;</th><th scope=col>&lt;dbl&gt;</th></tr>\n",
       "</thead>\n",
       "<tbody>\n",
       "\t<tr><td>rs3094315</td><td>1</td><td>752566</td><td>0.160040</td><td>G</td><td>A</td><td>-0.001079550</td><td>0.001391549</td><td>0.4378729</td></tr>\n",
       "\t<tr><td>rs3131972</td><td>1</td><td>752721</td><td>0.161034</td><td>A</td><td>G</td><td>-0.001130483</td><td>0.001389050</td><td>0.4157290</td></tr>\n",
       "\t<tr><td>rs2073813</td><td>1</td><td>753541</td><td>0.123260</td><td>G</td><td>A</td><td> 0.001502330</td><td>0.001554297</td><td>0.3337611</td></tr>\n",
       "\t<tr><td>rs3131969</td><td>1</td><td>754182</td><td>0.128231</td><td>A</td><td>G</td><td>-0.001468959</td><td>0.001528045</td><td>0.3363850</td></tr>\n",
       "\t<tr><td>rs3131968</td><td>1</td><td>754192</td><td>0.128231</td><td>A</td><td>G</td><td>-0.001411652</td><td>0.001528122</td><td>0.3556000</td></tr>\n",
       "\t<tr><td>rs3131967</td><td>1</td><td>754334</td><td>0.128231</td><td>T</td><td>C</td><td>-0.001514244</td><td>0.001528573</td><td>0.3218683</td></tr>\n",
       "</tbody>\n",
       "</table>\n"
      ],
      "text/latex": [
       "A data.table: 6 × 9\n",
       "\\begin{tabular}{lllllllll}\n",
       " SNP & CHR & BP & MAF & effect\\_allele & other\\_allele & beta & se & Pvalue\\\\\n",
       " <chr> & <int> & <dbl> & <dbl> & <chr> & <chr> & <dbl> & <dbl> & <dbl>\\\\\n",
       "\\hline\n",
       "\t rs3094315 & 1 & 752566 & 0.160040 & G & A & -0.001079550 & 0.001391549 & 0.4378729\\\\\n",
       "\t rs3131972 & 1 & 752721 & 0.161034 & A & G & -0.001130483 & 0.001389050 & 0.4157290\\\\\n",
       "\t rs2073813 & 1 & 753541 & 0.123260 & G & A &  0.001502330 & 0.001554297 & 0.3337611\\\\\n",
       "\t rs3131969 & 1 & 754182 & 0.128231 & A & G & -0.001468959 & 0.001528045 & 0.3363850\\\\\n",
       "\t rs3131968 & 1 & 754192 & 0.128231 & A & G & -0.001411652 & 0.001528122 & 0.3556000\\\\\n",
       "\t rs3131967 & 1 & 754334 & 0.128231 & T & C & -0.001514244 & 0.001528573 & 0.3218683\\\\\n",
       "\\end{tabular}\n"
      ],
      "text/markdown": [
       "\n",
       "A data.table: 6 × 9\n",
       "\n",
       "| SNP &lt;chr&gt; | CHR &lt;int&gt; | BP &lt;dbl&gt; | MAF &lt;dbl&gt; | effect_allele &lt;chr&gt; | other_allele &lt;chr&gt; | beta &lt;dbl&gt; | se &lt;dbl&gt; | Pvalue &lt;dbl&gt; |\n",
       "|---|---|---|---|---|---|---|---|---|\n",
       "| rs3094315 | 1 | 752566 | 0.160040 | G | A | -0.001079550 | 0.001391549 | 0.4378729 |\n",
       "| rs3131972 | 1 | 752721 | 0.161034 | A | G | -0.001130483 | 0.001389050 | 0.4157290 |\n",
       "| rs2073813 | 1 | 753541 | 0.123260 | G | A |  0.001502330 | 0.001554297 | 0.3337611 |\n",
       "| rs3131969 | 1 | 754182 | 0.128231 | A | G | -0.001468959 | 0.001528045 | 0.3363850 |\n",
       "| rs3131968 | 1 | 754192 | 0.128231 | A | G | -0.001411652 | 0.001528122 | 0.3556000 |\n",
       "| rs3131967 | 1 | 754334 | 0.128231 | T | C | -0.001514244 | 0.001528573 | 0.3218683 |\n",
       "\n"
      ],
      "text/plain": [
       "  SNP       CHR BP     MAF      effect_allele other_allele beta        \n",
       "1 rs3094315 1   752566 0.160040 G             A            -0.001079550\n",
       "2 rs3131972 1   752721 0.161034 A             G            -0.001130483\n",
       "3 rs2073813 1   753541 0.123260 G             A             0.001502330\n",
       "4 rs3131969 1   754182 0.128231 A             G            -0.001468959\n",
       "5 rs3131968 1   754192 0.128231 A             G            -0.001411652\n",
       "6 rs3131967 1   754334 0.128231 T             C            -0.001514244\n",
       "  se          Pvalue   \n",
       "1 0.001391549 0.4378729\n",
       "2 0.001389050 0.4157290\n",
       "3 0.001554297 0.3337611\n",
       "4 0.001528045 0.3363850\n",
       "5 0.001528122 0.3556000\n",
       "6 0.001528573 0.3218683"
      ]
     },
     "metadata": {},
     "output_type": "display_data"
    }
   ],
   "source": [
    "head(mvAge)"
   ]
  },
  {
   "cell_type": "code",
   "execution_count": 31,
   "id": "1393475e",
   "metadata": {
    "vscode": {
     "languageId": "r"
    }
   },
   "outputs": [
    {
     "data": {
      "text/html": [
       "1"
      ],
      "text/latex": [
       "1"
      ],
      "text/markdown": [
       "1"
      ],
      "text/plain": [
       "[1] 1"
      ]
     },
     "metadata": {},
     "output_type": "display_data"
    }
   ],
   "source": [
    "sum(grepl(\"[eE]\", mvAge$BP))\n"
   ]
  },
  {
   "cell_type": "code",
   "execution_count": 34,
   "id": "e8399a2f",
   "metadata": {
    "vscode": {
     "languageId": "r"
    }
   },
   "outputs": [
    {
     "data": {
      "text/html": [
       "<table class=\"dataframe\">\n",
       "<caption>A data.table: 1 × 9</caption>\n",
       "<thead>\n",
       "\t<tr><th scope=col>SNP</th><th scope=col>CHR</th><th scope=col>BP</th><th scope=col>MAF</th><th scope=col>effect_allele</th><th scope=col>other_allele</th><th scope=col>beta</th><th scope=col>se</th><th scope=col>Pvalue</th></tr>\n",
       "\t<tr><th scope=col>&lt;chr&gt;</th><th scope=col>&lt;int&gt;</th><th scope=col>&lt;int&gt;</th><th scope=col>&lt;dbl&gt;</th><th scope=col>&lt;chr&gt;</th><th scope=col>&lt;chr&gt;</th><th scope=col>&lt;dbl&gt;</th><th scope=col>&lt;dbl&gt;</th><th scope=col>&lt;dbl&gt;</th></tr>\n",
       "</thead>\n",
       "<tbody>\n",
       "\t<tr><td>rs61573637</td><td>2</td><td>72000000</td><td>0.0894632</td><td>G</td><td>A</td><td>-0.001314454</td><td>0.001777309</td><td>0.4595576</td></tr>\n",
       "</tbody>\n",
       "</table>\n"
      ],
      "text/latex": [
       "A data.table: 1 × 9\n",
       "\\begin{tabular}{lllllllll}\n",
       " SNP & CHR & BP & MAF & effect\\_allele & other\\_allele & beta & se & Pvalue\\\\\n",
       " <chr> & <int> & <int> & <dbl> & <chr> & <chr> & <dbl> & <dbl> & <dbl>\\\\\n",
       "\\hline\n",
       "\t rs61573637 & 2 & 72000000 & 0.0894632 & G & A & -0.001314454 & 0.001777309 & 0.4595576\\\\\n",
       "\\end{tabular}\n"
      ],
      "text/markdown": [
       "\n",
       "A data.table: 1 × 9\n",
       "\n",
       "| SNP &lt;chr&gt; | CHR &lt;int&gt; | BP &lt;int&gt; | MAF &lt;dbl&gt; | effect_allele &lt;chr&gt; | other_allele &lt;chr&gt; | beta &lt;dbl&gt; | se &lt;dbl&gt; | Pvalue &lt;dbl&gt; |\n",
       "|---|---|---|---|---|---|---|---|---|\n",
       "| rs61573637 | 2 | 72000000 | 0.0894632 | G | A | -0.001314454 | 0.001777309 | 0.4595576 |\n",
       "\n"
      ],
      "text/plain": [
       "  SNP        CHR BP       MAF       effect_allele other_allele beta        \n",
       "1 rs61573637 2   72000000 0.0894632 G             A            -0.001314454\n",
       "  se          Pvalue   \n",
       "1 0.001777309 0.4595576"
      ]
     },
     "metadata": {},
     "output_type": "display_data"
    }
   ],
   "source": [
    "mvAge$BP <- as.integer(mvAge$BP)\n",
    "mvAge[718358, ]"
   ]
  },
  {
   "cell_type": "code",
   "execution_count": 35,
   "id": "602cbdb1",
   "metadata": {
    "vscode": {
     "languageId": "r"
    }
   },
   "outputs": [],
   "source": [
    "mvAge_needed = mvAge |> mutate(chrom = paste0(\"chr\",CHR), start = BP, end = BP, region_id = SNP) |> select(chrom, start, end, region_id)"
   ]
  },
  {
   "cell_type": "code",
   "execution_count": 36,
   "id": "d60e574c",
   "metadata": {
    "vscode": {
     "languageId": "r"
    }
   },
   "outputs": [
    {
     "data": {
      "text/html": [
       "<table class=\"dataframe\">\n",
       "<caption>A data.table: 6 × 4</caption>\n",
       "<thead>\n",
       "\t<tr><th scope=col>chrom</th><th scope=col>start</th><th scope=col>end</th><th scope=col>region_id</th></tr>\n",
       "\t<tr><th scope=col>&lt;chr&gt;</th><th scope=col>&lt;int&gt;</th><th scope=col>&lt;int&gt;</th><th scope=col>&lt;chr&gt;</th></tr>\n",
       "</thead>\n",
       "<tbody>\n",
       "\t<tr><td>chr1</td><td>752566</td><td>752566</td><td>rs3094315</td></tr>\n",
       "\t<tr><td>chr1</td><td>752721</td><td>752721</td><td>rs3131972</td></tr>\n",
       "\t<tr><td>chr1</td><td>753541</td><td>753541</td><td>rs2073813</td></tr>\n",
       "\t<tr><td>chr1</td><td>754182</td><td>754182</td><td>rs3131969</td></tr>\n",
       "\t<tr><td>chr1</td><td>754192</td><td>754192</td><td>rs3131968</td></tr>\n",
       "\t<tr><td>chr1</td><td>754334</td><td>754334</td><td>rs3131967</td></tr>\n",
       "</tbody>\n",
       "</table>\n"
      ],
      "text/latex": [
       "A data.table: 6 × 4\n",
       "\\begin{tabular}{llll}\n",
       " chrom & start & end & region\\_id\\\\\n",
       " <chr> & <int> & <int> & <chr>\\\\\n",
       "\\hline\n",
       "\t chr1 & 752566 & 752566 & rs3094315\\\\\n",
       "\t chr1 & 752721 & 752721 & rs3131972\\\\\n",
       "\t chr1 & 753541 & 753541 & rs2073813\\\\\n",
       "\t chr1 & 754182 & 754182 & rs3131969\\\\\n",
       "\t chr1 & 754192 & 754192 & rs3131968\\\\\n",
       "\t chr1 & 754334 & 754334 & rs3131967\\\\\n",
       "\\end{tabular}\n"
      ],
      "text/markdown": [
       "\n",
       "A data.table: 6 × 4\n",
       "\n",
       "| chrom &lt;chr&gt; | start &lt;int&gt; | end &lt;int&gt; | region_id &lt;chr&gt; |\n",
       "|---|---|---|---|\n",
       "| chr1 | 752566 | 752566 | rs3094315 |\n",
       "| chr1 | 752721 | 752721 | rs3131972 |\n",
       "| chr1 | 753541 | 753541 | rs2073813 |\n",
       "| chr1 | 754182 | 754182 | rs3131969 |\n",
       "| chr1 | 754192 | 754192 | rs3131968 |\n",
       "| chr1 | 754334 | 754334 | rs3131967 |\n",
       "\n"
      ],
      "text/plain": [
       "  chrom start  end    region_id\n",
       "1 chr1  752566 752566 rs3094315\n",
       "2 chr1  752721 752721 rs3131972\n",
       "3 chr1  753541 753541 rs2073813\n",
       "4 chr1  754182 754182 rs3131969\n",
       "5 chr1  754192 754192 rs3131968\n",
       "6 chr1  754334 754334 rs3131967"
      ]
     },
     "metadata": {},
     "output_type": "display_data"
    },
    {
     "data": {
      "text/html": [
       "<style>\n",
       ".list-inline {list-style: none; margin:0; padding: 0}\n",
       ".list-inline>li {display: inline-block}\n",
       ".list-inline>li:not(:last-child)::after {content: \"\\00b7\"; padding: 0 .5ex}\n",
       "</style>\n",
       "<ol class=list-inline><li>6793878</li><li>4</li></ol>\n"
      ],
      "text/latex": [
       "\\begin{enumerate*}\n",
       "\\item 6793878\n",
       "\\item 4\n",
       "\\end{enumerate*}\n"
      ],
      "text/markdown": [
       "1. 6793878\n",
       "2. 4\n",
       "\n",
       "\n"
      ],
      "text/plain": [
       "[1] 6793878       4"
      ]
     },
     "metadata": {},
     "output_type": "display_data"
    }
   ],
   "source": [
    "head(mvAge_needed)\n",
    "dim(mvAge_needed)"
   ]
  },
  {
   "cell_type": "code",
   "execution_count": 37,
   "id": "971627fd",
   "metadata": {
    "vscode": {
     "languageId": "r"
    }
   },
   "outputs": [],
   "source": [
    "fwrite(mvAge_needed,\"/home/rl3328/GWAS/mvAge_GWAS/hg38conversion/mvAge_hg19.bed\", sep = '\\t',col.names=FALSE)"
   ]
  },
  {
   "cell_type": "markdown",
   "id": "28492996",
   "metadata": {},
   "source": [
    "# Read in the hg38 .bed(three columns-chrom, pos, id) and merge it back to the original summary statistics "
   ]
  },
  {
   "cell_type": "code",
   "execution_count": 38,
   "id": "4ab58906",
   "metadata": {
    "vscode": {
     "languageId": "r"
    }
   },
   "outputs": [],
   "source": [
    "mvAge_hg38 = fread(\"/home/rl3328/GWAS/mvAge_GWAS/hg38conversion/mvAge_hg19.to_hg38.bed\")"
   ]
  },
  {
   "cell_type": "code",
   "execution_count": 39,
   "id": "1b065829",
   "metadata": {
    "vscode": {
     "languageId": "r"
    }
   },
   "outputs": [
    {
     "data": {
      "text/html": [
       "<table class=\"dataframe\">\n",
       "<caption>A data.table: 6 × 4</caption>\n",
       "<thead>\n",
       "\t<tr><th scope=col>V1</th><th scope=col>V2</th><th scope=col>V3</th><th scope=col>V4</th></tr>\n",
       "\t<tr><th scope=col>&lt;chr&gt;</th><th scope=col>&lt;int&gt;</th><th scope=col>&lt;int&gt;</th><th scope=col>&lt;chr&gt;</th></tr>\n",
       "</thead>\n",
       "<tbody>\n",
       "\t<tr><td>chr1</td><td>817186</td><td>817186</td><td>rs3094315</td></tr>\n",
       "\t<tr><td>chr1</td><td>817341</td><td>817341</td><td>rs3131972</td></tr>\n",
       "\t<tr><td>chr1</td><td>818161</td><td>818161</td><td>rs2073813</td></tr>\n",
       "\t<tr><td>chr1</td><td>818802</td><td>818802</td><td>rs3131969</td></tr>\n",
       "\t<tr><td>chr1</td><td>818812</td><td>818812</td><td>rs3131968</td></tr>\n",
       "\t<tr><td>chr1</td><td>818954</td><td>818954</td><td>rs3131967</td></tr>\n",
       "</tbody>\n",
       "</table>\n"
      ],
      "text/latex": [
       "A data.table: 6 × 4\n",
       "\\begin{tabular}{llll}\n",
       " V1 & V2 & V3 & V4\\\\\n",
       " <chr> & <int> & <int> & <chr>\\\\\n",
       "\\hline\n",
       "\t chr1 & 817186 & 817186 & rs3094315\\\\\n",
       "\t chr1 & 817341 & 817341 & rs3131972\\\\\n",
       "\t chr1 & 818161 & 818161 & rs2073813\\\\\n",
       "\t chr1 & 818802 & 818802 & rs3131969\\\\\n",
       "\t chr1 & 818812 & 818812 & rs3131968\\\\\n",
       "\t chr1 & 818954 & 818954 & rs3131967\\\\\n",
       "\\end{tabular}\n"
      ],
      "text/markdown": [
       "\n",
       "A data.table: 6 × 4\n",
       "\n",
       "| V1 &lt;chr&gt; | V2 &lt;int&gt; | V3 &lt;int&gt; | V4 &lt;chr&gt; |\n",
       "|---|---|---|---|\n",
       "| chr1 | 817186 | 817186 | rs3094315 |\n",
       "| chr1 | 817341 | 817341 | rs3131972 |\n",
       "| chr1 | 818161 | 818161 | rs2073813 |\n",
       "| chr1 | 818802 | 818802 | rs3131969 |\n",
       "| chr1 | 818812 | 818812 | rs3131968 |\n",
       "| chr1 | 818954 | 818954 | rs3131967 |\n",
       "\n"
      ],
      "text/plain": [
       "  V1   V2     V3     V4       \n",
       "1 chr1 817186 817186 rs3094315\n",
       "2 chr1 817341 817341 rs3131972\n",
       "3 chr1 818161 818161 rs2073813\n",
       "4 chr1 818802 818802 rs3131969\n",
       "5 chr1 818812 818812 rs3131968\n",
       "6 chr1 818954 818954 rs3131967"
      ]
     },
     "metadata": {},
     "output_type": "display_data"
    }
   ],
   "source": [
    "head(mvAge_hg38)\n"
   ]
  },
  {
   "cell_type": "code",
   "execution_count": 40,
   "id": "95bb4434",
   "metadata": {
    "vscode": {
     "languageId": "r"
    }
   },
   "outputs": [
    {
     "data": {
      "text/html": [
       "<style>\n",
       ".list-inline {list-style: none; margin:0; padding: 0}\n",
       ".list-inline>li {display: inline-block}\n",
       ".list-inline>li:not(:last-child)::after {content: \"\\00b7\"; padding: 0 .5ex}\n",
       "</style>\n",
       "<ol class=list-inline><li>6793237</li><li>4</li></ol>\n"
      ],
      "text/latex": [
       "\\begin{enumerate*}\n",
       "\\item 6793237\n",
       "\\item 4\n",
       "\\end{enumerate*}\n"
      ],
      "text/markdown": [
       "1. 6793237\n",
       "2. 4\n",
       "\n",
       "\n"
      ],
      "text/plain": [
       "[1] 6793237       4"
      ]
     },
     "metadata": {},
     "output_type": "display_data"
    }
   ],
   "source": [
    "dim(mvAge_hg38)"
   ]
  },
  {
   "cell_type": "code",
   "execution_count": 41,
   "id": "284a8338",
   "metadata": {
    "vscode": {
     "languageId": "r"
    }
   },
   "outputs": [],
   "source": [
    "mvAge_hg38 = mvAge_hg38[,-3]"
   ]
  },
  {
   "cell_type": "code",
   "execution_count": 42,
   "id": "422f06b2",
   "metadata": {
    "vscode": {
     "languageId": "r"
    }
   },
   "outputs": [],
   "source": [
    "colnames(mvAge_hg38) <- c(\"chr\",\"pos\",\"rsid\")"
   ]
  },
  {
   "cell_type": "code",
   "execution_count": 43,
   "id": "9387a003",
   "metadata": {
    "vscode": {
     "languageId": "r"
    }
   },
   "outputs": [],
   "source": [
    "mvAge_hg38 = mvAge_hg38 |> mutate(chr = gsub(\"chr\", \"\", chr))"
   ]
  },
  {
   "cell_type": "code",
   "execution_count": 44,
   "id": "50998b69",
   "metadata": {
    "vscode": {
     "languageId": "r"
    }
   },
   "outputs": [
    {
     "name": "stderr",
     "output_type": "stream",
     "text": [
      "Warning message:\n",
      "“\u001b[1m\u001b[22mThere was 1 warning in `mutate()`.\n",
      "\u001b[1m\u001b[22m\u001b[36mℹ\u001b[39m In argument: `chr = as.integer(chr)`.\n",
      "Caused by warning:\n",
      "\u001b[33m!\u001b[39m NAs introduced by coercion”\n"
     ]
    }
   ],
   "source": [
    "mvAge_hg38 = mvAge_hg38 |> mutate(chr=as.integer(chr))"
   ]
  },
  {
   "cell_type": "code",
   "execution_count": 45,
   "id": "51f7c4f1",
   "metadata": {
    "vscode": {
     "languageId": "r"
    }
   },
   "outputs": [],
   "source": [
    "mvAge_hg38 = mvAge_hg38 |> filter(!is.na(chr))"
   ]
  },
  {
   "cell_type": "code",
   "execution_count": 46,
   "id": "ba1c2232",
   "metadata": {
    "vscode": {
     "languageId": "r"
    }
   },
   "outputs": [
    {
     "data": {
      "text/html": [
       "<table class=\"dataframe\">\n",
       "<caption>A data.table: 6 × 3</caption>\n",
       "<thead>\n",
       "\t<tr><th scope=col>chr</th><th scope=col>pos</th><th scope=col>rsid</th></tr>\n",
       "\t<tr><th scope=col>&lt;int&gt;</th><th scope=col>&lt;int&gt;</th><th scope=col>&lt;chr&gt;</th></tr>\n",
       "</thead>\n",
       "<tbody>\n",
       "\t<tr><td>1</td><td>817186</td><td>rs3094315</td></tr>\n",
       "\t<tr><td>1</td><td>817341</td><td>rs3131972</td></tr>\n",
       "\t<tr><td>1</td><td>818161</td><td>rs2073813</td></tr>\n",
       "\t<tr><td>1</td><td>818802</td><td>rs3131969</td></tr>\n",
       "\t<tr><td>1</td><td>818812</td><td>rs3131968</td></tr>\n",
       "\t<tr><td>1</td><td>818954</td><td>rs3131967</td></tr>\n",
       "</tbody>\n",
       "</table>\n"
      ],
      "text/latex": [
       "A data.table: 6 × 3\n",
       "\\begin{tabular}{lll}\n",
       " chr & pos & rsid\\\\\n",
       " <int> & <int> & <chr>\\\\\n",
       "\\hline\n",
       "\t 1 & 817186 & rs3094315\\\\\n",
       "\t 1 & 817341 & rs3131972\\\\\n",
       "\t 1 & 818161 & rs2073813\\\\\n",
       "\t 1 & 818802 & rs3131969\\\\\n",
       "\t 1 & 818812 & rs3131968\\\\\n",
       "\t 1 & 818954 & rs3131967\\\\\n",
       "\\end{tabular}\n"
      ],
      "text/markdown": [
       "\n",
       "A data.table: 6 × 3\n",
       "\n",
       "| chr &lt;int&gt; | pos &lt;int&gt; | rsid &lt;chr&gt; |\n",
       "|---|---|---|\n",
       "| 1 | 817186 | rs3094315 |\n",
       "| 1 | 817341 | rs3131972 |\n",
       "| 1 | 818161 | rs2073813 |\n",
       "| 1 | 818802 | rs3131969 |\n",
       "| 1 | 818812 | rs3131968 |\n",
       "| 1 | 818954 | rs3131967 |\n",
       "\n"
      ],
      "text/plain": [
       "  chr pos    rsid     \n",
       "1 1   817186 rs3094315\n",
       "2 1   817341 rs3131972\n",
       "3 1   818161 rs2073813\n",
       "4 1   818802 rs3131969\n",
       "5 1   818812 rs3131968\n",
       "6 1   818954 rs3131967"
      ]
     },
     "metadata": {},
     "output_type": "display_data"
    },
    {
     "data": {
      "text/html": [
       "<style>\n",
       ".list-inline {list-style: none; margin:0; padding: 0}\n",
       ".list-inline>li {display: inline-block}\n",
       ".list-inline>li:not(:last-child)::after {content: \"\\00b7\"; padding: 0 .5ex}\n",
       "</style>\n",
       "<ol class=list-inline><li>6792478</li><li>3</li></ol>\n"
      ],
      "text/latex": [
       "\\begin{enumerate*}\n",
       "\\item 6792478\n",
       "\\item 3\n",
       "\\end{enumerate*}\n"
      ],
      "text/markdown": [
       "1. 6792478\n",
       "2. 3\n",
       "\n",
       "\n"
      ],
      "text/plain": [
       "[1] 6792478       3"
      ]
     },
     "metadata": {},
     "output_type": "display_data"
    }
   ],
   "source": [
    "head(mvAge_hg38)\n",
    "dim(mvAge_hg38)"
   ]
  },
  {
   "cell_type": "code",
   "execution_count": 47,
   "id": "a7610f40",
   "metadata": {
    "vscode": {
     "languageId": "r"
    }
   },
   "outputs": [
    {
     "data": {
      "text/html": [
       "<style>\n",
       ".list-inline {list-style: none; margin:0; padding: 0}\n",
       ".list-inline>li {display: inline-block}\n",
       ".list-inline>li:not(:last-child)::after {content: \"\\00b7\"; padding: 0 .5ex}\n",
       "</style>\n",
       "<ol class=list-inline><li>1</li><li>2</li><li>3</li><li>4</li><li>5</li><li>6</li><li>9</li><li>7</li><li>8</li><li>10</li><li>11</li><li>12</li><li>13</li><li>14</li><li>15</li><li>16</li><li>17</li><li>18</li><li>19</li><li>20</li><li>21</li><li>22</li></ol>\n"
      ],
      "text/latex": [
       "\\begin{enumerate*}\n",
       "\\item 1\n",
       "\\item 2\n",
       "\\item 3\n",
       "\\item 4\n",
       "\\item 5\n",
       "\\item 6\n",
       "\\item 9\n",
       "\\item 7\n",
       "\\item 8\n",
       "\\item 10\n",
       "\\item 11\n",
       "\\item 12\n",
       "\\item 13\n",
       "\\item 14\n",
       "\\item 15\n",
       "\\item 16\n",
       "\\item 17\n",
       "\\item 18\n",
       "\\item 19\n",
       "\\item 20\n",
       "\\item 21\n",
       "\\item 22\n",
       "\\end{enumerate*}\n"
      ],
      "text/markdown": [
       "1. 1\n",
       "2. 2\n",
       "3. 3\n",
       "4. 4\n",
       "5. 5\n",
       "6. 6\n",
       "7. 9\n",
       "8. 7\n",
       "9. 8\n",
       "10. 10\n",
       "11. 11\n",
       "12. 12\n",
       "13. 13\n",
       "14. 14\n",
       "15. 15\n",
       "16. 16\n",
       "17. 17\n",
       "18. 18\n",
       "19. 19\n",
       "20. 20\n",
       "21. 21\n",
       "22. 22\n",
       "\n",
       "\n"
      ],
      "text/plain": [
       " [1]  1  2  3  4  5  6  9  7  8 10 11 12 13 14 15 16 17 18 19 20 21 22"
      ]
     },
     "metadata": {},
     "output_type": "display_data"
    }
   ],
   "source": [
    "unique(mvAge_hg38$chr)"
   ]
  },
  {
   "cell_type": "code",
   "execution_count": 51,
   "id": "e49326d8",
   "metadata": {
    "vscode": {
     "languageId": "r"
    }
   },
   "outputs": [],
   "source": [
    "mvAge_remain = mvAge |> select(-CHR, -BP)\n",
    "mvAge_hg38_final = mvAge_remain |> inner_join(mvAge_hg38, by = c('SNP' ='rsid'))"
   ]
  },
  {
   "cell_type": "code",
   "execution_count": 52,
   "id": "0b94a3a6",
   "metadata": {
    "vscode": {
     "languageId": "r"
    }
   },
   "outputs": [
    {
     "data": {
      "text/html": [
       "<table class=\"dataframe\">\n",
       "<caption>A data.table: 6 × 9</caption>\n",
       "<thead>\n",
       "\t<tr><th scope=col>SNP</th><th scope=col>MAF</th><th scope=col>effect_allele</th><th scope=col>other_allele</th><th scope=col>beta</th><th scope=col>se</th><th scope=col>Pvalue</th><th scope=col>chr</th><th scope=col>pos</th></tr>\n",
       "\t<tr><th scope=col>&lt;chr&gt;</th><th scope=col>&lt;dbl&gt;</th><th scope=col>&lt;chr&gt;</th><th scope=col>&lt;chr&gt;</th><th scope=col>&lt;dbl&gt;</th><th scope=col>&lt;dbl&gt;</th><th scope=col>&lt;dbl&gt;</th><th scope=col>&lt;int&gt;</th><th scope=col>&lt;int&gt;</th></tr>\n",
       "</thead>\n",
       "<tbody>\n",
       "\t<tr><td>rs3094315</td><td>0.160040</td><td>G</td><td>A</td><td>-0.001079550</td><td>0.001391549</td><td>0.4378729</td><td>1</td><td>817186</td></tr>\n",
       "\t<tr><td>rs3131972</td><td>0.161034</td><td>A</td><td>G</td><td>-0.001130483</td><td>0.001389050</td><td>0.4157290</td><td>1</td><td>817341</td></tr>\n",
       "\t<tr><td>rs2073813</td><td>0.123260</td><td>G</td><td>A</td><td> 0.001502330</td><td>0.001554297</td><td>0.3337611</td><td>1</td><td>818161</td></tr>\n",
       "\t<tr><td>rs3131969</td><td>0.128231</td><td>A</td><td>G</td><td>-0.001468959</td><td>0.001528045</td><td>0.3363850</td><td>1</td><td>818802</td></tr>\n",
       "\t<tr><td>rs3131968</td><td>0.128231</td><td>A</td><td>G</td><td>-0.001411652</td><td>0.001528122</td><td>0.3556000</td><td>1</td><td>818812</td></tr>\n",
       "\t<tr><td>rs3131967</td><td>0.128231</td><td>T</td><td>C</td><td>-0.001514244</td><td>0.001528573</td><td>0.3218683</td><td>1</td><td>818954</td></tr>\n",
       "</tbody>\n",
       "</table>\n"
      ],
      "text/latex": [
       "A data.table: 6 × 9\n",
       "\\begin{tabular}{lllllllll}\n",
       " SNP & MAF & effect\\_allele & other\\_allele & beta & se & Pvalue & chr & pos\\\\\n",
       " <chr> & <dbl> & <chr> & <chr> & <dbl> & <dbl> & <dbl> & <int> & <int>\\\\\n",
       "\\hline\n",
       "\t rs3094315 & 0.160040 & G & A & -0.001079550 & 0.001391549 & 0.4378729 & 1 & 817186\\\\\n",
       "\t rs3131972 & 0.161034 & A & G & -0.001130483 & 0.001389050 & 0.4157290 & 1 & 817341\\\\\n",
       "\t rs2073813 & 0.123260 & G & A &  0.001502330 & 0.001554297 & 0.3337611 & 1 & 818161\\\\\n",
       "\t rs3131969 & 0.128231 & A & G & -0.001468959 & 0.001528045 & 0.3363850 & 1 & 818802\\\\\n",
       "\t rs3131968 & 0.128231 & A & G & -0.001411652 & 0.001528122 & 0.3556000 & 1 & 818812\\\\\n",
       "\t rs3131967 & 0.128231 & T & C & -0.001514244 & 0.001528573 & 0.3218683 & 1 & 818954\\\\\n",
       "\\end{tabular}\n"
      ],
      "text/markdown": [
       "\n",
       "A data.table: 6 × 9\n",
       "\n",
       "| SNP &lt;chr&gt; | MAF &lt;dbl&gt; | effect_allele &lt;chr&gt; | other_allele &lt;chr&gt; | beta &lt;dbl&gt; | se &lt;dbl&gt; | Pvalue &lt;dbl&gt; | chr &lt;int&gt; | pos &lt;int&gt; |\n",
       "|---|---|---|---|---|---|---|---|---|\n",
       "| rs3094315 | 0.160040 | G | A | -0.001079550 | 0.001391549 | 0.4378729 | 1 | 817186 |\n",
       "| rs3131972 | 0.161034 | A | G | -0.001130483 | 0.001389050 | 0.4157290 | 1 | 817341 |\n",
       "| rs2073813 | 0.123260 | G | A |  0.001502330 | 0.001554297 | 0.3337611 | 1 | 818161 |\n",
       "| rs3131969 | 0.128231 | A | G | -0.001468959 | 0.001528045 | 0.3363850 | 1 | 818802 |\n",
       "| rs3131968 | 0.128231 | A | G | -0.001411652 | 0.001528122 | 0.3556000 | 1 | 818812 |\n",
       "| rs3131967 | 0.128231 | T | C | -0.001514244 | 0.001528573 | 0.3218683 | 1 | 818954 |\n",
       "\n"
      ],
      "text/plain": [
       "  SNP       MAF      effect_allele other_allele beta         se         \n",
       "1 rs3094315 0.160040 G             A            -0.001079550 0.001391549\n",
       "2 rs3131972 0.161034 A             G            -0.001130483 0.001389050\n",
       "3 rs2073813 0.123260 G             A             0.001502330 0.001554297\n",
       "4 rs3131969 0.128231 A             G            -0.001468959 0.001528045\n",
       "5 rs3131968 0.128231 A             G            -0.001411652 0.001528122\n",
       "6 rs3131967 0.128231 T             C            -0.001514244 0.001528573\n",
       "  Pvalue    chr pos   \n",
       "1 0.4378729 1   817186\n",
       "2 0.4157290 1   817341\n",
       "3 0.3337611 1   818161\n",
       "4 0.3363850 1   818802\n",
       "5 0.3556000 1   818812\n",
       "6 0.3218683 1   818954"
      ]
     },
     "metadata": {},
     "output_type": "display_data"
    },
    {
     "data": {
      "text/html": [
       "<style>\n",
       ".list-inline {list-style: none; margin:0; padding: 0}\n",
       ".list-inline>li {display: inline-block}\n",
       ".list-inline>li:not(:last-child)::after {content: \"\\00b7\"; padding: 0 .5ex}\n",
       "</style>\n",
       "<ol class=list-inline><li>6792478</li><li>9</li></ol>\n"
      ],
      "text/latex": [
       "\\begin{enumerate*}\n",
       "\\item 6792478\n",
       "\\item 9\n",
       "\\end{enumerate*}\n"
      ],
      "text/markdown": [
       "1. 6792478\n",
       "2. 9\n",
       "\n",
       "\n"
      ],
      "text/plain": [
       "[1] 6792478       9"
      ]
     },
     "metadata": {},
     "output_type": "display_data"
    }
   ],
   "source": [
    "head(mvAge_hg38_final)\n",
    "dim(mvAge_hg38_final)"
   ]
  },
  {
   "cell_type": "code",
   "execution_count": 55,
   "id": "8c53023c",
   "metadata": {
    "vscode": {
     "languageId": "r"
    }
   },
   "outputs": [],
   "source": [
    "mvAge_hg38_final = mvAge_hg38_final |> arrange(chr, pos) |> select(chr, pos, effect_allele, other_allele, everything())"
   ]
  },
  {
   "cell_type": "code",
   "execution_count": 57,
   "id": "ab1075b2",
   "metadata": {
    "vscode": {
     "languageId": "r"
    }
   },
   "outputs": [],
   "source": [
    "mvAge_hg38_final = mvAge_hg38_final |> mutate(N = 1958774)"
   ]
  },
  {
   "cell_type": "code",
   "execution_count": 58,
   "id": "88ff2a2a",
   "metadata": {
    "vscode": {
     "languageId": "r"
    }
   },
   "outputs": [],
   "source": [
    "fwrite(mvAge_hg38_final, \"/home/rl3328/GWAS/mvAge_GWAS/mvAge.sumstats_hg38.gz\", sep = '\\t')"
   ]
  },
  {
   "cell_type": "code",
   "execution_count": null,
   "id": "ee1d8d5c",
   "metadata": {
    "vscode": {
     "languageId": "r"
    }
   },
   "outputs": [],
   "source": [
    "# Method 1: Process header and data separately\n",
    "(zcat /home/rl3328/GWAS/mvAge_GWAS/mvAge.sumstats_hg38.gz | head -1 | sed 's/^/#/'; \\\n",
    " zcat /home/rl3328/GWAS/mvAge_GWAS/mvAge.sumstats_hg38.gz | tail -n +2 | \\\n",
    " awk 'BEGIN{OFS=\"\\t\"} {$2=int($2); print}' | sort -k1,1V -k2,2n) | \\\n",
    "bgzip > /home/rl3328/GWAS/mvAge_GWAS/mvAge.sumstats_hg38_sorted.tsv.gz\n",
    "\n",
    "tabix -s 1 -b 2 -e 2 /home/rl3328/GWAS/mvAge_GWAS/mvAge.sumstats_hg38_sorted.tsv.gz"
   ]
  },
  {
   "cell_type": "markdown",
   "id": "f6637b7b",
   "metadata": {},
   "source": [
    "## Longevity"
   ]
  },
  {
   "cell_type": "markdown",
   "id": "e2af1656",
   "metadata": {},
   "source": [
    "### format the input hg19 .bed for Longevity"
   ]
  },
  {
   "cell_type": "code",
   "execution_count": 1,
   "id": "631d72bc",
   "metadata": {
    "vscode": {
     "languageId": "r"
    }
   },
   "outputs": [
    {
     "name": "stderr",
     "output_type": "stream",
     "text": [
      "── \u001b[1mAttaching core tidyverse packages\u001b[22m ──────────────────────── tidyverse 2.0.0 ──\n",
      "\u001b[32m✔\u001b[39m \u001b[34mdplyr    \u001b[39m 1.1.4     \u001b[32m✔\u001b[39m \u001b[34mreadr    \u001b[39m 2.1.5\n",
      "\u001b[32m✔\u001b[39m \u001b[34mforcats  \u001b[39m 1.0.0     \u001b[32m✔\u001b[39m \u001b[34mstringr  \u001b[39m 1.5.1\n",
      "\u001b[32m✔\u001b[39m \u001b[34mggplot2  \u001b[39m 3.5.2     \u001b[32m✔\u001b[39m \u001b[34mtibble   \u001b[39m 3.2.1\n",
      "\u001b[32m✔\u001b[39m \u001b[34mlubridate\u001b[39m 1.9.4     \u001b[32m✔\u001b[39m \u001b[34mtidyr    \u001b[39m 1.3.1\n",
      "\u001b[32m✔\u001b[39m \u001b[34mpurrr    \u001b[39m 1.0.4     \n",
      "── \u001b[1mConflicts\u001b[22m ────────────────────────────────────────── tidyverse_conflicts() ──\n",
      "\u001b[31m✖\u001b[39m \u001b[34mdplyr\u001b[39m::\u001b[32mbetween()\u001b[39m     masks \u001b[34mdata.table\u001b[39m::between()\n",
      "\u001b[31m✖\u001b[39m \u001b[34mdplyr\u001b[39m::\u001b[32mfilter()\u001b[39m      masks \u001b[34mstats\u001b[39m::filter()\n",
      "\u001b[31m✖\u001b[39m \u001b[34mdplyr\u001b[39m::\u001b[32mfirst()\u001b[39m       masks \u001b[34mdata.table\u001b[39m::first()\n",
      "\u001b[31m✖\u001b[39m \u001b[34mlubridate\u001b[39m::\u001b[32mhour()\u001b[39m    masks \u001b[34mdata.table\u001b[39m::hour()\n",
      "\u001b[31m✖\u001b[39m \u001b[34mlubridate\u001b[39m::\u001b[32misoweek()\u001b[39m masks \u001b[34mdata.table\u001b[39m::isoweek()\n",
      "\u001b[31m✖\u001b[39m \u001b[34mdplyr\u001b[39m::\u001b[32mlag()\u001b[39m         masks \u001b[34mstats\u001b[39m::lag()\n",
      "\u001b[31m✖\u001b[39m \u001b[34mdplyr\u001b[39m::\u001b[32mlast()\u001b[39m        masks \u001b[34mdata.table\u001b[39m::last()\n",
      "\u001b[31m✖\u001b[39m \u001b[34mlubridate\u001b[39m::\u001b[32mmday()\u001b[39m    masks \u001b[34mdata.table\u001b[39m::mday()\n",
      "\u001b[31m✖\u001b[39m \u001b[34mlubridate\u001b[39m::\u001b[32mminute()\u001b[39m  masks \u001b[34mdata.table\u001b[39m::minute()\n",
      "\u001b[31m✖\u001b[39m \u001b[34mlubridate\u001b[39m::\u001b[32mmonth()\u001b[39m   masks \u001b[34mdata.table\u001b[39m::month()\n",
      "\u001b[31m✖\u001b[39m \u001b[34mlubridate\u001b[39m::\u001b[32mquarter()\u001b[39m masks \u001b[34mdata.table\u001b[39m::quarter()\n",
      "\u001b[31m✖\u001b[39m \u001b[34mlubridate\u001b[39m::\u001b[32msecond()\u001b[39m  masks \u001b[34mdata.table\u001b[39m::second()\n",
      "\u001b[31m✖\u001b[39m \u001b[34mpurrr\u001b[39m::\u001b[32mtranspose()\u001b[39m   masks \u001b[34mdata.table\u001b[39m::transpose()\n",
      "\u001b[31m✖\u001b[39m \u001b[34mlubridate\u001b[39m::\u001b[32mwday()\u001b[39m    masks \u001b[34mdata.table\u001b[39m::wday()\n",
      "\u001b[31m✖\u001b[39m \u001b[34mlubridate\u001b[39m::\u001b[32mweek()\u001b[39m    masks \u001b[34mdata.table\u001b[39m::week()\n",
      "\u001b[31m✖\u001b[39m \u001b[34mlubridate\u001b[39m::\u001b[32myday()\u001b[39m    masks \u001b[34mdata.table\u001b[39m::yday()\n",
      "\u001b[31m✖\u001b[39m \u001b[34mlubridate\u001b[39m::\u001b[32myear()\u001b[39m    masks \u001b[34mdata.table\u001b[39m::year()\n",
      "\u001b[36mℹ\u001b[39m Use the conflicted package (\u001b[3m\u001b[34m<http://conflicted.r-lib.org/>\u001b[39m\u001b[23m) to force all conflicts to become errors\n"
     ]
    }
   ],
   "source": [
    "library(data.table)\n",
    "library(tidyverse)"
   ]
  },
  {
   "cell_type": "code",
   "execution_count": null,
   "id": "a1b063fe",
   "metadata": {
    "vscode": {
     "languageId": "r"
    }
   },
   "outputs": [],
   "source": [
    "longevity = fread(\"/home/rl3328/GWAS/Longevity_GWAS/lifegen_phase2_bothpl_alldr_2017_09_18.tsv.gz\")"
   ]
  },
  {
   "cell_type": "code",
   "execution_count": null,
   "id": "eb656349",
   "metadata": {
    "vscode": {
     "languageId": "r"
    }
   },
   "outputs": [
    {
     "data": {
      "text/html": [
       "<style>\n",
       ".list-inline {list-style: none; margin:0; padding: 0}\n",
       ".list-inline>li {display: inline-block}\n",
       ".list-inline>li:not(:last-child)::after {content: \"\\00b7\"; padding: 0 .5ex}\n",
       "</style>\n",
       "<ol class=list-inline><li>8</li><li>9</li><li>13</li><li>1</li><li>12</li><li>5</li><li>14</li><li>17</li><li>4</li><li>6</li><li>2</li><li>11</li><li>18</li><li>3</li><li>16</li><li>10</li><li>15</li><li>7</li><li>19</li><li>20</li><li>21</li><li>22</li></ol>\n"
      ],
      "text/latex": [
       "\\begin{enumerate*}\n",
       "\\item 8\n",
       "\\item 9\n",
       "\\item 13\n",
       "\\item 1\n",
       "\\item 12\n",
       "\\item 5\n",
       "\\item 14\n",
       "\\item 17\n",
       "\\item 4\n",
       "\\item 6\n",
       "\\item 2\n",
       "\\item 11\n",
       "\\item 18\n",
       "\\item 3\n",
       "\\item 16\n",
       "\\item 10\n",
       "\\item 15\n",
       "\\item 7\n",
       "\\item 19\n",
       "\\item 20\n",
       "\\item 21\n",
       "\\item 22\n",
       "\\end{enumerate*}\n"
      ],
      "text/markdown": [
       "1. 8\n",
       "2. 9\n",
       "3. 13\n",
       "4. 1\n",
       "5. 12\n",
       "6. 5\n",
       "7. 14\n",
       "8. 17\n",
       "9. 4\n",
       "10. 6\n",
       "11. 2\n",
       "12. 11\n",
       "13. 18\n",
       "14. 3\n",
       "15. 16\n",
       "16. 10\n",
       "17. 15\n",
       "18. 7\n",
       "19. 19\n",
       "20. 20\n",
       "21. 21\n",
       "22. 22\n",
       "\n",
       "\n"
      ],
      "text/plain": [
       " [1]  8  9 13  1 12  5 14 17  4  6  2 11 18  3 16 10 15  7 19 20 21 22"
      ]
     },
     "metadata": {},
     "output_type": "display_data"
    }
   ],
   "source": [
    "unique(longevity$chr)"
   ]
  },
  {
   "cell_type": "code",
   "execution_count": null,
   "id": "27fee8ba",
   "metadata": {
    "vscode": {
     "languageId": "r"
    }
   },
   "outputs": [
    {
     "data": {
      "text/html": [
       "<table class=\"dataframe\">\n",
       "<caption>A data.table: 6 × 17</caption>\n",
       "<thead>\n",
       "\t<tr><th scope=col>rsid</th><th scope=col>snpid</th><th scope=col>chr</th><th scope=col>pos</th><th scope=col>a1</th><th scope=col>a0</th><th scope=col>n</th><th scope=col>freq1</th><th scope=col>beta1</th><th scope=col>se</th><th scope=col>p</th><th scope=col>direction</th><th scope=col>info</th><th scope=col>freq_se</th><th scope=col>min_freq1</th><th scope=col>max_freq1</th><th scope=col>V17</th></tr>\n",
       "\t<tr><th scope=col>&lt;chr&gt;</th><th scope=col>&lt;chr&gt;</th><th scope=col>&lt;int&gt;</th><th scope=col>&lt;int&gt;</th><th scope=col>&lt;chr&gt;</th><th scope=col>&lt;chr&gt;</th><th scope=col>&lt;int&gt;</th><th scope=col>&lt;dbl&gt;</th><th scope=col>&lt;dbl&gt;</th><th scope=col>&lt;dbl&gt;</th><th scope=col>&lt;dbl&gt;</th><th scope=col>&lt;chr&gt;</th><th scope=col>&lt;dbl&gt;</th><th scope=col>&lt;dbl&gt;</th><th scope=col>&lt;dbl&gt;</th><th scope=col>&lt;dbl&gt;</th><th scope=col>&lt;lgl&gt;</th></tr>\n",
       "</thead>\n",
       "<tbody>\n",
       "\t<tr><td>rs113345124</td><td>8_145793211</td><td> 8</td><td>145793211</td><td>T</td><td>C</td><td>620911</td><td>0.98036746</td><td>0.00055994</td><td>0.01470412</td><td>0.96962368</td><td>+-</td><td>0.955205</td><td>0.00248008</td><td>0.976354</td><td>0.981900</td><td>NA</td></tr>\n",
       "\t<tr><td>rs145210131</td><td>9_11898949 </td><td> 9</td><td> 11898949</td><td>T</td><td>C</td><td>483897</td><td>0.00895121</td><td>0.01777550</td><td>0.02438387</td><td>0.46601024</td><td>++</td><td>0.889843</td><td>0.00062496</td><td>0.008700</td><td>0.010506</td><td>NA</td></tr>\n",
       "\t<tr><td>rs138102812</td><td>13_41519377</td><td>13</td><td> 41519377</td><td>T</td><td>C</td><td>348613</td><td>0.99059433</td><td>0.02986577</td><td>0.02273712</td><td>0.18900618</td><td>+-</td><td>0.998360</td><td>0.00031691</td><td>0.990500</td><td>0.991659</td><td>NA</td></tr>\n",
       "\t<tr><td>rs113210771</td><td>1_240289734</td><td> 1</td><td>240289734</td><td>T</td><td>C</td><td>638113</td><td>0.02765505</td><td>0.00504805</td><td>0.01240526</td><td>0.68406061</td><td>+-</td><td>0.962098</td><td>0.00131750</td><td>0.026900</td><td>0.029954</td><td>NA</td></tr>\n",
       "\t<tr><td>rs10859433 </td><td>12_78219936</td><td>12</td><td> 78219936</td><td>A</td><td>T</td><td>638103</td><td>0.62959171</td><td>0.00853945</td><td>0.00399792</td><td>0.03268147</td><td>++</td><td>0.992782</td><td>0.00260477</td><td>0.625620</td><td>0.631300</td><td>NA</td></tr>\n",
       "\t<tr><td>rs545489794</td><td>5_131569666</td><td> 5</td><td>131569666</td><td>A</td><td>G</td><td>344932</td><td>0.00732857</td><td>0.00716053</td><td>0.02807414</td><td>0.79867843</td><td>-+</td><td>0.864036</td><td>0.00095907</td><td>0.007000</td><td>0.010128</td><td>NA</td></tr>\n",
       "</tbody>\n",
       "</table>\n"
      ],
      "text/latex": [
       "A data.table: 6 × 17\n",
       "\\begin{tabular}{lllllllllllllllll}\n",
       " rsid & snpid & chr & pos & a1 & a0 & n & freq1 & beta1 & se & p & direction & info & freq\\_se & min\\_freq1 & max\\_freq1 & V17\\\\\n",
       " <chr> & <chr> & <int> & <int> & <chr> & <chr> & <int> & <dbl> & <dbl> & <dbl> & <dbl> & <chr> & <dbl> & <dbl> & <dbl> & <dbl> & <lgl>\\\\\n",
       "\\hline\n",
       "\t rs113345124 & 8\\_145793211 &  8 & 145793211 & T & C & 620911 & 0.98036746 & 0.00055994 & 0.01470412 & 0.96962368 & +- & 0.955205 & 0.00248008 & 0.976354 & 0.981900 & NA\\\\\n",
       "\t rs145210131 & 9\\_11898949  &  9 &  11898949 & T & C & 483897 & 0.00895121 & 0.01777550 & 0.02438387 & 0.46601024 & ++ & 0.889843 & 0.00062496 & 0.008700 & 0.010506 & NA\\\\\n",
       "\t rs138102812 & 13\\_41519377 & 13 &  41519377 & T & C & 348613 & 0.99059433 & 0.02986577 & 0.02273712 & 0.18900618 & +- & 0.998360 & 0.00031691 & 0.990500 & 0.991659 & NA\\\\\n",
       "\t rs113210771 & 1\\_240289734 &  1 & 240289734 & T & C & 638113 & 0.02765505 & 0.00504805 & 0.01240526 & 0.68406061 & +- & 0.962098 & 0.00131750 & 0.026900 & 0.029954 & NA\\\\\n",
       "\t rs10859433  & 12\\_78219936 & 12 &  78219936 & A & T & 638103 & 0.62959171 & 0.00853945 & 0.00399792 & 0.03268147 & ++ & 0.992782 & 0.00260477 & 0.625620 & 0.631300 & NA\\\\\n",
       "\t rs545489794 & 5\\_131569666 &  5 & 131569666 & A & G & 344932 & 0.00732857 & 0.00716053 & 0.02807414 & 0.79867843 & -+ & 0.864036 & 0.00095907 & 0.007000 & 0.010128 & NA\\\\\n",
       "\\end{tabular}\n"
      ],
      "text/markdown": [
       "\n",
       "A data.table: 6 × 17\n",
       "\n",
       "| rsid &lt;chr&gt; | snpid &lt;chr&gt; | chr &lt;int&gt; | pos &lt;int&gt; | a1 &lt;chr&gt; | a0 &lt;chr&gt; | n &lt;int&gt; | freq1 &lt;dbl&gt; | beta1 &lt;dbl&gt; | se &lt;dbl&gt; | p &lt;dbl&gt; | direction &lt;chr&gt; | info &lt;dbl&gt; | freq_se &lt;dbl&gt; | min_freq1 &lt;dbl&gt; | max_freq1 &lt;dbl&gt; | V17 &lt;lgl&gt; |\n",
       "|---|---|---|---|---|---|---|---|---|---|---|---|---|---|---|---|---|\n",
       "| rs113345124 | 8_145793211 |  8 | 145793211 | T | C | 620911 | 0.98036746 | 0.00055994 | 0.01470412 | 0.96962368 | +- | 0.955205 | 0.00248008 | 0.976354 | 0.981900 | NA |\n",
       "| rs145210131 | 9_11898949  |  9 |  11898949 | T | C | 483897 | 0.00895121 | 0.01777550 | 0.02438387 | 0.46601024 | ++ | 0.889843 | 0.00062496 | 0.008700 | 0.010506 | NA |\n",
       "| rs138102812 | 13_41519377 | 13 |  41519377 | T | C | 348613 | 0.99059433 | 0.02986577 | 0.02273712 | 0.18900618 | +- | 0.998360 | 0.00031691 | 0.990500 | 0.991659 | NA |\n",
       "| rs113210771 | 1_240289734 |  1 | 240289734 | T | C | 638113 | 0.02765505 | 0.00504805 | 0.01240526 | 0.68406061 | +- | 0.962098 | 0.00131750 | 0.026900 | 0.029954 | NA |\n",
       "| rs10859433  | 12_78219936 | 12 |  78219936 | A | T | 638103 | 0.62959171 | 0.00853945 | 0.00399792 | 0.03268147 | ++ | 0.992782 | 0.00260477 | 0.625620 | 0.631300 | NA |\n",
       "| rs545489794 | 5_131569666 |  5 | 131569666 | A | G | 344932 | 0.00732857 | 0.00716053 | 0.02807414 | 0.79867843 | -+ | 0.864036 | 0.00095907 | 0.007000 | 0.010128 | NA |\n",
       "\n"
      ],
      "text/plain": [
       "  rsid        snpid       chr pos       a1 a0 n      freq1      beta1     \n",
       "1 rs113345124 8_145793211  8  145793211 T  C  620911 0.98036746 0.00055994\n",
       "2 rs145210131 9_11898949   9   11898949 T  C  483897 0.00895121 0.01777550\n",
       "3 rs138102812 13_41519377 13   41519377 T  C  348613 0.99059433 0.02986577\n",
       "4 rs113210771 1_240289734  1  240289734 T  C  638113 0.02765505 0.00504805\n",
       "5 rs10859433  12_78219936 12   78219936 A  T  638103 0.62959171 0.00853945\n",
       "6 rs545489794 5_131569666  5  131569666 A  G  344932 0.00732857 0.00716053\n",
       "  se         p          direction info     freq_se    min_freq1 max_freq1 V17\n",
       "1 0.01470412 0.96962368 +-        0.955205 0.00248008 0.976354  0.981900  NA \n",
       "2 0.02438387 0.46601024 ++        0.889843 0.00062496 0.008700  0.010506  NA \n",
       "3 0.02273712 0.18900618 +-        0.998360 0.00031691 0.990500  0.991659  NA \n",
       "4 0.01240526 0.68406061 +-        0.962098 0.00131750 0.026900  0.029954  NA \n",
       "5 0.00399792 0.03268147 ++        0.992782 0.00260477 0.625620  0.631300  NA \n",
       "6 0.02807414 0.79867843 -+        0.864036 0.00095907 0.007000  0.010128  NA "
      ]
     },
     "metadata": {},
     "output_type": "display_data"
    }
   ],
   "source": [
    "head(longevity)"
   ]
  },
  {
   "cell_type": "code",
   "execution_count": null,
   "id": "a91b7020",
   "metadata": {
    "vscode": {
     "languageId": "r"
    }
   },
   "outputs": [],
   "source": [
    "longevity_needed = longevity |> mutate(chrom = paste0(\"chr\",chr), start = pos, end = pos, region_id = rsid) |> select(chrom, start, end, region_id)"
   ]
  },
  {
   "cell_type": "code",
   "execution_count": null,
   "id": "d46e8edd",
   "metadata": {
    "vscode": {
     "languageId": "r"
    }
   },
   "outputs": [
    {
     "data": {
      "text/html": [
       "<table class=\"dataframe\">\n",
       "<caption>A data.table: 6 × 4</caption>\n",
       "<thead>\n",
       "\t<tr><th scope=col>chrom</th><th scope=col>start</th><th scope=col>end</th><th scope=col>region_id</th></tr>\n",
       "\t<tr><th scope=col>&lt;chr&gt;</th><th scope=col>&lt;int&gt;</th><th scope=col>&lt;int&gt;</th><th scope=col>&lt;chr&gt;</th></tr>\n",
       "</thead>\n",
       "<tbody>\n",
       "\t<tr><td>chr8 </td><td>145793211</td><td>145793211</td><td>rs113345124</td></tr>\n",
       "\t<tr><td>chr9 </td><td> 11898949</td><td> 11898949</td><td>rs145210131</td></tr>\n",
       "\t<tr><td>chr13</td><td> 41519377</td><td> 41519377</td><td>rs138102812</td></tr>\n",
       "\t<tr><td>chr1 </td><td>240289734</td><td>240289734</td><td>rs113210771</td></tr>\n",
       "\t<tr><td>chr12</td><td> 78219936</td><td> 78219936</td><td>rs10859433 </td></tr>\n",
       "\t<tr><td>chr5 </td><td>131569666</td><td>131569666</td><td>rs545489794</td></tr>\n",
       "</tbody>\n",
       "</table>\n"
      ],
      "text/latex": [
       "A data.table: 6 × 4\n",
       "\\begin{tabular}{llll}\n",
       " chrom & start & end & region\\_id\\\\\n",
       " <chr> & <int> & <int> & <chr>\\\\\n",
       "\\hline\n",
       "\t chr8  & 145793211 & 145793211 & rs113345124\\\\\n",
       "\t chr9  &  11898949 &  11898949 & rs145210131\\\\\n",
       "\t chr13 &  41519377 &  41519377 & rs138102812\\\\\n",
       "\t chr1  & 240289734 & 240289734 & rs113210771\\\\\n",
       "\t chr12 &  78219936 &  78219936 & rs10859433 \\\\\n",
       "\t chr5  & 131569666 & 131569666 & rs545489794\\\\\n",
       "\\end{tabular}\n"
      ],
      "text/markdown": [
       "\n",
       "A data.table: 6 × 4\n",
       "\n",
       "| chrom &lt;chr&gt; | start &lt;int&gt; | end &lt;int&gt; | region_id &lt;chr&gt; |\n",
       "|---|---|---|---|\n",
       "| chr8  | 145793211 | 145793211 | rs113345124 |\n",
       "| chr9  |  11898949 |  11898949 | rs145210131 |\n",
       "| chr13 |  41519377 |  41519377 | rs138102812 |\n",
       "| chr1  | 240289734 | 240289734 | rs113210771 |\n",
       "| chr12 |  78219936 |  78219936 | rs10859433  |\n",
       "| chr5  | 131569666 | 131569666 | rs545489794 |\n",
       "\n"
      ],
      "text/plain": [
       "  chrom start     end       region_id  \n",
       "1 chr8  145793211 145793211 rs113345124\n",
       "2 chr9   11898949  11898949 rs145210131\n",
       "3 chr13  41519377  41519377 rs138102812\n",
       "4 chr1  240289734 240289734 rs113210771\n",
       "5 chr12  78219936  78219936 rs10859433 \n",
       "6 chr5  131569666 131569666 rs545489794"
      ]
     },
     "metadata": {},
     "output_type": "display_data"
    },
    {
     "data": {
      "text/html": [
       "<style>\n",
       ".list-inline {list-style: none; margin:0; padding: 0}\n",
       ".list-inline>li {display: inline-block}\n",
       ".list-inline>li:not(:last-child)::after {content: \"\\00b7\"; padding: 0 .5ex}\n",
       "</style>\n",
       "<ol class=list-inline><li>9085648</li><li>4</li></ol>\n"
      ],
      "text/latex": [
       "\\begin{enumerate*}\n",
       "\\item 9085648\n",
       "\\item 4\n",
       "\\end{enumerate*}\n"
      ],
      "text/markdown": [
       "1. 9085648\n",
       "2. 4\n",
       "\n",
       "\n"
      ],
      "text/plain": [
       "[1] 9085648       4"
      ]
     },
     "metadata": {},
     "output_type": "display_data"
    }
   ],
   "source": [
    "head(longevity_needed)\n",
    "dim(longevity_needed)"
   ]
  },
  {
   "cell_type": "code",
   "execution_count": null,
   "id": "57d61db1",
   "metadata": {
    "vscode": {
     "languageId": "r"
    }
   },
   "outputs": [],
   "source": [
    "fwrite(longevity_needed,\"/home/rl3328/GWAS/Longevity_GWAS/hg38conversion/longevity_hg19.bed\", sep = '\\t',col.names=FALSE)"
   ]
  },
  {
   "cell_type": "markdown",
   "id": "8110de9a",
   "metadata": {},
   "source": [
    "# Read in the hg38 .bed(three columns-chrom, pos, id) and merge it back to the original summary statistics "
   ]
  },
  {
   "cell_type": "code",
   "execution_count": null,
   "id": "73105a93",
   "metadata": {
    "vscode": {
     "languageId": "r"
    }
   },
   "outputs": [],
   "source": [
    "longevity_hg38 = fread(\"/home/rl3328/hg_conversion/longevity_hg19.to_hg38.bed\")"
   ]
  },
  {
   "cell_type": "code",
   "execution_count": null,
   "id": "c6e77b90",
   "metadata": {
    "vscode": {
     "languageId": "r"
    }
   },
   "outputs": [
    {
     "data": {
      "text/html": [
       "<table class=\"dataframe\">\n",
       "<caption>A data.table: 6 × 4</caption>\n",
       "<thead>\n",
       "\t<tr><th scope=col>V1</th><th scope=col>V2</th><th scope=col>V3</th><th scope=col>V4</th></tr>\n",
       "\t<tr><th scope=col>&lt;chr&gt;</th><th scope=col>&lt;int&gt;</th><th scope=col>&lt;int&gt;</th><th scope=col>&lt;chr&gt;</th></tr>\n",
       "</thead>\n",
       "<tbody>\n",
       "\t<tr><td>chr8 </td><td>144567827</td><td>144567827</td><td>rs113345124</td></tr>\n",
       "\t<tr><td>chr9 </td><td> 11898949</td><td> 11898949</td><td>rs145210131</td></tr>\n",
       "\t<tr><td>chr13</td><td> 40945241</td><td> 40945241</td><td>rs138102812</td></tr>\n",
       "\t<tr><td>chr1 </td><td>240126434</td><td>240126434</td><td>rs113210771</td></tr>\n",
       "\t<tr><td>chr12</td><td> 77826156</td><td> 77826156</td><td>rs10859433 </td></tr>\n",
       "\t<tr><td>chr5 </td><td>132233973</td><td>132233973</td><td>rs545489794</td></tr>\n",
       "</tbody>\n",
       "</table>\n"
      ],
      "text/latex": [
       "A data.table: 6 × 4\n",
       "\\begin{tabular}{llll}\n",
       " V1 & V2 & V3 & V4\\\\\n",
       " <chr> & <int> & <int> & <chr>\\\\\n",
       "\\hline\n",
       "\t chr8  & 144567827 & 144567827 & rs113345124\\\\\n",
       "\t chr9  &  11898949 &  11898949 & rs145210131\\\\\n",
       "\t chr13 &  40945241 &  40945241 & rs138102812\\\\\n",
       "\t chr1  & 240126434 & 240126434 & rs113210771\\\\\n",
       "\t chr12 &  77826156 &  77826156 & rs10859433 \\\\\n",
       "\t chr5  & 132233973 & 132233973 & rs545489794\\\\\n",
       "\\end{tabular}\n"
      ],
      "text/markdown": [
       "\n",
       "A data.table: 6 × 4\n",
       "\n",
       "| V1 &lt;chr&gt; | V2 &lt;int&gt; | V3 &lt;int&gt; | V4 &lt;chr&gt; |\n",
       "|---|---|---|---|\n",
       "| chr8  | 144567827 | 144567827 | rs113345124 |\n",
       "| chr9  |  11898949 |  11898949 | rs145210131 |\n",
       "| chr13 |  40945241 |  40945241 | rs138102812 |\n",
       "| chr1  | 240126434 | 240126434 | rs113210771 |\n",
       "| chr12 |  77826156 |  77826156 | rs10859433  |\n",
       "| chr5  | 132233973 | 132233973 | rs545489794 |\n",
       "\n"
      ],
      "text/plain": [
       "  V1    V2        V3        V4         \n",
       "1 chr8  144567827 144567827 rs113345124\n",
       "2 chr9   11898949  11898949 rs145210131\n",
       "3 chr13  40945241  40945241 rs138102812\n",
       "4 chr1  240126434 240126434 rs113210771\n",
       "5 chr12  77826156  77826156 rs10859433 \n",
       "6 chr5  132233973 132233973 rs545489794"
      ]
     },
     "metadata": {},
     "output_type": "display_data"
    }
   ],
   "source": [
    "head(longevity_hg38)\n"
   ]
  },
  {
   "cell_type": "code",
   "execution_count": null,
   "id": "ed72d92f",
   "metadata": {
    "vscode": {
     "languageId": "r"
    }
   },
   "outputs": [
    {
     "data": {
      "text/html": [
       "<style>\n",
       ".list-inline {list-style: none; margin:0; padding: 0}\n",
       ".list-inline>li {display: inline-block}\n",
       ".list-inline>li:not(:last-child)::after {content: \"\\00b7\"; padding: 0 .5ex}\n",
       "</style>\n",
       "<ol class=list-inline><li>9084547</li><li>3</li></ol>\n"
      ],
      "text/latex": [
       "\\begin{enumerate*}\n",
       "\\item 9084547\n",
       "\\item 3\n",
       "\\end{enumerate*}\n"
      ],
      "text/markdown": [
       "1. 9084547\n",
       "2. 3\n",
       "\n",
       "\n"
      ],
      "text/plain": [
       "[1] 9084547       3"
      ]
     },
     "metadata": {},
     "output_type": "display_data"
    }
   ],
   "source": [
    "dim(longevity_hg38)"
   ]
  },
  {
   "cell_type": "code",
   "execution_count": null,
   "id": "6478c313",
   "metadata": {
    "vscode": {
     "languageId": "r"
    }
   },
   "outputs": [],
   "source": [
    "longevity_hg38 = longevity_hg38[,-3]"
   ]
  },
  {
   "cell_type": "code",
   "execution_count": null,
   "id": "9d33ca56",
   "metadata": {
    "vscode": {
     "languageId": "r"
    }
   },
   "outputs": [],
   "source": [
    "colnames(longevity_hg38) <- c(\"chr\",\"pos\",\"rsid\")"
   ]
  },
  {
   "cell_type": "code",
   "execution_count": null,
   "id": "931de84a",
   "metadata": {
    "vscode": {
     "languageId": "r"
    }
   },
   "outputs": [],
   "source": [
    "longevity_hg38 = longevity_hg38 |> mutate(chr = gsub(\"chr\", \"\", chr))"
   ]
  },
  {
   "cell_type": "code",
   "execution_count": null,
   "id": "067bd3ec",
   "metadata": {
    "vscode": {
     "languageId": "r"
    }
   },
   "outputs": [
    {
     "name": "stderr",
     "output_type": "stream",
     "text": [
      "Warning message:\n",
      "“\u001b[1m\u001b[22mThere was 1 warning in `mutate()`.\n",
      "\u001b[1m\u001b[22m\u001b[36mℹ\u001b[39m In argument: `chr = as.integer(chr)`.\n",
      "Caused by warning:\n",
      "\u001b[33m!\u001b[39m NAs introduced by coercion”\n"
     ]
    }
   ],
   "source": [
    "longevity_hg38 = longevity_hg38 |> mutate(chr=as.integer(chr))"
   ]
  },
  {
   "cell_type": "code",
   "execution_count": null,
   "id": "054643aa",
   "metadata": {
    "vscode": {
     "languageId": "r"
    }
   },
   "outputs": [],
   "source": [
    "longevity_hg38 = longevity_hg38 |> filter(!is.na(chr))"
   ]
  },
  {
   "cell_type": "code",
   "execution_count": null,
   "id": "b2cd4bc0",
   "metadata": {
    "vscode": {
     "languageId": "r"
    }
   },
   "outputs": [
    {
     "data": {
      "text/html": [
       "<table class=\"dataframe\">\n",
       "<caption>A data.table: 6 × 3</caption>\n",
       "<thead>\n",
       "\t<tr><th scope=col>chr</th><th scope=col>pos</th><th scope=col>rsid</th></tr>\n",
       "\t<tr><th scope=col>&lt;int&gt;</th><th scope=col>&lt;int&gt;</th><th scope=col>&lt;chr&gt;</th></tr>\n",
       "</thead>\n",
       "<tbody>\n",
       "\t<tr><td> 8</td><td>144567827</td><td>rs113345124</td></tr>\n",
       "\t<tr><td> 9</td><td> 11898949</td><td>rs145210131</td></tr>\n",
       "\t<tr><td>13</td><td> 40945241</td><td>rs138102812</td></tr>\n",
       "\t<tr><td> 1</td><td>240126434</td><td>rs113210771</td></tr>\n",
       "\t<tr><td>12</td><td> 77826156</td><td>rs10859433 </td></tr>\n",
       "\t<tr><td> 5</td><td>132233973</td><td>rs545489794</td></tr>\n",
       "</tbody>\n",
       "</table>\n"
      ],
      "text/latex": [
       "A data.table: 6 × 3\n",
       "\\begin{tabular}{lll}\n",
       " chr & pos & rsid\\\\\n",
       " <int> & <int> & <chr>\\\\\n",
       "\\hline\n",
       "\t  8 & 144567827 & rs113345124\\\\\n",
       "\t  9 &  11898949 & rs145210131\\\\\n",
       "\t 13 &  40945241 & rs138102812\\\\\n",
       "\t  1 & 240126434 & rs113210771\\\\\n",
       "\t 12 &  77826156 & rs10859433 \\\\\n",
       "\t  5 & 132233973 & rs545489794\\\\\n",
       "\\end{tabular}\n"
      ],
      "text/markdown": [
       "\n",
       "A data.table: 6 × 3\n",
       "\n",
       "| chr &lt;int&gt; | pos &lt;int&gt; | rsid &lt;chr&gt; |\n",
       "|---|---|---|\n",
       "|  8 | 144567827 | rs113345124 |\n",
       "|  9 |  11898949 | rs145210131 |\n",
       "| 13 |  40945241 | rs138102812 |\n",
       "|  1 | 240126434 | rs113210771 |\n",
       "| 12 |  77826156 | rs10859433  |\n",
       "|  5 | 132233973 | rs545489794 |\n",
       "\n"
      ],
      "text/plain": [
       "  chr pos       rsid       \n",
       "1  8  144567827 rs113345124\n",
       "2  9   11898949 rs145210131\n",
       "3 13   40945241 rs138102812\n",
       "4  1  240126434 rs113210771\n",
       "5 12   77826156 rs10859433 \n",
       "6  5  132233973 rs545489794"
      ]
     },
     "metadata": {},
     "output_type": "display_data"
    },
    {
     "data": {
      "text/html": [
       "<style>\n",
       ".list-inline {list-style: none; margin:0; padding: 0}\n",
       ".list-inline>li {display: inline-block}\n",
       ".list-inline>li:not(:last-child)::after {content: \"\\00b7\"; padding: 0 .5ex}\n",
       "</style>\n",
       "<ol class=list-inline><li>9083178</li><li>3</li></ol>\n"
      ],
      "text/latex": [
       "\\begin{enumerate*}\n",
       "\\item 9083178\n",
       "\\item 3\n",
       "\\end{enumerate*}\n"
      ],
      "text/markdown": [
       "1. 9083178\n",
       "2. 3\n",
       "\n",
       "\n"
      ],
      "text/plain": [
       "[1] 9083178       3"
      ]
     },
     "metadata": {},
     "output_type": "display_data"
    }
   ],
   "source": [
    "head(longevity_hg38)\n",
    "dim(longevity_hg38)"
   ]
  },
  {
   "cell_type": "code",
   "execution_count": null,
   "id": "1f861196",
   "metadata": {
    "vscode": {
     "languageId": "r"
    }
   },
   "outputs": [
    {
     "data": {
      "text/html": [
       "<style>\n",
       ".list-inline {list-style: none; margin:0; padding: 0}\n",
       ".list-inline>li {display: inline-block}\n",
       ".list-inline>li:not(:last-child)::after {content: \"\\00b7\"; padding: 0 .5ex}\n",
       "</style>\n",
       "<ol class=list-inline><li>8</li><li>9</li><li>13</li><li>1</li><li>12</li><li>5</li><li>14</li><li>17</li><li>4</li><li>6</li><li>2</li><li>11</li><li>18</li><li>3</li><li>16</li><li>10</li><li>15</li><li>7</li><li>19</li><li>20</li><li>21</li><li>22</li></ol>\n"
      ],
      "text/latex": [
       "\\begin{enumerate*}\n",
       "\\item 8\n",
       "\\item 9\n",
       "\\item 13\n",
       "\\item 1\n",
       "\\item 12\n",
       "\\item 5\n",
       "\\item 14\n",
       "\\item 17\n",
       "\\item 4\n",
       "\\item 6\n",
       "\\item 2\n",
       "\\item 11\n",
       "\\item 18\n",
       "\\item 3\n",
       "\\item 16\n",
       "\\item 10\n",
       "\\item 15\n",
       "\\item 7\n",
       "\\item 19\n",
       "\\item 20\n",
       "\\item 21\n",
       "\\item 22\n",
       "\\end{enumerate*}\n"
      ],
      "text/markdown": [
       "1. 8\n",
       "2. 9\n",
       "3. 13\n",
       "4. 1\n",
       "5. 12\n",
       "6. 5\n",
       "7. 14\n",
       "8. 17\n",
       "9. 4\n",
       "10. 6\n",
       "11. 2\n",
       "12. 11\n",
       "13. 18\n",
       "14. 3\n",
       "15. 16\n",
       "16. 10\n",
       "17. 15\n",
       "18. 7\n",
       "19. 19\n",
       "20. 20\n",
       "21. 21\n",
       "22. 22\n",
       "\n",
       "\n"
      ],
      "text/plain": [
       " [1]  8  9 13  1 12  5 14 17  4  6  2 11 18  3 16 10 15  7 19 20 21 22"
      ]
     },
     "metadata": {},
     "output_type": "display_data"
    }
   ],
   "source": [
    "unique(longevity_hg38$chr)"
   ]
  },
  {
   "cell_type": "code",
   "execution_count": null,
   "id": "d09af1ca",
   "metadata": {
    "vscode": {
     "languageId": "r"
    }
   },
   "outputs": [],
   "source": [
    "longevity_remain = longevity |> select(-chr, -pos)\n",
    "longevity_hg38_final = longevity_remain |> inner_join(longevity_hg38, by = 'rsid')"
   ]
  },
  {
   "cell_type": "code",
   "execution_count": 2,
   "id": "ee373c10",
   "metadata": {
    "vscode": {
     "languageId": "r"
    }
   },
   "outputs": [],
   "source": [
    "longevity_hg38_final = fread(\"/home/rl3328/GWAS/Longevity_GWAS/longevity.sumstats_hg38.gz\")\n"
   ]
  },
  {
   "cell_type": "code",
   "execution_count": 3,
   "id": "949645b6",
   "metadata": {
    "vscode": {
     "languageId": "r"
    }
   },
   "outputs": [
    {
     "data": {
      "text/html": [
       "<table class=\"dataframe\">\n",
       "<caption>A data.table: 6 × 15</caption>\n",
       "<thead>\n",
       "\t<tr><th scope=col>chr</th><th scope=col>pos</th><th scope=col>a1</th><th scope=col>a0</th><th scope=col>rsid</th><th scope=col>n</th><th scope=col>freq1</th><th scope=col>beta1</th><th scope=col>se</th><th scope=col>p</th><th scope=col>direction</th><th scope=col>info</th><th scope=col>freq_se</th><th scope=col>min_freq1</th><th scope=col>max_freq1</th></tr>\n",
       "\t<tr><th scope=col>&lt;int&gt;</th><th scope=col>&lt;int&gt;</th><th scope=col>&lt;chr&gt;</th><th scope=col>&lt;chr&gt;</th><th scope=col>&lt;chr&gt;</th><th scope=col>&lt;int&gt;</th><th scope=col>&lt;dbl&gt;</th><th scope=col>&lt;dbl&gt;</th><th scope=col>&lt;dbl&gt;</th><th scope=col>&lt;dbl&gt;</th><th scope=col>&lt;chr&gt;</th><th scope=col>&lt;dbl&gt;</th><th scope=col>&lt;dbl&gt;</th><th scope=col>&lt;dbl&gt;</th><th scope=col>&lt;dbl&gt;</th></tr>\n",
       "</thead>\n",
       "<tbody>\n",
       "\t<tr><td> 8</td><td>144567827</td><td>T</td><td>C</td><td>rs113345124</td><td>620911</td><td>0.98036746</td><td>0.00055994</td><td>0.01470412</td><td>0.96962368</td><td>+-</td><td>0.955205</td><td>0.00248008</td><td>0.976354</td><td>0.981900</td></tr>\n",
       "\t<tr><td> 9</td><td> 11898949</td><td>T</td><td>C</td><td>rs145210131</td><td>483897</td><td>0.00895121</td><td>0.01777550</td><td>0.02438387</td><td>0.46601024</td><td>++</td><td>0.889843</td><td>0.00062496</td><td>0.008700</td><td>0.010506</td></tr>\n",
       "\t<tr><td>13</td><td> 40945241</td><td>T</td><td>C</td><td>rs138102812</td><td>348613</td><td>0.99059433</td><td>0.02986577</td><td>0.02273712</td><td>0.18900618</td><td>+-</td><td>0.998360</td><td>0.00031691</td><td>0.990500</td><td>0.991659</td></tr>\n",
       "\t<tr><td> 1</td><td>240126434</td><td>T</td><td>C</td><td>rs113210771</td><td>638113</td><td>0.02765505</td><td>0.00504805</td><td>0.01240526</td><td>0.68406061</td><td>+-</td><td>0.962098</td><td>0.00131750</td><td>0.026900</td><td>0.029954</td></tr>\n",
       "\t<tr><td>12</td><td> 77826156</td><td>A</td><td>T</td><td>rs10859433 </td><td>638103</td><td>0.62959171</td><td>0.00853945</td><td>0.00399792</td><td>0.03268147</td><td>++</td><td>0.992782</td><td>0.00260477</td><td>0.625620</td><td>0.631300</td></tr>\n",
       "\t<tr><td> 5</td><td>132233973</td><td>A</td><td>G</td><td>rs545489794</td><td>344932</td><td>0.00732857</td><td>0.00716053</td><td>0.02807414</td><td>0.79867843</td><td>-+</td><td>0.864036</td><td>0.00095907</td><td>0.007000</td><td>0.010128</td></tr>\n",
       "</tbody>\n",
       "</table>\n"
      ],
      "text/latex": [
       "A data.table: 6 × 15\n",
       "\\begin{tabular}{lllllllllllllll}\n",
       " chr & pos & a1 & a0 & rsid & n & freq1 & beta1 & se & p & direction & info & freq\\_se & min\\_freq1 & max\\_freq1\\\\\n",
       " <int> & <int> & <chr> & <chr> & <chr> & <int> & <dbl> & <dbl> & <dbl> & <dbl> & <chr> & <dbl> & <dbl> & <dbl> & <dbl>\\\\\n",
       "\\hline\n",
       "\t  8 & 144567827 & T & C & rs113345124 & 620911 & 0.98036746 & 0.00055994 & 0.01470412 & 0.96962368 & +- & 0.955205 & 0.00248008 & 0.976354 & 0.981900\\\\\n",
       "\t  9 &  11898949 & T & C & rs145210131 & 483897 & 0.00895121 & 0.01777550 & 0.02438387 & 0.46601024 & ++ & 0.889843 & 0.00062496 & 0.008700 & 0.010506\\\\\n",
       "\t 13 &  40945241 & T & C & rs138102812 & 348613 & 0.99059433 & 0.02986577 & 0.02273712 & 0.18900618 & +- & 0.998360 & 0.00031691 & 0.990500 & 0.991659\\\\\n",
       "\t  1 & 240126434 & T & C & rs113210771 & 638113 & 0.02765505 & 0.00504805 & 0.01240526 & 0.68406061 & +- & 0.962098 & 0.00131750 & 0.026900 & 0.029954\\\\\n",
       "\t 12 &  77826156 & A & T & rs10859433  & 638103 & 0.62959171 & 0.00853945 & 0.00399792 & 0.03268147 & ++ & 0.992782 & 0.00260477 & 0.625620 & 0.631300\\\\\n",
       "\t  5 & 132233973 & A & G & rs545489794 & 344932 & 0.00732857 & 0.00716053 & 0.02807414 & 0.79867843 & -+ & 0.864036 & 0.00095907 & 0.007000 & 0.010128\\\\\n",
       "\\end{tabular}\n"
      ],
      "text/markdown": [
       "\n",
       "A data.table: 6 × 15\n",
       "\n",
       "| chr &lt;int&gt; | pos &lt;int&gt; | a1 &lt;chr&gt; | a0 &lt;chr&gt; | rsid &lt;chr&gt; | n &lt;int&gt; | freq1 &lt;dbl&gt; | beta1 &lt;dbl&gt; | se &lt;dbl&gt; | p &lt;dbl&gt; | direction &lt;chr&gt; | info &lt;dbl&gt; | freq_se &lt;dbl&gt; | min_freq1 &lt;dbl&gt; | max_freq1 &lt;dbl&gt; |\n",
       "|---|---|---|---|---|---|---|---|---|---|---|---|---|---|---|\n",
       "|  8 | 144567827 | T | C | rs113345124 | 620911 | 0.98036746 | 0.00055994 | 0.01470412 | 0.96962368 | +- | 0.955205 | 0.00248008 | 0.976354 | 0.981900 |\n",
       "|  9 |  11898949 | T | C | rs145210131 | 483897 | 0.00895121 | 0.01777550 | 0.02438387 | 0.46601024 | ++ | 0.889843 | 0.00062496 | 0.008700 | 0.010506 |\n",
       "| 13 |  40945241 | T | C | rs138102812 | 348613 | 0.99059433 | 0.02986577 | 0.02273712 | 0.18900618 | +- | 0.998360 | 0.00031691 | 0.990500 | 0.991659 |\n",
       "|  1 | 240126434 | T | C | rs113210771 | 638113 | 0.02765505 | 0.00504805 | 0.01240526 | 0.68406061 | +- | 0.962098 | 0.00131750 | 0.026900 | 0.029954 |\n",
       "| 12 |  77826156 | A | T | rs10859433  | 638103 | 0.62959171 | 0.00853945 | 0.00399792 | 0.03268147 | ++ | 0.992782 | 0.00260477 | 0.625620 | 0.631300 |\n",
       "|  5 | 132233973 | A | G | rs545489794 | 344932 | 0.00732857 | 0.00716053 | 0.02807414 | 0.79867843 | -+ | 0.864036 | 0.00095907 | 0.007000 | 0.010128 |\n",
       "\n"
      ],
      "text/plain": [
       "  chr pos       a1 a0 rsid        n      freq1      beta1      se        \n",
       "1  8  144567827 T  C  rs113345124 620911 0.98036746 0.00055994 0.01470412\n",
       "2  9   11898949 T  C  rs145210131 483897 0.00895121 0.01777550 0.02438387\n",
       "3 13   40945241 T  C  rs138102812 348613 0.99059433 0.02986577 0.02273712\n",
       "4  1  240126434 T  C  rs113210771 638113 0.02765505 0.00504805 0.01240526\n",
       "5 12   77826156 A  T  rs10859433  638103 0.62959171 0.00853945 0.00399792\n",
       "6  5  132233973 A  G  rs545489794 344932 0.00732857 0.00716053 0.02807414\n",
       "  p          direction info     freq_se    min_freq1 max_freq1\n",
       "1 0.96962368 +-        0.955205 0.00248008 0.976354  0.981900 \n",
       "2 0.46601024 ++        0.889843 0.00062496 0.008700  0.010506 \n",
       "3 0.18900618 +-        0.998360 0.00031691 0.990500  0.991659 \n",
       "4 0.68406061 +-        0.962098 0.00131750 0.026900  0.029954 \n",
       "5 0.03268147 ++        0.992782 0.00260477 0.625620  0.631300 \n",
       "6 0.79867843 -+        0.864036 0.00095907 0.007000  0.010128 "
      ]
     },
     "metadata": {},
     "output_type": "display_data"
    },
    {
     "data": {
      "text/html": [
       "<style>\n",
       ".list-inline {list-style: none; margin:0; padding: 0}\n",
       ".list-inline>li {display: inline-block}\n",
       ".list-inline>li:not(:last-child)::after {content: \"\\00b7\"; padding: 0 .5ex}\n",
       "</style>\n",
       "<ol class=list-inline><li>9083178</li><li>15</li></ol>\n"
      ],
      "text/latex": [
       "\\begin{enumerate*}\n",
       "\\item 9083178\n",
       "\\item 15\n",
       "\\end{enumerate*}\n"
      ],
      "text/markdown": [
       "1. 9083178\n",
       "2. 15\n",
       "\n",
       "\n"
      ],
      "text/plain": [
       "[1] 9083178      15"
      ]
     },
     "metadata": {},
     "output_type": "display_data"
    }
   ],
   "source": [
    "head(longevity_hg38_final)\n",
    "dim(longevity_hg38_final)"
   ]
  },
  {
   "cell_type": "code",
   "execution_count": 10,
   "id": "af882d1d",
   "metadata": {
    "vscode": {
     "languageId": "r"
    }
   },
   "outputs": [],
   "source": [
    "fwrite(longevity_hg38_final, \"/home/rl3328/GWAS/Longevity_GWAS/hg38GWAS/longevity.sumstats_hg38.gz\", sep = '\\t')"
   ]
  },
  {
   "cell_type": "markdown",
   "id": "dcc94549-a1c4-4865-beb4-7e2951859388",
   "metadata": {
    "kernel": "SoS"
   },
   "source": [
    "## MS"
   ]
  },
  {
   "cell_type": "markdown",
   "id": "621a0182-fb4e-4107-9370-56e1c547bdfa",
   "metadata": {
    "kernel": "SoS"
   },
   "source": [
    "### format the input hg19 .bed for MS"
   ]
  },
  {
   "cell_type": "code",
   "execution_count": 135,
   "id": "7621859d-fa6f-419f-ae79-b2b62c260f72",
   "metadata": {
    "kernel": "SoS",
    "vscode": {
     "languageId": "r"
    }
   },
   "outputs": [],
   "source": [
    "ms = fread(\"~/data/GWAS/image_GWAS/ms_eur_v4.0.sumstats.gz\")"
   ]
  },
  {
   "cell_type": "code",
   "execution_count": 136,
   "id": "8a522c5d-441b-4b17-bfc4-3c9a0fc99cfe",
   "metadata": {
    "kernel": "SoS",
    "vscode": {
     "languageId": "r"
    }
   },
   "outputs": [
    {
     "data": {
      "text/html": [
       "<style>\n",
       ".list-inline {list-style: none; margin:0; padding: 0}\n",
       ".list-inline>li {display: inline-block}\n",
       ".list-inline>li:not(:last-child)::after {content: \"\\00b7\"; padding: 0 .5ex}\n",
       "</style>\n",
       "<ol class=list-inline><li>5</li><li>2</li><li>10</li><li>3</li><li>18</li><li>4</li><li>1</li><li>9</li><li>7</li><li>16</li><li>15</li><li>12</li><li>13</li><li>11</li><li>6</li><li>8</li><li>22</li><li>14</li><li>20</li><li>19</li><li>21</li><li>17</li></ol>\n"
      ],
      "text/latex": [
       "\\begin{enumerate*}\n",
       "\\item 5\n",
       "\\item 2\n",
       "\\item 10\n",
       "\\item 3\n",
       "\\item 18\n",
       "\\item 4\n",
       "\\item 1\n",
       "\\item 9\n",
       "\\item 7\n",
       "\\item 16\n",
       "\\item 15\n",
       "\\item 12\n",
       "\\item 13\n",
       "\\item 11\n",
       "\\item 6\n",
       "\\item 8\n",
       "\\item 22\n",
       "\\item 14\n",
       "\\item 20\n",
       "\\item 19\n",
       "\\item 21\n",
       "\\item 17\n",
       "\\end{enumerate*}\n"
      ],
      "text/markdown": [
       "1. 5\n",
       "2. 2\n",
       "3. 10\n",
       "4. 3\n",
       "5. 18\n",
       "6. 4\n",
       "7. 1\n",
       "8. 9\n",
       "9. 7\n",
       "10. 16\n",
       "11. 15\n",
       "12. 12\n",
       "13. 13\n",
       "14. 11\n",
       "15. 6\n",
       "16. 8\n",
       "17. 22\n",
       "18. 14\n",
       "19. 20\n",
       "20. 19\n",
       "21. 21\n",
       "22. 17\n",
       "\n",
       "\n"
      ],
      "text/plain": [
       " [1]  5  2 10  3 18  4  1  9  7 16 15 12 13 11  6  8 22 14 20 19 21 17"
      ]
     },
     "metadata": {},
     "output_type": "display_data"
    }
   ],
   "source": [
    "unique(ms$CHR)"
   ]
  },
  {
   "cell_type": "code",
   "execution_count": 137,
   "id": "b66561fe-2676-406d-803d-4d20fe1ba0ab",
   "metadata": {
    "kernel": "SoS",
    "vscode": {
     "languageId": "r"
    }
   },
   "outputs": [
    {
     "data": {
      "text/html": [
       "<table class=\"dataframe\">\n",
       "<caption>A data.table: 6 x 12</caption>\n",
       "<thead>\n",
       "\t<tr><th scope=col>MarkerName</th><th scope=col>CHR</th><th scope=col>BP</th><th scope=col>A1</th><th scope=col>A2</th><th scope=col>Neff</th><th scope=col>Zscore</th><th scope=col>P</th><th scope=col>Direction</th><th scope=col>EAF</th><th scope=col>beta</th><th scope=col>se</th></tr>\n",
       "\t<tr><th scope=col>&lt;chr&gt;</th><th scope=col>&lt;int&gt;</th><th scope=col>&lt;int&gt;</th><th scope=col>&lt;chr&gt;</th><th scope=col>&lt;chr&gt;</th><th scope=col>&lt;dbl&gt;</th><th scope=col>&lt;dbl&gt;</th><th scope=col>&lt;dbl&gt;</th><th scope=col>&lt;chr&gt;</th><th scope=col>&lt;dbl&gt;</th><th scope=col>&lt;dbl&gt;</th><th scope=col>&lt;dbl&gt;</th></tr>\n",
       "</thead>\n",
       "<tbody>\n",
       "\t<tr><td>rs667647   </td><td> 5</td><td> 29439275</td><td>T</td><td>C</td><td>58174.06</td><td> 1.991</td><td>0.04652</td><td>++</td><td>0.3489</td><td> 0.012246231</td><td>0.006150794</td></tr>\n",
       "\t<tr><td>rs113534962</td><td> 5</td><td> 85928892</td><td>T</td><td>C</td><td>58174.06</td><td> 2.545</td><td>0.01093</td><td>++</td><td>0.0626</td><td> 0.030798835</td><td>0.012101703</td></tr>\n",
       "\t<tr><td>rs559397866</td><td> 2</td><td>170966953</td><td>T</td><td>C</td><td>20081.51</td><td>-0.205</td><td>0.83730</td><td>?-</td><td>0.9851</td><td>-0.008443197</td><td>0.041186328</td></tr>\n",
       "\t<tr><td>rs2366866  </td><td>10</td><td>128341232</td><td>T</td><td>C</td><td>58174.06</td><td>-1.134</td><td>0.25660</td><td>+-</td><td>0.4592</td><td>-0.006671282</td><td>0.005882965</td></tr>\n",
       "\t<tr><td>rs472303   </td><td> 3</td><td> 62707519</td><td>T</td><td>C</td><td>58174.06</td><td>-0.665</td><td>0.50590</td><td>--</td><td>0.0636</td><td>-0.007988791</td><td>0.012013219</td></tr>\n",
       "\t<tr><td>rs13417735 </td><td> 2</td><td> 80464120</td><td>T</td><td>G</td><td>58174.06</td><td> 0.888</td><td>0.37460</td><td>+-</td><td>0.9901</td><td> 0.026295002</td><td>0.029611489</td></tr>\n",
       "</tbody>\n",
       "</table>\n"
      ],
      "text/latex": [
       "A data.table: 6 x 12\n",
       "\\begin{tabular}{llllllllllll}\n",
       " MarkerName & CHR & BP & A1 & A2 & Neff & Zscore & P & Direction & EAF & beta & se\\\\\n",
       " <chr> & <int> & <int> & <chr> & <chr> & <dbl> & <dbl> & <dbl> & <chr> & <dbl> & <dbl> & <dbl>\\\\\n",
       "\\hline\n",
       "\t rs667647    &  5 &  29439275 & T & C & 58174.06 &  1.991 & 0.04652 & ++ & 0.3489 &  0.012246231 & 0.006150794\\\\\n",
       "\t rs113534962 &  5 &  85928892 & T & C & 58174.06 &  2.545 & 0.01093 & ++ & 0.0626 &  0.030798835 & 0.012101703\\\\\n",
       "\t rs559397866 &  2 & 170966953 & T & C & 20081.51 & -0.205 & 0.83730 & ?- & 0.9851 & -0.008443197 & 0.041186328\\\\\n",
       "\t rs2366866   & 10 & 128341232 & T & C & 58174.06 & -1.134 & 0.25660 & +- & 0.4592 & -0.006671282 & 0.005882965\\\\\n",
       "\t rs472303    &  3 &  62707519 & T & C & 58174.06 & -0.665 & 0.50590 & -- & 0.0636 & -0.007988791 & 0.012013219\\\\\n",
       "\t rs13417735  &  2 &  80464120 & T & G & 58174.06 &  0.888 & 0.37460 & +- & 0.9901 &  0.026295002 & 0.029611489\\\\\n",
       "\\end{tabular}\n"
      ],
      "text/markdown": [
       "\n",
       "A data.table: 6 x 12\n",
       "\n",
       "| MarkerName &lt;chr&gt; | CHR &lt;int&gt; | BP &lt;int&gt; | A1 &lt;chr&gt; | A2 &lt;chr&gt; | Neff &lt;dbl&gt; | Zscore &lt;dbl&gt; | P &lt;dbl&gt; | Direction &lt;chr&gt; | EAF &lt;dbl&gt; | beta &lt;dbl&gt; | se &lt;dbl&gt; |\n",
       "|---|---|---|---|---|---|---|---|---|---|---|---|\n",
       "| rs667647    |  5 |  29439275 | T | C | 58174.06 |  1.991 | 0.04652 | ++ | 0.3489 |  0.012246231 | 0.006150794 |\n",
       "| rs113534962 |  5 |  85928892 | T | C | 58174.06 |  2.545 | 0.01093 | ++ | 0.0626 |  0.030798835 | 0.012101703 |\n",
       "| rs559397866 |  2 | 170966953 | T | C | 20081.51 | -0.205 | 0.83730 | ?- | 0.9851 | -0.008443197 | 0.041186328 |\n",
       "| rs2366866   | 10 | 128341232 | T | C | 58174.06 | -1.134 | 0.25660 | +- | 0.4592 | -0.006671282 | 0.005882965 |\n",
       "| rs472303    |  3 |  62707519 | T | C | 58174.06 | -0.665 | 0.50590 | -- | 0.0636 | -0.007988791 | 0.012013219 |\n",
       "| rs13417735  |  2 |  80464120 | T | G | 58174.06 |  0.888 | 0.37460 | +- | 0.9901 |  0.026295002 | 0.029611489 |\n",
       "\n"
      ],
      "text/plain": [
       "  MarkerName  CHR BP        A1 A2 Neff     Zscore P       Direction EAF   \n",
       "1 rs667647     5   29439275 T  C  58174.06  1.991 0.04652 ++        0.3489\n",
       "2 rs113534962  5   85928892 T  C  58174.06  2.545 0.01093 ++        0.0626\n",
       "3 rs559397866  2  170966953 T  C  20081.51 -0.205 0.83730 ?-        0.9851\n",
       "4 rs2366866   10  128341232 T  C  58174.06 -1.134 0.25660 +-        0.4592\n",
       "5 rs472303     3   62707519 T  C  58174.06 -0.665 0.50590 --        0.0636\n",
       "6 rs13417735   2   80464120 T  G  58174.06  0.888 0.37460 +-        0.9901\n",
       "  beta         se         \n",
       "1  0.012246231 0.006150794\n",
       "2  0.030798835 0.012101703\n",
       "3 -0.008443197 0.041186328\n",
       "4 -0.006671282 0.005882965\n",
       "5 -0.007988791 0.012013219\n",
       "6  0.026295002 0.029611489"
      ]
     },
     "metadata": {},
     "output_type": "display_data"
    }
   ],
   "source": [
    "head(ms)"
   ]
  },
  {
   "cell_type": "code",
   "execution_count": 151,
   "id": "125126ac-d9f8-486c-911b-aeca17c5ae70",
   "metadata": {
    "kernel": "SoS",
    "vscode": {
     "languageId": "r"
    }
   },
   "outputs": [],
   "source": [
    "ms_needed = ms |> mutate(chrom = paste0(\"chr\",CHR), start = BP, end = BP, region_id = MarkerName) |> select(chrom, start, end, region_id)"
   ]
  },
  {
   "cell_type": "code",
   "execution_count": 152,
   "id": "ce3e8b4b-2fb8-4741-956b-b8ab6cb82f17",
   "metadata": {
    "kernel": "SoS",
    "vscode": {
     "languageId": "r"
    }
   },
   "outputs": [
    {
     "data": {
      "text/html": [
       "<table class=\"dataframe\">\n",
       "<caption>A data.table: 6 x 4</caption>\n",
       "<thead>\n",
       "\t<tr><th scope=col>chrom</th><th scope=col>start</th><th scope=col>end</th><th scope=col>region_id</th></tr>\n",
       "\t<tr><th scope=col>&lt;chr&gt;</th><th scope=col>&lt;int&gt;</th><th scope=col>&lt;int&gt;</th><th scope=col>&lt;chr&gt;</th></tr>\n",
       "</thead>\n",
       "<tbody>\n",
       "\t<tr><td>chr5 </td><td> 29439275</td><td> 29439275</td><td>rs667647   </td></tr>\n",
       "\t<tr><td>chr5 </td><td> 85928892</td><td> 85928892</td><td>rs113534962</td></tr>\n",
       "\t<tr><td>chr2 </td><td>170966953</td><td>170966953</td><td>rs559397866</td></tr>\n",
       "\t<tr><td>chr10</td><td>128341232</td><td>128341232</td><td>rs2366866  </td></tr>\n",
       "\t<tr><td>chr3 </td><td> 62707519</td><td> 62707519</td><td>rs472303   </td></tr>\n",
       "\t<tr><td>chr2 </td><td> 80464120</td><td> 80464120</td><td>rs13417735 </td></tr>\n",
       "</tbody>\n",
       "</table>\n"
      ],
      "text/latex": [
       "A data.table: 6 x 4\n",
       "\\begin{tabular}{llll}\n",
       " chrom & start & end & region\\_id\\\\\n",
       " <chr> & <int> & <int> & <chr>\\\\\n",
       "\\hline\n",
       "\t chr5  &  29439275 &  29439275 & rs667647   \\\\\n",
       "\t chr5  &  85928892 &  85928892 & rs113534962\\\\\n",
       "\t chr2  & 170966953 & 170966953 & rs559397866\\\\\n",
       "\t chr10 & 128341232 & 128341232 & rs2366866  \\\\\n",
       "\t chr3  &  62707519 &  62707519 & rs472303   \\\\\n",
       "\t chr2  &  80464120 &  80464120 & rs13417735 \\\\\n",
       "\\end{tabular}\n"
      ],
      "text/markdown": [
       "\n",
       "A data.table: 6 x 4\n",
       "\n",
       "| chrom &lt;chr&gt; | start &lt;int&gt; | end &lt;int&gt; | region_id &lt;chr&gt; |\n",
       "|---|---|---|---|\n",
       "| chr5  |  29439275 |  29439275 | rs667647    |\n",
       "| chr5  |  85928892 |  85928892 | rs113534962 |\n",
       "| chr2  | 170966953 | 170966953 | rs559397866 |\n",
       "| chr10 | 128341232 | 128341232 | rs2366866   |\n",
       "| chr3  |  62707519 |  62707519 | rs472303    |\n",
       "| chr2  |  80464120 |  80464120 | rs13417735  |\n",
       "\n"
      ],
      "text/plain": [
       "  chrom start     end       region_id  \n",
       "1 chr5   29439275  29439275 rs667647   \n",
       "2 chr5   85928892  85928892 rs113534962\n",
       "3 chr2  170966953 170966953 rs559397866\n",
       "4 chr10 128341232 128341232 rs2366866  \n",
       "5 chr3   62707519  62707519 rs472303   \n",
       "6 chr2   80464120  80464120 rs13417735 "
      ]
     },
     "metadata": {},
     "output_type": "display_data"
    },
    {
     "data": {
      "text/html": [
       "<style>\n",
       ".list-inline {list-style: none; margin:0; padding: 0}\n",
       ".list-inline>li {display: inline-block}\n",
       ".list-inline>li:not(:last-child)::after {content: \"\\00b7\"; padding: 0 .5ex}\n",
       "</style>\n",
       "<ol class=list-inline><li>8957460</li><li>4</li></ol>\n"
      ],
      "text/latex": [
       "\\begin{enumerate*}\n",
       "\\item 8957460\n",
       "\\item 4\n",
       "\\end{enumerate*}\n"
      ],
      "text/markdown": [
       "1. 8957460\n",
       "2. 4\n",
       "\n",
       "\n"
      ],
      "text/plain": [
       "[1] 8957460       4"
      ]
     },
     "metadata": {},
     "output_type": "display_data"
    }
   ],
   "source": [
    "head(ms_needed)\n",
    "dim(ms_needed)"
   ]
  },
  {
   "cell_type": "code",
   "execution_count": 153,
   "id": "6a0e2b08-ec6f-4c83-b5bd-a5b3b728641f",
   "metadata": {
    "kernel": "SoS",
    "vscode": {
     "languageId": "r"
    }
   },
   "outputs": [],
   "source": [
    "fwrite(ms_needed,\"ms_hg19.bed\", sep = '\\t',col.names=FALSE)"
   ]
  },
  {
   "cell_type": "markdown",
   "id": "364a16f4-df11-420f-b969-a40a14439234",
   "metadata": {
    "kernel": "SoS"
   },
   "source": [
    "# Read in the hg38 .bed(three columns-chrom, pos, id) and merge it back to the original summary statistics "
   ]
  },
  {
   "cell_type": "code",
   "execution_count": 168,
   "id": "edc4e64a-0560-489e-8e17-fadee5b6b0ea",
   "metadata": {
    "kernel": "SoS",
    "vscode": {
     "languageId": "r"
    }
   },
   "outputs": [],
   "source": [
    "ms_hg38 = fread(\"/home/ubuntu/project/conversion/ms_hg19.to_hg38.bed\")"
   ]
  },
  {
   "cell_type": "code",
   "execution_count": 175,
   "id": "2ec5fe09-861f-4493-91d5-894597c85ae2",
   "metadata": {
    "kernel": "SoS",
    "vscode": {
     "languageId": "r"
    }
   },
   "outputs": [
    {
     "data": {
      "text/html": [
       "<table class=\"dataframe\">\n",
       "<caption>A data.table: 6 x 3</caption>\n",
       "<thead>\n",
       "\t<tr><th scope=col>CHR</th><th scope=col>BP</th><th scope=col>MarkerName</th></tr>\n",
       "\t<tr><th scope=col>&lt;chr&gt;</th><th scope=col>&lt;int&gt;</th><th scope=col>&lt;chr&gt;</th></tr>\n",
       "</thead>\n",
       "<tbody>\n",
       "\t<tr><td>chr5 </td><td> 29439168</td><td>rs667647   </td></tr>\n",
       "\t<tr><td>chr5 </td><td> 86633075</td><td>rs113534962</td></tr>\n",
       "\t<tr><td>chr2 </td><td>170110443</td><td>rs559397866</td></tr>\n",
       "\t<tr><td>chr10</td><td>126652663</td><td>rs2366866  </td></tr>\n",
       "\t<tr><td>chr3 </td><td> 62721844</td><td>rs472303   </td></tr>\n",
       "\t<tr><td>chr2 </td><td> 80236995</td><td>rs13417735 </td></tr>\n",
       "</tbody>\n",
       "</table>\n"
      ],
      "text/latex": [
       "A data.table: 6 x 3\n",
       "\\begin{tabular}{lll}\n",
       " CHR & BP & MarkerName\\\\\n",
       " <chr> & <int> & <chr>\\\\\n",
       "\\hline\n",
       "\t chr5  &  29439168 & rs667647   \\\\\n",
       "\t chr5  &  86633075 & rs113534962\\\\\n",
       "\t chr2  & 170110443 & rs559397866\\\\\n",
       "\t chr10 & 126652663 & rs2366866  \\\\\n",
       "\t chr3  &  62721844 & rs472303   \\\\\n",
       "\t chr2  &  80236995 & rs13417735 \\\\\n",
       "\\end{tabular}\n"
      ],
      "text/markdown": [
       "\n",
       "A data.table: 6 x 3\n",
       "\n",
       "| CHR &lt;chr&gt; | BP &lt;int&gt; | MarkerName &lt;chr&gt; |\n",
       "|---|---|---|\n",
       "| chr5  |  29439168 | rs667647    |\n",
       "| chr5  |  86633075 | rs113534962 |\n",
       "| chr2  | 170110443 | rs559397866 |\n",
       "| chr10 | 126652663 | rs2366866   |\n",
       "| chr3  |  62721844 | rs472303    |\n",
       "| chr2  |  80236995 | rs13417735  |\n",
       "\n"
      ],
      "text/plain": [
       "  CHR   BP        MarkerName \n",
       "1 chr5   29439168 rs667647   \n",
       "2 chr5   86633075 rs113534962\n",
       "3 chr2  170110443 rs559397866\n",
       "4 chr10 126652663 rs2366866  \n",
       "5 chr3   62721844 rs472303   \n",
       "6 chr2   80236995 rs13417735 "
      ]
     },
     "metadata": {},
     "output_type": "display_data"
    }
   ],
   "source": [
    "head(ms_hg38)"
   ]
  },
  {
   "cell_type": "code",
   "execution_count": 170,
   "id": "38247388-df06-47e6-870e-fbf96c232783",
   "metadata": {
    "kernel": "SoS",
    "vscode": {
     "languageId": "r"
    }
   },
   "outputs": [],
   "source": [
    "ms_hg38 = ms_hg38[,-3]"
   ]
  },
  {
   "cell_type": "code",
   "execution_count": 174,
   "id": "685ab5a2-04e3-45a6-97b3-32da5ce085e4",
   "metadata": {
    "kernel": "SoS",
    "vscode": {
     "languageId": "r"
    }
   },
   "outputs": [],
   "source": [
    "colnames(ms_hg38) <- c(\"CHR\",\"BP\",\"MarkerName\")"
   ]
  },
  {
   "cell_type": "code",
   "execution_count": 176,
   "id": "a7c2f289-7ece-471d-8f27-098e21e832fb",
   "metadata": {
    "kernel": "SoS",
    "vscode": {
     "languageId": "r"
    }
   },
   "outputs": [],
   "source": [
    "ms_hg38 = ms_hg38 |> mutate(CHR = gsub(\"chr\", \"\", CHR))"
   ]
  },
  {
   "cell_type": "code",
   "execution_count": 177,
   "id": "5de85f18-4af6-4558-a9e5-c2d9b2a68f87",
   "metadata": {
    "kernel": "SoS",
    "vscode": {
     "languageId": "r"
    }
   },
   "outputs": [
    {
     "name": "stderr",
     "output_type": "stream",
     "text": [
      "Warning message:\n",
      "\"\u001b[1m\u001b[22mThere was 1 warning in `mutate()`.\n",
      "\u001b[1m\u001b[22m\u001b[36mi\u001b[39m In argument: `CHR = as.integer(CHR)`.\n",
      "Caused by warning:\n",
      "\u001b[33m!\u001b[39m NAs introduced by coercion\"\n"
     ]
    }
   ],
   "source": [
    "ms_hg38 = ms_hg38 |> mutate(CHR=as.integer(CHR))"
   ]
  },
  {
   "cell_type": "code",
   "execution_count": 180,
   "id": "a92340f5-2c28-4b28-8d4f-9e5874bd366b",
   "metadata": {
    "kernel": "SoS",
    "vscode": {
     "languageId": "r"
    }
   },
   "outputs": [],
   "source": [
    "ms_hg38 = ms_hg38 |> filter(!is.na(CHR))"
   ]
  },
  {
   "cell_type": "code",
   "execution_count": 181,
   "id": "9a305527-9dbd-49e8-9cf9-716e4724ca21",
   "metadata": {
    "kernel": "SoS",
    "vscode": {
     "languageId": "r"
    }
   },
   "outputs": [
    {
     "data": {
      "text/html": [
       "<table class=\"dataframe\">\n",
       "<caption>A data.table: 6 x 3</caption>\n",
       "<thead>\n",
       "\t<tr><th scope=col>CHR</th><th scope=col>BP</th><th scope=col>MarkerName</th></tr>\n",
       "\t<tr><th scope=col>&lt;int&gt;</th><th scope=col>&lt;int&gt;</th><th scope=col>&lt;chr&gt;</th></tr>\n",
       "</thead>\n",
       "<tbody>\n",
       "\t<tr><td> 5</td><td> 29439168</td><td>rs667647   </td></tr>\n",
       "\t<tr><td> 5</td><td> 86633075</td><td>rs113534962</td></tr>\n",
       "\t<tr><td> 2</td><td>170110443</td><td>rs559397866</td></tr>\n",
       "\t<tr><td>10</td><td>126652663</td><td>rs2366866  </td></tr>\n",
       "\t<tr><td> 3</td><td> 62721844</td><td>rs472303   </td></tr>\n",
       "\t<tr><td> 2</td><td> 80236995</td><td>rs13417735 </td></tr>\n",
       "</tbody>\n",
       "</table>\n"
      ],
      "text/latex": [
       "A data.table: 6 x 3\n",
       "\\begin{tabular}{lll}\n",
       " CHR & BP & MarkerName\\\\\n",
       " <int> & <int> & <chr>\\\\\n",
       "\\hline\n",
       "\t  5 &  29439168 & rs667647   \\\\\n",
       "\t  5 &  86633075 & rs113534962\\\\\n",
       "\t  2 & 170110443 & rs559397866\\\\\n",
       "\t 10 & 126652663 & rs2366866  \\\\\n",
       "\t  3 &  62721844 & rs472303   \\\\\n",
       "\t  2 &  80236995 & rs13417735 \\\\\n",
       "\\end{tabular}\n"
      ],
      "text/markdown": [
       "\n",
       "A data.table: 6 x 3\n",
       "\n",
       "| CHR &lt;int&gt; | BP &lt;int&gt; | MarkerName &lt;chr&gt; |\n",
       "|---|---|---|\n",
       "|  5 |  29439168 | rs667647    |\n",
       "|  5 |  86633075 | rs113534962 |\n",
       "|  2 | 170110443 | rs559397866 |\n",
       "| 10 | 126652663 | rs2366866   |\n",
       "|  3 |  62721844 | rs472303    |\n",
       "|  2 |  80236995 | rs13417735  |\n",
       "\n"
      ],
      "text/plain": [
       "  CHR BP        MarkerName \n",
       "1  5   29439168 rs667647   \n",
       "2  5   86633075 rs113534962\n",
       "3  2  170110443 rs559397866\n",
       "4 10  126652663 rs2366866  \n",
       "5  3   62721844 rs472303   \n",
       "6  2   80236995 rs13417735 "
      ]
     },
     "metadata": {},
     "output_type": "display_data"
    },
    {
     "data": {
      "text/html": [
       "<style>\n",
       ".list-inline {list-style: none; margin:0; padding: 0}\n",
       ".list-inline>li {display: inline-block}\n",
       ".list-inline>li:not(:last-child)::after {content: \"\\00b7\"; padding: 0 .5ex}\n",
       "</style>\n",
       "<ol class=list-inline><li>8954288</li><li>3</li></ol>\n"
      ],
      "text/latex": [
       "\\begin{enumerate*}\n",
       "\\item 8954288\n",
       "\\item 3\n",
       "\\end{enumerate*}\n"
      ],
      "text/markdown": [
       "1. 8954288\n",
       "2. 3\n",
       "\n",
       "\n"
      ],
      "text/plain": [
       "[1] 8954288       3"
      ]
     },
     "metadata": {},
     "output_type": "display_data"
    }
   ],
   "source": [
    "head(ms_hg38)\n",
    "dim(ms_hg38)"
   ]
  },
  {
   "cell_type": "code",
   "execution_count": 182,
   "id": "95289a1c-c7a9-46dc-947c-2436e09e1e7f",
   "metadata": {
    "kernel": "SoS",
    "vscode": {
     "languageId": "r"
    }
   },
   "outputs": [
    {
     "data": {
      "text/html": [
       "<style>\n",
       ".list-inline {list-style: none; margin:0; padding: 0}\n",
       ".list-inline>li {display: inline-block}\n",
       ".list-inline>li:not(:last-child)::after {content: \"\\00b7\"; padding: 0 .5ex}\n",
       "</style>\n",
       "<ol class=list-inline><li>5</li><li>2</li><li>10</li><li>3</li><li>18</li><li>4</li><li>1</li><li>9</li><li>7</li><li>16</li><li>15</li><li>12</li><li>13</li><li>11</li><li>6</li><li>8</li><li>22</li><li>14</li><li>20</li><li>19</li><li>21</li><li>17</li></ol>\n"
      ],
      "text/latex": [
       "\\begin{enumerate*}\n",
       "\\item 5\n",
       "\\item 2\n",
       "\\item 10\n",
       "\\item 3\n",
       "\\item 18\n",
       "\\item 4\n",
       "\\item 1\n",
       "\\item 9\n",
       "\\item 7\n",
       "\\item 16\n",
       "\\item 15\n",
       "\\item 12\n",
       "\\item 13\n",
       "\\item 11\n",
       "\\item 6\n",
       "\\item 8\n",
       "\\item 22\n",
       "\\item 14\n",
       "\\item 20\n",
       "\\item 19\n",
       "\\item 21\n",
       "\\item 17\n",
       "\\end{enumerate*}\n"
      ],
      "text/markdown": [
       "1. 5\n",
       "2. 2\n",
       "3. 10\n",
       "4. 3\n",
       "5. 18\n",
       "6. 4\n",
       "7. 1\n",
       "8. 9\n",
       "9. 7\n",
       "10. 16\n",
       "11. 15\n",
       "12. 12\n",
       "13. 13\n",
       "14. 11\n",
       "15. 6\n",
       "16. 8\n",
       "17. 22\n",
       "18. 14\n",
       "19. 20\n",
       "20. 19\n",
       "21. 21\n",
       "22. 17\n",
       "\n",
       "\n"
      ],
      "text/plain": [
       " [1]  5  2 10  3 18  4  1  9  7 16 15 12 13 11  6  8 22 14 20 19 21 17"
      ]
     },
     "metadata": {},
     "output_type": "display_data"
    }
   ],
   "source": [
    "unique(ms_hg38$CHR)"
   ]
  },
  {
   "cell_type": "code",
   "execution_count": 185,
   "id": "8f5eb82c-c4bf-44ef-aea4-fe4cbafd6a61",
   "metadata": {
    "kernel": "SoS",
    "vscode": {
     "languageId": "r"
    }
   },
   "outputs": [],
   "source": [
    "ms_remain = ms |> select(-CHR, -BP)\n",
    "ms_hg38_final = ms_remain |> inner_join(ms_hg38, by = 'MarkerName')"
   ]
  },
  {
   "cell_type": "code",
   "execution_count": 189,
   "id": "3d52cb5a-00f0-4271-9766-e8175f9a4cc7",
   "metadata": {
    "kernel": "SoS",
    "vscode": {
     "languageId": "r"
    }
   },
   "outputs": [
    {
     "data": {
      "text/html": [
       "<table class=\"dataframe\">\n",
       "<caption>A data.table: 6 x 12</caption>\n",
       "<thead>\n",
       "\t<tr><th scope=col>MarkerName</th><th scope=col>A1</th><th scope=col>A2</th><th scope=col>Neff</th><th scope=col>Zscore</th><th scope=col>P</th><th scope=col>Direction</th><th scope=col>EAF</th><th scope=col>beta</th><th scope=col>se</th><th scope=col>CHR</th><th scope=col>BP</th></tr>\n",
       "\t<tr><th scope=col>&lt;chr&gt;</th><th scope=col>&lt;chr&gt;</th><th scope=col>&lt;chr&gt;</th><th scope=col>&lt;dbl&gt;</th><th scope=col>&lt;dbl&gt;</th><th scope=col>&lt;dbl&gt;</th><th scope=col>&lt;chr&gt;</th><th scope=col>&lt;dbl&gt;</th><th scope=col>&lt;dbl&gt;</th><th scope=col>&lt;dbl&gt;</th><th scope=col>&lt;int&gt;</th><th scope=col>&lt;int&gt;</th></tr>\n",
       "</thead>\n",
       "<tbody>\n",
       "\t<tr><td>rs667647   </td><td>T</td><td>C</td><td>58174.06</td><td> 1.991</td><td>0.04652</td><td>++</td><td>0.3489</td><td> 0.012246231</td><td>0.006150794</td><td> 5</td><td> 29439168</td></tr>\n",
       "\t<tr><td>rs113534962</td><td>T</td><td>C</td><td>58174.06</td><td> 2.545</td><td>0.01093</td><td>++</td><td>0.0626</td><td> 0.030798835</td><td>0.012101703</td><td> 5</td><td> 86633075</td></tr>\n",
       "\t<tr><td>rs559397866</td><td>T</td><td>C</td><td>20081.51</td><td>-0.205</td><td>0.83730</td><td>?-</td><td>0.9851</td><td>-0.008443197</td><td>0.041186328</td><td> 2</td><td>170110443</td></tr>\n",
       "\t<tr><td>rs2366866  </td><td>T</td><td>C</td><td>58174.06</td><td>-1.134</td><td>0.25660</td><td>+-</td><td>0.4592</td><td>-0.006671282</td><td>0.005882965</td><td>10</td><td>126652663</td></tr>\n",
       "\t<tr><td>rs472303   </td><td>T</td><td>C</td><td>58174.06</td><td>-0.665</td><td>0.50590</td><td>--</td><td>0.0636</td><td>-0.007988791</td><td>0.012013219</td><td> 3</td><td> 62721844</td></tr>\n",
       "\t<tr><td>rs13417735 </td><td>T</td><td>G</td><td>58174.06</td><td> 0.888</td><td>0.37460</td><td>+-</td><td>0.9901</td><td> 0.026295002</td><td>0.029611489</td><td> 2</td><td> 80236995</td></tr>\n",
       "</tbody>\n",
       "</table>\n"
      ],
      "text/latex": [
       "A data.table: 6 x 12\n",
       "\\begin{tabular}{llllllllllll}\n",
       " MarkerName & A1 & A2 & Neff & Zscore & P & Direction & EAF & beta & se & CHR & BP\\\\\n",
       " <chr> & <chr> & <chr> & <dbl> & <dbl> & <dbl> & <chr> & <dbl> & <dbl> & <dbl> & <int> & <int>\\\\\n",
       "\\hline\n",
       "\t rs667647    & T & C & 58174.06 &  1.991 & 0.04652 & ++ & 0.3489 &  0.012246231 & 0.006150794 &  5 &  29439168\\\\\n",
       "\t rs113534962 & T & C & 58174.06 &  2.545 & 0.01093 & ++ & 0.0626 &  0.030798835 & 0.012101703 &  5 &  86633075\\\\\n",
       "\t rs559397866 & T & C & 20081.51 & -0.205 & 0.83730 & ?- & 0.9851 & -0.008443197 & 0.041186328 &  2 & 170110443\\\\\n",
       "\t rs2366866   & T & C & 58174.06 & -1.134 & 0.25660 & +- & 0.4592 & -0.006671282 & 0.005882965 & 10 & 126652663\\\\\n",
       "\t rs472303    & T & C & 58174.06 & -0.665 & 0.50590 & -- & 0.0636 & -0.007988791 & 0.012013219 &  3 &  62721844\\\\\n",
       "\t rs13417735  & T & G & 58174.06 &  0.888 & 0.37460 & +- & 0.9901 &  0.026295002 & 0.029611489 &  2 &  80236995\\\\\n",
       "\\end{tabular}\n"
      ],
      "text/markdown": [
       "\n",
       "A data.table: 6 x 12\n",
       "\n",
       "| MarkerName &lt;chr&gt; | A1 &lt;chr&gt; | A2 &lt;chr&gt; | Neff &lt;dbl&gt; | Zscore &lt;dbl&gt; | P &lt;dbl&gt; | Direction &lt;chr&gt; | EAF &lt;dbl&gt; | beta &lt;dbl&gt; | se &lt;dbl&gt; | CHR &lt;int&gt; | BP &lt;int&gt; |\n",
       "|---|---|---|---|---|---|---|---|---|---|---|---|\n",
       "| rs667647    | T | C | 58174.06 |  1.991 | 0.04652 | ++ | 0.3489 |  0.012246231 | 0.006150794 |  5 |  29439168 |\n",
       "| rs113534962 | T | C | 58174.06 |  2.545 | 0.01093 | ++ | 0.0626 |  0.030798835 | 0.012101703 |  5 |  86633075 |\n",
       "| rs559397866 | T | C | 20081.51 | -0.205 | 0.83730 | ?- | 0.9851 | -0.008443197 | 0.041186328 |  2 | 170110443 |\n",
       "| rs2366866   | T | C | 58174.06 | -1.134 | 0.25660 | +- | 0.4592 | -0.006671282 | 0.005882965 | 10 | 126652663 |\n",
       "| rs472303    | T | C | 58174.06 | -0.665 | 0.50590 | -- | 0.0636 | -0.007988791 | 0.012013219 |  3 |  62721844 |\n",
       "| rs13417735  | T | G | 58174.06 |  0.888 | 0.37460 | +- | 0.9901 |  0.026295002 | 0.029611489 |  2 |  80236995 |\n",
       "\n"
      ],
      "text/plain": [
       "  MarkerName  A1 A2 Neff     Zscore P       Direction EAF    beta        \n",
       "1 rs667647    T  C  58174.06  1.991 0.04652 ++        0.3489  0.012246231\n",
       "2 rs113534962 T  C  58174.06  2.545 0.01093 ++        0.0626  0.030798835\n",
       "3 rs559397866 T  C  20081.51 -0.205 0.83730 ?-        0.9851 -0.008443197\n",
       "4 rs2366866   T  C  58174.06 -1.134 0.25660 +-        0.4592 -0.006671282\n",
       "5 rs472303    T  C  58174.06 -0.665 0.50590 --        0.0636 -0.007988791\n",
       "6 rs13417735  T  G  58174.06  0.888 0.37460 +-        0.9901  0.026295002\n",
       "  se          CHR BP       \n",
       "1 0.006150794  5   29439168\n",
       "2 0.012101703  5   86633075\n",
       "3 0.041186328  2  170110443\n",
       "4 0.005882965 10  126652663\n",
       "5 0.012013219  3   62721844\n",
       "6 0.029611489  2   80236995"
      ]
     },
     "metadata": {},
     "output_type": "display_data"
    },
    {
     "data": {
      "text/html": [
       "<style>\n",
       ".list-inline {list-style: none; margin:0; padding: 0}\n",
       ".list-inline>li {display: inline-block}\n",
       ".list-inline>li:not(:last-child)::after {content: \"\\00b7\"; padding: 0 .5ex}\n",
       "</style>\n",
       "<ol class=list-inline><li>8954288</li><li>12</li></ol>\n"
      ],
      "text/latex": [
       "\\begin{enumerate*}\n",
       "\\item 8954288\n",
       "\\item 12\n",
       "\\end{enumerate*}\n"
      ],
      "text/markdown": [
       "1. 8954288\n",
       "2. 12\n",
       "\n",
       "\n"
      ],
      "text/plain": [
       "[1] 8954288      12"
      ]
     },
     "metadata": {},
     "output_type": "display_data"
    }
   ],
   "source": [
    "head(ms_hg38_final)\n",
    "dim(ms_hg38_final)"
   ]
  },
  {
   "cell_type": "code",
   "execution_count": 191,
   "id": "3e871c03-43df-432e-8feb-088c74466f48",
   "metadata": {
    "kernel": "SoS",
    "vscode": {
     "languageId": "r"
    }
   },
   "outputs": [],
   "source": [
    "fwrite(ms_hg38_final, \"/home/ubuntu/project/image_QTL/hg38/ms_eur_v4.0.sumstats_hg38.gz\", sep = '\\t')"
   ]
  },
  {
   "cell_type": "markdown",
   "id": "a4382849-6194-42a5-8ffc-d903dd97ba7b",
   "metadata": {
    "kernel": "SoS"
   },
   "source": [
    "## AD1"
   ]
  },
  {
   "cell_type": "markdown",
   "id": "98c8fd2d-4596-4cf0-9af6-f87340dda533",
   "metadata": {
    "kernel": "SoS"
   },
   "source": [
    "### format the input hg19 .bed for AD"
   ]
  },
  {
   "cell_type": "code",
   "execution_count": 199,
   "id": "fabcc4c8-5628-4e0b-a924-03a5b426e6a7",
   "metadata": {
    "kernel": "SoS",
    "vscode": {
     "languageId": "r"
    }
   },
   "outputs": [],
   "source": [
    "AD1 = fread(\"~/data/GWAS/image_GWAS/dne_pheno_normalized_residualized.AD_SurrealGAN_1.glm.linear\")"
   ]
  },
  {
   "cell_type": "code",
   "execution_count": 215,
   "id": "81660ac3-c3d6-44bd-adf4-35d5d0d1849e",
   "metadata": {
    "kernel": "SoS",
    "vscode": {
     "languageId": "r"
    }
   },
   "outputs": [
    {
     "data": {
      "text/html": [
       "<table class=\"dataframe\">\n",
       "<caption>A data.table: 6 x 13</caption>\n",
       "<thead>\n",
       "\t<tr><th scope=col>#CHROM</th><th scope=col>POS</th><th scope=col>ID</th><th scope=col>REF</th><th scope=col>ALT</th><th scope=col>A1</th><th scope=col>TEST</th><th scope=col>OBS_CT</th><th scope=col>BETA</th><th scope=col>SE</th><th scope=col>T_STAT</th><th scope=col>P</th><th scope=col>ERRCODE</th></tr>\n",
       "\t<tr><th scope=col>&lt;int&gt;</th><th scope=col>&lt;int&gt;</th><th scope=col>&lt;chr&gt;</th><th scope=col>&lt;chr&gt;</th><th scope=col>&lt;chr&gt;</th><th scope=col>&lt;chr&gt;</th><th scope=col>&lt;chr&gt;</th><th scope=col>&lt;int&gt;</th><th scope=col>&lt;dbl&gt;</th><th scope=col>&lt;dbl&gt;</th><th scope=col>&lt;dbl&gt;</th><th scope=col>&lt;dbl&gt;</th><th scope=col>&lt;chr&gt;</th></tr>\n",
       "</thead>\n",
       "<tbody>\n",
       "\t<tr><td>1</td><td>717587</td><td>rs144155419      </td><td>G     </td><td>A</td><td>A</td><td>ADD</td><td>31247</td><td>-0.000334046</td><td>0.0392128</td><td>-0.0085188</td><td>0.993203</td><td>.</td></tr>\n",
       "\t<tr><td>1</td><td>719854</td><td>1:719854_CAG_C   </td><td>CAG   </td><td>C</td><td>C</td><td>ADD</td><td>31168</td><td>-0.097526600</td><td>0.0726473</td><td>-1.3424700</td><td>0.179454</td><td>.</td></tr>\n",
       "\t<tr><td>1</td><td>723891</td><td>rs2977670        </td><td>C     </td><td>G</td><td>G</td><td>ADD</td><td>31509</td><td> 0.031395200</td><td>0.0222987</td><td> 1.4079400</td><td>0.159160</td><td>.</td></tr>\n",
       "\t<tr><td>1</td><td>724295</td><td>1:724295_TGGAAC_T</td><td>TGGAAC</td><td>T</td><td>T</td><td>ADD</td><td>30942</td><td> 0.034595300</td><td>0.0537308</td><td> 0.6438630</td><td>0.519669</td><td>.</td></tr>\n",
       "\t<tr><td>1</td><td>736689</td><td>rs181876450      </td><td>T     </td><td>C</td><td>C</td><td>ADD</td><td>31104</td><td>-0.048063700</td><td>0.0579955</td><td>-0.8287490</td><td>0.407253</td><td>.</td></tr>\n",
       "\t<tr><td>1</td><td>752721</td><td>rs3131972        </td><td>G     </td><td>A</td><td>A</td><td>ADD</td><td>31929</td><td> 0.003228840</td><td>0.0110722</td><td> 0.2916160</td><td>0.770582</td><td>.</td></tr>\n",
       "</tbody>\n",
       "</table>\n"
      ],
      "text/latex": [
       "A data.table: 6 x 13\n",
       "\\begin{tabular}{lllllllllllll}\n",
       " \\#CHROM & POS & ID & REF & ALT & A1 & TEST & OBS\\_CT & BETA & SE & T\\_STAT & P & ERRCODE\\\\\n",
       " <int> & <int> & <chr> & <chr> & <chr> & <chr> & <chr> & <int> & <dbl> & <dbl> & <dbl> & <dbl> & <chr>\\\\\n",
       "\\hline\n",
       "\t 1 & 717587 & rs144155419       & G      & A & A & ADD & 31247 & -0.000334046 & 0.0392128 & -0.0085188 & 0.993203 & .\\\\\n",
       "\t 1 & 719854 & 1:719854\\_CAG\\_C    & CAG    & C & C & ADD & 31168 & -0.097526600 & 0.0726473 & -1.3424700 & 0.179454 & .\\\\\n",
       "\t 1 & 723891 & rs2977670         & C      & G & G & ADD & 31509 &  0.031395200 & 0.0222987 &  1.4079400 & 0.159160 & .\\\\\n",
       "\t 1 & 724295 & 1:724295\\_TGGAAC\\_T & TGGAAC & T & T & ADD & 30942 &  0.034595300 & 0.0537308 &  0.6438630 & 0.519669 & .\\\\\n",
       "\t 1 & 736689 & rs181876450       & T      & C & C & ADD & 31104 & -0.048063700 & 0.0579955 & -0.8287490 & 0.407253 & .\\\\\n",
       "\t 1 & 752721 & rs3131972         & G      & A & A & ADD & 31929 &  0.003228840 & 0.0110722 &  0.2916160 & 0.770582 & .\\\\\n",
       "\\end{tabular}\n"
      ],
      "text/markdown": [
       "\n",
       "A data.table: 6 x 13\n",
       "\n",
       "| #CHROM &lt;int&gt; | POS &lt;int&gt; | ID &lt;chr&gt; | REF &lt;chr&gt; | ALT &lt;chr&gt; | A1 &lt;chr&gt; | TEST &lt;chr&gt; | OBS_CT &lt;int&gt; | BETA &lt;dbl&gt; | SE &lt;dbl&gt; | T_STAT &lt;dbl&gt; | P &lt;dbl&gt; | ERRCODE &lt;chr&gt; |\n",
       "|---|---|---|---|---|---|---|---|---|---|---|---|---|\n",
       "| 1 | 717587 | rs144155419       | G      | A | A | ADD | 31247 | -0.000334046 | 0.0392128 | -0.0085188 | 0.993203 | . |\n",
       "| 1 | 719854 | 1:719854_CAG_C    | CAG    | C | C | ADD | 31168 | -0.097526600 | 0.0726473 | -1.3424700 | 0.179454 | . |\n",
       "| 1 | 723891 | rs2977670         | C      | G | G | ADD | 31509 |  0.031395200 | 0.0222987 |  1.4079400 | 0.159160 | . |\n",
       "| 1 | 724295 | 1:724295_TGGAAC_T | TGGAAC | T | T | ADD | 30942 |  0.034595300 | 0.0537308 |  0.6438630 | 0.519669 | . |\n",
       "| 1 | 736689 | rs181876450       | T      | C | C | ADD | 31104 | -0.048063700 | 0.0579955 | -0.8287490 | 0.407253 | . |\n",
       "| 1 | 752721 | rs3131972         | G      | A | A | ADD | 31929 |  0.003228840 | 0.0110722 |  0.2916160 | 0.770582 | . |\n",
       "\n"
      ],
      "text/plain": [
       "  #CHROM POS    ID                REF    ALT A1 TEST OBS_CT BETA        \n",
       "1 1      717587 rs144155419       G      A   A  ADD  31247  -0.000334046\n",
       "2 1      719854 1:719854_CAG_C    CAG    C   C  ADD  31168  -0.097526600\n",
       "3 1      723891 rs2977670         C      G   G  ADD  31509   0.031395200\n",
       "4 1      724295 1:724295_TGGAAC_T TGGAAC T   T  ADD  30942   0.034595300\n",
       "5 1      736689 rs181876450       T      C   C  ADD  31104  -0.048063700\n",
       "6 1      752721 rs3131972         G      A   A  ADD  31929   0.003228840\n",
       "  SE        T_STAT     P        ERRCODE\n",
       "1 0.0392128 -0.0085188 0.993203 .      \n",
       "2 0.0726473 -1.3424700 0.179454 .      \n",
       "3 0.0222987  1.4079400 0.159160 .      \n",
       "4 0.0537308  0.6438630 0.519669 .      \n",
       "5 0.0579955 -0.8287490 0.407253 .      \n",
       "6 0.0110722  0.2916160 0.770582 .      "
      ]
     },
     "metadata": {},
     "output_type": "display_data"
    }
   ],
   "source": [
    "head(AD1)"
   ]
  },
  {
   "cell_type": "code",
   "execution_count": 201,
   "id": "adcb04e8-ffb4-4242-8097-d369f0805ec6",
   "metadata": {
    "kernel": "SoS",
    "vscode": {
     "languageId": "r"
    }
   },
   "outputs": [],
   "source": [
    "AD1_needed = AD1 |> mutate(chrom = paste0(\"chr\",`#CHROM`), start = POS, end = POS, region_id = ID) |> select(chrom, start, end, region_id)\n"
   ]
  },
  {
   "cell_type": "code",
   "execution_count": 203,
   "id": "ffead54e-5484-41e8-b947-648b114722a7",
   "metadata": {
    "kernel": "SoS",
    "vscode": {
     "languageId": "r"
    }
   },
   "outputs": [
    {
     "data": {
      "text/html": [
       "<table class=\"dataframe\">\n",
       "<caption>A data.table: 6 x 4</caption>\n",
       "<thead>\n",
       "\t<tr><th scope=col>chrom</th><th scope=col>start</th><th scope=col>end</th><th scope=col>region_id</th></tr>\n",
       "\t<tr><th scope=col>&lt;chr&gt;</th><th scope=col>&lt;int&gt;</th><th scope=col>&lt;int&gt;</th><th scope=col>&lt;chr&gt;</th></tr>\n",
       "</thead>\n",
       "<tbody>\n",
       "\t<tr><td>chr1</td><td>717587</td><td>717587</td><td>rs144155419      </td></tr>\n",
       "\t<tr><td>chr1</td><td>719854</td><td>719854</td><td>1:719854_CAG_C   </td></tr>\n",
       "\t<tr><td>chr1</td><td>723891</td><td>723891</td><td>rs2977670        </td></tr>\n",
       "\t<tr><td>chr1</td><td>724295</td><td>724295</td><td>1:724295_TGGAAC_T</td></tr>\n",
       "\t<tr><td>chr1</td><td>736689</td><td>736689</td><td>rs181876450      </td></tr>\n",
       "\t<tr><td>chr1</td><td>752721</td><td>752721</td><td>rs3131972        </td></tr>\n",
       "</tbody>\n",
       "</table>\n"
      ],
      "text/latex": [
       "A data.table: 6 x 4\n",
       "\\begin{tabular}{llll}\n",
       " chrom & start & end & region\\_id\\\\\n",
       " <chr> & <int> & <int> & <chr>\\\\\n",
       "\\hline\n",
       "\t chr1 & 717587 & 717587 & rs144155419      \\\\\n",
       "\t chr1 & 719854 & 719854 & 1:719854\\_CAG\\_C   \\\\\n",
       "\t chr1 & 723891 & 723891 & rs2977670        \\\\\n",
       "\t chr1 & 724295 & 724295 & 1:724295\\_TGGAAC\\_T\\\\\n",
       "\t chr1 & 736689 & 736689 & rs181876450      \\\\\n",
       "\t chr1 & 752721 & 752721 & rs3131972        \\\\\n",
       "\\end{tabular}\n"
      ],
      "text/markdown": [
       "\n",
       "A data.table: 6 x 4\n",
       "\n",
       "| chrom &lt;chr&gt; | start &lt;int&gt; | end &lt;int&gt; | region_id &lt;chr&gt; |\n",
       "|---|---|---|---|\n",
       "| chr1 | 717587 | 717587 | rs144155419       |\n",
       "| chr1 | 719854 | 719854 | 1:719854_CAG_C    |\n",
       "| chr1 | 723891 | 723891 | rs2977670         |\n",
       "| chr1 | 724295 | 724295 | 1:724295_TGGAAC_T |\n",
       "| chr1 | 736689 | 736689 | rs181876450       |\n",
       "| chr1 | 752721 | 752721 | rs3131972         |\n",
       "\n"
      ],
      "text/plain": [
       "  chrom start  end    region_id        \n",
       "1 chr1  717587 717587 rs144155419      \n",
       "2 chr1  719854 719854 1:719854_CAG_C   \n",
       "3 chr1  723891 723891 rs2977670        \n",
       "4 chr1  724295 724295 1:724295_TGGAAC_T\n",
       "5 chr1  736689 736689 rs181876450      \n",
       "6 chr1  752721 752721 rs3131972        "
      ]
     },
     "metadata": {},
     "output_type": "display_data"
    },
    {
     "data": {
      "text/html": [
       "<style>\n",
       ".list-inline {list-style: none; margin:0; padding: 0}\n",
       ".list-inline>li {display: inline-block}\n",
       ".list-inline>li:not(:last-child)::after {content: \"\\00b7\"; padding: 0 .5ex}\n",
       "</style>\n",
       "<ol class=list-inline><li>6477810</li><li>4</li></ol>\n"
      ],
      "text/latex": [
       "\\begin{enumerate*}\n",
       "\\item 6477810\n",
       "\\item 4\n",
       "\\end{enumerate*}\n"
      ],
      "text/markdown": [
       "1. 6477810\n",
       "2. 4\n",
       "\n",
       "\n"
      ],
      "text/plain": [
       "[1] 6477810       4"
      ]
     },
     "metadata": {},
     "output_type": "display_data"
    }
   ],
   "source": [
    "head(AD1_needed)\n",
    "dim(AD1_needed)"
   ]
  },
  {
   "cell_type": "code",
   "execution_count": 158,
   "id": "d434da94-6902-4c85-982f-c1e93fd40e29",
   "metadata": {
    "kernel": "SoS",
    "vscode": {
     "languageId": "r"
    }
   },
   "outputs": [],
   "source": [
    "fwrite(AD1_needed,\"AD1_hg19.bed\", sep = '\\t',col.names=FALSE)"
   ]
  },
  {
   "cell_type": "markdown",
   "id": "b1916b5c-05ac-4603-9aac-b4aa504a299d",
   "metadata": {
    "kernel": "SoS"
   },
   "source": [
    "# Read in the hg38 .bed(three columns-chrom, pos, id) and merge it back to the original summary statistics \n",
    "All AD image GWAS summary statistics have the same variant pos"
   ]
  },
  {
   "cell_type": "code",
   "execution_count": 204,
   "id": "37ba43f5-0d3b-4bfd-a66c-fe8f66a5378a",
   "metadata": {
    "kernel": "SoS",
    "vscode": {
     "languageId": "r"
    }
   },
   "outputs": [],
   "source": [
    "AD_hg38 = fread(\"/home/ubuntu/project/conversion/AD1_hg19.to_hg38.bed\")"
   ]
  },
  {
   "cell_type": "code",
   "execution_count": 216,
   "id": "bc9045d8-7856-4010-9e95-e3279639989e",
   "metadata": {
    "kernel": "SoS",
    "vscode": {
     "languageId": "r"
    }
   },
   "outputs": [
    {
     "data": {
      "text/html": [
       "<table class=\"dataframe\">\n",
       "<caption>A data.table: 6 x 3</caption>\n",
       "<thead>\n",
       "\t<tr><th scope=col>#CHROM</th><th scope=col>POS</th><th scope=col>ID</th></tr>\n",
       "\t<tr><th scope=col>&lt;int&gt;</th><th scope=col>&lt;int&gt;</th><th scope=col>&lt;chr&gt;</th></tr>\n",
       "</thead>\n",
       "<tbody>\n",
       "\t<tr><td>1</td><td>782207</td><td>rs144155419      </td></tr>\n",
       "\t<tr><td>1</td><td>784474</td><td>1:719854_CAG_C   </td></tr>\n",
       "\t<tr><td>1</td><td>788511</td><td>rs2977670        </td></tr>\n",
       "\t<tr><td>1</td><td>788915</td><td>1:724295_TGGAAC_T</td></tr>\n",
       "\t<tr><td>1</td><td>801309</td><td>rs181876450      </td></tr>\n",
       "\t<tr><td>1</td><td>817341</td><td>rs3131972        </td></tr>\n",
       "</tbody>\n",
       "</table>\n"
      ],
      "text/latex": [
       "A data.table: 6 x 3\n",
       "\\begin{tabular}{lll}\n",
       " \\#CHROM & POS & ID\\\\\n",
       " <int> & <int> & <chr>\\\\\n",
       "\\hline\n",
       "\t 1 & 782207 & rs144155419      \\\\\n",
       "\t 1 & 784474 & 1:719854\\_CAG\\_C   \\\\\n",
       "\t 1 & 788511 & rs2977670        \\\\\n",
       "\t 1 & 788915 & 1:724295\\_TGGAAC\\_T\\\\\n",
       "\t 1 & 801309 & rs181876450      \\\\\n",
       "\t 1 & 817341 & rs3131972        \\\\\n",
       "\\end{tabular}\n"
      ],
      "text/markdown": [
       "\n",
       "A data.table: 6 x 3\n",
       "\n",
       "| #CHROM &lt;int&gt; | POS &lt;int&gt; | ID &lt;chr&gt; |\n",
       "|---|---|---|\n",
       "| 1 | 782207 | rs144155419       |\n",
       "| 1 | 784474 | 1:719854_CAG_C    |\n",
       "| 1 | 788511 | rs2977670         |\n",
       "| 1 | 788915 | 1:724295_TGGAAC_T |\n",
       "| 1 | 801309 | rs181876450       |\n",
       "| 1 | 817341 | rs3131972         |\n",
       "\n"
      ],
      "text/plain": [
       "  #CHROM POS    ID               \n",
       "1 1      782207 rs144155419      \n",
       "2 1      784474 1:719854_CAG_C   \n",
       "3 1      788511 rs2977670        \n",
       "4 1      788915 1:724295_TGGAAC_T\n",
       "5 1      801309 rs181876450      \n",
       "6 1      817341 rs3131972        "
      ]
     },
     "metadata": {},
     "output_type": "display_data"
    }
   ],
   "source": [
    "head(AD_hg38)"
   ]
  },
  {
   "cell_type": "code",
   "execution_count": 206,
   "id": "e40782af-8d3c-4ec7-ae4a-010c809ffefc",
   "metadata": {
    "kernel": "SoS",
    "vscode": {
     "languageId": "r"
    }
   },
   "outputs": [],
   "source": [
    "AD_hg38 = AD_hg38[,-3]"
   ]
  },
  {
   "cell_type": "code",
   "execution_count": null,
   "id": "2afd1c45-a71d-4403-bbff-fb27ed1f6ce3",
   "metadata": {
    "kernel": "SoS",
    "vscode": {
     "languageId": "r"
    }
   },
   "outputs": [],
   "source": [
    "colnames(AD_hg38) <- c(\"#CHROM\",\"POS\",\"ID\")"
   ]
  },
  {
   "cell_type": "code",
   "execution_count": null,
   "id": "03ea67cb-ff46-41d4-b100-f021be145cf0",
   "metadata": {
    "kernel": "SoS",
    "vscode": {
     "languageId": "r"
    }
   },
   "outputs": [],
   "source": [
    "AD_hg38 = AD_hg38 |> mutate(`#CHROM` = gsub(\"chr\", \"\", `#CHROM`))"
   ]
  },
  {
   "cell_type": "code",
   "execution_count": 217,
   "id": "ed90f310-6c6b-4daa-8a88-79e01d05bfc0",
   "metadata": {
    "kernel": "SoS",
    "vscode": {
     "languageId": "r"
    }
   },
   "outputs": [],
   "source": [
    "AD_hg38 = AD_hg38 |> mutate(`#CHROM`=as.integer(`#CHROM`))"
   ]
  },
  {
   "cell_type": "code",
   "execution_count": 220,
   "id": "64db8240-edfc-458a-83fd-ef0703654b5e",
   "metadata": {
    "kernel": "SoS",
    "vscode": {
     "languageId": "r"
    }
   },
   "outputs": [],
   "source": [
    "AD_hg38 = AD_hg38 |> filter(!is.na(`#CHROM`))"
   ]
  },
  {
   "cell_type": "code",
   "execution_count": 221,
   "id": "3c3da41c-1010-4013-90c8-1762f4882ce9",
   "metadata": {
    "kernel": "SoS",
    "vscode": {
     "languageId": "r"
    }
   },
   "outputs": [
    {
     "data": {
      "text/html": [
       "<table class=\"dataframe\">\n",
       "<caption>A data.table: 6 x 3</caption>\n",
       "<thead>\n",
       "\t<tr><th scope=col>#CHROM</th><th scope=col>POS</th><th scope=col>ID</th></tr>\n",
       "\t<tr><th scope=col>&lt;int&gt;</th><th scope=col>&lt;int&gt;</th><th scope=col>&lt;chr&gt;</th></tr>\n",
       "</thead>\n",
       "<tbody>\n",
       "\t<tr><td>1</td><td>782207</td><td>rs144155419      </td></tr>\n",
       "\t<tr><td>1</td><td>784474</td><td>1:719854_CAG_C   </td></tr>\n",
       "\t<tr><td>1</td><td>788511</td><td>rs2977670        </td></tr>\n",
       "\t<tr><td>1</td><td>788915</td><td>1:724295_TGGAAC_T</td></tr>\n",
       "\t<tr><td>1</td><td>801309</td><td>rs181876450      </td></tr>\n",
       "\t<tr><td>1</td><td>817341</td><td>rs3131972        </td></tr>\n",
       "</tbody>\n",
       "</table>\n"
      ],
      "text/latex": [
       "A data.table: 6 x 3\n",
       "\\begin{tabular}{lll}\n",
       " \\#CHROM & POS & ID\\\\\n",
       " <int> & <int> & <chr>\\\\\n",
       "\\hline\n",
       "\t 1 & 782207 & rs144155419      \\\\\n",
       "\t 1 & 784474 & 1:719854\\_CAG\\_C   \\\\\n",
       "\t 1 & 788511 & rs2977670        \\\\\n",
       "\t 1 & 788915 & 1:724295\\_TGGAAC\\_T\\\\\n",
       "\t 1 & 801309 & rs181876450      \\\\\n",
       "\t 1 & 817341 & rs3131972        \\\\\n",
       "\\end{tabular}\n"
      ],
      "text/markdown": [
       "\n",
       "A data.table: 6 x 3\n",
       "\n",
       "| #CHROM &lt;int&gt; | POS &lt;int&gt; | ID &lt;chr&gt; |\n",
       "|---|---|---|\n",
       "| 1 | 782207 | rs144155419       |\n",
       "| 1 | 784474 | 1:719854_CAG_C    |\n",
       "| 1 | 788511 | rs2977670         |\n",
       "| 1 | 788915 | 1:724295_TGGAAC_T |\n",
       "| 1 | 801309 | rs181876450       |\n",
       "| 1 | 817341 | rs3131972         |\n",
       "\n"
      ],
      "text/plain": [
       "  #CHROM POS    ID               \n",
       "1 1      782207 rs144155419      \n",
       "2 1      784474 1:719854_CAG_C   \n",
       "3 1      788511 rs2977670        \n",
       "4 1      788915 1:724295_TGGAAC_T\n",
       "5 1      801309 rs181876450      \n",
       "6 1      817341 rs3131972        "
      ]
     },
     "metadata": {},
     "output_type": "display_data"
    },
    {
     "data": {
      "text/html": [
       "<style>\n",
       ".list-inline {list-style: none; margin:0; padding: 0}\n",
       ".list-inline>li {display: inline-block}\n",
       ".list-inline>li:not(:last-child)::after {content: \"\\00b7\"; padding: 0 .5ex}\n",
       "</style>\n",
       "<ol class=list-inline><li>6475770</li><li>3</li></ol>\n"
      ],
      "text/latex": [
       "\\begin{enumerate*}\n",
       "\\item 6475770\n",
       "\\item 3\n",
       "\\end{enumerate*}\n"
      ],
      "text/markdown": [
       "1. 6475770\n",
       "2. 3\n",
       "\n",
       "\n"
      ],
      "text/plain": [
       "[1] 6475770       3"
      ]
     },
     "metadata": {},
     "output_type": "display_data"
    }
   ],
   "source": [
    "head(AD_hg38)\n",
    "dim(AD_hg38)"
   ]
  },
  {
   "cell_type": "code",
   "execution_count": 222,
   "id": "b8bbae6f-5cef-4743-b3e3-02a9d8fccf78",
   "metadata": {
    "kernel": "SoS",
    "scrolled": true,
    "vscode": {
     "languageId": "r"
    }
   },
   "outputs": [
    {
     "data": {
      "text/html": [
       "<style>\n",
       ".list-inline {list-style: none; margin:0; padding: 0}\n",
       ".list-inline>li {display: inline-block}\n",
       ".list-inline>li:not(:last-child)::after {content: \"\\00b7\"; padding: 0 .5ex}\n",
       "</style>\n",
       "<ol class=list-inline><li>1</li><li>21</li><li>12</li><li>2</li><li>3</li><li>4</li><li>5</li><li>6</li><li>9</li><li>7</li><li>20</li><li>8</li><li>10</li><li>11</li><li>13</li><li>14</li><li>15</li><li>16</li><li>17</li><li>18</li><li>19</li><li>22</li></ol>\n"
      ],
      "text/latex": [
       "\\begin{enumerate*}\n",
       "\\item 1\n",
       "\\item 21\n",
       "\\item 12\n",
       "\\item 2\n",
       "\\item 3\n",
       "\\item 4\n",
       "\\item 5\n",
       "\\item 6\n",
       "\\item 9\n",
       "\\item 7\n",
       "\\item 20\n",
       "\\item 8\n",
       "\\item 10\n",
       "\\item 11\n",
       "\\item 13\n",
       "\\item 14\n",
       "\\item 15\n",
       "\\item 16\n",
       "\\item 17\n",
       "\\item 18\n",
       "\\item 19\n",
       "\\item 22\n",
       "\\end{enumerate*}\n"
      ],
      "text/markdown": [
       "1. 1\n",
       "2. 21\n",
       "3. 12\n",
       "4. 2\n",
       "5. 3\n",
       "6. 4\n",
       "7. 5\n",
       "8. 6\n",
       "9. 9\n",
       "10. 7\n",
       "11. 20\n",
       "12. 8\n",
       "13. 10\n",
       "14. 11\n",
       "15. 13\n",
       "16. 14\n",
       "17. 15\n",
       "18. 16\n",
       "19. 17\n",
       "20. 18\n",
       "21. 19\n",
       "22. 22\n",
       "\n",
       "\n"
      ],
      "text/plain": [
       " [1]  1 21 12  2  3  4  5  6  9  7 20  8 10 11 13 14 15 16 17 18 19 22"
      ]
     },
     "metadata": {},
     "output_type": "display_data"
    }
   ],
   "source": [
    "unique(AD_hg38$`#CHROM`)"
   ]
  },
  {
   "cell_type": "code",
   "execution_count": 223,
   "id": "520cdf27-fd4f-419b-b48d-2cd9a38dc73c",
   "metadata": {
    "kernel": "SoS",
    "vscode": {
     "languageId": "r"
    }
   },
   "outputs": [],
   "source": [
    "AD_remain = AD |> select(-`#CHROM`, -POS)\n",
    "AD1_hg38_final = AD_remain |> inner_join(AD_hg38, by = 'ID')"
   ]
  },
  {
   "cell_type": "code",
   "execution_count": 224,
   "id": "fb9e1c0e-a16a-4d89-aa27-b53c9e6e907f",
   "metadata": {
    "kernel": "SoS",
    "vscode": {
     "languageId": "r"
    }
   },
   "outputs": [
    {
     "data": {
      "text/html": [
       "<table class=\"dataframe\">\n",
       "<caption>A data.table: 6 x 13</caption>\n",
       "<thead>\n",
       "\t<tr><th scope=col>ID</th><th scope=col>REF</th><th scope=col>ALT</th><th scope=col>A1</th><th scope=col>TEST</th><th scope=col>OBS_CT</th><th scope=col>BETA</th><th scope=col>SE</th><th scope=col>T_STAT</th><th scope=col>P</th><th scope=col>ERRCODE</th><th scope=col>#CHROM</th><th scope=col>POS</th></tr>\n",
       "\t<tr><th scope=col>&lt;chr&gt;</th><th scope=col>&lt;chr&gt;</th><th scope=col>&lt;chr&gt;</th><th scope=col>&lt;chr&gt;</th><th scope=col>&lt;chr&gt;</th><th scope=col>&lt;int&gt;</th><th scope=col>&lt;dbl&gt;</th><th scope=col>&lt;dbl&gt;</th><th scope=col>&lt;dbl&gt;</th><th scope=col>&lt;dbl&gt;</th><th scope=col>&lt;chr&gt;</th><th scope=col>&lt;int&gt;</th><th scope=col>&lt;int&gt;</th></tr>\n",
       "</thead>\n",
       "<tbody>\n",
       "\t<tr><td>rs144155419      </td><td>G     </td><td>A</td><td>A</td><td>ADD</td><td>31247</td><td>-0.000334046</td><td>0.0392128</td><td>-0.0085188</td><td>0.993203</td><td>.</td><td>1</td><td>782207</td></tr>\n",
       "\t<tr><td>1:719854_CAG_C   </td><td>CAG   </td><td>C</td><td>C</td><td>ADD</td><td>31168</td><td>-0.097526600</td><td>0.0726473</td><td>-1.3424700</td><td>0.179454</td><td>.</td><td>1</td><td>784474</td></tr>\n",
       "\t<tr><td>rs2977670        </td><td>C     </td><td>G</td><td>G</td><td>ADD</td><td>31509</td><td> 0.031395200</td><td>0.0222987</td><td> 1.4079400</td><td>0.159160</td><td>.</td><td>1</td><td>788511</td></tr>\n",
       "\t<tr><td>1:724295_TGGAAC_T</td><td>TGGAAC</td><td>T</td><td>T</td><td>ADD</td><td>30942</td><td> 0.034595300</td><td>0.0537308</td><td> 0.6438630</td><td>0.519669</td><td>.</td><td>1</td><td>788915</td></tr>\n",
       "\t<tr><td>rs181876450      </td><td>T     </td><td>C</td><td>C</td><td>ADD</td><td>31104</td><td>-0.048063700</td><td>0.0579955</td><td>-0.8287490</td><td>0.407253</td><td>.</td><td>1</td><td>801309</td></tr>\n",
       "\t<tr><td>rs3131972        </td><td>G     </td><td>A</td><td>A</td><td>ADD</td><td>31929</td><td> 0.003228840</td><td>0.0110722</td><td> 0.2916160</td><td>0.770582</td><td>.</td><td>1</td><td>817341</td></tr>\n",
       "</tbody>\n",
       "</table>\n"
      ],
      "text/latex": [
       "A data.table: 6 x 13\n",
       "\\begin{tabular}{lllllllllllll}\n",
       " ID & REF & ALT & A1 & TEST & OBS\\_CT & BETA & SE & T\\_STAT & P & ERRCODE & \\#CHROM & POS\\\\\n",
       " <chr> & <chr> & <chr> & <chr> & <chr> & <int> & <dbl> & <dbl> & <dbl> & <dbl> & <chr> & <int> & <int>\\\\\n",
       "\\hline\n",
       "\t rs144155419       & G      & A & A & ADD & 31247 & -0.000334046 & 0.0392128 & -0.0085188 & 0.993203 & . & 1 & 782207\\\\\n",
       "\t 1:719854\\_CAG\\_C    & CAG    & C & C & ADD & 31168 & -0.097526600 & 0.0726473 & -1.3424700 & 0.179454 & . & 1 & 784474\\\\\n",
       "\t rs2977670         & C      & G & G & ADD & 31509 &  0.031395200 & 0.0222987 &  1.4079400 & 0.159160 & . & 1 & 788511\\\\\n",
       "\t 1:724295\\_TGGAAC\\_T & TGGAAC & T & T & ADD & 30942 &  0.034595300 & 0.0537308 &  0.6438630 & 0.519669 & . & 1 & 788915\\\\\n",
       "\t rs181876450       & T      & C & C & ADD & 31104 & -0.048063700 & 0.0579955 & -0.8287490 & 0.407253 & . & 1 & 801309\\\\\n",
       "\t rs3131972         & G      & A & A & ADD & 31929 &  0.003228840 & 0.0110722 &  0.2916160 & 0.770582 & . & 1 & 817341\\\\\n",
       "\\end{tabular}\n"
      ],
      "text/markdown": [
       "\n",
       "A data.table: 6 x 13\n",
       "\n",
       "| ID &lt;chr&gt; | REF &lt;chr&gt; | ALT &lt;chr&gt; | A1 &lt;chr&gt; | TEST &lt;chr&gt; | OBS_CT &lt;int&gt; | BETA &lt;dbl&gt; | SE &lt;dbl&gt; | T_STAT &lt;dbl&gt; | P &lt;dbl&gt; | ERRCODE &lt;chr&gt; | #CHROM &lt;int&gt; | POS &lt;int&gt; |\n",
       "|---|---|---|---|---|---|---|---|---|---|---|---|---|\n",
       "| rs144155419       | G      | A | A | ADD | 31247 | -0.000334046 | 0.0392128 | -0.0085188 | 0.993203 | . | 1 | 782207 |\n",
       "| 1:719854_CAG_C    | CAG    | C | C | ADD | 31168 | -0.097526600 | 0.0726473 | -1.3424700 | 0.179454 | . | 1 | 784474 |\n",
       "| rs2977670         | C      | G | G | ADD | 31509 |  0.031395200 | 0.0222987 |  1.4079400 | 0.159160 | . | 1 | 788511 |\n",
       "| 1:724295_TGGAAC_T | TGGAAC | T | T | ADD | 30942 |  0.034595300 | 0.0537308 |  0.6438630 | 0.519669 | . | 1 | 788915 |\n",
       "| rs181876450       | T      | C | C | ADD | 31104 | -0.048063700 | 0.0579955 | -0.8287490 | 0.407253 | . | 1 | 801309 |\n",
       "| rs3131972         | G      | A | A | ADD | 31929 |  0.003228840 | 0.0110722 |  0.2916160 | 0.770582 | . | 1 | 817341 |\n",
       "\n"
      ],
      "text/plain": [
       "  ID                REF    ALT A1 TEST OBS_CT BETA         SE        T_STAT    \n",
       "1 rs144155419       G      A   A  ADD  31247  -0.000334046 0.0392128 -0.0085188\n",
       "2 1:719854_CAG_C    CAG    C   C  ADD  31168  -0.097526600 0.0726473 -1.3424700\n",
       "3 rs2977670         C      G   G  ADD  31509   0.031395200 0.0222987  1.4079400\n",
       "4 1:724295_TGGAAC_T TGGAAC T   T  ADD  30942   0.034595300 0.0537308  0.6438630\n",
       "5 rs181876450       T      C   C  ADD  31104  -0.048063700 0.0579955 -0.8287490\n",
       "6 rs3131972         G      A   A  ADD  31929   0.003228840 0.0110722  0.2916160\n",
       "  P        ERRCODE #CHROM POS   \n",
       "1 0.993203 .       1      782207\n",
       "2 0.179454 .       1      784474\n",
       "3 0.159160 .       1      788511\n",
       "4 0.519669 .       1      788915\n",
       "5 0.407253 .       1      801309\n",
       "6 0.770582 .       1      817341"
      ]
     },
     "metadata": {},
     "output_type": "display_data"
    },
    {
     "data": {
      "text/html": [
       "<style>\n",
       ".list-inline {list-style: none; margin:0; padding: 0}\n",
       ".list-inline>li {display: inline-block}\n",
       ".list-inline>li:not(:last-child)::after {content: \"\\00b7\"; padding: 0 .5ex}\n",
       "</style>\n",
       "<ol class=list-inline><li>6475770</li><li>13</li></ol>\n"
      ],
      "text/latex": [
       "\\begin{enumerate*}\n",
       "\\item 6475770\n",
       "\\item 13\n",
       "\\end{enumerate*}\n"
      ],
      "text/markdown": [
       "1. 6475770\n",
       "2. 13\n",
       "\n",
       "\n"
      ],
      "text/plain": [
       "[1] 6475770      13"
      ]
     },
     "metadata": {},
     "output_type": "display_data"
    }
   ],
   "source": [
    "head(AD1_hg38_final)\n",
    "dim(AD1_hg38_final)"
   ]
  },
  {
   "cell_type": "code",
   "execution_count": 225,
   "id": "49fe5945-d539-43ef-affc-e287e3daae18",
   "metadata": {
    "kernel": "SoS",
    "vscode": {
     "languageId": "r"
    }
   },
   "outputs": [],
   "source": [
    "fwrite(AD1_hg38_final, \"/home/ubuntu/project/image_QTL/hg38/dne_pheno_normalized_residualized.AD_SurrealGAN_1.glm.linear_hg38.gz\", sep = '\\t')"
   ]
  },
  {
   "cell_type": "markdown",
   "id": "8ae1fe43-3dfe-4c8b-bd6d-c24d781c3bcf",
   "metadata": {
    "kernel": "SoS"
   },
   "source": [
    "## AD2"
   ]
  },
  {
   "cell_type": "markdown",
   "id": "f1d90935-8d94-4f2a-bef0-495f12daac83",
   "metadata": {
    "kernel": "SoS"
   },
   "source": [
    "### Merge"
   ]
  },
  {
   "cell_type": "code",
   "execution_count": 226,
   "id": "37e823ac-2da9-40e0-910c-f45edf085a4b",
   "metadata": {
    "kernel": "SoS",
    "vscode": {
     "languageId": "r"
    }
   },
   "outputs": [],
   "source": [
    "AD2 = fread(\"~/data/GWAS/image_GWAS/dne_pheno_normalized_residualized.AD_SurrealGAN_2.glm.linear\")"
   ]
  },
  {
   "cell_type": "code",
   "execution_count": 228,
   "id": "7c14cc74-8b3a-4b3d-9cec-829c7ba49553",
   "metadata": {
    "kernel": "SoS",
    "vscode": {
     "languageId": "r"
    }
   },
   "outputs": [
    {
     "data": {
      "text/html": [
       "<table class=\"dataframe\">\n",
       "<caption>A data.table: 6 x 13</caption>\n",
       "<thead>\n",
       "\t<tr><th scope=col>#CHROM</th><th scope=col>POS</th><th scope=col>ID</th><th scope=col>REF</th><th scope=col>ALT</th><th scope=col>A1</th><th scope=col>TEST</th><th scope=col>OBS_CT</th><th scope=col>BETA</th><th scope=col>SE</th><th scope=col>T_STAT</th><th scope=col>P</th><th scope=col>ERRCODE</th></tr>\n",
       "\t<tr><th scope=col>&lt;int&gt;</th><th scope=col>&lt;int&gt;</th><th scope=col>&lt;chr&gt;</th><th scope=col>&lt;chr&gt;</th><th scope=col>&lt;chr&gt;</th><th scope=col>&lt;chr&gt;</th><th scope=col>&lt;chr&gt;</th><th scope=col>&lt;int&gt;</th><th scope=col>&lt;dbl&gt;</th><th scope=col>&lt;dbl&gt;</th><th scope=col>&lt;dbl&gt;</th><th scope=col>&lt;dbl&gt;</th><th scope=col>&lt;chr&gt;</th></tr>\n",
       "</thead>\n",
       "<tbody>\n",
       "\t<tr><td>1</td><td>717587</td><td>rs144155419      </td><td>G     </td><td>A</td><td>A</td><td>ADD</td><td>31247</td><td>-0.00247210</td><td>0.0391868</td><td>-0.063085</td><td>0.949699</td><td>.</td></tr>\n",
       "\t<tr><td>1</td><td>719854</td><td>1:719854_CAG_C   </td><td>CAG   </td><td>C</td><td>C</td><td>ADD</td><td>31168</td><td>-0.02323670</td><td>0.0725512</td><td>-0.320280</td><td>0.748758</td><td>.</td></tr>\n",
       "\t<tr><td>1</td><td>723891</td><td>rs2977670        </td><td>C     </td><td>G</td><td>G</td><td>ADD</td><td>31509</td><td>-0.03643380</td><td>0.0223010</td><td>-1.633730</td><td>0.102326</td><td>.</td></tr>\n",
       "\t<tr><td>1</td><td>724295</td><td>1:724295_TGGAAC_T</td><td>TGGAAC</td><td>T</td><td>T</td><td>ADD</td><td>30942</td><td> 0.04262420</td><td>0.0537116</td><td> 0.793575</td><td>0.427449</td><td>.</td></tr>\n",
       "\t<tr><td>1</td><td>736689</td><td>rs181876450      </td><td>T     </td><td>C</td><td>C</td><td>ADD</td><td>31104</td><td> 0.06517850</td><td>0.0580388</td><td> 1.123020</td><td>0.261439</td><td>.</td></tr>\n",
       "\t<tr><td>1</td><td>752721</td><td>rs3131972        </td><td>G     </td><td>A</td><td>A</td><td>ADD</td><td>31929</td><td>-0.00897978</td><td>0.0110721</td><td>-0.811024</td><td>0.417358</td><td>.</td></tr>\n",
       "</tbody>\n",
       "</table>\n"
      ],
      "text/latex": [
       "A data.table: 6 x 13\n",
       "\\begin{tabular}{lllllllllllll}\n",
       " \\#CHROM & POS & ID & REF & ALT & A1 & TEST & OBS\\_CT & BETA & SE & T\\_STAT & P & ERRCODE\\\\\n",
       " <int> & <int> & <chr> & <chr> & <chr> & <chr> & <chr> & <int> & <dbl> & <dbl> & <dbl> & <dbl> & <chr>\\\\\n",
       "\\hline\n",
       "\t 1 & 717587 & rs144155419       & G      & A & A & ADD & 31247 & -0.00247210 & 0.0391868 & -0.063085 & 0.949699 & .\\\\\n",
       "\t 1 & 719854 & 1:719854\\_CAG\\_C    & CAG    & C & C & ADD & 31168 & -0.02323670 & 0.0725512 & -0.320280 & 0.748758 & .\\\\\n",
       "\t 1 & 723891 & rs2977670         & C      & G & G & ADD & 31509 & -0.03643380 & 0.0223010 & -1.633730 & 0.102326 & .\\\\\n",
       "\t 1 & 724295 & 1:724295\\_TGGAAC\\_T & TGGAAC & T & T & ADD & 30942 &  0.04262420 & 0.0537116 &  0.793575 & 0.427449 & .\\\\\n",
       "\t 1 & 736689 & rs181876450       & T      & C & C & ADD & 31104 &  0.06517850 & 0.0580388 &  1.123020 & 0.261439 & .\\\\\n",
       "\t 1 & 752721 & rs3131972         & G      & A & A & ADD & 31929 & -0.00897978 & 0.0110721 & -0.811024 & 0.417358 & .\\\\\n",
       "\\end{tabular}\n"
      ],
      "text/markdown": [
       "\n",
       "A data.table: 6 x 13\n",
       "\n",
       "| #CHROM &lt;int&gt; | POS &lt;int&gt; | ID &lt;chr&gt; | REF &lt;chr&gt; | ALT &lt;chr&gt; | A1 &lt;chr&gt; | TEST &lt;chr&gt; | OBS_CT &lt;int&gt; | BETA &lt;dbl&gt; | SE &lt;dbl&gt; | T_STAT &lt;dbl&gt; | P &lt;dbl&gt; | ERRCODE &lt;chr&gt; |\n",
       "|---|---|---|---|---|---|---|---|---|---|---|---|---|\n",
       "| 1 | 717587 | rs144155419       | G      | A | A | ADD | 31247 | -0.00247210 | 0.0391868 | -0.063085 | 0.949699 | . |\n",
       "| 1 | 719854 | 1:719854_CAG_C    | CAG    | C | C | ADD | 31168 | -0.02323670 | 0.0725512 | -0.320280 | 0.748758 | . |\n",
       "| 1 | 723891 | rs2977670         | C      | G | G | ADD | 31509 | -0.03643380 | 0.0223010 | -1.633730 | 0.102326 | . |\n",
       "| 1 | 724295 | 1:724295_TGGAAC_T | TGGAAC | T | T | ADD | 30942 |  0.04262420 | 0.0537116 |  0.793575 | 0.427449 | . |\n",
       "| 1 | 736689 | rs181876450       | T      | C | C | ADD | 31104 |  0.06517850 | 0.0580388 |  1.123020 | 0.261439 | . |\n",
       "| 1 | 752721 | rs3131972         | G      | A | A | ADD | 31929 | -0.00897978 | 0.0110721 | -0.811024 | 0.417358 | . |\n",
       "\n"
      ],
      "text/plain": [
       "  #CHROM POS    ID                REF    ALT A1 TEST OBS_CT BETA       \n",
       "1 1      717587 rs144155419       G      A   A  ADD  31247  -0.00247210\n",
       "2 1      719854 1:719854_CAG_C    CAG    C   C  ADD  31168  -0.02323670\n",
       "3 1      723891 rs2977670         C      G   G  ADD  31509  -0.03643380\n",
       "4 1      724295 1:724295_TGGAAC_T TGGAAC T   T  ADD  30942   0.04262420\n",
       "5 1      736689 rs181876450       T      C   C  ADD  31104   0.06517850\n",
       "6 1      752721 rs3131972         G      A   A  ADD  31929  -0.00897978\n",
       "  SE        T_STAT    P        ERRCODE\n",
       "1 0.0391868 -0.063085 0.949699 .      \n",
       "2 0.0725512 -0.320280 0.748758 .      \n",
       "3 0.0223010 -1.633730 0.102326 .      \n",
       "4 0.0537116  0.793575 0.427449 .      \n",
       "5 0.0580388  1.123020 0.261439 .      \n",
       "6 0.0110721 -0.811024 0.417358 .      "
      ]
     },
     "metadata": {},
     "output_type": "display_data"
    }
   ],
   "source": [
    "head(AD2)"
   ]
  },
  {
   "cell_type": "code",
   "execution_count": 240,
   "id": "18236986-3d71-4e06-ba55-4514638a3ec3",
   "metadata": {
    "kernel": "SoS",
    "vscode": {
     "languageId": "r"
    }
   },
   "outputs": [],
   "source": [
    "AD2_remain = AD2 |> select(-`#CHROM`, -POS)\n",
    "AD2_hg38_final = AD2_remain |> inner_join(AD2_hg38, by = 'ID')"
   ]
  },
  {
   "cell_type": "code",
   "execution_count": 241,
   "id": "cf022f56-9321-47e7-a426-aa0f14c34ec1",
   "metadata": {
    "kernel": "SoS",
    "vscode": {
     "languageId": "r"
    }
   },
   "outputs": [
    {
     "data": {
      "text/html": [
       "<table class=\"dataframe\">\n",
       "<caption>A data.table: 6 x 13</caption>\n",
       "<thead>\n",
       "\t<tr><th scope=col>ID</th><th scope=col>REF</th><th scope=col>ALT</th><th scope=col>A1</th><th scope=col>TEST</th><th scope=col>OBS_CT</th><th scope=col>BETA</th><th scope=col>SE</th><th scope=col>T_STAT</th><th scope=col>P</th><th scope=col>ERRCODE</th><th scope=col>#CHROM</th><th scope=col>POS</th></tr>\n",
       "\t<tr><th scope=col>&lt;chr&gt;</th><th scope=col>&lt;chr&gt;</th><th scope=col>&lt;chr&gt;</th><th scope=col>&lt;chr&gt;</th><th scope=col>&lt;chr&gt;</th><th scope=col>&lt;int&gt;</th><th scope=col>&lt;dbl&gt;</th><th scope=col>&lt;dbl&gt;</th><th scope=col>&lt;dbl&gt;</th><th scope=col>&lt;dbl&gt;</th><th scope=col>&lt;chr&gt;</th><th scope=col>&lt;int&gt;</th><th scope=col>&lt;int&gt;</th></tr>\n",
       "</thead>\n",
       "<tbody>\n",
       "\t<tr><td>rs144155419      </td><td>G     </td><td>A</td><td>A</td><td>ADD</td><td>31247</td><td>-0.00247210</td><td>0.0391868</td><td>-0.063085</td><td>0.949699</td><td>.</td><td>1</td><td>782207</td></tr>\n",
       "\t<tr><td>1:719854_CAG_C   </td><td>CAG   </td><td>C</td><td>C</td><td>ADD</td><td>31168</td><td>-0.02323670</td><td>0.0725512</td><td>-0.320280</td><td>0.748758</td><td>.</td><td>1</td><td>784474</td></tr>\n",
       "\t<tr><td>rs2977670        </td><td>C     </td><td>G</td><td>G</td><td>ADD</td><td>31509</td><td>-0.03643380</td><td>0.0223010</td><td>-1.633730</td><td>0.102326</td><td>.</td><td>1</td><td>788511</td></tr>\n",
       "\t<tr><td>1:724295_TGGAAC_T</td><td>TGGAAC</td><td>T</td><td>T</td><td>ADD</td><td>30942</td><td> 0.04262420</td><td>0.0537116</td><td> 0.793575</td><td>0.427449</td><td>.</td><td>1</td><td>788915</td></tr>\n",
       "\t<tr><td>rs181876450      </td><td>T     </td><td>C</td><td>C</td><td>ADD</td><td>31104</td><td> 0.06517850</td><td>0.0580388</td><td> 1.123020</td><td>0.261439</td><td>.</td><td>1</td><td>801309</td></tr>\n",
       "\t<tr><td>rs3131972        </td><td>G     </td><td>A</td><td>A</td><td>ADD</td><td>31929</td><td>-0.00897978</td><td>0.0110721</td><td>-0.811024</td><td>0.417358</td><td>.</td><td>1</td><td>817341</td></tr>\n",
       "</tbody>\n",
       "</table>\n"
      ],
      "text/latex": [
       "A data.table: 6 x 13\n",
       "\\begin{tabular}{lllllllllllll}\n",
       " ID & REF & ALT & A1 & TEST & OBS\\_CT & BETA & SE & T\\_STAT & P & ERRCODE & \\#CHROM & POS\\\\\n",
       " <chr> & <chr> & <chr> & <chr> & <chr> & <int> & <dbl> & <dbl> & <dbl> & <dbl> & <chr> & <int> & <int>\\\\\n",
       "\\hline\n",
       "\t rs144155419       & G      & A & A & ADD & 31247 & -0.00247210 & 0.0391868 & -0.063085 & 0.949699 & . & 1 & 782207\\\\\n",
       "\t 1:719854\\_CAG\\_C    & CAG    & C & C & ADD & 31168 & -0.02323670 & 0.0725512 & -0.320280 & 0.748758 & . & 1 & 784474\\\\\n",
       "\t rs2977670         & C      & G & G & ADD & 31509 & -0.03643380 & 0.0223010 & -1.633730 & 0.102326 & . & 1 & 788511\\\\\n",
       "\t 1:724295\\_TGGAAC\\_T & TGGAAC & T & T & ADD & 30942 &  0.04262420 & 0.0537116 &  0.793575 & 0.427449 & . & 1 & 788915\\\\\n",
       "\t rs181876450       & T      & C & C & ADD & 31104 &  0.06517850 & 0.0580388 &  1.123020 & 0.261439 & . & 1 & 801309\\\\\n",
       "\t rs3131972         & G      & A & A & ADD & 31929 & -0.00897978 & 0.0110721 & -0.811024 & 0.417358 & . & 1 & 817341\\\\\n",
       "\\end{tabular}\n"
      ],
      "text/markdown": [
       "\n",
       "A data.table: 6 x 13\n",
       "\n",
       "| ID &lt;chr&gt; | REF &lt;chr&gt; | ALT &lt;chr&gt; | A1 &lt;chr&gt; | TEST &lt;chr&gt; | OBS_CT &lt;int&gt; | BETA &lt;dbl&gt; | SE &lt;dbl&gt; | T_STAT &lt;dbl&gt; | P &lt;dbl&gt; | ERRCODE &lt;chr&gt; | #CHROM &lt;int&gt; | POS &lt;int&gt; |\n",
       "|---|---|---|---|---|---|---|---|---|---|---|---|---|\n",
       "| rs144155419       | G      | A | A | ADD | 31247 | -0.00247210 | 0.0391868 | -0.063085 | 0.949699 | . | 1 | 782207 |\n",
       "| 1:719854_CAG_C    | CAG    | C | C | ADD | 31168 | -0.02323670 | 0.0725512 | -0.320280 | 0.748758 | . | 1 | 784474 |\n",
       "| rs2977670         | C      | G | G | ADD | 31509 | -0.03643380 | 0.0223010 | -1.633730 | 0.102326 | . | 1 | 788511 |\n",
       "| 1:724295_TGGAAC_T | TGGAAC | T | T | ADD | 30942 |  0.04262420 | 0.0537116 |  0.793575 | 0.427449 | . | 1 | 788915 |\n",
       "| rs181876450       | T      | C | C | ADD | 31104 |  0.06517850 | 0.0580388 |  1.123020 | 0.261439 | . | 1 | 801309 |\n",
       "| rs3131972         | G      | A | A | ADD | 31929 | -0.00897978 | 0.0110721 | -0.811024 | 0.417358 | . | 1 | 817341 |\n",
       "\n"
      ],
      "text/plain": [
       "  ID                REF    ALT A1 TEST OBS_CT BETA        SE        T_STAT   \n",
       "1 rs144155419       G      A   A  ADD  31247  -0.00247210 0.0391868 -0.063085\n",
       "2 1:719854_CAG_C    CAG    C   C  ADD  31168  -0.02323670 0.0725512 -0.320280\n",
       "3 rs2977670         C      G   G  ADD  31509  -0.03643380 0.0223010 -1.633730\n",
       "4 1:724295_TGGAAC_T TGGAAC T   T  ADD  30942   0.04262420 0.0537116  0.793575\n",
       "5 rs181876450       T      C   C  ADD  31104   0.06517850 0.0580388  1.123020\n",
       "6 rs3131972         G      A   A  ADD  31929  -0.00897978 0.0110721 -0.811024\n",
       "  P        ERRCODE #CHROM POS   \n",
       "1 0.949699 .       1      782207\n",
       "2 0.748758 .       1      784474\n",
       "3 0.102326 .       1      788511\n",
       "4 0.427449 .       1      788915\n",
       "5 0.261439 .       1      801309\n",
       "6 0.417358 .       1      817341"
      ]
     },
     "metadata": {},
     "output_type": "display_data"
    },
    {
     "data": {
      "text/html": [
       "<style>\n",
       ".list-inline {list-style: none; margin:0; padding: 0}\n",
       ".list-inline>li {display: inline-block}\n",
       ".list-inline>li:not(:last-child)::after {content: \"\\00b7\"; padding: 0 .5ex}\n",
       "</style>\n",
       "<ol class=list-inline><li>6475770</li><li>13</li></ol>\n"
      ],
      "text/latex": [
       "\\begin{enumerate*}\n",
       "\\item 6475770\n",
       "\\item 13\n",
       "\\end{enumerate*}\n"
      ],
      "text/markdown": [
       "1. 6475770\n",
       "2. 13\n",
       "\n",
       "\n"
      ],
      "text/plain": [
       "[1] 6475770      13"
      ]
     },
     "metadata": {},
     "output_type": "display_data"
    }
   ],
   "source": [
    "head(AD2_hg38_final)\n",
    "dim(AD2_hg38_final)"
   ]
  },
  {
   "cell_type": "code",
   "execution_count": 242,
   "id": "752da13e-52c8-4745-b168-d51af589b248",
   "metadata": {
    "kernel": "SoS",
    "vscode": {
     "languageId": "r"
    }
   },
   "outputs": [],
   "source": [
    "fwrite(AD2_hg38_final, \"/home/ubuntu/project/image_QTL/hg38/dne_pheno_normalized_residualized.AD_SurrealGAN_2.glm.linear_hg38.gz\", sep = '\\t')"
   ]
  },
  {
   "cell_type": "markdown",
   "id": "da873132-a3ce-4931-ac95-aaafc1e2680d",
   "metadata": {
    "kernel": "SoS"
   },
   "source": [
    "## Aging 1"
   ]
  },
  {
   "cell_type": "markdown",
   "id": "399251a7-7d42-43bc-8b3f-79671238e82d",
   "metadata": {
    "kernel": "SoS"
   },
   "source": [
    "### format the input hg19 .bed for aging"
   ]
  },
  {
   "cell_type": "code",
   "execution_count": 243,
   "id": "14a41eee-ea97-404c-97a8-245753b18b66",
   "metadata": {
    "kernel": "SoS",
    "vscode": {
     "languageId": "r"
    }
   },
   "outputs": [],
   "source": [
    "aging1 = fread(\"~/data/GWAS/image_GWAS/surrealgan_aging_pheno_normalized_residualized.r1.glm.linear\")"
   ]
  },
  {
   "cell_type": "code",
   "execution_count": 248,
   "id": "ed0dd9c2-8fff-42af-af73-a7ad810d569f",
   "metadata": {
    "kernel": "SoS",
    "vscode": {
     "languageId": "r"
    }
   },
   "outputs": [
    {
     "data": {
      "text/html": [
       "<table class=\"dataframe\">\n",
       "<caption>A data.table: 6 x 13</caption>\n",
       "<thead>\n",
       "\t<tr><th scope=col>#CHROM</th><th scope=col>POS</th><th scope=col>ID</th><th scope=col>REF</th><th scope=col>ALT</th><th scope=col>A1</th><th scope=col>TEST</th><th scope=col>OBS_CT</th><th scope=col>BETA</th><th scope=col>SE</th><th scope=col>T_STAT</th><th scope=col>P</th><th scope=col>ERRCODE</th></tr>\n",
       "\t<tr><th scope=col>&lt;int&gt;</th><th scope=col>&lt;int&gt;</th><th scope=col>&lt;chr&gt;</th><th scope=col>&lt;chr&gt;</th><th scope=col>&lt;chr&gt;</th><th scope=col>&lt;chr&gt;</th><th scope=col>&lt;chr&gt;</th><th scope=col>&lt;int&gt;</th><th scope=col>&lt;dbl&gt;</th><th scope=col>&lt;dbl&gt;</th><th scope=col>&lt;dbl&gt;</th><th scope=col>&lt;dbl&gt;</th><th scope=col>&lt;chr&gt;</th></tr>\n",
       "</thead>\n",
       "<tbody>\n",
       "\t<tr><td>1</td><td>717587</td><td>rs144155419   </td><td>G  </td><td>A </td><td>A </td><td>ADD</td><td>32139</td><td> 0.03875060</td><td>0.0384495</td><td> 1.0078300</td><td>0.313543</td><td>.</td></tr>\n",
       "\t<tr><td>1</td><td>719854</td><td>1:719854_CAG_C</td><td>CAG</td><td>C </td><td>C </td><td>ADD</td><td>32051</td><td>-0.00561508</td><td>0.0712650</td><td>-0.0787915</td><td>0.937199</td><td>.</td></tr>\n",
       "\t<tr><td>1</td><td>725401</td><td>rs553642122   </td><td>C  </td><td>T </td><td>T </td><td>ADD</td><td>32156</td><td>-0.02123150</td><td>0.0709291</td><td>-0.2993340</td><td>0.764687</td><td>.</td></tr>\n",
       "\t<tr><td>1</td><td>736689</td><td>rs181876450   </td><td>T  </td><td>C </td><td>C </td><td>ADD</td><td>31985</td><td>-0.04611840</td><td>0.0570188</td><td>-0.8088270</td><td>0.418620</td><td>.</td></tr>\n",
       "\t<tr><td>1</td><td>746211</td><td>rs201075335   </td><td>A  </td><td>AG</td><td>AG</td><td>ADD</td><td>31857</td><td> 0.00762611</td><td>0.0242194</td><td> 0.3148760</td><td>0.752858</td><td>.</td></tr>\n",
       "\t<tr><td>1</td><td>751343</td><td>rs28544273    </td><td>T  </td><td>A </td><td>A </td><td>ADD</td><td>32270</td><td>-0.00561255</td><td>0.0120832</td><td>-0.4644920</td><td>0.642298</td><td>.</td></tr>\n",
       "</tbody>\n",
       "</table>\n"
      ],
      "text/latex": [
       "A data.table: 6 x 13\n",
       "\\begin{tabular}{lllllllllllll}\n",
       " \\#CHROM & POS & ID & REF & ALT & A1 & TEST & OBS\\_CT & BETA & SE & T\\_STAT & P & ERRCODE\\\\\n",
       " <int> & <int> & <chr> & <chr> & <chr> & <chr> & <chr> & <int> & <dbl> & <dbl> & <dbl> & <dbl> & <chr>\\\\\n",
       "\\hline\n",
       "\t 1 & 717587 & rs144155419    & G   & A  & A  & ADD & 32139 &  0.03875060 & 0.0384495 &  1.0078300 & 0.313543 & .\\\\\n",
       "\t 1 & 719854 & 1:719854\\_CAG\\_C & CAG & C  & C  & ADD & 32051 & -0.00561508 & 0.0712650 & -0.0787915 & 0.937199 & .\\\\\n",
       "\t 1 & 725401 & rs553642122    & C   & T  & T  & ADD & 32156 & -0.02123150 & 0.0709291 & -0.2993340 & 0.764687 & .\\\\\n",
       "\t 1 & 736689 & rs181876450    & T   & C  & C  & ADD & 31985 & -0.04611840 & 0.0570188 & -0.8088270 & 0.418620 & .\\\\\n",
       "\t 1 & 746211 & rs201075335    & A   & AG & AG & ADD & 31857 &  0.00762611 & 0.0242194 &  0.3148760 & 0.752858 & .\\\\\n",
       "\t 1 & 751343 & rs28544273     & T   & A  & A  & ADD & 32270 & -0.00561255 & 0.0120832 & -0.4644920 & 0.642298 & .\\\\\n",
       "\\end{tabular}\n"
      ],
      "text/markdown": [
       "\n",
       "A data.table: 6 x 13\n",
       "\n",
       "| #CHROM &lt;int&gt; | POS &lt;int&gt; | ID &lt;chr&gt; | REF &lt;chr&gt; | ALT &lt;chr&gt; | A1 &lt;chr&gt; | TEST &lt;chr&gt; | OBS_CT &lt;int&gt; | BETA &lt;dbl&gt; | SE &lt;dbl&gt; | T_STAT &lt;dbl&gt; | P &lt;dbl&gt; | ERRCODE &lt;chr&gt; |\n",
       "|---|---|---|---|---|---|---|---|---|---|---|---|---|\n",
       "| 1 | 717587 | rs144155419    | G   | A  | A  | ADD | 32139 |  0.03875060 | 0.0384495 |  1.0078300 | 0.313543 | . |\n",
       "| 1 | 719854 | 1:719854_CAG_C | CAG | C  | C  | ADD | 32051 | -0.00561508 | 0.0712650 | -0.0787915 | 0.937199 | . |\n",
       "| 1 | 725401 | rs553642122    | C   | T  | T  | ADD | 32156 | -0.02123150 | 0.0709291 | -0.2993340 | 0.764687 | . |\n",
       "| 1 | 736689 | rs181876450    | T   | C  | C  | ADD | 31985 | -0.04611840 | 0.0570188 | -0.8088270 | 0.418620 | . |\n",
       "| 1 | 746211 | rs201075335    | A   | AG | AG | ADD | 31857 |  0.00762611 | 0.0242194 |  0.3148760 | 0.752858 | . |\n",
       "| 1 | 751343 | rs28544273     | T   | A  | A  | ADD | 32270 | -0.00561255 | 0.0120832 | -0.4644920 | 0.642298 | . |\n",
       "\n"
      ],
      "text/plain": [
       "  #CHROM POS    ID             REF ALT A1 TEST OBS_CT BETA        SE       \n",
       "1 1      717587 rs144155419    G   A   A  ADD  32139   0.03875060 0.0384495\n",
       "2 1      719854 1:719854_CAG_C CAG C   C  ADD  32051  -0.00561508 0.0712650\n",
       "3 1      725401 rs553642122    C   T   T  ADD  32156  -0.02123150 0.0709291\n",
       "4 1      736689 rs181876450    T   C   C  ADD  31985  -0.04611840 0.0570188\n",
       "5 1      746211 rs201075335    A   AG  AG ADD  31857   0.00762611 0.0242194\n",
       "6 1      751343 rs28544273     T   A   A  ADD  32270  -0.00561255 0.0120832\n",
       "  T_STAT     P        ERRCODE\n",
       "1  1.0078300 0.313543 .      \n",
       "2 -0.0787915 0.937199 .      \n",
       "3 -0.2993340 0.764687 .      \n",
       "4 -0.8088270 0.418620 .      \n",
       "5  0.3148760 0.752858 .      \n",
       "6 -0.4644920 0.642298 .      "
      ]
     },
     "metadata": {},
     "output_type": "display_data"
    }
   ],
   "source": [
    "head(aging1)"
   ]
  },
  {
   "cell_type": "code",
   "execution_count": 245,
   "id": "dbe43832-fbfb-4670-b6d8-90c57e69f568",
   "metadata": {
    "kernel": "SoS",
    "vscode": {
     "languageId": "r"
    }
   },
   "outputs": [],
   "source": [
    "\n",
    "aging1_needed = aging1 |> mutate(chrom = paste0(\"chr\",`#CHROM`), start = POS, end = POS, region_id = ID) |> select(chrom, start, end, region_id)"
   ]
  },
  {
   "cell_type": "code",
   "execution_count": 246,
   "id": "1e91846f-0bbb-4278-9875-e0f93f8e4d02",
   "metadata": {
    "kernel": "SoS",
    "vscode": {
     "languageId": "r"
    }
   },
   "outputs": [
    {
     "data": {
      "text/html": [
       "<style>\n",
       ".list-inline {list-style: none; margin:0; padding: 0}\n",
       ".list-inline>li {display: inline-block}\n",
       ".list-inline>li:not(:last-child)::after {content: \"\\00b7\"; padding: 0 .5ex}\n",
       "</style>\n",
       "<ol class=list-inline><li>'chr1'</li><li>'chr2'</li><li>'chr3'</li><li>'chr4'</li><li>'chr5'</li><li>'chr6'</li><li>'chr7'</li><li>'chr8'</li><li>'chr9'</li><li>'chr10'</li><li>'chr11'</li><li>'chr12'</li><li>'chr13'</li><li>'chr14'</li><li>'chr15'</li><li>'chr16'</li><li>'chr17'</li><li>'chr18'</li><li>'chr19'</li><li>'chr20'</li><li>'chr21'</li><li>'chr22'</li></ol>\n"
      ],
      "text/latex": [
       "\\begin{enumerate*}\n",
       "\\item 'chr1'\n",
       "\\item 'chr2'\n",
       "\\item 'chr3'\n",
       "\\item 'chr4'\n",
       "\\item 'chr5'\n",
       "\\item 'chr6'\n",
       "\\item 'chr7'\n",
       "\\item 'chr8'\n",
       "\\item 'chr9'\n",
       "\\item 'chr10'\n",
       "\\item 'chr11'\n",
       "\\item 'chr12'\n",
       "\\item 'chr13'\n",
       "\\item 'chr14'\n",
       "\\item 'chr15'\n",
       "\\item 'chr16'\n",
       "\\item 'chr17'\n",
       "\\item 'chr18'\n",
       "\\item 'chr19'\n",
       "\\item 'chr20'\n",
       "\\item 'chr21'\n",
       "\\item 'chr22'\n",
       "\\end{enumerate*}\n"
      ],
      "text/markdown": [
       "1. 'chr1'\n",
       "2. 'chr2'\n",
       "3. 'chr3'\n",
       "4. 'chr4'\n",
       "5. 'chr5'\n",
       "6. 'chr6'\n",
       "7. 'chr7'\n",
       "8. 'chr8'\n",
       "9. 'chr9'\n",
       "10. 'chr10'\n",
       "11. 'chr11'\n",
       "12. 'chr12'\n",
       "13. 'chr13'\n",
       "14. 'chr14'\n",
       "15. 'chr15'\n",
       "16. 'chr16'\n",
       "17. 'chr17'\n",
       "18. 'chr18'\n",
       "19. 'chr19'\n",
       "20. 'chr20'\n",
       "21. 'chr21'\n",
       "22. 'chr22'\n",
       "\n",
       "\n"
      ],
      "text/plain": [
       " [1] \"chr1\"  \"chr2\"  \"chr3\"  \"chr4\"  \"chr5\"  \"chr6\"  \"chr7\"  \"chr8\"  \"chr9\" \n",
       "[10] \"chr10\" \"chr11\" \"chr12\" \"chr13\" \"chr14\" \"chr15\" \"chr16\" \"chr17\" \"chr18\"\n",
       "[19] \"chr19\" \"chr20\" \"chr21\" \"chr22\""
      ]
     },
     "metadata": {},
     "output_type": "display_data"
    }
   ],
   "source": [
    "unique(aging1_needed$chrom)"
   ]
  },
  {
   "cell_type": "code",
   "execution_count": 249,
   "id": "3b440d9d-f057-4746-8887-84b2ce74a61f",
   "metadata": {
    "kernel": "SoS",
    "vscode": {
     "languageId": "r"
    }
   },
   "outputs": [
    {
     "data": {
      "text/html": [
       "<table class=\"dataframe\">\n",
       "<caption>A data.table: 6 x 4</caption>\n",
       "<thead>\n",
       "\t<tr><th scope=col>chrom</th><th scope=col>start</th><th scope=col>end</th><th scope=col>region_id</th></tr>\n",
       "\t<tr><th scope=col>&lt;chr&gt;</th><th scope=col>&lt;int&gt;</th><th scope=col>&lt;int&gt;</th><th scope=col>&lt;chr&gt;</th></tr>\n",
       "</thead>\n",
       "<tbody>\n",
       "\t<tr><td>chr1</td><td>717587</td><td>717587</td><td>rs144155419   </td></tr>\n",
       "\t<tr><td>chr1</td><td>719854</td><td>719854</td><td>1:719854_CAG_C</td></tr>\n",
       "\t<tr><td>chr1</td><td>725401</td><td>725401</td><td>rs553642122   </td></tr>\n",
       "\t<tr><td>chr1</td><td>736689</td><td>736689</td><td>rs181876450   </td></tr>\n",
       "\t<tr><td>chr1</td><td>746211</td><td>746211</td><td>rs201075335   </td></tr>\n",
       "\t<tr><td>chr1</td><td>751343</td><td>751343</td><td>rs28544273    </td></tr>\n",
       "</tbody>\n",
       "</table>\n"
      ],
      "text/latex": [
       "A data.table: 6 x 4\n",
       "\\begin{tabular}{llll}\n",
       " chrom & start & end & region\\_id\\\\\n",
       " <chr> & <int> & <int> & <chr>\\\\\n",
       "\\hline\n",
       "\t chr1 & 717587 & 717587 & rs144155419   \\\\\n",
       "\t chr1 & 719854 & 719854 & 1:719854\\_CAG\\_C\\\\\n",
       "\t chr1 & 725401 & 725401 & rs553642122   \\\\\n",
       "\t chr1 & 736689 & 736689 & rs181876450   \\\\\n",
       "\t chr1 & 746211 & 746211 & rs201075335   \\\\\n",
       "\t chr1 & 751343 & 751343 & rs28544273    \\\\\n",
       "\\end{tabular}\n"
      ],
      "text/markdown": [
       "\n",
       "A data.table: 6 x 4\n",
       "\n",
       "| chrom &lt;chr&gt; | start &lt;int&gt; | end &lt;int&gt; | region_id &lt;chr&gt; |\n",
       "|---|---|---|---|\n",
       "| chr1 | 717587 | 717587 | rs144155419    |\n",
       "| chr1 | 719854 | 719854 | 1:719854_CAG_C |\n",
       "| chr1 | 725401 | 725401 | rs553642122    |\n",
       "| chr1 | 736689 | 736689 | rs181876450    |\n",
       "| chr1 | 746211 | 746211 | rs201075335    |\n",
       "| chr1 | 751343 | 751343 | rs28544273     |\n",
       "\n"
      ],
      "text/plain": [
       "  chrom start  end    region_id     \n",
       "1 chr1  717587 717587 rs144155419   \n",
       "2 chr1  719854 719854 1:719854_CAG_C\n",
       "3 chr1  725401 725401 rs553642122   \n",
       "4 chr1  736689 736689 rs181876450   \n",
       "5 chr1  746211 746211 rs201075335   \n",
       "6 chr1  751343 751343 rs28544273    "
      ]
     },
     "metadata": {},
     "output_type": "display_data"
    },
    {
     "data": {
      "text/html": [
       "<style>\n",
       ".list-inline {list-style: none; margin:0; padding: 0}\n",
       ".list-inline>li {display: inline-block}\n",
       ".list-inline>li:not(:last-child)::after {content: \"\\00b7\"; padding: 0 .5ex}\n",
       "</style>\n",
       "<ol class=list-inline><li>8469833</li><li>4</li></ol>\n"
      ],
      "text/latex": [
       "\\begin{enumerate*}\n",
       "\\item 8469833\n",
       "\\item 4\n",
       "\\end{enumerate*}\n"
      ],
      "text/markdown": [
       "1. 8469833\n",
       "2. 4\n",
       "\n",
       "\n"
      ],
      "text/plain": [
       "[1] 8469833       4"
      ]
     },
     "metadata": {},
     "output_type": "display_data"
    }
   ],
   "source": [
    "head(aging1_needed)\n",
    "dim(aging1_needed)"
   ]
  },
  {
   "cell_type": "code",
   "execution_count": 164,
   "id": "6e5ec1d6-4536-4355-baee-ef289f5490c4",
   "metadata": {
    "kernel": "SoS",
    "vscode": {
     "languageId": "r"
    }
   },
   "outputs": [],
   "source": [
    "fwrite(aging1_needed,\"aging1_hg19.bed\", sep = '\\t',col.names=FALSE)"
   ]
  },
  {
   "cell_type": "markdown",
   "id": "dfa94188-b144-4b7c-8cdd-1aaf64c70e98",
   "metadata": {
    "kernel": "SoS"
   },
   "source": [
    "### Read in the hg38 .bed(three columns-chrom, pos, id) and merge it back to the original summary statistics \n",
    "All aging image GWAS summary statistics have the same variant pos"
   ]
  },
  {
   "cell_type": "code",
   "execution_count": 293,
   "id": "d4a24259-7725-4b42-967e-a72e8cb84dd8",
   "metadata": {
    "kernel": "SoS",
    "vscode": {
     "languageId": "r"
    }
   },
   "outputs": [],
   "source": [
    "aging_hg38 = fread(\"/home/ubuntu/project/conversion/aging1_hg19.to_hg38.bed\")"
   ]
  },
  {
   "cell_type": "code",
   "execution_count": 294,
   "id": "7430eb08-6be3-404f-95af-fddabb96a863",
   "metadata": {
    "kernel": "SoS",
    "vscode": {
     "languageId": "r"
    }
   },
   "outputs": [
    {
     "data": {
      "text/html": [
       "<table class=\"dataframe\">\n",
       "<caption>A data.table: 6 x 4</caption>\n",
       "<thead>\n",
       "\t<tr><th scope=col>V1</th><th scope=col>V2</th><th scope=col>V3</th><th scope=col>V4</th></tr>\n",
       "\t<tr><th scope=col>&lt;chr&gt;</th><th scope=col>&lt;int&gt;</th><th scope=col>&lt;int&gt;</th><th scope=col>&lt;chr&gt;</th></tr>\n",
       "</thead>\n",
       "<tbody>\n",
       "\t<tr><td>chr1</td><td>782207</td><td>782207</td><td>rs144155419   </td></tr>\n",
       "\t<tr><td>chr1</td><td>784474</td><td>784474</td><td>1:719854_CAG_C</td></tr>\n",
       "\t<tr><td>chr1</td><td>790021</td><td>790021</td><td>rs553642122   </td></tr>\n",
       "\t<tr><td>chr1</td><td>801309</td><td>801309</td><td>rs181876450   </td></tr>\n",
       "\t<tr><td>chr1</td><td>810831</td><td>810831</td><td>rs201075335   </td></tr>\n",
       "\t<tr><td>chr1</td><td>815963</td><td>815963</td><td>rs28544273    </td></tr>\n",
       "</tbody>\n",
       "</table>\n"
      ],
      "text/latex": [
       "A data.table: 6 x 4\n",
       "\\begin{tabular}{llll}\n",
       " V1 & V2 & V3 & V4\\\\\n",
       " <chr> & <int> & <int> & <chr>\\\\\n",
       "\\hline\n",
       "\t chr1 & 782207 & 782207 & rs144155419   \\\\\n",
       "\t chr1 & 784474 & 784474 & 1:719854\\_CAG\\_C\\\\\n",
       "\t chr1 & 790021 & 790021 & rs553642122   \\\\\n",
       "\t chr1 & 801309 & 801309 & rs181876450   \\\\\n",
       "\t chr1 & 810831 & 810831 & rs201075335   \\\\\n",
       "\t chr1 & 815963 & 815963 & rs28544273    \\\\\n",
       "\\end{tabular}\n"
      ],
      "text/markdown": [
       "\n",
       "A data.table: 6 x 4\n",
       "\n",
       "| V1 &lt;chr&gt; | V2 &lt;int&gt; | V3 &lt;int&gt; | V4 &lt;chr&gt; |\n",
       "|---|---|---|---|\n",
       "| chr1 | 782207 | 782207 | rs144155419    |\n",
       "| chr1 | 784474 | 784474 | 1:719854_CAG_C |\n",
       "| chr1 | 790021 | 790021 | rs553642122    |\n",
       "| chr1 | 801309 | 801309 | rs181876450    |\n",
       "| chr1 | 810831 | 810831 | rs201075335    |\n",
       "| chr1 | 815963 | 815963 | rs28544273     |\n",
       "\n"
      ],
      "text/plain": [
       "  V1   V2     V3     V4            \n",
       "1 chr1 782207 782207 rs144155419   \n",
       "2 chr1 784474 784474 1:719854_CAG_C\n",
       "3 chr1 790021 790021 rs553642122   \n",
       "4 chr1 801309 801309 rs181876450   \n",
       "5 chr1 810831 810831 rs201075335   \n",
       "6 chr1 815963 815963 rs28544273    "
      ]
     },
     "metadata": {},
     "output_type": "display_data"
    }
   ],
   "source": [
    "head(aging_hg38)"
   ]
  },
  {
   "cell_type": "code",
   "execution_count": 295,
   "id": "6fe839b9-9e4a-4f9d-911d-89e9f40acd45",
   "metadata": {
    "kernel": "SoS",
    "vscode": {
     "languageId": "r"
    }
   },
   "outputs": [],
   "source": [
    "aging_hg38 = aging_hg38[,-3]"
   ]
  },
  {
   "cell_type": "code",
   "execution_count": 296,
   "id": "9f792372-5658-4192-b301-3905ee7c08ed",
   "metadata": {
    "kernel": "SoS",
    "vscode": {
     "languageId": "r"
    }
   },
   "outputs": [],
   "source": [
    "colnames(aging_hg38) <- c(\"#CHROM\",\"POS\",\"ID\")"
   ]
  },
  {
   "cell_type": "code",
   "execution_count": 297,
   "id": "bfc449c8-5c07-4519-9baa-7c1a0b66d3f5",
   "metadata": {
    "kernel": "SoS",
    "vscode": {
     "languageId": "r"
    }
   },
   "outputs": [],
   "source": [
    "aging_hg38 = aging_hg38 |> mutate(`#CHROM` = gsub(\"chr\", \"\", `#CHROM`))"
   ]
  },
  {
   "cell_type": "code",
   "execution_count": 298,
   "id": "96902063-b9e5-46de-84fd-a843fcf51b55",
   "metadata": {
    "kernel": "SoS",
    "vscode": {
     "languageId": "r"
    }
   },
   "outputs": [
    {
     "name": "stderr",
     "output_type": "stream",
     "text": [
      "Warning message:\n",
      "\"\u001b[1m\u001b[22mThere was 1 warning in `mutate()`.\n",
      "\u001b[1m\u001b[22m\u001b[36mi\u001b[39m In argument: `#CHROM = as.integer(`#CHROM`)`.\n",
      "Caused by warning:\n",
      "\u001b[33m!\u001b[39m NAs introduced by coercion\"\n"
     ]
    }
   ],
   "source": [
    "aging_hg38 = aging_hg38 |> mutate(`#CHROM`=as.integer(`#CHROM`))"
   ]
  },
  {
   "cell_type": "code",
   "execution_count": 299,
   "id": "578622a2-4d6f-43d8-8746-e8ebb589b71f",
   "metadata": {
    "kernel": "SoS",
    "vscode": {
     "languageId": "r"
    }
   },
   "outputs": [],
   "source": [
    "aging_hg38 = aging_hg38 |> filter(!is.na(`#CHROM`))"
   ]
  },
  {
   "cell_type": "code",
   "execution_count": 300,
   "id": "3f7f51ce-7708-47c2-a6e6-62e97672ba99",
   "metadata": {
    "kernel": "SoS",
    "vscode": {
     "languageId": "r"
    }
   },
   "outputs": [
    {
     "data": {
      "text/html": [
       "<table class=\"dataframe\">\n",
       "<caption>A data.table: 6 x 3</caption>\n",
       "<thead>\n",
       "\t<tr><th scope=col>#CHROM</th><th scope=col>POS</th><th scope=col>ID</th></tr>\n",
       "\t<tr><th scope=col>&lt;int&gt;</th><th scope=col>&lt;int&gt;</th><th scope=col>&lt;chr&gt;</th></tr>\n",
       "</thead>\n",
       "<tbody>\n",
       "\t<tr><td>1</td><td>782207</td><td>rs144155419   </td></tr>\n",
       "\t<tr><td>1</td><td>784474</td><td>1:719854_CAG_C</td></tr>\n",
       "\t<tr><td>1</td><td>790021</td><td>rs553642122   </td></tr>\n",
       "\t<tr><td>1</td><td>801309</td><td>rs181876450   </td></tr>\n",
       "\t<tr><td>1</td><td>810831</td><td>rs201075335   </td></tr>\n",
       "\t<tr><td>1</td><td>815963</td><td>rs28544273    </td></tr>\n",
       "</tbody>\n",
       "</table>\n"
      ],
      "text/latex": [
       "A data.table: 6 x 3\n",
       "\\begin{tabular}{lll}\n",
       " \\#CHROM & POS & ID\\\\\n",
       " <int> & <int> & <chr>\\\\\n",
       "\\hline\n",
       "\t 1 & 782207 & rs144155419   \\\\\n",
       "\t 1 & 784474 & 1:719854\\_CAG\\_C\\\\\n",
       "\t 1 & 790021 & rs553642122   \\\\\n",
       "\t 1 & 801309 & rs181876450   \\\\\n",
       "\t 1 & 810831 & rs201075335   \\\\\n",
       "\t 1 & 815963 & rs28544273    \\\\\n",
       "\\end{tabular}\n"
      ],
      "text/markdown": [
       "\n",
       "A data.table: 6 x 3\n",
       "\n",
       "| #CHROM &lt;int&gt; | POS &lt;int&gt; | ID &lt;chr&gt; |\n",
       "|---|---|---|\n",
       "| 1 | 782207 | rs144155419    |\n",
       "| 1 | 784474 | 1:719854_CAG_C |\n",
       "| 1 | 790021 | rs553642122    |\n",
       "| 1 | 801309 | rs181876450    |\n",
       "| 1 | 810831 | rs201075335    |\n",
       "| 1 | 815963 | rs28544273     |\n",
       "\n"
      ],
      "text/plain": [
       "  #CHROM POS    ID            \n",
       "1 1      782207 rs144155419   \n",
       "2 1      784474 1:719854_CAG_C\n",
       "3 1      790021 rs553642122   \n",
       "4 1      801309 rs181876450   \n",
       "5 1      810831 rs201075335   \n",
       "6 1      815963 rs28544273    "
      ]
     },
     "metadata": {},
     "output_type": "display_data"
    },
    {
     "data": {
      "text/html": [
       "<style>\n",
       ".list-inline {list-style: none; margin:0; padding: 0}\n",
       ".list-inline>li {display: inline-block}\n",
       ".list-inline>li:not(:last-child)::after {content: \"\\00b7\"; padding: 0 .5ex}\n",
       "</style>\n",
       "<ol class=list-inline><li>8466963</li><li>3</li></ol>\n"
      ],
      "text/latex": [
       "\\begin{enumerate*}\n",
       "\\item 8466963\n",
       "\\item 3\n",
       "\\end{enumerate*}\n"
      ],
      "text/markdown": [
       "1. 8466963\n",
       "2. 3\n",
       "\n",
       "\n"
      ],
      "text/plain": [
       "[1] 8466963       3"
      ]
     },
     "metadata": {},
     "output_type": "display_data"
    }
   ],
   "source": [
    "head(aging_hg38)\n",
    "dim(aging_hg38)"
   ]
  },
  {
   "cell_type": "code",
   "execution_count": 301,
   "id": "0c59d887-cf6d-4ff6-ac82-cc81484c4179",
   "metadata": {
    "kernel": "SoS",
    "vscode": {
     "languageId": "r"
    }
   },
   "outputs": [
    {
     "data": {
      "text/html": [
       "<style>\n",
       ".list-inline {list-style: none; margin:0; padding: 0}\n",
       ".list-inline>li {display: inline-block}\n",
       ".list-inline>li:not(:last-child)::after {content: \"\\00b7\"; padding: 0 .5ex}\n",
       "</style>\n",
       "<ol class=list-inline><li>1</li><li>21</li><li>12</li><li>2</li><li>3</li><li>4</li><li>5</li><li>6</li><li>9</li><li>7</li><li>20</li><li>8</li><li>10</li><li>11</li><li>13</li><li>14</li><li>15</li><li>16</li><li>17</li><li>18</li><li>19</li><li>22</li></ol>\n"
      ],
      "text/latex": [
       "\\begin{enumerate*}\n",
       "\\item 1\n",
       "\\item 21\n",
       "\\item 12\n",
       "\\item 2\n",
       "\\item 3\n",
       "\\item 4\n",
       "\\item 5\n",
       "\\item 6\n",
       "\\item 9\n",
       "\\item 7\n",
       "\\item 20\n",
       "\\item 8\n",
       "\\item 10\n",
       "\\item 11\n",
       "\\item 13\n",
       "\\item 14\n",
       "\\item 15\n",
       "\\item 16\n",
       "\\item 17\n",
       "\\item 18\n",
       "\\item 19\n",
       "\\item 22\n",
       "\\end{enumerate*}\n"
      ],
      "text/markdown": [
       "1. 1\n",
       "2. 21\n",
       "3. 12\n",
       "4. 2\n",
       "5. 3\n",
       "6. 4\n",
       "7. 5\n",
       "8. 6\n",
       "9. 9\n",
       "10. 7\n",
       "11. 20\n",
       "12. 8\n",
       "13. 10\n",
       "14. 11\n",
       "15. 13\n",
       "16. 14\n",
       "17. 15\n",
       "18. 16\n",
       "19. 17\n",
       "20. 18\n",
       "21. 19\n",
       "22. 22\n",
       "\n",
       "\n"
      ],
      "text/plain": [
       " [1]  1 21 12  2  3  4  5  6  9  7 20  8 10 11 13 14 15 16 17 18 19 22"
      ]
     },
     "metadata": {},
     "output_type": "display_data"
    }
   ],
   "source": [
    "unique(aging_hg38$`#CHROM`)"
   ]
  },
  {
   "cell_type": "code",
   "execution_count": 260,
   "id": "8a6b51fc-0f01-4417-bd6e-c3f6159d517f",
   "metadata": {
    "kernel": "SoS",
    "vscode": {
     "languageId": "r"
    }
   },
   "outputs": [],
   "source": [
    "aging1_remain = aging1 |> select(-`#CHROM`, -POS)\n",
    "aging1_hg38_final = aging1_remain |> inner_join(aging_hg38, by = 'ID')"
   ]
  },
  {
   "cell_type": "code",
   "execution_count": 261,
   "id": "ffa1c22a-7353-400f-a1de-e7fbd4fbe685",
   "metadata": {
    "kernel": "SoS",
    "vscode": {
     "languageId": "r"
    }
   },
   "outputs": [
    {
     "data": {
      "text/html": [
       "<table class=\"dataframe\">\n",
       "<caption>A data.table: 6 x 13</caption>\n",
       "<thead>\n",
       "\t<tr><th scope=col>ID</th><th scope=col>REF</th><th scope=col>ALT</th><th scope=col>A1</th><th scope=col>TEST</th><th scope=col>OBS_CT</th><th scope=col>BETA</th><th scope=col>SE</th><th scope=col>T_STAT</th><th scope=col>P</th><th scope=col>ERRCODE</th><th scope=col>#CHROM</th><th scope=col>POS</th></tr>\n",
       "\t<tr><th scope=col>&lt;chr&gt;</th><th scope=col>&lt;chr&gt;</th><th scope=col>&lt;chr&gt;</th><th scope=col>&lt;chr&gt;</th><th scope=col>&lt;chr&gt;</th><th scope=col>&lt;int&gt;</th><th scope=col>&lt;dbl&gt;</th><th scope=col>&lt;dbl&gt;</th><th scope=col>&lt;dbl&gt;</th><th scope=col>&lt;dbl&gt;</th><th scope=col>&lt;chr&gt;</th><th scope=col>&lt;int&gt;</th><th scope=col>&lt;int&gt;</th></tr>\n",
       "</thead>\n",
       "<tbody>\n",
       "\t<tr><td>rs144155419   </td><td>G  </td><td>A </td><td>A </td><td>ADD</td><td>32139</td><td> 0.03875060</td><td>0.0384495</td><td> 1.0078300</td><td>0.313543</td><td>.</td><td>1</td><td>782207</td></tr>\n",
       "\t<tr><td>1:719854_CAG_C</td><td>CAG</td><td>C </td><td>C </td><td>ADD</td><td>32051</td><td>-0.00561508</td><td>0.0712650</td><td>-0.0787915</td><td>0.937199</td><td>.</td><td>1</td><td>784474</td></tr>\n",
       "\t<tr><td>rs553642122   </td><td>C  </td><td>T </td><td>T </td><td>ADD</td><td>32156</td><td>-0.02123150</td><td>0.0709291</td><td>-0.2993340</td><td>0.764687</td><td>.</td><td>1</td><td>790021</td></tr>\n",
       "\t<tr><td>rs181876450   </td><td>T  </td><td>C </td><td>C </td><td>ADD</td><td>31985</td><td>-0.04611840</td><td>0.0570188</td><td>-0.8088270</td><td>0.418620</td><td>.</td><td>1</td><td>801309</td></tr>\n",
       "\t<tr><td>rs201075335   </td><td>A  </td><td>AG</td><td>AG</td><td>ADD</td><td>31857</td><td> 0.00762611</td><td>0.0242194</td><td> 0.3148760</td><td>0.752858</td><td>.</td><td>1</td><td>810831</td></tr>\n",
       "\t<tr><td>rs28544273    </td><td>T  </td><td>A </td><td>A </td><td>ADD</td><td>32270</td><td>-0.00561255</td><td>0.0120832</td><td>-0.4644920</td><td>0.642298</td><td>.</td><td>1</td><td>815963</td></tr>\n",
       "</tbody>\n",
       "</table>\n"
      ],
      "text/latex": [
       "A data.table: 6 x 13\n",
       "\\begin{tabular}{lllllllllllll}\n",
       " ID & REF & ALT & A1 & TEST & OBS\\_CT & BETA & SE & T\\_STAT & P & ERRCODE & \\#CHROM & POS\\\\\n",
       " <chr> & <chr> & <chr> & <chr> & <chr> & <int> & <dbl> & <dbl> & <dbl> & <dbl> & <chr> & <int> & <int>\\\\\n",
       "\\hline\n",
       "\t rs144155419    & G   & A  & A  & ADD & 32139 &  0.03875060 & 0.0384495 &  1.0078300 & 0.313543 & . & 1 & 782207\\\\\n",
       "\t 1:719854\\_CAG\\_C & CAG & C  & C  & ADD & 32051 & -0.00561508 & 0.0712650 & -0.0787915 & 0.937199 & . & 1 & 784474\\\\\n",
       "\t rs553642122    & C   & T  & T  & ADD & 32156 & -0.02123150 & 0.0709291 & -0.2993340 & 0.764687 & . & 1 & 790021\\\\\n",
       "\t rs181876450    & T   & C  & C  & ADD & 31985 & -0.04611840 & 0.0570188 & -0.8088270 & 0.418620 & . & 1 & 801309\\\\\n",
       "\t rs201075335    & A   & AG & AG & ADD & 31857 &  0.00762611 & 0.0242194 &  0.3148760 & 0.752858 & . & 1 & 810831\\\\\n",
       "\t rs28544273     & T   & A  & A  & ADD & 32270 & -0.00561255 & 0.0120832 & -0.4644920 & 0.642298 & . & 1 & 815963\\\\\n",
       "\\end{tabular}\n"
      ],
      "text/markdown": [
       "\n",
       "A data.table: 6 x 13\n",
       "\n",
       "| ID &lt;chr&gt; | REF &lt;chr&gt; | ALT &lt;chr&gt; | A1 &lt;chr&gt; | TEST &lt;chr&gt; | OBS_CT &lt;int&gt; | BETA &lt;dbl&gt; | SE &lt;dbl&gt; | T_STAT &lt;dbl&gt; | P &lt;dbl&gt; | ERRCODE &lt;chr&gt; | #CHROM &lt;int&gt; | POS &lt;int&gt; |\n",
       "|---|---|---|---|---|---|---|---|---|---|---|---|---|\n",
       "| rs144155419    | G   | A  | A  | ADD | 32139 |  0.03875060 | 0.0384495 |  1.0078300 | 0.313543 | . | 1 | 782207 |\n",
       "| 1:719854_CAG_C | CAG | C  | C  | ADD | 32051 | -0.00561508 | 0.0712650 | -0.0787915 | 0.937199 | . | 1 | 784474 |\n",
       "| rs553642122    | C   | T  | T  | ADD | 32156 | -0.02123150 | 0.0709291 | -0.2993340 | 0.764687 | . | 1 | 790021 |\n",
       "| rs181876450    | T   | C  | C  | ADD | 31985 | -0.04611840 | 0.0570188 | -0.8088270 | 0.418620 | . | 1 | 801309 |\n",
       "| rs201075335    | A   | AG | AG | ADD | 31857 |  0.00762611 | 0.0242194 |  0.3148760 | 0.752858 | . | 1 | 810831 |\n",
       "| rs28544273     | T   | A  | A  | ADD | 32270 | -0.00561255 | 0.0120832 | -0.4644920 | 0.642298 | . | 1 | 815963 |\n",
       "\n"
      ],
      "text/plain": [
       "  ID             REF ALT A1 TEST OBS_CT BETA        SE        T_STAT    \n",
       "1 rs144155419    G   A   A  ADD  32139   0.03875060 0.0384495  1.0078300\n",
       "2 1:719854_CAG_C CAG C   C  ADD  32051  -0.00561508 0.0712650 -0.0787915\n",
       "3 rs553642122    C   T   T  ADD  32156  -0.02123150 0.0709291 -0.2993340\n",
       "4 rs181876450    T   C   C  ADD  31985  -0.04611840 0.0570188 -0.8088270\n",
       "5 rs201075335    A   AG  AG ADD  31857   0.00762611 0.0242194  0.3148760\n",
       "6 rs28544273     T   A   A  ADD  32270  -0.00561255 0.0120832 -0.4644920\n",
       "  P        ERRCODE #CHROM POS   \n",
       "1 0.313543 .       1      782207\n",
       "2 0.937199 .       1      784474\n",
       "3 0.764687 .       1      790021\n",
       "4 0.418620 .       1      801309\n",
       "5 0.752858 .       1      810831\n",
       "6 0.642298 .       1      815963"
      ]
     },
     "metadata": {},
     "output_type": "display_data"
    },
    {
     "data": {
      "text/html": [
       "<style>\n",
       ".list-inline {list-style: none; margin:0; padding: 0}\n",
       ".list-inline>li {display: inline-block}\n",
       ".list-inline>li:not(:last-child)::after {content: \"\\00b7\"; padding: 0 .5ex}\n",
       "</style>\n",
       "<ol class=list-inline><li>8466963</li><li>13</li></ol>\n"
      ],
      "text/latex": [
       "\\begin{enumerate*}\n",
       "\\item 8466963\n",
       "\\item 13\n",
       "\\end{enumerate*}\n"
      ],
      "text/markdown": [
       "1. 8466963\n",
       "2. 13\n",
       "\n",
       "\n"
      ],
      "text/plain": [
       "[1] 8466963      13"
      ]
     },
     "metadata": {},
     "output_type": "display_data"
    }
   ],
   "source": [
    "head(aging1_hg38_final)\n",
    "dim(aging1_hg38_final)"
   ]
  },
  {
   "cell_type": "code",
   "execution_count": 262,
   "id": "49a958fc-8a49-4203-827f-51b04b26538e",
   "metadata": {
    "kernel": "SoS",
    "vscode": {
     "languageId": "r"
    }
   },
   "outputs": [],
   "source": [
    "fwrite(aging1_hg38_final, \"/home/ubuntu/project/image_QTL/hg38/surrealgan_aging_pheno_normalized_residualized.r1.glm.linear_hg38.gz\", sep = '\\t')"
   ]
  },
  {
   "cell_type": "markdown",
   "id": "62ff0fba-97e0-4693-944c-1ff339b2bbf2",
   "metadata": {
    "kernel": "SoS"
   },
   "source": [
    "## aging2"
   ]
  },
  {
   "cell_type": "code",
   "execution_count": 263,
   "id": "743c7b32-95fa-4202-bcd1-60208490c306",
   "metadata": {
    "kernel": "SoS",
    "vscode": {
     "languageId": "r"
    }
   },
   "outputs": [],
   "source": [
    "aging2 = fread(\"~/data/GWAS/image_GWAS/surrealgan_aging_pheno_normalized_residualized.r2.glm.linear\")"
   ]
  },
  {
   "cell_type": "code",
   "execution_count": 105,
   "id": "f3d74f77-201c-4f0a-a094-3e521868b894",
   "metadata": {
    "kernel": "SoS",
    "vscode": {
     "languageId": "r"
    }
   },
   "outputs": [
    {
     "data": {
      "text/html": [
       "<table class=\"dataframe\">\n",
       "<caption>A data.table: 6 x 13</caption>\n",
       "<thead>\n",
       "\t<tr><th scope=col>#CHROM</th><th scope=col>POS</th><th scope=col>ID</th><th scope=col>REF</th><th scope=col>ALT</th><th scope=col>A1</th><th scope=col>TEST</th><th scope=col>OBS_CT</th><th scope=col>BETA</th><th scope=col>SE</th><th scope=col>T_STAT</th><th scope=col>P</th><th scope=col>ERRCODE</th></tr>\n",
       "\t<tr><th scope=col>&lt;int&gt;</th><th scope=col>&lt;int&gt;</th><th scope=col>&lt;chr&gt;</th><th scope=col>&lt;chr&gt;</th><th scope=col>&lt;chr&gt;</th><th scope=col>&lt;chr&gt;</th><th scope=col>&lt;chr&gt;</th><th scope=col>&lt;int&gt;</th><th scope=col>&lt;dbl&gt;</th><th scope=col>&lt;dbl&gt;</th><th scope=col>&lt;dbl&gt;</th><th scope=col>&lt;dbl&gt;</th><th scope=col>&lt;chr&gt;</th></tr>\n",
       "</thead>\n",
       "<tbody>\n",
       "\t<tr><td>1</td><td>717587</td><td>rs144155419   </td><td>G  </td><td>A </td><td>A </td><td>ADD</td><td>32139</td><td> 0.031892000</td><td>0.0384615</td><td> 0.829192</td><td>0.4070020</td><td>.</td></tr>\n",
       "\t<tr><td>1</td><td>719854</td><td>1:719854_CAG_C</td><td>CAG</td><td>C </td><td>C </td><td>ADD</td><td>32051</td><td>-0.019069100</td><td>0.0713036</td><td>-0.267435</td><td>0.7891360</td><td>.</td></tr>\n",
       "\t<tr><td>1</td><td>725401</td><td>rs553642122   </td><td>C  </td><td>T </td><td>T </td><td>ADD</td><td>32156</td><td>-0.157620000</td><td>0.0709128</td><td>-2.222730</td><td>0.0262407</td><td>.</td></tr>\n",
       "\t<tr><td>1</td><td>736689</td><td>rs181876450   </td><td>T  </td><td>C </td><td>C </td><td>ADD</td><td>31985</td><td> 0.081722400</td><td>0.0570835</td><td> 1.431630</td><td>0.1522590</td><td>.</td></tr>\n",
       "\t<tr><td>1</td><td>746211</td><td>rs201075335   </td><td>A  </td><td>AG</td><td>AG</td><td>ADD</td><td>31857</td><td>-0.014591300</td><td>0.0242313</td><td>-0.602165</td><td>0.5470690</td><td>.</td></tr>\n",
       "\t<tr><td>1</td><td>751343</td><td>rs28544273    </td><td>T  </td><td>A </td><td>A </td><td>ADD</td><td>32270</td><td> 0.000760252</td><td>0.0120759</td><td> 0.062956</td><td>0.9498020</td><td>.</td></tr>\n",
       "</tbody>\n",
       "</table>\n"
      ],
      "text/latex": [
       "A data.table: 6 x 13\n",
       "\\begin{tabular}{lllllllllllll}\n",
       " \\#CHROM & POS & ID & REF & ALT & A1 & TEST & OBS\\_CT & BETA & SE & T\\_STAT & P & ERRCODE\\\\\n",
       " <int> & <int> & <chr> & <chr> & <chr> & <chr> & <chr> & <int> & <dbl> & <dbl> & <dbl> & <dbl> & <chr>\\\\\n",
       "\\hline\n",
       "\t 1 & 717587 & rs144155419    & G   & A  & A  & ADD & 32139 &  0.031892000 & 0.0384615 &  0.829192 & 0.4070020 & .\\\\\n",
       "\t 1 & 719854 & 1:719854\\_CAG\\_C & CAG & C  & C  & ADD & 32051 & -0.019069100 & 0.0713036 & -0.267435 & 0.7891360 & .\\\\\n",
       "\t 1 & 725401 & rs553642122    & C   & T  & T  & ADD & 32156 & -0.157620000 & 0.0709128 & -2.222730 & 0.0262407 & .\\\\\n",
       "\t 1 & 736689 & rs181876450    & T   & C  & C  & ADD & 31985 &  0.081722400 & 0.0570835 &  1.431630 & 0.1522590 & .\\\\\n",
       "\t 1 & 746211 & rs201075335    & A   & AG & AG & ADD & 31857 & -0.014591300 & 0.0242313 & -0.602165 & 0.5470690 & .\\\\\n",
       "\t 1 & 751343 & rs28544273     & T   & A  & A  & ADD & 32270 &  0.000760252 & 0.0120759 &  0.062956 & 0.9498020 & .\\\\\n",
       "\\end{tabular}\n"
      ],
      "text/markdown": [
       "\n",
       "A data.table: 6 x 13\n",
       "\n",
       "| #CHROM &lt;int&gt; | POS &lt;int&gt; | ID &lt;chr&gt; | REF &lt;chr&gt; | ALT &lt;chr&gt; | A1 &lt;chr&gt; | TEST &lt;chr&gt; | OBS_CT &lt;int&gt; | BETA &lt;dbl&gt; | SE &lt;dbl&gt; | T_STAT &lt;dbl&gt; | P &lt;dbl&gt; | ERRCODE &lt;chr&gt; |\n",
       "|---|---|---|---|---|---|---|---|---|---|---|---|---|\n",
       "| 1 | 717587 | rs144155419    | G   | A  | A  | ADD | 32139 |  0.031892000 | 0.0384615 |  0.829192 | 0.4070020 | . |\n",
       "| 1 | 719854 | 1:719854_CAG_C | CAG | C  | C  | ADD | 32051 | -0.019069100 | 0.0713036 | -0.267435 | 0.7891360 | . |\n",
       "| 1 | 725401 | rs553642122    | C   | T  | T  | ADD | 32156 | -0.157620000 | 0.0709128 | -2.222730 | 0.0262407 | . |\n",
       "| 1 | 736689 | rs181876450    | T   | C  | C  | ADD | 31985 |  0.081722400 | 0.0570835 |  1.431630 | 0.1522590 | . |\n",
       "| 1 | 746211 | rs201075335    | A   | AG | AG | ADD | 31857 | -0.014591300 | 0.0242313 | -0.602165 | 0.5470690 | . |\n",
       "| 1 | 751343 | rs28544273     | T   | A  | A  | ADD | 32270 |  0.000760252 | 0.0120759 |  0.062956 | 0.9498020 | . |\n",
       "\n"
      ],
      "text/plain": [
       "  #CHROM POS    ID             REF ALT A1 TEST OBS_CT BETA         SE       \n",
       "1 1      717587 rs144155419    G   A   A  ADD  32139   0.031892000 0.0384615\n",
       "2 1      719854 1:719854_CAG_C CAG C   C  ADD  32051  -0.019069100 0.0713036\n",
       "3 1      725401 rs553642122    C   T   T  ADD  32156  -0.157620000 0.0709128\n",
       "4 1      736689 rs181876450    T   C   C  ADD  31985   0.081722400 0.0570835\n",
       "5 1      746211 rs201075335    A   AG  AG ADD  31857  -0.014591300 0.0242313\n",
       "6 1      751343 rs28544273     T   A   A  ADD  32270   0.000760252 0.0120759\n",
       "  T_STAT    P         ERRCODE\n",
       "1  0.829192 0.4070020 .      \n",
       "2 -0.267435 0.7891360 .      \n",
       "3 -2.222730 0.0262407 .      \n",
       "4  1.431630 0.1522590 .      \n",
       "5 -0.602165 0.5470690 .      \n",
       "6  0.062956 0.9498020 .      "
      ]
     },
     "metadata": {},
     "output_type": "display_data"
    }
   ],
   "source": [
    "head(aging2)"
   ]
  },
  {
   "cell_type": "code",
   "execution_count": 274,
   "id": "a01f4bd0-5dcd-440b-a5f6-08044f9ff9fb",
   "metadata": {
    "kernel": "SoS",
    "vscode": {
     "languageId": "r"
    }
   },
   "outputs": [],
   "source": [
    "aging2_remain = aging2 |> select(-`#CHROM`, -POS)\n",
    "aging2_hg38_final = aging2_remain |> inner_join(aging_hg38, by = 'ID')"
   ]
  },
  {
   "cell_type": "code",
   "execution_count": 275,
   "id": "3ba759cb-762e-4b34-9842-9f44afc760dd",
   "metadata": {
    "kernel": "SoS",
    "vscode": {
     "languageId": "r"
    }
   },
   "outputs": [
    {
     "data": {
      "text/html": [
       "<table class=\"dataframe\">\n",
       "<caption>A data.table: 6 x 13</caption>\n",
       "<thead>\n",
       "\t<tr><th scope=col>ID</th><th scope=col>REF</th><th scope=col>ALT</th><th scope=col>A1</th><th scope=col>TEST</th><th scope=col>OBS_CT</th><th scope=col>BETA</th><th scope=col>SE</th><th scope=col>T_STAT</th><th scope=col>P</th><th scope=col>ERRCODE</th><th scope=col>#CHROM</th><th scope=col>POS</th></tr>\n",
       "\t<tr><th scope=col>&lt;chr&gt;</th><th scope=col>&lt;chr&gt;</th><th scope=col>&lt;chr&gt;</th><th scope=col>&lt;chr&gt;</th><th scope=col>&lt;chr&gt;</th><th scope=col>&lt;int&gt;</th><th scope=col>&lt;dbl&gt;</th><th scope=col>&lt;dbl&gt;</th><th scope=col>&lt;dbl&gt;</th><th scope=col>&lt;dbl&gt;</th><th scope=col>&lt;chr&gt;</th><th scope=col>&lt;int&gt;</th><th scope=col>&lt;int&gt;</th></tr>\n",
       "</thead>\n",
       "<tbody>\n",
       "\t<tr><td>rs144155419   </td><td>G  </td><td>A </td><td>A </td><td>ADD</td><td>32139</td><td> 0.031892000</td><td>0.0384615</td><td> 0.829192</td><td>0.4070020</td><td>.</td><td>1</td><td>782207</td></tr>\n",
       "\t<tr><td>1:719854_CAG_C</td><td>CAG</td><td>C </td><td>C </td><td>ADD</td><td>32051</td><td>-0.019069100</td><td>0.0713036</td><td>-0.267435</td><td>0.7891360</td><td>.</td><td>1</td><td>784474</td></tr>\n",
       "\t<tr><td>rs553642122   </td><td>C  </td><td>T </td><td>T </td><td>ADD</td><td>32156</td><td>-0.157620000</td><td>0.0709128</td><td>-2.222730</td><td>0.0262407</td><td>.</td><td>1</td><td>790021</td></tr>\n",
       "\t<tr><td>rs181876450   </td><td>T  </td><td>C </td><td>C </td><td>ADD</td><td>31985</td><td> 0.081722400</td><td>0.0570835</td><td> 1.431630</td><td>0.1522590</td><td>.</td><td>1</td><td>801309</td></tr>\n",
       "\t<tr><td>rs201075335   </td><td>A  </td><td>AG</td><td>AG</td><td>ADD</td><td>31857</td><td>-0.014591300</td><td>0.0242313</td><td>-0.602165</td><td>0.5470690</td><td>.</td><td>1</td><td>810831</td></tr>\n",
       "\t<tr><td>rs28544273    </td><td>T  </td><td>A </td><td>A </td><td>ADD</td><td>32270</td><td> 0.000760252</td><td>0.0120759</td><td> 0.062956</td><td>0.9498020</td><td>.</td><td>1</td><td>815963</td></tr>\n",
       "</tbody>\n",
       "</table>\n"
      ],
      "text/latex": [
       "A data.table: 6 x 13\n",
       "\\begin{tabular}{lllllllllllll}\n",
       " ID & REF & ALT & A1 & TEST & OBS\\_CT & BETA & SE & T\\_STAT & P & ERRCODE & \\#CHROM & POS\\\\\n",
       " <chr> & <chr> & <chr> & <chr> & <chr> & <int> & <dbl> & <dbl> & <dbl> & <dbl> & <chr> & <int> & <int>\\\\\n",
       "\\hline\n",
       "\t rs144155419    & G   & A  & A  & ADD & 32139 &  0.031892000 & 0.0384615 &  0.829192 & 0.4070020 & . & 1 & 782207\\\\\n",
       "\t 1:719854\\_CAG\\_C & CAG & C  & C  & ADD & 32051 & -0.019069100 & 0.0713036 & -0.267435 & 0.7891360 & . & 1 & 784474\\\\\n",
       "\t rs553642122    & C   & T  & T  & ADD & 32156 & -0.157620000 & 0.0709128 & -2.222730 & 0.0262407 & . & 1 & 790021\\\\\n",
       "\t rs181876450    & T   & C  & C  & ADD & 31985 &  0.081722400 & 0.0570835 &  1.431630 & 0.1522590 & . & 1 & 801309\\\\\n",
       "\t rs201075335    & A   & AG & AG & ADD & 31857 & -0.014591300 & 0.0242313 & -0.602165 & 0.5470690 & . & 1 & 810831\\\\\n",
       "\t rs28544273     & T   & A  & A  & ADD & 32270 &  0.000760252 & 0.0120759 &  0.062956 & 0.9498020 & . & 1 & 815963\\\\\n",
       "\\end{tabular}\n"
      ],
      "text/markdown": [
       "\n",
       "A data.table: 6 x 13\n",
       "\n",
       "| ID &lt;chr&gt; | REF &lt;chr&gt; | ALT &lt;chr&gt; | A1 &lt;chr&gt; | TEST &lt;chr&gt; | OBS_CT &lt;int&gt; | BETA &lt;dbl&gt; | SE &lt;dbl&gt; | T_STAT &lt;dbl&gt; | P &lt;dbl&gt; | ERRCODE &lt;chr&gt; | #CHROM &lt;int&gt; | POS &lt;int&gt; |\n",
       "|---|---|---|---|---|---|---|---|---|---|---|---|---|\n",
       "| rs144155419    | G   | A  | A  | ADD | 32139 |  0.031892000 | 0.0384615 |  0.829192 | 0.4070020 | . | 1 | 782207 |\n",
       "| 1:719854_CAG_C | CAG | C  | C  | ADD | 32051 | -0.019069100 | 0.0713036 | -0.267435 | 0.7891360 | . | 1 | 784474 |\n",
       "| rs553642122    | C   | T  | T  | ADD | 32156 | -0.157620000 | 0.0709128 | -2.222730 | 0.0262407 | . | 1 | 790021 |\n",
       "| rs181876450    | T   | C  | C  | ADD | 31985 |  0.081722400 | 0.0570835 |  1.431630 | 0.1522590 | . | 1 | 801309 |\n",
       "| rs201075335    | A   | AG | AG | ADD | 31857 | -0.014591300 | 0.0242313 | -0.602165 | 0.5470690 | . | 1 | 810831 |\n",
       "| rs28544273     | T   | A  | A  | ADD | 32270 |  0.000760252 | 0.0120759 |  0.062956 | 0.9498020 | . | 1 | 815963 |\n",
       "\n"
      ],
      "text/plain": [
       "  ID             REF ALT A1 TEST OBS_CT BETA         SE        T_STAT   \n",
       "1 rs144155419    G   A   A  ADD  32139   0.031892000 0.0384615  0.829192\n",
       "2 1:719854_CAG_C CAG C   C  ADD  32051  -0.019069100 0.0713036 -0.267435\n",
       "3 rs553642122    C   T   T  ADD  32156  -0.157620000 0.0709128 -2.222730\n",
       "4 rs181876450    T   C   C  ADD  31985   0.081722400 0.0570835  1.431630\n",
       "5 rs201075335    A   AG  AG ADD  31857  -0.014591300 0.0242313 -0.602165\n",
       "6 rs28544273     T   A   A  ADD  32270   0.000760252 0.0120759  0.062956\n",
       "  P         ERRCODE #CHROM POS   \n",
       "1 0.4070020 .       1      782207\n",
       "2 0.7891360 .       1      784474\n",
       "3 0.0262407 .       1      790021\n",
       "4 0.1522590 .       1      801309\n",
       "5 0.5470690 .       1      810831\n",
       "6 0.9498020 .       1      815963"
      ]
     },
     "metadata": {},
     "output_type": "display_data"
    },
    {
     "data": {
      "text/html": [
       "<style>\n",
       ".list-inline {list-style: none; margin:0; padding: 0}\n",
       ".list-inline>li {display: inline-block}\n",
       ".list-inline>li:not(:last-child)::after {content: \"\\00b7\"; padding: 0 .5ex}\n",
       "</style>\n",
       "<ol class=list-inline><li>8466963</li><li>13</li></ol>\n"
      ],
      "text/latex": [
       "\\begin{enumerate*}\n",
       "\\item 8466963\n",
       "\\item 13\n",
       "\\end{enumerate*}\n"
      ],
      "text/markdown": [
       "1. 8466963\n",
       "2. 13\n",
       "\n",
       "\n"
      ],
      "text/plain": [
       "[1] 8466963      13"
      ]
     },
     "metadata": {},
     "output_type": "display_data"
    }
   ],
   "source": [
    "head(aging2_hg38_final)\n",
    "dim(aging2_hg38_final)"
   ]
  },
  {
   "cell_type": "code",
   "execution_count": 276,
   "id": "b270c452-5663-484f-9ab2-ffb996d5baa5",
   "metadata": {
    "kernel": "SoS",
    "vscode": {
     "languageId": "r"
    }
   },
   "outputs": [],
   "source": [
    "fwrite(aging2_hg38_final, \"/home/ubuntu/project/image_QTL/hg38/surrealgan_aging_pheno_normalized_residualized.r2.glm.linear_hg38.gz\", sep = '\\t')"
   ]
  },
  {
   "cell_type": "markdown",
   "id": "37206357-d98f-41e9-b402-92a48ee24b08",
   "metadata": {
    "kernel": "SoS"
   },
   "source": [
    "## aging3"
   ]
  },
  {
   "cell_type": "markdown",
   "id": "89bfd6f3-8a18-4448-a0e8-82e9830b1654",
   "metadata": {
    "kernel": "SoS"
   },
   "source": [
    "### Merge"
   ]
  },
  {
   "cell_type": "code",
   "execution_count": 277,
   "id": "56a0034c-d5cb-41d5-baf6-f4ced90d3c1e",
   "metadata": {
    "kernel": "SoS",
    "vscode": {
     "languageId": "r"
    }
   },
   "outputs": [],
   "source": [
    "aging3 = fread(\"~/data/GWAS/image_GWAS/surrealgan_aging_pheno_normalized_residualized.r3.glm.linear\")"
   ]
  },
  {
   "cell_type": "code",
   "execution_count": 278,
   "id": "430e7dd2-da19-4b40-ac4f-79cd4ebc8ae1",
   "metadata": {
    "kernel": "SoS",
    "vscode": {
     "languageId": "r"
    }
   },
   "outputs": [
    {
     "data": {
      "text/html": [
       "<table class=\"dataframe\">\n",
       "<caption>A data.table: 6 x 13</caption>\n",
       "<thead>\n",
       "\t<tr><th scope=col>#CHROM</th><th scope=col>POS</th><th scope=col>ID</th><th scope=col>REF</th><th scope=col>ALT</th><th scope=col>A1</th><th scope=col>TEST</th><th scope=col>OBS_CT</th><th scope=col>BETA</th><th scope=col>SE</th><th scope=col>T_STAT</th><th scope=col>P</th><th scope=col>ERRCODE</th></tr>\n",
       "\t<tr><th scope=col>&lt;int&gt;</th><th scope=col>&lt;int&gt;</th><th scope=col>&lt;chr&gt;</th><th scope=col>&lt;chr&gt;</th><th scope=col>&lt;chr&gt;</th><th scope=col>&lt;chr&gt;</th><th scope=col>&lt;chr&gt;</th><th scope=col>&lt;int&gt;</th><th scope=col>&lt;dbl&gt;</th><th scope=col>&lt;dbl&gt;</th><th scope=col>&lt;dbl&gt;</th><th scope=col>&lt;dbl&gt;</th><th scope=col>&lt;chr&gt;</th></tr>\n",
       "</thead>\n",
       "<tbody>\n",
       "\t<tr><td>1</td><td>717587</td><td>rs144155419   </td><td>G  </td><td>A </td><td>A </td><td>ADD</td><td>32139</td><td> 0.02654420</td><td>0.0384743</td><td> 0.689920</td><td>0.4902500</td><td>.</td></tr>\n",
       "\t<tr><td>1</td><td>719854</td><td>1:719854_CAG_C</td><td>CAG</td><td>C </td><td>C </td><td>ADD</td><td>32051</td><td>-0.13097100</td><td>0.0713760</td><td>-1.834940</td><td>0.0665241</td><td>.</td></tr>\n",
       "\t<tr><td>1</td><td>725401</td><td>rs553642122   </td><td>C  </td><td>T </td><td>T </td><td>ADD</td><td>32156</td><td>-0.05472160</td><td>0.0709278</td><td>-0.771511</td><td>0.4404100</td><td>.</td></tr>\n",
       "\t<tr><td>1</td><td>736689</td><td>rs181876450   </td><td>T  </td><td>C </td><td>C </td><td>ADD</td><td>31985</td><td> 0.01096600</td><td>0.0571502</td><td> 0.191881</td><td>0.8478370</td><td>.</td></tr>\n",
       "\t<tr><td>1</td><td>746211</td><td>rs201075335   </td><td>A  </td><td>AG</td><td>AG</td><td>ADD</td><td>31857</td><td> 0.01743680</td><td>0.0242042</td><td> 0.720404</td><td>0.4712820</td><td>.</td></tr>\n",
       "\t<tr><td>1</td><td>751343</td><td>rs28544273    </td><td>T  </td><td>A </td><td>A </td><td>ADD</td><td>32270</td><td>-0.00256608</td><td>0.0120756</td><td>-0.212502</td><td>0.8317170</td><td>.</td></tr>\n",
       "</tbody>\n",
       "</table>\n"
      ],
      "text/latex": [
       "A data.table: 6 x 13\n",
       "\\begin{tabular}{lllllllllllll}\n",
       " \\#CHROM & POS & ID & REF & ALT & A1 & TEST & OBS\\_CT & BETA & SE & T\\_STAT & P & ERRCODE\\\\\n",
       " <int> & <int> & <chr> & <chr> & <chr> & <chr> & <chr> & <int> & <dbl> & <dbl> & <dbl> & <dbl> & <chr>\\\\\n",
       "\\hline\n",
       "\t 1 & 717587 & rs144155419    & G   & A  & A  & ADD & 32139 &  0.02654420 & 0.0384743 &  0.689920 & 0.4902500 & .\\\\\n",
       "\t 1 & 719854 & 1:719854\\_CAG\\_C & CAG & C  & C  & ADD & 32051 & -0.13097100 & 0.0713760 & -1.834940 & 0.0665241 & .\\\\\n",
       "\t 1 & 725401 & rs553642122    & C   & T  & T  & ADD & 32156 & -0.05472160 & 0.0709278 & -0.771511 & 0.4404100 & .\\\\\n",
       "\t 1 & 736689 & rs181876450    & T   & C  & C  & ADD & 31985 &  0.01096600 & 0.0571502 &  0.191881 & 0.8478370 & .\\\\\n",
       "\t 1 & 746211 & rs201075335    & A   & AG & AG & ADD & 31857 &  0.01743680 & 0.0242042 &  0.720404 & 0.4712820 & .\\\\\n",
       "\t 1 & 751343 & rs28544273     & T   & A  & A  & ADD & 32270 & -0.00256608 & 0.0120756 & -0.212502 & 0.8317170 & .\\\\\n",
       "\\end{tabular}\n"
      ],
      "text/markdown": [
       "\n",
       "A data.table: 6 x 13\n",
       "\n",
       "| #CHROM &lt;int&gt; | POS &lt;int&gt; | ID &lt;chr&gt; | REF &lt;chr&gt; | ALT &lt;chr&gt; | A1 &lt;chr&gt; | TEST &lt;chr&gt; | OBS_CT &lt;int&gt; | BETA &lt;dbl&gt; | SE &lt;dbl&gt; | T_STAT &lt;dbl&gt; | P &lt;dbl&gt; | ERRCODE &lt;chr&gt; |\n",
       "|---|---|---|---|---|---|---|---|---|---|---|---|---|\n",
       "| 1 | 717587 | rs144155419    | G   | A  | A  | ADD | 32139 |  0.02654420 | 0.0384743 |  0.689920 | 0.4902500 | . |\n",
       "| 1 | 719854 | 1:719854_CAG_C | CAG | C  | C  | ADD | 32051 | -0.13097100 | 0.0713760 | -1.834940 | 0.0665241 | . |\n",
       "| 1 | 725401 | rs553642122    | C   | T  | T  | ADD | 32156 | -0.05472160 | 0.0709278 | -0.771511 | 0.4404100 | . |\n",
       "| 1 | 736689 | rs181876450    | T   | C  | C  | ADD | 31985 |  0.01096600 | 0.0571502 |  0.191881 | 0.8478370 | . |\n",
       "| 1 | 746211 | rs201075335    | A   | AG | AG | ADD | 31857 |  0.01743680 | 0.0242042 |  0.720404 | 0.4712820 | . |\n",
       "| 1 | 751343 | rs28544273     | T   | A  | A  | ADD | 32270 | -0.00256608 | 0.0120756 | -0.212502 | 0.8317170 | . |\n",
       "\n"
      ],
      "text/plain": [
       "  #CHROM POS    ID             REF ALT A1 TEST OBS_CT BETA        SE       \n",
       "1 1      717587 rs144155419    G   A   A  ADD  32139   0.02654420 0.0384743\n",
       "2 1      719854 1:719854_CAG_C CAG C   C  ADD  32051  -0.13097100 0.0713760\n",
       "3 1      725401 rs553642122    C   T   T  ADD  32156  -0.05472160 0.0709278\n",
       "4 1      736689 rs181876450    T   C   C  ADD  31985   0.01096600 0.0571502\n",
       "5 1      746211 rs201075335    A   AG  AG ADD  31857   0.01743680 0.0242042\n",
       "6 1      751343 rs28544273     T   A   A  ADD  32270  -0.00256608 0.0120756\n",
       "  T_STAT    P         ERRCODE\n",
       "1  0.689920 0.4902500 .      \n",
       "2 -1.834940 0.0665241 .      \n",
       "3 -0.771511 0.4404100 .      \n",
       "4  0.191881 0.8478370 .      \n",
       "5  0.720404 0.4712820 .      \n",
       "6 -0.212502 0.8317170 .      "
      ]
     },
     "metadata": {},
     "output_type": "display_data"
    }
   ],
   "source": [
    "head(aging3)"
   ]
  },
  {
   "cell_type": "code",
   "execution_count": 288,
   "id": "28fa32b4-6855-49cb-afea-150290670eaf",
   "metadata": {
    "kernel": "SoS",
    "vscode": {
     "languageId": "r"
    }
   },
   "outputs": [],
   "source": [
    "aging3_remain = aging3 |> select(-`#CHROM`, -POS)\n",
    "aging3_hg38_final = aging3_remain |> inner_join(aging_hg38, by = 'ID')"
   ]
  },
  {
   "cell_type": "code",
   "execution_count": 289,
   "id": "be7fdf67-638c-406c-b8c4-fd784e635aaf",
   "metadata": {
    "kernel": "SoS",
    "vscode": {
     "languageId": "r"
    }
   },
   "outputs": [
    {
     "data": {
      "text/html": [
       "<table class=\"dataframe\">\n",
       "<caption>A data.table: 6 x 13</caption>\n",
       "<thead>\n",
       "\t<tr><th scope=col>ID</th><th scope=col>REF</th><th scope=col>ALT</th><th scope=col>A1</th><th scope=col>TEST</th><th scope=col>OBS_CT</th><th scope=col>BETA</th><th scope=col>SE</th><th scope=col>T_STAT</th><th scope=col>P</th><th scope=col>ERRCODE</th><th scope=col>#CHROM</th><th scope=col>POS</th></tr>\n",
       "\t<tr><th scope=col>&lt;chr&gt;</th><th scope=col>&lt;chr&gt;</th><th scope=col>&lt;chr&gt;</th><th scope=col>&lt;chr&gt;</th><th scope=col>&lt;chr&gt;</th><th scope=col>&lt;int&gt;</th><th scope=col>&lt;dbl&gt;</th><th scope=col>&lt;dbl&gt;</th><th scope=col>&lt;dbl&gt;</th><th scope=col>&lt;dbl&gt;</th><th scope=col>&lt;chr&gt;</th><th scope=col>&lt;int&gt;</th><th scope=col>&lt;int&gt;</th></tr>\n",
       "</thead>\n",
       "<tbody>\n",
       "\t<tr><td>rs144155419   </td><td>G  </td><td>A </td><td>A </td><td>ADD</td><td>32139</td><td> 0.02654420</td><td>0.0384743</td><td> 0.689920</td><td>0.4902500</td><td>.</td><td>1</td><td>782207</td></tr>\n",
       "\t<tr><td>1:719854_CAG_C</td><td>CAG</td><td>C </td><td>C </td><td>ADD</td><td>32051</td><td>-0.13097100</td><td>0.0713760</td><td>-1.834940</td><td>0.0665241</td><td>.</td><td>1</td><td>784474</td></tr>\n",
       "\t<tr><td>rs553642122   </td><td>C  </td><td>T </td><td>T </td><td>ADD</td><td>32156</td><td>-0.05472160</td><td>0.0709278</td><td>-0.771511</td><td>0.4404100</td><td>.</td><td>1</td><td>790021</td></tr>\n",
       "\t<tr><td>rs181876450   </td><td>T  </td><td>C </td><td>C </td><td>ADD</td><td>31985</td><td> 0.01096600</td><td>0.0571502</td><td> 0.191881</td><td>0.8478370</td><td>.</td><td>1</td><td>801309</td></tr>\n",
       "\t<tr><td>rs201075335   </td><td>A  </td><td>AG</td><td>AG</td><td>ADD</td><td>31857</td><td> 0.01743680</td><td>0.0242042</td><td> 0.720404</td><td>0.4712820</td><td>.</td><td>1</td><td>810831</td></tr>\n",
       "\t<tr><td>rs28544273    </td><td>T  </td><td>A </td><td>A </td><td>ADD</td><td>32270</td><td>-0.00256608</td><td>0.0120756</td><td>-0.212502</td><td>0.8317170</td><td>.</td><td>1</td><td>815963</td></tr>\n",
       "</tbody>\n",
       "</table>\n"
      ],
      "text/latex": [
       "A data.table: 6 x 13\n",
       "\\begin{tabular}{lllllllllllll}\n",
       " ID & REF & ALT & A1 & TEST & OBS\\_CT & BETA & SE & T\\_STAT & P & ERRCODE & \\#CHROM & POS\\\\\n",
       " <chr> & <chr> & <chr> & <chr> & <chr> & <int> & <dbl> & <dbl> & <dbl> & <dbl> & <chr> & <int> & <int>\\\\\n",
       "\\hline\n",
       "\t rs144155419    & G   & A  & A  & ADD & 32139 &  0.02654420 & 0.0384743 &  0.689920 & 0.4902500 & . & 1 & 782207\\\\\n",
       "\t 1:719854\\_CAG\\_C & CAG & C  & C  & ADD & 32051 & -0.13097100 & 0.0713760 & -1.834940 & 0.0665241 & . & 1 & 784474\\\\\n",
       "\t rs553642122    & C   & T  & T  & ADD & 32156 & -0.05472160 & 0.0709278 & -0.771511 & 0.4404100 & . & 1 & 790021\\\\\n",
       "\t rs181876450    & T   & C  & C  & ADD & 31985 &  0.01096600 & 0.0571502 &  0.191881 & 0.8478370 & . & 1 & 801309\\\\\n",
       "\t rs201075335    & A   & AG & AG & ADD & 31857 &  0.01743680 & 0.0242042 &  0.720404 & 0.4712820 & . & 1 & 810831\\\\\n",
       "\t rs28544273     & T   & A  & A  & ADD & 32270 & -0.00256608 & 0.0120756 & -0.212502 & 0.8317170 & . & 1 & 815963\\\\\n",
       "\\end{tabular}\n"
      ],
      "text/markdown": [
       "\n",
       "A data.table: 6 x 13\n",
       "\n",
       "| ID &lt;chr&gt; | REF &lt;chr&gt; | ALT &lt;chr&gt; | A1 &lt;chr&gt; | TEST &lt;chr&gt; | OBS_CT &lt;int&gt; | BETA &lt;dbl&gt; | SE &lt;dbl&gt; | T_STAT &lt;dbl&gt; | P &lt;dbl&gt; | ERRCODE &lt;chr&gt; | #CHROM &lt;int&gt; | POS &lt;int&gt; |\n",
       "|---|---|---|---|---|---|---|---|---|---|---|---|---|\n",
       "| rs144155419    | G   | A  | A  | ADD | 32139 |  0.02654420 | 0.0384743 |  0.689920 | 0.4902500 | . | 1 | 782207 |\n",
       "| 1:719854_CAG_C | CAG | C  | C  | ADD | 32051 | -0.13097100 | 0.0713760 | -1.834940 | 0.0665241 | . | 1 | 784474 |\n",
       "| rs553642122    | C   | T  | T  | ADD | 32156 | -0.05472160 | 0.0709278 | -0.771511 | 0.4404100 | . | 1 | 790021 |\n",
       "| rs181876450    | T   | C  | C  | ADD | 31985 |  0.01096600 | 0.0571502 |  0.191881 | 0.8478370 | . | 1 | 801309 |\n",
       "| rs201075335    | A   | AG | AG | ADD | 31857 |  0.01743680 | 0.0242042 |  0.720404 | 0.4712820 | . | 1 | 810831 |\n",
       "| rs28544273     | T   | A  | A  | ADD | 32270 | -0.00256608 | 0.0120756 | -0.212502 | 0.8317170 | . | 1 | 815963 |\n",
       "\n"
      ],
      "text/plain": [
       "  ID             REF ALT A1 TEST OBS_CT BETA        SE        T_STAT   \n",
       "1 rs144155419    G   A   A  ADD  32139   0.02654420 0.0384743  0.689920\n",
       "2 1:719854_CAG_C CAG C   C  ADD  32051  -0.13097100 0.0713760 -1.834940\n",
       "3 rs553642122    C   T   T  ADD  32156  -0.05472160 0.0709278 -0.771511\n",
       "4 rs181876450    T   C   C  ADD  31985   0.01096600 0.0571502  0.191881\n",
       "5 rs201075335    A   AG  AG ADD  31857   0.01743680 0.0242042  0.720404\n",
       "6 rs28544273     T   A   A  ADD  32270  -0.00256608 0.0120756 -0.212502\n",
       "  P         ERRCODE #CHROM POS   \n",
       "1 0.4902500 .       1      782207\n",
       "2 0.0665241 .       1      784474\n",
       "3 0.4404100 .       1      790021\n",
       "4 0.8478370 .       1      801309\n",
       "5 0.4712820 .       1      810831\n",
       "6 0.8317170 .       1      815963"
      ]
     },
     "metadata": {},
     "output_type": "display_data"
    },
    {
     "data": {
      "text/html": [
       "<style>\n",
       ".list-inline {list-style: none; margin:0; padding: 0}\n",
       ".list-inline>li {display: inline-block}\n",
       ".list-inline>li:not(:last-child)::after {content: \"\\00b7\"; padding: 0 .5ex}\n",
       "</style>\n",
       "<ol class=list-inline><li>8466963</li><li>13</li></ol>\n"
      ],
      "text/latex": [
       "\\begin{enumerate*}\n",
       "\\item 8466963\n",
       "\\item 13\n",
       "\\end{enumerate*}\n"
      ],
      "text/markdown": [
       "1. 8466963\n",
       "2. 13\n",
       "\n",
       "\n"
      ],
      "text/plain": [
       "[1] 8466963      13"
      ]
     },
     "metadata": {},
     "output_type": "display_data"
    }
   ],
   "source": [
    "head(aging3_hg38_final)\n",
    "dim(aging3_hg38_final)"
   ]
  },
  {
   "cell_type": "code",
   "execution_count": 290,
   "id": "6999430a-5ec3-4815-8030-5624cda57146",
   "metadata": {
    "kernel": "SoS",
    "vscode": {
     "languageId": "r"
    }
   },
   "outputs": [],
   "source": [
    "fwrite(aging3_hg38_final, \"/home/ubuntu/project/image_QTL/hg38/surrealgan_aging_pheno_normalized_residualized.r3.glm.linear_hg38.gz\", sep = '\\t')"
   ]
  },
  {
   "cell_type": "markdown",
   "id": "5b5cead0-dd3b-4f40-9c83-a02cefbb6796",
   "metadata": {
    "kernel": "SoS"
   },
   "source": [
    "## aging4"
   ]
  },
  {
   "cell_type": "markdown",
   "id": "714371fa-84fb-4813-b27a-a8b43eb52045",
   "metadata": {
    "kernel": "SoS"
   },
   "source": [
    "### Merge"
   ]
  },
  {
   "cell_type": "code",
   "execution_count": 302,
   "id": "e55a9a69-6a1f-480c-90c4-61946e822003",
   "metadata": {
    "kernel": "SoS",
    "vscode": {
     "languageId": "r"
    }
   },
   "outputs": [],
   "source": [
    "aging4 = fread(\"~/data/GWAS/image_GWAS/surrealgan_aging_pheno_normalized_residualized.r4.glm.linear\")"
   ]
  },
  {
   "cell_type": "code",
   "execution_count": 303,
   "id": "f5cfc9b7-3345-4557-a91e-3c85f6f47641",
   "metadata": {
    "kernel": "SoS",
    "vscode": {
     "languageId": "r"
    }
   },
   "outputs": [],
   "source": [
    "aging4_remain = aging4 |> select(-`#CHROM`, -POS)\n",
    "aging4_hg38_final = aging4_remain |> inner_join(aging_hg38, by = 'ID')"
   ]
  },
  {
   "cell_type": "code",
   "execution_count": 304,
   "id": "baec31e7-2d90-4bfd-aa3a-ec8cd0c148a3",
   "metadata": {
    "kernel": "SoS",
    "vscode": {
     "languageId": "r"
    }
   },
   "outputs": [
    {
     "data": {
      "text/html": [
       "<table class=\"dataframe\">\n",
       "<caption>A data.table: 6 x 13</caption>\n",
       "<thead>\n",
       "\t<tr><th scope=col>ID</th><th scope=col>REF</th><th scope=col>ALT</th><th scope=col>A1</th><th scope=col>TEST</th><th scope=col>OBS_CT</th><th scope=col>BETA</th><th scope=col>SE</th><th scope=col>T_STAT</th><th scope=col>P</th><th scope=col>ERRCODE</th><th scope=col>#CHROM</th><th scope=col>POS</th></tr>\n",
       "\t<tr><th scope=col>&lt;chr&gt;</th><th scope=col>&lt;chr&gt;</th><th scope=col>&lt;chr&gt;</th><th scope=col>&lt;chr&gt;</th><th scope=col>&lt;chr&gt;</th><th scope=col>&lt;int&gt;</th><th scope=col>&lt;dbl&gt;</th><th scope=col>&lt;dbl&gt;</th><th scope=col>&lt;dbl&gt;</th><th scope=col>&lt;dbl&gt;</th><th scope=col>&lt;chr&gt;</th><th scope=col>&lt;int&gt;</th><th scope=col>&lt;int&gt;</th></tr>\n",
       "</thead>\n",
       "<tbody>\n",
       "\t<tr><td>rs144155419   </td><td>G  </td><td>A </td><td>A </td><td>ADD</td><td>32139</td><td> 0.07044600</td><td>0.0384655</td><td> 1.831410</td><td>0.0670486</td><td>.</td><td>1</td><td>782207</td></tr>\n",
       "\t<tr><td>1:719854_CAG_C</td><td>CAG</td><td>C </td><td>C </td><td>ADD</td><td>32051</td><td>-0.02172180</td><td>0.0712553</td><td>-0.304844</td><td>0.7604870</td><td>.</td><td>1</td><td>784474</td></tr>\n",
       "\t<tr><td>rs553642122   </td><td>C  </td><td>T </td><td>T </td><td>ADD</td><td>32156</td><td> 0.11980800</td><td>0.0709338</td><td> 1.689000</td><td>0.0912282</td><td>.</td><td>1</td><td>790021</td></tr>\n",
       "\t<tr><td>rs181876450   </td><td>T  </td><td>C </td><td>C </td><td>ADD</td><td>31985</td><td> 0.00885070</td><td>0.0570479</td><td> 0.155145</td><td>0.8767080</td><td>.</td><td>1</td><td>801309</td></tr>\n",
       "\t<tr><td>rs201075335   </td><td>A  </td><td>AG</td><td>AG</td><td>ADD</td><td>31857</td><td> 0.02539330</td><td>0.0242232</td><td> 1.048300</td><td>0.2945060</td><td>.</td><td>1</td><td>810831</td></tr>\n",
       "\t<tr><td>rs28544273    </td><td>T  </td><td>A </td><td>A </td><td>ADD</td><td>32270</td><td>-0.00208279</td><td>0.0120782</td><td>-0.172442</td><td>0.8630910</td><td>.</td><td>1</td><td>815963</td></tr>\n",
       "</tbody>\n",
       "</table>\n"
      ],
      "text/latex": [
       "A data.table: 6 x 13\n",
       "\\begin{tabular}{lllllllllllll}\n",
       " ID & REF & ALT & A1 & TEST & OBS\\_CT & BETA & SE & T\\_STAT & P & ERRCODE & \\#CHROM & POS\\\\\n",
       " <chr> & <chr> & <chr> & <chr> & <chr> & <int> & <dbl> & <dbl> & <dbl> & <dbl> & <chr> & <int> & <int>\\\\\n",
       "\\hline\n",
       "\t rs144155419    & G   & A  & A  & ADD & 32139 &  0.07044600 & 0.0384655 &  1.831410 & 0.0670486 & . & 1 & 782207\\\\\n",
       "\t 1:719854\\_CAG\\_C & CAG & C  & C  & ADD & 32051 & -0.02172180 & 0.0712553 & -0.304844 & 0.7604870 & . & 1 & 784474\\\\\n",
       "\t rs553642122    & C   & T  & T  & ADD & 32156 &  0.11980800 & 0.0709338 &  1.689000 & 0.0912282 & . & 1 & 790021\\\\\n",
       "\t rs181876450    & T   & C  & C  & ADD & 31985 &  0.00885070 & 0.0570479 &  0.155145 & 0.8767080 & . & 1 & 801309\\\\\n",
       "\t rs201075335    & A   & AG & AG & ADD & 31857 &  0.02539330 & 0.0242232 &  1.048300 & 0.2945060 & . & 1 & 810831\\\\\n",
       "\t rs28544273     & T   & A  & A  & ADD & 32270 & -0.00208279 & 0.0120782 & -0.172442 & 0.8630910 & . & 1 & 815963\\\\\n",
       "\\end{tabular}\n"
      ],
      "text/markdown": [
       "\n",
       "A data.table: 6 x 13\n",
       "\n",
       "| ID &lt;chr&gt; | REF &lt;chr&gt; | ALT &lt;chr&gt; | A1 &lt;chr&gt; | TEST &lt;chr&gt; | OBS_CT &lt;int&gt; | BETA &lt;dbl&gt; | SE &lt;dbl&gt; | T_STAT &lt;dbl&gt; | P &lt;dbl&gt; | ERRCODE &lt;chr&gt; | #CHROM &lt;int&gt; | POS &lt;int&gt; |\n",
       "|---|---|---|---|---|---|---|---|---|---|---|---|---|\n",
       "| rs144155419    | G   | A  | A  | ADD | 32139 |  0.07044600 | 0.0384655 |  1.831410 | 0.0670486 | . | 1 | 782207 |\n",
       "| 1:719854_CAG_C | CAG | C  | C  | ADD | 32051 | -0.02172180 | 0.0712553 | -0.304844 | 0.7604870 | . | 1 | 784474 |\n",
       "| rs553642122    | C   | T  | T  | ADD | 32156 |  0.11980800 | 0.0709338 |  1.689000 | 0.0912282 | . | 1 | 790021 |\n",
       "| rs181876450    | T   | C  | C  | ADD | 31985 |  0.00885070 | 0.0570479 |  0.155145 | 0.8767080 | . | 1 | 801309 |\n",
       "| rs201075335    | A   | AG | AG | ADD | 31857 |  0.02539330 | 0.0242232 |  1.048300 | 0.2945060 | . | 1 | 810831 |\n",
       "| rs28544273     | T   | A  | A  | ADD | 32270 | -0.00208279 | 0.0120782 | -0.172442 | 0.8630910 | . | 1 | 815963 |\n",
       "\n"
      ],
      "text/plain": [
       "  ID             REF ALT A1 TEST OBS_CT BETA        SE        T_STAT   \n",
       "1 rs144155419    G   A   A  ADD  32139   0.07044600 0.0384655  1.831410\n",
       "2 1:719854_CAG_C CAG C   C  ADD  32051  -0.02172180 0.0712553 -0.304844\n",
       "3 rs553642122    C   T   T  ADD  32156   0.11980800 0.0709338  1.689000\n",
       "4 rs181876450    T   C   C  ADD  31985   0.00885070 0.0570479  0.155145\n",
       "5 rs201075335    A   AG  AG ADD  31857   0.02539330 0.0242232  1.048300\n",
       "6 rs28544273     T   A   A  ADD  32270  -0.00208279 0.0120782 -0.172442\n",
       "  P         ERRCODE #CHROM POS   \n",
       "1 0.0670486 .       1      782207\n",
       "2 0.7604870 .       1      784474\n",
       "3 0.0912282 .       1      790021\n",
       "4 0.8767080 .       1      801309\n",
       "5 0.2945060 .       1      810831\n",
       "6 0.8630910 .       1      815963"
      ]
     },
     "metadata": {},
     "output_type": "display_data"
    },
    {
     "data": {
      "text/html": [
       "<style>\n",
       ".list-inline {list-style: none; margin:0; padding: 0}\n",
       ".list-inline>li {display: inline-block}\n",
       ".list-inline>li:not(:last-child)::after {content: \"\\00b7\"; padding: 0 .5ex}\n",
       "</style>\n",
       "<ol class=list-inline><li>8466963</li><li>13</li></ol>\n"
      ],
      "text/latex": [
       "\\begin{enumerate*}\n",
       "\\item 8466963\n",
       "\\item 13\n",
       "\\end{enumerate*}\n"
      ],
      "text/markdown": [
       "1. 8466963\n",
       "2. 13\n",
       "\n",
       "\n"
      ],
      "text/plain": [
       "[1] 8466963      13"
      ]
     },
     "metadata": {},
     "output_type": "display_data"
    }
   ],
   "source": [
    "head(aging4_hg38_final)\n",
    "dim(aging4_hg38_final)"
   ]
  },
  {
   "cell_type": "code",
   "execution_count": 305,
   "id": "976235f5-a992-4dc0-a5ec-559d408472ea",
   "metadata": {
    "kernel": "SoS",
    "vscode": {
     "languageId": "r"
    }
   },
   "outputs": [],
   "source": [
    "fwrite(aging4_hg38_final, \"/home/ubuntu/project/image_QTL/hg38/surrealgan_aging_pheno_normalized_residualized.r4.glm.linear_hg38.gz\", sep = '\\t')"
   ]
  },
  {
   "cell_type": "markdown",
   "id": "62a8e4aa-9055-40ff-bf88-b42160d41504",
   "metadata": {
    "kernel": "SoS"
   },
   "source": [
    "## aging5"
   ]
  },
  {
   "cell_type": "code",
   "execution_count": 306,
   "id": "c932aecf-641d-41d4-b195-641d0a8c0f56",
   "metadata": {
    "kernel": "SoS",
    "vscode": {
     "languageId": "r"
    }
   },
   "outputs": [],
   "source": [
    "aging5 = fread(\"~/data/GWAS/image_GWAS/surrealgan_aging_pheno_normalized_residualized.r5.glm.linear\")"
   ]
  },
  {
   "cell_type": "code",
   "execution_count": 307,
   "id": "dc994d5e-2f69-4408-a85b-fb109c501e34",
   "metadata": {
    "kernel": "SoS",
    "vscode": {
     "languageId": "r"
    }
   },
   "outputs": [],
   "source": [
    "aging5_remain = aging5 |> select(-`#CHROM`, -POS)\n",
    "aging5_hg38_final = aging5_remain |> inner_join(aging_hg38, by = 'ID')"
   ]
  },
  {
   "cell_type": "code",
   "execution_count": 309,
   "id": "20b4c17d-6f4e-4f37-989b-656e760ea964",
   "metadata": {
    "kernel": "SoS",
    "vscode": {
     "languageId": "r"
    }
   },
   "outputs": [
    {
     "data": {
      "text/html": [
       "<table class=\"dataframe\">\n",
       "<caption>A data.table: 6 x 13</caption>\n",
       "<thead>\n",
       "\t<tr><th scope=col>ID</th><th scope=col>REF</th><th scope=col>ALT</th><th scope=col>A1</th><th scope=col>TEST</th><th scope=col>OBS_CT</th><th scope=col>BETA</th><th scope=col>SE</th><th scope=col>T_STAT</th><th scope=col>P</th><th scope=col>ERRCODE</th><th scope=col>#CHROM</th><th scope=col>POS</th></tr>\n",
       "\t<tr><th scope=col>&lt;chr&gt;</th><th scope=col>&lt;chr&gt;</th><th scope=col>&lt;chr&gt;</th><th scope=col>&lt;chr&gt;</th><th scope=col>&lt;chr&gt;</th><th scope=col>&lt;int&gt;</th><th scope=col>&lt;dbl&gt;</th><th scope=col>&lt;dbl&gt;</th><th scope=col>&lt;dbl&gt;</th><th scope=col>&lt;dbl&gt;</th><th scope=col>&lt;chr&gt;</th><th scope=col>&lt;int&gt;</th><th scope=col>&lt;int&gt;</th></tr>\n",
       "</thead>\n",
       "<tbody>\n",
       "\t<tr><td>rs144155419   </td><td>G  </td><td>A </td><td>A </td><td>ADD</td><td>32139</td><td> 0.01242140</td><td>0.0384705</td><td> 0.322883</td><td>0.74678600</td><td>.</td><td>1</td><td>782207</td></tr>\n",
       "\t<tr><td>1:719854_CAG_C</td><td>CAG</td><td>C </td><td>C </td><td>ADD</td><td>32051</td><td>-0.01943330</td><td>0.0712490</td><td>-0.272751</td><td>0.78504600</td><td>.</td><td>1</td><td>784474</td></tr>\n",
       "\t<tr><td>rs553642122   </td><td>C  </td><td>T </td><td>T </td><td>ADD</td><td>32156</td><td>-0.01839280</td><td>0.0709402</td><td>-0.259272</td><td>0.79542700</td><td>.</td><td>1</td><td>790021</td></tr>\n",
       "\t<tr><td>rs181876450   </td><td>T  </td><td>C </td><td>C </td><td>ADD</td><td>31985</td><td> 0.06928410</td><td>0.0570195</td><td> 1.215090</td><td>0.22433900</td><td>.</td><td>1</td><td>801309</td></tr>\n",
       "\t<tr><td>rs201075335   </td><td>A  </td><td>AG</td><td>AG</td><td>ADD</td><td>31857</td><td> 0.06620600</td><td>0.0241970</td><td> 2.736120</td><td>0.00622025</td><td>.</td><td>1</td><td>810831</td></tr>\n",
       "\t<tr><td>rs28544273    </td><td>T  </td><td>A </td><td>A </td><td>ADD</td><td>32270</td><td>-0.00975134</td><td>0.0120710</td><td>-0.807833</td><td>0.41919300</td><td>.</td><td>1</td><td>815963</td></tr>\n",
       "</tbody>\n",
       "</table>\n"
      ],
      "text/latex": [
       "A data.table: 6 x 13\n",
       "\\begin{tabular}{lllllllllllll}\n",
       " ID & REF & ALT & A1 & TEST & OBS\\_CT & BETA & SE & T\\_STAT & P & ERRCODE & \\#CHROM & POS\\\\\n",
       " <chr> & <chr> & <chr> & <chr> & <chr> & <int> & <dbl> & <dbl> & <dbl> & <dbl> & <chr> & <int> & <int>\\\\\n",
       "\\hline\n",
       "\t rs144155419    & G   & A  & A  & ADD & 32139 &  0.01242140 & 0.0384705 &  0.322883 & 0.74678600 & . & 1 & 782207\\\\\n",
       "\t 1:719854\\_CAG\\_C & CAG & C  & C  & ADD & 32051 & -0.01943330 & 0.0712490 & -0.272751 & 0.78504600 & . & 1 & 784474\\\\\n",
       "\t rs553642122    & C   & T  & T  & ADD & 32156 & -0.01839280 & 0.0709402 & -0.259272 & 0.79542700 & . & 1 & 790021\\\\\n",
       "\t rs181876450    & T   & C  & C  & ADD & 31985 &  0.06928410 & 0.0570195 &  1.215090 & 0.22433900 & . & 1 & 801309\\\\\n",
       "\t rs201075335    & A   & AG & AG & ADD & 31857 &  0.06620600 & 0.0241970 &  2.736120 & 0.00622025 & . & 1 & 810831\\\\\n",
       "\t rs28544273     & T   & A  & A  & ADD & 32270 & -0.00975134 & 0.0120710 & -0.807833 & 0.41919300 & . & 1 & 815963\\\\\n",
       "\\end{tabular}\n"
      ],
      "text/markdown": [
       "\n",
       "A data.table: 6 x 13\n",
       "\n",
       "| ID &lt;chr&gt; | REF &lt;chr&gt; | ALT &lt;chr&gt; | A1 &lt;chr&gt; | TEST &lt;chr&gt; | OBS_CT &lt;int&gt; | BETA &lt;dbl&gt; | SE &lt;dbl&gt; | T_STAT &lt;dbl&gt; | P &lt;dbl&gt; | ERRCODE &lt;chr&gt; | #CHROM &lt;int&gt; | POS &lt;int&gt; |\n",
       "|---|---|---|---|---|---|---|---|---|---|---|---|---|\n",
       "| rs144155419    | G   | A  | A  | ADD | 32139 |  0.01242140 | 0.0384705 |  0.322883 | 0.74678600 | . | 1 | 782207 |\n",
       "| 1:719854_CAG_C | CAG | C  | C  | ADD | 32051 | -0.01943330 | 0.0712490 | -0.272751 | 0.78504600 | . | 1 | 784474 |\n",
       "| rs553642122    | C   | T  | T  | ADD | 32156 | -0.01839280 | 0.0709402 | -0.259272 | 0.79542700 | . | 1 | 790021 |\n",
       "| rs181876450    | T   | C  | C  | ADD | 31985 |  0.06928410 | 0.0570195 |  1.215090 | 0.22433900 | . | 1 | 801309 |\n",
       "| rs201075335    | A   | AG | AG | ADD | 31857 |  0.06620600 | 0.0241970 |  2.736120 | 0.00622025 | . | 1 | 810831 |\n",
       "| rs28544273     | T   | A  | A  | ADD | 32270 | -0.00975134 | 0.0120710 | -0.807833 | 0.41919300 | . | 1 | 815963 |\n",
       "\n"
      ],
      "text/plain": [
       "  ID             REF ALT A1 TEST OBS_CT BETA        SE        T_STAT   \n",
       "1 rs144155419    G   A   A  ADD  32139   0.01242140 0.0384705  0.322883\n",
       "2 1:719854_CAG_C CAG C   C  ADD  32051  -0.01943330 0.0712490 -0.272751\n",
       "3 rs553642122    C   T   T  ADD  32156  -0.01839280 0.0709402 -0.259272\n",
       "4 rs181876450    T   C   C  ADD  31985   0.06928410 0.0570195  1.215090\n",
       "5 rs201075335    A   AG  AG ADD  31857   0.06620600 0.0241970  2.736120\n",
       "6 rs28544273     T   A   A  ADD  32270  -0.00975134 0.0120710 -0.807833\n",
       "  P          ERRCODE #CHROM POS   \n",
       "1 0.74678600 .       1      782207\n",
       "2 0.78504600 .       1      784474\n",
       "3 0.79542700 .       1      790021\n",
       "4 0.22433900 .       1      801309\n",
       "5 0.00622025 .       1      810831\n",
       "6 0.41919300 .       1      815963"
      ]
     },
     "metadata": {},
     "output_type": "display_data"
    },
    {
     "data": {
      "text/html": [
       "<style>\n",
       ".list-inline {list-style: none; margin:0; padding: 0}\n",
       ".list-inline>li {display: inline-block}\n",
       ".list-inline>li:not(:last-child)::after {content: \"\\00b7\"; padding: 0 .5ex}\n",
       "</style>\n",
       "<ol class=list-inline><li>8466963</li><li>13</li></ol>\n"
      ],
      "text/latex": [
       "\\begin{enumerate*}\n",
       "\\item 8466963\n",
       "\\item 13\n",
       "\\end{enumerate*}\n"
      ],
      "text/markdown": [
       "1. 8466963\n",
       "2. 13\n",
       "\n",
       "\n"
      ],
      "text/plain": [
       "[1] 8466963      13"
      ]
     },
     "metadata": {},
     "output_type": "display_data"
    }
   ],
   "source": [
    "head(aging5_hg38_final)\n",
    "dim(aging5_hg38_final)"
   ]
  },
  {
   "cell_type": "code",
   "execution_count": 310,
   "id": "52fa0613-e04c-426d-ac1a-f1e4638f9042",
   "metadata": {
    "kernel": "SoS",
    "vscode": {
     "languageId": "r"
    }
   },
   "outputs": [],
   "source": [
    "fwrite(aging5_hg38_final, \"/home/ubuntu/project/image_QTL/hg38/surrealgan_aging_pheno_normalized_residualized.r5.glm.linear_hg38.gz\", sep = '\\t')"
   ]
  },
  {
   "cell_type": "markdown",
   "id": "dc6d2015-7afd-450a-ac04-91c014eb3f97",
   "metadata": {
    "kernel": "SoS",
    "vscode": {
     "languageId": "r"
    }
   },
   "source": [
    "## Aging_maf"
   ]
  },
  {
   "cell_type": "code",
   "execution_count": 2,
   "id": "b4a91fe1-e29a-41d3-b18e-41d4c7c36754",
   "metadata": {},
   "outputs": [
    {
     "data": {
      "text/html": [
       "<table class=\"dataframe\">\n",
       "<caption>A data.table: 6 × 6</caption>\n",
       "<thead>\n",
       "\t<tr><th scope=col>#CHROM</th><th scope=col>ID</th><th scope=col>REF</th><th scope=col>ALT</th><th scope=col>ALT_FREQS</th><th scope=col>OBS_CT</th></tr>\n",
       "\t<tr><th scope=col>&lt;int&gt;</th><th scope=col>&lt;chr&gt;</th><th scope=col>&lt;chr&gt;</th><th scope=col>&lt;chr&gt;</th><th scope=col>&lt;dbl&gt;</th><th scope=col>&lt;int&gt;</th></tr>\n",
       "</thead>\n",
       "<tbody>\n",
       "\t<tr><td>1</td><td>rs144155419   </td><td>G  </td><td>A </td><td>0.01065680</td><td>64278</td></tr>\n",
       "\t<tr><td>1</td><td>1:719854_CAG_C</td><td>CAG</td><td>C </td><td>0.00308883</td><td>64102</td></tr>\n",
       "\t<tr><td>1</td><td>rs553642122   </td><td>C  </td><td>T </td><td>0.00310984</td><td>64312</td></tr>\n",
       "\t<tr><td>1</td><td>rs181876450   </td><td>T  </td><td>C </td><td>0.00481476</td><td>63970</td></tr>\n",
       "\t<tr><td>1</td><td>rs201075335   </td><td>A  </td><td>AG</td><td>0.02831400</td><td>63714</td></tr>\n",
       "\t<tr><td>1</td><td>rs28544273    </td><td>T  </td><td>A </td><td>0.12189300</td><td>64540</td></tr>\n",
       "</tbody>\n",
       "</table>\n"
      ],
      "text/latex": [
       "A data.table: 6 × 6\n",
       "\\begin{tabular}{llllll}\n",
       " \\#CHROM & ID & REF & ALT & ALT\\_FREQS & OBS\\_CT\\\\\n",
       " <int> & <chr> & <chr> & <chr> & <dbl> & <int>\\\\\n",
       "\\hline\n",
       "\t 1 & rs144155419    & G   & A  & 0.01065680 & 64278\\\\\n",
       "\t 1 & 1:719854\\_CAG\\_C & CAG & C  & 0.00308883 & 64102\\\\\n",
       "\t 1 & rs553642122    & C   & T  & 0.00310984 & 64312\\\\\n",
       "\t 1 & rs181876450    & T   & C  & 0.00481476 & 63970\\\\\n",
       "\t 1 & rs201075335    & A   & AG & 0.02831400 & 63714\\\\\n",
       "\t 1 & rs28544273     & T   & A  & 0.12189300 & 64540\\\\\n",
       "\\end{tabular}\n"
      ],
      "text/markdown": [
       "\n",
       "A data.table: 6 × 6\n",
       "\n",
       "| #CHROM &lt;int&gt; | ID &lt;chr&gt; | REF &lt;chr&gt; | ALT &lt;chr&gt; | ALT_FREQS &lt;dbl&gt; | OBS_CT &lt;int&gt; |\n",
       "|---|---|---|---|---|---|\n",
       "| 1 | rs144155419    | G   | A  | 0.01065680 | 64278 |\n",
       "| 1 | 1:719854_CAG_C | CAG | C  | 0.00308883 | 64102 |\n",
       "| 1 | rs553642122    | C   | T  | 0.00310984 | 64312 |\n",
       "| 1 | rs181876450    | T   | C  | 0.00481476 | 63970 |\n",
       "| 1 | rs201075335    | A   | AG | 0.02831400 | 63714 |\n",
       "| 1 | rs28544273     | T   | A  | 0.12189300 | 64540 |\n",
       "\n"
      ],
      "text/plain": [
       "  #CHROM ID             REF ALT ALT_FREQS  OBS_CT\n",
       "1 1      rs144155419    G   A   0.01065680 64278 \n",
       "2 1      1:719854_CAG_C CAG C   0.00308883 64102 \n",
       "3 1      rs553642122    C   T   0.00310984 64312 \n",
       "4 1      rs181876450    T   C   0.00481476 63970 \n",
       "5 1      rs201075335    A   AG  0.02831400 63714 \n",
       "6 1      rs28544273     T   A   0.12189300 64540 "
      ]
     },
     "metadata": {},
     "output_type": "display_data"
    }
   ],
   "source": [
    "Aging_maf = fread(\"~/project/surrealgan_aging_pheno_normalized_residualized.afreq.gz\")\n",
    "head(Aging_maf)"
   ]
  },
  {
   "cell_type": "code",
   "execution_count": 11,
   "id": "6f6a90c7-d94f-42f0-bf7f-e125503302b8",
   "metadata": {},
   "outputs": [
    {
     "data": {
      "text/html": [
       "<table class=\"dataframe\">\n",
       "<caption>A data.table: 6 × 8</caption>\n",
       "<thead>\n",
       "\t<tr><th scope=col>POS</th><th scope=col>ID</th><th scope=col>TEST</th><th scope=col>BETA</th><th scope=col>SE</th><th scope=col>T_STAT</th><th scope=col>P</th><th scope=col>ERRCODE</th></tr>\n",
       "\t<tr><th scope=col>&lt;int&gt;</th><th scope=col>&lt;chr&gt;</th><th scope=col>&lt;chr&gt;</th><th scope=col>&lt;dbl&gt;</th><th scope=col>&lt;dbl&gt;</th><th scope=col>&lt;dbl&gt;</th><th scope=col>&lt;dbl&gt;</th><th scope=col>&lt;chr&gt;</th></tr>\n",
       "</thead>\n",
       "<tbody>\n",
       "\t<tr><td>717587</td><td>rs144155419   </td><td>ADD</td><td> 0.03875060</td><td>0.0384495</td><td> 1.0078300</td><td>0.313543</td><td>.</td></tr>\n",
       "\t<tr><td>719854</td><td>1:719854_CAG_C</td><td>ADD</td><td>-0.00561508</td><td>0.0712650</td><td>-0.0787915</td><td>0.937199</td><td>.</td></tr>\n",
       "\t<tr><td>725401</td><td>rs553642122   </td><td>ADD</td><td>-0.02123150</td><td>0.0709291</td><td>-0.2993340</td><td>0.764687</td><td>.</td></tr>\n",
       "\t<tr><td>736689</td><td>rs181876450   </td><td>ADD</td><td>-0.04611840</td><td>0.0570188</td><td>-0.8088270</td><td>0.418620</td><td>.</td></tr>\n",
       "\t<tr><td>746211</td><td>rs201075335   </td><td>ADD</td><td> 0.00762611</td><td>0.0242194</td><td> 0.3148760</td><td>0.752858</td><td>.</td></tr>\n",
       "\t<tr><td>751343</td><td>rs28544273    </td><td>ADD</td><td>-0.00561255</td><td>0.0120832</td><td>-0.4644920</td><td>0.642298</td><td>.</td></tr>\n",
       "</tbody>\n",
       "</table>\n"
      ],
      "text/latex": [
       "A data.table: 6 × 8\n",
       "\\begin{tabular}{llllllll}\n",
       " POS & ID & TEST & BETA & SE & T\\_STAT & P & ERRCODE\\\\\n",
       " <int> & <chr> & <chr> & <dbl> & <dbl> & <dbl> & <dbl> & <chr>\\\\\n",
       "\\hline\n",
       "\t 717587 & rs144155419    & ADD &  0.03875060 & 0.0384495 &  1.0078300 & 0.313543 & .\\\\\n",
       "\t 719854 & 1:719854\\_CAG\\_C & ADD & -0.00561508 & 0.0712650 & -0.0787915 & 0.937199 & .\\\\\n",
       "\t 725401 & rs553642122    & ADD & -0.02123150 & 0.0709291 & -0.2993340 & 0.764687 & .\\\\\n",
       "\t 736689 & rs181876450    & ADD & -0.04611840 & 0.0570188 & -0.8088270 & 0.418620 & .\\\\\n",
       "\t 746211 & rs201075335    & ADD &  0.00762611 & 0.0242194 &  0.3148760 & 0.752858 & .\\\\\n",
       "\t 751343 & rs28544273     & ADD & -0.00561255 & 0.0120832 & -0.4644920 & 0.642298 & .\\\\\n",
       "\\end{tabular}\n"
      ],
      "text/markdown": [
       "\n",
       "A data.table: 6 × 8\n",
       "\n",
       "| POS &lt;int&gt; | ID &lt;chr&gt; | TEST &lt;chr&gt; | BETA &lt;dbl&gt; | SE &lt;dbl&gt; | T_STAT &lt;dbl&gt; | P &lt;dbl&gt; | ERRCODE &lt;chr&gt; |\n",
       "|---|---|---|---|---|---|---|---|\n",
       "| 717587 | rs144155419    | ADD |  0.03875060 | 0.0384495 |  1.0078300 | 0.313543 | . |\n",
       "| 719854 | 1:719854_CAG_C | ADD | -0.00561508 | 0.0712650 | -0.0787915 | 0.937199 | . |\n",
       "| 725401 | rs553642122    | ADD | -0.02123150 | 0.0709291 | -0.2993340 | 0.764687 | . |\n",
       "| 736689 | rs181876450    | ADD | -0.04611840 | 0.0570188 | -0.8088270 | 0.418620 | . |\n",
       "| 746211 | rs201075335    | ADD |  0.00762611 | 0.0242194 |  0.3148760 | 0.752858 | . |\n",
       "| 751343 | rs28544273     | ADD | -0.00561255 | 0.0120832 | -0.4644920 | 0.642298 | . |\n",
       "\n"
      ],
      "text/plain": [
       "  POS    ID             TEST BETA        SE        T_STAT     P        ERRCODE\n",
       "1 717587 rs144155419    ADD   0.03875060 0.0384495  1.0078300 0.313543 .      \n",
       "2 719854 1:719854_CAG_C ADD  -0.00561508 0.0712650 -0.0787915 0.937199 .      \n",
       "3 725401 rs553642122    ADD  -0.02123150 0.0709291 -0.2993340 0.764687 .      \n",
       "4 736689 rs181876450    ADD  -0.04611840 0.0570188 -0.8088270 0.418620 .      \n",
       "5 746211 rs201075335    ADD   0.00762611 0.0242194  0.3148760 0.752858 .      \n",
       "6 751343 rs28544273     ADD  -0.00561255 0.0120832 -0.4644920 0.642298 .      "
      ]
     },
     "metadata": {},
     "output_type": "display_data"
    }
   ],
   "source": [
    "Aging_pos = fread(\"~/project/surrealgan_aging_pheno_normalized_residualized.r1.glm.linear.gz\") |> select(-`#CHROM`, -OBS_CT, -ALT, -REF, -A1)\n",
    "head(Aging_pos)"
   ]
  },
  {
   "cell_type": "code",
   "execution_count": 12,
   "id": "e4786d08-269e-4052-88ac-ce6853928d57",
   "metadata": {},
   "outputs": [
    {
     "data": {
      "text/html": [
       "<style>\n",
       ".list-inline {list-style: none; margin:0; padding: 0}\n",
       ".list-inline>li {display: inline-block}\n",
       ".list-inline>li:not(:last-child)::after {content: \"\\00b7\"; padding: 0 .5ex}\n",
       "</style>\n",
       "<ol class=list-inline><li>8469833</li><li>6</li></ol>\n"
      ],
      "text/latex": [
       "\\begin{enumerate*}\n",
       "\\item 8469833\n",
       "\\item 6\n",
       "\\end{enumerate*}\n"
      ],
      "text/markdown": [
       "1. 8469833\n",
       "2. 6\n",
       "\n",
       "\n"
      ],
      "text/plain": [
       "[1] 8469833       6"
      ]
     },
     "metadata": {},
     "output_type": "display_data"
    },
    {
     "data": {
      "text/html": [
       "<style>\n",
       ".list-inline {list-style: none; margin:0; padding: 0}\n",
       ".list-inline>li {display: inline-block}\n",
       ".list-inline>li:not(:last-child)::after {content: \"\\00b7\"; padding: 0 .5ex}\n",
       "</style>\n",
       "<ol class=list-inline><li>8469833</li><li>8</li></ol>\n"
      ],
      "text/latex": [
       "\\begin{enumerate*}\n",
       "\\item 8469833\n",
       "\\item 8\n",
       "\\end{enumerate*}\n"
      ],
      "text/markdown": [
       "1. 8469833\n",
       "2. 8\n",
       "\n",
       "\n"
      ],
      "text/plain": [
       "[1] 8469833       8"
      ]
     },
     "metadata": {},
     "output_type": "display_data"
    }
   ],
   "source": [
    "dim(Aging_maf)\n",
    "dim(Aging_pos)"
   ]
  },
  {
   "cell_type": "code",
   "execution_count": 13,
   "id": "a137d59a-5e69-4685-963d-1ab56c843de6",
   "metadata": {},
   "outputs": [
    {
     "data": {
      "text/html": [
       "<table class=\"dataframe\">\n",
       "<caption>A data.table: 6 × 13</caption>\n",
       "<thead>\n",
       "\t<tr><th scope=col>ID</th><th scope=col>#CHROM</th><th scope=col>REF</th><th scope=col>ALT</th><th scope=col>ALT_FREQS</th><th scope=col>OBS_CT</th><th scope=col>POS</th><th scope=col>TEST</th><th scope=col>BETA</th><th scope=col>SE</th><th scope=col>T_STAT</th><th scope=col>P</th><th scope=col>ERRCODE</th></tr>\n",
       "\t<tr><th scope=col>&lt;chr&gt;</th><th scope=col>&lt;int&gt;</th><th scope=col>&lt;chr&gt;</th><th scope=col>&lt;chr&gt;</th><th scope=col>&lt;dbl&gt;</th><th scope=col>&lt;int&gt;</th><th scope=col>&lt;int&gt;</th><th scope=col>&lt;chr&gt;</th><th scope=col>&lt;dbl&gt;</th><th scope=col>&lt;dbl&gt;</th><th scope=col>&lt;dbl&gt;</th><th scope=col>&lt;dbl&gt;</th><th scope=col>&lt;chr&gt;</th></tr>\n",
       "</thead>\n",
       "<tbody>\n",
       "\t<tr><td>10:100014847_CT_C        </td><td>10</td><td>C         </td><td>CT    </td><td>0.36132800</td><td>65464</td><td>100014847</td><td>ADD</td><td>-0.02210690</td><td>0.00815256</td><td>-2.711650</td><td>0.00669835</td><td>.</td></tr>\n",
       "\t<tr><td>10:100038800_TTTTTG_T    </td><td>10</td><td>T         </td><td>TTTTTG</td><td>0.05221480</td><td>64158</td><td>100038800</td><td>ADD</td><td> 0.01677910</td><td>0.01772390</td><td> 0.946695</td><td>0.34380200</td><td>.</td></tr>\n",
       "\t<tr><td>10:10005683_TATA_T       </td><td>10</td><td>T         </td><td>TATA  </td><td>0.06492100</td><td>64540</td><td> 10005683</td><td>ADD</td><td> 0.00175404</td><td>0.01599610</td><td> 0.109654</td><td>0.91268400</td><td>.</td></tr>\n",
       "\t<tr><td>10:100057146_AG_A        </td><td>10</td><td>AG        </td><td>A     </td><td>0.02274270</td><td>64636</td><td>100057146</td><td>ADD</td><td>-0.06679940</td><td>0.02636790</td><td>-2.533360</td><td>0.01130230</td><td>.</td></tr>\n",
       "\t<tr><td>10:100083551_CTTTCTT_C   </td><td>10</td><td>CTTTCTT   </td><td>C     </td><td>0.00824576</td><td>64518</td><td>100083551</td><td>ADD</td><td> 0.04940610</td><td>0.04348060</td><td> 1.136280</td><td>0.25584800</td><td>.</td></tr>\n",
       "\t<tr><td>10:100090169_CTGCAGAAGA_C</td><td>10</td><td>CTGCAGAAGA</td><td>C     </td><td>0.21756900</td><td>65446</td><td>100090169</td><td>ADD</td><td> 0.01809470</td><td>0.00949446</td><td> 1.905820</td><td>0.05668270</td><td>.</td></tr>\n",
       "</tbody>\n",
       "</table>\n"
      ],
      "text/latex": [
       "A data.table: 6 × 13\n",
       "\\begin{tabular}{lllllllllllll}\n",
       " ID & \\#CHROM & REF & ALT & ALT\\_FREQS & OBS\\_CT & POS & TEST & BETA & SE & T\\_STAT & P & ERRCODE\\\\\n",
       " <chr> & <int> & <chr> & <chr> & <dbl> & <int> & <int> & <chr> & <dbl> & <dbl> & <dbl> & <dbl> & <chr>\\\\\n",
       "\\hline\n",
       "\t 10:100014847\\_CT\\_C         & 10 & C          & CT     & 0.36132800 & 65464 & 100014847 & ADD & -0.02210690 & 0.00815256 & -2.711650 & 0.00669835 & .\\\\\n",
       "\t 10:100038800\\_TTTTTG\\_T     & 10 & T          & TTTTTG & 0.05221480 & 64158 & 100038800 & ADD &  0.01677910 & 0.01772390 &  0.946695 & 0.34380200 & .\\\\\n",
       "\t 10:10005683\\_TATA\\_T        & 10 & T          & TATA   & 0.06492100 & 64540 &  10005683 & ADD &  0.00175404 & 0.01599610 &  0.109654 & 0.91268400 & .\\\\\n",
       "\t 10:100057146\\_AG\\_A         & 10 & AG         & A      & 0.02274270 & 64636 & 100057146 & ADD & -0.06679940 & 0.02636790 & -2.533360 & 0.01130230 & .\\\\\n",
       "\t 10:100083551\\_CTTTCTT\\_C    & 10 & CTTTCTT    & C      & 0.00824576 & 64518 & 100083551 & ADD &  0.04940610 & 0.04348060 &  1.136280 & 0.25584800 & .\\\\\n",
       "\t 10:100090169\\_CTGCAGAAGA\\_C & 10 & CTGCAGAAGA & C      & 0.21756900 & 65446 & 100090169 & ADD &  0.01809470 & 0.00949446 &  1.905820 & 0.05668270 & .\\\\\n",
       "\\end{tabular}\n"
      ],
      "text/markdown": [
       "\n",
       "A data.table: 6 × 13\n",
       "\n",
       "| ID &lt;chr&gt; | #CHROM &lt;int&gt; | REF &lt;chr&gt; | ALT &lt;chr&gt; | ALT_FREQS &lt;dbl&gt; | OBS_CT &lt;int&gt; | POS &lt;int&gt; | TEST &lt;chr&gt; | BETA &lt;dbl&gt; | SE &lt;dbl&gt; | T_STAT &lt;dbl&gt; | P &lt;dbl&gt; | ERRCODE &lt;chr&gt; |\n",
       "|---|---|---|---|---|---|---|---|---|---|---|---|---|\n",
       "| 10:100014847_CT_C         | 10 | C          | CT     | 0.36132800 | 65464 | 100014847 | ADD | -0.02210690 | 0.00815256 | -2.711650 | 0.00669835 | . |\n",
       "| 10:100038800_TTTTTG_T     | 10 | T          | TTTTTG | 0.05221480 | 64158 | 100038800 | ADD |  0.01677910 | 0.01772390 |  0.946695 | 0.34380200 | . |\n",
       "| 10:10005683_TATA_T        | 10 | T          | TATA   | 0.06492100 | 64540 |  10005683 | ADD |  0.00175404 | 0.01599610 |  0.109654 | 0.91268400 | . |\n",
       "| 10:100057146_AG_A         | 10 | AG         | A      | 0.02274270 | 64636 | 100057146 | ADD | -0.06679940 | 0.02636790 | -2.533360 | 0.01130230 | . |\n",
       "| 10:100083551_CTTTCTT_C    | 10 | CTTTCTT    | C      | 0.00824576 | 64518 | 100083551 | ADD |  0.04940610 | 0.04348060 |  1.136280 | 0.25584800 | . |\n",
       "| 10:100090169_CTGCAGAAGA_C | 10 | CTGCAGAAGA | C      | 0.21756900 | 65446 | 100090169 | ADD |  0.01809470 | 0.00949446 |  1.905820 | 0.05668270 | . |\n",
       "\n"
      ],
      "text/plain": [
       "  ID                        #CHROM REF        ALT    ALT_FREQS  OBS_CT\n",
       "1 10:100014847_CT_C         10     C          CT     0.36132800 65464 \n",
       "2 10:100038800_TTTTTG_T     10     T          TTTTTG 0.05221480 64158 \n",
       "3 10:10005683_TATA_T        10     T          TATA   0.06492100 64540 \n",
       "4 10:100057146_AG_A         10     AG         A      0.02274270 64636 \n",
       "5 10:100083551_CTTTCTT_C    10     CTTTCTT    C      0.00824576 64518 \n",
       "6 10:100090169_CTGCAGAAGA_C 10     CTGCAGAAGA C      0.21756900 65446 \n",
       "  POS       TEST BETA        SE         T_STAT    P          ERRCODE\n",
       "1 100014847 ADD  -0.02210690 0.00815256 -2.711650 0.00669835 .      \n",
       "2 100038800 ADD   0.01677910 0.01772390  0.946695 0.34380200 .      \n",
       "3  10005683 ADD   0.00175404 0.01599610  0.109654 0.91268400 .      \n",
       "4 100057146 ADD  -0.06679940 0.02636790 -2.533360 0.01130230 .      \n",
       "5 100083551 ADD   0.04940610 0.04348060  1.136280 0.25584800 .      \n",
       "6 100090169 ADD   0.01809470 0.00949446  1.905820 0.05668270 .      "
      ]
     },
     "metadata": {},
     "output_type": "display_data"
    },
    {
     "data": {
      "text/html": [
       "<style>\n",
       ".list-inline {list-style: none; margin:0; padding: 0}\n",
       ".list-inline>li {display: inline-block}\n",
       ".list-inline>li:not(:last-child)::after {content: \"\\00b7\"; padding: 0 .5ex}\n",
       "</style>\n",
       "<ol class=list-inline><li>8469833</li><li>13</li></ol>\n"
      ],
      "text/latex": [
       "\\begin{enumerate*}\n",
       "\\item 8469833\n",
       "\\item 13\n",
       "\\end{enumerate*}\n"
      ],
      "text/markdown": [
       "1. 8469833\n",
       "2. 13\n",
       "\n",
       "\n"
      ],
      "text/plain": [
       "[1] 8469833      13"
      ]
     },
     "metadata": {},
     "output_type": "display_data"
    }
   ],
   "source": [
    "\n",
    "Aging_full = merge(Aging_maf, Aging_pos, by = \"ID\")\n",
    "head(Aging_full)\n",
    "dim(Aging_full)\n"
   ]
  },
  {
   "cell_type": "code",
   "execution_count": 14,
   "id": "033ca03b-50e0-4347-b047-47131acbfafd",
   "metadata": {
    "kernel": "SoS",
    "vscode": {
     "languageId": "r"
    }
   },
   "outputs": [],
   "source": [
    "Aging_full_needed = Aging_full |> mutate(chrom = paste0(\"chr\",`#CHROM`), start = POS, end = POS, region_id = ID) |> select(chrom, start, end, region_id)\n"
   ]
  },
  {
   "cell_type": "code",
   "execution_count": 15,
   "id": "236fdb94-158c-4eaa-ab50-4e4564950406",
   "metadata": {
    "kernel": "SoS",
    "vscode": {
     "languageId": "r"
    }
   },
   "outputs": [
    {
     "data": {
      "text/html": [
       "<table class=\"dataframe\">\n",
       "<caption>A data.table: 6 × 4</caption>\n",
       "<thead>\n",
       "\t<tr><th scope=col>chrom</th><th scope=col>start</th><th scope=col>end</th><th scope=col>region_id</th></tr>\n",
       "\t<tr><th scope=col>&lt;chr&gt;</th><th scope=col>&lt;int&gt;</th><th scope=col>&lt;int&gt;</th><th scope=col>&lt;chr&gt;</th></tr>\n",
       "</thead>\n",
       "<tbody>\n",
       "\t<tr><td>chr10</td><td>100014847</td><td>100014847</td><td>10:100014847_CT_C        </td></tr>\n",
       "\t<tr><td>chr10</td><td>100038800</td><td>100038800</td><td>10:100038800_TTTTTG_T    </td></tr>\n",
       "\t<tr><td>chr10</td><td> 10005683</td><td> 10005683</td><td>10:10005683_TATA_T       </td></tr>\n",
       "\t<tr><td>chr10</td><td>100057146</td><td>100057146</td><td>10:100057146_AG_A        </td></tr>\n",
       "\t<tr><td>chr10</td><td>100083551</td><td>100083551</td><td>10:100083551_CTTTCTT_C   </td></tr>\n",
       "\t<tr><td>chr10</td><td>100090169</td><td>100090169</td><td>10:100090169_CTGCAGAAGA_C</td></tr>\n",
       "</tbody>\n",
       "</table>\n"
      ],
      "text/latex": [
       "A data.table: 6 × 4\n",
       "\\begin{tabular}{llll}\n",
       " chrom & start & end & region\\_id\\\\\n",
       " <chr> & <int> & <int> & <chr>\\\\\n",
       "\\hline\n",
       "\t chr10 & 100014847 & 100014847 & 10:100014847\\_CT\\_C        \\\\\n",
       "\t chr10 & 100038800 & 100038800 & 10:100038800\\_TTTTTG\\_T    \\\\\n",
       "\t chr10 &  10005683 &  10005683 & 10:10005683\\_TATA\\_T       \\\\\n",
       "\t chr10 & 100057146 & 100057146 & 10:100057146\\_AG\\_A        \\\\\n",
       "\t chr10 & 100083551 & 100083551 & 10:100083551\\_CTTTCTT\\_C   \\\\\n",
       "\t chr10 & 100090169 & 100090169 & 10:100090169\\_CTGCAGAAGA\\_C\\\\\n",
       "\\end{tabular}\n"
      ],
      "text/markdown": [
       "\n",
       "A data.table: 6 × 4\n",
       "\n",
       "| chrom &lt;chr&gt; | start &lt;int&gt; | end &lt;int&gt; | region_id &lt;chr&gt; |\n",
       "|---|---|---|---|\n",
       "| chr10 | 100014847 | 100014847 | 10:100014847_CT_C         |\n",
       "| chr10 | 100038800 | 100038800 | 10:100038800_TTTTTG_T     |\n",
       "| chr10 |  10005683 |  10005683 | 10:10005683_TATA_T        |\n",
       "| chr10 | 100057146 | 100057146 | 10:100057146_AG_A         |\n",
       "| chr10 | 100083551 | 100083551 | 10:100083551_CTTTCTT_C    |\n",
       "| chr10 | 100090169 | 100090169 | 10:100090169_CTGCAGAAGA_C |\n",
       "\n"
      ],
      "text/plain": [
       "  chrom start     end       region_id                \n",
       "1 chr10 100014847 100014847 10:100014847_CT_C        \n",
       "2 chr10 100038800 100038800 10:100038800_TTTTTG_T    \n",
       "3 chr10  10005683  10005683 10:10005683_TATA_T       \n",
       "4 chr10 100057146 100057146 10:100057146_AG_A        \n",
       "5 chr10 100083551 100083551 10:100083551_CTTTCTT_C   \n",
       "6 chr10 100090169 100090169 10:100090169_CTGCAGAAGA_C"
      ]
     },
     "metadata": {},
     "output_type": "display_data"
    },
    {
     "data": {
      "text/html": [
       "<style>\n",
       ".list-inline {list-style: none; margin:0; padding: 0}\n",
       ".list-inline>li {display: inline-block}\n",
       ".list-inline>li:not(:last-child)::after {content: \"\\00b7\"; padding: 0 .5ex}\n",
       "</style>\n",
       "<ol class=list-inline><li>8469833</li><li>4</li></ol>\n"
      ],
      "text/latex": [
       "\\begin{enumerate*}\n",
       "\\item 8469833\n",
       "\\item 4\n",
       "\\end{enumerate*}\n"
      ],
      "text/markdown": [
       "1. 8469833\n",
       "2. 4\n",
       "\n",
       "\n"
      ],
      "text/plain": [
       "[1] 8469833       4"
      ]
     },
     "metadata": {},
     "output_type": "display_data"
    }
   ],
   "source": [
    "head(Aging_full_needed)\n",
    "dim(Aging_full_needed)"
   ]
  },
  {
   "cell_type": "code",
   "execution_count": 16,
   "id": "c79d04a4-93a8-4678-92e6-cf9ef0d7788b",
   "metadata": {
    "kernel": "SoS",
    "vscode": {
     "languageId": "r"
    }
   },
   "outputs": [],
   "source": [
    "fwrite(Aging_full_needed,\"Aging_full_hg19.bed\", sep = '\\t',col.names=FALSE)"
   ]
  },
  {
   "cell_type": "markdown",
   "id": "d4c8c1a3-8648-4258-841e-826566b66615",
   "metadata": {
    "kernel": "SoS"
   },
   "source": [
    "# Read in the hg38 .bed(three columns-chrom, pos, id) and merge it back to the original summary statistics \n",
    "All Aging image GWAS summary statistics have the same variant pos"
   ]
  },
  {
   "cell_type": "code",
   "execution_count": 18,
   "id": "03266e05-4d82-4bc4-b1f6-0be4717e18da",
   "metadata": {
    "kernel": "SoS",
    "vscode": {
     "languageId": "r"
    }
   },
   "outputs": [],
   "source": [
    "Aging_hg38 = fread(\"/home/ubuntu/project/conversion/aging1_hg19.to_hg38.bed\")"
   ]
  },
  {
   "cell_type": "code",
   "execution_count": 20,
   "id": "bce40b40-be91-42a1-a947-96e7ff88472e",
   "metadata": {
    "kernel": "SoS",
    "vscode": {
     "languageId": "r"
    }
   },
   "outputs": [
    {
     "data": {
      "text/html": [
       "<table class=\"dataframe\">\n",
       "<caption>A data.table: 6 × 4</caption>\n",
       "<thead>\n",
       "\t<tr><th scope=col>V1</th><th scope=col>V2</th><th scope=col>V3</th><th scope=col>V4</th></tr>\n",
       "\t<tr><th scope=col>&lt;chr&gt;</th><th scope=col>&lt;int&gt;</th><th scope=col>&lt;int&gt;</th><th scope=col>&lt;chr&gt;</th></tr>\n",
       "</thead>\n",
       "<tbody>\n",
       "\t<tr><td>chr1</td><td>782207</td><td>782207</td><td>rs144155419   </td></tr>\n",
       "\t<tr><td>chr1</td><td>784474</td><td>784474</td><td>1:719854_CAG_C</td></tr>\n",
       "\t<tr><td>chr1</td><td>790021</td><td>790021</td><td>rs553642122   </td></tr>\n",
       "\t<tr><td>chr1</td><td>801309</td><td>801309</td><td>rs181876450   </td></tr>\n",
       "\t<tr><td>chr1</td><td>810831</td><td>810831</td><td>rs201075335   </td></tr>\n",
       "\t<tr><td>chr1</td><td>815963</td><td>815963</td><td>rs28544273    </td></tr>\n",
       "</tbody>\n",
       "</table>\n"
      ],
      "text/latex": [
       "A data.table: 6 × 4\n",
       "\\begin{tabular}{llll}\n",
       " V1 & V2 & V3 & V4\\\\\n",
       " <chr> & <int> & <int> & <chr>\\\\\n",
       "\\hline\n",
       "\t chr1 & 782207 & 782207 & rs144155419   \\\\\n",
       "\t chr1 & 784474 & 784474 & 1:719854\\_CAG\\_C\\\\\n",
       "\t chr1 & 790021 & 790021 & rs553642122   \\\\\n",
       "\t chr1 & 801309 & 801309 & rs181876450   \\\\\n",
       "\t chr1 & 810831 & 810831 & rs201075335   \\\\\n",
       "\t chr1 & 815963 & 815963 & rs28544273    \\\\\n",
       "\\end{tabular}\n"
      ],
      "text/markdown": [
       "\n",
       "A data.table: 6 × 4\n",
       "\n",
       "| V1 &lt;chr&gt; | V2 &lt;int&gt; | V3 &lt;int&gt; | V4 &lt;chr&gt; |\n",
       "|---|---|---|---|\n",
       "| chr1 | 782207 | 782207 | rs144155419    |\n",
       "| chr1 | 784474 | 784474 | 1:719854_CAG_C |\n",
       "| chr1 | 790021 | 790021 | rs553642122    |\n",
       "| chr1 | 801309 | 801309 | rs181876450    |\n",
       "| chr1 | 810831 | 810831 | rs201075335    |\n",
       "| chr1 | 815963 | 815963 | rs28544273     |\n",
       "\n"
      ],
      "text/plain": [
       "  V1   V2     V3     V4            \n",
       "1 chr1 782207 782207 rs144155419   \n",
       "2 chr1 784474 784474 1:719854_CAG_C\n",
       "3 chr1 790021 790021 rs553642122   \n",
       "4 chr1 801309 801309 rs181876450   \n",
       "5 chr1 810831 810831 rs201075335   \n",
       "6 chr1 815963 815963 rs28544273    "
      ]
     },
     "metadata": {},
     "output_type": "display_data"
    },
    {
     "data": {
      "text/html": [
       "<style>\n",
       ".list-inline {list-style: none; margin:0; padding: 0}\n",
       ".list-inline>li {display: inline-block}\n",
       ".list-inline>li:not(:last-child)::after {content: \"\\00b7\"; padding: 0 .5ex}\n",
       "</style>\n",
       "<ol class=list-inline><li>8468061</li><li>4</li></ol>\n"
      ],
      "text/latex": [
       "\\begin{enumerate*}\n",
       "\\item 8468061\n",
       "\\item 4\n",
       "\\end{enumerate*}\n"
      ],
      "text/markdown": [
       "1. 8468061\n",
       "2. 4\n",
       "\n",
       "\n"
      ],
      "text/plain": [
       "[1] 8468061       4"
      ]
     },
     "metadata": {},
     "output_type": "display_data"
    }
   ],
   "source": [
    "head(Aging_hg38)\n",
    "dim(Aging_hg38)"
   ]
  },
  {
   "cell_type": "code",
   "execution_count": 21,
   "id": "e1408b4e-d3ef-46dd-bd01-0d2d7c4d5cd0",
   "metadata": {
    "kernel": "SoS",
    "vscode": {
     "languageId": "r"
    }
   },
   "outputs": [],
   "source": [
    "Aging_hg38 = Aging_hg38[,-3]"
   ]
  },
  {
   "cell_type": "code",
   "execution_count": 22,
   "id": "57022734-ab77-4fe6-a2b2-82a30f24b1cc",
   "metadata": {
    "kernel": "SoS",
    "vscode": {
     "languageId": "r"
    }
   },
   "outputs": [],
   "source": [
    "colnames(Aging_hg38) <- c(\"#CHROM\",\"POS\",\"ID\")"
   ]
  },
  {
   "cell_type": "code",
   "execution_count": 23,
   "id": "14806b34-6dac-46d6-bf6a-c3438212ce40",
   "metadata": {
    "kernel": "SoS",
    "vscode": {
     "languageId": "r"
    }
   },
   "outputs": [],
   "source": [
    "Aging_hg38 = Aging_hg38 |> mutate(`#CHROM` = gsub(\"chr\", \"\", `#CHROM`))"
   ]
  },
  {
   "cell_type": "code",
   "execution_count": 24,
   "id": "ac5646ca-6d25-4a14-a9e9-d7ff9f2db689",
   "metadata": {
    "kernel": "SoS",
    "vscode": {
     "languageId": "r"
    }
   },
   "outputs": [
    {
     "name": "stderr",
     "output_type": "stream",
     "text": [
      "Warning message:\n",
      "“\u001b[1m\u001b[22mThere was 1 warning in `mutate()`.\n",
      "\u001b[1m\u001b[22m\u001b[36mℹ\u001b[39m In argument: `#CHROM = as.integer(`#CHROM`)`.\n",
      "Caused by warning:\n",
      "\u001b[33m!\u001b[39m NAs introduced by coercion”\n"
     ]
    }
   ],
   "source": [
    "Aging_hg38 = Aging_hg38 |> mutate(`#CHROM`=as.integer(`#CHROM`))"
   ]
  },
  {
   "cell_type": "code",
   "execution_count": 25,
   "id": "1aeb8a38-ee0c-4361-acab-82615d00fdf2",
   "metadata": {
    "kernel": "SoS",
    "vscode": {
     "languageId": "r"
    }
   },
   "outputs": [],
   "source": [
    "Aging_hg38 = Aging_hg38 |> filter(!is.na(`#CHROM`))"
   ]
  },
  {
   "cell_type": "code",
   "execution_count": 26,
   "id": "dcee3326-085d-4633-9dc5-49cf4c9e9ce1",
   "metadata": {
    "kernel": "SoS",
    "vscode": {
     "languageId": "r"
    }
   },
   "outputs": [
    {
     "data": {
      "text/html": [
       "<table class=\"dataframe\">\n",
       "<caption>A data.table: 6 × 3</caption>\n",
       "<thead>\n",
       "\t<tr><th scope=col>#CHROM</th><th scope=col>POS</th><th scope=col>ID</th></tr>\n",
       "\t<tr><th scope=col>&lt;int&gt;</th><th scope=col>&lt;int&gt;</th><th scope=col>&lt;chr&gt;</th></tr>\n",
       "</thead>\n",
       "<tbody>\n",
       "\t<tr><td>1</td><td>782207</td><td>rs144155419   </td></tr>\n",
       "\t<tr><td>1</td><td>784474</td><td>1:719854_CAG_C</td></tr>\n",
       "\t<tr><td>1</td><td>790021</td><td>rs553642122   </td></tr>\n",
       "\t<tr><td>1</td><td>801309</td><td>rs181876450   </td></tr>\n",
       "\t<tr><td>1</td><td>810831</td><td>rs201075335   </td></tr>\n",
       "\t<tr><td>1</td><td>815963</td><td>rs28544273    </td></tr>\n",
       "</tbody>\n",
       "</table>\n"
      ],
      "text/latex": [
       "A data.table: 6 × 3\n",
       "\\begin{tabular}{lll}\n",
       " \\#CHROM & POS & ID\\\\\n",
       " <int> & <int> & <chr>\\\\\n",
       "\\hline\n",
       "\t 1 & 782207 & rs144155419   \\\\\n",
       "\t 1 & 784474 & 1:719854\\_CAG\\_C\\\\\n",
       "\t 1 & 790021 & rs553642122   \\\\\n",
       "\t 1 & 801309 & rs181876450   \\\\\n",
       "\t 1 & 810831 & rs201075335   \\\\\n",
       "\t 1 & 815963 & rs28544273    \\\\\n",
       "\\end{tabular}\n"
      ],
      "text/markdown": [
       "\n",
       "A data.table: 6 × 3\n",
       "\n",
       "| #CHROM &lt;int&gt; | POS &lt;int&gt; | ID &lt;chr&gt; |\n",
       "|---|---|---|\n",
       "| 1 | 782207 | rs144155419    |\n",
       "| 1 | 784474 | 1:719854_CAG_C |\n",
       "| 1 | 790021 | rs553642122    |\n",
       "| 1 | 801309 | rs181876450    |\n",
       "| 1 | 810831 | rs201075335    |\n",
       "| 1 | 815963 | rs28544273     |\n",
       "\n"
      ],
      "text/plain": [
       "  #CHROM POS    ID            \n",
       "1 1      782207 rs144155419   \n",
       "2 1      784474 1:719854_CAG_C\n",
       "3 1      790021 rs553642122   \n",
       "4 1      801309 rs181876450   \n",
       "5 1      810831 rs201075335   \n",
       "6 1      815963 rs28544273    "
      ]
     },
     "metadata": {},
     "output_type": "display_data"
    },
    {
     "data": {
      "text/html": [
       "<style>\n",
       ".list-inline {list-style: none; margin:0; padding: 0}\n",
       ".list-inline>li {display: inline-block}\n",
       ".list-inline>li:not(:last-child)::after {content: \"\\00b7\"; padding: 0 .5ex}\n",
       "</style>\n",
       "<ol class=list-inline><li>8466963</li><li>3</li></ol>\n"
      ],
      "text/latex": [
       "\\begin{enumerate*}\n",
       "\\item 8466963\n",
       "\\item 3\n",
       "\\end{enumerate*}\n"
      ],
      "text/markdown": [
       "1. 8466963\n",
       "2. 3\n",
       "\n",
       "\n"
      ],
      "text/plain": [
       "[1] 8466963       3"
      ]
     },
     "metadata": {},
     "output_type": "display_data"
    }
   ],
   "source": [
    "head(Aging_hg38)\n",
    "dim(Aging_hg38)"
   ]
  },
  {
   "cell_type": "code",
   "execution_count": 27,
   "id": "602767f8-8bbe-41ac-b733-1ef8a6ed7478",
   "metadata": {
    "kernel": "SoS",
    "vscode": {
     "languageId": "r"
    }
   },
   "outputs": [
    {
     "data": {
      "text/html": [
       "<style>\n",
       ".list-inline {list-style: none; margin:0; padding: 0}\n",
       ".list-inline>li {display: inline-block}\n",
       ".list-inline>li:not(:last-child)::after {content: \"\\00b7\"; padding: 0 .5ex}\n",
       "</style>\n",
       "<ol class=list-inline><li>1</li><li>21</li><li>12</li><li>2</li><li>3</li><li>4</li><li>5</li><li>6</li><li>9</li><li>7</li><li>20</li><li>8</li><li>10</li><li>11</li><li>13</li><li>14</li><li>15</li><li>16</li><li>17</li><li>18</li><li>19</li><li>22</li></ol>\n"
      ],
      "text/latex": [
       "\\begin{enumerate*}\n",
       "\\item 1\n",
       "\\item 21\n",
       "\\item 12\n",
       "\\item 2\n",
       "\\item 3\n",
       "\\item 4\n",
       "\\item 5\n",
       "\\item 6\n",
       "\\item 9\n",
       "\\item 7\n",
       "\\item 20\n",
       "\\item 8\n",
       "\\item 10\n",
       "\\item 11\n",
       "\\item 13\n",
       "\\item 14\n",
       "\\item 15\n",
       "\\item 16\n",
       "\\item 17\n",
       "\\item 18\n",
       "\\item 19\n",
       "\\item 22\n",
       "\\end{enumerate*}\n"
      ],
      "text/markdown": [
       "1. 1\n",
       "2. 21\n",
       "3. 12\n",
       "4. 2\n",
       "5. 3\n",
       "6. 4\n",
       "7. 5\n",
       "8. 6\n",
       "9. 9\n",
       "10. 7\n",
       "11. 20\n",
       "12. 8\n",
       "13. 10\n",
       "14. 11\n",
       "15. 13\n",
       "16. 14\n",
       "17. 15\n",
       "18. 16\n",
       "19. 17\n",
       "20. 18\n",
       "21. 19\n",
       "22. 22\n",
       "\n",
       "\n"
      ],
      "text/plain": [
       " [1]  1 21 12  2  3  4  5  6  9  7 20  8 10 11 13 14 15 16 17 18 19 22"
      ]
     },
     "metadata": {},
     "output_type": "display_data"
    }
   ],
   "source": [
    "unique(Aging_hg38$`#CHROM`)"
   ]
  },
  {
   "cell_type": "code",
   "execution_count": 30,
   "id": "ed602b2e-e61c-4b8e-86d0-c26dbd6849f8",
   "metadata": {},
   "outputs": [],
   "source": [
    "Aging_remain = Aging_full |> select(-`#CHROM`, -POS)\n",
    "Aging_hg38_final = Aging_remain |> inner_join(Aging_hg38, by = 'ID')"
   ]
  },
  {
   "cell_type": "code",
   "execution_count": 32,
   "id": "d42ce15d-d2ad-42fd-842b-9fbf8614e8bd",
   "metadata": {},
   "outputs": [],
   "source": [
    "Aging_hg38_maf_lookup = Aging_hg38_final |> select(`#CHROM`, POS, ID,REF, ALT, ALT_FREQS, everything())"
   ]
  },
  {
   "cell_type": "code",
   "execution_count": 34,
   "id": "587e4b30-cd27-401f-996a-d486426862bf",
   "metadata": {},
   "outputs": [
    {
     "data": {
      "text/html": [
       "<table class=\"dataframe\">\n",
       "<caption>A data.table: 6 × 13</caption>\n",
       "<thead>\n",
       "\t<tr><th scope=col>#CHROM</th><th scope=col>POS</th><th scope=col>ID</th><th scope=col>REF</th><th scope=col>ALT</th><th scope=col>ALT_FREQS</th><th scope=col>OBS_CT</th><th scope=col>TEST</th><th scope=col>BETA</th><th scope=col>SE</th><th scope=col>T_STAT</th><th scope=col>P</th><th scope=col>ERRCODE</th></tr>\n",
       "\t<tr><th scope=col>&lt;int&gt;</th><th scope=col>&lt;int&gt;</th><th scope=col>&lt;chr&gt;</th><th scope=col>&lt;chr&gt;</th><th scope=col>&lt;chr&gt;</th><th scope=col>&lt;dbl&gt;</th><th scope=col>&lt;int&gt;</th><th scope=col>&lt;chr&gt;</th><th scope=col>&lt;dbl&gt;</th><th scope=col>&lt;dbl&gt;</th><th scope=col>&lt;dbl&gt;</th><th scope=col>&lt;dbl&gt;</th><th scope=col>&lt;chr&gt;</th></tr>\n",
       "</thead>\n",
       "<tbody>\n",
       "\t<tr><td>10</td><td>98255090</td><td>10:100014847_CT_C        </td><td>C         </td><td>CT    </td><td>0.36132800</td><td>65464</td><td>ADD</td><td>-0.02210690</td><td>0.00815256</td><td>-2.711650</td><td>0.00669835</td><td>.</td></tr>\n",
       "\t<tr><td>10</td><td>98279043</td><td>10:100038800_TTTTTG_T    </td><td>T         </td><td>TTTTTG</td><td>0.05221480</td><td>64158</td><td>ADD</td><td> 0.01677910</td><td>0.01772390</td><td> 0.946695</td><td>0.34380200</td><td>.</td></tr>\n",
       "\t<tr><td>10</td><td> 9963720</td><td>10:10005683_TATA_T       </td><td>T         </td><td>TATA  </td><td>0.06492100</td><td>64540</td><td>ADD</td><td> 0.00175404</td><td>0.01599610</td><td> 0.109654</td><td>0.91268400</td><td>.</td></tr>\n",
       "\t<tr><td>10</td><td>98297389</td><td>10:100057146_AG_A        </td><td>AG        </td><td>A     </td><td>0.02274270</td><td>64636</td><td>ADD</td><td>-0.06679940</td><td>0.02636790</td><td>-2.533360</td><td>0.01130230</td><td>.</td></tr>\n",
       "\t<tr><td>10</td><td>98323794</td><td>10:100083551_CTTTCTT_C   </td><td>CTTTCTT   </td><td>C     </td><td>0.00824576</td><td>64518</td><td>ADD</td><td> 0.04940610</td><td>0.04348060</td><td> 1.136280</td><td>0.25584800</td><td>.</td></tr>\n",
       "\t<tr><td>10</td><td>98330412</td><td>10:100090169_CTGCAGAAGA_C</td><td>CTGCAGAAGA</td><td>C     </td><td>0.21756900</td><td>65446</td><td>ADD</td><td> 0.01809470</td><td>0.00949446</td><td> 1.905820</td><td>0.05668270</td><td>.</td></tr>\n",
       "</tbody>\n",
       "</table>\n"
      ],
      "text/latex": [
       "A data.table: 6 × 13\n",
       "\\begin{tabular}{lllllllllllll}\n",
       " \\#CHROM & POS & ID & REF & ALT & ALT\\_FREQS & OBS\\_CT & TEST & BETA & SE & T\\_STAT & P & ERRCODE\\\\\n",
       " <int> & <int> & <chr> & <chr> & <chr> & <dbl> & <int> & <chr> & <dbl> & <dbl> & <dbl> & <dbl> & <chr>\\\\\n",
       "\\hline\n",
       "\t 10 & 98255090 & 10:100014847\\_CT\\_C         & C          & CT     & 0.36132800 & 65464 & ADD & -0.02210690 & 0.00815256 & -2.711650 & 0.00669835 & .\\\\\n",
       "\t 10 & 98279043 & 10:100038800\\_TTTTTG\\_T     & T          & TTTTTG & 0.05221480 & 64158 & ADD &  0.01677910 & 0.01772390 &  0.946695 & 0.34380200 & .\\\\\n",
       "\t 10 &  9963720 & 10:10005683\\_TATA\\_T        & T          & TATA   & 0.06492100 & 64540 & ADD &  0.00175404 & 0.01599610 &  0.109654 & 0.91268400 & .\\\\\n",
       "\t 10 & 98297389 & 10:100057146\\_AG\\_A         & AG         & A      & 0.02274270 & 64636 & ADD & -0.06679940 & 0.02636790 & -2.533360 & 0.01130230 & .\\\\\n",
       "\t 10 & 98323794 & 10:100083551\\_CTTTCTT\\_C    & CTTTCTT    & C      & 0.00824576 & 64518 & ADD &  0.04940610 & 0.04348060 &  1.136280 & 0.25584800 & .\\\\\n",
       "\t 10 & 98330412 & 10:100090169\\_CTGCAGAAGA\\_C & CTGCAGAAGA & C      & 0.21756900 & 65446 & ADD &  0.01809470 & 0.00949446 &  1.905820 & 0.05668270 & .\\\\\n",
       "\\end{tabular}\n"
      ],
      "text/markdown": [
       "\n",
       "A data.table: 6 × 13\n",
       "\n",
       "| #CHROM &lt;int&gt; | POS &lt;int&gt; | ID &lt;chr&gt; | REF &lt;chr&gt; | ALT &lt;chr&gt; | ALT_FREQS &lt;dbl&gt; | OBS_CT &lt;int&gt; | TEST &lt;chr&gt; | BETA &lt;dbl&gt; | SE &lt;dbl&gt; | T_STAT &lt;dbl&gt; | P &lt;dbl&gt; | ERRCODE &lt;chr&gt; |\n",
       "|---|---|---|---|---|---|---|---|---|---|---|---|---|\n",
       "| 10 | 98255090 | 10:100014847_CT_C         | C          | CT     | 0.36132800 | 65464 | ADD | -0.02210690 | 0.00815256 | -2.711650 | 0.00669835 | . |\n",
       "| 10 | 98279043 | 10:100038800_TTTTTG_T     | T          | TTTTTG | 0.05221480 | 64158 | ADD |  0.01677910 | 0.01772390 |  0.946695 | 0.34380200 | . |\n",
       "| 10 |  9963720 | 10:10005683_TATA_T        | T          | TATA   | 0.06492100 | 64540 | ADD |  0.00175404 | 0.01599610 |  0.109654 | 0.91268400 | . |\n",
       "| 10 | 98297389 | 10:100057146_AG_A         | AG         | A      | 0.02274270 | 64636 | ADD | -0.06679940 | 0.02636790 | -2.533360 | 0.01130230 | . |\n",
       "| 10 | 98323794 | 10:100083551_CTTTCTT_C    | CTTTCTT    | C      | 0.00824576 | 64518 | ADD |  0.04940610 | 0.04348060 |  1.136280 | 0.25584800 | . |\n",
       "| 10 | 98330412 | 10:100090169_CTGCAGAAGA_C | CTGCAGAAGA | C      | 0.21756900 | 65446 | ADD |  0.01809470 | 0.00949446 |  1.905820 | 0.05668270 | . |\n",
       "\n"
      ],
      "text/plain": [
       "  #CHROM POS      ID                        REF        ALT    ALT_FREQS  OBS_CT\n",
       "1 10     98255090 10:100014847_CT_C         C          CT     0.36132800 65464 \n",
       "2 10     98279043 10:100038800_TTTTTG_T     T          TTTTTG 0.05221480 64158 \n",
       "3 10      9963720 10:10005683_TATA_T        T          TATA   0.06492100 64540 \n",
       "4 10     98297389 10:100057146_AG_A         AG         A      0.02274270 64636 \n",
       "5 10     98323794 10:100083551_CTTTCTT_C    CTTTCTT    C      0.00824576 64518 \n",
       "6 10     98330412 10:100090169_CTGCAGAAGA_C CTGCAGAAGA C      0.21756900 65446 \n",
       "  TEST BETA        SE         T_STAT    P          ERRCODE\n",
       "1 ADD  -0.02210690 0.00815256 -2.711650 0.00669835 .      \n",
       "2 ADD   0.01677910 0.01772390  0.946695 0.34380200 .      \n",
       "3 ADD   0.00175404 0.01599610  0.109654 0.91268400 .      \n",
       "4 ADD  -0.06679940 0.02636790 -2.533360 0.01130230 .      \n",
       "5 ADD   0.04940610 0.04348060  1.136280 0.25584800 .      \n",
       "6 ADD   0.01809470 0.00949446  1.905820 0.05668270 .      "
      ]
     },
     "metadata": {},
     "output_type": "display_data"
    }
   ],
   "source": [
    "head(Aging_hg38_maf_lookup)"
   ]
  },
  {
   "cell_type": "code",
   "execution_count": 35,
   "id": "1a71fbcd-bdf3-4af7-8283-1b06b5fc1549",
   "metadata": {},
   "outputs": [],
   "source": [
    "fwrite(Aging_hg38_maf_lookup, \"Aging_hg38_maf_lookup.tsv.gz\", sep='\\t')"
   ]
  },
  {
   "cell_type": "markdown",
   "id": "cb60bb75-9125-4fba-bc5e-ab08113bb33d",
   "metadata": {
    "kernel": "SoS",
    "vscode": {
     "languageId": "r"
    }
   },
   "source": [
    "## AD_maf"
   ]
  },
  {
   "cell_type": "code",
   "execution_count": 39,
   "id": "e18ed473-8d22-45c7-a5bf-1c4a4e6b03dd",
   "metadata": {},
   "outputs": [
    {
     "data": {
      "text/html": [
       "<table class=\"dataframe\">\n",
       "<caption>A data.table: 6 × 6</caption>\n",
       "<thead>\n",
       "\t<tr><th scope=col>#CHROM</th><th scope=col>ID</th><th scope=col>REF</th><th scope=col>ALT</th><th scope=col>ALT_FREQS</th><th scope=col>OBS_CT</th></tr>\n",
       "\t<tr><th scope=col>&lt;int&gt;</th><th scope=col>&lt;chr&gt;</th><th scope=col>&lt;chr&gt;</th><th scope=col>&lt;chr&gt;</th><th scope=col>&lt;dbl&gt;</th><th scope=col>&lt;int&gt;</th></tr>\n",
       "</thead>\n",
       "<tbody>\n",
       "\t<tr><td>1</td><td>rs144155419   </td><td>G  </td><td>A </td><td>0.01058550</td><td>65656</td></tr>\n",
       "\t<tr><td>1</td><td>1:719854_CAG_C</td><td>CAG</td><td>C </td><td>0.00310018</td><td>65480</td></tr>\n",
       "\t<tr><td>1</td><td>rs553642122   </td><td>C  </td><td>T </td><td>0.00305936</td><td>65700</td></tr>\n",
       "\t<tr><td>1</td><td>rs181876450   </td><td>T  </td><td>C </td><td>0.00486611</td><td>65350</td></tr>\n",
       "\t<tr><td>1</td><td>rs201075335   </td><td>A  </td><td>AG</td><td>0.02831290</td><td>65094</td></tr>\n",
       "\t<tr><td>1</td><td>rs28544273    </td><td>T  </td><td>A </td><td>0.12156900</td><td>65938</td></tr>\n",
       "</tbody>\n",
       "</table>\n"
      ],
      "text/latex": [
       "A data.table: 6 × 6\n",
       "\\begin{tabular}{llllll}\n",
       " \\#CHROM & ID & REF & ALT & ALT\\_FREQS & OBS\\_CT\\\\\n",
       " <int> & <chr> & <chr> & <chr> & <dbl> & <int>\\\\\n",
       "\\hline\n",
       "\t 1 & rs144155419    & G   & A  & 0.01058550 & 65656\\\\\n",
       "\t 1 & 1:719854\\_CAG\\_C & CAG & C  & 0.00310018 & 65480\\\\\n",
       "\t 1 & rs553642122    & C   & T  & 0.00305936 & 65700\\\\\n",
       "\t 1 & rs181876450    & T   & C  & 0.00486611 & 65350\\\\\n",
       "\t 1 & rs201075335    & A   & AG & 0.02831290 & 65094\\\\\n",
       "\t 1 & rs28544273     & T   & A  & 0.12156900 & 65938\\\\\n",
       "\\end{tabular}\n"
      ],
      "text/markdown": [
       "\n",
       "A data.table: 6 × 6\n",
       "\n",
       "| #CHROM &lt;int&gt; | ID &lt;chr&gt; | REF &lt;chr&gt; | ALT &lt;chr&gt; | ALT_FREQS &lt;dbl&gt; | OBS_CT &lt;int&gt; |\n",
       "|---|---|---|---|---|---|\n",
       "| 1 | rs144155419    | G   | A  | 0.01058550 | 65656 |\n",
       "| 1 | 1:719854_CAG_C | CAG | C  | 0.00310018 | 65480 |\n",
       "| 1 | rs553642122    | C   | T  | 0.00305936 | 65700 |\n",
       "| 1 | rs181876450    | T   | C  | 0.00486611 | 65350 |\n",
       "| 1 | rs201075335    | A   | AG | 0.02831290 | 65094 |\n",
       "| 1 | rs28544273     | T   | A  | 0.12156900 | 65938 |\n",
       "\n"
      ],
      "text/plain": [
       "  #CHROM ID             REF ALT ALT_FREQS  OBS_CT\n",
       "1 1      rs144155419    G   A   0.01058550 65656 \n",
       "2 1      1:719854_CAG_C CAG C   0.00310018 65480 \n",
       "3 1      rs553642122    C   T   0.00305936 65700 \n",
       "4 1      rs181876450    T   C   0.00486611 65350 \n",
       "5 1      rs201075335    A   AG  0.02831290 65094 \n",
       "6 1      rs28544273     T   A   0.12156900 65938 "
      ]
     },
     "metadata": {},
     "output_type": "display_data"
    }
   ],
   "source": [
    "AD_maf = fread(\"~/project/SmileGAN_scores_pheno_normalized_residualized.afreq.gz\")\n",
    "head(AD_maf)"
   ]
  },
  {
   "cell_type": "code",
   "execution_count": 36,
   "id": "8baaca82-2212-46d2-9e73-12a7e6a4b2bb",
   "metadata": {},
   "outputs": [
    {
     "data": {
      "text/html": [
       "<table class=\"dataframe\">\n",
       "<caption>A data.table: 6 × 8</caption>\n",
       "<thead>\n",
       "\t<tr><th scope=col>POS</th><th scope=col>ID</th><th scope=col>TEST</th><th scope=col>BETA</th><th scope=col>SE</th><th scope=col>T_STAT</th><th scope=col>P</th><th scope=col>ERRCODE</th></tr>\n",
       "\t<tr><th scope=col>&lt;int&gt;</th><th scope=col>&lt;chr&gt;</th><th scope=col>&lt;chr&gt;</th><th scope=col>&lt;dbl&gt;</th><th scope=col>&lt;dbl&gt;</th><th scope=col>&lt;dbl&gt;</th><th scope=col>&lt;dbl&gt;</th><th scope=col>&lt;chr&gt;</th></tr>\n",
       "</thead>\n",
       "<tbody>\n",
       "\t<tr><td>717587</td><td>rs144155419      </td><td>ADD</td><td>-0.000334046</td><td>0.0392128</td><td>-0.0085188</td><td>0.993203</td><td>.</td></tr>\n",
       "\t<tr><td>719854</td><td>1:719854_CAG_C   </td><td>ADD</td><td>-0.097526600</td><td>0.0726473</td><td>-1.3424700</td><td>0.179454</td><td>.</td></tr>\n",
       "\t<tr><td>723891</td><td>rs2977670        </td><td>ADD</td><td> 0.031395200</td><td>0.0222987</td><td> 1.4079400</td><td>0.159160</td><td>.</td></tr>\n",
       "\t<tr><td>724295</td><td>1:724295_TGGAAC_T</td><td>ADD</td><td> 0.034595300</td><td>0.0537308</td><td> 0.6438630</td><td>0.519669</td><td>.</td></tr>\n",
       "\t<tr><td>736689</td><td>rs181876450      </td><td>ADD</td><td>-0.048063700</td><td>0.0579955</td><td>-0.8287490</td><td>0.407253</td><td>.</td></tr>\n",
       "\t<tr><td>752721</td><td>rs3131972        </td><td>ADD</td><td> 0.003228840</td><td>0.0110722</td><td> 0.2916160</td><td>0.770582</td><td>.</td></tr>\n",
       "</tbody>\n",
       "</table>\n"
      ],
      "text/latex": [
       "A data.table: 6 × 8\n",
       "\\begin{tabular}{llllllll}\n",
       " POS & ID & TEST & BETA & SE & T\\_STAT & P & ERRCODE\\\\\n",
       " <int> & <chr> & <chr> & <dbl> & <dbl> & <dbl> & <dbl> & <chr>\\\\\n",
       "\\hline\n",
       "\t 717587 & rs144155419       & ADD & -0.000334046 & 0.0392128 & -0.0085188 & 0.993203 & .\\\\\n",
       "\t 719854 & 1:719854\\_CAG\\_C    & ADD & -0.097526600 & 0.0726473 & -1.3424700 & 0.179454 & .\\\\\n",
       "\t 723891 & rs2977670         & ADD &  0.031395200 & 0.0222987 &  1.4079400 & 0.159160 & .\\\\\n",
       "\t 724295 & 1:724295\\_TGGAAC\\_T & ADD &  0.034595300 & 0.0537308 &  0.6438630 & 0.519669 & .\\\\\n",
       "\t 736689 & rs181876450       & ADD & -0.048063700 & 0.0579955 & -0.8287490 & 0.407253 & .\\\\\n",
       "\t 752721 & rs3131972         & ADD &  0.003228840 & 0.0110722 &  0.2916160 & 0.770582 & .\\\\\n",
       "\\end{tabular}\n"
      ],
      "text/markdown": [
       "\n",
       "A data.table: 6 × 8\n",
       "\n",
       "| POS &lt;int&gt; | ID &lt;chr&gt; | TEST &lt;chr&gt; | BETA &lt;dbl&gt; | SE &lt;dbl&gt; | T_STAT &lt;dbl&gt; | P &lt;dbl&gt; | ERRCODE &lt;chr&gt; |\n",
       "|---|---|---|---|---|---|---|---|\n",
       "| 717587 | rs144155419       | ADD | -0.000334046 | 0.0392128 | -0.0085188 | 0.993203 | . |\n",
       "| 719854 | 1:719854_CAG_C    | ADD | -0.097526600 | 0.0726473 | -1.3424700 | 0.179454 | . |\n",
       "| 723891 | rs2977670         | ADD |  0.031395200 | 0.0222987 |  1.4079400 | 0.159160 | . |\n",
       "| 724295 | 1:724295_TGGAAC_T | ADD |  0.034595300 | 0.0537308 |  0.6438630 | 0.519669 | . |\n",
       "| 736689 | rs181876450       | ADD | -0.048063700 | 0.0579955 | -0.8287490 | 0.407253 | . |\n",
       "| 752721 | rs3131972         | ADD |  0.003228840 | 0.0110722 |  0.2916160 | 0.770582 | . |\n",
       "\n"
      ],
      "text/plain": [
       "  POS    ID                TEST BETA         SE        T_STAT     P       \n",
       "1 717587 rs144155419       ADD  -0.000334046 0.0392128 -0.0085188 0.993203\n",
       "2 719854 1:719854_CAG_C    ADD  -0.097526600 0.0726473 -1.3424700 0.179454\n",
       "3 723891 rs2977670         ADD   0.031395200 0.0222987  1.4079400 0.159160\n",
       "4 724295 1:724295_TGGAAC_T ADD   0.034595300 0.0537308  0.6438630 0.519669\n",
       "5 736689 rs181876450       ADD  -0.048063700 0.0579955 -0.8287490 0.407253\n",
       "6 752721 rs3131972         ADD   0.003228840 0.0110722  0.2916160 0.770582\n",
       "  ERRCODE\n",
       "1 .      \n",
       "2 .      \n",
       "3 .      \n",
       "4 .      \n",
       "5 .      \n",
       "6 .      "
      ]
     },
     "metadata": {},
     "output_type": "display_data"
    }
   ],
   "source": [
    "AD_pos = fread(\"~/project/dne_pheno_normalized_residualized.AD_SurrealGAN_1.glm.linear.gz\") |> select(-`#CHROM`, -OBS_CT, -ALT, -REF, -A1)\n",
    "head(AD_pos)"
   ]
  },
  {
   "cell_type": "code",
   "execution_count": 40,
   "id": "b4fa9c45-b307-44a8-91f7-62fe7014b022",
   "metadata": {},
   "outputs": [
    {
     "data": {
      "text/html": [
       "<style>\n",
       ".list-inline {list-style: none; margin:0; padding: 0}\n",
       ".list-inline>li {display: inline-block}\n",
       ".list-inline>li:not(:last-child)::after {content: \"\\00b7\"; padding: 0 .5ex}\n",
       "</style>\n",
       "<ol class=list-inline><li>8469833</li><li>6</li></ol>\n"
      ],
      "text/latex": [
       "\\begin{enumerate*}\n",
       "\\item 8469833\n",
       "\\item 6\n",
       "\\end{enumerate*}\n"
      ],
      "text/markdown": [
       "1. 8469833\n",
       "2. 6\n",
       "\n",
       "\n"
      ],
      "text/plain": [
       "[1] 8469833       6"
      ]
     },
     "metadata": {},
     "output_type": "display_data"
    },
    {
     "data": {
      "text/html": [
       "<style>\n",
       ".list-inline {list-style: none; margin:0; padding: 0}\n",
       ".list-inline>li {display: inline-block}\n",
       ".list-inline>li:not(:last-child)::after {content: \"\\00b7\"; padding: 0 .5ex}\n",
       "</style>\n",
       "<ol class=list-inline><li>6477810</li><li>8</li></ol>\n"
      ],
      "text/latex": [
       "\\begin{enumerate*}\n",
       "\\item 6477810\n",
       "\\item 8\n",
       "\\end{enumerate*}\n"
      ],
      "text/markdown": [
       "1. 6477810\n",
       "2. 8\n",
       "\n",
       "\n"
      ],
      "text/plain": [
       "[1] 6477810       8"
      ]
     },
     "metadata": {},
     "output_type": "display_data"
    }
   ],
   "source": [
    "dim(AD_maf)\n",
    "dim(AD_pos)"
   ]
  },
  {
   "cell_type": "code",
   "execution_count": 41,
   "id": "28cb6751-0355-4eae-83aa-f22193f22de9",
   "metadata": {},
   "outputs": [
    {
     "data": {
      "text/html": [
       "<table class=\"dataframe\">\n",
       "<caption>A data.table: 6 × 13</caption>\n",
       "<thead>\n",
       "\t<tr><th scope=col>ID</th><th scope=col>#CHROM</th><th scope=col>REF</th><th scope=col>ALT</th><th scope=col>ALT_FREQS</th><th scope=col>OBS_CT</th><th scope=col>POS</th><th scope=col>TEST</th><th scope=col>BETA</th><th scope=col>SE</th><th scope=col>T_STAT</th><th scope=col>P</th><th scope=col>ERRCODE</th></tr>\n",
       "\t<tr><th scope=col>&lt;chr&gt;</th><th scope=col>&lt;int&gt;</th><th scope=col>&lt;chr&gt;</th><th scope=col>&lt;chr&gt;</th><th scope=col>&lt;dbl&gt;</th><th scope=col>&lt;int&gt;</th><th scope=col>&lt;int&gt;</th><th scope=col>&lt;chr&gt;</th><th scope=col>&lt;dbl&gt;</th><th scope=col>&lt;dbl&gt;</th><th scope=col>&lt;dbl&gt;</th><th scope=col>&lt;dbl&gt;</th><th scope=col>&lt;chr&gt;</th></tr>\n",
       "</thead>\n",
       "<tbody>\n",
       "\t<tr><td>10:100014847_CT_C        </td><td>10</td><td>C         </td><td>CT  </td><td>0.36134900</td><td>66880</td><td>100014847</td><td>ADD</td><td>-0.00108255</td><td>0.00827278</td><td>-0.130857</td><td>0.895889</td><td>.</td></tr>\n",
       "\t<tr><td>10:10005683_TATA_T       </td><td>10</td><td>T         </td><td>TATA</td><td>0.06486650</td><td>65920</td><td> 10005683</td><td>ADD</td><td>-0.02282480</td><td>0.01622730</td><td>-1.406570</td><td>0.159566</td><td>.</td></tr>\n",
       "\t<tr><td>10:100057146_AG_A        </td><td>10</td><td>AG        </td><td>A   </td><td>0.02270180</td><td>66030</td><td>100057146</td><td>ADD</td><td> 0.02762960</td><td>0.02678280</td><td> 1.031620</td><td>0.302259</td><td>.</td></tr>\n",
       "\t<tr><td>10:100083551_CTTTCTT_C   </td><td>10</td><td>CTTTCTT   </td><td>C   </td><td>0.00822358</td><td>65908</td><td>100083551</td><td>ADD</td><td>-0.01015530</td><td>0.04438640</td><td>-0.228793</td><td>0.819031</td><td>.</td></tr>\n",
       "\t<tr><td>10:100090169_CTGCAGAAGA_C</td><td>10</td><td>CTGCAGAAGA</td><td>C   </td><td>0.21746300</td><td>66862</td><td>100090169</td><td>ADD</td><td> 0.01203230</td><td>0.00963658</td><td> 1.248610</td><td>0.211817</td><td>.</td></tr>\n",
       "\t<tr><td>10:100104300_TC_T        </td><td>10</td><td>TC        </td><td>T   </td><td>0.30165500</td><td>66354</td><td>100104300</td><td>ADD</td><td> 0.01339790</td><td>0.00867733</td><td> 1.544010</td><td>0.122596</td><td>.</td></tr>\n",
       "</tbody>\n",
       "</table>\n"
      ],
      "text/latex": [
       "A data.table: 6 × 13\n",
       "\\begin{tabular}{lllllllllllll}\n",
       " ID & \\#CHROM & REF & ALT & ALT\\_FREQS & OBS\\_CT & POS & TEST & BETA & SE & T\\_STAT & P & ERRCODE\\\\\n",
       " <chr> & <int> & <chr> & <chr> & <dbl> & <int> & <int> & <chr> & <dbl> & <dbl> & <dbl> & <dbl> & <chr>\\\\\n",
       "\\hline\n",
       "\t 10:100014847\\_CT\\_C         & 10 & C          & CT   & 0.36134900 & 66880 & 100014847 & ADD & -0.00108255 & 0.00827278 & -0.130857 & 0.895889 & .\\\\\n",
       "\t 10:10005683\\_TATA\\_T        & 10 & T          & TATA & 0.06486650 & 65920 &  10005683 & ADD & -0.02282480 & 0.01622730 & -1.406570 & 0.159566 & .\\\\\n",
       "\t 10:100057146\\_AG\\_A         & 10 & AG         & A    & 0.02270180 & 66030 & 100057146 & ADD &  0.02762960 & 0.02678280 &  1.031620 & 0.302259 & .\\\\\n",
       "\t 10:100083551\\_CTTTCTT\\_C    & 10 & CTTTCTT    & C    & 0.00822358 & 65908 & 100083551 & ADD & -0.01015530 & 0.04438640 & -0.228793 & 0.819031 & .\\\\\n",
       "\t 10:100090169\\_CTGCAGAAGA\\_C & 10 & CTGCAGAAGA & C    & 0.21746300 & 66862 & 100090169 & ADD &  0.01203230 & 0.00963658 &  1.248610 & 0.211817 & .\\\\\n",
       "\t 10:100104300\\_TC\\_T         & 10 & TC         & T    & 0.30165500 & 66354 & 100104300 & ADD &  0.01339790 & 0.00867733 &  1.544010 & 0.122596 & .\\\\\n",
       "\\end{tabular}\n"
      ],
      "text/markdown": [
       "\n",
       "A data.table: 6 × 13\n",
       "\n",
       "| ID &lt;chr&gt; | #CHROM &lt;int&gt; | REF &lt;chr&gt; | ALT &lt;chr&gt; | ALT_FREQS &lt;dbl&gt; | OBS_CT &lt;int&gt; | POS &lt;int&gt; | TEST &lt;chr&gt; | BETA &lt;dbl&gt; | SE &lt;dbl&gt; | T_STAT &lt;dbl&gt; | P &lt;dbl&gt; | ERRCODE &lt;chr&gt; |\n",
       "|---|---|---|---|---|---|---|---|---|---|---|---|---|\n",
       "| 10:100014847_CT_C         | 10 | C          | CT   | 0.36134900 | 66880 | 100014847 | ADD | -0.00108255 | 0.00827278 | -0.130857 | 0.895889 | . |\n",
       "| 10:10005683_TATA_T        | 10 | T          | TATA | 0.06486650 | 65920 |  10005683 | ADD | -0.02282480 | 0.01622730 | -1.406570 | 0.159566 | . |\n",
       "| 10:100057146_AG_A         | 10 | AG         | A    | 0.02270180 | 66030 | 100057146 | ADD |  0.02762960 | 0.02678280 |  1.031620 | 0.302259 | . |\n",
       "| 10:100083551_CTTTCTT_C    | 10 | CTTTCTT    | C    | 0.00822358 | 65908 | 100083551 | ADD | -0.01015530 | 0.04438640 | -0.228793 | 0.819031 | . |\n",
       "| 10:100090169_CTGCAGAAGA_C | 10 | CTGCAGAAGA | C    | 0.21746300 | 66862 | 100090169 | ADD |  0.01203230 | 0.00963658 |  1.248610 | 0.211817 | . |\n",
       "| 10:100104300_TC_T         | 10 | TC         | T    | 0.30165500 | 66354 | 100104300 | ADD |  0.01339790 | 0.00867733 |  1.544010 | 0.122596 | . |\n",
       "\n"
      ],
      "text/plain": [
       "  ID                        #CHROM REF        ALT  ALT_FREQS  OBS_CT POS      \n",
       "1 10:100014847_CT_C         10     C          CT   0.36134900 66880  100014847\n",
       "2 10:10005683_TATA_T        10     T          TATA 0.06486650 65920   10005683\n",
       "3 10:100057146_AG_A         10     AG         A    0.02270180 66030  100057146\n",
       "4 10:100083551_CTTTCTT_C    10     CTTTCTT    C    0.00822358 65908  100083551\n",
       "5 10:100090169_CTGCAGAAGA_C 10     CTGCAGAAGA C    0.21746300 66862  100090169\n",
       "6 10:100104300_TC_T         10     TC         T    0.30165500 66354  100104300\n",
       "  TEST BETA        SE         T_STAT    P        ERRCODE\n",
       "1 ADD  -0.00108255 0.00827278 -0.130857 0.895889 .      \n",
       "2 ADD  -0.02282480 0.01622730 -1.406570 0.159566 .      \n",
       "3 ADD   0.02762960 0.02678280  1.031620 0.302259 .      \n",
       "4 ADD  -0.01015530 0.04438640 -0.228793 0.819031 .      \n",
       "5 ADD   0.01203230 0.00963658  1.248610 0.211817 .      \n",
       "6 ADD   0.01339790 0.00867733  1.544010 0.122596 .      "
      ]
     },
     "metadata": {},
     "output_type": "display_data"
    },
    {
     "data": {
      "text/html": [
       "<style>\n",
       ".list-inline {list-style: none; margin:0; padding: 0}\n",
       ".list-inline>li {display: inline-block}\n",
       ".list-inline>li:not(:last-child)::after {content: \"\\00b7\"; padding: 0 .5ex}\n",
       "</style>\n",
       "<ol class=list-inline><li>6440556</li><li>13</li></ol>\n"
      ],
      "text/latex": [
       "\\begin{enumerate*}\n",
       "\\item 6440556\n",
       "\\item 13\n",
       "\\end{enumerate*}\n"
      ],
      "text/markdown": [
       "1. 6440556\n",
       "2. 13\n",
       "\n",
       "\n"
      ],
      "text/plain": [
       "[1] 6440556      13"
      ]
     },
     "metadata": {},
     "output_type": "display_data"
    }
   ],
   "source": [
    "\n",
    "AD_full = merge(AD_maf, AD_pos, by = \"ID\")\n",
    "head(AD_full)\n",
    "dim(AD_full)\n"
   ]
  },
  {
   "cell_type": "markdown",
   "id": "11b2d1f4-2251-4228-81a3-70d26e41c9d0",
   "metadata": {
    "kernel": "SoS"
   },
   "source": [
    "# Read in the hg38 .bed(three columns-chrom, pos, id) and merge it back to the original summary statistics \n",
    "All AD image GWAS summary statistics have the same variant pos"
   ]
  },
  {
   "cell_type": "code",
   "execution_count": 42,
   "id": "3b36d38d-c132-4f47-a672-06931ca1f483",
   "metadata": {
    "kernel": "SoS",
    "vscode": {
     "languageId": "r"
    }
   },
   "outputs": [],
   "source": [
    "AD_hg38 = fread(\"/home/ubuntu/project/conversion/AD1_hg19.to_hg38.bed\")"
   ]
  },
  {
   "cell_type": "code",
   "execution_count": 43,
   "id": "37779d62-fe44-4f2f-8dde-2f76abcbb7e0",
   "metadata": {
    "kernel": "SoS",
    "vscode": {
     "languageId": "r"
    }
   },
   "outputs": [
    {
     "data": {
      "text/html": [
       "<table class=\"dataframe\">\n",
       "<caption>A data.table: 6 × 4</caption>\n",
       "<thead>\n",
       "\t<tr><th scope=col>V1</th><th scope=col>V2</th><th scope=col>V3</th><th scope=col>V4</th></tr>\n",
       "\t<tr><th scope=col>&lt;chr&gt;</th><th scope=col>&lt;int&gt;</th><th scope=col>&lt;int&gt;</th><th scope=col>&lt;chr&gt;</th></tr>\n",
       "</thead>\n",
       "<tbody>\n",
       "\t<tr><td>chr1</td><td>782207</td><td>782207</td><td>rs144155419      </td></tr>\n",
       "\t<tr><td>chr1</td><td>784474</td><td>784474</td><td>1:719854_CAG_C   </td></tr>\n",
       "\t<tr><td>chr1</td><td>788511</td><td>788511</td><td>rs2977670        </td></tr>\n",
       "\t<tr><td>chr1</td><td>788915</td><td>788915</td><td>1:724295_TGGAAC_T</td></tr>\n",
       "\t<tr><td>chr1</td><td>801309</td><td>801309</td><td>rs181876450      </td></tr>\n",
       "\t<tr><td>chr1</td><td>817341</td><td>817341</td><td>rs3131972        </td></tr>\n",
       "</tbody>\n",
       "</table>\n"
      ],
      "text/latex": [
       "A data.table: 6 × 4\n",
       "\\begin{tabular}{llll}\n",
       " V1 & V2 & V3 & V4\\\\\n",
       " <chr> & <int> & <int> & <chr>\\\\\n",
       "\\hline\n",
       "\t chr1 & 782207 & 782207 & rs144155419      \\\\\n",
       "\t chr1 & 784474 & 784474 & 1:719854\\_CAG\\_C   \\\\\n",
       "\t chr1 & 788511 & 788511 & rs2977670        \\\\\n",
       "\t chr1 & 788915 & 788915 & 1:724295\\_TGGAAC\\_T\\\\\n",
       "\t chr1 & 801309 & 801309 & rs181876450      \\\\\n",
       "\t chr1 & 817341 & 817341 & rs3131972        \\\\\n",
       "\\end{tabular}\n"
      ],
      "text/markdown": [
       "\n",
       "A data.table: 6 × 4\n",
       "\n",
       "| V1 &lt;chr&gt; | V2 &lt;int&gt; | V3 &lt;int&gt; | V4 &lt;chr&gt; |\n",
       "|---|---|---|---|\n",
       "| chr1 | 782207 | 782207 | rs144155419       |\n",
       "| chr1 | 784474 | 784474 | 1:719854_CAG_C    |\n",
       "| chr1 | 788511 | 788511 | rs2977670         |\n",
       "| chr1 | 788915 | 788915 | 1:724295_TGGAAC_T |\n",
       "| chr1 | 801309 | 801309 | rs181876450       |\n",
       "| chr1 | 817341 | 817341 | rs3131972         |\n",
       "\n"
      ],
      "text/plain": [
       "  V1   V2     V3     V4               \n",
       "1 chr1 782207 782207 rs144155419      \n",
       "2 chr1 784474 784474 1:719854_CAG_C   \n",
       "3 chr1 788511 788511 rs2977670        \n",
       "4 chr1 788915 788915 1:724295_TGGAAC_T\n",
       "5 chr1 801309 801309 rs181876450      \n",
       "6 chr1 817341 817341 rs3131972        "
      ]
     },
     "metadata": {},
     "output_type": "display_data"
    },
    {
     "data": {
      "text/html": [
       "<style>\n",
       ".list-inline {list-style: none; margin:0; padding: 0}\n",
       ".list-inline>li {display: inline-block}\n",
       ".list-inline>li:not(:last-child)::after {content: \"\\00b7\"; padding: 0 .5ex}\n",
       "</style>\n",
       "<ol class=list-inline><li>6476585</li><li>4</li></ol>\n"
      ],
      "text/latex": [
       "\\begin{enumerate*}\n",
       "\\item 6476585\n",
       "\\item 4\n",
       "\\end{enumerate*}\n"
      ],
      "text/markdown": [
       "1. 6476585\n",
       "2. 4\n",
       "\n",
       "\n"
      ],
      "text/plain": [
       "[1] 6476585       4"
      ]
     },
     "metadata": {},
     "output_type": "display_data"
    }
   ],
   "source": [
    "head(AD_hg38)\n",
    "dim(AD_hg38)"
   ]
  },
  {
   "cell_type": "code",
   "execution_count": 44,
   "id": "9a9a6f84-86a6-4faf-9774-aa9434a7e608",
   "metadata": {
    "kernel": "SoS",
    "vscode": {
     "languageId": "r"
    }
   },
   "outputs": [],
   "source": [
    "AD_hg38 = AD_hg38[,-3]"
   ]
  },
  {
   "cell_type": "code",
   "execution_count": 45,
   "id": "5afbdffd-ced7-4b05-84f8-e0ef47e8fa37",
   "metadata": {
    "kernel": "SoS",
    "vscode": {
     "languageId": "r"
    }
   },
   "outputs": [],
   "source": [
    "colnames(AD_hg38) <- c(\"#CHROM\",\"POS\",\"ID\")"
   ]
  },
  {
   "cell_type": "code",
   "execution_count": 46,
   "id": "15cfc853-59d8-415f-92e3-839d358941c6",
   "metadata": {
    "kernel": "SoS",
    "vscode": {
     "languageId": "r"
    }
   },
   "outputs": [],
   "source": [
    "AD_hg38 = AD_hg38 |> mutate(`#CHROM` = gsub(\"chr\", \"\", `#CHROM`))"
   ]
  },
  {
   "cell_type": "code",
   "execution_count": 47,
   "id": "9b8457cd-9d76-4fc4-b259-b8463fc9ac1b",
   "metadata": {
    "kernel": "SoS",
    "vscode": {
     "languageId": "r"
    }
   },
   "outputs": [
    {
     "name": "stderr",
     "output_type": "stream",
     "text": [
      "Warning message:\n",
      "“\u001b[1m\u001b[22mThere was 1 warning in `mutate()`.\n",
      "\u001b[1m\u001b[22m\u001b[36mℹ\u001b[39m In argument: `#CHROM = as.integer(`#CHROM`)`.\n",
      "Caused by warning:\n",
      "\u001b[33m!\u001b[39m NAs introduced by coercion”\n"
     ]
    }
   ],
   "source": [
    "AD_hg38 = AD_hg38 |> mutate(`#CHROM`=as.integer(`#CHROM`))"
   ]
  },
  {
   "cell_type": "code",
   "execution_count": 48,
   "id": "6eb9d933-cd54-4c97-9dc7-9a1853c89693",
   "metadata": {
    "kernel": "SoS",
    "vscode": {
     "languageId": "r"
    }
   },
   "outputs": [],
   "source": [
    "AD_hg38 = AD_hg38 |> filter(!is.na(`#CHROM`))"
   ]
  },
  {
   "cell_type": "code",
   "execution_count": 49,
   "id": "69f663b9-cba6-48bd-b055-ef2b744a56bb",
   "metadata": {
    "kernel": "SoS",
    "vscode": {
     "languageId": "r"
    }
   },
   "outputs": [
    {
     "data": {
      "text/html": [
       "<table class=\"dataframe\">\n",
       "<caption>A data.table: 6 × 3</caption>\n",
       "<thead>\n",
       "\t<tr><th scope=col>#CHROM</th><th scope=col>POS</th><th scope=col>ID</th></tr>\n",
       "\t<tr><th scope=col>&lt;int&gt;</th><th scope=col>&lt;int&gt;</th><th scope=col>&lt;chr&gt;</th></tr>\n",
       "</thead>\n",
       "<tbody>\n",
       "\t<tr><td>1</td><td>782207</td><td>rs144155419      </td></tr>\n",
       "\t<tr><td>1</td><td>784474</td><td>1:719854_CAG_C   </td></tr>\n",
       "\t<tr><td>1</td><td>788511</td><td>rs2977670        </td></tr>\n",
       "\t<tr><td>1</td><td>788915</td><td>1:724295_TGGAAC_T</td></tr>\n",
       "\t<tr><td>1</td><td>801309</td><td>rs181876450      </td></tr>\n",
       "\t<tr><td>1</td><td>817341</td><td>rs3131972        </td></tr>\n",
       "</tbody>\n",
       "</table>\n"
      ],
      "text/latex": [
       "A data.table: 6 × 3\n",
       "\\begin{tabular}{lll}\n",
       " \\#CHROM & POS & ID\\\\\n",
       " <int> & <int> & <chr>\\\\\n",
       "\\hline\n",
       "\t 1 & 782207 & rs144155419      \\\\\n",
       "\t 1 & 784474 & 1:719854\\_CAG\\_C   \\\\\n",
       "\t 1 & 788511 & rs2977670        \\\\\n",
       "\t 1 & 788915 & 1:724295\\_TGGAAC\\_T\\\\\n",
       "\t 1 & 801309 & rs181876450      \\\\\n",
       "\t 1 & 817341 & rs3131972        \\\\\n",
       "\\end{tabular}\n"
      ],
      "text/markdown": [
       "\n",
       "A data.table: 6 × 3\n",
       "\n",
       "| #CHROM &lt;int&gt; | POS &lt;int&gt; | ID &lt;chr&gt; |\n",
       "|---|---|---|\n",
       "| 1 | 782207 | rs144155419       |\n",
       "| 1 | 784474 | 1:719854_CAG_C    |\n",
       "| 1 | 788511 | rs2977670         |\n",
       "| 1 | 788915 | 1:724295_TGGAAC_T |\n",
       "| 1 | 801309 | rs181876450       |\n",
       "| 1 | 817341 | rs3131972         |\n",
       "\n"
      ],
      "text/plain": [
       "  #CHROM POS    ID               \n",
       "1 1      782207 rs144155419      \n",
       "2 1      784474 1:719854_CAG_C   \n",
       "3 1      788511 rs2977670        \n",
       "4 1      788915 1:724295_TGGAAC_T\n",
       "5 1      801309 rs181876450      \n",
       "6 1      817341 rs3131972        "
      ]
     },
     "metadata": {},
     "output_type": "display_data"
    },
    {
     "data": {
      "text/html": [
       "<style>\n",
       ".list-inline {list-style: none; margin:0; padding: 0}\n",
       ".list-inline>li {display: inline-block}\n",
       ".list-inline>li:not(:last-child)::after {content: \"\\00b7\"; padding: 0 .5ex}\n",
       "</style>\n",
       "<ol class=list-inline><li>6475770</li><li>3</li></ol>\n"
      ],
      "text/latex": [
       "\\begin{enumerate*}\n",
       "\\item 6475770\n",
       "\\item 3\n",
       "\\end{enumerate*}\n"
      ],
      "text/markdown": [
       "1. 6475770\n",
       "2. 3\n",
       "\n",
       "\n"
      ],
      "text/plain": [
       "[1] 6475770       3"
      ]
     },
     "metadata": {},
     "output_type": "display_data"
    }
   ],
   "source": [
    "head(AD_hg38)\n",
    "dim(AD_hg38)"
   ]
  },
  {
   "cell_type": "code",
   "execution_count": 50,
   "id": "765d45f5-154f-4311-ac71-2010b6fd4a0c",
   "metadata": {
    "kernel": "SoS",
    "vscode": {
     "languageId": "r"
    }
   },
   "outputs": [
    {
     "data": {
      "text/html": [
       "<style>\n",
       ".list-inline {list-style: none; margin:0; padding: 0}\n",
       ".list-inline>li {display: inline-block}\n",
       ".list-inline>li:not(:last-child)::after {content: \"\\00b7\"; padding: 0 .5ex}\n",
       "</style>\n",
       "<ol class=list-inline><li>1</li><li>21</li><li>12</li><li>2</li><li>3</li><li>4</li><li>5</li><li>6</li><li>9</li><li>7</li><li>20</li><li>8</li><li>10</li><li>11</li><li>13</li><li>14</li><li>15</li><li>16</li><li>17</li><li>18</li><li>19</li><li>22</li></ol>\n"
      ],
      "text/latex": [
       "\\begin{enumerate*}\n",
       "\\item 1\n",
       "\\item 21\n",
       "\\item 12\n",
       "\\item 2\n",
       "\\item 3\n",
       "\\item 4\n",
       "\\item 5\n",
       "\\item 6\n",
       "\\item 9\n",
       "\\item 7\n",
       "\\item 20\n",
       "\\item 8\n",
       "\\item 10\n",
       "\\item 11\n",
       "\\item 13\n",
       "\\item 14\n",
       "\\item 15\n",
       "\\item 16\n",
       "\\item 17\n",
       "\\item 18\n",
       "\\item 19\n",
       "\\item 22\n",
       "\\end{enumerate*}\n"
      ],
      "text/markdown": [
       "1. 1\n",
       "2. 21\n",
       "3. 12\n",
       "4. 2\n",
       "5. 3\n",
       "6. 4\n",
       "7. 5\n",
       "8. 6\n",
       "9. 9\n",
       "10. 7\n",
       "11. 20\n",
       "12. 8\n",
       "13. 10\n",
       "14. 11\n",
       "15. 13\n",
       "16. 14\n",
       "17. 15\n",
       "18. 16\n",
       "19. 17\n",
       "20. 18\n",
       "21. 19\n",
       "22. 22\n",
       "\n",
       "\n"
      ],
      "text/plain": [
       " [1]  1 21 12  2  3  4  5  6  9  7 20  8 10 11 13 14 15 16 17 18 19 22"
      ]
     },
     "metadata": {},
     "output_type": "display_data"
    }
   ],
   "source": [
    "unique(AD_hg38$`#CHROM`)"
   ]
  },
  {
   "cell_type": "code",
   "execution_count": 51,
   "id": "c7a8ea5c-221a-4db1-a1c3-ddb4a4d99c6c",
   "metadata": {},
   "outputs": [],
   "source": [
    "AD_remain = AD_full |> select(-`#CHROM`, -POS)\n",
    "AD_hg38_final = AD_remain |> inner_join(AD_hg38, by = 'ID')"
   ]
  },
  {
   "cell_type": "code",
   "execution_count": 52,
   "id": "2e8cb0c7-b91c-4e6c-9280-00825c0270b8",
   "metadata": {},
   "outputs": [],
   "source": [
    "AD_hg38_maf_lookup = AD_hg38_final |> select(`#CHROM`, POS, ID,REF, ALT, ALT_FREQS, everything())"
   ]
  },
  {
   "cell_type": "code",
   "execution_count": 53,
   "id": "0d2eec04-a054-4496-abd7-99bf612d1311",
   "metadata": {},
   "outputs": [
    {
     "data": {
      "text/html": [
       "<table class=\"dataframe\">\n",
       "<caption>A data.table: 6 × 13</caption>\n",
       "<thead>\n",
       "\t<tr><th scope=col>#CHROM</th><th scope=col>POS</th><th scope=col>ID</th><th scope=col>REF</th><th scope=col>ALT</th><th scope=col>ALT_FREQS</th><th scope=col>OBS_CT</th><th scope=col>TEST</th><th scope=col>BETA</th><th scope=col>SE</th><th scope=col>T_STAT</th><th scope=col>P</th><th scope=col>ERRCODE</th></tr>\n",
       "\t<tr><th scope=col>&lt;int&gt;</th><th scope=col>&lt;int&gt;</th><th scope=col>&lt;chr&gt;</th><th scope=col>&lt;chr&gt;</th><th scope=col>&lt;chr&gt;</th><th scope=col>&lt;dbl&gt;</th><th scope=col>&lt;int&gt;</th><th scope=col>&lt;chr&gt;</th><th scope=col>&lt;dbl&gt;</th><th scope=col>&lt;dbl&gt;</th><th scope=col>&lt;dbl&gt;</th><th scope=col>&lt;dbl&gt;</th><th scope=col>&lt;chr&gt;</th></tr>\n",
       "</thead>\n",
       "<tbody>\n",
       "\t<tr><td>10</td><td>98255090</td><td>10:100014847_CT_C        </td><td>C         </td><td>CT  </td><td>0.36134900</td><td>66880</td><td>ADD</td><td>-0.00108255</td><td>0.00827278</td><td>-0.130857</td><td>0.895889</td><td>.</td></tr>\n",
       "\t<tr><td>10</td><td> 9963720</td><td>10:10005683_TATA_T       </td><td>T         </td><td>TATA</td><td>0.06486650</td><td>65920</td><td>ADD</td><td>-0.02282480</td><td>0.01622730</td><td>-1.406570</td><td>0.159566</td><td>.</td></tr>\n",
       "\t<tr><td>10</td><td>98297389</td><td>10:100057146_AG_A        </td><td>AG        </td><td>A   </td><td>0.02270180</td><td>66030</td><td>ADD</td><td> 0.02762960</td><td>0.02678280</td><td> 1.031620</td><td>0.302259</td><td>.</td></tr>\n",
       "\t<tr><td>10</td><td>98323794</td><td>10:100083551_CTTTCTT_C   </td><td>CTTTCTT   </td><td>C   </td><td>0.00822358</td><td>65908</td><td>ADD</td><td>-0.01015530</td><td>0.04438640</td><td>-0.228793</td><td>0.819031</td><td>.</td></tr>\n",
       "\t<tr><td>10</td><td>98330412</td><td>10:100090169_CTGCAGAAGA_C</td><td>CTGCAGAAGA</td><td>C   </td><td>0.21746300</td><td>66862</td><td>ADD</td><td> 0.01203230</td><td>0.00963658</td><td> 1.248610</td><td>0.211817</td><td>.</td></tr>\n",
       "\t<tr><td>10</td><td>98344543</td><td>10:100104300_TC_T        </td><td>TC        </td><td>T   </td><td>0.30165500</td><td>66354</td><td>ADD</td><td> 0.01339790</td><td>0.00867733</td><td> 1.544010</td><td>0.122596</td><td>.</td></tr>\n",
       "</tbody>\n",
       "</table>\n"
      ],
      "text/latex": [
       "A data.table: 6 × 13\n",
       "\\begin{tabular}{lllllllllllll}\n",
       " \\#CHROM & POS & ID & REF & ALT & ALT\\_FREQS & OBS\\_CT & TEST & BETA & SE & T\\_STAT & P & ERRCODE\\\\\n",
       " <int> & <int> & <chr> & <chr> & <chr> & <dbl> & <int> & <chr> & <dbl> & <dbl> & <dbl> & <dbl> & <chr>\\\\\n",
       "\\hline\n",
       "\t 10 & 98255090 & 10:100014847\\_CT\\_C         & C          & CT   & 0.36134900 & 66880 & ADD & -0.00108255 & 0.00827278 & -0.130857 & 0.895889 & .\\\\\n",
       "\t 10 &  9963720 & 10:10005683\\_TATA\\_T        & T          & TATA & 0.06486650 & 65920 & ADD & -0.02282480 & 0.01622730 & -1.406570 & 0.159566 & .\\\\\n",
       "\t 10 & 98297389 & 10:100057146\\_AG\\_A         & AG         & A    & 0.02270180 & 66030 & ADD &  0.02762960 & 0.02678280 &  1.031620 & 0.302259 & .\\\\\n",
       "\t 10 & 98323794 & 10:100083551\\_CTTTCTT\\_C    & CTTTCTT    & C    & 0.00822358 & 65908 & ADD & -0.01015530 & 0.04438640 & -0.228793 & 0.819031 & .\\\\\n",
       "\t 10 & 98330412 & 10:100090169\\_CTGCAGAAGA\\_C & CTGCAGAAGA & C    & 0.21746300 & 66862 & ADD &  0.01203230 & 0.00963658 &  1.248610 & 0.211817 & .\\\\\n",
       "\t 10 & 98344543 & 10:100104300\\_TC\\_T         & TC         & T    & 0.30165500 & 66354 & ADD &  0.01339790 & 0.00867733 &  1.544010 & 0.122596 & .\\\\\n",
       "\\end{tabular}\n"
      ],
      "text/markdown": [
       "\n",
       "A data.table: 6 × 13\n",
       "\n",
       "| #CHROM &lt;int&gt; | POS &lt;int&gt; | ID &lt;chr&gt; | REF &lt;chr&gt; | ALT &lt;chr&gt; | ALT_FREQS &lt;dbl&gt; | OBS_CT &lt;int&gt; | TEST &lt;chr&gt; | BETA &lt;dbl&gt; | SE &lt;dbl&gt; | T_STAT &lt;dbl&gt; | P &lt;dbl&gt; | ERRCODE &lt;chr&gt; |\n",
       "|---|---|---|---|---|---|---|---|---|---|---|---|---|\n",
       "| 10 | 98255090 | 10:100014847_CT_C         | C          | CT   | 0.36134900 | 66880 | ADD | -0.00108255 | 0.00827278 | -0.130857 | 0.895889 | . |\n",
       "| 10 |  9963720 | 10:10005683_TATA_T        | T          | TATA | 0.06486650 | 65920 | ADD | -0.02282480 | 0.01622730 | -1.406570 | 0.159566 | . |\n",
       "| 10 | 98297389 | 10:100057146_AG_A         | AG         | A    | 0.02270180 | 66030 | ADD |  0.02762960 | 0.02678280 |  1.031620 | 0.302259 | . |\n",
       "| 10 | 98323794 | 10:100083551_CTTTCTT_C    | CTTTCTT    | C    | 0.00822358 | 65908 | ADD | -0.01015530 | 0.04438640 | -0.228793 | 0.819031 | . |\n",
       "| 10 | 98330412 | 10:100090169_CTGCAGAAGA_C | CTGCAGAAGA | C    | 0.21746300 | 66862 | ADD |  0.01203230 | 0.00963658 |  1.248610 | 0.211817 | . |\n",
       "| 10 | 98344543 | 10:100104300_TC_T         | TC         | T    | 0.30165500 | 66354 | ADD |  0.01339790 | 0.00867733 |  1.544010 | 0.122596 | . |\n",
       "\n"
      ],
      "text/plain": [
       "  #CHROM POS      ID                        REF        ALT  ALT_FREQS  OBS_CT\n",
       "1 10     98255090 10:100014847_CT_C         C          CT   0.36134900 66880 \n",
       "2 10      9963720 10:10005683_TATA_T        T          TATA 0.06486650 65920 \n",
       "3 10     98297389 10:100057146_AG_A         AG         A    0.02270180 66030 \n",
       "4 10     98323794 10:100083551_CTTTCTT_C    CTTTCTT    C    0.00822358 65908 \n",
       "5 10     98330412 10:100090169_CTGCAGAAGA_C CTGCAGAAGA C    0.21746300 66862 \n",
       "6 10     98344543 10:100104300_TC_T         TC         T    0.30165500 66354 \n",
       "  TEST BETA        SE         T_STAT    P        ERRCODE\n",
       "1 ADD  -0.00108255 0.00827278 -0.130857 0.895889 .      \n",
       "2 ADD  -0.02282480 0.01622730 -1.406570 0.159566 .      \n",
       "3 ADD   0.02762960 0.02678280  1.031620 0.302259 .      \n",
       "4 ADD  -0.01015530 0.04438640 -0.228793 0.819031 .      \n",
       "5 ADD   0.01203230 0.00963658  1.248610 0.211817 .      \n",
       "6 ADD   0.01339790 0.00867733  1.544010 0.122596 .      "
      ]
     },
     "metadata": {},
     "output_type": "display_data"
    }
   ],
   "source": [
    "head(AD_hg38_maf_lookup)"
   ]
  },
  {
   "cell_type": "code",
   "execution_count": 54,
   "id": "65d1245e-2a9d-4203-b63c-b8a3f5e73dec",
   "metadata": {},
   "outputs": [],
   "source": [
    "fwrite(AD_hg38_maf_lookup, \"AD_hg38_maf_lookup.tsv.gz\", sep='\\t')"
   ]
  },
  {
   "cell_type": "code",
   "execution_count": null,
   "id": "e49d2476-7172-4bb0-bbba-92fde073521b",
   "metadata": {},
   "outputs": [],
   "source": [
    "## example commands for MAF annotation"
   ]
  },
  {
   "cell_type": "code",
   "execution_count": null,
   "id": "5065e4c9-4760-450a-9076-201f17e96e55",
   "metadata": {},
   "outputs": [],
   "source": [
    "bash annotate_maf.sh \\\n",
    "  ~/project/AD_hg38_maf_lookup.tsv.gz \\\n",
    "  ~/data/GWAS/rss_imputed_qced_GWAS_image_PD_Aging/image_AD1 \\\n",
    "  ~/GWAS/rss_imputed_qced_GWAS_image_PD_Aging/image_AD1 \\\n",
    "  \"*.tsv.gz\""
   ]
  },
  {
   "cell_type": "code",
   "execution_count": null,
   "id": "cfd554c5-debc-477d-a10c-5f76d2c68499",
   "metadata": {},
   "outputs": [],
   "source": [
    "bash annotate_maf.sh \\\n",
    "  ~/project/Aging_hg38_maf_lookup.tsv.gz \\\n",
    "  ~/data/GWAS/rss_imputed_qced_GWAS_image_PD_Aging/image_Aging1 \\\n",
    "  ~/GWAS/rss_imputed_qced_GWAS_image_PD_Aging/image_Aging1 \\\n",
    "  \"*.tsv.gz\""
   ]
  }
 ],
 "metadata": {
  "kernelspec": {
   "display_name": "R",
   "language": "R",
   "name": "ir"
  },
  "language_info": {
   "codemirror_mode": "r",
   "file_extension": ".r",
   "mimetype": "text/x-r-source",
   "name": "R",
   "pygments_lexer": "r",
   "version": "4.3.3"
  },
  "sos": {
   "kernels": [
    [
     "SoS",
     "sos",
     "sos",
     "",
     ""
    ]
   ],
   "version": ""
  }
 },
 "nbformat": 4,
 "nbformat_minor": 5
}
