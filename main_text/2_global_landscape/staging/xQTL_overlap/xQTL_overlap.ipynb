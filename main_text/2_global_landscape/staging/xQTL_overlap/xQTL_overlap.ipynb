{
 "cells": [
  {
   "cell_type": "code",
   "execution_count": 30,
   "id": "940dcd0e-271e-4375-8bed-bb0ea7d54018",
   "metadata": {},
   "outputs": [],
   "source": [
    "library(tidyverse)\n",
    "library(data.table)"
   ]
  },
  {
   "cell_type": "code",
   "execution_count": 31,
   "id": "d8259a11-86e6-450f-9eca-d24a0a477571",
   "metadata": {},
   "outputs": [
    {
     "data": {
      "text/html": [
       "'/home/ubuntu'"
      ],
      "text/latex": [
       "'/home/ubuntu'"
      ],
      "text/markdown": [
       "'/home/ubuntu'"
      ],
      "text/plain": [
       "[1] \"/home/ubuntu\""
      ]
     },
     "metadata": {},
     "output_type": "display_data"
    }
   ],
   "source": [
    "setwd(\"~/\")\n",
    "getwd()"
   ]
  },
  {
   "cell_type": "code",
   "execution_count": 32,
   "id": "334d8fb7-7319-44a7-a040-3e7748a1d616",
   "metadata": {},
   "outputs": [],
   "source": [
    "meta_file = fread(\"project/image_QTL/cb_varisnts_explained_by_xQTL/xQTL_top_loci.tsv\")\n",
    "meta_file = meta_file |> filter(Method == \"single_context_finemapping\") |> filter(Data_Type != \"sQTL\")"
   ]
  },
  {
   "cell_type": "code",
   "execution_count": 33,
   "id": "b918cae3-b0c7-4f7d-8d4b-87d76a78fb17",
   "metadata": {},
   "outputs": [
    {
     "data": {
      "text/html": [
       "<table class=\"dataframe\">\n",
       "<caption>A data.table: 45 × 5</caption>\n",
       "<thead>\n",
       "\t<tr><th scope=col>Data_Type</th><th scope=col>Cohort</th><th scope=col>Modality</th><th scope=col>Method</th><th scope=col>Path</th></tr>\n",
       "\t<tr><th scope=col>&lt;chr&gt;</th><th scope=col>&lt;chr&gt;</th><th scope=col>&lt;chr&gt;</th><th scope=col>&lt;chr&gt;</th><th scope=col>&lt;chr&gt;</th></tr>\n",
       "</thead>\n",
       "<tbody>\n",
       "\t<tr><td>eQTL</td><td>KNIGHT   </td><td>Brain                 </td><td>single_context_finemapping</td><td>data/analysis_result/single_context/KNIGHT_eQTL/export/summary/context_specific/Knight_eQTL_brain.exported.toploci.bed.gz           </td></tr>\n",
       "\t<tr><td>pQTL</td><td>KNIGHT   </td><td>Brain                 </td><td>single_context_finemapping</td><td>data/analysis_result/single_context/KNIGHT_pQTL/export/summary/context_specific/Knight_pQTL_brain.exported.toploci.bed.gz           </td></tr>\n",
       "\t<tr><td>eQTL</td><td>MSBB     </td><td>BM_10                 </td><td>single_context_finemapping</td><td>data/analysis_result/single_context/MSBB_eQTL/export/summary/context_specific/BM_10_MSBB_eQTL.exported.toploci.bed.gz               </td></tr>\n",
       "\t<tr><td>eQTL</td><td>MSBB     </td><td>BM_22                 </td><td>single_context_finemapping</td><td>data/analysis_result/single_context/MSBB_eQTL/export/summary/context_specific/BM_22_MSBB_eQTL.exported.toploci.bed.gz               </td></tr>\n",
       "\t<tr><td>eQTL</td><td>MSBB     </td><td>BM_36                 </td><td>single_context_finemapping</td><td>data/analysis_result/single_context/MSBB_eQTL/export/summary/context_specific/BM_36_MSBB_eQTL.exported.toploci.bed.gz               </td></tr>\n",
       "\t<tr><td>eQTL</td><td>MSBB     </td><td>BM_44                 </td><td>single_context_finemapping</td><td>data/analysis_result/single_context/MSBB_eQTL/export/summary/context_specific/BM_44_MSBB_eQTL.exported.toploci.bed.gz               </td></tr>\n",
       "\t<tr><td>pQTL</td><td>MSBB     </td><td>BM_36                 </td><td>single_context_finemapping</td><td>data/analysis_result/single_context/MSBB_pQTL/export/summary/context_specific/MSBB_BM36_pQTL.exported.toploci.bed.gz                </td></tr>\n",
       "\t<tr><td>eQTL</td><td>MetaBrain</td><td>Basalganglia          </td><td>single_context_finemapping</td><td>data/analysis_result/single_context/MetaBrain/export/summary/context_specific/Metabrain_Basalganglia.exported.toploci.bed.gz        </td></tr>\n",
       "\t<tr><td>eQTL</td><td>MetaBrain</td><td>Cerebellum            </td><td>single_context_finemapping</td><td>data/analysis_result/single_context/MetaBrain/export/summary/context_specific/Metabrain_Cerebellum.exported.toploci.bed.gz          </td></tr>\n",
       "\t<tr><td>eQTL</td><td>MetaBrain</td><td>Cortex                </td><td>single_context_finemapping</td><td>data/analysis_result/single_context/MetaBrain/export/summary/context_specific/Metabrain_Cortex.exported.toploci.bed.gz              </td></tr>\n",
       "\t<tr><td>eQTL</td><td>MetaBrain</td><td>Hippocampus           </td><td>single_context_finemapping</td><td>data/analysis_result/single_context/MetaBrain/export/summary/context_specific/Metabrain_Hippocampus.exported.toploci.bed.gz         </td></tr>\n",
       "\t<tr><td>eQTL</td><td>MetaBrain</td><td>Spinalcord            </td><td>single_context_finemapping</td><td>data/analysis_result/single_context/MetaBrain/export/summary/context_specific/Metabrain_Spinalcord.exported.toploci.bed.gz          </td></tr>\n",
       "\t<tr><td>eQTL</td><td>MiGA     </td><td>GFM                   </td><td>single_context_finemapping</td><td>data/analysis_result/single_context/MiGA_eQTL/export/summary/context_specific/MiGA_GFM_eQTL.exported.toploci.bed.gz                 </td></tr>\n",
       "\t<tr><td>eQTL</td><td>MiGA     </td><td>GTS                   </td><td>single_context_finemapping</td><td>data/analysis_result/single_context/MiGA_eQTL/export/summary/context_specific/MiGA_GTS_eQTL.exported.toploci.bed.gz                 </td></tr>\n",
       "\t<tr><td>eQTL</td><td>MiGA     </td><td>SVZ                   </td><td>single_context_finemapping</td><td>data/analysis_result/single_context/MiGA_eQTL/export/summary/context_specific/MiGA_SVZ_eQTL.exported.toploci.bed.gz                 </td></tr>\n",
       "\t<tr><td>eQTL</td><td>MiGA     </td><td>THA                   </td><td>single_context_finemapping</td><td>data/analysis_result/single_context/MiGA_eQTL/export/summary/context_specific/MiGA_THA_eQTL.exported.toploci.bed.gz                 </td></tr>\n",
       "\t<tr><td>eQTL</td><td>ROSMAP   </td><td>AC                    </td><td>single_context_finemapping</td><td>data/analysis_result/single_context/ROSMAP_eQTL/export/summary/context_specific/AC_DeJager_eQTL.exported.toploci.bed.gz             </td></tr>\n",
       "\t<tr><td>eQTL</td><td>ROSMAP   </td><td>Ast_10_Kellis         </td><td>single_context_finemapping</td><td>data/analysis_result/single_context/ROSMAP_eQTL/export/summary/context_specific/Ast_10_Kellis_eQTL.exported.toploci.bed.gz          </td></tr>\n",
       "\t<tr><td>eQTL</td><td>ROSMAP   </td><td>Ast_DeJager           </td><td>single_context_finemapping</td><td>data/analysis_result/single_context/ROSMAP_eQTL/export/summary/context_specific/Ast_DeJager_eQTL.exported.toploci.bed.gz            </td></tr>\n",
       "\t<tr><td>eQTL</td><td>ROSMAP   </td><td>Ast_Kellis            </td><td>single_context_finemapping</td><td>data/analysis_result/single_context/ROSMAP_eQTL/export/summary/context_specific/Ast_Kellis_eQTL.exported.toploci.bed.gz             </td></tr>\n",
       "\t<tr><td>eQTL</td><td>ROSMAP   </td><td>Ast_mega              </td><td>single_context_finemapping</td><td>data/analysis_result/single_context/ROSMAP_eQTL/export/summary/context_specific/Ast_mega_eQTL.exported.toploci.bed.gz               </td></tr>\n",
       "\t<tr><td>eQTL</td><td>ROSMAP   </td><td>DLPFC                 </td><td>single_context_finemapping</td><td>data/analysis_result/single_context/ROSMAP_eQTL/export/summary/context_specific/DLPFC_DeJager_eQTL.exported.toploci.bed.gz          </td></tr>\n",
       "\t<tr><td>eQTL</td><td>ROSMAP   </td><td>Exc_DeJager           </td><td>single_context_finemapping</td><td>data/analysis_result/single_context/ROSMAP_eQTL/export/summary/context_specific/Exc_DeJager_eQTL.exported.toploci.bed.gz            </td></tr>\n",
       "\t<tr><td>eQTL</td><td>ROSMAP   </td><td>Exc_Kellis            </td><td>single_context_finemapping</td><td>data/analysis_result/single_context/ROSMAP_eQTL/export/summary/context_specific/Exc_Kellis_eQTL.exported.toploci.bed.gz             </td></tr>\n",
       "\t<tr><td>eQTL</td><td>ROSMAP   </td><td>Exc_mega              </td><td>single_context_finemapping</td><td>data/analysis_result/single_context/ROSMAP_eQTL/export/summary/context_specific/Exc_mega_eQTL.exported.toploci.bed.gz               </td></tr>\n",
       "\t<tr><td>eQTL</td><td>ROSMAP   </td><td>Inh_DeJager           </td><td>single_context_finemapping</td><td>data/analysis_result/single_context/ROSMAP_eQTL/export/summary/context_specific/Inh_DeJager_eQTL.exported.toploci.bed.gz            </td></tr>\n",
       "\t<tr><td>eQTL</td><td>ROSMAP   </td><td>Inh_Kellis            </td><td>single_context_finemapping</td><td>data/analysis_result/single_context/ROSMAP_eQTL/export/summary/context_specific/Inh_Kellis_eQTL.exported.toploci.bed.gz             </td></tr>\n",
       "\t<tr><td>eQTL</td><td>ROSMAP   </td><td>Inh_mega              </td><td>single_context_finemapping</td><td>data/analysis_result/single_context/ROSMAP_eQTL/export/summary/context_specific/Inh_mega_eQTL.exported.toploci.bed.gz               </td></tr>\n",
       "\t<tr><td>eQTL</td><td>ROSMAP   </td><td>Mic_12_Kellis         </td><td>single_context_finemapping</td><td>data/analysis_result/single_context/ROSMAP_eQTL/export/summary/context_specific/Mic_12_Kellis_eQTL.exported.toploci.bed.gz          </td></tr>\n",
       "\t<tr><td>eQTL</td><td>ROSMAP   </td><td>Mic_13_Kellis         </td><td>single_context_finemapping</td><td>data/analysis_result/single_context/ROSMAP_eQTL/export/summary/context_specific/Mic_13_Kellis_eQTL.exported.toploci.bed.gz          </td></tr>\n",
       "\t<tr><td>eQTL</td><td>ROSMAP   </td><td>Mic_DeJager           </td><td>single_context_finemapping</td><td>data/analysis_result/single_context/ROSMAP_eQTL/export/summary/context_specific/Mic_DeJager_eQTL.exported.toploci.bed.gz            </td></tr>\n",
       "\t<tr><td>eQTL</td><td>ROSMAP   </td><td>Mic_Kellis            </td><td>single_context_finemapping</td><td>data/analysis_result/single_context/ROSMAP_eQTL/export/summary/context_specific/Mic_Kellis_eQTL.exported.toploci.bed.gz             </td></tr>\n",
       "\t<tr><td>eQTL</td><td>ROSMAP   </td><td>Mic_mega              </td><td>single_context_finemapping</td><td>data/analysis_result/single_context/ROSMAP_eQTL/export/summary/context_specific/Mic_mega_eQTL.exported.toploci.bed.gz               </td></tr>\n",
       "\t<tr><td>eQTL</td><td>ROSMAP   </td><td>OPC_DeJager           </td><td>single_context_finemapping</td><td>data/analysis_result/single_context/ROSMAP_eQTL/export/summary/context_specific/OPC_DeJager_eQTL.exported.toploci.bed.gz            </td></tr>\n",
       "\t<tr><td>eQTL</td><td>ROSMAP   </td><td>OPC_Kellis            </td><td>single_context_finemapping</td><td>data/analysis_result/single_context/ROSMAP_eQTL/export/summary/context_specific/OPC_Kellis_eQTL.exported.toploci.bed.gz             </td></tr>\n",
       "\t<tr><td>eQTL</td><td>ROSMAP   </td><td>OPC_mega              </td><td>single_context_finemapping</td><td>data/analysis_result/single_context/ROSMAP_eQTL/export/summary/context_specific/OPC_mega_eQTL.exported.toploci.bed.gz               </td></tr>\n",
       "\t<tr><td>eQTL</td><td>ROSMAP   </td><td>Oli_DeJager           </td><td>single_context_finemapping</td><td>data/analysis_result/single_context/ROSMAP_eQTL/export/summary/context_specific/Oli_DeJager_eQTL.exported.toploci.bed.gz            </td></tr>\n",
       "\t<tr><td>eQTL</td><td>ROSMAP   </td><td>Oli_Kellis            </td><td>single_context_finemapping</td><td>data/analysis_result/single_context/ROSMAP_eQTL/export/summary/context_specific/Oli_Kellis_eQTL.exported.toploci.bed.gz             </td></tr>\n",
       "\t<tr><td>eQTL</td><td>ROSMAP   </td><td>Oli_mega              </td><td>single_context_finemapping</td><td>data/analysis_result/single_context/ROSMAP_eQTL/export/summary/context_specific/Oli_mega_eQTL.exported.toploci.bed.gz               </td></tr>\n",
       "\t<tr><td>eQTL</td><td>ROSMAP   </td><td>PCC                   </td><td>single_context_finemapping</td><td>data/analysis_result/single_context/ROSMAP_eQTL/export/summary/context_specific/PCC_DeJager_eQTL.exported.toploci.bed.gz            </td></tr>\n",
       "\t<tr><td>pQTL</td><td>ROSMAP   </td><td>DLPFC_Bennett         </td><td>single_context_finemapping</td><td>data/analysis_result/single_context/ROSMAP_pQTL/export/summary/context_specific/DLPFC_Bennett_pQTL.exported.toploci.bed.gz          </td></tr>\n",
       "\t<tr><td>pQTL</td><td>ROSMAP   </td><td>DLPFC_Klein_adjusted  </td><td>single_context_finemapping</td><td>data/analysis_result/single_context/ROSMAP_pQTL/export/summary/context_specific/DLPFC_Klein_gpQTL_adjusted.exported.toploci.bed.gz  </td></tr>\n",
       "\t<tr><td>pQTL</td><td>ROSMAP   </td><td>DLPFC_Klein_unadjusted</td><td>single_context_finemapping</td><td>data/analysis_result/single_context/ROSMAP_pQTL/export/summary/context_specific/DLPFC_Klein_gpQTL_unadjusted.exported.toploci.bed.gz</td></tr>\n",
       "\t<tr><td>eQTL</td><td>ROSMAP   </td><td>monocyte              </td><td>single_context_finemapping</td><td>data/analysis_result/single_context/ROSMAP_pQTL/export/summary/context_specific/monocyte_ROSMAP_eQTL.exported.toploci.bed.gz        </td></tr>\n",
       "\t<tr><td>eQTL</td><td>STARNET  </td><td>Mac                   </td><td>single_context_finemapping</td><td>data/analysis_result/single_context/STARNET_eQTL/export/summary/context_specific/STARNET_eQTL_Mac.exported.toploci.bed.gz           </td></tr>\n",
       "</tbody>\n",
       "</table>\n"
      ],
      "text/latex": [
       "A data.table: 45 × 5\n",
       "\\begin{tabular}{lllll}\n",
       " Data\\_Type & Cohort & Modality & Method & Path\\\\\n",
       " <chr> & <chr> & <chr> & <chr> & <chr>\\\\\n",
       "\\hline\n",
       "\t eQTL & KNIGHT    & Brain                  & single\\_context\\_finemapping & data/analysis\\_result/single\\_context/KNIGHT\\_eQTL/export/summary/context\\_specific/Knight\\_eQTL\\_brain.exported.toploci.bed.gz           \\\\\n",
       "\t pQTL & KNIGHT    & Brain                  & single\\_context\\_finemapping & data/analysis\\_result/single\\_context/KNIGHT\\_pQTL/export/summary/context\\_specific/Knight\\_pQTL\\_brain.exported.toploci.bed.gz           \\\\\n",
       "\t eQTL & MSBB      & BM\\_10                  & single\\_context\\_finemapping & data/analysis\\_result/single\\_context/MSBB\\_eQTL/export/summary/context\\_specific/BM\\_10\\_MSBB\\_eQTL.exported.toploci.bed.gz               \\\\\n",
       "\t eQTL & MSBB      & BM\\_22                  & single\\_context\\_finemapping & data/analysis\\_result/single\\_context/MSBB\\_eQTL/export/summary/context\\_specific/BM\\_22\\_MSBB\\_eQTL.exported.toploci.bed.gz               \\\\\n",
       "\t eQTL & MSBB      & BM\\_36                  & single\\_context\\_finemapping & data/analysis\\_result/single\\_context/MSBB\\_eQTL/export/summary/context\\_specific/BM\\_36\\_MSBB\\_eQTL.exported.toploci.bed.gz               \\\\\n",
       "\t eQTL & MSBB      & BM\\_44                  & single\\_context\\_finemapping & data/analysis\\_result/single\\_context/MSBB\\_eQTL/export/summary/context\\_specific/BM\\_44\\_MSBB\\_eQTL.exported.toploci.bed.gz               \\\\\n",
       "\t pQTL & MSBB      & BM\\_36                  & single\\_context\\_finemapping & data/analysis\\_result/single\\_context/MSBB\\_pQTL/export/summary/context\\_specific/MSBB\\_BM36\\_pQTL.exported.toploci.bed.gz                \\\\\n",
       "\t eQTL & MetaBrain & Basalganglia           & single\\_context\\_finemapping & data/analysis\\_result/single\\_context/MetaBrain/export/summary/context\\_specific/Metabrain\\_Basalganglia.exported.toploci.bed.gz        \\\\\n",
       "\t eQTL & MetaBrain & Cerebellum             & single\\_context\\_finemapping & data/analysis\\_result/single\\_context/MetaBrain/export/summary/context\\_specific/Metabrain\\_Cerebellum.exported.toploci.bed.gz          \\\\\n",
       "\t eQTL & MetaBrain & Cortex                 & single\\_context\\_finemapping & data/analysis\\_result/single\\_context/MetaBrain/export/summary/context\\_specific/Metabrain\\_Cortex.exported.toploci.bed.gz              \\\\\n",
       "\t eQTL & MetaBrain & Hippocampus            & single\\_context\\_finemapping & data/analysis\\_result/single\\_context/MetaBrain/export/summary/context\\_specific/Metabrain\\_Hippocampus.exported.toploci.bed.gz         \\\\\n",
       "\t eQTL & MetaBrain & Spinalcord             & single\\_context\\_finemapping & data/analysis\\_result/single\\_context/MetaBrain/export/summary/context\\_specific/Metabrain\\_Spinalcord.exported.toploci.bed.gz          \\\\\n",
       "\t eQTL & MiGA      & GFM                    & single\\_context\\_finemapping & data/analysis\\_result/single\\_context/MiGA\\_eQTL/export/summary/context\\_specific/MiGA\\_GFM\\_eQTL.exported.toploci.bed.gz                 \\\\\n",
       "\t eQTL & MiGA      & GTS                    & single\\_context\\_finemapping & data/analysis\\_result/single\\_context/MiGA\\_eQTL/export/summary/context\\_specific/MiGA\\_GTS\\_eQTL.exported.toploci.bed.gz                 \\\\\n",
       "\t eQTL & MiGA      & SVZ                    & single\\_context\\_finemapping & data/analysis\\_result/single\\_context/MiGA\\_eQTL/export/summary/context\\_specific/MiGA\\_SVZ\\_eQTL.exported.toploci.bed.gz                 \\\\\n",
       "\t eQTL & MiGA      & THA                    & single\\_context\\_finemapping & data/analysis\\_result/single\\_context/MiGA\\_eQTL/export/summary/context\\_specific/MiGA\\_THA\\_eQTL.exported.toploci.bed.gz                 \\\\\n",
       "\t eQTL & ROSMAP    & AC                     & single\\_context\\_finemapping & data/analysis\\_result/single\\_context/ROSMAP\\_eQTL/export/summary/context\\_specific/AC\\_DeJager\\_eQTL.exported.toploci.bed.gz             \\\\\n",
       "\t eQTL & ROSMAP    & Ast\\_10\\_Kellis          & single\\_context\\_finemapping & data/analysis\\_result/single\\_context/ROSMAP\\_eQTL/export/summary/context\\_specific/Ast\\_10\\_Kellis\\_eQTL.exported.toploci.bed.gz          \\\\\n",
       "\t eQTL & ROSMAP    & Ast\\_DeJager            & single\\_context\\_finemapping & data/analysis\\_result/single\\_context/ROSMAP\\_eQTL/export/summary/context\\_specific/Ast\\_DeJager\\_eQTL.exported.toploci.bed.gz            \\\\\n",
       "\t eQTL & ROSMAP    & Ast\\_Kellis             & single\\_context\\_finemapping & data/analysis\\_result/single\\_context/ROSMAP\\_eQTL/export/summary/context\\_specific/Ast\\_Kellis\\_eQTL.exported.toploci.bed.gz             \\\\\n",
       "\t eQTL & ROSMAP    & Ast\\_mega               & single\\_context\\_finemapping & data/analysis\\_result/single\\_context/ROSMAP\\_eQTL/export/summary/context\\_specific/Ast\\_mega\\_eQTL.exported.toploci.bed.gz               \\\\\n",
       "\t eQTL & ROSMAP    & DLPFC                  & single\\_context\\_finemapping & data/analysis\\_result/single\\_context/ROSMAP\\_eQTL/export/summary/context\\_specific/DLPFC\\_DeJager\\_eQTL.exported.toploci.bed.gz          \\\\\n",
       "\t eQTL & ROSMAP    & Exc\\_DeJager            & single\\_context\\_finemapping & data/analysis\\_result/single\\_context/ROSMAP\\_eQTL/export/summary/context\\_specific/Exc\\_DeJager\\_eQTL.exported.toploci.bed.gz            \\\\\n",
       "\t eQTL & ROSMAP    & Exc\\_Kellis             & single\\_context\\_finemapping & data/analysis\\_result/single\\_context/ROSMAP\\_eQTL/export/summary/context\\_specific/Exc\\_Kellis\\_eQTL.exported.toploci.bed.gz             \\\\\n",
       "\t eQTL & ROSMAP    & Exc\\_mega               & single\\_context\\_finemapping & data/analysis\\_result/single\\_context/ROSMAP\\_eQTL/export/summary/context\\_specific/Exc\\_mega\\_eQTL.exported.toploci.bed.gz               \\\\\n",
       "\t eQTL & ROSMAP    & Inh\\_DeJager            & single\\_context\\_finemapping & data/analysis\\_result/single\\_context/ROSMAP\\_eQTL/export/summary/context\\_specific/Inh\\_DeJager\\_eQTL.exported.toploci.bed.gz            \\\\\n",
       "\t eQTL & ROSMAP    & Inh\\_Kellis             & single\\_context\\_finemapping & data/analysis\\_result/single\\_context/ROSMAP\\_eQTL/export/summary/context\\_specific/Inh\\_Kellis\\_eQTL.exported.toploci.bed.gz             \\\\\n",
       "\t eQTL & ROSMAP    & Inh\\_mega               & single\\_context\\_finemapping & data/analysis\\_result/single\\_context/ROSMAP\\_eQTL/export/summary/context\\_specific/Inh\\_mega\\_eQTL.exported.toploci.bed.gz               \\\\\n",
       "\t eQTL & ROSMAP    & Mic\\_12\\_Kellis          & single\\_context\\_finemapping & data/analysis\\_result/single\\_context/ROSMAP\\_eQTL/export/summary/context\\_specific/Mic\\_12\\_Kellis\\_eQTL.exported.toploci.bed.gz          \\\\\n",
       "\t eQTL & ROSMAP    & Mic\\_13\\_Kellis          & single\\_context\\_finemapping & data/analysis\\_result/single\\_context/ROSMAP\\_eQTL/export/summary/context\\_specific/Mic\\_13\\_Kellis\\_eQTL.exported.toploci.bed.gz          \\\\\n",
       "\t eQTL & ROSMAP    & Mic\\_DeJager            & single\\_context\\_finemapping & data/analysis\\_result/single\\_context/ROSMAP\\_eQTL/export/summary/context\\_specific/Mic\\_DeJager\\_eQTL.exported.toploci.bed.gz            \\\\\n",
       "\t eQTL & ROSMAP    & Mic\\_Kellis             & single\\_context\\_finemapping & data/analysis\\_result/single\\_context/ROSMAP\\_eQTL/export/summary/context\\_specific/Mic\\_Kellis\\_eQTL.exported.toploci.bed.gz             \\\\\n",
       "\t eQTL & ROSMAP    & Mic\\_mega               & single\\_context\\_finemapping & data/analysis\\_result/single\\_context/ROSMAP\\_eQTL/export/summary/context\\_specific/Mic\\_mega\\_eQTL.exported.toploci.bed.gz               \\\\\n",
       "\t eQTL & ROSMAP    & OPC\\_DeJager            & single\\_context\\_finemapping & data/analysis\\_result/single\\_context/ROSMAP\\_eQTL/export/summary/context\\_specific/OPC\\_DeJager\\_eQTL.exported.toploci.bed.gz            \\\\\n",
       "\t eQTL & ROSMAP    & OPC\\_Kellis             & single\\_context\\_finemapping & data/analysis\\_result/single\\_context/ROSMAP\\_eQTL/export/summary/context\\_specific/OPC\\_Kellis\\_eQTL.exported.toploci.bed.gz             \\\\\n",
       "\t eQTL & ROSMAP    & OPC\\_mega               & single\\_context\\_finemapping & data/analysis\\_result/single\\_context/ROSMAP\\_eQTL/export/summary/context\\_specific/OPC\\_mega\\_eQTL.exported.toploci.bed.gz               \\\\\n",
       "\t eQTL & ROSMAP    & Oli\\_DeJager            & single\\_context\\_finemapping & data/analysis\\_result/single\\_context/ROSMAP\\_eQTL/export/summary/context\\_specific/Oli\\_DeJager\\_eQTL.exported.toploci.bed.gz            \\\\\n",
       "\t eQTL & ROSMAP    & Oli\\_Kellis             & single\\_context\\_finemapping & data/analysis\\_result/single\\_context/ROSMAP\\_eQTL/export/summary/context\\_specific/Oli\\_Kellis\\_eQTL.exported.toploci.bed.gz             \\\\\n",
       "\t eQTL & ROSMAP    & Oli\\_mega               & single\\_context\\_finemapping & data/analysis\\_result/single\\_context/ROSMAP\\_eQTL/export/summary/context\\_specific/Oli\\_mega\\_eQTL.exported.toploci.bed.gz               \\\\\n",
       "\t eQTL & ROSMAP    & PCC                    & single\\_context\\_finemapping & data/analysis\\_result/single\\_context/ROSMAP\\_eQTL/export/summary/context\\_specific/PCC\\_DeJager\\_eQTL.exported.toploci.bed.gz            \\\\\n",
       "\t pQTL & ROSMAP    & DLPFC\\_Bennett          & single\\_context\\_finemapping & data/analysis\\_result/single\\_context/ROSMAP\\_pQTL/export/summary/context\\_specific/DLPFC\\_Bennett\\_pQTL.exported.toploci.bed.gz          \\\\\n",
       "\t pQTL & ROSMAP    & DLPFC\\_Klein\\_adjusted   & single\\_context\\_finemapping & data/analysis\\_result/single\\_context/ROSMAP\\_pQTL/export/summary/context\\_specific/DLPFC\\_Klein\\_gpQTL\\_adjusted.exported.toploci.bed.gz  \\\\\n",
       "\t pQTL & ROSMAP    & DLPFC\\_Klein\\_unadjusted & single\\_context\\_finemapping & data/analysis\\_result/single\\_context/ROSMAP\\_pQTL/export/summary/context\\_specific/DLPFC\\_Klein\\_gpQTL\\_unadjusted.exported.toploci.bed.gz\\\\\n",
       "\t eQTL & ROSMAP    & monocyte               & single\\_context\\_finemapping & data/analysis\\_result/single\\_context/ROSMAP\\_pQTL/export/summary/context\\_specific/monocyte\\_ROSMAP\\_eQTL.exported.toploci.bed.gz        \\\\\n",
       "\t eQTL & STARNET   & Mac                    & single\\_context\\_finemapping & data/analysis\\_result/single\\_context/STARNET\\_eQTL/export/summary/context\\_specific/STARNET\\_eQTL\\_Mac.exported.toploci.bed.gz           \\\\\n",
       "\\end{tabular}\n"
      ],
      "text/markdown": [
       "\n",
       "A data.table: 45 × 5\n",
       "\n",
       "| Data_Type &lt;chr&gt; | Cohort &lt;chr&gt; | Modality &lt;chr&gt; | Method &lt;chr&gt; | Path &lt;chr&gt; |\n",
       "|---|---|---|---|---|\n",
       "| eQTL | KNIGHT    | Brain                  | single_context_finemapping | data/analysis_result/single_context/KNIGHT_eQTL/export/summary/context_specific/Knight_eQTL_brain.exported.toploci.bed.gz            |\n",
       "| pQTL | KNIGHT    | Brain                  | single_context_finemapping | data/analysis_result/single_context/KNIGHT_pQTL/export/summary/context_specific/Knight_pQTL_brain.exported.toploci.bed.gz            |\n",
       "| eQTL | MSBB      | BM_10                  | single_context_finemapping | data/analysis_result/single_context/MSBB_eQTL/export/summary/context_specific/BM_10_MSBB_eQTL.exported.toploci.bed.gz                |\n",
       "| eQTL | MSBB      | BM_22                  | single_context_finemapping | data/analysis_result/single_context/MSBB_eQTL/export/summary/context_specific/BM_22_MSBB_eQTL.exported.toploci.bed.gz                |\n",
       "| eQTL | MSBB      | BM_36                  | single_context_finemapping | data/analysis_result/single_context/MSBB_eQTL/export/summary/context_specific/BM_36_MSBB_eQTL.exported.toploci.bed.gz                |\n",
       "| eQTL | MSBB      | BM_44                  | single_context_finemapping | data/analysis_result/single_context/MSBB_eQTL/export/summary/context_specific/BM_44_MSBB_eQTL.exported.toploci.bed.gz                |\n",
       "| pQTL | MSBB      | BM_36                  | single_context_finemapping | data/analysis_result/single_context/MSBB_pQTL/export/summary/context_specific/MSBB_BM36_pQTL.exported.toploci.bed.gz                 |\n",
       "| eQTL | MetaBrain | Basalganglia           | single_context_finemapping | data/analysis_result/single_context/MetaBrain/export/summary/context_specific/Metabrain_Basalganglia.exported.toploci.bed.gz         |\n",
       "| eQTL | MetaBrain | Cerebellum             | single_context_finemapping | data/analysis_result/single_context/MetaBrain/export/summary/context_specific/Metabrain_Cerebellum.exported.toploci.bed.gz           |\n",
       "| eQTL | MetaBrain | Cortex                 | single_context_finemapping | data/analysis_result/single_context/MetaBrain/export/summary/context_specific/Metabrain_Cortex.exported.toploci.bed.gz               |\n",
       "| eQTL | MetaBrain | Hippocampus            | single_context_finemapping | data/analysis_result/single_context/MetaBrain/export/summary/context_specific/Metabrain_Hippocampus.exported.toploci.bed.gz          |\n",
       "| eQTL | MetaBrain | Spinalcord             | single_context_finemapping | data/analysis_result/single_context/MetaBrain/export/summary/context_specific/Metabrain_Spinalcord.exported.toploci.bed.gz           |\n",
       "| eQTL | MiGA      | GFM                    | single_context_finemapping | data/analysis_result/single_context/MiGA_eQTL/export/summary/context_specific/MiGA_GFM_eQTL.exported.toploci.bed.gz                  |\n",
       "| eQTL | MiGA      | GTS                    | single_context_finemapping | data/analysis_result/single_context/MiGA_eQTL/export/summary/context_specific/MiGA_GTS_eQTL.exported.toploci.bed.gz                  |\n",
       "| eQTL | MiGA      | SVZ                    | single_context_finemapping | data/analysis_result/single_context/MiGA_eQTL/export/summary/context_specific/MiGA_SVZ_eQTL.exported.toploci.bed.gz                  |\n",
       "| eQTL | MiGA      | THA                    | single_context_finemapping | data/analysis_result/single_context/MiGA_eQTL/export/summary/context_specific/MiGA_THA_eQTL.exported.toploci.bed.gz                  |\n",
       "| eQTL | ROSMAP    | AC                     | single_context_finemapping | data/analysis_result/single_context/ROSMAP_eQTL/export/summary/context_specific/AC_DeJager_eQTL.exported.toploci.bed.gz              |\n",
       "| eQTL | ROSMAP    | Ast_10_Kellis          | single_context_finemapping | data/analysis_result/single_context/ROSMAP_eQTL/export/summary/context_specific/Ast_10_Kellis_eQTL.exported.toploci.bed.gz           |\n",
       "| eQTL | ROSMAP    | Ast_DeJager            | single_context_finemapping | data/analysis_result/single_context/ROSMAP_eQTL/export/summary/context_specific/Ast_DeJager_eQTL.exported.toploci.bed.gz             |\n",
       "| eQTL | ROSMAP    | Ast_Kellis             | single_context_finemapping | data/analysis_result/single_context/ROSMAP_eQTL/export/summary/context_specific/Ast_Kellis_eQTL.exported.toploci.bed.gz              |\n",
       "| eQTL | ROSMAP    | Ast_mega               | single_context_finemapping | data/analysis_result/single_context/ROSMAP_eQTL/export/summary/context_specific/Ast_mega_eQTL.exported.toploci.bed.gz                |\n",
       "| eQTL | ROSMAP    | DLPFC                  | single_context_finemapping | data/analysis_result/single_context/ROSMAP_eQTL/export/summary/context_specific/DLPFC_DeJager_eQTL.exported.toploci.bed.gz           |\n",
       "| eQTL | ROSMAP    | Exc_DeJager            | single_context_finemapping | data/analysis_result/single_context/ROSMAP_eQTL/export/summary/context_specific/Exc_DeJager_eQTL.exported.toploci.bed.gz             |\n",
       "| eQTL | ROSMAP    | Exc_Kellis             | single_context_finemapping | data/analysis_result/single_context/ROSMAP_eQTL/export/summary/context_specific/Exc_Kellis_eQTL.exported.toploci.bed.gz              |\n",
       "| eQTL | ROSMAP    | Exc_mega               | single_context_finemapping | data/analysis_result/single_context/ROSMAP_eQTL/export/summary/context_specific/Exc_mega_eQTL.exported.toploci.bed.gz                |\n",
       "| eQTL | ROSMAP    | Inh_DeJager            | single_context_finemapping | data/analysis_result/single_context/ROSMAP_eQTL/export/summary/context_specific/Inh_DeJager_eQTL.exported.toploci.bed.gz             |\n",
       "| eQTL | ROSMAP    | Inh_Kellis             | single_context_finemapping | data/analysis_result/single_context/ROSMAP_eQTL/export/summary/context_specific/Inh_Kellis_eQTL.exported.toploci.bed.gz              |\n",
       "| eQTL | ROSMAP    | Inh_mega               | single_context_finemapping | data/analysis_result/single_context/ROSMAP_eQTL/export/summary/context_specific/Inh_mega_eQTL.exported.toploci.bed.gz                |\n",
       "| eQTL | ROSMAP    | Mic_12_Kellis          | single_context_finemapping | data/analysis_result/single_context/ROSMAP_eQTL/export/summary/context_specific/Mic_12_Kellis_eQTL.exported.toploci.bed.gz           |\n",
       "| eQTL | ROSMAP    | Mic_13_Kellis          | single_context_finemapping | data/analysis_result/single_context/ROSMAP_eQTL/export/summary/context_specific/Mic_13_Kellis_eQTL.exported.toploci.bed.gz           |\n",
       "| eQTL | ROSMAP    | Mic_DeJager            | single_context_finemapping | data/analysis_result/single_context/ROSMAP_eQTL/export/summary/context_specific/Mic_DeJager_eQTL.exported.toploci.bed.gz             |\n",
       "| eQTL | ROSMAP    | Mic_Kellis             | single_context_finemapping | data/analysis_result/single_context/ROSMAP_eQTL/export/summary/context_specific/Mic_Kellis_eQTL.exported.toploci.bed.gz              |\n",
       "| eQTL | ROSMAP    | Mic_mega               | single_context_finemapping | data/analysis_result/single_context/ROSMAP_eQTL/export/summary/context_specific/Mic_mega_eQTL.exported.toploci.bed.gz                |\n",
       "| eQTL | ROSMAP    | OPC_DeJager            | single_context_finemapping | data/analysis_result/single_context/ROSMAP_eQTL/export/summary/context_specific/OPC_DeJager_eQTL.exported.toploci.bed.gz             |\n",
       "| eQTL | ROSMAP    | OPC_Kellis             | single_context_finemapping | data/analysis_result/single_context/ROSMAP_eQTL/export/summary/context_specific/OPC_Kellis_eQTL.exported.toploci.bed.gz              |\n",
       "| eQTL | ROSMAP    | OPC_mega               | single_context_finemapping | data/analysis_result/single_context/ROSMAP_eQTL/export/summary/context_specific/OPC_mega_eQTL.exported.toploci.bed.gz                |\n",
       "| eQTL | ROSMAP    | Oli_DeJager            | single_context_finemapping | data/analysis_result/single_context/ROSMAP_eQTL/export/summary/context_specific/Oli_DeJager_eQTL.exported.toploci.bed.gz             |\n",
       "| eQTL | ROSMAP    | Oli_Kellis             | single_context_finemapping | data/analysis_result/single_context/ROSMAP_eQTL/export/summary/context_specific/Oli_Kellis_eQTL.exported.toploci.bed.gz              |\n",
       "| eQTL | ROSMAP    | Oli_mega               | single_context_finemapping | data/analysis_result/single_context/ROSMAP_eQTL/export/summary/context_specific/Oli_mega_eQTL.exported.toploci.bed.gz                |\n",
       "| eQTL | ROSMAP    | PCC                    | single_context_finemapping | data/analysis_result/single_context/ROSMAP_eQTL/export/summary/context_specific/PCC_DeJager_eQTL.exported.toploci.bed.gz             |\n",
       "| pQTL | ROSMAP    | DLPFC_Bennett          | single_context_finemapping | data/analysis_result/single_context/ROSMAP_pQTL/export/summary/context_specific/DLPFC_Bennett_pQTL.exported.toploci.bed.gz           |\n",
       "| pQTL | ROSMAP    | DLPFC_Klein_adjusted   | single_context_finemapping | data/analysis_result/single_context/ROSMAP_pQTL/export/summary/context_specific/DLPFC_Klein_gpQTL_adjusted.exported.toploci.bed.gz   |\n",
       "| pQTL | ROSMAP    | DLPFC_Klein_unadjusted | single_context_finemapping | data/analysis_result/single_context/ROSMAP_pQTL/export/summary/context_specific/DLPFC_Klein_gpQTL_unadjusted.exported.toploci.bed.gz |\n",
       "| eQTL | ROSMAP    | monocyte               | single_context_finemapping | data/analysis_result/single_context/ROSMAP_pQTL/export/summary/context_specific/monocyte_ROSMAP_eQTL.exported.toploci.bed.gz         |\n",
       "| eQTL | STARNET   | Mac                    | single_context_finemapping | data/analysis_result/single_context/STARNET_eQTL/export/summary/context_specific/STARNET_eQTL_Mac.exported.toploci.bed.gz            |\n",
       "\n"
      ],
      "text/plain": [
       "   Data_Type Cohort    Modality               Method                    \n",
       "1  eQTL      KNIGHT    Brain                  single_context_finemapping\n",
       "2  pQTL      KNIGHT    Brain                  single_context_finemapping\n",
       "3  eQTL      MSBB      BM_10                  single_context_finemapping\n",
       "4  eQTL      MSBB      BM_22                  single_context_finemapping\n",
       "5  eQTL      MSBB      BM_36                  single_context_finemapping\n",
       "6  eQTL      MSBB      BM_44                  single_context_finemapping\n",
       "7  pQTL      MSBB      BM_36                  single_context_finemapping\n",
       "8  eQTL      MetaBrain Basalganglia           single_context_finemapping\n",
       "9  eQTL      MetaBrain Cerebellum             single_context_finemapping\n",
       "10 eQTL      MetaBrain Cortex                 single_context_finemapping\n",
       "11 eQTL      MetaBrain Hippocampus            single_context_finemapping\n",
       "12 eQTL      MetaBrain Spinalcord             single_context_finemapping\n",
       "13 eQTL      MiGA      GFM                    single_context_finemapping\n",
       "14 eQTL      MiGA      GTS                    single_context_finemapping\n",
       "15 eQTL      MiGA      SVZ                    single_context_finemapping\n",
       "16 eQTL      MiGA      THA                    single_context_finemapping\n",
       "17 eQTL      ROSMAP    AC                     single_context_finemapping\n",
       "18 eQTL      ROSMAP    Ast_10_Kellis          single_context_finemapping\n",
       "19 eQTL      ROSMAP    Ast_DeJager            single_context_finemapping\n",
       "20 eQTL      ROSMAP    Ast_Kellis             single_context_finemapping\n",
       "21 eQTL      ROSMAP    Ast_mega               single_context_finemapping\n",
       "22 eQTL      ROSMAP    DLPFC                  single_context_finemapping\n",
       "23 eQTL      ROSMAP    Exc_DeJager            single_context_finemapping\n",
       "24 eQTL      ROSMAP    Exc_Kellis             single_context_finemapping\n",
       "25 eQTL      ROSMAP    Exc_mega               single_context_finemapping\n",
       "26 eQTL      ROSMAP    Inh_DeJager            single_context_finemapping\n",
       "27 eQTL      ROSMAP    Inh_Kellis             single_context_finemapping\n",
       "28 eQTL      ROSMAP    Inh_mega               single_context_finemapping\n",
       "29 eQTL      ROSMAP    Mic_12_Kellis          single_context_finemapping\n",
       "30 eQTL      ROSMAP    Mic_13_Kellis          single_context_finemapping\n",
       "31 eQTL      ROSMAP    Mic_DeJager            single_context_finemapping\n",
       "32 eQTL      ROSMAP    Mic_Kellis             single_context_finemapping\n",
       "33 eQTL      ROSMAP    Mic_mega               single_context_finemapping\n",
       "34 eQTL      ROSMAP    OPC_DeJager            single_context_finemapping\n",
       "35 eQTL      ROSMAP    OPC_Kellis             single_context_finemapping\n",
       "36 eQTL      ROSMAP    OPC_mega               single_context_finemapping\n",
       "37 eQTL      ROSMAP    Oli_DeJager            single_context_finemapping\n",
       "38 eQTL      ROSMAP    Oli_Kellis             single_context_finemapping\n",
       "39 eQTL      ROSMAP    Oli_mega               single_context_finemapping\n",
       "40 eQTL      ROSMAP    PCC                    single_context_finemapping\n",
       "41 pQTL      ROSMAP    DLPFC_Bennett          single_context_finemapping\n",
       "42 pQTL      ROSMAP    DLPFC_Klein_adjusted   single_context_finemapping\n",
       "43 pQTL      ROSMAP    DLPFC_Klein_unadjusted single_context_finemapping\n",
       "44 eQTL      ROSMAP    monocyte               single_context_finemapping\n",
       "45 eQTL      STARNET   Mac                    single_context_finemapping\n",
       "   Path                                                                                                                                \n",
       "1  data/analysis_result/single_context/KNIGHT_eQTL/export/summary/context_specific/Knight_eQTL_brain.exported.toploci.bed.gz           \n",
       "2  data/analysis_result/single_context/KNIGHT_pQTL/export/summary/context_specific/Knight_pQTL_brain.exported.toploci.bed.gz           \n",
       "3  data/analysis_result/single_context/MSBB_eQTL/export/summary/context_specific/BM_10_MSBB_eQTL.exported.toploci.bed.gz               \n",
       "4  data/analysis_result/single_context/MSBB_eQTL/export/summary/context_specific/BM_22_MSBB_eQTL.exported.toploci.bed.gz               \n",
       "5  data/analysis_result/single_context/MSBB_eQTL/export/summary/context_specific/BM_36_MSBB_eQTL.exported.toploci.bed.gz               \n",
       "6  data/analysis_result/single_context/MSBB_eQTL/export/summary/context_specific/BM_44_MSBB_eQTL.exported.toploci.bed.gz               \n",
       "7  data/analysis_result/single_context/MSBB_pQTL/export/summary/context_specific/MSBB_BM36_pQTL.exported.toploci.bed.gz                \n",
       "8  data/analysis_result/single_context/MetaBrain/export/summary/context_specific/Metabrain_Basalganglia.exported.toploci.bed.gz        \n",
       "9  data/analysis_result/single_context/MetaBrain/export/summary/context_specific/Metabrain_Cerebellum.exported.toploci.bed.gz          \n",
       "10 data/analysis_result/single_context/MetaBrain/export/summary/context_specific/Metabrain_Cortex.exported.toploci.bed.gz              \n",
       "11 data/analysis_result/single_context/MetaBrain/export/summary/context_specific/Metabrain_Hippocampus.exported.toploci.bed.gz         \n",
       "12 data/analysis_result/single_context/MetaBrain/export/summary/context_specific/Metabrain_Spinalcord.exported.toploci.bed.gz          \n",
       "13 data/analysis_result/single_context/MiGA_eQTL/export/summary/context_specific/MiGA_GFM_eQTL.exported.toploci.bed.gz                 \n",
       "14 data/analysis_result/single_context/MiGA_eQTL/export/summary/context_specific/MiGA_GTS_eQTL.exported.toploci.bed.gz                 \n",
       "15 data/analysis_result/single_context/MiGA_eQTL/export/summary/context_specific/MiGA_SVZ_eQTL.exported.toploci.bed.gz                 \n",
       "16 data/analysis_result/single_context/MiGA_eQTL/export/summary/context_specific/MiGA_THA_eQTL.exported.toploci.bed.gz                 \n",
       "17 data/analysis_result/single_context/ROSMAP_eQTL/export/summary/context_specific/AC_DeJager_eQTL.exported.toploci.bed.gz             \n",
       "18 data/analysis_result/single_context/ROSMAP_eQTL/export/summary/context_specific/Ast_10_Kellis_eQTL.exported.toploci.bed.gz          \n",
       "19 data/analysis_result/single_context/ROSMAP_eQTL/export/summary/context_specific/Ast_DeJager_eQTL.exported.toploci.bed.gz            \n",
       "20 data/analysis_result/single_context/ROSMAP_eQTL/export/summary/context_specific/Ast_Kellis_eQTL.exported.toploci.bed.gz             \n",
       "21 data/analysis_result/single_context/ROSMAP_eQTL/export/summary/context_specific/Ast_mega_eQTL.exported.toploci.bed.gz               \n",
       "22 data/analysis_result/single_context/ROSMAP_eQTL/export/summary/context_specific/DLPFC_DeJager_eQTL.exported.toploci.bed.gz          \n",
       "23 data/analysis_result/single_context/ROSMAP_eQTL/export/summary/context_specific/Exc_DeJager_eQTL.exported.toploci.bed.gz            \n",
       "24 data/analysis_result/single_context/ROSMAP_eQTL/export/summary/context_specific/Exc_Kellis_eQTL.exported.toploci.bed.gz             \n",
       "25 data/analysis_result/single_context/ROSMAP_eQTL/export/summary/context_specific/Exc_mega_eQTL.exported.toploci.bed.gz               \n",
       "26 data/analysis_result/single_context/ROSMAP_eQTL/export/summary/context_specific/Inh_DeJager_eQTL.exported.toploci.bed.gz            \n",
       "27 data/analysis_result/single_context/ROSMAP_eQTL/export/summary/context_specific/Inh_Kellis_eQTL.exported.toploci.bed.gz             \n",
       "28 data/analysis_result/single_context/ROSMAP_eQTL/export/summary/context_specific/Inh_mega_eQTL.exported.toploci.bed.gz               \n",
       "29 data/analysis_result/single_context/ROSMAP_eQTL/export/summary/context_specific/Mic_12_Kellis_eQTL.exported.toploci.bed.gz          \n",
       "30 data/analysis_result/single_context/ROSMAP_eQTL/export/summary/context_specific/Mic_13_Kellis_eQTL.exported.toploci.bed.gz          \n",
       "31 data/analysis_result/single_context/ROSMAP_eQTL/export/summary/context_specific/Mic_DeJager_eQTL.exported.toploci.bed.gz            \n",
       "32 data/analysis_result/single_context/ROSMAP_eQTL/export/summary/context_specific/Mic_Kellis_eQTL.exported.toploci.bed.gz             \n",
       "33 data/analysis_result/single_context/ROSMAP_eQTL/export/summary/context_specific/Mic_mega_eQTL.exported.toploci.bed.gz               \n",
       "34 data/analysis_result/single_context/ROSMAP_eQTL/export/summary/context_specific/OPC_DeJager_eQTL.exported.toploci.bed.gz            \n",
       "35 data/analysis_result/single_context/ROSMAP_eQTL/export/summary/context_specific/OPC_Kellis_eQTL.exported.toploci.bed.gz             \n",
       "36 data/analysis_result/single_context/ROSMAP_eQTL/export/summary/context_specific/OPC_mega_eQTL.exported.toploci.bed.gz               \n",
       "37 data/analysis_result/single_context/ROSMAP_eQTL/export/summary/context_specific/Oli_DeJager_eQTL.exported.toploci.bed.gz            \n",
       "38 data/analysis_result/single_context/ROSMAP_eQTL/export/summary/context_specific/Oli_Kellis_eQTL.exported.toploci.bed.gz             \n",
       "39 data/analysis_result/single_context/ROSMAP_eQTL/export/summary/context_specific/Oli_mega_eQTL.exported.toploci.bed.gz               \n",
       "40 data/analysis_result/single_context/ROSMAP_eQTL/export/summary/context_specific/PCC_DeJager_eQTL.exported.toploci.bed.gz            \n",
       "41 data/analysis_result/single_context/ROSMAP_pQTL/export/summary/context_specific/DLPFC_Bennett_pQTL.exported.toploci.bed.gz          \n",
       "42 data/analysis_result/single_context/ROSMAP_pQTL/export/summary/context_specific/DLPFC_Klein_gpQTL_adjusted.exported.toploci.bed.gz  \n",
       "43 data/analysis_result/single_context/ROSMAP_pQTL/export/summary/context_specific/DLPFC_Klein_gpQTL_unadjusted.exported.toploci.bed.gz\n",
       "44 data/analysis_result/single_context/ROSMAP_pQTL/export/summary/context_specific/monocyte_ROSMAP_eQTL.exported.toploci.bed.gz        \n",
       "45 data/analysis_result/single_context/STARNET_eQTL/export/summary/context_specific/STARNET_eQTL_Mac.exported.toploci.bed.gz           "
      ]
     },
     "metadata": {},
     "output_type": "display_data"
    }
   ],
   "source": [
    "meta_file"
   ]
  },
  {
   "cell_type": "code",
   "execution_count": 15,
   "id": "8bb5581d-7fba-4b84-8628-a824394aaa7f",
   "metadata": {},
   "outputs": [
    {
     "name": "stdout",
     "output_type": "stream",
     "text": [
      "Rows: 9,259,656\n",
      "Columns: 17\n",
      "$ `#chr`                    \u001b[3m\u001b[90m<dbl>\u001b[39m\u001b[23m 1\u001b[90m, \u001b[39m1\u001b[90m, \u001b[39m1\u001b[90m, \u001b[39m1\u001b[90m, \u001b[39m1\u001b[90m, \u001b[39m1\u001b[90m, \u001b[39m1\u001b[90m, \u001b[39m1\u001b[90m, \u001b[39m1\u001b[90m, \u001b[39m1\u001b[90m, \u001b[39m1\u001b[90m, \u001b[39m1\u001b[90m, \u001b[39m1\u001b[90m, \u001b[39m1\u001b[90m, \u001b[39m1\u001b[90m,\u001b[39m…\n",
      "$ start                     \u001b[3m\u001b[90m<dbl>\u001b[39m\u001b[23m 903284\u001b[90m, \u001b[39m903351\u001b[90m, \u001b[39m903509\u001b[90m, \u001b[39m903535\u001b[90m, \u001b[39m904080\u001b[90m, \u001b[39m9041…\n",
      "$ end                       \u001b[3m\u001b[90m<dbl>\u001b[39m\u001b[23m 903285\u001b[90m, \u001b[39m903352\u001b[90m, \u001b[39m903510\u001b[90m, \u001b[39m903536\u001b[90m, \u001b[39m904081\u001b[90m, \u001b[39m9041…\n",
      "$ a1                        \u001b[3m\u001b[90m<chr>\u001b[39m\u001b[23m \"C\"\u001b[90m, \u001b[39m\"A\"\u001b[90m, \u001b[39m\"G\"\u001b[90m, \u001b[39m\"T\"\u001b[90m, \u001b[39m\"C\"\u001b[90m, \u001b[39m\"T\"\u001b[90m, \u001b[39m\"G\"\u001b[90m, \u001b[39m\"G\"\u001b[90m, \u001b[39m\"A\"\u001b[90m,\u001b[39m…\n",
      "$ a2                        \u001b[3m\u001b[90m<chr>\u001b[39m\u001b[23m \"T\"\u001b[90m, \u001b[39m\"G\"\u001b[90m, \u001b[39m\"A\"\u001b[90m, \u001b[39m\"A\"\u001b[90m, \u001b[39m\"T\"\u001b[90m, \u001b[39m\"G\"\u001b[90m, \u001b[39m\"A\"\u001b[90m, \u001b[39m\"T\"\u001b[90m, \u001b[39m\"G\"\u001b[90m,\u001b[39m…\n",
      "$ variant_ID                \u001b[3m\u001b[90m<chr>\u001b[39m\u001b[23m \"chr1:903285:T:C\"\u001b[90m, \u001b[39m\"chr1:903352:G:A\"\u001b[90m, \u001b[39m\"chr1:…\n",
      "$ gene_ID                   \u001b[3m\u001b[90m<chr>\u001b[39m\u001b[23m \"ENSG00000235169\"\u001b[90m, \u001b[39m\"ENSG00000235169\"\u001b[90m, \u001b[39m\"ENSG0…\n",
      "$ event_ID                  \u001b[3m\u001b[90m<chr>\u001b[39m\u001b[23m \"Knight_eQTL_brain_ENSG00000235169\"\u001b[90m, \u001b[39m\"Knight…\n",
      "$ cs_coverage_0.95          \u001b[3m\u001b[90m<dbl>\u001b[39m\u001b[23m 0\u001b[90m, \u001b[39m0\u001b[90m, \u001b[39m0\u001b[90m, \u001b[39m0\u001b[90m, \u001b[39m0\u001b[90m, \u001b[39m0\u001b[90m, \u001b[39m0\u001b[90m, \u001b[39m0\u001b[90m, \u001b[39m0\u001b[90m, \u001b[39m0\u001b[90m, \u001b[39m0\u001b[90m, \u001b[39m0\u001b[90m, \u001b[39m0\u001b[90m, \u001b[39m0\u001b[90m, \u001b[39m0\u001b[90m,\u001b[39m…\n",
      "$ cs_coverage_0.7           \u001b[3m\u001b[90m<dbl>\u001b[39m\u001b[23m 0\u001b[90m, \u001b[39m0\u001b[90m, \u001b[39m0\u001b[90m, \u001b[39m0\u001b[90m, \u001b[39m0\u001b[90m, \u001b[39m0\u001b[90m, \u001b[39m0\u001b[90m, \u001b[39m0\u001b[90m, \u001b[39m0\u001b[90m, \u001b[39m1\u001b[90m, \u001b[39m0\u001b[90m, \u001b[39m1\u001b[90m, \u001b[39m0\u001b[90m, \u001b[39m1\u001b[90m, \u001b[39m0\u001b[90m,\u001b[39m…\n",
      "$ cs_coverage_0.5           \u001b[3m\u001b[90m<dbl>\u001b[39m\u001b[23m 0\u001b[90m, \u001b[39m0\u001b[90m, \u001b[39m0\u001b[90m, \u001b[39m0\u001b[90m, \u001b[39m0\u001b[90m, \u001b[39m0\u001b[90m, \u001b[39m0\u001b[90m, \u001b[39m0\u001b[90m, \u001b[39m0\u001b[90m, \u001b[39m0\u001b[90m, \u001b[39m0\u001b[90m, \u001b[39m1\u001b[90m, \u001b[39m0\u001b[90m, \u001b[39m1\u001b[90m, \u001b[39m0\u001b[90m,\u001b[39m…\n",
      "$ PIP                       \u001b[3m\u001b[90m<dbl>\u001b[39m\u001b[23m 0.04257485\u001b[90m, \u001b[39m0.04257485\u001b[90m, \u001b[39m0.04257485\u001b[90m, \u001b[39m0.042574…\n",
      "$ conditional_effect        \u001b[3m\u001b[90m<dbl>\u001b[39m\u001b[23m -0.8420827\u001b[90m, \u001b[39m-0.8420827\u001b[90m, \u001b[39m-0.8420827\u001b[90m, \u001b[39m-0.84208…\n",
      "$ Cohort                    \u001b[3m\u001b[90m<chr>\u001b[39m\u001b[23m \"KNIGHT\"\u001b[90m, \u001b[39m\"KNIGHT\"\u001b[90m, \u001b[39m\"KNIGHT\"\u001b[90m, \u001b[39m\"KNIGHT\"\u001b[90m, \u001b[39m\"KNI…\n",
      "$ Data_Type                 \u001b[3m\u001b[90m<chr>\u001b[39m\u001b[23m \"eQTL\"\u001b[90m, \u001b[39m\"eQTL\"\u001b[90m, \u001b[39m\"eQTL\"\u001b[90m, \u001b[39m\"eQTL\"\u001b[90m, \u001b[39m\"eQTL\"\u001b[90m, \u001b[39m\"eQT…\n",
      "$ Modality                  \u001b[3m\u001b[90m<chr>\u001b[39m\u001b[23m \"Brain\"\u001b[90m, \u001b[39m\"Brain\"\u001b[90m, \u001b[39m\"Brain\"\u001b[90m, \u001b[39m\"Brain\"\u001b[90m, \u001b[39m\"Brain\"\u001b[90m,\u001b[39m…\n",
      "$ Cohort_Data_Type_Modality \u001b[3m\u001b[90m<chr>\u001b[39m\u001b[23m \"KNIGHT_eQTL_Brain\"\u001b[90m, \u001b[39m\"KNIGHT_eQTL_Brain\"\u001b[90m, \u001b[39m\"K…\n"
     ]
    }
   ],
   "source": [
    "# Assuming your meta_file dataframe is already loaded\n",
    "# If not, you'd need to recreate it from your data\n",
    "\n",
    "# Create a function to read a single file and add identifiers\n",
    "read_topolci_file <- function(path, cohort, data_type, modality) {\n",
    "  # Read the file - assuming tab-delimited with gzip compression\n",
    "  data <- read_tsv(path, show_col_types = FALSE)\n",
    "  \n",
    "  # Add identifier columns\n",
    "  data$Cohort <- cohort\n",
    "  data$Data_Type <- data_type\n",
    "  data$Modality <- modality\n",
    "  \n",
    "  # Create combined identifier\n",
    "  data$Cohort_Data_Type_Modality <- paste(cohort, data_type, modality, sep = \"_\")\n",
    "  \n",
    "  return(data)\n",
    "}\n",
    "\n",
    "# Apply the function to each row in the meta_file\n",
    "combined_data <- pmap_dfr(\n",
    "  list(\n",
    "    path = meta_file$Path,\n",
    "    cohort = meta_file$Cohort,\n",
    "    data_type = meta_file$Data_Type,\n",
    "    modality = meta_file$Modality\n",
    "  ),\n",
    "  read_topolci_file\n",
    ")\n",
    "\n",
    "# Save the combined dataset if needed\n",
    "fwrite(combined_data, \"combined_top_loci_data.tsv\")\n",
    "\n",
    "# Preview the result\n",
    "glimpse(combined_data)"
   ]
  },
  {
   "cell_type": "code",
   "execution_count": 34,
   "id": "e93b0d68-531c-4263-8dd7-61f00fb81274",
   "metadata": {},
   "outputs": [],
   "source": [
    "combined_data = fread(\"project/image_QTL/cb_varisnts_explained_by_xQTL/combined_top_loci_data.tsv\")"
   ]
  },
  {
   "cell_type": "code",
   "execution_count": 35,
   "id": "8b886a9f-dea2-4124-beaf-b3658247cc4f",
   "metadata": {},
   "outputs": [],
   "source": [
    "combined_data = combined_data |> filter(cs_coverage_0.95 > 0)"
   ]
  },
  {
   "cell_type": "code",
   "execution_count": 21,
   "id": "bd1a7103-4703-4a22-9d9b-bdaf0be696b7",
   "metadata": {},
   "outputs": [],
   "source": [
    "TNIP1_xQTL = readRDS(\"data/analysis_result/single_context/ROSMAP_eQTL/fine_mapping/ROSMAP_DeJager_eQTL.ENSG00000145901.univariate_bvsr.rds\")"
   ]
  },
  {
   "cell_type": "code",
   "execution_count": 23,
   "id": "83d1ecd0-f5a2-4b78-a0b1-077af5b53f9c",
   "metadata": {},
   "outputs": [
    {
     "name": "stdout",
     "output_type": "stream",
     "text": [
      "List of 10\n",
      " $ variant_names         : chr [1:35654] \"chr5:147240238:T:C\" \"chr5:147240352:T:C\" \"chr5:147240415:G:A\" \"chr5:147240519:C:T\" ...\n",
      " $ analysis_script       : chr \"options(warn=1)\\nlibrary(pecotmr)\\n# extract subset of samples\\nkeep_samples = NULL\\nif (FALSE) {\\n  keep_sampl\"| __truncated__\n",
      " $ other_quantities      :List of 1\n",
      "  ..$ dropped_samples:List of 3\n",
      "  .. ..$ X    : NULL\n",
      "  .. ..$ y    : NULL\n",
      "  .. ..$ covar: NULL\n",
      " $ sumstats              :List of 2\n",
      "  ..$ betahat  : num [1:35654] -0.28677 0.10427 -0.0615 -0.00636 -0.00636 ...\n",
      "  ..$ sebetahat: num [1:35654] 0.1365 0.0929 0.0471 0.0347 0.0347 ...\n",
      " $ sample_names          : chr [1:419] \"MAP15387421\" \"MAP46246604\" \"MAP50104134\" \"MAP50104846\" ...\n",
      " $ top_loci              :'data.frame':\t1 obs. of  8 variables:\n",
      "  ..$ variant_id      : chr \"chr5:151052827:C:T\"\n",
      "  ..$ betahat         : num -0.247\n",
      "  ..$ sebetahat       : num 0.0352\n",
      "  ..$ maf             : num 0.335\n",
      "  ..$ pip             : num 0.999\n",
      "  ..$ cs_coverage_0.95: num 1\n",
      "  ..$ cs_coverage_0.7 : num 1\n",
      "  ..$ cs_coverage_0.5 : num 1\n",
      " $ susie_result_trimmed  :List of 11\n",
      "  ..$ pip                   : num [1:35654] 0.000462 0.000162 0.000283 0.000164 0.000164 ...\n",
      "  ..$ sets                  :List of 5\n",
      "  .. ..$ cs                :List of 1\n",
      "  .. .. ..$ L1: int 16759\n",
      "  .. ..$ purity            :'data.frame':\t1 obs. of  3 variables:\n",
      "  .. .. ..$ min.abs.corr   : num 1\n",
      "  .. .. ..$ mean.abs.corr  : num 1\n",
      "  .. .. ..$ median.abs.corr: num 1\n",
      "  .. ..$ cs_index          : int 1\n",
      "  .. ..$ coverage          : num 0.999\n",
      "  .. ..$ requested_coverage: num 0.95\n",
      "  ..$ cs_corr               : logi NA\n",
      "  ..$ sets_secondary        :List of 2\n",
      "  .. ..$ coverage_0.7:List of 3\n",
      "  .. .. ..$ sets   :List of 5\n",
      "  .. .. .. ..$ cs                :List of 1\n",
      "  .. .. .. .. ..$ L1: int 16759\n",
      "  .. .. .. ..$ purity            :'data.frame':\t1 obs. of  3 variables:\n",
      "  .. .. .. .. ..$ min.abs.corr   : num 1\n",
      "  .. .. .. .. ..$ mean.abs.corr  : num 1\n",
      "  .. .. .. .. ..$ median.abs.corr: num 1\n",
      "  .. .. .. ..$ cs_index          : int 1\n",
      "  .. .. .. ..$ coverage          : num 0.999\n",
      "  .. .. .. ..$ requested_coverage: num 0.7\n",
      "  .. .. ..$ pip    : Named num [1:35654] 0.000462 0.000162 0.000283 0.000164 0.000164 ...\n",
      "  .. .. .. ..- attr(*, \"names\")= chr [1:35654] \"chr5:147240238:T:C\" \"chr5:147240352:T:C\" \"chr5:147240415:G:A\" \"chr5:147240519:C:T\" ...\n",
      "  .. .. ..$ cs_corr: logi NA\n",
      "  .. ..$ coverage_0.5:List of 3\n",
      "  .. .. ..$ sets   :List of 5\n",
      "  .. .. .. ..$ cs                :List of 1\n",
      "  .. .. .. .. ..$ L1: int 16759\n",
      "  .. .. .. ..$ purity            :'data.frame':\t1 obs. of  3 variables:\n",
      "  .. .. .. .. ..$ min.abs.corr   : num 1\n",
      "  .. .. .. .. ..$ mean.abs.corr  : num 1\n",
      "  .. .. .. .. ..$ median.abs.corr: num 1\n",
      "  .. .. .. ..$ cs_index          : int 1\n",
      "  .. .. .. ..$ coverage          : num 0.999\n",
      "  .. .. .. ..$ requested_coverage: num 0.5\n",
      "  .. .. ..$ pip    : Named num [1:35654] 0.000462 0.000162 0.000283 0.000164 0.000164 ...\n",
      "  .. .. .. ..- attr(*, \"names\")= chr [1:35654] \"chr5:147240238:T:C\" \"chr5:147240352:T:C\" \"chr5:147240415:G:A\" \"chr5:147240519:C:T\" ...\n",
      "  .. .. ..$ cs_corr: logi NA\n",
      "  ..$ alpha                 : num [1:8, 1:35654] 2.30e-10 6.52e-05 6.50e-05 6.54e-05 6.61e-05 ...\n",
      "  .. ..- attr(*, \"dimnames\")=List of 2\n",
      "  .. .. ..$ : NULL\n",
      "  .. .. ..$ : chr [1:35654] \"chr5:147240238:T:C\" \"chr5:147240352:T:C\" \"chr5:147240415:G:A\" \"chr5:147240519:C:T\" ...\n",
      "  ..$ lbf_variable          : num [1:8, 1:35654] 0.409 0.853 0.849 0.857 0.869 ...\n",
      "  .. ..- attr(*, \"dimnames\")=List of 2\n",
      "  .. .. ..$ : NULL\n",
      "  .. .. ..$ : chr [1:35654] \"chr5:147240238:T:C\" \"chr5:147240352:T:C\" \"chr5:147240415:G:A\" \"chr5:147240519:C:T\" ...\n",
      "  ..$ mu                    : num [1:8, 1:35654] -0.0462 -0.0255 -0.0253 -0.0256 -0.0261 ...\n",
      "  .. ..- attr(*, \"dimnames\")=List of 2\n",
      "  .. .. ..$ : NULL\n",
      "  .. .. ..$ : chr [1:35654] \"chr5:147240238:T:C\" \"chr5:147240352:T:C\" \"chr5:147240415:G:A\" \"chr5:147240519:C:T\" ...\n",
      "  ..$ mu2                   : num [1:8, 1:35654] 0.00259 0.000907 0.000899 0.000917 0.000947 ...\n",
      "  .. ..- attr(*, \"dimnames\")=List of 2\n",
      "  .. .. ..$ : NULL\n",
      "  .. .. ..$ : chr [1:35654] \"chr5:147240238:T:C\" \"chr5:147240352:T:C\" \"chr5:147240415:G:A\" \"chr5:147240519:C:T\" ...\n",
      "  ..$ V                     : num [1:8] 0.022634 0.000583 0.000576 0.000591 0.000618 ...\n",
      "  ..$ niter                 : int 7\n",
      "  ..$ X_column_scale_factors: Named num [1:35654] 0.168 0.247 0.488 0.662 0.662 ...\n",
      "  .. ..- attr(*, \"names\")= chr [1:35654] \"chr5:147240238:T:C\" \"chr5:147240352:T:C\" \"chr5:147240415:G:A\" \"chr5:147240519:C:T\" ...\n",
      "  ..- attr(*, \"class\")= chr \"susie\"\n",
      " $ total_time_elapsed    : 'proc_time' Named num [1:5] 299.543 173.982 254.141 0.002 0\n",
      "  ..- attr(*, \"names\")= chr [1:5] \"user.self\" \"sys.self\" \"elapsed\" \"user.child\" ...\n",
      " $ region_info           :List of 3\n",
      "  ..$ region_coord:'data.frame':\t1 obs. of  3 variables:\n",
      "  .. ..$ chrom: chr \"5\"\n",
      "  .. ..$ start: int 151093576\n",
      "  .. ..$ end  : int 151093577\n",
      "  ..$ grange      :'data.frame':\t1 obs. of  3 variables:\n",
      "  .. ..$ chrom: chr \"5\"\n",
      "  .. ..$ start: int 147240000\n",
      "  .. ..$ end  : int 154960000\n",
      "  ..$ region_name : chr \"ENSG00000145901\"\n",
      " $ preset_variants_result:List of 10\n",
      "  ..$ susie_fitted        : NULL\n",
      "  ..$ other_quantities    :List of 1\n",
      "  .. ..$ dropped_samples:List of 3\n",
      "  .. .. ..$ X    : NULL\n",
      "  .. .. ..$ y    : NULL\n",
      "  .. .. ..$ covar: NULL\n",
      "  ..$ variant_names       : chr [1:23095] \"chr5:147240238:T:C\" \"chr5:147240352:T:C\" \"chr5:147240415:G:A\" \"chr5:147240519:C:T\" ...\n",
      "  ..$ sample_names        : chr [1:419] \"MAP15387421\" \"MAP46246604\" \"MAP50104134\" \"MAP50104846\" ...\n",
      "  ..$ top_loci            :'data.frame':\t1 obs. of  8 variables:\n",
      "  .. ..$ variant_id      : chr \"chr5:151052827:C:T\"\n",
      "  .. ..$ betahat         : num -0.247\n",
      "  .. ..$ sebetahat       : num 0.0352\n",
      "  .. ..$ maf             : num 0.335\n",
      "  .. ..$ pip             : num 0.999\n",
      "  .. ..$ cs_coverage_0.95: num 1\n",
      "  .. ..$ cs_coverage_0.7 : num 1\n",
      "  .. ..$ cs_coverage_0.5 : num 1\n",
      "  ..$ susie_result_trimmed:List of 11\n",
      "  .. ..$ pip                   : num [1:23095] 0.00052 0.000176 0.000317 0.000179 0.000179 ...\n",
      "  .. ..$ sets                  :List of 5\n",
      "  .. .. ..$ cs                :List of 1\n",
      "  .. .. .. ..$ L1: int 10849\n",
      "  .. .. ..$ purity            :'data.frame':\t1 obs. of  3 variables:\n",
      "  .. .. .. ..$ min.abs.corr   : num 1\n",
      "  .. .. .. ..$ mean.abs.corr  : num 1\n",
      "  .. .. .. ..$ median.abs.corr: num 1\n",
      "  .. .. ..$ cs_index          : int 1\n",
      "  .. .. ..$ coverage          : num 0.999\n",
      "  .. .. ..$ requested_coverage: num 0.95\n",
      "  .. ..$ cs_corr               : logi NA\n",
      "  .. ..$ sets_secondary        :List of 2\n",
      "  .. .. ..$ coverage_0.7:List of 3\n",
      "  .. .. .. ..$ sets   :List of 5\n",
      "  .. .. .. .. ..$ cs                :List of 1\n",
      "  .. .. .. .. .. ..$ L1: int 10849\n",
      "  .. .. .. .. ..$ purity            :'data.frame':\t1 obs. of  3 variables:\n",
      "  .. .. .. .. .. ..$ min.abs.corr   : num 1\n",
      "  .. .. .. .. .. ..$ mean.abs.corr  : num 1\n",
      "  .. .. .. .. .. ..$ median.abs.corr: num 1\n",
      "  .. .. .. .. ..$ cs_index          : int 1\n",
      "  .. .. .. .. ..$ coverage          : num 0.999\n",
      "  .. .. .. .. ..$ requested_coverage: num 0.7\n",
      "  .. .. .. ..$ pip    : Named num [1:23095] 0.00052 0.000176 0.000317 0.000179 0.000179 ...\n",
      "  .. .. .. .. ..- attr(*, \"names\")= chr [1:23095] \"chr5:147240238:T:C\" \"chr5:147240352:T:C\" \"chr5:147240415:G:A\" \"chr5:147240519:C:T\" ...\n",
      "  .. .. .. ..$ cs_corr: logi NA\n",
      "  .. .. ..$ coverage_0.5:List of 3\n",
      "  .. .. .. ..$ sets   :List of 5\n",
      "  .. .. .. .. ..$ cs                :List of 1\n",
      "  .. .. .. .. .. ..$ L1: int 10849\n",
      "  .. .. .. .. ..$ purity            :'data.frame':\t1 obs. of  3 variables:\n",
      "  .. .. .. .. .. ..$ min.abs.corr   : num 1\n",
      "  .. .. .. .. .. ..$ mean.abs.corr  : num 1\n",
      "  .. .. .. .. .. ..$ median.abs.corr: num 1\n",
      "  .. .. .. .. ..$ cs_index          : int 1\n",
      "  .. .. .. .. ..$ coverage          : num 0.999\n",
      "  .. .. .. .. ..$ requested_coverage: num 0.5\n",
      "  .. .. .. ..$ pip    : Named num [1:23095] 0.00052 0.000176 0.000317 0.000179 0.000179 ...\n",
      "  .. .. .. .. ..- attr(*, \"names\")= chr [1:23095] \"chr5:147240238:T:C\" \"chr5:147240352:T:C\" \"chr5:147240415:G:A\" \"chr5:147240519:C:T\" ...\n",
      "  .. .. .. ..$ cs_corr: logi NA\n",
      "  .. ..$ alpha                 : num [1:6, 1:23095] 2.81e-10 1.01e-04 1.04e-04 1.05e-04 1.06e-04 ...\n",
      "  .. .. ..- attr(*, \"dimnames\")=List of 2\n",
      "  .. .. .. ..$ : NULL\n",
      "  .. .. .. ..$ : chr [1:23095] \"chr5:147240238:T:C\" \"chr5:147240352:T:C\" \"chr5:147240415:G:A\" \"chr5:147240519:C:T\" ...\n",
      "  .. ..$ lbf_variable          : num [1:6, 1:23095] 0.42 0.862 0.884 0.904 0.909 ...\n",
      "  .. .. ..- attr(*, \"dimnames\")=List of 2\n",
      "  .. .. .. ..$ : NULL\n",
      "  .. .. .. ..$ : chr [1:23095] \"chr5:147240238:T:C\" \"chr5:147240352:T:C\" \"chr5:147240415:G:A\" \"chr5:147240519:C:T\" ...\n",
      "  .. ..$ mu                    : num [1:6, 1:23095] -0.0464 -0.0258 -0.0267 -0.0275 -0.0277 ...\n",
      "  .. .. ..- attr(*, \"dimnames\")=List of 2\n",
      "  .. .. .. ..$ : NULL\n",
      "  .. .. .. ..$ : chr [1:23095] \"chr5:147240238:T:C\" \"chr5:147240352:T:C\" \"chr5:147240415:G:A\" \"chr5:147240519:C:T\" ...\n",
      "  .. ..$ mu2                   : num [1:6, 1:23095] 0.00261 0.000925 0.000981 0.001033 0.001047 ...\n",
      "  .. .. ..- attr(*, \"dimnames\")=List of 2\n",
      "  .. .. .. ..$ : NULL\n",
      "  .. .. .. ..$ : chr [1:23095] \"chr5:147240238:T:C\" \"chr5:147240352:T:C\" \"chr5:147240415:G:A\" \"chr5:147240519:C:T\" ...\n",
      "  .. ..$ V                     : num [1:6] 0.022577 0.000595 0.000644 0.000692 0.000705 ...\n",
      "  .. ..$ niter                 : int 6\n",
      "  .. ..$ X_column_scale_factors: Named num [1:23095] 0.168 0.247 0.488 0.662 0.662 ...\n",
      "  .. .. ..- attr(*, \"names\")= chr [1:23095] \"chr5:147240238:T:C\" \"chr5:147240352:T:C\" \"chr5:147240415:G:A\" \"chr5:147240519:C:T\" ...\n",
      "  .. ..- attr(*, \"class\")= chr \"susie\"\n",
      "  ..$ analysis_script     : chr \"options(warn=1)\\nlibrary(pecotmr)\\n# extract subset of samples\\nkeep_samples = NULL\\nif (FALSE) {\\n  keep_sampl\"| __truncated__\n",
      "  ..$ sumstats            :List of 2\n",
      "  .. ..$ betahat  : num [1:35654] -0.28677 0.10427 -0.0615 -0.00636 -0.00636 ...\n",
      "  .. ..$ sebetahat: num [1:35654] 0.1365 0.0929 0.0471 0.0347 0.0347 ...\n",
      "  ..$ total_time_elapsed  : 'proc_time' Named num [1:5] 299.543 173.982 254.141 0.002 0\n",
      "  .. ..- attr(*, \"names\")= chr [1:5] \"user.self\" \"sys.self\" \"elapsed\" \"user.child\" ...\n",
      "  ..$ region_info         :List of 3\n",
      "  .. ..$ region_coord:'data.frame':\t1 obs. of  3 variables:\n",
      "  .. .. ..$ chrom: chr \"5\"\n",
      "  .. .. ..$ start: int 151093576\n",
      "  .. .. ..$ end  : int 151093577\n",
      "  .. ..$ grange      :'data.frame':\t1 obs. of  3 variables:\n",
      "  .. .. ..$ chrom: chr \"5\"\n",
      "  .. .. ..$ start: int 147240000\n",
      "  .. .. ..$ end  : int 154960000\n",
      "  .. ..$ region_name : chr \"ENSG00000145901\"\n"
     ]
    }
   ],
   "source": [
    "str(TNIP1_xQTL[[1]]$Exc_DeJager_eQTL_ENSG00000145901)"
   ]
  },
  {
   "cell_type": "code",
   "execution_count": 20,
   "id": "f59bd575-dc27-4f66-af6e-59dc051cf5af",
   "metadata": {},
   "outputs": [
    {
     "data": {
      "text/html": [
       "<table class=\"dataframe\">\n",
       "<caption>A data.table: 6 × 2</caption>\n",
       "<thead>\n",
       "\t<tr><th scope=col>event_ID</th><th scope=col>n</th></tr>\n",
       "\t<tr><th scope=col>&lt;chr&gt;</th><th scope=col>&lt;int&gt;</th></tr>\n",
       "</thead>\n",
       "<tbody>\n",
       "\t<tr><td>BM_44_MSBB_eQTL_ENSG00000145901                              </td><td> 1</td></tr>\n",
       "\t<tr><td>Exc_DeJager_eQTL_ENSG00000145901                             </td><td> 1</td></tr>\n",
       "\t<tr><td>Metabrain_Cerebellum_chr5_147240000_154960000_ENSG00000145901</td><td> 8</td></tr>\n",
       "\t<tr><td>Metabrain_Cortex_chr5_147240000_154960000_ENSG00000145901    </td><td>11</td></tr>\n",
       "\t<tr><td>MiGA_GTS_eQTL_ENSG00000145901                                </td><td>17</td></tr>\n",
       "\t<tr><td>PCC_DeJager_eQTL_ENSG00000145901                             </td><td> 1</td></tr>\n",
       "</tbody>\n",
       "</table>\n"
      ],
      "text/latex": [
       "A data.table: 6 × 2\n",
       "\\begin{tabular}{ll}\n",
       " event\\_ID & n\\\\\n",
       " <chr> & <int>\\\\\n",
       "\\hline\n",
       "\t BM\\_44\\_MSBB\\_eQTL\\_ENSG00000145901                               &  1\\\\\n",
       "\t Exc\\_DeJager\\_eQTL\\_ENSG00000145901                              &  1\\\\\n",
       "\t Metabrain\\_Cerebellum\\_chr5\\_147240000\\_154960000\\_ENSG00000145901 &  8\\\\\n",
       "\t Metabrain\\_Cortex\\_chr5\\_147240000\\_154960000\\_ENSG00000145901     & 11\\\\\n",
       "\t MiGA\\_GTS\\_eQTL\\_ENSG00000145901                                 & 17\\\\\n",
       "\t PCC\\_DeJager\\_eQTL\\_ENSG00000145901                              &  1\\\\\n",
       "\\end{tabular}\n"
      ],
      "text/markdown": [
       "\n",
       "A data.table: 6 × 2\n",
       "\n",
       "| event_ID &lt;chr&gt; | n &lt;int&gt; |\n",
       "|---|---|\n",
       "| BM_44_MSBB_eQTL_ENSG00000145901                               |  1 |\n",
       "| Exc_DeJager_eQTL_ENSG00000145901                              |  1 |\n",
       "| Metabrain_Cerebellum_chr5_147240000_154960000_ENSG00000145901 |  8 |\n",
       "| Metabrain_Cortex_chr5_147240000_154960000_ENSG00000145901     | 11 |\n",
       "| MiGA_GTS_eQTL_ENSG00000145901                                 | 17 |\n",
       "| PCC_DeJager_eQTL_ENSG00000145901                              |  1 |\n",
       "\n"
      ],
      "text/plain": [
       "  event_ID                                                      n \n",
       "1 BM_44_MSBB_eQTL_ENSG00000145901                                1\n",
       "2 Exc_DeJager_eQTL_ENSG00000145901                               1\n",
       "3 Metabrain_Cerebellum_chr5_147240000_154960000_ENSG00000145901  8\n",
       "4 Metabrain_Cortex_chr5_147240000_154960000_ENSG00000145901     11\n",
       "5 MiGA_GTS_eQTL_ENSG00000145901                                 17\n",
       "6 PCC_DeJager_eQTL_ENSG00000145901                               1"
      ]
     },
     "metadata": {},
     "output_type": "display_data"
    }
   ],
   "source": [
    "combined_data |> filter(gene_ID == \"ENSG00000145901\") |> count(event_ID)# TNIP1"
   ]
  },
  {
   "cell_type": "code",
   "execution_count": 11,
   "id": "bccc7e1f-14ea-43f6-b691-f7c650e6b12f",
   "metadata": {},
   "outputs": [
    {
     "data": {
      "text/html": [
       "<table class=\"dataframe\">\n",
       "<caption>A data.table: 5 × 2</caption>\n",
       "<thead>\n",
       "\t<tr><th scope=col>event_ID</th><th scope=col>n</th></tr>\n",
       "\t<tr><th scope=col>&lt;chr&gt;</th><th scope=col>&lt;int&gt;</th></tr>\n",
       "</thead>\n",
       "<tbody>\n",
       "\t<tr><td>DLPFC_Bennett_pQTL_ENSG00000149927                          </td><td> 2</td></tr>\n",
       "\t<tr><td>Exc_mega_eQTL_ENSG00000149927                               </td><td>46</td></tr>\n",
       "\t<tr><td>Inh_Kellis_eQTL_ENSG00000149927                             </td><td> 7</td></tr>\n",
       "\t<tr><td>Metabrain_Cerebellum_chr16_28360000_34000000_ENSG00000149927</td><td>38</td></tr>\n",
       "\t<tr><td>Metabrain_Cortex_chr16_28360000_34000000_ENSG00000149927    </td><td>27</td></tr>\n",
       "</tbody>\n",
       "</table>\n"
      ],
      "text/latex": [
       "A data.table: 5 × 2\n",
       "\\begin{tabular}{ll}\n",
       " event\\_ID & n\\\\\n",
       " <chr> & <int>\\\\\n",
       "\\hline\n",
       "\t DLPFC\\_Bennett\\_pQTL\\_ENSG00000149927                           &  2\\\\\n",
       "\t Exc\\_mega\\_eQTL\\_ENSG00000149927                                & 46\\\\\n",
       "\t Inh\\_Kellis\\_eQTL\\_ENSG00000149927                              &  7\\\\\n",
       "\t Metabrain\\_Cerebellum\\_chr16\\_28360000\\_34000000\\_ENSG00000149927 & 38\\\\\n",
       "\t Metabrain\\_Cortex\\_chr16\\_28360000\\_34000000\\_ENSG00000149927     & 27\\\\\n",
       "\\end{tabular}\n"
      ],
      "text/markdown": [
       "\n",
       "A data.table: 5 × 2\n",
       "\n",
       "| event_ID &lt;chr&gt; | n &lt;int&gt; |\n",
       "|---|---|\n",
       "| DLPFC_Bennett_pQTL_ENSG00000149927                           |  2 |\n",
       "| Exc_mega_eQTL_ENSG00000149927                                | 46 |\n",
       "| Inh_Kellis_eQTL_ENSG00000149927                              |  7 |\n",
       "| Metabrain_Cerebellum_chr16_28360000_34000000_ENSG00000149927 | 38 |\n",
       "| Metabrain_Cortex_chr16_28360000_34000000_ENSG00000149927     | 27 |\n",
       "\n"
      ],
      "text/plain": [
       "  event_ID                                                     n \n",
       "1 DLPFC_Bennett_pQTL_ENSG00000149927                            2\n",
       "2 Exc_mega_eQTL_ENSG00000149927                                46\n",
       "3 Inh_Kellis_eQTL_ENSG00000149927                               7\n",
       "4 Metabrain_Cerebellum_chr16_28360000_34000000_ENSG00000149927 38\n",
       "5 Metabrain_Cortex_chr16_28360000_34000000_ENSG00000149927     27"
      ]
     },
     "metadata": {},
     "output_type": "display_data"
    }
   ],
   "source": [
    "combined_data |> filter(gene_ID == \"ENSG00000149927\") |> count(event_ID) #DOC2A\n"
   ]
  },
  {
   "cell_type": "code",
   "execution_count": 12,
   "id": "1f873a21-9dcd-4a7a-a44d-aacb5dfc29a5",
   "metadata": {},
   "outputs": [
    {
     "data": {
      "text/html": [
       "<table class=\"dataframe\">\n",
       "<caption>A data.table: 11 × 2</caption>\n",
       "<thead>\n",
       "\t<tr><th scope=col>event_ID</th><th scope=col>n</th></tr>\n",
       "\t<tr><th scope=col>&lt;chr&gt;</th><th scope=col>&lt;int&gt;</th></tr>\n",
       "</thead>\n",
       "<tbody>\n",
       "\t<tr><td>AC_DeJager_eQTL_ENSG00000102882                         </td><td>52</td></tr>\n",
       "\t<tr><td>BM_10_MSBB_eQTL_ENSG00000102882                         </td><td> 2</td></tr>\n",
       "\t<tr><td>BM_22_MSBB_eQTL_ENSG00000102882                         </td><td> 2</td></tr>\n",
       "\t<tr><td>BM_44_MSBB_eQTL_ENSG00000102882                         </td><td> 2</td></tr>\n",
       "\t<tr><td>DLPFC_Bennett_pQTL_ENSG00000102882                      </td><td> 6</td></tr>\n",
       "\t<tr><td>DLPFC_DeJager_eQTL_ENSG00000102882                      </td><td> 3</td></tr>\n",
       "\t<tr><td>Exc_DeJager_eQTL_ENSG00000102882                        </td><td> 5</td></tr>\n",
       "\t<tr><td>Exc_Kellis_eQTL_ENSG00000102882                         </td><td>43</td></tr>\n",
       "\t<tr><td>Exc_mega_eQTL_ENSG00000102882                           </td><td> 5</td></tr>\n",
       "\t<tr><td>Metabrain_Cortex_chr16_28360000_34000000_ENSG00000102882</td><td> 2</td></tr>\n",
       "\t<tr><td>PCC_DeJager_eQTL_ENSG00000102882                        </td><td> 4</td></tr>\n",
       "</tbody>\n",
       "</table>\n"
      ],
      "text/latex": [
       "A data.table: 11 × 2\n",
       "\\begin{tabular}{ll}\n",
       " event\\_ID & n\\\\\n",
       " <chr> & <int>\\\\\n",
       "\\hline\n",
       "\t AC\\_DeJager\\_eQTL\\_ENSG00000102882                          & 52\\\\\n",
       "\t BM\\_10\\_MSBB\\_eQTL\\_ENSG00000102882                          &  2\\\\\n",
       "\t BM\\_22\\_MSBB\\_eQTL\\_ENSG00000102882                          &  2\\\\\n",
       "\t BM\\_44\\_MSBB\\_eQTL\\_ENSG00000102882                          &  2\\\\\n",
       "\t DLPFC\\_Bennett\\_pQTL\\_ENSG00000102882                       &  6\\\\\n",
       "\t DLPFC\\_DeJager\\_eQTL\\_ENSG00000102882                       &  3\\\\\n",
       "\t Exc\\_DeJager\\_eQTL\\_ENSG00000102882                         &  5\\\\\n",
       "\t Exc\\_Kellis\\_eQTL\\_ENSG00000102882                          & 43\\\\\n",
       "\t Exc\\_mega\\_eQTL\\_ENSG00000102882                            &  5\\\\\n",
       "\t Metabrain\\_Cortex\\_chr16\\_28360000\\_34000000\\_ENSG00000102882 &  2\\\\\n",
       "\t PCC\\_DeJager\\_eQTL\\_ENSG00000102882                         &  4\\\\\n",
       "\\end{tabular}\n"
      ],
      "text/markdown": [
       "\n",
       "A data.table: 11 × 2\n",
       "\n",
       "| event_ID &lt;chr&gt; | n &lt;int&gt; |\n",
       "|---|---|\n",
       "| AC_DeJager_eQTL_ENSG00000102882                          | 52 |\n",
       "| BM_10_MSBB_eQTL_ENSG00000102882                          |  2 |\n",
       "| BM_22_MSBB_eQTL_ENSG00000102882                          |  2 |\n",
       "| BM_44_MSBB_eQTL_ENSG00000102882                          |  2 |\n",
       "| DLPFC_Bennett_pQTL_ENSG00000102882                       |  6 |\n",
       "| DLPFC_DeJager_eQTL_ENSG00000102882                       |  3 |\n",
       "| Exc_DeJager_eQTL_ENSG00000102882                         |  5 |\n",
       "| Exc_Kellis_eQTL_ENSG00000102882                          | 43 |\n",
       "| Exc_mega_eQTL_ENSG00000102882                            |  5 |\n",
       "| Metabrain_Cortex_chr16_28360000_34000000_ENSG00000102882 |  2 |\n",
       "| PCC_DeJager_eQTL_ENSG00000102882                         |  4 |\n",
       "\n"
      ],
      "text/plain": [
       "   event_ID                                                 n \n",
       "1  AC_DeJager_eQTL_ENSG00000102882                          52\n",
       "2  BM_10_MSBB_eQTL_ENSG00000102882                           2\n",
       "3  BM_22_MSBB_eQTL_ENSG00000102882                           2\n",
       "4  BM_44_MSBB_eQTL_ENSG00000102882                           2\n",
       "5  DLPFC_Bennett_pQTL_ENSG00000102882                        6\n",
       "6  DLPFC_DeJager_eQTL_ENSG00000102882                        3\n",
       "7  Exc_DeJager_eQTL_ENSG00000102882                          5\n",
       "8  Exc_Kellis_eQTL_ENSG00000102882                          43\n",
       "9  Exc_mega_eQTL_ENSG00000102882                             5\n",
       "10 Metabrain_Cortex_chr16_28360000_34000000_ENSG00000102882  2\n",
       "11 PCC_DeJager_eQTL_ENSG00000102882                          4"
      ]
     },
     "metadata": {},
     "output_type": "display_data"
    }
   ],
   "source": [
    "combined_data |> filter(gene_ID == \"ENSG00000102882\") |> count(event_ID) #MAPK3"
   ]
  },
  {
   "cell_type": "code",
   "execution_count": 24,
   "id": "61606a5b-a398-4842-9d95-ee7892ddce5e",
   "metadata": {},
   "outputs": [],
   "source": [
    "MAPK3_xQTL = readRDS(\"data/analysis_result/single_context/ROSMAP_eQTL/fine_mapping/ROSMAP_DeJager_eQTL.ENSG00000102882.univariate_bvsr.rds\")"
   ]
  },
  {
   "cell_type": "code",
   "execution_count": 25,
   "id": "637df84a-96ce-4145-b5d9-28df8defeea6",
   "metadata": {},
   "outputs": [
    {
     "name": "stdout",
     "output_type": "stream",
     "text": [
      "List of 10\n",
      " $ variant_names         : chr [1:13737] \"chr16:28361437:AT:A\" \"chr16:28361458:C:T\" \"chr16:28361491:A:G\" \"chr16:28361586:A:G\" ...\n",
      " $ analysis_script       : chr \"options(warn=1)\\nlibrary(pecotmr)\\n# extract subset of samples\\nkeep_samples = NULL\\nif (FALSE) {\\n  keep_sampl\"| __truncated__\n",
      " $ other_quantities      :List of 1\n",
      "  ..$ dropped_samples:List of 3\n",
      "  .. ..$ X    : NULL\n",
      "  .. ..$ y    : NULL\n",
      "  .. ..$ covar: NULL\n",
      " $ sumstats              :List of 2\n",
      "  ..$ betahat  : num [1:13737] 0.0697 0.0279 -0.0787 -0.0366 -0.0724 ...\n",
      "  ..$ sebetahat: num [1:13737] 0.0557 0.0464 0.0748 0.1061 0.1008 ...\n",
      " $ sample_names          : chr [1:419] \"MAP15387421\" \"MAP46246604\" \"MAP50104134\" \"MAP50104846\" ...\n",
      " $ top_loci              :'data.frame':\t5 obs. of  8 variables:\n",
      "  ..$ variant_id      : chr [1:5] \"chr16:29469491:G:A\" \"chr16:30123335:T:C\" \"chr16:30130664:T:C\" \"chr16:30130700:G:C\" ...\n",
      "  ..$ betahat         : num [1:5] -0.376 0.308 0.306 0.305 0.305\n",
      "  ..$ sebetahat       : num [1:5] 0.0532 0.0241 0.0238 0.0238 0.0238\n",
      "  ..$ maf             : num [1:5] 0.0695 0.4189 0.4224 0.4236 0.4236\n",
      "  ..$ pip             : num [1:5] 0.976 0.225 0.331 0.223 0.223\n",
      "  ..$ cs_coverage_0.95: num [1:5] 2 1 1 1 1\n",
      "  ..$ cs_coverage_0.7 : num [1:5] 2 1 1 1 0\n",
      "  ..$ cs_coverage_0.5 : num [1:5] 2 1 1 0 0\n",
      " $ susie_result_trimmed  :List of 11\n",
      "  ..$ pip                   : num [1:13737] 0.000436 0.000402 0.000415 0.000424 0.000428 ...\n",
      "  ..$ sets                  :List of 5\n",
      "  .. ..$ cs                :List of 2\n",
      "  .. .. ..$ L2: int 3671\n",
      "  .. .. ..$ L1: int [1:4] 5175 5208 5209 5212\n",
      "  .. ..$ purity            :'data.frame':\t2 obs. of  3 variables:\n",
      "  .. .. ..$ min.abs.corr   : num [1:2] 1 0.99\n",
      "  .. .. ..$ mean.abs.corr  : num [1:2] 1 0.995\n",
      "  .. .. ..$ median.abs.corr: num [1:2] 1 0.995\n",
      "  .. ..$ cs_index          : int [1:2] 2 1\n",
      "  .. ..$ coverage          : num [1:2] 0.976 1\n",
      "  .. ..$ requested_coverage: num 0.95\n",
      "  ..$ cs_corr               : num [1:2, 1:2] 1 -0.182 -0.182 1\n",
      "  .. ..- attr(*, \"dimnames\")=List of 2\n",
      "  .. .. ..$ : chr [1:2] \"L2\" \"L1\"\n",
      "  .. .. ..$ : chr [1:2] \"L2\" \"L1\"\n",
      "  ..$ sets_secondary        :List of 2\n",
      "  .. ..$ coverage_0.7:List of 3\n",
      "  .. .. ..$ sets   :List of 5\n",
      "  .. .. .. ..$ cs                :List of 2\n",
      "  .. .. .. .. ..$ L2: int 3671\n",
      "  .. .. .. .. ..$ L1: int [1:3] 5175 5208 5209\n",
      "  .. .. .. ..$ purity            :'data.frame':\t2 obs. of  3 variables:\n",
      "  .. .. .. .. ..$ min.abs.corr   : num [1:2] 1 0.99\n",
      "  .. .. .. .. ..$ mean.abs.corr  : num [1:2] 1 0.994\n",
      "  .. .. .. .. ..$ median.abs.corr: num [1:2] 1 0.993\n",
      "  .. .. .. ..$ cs_index          : int [1:2] 2 1\n",
      "  .. .. .. ..$ coverage          : num [1:2] 0.976 0.777\n",
      "  .. .. .. ..$ requested_coverage: num 0.7\n",
      "  .. .. ..$ pip    : Named num [1:13737] 0.000436 0.000402 0.000415 0.000424 0.000428 ...\n",
      "  .. .. .. ..- attr(*, \"names\")= chr [1:13737] \"chr16:28361437:AT:A\" \"chr16:28361458:C:T\" \"chr16:28361491:A:G\" \"chr16:28361586:A:G\" ...\n",
      "  .. .. ..$ cs_corr: num [1:2, 1:2] 1 -0.182 -0.182 1\n",
      "  .. .. .. ..- attr(*, \"dimnames\")=List of 2\n",
      "  .. .. .. .. ..$ : chr [1:2] \"L2\" \"L1\"\n",
      "  .. .. .. .. ..$ : chr [1:2] \"L2\" \"L1\"\n",
      "  .. ..$ coverage_0.5:List of 3\n",
      "  .. .. ..$ sets   :List of 5\n",
      "  .. .. .. ..$ cs                :List of 2\n",
      "  .. .. .. .. ..$ L2: int 3671\n",
      "  .. .. .. .. ..$ L1: int [1:2] 5175 5208\n",
      "  .. .. .. ..$ purity            :'data.frame':\t2 obs. of  3 variables:\n",
      "  .. .. .. .. ..$ min.abs.corr   : num [1:2] 1 0.993\n",
      "  .. .. .. .. ..$ mean.abs.corr  : num [1:2] 1 0.993\n",
      "  .. .. .. .. ..$ median.abs.corr: num [1:2] 1 0.993\n",
      "  .. .. .. ..$ cs_index          : int [1:2] 2 1\n",
      "  .. .. .. ..$ coverage          : num [1:2] 0.976 0.555\n",
      "  .. .. .. ..$ requested_coverage: num 0.5\n",
      "  .. .. ..$ pip    : Named num [1:13737] 0.000436 0.000402 0.000415 0.000424 0.000428 ...\n",
      "  .. .. .. ..- attr(*, \"names\")= chr [1:13737] \"chr16:28361437:AT:A\" \"chr16:28361458:C:T\" \"chr16:28361491:A:G\" \"chr16:28361586:A:G\" ...\n",
      "  .. .. ..$ cs_corr: num [1:2, 1:2] 1 -0.182 -0.182 1\n",
      "  .. .. .. ..- attr(*, \"dimnames\")=List of 2\n",
      "  .. .. .. .. ..$ : chr [1:2] \"L2\" \"L1\"\n",
      "  .. .. .. .. ..$ : chr [1:2] \"L2\" \"L1\"\n",
      "  ..$ alpha                 : num [1:8, 1:13737] 1.63e-33 4.56e-08 7.27e-05 7.27e-05 7.26e-05 ...\n",
      "  .. ..- attr(*, \"dimnames\")=List of 2\n",
      "  .. .. ..$ : NULL\n",
      "  .. .. ..$ : chr [1:13737] \"chr16:28361437:AT:A\" \"chr16:28361458:C:T\" \"chr16:28361491:A:G\" \"chr16:28361586:A:G\" ...\n",
      "  ..$ lbf_variable          : num [1:8, 1:13737] -1.344925 -1.272787 -0.000806 -0.001331 -0.001624 ...\n",
      "  .. ..- attr(*, \"dimnames\")=List of 2\n",
      "  .. .. ..$ : NULL\n",
      "  .. .. ..$ : chr [1:13737] \"chr16:28361437:AT:A\" \"chr16:28361458:C:T\" \"chr16:28361491:A:G\" \"chr16:28361586:A:G\" ...\n",
      "  ..$ mu                    : num [1:8, 1:13737] 0.02321 0.01521 0.00223 0.00241 0.0025 ...\n",
      "  .. ..- attr(*, \"dimnames\")=List of 2\n",
      "  .. .. ..$ : NULL\n",
      "  .. .. ..$ : chr [1:13737] \"chr16:28361437:AT:A\" \"chr16:28361458:C:T\" \"chr16:28361491:A:G\" \"chr16:28361586:A:G\" ...\n",
      "  ..$ mu2                   : num [1:8, 1:13737] 7.69e-04 4.57e-04 3.80e-05 4.14e-05 4.32e-05 ...\n",
      "  .. ..- attr(*, \"dimnames\")=List of 2\n",
      "  .. .. ..$ : NULL\n",
      "  .. .. ..$ : chr [1:13737] \"chr16:28361437:AT:A\" \"chr16:28361458:C:T\" \"chr16:28361491:A:G\" \"chr16:28361586:A:G\" ...\n",
      "  ..$ V                     : num [1:8] 3.50e-02 8.02e-03 3.84e-05 4.20e-05 4.39e-05 ...\n",
      "  ..$ niter                 : int 5\n",
      "  ..$ X_column_scale_factors: Named num [1:13737] 0.336 0.404 0.25 0.177 0.186 ...\n",
      "  .. ..- attr(*, \"names\")= chr [1:13737] \"chr16:28361437:AT:A\" \"chr16:28361458:C:T\" \"chr16:28361491:A:G\" \"chr16:28361586:A:G\" ...\n",
      "  ..- attr(*, \"class\")= chr \"susie\"\n",
      " $ total_time_elapsed    : 'proc_time' Named num [1:5] 130.872 115.399 158.354 0.001 0\n",
      "  ..- attr(*, \"names\")= chr [1:5] \"user.self\" \"sys.self\" \"elapsed\" \"user.child\" ...\n",
      " $ region_info           :List of 3\n",
      "  ..$ region_coord:'data.frame':\t1 obs. of  3 variables:\n",
      "  .. ..$ chrom: chr \"16\"\n",
      "  .. ..$ start: int 30123505\n",
      "  .. ..$ end  : int 30123506\n",
      "  ..$ grange      :'data.frame':\t1 obs. of  3 variables:\n",
      "  .. ..$ chrom: chr \"16\"\n",
      "  .. ..$ start: int 28360000\n",
      "  .. ..$ end  : int 34000000\n",
      "  ..$ region_name : chr \"ENSG00000102882\"\n",
      " $ preset_variants_result:List of 10\n",
      "  ..$ susie_fitted        : NULL\n",
      "  ..$ other_quantities    :List of 1\n",
      "  .. ..$ dropped_samples:List of 3\n",
      "  .. .. ..$ X    : NULL\n",
      "  .. .. ..$ y    : NULL\n",
      "  .. .. ..$ covar: NULL\n",
      "  ..$ variant_names       : chr [1:6461] \"chr16:28361437:AT:A\" \"chr16:28361491:A:G\" \"chr16:28361653:A:G\" \"chr16:28361673:G:A\" ...\n",
      "  ..$ sample_names        : chr [1:419] \"MAP15387421\" \"MAP46246604\" \"MAP50104134\" \"MAP50104846\" ...\n",
      "  ..$ top_loci            :'data.frame':\t9 obs. of  8 variables:\n",
      "  .. ..$ variant_id      : chr [1:9] \"chr16:30100583:A:C\" \"chr16:30108204:C:A\" \"chr16:30123335:T:C\" \"chr16:30130664:T:C\" ...\n",
      "  .. ..$ betahat         : num [1:9] 0.308 0.284 0.308 0.306 0.305 ...\n",
      "  .. ..$ sebetahat       : num [1:9] 0.0456 0.0417 0.0241 0.0238 0.0238 ...\n",
      "  .. ..$ maf             : num [1:9] 0.1 0.119 0.419 0.422 0.424 ...\n",
      "  .. ..$ pip             : num [1:9] 0.232 0.408 0.207 0.331 0.232 ...\n",
      "  .. ..$ cs_coverage_0.95: num [1:9] 0 0 1 1 1 1 0 0 0\n",
      "  .. ..$ cs_coverage_0.7 : num [1:9] 2 2 0 1 1 1 2 0 0\n",
      "  .. ..$ cs_coverage_0.5 : num [1:9] 2 2 0 1 1 0 0 0 0\n",
      "  ..$ susie_result_trimmed:List of 11\n",
      "  .. ..$ pip                   : num [1:6461] 0.000612 0.000568 0.000589 0.000555 0.000555 ...\n",
      "  .. ..$ sets                  :List of 5\n",
      "  .. .. ..$ cs                :List of 1\n",
      "  .. .. .. ..$ L1: int [1:4] 2668 2679 2680 2682\n",
      "  .. .. ..$ purity            :'data.frame':\t1 obs. of  3 variables:\n",
      "  .. .. .. ..$ min.abs.corr   : num 0.99\n",
      "  .. .. .. ..$ mean.abs.corr  : num 0.995\n",
      "  .. .. .. ..$ median.abs.corr: num 0.995\n",
      "  .. .. ..$ cs_index          : int 1\n",
      "  .. .. ..$ coverage          : num 1\n",
      "  .. .. ..$ requested_coverage: num 0.95\n",
      "  .. ..$ cs_corr               : logi NA\n",
      "  .. ..$ sets_secondary        :List of 2\n",
      "  .. .. ..$ coverage_0.7:List of 3\n",
      "  .. .. .. ..$ sets   :List of 5\n",
      "  .. .. .. .. ..$ cs                :List of 2\n",
      "  .. .. .. .. .. ..$ L1: int [1:3] 2679 2680 2682\n",
      "  .. .. .. .. .. ..$ L2: int [1:3] 2641 2651 2775\n",
      "  .. .. .. .. ..$ purity            :'data.frame':\t2 obs. of  3 variables:\n",
      "  .. .. .. .. .. ..$ min.abs.corr   : num [1:2] 0.998 0.76\n",
      "  .. .. .. .. .. ..$ mean.abs.corr  : num [1:2] 0.998 0.813\n",
      "  .. .. .. .. .. ..$ median.abs.corr: num [1:2] 0.998 0.775\n",
      "  .. .. .. .. ..$ cs_index          : int [1:2] 1 2\n",
      "  .. .. .. .. ..$ coverage          : num [1:2] 0.793 0.793\n",
      "  .. .. .. .. ..$ requested_coverage: num 0.7\n",
      "  .. .. .. ..$ pip    : Named num [1:6461] 0.000612 0.000568 0.000589 0.000555 0.000555 ...\n",
      "  .. .. .. .. ..- attr(*, \"names\")= chr [1:6461] \"chr16:28361437:AT:A\" \"chr16:28361491:A:G\" \"chr16:28361653:A:G\" \"chr16:28361673:G:A\" ...\n",
      "  .. .. .. ..$ cs_corr: num [1:2, 1:2] 1 0.238 0.238 1\n",
      "  .. .. .. .. ..- attr(*, \"dimnames\")=List of 2\n",
      "  .. .. .. .. .. ..$ : chr [1:2] \"L1\" \"L2\"\n",
      "  .. .. .. .. .. ..$ : chr [1:2] \"L1\" \"L2\"\n",
      "  .. .. ..$ coverage_0.5:List of 3\n",
      "  .. .. .. ..$ sets   :List of 5\n",
      "  .. .. .. .. ..$ cs                :List of 2\n",
      "  .. .. .. .. .. ..$ L1: int [1:2] 2679 2680\n",
      "  .. .. .. .. .. ..$ L2: int [1:2] 2641 2651\n",
      "  .. .. .. .. ..$ purity            :'data.frame':\t2 obs. of  3 variables:\n",
      "  .. .. .. .. .. ..$ min.abs.corr   : num [1:2] 0.998 0.904\n",
      "  .. .. .. .. .. ..$ mean.abs.corr  : num [1:2] 0.998 0.904\n",
      "  .. .. .. .. .. ..$ median.abs.corr: num [1:2] 0.998 0.904\n",
      "  .. .. .. .. ..$ cs_index          : int [1:2] 1 2\n",
      "  .. .. .. .. ..$ coverage          : num [1:2] 0.562 0.64\n",
      "  .. .. .. .. ..$ requested_coverage: num 0.5\n",
      "  .. .. .. ..$ pip    : Named num [1:6461] 0.000612 0.000568 0.000589 0.000555 0.000555 ...\n",
      "  .. .. .. .. ..- attr(*, \"names\")= chr [1:6461] \"chr16:28361437:AT:A\" \"chr16:28361491:A:G\" \"chr16:28361653:A:G\" \"chr16:28361673:G:A\" ...\n",
      "  .. .. .. ..$ cs_corr: num [1:2, 1:2] 1 0.238 0.238 1\n",
      "  .. .. .. .. ..- attr(*, \"dimnames\")=List of 2\n",
      "  .. .. .. .. .. ..$ : chr [1:2] \"L1\" \"L2\"\n",
      "  .. .. .. .. .. ..$ : chr [1:2] \"L1\" \"L2\"\n",
      "  .. ..$ alpha                 : num [1:6, 1:6461] 1.21e-32 5.13e-06 1.52e-04 1.52e-04 1.52e-04 ...\n",
      "  .. .. ..- attr(*, \"dimnames\")=List of 2\n",
      "  .. .. .. ..$ : NULL\n",
      "  .. .. .. ..$ : chr [1:6461] \"chr16:28361437:AT:A\" \"chr16:28361491:A:G\" \"chr16:28361653:A:G\" \"chr16:28361673:G:A\" ...\n",
      "  .. ..$ lbf_variable          : num [1:6, 1:6461] -1.42 -1.0558 -0.0177 -0.0178 -0.0174 ...\n",
      "  .. .. ..- attr(*, \"dimnames\")=List of 2\n",
      "  .. .. .. ..$ : NULL\n",
      "  .. .. .. ..$ : chr [1:6461] \"chr16:28361437:AT:A\" \"chr16:28361491:A:G\" \"chr16:28361653:A:G\" \"chr16:28361673:G:A\" ...\n",
      "  .. ..$ mu                    : num [1:6, 1:6461] 0.02264 0.01493 0.00331 0.00332 0.00328 ...\n",
      "  .. .. ..- attr(*, \"dimnames\")=List of 2\n",
      "  .. .. .. ..$ : NULL\n",
      "  .. .. .. ..$ : chr [1:6461] \"chr16:28361437:AT:A\" \"chr16:28361491:A:G\" \"chr16:28361653:A:G\" \"chr16:28361673:G:A\" ...\n",
      "  .. ..$ mu2                   : num [1:6, 1:6461] 7.51e-04 4.52e-04 6.31e-05 6.33e-05 6.25e-05 ...\n",
      "  .. .. ..- attr(*, \"dimnames\")=List of 2\n",
      "  .. .. .. ..$ : NULL\n",
      "  .. .. .. ..$ : chr [1:6461] \"chr16:28361437:AT:A\" \"chr16:28361491:A:G\" \"chr16:28361653:A:G\" \"chr16:28361673:G:A\" ...\n",
      "  .. ..$ V                     : num [1:6] 3.51e-02 5.01e-03 6.66e-05 6.69e-05 6.59e-05 ...\n",
      "  .. ..$ niter                 : int 6\n",
      "  .. ..$ X_column_scale_factors: Named num [1:6461] 0.336 0.25 0.333 0.309 0.31 ...\n",
      "  .. .. ..- attr(*, \"names\")= chr [1:6461] \"chr16:28361437:AT:A\" \"chr16:28361491:A:G\" \"chr16:28361653:A:G\" \"chr16:28361673:G:A\" ...\n",
      "  .. ..- attr(*, \"class\")= chr \"susie\"\n",
      "  ..$ analysis_script     : chr \"options(warn=1)\\nlibrary(pecotmr)\\n# extract subset of samples\\nkeep_samples = NULL\\nif (FALSE) {\\n  keep_sampl\"| __truncated__\n",
      "  ..$ sumstats            :List of 2\n",
      "  .. ..$ betahat  : num [1:13737] 0.0697 0.0279 -0.0787 -0.0366 -0.0724 ...\n",
      "  .. ..$ sebetahat: num [1:13737] 0.0557 0.0464 0.0748 0.1061 0.1008 ...\n",
      "  ..$ total_time_elapsed  : 'proc_time' Named num [1:5] 130.872 115.399 158.354 0.001 0\n",
      "  .. ..- attr(*, \"names\")= chr [1:5] \"user.self\" \"sys.self\" \"elapsed\" \"user.child\" ...\n",
      "  ..$ region_info         :List of 3\n",
      "  .. ..$ region_coord:'data.frame':\t1 obs. of  3 variables:\n",
      "  .. .. ..$ chrom: chr \"16\"\n",
      "  .. .. ..$ start: int 30123505\n",
      "  .. .. ..$ end  : int 30123506\n",
      "  .. ..$ grange      :'data.frame':\t1 obs. of  3 variables:\n",
      "  .. .. ..$ chrom: chr \"16\"\n",
      "  .. .. ..$ start: int 28360000\n",
      "  .. .. ..$ end  : int 34000000\n",
      "  .. ..$ region_name : chr \"ENSG00000102882\"\n"
     ]
    }
   ],
   "source": [
    "str(MAPK3_xQTL[[1]]$Exc_DeJager_eQTL_ENSG00000102882)"
   ]
  },
  {
   "cell_type": "markdown",
   "id": "df123482-4388-4583-b8e4-109c6c1eee58",
   "metadata": {},
   "source": [
    "## ColocBoost"
   ]
  },
  {
   "cell_type": "code",
   "execution_count": 36,
   "id": "04b8549c-ad6b-40ff-b5a3-b173a07a6f63",
   "metadata": {},
   "outputs": [],
   "source": [
    "ucos_summary = fread(\"project/image_QTL/cb_varisnts_explained_by_xQTL/ucos_summary.tsv\")\n",
    "cos_summary = fread(\"project/image_QTL/cb_varisnts_explained_by_xQTL/cos_summary.tsv\")\n",
    "ambiguous_cos_summary = fread(\"project/image_QTL/cb_varisnts_explained_by_xQTL/ambiguous_cos_summary.tsv\")"
   ]
  },
  {
   "cell_type": "code",
   "execution_count": 37,
   "id": "d897747a-9eda-4b38-8e07-cd96409a3765",
   "metadata": {},
   "outputs": [],
   "source": [
    "# Function to extract a loci table from ucos_summary dataframe\n",
    "extract_loci_table <- function(ucos_df) {\n",
    "  # Check if required columns exist\n",
    "  required_cols <- c(\"outcomes\", \"ucos_id\", \"purity\", \"top_variable\", \n",
    "                    \"top_variable_vpa\", \"n_variables\", \"ucos_index\", \n",
    "                    \"ucos_variables\", \"ucos_variables_vpa\", \"region_name\")\n",
    "  \n",
    "  missing_cols <- setdiff(required_cols, colnames(ucos_df))\n",
    "  if (length(missing_cols) > 0) {\n",
    "    stop(\"Missing required columns: \", paste(missing_cols, collapse = \", \"))\n",
    "  }\n",
    "  \n",
    "  # Create a list to store the results\n",
    "  result_list <- list()\n",
    "  \n",
    "  # Process each row in the dataframe\n",
    "  for (i in 1:nrow(ucos_df)) {\n",
    "    # Get the current row\n",
    "    current_row <- ucos_df[i, ]\n",
    "    \n",
    "    # Split the ucos_index, ucos_variables, and ucos_variables_vpa by semicolon\n",
    "    ucos_index_split <- strsplit(as.character(current_row$ucos_index), \";\")[[1]]\n",
    "    ucos_variables_split <- strsplit(as.character(current_row$ucos_variables), \";\")[[1]]\n",
    "    ucos_variables_vpa_split <- strsplit(as.character(current_row$ucos_variables_vpa), \";\")[[1]]\n",
    "    \n",
    "    # Check if the splits have the same length\n",
    "    if (length(ucos_index_split) != length(ucos_variables_split) || \n",
    "        length(ucos_index_split) != length(ucos_variables_vpa_split)) {\n",
    "      warning(\"Row \", i, \" has inconsistent number of elements in split columns\")\n",
    "      # Adjust to shortest length to avoid errors\n",
    "      min_length <- min(length(ucos_index_split), length(ucos_variables_split), length(ucos_variables_vpa_split))\n",
    "      ucos_index_split <- ucos_index_split[1:min_length]\n",
    "      ucos_variables_split <- ucos_variables_split[1:min_length]\n",
    "      ucos_variables_vpa_split <- ucos_variables_vpa_split[1:min_length]\n",
    "    }\n",
    "    \n",
    "    # Create a dataframe for the current row's expanded data\n",
    "    expanded_df <- data.frame(\n",
    "      outcomes = rep(current_row$outcomes, length(ucos_index_split)),\n",
    "      ucos_id = rep(current_row$ucos_id, length(ucos_index_split)),\n",
    "      purity = rep(current_row$purity, length(ucos_index_split)),\n",
    "      top_variable = rep(current_row$top_variable, length(ucos_index_split)),\n",
    "      top_variable_vpa = rep(current_row$top_variable_vpa, length(ucos_index_split)),\n",
    "      n_variables = rep(current_row$n_variables, length(ucos_index_split)),\n",
    "      ucos_index = ucos_index_split,\n",
    "      ucos_variables = ucos_variables_split,\n",
    "      ucos_variables_vpa = ucos_variables_vpa_split,\n",
    "      region_name = rep(current_row$region_name, length(ucos_index_split))\n",
    "    )\n",
    "    \n",
    "    # Add to the result list\n",
    "    result_list[[i]] <- expanded_df\n",
    "  }\n",
    "  \n",
    "  # Combine all expanded dataframes\n",
    "  final_df <- do.call(rbind, result_list)\n",
    "  \n",
    "  # Clean the data: strip whitespace\n",
    "  final_df[] <- lapply(final_df, function(x) if(is.character(x)) trimws(x) else x)\n",
    "  \n",
    "  # Reset row names\n",
    "  rownames(final_df) <- NULL\n",
    "  \n",
    "  return(final_df)\n",
    "}"
   ]
  },
  {
   "cell_type": "code",
   "execution_count": 38,
   "id": "90973daa-2773-4107-9db5-236ea628ed4e",
   "metadata": {},
   "outputs": [],
   "source": [
    "ucos_summary_top_loci = extract_loci_table(ucos_summary)"
   ]
  },
  {
   "cell_type": "code",
   "execution_count": 34,
   "id": "b50c9431-ca86-452b-938d-43658b5fa47f",
   "metadata": {},
   "outputs": [
    {
     "data": {
      "text/html": [
       "12883"
      ],
      "text/latex": [
       "12883"
      ],
      "text/markdown": [
       "12883"
      ],
      "text/plain": [
       "[1] 12883"
      ]
     },
     "metadata": {},
     "output_type": "display_data"
    }
   ],
   "source": [
    "image_ucos_variant_id = ucos_summary_top_loci |> count(ucos_variables)\n",
    "nrow(image_ucos_variant_id)"
   ]
  },
  {
   "cell_type": "code",
   "execution_count": 58,
   "id": "7d7fe0cb-2b5c-44ae-85dc-cfba0a131c66",
   "metadata": {
    "scrolled": true
   },
   "outputs": [
    {
     "data": {
      "text/html": [
       "<table class=\"dataframe\">\n",
       "<caption>A tibble: 7 × 2</caption>\n",
       "<thead>\n",
       "\t<tr><th scope=col>outcomes</th><th scope=col>ucos_variant_count</th></tr>\n",
       "\t<tr><th scope=col>&lt;chr&gt;</th><th scope=col>&lt;int&gt;</th></tr>\n",
       "</thead>\n",
       "<tbody>\n",
       "\t<tr><td>image_AD1   </td><td>1255</td></tr>\n",
       "\t<tr><td>image_AD2   </td><td> 799</td></tr>\n",
       "\t<tr><td>image_Aging1</td><td>2219</td></tr>\n",
       "\t<tr><td>image_Aging2</td><td>1396</td></tr>\n",
       "\t<tr><td>image_Aging3</td><td>2987</td></tr>\n",
       "\t<tr><td>image_Aging4</td><td>1559</td></tr>\n",
       "\t<tr><td>image_Aging5</td><td>2751</td></tr>\n",
       "</tbody>\n",
       "</table>\n"
      ],
      "text/latex": [
       "A tibble: 7 × 2\n",
       "\\begin{tabular}{ll}\n",
       " outcomes & ucos\\_variant\\_count\\\\\n",
       " <chr> & <int>\\\\\n",
       "\\hline\n",
       "\t image\\_AD1    & 1255\\\\\n",
       "\t image\\_AD2    &  799\\\\\n",
       "\t image\\_Aging1 & 2219\\\\\n",
       "\t image\\_Aging2 & 1396\\\\\n",
       "\t image\\_Aging3 & 2987\\\\\n",
       "\t image\\_Aging4 & 1559\\\\\n",
       "\t image\\_Aging5 & 2751\\\\\n",
       "\\end{tabular}\n"
      ],
      "text/markdown": [
       "\n",
       "A tibble: 7 × 2\n",
       "\n",
       "| outcomes &lt;chr&gt; | ucos_variant_count &lt;int&gt; |\n",
       "|---|---|\n",
       "| image_AD1    | 1255 |\n",
       "| image_AD2    |  799 |\n",
       "| image_Aging1 | 2219 |\n",
       "| image_Aging2 | 1396 |\n",
       "| image_Aging3 | 2987 |\n",
       "| image_Aging4 | 1559 |\n",
       "| image_Aging5 | 2751 |\n",
       "\n"
      ],
      "text/plain": [
       "  outcomes     ucos_variant_count\n",
       "1 image_AD1    1255              \n",
       "2 image_AD2     799              \n",
       "3 image_Aging1 2219              \n",
       "4 image_Aging2 1396              \n",
       "5 image_Aging3 2987              \n",
       "6 image_Aging4 1559              \n",
       "7 image_Aging5 2751              "
      ]
     },
     "metadata": {},
     "output_type": "display_data"
    }
   ],
   "source": [
    "ucos_var_by_outcomes = ucos_summary_top_loci |> group_by(outcomes) |> summarize(ucos_variant_count = n())\n",
    "ucos_var_by_outcomes"
   ]
  },
  {
   "cell_type": "code",
   "execution_count": null,
   "id": "dbb4d7f7-ef47-4fa0-accb-aee605128521",
   "metadata": {},
   "outputs": [],
   "source": []
  },
  {
   "cell_type": "code",
   "execution_count": 43,
   "id": "91e76e0b-cb27-4ede-9ebf-eec1b523578d",
   "metadata": {},
   "outputs": [],
   "source": [
    "overlapped_ucos_xqtl = ucos_summary_top_loci |> inner_join(combined_data, by = c(\"ucos_variables\" = \"variant_ID\"))"
   ]
  },
  {
   "cell_type": "code",
   "execution_count": 56,
   "id": "3f316b21-a752-48ed-8e8b-758486c101ea",
   "metadata": {},
   "outputs": [
    {
     "data": {
      "text/html": [
       "8096"
      ],
      "text/latex": [
       "8096"
      ],
      "text/markdown": [
       "8096"
      ],
      "text/plain": [
       "[1] 8096"
      ]
     },
     "metadata": {},
     "output_type": "display_data"
    }
   ],
   "source": [
    "overlapped_ucos_xqtl_variant_id = overlapped_ucos_xqtl |> count(ucos_variables)\n",
    "nrow(overlapped_ucos_xqtl_variant_id)"
   ]
  },
  {
   "cell_type": "code",
   "execution_count": 57,
   "id": "722a89cd-230b-4255-aa3a-332f764609b3",
   "metadata": {},
   "outputs": [
    {
     "data": {
      "text/html": [
       "<table class=\"dataframe\">\n",
       "<caption>A tibble: 7 × 2</caption>\n",
       "<thead>\n",
       "\t<tr><th scope=col>outcomes</th><th scope=col>ucos_variant_in_xqtl_count</th></tr>\n",
       "\t<tr><th scope=col>&lt;chr&gt;</th><th scope=col>&lt;int&gt;</th></tr>\n",
       "</thead>\n",
       "<tbody>\n",
       "\t<tr><td>image_AD1   </td><td> 562</td></tr>\n",
       "\t<tr><td>image_AD2   </td><td> 353</td></tr>\n",
       "\t<tr><td>image_Aging1</td><td>1068</td></tr>\n",
       "\t<tr><td>image_Aging2</td><td> 799</td></tr>\n",
       "\t<tr><td>image_Aging3</td><td>2645</td></tr>\n",
       "\t<tr><td>image_Aging4</td><td> 823</td></tr>\n",
       "\t<tr><td>image_Aging5</td><td>1846</td></tr>\n",
       "</tbody>\n",
       "</table>\n"
      ],
      "text/latex": [
       "A tibble: 7 × 2\n",
       "\\begin{tabular}{ll}\n",
       " outcomes & ucos\\_variant\\_in\\_xqtl\\_count\\\\\n",
       " <chr> & <int>\\\\\n",
       "\\hline\n",
       "\t image\\_AD1    &  562\\\\\n",
       "\t image\\_AD2    &  353\\\\\n",
       "\t image\\_Aging1 & 1068\\\\\n",
       "\t image\\_Aging2 &  799\\\\\n",
       "\t image\\_Aging3 & 2645\\\\\n",
       "\t image\\_Aging4 &  823\\\\\n",
       "\t image\\_Aging5 & 1846\\\\\n",
       "\\end{tabular}\n"
      ],
      "text/markdown": [
       "\n",
       "A tibble: 7 × 2\n",
       "\n",
       "| outcomes &lt;chr&gt; | ucos_variant_in_xqtl_count &lt;int&gt; |\n",
       "|---|---|\n",
       "| image_AD1    |  562 |\n",
       "| image_AD2    |  353 |\n",
       "| image_Aging1 | 1068 |\n",
       "| image_Aging2 |  799 |\n",
       "| image_Aging3 | 2645 |\n",
       "| image_Aging4 |  823 |\n",
       "| image_Aging5 | 1846 |\n",
       "\n"
      ],
      "text/plain": [
       "  outcomes     ucos_variant_in_xqtl_count\n",
       "1 image_AD1     562                      \n",
       "2 image_AD2     353                      \n",
       "3 image_Aging1 1068                      \n",
       "4 image_Aging2  799                      \n",
       "5 image_Aging3 2645                      \n",
       "6 image_Aging4  823                      \n",
       "7 image_Aging5 1846                      "
      ]
     },
     "metadata": {},
     "output_type": "display_data"
    }
   ],
   "source": [
    "ucos_var_overlapped_by_outcomes = overlapped_ucos_xqtl |> group_by(outcomes) |> summarize(ucos_variant_in_xqtl_count = n_distinct(ucos_variables))\n",
    "ucos_var_overlapped_by_outcomes"
   ]
  },
  {
   "cell_type": "code",
   "execution_count": 63,
   "id": "69a8bd77-79cd-4c00-b365-2ef9f5d9ea59",
   "metadata": {},
   "outputs": [
    {
     "data": {
      "text/html": [
       "<table class=\"dataframe\">\n",
       "<caption>A tibble: 7 × 4</caption>\n",
       "<thead>\n",
       "\t<tr><th scope=col>outcomes</th><th scope=col>ucos_variant_count</th><th scope=col>ucos_variant_in_xqtl_count</th><th scope=col>percent_overlap</th></tr>\n",
       "\t<tr><th scope=col>&lt;chr&gt;</th><th scope=col>&lt;int&gt;</th><th scope=col>&lt;int&gt;</th><th scope=col>&lt;dbl&gt;</th></tr>\n",
       "</thead>\n",
       "<tbody>\n",
       "\t<tr><td>image_AD1   </td><td>1255</td><td> 562</td><td>44.78088</td></tr>\n",
       "\t<tr><td>image_AD2   </td><td> 799</td><td> 353</td><td>44.18023</td></tr>\n",
       "\t<tr><td>image_Aging1</td><td>2219</td><td>1068</td><td>48.12979</td></tr>\n",
       "\t<tr><td>image_Aging2</td><td>1396</td><td> 799</td><td>57.23496</td></tr>\n",
       "\t<tr><td>image_Aging3</td><td>2987</td><td>2645</td><td>88.55039</td></tr>\n",
       "\t<tr><td>image_Aging4</td><td>1559</td><td> 823</td><td>52.79025</td></tr>\n",
       "\t<tr><td>image_Aging5</td><td>2751</td><td>1846</td><td>67.10287</td></tr>\n",
       "</tbody>\n",
       "</table>\n"
      ],
      "text/latex": [
       "A tibble: 7 × 4\n",
       "\\begin{tabular}{llll}\n",
       " outcomes & ucos\\_variant\\_count & ucos\\_variant\\_in\\_xqtl\\_count & percent\\_overlap\\\\\n",
       " <chr> & <int> & <int> & <dbl>\\\\\n",
       "\\hline\n",
       "\t image\\_AD1    & 1255 &  562 & 44.78088\\\\\n",
       "\t image\\_AD2    &  799 &  353 & 44.18023\\\\\n",
       "\t image\\_Aging1 & 2219 & 1068 & 48.12979\\\\\n",
       "\t image\\_Aging2 & 1396 &  799 & 57.23496\\\\\n",
       "\t image\\_Aging3 & 2987 & 2645 & 88.55039\\\\\n",
       "\t image\\_Aging4 & 1559 &  823 & 52.79025\\\\\n",
       "\t image\\_Aging5 & 2751 & 1846 & 67.10287\\\\\n",
       "\\end{tabular}\n"
      ],
      "text/markdown": [
       "\n",
       "A tibble: 7 × 4\n",
       "\n",
       "| outcomes &lt;chr&gt; | ucos_variant_count &lt;int&gt; | ucos_variant_in_xqtl_count &lt;int&gt; | percent_overlap &lt;dbl&gt; |\n",
       "|---|---|---|---|\n",
       "| image_AD1    | 1255 |  562 | 44.78088 |\n",
       "| image_AD2    |  799 |  353 | 44.18023 |\n",
       "| image_Aging1 | 2219 | 1068 | 48.12979 |\n",
       "| image_Aging2 | 1396 |  799 | 57.23496 |\n",
       "| image_Aging3 | 2987 | 2645 | 88.55039 |\n",
       "| image_Aging4 | 1559 |  823 | 52.79025 |\n",
       "| image_Aging5 | 2751 | 1846 | 67.10287 |\n",
       "\n"
      ],
      "text/plain": [
       "  outcomes     ucos_variant_count ucos_variant_in_xqtl_count percent_overlap\n",
       "1 image_AD1    1255                562                       44.78088       \n",
       "2 image_AD2     799                353                       44.18023       \n",
       "3 image_Aging1 2219               1068                       48.12979       \n",
       "4 image_Aging2 1396                799                       57.23496       \n",
       "5 image_Aging3 2987               2645                       88.55039       \n",
       "6 image_Aging4 1559                823                       52.79025       \n",
       "7 image_Aging5 2751               1846                       67.10287       "
      ]
     },
     "metadata": {},
     "output_type": "display_data"
    }
   ],
   "source": [
    "heretability_explained= ucos_var_by_outcomes |> inner_join(ucos_var_overlapped_by_outcomes, by = 'outcomes')\n",
    "\n",
    "# Add total columns and proportion\n",
    "heretability_explained <- heretability_explained %>%\n",
    "  mutate(\n",
    "    percent_overlap = (ucos_variant_in_xqtl_count / ucos_variant_count) * 100\n",
    "  )\n",
    "heretability_explained"
   ]
  },
  {
   "cell_type": "code",
   "execution_count": 53,
   "id": "53163782-0e00-4896-abec-ee9be5b52d0c",
   "metadata": {},
   "outputs": [
    {
     "data": {
      "text/html": [
       "62.8425056275712"
      ],
      "text/latex": [
       "62.8425056275712"
      ],
      "text/markdown": [
       "62.8425056275712"
      ],
      "text/plain": [
       "[1] 62.84251"
      ]
     },
     "metadata": {},
     "output_type": "display_data"
    }
   ],
   "source": [
    "prop_ucos = (nrow(overlapped_ucos_xqtl_variant_id)/nrow(image_ucos_variant_id)) * 100 \n",
    "prop_ucos"
   ]
  },
  {
   "cell_type": "code",
   "execution_count": 30,
   "id": "60a33896-a67f-44d2-a958-ecbfbdfb7615",
   "metadata": {},
   "outputs": [
    {
     "data": {
      "text/html": [
       "<style>\n",
       ".list-inline {list-style: none; margin:0; padding: 0}\n",
       ".list-inline>li {display: inline-block}\n",
       ".list-inline>li:not(:last-child)::after {content: \"\\00b7\"; padding: 0 .5ex}\n",
       "</style>\n",
       "<ol class=list-inline><li>202928</li><li>26</li></ol>\n"
      ],
      "text/latex": [
       "\\begin{enumerate*}\n",
       "\\item 202928\n",
       "\\item 26\n",
       "\\end{enumerate*}\n"
      ],
      "text/markdown": [
       "1. 202928\n",
       "2. 26\n",
       "\n",
       "\n"
      ],
      "text/plain": [
       "[1] 202928     26"
      ]
     },
     "metadata": {},
     "output_type": "display_data"
    },
    {
     "data": {
      "text/html": [
       "<table class=\"dataframe\">\n",
       "<caption>A data.frame: 6 × 26</caption>\n",
       "<thead>\n",
       "\t<tr><th></th><th scope=col>outcomes</th><th scope=col>ucos_id</th><th scope=col>purity</th><th scope=col>top_variable</th><th scope=col>top_variable_vpa</th><th scope=col>n_variables</th><th scope=col>ucos_index</th><th scope=col>ucos_variables</th><th scope=col>ucos_variables_vpa</th><th scope=col>region_name</th><th scope=col>⋯</th><th scope=col>event_ID</th><th scope=col>cs_coverage_0.95</th><th scope=col>cs_coverage_0.7</th><th scope=col>cs_coverage_0.5</th><th scope=col>PIP</th><th scope=col>conditional_effect</th><th scope=col>Cohort</th><th scope=col>Data_Type</th><th scope=col>Modality</th><th scope=col>Cohort_Data_Type_Modality</th></tr>\n",
       "\t<tr><th></th><th scope=col>&lt;chr&gt;</th><th scope=col>&lt;chr&gt;</th><th scope=col>&lt;dbl&gt;</th><th scope=col>&lt;chr&gt;</th><th scope=col>&lt;dbl&gt;</th><th scope=col>&lt;int&gt;</th><th scope=col>&lt;chr&gt;</th><th scope=col>&lt;chr&gt;</th><th scope=col>&lt;chr&gt;</th><th scope=col>&lt;chr&gt;</th><th scope=col>⋯</th><th scope=col>&lt;chr&gt;</th><th scope=col>&lt;dbl&gt;</th><th scope=col>&lt;dbl&gt;</th><th scope=col>&lt;dbl&gt;</th><th scope=col>&lt;dbl&gt;</th><th scope=col>&lt;dbl&gt;</th><th scope=col>&lt;chr&gt;</th><th scope=col>&lt;chr&gt;</th><th scope=col>&lt;chr&gt;</th><th scope=col>&lt;chr&gt;</th></tr>\n",
       "</thead>\n",
       "<tbody>\n",
       "\t<tr><th scope=row>1</th><td>image_Aging1</td><td>ucos1:y2</td><td>0.814146</td><td>chr1:116987237:A:AT</td><td>0.07608308</td><td>27</td><td>3646</td><td>chr1:116996486:G:T</td><td>0.0435285287004856</td><td>chr1_115338054_117562321</td><td>⋯</td><td>Metabrain_Cortex_chr1_116001749_118036476_ENSG00000134256</td><td>1</td><td>1</td><td>0</td><td>0.04060796</td><td>NA</td><td>MetaBrain</td><td>eQTL</td><td>Cortex</td><td>MetaBrain_eQTL_Cortex</td></tr>\n",
       "\t<tr><th scope=row>2</th><td>image_Aging1</td><td>ucos1:y2</td><td>0.814146</td><td>chr1:116987237:A:AT</td><td>0.07608308</td><td>27</td><td>3647</td><td>chr1:116996751:G:T</td><td>0.0339107052571901</td><td>chr1_115338054_117562321</td><td>⋯</td><td>Metabrain_Cortex_chr1_116001749_118036476_ENSG00000134256</td><td>1</td><td>0</td><td>0</td><td>0.02698673</td><td>NA</td><td>MetaBrain</td><td>eQTL</td><td>Cortex</td><td>MetaBrain_eQTL_Cortex</td></tr>\n",
       "\t<tr><th scope=row>3</th><td>image_Aging1</td><td>ucos1:y2</td><td>0.814146</td><td>chr1:116987237:A:AT</td><td>0.07608308</td><td>27</td><td>3635</td><td>chr1:116991835:G:A</td><td>0.0316319838313666</td><td>chr1_115338054_117562321</td><td>⋯</td><td>Metabrain_Cortex_chr1_116001749_118036476_ENSG00000134256</td><td>1</td><td>1</td><td>1</td><td>0.05118804</td><td>NA</td><td>MetaBrain</td><td>eQTL</td><td>Cortex</td><td>MetaBrain_eQTL_Cortex</td></tr>\n",
       "\t<tr><th scope=row>4</th><td>image_Aging1</td><td>ucos1:y2</td><td>0.814146</td><td>chr1:116987237:A:AT</td><td>0.07608308</td><td>27</td><td>3648</td><td>chr1:116997098:A:G</td><td>0.0313960372244696</td><td>chr1_115338054_117562321</td><td>⋯</td><td>Metabrain_Cortex_chr1_116001749_118036476_ENSG00000134256</td><td>1</td><td>0</td><td>0</td><td>0.03146415</td><td>NA</td><td>MetaBrain</td><td>eQTL</td><td>Cortex</td><td>MetaBrain_eQTL_Cortex</td></tr>\n",
       "\t<tr><th scope=row>5</th><td>image_Aging1</td><td>ucos1:y2</td><td>0.814146</td><td>chr1:116987237:A:AT</td><td>0.07608308</td><td>27</td><td>3656</td><td>chr1:116999186:C:T</td><td>0.0311441256181587</td><td>chr1_115338054_117562321</td><td>⋯</td><td>Metabrain_Cortex_chr1_116001749_118036476_ENSG00000134256</td><td>1</td><td>0</td><td>0</td><td>0.02862249</td><td>NA</td><td>MetaBrain</td><td>eQTL</td><td>Cortex</td><td>MetaBrain_eQTL_Cortex</td></tr>\n",
       "\t<tr><th scope=row>6</th><td>image_Aging1</td><td>ucos1:y2</td><td>0.814146</td><td>chr1:116987237:A:AT</td><td>0.07608308</td><td>27</td><td>3669</td><td>chr1:117004763:C:G</td><td>0.0303097832746683</td><td>chr1_115338054_117562321</td><td>⋯</td><td>Metabrain_Cortex_chr1_116001749_118036476_ENSG00000134256</td><td>1</td><td>0</td><td>0</td><td>0.03669708</td><td>NA</td><td>MetaBrain</td><td>eQTL</td><td>Cortex</td><td>MetaBrain_eQTL_Cortex</td></tr>\n",
       "</tbody>\n",
       "</table>\n"
      ],
      "text/latex": [
       "A data.frame: 6 × 26\n",
       "\\begin{tabular}{r|lllllllllllllllllllll}\n",
       "  & outcomes & ucos\\_id & purity & top\\_variable & top\\_variable\\_vpa & n\\_variables & ucos\\_index & ucos\\_variables & ucos\\_variables\\_vpa & region\\_name & ⋯ & event\\_ID & cs\\_coverage\\_0.95 & cs\\_coverage\\_0.7 & cs\\_coverage\\_0.5 & PIP & conditional\\_effect & Cohort & Data\\_Type & Modality & Cohort\\_Data\\_Type\\_Modality\\\\\n",
       "  & <chr> & <chr> & <dbl> & <chr> & <dbl> & <int> & <chr> & <chr> & <chr> & <chr> & ⋯ & <chr> & <dbl> & <dbl> & <dbl> & <dbl> & <dbl> & <chr> & <chr> & <chr> & <chr>\\\\\n",
       "\\hline\n",
       "\t1 & image\\_Aging1 & ucos1:y2 & 0.814146 & chr1:116987237:A:AT & 0.07608308 & 27 & 3646 & chr1:116996486:G:T & 0.0435285287004856 & chr1\\_115338054\\_117562321 & ⋯ & Metabrain\\_Cortex\\_chr1\\_116001749\\_118036476\\_ENSG00000134256 & 1 & 1 & 0 & 0.04060796 & NA & MetaBrain & eQTL & Cortex & MetaBrain\\_eQTL\\_Cortex\\\\\n",
       "\t2 & image\\_Aging1 & ucos1:y2 & 0.814146 & chr1:116987237:A:AT & 0.07608308 & 27 & 3647 & chr1:116996751:G:T & 0.0339107052571901 & chr1\\_115338054\\_117562321 & ⋯ & Metabrain\\_Cortex\\_chr1\\_116001749\\_118036476\\_ENSG00000134256 & 1 & 0 & 0 & 0.02698673 & NA & MetaBrain & eQTL & Cortex & MetaBrain\\_eQTL\\_Cortex\\\\\n",
       "\t3 & image\\_Aging1 & ucos1:y2 & 0.814146 & chr1:116987237:A:AT & 0.07608308 & 27 & 3635 & chr1:116991835:G:A & 0.0316319838313666 & chr1\\_115338054\\_117562321 & ⋯ & Metabrain\\_Cortex\\_chr1\\_116001749\\_118036476\\_ENSG00000134256 & 1 & 1 & 1 & 0.05118804 & NA & MetaBrain & eQTL & Cortex & MetaBrain\\_eQTL\\_Cortex\\\\\n",
       "\t4 & image\\_Aging1 & ucos1:y2 & 0.814146 & chr1:116987237:A:AT & 0.07608308 & 27 & 3648 & chr1:116997098:A:G & 0.0313960372244696 & chr1\\_115338054\\_117562321 & ⋯ & Metabrain\\_Cortex\\_chr1\\_116001749\\_118036476\\_ENSG00000134256 & 1 & 0 & 0 & 0.03146415 & NA & MetaBrain & eQTL & Cortex & MetaBrain\\_eQTL\\_Cortex\\\\\n",
       "\t5 & image\\_Aging1 & ucos1:y2 & 0.814146 & chr1:116987237:A:AT & 0.07608308 & 27 & 3656 & chr1:116999186:C:T & 0.0311441256181587 & chr1\\_115338054\\_117562321 & ⋯ & Metabrain\\_Cortex\\_chr1\\_116001749\\_118036476\\_ENSG00000134256 & 1 & 0 & 0 & 0.02862249 & NA & MetaBrain & eQTL & Cortex & MetaBrain\\_eQTL\\_Cortex\\\\\n",
       "\t6 & image\\_Aging1 & ucos1:y2 & 0.814146 & chr1:116987237:A:AT & 0.07608308 & 27 & 3669 & chr1:117004763:C:G & 0.0303097832746683 & chr1\\_115338054\\_117562321 & ⋯ & Metabrain\\_Cortex\\_chr1\\_116001749\\_118036476\\_ENSG00000134256 & 1 & 0 & 0 & 0.03669708 & NA & MetaBrain & eQTL & Cortex & MetaBrain\\_eQTL\\_Cortex\\\\\n",
       "\\end{tabular}\n"
      ],
      "text/markdown": [
       "\n",
       "A data.frame: 6 × 26\n",
       "\n",
       "| <!--/--> | outcomes &lt;chr&gt; | ucos_id &lt;chr&gt; | purity &lt;dbl&gt; | top_variable &lt;chr&gt; | top_variable_vpa &lt;dbl&gt; | n_variables &lt;int&gt; | ucos_index &lt;chr&gt; | ucos_variables &lt;chr&gt; | ucos_variables_vpa &lt;chr&gt; | region_name &lt;chr&gt; | ⋯ ⋯ | event_ID &lt;chr&gt; | cs_coverage_0.95 &lt;dbl&gt; | cs_coverage_0.7 &lt;dbl&gt; | cs_coverage_0.5 &lt;dbl&gt; | PIP &lt;dbl&gt; | conditional_effect &lt;dbl&gt; | Cohort &lt;chr&gt; | Data_Type &lt;chr&gt; | Modality &lt;chr&gt; | Cohort_Data_Type_Modality &lt;chr&gt; |\n",
       "|---|---|---|---|---|---|---|---|---|---|---|---|---|---|---|---|---|---|---|---|---|---|\n",
       "| 1 | image_Aging1 | ucos1:y2 | 0.814146 | chr1:116987237:A:AT | 0.07608308 | 27 | 3646 | chr1:116996486:G:T | 0.0435285287004856 | chr1_115338054_117562321 | ⋯ | Metabrain_Cortex_chr1_116001749_118036476_ENSG00000134256 | 1 | 1 | 0 | 0.04060796 | NA | MetaBrain | eQTL | Cortex | MetaBrain_eQTL_Cortex |\n",
       "| 2 | image_Aging1 | ucos1:y2 | 0.814146 | chr1:116987237:A:AT | 0.07608308 | 27 | 3647 | chr1:116996751:G:T | 0.0339107052571901 | chr1_115338054_117562321 | ⋯ | Metabrain_Cortex_chr1_116001749_118036476_ENSG00000134256 | 1 | 0 | 0 | 0.02698673 | NA | MetaBrain | eQTL | Cortex | MetaBrain_eQTL_Cortex |\n",
       "| 3 | image_Aging1 | ucos1:y2 | 0.814146 | chr1:116987237:A:AT | 0.07608308 | 27 | 3635 | chr1:116991835:G:A | 0.0316319838313666 | chr1_115338054_117562321 | ⋯ | Metabrain_Cortex_chr1_116001749_118036476_ENSG00000134256 | 1 | 1 | 1 | 0.05118804 | NA | MetaBrain | eQTL | Cortex | MetaBrain_eQTL_Cortex |\n",
       "| 4 | image_Aging1 | ucos1:y2 | 0.814146 | chr1:116987237:A:AT | 0.07608308 | 27 | 3648 | chr1:116997098:A:G | 0.0313960372244696 | chr1_115338054_117562321 | ⋯ | Metabrain_Cortex_chr1_116001749_118036476_ENSG00000134256 | 1 | 0 | 0 | 0.03146415 | NA | MetaBrain | eQTL | Cortex | MetaBrain_eQTL_Cortex |\n",
       "| 5 | image_Aging1 | ucos1:y2 | 0.814146 | chr1:116987237:A:AT | 0.07608308 | 27 | 3656 | chr1:116999186:C:T | 0.0311441256181587 | chr1_115338054_117562321 | ⋯ | Metabrain_Cortex_chr1_116001749_118036476_ENSG00000134256 | 1 | 0 | 0 | 0.02862249 | NA | MetaBrain | eQTL | Cortex | MetaBrain_eQTL_Cortex |\n",
       "| 6 | image_Aging1 | ucos1:y2 | 0.814146 | chr1:116987237:A:AT | 0.07608308 | 27 | 3669 | chr1:117004763:C:G | 0.0303097832746683 | chr1_115338054_117562321 | ⋯ | Metabrain_Cortex_chr1_116001749_118036476_ENSG00000134256 | 1 | 0 | 0 | 0.03669708 | NA | MetaBrain | eQTL | Cortex | MetaBrain_eQTL_Cortex |\n",
       "\n"
      ],
      "text/plain": [
       "  outcomes     ucos_id  purity   top_variable        top_variable_vpa\n",
       "1 image_Aging1 ucos1:y2 0.814146 chr1:116987237:A:AT 0.07608308      \n",
       "2 image_Aging1 ucos1:y2 0.814146 chr1:116987237:A:AT 0.07608308      \n",
       "3 image_Aging1 ucos1:y2 0.814146 chr1:116987237:A:AT 0.07608308      \n",
       "4 image_Aging1 ucos1:y2 0.814146 chr1:116987237:A:AT 0.07608308      \n",
       "5 image_Aging1 ucos1:y2 0.814146 chr1:116987237:A:AT 0.07608308      \n",
       "6 image_Aging1 ucos1:y2 0.814146 chr1:116987237:A:AT 0.07608308      \n",
       "  n_variables ucos_index ucos_variables     ucos_variables_vpa\n",
       "1 27          3646       chr1:116996486:G:T 0.0435285287004856\n",
       "2 27          3647       chr1:116996751:G:T 0.0339107052571901\n",
       "3 27          3635       chr1:116991835:G:A 0.0316319838313666\n",
       "4 27          3648       chr1:116997098:A:G 0.0313960372244696\n",
       "5 27          3656       chr1:116999186:C:T 0.0311441256181587\n",
       "6 27          3669       chr1:117004763:C:G 0.0303097832746683\n",
       "  region_name              ⋯\n",
       "1 chr1_115338054_117562321 ⋯\n",
       "2 chr1_115338054_117562321 ⋯\n",
       "3 chr1_115338054_117562321 ⋯\n",
       "4 chr1_115338054_117562321 ⋯\n",
       "5 chr1_115338054_117562321 ⋯\n",
       "6 chr1_115338054_117562321 ⋯\n",
       "  event_ID                                                  cs_coverage_0.95\n",
       "1 Metabrain_Cortex_chr1_116001749_118036476_ENSG00000134256 1               \n",
       "2 Metabrain_Cortex_chr1_116001749_118036476_ENSG00000134256 1               \n",
       "3 Metabrain_Cortex_chr1_116001749_118036476_ENSG00000134256 1               \n",
       "4 Metabrain_Cortex_chr1_116001749_118036476_ENSG00000134256 1               \n",
       "5 Metabrain_Cortex_chr1_116001749_118036476_ENSG00000134256 1               \n",
       "6 Metabrain_Cortex_chr1_116001749_118036476_ENSG00000134256 1               \n",
       "  cs_coverage_0.7 cs_coverage_0.5 PIP        conditional_effect Cohort   \n",
       "1 1               0               0.04060796 NA                 MetaBrain\n",
       "2 0               0               0.02698673 NA                 MetaBrain\n",
       "3 1               1               0.05118804 NA                 MetaBrain\n",
       "4 0               0               0.03146415 NA                 MetaBrain\n",
       "5 0               0               0.02862249 NA                 MetaBrain\n",
       "6 0               0               0.03669708 NA                 MetaBrain\n",
       "  Data_Type Modality Cohort_Data_Type_Modality\n",
       "1 eQTL      Cortex   MetaBrain_eQTL_Cortex    \n",
       "2 eQTL      Cortex   MetaBrain_eQTL_Cortex    \n",
       "3 eQTL      Cortex   MetaBrain_eQTL_Cortex    \n",
       "4 eQTL      Cortex   MetaBrain_eQTL_Cortex    \n",
       "5 eQTL      Cortex   MetaBrain_eQTL_Cortex    \n",
       "6 eQTL      Cortex   MetaBrain_eQTL_Cortex    "
      ]
     },
     "metadata": {},
     "output_type": "display_data"
    }
   ],
   "source": [
    "dim(overlapped_ucos_xqtl)\n",
    "head(overlapped_ucos_xqtl)"
   ]
  },
  {
   "cell_type": "code",
   "execution_count": 65,
   "id": "34a6da91-2147-483f-838d-e1975945a271",
   "metadata": {},
   "outputs": [],
   "source": [
    "ucos_sig_gene = overlapped_ucos_xqtl |> count(gene_ID, outcomes)"
   ]
  },
  {
   "cell_type": "code",
   "execution_count": 36,
   "id": "766b1268-8b9f-48e4-9d16-dbb037058db1",
   "metadata": {},
   "outputs": [],
   "source": [
    "# fwrite(sig_gene, \"overlapped_ucos_sig_xqtl.txt\", sep = \"\\t\")"
   ]
  },
  {
   "cell_type": "code",
   "execution_count": null,
   "id": "543a0e7d-37bb-4967-8246-b98ed6788766",
   "metadata": {},
   "outputs": [],
   "source": [
    "## Annotate the gene list positions based on our v103 genomic reference\n",
    "!sos run xqtl-protocol/code/data_preprocessing/phenotype/gene_annotation.ipynb annotate_coord \\\n",
    "    --cwd project/image_QTL/cb_varisnts_explained_by_xQTL \\\n",
    "    --phenoFile overlapped_ucos_sig_xqtl.txt \\\n",
    "    --phenotype-id-column gene_id \\\n",
    "    --molecular-trait-type gene \\\n",
    "    --coordinate-annotation data/resource/references/Homo_sapiens.GRCh38.103.chr.reformatted.collapse_only.gene.ERCC.gtf"
   ]
  },
  {
   "cell_type": "code",
   "execution_count": 64,
   "id": "59ab9d70-d63a-4866-9e3e-3e3c9b3d64b8",
   "metadata": {},
   "outputs": [],
   "source": [
    "annotated_ucos_sig_gene = fread(\"project/image_QTL/cb_varisnts_explained_by_xQTL/overlapped_ucos_sig_xqtl.gene_list.tsv\")"
   ]
  },
  {
   "cell_type": "code",
   "execution_count": 71,
   "id": "be9a6d2d-a369-4d2f-ac3c-09bf75863c76",
   "metadata": {},
   "outputs": [
    {
     "data": {
      "text/html": [
       "<table class=\"dataframe\">\n",
       "<caption>A data.frame: 6 × 3</caption>\n",
       "<thead>\n",
       "\t<tr><th></th><th scope=col>gene_ID</th><th scope=col>outcomes</th><th scope=col>n</th></tr>\n",
       "\t<tr><th></th><th scope=col>&lt;chr&gt;</th><th scope=col>&lt;chr&gt;</th><th scope=col>&lt;int&gt;</th></tr>\n",
       "</thead>\n",
       "<tbody>\n",
       "\t<tr><th scope=row>1</th><td>ENSG00000007384</td><td>image_Aging5</td><td>  6</td></tr>\n",
       "\t<tr><th scope=row>2</th><td>ENSG00000011590</td><td>image_Aging4</td><td> 29</td></tr>\n",
       "\t<tr><th scope=row>3</th><td>ENSG00000014123</td><td>image_Aging5</td><td>396</td></tr>\n",
       "\t<tr><th scope=row>4</th><td>ENSG00000018236</td><td>image_Aging1</td><td>  2</td></tr>\n",
       "\t<tr><th scope=row>5</th><td>ENSG00000023572</td><td>image_Aging4</td><td>385</td></tr>\n",
       "\t<tr><th scope=row>6</th><td>ENSG00000025434</td><td>image_AD2   </td><td> 14</td></tr>\n",
       "</tbody>\n",
       "</table>\n"
      ],
      "text/latex": [
       "A data.frame: 6 × 3\n",
       "\\begin{tabular}{r|lll}\n",
       "  & gene\\_ID & outcomes & n\\\\\n",
       "  & <chr> & <chr> & <int>\\\\\n",
       "\\hline\n",
       "\t1 & ENSG00000007384 & image\\_Aging5 &   6\\\\\n",
       "\t2 & ENSG00000011590 & image\\_Aging4 &  29\\\\\n",
       "\t3 & ENSG00000014123 & image\\_Aging5 & 396\\\\\n",
       "\t4 & ENSG00000018236 & image\\_Aging1 &   2\\\\\n",
       "\t5 & ENSG00000023572 & image\\_Aging4 & 385\\\\\n",
       "\t6 & ENSG00000025434 & image\\_AD2    &  14\\\\\n",
       "\\end{tabular}\n"
      ],
      "text/markdown": [
       "\n",
       "A data.frame: 6 × 3\n",
       "\n",
       "| <!--/--> | gene_ID &lt;chr&gt; | outcomes &lt;chr&gt; | n &lt;int&gt; |\n",
       "|---|---|---|---|\n",
       "| 1 | ENSG00000007384 | image_Aging5 |   6 |\n",
       "| 2 | ENSG00000011590 | image_Aging4 |  29 |\n",
       "| 3 | ENSG00000014123 | image_Aging5 | 396 |\n",
       "| 4 | ENSG00000018236 | image_Aging1 |   2 |\n",
       "| 5 | ENSG00000023572 | image_Aging4 | 385 |\n",
       "| 6 | ENSG00000025434 | image_AD2    |  14 |\n",
       "\n"
      ],
      "text/plain": [
       "  gene_ID         outcomes     n  \n",
       "1 ENSG00000007384 image_Aging5   6\n",
       "2 ENSG00000011590 image_Aging4  29\n",
       "3 ENSG00000014123 image_Aging5 396\n",
       "4 ENSG00000018236 image_Aging1   2\n",
       "5 ENSG00000023572 image_Aging4 385\n",
       "6 ENSG00000025434 image_AD2     14"
      ]
     },
     "metadata": {},
     "output_type": "display_data"
    },
    {
     "data": {
      "text/html": [
       "<table class=\"dataframe\">\n",
       "<caption>A data.table: 6 × 6</caption>\n",
       "<thead>\n",
       "\t<tr><th scope=col>#chr</th><th scope=col>start</th><th scope=col>end</th><th scope=col>gene_id</th><th scope=col>strand</th><th scope=col>gene_name</th></tr>\n",
       "\t<tr><th scope=col>&lt;chr&gt;</th><th scope=col>&lt;int&gt;</th><th scope=col>&lt;int&gt;</th><th scope=col>&lt;chr&gt;</th><th scope=col>&lt;chr&gt;</th><th scope=col>&lt;chr&gt;</th></tr>\n",
       "</thead>\n",
       "<tbody>\n",
       "\t<tr><td>chr1</td><td> 20806291</td><td> 21176887</td><td>ENSG00000075151</td><td>-</td><td>EIF4G3</td></tr>\n",
       "\t<tr><td>chr1</td><td> 21822243</td><td> 21937309</td><td>ENSG00000142798</td><td>-</td><td>HSPG2 </td></tr>\n",
       "\t<tr><td>chr1</td><td> 22025510</td><td> 22101359</td><td>ENSG00000070831</td><td>+</td><td>CDC42 </td></tr>\n",
       "\t<tr><td>chr1</td><td>117001749</td><td>117036475</td><td>ENSG00000134256</td><td>+</td><td>CD101 </td></tr>\n",
       "\t<tr><td>chr1</td><td>193090865</td><td>193106113</td><td>ENSG00000023572</td><td>-</td><td>GLRX2 </td></tr>\n",
       "\t<tr><td>chr1</td><td>193121982</td><td>193254814</td><td>ENSG00000134371</td><td>+</td><td>CDC73 </td></tr>\n",
       "</tbody>\n",
       "</table>\n"
      ],
      "text/latex": [
       "A data.table: 6 × 6\n",
       "\\begin{tabular}{llllll}\n",
       " \\#chr & start & end & gene\\_id & strand & gene\\_name\\\\\n",
       " <chr> & <int> & <int> & <chr> & <chr> & <chr>\\\\\n",
       "\\hline\n",
       "\t chr1 &  20806291 &  21176887 & ENSG00000075151 & - & EIF4G3\\\\\n",
       "\t chr1 &  21822243 &  21937309 & ENSG00000142798 & - & HSPG2 \\\\\n",
       "\t chr1 &  22025510 &  22101359 & ENSG00000070831 & + & CDC42 \\\\\n",
       "\t chr1 & 117001749 & 117036475 & ENSG00000134256 & + & CD101 \\\\\n",
       "\t chr1 & 193090865 & 193106113 & ENSG00000023572 & - & GLRX2 \\\\\n",
       "\t chr1 & 193121982 & 193254814 & ENSG00000134371 & + & CDC73 \\\\\n",
       "\\end{tabular}\n"
      ],
      "text/markdown": [
       "\n",
       "A data.table: 6 × 6\n",
       "\n",
       "| #chr &lt;chr&gt; | start &lt;int&gt; | end &lt;int&gt; | gene_id &lt;chr&gt; | strand &lt;chr&gt; | gene_name &lt;chr&gt; |\n",
       "|---|---|---|---|---|---|\n",
       "| chr1 |  20806291 |  21176887 | ENSG00000075151 | - | EIF4G3 |\n",
       "| chr1 |  21822243 |  21937309 | ENSG00000142798 | - | HSPG2  |\n",
       "| chr1 |  22025510 |  22101359 | ENSG00000070831 | + | CDC42  |\n",
       "| chr1 | 117001749 | 117036475 | ENSG00000134256 | + | CD101  |\n",
       "| chr1 | 193090865 | 193106113 | ENSG00000023572 | - | GLRX2  |\n",
       "| chr1 | 193121982 | 193254814 | ENSG00000134371 | + | CDC73  |\n",
       "\n"
      ],
      "text/plain": [
       "  #chr start     end       gene_id         strand gene_name\n",
       "1 chr1  20806291  21176887 ENSG00000075151 -      EIF4G3   \n",
       "2 chr1  21822243  21937309 ENSG00000142798 -      HSPG2    \n",
       "3 chr1  22025510  22101359 ENSG00000070831 +      CDC42    \n",
       "4 chr1 117001749 117036475 ENSG00000134256 +      CD101    \n",
       "5 chr1 193090865 193106113 ENSG00000023572 -      GLRX2    \n",
       "6 chr1 193121982 193254814 ENSG00000134371 +      CDC73    "
      ]
     },
     "metadata": {},
     "output_type": "display_data"
    }
   ],
   "source": [
    "head(ucos_sig_gene)\n",
    "head(annotated_ucos_sig_gene)\n"
   ]
  },
  {
   "cell_type": "code",
   "execution_count": 73,
   "id": "f94341e6-ea04-488f-a06d-c98853bfb0b4",
   "metadata": {},
   "outputs": [],
   "source": [
    "annotated_ucos_sig_gene <- annotated_ucos_sig_gene |> \n",
    "  inner_join(ucos_sig_gene, by = c(\"gene_id\" = \"gene_ID\"))"
   ]
  },
  {
   "cell_type": "code",
   "execution_count": 74,
   "id": "8ec9d96b-91bb-471d-ba28-c299a362b212",
   "metadata": {},
   "outputs": [],
   "source": [
    "fwrite(annotated_ucos_sig_gene, \"annotated_overlapped_ucos_sig_xqtl.tsv\", sep = \"\\t\")"
   ]
  },
  {
   "cell_type": "code",
   "execution_count": 26,
   "id": "f35bde8f-ad03-49ae-af41-42f950f3c6ed",
   "metadata": {},
   "outputs": [
    {
     "data": {
      "text/html": [
       "<style>\n",
       ".list-inline {list-style: none; margin:0; padding: 0}\n",
       ".list-inline>li {display: inline-block}\n",
       ".list-inline>li:not(:last-child)::after {content: \"\\00b7\"; padding: 0 .5ex}\n",
       "</style>\n",
       "<ol class=list-inline><li>12966</li><li>10</li></ol>\n"
      ],
      "text/latex": [
       "\\begin{enumerate*}\n",
       "\\item 12966\n",
       "\\item 10\n",
       "\\end{enumerate*}\n"
      ],
      "text/markdown": [
       "1. 12966\n",
       "2. 10\n",
       "\n",
       "\n"
      ],
      "text/plain": [
       "[1] 12966    10"
      ]
     },
     "metadata": {},
     "output_type": "display_data"
    },
    {
     "data": {
      "text/html": [
       "<table class=\"dataframe\">\n",
       "<caption>A data.frame: 6 × 10</caption>\n",
       "<thead>\n",
       "\t<tr><th></th><th scope=col>outcomes</th><th scope=col>ucos_id</th><th scope=col>purity</th><th scope=col>top_variable</th><th scope=col>top_variable_vpa</th><th scope=col>n_variables</th><th scope=col>ucos_index</th><th scope=col>ucos_variables</th><th scope=col>ucos_variables_vpa</th><th scope=col>region_name</th></tr>\n",
       "\t<tr><th></th><th scope=col>&lt;chr&gt;</th><th scope=col>&lt;chr&gt;</th><th scope=col>&lt;dbl&gt;</th><th scope=col>&lt;chr&gt;</th><th scope=col>&lt;dbl&gt;</th><th scope=col>&lt;int&gt;</th><th scope=col>&lt;chr&gt;</th><th scope=col>&lt;chr&gt;</th><th scope=col>&lt;chr&gt;</th><th scope=col>&lt;chr&gt;</th></tr>\n",
       "</thead>\n",
       "<tbody>\n",
       "\t<tr><th scope=row>1</th><td>image_Aging1</td><td>ucos1:y2</td><td>0.814146</td><td>chr1:116987237:A:AT</td><td>0.07608308</td><td>27</td><td>3613</td><td>chr1:116987237:A:AT</td><td>0.0760830811494935</td><td>chr1_115338054_117562321</td></tr>\n",
       "\t<tr><th scope=row>2</th><td>image_Aging1</td><td>ucos1:y2</td><td>0.814146</td><td>chr1:116987237:A:AT</td><td>0.07608308</td><td>27</td><td>3597</td><td>chr1:116983188:C:T </td><td>0.0644243882293443</td><td>chr1_115338054_117562321</td></tr>\n",
       "\t<tr><th scope=row>3</th><td>image_Aging1</td><td>ucos1:y2</td><td>0.814146</td><td>chr1:116987237:A:AT</td><td>0.07608308</td><td>27</td><td>3603</td><td>chr1:116984477:A:T </td><td>0.0614377332468131</td><td>chr1_115338054_117562321</td></tr>\n",
       "\t<tr><th scope=row>4</th><td>image_Aging1</td><td>ucos1:y2</td><td>0.814146</td><td>chr1:116987237:A:AT</td><td>0.07608308</td><td>27</td><td>3598</td><td>chr1:116983433:A:G </td><td>0.0603515383809108</td><td>chr1_115338054_117562321</td></tr>\n",
       "\t<tr><th scope=row>5</th><td>image_Aging1</td><td>ucos1:y2</td><td>0.814146</td><td>chr1:116987237:A:AT</td><td>0.07608308</td><td>27</td><td>3609</td><td>chr1:116985744:G:A </td><td>0.0559528387602375</td><td>chr1_115338054_117562321</td></tr>\n",
       "\t<tr><th scope=row>6</th><td>image_Aging1</td><td>ucos1:y2</td><td>0.814146</td><td>chr1:116987237:A:AT</td><td>0.07608308</td><td>27</td><td>3619</td><td>chr1:116987999:A:G </td><td>0.0491596341812764</td><td>chr1_115338054_117562321</td></tr>\n",
       "</tbody>\n",
       "</table>\n"
      ],
      "text/latex": [
       "A data.frame: 6 × 10\n",
       "\\begin{tabular}{r|llllllllll}\n",
       "  & outcomes & ucos\\_id & purity & top\\_variable & top\\_variable\\_vpa & n\\_variables & ucos\\_index & ucos\\_variables & ucos\\_variables\\_vpa & region\\_name\\\\\n",
       "  & <chr> & <chr> & <dbl> & <chr> & <dbl> & <int> & <chr> & <chr> & <chr> & <chr>\\\\\n",
       "\\hline\n",
       "\t1 & image\\_Aging1 & ucos1:y2 & 0.814146 & chr1:116987237:A:AT & 0.07608308 & 27 & 3613 & chr1:116987237:A:AT & 0.0760830811494935 & chr1\\_115338054\\_117562321\\\\\n",
       "\t2 & image\\_Aging1 & ucos1:y2 & 0.814146 & chr1:116987237:A:AT & 0.07608308 & 27 & 3597 & chr1:116983188:C:T  & 0.0644243882293443 & chr1\\_115338054\\_117562321\\\\\n",
       "\t3 & image\\_Aging1 & ucos1:y2 & 0.814146 & chr1:116987237:A:AT & 0.07608308 & 27 & 3603 & chr1:116984477:A:T  & 0.0614377332468131 & chr1\\_115338054\\_117562321\\\\\n",
       "\t4 & image\\_Aging1 & ucos1:y2 & 0.814146 & chr1:116987237:A:AT & 0.07608308 & 27 & 3598 & chr1:116983433:A:G  & 0.0603515383809108 & chr1\\_115338054\\_117562321\\\\\n",
       "\t5 & image\\_Aging1 & ucos1:y2 & 0.814146 & chr1:116987237:A:AT & 0.07608308 & 27 & 3609 & chr1:116985744:G:A  & 0.0559528387602375 & chr1\\_115338054\\_117562321\\\\\n",
       "\t6 & image\\_Aging1 & ucos1:y2 & 0.814146 & chr1:116987237:A:AT & 0.07608308 & 27 & 3619 & chr1:116987999:A:G  & 0.0491596341812764 & chr1\\_115338054\\_117562321\\\\\n",
       "\\end{tabular}\n"
      ],
      "text/markdown": [
       "\n",
       "A data.frame: 6 × 10\n",
       "\n",
       "| <!--/--> | outcomes &lt;chr&gt; | ucos_id &lt;chr&gt; | purity &lt;dbl&gt; | top_variable &lt;chr&gt; | top_variable_vpa &lt;dbl&gt; | n_variables &lt;int&gt; | ucos_index &lt;chr&gt; | ucos_variables &lt;chr&gt; | ucos_variables_vpa &lt;chr&gt; | region_name &lt;chr&gt; |\n",
       "|---|---|---|---|---|---|---|---|---|---|---|\n",
       "| 1 | image_Aging1 | ucos1:y2 | 0.814146 | chr1:116987237:A:AT | 0.07608308 | 27 | 3613 | chr1:116987237:A:AT | 0.0760830811494935 | chr1_115338054_117562321 |\n",
       "| 2 | image_Aging1 | ucos1:y2 | 0.814146 | chr1:116987237:A:AT | 0.07608308 | 27 | 3597 | chr1:116983188:C:T  | 0.0644243882293443 | chr1_115338054_117562321 |\n",
       "| 3 | image_Aging1 | ucos1:y2 | 0.814146 | chr1:116987237:A:AT | 0.07608308 | 27 | 3603 | chr1:116984477:A:T  | 0.0614377332468131 | chr1_115338054_117562321 |\n",
       "| 4 | image_Aging1 | ucos1:y2 | 0.814146 | chr1:116987237:A:AT | 0.07608308 | 27 | 3598 | chr1:116983433:A:G  | 0.0603515383809108 | chr1_115338054_117562321 |\n",
       "| 5 | image_Aging1 | ucos1:y2 | 0.814146 | chr1:116987237:A:AT | 0.07608308 | 27 | 3609 | chr1:116985744:G:A  | 0.0559528387602375 | chr1_115338054_117562321 |\n",
       "| 6 | image_Aging1 | ucos1:y2 | 0.814146 | chr1:116987237:A:AT | 0.07608308 | 27 | 3619 | chr1:116987999:A:G  | 0.0491596341812764 | chr1_115338054_117562321 |\n",
       "\n"
      ],
      "text/plain": [
       "  outcomes     ucos_id  purity   top_variable        top_variable_vpa\n",
       "1 image_Aging1 ucos1:y2 0.814146 chr1:116987237:A:AT 0.07608308      \n",
       "2 image_Aging1 ucos1:y2 0.814146 chr1:116987237:A:AT 0.07608308      \n",
       "3 image_Aging1 ucos1:y2 0.814146 chr1:116987237:A:AT 0.07608308      \n",
       "4 image_Aging1 ucos1:y2 0.814146 chr1:116987237:A:AT 0.07608308      \n",
       "5 image_Aging1 ucos1:y2 0.814146 chr1:116987237:A:AT 0.07608308      \n",
       "6 image_Aging1 ucos1:y2 0.814146 chr1:116987237:A:AT 0.07608308      \n",
       "  n_variables ucos_index ucos_variables      ucos_variables_vpa\n",
       "1 27          3613       chr1:116987237:A:AT 0.0760830811494935\n",
       "2 27          3597       chr1:116983188:C:T  0.0644243882293443\n",
       "3 27          3603       chr1:116984477:A:T  0.0614377332468131\n",
       "4 27          3598       chr1:116983433:A:G  0.0603515383809108\n",
       "5 27          3609       chr1:116985744:G:A  0.0559528387602375\n",
       "6 27          3619       chr1:116987999:A:G  0.0491596341812764\n",
       "  region_name             \n",
       "1 chr1_115338054_117562321\n",
       "2 chr1_115338054_117562321\n",
       "3 chr1_115338054_117562321\n",
       "4 chr1_115338054_117562321\n",
       "5 chr1_115338054_117562321\n",
       "6 chr1_115338054_117562321"
      ]
     },
     "metadata": {},
     "output_type": "display_data"
    }
   ],
   "source": [
    "dim(ucos_summary_top_loci)\n",
    "head(ucos_summary_top_loci)"
   ]
  },
  {
   "cell_type": "code",
   "execution_count": 64,
   "id": "83997b57-e9d0-443f-b6eb-2707e2c55082",
   "metadata": {},
   "outputs": [],
   "source": [
    "# Function to extract a loci table from cos_summary dataframe\n",
    "extract_cos_loci_table <- function(cos_df) {\n",
    "  # Check if required columns exist\n",
    "  required_cols <- c(\"focal_outcome\", \"colocalized_outcomes\", \"cos_id\", \"purity\", \n",
    "                    \"top_variable\", \"top_variable_vcp\", \"cos_npc\", \"min_npc_outcome\", \n",
    "                    \"n_variables\", \"colocalized_index\", \"colocalized_variables\", \n",
    "                    \"colocalized_variables_vcp\", \"region_name\")\n",
    "  \n",
    "  missing_cols <- setdiff(required_cols, colnames(cos_df))\n",
    "  if (length(missing_cols) > 0) {\n",
    "    stop(\"Missing required columns: \", paste(missing_cols, collapse = \", \"))\n",
    "  }\n",
    "  \n",
    "  # Create a list to store the results\n",
    "  result_list <- list()\n",
    "  \n",
    "  # Process each row in the dataframe\n",
    "  for (i in 1:nrow(cos_df)) {\n",
    "    # Get the current row\n",
    "    current_row <- cos_df[i, ]\n",
    "    \n",
    "    # Split the columns by semicolon and trim whitespace\n",
    "    # For colocalized_outcomes, check if it contains semicolons\n",
    "    colocalized_outcomes_raw <- as.character(current_row$colocalized_outcomes)\n",
    "    if (grepl(\";\", colocalized_outcomes_raw)) {\n",
    "      # If it contains semicolons, split by them\n",
    "      colocalized_outcomes_split <- strsplit(colocalized_outcomes_raw, \";\")[[1]]\n",
    "      # Trim whitespace\n",
    "      colocalized_outcomes_split <- trimws(colocalized_outcomes_split)\n",
    "    } else if (grepl(\",\", colocalized_outcomes_raw)) {\n",
    "      # If no semicolons but has commas, try splitting by commas\n",
    "      colocalized_outcomes_split <- strsplit(colocalized_outcomes_raw, \",\")[[1]]\n",
    "      colocalized_outcomes_split <- trimws(colocalized_outcomes_split)\n",
    "    } else {\n",
    "      # If no delimiters, keep as is\n",
    "      colocalized_outcomes_split <- trimws(colocalized_outcomes_raw)\n",
    "    }\n",
    "    \n",
    "    # Split the other columns and trim whitespace\n",
    "    colocalized_index_split <- trimws(strsplit(as.character(current_row$colocalized_index), \";\")[[1]])\n",
    "    colocalized_variables_split <- trimws(strsplit(as.character(current_row$colocalized_variables), \";\")[[1]])\n",
    "    colocalized_variables_vcp_split <- trimws(strsplit(as.character(current_row$colocalized_variables_vcp), \";\")[[1]])\n",
    "    \n",
    "    # Check if the splits have the same length\n",
    "    if (length(colocalized_index_split) != length(colocalized_variables_split) || \n",
    "        length(colocalized_index_split) != length(colocalized_variables_vcp_split)) {\n",
    "      warning(\"Row \", i, \" has inconsistent number of elements in split columns\")\n",
    "      # Adjust to shortest length to avoid errors\n",
    "      min_length <- min(length(colocalized_index_split), \n",
    "                        length(colocalized_variables_split), \n",
    "                        length(colocalized_variables_vcp_split))\n",
    "      colocalized_index_split <- colocalized_index_split[1:min_length]\n",
    "      colocalized_variables_split <- colocalized_variables_split[1:min_length]\n",
    "      colocalized_variables_vcp_split <- colocalized_variables_vcp_split[1:min_length]\n",
    "    }\n",
    "    \n",
    "    # New approach: For each outcome, create copies of all the genetic data\n",
    "    # This creates a \"cross product\" where each outcome is paired with each genetic variant\n",
    "    expanded_rows <- list()\n",
    "    \n",
    "    # For each outcome\n",
    "    for (outcome in colocalized_outcomes_split) {\n",
    "      # For each genetic variant\n",
    "      for (j in seq_along(colocalized_index_split)) {\n",
    "        expanded_rows[[length(expanded_rows) + 1]] <- data.frame(\n",
    "          focal_outcome = current_row$focal_outcome,\n",
    "          colocalized_outcomes = outcome,\n",
    "          cos_id = current_row$cos_id,\n",
    "          purity = current_row$purity,\n",
    "          top_variable = current_row$top_variable,\n",
    "          top_variable_vcp = current_row$top_variable_vcp,\n",
    "          cos_npc = current_row$cos_npc,\n",
    "          min_npc_outcome = current_row$min_npc_outcome,\n",
    "          n_variables = current_row$n_variables,\n",
    "          colocalized_index = colocalized_index_split[j],\n",
    "          colocalized_variables = colocalized_variables_split[j],\n",
    "          colocalized_variables_vcp = colocalized_variables_vcp_split[j],\n",
    "          region_name = current_row$region_name,\n",
    "          stringsAsFactors = FALSE\n",
    "        )\n",
    "      }\n",
    "    }\n",
    "    \n",
    "    # Combine all the expanded rows for this original row\n",
    "    expanded_df <- do.call(rbind, expanded_rows)\n",
    "    \n",
    "    # Add to the result list\n",
    "    result_list[[i]] <- expanded_df\n",
    "  }\n",
    "  \n",
    "  # Combine all expanded dataframes\n",
    "  final_df <- do.call(rbind, result_list)\n",
    "  \n",
    "  # Clean the data: strip whitespace\n",
    "  final_df[] <- lapply(final_df, function(x) if(is.character(x)) trimws(x) else x)\n",
    "  \n",
    "  # Reset row names\n",
    "  rownames(final_df) <- NULL\n",
    "  \n",
    "  return(final_df)\n",
    "}"
   ]
  },
  {
   "cell_type": "code",
   "execution_count": 65,
   "id": "2287d5ae-7c3f-47f3-a907-d2334ee6f0a9",
   "metadata": {},
   "outputs": [],
   "source": [
    "cos_top_loci = extract_cos_loci_table(cos_summary)"
   ]
  },
  {
   "cell_type": "code",
   "execution_count": 66,
   "id": "6abe77f1-0f60-4d25-8ab1-aab9423e5ded",
   "metadata": {},
   "outputs": [
    {
     "data": {
      "text/html": [
       "1690"
      ],
      "text/latex": [
       "1690"
      ],
      "text/markdown": [
       "1690"
      ],
      "text/plain": [
       "[1] 1690"
      ]
     },
     "metadata": {},
     "output_type": "display_data"
    }
   ],
   "source": [
    "image_cos_variant_id = cos_top_loci |> count(colocalized_variables)\n",
    "nrow(image_cos_variant_id)"
   ]
  },
  {
   "cell_type": "code",
   "execution_count": 136,
   "id": "988acf65-7587-4f62-9e7e-898e4a4bde20",
   "metadata": {},
   "outputs": [
    {
     "data": {
      "text/html": [
       "<table class=\"dataframe\">\n",
       "<caption>A tibble: 7 × 2</caption>\n",
       "<thead>\n",
       "\t<tr><th scope=col>colocalized_outcomes</th><th scope=col>cos_variant_count</th></tr>\n",
       "\t<tr><th scope=col>&lt;chr&gt;</th><th scope=col>&lt;int&gt;</th></tr>\n",
       "</thead>\n",
       "<tbody>\n",
       "\t<tr><td>image_AD1   </td><td>752</td></tr>\n",
       "\t<tr><td>image_AD2   </td><td>630</td></tr>\n",
       "\t<tr><td>image_Aging1</td><td>429</td></tr>\n",
       "\t<tr><td>image_Aging2</td><td>516</td></tr>\n",
       "\t<tr><td>image_Aging3</td><td>713</td></tr>\n",
       "\t<tr><td>image_Aging4</td><td>504</td></tr>\n",
       "\t<tr><td>image_Aging5</td><td>291</td></tr>\n",
       "</tbody>\n",
       "</table>\n"
      ],
      "text/latex": [
       "A tibble: 7 × 2\n",
       "\\begin{tabular}{ll}\n",
       " colocalized\\_outcomes & cos\\_variant\\_count\\\\\n",
       " <chr> & <int>\\\\\n",
       "\\hline\n",
       "\t image\\_AD1    & 752\\\\\n",
       "\t image\\_AD2    & 630\\\\\n",
       "\t image\\_Aging1 & 429\\\\\n",
       "\t image\\_Aging2 & 516\\\\\n",
       "\t image\\_Aging3 & 713\\\\\n",
       "\t image\\_Aging4 & 504\\\\\n",
       "\t image\\_Aging5 & 291\\\\\n",
       "\\end{tabular}\n"
      ],
      "text/markdown": [
       "\n",
       "A tibble: 7 × 2\n",
       "\n",
       "| colocalized_outcomes &lt;chr&gt; | cos_variant_count &lt;int&gt; |\n",
       "|---|---|\n",
       "| image_AD1    | 752 |\n",
       "| image_AD2    | 630 |\n",
       "| image_Aging1 | 429 |\n",
       "| image_Aging2 | 516 |\n",
       "| image_Aging3 | 713 |\n",
       "| image_Aging4 | 504 |\n",
       "| image_Aging5 | 291 |\n",
       "\n"
      ],
      "text/plain": [
       "  colocalized_outcomes cos_variant_count\n",
       "1 image_AD1            752              \n",
       "2 image_AD2            630              \n",
       "3 image_Aging1         429              \n",
       "4 image_Aging2         516              \n",
       "5 image_Aging3         713              \n",
       "6 image_Aging4         504              \n",
       "7 image_Aging5         291              "
      ]
     },
     "metadata": {},
     "output_type": "display_data"
    }
   ],
   "source": [
    "cos_var_by_outcomes = cos_top_loci |> group_by(colocalized_outcomes) |> summarize(cos_variant_count = n_distinct(colocalized_variables))\n",
    "cos_var_by_outcomes"
   ]
  },
  {
   "cell_type": "code",
   "execution_count": 67,
   "id": "dede99df-756f-4223-89d1-c06be2748b69",
   "metadata": {},
   "outputs": [
    {
     "name": "stderr",
     "output_type": "stream",
     "text": [
      "Warning message in inner_join(cos_top_loci, combined_data, by = c(colocalized_variables = \"variant_ID\")):\n",
      "“\u001b[1m\u001b[22mDetected an unexpected many-to-many relationship between `x` and `y`.\n",
      "\u001b[36mℹ\u001b[39m Row 7 of `x` matches multiple rows in `y`.\n",
      "\u001b[36mℹ\u001b[39m Row 117223 of `y` matches multiple rows in `x`.\n",
      "\u001b[36mℹ\u001b[39m If a many-to-many relationship is expected, set `relationship =\n",
      "  \"many-to-many\"` to silence this warning.”\n"
     ]
    }
   ],
   "source": [
    "overlapped_cos_xqtl = cos_top_loci |> inner_join(combined_data, by = c(\"colocalized_variables\" = \"variant_ID\"))"
   ]
  },
  {
   "cell_type": "code",
   "execution_count": 69,
   "id": "7fbce198-cd74-40f6-ae2d-b8393b44bd8f",
   "metadata": {},
   "outputs": [
    {
     "data": {
      "text/html": [
       "<table class=\"dataframe\">\n",
       "<caption>A tibble: 7 × 2</caption>\n",
       "<thead>\n",
       "\t<tr><th scope=col>colocalized_outcomes</th><th scope=col>cos_variant_in_xqtl_count</th></tr>\n",
       "\t<tr><th scope=col>&lt;chr&gt;</th><th scope=col>&lt;int&gt;</th></tr>\n",
       "</thead>\n",
       "<tbody>\n",
       "\t<tr><td>image_AD1   </td><td>316</td></tr>\n",
       "\t<tr><td>image_AD2   </td><td>359</td></tr>\n",
       "\t<tr><td>image_Aging1</td><td>245</td></tr>\n",
       "\t<tr><td>image_Aging2</td><td>269</td></tr>\n",
       "\t<tr><td>image_Aging3</td><td>261</td></tr>\n",
       "\t<tr><td>image_Aging4</td><td>301</td></tr>\n",
       "\t<tr><td>image_Aging5</td><td>183</td></tr>\n",
       "</tbody>\n",
       "</table>\n"
      ],
      "text/latex": [
       "A tibble: 7 × 2\n",
       "\\begin{tabular}{ll}\n",
       " colocalized\\_outcomes & cos\\_variant\\_in\\_xqtl\\_count\\\\\n",
       " <chr> & <int>\\\\\n",
       "\\hline\n",
       "\t image\\_AD1    & 316\\\\\n",
       "\t image\\_AD2    & 359\\\\\n",
       "\t image\\_Aging1 & 245\\\\\n",
       "\t image\\_Aging2 & 269\\\\\n",
       "\t image\\_Aging3 & 261\\\\\n",
       "\t image\\_Aging4 & 301\\\\\n",
       "\t image\\_Aging5 & 183\\\\\n",
       "\\end{tabular}\n"
      ],
      "text/markdown": [
       "\n",
       "A tibble: 7 × 2\n",
       "\n",
       "| colocalized_outcomes &lt;chr&gt; | cos_variant_in_xqtl_count &lt;int&gt; |\n",
       "|---|---|\n",
       "| image_AD1    | 316 |\n",
       "| image_AD2    | 359 |\n",
       "| image_Aging1 | 245 |\n",
       "| image_Aging2 | 269 |\n",
       "| image_Aging3 | 261 |\n",
       "| image_Aging4 | 301 |\n",
       "| image_Aging5 | 183 |\n",
       "\n"
      ],
      "text/plain": [
       "  colocalized_outcomes cos_variant_in_xqtl_count\n",
       "1 image_AD1            316                      \n",
       "2 image_AD2            359                      \n",
       "3 image_Aging1         245                      \n",
       "4 image_Aging2         269                      \n",
       "5 image_Aging3         261                      \n",
       "6 image_Aging4         301                      \n",
       "7 image_Aging5         183                      "
      ]
     },
     "metadata": {},
     "output_type": "display_data"
    }
   ],
   "source": [
    "cos_var_overlapped_by_outcomes = overlapped_cos_xqtl |> group_by(colocalized_outcomes) |> summarize(cos_variant_in_xqtl_count = n_distinct(colocalized_variables))\n",
    "cos_var_overlapped_by_outcomes"
   ]
  },
  {
   "cell_type": "code",
   "execution_count": 75,
   "id": "6801090c-b2f9-4059-b764-b505be4248b8",
   "metadata": {},
   "outputs": [
    {
     "data": {
      "text/html": [
       "<table class=\"dataframe\">\n",
       "<caption>A tibble: 7 × 4</caption>\n",
       "<thead>\n",
       "\t<tr><th scope=col>colocalized_outcomes</th><th scope=col>cos_variant_count</th><th scope=col>cos_variant_in_xqtl_count</th><th scope=col>percent_overlap</th></tr>\n",
       "\t<tr><th scope=col>&lt;chr&gt;</th><th scope=col>&lt;int&gt;</th><th scope=col>&lt;int&gt;</th><th scope=col>&lt;dbl&gt;</th></tr>\n",
       "</thead>\n",
       "<tbody>\n",
       "\t<tr><td>image_AD1   </td><td>752</td><td>316</td><td>42.02128</td></tr>\n",
       "\t<tr><td>image_AD2   </td><td>630</td><td>359</td><td>56.98413</td></tr>\n",
       "\t<tr><td>image_Aging1</td><td>429</td><td>245</td><td>57.10956</td></tr>\n",
       "\t<tr><td>image_Aging2</td><td>516</td><td>269</td><td>52.13178</td></tr>\n",
       "\t<tr><td>image_Aging3</td><td>713</td><td>261</td><td>36.60589</td></tr>\n",
       "\t<tr><td>image_Aging4</td><td>504</td><td>301</td><td>59.72222</td></tr>\n",
       "\t<tr><td>image_Aging5</td><td>291</td><td>183</td><td>62.88660</td></tr>\n",
       "</tbody>\n",
       "</table>\n"
      ],
      "text/latex": [
       "A tibble: 7 × 4\n",
       "\\begin{tabular}{llll}\n",
       " colocalized\\_outcomes & cos\\_variant\\_count & cos\\_variant\\_in\\_xqtl\\_count & percent\\_overlap\\\\\n",
       " <chr> & <int> & <int> & <dbl>\\\\\n",
       "\\hline\n",
       "\t image\\_AD1    & 752 & 316 & 42.02128\\\\\n",
       "\t image\\_AD2    & 630 & 359 & 56.98413\\\\\n",
       "\t image\\_Aging1 & 429 & 245 & 57.10956\\\\\n",
       "\t image\\_Aging2 & 516 & 269 & 52.13178\\\\\n",
       "\t image\\_Aging3 & 713 & 261 & 36.60589\\\\\n",
       "\t image\\_Aging4 & 504 & 301 & 59.72222\\\\\n",
       "\t image\\_Aging5 & 291 & 183 & 62.88660\\\\\n",
       "\\end{tabular}\n"
      ],
      "text/markdown": [
       "\n",
       "A tibble: 7 × 4\n",
       "\n",
       "| colocalized_outcomes &lt;chr&gt; | cos_variant_count &lt;int&gt; | cos_variant_in_xqtl_count &lt;int&gt; | percent_overlap &lt;dbl&gt; |\n",
       "|---|---|---|---|\n",
       "| image_AD1    | 752 | 316 | 42.02128 |\n",
       "| image_AD2    | 630 | 359 | 56.98413 |\n",
       "| image_Aging1 | 429 | 245 | 57.10956 |\n",
       "| image_Aging2 | 516 | 269 | 52.13178 |\n",
       "| image_Aging3 | 713 | 261 | 36.60589 |\n",
       "| image_Aging4 | 504 | 301 | 59.72222 |\n",
       "| image_Aging5 | 291 | 183 | 62.88660 |\n",
       "\n"
      ],
      "text/plain": [
       "  colocalized_outcomes cos_variant_count cos_variant_in_xqtl_count\n",
       "1 image_AD1            752               316                      \n",
       "2 image_AD2            630               359                      \n",
       "3 image_Aging1         429               245                      \n",
       "4 image_Aging2         516               269                      \n",
       "5 image_Aging3         713               261                      \n",
       "6 image_Aging4         504               301                      \n",
       "7 image_Aging5         291               183                      \n",
       "  percent_overlap\n",
       "1 42.02128       \n",
       "2 56.98413       \n",
       "3 57.10956       \n",
       "4 52.13178       \n",
       "5 36.60589       \n",
       "6 59.72222       \n",
       "7 62.88660       "
      ]
     },
     "metadata": {},
     "output_type": "display_data"
    }
   ],
   "source": [
    "heretability_explained= cos_var_by_outcomes |> inner_join(cos_var_overlapped_by_outcomes, by = 'colocalized_outcomes')\n",
    "\n",
    "# Add total columns and proportion\n",
    "heretability_explained <- heretability_explained %>%\n",
    "  mutate(\n",
    "    percent_overlap = (cos_variant_in_xqtl_count / cos_variant_count) * 100\n",
    "  )\n",
    "heretability_explained"
   ]
  },
  {
   "cell_type": "code",
   "execution_count": 54,
   "id": "f90003c3-add2-44cb-9603-7cd50161753f",
   "metadata": {},
   "outputs": [
    {
     "data": {
      "text/html": [
       "913"
      ],
      "text/latex": [
       "913"
      ],
      "text/markdown": [
       "913"
      ],
      "text/plain": [
       "[1] 913"
      ]
     },
     "metadata": {},
     "output_type": "display_data"
    }
   ],
   "source": [
    "overlapped_cos_xqtl_variant_id = overlapped_cos_xqtl |> count(colocalized_variables)\n",
    "nrow(overlapped_cos_xqtl_variant_id)"
   ]
  },
  {
   "cell_type": "code",
   "execution_count": 55,
   "id": "53d083ba-f611-4ac5-97bf-cfe242a1e0d1",
   "metadata": {},
   "outputs": [
    {
     "data": {
      "text/html": [
       "54.0236686390533"
      ],
      "text/latex": [
       "54.0236686390533"
      ],
      "text/markdown": [
       "54.0236686390533"
      ],
      "text/plain": [
       "[1] 54.02367"
      ]
     },
     "metadata": {},
     "output_type": "display_data"
    }
   ],
   "source": [
    "prop_cos = (nrow(overlapped_cos_xqtl_variant_id)/nrow(image_cos_variant_id)) * 100 \n",
    "prop_cos"
   ]
  },
  {
   "cell_type": "code",
   "execution_count": 53,
   "id": "29c723e8-22fc-4ff8-bd74-324d853ee9fe",
   "metadata": {},
   "outputs": [
    {
     "data": {
      "text/html": [
       "<table class=\"dataframe\">\n",
       "<caption>A data.frame: 6 × 13</caption>\n",
       "<thead>\n",
       "\t<tr><th></th><th scope=col>focal_outcome</th><th scope=col>colocalized_outcomes</th><th scope=col>cos_id</th><th scope=col>purity</th><th scope=col>top_variable</th><th scope=col>top_variable_vcp</th><th scope=col>cos_npc</th><th scope=col>min_npc_outcome</th><th scope=col>n_variables</th><th scope=col>colocalized_index</th><th scope=col>colocalized_variables</th><th scope=col>colocalized_variables_vcp</th><th scope=col>region_name</th></tr>\n",
       "\t<tr><th></th><th scope=col>&lt;lgl&gt;</th><th scope=col>&lt;chr&gt;</th><th scope=col>&lt;chr&gt;</th><th scope=col>&lt;dbl&gt;</th><th scope=col>&lt;chr&gt;</th><th scope=col>&lt;dbl&gt;</th><th scope=col>&lt;dbl&gt;</th><th scope=col>&lt;dbl&gt;</th><th scope=col>&lt;int&gt;</th><th scope=col>&lt;chr&gt;</th><th scope=col>&lt;chr&gt;</th><th scope=col>&lt;chr&gt;</th><th scope=col>&lt;chr&gt;</th></tr>\n",
       "</thead>\n",
       "<tbody>\n",
       "\t<tr><th scope=row>1</th><td>FALSE</td><td>image_Aging3</td><td>cos1:y5_y6</td><td>0.983809</td><td>chr1:214966544:A:T</td><td>0.5513787</td><td>1</td><td>1</td><td>3</td><td>2458</td><td>chr1:214966544:A:T</td><td>0.551378710143917</td><td>chr1_214114077_215979204</td></tr>\n",
       "\t<tr><th scope=row>2</th><td>FALSE</td><td>image_Aging3</td><td>cos1:y5_y6</td><td>0.983809</td><td>chr1:214966544:A:T</td><td>0.5513787</td><td>1</td><td>1</td><td>3</td><td>2451</td><td>chr1:214963879:A:C</td><td>0.308998228520772</td><td>chr1_214114077_215979204</td></tr>\n",
       "\t<tr><th scope=row>3</th><td>FALSE</td><td>image_Aging3</td><td>cos1:y5_y6</td><td>0.983809</td><td>chr1:214966544:A:T</td><td>0.5513787</td><td>1</td><td>1</td><td>3</td><td>2465</td><td>chr1:214968227:C:T</td><td>0.139518722010771</td><td>chr1_214114077_215979204</td></tr>\n",
       "\t<tr><th scope=row>4</th><td>FALSE</td><td>image_Aging4</td><td>cos1:y5_y6</td><td>0.983809</td><td>chr1:214966544:A:T</td><td>0.5513787</td><td>1</td><td>1</td><td>3</td><td>2458</td><td>chr1:214966544:A:T</td><td>0.551378710143917</td><td>chr1_214114077_215979204</td></tr>\n",
       "\t<tr><th scope=row>5</th><td>FALSE</td><td>image_Aging4</td><td>cos1:y5_y6</td><td>0.983809</td><td>chr1:214966544:A:T</td><td>0.5513787</td><td>1</td><td>1</td><td>3</td><td>2451</td><td>chr1:214963879:A:C</td><td>0.308998228520772</td><td>chr1_214114077_215979204</td></tr>\n",
       "\t<tr><th scope=row>6</th><td>FALSE</td><td>image_Aging4</td><td>cos1:y5_y6</td><td>0.983809</td><td>chr1:214966544:A:T</td><td>0.5513787</td><td>1</td><td>1</td><td>3</td><td>2465</td><td>chr1:214968227:C:T</td><td>0.139518722010771</td><td>chr1_214114077_215979204</td></tr>\n",
       "</tbody>\n",
       "</table>\n"
      ],
      "text/latex": [
       "A data.frame: 6 × 13\n",
       "\\begin{tabular}{r|lllllllllllll}\n",
       "  & focal\\_outcome & colocalized\\_outcomes & cos\\_id & purity & top\\_variable & top\\_variable\\_vcp & cos\\_npc & min\\_npc\\_outcome & n\\_variables & colocalized\\_index & colocalized\\_variables & colocalized\\_variables\\_vcp & region\\_name\\\\\n",
       "  & <lgl> & <chr> & <chr> & <dbl> & <chr> & <dbl> & <dbl> & <dbl> & <int> & <chr> & <chr> & <chr> & <chr>\\\\\n",
       "\\hline\n",
       "\t1 & FALSE & image\\_Aging3 & cos1:y5\\_y6 & 0.983809 & chr1:214966544:A:T & 0.5513787 & 1 & 1 & 3 & 2458 & chr1:214966544:A:T & 0.551378710143917 & chr1\\_214114077\\_215979204\\\\\n",
       "\t2 & FALSE & image\\_Aging3 & cos1:y5\\_y6 & 0.983809 & chr1:214966544:A:T & 0.5513787 & 1 & 1 & 3 & 2451 & chr1:214963879:A:C & 0.308998228520772 & chr1\\_214114077\\_215979204\\\\\n",
       "\t3 & FALSE & image\\_Aging3 & cos1:y5\\_y6 & 0.983809 & chr1:214966544:A:T & 0.5513787 & 1 & 1 & 3 & 2465 & chr1:214968227:C:T & 0.139518722010771 & chr1\\_214114077\\_215979204\\\\\n",
       "\t4 & FALSE & image\\_Aging4 & cos1:y5\\_y6 & 0.983809 & chr1:214966544:A:T & 0.5513787 & 1 & 1 & 3 & 2458 & chr1:214966544:A:T & 0.551378710143917 & chr1\\_214114077\\_215979204\\\\\n",
       "\t5 & FALSE & image\\_Aging4 & cos1:y5\\_y6 & 0.983809 & chr1:214966544:A:T & 0.5513787 & 1 & 1 & 3 & 2451 & chr1:214963879:A:C & 0.308998228520772 & chr1\\_214114077\\_215979204\\\\\n",
       "\t6 & FALSE & image\\_Aging4 & cos1:y5\\_y6 & 0.983809 & chr1:214966544:A:T & 0.5513787 & 1 & 1 & 3 & 2465 & chr1:214968227:C:T & 0.139518722010771 & chr1\\_214114077\\_215979204\\\\\n",
       "\\end{tabular}\n"
      ],
      "text/markdown": [
       "\n",
       "A data.frame: 6 × 13\n",
       "\n",
       "| <!--/--> | focal_outcome &lt;lgl&gt; | colocalized_outcomes &lt;chr&gt; | cos_id &lt;chr&gt; | purity &lt;dbl&gt; | top_variable &lt;chr&gt; | top_variable_vcp &lt;dbl&gt; | cos_npc &lt;dbl&gt; | min_npc_outcome &lt;dbl&gt; | n_variables &lt;int&gt; | colocalized_index &lt;chr&gt; | colocalized_variables &lt;chr&gt; | colocalized_variables_vcp &lt;chr&gt; | region_name &lt;chr&gt; |\n",
       "|---|---|---|---|---|---|---|---|---|---|---|---|---|---|\n",
       "| 1 | FALSE | image_Aging3 | cos1:y5_y6 | 0.983809 | chr1:214966544:A:T | 0.5513787 | 1 | 1 | 3 | 2458 | chr1:214966544:A:T | 0.551378710143917 | chr1_214114077_215979204 |\n",
       "| 2 | FALSE | image_Aging3 | cos1:y5_y6 | 0.983809 | chr1:214966544:A:T | 0.5513787 | 1 | 1 | 3 | 2451 | chr1:214963879:A:C | 0.308998228520772 | chr1_214114077_215979204 |\n",
       "| 3 | FALSE | image_Aging3 | cos1:y5_y6 | 0.983809 | chr1:214966544:A:T | 0.5513787 | 1 | 1 | 3 | 2465 | chr1:214968227:C:T | 0.139518722010771 | chr1_214114077_215979204 |\n",
       "| 4 | FALSE | image_Aging4 | cos1:y5_y6 | 0.983809 | chr1:214966544:A:T | 0.5513787 | 1 | 1 | 3 | 2458 | chr1:214966544:A:T | 0.551378710143917 | chr1_214114077_215979204 |\n",
       "| 5 | FALSE | image_Aging4 | cos1:y5_y6 | 0.983809 | chr1:214966544:A:T | 0.5513787 | 1 | 1 | 3 | 2451 | chr1:214963879:A:C | 0.308998228520772 | chr1_214114077_215979204 |\n",
       "| 6 | FALSE | image_Aging4 | cos1:y5_y6 | 0.983809 | chr1:214966544:A:T | 0.5513787 | 1 | 1 | 3 | 2465 | chr1:214968227:C:T | 0.139518722010771 | chr1_214114077_215979204 |\n",
       "\n"
      ],
      "text/plain": [
       "  focal_outcome colocalized_outcomes cos_id     purity   top_variable      \n",
       "1 FALSE         image_Aging3         cos1:y5_y6 0.983809 chr1:214966544:A:T\n",
       "2 FALSE         image_Aging3         cos1:y5_y6 0.983809 chr1:214966544:A:T\n",
       "3 FALSE         image_Aging3         cos1:y5_y6 0.983809 chr1:214966544:A:T\n",
       "4 FALSE         image_Aging4         cos1:y5_y6 0.983809 chr1:214966544:A:T\n",
       "5 FALSE         image_Aging4         cos1:y5_y6 0.983809 chr1:214966544:A:T\n",
       "6 FALSE         image_Aging4         cos1:y5_y6 0.983809 chr1:214966544:A:T\n",
       "  top_variable_vcp cos_npc min_npc_outcome n_variables colocalized_index\n",
       "1 0.5513787        1       1               3           2458             \n",
       "2 0.5513787        1       1               3           2451             \n",
       "3 0.5513787        1       1               3           2465             \n",
       "4 0.5513787        1       1               3           2458             \n",
       "5 0.5513787        1       1               3           2451             \n",
       "6 0.5513787        1       1               3           2465             \n",
       "  colocalized_variables colocalized_variables_vcp region_name             \n",
       "1 chr1:214966544:A:T    0.551378710143917         chr1_214114077_215979204\n",
       "2 chr1:214963879:A:C    0.308998228520772         chr1_214114077_215979204\n",
       "3 chr1:214968227:C:T    0.139518722010771         chr1_214114077_215979204\n",
       "4 chr1:214966544:A:T    0.551378710143917         chr1_214114077_215979204\n",
       "5 chr1:214963879:A:C    0.308998228520772         chr1_214114077_215979204\n",
       "6 chr1:214968227:C:T    0.139518722010771         chr1_214114077_215979204"
      ]
     },
     "metadata": {},
     "output_type": "display_data"
    },
    {
     "data": {
      "text/html": [
       "<style>\n",
       ".list-inline {list-style: none; margin:0; padding: 0}\n",
       ".list-inline>li {display: inline-block}\n",
       ".list-inline>li:not(:last-child)::after {content: \"\\00b7\"; padding: 0 .5ex}\n",
       "</style>\n",
       "<ol class=list-inline><li>3835</li><li>13</li></ol>\n"
      ],
      "text/latex": [
       "\\begin{enumerate*}\n",
       "\\item 3835\n",
       "\\item 13\n",
       "\\end{enumerate*}\n"
      ],
      "text/markdown": [
       "1. 3835\n",
       "2. 13\n",
       "\n",
       "\n"
      ],
      "text/plain": [
       "[1] 3835   13"
      ]
     },
     "metadata": {},
     "output_type": "display_data"
    }
   ],
   "source": [
    "head(cos_top_loci)\n",
    "dim(cos_top_loci)"
   ]
  },
  {
   "cell_type": "code",
   "execution_count": 56,
   "id": "4c8b705d-a733-4641-9ebe-6ca8164ea78c",
   "metadata": {},
   "outputs": [
    {
     "name": "stderr",
     "output_type": "stream",
     "text": [
      "Warning message in inner_join(cos_top_loci, combined_data, by = c(colocalized_variables = \"variant_ID\")):\n",
      "“\u001b[1m\u001b[22mDetected an unexpected many-to-many relationship between `x` and `y`.\n",
      "\u001b[36mℹ\u001b[39m Row 7 of `x` matches multiple rows in `y`.\n",
      "\u001b[36mℹ\u001b[39m Row 117223 of `y` matches multiple rows in `x`.\n",
      "\u001b[36mℹ\u001b[39m If a many-to-many relationship is expected, set `relationship =\n",
      "  \"many-to-many\"` to silence this warning.”\n"
     ]
    }
   ],
   "source": [
    "overlapped_cos_xqtl = cos_top_loci |> inner_join(combined_data, by = c(\"colocalized_variables\" = \"variant_ID\"))"
   ]
  },
  {
   "cell_type": "code",
   "execution_count": 57,
   "id": "544775c9-1717-423f-a686-9248aad6e615",
   "metadata": {},
   "outputs": [
    {
     "data": {
      "text/html": [
       "<table class=\"dataframe\">\n",
       "<caption>A data.frame: 6 × 29</caption>\n",
       "<thead>\n",
       "\t<tr><th></th><th scope=col>focal_outcome</th><th scope=col>colocalized_outcomes</th><th scope=col>cos_id</th><th scope=col>purity</th><th scope=col>top_variable</th><th scope=col>top_variable_vcp</th><th scope=col>cos_npc</th><th scope=col>min_npc_outcome</th><th scope=col>n_variables</th><th scope=col>colocalized_index</th><th scope=col>⋯</th><th scope=col>event_ID</th><th scope=col>cs_coverage_0.95</th><th scope=col>cs_coverage_0.7</th><th scope=col>cs_coverage_0.5</th><th scope=col>PIP</th><th scope=col>conditional_effect</th><th scope=col>Cohort</th><th scope=col>Data_Type</th><th scope=col>Modality</th><th scope=col>Cohort_Data_Type_Modality</th></tr>\n",
       "\t<tr><th></th><th scope=col>&lt;lgl&gt;</th><th scope=col>&lt;chr&gt;</th><th scope=col>&lt;chr&gt;</th><th scope=col>&lt;dbl&gt;</th><th scope=col>&lt;chr&gt;</th><th scope=col>&lt;dbl&gt;</th><th scope=col>&lt;dbl&gt;</th><th scope=col>&lt;dbl&gt;</th><th scope=col>&lt;int&gt;</th><th scope=col>&lt;chr&gt;</th><th scope=col>⋯</th><th scope=col>&lt;chr&gt;</th><th scope=col>&lt;dbl&gt;</th><th scope=col>&lt;dbl&gt;</th><th scope=col>&lt;dbl&gt;</th><th scope=col>&lt;dbl&gt;</th><th scope=col>&lt;dbl&gt;</th><th scope=col>&lt;chr&gt;</th><th scope=col>&lt;chr&gt;</th><th scope=col>&lt;chr&gt;</th><th scope=col>&lt;chr&gt;</th></tr>\n",
       "</thead>\n",
       "<tbody>\n",
       "\t<tr><th scope=row>1</th><td>FALSE</td><td>image_AD2</td><td>cos1:y1_y5</td><td>0.969915</td><td>chr1:236262657:G:A</td><td>0.01486987</td><td>0.9712</td><td>0.9712</td><td>92</td><td>1340</td><td>⋯</td><td>BM_10_MSBB_eQTL_ENSG00000086619                                </td><td>4</td><td>0</td><td>0</td><td>0.003289419</td><td> 0.1484225</td><td>MSBB     </td><td>eQTL</td><td>BM_10       </td><td>MSBB_eQTL_BM_10            </td></tr>\n",
       "\t<tr><th scope=row>2</th><td>FALSE</td><td>image_AD2</td><td>cos1:y1_y5</td><td>0.969915</td><td>chr1:236262657:G:A</td><td>0.01486987</td><td>0.9712</td><td>0.9712</td><td>92</td><td>1340</td><td>⋯</td><td>Metabrain_Basalganglia_chr1_235215101_237720000_ENSG00000086619</td><td>1</td><td>0</td><td>0</td><td>0.006603109</td><td>        NA</td><td>MetaBrain</td><td>eQTL</td><td>Basalganglia</td><td>MetaBrain_eQTL_Basalganglia</td></tr>\n",
       "\t<tr><th scope=row>3</th><td>FALSE</td><td>image_AD2</td><td>cos1:y1_y5</td><td>0.969915</td><td>chr1:236262657:G:A</td><td>0.01486987</td><td>0.9712</td><td>0.9712</td><td>92</td><td>1340</td><td>⋯</td><td>Inh_Kellis_eQTL_ENSG00000086619                                </td><td>1</td><td>0</td><td>0</td><td>0.006090808</td><td>-0.3649705</td><td>ROSMAP   </td><td>eQTL</td><td>Inh_Kellis  </td><td>ROSMAP_eQTL_Inh_Kellis     </td></tr>\n",
       "\t<tr><th scope=row>4</th><td>FALSE</td><td>image_AD2</td><td>cos1:y1_y5</td><td>0.969915</td><td>chr1:236262657:G:A</td><td>0.01486987</td><td>0.9712</td><td>0.9712</td><td>92</td><td>1340</td><td>⋯</td><td>Inh_mega_eQTL_ENSG00000086619                                  </td><td>1</td><td>1</td><td>1</td><td>0.009736795</td><td>-0.2968699</td><td>ROSMAP   </td><td>eQTL</td><td>Inh_mega    </td><td>ROSMAP_eQTL_Inh_mega       </td></tr>\n",
       "\t<tr><th scope=row>5</th><td>FALSE</td><td>image_AD2</td><td>cos1:y1_y5</td><td>0.969915</td><td>chr1:236262657:G:A</td><td>0.01486987</td><td>0.9712</td><td>0.9712</td><td>92</td><td>1340</td><td>⋯</td><td>PCC_DeJager_eQTL_ENSG00000086619                               </td><td>2</td><td>0</td><td>0</td><td>0.005950944</td><td> 0.3360740</td><td>ROSMAP   </td><td>eQTL</td><td>PCC         </td><td>ROSMAP_eQTL_PCC            </td></tr>\n",
       "\t<tr><th scope=row>6</th><td>FALSE</td><td>image_AD2</td><td>cos1:y1_y5</td><td>0.969915</td><td>chr1:236262657:G:A</td><td>0.01486987</td><td>0.9712</td><td>0.9712</td><td>92</td><td>1340</td><td>⋯</td><td>STARNET_eQTL_Mac_ENSG00000086619                               </td><td>2</td><td>0</td><td>0</td><td>0.014579373</td><td> 0.3150701</td><td>STARNET  </td><td>eQTL</td><td>Mac         </td><td>STARNET_eQTL_Mac           </td></tr>\n",
       "</tbody>\n",
       "</table>\n"
      ],
      "text/latex": [
       "A data.frame: 6 × 29\n",
       "\\begin{tabular}{r|lllllllllllllllllllll}\n",
       "  & focal\\_outcome & colocalized\\_outcomes & cos\\_id & purity & top\\_variable & top\\_variable\\_vcp & cos\\_npc & min\\_npc\\_outcome & n\\_variables & colocalized\\_index & ⋯ & event\\_ID & cs\\_coverage\\_0.95 & cs\\_coverage\\_0.7 & cs\\_coverage\\_0.5 & PIP & conditional\\_effect & Cohort & Data\\_Type & Modality & Cohort\\_Data\\_Type\\_Modality\\\\\n",
       "  & <lgl> & <chr> & <chr> & <dbl> & <chr> & <dbl> & <dbl> & <dbl> & <int> & <chr> & ⋯ & <chr> & <dbl> & <dbl> & <dbl> & <dbl> & <dbl> & <chr> & <chr> & <chr> & <chr>\\\\\n",
       "\\hline\n",
       "\t1 & FALSE & image\\_AD2 & cos1:y1\\_y5 & 0.969915 & chr1:236262657:G:A & 0.01486987 & 0.9712 & 0.9712 & 92 & 1340 & ⋯ & BM\\_10\\_MSBB\\_eQTL\\_ENSG00000086619                                 & 4 & 0 & 0 & 0.003289419 &  0.1484225 & MSBB      & eQTL & BM\\_10        & MSBB\\_eQTL\\_BM\\_10            \\\\\n",
       "\t2 & FALSE & image\\_AD2 & cos1:y1\\_y5 & 0.969915 & chr1:236262657:G:A & 0.01486987 & 0.9712 & 0.9712 & 92 & 1340 & ⋯ & Metabrain\\_Basalganglia\\_chr1\\_235215101\\_237720000\\_ENSG00000086619 & 1 & 0 & 0 & 0.006603109 &         NA & MetaBrain & eQTL & Basalganglia & MetaBrain\\_eQTL\\_Basalganglia\\\\\n",
       "\t3 & FALSE & image\\_AD2 & cos1:y1\\_y5 & 0.969915 & chr1:236262657:G:A & 0.01486987 & 0.9712 & 0.9712 & 92 & 1340 & ⋯ & Inh\\_Kellis\\_eQTL\\_ENSG00000086619                                 & 1 & 0 & 0 & 0.006090808 & -0.3649705 & ROSMAP    & eQTL & Inh\\_Kellis   & ROSMAP\\_eQTL\\_Inh\\_Kellis     \\\\\n",
       "\t4 & FALSE & image\\_AD2 & cos1:y1\\_y5 & 0.969915 & chr1:236262657:G:A & 0.01486987 & 0.9712 & 0.9712 & 92 & 1340 & ⋯ & Inh\\_mega\\_eQTL\\_ENSG00000086619                                   & 1 & 1 & 1 & 0.009736795 & -0.2968699 & ROSMAP    & eQTL & Inh\\_mega     & ROSMAP\\_eQTL\\_Inh\\_mega       \\\\\n",
       "\t5 & FALSE & image\\_AD2 & cos1:y1\\_y5 & 0.969915 & chr1:236262657:G:A & 0.01486987 & 0.9712 & 0.9712 & 92 & 1340 & ⋯ & PCC\\_DeJager\\_eQTL\\_ENSG00000086619                                & 2 & 0 & 0 & 0.005950944 &  0.3360740 & ROSMAP    & eQTL & PCC          & ROSMAP\\_eQTL\\_PCC            \\\\\n",
       "\t6 & FALSE & image\\_AD2 & cos1:y1\\_y5 & 0.969915 & chr1:236262657:G:A & 0.01486987 & 0.9712 & 0.9712 & 92 & 1340 & ⋯ & STARNET\\_eQTL\\_Mac\\_ENSG00000086619                                & 2 & 0 & 0 & 0.014579373 &  0.3150701 & STARNET   & eQTL & Mac          & STARNET\\_eQTL\\_Mac           \\\\\n",
       "\\end{tabular}\n"
      ],
      "text/markdown": [
       "\n",
       "A data.frame: 6 × 29\n",
       "\n",
       "| <!--/--> | focal_outcome &lt;lgl&gt; | colocalized_outcomes &lt;chr&gt; | cos_id &lt;chr&gt; | purity &lt;dbl&gt; | top_variable &lt;chr&gt; | top_variable_vcp &lt;dbl&gt; | cos_npc &lt;dbl&gt; | min_npc_outcome &lt;dbl&gt; | n_variables &lt;int&gt; | colocalized_index &lt;chr&gt; | ⋯ ⋯ | event_ID &lt;chr&gt; | cs_coverage_0.95 &lt;dbl&gt; | cs_coverage_0.7 &lt;dbl&gt; | cs_coverage_0.5 &lt;dbl&gt; | PIP &lt;dbl&gt; | conditional_effect &lt;dbl&gt; | Cohort &lt;chr&gt; | Data_Type &lt;chr&gt; | Modality &lt;chr&gt; | Cohort_Data_Type_Modality &lt;chr&gt; |\n",
       "|---|---|---|---|---|---|---|---|---|---|---|---|---|---|---|---|---|---|---|---|---|---|\n",
       "| 1 | FALSE | image_AD2 | cos1:y1_y5 | 0.969915 | chr1:236262657:G:A | 0.01486987 | 0.9712 | 0.9712 | 92 | 1340 | ⋯ | BM_10_MSBB_eQTL_ENSG00000086619                                 | 4 | 0 | 0 | 0.003289419 |  0.1484225 | MSBB      | eQTL | BM_10        | MSBB_eQTL_BM_10             |\n",
       "| 2 | FALSE | image_AD2 | cos1:y1_y5 | 0.969915 | chr1:236262657:G:A | 0.01486987 | 0.9712 | 0.9712 | 92 | 1340 | ⋯ | Metabrain_Basalganglia_chr1_235215101_237720000_ENSG00000086619 | 1 | 0 | 0 | 0.006603109 |         NA | MetaBrain | eQTL | Basalganglia | MetaBrain_eQTL_Basalganglia |\n",
       "| 3 | FALSE | image_AD2 | cos1:y1_y5 | 0.969915 | chr1:236262657:G:A | 0.01486987 | 0.9712 | 0.9712 | 92 | 1340 | ⋯ | Inh_Kellis_eQTL_ENSG00000086619                                 | 1 | 0 | 0 | 0.006090808 | -0.3649705 | ROSMAP    | eQTL | Inh_Kellis   | ROSMAP_eQTL_Inh_Kellis      |\n",
       "| 4 | FALSE | image_AD2 | cos1:y1_y5 | 0.969915 | chr1:236262657:G:A | 0.01486987 | 0.9712 | 0.9712 | 92 | 1340 | ⋯ | Inh_mega_eQTL_ENSG00000086619                                   | 1 | 1 | 1 | 0.009736795 | -0.2968699 | ROSMAP    | eQTL | Inh_mega     | ROSMAP_eQTL_Inh_mega        |\n",
       "| 5 | FALSE | image_AD2 | cos1:y1_y5 | 0.969915 | chr1:236262657:G:A | 0.01486987 | 0.9712 | 0.9712 | 92 | 1340 | ⋯ | PCC_DeJager_eQTL_ENSG00000086619                                | 2 | 0 | 0 | 0.005950944 |  0.3360740 | ROSMAP    | eQTL | PCC          | ROSMAP_eQTL_PCC             |\n",
       "| 6 | FALSE | image_AD2 | cos1:y1_y5 | 0.969915 | chr1:236262657:G:A | 0.01486987 | 0.9712 | 0.9712 | 92 | 1340 | ⋯ | STARNET_eQTL_Mac_ENSG00000086619                                | 2 | 0 | 0 | 0.014579373 |  0.3150701 | STARNET   | eQTL | Mac          | STARNET_eQTL_Mac            |\n",
       "\n"
      ],
      "text/plain": [
       "  focal_outcome colocalized_outcomes cos_id     purity   top_variable      \n",
       "1 FALSE         image_AD2            cos1:y1_y5 0.969915 chr1:236262657:G:A\n",
       "2 FALSE         image_AD2            cos1:y1_y5 0.969915 chr1:236262657:G:A\n",
       "3 FALSE         image_AD2            cos1:y1_y5 0.969915 chr1:236262657:G:A\n",
       "4 FALSE         image_AD2            cos1:y1_y5 0.969915 chr1:236262657:G:A\n",
       "5 FALSE         image_AD2            cos1:y1_y5 0.969915 chr1:236262657:G:A\n",
       "6 FALSE         image_AD2            cos1:y1_y5 0.969915 chr1:236262657:G:A\n",
       "  top_variable_vcp cos_npc min_npc_outcome n_variables colocalized_index ⋯\n",
       "1 0.01486987       0.9712  0.9712          92          1340              ⋯\n",
       "2 0.01486987       0.9712  0.9712          92          1340              ⋯\n",
       "3 0.01486987       0.9712  0.9712          92          1340              ⋯\n",
       "4 0.01486987       0.9712  0.9712          92          1340              ⋯\n",
       "5 0.01486987       0.9712  0.9712          92          1340              ⋯\n",
       "6 0.01486987       0.9712  0.9712          92          1340              ⋯\n",
       "  event_ID                                                       \n",
       "1 BM_10_MSBB_eQTL_ENSG00000086619                                \n",
       "2 Metabrain_Basalganglia_chr1_235215101_237720000_ENSG00000086619\n",
       "3 Inh_Kellis_eQTL_ENSG00000086619                                \n",
       "4 Inh_mega_eQTL_ENSG00000086619                                  \n",
       "5 PCC_DeJager_eQTL_ENSG00000086619                               \n",
       "6 STARNET_eQTL_Mac_ENSG00000086619                               \n",
       "  cs_coverage_0.95 cs_coverage_0.7 cs_coverage_0.5 PIP        \n",
       "1 4                0               0               0.003289419\n",
       "2 1                0               0               0.006603109\n",
       "3 1                0               0               0.006090808\n",
       "4 1                1               1               0.009736795\n",
       "5 2                0               0               0.005950944\n",
       "6 2                0               0               0.014579373\n",
       "  conditional_effect Cohort    Data_Type Modality    \n",
       "1  0.1484225         MSBB      eQTL      BM_10       \n",
       "2         NA         MetaBrain eQTL      Basalganglia\n",
       "3 -0.3649705         ROSMAP    eQTL      Inh_Kellis  \n",
       "4 -0.2968699         ROSMAP    eQTL      Inh_mega    \n",
       "5  0.3360740         ROSMAP    eQTL      PCC         \n",
       "6  0.3150701         STARNET   eQTL      Mac         \n",
       "  Cohort_Data_Type_Modality  \n",
       "1 MSBB_eQTL_BM_10            \n",
       "2 MetaBrain_eQTL_Basalganglia\n",
       "3 ROSMAP_eQTL_Inh_Kellis     \n",
       "4 ROSMAP_eQTL_Inh_mega       \n",
       "5 ROSMAP_eQTL_PCC            \n",
       "6 STARNET_eQTL_Mac           "
      ]
     },
     "metadata": {},
     "output_type": "display_data"
    },
    {
     "data": {
      "text/html": [
       "<style>\n",
       ".list-inline {list-style: none; margin:0; padding: 0}\n",
       ".list-inline>li {display: inline-block}\n",
       ".list-inline>li:not(:last-child)::after {content: \"\\00b7\"; padding: 0 .5ex}\n",
       "</style>\n",
       "<ol class=list-inline><li>12600</li><li>29</li></ol>\n"
      ],
      "text/latex": [
       "\\begin{enumerate*}\n",
       "\\item 12600\n",
       "\\item 29\n",
       "\\end{enumerate*}\n"
      ],
      "text/markdown": [
       "1. 12600\n",
       "2. 29\n",
       "\n",
       "\n"
      ],
      "text/plain": [
       "[1] 12600    29"
      ]
     },
     "metadata": {},
     "output_type": "display_data"
    }
   ],
   "source": [
    "head(overlapped_cos_xqtl)\n",
    "dim(overlapped_cos_xqtl)"
   ]
  },
  {
   "cell_type": "code",
   "execution_count": 60,
   "id": "fa0bc8ab-dfe5-4332-b3dd-5edc580f75c1",
   "metadata": {},
   "outputs": [],
   "source": [
    "sig_cos_gene = overlapped_cos_xqtl |> count(gene_ID,colocalized_outcomes)"
   ]
  },
  {
   "cell_type": "code",
   "execution_count": 62,
   "id": "281b95b4-26e8-407e-b69c-ba27baf5e1bc",
   "metadata": {},
   "outputs": [],
   "source": [
    "#fwrite(sig_cos_gene, \"overlapped_cos_sig_xqtl.txt\", sep = \"\\t\")"
   ]
  },
  {
   "cell_type": "code",
   "execution_count": null,
   "id": "98da6dbc-8e8a-467e-8c44-5c48aa4809ce",
   "metadata": {},
   "outputs": [],
   "source": [
    "## Annotate the gene list positions based on our v103 genomic reference\n",
    "!sos run xqtl-protocol/code/data_preprocessing/phenotype/gene_annotation.ipynb annotate_coord \\\n",
    "    --cwd project/image_QTL/cb_varisnts_explained_by_xQTL \\\n",
    "    --phenoFile overlapped_cos_sig_xqtl.txt \\\n",
    "    --phenotype-id-column gene_id \\\n",
    "    --molecular-trait-type gene \\\n",
    "    --coordinate-annotation data/resource/references/Homo_sapiens.GRCh38.103.chr.reformatted.collapse_only.gene.ERCC.gtf"
   ]
  },
  {
   "cell_type": "code",
   "execution_count": 77,
   "id": "0930a78c-2e96-465f-bc6d-0a960bc97b96",
   "metadata": {},
   "outputs": [],
   "source": [
    "annotated_cos_sig_gene = fread(\"project/image_QTL/cb_varisnts_explained_by_xQTL/overlapped_cos_sig_xqtl.gene_list.tsv\")"
   ]
  },
  {
   "cell_type": "code",
   "execution_count": 80,
   "id": "51d79219-1587-4bee-bb1c-0a65ddc252c3",
   "metadata": {},
   "outputs": [
    {
     "data": {
      "text/html": [
       "<table class=\"dataframe\">\n",
       "<caption>A data.frame: 6 × 3</caption>\n",
       "<thead>\n",
       "\t<tr><th></th><th scope=col>gene_ID</th><th scope=col>colocalized_outcomes</th><th scope=col>n</th></tr>\n",
       "\t<tr><th></th><th scope=col>&lt;chr&gt;</th><th scope=col>&lt;chr&gt;</th><th scope=col>&lt;int&gt;</th></tr>\n",
       "</thead>\n",
       "<tbody>\n",
       "\t<tr><th scope=row>1</th><td>ENSG00000038427</td><td>image_AD2   </td><td>16</td></tr>\n",
       "\t<tr><th scope=row>2</th><td>ENSG00000038427</td><td>image_Aging2</td><td>16</td></tr>\n",
       "\t<tr><th scope=row>3</th><td>ENSG00000062485</td><td>image_AD2   </td><td>57</td></tr>\n",
       "\t<tr><th scope=row>4</th><td>ENSG00000062485</td><td>image_Aging4</td><td>57</td></tr>\n",
       "\t<tr><th scope=row>5</th><td>ENSG00000069020</td><td>image_AD2   </td><td>27</td></tr>\n",
       "\t<tr><th scope=row>6</th><td>ENSG00000069020</td><td>image_Aging2</td><td>27</td></tr>\n",
       "</tbody>\n",
       "</table>\n"
      ],
      "text/latex": [
       "A data.frame: 6 × 3\n",
       "\\begin{tabular}{r|lll}\n",
       "  & gene\\_ID & colocalized\\_outcomes & n\\\\\n",
       "  & <chr> & <chr> & <int>\\\\\n",
       "\\hline\n",
       "\t1 & ENSG00000038427 & image\\_AD2    & 16\\\\\n",
       "\t2 & ENSG00000038427 & image\\_Aging2 & 16\\\\\n",
       "\t3 & ENSG00000062485 & image\\_AD2    & 57\\\\\n",
       "\t4 & ENSG00000062485 & image\\_Aging4 & 57\\\\\n",
       "\t5 & ENSG00000069020 & image\\_AD2    & 27\\\\\n",
       "\t6 & ENSG00000069020 & image\\_Aging2 & 27\\\\\n",
       "\\end{tabular}\n"
      ],
      "text/markdown": [
       "\n",
       "A data.frame: 6 × 3\n",
       "\n",
       "| <!--/--> | gene_ID &lt;chr&gt; | colocalized_outcomes &lt;chr&gt; | n &lt;int&gt; |\n",
       "|---|---|---|---|\n",
       "| 1 | ENSG00000038427 | image_AD2    | 16 |\n",
       "| 2 | ENSG00000038427 | image_Aging2 | 16 |\n",
       "| 3 | ENSG00000062485 | image_AD2    | 57 |\n",
       "| 4 | ENSG00000062485 | image_Aging4 | 57 |\n",
       "| 5 | ENSG00000069020 | image_AD2    | 27 |\n",
       "| 6 | ENSG00000069020 | image_Aging2 | 27 |\n",
       "\n"
      ],
      "text/plain": [
       "  gene_ID         colocalized_outcomes n \n",
       "1 ENSG00000038427 image_AD2            16\n",
       "2 ENSG00000038427 image_Aging2         16\n",
       "3 ENSG00000062485 image_AD2            57\n",
       "4 ENSG00000062485 image_Aging4         57\n",
       "5 ENSG00000069020 image_AD2            27\n",
       "6 ENSG00000069020 image_Aging2         27"
      ]
     },
     "metadata": {},
     "output_type": "display_data"
    },
    {
     "data": {
      "text/html": [
       "<table class=\"dataframe\">\n",
       "<caption>A data.table: 6 × 6</caption>\n",
       "<thead>\n",
       "\t<tr><th scope=col>#chr</th><th scope=col>start</th><th scope=col>end</th><th scope=col>gene_id</th><th scope=col>strand</th><th scope=col>gene_name</th></tr>\n",
       "\t<tr><th scope=col>&lt;chr&gt;</th><th scope=col>&lt;int&gt;</th><th scope=col>&lt;int&gt;</th><th scope=col>&lt;chr&gt;</th><th scope=col>&lt;chr&gt;</th><th scope=col>&lt;chr&gt;</th></tr>\n",
       "</thead>\n",
       "<tbody>\n",
       "\t<tr><td>chr1</td><td>236215100</td><td>236281957</td><td>ENSG00000086619</td><td>-</td><td>ERO1B </td></tr>\n",
       "\t<tr><td>chr2</td><td>234493040</td><td>234497080</td><td>ENSG00000188042</td><td>-</td><td>ARL4C </td></tr>\n",
       "\t<tr><td>chr3</td><td> 46921725</td><td> 46982009</td><td>ENSG00000160799</td><td>-</td><td>CCDC12</td></tr>\n",
       "\t<tr><td>chr3</td><td> 46979665</td><td> 47009703</td><td>ENSG00000160796</td><td>+</td><td>NBEAL2</td></tr>\n",
       "\t<tr><td>chr3</td><td> 47413680</td><td> 47477125</td><td>ENSG00000114650</td><td>-</td><td>SCAP  </td></tr>\n",
       "\t<tr><td>chr3</td><td> 47495639</td><td> 47513711</td><td>ENSG00000163832</td><td>-</td><td>ELP6  </td></tr>\n",
       "</tbody>\n",
       "</table>\n"
      ],
      "text/latex": [
       "A data.table: 6 × 6\n",
       "\\begin{tabular}{llllll}\n",
       " \\#chr & start & end & gene\\_id & strand & gene\\_name\\\\\n",
       " <chr> & <int> & <int> & <chr> & <chr> & <chr>\\\\\n",
       "\\hline\n",
       "\t chr1 & 236215100 & 236281957 & ENSG00000086619 & - & ERO1B \\\\\n",
       "\t chr2 & 234493040 & 234497080 & ENSG00000188042 & - & ARL4C \\\\\n",
       "\t chr3 &  46921725 &  46982009 & ENSG00000160799 & - & CCDC12\\\\\n",
       "\t chr3 &  46979665 &  47009703 & ENSG00000160796 & + & NBEAL2\\\\\n",
       "\t chr3 &  47413680 &  47477125 & ENSG00000114650 & - & SCAP  \\\\\n",
       "\t chr3 &  47495639 &  47513711 & ENSG00000163832 & - & ELP6  \\\\\n",
       "\\end{tabular}\n"
      ],
      "text/markdown": [
       "\n",
       "A data.table: 6 × 6\n",
       "\n",
       "| #chr &lt;chr&gt; | start &lt;int&gt; | end &lt;int&gt; | gene_id &lt;chr&gt; | strand &lt;chr&gt; | gene_name &lt;chr&gt; |\n",
       "|---|---|---|---|---|---|\n",
       "| chr1 | 236215100 | 236281957 | ENSG00000086619 | - | ERO1B  |\n",
       "| chr2 | 234493040 | 234497080 | ENSG00000188042 | - | ARL4C  |\n",
       "| chr3 |  46921725 |  46982009 | ENSG00000160799 | - | CCDC12 |\n",
       "| chr3 |  46979665 |  47009703 | ENSG00000160796 | + | NBEAL2 |\n",
       "| chr3 |  47413680 |  47477125 | ENSG00000114650 | - | SCAP   |\n",
       "| chr3 |  47495639 |  47513711 | ENSG00000163832 | - | ELP6   |\n",
       "\n"
      ],
      "text/plain": [
       "  #chr start     end       gene_id         strand gene_name\n",
       "1 chr1 236215100 236281957 ENSG00000086619 -      ERO1B    \n",
       "2 chr2 234493040 234497080 ENSG00000188042 -      ARL4C    \n",
       "3 chr3  46921725  46982009 ENSG00000160799 -      CCDC12   \n",
       "4 chr3  46979665  47009703 ENSG00000160796 +      NBEAL2   \n",
       "5 chr3  47413680  47477125 ENSG00000114650 -      SCAP     \n",
       "6 chr3  47495639  47513711 ENSG00000163832 -      ELP6     "
      ]
     },
     "metadata": {},
     "output_type": "display_data"
    }
   ],
   "source": [
    "head(sig_cos_gene)\n",
    "head(annotated_cos_sig_gene)\n"
   ]
  },
  {
   "cell_type": "code",
   "execution_count": 81,
   "id": "f040160c-aa2a-4f71-a11f-96c4810501bf",
   "metadata": {},
   "outputs": [],
   "source": [
    "annotated_cos_sig_gene <- annotated_cos_sig_gene |> \n",
    "  inner_join(sig_cos_gene, by = c(\"gene_id\" = \"gene_ID\"))"
   ]
  },
  {
   "cell_type": "code",
   "execution_count": 82,
   "id": "e2ed45d2-d95f-417c-a629-aedc0780f383",
   "metadata": {},
   "outputs": [],
   "source": [
    "fwrite(annotated_cos_sig_gene, \"annotated_overlapped_cos_sig_xqtl.tsv\", sep = \"\\t\")"
   ]
  },
  {
   "cell_type": "code",
   "execution_count": null,
   "id": "4efab0f9-647b-4976-a2b5-1fbc8ea661a3",
   "metadata": {},
   "outputs": [],
   "source": []
  },
  {
   "cell_type": "markdown",
   "id": "ebc7ac33-76da-41ed-94d5-b47b2d251b9c",
   "metadata": {},
   "source": [
    "### Variant union CoS and uCoS"
   ]
  },
  {
   "cell_type": "code",
   "execution_count": 78,
   "id": "15a718dc-4797-4031-af11-9da381ae402b",
   "metadata": {},
   "outputs": [
    {
     "data": {
      "text/html": [
       "<table class=\"dataframe\">\n",
       "<caption>A data.frame: 6 × 13</caption>\n",
       "<thead>\n",
       "\t<tr><th></th><th scope=col>focal_outcome</th><th scope=col>colocalized_outcomes</th><th scope=col>cos_id</th><th scope=col>purity</th><th scope=col>top_variable</th><th scope=col>top_variable_vcp</th><th scope=col>cos_npc</th><th scope=col>min_npc_outcome</th><th scope=col>n_variables</th><th scope=col>colocalized_index</th><th scope=col>colocalized_variables</th><th scope=col>colocalized_variables_vcp</th><th scope=col>region_name</th></tr>\n",
       "\t<tr><th></th><th scope=col>&lt;lgl&gt;</th><th scope=col>&lt;chr&gt;</th><th scope=col>&lt;chr&gt;</th><th scope=col>&lt;dbl&gt;</th><th scope=col>&lt;chr&gt;</th><th scope=col>&lt;dbl&gt;</th><th scope=col>&lt;dbl&gt;</th><th scope=col>&lt;dbl&gt;</th><th scope=col>&lt;int&gt;</th><th scope=col>&lt;chr&gt;</th><th scope=col>&lt;chr&gt;</th><th scope=col>&lt;chr&gt;</th><th scope=col>&lt;chr&gt;</th></tr>\n",
       "</thead>\n",
       "<tbody>\n",
       "\t<tr><th scope=row>1</th><td>FALSE</td><td>image_Aging3</td><td>cos1:y5_y6</td><td>0.983809</td><td>chr1:214966544:A:T</td><td>0.5513787</td><td>1</td><td>1</td><td>3</td><td>2458</td><td>chr1:214966544:A:T</td><td>0.551378710143917</td><td>chr1_214114077_215979204</td></tr>\n",
       "\t<tr><th scope=row>2</th><td>FALSE</td><td>image_Aging3</td><td>cos1:y5_y6</td><td>0.983809</td><td>chr1:214966544:A:T</td><td>0.5513787</td><td>1</td><td>1</td><td>3</td><td>2451</td><td>chr1:214963879:A:C</td><td>0.308998228520772</td><td>chr1_214114077_215979204</td></tr>\n",
       "\t<tr><th scope=row>3</th><td>FALSE</td><td>image_Aging3</td><td>cos1:y5_y6</td><td>0.983809</td><td>chr1:214966544:A:T</td><td>0.5513787</td><td>1</td><td>1</td><td>3</td><td>2465</td><td>chr1:214968227:C:T</td><td>0.139518722010771</td><td>chr1_214114077_215979204</td></tr>\n",
       "\t<tr><th scope=row>4</th><td>FALSE</td><td>image_Aging4</td><td>cos1:y5_y6</td><td>0.983809</td><td>chr1:214966544:A:T</td><td>0.5513787</td><td>1</td><td>1</td><td>3</td><td>2458</td><td>chr1:214966544:A:T</td><td>0.551378710143917</td><td>chr1_214114077_215979204</td></tr>\n",
       "\t<tr><th scope=row>5</th><td>FALSE</td><td>image_Aging4</td><td>cos1:y5_y6</td><td>0.983809</td><td>chr1:214966544:A:T</td><td>0.5513787</td><td>1</td><td>1</td><td>3</td><td>2451</td><td>chr1:214963879:A:C</td><td>0.308998228520772</td><td>chr1_214114077_215979204</td></tr>\n",
       "\t<tr><th scope=row>6</th><td>FALSE</td><td>image_Aging4</td><td>cos1:y5_y6</td><td>0.983809</td><td>chr1:214966544:A:T</td><td>0.5513787</td><td>1</td><td>1</td><td>3</td><td>2465</td><td>chr1:214968227:C:T</td><td>0.139518722010771</td><td>chr1_214114077_215979204</td></tr>\n",
       "</tbody>\n",
       "</table>\n"
      ],
      "text/latex": [
       "A data.frame: 6 × 13\n",
       "\\begin{tabular}{r|lllllllllllll}\n",
       "  & focal\\_outcome & colocalized\\_outcomes & cos\\_id & purity & top\\_variable & top\\_variable\\_vcp & cos\\_npc & min\\_npc\\_outcome & n\\_variables & colocalized\\_index & colocalized\\_variables & colocalized\\_variables\\_vcp & region\\_name\\\\\n",
       "  & <lgl> & <chr> & <chr> & <dbl> & <chr> & <dbl> & <dbl> & <dbl> & <int> & <chr> & <chr> & <chr> & <chr>\\\\\n",
       "\\hline\n",
       "\t1 & FALSE & image\\_Aging3 & cos1:y5\\_y6 & 0.983809 & chr1:214966544:A:T & 0.5513787 & 1 & 1 & 3 & 2458 & chr1:214966544:A:T & 0.551378710143917 & chr1\\_214114077\\_215979204\\\\\n",
       "\t2 & FALSE & image\\_Aging3 & cos1:y5\\_y6 & 0.983809 & chr1:214966544:A:T & 0.5513787 & 1 & 1 & 3 & 2451 & chr1:214963879:A:C & 0.308998228520772 & chr1\\_214114077\\_215979204\\\\\n",
       "\t3 & FALSE & image\\_Aging3 & cos1:y5\\_y6 & 0.983809 & chr1:214966544:A:T & 0.5513787 & 1 & 1 & 3 & 2465 & chr1:214968227:C:T & 0.139518722010771 & chr1\\_214114077\\_215979204\\\\\n",
       "\t4 & FALSE & image\\_Aging4 & cos1:y5\\_y6 & 0.983809 & chr1:214966544:A:T & 0.5513787 & 1 & 1 & 3 & 2458 & chr1:214966544:A:T & 0.551378710143917 & chr1\\_214114077\\_215979204\\\\\n",
       "\t5 & FALSE & image\\_Aging4 & cos1:y5\\_y6 & 0.983809 & chr1:214966544:A:T & 0.5513787 & 1 & 1 & 3 & 2451 & chr1:214963879:A:C & 0.308998228520772 & chr1\\_214114077\\_215979204\\\\\n",
       "\t6 & FALSE & image\\_Aging4 & cos1:y5\\_y6 & 0.983809 & chr1:214966544:A:T & 0.5513787 & 1 & 1 & 3 & 2465 & chr1:214968227:C:T & 0.139518722010771 & chr1\\_214114077\\_215979204\\\\\n",
       "\\end{tabular}\n"
      ],
      "text/markdown": [
       "\n",
       "A data.frame: 6 × 13\n",
       "\n",
       "| <!--/--> | focal_outcome &lt;lgl&gt; | colocalized_outcomes &lt;chr&gt; | cos_id &lt;chr&gt; | purity &lt;dbl&gt; | top_variable &lt;chr&gt; | top_variable_vcp &lt;dbl&gt; | cos_npc &lt;dbl&gt; | min_npc_outcome &lt;dbl&gt; | n_variables &lt;int&gt; | colocalized_index &lt;chr&gt; | colocalized_variables &lt;chr&gt; | colocalized_variables_vcp &lt;chr&gt; | region_name &lt;chr&gt; |\n",
       "|---|---|---|---|---|---|---|---|---|---|---|---|---|---|\n",
       "| 1 | FALSE | image_Aging3 | cos1:y5_y6 | 0.983809 | chr1:214966544:A:T | 0.5513787 | 1 | 1 | 3 | 2458 | chr1:214966544:A:T | 0.551378710143917 | chr1_214114077_215979204 |\n",
       "| 2 | FALSE | image_Aging3 | cos1:y5_y6 | 0.983809 | chr1:214966544:A:T | 0.5513787 | 1 | 1 | 3 | 2451 | chr1:214963879:A:C | 0.308998228520772 | chr1_214114077_215979204 |\n",
       "| 3 | FALSE | image_Aging3 | cos1:y5_y6 | 0.983809 | chr1:214966544:A:T | 0.5513787 | 1 | 1 | 3 | 2465 | chr1:214968227:C:T | 0.139518722010771 | chr1_214114077_215979204 |\n",
       "| 4 | FALSE | image_Aging4 | cos1:y5_y6 | 0.983809 | chr1:214966544:A:T | 0.5513787 | 1 | 1 | 3 | 2458 | chr1:214966544:A:T | 0.551378710143917 | chr1_214114077_215979204 |\n",
       "| 5 | FALSE | image_Aging4 | cos1:y5_y6 | 0.983809 | chr1:214966544:A:T | 0.5513787 | 1 | 1 | 3 | 2451 | chr1:214963879:A:C | 0.308998228520772 | chr1_214114077_215979204 |\n",
       "| 6 | FALSE | image_Aging4 | cos1:y5_y6 | 0.983809 | chr1:214966544:A:T | 0.5513787 | 1 | 1 | 3 | 2465 | chr1:214968227:C:T | 0.139518722010771 | chr1_214114077_215979204 |\n",
       "\n"
      ],
      "text/plain": [
       "  focal_outcome colocalized_outcomes cos_id     purity   top_variable      \n",
       "1 FALSE         image_Aging3         cos1:y5_y6 0.983809 chr1:214966544:A:T\n",
       "2 FALSE         image_Aging3         cos1:y5_y6 0.983809 chr1:214966544:A:T\n",
       "3 FALSE         image_Aging3         cos1:y5_y6 0.983809 chr1:214966544:A:T\n",
       "4 FALSE         image_Aging4         cos1:y5_y6 0.983809 chr1:214966544:A:T\n",
       "5 FALSE         image_Aging4         cos1:y5_y6 0.983809 chr1:214966544:A:T\n",
       "6 FALSE         image_Aging4         cos1:y5_y6 0.983809 chr1:214966544:A:T\n",
       "  top_variable_vcp cos_npc min_npc_outcome n_variables colocalized_index\n",
       "1 0.5513787        1       1               3           2458             \n",
       "2 0.5513787        1       1               3           2451             \n",
       "3 0.5513787        1       1               3           2465             \n",
       "4 0.5513787        1       1               3           2458             \n",
       "5 0.5513787        1       1               3           2451             \n",
       "6 0.5513787        1       1               3           2465             \n",
       "  colocalized_variables colocalized_variables_vcp region_name             \n",
       "1 chr1:214966544:A:T    0.551378710143917         chr1_214114077_215979204\n",
       "2 chr1:214963879:A:C    0.308998228520772         chr1_214114077_215979204\n",
       "3 chr1:214968227:C:T    0.139518722010771         chr1_214114077_215979204\n",
       "4 chr1:214966544:A:T    0.551378710143917         chr1_214114077_215979204\n",
       "5 chr1:214963879:A:C    0.308998228520772         chr1_214114077_215979204\n",
       "6 chr1:214968227:C:T    0.139518722010771         chr1_214114077_215979204"
      ]
     },
     "metadata": {},
     "output_type": "display_data"
    },
    {
     "data": {
      "text/html": [
       "<style>\n",
       ".list-inline {list-style: none; margin:0; padding: 0}\n",
       ".list-inline>li {display: inline-block}\n",
       ".list-inline>li:not(:last-child)::after {content: \"\\00b7\"; padding: 0 .5ex}\n",
       "</style>\n",
       "<ol class=list-inline><li>3835</li><li>13</li></ol>\n"
      ],
      "text/latex": [
       "\\begin{enumerate*}\n",
       "\\item 3835\n",
       "\\item 13\n",
       "\\end{enumerate*}\n"
      ],
      "text/markdown": [
       "1. 3835\n",
       "2. 13\n",
       "\n",
       "\n"
      ],
      "text/plain": [
       "[1] 3835   13"
      ]
     },
     "metadata": {},
     "output_type": "display_data"
    },
    {
     "data": {
      "text/html": [
       "<table class=\"dataframe\">\n",
       "<caption>A data.frame: 6 × 10</caption>\n",
       "<thead>\n",
       "\t<tr><th></th><th scope=col>outcomes</th><th scope=col>ucos_id</th><th scope=col>purity</th><th scope=col>top_variable</th><th scope=col>top_variable_vpa</th><th scope=col>n_variables</th><th scope=col>ucos_index</th><th scope=col>ucos_variables</th><th scope=col>ucos_variables_vpa</th><th scope=col>region_name</th></tr>\n",
       "\t<tr><th></th><th scope=col>&lt;chr&gt;</th><th scope=col>&lt;chr&gt;</th><th scope=col>&lt;dbl&gt;</th><th scope=col>&lt;chr&gt;</th><th scope=col>&lt;dbl&gt;</th><th scope=col>&lt;int&gt;</th><th scope=col>&lt;chr&gt;</th><th scope=col>&lt;chr&gt;</th><th scope=col>&lt;chr&gt;</th><th scope=col>&lt;chr&gt;</th></tr>\n",
       "</thead>\n",
       "<tbody>\n",
       "\t<tr><th scope=row>1</th><td>image_Aging1</td><td>ucos1:y2</td><td>0.814146</td><td>chr1:116987237:A:AT</td><td>0.07608308</td><td>27</td><td>3613</td><td>chr1:116987237:A:AT</td><td>0.0760830811494935</td><td>chr1_115338054_117562321</td></tr>\n",
       "\t<tr><th scope=row>2</th><td>image_Aging1</td><td>ucos1:y2</td><td>0.814146</td><td>chr1:116987237:A:AT</td><td>0.07608308</td><td>27</td><td>3597</td><td>chr1:116983188:C:T </td><td>0.0644243882293443</td><td>chr1_115338054_117562321</td></tr>\n",
       "\t<tr><th scope=row>3</th><td>image_Aging1</td><td>ucos1:y2</td><td>0.814146</td><td>chr1:116987237:A:AT</td><td>0.07608308</td><td>27</td><td>3603</td><td>chr1:116984477:A:T </td><td>0.0614377332468131</td><td>chr1_115338054_117562321</td></tr>\n",
       "\t<tr><th scope=row>4</th><td>image_Aging1</td><td>ucos1:y2</td><td>0.814146</td><td>chr1:116987237:A:AT</td><td>0.07608308</td><td>27</td><td>3598</td><td>chr1:116983433:A:G </td><td>0.0603515383809108</td><td>chr1_115338054_117562321</td></tr>\n",
       "\t<tr><th scope=row>5</th><td>image_Aging1</td><td>ucos1:y2</td><td>0.814146</td><td>chr1:116987237:A:AT</td><td>0.07608308</td><td>27</td><td>3609</td><td>chr1:116985744:G:A </td><td>0.0559528387602375</td><td>chr1_115338054_117562321</td></tr>\n",
       "\t<tr><th scope=row>6</th><td>image_Aging1</td><td>ucos1:y2</td><td>0.814146</td><td>chr1:116987237:A:AT</td><td>0.07608308</td><td>27</td><td>3619</td><td>chr1:116987999:A:G </td><td>0.0491596341812764</td><td>chr1_115338054_117562321</td></tr>\n",
       "</tbody>\n",
       "</table>\n"
      ],
      "text/latex": [
       "A data.frame: 6 × 10\n",
       "\\begin{tabular}{r|llllllllll}\n",
       "  & outcomes & ucos\\_id & purity & top\\_variable & top\\_variable\\_vpa & n\\_variables & ucos\\_index & ucos\\_variables & ucos\\_variables\\_vpa & region\\_name\\\\\n",
       "  & <chr> & <chr> & <dbl> & <chr> & <dbl> & <int> & <chr> & <chr> & <chr> & <chr>\\\\\n",
       "\\hline\n",
       "\t1 & image\\_Aging1 & ucos1:y2 & 0.814146 & chr1:116987237:A:AT & 0.07608308 & 27 & 3613 & chr1:116987237:A:AT & 0.0760830811494935 & chr1\\_115338054\\_117562321\\\\\n",
       "\t2 & image\\_Aging1 & ucos1:y2 & 0.814146 & chr1:116987237:A:AT & 0.07608308 & 27 & 3597 & chr1:116983188:C:T  & 0.0644243882293443 & chr1\\_115338054\\_117562321\\\\\n",
       "\t3 & image\\_Aging1 & ucos1:y2 & 0.814146 & chr1:116987237:A:AT & 0.07608308 & 27 & 3603 & chr1:116984477:A:T  & 0.0614377332468131 & chr1\\_115338054\\_117562321\\\\\n",
       "\t4 & image\\_Aging1 & ucos1:y2 & 0.814146 & chr1:116987237:A:AT & 0.07608308 & 27 & 3598 & chr1:116983433:A:G  & 0.0603515383809108 & chr1\\_115338054\\_117562321\\\\\n",
       "\t5 & image\\_Aging1 & ucos1:y2 & 0.814146 & chr1:116987237:A:AT & 0.07608308 & 27 & 3609 & chr1:116985744:G:A  & 0.0559528387602375 & chr1\\_115338054\\_117562321\\\\\n",
       "\t6 & image\\_Aging1 & ucos1:y2 & 0.814146 & chr1:116987237:A:AT & 0.07608308 & 27 & 3619 & chr1:116987999:A:G  & 0.0491596341812764 & chr1\\_115338054\\_117562321\\\\\n",
       "\\end{tabular}\n"
      ],
      "text/markdown": [
       "\n",
       "A data.frame: 6 × 10\n",
       "\n",
       "| <!--/--> | outcomes &lt;chr&gt; | ucos_id &lt;chr&gt; | purity &lt;dbl&gt; | top_variable &lt;chr&gt; | top_variable_vpa &lt;dbl&gt; | n_variables &lt;int&gt; | ucos_index &lt;chr&gt; | ucos_variables &lt;chr&gt; | ucos_variables_vpa &lt;chr&gt; | region_name &lt;chr&gt; |\n",
       "|---|---|---|---|---|---|---|---|---|---|---|\n",
       "| 1 | image_Aging1 | ucos1:y2 | 0.814146 | chr1:116987237:A:AT | 0.07608308 | 27 | 3613 | chr1:116987237:A:AT | 0.0760830811494935 | chr1_115338054_117562321 |\n",
       "| 2 | image_Aging1 | ucos1:y2 | 0.814146 | chr1:116987237:A:AT | 0.07608308 | 27 | 3597 | chr1:116983188:C:T  | 0.0644243882293443 | chr1_115338054_117562321 |\n",
       "| 3 | image_Aging1 | ucos1:y2 | 0.814146 | chr1:116987237:A:AT | 0.07608308 | 27 | 3603 | chr1:116984477:A:T  | 0.0614377332468131 | chr1_115338054_117562321 |\n",
       "| 4 | image_Aging1 | ucos1:y2 | 0.814146 | chr1:116987237:A:AT | 0.07608308 | 27 | 3598 | chr1:116983433:A:G  | 0.0603515383809108 | chr1_115338054_117562321 |\n",
       "| 5 | image_Aging1 | ucos1:y2 | 0.814146 | chr1:116987237:A:AT | 0.07608308 | 27 | 3609 | chr1:116985744:G:A  | 0.0559528387602375 | chr1_115338054_117562321 |\n",
       "| 6 | image_Aging1 | ucos1:y2 | 0.814146 | chr1:116987237:A:AT | 0.07608308 | 27 | 3619 | chr1:116987999:A:G  | 0.0491596341812764 | chr1_115338054_117562321 |\n",
       "\n"
      ],
      "text/plain": [
       "  outcomes     ucos_id  purity   top_variable        top_variable_vpa\n",
       "1 image_Aging1 ucos1:y2 0.814146 chr1:116987237:A:AT 0.07608308      \n",
       "2 image_Aging1 ucos1:y2 0.814146 chr1:116987237:A:AT 0.07608308      \n",
       "3 image_Aging1 ucos1:y2 0.814146 chr1:116987237:A:AT 0.07608308      \n",
       "4 image_Aging1 ucos1:y2 0.814146 chr1:116987237:A:AT 0.07608308      \n",
       "5 image_Aging1 ucos1:y2 0.814146 chr1:116987237:A:AT 0.07608308      \n",
       "6 image_Aging1 ucos1:y2 0.814146 chr1:116987237:A:AT 0.07608308      \n",
       "  n_variables ucos_index ucos_variables      ucos_variables_vpa\n",
       "1 27          3613       chr1:116987237:A:AT 0.0760830811494935\n",
       "2 27          3597       chr1:116983188:C:T  0.0644243882293443\n",
       "3 27          3603       chr1:116984477:A:T  0.0614377332468131\n",
       "4 27          3598       chr1:116983433:A:G  0.0603515383809108\n",
       "5 27          3609       chr1:116985744:G:A  0.0559528387602375\n",
       "6 27          3619       chr1:116987999:A:G  0.0491596341812764\n",
       "  region_name             \n",
       "1 chr1_115338054_117562321\n",
       "2 chr1_115338054_117562321\n",
       "3 chr1_115338054_117562321\n",
       "4 chr1_115338054_117562321\n",
       "5 chr1_115338054_117562321\n",
       "6 chr1_115338054_117562321"
      ]
     },
     "metadata": {},
     "output_type": "display_data"
    },
    {
     "data": {
      "text/html": [
       "<style>\n",
       ".list-inline {list-style: none; margin:0; padding: 0}\n",
       ".list-inline>li {display: inline-block}\n",
       ".list-inline>li:not(:last-child)::after {content: \"\\00b7\"; padding: 0 .5ex}\n",
       "</style>\n",
       "<ol class=list-inline><li>12966</li><li>10</li></ol>\n"
      ],
      "text/latex": [
       "\\begin{enumerate*}\n",
       "\\item 12966\n",
       "\\item 10\n",
       "\\end{enumerate*}\n"
      ],
      "text/markdown": [
       "1. 12966\n",
       "2. 10\n",
       "\n",
       "\n"
      ],
      "text/plain": [
       "[1] 12966    10"
      ]
     },
     "metadata": {},
     "output_type": "display_data"
    }
   ],
   "source": [
    "head(cos_top_loci)\n",
    "dim(cos_top_loci)\n",
    "head(ucos_summary_top_loci)\n",
    "dim(ucos_summary_top_loci)"
   ]
  },
  {
   "cell_type": "code",
   "execution_count": 77,
   "id": "6a559c9f-149d-4947-9a1c-cb125cb094e4",
   "metadata": {},
   "outputs": [],
   "source": [
    "cos_top_loci_trimmed = cos_top_loci |> select(-focal_outcome, -cos_npc, -min_npc_outcome) "
   ]
  },
  {
   "cell_type": "code",
   "execution_count": 82,
   "id": "726cebba-4b3e-4327-973d-46ab24ae010b",
   "metadata": {},
   "outputs": [],
   "source": [
    "combined_cb_top_loci =  cos_top_loci |> full_join(ucos_summary_top_loci, by = c(\"colocalized_outcomes\" = \"outcomes\", \"colocalized_variables\" = \"ucos_variables\"))"
   ]
  },
  {
   "cell_type": "code",
   "execution_count": 90,
   "id": "1c120582-344d-44e9-b39f-6c01028a3e02",
   "metadata": {},
   "outputs": [
    {
     "data": {
      "text/html": [
       "<style>\n",
       ".list-inline {list-style: none; margin:0; padding: 0}\n",
       ".list-inline>li {display: inline-block}\n",
       ".list-inline>li:not(:last-child)::after {content: \"\\00b7\"; padding: 0 .5ex}\n",
       "</style>\n",
       "<ol class=list-inline><li>16801</li><li>21</li></ol>\n"
      ],
      "text/latex": [
       "\\begin{enumerate*}\n",
       "\\item 16801\n",
       "\\item 21\n",
       "\\end{enumerate*}\n"
      ],
      "text/markdown": [
       "1. 16801\n",
       "2. 21\n",
       "\n",
       "\n"
      ],
      "text/plain": [
       "[1] 16801    21"
      ]
     },
     "metadata": {},
     "output_type": "display_data"
    },
    {
     "data": {
      "text/html": [
       "<table class=\"dataframe\">\n",
       "<caption>A data.frame: 6 × 21</caption>\n",
       "<thead>\n",
       "\t<tr><th></th><th scope=col>focal_outcome</th><th scope=col>colocalized_outcomes</th><th scope=col>cos_id</th><th scope=col>purity.x</th><th scope=col>top_variable.x</th><th scope=col>top_variable_vcp</th><th scope=col>cos_npc</th><th scope=col>min_npc_outcome</th><th scope=col>n_variables.x</th><th scope=col>colocalized_index</th><th scope=col>⋯</th><th scope=col>colocalized_variables_vcp</th><th scope=col>region_name.x</th><th scope=col>ucos_id</th><th scope=col>purity.y</th><th scope=col>top_variable.y</th><th scope=col>top_variable_vpa</th><th scope=col>n_variables.y</th><th scope=col>ucos_index</th><th scope=col>ucos_variables_vpa</th><th scope=col>region_name.y</th></tr>\n",
       "\t<tr><th></th><th scope=col>&lt;lgl&gt;</th><th scope=col>&lt;chr&gt;</th><th scope=col>&lt;chr&gt;</th><th scope=col>&lt;dbl&gt;</th><th scope=col>&lt;chr&gt;</th><th scope=col>&lt;dbl&gt;</th><th scope=col>&lt;dbl&gt;</th><th scope=col>&lt;dbl&gt;</th><th scope=col>&lt;int&gt;</th><th scope=col>&lt;chr&gt;</th><th scope=col>⋯</th><th scope=col>&lt;chr&gt;</th><th scope=col>&lt;chr&gt;</th><th scope=col>&lt;chr&gt;</th><th scope=col>&lt;dbl&gt;</th><th scope=col>&lt;chr&gt;</th><th scope=col>&lt;dbl&gt;</th><th scope=col>&lt;int&gt;</th><th scope=col>&lt;chr&gt;</th><th scope=col>&lt;chr&gt;</th><th scope=col>&lt;chr&gt;</th></tr>\n",
       "</thead>\n",
       "<tbody>\n",
       "\t<tr><th scope=row>1</th><td>FALSE</td><td>image_Aging3</td><td>cos1:y5_y6</td><td>0.983809</td><td>chr1:214966544:A:T</td><td>0.5513787</td><td>1</td><td>1</td><td>3</td><td>2458</td><td>⋯</td><td>0.551378710143917</td><td>chr1_214114077_215979204</td><td>NA</td><td>NA</td><td>NA</td><td>NA</td><td>NA</td><td>NA</td><td>NA</td><td>NA</td></tr>\n",
       "\t<tr><th scope=row>2</th><td>FALSE</td><td>image_Aging3</td><td>cos1:y5_y6</td><td>0.983809</td><td>chr1:214966544:A:T</td><td>0.5513787</td><td>1</td><td>1</td><td>3</td><td>2451</td><td>⋯</td><td>0.308998228520772</td><td>chr1_214114077_215979204</td><td>NA</td><td>NA</td><td>NA</td><td>NA</td><td>NA</td><td>NA</td><td>NA</td><td>NA</td></tr>\n",
       "\t<tr><th scope=row>3</th><td>FALSE</td><td>image_Aging3</td><td>cos1:y5_y6</td><td>0.983809</td><td>chr1:214966544:A:T</td><td>0.5513787</td><td>1</td><td>1</td><td>3</td><td>2465</td><td>⋯</td><td>0.139518722010771</td><td>chr1_214114077_215979204</td><td>NA</td><td>NA</td><td>NA</td><td>NA</td><td>NA</td><td>NA</td><td>NA</td><td>NA</td></tr>\n",
       "\t<tr><th scope=row>4</th><td>FALSE</td><td>image_Aging4</td><td>cos1:y5_y6</td><td>0.983809</td><td>chr1:214966544:A:T</td><td>0.5513787</td><td>1</td><td>1</td><td>3</td><td>2458</td><td>⋯</td><td>0.551378710143917</td><td>chr1_214114077_215979204</td><td>NA</td><td>NA</td><td>NA</td><td>NA</td><td>NA</td><td>NA</td><td>NA</td><td>NA</td></tr>\n",
       "\t<tr><th scope=row>5</th><td>FALSE</td><td>image_Aging4</td><td>cos1:y5_y6</td><td>0.983809</td><td>chr1:214966544:A:T</td><td>0.5513787</td><td>1</td><td>1</td><td>3</td><td>2451</td><td>⋯</td><td>0.308998228520772</td><td>chr1_214114077_215979204</td><td>NA</td><td>NA</td><td>NA</td><td>NA</td><td>NA</td><td>NA</td><td>NA</td><td>NA</td></tr>\n",
       "\t<tr><th scope=row>6</th><td>FALSE</td><td>image_Aging4</td><td>cos1:y5_y6</td><td>0.983809</td><td>chr1:214966544:A:T</td><td>0.5513787</td><td>1</td><td>1</td><td>3</td><td>2465</td><td>⋯</td><td>0.139518722010771</td><td>chr1_214114077_215979204</td><td>NA</td><td>NA</td><td>NA</td><td>NA</td><td>NA</td><td>NA</td><td>NA</td><td>NA</td></tr>\n",
       "</tbody>\n",
       "</table>\n"
      ],
      "text/latex": [
       "A data.frame: 6 × 21\n",
       "\\begin{tabular}{r|lllllllllllllllllllll}\n",
       "  & focal\\_outcome & colocalized\\_outcomes & cos\\_id & purity.x & top\\_variable.x & top\\_variable\\_vcp & cos\\_npc & min\\_npc\\_outcome & n\\_variables.x & colocalized\\_index & ⋯ & colocalized\\_variables\\_vcp & region\\_name.x & ucos\\_id & purity.y & top\\_variable.y & top\\_variable\\_vpa & n\\_variables.y & ucos\\_index & ucos\\_variables\\_vpa & region\\_name.y\\\\\n",
       "  & <lgl> & <chr> & <chr> & <dbl> & <chr> & <dbl> & <dbl> & <dbl> & <int> & <chr> & ⋯ & <chr> & <chr> & <chr> & <dbl> & <chr> & <dbl> & <int> & <chr> & <chr> & <chr>\\\\\n",
       "\\hline\n",
       "\t1 & FALSE & image\\_Aging3 & cos1:y5\\_y6 & 0.983809 & chr1:214966544:A:T & 0.5513787 & 1 & 1 & 3 & 2458 & ⋯ & 0.551378710143917 & chr1\\_214114077\\_215979204 & NA & NA & NA & NA & NA & NA & NA & NA\\\\\n",
       "\t2 & FALSE & image\\_Aging3 & cos1:y5\\_y6 & 0.983809 & chr1:214966544:A:T & 0.5513787 & 1 & 1 & 3 & 2451 & ⋯ & 0.308998228520772 & chr1\\_214114077\\_215979204 & NA & NA & NA & NA & NA & NA & NA & NA\\\\\n",
       "\t3 & FALSE & image\\_Aging3 & cos1:y5\\_y6 & 0.983809 & chr1:214966544:A:T & 0.5513787 & 1 & 1 & 3 & 2465 & ⋯ & 0.139518722010771 & chr1\\_214114077\\_215979204 & NA & NA & NA & NA & NA & NA & NA & NA\\\\\n",
       "\t4 & FALSE & image\\_Aging4 & cos1:y5\\_y6 & 0.983809 & chr1:214966544:A:T & 0.5513787 & 1 & 1 & 3 & 2458 & ⋯ & 0.551378710143917 & chr1\\_214114077\\_215979204 & NA & NA & NA & NA & NA & NA & NA & NA\\\\\n",
       "\t5 & FALSE & image\\_Aging4 & cos1:y5\\_y6 & 0.983809 & chr1:214966544:A:T & 0.5513787 & 1 & 1 & 3 & 2451 & ⋯ & 0.308998228520772 & chr1\\_214114077\\_215979204 & NA & NA & NA & NA & NA & NA & NA & NA\\\\\n",
       "\t6 & FALSE & image\\_Aging4 & cos1:y5\\_y6 & 0.983809 & chr1:214966544:A:T & 0.5513787 & 1 & 1 & 3 & 2465 & ⋯ & 0.139518722010771 & chr1\\_214114077\\_215979204 & NA & NA & NA & NA & NA & NA & NA & NA\\\\\n",
       "\\end{tabular}\n"
      ],
      "text/markdown": [
       "\n",
       "A data.frame: 6 × 21\n",
       "\n",
       "| <!--/--> | focal_outcome &lt;lgl&gt; | colocalized_outcomes &lt;chr&gt; | cos_id &lt;chr&gt; | purity.x &lt;dbl&gt; | top_variable.x &lt;chr&gt; | top_variable_vcp &lt;dbl&gt; | cos_npc &lt;dbl&gt; | min_npc_outcome &lt;dbl&gt; | n_variables.x &lt;int&gt; | colocalized_index &lt;chr&gt; | ⋯ ⋯ | colocalized_variables_vcp &lt;chr&gt; | region_name.x &lt;chr&gt; | ucos_id &lt;chr&gt; | purity.y &lt;dbl&gt; | top_variable.y &lt;chr&gt; | top_variable_vpa &lt;dbl&gt; | n_variables.y &lt;int&gt; | ucos_index &lt;chr&gt; | ucos_variables_vpa &lt;chr&gt; | region_name.y &lt;chr&gt; |\n",
       "|---|---|---|---|---|---|---|---|---|---|---|---|---|---|---|---|---|---|---|---|---|---|\n",
       "| 1 | FALSE | image_Aging3 | cos1:y5_y6 | 0.983809 | chr1:214966544:A:T | 0.5513787 | 1 | 1 | 3 | 2458 | ⋯ | 0.551378710143917 | chr1_214114077_215979204 | NA | NA | NA | NA | NA | NA | NA | NA |\n",
       "| 2 | FALSE | image_Aging3 | cos1:y5_y6 | 0.983809 | chr1:214966544:A:T | 0.5513787 | 1 | 1 | 3 | 2451 | ⋯ | 0.308998228520772 | chr1_214114077_215979204 | NA | NA | NA | NA | NA | NA | NA | NA |\n",
       "| 3 | FALSE | image_Aging3 | cos1:y5_y6 | 0.983809 | chr1:214966544:A:T | 0.5513787 | 1 | 1 | 3 | 2465 | ⋯ | 0.139518722010771 | chr1_214114077_215979204 | NA | NA | NA | NA | NA | NA | NA | NA |\n",
       "| 4 | FALSE | image_Aging4 | cos1:y5_y6 | 0.983809 | chr1:214966544:A:T | 0.5513787 | 1 | 1 | 3 | 2458 | ⋯ | 0.551378710143917 | chr1_214114077_215979204 | NA | NA | NA | NA | NA | NA | NA | NA |\n",
       "| 5 | FALSE | image_Aging4 | cos1:y5_y6 | 0.983809 | chr1:214966544:A:T | 0.5513787 | 1 | 1 | 3 | 2451 | ⋯ | 0.308998228520772 | chr1_214114077_215979204 | NA | NA | NA | NA | NA | NA | NA | NA |\n",
       "| 6 | FALSE | image_Aging4 | cos1:y5_y6 | 0.983809 | chr1:214966544:A:T | 0.5513787 | 1 | 1 | 3 | 2465 | ⋯ | 0.139518722010771 | chr1_214114077_215979204 | NA | NA | NA | NA | NA | NA | NA | NA |\n",
       "\n"
      ],
      "text/plain": [
       "  focal_outcome colocalized_outcomes cos_id     purity.x top_variable.x    \n",
       "1 FALSE         image_Aging3         cos1:y5_y6 0.983809 chr1:214966544:A:T\n",
       "2 FALSE         image_Aging3         cos1:y5_y6 0.983809 chr1:214966544:A:T\n",
       "3 FALSE         image_Aging3         cos1:y5_y6 0.983809 chr1:214966544:A:T\n",
       "4 FALSE         image_Aging4         cos1:y5_y6 0.983809 chr1:214966544:A:T\n",
       "5 FALSE         image_Aging4         cos1:y5_y6 0.983809 chr1:214966544:A:T\n",
       "6 FALSE         image_Aging4         cos1:y5_y6 0.983809 chr1:214966544:A:T\n",
       "  top_variable_vcp cos_npc min_npc_outcome n_variables.x colocalized_index ⋯\n",
       "1 0.5513787        1       1               3             2458              ⋯\n",
       "2 0.5513787        1       1               3             2451              ⋯\n",
       "3 0.5513787        1       1               3             2465              ⋯\n",
       "4 0.5513787        1       1               3             2458              ⋯\n",
       "5 0.5513787        1       1               3             2451              ⋯\n",
       "6 0.5513787        1       1               3             2465              ⋯\n",
       "  colocalized_variables_vcp region_name.x            ucos_id purity.y\n",
       "1 0.551378710143917         chr1_214114077_215979204 NA      NA      \n",
       "2 0.308998228520772         chr1_214114077_215979204 NA      NA      \n",
       "3 0.139518722010771         chr1_214114077_215979204 NA      NA      \n",
       "4 0.551378710143917         chr1_214114077_215979204 NA      NA      \n",
       "5 0.308998228520772         chr1_214114077_215979204 NA      NA      \n",
       "6 0.139518722010771         chr1_214114077_215979204 NA      NA      \n",
       "  top_variable.y top_variable_vpa n_variables.y ucos_index ucos_variables_vpa\n",
       "1 NA             NA               NA            NA         NA                \n",
       "2 NA             NA               NA            NA         NA                \n",
       "3 NA             NA               NA            NA         NA                \n",
       "4 NA             NA               NA            NA         NA                \n",
       "5 NA             NA               NA            NA         NA                \n",
       "6 NA             NA               NA            NA         NA                \n",
       "  region_name.y\n",
       "1 NA           \n",
       "2 NA           \n",
       "3 NA           \n",
       "4 NA           \n",
       "5 NA           \n",
       "6 NA           "
      ]
     },
     "metadata": {},
     "output_type": "display_data"
    }
   ],
   "source": [
    "dim(combined_cb_top_loci)\n",
    "head(combined_cb_top_loci)"
   ]
  },
  {
   "cell_type": "code",
   "execution_count": 89,
   "id": "63711997-b47d-4e2a-8c94-dd11b7432bd8",
   "metadata": {},
   "outputs": [
    {
     "data": {
      "text/html": [
       "<table class=\"dataframe\">\n",
       "<caption>A tibble: 7 × 2</caption>\n",
       "<thead>\n",
       "\t<tr><th scope=col>colocalized_outcomes</th><th scope=col>cos_variant_count</th></tr>\n",
       "\t<tr><th scope=col>&lt;chr&gt;</th><th scope=col>&lt;int&gt;</th></tr>\n",
       "</thead>\n",
       "<tbody>\n",
       "\t<tr><td>image_AD1   </td><td>2007</td></tr>\n",
       "\t<tr><td>image_AD2   </td><td>1429</td></tr>\n",
       "\t<tr><td>image_Aging1</td><td>2648</td></tr>\n",
       "\t<tr><td>image_Aging2</td><td>1912</td></tr>\n",
       "\t<tr><td>image_Aging3</td><td>3700</td></tr>\n",
       "\t<tr><td>image_Aging4</td><td>2063</td></tr>\n",
       "\t<tr><td>image_Aging5</td><td>3042</td></tr>\n",
       "</tbody>\n",
       "</table>\n"
      ],
      "text/latex": [
       "A tibble: 7 × 2\n",
       "\\begin{tabular}{ll}\n",
       " colocalized\\_outcomes & cos\\_variant\\_count\\\\\n",
       " <chr> & <int>\\\\\n",
       "\\hline\n",
       "\t image\\_AD1    & 2007\\\\\n",
       "\t image\\_AD2    & 1429\\\\\n",
       "\t image\\_Aging1 & 2648\\\\\n",
       "\t image\\_Aging2 & 1912\\\\\n",
       "\t image\\_Aging3 & 3700\\\\\n",
       "\t image\\_Aging4 & 2063\\\\\n",
       "\t image\\_Aging5 & 3042\\\\\n",
       "\\end{tabular}\n"
      ],
      "text/markdown": [
       "\n",
       "A tibble: 7 × 2\n",
       "\n",
       "| colocalized_outcomes &lt;chr&gt; | cos_variant_count &lt;int&gt; |\n",
       "|---|---|\n",
       "| image_AD1    | 2007 |\n",
       "| image_AD2    | 1429 |\n",
       "| image_Aging1 | 2648 |\n",
       "| image_Aging2 | 1912 |\n",
       "| image_Aging3 | 3700 |\n",
       "| image_Aging4 | 2063 |\n",
       "| image_Aging5 | 3042 |\n",
       "\n"
      ],
      "text/plain": [
       "  colocalized_outcomes cos_variant_count\n",
       "1 image_AD1            2007             \n",
       "2 image_AD2            1429             \n",
       "3 image_Aging1         2648             \n",
       "4 image_Aging2         1912             \n",
       "5 image_Aging3         3700             \n",
       "6 image_Aging4         2063             \n",
       "7 image_Aging5         3042             "
      ]
     },
     "metadata": {},
     "output_type": "display_data"
    }
   ],
   "source": [
    "combined_var_by_outcomes = combined_cb_top_loci |> group_by(colocalized_outcomes) |> summarize(cos_variant_count = n_distinct(colocalized_variables))\n",
    "combined_var_by_outcomes"
   ]
  },
  {
   "cell_type": "code",
   "execution_count": 91,
   "id": "71d62032-8200-4b4d-b8f0-55c2313830f8",
   "metadata": {},
   "outputs": [
    {
     "name": "stderr",
     "output_type": "stream",
     "text": [
      "Warning message in inner_join(combined_cb_top_loci, combined_data, by = c(colocalized_variables = \"variant_ID\")):\n",
      "“\u001b[1m\u001b[22mDetected an unexpected many-to-many relationship between `x` and `y`.\n",
      "\u001b[36mℹ\u001b[39m Row 7 of `x` matches multiple rows in `y`.\n",
      "\u001b[36mℹ\u001b[39m Row 117223 of `y` matches multiple rows in `x`.\n",
      "\u001b[36mℹ\u001b[39m If a many-to-many relationship is expected, set `relationship =\n",
      "  \"many-to-many\"` to silence this warning.”\n"
     ]
    }
   ],
   "source": [
    "overlapped_combined_xqtl = combined_cb_top_loci |> inner_join(combined_data, by = c(\"colocalized_variables\" = \"variant_ID\"))"
   ]
  },
  {
   "cell_type": "code",
   "execution_count": 137,
   "id": "9df997ba-8b6b-4d02-aab4-27e0c6aee288",
   "metadata": {},
   "outputs": [
    {
     "data": {
      "text/html": [
       "<table class=\"dataframe\">\n",
       "<caption>A data.frame: 6 × 37</caption>\n",
       "<thead>\n",
       "\t<tr><th></th><th scope=col>focal_outcome</th><th scope=col>colocalized_outcomes</th><th scope=col>cos_id</th><th scope=col>purity.x</th><th scope=col>top_variable.x</th><th scope=col>top_variable_vcp</th><th scope=col>cos_npc</th><th scope=col>min_npc_outcome</th><th scope=col>n_variables.x</th><th scope=col>colocalized_index</th><th scope=col>⋯</th><th scope=col>event_ID</th><th scope=col>cs_coverage_0.95</th><th scope=col>cs_coverage_0.7</th><th scope=col>cs_coverage_0.5</th><th scope=col>PIP</th><th scope=col>conditional_effect</th><th scope=col>Cohort</th><th scope=col>Data_Type</th><th scope=col>Modality</th><th scope=col>Cohort_Data_Type_Modality</th></tr>\n",
       "\t<tr><th></th><th scope=col>&lt;lgl&gt;</th><th scope=col>&lt;chr&gt;</th><th scope=col>&lt;chr&gt;</th><th scope=col>&lt;dbl&gt;</th><th scope=col>&lt;chr&gt;</th><th scope=col>&lt;dbl&gt;</th><th scope=col>&lt;dbl&gt;</th><th scope=col>&lt;dbl&gt;</th><th scope=col>&lt;int&gt;</th><th scope=col>&lt;chr&gt;</th><th scope=col>⋯</th><th scope=col>&lt;chr&gt;</th><th scope=col>&lt;int&gt;</th><th scope=col>&lt;int&gt;</th><th scope=col>&lt;int&gt;</th><th scope=col>&lt;dbl&gt;</th><th scope=col>&lt;dbl&gt;</th><th scope=col>&lt;chr&gt;</th><th scope=col>&lt;chr&gt;</th><th scope=col>&lt;chr&gt;</th><th scope=col>&lt;chr&gt;</th></tr>\n",
       "</thead>\n",
       "<tbody>\n",
       "\t<tr><th scope=row>1</th><td>FALSE</td><td>image_AD2</td><td>cos1:y1_y5</td><td>0.969915</td><td>chr1:236262657:G:A</td><td>0.01486987</td><td>0.9712</td><td>0.9712</td><td>92</td><td>1340</td><td>⋯</td><td>BM_10_MSBB_eQTL_ENSG00000086619                                </td><td>4</td><td>0</td><td>0</td><td>0.003289419</td><td> 0.1484225</td><td>MSBB     </td><td>eQTL</td><td>BM_10       </td><td>MSBB_eQTL_BM_10            </td></tr>\n",
       "\t<tr><th scope=row>2</th><td>FALSE</td><td>image_AD2</td><td>cos1:y1_y5</td><td>0.969915</td><td>chr1:236262657:G:A</td><td>0.01486987</td><td>0.9712</td><td>0.9712</td><td>92</td><td>1340</td><td>⋯</td><td>Metabrain_Basalganglia_chr1_235215101_237720000_ENSG00000086619</td><td>1</td><td>0</td><td>0</td><td>0.006603109</td><td>        NA</td><td>MetaBrain</td><td>eQTL</td><td>Basalganglia</td><td>MetaBrain_eQTL_Basalganglia</td></tr>\n",
       "\t<tr><th scope=row>3</th><td>FALSE</td><td>image_AD2</td><td>cos1:y1_y5</td><td>0.969915</td><td>chr1:236262657:G:A</td><td>0.01486987</td><td>0.9712</td><td>0.9712</td><td>92</td><td>1340</td><td>⋯</td><td>Inh_Kellis_eQTL_ENSG00000086619                                </td><td>1</td><td>0</td><td>0</td><td>0.006090808</td><td>-0.3649705</td><td>ROSMAP   </td><td>eQTL</td><td>Inh_Kellis  </td><td>ROSMAP_eQTL_Inh_Kellis     </td></tr>\n",
       "\t<tr><th scope=row>4</th><td>FALSE</td><td>image_AD2</td><td>cos1:y1_y5</td><td>0.969915</td><td>chr1:236262657:G:A</td><td>0.01486987</td><td>0.9712</td><td>0.9712</td><td>92</td><td>1340</td><td>⋯</td><td>Inh_mega_eQTL_ENSG00000086619                                  </td><td>1</td><td>1</td><td>1</td><td>0.009736795</td><td>-0.2968699</td><td>ROSMAP   </td><td>eQTL</td><td>Inh_mega    </td><td>ROSMAP_eQTL_Inh_mega       </td></tr>\n",
       "\t<tr><th scope=row>5</th><td>FALSE</td><td>image_AD2</td><td>cos1:y1_y5</td><td>0.969915</td><td>chr1:236262657:G:A</td><td>0.01486987</td><td>0.9712</td><td>0.9712</td><td>92</td><td>1340</td><td>⋯</td><td>PCC_DeJager_eQTL_ENSG00000086619                               </td><td>2</td><td>0</td><td>0</td><td>0.005950944</td><td> 0.3360740</td><td>ROSMAP   </td><td>eQTL</td><td>PCC         </td><td>ROSMAP_eQTL_PCC            </td></tr>\n",
       "\t<tr><th scope=row>6</th><td>FALSE</td><td>image_AD2</td><td>cos1:y1_y5</td><td>0.969915</td><td>chr1:236262657:G:A</td><td>0.01486987</td><td>0.9712</td><td>0.9712</td><td>92</td><td>1340</td><td>⋯</td><td>STARNET_eQTL_Mac_ENSG00000086619                               </td><td>2</td><td>0</td><td>0</td><td>0.014579373</td><td> 0.3150701</td><td>STARNET  </td><td>eQTL</td><td>Mac         </td><td>STARNET_eQTL_Mac           </td></tr>\n",
       "</tbody>\n",
       "</table>\n"
      ],
      "text/latex": [
       "A data.frame: 6 × 37\n",
       "\\begin{tabular}{r|lllllllllllllllllllll}\n",
       "  & focal\\_outcome & colocalized\\_outcomes & cos\\_id & purity.x & top\\_variable.x & top\\_variable\\_vcp & cos\\_npc & min\\_npc\\_outcome & n\\_variables.x & colocalized\\_index & ⋯ & event\\_ID & cs\\_coverage\\_0.95 & cs\\_coverage\\_0.7 & cs\\_coverage\\_0.5 & PIP & conditional\\_effect & Cohort & Data\\_Type & Modality & Cohort\\_Data\\_Type\\_Modality\\\\\n",
       "  & <lgl> & <chr> & <chr> & <dbl> & <chr> & <dbl> & <dbl> & <dbl> & <int> & <chr> & ⋯ & <chr> & <int> & <int> & <int> & <dbl> & <dbl> & <chr> & <chr> & <chr> & <chr>\\\\\n",
       "\\hline\n",
       "\t1 & FALSE & image\\_AD2 & cos1:y1\\_y5 & 0.969915 & chr1:236262657:G:A & 0.01486987 & 0.9712 & 0.9712 & 92 & 1340 & ⋯ & BM\\_10\\_MSBB\\_eQTL\\_ENSG00000086619                                 & 4 & 0 & 0 & 0.003289419 &  0.1484225 & MSBB      & eQTL & BM\\_10        & MSBB\\_eQTL\\_BM\\_10            \\\\\n",
       "\t2 & FALSE & image\\_AD2 & cos1:y1\\_y5 & 0.969915 & chr1:236262657:G:A & 0.01486987 & 0.9712 & 0.9712 & 92 & 1340 & ⋯ & Metabrain\\_Basalganglia\\_chr1\\_235215101\\_237720000\\_ENSG00000086619 & 1 & 0 & 0 & 0.006603109 &         NA & MetaBrain & eQTL & Basalganglia & MetaBrain\\_eQTL\\_Basalganglia\\\\\n",
       "\t3 & FALSE & image\\_AD2 & cos1:y1\\_y5 & 0.969915 & chr1:236262657:G:A & 0.01486987 & 0.9712 & 0.9712 & 92 & 1340 & ⋯ & Inh\\_Kellis\\_eQTL\\_ENSG00000086619                                 & 1 & 0 & 0 & 0.006090808 & -0.3649705 & ROSMAP    & eQTL & Inh\\_Kellis   & ROSMAP\\_eQTL\\_Inh\\_Kellis     \\\\\n",
       "\t4 & FALSE & image\\_AD2 & cos1:y1\\_y5 & 0.969915 & chr1:236262657:G:A & 0.01486987 & 0.9712 & 0.9712 & 92 & 1340 & ⋯ & Inh\\_mega\\_eQTL\\_ENSG00000086619                                   & 1 & 1 & 1 & 0.009736795 & -0.2968699 & ROSMAP    & eQTL & Inh\\_mega     & ROSMAP\\_eQTL\\_Inh\\_mega       \\\\\n",
       "\t5 & FALSE & image\\_AD2 & cos1:y1\\_y5 & 0.969915 & chr1:236262657:G:A & 0.01486987 & 0.9712 & 0.9712 & 92 & 1340 & ⋯ & PCC\\_DeJager\\_eQTL\\_ENSG00000086619                                & 2 & 0 & 0 & 0.005950944 &  0.3360740 & ROSMAP    & eQTL & PCC          & ROSMAP\\_eQTL\\_PCC            \\\\\n",
       "\t6 & FALSE & image\\_AD2 & cos1:y1\\_y5 & 0.969915 & chr1:236262657:G:A & 0.01486987 & 0.9712 & 0.9712 & 92 & 1340 & ⋯ & STARNET\\_eQTL\\_Mac\\_ENSG00000086619                                & 2 & 0 & 0 & 0.014579373 &  0.3150701 & STARNET   & eQTL & Mac          & STARNET\\_eQTL\\_Mac           \\\\\n",
       "\\end{tabular}\n"
      ],
      "text/markdown": [
       "\n",
       "A data.frame: 6 × 37\n",
       "\n",
       "| <!--/--> | focal_outcome &lt;lgl&gt; | colocalized_outcomes &lt;chr&gt; | cos_id &lt;chr&gt; | purity.x &lt;dbl&gt; | top_variable.x &lt;chr&gt; | top_variable_vcp &lt;dbl&gt; | cos_npc &lt;dbl&gt; | min_npc_outcome &lt;dbl&gt; | n_variables.x &lt;int&gt; | colocalized_index &lt;chr&gt; | ⋯ ⋯ | event_ID &lt;chr&gt; | cs_coverage_0.95 &lt;int&gt; | cs_coverage_0.7 &lt;int&gt; | cs_coverage_0.5 &lt;int&gt; | PIP &lt;dbl&gt; | conditional_effect &lt;dbl&gt; | Cohort &lt;chr&gt; | Data_Type &lt;chr&gt; | Modality &lt;chr&gt; | Cohort_Data_Type_Modality &lt;chr&gt; |\n",
       "|---|---|---|---|---|---|---|---|---|---|---|---|---|---|---|---|---|---|---|---|---|---|\n",
       "| 1 | FALSE | image_AD2 | cos1:y1_y5 | 0.969915 | chr1:236262657:G:A | 0.01486987 | 0.9712 | 0.9712 | 92 | 1340 | ⋯ | BM_10_MSBB_eQTL_ENSG00000086619                                 | 4 | 0 | 0 | 0.003289419 |  0.1484225 | MSBB      | eQTL | BM_10        | MSBB_eQTL_BM_10             |\n",
       "| 2 | FALSE | image_AD2 | cos1:y1_y5 | 0.969915 | chr1:236262657:G:A | 0.01486987 | 0.9712 | 0.9712 | 92 | 1340 | ⋯ | Metabrain_Basalganglia_chr1_235215101_237720000_ENSG00000086619 | 1 | 0 | 0 | 0.006603109 |         NA | MetaBrain | eQTL | Basalganglia | MetaBrain_eQTL_Basalganglia |\n",
       "| 3 | FALSE | image_AD2 | cos1:y1_y5 | 0.969915 | chr1:236262657:G:A | 0.01486987 | 0.9712 | 0.9712 | 92 | 1340 | ⋯ | Inh_Kellis_eQTL_ENSG00000086619                                 | 1 | 0 | 0 | 0.006090808 | -0.3649705 | ROSMAP    | eQTL | Inh_Kellis   | ROSMAP_eQTL_Inh_Kellis      |\n",
       "| 4 | FALSE | image_AD2 | cos1:y1_y5 | 0.969915 | chr1:236262657:G:A | 0.01486987 | 0.9712 | 0.9712 | 92 | 1340 | ⋯ | Inh_mega_eQTL_ENSG00000086619                                   | 1 | 1 | 1 | 0.009736795 | -0.2968699 | ROSMAP    | eQTL | Inh_mega     | ROSMAP_eQTL_Inh_mega        |\n",
       "| 5 | FALSE | image_AD2 | cos1:y1_y5 | 0.969915 | chr1:236262657:G:A | 0.01486987 | 0.9712 | 0.9712 | 92 | 1340 | ⋯ | PCC_DeJager_eQTL_ENSG00000086619                                | 2 | 0 | 0 | 0.005950944 |  0.3360740 | ROSMAP    | eQTL | PCC          | ROSMAP_eQTL_PCC             |\n",
       "| 6 | FALSE | image_AD2 | cos1:y1_y5 | 0.969915 | chr1:236262657:G:A | 0.01486987 | 0.9712 | 0.9712 | 92 | 1340 | ⋯ | STARNET_eQTL_Mac_ENSG00000086619                                | 2 | 0 | 0 | 0.014579373 |  0.3150701 | STARNET   | eQTL | Mac          | STARNET_eQTL_Mac            |\n",
       "\n"
      ],
      "text/plain": [
       "  focal_outcome colocalized_outcomes cos_id     purity.x top_variable.x    \n",
       "1 FALSE         image_AD2            cos1:y1_y5 0.969915 chr1:236262657:G:A\n",
       "2 FALSE         image_AD2            cos1:y1_y5 0.969915 chr1:236262657:G:A\n",
       "3 FALSE         image_AD2            cos1:y1_y5 0.969915 chr1:236262657:G:A\n",
       "4 FALSE         image_AD2            cos1:y1_y5 0.969915 chr1:236262657:G:A\n",
       "5 FALSE         image_AD2            cos1:y1_y5 0.969915 chr1:236262657:G:A\n",
       "6 FALSE         image_AD2            cos1:y1_y5 0.969915 chr1:236262657:G:A\n",
       "  top_variable_vcp cos_npc min_npc_outcome n_variables.x colocalized_index ⋯\n",
       "1 0.01486987       0.9712  0.9712          92            1340              ⋯\n",
       "2 0.01486987       0.9712  0.9712          92            1340              ⋯\n",
       "3 0.01486987       0.9712  0.9712          92            1340              ⋯\n",
       "4 0.01486987       0.9712  0.9712          92            1340              ⋯\n",
       "5 0.01486987       0.9712  0.9712          92            1340              ⋯\n",
       "6 0.01486987       0.9712  0.9712          92            1340              ⋯\n",
       "  event_ID                                                       \n",
       "1 BM_10_MSBB_eQTL_ENSG00000086619                                \n",
       "2 Metabrain_Basalganglia_chr1_235215101_237720000_ENSG00000086619\n",
       "3 Inh_Kellis_eQTL_ENSG00000086619                                \n",
       "4 Inh_mega_eQTL_ENSG00000086619                                  \n",
       "5 PCC_DeJager_eQTL_ENSG00000086619                               \n",
       "6 STARNET_eQTL_Mac_ENSG00000086619                               \n",
       "  cs_coverage_0.95 cs_coverage_0.7 cs_coverage_0.5 PIP        \n",
       "1 4                0               0               0.003289419\n",
       "2 1                0               0               0.006603109\n",
       "3 1                0               0               0.006090808\n",
       "4 1                1               1               0.009736795\n",
       "5 2                0               0               0.005950944\n",
       "6 2                0               0               0.014579373\n",
       "  conditional_effect Cohort    Data_Type Modality    \n",
       "1  0.1484225         MSBB      eQTL      BM_10       \n",
       "2         NA         MetaBrain eQTL      Basalganglia\n",
       "3 -0.3649705         ROSMAP    eQTL      Inh_Kellis  \n",
       "4 -0.2968699         ROSMAP    eQTL      Inh_mega    \n",
       "5  0.3360740         ROSMAP    eQTL      PCC         \n",
       "6  0.3150701         STARNET   eQTL      Mac         \n",
       "  Cohort_Data_Type_Modality  \n",
       "1 MSBB_eQTL_BM_10            \n",
       "2 MetaBrain_eQTL_Basalganglia\n",
       "3 ROSMAP_eQTL_Inh_Kellis     \n",
       "4 ROSMAP_eQTL_Inh_mega       \n",
       "5 ROSMAP_eQTL_PCC            \n",
       "6 STARNET_eQTL_Mac           "
      ]
     },
     "metadata": {},
     "output_type": "display_data"
    }
   ],
   "source": [
    "head(overlapped_combined_xqtl)"
   ]
  },
  {
   "cell_type": "code",
   "execution_count": 93,
   "id": "0cdc2cd4-d16b-4185-82d9-e5b18d66cd0c",
   "metadata": {},
   "outputs": [
    {
     "data": {
      "text/html": [
       "<table class=\"dataframe\">\n",
       "<caption>A tibble: 7 × 2</caption>\n",
       "<thead>\n",
       "\t<tr><th scope=col>colocalized_outcomes</th><th scope=col>cos_variant_in_xqtl_count</th></tr>\n",
       "\t<tr><th scope=col>&lt;chr&gt;</th><th scope=col>&lt;int&gt;</th></tr>\n",
       "</thead>\n",
       "<tbody>\n",
       "\t<tr><td>image_AD1   </td><td> 878</td></tr>\n",
       "\t<tr><td>image_AD2   </td><td> 712</td></tr>\n",
       "\t<tr><td>image_Aging1</td><td>1313</td></tr>\n",
       "\t<tr><td>image_Aging2</td><td>1068</td></tr>\n",
       "\t<tr><td>image_Aging3</td><td>2906</td></tr>\n",
       "\t<tr><td>image_Aging4</td><td>1124</td></tr>\n",
       "\t<tr><td>image_Aging5</td><td>2029</td></tr>\n",
       "</tbody>\n",
       "</table>\n"
      ],
      "text/latex": [
       "A tibble: 7 × 2\n",
       "\\begin{tabular}{ll}\n",
       " colocalized\\_outcomes & cos\\_variant\\_in\\_xqtl\\_count\\\\\n",
       " <chr> & <int>\\\\\n",
       "\\hline\n",
       "\t image\\_AD1    &  878\\\\\n",
       "\t image\\_AD2    &  712\\\\\n",
       "\t image\\_Aging1 & 1313\\\\\n",
       "\t image\\_Aging2 & 1068\\\\\n",
       "\t image\\_Aging3 & 2906\\\\\n",
       "\t image\\_Aging4 & 1124\\\\\n",
       "\t image\\_Aging5 & 2029\\\\\n",
       "\\end{tabular}\n"
      ],
      "text/markdown": [
       "\n",
       "A tibble: 7 × 2\n",
       "\n",
       "| colocalized_outcomes &lt;chr&gt; | cos_variant_in_xqtl_count &lt;int&gt; |\n",
       "|---|---|\n",
       "| image_AD1    |  878 |\n",
       "| image_AD2    |  712 |\n",
       "| image_Aging1 | 1313 |\n",
       "| image_Aging2 | 1068 |\n",
       "| image_Aging3 | 2906 |\n",
       "| image_Aging4 | 1124 |\n",
       "| image_Aging5 | 2029 |\n",
       "\n"
      ],
      "text/plain": [
       "  colocalized_outcomes cos_variant_in_xqtl_count\n",
       "1 image_AD1             878                     \n",
       "2 image_AD2             712                     \n",
       "3 image_Aging1         1313                     \n",
       "4 image_Aging2         1068                     \n",
       "5 image_Aging3         2906                     \n",
       "6 image_Aging4         1124                     \n",
       "7 image_Aging5         2029                     "
      ]
     },
     "metadata": {},
     "output_type": "display_data"
    }
   ],
   "source": [
    "combined_var_overlapped_by_outcomes = overlapped_combined_xqtl |> group_by(colocalized_outcomes) |> summarize(cos_variant_in_xqtl_count = n_distinct(colocalized_variables))\n",
    "combined_var_overlapped_by_outcomes"
   ]
  },
  {
   "cell_type": "code",
   "execution_count": 103,
   "id": "0b14e66a-b75b-4b4b-b408-1dc946842cb1",
   "metadata": {},
   "outputs": [
    {
     "data": {
      "text/html": [
       "<table class=\"dataframe\">\n",
       "<caption>A tibble: 7 × 4</caption>\n",
       "<thead>\n",
       "\t<tr><th scope=col>colocalized_outcomes</th><th scope=col>cos_variant_count</th><th scope=col>cos_variant_in_xqtl_count</th><th scope=col>percent_overlap</th></tr>\n",
       "\t<tr><th scope=col>&lt;chr&gt;</th><th scope=col>&lt;int&gt;</th><th scope=col>&lt;int&gt;</th><th scope=col>&lt;dbl&gt;</th></tr>\n",
       "</thead>\n",
       "<tbody>\n",
       "\t<tr><td>image_AD1   </td><td>2007</td><td> 878</td><td>43.74689</td></tr>\n",
       "\t<tr><td>image_AD2   </td><td>1429</td><td> 712</td><td>49.82505</td></tr>\n",
       "\t<tr><td>image_Aging1</td><td>2648</td><td>1313</td><td>49.58459</td></tr>\n",
       "\t<tr><td>image_Aging2</td><td>1912</td><td>1068</td><td>55.85774</td></tr>\n",
       "\t<tr><td>image_Aging3</td><td>3700</td><td>2906</td><td>78.54054</td></tr>\n",
       "\t<tr><td>image_Aging4</td><td>2063</td><td>1124</td><td>54.48376</td></tr>\n",
       "\t<tr><td>image_Aging5</td><td>3042</td><td>2029</td><td>66.69954</td></tr>\n",
       "</tbody>\n",
       "</table>\n"
      ],
      "text/latex": [
       "A tibble: 7 × 4\n",
       "\\begin{tabular}{llll}\n",
       " colocalized\\_outcomes & cos\\_variant\\_count & cos\\_variant\\_in\\_xqtl\\_count & percent\\_overlap\\\\\n",
       " <chr> & <int> & <int> & <dbl>\\\\\n",
       "\\hline\n",
       "\t image\\_AD1    & 2007 &  878 & 43.74689\\\\\n",
       "\t image\\_AD2    & 1429 &  712 & 49.82505\\\\\n",
       "\t image\\_Aging1 & 2648 & 1313 & 49.58459\\\\\n",
       "\t image\\_Aging2 & 1912 & 1068 & 55.85774\\\\\n",
       "\t image\\_Aging3 & 3700 & 2906 & 78.54054\\\\\n",
       "\t image\\_Aging4 & 2063 & 1124 & 54.48376\\\\\n",
       "\t image\\_Aging5 & 3042 & 2029 & 66.69954\\\\\n",
       "\\end{tabular}\n"
      ],
      "text/markdown": [
       "\n",
       "A tibble: 7 × 4\n",
       "\n",
       "| colocalized_outcomes &lt;chr&gt; | cos_variant_count &lt;int&gt; | cos_variant_in_xqtl_count &lt;int&gt; | percent_overlap &lt;dbl&gt; |\n",
       "|---|---|---|---|\n",
       "| image_AD1    | 2007 |  878 | 43.74689 |\n",
       "| image_AD2    | 1429 |  712 | 49.82505 |\n",
       "| image_Aging1 | 2648 | 1313 | 49.58459 |\n",
       "| image_Aging2 | 1912 | 1068 | 55.85774 |\n",
       "| image_Aging3 | 3700 | 2906 | 78.54054 |\n",
       "| image_Aging4 | 2063 | 1124 | 54.48376 |\n",
       "| image_Aging5 | 3042 | 2029 | 66.69954 |\n",
       "\n"
      ],
      "text/plain": [
       "  colocalized_outcomes cos_variant_count cos_variant_in_xqtl_count\n",
       "1 image_AD1            2007               878                     \n",
       "2 image_AD2            1429               712                     \n",
       "3 image_Aging1         2648              1313                     \n",
       "4 image_Aging2         1912              1068                     \n",
       "5 image_Aging3         3700              2906                     \n",
       "6 image_Aging4         2063              1124                     \n",
       "7 image_Aging5         3042              2029                     \n",
       "  percent_overlap\n",
       "1 43.74689       \n",
       "2 49.82505       \n",
       "3 49.58459       \n",
       "4 55.85774       \n",
       "5 78.54054       \n",
       "6 54.48376       \n",
       "7 66.69954       "
      ]
     },
     "metadata": {},
     "output_type": "display_data"
    }
   ],
   "source": [
    "heretability_explained= combined_var_by_outcomes |> inner_join(combined_var_overlapped_by_outcomes, by = 'colocalized_outcomes')\n",
    "# Add total columns and proportion\n",
    "heretability_explained <- heretability_explained %>%\n",
    "  mutate(\n",
    "    percent_overlap = (cos_variant_in_xqtl_count / cos_variant_count) * 100\n",
    "  )\n",
    "\n",
    "heretability_explained"
   ]
  },
  {
   "cell_type": "code",
   "execution_count": 106,
   "id": "516a141a-6771-49b5-9151-8c3d638d5ad3",
   "metadata": {},
   "outputs": [
    {
     "data": {
      "text/html": [
       "14573"
      ],
      "text/latex": [
       "14573"
      ],
      "text/markdown": [
       "14573"
      ],
      "text/plain": [
       "[1] 14573"
      ]
     },
     "metadata": {},
     "output_type": "display_data"
    }
   ],
   "source": [
    "combined_cb_variant_id = combined_cb_top_loci |> count(colocalized_variables)\n",
    "nrow(combined_cb_variant_id)"
   ]
  },
  {
   "cell_type": "code",
   "execution_count": 104,
   "id": "a0a1d15f-89f4-42bf-a6e4-197bfbc336cb",
   "metadata": {},
   "outputs": [
    {
     "data": {
      "text/html": [
       "9009"
      ],
      "text/latex": [
       "9009"
      ],
      "text/markdown": [
       "9009"
      ],
      "text/plain": [
       "[1] 9009"
      ]
     },
     "metadata": {},
     "output_type": "display_data"
    }
   ],
   "source": [
    "overlapped_combined_xqtl_variant_id = overlapped_combined_xqtl |> count(colocalized_variables)\n",
    "nrow(overlapped_combined_xqtl_variant_id)"
   ]
  },
  {
   "cell_type": "code",
   "execution_count": 107,
   "id": "0c115aca-9b2f-46df-872d-81469efb282f",
   "metadata": {},
   "outputs": [
    {
     "data": {
      "text/html": [
       "61.8198037466548"
      ],
      "text/latex": [
       "61.8198037466548"
      ],
      "text/markdown": [
       "61.8198037466548"
      ],
      "text/plain": [
       "[1] 61.8198"
      ]
     },
     "metadata": {},
     "output_type": "display_data"
    }
   ],
   "source": [
    "prop_cos = (nrow(overlapped_combined_xqtl_variant_id)/nrow(combined_cb_variant_id)) * 100 \n",
    "prop_cos"
   ]
  },
  {
   "cell_type": "code",
   "execution_count": 138,
   "id": "86a89910-d5bc-41ff-9063-aa11b7af882d",
   "metadata": {},
   "outputs": [
    {
     "data": {
      "text/html": [
       "<table class=\"dataframe\">\n",
       "<caption>A data.frame: 1 × 2</caption>\n",
       "<thead>\n",
       "\t<tr><th scope=col>event_ID</th><th scope=col>n</th></tr>\n",
       "\t<tr><th scope=col>&lt;chr&gt;</th><th scope=col>&lt;int&gt;</th></tr>\n",
       "</thead>\n",
       "<tbody>\n",
       "\t<tr><td>Exc_DeJager_eQTL_ENSG00000145901</td><td>2</td></tr>\n",
       "</tbody>\n",
       "</table>\n"
      ],
      "text/latex": [
       "A data.frame: 1 × 2\n",
       "\\begin{tabular}{ll}\n",
       " event\\_ID & n\\\\\n",
       " <chr> & <int>\\\\\n",
       "\\hline\n",
       "\t Exc\\_DeJager\\_eQTL\\_ENSG00000145901 & 2\\\\\n",
       "\\end{tabular}\n"
      ],
      "text/markdown": [
       "\n",
       "A data.frame: 1 × 2\n",
       "\n",
       "| event_ID &lt;chr&gt; | n &lt;int&gt; |\n",
       "|---|---|\n",
       "| Exc_DeJager_eQTL_ENSG00000145901 | 2 |\n",
       "\n"
      ],
      "text/plain": [
       "  event_ID                         n\n",
       "1 Exc_DeJager_eQTL_ENSG00000145901 2"
      ]
     },
     "metadata": {},
     "output_type": "display_data"
    }
   ],
   "source": [
    "overlapped_combined_xqtl |> filter(gene_ID == \"ENSG00000145901\") |> count(event_ID)# TNIP1"
   ]
  },
  {
   "cell_type": "code",
   "execution_count": 139,
   "id": "5eb887f8-263f-426c-b989-65beee512909",
   "metadata": {},
   "outputs": [
    {
     "data": {
      "text/html": [
       "<table class=\"dataframe\">\n",
       "<caption>A data.frame: 0 × 2</caption>\n",
       "<thead>\n",
       "\t<tr><th scope=col>event_ID</th><th scope=col>n</th></tr>\n",
       "\t<tr><th scope=col>&lt;chr&gt;</th><th scope=col>&lt;int&gt;</th></tr>\n",
       "</thead>\n",
       "<tbody>\n",
       "</tbody>\n",
       "</table>\n"
      ],
      "text/latex": [
       "A data.frame: 0 × 2\n",
       "\\begin{tabular}{ll}\n",
       " event\\_ID & n\\\\\n",
       " <chr> & <int>\\\\\n",
       "\\hline\n",
       "\\end{tabular}\n"
      ],
      "text/markdown": [
       "\n",
       "A data.frame: 0 × 2\n",
       "\n",
       "| event_ID &lt;chr&gt; | n &lt;int&gt; |\n",
       "|---|---|\n",
       "\n"
      ],
      "text/plain": [
       "     event_ID n"
      ]
     },
     "metadata": {},
     "output_type": "display_data"
    }
   ],
   "source": [
    "overlapped_combined_xqtl |> filter(gene_ID == \"ENSG00000149927\") |> count(event_ID) #DOC2A\n"
   ]
  },
  {
   "cell_type": "code",
   "execution_count": 140,
   "id": "ac9e4aaa-357e-4820-b442-468dbd1ad826",
   "metadata": {},
   "outputs": [
    {
     "data": {
      "text/html": [
       "<table class=\"dataframe\">\n",
       "<caption>A data.frame: 10 × 2</caption>\n",
       "<thead>\n",
       "\t<tr><th scope=col>event_ID</th><th scope=col>n</th></tr>\n",
       "\t<tr><th scope=col>&lt;chr&gt;</th><th scope=col>&lt;int&gt;</th></tr>\n",
       "</thead>\n",
       "<tbody>\n",
       "\t<tr><td>BM_10_MSBB_eQTL_ENSG00000102882                         </td><td>4</td></tr>\n",
       "\t<tr><td>BM_22_MSBB_eQTL_ENSG00000102882                         </td><td>4</td></tr>\n",
       "\t<tr><td>BM_44_MSBB_eQTL_ENSG00000102882                         </td><td>4</td></tr>\n",
       "\t<tr><td>DLPFC_Bennett_pQTL_ENSG00000102882                      </td><td>8</td></tr>\n",
       "\t<tr><td>DLPFC_DeJager_eQTL_ENSG00000102882                      </td><td>6</td></tr>\n",
       "\t<tr><td>Exc_DeJager_eQTL_ENSG00000102882                        </td><td>8</td></tr>\n",
       "\t<tr><td>Exc_Kellis_eQTL_ENSG00000102882                         </td><td>8</td></tr>\n",
       "\t<tr><td>Exc_mega_eQTL_ENSG00000102882                           </td><td>8</td></tr>\n",
       "\t<tr><td>Metabrain_Cortex_chr16_28360000_34000000_ENSG00000102882</td><td>4</td></tr>\n",
       "\t<tr><td>PCC_DeJager_eQTL_ENSG00000102882                        </td><td>8</td></tr>\n",
       "</tbody>\n",
       "</table>\n"
      ],
      "text/latex": [
       "A data.frame: 10 × 2\n",
       "\\begin{tabular}{ll}\n",
       " event\\_ID & n\\\\\n",
       " <chr> & <int>\\\\\n",
       "\\hline\n",
       "\t BM\\_10\\_MSBB\\_eQTL\\_ENSG00000102882                          & 4\\\\\n",
       "\t BM\\_22\\_MSBB\\_eQTL\\_ENSG00000102882                          & 4\\\\\n",
       "\t BM\\_44\\_MSBB\\_eQTL\\_ENSG00000102882                          & 4\\\\\n",
       "\t DLPFC\\_Bennett\\_pQTL\\_ENSG00000102882                       & 8\\\\\n",
       "\t DLPFC\\_DeJager\\_eQTL\\_ENSG00000102882                       & 6\\\\\n",
       "\t Exc\\_DeJager\\_eQTL\\_ENSG00000102882                         & 8\\\\\n",
       "\t Exc\\_Kellis\\_eQTL\\_ENSG00000102882                          & 8\\\\\n",
       "\t Exc\\_mega\\_eQTL\\_ENSG00000102882                            & 8\\\\\n",
       "\t Metabrain\\_Cortex\\_chr16\\_28360000\\_34000000\\_ENSG00000102882 & 4\\\\\n",
       "\t PCC\\_DeJager\\_eQTL\\_ENSG00000102882                         & 8\\\\\n",
       "\\end{tabular}\n"
      ],
      "text/markdown": [
       "\n",
       "A data.frame: 10 × 2\n",
       "\n",
       "| event_ID &lt;chr&gt; | n &lt;int&gt; |\n",
       "|---|---|\n",
       "| BM_10_MSBB_eQTL_ENSG00000102882                          | 4 |\n",
       "| BM_22_MSBB_eQTL_ENSG00000102882                          | 4 |\n",
       "| BM_44_MSBB_eQTL_ENSG00000102882                          | 4 |\n",
       "| DLPFC_Bennett_pQTL_ENSG00000102882                       | 8 |\n",
       "| DLPFC_DeJager_eQTL_ENSG00000102882                       | 6 |\n",
       "| Exc_DeJager_eQTL_ENSG00000102882                         | 8 |\n",
       "| Exc_Kellis_eQTL_ENSG00000102882                          | 8 |\n",
       "| Exc_mega_eQTL_ENSG00000102882                            | 8 |\n",
       "| Metabrain_Cortex_chr16_28360000_34000000_ENSG00000102882 | 4 |\n",
       "| PCC_DeJager_eQTL_ENSG00000102882                         | 8 |\n",
       "\n"
      ],
      "text/plain": [
       "   event_ID                                                 n\n",
       "1  BM_10_MSBB_eQTL_ENSG00000102882                          4\n",
       "2  BM_22_MSBB_eQTL_ENSG00000102882                          4\n",
       "3  BM_44_MSBB_eQTL_ENSG00000102882                          4\n",
       "4  DLPFC_Bennett_pQTL_ENSG00000102882                       8\n",
       "5  DLPFC_DeJager_eQTL_ENSG00000102882                       6\n",
       "6  Exc_DeJager_eQTL_ENSG00000102882                         8\n",
       "7  Exc_Kellis_eQTL_ENSG00000102882                          8\n",
       "8  Exc_mega_eQTL_ENSG00000102882                            8\n",
       "9  Metabrain_Cortex_chr16_28360000_34000000_ENSG00000102882 4\n",
       "10 PCC_DeJager_eQTL_ENSG00000102882                         8"
      ]
     },
     "metadata": {},
     "output_type": "display_data"
    }
   ],
   "source": [
    "overlapped_combined_xqtl |> filter(gene_ID == \"ENSG00000102882\") |> count(event_ID) #MAPK3"
   ]
  },
  {
   "cell_type": "code",
   "execution_count": null,
   "id": "85d4530a-f0c7-42a3-83b8-176ccd5b36d7",
   "metadata": {},
   "outputs": [],
   "source": [
    "overlapped_combined_xqtl |> filter()"
   ]
  },
  {
   "cell_type": "markdown",
   "id": "032547f6-72d6-4905-8403-6f0a6b4a2282",
   "metadata": {},
   "source": [
    "## Finemapping"
   ]
  },
  {
   "cell_type": "code",
   "execution_count": 108,
   "id": "d96a977f-def0-4908-a856-52014b0a26bc",
   "metadata": {},
   "outputs": [],
   "source": [
    "image_MS_finemap = fread(\"project/image_QTL/cb_varisnts_explained_by_xQTL/AI_IMAGE.hg38_all_blocks_with_MS.toploci.bed.gz\")"
   ]
  },
  {
   "cell_type": "code",
   "execution_count": 109,
   "id": "6020129d-df6c-44f2-83a1-1daa20e712af",
   "metadata": {},
   "outputs": [],
   "source": [
    "image_finemap_top_loci = image_MS_finemap |> filter(event_ID != \"MS_EUR\" & cs_coverage_0.95 > 0)"
   ]
  },
  {
   "cell_type": "code",
   "execution_count": 110,
   "id": "d1dec111-c40b-429a-b4c7-eab02306d67b",
   "metadata": {},
   "outputs": [
    {
     "data": {
      "text/html": [
       "<table class=\"dataframe\">\n",
       "<caption>A data.table: 6 × 16</caption>\n",
       "<thead>\n",
       "\t<tr><th scope=col>chr</th><th scope=col>pos</th><th scope=col>a1</th><th scope=col>a2</th><th scope=col>variant_ID</th><th scope=col>gene_ID</th><th scope=col>event_ID</th><th scope=col>cs_coverage_0.95</th><th scope=col>cs_coverage_0.7</th><th scope=col>cs_coverage_0.5</th><th scope=col>cs_coverage_0.95_purity0.5</th><th scope=col>cs_coverage_0.7_purity0.5</th><th scope=col>cs_coverage_0.5_purity0.5</th><th scope=col>PIP</th><th scope=col>region_id</th><th scope=col>finemap_model</th></tr>\n",
       "\t<tr><th scope=col>&lt;int&gt;</th><th scope=col>&lt;int&gt;</th><th scope=col>&lt;chr&gt;</th><th scope=col>&lt;chr&gt;</th><th scope=col>&lt;chr&gt;</th><th scope=col>&lt;chr&gt;</th><th scope=col>&lt;chr&gt;</th><th scope=col>&lt;int&gt;</th><th scope=col>&lt;int&gt;</th><th scope=col>&lt;int&gt;</th><th scope=col>&lt;lgl&gt;</th><th scope=col>&lt;lgl&gt;</th><th scope=col>&lt;lgl&gt;</th><th scope=col>&lt;dbl&gt;</th><th scope=col>&lt;chr&gt;</th><th scope=col>&lt;chr&gt;</th></tr>\n",
       "</thead>\n",
       "<tbody>\n",
       "\t<tr><td>10</td><td>113151320</td><td>C</td><td>T</td><td>10:113151320:T:C</td><td>chr10_109887976_113830418</td><td>image_Aging4</td><td>1</td><td>1</td><td>0</td><td>NA</td><td>NA</td><td>NA</td><td>0.40079437</td><td>chr10_109887976_113830418</td><td>single_effect_NO_QC</td></tr>\n",
       "\t<tr><td>10</td><td>113154953</td><td>C</td><td>G</td><td>10:113154953:G:C</td><td>chr10_109887976_113830418</td><td>image_Aging4</td><td>1</td><td>1</td><td>1</td><td>NA</td><td>NA</td><td>NA</td><td>0.56692357</td><td>chr10_109887976_113830418</td><td>single_effect_NO_QC</td></tr>\n",
       "\t<tr><td>10</td><td>124735568</td><td>T</td><td>C</td><td>10:124735568:C:T</td><td>chr10_123788803_125506866</td><td>image_Aging2</td><td>1</td><td>1</td><td>1</td><td>NA</td><td>NA</td><td>NA</td><td>0.08268593</td><td>chr10_123788803_125506866</td><td>single_effect_NO_QC</td></tr>\n",
       "\t<tr><td>10</td><td>124736254</td><td>A</td><td>G</td><td>10:124736254:G:A</td><td>chr10_123788803_125506866</td><td>image_Aging2</td><td>1</td><td>1</td><td>1</td><td>NA</td><td>NA</td><td>NA</td><td>0.06293853</td><td>chr10_123788803_125506866</td><td>single_effect_NO_QC</td></tr>\n",
       "\t<tr><td>10</td><td>124736266</td><td>T</td><td>C</td><td>10:124736266:C:T</td><td>chr10_123788803_125506866</td><td>image_Aging2</td><td>1</td><td>1</td><td>1</td><td>NA</td><td>NA</td><td>NA</td><td>0.06293853</td><td>chr10_123788803_125506866</td><td>single_effect_NO_QC</td></tr>\n",
       "\t<tr><td>10</td><td>124738468</td><td>T</td><td>G</td><td>10:124738468:G:T</td><td>chr10_123788803_125506866</td><td>image_Aging2</td><td>1</td><td>1</td><td>1</td><td>NA</td><td>NA</td><td>NA</td><td>0.06363942</td><td>chr10_123788803_125506866</td><td>single_effect_NO_QC</td></tr>\n",
       "</tbody>\n",
       "</table>\n"
      ],
      "text/latex": [
       "A data.table: 6 × 16\n",
       "\\begin{tabular}{llllllllllllllll}\n",
       " chr & pos & a1 & a2 & variant\\_ID & gene\\_ID & event\\_ID & cs\\_coverage\\_0.95 & cs\\_coverage\\_0.7 & cs\\_coverage\\_0.5 & cs\\_coverage\\_0.95\\_purity0.5 & cs\\_coverage\\_0.7\\_purity0.5 & cs\\_coverage\\_0.5\\_purity0.5 & PIP & region\\_id & finemap\\_model\\\\\n",
       " <int> & <int> & <chr> & <chr> & <chr> & <chr> & <chr> & <int> & <int> & <int> & <lgl> & <lgl> & <lgl> & <dbl> & <chr> & <chr>\\\\\n",
       "\\hline\n",
       "\t 10 & 113151320 & C & T & 10:113151320:T:C & chr10\\_109887976\\_113830418 & image\\_Aging4 & 1 & 1 & 0 & NA & NA & NA & 0.40079437 & chr10\\_109887976\\_113830418 & single\\_effect\\_NO\\_QC\\\\\n",
       "\t 10 & 113154953 & C & G & 10:113154953:G:C & chr10\\_109887976\\_113830418 & image\\_Aging4 & 1 & 1 & 1 & NA & NA & NA & 0.56692357 & chr10\\_109887976\\_113830418 & single\\_effect\\_NO\\_QC\\\\\n",
       "\t 10 & 124735568 & T & C & 10:124735568:C:T & chr10\\_123788803\\_125506866 & image\\_Aging2 & 1 & 1 & 1 & NA & NA & NA & 0.08268593 & chr10\\_123788803\\_125506866 & single\\_effect\\_NO\\_QC\\\\\n",
       "\t 10 & 124736254 & A & G & 10:124736254:G:A & chr10\\_123788803\\_125506866 & image\\_Aging2 & 1 & 1 & 1 & NA & NA & NA & 0.06293853 & chr10\\_123788803\\_125506866 & single\\_effect\\_NO\\_QC\\\\\n",
       "\t 10 & 124736266 & T & C & 10:124736266:C:T & chr10\\_123788803\\_125506866 & image\\_Aging2 & 1 & 1 & 1 & NA & NA & NA & 0.06293853 & chr10\\_123788803\\_125506866 & single\\_effect\\_NO\\_QC\\\\\n",
       "\t 10 & 124738468 & T & G & 10:124738468:G:T & chr10\\_123788803\\_125506866 & image\\_Aging2 & 1 & 1 & 1 & NA & NA & NA & 0.06363942 & chr10\\_123788803\\_125506866 & single\\_effect\\_NO\\_QC\\\\\n",
       "\\end{tabular}\n"
      ],
      "text/markdown": [
       "\n",
       "A data.table: 6 × 16\n",
       "\n",
       "| chr &lt;int&gt; | pos &lt;int&gt; | a1 &lt;chr&gt; | a2 &lt;chr&gt; | variant_ID &lt;chr&gt; | gene_ID &lt;chr&gt; | event_ID &lt;chr&gt; | cs_coverage_0.95 &lt;int&gt; | cs_coverage_0.7 &lt;int&gt; | cs_coverage_0.5 &lt;int&gt; | cs_coverage_0.95_purity0.5 &lt;lgl&gt; | cs_coverage_0.7_purity0.5 &lt;lgl&gt; | cs_coverage_0.5_purity0.5 &lt;lgl&gt; | PIP &lt;dbl&gt; | region_id &lt;chr&gt; | finemap_model &lt;chr&gt; |\n",
       "|---|---|---|---|---|---|---|---|---|---|---|---|---|---|---|---|\n",
       "| 10 | 113151320 | C | T | 10:113151320:T:C | chr10_109887976_113830418 | image_Aging4 | 1 | 1 | 0 | NA | NA | NA | 0.40079437 | chr10_109887976_113830418 | single_effect_NO_QC |\n",
       "| 10 | 113154953 | C | G | 10:113154953:G:C | chr10_109887976_113830418 | image_Aging4 | 1 | 1 | 1 | NA | NA | NA | 0.56692357 | chr10_109887976_113830418 | single_effect_NO_QC |\n",
       "| 10 | 124735568 | T | C | 10:124735568:C:T | chr10_123788803_125506866 | image_Aging2 | 1 | 1 | 1 | NA | NA | NA | 0.08268593 | chr10_123788803_125506866 | single_effect_NO_QC |\n",
       "| 10 | 124736254 | A | G | 10:124736254:G:A | chr10_123788803_125506866 | image_Aging2 | 1 | 1 | 1 | NA | NA | NA | 0.06293853 | chr10_123788803_125506866 | single_effect_NO_QC |\n",
       "| 10 | 124736266 | T | C | 10:124736266:C:T | chr10_123788803_125506866 | image_Aging2 | 1 | 1 | 1 | NA | NA | NA | 0.06293853 | chr10_123788803_125506866 | single_effect_NO_QC |\n",
       "| 10 | 124738468 | T | G | 10:124738468:G:T | chr10_123788803_125506866 | image_Aging2 | 1 | 1 | 1 | NA | NA | NA | 0.06363942 | chr10_123788803_125506866 | single_effect_NO_QC |\n",
       "\n"
      ],
      "text/plain": [
       "  chr pos       a1 a2 variant_ID       gene_ID                   event_ID    \n",
       "1 10  113151320 C  T  10:113151320:T:C chr10_109887976_113830418 image_Aging4\n",
       "2 10  113154953 C  G  10:113154953:G:C chr10_109887976_113830418 image_Aging4\n",
       "3 10  124735568 T  C  10:124735568:C:T chr10_123788803_125506866 image_Aging2\n",
       "4 10  124736254 A  G  10:124736254:G:A chr10_123788803_125506866 image_Aging2\n",
       "5 10  124736266 T  C  10:124736266:C:T chr10_123788803_125506866 image_Aging2\n",
       "6 10  124738468 T  G  10:124738468:G:T chr10_123788803_125506866 image_Aging2\n",
       "  cs_coverage_0.95 cs_coverage_0.7 cs_coverage_0.5 cs_coverage_0.95_purity0.5\n",
       "1 1                1               0               NA                        \n",
       "2 1                1               1               NA                        \n",
       "3 1                1               1               NA                        \n",
       "4 1                1               1               NA                        \n",
       "5 1                1               1               NA                        \n",
       "6 1                1               1               NA                        \n",
       "  cs_coverage_0.7_purity0.5 cs_coverage_0.5_purity0.5 PIP       \n",
       "1 NA                        NA                        0.40079437\n",
       "2 NA                        NA                        0.56692357\n",
       "3 NA                        NA                        0.08268593\n",
       "4 NA                        NA                        0.06293853\n",
       "5 NA                        NA                        0.06293853\n",
       "6 NA                        NA                        0.06363942\n",
       "  region_id                 finemap_model      \n",
       "1 chr10_109887976_113830418 single_effect_NO_QC\n",
       "2 chr10_109887976_113830418 single_effect_NO_QC\n",
       "3 chr10_123788803_125506866 single_effect_NO_QC\n",
       "4 chr10_123788803_125506866 single_effect_NO_QC\n",
       "5 chr10_123788803_125506866 single_effect_NO_QC\n",
       "6 chr10_123788803_125506866 single_effect_NO_QC"
      ]
     },
     "metadata": {},
     "output_type": "display_data"
    }
   ],
   "source": [
    "head(image_finemap_top_loci)"
   ]
  },
  {
   "cell_type": "code",
   "execution_count": 111,
   "id": "9094d13d-0825-471d-9a78-1923ead0a160",
   "metadata": {},
   "outputs": [
    {
     "data": {
      "text/html": [
       "2042"
      ],
      "text/latex": [
       "2042"
      ],
      "text/markdown": [
       "2042"
      ],
      "text/plain": [
       "[1] 2042"
      ]
     },
     "metadata": {},
     "output_type": "display_data"
    }
   ],
   "source": [
    "image_finemap_variant_id = image_finemap_top_loci |> count(variant_ID)\n",
    "nrow(image_finemap_variant_id)"
   ]
  },
  {
   "cell_type": "code",
   "execution_count": 112,
   "id": "bf04d995-3e6e-49a8-9b52-0f31f259f290",
   "metadata": {},
   "outputs": [],
   "source": [
    "image_finemap_top_loci = image_finemap_top_loci |> \n",
    "  mutate(variant_ID = paste0(\"chr\", variant_ID))"
   ]
  },
  {
   "cell_type": "code",
   "execution_count": 123,
   "id": "ec516e2d-d8bf-46d6-849f-a7247b841fb0",
   "metadata": {},
   "outputs": [
    {
     "name": "stderr",
     "output_type": "stream",
     "text": [
      "Warning message in inner_join(image_finemap_top_loci, combined_data, by = \"variant_ID\"):\n",
      "“\u001b[1m\u001b[22mDetected an unexpected many-to-many relationship between `x` and `y`.\n",
      "\u001b[36mℹ\u001b[39m Row 8 of `x` matches multiple rows in `y`.\n",
      "\u001b[36mℹ\u001b[39m Row 733266 of `y` matches multiple rows in `x`.\n",
      "\u001b[36mℹ\u001b[39m If a many-to-many relationship is expected, set `relationship =\n",
      "  \"many-to-many\"` to silence this warning.”\n"
     ]
    }
   ],
   "source": [
    "overlapped_finemap_xqtl = image_finemap_top_loci |> inner_join(combined_data, by = \"variant_ID\")"
   ]
  },
  {
   "cell_type": "code",
   "execution_count": 124,
   "id": "9c09ed59-a8c8-48ec-ab45-dcab1884a6c1",
   "metadata": {},
   "outputs": [
    {
     "data": {
      "text/html": [
       "<style>\n",
       ".list-inline {list-style: none; margin:0; padding: 0}\n",
       ".list-inline>li {display: inline-block}\n",
       ".list-inline>li:not(:last-child)::after {content: \"\\00b7\"; padding: 0 .5ex}\n",
       "</style>\n",
       "<ol class=list-inline><li>11449</li><li>32</li></ol>\n"
      ],
      "text/latex": [
       "\\begin{enumerate*}\n",
       "\\item 11449\n",
       "\\item 32\n",
       "\\end{enumerate*}\n"
      ],
      "text/markdown": [
       "1. 11449\n",
       "2. 32\n",
       "\n",
       "\n"
      ],
      "text/plain": [
       "[1] 11449    32"
      ]
     },
     "metadata": {},
     "output_type": "display_data"
    },
    {
     "data": {
      "text/html": [
       "<table class=\"dataframe\">\n",
       "<caption>A data.table: 6 × 32</caption>\n",
       "<thead>\n",
       "\t<tr><th scope=col>chr</th><th scope=col>pos</th><th scope=col>a1.x</th><th scope=col>a2.x</th><th scope=col>variant_ID</th><th scope=col>gene_ID.x</th><th scope=col>event_ID.x</th><th scope=col>cs_coverage_0.95.x</th><th scope=col>cs_coverage_0.7.x</th><th scope=col>cs_coverage_0.5.x</th><th scope=col>⋯</th><th scope=col>event_ID.y</th><th scope=col>cs_coverage_0.95.y</th><th scope=col>cs_coverage_0.7.y</th><th scope=col>cs_coverage_0.5.y</th><th scope=col>PIP.y</th><th scope=col>conditional_effect</th><th scope=col>Cohort</th><th scope=col>Data_Type</th><th scope=col>Modality</th><th scope=col>Cohort_Data_Type_Modality</th></tr>\n",
       "\t<tr><th scope=col>&lt;int&gt;</th><th scope=col>&lt;int&gt;</th><th scope=col>&lt;chr&gt;</th><th scope=col>&lt;chr&gt;</th><th scope=col>&lt;chr&gt;</th><th scope=col>&lt;chr&gt;</th><th scope=col>&lt;chr&gt;</th><th scope=col>&lt;int&gt;</th><th scope=col>&lt;int&gt;</th><th scope=col>&lt;int&gt;</th><th scope=col>⋯</th><th scope=col>&lt;chr&gt;</th><th scope=col>&lt;int&gt;</th><th scope=col>&lt;int&gt;</th><th scope=col>&lt;int&gt;</th><th scope=col>&lt;dbl&gt;</th><th scope=col>&lt;dbl&gt;</th><th scope=col>&lt;chr&gt;</th><th scope=col>&lt;chr&gt;</th><th scope=col>&lt;chr&gt;</th><th scope=col>&lt;chr&gt;</th></tr>\n",
       "</thead>\n",
       "<tbody>\n",
       "\t<tr><td>10</td><td>113151320</td><td>C</td><td>T</td><td>chr10:113151320:T:C</td><td>chr10_109887976_113830418</td><td>image_Aging4</td><td>1</td><td>1</td><td>0</td><td>⋯</td><td>MiGA_GTS_eQTL_ENSG00000148737                             </td><td>1</td><td>1</td><td>1</td><td>0.245549191</td><td> 0.5383998</td><td>MiGA     </td><td>eQTL</td><td>GTS   </td><td>MiGA_eQTL_GTS        </td></tr>\n",
       "\t<tr><td>10</td><td>113154953</td><td>C</td><td>G</td><td>chr10:113154953:G:C</td><td>chr10_109887976_113830418</td><td>image_Aging4</td><td>1</td><td>1</td><td>1</td><td>⋯</td><td>MiGA_GTS_eQTL_ENSG00000148737                             </td><td>1</td><td>1</td><td>1</td><td>0.245549191</td><td> 0.5383998</td><td>MiGA     </td><td>eQTL</td><td>GTS   </td><td>MiGA_eQTL_GTS        </td></tr>\n",
       "\t<tr><td>10</td><td>124738468</td><td>T</td><td>G</td><td>chr10:124738468:G:T</td><td>chr10_123788803_125506866</td><td>image_Aging2</td><td>1</td><td>1</td><td>1</td><td>⋯</td><td>Metabrain_Cortex_chr10_123748149_125840000_ENSG00000203791</td><td>1</td><td>0</td><td>0</td><td>0.008540928</td><td>        NA</td><td>MetaBrain</td><td>eQTL</td><td>Cortex</td><td>MetaBrain_eQTL_Cortex</td></tr>\n",
       "\t<tr><td>10</td><td>124742712</td><td>C</td><td>G</td><td>chr10:124742712:G:C</td><td>chr10_123788803_125506866</td><td>image_Aging2</td><td>1</td><td>1</td><td>1</td><td>⋯</td><td>BM_44_MSBB_eQTL_ENSG00000203791                           </td><td>1</td><td>0</td><td>0</td><td>0.021270232</td><td>-0.1939711</td><td>MSBB     </td><td>eQTL</td><td>BM_44 </td><td>MSBB_eQTL_BM_44      </td></tr>\n",
       "\t<tr><td>10</td><td>124745001</td><td>G</td><td>C</td><td>chr10:124745001:C:G</td><td>chr10_123788803_125506866</td><td>image_Aging2</td><td>1</td><td>1</td><td>0</td><td>⋯</td><td>BM_10_MSBB_eQTL_ENSG00000203791                           </td><td>1</td><td>0</td><td>0</td><td>0.037077668</td><td>-0.2130287</td><td>MSBB     </td><td>eQTL</td><td>BM_10 </td><td>MSBB_eQTL_BM_10      </td></tr>\n",
       "\t<tr><td>10</td><td>124745001</td><td>G</td><td>C</td><td>chr10:124745001:C:G</td><td>chr10_123788803_125506866</td><td>image_Aging2</td><td>1</td><td>1</td><td>0</td><td>⋯</td><td>BM_22_MSBB_eQTL_ENSG00000203791                           </td><td>1</td><td>0</td><td>0</td><td>0.017635848</td><td>-0.1755835</td><td>MSBB     </td><td>eQTL</td><td>BM_22 </td><td>MSBB_eQTL_BM_22      </td></tr>\n",
       "</tbody>\n",
       "</table>\n"
      ],
      "text/latex": [
       "A data.table: 6 × 32\n",
       "\\begin{tabular}{lllllllllllllllllllll}\n",
       " chr & pos & a1.x & a2.x & variant\\_ID & gene\\_ID.x & event\\_ID.x & cs\\_coverage\\_0.95.x & cs\\_coverage\\_0.7.x & cs\\_coverage\\_0.5.x & ⋯ & event\\_ID.y & cs\\_coverage\\_0.95.y & cs\\_coverage\\_0.7.y & cs\\_coverage\\_0.5.y & PIP.y & conditional\\_effect & Cohort & Data\\_Type & Modality & Cohort\\_Data\\_Type\\_Modality\\\\\n",
       " <int> & <int> & <chr> & <chr> & <chr> & <chr> & <chr> & <int> & <int> & <int> & ⋯ & <chr> & <int> & <int> & <int> & <dbl> & <dbl> & <chr> & <chr> & <chr> & <chr>\\\\\n",
       "\\hline\n",
       "\t 10 & 113151320 & C & T & chr10:113151320:T:C & chr10\\_109887976\\_113830418 & image\\_Aging4 & 1 & 1 & 0 & ⋯ & MiGA\\_GTS\\_eQTL\\_ENSG00000148737                              & 1 & 1 & 1 & 0.245549191 &  0.5383998 & MiGA      & eQTL & GTS    & MiGA\\_eQTL\\_GTS        \\\\\n",
       "\t 10 & 113154953 & C & G & chr10:113154953:G:C & chr10\\_109887976\\_113830418 & image\\_Aging4 & 1 & 1 & 1 & ⋯ & MiGA\\_GTS\\_eQTL\\_ENSG00000148737                              & 1 & 1 & 1 & 0.245549191 &  0.5383998 & MiGA      & eQTL & GTS    & MiGA\\_eQTL\\_GTS        \\\\\n",
       "\t 10 & 124738468 & T & G & chr10:124738468:G:T & chr10\\_123788803\\_125506866 & image\\_Aging2 & 1 & 1 & 1 & ⋯ & Metabrain\\_Cortex\\_chr10\\_123748149\\_125840000\\_ENSG00000203791 & 1 & 0 & 0 & 0.008540928 &         NA & MetaBrain & eQTL & Cortex & MetaBrain\\_eQTL\\_Cortex\\\\\n",
       "\t 10 & 124742712 & C & G & chr10:124742712:G:C & chr10\\_123788803\\_125506866 & image\\_Aging2 & 1 & 1 & 1 & ⋯ & BM\\_44\\_MSBB\\_eQTL\\_ENSG00000203791                            & 1 & 0 & 0 & 0.021270232 & -0.1939711 & MSBB      & eQTL & BM\\_44  & MSBB\\_eQTL\\_BM\\_44      \\\\\n",
       "\t 10 & 124745001 & G & C & chr10:124745001:C:G & chr10\\_123788803\\_125506866 & image\\_Aging2 & 1 & 1 & 0 & ⋯ & BM\\_10\\_MSBB\\_eQTL\\_ENSG00000203791                            & 1 & 0 & 0 & 0.037077668 & -0.2130287 & MSBB      & eQTL & BM\\_10  & MSBB\\_eQTL\\_BM\\_10      \\\\\n",
       "\t 10 & 124745001 & G & C & chr10:124745001:C:G & chr10\\_123788803\\_125506866 & image\\_Aging2 & 1 & 1 & 0 & ⋯ & BM\\_22\\_MSBB\\_eQTL\\_ENSG00000203791                            & 1 & 0 & 0 & 0.017635848 & -0.1755835 & MSBB      & eQTL & BM\\_22  & MSBB\\_eQTL\\_BM\\_22      \\\\\n",
       "\\end{tabular}\n"
      ],
      "text/markdown": [
       "\n",
       "A data.table: 6 × 32\n",
       "\n",
       "| chr &lt;int&gt; | pos &lt;int&gt; | a1.x &lt;chr&gt; | a2.x &lt;chr&gt; | variant_ID &lt;chr&gt; | gene_ID.x &lt;chr&gt; | event_ID.x &lt;chr&gt; | cs_coverage_0.95.x &lt;int&gt; | cs_coverage_0.7.x &lt;int&gt; | cs_coverage_0.5.x &lt;int&gt; | ⋯ ⋯ | event_ID.y &lt;chr&gt; | cs_coverage_0.95.y &lt;int&gt; | cs_coverage_0.7.y &lt;int&gt; | cs_coverage_0.5.y &lt;int&gt; | PIP.y &lt;dbl&gt; | conditional_effect &lt;dbl&gt; | Cohort &lt;chr&gt; | Data_Type &lt;chr&gt; | Modality &lt;chr&gt; | Cohort_Data_Type_Modality &lt;chr&gt; |\n",
       "|---|---|---|---|---|---|---|---|---|---|---|---|---|---|---|---|---|---|---|---|---|\n",
       "| 10 | 113151320 | C | T | chr10:113151320:T:C | chr10_109887976_113830418 | image_Aging4 | 1 | 1 | 0 | ⋯ | MiGA_GTS_eQTL_ENSG00000148737                              | 1 | 1 | 1 | 0.245549191 |  0.5383998 | MiGA      | eQTL | GTS    | MiGA_eQTL_GTS         |\n",
       "| 10 | 113154953 | C | G | chr10:113154953:G:C | chr10_109887976_113830418 | image_Aging4 | 1 | 1 | 1 | ⋯ | MiGA_GTS_eQTL_ENSG00000148737                              | 1 | 1 | 1 | 0.245549191 |  0.5383998 | MiGA      | eQTL | GTS    | MiGA_eQTL_GTS         |\n",
       "| 10 | 124738468 | T | G | chr10:124738468:G:T | chr10_123788803_125506866 | image_Aging2 | 1 | 1 | 1 | ⋯ | Metabrain_Cortex_chr10_123748149_125840000_ENSG00000203791 | 1 | 0 | 0 | 0.008540928 |         NA | MetaBrain | eQTL | Cortex | MetaBrain_eQTL_Cortex |\n",
       "| 10 | 124742712 | C | G | chr10:124742712:G:C | chr10_123788803_125506866 | image_Aging2 | 1 | 1 | 1 | ⋯ | BM_44_MSBB_eQTL_ENSG00000203791                            | 1 | 0 | 0 | 0.021270232 | -0.1939711 | MSBB      | eQTL | BM_44  | MSBB_eQTL_BM_44       |\n",
       "| 10 | 124745001 | G | C | chr10:124745001:C:G | chr10_123788803_125506866 | image_Aging2 | 1 | 1 | 0 | ⋯ | BM_10_MSBB_eQTL_ENSG00000203791                            | 1 | 0 | 0 | 0.037077668 | -0.2130287 | MSBB      | eQTL | BM_10  | MSBB_eQTL_BM_10       |\n",
       "| 10 | 124745001 | G | C | chr10:124745001:C:G | chr10_123788803_125506866 | image_Aging2 | 1 | 1 | 0 | ⋯ | BM_22_MSBB_eQTL_ENSG00000203791                            | 1 | 0 | 0 | 0.017635848 | -0.1755835 | MSBB      | eQTL | BM_22  | MSBB_eQTL_BM_22       |\n",
       "\n"
      ],
      "text/plain": [
       "  chr pos       a1.x a2.x variant_ID          gene_ID.x                \n",
       "1 10  113151320 C    T    chr10:113151320:T:C chr10_109887976_113830418\n",
       "2 10  113154953 C    G    chr10:113154953:G:C chr10_109887976_113830418\n",
       "3 10  124738468 T    G    chr10:124738468:G:T chr10_123788803_125506866\n",
       "4 10  124742712 C    G    chr10:124742712:G:C chr10_123788803_125506866\n",
       "5 10  124745001 G    C    chr10:124745001:C:G chr10_123788803_125506866\n",
       "6 10  124745001 G    C    chr10:124745001:C:G chr10_123788803_125506866\n",
       "  event_ID.x   cs_coverage_0.95.x cs_coverage_0.7.x cs_coverage_0.5.x ⋯\n",
       "1 image_Aging4 1                  1                 0                 ⋯\n",
       "2 image_Aging4 1                  1                 1                 ⋯\n",
       "3 image_Aging2 1                  1                 1                 ⋯\n",
       "4 image_Aging2 1                  1                 1                 ⋯\n",
       "5 image_Aging2 1                  1                 0                 ⋯\n",
       "6 image_Aging2 1                  1                 0                 ⋯\n",
       "  event_ID.y                                                 cs_coverage_0.95.y\n",
       "1 MiGA_GTS_eQTL_ENSG00000148737                              1                 \n",
       "2 MiGA_GTS_eQTL_ENSG00000148737                              1                 \n",
       "3 Metabrain_Cortex_chr10_123748149_125840000_ENSG00000203791 1                 \n",
       "4 BM_44_MSBB_eQTL_ENSG00000203791                            1                 \n",
       "5 BM_10_MSBB_eQTL_ENSG00000203791                            1                 \n",
       "6 BM_22_MSBB_eQTL_ENSG00000203791                            1                 \n",
       "  cs_coverage_0.7.y cs_coverage_0.5.y PIP.y       conditional_effect Cohort   \n",
       "1 1                 1                 0.245549191  0.5383998         MiGA     \n",
       "2 1                 1                 0.245549191  0.5383998         MiGA     \n",
       "3 0                 0                 0.008540928         NA         MetaBrain\n",
       "4 0                 0                 0.021270232 -0.1939711         MSBB     \n",
       "5 0                 0                 0.037077668 -0.2130287         MSBB     \n",
       "6 0                 0                 0.017635848 -0.1755835         MSBB     \n",
       "  Data_Type Modality Cohort_Data_Type_Modality\n",
       "1 eQTL      GTS      MiGA_eQTL_GTS            \n",
       "2 eQTL      GTS      MiGA_eQTL_GTS            \n",
       "3 eQTL      Cortex   MetaBrain_eQTL_Cortex    \n",
       "4 eQTL      BM_44    MSBB_eQTL_BM_44          \n",
       "5 eQTL      BM_10    MSBB_eQTL_BM_10          \n",
       "6 eQTL      BM_22    MSBB_eQTL_BM_22          "
      ]
     },
     "metadata": {},
     "output_type": "display_data"
    }
   ],
   "source": [
    "dim(overlapped_finemap_xqtl)\n",
    "head(overlapped_finemap_xqtl)"
   ]
  },
  {
   "cell_type": "code",
   "execution_count": 121,
   "id": "6f92c607-12b6-4817-aa3f-83f37c171355",
   "metadata": {},
   "outputs": [
    {
     "data": {
      "text/html": [
       "<table class=\"dataframe\">\n",
       "<caption>A tibble: 7 × 2</caption>\n",
       "<thead>\n",
       "\t<tr><th scope=col>event_ID</th><th scope=col>cos_variant_count</th></tr>\n",
       "\t<tr><th scope=col>&lt;chr&gt;</th><th scope=col>&lt;int&gt;</th></tr>\n",
       "</thead>\n",
       "<tbody>\n",
       "\t<tr><td>image_AD1   </td><td>183</td></tr>\n",
       "\t<tr><td>image_AD2   </td><td>190</td></tr>\n",
       "\t<tr><td>image_Aging1</td><td>303</td></tr>\n",
       "\t<tr><td>image_Aging2</td><td>137</td></tr>\n",
       "\t<tr><td>image_Aging3</td><td>221</td></tr>\n",
       "\t<tr><td>image_Aging4</td><td>255</td></tr>\n",
       "\t<tr><td>image_Aging5</td><td>842</td></tr>\n",
       "</tbody>\n",
       "</table>\n"
      ],
      "text/latex": [
       "A tibble: 7 × 2\n",
       "\\begin{tabular}{ll}\n",
       " event\\_ID & cos\\_variant\\_count\\\\\n",
       " <chr> & <int>\\\\\n",
       "\\hline\n",
       "\t image\\_AD1    & 183\\\\\n",
       "\t image\\_AD2    & 190\\\\\n",
       "\t image\\_Aging1 & 303\\\\\n",
       "\t image\\_Aging2 & 137\\\\\n",
       "\t image\\_Aging3 & 221\\\\\n",
       "\t image\\_Aging4 & 255\\\\\n",
       "\t image\\_Aging5 & 842\\\\\n",
       "\\end{tabular}\n"
      ],
      "text/markdown": [
       "\n",
       "A tibble: 7 × 2\n",
       "\n",
       "| event_ID &lt;chr&gt; | cos_variant_count &lt;int&gt; |\n",
       "|---|---|\n",
       "| image_AD1    | 183 |\n",
       "| image_AD2    | 190 |\n",
       "| image_Aging1 | 303 |\n",
       "| image_Aging2 | 137 |\n",
       "| image_Aging3 | 221 |\n",
       "| image_Aging4 | 255 |\n",
       "| image_Aging5 | 842 |\n",
       "\n"
      ],
      "text/plain": [
       "  event_ID     cos_variant_count\n",
       "1 image_AD1    183              \n",
       "2 image_AD2    190              \n",
       "3 image_Aging1 303              \n",
       "4 image_Aging2 137              \n",
       "5 image_Aging3 221              \n",
       "6 image_Aging4 255              \n",
       "7 image_Aging5 842              "
      ]
     },
     "metadata": {},
     "output_type": "display_data"
    }
   ],
   "source": [
    "finemap_var_by_outcomes = image_finemap_top_loci |> group_by(event_ID) |> summarize(cos_variant_count = n_distinct(variant_ID))\n",
    "finemap_var_by_outcomes"
   ]
  },
  {
   "cell_type": "code",
   "execution_count": 128,
   "id": "3f28faa1-06fa-4fbb-9035-4e6c7ed4b12f",
   "metadata": {},
   "outputs": [
    {
     "data": {
      "text/html": [
       "<table class=\"dataframe\">\n",
       "<caption>A tibble: 7 × 2</caption>\n",
       "<thead>\n",
       "\t<tr><th scope=col>event_ID.x</th><th scope=col>cos_variant_in_xqtl_count</th></tr>\n",
       "\t<tr><th scope=col>&lt;chr&gt;</th><th scope=col>&lt;int&gt;</th></tr>\n",
       "</thead>\n",
       "<tbody>\n",
       "\t<tr><td>image_AD1   </td><td> 49</td></tr>\n",
       "\t<tr><td>image_AD2   </td><td>151</td></tr>\n",
       "\t<tr><td>image_Aging1</td><td>135</td></tr>\n",
       "\t<tr><td>image_Aging2</td><td> 68</td></tr>\n",
       "\t<tr><td>image_Aging3</td><td> 43</td></tr>\n",
       "\t<tr><td>image_Aging4</td><td>  4</td></tr>\n",
       "\t<tr><td>image_Aging5</td><td>577</td></tr>\n",
       "</tbody>\n",
       "</table>\n"
      ],
      "text/latex": [
       "A tibble: 7 × 2\n",
       "\\begin{tabular}{ll}\n",
       " event\\_ID.x & cos\\_variant\\_in\\_xqtl\\_count\\\\\n",
       " <chr> & <int>\\\\\n",
       "\\hline\n",
       "\t image\\_AD1    &  49\\\\\n",
       "\t image\\_AD2    & 151\\\\\n",
       "\t image\\_Aging1 & 135\\\\\n",
       "\t image\\_Aging2 &  68\\\\\n",
       "\t image\\_Aging3 &  43\\\\\n",
       "\t image\\_Aging4 &   4\\\\\n",
       "\t image\\_Aging5 & 577\\\\\n",
       "\\end{tabular}\n"
      ],
      "text/markdown": [
       "\n",
       "A tibble: 7 × 2\n",
       "\n",
       "| event_ID.x &lt;chr&gt; | cos_variant_in_xqtl_count &lt;int&gt; |\n",
       "|---|---|\n",
       "| image_AD1    |  49 |\n",
       "| image_AD2    | 151 |\n",
       "| image_Aging1 | 135 |\n",
       "| image_Aging2 |  68 |\n",
       "| image_Aging3 |  43 |\n",
       "| image_Aging4 |   4 |\n",
       "| image_Aging5 | 577 |\n",
       "\n"
      ],
      "text/plain": [
       "  event_ID.x   cos_variant_in_xqtl_count\n",
       "1 image_AD1     49                      \n",
       "2 image_AD2    151                      \n",
       "3 image_Aging1 135                      \n",
       "4 image_Aging2  68                      \n",
       "5 image_Aging3  43                      \n",
       "6 image_Aging4   4                      \n",
       "7 image_Aging5 577                      "
      ]
     },
     "metadata": {},
     "output_type": "display_data"
    }
   ],
   "source": [
    "finemap_var_overlapped_by_outcomes = overlapped_finemap_xqtl |> group_by(event_ID.x) |> summarize(cos_variant_in_xqtl_count = n_distinct(variant_ID))\n",
    "finemap_var_overlapped_by_outcomes"
   ]
  },
  {
   "cell_type": "code",
   "execution_count": 134,
   "id": "ca09cbc1-b655-4ed4-8096-5f8b0dcf5af5",
   "metadata": {},
   "outputs": [
    {
     "data": {
      "text/html": [
       "<table class=\"dataframe\">\n",
       "<caption>A tibble: 7 × 4</caption>\n",
       "<thead>\n",
       "\t<tr><th scope=col>event_ID</th><th scope=col>cos_variant_count</th><th scope=col>cos_variant_in_xqtl_count</th><th scope=col>percent_overlap</th></tr>\n",
       "\t<tr><th scope=col>&lt;chr&gt;</th><th scope=col>&lt;int&gt;</th><th scope=col>&lt;int&gt;</th><th scope=col>&lt;dbl&gt;</th></tr>\n",
       "</thead>\n",
       "<tbody>\n",
       "\t<tr><td>image_AD1   </td><td>183</td><td> 49</td><td>26.775956</td></tr>\n",
       "\t<tr><td>image_AD2   </td><td>190</td><td>151</td><td>79.473684</td></tr>\n",
       "\t<tr><td>image_Aging1</td><td>303</td><td>135</td><td>44.554455</td></tr>\n",
       "\t<tr><td>image_Aging2</td><td>137</td><td> 68</td><td>49.635036</td></tr>\n",
       "\t<tr><td>image_Aging3</td><td>221</td><td> 43</td><td>19.457014</td></tr>\n",
       "\t<tr><td>image_Aging4</td><td>255</td><td>  4</td><td> 1.568627</td></tr>\n",
       "\t<tr><td>image_Aging5</td><td>842</td><td>577</td><td>68.527316</td></tr>\n",
       "</tbody>\n",
       "</table>\n"
      ],
      "text/latex": [
       "A tibble: 7 × 4\n",
       "\\begin{tabular}{llll}\n",
       " event\\_ID & cos\\_variant\\_count & cos\\_variant\\_in\\_xqtl\\_count & percent\\_overlap\\\\\n",
       " <chr> & <int> & <int> & <dbl>\\\\\n",
       "\\hline\n",
       "\t image\\_AD1    & 183 &  49 & 26.775956\\\\\n",
       "\t image\\_AD2    & 190 & 151 & 79.473684\\\\\n",
       "\t image\\_Aging1 & 303 & 135 & 44.554455\\\\\n",
       "\t image\\_Aging2 & 137 &  68 & 49.635036\\\\\n",
       "\t image\\_Aging3 & 221 &  43 & 19.457014\\\\\n",
       "\t image\\_Aging4 & 255 &   4 &  1.568627\\\\\n",
       "\t image\\_Aging5 & 842 & 577 & 68.527316\\\\\n",
       "\\end{tabular}\n"
      ],
      "text/markdown": [
       "\n",
       "A tibble: 7 × 4\n",
       "\n",
       "| event_ID &lt;chr&gt; | cos_variant_count &lt;int&gt; | cos_variant_in_xqtl_count &lt;int&gt; | percent_overlap &lt;dbl&gt; |\n",
       "|---|---|---|---|\n",
       "| image_AD1    | 183 |  49 | 26.775956 |\n",
       "| image_AD2    | 190 | 151 | 79.473684 |\n",
       "| image_Aging1 | 303 | 135 | 44.554455 |\n",
       "| image_Aging2 | 137 |  68 | 49.635036 |\n",
       "| image_Aging3 | 221 |  43 | 19.457014 |\n",
       "| image_Aging4 | 255 |   4 |  1.568627 |\n",
       "| image_Aging5 | 842 | 577 | 68.527316 |\n",
       "\n"
      ],
      "text/plain": [
       "  event_ID     cos_variant_count cos_variant_in_xqtl_count percent_overlap\n",
       "1 image_AD1    183                49                       26.775956      \n",
       "2 image_AD2    190               151                       79.473684      \n",
       "3 image_Aging1 303               135                       44.554455      \n",
       "4 image_Aging2 137                68                       49.635036      \n",
       "5 image_Aging3 221                43                       19.457014      \n",
       "6 image_Aging4 255                 4                        1.568627      \n",
       "7 image_Aging5 842               577                       68.527316      "
      ]
     },
     "metadata": {},
     "output_type": "display_data"
    }
   ],
   "source": [
    "heretability_explained= finemap_var_by_outcomes |> inner_join(finemap_var_overlapped_by_outcomes, by = c('event_ID' = 'event_ID.x'))\n",
    "# Add total columns and proportion\n",
    "heretability_explained <- heretability_explained %>%\n",
    "  mutate(\n",
    "    percent_overlap = (cos_variant_in_xqtl_count / cos_variant_count) * 100\n",
    "  )\n",
    "\n",
    "heretability_explained"
   ]
  },
  {
   "cell_type": "code",
   "execution_count": 86,
   "id": "28cf0afd-edf1-472d-a9dd-9eea60b24898",
   "metadata": {},
   "outputs": [
    {
     "data": {
      "text/html": [
       "<table class=\"dataframe\">\n",
       "<caption>A data.table: 6 × 32</caption>\n",
       "<thead>\n",
       "\t<tr><th scope=col>chr</th><th scope=col>pos</th><th scope=col>a1.x</th><th scope=col>a2.x</th><th scope=col>variant_ID</th><th scope=col>gene_ID.x</th><th scope=col>event_ID.x</th><th scope=col>cs_coverage_0.95.x</th><th scope=col>cs_coverage_0.7.x</th><th scope=col>cs_coverage_0.5.x</th><th scope=col>⋯</th><th scope=col>event_ID.y</th><th scope=col>cs_coverage_0.95.y</th><th scope=col>cs_coverage_0.7.y</th><th scope=col>cs_coverage_0.5.y</th><th scope=col>PIP.y</th><th scope=col>conditional_effect</th><th scope=col>Cohort</th><th scope=col>Data_Type</th><th scope=col>Modality</th><th scope=col>Cohort_Data_Type_Modality</th></tr>\n",
       "\t<tr><th scope=col>&lt;int&gt;</th><th scope=col>&lt;int&gt;</th><th scope=col>&lt;chr&gt;</th><th scope=col>&lt;chr&gt;</th><th scope=col>&lt;chr&gt;</th><th scope=col>&lt;chr&gt;</th><th scope=col>&lt;chr&gt;</th><th scope=col>&lt;int&gt;</th><th scope=col>&lt;int&gt;</th><th scope=col>&lt;int&gt;</th><th scope=col>⋯</th><th scope=col>&lt;chr&gt;</th><th scope=col>&lt;int&gt;</th><th scope=col>&lt;int&gt;</th><th scope=col>&lt;int&gt;</th><th scope=col>&lt;dbl&gt;</th><th scope=col>&lt;dbl&gt;</th><th scope=col>&lt;chr&gt;</th><th scope=col>&lt;chr&gt;</th><th scope=col>&lt;chr&gt;</th><th scope=col>&lt;chr&gt;</th></tr>\n",
       "</thead>\n",
       "<tbody>\n",
       "\t<tr><td>10</td><td>113151320</td><td>C</td><td>T</td><td>chr10:113151320:T:C</td><td>chr10_109887976_113830418</td><td>image_Aging4</td><td>1</td><td>1</td><td>0</td><td>⋯</td><td>MiGA_GTS_eQTL_ENSG00000148737                             </td><td>1</td><td>1</td><td>1</td><td>0.245549191</td><td> 0.5383998</td><td>MiGA     </td><td>eQTL</td><td>GTS   </td><td>MiGA_eQTL_GTS        </td></tr>\n",
       "\t<tr><td>10</td><td>113154953</td><td>C</td><td>G</td><td>chr10:113154953:G:C</td><td>chr10_109887976_113830418</td><td>image_Aging4</td><td>1</td><td>1</td><td>1</td><td>⋯</td><td>MiGA_GTS_eQTL_ENSG00000148737                             </td><td>1</td><td>1</td><td>1</td><td>0.245549191</td><td> 0.5383998</td><td>MiGA     </td><td>eQTL</td><td>GTS   </td><td>MiGA_eQTL_GTS        </td></tr>\n",
       "\t<tr><td>10</td><td>124738468</td><td>T</td><td>G</td><td>chr10:124738468:G:T</td><td>chr10_123788803_125506866</td><td>image_Aging2</td><td>1</td><td>1</td><td>1</td><td>⋯</td><td>Metabrain_Cortex_chr10_123748149_125840000_ENSG00000203791</td><td>1</td><td>0</td><td>0</td><td>0.008540928</td><td>        NA</td><td>MetaBrain</td><td>eQTL</td><td>Cortex</td><td>MetaBrain_eQTL_Cortex</td></tr>\n",
       "\t<tr><td>10</td><td>124742712</td><td>C</td><td>G</td><td>chr10:124742712:G:C</td><td>chr10_123788803_125506866</td><td>image_Aging2</td><td>1</td><td>1</td><td>1</td><td>⋯</td><td>BM_44_MSBB_eQTL_ENSG00000203791                           </td><td>1</td><td>0</td><td>0</td><td>0.021270232</td><td>-0.1939711</td><td>MSBB     </td><td>eQTL</td><td>BM_44 </td><td>MSBB_eQTL_BM_44      </td></tr>\n",
       "\t<tr><td>10</td><td>124745001</td><td>G</td><td>C</td><td>chr10:124745001:C:G</td><td>chr10_123788803_125506866</td><td>image_Aging2</td><td>1</td><td>1</td><td>0</td><td>⋯</td><td>BM_10_MSBB_eQTL_ENSG00000203791                           </td><td>1</td><td>0</td><td>0</td><td>0.037077668</td><td>-0.2130287</td><td>MSBB     </td><td>eQTL</td><td>BM_10 </td><td>MSBB_eQTL_BM_10      </td></tr>\n",
       "\t<tr><td>10</td><td>124745001</td><td>G</td><td>C</td><td>chr10:124745001:C:G</td><td>chr10_123788803_125506866</td><td>image_Aging2</td><td>1</td><td>1</td><td>0</td><td>⋯</td><td>BM_22_MSBB_eQTL_ENSG00000203791                           </td><td>1</td><td>0</td><td>0</td><td>0.017635848</td><td>-0.1755835</td><td>MSBB     </td><td>eQTL</td><td>BM_22 </td><td>MSBB_eQTL_BM_22      </td></tr>\n",
       "</tbody>\n",
       "</table>\n"
      ],
      "text/latex": [
       "A data.table: 6 × 32\n",
       "\\begin{tabular}{lllllllllllllllllllll}\n",
       " chr & pos & a1.x & a2.x & variant\\_ID & gene\\_ID.x & event\\_ID.x & cs\\_coverage\\_0.95.x & cs\\_coverage\\_0.7.x & cs\\_coverage\\_0.5.x & ⋯ & event\\_ID.y & cs\\_coverage\\_0.95.y & cs\\_coverage\\_0.7.y & cs\\_coverage\\_0.5.y & PIP.y & conditional\\_effect & Cohort & Data\\_Type & Modality & Cohort\\_Data\\_Type\\_Modality\\\\\n",
       " <int> & <int> & <chr> & <chr> & <chr> & <chr> & <chr> & <int> & <int> & <int> & ⋯ & <chr> & <int> & <int> & <int> & <dbl> & <dbl> & <chr> & <chr> & <chr> & <chr>\\\\\n",
       "\\hline\n",
       "\t 10 & 113151320 & C & T & chr10:113151320:T:C & chr10\\_109887976\\_113830418 & image\\_Aging4 & 1 & 1 & 0 & ⋯ & MiGA\\_GTS\\_eQTL\\_ENSG00000148737                              & 1 & 1 & 1 & 0.245549191 &  0.5383998 & MiGA      & eQTL & GTS    & MiGA\\_eQTL\\_GTS        \\\\\n",
       "\t 10 & 113154953 & C & G & chr10:113154953:G:C & chr10\\_109887976\\_113830418 & image\\_Aging4 & 1 & 1 & 1 & ⋯ & MiGA\\_GTS\\_eQTL\\_ENSG00000148737                              & 1 & 1 & 1 & 0.245549191 &  0.5383998 & MiGA      & eQTL & GTS    & MiGA\\_eQTL\\_GTS        \\\\\n",
       "\t 10 & 124738468 & T & G & chr10:124738468:G:T & chr10\\_123788803\\_125506866 & image\\_Aging2 & 1 & 1 & 1 & ⋯ & Metabrain\\_Cortex\\_chr10\\_123748149\\_125840000\\_ENSG00000203791 & 1 & 0 & 0 & 0.008540928 &         NA & MetaBrain & eQTL & Cortex & MetaBrain\\_eQTL\\_Cortex\\\\\n",
       "\t 10 & 124742712 & C & G & chr10:124742712:G:C & chr10\\_123788803\\_125506866 & image\\_Aging2 & 1 & 1 & 1 & ⋯ & BM\\_44\\_MSBB\\_eQTL\\_ENSG00000203791                            & 1 & 0 & 0 & 0.021270232 & -0.1939711 & MSBB      & eQTL & BM\\_44  & MSBB\\_eQTL\\_BM\\_44      \\\\\n",
       "\t 10 & 124745001 & G & C & chr10:124745001:C:G & chr10\\_123788803\\_125506866 & image\\_Aging2 & 1 & 1 & 0 & ⋯ & BM\\_10\\_MSBB\\_eQTL\\_ENSG00000203791                            & 1 & 0 & 0 & 0.037077668 & -0.2130287 & MSBB      & eQTL & BM\\_10  & MSBB\\_eQTL\\_BM\\_10      \\\\\n",
       "\t 10 & 124745001 & G & C & chr10:124745001:C:G & chr10\\_123788803\\_125506866 & image\\_Aging2 & 1 & 1 & 0 & ⋯ & BM\\_22\\_MSBB\\_eQTL\\_ENSG00000203791                            & 1 & 0 & 0 & 0.017635848 & -0.1755835 & MSBB      & eQTL & BM\\_22  & MSBB\\_eQTL\\_BM\\_22      \\\\\n",
       "\\end{tabular}\n"
      ],
      "text/markdown": [
       "\n",
       "A data.table: 6 × 32\n",
       "\n",
       "| chr &lt;int&gt; | pos &lt;int&gt; | a1.x &lt;chr&gt; | a2.x &lt;chr&gt; | variant_ID &lt;chr&gt; | gene_ID.x &lt;chr&gt; | event_ID.x &lt;chr&gt; | cs_coverage_0.95.x &lt;int&gt; | cs_coverage_0.7.x &lt;int&gt; | cs_coverage_0.5.x &lt;int&gt; | ⋯ ⋯ | event_ID.y &lt;chr&gt; | cs_coverage_0.95.y &lt;int&gt; | cs_coverage_0.7.y &lt;int&gt; | cs_coverage_0.5.y &lt;int&gt; | PIP.y &lt;dbl&gt; | conditional_effect &lt;dbl&gt; | Cohort &lt;chr&gt; | Data_Type &lt;chr&gt; | Modality &lt;chr&gt; | Cohort_Data_Type_Modality &lt;chr&gt; |\n",
       "|---|---|---|---|---|---|---|---|---|---|---|---|---|---|---|---|---|---|---|---|---|\n",
       "| 10 | 113151320 | C | T | chr10:113151320:T:C | chr10_109887976_113830418 | image_Aging4 | 1 | 1 | 0 | ⋯ | MiGA_GTS_eQTL_ENSG00000148737                              | 1 | 1 | 1 | 0.245549191 |  0.5383998 | MiGA      | eQTL | GTS    | MiGA_eQTL_GTS         |\n",
       "| 10 | 113154953 | C | G | chr10:113154953:G:C | chr10_109887976_113830418 | image_Aging4 | 1 | 1 | 1 | ⋯ | MiGA_GTS_eQTL_ENSG00000148737                              | 1 | 1 | 1 | 0.245549191 |  0.5383998 | MiGA      | eQTL | GTS    | MiGA_eQTL_GTS         |\n",
       "| 10 | 124738468 | T | G | chr10:124738468:G:T | chr10_123788803_125506866 | image_Aging2 | 1 | 1 | 1 | ⋯ | Metabrain_Cortex_chr10_123748149_125840000_ENSG00000203791 | 1 | 0 | 0 | 0.008540928 |         NA | MetaBrain | eQTL | Cortex | MetaBrain_eQTL_Cortex |\n",
       "| 10 | 124742712 | C | G | chr10:124742712:G:C | chr10_123788803_125506866 | image_Aging2 | 1 | 1 | 1 | ⋯ | BM_44_MSBB_eQTL_ENSG00000203791                            | 1 | 0 | 0 | 0.021270232 | -0.1939711 | MSBB      | eQTL | BM_44  | MSBB_eQTL_BM_44       |\n",
       "| 10 | 124745001 | G | C | chr10:124745001:C:G | chr10_123788803_125506866 | image_Aging2 | 1 | 1 | 0 | ⋯ | BM_10_MSBB_eQTL_ENSG00000203791                            | 1 | 0 | 0 | 0.037077668 | -0.2130287 | MSBB      | eQTL | BM_10  | MSBB_eQTL_BM_10       |\n",
       "| 10 | 124745001 | G | C | chr10:124745001:C:G | chr10_123788803_125506866 | image_Aging2 | 1 | 1 | 0 | ⋯ | BM_22_MSBB_eQTL_ENSG00000203791                            | 1 | 0 | 0 | 0.017635848 | -0.1755835 | MSBB      | eQTL | BM_22  | MSBB_eQTL_BM_22       |\n",
       "\n"
      ],
      "text/plain": [
       "  chr pos       a1.x a2.x variant_ID          gene_ID.x                \n",
       "1 10  113151320 C    T    chr10:113151320:T:C chr10_109887976_113830418\n",
       "2 10  113154953 C    G    chr10:113154953:G:C chr10_109887976_113830418\n",
       "3 10  124738468 T    G    chr10:124738468:G:T chr10_123788803_125506866\n",
       "4 10  124742712 C    G    chr10:124742712:G:C chr10_123788803_125506866\n",
       "5 10  124745001 G    C    chr10:124745001:C:G chr10_123788803_125506866\n",
       "6 10  124745001 G    C    chr10:124745001:C:G chr10_123788803_125506866\n",
       "  event_ID.x   cs_coverage_0.95.x cs_coverage_0.7.x cs_coverage_0.5.x ⋯\n",
       "1 image_Aging4 1                  1                 0                 ⋯\n",
       "2 image_Aging4 1                  1                 1                 ⋯\n",
       "3 image_Aging2 1                  1                 1                 ⋯\n",
       "4 image_Aging2 1                  1                 1                 ⋯\n",
       "5 image_Aging2 1                  1                 0                 ⋯\n",
       "6 image_Aging2 1                  1                 0                 ⋯\n",
       "  event_ID.y                                                 cs_coverage_0.95.y\n",
       "1 MiGA_GTS_eQTL_ENSG00000148737                              1                 \n",
       "2 MiGA_GTS_eQTL_ENSG00000148737                              1                 \n",
       "3 Metabrain_Cortex_chr10_123748149_125840000_ENSG00000203791 1                 \n",
       "4 BM_44_MSBB_eQTL_ENSG00000203791                            1                 \n",
       "5 BM_10_MSBB_eQTL_ENSG00000203791                            1                 \n",
       "6 BM_22_MSBB_eQTL_ENSG00000203791                            1                 \n",
       "  cs_coverage_0.7.y cs_coverage_0.5.y PIP.y       conditional_effect Cohort   \n",
       "1 1                 1                 0.245549191  0.5383998         MiGA     \n",
       "2 1                 1                 0.245549191  0.5383998         MiGA     \n",
       "3 0                 0                 0.008540928         NA         MetaBrain\n",
       "4 0                 0                 0.021270232 -0.1939711         MSBB     \n",
       "5 0                 0                 0.037077668 -0.2130287         MSBB     \n",
       "6 0                 0                 0.017635848 -0.1755835         MSBB     \n",
       "  Data_Type Modality Cohort_Data_Type_Modality\n",
       "1 eQTL      GTS      MiGA_eQTL_GTS            \n",
       "2 eQTL      GTS      MiGA_eQTL_GTS            \n",
       "3 eQTL      Cortex   MetaBrain_eQTL_Cortex    \n",
       "4 eQTL      BM_44    MSBB_eQTL_BM_44          \n",
       "5 eQTL      BM_10    MSBB_eQTL_BM_10          \n",
       "6 eQTL      BM_22    MSBB_eQTL_BM_22          "
      ]
     },
     "metadata": {},
     "output_type": "display_data"
    },
    {
     "data": {
      "text/html": [
       "<style>\n",
       ".list-inline {list-style: none; margin:0; padding: 0}\n",
       ".list-inline>li {display: inline-block}\n",
       ".list-inline>li:not(:last-child)::after {content: \"\\00b7\"; padding: 0 .5ex}\n",
       "</style>\n",
       "<ol class=list-inline><li>11449</li><li>32</li></ol>\n"
      ],
      "text/latex": [
       "\\begin{enumerate*}\n",
       "\\item 11449\n",
       "\\item 32\n",
       "\\end{enumerate*}\n"
      ],
      "text/markdown": [
       "1. 11449\n",
       "2. 32\n",
       "\n",
       "\n"
      ],
      "text/plain": [
       "[1] 11449    32"
      ]
     },
     "metadata": {},
     "output_type": "display_data"
    }
   ],
   "source": [
    "head(overlapped_finemap_xqtl)\n",
    "dim(overlapped_finemap_xqtl)"
   ]
  },
  {
   "cell_type": "code",
   "execution_count": 87,
   "id": "df05027a-e7da-4d70-9cb2-99393a4d6db1",
   "metadata": {},
   "outputs": [
    {
     "data": {
      "text/html": [
       "1000"
      ],
      "text/latex": [
       "1000"
      ],
      "text/markdown": [
       "1000"
      ],
      "text/plain": [
       "[1] 1000"
      ]
     },
     "metadata": {},
     "output_type": "display_data"
    }
   ],
   "source": [
    "overlapped_finemap_xqtl_variant_id = overlapped_finemap_xqtl |> count(variant_ID)\n",
    "nrow(overlapped_finemap_xqtl_variant_id)"
   ]
  },
  {
   "cell_type": "code",
   "execution_count": 88,
   "id": "a83e198b-d067-40f9-83d3-9967c5e4c9b7",
   "metadata": {},
   "outputs": [
    {
     "data": {
      "text/html": [
       "48.9715964740451"
      ],
      "text/latex": [
       "48.9715964740451"
      ],
      "text/markdown": [
       "48.9715964740451"
      ],
      "text/plain": [
       "[1] 48.9716"
      ]
     },
     "metadata": {},
     "output_type": "display_data"
    }
   ],
   "source": [
    "prop_finemap = (nrow(overlapped_finemap_xqtl_variant_id)/nrow(image_finemap_variant_id)) *100 \n",
    "prop_finemap"
   ]
  },
  {
   "cell_type": "code",
   "execution_count": 90,
   "id": "f5e29565-3137-4f9c-9f35-fcb365d10b97",
   "metadata": {},
   "outputs": [],
   "source": [
    "sig_finemap_gene = overlapped_finemap_xqtl |> count(gene_ID.y,event_ID.x)"
   ]
  },
  {
   "cell_type": "code",
   "execution_count": 91,
   "id": "465f0067-8151-4a7d-a2a0-ab66bb38f38f",
   "metadata": {},
   "outputs": [],
   "source": [
    "#fwrite(sig_finemap_gene, \"overlapped_finemap_sig_xqtl.txt\", sep = \"\\t\")"
   ]
  },
  {
   "cell_type": "code",
   "execution_count": null,
   "id": "63290dc4-d791-4125-ae29-6bfadd883d97",
   "metadata": {},
   "outputs": [],
   "source": [
    "## Annotate the gene list positions based on our v103 genomic reference\n",
    "!sos run xqtl-protocol/code/data_preprocessing/phenotype/gene_annotation.ipynb annotate_coord \\\n",
    "    --cwd project/image_QTL/cb_varisnts_explained_by_xQTL \\\n",
    "    --phenoFile overlapped_finemap_sig_xqtl.txt \\\n",
    "    --phenotype-id-column gene_id \\\n",
    "    --molecular-trait-type gene \\\n",
    "    --coordinate-annotation data/resource/references/Homo_sapiens.GRCh38.103.chr.reformatted.collapse_only.gene.ERCC.gtf"
   ]
  },
  {
   "cell_type": "code",
   "execution_count": 93,
   "id": "8e692c5a-2880-4344-90f5-ed7357dd7847",
   "metadata": {},
   "outputs": [],
   "source": [
    "annotated_finemap_sig_gene = fread(\"project/image_QTL/cb_varisnts_explained_by_xQTL/overlapped_finemap_sig_xqtl.gene_list.tsv\")"
   ]
  },
  {
   "cell_type": "code",
   "execution_count": 94,
   "id": "ba54d091-d25c-4f6c-a8ba-157c703ad0ed",
   "metadata": {},
   "outputs": [
    {
     "data": {
      "text/html": [
       "<table class=\"dataframe\">\n",
       "<caption>A data.table: 6 × 3</caption>\n",
       "<thead>\n",
       "\t<tr><th scope=col>gene_ID.y</th><th scope=col>event_ID.x</th><th scope=col>n</th></tr>\n",
       "\t<tr><th scope=col>&lt;chr&gt;</th><th scope=col>&lt;chr&gt;</th><th scope=col>&lt;int&gt;</th></tr>\n",
       "</thead>\n",
       "<tbody>\n",
       "\t<tr><td>ENSG00000014123</td><td>image_Aging5</td><td>396</td></tr>\n",
       "\t<tr><td>ENSG00000034239</td><td>image_Aging1</td><td>  9</td></tr>\n",
       "\t<tr><td>ENSG00000038427</td><td>image_Aging2</td><td> 19</td></tr>\n",
       "\t<tr><td>ENSG00000044524</td><td>image_Aging5</td><td>129</td></tr>\n",
       "\t<tr><td>ENSG00000063438</td><td>image_Aging1</td><td> 11</td></tr>\n",
       "\t<tr><td>ENSG00000075399</td><td>image_Aging5</td><td> 21</td></tr>\n",
       "</tbody>\n",
       "</table>\n"
      ],
      "text/latex": [
       "A data.table: 6 × 3\n",
       "\\begin{tabular}{lll}\n",
       " gene\\_ID.y & event\\_ID.x & n\\\\\n",
       " <chr> & <chr> & <int>\\\\\n",
       "\\hline\n",
       "\t ENSG00000014123 & image\\_Aging5 & 396\\\\\n",
       "\t ENSG00000034239 & image\\_Aging1 &   9\\\\\n",
       "\t ENSG00000038427 & image\\_Aging2 &  19\\\\\n",
       "\t ENSG00000044524 & image\\_Aging5 & 129\\\\\n",
       "\t ENSG00000063438 & image\\_Aging1 &  11\\\\\n",
       "\t ENSG00000075399 & image\\_Aging5 &  21\\\\\n",
       "\\end{tabular}\n"
      ],
      "text/markdown": [
       "\n",
       "A data.table: 6 × 3\n",
       "\n",
       "| gene_ID.y &lt;chr&gt; | event_ID.x &lt;chr&gt; | n &lt;int&gt; |\n",
       "|---|---|---|\n",
       "| ENSG00000014123 | image_Aging5 | 396 |\n",
       "| ENSG00000034239 | image_Aging1 |   9 |\n",
       "| ENSG00000038427 | image_Aging2 |  19 |\n",
       "| ENSG00000044524 | image_Aging5 | 129 |\n",
       "| ENSG00000063438 | image_Aging1 |  11 |\n",
       "| ENSG00000075399 | image_Aging5 |  21 |\n",
       "\n"
      ],
      "text/plain": [
       "  gene_ID.y       event_ID.x   n  \n",
       "1 ENSG00000014123 image_Aging5 396\n",
       "2 ENSG00000034239 image_Aging1   9\n",
       "3 ENSG00000038427 image_Aging2  19\n",
       "4 ENSG00000044524 image_Aging5 129\n",
       "5 ENSG00000063438 image_Aging1  11\n",
       "6 ENSG00000075399 image_Aging5  21"
      ]
     },
     "metadata": {},
     "output_type": "display_data"
    },
    {
     "data": {
      "text/html": [
       "<table class=\"dataframe\">\n",
       "<caption>A data.table: 6 × 6</caption>\n",
       "<thead>\n",
       "\t<tr><th scope=col>#chr</th><th scope=col>start</th><th scope=col>end</th><th scope=col>gene_id</th><th scope=col>strand</th><th scope=col>gene_name</th></tr>\n",
       "\t<tr><th scope=col>&lt;chr&gt;</th><th scope=col>&lt;int&gt;</th><th scope=col>&lt;int&gt;</th><th scope=col>&lt;chr&gt;</th><th scope=col>&lt;chr&gt;</th><th scope=col>&lt;chr&gt;</th></tr>\n",
       "</thead>\n",
       "<tbody>\n",
       "\t<tr><td>chr2</td><td>202773149</td><td>202871765</td><td>ENSG00000163596</td><td>-</td><td>ICA1L  </td></tr>\n",
       "\t<tr><td>chr2</td><td>202874260</td><td>203014797</td><td>ENSG00000138442</td><td>-</td><td>WDR12  </td></tr>\n",
       "\t<tr><td>chr2</td><td>202912213</td><td>202988262</td><td>ENSG00000138380</td><td>+</td><td>CARF   </td></tr>\n",
       "\t<tr><td>chr2</td><td>203014878</td><td>203226377</td><td>ENSG00000144426</td><td>+</td><td>NBEAL1 </td></tr>\n",
       "\t<tr><td>chr3</td><td> 52836218</td><td> 52897547</td><td>ENSG00000213533</td><td>-</td><td>STIMATE</td></tr>\n",
       "\t<tr><td>chr3</td><td> 89107620</td><td> 89482133</td><td>ENSG00000044524</td><td>+</td><td>EPHA3  </td></tr>\n",
       "</tbody>\n",
       "</table>\n"
      ],
      "text/latex": [
       "A data.table: 6 × 6\n",
       "\\begin{tabular}{llllll}\n",
       " \\#chr & start & end & gene\\_id & strand & gene\\_name\\\\\n",
       " <chr> & <int> & <int> & <chr> & <chr> & <chr>\\\\\n",
       "\\hline\n",
       "\t chr2 & 202773149 & 202871765 & ENSG00000163596 & - & ICA1L  \\\\\n",
       "\t chr2 & 202874260 & 203014797 & ENSG00000138442 & - & WDR12  \\\\\n",
       "\t chr2 & 202912213 & 202988262 & ENSG00000138380 & + & CARF   \\\\\n",
       "\t chr2 & 203014878 & 203226377 & ENSG00000144426 & + & NBEAL1 \\\\\n",
       "\t chr3 &  52836218 &  52897547 & ENSG00000213533 & - & STIMATE\\\\\n",
       "\t chr3 &  89107620 &  89482133 & ENSG00000044524 & + & EPHA3  \\\\\n",
       "\\end{tabular}\n"
      ],
      "text/markdown": [
       "\n",
       "A data.table: 6 × 6\n",
       "\n",
       "| #chr &lt;chr&gt; | start &lt;int&gt; | end &lt;int&gt; | gene_id &lt;chr&gt; | strand &lt;chr&gt; | gene_name &lt;chr&gt; |\n",
       "|---|---|---|---|---|---|\n",
       "| chr2 | 202773149 | 202871765 | ENSG00000163596 | - | ICA1L   |\n",
       "| chr2 | 202874260 | 203014797 | ENSG00000138442 | - | WDR12   |\n",
       "| chr2 | 202912213 | 202988262 | ENSG00000138380 | + | CARF    |\n",
       "| chr2 | 203014878 | 203226377 | ENSG00000144426 | + | NBEAL1  |\n",
       "| chr3 |  52836218 |  52897547 | ENSG00000213533 | - | STIMATE |\n",
       "| chr3 |  89107620 |  89482133 | ENSG00000044524 | + | EPHA3   |\n",
       "\n"
      ],
      "text/plain": [
       "  #chr start     end       gene_id         strand gene_name\n",
       "1 chr2 202773149 202871765 ENSG00000163596 -      ICA1L    \n",
       "2 chr2 202874260 203014797 ENSG00000138442 -      WDR12    \n",
       "3 chr2 202912213 202988262 ENSG00000138380 +      CARF     \n",
       "4 chr2 203014878 203226377 ENSG00000144426 +      NBEAL1   \n",
       "5 chr3  52836218  52897547 ENSG00000213533 -      STIMATE  \n",
       "6 chr3  89107620  89482133 ENSG00000044524 +      EPHA3    "
      ]
     },
     "metadata": {},
     "output_type": "display_data"
    }
   ],
   "source": [
    "head(sig_finemap_gene)\n",
    "head(annotated_finemap_sig_gene)\n"
   ]
  },
  {
   "cell_type": "code",
   "execution_count": 95,
   "id": "7cca2ccf-836f-477d-8244-36795b0de159",
   "metadata": {},
   "outputs": [],
   "source": [
    "annotated_finemap_sig_gene <- annotated_finemap_sig_gene |> \n",
    "  inner_join(sig_finemap_gene, by = c(\"gene_id\" = \"gene_ID.y\"))"
   ]
  },
  {
   "cell_type": "code",
   "execution_count": 96,
   "id": "047cb98d-2d65-4d77-835d-75817e0dd198",
   "metadata": {},
   "outputs": [],
   "source": [
    "fwrite(annotated_finemap_sig_gene, \"annotated_overlapped_finemap_sig_xqtl.tsv\", sep = \"\\t\")"
   ]
  },
  {
   "cell_type": "code",
   "execution_count": null,
   "id": "36cbfd48-9cc5-4722-9b98-b7851032192a",
   "metadata": {},
   "outputs": [],
   "source": []
  }
 ],
 "metadata": {
  "kernelspec": {
   "display_name": "R",
   "language": "R",
   "name": "ir"
  },
  "language_info": {
   "codemirror_mode": "r",
   "file_extension": ".r",
   "mimetype": "text/x-r-source",
   "name": "R",
   "pygments_lexer": "r",
   "version": "4.3.3"
  }
 },
 "nbformat": 4,
 "nbformat_minor": 5
}
