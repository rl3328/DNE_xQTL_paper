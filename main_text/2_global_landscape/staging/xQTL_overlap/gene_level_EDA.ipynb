{
 "cells": [
  {
   "cell_type": "code",
   "execution_count": 8,
   "id": "46883a21-d43c-448c-b5a4-3d32c51daf35",
   "metadata": {},
   "outputs": [],
   "source": [
    "library(tidyverse)\n",
    "library(data.table)"
   ]
  },
  {
   "cell_type": "markdown",
   "id": "8d9e6a4f-640a-464e-90e2-28c54b743f67",
   "metadata": {},
   "source": [
    "# genes from overlap of xQTL and uCoS variants"
   ]
  },
  {
   "cell_type": "code",
   "execution_count": 22,
   "id": "15d26168-d659-4d43-999b-3c42ba0e3d13",
   "metadata": {},
   "outputs": [],
   "source": [
    "overlapped_ucos_sig_xqtl_gene = fread(\"annotated_overlapped_ucos_sig_xqtl.tsv\")\n",
    "overlapped_cos_sig_xqtl_gene = fread(\"annotated_overlapped_cos_sig_xqtl.tsv\")\n",
    "overlapped_finemap_sig_xqtl_gene = fread(\"annotated_overlapped_finemap_sig_xqtl.tsv\")\n"
   ]
  },
  {
   "cell_type": "code",
   "execution_count": 14,
   "id": "6a1333b5-8d76-4a86-a24c-9fd09a96e45d",
   "metadata": {},
   "outputs": [
    {
     "data": {
      "text/html": [
       "<table class=\"dataframe\">\n",
       "<caption>A data.table: 6 × 8</caption>\n",
       "<thead>\n",
       "\t<tr><th scope=col>#chr</th><th scope=col>start</th><th scope=col>end</th><th scope=col>gene_id</th><th scope=col>strand</th><th scope=col>gene_name</th><th scope=col>outcomes</th><th scope=col>n</th></tr>\n",
       "\t<tr><th scope=col>&lt;chr&gt;</th><th scope=col>&lt;int&gt;</th><th scope=col>&lt;int&gt;</th><th scope=col>&lt;chr&gt;</th><th scope=col>&lt;chr&gt;</th><th scope=col>&lt;chr&gt;</th><th scope=col>&lt;chr&gt;</th><th scope=col>&lt;int&gt;</th></tr>\n",
       "</thead>\n",
       "<tbody>\n",
       "\t<tr><td>chr2</td><td>202773149</td><td>202871765</td><td>ENSG00000163596</td><td>-</td><td>ICA1L  </td><td>image_Aging5</td><td>3398</td></tr>\n",
       "\t<tr><td>chr2</td><td>202874260</td><td>203014797</td><td>ENSG00000138442</td><td>-</td><td>WDR12  </td><td>image_Aging5</td><td> 386</td></tr>\n",
       "\t<tr><td>chr2</td><td>202912213</td><td>202988262</td><td>ENSG00000138380</td><td>+</td><td>CARF   </td><td>image_Aging5</td><td>2293</td></tr>\n",
       "\t<tr><td>chr2</td><td>203014878</td><td>203226377</td><td>ENSG00000144426</td><td>+</td><td>NBEAL1 </td><td>image_Aging5</td><td>1467</td></tr>\n",
       "\t<tr><td>chr3</td><td> 52836218</td><td> 52897547</td><td>ENSG00000213533</td><td>-</td><td>STIMATE</td><td>image_Aging5</td><td>   1</td></tr>\n",
       "\t<tr><td>chr3</td><td> 89107620</td><td> 89482133</td><td>ENSG00000044524</td><td>+</td><td>EPHA3  </td><td>image_Aging5</td><td> 129</td></tr>\n",
       "</tbody>\n",
       "</table>\n"
      ],
      "text/latex": [
       "A data.table: 6 × 8\n",
       "\\begin{tabular}{llllllll}\n",
       " \\#chr & start & end & gene\\_id & strand & gene\\_name & outcomes & n\\\\\n",
       " <chr> & <int> & <int> & <chr> & <chr> & <chr> & <chr> & <int>\\\\\n",
       "\\hline\n",
       "\t chr2 & 202773149 & 202871765 & ENSG00000163596 & - & ICA1L   & image\\_Aging5 & 3398\\\\\n",
       "\t chr2 & 202874260 & 203014797 & ENSG00000138442 & - & WDR12   & image\\_Aging5 &  386\\\\\n",
       "\t chr2 & 202912213 & 202988262 & ENSG00000138380 & + & CARF    & image\\_Aging5 & 2293\\\\\n",
       "\t chr2 & 203014878 & 203226377 & ENSG00000144426 & + & NBEAL1  & image\\_Aging5 & 1467\\\\\n",
       "\t chr3 &  52836218 &  52897547 & ENSG00000213533 & - & STIMATE & image\\_Aging5 &    1\\\\\n",
       "\t chr3 &  89107620 &  89482133 & ENSG00000044524 & + & EPHA3   & image\\_Aging5 &  129\\\\\n",
       "\\end{tabular}\n"
      ],
      "text/markdown": [
       "\n",
       "A data.table: 6 × 8\n",
       "\n",
       "| #chr &lt;chr&gt; | start &lt;int&gt; | end &lt;int&gt; | gene_id &lt;chr&gt; | strand &lt;chr&gt; | gene_name &lt;chr&gt; | outcomes &lt;chr&gt; | n &lt;int&gt; |\n",
       "|---|---|---|---|---|---|---|---|\n",
       "| chr2 | 202773149 | 202871765 | ENSG00000163596 | - | ICA1L   | image_Aging5 | 3398 |\n",
       "| chr2 | 202874260 | 203014797 | ENSG00000138442 | - | WDR12   | image_Aging5 |  386 |\n",
       "| chr2 | 202912213 | 202988262 | ENSG00000138380 | + | CARF    | image_Aging5 | 2293 |\n",
       "| chr2 | 203014878 | 203226377 | ENSG00000144426 | + | NBEAL1  | image_Aging5 | 1467 |\n",
       "| chr3 |  52836218 |  52897547 | ENSG00000213533 | - | STIMATE | image_Aging5 |    1 |\n",
       "| chr3 |  89107620 |  89482133 | ENSG00000044524 | + | EPHA3   | image_Aging5 |  129 |\n",
       "\n"
      ],
      "text/plain": [
       "  #chr start     end       gene_id         strand gene_name outcomes     n   \n",
       "1 chr2 202773149 202871765 ENSG00000163596 -      ICA1L     image_Aging5 3398\n",
       "2 chr2 202874260 203014797 ENSG00000138442 -      WDR12     image_Aging5  386\n",
       "3 chr2 202912213 202988262 ENSG00000138380 +      CARF      image_Aging5 2293\n",
       "4 chr2 203014878 203226377 ENSG00000144426 +      NBEAL1    image_Aging5 1467\n",
       "5 chr3  52836218  52897547 ENSG00000213533 -      STIMATE   image_Aging5    1\n",
       "6 chr3  89107620  89482133 ENSG00000044524 +      EPHA3     image_Aging5  129"
      ]
     },
     "metadata": {},
     "output_type": "display_data"
    }
   ],
   "source": [
    "head(overlapped_finemap_sig_xqtl_gene)"
   ]
  },
  {
   "cell_type": "code",
   "execution_count": 23,
   "id": "ac9e0c72-c095-43e2-8158-ad8174a600e4",
   "metadata": {},
   "outputs": [],
   "source": [
    "overlapped_cos_sig_xqtl_gene = overlapped_cos_sig_xqtl_gene |> rename(outcomes = colocalized_outcomes)\n",
    "overlapped_finemap_sig_xqtl_gene = overlapped_finemap_sig_xqtl_gene |> rename(outcomes = event_ID.x)\n"
   ]
  },
  {
   "cell_type": "code",
   "execution_count": 24,
   "id": "d8d28af1-3064-414f-aa6f-921a0602f3a3",
   "metadata": {},
   "outputs": [],
   "source": [
    "combine_gene_lists <- function(finemapping_df, colocboost_df, gene_col = \"gene_name\") {\n",
    "  \n",
    "  # Add source identifier to each dataframe\n",
    "  finemapping_df$source <- \"finemapping\"\n",
    "  colocboost_df$source <- \"ColocBoost\"\n",
    "  \n",
    "  # Combine the dataframes\n",
    "  combined_df <- rbind(finemapping_df, colocboost_df)\n",
    "  \n",
    "  # Create the resource column based on gene presence in both sources\n",
    "  resource_summary <- combined_df %>%\n",
    "    group_by(!!sym(gene_col)) %>%\n",
    "    summarise(\n",
    "      sources = paste(unique(source), collapse = \", \"),\n",
    "      .groups = \"drop\"\n",
    "    ) %>%\n",
    "    mutate(\n",
    "      resource_in_FunGen_xQTL = case_when(\n",
    "        sources == \"finemapping\" ~ \"finemapping\",\n",
    "        sources == \"ColocBoost\" ~ \"ColocBoost\",\n",
    "        sources == \"ColocBoost, finemapping\" | sources == \"finemapping, ColocBoost\" ~ \"ColocBoost, finemapping\",\n",
    "        TRUE ~ sources\n",
    "      )\n",
    "    )\n",
    "  \n",
    "  # Merge back with combined data and remove duplicates\n",
    "  final_df <- combined_df %>%\n",
    "    left_join(resource_summary, by = gene_col) %>%\n",
    "    select(-source, -sources) %>%\n",
    "    distinct()\n",
    "  \n",
    "  return(final_df)\n",
    "}"
   ]
  },
  {
   "cell_type": "code",
   "execution_count": 34,
   "id": "70ec28d3-dfdd-4af0-ad4c-154be58761a9",
   "metadata": {},
   "outputs": [
    {
     "data": {
      "text/html": [
       "<style>\n",
       ".list-inline {list-style: none; margin:0; padding: 0}\n",
       ".list-inline>li {display: inline-block}\n",
       ".list-inline>li:not(:last-child)::after {content: \"\\00b7\"; padding: 0 .5ex}\n",
       "</style>\n",
       "<ol class=list-inline><li>322</li><li>8</li></ol>\n"
      ],
      "text/latex": [
       "\\begin{enumerate*}\n",
       "\\item 322\n",
       "\\item 8\n",
       "\\end{enumerate*}\n"
      ],
      "text/markdown": [
       "1. 322\n",
       "2. 8\n",
       "\n",
       "\n"
      ],
      "text/plain": [
       "[1] 322   8"
      ]
     },
     "metadata": {},
     "output_type": "display_data"
    },
    {
     "data": {
      "text/html": [
       "<style>\n",
       ".list-inline {list-style: none; margin:0; padding: 0}\n",
       ".list-inline>li {display: inline-block}\n",
       ".list-inline>li:not(:last-child)::after {content: \"\\00b7\"; padding: 0 .5ex}\n",
       "</style>\n",
       "<ol class=list-inline><li>322</li><li>8</li></ol>\n"
      ],
      "text/latex": [
       "\\begin{enumerate*}\n",
       "\\item 322\n",
       "\\item 8\n",
       "\\end{enumerate*}\n"
      ],
      "text/markdown": [
       "1. 322\n",
       "2. 8\n",
       "\n",
       "\n"
      ],
      "text/plain": [
       "[1] 322   8"
      ]
     },
     "metadata": {},
     "output_type": "display_data"
    },
    {
     "data": {
      "text/html": [
       "<style>\n",
       ".list-inline {list-style: none; margin:0; padding: 0}\n",
       ".list-inline>li {display: inline-block}\n",
       ".list-inline>li:not(:last-child)::after {content: \"\\00b7\"; padding: 0 .5ex}\n",
       "</style>\n",
       "<ol class=list-inline><li>351</li><li>9</li></ol>\n"
      ],
      "text/latex": [
       "\\begin{enumerate*}\n",
       "\\item 351\n",
       "\\item 9\n",
       "\\end{enumerate*}\n"
      ],
      "text/markdown": [
       "1. 351\n",
       "2. 9\n",
       "\n",
       "\n"
      ],
      "text/plain": [
       "[1] 351   9"
      ]
     },
     "metadata": {},
     "output_type": "display_data"
    },
    {
     "data": {
      "text/html": [
       "<style>\n",
       ".list-inline {list-style: none; margin:0; padding: 0}\n",
       ".list-inline>li {display: inline-block}\n",
       ".list-inline>li:not(:last-child)::after {content: \"\\00b7\"; padding: 0 .5ex}\n",
       "</style>\n",
       "<ol class=list-inline><li>351</li><li>9</li></ol>\n"
      ],
      "text/latex": [
       "\\begin{enumerate*}\n",
       "\\item 351\n",
       "\\item 9\n",
       "\\end{enumerate*}\n"
      ],
      "text/markdown": [
       "1. 351\n",
       "2. 9\n",
       "\n",
       "\n"
      ],
      "text/plain": [
       "[1] 351   9"
      ]
     },
     "metadata": {},
     "output_type": "display_data"
    }
   ],
   "source": [
    "cb_overlapped_sig_xqtl_gene = rbind(overlapped_cos_sig_xqtl_gene, overlapped_ucos_sig_xqtl_gene)\n",
    "dim(cb_overlapped_sig_xqtl_gene)\n",
    "cb_overlapped_sig_xqtl_gene = unique(cb_overlapped_sig_xqtl_gene)\n",
    "dim(cb_overlapped_sig_xqtl_gene)\n",
    "\n",
    "combined_overlap_sig_xqtl_gene = combine_gene_lists(overlapped_finemap_sig_xqtl_gene, cb_overlapped_sig_xqtl_gene, gene_col = \"gene_id\")\n",
    "dim(combined_overlap_sig_xqtl_gene)\n",
    "combined_overlap_sig_xqtl_gene = unique(combined_overlap_sig_xqtl_gene)\n",
    "dim(combined_overlap_sig_xqtl_gene)"
   ]
  },
  {
   "cell_type": "code",
   "execution_count": 35,
   "id": "240553d3-f963-4644-b070-ff2bcf9f8a65",
   "metadata": {},
   "outputs": [
    {
     "data": {
      "text/plain": [
       "\n",
       "             ColocBoost ColocBoost, finemapping             finemapping \n",
       "                    265                      83                       3 "
      ]
     },
     "metadata": {},
     "output_type": "display_data"
    }
   ],
   "source": [
    "table(combined_overlap_sig_xqtl_gene$resource_in_FunGen_xQTL)"
   ]
  },
  {
   "cell_type": "code",
   "execution_count": 37,
   "id": "c7d11995-97cb-42c6-b1b8-b159ea76f903",
   "metadata": {},
   "outputs": [],
   "source": [
    "combined_overlap_sig_xqtl_gene = combined_overlap_sig_xqtl_gene |> select(-n)"
   ]
  },
  {
   "cell_type": "code",
   "execution_count": 41,
   "id": "2aa15677-727e-468f-9add-1c8619172ebb",
   "metadata": {},
   "outputs": [],
   "source": [
    "combined_overlap_sig_xqtl_gene$data_resources <- \"FunGen_xQTL\""
   ]
  },
  {
   "cell_type": "code",
   "execution_count": 44,
   "id": "b7246849-bbd2-4113-bc00-8635c0c47125",
   "metadata": {},
   "outputs": [],
   "source": [
    "fwrite(combined_overlap_sig_xqtl_gene,\"~/project/image_QTL/image_enrichment/updated_image_xQTL_gene.tsv\", sep = \"\\t\")"
   ]
  },
  {
   "cell_type": "code",
   "execution_count": 43,
   "id": "bd47681c-8cc4-4637-902d-bd77d41d2e98",
   "metadata": {},
   "outputs": [],
   "source": [
    "combined_overlap_sig_xqtl_gene = fread(\"~/project/image_QTL/image_enrichment/updated_image_xQTL_gene.tsv\")\n",
    "combined_overlap_sig_xqtl_gene = combined_overlap_sig_xqtl_gene |> arrange(`#chr`, start, end, outcomes,resource_in_FunGen_xQTL)"
   ]
  },
  {
   "cell_type": "code",
   "execution_count": 27,
   "id": "4d6979cd-1547-45f4-afb7-9e35cce7fe5c",
   "metadata": {},
   "outputs": [
    {
     "data": {
      "text/html": [
       "<table class=\"dataframe\">\n",
       "<caption>A data.table: 3 × 8</caption>\n",
       "<thead>\n",
       "\t<tr><th scope=col>#chr</th><th scope=col>start</th><th scope=col>end</th><th scope=col>gene_id</th><th scope=col>strand</th><th scope=col>gene_name</th><th scope=col>outcomes</th><th scope=col>n</th></tr>\n",
       "\t<tr><th scope=col>&lt;chr&gt;</th><th scope=col>&lt;int&gt;</th><th scope=col>&lt;int&gt;</th><th scope=col>&lt;chr&gt;</th><th scope=col>&lt;chr&gt;</th><th scope=col>&lt;chr&gt;</th><th scope=col>&lt;chr&gt;</th><th scope=col>&lt;int&gt;</th></tr>\n",
       "</thead>\n",
       "<tbody>\n",
       "\t<tr><td>chr9 </td><td>89605011</td><td>89606554</td><td>ENSG00000130222</td><td>+</td><td>GADD45G</td><td>image_Aging2</td><td> 1</td></tr>\n",
       "\t<tr><td>chr20</td><td>41136959</td><td>41196800</td><td>ENSG00000124181</td><td>+</td><td>PLCG1  </td><td>image_Aging5</td><td>20</td></tr>\n",
       "\t<tr><td>chr20</td><td>41178447</td><td>41317671</td><td>ENSG00000174306</td><td>-</td><td>ZHX3   </td><td>image_Aging5</td><td>25</td></tr>\n",
       "</tbody>\n",
       "</table>\n"
      ],
      "text/latex": [
       "A data.table: 3 × 8\n",
       "\\begin{tabular}{llllllll}\n",
       " \\#chr & start & end & gene\\_id & strand & gene\\_name & outcomes & n\\\\\n",
       " <chr> & <int> & <int> & <chr> & <chr> & <chr> & <chr> & <int>\\\\\n",
       "\\hline\n",
       "\t chr9  & 89605011 & 89606554 & ENSG00000130222 & + & GADD45G & image\\_Aging2 &  1\\\\\n",
       "\t chr20 & 41136959 & 41196800 & ENSG00000124181 & + & PLCG1   & image\\_Aging5 & 20\\\\\n",
       "\t chr20 & 41178447 & 41317671 & ENSG00000174306 & - & ZHX3    & image\\_Aging5 & 25\\\\\n",
       "\\end{tabular}\n"
      ],
      "text/markdown": [
       "\n",
       "A data.table: 3 × 8\n",
       "\n",
       "| #chr &lt;chr&gt; | start &lt;int&gt; | end &lt;int&gt; | gene_id &lt;chr&gt; | strand &lt;chr&gt; | gene_name &lt;chr&gt; | outcomes &lt;chr&gt; | n &lt;int&gt; |\n",
       "|---|---|---|---|---|---|---|---|\n",
       "| chr9  | 89605011 | 89606554 | ENSG00000130222 | + | GADD45G | image_Aging2 |  1 |\n",
       "| chr20 | 41136959 | 41196800 | ENSG00000124181 | + | PLCG1   | image_Aging5 | 20 |\n",
       "| chr20 | 41178447 | 41317671 | ENSG00000174306 | - | ZHX3    | image_Aging5 | 25 |\n",
       "\n"
      ],
      "text/plain": [
       "  #chr  start    end      gene_id         strand gene_name outcomes     n \n",
       "1 chr9  89605011 89606554 ENSG00000130222 +      GADD45G   image_Aging2  1\n",
       "2 chr20 41136959 41196800 ENSG00000124181 +      PLCG1     image_Aging5 20\n",
       "3 chr20 41178447 41317671 ENSG00000174306 -      ZHX3      image_Aging5 25"
      ]
     },
     "metadata": {},
     "output_type": "display_data"
    }
   ],
   "source": [
    "unique_finemap_gene = anti_join(overlapped_finemap_sig_xqtl_gene, cb_overlapped_sig_xqtl_gene, by = c(\"gene_id\", \"outcomes\"))\n",
    "unique_finemap_gene"
   ]
  },
  {
   "cell_type": "code",
   "execution_count": 12,
   "id": "5284ceca-0b39-4268-a714-e9190fc45e7f",
   "metadata": {},
   "outputs": [
    {
     "data": {
      "text/html": [
       "<table class=\"dataframe\">\n",
       "<caption>A data.table: 1 × 12</caption>\n",
       "<thead>\n",
       "\t<tr><th scope=col>#chr</th><th scope=col>start</th><th scope=col>end</th><th scope=col>gene_id</th><th scope=col>strand</th><th scope=col>gene_name</th><th scope=col>outcomes</th><th scope=col>n</th><th scope=col>Number</th><th scope=col>#CHROM</th><th scope=col>POS</th><th scope=col>SNV</th></tr>\n",
       "\t<tr><th scope=col>&lt;chr&gt;</th><th scope=col>&lt;int&gt;</th><th scope=col>&lt;int&gt;</th><th scope=col>&lt;chr&gt;</th><th scope=col>&lt;chr&gt;</th><th scope=col>&lt;chr&gt;</th><th scope=col>&lt;chr&gt;</th><th scope=col>&lt;int&gt;</th><th scope=col>&lt;int&gt;</th><th scope=col>&lt;int&gt;</th><th scope=col>&lt;int&gt;</th><th scope=col>&lt;chr&gt;</th></tr>\n",
       "</thead>\n",
       "<tbody>\n",
       "\t<tr><td>chr2</td><td>202874260</td><td>203014797</td><td>ENSG00000138442</td><td>-</td><td>WDR12</td><td>image_Aging5</td><td>405</td><td>7</td><td>2</td><td>202878716</td><td>rs139643391</td></tr>\n",
       "</tbody>\n",
       "</table>\n"
      ],
      "text/latex": [
       "A data.table: 1 × 12\n",
       "\\begin{tabular}{llllllllllll}\n",
       " \\#chr & start & end & gene\\_id & strand & gene\\_name & outcomes & n & Number & \\#CHROM & POS & SNV\\\\\n",
       " <chr> & <int> & <int> & <chr> & <chr> & <chr> & <chr> & <int> & <int> & <int> & <int> & <chr>\\\\\n",
       "\\hline\n",
       "\t chr2 & 202874260 & 203014797 & ENSG00000138442 & - & WDR12 & image\\_Aging5 & 405 & 7 & 2 & 202878716 & rs139643391\\\\\n",
       "\\end{tabular}\n"
      ],
      "text/markdown": [
       "\n",
       "A data.table: 1 × 12\n",
       "\n",
       "| #chr &lt;chr&gt; | start &lt;int&gt; | end &lt;int&gt; | gene_id &lt;chr&gt; | strand &lt;chr&gt; | gene_name &lt;chr&gt; | outcomes &lt;chr&gt; | n &lt;int&gt; | Number &lt;int&gt; | #CHROM &lt;int&gt; | POS &lt;int&gt; | SNV &lt;chr&gt; |\n",
       "|---|---|---|---|---|---|---|---|---|---|---|---|\n",
       "| chr2 | 202874260 | 203014797 | ENSG00000138442 | - | WDR12 | image_Aging5 | 405 | 7 | 2 | 202878716 | rs139643391 |\n",
       "\n"
      ],
      "text/plain": [
       "  #chr start     end       gene_id         strand gene_name outcomes     n  \n",
       "1 chr2 202874260 203014797 ENSG00000138442 -      WDR12     image_Aging5 405\n",
       "  Number #CHROM POS       SNV        \n",
       "1 7      2      202878716 rs139643391"
      ]
     },
     "metadata": {},
     "output_type": "display_data"
    }
   ],
   "source": [
    "overlapped_ucos_sig_xqtl_gene |> inner_join(T1G, by = \"gene_name\")"
   ]
  },
  {
   "cell_type": "markdown",
   "id": "ed90103b-43da-461c-aff2-2ac405452e72",
   "metadata": {},
   "source": [
    "# genes from overlap of xQTL and CoS variants"
   ]
  },
  {
   "cell_type": "code",
   "execution_count": 14,
   "id": "4c8faf91-0e6a-482f-bb2b-6355e5f0802f",
   "metadata": {},
   "outputs": [
    {
     "data": {
      "text/html": [
       "<table class=\"dataframe\">\n",
       "<caption>A data.table: 2 × 12</caption>\n",
       "<thead>\n",
       "\t<tr><th scope=col>#chr</th><th scope=col>start</th><th scope=col>end</th><th scope=col>gene_id</th><th scope=col>strand</th><th scope=col>gene_name</th><th scope=col>colocalized_outcomes</th><th scope=col>n</th><th scope=col>Number</th><th scope=col>#CHROM</th><th scope=col>POS</th><th scope=col>SNV</th></tr>\n",
       "\t<tr><th scope=col>&lt;chr&gt;</th><th scope=col>&lt;int&gt;</th><th scope=col>&lt;int&gt;</th><th scope=col>&lt;chr&gt;</th><th scope=col>&lt;chr&gt;</th><th scope=col>&lt;chr&gt;</th><th scope=col>&lt;chr&gt;</th><th scope=col>&lt;int&gt;</th><th scope=col>&lt;int&gt;</th><th scope=col>&lt;int&gt;</th><th scope=col>&lt;int&gt;</th><th scope=col>&lt;chr&gt;</th></tr>\n",
       "</thead>\n",
       "<tbody>\n",
       "\t<tr><td>chr5</td><td>151029944</td><td>151093576</td><td>ENSG00000145901</td><td>-</td><td>TNIP1</td><td>image_AD2   </td><td>1</td><td>15</td><td>5</td><td>151052827</td><td>rs871269</td></tr>\n",
       "\t<tr><td>chr5</td><td>151029944</td><td>151093576</td><td>ENSG00000145901</td><td>-</td><td>TNIP1</td><td>image_Aging2</td><td>1</td><td>15</td><td>5</td><td>151052827</td><td>rs871269</td></tr>\n",
       "</tbody>\n",
       "</table>\n"
      ],
      "text/latex": [
       "A data.table: 2 × 12\n",
       "\\begin{tabular}{llllllllllll}\n",
       " \\#chr & start & end & gene\\_id & strand & gene\\_name & colocalized\\_outcomes & n & Number & \\#CHROM & POS & SNV\\\\\n",
       " <chr> & <int> & <int> & <chr> & <chr> & <chr> & <chr> & <int> & <int> & <int> & <int> & <chr>\\\\\n",
       "\\hline\n",
       "\t chr5 & 151029944 & 151093576 & ENSG00000145901 & - & TNIP1 & image\\_AD2    & 1 & 15 & 5 & 151052827 & rs871269\\\\\n",
       "\t chr5 & 151029944 & 151093576 & ENSG00000145901 & - & TNIP1 & image\\_Aging2 & 1 & 15 & 5 & 151052827 & rs871269\\\\\n",
       "\\end{tabular}\n"
      ],
      "text/markdown": [
       "\n",
       "A data.table: 2 × 12\n",
       "\n",
       "| #chr &lt;chr&gt; | start &lt;int&gt; | end &lt;int&gt; | gene_id &lt;chr&gt; | strand &lt;chr&gt; | gene_name &lt;chr&gt; | colocalized_outcomes &lt;chr&gt; | n &lt;int&gt; | Number &lt;int&gt; | #CHROM &lt;int&gt; | POS &lt;int&gt; | SNV &lt;chr&gt; |\n",
       "|---|---|---|---|---|---|---|---|---|---|---|---|\n",
       "| chr5 | 151029944 | 151093576 | ENSG00000145901 | - | TNIP1 | image_AD2    | 1 | 15 | 5 | 151052827 | rs871269 |\n",
       "| chr5 | 151029944 | 151093576 | ENSG00000145901 | - | TNIP1 | image_Aging2 | 1 | 15 | 5 | 151052827 | rs871269 |\n",
       "\n"
      ],
      "text/plain": [
       "  #chr start     end       gene_id         strand gene_name\n",
       "1 chr5 151029944 151093576 ENSG00000145901 -      TNIP1    \n",
       "2 chr5 151029944 151093576 ENSG00000145901 -      TNIP1    \n",
       "  colocalized_outcomes n Number #CHROM POS       SNV     \n",
       "1 image_AD2            1 15     5      151052827 rs871269\n",
       "2 image_Aging2         1 15     5      151052827 rs871269"
      ]
     },
     "metadata": {},
     "output_type": "display_data"
    }
   ],
   "source": [
    "overlapped_cos_sig_xqtl_gene |> inner_join(T1G, by = \"gene_name\")"
   ]
  },
  {
   "cell_type": "code",
   "execution_count": 21,
   "id": "f8fa00fc-40e3-4018-af80-7272c7a89727",
   "metadata": {},
   "outputs": [
    {
     "ename": "ERROR",
     "evalue": "Error: object 'cb_image_sig_xqtl' not found\n",
     "output_type": "error",
     "traceback": [
      "Error: object 'cb_image_sig_xqtl' not found\nTraceback:\n",
      "1. .handleSimpleError(function (cnd) \n . {\n .     watcher$capture_plot_and_output()\n .     cnd <- sanitize_call(cnd)\n .     watcher$push(cnd)\n .     switch(on_error, continue = invokeRestart(\"eval_continue\"), \n .         stop = invokeRestart(\"eval_stop\"), error = NULL)\n . }, \"object 'cb_image_sig_xqtl' not found\", base::quote(eval(expr, \n .     envir)))"
     ]
    }
   ],
   "source": [
    "cb_unique_gene <- anti_join(cb_overlapped_sig_xqtl_gene, overlapped_finemap_sig_xqtl_gene, by = 'gene_id')\n",
    "dim(cb_unique_gene)"
   ]
  },
  {
   "cell_type": "code",
   "execution_count": null,
   "id": "53139284-615b-4d06-b104-f0272460fb4b",
   "metadata": {},
   "outputs": [],
   "source": []
  }
 ],
 "metadata": {
  "kernelspec": {
   "display_name": "R",
   "language": "R",
   "name": "ir"
  },
  "language_info": {
   "codemirror_mode": "r",
   "file_extension": ".r",
   "mimetype": "text/x-r-source",
   "name": "R",
   "pygments_lexer": "r",
   "version": "4.3.3"
  }
 },
 "nbformat": 4,
 "nbformat_minor": 5
}
