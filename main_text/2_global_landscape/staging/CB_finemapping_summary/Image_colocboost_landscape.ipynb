{
 "cells": [
  {
   "cell_type": "code",
   "execution_count": 1,
   "id": "2158a136-aec4-4453-9e97-31698da4f1dc",
   "metadata": {},
   "outputs": [
    {
     "name": "stderr",
     "output_type": "stream",
     "text": [
      "── \u001b[1mAttaching core tidyverse packages\u001b[22m ──────────────────────── tidyverse 2.0.0 ──\n",
      "\u001b[32m✔\u001b[39m \u001b[34mdplyr    \u001b[39m 1.1.4     \u001b[32m✔\u001b[39m \u001b[34mreadr    \u001b[39m 2.1.5\n",
      "\u001b[32m✔\u001b[39m \u001b[34mforcats  \u001b[39m 1.0.0     \u001b[32m✔\u001b[39m \u001b[34mstringr  \u001b[39m 1.5.1\n",
      "\u001b[32m✔\u001b[39m \u001b[34mggplot2  \u001b[39m 3.5.2     \u001b[32m✔\u001b[39m \u001b[34mtibble   \u001b[39m 3.3.0\n",
      "\u001b[32m✔\u001b[39m \u001b[34mlubridate\u001b[39m 1.9.4     \u001b[32m✔\u001b[39m \u001b[34mtidyr    \u001b[39m 1.3.1\n",
      "\u001b[32m✔\u001b[39m \u001b[34mpurrr    \u001b[39m 1.1.0     \n",
      "── \u001b[1mConflicts\u001b[22m ────────────────────────────────────────── tidyverse_conflicts() ──\n",
      "\u001b[31m✖\u001b[39m \u001b[34mdplyr\u001b[39m::\u001b[32mfilter()\u001b[39m masks \u001b[34mstats\u001b[39m::filter()\n",
      "\u001b[31m✖\u001b[39m \u001b[34mdplyr\u001b[39m::\u001b[32mlag()\u001b[39m    masks \u001b[34mstats\u001b[39m::lag()\n",
      "\u001b[36mℹ\u001b[39m Use the conflicted package (\u001b[3m\u001b[34m<http://conflicted.r-lib.org/>\u001b[39m\u001b[23m) to force all conflicts to become errors\n",
      "\n",
      "Attaching package: ‘data.table’\n",
      "\n",
      "\n",
      "The following objects are masked from ‘package:lubridate’:\n",
      "\n",
      "    hour, isoweek, mday, minute, month, quarter, second, wday, week,\n",
      "    yday, year\n",
      "\n",
      "\n",
      "The following objects are masked from ‘package:dplyr’:\n",
      "\n",
      "    between, first, last\n",
      "\n",
      "\n",
      "The following object is masked from ‘package:purrr’:\n",
      "\n",
      "    transpose\n",
      "\n",
      "\n"
     ]
    }
   ],
   "source": [
    "library(tidyverse)\n",
    "library(data.table)\n",
    "library(ggplot2)"
   ]
  },
  {
   "cell_type": "markdown",
   "id": "9d822a88-e295-4863-9aca-9fd501e47d07",
   "metadata": {},
   "source": [
    "## DNE"
   ]
  },
  {
   "cell_type": "markdown",
   "id": "ecf005a1-7291-4b57-b486-cdab5a8cd30d",
   "metadata": {},
   "source": [
    "### ColocBoost"
   ]
  },
  {
   "cell_type": "code",
   "execution_count": 2,
   "id": "73a281c3",
   "metadata": {
    "vscode": {
     "languageId": "r"
    }
   },
   "outputs": [
    {
     "data": {
      "text/html": [
       "<table class=\"dataframe\">\n",
       "<caption>A data.table: 6 × 14</caption>\n",
       "<thead>\n",
       "\t<tr><th scope=col>#chr</th><th scope=col>start</th><th scope=col>end</th><th scope=col>a1</th><th scope=col>a2</th><th scope=col>variant_ID</th><th scope=col>region_ID</th><th scope=col>event_ID</th><th scope=col>cos_ID</th><th scope=col>vcp</th><th scope=col>cos_npc</th><th scope=col>min_npc_outcome</th><th scope=col>coef</th><th scope=col>z</th></tr>\n",
       "\t<tr><th scope=col>&lt;chr&gt;</th><th scope=col>&lt;int&gt;</th><th scope=col>&lt;int&gt;</th><th scope=col>&lt;chr&gt;</th><th scope=col>&lt;chr&gt;</th><th scope=col>&lt;chr&gt;</th><th scope=col>&lt;chr&gt;</th><th scope=col>&lt;chr&gt;</th><th scope=col>&lt;chr&gt;</th><th scope=col>&lt;dbl&gt;</th><th scope=col>&lt;dbl&gt;</th><th scope=col>&lt;dbl&gt;</th><th scope=col>&lt;chr&gt;</th><th scope=col>&lt;chr&gt;</th></tr>\n",
       "</thead>\n",
       "<tbody>\n",
       "\t<tr><td>chr1</td><td>214963879</td><td>214963879</td><td>C</td><td>A</td><td>chr1:214963879:A:C</td><td>chr1_214114077_215979204</td><td>image_Aging3; image_Aging4</td><td>chr1_214114077_215979204:cos1:y5_y6</td><td>0.308998229</td><td>1.0000</td><td>1.0000</td><td>-0.00295357552328793;-0.00350825537272619 </td><td>-7.05591585332122;-7.83062096093714</td></tr>\n",
       "\t<tr><td>chr1</td><td>214966544</td><td>214966544</td><td>T</td><td>A</td><td>chr1:214966544:A:T</td><td>chr1_214114077_215979204</td><td>image_Aging3; image_Aging4</td><td>chr1_214114077_215979204:cos1:y5_y6</td><td>0.551378710</td><td>1.0000</td><td>1.0000</td><td>-0.0045110686509308;-0.00497147409598806  </td><td>-7.11983187553063;-7.86924422401098</td></tr>\n",
       "\t<tr><td>chr1</td><td>214968227</td><td>214968227</td><td>T</td><td>C</td><td>chr1:214968227:C:T</td><td>chr1_214114077_215979204</td><td>image_Aging3; image_Aging4</td><td>chr1_214114077_215979204:cos1:y5_y6</td><td>0.139518722</td><td>1.0000</td><td>1.0000</td><td>-0.00245884110595507;-0.00145974662852431 </td><td>-7.00267955746628;-7.63714115547905</td></tr>\n",
       "\t<tr><td>chr1</td><td>236230893</td><td>236230893</td><td>A</td><td>G</td><td>chr1:236230893:G:A</td><td>chr1_235656952_237008086</td><td>image_AD2; image_Aging4   </td><td>chr1_235656952_237008086:cos1:y1_y5</td><td>0.011843439</td><td>0.9712</td><td>0.9712</td><td>0.000109647171223616;-4.90719712964009e-05</td><td>4.19283889654175;-3.40467226319757 </td></tr>\n",
       "\t<tr><td>chr1</td><td>236231824</td><td>236231824</td><td>G</td><td>A</td><td>chr1:236231824:A:G</td><td>chr1_235656952_237008086</td><td>image_AD2; image_Aging4   </td><td>chr1_235656952_237008086:cos1:y1_y5</td><td>0.009205362</td><td>0.9712</td><td>0.9712</td><td>9.15977434295378e-05;-4.19788158719159e-05</td><td>4.13503630444023;-3.34741920051326 </td></tr>\n",
       "\t<tr><td>chr1</td><td>236232553</td><td>236232553</td><td>C</td><td>T</td><td>chr1:236232553:T:C</td><td>chr1_235656952_237008086</td><td>image_AD2; image_Aging4   </td><td>chr1_235656952_237008086:cos1:y1_y5</td><td>0.009599897</td><td>0.9712</td><td>0.9712</td><td>9.53920530452249e-05;-4.26288587857485e-05</td><td>4.14766738902267;-3.35272152488867 </td></tr>\n",
       "</tbody>\n",
       "</table>\n"
      ],
      "text/latex": [
       "A data.table: 6 × 14\n",
       "\\begin{tabular}{llllllllllllll}\n",
       " \\#chr & start & end & a1 & a2 & variant\\_ID & region\\_ID & event\\_ID & cos\\_ID & vcp & cos\\_npc & min\\_npc\\_outcome & coef & z\\\\\n",
       " <chr> & <int> & <int> & <chr> & <chr> & <chr> & <chr> & <chr> & <chr> & <dbl> & <dbl> & <dbl> & <chr> & <chr>\\\\\n",
       "\\hline\n",
       "\t chr1 & 214963879 & 214963879 & C & A & chr1:214963879:A:C & chr1\\_214114077\\_215979204 & image\\_Aging3; image\\_Aging4 & chr1\\_214114077\\_215979204:cos1:y5\\_y6 & 0.308998229 & 1.0000 & 1.0000 & -0.00295357552328793;-0.00350825537272619  & -7.05591585332122;-7.83062096093714\\\\\n",
       "\t chr1 & 214966544 & 214966544 & T & A & chr1:214966544:A:T & chr1\\_214114077\\_215979204 & image\\_Aging3; image\\_Aging4 & chr1\\_214114077\\_215979204:cos1:y5\\_y6 & 0.551378710 & 1.0000 & 1.0000 & -0.0045110686509308;-0.00497147409598806   & -7.11983187553063;-7.86924422401098\\\\\n",
       "\t chr1 & 214968227 & 214968227 & T & C & chr1:214968227:C:T & chr1\\_214114077\\_215979204 & image\\_Aging3; image\\_Aging4 & chr1\\_214114077\\_215979204:cos1:y5\\_y6 & 0.139518722 & 1.0000 & 1.0000 & -0.00245884110595507;-0.00145974662852431  & -7.00267955746628;-7.63714115547905\\\\\n",
       "\t chr1 & 236230893 & 236230893 & A & G & chr1:236230893:G:A & chr1\\_235656952\\_237008086 & image\\_AD2; image\\_Aging4    & chr1\\_235656952\\_237008086:cos1:y1\\_y5 & 0.011843439 & 0.9712 & 0.9712 & 0.000109647171223616;-4.90719712964009e-05 & 4.19283889654175;-3.40467226319757 \\\\\n",
       "\t chr1 & 236231824 & 236231824 & G & A & chr1:236231824:A:G & chr1\\_235656952\\_237008086 & image\\_AD2; image\\_Aging4    & chr1\\_235656952\\_237008086:cos1:y1\\_y5 & 0.009205362 & 0.9712 & 0.9712 & 9.15977434295378e-05;-4.19788158719159e-05 & 4.13503630444023;-3.34741920051326 \\\\\n",
       "\t chr1 & 236232553 & 236232553 & C & T & chr1:236232553:T:C & chr1\\_235656952\\_237008086 & image\\_AD2; image\\_Aging4    & chr1\\_235656952\\_237008086:cos1:y1\\_y5 & 0.009599897 & 0.9712 & 0.9712 & 9.53920530452249e-05;-4.26288587857485e-05 & 4.14766738902267;-3.35272152488867 \\\\\n",
       "\\end{tabular}\n"
      ],
      "text/markdown": [
       "\n",
       "A data.table: 6 × 14\n",
       "\n",
       "| #chr &lt;chr&gt; | start &lt;int&gt; | end &lt;int&gt; | a1 &lt;chr&gt; | a2 &lt;chr&gt; | variant_ID &lt;chr&gt; | region_ID &lt;chr&gt; | event_ID &lt;chr&gt; | cos_ID &lt;chr&gt; | vcp &lt;dbl&gt; | cos_npc &lt;dbl&gt; | min_npc_outcome &lt;dbl&gt; | coef &lt;chr&gt; | z &lt;chr&gt; |\n",
       "|---|---|---|---|---|---|---|---|---|---|---|---|---|---|\n",
       "| chr1 | 214963879 | 214963879 | C | A | chr1:214963879:A:C | chr1_214114077_215979204 | image_Aging3; image_Aging4 | chr1_214114077_215979204:cos1:y5_y6 | 0.308998229 | 1.0000 | 1.0000 | -0.00295357552328793;-0.00350825537272619  | -7.05591585332122;-7.83062096093714 |\n",
       "| chr1 | 214966544 | 214966544 | T | A | chr1:214966544:A:T | chr1_214114077_215979204 | image_Aging3; image_Aging4 | chr1_214114077_215979204:cos1:y5_y6 | 0.551378710 | 1.0000 | 1.0000 | -0.0045110686509308;-0.00497147409598806   | -7.11983187553063;-7.86924422401098 |\n",
       "| chr1 | 214968227 | 214968227 | T | C | chr1:214968227:C:T | chr1_214114077_215979204 | image_Aging3; image_Aging4 | chr1_214114077_215979204:cos1:y5_y6 | 0.139518722 | 1.0000 | 1.0000 | -0.00245884110595507;-0.00145974662852431  | -7.00267955746628;-7.63714115547905 |\n",
       "| chr1 | 236230893 | 236230893 | A | G | chr1:236230893:G:A | chr1_235656952_237008086 | image_AD2; image_Aging4    | chr1_235656952_237008086:cos1:y1_y5 | 0.011843439 | 0.9712 | 0.9712 | 0.000109647171223616;-4.90719712964009e-05 | 4.19283889654175;-3.40467226319757  |\n",
       "| chr1 | 236231824 | 236231824 | G | A | chr1:236231824:A:G | chr1_235656952_237008086 | image_AD2; image_Aging4    | chr1_235656952_237008086:cos1:y1_y5 | 0.009205362 | 0.9712 | 0.9712 | 9.15977434295378e-05;-4.19788158719159e-05 | 4.13503630444023;-3.34741920051326  |\n",
       "| chr1 | 236232553 | 236232553 | C | T | chr1:236232553:T:C | chr1_235656952_237008086 | image_AD2; image_Aging4    | chr1_235656952_237008086:cos1:y1_y5 | 0.009599897 | 0.9712 | 0.9712 | 9.53920530452249e-05;-4.26288587857485e-05 | 4.14766738902267;-3.35272152488867  |\n",
       "\n"
      ],
      "text/plain": [
       "  #chr start     end       a1 a2 variant_ID         region_ID               \n",
       "1 chr1 214963879 214963879 C  A  chr1:214963879:A:C chr1_214114077_215979204\n",
       "2 chr1 214966544 214966544 T  A  chr1:214966544:A:T chr1_214114077_215979204\n",
       "3 chr1 214968227 214968227 T  C  chr1:214968227:C:T chr1_214114077_215979204\n",
       "4 chr1 236230893 236230893 A  G  chr1:236230893:G:A chr1_235656952_237008086\n",
       "5 chr1 236231824 236231824 G  A  chr1:236231824:A:G chr1_235656952_237008086\n",
       "6 chr1 236232553 236232553 C  T  chr1:236232553:T:C chr1_235656952_237008086\n",
       "  event_ID                   cos_ID                              vcp        \n",
       "1 image_Aging3; image_Aging4 chr1_214114077_215979204:cos1:y5_y6 0.308998229\n",
       "2 image_Aging3; image_Aging4 chr1_214114077_215979204:cos1:y5_y6 0.551378710\n",
       "3 image_Aging3; image_Aging4 chr1_214114077_215979204:cos1:y5_y6 0.139518722\n",
       "4 image_AD2; image_Aging4    chr1_235656952_237008086:cos1:y1_y5 0.011843439\n",
       "5 image_AD2; image_Aging4    chr1_235656952_237008086:cos1:y1_y5 0.009205362\n",
       "6 image_AD2; image_Aging4    chr1_235656952_237008086:cos1:y1_y5 0.009599897\n",
       "  cos_npc min_npc_outcome coef                                      \n",
       "1 1.0000  1.0000          -0.00295357552328793;-0.00350825537272619 \n",
       "2 1.0000  1.0000          -0.0045110686509308;-0.00497147409598806  \n",
       "3 1.0000  1.0000          -0.00245884110595507;-0.00145974662852431 \n",
       "4 0.9712  0.9712          0.000109647171223616;-4.90719712964009e-05\n",
       "5 0.9712  0.9712          9.15977434295378e-05;-4.19788158719159e-05\n",
       "6 0.9712  0.9712          9.53920530452249e-05;-4.26288587857485e-05\n",
       "  z                                  \n",
       "1 -7.05591585332122;-7.83062096093714\n",
       "2 -7.11983187553063;-7.86924422401098\n",
       "3 -7.00267955746628;-7.63714115547905\n",
       "4 4.19283889654175;-3.40467226319757 \n",
       "5 4.13503630444023;-3.34741920051326 \n",
       "6 4.14766738902267;-3.35272152488867 "
      ]
     },
     "metadata": {},
     "output_type": "display_data"
    }
   ],
   "source": [
    "image_cb <- fread(\"~/project/image_QTL/DNE_cb_explained_by_xQTL/Image_meta_colocboost_export_filtered_ucos.bed\")\n",
    "head(image_cb)"
   ]
  },
  {
   "cell_type": "code",
   "execution_count": 14,
   "id": "02b1ce94-b6d3-4ff6-9d35-84b74e7a719d",
   "metadata": {},
   "outputs": [
    {
     "data": {
      "text/html": [
       "<table class=\"dataframe\">\n",
       "<caption>A grouped_df: 10 × 2</caption>\n",
       "<thead>\n",
       "\t<tr><th scope=col>event_ID</th><th scope=col>n</th></tr>\n",
       "\t<tr><th scope=col>&lt;chr&gt;</th><th scope=col>&lt;int&gt;</th></tr>\n",
       "</thead>\n",
       "<tbody>\n",
       "\t<tr><td>image_AD1              </td><td> 5</td></tr>\n",
       "\t<tr><td>image_AD1; image_Aging3</td><td> 1</td></tr>\n",
       "\t<tr><td>image_AD1; image_Aging5</td><td> 1</td></tr>\n",
       "\t<tr><td>image_AD2              </td><td> 1</td></tr>\n",
       "\t<tr><td>image_AD2; image_Aging2</td><td> 1</td></tr>\n",
       "\t<tr><td>image_Aging1           </td><td> 8</td></tr>\n",
       "\t<tr><td>image_Aging2           </td><td> 4</td></tr>\n",
       "\t<tr><td>image_Aging3           </td><td> 3</td></tr>\n",
       "\t<tr><td>image_Aging4           </td><td> 6</td></tr>\n",
       "\t<tr><td>image_Aging5           </td><td>11</td></tr>\n",
       "</tbody>\n",
       "</table>\n"
      ],
      "text/latex": [
       "A grouped\\_df: 10 × 2\n",
       "\\begin{tabular}{ll}\n",
       " event\\_ID & n\\\\\n",
       " <chr> & <int>\\\\\n",
       "\\hline\n",
       "\t image\\_AD1               &  5\\\\\n",
       "\t image\\_AD1; image\\_Aging3 &  1\\\\\n",
       "\t image\\_AD1; image\\_Aging5 &  1\\\\\n",
       "\t image\\_AD2               &  1\\\\\n",
       "\t image\\_AD2; image\\_Aging2 &  1\\\\\n",
       "\t image\\_Aging1            &  8\\\\\n",
       "\t image\\_Aging2            &  4\\\\\n",
       "\t image\\_Aging3            &  3\\\\\n",
       "\t image\\_Aging4            &  6\\\\\n",
       "\t image\\_Aging5            & 11\\\\\n",
       "\\end{tabular}\n"
      ],
      "text/markdown": [
       "\n",
       "A grouped_df: 10 × 2\n",
       "\n",
       "| event_ID &lt;chr&gt; | n &lt;int&gt; |\n",
       "|---|---|\n",
       "| image_AD1               |  5 |\n",
       "| image_AD1; image_Aging3 |  1 |\n",
       "| image_AD1; image_Aging5 |  1 |\n",
       "| image_AD2               |  1 |\n",
       "| image_AD2; image_Aging2 |  1 |\n",
       "| image_Aging1            |  8 |\n",
       "| image_Aging2            |  4 |\n",
       "| image_Aging3            |  3 |\n",
       "| image_Aging4            |  6 |\n",
       "| image_Aging5            | 11 |\n",
       "\n"
      ],
      "text/plain": [
       "   event_ID                n \n",
       "1  image_AD1                5\n",
       "2  image_AD1; image_Aging3  1\n",
       "3  image_AD1; image_Aging5  1\n",
       "4  image_AD2                1\n",
       "5  image_AD2; image_Aging2  1\n",
       "6  image_Aging1             8\n",
       "7  image_Aging2             4\n",
       "8  image_Aging3             3\n",
       "9  image_Aging4             6\n",
       "10 image_Aging5            11"
      ]
     },
     "metadata": {},
     "output_type": "display_data"
    }
   ],
   "source": [
    "a = image_cb |> group_by(cos_ID, event_ID) |> count() |> arrange(desc(n))  |> filter(n>100)\n",
    "a |> group_by(event_ID) |> count()"
   ]
  },
  {
   "cell_type": "code",
   "execution_count": 15,
   "id": "f5b74149-3908-4041-9177-4151591b79eb",
   "metadata": {},
   "outputs": [
    {
     "name": "stdout",
     "output_type": "stream",
     "text": [
      "Trait: image_AD1 \n",
      "  UCOS variants: 1255 \n",
      "  COS variants: 752 \n",
      "  Total variants: 2007 \n",
      "\n",
      "Trait: image_AD2 \n",
      "  UCOS variants: 799 \n",
      "  COS variants: 630 \n",
      "  Total variants: 1429 \n",
      "\n",
      "Trait: image_Aging1 \n",
      "  UCOS variants: 2219 \n",
      "  COS variants: 429 \n",
      "  Total variants: 2648 \n",
      "\n",
      "Trait: image_Aging2 \n",
      "  UCOS variants: 1396 \n",
      "  COS variants: 516 \n",
      "  Total variants: 1912 \n",
      "\n",
      "Trait: image_Aging3 \n",
      "  UCOS variants: 2987 \n",
      "  COS variants: 713 \n",
      "  Total variants: 3700 \n",
      "\n",
      "Trait: image_Aging4 \n",
      "  UCOS variants: 1559 \n",
      "  COS variants: 504 \n",
      "  Total variants: 2063 \n",
      "\n",
      "Trait: image_Aging5 \n",
      "  UCOS variants: 2751 \n",
      "  COS variants: 291 \n",
      "  Total variants: 3042 \n",
      "\n",
      "=== FINAL SUMMARY TABLE ===\n",
      "         trait ucos_count cos_count total ucos_prop   cos_prop\n",
      "1    image_AD1       1255       752  2007 0.6253114 0.37468859\n",
      "2    image_AD2        799       630  1429 0.5591323 0.44086774\n",
      "3 image_Aging1       2219       429  2648 0.8379909 0.16200906\n",
      "4 image_Aging2       1396       516  1912 0.7301255 0.26987448\n",
      "5 image_Aging3       2987       713  3700 0.8072973 0.19270270\n",
      "6 image_Aging4       1559       504  2063 0.7556956 0.24430441\n",
      "7 image_Aging5       2751       291  3042 0.9043393 0.09566075\n"
     ]
    },
    {
     "data": {
      "image/png": "[encoded data removed]",
      "text/plain": [
       "plot without title"
      ]
     },
     "metadata": {
      "image/png": {
       "height": 420,
       "width": 420
      }
     },
     "output_type": "display_data"
    }
   ],
   "source": [
    "library(stringr)\n",
    "\n",
    "# Define the traits of interest\n",
    "traits_of_interest <- c(\"image_AD1\", \"image_AD2\", \"image_Aging1\", \"image_Aging2\", \n",
    "                       \"image_Aging3\", \"image_Aging4\", \"image_Aging5\")\n",
    "\n",
    "# Create the cos dataset (variants with \";\" in event_ID)\n",
    "image_cos <- image_cb[grepl(\";\", image_cb$event_ID), ]\n",
    "\n",
    "# Create ucos dataset (variants without \";\" in event_ID)\n",
    "image_ucos <- image_cb[!grepl(\";\", image_cb$event_ID), ]\n",
    "\n",
    "# Function to create trait-specific datasets\n",
    "create_trait_datasets <- function(traits_list) {\n",
    "  \n",
    "  # Initialize lists to store results\n",
    "  trait_counts <- data.frame()\n",
    "  \n",
    "  for (trait in traits_list) {\n",
    "    \n",
    "    # For UCOS: direct filtering by trait column\n",
    "    ucos_trait <- image_ucos[image_ucos$event_ID == trait, ]\n",
    "    ucos_count <- nrow(ucos_trait)\n",
    "    \n",
    "    # For COS: check if trait appears as a separate element (split by \"; \" - note the space!)\n",
    "    cos_trait <- image_cos[sapply(image_cos$event_ID, function(x) {\n",
    "      # Split by \"; \" (semicolon + space) and trim any extra whitespace\n",
    "      trait_list <- trimws(unlist(strsplit(x, \";\")))\n",
    "      trait %in% trait_list\n",
    "    }), ]\n",
    "    cos_count <- nrow(cos_trait)\n",
    "    \n",
    "    # Combine counts for this trait\n",
    "    trait_result <- data.frame(\n",
    "      trait = trait,\n",
    "      ucos_count = ucos_count,\n",
    "      cos_count = cos_count,\n",
    "      total = ucos_count + cos_count\n",
    "    )\n",
    "    \n",
    "    trait_counts <- rbind(trait_counts, trait_result)\n",
    "    \n",
    "    # Print summary for this trait\n",
    "    cat(\"Trait:\", trait, \"\\n\")\n",
    "    cat(\"  UCOS variants:\", ucos_count, \"\\n\")\n",
    "    cat(\"  COS variants:\", cos_count, \"\\n\")\n",
    "    cat(\"  Total variants:\", ucos_count + cos_count, \"\\n\\n\")\n",
    "  }\n",
    "  \n",
    "  return(trait_counts)\n",
    "}\n",
    "\n",
    "# Create the trait counts\n",
    "trait_counts <- create_trait_datasets(traits_of_interest)\n",
    "\n",
    "# Calculate proportions\n",
    "trait_counts$ucos_prop <- trait_counts$ucos_count / trait_counts$total\n",
    "trait_counts$cos_prop <- trait_counts$cos_count / trait_counts$total\n",
    "\n",
    "# Handle division by zero (when total = 0)\n",
    "trait_counts$ucos_prop[is.nan(trait_counts$ucos_prop)] <- 0\n",
    "trait_counts$cos_prop[is.nan(trait_counts$cos_prop)] <- 0\n",
    "\n",
    "# Reshape data for plotting\n",
    "plot_data <- trait_counts %>%\n",
    "  select(trait, ucos_prop, cos_prop) %>%\n",
    "  pivot_longer(cols = c(ucos_prop, cos_prop), \n",
    "               names_to = \"category\", \n",
    "               values_to = \"proportion\") %>%\n",
    "  mutate(category = gsub(\"_prop\", \"\", category))\n",
    "\n",
    "# Create count data for the second plot\n",
    "count_data <- trait_counts %>%\n",
    "  select(trait, ucos_count, cos_count) %>%\n",
    "  pivot_longer(cols = c(ucos_count, cos_count), \n",
    "               names_to = \"category\", \n",
    "               values_to = \"count\") %>%\n",
    "  mutate(category = gsub(\"_count\", \"\", category))\n",
    "\n",
    "# Create the stacked bar plot (counts) with y-axis limit set to 4000\n",
    "p_count <- ggplot(count_data, aes(x = trait, y = count, fill = category)) +\n",
    "  geom_bar(stat = \"identity\", position = \"stack\") +\n",
    "  scale_fill_manual(values = c(\"ucos\" = \"#2E86C1\", \"cos\" = \"#E74C3C\"),\n",
    "                  labels = c(\"ucos\" = \"UCOS\", \"cos\" = \"COS\")) +\n",
    "  labs(title = \"Count of UCOS and COS Variants by Trait\",\n",
    "       x = \"Trait\",\n",
    "       y = \"Count\",\n",
    "       fill = \"Category\") +\n",
    "  theme_minimal() +\n",
    "  theme(axis.text.x = element_text(angle = 45, hjust = 1, size = 9),\n",
    "        plot.title = element_text(hjust = 0.5, size = 14, face = \"bold\"),\n",
    "        legend.position = \"top\",\n",
    "        plot.margin = margin(10, 10, 10, 50)) +\n",
    "  coord_cartesian(ylim = c(0, 4000))\n",
    "\n",
    "# Display the plot\n",
    "print(p_count)\n",
    "\n",
    "# Optional: Save the plot\n",
    "ggsave(\"stacked_barplot_image_cb_variant_count.png\", plot = p_count, width = 10, height = 6, dpi = 300)\n",
    "\n",
    "# Print final summary table\n",
    "cat(\"=== FINAL SUMMARY TABLE ===\\n\")\n",
    "print(trait_counts)"
   ]
  },
  {
   "cell_type": "code",
   "execution_count": 16,
   "id": "3a10f302-d696-4a9e-a227-0fae9e688b1f",
   "metadata": {},
   "outputs": [
    {
     "data": {
      "text/html": [
       "12966"
      ],
      "text/latex": [
       "12966"
      ],
      "text/markdown": [
       "12966"
      ],
      "text/plain": [
       "[1] 12966"
      ]
     },
     "metadata": {},
     "output_type": "display_data"
    },
    {
     "data": {
      "text/html": [
       "3835"
      ],
      "text/latex": [
       "3835"
      ],
      "text/markdown": [
       "3835"
      ],
      "text/plain": [
       "[1] 3835"
      ]
     },
     "metadata": {},
     "output_type": "display_data"
    }
   ],
   "source": [
    "ucos_count = sum(trait_counts$ucos_count)\n",
    "cos_count = sum(trait_counts$cos_count)\n",
    "ucos_count\n",
    "cos_count"
   ]
  },
  {
   "cell_type": "markdown",
   "id": "ba79b8f9-dfe3-4b73-a173-ea3db52c1f39",
   "metadata": {},
   "source": [
    "### Finemapping"
   ]
  },
  {
   "cell_type": "code",
   "execution_count": 17,
   "id": "f15f5154-e56d-4816-8cd0-4a1b4f5ce504",
   "metadata": {
    "vscode": {
     "languageId": "r"
    }
   },
   "outputs": [
    {
     "data": {
      "text/html": [
       "<table class=\"dataframe\">\n",
       "<caption>A data.table: 6 × 16</caption>\n",
       "<thead>\n",
       "\t<tr><th scope=col>chr</th><th scope=col>pos</th><th scope=col>a1</th><th scope=col>a2</th><th scope=col>variant_ID</th><th scope=col>gene_ID</th><th scope=col>event_ID</th><th scope=col>cs_coverage_0.95</th><th scope=col>cs_coverage_0.7</th><th scope=col>cs_coverage_0.5</th><th scope=col>cs_coverage_0.95_purity0.5</th><th scope=col>cs_coverage_0.7_purity0.5</th><th scope=col>cs_coverage_0.5_purity0.5</th><th scope=col>PIP</th><th scope=col>region_id</th><th scope=col>finemap_model</th></tr>\n",
       "\t<tr><th scope=col>&lt;int&gt;</th><th scope=col>&lt;int&gt;</th><th scope=col>&lt;chr&gt;</th><th scope=col>&lt;chr&gt;</th><th scope=col>&lt;chr&gt;</th><th scope=col>&lt;chr&gt;</th><th scope=col>&lt;chr&gt;</th><th scope=col>&lt;int&gt;</th><th scope=col>&lt;int&gt;</th><th scope=col>&lt;int&gt;</th><th scope=col>&lt;lgl&gt;</th><th scope=col>&lt;lgl&gt;</th><th scope=col>&lt;lgl&gt;</th><th scope=col>&lt;dbl&gt;</th><th scope=col>&lt;chr&gt;</th><th scope=col>&lt;chr&gt;</th></tr>\n",
       "</thead>\n",
       "<tbody>\n",
       "\t<tr><td>10</td><td>100564926</td><td>A</td><td>G</td><td>10:100564926:G:A</td><td>chr10_100331627_104378781</td><td>image_Aging4</td><td>0</td><td>0</td><td>0</td><td>NA</td><td>NA</td><td>NA</td><td>0.36683806</td><td>chr10_100331627_104378781</td><td>single_effect_NO_QC</td></tr>\n",
       "\t<tr><td>10</td><td>100575906</td><td>A</td><td>G</td><td>10:100575906:G:A</td><td>chr10_100331627_104378781</td><td>image_Aging4</td><td>0</td><td>0</td><td>0</td><td>NA</td><td>NA</td><td>NA</td><td>0.04330213</td><td>chr10_100331627_104378781</td><td>single_effect_NO_QC</td></tr>\n",
       "\t<tr><td>10</td><td>101347968</td><td>T</td><td>G</td><td>10:101347968:G:T</td><td>chr10_100331627_104378781</td><td>image_AD2   </td><td>0</td><td>0</td><td>0</td><td>NA</td><td>NA</td><td>NA</td><td>0.03783572</td><td>chr10_100331627_104378781</td><td>single_effect_NO_QC</td></tr>\n",
       "\t<tr><td>10</td><td>101362465</td><td>A</td><td>G</td><td>10:101362465:G:A</td><td>chr10_100331627_104378781</td><td>image_AD2   </td><td>0</td><td>0</td><td>1</td><td>NA</td><td>NA</td><td>NA</td><td>0.04602247</td><td>chr10_100331627_104378781</td><td>single_effect_NO_QC</td></tr>\n",
       "\t<tr><td>10</td><td>101392658</td><td>A</td><td>C</td><td>10:101392658:C:A</td><td>chr10_100331627_104378781</td><td>image_AD2   </td><td>0</td><td>0</td><td>1</td><td>NA</td><td>NA</td><td>NA</td><td>0.05232448</td><td>chr10_100331627_104378781</td><td>single_effect_NO_QC</td></tr>\n",
       "\t<tr><td>10</td><td>101394564</td><td>G</td><td>A</td><td>10:101394564:A:G</td><td>chr10_100331627_104378781</td><td>image_AD2   </td><td>0</td><td>0</td><td>1</td><td>NA</td><td>NA</td><td>NA</td><td>0.05709616</td><td>chr10_100331627_104378781</td><td>single_effect_NO_QC</td></tr>\n",
       "</tbody>\n",
       "</table>\n"
      ],
      "text/latex": [
       "A data.table: 6 × 16\n",
       "\\begin{tabular}{llllllllllllllll}\n",
       " chr & pos & a1 & a2 & variant\\_ID & gene\\_ID & event\\_ID & cs\\_coverage\\_0.95 & cs\\_coverage\\_0.7 & cs\\_coverage\\_0.5 & cs\\_coverage\\_0.95\\_purity0.5 & cs\\_coverage\\_0.7\\_purity0.5 & cs\\_coverage\\_0.5\\_purity0.5 & PIP & region\\_id & finemap\\_model\\\\\n",
       " <int> & <int> & <chr> & <chr> & <chr> & <chr> & <chr> & <int> & <int> & <int> & <lgl> & <lgl> & <lgl> & <dbl> & <chr> & <chr>\\\\\n",
       "\\hline\n",
       "\t 10 & 100564926 & A & G & 10:100564926:G:A & chr10\\_100331627\\_104378781 & image\\_Aging4 & 0 & 0 & 0 & NA & NA & NA & 0.36683806 & chr10\\_100331627\\_104378781 & single\\_effect\\_NO\\_QC\\\\\n",
       "\t 10 & 100575906 & A & G & 10:100575906:G:A & chr10\\_100331627\\_104378781 & image\\_Aging4 & 0 & 0 & 0 & NA & NA & NA & 0.04330213 & chr10\\_100331627\\_104378781 & single\\_effect\\_NO\\_QC\\\\\n",
       "\t 10 & 101347968 & T & G & 10:101347968:G:T & chr10\\_100331627\\_104378781 & image\\_AD2    & 0 & 0 & 0 & NA & NA & NA & 0.03783572 & chr10\\_100331627\\_104378781 & single\\_effect\\_NO\\_QC\\\\\n",
       "\t 10 & 101362465 & A & G & 10:101362465:G:A & chr10\\_100331627\\_104378781 & image\\_AD2    & 0 & 0 & 1 & NA & NA & NA & 0.04602247 & chr10\\_100331627\\_104378781 & single\\_effect\\_NO\\_QC\\\\\n",
       "\t 10 & 101392658 & A & C & 10:101392658:C:A & chr10\\_100331627\\_104378781 & image\\_AD2    & 0 & 0 & 1 & NA & NA & NA & 0.05232448 & chr10\\_100331627\\_104378781 & single\\_effect\\_NO\\_QC\\\\\n",
       "\t 10 & 101394564 & G & A & 10:101394564:A:G & chr10\\_100331627\\_104378781 & image\\_AD2    & 0 & 0 & 1 & NA & NA & NA & 0.05709616 & chr10\\_100331627\\_104378781 & single\\_effect\\_NO\\_QC\\\\\n",
       "\\end{tabular}\n"
      ],
      "text/markdown": [
       "\n",
       "A data.table: 6 × 16\n",
       "\n",
       "| chr &lt;int&gt; | pos &lt;int&gt; | a1 &lt;chr&gt; | a2 &lt;chr&gt; | variant_ID &lt;chr&gt; | gene_ID &lt;chr&gt; | event_ID &lt;chr&gt; | cs_coverage_0.95 &lt;int&gt; | cs_coverage_0.7 &lt;int&gt; | cs_coverage_0.5 &lt;int&gt; | cs_coverage_0.95_purity0.5 &lt;lgl&gt; | cs_coverage_0.7_purity0.5 &lt;lgl&gt; | cs_coverage_0.5_purity0.5 &lt;lgl&gt; | PIP &lt;dbl&gt; | region_id &lt;chr&gt; | finemap_model &lt;chr&gt; |\n",
       "|---|---|---|---|---|---|---|---|---|---|---|---|---|---|---|---|\n",
       "| 10 | 100564926 | A | G | 10:100564926:G:A | chr10_100331627_104378781 | image_Aging4 | 0 | 0 | 0 | NA | NA | NA | 0.36683806 | chr10_100331627_104378781 | single_effect_NO_QC |\n",
       "| 10 | 100575906 | A | G | 10:100575906:G:A | chr10_100331627_104378781 | image_Aging4 | 0 | 0 | 0 | NA | NA | NA | 0.04330213 | chr10_100331627_104378781 | single_effect_NO_QC |\n",
       "| 10 | 101347968 | T | G | 10:101347968:G:T | chr10_100331627_104378781 | image_AD2    | 0 | 0 | 0 | NA | NA | NA | 0.03783572 | chr10_100331627_104378781 | single_effect_NO_QC |\n",
       "| 10 | 101362465 | A | G | 10:101362465:G:A | chr10_100331627_104378781 | image_AD2    | 0 | 0 | 1 | NA | NA | NA | 0.04602247 | chr10_100331627_104378781 | single_effect_NO_QC |\n",
       "| 10 | 101392658 | A | C | 10:101392658:C:A | chr10_100331627_104378781 | image_AD2    | 0 | 0 | 1 | NA | NA | NA | 0.05232448 | chr10_100331627_104378781 | single_effect_NO_QC |\n",
       "| 10 | 101394564 | G | A | 10:101394564:A:G | chr10_100331627_104378781 | image_AD2    | 0 | 0 | 1 | NA | NA | NA | 0.05709616 | chr10_100331627_104378781 | single_effect_NO_QC |\n",
       "\n"
      ],
      "text/plain": [
       "  chr pos       a1 a2 variant_ID       gene_ID                   event_ID    \n",
       "1 10  100564926 A  G  10:100564926:G:A chr10_100331627_104378781 image_Aging4\n",
       "2 10  100575906 A  G  10:100575906:G:A chr10_100331627_104378781 image_Aging4\n",
       "3 10  101347968 T  G  10:101347968:G:T chr10_100331627_104378781 image_AD2   \n",
       "4 10  101362465 A  G  10:101362465:G:A chr10_100331627_104378781 image_AD2   \n",
       "5 10  101392658 A  C  10:101392658:C:A chr10_100331627_104378781 image_AD2   \n",
       "6 10  101394564 G  A  10:101394564:A:G chr10_100331627_104378781 image_AD2   \n",
       "  cs_coverage_0.95 cs_coverage_0.7 cs_coverage_0.5 cs_coverage_0.95_purity0.5\n",
       "1 0                0               0               NA                        \n",
       "2 0                0               0               NA                        \n",
       "3 0                0               0               NA                        \n",
       "4 0                0               1               NA                        \n",
       "5 0                0               1               NA                        \n",
       "6 0                0               1               NA                        \n",
       "  cs_coverage_0.7_purity0.5 cs_coverage_0.5_purity0.5 PIP       \n",
       "1 NA                        NA                        0.36683806\n",
       "2 NA                        NA                        0.04330213\n",
       "3 NA                        NA                        0.03783572\n",
       "4 NA                        NA                        0.04602247\n",
       "5 NA                        NA                        0.05232448\n",
       "6 NA                        NA                        0.05709616\n",
       "  region_id                 finemap_model      \n",
       "1 chr10_100331627_104378781 single_effect_NO_QC\n",
       "2 chr10_100331627_104378781 single_effect_NO_QC\n",
       "3 chr10_100331627_104378781 single_effect_NO_QC\n",
       "4 chr10_100331627_104378781 single_effect_NO_QC\n",
       "5 chr10_100331627_104378781 single_effect_NO_QC\n",
       "6 chr10_100331627_104378781 single_effect_NO_QC"
      ]
     },
     "metadata": {},
     "output_type": "display_data"
    }
   ],
   "source": [
    "image_finemap <- fread(\"~/project/image_QTL/DNE_cb_explained_by_xQTL/AI_IMAGE.hg38_all_blocks_with_MS.toploci.bed.gz\") |> filter(str_detect(event_ID, \"image_\"))\n",
    "head(image_finemap)"
   ]
  },
  {
   "cell_type": "code",
   "execution_count": 18,
   "id": "ba5181a3-5a43-4dba-ab91-adcabdd80bd2",
   "metadata": {},
   "outputs": [],
   "source": [
    "image_finemap_95 = image_finemap |> filter(cs_coverage_0.95 > 0)"
   ]
  },
  {
   "cell_type": "code",
   "execution_count": 19,
   "id": "607d720d-7298-4f1e-82f2-7729e23df793",
   "metadata": {},
   "outputs": [
    {
     "data": {
      "text/html": [
       "<style>\n",
       ".list-inline {list-style: none; margin:0; padding: 0}\n",
       ".list-inline>li {display: inline-block}\n",
       ".list-inline>li:not(:last-child)::after {content: \"\\00b7\"; padding: 0 .5ex}\n",
       "</style>\n",
       "<ol class=list-inline><li>17609</li><li>16</li></ol>\n"
      ],
      "text/latex": [
       "\\begin{enumerate*}\n",
       "\\item 17609\n",
       "\\item 16\n",
       "\\end{enumerate*}\n"
      ],
      "text/markdown": [
       "1. 17609\n",
       "2. 16\n",
       "\n",
       "\n"
      ],
      "text/plain": [
       "[1] 17609    16"
      ]
     },
     "metadata": {},
     "output_type": "display_data"
    },
    {
     "data": {
      "text/html": [
       "<style>\n",
       ".list-inline {list-style: none; margin:0; padding: 0}\n",
       ".list-inline>li {display: inline-block}\n",
       ".list-inline>li:not(:last-child)::after {content: \"\\00b7\"; padding: 0 .5ex}\n",
       "</style>\n",
       "<ol class=list-inline><li>2131</li><li>16</li></ol>\n"
      ],
      "text/latex": [
       "\\begin{enumerate*}\n",
       "\\item 2131\n",
       "\\item 16\n",
       "\\end{enumerate*}\n"
      ],
      "text/markdown": [
       "1. 2131\n",
       "2. 16\n",
       "\n",
       "\n"
      ],
      "text/plain": [
       "[1] 2131   16"
      ]
     },
     "metadata": {},
     "output_type": "display_data"
    }
   ],
   "source": [
    "dim(image_finemap)\n",
    "dim(image_finemap_95)"
   ]
  },
  {
   "cell_type": "code",
   "execution_count": 23,
   "id": "5c8c5655-d79b-46b2-bca5-53d916f934ac",
   "metadata": {},
   "outputs": [
    {
     "data": {
      "text/html": [
       "<table class=\"dataframe\">\n",
       "<caption>A data.table: 15 × 3</caption>\n",
       "<thead>\n",
       "\t<tr><th scope=col>event_ID</th><th scope=col>cs_coverage_0.7</th><th scope=col>n</th></tr>\n",
       "\t<tr><th scope=col>&lt;chr&gt;</th><th scope=col>&lt;int&gt;</th><th scope=col>&lt;int&gt;</th></tr>\n",
       "</thead>\n",
       "<tbody>\n",
       "\t<tr><td>image_AD1   </td><td>1</td><td>2813</td></tr>\n",
       "\t<tr><td>image_Aging5</td><td>0</td><td>1962</td></tr>\n",
       "\t<tr><td>image_Aging1</td><td>0</td><td>1540</td></tr>\n",
       "\t<tr><td>image_Aging4</td><td>0</td><td>1399</td></tr>\n",
       "\t<tr><td>image_Aging3</td><td>0</td><td>1395</td></tr>\n",
       "\t<tr><td>image_Aging2</td><td>0</td><td>1222</td></tr>\n",
       "\t<tr><td>image_AD1   </td><td>0</td><td>1219</td></tr>\n",
       "\t<tr><td>image_Aging5</td><td>1</td><td>1166</td></tr>\n",
       "\t<tr><td>image_AD2   </td><td>0</td><td>1134</td></tr>\n",
       "\t<tr><td>image_Aging2</td><td>1</td><td> 915</td></tr>\n",
       "\t<tr><td>image_Aging4</td><td>1</td><td> 848</td></tr>\n",
       "\t<tr><td>image_Aging1</td><td>1</td><td> 838</td></tr>\n",
       "\t<tr><td>image_AD2   </td><td>1</td><td> 657</td></tr>\n",
       "\t<tr><td>image_Aging3</td><td>1</td><td> 500</td></tr>\n",
       "\t<tr><td>image_Aging1</td><td>2</td><td>   1</td></tr>\n",
       "</tbody>\n",
       "</table>\n"
      ],
      "text/latex": [
       "A data.table: 15 × 3\n",
       "\\begin{tabular}{lll}\n",
       " event\\_ID & cs\\_coverage\\_0.7 & n\\\\\n",
       " <chr> & <int> & <int>\\\\\n",
       "\\hline\n",
       "\t image\\_AD1    & 1 & 2813\\\\\n",
       "\t image\\_Aging5 & 0 & 1962\\\\\n",
       "\t image\\_Aging1 & 0 & 1540\\\\\n",
       "\t image\\_Aging4 & 0 & 1399\\\\\n",
       "\t image\\_Aging3 & 0 & 1395\\\\\n",
       "\t image\\_Aging2 & 0 & 1222\\\\\n",
       "\t image\\_AD1    & 0 & 1219\\\\\n",
       "\t image\\_Aging5 & 1 & 1166\\\\\n",
       "\t image\\_AD2    & 0 & 1134\\\\\n",
       "\t image\\_Aging2 & 1 &  915\\\\\n",
       "\t image\\_Aging4 & 1 &  848\\\\\n",
       "\t image\\_Aging1 & 1 &  838\\\\\n",
       "\t image\\_AD2    & 1 &  657\\\\\n",
       "\t image\\_Aging3 & 1 &  500\\\\\n",
       "\t image\\_Aging1 & 2 &    1\\\\\n",
       "\\end{tabular}\n"
      ],
      "text/markdown": [
       "\n",
       "A data.table: 15 × 3\n",
       "\n",
       "| event_ID &lt;chr&gt; | cs_coverage_0.7 &lt;int&gt; | n &lt;int&gt; |\n",
       "|---|---|---|\n",
       "| image_AD1    | 1 | 2813 |\n",
       "| image_Aging5 | 0 | 1962 |\n",
       "| image_Aging1 | 0 | 1540 |\n",
       "| image_Aging4 | 0 | 1399 |\n",
       "| image_Aging3 | 0 | 1395 |\n",
       "| image_Aging2 | 0 | 1222 |\n",
       "| image_AD1    | 0 | 1219 |\n",
       "| image_Aging5 | 1 | 1166 |\n",
       "| image_AD2    | 0 | 1134 |\n",
       "| image_Aging2 | 1 |  915 |\n",
       "| image_Aging4 | 1 |  848 |\n",
       "| image_Aging1 | 1 |  838 |\n",
       "| image_AD2    | 1 |  657 |\n",
       "| image_Aging3 | 1 |  500 |\n",
       "| image_Aging1 | 2 |    1 |\n",
       "\n"
      ],
      "text/plain": [
       "   event_ID     cs_coverage_0.7 n   \n",
       "1  image_AD1    1               2813\n",
       "2  image_Aging5 0               1962\n",
       "3  image_Aging1 0               1540\n",
       "4  image_Aging4 0               1399\n",
       "5  image_Aging3 0               1395\n",
       "6  image_Aging2 0               1222\n",
       "7  image_AD1    0               1219\n",
       "8  image_Aging5 1               1166\n",
       "9  image_AD2    0               1134\n",
       "10 image_Aging2 1                915\n",
       "11 image_Aging4 1                848\n",
       "12 image_Aging1 1                838\n",
       "13 image_AD2    1                657\n",
       "14 image_Aging3 1                500\n",
       "15 image_Aging1 2                  1"
      ]
     },
     "metadata": {},
     "output_type": "display_data"
    }
   ],
   "source": [
    "image_finemap |> count(event_ID,cs_coverage_0.7) |> arrange(desc(n))"
   ]
  },
  {
   "cell_type": "code",
   "execution_count": 22,
   "id": "4c052929-2751-4725-960e-cae272bb265a",
   "metadata": {},
   "outputs": [
    {
     "data": {
      "text/html": [
       "<table class=\"dataframe\">\n",
       "<caption>A tibble: 7 × 2</caption>\n",
       "<thead>\n",
       "\t<tr><th scope=col>event_ID</th><th scope=col>count</th></tr>\n",
       "\t<tr><th scope=col>&lt;chr&gt;</th><th scope=col>&lt;int&gt;</th></tr>\n",
       "</thead>\n",
       "<tbody>\n",
       "\t<tr><td>image_AD1   </td><td>4032</td></tr>\n",
       "\t<tr><td>image_AD2   </td><td>1791</td></tr>\n",
       "\t<tr><td>image_Aging1</td><td>2379</td></tr>\n",
       "\t<tr><td>image_Aging2</td><td>2137</td></tr>\n",
       "\t<tr><td>image_Aging3</td><td>1895</td></tr>\n",
       "\t<tr><td>image_Aging4</td><td>2247</td></tr>\n",
       "\t<tr><td>image_Aging5</td><td>3128</td></tr>\n",
       "</tbody>\n",
       "</table>\n"
      ],
      "text/latex": [
       "A tibble: 7 × 2\n",
       "\\begin{tabular}{ll}\n",
       " event\\_ID & count\\\\\n",
       " <chr> & <int>\\\\\n",
       "\\hline\n",
       "\t image\\_AD1    & 4032\\\\\n",
       "\t image\\_AD2    & 1791\\\\\n",
       "\t image\\_Aging1 & 2379\\\\\n",
       "\t image\\_Aging2 & 2137\\\\\n",
       "\t image\\_Aging3 & 1895\\\\\n",
       "\t image\\_Aging4 & 2247\\\\\n",
       "\t image\\_Aging5 & 3128\\\\\n",
       "\\end{tabular}\n"
      ],
      "text/markdown": [
       "\n",
       "A tibble: 7 × 2\n",
       "\n",
       "| event_ID &lt;chr&gt; | count &lt;int&gt; |\n",
       "|---|---|\n",
       "| image_AD1    | 4032 |\n",
       "| image_AD2    | 1791 |\n",
       "| image_Aging1 | 2379 |\n",
       "| image_Aging2 | 2137 |\n",
       "| image_Aging3 | 1895 |\n",
       "| image_Aging4 | 2247 |\n",
       "| image_Aging5 | 3128 |\n",
       "\n"
      ],
      "text/plain": [
       "  event_ID     count\n",
       "1 image_AD1    4032 \n",
       "2 image_AD2    1791 \n",
       "3 image_Aging1 2379 \n",
       "4 image_Aging2 2137 \n",
       "5 image_Aging3 1895 \n",
       "6 image_Aging4 2247 \n",
       "7 image_Aging5 3128 "
      ]
     },
     "metadata": {},
     "output_type": "display_data"
    },
    {
     "data": {
      "text/html": [
       "<table class=\"dataframe\">\n",
       "<caption>A tibble: 7 × 2</caption>\n",
       "<thead>\n",
       "\t<tr><th scope=col>event_ID</th><th scope=col>count</th></tr>\n",
       "\t<tr><th scope=col>&lt;chr&gt;</th><th scope=col>&lt;int&gt;</th></tr>\n",
       "</thead>\n",
       "<tbody>\n",
       "\t<tr><td>image_AD1   </td><td>183</td></tr>\n",
       "\t<tr><td>image_AD2   </td><td>190</td></tr>\n",
       "\t<tr><td>image_Aging1</td><td>303</td></tr>\n",
       "\t<tr><td>image_Aging2</td><td>137</td></tr>\n",
       "\t<tr><td>image_Aging3</td><td>221</td></tr>\n",
       "\t<tr><td>image_Aging4</td><td>255</td></tr>\n",
       "\t<tr><td>image_Aging5</td><td>842</td></tr>\n",
       "</tbody>\n",
       "</table>\n"
      ],
      "text/latex": [
       "A tibble: 7 × 2\n",
       "\\begin{tabular}{ll}\n",
       " event\\_ID & count\\\\\n",
       " <chr> & <int>\\\\\n",
       "\\hline\n",
       "\t image\\_AD1    & 183\\\\\n",
       "\t image\\_AD2    & 190\\\\\n",
       "\t image\\_Aging1 & 303\\\\\n",
       "\t image\\_Aging2 & 137\\\\\n",
       "\t image\\_Aging3 & 221\\\\\n",
       "\t image\\_Aging4 & 255\\\\\n",
       "\t image\\_Aging5 & 842\\\\\n",
       "\\end{tabular}\n"
      ],
      "text/markdown": [
       "\n",
       "A tibble: 7 × 2\n",
       "\n",
       "| event_ID &lt;chr&gt; | count &lt;int&gt; |\n",
       "|---|---|\n",
       "| image_AD1    | 183 |\n",
       "| image_AD2    | 190 |\n",
       "| image_Aging1 | 303 |\n",
       "| image_Aging2 | 137 |\n",
       "| image_Aging3 | 221 |\n",
       "| image_Aging4 | 255 |\n",
       "| image_Aging5 | 842 |\n",
       "\n"
      ],
      "text/plain": [
       "  event_ID     count\n",
       "1 image_AD1    183  \n",
       "2 image_AD2    190  \n",
       "3 image_Aging1 303  \n",
       "4 image_Aging2 137  \n",
       "5 image_Aging3 221  \n",
       "6 image_Aging4 255  \n",
       "7 image_Aging5 842  "
      ]
     },
     "metadata": {},
     "output_type": "display_data"
    }
   ],
   "source": [
    "plot_data  = image_finemap |> group_by(event_ID) |> summarize(count = n())\n",
    "plot_data_95  = image_finemap_95 |> group_by(event_ID) |> summarize(count = n())\n",
    "plot_data\n",
    "plot_data_95\n",
    "\n",
    "pcount_finemap = plot_data |>\n",
    "  ggplot(aes(x = event_ID, y = count)) +\n",
    "  geom_col(fill = \"#2E86C1\") +\n",
    "  labs(\n",
    "    title = \"Variant Counts from Finemapping by Trait\",\n",
    "    x = \"Trait\",\n",
    "    y = \"Counts\"\n",
    "  ) +\n",
    "  theme_minimal() +\n",
    "  theme(\n",
    "    axis.text.x = element_text(angle = 45, hjust = 1, size = 9),\n",
    "    plot.title = element_text(hjust = 0.5, size = 14, face = \"bold\"),\n",
    "    legend.position = \"top\",\n",
    "    plot.margin = margin(10, 10, 10, 50)\n",
    "  ) +\n",
    "  coord_cartesian(ylim = c(0, 4000))\n",
    "\n",
    "pcount_finemap_95 = plot_data_95 |>\n",
    "  ggplot(aes(x = event_ID, y = count)) +\n",
    "  geom_col(fill = \"#2E86C1\") +\n",
    "  labs(\n",
    "    title = \"Variant Counts from Finemapping by Trait\",\n",
    "    x = \"Trait\",\n",
    "    y = \"Counts\"\n",
    "  ) +\n",
    "  theme_minimal() +\n",
    "  theme(\n",
    "    axis.text.x = element_text(angle = 45, hjust = 1, size = 9),\n",
    "    plot.title = element_text(hjust = 0.5, size = 14, face = \"bold\"),\n",
    "    legend.position = \"top\",\n",
    "    plot.margin = margin(10, 10, 10, 50)\n",
    "  ) +\n",
    "  coord_cartesian(ylim = c(0, 4000))\n",
    "\n",
    "# Optional: Save the plots\n",
    "ggsave(\"Histogram_finemap_variant_count.png\", plot = pcount_finemap, width = 10, height = 6, dpi = 300)\n",
    "ggsave(\"Histogram_finemap_variant_count_0.95.png\", plot = pcount_finemap_95, width = 10, height = 6, dpi = 300)"
   ]
  },
  {
   "cell_type": "code",
   "execution_count": 8,
   "id": "0fa6502a-3b4b-426a-80a8-24042876b249",
   "metadata": {},
   "outputs": [
    {
     "data": {
      "image/png": "[encoded data removed]",
      "text/plain": [
       "plot without title"
      ]
     },
     "metadata": {
      "image/png": {
       "height": 420,
       "width": 420
      }
     },
     "output_type": "display_data"
    },
    {
     "data": {
      "image/png": "[encoded data removed]",
      "text/plain": [
       "plot without title"
      ]
     },
     "metadata": {
      "image/png": {
       "height": 420,
       "width": 420
      }
     },
     "output_type": "display_data"
    }
   ],
   "source": [
    "pcount_finemap\n",
    "pcount_finemap_95"
   ]
  },
  {
   "cell_type": "code",
   "execution_count": 29,
   "id": "2d2ea26f-7f80-46f8-8de5-37f7a0de846d",
   "metadata": {},
   "outputs": [
    {
     "name": "stdout",
     "output_type": "stream",
     "text": [
      "[1] \"Summary table:\"\n",
      "\u001b[90m# A tibble: 7 × 5\u001b[39m\n",
      "  event_ID     `no CS, PIP > 0.025` `50% CS` `70% CS` `95% CS`\n",
      "  \u001b[3m\u001b[90m<chr>\u001b[39m\u001b[23m                       \u001b[3m\u001b[90m<int>\u001b[39m\u001b[23m    \u001b[3m\u001b[90m<int>\u001b[39m\u001b[23m    \u001b[3m\u001b[90m<int>\u001b[39m\u001b[23m    \u001b[3m\u001b[90m<int>\u001b[39m\u001b[23m\n",
      "\u001b[90m1\u001b[39m image_AD1                     743      368     \u001b[4m2\u001b[24m738      183\n",
      "\u001b[90m2\u001b[39m image_AD2                     690      365      546      190\n",
      "\u001b[90m3\u001b[39m image_Aging1                  894      506      676      303\n",
      "\u001b[90m4\u001b[39m image_Aging2                  827      325      848      137\n",
      "\u001b[90m5\u001b[39m image_Aging3                  675      632      367      221\n",
      "\u001b[90m6\u001b[39m image_Aging4                  772      521      699      255\n",
      "\u001b[90m7\u001b[39m image_Aging5                  772      779      735      842\n",
      "[1] \"Overall variant type distribution:\"\n",
      "         variant_type     n percentage\n",
      "               <fctr> <int>      <num>\n",
      "1: no CS, PIP > 0.025  5373      30.51\n",
      "2:             50% CS  3496      19.85\n",
      "3:             70% CS  6609      37.53\n",
      "4:             95% CS  2131      12.10\n"
     ]
    },
    {
     "data": {
      "image/png": "[encoded data removed]",
      "text/plain": [
       "plot without title"
      ]
     },
     "metadata": {
      "image/png": {
       "height": 420,
       "width": 420
      }
     },
     "output_type": "display_data"
    }
   ],
   "source": [
    "# Load required libraries\n",
    "library(dplyr)\n",
    "library(ggplot2)\n",
    "library(readr)\n",
    "\n",
    "# Assuming your data is in a dataframe called 'image_finemap'\n",
    "# If reading from file, uncomment the line below:\n",
    "# image_finemap <- read_csv(\"your_file.csv\")\n",
    "\n",
    "# Create variant type classification\n",
    "image_finemap_classified <- image_finemap %>%\n",
    "  mutate(\n",
    "    variant_type = case_when(\n",
    "      cs_coverage_0.95 > 0 ~ \"95% CS\",\n",
    "      cs_coverage_0.95 == 0 & cs_coverage_0.7 > 0 ~ \"70% CS\",\n",
    "      cs_coverage_0.95 == 0 & cs_coverage_0.7 == 0 & cs_coverage_0.5 > 0 ~ \"50% CS\",\n",
    "      cs_coverage_0.95 == 0 & cs_coverage_0.7 == 0 & cs_coverage_0.5 == 0 ~ \"no CS, PIP > 0.025\",\n",
    "      TRUE ~ \"Other\"  # fallback category\n",
    "    )\n",
    "  ) |>\n",
    "    mutate(\n",
    "        variant_type = factor(variant_type, \n",
    "                     levels = c(\"no CS, PIP > 0.025\",\n",
    "                                \"50% CS\",\n",
    "                                \"70% CS\", \n",
    "                                \"95% CS\",\n",
    "                                \"Other\"))\n",
    "        )\n",
    "    \n",
    "\n",
    "# Count variants by trait and type\n",
    "variant_counts <- image_finemap_classified %>%\n",
    "  group_by(event_ID, variant_type) %>%\n",
    "  summarise(count = n(), .groups = 'drop')\n",
    "\n",
    "# Create the stacked bar plot\n",
    "p <- ggplot(variant_counts, aes(x = event_ID, y = count, fill = variant_type)) +\n",
    "  geom_bar(stat = \"identity\", position = \"stack\") +\n",
    "  labs(\n",
    "    title = \"Distribution of Variant Types by Trait\",\n",
    "    x = \"Trait (event_ID)\",\n",
    "    y = \"Number of Variants\",\n",
    "    fill = \"Variant Type\"\n",
    "  ) +\n",
    "  theme_minimal() +\n",
    "  theme(\n",
    "    axis.text.x = element_text(angle = 45, hjust = 1),\n",
    "    legend.position = \"bottom\",\n",
    "    legend.title = element_text(size = 10),\n",
    "    legend.text = element_text(size = 8)\n",
    "  ) +\n",
    "  scale_fill_brewer(type = \"qual\", palette = \"Set3\")\n",
    "\n",
    "# Display the plot\n",
    "print(p)\n",
    "\n",
    "# Optional: Save the plot\n",
    "ggsave(\"finemap_variant_types_by_trait.png\", plot = p, width = 12, height = 8, dpi = 300)\n",
    "\n",
    "# Summary table showing counts by trait and type\n",
    "summary_table <- variant_counts %>%\n",
    "  tidyr::pivot_wider(names_from = variant_type, values_from = count, values_fill = 0)\n",
    "\n",
    "print(\"Summary table:\")\n",
    "print(summary_table)\n",
    "\n",
    "# Overall distribution across all traits\n",
    "overall_distribution <- image_finemap_classified %>%\n",
    "  count(variant_type) %>%\n",
    "  mutate(percentage = round(n/sum(n)*100, 2))\n",
    "\n",
    "print(\"Overall variant type distribution:\")\n",
    "print(overall_distribution)"
   ]
  },
  {
   "cell_type": "markdown",
   "id": "6e847040-bcb0-4852-a16b-61ac6ef838dd",
   "metadata": {},
   "source": [
    "### TWAS"
   ]
  },
  {
   "cell_type": "code",
   "execution_count": 15,
   "id": "5d5382cb-fcb6-4e02-ba4e-a465b06e134e",
   "metadata": {},
   "outputs": [],
   "source": [
    "AD1_gene = fread(\"~/xqtl-analysis/production/image_QTL/interested_genes/TWAS_QTL/manual_cTWAS_QTL_gene/image_AD1_gene_list.tsv\") |> pull(gene_id)\n",
    "AD2_gene = fread(\"~/xqtl-analysis/production/image_QTL/interested_genes/TWAS_QTL/manual_cTWAS_QTL_gene/image_AD2_gene_list.tsv\") |> pull(gene_id)\n",
    "Aging1_gene = fread(\"~/xqtl-analysis/production/image_QTL/interested_genes/TWAS_QTL/manual_cTWAS_QTL_gene/image_Aging1_gene_list.tsv\") |> pull(gene_id)\n",
    "Aging2_gene = fread(\"~/xqtl-analysis/production/image_QTL/interested_genes/TWAS_QTL/manual_cTWAS_QTL_gene/image_Aging2_gene_list.tsv\") |> pull(gene_id)\n",
    "Aging3_gene = fread(\"~/xqtl-analysis/production/image_QTL/interested_genes/TWAS_QTL/manual_cTWAS_QTL_gene/image_Aging3_gene_list.tsv\") |> pull(gene_id)\n",
    "Aging4_gene = fread(\"~/xqtl-analysis/production/image_QTL/interested_genes/TWAS_QTL/manual_cTWAS_QTL_gene/image_Aging4_gene_list.tsv\") |> pull(gene_id)\n",
    "Aging5_gene = fread(\"~/xqtl-analysis/production/image_QTL/interested_genes/TWAS_QTL/manual_cTWAS_QTL_gene/image_Aging5_gene_list.tsv\") |> pull(gene_id)"
   ]
  },
  {
   "cell_type": "code",
   "execution_count": 16,
   "id": "b1f3814f-0777-40cd-8aae-6d98b0bf4026",
   "metadata": {},
   "outputs": [
    {
     "name": "stdout",
     "output_type": "stream",
     "text": [
      "List of 7\n",
      " $ AD1   : chr [1:104] \"ENSG00000107882\" \"ENSG00000107960\" \"ENSG00000138107\" \"ENSG00000138111\" ...\n",
      " $ AD2   : chr [1:134] \"ENSG00000110492\" \"ENSG00000149179\" \"ENSG00000165912\" \"ENSG00000110108\" ...\n",
      " $ Aging1: chr [1:162] \"ENSG00000152270\" \"ENSG00000075188\" \"ENSG00000111666\" \"ENSG00000126777\" ...\n",
      " $ Aging2: chr [1:124] \"ENSG00000019995\" \"ENSG00000107902\" \"ENSG00000203791\" \"ENSG00000095787\" ...\n",
      " $ Aging3: chr [1:90] \"ENSG00000187164\" \"ENSG00000183605\" \"ENSG00000156076\" \"ENSG00000131966\" ...\n",
      " $ Aging4: chr [1:77] \"ENSG00000107960\" \"ENSG00000141002\" \"ENSG00000185324\" \"ENSG00000258839\" ...\n",
      " $ Aging5: chr [1:188] \"ENSG00000107957\" \"ENSG00000138175\" \"ENSG00000148842\" \"ENSG00000166272\" ...\n",
      "UpSetR plot created successfully\n"
     ]
    }
   ],
   "source": [
    "library(UpSetR)\n",
    "# Create named list of gene sets\n",
    "gene_sets <- list(\n",
    "  \"AD1\" = AD1_gene,\n",
    "  \"AD2\" = AD2_gene, \n",
    "  \"Aging1\" = Aging1_gene,\n",
    "  \"Aging2\" = Aging2_gene,\n",
    "  \"Aging3\" = Aging3_gene,\n",
    "  \"Aging4\" = Aging4_gene,\n",
    "  \"Aging5\" = Aging5_gene\n",
    ")\n",
    "\n",
    "# Remove any NA values\n",
    "gene_sets <- lapply(gene_sets, function(x) x[!is.na(x)])\n",
    "# Convert to binary matrix for UpSet plot\n",
    "all_genes <- unique(unlist(gene_sets))\n",
    "upset_data <- data.frame(gene = all_genes)\n",
    "\n",
    "for(set_name in names(gene_sets)) {\n",
    "  upset_data[[set_name]] <- upset_data$gene %in% gene_sets[[set_name]]\n",
    "}\n",
    "str(gene_sets)\n",
    "# Convert to proper format for UpSetR\n",
    "upset_r_data <- upset_data\n",
    "# Remove the 'gene' column and convert to 0/1 instead of TRUE/FALSE\n",
    "upset_r_data <- upset_r_data[, -1]  # Remove gene column\n",
    "upset_r_data <- as.data.frame(lapply(upset_r_data, as.numeric))\n",
    "\n",
    "# Add row names if needed\n",
    "rownames(upset_r_data) <- upset_data$gene\n",
    "\n",
    "# Create UpSetR plot with proper error handling\n",
    "tryCatch({\n",
    "  upset_r_plot <- upset(upset_r_data, \n",
    "                       sets = names(gene_sets),\n",
    "                       order.by = \"freq\",\n",
    "                       decreasing = TRUE,\n",
    "                       mb.ratio = c(0.6, 0.4),\n",
    "                       number.angles = 0,\n",
    "                       text.scale = 1.2,\n",
    "                       point.size = 3,\n",
    "                       line.size = 1.5,\n",
    "                       mainbar.y.label = \"Intersection Size\",\n",
    "                       sets.x.label = \"Gene Set Size\",\n",
    "                       sets.bar.color = \"steelblue\",\n",
    "                       main.bar.color = \"darkblue\")\n",
    "  \n",
    "  cat(\"UpSetR plot created successfully\\n\")\n",
    "}, error = function(e) {\n",
    "  cat(\"UpSetR failed, using alternative method\\n\")\n",
    "  \n",
    "  # Alternative: Create a simple intersection matrix\n",
    "  intersection_matrix <- matrix(0, nrow = length(unique(DNE$gene_name)), ncol = length(gene_sets))\n",
    "  rownames(intersection_matrix) <- unique(DNE$gene_name)\n",
    "  colnames(intersection_matrix) <- names(gene_sets)\n",
    "  \n",
    "  for(i in 1:length(gene_sets)) {\n",
    "    intersection_matrix[unique(DNE$gene_name) %in% gene_sets[[i]], i] <- 1\n",
    "  }\n",
    "  \n",
    "  print(head(intersection_matrix))\n",
    "})\n"
   ]
  },
  {
   "cell_type": "code",
   "execution_count": 17,
   "id": "5597864b-2959-42aa-9b16-dc141ec229d9",
   "metadata": {},
   "outputs": [
    {
     "data": {
      "text/html": [
       "<strong>agg_record_265148618:</strong> 2"
      ],
      "text/latex": [
       "\\textbf{agg\\textbackslash{}\\_record\\textbackslash{}\\_265148618:} 2"
      ],
      "text/markdown": [
       "**agg_record_265148618:** 2"
      ],
      "text/plain": [
       "agg_record_265148618 \n",
       "                   2 "
      ]
     },
     "metadata": {},
     "output_type": "display_data"
    }
   ],
   "source": [
    "png(\"~/xqtl-analysis/production/image_QTL/CB_finemapping_summary/DNE_twas_upset.png\", width = 12, height = 8, units = \"in\", res = 300)\n",
    "print(upset_r_plot)\n",
    "dev.off()"
   ]
  },
  {
   "cell_type": "markdown",
   "id": "99231970-4f95-4749-a0b2-328e300035ed",
   "metadata": {},
   "source": [
    "### TWAS&QTL"
   ]
  },
  {
   "cell_type": "code",
   "execution_count": 9,
   "id": "7d0c46ae-cb94-47a3-8cde-6ab608ce1116",
   "metadata": {},
   "outputs": [
    {
     "data": {
      "text/html": [
       "<table class=\"dataframe\">\n",
       "<caption>A data.table: 6 × 7</caption>\n",
       "<thead>\n",
       "\t<tr><th scope=col>#chr</th><th scope=col>start</th><th scope=col>end</th><th scope=col>gene_id</th><th scope=col>source</th><th scope=col>gene_name</th><th scope=col>event_id</th></tr>\n",
       "\t<tr><th scope=col>&lt;chr&gt;</th><th scope=col>&lt;int&gt;</th><th scope=col>&lt;int&gt;</th><th scope=col>&lt;chr&gt;</th><th scope=col>&lt;chr&gt;</th><th scope=col>&lt;chr&gt;</th><th scope=col>&lt;chr&gt;</th></tr>\n",
       "</thead>\n",
       "<tbody>\n",
       "\t<tr><td>chr14</td><td> 99238297</td><td>101760000</td><td>ENSG00000100811</td><td>TWAS</td><td>YY1  </td><td>image_AD1</td></tr>\n",
       "\t<tr><td>chr20</td><td> 34433347</td><td> 37080000</td><td>ENSG00000125965</td><td>TWAS</td><td>GDF5 </td><td>image_AD1</td></tr>\n",
       "\t<tr><td>chr3 </td><td> 46413681</td><td> 50320000</td><td>ENSG00000114650</td><td>TWAS</td><td>SCAP </td><td>image_AD1</td></tr>\n",
       "\t<tr><td>chr8 </td><td>  9840000</td><td> 12600000</td><td>ENSG00000104643</td><td>TWAS</td><td>MTMR9</td><td>image_AD1</td></tr>\n",
       "\t<tr><td>chr10</td><td>101673731</td><td>103714397</td><td>ENSG00000138175</td><td>TWAS</td><td>ARL3 </td><td>image_AD1</td></tr>\n",
       "\t<tr><td>chr10</td><td>101644478</td><td>103680000</td><td>ENSG00000171206</td><td>TWAS</td><td>TRIM8</td><td>image_AD1</td></tr>\n",
       "</tbody>\n",
       "</table>\n"
      ],
      "text/latex": [
       "A data.table: 6 × 7\n",
       "\\begin{tabular}{lllllll}\n",
       " \\#chr & start & end & gene\\_id & source & gene\\_name & event\\_id\\\\\n",
       " <chr> & <int> & <int> & <chr> & <chr> & <chr> & <chr>\\\\\n",
       "\\hline\n",
       "\t chr14 &  99238297 & 101760000 & ENSG00000100811 & TWAS & YY1   & image\\_AD1\\\\\n",
       "\t chr20 &  34433347 &  37080000 & ENSG00000125965 & TWAS & GDF5  & image\\_AD1\\\\\n",
       "\t chr3  &  46413681 &  50320000 & ENSG00000114650 & TWAS & SCAP  & image\\_AD1\\\\\n",
       "\t chr8  &   9840000 &  12600000 & ENSG00000104643 & TWAS & MTMR9 & image\\_AD1\\\\\n",
       "\t chr10 & 101673731 & 103714397 & ENSG00000138175 & TWAS & ARL3  & image\\_AD1\\\\\n",
       "\t chr10 & 101644478 & 103680000 & ENSG00000171206 & TWAS & TRIM8 & image\\_AD1\\\\\n",
       "\\end{tabular}\n"
      ],
      "text/markdown": [
       "\n",
       "A data.table: 6 × 7\n",
       "\n",
       "| #chr &lt;chr&gt; | start &lt;int&gt; | end &lt;int&gt; | gene_id &lt;chr&gt; | source &lt;chr&gt; | gene_name &lt;chr&gt; | event_id &lt;chr&gt; |\n",
       "|---|---|---|---|---|---|---|\n",
       "| chr14 |  99238297 | 101760000 | ENSG00000100811 | TWAS | YY1   | image_AD1 |\n",
       "| chr20 |  34433347 |  37080000 | ENSG00000125965 | TWAS | GDF5  | image_AD1 |\n",
       "| chr3  |  46413681 |  50320000 | ENSG00000114650 | TWAS | SCAP  | image_AD1 |\n",
       "| chr8  |   9840000 |  12600000 | ENSG00000104643 | TWAS | MTMR9 | image_AD1 |\n",
       "| chr10 | 101673731 | 103714397 | ENSG00000138175 | TWAS | ARL3  | image_AD1 |\n",
       "| chr10 | 101644478 | 103680000 | ENSG00000171206 | TWAS | TRIM8 | image_AD1 |\n",
       "\n"
      ],
      "text/plain": [
       "  #chr  start     end       gene_id         source gene_name event_id \n",
       "1 chr14  99238297 101760000 ENSG00000100811 TWAS   YY1       image_AD1\n",
       "2 chr20  34433347  37080000 ENSG00000125965 TWAS   GDF5      image_AD1\n",
       "3 chr3   46413681  50320000 ENSG00000114650 TWAS   SCAP      image_AD1\n",
       "4 chr8    9840000  12600000 ENSG00000104643 TWAS   MTMR9     image_AD1\n",
       "5 chr10 101673731 103714397 ENSG00000138175 TWAS   ARL3      image_AD1\n",
       "6 chr10 101644478 103680000 ENSG00000171206 TWAS   TRIM8     image_AD1"
      ]
     },
     "metadata": {},
     "output_type": "display_data"
    }
   ],
   "source": [
    "ctwas_gene = fread(\"~/xqtl-analysis/production/image_QTL/interested_genes/TWAS_QTL/TWAS_QTL_gene_list.tsv\")\n",
    "head(ctwas_gene)"
   ]
  },
  {
   "cell_type": "code",
   "execution_count": 11,
   "id": "a3c5a8f3-5070-4d50-b899-7908639f2ed2",
   "metadata": {},
   "outputs": [],
   "source": [
    "AD1 = ctwas_gene |> filter(str_detect(event_id,\"image_AD1\"))\n",
    "AD2 = ctwas_gene |> filter(str_detect(event_id,\"image_AD2\"))\n",
    "Aging1 = ctwas_gene |> filter(str_detect(event_id,\"image_Aging1\"))\n",
    "Aging2 = ctwas_gene |> filter(str_detect(event_id,\"image_Aging2\"))\n",
    "Aging3 = ctwas_gene |> filter(str_detect(event_id,\"image_Aging3\"))\n",
    "Aging4 = ctwas_gene |> filter(str_detect(event_id,\"image_Aging4\"))\n",
    "Aging5 = ctwas_gene |> filter(str_detect(event_id,\"image_Aging5\"))\n",
    "Aging1_gene = Aging1$gene_name |> unique()\n",
    "\n",
    "Aging2_gene = Aging2$gene_name|> unique()\n",
    "\n",
    "Aging3_gene = Aging3$gene_name|> unique()\n",
    "\n",
    "Aging4_gene = Aging4$gene_name|> unique()\n",
    "\n",
    "Aging5_gene = Aging5$gene_name|> unique()\n",
    "\n",
    "\n",
    "AD1_gene = AD1$gene_name|> unique()\n",
    "AD2_gene = AD2$gene_name|> unique()\n"
   ]
  },
  {
   "cell_type": "code",
   "execution_count": 12,
   "id": "8f87c37e-df86-4095-86eb-9632fb1387fe",
   "metadata": {},
   "outputs": [
    {
     "name": "stdout",
     "output_type": "stream",
     "text": [
      "List of 7\n",
      " $ AD1   : chr [1:60] \"YY1\" \"GDF5\" \"SCAP\" \"MTMR9\" ...\n",
      " $ AD2   : chr [1:105] \"RASSF3\" \"LEMD3\" \"XPOT\" \"GDF5\" ...\n",
      " $ Aging1: chr [1:129] \"NFATC2IP\" \"TUFM\" \"CLN3\" \"SULT1A1\" ...\n",
      " $ Aging2: chr [1:84] \"TESC\" \"HRK\" \"LEMD3\" \"XPOT\" ...\n",
      " $ Aging3: chr [1:62] \"SPTBN1\" \"GDPD3\" \"CENPW\" \"ARID4A\" ...\n",
      " $ Aging4: chr [1:51] \"RAB29\" \"PM20D1\" \"IFIT1B\" \"KPNA2\" ...\n",
      " $ Aging5: chr [1:151] \"NEURL1\" \"CNNM2\" \"AS3MT\" \"ATP5MC1\" ...\n",
      "UpSetR plot created successfully\n"
     ]
    }
   ],
   "source": [
    "library(UpSetR)\n",
    "# Create named list of gene sets\n",
    "gene_sets <- list(\n",
    "  \"AD1\" = AD1_gene,\n",
    "  \"AD2\" = AD2_gene, \n",
    "  \"Aging1\" = Aging1_gene,\n",
    "  \"Aging2\" = Aging2_gene,\n",
    "  \"Aging3\" = Aging3_gene,\n",
    "  \"Aging4\" = Aging4_gene,\n",
    "  \"Aging5\" = Aging5_gene\n",
    ")\n",
    "\n",
    "# Remove any NA values\n",
    "gene_sets <- lapply(gene_sets, function(x) x[!is.na(x)])\n",
    "# Convert to binary matrix for UpSet plot\n",
    "all_genes <- unique(unlist(gene_sets))\n",
    "upset_data <- data.frame(gene = all_genes)\n",
    "\n",
    "for(set_name in names(gene_sets)) {\n",
    "  upset_data[[set_name]] <- upset_data$gene %in% gene_sets[[set_name]]\n",
    "}\n",
    "str(gene_sets)\n",
    "# Convert to proper format for UpSetR\n",
    "upset_r_data <- upset_data\n",
    "# Remove the 'gene' column and convert to 0/1 instead of TRUE/FALSE\n",
    "upset_r_data <- upset_r_data[, -1]  # Remove gene column\n",
    "upset_r_data <- as.data.frame(lapply(upset_r_data, as.numeric))\n",
    "\n",
    "# Add row names if needed\n",
    "rownames(upset_r_data) <- upset_data$gene\n",
    "\n",
    "# Create UpSetR plot with proper error handling\n",
    "tryCatch({\n",
    "  upset_r_plot <- upset(upset_r_data, \n",
    "                       sets = names(gene_sets),\n",
    "                       order.by = \"freq\",\n",
    "                       decreasing = TRUE,\n",
    "                       mb.ratio = c(0.6, 0.4),\n",
    "                       number.angles = 0,\n",
    "                       text.scale = 1.2,\n",
    "                       point.size = 3,\n",
    "                       line.size = 1.5,\n",
    "                       mainbar.y.label = \"Intersection Size\",\n",
    "                       sets.x.label = \"Gene Set Size\",\n",
    "                       sets.bar.color = \"steelblue\",\n",
    "                       main.bar.color = \"darkblue\")\n",
    "  \n",
    "  cat(\"UpSetR plot created successfully\\n\")\n",
    "}, error = function(e) {\n",
    "  cat(\"UpSetR failed, using alternative method\\n\")\n",
    "  \n",
    "  # Alternative: Create a simple intersection matrix\n",
    "  intersection_matrix <- matrix(0, nrow = length(unique(DNE$gene_name)), ncol = length(gene_sets))\n",
    "  rownames(intersection_matrix) <- unique(DNE$gene_name)\n",
    "  colnames(intersection_matrix) <- names(gene_sets)\n",
    "  \n",
    "  for(i in 1:length(gene_sets)) {\n",
    "    intersection_matrix[unique(DNE$gene_name) %in% gene_sets[[i]], i] <- 1\n",
    "  }\n",
    "  \n",
    "  print(head(intersection_matrix))\n",
    "})\n"
   ]
  },
  {
   "cell_type": "code",
   "execution_count": 14,
   "id": "67d8fae1-1646-4c07-905d-df4ff1f37b62",
   "metadata": {},
   "outputs": [
    {
     "data": {
      "text/html": [
       "<strong>agg_record_1440846479:</strong> 2"
      ],
      "text/latex": [
       "\\textbf{agg\\textbackslash{}\\_record\\textbackslash{}\\_1440846479:} 2"
      ],
      "text/markdown": [
       "**agg_record_1440846479:** 2"
      ],
      "text/plain": [
       "agg_record_1440846479 \n",
       "                    2 "
      ]
     },
     "metadata": {},
     "output_type": "display_data"
    }
   ],
   "source": [
    "png(\"~/xqtl-analysis/production/image_QTL/CB_finemapping_summary/DNE_twas_qtl_upset.png\", width = 12, height = 8, units = \"in\", res = 300)\n",
    "print(upset_r_plot)\n",
    "dev.off()"
   ]
  },
  {
   "cell_type": "markdown",
   "id": "ace482d6-097f-4236-a831-930f20382961",
   "metadata": {},
   "source": [
    "## All GWAS"
   ]
  },
  {
   "cell_type": "markdown",
   "id": "d39b121f-7c5f-42db-96d6-763d2ebbfec8",
   "metadata": {},
   "source": [
    "### ColocBoost"
   ]
  },
  {
   "cell_type": "code",
   "execution_count": 23,
   "id": "66b2745f-ba20-4e0b-9a30-843e036b1b08",
   "metadata": {
    "vscode": {
     "languageId": "r"
    }
   },
   "outputs": [
    {
     "data": {
      "text/html": [
       "<table class=\"dataframe\">\n",
       "<caption>A data.table: 6 × 14</caption>\n",
       "<thead>\n",
       "\t<tr><th scope=col>#chr</th><th scope=col>start</th><th scope=col>end</th><th scope=col>a1</th><th scope=col>a2</th><th scope=col>variant_ID</th><th scope=col>region_ID</th><th scope=col>event_ID</th><th scope=col>cos_ID</th><th scope=col>vcp</th><th scope=col>cos_npc</th><th scope=col>min_npc_outcome</th><th scope=col>coef</th><th scope=col>z</th></tr>\n",
       "\t<tr><th scope=col>&lt;chr&gt;</th><th scope=col>&lt;int&gt;</th><th scope=col>&lt;int&gt;</th><th scope=col>&lt;chr&gt;</th><th scope=col>&lt;chr&gt;</th><th scope=col>&lt;chr&gt;</th><th scope=col>&lt;chr&gt;</th><th scope=col>&lt;chr&gt;</th><th scope=col>&lt;chr&gt;</th><th scope=col>&lt;dbl&gt;</th><th scope=col>&lt;dbl&gt;</th><th scope=col>&lt;dbl&gt;</th><th scope=col>&lt;chr&gt;</th><th scope=col>&lt;chr&gt;</th></tr>\n",
       "</thead>\n",
       "<tbody>\n",
       "\t<tr><td>chr1</td><td>161189357</td><td>161189357</td><td>T</td><td>C</td><td>chr1:161189357:C:T</td><td>chr1_158933969_162352348</td><td>AD_Bellenguez; AD_Wightman_Excluding23andMe_2021        </td><td>chr1_158933969_162352348:cos1:y7_y10 </td><td>0.148633848</td><td>1</td><td>1</td><td>-0.00237822429413167;-0.00126943889431771</td><td>-5.66666666666667;-5.39920492844837</td></tr>\n",
       "\t<tr><td>chr1</td><td>161215268</td><td>161215268</td><td>T</td><td>G</td><td>chr1:161215268:G:T</td><td>chr1_158933969_162352348</td><td>AD_Bellenguez; AD_Wightman_Excluding23andMe_2021        </td><td>chr1_158933969_162352348:cos1:y7_y10 </td><td>0.213683842</td><td>1</td><td>1</td><td>-0.00314917325108774;-0.0015555119117074 </td><td>-5.72826086956522;-5.44139840072206</td></tr>\n",
       "\t<tr><td>chr1</td><td>161217875</td><td>161217875</td><td>T</td><td>C</td><td>chr1:161217875:C:T</td><td>chr1_158933969_162352348</td><td>AD_Bellenguez; AD_Wightman_Excluding23andMe_2021        </td><td>chr1_158933969_162352348:cos1:y7_y10 </td><td>0.630037093</td><td>1</td><td>1</td><td>-0.0035129752975932;-0.00589550094118934 </td><td>-5.71276595744681;-5.78719041195195</td></tr>\n",
       "\t<tr><td>chr1</td><td>200905600</td><td>200905600</td><td>G</td><td>A</td><td>chr1:200905600:A:G</td><td>chr1_200496446_202852808</td><td>AD_Wightman_Full_2021; AD_Wightman_Excluding23andMe_2021</td><td>chr1_200496446_202852808:cos1:y10_y11</td><td>0.007671881</td><td>1</td><td>1</td><td>9.234320806912e-05;0.000139149039132946  </td><td>4.53950141738719;4.29121674501588  </td></tr>\n",
       "\t<tr><td>chr1</td><td>200905967</td><td>200905967</td><td>C</td><td>T</td><td>chr1:200905967:T:C</td><td>chr1_200496446_202852808</td><td>AD_Wightman_Full_2021; AD_Wightman_Excluding23andMe_2021</td><td>chr1_200496446_202852808:cos1:y10_y11</td><td>0.008368034</td><td>1</td><td>1</td><td>0.000104268954830228;0.000138364785535695</td><td>4.58025882916672;4.28441576043348  </td></tr>\n",
       "\t<tr><td>chr1</td><td>200906114</td><td>200906114</td><td>A</td><td>T</td><td>chr1:200906114:T:A</td><td>chr1_200496446_202852808</td><td>AD_Wightman_Full_2021; AD_Wightman_Excluding23andMe_2021</td><td>chr1_200496446_202852808:cos1:y10_y11</td><td>0.008713429</td><td>1</td><td>1</td><td>0.000107208760913441;0.000142027094052532</td><td>4.58984897079625;4.29387534466063  </td></tr>\n",
       "</tbody>\n",
       "</table>\n"
      ],
      "text/latex": [
       "A data.table: 6 × 14\n",
       "\\begin{tabular}{llllllllllllll}\n",
       " \\#chr & start & end & a1 & a2 & variant\\_ID & region\\_ID & event\\_ID & cos\\_ID & vcp & cos\\_npc & min\\_npc\\_outcome & coef & z\\\\\n",
       " <chr> & <int> & <int> & <chr> & <chr> & <chr> & <chr> & <chr> & <chr> & <dbl> & <dbl> & <dbl> & <chr> & <chr>\\\\\n",
       "\\hline\n",
       "\t chr1 & 161189357 & 161189357 & T & C & chr1:161189357:C:T & chr1\\_158933969\\_162352348 & AD\\_Bellenguez; AD\\_Wightman\\_Excluding23andMe\\_2021         & chr1\\_158933969\\_162352348:cos1:y7\\_y10  & 0.148633848 & 1 & 1 & -0.00237822429413167;-0.00126943889431771 & -5.66666666666667;-5.39920492844837\\\\\n",
       "\t chr1 & 161215268 & 161215268 & T & G & chr1:161215268:G:T & chr1\\_158933969\\_162352348 & AD\\_Bellenguez; AD\\_Wightman\\_Excluding23andMe\\_2021         & chr1\\_158933969\\_162352348:cos1:y7\\_y10  & 0.213683842 & 1 & 1 & -0.00314917325108774;-0.0015555119117074  & -5.72826086956522;-5.44139840072206\\\\\n",
       "\t chr1 & 161217875 & 161217875 & T & C & chr1:161217875:C:T & chr1\\_158933969\\_162352348 & AD\\_Bellenguez; AD\\_Wightman\\_Excluding23andMe\\_2021         & chr1\\_158933969\\_162352348:cos1:y7\\_y10  & 0.630037093 & 1 & 1 & -0.0035129752975932;-0.00589550094118934  & -5.71276595744681;-5.78719041195195\\\\\n",
       "\t chr1 & 200905600 & 200905600 & G & A & chr1:200905600:A:G & chr1\\_200496446\\_202852808 & AD\\_Wightman\\_Full\\_2021; AD\\_Wightman\\_Excluding23andMe\\_2021 & chr1\\_200496446\\_202852808:cos1:y10\\_y11 & 0.007671881 & 1 & 1 & 9.234320806912e-05;0.000139149039132946   & 4.53950141738719;4.29121674501588  \\\\\n",
       "\t chr1 & 200905967 & 200905967 & C & T & chr1:200905967:T:C & chr1\\_200496446\\_202852808 & AD\\_Wightman\\_Full\\_2021; AD\\_Wightman\\_Excluding23andMe\\_2021 & chr1\\_200496446\\_202852808:cos1:y10\\_y11 & 0.008368034 & 1 & 1 & 0.000104268954830228;0.000138364785535695 & 4.58025882916672;4.28441576043348  \\\\\n",
       "\t chr1 & 200906114 & 200906114 & A & T & chr1:200906114:T:A & chr1\\_200496446\\_202852808 & AD\\_Wightman\\_Full\\_2021; AD\\_Wightman\\_Excluding23andMe\\_2021 & chr1\\_200496446\\_202852808:cos1:y10\\_y11 & 0.008713429 & 1 & 1 & 0.000107208760913441;0.000142027094052532 & 4.58984897079625;4.29387534466063  \\\\\n",
       "\\end{tabular}\n"
      ],
      "text/markdown": [
       "\n",
       "A data.table: 6 × 14\n",
       "\n",
       "| #chr &lt;chr&gt; | start &lt;int&gt; | end &lt;int&gt; | a1 &lt;chr&gt; | a2 &lt;chr&gt; | variant_ID &lt;chr&gt; | region_ID &lt;chr&gt; | event_ID &lt;chr&gt; | cos_ID &lt;chr&gt; | vcp &lt;dbl&gt; | cos_npc &lt;dbl&gt; | min_npc_outcome &lt;dbl&gt; | coef &lt;chr&gt; | z &lt;chr&gt; |\n",
       "|---|---|---|---|---|---|---|---|---|---|---|---|---|---|\n",
       "| chr1 | 161189357 | 161189357 | T | C | chr1:161189357:C:T | chr1_158933969_162352348 | AD_Bellenguez; AD_Wightman_Excluding23andMe_2021         | chr1_158933969_162352348:cos1:y7_y10  | 0.148633848 | 1 | 1 | -0.00237822429413167;-0.00126943889431771 | -5.66666666666667;-5.39920492844837 |\n",
       "| chr1 | 161215268 | 161215268 | T | G | chr1:161215268:G:T | chr1_158933969_162352348 | AD_Bellenguez; AD_Wightman_Excluding23andMe_2021         | chr1_158933969_162352348:cos1:y7_y10  | 0.213683842 | 1 | 1 | -0.00314917325108774;-0.0015555119117074  | -5.72826086956522;-5.44139840072206 |\n",
       "| chr1 | 161217875 | 161217875 | T | C | chr1:161217875:C:T | chr1_158933969_162352348 | AD_Bellenguez; AD_Wightman_Excluding23andMe_2021         | chr1_158933969_162352348:cos1:y7_y10  | 0.630037093 | 1 | 1 | -0.0035129752975932;-0.00589550094118934  | -5.71276595744681;-5.78719041195195 |\n",
       "| chr1 | 200905600 | 200905600 | G | A | chr1:200905600:A:G | chr1_200496446_202852808 | AD_Wightman_Full_2021; AD_Wightman_Excluding23andMe_2021 | chr1_200496446_202852808:cos1:y10_y11 | 0.007671881 | 1 | 1 | 9.234320806912e-05;0.000139149039132946   | 4.53950141738719;4.29121674501588   |\n",
       "| chr1 | 200905967 | 200905967 | C | T | chr1:200905967:T:C | chr1_200496446_202852808 | AD_Wightman_Full_2021; AD_Wightman_Excluding23andMe_2021 | chr1_200496446_202852808:cos1:y10_y11 | 0.008368034 | 1 | 1 | 0.000104268954830228;0.000138364785535695 | 4.58025882916672;4.28441576043348   |\n",
       "| chr1 | 200906114 | 200906114 | A | T | chr1:200906114:T:A | chr1_200496446_202852808 | AD_Wightman_Full_2021; AD_Wightman_Excluding23andMe_2021 | chr1_200496446_202852808:cos1:y10_y11 | 0.008713429 | 1 | 1 | 0.000107208760913441;0.000142027094052532 | 4.58984897079625;4.29387534466063   |\n",
       "\n"
      ],
      "text/plain": [
       "  #chr start     end       a1 a2 variant_ID         region_ID               \n",
       "1 chr1 161189357 161189357 T  C  chr1:161189357:C:T chr1_158933969_162352348\n",
       "2 chr1 161215268 161215268 T  G  chr1:161215268:G:T chr1_158933969_162352348\n",
       "3 chr1 161217875 161217875 T  C  chr1:161217875:C:T chr1_158933969_162352348\n",
       "4 chr1 200905600 200905600 G  A  chr1:200905600:A:G chr1_200496446_202852808\n",
       "5 chr1 200905967 200905967 C  T  chr1:200905967:T:C chr1_200496446_202852808\n",
       "6 chr1 200906114 200906114 A  T  chr1:200906114:T:A chr1_200496446_202852808\n",
       "  event_ID                                                \n",
       "1 AD_Bellenguez; AD_Wightman_Excluding23andMe_2021        \n",
       "2 AD_Bellenguez; AD_Wightman_Excluding23andMe_2021        \n",
       "3 AD_Bellenguez; AD_Wightman_Excluding23andMe_2021        \n",
       "4 AD_Wightman_Full_2021; AD_Wightman_Excluding23andMe_2021\n",
       "5 AD_Wightman_Full_2021; AD_Wightman_Excluding23andMe_2021\n",
       "6 AD_Wightman_Full_2021; AD_Wightman_Excluding23andMe_2021\n",
       "  cos_ID                                vcp         cos_npc min_npc_outcome\n",
       "1 chr1_158933969_162352348:cos1:y7_y10  0.148633848 1       1              \n",
       "2 chr1_158933969_162352348:cos1:y7_y10  0.213683842 1       1              \n",
       "3 chr1_158933969_162352348:cos1:y7_y10  0.630037093 1       1              \n",
       "4 chr1_200496446_202852808:cos1:y10_y11 0.007671881 1       1              \n",
       "5 chr1_200496446_202852808:cos1:y10_y11 0.008368034 1       1              \n",
       "6 chr1_200496446_202852808:cos1:y10_y11 0.008713429 1       1              \n",
       "  coef                                      z                                  \n",
       "1 -0.00237822429413167;-0.00126943889431771 -5.66666666666667;-5.39920492844837\n",
       "2 -0.00314917325108774;-0.0015555119117074  -5.72826086956522;-5.44139840072206\n",
       "3 -0.0035129752975932;-0.00589550094118934  -5.71276595744681;-5.78719041195195\n",
       "4 9.234320806912e-05;0.000139149039132946   4.53950141738719;4.29121674501588  \n",
       "5 0.000104268954830228;0.000138364785535695 4.58025882916672;4.28441576043348  \n",
       "6 0.000107208760913441;0.000142027094052532 4.58984897079625;4.29387534466063  "
      ]
     },
     "metadata": {},
     "output_type": "display_data"
    }
   ],
   "source": [
    "all_gwas_cb <- fread(\"~/project/image_QTL/DNE_cb_explained_by_xQTL/Image_AD_aging_PD_meta_colocboost_export_filtered_ucos.bed\")\n",
    "head(all_gwas_cb)"
   ]
  },
  {
   "cell_type": "code",
   "execution_count": 24,
   "id": "1de89551-1f35-4ae1-9553-b6d4c2a81e29",
   "metadata": {},
   "outputs": [
    {
     "name": "stdout",
     "output_type": "stream",
     "text": [
      "=== FINAL SUMMARY TABLE ===\n",
      "                                     trait ucos_count cos_count total\n",
      "1                            AD_Bellenguez        101      1733  1834\n",
      "2        AD_Wightman_Excluding23andMe_2021        207      1091  1298\n",
      "3  AD_Wightman_ExcludingUKBand23andME_2021        168      2465  2633\n",
      "4                    AD_Kunkle_Stage1_2019        571       251   822\n",
      "5                    AD_Wightman_Full_2021         23      1089  1112\n",
      "6                                image_AD1       1245       766  2011\n",
      "7                                image_AD2        799       741  1540\n",
      "8                             image_Aging1       2370       755  3125\n",
      "9                             image_Aging2       1469       516  1985\n",
      "10                            image_Aging3        717      2456  3173\n",
      "11                            image_Aging4       1192       461  1653\n",
      "12                            image_Aging5       1983       599  2582\n",
      "13                            Telomere_pc1       4807       760  5567\n",
      "14                                   mvage         31       746   777\n",
      "15                                      PD        464      1577  2041\n",
      "    ucos_prop  cos_prop\n",
      "1  0.05507088 0.9449291\n",
      "2  0.15947612 0.8405239\n",
      "3  0.06380555 0.9361945\n",
      "4  0.69464720 0.3053528\n",
      "5  0.02068345 0.9793165\n",
      "6  0.61909498 0.3809050\n",
      "7  0.51883117 0.4811688\n",
      "8  0.75840000 0.2416000\n",
      "9  0.74005038 0.2599496\n",
      "10 0.22596911 0.7740309\n",
      "11 0.72111313 0.2788869\n",
      "12 0.76800930 0.2319907\n",
      "13 0.86348123 0.1365188\n",
      "14 0.03989704 0.9601030\n",
      "15 0.22733954 0.7726605\n"
     ]
    },
    {
     "data": {
      "image/png": "[encoded data removed]",
      "text/plain": [
       "plot without title"
      ]
     },
     "metadata": {
      "image/png": {
       "height": 420,
       "width": 420
      }
     },
     "output_type": "display_data"
    }
   ],
   "source": [
    "\n",
    "library(stringr)\n",
    "\n",
    "# Define the traits of interest\n",
    "traits_of_interest <- c(\"AD_Bellenguez\", \"AD_Wightman_Excluding23andMe_2021\", \"AD_Wightman_ExcludingUKBand23andME_2021\",\n",
    "             \"AD_Kunkle_Stage1_2019\", \"AD_Wightman_Full_2021\", \"image_AD1\", \"image_AD2\", \n",
    "             \"image_Aging1\", \"image_Aging2\", \"image_Aging3\", \"image_Aging4\",\"image_Aging5\",\"Telomere_pc1\", \"mvage\", \"PD\")\n",
    "\n",
    "# Create the cos dataset (variants with \";\" in event_ID)\n",
    "all_gwas_cos <- all_gwas_cb[grepl(\";\", all_gwas_cb$event_ID), ]\n",
    "\n",
    "# Create ucos dataset (variants without \";\" in event_ID)\n",
    "all_gwas_ucos <- all_gwas_cb[!grepl(\";\", all_gwas_cb$event_ID), ]\n",
    "\n",
    "# Function to create trait-specific datasets\n",
    "create_trait_datasets <- function(traits_list) {\n",
    "  \n",
    "  # Initialize lists to store results\n",
    "  trait_counts <- data.frame()\n",
    "  \n",
    "  for (trait in traits_list) {\n",
    "    \n",
    "    # For UCOS: direct filtering by trait column\n",
    "    ucos_trait <- all_gwas_ucos[all_gwas_ucos$event_ID == trait, ]\n",
    "    ucos_count <- nrow(ucos_trait)\n",
    "    \n",
    "    # For COS: check if trait appears as a separate element (split by \"; \" - note the space!)\n",
    "    cos_trait <- all_gwas_cos[sapply(all_gwas_cos$event_ID, function(x) {\n",
    "      # Split by \"; \" (semicolon + space) and trim any extra whitespace\n",
    "      trait_list <- trimws(unlist(strsplit(x, \";\")))\n",
    "      trait %in% trait_list\n",
    "    }), ]\n",
    "    cos_count <- nrow(cos_trait)\n",
    "    \n",
    "    # Combine counts for this trait\n",
    "    trait_result <- data.frame(\n",
    "      trait = trait,\n",
    "      ucos_count = ucos_count,\n",
    "      cos_count = cos_count,\n",
    "      total = ucos_count + cos_count\n",
    "    )\n",
    "    \n",
    "    trait_counts <- rbind(trait_counts, trait_result)\n",
    "    \n",
    "    # Print summary for this trait\n",
    "    # cat(\"Trait:\", trait, \"\\n\")\n",
    "    # cat(\"  UCOS variants:\", ucos_count, \"\\n\")\n",
    "    # cat(\"  COS variants:\", cos_count, \"\\n\")\n",
    "    # cat(\"  Total variants:\", ucos_count + cos_count, \"\\n\\n\")\n",
    "  }\n",
    "  \n",
    "  return(trait_counts)\n",
    "}\n",
    "\n",
    "# Create the trait counts\n",
    "trait_counts <- create_trait_datasets(traits_of_interest)\n",
    "\n",
    "# Calculate proportions\n",
    "trait_counts$ucos_prop <- trait_counts$ucos_count / trait_counts$total\n",
    "trait_counts$cos_prop <- trait_counts$cos_count / trait_counts$total\n",
    "\n",
    "# Handle division by zero (when total = 0)\n",
    "trait_counts$ucos_prop[is.nan(trait_counts$ucos_prop)] <- 0\n",
    "trait_counts$cos_prop[is.nan(trait_counts$cos_prop)] <- 0\n",
    "\n",
    "# Reshape data for plotting\n",
    "plot_data <- trait_counts %>%\n",
    "  select(trait, ucos_prop, cos_prop) %>%\n",
    "  pivot_longer(cols = c(ucos_prop, cos_prop), \n",
    "               names_to = \"category\", \n",
    "               values_to = \"proportion\") %>%\n",
    "  mutate(category = gsub(\"_prop\", \"\", category))\n",
    "\n",
    "# Create the stacked bar plot (proportions)\n",
    "# p_prop <- ggplot(plot_data, aes(x = trait, y = proportion, fill = category)) +\n",
    "#   geom_bar(stat = \"identity\", position = \"stack\") +\n",
    "#   scale_fill_manual(values = c(\"ucos\" = \"#2E86C1\", \"cos\" = \"#E74C3C\"),\n",
    "#                     labels = c(\"UCOS\", \"COS\")) +\n",
    "#   labs(title = \"Proportion of UCOS and COS Variants by Trait\",\n",
    "#        x = \"Trait\",\n",
    "#        y = \"Proportion\",\n",
    "#        fill = \"Category\") +\n",
    "#   theme_minimal() +\n",
    "#   theme(axis.text.x = element_text(angle = 45, hjust = 1, size = 9),\n",
    "#         plot.title = element_text(hjust = 0.5, size = 14, face = \"bold\"),\n",
    "#         legend.position = \"top\",\n",
    "#         plot.margin = margin(10, 10, 10, 50)) +\n",
    "#   coord_cartesian(ylim = c(0, 1))\n",
    "\n",
    "# # Create count data for the second plot\n",
    "count_data <- trait_counts %>%\n",
    "  select(trait, ucos_count, cos_count) %>%\n",
    "  pivot_longer(cols = c(ucos_count, cos_count), \n",
    "               names_to = \"category\", \n",
    "               values_to = \"count\") %>%\n",
    "  mutate(category = gsub(\"_count\", \"\", category))\n",
    "\n",
    "# Create the stacked bar plot (counts)\n",
    "p_count <- ggplot(count_data, aes(x = trait, y = count, fill = category)) +\n",
    "  geom_bar(stat = \"identity\", position = \"stack\") +\n",
    "  scale_fill_manual(values = c(\"ucos\" = \"#2E86C1\", \"cos\" = \"#E74C3C\"),\n",
    "                  labels = c(\"ucos\" = \"UCOS\", \"cos\" = \"COS\")) +\n",
    "  labs(title = \"Count of UCOS and COS Variants by Trait\",\n",
    "       x = \"Trait\",\n",
    "       y = \"Count\",\n",
    "       fill = \"Category\") +\n",
    "  theme_minimal() +\n",
    "  theme(axis.text.x = element_text(angle = 45, hjust = 1, size = 9),\n",
    "        plot.title = element_text(hjust = 0.5, size = 14, face = \"bold\"),\n",
    "        legend.position = \"top\",\n",
    "        plot.margin = margin(10, 10, 10, 50))\n",
    "\n",
    "# Display both plots\n",
    "# print(p_prop)\n",
    "print(p_count)\n",
    "\n",
    "# Optional: Save the plots\n",
    "# ggsave(\"stacked_barplot_traits_proportions.png\", plot = p_prop, width = 10, height = 6, dpi = 300)\n",
    "ggsave(\"stacked_barplot_all_cb_variant_count.png\", plot = p_count, width = 10, height = 6, dpi = 300)\n",
    "\n",
    "# Print final summary table\n",
    "cat(\"=== FINAL SUMMARY TABLE ===\\n\")\n",
    "print(trait_counts)\n"
   ]
  },
  {
   "cell_type": "code",
   "execution_count": 80,
   "id": "b234d14e-686b-4647-92dc-971c4644050c",
   "metadata": {},
   "outputs": [
    {
     "data": {
      "text/html": [
       "<table class=\"dataframe\">\n",
       "<caption>A data.frame: 16 x 6</caption>\n",
       "<thead>\n",
       "\t<tr><th scope=col>trait</th><th scope=col>ucos_count</th><th scope=col>cos_count</th><th scope=col>total</th><th scope=col>ucos_prop</th><th scope=col>cos_prop</th></tr>\n",
       "\t<tr><th scope=col>&lt;chr&gt;</th><th scope=col>&lt;int&gt;</th><th scope=col>&lt;int&gt;</th><th scope=col>&lt;int&gt;</th><th scope=col>&lt;dbl&gt;</th><th scope=col>&lt;dbl&gt;</th></tr>\n",
       "</thead>\n",
       "<tbody>\n",
       "\t<tr><td>AD_Bellenguez                          </td><td> 101</td><td>1733</td><td>1834</td><td>0.05507088</td><td>0.9449291</td></tr>\n",
       "\t<tr><td>AD_Wightman_Excluding23andMe_2021      </td><td> 207</td><td>1091</td><td>1298</td><td>0.15947612</td><td>0.8405239</td></tr>\n",
       "\t<tr><td>AD_Wightman_ExcludingUKBand23andME_2021</td><td> 168</td><td>2465</td><td>2633</td><td>0.06380555</td><td>0.9361945</td></tr>\n",
       "\t<tr><td>AD_Kunkle_Stage1_2019                  </td><td> 571</td><td> 251</td><td> 822</td><td>0.69464720</td><td>0.3053528</td></tr>\n",
       "\t<tr><td>AD_Wightman_Full_2021                  </td><td>  23</td><td>1089</td><td>1112</td><td>0.02068345</td><td>0.9793165</td></tr>\n",
       "\t<tr><td>AD_Bellenguez_EADB                     </td><td>   0</td><td>   0</td><td>   0</td><td>0.00000000</td><td>0.0000000</td></tr>\n",
       "\t<tr><td>image_AD1                              </td><td>1245</td><td> 766</td><td>2011</td><td>0.61909498</td><td>0.3809050</td></tr>\n",
       "\t<tr><td>image_AD2                              </td><td> 799</td><td> 741</td><td>1540</td><td>0.51883117</td><td>0.4811688</td></tr>\n",
       "\t<tr><td>image_Aging1                           </td><td>2370</td><td> 755</td><td>3125</td><td>0.75840000</td><td>0.2416000</td></tr>\n",
       "\t<tr><td>image_Aging2                           </td><td>1469</td><td> 516</td><td>1985</td><td>0.74005038</td><td>0.2599496</td></tr>\n",
       "\t<tr><td>image_Aging3                           </td><td> 717</td><td>2456</td><td>3173</td><td>0.22596911</td><td>0.7740309</td></tr>\n",
       "\t<tr><td>image_Aging4                           </td><td>1192</td><td> 461</td><td>1653</td><td>0.72111313</td><td>0.2788869</td></tr>\n",
       "\t<tr><td>image_Aging5                           </td><td>1983</td><td> 599</td><td>2582</td><td>0.76800930</td><td>0.2319907</td></tr>\n",
       "\t<tr><td>Telomere_pc1                           </td><td>4807</td><td> 760</td><td>5567</td><td>0.86348123</td><td>0.1365188</td></tr>\n",
       "\t<tr><td>mvage                                  </td><td>  31</td><td> 746</td><td> 777</td><td>0.03989704</td><td>0.9601030</td></tr>\n",
       "\t<tr><td>PD                                     </td><td> 464</td><td>1577</td><td>2041</td><td>0.22733954</td><td>0.7726605</td></tr>\n",
       "</tbody>\n",
       "</table>\n"
      ],
      "text/latex": [
       "A data.frame: 16 x 6\n",
       "\\begin{tabular}{llllll}\n",
       " trait & ucos\\_count & cos\\_count & total & ucos\\_prop & cos\\_prop\\\\\n",
       " <chr> & <int> & <int> & <int> & <dbl> & <dbl>\\\\\n",
       "\\hline\n",
       "\t AD\\_Bellenguez                           &  101 & 1733 & 1834 & 0.05507088 & 0.9449291\\\\\n",
       "\t AD\\_Wightman\\_Excluding23andMe\\_2021       &  207 & 1091 & 1298 & 0.15947612 & 0.8405239\\\\\n",
       "\t AD\\_Wightman\\_ExcludingUKBand23andME\\_2021 &  168 & 2465 & 2633 & 0.06380555 & 0.9361945\\\\\n",
       "\t AD\\_Kunkle\\_Stage1\\_2019                   &  571 &  251 &  822 & 0.69464720 & 0.3053528\\\\\n",
       "\t AD\\_Wightman\\_Full\\_2021                   &   23 & 1089 & 1112 & 0.02068345 & 0.9793165\\\\\n",
       "\t AD\\_Bellenguez\\_EADB                      &    0 &    0 &    0 & 0.00000000 & 0.0000000\\\\\n",
       "\t image\\_AD1                               & 1245 &  766 & 2011 & 0.61909498 & 0.3809050\\\\\n",
       "\t image\\_AD2                               &  799 &  741 & 1540 & 0.51883117 & 0.4811688\\\\\n",
       "\t image\\_Aging1                            & 2370 &  755 & 3125 & 0.75840000 & 0.2416000\\\\\n",
       "\t image\\_Aging2                            & 1469 &  516 & 1985 & 0.74005038 & 0.2599496\\\\\n",
       "\t image\\_Aging3                            &  717 & 2456 & 3173 & 0.22596911 & 0.7740309\\\\\n",
       "\t image\\_Aging4                            & 1192 &  461 & 1653 & 0.72111313 & 0.2788869\\\\\n",
       "\t image\\_Aging5                            & 1983 &  599 & 2582 & 0.76800930 & 0.2319907\\\\\n",
       "\t Telomere\\_pc1                            & 4807 &  760 & 5567 & 0.86348123 & 0.1365188\\\\\n",
       "\t mvage                                   &   31 &  746 &  777 & 0.03989704 & 0.9601030\\\\\n",
       "\t PD                                      &  464 & 1577 & 2041 & 0.22733954 & 0.7726605\\\\\n",
       "\\end{tabular}\n"
      ],
      "text/markdown": [
       "\n",
       "A data.frame: 16 x 6\n",
       "\n",
       "| trait &lt;chr&gt; | ucos_count &lt;int&gt; | cos_count &lt;int&gt; | total &lt;int&gt; | ucos_prop &lt;dbl&gt; | cos_prop &lt;dbl&gt; |\n",
       "|---|---|---|---|---|---|\n",
       "| AD_Bellenguez                           |  101 | 1733 | 1834 | 0.05507088 | 0.9449291 |\n",
       "| AD_Wightman_Excluding23andMe_2021       |  207 | 1091 | 1298 | 0.15947612 | 0.8405239 |\n",
       "| AD_Wightman_ExcludingUKBand23andME_2021 |  168 | 2465 | 2633 | 0.06380555 | 0.9361945 |\n",
       "| AD_Kunkle_Stage1_2019                   |  571 |  251 |  822 | 0.69464720 | 0.3053528 |\n",
       "| AD_Wightman_Full_2021                   |   23 | 1089 | 1112 | 0.02068345 | 0.9793165 |\n",
       "| AD_Bellenguez_EADB                      |    0 |    0 |    0 | 0.00000000 | 0.0000000 |\n",
       "| image_AD1                               | 1245 |  766 | 2011 | 0.61909498 | 0.3809050 |\n",
       "| image_AD2                               |  799 |  741 | 1540 | 0.51883117 | 0.4811688 |\n",
       "| image_Aging1                            | 2370 |  755 | 3125 | 0.75840000 | 0.2416000 |\n",
       "| image_Aging2                            | 1469 |  516 | 1985 | 0.74005038 | 0.2599496 |\n",
       "| image_Aging3                            |  717 | 2456 | 3173 | 0.22596911 | 0.7740309 |\n",
       "| image_Aging4                            | 1192 |  461 | 1653 | 0.72111313 | 0.2788869 |\n",
       "| image_Aging5                            | 1983 |  599 | 2582 | 0.76800930 | 0.2319907 |\n",
       "| Telomere_pc1                            | 4807 |  760 | 5567 | 0.86348123 | 0.1365188 |\n",
       "| mvage                                   |   31 |  746 |  777 | 0.03989704 | 0.9601030 |\n",
       "| PD                                      |  464 | 1577 | 2041 | 0.22733954 | 0.7726605 |\n",
       "\n"
      ],
      "text/plain": [
       "   trait                                   ucos_count cos_count total\n",
       "1  AD_Bellenguez                            101       1733      1834 \n",
       "2  AD_Wightman_Excluding23andMe_2021        207       1091      1298 \n",
       "3  AD_Wightman_ExcludingUKBand23andME_2021  168       2465      2633 \n",
       "4  AD_Kunkle_Stage1_2019                    571        251       822 \n",
       "5  AD_Wightman_Full_2021                     23       1089      1112 \n",
       "6  AD_Bellenguez_EADB                         0          0         0 \n",
       "7  image_AD1                               1245        766      2011 \n",
       "8  image_AD2                                799        741      1540 \n",
       "9  image_Aging1                            2370        755      3125 \n",
       "10 image_Aging2                            1469        516      1985 \n",
       "11 image_Aging3                             717       2456      3173 \n",
       "12 image_Aging4                            1192        461      1653 \n",
       "13 image_Aging5                            1983        599      2582 \n",
       "14 Telomere_pc1                            4807        760      5567 \n",
       "15 mvage                                     31        746       777 \n",
       "16 PD                                       464       1577      2041 \n",
       "   ucos_prop  cos_prop \n",
       "1  0.05507088 0.9449291\n",
       "2  0.15947612 0.8405239\n",
       "3  0.06380555 0.9361945\n",
       "4  0.69464720 0.3053528\n",
       "5  0.02068345 0.9793165\n",
       "6  0.00000000 0.0000000\n",
       "7  0.61909498 0.3809050\n",
       "8  0.51883117 0.4811688\n",
       "9  0.75840000 0.2416000\n",
       "10 0.74005038 0.2599496\n",
       "11 0.22596911 0.7740309\n",
       "12 0.72111313 0.2788869\n",
       "13 0.76800930 0.2319907\n",
       "14 0.86348123 0.1365188\n",
       "15 0.03989704 0.9601030\n",
       "16 0.22733954 0.7726605"
      ]
     },
     "metadata": {},
     "output_type": "display_data"
    }
   ],
   "source": [
    "trait_counts"
   ]
  },
  {
   "cell_type": "markdown",
   "id": "f82da6b1-5f5f-4495-847c-ba7485e1e2ce",
   "metadata": {},
   "source": [
    "### Finemapping"
   ]
  },
  {
   "cell_type": "code",
   "execution_count": 18,
   "id": "bf2399a9-d9b6-43c6-8fc1-b55062dacef0",
   "metadata": {},
   "outputs": [],
   "source": [
    "AD_finemap = fread(\"~/data/analysis_result/AD_GWAS_finemapping/export/FunGen_xQTL.ADGWAS.Mar25.exported.toploci.bed.gz\") |> select(-end, -conditional_effect,-resource,-lfsr,-z) |> rename(pos = start, chr = `#chr`)\n",
    "TL_finemap = fread(\"~/project/image_QTL/AD_Aging_PD_GWAS_finemapping/Aging_PD_finemapping/TL.hg38_all_blocks.toploci.bed.gz\") |> select(-cs_coverage_0.95_purity0.5, -cs_coverage_0.7_purity0.5, -cs_coverage_0.5_purity0.5, -region_id,-finemap_model)\n",
    "mvAge_PD_finemap = fread(\"~/project/image_QTL/AD_Aging_PD_GWAS_finemapping/Aging_PD_finemapping/mvAge_PD.hg38_all_blocks.toploci.bed.gz\") |> select(-cs_coverage_0.95_purity0.5, -cs_coverage_0.7_purity0.5, -cs_coverage_0.5_purity0.5, -region_id,-finemap_model)"
   ]
  },
  {
   "cell_type": "code",
   "execution_count": 19,
   "id": "6e628ad2-24a5-4cd0-b312-ea0d3948baf8",
   "metadata": {},
   "outputs": [
    {
     "data": {
      "text/html": [
       "<table class=\"dataframe\">\n",
       "<caption>A data.table: 6 × 11</caption>\n",
       "<thead>\n",
       "\t<tr><th scope=col>chr</th><th scope=col>pos</th><th scope=col>a1</th><th scope=col>a2</th><th scope=col>variant_ID</th><th scope=col>gene_ID</th><th scope=col>event_ID</th><th scope=col>cs_coverage_0.95</th><th scope=col>cs_coverage_0.7</th><th scope=col>cs_coverage_0.5</th><th scope=col>PIP</th></tr>\n",
       "\t<tr><th scope=col>&lt;int&gt;</th><th scope=col>&lt;int&gt;</th><th scope=col>&lt;chr&gt;</th><th scope=col>&lt;chr&gt;</th><th scope=col>&lt;chr&gt;</th><th scope=col>&lt;chr&gt;</th><th scope=col>&lt;chr&gt;</th><th scope=col>&lt;int&gt;</th><th scope=col>&lt;int&gt;</th><th scope=col>&lt;int&gt;</th><th scope=col>&lt;dbl&gt;</th></tr>\n",
       "</thead>\n",
       "<tbody>\n",
       "\t<tr><td>1</td><td>161125043</td><td>T</td><td>C</td><td>chr1:161125044:C:T</td><td>chr1_158933969_162352348</td><td>AD_Bellenguez_2022</td><td>0</td><td>0</td><td>0</td><td>0.008041456</td></tr>\n",
       "\t<tr><td>1</td><td>161128337</td><td>T</td><td>C</td><td>chr1:161128338:C:T</td><td>chr1_158933969_162352348</td><td>AD_Bellenguez_2022</td><td>0</td><td>0</td><td>0</td><td>0.005291926</td></tr>\n",
       "\t<tr><td>1</td><td>161132099</td><td>C</td><td>A</td><td>chr1:161132100:A:C</td><td>chr1_158933969_162352348</td><td>AD_Bellenguez_2022</td><td>0</td><td>0</td><td>0</td><td>0.006715654</td></tr>\n",
       "\t<tr><td>1</td><td>161133654</td><td>G</td><td>T</td><td>chr1:161133655:T:G</td><td>chr1_158933969_162352348</td><td>AD_Bellenguez_2022</td><td>0</td><td>0</td><td>0</td><td>0.068137617</td></tr>\n",
       "\t<tr><td>1</td><td>161134668</td><td>C</td><td>T</td><td>chr1:161134669:T:C</td><td>chr1_158933969_162352348</td><td>AD_Bellenguez_2022</td><td>0</td><td>0</td><td>0</td><td>0.006325985</td></tr>\n",
       "\t<tr><td>1</td><td>161136563</td><td>G</td><td>T</td><td>chr1:161136564:T:G</td><td>chr1_158933969_162352348</td><td>AD_Bellenguez_2022</td><td>0</td><td>0</td><td>0</td><td>0.081955277</td></tr>\n",
       "</tbody>\n",
       "</table>\n"
      ],
      "text/latex": [
       "A data.table: 6 × 11\n",
       "\\begin{tabular}{lllllllllll}\n",
       " chr & pos & a1 & a2 & variant\\_ID & gene\\_ID & event\\_ID & cs\\_coverage\\_0.95 & cs\\_coverage\\_0.7 & cs\\_coverage\\_0.5 & PIP\\\\\n",
       " <int> & <int> & <chr> & <chr> & <chr> & <chr> & <chr> & <int> & <int> & <int> & <dbl>\\\\\n",
       "\\hline\n",
       "\t 1 & 161125043 & T & C & chr1:161125044:C:T & chr1\\_158933969\\_162352348 & AD\\_Bellenguez\\_2022 & 0 & 0 & 0 & 0.008041456\\\\\n",
       "\t 1 & 161128337 & T & C & chr1:161128338:C:T & chr1\\_158933969\\_162352348 & AD\\_Bellenguez\\_2022 & 0 & 0 & 0 & 0.005291926\\\\\n",
       "\t 1 & 161132099 & C & A & chr1:161132100:A:C & chr1\\_158933969\\_162352348 & AD\\_Bellenguez\\_2022 & 0 & 0 & 0 & 0.006715654\\\\\n",
       "\t 1 & 161133654 & G & T & chr1:161133655:T:G & chr1\\_158933969\\_162352348 & AD\\_Bellenguez\\_2022 & 0 & 0 & 0 & 0.068137617\\\\\n",
       "\t 1 & 161134668 & C & T & chr1:161134669:T:C & chr1\\_158933969\\_162352348 & AD\\_Bellenguez\\_2022 & 0 & 0 & 0 & 0.006325985\\\\\n",
       "\t 1 & 161136563 & G & T & chr1:161136564:T:G & chr1\\_158933969\\_162352348 & AD\\_Bellenguez\\_2022 & 0 & 0 & 0 & 0.081955277\\\\\n",
       "\\end{tabular}\n"
      ],
      "text/markdown": [
       "\n",
       "A data.table: 6 × 11\n",
       "\n",
       "| chr &lt;int&gt; | pos &lt;int&gt; | a1 &lt;chr&gt; | a2 &lt;chr&gt; | variant_ID &lt;chr&gt; | gene_ID &lt;chr&gt; | event_ID &lt;chr&gt; | cs_coverage_0.95 &lt;int&gt; | cs_coverage_0.7 &lt;int&gt; | cs_coverage_0.5 &lt;int&gt; | PIP &lt;dbl&gt; |\n",
       "|---|---|---|---|---|---|---|---|---|---|---|\n",
       "| 1 | 161125043 | T | C | chr1:161125044:C:T | chr1_158933969_162352348 | AD_Bellenguez_2022 | 0 | 0 | 0 | 0.008041456 |\n",
       "| 1 | 161128337 | T | C | chr1:161128338:C:T | chr1_158933969_162352348 | AD_Bellenguez_2022 | 0 | 0 | 0 | 0.005291926 |\n",
       "| 1 | 161132099 | C | A | chr1:161132100:A:C | chr1_158933969_162352348 | AD_Bellenguez_2022 | 0 | 0 | 0 | 0.006715654 |\n",
       "| 1 | 161133654 | G | T | chr1:161133655:T:G | chr1_158933969_162352348 | AD_Bellenguez_2022 | 0 | 0 | 0 | 0.068137617 |\n",
       "| 1 | 161134668 | C | T | chr1:161134669:T:C | chr1_158933969_162352348 | AD_Bellenguez_2022 | 0 | 0 | 0 | 0.006325985 |\n",
       "| 1 | 161136563 | G | T | chr1:161136564:T:G | chr1_158933969_162352348 | AD_Bellenguez_2022 | 0 | 0 | 0 | 0.081955277 |\n",
       "\n"
      ],
      "text/plain": [
       "  chr pos       a1 a2 variant_ID         gene_ID                 \n",
       "1 1   161125043 T  C  chr1:161125044:C:T chr1_158933969_162352348\n",
       "2 1   161128337 T  C  chr1:161128338:C:T chr1_158933969_162352348\n",
       "3 1   161132099 C  A  chr1:161132100:A:C chr1_158933969_162352348\n",
       "4 1   161133654 G  T  chr1:161133655:T:G chr1_158933969_162352348\n",
       "5 1   161134668 C  T  chr1:161134669:T:C chr1_158933969_162352348\n",
       "6 1   161136563 G  T  chr1:161136564:T:G chr1_158933969_162352348\n",
       "  event_ID           cs_coverage_0.95 cs_coverage_0.7 cs_coverage_0.5\n",
       "1 AD_Bellenguez_2022 0                0               0              \n",
       "2 AD_Bellenguez_2022 0                0               0              \n",
       "3 AD_Bellenguez_2022 0                0               0              \n",
       "4 AD_Bellenguez_2022 0                0               0              \n",
       "5 AD_Bellenguez_2022 0                0               0              \n",
       "6 AD_Bellenguez_2022 0                0               0              \n",
       "  PIP        \n",
       "1 0.008041456\n",
       "2 0.005291926\n",
       "3 0.006715654\n",
       "4 0.068137617\n",
       "5 0.006325985\n",
       "6 0.081955277"
      ]
     },
     "metadata": {},
     "output_type": "display_data"
    }
   ],
   "source": [
    "head(AD_finemap)"
   ]
  },
  {
   "cell_type": "code",
   "execution_count": 20,
   "id": "a258cb4d-d50c-4902-953f-a175bb7173e1",
   "metadata": {},
   "outputs": [
    {
     "data": {
      "text/html": [
       "<table class=\"dataframe\">\n",
       "<caption>A data.table: 6 × 11</caption>\n",
       "<thead>\n",
       "\t<tr><th scope=col>chr</th><th scope=col>pos</th><th scope=col>a1</th><th scope=col>a2</th><th scope=col>variant_ID</th><th scope=col>gene_ID</th><th scope=col>event_ID</th><th scope=col>cs_coverage_0.95</th><th scope=col>cs_coverage_0.7</th><th scope=col>cs_coverage_0.5</th><th scope=col>PIP</th></tr>\n",
       "\t<tr><th scope=col>&lt;int&gt;</th><th scope=col>&lt;int&gt;</th><th scope=col>&lt;chr&gt;</th><th scope=col>&lt;chr&gt;</th><th scope=col>&lt;chr&gt;</th><th scope=col>&lt;chr&gt;</th><th scope=col>&lt;chr&gt;</th><th scope=col>&lt;int&gt;</th><th scope=col>&lt;int&gt;</th><th scope=col>&lt;int&gt;</th><th scope=col>&lt;dbl&gt;</th></tr>\n",
       "</thead>\n",
       "<tbody>\n",
       "\t<tr><td>10</td><td>101427081</td><td>A</td><td>G</td><td>10:101427081:G:A</td><td>chr10_100331627_104378781</td><td>Longevity   </td><td>0</td><td>0</td><td>0</td><td>0.03063806</td></tr>\n",
       "\t<tr><td>10</td><td>101915653</td><td>A</td><td>T</td><td>10:101915653:T:A</td><td>chr10_100331627_104378781</td><td>Longevity   </td><td>0</td><td>0</td><td>0</td><td>0.04511331</td></tr>\n",
       "\t<tr><td>10</td><td>102177487</td><td>T</td><td>C</td><td>10:102177487:C:T</td><td>chr10_100331627_104378781</td><td>Telomere-pc1</td><td>0</td><td>3</td><td>3</td><td>0.94573799</td></tr>\n",
       "\t<tr><td>10</td><td>103713309</td><td>G</td><td>C</td><td>10:103713309:C:G</td><td>chr10_100331627_104378781</td><td>Telomere-pc2</td><td>0</td><td>0</td><td>0</td><td>0.02544373</td></tr>\n",
       "\t<tr><td>10</td><td>103713480</td><td>G</td><td>C</td><td>10:103713480:C:G</td><td>chr10_100331627_104378781</td><td>Telomere-pc2</td><td>0</td><td>0</td><td>0</td><td>0.02521516</td></tr>\n",
       "\t<tr><td>10</td><td>103824401</td><td>A</td><td>G</td><td>10:103824401:G:A</td><td>chr10_100331627_104378781</td><td>Longevity   </td><td>0</td><td>0</td><td>0</td><td>0.05641123</td></tr>\n",
       "</tbody>\n",
       "</table>\n"
      ],
      "text/latex": [
       "A data.table: 6 × 11\n",
       "\\begin{tabular}{lllllllllll}\n",
       " chr & pos & a1 & a2 & variant\\_ID & gene\\_ID & event\\_ID & cs\\_coverage\\_0.95 & cs\\_coverage\\_0.7 & cs\\_coverage\\_0.5 & PIP\\\\\n",
       " <int> & <int> & <chr> & <chr> & <chr> & <chr> & <chr> & <int> & <int> & <int> & <dbl>\\\\\n",
       "\\hline\n",
       "\t 10 & 101427081 & A & G & 10:101427081:G:A & chr10\\_100331627\\_104378781 & Longevity    & 0 & 0 & 0 & 0.03063806\\\\\n",
       "\t 10 & 101915653 & A & T & 10:101915653:T:A & chr10\\_100331627\\_104378781 & Longevity    & 0 & 0 & 0 & 0.04511331\\\\\n",
       "\t 10 & 102177487 & T & C & 10:102177487:C:T & chr10\\_100331627\\_104378781 & Telomere-pc1 & 0 & 3 & 3 & 0.94573799\\\\\n",
       "\t 10 & 103713309 & G & C & 10:103713309:C:G & chr10\\_100331627\\_104378781 & Telomere-pc2 & 0 & 0 & 0 & 0.02544373\\\\\n",
       "\t 10 & 103713480 & G & C & 10:103713480:C:G & chr10\\_100331627\\_104378781 & Telomere-pc2 & 0 & 0 & 0 & 0.02521516\\\\\n",
       "\t 10 & 103824401 & A & G & 10:103824401:G:A & chr10\\_100331627\\_104378781 & Longevity    & 0 & 0 & 0 & 0.05641123\\\\\n",
       "\\end{tabular}\n"
      ],
      "text/markdown": [
       "\n",
       "A data.table: 6 × 11\n",
       "\n",
       "| chr &lt;int&gt; | pos &lt;int&gt; | a1 &lt;chr&gt; | a2 &lt;chr&gt; | variant_ID &lt;chr&gt; | gene_ID &lt;chr&gt; | event_ID &lt;chr&gt; | cs_coverage_0.95 &lt;int&gt; | cs_coverage_0.7 &lt;int&gt; | cs_coverage_0.5 &lt;int&gt; | PIP &lt;dbl&gt; |\n",
       "|---|---|---|---|---|---|---|---|---|---|---|\n",
       "| 10 | 101427081 | A | G | 10:101427081:G:A | chr10_100331627_104378781 | Longevity    | 0 | 0 | 0 | 0.03063806 |\n",
       "| 10 | 101915653 | A | T | 10:101915653:T:A | chr10_100331627_104378781 | Longevity    | 0 | 0 | 0 | 0.04511331 |\n",
       "| 10 | 102177487 | T | C | 10:102177487:C:T | chr10_100331627_104378781 | Telomere-pc1 | 0 | 3 | 3 | 0.94573799 |\n",
       "| 10 | 103713309 | G | C | 10:103713309:C:G | chr10_100331627_104378781 | Telomere-pc2 | 0 | 0 | 0 | 0.02544373 |\n",
       "| 10 | 103713480 | G | C | 10:103713480:C:G | chr10_100331627_104378781 | Telomere-pc2 | 0 | 0 | 0 | 0.02521516 |\n",
       "| 10 | 103824401 | A | G | 10:103824401:G:A | chr10_100331627_104378781 | Longevity    | 0 | 0 | 0 | 0.05641123 |\n",
       "\n"
      ],
      "text/plain": [
       "  chr pos       a1 a2 variant_ID       gene_ID                   event_ID    \n",
       "1 10  101427081 A  G  10:101427081:G:A chr10_100331627_104378781 Longevity   \n",
       "2 10  101915653 A  T  10:101915653:T:A chr10_100331627_104378781 Longevity   \n",
       "3 10  102177487 T  C  10:102177487:C:T chr10_100331627_104378781 Telomere-pc1\n",
       "4 10  103713309 G  C  10:103713309:C:G chr10_100331627_104378781 Telomere-pc2\n",
       "5 10  103713480 G  C  10:103713480:C:G chr10_100331627_104378781 Telomere-pc2\n",
       "6 10  103824401 A  G  10:103824401:G:A chr10_100331627_104378781 Longevity   \n",
       "  cs_coverage_0.95 cs_coverage_0.7 cs_coverage_0.5 PIP       \n",
       "1 0                0               0               0.03063806\n",
       "2 0                0               0               0.04511331\n",
       "3 0                3               3               0.94573799\n",
       "4 0                0               0               0.02544373\n",
       "5 0                0               0               0.02521516\n",
       "6 0                0               0               0.05641123"
      ]
     },
     "metadata": {},
     "output_type": "display_data"
    }
   ],
   "source": [
    "head(TL_finemap)"
   ]
  },
  {
   "cell_type": "code",
   "execution_count": 21,
   "id": "ab74d52c-7a70-47ef-96b1-cadae6919c89",
   "metadata": {
    "vscode": {
     "languageId": "r"
    }
   },
   "outputs": [
    {
     "data": {
      "text/html": [
       "<table class=\"dataframe\">\n",
       "<caption>A data.table: 6 × 11</caption>\n",
       "<thead>\n",
       "\t<tr><th scope=col>chr</th><th scope=col>pos</th><th scope=col>a1</th><th scope=col>a2</th><th scope=col>variant_ID</th><th scope=col>gene_ID</th><th scope=col>event_ID</th><th scope=col>cs_coverage_0.95</th><th scope=col>cs_coverage_0.7</th><th scope=col>cs_coverage_0.5</th><th scope=col>PIP</th></tr>\n",
       "\t<tr><th scope=col>&lt;int&gt;</th><th scope=col>&lt;int&gt;</th><th scope=col>&lt;chr&gt;</th><th scope=col>&lt;chr&gt;</th><th scope=col>&lt;chr&gt;</th><th scope=col>&lt;chr&gt;</th><th scope=col>&lt;chr&gt;</th><th scope=col>&lt;int&gt;</th><th scope=col>&lt;int&gt;</th><th scope=col>&lt;int&gt;</th><th scope=col>&lt;dbl&gt;</th></tr>\n",
       "</thead>\n",
       "<tbody>\n",
       "\t<tr><td>1</td><td>161125043</td><td>T</td><td>C</td><td>chr1:161125044:C:T</td><td>chr1_158933969_162352348</td><td>AD_Bellenguez_2022</td><td>0</td><td>0</td><td>0</td><td>0.008041456</td></tr>\n",
       "\t<tr><td>1</td><td>161128337</td><td>T</td><td>C</td><td>chr1:161128338:C:T</td><td>chr1_158933969_162352348</td><td>AD_Bellenguez_2022</td><td>0</td><td>0</td><td>0</td><td>0.005291926</td></tr>\n",
       "\t<tr><td>1</td><td>161132099</td><td>C</td><td>A</td><td>chr1:161132100:A:C</td><td>chr1_158933969_162352348</td><td>AD_Bellenguez_2022</td><td>0</td><td>0</td><td>0</td><td>0.006715654</td></tr>\n",
       "\t<tr><td>1</td><td>161133654</td><td>G</td><td>T</td><td>chr1:161133655:T:G</td><td>chr1_158933969_162352348</td><td>AD_Bellenguez_2022</td><td>0</td><td>0</td><td>0</td><td>0.068137617</td></tr>\n",
       "\t<tr><td>1</td><td>161134668</td><td>C</td><td>T</td><td>chr1:161134669:T:C</td><td>chr1_158933969_162352348</td><td>AD_Bellenguez_2022</td><td>0</td><td>0</td><td>0</td><td>0.006325985</td></tr>\n",
       "\t<tr><td>1</td><td>161136563</td><td>G</td><td>T</td><td>chr1:161136564:T:G</td><td>chr1_158933969_162352348</td><td>AD_Bellenguez_2022</td><td>0</td><td>0</td><td>0</td><td>0.081955277</td></tr>\n",
       "</tbody>\n",
       "</table>\n"
      ],
      "text/latex": [
       "A data.table: 6 × 11\n",
       "\\begin{tabular}{lllllllllll}\n",
       " chr & pos & a1 & a2 & variant\\_ID & gene\\_ID & event\\_ID & cs\\_coverage\\_0.95 & cs\\_coverage\\_0.7 & cs\\_coverage\\_0.5 & PIP\\\\\n",
       " <int> & <int> & <chr> & <chr> & <chr> & <chr> & <chr> & <int> & <int> & <int> & <dbl>\\\\\n",
       "\\hline\n",
       "\t 1 & 161125043 & T & C & chr1:161125044:C:T & chr1\\_158933969\\_162352348 & AD\\_Bellenguez\\_2022 & 0 & 0 & 0 & 0.008041456\\\\\n",
       "\t 1 & 161128337 & T & C & chr1:161128338:C:T & chr1\\_158933969\\_162352348 & AD\\_Bellenguez\\_2022 & 0 & 0 & 0 & 0.005291926\\\\\n",
       "\t 1 & 161132099 & C & A & chr1:161132100:A:C & chr1\\_158933969\\_162352348 & AD\\_Bellenguez\\_2022 & 0 & 0 & 0 & 0.006715654\\\\\n",
       "\t 1 & 161133654 & G & T & chr1:161133655:T:G & chr1\\_158933969\\_162352348 & AD\\_Bellenguez\\_2022 & 0 & 0 & 0 & 0.068137617\\\\\n",
       "\t 1 & 161134668 & C & T & chr1:161134669:T:C & chr1\\_158933969\\_162352348 & AD\\_Bellenguez\\_2022 & 0 & 0 & 0 & 0.006325985\\\\\n",
       "\t 1 & 161136563 & G & T & chr1:161136564:T:G & chr1\\_158933969\\_162352348 & AD\\_Bellenguez\\_2022 & 0 & 0 & 0 & 0.081955277\\\\\n",
       "\\end{tabular}\n"
      ],
      "text/markdown": [
       "\n",
       "A data.table: 6 × 11\n",
       "\n",
       "| chr &lt;int&gt; | pos &lt;int&gt; | a1 &lt;chr&gt; | a2 &lt;chr&gt; | variant_ID &lt;chr&gt; | gene_ID &lt;chr&gt; | event_ID &lt;chr&gt; | cs_coverage_0.95 &lt;int&gt; | cs_coverage_0.7 &lt;int&gt; | cs_coverage_0.5 &lt;int&gt; | PIP &lt;dbl&gt; |\n",
       "|---|---|---|---|---|---|---|---|---|---|---|\n",
       "| 1 | 161125043 | T | C | chr1:161125044:C:T | chr1_158933969_162352348 | AD_Bellenguez_2022 | 0 | 0 | 0 | 0.008041456 |\n",
       "| 1 | 161128337 | T | C | chr1:161128338:C:T | chr1_158933969_162352348 | AD_Bellenguez_2022 | 0 | 0 | 0 | 0.005291926 |\n",
       "| 1 | 161132099 | C | A | chr1:161132100:A:C | chr1_158933969_162352348 | AD_Bellenguez_2022 | 0 | 0 | 0 | 0.006715654 |\n",
       "| 1 | 161133654 | G | T | chr1:161133655:T:G | chr1_158933969_162352348 | AD_Bellenguez_2022 | 0 | 0 | 0 | 0.068137617 |\n",
       "| 1 | 161134668 | C | T | chr1:161134669:T:C | chr1_158933969_162352348 | AD_Bellenguez_2022 | 0 | 0 | 0 | 0.006325985 |\n",
       "| 1 | 161136563 | G | T | chr1:161136564:T:G | chr1_158933969_162352348 | AD_Bellenguez_2022 | 0 | 0 | 0 | 0.081955277 |\n",
       "\n"
      ],
      "text/plain": [
       "  chr pos       a1 a2 variant_ID         gene_ID                 \n",
       "1 1   161125043 T  C  chr1:161125044:C:T chr1_158933969_162352348\n",
       "2 1   161128337 T  C  chr1:161128338:C:T chr1_158933969_162352348\n",
       "3 1   161132099 C  A  chr1:161132100:A:C chr1_158933969_162352348\n",
       "4 1   161133654 G  T  chr1:161133655:T:G chr1_158933969_162352348\n",
       "5 1   161134668 C  T  chr1:161134669:T:C chr1_158933969_162352348\n",
       "6 1   161136563 G  T  chr1:161136564:T:G chr1_158933969_162352348\n",
       "  event_ID           cs_coverage_0.95 cs_coverage_0.7 cs_coverage_0.5\n",
       "1 AD_Bellenguez_2022 0                0               0              \n",
       "2 AD_Bellenguez_2022 0                0               0              \n",
       "3 AD_Bellenguez_2022 0                0               0              \n",
       "4 AD_Bellenguez_2022 0                0               0              \n",
       "5 AD_Bellenguez_2022 0                0               0              \n",
       "6 AD_Bellenguez_2022 0                0               0              \n",
       "  PIP        \n",
       "1 0.008041456\n",
       "2 0.005291926\n",
       "3 0.006715654\n",
       "4 0.068137617\n",
       "5 0.006325985\n",
       "6 0.081955277"
      ]
     },
     "metadata": {},
     "output_type": "display_data"
    },
    {
     "data": {
      "text/html": [
       "<style>\n",
       ".list-inline {list-style: none; margin:0; padding: 0}\n",
       ".list-inline>li {display: inline-block}\n",
       ".list-inline>li:not(:last-child)::after {content: \"\\00b7\"; padding: 0 .5ex}\n",
       "</style>\n",
       "<ol class=list-inline><li>41508</li><li>11</li></ol>\n"
      ],
      "text/latex": [
       "\\begin{enumerate*}\n",
       "\\item 41508\n",
       "\\item 11\n",
       "\\end{enumerate*}\n"
      ],
      "text/markdown": [
       "1. 41508\n",
       "2. 11\n",
       "\n",
       "\n"
      ],
      "text/plain": [
       "[1] 41508    11"
      ]
     },
     "metadata": {},
     "output_type": "display_data"
    }
   ],
   "source": [
    "image_finemap <- fread(\"~/project/image_QTL/DNE_cb_explained_by_xQTL/AI_IMAGE.hg38_all_blocks_with_MS.toploci.bed.gz\") |> select(-cs_coverage_0.95_purity0.5, -cs_coverage_0.7_purity0.5, -cs_coverage_0.5_purity0.5, -region_id,-finemap_model) |> filter(str_detect(event_ID, \"image_\"))\n",
    "all_gwas_finemap = rbind(AD_finemap, TL_finemap, mvAge_PD_finemap)\n",
    "head(all_gwas_finemap)\n",
    "dim(all_gwas_finemap)"
   ]
  },
  {
   "cell_type": "code",
   "execution_count": 22,
   "id": "5606c1d5-1d0b-45bc-bce1-a9ff6dc6e1f0",
   "metadata": {},
   "outputs": [],
   "source": [
    "all_gwas_finemap_95 = all_gwas_finemap |> filter(cs_coverage_0.95 > 0)"
   ]
  },
  {
   "cell_type": "code",
   "execution_count": 23,
   "id": "b411745d-acb9-44c8-a439-a734610524d1",
   "metadata": {},
   "outputs": [
    {
     "data": {
      "text/html": [
       "<table class=\"dataframe\">\n",
       "<caption>A tibble: 6 × 2</caption>\n",
       "<thead>\n",
       "\t<tr><th scope=col>event_ID</th><th scope=col>count</th></tr>\n",
       "\t<tr><th scope=col>&lt;chr&gt;</th><th scope=col>&lt;int&gt;</th></tr>\n",
       "</thead>\n",
       "<tbody>\n",
       "\t<tr><td>AD_Bellenguez_2022               </td><td>3682</td></tr>\n",
       "\t<tr><td>AD_Bellenguez_EADB_2022          </td><td>3486</td></tr>\n",
       "\t<tr><td>AD_Bellenguez_EADI_2022          </td><td>3981</td></tr>\n",
       "\t<tr><td>AD_Jansen_2021                   </td><td>1310</td></tr>\n",
       "\t<tr><td>AD_Kunkle_Stage1_2019            </td><td> 669</td></tr>\n",
       "\t<tr><td>AD_Wightman_Excluding23andMe_2021</td><td>3852</td></tr>\n",
       "</tbody>\n",
       "</table>\n"
      ],
      "text/latex": [
       "A tibble: 6 × 2\n",
       "\\begin{tabular}{ll}\n",
       " event\\_ID & count\\\\\n",
       " <chr> & <int>\\\\\n",
       "\\hline\n",
       "\t AD\\_Bellenguez\\_2022                & 3682\\\\\n",
       "\t AD\\_Bellenguez\\_EADB\\_2022           & 3486\\\\\n",
       "\t AD\\_Bellenguez\\_EADI\\_2022           & 3981\\\\\n",
       "\t AD\\_Jansen\\_2021                    & 1310\\\\\n",
       "\t AD\\_Kunkle\\_Stage1\\_2019             &  669\\\\\n",
       "\t AD\\_Wightman\\_Excluding23andMe\\_2021 & 3852\\\\\n",
       "\\end{tabular}\n"
      ],
      "text/markdown": [
       "\n",
       "A tibble: 6 × 2\n",
       "\n",
       "| event_ID &lt;chr&gt; | count &lt;int&gt; |\n",
       "|---|---|\n",
       "| AD_Bellenguez_2022                | 3682 |\n",
       "| AD_Bellenguez_EADB_2022           | 3486 |\n",
       "| AD_Bellenguez_EADI_2022           | 3981 |\n",
       "| AD_Jansen_2021                    | 1310 |\n",
       "| AD_Kunkle_Stage1_2019             |  669 |\n",
       "| AD_Wightman_Excluding23andMe_2021 | 3852 |\n",
       "\n"
      ],
      "text/plain": [
       "  event_ID                          count\n",
       "1 AD_Bellenguez_2022                3682 \n",
       "2 AD_Bellenguez_EADB_2022           3486 \n",
       "3 AD_Bellenguez_EADI_2022           3981 \n",
       "4 AD_Jansen_2021                    1310 \n",
       "5 AD_Kunkle_Stage1_2019              669 \n",
       "6 AD_Wightman_Excluding23andMe_2021 3852 "
      ]
     },
     "metadata": {},
     "output_type": "display_data"
    },
    {
     "data": {
      "text/html": [
       "<table class=\"dataframe\">\n",
       "<caption>A tibble: 6 × 2</caption>\n",
       "<thead>\n",
       "\t<tr><th scope=col>event_ID</th><th scope=col>count</th></tr>\n",
       "\t<tr><th scope=col>&lt;chr&gt;</th><th scope=col>&lt;int&gt;</th></tr>\n",
       "</thead>\n",
       "<tbody>\n",
       "\t<tr><td>AD_Bellenguez_2022               </td><td>1240</td></tr>\n",
       "\t<tr><td>AD_Bellenguez_EADB_2022          </td><td> 196</td></tr>\n",
       "\t<tr><td>AD_Bellenguez_EADI_2022          </td><td>  11</td></tr>\n",
       "\t<tr><td>AD_Jansen_2021                   </td><td> 192</td></tr>\n",
       "\t<tr><td>AD_Kunkle_Stage1_2019            </td><td>  61</td></tr>\n",
       "\t<tr><td>AD_Wightman_Excluding23andMe_2021</td><td> 285</td></tr>\n",
       "</tbody>\n",
       "</table>\n"
      ],
      "text/latex": [
       "A tibble: 6 × 2\n",
       "\\begin{tabular}{ll}\n",
       " event\\_ID & count\\\\\n",
       " <chr> & <int>\\\\\n",
       "\\hline\n",
       "\t AD\\_Bellenguez\\_2022                & 1240\\\\\n",
       "\t AD\\_Bellenguez\\_EADB\\_2022           &  196\\\\\n",
       "\t AD\\_Bellenguez\\_EADI\\_2022           &   11\\\\\n",
       "\t AD\\_Jansen\\_2021                    &  192\\\\\n",
       "\t AD\\_Kunkle\\_Stage1\\_2019             &   61\\\\\n",
       "\t AD\\_Wightman\\_Excluding23andMe\\_2021 &  285\\\\\n",
       "\\end{tabular}\n"
      ],
      "text/markdown": [
       "\n",
       "A tibble: 6 × 2\n",
       "\n",
       "| event_ID &lt;chr&gt; | count &lt;int&gt; |\n",
       "|---|---|\n",
       "| AD_Bellenguez_2022                | 1240 |\n",
       "| AD_Bellenguez_EADB_2022           |  196 |\n",
       "| AD_Bellenguez_EADI_2022           |   11 |\n",
       "| AD_Jansen_2021                    |  192 |\n",
       "| AD_Kunkle_Stage1_2019             |   61 |\n",
       "| AD_Wightman_Excluding23andMe_2021 |  285 |\n",
       "\n"
      ],
      "text/plain": [
       "  event_ID                          count\n",
       "1 AD_Bellenguez_2022                1240 \n",
       "2 AD_Bellenguez_EADB_2022            196 \n",
       "3 AD_Bellenguez_EADI_2022             11 \n",
       "4 AD_Jansen_2021                     192 \n",
       "5 AD_Kunkle_Stage1_2019               61 \n",
       "6 AD_Wightman_Excluding23andMe_2021  285 "
      ]
     },
     "metadata": {},
     "output_type": "display_data"
    }
   ],
   "source": [
    "plot_data  = all_gwas_finemap |> group_by(event_ID) |> summarize(count = n())\n",
    "plot_data_95  = all_gwas_finemap_95 |> group_by(event_ID) |> summarize(count = n())\n",
    "head(plot_data)\n",
    "head(plot_data_95)\n",
    "\n",
    "pcount_finemap = plot_data |>\n",
    "  ggplot(aes(x = event_ID, y = count)) +\n",
    "  geom_col(fill = \"#2E86C1\") +\n",
    "  labs(\n",
    "    title = \"Variant Counts from Finemapping by Trait\",\n",
    "    x = \"Trait\",\n",
    "    y = \"Counts\"\n",
    "  ) +\n",
    "  theme_minimal() +\n",
    "  theme(\n",
    "    axis.text.x = element_text(angle = 45, hjust = 1, size = 9),\n",
    "    plot.title = element_text(hjust = 0.5, size = 14, face = \"bold\"),\n",
    "    legend.position = \"top\",\n",
    "    plot.margin = margin(10, 10, 10, 50)\n",
    "  ) +\n",
    "  coord_cartesian(ylim = c(0, 4000))\n",
    "\n",
    "pcount_finemap_95 = plot_data_95 |>\n",
    "  ggplot(aes(x = event_ID, y = count)) +\n",
    "  geom_col(fill = \"#2E86C1\") +\n",
    "  labs(\n",
    "    title = \"Variant Counts from Finemapping by Trait\",\n",
    "    x = \"Trait\",\n",
    "    y = \"Counts\"\n",
    "  ) +\n",
    "  theme_minimal() +\n",
    "  theme(\n",
    "    axis.text.x = element_text(angle = 45, hjust = 1, size = 9),\n",
    "    plot.title = element_text(hjust = 0.5, size = 14, face = \"bold\"),\n",
    "    legend.position = \"top\",\n",
    "    plot.margin = margin(10, 10, 10, 50)\n",
    "  ) +\n",
    "  coord_cartesian(ylim = c(0, 4000))\n",
    "\n",
    "# Optional: Save the plots\n",
    "ggsave(\"Histogram_all_finemap_variant_count.png\", plot = pcount_finemap, width = 10, height = 6, dpi = 300)\n",
    "ggsave(\"Histogram_all_finemap_variant_count_0.95.png\", plot = pcount_finemap_95, width = 10, height = 6, dpi = 300)"
   ]
  },
  {
   "cell_type": "code",
   "execution_count": 24,
   "id": "94c9a890-0308-49f1-beb8-64168945c47c",
   "metadata": {},
   "outputs": [
    {
     "data": {
      "image/png": "[encoded data removed]",
      "text/plain": [
       "plot without title"
      ]
     },
     "metadata": {
      "image/png": {
       "height": 420,
       "width": 420
      }
     },
     "output_type": "display_data"
    },
    {
     "data": {
      "image/png": "[encoded data removed]",
      "text/plain": [
       "plot without title"
      ]
     },
     "metadata": {
      "image/png": {
       "height": 420,
       "width": 420
      }
     },
     "output_type": "display_data"
    }
   ],
   "source": [
    "pcount_finemap\n",
    "pcount_finemap_95"
   ]
  },
  {
   "cell_type": "markdown",
   "id": "54724e59-5dd9-4c5c-8542-1514f86dc20e",
   "metadata": {},
   "source": [
    "### Upset gene plot"
   ]
  },
  {
   "cell_type": "code",
   "execution_count": 27,
   "id": "0c5206bc-2d67-4ba8-899e-5a740a241b8f",
   "metadata": {},
   "outputs": [],
   "source": [
    "library(dplyr)"
   ]
  },
  {
   "cell_type": "code",
   "execution_count": 3,
   "id": "ec23c46b-cb73-4304-bfd4-9b163b7cc7f6",
   "metadata": {},
   "outputs": [
    {
     "data": {
      "text/html": [
       "<table class=\"dataframe\">\n",
       "<caption>A data.table: 6 × 7</caption>\n",
       "<thead>\n",
       "\t<tr><th scope=col>#chr</th><th scope=col>start</th><th scope=col>end</th><th scope=col>gene_id</th><th scope=col>source</th><th scope=col>gene_name</th><th scope=col>event_id</th></tr>\n",
       "\t<tr><th scope=col>&lt;chr&gt;</th><th scope=col>&lt;int&gt;</th><th scope=col>&lt;int&gt;</th><th scope=col>&lt;chr&gt;</th><th scope=col>&lt;chr&gt;</th><th scope=col>&lt;chr&gt;</th><th scope=col>&lt;chr&gt;</th></tr>\n",
       "</thead>\n",
       "<tbody>\n",
       "\t<tr><td>chr14</td><td> 99238297</td><td>101760000</td><td>ENSG00000100811</td><td>TWAS</td><td>YY1  </td><td>image_AD1</td></tr>\n",
       "\t<tr><td>chr20</td><td> 34433347</td><td> 37080000</td><td>ENSG00000125965</td><td>TWAS</td><td>GDF5 </td><td>image_AD1</td></tr>\n",
       "\t<tr><td>chr3 </td><td> 46413681</td><td> 50320000</td><td>ENSG00000114650</td><td>TWAS</td><td>SCAP </td><td>image_AD1</td></tr>\n",
       "\t<tr><td>chr8 </td><td>  9840000</td><td> 12600000</td><td>ENSG00000104643</td><td>TWAS</td><td>MTMR9</td><td>image_AD1</td></tr>\n",
       "\t<tr><td>chr10</td><td>101673731</td><td>103714397</td><td>ENSG00000138175</td><td>TWAS</td><td>ARL3 </td><td>image_AD1</td></tr>\n",
       "\t<tr><td>chr10</td><td>101644478</td><td>103680000</td><td>ENSG00000171206</td><td>TWAS</td><td>TRIM8</td><td>image_AD1</td></tr>\n",
       "</tbody>\n",
       "</table>\n"
      ],
      "text/latex": [
       "A data.table: 6 × 7\n",
       "\\begin{tabular}{lllllll}\n",
       " \\#chr & start & end & gene\\_id & source & gene\\_name & event\\_id\\\\\n",
       " <chr> & <int> & <int> & <chr> & <chr> & <chr> & <chr>\\\\\n",
       "\\hline\n",
       "\t chr14 &  99238297 & 101760000 & ENSG00000100811 & TWAS & YY1   & image\\_AD1\\\\\n",
       "\t chr20 &  34433347 &  37080000 & ENSG00000125965 & TWAS & GDF5  & image\\_AD1\\\\\n",
       "\t chr3  &  46413681 &  50320000 & ENSG00000114650 & TWAS & SCAP  & image\\_AD1\\\\\n",
       "\t chr8  &   9840000 &  12600000 & ENSG00000104643 & TWAS & MTMR9 & image\\_AD1\\\\\n",
       "\t chr10 & 101673731 & 103714397 & ENSG00000138175 & TWAS & ARL3  & image\\_AD1\\\\\n",
       "\t chr10 & 101644478 & 103680000 & ENSG00000171206 & TWAS & TRIM8 & image\\_AD1\\\\\n",
       "\\end{tabular}\n"
      ],
      "text/markdown": [
       "\n",
       "A data.table: 6 × 7\n",
       "\n",
       "| #chr &lt;chr&gt; | start &lt;int&gt; | end &lt;int&gt; | gene_id &lt;chr&gt; | source &lt;chr&gt; | gene_name &lt;chr&gt; | event_id &lt;chr&gt; |\n",
       "|---|---|---|---|---|---|---|\n",
       "| chr14 |  99238297 | 101760000 | ENSG00000100811 | TWAS | YY1   | image_AD1 |\n",
       "| chr20 |  34433347 |  37080000 | ENSG00000125965 | TWAS | GDF5  | image_AD1 |\n",
       "| chr3  |  46413681 |  50320000 | ENSG00000114650 | TWAS | SCAP  | image_AD1 |\n",
       "| chr8  |   9840000 |  12600000 | ENSG00000104643 | TWAS | MTMR9 | image_AD1 |\n",
       "| chr10 | 101673731 | 103714397 | ENSG00000138175 | TWAS | ARL3  | image_AD1 |\n",
       "| chr10 | 101644478 | 103680000 | ENSG00000171206 | TWAS | TRIM8 | image_AD1 |\n",
       "\n"
      ],
      "text/plain": [
       "  #chr  start     end       gene_id         source gene_name event_id \n",
       "1 chr14  99238297 101760000 ENSG00000100811 TWAS   YY1       image_AD1\n",
       "2 chr20  34433347  37080000 ENSG00000125965 TWAS   GDF5      image_AD1\n",
       "3 chr3   46413681  50320000 ENSG00000114650 TWAS   SCAP      image_AD1\n",
       "4 chr8    9840000  12600000 ENSG00000104643 TWAS   MTMR9     image_AD1\n",
       "5 chr10 101673731 103714397 ENSG00000138175 TWAS   ARL3      image_AD1\n",
       "6 chr10 101644478 103680000 ENSG00000171206 TWAS   TRIM8     image_AD1"
      ]
     },
     "metadata": {},
     "output_type": "display_data"
    }
   ],
   "source": [
    "ctwas_gene = fread(\"~/xqtl-analysis/production/image_QTL/interested_genes/TWAS_QTL/TWAS_QTL_gene_list.tsv\")\n",
    "head(ctwas_gene)"
   ]
  },
  {
   "cell_type": "code",
   "execution_count": 72,
   "id": "59c05e3f-fbd6-4bee-9182-a29280dda0ff",
   "metadata": {},
   "outputs": [
    {
     "data": {
      "text/html": [
       "<table class=\"dataframe\">\n",
       "<caption>A data.frame: 6 × 9</caption>\n",
       "<thead>\n",
       "\t<tr><th></th><th scope=col>AD1</th><th scope=col>AD2</th><th scope=col>Aging1</th><th scope=col>Aging2</th><th scope=col>Aging3</th><th scope=col>Aging4</th><th scope=col>Aging5</th><th scope=col>AD</th><th scope=col>Telomere_Length_PC1</th></tr>\n",
       "\t<tr><th></th><th scope=col>&lt;dbl&gt;</th><th scope=col>&lt;dbl&gt;</th><th scope=col>&lt;dbl&gt;</th><th scope=col>&lt;dbl&gt;</th><th scope=col>&lt;dbl&gt;</th><th scope=col>&lt;dbl&gt;</th><th scope=col>&lt;dbl&gt;</th><th scope=col>&lt;dbl&gt;</th><th scope=col>&lt;dbl&gt;</th></tr>\n",
       "</thead>\n",
       "<tbody>\n",
       "\t<tr><th scope=row>AADAT</th><td>0</td><td>0</td><td>0</td><td>0</td><td>0</td><td>0</td><td>0</td><td>1</td><td>1</td></tr>\n",
       "\t<tr><th scope=row>AAK1</th><td>0</td><td>0</td><td>0</td><td>0</td><td>0</td><td>0</td><td>0</td><td>1</td><td>1</td></tr>\n",
       "\t<tr><th scope=row>ABCB9</th><td>0</td><td>0</td><td>0</td><td>0</td><td>0</td><td>0</td><td>0</td><td>1</td><td>1</td></tr>\n",
       "\t<tr><th scope=row>ABCG2</th><td>0</td><td>0</td><td>0</td><td>0</td><td>0</td><td>0</td><td>0</td><td>1</td><td>1</td></tr>\n",
       "\t<tr><th scope=row>ABHD12</th><td>0</td><td>0</td><td>0</td><td>0</td><td>0</td><td>0</td><td>0</td><td>1</td><td>1</td></tr>\n",
       "\t<tr><th scope=row>ABHD3</th><td>0</td><td>0</td><td>0</td><td>0</td><td>0</td><td>0</td><td>0</td><td>1</td><td>1</td></tr>\n",
       "</tbody>\n",
       "</table>\n"
      ],
      "text/latex": [
       "A data.frame: 6 × 9\n",
       "\\begin{tabular}{r|lllllllll}\n",
       "  & AD1 & AD2 & Aging1 & Aging2 & Aging3 & Aging4 & Aging5 & AD & Telomere\\_Length\\_PC1\\\\\n",
       "  & <dbl> & <dbl> & <dbl> & <dbl> & <dbl> & <dbl> & <dbl> & <dbl> & <dbl>\\\\\n",
       "\\hline\n",
       "\tAADAT & 0 & 0 & 0 & 0 & 0 & 0 & 0 & 1 & 1\\\\\n",
       "\tAAK1 & 0 & 0 & 0 & 0 & 0 & 0 & 0 & 1 & 1\\\\\n",
       "\tABCB9 & 0 & 0 & 0 & 0 & 0 & 0 & 0 & 1 & 1\\\\\n",
       "\tABCG2 & 0 & 0 & 0 & 0 & 0 & 0 & 0 & 1 & 1\\\\\n",
       "\tABHD12 & 0 & 0 & 0 & 0 & 0 & 0 & 0 & 1 & 1\\\\\n",
       "\tABHD3 & 0 & 0 & 0 & 0 & 0 & 0 & 0 & 1 & 1\\\\\n",
       "\\end{tabular}\n"
      ],
      "text/markdown": [
       "\n",
       "A data.frame: 6 × 9\n",
       "\n",
       "| <!--/--> | AD1 &lt;dbl&gt; | AD2 &lt;dbl&gt; | Aging1 &lt;dbl&gt; | Aging2 &lt;dbl&gt; | Aging3 &lt;dbl&gt; | Aging4 &lt;dbl&gt; | Aging5 &lt;dbl&gt; | AD &lt;dbl&gt; | Telomere_Length_PC1 &lt;dbl&gt; |\n",
       "|---|---|---|---|---|---|---|---|---|---|\n",
       "| AADAT | 0 | 0 | 0 | 0 | 0 | 0 | 0 | 1 | 1 |\n",
       "| AAK1 | 0 | 0 | 0 | 0 | 0 | 0 | 0 | 1 | 1 |\n",
       "| ABCB9 | 0 | 0 | 0 | 0 | 0 | 0 | 0 | 1 | 1 |\n",
       "| ABCG2 | 0 | 0 | 0 | 0 | 0 | 0 | 0 | 1 | 1 |\n",
       "| ABHD12 | 0 | 0 | 0 | 0 | 0 | 0 | 0 | 1 | 1 |\n",
       "| ABHD3 | 0 | 0 | 0 | 0 | 0 | 0 | 0 | 1 | 1 |\n",
       "\n"
      ],
      "text/plain": [
       "       AD1 AD2 Aging1 Aging2 Aging3 Aging4 Aging5 AD Telomere_Length_PC1\n",
       "AADAT  0   0   0      0      0      0      0      1  1                  \n",
       "AAK1   0   0   0      0      0      0      0      1  1                  \n",
       "ABCB9  0   0   0      0      0      0      0      1  1                  \n",
       "ABCG2  0   0   0      0      0      0      0      1  1                  \n",
       "ABHD12 0   0   0      0      0      0      0      1  1                  \n",
       "ABHD3  0   0   0      0      0      0      0      1  1                  "
      ]
     },
     "metadata": {},
     "output_type": "display_data"
    }
   ],
   "source": [
    "head(upset_r_data_shared)"
   ]
  },
  {
   "cell_type": "code",
   "execution_count": 4,
   "id": "cc38d4d4-07d8-4cb2-974b-be5b56b167b5",
   "metadata": {},
   "outputs": [],
   "source": [
    "AD1 = ctwas_gene |> filter(str_detect(event_id,\"image_AD1\"))\n",
    "AD2 = ctwas_gene |> filter(str_detect(event_id,\"image_AD2\"))\n",
    "Aging1 = ctwas_gene |> filter(str_detect(event_id,\"image_Aging1\"))\n",
    "Aging2 = ctwas_gene |> filter(str_detect(event_id,\"image_Aging2\"))\n",
    "Aging3 = ctwas_gene |> filter(str_detect(event_id,\"image_Aging3\"))\n",
    "Aging4 = ctwas_gene |> filter(str_detect(event_id,\"image_Aging4\"))\n",
    "Aging5 = ctwas_gene |> filter(str_detect(event_id,\"image_Aging5\"))\n",
    "TL1 = fread(\"~/xqtl-analysis/production/image_QTL/interested_genes/TWAS_QTL/TL1_mr_gene_list.gene_list.tsv\")\n",
    "AD = fread(\"~/xqtl-analysis/production/image_QTL/interested_genes/TWAS_QTL/AD_mr_gene_list.gene_list.tsv\")\n",
    "\n",
    "\n",
    "Aging1_gene = Aging1$gene_name |> unique()\n",
    "\n",
    "Aging2_gene = Aging2$gene_name|> unique()\n",
    "\n",
    "Aging3_gene = Aging3$gene_name|> unique()\n",
    "\n",
    "Aging4_gene = Aging4$gene_name|> unique()\n",
    "\n",
    "Aging5_gene = Aging5$gene_name|> unique()\n",
    "TL1_gene = TL1$gene_name|> unique()\n",
    "AD_gene = AD$gene_name|> unique()\n",
    "\n",
    "\n",
    "AD1_gene = AD1$gene_name|> unique()\n",
    "AD2_gene = AD2$gene_name|> unique()\n"
   ]
  },
  {
   "cell_type": "code",
   "execution_count": 18,
   "id": "8af099c1-4368-48a2-b115-342a4bd85e77",
   "metadata": {},
   "outputs": [
    {
     "name": "stdout",
     "output_type": "stream",
     "text": [
      "Total unique genes: 7707 \n",
      "Shared genes (in ≥2 sets): 1512 \n",
      "List of 9\n",
      " $ AD1                : chr [1:42] \"GDF5\" \"SCAP\" \"ARL3\" \"TRIM8\" ...\n",
      " $ AD2                : chr [1:79] \"LEMD3\" \"XPOT\" \"GDF5\" \"ECEL1\" ...\n",
      " $ Aging1             : chr [1:77] \"NFATC2IP\" \"TUFM\" \"CLN3\" \"SULT1A1\" ...\n",
      " $ Aging2             : chr [1:62] \"TESC\" \"LEMD3\" \"XPOT\" \"YPEL3\" ...\n",
      " $ Aging3             : chr [1:51] \"SPTBN1\" \"GDPD3\" \"CENPW\" \"ARID4A\" ...\n",
      " $ Aging4             : chr [1:31] \"PM20D1\" \"KPNA2\" \"UPK1A\" \"CFAP74\" ...\n",
      " $ Aging5             : chr [1:97] \"CNNM2\" \"AS3MT\" \"CAPN12\" \"TMCC2\" ...\n",
      " $ AD                 : chr [1:1385] \"AGRN\" \"C1orf159\" \"CFAP74\" \"PRKCZ\" ...\n",
      " $ Telomere_Length_PC1: chr [1:1344] \"AGRN\" \"C1orf159\" \"ARHGEF16\" \"MEGF6\" ...\n",
      "Range of intersection sizes: 2 to 5 \n",
      "Intersections below 100: 1512 \n",
      "Intersections above 1000: 0 \n",
      "Intersections between 100-1000: 0 \n",
      "\n",
      "=== Creating plot for small intersections (< 100) ===\n"
     ]
    },
    {
     "name": "stderr",
     "output_type": "stream",
     "text": [
      "Warning message:\n",
      "“\u001b[1m\u001b[22mRemoved 1 row containing missing values or values outside the scale range\n",
      "(`geom_bar()`).”\n",
      "Warning message:\n",
      "“\u001b[1m\u001b[22mRemoved 1 row containing missing values or values outside the scale range\n",
      "(`geom_text()`).”\n"
     ]
    },
    {
     "name": "stdout",
     "output_type": "stream",
     "text": [
      "Small intersections plot created successfully\n",
      "\n",
      "Shared genes found:\n",
      " [1] \"AADAT\"      \"AAK1\"       \"ABCB9\"      \"ABCG2\"      \"ABHD12\"    \n",
      " [6] \"ABHD3\"      \"AC002310.4\" \"AC003002.2\" \"AC003688.1\" \"AC004687.2\"\n",
      "[11] \"AC006254.1\" \"AC007375.2\" \"AC008695.1\" \"AC025165.3\" \"AC026786.1\"\n",
      "[16] \"AC068234.1\" \"AC069368.1\" \"AC078815.1\" \"AC079447.1\" \"AC079594.1\"\n"
     ]
    }
   ],
   "source": [
    "library(UpSetR)\n",
    "\n",
    "# Create named list of gene sets\n",
    "gene_sets <- list(\n",
    "  \"AD1\" = AD1_gene,\n",
    "  \"AD2\" = AD2_gene, \n",
    "  \"Aging1\" = Aging1_gene,\n",
    "  \"Aging2\" = Aging2_gene,\n",
    "  \"Aging3\" = Aging3_gene,\n",
    "  \"Aging4\" = Aging4_gene,\n",
    "  \"Aging5\" = Aging5_gene,\n",
    "  \"AD\" = AD_gene,\n",
    "  \"Telomere_Length_PC1\" = TL1_gene\n",
    ")\n",
    "\n",
    "# Remove any NA values\n",
    "gene_sets <- lapply(gene_sets, function(x) x[!is.na(x)])\n",
    "\n",
    "# Find genes that appear in at least 2 sets (shared genes)\n",
    "all_genes <- unique(unlist(gene_sets))\n",
    "gene_counts <- table(unlist(gene_sets))\n",
    "shared_genes <- names(gene_counts[gene_counts >= 2])\n",
    "\n",
    "cat(\"Total unique genes:\", length(all_genes), \"\\n\")\n",
    "cat(\"Shared genes (in ≥2 sets):\", length(shared_genes), \"\\n\")\n",
    "\n",
    "# Filter gene sets to only include shared genes\n",
    "gene_sets_shared <- lapply(gene_sets, function(x) x[x %in% shared_genes])\n",
    "\n",
    "# Remove empty sets after filtering\n",
    "gene_sets_shared <- gene_sets_shared[lengths(gene_sets_shared) > 0]\n",
    "\n",
    "str(gene_sets_shared)\n",
    "\n",
    "# Convert to binary matrix for UpSet plot (shared genes only)\n",
    "upset_data_shared <- data.frame(gene = shared_genes)\n",
    "for(set_name in names(gene_sets_shared)) {\n",
    "  upset_data_shared[[set_name]] <- upset_data_shared$gene %in% gene_sets_shared[[set_name]]\n",
    "}\n",
    "\n",
    "# Convert to proper format for UpSetR\n",
    "upset_r_data_shared <- upset_data_shared\n",
    "# Remove the 'gene' column and convert to 0/1 instead of TRUE/FALSE\n",
    "upset_r_data_shared <- upset_r_data_shared[, -1]  # Remove gene column\n",
    "upset_r_data_shared <- as.data.frame(lapply(upset_r_data_shared, as.numeric))\n",
    "# Add row names\n",
    "rownames(upset_r_data_shared) <- upset_data_shared$gene\n",
    "\n",
    "# First, let's check the intersection sizes to determine the ranges\n",
    "intersection_sizes <- c()\n",
    "for(i in 1:nrow(upset_r_data_shared)) {\n",
    "  size <- sum(upset_r_data_shared[i,])\n",
    "  if(size > 1) {  # Only count actual intersections\n",
    "    intersection_sizes <- c(intersection_sizes, size)\n",
    "  }\n",
    "}\n",
    "\n",
    "cat(\"Range of intersection sizes:\", min(intersection_sizes), \"to\", max(intersection_sizes), \"\\n\")\n",
    "cat(\"Intersections below 100:\", sum(intersection_sizes < 100), \"\\n\")\n",
    "cat(\"Intersections above 1000:\", sum(intersection_sizes > 1000), \"\\n\")\n",
    "cat(\"Intersections between 100-1000:\", sum(intersection_sizes >= 100 & intersection_sizes <= 1000), \"\\n\")\n",
    "\n",
    "# Create UpSetR plot for small intersections (< 100)\n",
    "tryCatch({\n",
    "  cat(\"\\n=== Creating plot for small intersections (< 100) ===\\n\")\n",
    "  upset_r_plot_small <- upset(upset_r_data_shared, \n",
    "                              sets = names(gene_sets_shared),\n",
    "                              order.by = \"freq\",\n",
    "                              decreasing = TRUE,\n",
    "                              mb.ratio = c(0.6, 0.4),\n",
    "                              number.angles = 0,\n",
    "                              text.scale = 1.2,\n",
    "                              point.size = 3,\n",
    "                              line.size = 1.5,\n",
    "                              mainbar.y.label = \"Small Intersections\",\n",
    "                              sets.x.label = \"Shared Gene Set Size\",\n",
    "                              sets.bar.color = \"steelblue\",\n",
    "                              main.bar.color = \"darkblue\",\n",
    "                              set_size.show = TRUE,\n",
    "                              mainbar.y.max = 80)\n",
    "  \n",
    "  cat(\"Small intersections plot created successfully\\n\")\n",
    "}, error = function(e) {\n",
    "  cat(\"Error creating small intersections plot:\", e$message, \"\\n\")\n",
    "})\n",
    "\n",
    "# # Create UpSetR plot for large intersections (> 1000)  \n",
    "# tryCatch({\n",
    "#   cat(\"\\n=== Creating plot for large intersections (> 1000) ===\\n\")\n",
    "#   upset_r_plot_large <- upset(upset_r_data_shared, \n",
    "#                               sets = names(gene_sets_shared),\n",
    "#                               order.by = \"freq\",\n",
    "#                               decreasing = TRUE,\n",
    "#                               mb.ratio = c(0.6, 0.4),\n",
    "#                               number.angles = 0,\n",
    "#                               text.scale = 1.2,\n",
    "#                               point.size = 3,\n",
    "#                               line.size = 1.5,\n",
    "#                               mainbar.y.label = \"Large Intersections (> 1000)\",\n",
    "#                               sets.x.label = \"Shared Gene Set Size\",\n",
    "#                               sets.bar.color = \"steelblue\",\n",
    "#                               main.bar.color = \"darkred\",\n",
    "#                               set_size.show = TRUE,\n",
    "#                               mainbar.y.min = 1001)\n",
    "  \n",
    "#   cat(\"Large intersections plot created successfully\\n\")\n",
    "# }, error = function(e) {\n",
    "#   cat(\"Error creating large intersections plot:\", e$message, \"\\n\")\n",
    "# })\n",
    "  \n",
    "#   cat(\"UpSetR plot for shared genes created successfully\\n\")\n",
    "# }, error = function(e) {\n",
    "# # Alternative method if UpSetR fails\n",
    "# if(exists(\"upset_r_plot_small\") || exists(\"upset_r_plot_large\")) {\n",
    "#   cat(\"At least one UpSet plot was created successfully\\n\")\n",
    "# } else {\n",
    "#   cat(\"UpSetR failed, using alternative method for shared genes\\n\")\n",
    "  \n",
    "#   # Alternative: Create a simple intersection matrix for shared genes only\n",
    "#   intersection_matrix_shared <- matrix(0, nrow = length(shared_genes), ncol = length(gene_sets_shared))\n",
    "#   rownames(intersection_matrix_shared) <- shared_genes\n",
    "#   colnames(intersection_matrix_shared) <- names(gene_sets_shared)\n",
    "  \n",
    "#   for(i in 1:length(gene_sets_shared)) {\n",
    "#     intersection_matrix_shared[shared_genes %in% gene_sets_shared[[i]], i] <- 1\n",
    "#   }\n",
    "  \n",
    "#   print(\"Shared genes intersection matrix:\")\n",
    "#   print(head(intersection_matrix_shared))\n",
    "  \n",
    "#   # Print summary statistics\n",
    "#   cat(\"Summary of shared genes across sets:\\n\")\n",
    "#   print(colSums(intersection_matrix_shared))\n",
    "# }\n",
    "\n",
    "# Optional: Print the shared genes for inspection\n",
    "cat(\"\\nShared genes found:\\n\")\n",
    "print(head(shared_genes, 20))  # Show first 20 shared genes"
   ]
  },
  {
   "cell_type": "code",
   "execution_count": 19,
   "id": "7f0b6d37-b334-42a0-90f8-53a7db3f4abf",
   "metadata": {},
   "outputs": [
    {
     "data": {
      "text/html": [
       "<strong>agg_record_436853613:</strong> 2"
      ],
      "text/latex": [
       "\\textbf{agg\\textbackslash{}\\_record\\textbackslash{}\\_436853613:} 2"
      ],
      "text/markdown": [
       "**agg_record_436853613:** 2"
      ],
      "text/plain": [
       "agg_record_436853613 \n",
       "                   2 "
      ]
     },
     "metadata": {},
     "output_type": "display_data"
    }
   ],
   "source": [
    "png(\"~/xqtl-analysis/production/image_QTL/CB_finemapping_summary/DNE_endpoint_twas_qtl_upset.png\", width = 12, height = 8, units = \"in\", res = 300)\n",
    "print(upset_r_plot_small)\n",
    "dev.off()"
   ]
  },
  {
   "cell_type": "code",
   "execution_count": 16,
   "id": "056481bf-27b5-4d26-b6d2-4df25f25851e",
   "metadata": {},
   "outputs": [
    {
     "data": {
      "image/png": "[encoded data removed]",
      "text/plain": [
       "plot without title"
      ]
     },
     "metadata": {
      "image/png": {
       "height": 420,
       "width": 420
      }
     },
     "output_type": "display_data"
    }
   ],
   "source": [
    "print(upset_r_plot_small)"
   ]
  }
 ],
 "metadata": {
  "kernelspec": {
   "display_name": "R",
   "language": "R",
   "name": "ir"
  },
  "language_info": {
   "codemirror_mode": "r",
   "file_extension": ".r",
   "mimetype": "text/x-r-source",
   "name": "R",
   "pygments_lexer": "r",
   "version": "4.3.3"
  }
 },
 "nbformat": 4,
 "nbformat_minor": 5
}
