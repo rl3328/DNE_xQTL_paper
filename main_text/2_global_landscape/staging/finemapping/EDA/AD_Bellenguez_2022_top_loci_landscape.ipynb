{
 "cells": [
  {
   "cell_type": "markdown",
   "metadata": {},
   "source": [
    "\n",
    "# **AD_Bellenguez_2022_Finemapping_Top_Loci_Overview**\n",
    "\n",
    "## **Background**\n",
    "\n",
    "Top variants were identified if they met **either** of the following criteria:\n",
    "\n",
    "- Belonged to a **95% credible set (CS)** with **minimum correlation (min_corr) ≥ 0.8**, or  \n",
    "- Had a **posterior inclusion probability (PIP) > 0.05**.\n",
    "\n",
    "A CS is considered spurious when meeting either of the criteria below, which is relatively sensitive to LD mismatch and tend to choose other models:\n",
    "- `p_value > 1e-4`  \n",
    "- `cs_corr > 0.3`\n",
    "\n",
    "(For detailed model selection criteria, please refer to the [final_decision.ipynb](https://github.com/cumc/xqtl-analysis/blob/main/analysis/Wang_Columbia/EDA/Finemapping_results_summary/Automated_QC_EDA/final_desicion.ipynb).)\n",
    "\n",
    "---\n",
    "\n",
    "## **Summary**\n",
    "\n",
    "### **Variant-Level Overview**\n",
    "\n",
    "| Trait           | Top Variants | In 95% CS | Total Variants |\n",
    "|------------------|---------------|------------|-----------------|\n",
    "|AD_Bellenguez_2022| 2,851         | 913      | 8,954,288       |\n",
    "\n",
    "\n",
    "\n",
    "---\n",
    "\n",
    "### **Credible Set (CS)-Level Overview**\n",
    "\n",
    "| Trait           | CS Count | Single-Variant CS | Proportion (%) |\n",
    "|------------------|-----------|--------------------|-----------------|\n",
    "|AD_Bellenguez_2022| 63        | 27                  | 42.9%           |\n",
    "\n",
    "\n",
    "\n",
    "---\n",
    "\n",
    "### **Study-Block Level Overview**\n",
    "\n",
    "| Trait           | Blocks with CS |\n",
    "|------------------|-----------------|\n",
    "|AD_Bellenguez_2022| 49              |\n",
    "\n",
    "\n",
    "\n",
    "#### **Study Blocks by CS Count**\n",
    "\n",
    "- **AD_Bellenguez_2022**:  \n",
    "  - 49 study_blocks contain CS  \n",
    "  - 41 blocks have **1 CS**, 4 blocks have **2 CS**, 2 blocks have **3 CS**, 2 blocks have **4 CS**\n",
    "\n",
    "#### **Study Blocks by Fine-Mapping Model**\n",
    "\n",
    "- **AD_Bellenguez_2022**:  \n",
    "  - Out of 49 study_blocks with CS:\n",
    "    - 7 used **susie_rss_RSS_QC_RAISS_imputed**\n",
    "    - 1 used **bayesian_conditional_regression_RSS_QC_RAISS_imputed**\n",
    "    - 41 used **single_effect_NO_QC**\n",
    "\n",
    "Note: I compared the study_blocks analyzed using BCR and BVSR models with the plots available on [Synapse](https://www.synapse.org/Synapse:syn65454789). The automated QC process effectively identifies most anomalous study_blocks and redirects them to the appropriate models**"
   ]
  },
  {
   "cell_type": "code",
   "execution_count": 1,
   "metadata": {
    "vscode": {
     "languageId": "r"
    }
   },
   "outputs": [
    {
     "name": "stderr",
     "output_type": "stream",
     "text": [
      "── \u001b[1mAttaching core tidyverse packages\u001b[22m ──────────────────────── tidyverse 2.0.0 ──\n",
      "\u001b[32m✔\u001b[39m \u001b[34mdplyr    \u001b[39m 1.1.4     \u001b[32m✔\u001b[39m \u001b[34mreadr    \u001b[39m 2.1.5\n",
      "\u001b[32m✔\u001b[39m \u001b[34mforcats  \u001b[39m 1.0.0     \u001b[32m✔\u001b[39m \u001b[34mstringr  \u001b[39m 1.5.1\n",
      "\u001b[32m✔\u001b[39m \u001b[34mggplot2  \u001b[39m 3.5.2     \u001b[32m✔\u001b[39m \u001b[34mtibble   \u001b[39m 3.2.1\n",
      "\u001b[32m✔\u001b[39m \u001b[34mlubridate\u001b[39m 1.9.4     \u001b[32m✔\u001b[39m \u001b[34mtidyr    \u001b[39m 1.3.1\n",
      "\u001b[32m✔\u001b[39m \u001b[34mpurrr    \u001b[39m 1.0.4     \n",
      "── \u001b[1mConflicts\u001b[22m ────────────────────────────────────────── tidyverse_conflicts() ──\n",
      "\u001b[31m✖\u001b[39m \u001b[34mdplyr\u001b[39m::\u001b[32mbetween()\u001b[39m     masks \u001b[34mdata.table\u001b[39m::between()\n",
      "\u001b[31m✖\u001b[39m \u001b[34mdplyr\u001b[39m::\u001b[32mfilter()\u001b[39m      masks \u001b[34mstats\u001b[39m::filter()\n",
      "\u001b[31m✖\u001b[39m \u001b[34mdplyr\u001b[39m::\u001b[32mfirst()\u001b[39m       masks \u001b[34mdata.table\u001b[39m::first()\n",
      "\u001b[31m✖\u001b[39m \u001b[34mlubridate\u001b[39m::\u001b[32mhour()\u001b[39m    masks \u001b[34mdata.table\u001b[39m::hour()\n",
      "\u001b[31m✖\u001b[39m \u001b[34mlubridate\u001b[39m::\u001b[32misoweek()\u001b[39m masks \u001b[34mdata.table\u001b[39m::isoweek()\n",
      "\u001b[31m✖\u001b[39m \u001b[34mdplyr\u001b[39m::\u001b[32mlag()\u001b[39m         masks \u001b[34mstats\u001b[39m::lag()\n",
      "\u001b[31m✖\u001b[39m \u001b[34mdplyr\u001b[39m::\u001b[32mlast()\u001b[39m        masks \u001b[34mdata.table\u001b[39m::last()\n",
      "\u001b[31m✖\u001b[39m \u001b[34mlubridate\u001b[39m::\u001b[32mmday()\u001b[39m    masks \u001b[34mdata.table\u001b[39m::mday()\n",
      "\u001b[31m✖\u001b[39m \u001b[34mlubridate\u001b[39m::\u001b[32mminute()\u001b[39m  masks \u001b[34mdata.table\u001b[39m::minute()\n",
      "\u001b[31m✖\u001b[39m \u001b[34mlubridate\u001b[39m::\u001b[32mmonth()\u001b[39m   masks \u001b[34mdata.table\u001b[39m::month()\n",
      "\u001b[31m✖\u001b[39m \u001b[34mlubridate\u001b[39m::\u001b[32mquarter()\u001b[39m masks \u001b[34mdata.table\u001b[39m::quarter()\n",
      "\u001b[31m✖\u001b[39m \u001b[34mlubridate\u001b[39m::\u001b[32msecond()\u001b[39m  masks \u001b[34mdata.table\u001b[39m::second()\n",
      "\u001b[31m✖\u001b[39m \u001b[34mpurrr\u001b[39m::\u001b[32mtranspose()\u001b[39m   masks \u001b[34mdata.table\u001b[39m::transpose()\n",
      "\u001b[31m✖\u001b[39m \u001b[34mlubridate\u001b[39m::\u001b[32mwday()\u001b[39m    masks \u001b[34mdata.table\u001b[39m::wday()\n",
      "\u001b[31m✖\u001b[39m \u001b[34mlubridate\u001b[39m::\u001b[32mweek()\u001b[39m    masks \u001b[34mdata.table\u001b[39m::week()\n",
      "\u001b[31m✖\u001b[39m \u001b[34mlubridate\u001b[39m::\u001b[32myday()\u001b[39m    masks \u001b[34mdata.table\u001b[39m::yday()\n",
      "\u001b[31m✖\u001b[39m \u001b[34mlubridate\u001b[39m::\u001b[32myear()\u001b[39m    masks \u001b[34mdata.table\u001b[39m::year()\n",
      "\u001b[36mℹ\u001b[39m Use the conflicted package (\u001b[3m\u001b[34m<http://conflicted.r-lib.org/>\u001b[39m\u001b[23m) to force all conflicts to become errors\n"
     ]
    }
   ],
   "source": [
    "library(data.table)\n",
    "library(tidyverse)"
   ]
  },
  {
   "cell_type": "code",
   "execution_count": 2,
   "metadata": {
    "vscode": {
     "languageId": "r"
    }
   },
   "outputs": [],
   "source": [
    "# Read in the top_loci table\n",
    "top_loci <- fread(\"/home/rl3328/AD_GWAS_finemapping/AD_export_cs_corr_0.3_latest/export/AD_Bellenguez_2022.hg38_all_blocks.toploci.bed.gz\")\n"
   ]
  },
  {
   "cell_type": "markdown",
   "metadata": {},
   "source": [
    "## Summary\n",
    "\n",
    "### Variant_level"
   ]
  },
  {
   "cell_type": "code",
   "execution_count": 3,
   "metadata": {
    "vscode": {
     "languageId": "r"
    }
   },
   "outputs": [
    {
     "data": {
      "text/html": [
       "<table class=\"dataframe\">\n",
       "<caption>A tibble: 1 × 2</caption>\n",
       "<thead>\n",
       "\t<tr><th scope=col>event_ID</th><th scope=col>n</th></tr>\n",
       "\t<tr><th scope=col>&lt;chr&gt;</th><th scope=col>&lt;int&gt;</th></tr>\n",
       "</thead>\n",
       "<tbody>\n",
       "\t<tr><td>AD_Bellenguez_2022</td><td>2851</td></tr>\n",
       "</tbody>\n",
       "</table>\n"
      ],
      "text/latex": [
       "A tibble: 1 × 2\n",
       "\\begin{tabular}{ll}\n",
       " event\\_ID & n\\\\\n",
       " <chr> & <int>\\\\\n",
       "\\hline\n",
       "\t AD\\_Bellenguez\\_2022 & 2851\\\\\n",
       "\\end{tabular}\n"
      ],
      "text/markdown": [
       "\n",
       "A tibble: 1 × 2\n",
       "\n",
       "| event_ID &lt;chr&gt; | n &lt;int&gt; |\n",
       "|---|---|\n",
       "| AD_Bellenguez_2022 | 2851 |\n",
       "\n"
      ],
      "text/plain": [
       "  event_ID           n   \n",
       "1 AD_Bellenguez_2022 2851"
      ]
     },
     "metadata": {},
     "output_type": "display_data"
    }
   ],
   "source": [
    "# Top variants count by event_ID\n",
    "top_loci |> group_by(event_ID) |> summarise(n = n()) |> arrange(desc(n))"
   ]
  },
  {
   "cell_type": "code",
   "execution_count": 4,
   "metadata": {
    "vscode": {
     "languageId": "r"
    }
   },
   "outputs": [],
   "source": [
    "# Get the top variants with 95% CS with min_corr = 0.8\n",
    "top_loci_0.95 <- top_loci |> filter(cs_coverage_0.95 > 0)"
   ]
  },
  {
   "cell_type": "code",
   "execution_count": 5,
   "metadata": {
    "vscode": {
     "languageId": "r"
    }
   },
   "outputs": [
    {
     "data": {
      "text/html": [
       "<table class=\"dataframe\">\n",
       "<caption>A tibble: 1 × 2</caption>\n",
       "<thead>\n",
       "\t<tr><th scope=col>event_ID</th><th scope=col>n</th></tr>\n",
       "\t<tr><th scope=col>&lt;chr&gt;</th><th scope=col>&lt;int&gt;</th></tr>\n",
       "</thead>\n",
       "<tbody>\n",
       "\t<tr><td>AD_Bellenguez_2022</td><td>913</td></tr>\n",
       "</tbody>\n",
       "</table>\n"
      ],
      "text/latex": [
       "A tibble: 1 × 2\n",
       "\\begin{tabular}{ll}\n",
       " event\\_ID & n\\\\\n",
       " <chr> & <int>\\\\\n",
       "\\hline\n",
       "\t AD\\_Bellenguez\\_2022 & 913\\\\\n",
       "\\end{tabular}\n"
      ],
      "text/markdown": [
       "\n",
       "A tibble: 1 × 2\n",
       "\n",
       "| event_ID &lt;chr&gt; | n &lt;int&gt; |\n",
       "|---|---|\n",
       "| AD_Bellenguez_2022 | 913 |\n",
       "\n"
      ],
      "text/plain": [
       "  event_ID           n  \n",
       "1 AD_Bellenguez_2022 913"
      ]
     },
     "metadata": {},
     "output_type": "display_data"
    }
   ],
   "source": [
    "# number of top variants in 95% CS with min_corr = 0.8 by event_ID\n",
    "top_loci_0.95 |> group_by(event_ID) |> summarise(n = n()) |> arrange(desc(n))"
   ]
  },
  {
   "cell_type": "markdown",
   "metadata": {},
   "source": [
    "### Study_Block Level"
   ]
  },
  {
   "cell_type": "code",
   "execution_count": 6,
   "metadata": {
    "vscode": {
     "languageId": "r"
    }
   },
   "outputs": [],
   "source": [
    "# Create a column as a CS indicator\n",
    "top_loci_0.95 = top_loci_0.95 |> mutate(cs = paste0(event_ID,\"_\", region_id,\":\"\t,cs_coverage_0.95))"
   ]
  },
  {
   "cell_type": "code",
   "execution_count": 7,
   "metadata": {
    "vscode": {
     "languageId": "r"
    }
   },
   "outputs": [
    {
     "data": {
      "text/html": [
       "<table class=\"dataframe\">\n",
       "<caption>A data.table: 6 × 17</caption>\n",
       "<thead>\n",
       "\t<tr><th scope=col>chr</th><th scope=col>pos</th><th scope=col>a1</th><th scope=col>a2</th><th scope=col>variant_ID</th><th scope=col>gene_ID</th><th scope=col>event_ID</th><th scope=col>cs_coverage_0.95</th><th scope=col>cs_coverage_0.7</th><th scope=col>cs_coverage_0.5</th><th scope=col>cs_coverage_0.95_purity0.5</th><th scope=col>cs_coverage_0.7_purity0.5</th><th scope=col>cs_coverage_0.5_purity0.5</th><th scope=col>PIP</th><th scope=col>region_id</th><th scope=col>finemap_model</th><th scope=col>cs</th></tr>\n",
       "\t<tr><th scope=col>&lt;int&gt;</th><th scope=col>&lt;int&gt;</th><th scope=col>&lt;chr&gt;</th><th scope=col>&lt;chr&gt;</th><th scope=col>&lt;chr&gt;</th><th scope=col>&lt;chr&gt;</th><th scope=col>&lt;chr&gt;</th><th scope=col>&lt;int&gt;</th><th scope=col>&lt;int&gt;</th><th scope=col>&lt;int&gt;</th><th scope=col>&lt;lgl&gt;</th><th scope=col>&lt;lgl&gt;</th><th scope=col>&lt;lgl&gt;</th><th scope=col>&lt;dbl&gt;</th><th scope=col>&lt;chr&gt;</th><th scope=col>&lt;chr&gt;</th><th scope=col>&lt;chr&gt;</th></tr>\n",
       "</thead>\n",
       "<tbody>\n",
       "\t<tr><td>8</td><td>27607412</td><td>G</td><td>A</td><td>8:27607412:A:G</td><td>chr8_27515963_29469590</td><td>AD_Bellenguez_2022</td><td>1</td><td>0</td><td>0</td><td>NA</td><td>NA</td><td>NA</td><td>0.04909698</td><td>chr8_27515963_29469590</td><td>single_effect_NO_QC</td><td>AD_Bellenguez_2022_chr8_27515963_29469590:1</td></tr>\n",
       "\t<tr><td>8</td><td>27607795</td><td>C</td><td>T</td><td>8:27607795:T:C</td><td>chr8_27515963_29469590</td><td>AD_Bellenguez_2022</td><td>1</td><td>1</td><td>1</td><td>NA</td><td>NA</td><td>NA</td><td>0.20514640</td><td>chr8_27515963_29469590</td><td>single_effect_NO_QC</td><td>AD_Bellenguez_2022_chr8_27515963_29469590:1</td></tr>\n",
       "\t<tr><td>8</td><td>27608640</td><td>C</td><td>T</td><td>8:27608640:T:C</td><td>chr8_27515963_29469590</td><td>AD_Bellenguez_2022</td><td>1</td><td>1</td><td>1</td><td>NA</td><td>NA</td><td>NA</td><td>0.23703061</td><td>chr8_27515963_29469590</td><td>single_effect_NO_QC</td><td>AD_Bellenguez_2022_chr8_27515963_29469590:1</td></tr>\n",
       "\t<tr><td>8</td><td>27608664</td><td>C</td><td>T</td><td>8:27608664:T:C</td><td>chr8_27515963_29469590</td><td>AD_Bellenguez_2022</td><td>1</td><td>0</td><td>0</td><td>NA</td><td>NA</td><td>NA</td><td>0.03215781</td><td>chr8_27515963_29469590</td><td>single_effect_NO_QC</td><td>AD_Bellenguez_2022_chr8_27515963_29469590:1</td></tr>\n",
       "\t<tr><td>8</td><td>27610169</td><td>T</td><td>C</td><td>8:27610169:C:T</td><td>chr8_27515963_29469590</td><td>AD_Bellenguez_2022</td><td>1</td><td>1</td><td>1</td><td>NA</td><td>NA</td><td>NA</td><td>0.23703061</td><td>chr8_27515963_29469590</td><td>single_effect_NO_QC</td><td>AD_Bellenguez_2022_chr8_27515963_29469590:1</td></tr>\n",
       "\t<tr><td>8</td><td>27610986</td><td>A</td><td>C</td><td>8:27610986:C:A</td><td>chr8_27515963_29469590</td><td>AD_Bellenguez_2022</td><td>1</td><td>1</td><td>0</td><td>NA</td><td>NA</td><td>NA</td><td>0.09966819</td><td>chr8_27515963_29469590</td><td>single_effect_NO_QC</td><td>AD_Bellenguez_2022_chr8_27515963_29469590:1</td></tr>\n",
       "</tbody>\n",
       "</table>\n"
      ],
      "text/latex": [
       "A data.table: 6 × 17\n",
       "\\begin{tabular}{lllllllllllllllll}\n",
       " chr & pos & a1 & a2 & variant\\_ID & gene\\_ID & event\\_ID & cs\\_coverage\\_0.95 & cs\\_coverage\\_0.7 & cs\\_coverage\\_0.5 & cs\\_coverage\\_0.95\\_purity0.5 & cs\\_coverage\\_0.7\\_purity0.5 & cs\\_coverage\\_0.5\\_purity0.5 & PIP & region\\_id & finemap\\_model & cs\\\\\n",
       " <int> & <int> & <chr> & <chr> & <chr> & <chr> & <chr> & <int> & <int> & <int> & <lgl> & <lgl> & <lgl> & <dbl> & <chr> & <chr> & <chr>\\\\\n",
       "\\hline\n",
       "\t 8 & 27607412 & G & A & 8:27607412:A:G & chr8\\_27515963\\_29469590 & AD\\_Bellenguez\\_2022 & 1 & 0 & 0 & NA & NA & NA & 0.04909698 & chr8\\_27515963\\_29469590 & single\\_effect\\_NO\\_QC & AD\\_Bellenguez\\_2022\\_chr8\\_27515963\\_29469590:1\\\\\n",
       "\t 8 & 27607795 & C & T & 8:27607795:T:C & chr8\\_27515963\\_29469590 & AD\\_Bellenguez\\_2022 & 1 & 1 & 1 & NA & NA & NA & 0.20514640 & chr8\\_27515963\\_29469590 & single\\_effect\\_NO\\_QC & AD\\_Bellenguez\\_2022\\_chr8\\_27515963\\_29469590:1\\\\\n",
       "\t 8 & 27608640 & C & T & 8:27608640:T:C & chr8\\_27515963\\_29469590 & AD\\_Bellenguez\\_2022 & 1 & 1 & 1 & NA & NA & NA & 0.23703061 & chr8\\_27515963\\_29469590 & single\\_effect\\_NO\\_QC & AD\\_Bellenguez\\_2022\\_chr8\\_27515963\\_29469590:1\\\\\n",
       "\t 8 & 27608664 & C & T & 8:27608664:T:C & chr8\\_27515963\\_29469590 & AD\\_Bellenguez\\_2022 & 1 & 0 & 0 & NA & NA & NA & 0.03215781 & chr8\\_27515963\\_29469590 & single\\_effect\\_NO\\_QC & AD\\_Bellenguez\\_2022\\_chr8\\_27515963\\_29469590:1\\\\\n",
       "\t 8 & 27610169 & T & C & 8:27610169:C:T & chr8\\_27515963\\_29469590 & AD\\_Bellenguez\\_2022 & 1 & 1 & 1 & NA & NA & NA & 0.23703061 & chr8\\_27515963\\_29469590 & single\\_effect\\_NO\\_QC & AD\\_Bellenguez\\_2022\\_chr8\\_27515963\\_29469590:1\\\\\n",
       "\t 8 & 27610986 & A & C & 8:27610986:C:A & chr8\\_27515963\\_29469590 & AD\\_Bellenguez\\_2022 & 1 & 1 & 0 & NA & NA & NA & 0.09966819 & chr8\\_27515963\\_29469590 & single\\_effect\\_NO\\_QC & AD\\_Bellenguez\\_2022\\_chr8\\_27515963\\_29469590:1\\\\\n",
       "\\end{tabular}\n"
      ],
      "text/markdown": [
       "\n",
       "A data.table: 6 × 17\n",
       "\n",
       "| chr &lt;int&gt; | pos &lt;int&gt; | a1 &lt;chr&gt; | a2 &lt;chr&gt; | variant_ID &lt;chr&gt; | gene_ID &lt;chr&gt; | event_ID &lt;chr&gt; | cs_coverage_0.95 &lt;int&gt; | cs_coverage_0.7 &lt;int&gt; | cs_coverage_0.5 &lt;int&gt; | cs_coverage_0.95_purity0.5 &lt;lgl&gt; | cs_coverage_0.7_purity0.5 &lt;lgl&gt; | cs_coverage_0.5_purity0.5 &lt;lgl&gt; | PIP &lt;dbl&gt; | region_id &lt;chr&gt; | finemap_model &lt;chr&gt; | cs &lt;chr&gt; |\n",
       "|---|---|---|---|---|---|---|---|---|---|---|---|---|---|---|---|---|\n",
       "| 8 | 27607412 | G | A | 8:27607412:A:G | chr8_27515963_29469590 | AD_Bellenguez_2022 | 1 | 0 | 0 | NA | NA | NA | 0.04909698 | chr8_27515963_29469590 | single_effect_NO_QC | AD_Bellenguez_2022_chr8_27515963_29469590:1 |\n",
       "| 8 | 27607795 | C | T | 8:27607795:T:C | chr8_27515963_29469590 | AD_Bellenguez_2022 | 1 | 1 | 1 | NA | NA | NA | 0.20514640 | chr8_27515963_29469590 | single_effect_NO_QC | AD_Bellenguez_2022_chr8_27515963_29469590:1 |\n",
       "| 8 | 27608640 | C | T | 8:27608640:T:C | chr8_27515963_29469590 | AD_Bellenguez_2022 | 1 | 1 | 1 | NA | NA | NA | 0.23703061 | chr8_27515963_29469590 | single_effect_NO_QC | AD_Bellenguez_2022_chr8_27515963_29469590:1 |\n",
       "| 8 | 27608664 | C | T | 8:27608664:T:C | chr8_27515963_29469590 | AD_Bellenguez_2022 | 1 | 0 | 0 | NA | NA | NA | 0.03215781 | chr8_27515963_29469590 | single_effect_NO_QC | AD_Bellenguez_2022_chr8_27515963_29469590:1 |\n",
       "| 8 | 27610169 | T | C | 8:27610169:C:T | chr8_27515963_29469590 | AD_Bellenguez_2022 | 1 | 1 | 1 | NA | NA | NA | 0.23703061 | chr8_27515963_29469590 | single_effect_NO_QC | AD_Bellenguez_2022_chr8_27515963_29469590:1 |\n",
       "| 8 | 27610986 | A | C | 8:27610986:C:A | chr8_27515963_29469590 | AD_Bellenguez_2022 | 1 | 1 | 0 | NA | NA | NA | 0.09966819 | chr8_27515963_29469590 | single_effect_NO_QC | AD_Bellenguez_2022_chr8_27515963_29469590:1 |\n",
       "\n"
      ],
      "text/plain": [
       "  chr pos      a1 a2 variant_ID     gene_ID                event_ID          \n",
       "1 8   27607412 G  A  8:27607412:A:G chr8_27515963_29469590 AD_Bellenguez_2022\n",
       "2 8   27607795 C  T  8:27607795:T:C chr8_27515963_29469590 AD_Bellenguez_2022\n",
       "3 8   27608640 C  T  8:27608640:T:C chr8_27515963_29469590 AD_Bellenguez_2022\n",
       "4 8   27608664 C  T  8:27608664:T:C chr8_27515963_29469590 AD_Bellenguez_2022\n",
       "5 8   27610169 T  C  8:27610169:C:T chr8_27515963_29469590 AD_Bellenguez_2022\n",
       "6 8   27610986 A  C  8:27610986:C:A chr8_27515963_29469590 AD_Bellenguez_2022\n",
       "  cs_coverage_0.95 cs_coverage_0.7 cs_coverage_0.5 cs_coverage_0.95_purity0.5\n",
       "1 1                0               0               NA                        \n",
       "2 1                1               1               NA                        \n",
       "3 1                1               1               NA                        \n",
       "4 1                0               0               NA                        \n",
       "5 1                1               1               NA                        \n",
       "6 1                1               0               NA                        \n",
       "  cs_coverage_0.7_purity0.5 cs_coverage_0.5_purity0.5 PIP       \n",
       "1 NA                        NA                        0.04909698\n",
       "2 NA                        NA                        0.20514640\n",
       "3 NA                        NA                        0.23703061\n",
       "4 NA                        NA                        0.03215781\n",
       "5 NA                        NA                        0.23703061\n",
       "6 NA                        NA                        0.09966819\n",
       "  region_id              finemap_model      \n",
       "1 chr8_27515963_29469590 single_effect_NO_QC\n",
       "2 chr8_27515963_29469590 single_effect_NO_QC\n",
       "3 chr8_27515963_29469590 single_effect_NO_QC\n",
       "4 chr8_27515963_29469590 single_effect_NO_QC\n",
       "5 chr8_27515963_29469590 single_effect_NO_QC\n",
       "6 chr8_27515963_29469590 single_effect_NO_QC\n",
       "  cs                                         \n",
       "1 AD_Bellenguez_2022_chr8_27515963_29469590:1\n",
       "2 AD_Bellenguez_2022_chr8_27515963_29469590:1\n",
       "3 AD_Bellenguez_2022_chr8_27515963_29469590:1\n",
       "4 AD_Bellenguez_2022_chr8_27515963_29469590:1\n",
       "5 AD_Bellenguez_2022_chr8_27515963_29469590:1\n",
       "6 AD_Bellenguez_2022_chr8_27515963_29469590:1"
      ]
     },
     "metadata": {},
     "output_type": "display_data"
    },
    {
     "data": {
      "text/html": [
       "<style>\n",
       ".list-inline {list-style: none; margin:0; padding: 0}\n",
       ".list-inline>li {display: inline-block}\n",
       ".list-inline>li:not(:last-child)::after {content: \"\\00b7\"; padding: 0 .5ex}\n",
       "</style>\n",
       "<ol class=list-inline><li>913</li><li>17</li></ol>\n"
      ],
      "text/latex": [
       "\\begin{enumerate*}\n",
       "\\item 913\n",
       "\\item 17\n",
       "\\end{enumerate*}\n"
      ],
      "text/markdown": [
       "1. 913\n",
       "2. 17\n",
       "\n",
       "\n"
      ],
      "text/plain": [
       "[1] 913  17"
      ]
     },
     "metadata": {},
     "output_type": "display_data"
    }
   ],
   "source": [
    "tail(top_loci_0.95)\n",
    "dim(top_loci_0.95)"
   ]
  },
  {
   "cell_type": "code",
   "execution_count": 8,
   "metadata": {
    "vscode": {
     "languageId": "r"
    }
   },
   "outputs": [
    {
     "data": {
      "text/html": [
       "<table class=\"dataframe\">\n",
       "<caption>A data.table: 1 × 2</caption>\n",
       "<thead>\n",
       "\t<tr><th scope=col>event_ID</th><th scope=col>n</th></tr>\n",
       "\t<tr><th scope=col>&lt;chr&gt;</th><th scope=col>&lt;int&gt;</th></tr>\n",
       "</thead>\n",
       "<tbody>\n",
       "\t<tr><td>AD_Bellenguez_2022</td><td>49</td></tr>\n",
       "</tbody>\n",
       "</table>\n"
      ],
      "text/latex": [
       "A data.table: 1 × 2\n",
       "\\begin{tabular}{ll}\n",
       " event\\_ID & n\\\\\n",
       " <chr> & <int>\\\\\n",
       "\\hline\n",
       "\t AD\\_Bellenguez\\_2022 & 49\\\\\n",
       "\\end{tabular}\n"
      ],
      "text/markdown": [
       "\n",
       "A data.table: 1 × 2\n",
       "\n",
       "| event_ID &lt;chr&gt; | n &lt;int&gt; |\n",
       "|---|---|\n",
       "| AD_Bellenguez_2022 | 49 |\n",
       "\n"
      ],
      "text/plain": [
       "  event_ID           n \n",
       "1 AD_Bellenguez_2022 49"
      ]
     },
     "metadata": {},
     "output_type": "display_data"
    }
   ],
   "source": [
    "# Study_blocks with CS for each event_ID(trait)\n",
    "top_loci_0.95 |> count(event_ID, region_id) |> count(event_ID)"
   ]
  },
  {
   "cell_type": "code",
   "execution_count": 14,
   "metadata": {
    "vscode": {
     "languageId": "r"
    }
   },
   "outputs": [
    {
     "data": {
      "text/html": [
       "<table class=\"dataframe\">\n",
       "<caption>A data.table: 3 × 2</caption>\n",
       "<thead>\n",
       "\t<tr><th scope=col>finemap_model</th><th scope=col>n</th></tr>\n",
       "\t<tr><th scope=col>&lt;chr&gt;</th><th scope=col>&lt;int&gt;</th></tr>\n",
       "</thead>\n",
       "<tbody>\n",
       "\t<tr><td>bayesian_conditional_regression_RSS_QC_RAISS_imputed</td><td> 1</td></tr>\n",
       "\t<tr><td>single_effect_NO_QC                                 </td><td>41</td></tr>\n",
       "\t<tr><td>susie_rss_RSS_QC_RAISS_imputed                      </td><td> 7</td></tr>\n",
       "</tbody>\n",
       "</table>\n"
      ],
      "text/latex": [
       "A data.table: 3 × 2\n",
       "\\begin{tabular}{ll}\n",
       " finemap\\_model & n\\\\\n",
       " <chr> & <int>\\\\\n",
       "\\hline\n",
       "\t bayesian\\_conditional\\_regression\\_RSS\\_QC\\_RAISS\\_imputed &  1\\\\\n",
       "\t single\\_effect\\_NO\\_QC                                  & 41\\\\\n",
       "\t susie\\_rss\\_RSS\\_QC\\_RAISS\\_imputed                       &  7\\\\\n",
       "\\end{tabular}\n"
      ],
      "text/markdown": [
       "\n",
       "A data.table: 3 × 2\n",
       "\n",
       "| finemap_model &lt;chr&gt; | n &lt;int&gt; |\n",
       "|---|---|\n",
       "| bayesian_conditional_regression_RSS_QC_RAISS_imputed |  1 |\n",
       "| single_effect_NO_QC                                  | 41 |\n",
       "| susie_rss_RSS_QC_RAISS_imputed                       |  7 |\n",
       "\n"
      ],
      "text/plain": [
       "  finemap_model                                        n \n",
       "1 bayesian_conditional_regression_RSS_QC_RAISS_imputed  1\n",
       "2 single_effect_NO_QC                                  41\n",
       "3 susie_rss_RSS_QC_RAISS_imputed                        7"
      ]
     },
     "metadata": {},
     "output_type": "display_data"
    },
    {
     "data": {
      "text/html": [
       "<table class=\"dataframe\">\n",
       "<caption>A tibble: 4 × 2</caption>\n",
       "<thead>\n",
       "\t<tr><th scope=col>cs_coverage_0.95</th><th scope=col>n</th></tr>\n",
       "\t<tr><th scope=col>&lt;int&gt;</th><th scope=col>&lt;int&gt;</th></tr>\n",
       "</thead>\n",
       "<tbody>\n",
       "\t<tr><td>1</td><td>48</td></tr>\n",
       "\t<tr><td>2</td><td> 7</td></tr>\n",
       "\t<tr><td>3</td><td> 5</td></tr>\n",
       "\t<tr><td>4</td><td> 3</td></tr>\n",
       "</tbody>\n",
       "</table>\n"
      ],
      "text/latex": [
       "A tibble: 4 × 2\n",
       "\\begin{tabular}{ll}\n",
       " cs\\_coverage\\_0.95 & n\\\\\n",
       " <int> & <int>\\\\\n",
       "\\hline\n",
       "\t 1 & 48\\\\\n",
       "\t 2 &  7\\\\\n",
       "\t 3 &  5\\\\\n",
       "\t 4 &  3\\\\\n",
       "\\end{tabular}\n"
      ],
      "text/markdown": [
       "\n",
       "A tibble: 4 × 2\n",
       "\n",
       "| cs_coverage_0.95 &lt;int&gt; | n &lt;int&gt; |\n",
       "|---|---|\n",
       "| 1 | 48 |\n",
       "| 2 |  7 |\n",
       "| 3 |  5 |\n",
       "| 4 |  3 |\n",
       "\n"
      ],
      "text/plain": [
       "  cs_coverage_0.95 n \n",
       "1 1                48\n",
       "2 2                 7\n",
       "3 3                 5\n",
       "4 4                 3"
      ]
     },
     "metadata": {},
     "output_type": "display_data"
    },
    {
     "name": "stderr",
     "output_type": "stream",
     "text": [
      "\u001b[1m\u001b[22m`summarise()` has grouped output by 'event_ID'. You can override using the\n",
      "`.groups` argument.\n"
     ]
    },
    {
     "data": {
      "text/html": [
       "<table class=\"dataframe\">\n",
       "<caption>A grouped_df: 4 × 3</caption>\n",
       "<thead>\n",
       "\t<tr><th scope=col>event_ID</th><th scope=col>cs_count</th><th scope=col>n</th></tr>\n",
       "\t<tr><th scope=col>&lt;chr&gt;</th><th scope=col>&lt;int&gt;</th><th scope=col>&lt;int&gt;</th></tr>\n",
       "</thead>\n",
       "<tbody>\n",
       "\t<tr><td>AD_Bellenguez_2022</td><td>1</td><td>41</td></tr>\n",
       "\t<tr><td>AD_Bellenguez_2022</td><td>2</td><td> 4</td></tr>\n",
       "\t<tr><td>AD_Bellenguez_2022</td><td>3</td><td> 2</td></tr>\n",
       "\t<tr><td>AD_Bellenguez_2022</td><td>4</td><td> 2</td></tr>\n",
       "</tbody>\n",
       "</table>\n"
      ],
      "text/latex": [
       "A grouped\\_df: 4 × 3\n",
       "\\begin{tabular}{lll}\n",
       " event\\_ID & cs\\_count & n\\\\\n",
       " <chr> & <int> & <int>\\\\\n",
       "\\hline\n",
       "\t AD\\_Bellenguez\\_2022 & 1 & 41\\\\\n",
       "\t AD\\_Bellenguez\\_2022 & 2 &  4\\\\\n",
       "\t AD\\_Bellenguez\\_2022 & 3 &  2\\\\\n",
       "\t AD\\_Bellenguez\\_2022 & 4 &  2\\\\\n",
       "\\end{tabular}\n"
      ],
      "text/markdown": [
       "\n",
       "A grouped_df: 4 × 3\n",
       "\n",
       "| event_ID &lt;chr&gt; | cs_count &lt;int&gt; | n &lt;int&gt; |\n",
       "|---|---|---|\n",
       "| AD_Bellenguez_2022 | 1 | 41 |\n",
       "| AD_Bellenguez_2022 | 2 |  4 |\n",
       "| AD_Bellenguez_2022 | 3 |  2 |\n",
       "| AD_Bellenguez_2022 | 4 |  2 |\n",
       "\n"
      ],
      "text/plain": [
       "  event_ID           cs_count n \n",
       "1 AD_Bellenguez_2022 1        41\n",
       "2 AD_Bellenguez_2022 2         4\n",
       "3 AD_Bellenguez_2022 3         2\n",
       "4 AD_Bellenguez_2022 4         2"
      ]
     },
     "metadata": {},
     "output_type": "display_data"
    }
   ],
   "source": [
    "\n",
    "# finemapping model at study_block level\n",
    "top_loci_0.95 |> count(event_ID, region_id, finemap_model) |> count(finemap_model)\n",
    "\n",
    "# CS Counts at study_block level\n",
    "top_loci_0.95 |> count(cs_coverage_0.95, event_ID, region_id) |> group_by(cs_coverage_0.95) |> summarise(n = n()) |> arrange(desc(n))\n",
    "top_loci_0.95 |> count(cs_coverage_0.95, event_ID, region_id) |> group_by(event_ID, region_id) |> summarise(cs_count = n()) |> count(cs_count)\n"
   ]
  },
  {
   "cell_type": "markdown",
   "metadata": {},
   "source": [
    "### CS level"
   ]
  },
  {
   "cell_type": "code",
   "execution_count": 12,
   "metadata": {
    "vscode": {
     "languageId": "r"
    }
   },
   "outputs": [
    {
     "data": {
      "text/html": [
       "<table class=\"dataframe\">\n",
       "<caption>A data.table: 1 × 2</caption>\n",
       "<thead>\n",
       "\t<tr><th scope=col>event_ID</th><th scope=col>n</th></tr>\n",
       "\t<tr><th scope=col>&lt;chr&gt;</th><th scope=col>&lt;int&gt;</th></tr>\n",
       "</thead>\n",
       "<tbody>\n",
       "\t<tr><td>AD_Bellenguez_2022</td><td>63</td></tr>\n",
       "</tbody>\n",
       "</table>\n"
      ],
      "text/latex": [
       "A data.table: 1 × 2\n",
       "\\begin{tabular}{ll}\n",
       " event\\_ID & n\\\\\n",
       " <chr> & <int>\\\\\n",
       "\\hline\n",
       "\t AD\\_Bellenguez\\_2022 & 63\\\\\n",
       "\\end{tabular}\n"
      ],
      "text/markdown": [
       "\n",
       "A data.table: 1 × 2\n",
       "\n",
       "| event_ID &lt;chr&gt; | n &lt;int&gt; |\n",
       "|---|---|\n",
       "| AD_Bellenguez_2022 | 63 |\n",
       "\n"
      ],
      "text/plain": [
       "  event_ID           n \n",
       "1 AD_Bellenguez_2022 63"
      ]
     },
     "metadata": {},
     "output_type": "display_data"
    }
   ],
   "source": [
    "# CS counts for each event_ID(trait)\n",
    "top_loci_0.95 |> count(event_ID, cs) |> count(event_ID)"
   ]
  },
  {
   "cell_type": "code",
   "execution_count": 13,
   "metadata": {
    "vscode": {
     "languageId": "r"
    }
   },
   "outputs": [
    {
     "data": {
      "text/html": [
       "<table class=\"dataframe\">\n",
       "<caption>A tibble: 27 × 2</caption>\n",
       "<thead>\n",
       "\t<tr><th scope=col>cs</th><th scope=col>n</th></tr>\n",
       "\t<tr><th scope=col>&lt;chr&gt;</th><th scope=col>&lt;int&gt;</th></tr>\n",
       "</thead>\n",
       "<tbody>\n",
       "\t<tr><td>AD_Bellenguez_2022_chr10_10500888_12817813:1  </td><td>1</td></tr>\n",
       "\t<tr><td>AD_Bellenguez_2022_chr11_119829118_122612025:1</td><td>1</td></tr>\n",
       "\t<tr><td>AD_Bellenguez_2022_chr11_56858541_60339997:1  </td><td>1</td></tr>\n",
       "\t<tr><td>AD_Bellenguez_2022_chr14_92293029_94303139:2  </td><td>1</td></tr>\n",
       "\t<tr><td>AD_Bellenguez_2022_chr15_47690138_49901356:1  </td><td>1</td></tr>\n",
       "\t<tr><td>AD_Bellenguez_2022_chr15_49901356_51733753:1  </td><td>1</td></tr>\n",
       "\t<tr><td>AD_Bellenguez_2022_chr15_49901356_51733753:2  </td><td>1</td></tr>\n",
       "\t<tr><td>AD_Bellenguez_2022_chr15_63051119_66680537:1  </td><td>1</td></tr>\n",
       "\t<tr><td>AD_Bellenguez_2022_chr16_81293081_82644764:2  </td><td>1</td></tr>\n",
       "\t<tr><td>AD_Bellenguez_2022_chr16_88382277_90220225:1  </td><td>1</td></tr>\n",
       "\t<tr><td>AD_Bellenguez_2022_chr17_42087601_45383525:1  </td><td>1</td></tr>\n",
       "\t<tr><td>AD_Bellenguez_2022_chr19_42346101_44935906:1  </td><td>1</td></tr>\n",
       "\t<tr><td>AD_Bellenguez_2022_chr19_42346101_44935906:3  </td><td>1</td></tr>\n",
       "\t<tr><td>AD_Bellenguez_2022_chr19_42346101_44935906:4  </td><td>1</td></tr>\n",
       "\t<tr><td>AD_Bellenguez_2022_chr19_44935906_46842901:1  </td><td>1</td></tr>\n",
       "\t<tr><td>AD_Bellenguez_2022_chr19_44935906_46842901:2  </td><td>1</td></tr>\n",
       "\t<tr><td>AD_Bellenguez_2022_chr19_44935906_46842901:4  </td><td>1</td></tr>\n",
       "\t<tr><td>AD_Bellenguez_2022_chr19_90949_1507536:1      </td><td>1</td></tr>\n",
       "\t<tr><td>AD_Bellenguez_2022_chr19_90949_1507536:3      </td><td>1</td></tr>\n",
       "\t<tr><td>AD_Bellenguez_2022_chr2_105444433_106385118:1 </td><td>1</td></tr>\n",
       "\t<tr><td>AD_Bellenguez_2022_chr2_125689597_127728648:1 </td><td>1</td></tr>\n",
       "\t<tr><td>AD_Bellenguez_2022_chr2_233100399_235132526:1 </td><td>1</td></tr>\n",
       "\t<tr><td>AD_Bellenguez_2022_chr4_138634616_141889177:1 </td><td>1</td></tr>\n",
       "\t<tr><td>AD_Bellenguez_2022_chr6_40377803_42070711:1   </td><td>1</td></tr>\n",
       "\t<tr><td>AD_Bellenguez_2022_chr6_40377803_42070711:2   </td><td>1</td></tr>\n",
       "\t<tr><td>AD_Bellenguez_2022_chr7_143353277_145271128:1 </td><td>1</td></tr>\n",
       "\t<tr><td>AD_Bellenguez_2022_chr8_143034200_145075767:1 </td><td>1</td></tr>\n",
       "</tbody>\n",
       "</table>\n"
      ],
      "text/latex": [
       "A tibble: 27 × 2\n",
       "\\begin{tabular}{ll}\n",
       " cs & n\\\\\n",
       " <chr> & <int>\\\\\n",
       "\\hline\n",
       "\t AD\\_Bellenguez\\_2022\\_chr10\\_10500888\\_12817813:1   & 1\\\\\n",
       "\t AD\\_Bellenguez\\_2022\\_chr11\\_119829118\\_122612025:1 & 1\\\\\n",
       "\t AD\\_Bellenguez\\_2022\\_chr11\\_56858541\\_60339997:1   & 1\\\\\n",
       "\t AD\\_Bellenguez\\_2022\\_chr14\\_92293029\\_94303139:2   & 1\\\\\n",
       "\t AD\\_Bellenguez\\_2022\\_chr15\\_47690138\\_49901356:1   & 1\\\\\n",
       "\t AD\\_Bellenguez\\_2022\\_chr15\\_49901356\\_51733753:1   & 1\\\\\n",
       "\t AD\\_Bellenguez\\_2022\\_chr15\\_49901356\\_51733753:2   & 1\\\\\n",
       "\t AD\\_Bellenguez\\_2022\\_chr15\\_63051119\\_66680537:1   & 1\\\\\n",
       "\t AD\\_Bellenguez\\_2022\\_chr16\\_81293081\\_82644764:2   & 1\\\\\n",
       "\t AD\\_Bellenguez\\_2022\\_chr16\\_88382277\\_90220225:1   & 1\\\\\n",
       "\t AD\\_Bellenguez\\_2022\\_chr17\\_42087601\\_45383525:1   & 1\\\\\n",
       "\t AD\\_Bellenguez\\_2022\\_chr19\\_42346101\\_44935906:1   & 1\\\\\n",
       "\t AD\\_Bellenguez\\_2022\\_chr19\\_42346101\\_44935906:3   & 1\\\\\n",
       "\t AD\\_Bellenguez\\_2022\\_chr19\\_42346101\\_44935906:4   & 1\\\\\n",
       "\t AD\\_Bellenguez\\_2022\\_chr19\\_44935906\\_46842901:1   & 1\\\\\n",
       "\t AD\\_Bellenguez\\_2022\\_chr19\\_44935906\\_46842901:2   & 1\\\\\n",
       "\t AD\\_Bellenguez\\_2022\\_chr19\\_44935906\\_46842901:4   & 1\\\\\n",
       "\t AD\\_Bellenguez\\_2022\\_chr19\\_90949\\_1507536:1       & 1\\\\\n",
       "\t AD\\_Bellenguez\\_2022\\_chr19\\_90949\\_1507536:3       & 1\\\\\n",
       "\t AD\\_Bellenguez\\_2022\\_chr2\\_105444433\\_106385118:1  & 1\\\\\n",
       "\t AD\\_Bellenguez\\_2022\\_chr2\\_125689597\\_127728648:1  & 1\\\\\n",
       "\t AD\\_Bellenguez\\_2022\\_chr2\\_233100399\\_235132526:1  & 1\\\\\n",
       "\t AD\\_Bellenguez\\_2022\\_chr4\\_138634616\\_141889177:1  & 1\\\\\n",
       "\t AD\\_Bellenguez\\_2022\\_chr6\\_40377803\\_42070711:1    & 1\\\\\n",
       "\t AD\\_Bellenguez\\_2022\\_chr6\\_40377803\\_42070711:2    & 1\\\\\n",
       "\t AD\\_Bellenguez\\_2022\\_chr7\\_143353277\\_145271128:1  & 1\\\\\n",
       "\t AD\\_Bellenguez\\_2022\\_chr8\\_143034200\\_145075767:1  & 1\\\\\n",
       "\\end{tabular}\n"
      ],
      "text/markdown": [
       "\n",
       "A tibble: 27 × 2\n",
       "\n",
       "| cs &lt;chr&gt; | n &lt;int&gt; |\n",
       "|---|---|\n",
       "| AD_Bellenguez_2022_chr10_10500888_12817813:1   | 1 |\n",
       "| AD_Bellenguez_2022_chr11_119829118_122612025:1 | 1 |\n",
       "| AD_Bellenguez_2022_chr11_56858541_60339997:1   | 1 |\n",
       "| AD_Bellenguez_2022_chr14_92293029_94303139:2   | 1 |\n",
       "| AD_Bellenguez_2022_chr15_47690138_49901356:1   | 1 |\n",
       "| AD_Bellenguez_2022_chr15_49901356_51733753:1   | 1 |\n",
       "| AD_Bellenguez_2022_chr15_49901356_51733753:2   | 1 |\n",
       "| AD_Bellenguez_2022_chr15_63051119_66680537:1   | 1 |\n",
       "| AD_Bellenguez_2022_chr16_81293081_82644764:2   | 1 |\n",
       "| AD_Bellenguez_2022_chr16_88382277_90220225:1   | 1 |\n",
       "| AD_Bellenguez_2022_chr17_42087601_45383525:1   | 1 |\n",
       "| AD_Bellenguez_2022_chr19_42346101_44935906:1   | 1 |\n",
       "| AD_Bellenguez_2022_chr19_42346101_44935906:3   | 1 |\n",
       "| AD_Bellenguez_2022_chr19_42346101_44935906:4   | 1 |\n",
       "| AD_Bellenguez_2022_chr19_44935906_46842901:1   | 1 |\n",
       "| AD_Bellenguez_2022_chr19_44935906_46842901:2   | 1 |\n",
       "| AD_Bellenguez_2022_chr19_44935906_46842901:4   | 1 |\n",
       "| AD_Bellenguez_2022_chr19_90949_1507536:1       | 1 |\n",
       "| AD_Bellenguez_2022_chr19_90949_1507536:3       | 1 |\n",
       "| AD_Bellenguez_2022_chr2_105444433_106385118:1  | 1 |\n",
       "| AD_Bellenguez_2022_chr2_125689597_127728648:1  | 1 |\n",
       "| AD_Bellenguez_2022_chr2_233100399_235132526:1  | 1 |\n",
       "| AD_Bellenguez_2022_chr4_138634616_141889177:1  | 1 |\n",
       "| AD_Bellenguez_2022_chr6_40377803_42070711:1    | 1 |\n",
       "| AD_Bellenguez_2022_chr6_40377803_42070711:2    | 1 |\n",
       "| AD_Bellenguez_2022_chr7_143353277_145271128:1  | 1 |\n",
       "| AD_Bellenguez_2022_chr8_143034200_145075767:1  | 1 |\n",
       "\n"
      ],
      "text/plain": [
       "   cs                                             n\n",
       "1  AD_Bellenguez_2022_chr10_10500888_12817813:1   1\n",
       "2  AD_Bellenguez_2022_chr11_119829118_122612025:1 1\n",
       "3  AD_Bellenguez_2022_chr11_56858541_60339997:1   1\n",
       "4  AD_Bellenguez_2022_chr14_92293029_94303139:2   1\n",
       "5  AD_Bellenguez_2022_chr15_47690138_49901356:1   1\n",
       "6  AD_Bellenguez_2022_chr15_49901356_51733753:1   1\n",
       "7  AD_Bellenguez_2022_chr15_49901356_51733753:2   1\n",
       "8  AD_Bellenguez_2022_chr15_63051119_66680537:1   1\n",
       "9  AD_Bellenguez_2022_chr16_81293081_82644764:2   1\n",
       "10 AD_Bellenguez_2022_chr16_88382277_90220225:1   1\n",
       "11 AD_Bellenguez_2022_chr17_42087601_45383525:1   1\n",
       "12 AD_Bellenguez_2022_chr19_42346101_44935906:1   1\n",
       "13 AD_Bellenguez_2022_chr19_42346101_44935906:3   1\n",
       "14 AD_Bellenguez_2022_chr19_42346101_44935906:4   1\n",
       "15 AD_Bellenguez_2022_chr19_44935906_46842901:1   1\n",
       "16 AD_Bellenguez_2022_chr19_44935906_46842901:2   1\n",
       "17 AD_Bellenguez_2022_chr19_44935906_46842901:4   1\n",
       "18 AD_Bellenguez_2022_chr19_90949_1507536:1       1\n",
       "19 AD_Bellenguez_2022_chr19_90949_1507536:3       1\n",
       "20 AD_Bellenguez_2022_chr2_105444433_106385118:1  1\n",
       "21 AD_Bellenguez_2022_chr2_125689597_127728648:1  1\n",
       "22 AD_Bellenguez_2022_chr2_233100399_235132526:1  1\n",
       "23 AD_Bellenguez_2022_chr4_138634616_141889177:1  1\n",
       "24 AD_Bellenguez_2022_chr6_40377803_42070711:1    1\n",
       "25 AD_Bellenguez_2022_chr6_40377803_42070711:2    1\n",
       "26 AD_Bellenguez_2022_chr7_143353277_145271128:1  1\n",
       "27 AD_Bellenguez_2022_chr8_143034200_145075767:1  1"
      ]
     },
     "metadata": {},
     "output_type": "display_data"
    }
   ],
   "source": [
    "top_loci_0.95 |> group_by(cs) |> summarise(n = n()) |> filter(n == 1)"
   ]
  },
  {
   "cell_type": "code",
   "execution_count": 18,
   "metadata": {
    "vscode": {
     "languageId": "r"
    }
   },
   "outputs": [
    {
     "data": {
      "text/html": [
       "<table class=\"dataframe\">\n",
       "<caption>A data.table: 1 × 3</caption>\n",
       "<thead>\n",
       "\t<tr><th scope=col>event_ID</th><th scope=col>region_id</th><th scope=col>n</th></tr>\n",
       "\t<tr><th scope=col>&lt;chr&gt;</th><th scope=col>&lt;chr&gt;</th><th scope=col>&lt;int&gt;</th></tr>\n",
       "</thead>\n",
       "<tbody>\n",
       "\t<tr><td>AD_Bellenguez_2022</td><td>chr19_42346101_44935906</td><td>3</td></tr>\n",
       "</tbody>\n",
       "</table>\n"
      ],
      "text/latex": [
       "A data.table: 1 × 3\n",
       "\\begin{tabular}{lll}\n",
       " event\\_ID & region\\_id & n\\\\\n",
       " <chr> & <chr> & <int>\\\\\n",
       "\\hline\n",
       "\t AD\\_Bellenguez\\_2022 & chr19\\_42346101\\_44935906 & 3\\\\\n",
       "\\end{tabular}\n"
      ],
      "text/markdown": [
       "\n",
       "A data.table: 1 × 3\n",
       "\n",
       "| event_ID &lt;chr&gt; | region_id &lt;chr&gt; | n &lt;int&gt; |\n",
       "|---|---|---|\n",
       "| AD_Bellenguez_2022 | chr19_42346101_44935906 | 3 |\n",
       "\n"
      ],
      "text/plain": [
       "  event_ID           region_id               n\n",
       "1 AD_Bellenguez_2022 chr19_42346101_44935906 3"
      ]
     },
     "metadata": {},
     "output_type": "display_data"
    }
   ],
   "source": [
    "top_loci_0.95 |> filter(finemap_model == \"bayesian_conditional_regression_RSS_QC_RAISS_imputed\") |> count(event_ID, region_id) "
   ]
  },
  {
   "cell_type": "code",
   "execution_count": 19,
   "metadata": {
    "vscode": {
     "languageId": "r"
    }
   },
   "outputs": [
    {
     "data": {
      "text/html": [
       "<table class=\"dataframe\">\n",
       "<caption>A data.table: 7 × 3</caption>\n",
       "<thead>\n",
       "\t<tr><th scope=col>event_ID</th><th scope=col>region_id</th><th scope=col>n</th></tr>\n",
       "\t<tr><th scope=col>&lt;chr&gt;</th><th scope=col>&lt;chr&gt;</th><th scope=col>&lt;int&gt;</th></tr>\n",
       "</thead>\n",
       "<tbody>\n",
       "\t<tr><td>AD_Bellenguez_2022</td><td>chr11_119829118_122612025</td><td>10</td></tr>\n",
       "\t<tr><td>AD_Bellenguez_2022</td><td>chr14_92293029_94303139  </td><td>25</td></tr>\n",
       "\t<tr><td>AD_Bellenguez_2022</td><td>chr15_49901356_51733753  </td><td> 2</td></tr>\n",
       "\t<tr><td>AD_Bellenguez_2022</td><td>chr16_81293081_82644764  </td><td> 8</td></tr>\n",
       "\t<tr><td>AD_Bellenguez_2022</td><td>chr19_44935906_46842901  </td><td> 5</td></tr>\n",
       "\t<tr><td>AD_Bellenguez_2022</td><td>chr19_90949_1507536      </td><td>10</td></tr>\n",
       "\t<tr><td>AD_Bellenguez_2022</td><td>chr6_40377803_42070711   </td><td> 2</td></tr>\n",
       "</tbody>\n",
       "</table>\n"
      ],
      "text/latex": [
       "A data.table: 7 × 3\n",
       "\\begin{tabular}{lll}\n",
       " event\\_ID & region\\_id & n\\\\\n",
       " <chr> & <chr> & <int>\\\\\n",
       "\\hline\n",
       "\t AD\\_Bellenguez\\_2022 & chr11\\_119829118\\_122612025 & 10\\\\\n",
       "\t AD\\_Bellenguez\\_2022 & chr14\\_92293029\\_94303139   & 25\\\\\n",
       "\t AD\\_Bellenguez\\_2022 & chr15\\_49901356\\_51733753   &  2\\\\\n",
       "\t AD\\_Bellenguez\\_2022 & chr16\\_81293081\\_82644764   &  8\\\\\n",
       "\t AD\\_Bellenguez\\_2022 & chr19\\_44935906\\_46842901   &  5\\\\\n",
       "\t AD\\_Bellenguez\\_2022 & chr19\\_90949\\_1507536       & 10\\\\\n",
       "\t AD\\_Bellenguez\\_2022 & chr6\\_40377803\\_42070711    &  2\\\\\n",
       "\\end{tabular}\n"
      ],
      "text/markdown": [
       "\n",
       "A data.table: 7 × 3\n",
       "\n",
       "| event_ID &lt;chr&gt; | region_id &lt;chr&gt; | n &lt;int&gt; |\n",
       "|---|---|---|\n",
       "| AD_Bellenguez_2022 | chr11_119829118_122612025 | 10 |\n",
       "| AD_Bellenguez_2022 | chr14_92293029_94303139   | 25 |\n",
       "| AD_Bellenguez_2022 | chr15_49901356_51733753   |  2 |\n",
       "| AD_Bellenguez_2022 | chr16_81293081_82644764   |  8 |\n",
       "| AD_Bellenguez_2022 | chr19_44935906_46842901   |  5 |\n",
       "| AD_Bellenguez_2022 | chr19_90949_1507536       | 10 |\n",
       "| AD_Bellenguez_2022 | chr6_40377803_42070711    |  2 |\n",
       "\n"
      ],
      "text/plain": [
       "  event_ID           region_id                 n \n",
       "1 AD_Bellenguez_2022 chr11_119829118_122612025 10\n",
       "2 AD_Bellenguez_2022 chr14_92293029_94303139   25\n",
       "3 AD_Bellenguez_2022 chr15_49901356_51733753    2\n",
       "4 AD_Bellenguez_2022 chr16_81293081_82644764    8\n",
       "5 AD_Bellenguez_2022 chr19_44935906_46842901    5\n",
       "6 AD_Bellenguez_2022 chr19_90949_1507536       10\n",
       "7 AD_Bellenguez_2022 chr6_40377803_42070711     2"
      ]
     },
     "metadata": {},
     "output_type": "display_data"
    }
   ],
   "source": [
    "top_loci_0.95 |> filter(finemap_model == \"susie_rss_RSS_QC_RAISS_imputed\") |> count(event_ID, region_id) \n"
   ]
  },
  {
   "cell_type": "markdown",
   "metadata": {},
   "source": [
    "## Finemapping Upset plots from manually checked top_loci table"
   ]
  },
  {
   "cell_type": "code",
   "execution_count": 9,
   "metadata": {
    "vscode": {
     "languageId": "r"
    }
   },
   "outputs": [],
   "source": [
    "# Read in the top_loci table\n",
    "top_loci <- fread(\"/home/rl3328/AD_GWAS_finemapping/AD_export_cs_corr_0.3_latest/export/FunGen_xQTL.ADGWAS.Mar25.exported.toploci.bed.gz\")\n",
    "top_loci_0.95 <- top_loci |> filter(cs_coverage_0.95 > 0)\n"
   ]
  },
  {
   "cell_type": "code",
   "execution_count": 10,
   "metadata": {
    "vscode": {
     "languageId": "r"
    }
   },
   "outputs": [
    {
     "data": {
      "text/html": [
       "<table class=\"dataframe\">\n",
       "<caption>A data.table: 6 × 16</caption>\n",
       "<thead>\n",
       "\t<tr><th scope=col>#chr</th><th scope=col>start</th><th scope=col>end</th><th scope=col>a1</th><th scope=col>a2</th><th scope=col>variant_ID</th><th scope=col>gene_ID</th><th scope=col>event_ID</th><th scope=col>cs_coverage_0.95</th><th scope=col>cs_coverage_0.7</th><th scope=col>cs_coverage_0.5</th><th scope=col>PIP</th><th scope=col>conditional_effect</th><th scope=col>resource</th><th scope=col>lfsr</th><th scope=col>z</th></tr>\n",
       "\t<tr><th scope=col>&lt;int&gt;</th><th scope=col>&lt;int&gt;</th><th scope=col>&lt;int&gt;</th><th scope=col>&lt;chr&gt;</th><th scope=col>&lt;chr&gt;</th><th scope=col>&lt;chr&gt;</th><th scope=col>&lt;chr&gt;</th><th scope=col>&lt;chr&gt;</th><th scope=col>&lt;int&gt;</th><th scope=col>&lt;int&gt;</th><th scope=col>&lt;int&gt;</th><th scope=col>&lt;dbl&gt;</th><th scope=col>&lt;lgl&gt;</th><th scope=col>&lt;chr&gt;</th><th scope=col>&lt;lgl&gt;</th><th scope=col>&lt;dbl&gt;</th></tr>\n",
       "</thead>\n",
       "<tbody>\n",
       "\t<tr><td>1</td><td>161185601</td><td>161185602</td><td>A</td><td>G</td><td>chr1:161185602:G:A</td><td>chr1_158933969_162352348</td><td>AD_Jansen_2021         </td><td>1</td><td>1</td><td>1</td><td>0.99011373</td><td>NA</td><td>AD_GWAS</td><td>NA</td><td>  6.369505</td></tr>\n",
       "\t<tr><td>1</td><td>207510846</td><td>207510847</td><td>G</td><td>T</td><td>chr1:207510847:T:G</td><td>chr1_205972031_208461272</td><td>AD_Bellenguez_2022     </td><td>1</td><td>0</td><td>0</td><td>0.16533081</td><td>NA</td><td>AD_GWAS</td><td>NA</td><td>-11.865385</td></tr>\n",
       "\t<tr><td>1</td><td>207510846</td><td>207510847</td><td>G</td><td>T</td><td>chr1:207510847:T:G</td><td>chr1_205972031_208461272</td><td>AD_Bellenguez_EADB_2022</td><td>1</td><td>1</td><td>1</td><td>0.15291225</td><td>NA</td><td>AD_GWAS</td><td>NA</td><td> -8.494280</td></tr>\n",
       "\t<tr><td>1</td><td>207510846</td><td>207510847</td><td>G</td><td>T</td><td>chr1:207510847:T:G</td><td>chr1_205972031_208461272</td><td>AD_Kunkle_Stage1_2019  </td><td>1</td><td>0</td><td>0</td><td>0.04243963</td><td>NA</td><td>AD_GWAS</td><td>NA</td><td> -7.962162</td></tr>\n",
       "\t<tr><td>1</td><td>207524698</td><td>207524699</td><td>C</td><td>T</td><td>chr1:207524699:T:C</td><td>chr1_205972031_208461272</td><td>AD_Kunkle_Stage1_2019  </td><td>1</td><td>0</td><td>0</td><td>0.01939925</td><td>NA</td><td>AD_GWAS</td><td>NA</td><td> -7.859551</td></tr>\n",
       "\t<tr><td>1</td><td>207564731</td><td>207564732</td><td>C</td><td>T</td><td>chr1:207564732:T:C</td><td>chr1_205972031_208461272</td><td>AD_Bellenguez_EADB_2022</td><td>1</td><td>0</td><td>0</td><td>0.02119730</td><td>NA</td><td>AD_GWAS</td><td>NA</td><td> -8.188079</td></tr>\n",
       "</tbody>\n",
       "</table>\n"
      ],
      "text/latex": [
       "A data.table: 6 × 16\n",
       "\\begin{tabular}{llllllllllllllll}\n",
       " \\#chr & start & end & a1 & a2 & variant\\_ID & gene\\_ID & event\\_ID & cs\\_coverage\\_0.95 & cs\\_coverage\\_0.7 & cs\\_coverage\\_0.5 & PIP & conditional\\_effect & resource & lfsr & z\\\\\n",
       " <int> & <int> & <int> & <chr> & <chr> & <chr> & <chr> & <chr> & <int> & <int> & <int> & <dbl> & <lgl> & <chr> & <lgl> & <dbl>\\\\\n",
       "\\hline\n",
       "\t 1 & 161185601 & 161185602 & A & G & chr1:161185602:G:A & chr1\\_158933969\\_162352348 & AD\\_Jansen\\_2021          & 1 & 1 & 1 & 0.99011373 & NA & AD\\_GWAS & NA &   6.369505\\\\\n",
       "\t 1 & 207510846 & 207510847 & G & T & chr1:207510847:T:G & chr1\\_205972031\\_208461272 & AD\\_Bellenguez\\_2022      & 1 & 0 & 0 & 0.16533081 & NA & AD\\_GWAS & NA & -11.865385\\\\\n",
       "\t 1 & 207510846 & 207510847 & G & T & chr1:207510847:T:G & chr1\\_205972031\\_208461272 & AD\\_Bellenguez\\_EADB\\_2022 & 1 & 1 & 1 & 0.15291225 & NA & AD\\_GWAS & NA &  -8.494280\\\\\n",
       "\t 1 & 207510846 & 207510847 & G & T & chr1:207510847:T:G & chr1\\_205972031\\_208461272 & AD\\_Kunkle\\_Stage1\\_2019   & 1 & 0 & 0 & 0.04243963 & NA & AD\\_GWAS & NA &  -7.962162\\\\\n",
       "\t 1 & 207524698 & 207524699 & C & T & chr1:207524699:T:C & chr1\\_205972031\\_208461272 & AD\\_Kunkle\\_Stage1\\_2019   & 1 & 0 & 0 & 0.01939925 & NA & AD\\_GWAS & NA &  -7.859551\\\\\n",
       "\t 1 & 207564731 & 207564732 & C & T & chr1:207564732:T:C & chr1\\_205972031\\_208461272 & AD\\_Bellenguez\\_EADB\\_2022 & 1 & 0 & 0 & 0.02119730 & NA & AD\\_GWAS & NA &  -8.188079\\\\\n",
       "\\end{tabular}\n"
      ],
      "text/markdown": [
       "\n",
       "A data.table: 6 × 16\n",
       "\n",
       "| #chr &lt;int&gt; | start &lt;int&gt; | end &lt;int&gt; | a1 &lt;chr&gt; | a2 &lt;chr&gt; | variant_ID &lt;chr&gt; | gene_ID &lt;chr&gt; | event_ID &lt;chr&gt; | cs_coverage_0.95 &lt;int&gt; | cs_coverage_0.7 &lt;int&gt; | cs_coverage_0.5 &lt;int&gt; | PIP &lt;dbl&gt; | conditional_effect &lt;lgl&gt; | resource &lt;chr&gt; | lfsr &lt;lgl&gt; | z &lt;dbl&gt; |\n",
       "|---|---|---|---|---|---|---|---|---|---|---|---|---|---|---|---|\n",
       "| 1 | 161185601 | 161185602 | A | G | chr1:161185602:G:A | chr1_158933969_162352348 | AD_Jansen_2021          | 1 | 1 | 1 | 0.99011373 | NA | AD_GWAS | NA |   6.369505 |\n",
       "| 1 | 207510846 | 207510847 | G | T | chr1:207510847:T:G | chr1_205972031_208461272 | AD_Bellenguez_2022      | 1 | 0 | 0 | 0.16533081 | NA | AD_GWAS | NA | -11.865385 |\n",
       "| 1 | 207510846 | 207510847 | G | T | chr1:207510847:T:G | chr1_205972031_208461272 | AD_Bellenguez_EADB_2022 | 1 | 1 | 1 | 0.15291225 | NA | AD_GWAS | NA |  -8.494280 |\n",
       "| 1 | 207510846 | 207510847 | G | T | chr1:207510847:T:G | chr1_205972031_208461272 | AD_Kunkle_Stage1_2019   | 1 | 0 | 0 | 0.04243963 | NA | AD_GWAS | NA |  -7.962162 |\n",
       "| 1 | 207524698 | 207524699 | C | T | chr1:207524699:T:C | chr1_205972031_208461272 | AD_Kunkle_Stage1_2019   | 1 | 0 | 0 | 0.01939925 | NA | AD_GWAS | NA |  -7.859551 |\n",
       "| 1 | 207564731 | 207564732 | C | T | chr1:207564732:T:C | chr1_205972031_208461272 | AD_Bellenguez_EADB_2022 | 1 | 0 | 0 | 0.02119730 | NA | AD_GWAS | NA |  -8.188079 |\n",
       "\n"
      ],
      "text/plain": [
       "  #chr start     end       a1 a2 variant_ID         gene_ID                 \n",
       "1 1    161185601 161185602 A  G  chr1:161185602:G:A chr1_158933969_162352348\n",
       "2 1    207510846 207510847 G  T  chr1:207510847:T:G chr1_205972031_208461272\n",
       "3 1    207510846 207510847 G  T  chr1:207510847:T:G chr1_205972031_208461272\n",
       "4 1    207510846 207510847 G  T  chr1:207510847:T:G chr1_205972031_208461272\n",
       "5 1    207524698 207524699 C  T  chr1:207524699:T:C chr1_205972031_208461272\n",
       "6 1    207564731 207564732 C  T  chr1:207564732:T:C chr1_205972031_208461272\n",
       "  event_ID                cs_coverage_0.95 cs_coverage_0.7 cs_coverage_0.5\n",
       "1 AD_Jansen_2021          1                1               1              \n",
       "2 AD_Bellenguez_2022      1                0               0              \n",
       "3 AD_Bellenguez_EADB_2022 1                1               1              \n",
       "4 AD_Kunkle_Stage1_2019   1                0               0              \n",
       "5 AD_Kunkle_Stage1_2019   1                0               0              \n",
       "6 AD_Bellenguez_EADB_2022 1                0               0              \n",
       "  PIP        conditional_effect resource lfsr z         \n",
       "1 0.99011373 NA                 AD_GWAS  NA     6.369505\n",
       "2 0.16533081 NA                 AD_GWAS  NA   -11.865385\n",
       "3 0.15291225 NA                 AD_GWAS  NA    -8.494280\n",
       "4 0.04243963 NA                 AD_GWAS  NA    -7.962162\n",
       "5 0.01939925 NA                 AD_GWAS  NA    -7.859551\n",
       "6 0.02119730 NA                 AD_GWAS  NA    -8.188079"
      ]
     },
     "metadata": {},
     "output_type": "display_data"
    },
    {
     "data": {
      "text/html": [
       "<style>\n",
       ".list-inline {list-style: none; margin:0; padding: 0}\n",
       ".list-inline>li {display: inline-block}\n",
       ".list-inline>li:not(:last-child)::after {content: \"\\00b7\"; padding: 0 .5ex}\n",
       "</style>\n",
       "<ol class=list-inline><li>2609</li><li>16</li></ol>\n"
      ],
      "text/latex": [
       "\\begin{enumerate*}\n",
       "\\item 2609\n",
       "\\item 16\n",
       "\\end{enumerate*}\n"
      ],
      "text/markdown": [
       "1. 2609\n",
       "2. 16\n",
       "\n",
       "\n"
      ],
      "text/plain": [
       "[1] 2609   16"
      ]
     },
     "metadata": {},
     "output_type": "display_data"
    }
   ],
   "source": [
    "head(top_loci_0.95)\n",
    "dim(top_loci_0.95)"
   ]
  },
  {
   "cell_type": "code",
   "execution_count": 11,
   "metadata": {
    "vscode": {
     "languageId": "r"
    }
   },
   "outputs": [
    {
     "data": {
      "text/html": [
       "<style>\n",
       ".list-inline {list-style: none; margin:0; padding: 0}\n",
       ".list-inline>li {display: inline-block}\n",
       ".list-inline>li:not(:last-child)::after {content: \"\\00b7\"; padding: 0 .5ex}\n",
       "</style>\n",
       "<ol class=list-inline><li>'AD_Jansen_2021'</li><li>'AD_Bellenguez_2022'</li><li>'AD_Bellenguez_EADB_2022'</li><li>'AD_Kunkle_Stage1_2019'</li><li>'AD_Wightman_Excluding23andMe_2021'</li><li>'AD_Wightman_Full_2021'</li><li>'AD_Wightman_ExcludingUKBand23andME_2021'</li><li>'AD_Bellenguez_EADI_2022'</li></ol>\n"
      ],
      "text/latex": [
       "\\begin{enumerate*}\n",
       "\\item 'AD\\_Jansen\\_2021'\n",
       "\\item 'AD\\_Bellenguez\\_2022'\n",
       "\\item 'AD\\_Bellenguez\\_EADB\\_2022'\n",
       "\\item 'AD\\_Kunkle\\_Stage1\\_2019'\n",
       "\\item 'AD\\_Wightman\\_Excluding23andMe\\_2021'\n",
       "\\item 'AD\\_Wightman\\_Full\\_2021'\n",
       "\\item 'AD\\_Wightman\\_ExcludingUKBand23andME\\_2021'\n",
       "\\item 'AD\\_Bellenguez\\_EADI\\_2022'\n",
       "\\end{enumerate*}\n"
      ],
      "text/markdown": [
       "1. 'AD_Jansen_2021'\n",
       "2. 'AD_Bellenguez_2022'\n",
       "3. 'AD_Bellenguez_EADB_2022'\n",
       "4. 'AD_Kunkle_Stage1_2019'\n",
       "5. 'AD_Wightman_Excluding23andMe_2021'\n",
       "6. 'AD_Wightman_Full_2021'\n",
       "7. 'AD_Wightman_ExcludingUKBand23andME_2021'\n",
       "8. 'AD_Bellenguez_EADI_2022'\n",
       "\n",
       "\n"
      ],
      "text/plain": [
       "[1] \"AD_Jansen_2021\"                         \n",
       "[2] \"AD_Bellenguez_2022\"                     \n",
       "[3] \"AD_Bellenguez_EADB_2022\"                \n",
       "[4] \"AD_Kunkle_Stage1_2019\"                  \n",
       "[5] \"AD_Wightman_Excluding23andMe_2021\"      \n",
       "[6] \"AD_Wightman_Full_2021\"                  \n",
       "[7] \"AD_Wightman_ExcludingUKBand23andME_2021\"\n",
       "[8] \"AD_Bellenguez_EADI_2022\"                "
      ]
     },
     "metadata": {},
     "output_type": "display_data"
    }
   ],
   "source": [
    "unique(top_loci_0.95$event_ID)"
   ]
  },
  {
   "cell_type": "code",
   "execution_count": 13,
   "metadata": {
    "vscode": {
     "languageId": "r"
    }
   },
   "outputs": [],
   "source": [
    "bellenguez_2022 <- top_loci_0.95[top_loci_0.95$event_ID == 'AD_Bellenguez_2022', ]\n",
    "bellenguez_eadb_2022 <- top_loci_0.95[top_loci_0.95$event_ID == 'AD_Bellenguez_EADB_2022', ]\n",
    "kunkle_2019 <- top_loci_0.95[top_loci_0.95$event_ID == 'AD_Kunkle_Stage1_2019', ]\n",
    "wightman_ex23andme_2021 <- top_loci_0.95[top_loci_0.95$event_ID == 'AD_Wightman_Excluding23andMe_2021', ]\n",
    "wightman_full_2021 <- top_loci_0.95[top_loci_0.95$event_ID == 'AD_Wightman_Full_2021', ]\n",
    "wightman_exUKB23andme_2021 <- top_loci_0.95[top_loci_0.95$event_ID == 'AD_Wightman_ExcludingUKBand23andME_2021', ]\n",
    "\n"
   ]
  },
  {
   "cell_type": "markdown",
   "metadata": {},
   "source": [
    "### 2.Block level "
   ]
  },
  {
   "cell_type": "code",
   "execution_count": 21,
   "metadata": {
    "vscode": {
     "languageId": "r"
    }
   },
   "outputs": [
    {
     "name": "stdout",
     "output_type": "stream",
     "text": [
      "Matrix dimensions: 66 6 \n",
      "Number of regions present in each dataset:\n"
     ]
    },
    {
     "data": {
      "text/html": [
       "<style>\n",
       ".dl-inline {width: auto; margin:0; padding: 0}\n",
       ".dl-inline>dt, .dl-inline>dd {float: none; width: auto; display: inline-block}\n",
       ".dl-inline>dt::after {content: \":\\0020\"; padding-right: .5ex}\n",
       ".dl-inline>dt:not(:first-of-type) {padding-left: .5ex}\n",
       "</style><dl class=dl-inline><dt>Bellenguez_EADB_2022</dt><dd>12</dd><dt>Wightman_Full_2021</dt><dd>22</dd><dt>Kunkle_2019</dt><dd>9</dd><dt>Wightman_ExcludingUKBand23andME_2021</dt><dd>16</dd><dt>Wightman_Excluding23andMe_2021</dt><dd>21</dd><dt>Bellenguez_2022</dt><dd>50</dd></dl>\n"
      ],
      "text/latex": [
       "\\begin{description*}\n",
       "\\item[Bellenguez\\textbackslash{}\\_EADB\\textbackslash{}\\_2022] 12\n",
       "\\item[Wightman\\textbackslash{}\\_Full\\textbackslash{}\\_2021] 22\n",
       "\\item[Kunkle\\textbackslash{}\\_2019] 9\n",
       "\\item[Wightman\\textbackslash{}\\_ExcludingUKBand23andME\\textbackslash{}\\_2021] 16\n",
       "\\item[Wightman\\textbackslash{}\\_Excluding23andMe\\textbackslash{}\\_2021] 21\n",
       "\\item[Bellenguez\\textbackslash{}\\_2022] 50\n",
       "\\end{description*}\n"
      ],
      "text/markdown": [
       "Bellenguez_EADB_2022\n",
       ":   12Wightman_Full_2021\n",
       ":   22Kunkle_2019\n",
       ":   9Wightman_ExcludingUKBand23andME_2021\n",
       ":   16Wightman_Excluding23andMe_2021\n",
       ":   21Bellenguez_2022\n",
       ":   50\n",
       "\n"
      ],
      "text/plain": [
       "                Bellenguez_EADB_2022                   Wightman_Full_2021 \n",
       "                                  12                                   22 \n",
       "                         Kunkle_2019 Wightman_ExcludingUKBand23andME_2021 \n",
       "                                   9                                   16 \n",
       "      Wightman_Excluding23andMe_2021                      Bellenguez_2022 \n",
       "                                  21                                   50 "
      ]
     },
     "metadata": {},
     "output_type": "display_data"
    },
    {
     "name": "stdout",
     "output_type": "stream",
     "text": [
      "\n",
      "Number of regions present in multiple datasets:\n"
     ]
    },
    {
     "data": {
      "text/plain": [
       "row_sums\n",
       " 1  2  3  4  5  6 \n",
       "37 10  9  6  2  2 "
      ]
     },
     "metadata": {},
     "output_type": "display_data"
    },
    {
     "data": {
      "text/html": [
       "<table class=\"dataframe\">\n",
       "<caption>A data.frame: 6 × 6</caption>\n",
       "<thead>\n",
       "\t<tr><th></th><th scope=col>Bellenguez_EADB_2022</th><th scope=col>Wightman_Full_2021</th><th scope=col>Kunkle_2019</th><th scope=col>Wightman_ExcludingUKBand23andME_2021</th><th scope=col>Wightman_Excluding23andMe_2021</th><th scope=col>Bellenguez_2022</th></tr>\n",
       "\t<tr><th></th><th scope=col>&lt;dbl&gt;</th><th scope=col>&lt;dbl&gt;</th><th scope=col>&lt;dbl&gt;</th><th scope=col>&lt;dbl&gt;</th><th scope=col>&lt;dbl&gt;</th><th scope=col>&lt;dbl&gt;</th></tr>\n",
       "</thead>\n",
       "<tbody>\n",
       "\t<tr><th scope=row>chr1_205972031_208461272</th><td>1</td><td>0</td><td>1</td><td>0</td><td>0</td><td>1</td></tr>\n",
       "\t<tr><th scope=row>chr10_10500888_12817813</th><td>0</td><td>1</td><td>0</td><td>0</td><td>1</td><td>1</td></tr>\n",
       "\t<tr><th scope=row>chr10_122047725_123788803</th><td>0</td><td>1</td><td>0</td><td>0</td><td>0</td><td>0</td></tr>\n",
       "\t<tr><th scope=row>chr10_57667362_59558848</th><td>0</td><td>0</td><td>0</td><td>0</td><td>0</td><td>1</td></tr>\n",
       "\t<tr><th scope=row>chr10_59558848_62446953</th><td>0</td><td>0</td><td>0</td><td>0</td><td>0</td><td>1</td></tr>\n",
       "\t<tr><th scope=row>chr10_80126158_82231647</th><td>0</td><td>0</td><td>0</td><td>0</td><td>0</td><td>1</td></tr>\n",
       "</tbody>\n",
       "</table>\n"
      ],
      "text/latex": [
       "A data.frame: 6 × 6\n",
       "\\begin{tabular}{r|llllll}\n",
       "  & Bellenguez\\_EADB\\_2022 & Wightman\\_Full\\_2021 & Kunkle\\_2019 & Wightman\\_ExcludingUKBand23andME\\_2021 & Wightman\\_Excluding23andMe\\_2021 & Bellenguez\\_2022\\\\\n",
       "  & <dbl> & <dbl> & <dbl> & <dbl> & <dbl> & <dbl>\\\\\n",
       "\\hline\n",
       "\tchr1\\_205972031\\_208461272 & 1 & 0 & 1 & 0 & 0 & 1\\\\\n",
       "\tchr10\\_10500888\\_12817813 & 0 & 1 & 0 & 0 & 1 & 1\\\\\n",
       "\tchr10\\_122047725\\_123788803 & 0 & 1 & 0 & 0 & 0 & 0\\\\\n",
       "\tchr10\\_57667362\\_59558848 & 0 & 0 & 0 & 0 & 0 & 1\\\\\n",
       "\tchr10\\_59558848\\_62446953 & 0 & 0 & 0 & 0 & 0 & 1\\\\\n",
       "\tchr10\\_80126158\\_82231647 & 0 & 0 & 0 & 0 & 0 & 1\\\\\n",
       "\\end{tabular}\n"
      ],
      "text/markdown": [
       "\n",
       "A data.frame: 6 × 6\n",
       "\n",
       "| <!--/--> | Bellenguez_EADB_2022 &lt;dbl&gt; | Wightman_Full_2021 &lt;dbl&gt; | Kunkle_2019 &lt;dbl&gt; | Wightman_ExcludingUKBand23andME_2021 &lt;dbl&gt; | Wightman_Excluding23andMe_2021 &lt;dbl&gt; | Bellenguez_2022 &lt;dbl&gt; |\n",
       "|---|---|---|---|---|---|---|\n",
       "| chr1_205972031_208461272 | 1 | 0 | 1 | 0 | 0 | 1 |\n",
       "| chr10_10500888_12817813 | 0 | 1 | 0 | 0 | 1 | 1 |\n",
       "| chr10_122047725_123788803 | 0 | 1 | 0 | 0 | 0 | 0 |\n",
       "| chr10_57667362_59558848 | 0 | 0 | 0 | 0 | 0 | 1 |\n",
       "| chr10_59558848_62446953 | 0 | 0 | 0 | 0 | 0 | 1 |\n",
       "| chr10_80126158_82231647 | 0 | 0 | 0 | 0 | 0 | 1 |\n",
       "\n"
      ],
      "text/plain": [
       "                          Bellenguez_EADB_2022 Wightman_Full_2021 Kunkle_2019\n",
       "chr1_205972031_208461272  1                    0                  1          \n",
       "chr10_10500888_12817813   0                    1                  0          \n",
       "chr10_122047725_123788803 0                    1                  0          \n",
       "chr10_57667362_59558848   0                    0                  0          \n",
       "chr10_59558848_62446953   0                    0                  0          \n",
       "chr10_80126158_82231647   0                    0                  0          \n",
       "                          Wightman_ExcludingUKBand23andME_2021\n",
       "chr1_205972031_208461272  0                                   \n",
       "chr10_10500888_12817813   0                                   \n",
       "chr10_122047725_123788803 0                                   \n",
       "chr10_57667362_59558848   0                                   \n",
       "chr10_59558848_62446953   0                                   \n",
       "chr10_80126158_82231647   0                                   \n",
       "                          Wightman_Excluding23andMe_2021 Bellenguez_2022\n",
       "chr1_205972031_208461272  0                              1              \n",
       "chr10_10500888_12817813   1                              1              \n",
       "chr10_122047725_123788803 0                              0              \n",
       "chr10_57667362_59558848   0                              1              \n",
       "chr10_59558848_62446953   0                              1              \n",
       "chr10_80126158_82231647   0                              1              "
      ]
     },
     "metadata": {},
     "output_type": "display_data"
    }
   ],
   "source": [
    "\n",
    "# 3. Venn diagram for all datasets\n",
    "all_list <- list(Bellenguez_EADB_2022 = unique(bellenguez_eadb_2022$gene_ID),\n",
    "                Wightman_Full_2021 = unique(wightman_full_2021$gene_ID),\n",
    "                Kunkle_2019 = unique(kunkle_2019$gene_ID),\n",
    "                Wightman_ExcludingUKBand23andME_2021 = unique(wightman_exUKB23andme_2021$gene_ID),\n",
    "                Wightman_Excluding23andMe_2021 = unique(wightman_ex23andme_2021$gene_ID),\n",
    "                Bellenguez_2022 = unique(bellenguez_2022$gene_ID))\n",
    "\n",
    "# For all datasets, we might want to use a different approach\n",
    "# as ggVennDiagram works best with 2-5 sets\n",
    "# We can use the upset plot for visualizing many sets\n",
    "\n",
    "# Install if not already installed\n",
    "# install.packages(\"UpSetR\")\n",
    "library(UpSetR)\n",
    "\n",
    "# Convert the list to a format suitable for UpSetR\n",
    "# CORRECTED VERSION: Don't use unique() to avoid removing duplicates across datasets\n",
    "all_regions <- unlist(all_list)\n",
    "# Count occurrences of each variant\n",
    "region_counts <- table(all_regions)\n",
    "# Keep only unique variant names but preserve their occurrence information\n",
    "all_regions_unique <- names(region_counts)\n",
    "\n",
    "# Create presence matrix correctly\n",
    "presence_matrix <- matrix(0, nrow = length(all_regions_unique), ncol = length(all_list))\n",
    "colnames(presence_matrix) <- names(all_list)\n",
    "rownames(presence_matrix) <- all_regions_unique\n",
    "\n",
    "# Fill the matrix with correct presence information\n",
    "for (i in 1:length(all_list)) {\n",
    "  presence_matrix[all_regions_unique %in% all_list[[i]], i] <- 1\n",
    "}\n",
    "\n",
    "# Print matrix summary to check\n",
    "cat(\"Matrix dimensions:\", dim(presence_matrix), \"\\n\")\n",
    "cat(\"Number of regions present in each dataset:\\n\")\n",
    "colSums(presence_matrix)\n",
    "\n",
    "# Print overlap statistics\n",
    "cat(\"\\nNumber of regions present in multiple datasets:\\n\")\n",
    "row_sums <- rowSums(presence_matrix)\n",
    "table(row_sums)\n",
    "\n",
    "# Convert to data frame for UpSetR\n",
    "presence_df <- as.data.frame(presence_matrix)\n",
    "\n",
    "\n",
    "head(presence_df)"
   ]
  },
  {
   "cell_type": "code",
   "execution_count": 32,
   "metadata": {
    "vscode": {
     "languageId": "r"
    }
   },
   "outputs": [
    {
     "data": {
      "text/html": [
       "<strong>pdf:</strong> 2"
      ],
      "text/latex": [
       "\\textbf{pdf:} 2"
      ],
      "text/markdown": [
       "**pdf:** 2"
      ],
      "text/plain": [
       "pdf \n",
       "  2 "
      ]
     },
     "metadata": {},
     "output_type": "display_data"
    },
    {
     "data": {
      "image/png": "[encoded data removed]",
      "text/plain": [
       "plot without title"
      ]
     },
     "metadata": {
      "image/png": {
       "height": 600,
       "width": 1560
      }
     },
     "output_type": "display_data"
    }
   ],
   "source": [
    "# Save the upset plot\n",
    "# Choose one of the following formats:\n",
    "\n",
    "\n",
    "options(repr.plot.width = 26, repr.plot.height = 10)\n",
    "\n",
    "\n",
    "p = upset(presence_df, \n",
    "      sets = c(\"Bellenguez_2022\", \"Wightman_Excluding23andMe_2021\", \"Wightman_ExcludingUKBand23andME_2021\",\n",
    "             \"Kunkle_2019\", \"Wightman_Full_2021\", \"Bellenguez_EADB_2022\"),\n",
    "      keep.order = T,\n",
    "      nintersects = 100,\n",
    "      order.by = \"freq\",\n",
    "      main.bar.color = \"steelblue3\",\n",
    "      matrix.color = \"black\",\n",
    "      sets.bar.color = \"sandybrown\",\n",
    "      set_size.show = TRUE,\n",
    "      number.angles = 30,\n",
    "      text.scale = c(2,2,2,2,2),\n",
    "      point.size = 4,\n",
    "      line.size = 1.5,\n",
    "      mainbar.y.label = \"\",\n",
    "      sets.x.label = NULL,\n",
    "      mb.ratio = c(0.7, 0.3),  # Adjust ratio between main bar and matrix\n",
    "      )\n",
    "print(p)\n",
    "# Save the plot to a file\n",
    "png(\"AD_upset_plot_ucos_block.png\", width = 26, height = 10, units = \"in\", res = 300)\n",
    "print(p)\n",
    "dev.off()"
   ]
  },
  {
   "cell_type": "code",
   "execution_count": 26,
   "metadata": {
    "vscode": {
     "languageId": "r"
    }
   },
   "outputs": [
    {
     "data": {
      "text/html": [
       "<style>\n",
       ".list-inline {list-style: none; margin:0; padding: 0}\n",
       ".list-inline>li {display: inline-block}\n",
       ".list-inline>li:not(:last-child)::after {content: \"\\00b7\"; padding: 0 .5ex}\n",
       "</style>\n",
       "<ol class=list-inline><li>29</li><li>6</li></ol>\n"
      ],
      "text/latex": [
       "\\begin{enumerate*}\n",
       "\\item 29\n",
       "\\item 6\n",
       "\\end{enumerate*}\n"
      ],
      "text/markdown": [
       "1. 29\n",
       "2. 6\n",
       "\n",
       "\n"
      ],
      "text/plain": [
       "[1] 29  6"
      ]
     },
     "metadata": {},
     "output_type": "display_data"
    }
   ],
   "source": [
    "presence_df_cos <- filter(presence_df, rowSums(presence_df) > 1)\n",
    "dim(presence_df_cos)"
   ]
  },
  {
   "cell_type": "code",
   "execution_count": 31,
   "metadata": {
    "vscode": {
     "languageId": "r"
    }
   },
   "outputs": [
    {
     "data": {
      "text/html": [
       "<strong>pdf:</strong> 2"
      ],
      "text/latex": [
       "\\textbf{pdf:} 2"
      ],
      "text/markdown": [
       "**pdf:** 2"
      ],
      "text/plain": [
       "pdf \n",
       "  2 "
      ]
     },
     "metadata": {},
     "output_type": "display_data"
    },
    {
     "data": {
      "image/png": "[encoded data removed]",
      "text/plain": [
       "plot without title"
      ]
     },
     "metadata": {
      "image/png": {
       "height": 600,
       "width": 1560
      }
     },
     "output_type": "display_data"
    }
   ],
   "source": [
    "# Save the upset plot\n",
    "# Choose one of the following formats:\n",
    "\n",
    "\n",
    "options(repr.plot.width = 26, repr.plot.height = 10)\n",
    "\n",
    "\n",
    "p = upset(presence_df_cos, \n",
    "      sets = c(\"Bellenguez_2022\", \"Wightman_Excluding23andMe_2021\", \"Wightman_ExcludingUKBand23andME_2021\",\n",
    "             \"Kunkle_2019\", \"Wightman_Full_2021\", \"Bellenguez_EADB_2022\"),\n",
    "      keep.order = T,\n",
    "      nintersects = 100,\n",
    "      order.by = \"freq\",\n",
    "      main.bar.color = \"steelblue3\",\n",
    "      matrix.color = \"black\",\n",
    "      sets.bar.color = \"sandybrown\",\n",
    "      set_size.show = TRUE,\n",
    "      number.angles = 30,\n",
    "      text.scale = c(2,2,2,2,2),\n",
    "      point.size = 4,\n",
    "      line.size = 1.5,\n",
    "      mainbar.y.label = \"\",\n",
    "      sets.x.label = NULL,\n",
    "      mb.ratio = c(0.7, 0.3),  # Adjust ratio between main bar and matrix\n",
    "      )\n",
    "print(p)\n",
    "# Save the plot to a file\n",
    "png(\"AD_upset_plot_cos_block.png\", width = 26, height = 10, units = \"in\", res = 300)\n",
    "print(p)\n",
    "dev.off()"
   ]
  }
 ],
 "metadata": {
  "kernelspec": {
   "display_name": "R",
   "language": "R",
   "name": "ir"
  },
  "language_info": {
   "codemirror_mode": "r",
   "file_extension": ".r",
   "mimetype": "text/x-r-source",
   "name": "R",
   "pygments_lexer": "r",
   "version": "4.4.3"
  }
 },
 "nbformat": 4,
 "nbformat_minor": 2
}
