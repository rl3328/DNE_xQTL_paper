{
 "cells": [
  {
   "cell_type": "markdown",
   "metadata": {},
   "source": [
    "\n",
    "# **Image_MS_GWAS_Finemapping_Top_Loci_Overview**\n",
    "\n",
    "## **Background**\n",
    "\n",
    "Top variants were identified if they met **either** of the following criteria:\n",
    "\n",
    "- Belonged to a **95% credible set (CS)** with **minimum correlation (min_corr) ≥ 0.8**, or  \n",
    "- Had a **posterior inclusion probability (PIP) > 0.05**.\n",
    "\n",
    "A CS is considered spurious when meeting either of the criteria below, which is relatively sensitive to LD mismatch and tend to choose other models:\n",
    "- `p_value > 1e-4`  \n",
    "- `cs_corr > 0.3`\n",
    "\n",
    "(For detailed model selection criteria, please refer to the [final_decision.ipynb](https://github.com/cumc/xqtl-analysis/blob/main/analysis/Wang_Columbia/EDA/Finemapping_results_summary/Automated_QC_EDA/final_desicion.ipynb).)\n",
    "\n",
    "---\n",
    "\n",
    "## **Summary**\n",
    "\n",
    "### **Variant-Level Overview**\n",
    "\n",
    "| Trait           | Top Variants | In 95% CS | Total Variants |\n",
    "|------------------|---------------|------------|-----------------|\n",
    "| MS_EUR           | 4,400         | 1,015      | 8,954,288       |\n",
    "| image_AD1        | 4,334         | 183        | 6,475,770       |\n",
    "| image_Aging5     | 3,938         | 842        | 8,466,949       |\n",
    "| image_Aging4     | 3,103         | 255        | 8,466,949       |\n",
    "| image_Aging1     | 2,888         | 303        | 8,466,949       |\n",
    "| image_Aging2     | 2,702         | 137        | 8,466,949       |\n",
    "| image_AD2        | 2,263         | 190        | 6,475,770       |\n",
    "| image_Aging3     | 2,166         | 221        | 8,466,949       |\n",
    "\n",
    "\n",
    "---\n",
    "\n",
    "### **Credible Set (CS)-Level Overview**\n",
    "\n",
    "| Trait           | CS Count | Single-Variant CS | Proportion (%) |\n",
    "|------------------|-----------|--------------------|-----------------|\n",
    "| MS_EUR           | 56        | 6                  | 10.7%           |\n",
    "| image_AD1        | 9         | 0                  | 0.0%            |\n",
    "| image_AD2        | 12        | 4                  | 33.3%           |\n",
    "| image_Aging1     | 13        | 1                  | 7.7%            |\n",
    "| image_Aging2     | 11        | 1                  | 9.1%            |\n",
    "| image_Aging3     | 9         | 1                  | 11.1%           |\n",
    "| image_Aging4     | 12        | 0                  | 0.0%            |\n",
    "| image_Aging5     | 17        | 2                  | 11.8%           |\n",
    "\n",
    "\n",
    "---\n",
    "\n",
    "### **Study-Block Level Overview**\n",
    "\n",
    "| Trait           | Blocks with CS |\n",
    "|------------------|-----------------|\n",
    "| MS_EUR           | 49              |\n",
    "| image_AD1        | 9               |\n",
    "| image_AD2        | 12              |\n",
    "| image_Aging1     | 12              |\n",
    "| image_Aging2     | 11              |\n",
    "| image_Aging3     | 9               |\n",
    "| image_Aging4     | 12              |\n",
    "| image_Aging5     | 17              |\n",
    "\n",
    "\n",
    "#### **Study Blocks by CS Count**\n",
    "\n",
    "- **MS_EUR**:  \n",
    "  - 49 study_blocks contain CS  \n",
    "  - 42 blocks have **1 CS**, 7 blocks have **2 CS**\n",
    "\n",
    "- **Image Traits Combined**:  \n",
    "  - 82 study_blocks contain CS  \n",
    "  - 81 blocks have **1 CS**, only **1 block** in `image_Aging1` has **2 CS**\n",
    "\n",
    "#### **Study Blocks by Fine-Mapping Model**\n",
    "\n",
    "- **Image Traits**:  \n",
    "  - All used **single_effect_NO_QC**, except for chr14_53697988_56126490,image_Aging1, which used **susie_rss_RSS_QC_RAISS_imputed**\n",
    "\n",
    "- **MS_EUR**:  \n",
    "  - Out of 49 study_blocks with CS:\n",
    "    - 6 used **susie_rss_RSS_QC_RAISS_imputed**\n",
    "    - 2 used **bayesian_conditional_regression_RSS_QC_RAISS_imputed**\n",
    "    - 41 used **single_effect_NO_QC**\n",
    "\n",
    "\n",
    "## Visualization between manhattan plot and psuedo_manhattan plot from finemapping\n",
    "1. The pseudo-Manhattan plot includes only variants within the 95% credible set, with the x-axis representing chromosome and variant position, and the y-axis indicating the posterior inclusion probability (PIP). A reference line was drawn at PIP = 0.1.\n",
    "2. In parallel, a genome-wide Manhattan plot based on raw GWAS summary statistics includes a Bonferroni-corrected significance threshold.\n",
    "3. The two plots reveal consistent signals at the block level across all traits, providing support for the quality of the fine-mapping results.\n",
    "\n",
    "## PIP plot for the study_block with 2 CS\n",
    "I drew the PIP plot for the only study_block with 2 CS, the two CS are physically located but correlation between CS is not large(-0.037).\n",
    "\n",
    "## Shared study_blocks across traits\n",
    "Since most study blocks use the SER model for fine-mapping, I can identify overlapping variants to detect shared significant SNPs and shared study_blocks, although this might be conservative...\n",
    "![Upset Plot at study_block level](./all_variants_upset_plot.pdf)\n",
    "1. AI brain subpatterns(Aging1-5) are relatively independent from each other in Aging. So as in AD.\n",
    "* AD1 and AD2 shared 10 variants in 1 study_block.\n",
    "* Aging1 and Aging2 shared 47 variants in 1 study_block.\n",
    "* Aging3 and Aging4 shared 3 variants in 1 study_block.\n",
    "* Aging3 and Aging5 shared 1 variants in 1 study_block.\n",
    "2. A naive thought for further analysis is to pay attention to the the commoness and difference between Aging2 and AD2...\n",
    "\n",
    "\n",
    "## Top loci that can be explained by GVC gene list\n",
    "\n",
    "* a. Analysis steps:\n",
    "\n",
    "  * To assess the overlap between colocboost-identified variants and the GVC gene list, I defined a **cis-window** for each gene as:[gene_start - 500kb, gene_end + 500kb]\n",
    "\n",
    "  > This definition is **strand-agnostic** and does not rely on transcription start site (TSS) or transcription end site (TES), which are strand-dependent.\n",
    "\n",
    "  * For each GVC gene, I checked whether any variants identified by colocboost fall within its cis-window. If a match was found, I added a region column in the format: `chrN:gene_start-500,000_gene_end+500,000`\n",
    "\n",
    "  * Below is the annotated table showing GVC genes and whether colocboost variants fall within their cis-windows:\n",
    "\n",
    "    ```   \n",
    "    #chr     start       end         gene_id strand  gene_name is_in_cis_window                cis_window  contained_variants\n",
    "            <char>     <int>     <int>          <char> <char>     <char>             <lgcl>                    <char>              <char>\n",
    "        1:   chr1 207496146 207641764 ENSG00000203710      +        CR1             FALSE                      <NA>                <NA>\n",
    "        2:   chr1 226870183 226927725 ENSG00000143801      +      PSEN2             FALSE                      <NA>                <NA>\n",
    "        3:   chr1 226870183 226987544 ENSG00000288674      + AL391628.1             FALSE                      <NA>                <NA>\n",
    "        4:   chr2 127048026 127107287 ENSG00000136717      -       BIN1             FALSE                      <NA>                <NA>\n",
    "    ```\n",
    "\n",
    "* b. Overlap Results\n",
    "\n",
    "  Out of the **21 GVC genes** (note: two genes share the same Ensembl ID):\n",
    "  * **one gene SPI1** was be explained by AD2 finemapping results.\n",
    "\n",
    "## Top loci that can be explained by Table1 gene list\n",
    "\n",
    "* a. Analysis steps:\n",
    "\n",
    "  * To assess the overlap between colocboost-identified variants and the GVC gene list, I defined a **cis-window** for each gene as:[gene_start - 500kb, gene_end + 500kb]\n",
    "\n",
    "  > This definition is **strand-agnostic** and does not rely on transcription start site (TSS) or transcription end site (TES), which are strand-dependent.\n",
    "\n",
    "  * For each GVC gene, I checked whether any variants identified by colocboost fall within its cis-window. If a match was found, I added a region column in the format: `chrN:gene_start-500,000_gene_end+500,000`\n",
    "\n",
    "  * Below is the annotated table showing GVC genes and whether colocboost variants fall within their cis-windows:\n",
    "\n",
    "    ```   \n",
    "    #chr     start       end         gene_id strand  gene_name is_in_cis_window                cis_window  contained_variants\n",
    "            <char>     <int>     <int>          <char> <char>     <char>             <lgcl>                    <char>              <char>\n",
    "        1:   chr1 207496146 207641764 ENSG00000203710      +        CR1             FALSE                      <NA>                <NA>\n",
    "        2:   chr1 226870183 226927725 ENSG00000143801      +      PSEN2             FALSE                      <NA>                <NA>\n",
    "        3:   chr1 226870183 226987544 ENSG00000288674      + AL391628.1             FALSE                      <NA>                <NA>\n",
    "        4:   chr2 127048026 127107287 ENSG00000136717      -       BIN1             FALSE                      <NA>                <NA>\n",
    "    ```\n",
    "\n",
    "* b. Overlap Results\n",
    "\n",
    "  Out of the **76 GVC genes** (note: two genes share the same Ensembl ID):\n",
    "  * **6 gene WDR12(Aging5), TNIP1(Aging2), UMAD1(Aging2), ICA1(Aging2), SPI1(AD2), FOXF1(Aging5)** was be explained by finemapping results.\n",
    "  \n",
    "\n"
   ]
  },
  {
   "cell_type": "code",
   "execution_count": 11,
   "metadata": {
    "vscode": {
     "languageId": "r"
    }
   },
   "outputs": [],
   "source": [
    "library(data.table)\n",
    "library(tidyverse)\n",
    "library(turner)"
   ]
  },
  {
   "cell_type": "code",
   "execution_count": 12,
   "metadata": {
    "vscode": {
     "languageId": "r"
    }
   },
   "outputs": [],
   "source": [
    "# Read in the top_loci table\n",
    "top_loci <- fread(\"/home/rl3328/image_QTL/finemapping/image_finemapping_export_cs_corr_0.3_latest/export/AI_IMAGE.hg38_all_blocks_with_MS.toploci.bed.gz\")\n"
   ]
  },
  {
   "cell_type": "markdown",
   "metadata": {},
   "source": [
    "## Summary\n",
    "\n",
    "### Variant_level"
   ]
  },
  {
   "cell_type": "code",
   "execution_count": 4,
   "metadata": {
    "vscode": {
     "languageId": "r"
    }
   },
   "outputs": [
    {
     "data": {
      "text/html": [
       "<table class=\"dataframe\">\n",
       "<caption>A tibble: 8 × 2</caption>\n",
       "<thead>\n",
       "\t<tr><th scope=col>event_ID</th><th scope=col>n</th></tr>\n",
       "\t<tr><th scope=col>&lt;chr&gt;</th><th scope=col>&lt;int&gt;</th></tr>\n",
       "</thead>\n",
       "<tbody>\n",
       "\t<tr><td>image_AD1   </td><td>4032</td></tr>\n",
       "\t<tr><td>MS_EUR      </td><td>3458</td></tr>\n",
       "\t<tr><td>image_Aging5</td><td>3128</td></tr>\n",
       "\t<tr><td>image_Aging1</td><td>2379</td></tr>\n",
       "\t<tr><td>image_Aging4</td><td>2247</td></tr>\n",
       "\t<tr><td>image_Aging2</td><td>2137</td></tr>\n",
       "\t<tr><td>image_Aging3</td><td>1895</td></tr>\n",
       "\t<tr><td>image_AD2   </td><td>1791</td></tr>\n",
       "</tbody>\n",
       "</table>\n"
      ],
      "text/latex": [
       "A tibble: 8 × 2\n",
       "\\begin{tabular}{ll}\n",
       " event\\_ID & n\\\\\n",
       " <chr> & <int>\\\\\n",
       "\\hline\n",
       "\t image\\_AD1    & 4032\\\\\n",
       "\t MS\\_EUR       & 3458\\\\\n",
       "\t image\\_Aging5 & 3128\\\\\n",
       "\t image\\_Aging1 & 2379\\\\\n",
       "\t image\\_Aging4 & 2247\\\\\n",
       "\t image\\_Aging2 & 2137\\\\\n",
       "\t image\\_Aging3 & 1895\\\\\n",
       "\t image\\_AD2    & 1791\\\\\n",
       "\\end{tabular}\n"
      ],
      "text/markdown": [
       "\n",
       "A tibble: 8 × 2\n",
       "\n",
       "| event_ID &lt;chr&gt; | n &lt;int&gt; |\n",
       "|---|---|\n",
       "| image_AD1    | 4032 |\n",
       "| MS_EUR       | 3458 |\n",
       "| image_Aging5 | 3128 |\n",
       "| image_Aging1 | 2379 |\n",
       "| image_Aging4 | 2247 |\n",
       "| image_Aging2 | 2137 |\n",
       "| image_Aging3 | 1895 |\n",
       "| image_AD2    | 1791 |\n",
       "\n"
      ],
      "text/plain": [
       "  event_ID     n   \n",
       "1 image_AD1    4032\n",
       "2 MS_EUR       3458\n",
       "3 image_Aging5 3128\n",
       "4 image_Aging1 2379\n",
       "5 image_Aging4 2247\n",
       "6 image_Aging2 2137\n",
       "7 image_Aging3 1895\n",
       "8 image_AD2    1791"
      ]
     },
     "metadata": {},
     "output_type": "display_data"
    }
   ],
   "source": [
    "# Top variants count by event_ID\n",
    "top_loci |> group_by(event_ID) |> summarise(n = n()) |> arrange(desc(n))"
   ]
  },
  {
   "cell_type": "code",
   "execution_count": 13,
   "metadata": {
    "vscode": {
     "languageId": "r"
    }
   },
   "outputs": [],
   "source": [
    "# Get the top variants with 95% CS with min_corr = 0.8\n",
    "top_loci_0.95 <- top_loci |> filter(cs_coverage_0.95 > 0)"
   ]
  },
  {
   "cell_type": "code",
   "execution_count": 6,
   "metadata": {
    "vscode": {
     "languageId": "r"
    }
   },
   "outputs": [
    {
     "data": {
      "text/html": [
       "<table class=\"dataframe\">\n",
       "<caption>A tibble: 8 × 2</caption>\n",
       "<thead>\n",
       "\t<tr><th scope=col>event_ID</th><th scope=col>n</th></tr>\n",
       "\t<tr><th scope=col>&lt;chr&gt;</th><th scope=col>&lt;int&gt;</th></tr>\n",
       "</thead>\n",
       "<tbody>\n",
       "\t<tr><td>MS_EUR      </td><td>1015</td></tr>\n",
       "\t<tr><td>image_Aging5</td><td> 842</td></tr>\n",
       "\t<tr><td>image_Aging1</td><td> 303</td></tr>\n",
       "\t<tr><td>image_Aging4</td><td> 255</td></tr>\n",
       "\t<tr><td>image_Aging3</td><td> 221</td></tr>\n",
       "\t<tr><td>image_AD2   </td><td> 190</td></tr>\n",
       "\t<tr><td>image_AD1   </td><td> 183</td></tr>\n",
       "\t<tr><td>image_Aging2</td><td> 137</td></tr>\n",
       "</tbody>\n",
       "</table>\n"
      ],
      "text/latex": [
       "A tibble: 8 × 2\n",
       "\\begin{tabular}{ll}\n",
       " event\\_ID & n\\\\\n",
       " <chr> & <int>\\\\\n",
       "\\hline\n",
       "\t MS\\_EUR       & 1015\\\\\n",
       "\t image\\_Aging5 &  842\\\\\n",
       "\t image\\_Aging1 &  303\\\\\n",
       "\t image\\_Aging4 &  255\\\\\n",
       "\t image\\_Aging3 &  221\\\\\n",
       "\t image\\_AD2    &  190\\\\\n",
       "\t image\\_AD1    &  183\\\\\n",
       "\t image\\_Aging2 &  137\\\\\n",
       "\\end{tabular}\n"
      ],
      "text/markdown": [
       "\n",
       "A tibble: 8 × 2\n",
       "\n",
       "| event_ID &lt;chr&gt; | n &lt;int&gt; |\n",
       "|---|---|\n",
       "| MS_EUR       | 1015 |\n",
       "| image_Aging5 |  842 |\n",
       "| image_Aging1 |  303 |\n",
       "| image_Aging4 |  255 |\n",
       "| image_Aging3 |  221 |\n",
       "| image_AD2    |  190 |\n",
       "| image_AD1    |  183 |\n",
       "| image_Aging2 |  137 |\n",
       "\n"
      ],
      "text/plain": [
       "  event_ID     n   \n",
       "1 MS_EUR       1015\n",
       "2 image_Aging5  842\n",
       "3 image_Aging1  303\n",
       "4 image_Aging4  255\n",
       "5 image_Aging3  221\n",
       "6 image_AD2     190\n",
       "7 image_AD1     183\n",
       "8 image_Aging2  137"
      ]
     },
     "metadata": {},
     "output_type": "display_data"
    }
   ],
   "source": [
    "# number of top variants in 95% CS with min_corr = 0.8 by event_ID\n",
    "top_loci_0.95 |> group_by(event_ID) |> summarise(n = n()) |> arrange(desc(n))"
   ]
  },
  {
   "cell_type": "markdown",
   "metadata": {},
   "source": [
    "### Study_Block Level"
   ]
  },
  {
   "cell_type": "code",
   "execution_count": 6,
   "metadata": {
    "vscode": {
     "languageId": "r"
    }
   },
   "outputs": [],
   "source": [
    "# Create a column as a CS indicator\n",
    "top_loci_0.95 = top_loci_0.95 |> mutate(cs = paste0(event_ID,\"_\", region_id,\":\"\t,cs_coverage_0.95))"
   ]
  },
  {
   "cell_type": "code",
   "execution_count": 7,
   "metadata": {
    "vscode": {
     "languageId": "r"
    }
   },
   "outputs": [
    {
     "data": {
      "text/html": [
       "<table class=\"dataframe\">\n",
       "<caption>A tibble: 21 × 2</caption>\n",
       "<thead>\n",
       "\t<tr><th scope=col>chr</th><th scope=col>n_distinct(cs)</th></tr>\n",
       "\t<tr><th scope=col>&lt;int&gt;</th><th scope=col>&lt;int&gt;</th></tr>\n",
       "</thead>\n",
       "<tbody>\n",
       "\t<tr><td> 1</td><td>18</td></tr>\n",
       "\t<tr><td> 2</td><td> 5</td></tr>\n",
       "\t<tr><td> 3</td><td> 8</td></tr>\n",
       "\t<tr><td> 4</td><td> 6</td></tr>\n",
       "\t<tr><td> 5</td><td> 5</td></tr>\n",
       "\t<tr><td> 6</td><td>10</td></tr>\n",
       "\t<tr><td> 7</td><td>11</td></tr>\n",
       "\t<tr><td> 8</td><td> 6</td></tr>\n",
       "\t<tr><td> 9</td><td> 6</td></tr>\n",
       "\t<tr><td>10</td><td> 6</td></tr>\n",
       "\t<tr><td>11</td><td> 8</td></tr>\n",
       "\t<tr><td>12</td><td>12</td></tr>\n",
       "\t<tr><td>13</td><td> 3</td></tr>\n",
       "\t<tr><td>14</td><td> 7</td></tr>\n",
       "\t<tr><td>15</td><td> 3</td></tr>\n",
       "\t<tr><td>16</td><td> 4</td></tr>\n",
       "\t<tr><td>17</td><td> 4</td></tr>\n",
       "\t<tr><td>18</td><td> 2</td></tr>\n",
       "\t<tr><td>19</td><td> 7</td></tr>\n",
       "\t<tr><td>20</td><td> 6</td></tr>\n",
       "\t<tr><td>22</td><td> 2</td></tr>\n",
       "</tbody>\n",
       "</table>\n"
      ],
      "text/latex": [
       "A tibble: 21 × 2\n",
       "\\begin{tabular}{ll}\n",
       " chr & n\\_distinct(cs)\\\\\n",
       " <int> & <int>\\\\\n",
       "\\hline\n",
       "\t  1 & 18\\\\\n",
       "\t  2 &  5\\\\\n",
       "\t  3 &  8\\\\\n",
       "\t  4 &  6\\\\\n",
       "\t  5 &  5\\\\\n",
       "\t  6 & 10\\\\\n",
       "\t  7 & 11\\\\\n",
       "\t  8 &  6\\\\\n",
       "\t  9 &  6\\\\\n",
       "\t 10 &  6\\\\\n",
       "\t 11 &  8\\\\\n",
       "\t 12 & 12\\\\\n",
       "\t 13 &  3\\\\\n",
       "\t 14 &  7\\\\\n",
       "\t 15 &  3\\\\\n",
       "\t 16 &  4\\\\\n",
       "\t 17 &  4\\\\\n",
       "\t 18 &  2\\\\\n",
       "\t 19 &  7\\\\\n",
       "\t 20 &  6\\\\\n",
       "\t 22 &  2\\\\\n",
       "\\end{tabular}\n"
      ],
      "text/markdown": [
       "\n",
       "A tibble: 21 × 2\n",
       "\n",
       "| chr &lt;int&gt; | n_distinct(cs) &lt;int&gt; |\n",
       "|---|---|\n",
       "|  1 | 18 |\n",
       "|  2 |  5 |\n",
       "|  3 |  8 |\n",
       "|  4 |  6 |\n",
       "|  5 |  5 |\n",
       "|  6 | 10 |\n",
       "|  7 | 11 |\n",
       "|  8 |  6 |\n",
       "|  9 |  6 |\n",
       "| 10 |  6 |\n",
       "| 11 |  8 |\n",
       "| 12 | 12 |\n",
       "| 13 |  3 |\n",
       "| 14 |  7 |\n",
       "| 15 |  3 |\n",
       "| 16 |  4 |\n",
       "| 17 |  4 |\n",
       "| 18 |  2 |\n",
       "| 19 |  7 |\n",
       "| 20 |  6 |\n",
       "| 22 |  2 |\n",
       "\n"
      ],
      "text/plain": [
       "   chr n_distinct(cs)\n",
       "1   1  18            \n",
       "2   2   5            \n",
       "3   3   8            \n",
       "4   4   6            \n",
       "5   5   5            \n",
       "6   6  10            \n",
       "7   7  11            \n",
       "8   8   6            \n",
       "9   9   6            \n",
       "10 10   6            \n",
       "11 11   8            \n",
       "12 12  12            \n",
       "13 13   3            \n",
       "14 14   7            \n",
       "15 15   3            \n",
       "16 16   4            \n",
       "17 17   4            \n",
       "18 18   2            \n",
       "19 19   7            \n",
       "20 20   6            \n",
       "21 22   2            "
      ]
     },
     "metadata": {},
     "output_type": "display_data"
    }
   ],
   "source": [
    "top_loci_0.95 |> group_by(chr) |> summarize(n_distinct(cs))"
   ]
  },
  {
   "cell_type": "code",
   "execution_count": 8,
   "metadata": {
    "vscode": {
     "languageId": "r"
    }
   },
   "outputs": [
    {
     "data": {
      "text/html": [
       "<table class=\"dataframe\">\n",
       "<caption>A data.table: 6 × 17</caption>\n",
       "<thead>\n",
       "\t<tr><th scope=col>chr</th><th scope=col>pos</th><th scope=col>a1</th><th scope=col>a2</th><th scope=col>variant_ID</th><th scope=col>gene_ID</th><th scope=col>event_ID</th><th scope=col>cs_coverage_0.95</th><th scope=col>cs_coverage_0.7</th><th scope=col>cs_coverage_0.5</th><th scope=col>cs_coverage_0.95_purity0.5</th><th scope=col>cs_coverage_0.7_purity0.5</th><th scope=col>cs_coverage_0.5_purity0.5</th><th scope=col>PIP</th><th scope=col>region_id</th><th scope=col>finemap_model</th><th scope=col>cs</th></tr>\n",
       "\t<tr><th scope=col>&lt;int&gt;</th><th scope=col>&lt;int&gt;</th><th scope=col>&lt;chr&gt;</th><th scope=col>&lt;chr&gt;</th><th scope=col>&lt;chr&gt;</th><th scope=col>&lt;chr&gt;</th><th scope=col>&lt;chr&gt;</th><th scope=col>&lt;int&gt;</th><th scope=col>&lt;int&gt;</th><th scope=col>&lt;int&gt;</th><th scope=col>&lt;lgl&gt;</th><th scope=col>&lt;lgl&gt;</th><th scope=col>&lt;lgl&gt;</th><th scope=col>&lt;dbl&gt;</th><th scope=col>&lt;chr&gt;</th><th scope=col>&lt;chr&gt;</th><th scope=col>&lt;chr&gt;</th></tr>\n",
       "</thead>\n",
       "<tbody>\n",
       "\t<tr><td>9</td><td>89597695</td><td>A</td><td>T</td><td>9:89597695:T:A</td><td>chr9_87677148_89739207</td><td>image_Aging2</td><td>1</td><td>1</td><td>0</td><td>NA</td><td>NA</td><td>NA</td><td>0.21014927</td><td>chr9_87677148_89739207</td><td>single_effect_NO_QC</td><td>image_Aging2_chr9_87677148_89739207:1</td></tr>\n",
       "\t<tr><td>9</td><td>89597759</td><td>C</td><td>T</td><td>9:89597759:T:C</td><td>chr9_87677148_89739207</td><td>image_AD2   </td><td>1</td><td>1</td><td>1</td><td>NA</td><td>NA</td><td>NA</td><td>0.39929120</td><td>chr9_87677148_89739207</td><td>single_effect_NO_QC</td><td>image_AD2_chr9_87677148_89739207:1   </td></tr>\n",
       "\t<tr><td>9</td><td>89597759</td><td>C</td><td>T</td><td>9:89597759:T:C</td><td>chr9_87677148_89739207</td><td>image_Aging2</td><td>1</td><td>1</td><td>1</td><td>NA</td><td>NA</td><td>NA</td><td>0.22756996</td><td>chr9_87677148_89739207</td><td>single_effect_NO_QC</td><td>image_Aging2_chr9_87677148_89739207:1</td></tr>\n",
       "\t<tr><td>9</td><td>89599052</td><td>A</td><td>G</td><td>9:89599052:G:A</td><td>chr9_87677148_89739207</td><td>image_AD2   </td><td>1</td><td>0</td><td>0</td><td>NA</td><td>NA</td><td>NA</td><td>0.07995615</td><td>chr9_87677148_89739207</td><td>single_effect_NO_QC</td><td>image_AD2_chr9_87677148_89739207:1   </td></tr>\n",
       "\t<tr><td>9</td><td>89599052</td><td>A</td><td>G</td><td>9:89599052:G:A</td><td>chr9_87677148_89739207</td><td>image_Aging2</td><td>1</td><td>1</td><td>1</td><td>NA</td><td>NA</td><td>NA</td><td>0.27397975</td><td>chr9_87677148_89739207</td><td>single_effect_NO_QC</td><td>image_Aging2_chr9_87677148_89739207:1</td></tr>\n",
       "\t<tr><td>9</td><td>89599810</td><td>G</td><td>A</td><td>9:89599810:A:G</td><td>chr9_87677148_89739207</td><td>image_Aging2</td><td>1</td><td>0</td><td>0</td><td>NA</td><td>NA</td><td>NA</td><td>0.03354827</td><td>chr9_87677148_89739207</td><td>single_effect_NO_QC</td><td>image_Aging2_chr9_87677148_89739207:1</td></tr>\n",
       "</tbody>\n",
       "</table>\n"
      ],
      "text/latex": [
       "A data.table: 6 × 17\n",
       "\\begin{tabular}{lllllllllllllllll}\n",
       " chr & pos & a1 & a2 & variant\\_ID & gene\\_ID & event\\_ID & cs\\_coverage\\_0.95 & cs\\_coverage\\_0.7 & cs\\_coverage\\_0.5 & cs\\_coverage\\_0.95\\_purity0.5 & cs\\_coverage\\_0.7\\_purity0.5 & cs\\_coverage\\_0.5\\_purity0.5 & PIP & region\\_id & finemap\\_model & cs\\\\\n",
       " <int> & <int> & <chr> & <chr> & <chr> & <chr> & <chr> & <int> & <int> & <int> & <lgl> & <lgl> & <lgl> & <dbl> & <chr> & <chr> & <chr>\\\\\n",
       "\\hline\n",
       "\t 9 & 89597695 & A & T & 9:89597695:T:A & chr9\\_87677148\\_89739207 & image\\_Aging2 & 1 & 1 & 0 & NA & NA & NA & 0.21014927 & chr9\\_87677148\\_89739207 & single\\_effect\\_NO\\_QC & image\\_Aging2\\_chr9\\_87677148\\_89739207:1\\\\\n",
       "\t 9 & 89597759 & C & T & 9:89597759:T:C & chr9\\_87677148\\_89739207 & image\\_AD2    & 1 & 1 & 1 & NA & NA & NA & 0.39929120 & chr9\\_87677148\\_89739207 & single\\_effect\\_NO\\_QC & image\\_AD2\\_chr9\\_87677148\\_89739207:1   \\\\\n",
       "\t 9 & 89597759 & C & T & 9:89597759:T:C & chr9\\_87677148\\_89739207 & image\\_Aging2 & 1 & 1 & 1 & NA & NA & NA & 0.22756996 & chr9\\_87677148\\_89739207 & single\\_effect\\_NO\\_QC & image\\_Aging2\\_chr9\\_87677148\\_89739207:1\\\\\n",
       "\t 9 & 89599052 & A & G & 9:89599052:G:A & chr9\\_87677148\\_89739207 & image\\_AD2    & 1 & 0 & 0 & NA & NA & NA & 0.07995615 & chr9\\_87677148\\_89739207 & single\\_effect\\_NO\\_QC & image\\_AD2\\_chr9\\_87677148\\_89739207:1   \\\\\n",
       "\t 9 & 89599052 & A & G & 9:89599052:G:A & chr9\\_87677148\\_89739207 & image\\_Aging2 & 1 & 1 & 1 & NA & NA & NA & 0.27397975 & chr9\\_87677148\\_89739207 & single\\_effect\\_NO\\_QC & image\\_Aging2\\_chr9\\_87677148\\_89739207:1\\\\\n",
       "\t 9 & 89599810 & G & A & 9:89599810:A:G & chr9\\_87677148\\_89739207 & image\\_Aging2 & 1 & 0 & 0 & NA & NA & NA & 0.03354827 & chr9\\_87677148\\_89739207 & single\\_effect\\_NO\\_QC & image\\_Aging2\\_chr9\\_87677148\\_89739207:1\\\\\n",
       "\\end{tabular}\n"
      ],
      "text/markdown": [
       "\n",
       "A data.table: 6 × 17\n",
       "\n",
       "| chr &lt;int&gt; | pos &lt;int&gt; | a1 &lt;chr&gt; | a2 &lt;chr&gt; | variant_ID &lt;chr&gt; | gene_ID &lt;chr&gt; | event_ID &lt;chr&gt; | cs_coverage_0.95 &lt;int&gt; | cs_coverage_0.7 &lt;int&gt; | cs_coverage_0.5 &lt;int&gt; | cs_coverage_0.95_purity0.5 &lt;lgl&gt; | cs_coverage_0.7_purity0.5 &lt;lgl&gt; | cs_coverage_0.5_purity0.5 &lt;lgl&gt; | PIP &lt;dbl&gt; | region_id &lt;chr&gt; | finemap_model &lt;chr&gt; | cs &lt;chr&gt; |\n",
       "|---|---|---|---|---|---|---|---|---|---|---|---|---|---|---|---|---|\n",
       "| 9 | 89597695 | A | T | 9:89597695:T:A | chr9_87677148_89739207 | image_Aging2 | 1 | 1 | 0 | NA | NA | NA | 0.21014927 | chr9_87677148_89739207 | single_effect_NO_QC | image_Aging2_chr9_87677148_89739207:1 |\n",
       "| 9 | 89597759 | C | T | 9:89597759:T:C | chr9_87677148_89739207 | image_AD2    | 1 | 1 | 1 | NA | NA | NA | 0.39929120 | chr9_87677148_89739207 | single_effect_NO_QC | image_AD2_chr9_87677148_89739207:1    |\n",
       "| 9 | 89597759 | C | T | 9:89597759:T:C | chr9_87677148_89739207 | image_Aging2 | 1 | 1 | 1 | NA | NA | NA | 0.22756996 | chr9_87677148_89739207 | single_effect_NO_QC | image_Aging2_chr9_87677148_89739207:1 |\n",
       "| 9 | 89599052 | A | G | 9:89599052:G:A | chr9_87677148_89739207 | image_AD2    | 1 | 0 | 0 | NA | NA | NA | 0.07995615 | chr9_87677148_89739207 | single_effect_NO_QC | image_AD2_chr9_87677148_89739207:1    |\n",
       "| 9 | 89599052 | A | G | 9:89599052:G:A | chr9_87677148_89739207 | image_Aging2 | 1 | 1 | 1 | NA | NA | NA | 0.27397975 | chr9_87677148_89739207 | single_effect_NO_QC | image_Aging2_chr9_87677148_89739207:1 |\n",
       "| 9 | 89599810 | G | A | 9:89599810:A:G | chr9_87677148_89739207 | image_Aging2 | 1 | 0 | 0 | NA | NA | NA | 0.03354827 | chr9_87677148_89739207 | single_effect_NO_QC | image_Aging2_chr9_87677148_89739207:1 |\n",
       "\n"
      ],
      "text/plain": [
       "  chr pos      a1 a2 variant_ID     gene_ID                event_ID    \n",
       "1 9   89597695 A  T  9:89597695:T:A chr9_87677148_89739207 image_Aging2\n",
       "2 9   89597759 C  T  9:89597759:T:C chr9_87677148_89739207 image_AD2   \n",
       "3 9   89597759 C  T  9:89597759:T:C chr9_87677148_89739207 image_Aging2\n",
       "4 9   89599052 A  G  9:89599052:G:A chr9_87677148_89739207 image_AD2   \n",
       "5 9   89599052 A  G  9:89599052:G:A chr9_87677148_89739207 image_Aging2\n",
       "6 9   89599810 G  A  9:89599810:A:G chr9_87677148_89739207 image_Aging2\n",
       "  cs_coverage_0.95 cs_coverage_0.7 cs_coverage_0.5 cs_coverage_0.95_purity0.5\n",
       "1 1                1               0               NA                        \n",
       "2 1                1               1               NA                        \n",
       "3 1                1               1               NA                        \n",
       "4 1                0               0               NA                        \n",
       "5 1                1               1               NA                        \n",
       "6 1                0               0               NA                        \n",
       "  cs_coverage_0.7_purity0.5 cs_coverage_0.5_purity0.5 PIP       \n",
       "1 NA                        NA                        0.21014927\n",
       "2 NA                        NA                        0.39929120\n",
       "3 NA                        NA                        0.22756996\n",
       "4 NA                        NA                        0.07995615\n",
       "5 NA                        NA                        0.27397975\n",
       "6 NA                        NA                        0.03354827\n",
       "  region_id              finemap_model      \n",
       "1 chr9_87677148_89739207 single_effect_NO_QC\n",
       "2 chr9_87677148_89739207 single_effect_NO_QC\n",
       "3 chr9_87677148_89739207 single_effect_NO_QC\n",
       "4 chr9_87677148_89739207 single_effect_NO_QC\n",
       "5 chr9_87677148_89739207 single_effect_NO_QC\n",
       "6 chr9_87677148_89739207 single_effect_NO_QC\n",
       "  cs                                   \n",
       "1 image_Aging2_chr9_87677148_89739207:1\n",
       "2 image_AD2_chr9_87677148_89739207:1   \n",
       "3 image_Aging2_chr9_87677148_89739207:1\n",
       "4 image_AD2_chr9_87677148_89739207:1   \n",
       "5 image_Aging2_chr9_87677148_89739207:1\n",
       "6 image_Aging2_chr9_87677148_89739207:1"
      ]
     },
     "metadata": {},
     "output_type": "display_data"
    },
    {
     "data": {
      "text/html": [
       "<style>\n",
       ".list-inline {list-style: none; margin:0; padding: 0}\n",
       ".list-inline>li {display: inline-block}\n",
       ".list-inline>li:not(:last-child)::after {content: \"\\00b7\"; padding: 0 .5ex}\n",
       "</style>\n",
       "<ol class=list-inline><li>3146</li><li>17</li></ol>\n"
      ],
      "text/latex": [
       "\\begin{enumerate*}\n",
       "\\item 3146\n",
       "\\item 17\n",
       "\\end{enumerate*}\n"
      ],
      "text/markdown": [
       "1. 3146\n",
       "2. 17\n",
       "\n",
       "\n"
      ],
      "text/plain": [
       "[1] 3146   17"
      ]
     },
     "metadata": {},
     "output_type": "display_data"
    }
   ],
   "source": [
    "tail(top_loci_0.95)\n",
    "dim(top_loci_0.95)"
   ]
  },
  {
   "cell_type": "code",
   "execution_count": 9,
   "metadata": {
    "vscode": {
     "languageId": "r"
    }
   },
   "outputs": [
    {
     "data": {
      "text/html": [
       "<table class=\"dataframe\">\n",
       "<caption>A data.table: 8 × 2</caption>\n",
       "<thead>\n",
       "\t<tr><th scope=col>event_ID</th><th scope=col>n</th></tr>\n",
       "\t<tr><th scope=col>&lt;chr&gt;</th><th scope=col>&lt;int&gt;</th></tr>\n",
       "</thead>\n",
       "<tbody>\n",
       "\t<tr><td>MS_EUR      </td><td>49</td></tr>\n",
       "\t<tr><td>image_AD1   </td><td> 9</td></tr>\n",
       "\t<tr><td>image_AD2   </td><td>12</td></tr>\n",
       "\t<tr><td>image_Aging1</td><td>12</td></tr>\n",
       "\t<tr><td>image_Aging2</td><td>11</td></tr>\n",
       "\t<tr><td>image_Aging3</td><td> 9</td></tr>\n",
       "\t<tr><td>image_Aging4</td><td>12</td></tr>\n",
       "\t<tr><td>image_Aging5</td><td>17</td></tr>\n",
       "</tbody>\n",
       "</table>\n"
      ],
      "text/latex": [
       "A data.table: 8 × 2\n",
       "\\begin{tabular}{ll}\n",
       " event\\_ID & n\\\\\n",
       " <chr> & <int>\\\\\n",
       "\\hline\n",
       "\t MS\\_EUR       & 49\\\\\n",
       "\t image\\_AD1    &  9\\\\\n",
       "\t image\\_AD2    & 12\\\\\n",
       "\t image\\_Aging1 & 12\\\\\n",
       "\t image\\_Aging2 & 11\\\\\n",
       "\t image\\_Aging3 &  9\\\\\n",
       "\t image\\_Aging4 & 12\\\\\n",
       "\t image\\_Aging5 & 17\\\\\n",
       "\\end{tabular}\n"
      ],
      "text/markdown": [
       "\n",
       "A data.table: 8 × 2\n",
       "\n",
       "| event_ID &lt;chr&gt; | n &lt;int&gt; |\n",
       "|---|---|\n",
       "| MS_EUR       | 49 |\n",
       "| image_AD1    |  9 |\n",
       "| image_AD2    | 12 |\n",
       "| image_Aging1 | 12 |\n",
       "| image_Aging2 | 11 |\n",
       "| image_Aging3 |  9 |\n",
       "| image_Aging4 | 12 |\n",
       "| image_Aging5 | 17 |\n",
       "\n"
      ],
      "text/plain": [
       "  event_ID     n \n",
       "1 MS_EUR       49\n",
       "2 image_AD1     9\n",
       "3 image_AD2    12\n",
       "4 image_Aging1 12\n",
       "5 image_Aging2 11\n",
       "6 image_Aging3  9\n",
       "7 image_Aging4 12\n",
       "8 image_Aging5 17"
      ]
     },
     "metadata": {},
     "output_type": "display_data"
    }
   ],
   "source": [
    "# Study_blocks with CS for each event_ID(trait)\n",
    "top_loci_0.95 |> count(event_ID, region_id) |> count(event_ID)"
   ]
  },
  {
   "cell_type": "code",
   "execution_count": 10,
   "metadata": {
    "vscode": {
     "languageId": "r"
    }
   },
   "outputs": [],
   "source": [
    "# Separate\n",
    "image = top_loci_0.95 |> filter(event_ID != \"MS_EUR\")\n",
    "ms = top_loci_0.95 |> filter(event_ID == \"MS_EUR\")"
   ]
  },
  {
   "cell_type": "code",
   "execution_count": 11,
   "metadata": {
    "vscode": {
     "languageId": "r"
    }
   },
   "outputs": [
    {
     "data": {
      "text/html": [
       "<table class=\"dataframe\">\n",
       "<caption>A data.table: 2 × 2</caption>\n",
       "<thead>\n",
       "\t<tr><th scope=col>finemap_model</th><th scope=col>n</th></tr>\n",
       "\t<tr><th scope=col>&lt;chr&gt;</th><th scope=col>&lt;int&gt;</th></tr>\n",
       "</thead>\n",
       "<tbody>\n",
       "\t<tr><td>single_effect_NO_QC           </td><td>81</td></tr>\n",
       "\t<tr><td>susie_rss_RSS_QC_RAISS_imputed</td><td> 1</td></tr>\n",
       "</tbody>\n",
       "</table>\n"
      ],
      "text/latex": [
       "A data.table: 2 × 2\n",
       "\\begin{tabular}{ll}\n",
       " finemap\\_model & n\\\\\n",
       " <chr> & <int>\\\\\n",
       "\\hline\n",
       "\t single\\_effect\\_NO\\_QC            & 81\\\\\n",
       "\t susie\\_rss\\_RSS\\_QC\\_RAISS\\_imputed &  1\\\\\n",
       "\\end{tabular}\n"
      ],
      "text/markdown": [
       "\n",
       "A data.table: 2 × 2\n",
       "\n",
       "| finemap_model &lt;chr&gt; | n &lt;int&gt; |\n",
       "|---|---|\n",
       "| single_effect_NO_QC            | 81 |\n",
       "| susie_rss_RSS_QC_RAISS_imputed |  1 |\n",
       "\n"
      ],
      "text/plain": [
       "  finemap_model                  n \n",
       "1 single_effect_NO_QC            81\n",
       "2 susie_rss_RSS_QC_RAISS_imputed  1"
      ]
     },
     "metadata": {},
     "output_type": "display_data"
    },
    {
     "data": {
      "text/html": [
       "<table class=\"dataframe\">\n",
       "<caption>A tibble: 2 × 2</caption>\n",
       "<thead>\n",
       "\t<tr><th scope=col>cs_coverage_0.95</th><th scope=col>n</th></tr>\n",
       "\t<tr><th scope=col>&lt;int&gt;</th><th scope=col>&lt;int&gt;</th></tr>\n",
       "</thead>\n",
       "<tbody>\n",
       "\t<tr><td>1</td><td>82</td></tr>\n",
       "\t<tr><td>2</td><td> 1</td></tr>\n",
       "</tbody>\n",
       "</table>\n"
      ],
      "text/latex": [
       "A tibble: 2 × 2\n",
       "\\begin{tabular}{ll}\n",
       " cs\\_coverage\\_0.95 & n\\\\\n",
       " <int> & <int>\\\\\n",
       "\\hline\n",
       "\t 1 & 82\\\\\n",
       "\t 2 &  1\\\\\n",
       "\\end{tabular}\n"
      ],
      "text/markdown": [
       "\n",
       "A tibble: 2 × 2\n",
       "\n",
       "| cs_coverage_0.95 &lt;int&gt; | n &lt;int&gt; |\n",
       "|---|---|\n",
       "| 1 | 82 |\n",
       "| 2 |  1 |\n",
       "\n"
      ],
      "text/plain": [
       "  cs_coverage_0.95 n \n",
       "1 1                82\n",
       "2 2                 1"
      ]
     },
     "metadata": {},
     "output_type": "display_data"
    },
    {
     "name": "stderr",
     "output_type": "stream",
     "text": [
      "\u001b[1m\u001b[22m`summarise()` has grouped output by 'event_ID'. You can override using the\n",
      "`.groups` argument.\n"
     ]
    },
    {
     "data": {
      "text/html": [
       "<table class=\"dataframe\">\n",
       "<caption>A grouped_df: 8 × 3</caption>\n",
       "<thead>\n",
       "\t<tr><th scope=col>event_ID</th><th scope=col>cs_count</th><th scope=col>n</th></tr>\n",
       "\t<tr><th scope=col>&lt;chr&gt;</th><th scope=col>&lt;int&gt;</th><th scope=col>&lt;int&gt;</th></tr>\n",
       "</thead>\n",
       "<tbody>\n",
       "\t<tr><td>image_AD1   </td><td>1</td><td> 9</td></tr>\n",
       "\t<tr><td>image_AD2   </td><td>1</td><td>12</td></tr>\n",
       "\t<tr><td>image_Aging1</td><td>1</td><td>11</td></tr>\n",
       "\t<tr><td>image_Aging1</td><td>2</td><td> 1</td></tr>\n",
       "\t<tr><td>image_Aging2</td><td>1</td><td>11</td></tr>\n",
       "\t<tr><td>image_Aging3</td><td>1</td><td> 9</td></tr>\n",
       "\t<tr><td>image_Aging4</td><td>1</td><td>12</td></tr>\n",
       "\t<tr><td>image_Aging5</td><td>1</td><td>17</td></tr>\n",
       "</tbody>\n",
       "</table>\n"
      ],
      "text/latex": [
       "A grouped\\_df: 8 × 3\n",
       "\\begin{tabular}{lll}\n",
       " event\\_ID & cs\\_count & n\\\\\n",
       " <chr> & <int> & <int>\\\\\n",
       "\\hline\n",
       "\t image\\_AD1    & 1 &  9\\\\\n",
       "\t image\\_AD2    & 1 & 12\\\\\n",
       "\t image\\_Aging1 & 1 & 11\\\\\n",
       "\t image\\_Aging1 & 2 &  1\\\\\n",
       "\t image\\_Aging2 & 1 & 11\\\\\n",
       "\t image\\_Aging3 & 1 &  9\\\\\n",
       "\t image\\_Aging4 & 1 & 12\\\\\n",
       "\t image\\_Aging5 & 1 & 17\\\\\n",
       "\\end{tabular}\n"
      ],
      "text/markdown": [
       "\n",
       "A grouped_df: 8 × 3\n",
       "\n",
       "| event_ID &lt;chr&gt; | cs_count &lt;int&gt; | n &lt;int&gt; |\n",
       "|---|---|---|\n",
       "| image_AD1    | 1 |  9 |\n",
       "| image_AD2    | 1 | 12 |\n",
       "| image_Aging1 | 1 | 11 |\n",
       "| image_Aging1 | 2 |  1 |\n",
       "| image_Aging2 | 1 | 11 |\n",
       "| image_Aging3 | 1 |  9 |\n",
       "| image_Aging4 | 1 | 12 |\n",
       "| image_Aging5 | 1 | 17 |\n",
       "\n"
      ],
      "text/plain": [
       "  event_ID     cs_count n \n",
       "1 image_AD1    1         9\n",
       "2 image_AD2    1        12\n",
       "3 image_Aging1 1        11\n",
       "4 image_Aging1 2         1\n",
       "5 image_Aging2 1        11\n",
       "6 image_Aging3 1         9\n",
       "7 image_Aging4 1        12\n",
       "8 image_Aging5 1        17"
      ]
     },
     "metadata": {},
     "output_type": "display_data"
    }
   ],
   "source": [
    "# image\n",
    "# finemapping model at study_block level\n",
    "image |> count(event_ID, region_id, finemap_model) |> count(finemap_model)\n",
    "\n",
    "# CS Counts at study_block level\n",
    "image |> count(cs_coverage_0.95, event_ID, region_id) |> group_by(cs_coverage_0.95) |> summarise(n = n()) |> arrange(desc(n))\n",
    "image |> count(cs_coverage_0.95, event_ID, region_id) |> group_by(event_ID, region_id) |> summarise(cs_count = n()) |> count(cs_count)\n"
   ]
  },
  {
   "cell_type": "code",
   "execution_count": 12,
   "metadata": {
    "vscode": {
     "languageId": "r"
    }
   },
   "outputs": [
    {
     "name": "stderr",
     "output_type": "stream",
     "text": [
      "\u001b[1m\u001b[22m`summarise()` has grouped output by 'event_ID'. You can override using the\n",
      "`.groups` argument.\n"
     ]
    },
    {
     "data": {
      "text/html": [
       "<table class=\"dataframe\">\n",
       "<caption>A grouped_df: 1 × 3</caption>\n",
       "<thead>\n",
       "\t<tr><th scope=col>event_ID</th><th scope=col>region_id</th><th scope=col>distinct_cs_coverage</th></tr>\n",
       "\t<tr><th scope=col>&lt;chr&gt;</th><th scope=col>&lt;chr&gt;</th><th scope=col>&lt;int&gt;</th></tr>\n",
       "</thead>\n",
       "<tbody>\n",
       "\t<tr><td>image_Aging1</td><td>chr14_53697988_56126490</td><td>2</td></tr>\n",
       "</tbody>\n",
       "</table>\n"
      ],
      "text/latex": [
       "A grouped\\_df: 1 × 3\n",
       "\\begin{tabular}{lll}\n",
       " event\\_ID & region\\_id & distinct\\_cs\\_coverage\\\\\n",
       " <chr> & <chr> & <int>\\\\\n",
       "\\hline\n",
       "\t image\\_Aging1 & chr14\\_53697988\\_56126490 & 2\\\\\n",
       "\\end{tabular}\n"
      ],
      "text/markdown": [
       "\n",
       "A grouped_df: 1 × 3\n",
       "\n",
       "| event_ID &lt;chr&gt; | region_id &lt;chr&gt; | distinct_cs_coverage &lt;int&gt; |\n",
       "|---|---|---|\n",
       "| image_Aging1 | chr14_53697988_56126490 | 2 |\n",
       "\n"
      ],
      "text/plain": [
       "  event_ID     region_id               distinct_cs_coverage\n",
       "1 image_Aging1 chr14_53697988_56126490 2                   "
      ]
     },
     "metadata": {},
     "output_type": "display_data"
    }
   ],
   "source": [
    "image |>\n",
    "  group_by(event_ID, region_id) |>\n",
    "  summarise(distinct_cs_coverage = n_distinct(cs_coverage_0.95)) |>\n",
    "  filter(distinct_cs_coverage > 1)"
   ]
  },
  {
   "cell_type": "code",
   "execution_count": 13,
   "metadata": {
    "vscode": {
     "languageId": "r"
    }
   },
   "outputs": [
    {
     "data": {
      "text/html": [
       "<table class=\"dataframe\">\n",
       "<caption>A data.table: 14 × 17</caption>\n",
       "<thead>\n",
       "\t<tr><th scope=col>chr</th><th scope=col>pos</th><th scope=col>a1</th><th scope=col>a2</th><th scope=col>variant_ID</th><th scope=col>gene_ID</th><th scope=col>event_ID</th><th scope=col>cs_coverage_0.95</th><th scope=col>cs_coverage_0.7</th><th scope=col>cs_coverage_0.5</th><th scope=col>cs_coverage_0.95_purity0.5</th><th scope=col>cs_coverage_0.7_purity0.5</th><th scope=col>cs_coverage_0.5_purity0.5</th><th scope=col>PIP</th><th scope=col>region_id</th><th scope=col>finemap_model</th><th scope=col>cs</th></tr>\n",
       "\t<tr><th scope=col>&lt;int&gt;</th><th scope=col>&lt;int&gt;</th><th scope=col>&lt;chr&gt;</th><th scope=col>&lt;chr&gt;</th><th scope=col>&lt;chr&gt;</th><th scope=col>&lt;chr&gt;</th><th scope=col>&lt;chr&gt;</th><th scope=col>&lt;int&gt;</th><th scope=col>&lt;int&gt;</th><th scope=col>&lt;int&gt;</th><th scope=col>&lt;lgl&gt;</th><th scope=col>&lt;lgl&gt;</th><th scope=col>&lt;lgl&gt;</th><th scope=col>&lt;dbl&gt;</th><th scope=col>&lt;chr&gt;</th><th scope=col>&lt;chr&gt;</th><th scope=col>&lt;chr&gt;</th></tr>\n",
       "</thead>\n",
       "<tbody>\n",
       "\t<tr><td>14</td><td>55659306</td><td>TG</td><td>T</td><td>14:55659306:T:TG</td><td>chr14_53697988_56126490</td><td>image_Aging1</td><td>2</td><td>2</td><td>2</td><td>NA</td><td>NA</td><td>NA</td><td>0.99933231</td><td>chr14_53697988_56126490</td><td>susie_rss_RSS_QC_RAISS_imputed</td><td>image_Aging1_chr14_53697988_56126490:2</td></tr>\n",
       "\t<tr><td>14</td><td>55710790</td><td>T </td><td>C</td><td>14:55710790:C:T </td><td>chr14_53697988_56126490</td><td>image_Aging1</td><td>1</td><td>0</td><td>0</td><td>NA</td><td>NA</td><td>NA</td><td>0.03989820</td><td>chr14_53697988_56126490</td><td>susie_rss_RSS_QC_RAISS_imputed</td><td>image_Aging1_chr14_53697988_56126490:1</td></tr>\n",
       "\t<tr><td>14</td><td>55714977</td><td>A </td><td>G</td><td>14:55714977:G:A </td><td>chr14_53697988_56126490</td><td>image_Aging1</td><td>1</td><td>1</td><td>1</td><td>NA</td><td>NA</td><td>NA</td><td>0.18899483</td><td>chr14_53697988_56126490</td><td>susie_rss_RSS_QC_RAISS_imputed</td><td>image_Aging1_chr14_53697988_56126490:1</td></tr>\n",
       "\t<tr><td>14</td><td>55720235</td><td>G </td><td>A</td><td>14:55720235:A:G </td><td>chr14_53697988_56126490</td><td>image_Aging1</td><td>1</td><td>1</td><td>0</td><td>NA</td><td>NA</td><td>NA</td><td>0.07048023</td><td>chr14_53697988_56126490</td><td>susie_rss_RSS_QC_RAISS_imputed</td><td>image_Aging1_chr14_53697988_56126490:1</td></tr>\n",
       "\t<tr><td>14</td><td>55726554</td><td>A </td><td>G</td><td>14:55726554:G:A </td><td>chr14_53697988_56126490</td><td>image_Aging1</td><td>1</td><td>0</td><td>0</td><td>NA</td><td>NA</td><td>NA</td><td>0.02099950</td><td>chr14_53697988_56126490</td><td>susie_rss_RSS_QC_RAISS_imputed</td><td>image_Aging1_chr14_53697988_56126490:1</td></tr>\n",
       "\t<tr><td>14</td><td>55726982</td><td>T </td><td>C</td><td>14:55726982:C:T </td><td>chr14_53697988_56126490</td><td>image_Aging1</td><td>1</td><td>1</td><td>1</td><td>NA</td><td>NA</td><td>NA</td><td>0.13187765</td><td>chr14_53697988_56126490</td><td>susie_rss_RSS_QC_RAISS_imputed</td><td>image_Aging1_chr14_53697988_56126490:1</td></tr>\n",
       "\t<tr><td>14</td><td>55729044</td><td>C </td><td>T</td><td>14:55729044:T:C </td><td>chr14_53697988_56126490</td><td>image_Aging1</td><td>1</td><td>1</td><td>0</td><td>NA</td><td>NA</td><td>NA</td><td>0.07346219</td><td>chr14_53697988_56126490</td><td>susie_rss_RSS_QC_RAISS_imputed</td><td>image_Aging1_chr14_53697988_56126490:1</td></tr>\n",
       "\t<tr><td>14</td><td>55730321</td><td>C </td><td>T</td><td>14:55730321:T:C </td><td>chr14_53697988_56126490</td><td>image_Aging1</td><td>1</td><td>1</td><td>1</td><td>NA</td><td>NA</td><td>NA</td><td>0.08025924</td><td>chr14_53697988_56126490</td><td>susie_rss_RSS_QC_RAISS_imputed</td><td>image_Aging1_chr14_53697988_56126490:1</td></tr>\n",
       "\t<tr><td>14</td><td>55730350</td><td>A </td><td>G</td><td>14:55730350:G:A </td><td>chr14_53697988_56126490</td><td>image_Aging1</td><td>1</td><td>1</td><td>1</td><td>NA</td><td>NA</td><td>NA</td><td>0.08016807</td><td>chr14_53697988_56126490</td><td>susie_rss_RSS_QC_RAISS_imputed</td><td>image_Aging1_chr14_53697988_56126490:1</td></tr>\n",
       "\t<tr><td>14</td><td>55730441</td><td>C </td><td>T</td><td>14:55730441:T:C </td><td>chr14_53697988_56126490</td><td>image_Aging1</td><td>1</td><td>1</td><td>1</td><td>NA</td><td>NA</td><td>NA</td><td>0.07584894</td><td>chr14_53697988_56126490</td><td>susie_rss_RSS_QC_RAISS_imputed</td><td>image_Aging1_chr14_53697988_56126490:1</td></tr>\n",
       "\t<tr><td>14</td><td>55730507</td><td>G </td><td>A</td><td>14:55730507:A:G </td><td>chr14_53697988_56126490</td><td>image_Aging1</td><td>1</td><td>0</td><td>0</td><td>NA</td><td>NA</td><td>NA</td><td>0.05890743</td><td>chr14_53697988_56126490</td><td>susie_rss_RSS_QC_RAISS_imputed</td><td>image_Aging1_chr14_53697988_56126490:1</td></tr>\n",
       "\t<tr><td>14</td><td>55730556</td><td>A </td><td>C</td><td>14:55730556:C:A </td><td>chr14_53697988_56126490</td><td>image_Aging1</td><td>1</td><td>1</td><td>0</td><td>NA</td><td>NA</td><td>NA</td><td>0.06064961</td><td>chr14_53697988_56126490</td><td>susie_rss_RSS_QC_RAISS_imputed</td><td>image_Aging1_chr14_53697988_56126490:1</td></tr>\n",
       "\t<tr><td>14</td><td>55731119</td><td>C </td><td>T</td><td>14:55731119:T:C </td><td>chr14_53697988_56126490</td><td>image_Aging1</td><td>1</td><td>0</td><td>0</td><td>NA</td><td>NA</td><td>NA</td><td>0.05055719</td><td>chr14_53697988_56126490</td><td>susie_rss_RSS_QC_RAISS_imputed</td><td>image_Aging1_chr14_53697988_56126490:1</td></tr>\n",
       "\t<tr><td>14</td><td>55732330</td><td>A </td><td>G</td><td>14:55732330:G:A </td><td>chr14_53697988_56126490</td><td>image_Aging1</td><td>1</td><td>0</td><td>0</td><td>NA</td><td>NA</td><td>NA</td><td>0.03864208</td><td>chr14_53697988_56126490</td><td>susie_rss_RSS_QC_RAISS_imputed</td><td>image_Aging1_chr14_53697988_56126490:1</td></tr>\n",
       "</tbody>\n",
       "</table>\n"
      ],
      "text/latex": [
       "A data.table: 14 × 17\n",
       "\\begin{tabular}{lllllllllllllllll}\n",
       " chr & pos & a1 & a2 & variant\\_ID & gene\\_ID & event\\_ID & cs\\_coverage\\_0.95 & cs\\_coverage\\_0.7 & cs\\_coverage\\_0.5 & cs\\_coverage\\_0.95\\_purity0.5 & cs\\_coverage\\_0.7\\_purity0.5 & cs\\_coverage\\_0.5\\_purity0.5 & PIP & region\\_id & finemap\\_model & cs\\\\\n",
       " <int> & <int> & <chr> & <chr> & <chr> & <chr> & <chr> & <int> & <int> & <int> & <lgl> & <lgl> & <lgl> & <dbl> & <chr> & <chr> & <chr>\\\\\n",
       "\\hline\n",
       "\t 14 & 55659306 & TG & T & 14:55659306:T:TG & chr14\\_53697988\\_56126490 & image\\_Aging1 & 2 & 2 & 2 & NA & NA & NA & 0.99933231 & chr14\\_53697988\\_56126490 & susie\\_rss\\_RSS\\_QC\\_RAISS\\_imputed & image\\_Aging1\\_chr14\\_53697988\\_56126490:2\\\\\n",
       "\t 14 & 55710790 & T  & C & 14:55710790:C:T  & chr14\\_53697988\\_56126490 & image\\_Aging1 & 1 & 0 & 0 & NA & NA & NA & 0.03989820 & chr14\\_53697988\\_56126490 & susie\\_rss\\_RSS\\_QC\\_RAISS\\_imputed & image\\_Aging1\\_chr14\\_53697988\\_56126490:1\\\\\n",
       "\t 14 & 55714977 & A  & G & 14:55714977:G:A  & chr14\\_53697988\\_56126490 & image\\_Aging1 & 1 & 1 & 1 & NA & NA & NA & 0.18899483 & chr14\\_53697988\\_56126490 & susie\\_rss\\_RSS\\_QC\\_RAISS\\_imputed & image\\_Aging1\\_chr14\\_53697988\\_56126490:1\\\\\n",
       "\t 14 & 55720235 & G  & A & 14:55720235:A:G  & chr14\\_53697988\\_56126490 & image\\_Aging1 & 1 & 1 & 0 & NA & NA & NA & 0.07048023 & chr14\\_53697988\\_56126490 & susie\\_rss\\_RSS\\_QC\\_RAISS\\_imputed & image\\_Aging1\\_chr14\\_53697988\\_56126490:1\\\\\n",
       "\t 14 & 55726554 & A  & G & 14:55726554:G:A  & chr14\\_53697988\\_56126490 & image\\_Aging1 & 1 & 0 & 0 & NA & NA & NA & 0.02099950 & chr14\\_53697988\\_56126490 & susie\\_rss\\_RSS\\_QC\\_RAISS\\_imputed & image\\_Aging1\\_chr14\\_53697988\\_56126490:1\\\\\n",
       "\t 14 & 55726982 & T  & C & 14:55726982:C:T  & chr14\\_53697988\\_56126490 & image\\_Aging1 & 1 & 1 & 1 & NA & NA & NA & 0.13187765 & chr14\\_53697988\\_56126490 & susie\\_rss\\_RSS\\_QC\\_RAISS\\_imputed & image\\_Aging1\\_chr14\\_53697988\\_56126490:1\\\\\n",
       "\t 14 & 55729044 & C  & T & 14:55729044:T:C  & chr14\\_53697988\\_56126490 & image\\_Aging1 & 1 & 1 & 0 & NA & NA & NA & 0.07346219 & chr14\\_53697988\\_56126490 & susie\\_rss\\_RSS\\_QC\\_RAISS\\_imputed & image\\_Aging1\\_chr14\\_53697988\\_56126490:1\\\\\n",
       "\t 14 & 55730321 & C  & T & 14:55730321:T:C  & chr14\\_53697988\\_56126490 & image\\_Aging1 & 1 & 1 & 1 & NA & NA & NA & 0.08025924 & chr14\\_53697988\\_56126490 & susie\\_rss\\_RSS\\_QC\\_RAISS\\_imputed & image\\_Aging1\\_chr14\\_53697988\\_56126490:1\\\\\n",
       "\t 14 & 55730350 & A  & G & 14:55730350:G:A  & chr14\\_53697988\\_56126490 & image\\_Aging1 & 1 & 1 & 1 & NA & NA & NA & 0.08016807 & chr14\\_53697988\\_56126490 & susie\\_rss\\_RSS\\_QC\\_RAISS\\_imputed & image\\_Aging1\\_chr14\\_53697988\\_56126490:1\\\\\n",
       "\t 14 & 55730441 & C  & T & 14:55730441:T:C  & chr14\\_53697988\\_56126490 & image\\_Aging1 & 1 & 1 & 1 & NA & NA & NA & 0.07584894 & chr14\\_53697988\\_56126490 & susie\\_rss\\_RSS\\_QC\\_RAISS\\_imputed & image\\_Aging1\\_chr14\\_53697988\\_56126490:1\\\\\n",
       "\t 14 & 55730507 & G  & A & 14:55730507:A:G  & chr14\\_53697988\\_56126490 & image\\_Aging1 & 1 & 0 & 0 & NA & NA & NA & 0.05890743 & chr14\\_53697988\\_56126490 & susie\\_rss\\_RSS\\_QC\\_RAISS\\_imputed & image\\_Aging1\\_chr14\\_53697988\\_56126490:1\\\\\n",
       "\t 14 & 55730556 & A  & C & 14:55730556:C:A  & chr14\\_53697988\\_56126490 & image\\_Aging1 & 1 & 1 & 0 & NA & NA & NA & 0.06064961 & chr14\\_53697988\\_56126490 & susie\\_rss\\_RSS\\_QC\\_RAISS\\_imputed & image\\_Aging1\\_chr14\\_53697988\\_56126490:1\\\\\n",
       "\t 14 & 55731119 & C  & T & 14:55731119:T:C  & chr14\\_53697988\\_56126490 & image\\_Aging1 & 1 & 0 & 0 & NA & NA & NA & 0.05055719 & chr14\\_53697988\\_56126490 & susie\\_rss\\_RSS\\_QC\\_RAISS\\_imputed & image\\_Aging1\\_chr14\\_53697988\\_56126490:1\\\\\n",
       "\t 14 & 55732330 & A  & G & 14:55732330:G:A  & chr14\\_53697988\\_56126490 & image\\_Aging1 & 1 & 0 & 0 & NA & NA & NA & 0.03864208 & chr14\\_53697988\\_56126490 & susie\\_rss\\_RSS\\_QC\\_RAISS\\_imputed & image\\_Aging1\\_chr14\\_53697988\\_56126490:1\\\\\n",
       "\\end{tabular}\n"
      ],
      "text/markdown": [
       "\n",
       "A data.table: 14 × 17\n",
       "\n",
       "| chr &lt;int&gt; | pos &lt;int&gt; | a1 &lt;chr&gt; | a2 &lt;chr&gt; | variant_ID &lt;chr&gt; | gene_ID &lt;chr&gt; | event_ID &lt;chr&gt; | cs_coverage_0.95 &lt;int&gt; | cs_coverage_0.7 &lt;int&gt; | cs_coverage_0.5 &lt;int&gt; | cs_coverage_0.95_purity0.5 &lt;lgl&gt; | cs_coverage_0.7_purity0.5 &lt;lgl&gt; | cs_coverage_0.5_purity0.5 &lt;lgl&gt; | PIP &lt;dbl&gt; | region_id &lt;chr&gt; | finemap_model &lt;chr&gt; | cs &lt;chr&gt; |\n",
       "|---|---|---|---|---|---|---|---|---|---|---|---|---|---|---|---|---|\n",
       "| 14 | 55659306 | TG | T | 14:55659306:T:TG | chr14_53697988_56126490 | image_Aging1 | 2 | 2 | 2 | NA | NA | NA | 0.99933231 | chr14_53697988_56126490 | susie_rss_RSS_QC_RAISS_imputed | image_Aging1_chr14_53697988_56126490:2 |\n",
       "| 14 | 55710790 | T  | C | 14:55710790:C:T  | chr14_53697988_56126490 | image_Aging1 | 1 | 0 | 0 | NA | NA | NA | 0.03989820 | chr14_53697988_56126490 | susie_rss_RSS_QC_RAISS_imputed | image_Aging1_chr14_53697988_56126490:1 |\n",
       "| 14 | 55714977 | A  | G | 14:55714977:G:A  | chr14_53697988_56126490 | image_Aging1 | 1 | 1 | 1 | NA | NA | NA | 0.18899483 | chr14_53697988_56126490 | susie_rss_RSS_QC_RAISS_imputed | image_Aging1_chr14_53697988_56126490:1 |\n",
       "| 14 | 55720235 | G  | A | 14:55720235:A:G  | chr14_53697988_56126490 | image_Aging1 | 1 | 1 | 0 | NA | NA | NA | 0.07048023 | chr14_53697988_56126490 | susie_rss_RSS_QC_RAISS_imputed | image_Aging1_chr14_53697988_56126490:1 |\n",
       "| 14 | 55726554 | A  | G | 14:55726554:G:A  | chr14_53697988_56126490 | image_Aging1 | 1 | 0 | 0 | NA | NA | NA | 0.02099950 | chr14_53697988_56126490 | susie_rss_RSS_QC_RAISS_imputed | image_Aging1_chr14_53697988_56126490:1 |\n",
       "| 14 | 55726982 | T  | C | 14:55726982:C:T  | chr14_53697988_56126490 | image_Aging1 | 1 | 1 | 1 | NA | NA | NA | 0.13187765 | chr14_53697988_56126490 | susie_rss_RSS_QC_RAISS_imputed | image_Aging1_chr14_53697988_56126490:1 |\n",
       "| 14 | 55729044 | C  | T | 14:55729044:T:C  | chr14_53697988_56126490 | image_Aging1 | 1 | 1 | 0 | NA | NA | NA | 0.07346219 | chr14_53697988_56126490 | susie_rss_RSS_QC_RAISS_imputed | image_Aging1_chr14_53697988_56126490:1 |\n",
       "| 14 | 55730321 | C  | T | 14:55730321:T:C  | chr14_53697988_56126490 | image_Aging1 | 1 | 1 | 1 | NA | NA | NA | 0.08025924 | chr14_53697988_56126490 | susie_rss_RSS_QC_RAISS_imputed | image_Aging1_chr14_53697988_56126490:1 |\n",
       "| 14 | 55730350 | A  | G | 14:55730350:G:A  | chr14_53697988_56126490 | image_Aging1 | 1 | 1 | 1 | NA | NA | NA | 0.08016807 | chr14_53697988_56126490 | susie_rss_RSS_QC_RAISS_imputed | image_Aging1_chr14_53697988_56126490:1 |\n",
       "| 14 | 55730441 | C  | T | 14:55730441:T:C  | chr14_53697988_56126490 | image_Aging1 | 1 | 1 | 1 | NA | NA | NA | 0.07584894 | chr14_53697988_56126490 | susie_rss_RSS_QC_RAISS_imputed | image_Aging1_chr14_53697988_56126490:1 |\n",
       "| 14 | 55730507 | G  | A | 14:55730507:A:G  | chr14_53697988_56126490 | image_Aging1 | 1 | 0 | 0 | NA | NA | NA | 0.05890743 | chr14_53697988_56126490 | susie_rss_RSS_QC_RAISS_imputed | image_Aging1_chr14_53697988_56126490:1 |\n",
       "| 14 | 55730556 | A  | C | 14:55730556:C:A  | chr14_53697988_56126490 | image_Aging1 | 1 | 1 | 0 | NA | NA | NA | 0.06064961 | chr14_53697988_56126490 | susie_rss_RSS_QC_RAISS_imputed | image_Aging1_chr14_53697988_56126490:1 |\n",
       "| 14 | 55731119 | C  | T | 14:55731119:T:C  | chr14_53697988_56126490 | image_Aging1 | 1 | 0 | 0 | NA | NA | NA | 0.05055719 | chr14_53697988_56126490 | susie_rss_RSS_QC_RAISS_imputed | image_Aging1_chr14_53697988_56126490:1 |\n",
       "| 14 | 55732330 | A  | G | 14:55732330:G:A  | chr14_53697988_56126490 | image_Aging1 | 1 | 0 | 0 | NA | NA | NA | 0.03864208 | chr14_53697988_56126490 | susie_rss_RSS_QC_RAISS_imputed | image_Aging1_chr14_53697988_56126490:1 |\n",
       "\n"
      ],
      "text/plain": [
       "   chr pos      a1 a2 variant_ID       gene_ID                 event_ID    \n",
       "1  14  55659306 TG T  14:55659306:T:TG chr14_53697988_56126490 image_Aging1\n",
       "2  14  55710790 T  C  14:55710790:C:T  chr14_53697988_56126490 image_Aging1\n",
       "3  14  55714977 A  G  14:55714977:G:A  chr14_53697988_56126490 image_Aging1\n",
       "4  14  55720235 G  A  14:55720235:A:G  chr14_53697988_56126490 image_Aging1\n",
       "5  14  55726554 A  G  14:55726554:G:A  chr14_53697988_56126490 image_Aging1\n",
       "6  14  55726982 T  C  14:55726982:C:T  chr14_53697988_56126490 image_Aging1\n",
       "7  14  55729044 C  T  14:55729044:T:C  chr14_53697988_56126490 image_Aging1\n",
       "8  14  55730321 C  T  14:55730321:T:C  chr14_53697988_56126490 image_Aging1\n",
       "9  14  55730350 A  G  14:55730350:G:A  chr14_53697988_56126490 image_Aging1\n",
       "10 14  55730441 C  T  14:55730441:T:C  chr14_53697988_56126490 image_Aging1\n",
       "11 14  55730507 G  A  14:55730507:A:G  chr14_53697988_56126490 image_Aging1\n",
       "12 14  55730556 A  C  14:55730556:C:A  chr14_53697988_56126490 image_Aging1\n",
       "13 14  55731119 C  T  14:55731119:T:C  chr14_53697988_56126490 image_Aging1\n",
       "14 14  55732330 A  G  14:55732330:G:A  chr14_53697988_56126490 image_Aging1\n",
       "   cs_coverage_0.95 cs_coverage_0.7 cs_coverage_0.5 cs_coverage_0.95_purity0.5\n",
       "1  2                2               2               NA                        \n",
       "2  1                0               0               NA                        \n",
       "3  1                1               1               NA                        \n",
       "4  1                1               0               NA                        \n",
       "5  1                0               0               NA                        \n",
       "6  1                1               1               NA                        \n",
       "7  1                1               0               NA                        \n",
       "8  1                1               1               NA                        \n",
       "9  1                1               1               NA                        \n",
       "10 1                1               1               NA                        \n",
       "11 1                0               0               NA                        \n",
       "12 1                1               0               NA                        \n",
       "13 1                0               0               NA                        \n",
       "14 1                0               0               NA                        \n",
       "   cs_coverage_0.7_purity0.5 cs_coverage_0.5_purity0.5 PIP       \n",
       "1  NA                        NA                        0.99933231\n",
       "2  NA                        NA                        0.03989820\n",
       "3  NA                        NA                        0.18899483\n",
       "4  NA                        NA                        0.07048023\n",
       "5  NA                        NA                        0.02099950\n",
       "6  NA                        NA                        0.13187765\n",
       "7  NA                        NA                        0.07346219\n",
       "8  NA                        NA                        0.08025924\n",
       "9  NA                        NA                        0.08016807\n",
       "10 NA                        NA                        0.07584894\n",
       "11 NA                        NA                        0.05890743\n",
       "12 NA                        NA                        0.06064961\n",
       "13 NA                        NA                        0.05055719\n",
       "14 NA                        NA                        0.03864208\n",
       "   region_id               finemap_model                 \n",
       "1  chr14_53697988_56126490 susie_rss_RSS_QC_RAISS_imputed\n",
       "2  chr14_53697988_56126490 susie_rss_RSS_QC_RAISS_imputed\n",
       "3  chr14_53697988_56126490 susie_rss_RSS_QC_RAISS_imputed\n",
       "4  chr14_53697988_56126490 susie_rss_RSS_QC_RAISS_imputed\n",
       "5  chr14_53697988_56126490 susie_rss_RSS_QC_RAISS_imputed\n",
       "6  chr14_53697988_56126490 susie_rss_RSS_QC_RAISS_imputed\n",
       "7  chr14_53697988_56126490 susie_rss_RSS_QC_RAISS_imputed\n",
       "8  chr14_53697988_56126490 susie_rss_RSS_QC_RAISS_imputed\n",
       "9  chr14_53697988_56126490 susie_rss_RSS_QC_RAISS_imputed\n",
       "10 chr14_53697988_56126490 susie_rss_RSS_QC_RAISS_imputed\n",
       "11 chr14_53697988_56126490 susie_rss_RSS_QC_RAISS_imputed\n",
       "12 chr14_53697988_56126490 susie_rss_RSS_QC_RAISS_imputed\n",
       "13 chr14_53697988_56126490 susie_rss_RSS_QC_RAISS_imputed\n",
       "14 chr14_53697988_56126490 susie_rss_RSS_QC_RAISS_imputed\n",
       "   cs                                    \n",
       "1  image_Aging1_chr14_53697988_56126490:2\n",
       "2  image_Aging1_chr14_53697988_56126490:1\n",
       "3  image_Aging1_chr14_53697988_56126490:1\n",
       "4  image_Aging1_chr14_53697988_56126490:1\n",
       "5  image_Aging1_chr14_53697988_56126490:1\n",
       "6  image_Aging1_chr14_53697988_56126490:1\n",
       "7  image_Aging1_chr14_53697988_56126490:1\n",
       "8  image_Aging1_chr14_53697988_56126490:1\n",
       "9  image_Aging1_chr14_53697988_56126490:1\n",
       "10 image_Aging1_chr14_53697988_56126490:1\n",
       "11 image_Aging1_chr14_53697988_56126490:1\n",
       "12 image_Aging1_chr14_53697988_56126490:1\n",
       "13 image_Aging1_chr14_53697988_56126490:1\n",
       "14 image_Aging1_chr14_53697988_56126490:1"
      ]
     },
     "metadata": {},
     "output_type": "display_data"
    }
   ],
   "source": [
    "image |> filter(region_id ==\"chr14_53697988_56126490\" & event_ID == \"image_Aging1\") "
   ]
  },
  {
   "cell_type": "code",
   "execution_count": 14,
   "metadata": {
    "vscode": {
     "languageId": "r"
    }
   },
   "outputs": [
    {
     "data": {
      "text/html": [
       "<table class=\"dataframe\">\n",
       "<caption>A data.table: 3 × 2</caption>\n",
       "<thead>\n",
       "\t<tr><th scope=col>finemap_model</th><th scope=col>n</th></tr>\n",
       "\t<tr><th scope=col>&lt;chr&gt;</th><th scope=col>&lt;int&gt;</th></tr>\n",
       "</thead>\n",
       "<tbody>\n",
       "\t<tr><td>bayesian_conditional_regression_RSS_QC_RAISS_imputed</td><td> 2</td></tr>\n",
       "\t<tr><td>single_effect_NO_QC                                 </td><td>41</td></tr>\n",
       "\t<tr><td>susie_rss_RSS_QC_RAISS_imputed                      </td><td> 6</td></tr>\n",
       "</tbody>\n",
       "</table>\n"
      ],
      "text/latex": [
       "A data.table: 3 × 2\n",
       "\\begin{tabular}{ll}\n",
       " finemap\\_model & n\\\\\n",
       " <chr> & <int>\\\\\n",
       "\\hline\n",
       "\t bayesian\\_conditional\\_regression\\_RSS\\_QC\\_RAISS\\_imputed &  2\\\\\n",
       "\t single\\_effect\\_NO\\_QC                                  & 41\\\\\n",
       "\t susie\\_rss\\_RSS\\_QC\\_RAISS\\_imputed                       &  6\\\\\n",
       "\\end{tabular}\n"
      ],
      "text/markdown": [
       "\n",
       "A data.table: 3 × 2\n",
       "\n",
       "| finemap_model &lt;chr&gt; | n &lt;int&gt; |\n",
       "|---|---|\n",
       "| bayesian_conditional_regression_RSS_QC_RAISS_imputed |  2 |\n",
       "| single_effect_NO_QC                                  | 41 |\n",
       "| susie_rss_RSS_QC_RAISS_imputed                       |  6 |\n",
       "\n"
      ],
      "text/plain": [
       "  finemap_model                                        n \n",
       "1 bayesian_conditional_regression_RSS_QC_RAISS_imputed  2\n",
       "2 single_effect_NO_QC                                  41\n",
       "3 susie_rss_RSS_QC_RAISS_imputed                        6"
      ]
     },
     "metadata": {},
     "output_type": "display_data"
    },
    {
     "name": "stderr",
     "output_type": "stream",
     "text": [
      "\u001b[1m\u001b[22m`summarise()` has grouped output by 'event_ID'. You can override using the\n",
      "`.groups` argument.\n"
     ]
    },
    {
     "data": {
      "text/html": [
       "<table class=\"dataframe\">\n",
       "<caption>A grouped_df: 2 × 3</caption>\n",
       "<thead>\n",
       "\t<tr><th scope=col>event_ID</th><th scope=col>cs_count</th><th scope=col>n</th></tr>\n",
       "\t<tr><th scope=col>&lt;chr&gt;</th><th scope=col>&lt;int&gt;</th><th scope=col>&lt;int&gt;</th></tr>\n",
       "</thead>\n",
       "<tbody>\n",
       "\t<tr><td>MS_EUR</td><td>1</td><td>42</td></tr>\n",
       "\t<tr><td>MS_EUR</td><td>2</td><td> 7</td></tr>\n",
       "</tbody>\n",
       "</table>\n"
      ],
      "text/latex": [
       "A grouped\\_df: 2 × 3\n",
       "\\begin{tabular}{lll}\n",
       " event\\_ID & cs\\_count & n\\\\\n",
       " <chr> & <int> & <int>\\\\\n",
       "\\hline\n",
       "\t MS\\_EUR & 1 & 42\\\\\n",
       "\t MS\\_EUR & 2 &  7\\\\\n",
       "\\end{tabular}\n"
      ],
      "text/markdown": [
       "\n",
       "A grouped_df: 2 × 3\n",
       "\n",
       "| event_ID &lt;chr&gt; | cs_count &lt;int&gt; | n &lt;int&gt; |\n",
       "|---|---|---|\n",
       "| MS_EUR | 1 | 42 |\n",
       "| MS_EUR | 2 |  7 |\n",
       "\n"
      ],
      "text/plain": [
       "  event_ID cs_count n \n",
       "1 MS_EUR   1        42\n",
       "2 MS_EUR   2         7"
      ]
     },
     "metadata": {},
     "output_type": "display_data"
    }
   ],
   "source": [
    "# ms\n",
    "# finemapping model at study_block level\n",
    "ms |> count(event_ID, region_id, finemap_model) |> count(finemap_model)\n",
    "\n",
    "\n",
    "# CS Counts at study_block level\n",
    "ms |> count(cs_coverage_0.95, event_ID, region_id) |> group_by(event_ID, region_id) |> summarise(cs_count = n()) |> count(cs_count)"
   ]
  },
  {
   "cell_type": "code",
   "execution_count": 15,
   "metadata": {
    "vscode": {
     "languageId": "r"
    }
   },
   "outputs": [
    {
     "data": {
      "text/html": [
       "<style>\n",
       ".list-inline {list-style: none; margin:0; padding: 0}\n",
       ".list-inline>li {display: inline-block}\n",
       ".list-inline>li:not(:last-child)::after {content: \"\\00b7\"; padding: 0 .5ex}\n",
       "</style>\n",
       "<ol class=list-inline><li>1</li><li>2</li><li>3</li></ol>\n"
      ],
      "text/latex": [
       "\\begin{enumerate*}\n",
       "\\item 1\n",
       "\\item 2\n",
       "\\item 3\n",
       "\\end{enumerate*}\n"
      ],
      "text/markdown": [
       "1. 1\n",
       "2. 2\n",
       "3. 3\n",
       "\n",
       "\n"
      ],
      "text/plain": [
       "[1] 1 2 3"
      ]
     },
     "metadata": {},
     "output_type": "display_data"
    }
   ],
   "source": [
    "unique(ms$cs_coverage_0.95)"
   ]
  },
  {
   "cell_type": "code",
   "execution_count": 16,
   "metadata": {
    "vscode": {
     "languageId": "r"
    }
   },
   "outputs": [
    {
     "data": {
      "text/html": [
       "<table class=\"dataframe\">\n",
       "<caption>A data.table: 1 × 17</caption>\n",
       "<thead>\n",
       "\t<tr><th scope=col>chr</th><th scope=col>pos</th><th scope=col>a1</th><th scope=col>a2</th><th scope=col>variant_ID</th><th scope=col>gene_ID</th><th scope=col>event_ID</th><th scope=col>cs_coverage_0.95</th><th scope=col>cs_coverage_0.7</th><th scope=col>cs_coverage_0.5</th><th scope=col>cs_coverage_0.95_purity0.5</th><th scope=col>cs_coverage_0.7_purity0.5</th><th scope=col>cs_coverage_0.5_purity0.5</th><th scope=col>PIP</th><th scope=col>region_id</th><th scope=col>finemap_model</th><th scope=col>cs</th></tr>\n",
       "\t<tr><th scope=col>&lt;int&gt;</th><th scope=col>&lt;int&gt;</th><th scope=col>&lt;chr&gt;</th><th scope=col>&lt;chr&gt;</th><th scope=col>&lt;chr&gt;</th><th scope=col>&lt;chr&gt;</th><th scope=col>&lt;chr&gt;</th><th scope=col>&lt;int&gt;</th><th scope=col>&lt;int&gt;</th><th scope=col>&lt;int&gt;</th><th scope=col>&lt;lgl&gt;</th><th scope=col>&lt;lgl&gt;</th><th scope=col>&lt;lgl&gt;</th><th scope=col>&lt;dbl&gt;</th><th scope=col>&lt;chr&gt;</th><th scope=col>&lt;chr&gt;</th><th scope=col>&lt;chr&gt;</th></tr>\n",
       "</thead>\n",
       "<tbody>\n",
       "\t<tr><td>7</td><td>50291172</td><td>G</td><td>A</td><td>7:50291172:A:G</td><td>chr7_49173149_50833794</td><td>MS_EUR</td><td>3</td><td>3</td><td>3</td><td>NA</td><td>NA</td><td>NA</td><td>0.9754648</td><td>chr7_49173149_50833794</td><td>susie_rss_RSS_QC_RAISS_imputed</td><td>MS_EUR_chr7_49173149_50833794:3</td></tr>\n",
       "</tbody>\n",
       "</table>\n"
      ],
      "text/latex": [
       "A data.table: 1 × 17\n",
       "\\begin{tabular}{lllllllllllllllll}\n",
       " chr & pos & a1 & a2 & variant\\_ID & gene\\_ID & event\\_ID & cs\\_coverage\\_0.95 & cs\\_coverage\\_0.7 & cs\\_coverage\\_0.5 & cs\\_coverage\\_0.95\\_purity0.5 & cs\\_coverage\\_0.7\\_purity0.5 & cs\\_coverage\\_0.5\\_purity0.5 & PIP & region\\_id & finemap\\_model & cs\\\\\n",
       " <int> & <int> & <chr> & <chr> & <chr> & <chr> & <chr> & <int> & <int> & <int> & <lgl> & <lgl> & <lgl> & <dbl> & <chr> & <chr> & <chr>\\\\\n",
       "\\hline\n",
       "\t 7 & 50291172 & G & A & 7:50291172:A:G & chr7\\_49173149\\_50833794 & MS\\_EUR & 3 & 3 & 3 & NA & NA & NA & 0.9754648 & chr7\\_49173149\\_50833794 & susie\\_rss\\_RSS\\_QC\\_RAISS\\_imputed & MS\\_EUR\\_chr7\\_49173149\\_50833794:3\\\\\n",
       "\\end{tabular}\n"
      ],
      "text/markdown": [
       "\n",
       "A data.table: 1 × 17\n",
       "\n",
       "| chr &lt;int&gt; | pos &lt;int&gt; | a1 &lt;chr&gt; | a2 &lt;chr&gt; | variant_ID &lt;chr&gt; | gene_ID &lt;chr&gt; | event_ID &lt;chr&gt; | cs_coverage_0.95 &lt;int&gt; | cs_coverage_0.7 &lt;int&gt; | cs_coverage_0.5 &lt;int&gt; | cs_coverage_0.95_purity0.5 &lt;lgl&gt; | cs_coverage_0.7_purity0.5 &lt;lgl&gt; | cs_coverage_0.5_purity0.5 &lt;lgl&gt; | PIP &lt;dbl&gt; | region_id &lt;chr&gt; | finemap_model &lt;chr&gt; | cs &lt;chr&gt; |\n",
       "|---|---|---|---|---|---|---|---|---|---|---|---|---|---|---|---|---|\n",
       "| 7 | 50291172 | G | A | 7:50291172:A:G | chr7_49173149_50833794 | MS_EUR | 3 | 3 | 3 | NA | NA | NA | 0.9754648 | chr7_49173149_50833794 | susie_rss_RSS_QC_RAISS_imputed | MS_EUR_chr7_49173149_50833794:3 |\n",
       "\n"
      ],
      "text/plain": [
       "  chr pos      a1 a2 variant_ID     gene_ID                event_ID\n",
       "1 7   50291172 G  A  7:50291172:A:G chr7_49173149_50833794 MS_EUR  \n",
       "  cs_coverage_0.95 cs_coverage_0.7 cs_coverage_0.5 cs_coverage_0.95_purity0.5\n",
       "1 3                3               3               NA                        \n",
       "  cs_coverage_0.7_purity0.5 cs_coverage_0.5_purity0.5 PIP      \n",
       "1 NA                        NA                        0.9754648\n",
       "  region_id              finemap_model                 \n",
       "1 chr7_49173149_50833794 susie_rss_RSS_QC_RAISS_imputed\n",
       "  cs                             \n",
       "1 MS_EUR_chr7_49173149_50833794:3"
      ]
     },
     "metadata": {},
     "output_type": "display_data"
    },
    {
     "data": {
      "text/html": [
       "<table class=\"dataframe\">\n",
       "<caption>A data.table: 3 × 17</caption>\n",
       "<thead>\n",
       "\t<tr><th scope=col>chr</th><th scope=col>pos</th><th scope=col>a1</th><th scope=col>a2</th><th scope=col>variant_ID</th><th scope=col>gene_ID</th><th scope=col>event_ID</th><th scope=col>cs_coverage_0.95</th><th scope=col>cs_coverage_0.7</th><th scope=col>cs_coverage_0.5</th><th scope=col>cs_coverage_0.95_purity0.5</th><th scope=col>cs_coverage_0.7_purity0.5</th><th scope=col>cs_coverage_0.5_purity0.5</th><th scope=col>PIP</th><th scope=col>region_id</th><th scope=col>finemap_model</th><th scope=col>cs</th></tr>\n",
       "\t<tr><th scope=col>&lt;int&gt;</th><th scope=col>&lt;int&gt;</th><th scope=col>&lt;chr&gt;</th><th scope=col>&lt;chr&gt;</th><th scope=col>&lt;chr&gt;</th><th scope=col>&lt;chr&gt;</th><th scope=col>&lt;chr&gt;</th><th scope=col>&lt;int&gt;</th><th scope=col>&lt;int&gt;</th><th scope=col>&lt;int&gt;</th><th scope=col>&lt;lgl&gt;</th><th scope=col>&lt;lgl&gt;</th><th scope=col>&lt;lgl&gt;</th><th scope=col>&lt;dbl&gt;</th><th scope=col>&lt;chr&gt;</th><th scope=col>&lt;chr&gt;</th><th scope=col>&lt;chr&gt;</th></tr>\n",
       "</thead>\n",
       "<tbody>\n",
       "\t<tr><td>7</td><td>50278864</td><td>C</td><td>T</td><td>7:50278864:T:C</td><td>chr7_49173149_50833794</td><td>MS_EUR</td><td>1</td><td>1</td><td>0</td><td>NA</td><td>NA</td><td>NA</td><td>0.3250762</td><td>chr7_49173149_50833794</td><td>susie_rss_RSS_QC_RAISS_imputed</td><td>MS_EUR_chr7_49173149_50833794:1</td></tr>\n",
       "\t<tr><td>7</td><td>50288743</td><td>G</td><td>A</td><td>7:50288743:A:G</td><td>chr7_49173149_50833794</td><td>MS_EUR</td><td>1</td><td>1</td><td>1</td><td>NA</td><td>NA</td><td>NA</td><td>0.6746041</td><td>chr7_49173149_50833794</td><td>susie_rss_RSS_QC_RAISS_imputed</td><td>MS_EUR_chr7_49173149_50833794:1</td></tr>\n",
       "\t<tr><td>7</td><td>50291172</td><td>G</td><td>A</td><td>7:50291172:A:G</td><td>chr7_49173149_50833794</td><td>MS_EUR</td><td>3</td><td>3</td><td>3</td><td>NA</td><td>NA</td><td>NA</td><td>0.9754648</td><td>chr7_49173149_50833794</td><td>susie_rss_RSS_QC_RAISS_imputed</td><td>MS_EUR_chr7_49173149_50833794:3</td></tr>\n",
       "</tbody>\n",
       "</table>\n"
      ],
      "text/latex": [
       "A data.table: 3 × 17\n",
       "\\begin{tabular}{lllllllllllllllll}\n",
       " chr & pos & a1 & a2 & variant\\_ID & gene\\_ID & event\\_ID & cs\\_coverage\\_0.95 & cs\\_coverage\\_0.7 & cs\\_coverage\\_0.5 & cs\\_coverage\\_0.95\\_purity0.5 & cs\\_coverage\\_0.7\\_purity0.5 & cs\\_coverage\\_0.5\\_purity0.5 & PIP & region\\_id & finemap\\_model & cs\\\\\n",
       " <int> & <int> & <chr> & <chr> & <chr> & <chr> & <chr> & <int> & <int> & <int> & <lgl> & <lgl> & <lgl> & <dbl> & <chr> & <chr> & <chr>\\\\\n",
       "\\hline\n",
       "\t 7 & 50278864 & C & T & 7:50278864:T:C & chr7\\_49173149\\_50833794 & MS\\_EUR & 1 & 1 & 0 & NA & NA & NA & 0.3250762 & chr7\\_49173149\\_50833794 & susie\\_rss\\_RSS\\_QC\\_RAISS\\_imputed & MS\\_EUR\\_chr7\\_49173149\\_50833794:1\\\\\n",
       "\t 7 & 50288743 & G & A & 7:50288743:A:G & chr7\\_49173149\\_50833794 & MS\\_EUR & 1 & 1 & 1 & NA & NA & NA & 0.6746041 & chr7\\_49173149\\_50833794 & susie\\_rss\\_RSS\\_QC\\_RAISS\\_imputed & MS\\_EUR\\_chr7\\_49173149\\_50833794:1\\\\\n",
       "\t 7 & 50291172 & G & A & 7:50291172:A:G & chr7\\_49173149\\_50833794 & MS\\_EUR & 3 & 3 & 3 & NA & NA & NA & 0.9754648 & chr7\\_49173149\\_50833794 & susie\\_rss\\_RSS\\_QC\\_RAISS\\_imputed & MS\\_EUR\\_chr7\\_49173149\\_50833794:3\\\\\n",
       "\\end{tabular}\n"
      ],
      "text/markdown": [
       "\n",
       "A data.table: 3 × 17\n",
       "\n",
       "| chr &lt;int&gt; | pos &lt;int&gt; | a1 &lt;chr&gt; | a2 &lt;chr&gt; | variant_ID &lt;chr&gt; | gene_ID &lt;chr&gt; | event_ID &lt;chr&gt; | cs_coverage_0.95 &lt;int&gt; | cs_coverage_0.7 &lt;int&gt; | cs_coverage_0.5 &lt;int&gt; | cs_coverage_0.95_purity0.5 &lt;lgl&gt; | cs_coverage_0.7_purity0.5 &lt;lgl&gt; | cs_coverage_0.5_purity0.5 &lt;lgl&gt; | PIP &lt;dbl&gt; | region_id &lt;chr&gt; | finemap_model &lt;chr&gt; | cs &lt;chr&gt; |\n",
       "|---|---|---|---|---|---|---|---|---|---|---|---|---|---|---|---|---|\n",
       "| 7 | 50278864 | C | T | 7:50278864:T:C | chr7_49173149_50833794 | MS_EUR | 1 | 1 | 0 | NA | NA | NA | 0.3250762 | chr7_49173149_50833794 | susie_rss_RSS_QC_RAISS_imputed | MS_EUR_chr7_49173149_50833794:1 |\n",
       "| 7 | 50288743 | G | A | 7:50288743:A:G | chr7_49173149_50833794 | MS_EUR | 1 | 1 | 1 | NA | NA | NA | 0.6746041 | chr7_49173149_50833794 | susie_rss_RSS_QC_RAISS_imputed | MS_EUR_chr7_49173149_50833794:1 |\n",
       "| 7 | 50291172 | G | A | 7:50291172:A:G | chr7_49173149_50833794 | MS_EUR | 3 | 3 | 3 | NA | NA | NA | 0.9754648 | chr7_49173149_50833794 | susie_rss_RSS_QC_RAISS_imputed | MS_EUR_chr7_49173149_50833794:3 |\n",
       "\n"
      ],
      "text/plain": [
       "  chr pos      a1 a2 variant_ID     gene_ID                event_ID\n",
       "1 7   50278864 C  T  7:50278864:T:C chr7_49173149_50833794 MS_EUR  \n",
       "2 7   50288743 G  A  7:50288743:A:G chr7_49173149_50833794 MS_EUR  \n",
       "3 7   50291172 G  A  7:50291172:A:G chr7_49173149_50833794 MS_EUR  \n",
       "  cs_coverage_0.95 cs_coverage_0.7 cs_coverage_0.5 cs_coverage_0.95_purity0.5\n",
       "1 1                1               0               NA                        \n",
       "2 1                1               1               NA                        \n",
       "3 3                3               3               NA                        \n",
       "  cs_coverage_0.7_purity0.5 cs_coverage_0.5_purity0.5 PIP      \n",
       "1 NA                        NA                        0.3250762\n",
       "2 NA                        NA                        0.6746041\n",
       "3 NA                        NA                        0.9754648\n",
       "  region_id              finemap_model                 \n",
       "1 chr7_49173149_50833794 susie_rss_RSS_QC_RAISS_imputed\n",
       "2 chr7_49173149_50833794 susie_rss_RSS_QC_RAISS_imputed\n",
       "3 chr7_49173149_50833794 susie_rss_RSS_QC_RAISS_imputed\n",
       "  cs                             \n",
       "1 MS_EUR_chr7_49173149_50833794:1\n",
       "2 MS_EUR_chr7_49173149_50833794:1\n",
       "3 MS_EUR_chr7_49173149_50833794:3"
      ]
     },
     "metadata": {},
     "output_type": "display_data"
    }
   ],
   "source": [
    "ms |> filter(cs_coverage_0.95 == 3)\n",
    "ms |> filter(region_id == \"chr7_49173149_50833794\" & event_ID == \"MS_EUR\")"
   ]
  },
  {
   "cell_type": "markdown",
   "metadata": {},
   "source": [
    "### CS level"
   ]
  },
  {
   "cell_type": "code",
   "execution_count": 17,
   "metadata": {
    "vscode": {
     "languageId": "r"
    }
   },
   "outputs": [
    {
     "data": {
      "text/html": [
       "<table class=\"dataframe\">\n",
       "<caption>A data.table: 8 × 2</caption>\n",
       "<thead>\n",
       "\t<tr><th scope=col>event_ID</th><th scope=col>n</th></tr>\n",
       "\t<tr><th scope=col>&lt;chr&gt;</th><th scope=col>&lt;int&gt;</th></tr>\n",
       "</thead>\n",
       "<tbody>\n",
       "\t<tr><td>MS_EUR      </td><td>56</td></tr>\n",
       "\t<tr><td>image_AD1   </td><td> 9</td></tr>\n",
       "\t<tr><td>image_AD2   </td><td>12</td></tr>\n",
       "\t<tr><td>image_Aging1</td><td>13</td></tr>\n",
       "\t<tr><td>image_Aging2</td><td>11</td></tr>\n",
       "\t<tr><td>image_Aging3</td><td> 9</td></tr>\n",
       "\t<tr><td>image_Aging4</td><td>12</td></tr>\n",
       "\t<tr><td>image_Aging5</td><td>17</td></tr>\n",
       "</tbody>\n",
       "</table>\n"
      ],
      "text/latex": [
       "A data.table: 8 × 2\n",
       "\\begin{tabular}{ll}\n",
       " event\\_ID & n\\\\\n",
       " <chr> & <int>\\\\\n",
       "\\hline\n",
       "\t MS\\_EUR       & 56\\\\\n",
       "\t image\\_AD1    &  9\\\\\n",
       "\t image\\_AD2    & 12\\\\\n",
       "\t image\\_Aging1 & 13\\\\\n",
       "\t image\\_Aging2 & 11\\\\\n",
       "\t image\\_Aging3 &  9\\\\\n",
       "\t image\\_Aging4 & 12\\\\\n",
       "\t image\\_Aging5 & 17\\\\\n",
       "\\end{tabular}\n"
      ],
      "text/markdown": [
       "\n",
       "A data.table: 8 × 2\n",
       "\n",
       "| event_ID &lt;chr&gt; | n &lt;int&gt; |\n",
       "|---|---|\n",
       "| MS_EUR       | 56 |\n",
       "| image_AD1    |  9 |\n",
       "| image_AD2    | 12 |\n",
       "| image_Aging1 | 13 |\n",
       "| image_Aging2 | 11 |\n",
       "| image_Aging3 |  9 |\n",
       "| image_Aging4 | 12 |\n",
       "| image_Aging5 | 17 |\n",
       "\n"
      ],
      "text/plain": [
       "  event_ID     n \n",
       "1 MS_EUR       56\n",
       "2 image_AD1     9\n",
       "3 image_AD2    12\n",
       "4 image_Aging1 13\n",
       "5 image_Aging2 11\n",
       "6 image_Aging3  9\n",
       "7 image_Aging4 12\n",
       "8 image_Aging5 17"
      ]
     },
     "metadata": {},
     "output_type": "display_data"
    }
   ],
   "source": [
    "# CS counts for each event_ID(trait)\n",
    "top_loci_0.95 |> count(event_ID, cs) |> count(event_ID)"
   ]
  },
  {
   "cell_type": "code",
   "execution_count": 18,
   "metadata": {
    "vscode": {
     "languageId": "r"
    }
   },
   "outputs": [
    {
     "data": {
      "text/html": [
       "<table class=\"dataframe\">\n",
       "<caption>A tibble: 15 × 2</caption>\n",
       "<thead>\n",
       "\t<tr><th scope=col>cs</th><th scope=col>n</th></tr>\n",
       "\t<tr><th scope=col>&lt;chr&gt;</th><th scope=col>&lt;int&gt;</th></tr>\n",
       "</thead>\n",
       "<tbody>\n",
       "\t<tr><td>MS_EUR_chr10_5563265_7006830:1          </td><td>1</td></tr>\n",
       "\t<tr><td>MS_EUR_chr12_4882038_6411328:1          </td><td>1</td></tr>\n",
       "\t<tr><td>MS_EUR_chr19_9354363_11569122:1         </td><td>1</td></tr>\n",
       "\t<tr><td>MS_EUR_chr19_9354363_11569122:2         </td><td>1</td></tr>\n",
       "\t<tr><td>MS_EUR_chr3_159760299_161902641:1       </td><td>1</td></tr>\n",
       "\t<tr><td>MS_EUR_chr7_49173149_50833794:3         </td><td>1</td></tr>\n",
       "\t<tr><td>image_AD2_chr12_30570684_32921536:1     </td><td>1</td></tr>\n",
       "\t<tr><td>image_AD2_chr12_3219245_4882038:1       </td><td>1</td></tr>\n",
       "\t<tr><td>image_AD2_chr12_61991992_65677087:1     </td><td>1</td></tr>\n",
       "\t<tr><td>image_AD2_chr4_20819487_22317731:1      </td><td>1</td></tr>\n",
       "\t<tr><td>image_Aging1_chr14_53697988_56126490:2  </td><td>1</td></tr>\n",
       "\t<tr><td>image_Aging2_chr5_149895776_152257891:1 </td><td>1</td></tr>\n",
       "\t<tr><td>image_Aging3_chr20_40697409_42726168:1  </td><td>1</td></tr>\n",
       "\t<tr><td>image_Aging5_chr12_105830574_109677898:1</td><td>1</td></tr>\n",
       "\t<tr><td>image_Aging5_chr1_44020567_47757518:1   </td><td>1</td></tr>\n",
       "</tbody>\n",
       "</table>\n"
      ],
      "text/latex": [
       "A tibble: 15 × 2\n",
       "\\begin{tabular}{ll}\n",
       " cs & n\\\\\n",
       " <chr> & <int>\\\\\n",
       "\\hline\n",
       "\t MS\\_EUR\\_chr10\\_5563265\\_7006830:1           & 1\\\\\n",
       "\t MS\\_EUR\\_chr12\\_4882038\\_6411328:1           & 1\\\\\n",
       "\t MS\\_EUR\\_chr19\\_9354363\\_11569122:1          & 1\\\\\n",
       "\t MS\\_EUR\\_chr19\\_9354363\\_11569122:2          & 1\\\\\n",
       "\t MS\\_EUR\\_chr3\\_159760299\\_161902641:1        & 1\\\\\n",
       "\t MS\\_EUR\\_chr7\\_49173149\\_50833794:3          & 1\\\\\n",
       "\t image\\_AD2\\_chr12\\_30570684\\_32921536:1      & 1\\\\\n",
       "\t image\\_AD2\\_chr12\\_3219245\\_4882038:1        & 1\\\\\n",
       "\t image\\_AD2\\_chr12\\_61991992\\_65677087:1      & 1\\\\\n",
       "\t image\\_AD2\\_chr4\\_20819487\\_22317731:1       & 1\\\\\n",
       "\t image\\_Aging1\\_chr14\\_53697988\\_56126490:2   & 1\\\\\n",
       "\t image\\_Aging2\\_chr5\\_149895776\\_152257891:1  & 1\\\\\n",
       "\t image\\_Aging3\\_chr20\\_40697409\\_42726168:1   & 1\\\\\n",
       "\t image\\_Aging5\\_chr12\\_105830574\\_109677898:1 & 1\\\\\n",
       "\t image\\_Aging5\\_chr1\\_44020567\\_47757518:1    & 1\\\\\n",
       "\\end{tabular}\n"
      ],
      "text/markdown": [
       "\n",
       "A tibble: 15 × 2\n",
       "\n",
       "| cs &lt;chr&gt; | n &lt;int&gt; |\n",
       "|---|---|\n",
       "| MS_EUR_chr10_5563265_7006830:1           | 1 |\n",
       "| MS_EUR_chr12_4882038_6411328:1           | 1 |\n",
       "| MS_EUR_chr19_9354363_11569122:1          | 1 |\n",
       "| MS_EUR_chr19_9354363_11569122:2          | 1 |\n",
       "| MS_EUR_chr3_159760299_161902641:1        | 1 |\n",
       "| MS_EUR_chr7_49173149_50833794:3          | 1 |\n",
       "| image_AD2_chr12_30570684_32921536:1      | 1 |\n",
       "| image_AD2_chr12_3219245_4882038:1        | 1 |\n",
       "| image_AD2_chr12_61991992_65677087:1      | 1 |\n",
       "| image_AD2_chr4_20819487_22317731:1       | 1 |\n",
       "| image_Aging1_chr14_53697988_56126490:2   | 1 |\n",
       "| image_Aging2_chr5_149895776_152257891:1  | 1 |\n",
       "| image_Aging3_chr20_40697409_42726168:1   | 1 |\n",
       "| image_Aging5_chr12_105830574_109677898:1 | 1 |\n",
       "| image_Aging5_chr1_44020567_47757518:1    | 1 |\n",
       "\n"
      ],
      "text/plain": [
       "   cs                                       n\n",
       "1  MS_EUR_chr10_5563265_7006830:1           1\n",
       "2  MS_EUR_chr12_4882038_6411328:1           1\n",
       "3  MS_EUR_chr19_9354363_11569122:1          1\n",
       "4  MS_EUR_chr19_9354363_11569122:2          1\n",
       "5  MS_EUR_chr3_159760299_161902641:1        1\n",
       "6  MS_EUR_chr7_49173149_50833794:3          1\n",
       "7  image_AD2_chr12_30570684_32921536:1      1\n",
       "8  image_AD2_chr12_3219245_4882038:1        1\n",
       "9  image_AD2_chr12_61991992_65677087:1      1\n",
       "10 image_AD2_chr4_20819487_22317731:1       1\n",
       "11 image_Aging1_chr14_53697988_56126490:2   1\n",
       "12 image_Aging2_chr5_149895776_152257891:1  1\n",
       "13 image_Aging3_chr20_40697409_42726168:1   1\n",
       "14 image_Aging5_chr12_105830574_109677898:1 1\n",
       "15 image_Aging5_chr1_44020567_47757518:1    1"
      ]
     },
     "metadata": {},
     "output_type": "display_data"
    }
   ],
   "source": [
    "top_loci_0.95 |> group_by(cs) |> summarise(n = n()) |> filter(n == 1)"
   ]
  },
  {
   "cell_type": "markdown",
   "metadata": {
    "vscode": {
     "languageId": "r"
    }
   },
   "source": [
    "## Visualization between manhattan plot and psuedo_manhattan plot from finemapping"
   ]
  },
  {
   "cell_type": "code",
   "execution_count": 4,
   "metadata": {
    "vscode": {
     "languageId": "r"
    }
   },
   "outputs": [],
   "source": [
    "Aging1 = top_loci_0.95 |> filter(event_ID == \"image_Aging1\")"
   ]
  },
  {
   "cell_type": "code",
   "execution_count": 32,
   "metadata": {
    "vscode": {
     "languageId": "r"
    }
   },
   "outputs": [],
   "source": [
    "library(CMplot)\n",
    "cmplot_data_Aging1 <- data.frame(\n",
    "  SNP = Aging1$variant_ID,\n",
    "  Chromosome = Aging1$chr,\n",
    "  Position = Aging1$pos,\n",
    "  P_value = Aging1$PIP\n",
    ")"
   ]
  },
  {
   "cell_type": "code",
   "execution_count": 72,
   "metadata": {
    "vscode": {
     "languageId": "r"
    }
   },
   "outputs": [
    {
     "name": "stdout",
     "output_type": "stream",
     "text": [
      " Rectangular Manhattan plotting P_value.\n",
      " Plots are stored in: /mnt/vast/hpc/homes/rl3328/image_QTL/image_finemapping_export_cs_corr_0.3_latest/export \n"
     ]
    }
   ],
   "source": [
    "CMplot(cmplot_data_Aging1,\n",
    "       plot.type = \"m\",           # \"m\" for Manhattan plot\n",
    "       band = 1,                  # Show gray background bands\n",
    "       col = c(\"steelblue\", \"darkred\"), # Alternating colors for chromosomes\n",
    "       threshold = 0.1, # Significance threshold (Bonferroni)\n",
    "       threshold.col = \"red\",     # Color for threshold line\n",
    "       LOG10 = FALSE,\n",
    "       ylab = expression(italic(PIP)),  # Y-axis label\n",
    "       file = \"jpg\",                 # File format\n",
    "       file.name = \"Aging1_pseudo_Manhtn\",  # Custom file name\n",
    "       file.output = TRUE,           # Set to TRUE to output file\n",
    "       verbose = TRUE)            # Print progress information"
   ]
  },
  {
   "cell_type": "code",
   "execution_count": 5,
   "metadata": {
    "vscode": {
     "languageId": "r"
    }
   },
   "outputs": [
    {
     "data": {
      "text/html": [
       "<table class=\"dataframe\">\n",
       "<caption>A data.table: 12 × 2</caption>\n",
       "<thead>\n",
       "\t<tr><th scope=col>region_id</th><th scope=col>n</th></tr>\n",
       "\t<tr><th scope=col>&lt;chr&gt;</th><th scope=col>&lt;int&gt;</th></tr>\n",
       "</thead>\n",
       "<tbody>\n",
       "\t<tr><td>chr10_23053090_24429720 </td><td>19</td></tr>\n",
       "\t<tr><td>chr14_53697988_56126490 </td><td>14</td></tr>\n",
       "\t<tr><td>chr14_90480460_92293029 </td><td> 8</td></tr>\n",
       "\t<tr><td>chr16_24006835_25479836 </td><td>29</td></tr>\n",
       "\t<tr><td>chr1_2888443_4320284    </td><td> 8</td></tr>\n",
       "\t<tr><td>chr20_25046442_32060775 </td><td>54</td></tr>\n",
       "\t<tr><td>chr4_55420021_58069173  </td><td> 5</td></tr>\n",
       "\t<tr><td>chr4_81722770_83364947  </td><td>66</td></tr>\n",
       "\t<tr><td>chr5_11875_982414       </td><td>13</td></tr>\n",
       "\t<tr><td>chr6_122787546_128506682</td><td>58</td></tr>\n",
       "\t<tr><td>chr8_48677154_50550619  </td><td>13</td></tr>\n",
       "\t<tr><td>chr8_81104029_82815761  </td><td>16</td></tr>\n",
       "</tbody>\n",
       "</table>\n"
      ],
      "text/latex": [
       "A data.table: 12 × 2\n",
       "\\begin{tabular}{ll}\n",
       " region\\_id & n\\\\\n",
       " <chr> & <int>\\\\\n",
       "\\hline\n",
       "\t chr10\\_23053090\\_24429720  & 19\\\\\n",
       "\t chr14\\_53697988\\_56126490  & 14\\\\\n",
       "\t chr14\\_90480460\\_92293029  &  8\\\\\n",
       "\t chr16\\_24006835\\_25479836  & 29\\\\\n",
       "\t chr1\\_2888443\\_4320284     &  8\\\\\n",
       "\t chr20\\_25046442\\_32060775  & 54\\\\\n",
       "\t chr4\\_55420021\\_58069173   &  5\\\\\n",
       "\t chr4\\_81722770\\_83364947   & 66\\\\\n",
       "\t chr5\\_11875\\_982414        & 13\\\\\n",
       "\t chr6\\_122787546\\_128506682 & 58\\\\\n",
       "\t chr8\\_48677154\\_50550619   & 13\\\\\n",
       "\t chr8\\_81104029\\_82815761   & 16\\\\\n",
       "\\end{tabular}\n"
      ],
      "text/markdown": [
       "\n",
       "A data.table: 12 × 2\n",
       "\n",
       "| region_id &lt;chr&gt; | n &lt;int&gt; |\n",
       "|---|---|\n",
       "| chr10_23053090_24429720  | 19 |\n",
       "| chr14_53697988_56126490  | 14 |\n",
       "| chr14_90480460_92293029  |  8 |\n",
       "| chr16_24006835_25479836  | 29 |\n",
       "| chr1_2888443_4320284     |  8 |\n",
       "| chr20_25046442_32060775  | 54 |\n",
       "| chr4_55420021_58069173   |  5 |\n",
       "| chr4_81722770_83364947   | 66 |\n",
       "| chr5_11875_982414        | 13 |\n",
       "| chr6_122787546_128506682 | 58 |\n",
       "| chr8_48677154_50550619   | 13 |\n",
       "| chr8_81104029_82815761   | 16 |\n",
       "\n"
      ],
      "text/plain": [
       "   region_id                n \n",
       "1  chr10_23053090_24429720  19\n",
       "2  chr14_53697988_56126490  14\n",
       "3  chr14_90480460_92293029   8\n",
       "4  chr16_24006835_25479836  29\n",
       "5  chr1_2888443_4320284      8\n",
       "6  chr20_25046442_32060775  54\n",
       "7  chr4_55420021_58069173    5\n",
       "8  chr4_81722770_83364947   66\n",
       "9  chr5_11875_982414        13\n",
       "10 chr6_122787546_128506682 58\n",
       "11 chr8_48677154_50550619   13\n",
       "12 chr8_81104029_82815761   16"
      ]
     },
     "metadata": {},
     "output_type": "display_data"
    }
   ],
   "source": [
    "Aging1 |> count(region_id)"
   ]
  },
  {
   "cell_type": "code",
   "execution_count": 5,
   "metadata": {
    "vscode": {
     "languageId": "r"
    }
   },
   "outputs": [],
   "source": [
    "Aging2 = top_loci_0.95 |> filter(event_ID == \"image_Aging2\")"
   ]
  },
  {
   "cell_type": "code",
   "execution_count": 68,
   "metadata": {
    "vscode": {
     "languageId": "r"
    }
   },
   "outputs": [],
   "source": [
    "library(CMplot)\n",
    "cmplot_data_Aging2 <- data.frame(\n",
    "  SNP = Aging2$variant_ID,\n",
    "  Chromosome = Aging2$chr,\n",
    "  Position = Aging2$pos,\n",
    "  P_value = Aging2$PIP\n",
    ")"
   ]
  },
  {
   "cell_type": "code",
   "execution_count": 69,
   "metadata": {
    "vscode": {
     "languageId": "r"
    }
   },
   "outputs": [
    {
     "name": "stdout",
     "output_type": "stream",
     "text": [
      " Rectangular Manhattan plotting P_value.\n",
      " Plots are stored in: /mnt/vast/hpc/homes/rl3328/image_QTL/image_finemapping_export_cs_corr_0.3_latest/export \n"
     ]
    }
   ],
   "source": [
    "CMplot(cmplot_data_Aging2,\n",
    "       plot.type = \"m\",           # \"m\" for Manhattan plot\n",
    "       band = 1,                  # Show gray background bands\n",
    "       col = c(\"steelblue\", \"darkred\"), # Alternating colors for chromosomes\n",
    "       threshold = 0.1, # Significance threshold (Bonferroni)\n",
    "       threshold.col = \"red\",     # Color for threshold line\n",
    "       LOG10 = FALSE,\n",
    "       ylab = expression(italic(PIP)),  # Y-axis label\n",
    "       file = \"jpg\",                 # File format\n",
    "       file.name = \"Aging2_pseudo_Manhtn\",  # Custom file name\n",
    "       file.output = TRUE,           # Set to TRUE to output file\n",
    "       verbose = TRUE)            # Print progress information"
   ]
  },
  {
   "cell_type": "code",
   "execution_count": 43,
   "metadata": {
    "vscode": {
     "languageId": "r"
    }
   },
   "outputs": [
    {
     "data": {
      "text/html": [
       "<table class=\"dataframe\">\n",
       "<caption>A data.table: 11 × 2</caption>\n",
       "<thead>\n",
       "\t<tr><th scope=col>region_id</th><th scope=col>n</th></tr>\n",
       "\t<tr><th scope=col>&lt;chr&gt;</th><th scope=col>&lt;int&gt;</th></tr>\n",
       "</thead>\n",
       "<tbody>\n",
       "\t<tr><td>chr10_123788803_125506866</td><td>28</td></tr>\n",
       "\t<tr><td>chr12_115165608_117668628</td><td> 5</td></tr>\n",
       "\t<tr><td>chr12_3219245_4882038    </td><td> 2</td></tr>\n",
       "\t<tr><td>chr12_61991992_65677087  </td><td> 2</td></tr>\n",
       "\t<tr><td>chr16_76023784_77705911  </td><td>17</td></tr>\n",
       "\t<tr><td>chr5_149895776_152257891 </td><td> 1</td></tr>\n",
       "\t<tr><td>chr5_81766514_84011262   </td><td> 9</td></tr>\n",
       "\t<tr><td>chr6_122787546_128506682 </td><td>48</td></tr>\n",
       "\t<tr><td>chr7_6928965_7769511     </td><td>10</td></tr>\n",
       "\t<tr><td>chr9_116251953_117124386 </td><td> 5</td></tr>\n",
       "\t<tr><td>chr9_87677148_89739207   </td><td>10</td></tr>\n",
       "</tbody>\n",
       "</table>\n"
      ],
      "text/latex": [
       "A data.table: 11 × 2\n",
       "\\begin{tabular}{ll}\n",
       " region\\_id & n\\\\\n",
       " <chr> & <int>\\\\\n",
       "\\hline\n",
       "\t chr10\\_123788803\\_125506866 & 28\\\\\n",
       "\t chr12\\_115165608\\_117668628 &  5\\\\\n",
       "\t chr12\\_3219245\\_4882038     &  2\\\\\n",
       "\t chr12\\_61991992\\_65677087   &  2\\\\\n",
       "\t chr16\\_76023784\\_77705911   & 17\\\\\n",
       "\t chr5\\_149895776\\_152257891  &  1\\\\\n",
       "\t chr5\\_81766514\\_84011262    &  9\\\\\n",
       "\t chr6\\_122787546\\_128506682  & 48\\\\\n",
       "\t chr7\\_6928965\\_7769511      & 10\\\\\n",
       "\t chr9\\_116251953\\_117124386  &  5\\\\\n",
       "\t chr9\\_87677148\\_89739207    & 10\\\\\n",
       "\\end{tabular}\n"
      ],
      "text/markdown": [
       "\n",
       "A data.table: 11 × 2\n",
       "\n",
       "| region_id &lt;chr&gt; | n &lt;int&gt; |\n",
       "|---|---|\n",
       "| chr10_123788803_125506866 | 28 |\n",
       "| chr12_115165608_117668628 |  5 |\n",
       "| chr12_3219245_4882038     |  2 |\n",
       "| chr12_61991992_65677087   |  2 |\n",
       "| chr16_76023784_77705911   | 17 |\n",
       "| chr5_149895776_152257891  |  1 |\n",
       "| chr5_81766514_84011262    |  9 |\n",
       "| chr6_122787546_128506682  | 48 |\n",
       "| chr7_6928965_7769511      | 10 |\n",
       "| chr9_116251953_117124386  |  5 |\n",
       "| chr9_87677148_89739207    | 10 |\n",
       "\n"
      ],
      "text/plain": [
       "   region_id                 n \n",
       "1  chr10_123788803_125506866 28\n",
       "2  chr12_115165608_117668628  5\n",
       "3  chr12_3219245_4882038      2\n",
       "4  chr12_61991992_65677087    2\n",
       "5  chr16_76023784_77705911   17\n",
       "6  chr5_149895776_152257891   1\n",
       "7  chr5_81766514_84011262     9\n",
       "8  chr6_122787546_128506682  48\n",
       "9  chr7_6928965_7769511      10\n",
       "10 chr9_116251953_117124386   5\n",
       "11 chr9_87677148_89739207    10"
      ]
     },
     "metadata": {},
     "output_type": "display_data"
    }
   ],
   "source": [
    "Aging2 |> count(region_id)"
   ]
  },
  {
   "cell_type": "code",
   "execution_count": 6,
   "metadata": {
    "vscode": {
     "languageId": "r"
    }
   },
   "outputs": [],
   "source": [
    "Aging3 = top_loci_0.95 |> filter(event_ID == \"image_Aging3\")"
   ]
  },
  {
   "cell_type": "code",
   "execution_count": 65,
   "metadata": {
    "vscode": {
     "languageId": "r"
    }
   },
   "outputs": [],
   "source": [
    "library(CMplot)\n",
    "cmplot_data_Aging3 <- data.frame(\n",
    "  SNP = Aging3$variant_ID,\n",
    "  Chromosome = Aging3$chr,\n",
    "  Position = Aging3$pos,\n",
    "  P_value = Aging3$PIP\n",
    ")"
   ]
  },
  {
   "cell_type": "code",
   "execution_count": 66,
   "metadata": {
    "vscode": {
     "languageId": "r"
    }
   },
   "outputs": [
    {
     "name": "stdout",
     "output_type": "stream",
     "text": [
      " Rectangular Manhattan plotting P_value.\n",
      " Plots are stored in: /mnt/vast/hpc/homes/rl3328/image_QTL/image_finemapping_export_cs_corr_0.3_latest/export \n"
     ]
    }
   ],
   "source": [
    "CMplot(cmplot_data_Aging3,\n",
    "       plot.type = \"m\",           # \"m\" for Manhattan plot\n",
    "       band = 1,                  # Show gray background bands\n",
    "       col = c(\"steelblue\", \"darkred\"), # Alternating colors for chromosomes\n",
    "       threshold = 0.1, # Significance threshold (Bonferroni)\n",
    "       threshold.col = \"red\",     # Color for threshold line\n",
    "       LOG10 = FALSE,\n",
    "       ylab = expression(italic(PIP)),  # Y-axis label\n",
    "       file = \"jpg\",                 # File format\n",
    "       file.name = \"Aging3_pseudo_Manhtn\",  # Custom file name\n",
    "       file.output = TRUE,           # Set to TRUE to output file\n",
    "       verbose = TRUE)            # Print progress information"
   ]
  },
  {
   "cell_type": "code",
   "execution_count": 45,
   "metadata": {
    "vscode": {
     "languageId": "r"
    }
   },
   "outputs": [
    {
     "data": {
      "text/html": [
       "<table class=\"dataframe\">\n",
       "<caption>A data.table: 9 × 2</caption>\n",
       "<thead>\n",
       "\t<tr><th scope=col>region_id</th><th scope=col>n</th></tr>\n",
       "\t<tr><th scope=col>&lt;chr&gt;</th><th scope=col>&lt;int&gt;</th></tr>\n",
       "</thead>\n",
       "<tbody>\n",
       "\t<tr><td>chr12_61991992_65677087  </td><td> 38</td></tr>\n",
       "\t<tr><td>chr13_108056156_109536072</td><td>101</td></tr>\n",
       "\t<tr><td>chr14_58669547_61213190  </td><td> 12</td></tr>\n",
       "\t<tr><td>chr19_12408772_15537337  </td><td>  3</td></tr>\n",
       "\t<tr><td>chr1_214114077_215979204 </td><td>  3</td></tr>\n",
       "\t<tr><td>chr20_40697409_42726168  </td><td>  1</td></tr>\n",
       "\t<tr><td>chr2_3926189_5567778     </td><td>  7</td></tr>\n",
       "\t<tr><td>chr7_118713025_122731183 </td><td> 13</td></tr>\n",
       "\t<tr><td>chr9_84834158_86412165   </td><td> 43</td></tr>\n",
       "</tbody>\n",
       "</table>\n"
      ],
      "text/latex": [
       "A data.table: 9 × 2\n",
       "\\begin{tabular}{ll}\n",
       " region\\_id & n\\\\\n",
       " <chr> & <int>\\\\\n",
       "\\hline\n",
       "\t chr12\\_61991992\\_65677087   &  38\\\\\n",
       "\t chr13\\_108056156\\_109536072 & 101\\\\\n",
       "\t chr14\\_58669547\\_61213190   &  12\\\\\n",
       "\t chr19\\_12408772\\_15537337   &   3\\\\\n",
       "\t chr1\\_214114077\\_215979204  &   3\\\\\n",
       "\t chr20\\_40697409\\_42726168   &   1\\\\\n",
       "\t chr2\\_3926189\\_5567778      &   7\\\\\n",
       "\t chr7\\_118713025\\_122731183  &  13\\\\\n",
       "\t chr9\\_84834158\\_86412165    &  43\\\\\n",
       "\\end{tabular}\n"
      ],
      "text/markdown": [
       "\n",
       "A data.table: 9 × 2\n",
       "\n",
       "| region_id &lt;chr&gt; | n &lt;int&gt; |\n",
       "|---|---|\n",
       "| chr12_61991992_65677087   |  38 |\n",
       "| chr13_108056156_109536072 | 101 |\n",
       "| chr14_58669547_61213190   |  12 |\n",
       "| chr19_12408772_15537337   |   3 |\n",
       "| chr1_214114077_215979204  |   3 |\n",
       "| chr20_40697409_42726168   |   1 |\n",
       "| chr2_3926189_5567778      |   7 |\n",
       "| chr7_118713025_122731183  |  13 |\n",
       "| chr9_84834158_86412165    |  43 |\n",
       "\n"
      ],
      "text/plain": [
       "  region_id                 n  \n",
       "1 chr12_61991992_65677087    38\n",
       "2 chr13_108056156_109536072 101\n",
       "3 chr14_58669547_61213190    12\n",
       "4 chr19_12408772_15537337     3\n",
       "5 chr1_214114077_215979204    3\n",
       "6 chr20_40697409_42726168     1\n",
       "7 chr2_3926189_5567778        7\n",
       "8 chr7_118713025_122731183   13\n",
       "9 chr9_84834158_86412165     43"
      ]
     },
     "metadata": {},
     "output_type": "display_data"
    }
   ],
   "source": [
    "Aging3 |> count(region_id)"
   ]
  },
  {
   "cell_type": "code",
   "execution_count": 7,
   "metadata": {
    "vscode": {
     "languageId": "r"
    }
   },
   "outputs": [],
   "source": [
    "Aging4 = top_loci_0.95 |> filter(event_ID == \"image_Aging4\")"
   ]
  },
  {
   "cell_type": "code",
   "execution_count": 61,
   "metadata": {
    "vscode": {
     "languageId": "r"
    }
   },
   "outputs": [],
   "source": [
    "library(CMplot)\n",
    "cmplot_data_Aging4 <- data.frame(\n",
    "  SNP = Aging4$variant_ID,\n",
    "  Chromosome = Aging4$chr,\n",
    "  Position = Aging4$pos,\n",
    "  P_value = Aging4$PIP\n",
    ")"
   ]
  },
  {
   "cell_type": "code",
   "execution_count": 63,
   "metadata": {
    "vscode": {
     "languageId": "r"
    }
   },
   "outputs": [
    {
     "name": "stdout",
     "output_type": "stream",
     "text": [
      " Rectangular Manhattan plotting P_value.\n",
      " Plots are stored in: /mnt/vast/hpc/homes/rl3328/image_QTL/image_finemapping_export_cs_corr_0.3_latest/export \n"
     ]
    }
   ],
   "source": [
    "CMplot(cmplot_data_Aging4,\n",
    "       plot.type = \"m\",           # \"m\" for Manhattan plot\n",
    "       band = 1,                  # Show gray background bands\n",
    "       col = c(\"steelblue\", \"darkred\"), # Alternating colors for chromosomes\n",
    "       threshold = 0.1, # Significance threshold (Bonferroni)\n",
    "       threshold.col = \"red\",     # Color for threshold line\n",
    "       LOG10 = FALSE,\n",
    "       ylab = expression(italic(PIP)),  # Y-axis label\n",
    "       file = \"jpg\",                 # File format\n",
    "       file.name = \"Aging4_pseudo_Manhtn\",  # Custom file name\n",
    "       file.output = TRUE,           # Set to TRUE to output file\n",
    "       verbose = TRUE)            # Print progress information"
   ]
  },
  {
   "cell_type": "code",
   "execution_count": 47,
   "metadata": {
    "vscode": {
     "languageId": "r"
    }
   },
   "outputs": [
    {
     "data": {
      "text/html": [
       "<table class=\"dataframe\">\n",
       "<caption>A data.table: 12 × 2</caption>\n",
       "<thead>\n",
       "\t<tr><th scope=col>region_id</th><th scope=col>n</th></tr>\n",
       "\t<tr><th scope=col>&lt;chr&gt;</th><th scope=col>&lt;int&gt;</th></tr>\n",
       "</thead>\n",
       "<tbody>\n",
       "\t<tr><td>chr10_109887976_113830418</td><td> 2</td></tr>\n",
       "\t<tr><td>chr11_30037956_32009579  </td><td>65</td></tr>\n",
       "\t<tr><td>chr15_38036498_39914612  </td><td> 6</td></tr>\n",
       "\t<tr><td>chr16_51830934_54306975  </td><td>35</td></tr>\n",
       "\t<tr><td>chr1_214114077_215979204 </td><td> 3</td></tr>\n",
       "\t<tr><td>chr1_233234629_234364329 </td><td> 9</td></tr>\n",
       "\t<tr><td>chr1_63330290_66474395   </td><td>16</td></tr>\n",
       "\t<tr><td>chr3_45108216_47545024   </td><td> 4</td></tr>\n",
       "\t<tr><td>chr6_43914875_45129743   </td><td>12</td></tr>\n",
       "\t<tr><td>chr7_101733715_103940775 </td><td> 7</td></tr>\n",
       "\t<tr><td>chr7_38565649_41703696   </td><td>37</td></tr>\n",
       "\t<tr><td>chr7_41703696_43119648   </td><td>59</td></tr>\n",
       "</tbody>\n",
       "</table>\n"
      ],
      "text/latex": [
       "A data.table: 12 × 2\n",
       "\\begin{tabular}{ll}\n",
       " region\\_id & n\\\\\n",
       " <chr> & <int>\\\\\n",
       "\\hline\n",
       "\t chr10\\_109887976\\_113830418 &  2\\\\\n",
       "\t chr11\\_30037956\\_32009579   & 65\\\\\n",
       "\t chr15\\_38036498\\_39914612   &  6\\\\\n",
       "\t chr16\\_51830934\\_54306975   & 35\\\\\n",
       "\t chr1\\_214114077\\_215979204  &  3\\\\\n",
       "\t chr1\\_233234629\\_234364329  &  9\\\\\n",
       "\t chr1\\_63330290\\_66474395    & 16\\\\\n",
       "\t chr3\\_45108216\\_47545024    &  4\\\\\n",
       "\t chr6\\_43914875\\_45129743    & 12\\\\\n",
       "\t chr7\\_101733715\\_103940775  &  7\\\\\n",
       "\t chr7\\_38565649\\_41703696    & 37\\\\\n",
       "\t chr7\\_41703696\\_43119648    & 59\\\\\n",
       "\\end{tabular}\n"
      ],
      "text/markdown": [
       "\n",
       "A data.table: 12 × 2\n",
       "\n",
       "| region_id &lt;chr&gt; | n &lt;int&gt; |\n",
       "|---|---|\n",
       "| chr10_109887976_113830418 |  2 |\n",
       "| chr11_30037956_32009579   | 65 |\n",
       "| chr15_38036498_39914612   |  6 |\n",
       "| chr16_51830934_54306975   | 35 |\n",
       "| chr1_214114077_215979204  |  3 |\n",
       "| chr1_233234629_234364329  |  9 |\n",
       "| chr1_63330290_66474395    | 16 |\n",
       "| chr3_45108216_47545024    |  4 |\n",
       "| chr6_43914875_45129743    | 12 |\n",
       "| chr7_101733715_103940775  |  7 |\n",
       "| chr7_38565649_41703696    | 37 |\n",
       "| chr7_41703696_43119648    | 59 |\n",
       "\n"
      ],
      "text/plain": [
       "   region_id                 n \n",
       "1  chr10_109887976_113830418  2\n",
       "2  chr11_30037956_32009579   65\n",
       "3  chr15_38036498_39914612    6\n",
       "4  chr16_51830934_54306975   35\n",
       "5  chr1_214114077_215979204   3\n",
       "6  chr1_233234629_234364329   9\n",
       "7  chr1_63330290_66474395    16\n",
       "8  chr3_45108216_47545024     4\n",
       "9  chr6_43914875_45129743    12\n",
       "10 chr7_101733715_103940775   7\n",
       "11 chr7_38565649_41703696    37\n",
       "12 chr7_41703696_43119648    59"
      ]
     },
     "metadata": {},
     "output_type": "display_data"
    }
   ],
   "source": [
    "Aging4 |> count(region_id)"
   ]
  },
  {
   "cell_type": "code",
   "execution_count": 8,
   "metadata": {
    "vscode": {
     "languageId": "r"
    }
   },
   "outputs": [],
   "source": [
    "Aging5 = top_loci_0.95 |> filter(event_ID == \"image_Aging5\")"
   ]
  },
  {
   "cell_type": "code",
   "execution_count": 58,
   "metadata": {
    "vscode": {
     "languageId": "r"
    }
   },
   "outputs": [],
   "source": [
    "library(CMplot)\n",
    "cmplot_data_Aging5 <- data.frame(\n",
    "  SNP = Aging5$variant_ID,\n",
    "  Chromosome = Aging5$chr,\n",
    "  Position = Aging5$pos,\n",
    "  P_value = Aging5$PIP\n",
    ")"
   ]
  },
  {
   "cell_type": "code",
   "execution_count": 59,
   "metadata": {
    "vscode": {
     "languageId": "r"
    }
   },
   "outputs": [
    {
     "name": "stdout",
     "output_type": "stream",
     "text": [
      " Rectangular Manhattan plotting P_value.\n",
      " Plots are stored in: /mnt/vast/hpc/homes/rl3328/image_QTL/image_finemapping_export_cs_corr_0.3_latest/export \n"
     ]
    }
   ],
   "source": [
    "CMplot(cmplot_data_Aging5,\n",
    "       plot.type = \"m\",           # \"m\" for Manhattan plot\n",
    "       band = 1,                  # Show gray background bands\n",
    "       col = c(\"steelblue\", \"darkred\"), # Alternating colors for chromosomes\n",
    "       threshold = 0.1, # Significance threshold (Bonferroni)\n",
    "       threshold.col = \"red\",     # Color for threshold line\n",
    "       LOG10 = FALSE,\n",
    "       ylab = expression(italic(PIP)),  # Y-axis label\n",
    "       file = \"jpg\",                 # File format\n",
    "       file.name = \"Aging5_pseudo_Manhtn\",  # Custom file name\n",
    "       file.output = TRUE,           # Set to TRUE to output file\n",
    "       verbose = TRUE)            # Print progress information"
   ]
  },
  {
   "cell_type": "code",
   "execution_count": 49,
   "metadata": {
    "vscode": {
     "languageId": "r"
    }
   },
   "outputs": [
    {
     "data": {
      "text/html": [
       "<table class=\"dataframe\">\n",
       "<caption>A data.table: 17 × 2</caption>\n",
       "<thead>\n",
       "\t<tr><th scope=col>region_id</th><th scope=col>n</th></tr>\n",
       "\t<tr><th scope=col>&lt;chr&gt;</th><th scope=col>&lt;int&gt;</th></tr>\n",
       "</thead>\n",
       "<tbody>\n",
       "\t<tr><td>chr11_110348807_112120989</td><td> 17</td></tr>\n",
       "\t<tr><td>chr12_105830574_109677898</td><td>  1</td></tr>\n",
       "\t<tr><td>chr12_132283870_133264718</td><td>  3</td></tr>\n",
       "\t<tr><td>chr15_38036498_39914612  </td><td>  5</td></tr>\n",
       "\t<tr><td>chr16_86782214_88382277  </td><td> 33</td></tr>\n",
       "\t<tr><td>chr17_76862119_79415165  </td><td> 58</td></tr>\n",
       "\t<tr><td>chr1_44020567_47757518   </td><td>  1</td></tr>\n",
       "\t<tr><td>chr20_40697409_42726168  </td><td> 53</td></tr>\n",
       "\t<tr><td>chr2_201677542_203951659 </td><td>212</td></tr>\n",
       "\t<tr><td>chr3_194286613_196135651 </td><td> 11</td></tr>\n",
       "\t<tr><td>chr3_52179438_54975538   </td><td> 25</td></tr>\n",
       "\t<tr><td>chr3_88209300_94537986   </td><td>122</td></tr>\n",
       "\t<tr><td>chr4_53515952_55420021   </td><td> 63</td></tr>\n",
       "\t<tr><td>chr6_95271417_96990379   </td><td>145</td></tr>\n",
       "\t<tr><td>chr7_134051635_135906335 </td><td>  8</td></tr>\n",
       "\t<tr><td>chr7_2640020_3986377     </td><td> 71</td></tr>\n",
       "\t<tr><td>chr8_122656841_124810390 </td><td> 14</td></tr>\n",
       "</tbody>\n",
       "</table>\n"
      ],
      "text/latex": [
       "A data.table: 17 × 2\n",
       "\\begin{tabular}{ll}\n",
       " region\\_id & n\\\\\n",
       " <chr> & <int>\\\\\n",
       "\\hline\n",
       "\t chr11\\_110348807\\_112120989 &  17\\\\\n",
       "\t chr12\\_105830574\\_109677898 &   1\\\\\n",
       "\t chr12\\_132283870\\_133264718 &   3\\\\\n",
       "\t chr15\\_38036498\\_39914612   &   5\\\\\n",
       "\t chr16\\_86782214\\_88382277   &  33\\\\\n",
       "\t chr17\\_76862119\\_79415165   &  58\\\\\n",
       "\t chr1\\_44020567\\_47757518    &   1\\\\\n",
       "\t chr20\\_40697409\\_42726168   &  53\\\\\n",
       "\t chr2\\_201677542\\_203951659  & 212\\\\\n",
       "\t chr3\\_194286613\\_196135651  &  11\\\\\n",
       "\t chr3\\_52179438\\_54975538    &  25\\\\\n",
       "\t chr3\\_88209300\\_94537986    & 122\\\\\n",
       "\t chr4\\_53515952\\_55420021    &  63\\\\\n",
       "\t chr6\\_95271417\\_96990379    & 145\\\\\n",
       "\t chr7\\_134051635\\_135906335  &   8\\\\\n",
       "\t chr7\\_2640020\\_3986377      &  71\\\\\n",
       "\t chr8\\_122656841\\_124810390  &  14\\\\\n",
       "\\end{tabular}\n"
      ],
      "text/markdown": [
       "\n",
       "A data.table: 17 × 2\n",
       "\n",
       "| region_id &lt;chr&gt; | n &lt;int&gt; |\n",
       "|---|---|\n",
       "| chr11_110348807_112120989 |  17 |\n",
       "| chr12_105830574_109677898 |   1 |\n",
       "| chr12_132283870_133264718 |   3 |\n",
       "| chr15_38036498_39914612   |   5 |\n",
       "| chr16_86782214_88382277   |  33 |\n",
       "| chr17_76862119_79415165   |  58 |\n",
       "| chr1_44020567_47757518    |   1 |\n",
       "| chr20_40697409_42726168   |  53 |\n",
       "| chr2_201677542_203951659  | 212 |\n",
       "| chr3_194286613_196135651  |  11 |\n",
       "| chr3_52179438_54975538    |  25 |\n",
       "| chr3_88209300_94537986    | 122 |\n",
       "| chr4_53515952_55420021    |  63 |\n",
       "| chr6_95271417_96990379    | 145 |\n",
       "| chr7_134051635_135906335  |   8 |\n",
       "| chr7_2640020_3986377      |  71 |\n",
       "| chr8_122656841_124810390  |  14 |\n",
       "\n"
      ],
      "text/plain": [
       "   region_id                 n  \n",
       "1  chr11_110348807_112120989  17\n",
       "2  chr12_105830574_109677898   1\n",
       "3  chr12_132283870_133264718   3\n",
       "4  chr15_38036498_39914612     5\n",
       "5  chr16_86782214_88382277    33\n",
       "6  chr17_76862119_79415165    58\n",
       "7  chr1_44020567_47757518      1\n",
       "8  chr20_40697409_42726168    53\n",
       "9  chr2_201677542_203951659  212\n",
       "10 chr3_194286613_196135651   11\n",
       "11 chr3_52179438_54975538     25\n",
       "12 chr3_88209300_94537986    122\n",
       "13 chr4_53515952_55420021     63\n",
       "14 chr6_95271417_96990379    145\n",
       "15 chr7_134051635_135906335    8\n",
       "16 chr7_2640020_3986377       71\n",
       "17 chr8_122656841_124810390   14"
      ]
     },
     "metadata": {},
     "output_type": "display_data"
    }
   ],
   "source": [
    "Aging5 |> count(region_id)"
   ]
  },
  {
   "cell_type": "code",
   "execution_count": 9,
   "metadata": {
    "vscode": {
     "languageId": "r"
    }
   },
   "outputs": [],
   "source": [
    "AD1 = top_loci_0.95 |> filter(event_ID == \"image_AD1\")"
   ]
  },
  {
   "cell_type": "code",
   "execution_count": 27,
   "metadata": {
    "vscode": {
     "languageId": "r"
    }
   },
   "outputs": [],
   "source": [
    "library(CMplot)\n",
    "cmplot_data_AD1 <- data.frame(\n",
    "  SNP = AD1$variant_ID,\n",
    "  Chromosome = AD1$chr,\n",
    "  Position = AD1$pos,\n",
    "  P_value = AD1$PIP\n",
    ")"
   ]
  },
  {
   "cell_type": "code",
   "execution_count": 53,
   "metadata": {
    "vscode": {
     "languageId": "r"
    }
   },
   "outputs": [
    {
     "name": "stdout",
     "output_type": "stream",
     "text": [
      " Rectangular Manhattan plotting P_value.\n",
      " Plots are stored in: /mnt/vast/hpc/homes/rl3328/image_QTL/image_finemapping_export_cs_corr_0.3_latest/export \n"
     ]
    }
   ],
   "source": [
    "CMplot(cmplot_data_AD1,\n",
    "       plot.type = \"m\",           # \"m\" for Manhattan plot\n",
    "       band = 1,                  # Show gray background bands\n",
    "       col = c(\"steelblue\", \"darkred\"), # Alternating colors for chromosomes\n",
    "       threshold = 0.1, # Significance threshold (Bonferroni)\n",
    "       threshold.col = \"red\",     # Color for threshold line\n",
    "       LOG10 = FALSE,\n",
    "       ylab = expression(italic(PIP)),  # Y-axis label\n",
    "       file = \"jpg\",                 # File format\n",
    "       file.name = \"AD1_pseudo_Manhtn\",  # Custom file name\n",
    "       file.output = TRUE,           # Set to TRUE to output file\n",
    "       verbose = TRUE)            # Print progress information"
   ]
  },
  {
   "cell_type": "code",
   "execution_count": 7,
   "metadata": {
    "vscode": {
     "languageId": "r"
    }
   },
   "outputs": [
    {
     "data": {
      "text/html": [
       "<table class=\"dataframe\">\n",
       "<caption>A data.table: 9 × 2</caption>\n",
       "<thead>\n",
       "\t<tr><th scope=col>region_id</th><th scope=col>n</th></tr>\n",
       "\t<tr><th scope=col>&lt;chr&gt;</th><th scope=col>&lt;int&gt;</th></tr>\n",
       "</thead>\n",
       "<tbody>\n",
       "\t<tr><td>chr10_130017190_130891275</td><td> 4</td></tr>\n",
       "\t<tr><td>chr11_30037956_32009579  </td><td> 7</td></tr>\n",
       "\t<tr><td>chr14_56126490_58669547  </td><td>51</td></tr>\n",
       "\t<tr><td>chr14_58669547_61213190  </td><td>10</td></tr>\n",
       "\t<tr><td>chr17_69532703_70743921  </td><td>44</td></tr>\n",
       "\t<tr><td>chr19_12408772_15537337  </td><td> 4</td></tr>\n",
       "\t<tr><td>chr1_50179506_54277735   </td><td>40</td></tr>\n",
       "\t<tr><td>chr8_41148214_42617647   </td><td>13</td></tr>\n",
       "\t<tr><td>chr9_116251953_117124386 </td><td>10</td></tr>\n",
       "</tbody>\n",
       "</table>\n"
      ],
      "text/latex": [
       "A data.table: 9 × 2\n",
       "\\begin{tabular}{ll}\n",
       " region\\_id & n\\\\\n",
       " <chr> & <int>\\\\\n",
       "\\hline\n",
       "\t chr10\\_130017190\\_130891275 &  4\\\\\n",
       "\t chr11\\_30037956\\_32009579   &  7\\\\\n",
       "\t chr14\\_56126490\\_58669547   & 51\\\\\n",
       "\t chr14\\_58669547\\_61213190   & 10\\\\\n",
       "\t chr17\\_69532703\\_70743921   & 44\\\\\n",
       "\t chr19\\_12408772\\_15537337   &  4\\\\\n",
       "\t chr1\\_50179506\\_54277735    & 40\\\\\n",
       "\t chr8\\_41148214\\_42617647    & 13\\\\\n",
       "\t chr9\\_116251953\\_117124386  & 10\\\\\n",
       "\\end{tabular}\n"
      ],
      "text/markdown": [
       "\n",
       "A data.table: 9 × 2\n",
       "\n",
       "| region_id &lt;chr&gt; | n &lt;int&gt; |\n",
       "|---|---|\n",
       "| chr10_130017190_130891275 |  4 |\n",
       "| chr11_30037956_32009579   |  7 |\n",
       "| chr14_56126490_58669547   | 51 |\n",
       "| chr14_58669547_61213190   | 10 |\n",
       "| chr17_69532703_70743921   | 44 |\n",
       "| chr19_12408772_15537337   |  4 |\n",
       "| chr1_50179506_54277735    | 40 |\n",
       "| chr8_41148214_42617647    | 13 |\n",
       "| chr9_116251953_117124386  | 10 |\n",
       "\n"
      ],
      "text/plain": [
       "  region_id                 n \n",
       "1 chr10_130017190_130891275  4\n",
       "2 chr11_30037956_32009579    7\n",
       "3 chr14_56126490_58669547   51\n",
       "4 chr14_58669547_61213190   10\n",
       "5 chr17_69532703_70743921   44\n",
       "6 chr19_12408772_15537337    4\n",
       "7 chr1_50179506_54277735    40\n",
       "8 chr8_41148214_42617647    13\n",
       "9 chr9_116251953_117124386  10"
      ]
     },
     "metadata": {},
     "output_type": "display_data"
    }
   ],
   "source": [
    "AD1 |> count(region_id)"
   ]
  },
  {
   "cell_type": "code",
   "execution_count": 10,
   "metadata": {
    "vscode": {
     "languageId": "r"
    }
   },
   "outputs": [],
   "source": [
    "AD2 = top_loci_0.95 |> filter(event_ID == \"image_AD2\")"
   ]
  },
  {
   "cell_type": "code",
   "execution_count": 20,
   "metadata": {
    "vscode": {
     "languageId": "r"
    }
   },
   "outputs": [],
   "source": [
    "library(CMplot)\n",
    "cmplot_data_AD2 <- data.frame(\n",
    "  SNP = AD2$variant_ID,\n",
    "  Chromosome = AD2$chr,\n",
    "  Position = AD2$pos,\n",
    "  P_value = AD2$PIP\n",
    ")"
   ]
  },
  {
   "cell_type": "code",
   "execution_count": 25,
   "metadata": {
    "vscode": {
     "languageId": "r"
    }
   },
   "outputs": [
    {
     "data": {
      "text/html": [
       "<table class=\"dataframe\">\n",
       "<caption>A data.frame: 6 × 4</caption>\n",
       "<thead>\n",
       "\t<tr><th></th><th scope=col>SNP</th><th scope=col>Chromosome</th><th scope=col>Position</th><th scope=col>P_value</th></tr>\n",
       "\t<tr><th></th><th scope=col>&lt;chr&gt;</th><th scope=col>&lt;dbl&gt;</th><th scope=col>&lt;int&gt;</th><th scope=col>&lt;dbl&gt;</th></tr>\n",
       "</thead>\n",
       "<tbody>\n",
       "\t<tr><th scope=row>163</th><td>4:21891694:G:A </td><td>4</td><td> 21891694</td><td>0.96126646</td></tr>\n",
       "\t<tr><th scope=row>164</th><td>6:126327314:G:A</td><td>6</td><td>126327314</td><td>0.03732241</td></tr>\n",
       "\t<tr><th scope=row>165</th><td>6:126345502:C:T</td><td>6</td><td>126345502</td><td>0.12325009</td></tr>\n",
       "\t<tr><th scope=row>166</th><td>6:126679736:A:G</td><td>6</td><td>126679736</td><td>0.04707533</td></tr>\n",
       "\t<tr><th scope=row>167</th><td>6:126757036:T:C</td><td>6</td><td>126757036</td><td>0.04869906</td></tr>\n",
       "\t<tr><th scope=row>168</th><td>6:126855185:C:T</td><td>6</td><td>126855185</td><td>0.13530019</td></tr>\n",
       "</tbody>\n",
       "</table>\n"
      ],
      "text/latex": [
       "A data.frame: 6 × 4\n",
       "\\begin{tabular}{r|llll}\n",
       "  & SNP & Chromosome & Position & P\\_value\\\\\n",
       "  & <chr> & <dbl> & <int> & <dbl>\\\\\n",
       "\\hline\n",
       "\t163 & 4:21891694:G:A  & 4 &  21891694 & 0.96126646\\\\\n",
       "\t164 & 6:126327314:G:A & 6 & 126327314 & 0.03732241\\\\\n",
       "\t165 & 6:126345502:C:T & 6 & 126345502 & 0.12325009\\\\\n",
       "\t166 & 6:126679736:A:G & 6 & 126679736 & 0.04707533\\\\\n",
       "\t167 & 6:126757036:T:C & 6 & 126757036 & 0.04869906\\\\\n",
       "\t168 & 6:126855185:C:T & 6 & 126855185 & 0.13530019\\\\\n",
       "\\end{tabular}\n"
      ],
      "text/markdown": [
       "\n",
       "A data.frame: 6 × 4\n",
       "\n",
       "| <!--/--> | SNP &lt;chr&gt; | Chromosome &lt;dbl&gt; | Position &lt;int&gt; | P_value &lt;dbl&gt; |\n",
       "|---|---|---|---|---|\n",
       "| 163 | 4:21891694:G:A  | 4 |  21891694 | 0.96126646 |\n",
       "| 164 | 6:126327314:G:A | 6 | 126327314 | 0.03732241 |\n",
       "| 165 | 6:126345502:C:T | 6 | 126345502 | 0.12325009 |\n",
       "| 166 | 6:126679736:A:G | 6 | 126679736 | 0.04707533 |\n",
       "| 167 | 6:126757036:T:C | 6 | 126757036 | 0.04869906 |\n",
       "| 168 | 6:126855185:C:T | 6 | 126855185 | 0.13530019 |\n",
       "\n"
      ],
      "text/plain": [
       "    SNP             Chromosome Position  P_value   \n",
       "163 4:21891694:G:A  4           21891694 0.96126646\n",
       "164 6:126327314:G:A 6          126327314 0.03732241\n",
       "165 6:126345502:C:T 6          126345502 0.12325009\n",
       "166 6:126679736:A:G 6          126679736 0.04707533\n",
       "167 6:126757036:T:C 6          126757036 0.04869906\n",
       "168 6:126855185:C:T 6          126855185 0.13530019"
      ]
     },
     "metadata": {},
     "output_type": "display_data"
    }
   ],
   "source": [
    "# Ensure chromosomes are numeric (they're already <dbl> but to be safe)\n",
    "cmplot_data_AD2$Chromosome <- as.numeric(cmplot_data_AD2$Chromosome)\n",
    "\n",
    "# Sort your data by chromosome, then by position numerically\n",
    "cmplot_data_AD2 <- cmplot_data_AD2[order(cmplot_data_AD2$Chromosome, cmplot_data_AD2$Position),]\n",
    "\n",
    "# Now the positions should be in correct numerical order within chromosome 12\n",
    "head(cmplot_data_AD2)"
   ]
  },
  {
   "cell_type": "code",
   "execution_count": 23,
   "metadata": {
    "vscode": {
     "languageId": "r"
    }
   },
   "outputs": [
    {
     "name": "stdout",
     "output_type": "stream",
     "text": [
      " Rectangular Manhattan plotting P_value.\n",
      " Plots are stored in: /mnt/vast/hpc/homes/rl3328/image_QTL/image_finemapping_export_cs_corr_0.3_latest/export \n"
     ]
    }
   ],
   "source": [
    "CMplot(cmplot_data_AD2,\n",
    "       plot.type = \"m\",           # \"m\" for Manhattan plot\n",
    "       band = 1,                  # Show gray background bands\n",
    "       col = c(\"steelblue\", \"darkred\"), # Alternating colors for chromosomes\n",
    "       threshold = 0.1, # Significance threshold (Bonferroni)\n",
    "       threshold.col = \"red\",     # Color for threshold line\n",
    "       LOG10 = FALSE,\n",
    "       ylab = expression(italic(PIP)),  # Y-axis label\n",
    "       file = \"jpg\",                 # File format\n",
    "       file.name = \"AD2_pseudo_Manhtn\",  # Custom file name\n",
    "       file.output = TRUE,           # Set to TRUE to output file\n",
    "       verbose = TRUE)            # Print progress information"
   ]
  },
  {
   "cell_type": "code",
   "execution_count": 9,
   "metadata": {
    "vscode": {
     "languageId": "r"
    }
   },
   "outputs": [
    {
     "data": {
      "text/html": [
       "<table class=\"dataframe\">\n",
       "<caption>A data.table: 12 × 2</caption>\n",
       "<thead>\n",
       "\t<tr><th scope=col>region_id</th><th scope=col>n</th></tr>\n",
       "\t<tr><th scope=col>&lt;chr&gt;</th><th scope=col>&lt;int&gt;</th></tr>\n",
       "</thead>\n",
       "<tbody>\n",
       "\t<tr><td>chr11_46916060_49936088  </td><td> 10</td></tr>\n",
       "\t<tr><td>chr12_115165608_117668628</td><td>  4</td></tr>\n",
       "\t<tr><td>chr12_30570684_32921536  </td><td>  1</td></tr>\n",
       "\t<tr><td>chr12_3219245_4882038    </td><td>  1</td></tr>\n",
       "\t<tr><td>chr12_61991992_65677087  </td><td>  1</td></tr>\n",
       "\t<tr><td>chr13_35472583_36923754  </td><td>128</td></tr>\n",
       "\t<tr><td>chr15_97384023_99087254  </td><td>  4</td></tr>\n",
       "\t<tr><td>chr20_32060775_36429279  </td><td> 13</td></tr>\n",
       "\t<tr><td>chr4_20819487_22317731   </td><td>  1</td></tr>\n",
       "\t<tr><td>chr6_122787546_128506682 </td><td>  7</td></tr>\n",
       "\t<tr><td>chr9_116251953_117124386 </td><td> 14</td></tr>\n",
       "\t<tr><td>chr9_87677148_89739207   </td><td>  6</td></tr>\n",
       "</tbody>\n",
       "</table>\n"
      ],
      "text/latex": [
       "A data.table: 12 × 2\n",
       "\\begin{tabular}{ll}\n",
       " region\\_id & n\\\\\n",
       " <chr> & <int>\\\\\n",
       "\\hline\n",
       "\t chr11\\_46916060\\_49936088   &  10\\\\\n",
       "\t chr12\\_115165608\\_117668628 &   4\\\\\n",
       "\t chr12\\_30570684\\_32921536   &   1\\\\\n",
       "\t chr12\\_3219245\\_4882038     &   1\\\\\n",
       "\t chr12\\_61991992\\_65677087   &   1\\\\\n",
       "\t chr13\\_35472583\\_36923754   & 128\\\\\n",
       "\t chr15\\_97384023\\_99087254   &   4\\\\\n",
       "\t chr20\\_32060775\\_36429279   &  13\\\\\n",
       "\t chr4\\_20819487\\_22317731    &   1\\\\\n",
       "\t chr6\\_122787546\\_128506682  &   7\\\\\n",
       "\t chr9\\_116251953\\_117124386  &  14\\\\\n",
       "\t chr9\\_87677148\\_89739207    &   6\\\\\n",
       "\\end{tabular}\n"
      ],
      "text/markdown": [
       "\n",
       "A data.table: 12 × 2\n",
       "\n",
       "| region_id &lt;chr&gt; | n &lt;int&gt; |\n",
       "|---|---|\n",
       "| chr11_46916060_49936088   |  10 |\n",
       "| chr12_115165608_117668628 |   4 |\n",
       "| chr12_30570684_32921536   |   1 |\n",
       "| chr12_3219245_4882038     |   1 |\n",
       "| chr12_61991992_65677087   |   1 |\n",
       "| chr13_35472583_36923754   | 128 |\n",
       "| chr15_97384023_99087254   |   4 |\n",
       "| chr20_32060775_36429279   |  13 |\n",
       "| chr4_20819487_22317731    |   1 |\n",
       "| chr6_122787546_128506682  |   7 |\n",
       "| chr9_116251953_117124386  |  14 |\n",
       "| chr9_87677148_89739207    |   6 |\n",
       "\n"
      ],
      "text/plain": [
       "   region_id                 n  \n",
       "1  chr11_46916060_49936088    10\n",
       "2  chr12_115165608_117668628   4\n",
       "3  chr12_30570684_32921536     1\n",
       "4  chr12_3219245_4882038       1\n",
       "5  chr12_61991992_65677087     1\n",
       "6  chr13_35472583_36923754   128\n",
       "7  chr15_97384023_99087254     4\n",
       "8  chr20_32060775_36429279    13\n",
       "9  chr4_20819487_22317731      1\n",
       "10 chr6_122787546_128506682    7\n",
       "11 chr9_116251953_117124386   14\n",
       "12 chr9_87677148_89739207      6"
      ]
     },
     "metadata": {},
     "output_type": "display_data"
    }
   ],
   "source": [
    "AD2 |> count(region_id)"
   ]
  },
  {
   "cell_type": "markdown",
   "metadata": {},
   "source": [
    "## PIP plot for the study_block with 2 CS"
   ]
  },
  {
   "cell_type": "code",
   "execution_count": 37,
   "metadata": {
    "vscode": {
     "languageId": "r"
    }
   },
   "outputs": [
    {
     "name": "stdout",
     "output_type": "stream",
     "text": [
      "List of 9\n",
      " $ pip           : num [1:6423] 0.000353 0.000331 0.000333 0.000355 0.000462 ...\n",
      " $ sets          :List of 5\n",
      "  ..$ cs                :List of 2\n",
      "  .. ..$ L2: int 4914\n",
      "  .. ..$ L1: int [1:13] 5038 5063 5079 5093 5096 5103 5109 5110 5111 5112 ...\n",
      "  ..$ purity            :'data.frame':\t2 obs. of  3 variables:\n",
      "  .. ..$ min.abs.corr   : num [1:2] 1 0.856\n",
      "  .. ..$ mean.abs.corr  : num [1:2] 1 0.961\n",
      "  .. ..$ median.abs.corr: num [1:2] 1 0.965\n",
      "  ..$ cs_index          : int [1:2] 2 1\n",
      "  ..$ coverage          : num [1:2] 0.999 0.967\n",
      "  ..$ requested_coverage: num 0.95\n",
      " $ cs_corr       : num [1:2, 1:2] 1 -0.0307 -0.0307 1\n",
      "  ..- attr(*, \"dimnames\")=List of 2\n",
      "  .. ..$ : chr [1:2] \"L2\" \"L1\"\n",
      "  .. ..$ : chr [1:2] \"L2\" \"L1\"\n",
      " $ sets_secondary:List of 2\n",
      "  ..$ coverage_0.7:List of 2\n",
      "  .. ..$ sets   :List of 5\n",
      "  .. .. ..$ cs                :List of 2\n",
      "  .. .. .. ..$ L2: int 4914\n",
      "  .. .. .. ..$ L1: int [1:8] 5063 5079 5096 5103 5109 5110 5111 5113\n",
      "  .. .. ..$ purity            :'data.frame':\t2 obs. of  3 variables:\n",
      "  .. .. .. ..$ min.abs.corr   : num [1:2] 1 0.902\n",
      "  .. .. .. ..$ mean.abs.corr  : num [1:2] 1 0.966\n",
      "  .. .. .. ..$ median.abs.corr: num [1:2] 1 0.989\n",
      "  .. .. ..$ cs_index          : int [1:2] 2 1\n",
      "  .. .. ..$ coverage          : num [1:2] 0.999 0.759\n",
      "  .. .. ..$ requested_coverage: num 0.7\n",
      "  .. ..$ cs_corr: num [1:2, 1:2] 1 -0.0307 -0.0307 1\n",
      "  .. .. ..- attr(*, \"dimnames\")=List of 2\n",
      "  .. .. .. ..$ : chr [1:2] \"L2\" \"L1\"\n",
      "  .. .. .. ..$ : chr [1:2] \"L2\" \"L1\"\n",
      "  ..$ coverage_0.5:List of 2\n",
      "  .. ..$ sets   :List of 5\n",
      "  .. .. ..$ cs                :List of 2\n",
      "  .. .. .. ..$ L2: int 4914\n",
      "  .. .. .. ..$ L1: int [1:5] 5063 5096 5109 5110 5111\n",
      "  .. .. ..$ purity            :'data.frame':\t2 obs. of  3 variables:\n",
      "  .. .. .. ..$ min.abs.corr   : num [1:2] 1 0.902\n",
      "  .. .. .. ..$ mean.abs.corr  : num [1:2] 1 0.952\n",
      "  .. .. .. ..$ median.abs.corr: num [1:2] 1 0.96\n",
      "  .. .. ..$ cs_index          : int [1:2] 2 1\n",
      "  .. .. ..$ coverage          : num [1:2] 0.999 0.556\n",
      "  .. .. ..$ requested_coverage: num 0.5\n",
      "  .. ..$ cs_corr: num [1:2, 1:2] 1 -0.0307 -0.0307 1\n",
      "  .. .. ..- attr(*, \"dimnames\")=List of 2\n",
      "  .. .. .. ..$ : chr [1:2] \"L2\" \"L1\"\n",
      "  .. .. .. ..$ : chr [1:2] \"L2\" \"L1\"\n",
      " $ alpha         : num [1:5, 1:6423] 1.00e-25 4.95e-08 6.30e-05 1.45e-04 1.45e-04 ...\n",
      "  ..- attr(*, \"dimnames\")=List of 2\n",
      "  .. ..$ : NULL\n",
      "  .. ..$ : chr [1:6423] \"14:53697988:C:T\" \"14:53698623:C:T\" \"14:53698787:A:G\" \"14:53700397:AC:A\" ...\n",
      " $ lbf_variable  : num [1:5, 1:6423] -2.1331 -1.5463 -0.7778 -0.0723 -0.068 ...\n",
      "  ..- attr(*, \"dimnames\")=List of 2\n",
      "  .. ..$ : NULL\n",
      "  .. ..$ : chr [1:6423] \"14:53697988:C:T\" \"14:53698623:C:T\" \"14:53698787:A:G\" \"14:53700397:AC:A\" ...\n",
      " $ V             : num [1:5] 3.37e-03 1.04e-03 1.76e-04 7.79e-06 7.31e-06\n",
      " $ niter         : int 3\n",
      " $ max_L         : int 5\n",
      " - attr(*, \"class\")= chr \"susie\"\n"
     ]
    }
   ],
   "source": [
    "two_cs = readRDS(\"/home/rl3328/image_QTL/output/univariate_rss/Automated_QC.chr14_53697988_56126490.univariate.rds\")\n",
    "str(two_cs[[1]][[\"image_Aging1\"]]$susie_rss_RSS_QC_RAISS_imputed$susie_result_trimmed)"
   ]
  },
  {
   "cell_type": "code",
   "execution_count": 39,
   "metadata": {
    "vscode": {
     "languageId": "r"
    }
   },
   "outputs": [
    {
     "data": {
      "image/png": "[encoded data removed]",
      "text/plain": [
       "plot without title"
      ]
     },
     "metadata": {
      "image/png": {
       "height": 420,
       "width": 420
      }
     },
     "output_type": "display_data"
    }
   ],
   "source": [
    "library(susieR)\n",
    "res = two_cs[[1]][[\"image_Aging1\"]]$susie_rss_RSS_QC_RAISS_imputed$susie_result_trimmed\n",
    "susie_plot(res, \"PIP\")"
   ]
  },
  {
   "cell_type": "markdown",
   "metadata": {},
   "source": [
    "## Shared loci across traits\n",
    "Since most study blocks use the SER model for fine-mapping, I can identify overlapping variants to detect shared significant SNPs and shared study_blocks, although this might be conservative...\n",
    "1. Variant level\n",
    "2. Block level\n"
   ]
  },
  {
   "cell_type": "markdown",
   "metadata": {},
   "source": [
    "### 1. Variant level"
   ]
  },
  {
   "cell_type": "code",
   "execution_count": 11,
   "metadata": {
    "vscode": {
     "languageId": "r"
    }
   },
   "outputs": [],
   "source": [
    "AD1_variant = AD1 |> pull(variant_ID)\n",
    "AD2_variant = AD2 |> pull(variant_ID)\n",
    "Aging1_variant = Aging1 |> pull(variant_ID)\n",
    "Aging2_variant = Aging2 |> pull(variant_ID)\n",
    "Aging3_variant = Aging3 |> pull(variant_ID)\n",
    "Aging4_variant = Aging4 |> pull(variant_ID)\n",
    "Aging5_variant = Aging5 |> pull(variant_ID)\n",
    "\n",
    "\n"
   ]
  },
  {
   "cell_type": "code",
   "execution_count": 12,
   "metadata": {
    "vscode": {
     "languageId": "r"
    }
   },
   "outputs": [
    {
     "name": "stderr",
     "output_type": "stream",
     "text": [
      "\n",
      "Attaching package: ‘ggVennDiagram’\n",
      "\n",
      "\n",
      "The following object is masked from ‘package:tidyr’:\n",
      "\n",
      "    unite\n",
      "\n",
      "\n"
     ]
    },
    {
     "name": "stdout",
     "output_type": "stream",
     "text": [
      "AD1 and AD2 overlap statistics:\n",
      "Number of variants unique to AD1: 173 \n",
      "Number of variants unique to AD2: 180 \n",
      "Number of variants shared between AD1 and AD2: 10 \n",
      "Total variants in AD1: 183 \n",
      "Total variants in AD2: 190 \n"
     ]
    },
    {
     "data": {
      "image/png": "[encoded data removed]",
      "text/plain": [
       "plot without title"
      ]
     },
     "metadata": {
      "image/png": {
       "height": 420,
       "width": 420
      }
     },
     "output_type": "display_data"
    },
    {
     "data": {
      "image/png": "[encoded data removed]",
      "text/plain": [
       "plot without title"
      ]
     },
     "metadata": {
      "image/png": {
       "height": 420,
       "width": 420
      }
     },
     "output_type": "display_data"
    }
   ],
   "source": [
    "# Load required libraries\n",
    "library(ggVennDiagram)  # For creating Venn diagrams\n",
    "library(ggplot2)        # For additional plotting capabilities\n",
    "\n",
    "# Assuming AD1_variant, AD2_variant, Aging1_variant, etc. are already defined vectors\n",
    "# If these are not already defined, you would need to extract them from your data frames\n",
    "# For example: AD1_variant <- AD1$variant_ID\n",
    "\n",
    "# 1. Venn diagram for AD1 and AD2\n",
    "ad_list <- list(AD1 = AD1_variant, \n",
    "                AD2 = AD2_variant)\n",
    "\n",
    "ad_venn <- ggVennDiagram(ad_list) +\n",
    "  ggtitle(\"Overlap of Variants between AD1 and AD2\") +\n",
    "  theme(plot.title = element_text(hjust = 0.5, face = \"bold\"))\n",
    "\n",
    "print(ad_venn)\n",
    "\n",
    "# Calculate and print the overlap statistics for AD1 and AD2\n",
    "ad_overlap <- length(intersect(AD1_variant, AD2_variant))\n",
    "ad1_unique <- length(setdiff(AD1_variant, AD2_variant))\n",
    "ad2_unique <- length(setdiff(AD2_variant, AD1_variant))\n",
    "\n",
    "cat(\"AD1 and AD2 overlap statistics:\\n\")\n",
    "cat(\"Number of variants unique to AD1:\", ad1_unique, \"\\n\")\n",
    "cat(\"Number of variants unique to AD2:\", ad2_unique, \"\\n\")\n",
    "cat(\"Number of variants shared between AD1 and AD2:\", ad_overlap, \"\\n\")\n",
    "cat(\"Total variants in AD1:\", length(AD1_variant), \"\\n\")\n",
    "cat(\"Total variants in AD2:\", length(AD2_variant), \"\\n\")\n",
    "\n",
    "# 2. Venn diagram for Aging1-5\n",
    "aging_list <- list(Aging1 = Aging1_variant,\n",
    "                  Aging2 = Aging2_variant,\n",
    "                  Aging3 = Aging3_variant,\n",
    "                  Aging4 = Aging4_variant,\n",
    "                  Aging5 = Aging5_variant)\n",
    "\n",
    "aging_venn <- ggVennDiagram(aging_list) +\n",
    "  ggtitle(\"Overlap of Variants across Aging1-5 Datasets\") +\n",
    "  theme(plot.title = element_text(hjust = 0.5, face = \"bold\"))\n",
    "\n",
    "print(aging_venn)\n",
    "\n"
   ]
  },
  {
   "cell_type": "markdown",
   "metadata": {},
   "source": [
    "### 2.Block level "
   ]
  },
  {
   "cell_type": "code",
   "execution_count": 13,
   "metadata": {
    "vscode": {
     "languageId": "r"
    }
   },
   "outputs": [
    {
     "name": "stdout",
     "output_type": "stream",
     "text": [
      "Matrix dimensions: 67 7 \n",
      "Number of variants present in each dataset:\n"
     ]
    },
    {
     "data": {
      "text/html": [
       "<style>\n",
       ".dl-inline {width: auto; margin:0; padding: 0}\n",
       ".dl-inline>dt, .dl-inline>dd {float: none; width: auto; display: inline-block}\n",
       ".dl-inline>dt::after {content: \":\\0020\"; padding-right: .5ex}\n",
       ".dl-inline>dt:not(:first-of-type) {padding-left: .5ex}\n",
       "</style><dl class=dl-inline><dt>AD1</dt><dd>9</dd><dt>AD2</dt><dd>12</dd><dt>Aging1</dt><dd>12</dd><dt>Aging2</dt><dd>11</dd><dt>Aging3</dt><dd>9</dd><dt>Aging4</dt><dd>12</dd><dt>Aging5</dt><dd>17</dd></dl>\n"
      ],
      "text/latex": [
       "\\begin{description*}\n",
       "\\item[AD1] 9\n",
       "\\item[AD2] 12\n",
       "\\item[Aging1] 12\n",
       "\\item[Aging2] 11\n",
       "\\item[Aging3] 9\n",
       "\\item[Aging4] 12\n",
       "\\item[Aging5] 17\n",
       "\\end{description*}\n"
      ],
      "text/markdown": [
       "AD1\n",
       ":   9AD2\n",
       ":   12Aging1\n",
       ":   12Aging2\n",
       ":   11Aging3\n",
       ":   9Aging4\n",
       ":   12Aging5\n",
       ":   17\n",
       "\n"
      ],
      "text/plain": [
       "   AD1    AD2 Aging1 Aging2 Aging3 Aging4 Aging5 \n",
       "     9     12     12     11      9     12     17 "
      ]
     },
     "metadata": {},
     "output_type": "display_data"
    },
    {
     "name": "stdout",
     "output_type": "stream",
     "text": [
      "\n",
      "Number of variants present in multiple datasets:\n"
     ]
    },
    {
     "data": {
      "text/plain": [
       "row_sums\n",
       " 1  2  3 \n",
       "55  9  3 "
      ]
     },
     "metadata": {},
     "output_type": "display_data"
    },
    {
     "data": {
      "text/html": [
       "<table class=\"dataframe\">\n",
       "<caption>A data.frame: 6 × 7</caption>\n",
       "<thead>\n",
       "\t<tr><th></th><th scope=col>AD1</th><th scope=col>AD2</th><th scope=col>Aging1</th><th scope=col>Aging2</th><th scope=col>Aging3</th><th scope=col>Aging4</th><th scope=col>Aging5</th></tr>\n",
       "\t<tr><th></th><th scope=col>&lt;dbl&gt;</th><th scope=col>&lt;dbl&gt;</th><th scope=col>&lt;dbl&gt;</th><th scope=col>&lt;dbl&gt;</th><th scope=col>&lt;dbl&gt;</th><th scope=col>&lt;dbl&gt;</th><th scope=col>&lt;dbl&gt;</th></tr>\n",
       "</thead>\n",
       "<tbody>\n",
       "\t<tr><th scope=row>chr1_214114077_215979204</th><td>0</td><td>0</td><td>0</td><td>0</td><td>1</td><td>1</td><td>0</td></tr>\n",
       "\t<tr><th scope=row>chr1_233234629_234364329</th><td>0</td><td>0</td><td>0</td><td>0</td><td>0</td><td>1</td><td>0</td></tr>\n",
       "\t<tr><th scope=row>chr1_2888443_4320284</th><td>0</td><td>0</td><td>1</td><td>0</td><td>0</td><td>0</td><td>0</td></tr>\n",
       "\t<tr><th scope=row>chr1_44020567_47757518</th><td>0</td><td>0</td><td>0</td><td>0</td><td>0</td><td>0</td><td>1</td></tr>\n",
       "\t<tr><th scope=row>chr1_50179506_54277735</th><td>1</td><td>0</td><td>0</td><td>0</td><td>0</td><td>0</td><td>0</td></tr>\n",
       "\t<tr><th scope=row>chr1_63330290_66474395</th><td>0</td><td>0</td><td>0</td><td>0</td><td>0</td><td>1</td><td>0</td></tr>\n",
       "</tbody>\n",
       "</table>\n"
      ],
      "text/latex": [
       "A data.frame: 6 × 7\n",
       "\\begin{tabular}{r|lllllll}\n",
       "  & AD1 & AD2 & Aging1 & Aging2 & Aging3 & Aging4 & Aging5\\\\\n",
       "  & <dbl> & <dbl> & <dbl> & <dbl> & <dbl> & <dbl> & <dbl>\\\\\n",
       "\\hline\n",
       "\tchr1\\_214114077\\_215979204 & 0 & 0 & 0 & 0 & 1 & 1 & 0\\\\\n",
       "\tchr1\\_233234629\\_234364329 & 0 & 0 & 0 & 0 & 0 & 1 & 0\\\\\n",
       "\tchr1\\_2888443\\_4320284 & 0 & 0 & 1 & 0 & 0 & 0 & 0\\\\\n",
       "\tchr1\\_44020567\\_47757518 & 0 & 0 & 0 & 0 & 0 & 0 & 1\\\\\n",
       "\tchr1\\_50179506\\_54277735 & 1 & 0 & 0 & 0 & 0 & 0 & 0\\\\\n",
       "\tchr1\\_63330290\\_66474395 & 0 & 0 & 0 & 0 & 0 & 1 & 0\\\\\n",
       "\\end{tabular}\n"
      ],
      "text/markdown": [
       "\n",
       "A data.frame: 6 × 7\n",
       "\n",
       "| <!--/--> | AD1 &lt;dbl&gt; | AD2 &lt;dbl&gt; | Aging1 &lt;dbl&gt; | Aging2 &lt;dbl&gt; | Aging3 &lt;dbl&gt; | Aging4 &lt;dbl&gt; | Aging5 &lt;dbl&gt; |\n",
       "|---|---|---|---|---|---|---|---|\n",
       "| chr1_214114077_215979204 | 0 | 0 | 0 | 0 | 1 | 1 | 0 |\n",
       "| chr1_233234629_234364329 | 0 | 0 | 0 | 0 | 0 | 1 | 0 |\n",
       "| chr1_2888443_4320284 | 0 | 0 | 1 | 0 | 0 | 0 | 0 |\n",
       "| chr1_44020567_47757518 | 0 | 0 | 0 | 0 | 0 | 0 | 1 |\n",
       "| chr1_50179506_54277735 | 1 | 0 | 0 | 0 | 0 | 0 | 0 |\n",
       "| chr1_63330290_66474395 | 0 | 0 | 0 | 0 | 0 | 1 | 0 |\n",
       "\n"
      ],
      "text/plain": [
       "                         AD1 AD2 Aging1 Aging2 Aging3 Aging4 Aging5\n",
       "chr1_214114077_215979204 0   0   0      0      1      1      0     \n",
       "chr1_233234629_234364329 0   0   0      0      0      1      0     \n",
       "chr1_2888443_4320284     0   0   1      0      0      0      0     \n",
       "chr1_44020567_47757518   0   0   0      0      0      0      1     \n",
       "chr1_50179506_54277735   1   0   0      0      0      0      0     \n",
       "chr1_63330290_66474395   0   0   0      0      0      1      0     "
      ]
     },
     "metadata": {},
     "output_type": "display_data"
    }
   ],
   "source": [
    "\n",
    "# 3. Venn diagram for all datasets\n",
    "all_list <- list(AD1 = unique(AD1$region_id),\n",
    "                AD2 = unique(AD2$region_id),\n",
    "                Aging1 = unique(Aging1$region_id),\n",
    "                Aging2 = unique(Aging2$region_id),\n",
    "                Aging3 = unique(Aging3$region_id),\n",
    "                Aging4 = unique(Aging4$region_id),\n",
    "                Aging5 = unique(Aging5$region_id))\n",
    "\n",
    "# For all datasets, we might want to use a different approach\n",
    "# as ggVennDiagram works best with 2-5 sets\n",
    "# We can use the upset plot for visualizing many sets\n",
    "\n",
    "# Install if not already installed\n",
    "# install.packages(\"UpSetR\")\n",
    "library(UpSetR)\n",
    "\n",
    "# Convert the list to a format suitable for UpSetR\n",
    "# CORRECTED VERSION: Don't use unique() to avoid removing duplicates across datasets\n",
    "all_variants <- unlist(all_list)\n",
    "# Count occurrences of each variant\n",
    "variant_counts <- table(all_variants)\n",
    "# Keep only unique variant names but preserve their occurrence information\n",
    "all_variants_unique <- names(variant_counts)\n",
    "\n",
    "# Create presence matrix correctly\n",
    "presence_matrix <- matrix(0, nrow = length(all_variants_unique), ncol = length(all_list))\n",
    "colnames(presence_matrix) <- names(all_list)\n",
    "rownames(presence_matrix) <- all_variants_unique\n",
    "\n",
    "# Fill the matrix with correct presence information\n",
    "for (i in 1:length(all_list)) {\n",
    "  presence_matrix[all_variants_unique %in% all_list[[i]], i] <- 1\n",
    "}\n",
    "\n",
    "# Print matrix summary to check\n",
    "cat(\"Matrix dimensions:\", dim(presence_matrix), \"\\n\")\n",
    "cat(\"Number of variants present in each dataset:\\n\")\n",
    "colSums(presence_matrix)\n",
    "\n",
    "# Print overlap statistics\n",
    "cat(\"\\nNumber of variants present in multiple datasets:\\n\")\n",
    "row_sums <- rowSums(presence_matrix)\n",
    "table(row_sums)\n",
    "\n",
    "# Convert to data frame for UpSetR\n",
    "presence_df <- as.data.frame(presence_matrix)\n",
    "\n",
    "\n",
    "head(presence_df)"
   ]
  },
  {
   "cell_type": "code",
   "execution_count": 23,
   "metadata": {
    "vscode": {
     "languageId": "r"
    }
   },
   "outputs": [
    {
     "name": "stderr",
     "output_type": "stream",
     "text": [
      "x being coerced from class: matrix to data.table\n",
      "\n"
     ]
    }
   ],
   "source": [
    "fwrite(presence_matrix, \"presence_matrix.tsv\", sep ='\\t')"
   ]
  },
  {
   "cell_type": "code",
   "execution_count": 19,
   "metadata": {
    "vscode": {
     "languageId": "r"
    }
   },
   "outputs": [
    {
     "data": {
      "text/html": [
       "<strong>pdf:</strong> 2"
      ],
      "text/latex": [
       "\\textbf{pdf:} 2"
      ],
      "text/markdown": [
       "**pdf:** 2"
      ],
      "text/plain": [
       "pdf \n",
       "  2 "
      ]
     },
     "metadata": {},
     "output_type": "display_data"
    },
    {
     "data": {
      "image/png": "[encoded data removed]",
      "text/plain": [
       "plot without title"
      ]
     },
     "metadata": {
      "image/png": {
       "height": 600,
       "width": 1440
      }
     },
     "output_type": "display_data"
    }
   ],
   "source": [
    "# Save the upset plot\n",
    "# Choose one of the following formats:\n",
    "\n",
    "\n",
    "options(repr.plot.width = 24, repr.plot.height = 10)\n",
    "\n",
    "\n",
    "p = upset(presence_df, \n",
    "      sets = c(\"AD1\", \"AD2\", \"Aging1\", \"Aging2\", \"Aging3\", \"Aging4\", \"Aging5\"),\n",
    "      keep.order = T,\n",
    "      nintersects = 100,\n",
    "      order.by = \"freq\",\n",
    "      main.bar.color = \"steelblue3\",\n",
    "      matrix.color = \"black\",\n",
    "      sets.bar.color = \"sandybrown\",\n",
    "      set_size.show = TRUE,\n",
    "      number.angles = 30,\n",
    "      text.scale = c(2,2,2,2,2),\n",
    "      point.size = 4,\n",
    "      line.size = 1.5,\n",
    "      mainbar.y.label = \"\",\n",
    "      sets.x.label = NULL,\n",
    "      mb.ratio = c(0.7, 0.3),  # Adjust ratio between main bar and matrix\n",
    "      )\n",
    "print(p)\n",
    "# Save the plot to a file\n",
    "png(\"upset_plot_ucos_block.png\", width = 24, height = 10, units = \"in\", res = 300)\n",
    "print(p)\n",
    "dev.off()"
   ]
  },
  {
   "cell_type": "code",
   "execution_count": 21,
   "metadata": {
    "vscode": {
     "languageId": "r"
    }
   },
   "outputs": [
    {
     "data": {
      "text/html": [
       "<style>\n",
       ".list-inline {list-style: none; margin:0; padding: 0}\n",
       ".list-inline>li {display: inline-block}\n",
       ".list-inline>li:not(:last-child)::after {content: \"\\00b7\"; padding: 0 .5ex}\n",
       "</style>\n",
       "<ol class=list-inline><li>12</li><li>7</li></ol>\n"
      ],
      "text/latex": [
       "\\begin{enumerate*}\n",
       "\\item 12\n",
       "\\item 7\n",
       "\\end{enumerate*}\n"
      ],
      "text/markdown": [
       "1. 12\n",
       "2. 7\n",
       "\n",
       "\n"
      ],
      "text/plain": [
       "[1] 12  7"
      ]
     },
     "metadata": {},
     "output_type": "display_data"
    }
   ],
   "source": [
    "presence_df_cos <- filter(presence_df, rowSums(presence_df) > 1)\n",
    "dim(present_df_cos)"
   ]
  },
  {
   "cell_type": "code",
   "execution_count": 22,
   "metadata": {
    "vscode": {
     "languageId": "r"
    }
   },
   "outputs": [
    {
     "data": {
      "text/html": [
       "<strong>pdf:</strong> 2"
      ],
      "text/latex": [
       "\\textbf{pdf:} 2"
      ],
      "text/markdown": [
       "**pdf:** 2"
      ],
      "text/plain": [
       "pdf \n",
       "  2 "
      ]
     },
     "metadata": {},
     "output_type": "display_data"
    },
    {
     "data": {
      "image/png": "[encoded data removed]",
      "text/plain": [
       "plot without title"
      ]
     },
     "metadata": {
      "image/png": {
       "height": 600,
       "width": 1440
      }
     },
     "output_type": "display_data"
    }
   ],
   "source": [
    "# Save the upset plot\n",
    "# Choose one of the following formats:\n",
    "\n",
    "\n",
    "options(repr.plot.width = 24, repr.plot.height = 10)\n",
    "\n",
    "\n",
    "p = upset(presence_df_cos, \n",
    "      sets = c(\"AD1\", \"AD2\", \"Aging1\", \"Aging2\", \"Aging3\", \"Aging4\", \"Aging5\"),\n",
    "      keep.order = T,\n",
    "      nintersects = 100,\n",
    "      order.by = \"freq\",\n",
    "      main.bar.color = \"steelblue3\",\n",
    "      matrix.color = \"black\",\n",
    "      sets.bar.color = \"sandybrown\",\n",
    "      set_size.show = TRUE,\n",
    "      number.angles = 30,\n",
    "      text.scale = c(2,2,2,2,2),\n",
    "      point.size = 4,\n",
    "      line.size = 1.5,\n",
    "      mainbar.y.label = \"\",\n",
    "      sets.x.label = NULL,\n",
    "      mb.ratio = c(0.7, 0.3),  # Adjust ratio between main bar and matrix\n",
    "      )\n",
    "print(p)\n",
    "# Save the plot to a file\n",
    "png(\"upset_plot_cos_block.png\", width = 24, height = 10, units = \"in\", res = 300)\n",
    "print(p)\n",
    "dev.off()"
   ]
  },
  {
   "cell_type": "code",
   "execution_count": null,
   "metadata": {
    "vscode": {
     "languageId": "r"
    }
   },
   "outputs": [],
   "source": [
    "options(repr.plot.width = 24, repr.plot.height = 10)\n",
    "max_size <- max(unique_cos_block)\n",
    "p <- upset(fromList(coloc), \n",
    "            order.by = \"freq\", \n",
    "            keep.order = T,\n",
    "            main.bar.color = \"steelblue3\", \n",
    "            sets.bar.color = \"sandybrown\", \n",
    "            text.scale = c(2,2,2,2,2), # Adjust font sizes for the main title, set names, set sizes, intersection sizes, and axis titles\n",
    "            matrix.color = \"black\", # Adjust the color of matrix dots\n",
    "            number.angles = 30, # Adjust the angle of number labels, useful for some plots\n",
    "            mb.ratio = c(0.5, 0.5), # Adjust the ratio of main bar and sets bar\n",
    "            point.size = 4, line.size = 1.5,\n",
    "            sets = cohorts,  \n",
    "            nsets = length(coloc),\n",
    "            set_size.show = TRUE,\n",
    "            set_size.angles = 0,\n",
    "            set_size.numbers_size = 7,\n",
    "            set_size.scale_max = max_size + 0.25*max_size,\n",
    "            nintersects = 100,\n",
    "            mainbar.y.label = \"\",\n",
    "            sets.x.label = NULL)\n",
    "\n",
    "# Display the plot in the notebook\n",
    "print(p)\n",
    "\n",
    "# Save the plot to a file\n",
    "png(\"upset_plot_cos_block.png\", width = 24, height = 10, units = \"in\", res = 300)\n",
    "print(p)\n",
    "dev.off()"
   ]
  },
  {
   "cell_type": "code",
   "execution_count": 74,
   "metadata": {
    "vscode": {
     "languageId": "r"
    }
   },
   "outputs": [],
   "source": [
    "AD_shared = inner_join(AD1, AD2, by = \"variant_ID\")"
   ]
  },
  {
   "cell_type": "code",
   "execution_count": 75,
   "metadata": {
    "vscode": {
     "languageId": "r"
    }
   },
   "outputs": [
    {
     "data": {
      "text/html": [
       "<table class=\"dataframe\">\n",
       "<caption>A data.table: 1 × 2</caption>\n",
       "<thead>\n",
       "\t<tr><th scope=col>region_id.x</th><th scope=col>n</th></tr>\n",
       "\t<tr><th scope=col>&lt;chr&gt;</th><th scope=col>&lt;int&gt;</th></tr>\n",
       "</thead>\n",
       "<tbody>\n",
       "\t<tr><td>chr9_116251953_117124386</td><td>10</td></tr>\n",
       "</tbody>\n",
       "</table>\n"
      ],
      "text/latex": [
       "A data.table: 1 × 2\n",
       "\\begin{tabular}{ll}\n",
       " region\\_id.x & n\\\\\n",
       " <chr> & <int>\\\\\n",
       "\\hline\n",
       "\t chr9\\_116251953\\_117124386 & 10\\\\\n",
       "\\end{tabular}\n"
      ],
      "text/markdown": [
       "\n",
       "A data.table: 1 × 2\n",
       "\n",
       "| region_id.x &lt;chr&gt; | n &lt;int&gt; |\n",
       "|---|---|\n",
       "| chr9_116251953_117124386 | 10 |\n",
       "\n"
      ],
      "text/plain": [
       "  region_id.x              n \n",
       "1 chr9_116251953_117124386 10"
      ]
     },
     "metadata": {},
     "output_type": "display_data"
    }
   ],
   "source": [
    "AD_shared |> count(region_id.x)"
   ]
  },
  {
   "cell_type": "markdown",
   "metadata": {},
   "source": [
    "chr9_116251953_117124386 is the only CS with shared top loci for both AD1 and AD2."
   ]
  },
  {
   "cell_type": "code",
   "execution_count": 71,
   "metadata": {
    "vscode": {
     "languageId": "r"
    }
   },
   "outputs": [],
   "source": [
    "Aging12_shared = inner_join(Aging1, Aging2, by = \"variant_ID\")"
   ]
  },
  {
   "cell_type": "code",
   "execution_count": 73,
   "metadata": {
    "vscode": {
     "languageId": "r"
    }
   },
   "outputs": [
    {
     "data": {
      "text/html": [
       "<table class=\"dataframe\">\n",
       "<caption>A data.table: 1 × 2</caption>\n",
       "<thead>\n",
       "\t<tr><th scope=col>region_id.x</th><th scope=col>n</th></tr>\n",
       "\t<tr><th scope=col>&lt;chr&gt;</th><th scope=col>&lt;int&gt;</th></tr>\n",
       "</thead>\n",
       "<tbody>\n",
       "\t<tr><td>chr6_122787546_128506682</td><td>47</td></tr>\n",
       "</tbody>\n",
       "</table>\n"
      ],
      "text/latex": [
       "A data.table: 1 × 2\n",
       "\\begin{tabular}{ll}\n",
       " region\\_id.x & n\\\\\n",
       " <chr> & <int>\\\\\n",
       "\\hline\n",
       "\t chr6\\_122787546\\_128506682 & 47\\\\\n",
       "\\end{tabular}\n"
      ],
      "text/markdown": [
       "\n",
       "A data.table: 1 × 2\n",
       "\n",
       "| region_id.x &lt;chr&gt; | n &lt;int&gt; |\n",
       "|---|---|\n",
       "| chr6_122787546_128506682 | 47 |\n",
       "\n"
      ],
      "text/plain": [
       "  region_id.x              n \n",
       "1 chr6_122787546_128506682 47"
      ]
     },
     "metadata": {},
     "output_type": "display_data"
    }
   ],
   "source": [
    "Aging12_shared |> count(region_id.x)"
   ]
  },
  {
   "cell_type": "code",
   "execution_count": 76,
   "metadata": {
    "vscode": {
     "languageId": "r"
    }
   },
   "outputs": [],
   "source": [
    "Aging34_shared = inner_join(Aging3, Aging4, by = \"variant_ID\")"
   ]
  },
  {
   "cell_type": "code",
   "execution_count": 77,
   "metadata": {
    "vscode": {
     "languageId": "r"
    }
   },
   "outputs": [
    {
     "data": {
      "text/html": [
       "<table class=\"dataframe\">\n",
       "<caption>A data.table: 1 × 2</caption>\n",
       "<thead>\n",
       "\t<tr><th scope=col>region_id.x</th><th scope=col>n</th></tr>\n",
       "\t<tr><th scope=col>&lt;chr&gt;</th><th scope=col>&lt;int&gt;</th></tr>\n",
       "</thead>\n",
       "<tbody>\n",
       "\t<tr><td>chr1_214114077_215979204</td><td>3</td></tr>\n",
       "</tbody>\n",
       "</table>\n"
      ],
      "text/latex": [
       "A data.table: 1 × 2\n",
       "\\begin{tabular}{ll}\n",
       " region\\_id.x & n\\\\\n",
       " <chr> & <int>\\\\\n",
       "\\hline\n",
       "\t chr1\\_214114077\\_215979204 & 3\\\\\n",
       "\\end{tabular}\n"
      ],
      "text/markdown": [
       "\n",
       "A data.table: 1 × 2\n",
       "\n",
       "| region_id.x &lt;chr&gt; | n &lt;int&gt; |\n",
       "|---|---|\n",
       "| chr1_214114077_215979204 | 3 |\n",
       "\n"
      ],
      "text/plain": [
       "  region_id.x              n\n",
       "1 chr1_214114077_215979204 3"
      ]
     },
     "metadata": {},
     "output_type": "display_data"
    }
   ],
   "source": [
    "Aging34_shared |> count(region_id.x)"
   ]
  },
  {
   "cell_type": "code",
   "execution_count": 78,
   "metadata": {
    "vscode": {
     "languageId": "r"
    }
   },
   "outputs": [],
   "source": [
    "Aging35_shared = inner_join(Aging3, Aging5, by = \"variant_ID\")"
   ]
  },
  {
   "cell_type": "code",
   "execution_count": 79,
   "metadata": {
    "vscode": {
     "languageId": "r"
    }
   },
   "outputs": [
    {
     "data": {
      "text/html": [
       "<table class=\"dataframe\">\n",
       "<caption>A data.table: 1 × 2</caption>\n",
       "<thead>\n",
       "\t<tr><th scope=col>region_id.x</th><th scope=col>n</th></tr>\n",
       "\t<tr><th scope=col>&lt;chr&gt;</th><th scope=col>&lt;int&gt;</th></tr>\n",
       "</thead>\n",
       "<tbody>\n",
       "\t<tr><td>chr20_40697409_42726168</td><td>1</td></tr>\n",
       "</tbody>\n",
       "</table>\n"
      ],
      "text/latex": [
       "A data.table: 1 × 2\n",
       "\\begin{tabular}{ll}\n",
       " region\\_id.x & n\\\\\n",
       " <chr> & <int>\\\\\n",
       "\\hline\n",
       "\t chr20\\_40697409\\_42726168 & 1\\\\\n",
       "\\end{tabular}\n"
      ],
      "text/markdown": [
       "\n",
       "A data.table: 1 × 2\n",
       "\n",
       "| region_id.x &lt;chr&gt; | n &lt;int&gt; |\n",
       "|---|---|\n",
       "| chr20_40697409_42726168 | 1 |\n",
       "\n"
      ],
      "text/plain": [
       "  region_id.x             n\n",
       "1 chr20_40697409_42726168 1"
      ]
     },
     "metadata": {},
     "output_type": "display_data"
    }
   ],
   "source": [
    "Aging35_shared |> count(region_id.x)"
   ]
  },
  {
   "cell_type": "markdown",
   "metadata": {
    "vscode": {
     "languageId": "r"
    }
   },
   "source": [
    "## Top loci that can be explained by GVC gene list"
   ]
  },
  {
   "cell_type": "code",
   "execution_count": 8,
   "metadata": {
    "vscode": {
     "languageId": "r"
    }
   },
   "outputs": [],
   "source": [
    "top_loci_0.95_image = top_loci_0.95 |> filter(str_detect(event_ID, \"image\"))"
   ]
  },
  {
   "cell_type": "code",
   "execution_count": 9,
   "metadata": {
    "vscode": {
     "languageId": "r"
    }
   },
   "outputs": [
    {
     "data": {
      "text/html": [
       "<style>\n",
       ".list-inline {list-style: none; margin:0; padding: 0}\n",
       ".list-inline>li {display: inline-block}\n",
       ".list-inline>li:not(:last-child)::after {content: \"\\00b7\"; padding: 0 .5ex}\n",
       "</style>\n",
       "<ol class=list-inline><li>2131</li><li>17</li></ol>\n"
      ],
      "text/latex": [
       "\\begin{enumerate*}\n",
       "\\item 2131\n",
       "\\item 17\n",
       "\\end{enumerate*}\n"
      ],
      "text/markdown": [
       "1. 2131\n",
       "2. 17\n",
       "\n",
       "\n"
      ],
      "text/plain": [
       "[1] 2131   17"
      ]
     },
     "metadata": {},
     "output_type": "display_data"
    }
   ],
   "source": [
    "dim(top_loci_0.95_image)"
   ]
  },
  {
   "cell_type": "code",
   "execution_count": 7,
   "metadata": {
    "vscode": {
     "languageId": "r"
    }
   },
   "outputs": [
    {
     "data": {
      "text/html": [
       "<table class=\"dataframe\">\n",
       "<caption>A data.table: 6 × 6</caption>\n",
       "<thead>\n",
       "\t<tr><th scope=col>#chr</th><th scope=col>start</th><th scope=col>end</th><th scope=col>gene_id</th><th scope=col>strand</th><th scope=col>gene_name</th></tr>\n",
       "\t<tr><th scope=col>&lt;chr&gt;</th><th scope=col>&lt;int&gt;</th><th scope=col>&lt;int&gt;</th><th scope=col>&lt;chr&gt;</th><th scope=col>&lt;chr&gt;</th><th scope=col>&lt;chr&gt;</th></tr>\n",
       "</thead>\n",
       "<tbody>\n",
       "\t<tr><td>chr1</td><td>207496146</td><td>207641764</td><td>ENSG00000203710</td><td>+</td><td>CR1       </td></tr>\n",
       "\t<tr><td>chr1</td><td>226870183</td><td>226927725</td><td>ENSG00000143801</td><td>+</td><td>PSEN2     </td></tr>\n",
       "\t<tr><td>chr1</td><td>226870183</td><td>226987544</td><td>ENSG00000288674</td><td>+</td><td>AL391628.1</td></tr>\n",
       "\t<tr><td>chr2</td><td>127048026</td><td>127107287</td><td>ENSG00000136717</td><td>-</td><td>BIN1      </td></tr>\n",
       "\t<tr><td>chr5</td><td>140558267</td><td>140564780</td><td>ENSG00000113108</td><td>-</td><td>APBB3     </td></tr>\n",
       "\t<tr><td>chr6</td><td> 41158505</td><td> 41163185</td><td>ENSG00000095970</td><td>-</td><td>TREM2     </td></tr>\n",
       "</tbody>\n",
       "</table>\n"
      ],
      "text/latex": [
       "A data.table: 6 × 6\n",
       "\\begin{tabular}{llllll}\n",
       " \\#chr & start & end & gene\\_id & strand & gene\\_name\\\\\n",
       " <chr> & <int> & <int> & <chr> & <chr> & <chr>\\\\\n",
       "\\hline\n",
       "\t chr1 & 207496146 & 207641764 & ENSG00000203710 & + & CR1       \\\\\n",
       "\t chr1 & 226870183 & 226927725 & ENSG00000143801 & + & PSEN2     \\\\\n",
       "\t chr1 & 226870183 & 226987544 & ENSG00000288674 & + & AL391628.1\\\\\n",
       "\t chr2 & 127048026 & 127107287 & ENSG00000136717 & - & BIN1      \\\\\n",
       "\t chr5 & 140558267 & 140564780 & ENSG00000113108 & - & APBB3     \\\\\n",
       "\t chr6 &  41158505 &  41163185 & ENSG00000095970 & - & TREM2     \\\\\n",
       "\\end{tabular}\n"
      ],
      "text/markdown": [
       "\n",
       "A data.table: 6 × 6\n",
       "\n",
       "| #chr &lt;chr&gt; | start &lt;int&gt; | end &lt;int&gt; | gene_id &lt;chr&gt; | strand &lt;chr&gt; | gene_name &lt;chr&gt; |\n",
       "|---|---|---|---|---|---|\n",
       "| chr1 | 207496146 | 207641764 | ENSG00000203710 | + | CR1        |\n",
       "| chr1 | 226870183 | 226927725 | ENSG00000143801 | + | PSEN2      |\n",
       "| chr1 | 226870183 | 226987544 | ENSG00000288674 | + | AL391628.1 |\n",
       "| chr2 | 127048026 | 127107287 | ENSG00000136717 | - | BIN1       |\n",
       "| chr5 | 140558267 | 140564780 | ENSG00000113108 | - | APBB3      |\n",
       "| chr6 |  41158505 |  41163185 | ENSG00000095970 | - | TREM2      |\n",
       "\n"
      ],
      "text/plain": [
       "  #chr start     end       gene_id         strand gene_name \n",
       "1 chr1 207496146 207641764 ENSG00000203710 +      CR1       \n",
       "2 chr1 226870183 226927725 ENSG00000143801 +      PSEN2     \n",
       "3 chr1 226870183 226987544 ENSG00000288674 +      AL391628.1\n",
       "4 chr2 127048026 127107287 ENSG00000136717 -      BIN1      \n",
       "5 chr5 140558267 140564780 ENSG00000113108 -      APBB3     \n",
       "6 chr6  41158505  41163185 ENSG00000095970 -      TREM2     "
      ]
     },
     "metadata": {},
     "output_type": "display_data"
    },
    {
     "data": {
      "text/html": [
       "<style>\n",
       ".list-inline {list-style: none; margin:0; padding: 0}\n",
       ".list-inline>li {display: inline-block}\n",
       ".list-inline>li:not(:last-child)::after {content: \"\\00b7\"; padding: 0 .5ex}\n",
       "</style>\n",
       "<ol class=list-inline><li>21</li><li>6</li></ol>\n"
      ],
      "text/latex": [
       "\\begin{enumerate*}\n",
       "\\item 21\n",
       "\\item 6\n",
       "\\end{enumerate*}\n"
      ],
      "text/markdown": [
       "1. 21\n",
       "2. 6\n",
       "\n",
       "\n"
      ],
      "text/plain": [
       "[1] 21  6"
      ]
     },
     "metadata": {},
     "output_type": "display_data"
    }
   ],
   "source": [
    "filtered_gene_list = fread(\"/home/rl3328/image_QTL/colocboost/image7+ad6/GVC_gene_list.gene_list.tsv\")\n",
    "head(filtered_gene_list)\n",
    "dim(filtered_gene_list)"
   ]
  },
  {
   "cell_type": "code",
   "execution_count": 9,
   "metadata": {
    "vscode": {
     "languageId": "r"
    }
   },
   "outputs": [
    {
     "data": {
      "text/html": [
       "2131"
      ],
      "text/latex": [
       "2131"
      ],
      "text/markdown": [
       "2131"
      ],
      "text/plain": [
       "[1] 2131"
      ]
     },
     "metadata": {},
     "output_type": "display_data"
    },
    {
     "data": {
      "text/html": [
       "2042"
      ],
      "text/latex": [
       "2042"
      ],
      "text/markdown": [
       "2042"
      ],
      "text/plain": [
       "[1] 2042"
      ]
     },
     "metadata": {},
     "output_type": "display_data"
    }
   ],
   "source": [
    "top_variants = top_loci_0.95_image |> pull(variant_ID)\n",
    "length(top_variants)\n",
    "top_variants_unique = unique(top_variants)\n",
    "length(unique(top_variants_unique))\n"
   ]
  },
  {
   "cell_type": "code",
   "execution_count": 10,
   "metadata": {
    "vscode": {
     "languageId": "r"
    }
   },
   "outputs": [
    {
     "name": "stdout",
     "output_type": "stream",
     "text": [
      "      #chr     start       end         gene_id strand  gene_name\n",
      "    <char>     <int>     <int>          <char> <char>     <char>\n",
      " 1:   chr1 207496146 207641764 ENSG00000203710      +        CR1\n",
      " 2:   chr1 226870183 226927725 ENSG00000143801      +      PSEN2\n",
      " 3:   chr1 226870183 226987544 ENSG00000288674      + AL391628.1\n",
      " 4:   chr2 127048026 127107287 ENSG00000136717      -       BIN1\n",
      " 5:   chr5 140558267 140564780 ENSG00000113108      -      APBB3\n",
      " 6:   chr6  41158505  41163185 ENSG00000095970      -      TREM2\n",
      " 7:   chr7 100367529 100400095 ENSG00000085514      +      PILRA\n",
      " 8:   chr7 143390288 143408855 ENSG00000146904      -      EPHA1\n",
      " 9:  chr11  47354859  47378546 ENSG00000066336      -       SPI1\n",
      "10:  chr11  60172013  60184665 ENSG00000110077      -     MS4A6A\n",
      "11:  chr11  85957174  86069881 ENSG00000073921      -     PICALM\n",
      "12:  chr11 121452313 121633762 ENSG00000137642      +      SORL1\n",
      "13:  chr10 113679161 113730906 ENSG00000165806      +      CASP7\n",
      "14:  chr14  73136417  73223690 ENSG00000080815      +      PSEN1\n",
      "15:  chr14  92513780  92688993 ENSG00000100599      +       RIN3\n",
      "16:  chr15  58588808  58749790 ENSG00000137845      -     ADAM10\n",
      "17:  chr16  81739096  81962684 ENSG00000197943      +      PLCG2\n",
      "18:  chr17  49210410  49223224 ENSG00000108798      +       ABI3\n",
      "19:  chr19   1040106   1065571 ENSG00000064687      +      ABCA7\n",
      "20:  chr19  44905790  44909392 ENSG00000130203      +       APOE\n",
      "21:  chr21  25880549  26171127 ENSG00000142192      -        APP\n",
      "      #chr     start       end         gene_id strand  gene_name\n",
      "    is_in_cis_window cis_window_lower_bound cis_window_upper_bound\n",
      "              <lgcl>                  <num>                  <num>\n",
      " 1:            FALSE              206996146              208141764\n",
      " 2:            FALSE              226370183              227427725\n",
      " 3:            FALSE              226370183              227487544\n",
      " 4:            FALSE              126548026              127607287\n",
      " 5:            FALSE              140058267              141064780\n",
      " 6:            FALSE               40658505               41663185\n",
      " 7:            FALSE               99867529              100900095\n",
      " 8:            FALSE              142890288              143908855\n",
      " 9:             TRUE               46854859               47878546\n",
      "10:            FALSE               59672013               60684665\n",
      "11:            FALSE               85457174               86569881\n",
      "12:            FALSE              120952313              122133762\n",
      "13:            FALSE              113179161              114230906\n",
      "14:            FALSE               72636417               73723690\n",
      "15:            FALSE               92013780               93188993\n",
      "16:            FALSE               58088808               59249790\n",
      "17:            FALSE               81239096               82462684\n",
      "18:            FALSE               48710410               49723224\n",
      "19:            FALSE                 540106                1565571\n",
      "20:            FALSE               44405790               45409392\n",
      "21:            FALSE               25380549               26671127\n",
      "    is_in_cis_window cis_window_lower_bound cis_window_upper_bound\n",
      "                                                                                                                                                 contained_variants\n",
      "                                                                                                                                                             <char>\n",
      " 1:                                                                                                                                                            <NA>\n",
      " 2:                                                                                                                                                            <NA>\n",
      " 3:                                                                                                                                                            <NA>\n",
      " 4:                                                                                                                                                            <NA>\n",
      " 5:                                                                                                                                                            <NA>\n",
      " 6:                                                                                                                                                            <NA>\n",
      " 7:                                                                                                                                                            <NA>\n",
      " 8:                                                                                                                                                            <NA>\n",
      " 9: 11:46936748:G:T;11:46955857:C:T;11:46960612:A:G;11:46961687:A:G;11:46991890:G:A;11:47015399:G:A;11:47078316:C:T;11:47098515:T:C;11:47146703:A:G;11:47215808:C:T\n",
      "10:                                                                                                                                                            <NA>\n",
      "11:                                                                                                                                                            <NA>\n",
      "12:                                                                                                                                                            <NA>\n",
      "13:                                                                                                                                                            <NA>\n",
      "14:                                                                                                                                                            <NA>\n",
      "15:                                                                                                                                                            <NA>\n",
      "16:                                                                                                                                                            <NA>\n",
      "17:                                                                                                                                                            <NA>\n",
      "18:                                                                                                                                                            <NA>\n",
      "19:                                                                                                                                                            <NA>\n",
      "20:                                                                                                                                                            <NA>\n",
      "21:                                                                                                                                                            <NA>\n",
      "                                                                                                                                                 contained_variants\n"
     ]
    }
   ],
   "source": [
    "# Parse variant to extract chr and position\n",
    "parse_variant <- function(variant_str) {\n",
    "  # Format: \"chr1:11698737:A>T\"\n",
    "  parts <- strsplit(variant_str, \":\")[[1]]\n",
    "  chr <- parts[1]\n",
    "  # Handle potential additional colons in the variant (e.g., in case of complex variants)\n",
    "  position <- as.numeric(strsplit(parts[2], \"[^0-9]\")[[1]][1])\n",
    "  return(list(chr = chr, position = position))\n",
    "}\n",
    "\n",
    "# Function to check if a variant position is within a gene's cis window\n",
    "is_variant_in_cis_window <- function(gene_chr, gene_start, gene_end, variant_str, window_size = 500000) {\n",
    "  variant <- parse_variant(variant_str)\n",
    "  cis_start <- gene_start - window_size\n",
    "  cis_end <- gene_end + window_size\n",
    "  # Check if the variant is within the cis window boundaries\n",
    "  return(gene_chr == paste0(\"chr\", variant$chr) && \n",
    "         variant$position >= cis_start && \n",
    "         variant$position <= cis_end)\n",
    "}\n",
    "\n",
    "# Find matching variants within cis window for each gene\n",
    "find_cis_window_variants <- function(gene_chr, gene_start, gene_end, variants_unique, window_size = 500000) {\n",
    "  matching_variants <- character(0)\n",
    "  cis_start <- gene_start - window_size\n",
    "  cis_end <- gene_end + window_size\n",
    "  \n",
    "  for(variant in variants_unique) {\n",
    "    if(is_variant_in_cis_window(gene_chr, gene_start, gene_end, variant, window_size)) {\n",
    "      matching_variants <- c(matching_variants, variant)\n",
    "    }\n",
    "  }\n",
    "  \n",
    "  if(length(matching_variants) > 0) {\n",
    "    return(list(\n",
    "      is_in_cis_window = TRUE,\n",
    "      cis_window_lower_bound = cis_start,\n",
    "      cis_window_upper_bound = cis_end,\n",
    "      contained_variants = paste(matching_variants, collapse = \";\")\n",
    "    ))\n",
    "  } else {\n",
    "    return(list(\n",
    "      is_in_cis_window = FALSE,\n",
    "      cis_window_lower_bound = cis_start,\n",
    "      cis_window_upper_bound = cis_end,\n",
    "      contained_variants = NA\n",
    "    ))\n",
    "  }\n",
    "}\n",
    "\n",
    "# Initialize the new columns\n",
    "filtered_gene_list$is_in_cis_window <- FALSE\n",
    "filtered_gene_list$cis_window_lower_bound <- NA\n",
    "filtered_gene_list$cis_window_upper_bound <- NA\n",
    "filtered_gene_list$contained_variants <- NA\n",
    "\n",
    "# Define window size as a parameter for easier modification\n",
    "window_size <- 500000\n",
    "\n",
    "# Loop through each row to find cis window variants\n",
    "for (i in 1:nrow(filtered_gene_list)) {\n",
    "  result <- find_cis_window_variants(\n",
    "    filtered_gene_list$`#chr`[i],\n",
    "    filtered_gene_list$start[i],\n",
    "    filtered_gene_list$end[i],\n",
    "    top_variants_unique,\n",
    "    window_size\n",
    "  )\n",
    "  filtered_gene_list$is_in_cis_window[i] <- result$is_in_cis_window\n",
    "  filtered_gene_list$cis_window_lower_bound[i] <- result$cis_window_lower_bound\n",
    "  filtered_gene_list$cis_window_upper_bound[i] <- result$cis_window_upper_bound\n",
    "  filtered_gene_list$contained_variants[i] <- result$contained_variants\n",
    "}\n",
    "\n",
    "# View the result\n",
    "print(filtered_gene_list)"
   ]
  },
  {
   "cell_type": "code",
   "execution_count": 11,
   "metadata": {
    "vscode": {
     "languageId": "r"
    }
   },
   "outputs": [],
   "source": [
    "variants = filtered_gene_list |> \n",
    "  filter(is_in_cis_window == TRUE) |> \n",
    "  pull(contained_variants) |> \n",
    "  str_split(\";\") |> \n",
    "  unlist() |> \n",
    "  unique()"
   ]
  },
  {
   "cell_type": "code",
   "execution_count": 12,
   "metadata": {
    "vscode": {
     "languageId": "r"
    }
   },
   "outputs": [
    {
     "data": {
      "text/html": [
       "<table class=\"dataframe\">\n",
       "<caption>A data.table: 10 × 16</caption>\n",
       "<thead>\n",
       "\t<tr><th scope=col>chr</th><th scope=col>pos</th><th scope=col>a1</th><th scope=col>a2</th><th scope=col>variant_ID</th><th scope=col>gene_ID</th><th scope=col>event_ID</th><th scope=col>cs_coverage_0.95</th><th scope=col>cs_coverage_0.7</th><th scope=col>cs_coverage_0.5</th><th scope=col>cs_coverage_0.95_purity0.5</th><th scope=col>cs_coverage_0.7_purity0.5</th><th scope=col>cs_coverage_0.5_purity0.5</th><th scope=col>PIP</th><th scope=col>region_id</th><th scope=col>finemap_model</th></tr>\n",
       "\t<tr><th scope=col>&lt;int&gt;</th><th scope=col>&lt;int&gt;</th><th scope=col>&lt;chr&gt;</th><th scope=col>&lt;chr&gt;</th><th scope=col>&lt;chr&gt;</th><th scope=col>&lt;chr&gt;</th><th scope=col>&lt;chr&gt;</th><th scope=col>&lt;int&gt;</th><th scope=col>&lt;int&gt;</th><th scope=col>&lt;int&gt;</th><th scope=col>&lt;lgl&gt;</th><th scope=col>&lt;lgl&gt;</th><th scope=col>&lt;lgl&gt;</th><th scope=col>&lt;dbl&gt;</th><th scope=col>&lt;chr&gt;</th><th scope=col>&lt;chr&gt;</th></tr>\n",
       "</thead>\n",
       "<tbody>\n",
       "\t<tr><td>11</td><td>46936748</td><td>T</td><td>G</td><td>11:46936748:G:T</td><td>chr11_46916060_49936088</td><td>image_AD2</td><td>1</td><td>1</td><td>1</td><td>NA</td><td>NA</td><td>NA</td><td>0.10404344</td><td>chr11_46916060_49936088</td><td>single_effect_NO_QC</td></tr>\n",
       "\t<tr><td>11</td><td>46955857</td><td>T</td><td>C</td><td>11:46955857:C:T</td><td>chr11_46916060_49936088</td><td>image_AD2</td><td>1</td><td>1</td><td>1</td><td>NA</td><td>NA</td><td>NA</td><td>0.09062421</td><td>chr11_46916060_49936088</td><td>single_effect_NO_QC</td></tr>\n",
       "\t<tr><td>11</td><td>46960612</td><td>G</td><td>A</td><td>11:46960612:A:G</td><td>chr11_46916060_49936088</td><td>image_AD2</td><td>1</td><td>1</td><td>1</td><td>NA</td><td>NA</td><td>NA</td><td>0.08918159</td><td>chr11_46916060_49936088</td><td>single_effect_NO_QC</td></tr>\n",
       "\t<tr><td>11</td><td>46961687</td><td>G</td><td>A</td><td>11:46961687:A:G</td><td>chr11_46916060_49936088</td><td>image_AD2</td><td>1</td><td>1</td><td>0</td><td>NA</td><td>NA</td><td>NA</td><td>0.08918159</td><td>chr11_46916060_49936088</td><td>single_effect_NO_QC</td></tr>\n",
       "\t<tr><td>11</td><td>46991890</td><td>A</td><td>G</td><td>11:46991890:G:A</td><td>chr11_46916060_49936088</td><td>image_AD2</td><td>1</td><td>1</td><td>0</td><td>NA</td><td>NA</td><td>NA</td><td>0.08748880</td><td>chr11_46916060_49936088</td><td>single_effect_NO_QC</td></tr>\n",
       "\t<tr><td>11</td><td>47015399</td><td>A</td><td>G</td><td>11:47015399:G:A</td><td>chr11_46916060_49936088</td><td>image_AD2</td><td>1</td><td>0</td><td>0</td><td>NA</td><td>NA</td><td>NA</td><td>0.08249851</td><td>chr11_46916060_49936088</td><td>single_effect_NO_QC</td></tr>\n",
       "\t<tr><td>11</td><td>47078316</td><td>T</td><td>C</td><td>11:47078316:C:T</td><td>chr11_46916060_49936088</td><td>image_AD2</td><td>1</td><td>1</td><td>1</td><td>NA</td><td>NA</td><td>NA</td><td>0.12413455</td><td>chr11_46916060_49936088</td><td>single_effect_NO_QC</td></tr>\n",
       "\t<tr><td>11</td><td>47098515</td><td>C</td><td>T</td><td>11:47098515:T:C</td><td>chr11_46916060_49936088</td><td>image_AD2</td><td>1</td><td>0</td><td>0</td><td>NA</td><td>NA</td><td>NA</td><td>0.08729426</td><td>chr11_46916060_49936088</td><td>single_effect_NO_QC</td></tr>\n",
       "\t<tr><td>11</td><td>47146703</td><td>G</td><td>A</td><td>11:47146703:A:G</td><td>chr11_46916060_49936088</td><td>image_AD2</td><td>1</td><td>1</td><td>1</td><td>NA</td><td>NA</td><td>NA</td><td>0.12781061</td><td>chr11_46916060_49936088</td><td>single_effect_NO_QC</td></tr>\n",
       "\t<tr><td>11</td><td>47215808</td><td>T</td><td>C</td><td>11:47215808:C:T</td><td>chr11_46916060_49936088</td><td>image_AD2</td><td>1</td><td>0</td><td>0</td><td>NA</td><td>NA</td><td>NA</td><td>0.06800896</td><td>chr11_46916060_49936088</td><td>single_effect_NO_QC</td></tr>\n",
       "</tbody>\n",
       "</table>\n"
      ],
      "text/latex": [
       "A data.table: 10 × 16\n",
       "\\begin{tabular}{llllllllllllllll}\n",
       " chr & pos & a1 & a2 & variant\\_ID & gene\\_ID & event\\_ID & cs\\_coverage\\_0.95 & cs\\_coverage\\_0.7 & cs\\_coverage\\_0.5 & cs\\_coverage\\_0.95\\_purity0.5 & cs\\_coverage\\_0.7\\_purity0.5 & cs\\_coverage\\_0.5\\_purity0.5 & PIP & region\\_id & finemap\\_model\\\\\n",
       " <int> & <int> & <chr> & <chr> & <chr> & <chr> & <chr> & <int> & <int> & <int> & <lgl> & <lgl> & <lgl> & <dbl> & <chr> & <chr>\\\\\n",
       "\\hline\n",
       "\t 11 & 46936748 & T & G & 11:46936748:G:T & chr11\\_46916060\\_49936088 & image\\_AD2 & 1 & 1 & 1 & NA & NA & NA & 0.10404344 & chr11\\_46916060\\_49936088 & single\\_effect\\_NO\\_QC\\\\\n",
       "\t 11 & 46955857 & T & C & 11:46955857:C:T & chr11\\_46916060\\_49936088 & image\\_AD2 & 1 & 1 & 1 & NA & NA & NA & 0.09062421 & chr11\\_46916060\\_49936088 & single\\_effect\\_NO\\_QC\\\\\n",
       "\t 11 & 46960612 & G & A & 11:46960612:A:G & chr11\\_46916060\\_49936088 & image\\_AD2 & 1 & 1 & 1 & NA & NA & NA & 0.08918159 & chr11\\_46916060\\_49936088 & single\\_effect\\_NO\\_QC\\\\\n",
       "\t 11 & 46961687 & G & A & 11:46961687:A:G & chr11\\_46916060\\_49936088 & image\\_AD2 & 1 & 1 & 0 & NA & NA & NA & 0.08918159 & chr11\\_46916060\\_49936088 & single\\_effect\\_NO\\_QC\\\\\n",
       "\t 11 & 46991890 & A & G & 11:46991890:G:A & chr11\\_46916060\\_49936088 & image\\_AD2 & 1 & 1 & 0 & NA & NA & NA & 0.08748880 & chr11\\_46916060\\_49936088 & single\\_effect\\_NO\\_QC\\\\\n",
       "\t 11 & 47015399 & A & G & 11:47015399:G:A & chr11\\_46916060\\_49936088 & image\\_AD2 & 1 & 0 & 0 & NA & NA & NA & 0.08249851 & chr11\\_46916060\\_49936088 & single\\_effect\\_NO\\_QC\\\\\n",
       "\t 11 & 47078316 & T & C & 11:47078316:C:T & chr11\\_46916060\\_49936088 & image\\_AD2 & 1 & 1 & 1 & NA & NA & NA & 0.12413455 & chr11\\_46916060\\_49936088 & single\\_effect\\_NO\\_QC\\\\\n",
       "\t 11 & 47098515 & C & T & 11:47098515:T:C & chr11\\_46916060\\_49936088 & image\\_AD2 & 1 & 0 & 0 & NA & NA & NA & 0.08729426 & chr11\\_46916060\\_49936088 & single\\_effect\\_NO\\_QC\\\\\n",
       "\t 11 & 47146703 & G & A & 11:47146703:A:G & chr11\\_46916060\\_49936088 & image\\_AD2 & 1 & 1 & 1 & NA & NA & NA & 0.12781061 & chr11\\_46916060\\_49936088 & single\\_effect\\_NO\\_QC\\\\\n",
       "\t 11 & 47215808 & T & C & 11:47215808:C:T & chr11\\_46916060\\_49936088 & image\\_AD2 & 1 & 0 & 0 & NA & NA & NA & 0.06800896 & chr11\\_46916060\\_49936088 & single\\_effect\\_NO\\_QC\\\\\n",
       "\\end{tabular}\n"
      ],
      "text/markdown": [
       "\n",
       "A data.table: 10 × 16\n",
       "\n",
       "| chr &lt;int&gt; | pos &lt;int&gt; | a1 &lt;chr&gt; | a2 &lt;chr&gt; | variant_ID &lt;chr&gt; | gene_ID &lt;chr&gt; | event_ID &lt;chr&gt; | cs_coverage_0.95 &lt;int&gt; | cs_coverage_0.7 &lt;int&gt; | cs_coverage_0.5 &lt;int&gt; | cs_coverage_0.95_purity0.5 &lt;lgl&gt; | cs_coverage_0.7_purity0.5 &lt;lgl&gt; | cs_coverage_0.5_purity0.5 &lt;lgl&gt; | PIP &lt;dbl&gt; | region_id &lt;chr&gt; | finemap_model &lt;chr&gt; |\n",
       "|---|---|---|---|---|---|---|---|---|---|---|---|---|---|---|---|\n",
       "| 11 | 46936748 | T | G | 11:46936748:G:T | chr11_46916060_49936088 | image_AD2 | 1 | 1 | 1 | NA | NA | NA | 0.10404344 | chr11_46916060_49936088 | single_effect_NO_QC |\n",
       "| 11 | 46955857 | T | C | 11:46955857:C:T | chr11_46916060_49936088 | image_AD2 | 1 | 1 | 1 | NA | NA | NA | 0.09062421 | chr11_46916060_49936088 | single_effect_NO_QC |\n",
       "| 11 | 46960612 | G | A | 11:46960612:A:G | chr11_46916060_49936088 | image_AD2 | 1 | 1 | 1 | NA | NA | NA | 0.08918159 | chr11_46916060_49936088 | single_effect_NO_QC |\n",
       "| 11 | 46961687 | G | A | 11:46961687:A:G | chr11_46916060_49936088 | image_AD2 | 1 | 1 | 0 | NA | NA | NA | 0.08918159 | chr11_46916060_49936088 | single_effect_NO_QC |\n",
       "| 11 | 46991890 | A | G | 11:46991890:G:A | chr11_46916060_49936088 | image_AD2 | 1 | 1 | 0 | NA | NA | NA | 0.08748880 | chr11_46916060_49936088 | single_effect_NO_QC |\n",
       "| 11 | 47015399 | A | G | 11:47015399:G:A | chr11_46916060_49936088 | image_AD2 | 1 | 0 | 0 | NA | NA | NA | 0.08249851 | chr11_46916060_49936088 | single_effect_NO_QC |\n",
       "| 11 | 47078316 | T | C | 11:47078316:C:T | chr11_46916060_49936088 | image_AD2 | 1 | 1 | 1 | NA | NA | NA | 0.12413455 | chr11_46916060_49936088 | single_effect_NO_QC |\n",
       "| 11 | 47098515 | C | T | 11:47098515:T:C | chr11_46916060_49936088 | image_AD2 | 1 | 0 | 0 | NA | NA | NA | 0.08729426 | chr11_46916060_49936088 | single_effect_NO_QC |\n",
       "| 11 | 47146703 | G | A | 11:47146703:A:G | chr11_46916060_49936088 | image_AD2 | 1 | 1 | 1 | NA | NA | NA | 0.12781061 | chr11_46916060_49936088 | single_effect_NO_QC |\n",
       "| 11 | 47215808 | T | C | 11:47215808:C:T | chr11_46916060_49936088 | image_AD2 | 1 | 0 | 0 | NA | NA | NA | 0.06800896 | chr11_46916060_49936088 | single_effect_NO_QC |\n",
       "\n"
      ],
      "text/plain": [
       "   chr pos      a1 a2 variant_ID      gene_ID                 event_ID \n",
       "1  11  46936748 T  G  11:46936748:G:T chr11_46916060_49936088 image_AD2\n",
       "2  11  46955857 T  C  11:46955857:C:T chr11_46916060_49936088 image_AD2\n",
       "3  11  46960612 G  A  11:46960612:A:G chr11_46916060_49936088 image_AD2\n",
       "4  11  46961687 G  A  11:46961687:A:G chr11_46916060_49936088 image_AD2\n",
       "5  11  46991890 A  G  11:46991890:G:A chr11_46916060_49936088 image_AD2\n",
       "6  11  47015399 A  G  11:47015399:G:A chr11_46916060_49936088 image_AD2\n",
       "7  11  47078316 T  C  11:47078316:C:T chr11_46916060_49936088 image_AD2\n",
       "8  11  47098515 C  T  11:47098515:T:C chr11_46916060_49936088 image_AD2\n",
       "9  11  47146703 G  A  11:47146703:A:G chr11_46916060_49936088 image_AD2\n",
       "10 11  47215808 T  C  11:47215808:C:T chr11_46916060_49936088 image_AD2\n",
       "   cs_coverage_0.95 cs_coverage_0.7 cs_coverage_0.5 cs_coverage_0.95_purity0.5\n",
       "1  1                1               1               NA                        \n",
       "2  1                1               1               NA                        \n",
       "3  1                1               1               NA                        \n",
       "4  1                1               0               NA                        \n",
       "5  1                1               0               NA                        \n",
       "6  1                0               0               NA                        \n",
       "7  1                1               1               NA                        \n",
       "8  1                0               0               NA                        \n",
       "9  1                1               1               NA                        \n",
       "10 1                0               0               NA                        \n",
       "   cs_coverage_0.7_purity0.5 cs_coverage_0.5_purity0.5 PIP       \n",
       "1  NA                        NA                        0.10404344\n",
       "2  NA                        NA                        0.09062421\n",
       "3  NA                        NA                        0.08918159\n",
       "4  NA                        NA                        0.08918159\n",
       "5  NA                        NA                        0.08748880\n",
       "6  NA                        NA                        0.08249851\n",
       "7  NA                        NA                        0.12413455\n",
       "8  NA                        NA                        0.08729426\n",
       "9  NA                        NA                        0.12781061\n",
       "10 NA                        NA                        0.06800896\n",
       "   region_id               finemap_model      \n",
       "1  chr11_46916060_49936088 single_effect_NO_QC\n",
       "2  chr11_46916060_49936088 single_effect_NO_QC\n",
       "3  chr11_46916060_49936088 single_effect_NO_QC\n",
       "4  chr11_46916060_49936088 single_effect_NO_QC\n",
       "5  chr11_46916060_49936088 single_effect_NO_QC\n",
       "6  chr11_46916060_49936088 single_effect_NO_QC\n",
       "7  chr11_46916060_49936088 single_effect_NO_QC\n",
       "8  chr11_46916060_49936088 single_effect_NO_QC\n",
       "9  chr11_46916060_49936088 single_effect_NO_QC\n",
       "10 chr11_46916060_49936088 single_effect_NO_QC"
      ]
     },
     "metadata": {},
     "output_type": "display_data"
    }
   ],
   "source": [
    "top_loci_0.95_image |> filter(variant_ID %in% variants)"
   ]
  },
  {
   "cell_type": "markdown",
   "metadata": {},
   "source": [
    "## Top loci that can be explained by Table1 gene list"
   ]
  },
  {
   "cell_type": "code",
   "execution_count": 4,
   "metadata": {
    "vscode": {
     "languageId": "r"
    }
   },
   "outputs": [],
   "source": [
    "top_loci_0.95_image = top_loci_0.95 |> filter(str_detect(event_ID, \"image\"))"
   ]
  },
  {
   "cell_type": "code",
   "execution_count": 5,
   "metadata": {
    "vscode": {
     "languageId": "r"
    }
   },
   "outputs": [
    {
     "data": {
      "text/html": [
       "<style>\n",
       ".list-inline {list-style: none; margin:0; padding: 0}\n",
       ".list-inline>li {display: inline-block}\n",
       ".list-inline>li:not(:last-child)::after {content: \"\\00b7\"; padding: 0 .5ex}\n",
       "</style>\n",
       "<ol class=list-inline><li>2131</li><li>16</li></ol>\n"
      ],
      "text/latex": [
       "\\begin{enumerate*}\n",
       "\\item 2131\n",
       "\\item 16\n",
       "\\end{enumerate*}\n"
      ],
      "text/markdown": [
       "1. 2131\n",
       "2. 16\n",
       "\n",
       "\n"
      ],
      "text/plain": [
       "[1] 2131   16"
      ]
     },
     "metadata": {},
     "output_type": "display_data"
    }
   ],
   "source": [
    "dim(top_loci_0.95_image)"
   ]
  },
  {
   "cell_type": "code",
   "execution_count": 14,
   "metadata": {
    "vscode": {
     "languageId": "r"
    }
   },
   "outputs": [
    {
     "data": {
      "text/html": [
       "<table class=\"dataframe\">\n",
       "<caption>A data.table: 6 × 6</caption>\n",
       "<thead>\n",
       "\t<tr><th scope=col>#chr</th><th scope=col>start</th><th scope=col>end</th><th scope=col>gene_id</th><th scope=col>strand</th><th scope=col>gene_name</th></tr>\n",
       "\t<tr><th scope=col>&lt;chr&gt;</th><th scope=col>&lt;int&gt;</th><th scope=col>&lt;int&gt;</th><th scope=col>&lt;chr&gt;</th><th scope=col>&lt;chr&gt;</th><th scope=col>&lt;chr&gt;</th></tr>\n",
       "</thead>\n",
       "<tbody>\n",
       "\t<tr><td>chr1</td><td>109309567</td><td>109397917</td><td>ENSG00000134243</td><td>-</td><td>SORT1 </td></tr>\n",
       "\t<tr><td>chr1</td><td>207496146</td><td>207641764</td><td>ENSG00000203710</td><td>+</td><td>CR1   </td></tr>\n",
       "\t<tr><td>chr2</td><td>  9488485</td><td>  9556731</td><td>ENSG00000151694</td><td>-</td><td>ADAM17</td></tr>\n",
       "\t<tr><td>chr2</td><td> 37250501</td><td> 37324832</td><td>ENSG00000115825</td><td>-</td><td>PRKD3 </td></tr>\n",
       "\t<tr><td>chr2</td><td>105744911</td><td>105894273</td><td>ENSG00000071051</td><td>+</td><td>NCK2  </td></tr>\n",
       "\t<tr><td>chr2</td><td>127048026</td><td>127107287</td><td>ENSG00000136717</td><td>-</td><td>BIN1  </td></tr>\n",
       "</tbody>\n",
       "</table>\n"
      ],
      "text/latex": [
       "A data.table: 6 × 6\n",
       "\\begin{tabular}{llllll}\n",
       " \\#chr & start & end & gene\\_id & strand & gene\\_name\\\\\n",
       " <chr> & <int> & <int> & <chr> & <chr> & <chr>\\\\\n",
       "\\hline\n",
       "\t chr1 & 109309567 & 109397917 & ENSG00000134243 & - & SORT1 \\\\\n",
       "\t chr1 & 207496146 & 207641764 & ENSG00000203710 & + & CR1   \\\\\n",
       "\t chr2 &   9488485 &   9556731 & ENSG00000151694 & - & ADAM17\\\\\n",
       "\t chr2 &  37250501 &  37324832 & ENSG00000115825 & - & PRKD3 \\\\\n",
       "\t chr2 & 105744911 & 105894273 & ENSG00000071051 & + & NCK2  \\\\\n",
       "\t chr2 & 127048026 & 127107287 & ENSG00000136717 & - & BIN1  \\\\\n",
       "\\end{tabular}\n"
      ],
      "text/markdown": [
       "\n",
       "A data.table: 6 × 6\n",
       "\n",
       "| #chr &lt;chr&gt; | start &lt;int&gt; | end &lt;int&gt; | gene_id &lt;chr&gt; | strand &lt;chr&gt; | gene_name &lt;chr&gt; |\n",
       "|---|---|---|---|---|---|\n",
       "| chr1 | 109309567 | 109397917 | ENSG00000134243 | - | SORT1  |\n",
       "| chr1 | 207496146 | 207641764 | ENSG00000203710 | + | CR1    |\n",
       "| chr2 |   9488485 |   9556731 | ENSG00000151694 | - | ADAM17 |\n",
       "| chr2 |  37250501 |  37324832 | ENSG00000115825 | - | PRKD3  |\n",
       "| chr2 | 105744911 | 105894273 | ENSG00000071051 | + | NCK2   |\n",
       "| chr2 | 127048026 | 127107287 | ENSG00000136717 | - | BIN1   |\n",
       "\n"
      ],
      "text/plain": [
       "  #chr start     end       gene_id         strand gene_name\n",
       "1 chr1 109309567 109397917 ENSG00000134243 -      SORT1    \n",
       "2 chr1 207496146 207641764 ENSG00000203710 +      CR1      \n",
       "3 chr2   9488485   9556731 ENSG00000151694 -      ADAM17   \n",
       "4 chr2  37250501  37324832 ENSG00000115825 -      PRKD3    \n",
       "5 chr2 105744911 105894273 ENSG00000071051 +      NCK2     \n",
       "6 chr2 127048026 127107287 ENSG00000136717 -      BIN1     "
      ]
     },
     "metadata": {},
     "output_type": "display_data"
    },
    {
     "data": {
      "text/html": [
       "<style>\n",
       ".list-inline {list-style: none; margin:0; padding: 0}\n",
       ".list-inline>li {display: inline-block}\n",
       ".list-inline>li:not(:last-child)::after {content: \"\\00b7\"; padding: 0 .5ex}\n",
       "</style>\n",
       "<ol class=list-inline><li>76</li><li>6</li></ol>\n"
      ],
      "text/latex": [
       "\\begin{enumerate*}\n",
       "\\item 76\n",
       "\\item 6\n",
       "\\end{enumerate*}\n"
      ],
      "text/markdown": [
       "1. 76\n",
       "2. 6\n",
       "\n",
       "\n"
      ],
      "text/plain": [
       "[1] 76  6"
      ]
     },
     "metadata": {},
     "output_type": "display_data"
    }
   ],
   "source": [
    "filtered_gene_list = fread(\"/home/rl3328/image_QTL/colocboost/image7+ad6/Table1_gene_list.gene_list.tsv\")\n",
    "head(filtered_gene_list)\n",
    "dim(filtered_gene_list)"
   ]
  },
  {
   "cell_type": "code",
   "execution_count": 15,
   "metadata": {
    "vscode": {
     "languageId": "r"
    }
   },
   "outputs": [
    {
     "data": {
      "text/html": [
       "2131"
      ],
      "text/latex": [
       "2131"
      ],
      "text/markdown": [
       "2131"
      ],
      "text/plain": [
       "[1] 2131"
      ]
     },
     "metadata": {},
     "output_type": "display_data"
    },
    {
     "data": {
      "text/html": [
       "2042"
      ],
      "text/latex": [
       "2042"
      ],
      "text/markdown": [
       "2042"
      ],
      "text/plain": [
       "[1] 2042"
      ]
     },
     "metadata": {},
     "output_type": "display_data"
    }
   ],
   "source": [
    "top_variants = top_loci_0.95_image |> pull(variant_ID)\n",
    "length(top_variants)\n",
    "top_variants_unique = unique(top_variants)\n",
    "length(unique(top_variants_unique))\n"
   ]
  },
  {
   "cell_type": "code",
   "execution_count": 16,
   "metadata": {
    "vscode": {
     "languageId": "r"
    }
   },
   "outputs": [
    {
     "name": "stdout",
     "output_type": "stream",
     "text": [
      "      #chr     start       end         gene_id strand gene_name\n",
      "    <char>     <int>     <int>          <char> <char>    <char>\n",
      " 1:   chr1 109309567 109397917 ENSG00000134243      -     SORT1\n",
      " 2:   chr1 207496146 207641764 ENSG00000203710      +       CR1\n",
      " 3:   chr2   9488485   9556731 ENSG00000151694      -    ADAM17\n",
      " 4:   chr2  37250501  37324832 ENSG00000115825      -     PRKD3\n",
      " 5:   chr2 105744911 105894273 ENSG00000071051      +      NCK2\n",
      " 6:   chr2 127048026 127107287 ENSG00000136717      -      BIN1\n",
      " 7:   chr2 202874260 203014797 ENSG00000138442      -     WDR12\n",
      " 8:   chr2 233059966 233207902 ENSG00000168918      +    INPP5D\n",
      " 9:   chr3 155024123 155183703 ENSG00000196549      +       MME\n",
      "10:   chr4    986996   1004563 ENSG00000127415      +      IDUA\n",
      "11:   chr4  10486394  10684767 ENSG00000109684      -      CLNK\n",
      "12:   chr4  40191052  40246966 ENSG00000168421      +      RHOH\n",
      "13:   chr5  14704799  14871777 ENSG00000154122      -      ANKH\n",
      "14:   chr5  86617927  86620961 ENSG00000127184      +     COX7C\n",
      "15:   chr5 151029944 151093576 ENSG00000145901      -     TNIP1\n",
      "16:   chr5 180100794 180209210 ENSG00000146090      -  RASGEF1C\n",
      "17:   chr6  32628178  32643683 ENSG00000196735      +  HLA-DQA1\n",
      "18:   chr6  41026894  41039220 ENSG00000124602      -    UNC5CL\n",
      "19:   chr6  41158505  41163185 ENSG00000095970      -     TREM2\n",
      "20:   chr6  41189748  41201148 ENSG00000112195      -    TREML2\n",
      "21:   chr6  47477788  47627262 ENSG00000198087      +     CD2AP\n",
      "22:   chr6 114055585 114343044 ENSG00000249853      -    HS3ST5\n",
      "23:   chr7   7640710   7968019 ENSG00000219545      +     UMAD1\n",
      "24:   chr7   8113183   8262686 ENSG00000003147      -      ICA1\n",
      "25:   chr7  12211269  12243366 ENSG00000106460      +  TMEM106B\n",
      "26:   chr7  27830572  28180794 ENSG00000153814      -     JAZF1\n",
      "27:   chr7  37683842  37951935 ENSG00000086289      +     EPDR1\n",
      "28:   chr7  54752249  54759973 ENSG00000132432      -    SEC61G\n",
      "29:   chr7 100307701 100322195 ENSG00000214300      +    SPDYE3\n",
      "30:   chr7 143390288 143408855 ENSG00000146904      -     EPHA1\n",
      "31:   chr8  11842523  11869532 ENSG00000164733      -      CTSB\n",
      "32:   chr8  27311481  27459390 ENSG00000120899      +     PTK2B\n",
      "33:   chr8  27596916  27614699 ENSG00000120885      -       CLU\n",
      "34:   chr8 144098632 144108123 ENSG00000179526      -   SHARPIN\n",
      "35:   chr9 104781005 104928154 ENSG00000165029      -     ABCA1\n",
      "36:  chr11  47354859  47378546 ENSG00000066336      -      SPI1\n",
      "37:  chr11  60185656  60318079 ENSG00000110079      +    MS4A4A\n",
      "38:  chr11  86244752  86278812 ENSG00000074266      +       EED\n",
      "39:  chr11 121452313 121633762 ENSG00000137642      +     SORL1\n",
      "40:  chr10  11453945  11611753 ENSG00000148429      -    USP6NL\n",
      "41:  chr10  60026297  60733489 ENSG00000151150      -      ANK3\n",
      "42:  chr10  80454165  80533123 ENSG00000108219      +   TSPAN14\n",
      "43:  chr10  96189170  96271586 ENSG00000095585      -      BLNK\n",
      "44:  chr10 122374695 122442601 ENSG00000107679      +   PLEKHA1\n",
      "45:  chr12 113221049 113298584 ENSG00000186815      +     TPCN1\n",
      "46:  chr14  52857267  52952434 ENSG00000073712      -    FERMT2\n",
      "47:  chr14  92322580  92501480 ENSG00000140090      +   SLC24A4\n",
      "48:  chr15  50702265  50765705 ENSG00000138600      -    SPPL2A\n",
      "49:  chr15  58771191  58861899 ENSG00000128923      +    MINDY2\n",
      "50:  chr15  63276017  63309125 ENSG00000138613      +     APH1B\n",
      "51:  chr15  64094122  64146089 ENSG00000028528      +      SNX1\n",
      "52:  chr15  78921057  78949573 ENSG00000103811      -      CTSH\n",
      "53:  chr16  30005513  30023269 ENSG00000149927      -     DOC2A\n",
      "54:  chr16  31106106  31112790 ENSG00000103507      +     BCKDK\n",
      "55:  chr16  70579894  70660681 ENSG00000157368      +      IL34\n",
      "56:  chr16  79585842  79600736 ENSG00000178573      -       MAF\n",
      "57:  chr16  81739096  81962684 ENSG00000197943      +     PLCG2\n",
      "58:  chr16  86510526  86515421 ENSG00000103241      +     FOXF1\n",
      "59:  chr16  90056565  90092071 ENSG00000126856      -     PRDM7\n",
      "60:  chr17   1716522   1738598 ENSG00000167716      +     WDR81\n",
      "61:  chr17   5208919   5234859 ENSG00000161929      -     SCIMP\n",
      "62:  chr17  18108705  18179799 ENSG00000091536      +    MYO15A\n",
      "63:  chr17  44345261  44353105 ENSG00000030582      +       GRN\n",
      "64:  chr17  46762505  46833057 ENSG00000108379      -      WNT3\n",
      "65:  chr17  49210410  49223224 ENSG00000108798      +      ABI3\n",
      "66:  chr17  58301230  58328794 ENSG00000005379      -   TSPOAP1\n",
      "67:  chr17  63477060  63498379 ENSG00000159640      +       ACE\n",
      "68:  chr20    407497    432138 ENSG00000125826      +     RBCK1\n",
      "69:  chr20  56412111  56460386 ENSG00000087589      +     CASS4\n",
      "70:  chr20  63739775  63744049 ENSG00000125520      +  SLC2A4RG\n",
      "71:  chr19   1040106   1065571 ENSG00000064687      +     ABCA7\n",
      "72:  chr19   1852398   1863578 ENSG00000129911      -     KLF16\n",
      "73:  chr19  49948984  49961171 ENSG00000161640      -  SIGLEC11\n",
      "74:  chr19  54273811  54281183 ENSG00000131042      -    LILRB2\n",
      "75:  chr21  25880549  26171127 ENSG00000142192      -       APP\n",
      "76:  chr21  26835754  26845408 ENSG00000154734      -   ADAMTS1\n",
      "      #chr     start       end         gene_id strand gene_name\n",
      "    is_in_cis_window cis_window_lower_bound cis_window_upper_bound\n",
      "              <lgcl>                  <num>                  <num>\n",
      " 1:            FALSE              108809567              109897917\n",
      " 2:            FALSE              206996146              208141764\n",
      " 3:            FALSE                8988485               10056731\n",
      " 4:            FALSE               36750501               37824832\n",
      " 5:            FALSE              105244911              106394273\n",
      " 6:            FALSE              126548026              127607287\n",
      " 7:             TRUE              202374260              203514797\n",
      " 8:            FALSE              232559966              233707902\n",
      " 9:            FALSE              154524123              155683703\n",
      "10:            FALSE                 486996                1504563\n",
      "11:            FALSE                9986394               11184767\n",
      "12:            FALSE               39691052               40746966\n",
      "13:            FALSE               14204799               15371777\n",
      "14:            FALSE               86117927               87120961\n",
      "15:             TRUE              150529944              151593576\n",
      "16:            FALSE              179600794              180709210\n",
      "17:            FALSE               32128178               33143683\n",
      "18:            FALSE               40526894               41539220\n",
      "19:            FALSE               40658505               41663185\n",
      "20:            FALSE               40689748               41701148\n",
      "21:            FALSE               46977788               48127262\n",
      "22:            FALSE              113555585              114843044\n",
      "23:             TRUE                7140710                8468019\n",
      "24:             TRUE                7613183                8762686\n",
      "25:            FALSE               11711269               12743366\n",
      "26:            FALSE               27330572               28680794\n",
      "27:            FALSE               37183842               38451935\n",
      "28:            FALSE               54252249               55259973\n",
      "29:            FALSE               99807701              100822195\n",
      "30:            FALSE              142890288              143908855\n",
      "31:            FALSE               11342523               12369532\n",
      "32:            FALSE               26811481               27959390\n",
      "33:            FALSE               27096916               28114699\n",
      "34:            FALSE              143598632              144608123\n",
      "35:            FALSE              104281005              105428154\n",
      "36:             TRUE               46854859               47878546\n",
      "37:            FALSE               59685656               60818079\n",
      "38:            FALSE               85744752               86778812\n",
      "39:            FALSE              120952313              122133762\n",
      "40:            FALSE               10953945               12111753\n",
      "41:            FALSE               59526297               61233489\n",
      "42:            FALSE               79954165               81033123\n",
      "43:            FALSE               95689170               96771586\n",
      "44:            FALSE              121874695              122942601\n",
      "45:            FALSE              112721049              113798584\n",
      "46:            FALSE               52357267               53452434\n",
      "47:            FALSE               91822580               93001480\n",
      "48:            FALSE               50202265               51265705\n",
      "49:            FALSE               58271191               59361899\n",
      "50:            FALSE               62776017               63809125\n",
      "51:            FALSE               63594122               64646089\n",
      "52:            FALSE               78421057               79449573\n",
      "53:            FALSE               29505513               30523269\n",
      "54:            FALSE               30606106               31612790\n",
      "55:            FALSE               70079894               71160681\n",
      "56:            FALSE               79085842               80100736\n",
      "57:            FALSE               81239096               82462684\n",
      "58:             TRUE               86010526               87015421\n",
      "59:            FALSE               89556565               90592071\n",
      "60:            FALSE                1216522                2238598\n",
      "61:            FALSE                4708919                5734859\n",
      "62:            FALSE               17608705               18679799\n",
      "63:            FALSE               43845261               44853105\n",
      "64:            FALSE               46262505               47333057\n",
      "65:            FALSE               48710410               49723224\n",
      "66:            FALSE               57801230               58828794\n",
      "67:            FALSE               62977060               63998379\n",
      "68:            FALSE                 -92503                 932138\n",
      "69:            FALSE               55912111               56960386\n",
      "70:            FALSE               63239775               64244049\n",
      "71:            FALSE                 540106                1565571\n",
      "72:            FALSE                1352398                2363578\n",
      "73:            FALSE               49448984               50461171\n",
      "74:            FALSE               53773811               54781183\n",
      "75:            FALSE               25380549               26671127\n",
      "76:            FALSE               26335754               27345408\n",
      "    is_in_cis_window cis_window_lower_bound cis_window_upper_bound\n",
      "                                                                                                                                                                                                                                                                                                                                                                                                                                                                                                                                                                                                                                                                                                                                                                                                                                                                                                                                                                                                                                                                                                                                                                                                                                                                                                                                                                                                                                                                                                                                                                                                                                                                                                                                                                                                                                                                                                                                                                                                                                                                                                                                                                                                                                                                                                                                                                                                                                                                                                                                                                                                                                                                                                                                                                                                                                                                                                                                                                                                                                                                                                                                                                                                                                                                                                                                                                                                                                                                                                                                            contained_variants\n",
      "                                                                                                                                                                                                                                                                                                                                                                                                                                                                                                                                                                                                                                                                                                                                                                                                                                                                                                                                                                                                                                                                                                                                                                                                                                                                                                                                                                                                                                                                                                                                                                                                                                                                                                                                                                                                                                                                                                                                                                                                                                                                                                                                                                                                                                                                                                                                                                                                                                                                                                                                                                                                                                                                                                                                                                                                                                                                                                                                                                                                                                                                                                                                                                                                                                                                                                                                                                                                                                                                                                                                                        <char>\n",
      " 1:                                                                                                                                                                                                                                                                                                                                                                                                                                                                                                                                                                                                                                                                                                                                                                                                                                                                                                                                                                                                                                                                                                                                                                                                                                                                                                                                                                                                                                                                                                                                                                                                                                                                                                                                                                                                                                                                                                                                                                                                                                                                                                                                                                                                                                                                                                                                                                                                                                                                                                                                                                                                                                                                                                                                                                                                                                                                                                                                                                                                                                                                                                                                                                                                                                                                                                                                                                                                                                                                                                                                                       <NA>\n",
      " 2:                                                                                                                                                                                                                                                                                                                                                                                                                                                                                                                                                                                                                                                                                                                                                                                                                                                                                                                                                                                                                                                                                                                                                                                                                                                                                                                                                                                                                                                                                                                                                                                                                                                                                                                                                                                                                                                                                                                                                                                                                                                                                                                                                                                                                                                                                                                                                                                                                                                                                                                                                                                                                                                                                                                                                                                                                                                                                                                                                                                                                                                                                                                                                                                                                                                                                                                                                                                                                                                                                                                                                       <NA>\n",
      " 3:                                                                                                                                                                                                                                                                                                                                                                                                                                                                                                                                                                                                                                                                                                                                                                                                                                                                                                                                                                                                                                                                                                                                                                                                                                                                                                                                                                                                                                                                                                                                                                                                                                                                                                                                                                                                                                                                                                                                                                                                                                                                                                                                                                                                                                                                                                                                                                                                                                                                                                                                                                                                                                                                                                                                                                                                                                                                                                                                                                                                                                                                                                                                                                                                                                                                                                                                                                                                                                                                                                                                                       <NA>\n",
      " 4:                                                                                                                                                                                                                                                                                                                                                                                                                                                                                                                                                                                                                                                                                                                                                                                                                                                                                                                                                                                                                                                                                                                                                                                                                                                                                                                                                                                                                                                                                                                                                                                                                                                                                                                                                                                                                                                                                                                                                                                                                                                                                                                                                                                                                                                                                                                                                                                                                                                                                                                                                                                                                                                                                                                                                                                                                                                                                                                                                                                                                                                                                                                                                                                                                                                                                                                                                                                                                                                                                                                                                       <NA>\n",
      " 5:                                                                                                                                                                                                                                                                                                                                                                                                                                                                                                                                                                                                                                                                                                                                                                                                                                                                                                                                                                                                                                                                                                                                                                                                                                                                                                                                                                                                                                                                                                                                                                                                                                                                                                                                                                                                                                                                                                                                                                                                                                                                                                                                                                                                                                                                                                                                                                                                                                                                                                                                                                                                                                                                                                                                                                                                                                                                                                                                                                                                                                                                                                                                                                                                                                                                                                                                                                                                                                                                                                                                                       <NA>\n",
      " 6:                                                                                                                                                                                                                                                                                                                                                                                                                                                                                                                                                                                                                                                                                                                                                                                                                                                                                                                                                                                                                                                                                                                                                                                                                                                                                                                                                                                                                                                                                                                                                                                                                                                                                                                                                                                                                                                                                                                                                                                                                                                                                                                                                                                                                                                                                                                                                                                                                                                                                                                                                                                                                                                                                                                                                                                                                                                                                                                                                                                                                                                                                                                                                                                                                                                                                                                                                                                                                                                                                                                                                       <NA>\n",
      " 7: 2:202799252:C:T;2:202800206:C:G;2:202802803:G:T;2:202807683:C:T;2:202808349:A:C;2:202808840:A:T;2:202809565:G:A;2:202811382:C:T;2:202813935:A:T;2:202814460:C:T;2:202814583:T:C;2:202816231:T:C;2:202817581:C:G;2:202819267:A:G;2:202820396:A:G;2:202821005:C:T;2:202823577:A:T;2:202825191:A:G;2:202825324:T:G;2:202828037:A:G;2:202829191:A:C;2:202831103:G:C;2:202832369:C:A;2:202833084:GA:G;2:202833577:C:T;2:202833747:A:G;2:202834014:T:C;2:202834656:C:T;2:202836147:C:T;2:202836281:T:G;2:202841710:C:T;2:202843029:A:G;2:202843155:G:A;2:202845053:C:G;2:202845274:G:C;2:202846858:T:A;2:202848557:C:A;2:202850696:C:T;2:202850791:C:T;2:202853959:T:C;2:202854146:A:G;2:202854305:G:A;2:202856051:T:C;2:202856591:C:T;2:202857010:A:T;2:202860954:A:G;2:202860955:A:C;2:202861260:T:C;2:202861778:G:C;2:202863724:G:A;2:202864454:C:G;2:202865040:G:A;2:202869266:G:A;2:202871528:C:G;2:202873047:A:G;2:202873941:G:A;2:202875133:C:G;2:202875247:T:G;2:202875287:C:T;2:202875547:A:C;2:202877269:G:GGAAAA;2:202879722:G:A;2:202879731:C:T;2:202879887:G:A;2:202881162:T:C;2:202882093:A:G;2:202882799:A:G;2:202884053:T:C;2:202884716:T:C;2:202885549:C:T;2:202887209:C:G;2:202887258:A:G;2:202887295:G:A;2:202888293:G:A;2:202888349:T:C;2:202891954:G:A;2:202893193:A:G;2:202893673:T:C;2:202893798:C:A;2:202893828:C:T;2:202896433:TA:T;2:202896954:G:A;2:202898353:T:G;2:202900086:T:A;2:202901033:T:C;2:202901840:T:C;2:202904063:G:A;2:202904389:C:T;2:202905080:C:T;2:202906537:G:A;2:202906929:C:G;2:202908514:G:A;2:202908963:A:G;2:202910989:G:A;2:202913180:G:A;2:202913477:A:T;2:202915792:A:G;2:202917018:G:A;2:202918286:C:T;2:202918761:G:A;2:202922089:A:G;2:202922397:A:G;2:202922682:A:G;2:202924227:T:C;2:202924956:C:T;2:202926166:T:C;2:202926610:G:A;2:202927189:G:A;2:202927905:A:G;2:202929539:T:C;2:202929716:G:A;2:202932091:C:G;2:202933595:C:T;2:202933642:TC:T;2:202936503:T:G;2:202940829:G:A;2:202941714:GTTAATTTT:G;2:202942360:A:T;2:202944112:G:A;2:202946905:G:A;2:202947189:A:C;2:202949971:A:T;2:202951017:T:A;2:202951771:G:A;2:202954748:A:G;2:202957070:T:C;2:202958168:C:G;2:202958677:C:T;2:202960383:A:G;2:202961673:G:A;2:202962709:A:G;2:202962757:T:C;2:202962952:C:G;2:202962967:T:TA;2:202963469:G:A;2:202964074:T:TATAA;2:202964502:A:C;2:202964561:A:G;2:202965505:T:C;2:202966128:A:G;2:202966489:T:A;2:202966529:A:T;2:202967397:A:G;2:202968295:G:A;2:202969154:A:G;2:202970454:A:C;2:202971784:G:C;2:202974238:T:C;2:202975842:C:T;2:202976250:G:T;2:202977938:C:T;2:202979757:C:T;2:202981105:A:G;2:202981273:T:C;2:202982094:A:T;2:202982659:G:A;2:202982694:A:G;2:202983679:G:A;2:202985288:C:G;2:202986615:CAGTT:C;2:202990619:C:T;2:202994668:T:C;2:202996390:T:G;2:202997187:G:A;2:203000792:T:C;2:203001613:T:C;2:203002134:A:G;2:203005124:C:T;2:203009020:G:A;2:203012510:C:T;2:203016111:G:A;2:203016269:T:C;2:203018470:C:G;2:203019585:A:C;2:203028044:T:C;2:203029276:C:A;2:203033223:A:G;2:203039582:T:C;2:203039583:G:A;2:203051764:T:G;2:203060637:G:A;2:203061548:A:G;2:203062864:T:C;2:203067453:A:G;2:203068616:A:G;2:203073185:T:A;2:203074917:A:G;2:203078445:A:G;2:203087336:C:G;2:203102474:A:G;2:203104781:G:A;2:203111235:G:T;2:203115310:G:A;2:203119217:C:A;2:203123083:C:G;2:203126066:T:G;2:203130682:G:A;2:203140349:A:G;2:203144334:T:G;2:203151249:T:C;2:203162978:G:A;2:203166414:G:A;2:203189418:C:T;2:203191955:T:C;2:203200116:C:T;2:203206233:A:G;2:203216952:C:T;2:203256422:C:G;2:203262597:AAC:A;2:203289954:A:T;2:203293652:G:A;2:203331895:C:T\n",
      " 8:                                                                                                                                                                                                                                                                                                                                                                                                                                                                                                                                                                                                                                                                                                                                                                                                                                                                                                                                                                                                                                                                                                                                                                                                                                                                                                                                                                                                                                                                                                                                                                                                                                                                                                                                                                                                                                                                                                                                                                                                                                                                                                                                                                                                                                                                                                                                                                                                                                                                                                                                                                                                                                                                                                                                                                                                                                                                                                                                                                                                                                                                                                                                                                                                                                                                                                                                                                                                                                                                                                                                                       <NA>\n",
      " 9:                                                                                                                                                                                                                                                                                                                                                                                                                                                                                                                                                                                                                                                                                                                                                                                                                                                                                                                                                                                                                                                                                                                                                                                                                                                                                                                                                                                                                                                                                                                                                                                                                                                                                                                                                                                                                                                                                                                                                                                                                                                                                                                                                                                                                                                                                                                                                                                                                                                                                                                                                                                                                                                                                                                                                                                                                                                                                                                                                                                                                                                                                                                                                                                                                                                                                                                                                                                                                                                                                                                                                       <NA>\n",
      "10:                                                                                                                                                                                                                                                                                                                                                                                                                                                                                                                                                                                                                                                                                                                                                                                                                                                                                                                                                                                                                                                                                                                                                                                                                                                                                                                                                                                                                                                                                                                                                                                                                                                                                                                                                                                                                                                                                                                                                                                                                                                                                                                                                                                                                                                                                                                                                                                                                                                                                                                                                                                                                                                                                                                                                                                                                                                                                                                                                                                                                                                                                                                                                                                                                                                                                                                                                                                                                                                                                                                                                       <NA>\n",
      "11:                                                                                                                                                                                                                                                                                                                                                                                                                                                                                                                                                                                                                                                                                                                                                                                                                                                                                                                                                                                                                                                                                                                                                                                                                                                                                                                                                                                                                                                                                                                                                                                                                                                                                                                                                                                                                                                                                                                                                                                                                                                                                                                                                                                                                                                                                                                                                                                                                                                                                                                                                                                                                                                                                                                                                                                                                                                                                                                                                                                                                                                                                                                                                                                                                                                                                                                                                                                                                                                                                                                                                       <NA>\n",
      "12:                                                                                                                                                                                                                                                                                                                                                                                                                                                                                                                                                                                                                                                                                                                                                                                                                                                                                                                                                                                                                                                                                                                                                                                                                                                                                                                                                                                                                                                                                                                                                                                                                                                                                                                                                                                                                                                                                                                                                                                                                                                                                                                                                                                                                                                                                                                                                                                                                                                                                                                                                                                                                                                                                                                                                                                                                                                                                                                                                                                                                                                                                                                                                                                                                                                                                                                                                                                                                                                                                                                                                       <NA>\n",
      "13:                                                                                                                                                                                                                                                                                                                                                                                                                                                                                                                                                                                                                                                                                                                                                                                                                                                                                                                                                                                                                                                                                                                                                                                                                                                                                                                                                                                                                                                                                                                                                                                                                                                                                                                                                                                                                                                                                                                                                                                                                                                                                                                                                                                                                                                                                                                                                                                                                                                                                                                                                                                                                                                                                                                                                                                                                                                                                                                                                                                                                                                                                                                                                                                                                                                                                                                                                                                                                                                                                                                                                       <NA>\n",
      "14:                                                                                                                                                                                                                                                                                                                                                                                                                                                                                                                                                                                                                                                                                                                                                                                                                                                                                                                                                                                                                                                                                                                                                                                                                                                                                                                                                                                                                                                                                                                                                                                                                                                                                                                                                                                                                                                                                                                                                                                                                                                                                                                                                                                                                                                                                                                                                                                                                                                                                                                                                                                                                                                                                                                                                                                                                                                                                                                                                                                                                                                                                                                                                                                                                                                                                                                                                                                                                                                                                                                                                       <NA>\n",
      "15:                                                                                                                                                                                                                                                                                                                                                                                                                                                                                                                                                                                                                                                                                                                                                                                                                                                                                                                                                                                                                                                                                                                                                                                                                                                                                                                                                                                                                                                                                                                                                                                                                                                                                                                                                                                                                                                                                                                                                                                                                                                                                                                                                                                                                                                                                                                                                                                                                                                                                                                                                                                                                                                                                                                                                                                                                                                                                                                                                                                                                                                                                                                                                                                                                                                                                                                                                                                                                                                                                                                                            5:151052827:C:T\n",
      "16:                                                                                                                                                                                                                                                                                                                                                                                                                                                                                                                                                                                                                                                                                                                                                                                                                                                                                                                                                                                                                                                                                                                                                                                                                                                                                                                                                                                                                                                                                                                                                                                                                                                                                                                                                                                                                                                                                                                                                                                                                                                                                                                                                                                                                                                                                                                                                                                                                                                                                                                                                                                                                                                                                                                                                                                                                                                                                                                                                                                                                                                                                                                                                                                                                                                                                                                                                                                                                                                                                                                                                       <NA>\n",
      "17:                                                                                                                                                                                                                                                                                                                                                                                                                                                                                                                                                                                                                                                                                                                                                                                                                                                                                                                                                                                                                                                                                                                                                                                                                                                                                                                                                                                                                                                                                                                                                                                                                                                                                                                                                                                                                                                                                                                                                                                                                                                                                                                                                                                                                                                                                                                                                                                                                                                                                                                                                                                                                                                                                                                                                                                                                                                                                                                                                                                                                                                                                                                                                                                                                                                                                                                                                                                                                                                                                                                                                       <NA>\n",
      "18:                                                                                                                                                                                                                                                                                                                                                                                                                                                                                                                                                                                                                                                                                                                                                                                                                                                                                                                                                                                                                                                                                                                                                                                                                                                                                                                                                                                                                                                                                                                                                                                                                                                                                                                                                                                                                                                                                                                                                                                                                                                                                                                                                                                                                                                                                                                                                                                                                                                                                                                                                                                                                                                                                                                                                                                                                                                                                                                                                                                                                                                                                                                                                                                                                                                                                                                                                                                                                                                                                                                                                       <NA>\n",
      "19:                                                                                                                                                                                                                                                                                                                                                                                                                                                                                                                                                                                                                                                                                                                                                                                                                                                                                                                                                                                                                                                                                                                                                                                                                                                                                                                                                                                                                                                                                                                                                                                                                                                                                                                                                                                                                                                                                                                                                                                                                                                                                                                                                                                                                                                                                                                                                                                                                                                                                                                                                                                                                                                                                                                                                                                                                                                                                                                                                                                                                                                                                                                                                                                                                                                                                                                                                                                                                                                                                                                                                       <NA>\n",
      "20:                                                                                                                                                                                                                                                                                                                                                                                                                                                                                                                                                                                                                                                                                                                                                                                                                                                                                                                                                                                                                                                                                                                                                                                                                                                                                                                                                                                                                                                                                                                                                                                                                                                                                                                                                                                                                                                                                                                                                                                                                                                                                                                                                                                                                                                                                                                                                                                                                                                                                                                                                                                                                                                                                                                                                                                                                                                                                                                                                                                                                                                                                                                                                                                                                                                                                                                                                                                                                                                                                                                                                       <NA>\n",
      "21:                                                                                                                                                                                                                                                                                                                                                                                                                                                                                                                                                                                                                                                                                                                                                                                                                                                                                                                                                                                                                                                                                                                                                                                                                                                                                                                                                                                                                                                                                                                                                                                                                                                                                                                                                                                                                                                                                                                                                                                                                                                                                                                                                                                                                                                                                                                                                                                                                                                                                                                                                                                                                                                                                                                                                                                                                                                                                                                                                                                                                                                                                                                                                                                                                                                                                                                                                                                                                                                                                                                                                       <NA>\n",
      "22:                                                                                                                                                                                                                                                                                                                                                                                                                                                                                                                                                                                                                                                                                                                                                                                                                                                                                                                                                                                                                                                                                                                                                                                                                                                                                                                                                                                                                                                                                                                                                                                                                                                                                                                                                                                                                                                                                                                                                                                                                                                                                                                                                                                                                                                                                                                                                                                                                                                                                                                                                                                                                                                                                                                                                                                                                                                                                                                                                                                                                                                                                                                                                                                                                                                                                                                                                                                                                                                                                                                                                       <NA>\n",
      "23:                                                                                                                                                                                                                                                                                                                                                                                                                                                                                                                                                                                                                                                                                                                                                                                                                                                                                                                                                                                                                                                                                                                                                                                                                                                                                                                                                                                                                                                                                                                                                                                                                                                                                                                                                                                                                                                                                                                                                                                                                                                                                                                                                                                                                                                                                                                                                                                                                                                                                                                                                                                                                                                                                                                                                                                                                                                                                                                                                                                                                                                                                                                                                                                                                                                                                                                                                                                                               7:7648209:G:A;7:7648912:A:G;7:7649522:G:A;7:7650736:C:T;7:7651545:C:T;7:7652852:G:T;7:7655552:T:C;7:7656483:C:G;7:7657263:GC:G;7:7657549:A:G\n",
      "24:                                                                                                                                                                                                                                                                                                                                                                                                                                                                                                                                                                                                                                                                                                                                                                                                                                                                                                                                                                                                                                                                                                                                                                                                                                                                                                                                                                                                                                                                                                                                                                                                                                                                                                                                                                                                                                                                                                                                                                                                                                                                                                                                                                                                                                                                                                                                                                                                                                                                                                                                                                                                                                                                                                                                                                                                                                                                                                                                                                                                                                                                                                                                                                                                                                                                                                                                                                                                               7:7648209:G:A;7:7648912:A:G;7:7649522:G:A;7:7650736:C:T;7:7651545:C:T;7:7652852:G:T;7:7655552:T:C;7:7656483:C:G;7:7657263:GC:G;7:7657549:A:G\n",
      "25:                                                                                                                                                                                                                                                                                                                                                                                                                                                                                                                                                                                                                                                                                                                                                                                                                                                                                                                                                                                                                                                                                                                                                                                                                                                                                                                                                                                                                                                                                                                                                                                                                                                                                                                                                                                                                                                                                                                                                                                                                                                                                                                                                                                                                                                                                                                                                                                                                                                                                                                                                                                                                                                                                                                                                                                                                                                                                                                                                                                                                                                                                                                                                                                                                                                                                                                                                                                                                                                                                                                                                       <NA>\n",
      "26:                                                                                                                                                                                                                                                                                                                                                                                                                                                                                                                                                                                                                                                                                                                                                                                                                                                                                                                                                                                                                                                                                                                                                                                                                                                                                                                                                                                                                                                                                                                                                                                                                                                                                                                                                                                                                                                                                                                                                                                                                                                                                                                                                                                                                                                                                                                                                                                                                                                                                                                                                                                                                                                                                                                                                                                                                                                                                                                                                                                                                                                                                                                                                                                                                                                                                                                                                                                                                                                                                                                                                       <NA>\n",
      "27:                                                                                                                                                                                                                                                                                                                                                                                                                                                                                                                                                                                                                                                                                                                                                                                                                                                                                                                                                                                                                                                                                                                                                                                                                                                                                                                                                                                                                                                                                                                                                                                                                                                                                                                                                                                                                                                                                                                                                                                                                                                                                                                                                                                                                                                                                                                                                                                                                                                                                                                                                                                                                                                                                                                                                                                                                                                                                                                                                                                                                                                                                                                                                                                                                                                                                                                                                                                                                                                                                                                                                       <NA>\n",
      "28:                                                                                                                                                                                                                                                                                                                                                                                                                                                                                                                                                                                                                                                                                                                                                                                                                                                                                                                                                                                                                                                                                                                                                                                                                                                                                                                                                                                                                                                                                                                                                                                                                                                                                                                                                                                                                                                                                                                                                                                                                                                                                                                                                                                                                                                                                                                                                                                                                                                                                                                                                                                                                                                                                                                                                                                                                                                                                                                                                                                                                                                                                                                                                                                                                                                                                                                                                                                                                                                                                                                                                       <NA>\n",
      "29:                                                                                                                                                                                                                                                                                                                                                                                                                                                                                                                                                                                                                                                                                                                                                                                                                                                                                                                                                                                                                                                                                                                                                                                                                                                                                                                                                                                                                                                                                                                                                                                                                                                                                                                                                                                                                                                                                                                                                                                                                                                                                                                                                                                                                                                                                                                                                                                                                                                                                                                                                                                                                                                                                                                                                                                                                                                                                                                                                                                                                                                                                                                                                                                                                                                                                                                                                                                                                                                                                                                                                       <NA>\n",
      "30:                                                                                                                                                                                                                                                                                                                                                                                                                                                                                                                                                                                                                                                                                                                                                                                                                                                                                                                                                                                                                                                                                                                                                                                                                                                                                                                                                                                                                                                                                                                                                                                                                                                                                                                                                                                                                                                                                                                                                                                                                                                                                                                                                                                                                                                                                                                                                                                                                                                                                                                                                                                                                                                                                                                                                                                                                                                                                                                                                                                                                                                                                                                                                                                                                                                                                                                                                                                                                                                                                                                                                       <NA>\n",
      "31:                                                                                                                                                                                                                                                                                                                                                                                                                                                                                                                                                                                                                                                                                                                                                                                                                                                                                                                                                                                                                                                                                                                                                                                                                                                                                                                                                                                                                                                                                                                                                                                                                                                                                                                                                                                                                                                                                                                                                                                                                                                                                                                                                                                                                                                                                                                                                                                                                                                                                                                                                                                                                                                                                                                                                                                                                                                                                                                                                                                                                                                                                                                                                                                                                                                                                                                                                                                                                                                                                                                                                       <NA>\n",
      "32:                                                                                                                                                                                                                                                                                                                                                                                                                                                                                                                                                                                                                                                                                                                                                                                                                                                                                                                                                                                                                                                                                                                                                                                                                                                                                                                                                                                                                                                                                                                                                                                                                                                                                                                                                                                                                                                                                                                                                                                                                                                                                                                                                                                                                                                                                                                                                                                                                                                                                                                                                                                                                                                                                                                                                                                                                                                                                                                                                                                                                                                                                                                                                                                                                                                                                                                                                                                                                                                                                                                                                       <NA>\n",
      "33:                                                                                                                                                                                                                                                                                                                                                                                                                                                                                                                                                                                                                                                                                                                                                                                                                                                                                                                                                                                                                                                                                                                                                                                                                                                                                                                                                                                                                                                                                                                                                                                                                                                                                                                                                                                                                                                                                                                                                                                                                                                                                                                                                                                                                                                                                                                                                                                                                                                                                                                                                                                                                                                                                                                                                                                                                                                                                                                                                                                                                                                                                                                                                                                                                                                                                                                                                                                                                                                                                                                                                       <NA>\n",
      "34:                                                                                                                                                                                                                                                                                                                                                                                                                                                                                                                                                                                                                                                                                                                                                                                                                                                                                                                                                                                                                                                                                                                                                                                                                                                                                                                                                                                                                                                                                                                                                                                                                                                                                                                                                                                                                                                                                                                                                                                                                                                                                                                                                                                                                                                                                                                                                                                                                                                                                                                                                                                                                                                                                                                                                                                                                                                                                                                                                                                                                                                                                                                                                                                                                                                                                                                                                                                                                                                                                                                                                       <NA>\n",
      "35:                                                                                                                                                                                                                                                                                                                                                                                                                                                                                                                                                                                                                                                                                                                                                                                                                                                                                                                                                                                                                                                                                                                                                                                                                                                                                                                                                                                                                                                                                                                                                                                                                                                                                                                                                                                                                                                                                                                                                                                                                                                                                                                                                                                                                                                                                                                                                                                                                                                                                                                                                                                                                                                                                                                                                                                                                                                                                                                                                                                                                                                                                                                                                                                                                                                                                                                                                                                                                                                                                                                                                       <NA>\n",
      "36:                                                                                                                                                                                                                                                                                                                                                                                                                                                                                                                                                                                                                                                                                                                                                                                                                                                                                                                                                                                                                                                                                                                                                                                                                                                                                                                                                                                                                                                                                                                                                                                                                                                                                                                                                                                                                                                                                                                                                                                                                                                                                                                                                                                                                                                                                                                                                                                                                                                                                                                                                                                                                                                                                                                                                                                                                                                                                                                                                                                                                                                                                                                                                                                                                                                                                                                                                                                            11:46936748:G:T;11:46955857:C:T;11:46960612:A:G;11:46961687:A:G;11:46991890:G:A;11:47015399:G:A;11:47078316:C:T;11:47098515:T:C;11:47146703:A:G;11:47215808:C:T\n",
      "37:                                                                                                                                                                                                                                                                                                                                                                                                                                                                                                                                                                                                                                                                                                                                                                                                                                                                                                                                                                                                                                                                                                                                                                                                                                                                                                                                                                                                                                                                                                                                                                                                                                                                                                                                                                                                                                                                                                                                                                                                                                                                                                                                                                                                                                                                                                                                                                                                                                                                                                                                                                                                                                                                                                                                                                                                                                                                                                                                                                                                                                                                                                                                                                                                                                                                                                                                                                                                                                                                                                                                                       <NA>\n",
      "38:                                                                                                                                                                                                                                                                                                                                                                                                                                                                                                                                                                                                                                                                                                                                                                                                                                                                                                                                                                                                                                                                                                                                                                                                                                                                                                                                                                                                                                                                                                                                                                                                                                                                                                                                                                                                                                                                                                                                                                                                                                                                                                                                                                                                                                                                                                                                                                                                                                                                                                                                                                                                                                                                                                                                                                                                                                                                                                                                                                                                                                                                                                                                                                                                                                                                                                                                                                                                                                                                                                                                                       <NA>\n",
      "39:                                                                                                                                                                                                                                                                                                                                                                                                                                                                                                                                                                                                                                                                                                                                                                                                                                                                                                                                                                                                                                                                                                                                                                                                                                                                                                                                                                                                                                                                                                                                                                                                                                                                                                                                                                                                                                                                                                                                                                                                                                                                                                                                                                                                                                                                                                                                                                                                                                                                                                                                                                                                                                                                                                                                                                                                                                                                                                                                                                                                                                                                                                                                                                                                                                                                                                                                                                                                                                                                                                                                                       <NA>\n",
      "40:                                                                                                                                                                                                                                                                                                                                                                                                                                                                                                                                                                                                                                                                                                                                                                                                                                                                                                                                                                                                                                                                                                                                                                                                                                                                                                                                                                                                                                                                                                                                                                                                                                                                                                                                                                                                                                                                                                                                                                                                                                                                                                                                                                                                                                                                                                                                                                                                                                                                                                                                                                                                                                                                                                                                                                                                                                                                                                                                                                                                                                                                                                                                                                                                                                                                                                                                                                                                                                                                                                                                                       <NA>\n",
      "41:                                                                                                                                                                                                                                                                                                                                                                                                                                                                                                                                                                                                                                                                                                                                                                                                                                                                                                                                                                                                                                                                                                                                                                                                                                                                                                                                                                                                                                                                                                                                                                                                                                                                                                                                                                                                                                                                                                                                                                                                                                                                                                                                                                                                                                                                                                                                                                                                                                                                                                                                                                                                                                                                                                                                                                                                                                                                                                                                                                                                                                                                                                                                                                                                                                                                                                                                                                                                                                                                                                                                                       <NA>\n",
      "42:                                                                                                                                                                                                                                                                                                                                                                                                                                                                                                                                                                                                                                                                                                                                                                                                                                                                                                                                                                                                                                                                                                                                                                                                                                                                                                                                                                                                                                                                                                                                                                                                                                                                                                                                                                                                                                                                                                                                                                                                                                                                                                                                                                                                                                                                                                                                                                                                                                                                                                                                                                                                                                                                                                                                                                                                                                                                                                                                                                                                                                                                                                                                                                                                                                                                                                                                                                                                                                                                                                                                                       <NA>\n",
      "43:                                                                                                                                                                                                                                                                                                                                                                                                                                                                                                                                                                                                                                                                                                                                                                                                                                                                                                                                                                                                                                                                                                                                                                                                                                                                                                                                                                                                                                                                                                                                                                                                                                                                                                                                                                                                                                                                                                                                                                                                                                                                                                                                                                                                                                                                                                                                                                                                                                                                                                                                                                                                                                                                                                                                                                                                                                                                                                                                                                                                                                                                                                                                                                                                                                                                                                                                                                                                                                                                                                                                                       <NA>\n",
      "44:                                                                                                                                                                                                                                                                                                                                                                                                                                                                                                                                                                                                                                                                                                                                                                                                                                                                                                                                                                                                                                                                                                                                                                                                                                                                                                                                                                                                                                                                                                                                                                                                                                                                                                                                                                                                                                                                                                                                                                                                                                                                                                                                                                                                                                                                                                                                                                                                                                                                                                                                                                                                                                                                                                                                                                                                                                                                                                                                                                                                                                                                                                                                                                                                                                                                                                                                                                                                                                                                                                                                                       <NA>\n",
      "45:                                                                                                                                                                                                                                                                                                                                                                                                                                                                                                                                                                                                                                                                                                                                                                                                                                                                                                                                                                                                                                                                                                                                                                                                                                                                                                                                                                                                                                                                                                                                                                                                                                                                                                                                                                                                                                                                                                                                                                                                                                                                                                                                                                                                                                                                                                                                                                                                                                                                                                                                                                                                                                                                                                                                                                                                                                                                                                                                                                                                                                                                                                                                                                                                                                                                                                                                                                                                                                                                                                                                                       <NA>\n",
      "46:                                                                                                                                                                                                                                                                                                                                                                                                                                                                                                                                                                                                                                                                                                                                                                                                                                                                                                                                                                                                                                                                                                                                                                                                                                                                                                                                                                                                                                                                                                                                                                                                                                                                                                                                                                                                                                                                                                                                                                                                                                                                                                                                                                                                                                                                                                                                                                                                                                                                                                                                                                                                                                                                                                                                                                                                                                                                                                                                                                                                                                                                                                                                                                                                                                                                                                                                                                                                                                                                                                                                                       <NA>\n",
      "47:                                                                                                                                                                                                                                                                                                                                                                                                                                                                                                                                                                                                                                                                                                                                                                                                                                                                                                                                                                                                                                                                                                                                                                                                                                                                                                                                                                                                                                                                                                                                                                                                                                                                                                                                                                                                                                                                                                                                                                                                                                                                                                                                                                                                                                                                                                                                                                                                                                                                                                                                                                                                                                                                                                                                                                                                                                                                                                                                                                                                                                                                                                                                                                                                                                                                                                                                                                                                                                                                                                                                                       <NA>\n",
      "48:                                                                                                                                                                                                                                                                                                                                                                                                                                                                                                                                                                                                                                                                                                                                                                                                                                                                                                                                                                                                                                                                                                                                                                                                                                                                                                                                                                                                                                                                                                                                                                                                                                                                                                                                                                                                                                                                                                                                                                                                                                                                                                                                                                                                                                                                                                                                                                                                                                                                                                                                                                                                                                                                                                                                                                                                                                                                                                                                                                                                                                                                                                                                                                                                                                                                                                                                                                                                                                                                                                                                                       <NA>\n",
      "49:                                                                                                                                                                                                                                                                                                                                                                                                                                                                                                                                                                                                                                                                                                                                                                                                                                                                                                                                                                                                                                                                                                                                                                                                                                                                                                                                                                                                                                                                                                                                                                                                                                                                                                                                                                                                                                                                                                                                                                                                                                                                                                                                                                                                                                                                                                                                                                                                                                                                                                                                                                                                                                                                                                                                                                                                                                                                                                                                                                                                                                                                                                                                                                                                                                                                                                                                                                                                                                                                                                                                                       <NA>\n",
      "50:                                                                                                                                                                                                                                                                                                                                                                                                                                                                                                                                                                                                                                                                                                                                                                                                                                                                                                                                                                                                                                                                                                                                                                                                                                                                                                                                                                                                                                                                                                                                                                                                                                                                                                                                                                                                                                                                                                                                                                                                                                                                                                                                                                                                                                                                                                                                                                                                                                                                                                                                                                                                                                                                                                                                                                                                                                                                                                                                                                                                                                                                                                                                                                                                                                                                                                                                                                                                                                                                                                                                                       <NA>\n",
      "51:                                                                                                                                                                                                                                                                                                                                                                                                                                                                                                                                                                                                                                                                                                                                                                                                                                                                                                                                                                                                                                                                                                                                                                                                                                                                                                                                                                                                                                                                                                                                                                                                                                                                                                                                                                                                                                                                                                                                                                                                                                                                                                                                                                                                                                                                                                                                                                                                                                                                                                                                                                                                                                                                                                                                                                                                                                                                                                                                                                                                                                                                                                                                                                                                                                                                                                                                                                                                                                                                                                                                                       <NA>\n",
      "52:                                                                                                                                                                                                                                                                                                                                                                                                                                                                                                                                                                                                                                                                                                                                                                                                                                                                                                                                                                                                                                                                                                                                                                                                                                                                                                                                                                                                                                                                                                                                                                                                                                                                                                                                                                                                                                                                                                                                                                                                                                                                                                                                                                                                                                                                                                                                                                                                                                                                                                                                                                                                                                                                                                                                                                                                                                                                                                                                                                                                                                                                                                                                                                                                                                                                                                                                                                                                                                                                                                                                                       <NA>\n",
      "53:                                                                                                                                                                                                                                                                                                                                                                                                                                                                                                                                                                                                                                                                                                                                                                                                                                                                                                                                                                                                                                                                                                                                                                                                                                                                                                                                                                                                                                                                                                                                                                                                                                                                                                                                                                                                                                                                                                                                                                                                                                                                                                                                                                                                                                                                                                                                                                                                                                                                                                                                                                                                                                                                                                                                                                                                                                                                                                                                                                                                                                                                                                                                                                                                                                                                                                                                                                                                                                                                                                                                                       <NA>\n",
      "54:                                                                                                                                                                                                                                                                                                                                                                                                                                                                                                                                                                                                                                                                                                                                                                                                                                                                                                                                                                                                                                                                                                                                                                                                                                                                                                                                                                                                                                                                                                                                                                                                                                                                                                                                                                                                                                                                                                                                                                                                                                                                                                                                                                                                                                                                                                                                                                                                                                                                                                                                                                                                                                                                                                                                                                                                                                                                                                                                                                                                                                                                                                                                                                                                                                                                                                                                                                                                                                                                                                                                                       <NA>\n",
      "55:                                                                                                                                                                                                                                                                                                                                                                                                                                                                                                                                                                                                                                                                                                                                                                                                                                                                                                                                                                                                                                                                                                                                                                                                                                                                                                                                                                                                                                                                                                                                                                                                                                                                                                                                                                                                                                                                                                                                                                                                                                                                                                                                                                                                                                                                                                                                                                                                                                                                                                                                                                                                                                                                                                                                                                                                                                                                                                                                                                                                                                                                                                                                                                                                                                                                                                                                                                                                                                                                                                                                                       <NA>\n",
      "56:                                                                                                                                                                                                                                                                                                                                                                                                                                                                                                                                                                                                                                                                                                                                                                                                                                                                                                                                                                                                                                                                                                                                                                                                                                                                                                                                                                                                                                                                                                                                                                                                                                                                                                                                                                                                                                                                                                                                                                                                                                                                                                                                                                                                                                                                                                                                                                                                                                                                                                                                                                                                                                                                                                                                                                                                                                                                                                                                                                                                                                                                                                                                                                                                                                                                                                                                                                                                                                                                                                                                                       <NA>\n",
      "57:                                                                                                                                                                                                                                                                                                                                                                                                                                                                                                                                                                                                                                                                                                                                                                                                                                                                                                                                                                                                                                                                                                                                                                                                                                                                                                                                                                                                                                                                                                                                                                                                                                                                                                                                                                                                                                                                                                                                                                                                                                                                                                                                                                                                                                                                                                                                                                                                                                                                                                                                                                                                                                                                                                                                                                                                                                                                                                                                                                                                                                                                                                                                                                                                                                                                                                                                                                                                                                                                                                                                                       <NA>\n",
      "58:                                                                                                                                                                                                                                                                                                                                                                                                                                                                                                                                                                                                                                                                                                                                                                                                                                                                                                                                                                                                                                                                                                                                                                                                                                                                                                                                                                                                                                                                                                                                                                                                                                                                                                                                                                                                                                                                                                                                                                                                                                                                                                                                                                                                                                                                                                                                                                                                                                                                                                                                                                                                                                                                                                                                                                                                                                                                                                                                                                                                            16:86990806:G:C;16:86991057:G:A;16:86991387:C:G;16:86992857:C:T;16:86992887:T:A;16:86993180:A:C;16:86993453:A:G;16:86993498:A:C;16:86993749:A:G;16:86994111:G:A;16:86994166:C:T;16:86994242:A:T;16:86994254:T:C;16:86996608:T:C;16:86996613:C:G;16:86996739:A:G;16:86996784:G:A;16:86996955:C:T;16:86997087:T:C;16:86997178:T:A;16:86997199:C:T;16:86997450:C:A;16:86997509:C:T;16:86997697:T:C;16:86997698:A:G;16:86997703:C:A;16:86997745:A:G;16:86997930:A:G;16:86998179:C:T;16:86998192:T:C;16:86998464:C:T;16:86998921:T:C;16:86999799:C:T\n",
      "59:                                                                                                                                                                                                                                                                                                                                                                                                                                                                                                                                                                                                                                                                                                                                                                                                                                                                                                                                                                                                                                                                                                                                                                                                                                                                                                                                                                                                                                                                                                                                                                                                                                                                                                                                                                                                                                                                                                                                                                                                                                                                                                                                                                                                                                                                                                                                                                                                                                                                                                                                                                                                                                                                                                                                                                                                                                                                                                                                                                                                                                                                                                                                                                                                                                                                                                                                                                                                                                                                                                                                                       <NA>\n",
      "60:                                                                                                                                                                                                                                                                                                                                                                                                                                                                                                                                                                                                                                                                                                                                                                                                                                                                                                                                                                                                                                                                                                                                                                                                                                                                                                                                                                                                                                                                                                                                                                                                                                                                                                                                                                                                                                                                                                                                                                                                                                                                                                                                                                                                                                                                                                                                                                                                                                                                                                                                                                                                                                                                                                                                                                                                                                                                                                                                                                                                                                                                                                                                                                                                                                                                                                                                                                                                                                                                                                                                                       <NA>\n",
      "61:                                                                                                                                                                                                                                                                                                                                                                                                                                                                                                                                                                                                                                                                                                                                                                                                                                                                                                                                                                                                                                                                                                                                                                                                                                                                                                                                                                                                                                                                                                                                                                                                                                                                                                                                                                                                                                                                                                                                                                                                                                                                                                                                                                                                                                                                                                                                                                                                                                                                                                                                                                                                                                                                                                                                                                                                                                                                                                                                                                                                                                                                                                                                                                                                                                                                                                                                                                                                                                                                                                                                                       <NA>\n",
      "62:                                                                                                                                                                                                                                                                                                                                                                                                                                                                                                                                                                                                                                                                                                                                                                                                                                                                                                                                                                                                                                                                                                                                                                                                                                                                                                                                                                                                                                                                                                                                                                                                                                                                                                                                                                                                                                                                                                                                                                                                                                                                                                                                                                                                                                                                                                                                                                                                                                                                                                                                                                                                                                                                                                                                                                                                                                                                                                                                                                                                                                                                                                                                                                                                                                                                                                                                                                                                                                                                                                                                                       <NA>\n",
      "63:                                                                                                                                                                                                                                                                                                                                                                                                                                                                                                                                                                                                                                                                                                                                                                                                                                                                                                                                                                                                                                                                                                                                                                                                                                                                                                                                                                                                                                                                                                                                                                                                                                                                                                                                                                                                                                                                                                                                                                                                                                                                                                                                                                                                                                                                                                                                                                                                                                                                                                                                                                                                                                                                                                                                                                                                                                                                                                                                                                                                                                                                                                                                                                                                                                                                                                                                                                                                                                                                                                                                                       <NA>\n",
      "64:                                                                                                                                                                                                                                                                                                                                                                                                                                                                                                                                                                                                                                                                                                                                                                                                                                                                                                                                                                                                                                                                                                                                                                                                                                                                                                                                                                                                                                                                                                                                                                                                                                                                                                                                                                                                                                                                                                                                                                                                                                                                                                                                                                                                                                                                                                                                                                                                                                                                                                                                                                                                                                                                                                                                                                                                                                                                                                                                                                                                                                                                                                                                                                                                                                                                                                                                                                                                                                                                                                                                                       <NA>\n",
      "65:                                                                                                                                                                                                                                                                                                                                                                                                                                                                                                                                                                                                                                                                                                                                                                                                                                                                                                                                                                                                                                                                                                                                                                                                                                                                                                                                                                                                                                                                                                                                                                                                                                                                                                                                                                                                                                                                                                                                                                                                                                                                                                                                                                                                                                                                                                                                                                                                                                                                                                                                                                                                                                                                                                                                                                                                                                                                                                                                                                                                                                                                                                                                                                                                                                                                                                                                                                                                                                                                                                                                                       <NA>\n",
      "66:                                                                                                                                                                                                                                                                                                                                                                                                                                                                                                                                                                                                                                                                                                                                                                                                                                                                                                                                                                                                                                                                                                                                                                                                                                                                                                                                                                                                                                                                                                                                                                                                                                                                                                                                                                                                                                                                                                                                                                                                                                                                                                                                                                                                                                                                                                                                                                                                                                                                                                                                                                                                                                                                                                                                                                                                                                                                                                                                                                                                                                                                                                                                                                                                                                                                                                                                                                                                                                                                                                                                                       <NA>\n",
      "67:                                                                                                                                                                                                                                                                                                                                                                                                                                                                                                                                                                                                                                                                                                                                                                                                                                                                                                                                                                                                                                                                                                                                                                                                                                                                                                                                                                                                                                                                                                                                                                                                                                                                                                                                                                                                                                                                                                                                                                                                                                                                                                                                                                                                                                                                                                                                                                                                                                                                                                                                                                                                                                                                                                                                                                                                                                                                                                                                                                                                                                                                                                                                                                                                                                                                                                                                                                                                                                                                                                                                                       <NA>\n",
      "68:                                                                                                                                                                                                                                                                                                                                                                                                                                                                                                                                                                                                                                                                                                                                                                                                                                                                                                                                                                                                                                                                                                                                                                                                                                                                                                                                                                                                                                                                                                                                                                                                                                                                                                                                                                                                                                                                                                                                                                                                                                                                                                                                                                                                                                                                                                                                                                                                                                                                                                                                                                                                                                                                                                                                                                                                                                                                                                                                                                                                                                                                                                                                                                                                                                                                                                                                                                                                                                                                                                                                                       <NA>\n",
      "69:                                                                                                                                                                                                                                                                                                                                                                                                                                                                                                                                                                                                                                                                                                                                                                                                                                                                                                                                                                                                                                                                                                                                                                                                                                                                                                                                                                                                                                                                                                                                                                                                                                                                                                                                                                                                                                                                                                                                                                                                                                                                                                                                                                                                                                                                                                                                                                                                                                                                                                                                                                                                                                                                                                                                                                                                                                                                                                                                                                                                                                                                                                                                                                                                                                                                                                                                                                                                                                                                                                                                                       <NA>\n",
      "70:                                                                                                                                                                                                                                                                                                                                                                                                                                                                                                                                                                                                                                                                                                                                                                                                                                                                                                                                                                                                                                                                                                                                                                                                                                                                                                                                                                                                                                                                                                                                                                                                                                                                                                                                                                                                                                                                                                                                                                                                                                                                                                                                                                                                                                                                                                                                                                                                                                                                                                                                                                                                                                                                                                                                                                                                                                                                                                                                                                                                                                                                                                                                                                                                                                                                                                                                                                                                                                                                                                                                                       <NA>\n",
      "71:                                                                                                                                                                                                                                                                                                                                                                                                                                                                                                                                                                                                                                                                                                                                                                                                                                                                                                                                                                                                                                                                                                                                                                                                                                                                                                                                                                                                                                                                                                                                                                                                                                                                                                                                                                                                                                                                                                                                                                                                                                                                                                                                                                                                                                                                                                                                                                                                                                                                                                                                                                                                                                                                                                                                                                                                                                                                                                                                                                                                                                                                                                                                                                                                                                                                                                                                                                                                                                                                                                                                                       <NA>\n",
      "72:                                                                                                                                                                                                                                                                                                                                                                                                                                                                                                                                                                                                                                                                                                                                                                                                                                                                                                                                                                                                                                                                                                                                                                                                                                                                                                                                                                                                                                                                                                                                                                                                                                                                                                                                                                                                                                                                                                                                                                                                                                                                                                                                                                                                                                                                                                                                                                                                                                                                                                                                                                                                                                                                                                                                                                                                                                                                                                                                                                                                                                                                                                                                                                                                                                                                                                                                                                                                                                                                                                                                                       <NA>\n",
      "73:                                                                                                                                                                                                                                                                                                                                                                                                                                                                                                                                                                                                                                                                                                                                                                                                                                                                                                                                                                                                                                                                                                                                                                                                                                                                                                                                                                                                                                                                                                                                                                                                                                                                                                                                                                                                                                                                                                                                                                                                                                                                                                                                                                                                                                                                                                                                                                                                                                                                                                                                                                                                                                                                                                                                                                                                                                                                                                                                                                                                                                                                                                                                                                                                                                                                                                                                                                                                                                                                                                                                                       <NA>\n",
      "74:                                                                                                                                                                                                                                                                                                                                                                                                                                                                                                                                                                                                                                                                                                                                                                                                                                                                                                                                                                                                                                                                                                                                                                                                                                                                                                                                                                                                                                                                                                                                                                                                                                                                                                                                                                                                                                                                                                                                                                                                                                                                                                                                                                                                                                                                                                                                                                                                                                                                                                                                                                                                                                                                                                                                                                                                                                                                                                                                                                                                                                                                                                                                                                                                                                                                                                                                                                                                                                                                                                                                                       <NA>\n",
      "75:                                                                                                                                                                                                                                                                                                                                                                                                                                                                                                                                                                                                                                                                                                                                                                                                                                                                                                                                                                                                                                                                                                                                                                                                                                                                                                                                                                                                                                                                                                                                                                                                                                                                                                                                                                                                                                                                                                                                                                                                                                                                                                                                                                                                                                                                                                                                                                                                                                                                                                                                                                                                                                                                                                                                                                                                                                                                                                                                                                                                                                                                                                                                                                                                                                                                                                                                                                                                                                                                                                                                                       <NA>\n",
      "76:                                                                                                                                                                                                                                                                                                                                                                                                                                                                                                                                                                                                                                                                                                                                                                                                                                                                                                                                                                                                                                                                                                                                                                                                                                                                                                                                                                                                                                                                                                                                                                                                                                                                                                                                                                                                                                                                                                                                                                                                                                                                                                                                                                                                                                                                                                                                                                                                                                                                                                                                                                                                                                                                                                                                                                                                                                                                                                                                                                                                                                                                                                                                                                                                                                                                                                                                                                                                                                                                                                                                                       <NA>\n",
      "                                                                                                                                                                                                                                                                                                                                                                                                                                                                                                                                                                                                                                                                                                                                                                                                                                                                                                                                                                                                                                                                                                                                                                                                                                                                                                                                                                                                                                                                                                                                                                                                                                                                                                                                                                                                                                                                                                                                                                                                                                                                                                                                                                                                                                                                                                                                                                                                                                                                                                                                                                                                                                                                                                                                                                                                                                                                                                                                                                                                                                                                                                                                                                                                                                                                                                                                                                                                                                                                                                                                            contained_variants\n"
     ]
    }
   ],
   "source": [
    "# Parse variant to extract chr and position\n",
    "parse_variant <- function(variant_str) {\n",
    "  # Format: \"chr1:11698737:A>T\"\n",
    "  parts <- strsplit(variant_str, \":\")[[1]]\n",
    "  chr <- parts[1]\n",
    "  # Handle potential additional colons in the variant (e.g., in case of complex variants)\n",
    "  position <- as.numeric(strsplit(parts[2], \"[^0-9]\")[[1]][1])\n",
    "  return(list(chr = chr, position = position))\n",
    "}\n",
    "\n",
    "# Function to check if a variant position is within a gene's cis window\n",
    "is_variant_in_cis_window <- function(gene_chr, gene_start, gene_end, variant_str, window_size = 500000) {\n",
    "  variant <- parse_variant(variant_str)\n",
    "  cis_start <- gene_start - window_size\n",
    "  cis_end <- gene_end + window_size\n",
    "  # Check if the variant is within the cis window boundaries\n",
    "  return(gene_chr == paste0(\"chr\", variant$chr) && \n",
    "         variant$position >= cis_start && \n",
    "         variant$position <= cis_end)\n",
    "}\n",
    "\n",
    "# Find matching variants within cis window for each gene\n",
    "find_cis_window_variants <- function(gene_chr, gene_start, gene_end, variants_unique, window_size = 500000) {\n",
    "  matching_variants <- character(0)\n",
    "  cis_start <- gene_start - window_size\n",
    "  cis_end <- gene_end + window_size\n",
    "  \n",
    "  for(variant in variants_unique) {\n",
    "    if(is_variant_in_cis_window(gene_chr, gene_start, gene_end, variant, window_size)) {\n",
    "      matching_variants <- c(matching_variants, variant)\n",
    "    }\n",
    "  }\n",
    "  \n",
    "  if(length(matching_variants) > 0) {\n",
    "    return(list(\n",
    "      is_in_cis_window = TRUE,\n",
    "      cis_window_lower_bound = cis_start,\n",
    "      cis_window_upper_bound = cis_end,\n",
    "      contained_variants = paste(matching_variants, collapse = \";\")\n",
    "    ))\n",
    "  } else {\n",
    "    return(list(\n",
    "      is_in_cis_window = FALSE,\n",
    "      cis_window_lower_bound = cis_start,\n",
    "      cis_window_upper_bound = cis_end,\n",
    "      contained_variants = NA\n",
    "    ))\n",
    "  }\n",
    "}\n",
    "\n",
    "# Initialize the new columns\n",
    "filtered_gene_list$is_in_cis_window <- FALSE\n",
    "filtered_gene_list$cis_window_lower_bound <- NA\n",
    "filtered_gene_list$cis_window_upper_bound <- NA\n",
    "filtered_gene_list$contained_variants <- NA\n",
    "\n",
    "# Define window size as a parameter for easier modification\n",
    "window_size <- 500000\n",
    "\n",
    "# Loop through each row to find cis window variants\n",
    "for (i in 1:nrow(filtered_gene_list)) {\n",
    "  result <- find_cis_window_variants(\n",
    "    filtered_gene_list$`#chr`[i],\n",
    "    filtered_gene_list$start[i],\n",
    "    filtered_gene_list$end[i],\n",
    "    top_variants_unique,\n",
    "    window_size\n",
    "  )\n",
    "  filtered_gene_list$is_in_cis_window[i] <- result$is_in_cis_window\n",
    "  filtered_gene_list$cis_window_lower_bound[i] <- result$cis_window_lower_bound\n",
    "  filtered_gene_list$cis_window_upper_bound[i] <- result$cis_window_upper_bound\n",
    "  filtered_gene_list$contained_variants[i] <- result$contained_variants\n",
    "}\n",
    "\n",
    "# View the result\n",
    "print(filtered_gene_list)"
   ]
  },
  {
   "cell_type": "code",
   "execution_count": 17,
   "metadata": {
    "vscode": {
     "languageId": "r"
    }
   },
   "outputs": [],
   "source": [
    "variants = filtered_gene_list |> \n",
    "  filter(is_in_cis_window == TRUE) |> \n",
    "  pull(contained_variants) |> \n",
    "  str_split(\";\") |> \n",
    "  unlist() |> \n",
    "  unique()"
   ]
  },
  {
   "cell_type": "code",
   "execution_count": 18,
   "metadata": {
    "vscode": {
     "languageId": "r"
    }
   },
   "outputs": [
    {
     "data": {
      "text/html": [
       "<style>\n",
       ".list-inline {list-style: none; margin:0; padding: 0}\n",
       ".list-inline>li {display: inline-block}\n",
       ".list-inline>li:not(:last-child)::after {content: \"\\00b7\"; padding: 0 .5ex}\n",
       "</style>\n",
       "<ol class=list-inline><li>'2:202799252:C:T'</li><li>'2:202800206:C:G'</li><li>'2:202802803:G:T'</li><li>'2:202807683:C:T'</li><li>'2:202808349:A:C'</li><li>'2:202808840:A:T'</li><li>'2:202809565:G:A'</li><li>'2:202811382:C:T'</li><li>'2:202813935:A:T'</li><li>'2:202814460:C:T'</li><li>'2:202814583:T:C'</li><li>'2:202816231:T:C'</li><li>'2:202817581:C:G'</li><li>'2:202819267:A:G'</li><li>'2:202820396:A:G'</li><li>'2:202821005:C:T'</li><li>'2:202823577:A:T'</li><li>'2:202825191:A:G'</li><li>'2:202825324:T:G'</li><li>'2:202828037:A:G'</li><li>'2:202829191:A:C'</li><li>'2:202831103:G:C'</li><li>'2:202832369:C:A'</li><li>'2:202833084:GA:G'</li><li>'2:202833577:C:T'</li><li>'2:202833747:A:G'</li><li>'2:202834014:T:C'</li><li>'2:202834656:C:T'</li><li>'2:202836147:C:T'</li><li>'2:202836281:T:G'</li><li>'2:202841710:C:T'</li><li>'2:202843029:A:G'</li><li>'2:202843155:G:A'</li><li>'2:202845053:C:G'</li><li>'2:202845274:G:C'</li><li>'2:202846858:T:A'</li><li>'2:202848557:C:A'</li><li>'2:202850696:C:T'</li><li>'2:202850791:C:T'</li><li>'2:202853959:T:C'</li><li>'2:202854146:A:G'</li><li>'2:202854305:G:A'</li><li>'2:202856051:T:C'</li><li>'2:202856591:C:T'</li><li>'2:202857010:A:T'</li><li>'2:202860954:A:G'</li><li>'2:202860955:A:C'</li><li>'2:202861260:T:C'</li><li>'2:202861778:G:C'</li><li>'2:202863724:G:A'</li><li>'2:202864454:C:G'</li><li>'2:202865040:G:A'</li><li>'2:202869266:G:A'</li><li>'2:202871528:C:G'</li><li>'2:202873047:A:G'</li><li>'2:202873941:G:A'</li><li>'2:202875133:C:G'</li><li>'2:202875247:T:G'</li><li>'2:202875287:C:T'</li><li>'2:202875547:A:C'</li><li>'2:202877269:G:GGAAAA'</li><li>'2:202879722:G:A'</li><li>'2:202879731:C:T'</li><li>'2:202879887:G:A'</li><li>'2:202881162:T:C'</li><li>'2:202882093:A:G'</li><li>'2:202882799:A:G'</li><li>'2:202884053:T:C'</li><li>'2:202884716:T:C'</li><li>'2:202885549:C:T'</li><li>'2:202887209:C:G'</li><li>'2:202887258:A:G'</li><li>'2:202887295:G:A'</li><li>'2:202888293:G:A'</li><li>'2:202888349:T:C'</li><li>'2:202891954:G:A'</li><li>'2:202893193:A:G'</li><li>'2:202893673:T:C'</li><li>'2:202893798:C:A'</li><li>'2:202893828:C:T'</li><li>'2:202896433:TA:T'</li><li>'2:202896954:G:A'</li><li>'2:202898353:T:G'</li><li>'2:202900086:T:A'</li><li>'2:202901033:T:C'</li><li>'2:202901840:T:C'</li><li>'2:202904063:G:A'</li><li>'2:202904389:C:T'</li><li>'2:202905080:C:T'</li><li>'2:202906537:G:A'</li><li>'2:202906929:C:G'</li><li>'2:202908514:G:A'</li><li>'2:202908963:A:G'</li><li>'2:202910989:G:A'</li><li>'2:202913180:G:A'</li><li>'2:202913477:A:T'</li><li>'2:202915792:A:G'</li><li>'2:202917018:G:A'</li><li>'2:202918286:C:T'</li><li>'2:202918761:G:A'</li><li>'2:202922089:A:G'</li><li>'2:202922397:A:G'</li><li>'2:202922682:A:G'</li><li>'2:202924227:T:C'</li><li>'2:202924956:C:T'</li><li>'2:202926166:T:C'</li><li>'2:202926610:G:A'</li><li>'2:202927189:G:A'</li><li>'2:202927905:A:G'</li><li>'2:202929539:T:C'</li><li>'2:202929716:G:A'</li><li>'2:202932091:C:G'</li><li>'2:202933595:C:T'</li><li>'2:202933642:TC:T'</li><li>'2:202936503:T:G'</li><li>'2:202940829:G:A'</li><li>'2:202941714:GTTAATTTT:G'</li><li>'2:202942360:A:T'</li><li>'2:202944112:G:A'</li><li>'2:202946905:G:A'</li><li>'2:202947189:A:C'</li><li>'2:202949971:A:T'</li><li>'2:202951017:T:A'</li><li>'2:202951771:G:A'</li><li>'2:202954748:A:G'</li><li>'2:202957070:T:C'</li><li>'2:202958168:C:G'</li><li>'2:202958677:C:T'</li><li>'2:202960383:A:G'</li><li>'2:202961673:G:A'</li><li>'2:202962709:A:G'</li><li>'2:202962757:T:C'</li><li>'2:202962952:C:G'</li><li>'2:202962967:T:TA'</li><li>'2:202963469:G:A'</li><li>'2:202964074:T:TATAA'</li><li>'2:202964502:A:C'</li><li>'2:202964561:A:G'</li><li>'2:202965505:T:C'</li><li>'2:202966128:A:G'</li><li>'2:202966489:T:A'</li><li>'2:202966529:A:T'</li><li>'2:202967397:A:G'</li><li>'2:202968295:G:A'</li><li>'2:202969154:A:G'</li><li>'2:202970454:A:C'</li><li>'2:202971784:G:C'</li><li>'2:202974238:T:C'</li><li>'2:202975842:C:T'</li><li>'2:202976250:G:T'</li><li>'2:202977938:C:T'</li><li>'2:202979757:C:T'</li><li>'2:202981105:A:G'</li><li>'2:202981273:T:C'</li><li>'2:202982094:A:T'</li><li>'2:202982659:G:A'</li><li>'2:202982694:A:G'</li><li>'2:202983679:G:A'</li><li>'2:202985288:C:G'</li><li>'2:202986615:CAGTT:C'</li><li>'2:202990619:C:T'</li><li>'2:202994668:T:C'</li><li>'2:202996390:T:G'</li><li>'2:202997187:G:A'</li><li>'2:203000792:T:C'</li><li>'2:203001613:T:C'</li><li>'2:203002134:A:G'</li><li>'2:203005124:C:T'</li><li>'2:203009020:G:A'</li><li>'2:203012510:C:T'</li><li>'2:203016111:G:A'</li><li>'2:203016269:T:C'</li><li>'2:203018470:C:G'</li><li>'2:203019585:A:C'</li><li>'2:203028044:T:C'</li><li>'2:203029276:C:A'</li><li>'2:203033223:A:G'</li><li>'2:203039582:T:C'</li><li>'2:203039583:G:A'</li><li>'2:203051764:T:G'</li><li>'2:203060637:G:A'</li><li>'2:203061548:A:G'</li><li>'2:203062864:T:C'</li><li>'2:203067453:A:G'</li><li>'2:203068616:A:G'</li><li>'2:203073185:T:A'</li><li>'2:203074917:A:G'</li><li>'2:203078445:A:G'</li><li>'2:203087336:C:G'</li><li>'2:203102474:A:G'</li><li>'2:203104781:G:A'</li><li>'2:203111235:G:T'</li><li>'2:203115310:G:A'</li><li>'2:203119217:C:A'</li><li>'2:203123083:C:G'</li><li>'2:203126066:T:G'</li><li>'2:203130682:G:A'</li><li>'2:203140349:A:G'</li><li>'2:203144334:T:G'</li><li>'2:203151249:T:C'</li><li>'2:203162978:G:A'</li><li>'2:203166414:G:A'</li><li>'2:203189418:C:T'</li><li>'2:203191955:T:C'</li><li>'2:203200116:C:T'</li><li>'2:203206233:A:G'</li><li>'2:203216952:C:T'</li><li>'2:203256422:C:G'</li><li>'2:203262597:AAC:A'</li><li>'2:203289954:A:T'</li><li>'2:203293652:G:A'</li><li>'2:203331895:C:T'</li><li>'5:151052827:C:T'</li><li>'7:7648209:G:A'</li><li>'7:7648912:A:G'</li><li>'7:7649522:G:A'</li><li>'7:7650736:C:T'</li><li>'7:7651545:C:T'</li><li>'7:7652852:G:T'</li><li>'7:7655552:T:C'</li><li>'7:7656483:C:G'</li><li>'7:7657263:GC:G'</li><li>'7:7657549:A:G'</li><li>'11:46936748:G:T'</li><li>'11:46955857:C:T'</li><li>'11:46960612:A:G'</li><li>'11:46961687:A:G'</li><li>'11:46991890:G:A'</li><li>'11:47015399:G:A'</li><li>'11:47078316:C:T'</li><li>'11:47098515:T:C'</li><li>'11:47146703:A:G'</li><li>'11:47215808:C:T'</li><li>'16:86990806:G:C'</li><li>'16:86991057:G:A'</li><li>'16:86991387:C:G'</li><li>'16:86992857:C:T'</li><li>'16:86992887:T:A'</li><li>'16:86993180:A:C'</li><li>'16:86993453:A:G'</li><li>'16:86993498:A:C'</li><li>'16:86993749:A:G'</li><li>'16:86994111:G:A'</li><li>'16:86994166:C:T'</li><li>'16:86994242:A:T'</li><li>'16:86994254:T:C'</li><li>'16:86996608:T:C'</li><li>'16:86996613:C:G'</li><li>'16:86996739:A:G'</li><li>'16:86996784:G:A'</li><li>'16:86996955:C:T'</li><li>'16:86997087:T:C'</li><li>'16:86997178:T:A'</li><li>'16:86997199:C:T'</li><li>'16:86997450:C:A'</li><li>'16:86997509:C:T'</li><li>'16:86997697:T:C'</li><li>'16:86997698:A:G'</li><li>'16:86997703:C:A'</li><li>'16:86997745:A:G'</li><li>'16:86997930:A:G'</li><li>'16:86998179:C:T'</li><li>'16:86998192:T:C'</li><li>'16:86998464:C:T'</li><li>'16:86998921:T:C'</li><li>'16:86999799:C:T'</li></ol>\n"
      ],
      "text/latex": [
       "\\begin{enumerate*}\n",
       "\\item '2:202799252:C:T'\n",
       "\\item '2:202800206:C:G'\n",
       "\\item '2:202802803:G:T'\n",
       "\\item '2:202807683:C:T'\n",
       "\\item '2:202808349:A:C'\n",
       "\\item '2:202808840:A:T'\n",
       "\\item '2:202809565:G:A'\n",
       "\\item '2:202811382:C:T'\n",
       "\\item '2:202813935:A:T'\n",
       "\\item '2:202814460:C:T'\n",
       "\\item '2:202814583:T:C'\n",
       "\\item '2:202816231:T:C'\n",
       "\\item '2:202817581:C:G'\n",
       "\\item '2:202819267:A:G'\n",
       "\\item '2:202820396:A:G'\n",
       "\\item '2:202821005:C:T'\n",
       "\\item '2:202823577:A:T'\n",
       "\\item '2:202825191:A:G'\n",
       "\\item '2:202825324:T:G'\n",
       "\\item '2:202828037:A:G'\n",
       "\\item '2:202829191:A:C'\n",
       "\\item '2:202831103:G:C'\n",
       "\\item '2:202832369:C:A'\n",
       "\\item '2:202833084:GA:G'\n",
       "\\item '2:202833577:C:T'\n",
       "\\item '2:202833747:A:G'\n",
       "\\item '2:202834014:T:C'\n",
       "\\item '2:202834656:C:T'\n",
       "\\item '2:202836147:C:T'\n",
       "\\item '2:202836281:T:G'\n",
       "\\item '2:202841710:C:T'\n",
       "\\item '2:202843029:A:G'\n",
       "\\item '2:202843155:G:A'\n",
       "\\item '2:202845053:C:G'\n",
       "\\item '2:202845274:G:C'\n",
       "\\item '2:202846858:T:A'\n",
       "\\item '2:202848557:C:A'\n",
       "\\item '2:202850696:C:T'\n",
       "\\item '2:202850791:C:T'\n",
       "\\item '2:202853959:T:C'\n",
       "\\item '2:202854146:A:G'\n",
       "\\item '2:202854305:G:A'\n",
       "\\item '2:202856051:T:C'\n",
       "\\item '2:202856591:C:T'\n",
       "\\item '2:202857010:A:T'\n",
       "\\item '2:202860954:A:G'\n",
       "\\item '2:202860955:A:C'\n",
       "\\item '2:202861260:T:C'\n",
       "\\item '2:202861778:G:C'\n",
       "\\item '2:202863724:G:A'\n",
       "\\item '2:202864454:C:G'\n",
       "\\item '2:202865040:G:A'\n",
       "\\item '2:202869266:G:A'\n",
       "\\item '2:202871528:C:G'\n",
       "\\item '2:202873047:A:G'\n",
       "\\item '2:202873941:G:A'\n",
       "\\item '2:202875133:C:G'\n",
       "\\item '2:202875247:T:G'\n",
       "\\item '2:202875287:C:T'\n",
       "\\item '2:202875547:A:C'\n",
       "\\item '2:202877269:G:GGAAAA'\n",
       "\\item '2:202879722:G:A'\n",
       "\\item '2:202879731:C:T'\n",
       "\\item '2:202879887:G:A'\n",
       "\\item '2:202881162:T:C'\n",
       "\\item '2:202882093:A:G'\n",
       "\\item '2:202882799:A:G'\n",
       "\\item '2:202884053:T:C'\n",
       "\\item '2:202884716:T:C'\n",
       "\\item '2:202885549:C:T'\n",
       "\\item '2:202887209:C:G'\n",
       "\\item '2:202887258:A:G'\n",
       "\\item '2:202887295:G:A'\n",
       "\\item '2:202888293:G:A'\n",
       "\\item '2:202888349:T:C'\n",
       "\\item '2:202891954:G:A'\n",
       "\\item '2:202893193:A:G'\n",
       "\\item '2:202893673:T:C'\n",
       "\\item '2:202893798:C:A'\n",
       "\\item '2:202893828:C:T'\n",
       "\\item '2:202896433:TA:T'\n",
       "\\item '2:202896954:G:A'\n",
       "\\item '2:202898353:T:G'\n",
       "\\item '2:202900086:T:A'\n",
       "\\item '2:202901033:T:C'\n",
       "\\item '2:202901840:T:C'\n",
       "\\item '2:202904063:G:A'\n",
       "\\item '2:202904389:C:T'\n",
       "\\item '2:202905080:C:T'\n",
       "\\item '2:202906537:G:A'\n",
       "\\item '2:202906929:C:G'\n",
       "\\item '2:202908514:G:A'\n",
       "\\item '2:202908963:A:G'\n",
       "\\item '2:202910989:G:A'\n",
       "\\item '2:202913180:G:A'\n",
       "\\item '2:202913477:A:T'\n",
       "\\item '2:202915792:A:G'\n",
       "\\item '2:202917018:G:A'\n",
       "\\item '2:202918286:C:T'\n",
       "\\item '2:202918761:G:A'\n",
       "\\item '2:202922089:A:G'\n",
       "\\item '2:202922397:A:G'\n",
       "\\item '2:202922682:A:G'\n",
       "\\item '2:202924227:T:C'\n",
       "\\item '2:202924956:C:T'\n",
       "\\item '2:202926166:T:C'\n",
       "\\item '2:202926610:G:A'\n",
       "\\item '2:202927189:G:A'\n",
       "\\item '2:202927905:A:G'\n",
       "\\item '2:202929539:T:C'\n",
       "\\item '2:202929716:G:A'\n",
       "\\item '2:202932091:C:G'\n",
       "\\item '2:202933595:C:T'\n",
       "\\item '2:202933642:TC:T'\n",
       "\\item '2:202936503:T:G'\n",
       "\\item '2:202940829:G:A'\n",
       "\\item '2:202941714:GTTAATTTT:G'\n",
       "\\item '2:202942360:A:T'\n",
       "\\item '2:202944112:G:A'\n",
       "\\item '2:202946905:G:A'\n",
       "\\item '2:202947189:A:C'\n",
       "\\item '2:202949971:A:T'\n",
       "\\item '2:202951017:T:A'\n",
       "\\item '2:202951771:G:A'\n",
       "\\item '2:202954748:A:G'\n",
       "\\item '2:202957070:T:C'\n",
       "\\item '2:202958168:C:G'\n",
       "\\item '2:202958677:C:T'\n",
       "\\item '2:202960383:A:G'\n",
       "\\item '2:202961673:G:A'\n",
       "\\item '2:202962709:A:G'\n",
       "\\item '2:202962757:T:C'\n",
       "\\item '2:202962952:C:G'\n",
       "\\item '2:202962967:T:TA'\n",
       "\\item '2:202963469:G:A'\n",
       "\\item '2:202964074:T:TATAA'\n",
       "\\item '2:202964502:A:C'\n",
       "\\item '2:202964561:A:G'\n",
       "\\item '2:202965505:T:C'\n",
       "\\item '2:202966128:A:G'\n",
       "\\item '2:202966489:T:A'\n",
       "\\item '2:202966529:A:T'\n",
       "\\item '2:202967397:A:G'\n",
       "\\item '2:202968295:G:A'\n",
       "\\item '2:202969154:A:G'\n",
       "\\item '2:202970454:A:C'\n",
       "\\item '2:202971784:G:C'\n",
       "\\item '2:202974238:T:C'\n",
       "\\item '2:202975842:C:T'\n",
       "\\item '2:202976250:G:T'\n",
       "\\item '2:202977938:C:T'\n",
       "\\item '2:202979757:C:T'\n",
       "\\item '2:202981105:A:G'\n",
       "\\item '2:202981273:T:C'\n",
       "\\item '2:202982094:A:T'\n",
       "\\item '2:202982659:G:A'\n",
       "\\item '2:202982694:A:G'\n",
       "\\item '2:202983679:G:A'\n",
       "\\item '2:202985288:C:G'\n",
       "\\item '2:202986615:CAGTT:C'\n",
       "\\item '2:202990619:C:T'\n",
       "\\item '2:202994668:T:C'\n",
       "\\item '2:202996390:T:G'\n",
       "\\item '2:202997187:G:A'\n",
       "\\item '2:203000792:T:C'\n",
       "\\item '2:203001613:T:C'\n",
       "\\item '2:203002134:A:G'\n",
       "\\item '2:203005124:C:T'\n",
       "\\item '2:203009020:G:A'\n",
       "\\item '2:203012510:C:T'\n",
       "\\item '2:203016111:G:A'\n",
       "\\item '2:203016269:T:C'\n",
       "\\item '2:203018470:C:G'\n",
       "\\item '2:203019585:A:C'\n",
       "\\item '2:203028044:T:C'\n",
       "\\item '2:203029276:C:A'\n",
       "\\item '2:203033223:A:G'\n",
       "\\item '2:203039582:T:C'\n",
       "\\item '2:203039583:G:A'\n",
       "\\item '2:203051764:T:G'\n",
       "\\item '2:203060637:G:A'\n",
       "\\item '2:203061548:A:G'\n",
       "\\item '2:203062864:T:C'\n",
       "\\item '2:203067453:A:G'\n",
       "\\item '2:203068616:A:G'\n",
       "\\item '2:203073185:T:A'\n",
       "\\item '2:203074917:A:G'\n",
       "\\item '2:203078445:A:G'\n",
       "\\item '2:203087336:C:G'\n",
       "\\item '2:203102474:A:G'\n",
       "\\item '2:203104781:G:A'\n",
       "\\item '2:203111235:G:T'\n",
       "\\item '2:203115310:G:A'\n",
       "\\item '2:203119217:C:A'\n",
       "\\item '2:203123083:C:G'\n",
       "\\item '2:203126066:T:G'\n",
       "\\item '2:203130682:G:A'\n",
       "\\item '2:203140349:A:G'\n",
       "\\item '2:203144334:T:G'\n",
       "\\item '2:203151249:T:C'\n",
       "\\item '2:203162978:G:A'\n",
       "\\item '2:203166414:G:A'\n",
       "\\item '2:203189418:C:T'\n",
       "\\item '2:203191955:T:C'\n",
       "\\item '2:203200116:C:T'\n",
       "\\item '2:203206233:A:G'\n",
       "\\item '2:203216952:C:T'\n",
       "\\item '2:203256422:C:G'\n",
       "\\item '2:203262597:AAC:A'\n",
       "\\item '2:203289954:A:T'\n",
       "\\item '2:203293652:G:A'\n",
       "\\item '2:203331895:C:T'\n",
       "\\item '5:151052827:C:T'\n",
       "\\item '7:7648209:G:A'\n",
       "\\item '7:7648912:A:G'\n",
       "\\item '7:7649522:G:A'\n",
       "\\item '7:7650736:C:T'\n",
       "\\item '7:7651545:C:T'\n",
       "\\item '7:7652852:G:T'\n",
       "\\item '7:7655552:T:C'\n",
       "\\item '7:7656483:C:G'\n",
       "\\item '7:7657263:GC:G'\n",
       "\\item '7:7657549:A:G'\n",
       "\\item '11:46936748:G:T'\n",
       "\\item '11:46955857:C:T'\n",
       "\\item '11:46960612:A:G'\n",
       "\\item '11:46961687:A:G'\n",
       "\\item '11:46991890:G:A'\n",
       "\\item '11:47015399:G:A'\n",
       "\\item '11:47078316:C:T'\n",
       "\\item '11:47098515:T:C'\n",
       "\\item '11:47146703:A:G'\n",
       "\\item '11:47215808:C:T'\n",
       "\\item '16:86990806:G:C'\n",
       "\\item '16:86991057:G:A'\n",
       "\\item '16:86991387:C:G'\n",
       "\\item '16:86992857:C:T'\n",
       "\\item '16:86992887:T:A'\n",
       "\\item '16:86993180:A:C'\n",
       "\\item '16:86993453:A:G'\n",
       "\\item '16:86993498:A:C'\n",
       "\\item '16:86993749:A:G'\n",
       "\\item '16:86994111:G:A'\n",
       "\\item '16:86994166:C:T'\n",
       "\\item '16:86994242:A:T'\n",
       "\\item '16:86994254:T:C'\n",
       "\\item '16:86996608:T:C'\n",
       "\\item '16:86996613:C:G'\n",
       "\\item '16:86996739:A:G'\n",
       "\\item '16:86996784:G:A'\n",
       "\\item '16:86996955:C:T'\n",
       "\\item '16:86997087:T:C'\n",
       "\\item '16:86997178:T:A'\n",
       "\\item '16:86997199:C:T'\n",
       "\\item '16:86997450:C:A'\n",
       "\\item '16:86997509:C:T'\n",
       "\\item '16:86997697:T:C'\n",
       "\\item '16:86997698:A:G'\n",
       "\\item '16:86997703:C:A'\n",
       "\\item '16:86997745:A:G'\n",
       "\\item '16:86997930:A:G'\n",
       "\\item '16:86998179:C:T'\n",
       "\\item '16:86998192:T:C'\n",
       "\\item '16:86998464:C:T'\n",
       "\\item '16:86998921:T:C'\n",
       "\\item '16:86999799:C:T'\n",
       "\\end{enumerate*}\n"
      ],
      "text/markdown": [
       "1. '2:202799252:C:T'\n",
       "2. '2:202800206:C:G'\n",
       "3. '2:202802803:G:T'\n",
       "4. '2:202807683:C:T'\n",
       "5. '2:202808349:A:C'\n",
       "6. '2:202808840:A:T'\n",
       "7. '2:202809565:G:A'\n",
       "8. '2:202811382:C:T'\n",
       "9. '2:202813935:A:T'\n",
       "10. '2:202814460:C:T'\n",
       "11. '2:202814583:T:C'\n",
       "12. '2:202816231:T:C'\n",
       "13. '2:202817581:C:G'\n",
       "14. '2:202819267:A:G'\n",
       "15. '2:202820396:A:G'\n",
       "16. '2:202821005:C:T'\n",
       "17. '2:202823577:A:T'\n",
       "18. '2:202825191:A:G'\n",
       "19. '2:202825324:T:G'\n",
       "20. '2:202828037:A:G'\n",
       "21. '2:202829191:A:C'\n",
       "22. '2:202831103:G:C'\n",
       "23. '2:202832369:C:A'\n",
       "24. '2:202833084:GA:G'\n",
       "25. '2:202833577:C:T'\n",
       "26. '2:202833747:A:G'\n",
       "27. '2:202834014:T:C'\n",
       "28. '2:202834656:C:T'\n",
       "29. '2:202836147:C:T'\n",
       "30. '2:202836281:T:G'\n",
       "31. '2:202841710:C:T'\n",
       "32. '2:202843029:A:G'\n",
       "33. '2:202843155:G:A'\n",
       "34. '2:202845053:C:G'\n",
       "35. '2:202845274:G:C'\n",
       "36. '2:202846858:T:A'\n",
       "37. '2:202848557:C:A'\n",
       "38. '2:202850696:C:T'\n",
       "39. '2:202850791:C:T'\n",
       "40. '2:202853959:T:C'\n",
       "41. '2:202854146:A:G'\n",
       "42. '2:202854305:G:A'\n",
       "43. '2:202856051:T:C'\n",
       "44. '2:202856591:C:T'\n",
       "45. '2:202857010:A:T'\n",
       "46. '2:202860954:A:G'\n",
       "47. '2:202860955:A:C'\n",
       "48. '2:202861260:T:C'\n",
       "49. '2:202861778:G:C'\n",
       "50. '2:202863724:G:A'\n",
       "51. '2:202864454:C:G'\n",
       "52. '2:202865040:G:A'\n",
       "53. '2:202869266:G:A'\n",
       "54. '2:202871528:C:G'\n",
       "55. '2:202873047:A:G'\n",
       "56. '2:202873941:G:A'\n",
       "57. '2:202875133:C:G'\n",
       "58. '2:202875247:T:G'\n",
       "59. '2:202875287:C:T'\n",
       "60. '2:202875547:A:C'\n",
       "61. '2:202877269:G:GGAAAA'\n",
       "62. '2:202879722:G:A'\n",
       "63. '2:202879731:C:T'\n",
       "64. '2:202879887:G:A'\n",
       "65. '2:202881162:T:C'\n",
       "66. '2:202882093:A:G'\n",
       "67. '2:202882799:A:G'\n",
       "68. '2:202884053:T:C'\n",
       "69. '2:202884716:T:C'\n",
       "70. '2:202885549:C:T'\n",
       "71. '2:202887209:C:G'\n",
       "72. '2:202887258:A:G'\n",
       "73. '2:202887295:G:A'\n",
       "74. '2:202888293:G:A'\n",
       "75. '2:202888349:T:C'\n",
       "76. '2:202891954:G:A'\n",
       "77. '2:202893193:A:G'\n",
       "78. '2:202893673:T:C'\n",
       "79. '2:202893798:C:A'\n",
       "80. '2:202893828:C:T'\n",
       "81. '2:202896433:TA:T'\n",
       "82. '2:202896954:G:A'\n",
       "83. '2:202898353:T:G'\n",
       "84. '2:202900086:T:A'\n",
       "85. '2:202901033:T:C'\n",
       "86. '2:202901840:T:C'\n",
       "87. '2:202904063:G:A'\n",
       "88. '2:202904389:C:T'\n",
       "89. '2:202905080:C:T'\n",
       "90. '2:202906537:G:A'\n",
       "91. '2:202906929:C:G'\n",
       "92. '2:202908514:G:A'\n",
       "93. '2:202908963:A:G'\n",
       "94. '2:202910989:G:A'\n",
       "95. '2:202913180:G:A'\n",
       "96. '2:202913477:A:T'\n",
       "97. '2:202915792:A:G'\n",
       "98. '2:202917018:G:A'\n",
       "99. '2:202918286:C:T'\n",
       "100. '2:202918761:G:A'\n",
       "101. '2:202922089:A:G'\n",
       "102. '2:202922397:A:G'\n",
       "103. '2:202922682:A:G'\n",
       "104. '2:202924227:T:C'\n",
       "105. '2:202924956:C:T'\n",
       "106. '2:202926166:T:C'\n",
       "107. '2:202926610:G:A'\n",
       "108. '2:202927189:G:A'\n",
       "109. '2:202927905:A:G'\n",
       "110. '2:202929539:T:C'\n",
       "111. '2:202929716:G:A'\n",
       "112. '2:202932091:C:G'\n",
       "113. '2:202933595:C:T'\n",
       "114. '2:202933642:TC:T'\n",
       "115. '2:202936503:T:G'\n",
       "116. '2:202940829:G:A'\n",
       "117. '2:202941714:GTTAATTTT:G'\n",
       "118. '2:202942360:A:T'\n",
       "119. '2:202944112:G:A'\n",
       "120. '2:202946905:G:A'\n",
       "121. '2:202947189:A:C'\n",
       "122. '2:202949971:A:T'\n",
       "123. '2:202951017:T:A'\n",
       "124. '2:202951771:G:A'\n",
       "125. '2:202954748:A:G'\n",
       "126. '2:202957070:T:C'\n",
       "127. '2:202958168:C:G'\n",
       "128. '2:202958677:C:T'\n",
       "129. '2:202960383:A:G'\n",
       "130. '2:202961673:G:A'\n",
       "131. '2:202962709:A:G'\n",
       "132. '2:202962757:T:C'\n",
       "133. '2:202962952:C:G'\n",
       "134. '2:202962967:T:TA'\n",
       "135. '2:202963469:G:A'\n",
       "136. '2:202964074:T:TATAA'\n",
       "137. '2:202964502:A:C'\n",
       "138. '2:202964561:A:G'\n",
       "139. '2:202965505:T:C'\n",
       "140. '2:202966128:A:G'\n",
       "141. '2:202966489:T:A'\n",
       "142. '2:202966529:A:T'\n",
       "143. '2:202967397:A:G'\n",
       "144. '2:202968295:G:A'\n",
       "145. '2:202969154:A:G'\n",
       "146. '2:202970454:A:C'\n",
       "147. '2:202971784:G:C'\n",
       "148. '2:202974238:T:C'\n",
       "149. '2:202975842:C:T'\n",
       "150. '2:202976250:G:T'\n",
       "151. '2:202977938:C:T'\n",
       "152. '2:202979757:C:T'\n",
       "153. '2:202981105:A:G'\n",
       "154. '2:202981273:T:C'\n",
       "155. '2:202982094:A:T'\n",
       "156. '2:202982659:G:A'\n",
       "157. '2:202982694:A:G'\n",
       "158. '2:202983679:G:A'\n",
       "159. '2:202985288:C:G'\n",
       "160. '2:202986615:CAGTT:C'\n",
       "161. '2:202990619:C:T'\n",
       "162. '2:202994668:T:C'\n",
       "163. '2:202996390:T:G'\n",
       "164. '2:202997187:G:A'\n",
       "165. '2:203000792:T:C'\n",
       "166. '2:203001613:T:C'\n",
       "167. '2:203002134:A:G'\n",
       "168. '2:203005124:C:T'\n",
       "169. '2:203009020:G:A'\n",
       "170. '2:203012510:C:T'\n",
       "171. '2:203016111:G:A'\n",
       "172. '2:203016269:T:C'\n",
       "173. '2:203018470:C:G'\n",
       "174. '2:203019585:A:C'\n",
       "175. '2:203028044:T:C'\n",
       "176. '2:203029276:C:A'\n",
       "177. '2:203033223:A:G'\n",
       "178. '2:203039582:T:C'\n",
       "179. '2:203039583:G:A'\n",
       "180. '2:203051764:T:G'\n",
       "181. '2:203060637:G:A'\n",
       "182. '2:203061548:A:G'\n",
       "183. '2:203062864:T:C'\n",
       "184. '2:203067453:A:G'\n",
       "185. '2:203068616:A:G'\n",
       "186. '2:203073185:T:A'\n",
       "187. '2:203074917:A:G'\n",
       "188. '2:203078445:A:G'\n",
       "189. '2:203087336:C:G'\n",
       "190. '2:203102474:A:G'\n",
       "191. '2:203104781:G:A'\n",
       "192. '2:203111235:G:T'\n",
       "193. '2:203115310:G:A'\n",
       "194. '2:203119217:C:A'\n",
       "195. '2:203123083:C:G'\n",
       "196. '2:203126066:T:G'\n",
       "197. '2:203130682:G:A'\n",
       "198. '2:203140349:A:G'\n",
       "199. '2:203144334:T:G'\n",
       "200. '2:203151249:T:C'\n",
       "201. '2:203162978:G:A'\n",
       "202. '2:203166414:G:A'\n",
       "203. '2:203189418:C:T'\n",
       "204. '2:203191955:T:C'\n",
       "205. '2:203200116:C:T'\n",
       "206. '2:203206233:A:G'\n",
       "207. '2:203216952:C:T'\n",
       "208. '2:203256422:C:G'\n",
       "209. '2:203262597:AAC:A'\n",
       "210. '2:203289954:A:T'\n",
       "211. '2:203293652:G:A'\n",
       "212. '2:203331895:C:T'\n",
       "213. '5:151052827:C:T'\n",
       "214. '7:7648209:G:A'\n",
       "215. '7:7648912:A:G'\n",
       "216. '7:7649522:G:A'\n",
       "217. '7:7650736:C:T'\n",
       "218. '7:7651545:C:T'\n",
       "219. '7:7652852:G:T'\n",
       "220. '7:7655552:T:C'\n",
       "221. '7:7656483:C:G'\n",
       "222. '7:7657263:GC:G'\n",
       "223. '7:7657549:A:G'\n",
       "224. '11:46936748:G:T'\n",
       "225. '11:46955857:C:T'\n",
       "226. '11:46960612:A:G'\n",
       "227. '11:46961687:A:G'\n",
       "228. '11:46991890:G:A'\n",
       "229. '11:47015399:G:A'\n",
       "230. '11:47078316:C:T'\n",
       "231. '11:47098515:T:C'\n",
       "232. '11:47146703:A:G'\n",
       "233. '11:47215808:C:T'\n",
       "234. '16:86990806:G:C'\n",
       "235. '16:86991057:G:A'\n",
       "236. '16:86991387:C:G'\n",
       "237. '16:86992857:C:T'\n",
       "238. '16:86992887:T:A'\n",
       "239. '16:86993180:A:C'\n",
       "240. '16:86993453:A:G'\n",
       "241. '16:86993498:A:C'\n",
       "242. '16:86993749:A:G'\n",
       "243. '16:86994111:G:A'\n",
       "244. '16:86994166:C:T'\n",
       "245. '16:86994242:A:T'\n",
       "246. '16:86994254:T:C'\n",
       "247. '16:86996608:T:C'\n",
       "248. '16:86996613:C:G'\n",
       "249. '16:86996739:A:G'\n",
       "250. '16:86996784:G:A'\n",
       "251. '16:86996955:C:T'\n",
       "252. '16:86997087:T:C'\n",
       "253. '16:86997178:T:A'\n",
       "254. '16:86997199:C:T'\n",
       "255. '16:86997450:C:A'\n",
       "256. '16:86997509:C:T'\n",
       "257. '16:86997697:T:C'\n",
       "258. '16:86997698:A:G'\n",
       "259. '16:86997703:C:A'\n",
       "260. '16:86997745:A:G'\n",
       "261. '16:86997930:A:G'\n",
       "262. '16:86998179:C:T'\n",
       "263. '16:86998192:T:C'\n",
       "264. '16:86998464:C:T'\n",
       "265. '16:86998921:T:C'\n",
       "266. '16:86999799:C:T'\n",
       "\n",
       "\n"
      ],
      "text/plain": [
       "  [1] \"2:202799252:C:T\"         \"2:202800206:C:G\"        \n",
       "  [3] \"2:202802803:G:T\"         \"2:202807683:C:T\"        \n",
       "  [5] \"2:202808349:A:C\"         \"2:202808840:A:T\"        \n",
       "  [7] \"2:202809565:G:A\"         \"2:202811382:C:T\"        \n",
       "  [9] \"2:202813935:A:T\"         \"2:202814460:C:T\"        \n",
       " [11] \"2:202814583:T:C\"         \"2:202816231:T:C\"        \n",
       " [13] \"2:202817581:C:G\"         \"2:202819267:A:G\"        \n",
       " [15] \"2:202820396:A:G\"         \"2:202821005:C:T\"        \n",
       " [17] \"2:202823577:A:T\"         \"2:202825191:A:G\"        \n",
       " [19] \"2:202825324:T:G\"         \"2:202828037:A:G\"        \n",
       " [21] \"2:202829191:A:C\"         \"2:202831103:G:C\"        \n",
       " [23] \"2:202832369:C:A\"         \"2:202833084:GA:G\"       \n",
       " [25] \"2:202833577:C:T\"         \"2:202833747:A:G\"        \n",
       " [27] \"2:202834014:T:C\"         \"2:202834656:C:T\"        \n",
       " [29] \"2:202836147:C:T\"         \"2:202836281:T:G\"        \n",
       " [31] \"2:202841710:C:T\"         \"2:202843029:A:G\"        \n",
       " [33] \"2:202843155:G:A\"         \"2:202845053:C:G\"        \n",
       " [35] \"2:202845274:G:C\"         \"2:202846858:T:A\"        \n",
       " [37] \"2:202848557:C:A\"         \"2:202850696:C:T\"        \n",
       " [39] \"2:202850791:C:T\"         \"2:202853959:T:C\"        \n",
       " [41] \"2:202854146:A:G\"         \"2:202854305:G:A\"        \n",
       " [43] \"2:202856051:T:C\"         \"2:202856591:C:T\"        \n",
       " [45] \"2:202857010:A:T\"         \"2:202860954:A:G\"        \n",
       " [47] \"2:202860955:A:C\"         \"2:202861260:T:C\"        \n",
       " [49] \"2:202861778:G:C\"         \"2:202863724:G:A\"        \n",
       " [51] \"2:202864454:C:G\"         \"2:202865040:G:A\"        \n",
       " [53] \"2:202869266:G:A\"         \"2:202871528:C:G\"        \n",
       " [55] \"2:202873047:A:G\"         \"2:202873941:G:A\"        \n",
       " [57] \"2:202875133:C:G\"         \"2:202875247:T:G\"        \n",
       " [59] \"2:202875287:C:T\"         \"2:202875547:A:C\"        \n",
       " [61] \"2:202877269:G:GGAAAA\"    \"2:202879722:G:A\"        \n",
       " [63] \"2:202879731:C:T\"         \"2:202879887:G:A\"        \n",
       " [65] \"2:202881162:T:C\"         \"2:202882093:A:G\"        \n",
       " [67] \"2:202882799:A:G\"         \"2:202884053:T:C\"        \n",
       " [69] \"2:202884716:T:C\"         \"2:202885549:C:T\"        \n",
       " [71] \"2:202887209:C:G\"         \"2:202887258:A:G\"        \n",
       " [73] \"2:202887295:G:A\"         \"2:202888293:G:A\"        \n",
       " [75] \"2:202888349:T:C\"         \"2:202891954:G:A\"        \n",
       " [77] \"2:202893193:A:G\"         \"2:202893673:T:C\"        \n",
       " [79] \"2:202893798:C:A\"         \"2:202893828:C:T\"        \n",
       " [81] \"2:202896433:TA:T\"        \"2:202896954:G:A\"        \n",
       " [83] \"2:202898353:T:G\"         \"2:202900086:T:A\"        \n",
       " [85] \"2:202901033:T:C\"         \"2:202901840:T:C\"        \n",
       " [87] \"2:202904063:G:A\"         \"2:202904389:C:T\"        \n",
       " [89] \"2:202905080:C:T\"         \"2:202906537:G:A\"        \n",
       " [91] \"2:202906929:C:G\"         \"2:202908514:G:A\"        \n",
       " [93] \"2:202908963:A:G\"         \"2:202910989:G:A\"        \n",
       " [95] \"2:202913180:G:A\"         \"2:202913477:A:T\"        \n",
       " [97] \"2:202915792:A:G\"         \"2:202917018:G:A\"        \n",
       " [99] \"2:202918286:C:T\"         \"2:202918761:G:A\"        \n",
       "[101] \"2:202922089:A:G\"         \"2:202922397:A:G\"        \n",
       "[103] \"2:202922682:A:G\"         \"2:202924227:T:C\"        \n",
       "[105] \"2:202924956:C:T\"         \"2:202926166:T:C\"        \n",
       "[107] \"2:202926610:G:A\"         \"2:202927189:G:A\"        \n",
       "[109] \"2:202927905:A:G\"         \"2:202929539:T:C\"        \n",
       "[111] \"2:202929716:G:A\"         \"2:202932091:C:G\"        \n",
       "[113] \"2:202933595:C:T\"         \"2:202933642:TC:T\"       \n",
       "[115] \"2:202936503:T:G\"         \"2:202940829:G:A\"        \n",
       "[117] \"2:202941714:GTTAATTTT:G\" \"2:202942360:A:T\"        \n",
       "[119] \"2:202944112:G:A\"         \"2:202946905:G:A\"        \n",
       "[121] \"2:202947189:A:C\"         \"2:202949971:A:T\"        \n",
       "[123] \"2:202951017:T:A\"         \"2:202951771:G:A\"        \n",
       "[125] \"2:202954748:A:G\"         \"2:202957070:T:C\"        \n",
       "[127] \"2:202958168:C:G\"         \"2:202958677:C:T\"        \n",
       "[129] \"2:202960383:A:G\"         \"2:202961673:G:A\"        \n",
       "[131] \"2:202962709:A:G\"         \"2:202962757:T:C\"        \n",
       "[133] \"2:202962952:C:G\"         \"2:202962967:T:TA\"       \n",
       "[135] \"2:202963469:G:A\"         \"2:202964074:T:TATAA\"    \n",
       "[137] \"2:202964502:A:C\"         \"2:202964561:A:G\"        \n",
       "[139] \"2:202965505:T:C\"         \"2:202966128:A:G\"        \n",
       "[141] \"2:202966489:T:A\"         \"2:202966529:A:T\"        \n",
       "[143] \"2:202967397:A:G\"         \"2:202968295:G:A\"        \n",
       "[145] \"2:202969154:A:G\"         \"2:202970454:A:C\"        \n",
       "[147] \"2:202971784:G:C\"         \"2:202974238:T:C\"        \n",
       "[149] \"2:202975842:C:T\"         \"2:202976250:G:T\"        \n",
       "[151] \"2:202977938:C:T\"         \"2:202979757:C:T\"        \n",
       "[153] \"2:202981105:A:G\"         \"2:202981273:T:C\"        \n",
       "[155] \"2:202982094:A:T\"         \"2:202982659:G:A\"        \n",
       "[157] \"2:202982694:A:G\"         \"2:202983679:G:A\"        \n",
       "[159] \"2:202985288:C:G\"         \"2:202986615:CAGTT:C\"    \n",
       "[161] \"2:202990619:C:T\"         \"2:202994668:T:C\"        \n",
       "[163] \"2:202996390:T:G\"         \"2:202997187:G:A\"        \n",
       "[165] \"2:203000792:T:C\"         \"2:203001613:T:C\"        \n",
       "[167] \"2:203002134:A:G\"         \"2:203005124:C:T\"        \n",
       "[169] \"2:203009020:G:A\"         \"2:203012510:C:T\"        \n",
       "[171] \"2:203016111:G:A\"         \"2:203016269:T:C\"        \n",
       "[173] \"2:203018470:C:G\"         \"2:203019585:A:C\"        \n",
       "[175] \"2:203028044:T:C\"         \"2:203029276:C:A\"        \n",
       "[177] \"2:203033223:A:G\"         \"2:203039582:T:C\"        \n",
       "[179] \"2:203039583:G:A\"         \"2:203051764:T:G\"        \n",
       "[181] \"2:203060637:G:A\"         \"2:203061548:A:G\"        \n",
       "[183] \"2:203062864:T:C\"         \"2:203067453:A:G\"        \n",
       "[185] \"2:203068616:A:G\"         \"2:203073185:T:A\"        \n",
       "[187] \"2:203074917:A:G\"         \"2:203078445:A:G\"        \n",
       "[189] \"2:203087336:C:G\"         \"2:203102474:A:G\"        \n",
       "[191] \"2:203104781:G:A\"         \"2:203111235:G:T\"        \n",
       "[193] \"2:203115310:G:A\"         \"2:203119217:C:A\"        \n",
       "[195] \"2:203123083:C:G\"         \"2:203126066:T:G\"        \n",
       "[197] \"2:203130682:G:A\"         \"2:203140349:A:G\"        \n",
       "[199] \"2:203144334:T:G\"         \"2:203151249:T:C\"        \n",
       "[201] \"2:203162978:G:A\"         \"2:203166414:G:A\"        \n",
       "[203] \"2:203189418:C:T\"         \"2:203191955:T:C\"        \n",
       "[205] \"2:203200116:C:T\"         \"2:203206233:A:G\"        \n",
       "[207] \"2:203216952:C:T\"         \"2:203256422:C:G\"        \n",
       "[209] \"2:203262597:AAC:A\"       \"2:203289954:A:T\"        \n",
       "[211] \"2:203293652:G:A\"         \"2:203331895:C:T\"        \n",
       "[213] \"5:151052827:C:T\"         \"7:7648209:G:A\"          \n",
       "[215] \"7:7648912:A:G\"           \"7:7649522:G:A\"          \n",
       "[217] \"7:7650736:C:T\"           \"7:7651545:C:T\"          \n",
       "[219] \"7:7652852:G:T\"           \"7:7655552:T:C\"          \n",
       "[221] \"7:7656483:C:G\"           \"7:7657263:GC:G\"         \n",
       "[223] \"7:7657549:A:G\"           \"11:46936748:G:T\"        \n",
       "[225] \"11:46955857:C:T\"         \"11:46960612:A:G\"        \n",
       "[227] \"11:46961687:A:G\"         \"11:46991890:G:A\"        \n",
       "[229] \"11:47015399:G:A\"         \"11:47078316:C:T\"        \n",
       "[231] \"11:47098515:T:C\"         \"11:47146703:A:G\"        \n",
       "[233] \"11:47215808:C:T\"         \"16:86990806:G:C\"        \n",
       "[235] \"16:86991057:G:A\"         \"16:86991387:C:G\"        \n",
       "[237] \"16:86992857:C:T\"         \"16:86992887:T:A\"        \n",
       "[239] \"16:86993180:A:C\"         \"16:86993453:A:G\"        \n",
       "[241] \"16:86993498:A:C\"         \"16:86993749:A:G\"        \n",
       "[243] \"16:86994111:G:A\"         \"16:86994166:C:T\"        \n",
       "[245] \"16:86994242:A:T\"         \"16:86994254:T:C\"        \n",
       "[247] \"16:86996608:T:C\"         \"16:86996613:C:G\"        \n",
       "[249] \"16:86996739:A:G\"         \"16:86996784:G:A\"        \n",
       "[251] \"16:86996955:C:T\"         \"16:86997087:T:C\"        \n",
       "[253] \"16:86997178:T:A\"         \"16:86997199:C:T\"        \n",
       "[255] \"16:86997450:C:A\"         \"16:86997509:C:T\"        \n",
       "[257] \"16:86997697:T:C\"         \"16:86997698:A:G\"        \n",
       "[259] \"16:86997703:C:A\"         \"16:86997745:A:G\"        \n",
       "[261] \"16:86997930:A:G\"         \"16:86998179:C:T\"        \n",
       "[263] \"16:86998192:T:C\"         \"16:86998464:C:T\"        \n",
       "[265] \"16:86998921:T:C\"         \"16:86999799:C:T\"        "
      ]
     },
     "metadata": {},
     "output_type": "display_data"
    }
   ],
   "source": [
    "variants"
   ]
  },
  {
   "cell_type": "code",
   "execution_count": 22,
   "metadata": {
    "vscode": {
     "languageId": "r"
    }
   },
   "outputs": [
    {
     "data": {
      "text/html": [
       "<table class=\"dataframe\">\n",
       "<caption>A data.table: 10 × 16</caption>\n",
       "<thead>\n",
       "\t<tr><th scope=col>chr</th><th scope=col>pos</th><th scope=col>a1</th><th scope=col>a2</th><th scope=col>variant_ID</th><th scope=col>gene_ID</th><th scope=col>event_ID</th><th scope=col>cs_coverage_0.95</th><th scope=col>cs_coverage_0.7</th><th scope=col>cs_coverage_0.5</th><th scope=col>cs_coverage_0.95_purity0.5</th><th scope=col>cs_coverage_0.7_purity0.5</th><th scope=col>cs_coverage_0.5_purity0.5</th><th scope=col>PIP</th><th scope=col>region_id</th><th scope=col>finemap_model</th></tr>\n",
       "\t<tr><th scope=col>&lt;int&gt;</th><th scope=col>&lt;int&gt;</th><th scope=col>&lt;chr&gt;</th><th scope=col>&lt;chr&gt;</th><th scope=col>&lt;chr&gt;</th><th scope=col>&lt;chr&gt;</th><th scope=col>&lt;chr&gt;</th><th scope=col>&lt;int&gt;</th><th scope=col>&lt;int&gt;</th><th scope=col>&lt;int&gt;</th><th scope=col>&lt;lgl&gt;</th><th scope=col>&lt;lgl&gt;</th><th scope=col>&lt;lgl&gt;</th><th scope=col>&lt;dbl&gt;</th><th scope=col>&lt;chr&gt;</th><th scope=col>&lt;chr&gt;</th></tr>\n",
       "</thead>\n",
       "<tbody>\n",
       "\t<tr><td>11</td><td>46936748</td><td>T</td><td>G</td><td>11:46936748:G:T</td><td>chr11_46916060_49936088</td><td>image_AD2</td><td>1</td><td>1</td><td>1</td><td>NA</td><td>NA</td><td>NA</td><td>0.10404344</td><td>chr11_46916060_49936088</td><td>single_effect_NO_QC</td></tr>\n",
       "\t<tr><td>11</td><td>46955857</td><td>T</td><td>C</td><td>11:46955857:C:T</td><td>chr11_46916060_49936088</td><td>image_AD2</td><td>1</td><td>1</td><td>1</td><td>NA</td><td>NA</td><td>NA</td><td>0.09062421</td><td>chr11_46916060_49936088</td><td>single_effect_NO_QC</td></tr>\n",
       "\t<tr><td>11</td><td>46960612</td><td>G</td><td>A</td><td>11:46960612:A:G</td><td>chr11_46916060_49936088</td><td>image_AD2</td><td>1</td><td>1</td><td>1</td><td>NA</td><td>NA</td><td>NA</td><td>0.08918159</td><td>chr11_46916060_49936088</td><td>single_effect_NO_QC</td></tr>\n",
       "\t<tr><td>11</td><td>46961687</td><td>G</td><td>A</td><td>11:46961687:A:G</td><td>chr11_46916060_49936088</td><td>image_AD2</td><td>1</td><td>1</td><td>0</td><td>NA</td><td>NA</td><td>NA</td><td>0.08918159</td><td>chr11_46916060_49936088</td><td>single_effect_NO_QC</td></tr>\n",
       "\t<tr><td>11</td><td>46991890</td><td>A</td><td>G</td><td>11:46991890:G:A</td><td>chr11_46916060_49936088</td><td>image_AD2</td><td>1</td><td>1</td><td>0</td><td>NA</td><td>NA</td><td>NA</td><td>0.08748880</td><td>chr11_46916060_49936088</td><td>single_effect_NO_QC</td></tr>\n",
       "\t<tr><td>11</td><td>47015399</td><td>A</td><td>G</td><td>11:47015399:G:A</td><td>chr11_46916060_49936088</td><td>image_AD2</td><td>1</td><td>0</td><td>0</td><td>NA</td><td>NA</td><td>NA</td><td>0.08249851</td><td>chr11_46916060_49936088</td><td>single_effect_NO_QC</td></tr>\n",
       "\t<tr><td>11</td><td>47078316</td><td>T</td><td>C</td><td>11:47078316:C:T</td><td>chr11_46916060_49936088</td><td>image_AD2</td><td>1</td><td>1</td><td>1</td><td>NA</td><td>NA</td><td>NA</td><td>0.12413455</td><td>chr11_46916060_49936088</td><td>single_effect_NO_QC</td></tr>\n",
       "\t<tr><td>11</td><td>47098515</td><td>C</td><td>T</td><td>11:47098515:T:C</td><td>chr11_46916060_49936088</td><td>image_AD2</td><td>1</td><td>0</td><td>0</td><td>NA</td><td>NA</td><td>NA</td><td>0.08729426</td><td>chr11_46916060_49936088</td><td>single_effect_NO_QC</td></tr>\n",
       "\t<tr><td>11</td><td>47146703</td><td>G</td><td>A</td><td>11:47146703:A:G</td><td>chr11_46916060_49936088</td><td>image_AD2</td><td>1</td><td>1</td><td>1</td><td>NA</td><td>NA</td><td>NA</td><td>0.12781061</td><td>chr11_46916060_49936088</td><td>single_effect_NO_QC</td></tr>\n",
       "\t<tr><td>11</td><td>47215808</td><td>T</td><td>C</td><td>11:47215808:C:T</td><td>chr11_46916060_49936088</td><td>image_AD2</td><td>1</td><td>0</td><td>0</td><td>NA</td><td>NA</td><td>NA</td><td>0.06800896</td><td>chr11_46916060_49936088</td><td>single_effect_NO_QC</td></tr>\n",
       "</tbody>\n",
       "</table>\n"
      ],
      "text/latex": [
       "A data.table: 10 × 16\n",
       "\\begin{tabular}{llllllllllllllll}\n",
       " chr & pos & a1 & a2 & variant\\_ID & gene\\_ID & event\\_ID & cs\\_coverage\\_0.95 & cs\\_coverage\\_0.7 & cs\\_coverage\\_0.5 & cs\\_coverage\\_0.95\\_purity0.5 & cs\\_coverage\\_0.7\\_purity0.5 & cs\\_coverage\\_0.5\\_purity0.5 & PIP & region\\_id & finemap\\_model\\\\\n",
       " <int> & <int> & <chr> & <chr> & <chr> & <chr> & <chr> & <int> & <int> & <int> & <lgl> & <lgl> & <lgl> & <dbl> & <chr> & <chr>\\\\\n",
       "\\hline\n",
       "\t 11 & 46936748 & T & G & 11:46936748:G:T & chr11\\_46916060\\_49936088 & image\\_AD2 & 1 & 1 & 1 & NA & NA & NA & 0.10404344 & chr11\\_46916060\\_49936088 & single\\_effect\\_NO\\_QC\\\\\n",
       "\t 11 & 46955857 & T & C & 11:46955857:C:T & chr11\\_46916060\\_49936088 & image\\_AD2 & 1 & 1 & 1 & NA & NA & NA & 0.09062421 & chr11\\_46916060\\_49936088 & single\\_effect\\_NO\\_QC\\\\\n",
       "\t 11 & 46960612 & G & A & 11:46960612:A:G & chr11\\_46916060\\_49936088 & image\\_AD2 & 1 & 1 & 1 & NA & NA & NA & 0.08918159 & chr11\\_46916060\\_49936088 & single\\_effect\\_NO\\_QC\\\\\n",
       "\t 11 & 46961687 & G & A & 11:46961687:A:G & chr11\\_46916060\\_49936088 & image\\_AD2 & 1 & 1 & 0 & NA & NA & NA & 0.08918159 & chr11\\_46916060\\_49936088 & single\\_effect\\_NO\\_QC\\\\\n",
       "\t 11 & 46991890 & A & G & 11:46991890:G:A & chr11\\_46916060\\_49936088 & image\\_AD2 & 1 & 1 & 0 & NA & NA & NA & 0.08748880 & chr11\\_46916060\\_49936088 & single\\_effect\\_NO\\_QC\\\\\n",
       "\t 11 & 47015399 & A & G & 11:47015399:G:A & chr11\\_46916060\\_49936088 & image\\_AD2 & 1 & 0 & 0 & NA & NA & NA & 0.08249851 & chr11\\_46916060\\_49936088 & single\\_effect\\_NO\\_QC\\\\\n",
       "\t 11 & 47078316 & T & C & 11:47078316:C:T & chr11\\_46916060\\_49936088 & image\\_AD2 & 1 & 1 & 1 & NA & NA & NA & 0.12413455 & chr11\\_46916060\\_49936088 & single\\_effect\\_NO\\_QC\\\\\n",
       "\t 11 & 47098515 & C & T & 11:47098515:T:C & chr11\\_46916060\\_49936088 & image\\_AD2 & 1 & 0 & 0 & NA & NA & NA & 0.08729426 & chr11\\_46916060\\_49936088 & single\\_effect\\_NO\\_QC\\\\\n",
       "\t 11 & 47146703 & G & A & 11:47146703:A:G & chr11\\_46916060\\_49936088 & image\\_AD2 & 1 & 1 & 1 & NA & NA & NA & 0.12781061 & chr11\\_46916060\\_49936088 & single\\_effect\\_NO\\_QC\\\\\n",
       "\t 11 & 47215808 & T & C & 11:47215808:C:T & chr11\\_46916060\\_49936088 & image\\_AD2 & 1 & 0 & 0 & NA & NA & NA & 0.06800896 & chr11\\_46916060\\_49936088 & single\\_effect\\_NO\\_QC\\\\\n",
       "\\end{tabular}\n"
      ],
      "text/markdown": [
       "\n",
       "A data.table: 10 × 16\n",
       "\n",
       "| chr &lt;int&gt; | pos &lt;int&gt; | a1 &lt;chr&gt; | a2 &lt;chr&gt; | variant_ID &lt;chr&gt; | gene_ID &lt;chr&gt; | event_ID &lt;chr&gt; | cs_coverage_0.95 &lt;int&gt; | cs_coverage_0.7 &lt;int&gt; | cs_coverage_0.5 &lt;int&gt; | cs_coverage_0.95_purity0.5 &lt;lgl&gt; | cs_coverage_0.7_purity0.5 &lt;lgl&gt; | cs_coverage_0.5_purity0.5 &lt;lgl&gt; | PIP &lt;dbl&gt; | region_id &lt;chr&gt; | finemap_model &lt;chr&gt; |\n",
       "|---|---|---|---|---|---|---|---|---|---|---|---|---|---|---|---|\n",
       "| 11 | 46936748 | T | G | 11:46936748:G:T | chr11_46916060_49936088 | image_AD2 | 1 | 1 | 1 | NA | NA | NA | 0.10404344 | chr11_46916060_49936088 | single_effect_NO_QC |\n",
       "| 11 | 46955857 | T | C | 11:46955857:C:T | chr11_46916060_49936088 | image_AD2 | 1 | 1 | 1 | NA | NA | NA | 0.09062421 | chr11_46916060_49936088 | single_effect_NO_QC |\n",
       "| 11 | 46960612 | G | A | 11:46960612:A:G | chr11_46916060_49936088 | image_AD2 | 1 | 1 | 1 | NA | NA | NA | 0.08918159 | chr11_46916060_49936088 | single_effect_NO_QC |\n",
       "| 11 | 46961687 | G | A | 11:46961687:A:G | chr11_46916060_49936088 | image_AD2 | 1 | 1 | 0 | NA | NA | NA | 0.08918159 | chr11_46916060_49936088 | single_effect_NO_QC |\n",
       "| 11 | 46991890 | A | G | 11:46991890:G:A | chr11_46916060_49936088 | image_AD2 | 1 | 1 | 0 | NA | NA | NA | 0.08748880 | chr11_46916060_49936088 | single_effect_NO_QC |\n",
       "| 11 | 47015399 | A | G | 11:47015399:G:A | chr11_46916060_49936088 | image_AD2 | 1 | 0 | 0 | NA | NA | NA | 0.08249851 | chr11_46916060_49936088 | single_effect_NO_QC |\n",
       "| 11 | 47078316 | T | C | 11:47078316:C:T | chr11_46916060_49936088 | image_AD2 | 1 | 1 | 1 | NA | NA | NA | 0.12413455 | chr11_46916060_49936088 | single_effect_NO_QC |\n",
       "| 11 | 47098515 | C | T | 11:47098515:T:C | chr11_46916060_49936088 | image_AD2 | 1 | 0 | 0 | NA | NA | NA | 0.08729426 | chr11_46916060_49936088 | single_effect_NO_QC |\n",
       "| 11 | 47146703 | G | A | 11:47146703:A:G | chr11_46916060_49936088 | image_AD2 | 1 | 1 | 1 | NA | NA | NA | 0.12781061 | chr11_46916060_49936088 | single_effect_NO_QC |\n",
       "| 11 | 47215808 | T | C | 11:47215808:C:T | chr11_46916060_49936088 | image_AD2 | 1 | 0 | 0 | NA | NA | NA | 0.06800896 | chr11_46916060_49936088 | single_effect_NO_QC |\n",
       "\n"
      ],
      "text/plain": [
       "   chr pos      a1 a2 variant_ID      gene_ID                 event_ID \n",
       "1  11  46936748 T  G  11:46936748:G:T chr11_46916060_49936088 image_AD2\n",
       "2  11  46955857 T  C  11:46955857:C:T chr11_46916060_49936088 image_AD2\n",
       "3  11  46960612 G  A  11:46960612:A:G chr11_46916060_49936088 image_AD2\n",
       "4  11  46961687 G  A  11:46961687:A:G chr11_46916060_49936088 image_AD2\n",
       "5  11  46991890 A  G  11:46991890:G:A chr11_46916060_49936088 image_AD2\n",
       "6  11  47015399 A  G  11:47015399:G:A chr11_46916060_49936088 image_AD2\n",
       "7  11  47078316 T  C  11:47078316:C:T chr11_46916060_49936088 image_AD2\n",
       "8  11  47098515 C  T  11:47098515:T:C chr11_46916060_49936088 image_AD2\n",
       "9  11  47146703 G  A  11:47146703:A:G chr11_46916060_49936088 image_AD2\n",
       "10 11  47215808 T  C  11:47215808:C:T chr11_46916060_49936088 image_AD2\n",
       "   cs_coverage_0.95 cs_coverage_0.7 cs_coverage_0.5 cs_coverage_0.95_purity0.5\n",
       "1  1                1               1               NA                        \n",
       "2  1                1               1               NA                        \n",
       "3  1                1               1               NA                        \n",
       "4  1                1               0               NA                        \n",
       "5  1                1               0               NA                        \n",
       "6  1                0               0               NA                        \n",
       "7  1                1               1               NA                        \n",
       "8  1                0               0               NA                        \n",
       "9  1                1               1               NA                        \n",
       "10 1                0               0               NA                        \n",
       "   cs_coverage_0.7_purity0.5 cs_coverage_0.5_purity0.5 PIP       \n",
       "1  NA                        NA                        0.10404344\n",
       "2  NA                        NA                        0.09062421\n",
       "3  NA                        NA                        0.08918159\n",
       "4  NA                        NA                        0.08918159\n",
       "5  NA                        NA                        0.08748880\n",
       "6  NA                        NA                        0.08249851\n",
       "7  NA                        NA                        0.12413455\n",
       "8  NA                        NA                        0.08729426\n",
       "9  NA                        NA                        0.12781061\n",
       "10 NA                        NA                        0.06800896\n",
       "   region_id               finemap_model      \n",
       "1  chr11_46916060_49936088 single_effect_NO_QC\n",
       "2  chr11_46916060_49936088 single_effect_NO_QC\n",
       "3  chr11_46916060_49936088 single_effect_NO_QC\n",
       "4  chr11_46916060_49936088 single_effect_NO_QC\n",
       "5  chr11_46916060_49936088 single_effect_NO_QC\n",
       "6  chr11_46916060_49936088 single_effect_NO_QC\n",
       "7  chr11_46916060_49936088 single_effect_NO_QC\n",
       "8  chr11_46916060_49936088 single_effect_NO_QC\n",
       "9  chr11_46916060_49936088 single_effect_NO_QC\n",
       "10 chr11_46916060_49936088 single_effect_NO_QC"
      ]
     },
     "metadata": {},
     "output_type": "display_data"
    }
   ],
   "source": [
    "top_loci_0.95_image |> filter(variant_ID %in% variants & str_detect(event_ID, \"AD\"))"
   ]
  },
  {
   "cell_type": "code",
   "execution_count": 26,
   "metadata": {
    "vscode": {
     "languageId": "r"
    }
   },
   "outputs": [
    {
     "name": "stderr",
     "output_type": "stream",
     "text": [
      "\u001b[1m\u001b[22m`summarise()` has grouped output by 'event_ID'. You can override using the\n",
      "`.groups` argument.\n"
     ]
    },
    {
     "data": {
      "text/html": [
       "<table class=\"dataframe\">\n",
       "<caption>A grouped_df: 5 × 3</caption>\n",
       "<thead>\n",
       "\t<tr><th scope=col>event_ID</th><th scope=col>region_id</th><th scope=col>n</th></tr>\n",
       "\t<tr><th scope=col>&lt;chr&gt;</th><th scope=col>&lt;chr&gt;</th><th scope=col>&lt;int&gt;</th></tr>\n",
       "</thead>\n",
       "<tbody>\n",
       "\t<tr><td>image_Aging5</td><td>chr2_201677542_203951659</td><td>212</td></tr>\n",
       "\t<tr><td>image_Aging5</td><td>chr16_86782214_88382277 </td><td> 33</td></tr>\n",
       "\t<tr><td>image_AD2   </td><td>chr11_46916060_49936088 </td><td> 10</td></tr>\n",
       "\t<tr><td>image_Aging2</td><td>chr7_6928965_7769511    </td><td> 10</td></tr>\n",
       "\t<tr><td>image_Aging2</td><td>chr5_149895776_152257891</td><td>  1</td></tr>\n",
       "</tbody>\n",
       "</table>\n"
      ],
      "text/latex": [
       "A grouped\\_df: 5 × 3\n",
       "\\begin{tabular}{lll}\n",
       " event\\_ID & region\\_id & n\\\\\n",
       " <chr> & <chr> & <int>\\\\\n",
       "\\hline\n",
       "\t image\\_Aging5 & chr2\\_201677542\\_203951659 & 212\\\\\n",
       "\t image\\_Aging5 & chr16\\_86782214\\_88382277  &  33\\\\\n",
       "\t image\\_AD2    & chr11\\_46916060\\_49936088  &  10\\\\\n",
       "\t image\\_Aging2 & chr7\\_6928965\\_7769511     &  10\\\\\n",
       "\t image\\_Aging2 & chr5\\_149895776\\_152257891 &   1\\\\\n",
       "\\end{tabular}\n"
      ],
      "text/markdown": [
       "\n",
       "A grouped_df: 5 × 3\n",
       "\n",
       "| event_ID &lt;chr&gt; | region_id &lt;chr&gt; | n &lt;int&gt; |\n",
       "|---|---|---|\n",
       "| image_Aging5 | chr2_201677542_203951659 | 212 |\n",
       "| image_Aging5 | chr16_86782214_88382277  |  33 |\n",
       "| image_AD2    | chr11_46916060_49936088  |  10 |\n",
       "| image_Aging2 | chr7_6928965_7769511     |  10 |\n",
       "| image_Aging2 | chr5_149895776_152257891 |   1 |\n",
       "\n"
      ],
      "text/plain": [
       "  event_ID     region_id                n  \n",
       "1 image_Aging5 chr2_201677542_203951659 212\n",
       "2 image_Aging5 chr16_86782214_88382277   33\n",
       "3 image_AD2    chr11_46916060_49936088   10\n",
       "4 image_Aging2 chr7_6928965_7769511      10\n",
       "5 image_Aging2 chr5_149895776_152257891   1"
      ]
     },
     "metadata": {},
     "output_type": "display_data"
    },
    {
     "data": {
      "text/plain": [
       "\n",
       "   image_AD2 image_Aging2 image_Aging5 \n",
       "          10           11          245 "
      ]
     },
     "metadata": {},
     "output_type": "display_data"
    }
   ],
   "source": [
    "identified_variants = top_loci_0.95_image |> filter(variant_ID %in% variants)\n",
    "identified_variants |> group_by(event_ID, region_id) |> summarise(n = n()) |> arrange(desc(n))\n",
    "table(identified_variants$event_ID)"
   ]
  },
  {
   "cell_type": "code",
   "execution_count": null,
   "metadata": {
    "vscode": {
     "languageId": "r"
    }
   },
   "outputs": [],
   "source": []
  }
 ],
 "metadata": {
  "kernelspec": {
   "display_name": "R",
   "language": "R",
   "name": "ir"
  },
  "language_info": {
   "codemirror_mode": "r",
   "file_extension": ".r",
   "mimetype": "text/x-r-source",
   "name": "R",
   "pygments_lexer": "r",
   "version": "4.4.3"
  }
 },
 "nbformat": 4,
 "nbformat_minor": 4
}
